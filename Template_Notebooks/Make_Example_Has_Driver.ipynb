{
 "cells": [
  {
   "cell_type": "code",
   "execution_count": 4,
   "metadata": {},
   "outputs": [],
   "source": [
    "import pandas as pd\n",
    "import numpy as np\n",
    "import seaborn as sns\n",
    "import matplotlib.pyplot as plt\n",
    "import scipy.stats\n",
    "import re\n",
    "import sys \n",
    "\n",
    "import cptac\n",
    "import cptac.utils as u\n",
    "import plot_utils as p\n",
    "import warnings\n",
    "warnings.filterwarnings('ignore')"
   ]
  },
  {
   "cell_type": "code",
   "execution_count": 5,
   "metadata": {},
   "outputs": [
    {
     "name": "stdout",
     "output_type": "stream",
     "text": [
      "                                            \r"
     ]
    }
   ],
   "source": [
    "#load cptac data \n",
    "brain = cptac.Gbm()\n",
    "kidney = cptac.Ccrcc()\n",
    "ovar = cptac.Ovarian()\n",
    "colon = cptac.Colon()\n",
    "brca = cptac.Brca()\n",
    "luad = cptac.Luad()\n",
    "hnscc = cptac.Hnscc()\n",
    "lscc = cptac.Lscc()"
   ]
  },
  {
   "cell_type": "code",
   "execution_count": null,
   "metadata": {},
   "outputs": [],
   "source": []
  },
  {
   "cell_type": "code",
   "execution_count": 27,
   "metadata": {},
   "outputs": [],
   "source": [
    "gene = \"PTEN\"\n",
    "cptac_cancer = {\"HNSCC\":hnscc,'LUAD':luad, 'LSCC':lscc, 'BR':brca, 'CO':colon, 'OV':ovar, \"GBM\":brain} \n",
    "\n",
    "\n",
    "#See types of mutation gene has for cancer type\n",
    "for cancer_type in cptac_cancer:\n",
    "    mutations = cptac_cancer[cancer_type].get_genotype_all_vars(gene)\n",
    "    mut = [\"Deletion\",\"Wildtype_Tumor\",\"No_Mutation\"]\n",
    "    mutations2 = mutations[mutations.Mutation.isin(mut)]\n",
    "    mutations2['Mutation'] = np.where(mutations2['Mutation'] == \"Deletion\", True, mutations2['Mutation'])\n",
    "    mutations2['Mutation'] = np.where(mutations2['Mutation'] == \"Wildtype_Tumor\", False, mutations2['Mutation'])\n",
    "    \n",
    "    mutations2['Mutation'] = np.where(mutations2['Mutation'] == \"No_Mutation\", False, mutations2['Mutation'])\n",
    "    has_driver = mutations2[\"Mutation\"]\n",
    "    has_driver = has_driver.rename(\"Has_Driver\")\n",
    "  \n",
    "    has_driver.to_csv(cancer_type +'_has_driver.csv',index=True)\n",
    "    \n"
   ]
  },
  {
   "cell_type": "code",
   "execution_count": null,
   "metadata": {},
   "outputs": [],
   "source": []
  }
 ],
 "metadata": {
  "kernelspec": {
   "display_name": "Python 3",
   "language": "python",
   "name": "python3"
  },
  "language_info": {
   "codemirror_mode": {
    "name": "ipython",
    "version": 3
   },
   "file_extension": ".py",
   "mimetype": "text/x-python",
   "name": "python",
   "nbconvert_exporter": "python",
   "pygments_lexer": "ipython3",
   "version": "3.7.3"
  }
 },
 "nbformat": 4,
 "nbformat_minor": 2
}
