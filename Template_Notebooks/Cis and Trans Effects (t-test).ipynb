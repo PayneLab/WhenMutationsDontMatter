{
 "cells": [
  {
   "cell_type": "markdown",
   "metadata": {},
   "source": [
    "# Find Cis and Trans Effects"
   ]
  },
  {
   "cell_type": "markdown",
   "metadata": {},
   "source": [
    "This notebook finds the cis and trans effect for a driver mutation using t-tests.\n",
    "It also graphs the cis effect for all cancer types"
   ]
  },
  {
   "cell_type": "code",
   "execution_count": 1,
   "metadata": {},
   "outputs": [
    {
     "name": "stderr",
     "output_type": "stream",
     "text": [
      "/Users/Lindsey/anaconda3/lib/python3.7/site-packages/statsmodels/tools/_testing.py:19: FutureWarning: pandas.util.testing is deprecated. Use the functions in the public API at pandas.testing instead.\n",
      "  import pandas.util.testing as tm\n"
     ]
    }
   ],
   "source": [
    "import pandas as pd\n",
    "import numpy as np\n",
    "import seaborn as sns\n",
    "import matplotlib.pyplot as plt\n",
    "import scipy.stats\n",
    "import re\n",
    "import sys \n",
    "\n",
    "import cptac\n",
    "import cptac.utils as u\n",
    "import plot_utils as p"
   ]
  },
  {
   "cell_type": "code",
   "execution_count": 2,
   "metadata": {},
   "outputs": [],
   "source": [
    "import warnings\n",
    "warnings.filterwarnings('ignore')"
   ]
  },
  {
   "cell_type": "markdown",
   "metadata": {},
   "source": [
    "load in all of the cptac data that you are interested in "
   ]
  },
  {
   "cell_type": "code",
   "execution_count": 3,
   "metadata": {},
   "outputs": [
    {
     "name": "stdout",
     "output_type": "stream",
     "text": [
      "                                            \r"
     ]
    }
   ],
   "source": [
    "brain = cptac.Gbm()\n",
    "kidney = cptac.Ccrcc()\n",
    "ovar = cptac.Ovarian()\n",
    "colon = cptac.Colon()\n",
    "brca = cptac.Brca()\n",
    "luad = cptac.Luad()\n",
    "hnscc = cptac.Hnscc()\n",
    "lscc = cptac.Lscc()"
   ]
  },
  {
   "cell_type": "code",
   "execution_count": 4,
   "metadata": {},
   "outputs": [],
   "source": [
    "'''\n",
    "Params\n",
    "cancer_object: Object of the loaded cancer data set.\n",
    "cancer_name: String. Name to add to the created df.\n",
    "del_wt_df: DataFrame. df of only samples with PTEN deletion and wildtype. \n",
    "all_prot_list: List. All proteins in proteomics df. \n",
    "\n",
    "Returns a df with the differential expression between proteomics with PTEN del and wt (del - wt). \n",
    "'''\n",
    "\n",
    "def get_change_in_medians_df(cancer_object, cancer_name, prot_mutation):\n",
    " \n",
    "    mut = prot_mutation.loc[prot_mutation.iloc[:,0] == True ]\n",
    "    wt = prot_mutation.loc[prot_mutation.iloc[:,0] == False ]\n",
    "    mut_med = mut.median()\n",
    "    wt_med = wt.median()\n",
    "\n",
    "    med_dict = {}\n",
    "    \n",
    "    prot_list = prot_mutation.columns.to_list()\n",
    "    prot_list.pop(0) \n",
    "    # Correlation: + is mutant up compared to wt, - is mutant down\n",
    "    for prot in prot_list:\n",
    "        if prot in mut_med.index and prot in wt_med.index:\n",
    "            dif = mut_med[prot] - wt_med[prot]\n",
    "            med_dict[prot] = dif\n",
    "        \n",
    "    df = pd.DataFrame.from_dict(med_dict, orient='index', columns=[cancer_name+'_Median'])\n",
    "    df = df.reset_index().rename(columns={'index':'Proteomics'})\n",
    "    \n",
    "    return df"
   ]
  },
  {
   "cell_type": "markdown",
   "metadata": {},
   "source": [
    "# Input 1: patient IDs for those that have the driver/ don't"
   ]
  },
  {
   "cell_type": "markdown",
   "metadata": {},
   "source": [
    "Import a dataframe for the the driver you are interested in. The index should be the Patient_ID and the first column should contain if the patient has the driver. "
   ]
  },
  {
   "cell_type": "code",
   "execution_count": 5,
   "metadata": {},
   "outputs": [
    {
     "data": {
      "text/html": [
       "<div>\n",
       "<style scoped>\n",
       "    .dataframe tbody tr th:only-of-type {\n",
       "        vertical-align: middle;\n",
       "    }\n",
       "\n",
       "    .dataframe tbody tr th {\n",
       "        vertical-align: top;\n",
       "    }\n",
       "\n",
       "    .dataframe thead th {\n",
       "        text-align: right;\n",
       "    }\n",
       "</style>\n",
       "<table border=\"1\" class=\"dataframe\">\n",
       "  <thead>\n",
       "    <tr style=\"text-align: right;\">\n",
       "      <th></th>\n",
       "      <th>Has_Driver</th>\n",
       "    </tr>\n",
       "    <tr>\n",
       "      <th>Patient_ID</th>\n",
       "      <th></th>\n",
       "    </tr>\n",
       "  </thead>\n",
       "  <tbody>\n",
       "    <tr>\n",
       "      <th>C3L-00104</th>\n",
       "      <td>True</td>\n",
       "    </tr>\n",
       "    <tr>\n",
       "      <th>C3L-00365</th>\n",
       "      <td>True</td>\n",
       "    </tr>\n",
       "    <tr>\n",
       "      <th>C3L-00674</th>\n",
       "      <td>True</td>\n",
       "    </tr>\n",
       "    <tr>\n",
       "      <th>C3L-00677</th>\n",
       "      <td>True</td>\n",
       "    </tr>\n",
       "    <tr>\n",
       "      <th>C3L-01040</th>\n",
       "      <td>True</td>\n",
       "    </tr>\n",
       "  </tbody>\n",
       "</table>\n",
       "</div>"
      ],
      "text/plain": [
       "            Has_Driver\n",
       "Patient_ID            \n",
       "C3L-00104         True\n",
       "C3L-00365         True\n",
       "C3L-00674         True\n",
       "C3L-00677         True\n",
       "C3L-01040         True"
      ]
     },
     "execution_count": 5,
     "metadata": {},
     "output_type": "execute_result"
    }
   ],
   "source": [
    "has_driver = pd.read_csv('GBM_has_driver.csv', index_col=0)\n",
    "has_driver.head()"
   ]
  },
  {
   "cell_type": "markdown",
   "metadata": {},
   "source": [
    "Next, we will get the proteomic data for one of the cptac cancers. In this example we choose GBM. Then we will combine the proteomic and has_driver data together. "
   ]
  },
  {
   "cell_type": "code",
   "execution_count": 6,
   "metadata": {},
   "outputs": [
    {
     "data": {
      "text/html": [
       "<div>\n",
       "<style scoped>\n",
       "    .dataframe tbody tr th:only-of-type {\n",
       "        vertical-align: middle;\n",
       "    }\n",
       "\n",
       "    .dataframe tbody tr th {\n",
       "        vertical-align: top;\n",
       "    }\n",
       "\n",
       "    .dataframe thead th {\n",
       "        text-align: right;\n",
       "    }\n",
       "</style>\n",
       "<table border=\"1\" class=\"dataframe\">\n",
       "  <thead>\n",
       "    <tr style=\"text-align: right;\">\n",
       "      <th></th>\n",
       "      <th>Has_Driver</th>\n",
       "      <th>A1BG</th>\n",
       "      <th>A2M</th>\n",
       "      <th>AAAS</th>\n",
       "      <th>AACS</th>\n",
       "      <th>AADAT</th>\n",
       "      <th>AAED1</th>\n",
       "      <th>AAGAB</th>\n",
       "      <th>AAK1</th>\n",
       "      <th>AAMDC</th>\n",
       "      <th>...</th>\n",
       "      <th>ZSCAN31</th>\n",
       "      <th>ZSWIM8</th>\n",
       "      <th>ZW10</th>\n",
       "      <th>ZWILCH</th>\n",
       "      <th>ZWINT</th>\n",
       "      <th>ZXDC</th>\n",
       "      <th>ZYG11B</th>\n",
       "      <th>ZYX</th>\n",
       "      <th>ZZEF1</th>\n",
       "      <th>ZZZ3</th>\n",
       "    </tr>\n",
       "    <tr>\n",
       "      <th>Patient_ID</th>\n",
       "      <th></th>\n",
       "      <th></th>\n",
       "      <th></th>\n",
       "      <th></th>\n",
       "      <th></th>\n",
       "      <th></th>\n",
       "      <th></th>\n",
       "      <th></th>\n",
       "      <th></th>\n",
       "      <th></th>\n",
       "      <th></th>\n",
       "      <th></th>\n",
       "      <th></th>\n",
       "      <th></th>\n",
       "      <th></th>\n",
       "      <th></th>\n",
       "      <th></th>\n",
       "      <th></th>\n",
       "      <th></th>\n",
       "      <th></th>\n",
       "      <th></th>\n",
       "    </tr>\n",
       "  </thead>\n",
       "  <tbody>\n",
       "    <tr>\n",
       "      <th>C3L-00104</th>\n",
       "      <td>True</td>\n",
       "      <td>0.077630</td>\n",
       "      <td>0.487228</td>\n",
       "      <td>-0.254208</td>\n",
       "      <td>-0.144373</td>\n",
       "      <td>0.551881</td>\n",
       "      <td>-0.025276</td>\n",
       "      <td>-0.467451</td>\n",
       "      <td>-0.089511</td>\n",
       "      <td>-0.078806</td>\n",
       "      <td>...</td>\n",
       "      <td>NaN</td>\n",
       "      <td>-0.047437</td>\n",
       "      <td>-0.105908</td>\n",
       "      <td>-0.347076</td>\n",
       "      <td>NaN</td>\n",
       "      <td>0.459635</td>\n",
       "      <td>0.079452</td>\n",
       "      <td>-0.784983</td>\n",
       "      <td>-0.488441</td>\n",
       "      <td>0.167990</td>\n",
       "    </tr>\n",
       "    <tr>\n",
       "      <th>C3L-00365</th>\n",
       "      <td>True</td>\n",
       "      <td>-0.145975</td>\n",
       "      <td>0.798796</td>\n",
       "      <td>0.184242</td>\n",
       "      <td>-0.470603</td>\n",
       "      <td>NaN</td>\n",
       "      <td>0.390211</td>\n",
       "      <td>0.245466</td>\n",
       "      <td>-0.609998</td>\n",
       "      <td>0.118625</td>\n",
       "      <td>...</td>\n",
       "      <td>NaN</td>\n",
       "      <td>0.161975</td>\n",
       "      <td>-0.213093</td>\n",
       "      <td>0.235571</td>\n",
       "      <td>NaN</td>\n",
       "      <td>0.107421</td>\n",
       "      <td>0.048724</td>\n",
       "      <td>0.138403</td>\n",
       "      <td>-0.290141</td>\n",
       "      <td>0.405037</td>\n",
       "    </tr>\n",
       "    <tr>\n",
       "      <th>C3L-00674</th>\n",
       "      <td>True</td>\n",
       "      <td>0.821991</td>\n",
       "      <td>1.096470</td>\n",
       "      <td>-0.094421</td>\n",
       "      <td>-0.106304</td>\n",
       "      <td>0.084578</td>\n",
       "      <td>0.176402</td>\n",
       "      <td>-0.248151</td>\n",
       "      <td>0.014061</td>\n",
       "      <td>-0.699773</td>\n",
       "      <td>...</td>\n",
       "      <td>NaN</td>\n",
       "      <td>-0.065534</td>\n",
       "      <td>-0.306717</td>\n",
       "      <td>0.879991</td>\n",
       "      <td>NaN</td>\n",
       "      <td>0.883564</td>\n",
       "      <td>-0.172222</td>\n",
       "      <td>0.011876</td>\n",
       "      <td>-0.131889</td>\n",
       "      <td>-0.503581</td>\n",
       "    </tr>\n",
       "    <tr>\n",
       "      <th>C3L-00677</th>\n",
       "      <td>True</td>\n",
       "      <td>-0.064567</td>\n",
       "      <td>0.129385</td>\n",
       "      <td>0.047751</td>\n",
       "      <td>-0.118187</td>\n",
       "      <td>0.237434</td>\n",
       "      <td>NaN</td>\n",
       "      <td>0.303847</td>\n",
       "      <td>0.322163</td>\n",
       "      <td>-0.555479</td>\n",
       "      <td>...</td>\n",
       "      <td>-0.062127</td>\n",
       "      <td>-0.254535</td>\n",
       "      <td>0.463653</td>\n",
       "      <td>0.580230</td>\n",
       "      <td>0.503044</td>\n",
       "      <td>-0.604986</td>\n",
       "      <td>0.178077</td>\n",
       "      <td>-0.720059</td>\n",
       "      <td>-0.150197</td>\n",
       "      <td>-0.268715</td>\n",
       "    </tr>\n",
       "    <tr>\n",
       "      <th>C3L-01040</th>\n",
       "      <td>True</td>\n",
       "      <td>-0.763691</td>\n",
       "      <td>-1.031834</td>\n",
       "      <td>-0.217194</td>\n",
       "      <td>-0.695701</td>\n",
       "      <td>0.184173</td>\n",
       "      <td>-0.474816</td>\n",
       "      <td>-0.051789</td>\n",
       "      <td>0.344842</td>\n",
       "      <td>-0.642746</td>\n",
       "      <td>...</td>\n",
       "      <td>NaN</td>\n",
       "      <td>-0.092502</td>\n",
       "      <td>0.010639</td>\n",
       "      <td>-0.465079</td>\n",
       "      <td>NaN</td>\n",
       "      <td>-0.500083</td>\n",
       "      <td>0.112651</td>\n",
       "      <td>1.004660</td>\n",
       "      <td>-0.230304</td>\n",
       "      <td>-0.102416</td>\n",
       "    </tr>\n",
       "  </tbody>\n",
       "</table>\n",
       "<p>5 rows × 11142 columns</p>\n",
       "</div>"
      ],
      "text/plain": [
       "            Has_Driver      A1BG       A2M      AAAS      AACS     AADAT  \\\n",
       "Patient_ID                                                                 \n",
       "C3L-00104         True  0.077630  0.487228 -0.254208 -0.144373  0.551881   \n",
       "C3L-00365         True -0.145975  0.798796  0.184242 -0.470603       NaN   \n",
       "C3L-00674         True  0.821991  1.096470 -0.094421 -0.106304  0.084578   \n",
       "C3L-00677         True -0.064567  0.129385  0.047751 -0.118187  0.237434   \n",
       "C3L-01040         True -0.763691 -1.031834 -0.217194 -0.695701  0.184173   \n",
       "\n",
       "               AAED1     AAGAB      AAK1     AAMDC  ...   ZSCAN31    ZSWIM8  \\\n",
       "Patient_ID                                          ...                       \n",
       "C3L-00104  -0.025276 -0.467451 -0.089511 -0.078806  ...       NaN -0.047437   \n",
       "C3L-00365   0.390211  0.245466 -0.609998  0.118625  ...       NaN  0.161975   \n",
       "C3L-00674   0.176402 -0.248151  0.014061 -0.699773  ...       NaN -0.065534   \n",
       "C3L-00677        NaN  0.303847  0.322163 -0.555479  ... -0.062127 -0.254535   \n",
       "C3L-01040  -0.474816 -0.051789  0.344842 -0.642746  ...       NaN -0.092502   \n",
       "\n",
       "                ZW10    ZWILCH     ZWINT      ZXDC    ZYG11B       ZYX  \\\n",
       "Patient_ID                                                               \n",
       "C3L-00104  -0.105908 -0.347076       NaN  0.459635  0.079452 -0.784983   \n",
       "C3L-00365  -0.213093  0.235571       NaN  0.107421  0.048724  0.138403   \n",
       "C3L-00674  -0.306717  0.879991       NaN  0.883564 -0.172222  0.011876   \n",
       "C3L-00677   0.463653  0.580230  0.503044 -0.604986  0.178077 -0.720059   \n",
       "C3L-01040   0.010639 -0.465079       NaN -0.500083  0.112651  1.004660   \n",
       "\n",
       "               ZZEF1      ZZZ3  \n",
       "Patient_ID                      \n",
       "C3L-00104  -0.488441  0.167990  \n",
       "C3L-00365  -0.290141  0.405037  \n",
       "C3L-00674  -0.131889 -0.503581  \n",
       "C3L-00677  -0.150197 -0.268715  \n",
       "C3L-01040  -0.230304 -0.102416  \n",
       "\n",
       "[5 rows x 11142 columns]"
      ]
     },
     "execution_count": 6,
     "metadata": {},
     "output_type": "execute_result"
    }
   ],
   "source": [
    "prot = brain.get_proteomics()\n",
    "prot_mutation = pd.concat([has_driver, prot], axis = 1, join = \"inner\") \n",
    "prot_mutation.head()"
   ]
  },
  {
   "cell_type": "markdown",
   "metadata": {},
   "source": [
    "# Select cis gene"
   ]
  },
  {
   "cell_type": "code",
   "execution_count": 7,
   "metadata": {},
   "outputs": [],
   "source": [
    "cis_gene = \"PTEN\""
   ]
  },
  {
   "cell_type": "markdown",
   "metadata": {},
   "source": [
    "# Find Cis Effect"
   ]
  },
  {
   "cell_type": "markdown",
   "metadata": {},
   "source": [
    "To find the cis and trans effects we will use the wrap_ttest function. It takes in the dataframe created in the previous step as well as the column name that contains the binary mutation type. In our case it is labeld Has_Driver. The function also allows you to select if you would like to return the p value for all comparisons or only the signifcant comparisons. You can also selected if you want the p values to be corrected with either FDR_bh or bonferroni. "
   ]
  },
  {
   "cell_type": "code",
   "execution_count": 8,
   "metadata": {},
   "outputs": [
    {
     "data": {
      "text/html": [
       "<div>\n",
       "<style scoped>\n",
       "    .dataframe tbody tr th:only-of-type {\n",
       "        vertical-align: middle;\n",
       "    }\n",
       "\n",
       "    .dataframe tbody tr th {\n",
       "        vertical-align: top;\n",
       "    }\n",
       "\n",
       "    .dataframe thead th {\n",
       "        text-align: right;\n",
       "    }\n",
       "</style>\n",
       "<table border=\"1\" class=\"dataframe\">\n",
       "  <thead>\n",
       "    <tr style=\"text-align: right;\">\n",
       "      <th></th>\n",
       "      <th>Comparison</th>\n",
       "      <th>P_Value</th>\n",
       "    </tr>\n",
       "  </thead>\n",
       "  <tbody>\n",
       "    <tr>\n",
       "      <th>0</th>\n",
       "      <td>PTEN</td>\n",
       "      <td>1.219523e-07</td>\n",
       "    </tr>\n",
       "  </tbody>\n",
       "</table>\n",
       "</div>"
      ],
      "text/plain": [
       "  Comparison       P_Value\n",
       "0       PTEN  1.219523e-07"
      ]
     },
     "execution_count": 8,
     "metadata": {},
     "output_type": "execute_result"
    }
   ],
   "source": [
    " #subset df to include only boolean column and cis gene proteomic column \n",
    "cis_prot_mutation = prot_mutation[[\"Has_Driver\",cis_gene]]\n",
    "cis_effect = u.wrap_ttest(cis_prot_mutation, 'Has_Driver',return_all=True, pval_return_corrected= True, correction_method= \"FDR_bh\")\n",
    "cis_effect"
   ]
  },
  {
   "cell_type": "markdown",
   "metadata": {},
   "source": [
    "Next, find the differential expression. (median of wildtype tumors - median of tumors with driver)"
   ]
  },
  {
   "cell_type": "code",
   "execution_count": 9,
   "metadata": {},
   "outputs": [
    {
     "data": {
      "text/html": [
       "<div>\n",
       "<style scoped>\n",
       "    .dataframe tbody tr th:only-of-type {\n",
       "        vertical-align: middle;\n",
       "    }\n",
       "\n",
       "    .dataframe tbody tr th {\n",
       "        vertical-align: top;\n",
       "    }\n",
       "\n",
       "    .dataframe thead th {\n",
       "        text-align: right;\n",
       "    }\n",
       "</style>\n",
       "<table border=\"1\" class=\"dataframe\">\n",
       "  <thead>\n",
       "    <tr style=\"text-align: right;\">\n",
       "      <th></th>\n",
       "      <th>Proteomics</th>\n",
       "      <th>GBM_Median</th>\n",
       "    </tr>\n",
       "  </thead>\n",
       "  <tbody>\n",
       "    <tr>\n",
       "      <th>0</th>\n",
       "      <td>PTEN</td>\n",
       "      <td>-0.511726</td>\n",
       "    </tr>\n",
       "  </tbody>\n",
       "</table>\n",
       "</div>"
      ],
      "text/plain": [
       "  Proteomics  GBM_Median\n",
       "0       PTEN   -0.511726"
      ]
     },
     "execution_count": 9,
     "metadata": {},
     "output_type": "execute_result"
    }
   ],
   "source": [
    "#input data frame that has two columns \n",
    "change_in_med = get_change_in_medians_df(brain, \"GBM\",cis_prot_mutation)\n",
    "change_in_med"
   ]
  },
  {
   "cell_type": "code",
   "execution_count": 10,
   "metadata": {},
   "outputs": [
    {
     "data": {
      "image/png": "[encoded data removed]",
      "text/plain": [
       "<Figure size 648x432 with 1 Axes>"
      ]
     },
     "metadata": {},
     "output_type": "display_data"
    }
   ],
   "source": [
    "#Graph Cis Effect \n",
    "plt.rcParams['figure.figsize']=(9,6)\n",
    "sns.set(font_scale = 1.3)\n",
    "cis_boxplot = sns.boxplot(data = prot_mutation, x = 'Has_Driver',\n",
    "                          y = cis_gene, showfliers = False)  \n",
    "\n",
    "cis_boxplot = sns.stripplot(data= prot_mutation, x = 'Has_Driver',\n",
    "                            y = cis_gene,jitter = True, color = \".2\")\n"
   ]
  },
  {
   "cell_type": "markdown",
   "metadata": {},
   "source": [
    "# Find Trans Effects"
   ]
  },
  {
   "cell_type": "markdown",
   "metadata": {},
   "source": [
    "To find the trans effect we will compare the protein abundance between wildtype tumor and the selected mutation for all proteins. We will also find the differential expression for each protein"
   ]
  },
  {
   "cell_type": "code",
   "execution_count": 11,
   "metadata": {},
   "outputs": [],
   "source": [
    "''' Adds '_i' to duplicate col names where the int i increases by one with each duplicate \n",
    "Returns a df with unique column names. '''\n",
    "\n",
    "def rename_duplicate_cols(df):\n",
    "    cols = pd.Series(df.columns[:])\n",
    "\n",
    "    for dup in cols[cols.duplicated()].unique(): \n",
    "        cols[cols[cols == dup].index.values.tolist()] = [dup + '_' + str(i) if i != 0 else dup for i in range(sum(cols == dup))]\n",
    "\n",
    "    # rename the columns with the cols list.\n",
    "    df.columns=cols\n",
    "    return df"
   ]
  },
  {
   "cell_type": "markdown",
   "metadata": {},
   "source": [
    "Wrap t-test requires that each column have a unique name. We will rename duplice column names due to proteins with multiple isoforms. "
   ]
  },
  {
   "cell_type": "code",
   "execution_count": 12,
   "metadata": {},
   "outputs": [
    {
     "data": {
      "text/html": [
       "<div>\n",
       "<style scoped>\n",
       "    .dataframe tbody tr th:only-of-type {\n",
       "        vertical-align: middle;\n",
       "    }\n",
       "\n",
       "    .dataframe tbody tr th {\n",
       "        vertical-align: top;\n",
       "    }\n",
       "\n",
       "    .dataframe thead th {\n",
       "        text-align: right;\n",
       "    }\n",
       "</style>\n",
       "<table border=\"1\" class=\"dataframe\">\n",
       "  <thead>\n",
       "    <tr style=\"text-align: right;\">\n",
       "      <th></th>\n",
       "      <th>Proteomics</th>\n",
       "      <th>P_Value</th>\n",
       "      <th>GBM_Median</th>\n",
       "    </tr>\n",
       "  </thead>\n",
       "  <tbody>\n",
       "    <tr>\n",
       "      <th>0</th>\n",
       "      <td>ARMH3</td>\n",
       "      <td>5.863868e-07</td>\n",
       "      <td>-0.405134</td>\n",
       "    </tr>\n",
       "    <tr>\n",
       "      <th>1</th>\n",
       "      <td>CUTC</td>\n",
       "      <td>8.658172e-07</td>\n",
       "      <td>-0.553255</td>\n",
       "    </tr>\n",
       "    <tr>\n",
       "      <th>2</th>\n",
       "      <td>PIP4K2A</td>\n",
       "      <td>2.830359e-06</td>\n",
       "      <td>-0.838882</td>\n",
       "    </tr>\n",
       "    <tr>\n",
       "      <th>3</th>\n",
       "      <td>CUL2</td>\n",
       "      <td>2.830359e-06</td>\n",
       "      <td>-0.586396</td>\n",
       "    </tr>\n",
       "    <tr>\n",
       "      <th>4</th>\n",
       "      <td>GDI2</td>\n",
       "      <td>2.830359e-06</td>\n",
       "      <td>-0.610188</td>\n",
       "    </tr>\n",
       "    <tr>\n",
       "      <th>...</th>\n",
       "      <td>...</td>\n",
       "      <td>...</td>\n",
       "      <td>...</td>\n",
       "    </tr>\n",
       "    <tr>\n",
       "      <th>1897</th>\n",
       "      <td>SH3BP1</td>\n",
       "      <td>4.988738e-02</td>\n",
       "      <td>-0.301123</td>\n",
       "    </tr>\n",
       "    <tr>\n",
       "      <th>1898</th>\n",
       "      <td>STIM1</td>\n",
       "      <td>4.988738e-02</td>\n",
       "      <td>-0.307443</td>\n",
       "    </tr>\n",
       "    <tr>\n",
       "      <th>1899</th>\n",
       "      <td>MRPS5</td>\n",
       "      <td>4.988738e-02</td>\n",
       "      <td>0.392226</td>\n",
       "    </tr>\n",
       "    <tr>\n",
       "      <th>1900</th>\n",
       "      <td>DPH5</td>\n",
       "      <td>4.992660e-02</td>\n",
       "      <td>0.136847</td>\n",
       "    </tr>\n",
       "    <tr>\n",
       "      <th>1901</th>\n",
       "      <td>IPO7</td>\n",
       "      <td>4.999194e-02</td>\n",
       "      <td>0.238728</td>\n",
       "    </tr>\n",
       "  </tbody>\n",
       "</table>\n",
       "<p>1902 rows × 3 columns</p>\n",
       "</div>"
      ],
      "text/plain": [
       "     Proteomics       P_Value  GBM_Median\n",
       "0         ARMH3  5.863868e-07   -0.405134\n",
       "1          CUTC  8.658172e-07   -0.553255\n",
       "2       PIP4K2A  2.830359e-06   -0.838882\n",
       "3          CUL2  2.830359e-06   -0.586396\n",
       "4          GDI2  2.830359e-06   -0.610188\n",
       "...         ...           ...         ...\n",
       "1897     SH3BP1  4.988738e-02   -0.301123\n",
       "1898      STIM1  4.988738e-02   -0.307443\n",
       "1899      MRPS5  4.988738e-02    0.392226\n",
       "1900       DPH5  4.992660e-02    0.136847\n",
       "1901       IPO7  4.999194e-02    0.238728\n",
       "\n",
       "[1902 rows x 3 columns]"
      ]
     },
     "execution_count": 12,
     "metadata": {},
     "output_type": "execute_result"
    }
   ],
   "source": [
    "prot_mutation = rename_duplicate_cols(prot_mutation)\n",
    "prot_pval = u.wrap_ttest(prot_mutation, 'Has_Driver',return_all=False, pval_return_corrected= True, correction_method= \"FDR_bh\")\n",
    "prot_pval = prot_pval.rename(columns={'Comparison':'Proteomics'}) # rename to murch with differential df\n",
    "#get differential expression \n",
    "change_in_med = get_change_in_medians_df(brain, \"GBM\", prot_mutation)\n",
    "trans_merged = prot_pval.merge(change_in_med, on='Proteomics', how='left')\n",
    "trans_merged\n"
   ]
  },
  {
   "cell_type": "markdown",
   "metadata": {},
   "source": [
    "# Pan Cancer "
   ]
  },
  {
   "cell_type": "markdown",
   "metadata": {},
   "source": [
    "Find cis and trans effect for a mutation in all cancer types "
   ]
  },
  {
   "cell_type": "markdown",
   "metadata": {},
   "source": [
    "Read in df that has Patient_ID and Has_Driver column for each cancer type"
   ]
  },
  {
   "cell_type": "code",
   "execution_count": 13,
   "metadata": {},
   "outputs": [],
   "source": [
    "hnscc_has_driver = pd.read_csv('Hnscc_has_driver.csv', index_col=0)\n",
    "colon_has_driver = pd.read_csv('CO_has_driver.csv', index_col=0)\n",
    "ovar_has_driver = pd.read_csv('OV_has_driver.csv', index_col=0)\n",
    "luad_has_driver = pd.read_csv(\"LUAD_has_driver.csv\", index_col=0)\n",
    "brca_has_driver = pd.read_csv(\"BR_has_driver.csv\", index_col=0)\n",
    "lscc_has_driver = pd.read_csv(\"LSCC_has_driver.csv\",index_col=0)\n",
    "gbm_has_driver = pd.read_csv('GBM_has_driver.csv', index_col=0)\n"
   ]
  },
  {
   "cell_type": "code",
   "execution_count": 14,
   "metadata": {},
   "outputs": [],
   "source": [
    "#Select the cancers that you would like to test and add cptac data into a dictionary\n",
    "cptac_cancers = {'HNSCC':hnscc, 'LUAD':luad, 'LSCC':lscc, 'BR':brca, 'CO':colon, 'OV':ovar, \"GBM\":brain}\n",
    "#Create dictionary with has driver dataframe for all cancers \n",
    "cancers_has_driver = {\"HNSCC\":hnscc_has_driver, \"LUAD\":luad_has_driver, \"LSCC\": lscc_has_driver, \"BR\":brca_has_driver, \"CO\": colon_has_driver, \"OV\":ovar_has_driver, \"GBM\": gbm_has_driver}"
   ]
  },
  {
   "cell_type": "markdown",
   "metadata": {},
   "source": [
    "Loop through dictionary and combine proteomic data with has driver df and find cis effect. \n",
    "Combine all cis effects into one df. "
   ]
  },
  {
   "cell_type": "code",
   "execution_count": 15,
   "metadata": {},
   "outputs": [
    {
     "data": {
      "text/html": [
       "<div>\n",
       "<style scoped>\n",
       "    .dataframe tbody tr th:only-of-type {\n",
       "        vertical-align: middle;\n",
       "    }\n",
       "\n",
       "    .dataframe tbody tr th {\n",
       "        vertical-align: top;\n",
       "    }\n",
       "\n",
       "    .dataframe thead th {\n",
       "        text-align: right;\n",
       "    }\n",
       "</style>\n",
       "<table border=\"1\" class=\"dataframe\">\n",
       "  <thead>\n",
       "    <tr style=\"text-align: right;\">\n",
       "      <th></th>\n",
       "      <th>Cancer</th>\n",
       "      <th>P_Value</th>\n",
       "    </tr>\n",
       "  </thead>\n",
       "  <tbody>\n",
       "    <tr>\n",
       "      <th>0</th>\n",
       "      <td>HNSCC</td>\n",
       "      <td>2.285281e-05</td>\n",
       "    </tr>\n",
       "    <tr>\n",
       "      <th>1</th>\n",
       "      <td>LUAD</td>\n",
       "      <td>1.435202e-02</td>\n",
       "    </tr>\n",
       "    <tr>\n",
       "      <th>2</th>\n",
       "      <td>LSCC</td>\n",
       "      <td>2.018147e-08</td>\n",
       "    </tr>\n",
       "    <tr>\n",
       "      <th>3</th>\n",
       "      <td>BR</td>\n",
       "      <td>4.324020e-06</td>\n",
       "    </tr>\n",
       "    <tr>\n",
       "      <th>4</th>\n",
       "      <td>CO</td>\n",
       "      <td>1.287183e-02</td>\n",
       "    </tr>\n",
       "    <tr>\n",
       "      <th>5</th>\n",
       "      <td>OV</td>\n",
       "      <td>9.092805e-04</td>\n",
       "    </tr>\n",
       "    <tr>\n",
       "      <th>6</th>\n",
       "      <td>GBM</td>\n",
       "      <td>1.219523e-07</td>\n",
       "    </tr>\n",
       "  </tbody>\n",
       "</table>\n",
       "</div>"
      ],
      "text/plain": [
       "  Cancer       P_Value\n",
       "0  HNSCC  2.285281e-05\n",
       "1   LUAD  1.435202e-02\n",
       "2   LSCC  2.018147e-08\n",
       "3     BR  4.324020e-06\n",
       "4     CO  1.287183e-02\n",
       "5     OV  9.092805e-04\n",
       "6    GBM  1.219523e-07"
      ]
     },
     "execution_count": 15,
     "metadata": {},
     "output_type": "execute_result"
    }
   ],
   "source": [
    "cis_pancan = pd.DataFrame()\n",
    "all_prot_mutations = pd.DataFrame()\n",
    "for cancer in cptac_cancers:\n",
    "   \n",
    "    proteomics = cptac_cancers[cancer].get_proteomics()\n",
    "    has_driver = cancers_has_driver[cancer]\n",
    "    \n",
    "    if isinstance(proteomics.keys(), pd.core.indexes.multi.MultiIndex):\n",
    "        proteomics = u.reduce_multiindex(proteomics, levels_to_drop = 1)\n",
    "    prot_mutation = pd.concat([has_driver, proteomics], axis = 1, join = \"inner\") \n",
    "    \n",
    "    prot_mutation = rename_duplicate_cols(prot_mutation)\n",
    "    cis_effect = u.wrap_ttest(prot_mutation, 'Has_Driver',[cis_gene],return_all=True, pval_return_corrected= True, correction_method= \"FDR_bh\")\n",
    "    cis_pancan = cis_pancan.append({'Cancer': cancer,\"P_Value\": float(cis_effect[\"P_Value\"] )}, ignore_index=True)\n",
    "    \n",
    "cis_pancan\n",
    "    "
   ]
  },
  {
   "cell_type": "code",
   "execution_count": null,
   "metadata": {},
   "outputs": [],
   "source": []
  },
  {
   "cell_type": "markdown",
   "metadata": {},
   "source": [
    "# Visualize Pan Cancer Cis effect"
   ]
  },
  {
   "cell_type": "markdown",
   "metadata": {},
   "source": [
    "Note that HNSCC is currently on a different proteomic scale then the other cancers so it is best to visualized separately. Make dictionary of all cancers you want to visualize. Then combine their proteomic and binary mutation data frames. "
   ]
  },
  {
   "cell_type": "code",
   "execution_count": 16,
   "metadata": {},
   "outputs": [],
   "source": [
    "cptac_cancers = {'LUAD':luad, 'LSCC':lscc, 'BR':brca, 'CO':colon, 'OV':ovar, \"GBM\":brain}\n",
    "#add all series with \n",
    "cancers_has_driver = {\"LUAD\":luad_has_driver, \"LSCC\": lscc_has_driver, \"BR\":brca_has_driver, \"CO\": colon_has_driver, \"OV\":ovar_has_driver, \"GBM\": gbm_has_driver}\n",
    "all_prot_mutations = pd.DataFrame()\n",
    "for cancer in cptac_cancers:\n",
    "   \n",
    "    proteomics = cptac_cancers[cancer].get_proteomics()\n",
    "    has_driver = cancers_has_driver[cancer]\n",
    "    \n",
    "    if isinstance(proteomics.keys(), pd.core.indexes.multi.MultiIndex):\n",
    "        proteomics = u.reduce_multiindex(proteomics, levels_to_drop = 1)\n",
    "    prot_mutation = pd.concat([has_driver, proteomics], axis = 1, join = \"inner\") \n",
    "     \n",
    "    prot_mutation = prot_mutation.assign(Cancer = cancer)\n",
    "    prot_mutation = prot_mutation[[\"Cancer\",\"Has_Driver\",cis_gene]]\n",
    "    all_prot_mutations = all_prot_mutations.append(prot_mutation) "
   ]
  },
  {
   "cell_type": "code",
   "execution_count": 17,
   "metadata": {},
   "outputs": [
    {
     "data": {
      "text/plain": [
       "[Text(0, 0.5, 'PTEN Proteomics'), Text(0.5, 0, 'PTEN Mutation Status')]"
      ]
     },
     "execution_count": 17,
     "metadata": {},
     "output_type": "execute_result"
    },
    {
     "data": {
      "image/png": "[encoded data removed]",
      "text/plain": [
       "<Figure size 842.4x612 with 1 Axes>"
      ]
     },
     "metadata": {},
     "output_type": "display_data"
    }
   ],
   "source": [
    "# cis plot\n",
    "gene = 'PTEN'\n",
    "plt.rcParams['figure.figsize']=(11.7, 8.5) #size of plot\n",
    "sns.set(font_scale = 1.4, style = 'white')\n",
    "\n",
    "boxplot = sns.boxplot(x='Cancer', y=gene, data = all_prot_mutations, hue = 'Has_Driver',\n",
    "                      showfliers = False)    \n",
    "#boxplot.set_title('Pancancer cis effect of PTEN CNV Deletions')\n",
    "boxplot = sns.stripplot(x='Cancer', y=gene, data = all_prot_mutations, jitter = True, \n",
    "                           color = \".3\", hue = 'Has_Driver', dodge = True)\n",
    "boxplot.set(xlabel = cis_gene +\" Mutation Status\", ylabel = cis_gene+' Proteomics')\n"
   ]
  },
  {
   "cell_type": "markdown",
   "metadata": {},
   "source": [
    "# Pan cancer trans effect"
   ]
  },
  {
   "cell_type": "markdown",
   "metadata": {},
   "source": [
    "Loop through dictionary and combine proteomic data with has driver df and find trans effect. \n",
    "Find change in median and merge with trans effects "
   ]
  },
  {
   "cell_type": "code",
   "execution_count": 19,
   "metadata": {},
   "outputs": [
    {
     "name": "stdout",
     "output_type": "stream",
     "text": [
      "  Proteomics   P_Value  HNSCC_Median\n",
      "0        NLN  0.000012      0.431666\n",
      "1     AKR1C3  0.000056      0.951905\n",
      "2     AKR1C1  0.000249      1.961262\n",
      "3       ADI1  0.000432      0.513198\n",
      "4      PTGR1  0.000705      0.841220 \n",
      "\n",
      "  Proteomics   P_Value  LUAD_Median\n",
      "0       ATE1  0.003046     -0.88365\n",
      "1       EGFR  0.003247      2.32970\n",
      "2      SHOC2  0.003247     -0.60600\n",
      "3     LANCL2  0.004654      1.21475\n",
      "4    CWF19L1  0.005649     -0.57265 \n",
      "\n",
      "  Proteomics   P_Value  LSCC_Median\n",
      "0       PTEN  0.000234     -0.82015\n",
      "1       ATE1  0.003068     -0.63115\n",
      "2      ATAD1  0.006740     -1.01335\n",
      "3       CCT7  0.011232      0.55675\n",
      "4      INTS2  0.011232      0.34010 \n",
      "\n",
      "  Proteomics   P_Value  BR_Median\n",
      "0       PTEN  0.043703   -1.00800\n",
      "1      EIF4H  0.103273    0.41295\n",
      "2      MIEF1  0.103273    0.84135\n",
      "3     TMSB10  0.108999    0.87630\n",
      "4       DRG1  0.109328    0.75135 \n",
      "\n",
      "  Proteomics   P_Value  CO_Median\n",
      "0       DFFA  0.279232   -0.19930\n",
      "1    SEC14L2  0.307019   -0.66800\n",
      "2       WAPL  0.307019   -0.19605\n",
      "3       GBF1  0.307019   -0.12630\n",
      "4    STK11IP  0.358778   -0.31250 \n",
      "\n",
      "  Proteomics   P_Value  OV_Median\n",
      "0      MMS19  0.000112  -0.324897\n",
      "1     PI4K2A  0.327788  -0.298399\n",
      "2      RACK1  0.327788  -0.191250\n",
      "3      PGAM2  0.360705  -0.292221\n",
      "4       WAPL  0.360705  -0.218775 \n",
      "\n",
      "  Proteomics       P_Value  GBM_Median\n",
      "0      ARMH3  5.863868e-07   -0.405134\n",
      "1       CUTC  8.658172e-07   -0.553255\n",
      "2       CUL2  2.830359e-06   -0.586396\n",
      "3       GDI2  2.830359e-06   -0.610188\n",
      "4    PIP4K2A  2.830359e-06   -0.838882 \n",
      "\n"
     ]
    }
   ],
   "source": [
    "for cancer in cptac_cancers:\n",
    "    proteomics = cptac_cancers[cancer].get_proteomics()\n",
    "\n",
    "    if isinstance(proteomics.keys(), pd.core.indexes.multi.MultiIndex):\n",
    "        proteomics = u.reduce_multiindex(proteomics, levels_to_drop = 1)\n",
    "    \n",
    "    has_driver = cancers_has_driver[cancer]   \n",
    "    prot_mutation = pd.concat([has_driver, proteomics], axis = 1, join = \"inner\") \n",
    "    prot_mutation = rename_duplicate_cols(prot_mutation)\n",
    "    \n",
    "    trans_effect = u.wrap_ttest(prot_mutation, 'Has_Driver',return_all=True, pval_return_corrected= True, correction_method= \"FDR_bh\")\n",
    "    trans_effect = trans_effect.rename(columns={'Comparison':'Proteomics'})\n",
    "  \n",
    "    change_in_med = get_change_in_medians_df(cptac_cancers[cancer], cancer, prot_mutation )\n",
    "    trans_change_med = trans_effect.merge(change_in_med, on='Proteomics', how='left')\n",
    "    \n",
    "    # Create csv\n",
    "    #trans_change_med.to_csv('csv/Single_Cancer/'+cancer+'_pval_medians.csv', index=False)\n",
    "    print(trans_change_med.head(), '\\n')"
   ]
  },
  {
   "cell_type": "code",
   "execution_count": null,
   "metadata": {},
   "outputs": [],
   "source": []
  },
  {
   "cell_type": "code",
   "execution_count": null,
   "metadata": {},
   "outputs": [],
   "source": []
  },
  {
   "cell_type": "code",
   "execution_count": null,
   "metadata": {},
   "outputs": [],
   "source": []
  },
  {
   "cell_type": "code",
   "execution_count": null,
   "metadata": {},
   "outputs": [],
   "source": []
  }
 ],
 "metadata": {
  "kernelspec": {
   "display_name": "Python 3",
   "language": "python",
   "name": "python3"
  },
  "language_info": {
   "codemirror_mode": {
    "name": "ipython",
    "version": 3
   },
   "file_extension": ".py",
   "mimetype": "text/x-python",
   "name": "python",
   "nbconvert_exporter": "python",
   "pygments_lexer": "ipython3",
   "version": "3.7.3"
  }
 },
 "nbformat": 4,
 "nbformat_minor": 2
}
