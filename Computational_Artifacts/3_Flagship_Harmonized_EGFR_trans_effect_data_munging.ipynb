{
 "cells": [
  {
   "cell_type": "markdown",
   "metadata": {},
   "source": [
    "# Data munging EGFR: trans effects "
   ]
  },
  {
   "cell_type": "markdown",
   "metadata": {},
   "source": [
    "For both the flagship and harmonized data, this notebook records the pearson correlation stats for EGFR proteomics vs all proteomics for each cancer type. It records all FDR Benjamini/Hochberg corrected p values. This data is then used in the Make_Supplemental_Tables notebook. "
   ]
  },
  {
   "cell_type": "code",
   "execution_count": 1,
   "metadata": {},
   "outputs": [
    {
     "name": "stderr",
     "output_type": "stream",
     "text": [
      "/Users/Lindsey/anaconda3/lib/python3.7/site-packages/statsmodels/tools/_testing.py:19: FutureWarning: pandas.util.testing is deprecated. Use the functions in the public API at pandas.testing instead.\n",
      "  import pandas.util.testing as tm\n"
     ]
    }
   ],
   "source": [
    "import pandas as pd\n",
    "import numpy as np\n",
    "import seaborn as sns\n",
    "import matplotlib.pyplot as plt\n",
    "import scipy.stats\n",
    "import re\n",
    "import sys \n",
    "import statsmodels.stats.multitest\n",
    "\n",
    "\n",
    "import cptac\n",
    "import cptac.utils as u\n",
    "import plot_utils as p\n",
    "import warnings\n",
    "warnings.filterwarnings('ignore')"
   ]
  },
  {
   "cell_type": "code",
   "execution_count": 2,
   "metadata": {},
   "outputs": [],
   "source": [
    "'''\n",
    "@Param df: Data frame. Takes a data frame of proteomic data frame.\n",
    "This function takes the data frame from get_proteomics and labels any duplicate columns due to mutliple isoforms.\n",
    "Then it returns the list of all proteins\n",
    "'''\n",
    "\n",
    "def create_prot_list(df):\n",
    "    #Add _(number) to keep track of duplicates due to multiple isoforms \n",
    "    cols = pd.Series(df.columns[:])\n",
    "    for dup in cols[cols.duplicated()].unique(): \n",
    "        cols[cols[cols == dup].index.values.tolist()] = [dup + '_' + str(i) if i != 0 else dup for i in range(sum(cols == dup))]\n",
    "    df.columns=cols\n",
    "    #get list of proteins\n",
    "    prot_genes_list = df.columns.values.tolist()\n",
    "    return prot_genes_list"
   ]
  },
  {
   "cell_type": "code",
   "execution_count": 3,
   "metadata": {},
   "outputs": [],
   "source": [
    "'''\n",
    "@Param cancer: cptac data for a cancer Ex brain = cptac.Gbm()\n",
    "\n",
    "This function makes a df with all trans effects. \n",
    "Step 1: Get proteomic data with only tumor samples.\n",
    "Step 2: For each cancer type, create list of proteins by using create_prot_list function \n",
    "which extracts column names and labels duplicate columns caused by multiple isoforms.\n",
    "Step 3:Use plot_utils function wrap_pearson_corr on df and compare EGFR proteomics to all other proteins in protein list.\n",
    "Record all FDR corrected p values. \n",
    "\n",
    "'''\n",
    "\n",
    "def make_trans_df(cancer):\n",
    "    df1_tumor = cancer.get_proteomics(tissue_type= \"tumor\")\n",
    "    \n",
    "    if isinstance(df1_tumor.keys(), pd.core.indexes.multi.MultiIndex):\n",
    "        df1_tumor = u.reduce_multiindex(df1_tumor, levels_to_drop = 1)\n",
    "        \n",
    "    prot_genes_list = create_prot_list(df1_tumor)\n",
    "    trans_df = p.wrap_pearson_corr(df1_tumor,\"EGFR\",comparison_columns= prot_genes_list,correction_method='fdr_bh', return_all = True, return_corrected_pvals = True)\n",
    "    return trans_df\n",
    "    "
   ]
  },
  {
   "cell_type": "code",
   "execution_count": 4,
   "metadata": {},
   "outputs": [
    {
     "data": {
      "text/plain": [
       "'0.9.1'"
      ]
     },
     "execution_count": 4,
     "metadata": {},
     "output_type": "execute_result"
    }
   ],
   "source": [
    "#cptac version\n",
    "cptac.version()   "
   ]
  },
  {
   "cell_type": "code",
   "execution_count": 5,
   "metadata": {},
   "outputs": [
    {
     "name": "stdout",
     "output_type": "stream",
     "text": [
      "                                            \r"
     ]
    }
   ],
   "source": [
    "#load cptac data \n",
    "brain = cptac.Gbm()\n",
    "kidney = cptac.Ccrcc()\n",
    "ovar = cptac.Ovarian()\n",
    "colon = cptac.Colon()\n",
    "brca = cptac.Brca()\n",
    "luad = cptac.Luad()\n",
    "hnscc = cptac.Hnscc()\n",
    "lscc = cptac.Lscc()"
   ]
  },
  {
   "cell_type": "markdown",
   "metadata": {},
   "source": [
    "GBM"
   ]
  },
  {
   "cell_type": "code",
   "execution_count": 6,
   "metadata": {},
   "outputs": [
    {
     "data": {
      "text/html": [
       "<div>\n",
       "<style scoped>\n",
       "    .dataframe tbody tr th:only-of-type {\n",
       "        vertical-align: middle;\n",
       "    }\n",
       "\n",
       "    .dataframe tbody tr th {\n",
       "        vertical-align: top;\n",
       "    }\n",
       "\n",
       "    .dataframe thead th {\n",
       "        text-align: right;\n",
       "    }\n",
       "</style>\n",
       "<table border=\"1\" class=\"dataframe\">\n",
       "  <thead>\n",
       "    <tr style=\"text-align: right;\">\n",
       "      <th></th>\n",
       "      <th>Comparison</th>\n",
       "      <th>Correlation_GBM</th>\n",
       "      <th>P_value_GBM</th>\n",
       "    </tr>\n",
       "  </thead>\n",
       "  <tbody>\n",
       "    <tr>\n",
       "      <th>2728</th>\n",
       "      <td>EGFR</td>\n",
       "      <td>1.000000</td>\n",
       "      <td>0.000000e+00</td>\n",
       "    </tr>\n",
       "    <tr>\n",
       "      <th>6656</th>\n",
       "      <td>PHLDA1</td>\n",
       "      <td>0.816848</td>\n",
       "      <td>3.507071e-21</td>\n",
       "    </tr>\n",
       "    <tr>\n",
       "      <th>3757</th>\n",
       "      <td>GRB2</td>\n",
       "      <td>-0.610889</td>\n",
       "      <td>6.729990e-08</td>\n",
       "    </tr>\n",
       "    <tr>\n",
       "      <th>8734</th>\n",
       "      <td>SOCS2</td>\n",
       "      <td>0.562720</td>\n",
       "      <td>3.420388e-06</td>\n",
       "    </tr>\n",
       "    <tr>\n",
       "      <th>1528</th>\n",
       "      <td>CDH4</td>\n",
       "      <td>0.559180</td>\n",
       "      <td>3.420388e-06</td>\n",
       "    </tr>\n",
       "    <tr>\n",
       "      <th>...</th>\n",
       "      <td>...</td>\n",
       "      <td>...</td>\n",
       "      <td>...</td>\n",
       "    </tr>\n",
       "    <tr>\n",
       "      <th>7216</th>\n",
       "      <td>PSMB4</td>\n",
       "      <td>-0.000033</td>\n",
       "      <td>9.998937e-01</td>\n",
       "    </tr>\n",
       "    <tr>\n",
       "      <th>7161</th>\n",
       "      <td>PRPF39</td>\n",
       "      <td>0.000123</td>\n",
       "      <td>9.998937e-01</td>\n",
       "    </tr>\n",
       "    <tr>\n",
       "      <th>9703</th>\n",
       "      <td>TRAPPC6B</td>\n",
       "      <td>0.000086</td>\n",
       "      <td>9.998937e-01</td>\n",
       "    </tr>\n",
       "    <tr>\n",
       "      <th>5351</th>\n",
       "      <td>MKI67</td>\n",
       "      <td>-0.000098</td>\n",
       "      <td>9.998937e-01</td>\n",
       "    </tr>\n",
       "    <tr>\n",
       "      <th>5621</th>\n",
       "      <td>MTMR9</td>\n",
       "      <td>-0.000008</td>\n",
       "      <td>9.999340e-01</td>\n",
       "    </tr>\n",
       "  </tbody>\n",
       "</table>\n",
       "<p>10703 rows × 3 columns</p>\n",
       "</div>"
      ],
      "text/plain": [
       "     Comparison  Correlation_GBM   P_value_GBM\n",
       "2728       EGFR         1.000000  0.000000e+00\n",
       "6656     PHLDA1         0.816848  3.507071e-21\n",
       "3757       GRB2        -0.610889  6.729990e-08\n",
       "8734      SOCS2         0.562720  3.420388e-06\n",
       "1528       CDH4         0.559180  3.420388e-06\n",
       "...         ...              ...           ...\n",
       "7216      PSMB4        -0.000033  9.998937e-01\n",
       "7161     PRPF39         0.000123  9.998937e-01\n",
       "9703   TRAPPC6B         0.000086  9.998937e-01\n",
       "5351      MKI67        -0.000098  9.998937e-01\n",
       "5621      MTMR9        -0.000008  9.999340e-01\n",
       "\n",
       "[10703 rows x 3 columns]"
      ]
     },
     "execution_count": 6,
     "metadata": {},
     "output_type": "execute_result"
    }
   ],
   "source": [
    "gbm_df = make_trans_df(brain)\n",
    "#Example\n",
    "gbm_df = gbm_df.rename(columns={\"Correlation\": \"Correlation_GBM\",\"P_value\": \"P_value_GBM\" })\n",
    "gbm_df.to_csv('csv_files/trans_effects_all_prot_fdr_corrected_GBM',index=False)\n",
    "gbm_df"
   ]
  },
  {
   "cell_type": "markdown",
   "metadata": {},
   "source": [
    "Kidney "
   ]
  },
  {
   "cell_type": "code",
   "execution_count": 7,
   "metadata": {},
   "outputs": [],
   "source": [
    "kidney_df = make_trans_df(kidney)\n",
    "\n",
    "kidney_df = kidney_df.rename(columns={\"Correlation\": \"Correlation_ccRCC\",\"P_value\": \"P_value_ccRCC\" })\n",
    "kidney_df.to_csv('csv_files/trans_effects_all_prot_fdr_corrected_ccRCC',index=False)"
   ]
  },
  {
   "cell_type": "markdown",
   "metadata": {},
   "source": [
    "Ovarian "
   ]
  },
  {
   "cell_type": "code",
   "execution_count": 8,
   "metadata": {},
   "outputs": [],
   "source": [
    "ovarian_df = make_trans_df(ovar)\n",
    "\n",
    "ovarian_df = ovarian_df.rename(columns={\"Correlation\": \"Correlation_OV\",\"P_value\": \"P_value_OV\" })\n",
    "ovarian_df.to_csv('csv_files/trans_effects_all_prot_fdr_corrected_OV',index=False)"
   ]
  },
  {
   "cell_type": "markdown",
   "metadata": {},
   "source": [
    "Colon"
   ]
  },
  {
   "cell_type": "code",
   "execution_count": 9,
   "metadata": {},
   "outputs": [],
   "source": [
    "colon_df = make_trans_df(colon)\n",
    "\n",
    "colon_df = colon_df.rename(columns={\"Correlation\": \"Correlation_CO\",\"P_value\": \"P_value_CO\" })\n",
    "colon_df.to_csv('csv_files/trans_effects_all_prot_fdr_corrected_CO',index=False)"
   ]
  },
  {
   "cell_type": "markdown",
   "metadata": {},
   "source": [
    "Brca "
   ]
  },
  {
   "cell_type": "code",
   "execution_count": 10,
   "metadata": {},
   "outputs": [],
   "source": [
    "brca_df = make_trans_df(brca)\n",
    "\n",
    "brca_df = brca_df.rename(columns={\"Correlation\": \"Correlation_BR\",\"P_value\": \"P_value_BR\" })\n",
    "brca_df.to_csv('csv_files/trans_effects_all_prot_fdr_corrected_BR',index=False)"
   ]
  },
  {
   "cell_type": "markdown",
   "metadata": {},
   "source": [
    "Luad"
   ]
  },
  {
   "cell_type": "code",
   "execution_count": 11,
   "metadata": {},
   "outputs": [],
   "source": [
    "luad_df = make_trans_df(luad)\n",
    "\n",
    "luad_df = luad_df.rename(columns={\"Correlation\": \"Correlation_LUAD\",\"P_value\": \"P_value_LUAD\" })\n",
    "luad_df.to_csv('csv_files/trans_effects_all_prot_fdr_corrected_LUAD',index=False)"
   ]
  },
  {
   "cell_type": "markdown",
   "metadata": {},
   "source": [
    "Hnscc"
   ]
  },
  {
   "cell_type": "code",
   "execution_count": 12,
   "metadata": {},
   "outputs": [],
   "source": [
    "hnscc_df = make_trans_df(hnscc)\n",
    "\n",
    "hnscc_df = hnscc_df.rename(columns={\"Correlation\": \"Correlation_HNSCC\",\"P_value\": \"P_value_HNSCC\" })\n",
    "hnscc_df.to_csv('csv_files/trans_effects_all_prot_fdr_corrected_HNSCC',index=False)"
   ]
  },
  {
   "cell_type": "markdown",
   "metadata": {},
   "source": [
    "Lscc"
   ]
  },
  {
   "cell_type": "code",
   "execution_count": 13,
   "metadata": {},
   "outputs": [],
   "source": [
    "lscc_df = make_trans_df(lscc)\n",
    "\n",
    "lscc_df = lscc_df.rename(columns={\"Correlation\": \"Correlation_LSCC\",\"P_value\": \"P_value_LSCC\" })\n",
    "lscc_df.to_csv('csv_files/trans_effects_all_prot_fdr_corrected_LSCC',index=False)"
   ]
  },
  {
   "cell_type": "markdown",
   "metadata": {},
   "source": [
    "# Harmonized"
   ]
  },
  {
   "cell_type": "code",
   "execution_count": 15,
   "metadata": {},
   "outputs": [
    {
     "name": "stdout",
     "output_type": "stream",
     "text": [
      "                                                 \r"
     ]
    }
   ],
   "source": [
    "import cptac.pancan as pc\n",
    "pc_g = pc.PancanGbm()\n",
    "pc_hn = pc.PancanHnscc()\n",
    "pc_l = pc.PancanLuad()\n",
    "pc_o = pc.PancanOv()\n",
    "pc_c = pc.PancanCcrcc()\n",
    "pc_col = pc.PancanCoad()\n",
    "pc_b = pc.PancanBrca()\n",
    "pc_ls = pc.PancanLscc()"
   ]
  },
  {
   "cell_type": "markdown",
   "metadata": {},
   "source": [
    "Gbm"
   ]
  },
  {
   "cell_type": "code",
   "execution_count": 16,
   "metadata": {},
   "outputs": [
    {
     "data": {
      "text/html": [
       "<div>\n",
       "<style scoped>\n",
       "    .dataframe tbody tr th:only-of-type {\n",
       "        vertical-align: middle;\n",
       "    }\n",
       "\n",
       "    .dataframe tbody tr th {\n",
       "        vertical-align: top;\n",
       "    }\n",
       "\n",
       "    .dataframe thead th {\n",
       "        text-align: right;\n",
       "    }\n",
       "</style>\n",
       "<table border=\"1\" class=\"dataframe\">\n",
       "  <thead>\n",
       "    <tr style=\"text-align: right;\">\n",
       "      <th></th>\n",
       "      <th>Comparison</th>\n",
       "      <th>Correlation_GBM</th>\n",
       "      <th>P_value_GBM</th>\n",
       "    </tr>\n",
       "  </thead>\n",
       "  <tbody>\n",
       "    <tr>\n",
       "      <th>2813</th>\n",
       "      <td>EGFR</td>\n",
       "      <td>1.000000</td>\n",
       "      <td>0.000000e+00</td>\n",
       "    </tr>\n",
       "    <tr>\n",
       "      <th>2476</th>\n",
       "      <td>PHLDA1</td>\n",
       "      <td>0.789551</td>\n",
       "      <td>9.649849e-19</td>\n",
       "    </tr>\n",
       "    <tr>\n",
       "      <th>11243</th>\n",
       "      <td>CDH4</td>\n",
       "      <td>0.656331</td>\n",
       "      <td>4.744022e-10</td>\n",
       "    </tr>\n",
       "    <tr>\n",
       "      <th>5916</th>\n",
       "      <td>GRB2</td>\n",
       "      <td>-0.589008</td>\n",
       "      <td>3.310325e-07</td>\n",
       "    </tr>\n",
       "    <tr>\n",
       "      <th>7319</th>\n",
       "      <td>PHLDA3</td>\n",
       "      <td>0.561528</td>\n",
       "      <td>2.006861e-06</td>\n",
       "    </tr>\n",
       "    <tr>\n",
       "      <th>...</th>\n",
       "      <td>...</td>\n",
       "      <td>...</td>\n",
       "      <td>...</td>\n",
       "    </tr>\n",
       "    <tr>\n",
       "      <th>6514</th>\n",
       "      <td>UBE2H</td>\n",
       "      <td>-0.000084</td>\n",
       "      <td>9.996825e-01</td>\n",
       "    </tr>\n",
       "    <tr>\n",
       "      <th>5567</th>\n",
       "      <td>OSBP2</td>\n",
       "      <td>0.000071</td>\n",
       "      <td>9.997027e-01</td>\n",
       "    </tr>\n",
       "    <tr>\n",
       "      <th>7294</th>\n",
       "      <td>TMEM181</td>\n",
       "      <td>-0.000058</td>\n",
       "      <td>9.997128e-01</td>\n",
       "    </tr>\n",
       "    <tr>\n",
       "      <th>6509</th>\n",
       "      <td>TPRA1</td>\n",
       "      <td>-0.000068</td>\n",
       "      <td>9.997731e-01</td>\n",
       "    </tr>\n",
       "    <tr>\n",
       "      <th>675</th>\n",
       "      <td>MRPL51</td>\n",
       "      <td>0.000005</td>\n",
       "      <td>9.999712e-01</td>\n",
       "    </tr>\n",
       "  </tbody>\n",
       "</table>\n",
       "<p>11525 rows × 3 columns</p>\n",
       "</div>"
      ],
      "text/plain": [
       "      Comparison  Correlation_GBM   P_value_GBM\n",
       "2813        EGFR         1.000000  0.000000e+00\n",
       "2476      PHLDA1         0.789551  9.649849e-19\n",
       "11243       CDH4         0.656331  4.744022e-10\n",
       "5916        GRB2        -0.589008  3.310325e-07\n",
       "7319      PHLDA3         0.561528  2.006861e-06\n",
       "...          ...              ...           ...\n",
       "6514       UBE2H        -0.000084  9.996825e-01\n",
       "5567       OSBP2         0.000071  9.997027e-01\n",
       "7294     TMEM181        -0.000058  9.997128e-01\n",
       "6509       TPRA1        -0.000068  9.997731e-01\n",
       "675       MRPL51         0.000005  9.999712e-01\n",
       "\n",
       "[11525 rows x 3 columns]"
      ]
     },
     "execution_count": 16,
     "metadata": {},
     "output_type": "execute_result"
    }
   ],
   "source": [
    "pc_gbm_df = make_trans_df(pc_g)\n",
    "#Example\n",
    "pc_gbm_df = pc_gbm_df.rename(columns={\"Correlation\": \"Correlation_GBM\",\"P_value\": \"P_value_GBM\" })\n",
    "pc_gbm_df.to_csv('csv_files/trans_effects_all_prot_fdr_corrected_GBM_Harmonized',index=False)\n",
    "pc_gbm_df"
   ]
  },
  {
   "cell_type": "markdown",
   "metadata": {},
   "source": [
    "Kidney"
   ]
  },
  {
   "cell_type": "code",
   "execution_count": 17,
   "metadata": {},
   "outputs": [],
   "source": [
    "pc_kidney_df = make_trans_df(pc_c)\n",
    "pc_kidney_df = pc_kidney_df.rename(columns={\"Correlation\": \"Correlation_ccRCC\",\"P_value\": \"P_value_ccRCC\" })\n",
    "pc_kidney_df.to_csv('csv_files/trans_effects_all_prot_fdr_corrected_ccRCC_Harmonized',index=False)"
   ]
  },
  {
   "cell_type": "markdown",
   "metadata": {},
   "source": [
    "Ovarian"
   ]
  },
  {
   "cell_type": "code",
   "execution_count": 18,
   "metadata": {},
   "outputs": [],
   "source": [
    "pc_ovarian_df = make_trans_df(pc_o)\n",
    "pc_ovarian_df = pc_ovarian_df.rename(columns={\"Correlation\": \"Correlation_OV\",\"P_value\": \"P_value_OV\" })\n",
    "pc_ovarian_df.to_csv('csv_files/trans_effects_all_prot_fdr_corrected_OV_Harmonized',index=False)"
   ]
  },
  {
   "cell_type": "markdown",
   "metadata": {},
   "source": [
    "Colon"
   ]
  },
  {
   "cell_type": "code",
   "execution_count": 19,
   "metadata": {},
   "outputs": [],
   "source": [
    "pc_colon_df = make_trans_df(pc_col)\n",
    "pc_colon_df = pc_colon_df.rename(columns={\"Correlation\": \"Correlation_CO\",\"P_value\": \"P_value_CO\" })\n",
    "pc_colon_df.to_csv('csv_files/trans_effects_all_prot_fdr_corrected_CO_Harmonized',index=False)"
   ]
  },
  {
   "cell_type": "markdown",
   "metadata": {},
   "source": [
    "Brca"
   ]
  },
  {
   "cell_type": "code",
   "execution_count": 20,
   "metadata": {},
   "outputs": [],
   "source": [
    "pc_brca_df = make_trans_df(pc_b)\n",
    "pc_brca_df = pc_brca_df.rename(columns={\"Correlation\": \"Correlation_BR\",\"P_value\": \"P_value_BR\" })\n",
    "pc_brca_df.to_csv('csv_files/trans_effects_all_prot_fdr_corrected_BR_Harmonized',index=False)"
   ]
  },
  {
   "cell_type": "markdown",
   "metadata": {},
   "source": [
    "Luad"
   ]
  },
  {
   "cell_type": "code",
   "execution_count": 21,
   "metadata": {},
   "outputs": [],
   "source": [
    "pc_luad_df = make_trans_df(pc_l)\n",
    "pc_luad_df = pc_luad_df.rename(columns={\"Correlation\": \"Correlation_LUAD\",\"P_value\": \"P_value_LUAD\" })\n",
    "pc_luad_df.to_csv('csv_files/trans_effects_all_prot_fdr_corrected_LUAD_Harmonized',index=False)"
   ]
  },
  {
   "cell_type": "markdown",
   "metadata": {},
   "source": [
    "Hnscc"
   ]
  },
  {
   "cell_type": "code",
   "execution_count": 22,
   "metadata": {},
   "outputs": [],
   "source": [
    "pc_hnscc_df = make_trans_df(pc_hn)\n",
    "pc_hnscc_df = pc_hnscc_df.rename(columns={\"Correlation\": \"Correlation_HNSCC\",\"P_value\": \"P_value_HNSCC\" })\n",
    "pc_hnscc_df.to_csv('csv_files/trans_effects_all_prot_fdr_corrected_HNSCC_Harmonized',index=False)"
   ]
  },
  {
   "cell_type": "markdown",
   "metadata": {},
   "source": [
    "Lscc"
   ]
  },
  {
   "cell_type": "code",
   "execution_count": 23,
   "metadata": {},
   "outputs": [],
   "source": [
    "pc_lscc_df = make_trans_df(pc_ls)\n",
    "pc_lscc_df = pc_lscc_df.rename(columns={\"Correlation\": \"Correlation_LSCC\",\"P_value\": \"P_value_LSCC\" })\n",
    "pc_lscc_df.to_csv('csv_files/trans_effects_all_prot_fdr_corrected_LSCC_Harmonized',index=False)"
   ]
  },
  {
   "cell_type": "code",
   "execution_count": null,
   "metadata": {},
   "outputs": [],
   "source": []
  }
 ],
 "metadata": {
  "kernelspec": {
   "display_name": "Python 3",
   "language": "python",
   "name": "python3"
  },
  "language_info": {
   "codemirror_mode": {
    "name": "ipython",
    "version": 3
   },
   "file_extension": ".py",
   "mimetype": "text/x-python",
   "name": "python",
   "nbconvert_exporter": "python",
   "pygments_lexer": "ipython3",
   "version": "3.7.3"
  }
 },
 "nbformat": 4,
 "nbformat_minor": 2
}
