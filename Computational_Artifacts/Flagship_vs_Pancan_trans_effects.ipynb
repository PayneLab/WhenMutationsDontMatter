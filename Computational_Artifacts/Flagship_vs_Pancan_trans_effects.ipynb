{
 "cells": [
  {
   "cell_type": "markdown",
   "metadata": {},
   "source": [
    "# Flagship vs Pancan Part 3: Trans Effect"
   ]
  },
  {
   "cell_type": "markdown",
   "metadata": {},
   "source": [
    "Find the trans effects by finding the pearson correlation stats for EGFR proteomics vs all proteomics for each cancer type. Then compare the trans effects between the flagship paper and harmonized pipline.  "
   ]
  },
  {
   "cell_type": "code",
   "execution_count": 1,
   "metadata": {},
   "outputs": [
    {
     "name": "stderr",
     "output_type": "stream",
     "text": [
      "/Users/Lindsey/anaconda3/lib/python3.7/site-packages/statsmodels/tools/_testing.py:19: FutureWarning: pandas.util.testing is deprecated. Use the functions in the public API at pandas.testing instead.\n",
      "  import pandas.util.testing as tm\n"
     ]
    }
   ],
   "source": [
    "import pandas as pd\n",
    "import numpy as np\n",
    "import seaborn as sns\n",
    "import matplotlib.pyplot as plt\n",
    "import scipy.stats\n",
    "import re\n",
    "import sys \n",
    "import statsmodels.stats.multitest\n",
    "\n",
    "import matplotlib.pyplot as plt\n",
    "from matplotlib_venn import venn2\n",
    "import cptac.utils as u\n",
    "import plot_utils as p\n",
    "import warnings\n",
    "warnings.filterwarnings('ignore')"
   ]
  },
  {
   "cell_type": "code",
   "execution_count": 2,
   "metadata": {},
   "outputs": [
    {
     "name": "stdout",
     "output_type": "stream",
     "text": [
      "                                            \r"
     ]
    }
   ],
   "source": [
    "import cptac\n",
    "#load cptac data \n",
    "brain = cptac.Gbm()\n",
    "kidney = cptac.Ccrcc()\n",
    "ovar = cptac.Ovarian()\n",
    "colon = cptac.Colon()\n",
    "brca = cptac.Brca()\n",
    "luad = cptac.Luad()\n",
    "hnscc = cptac.Hnscc()\n",
    "lscc = cptac.Lscc()"
   ]
  },
  {
   "cell_type": "code",
   "execution_count": null,
   "metadata": {},
   "outputs": [
    {
     "name": "stdout",
     "output_type": "stream",
     "text": [
      "Loading washubrca v1.0......                     \r"
     ]
    }
   ],
   "source": [
    "import cptac.pancan as pc\n",
    "pc_g = pc.PancanGbm()\n",
    "pc_hn = pc.PancanHnscc()\n",
    "pc_l = pc.PancanLuad()\n",
    "pc_o = pc.PancanOv()\n",
    "pc_c = pc.PancanCcrcc()\n",
    "pc_col = pc.PancanCoad()\n",
    "pc_b = pc.PancanBrca()\n",
    "pc_ls = pc.PancanLscc()"
   ]
  },
  {
   "cell_type": "markdown",
   "metadata": {},
   "source": [
    "# Step 1: trans effects data munging "
   ]
  },
  {
   "cell_type": "markdown",
   "metadata": {},
   "source": [
    "Call make_trans_df for all cancer types. The function calls wrap_pearson_corr which finds the pearson correleation between EGFR proteomics and all other proteomic columns\n",
    "\n",
    "It records all FDR Benjamini/Hochberg corrected p values. "
   ]
  },
  {
   "cell_type": "code",
   "execution_count": null,
   "metadata": {},
   "outputs": [],
   "source": [
    "'''\n",
    "@Param df: Data frame. Takes a data frame of proteomic data frame.\n",
    "This function takes the data frame from get_proteomics and labels any duplicate columns due to mutliple isoforms.\n",
    "Then it returns the list of all proteins\n",
    "'''\n",
    "\n",
    "def create_prot_list(df):\n",
    "    #Add _(number) to keep track of duplicates due to multiple isoforms \n",
    "    cols = pd.Series(df.columns[:])\n",
    "    for dup in cols[cols.duplicated()].unique(): \n",
    "        cols[cols[cols == dup].index.values.tolist()] = [dup + '_' + str(i) if i != 0 else dup for i in range(sum(cols == dup))]\n",
    "    df.columns=cols\n",
    "    #get list of proteins\n",
    "    prot_genes_list = df.columns.values.tolist()\n",
    "    return prot_genes_list"
   ]
  },
  {
   "cell_type": "code",
   "execution_count": null,
   "metadata": {},
   "outputs": [],
   "source": [
    "'''\n",
    "@Param cancer: cptac data for a cancer Ex brain = cptac.Gbm()\n",
    "\n",
    "This function makes a df with all trans effects. \n",
    "Step 1: Get proteomic data with only tumor samples.\n",
    "Step 2: For each cancer type, create list of proteins by using create_prot_list function \n",
    "which extracts column names and labels duplicate columns caused by multiple isoforms.\n",
    "Step 3:Use plot_utils function wrap_pearson_corr on df and compare EGFR proteomics to all other proteins in protein list.\n",
    "Record all FDR corrected p values. \n",
    "\n",
    "'''\n",
    "\n",
    "def make_trans_df(cancer):\n",
    "    df1_tumor = cancer.get_proteomics(tissue_type= \"tumor\")\n",
    "    \n",
    "    if isinstance(df1_tumor.keys(), pd.core.indexes.multi.MultiIndex):\n",
    "        df1_tumor = u.reduce_multiindex(df1_tumor, levels_to_drop = 1)\n",
    "        \n",
    "    prot_genes_list = create_prot_list(df1_tumor)\n",
    "    trans_df = p.wrap_pearson_corr(df1_tumor,\"EGFR\",comparison_columns= prot_genes_list,correction_method='fdr_bh', return_all = True, return_corrected_pvals = True)\n",
    "    return trans_df\n",
    "    "
   ]
  },
  {
   "cell_type": "markdown",
   "metadata": {},
   "source": [
    "# GBM"
   ]
  },
  {
   "cell_type": "code",
   "execution_count": null,
   "metadata": {},
   "outputs": [],
   "source": [
    "#Flagship\n",
    "gbm_df = make_trans_df(brain)\n",
    "gbm_df\n"
   ]
  },
  {
   "cell_type": "code",
   "execution_count": null,
   "metadata": {},
   "outputs": [],
   "source": [
    "#pancan\n",
    "pancan_gbm_df = make_trans_df(pc_g)"
   ]
  },
  {
   "cell_type": "markdown",
   "metadata": {},
   "source": [
    "# Other Cancer Types"
   ]
  },
  {
   "cell_type": "code",
   "execution_count": null,
   "metadata": {},
   "outputs": [],
   "source": [
    "#Flagship\n",
    "hnscc_df = make_trans_df(hnscc)\n",
    "#pancan\n",
    "pancan_hnscc = make_trans_df(pc_hn)"
   ]
  },
  {
   "cell_type": "code",
   "execution_count": null,
   "metadata": {},
   "outputs": [],
   "source": [
    "#ccRCC flagship\n",
    "ccrcc_df = make_trans_df(kidney)\n",
    "#ccRCC pancan \n",
    "pancan_ccrcc = make_trans_df(pc_c)"
   ]
  },
  {
   "cell_type": "code",
   "execution_count": null,
   "metadata": {},
   "outputs": [],
   "source": [
    "#Luad flagship \n",
    "luad_df = make_trans_df(luad)\n",
    "#luad pancan \n",
    "pancan_luad = make_trans_df(pc_l)"
   ]
  },
  {
   "cell_type": "code",
   "execution_count": null,
   "metadata": {},
   "outputs": [],
   "source": [
    "#Lscc flagship \n",
    "lscc_df = make_trans_df(lscc)\n",
    "#lscc pancan \n",
    "pancan_lscc = make_trans_df(pc_ls)"
   ]
  },
  {
   "cell_type": "code",
   "execution_count": null,
   "metadata": {},
   "outputs": [],
   "source": [
    "#brca flagship \n",
    "brca_df = make_trans_df(brca)\n",
    "#brca pancan\n",
    "pancan_brca = make_trans_df(pc_b)"
   ]
  },
  {
   "cell_type": "code",
   "execution_count": null,
   "metadata": {},
   "outputs": [],
   "source": [
    "#ov flagship \n",
    "ov_df = make_trans_df(ovar)\n",
    "#ov pancan\n",
    "pancan_ov = make_trans_df(pc_o)\n"
   ]
  },
  {
   "cell_type": "code",
   "execution_count": null,
   "metadata": {},
   "outputs": [],
   "source": [
    "#colon flagship\n",
    "colon_df = make_trans_df(colon)\n",
    "#colon pancan\n",
    "pancan_colon = make_trans_df(pc_col)"
   ]
  },
  {
   "cell_type": "markdown",
   "metadata": {},
   "source": [
    "# Step 2: Compare significant trans gens "
   ]
  },
  {
   "cell_type": "markdown",
   "metadata": {},
   "source": [
    "Create venn diagram of significant trans genes from the flagship and pancan pipelines"
   ]
  },
  {
   "cell_type": "code",
   "execution_count": null,
   "metadata": {},
   "outputs": [],
   "source": [
    "def compare_og_pancan_trans_genes(og_df, pancan_df,title):\n",
    "    og_df[\"Comparison\"] = og_df['Comparison'].str.replace(r\"_\\d\",\"\")\n",
    "    og_genes = og_df.loc[(og_df[\"P_value\"] <= 0.05)].Comparison.to_list()\n",
    "    \n",
    "    pancan_df[\"Comparison\"] = pancan_df['Comparison'].str.replace(r\"_\\d\",\"\")\n",
    "    pancan_genes = pancan_df.loc[(pancan_df[\"P_value\"] <= 0.05)].Comparison.to_list()\n",
    "    \n",
    "    og_genes = set(og_genes)\n",
    "    pancan_genes = set(pancan_genes)\n",
    "    venn2([og_genes,pancan_genes],(\"Flagship_genes\", \"Pancan_genes\"))\n",
    "    plt.title(title)\n",
    "    \n",
    "    "
   ]
  },
  {
   "cell_type": "code",
   "execution_count": null,
   "metadata": {},
   "outputs": [],
   "source": [
    "#GBM\n",
    "compare_og_pancan_trans_genes(gbm_df, pancan_gbm_df,\"GBM\")"
   ]
  },
  {
   "cell_type": "code",
   "execution_count": null,
   "metadata": {},
   "outputs": [],
   "source": [
    "#HNSCC\n",
    "compare_og_pancan_trans_genes(hnscc_df, pancan_hnscc,\"HNSCC\")"
   ]
  },
  {
   "cell_type": "code",
   "execution_count": null,
   "metadata": {},
   "outputs": [],
   "source": [
    "#LUAD\n",
    "compare_og_pancan_trans_genes(luad_df, pancan_luad,\"LUAD\")"
   ]
  },
  {
   "cell_type": "code",
   "execution_count": null,
   "metadata": {},
   "outputs": [],
   "source": [
    "#LSCC\n",
    "compare_og_pancan_trans_genes(lscc_df, pancan_lscc,\"LSCC\")"
   ]
  },
  {
   "cell_type": "code",
   "execution_count": null,
   "metadata": {},
   "outputs": [],
   "source": [
    "#ccRCC\n",
    "compare_og_pancan_trans_genes(ccrcc_df, pancan_ccrcc,\"ccRCC\")"
   ]
  },
  {
   "cell_type": "code",
   "execution_count": null,
   "metadata": {},
   "outputs": [],
   "source": [
    "#Colon\n",
    "compare_og_pancan_trans_genes(colon_df, pancan_colon,\"Colon\")"
   ]
  },
  {
   "cell_type": "code",
   "execution_count": null,
   "metadata": {},
   "outputs": [],
   "source": [
    "#OV\n",
    "compare_og_pancan_trans_genes(ov_df, pancan_ov,\"OV\")"
   ]
  },
  {
   "cell_type": "markdown",
   "metadata": {},
   "source": [
    "# Step 3:  Determine consistency of trans effects across cancer types"
   ]
  },
  {
   "cell_type": "markdown",
   "metadata": {},
   "source": [
    "First combine all of the trans effects into one data frame"
   ]
  },
  {
   "cell_type": "code",
   "execution_count": null,
   "metadata": {},
   "outputs": [],
   "source": [
    "#combine all of flagship trans df \n",
    "og_combined = pd.merge(gbm_df, ccrcc_df, on=\"Comparison\", how = \"outer\")\n",
    "og_combined = pd.merge(og_combined, ov_df, on=\"Comparison\", how = \"outer\")\n",
    "og_combined = pd.merge(og_combined, luad_df, on=\"Comparison\", how = \"outer\")\n",
    "og_combined = pd.merge(og_combined, lscc_df, on=\"Comparison\", how = \"outer\")\n",
    "og_combined = pd.merge(og_combined, brca_df, on=\"Comparison\", how = \"outer\")\n",
    "og_combined = pd.merge(og_combined, colon_df, on=\"Comparison\", how = \"outer\")\n",
    "og_combined = pd.merge(og_combined, hnscc_df, on=\"Comparison\", how = \"outer\")\n",
    "og_combined= og_combined[1:]\n",
    "og_combined"
   ]
  },
  {
   "cell_type": "code",
   "execution_count": null,
   "metadata": {},
   "outputs": [],
   "source": [
    "#combine all pancan trans dfs\n",
    "pancan = pd.merge(pancan_gbm_df, pancan_hnscc, on=\"Comparison\", how = \"outer\")\n",
    "pancan = pd.merge(pancan, pancan_luad, on=\"Comparison\", how = \"outer\")\n",
    "pancan = pd.merge(pancan, pancan_lscc, on=\"Comparison\", how = \"outer\")\n",
    "pancan = pd.merge(pancan, pancan_ccrcc, on=\"Comparison\", how = \"outer\")\n",
    "pancan = pancan[1:]\n"
   ]
  }
 ],
 "metadata": {
  "kernelspec": {
   "display_name": "Python 3",
   "language": "python",
   "name": "python3"
  },
  "language_info": {
   "codemirror_mode": {
    "name": "ipython",
    "version": 3
   },
   "file_extension": ".py",
   "mimetype": "text/x-python",
   "name": "python",
   "nbconvert_exporter": "python",
   "pygments_lexer": "ipython3",
   "version": "3.8.8"
  }
 },
 "nbformat": 4,
 "nbformat_minor": 2
}
