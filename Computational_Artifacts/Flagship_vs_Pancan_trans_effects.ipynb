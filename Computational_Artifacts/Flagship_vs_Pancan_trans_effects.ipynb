{
 "cells": [
  {
   "cell_type": "markdown",
   "metadata": {},
   "source": [
    "# Flagship vs Pancan Part 3: Trans Effect"
   ]
  },
  {
   "cell_type": "markdown",
   "metadata": {},
   "source": [
    "Find the trans effects by finding the pearson correlation stats for EGFR proteomics vs all proteomics for each cancer type. Then compare the trans effects between the flagship paper and harmonized pipline.  "
   ]
  },
  {
   "cell_type": "code",
   "execution_count": 29,
   "metadata": {},
   "outputs": [],
   "source": [
    "import pandas as pd\n",
    "import numpy as np\n",
    "import seaborn as sns\n",
    "import matplotlib.pyplot as plt\n",
    "import scipy.stats\n",
    "import re\n",
    "import sys \n",
    "import statsmodels.stats.multitest\n",
    "\n",
    "import matplotlib.pyplot as plt\n",
    "from matplotlib_venn import venn2\n",
    "import cptac.utils as u\n",
    "import plot_utils as p\n",
    "import warnings\n",
    "warnings.filterwarnings('ignore')"
   ]
  },
  {
   "cell_type": "code",
   "execution_count": 1,
   "metadata": {},
   "outputs": [
    {
     "name": "stderr",
     "output_type": "stream",
     "text": [
      "/Users/Lindsey/anaconda3/lib/python3.7/site-packages/statsmodels/tools/_testing.py:19: FutureWarning: pandas.util.testing is deprecated. Use the functions in the public API at pandas.testing instead.\n",
      "  import pandas.util.testing as tm\n"
     ]
    },
    {
     "name": "stdout",
     "output_type": "stream",
     "text": [
      "                                            \r"
     ]
    },
    {
     "name": "stderr",
     "output_type": "stream",
     "text": [
      "cptac warning: The LSCC data is currently strictly reserved for CPTAC investigators. Otherwise, you are not authorized to access these data. Additionally, even after these data become publicly available, they will be subject to a publication embargo (see https://proteomics.cancer.gov/data-portal/about/data-use-agreement or enter cptac.embargo() to open the webpage for more details). (/Users/Lindsey/anaconda3/lib/python3.7/site-packages/ipykernel_launcher.py, line 10)\n"
     ]
    }
   ],
   "source": [
    "import cptac\n",
    "#load cptac data \n",
    "brain = cptac.Gbm()\n",
    "kidney = cptac.Ccrcc()\n",
    "ovar = cptac.Ovarian()\n",
    "colon = cptac.Colon()\n",
    "brca = cptac.Brca()\n",
    "luad = cptac.Luad()\n",
    "hnscc = cptac.Hnscc()\n",
    "lscc = cptac.Lscc()"
   ]
  },
  {
   "cell_type": "code",
   "execution_count": 4,
   "metadata": {},
   "outputs": [
    {
     "name": "stdout",
     "output_type": "stream",
     "text": [
      "                                                 \r"
     ]
    }
   ],
   "source": [
    "import cptac.pancan as pc\n",
    "pc_g = pc.PancanGbm()\n",
    "pc_hn = pc.PancanHnscc()\n",
    "pc_l = pc.PancanLuad()\n",
    "#o = pc.PancanOv()\n",
    "pc_c = pc.PancanCcrcc()\n",
    "#col = pc.PancanCoad()\n",
    "pc_b = pc.PancanBrca()\n",
    "pc_ls = pc.PancanLscc()\n",
    "pc_en = pc.PancanUcec()"
   ]
  },
  {
   "cell_type": "markdown",
   "metadata": {},
   "source": [
    "# Step 1: trans effects data munging "
   ]
  },
  {
   "cell_type": "markdown",
   "metadata": {},
   "source": [
    "Call make_trans_df for all cancer types. The function calls wrap_pearson_corr which finds the pearson correleation between EGFR proteomics and all other proteomic columns\n",
    "\n",
    "It records all FDR Benjamini/Hochberg corrected p values. "
   ]
  },
  {
   "cell_type": "code",
   "execution_count": 6,
   "metadata": {},
   "outputs": [],
   "source": [
    "'''\n",
    "@Param df: Data frame. Takes a data frame of proteomic data frame.\n",
    "This function takes the data frame from get_proteomics and labels any duplicate columns due to mutliple isoforms.\n",
    "Then it returns the list of all proteins\n",
    "'''\n",
    "\n",
    "def create_prot_list(df):\n",
    "    #Add _(number) to keep track of duplicates due to multiple isoforms \n",
    "    cols = pd.Series(df.columns[:])\n",
    "    for dup in cols[cols.duplicated()].unique(): \n",
    "        cols[cols[cols == dup].index.values.tolist()] = [dup + '_' + str(i) if i != 0 else dup for i in range(sum(cols == dup))]\n",
    "    df.columns=cols\n",
    "    #get list of proteins\n",
    "    prot_genes_list = df.columns.values.tolist()\n",
    "    return prot_genes_list"
   ]
  },
  {
   "cell_type": "code",
   "execution_count": 7,
   "metadata": {},
   "outputs": [],
   "source": [
    "'''\n",
    "@Param cancer: cptac data for a cancer Ex brain = cptac.Gbm()\n",
    "\n",
    "This function makes a df with all trans effects. \n",
    "Step 1: Get proteomic data with only tumor samples.\n",
    "Step 2: For each cancer type, create list of proteins by using create_prot_list function \n",
    "which extracts column names and labels duplicate columns caused by multiple isoforms.\n",
    "Step 3:Use plot_utils function wrap_pearson_corr on df and compare EGFR proteomics to all other proteins in protein list.\n",
    "Record all FDR corrected p values. \n",
    "\n",
    "'''\n",
    "\n",
    "def make_trans_df(cancer):\n",
    "    df1_tumor = cancer.get_proteomics(tissue_type= \"tumor\")\n",
    "    \n",
    "    if isinstance(df1_tumor.keys(), pd.core.indexes.multi.MultiIndex):\n",
    "        df1_tumor = u.reduce_multiindex(df1_tumor, levels_to_drop = 1)\n",
    "        \n",
    "    prot_genes_list = create_prot_list(df1_tumor)\n",
    "    trans_df = p.wrap_pearson_corr(df1_tumor,\"EGFR\",comparison_columns= prot_genes_list,correction_method='fdr_bh', return_all = True, return_corrected_pvals = True)\n",
    "    return trans_df\n",
    "    "
   ]
  },
  {
   "cell_type": "markdown",
   "metadata": {},
   "source": [
    "# GBM"
   ]
  },
  {
   "cell_type": "code",
   "execution_count": 21,
   "metadata": {},
   "outputs": [
    {
     "data": {
      "text/html": [
       "<div>\n",
       "<style scoped>\n",
       "    .dataframe tbody tr th:only-of-type {\n",
       "        vertical-align: middle;\n",
       "    }\n",
       "\n",
       "    .dataframe tbody tr th {\n",
       "        vertical-align: top;\n",
       "    }\n",
       "\n",
       "    .dataframe thead th {\n",
       "        text-align: right;\n",
       "    }\n",
       "</style>\n",
       "<table border=\"1\" class=\"dataframe\">\n",
       "  <thead>\n",
       "    <tr style=\"text-align: right;\">\n",
       "      <th></th>\n",
       "      <th>Comparison</th>\n",
       "      <th>Correlation</th>\n",
       "      <th>P_value</th>\n",
       "    </tr>\n",
       "  </thead>\n",
       "  <tbody>\n",
       "    <tr>\n",
       "      <th>2728</th>\n",
       "      <td>EGFR</td>\n",
       "      <td>1.000000</td>\n",
       "      <td>0.000000e+00</td>\n",
       "    </tr>\n",
       "    <tr>\n",
       "      <th>6656</th>\n",
       "      <td>PHLDA1</td>\n",
       "      <td>0.816848</td>\n",
       "      <td>3.507071e-21</td>\n",
       "    </tr>\n",
       "    <tr>\n",
       "      <th>3757</th>\n",
       "      <td>GRB2</td>\n",
       "      <td>-0.610889</td>\n",
       "      <td>6.729990e-08</td>\n",
       "    </tr>\n",
       "    <tr>\n",
       "      <th>8734</th>\n",
       "      <td>SOCS2</td>\n",
       "      <td>0.562720</td>\n",
       "      <td>3.420388e-06</td>\n",
       "    </tr>\n",
       "    <tr>\n",
       "      <th>1528</th>\n",
       "      <td>CDH4</td>\n",
       "      <td>0.559180</td>\n",
       "      <td>3.420388e-06</td>\n",
       "    </tr>\n",
       "    <tr>\n",
       "      <th>...</th>\n",
       "      <td>...</td>\n",
       "      <td>...</td>\n",
       "      <td>...</td>\n",
       "    </tr>\n",
       "    <tr>\n",
       "      <th>7216</th>\n",
       "      <td>PSMB4</td>\n",
       "      <td>-0.000033</td>\n",
       "      <td>9.998937e-01</td>\n",
       "    </tr>\n",
       "    <tr>\n",
       "      <th>7161</th>\n",
       "      <td>PRPF39</td>\n",
       "      <td>0.000123</td>\n",
       "      <td>9.998937e-01</td>\n",
       "    </tr>\n",
       "    <tr>\n",
       "      <th>9703</th>\n",
       "      <td>TRAPPC6B</td>\n",
       "      <td>0.000086</td>\n",
       "      <td>9.998937e-01</td>\n",
       "    </tr>\n",
       "    <tr>\n",
       "      <th>5351</th>\n",
       "      <td>MKI67</td>\n",
       "      <td>-0.000098</td>\n",
       "      <td>9.998937e-01</td>\n",
       "    </tr>\n",
       "    <tr>\n",
       "      <th>5621</th>\n",
       "      <td>MTMR9</td>\n",
       "      <td>-0.000008</td>\n",
       "      <td>9.999340e-01</td>\n",
       "    </tr>\n",
       "  </tbody>\n",
       "</table>\n",
       "<p>10703 rows × 3 columns</p>\n",
       "</div>"
      ],
      "text/plain": [
       "     Comparison  Correlation       P_value\n",
       "2728       EGFR     1.000000  0.000000e+00\n",
       "6656     PHLDA1     0.816848  3.507071e-21\n",
       "3757       GRB2    -0.610889  6.729990e-08\n",
       "8734      SOCS2     0.562720  3.420388e-06\n",
       "1528       CDH4     0.559180  3.420388e-06\n",
       "...         ...          ...           ...\n",
       "7216      PSMB4    -0.000033  9.998937e-01\n",
       "7161     PRPF39     0.000123  9.998937e-01\n",
       "9703   TRAPPC6B     0.000086  9.998937e-01\n",
       "5351      MKI67    -0.000098  9.998937e-01\n",
       "5621      MTMR9    -0.000008  9.999340e-01\n",
       "\n",
       "[10703 rows x 3 columns]"
      ]
     },
     "execution_count": 21,
     "metadata": {},
     "output_type": "execute_result"
    }
   ],
   "source": [
    "#Flagship\n",
    "gbm_df = make_trans_df(brain)\n",
    "gbm_df\n"
   ]
  },
  {
   "cell_type": "code",
   "execution_count": 22,
   "metadata": {},
   "outputs": [],
   "source": [
    "#pancan\n",
    "pancan_gbm_df = make_trans_df(pc_g)\n",
    "\n"
   ]
  },
  {
   "cell_type": "markdown",
   "metadata": {},
   "source": [
    "# HNSCC"
   ]
  },
  {
   "cell_type": "code",
   "execution_count": 42,
   "metadata": {},
   "outputs": [
    {
     "data": {
      "text/html": [
       "<div>\n",
       "<style scoped>\n",
       "    .dataframe tbody tr th:only-of-type {\n",
       "        vertical-align: middle;\n",
       "    }\n",
       "\n",
       "    .dataframe tbody tr th {\n",
       "        vertical-align: top;\n",
       "    }\n",
       "\n",
       "    .dataframe thead th {\n",
       "        text-align: right;\n",
       "    }\n",
       "</style>\n",
       "<table border=\"1\" class=\"dataframe\">\n",
       "  <thead>\n",
       "    <tr style=\"text-align: right;\">\n",
       "      <th></th>\n",
       "      <th>Comparison</th>\n",
       "      <th>Correlation</th>\n",
       "      <th>P_value</th>\n",
       "    </tr>\n",
       "  </thead>\n",
       "  <tbody>\n",
       "    <tr>\n",
       "      <th>2687</th>\n",
       "      <td>EGFR</td>\n",
       "      <td>1.000000</td>\n",
       "      <td>0.000000e+00</td>\n",
       "    </tr>\n",
       "    <tr>\n",
       "      <th>4684</th>\n",
       "      <td>LANCL2</td>\n",
       "      <td>0.802151</td>\n",
       "      <td>2.402226e-23</td>\n",
       "    </tr>\n",
       "    <tr>\n",
       "      <th>6539</th>\n",
       "      <td>PHLDA3</td>\n",
       "      <td>0.688297</td>\n",
       "      <td>6.623837e-14</td>\n",
       "    </tr>\n",
       "    <tr>\n",
       "      <th>6537</th>\n",
       "      <td>PHLDA1</td>\n",
       "      <td>0.587915</td>\n",
       "      <td>1.282608e-08</td>\n",
       "    </tr>\n",
       "    <tr>\n",
       "      <th>9416</th>\n",
       "      <td>TPBG</td>\n",
       "      <td>0.583325</td>\n",
       "      <td>1.530688e-08</td>\n",
       "    </tr>\n",
       "    <tr>\n",
       "      <th>...</th>\n",
       "      <td>...</td>\n",
       "      <td>...</td>\n",
       "      <td>...</td>\n",
       "    </tr>\n",
       "    <tr>\n",
       "      <th>6656</th>\n",
       "      <td>PLCD4</td>\n",
       "      <td>0.000142</td>\n",
       "      <td>9.995335e-01</td>\n",
       "    </tr>\n",
       "    <tr>\n",
       "      <th>8842</th>\n",
       "      <td>SUPT3H</td>\n",
       "      <td>-0.000184</td>\n",
       "      <td>9.995335e-01</td>\n",
       "    </tr>\n",
       "    <tr>\n",
       "      <th>2963</th>\n",
       "      <td>EXTL3</td>\n",
       "      <td>0.000067</td>\n",
       "      <td>9.996077e-01</td>\n",
       "    </tr>\n",
       "    <tr>\n",
       "      <th>3393</th>\n",
       "      <td>GALK1</td>\n",
       "      <td>0.000060</td>\n",
       "      <td>9.996077e-01</td>\n",
       "    </tr>\n",
       "    <tr>\n",
       "      <th>1032</th>\n",
       "      <td>BTBD10</td>\n",
       "      <td>-0.000019</td>\n",
       "      <td>9.998462e-01</td>\n",
       "    </tr>\n",
       "  </tbody>\n",
       "</table>\n",
       "<p>10433 rows × 3 columns</p>\n",
       "</div>"
      ],
      "text/plain": [
       "     Comparison  Correlation       P_value\n",
       "2687       EGFR     1.000000  0.000000e+00\n",
       "4684     LANCL2     0.802151  2.402226e-23\n",
       "6539     PHLDA3     0.688297  6.623837e-14\n",
       "6537     PHLDA1     0.587915  1.282608e-08\n",
       "9416       TPBG     0.583325  1.530688e-08\n",
       "...         ...          ...           ...\n",
       "6656      PLCD4     0.000142  9.995335e-01\n",
       "8842     SUPT3H    -0.000184  9.995335e-01\n",
       "2963      EXTL3     0.000067  9.996077e-01\n",
       "3393      GALK1     0.000060  9.996077e-01\n",
       "1032     BTBD10    -0.000019  9.998462e-01\n",
       "\n",
       "[10433 rows x 3 columns]"
      ]
     },
     "execution_count": 42,
     "metadata": {},
     "output_type": "execute_result"
    }
   ],
   "source": [
    "#Flagship\n",
    "hnscc_df = make_trans_df(hnscc)\n",
    "hnscc_df\n"
   ]
  },
  {
   "cell_type": "code",
   "execution_count": 43,
   "metadata": {},
   "outputs": [],
   "source": [
    "#pancan\n",
    "pancan_hnscc = make_trans_df(pc_hn)\n",
    "\n"
   ]
  },
  {
   "cell_type": "code",
   "execution_count": 13,
   "metadata": {},
   "outputs": [],
   "source": [
    "#ccRCC flagship\n",
    "ccrcc_df = make_trans_df(kidney)\n",
    "#ccRCC pancan \n",
    "pancan_ccrcc = make_trans_df(pc_c)"
   ]
  },
  {
   "cell_type": "code",
   "execution_count": 14,
   "metadata": {},
   "outputs": [],
   "source": [
    "#Luad flagship \n",
    "luad_df = make_trans_df(luad)\n",
    "#luad pancan \n",
    "pancan_luad = make_trans_df(pc_l)"
   ]
  },
  {
   "cell_type": "code",
   "execution_count": 15,
   "metadata": {},
   "outputs": [],
   "source": [
    "#Lscc flagship \n",
    "lscc_df = make_trans_df(lscc)\n",
    "#lscc pancan \n",
    "pancan_lscc = make_trans_df(pc_ls)"
   ]
  },
  {
   "cell_type": "code",
   "execution_count": 17,
   "metadata": {},
   "outputs": [],
   "source": [
    "#brca flagship \n",
    "brca_df = make_trans_df(brca)\n",
    "#brca pancan\n",
    "pancan_brca = make_trans_df(pc_b)"
   ]
  },
  {
   "cell_type": "code",
   "execution_count": 19,
   "metadata": {},
   "outputs": [],
   "source": [
    "#ov flagship \n",
    "ov_df = make_trans_df(ovar)"
   ]
  },
  {
   "cell_type": "code",
   "execution_count": 75,
   "metadata": {},
   "outputs": [],
   "source": [
    "#colon flagship\n",
    "colon_df = make_trans_df(colon)"
   ]
  },
  {
   "cell_type": "markdown",
   "metadata": {},
   "source": [
    "# Step 2: Compare significant trans gens "
   ]
  },
  {
   "cell_type": "markdown",
   "metadata": {},
   "source": [
    "Create venn diagram of significant trans genes from the flagship and pancan pipelines"
   ]
  },
  {
   "cell_type": "code",
   "execution_count": 65,
   "metadata": {},
   "outputs": [],
   "source": [
    "def compare_og_pancan_trans_genes(og_df, pancan_df,title):\n",
    "    og_df[\"Comparison\"] = og_df['Comparison'].str.replace(r\"_\\d\",\"\")\n",
    "    og_genes = og_df.loc[(og_df[\"P_value\"] <= 0.05)].Comparison.to_list()\n",
    "    \n",
    "    pancan_df[\"Comparison\"] = pancan_df['Comparison'].str.replace(r\"_\\d\",\"\")\n",
    "    pancan_genes = pancan_df.loc[(pancan_df[\"P_value\"] <= 0.05)].Comparison.to_list()\n",
    "    \n",
    "    og_genes = set(og_genes)\n",
    "    pancan_genes = set(pancan_genes)\n",
    "    venn2([og_genes,pancan_genes],(\"Flagship_genes\", \"Pancan_genes\"))\n",
    "    plt.title(title)\n",
    "    \n",
    "    "
   ]
  },
  {
   "cell_type": "code",
   "execution_count": 47,
   "metadata": {},
   "outputs": [
    {
     "data": {
      "image/png": "[encoded data removed]",
      "text/plain": [
       "<Figure size 432x288 with 1 Axes>"
      ]
     },
     "metadata": {},
     "output_type": "display_data"
    }
   ],
   "source": [
    "#GBM\n",
    "compare_og_pancan_trans_genes(gbm_df, pancan_gbm_df,\"GBM\")"
   ]
  },
  {
   "cell_type": "code",
   "execution_count": 66,
   "metadata": {},
   "outputs": [
    {
     "data": {
      "image/png": "[encoded data removed]",
      "text/plain": [
       "<Figure size 432x288 with 1 Axes>"
      ]
     },
     "metadata": {},
     "output_type": "display_data"
    }
   ],
   "source": [
    "#HNSCC\n",
    "compare_og_pancan_trans_genes(hnscc_df, pancan_hnscc,\"HNSCC\")"
   ]
  },
  {
   "cell_type": "code",
   "execution_count": 67,
   "metadata": {},
   "outputs": [
    {
     "data": {
      "image/png": "[encoded data removed]",
      "text/plain": [
       "<Figure size 432x288 with 1 Axes>"
      ]
     },
     "metadata": {},
     "output_type": "display_data"
    }
   ],
   "source": [
    "#LUAD\n",
    "compare_og_pancan_trans_genes(luad_df, pancan_luad,\"LUAD\")"
   ]
  },
  {
   "cell_type": "code",
   "execution_count": 68,
   "metadata": {},
   "outputs": [
    {
     "data": {
      "image/png": "[encoded data removed]",
      "text/plain": [
       "<Figure size 432x288 with 1 Axes>"
      ]
     },
     "metadata": {},
     "output_type": "display_data"
    }
   ],
   "source": [
    "#LSCC\n",
    "compare_og_pancan_trans_genes(lscc_df, pancan_lscc,\"LSCC\")"
   ]
  },
  {
   "cell_type": "code",
   "execution_count": 69,
   "metadata": {},
   "outputs": [
    {
     "data": {
      "image/png": "[encoded data removed]",
      "text/plain": [
       "<Figure size 432x288 with 1 Axes>"
      ]
     },
     "metadata": {},
     "output_type": "display_data"
    }
   ],
   "source": [
    "#ccRCC\n",
    "compare_og_pancan_trans_genes(ccrcc_df, pancan_ccrcc,\"ccRCC\")"
   ]
  },
  {
   "cell_type": "markdown",
   "metadata": {},
   "source": [
    "# Step 3:  Determine consistency of trans effects across cancer types"
   ]
  },
  {
   "cell_type": "markdown",
   "metadata": {},
   "source": [
    "First combine all of the trans effects into one data frame"
   ]
  },
  {
   "cell_type": "code",
   "execution_count": 76,
   "metadata": {},
   "outputs": [
    {
     "data": {
      "text/html": [
       "<div>\n",
       "<style scoped>\n",
       "    .dataframe tbody tr th:only-of-type {\n",
       "        vertical-align: middle;\n",
       "    }\n",
       "\n",
       "    .dataframe tbody tr th {\n",
       "        vertical-align: top;\n",
       "    }\n",
       "\n",
       "    .dataframe thead th {\n",
       "        text-align: right;\n",
       "    }\n",
       "</style>\n",
       "<table border=\"1\" class=\"dataframe\">\n",
       "  <thead>\n",
       "    <tr style=\"text-align: right;\">\n",
       "      <th></th>\n",
       "      <th>Comparison</th>\n",
       "      <th>Correlation_x</th>\n",
       "      <th>P_value_x</th>\n",
       "      <th>Correlation_y</th>\n",
       "      <th>P_value_y</th>\n",
       "      <th>Correlation_x</th>\n",
       "      <th>P_value_x</th>\n",
       "      <th>Correlation_y</th>\n",
       "      <th>P_value_y</th>\n",
       "      <th>Correlation_x</th>\n",
       "      <th>P_value_x</th>\n",
       "      <th>Correlation_y</th>\n",
       "      <th>P_value_y</th>\n",
       "      <th>Correlation_x</th>\n",
       "      <th>P_value_x</th>\n",
       "      <th>Correlation_y</th>\n",
       "      <th>P_value_y</th>\n",
       "    </tr>\n",
       "  </thead>\n",
       "  <tbody>\n",
       "    <tr>\n",
       "      <th>1</th>\n",
       "      <td>PHLDA1</td>\n",
       "      <td>0.816848</td>\n",
       "      <td>3.507071e-21</td>\n",
       "      <td>0.254436</td>\n",
       "      <td>0.060261</td>\n",
       "      <td>NaN</td>\n",
       "      <td>NaN</td>\n",
       "      <td>0.260110</td>\n",
       "      <td>0.074530</td>\n",
       "      <td>0.713420</td>\n",
       "      <td>2.644826e-14</td>\n",
       "      <td>0.364797</td>\n",
       "      <td>0.002164</td>\n",
       "      <td>0.386104</td>\n",
       "      <td>0.122847</td>\n",
       "      <td>0.587915</td>\n",
       "      <td>1.282608e-08</td>\n",
       "    </tr>\n",
       "    <tr>\n",
       "      <th>2</th>\n",
       "      <td>GRB2</td>\n",
       "      <td>-0.610889</td>\n",
       "      <td>6.729990e-08</td>\n",
       "      <td>-0.217427</td>\n",
       "      <td>0.120342</td>\n",
       "      <td>-0.190090</td>\n",
       "      <td>0.346111</td>\n",
       "      <td>-0.302439</td>\n",
       "      <td>0.020631</td>\n",
       "      <td>-0.198042</td>\n",
       "      <td>2.437176e-01</td>\n",
       "      <td>-0.177379</td>\n",
       "      <td>0.142733</td>\n",
       "      <td>0.150960</td>\n",
       "      <td>0.347409</td>\n",
       "      <td>-0.496325</td>\n",
       "      <td>1.084446e-05</td>\n",
       "    </tr>\n",
       "    <tr>\n",
       "      <th>3</th>\n",
       "      <td>SOCS2</td>\n",
       "      <td>0.562720</td>\n",
       "      <td>3.420388e-06</td>\n",
       "      <td>NaN</td>\n",
       "      <td>NaN</td>\n",
       "      <td>NaN</td>\n",
       "      <td>NaN</td>\n",
       "      <td>NaN</td>\n",
       "      <td>NaN</td>\n",
       "      <td>0.472624</td>\n",
       "      <td>1.417921e-02</td>\n",
       "      <td>NaN</td>\n",
       "      <td>NaN</td>\n",
       "      <td>NaN</td>\n",
       "      <td>NaN</td>\n",
       "      <td>-0.014519</td>\n",
       "      <td>9.611234e-01</td>\n",
       "    </tr>\n",
       "    <tr>\n",
       "      <th>4</th>\n",
       "      <td>CDH4</td>\n",
       "      <td>0.559180</td>\n",
       "      <td>3.420388e-06</td>\n",
       "      <td>0.148407</td>\n",
       "      <td>0.513490</td>\n",
       "      <td>NaN</td>\n",
       "      <td>NaN</td>\n",
       "      <td>NaN</td>\n",
       "      <td>NaN</td>\n",
       "      <td>NaN</td>\n",
       "      <td>NaN</td>\n",
       "      <td>NaN</td>\n",
       "      <td>NaN</td>\n",
       "      <td>NaN</td>\n",
       "      <td>NaN</td>\n",
       "      <td>NaN</td>\n",
       "      <td>NaN</td>\n",
       "    </tr>\n",
       "    <tr>\n",
       "      <th>5</th>\n",
       "      <td>DAB2</td>\n",
       "      <td>-0.556402</td>\n",
       "      <td>3.420388e-06</td>\n",
       "      <td>-0.076173</td>\n",
       "      <td>0.673774</td>\n",
       "      <td>0.076981</td>\n",
       "      <td>0.750510</td>\n",
       "      <td>-0.086403</td>\n",
       "      <td>0.597546</td>\n",
       "      <td>-0.072496</td>\n",
       "      <td>7.501117e-01</td>\n",
       "      <td>0.326055</td>\n",
       "      <td>0.003543</td>\n",
       "      <td>-0.147519</td>\n",
       "      <td>0.360266</td>\n",
       "      <td>-0.224967</td>\n",
       "      <td>7.751436e-02</td>\n",
       "    </tr>\n",
       "    <tr>\n",
       "      <th>...</th>\n",
       "      <td>...</td>\n",
       "      <td>...</td>\n",
       "      <td>...</td>\n",
       "      <td>...</td>\n",
       "      <td>...</td>\n",
       "      <td>...</td>\n",
       "      <td>...</td>\n",
       "      <td>...</td>\n",
       "      <td>...</td>\n",
       "      <td>...</td>\n",
       "      <td>...</td>\n",
       "      <td>...</td>\n",
       "      <td>...</td>\n",
       "      <td>...</td>\n",
       "      <td>...</td>\n",
       "      <td>...</td>\n",
       "      <td>...</td>\n",
       "    </tr>\n",
       "    <tr>\n",
       "      <th>16814</th>\n",
       "      <td>PIM1</td>\n",
       "      <td>NaN</td>\n",
       "      <td>NaN</td>\n",
       "      <td>NaN</td>\n",
       "      <td>NaN</td>\n",
       "      <td>NaN</td>\n",
       "      <td>NaN</td>\n",
       "      <td>NaN</td>\n",
       "      <td>NaN</td>\n",
       "      <td>NaN</td>\n",
       "      <td>NaN</td>\n",
       "      <td>NaN</td>\n",
       "      <td>NaN</td>\n",
       "      <td>NaN</td>\n",
       "      <td>NaN</td>\n",
       "      <td>-0.002105</td>\n",
       "      <td>9.917500e-01</td>\n",
       "    </tr>\n",
       "    <tr>\n",
       "      <th>16815</th>\n",
       "      <td>HEPHL1</td>\n",
       "      <td>NaN</td>\n",
       "      <td>NaN</td>\n",
       "      <td>NaN</td>\n",
       "      <td>NaN</td>\n",
       "      <td>NaN</td>\n",
       "      <td>NaN</td>\n",
       "      <td>NaN</td>\n",
       "      <td>NaN</td>\n",
       "      <td>NaN</td>\n",
       "      <td>NaN</td>\n",
       "      <td>NaN</td>\n",
       "      <td>NaN</td>\n",
       "      <td>NaN</td>\n",
       "      <td>NaN</td>\n",
       "      <td>-0.001563</td>\n",
       "      <td>9.931644e-01</td>\n",
       "    </tr>\n",
       "    <tr>\n",
       "      <th>16816</th>\n",
       "      <td>SULT6B1</td>\n",
       "      <td>NaN</td>\n",
       "      <td>NaN</td>\n",
       "      <td>NaN</td>\n",
       "      <td>NaN</td>\n",
       "      <td>NaN</td>\n",
       "      <td>NaN</td>\n",
       "      <td>NaN</td>\n",
       "      <td>NaN</td>\n",
       "      <td>NaN</td>\n",
       "      <td>NaN</td>\n",
       "      <td>NaN</td>\n",
       "      <td>NaN</td>\n",
       "      <td>NaN</td>\n",
       "      <td>NaN</td>\n",
       "      <td>-0.001236</td>\n",
       "      <td>9.950909e-01</td>\n",
       "    </tr>\n",
       "    <tr>\n",
       "      <th>16817</th>\n",
       "      <td>CLEC4G</td>\n",
       "      <td>NaN</td>\n",
       "      <td>NaN</td>\n",
       "      <td>NaN</td>\n",
       "      <td>NaN</td>\n",
       "      <td>NaN</td>\n",
       "      <td>NaN</td>\n",
       "      <td>NaN</td>\n",
       "      <td>NaN</td>\n",
       "      <td>NaN</td>\n",
       "      <td>NaN</td>\n",
       "      <td>NaN</td>\n",
       "      <td>NaN</td>\n",
       "      <td>NaN</td>\n",
       "      <td>NaN</td>\n",
       "      <td>0.001142</td>\n",
       "      <td>9.963768e-01</td>\n",
       "    </tr>\n",
       "    <tr>\n",
       "      <th>16818</th>\n",
       "      <td>CXXC4</td>\n",
       "      <td>NaN</td>\n",
       "      <td>NaN</td>\n",
       "      <td>NaN</td>\n",
       "      <td>NaN</td>\n",
       "      <td>NaN</td>\n",
       "      <td>NaN</td>\n",
       "      <td>NaN</td>\n",
       "      <td>NaN</td>\n",
       "      <td>NaN</td>\n",
       "      <td>NaN</td>\n",
       "      <td>NaN</td>\n",
       "      <td>NaN</td>\n",
       "      <td>NaN</td>\n",
       "      <td>NaN</td>\n",
       "      <td>-0.000515</td>\n",
       "      <td>9.987101e-01</td>\n",
       "    </tr>\n",
       "  </tbody>\n",
       "</table>\n",
       "<p>16818 rows × 17 columns</p>\n",
       "</div>"
      ],
      "text/plain": [
       "      Comparison  Correlation_x     P_value_x  Correlation_y  P_value_y  \\\n",
       "1         PHLDA1       0.816848  3.507071e-21       0.254436   0.060261   \n",
       "2           GRB2      -0.610889  6.729990e-08      -0.217427   0.120342   \n",
       "3          SOCS2       0.562720  3.420388e-06            NaN        NaN   \n",
       "4           CDH4       0.559180  3.420388e-06       0.148407   0.513490   \n",
       "5           DAB2      -0.556402  3.420388e-06      -0.076173   0.673774   \n",
       "...          ...            ...           ...            ...        ...   \n",
       "16814       PIM1            NaN           NaN            NaN        NaN   \n",
       "16815     HEPHL1            NaN           NaN            NaN        NaN   \n",
       "16816    SULT6B1            NaN           NaN            NaN        NaN   \n",
       "16817     CLEC4G            NaN           NaN            NaN        NaN   \n",
       "16818      CXXC4            NaN           NaN            NaN        NaN   \n",
       "\n",
       "       Correlation_x  P_value_x  Correlation_y  P_value_y  Correlation_x  \\\n",
       "1                NaN        NaN       0.260110   0.074530       0.713420   \n",
       "2          -0.190090   0.346111      -0.302439   0.020631      -0.198042   \n",
       "3                NaN        NaN            NaN        NaN       0.472624   \n",
       "4                NaN        NaN            NaN        NaN            NaN   \n",
       "5           0.076981   0.750510      -0.086403   0.597546      -0.072496   \n",
       "...              ...        ...            ...        ...            ...   \n",
       "16814            NaN        NaN            NaN        NaN            NaN   \n",
       "16815            NaN        NaN            NaN        NaN            NaN   \n",
       "16816            NaN        NaN            NaN        NaN            NaN   \n",
       "16817            NaN        NaN            NaN        NaN            NaN   \n",
       "16818            NaN        NaN            NaN        NaN            NaN   \n",
       "\n",
       "          P_value_x  Correlation_y  P_value_y  Correlation_x  P_value_x  \\\n",
       "1      2.644826e-14       0.364797   0.002164       0.386104   0.122847   \n",
       "2      2.437176e-01      -0.177379   0.142733       0.150960   0.347409   \n",
       "3      1.417921e-02            NaN        NaN            NaN        NaN   \n",
       "4               NaN            NaN        NaN            NaN        NaN   \n",
       "5      7.501117e-01       0.326055   0.003543      -0.147519   0.360266   \n",
       "...             ...            ...        ...            ...        ...   \n",
       "16814           NaN            NaN        NaN            NaN        NaN   \n",
       "16815           NaN            NaN        NaN            NaN        NaN   \n",
       "16816           NaN            NaN        NaN            NaN        NaN   \n",
       "16817           NaN            NaN        NaN            NaN        NaN   \n",
       "16818           NaN            NaN        NaN            NaN        NaN   \n",
       "\n",
       "       Correlation_y     P_value_y  \n",
       "1           0.587915  1.282608e-08  \n",
       "2          -0.496325  1.084446e-05  \n",
       "3          -0.014519  9.611234e-01  \n",
       "4                NaN           NaN  \n",
       "5          -0.224967  7.751436e-02  \n",
       "...              ...           ...  \n",
       "16814      -0.002105  9.917500e-01  \n",
       "16815      -0.001563  9.931644e-01  \n",
       "16816      -0.001236  9.950909e-01  \n",
       "16817       0.001142  9.963768e-01  \n",
       "16818      -0.000515  9.987101e-01  \n",
       "\n",
       "[16818 rows x 17 columns]"
      ]
     },
     "execution_count": 76,
     "metadata": {},
     "output_type": "execute_result"
    }
   ],
   "source": [
    "#combine all of flagship trans df \n",
    "og_combined = pd.merge(gbm_df, ccrcc_df, on=\"Comparison\", how = \"outer\")\n",
    "og_combined = pd.merge(og_combined, ov_df, on=\"Comparison\", how = \"outer\")\n",
    "og_combined = pd.merge(og_combined, luad_df, on=\"Comparison\", how = \"outer\")\n",
    "og_combined = pd.merge(og_combined, lscc_df, on=\"Comparison\", how = \"outer\")\n",
    "og_combined = pd.merge(og_combined, brca_df, on=\"Comparison\", how = \"outer\")\n",
    "og_combined = pd.merge(og_combined, colon_df, on=\"Comparison\", how = \"outer\")\n",
    "og_combined = pd.merge(og_combined, hnscc_df, on=\"Comparison\", how = \"outer\")\n",
    "og_combined= og_combined[1:]\n",
    "og_combined"
   ]
  },
  {
   "cell_type": "code",
   "execution_count": null,
   "metadata": {},
   "outputs": [],
   "source": [
    "#combine all pancan trans dfs\n",
    "pancan = pd.merge(pancan_gbm_df, pancan_hnscc, on=\"Comparison\", how = \"outer\")\n",
    "pancan = pd.merge(pancan, pancan_luad, on=\"Comparison\", how = \"outer\")\n",
    "pancan = pd.merge(pancan, pancan_lscc, on=\"Comparison\", how = \"outer\")\n",
    "pancan = pd.merge(pancan, pancan_ccrcc, on=\"Comparison\", how = \"outer\")\n",
    "pancan = pancan[1:]\n"
   ]
  }
 ],
 "metadata": {
  "kernelspec": {
   "display_name": "Python 3",
   "language": "python",
   "name": "python3"
  },
  "language_info": {
   "codemirror_mode": {
    "name": "ipython",
    "version": 3
   },
   "file_extension": ".py",
   "mimetype": "text/x-python",
   "name": "python",
   "nbconvert_exporter": "python",
   "pygments_lexer": "ipython3",
   "version": "3.7.3"
  }
 },
 "nbformat": 4,
 "nbformat_minor": 2
}
