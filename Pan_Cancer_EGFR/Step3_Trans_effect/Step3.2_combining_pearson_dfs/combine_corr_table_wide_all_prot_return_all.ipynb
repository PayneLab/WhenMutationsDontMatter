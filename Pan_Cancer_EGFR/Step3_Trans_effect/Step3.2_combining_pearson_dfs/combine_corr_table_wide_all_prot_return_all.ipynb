{
 "cells": [
  {
   "cell_type": "markdown",
   "metadata": {},
   "source": [
    "# Combine Pearson Tables"
   ]
  },
  {
   "cell_type": "markdown",
   "metadata": {},
   "source": [
    "This notebook takes all of the data frames create from the notebook pearson_dfs_EGFRprot_all_prot_sig and merges them to create one wide dataframe "
   ]
  },
  {
   "cell_type": "code",
   "execution_count": 1,
   "metadata": {},
   "outputs": [
    {
     "name": "stderr",
     "output_type": "stream",
     "text": [
      "/Users/Lindsey/anaconda3/lib/python3.7/site-packages/statsmodels/tools/_testing.py:19: FutureWarning: pandas.util.testing is deprecated. Use the functions in the public API at pandas.testing instead.\n",
      "  import pandas.util.testing as tm\n"
     ]
    }
   ],
   "source": [
    "import pandas as pd\n",
    "import numpy as np\n",
    "import seaborn as sns\n",
    "import matplotlib.pyplot as plt\n",
    "import scipy.stats\n",
    "import re\n",
    "import sys \n",
    "import statsmodels.stats.multitest\n",
    "\n",
    "import cptac\n",
    "import cptac.utils as u"
   ]
  },
  {
   "cell_type": "markdown",
   "metadata": {},
   "source": [
    "# Step 1: Read in Files"
   ]
  },
  {
   "cell_type": "markdown",
   "metadata": {},
   "source": [
    "# Step 2: Merge and Format Data frame"
   ]
  },
  {
   "cell_type": "markdown",
   "metadata": {},
   "source": [
    "Drop unneccesary columns and merge data frames. Rename columns to include cancer type. "
   ]
  },
  {
   "cell_type": "markdown",
   "metadata": {},
   "source": [
    "# GBM "
   ]
  },
  {
   "cell_type": "code",
   "execution_count": 2,
   "metadata": {},
   "outputs": [],
   "source": [
    "df = pd.read_csv(\"../Pearson_dfs_by_cancer/csv_files/GBM_EGFR_all_pearson_return_all.csv\")\n",
    "df = df.drop(['Unnamed: 0'], axis=1)"
   ]
  },
  {
   "cell_type": "markdown",
   "metadata": {},
   "source": [
    "# Kidney"
   ]
  },
  {
   "cell_type": "code",
   "execution_count": 3,
   "metadata": {},
   "outputs": [],
   "source": [
    "df2 = pd.read_csv(\"../Step3.1_Pearson_dfs_by_cancer/csv_files/Kidney_EGFR_all_pearson_return_all.csv\")"
   ]
  },
  {
   "cell_type": "code",
   "execution_count": 4,
   "metadata": {},
   "outputs": [],
   "source": [
    "df2 = df2.drop(['Unnamed: 0'], axis=1)\n"
   ]
  },
  {
   "cell_type": "code",
   "execution_count": 5,
   "metadata": {},
   "outputs": [
    {
     "data": {
      "text/html": [
       "<div>\n",
       "<style scoped>\n",
       "    .dataframe tbody tr th:only-of-type {\n",
       "        vertical-align: middle;\n",
       "    }\n",
       "\n",
       "    .dataframe tbody tr th {\n",
       "        vertical-align: top;\n",
       "    }\n",
       "\n",
       "    .dataframe thead th {\n",
       "        text-align: right;\n",
       "    }\n",
       "</style>\n",
       "<table border=\"1\" class=\"dataframe\">\n",
       "  <thead>\n",
       "    <tr style=\"text-align: right;\">\n",
       "      <th></th>\n",
       "      <th>Comparison</th>\n",
       "      <th>Correlation_Gbm</th>\n",
       "      <th>P_value_Gbm</th>\n",
       "      <th>Correlation_kidney</th>\n",
       "      <th>P_value_kidney</th>\n",
       "    </tr>\n",
       "  </thead>\n",
       "  <tbody>\n",
       "    <tr>\n",
       "      <th>0</th>\n",
       "      <td>EGFR_proteomics</td>\n",
       "      <td>1.000000</td>\n",
       "      <td>0.000000e+00</td>\n",
       "      <td>1.000000</td>\n",
       "      <td>0.000000</td>\n",
       "    </tr>\n",
       "    <tr>\n",
       "      <th>1</th>\n",
       "      <td>PHLDA1_proteomics</td>\n",
       "      <td>0.816848</td>\n",
       "      <td>6.553435e-25</td>\n",
       "      <td>0.254436</td>\n",
       "      <td>0.007311</td>\n",
       "    </tr>\n",
       "    <tr>\n",
       "      <th>2</th>\n",
       "      <td>GRB2_proteomics</td>\n",
       "      <td>-0.610889</td>\n",
       "      <td>1.886384e-11</td>\n",
       "      <td>-0.217427</td>\n",
       "      <td>0.022506</td>\n",
       "    </tr>\n",
       "    <tr>\n",
       "      <th>3</th>\n",
       "      <td>SOCS2_proteomics</td>\n",
       "      <td>0.562720</td>\n",
       "      <td>1.343464e-09</td>\n",
       "      <td>NaN</td>\n",
       "      <td>NaN</td>\n",
       "    </tr>\n",
       "    <tr>\n",
       "      <th>4</th>\n",
       "      <td>CDH4_proteomics</td>\n",
       "      <td>0.559180</td>\n",
       "      <td>1.790048e-09</td>\n",
       "      <td>0.148407</td>\n",
       "      <td>0.257781</td>\n",
       "    </tr>\n",
       "    <tr>\n",
       "      <th>...</th>\n",
       "      <td>...</td>\n",
       "      <td>...</td>\n",
       "      <td>...</td>\n",
       "      <td>...</td>\n",
       "      <td>...</td>\n",
       "    </tr>\n",
       "    <tr>\n",
       "      <th>11899</th>\n",
       "      <td>GSTA1_proteomics</td>\n",
       "      <td>NaN</td>\n",
       "      <td>NaN</td>\n",
       "      <td>0.000486</td>\n",
       "      <td>0.995981</td>\n",
       "    </tr>\n",
       "    <tr>\n",
       "      <th>11900</th>\n",
       "      <td>LY6D_proteomics</td>\n",
       "      <td>NaN</td>\n",
       "      <td>NaN</td>\n",
       "      <td>-0.000398</td>\n",
       "      <td>0.997551</td>\n",
       "    </tr>\n",
       "    <tr>\n",
       "      <th>11901</th>\n",
       "      <td>FILIP1_proteomics</td>\n",
       "      <td>NaN</td>\n",
       "      <td>NaN</td>\n",
       "      <td>-0.000286</td>\n",
       "      <td>0.997638</td>\n",
       "    </tr>\n",
       "    <tr>\n",
       "      <th>11902</th>\n",
       "      <td>FLG_proteomics</td>\n",
       "      <td>NaN</td>\n",
       "      <td>NaN</td>\n",
       "      <td>-0.000456</td>\n",
       "      <td>0.998234</td>\n",
       "    </tr>\n",
       "    <tr>\n",
       "      <th>11903</th>\n",
       "      <td>ANKRD26_proteomics</td>\n",
       "      <td>NaN</td>\n",
       "      <td>NaN</td>\n",
       "      <td>-0.000109</td>\n",
       "      <td>0.999465</td>\n",
       "    </tr>\n",
       "  </tbody>\n",
       "</table>\n",
       "<p>11904 rows × 5 columns</p>\n",
       "</div>"
      ],
      "text/plain": [
       "               Comparison  Correlation_Gbm   P_value_Gbm  Correlation_kidney  \\\n",
       "0         EGFR_proteomics         1.000000  0.000000e+00            1.000000   \n",
       "1       PHLDA1_proteomics         0.816848  6.553435e-25            0.254436   \n",
       "2         GRB2_proteomics        -0.610889  1.886384e-11           -0.217427   \n",
       "3        SOCS2_proteomics         0.562720  1.343464e-09                 NaN   \n",
       "4         CDH4_proteomics         0.559180  1.790048e-09            0.148407   \n",
       "...                   ...              ...           ...                 ...   \n",
       "11899    GSTA1_proteomics              NaN           NaN            0.000486   \n",
       "11900     LY6D_proteomics              NaN           NaN           -0.000398   \n",
       "11901   FILIP1_proteomics              NaN           NaN           -0.000286   \n",
       "11902      FLG_proteomics              NaN           NaN           -0.000456   \n",
       "11903  ANKRD26_proteomics              NaN           NaN           -0.000109   \n",
       "\n",
       "       P_value_kidney  \n",
       "0            0.000000  \n",
       "1            0.007311  \n",
       "2            0.022506  \n",
       "3                 NaN  \n",
       "4            0.257781  \n",
       "...               ...  \n",
       "11899        0.995981  \n",
       "11900        0.997551  \n",
       "11901        0.997638  \n",
       "11902        0.998234  \n",
       "11903        0.999465  \n",
       "\n",
       "[11904 rows x 5 columns]"
      ]
     },
     "execution_count": 5,
     "metadata": {},
     "output_type": "execute_result"
    }
   ],
   "source": [
    "Gbm_kidney = pd.merge(df, df2, on=\"Comparison\", how = \"outer\")\n",
    "Gbm_kidney = Gbm_kidney.rename(columns={\"Correlation_x\": \"Correlation_Gbm\",\"P_value_x\":\"P_value_Gbm\" ,\"Correlation_y\":\"Correlation_kidney\",\"P_value_y\": \"P_value_kidney\" })\n",
    "Gbm_kidney"
   ]
  },
  {
   "cell_type": "markdown",
   "metadata": {},
   "source": [
    "# Ovarian "
   ]
  },
  {
   "cell_type": "code",
   "execution_count": 6,
   "metadata": {},
   "outputs": [],
   "source": [
    "df_Ovar = pd.read_csv(\"../Step3.1_Pearson_dfs_by_cancer/csv_files/Ovar_EGFR_all_pearson_return_all.csv\")\n",
    "df_Ovar = df_Ovar.drop(['Unnamed: 0'], axis=1)\n"
   ]
  },
  {
   "cell_type": "code",
   "execution_count": 7,
   "metadata": {},
   "outputs": [],
   "source": [
    "pancan = pd.merge(Gbm_kidney, df_Ovar, on=\"Comparison\", how = \"outer\")\n",
    "pancan = pancan.rename(columns={\"Correlation\": \"Correlation_Ovar\",\"P_value\": \"P_value_Ovar\" })\n"
   ]
  },
  {
   "cell_type": "markdown",
   "metadata": {},
   "source": [
    "# BRCA"
   ]
  },
  {
   "cell_type": "code",
   "execution_count": 8,
   "metadata": {},
   "outputs": [],
   "source": [
    "df_Brca = pd.read_csv(\"../Step3.1_Pearson_dfs_by_cancer/csv_files/Brca_EGFR_all_pearson_return_all.csv\")\n",
    "df_Brca = df_Brca.drop(['Unnamed: 0'], axis=1)\n"
   ]
  },
  {
   "cell_type": "code",
   "execution_count": 9,
   "metadata": {},
   "outputs": [],
   "source": [
    "pancan = pd.merge(pancan, df_Brca, on=\"Comparison\", how = \"outer\")\n",
    "pancan = pancan.rename(columns={\"Correlation\": \"Correlation_Brca\",\"P_value\": \"P_value_Brca\" })\n"
   ]
  },
  {
   "cell_type": "markdown",
   "metadata": {},
   "source": [
    "# Luad"
   ]
  },
  {
   "cell_type": "code",
   "execution_count": 10,
   "metadata": {},
   "outputs": [],
   "source": [
    "df_Luad = pd.read_csv(\"../Step3.1_Pearson_dfs_by_cancer/csv_files/Luad_EGFR_all_pearson_return_all.csv\")\n",
    "df_Luad = df_Luad.drop(['Unnamed: 0'], axis=1)\n"
   ]
  },
  {
   "cell_type": "code",
   "execution_count": 11,
   "metadata": {},
   "outputs": [],
   "source": [
    "pancan = pd.merge(pancan, df_Luad, on=\"Comparison\", how = \"outer\")\n",
    "pancan = pancan.rename(columns={\"Correlation\": \"Correlation_Luad\",\"P_value\": \"P_value_Luad\" })"
   ]
  },
  {
   "cell_type": "markdown",
   "metadata": {},
   "source": [
    "# HNSCC"
   ]
  },
  {
   "cell_type": "code",
   "execution_count": 12,
   "metadata": {},
   "outputs": [],
   "source": [
    "df_hnscc = pd.read_csv(\"../Step3.1_Pearson_dfs_by_cancer/csv_files/Hnscc_EGFR_all_pearson_return_all.csv\")\n",
    "df_hnscc = df_hnscc.drop(['Unnamed: 0'], axis=1)\n"
   ]
  },
  {
   "cell_type": "code",
   "execution_count": 13,
   "metadata": {},
   "outputs": [],
   "source": [
    "pancan = pd.merge(pancan, df_hnscc, on=\"Comparison\", how = \"outer\")\n",
    "pancan = pancan.rename(columns={ \"Correlation\": \"Correlation_hnscc\",\"P_value\": \"P_value_hnscc\" })\n"
   ]
  },
  {
   "cell_type": "markdown",
   "metadata": {},
   "source": [
    "# Colon"
   ]
  },
  {
   "cell_type": "code",
   "execution_count": 14,
   "metadata": {},
   "outputs": [],
   "source": [
    "df_colon = pd.read_csv(\"../Step3.1_Pearson_dfs_by_cancer/csv_files/Colon_EGFR_all_pearson_return_all.csv\")\n",
    "df_colon = df_colon.drop(['Unnamed: 0'], axis=1)\n"
   ]
  },
  {
   "cell_type": "code",
   "execution_count": 15,
   "metadata": {},
   "outputs": [],
   "source": [
    "pancan = pd.merge(pancan, df_colon, on=\"Comparison\", how = \"outer\")\n",
    "pancan = pancan.rename(columns={ \"Correlation\": \"Correlation_colon\",\"P_value\": \"P_value_colon\" })\n"
   ]
  },
  {
   "cell_type": "markdown",
   "metadata": {},
   "source": [
    "# LSCC"
   ]
  },
  {
   "cell_type": "code",
   "execution_count": 16,
   "metadata": {},
   "outputs": [],
   "source": [
    "df_Lscc = pd.read_csv(\"../Step3.1_Pearson_dfs_by_cancer/csv_files/Lscc_EGFR_all_pearson_return_all.csv\")\n",
    "df_Lscc = df_Lscc.drop(['Unnamed: 0'], axis=1)\n"
   ]
  },
  {
   "cell_type": "code",
   "execution_count": 17,
   "metadata": {},
   "outputs": [
    {
     "data": {
      "text/html": [
       "<div>\n",
       "<style scoped>\n",
       "    .dataframe tbody tr th:only-of-type {\n",
       "        vertical-align: middle;\n",
       "    }\n",
       "\n",
       "    .dataframe tbody tr th {\n",
       "        vertical-align: top;\n",
       "    }\n",
       "\n",
       "    .dataframe thead th {\n",
       "        text-align: right;\n",
       "    }\n",
       "</style>\n",
       "<table border=\"1\" class=\"dataframe\">\n",
       "  <thead>\n",
       "    <tr style=\"text-align: right;\">\n",
       "      <th></th>\n",
       "      <th>Comparison</th>\n",
       "      <th>Correlation_Gbm</th>\n",
       "      <th>P_value_Gbm</th>\n",
       "      <th>Correlation_kidney</th>\n",
       "      <th>P_value_kidney</th>\n",
       "      <th>Correlation_Ovar</th>\n",
       "      <th>P_value_Ovar</th>\n",
       "      <th>Correlation_Brca</th>\n",
       "      <th>P_value_Brca</th>\n",
       "      <th>Correlation_Luad</th>\n",
       "      <th>P_value_Luad</th>\n",
       "      <th>Correlation_hnscc</th>\n",
       "      <th>P_value_hnscc</th>\n",
       "      <th>Correlation_colon</th>\n",
       "      <th>P_value_colon</th>\n",
       "      <th>Correlation_Lscc</th>\n",
       "      <th>P_value_Lscc</th>\n",
       "    </tr>\n",
       "  </thead>\n",
       "  <tbody>\n",
       "    <tr>\n",
       "      <th>0</th>\n",
       "      <td>EGFR_proteomics</td>\n",
       "      <td>1.000000</td>\n",
       "      <td>0.000000e+00</td>\n",
       "      <td>1.000000</td>\n",
       "      <td>0.000000</td>\n",
       "      <td>1.000000</td>\n",
       "      <td>0.000000</td>\n",
       "      <td>1.000000</td>\n",
       "      <td>0.000000</td>\n",
       "      <td>1.000000</td>\n",
       "      <td>0.000000</td>\n",
       "      <td>1.000000</td>\n",
       "      <td>0.000000e+00</td>\n",
       "      <td>1.000000</td>\n",
       "      <td>0.000000</td>\n",
       "      <td>1.000000</td>\n",
       "      <td>0.000000e+00</td>\n",
       "    </tr>\n",
       "    <tr>\n",
       "      <th>1</th>\n",
       "      <td>PHLDA1_proteomics</td>\n",
       "      <td>0.816848</td>\n",
       "      <td>6.553435e-25</td>\n",
       "      <td>0.254436</td>\n",
       "      <td>0.007311</td>\n",
       "      <td>0.372841</td>\n",
       "      <td>0.072754</td>\n",
       "      <td>0.364797</td>\n",
       "      <td>0.000190</td>\n",
       "      <td>0.260110</td>\n",
       "      <td>0.011346</td>\n",
       "      <td>0.664271</td>\n",
       "      <td>3.426615e-15</td>\n",
       "      <td>0.386104</td>\n",
       "      <td>0.021968</td>\n",
       "      <td>0.709812</td>\n",
       "      <td>3.919195e-18</td>\n",
       "    </tr>\n",
       "    <tr>\n",
       "      <th>2</th>\n",
       "      <td>GRB2_proteomics</td>\n",
       "      <td>-0.610889</td>\n",
       "      <td>1.886384e-11</td>\n",
       "      <td>-0.217427</td>\n",
       "      <td>0.022506</td>\n",
       "      <td>-0.190090</td>\n",
       "      <td>0.085202</td>\n",
       "      <td>-0.177379</td>\n",
       "      <td>0.057899</td>\n",
       "      <td>-0.302439</td>\n",
       "      <td>0.001321</td>\n",
       "      <td>-0.532341</td>\n",
       "      <td>2.559824e-09</td>\n",
       "      <td>0.150960</td>\n",
       "      <td>0.139949</td>\n",
       "      <td>-0.174810</td>\n",
       "      <td>6.776395e-02</td>\n",
       "    </tr>\n",
       "    <tr>\n",
       "      <th>3</th>\n",
       "      <td>SOCS2_proteomics</td>\n",
       "      <td>0.562720</td>\n",
       "      <td>1.343464e-09</td>\n",
       "      <td>NaN</td>\n",
       "      <td>NaN</td>\n",
       "      <td>NaN</td>\n",
       "      <td>NaN</td>\n",
       "      <td>NaN</td>\n",
       "      <td>NaN</td>\n",
       "      <td>NaN</td>\n",
       "      <td>NaN</td>\n",
       "      <td>0.020297</td>\n",
       "      <td>8.984786e-01</td>\n",
       "      <td>NaN</td>\n",
       "      <td>NaN</td>\n",
       "      <td>0.478574</td>\n",
       "      <td>2.191662e-04</td>\n",
       "    </tr>\n",
       "    <tr>\n",
       "      <th>4</th>\n",
       "      <td>CDH4_proteomics</td>\n",
       "      <td>0.559180</td>\n",
       "      <td>1.790048e-09</td>\n",
       "      <td>0.148407</td>\n",
       "      <td>0.257781</td>\n",
       "      <td>NaN</td>\n",
       "      <td>NaN</td>\n",
       "      <td>NaN</td>\n",
       "      <td>NaN</td>\n",
       "      <td>NaN</td>\n",
       "      <td>NaN</td>\n",
       "      <td>NaN</td>\n",
       "      <td>NaN</td>\n",
       "      <td>NaN</td>\n",
       "      <td>NaN</td>\n",
       "      <td>NaN</td>\n",
       "      <td>NaN</td>\n",
       "    </tr>\n",
       "    <tr>\n",
       "      <th>...</th>\n",
       "      <td>...</td>\n",
       "      <td>...</td>\n",
       "      <td>...</td>\n",
       "      <td>...</td>\n",
       "      <td>...</td>\n",
       "      <td>...</td>\n",
       "      <td>...</td>\n",
       "      <td>...</td>\n",
       "      <td>...</td>\n",
       "      <td>...</td>\n",
       "      <td>...</td>\n",
       "      <td>...</td>\n",
       "      <td>...</td>\n",
       "      <td>...</td>\n",
       "      <td>...</td>\n",
       "      <td>...</td>\n",
       "      <td>...</td>\n",
       "    </tr>\n",
       "    <tr>\n",
       "      <th>14047</th>\n",
       "      <td>TFR2_proteomics</td>\n",
       "      <td>NaN</td>\n",
       "      <td>NaN</td>\n",
       "      <td>NaN</td>\n",
       "      <td>NaN</td>\n",
       "      <td>NaN</td>\n",
       "      <td>NaN</td>\n",
       "      <td>NaN</td>\n",
       "      <td>NaN</td>\n",
       "      <td>NaN</td>\n",
       "      <td>NaN</td>\n",
       "      <td>NaN</td>\n",
       "      <td>NaN</td>\n",
       "      <td>NaN</td>\n",
       "      <td>NaN</td>\n",
       "      <td>0.003665</td>\n",
       "      <td>9.718783e-01</td>\n",
       "    </tr>\n",
       "    <tr>\n",
       "      <th>14048</th>\n",
       "      <td>MYBL2_proteomics</td>\n",
       "      <td>NaN</td>\n",
       "      <td>NaN</td>\n",
       "      <td>NaN</td>\n",
       "      <td>NaN</td>\n",
       "      <td>NaN</td>\n",
       "      <td>NaN</td>\n",
       "      <td>NaN</td>\n",
       "      <td>NaN</td>\n",
       "      <td>NaN</td>\n",
       "      <td>NaN</td>\n",
       "      <td>NaN</td>\n",
       "      <td>NaN</td>\n",
       "      <td>NaN</td>\n",
       "      <td>NaN</td>\n",
       "      <td>0.004902</td>\n",
       "      <td>9.777034e-01</td>\n",
       "    </tr>\n",
       "    <tr>\n",
       "      <th>14049</th>\n",
       "      <td>ZSCAN12_proteomics</td>\n",
       "      <td>NaN</td>\n",
       "      <td>NaN</td>\n",
       "      <td>NaN</td>\n",
       "      <td>NaN</td>\n",
       "      <td>NaN</td>\n",
       "      <td>NaN</td>\n",
       "      <td>NaN</td>\n",
       "      <td>NaN</td>\n",
       "      <td>NaN</td>\n",
       "      <td>NaN</td>\n",
       "      <td>NaN</td>\n",
       "      <td>NaN</td>\n",
       "      <td>NaN</td>\n",
       "      <td>NaN</td>\n",
       "      <td>-0.002352</td>\n",
       "      <td>9.814751e-01</td>\n",
       "    </tr>\n",
       "    <tr>\n",
       "      <th>14050</th>\n",
       "      <td>ZNF836_proteomics</td>\n",
       "      <td>NaN</td>\n",
       "      <td>NaN</td>\n",
       "      <td>NaN</td>\n",
       "      <td>NaN</td>\n",
       "      <td>NaN</td>\n",
       "      <td>NaN</td>\n",
       "      <td>NaN</td>\n",
       "      <td>NaN</td>\n",
       "      <td>NaN</td>\n",
       "      <td>NaN</td>\n",
       "      <td>NaN</td>\n",
       "      <td>NaN</td>\n",
       "      <td>NaN</td>\n",
       "      <td>NaN</td>\n",
       "      <td>0.000919</td>\n",
       "      <td>9.939750e-01</td>\n",
       "    </tr>\n",
       "    <tr>\n",
       "      <th>14051</th>\n",
       "      <td>DDX43_proteomics</td>\n",
       "      <td>NaN</td>\n",
       "      <td>NaN</td>\n",
       "      <td>NaN</td>\n",
       "      <td>NaN</td>\n",
       "      <td>NaN</td>\n",
       "      <td>NaN</td>\n",
       "      <td>NaN</td>\n",
       "      <td>NaN</td>\n",
       "      <td>NaN</td>\n",
       "      <td>NaN</td>\n",
       "      <td>NaN</td>\n",
       "      <td>NaN</td>\n",
       "      <td>NaN</td>\n",
       "      <td>NaN</td>\n",
       "      <td>0.000411</td>\n",
       "      <td>9.979908e-01</td>\n",
       "    </tr>\n",
       "  </tbody>\n",
       "</table>\n",
       "<p>14052 rows × 17 columns</p>\n",
       "</div>"
      ],
      "text/plain": [
       "               Comparison  Correlation_Gbm   P_value_Gbm  Correlation_kidney  \\\n",
       "0         EGFR_proteomics         1.000000  0.000000e+00            1.000000   \n",
       "1       PHLDA1_proteomics         0.816848  6.553435e-25            0.254436   \n",
       "2         GRB2_proteomics        -0.610889  1.886384e-11           -0.217427   \n",
       "3        SOCS2_proteomics         0.562720  1.343464e-09                 NaN   \n",
       "4         CDH4_proteomics         0.559180  1.790048e-09            0.148407   \n",
       "...                   ...              ...           ...                 ...   \n",
       "14047     TFR2_proteomics              NaN           NaN                 NaN   \n",
       "14048    MYBL2_proteomics              NaN           NaN                 NaN   \n",
       "14049  ZSCAN12_proteomics              NaN           NaN                 NaN   \n",
       "14050   ZNF836_proteomics              NaN           NaN                 NaN   \n",
       "14051    DDX43_proteomics              NaN           NaN                 NaN   \n",
       "\n",
       "       P_value_kidney  Correlation_Ovar  P_value_Ovar  Correlation_Brca  \\\n",
       "0            0.000000          1.000000      0.000000          1.000000   \n",
       "1            0.007311          0.372841      0.072754          0.364797   \n",
       "2            0.022506         -0.190090      0.085202         -0.177379   \n",
       "3                 NaN               NaN           NaN               NaN   \n",
       "4            0.257781               NaN           NaN               NaN   \n",
       "...               ...               ...           ...               ...   \n",
       "14047             NaN               NaN           NaN               NaN   \n",
       "14048             NaN               NaN           NaN               NaN   \n",
       "14049             NaN               NaN           NaN               NaN   \n",
       "14050             NaN               NaN           NaN               NaN   \n",
       "14051             NaN               NaN           NaN               NaN   \n",
       "\n",
       "       P_value_Brca  Correlation_Luad  P_value_Luad  Correlation_hnscc  \\\n",
       "0          0.000000          1.000000      0.000000           1.000000   \n",
       "1          0.000190          0.260110      0.011346           0.664271   \n",
       "2          0.057899         -0.302439      0.001321          -0.532341   \n",
       "3               NaN               NaN           NaN           0.020297   \n",
       "4               NaN               NaN           NaN                NaN   \n",
       "...             ...               ...           ...                ...   \n",
       "14047           NaN               NaN           NaN                NaN   \n",
       "14048           NaN               NaN           NaN                NaN   \n",
       "14049           NaN               NaN           NaN                NaN   \n",
       "14050           NaN               NaN           NaN                NaN   \n",
       "14051           NaN               NaN           NaN                NaN   \n",
       "\n",
       "       P_value_hnscc  Correlation_colon  P_value_colon  Correlation_Lscc  \\\n",
       "0       0.000000e+00           1.000000       0.000000          1.000000   \n",
       "1       3.426615e-15           0.386104       0.021968          0.709812   \n",
       "2       2.559824e-09           0.150960       0.139949         -0.174810   \n",
       "3       8.984786e-01                NaN            NaN          0.478574   \n",
       "4                NaN                NaN            NaN               NaN   \n",
       "...              ...                ...            ...               ...   \n",
       "14047            NaN                NaN            NaN          0.003665   \n",
       "14048            NaN                NaN            NaN          0.004902   \n",
       "14049            NaN                NaN            NaN         -0.002352   \n",
       "14050            NaN                NaN            NaN          0.000919   \n",
       "14051            NaN                NaN            NaN          0.000411   \n",
       "\n",
       "       P_value_Lscc  \n",
       "0      0.000000e+00  \n",
       "1      3.919195e-18  \n",
       "2      6.776395e-02  \n",
       "3      2.191662e-04  \n",
       "4               NaN  \n",
       "...             ...  \n",
       "14047  9.718783e-01  \n",
       "14048  9.777034e-01  \n",
       "14049  9.814751e-01  \n",
       "14050  9.939750e-01  \n",
       "14051  9.979908e-01  \n",
       "\n",
       "[14052 rows x 17 columns]"
      ]
     },
     "execution_count": 17,
     "metadata": {},
     "output_type": "execute_result"
    }
   ],
   "source": [
    "pancan = pd.merge(pancan, df_Lscc, on=\"Comparison\", how = \"outer\")\n",
    "pancan = pancan.rename(columns={ \"Correlation\": \"Correlation_Lscc\",\"P_value\": \"P_value_Lscc\" })\n",
    "pancan"
   ]
  },
  {
   "cell_type": "code",
   "execution_count": 18,
   "metadata": {},
   "outputs": [],
   "source": [
    "pancan.to_csv(\"csv_files/pancan_EGFR_all_return_all_wide.csv\")"
   ]
  },
  {
   "cell_type": "code",
   "execution_count": null,
   "metadata": {},
   "outputs": [],
   "source": []
  }
 ],
 "metadata": {
  "kernelspec": {
   "display_name": "Python 3",
   "language": "python",
   "name": "python3"
  },
  "language_info": {
   "codemirror_mode": {
    "name": "ipython",
    "version": 3
   },
   "file_extension": ".py",
   "mimetype": "text/x-python",
   "name": "python",
   "nbconvert_exporter": "python",
   "pygments_lexer": "ipython3",
   "version": "3.7.3"
  }
 },
 "nbformat": 4,
 "nbformat_minor": 2
}
