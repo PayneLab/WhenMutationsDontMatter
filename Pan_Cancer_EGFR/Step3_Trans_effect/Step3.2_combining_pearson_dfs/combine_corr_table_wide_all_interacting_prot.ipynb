{
 "cells": [
  {
   "cell_type": "markdown",
   "metadata": {},
   "source": [
    "# Combine Pearson Tables"
   ]
  },
  {
   "cell_type": "markdown",
   "metadata": {},
   "source": [
    "This notebook takes all of the data frames created from the notebook Pearson_tables_EGFR_prot_vs_all_prot and merges them to create one wide dataframe "
   ]
  },
  {
   "cell_type": "code",
   "execution_count": 1,
   "metadata": {},
   "outputs": [
    {
     "name": "stderr",
     "output_type": "stream",
     "text": [
      "/Users/Lindsey/anaconda3/lib/python3.7/site-packages/statsmodels/tools/_testing.py:19: FutureWarning: pandas.util.testing is deprecated. Use the functions in the public API at pandas.testing instead.\n",
      "  import pandas.util.testing as tm\n"
     ]
    }
   ],
   "source": [
    "import pandas as pd\n",
    "import numpy as np\n",
    "import seaborn as sns\n",
    "import matplotlib.pyplot as plt\n",
    "import scipy.stats\n",
    "import re\n",
    "import sys \n",
    "import statsmodels.stats.multitest\n",
    "\n",
    "import cptac\n",
    "import cptac.utils as u"
   ]
  },
  {
   "cell_type": "markdown",
   "metadata": {},
   "source": [
    "# Step 1: Read in Files"
   ]
  },
  {
   "cell_type": "markdown",
   "metadata": {},
   "source": [
    "# Step 2: Merge and Format Data frame"
   ]
  },
  {
   "cell_type": "markdown",
   "metadata": {},
   "source": [
    "Drop unneccesary columns and rename columns to include cancer type. "
   ]
  },
  {
   "cell_type": "markdown",
   "metadata": {},
   "source": [
    "# GBM "
   ]
  },
  {
   "cell_type": "code",
   "execution_count": 2,
   "metadata": {},
   "outputs": [],
   "source": [
    "df = pd.read_csv(\"../Step3.1_Pearson_dfs_by_cancer/csv_files/GBM_EGFR_interacting_pearson.csv\")\n",
    "df = df.drop(['Unnamed: 0'], axis=1)"
   ]
  },
  {
   "cell_type": "markdown",
   "metadata": {},
   "source": [
    "# Kidney"
   ]
  },
  {
   "cell_type": "code",
   "execution_count": 3,
   "metadata": {},
   "outputs": [],
   "source": [
    "df2 = pd.read_csv(\"../Step3.1_Pearson_dfs_by_cancer/csv_files/Kidney_EGFR_interacting_pearson.csv\")"
   ]
  },
  {
   "cell_type": "code",
   "execution_count": 4,
   "metadata": {},
   "outputs": [],
   "source": [
    "df2 = df2.drop(['Unnamed: 0'], axis=1)\n"
   ]
  },
  {
   "cell_type": "code",
   "execution_count": 5,
   "metadata": {},
   "outputs": [
    {
     "data": {
      "text/html": [
       "<div>\n",
       "<style scoped>\n",
       "    .dataframe tbody tr th:only-of-type {\n",
       "        vertical-align: middle;\n",
       "    }\n",
       "\n",
       "    .dataframe tbody tr th {\n",
       "        vertical-align: top;\n",
       "    }\n",
       "\n",
       "    .dataframe thead th {\n",
       "        text-align: right;\n",
       "    }\n",
       "</style>\n",
       "<table border=\"1\" class=\"dataframe\">\n",
       "  <thead>\n",
       "    <tr style=\"text-align: right;\">\n",
       "      <th></th>\n",
       "      <th>Comparison</th>\n",
       "      <th>Correlation_Gbm</th>\n",
       "      <th>P_value_Gbm</th>\n",
       "      <th>Correlation_kidney</th>\n",
       "      <th>P_value_kidney</th>\n",
       "    </tr>\n",
       "  </thead>\n",
       "  <tbody>\n",
       "    <tr>\n",
       "      <th>0</th>\n",
       "      <td>EGFR_proteomics</td>\n",
       "      <td>1.000000</td>\n",
       "      <td>0.000000e+00</td>\n",
       "      <td>1.000000</td>\n",
       "      <td>0.000000</td>\n",
       "    </tr>\n",
       "    <tr>\n",
       "      <th>1</th>\n",
       "      <td>GRB2_proteomics</td>\n",
       "      <td>-0.610889</td>\n",
       "      <td>1.886384e-11</td>\n",
       "      <td>-0.217427</td>\n",
       "      <td>0.022506</td>\n",
       "    </tr>\n",
       "    <tr>\n",
       "      <th>2</th>\n",
       "      <td>CDH4_proteomics</td>\n",
       "      <td>0.559180</td>\n",
       "      <td>1.790048e-09</td>\n",
       "      <td>0.148407</td>\n",
       "      <td>0.257781</td>\n",
       "    </tr>\n",
       "    <tr>\n",
       "      <th>3</th>\n",
       "      <td>SHC1_proteomics</td>\n",
       "      <td>-0.540524</td>\n",
       "      <td>7.695118e-09</td>\n",
       "      <td>NaN</td>\n",
       "      <td>NaN</td>\n",
       "    </tr>\n",
       "    <tr>\n",
       "      <th>4</th>\n",
       "      <td>WAS_proteomics</td>\n",
       "      <td>-0.501918</td>\n",
       "      <td>1.205168e-07</td>\n",
       "      <td>-0.279814</td>\n",
       "      <td>0.003071</td>\n",
       "    </tr>\n",
       "    <tr>\n",
       "      <th>...</th>\n",
       "      <td>...</td>\n",
       "      <td>...</td>\n",
       "      <td>...</td>\n",
       "      <td>...</td>\n",
       "      <td>...</td>\n",
       "    </tr>\n",
       "    <tr>\n",
       "      <th>1161</th>\n",
       "      <td>ABCC5_proteomics</td>\n",
       "      <td>NaN</td>\n",
       "      <td>NaN</td>\n",
       "      <td>-0.025235</td>\n",
       "      <td>0.911241</td>\n",
       "    </tr>\n",
       "    <tr>\n",
       "      <th>1162</th>\n",
       "      <td>SLC5A9_proteomics</td>\n",
       "      <td>NaN</td>\n",
       "      <td>NaN</td>\n",
       "      <td>0.010137</td>\n",
       "      <td>0.919863</td>\n",
       "    </tr>\n",
       "    <tr>\n",
       "      <th>1163</th>\n",
       "      <td>SLC5A1_proteomics</td>\n",
       "      <td>NaN</td>\n",
       "      <td>NaN</td>\n",
       "      <td>-0.005984</td>\n",
       "      <td>0.950529</td>\n",
       "    </tr>\n",
       "    <tr>\n",
       "      <th>1164</th>\n",
       "      <td>GNG10_proteomics</td>\n",
       "      <td>NaN</td>\n",
       "      <td>NaN</td>\n",
       "      <td>-0.001988</td>\n",
       "      <td>0.983552</td>\n",
       "    </tr>\n",
       "    <tr>\n",
       "      <th>1165</th>\n",
       "      <td>GSTA1_proteomics</td>\n",
       "      <td>NaN</td>\n",
       "      <td>NaN</td>\n",
       "      <td>0.000486</td>\n",
       "      <td>0.995981</td>\n",
       "    </tr>\n",
       "  </tbody>\n",
       "</table>\n",
       "<p>1166 rows × 5 columns</p>\n",
       "</div>"
      ],
      "text/plain": [
       "             Comparison  Correlation_Gbm   P_value_Gbm  Correlation_kidney  \\\n",
       "0       EGFR_proteomics         1.000000  0.000000e+00            1.000000   \n",
       "1       GRB2_proteomics        -0.610889  1.886384e-11           -0.217427   \n",
       "2       CDH4_proteomics         0.559180  1.790048e-09            0.148407   \n",
       "3       SHC1_proteomics        -0.540524  7.695118e-09                 NaN   \n",
       "4        WAS_proteomics        -0.501918  1.205168e-07           -0.279814   \n",
       "...                 ...              ...           ...                 ...   \n",
       "1161   ABCC5_proteomics              NaN           NaN           -0.025235   \n",
       "1162  SLC5A9_proteomics              NaN           NaN            0.010137   \n",
       "1163  SLC5A1_proteomics              NaN           NaN           -0.005984   \n",
       "1164   GNG10_proteomics              NaN           NaN           -0.001988   \n",
       "1165   GSTA1_proteomics              NaN           NaN            0.000486   \n",
       "\n",
       "      P_value_kidney  \n",
       "0           0.000000  \n",
       "1           0.022506  \n",
       "2           0.257781  \n",
       "3                NaN  \n",
       "4           0.003071  \n",
       "...              ...  \n",
       "1161        0.911241  \n",
       "1162        0.919863  \n",
       "1163        0.950529  \n",
       "1164        0.983552  \n",
       "1165        0.995981  \n",
       "\n",
       "[1166 rows x 5 columns]"
      ]
     },
     "execution_count": 5,
     "metadata": {},
     "output_type": "execute_result"
    }
   ],
   "source": [
    "Gbm_kidney = pd.merge(df, df2, on=\"Comparison\", how = \"outer\")\n",
    "Gbm_kidney = Gbm_kidney.rename(columns={\"Correlation_x\": \"Correlation_Gbm\",\"P_value_x\":\"P_value_Gbm\" ,\"Correlation_y\":\"Correlation_kidney\",\"P_value_y\": \"P_value_kidney\" })\n",
    "Gbm_kidney"
   ]
  },
  {
   "cell_type": "markdown",
   "metadata": {},
   "source": [
    "# Ovarian "
   ]
  },
  {
   "cell_type": "code",
   "execution_count": 6,
   "metadata": {},
   "outputs": [],
   "source": [
    "df_Ovar = pd.read_csv(\"../Step3.1_Pearson_dfs_by_cancer/csv_files/Ovar_EGFR_interacting_pearson.csv\")\n",
    "df_Ovar = df_Ovar.drop(['Unnamed: 0'], axis=1)\n"
   ]
  },
  {
   "cell_type": "code",
   "execution_count": 7,
   "metadata": {},
   "outputs": [],
   "source": [
    "pancan = pd.merge(Gbm_kidney, df_Ovar, on=\"Comparison\", how = \"outer\")\n",
    "pancan = pancan.rename(columns={\"Correlation\": \"Correlation_Ovar\",\"P_value\": \"P_value_Ovar\" })\n"
   ]
  },
  {
   "cell_type": "markdown",
   "metadata": {},
   "source": [
    "# BRCA"
   ]
  },
  {
   "cell_type": "code",
   "execution_count": 8,
   "metadata": {},
   "outputs": [],
   "source": [
    "df_Brca = pd.read_csv(\"../Step3.1_Pearson_dfs_by_cancer/csv_files/Brca_EGFR_interacting_pearson.csv\")\n",
    "df_Brca = df_Brca.drop(['Unnamed: 0'], axis=1)\n"
   ]
  },
  {
   "cell_type": "code",
   "execution_count": 9,
   "metadata": {},
   "outputs": [],
   "source": [
    "pancan = pd.merge(pancan, df_Brca, on=\"Comparison\", how = \"outer\")\n",
    "pancan = pancan.rename(columns={\"Correlation\": \"Correlation_Brca\",\"P_value\": \"P_value_Brca\" })\n"
   ]
  },
  {
   "cell_type": "markdown",
   "metadata": {},
   "source": [
    "# Luad"
   ]
  },
  {
   "cell_type": "code",
   "execution_count": 10,
   "metadata": {},
   "outputs": [],
   "source": [
    "df_Luad = pd.read_csv(\"../Step3.1_Pearson_dfs_by_cancer/csv_files/Luad_EGFR_interacting_pearson.csv\")\n",
    "df_Luad = df_Luad.drop(['Unnamed: 0'], axis=1)\n"
   ]
  },
  {
   "cell_type": "code",
   "execution_count": 11,
   "metadata": {},
   "outputs": [],
   "source": [
    "pancan = pd.merge(pancan, df_Luad, on=\"Comparison\", how = \"outer\")\n",
    "pancan = pancan.rename(columns={\"Correlation\": \"Correlation_Luad\",\"P_value\": \"P_value_Luad\" })"
   ]
  },
  {
   "cell_type": "markdown",
   "metadata": {},
   "source": [
    "# HNSCC"
   ]
  },
  {
   "cell_type": "code",
   "execution_count": 12,
   "metadata": {},
   "outputs": [],
   "source": [
    "df_hnscc = pd.read_csv(\"../Step3.1_Pearson_dfs_by_cancer/csv_files/Hnscc_EGFR_all_pearson_sig.csv\")\n",
    "df_hnscc = df_hnscc.drop(['Unnamed: 0'], axis=1)\n"
   ]
  },
  {
   "cell_type": "code",
   "execution_count": 13,
   "metadata": {},
   "outputs": [],
   "source": [
    "pancan = pd.merge(pancan, df_hnscc, on=\"Comparison\", how = \"outer\")\n",
    "pancan = pancan.rename(columns={ \"Correlation\": \"Correlation_hnscc\",\"P_value\": \"P_value_hnscc\" })\n"
   ]
  },
  {
   "cell_type": "markdown",
   "metadata": {},
   "source": [
    "# Colon"
   ]
  },
  {
   "cell_type": "code",
   "execution_count": 14,
   "metadata": {},
   "outputs": [],
   "source": [
    "df_colon = pd.read_csv(\"../Step3.1_Pearson_dfs_by_cancer/csv_files/Colon_EGFR_interacting_pearson.csv\")\n",
    "df_colon = df_colon.drop(['Unnamed: 0'], axis=1)\n"
   ]
  },
  {
   "cell_type": "code",
   "execution_count": 15,
   "metadata": {},
   "outputs": [],
   "source": [
    "pancan = pd.merge(pancan, df_colon, on=\"Comparison\", how = \"outer\")\n",
    "pancan = pancan.rename(columns={ \"Correlation\": \"Correlation_colon\",\"P_value\": \"P_value_colon\" })\n"
   ]
  },
  {
   "cell_type": "markdown",
   "metadata": {},
   "source": [
    "# LSCC"
   ]
  },
  {
   "cell_type": "code",
   "execution_count": 16,
   "metadata": {},
   "outputs": [],
   "source": [
    "df_Lscc = pd.read_csv(\"../Step3.1_Pearson_dfs_by_cancer/csv_files/Lscc_EGFR_interacting_pearson.csv\")\n",
    "df_Lscc = df_Lscc.drop(['Unnamed: 0'], axis=1)\n"
   ]
  },
  {
   "cell_type": "code",
   "execution_count": 17,
   "metadata": {},
   "outputs": [
    {
     "data": {
      "text/html": [
       "<div>\n",
       "<style scoped>\n",
       "    .dataframe tbody tr th:only-of-type {\n",
       "        vertical-align: middle;\n",
       "    }\n",
       "\n",
       "    .dataframe tbody tr th {\n",
       "        vertical-align: top;\n",
       "    }\n",
       "\n",
       "    .dataframe thead th {\n",
       "        text-align: right;\n",
       "    }\n",
       "</style>\n",
       "<table border=\"1\" class=\"dataframe\">\n",
       "  <thead>\n",
       "    <tr style=\"text-align: right;\">\n",
       "      <th></th>\n",
       "      <th>Comparison</th>\n",
       "      <th>Correlation_Gbm</th>\n",
       "      <th>P_value_Gbm</th>\n",
       "      <th>Correlation_kidney</th>\n",
       "      <th>P_value_kidney</th>\n",
       "      <th>Correlation_Ovar</th>\n",
       "      <th>P_value_Ovar</th>\n",
       "      <th>Correlation_Brca</th>\n",
       "      <th>P_value_Brca</th>\n",
       "      <th>Correlation_Luad</th>\n",
       "      <th>P_value_Luad</th>\n",
       "      <th>Correlation_hnscc</th>\n",
       "      <th>P_value_hnscc</th>\n",
       "      <th>Correlation_colon</th>\n",
       "      <th>P_value_colon</th>\n",
       "      <th>Correlation_Lscc</th>\n",
       "      <th>P_value_Lscc</th>\n",
       "    </tr>\n",
       "  </thead>\n",
       "  <tbody>\n",
       "    <tr>\n",
       "      <th>0</th>\n",
       "      <td>EGFR_proteomics</td>\n",
       "      <td>1.000000</td>\n",
       "      <td>0.000000e+00</td>\n",
       "      <td>1.000000</td>\n",
       "      <td>0.000000</td>\n",
       "      <td>1.000000</td>\n",
       "      <td>0.000000</td>\n",
       "      <td>1.000000</td>\n",
       "      <td>0.000000</td>\n",
       "      <td>1.000000</td>\n",
       "      <td>0.000000</td>\n",
       "      <td>1.000000</td>\n",
       "      <td>0.000000e+00</td>\n",
       "      <td>1.000000</td>\n",
       "      <td>0.000000</td>\n",
       "      <td>1.000000</td>\n",
       "      <td>0.000000</td>\n",
       "    </tr>\n",
       "    <tr>\n",
       "      <th>1</th>\n",
       "      <td>GRB2_proteomics</td>\n",
       "      <td>-0.610889</td>\n",
       "      <td>1.886384e-11</td>\n",
       "      <td>-0.217427</td>\n",
       "      <td>0.022506</td>\n",
       "      <td>-0.190090</td>\n",
       "      <td>0.085202</td>\n",
       "      <td>-0.177379</td>\n",
       "      <td>0.057899</td>\n",
       "      <td>-0.302439</td>\n",
       "      <td>0.001321</td>\n",
       "      <td>-0.532341</td>\n",
       "      <td>2.559824e-09</td>\n",
       "      <td>0.150960</td>\n",
       "      <td>0.139949</td>\n",
       "      <td>-0.174810</td>\n",
       "      <td>0.067764</td>\n",
       "    </tr>\n",
       "    <tr>\n",
       "      <th>2</th>\n",
       "      <td>CDH4_proteomics</td>\n",
       "      <td>0.559180</td>\n",
       "      <td>1.790048e-09</td>\n",
       "      <td>0.148407</td>\n",
       "      <td>0.257781</td>\n",
       "      <td>NaN</td>\n",
       "      <td>NaN</td>\n",
       "      <td>NaN</td>\n",
       "      <td>NaN</td>\n",
       "      <td>NaN</td>\n",
       "      <td>NaN</td>\n",
       "      <td>NaN</td>\n",
       "      <td>NaN</td>\n",
       "      <td>NaN</td>\n",
       "      <td>NaN</td>\n",
       "      <td>NaN</td>\n",
       "      <td>NaN</td>\n",
       "    </tr>\n",
       "    <tr>\n",
       "      <th>3</th>\n",
       "      <td>SHC1_proteomics</td>\n",
       "      <td>-0.540524</td>\n",
       "      <td>7.695118e-09</td>\n",
       "      <td>NaN</td>\n",
       "      <td>NaN</td>\n",
       "      <td>0.175098</td>\n",
       "      <td>0.113358</td>\n",
       "      <td>0.090908</td>\n",
       "      <td>0.333927</td>\n",
       "      <td>-0.135844</td>\n",
       "      <td>0.262164</td>\n",
       "      <td>NaN</td>\n",
       "      <td>NaN</td>\n",
       "      <td>0.203250</td>\n",
       "      <td>0.045855</td>\n",
       "      <td>0.123922</td>\n",
       "      <td>0.197109</td>\n",
       "    </tr>\n",
       "    <tr>\n",
       "      <th>4</th>\n",
       "      <td>WAS_proteomics</td>\n",
       "      <td>-0.501918</td>\n",
       "      <td>1.205168e-07</td>\n",
       "      <td>-0.279814</td>\n",
       "      <td>0.003071</td>\n",
       "      <td>-0.090413</td>\n",
       "      <td>0.416288</td>\n",
       "      <td>0.153496</td>\n",
       "      <td>0.101463</td>\n",
       "      <td>-0.337909</td>\n",
       "      <td>0.000306</td>\n",
       "      <td>-0.503427</td>\n",
       "      <td>2.411333e-08</td>\n",
       "      <td>0.282401</td>\n",
       "      <td>0.005070</td>\n",
       "      <td>-0.177954</td>\n",
       "      <td>0.062892</td>\n",
       "    </tr>\n",
       "    <tr>\n",
       "      <th>...</th>\n",
       "      <td>...</td>\n",
       "      <td>...</td>\n",
       "      <td>...</td>\n",
       "      <td>...</td>\n",
       "      <td>...</td>\n",
       "      <td>...</td>\n",
       "      <td>...</td>\n",
       "      <td>...</td>\n",
       "      <td>...</td>\n",
       "      <td>...</td>\n",
       "      <td>...</td>\n",
       "      <td>...</td>\n",
       "      <td>...</td>\n",
       "      <td>...</td>\n",
       "      <td>...</td>\n",
       "      <td>...</td>\n",
       "      <td>...</td>\n",
       "    </tr>\n",
       "    <tr>\n",
       "      <th>1370</th>\n",
       "      <td>IRS4_proteomics</td>\n",
       "      <td>NaN</td>\n",
       "      <td>NaN</td>\n",
       "      <td>NaN</td>\n",
       "      <td>NaN</td>\n",
       "      <td>NaN</td>\n",
       "      <td>NaN</td>\n",
       "      <td>NaN</td>\n",
       "      <td>NaN</td>\n",
       "      <td>NaN</td>\n",
       "      <td>NaN</td>\n",
       "      <td>NaN</td>\n",
       "      <td>NaN</td>\n",
       "      <td>NaN</td>\n",
       "      <td>NaN</td>\n",
       "      <td>0.075801</td>\n",
       "      <td>0.665175</td>\n",
       "    </tr>\n",
       "    <tr>\n",
       "      <th>1371</th>\n",
       "      <td>RELN_proteomics</td>\n",
       "      <td>NaN</td>\n",
       "      <td>NaN</td>\n",
       "      <td>NaN</td>\n",
       "      <td>NaN</td>\n",
       "      <td>NaN</td>\n",
       "      <td>NaN</td>\n",
       "      <td>NaN</td>\n",
       "      <td>NaN</td>\n",
       "      <td>NaN</td>\n",
       "      <td>NaN</td>\n",
       "      <td>NaN</td>\n",
       "      <td>NaN</td>\n",
       "      <td>NaN</td>\n",
       "      <td>NaN</td>\n",
       "      <td>0.040423</td>\n",
       "      <td>0.792057</td>\n",
       "    </tr>\n",
       "    <tr>\n",
       "      <th>1372</th>\n",
       "      <td>BMP2_proteomics</td>\n",
       "      <td>NaN</td>\n",
       "      <td>NaN</td>\n",
       "      <td>NaN</td>\n",
       "      <td>NaN</td>\n",
       "      <td>NaN</td>\n",
       "      <td>NaN</td>\n",
       "      <td>NaN</td>\n",
       "      <td>NaN</td>\n",
       "      <td>NaN</td>\n",
       "      <td>NaN</td>\n",
       "      <td>NaN</td>\n",
       "      <td>NaN</td>\n",
       "      <td>NaN</td>\n",
       "      <td>NaN</td>\n",
       "      <td>-0.031509</td>\n",
       "      <td>0.795679</td>\n",
       "    </tr>\n",
       "    <tr>\n",
       "      <th>1373</th>\n",
       "      <td>ALK_proteomics</td>\n",
       "      <td>NaN</td>\n",
       "      <td>NaN</td>\n",
       "      <td>NaN</td>\n",
       "      <td>NaN</td>\n",
       "      <td>NaN</td>\n",
       "      <td>NaN</td>\n",
       "      <td>NaN</td>\n",
       "      <td>NaN</td>\n",
       "      <td>NaN</td>\n",
       "      <td>NaN</td>\n",
       "      <td>NaN</td>\n",
       "      <td>NaN</td>\n",
       "      <td>NaN</td>\n",
       "      <td>NaN</td>\n",
       "      <td>0.014807</td>\n",
       "      <td>0.906807</td>\n",
       "    </tr>\n",
       "    <tr>\n",
       "      <th>1374</th>\n",
       "      <td>NRG1_proteomics</td>\n",
       "      <td>NaN</td>\n",
       "      <td>NaN</td>\n",
       "      <td>NaN</td>\n",
       "      <td>NaN</td>\n",
       "      <td>NaN</td>\n",
       "      <td>NaN</td>\n",
       "      <td>NaN</td>\n",
       "      <td>NaN</td>\n",
       "      <td>NaN</td>\n",
       "      <td>NaN</td>\n",
       "      <td>NaN</td>\n",
       "      <td>NaN</td>\n",
       "      <td>NaN</td>\n",
       "      <td>NaN</td>\n",
       "      <td>0.016553</td>\n",
       "      <td>0.909162</td>\n",
       "    </tr>\n",
       "  </tbody>\n",
       "</table>\n",
       "<p>1375 rows × 17 columns</p>\n",
       "</div>"
      ],
      "text/plain": [
       "           Comparison  Correlation_Gbm   P_value_Gbm  Correlation_kidney  \\\n",
       "0     EGFR_proteomics         1.000000  0.000000e+00            1.000000   \n",
       "1     GRB2_proteomics        -0.610889  1.886384e-11           -0.217427   \n",
       "2     CDH4_proteomics         0.559180  1.790048e-09            0.148407   \n",
       "3     SHC1_proteomics        -0.540524  7.695118e-09                 NaN   \n",
       "4      WAS_proteomics        -0.501918  1.205168e-07           -0.279814   \n",
       "...               ...              ...           ...                 ...   \n",
       "1370  IRS4_proteomics              NaN           NaN                 NaN   \n",
       "1371  RELN_proteomics              NaN           NaN                 NaN   \n",
       "1372  BMP2_proteomics              NaN           NaN                 NaN   \n",
       "1373   ALK_proteomics              NaN           NaN                 NaN   \n",
       "1374  NRG1_proteomics              NaN           NaN                 NaN   \n",
       "\n",
       "      P_value_kidney  Correlation_Ovar  P_value_Ovar  Correlation_Brca  \\\n",
       "0           0.000000          1.000000      0.000000          1.000000   \n",
       "1           0.022506         -0.190090      0.085202         -0.177379   \n",
       "2           0.257781               NaN           NaN               NaN   \n",
       "3                NaN          0.175098      0.113358          0.090908   \n",
       "4           0.003071         -0.090413      0.416288          0.153496   \n",
       "...              ...               ...           ...               ...   \n",
       "1370             NaN               NaN           NaN               NaN   \n",
       "1371             NaN               NaN           NaN               NaN   \n",
       "1372             NaN               NaN           NaN               NaN   \n",
       "1373             NaN               NaN           NaN               NaN   \n",
       "1374             NaN               NaN           NaN               NaN   \n",
       "\n",
       "      P_value_Brca  Correlation_Luad  P_value_Luad  Correlation_hnscc  \\\n",
       "0         0.000000          1.000000      0.000000           1.000000   \n",
       "1         0.057899         -0.302439      0.001321          -0.532341   \n",
       "2              NaN               NaN           NaN                NaN   \n",
       "3         0.333927         -0.135844      0.262164                NaN   \n",
       "4         0.101463         -0.337909      0.000306          -0.503427   \n",
       "...            ...               ...           ...                ...   \n",
       "1370           NaN               NaN           NaN                NaN   \n",
       "1371           NaN               NaN           NaN                NaN   \n",
       "1372           NaN               NaN           NaN                NaN   \n",
       "1373           NaN               NaN           NaN                NaN   \n",
       "1374           NaN               NaN           NaN                NaN   \n",
       "\n",
       "      P_value_hnscc  Correlation_colon  P_value_colon  Correlation_Lscc  \\\n",
       "0      0.000000e+00           1.000000       0.000000          1.000000   \n",
       "1      2.559824e-09           0.150960       0.139949         -0.174810   \n",
       "2               NaN                NaN            NaN               NaN   \n",
       "3               NaN           0.203250       0.045855          0.123922   \n",
       "4      2.411333e-08           0.282401       0.005070         -0.177954   \n",
       "...             ...                ...            ...               ...   \n",
       "1370            NaN                NaN            NaN          0.075801   \n",
       "1371            NaN                NaN            NaN          0.040423   \n",
       "1372            NaN                NaN            NaN         -0.031509   \n",
       "1373            NaN                NaN            NaN          0.014807   \n",
       "1374            NaN                NaN            NaN          0.016553   \n",
       "\n",
       "      P_value_Lscc  \n",
       "0         0.000000  \n",
       "1         0.067764  \n",
       "2              NaN  \n",
       "3         0.197109  \n",
       "4         0.062892  \n",
       "...            ...  \n",
       "1370      0.665175  \n",
       "1371      0.792057  \n",
       "1372      0.795679  \n",
       "1373      0.906807  \n",
       "1374      0.909162  \n",
       "\n",
       "[1375 rows x 17 columns]"
      ]
     },
     "execution_count": 17,
     "metadata": {},
     "output_type": "execute_result"
    }
   ],
   "source": [
    "pancan = pd.merge(pancan, df_Lscc, on=\"Comparison\", how = \"outer\")\n",
    "pancan = pancan.rename(columns={ \"Correlation\": \"Correlation_Lscc\",\"P_value\": \"P_value_Lscc\" })\n",
    "pancan"
   ]
  },
  {
   "cell_type": "code",
   "execution_count": 18,
   "metadata": {},
   "outputs": [],
   "source": [
    "pancan.to_csv(\"csv_files/pancan_EGFR_prot_interacting_wide.csv\")"
   ]
  },
  {
   "cell_type": "code",
   "execution_count": null,
   "metadata": {},
   "outputs": [],
   "source": []
  }
 ],
 "metadata": {
  "kernelspec": {
   "display_name": "Python 3",
   "language": "python",
   "name": "python3"
  },
  "language_info": {
   "codemirror_mode": {
    "name": "ipython",
    "version": 3
   },
   "file_extension": ".py",
   "mimetype": "text/x-python",
   "name": "python",
   "nbconvert_exporter": "python",
   "pygments_lexer": "ipython3",
   "version": "3.7.3"
  }
 },
 "nbformat": 4,
 "nbformat_minor": 2
}
