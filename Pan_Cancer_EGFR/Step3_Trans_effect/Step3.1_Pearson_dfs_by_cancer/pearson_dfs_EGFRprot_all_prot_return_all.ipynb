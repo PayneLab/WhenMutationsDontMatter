{
 "cells": [
  {
   "cell_type": "markdown",
   "metadata": {},
   "source": [
    "# Pearson Dfs EGFR proteomics vs all proteins "
   ]
  },
  {
   "cell_type": "markdown",
   "metadata": {},
   "source": [
    "This notebook records the pearson correlation stats for EGFR proteomics vs all proteomics. It records all comparisons "
   ]
  },
  {
   "cell_type": "code",
   "execution_count": 1,
   "metadata": {},
   "outputs": [
    {
     "name": "stderr",
     "output_type": "stream",
     "text": [
      "/Users/Lindsey/anaconda3/lib/python3.7/site-packages/statsmodels/tools/_testing.py:19: FutureWarning: pandas.util.testing is deprecated. Use the functions in the public API at pandas.testing instead.\n",
      "  import pandas.util.testing as tm\n"
     ]
    }
   ],
   "source": [
    "import pandas as pd\n",
    "import numpy as np\n",
    "import seaborn as sns\n",
    "import matplotlib.pyplot as plt\n",
    "import scipy.stats\n",
    "import re\n",
    "import sys \n",
    "import statsmodels.stats.multitest\n",
    "\n",
    "\n",
    "import cptac\n",
    "import cptac.utils as u\n",
    "import plot_utils as p\n"
   ]
  },
  {
   "cell_type": "code",
   "execution_count": 2,
   "metadata": {},
   "outputs": [],
   "source": [
    "def wrap_pearson_corr(df,label_column, alpha=.05,comparison_columns=None,correction_method='bonferroni',return_all = True):\n",
    "\n",
    "\n",
    "    #df = df.dropna(axis=1, how=\"all\")\n",
    "\n",
    "    '''If no comparison columns specified, use all columns except the specified labed column'''\n",
    "    if not comparison_columns:\n",
    "        comparison_columns = list(df.columns)\n",
    "        comparison_columns.remove(label_column)\n",
    "    '''Store comparisons,p-values, correlation in their own array'''\n",
    "    comparisons = []\n",
    "    pvals = []\n",
    "    correlation=[]\n",
    "\n",
    "\n",
    "    '''Format results in a pandas dataframe'''\n",
    "    newdf = pd.DataFrame(columns=['Comparison','Correlation','P_value'])\n",
    "    for gene in comparison_columns:\n",
    "        #create subset df with interacting gene/ gene (otherwise drop NaN drops everything)\n",
    "        df_subset = df[[label_column,gene]]\n",
    "        #do a linear regression to see if it's a meaningful association\n",
    "        #dropna will remove rows with nan\n",
    "        df_subset = df_subset.dropna(axis=0, how=\"any\")\n",
    "        count_row = df_subset.shape[0]\n",
    "        if count_row > 30:\n",
    "            x1 = df_subset[[label_column]].values\n",
    "            y1 = df_subset[[gene]].values\n",
    "            x1 = x1[:,0]\n",
    "            y1 = y1[:,0]\n",
    "            corr, pval = scipy.stats.pearsonr(x1,y1)\n",
    "\n",
    "            comparisons.append(gene)\n",
    "            pvals.append(pval)\n",
    "            correlation.append(corr)\n",
    "\n",
    "\n",
    "    '''Correct for multiple testing to determine if each comparison meets the new cutoff'''\n",
    "    results = statsmodels.stats.multitest.multipletests(pvals=pvals, alpha=alpha, method=correction_method)\n",
    "    reject = results[0]\n",
    "\n",
    "    if return_all:\n",
    "        for i in range(0,len(comparisons)):\n",
    "            newdf = newdf.append({'Comparison': comparisons[i],\"Correlation\": correlation[i],'P_value': pvals[i], 'Significant': reject[i]}, ignore_index=True)\n",
    "           \n",
    "    '''Else only add significant comparisons'''\n",
    "    if (return_all == False):\n",
    "            for i in range(0, len(reject)):\n",
    "                if reject[i]:\n",
    "                    newdf = newdf.append({'Comparison': comparisons[i],\"Correlation\": correlation[i],'P_value': pvals[i]}, ignore_index=True)\n",
    "\n",
    "    '''Sort dataframe by ascending p-value'''\n",
    "    newdf = newdf.sort_values(by='P_value', ascending=True)\n",
    "    '''If results df is not empty, return it, else return None'''\n",
    "    return newdf\n",
    "\n",
    "\n",
    "\n",
    "       "
   ]
  },
  {
   "cell_type": "code",
   "execution_count": 3,
   "metadata": {},
   "outputs": [],
   "source": [
    "def create_prot_list(df):\n",
    "    df = df.loc[:,~df.columns.duplicated()]\n",
    "    prot_genes_list = df.columns.values.tolist()\n",
    "    prot_genes_list.remove('EGFR_Mutation')\n",
    "    prot_genes_list.remove('EGFR_Location')\n",
    "    prot_genes_list.remove('EGFR_Mutation_Status')\n",
    "    prot_genes_list.remove('Sample_Status')\n",
    "    return prot_genes_list"
   ]
  },
  {
   "cell_type": "code",
   "execution_count": 4,
   "metadata": {},
   "outputs": [
    {
     "name": "stdout",
     "output_type": "stream",
     "text": [
      "Checking that ccrcc index is up-to-date...\r"
     ]
    },
    {
     "name": "stderr",
     "output_type": "stream",
     "text": [
      "cptac warning: The GBM dataset is under publication embargo until March 01, 2021. CPTAC is a community resource project and data are made available rapidly after generation for community research use. The embargo allows exploring and utilizing the data, but analysis may not be published until after the embargo date. Please see https://proteomics.cancer.gov/data-portal/about/data-use-agreement or enter cptac.embargo() to open the webpage for more details. (/Users/Lindsey/anaconda3/lib/python3.7/site-packages/ipykernel_launcher.py, line 2)\n"
     ]
    },
    {
     "name": "stdout",
     "output_type": "stream",
     "text": [
      "Checking that hnscc index is up-to-date...  \r"
     ]
    },
    {
     "name": "stderr",
     "output_type": "stream",
     "text": [
      "cptac warning: The LUAD dataset is under publication embargo until July 01, 2020. CPTAC is a community resource project and data are made available rapidly after generation for community research use. The embargo allows exploring and utilizing the data, but analysis may not be published until after the embargo date. Please see https://proteomics.cancer.gov/data-portal/about/data-use-agreement or enter cptac.embargo() to open the webpage for more details. (/Users/Lindsey/anaconda3/lib/python3.7/site-packages/ipykernel_launcher.py, line 7)\n"
     ]
    },
    {
     "name": "stdout",
     "output_type": "stream",
     "text": [
      "Checking that lscc index is up-to-date... \r"
     ]
    },
    {
     "name": "stderr",
     "output_type": "stream",
     "text": [
      "cptac warning: The HNSCC data is currently strictly reserved for CPTAC investigators. Otherwise, you are not authorized to access these data. Additionally, even after these data become publicly available, they will be subject to a publication embargo (see https://proteomics.cancer.gov/data-portal/about/data-use-agreement or enter cptac.embargo() to open the webpage for more details). (/Users/Lindsey/anaconda3/lib/python3.7/site-packages/ipykernel_launcher.py, line 8)\n"
     ]
    },
    {
     "name": "stdout",
     "output_type": "stream",
     "text": [
      "                                         \r"
     ]
    },
    {
     "name": "stderr",
     "output_type": "stream",
     "text": [
      "cptac warning: The LSCC data is currently strictly reserved for CPTAC investigators. Otherwise, you are not authorized to access these data. Additionally, even after these data become publicly available, they will be subject to a publication embargo (see https://proteomics.cancer.gov/data-portal/about/data-use-agreement or enter cptac.embargo() to open the webpage for more details). (/Users/Lindsey/anaconda3/lib/python3.7/site-packages/ipykernel_launcher.py, line 9)\n"
     ]
    }
   ],
   "source": [
    "#load cptac data \n",
    "brain = cptac.Gbm()\n",
    "kidney = cptac.Ccrcc()\n",
    "Ovar = cptac.Ovarian()\n",
    "colon = cptac.Colon()\n",
    "brca = cptac.Brca()\n",
    "luad = cptac.Luad()\n",
    "Hnscc = cptac.Hnscc()\n",
    "Lscc = cptac.Lscc()"
   ]
  },
  {
   "cell_type": "markdown",
   "metadata": {},
   "source": [
    "# Step 1 Create Data frames "
   ]
  },
  {
   "cell_type": "markdown",
   "metadata": {},
   "source": [
    "For each cancer type,\n",
    "load proteomic data and mutation data for EGFR and\n",
    "filter out non-tumor samples "
   ]
  },
  {
   "cell_type": "markdown",
   "metadata": {},
   "source": [
    "# Step 2  Create list of Proteins for Comparison"
   ]
  },
  {
   "cell_type": "markdown",
   "metadata": {},
   "source": [
    "For each cancer type, create list of proteins by using create_prot_list function which extracts column names and removes extra columns."
   ]
  },
  {
   "cell_type": "markdown",
   "metadata": {},
   "source": [
    "# Step 3 Run Pearson Correlation Function  "
   ]
  },
  {
   "cell_type": "markdown",
   "metadata": {},
   "source": [
    "Run function on df and compare EGFR proteomics to all other proteins in protein list. Store only the significant comparisons. Save df as csv file"
   ]
  },
  {
   "cell_type": "markdown",
   "metadata": {},
   "source": [
    "# GBM"
   ]
  },
  {
   "cell_type": "code",
   "execution_count": 5,
   "metadata": {},
   "outputs": [
    {
     "name": "stderr",
     "output_type": "stream",
     "text": [
      "cptac warning: In joining the somatic_mutation table, no mutations were found for the following samples, so they were filled with Wildtype_Tumor or Wildtype_Normal: 93 samples for the EGFR gene (/Users/Lindsey/anaconda3/lib/python3.7/site-packages/ipykernel_launcher.py, line 1)\n"
     ]
    }
   ],
   "source": [
    "df1 = brain.join_omics_to_mutations(omics_df_name=\"proteomics\", mutations_genes=\"EGFR\")\n",
    "df1_tumor = df1.loc[df1['Sample_Status'] == \"Tumor\"]"
   ]
  },
  {
   "cell_type": "code",
   "execution_count": 6,
   "metadata": {},
   "outputs": [],
   "source": [
    "prot_genes_list = create_prot_list(df1_tumor)"
   ]
  },
  {
   "cell_type": "code",
   "execution_count": 8,
   "metadata": {},
   "outputs": [],
   "source": [
    "df2= wrap_pearson_corr(df1_tumor,\"EGFR_proteomics\",comparison_columns= prot_genes_list,correction_method='fdr_bh', return_all = True)\n",
    "df2.to_csv(\"csv_files/GBM_EGFR_all_pearson_return_all3.csv\")\n",
    "df2['Cancer Type']='GBM'\n",
    "df2.to_csv(\"csv_files/GBM_EGFR_all_pearson_return_all4.csv\")"
   ]
  },
  {
   "cell_type": "code",
   "execution_count": 9,
   "metadata": {},
   "outputs": [
    {
     "data": {
      "text/html": [
       "<div>\n",
       "<style scoped>\n",
       "    .dataframe tbody tr th:only-of-type {\n",
       "        vertical-align: middle;\n",
       "    }\n",
       "\n",
       "    .dataframe tbody tr th {\n",
       "        vertical-align: top;\n",
       "    }\n",
       "\n",
       "    .dataframe thead th {\n",
       "        text-align: right;\n",
       "    }\n",
       "</style>\n",
       "<table border=\"1\" class=\"dataframe\">\n",
       "  <thead>\n",
       "    <tr style=\"text-align: right;\">\n",
       "      <th></th>\n",
       "      <th>Comparison</th>\n",
       "      <th>Correlation</th>\n",
       "      <th>P_value</th>\n",
       "      <th>Significant</th>\n",
       "      <th>Cancer Type</th>\n",
       "    </tr>\n",
       "  </thead>\n",
       "  <tbody>\n",
       "    <tr>\n",
       "      <th>2728</th>\n",
       "      <td>EGFR_proteomics</td>\n",
       "      <td>1.000000</td>\n",
       "      <td>0.000000e+00</td>\n",
       "      <td>1.0</td>\n",
       "      <td>GBM</td>\n",
       "    </tr>\n",
       "    <tr>\n",
       "      <th>6656</th>\n",
       "      <td>PHLDA1_proteomics</td>\n",
       "      <td>0.816848</td>\n",
       "      <td>6.553435e-25</td>\n",
       "      <td>1.0</td>\n",
       "      <td>GBM</td>\n",
       "    </tr>\n",
       "    <tr>\n",
       "      <th>3757</th>\n",
       "      <td>GRB2_proteomics</td>\n",
       "      <td>-0.610889</td>\n",
       "      <td>1.886384e-11</td>\n",
       "      <td>1.0</td>\n",
       "      <td>GBM</td>\n",
       "    </tr>\n",
       "    <tr>\n",
       "      <th>8734</th>\n",
       "      <td>SOCS2_proteomics</td>\n",
       "      <td>0.562720</td>\n",
       "      <td>1.343464e-09</td>\n",
       "      <td>1.0</td>\n",
       "      <td>GBM</td>\n",
       "    </tr>\n",
       "    <tr>\n",
       "      <th>1528</th>\n",
       "      <td>CDH4_proteomics</td>\n",
       "      <td>0.559180</td>\n",
       "      <td>1.790048e-09</td>\n",
       "      <td>1.0</td>\n",
       "      <td>GBM</td>\n",
       "    </tr>\n",
       "    <tr>\n",
       "      <th>...</th>\n",
       "      <td>...</td>\n",
       "      <td>...</td>\n",
       "      <td>...</td>\n",
       "      <td>...</td>\n",
       "      <td>...</td>\n",
       "    </tr>\n",
       "    <tr>\n",
       "      <th>10103</th>\n",
       "      <td>USP2_proteomics</td>\n",
       "      <td>0.280545</td>\n",
       "      <td>7.399884e-03</td>\n",
       "      <td>1.0</td>\n",
       "      <td>GBM</td>\n",
       "    </tr>\n",
       "    <tr>\n",
       "      <th>10260</th>\n",
       "      <td>WAPL_proteomics</td>\n",
       "      <td>-0.267631</td>\n",
       "      <td>7.403862e-03</td>\n",
       "      <td>1.0</td>\n",
       "      <td>GBM</td>\n",
       "    </tr>\n",
       "    <tr>\n",
       "      <th>8491</th>\n",
       "      <td>SLC25A42_proteomics</td>\n",
       "      <td>0.267588</td>\n",
       "      <td>7.413549e-03</td>\n",
       "      <td>1.0</td>\n",
       "      <td>GBM</td>\n",
       "    </tr>\n",
       "    <tr>\n",
       "      <th>3150</th>\n",
       "      <td>FANCD2_proteomics</td>\n",
       "      <td>0.278945</td>\n",
       "      <td>7.416331e-03</td>\n",
       "      <td>1.0</td>\n",
       "      <td>GBM</td>\n",
       "    </tr>\n",
       "    <tr>\n",
       "      <th>10525</th>\n",
       "      <td>ZFYVE21_proteomics</td>\n",
       "      <td>0.267548</td>\n",
       "      <td>7.422955e-03</td>\n",
       "      <td>1.0</td>\n",
       "      <td>GBM</td>\n",
       "    </tr>\n",
       "  </tbody>\n",
       "</table>\n",
       "<p>1590 rows × 5 columns</p>\n",
       "</div>"
      ],
      "text/plain": [
       "                Comparison  Correlation       P_value  Significant Cancer Type\n",
       "2728       EGFR_proteomics     1.000000  0.000000e+00          1.0         GBM\n",
       "6656     PHLDA1_proteomics     0.816848  6.553435e-25          1.0         GBM\n",
       "3757       GRB2_proteomics    -0.610889  1.886384e-11          1.0         GBM\n",
       "8734      SOCS2_proteomics     0.562720  1.343464e-09          1.0         GBM\n",
       "1528       CDH4_proteomics     0.559180  1.790048e-09          1.0         GBM\n",
       "...                    ...          ...           ...          ...         ...\n",
       "10103      USP2_proteomics     0.280545  7.399884e-03          1.0         GBM\n",
       "10260      WAPL_proteomics    -0.267631  7.403862e-03          1.0         GBM\n",
       "8491   SLC25A42_proteomics     0.267588  7.413549e-03          1.0         GBM\n",
       "3150     FANCD2_proteomics     0.278945  7.416331e-03          1.0         GBM\n",
       "10525   ZFYVE21_proteomics     0.267548  7.422955e-03          1.0         GBM\n",
       "\n",
       "[1590 rows x 5 columns]"
      ]
     },
     "execution_count": 9,
     "metadata": {},
     "output_type": "execute_result"
    }
   ],
   "source": [
    "newdf = df2[df2['Significant'] == 1.0]\n",
    "newdf"
   ]
  },
  {
   "cell_type": "markdown",
   "metadata": {},
   "source": [
    "# Kidney "
   ]
  },
  {
   "cell_type": "code",
   "execution_count": 10,
   "metadata": {},
   "outputs": [
    {
     "name": "stderr",
     "output_type": "stream",
     "text": [
      "cptac warning: In joining the somatic_mutation table, no mutations were found for the following samples, so they were filled with Wildtype_Tumor or Wildtype_Normal: 193 samples for the EGFR gene (/Users/Lindsey/anaconda3/lib/python3.7/site-packages/ipykernel_launcher.py, line 1)\n"
     ]
    }
   ],
   "source": [
    "df1 = kidney.join_omics_to_mutations(omics_df_name=\"proteomics\",mutations_genes=\"EGFR\")\n",
    "df1.columns = df1.columns.droplevel(1)\n",
    "df1_tumor = df1.loc[df1['Sample_Status'] == \"Tumor\"]"
   ]
  },
  {
   "cell_type": "code",
   "execution_count": 11,
   "metadata": {},
   "outputs": [],
   "source": [
    "prot_genes_list = create_prot_list(df1_tumor)"
   ]
  },
  {
   "cell_type": "code",
   "execution_count": 12,
   "metadata": {},
   "outputs": [],
   "source": [
    "df2=wrap_pearson_corr(df1_tumor,\"EGFR_proteomics\",comparison_columns= prot_genes_list,correction_method='fdr_bh',return_all = True)\n",
    "df2.to_csv(\"csv_files/Kidney_EGFR_all_pearson_return_all3.csv\")\n",
    "df2['Cancer Type']='Kidney'\n",
    "df2.to_csv(\"csv_files/Kidney_EGFR_all_pearson_return_all4.csv\")"
   ]
  },
  {
   "cell_type": "code",
   "execution_count": 13,
   "metadata": {},
   "outputs": [
    {
     "data": {
      "text/html": [
       "<div>\n",
       "<style scoped>\n",
       "    .dataframe tbody tr th:only-of-type {\n",
       "        vertical-align: middle;\n",
       "    }\n",
       "\n",
       "    .dataframe tbody tr th {\n",
       "        vertical-align: top;\n",
       "    }\n",
       "\n",
       "    .dataframe thead th {\n",
       "        text-align: right;\n",
       "    }\n",
       "</style>\n",
       "<table border=\"1\" class=\"dataframe\">\n",
       "  <thead>\n",
       "    <tr style=\"text-align: right;\">\n",
       "      <th></th>\n",
       "      <th>Comparison</th>\n",
       "      <th>Correlation</th>\n",
       "      <th>P_value</th>\n",
       "      <th>Significant</th>\n",
       "      <th>Cancer Type</th>\n",
       "    </tr>\n",
       "  </thead>\n",
       "  <tbody>\n",
       "    <tr>\n",
       "      <th>2427</th>\n",
       "      <td>EGFR_proteomics</td>\n",
       "      <td>1.000000</td>\n",
       "      <td>0.000000e+00</td>\n",
       "      <td>1.0</td>\n",
       "      <td>Kidney</td>\n",
       "    </tr>\n",
       "    <tr>\n",
       "      <th>693</th>\n",
       "      <td>ATP11A_proteomics</td>\n",
       "      <td>0.577079</td>\n",
       "      <td>4.144636e-11</td>\n",
       "      <td>1.0</td>\n",
       "      <td>Kidney</td>\n",
       "    </tr>\n",
       "    <tr>\n",
       "      <th>5992</th>\n",
       "      <td>PLCB1_proteomics</td>\n",
       "      <td>0.561952</td>\n",
       "      <td>1.684847e-10</td>\n",
       "      <td>1.0</td>\n",
       "      <td>Kidney</td>\n",
       "    </tr>\n",
       "    <tr>\n",
       "      <th>466</th>\n",
       "      <td>APAF1_proteomics</td>\n",
       "      <td>0.560909</td>\n",
       "      <td>1.851119e-10</td>\n",
       "      <td>1.0</td>\n",
       "      <td>Kidney</td>\n",
       "    </tr>\n",
       "    <tr>\n",
       "      <th>3651</th>\n",
       "      <td>HPCAL1_proteomics</td>\n",
       "      <td>0.556681</td>\n",
       "      <td>2.701940e-10</td>\n",
       "      <td>1.0</td>\n",
       "      <td>Kidney</td>\n",
       "    </tr>\n",
       "    <tr>\n",
       "      <th>...</th>\n",
       "      <td>...</td>\n",
       "      <td>...</td>\n",
       "      <td>...</td>\n",
       "      <td>...</td>\n",
       "      <td>...</td>\n",
       "    </tr>\n",
       "    <tr>\n",
       "      <th>6655</th>\n",
       "      <td>RAP1GAP2_proteomics</td>\n",
       "      <td>-0.273992</td>\n",
       "      <td>5.561371e-03</td>\n",
       "      <td>1.0</td>\n",
       "      <td>Kidney</td>\n",
       "    </tr>\n",
       "    <tr>\n",
       "      <th>2714</th>\n",
       "      <td>FAF2_proteomics</td>\n",
       "      <td>0.262631</td>\n",
       "      <td>5.573690e-03</td>\n",
       "      <td>1.0</td>\n",
       "      <td>Kidney</td>\n",
       "    </tr>\n",
       "    <tr>\n",
       "      <th>104</th>\n",
       "      <td>ACP5_proteomics</td>\n",
       "      <td>-0.262417</td>\n",
       "      <td>5.613804e-03</td>\n",
       "      <td>1.0</td>\n",
       "      <td>Kidney</td>\n",
       "    </tr>\n",
       "    <tr>\n",
       "      <th>7360</th>\n",
       "      <td>SFRP1_proteomics</td>\n",
       "      <td>-0.262301</td>\n",
       "      <td>5.635779e-03</td>\n",
       "      <td>1.0</td>\n",
       "      <td>Kidney</td>\n",
       "    </tr>\n",
       "    <tr>\n",
       "      <th>8878</th>\n",
       "      <td>UBR7_proteomics</td>\n",
       "      <td>0.262169</td>\n",
       "      <td>5.660800e-03</td>\n",
       "      <td>1.0</td>\n",
       "      <td>Kidney</td>\n",
       "    </tr>\n",
       "  </tbody>\n",
       "</table>\n",
       "<p>1073 rows × 5 columns</p>\n",
       "</div>"
      ],
      "text/plain": [
       "               Comparison  Correlation       P_value  Significant Cancer Type\n",
       "2427      EGFR_proteomics     1.000000  0.000000e+00          1.0      Kidney\n",
       "693     ATP11A_proteomics     0.577079  4.144636e-11          1.0      Kidney\n",
       "5992     PLCB1_proteomics     0.561952  1.684847e-10          1.0      Kidney\n",
       "466      APAF1_proteomics     0.560909  1.851119e-10          1.0      Kidney\n",
       "3651    HPCAL1_proteomics     0.556681  2.701940e-10          1.0      Kidney\n",
       "...                   ...          ...           ...          ...         ...\n",
       "6655  RAP1GAP2_proteomics    -0.273992  5.561371e-03          1.0      Kidney\n",
       "2714      FAF2_proteomics     0.262631  5.573690e-03          1.0      Kidney\n",
       "104       ACP5_proteomics    -0.262417  5.613804e-03          1.0      Kidney\n",
       "7360     SFRP1_proteomics    -0.262301  5.635779e-03          1.0      Kidney\n",
       "8878      UBR7_proteomics     0.262169  5.660800e-03          1.0      Kidney\n",
       "\n",
       "[1073 rows x 5 columns]"
      ]
     },
     "execution_count": 13,
     "metadata": {},
     "output_type": "execute_result"
    }
   ],
   "source": [
    "newdf = df2[df2['Significant'] == 1.0]\n",
    "newdf"
   ]
  },
  {
   "cell_type": "markdown",
   "metadata": {},
   "source": [
    "# Ovarian "
   ]
  },
  {
   "cell_type": "code",
   "execution_count": 14,
   "metadata": {},
   "outputs": [
    {
     "name": "stderr",
     "output_type": "stream",
     "text": [
      "cptac warning: In joining the somatic_mutation table, no mutations were found for the following samples, so they were filled with Wildtype_Tumor or Wildtype_Normal: 102 samples for the EGFR gene (/Users/Lindsey/anaconda3/lib/python3.7/site-packages/ipykernel_launcher.py, line 1)\n"
     ]
    }
   ],
   "source": [
    "df1 = Ovar.join_omics_to_mutations(omics_df_name=\"proteomics\", mutations_genes=\"EGFR\")\n",
    "df1.columns = df1.columns.droplevel(1)\n",
    "df1_tumor = df1.loc[df1['Sample_Status'] == \"Tumor\"]"
   ]
  },
  {
   "cell_type": "code",
   "execution_count": 15,
   "metadata": {},
   "outputs": [],
   "source": [
    "prot_genes_list = create_prot_list(df1_tumor)"
   ]
  },
  {
   "cell_type": "code",
   "execution_count": 16,
   "metadata": {},
   "outputs": [],
   "source": [
    "df2= wrap_pearson_corr(df1_tumor,\"EGFR_proteomics\",comparison_columns= prot_genes_list,correction_method='fdr_bh', return_all = True)\n",
    "df2.to_csv(\"csv_files/Ovar_EGFR_all_pearson_return_all3.csv\")\n",
    "df2['Cancer Type']='Ovarian'\n",
    "df2.to_csv(\"csv_files/Ovar_EGFR_all_pearson_return_all4.csv\")\n"
   ]
  },
  {
   "cell_type": "code",
   "execution_count": 17,
   "metadata": {},
   "outputs": [
    {
     "data": {
      "text/html": [
       "<div>\n",
       "<style scoped>\n",
       "    .dataframe tbody tr th:only-of-type {\n",
       "        vertical-align: middle;\n",
       "    }\n",
       "\n",
       "    .dataframe tbody tr th {\n",
       "        vertical-align: top;\n",
       "    }\n",
       "\n",
       "    .dataframe thead th {\n",
       "        text-align: right;\n",
       "    }\n",
       "</style>\n",
       "<table border=\"1\" class=\"dataframe\">\n",
       "  <thead>\n",
       "    <tr style=\"text-align: right;\">\n",
       "      <th></th>\n",
       "      <th>Comparison</th>\n",
       "      <th>Correlation</th>\n",
       "      <th>P_value</th>\n",
       "      <th>Significant</th>\n",
       "      <th>Cancer Type</th>\n",
       "    </tr>\n",
       "  </thead>\n",
       "  <tbody>\n",
       "    <tr>\n",
       "      <th>2417</th>\n",
       "      <td>EGFR_proteomics</td>\n",
       "      <td>1.000000</td>\n",
       "      <td>0.000000e+00</td>\n",
       "      <td>1.0</td>\n",
       "      <td>Ovarian</td>\n",
       "    </tr>\n",
       "    <tr>\n",
       "      <th>2623</th>\n",
       "      <td>ERO1A_proteomics</td>\n",
       "      <td>0.512158</td>\n",
       "      <td>7.452351e-07</td>\n",
       "      <td>1.0</td>\n",
       "      <td>Ovarian</td>\n",
       "    </tr>\n",
       "    <tr>\n",
       "      <th>1454</th>\n",
       "      <td>CGGBP1_proteomics</td>\n",
       "      <td>-0.492993</td>\n",
       "      <td>2.192339e-06</td>\n",
       "      <td>1.0</td>\n",
       "      <td>Ovarian</td>\n",
       "    </tr>\n",
       "    <tr>\n",
       "      <th>6395</th>\n",
       "      <td>PROSER2_proteomics</td>\n",
       "      <td>0.524593</td>\n",
       "      <td>2.244019e-06</td>\n",
       "      <td>1.0</td>\n",
       "      <td>Ovarian</td>\n",
       "    </tr>\n",
       "    <tr>\n",
       "      <th>1763</th>\n",
       "      <td>CP_proteomics</td>\n",
       "      <td>0.489328</td>\n",
       "      <td>2.675011e-06</td>\n",
       "      <td>1.0</td>\n",
       "      <td>Ovarian</td>\n",
       "    </tr>\n",
       "    <tr>\n",
       "      <th>...</th>\n",
       "      <td>...</td>\n",
       "      <td>...</td>\n",
       "      <td>...</td>\n",
       "      <td>...</td>\n",
       "      <td>...</td>\n",
       "    </tr>\n",
       "    <tr>\n",
       "      <th>375</th>\n",
       "      <td>ANKRD1_proteomics</td>\n",
       "      <td>-0.422420</td>\n",
       "      <td>8.600168e-04</td>\n",
       "      <td>1.0</td>\n",
       "      <td>Ovarian</td>\n",
       "    </tr>\n",
       "    <tr>\n",
       "      <th>4767</th>\n",
       "      <td>MID1_proteomics</td>\n",
       "      <td>0.358764</td>\n",
       "      <td>8.667758e-04</td>\n",
       "      <td>1.0</td>\n",
       "      <td>Ovarian</td>\n",
       "    </tr>\n",
       "    <tr>\n",
       "      <th>2777</th>\n",
       "      <td>FAM57A_proteomics</td>\n",
       "      <td>0.523408</td>\n",
       "      <td>8.866811e-04</td>\n",
       "      <td>1.0</td>\n",
       "      <td>Ovarian</td>\n",
       "    </tr>\n",
       "    <tr>\n",
       "      <th>5170</th>\n",
       "      <td>NAP1L1_proteomics</td>\n",
       "      <td>-0.357673</td>\n",
       "      <td>9.011982e-04</td>\n",
       "      <td>1.0</td>\n",
       "      <td>Ovarian</td>\n",
       "    </tr>\n",
       "    <tr>\n",
       "      <th>8223</th>\n",
       "      <td>TCF20_proteomics</td>\n",
       "      <td>0.357619</td>\n",
       "      <td>9.029268e-04</td>\n",
       "      <td>1.0</td>\n",
       "      <td>Ovarian</td>\n",
       "    </tr>\n",
       "  </tbody>\n",
       "</table>\n",
       "<p>179 rows × 5 columns</p>\n",
       "</div>"
      ],
      "text/plain": [
       "              Comparison  Correlation       P_value  Significant Cancer Type\n",
       "2417     EGFR_proteomics     1.000000  0.000000e+00          1.0     Ovarian\n",
       "2623    ERO1A_proteomics     0.512158  7.452351e-07          1.0     Ovarian\n",
       "1454   CGGBP1_proteomics    -0.492993  2.192339e-06          1.0     Ovarian\n",
       "6395  PROSER2_proteomics     0.524593  2.244019e-06          1.0     Ovarian\n",
       "1763       CP_proteomics     0.489328  2.675011e-06          1.0     Ovarian\n",
       "...                  ...          ...           ...          ...         ...\n",
       "375    ANKRD1_proteomics    -0.422420  8.600168e-04          1.0     Ovarian\n",
       "4767     MID1_proteomics     0.358764  8.667758e-04          1.0     Ovarian\n",
       "2777   FAM57A_proteomics     0.523408  8.866811e-04          1.0     Ovarian\n",
       "5170   NAP1L1_proteomics    -0.357673  9.011982e-04          1.0     Ovarian\n",
       "8223    TCF20_proteomics     0.357619  9.029268e-04          1.0     Ovarian\n",
       "\n",
       "[179 rows x 5 columns]"
      ]
     },
     "execution_count": 17,
     "metadata": {},
     "output_type": "execute_result"
    }
   ],
   "source": [
    "newdf = df2[df2['Significant'] == 1.0]\n",
    "newdf"
   ]
  },
  {
   "cell_type": "markdown",
   "metadata": {},
   "source": [
    "# Colon"
   ]
  },
  {
   "cell_type": "code",
   "execution_count": 18,
   "metadata": {},
   "outputs": [
    {
     "name": "stderr",
     "output_type": "stream",
     "text": [
      "cptac warning: In joining the somatic_mutation table, no mutations were found for the following samples, so they were filled with Wildtype_Tumor or Wildtype_Normal: 204 samples for the EGFR gene (/Users/Lindsey/anaconda3/lib/python3.7/site-packages/ipykernel_launcher.py, line 1)\n",
      "cptac warning: proteomics data was not found for the following samples, so proteomics data columns were filled with NaN for these samples: 01CO001, 05CO005, 05CO007, 05CO014, 05CO055, 11CO059, 11CO060, 14CO002, 16CO012, 24CO005 (/Users/Lindsey/anaconda3/lib/python3.7/site-packages/ipykernel_launcher.py, line 1)\n"
     ]
    }
   ],
   "source": [
    "df1 = colon.join_omics_to_mutations(omics_df_name=\"proteomics\", mutations_genes=\"EGFR\")\n",
    "df1_tumor = df1.loc[df1['Sample_Status'] == \"Tumor\"]"
   ]
  },
  {
   "cell_type": "code",
   "execution_count": 19,
   "metadata": {},
   "outputs": [],
   "source": [
    "prot_genes_list = create_prot_list(df1_tumor)"
   ]
  },
  {
   "cell_type": "code",
   "execution_count": 20,
   "metadata": {},
   "outputs": [],
   "source": [
    "df2= wrap_pearson_corr(df1_tumor,\"EGFR_proteomics\",comparison_columns= prot_genes_list, correction_method='fdr_bh',return_all = True)\n",
    "df2.to_csv(\"csv_files/Colon_EGFR_all_pearson_return_all3.csv\")\n",
    "df2['Cancer Type']='Colon'\n",
    "df2.to_csv(\"csv_files/Colon_EGFR_all_pearson_return_all4.csv\")"
   ]
  },
  {
   "cell_type": "code",
   "execution_count": 21,
   "metadata": {},
   "outputs": [
    {
     "data": {
      "text/html": [
       "<div>\n",
       "<style scoped>\n",
       "    .dataframe tbody tr th:only-of-type {\n",
       "        vertical-align: middle;\n",
       "    }\n",
       "\n",
       "    .dataframe tbody tr th {\n",
       "        vertical-align: top;\n",
       "    }\n",
       "\n",
       "    .dataframe thead th {\n",
       "        text-align: right;\n",
       "    }\n",
       "</style>\n",
       "<table border=\"1\" class=\"dataframe\">\n",
       "  <thead>\n",
       "    <tr style=\"text-align: right;\">\n",
       "      <th></th>\n",
       "      <th>Comparison</th>\n",
       "      <th>Correlation</th>\n",
       "      <th>P_value</th>\n",
       "      <th>Significant</th>\n",
       "      <th>Cancer Type</th>\n",
       "    </tr>\n",
       "  </thead>\n",
       "  <tbody>\n",
       "    <tr>\n",
       "      <th>1853</th>\n",
       "      <td>EGFR_proteomics</td>\n",
       "      <td>1.000000</td>\n",
       "      <td>0.000000e+00</td>\n",
       "      <td>1.0</td>\n",
       "      <td>Colon</td>\n",
       "    </tr>\n",
       "    <tr>\n",
       "      <th>6811</th>\n",
       "      <td>UTP6_proteomics</td>\n",
       "      <td>-0.510343</td>\n",
       "      <td>1.733748e-07</td>\n",
       "      <td>1.0</td>\n",
       "      <td>Colon</td>\n",
       "    </tr>\n",
       "    <tr>\n",
       "      <th>5059</th>\n",
       "      <td>RAE1_proteomics</td>\n",
       "      <td>-0.498802</td>\n",
       "      <td>1.993818e-07</td>\n",
       "      <td>1.0</td>\n",
       "      <td>Colon</td>\n",
       "    </tr>\n",
       "    <tr>\n",
       "      <th>2339</th>\n",
       "      <td>GAR1_proteomics</td>\n",
       "      <td>-0.489788</td>\n",
       "      <td>3.550550e-07</td>\n",
       "      <td>1.0</td>\n",
       "      <td>Colon</td>\n",
       "    </tr>\n",
       "    <tr>\n",
       "      <th>5069</th>\n",
       "      <td>RALYL_proteomics</td>\n",
       "      <td>-0.485763</td>\n",
       "      <td>4.569947e-07</td>\n",
       "      <td>1.0</td>\n",
       "      <td>Colon</td>\n",
       "    </tr>\n",
       "    <tr>\n",
       "      <th>...</th>\n",
       "      <td>...</td>\n",
       "      <td>...</td>\n",
       "      <td>...</td>\n",
       "      <td>...</td>\n",
       "      <td>...</td>\n",
       "    </tr>\n",
       "    <tr>\n",
       "      <th>6302</th>\n",
       "      <td>TIMP1_proteomics</td>\n",
       "      <td>0.287791</td>\n",
       "      <td>4.257833e-03</td>\n",
       "      <td>1.0</td>\n",
       "      <td>Colon</td>\n",
       "    </tr>\n",
       "    <tr>\n",
       "      <th>924</th>\n",
       "      <td>CCDC6_proteomics</td>\n",
       "      <td>0.287735</td>\n",
       "      <td>4.265624e-03</td>\n",
       "      <td>1.0</td>\n",
       "      <td>Colon</td>\n",
       "    </tr>\n",
       "    <tr>\n",
       "      <th>3170</th>\n",
       "      <td>LAMA5_proteomics</td>\n",
       "      <td>0.287734</td>\n",
       "      <td>4.265767e-03</td>\n",
       "      <td>1.0</td>\n",
       "      <td>Colon</td>\n",
       "    </tr>\n",
       "    <tr>\n",
       "      <th>5996</th>\n",
       "      <td>SSR2_proteomics</td>\n",
       "      <td>0.301814</td>\n",
       "      <td>4.266608e-03</td>\n",
       "      <td>1.0</td>\n",
       "      <td>Colon</td>\n",
       "    </tr>\n",
       "    <tr>\n",
       "      <th>3396</th>\n",
       "      <td>MAP3K11_proteomics</td>\n",
       "      <td>0.498761</td>\n",
       "      <td>4.290461e-03</td>\n",
       "      <td>1.0</td>\n",
       "      <td>Colon</td>\n",
       "    </tr>\n",
       "  </tbody>\n",
       "</table>\n",
       "<p>613 rows × 5 columns</p>\n",
       "</div>"
      ],
      "text/plain": [
       "              Comparison  Correlation       P_value  Significant Cancer Type\n",
       "1853     EGFR_proteomics     1.000000  0.000000e+00          1.0       Colon\n",
       "6811     UTP6_proteomics    -0.510343  1.733748e-07          1.0       Colon\n",
       "5059     RAE1_proteomics    -0.498802  1.993818e-07          1.0       Colon\n",
       "2339     GAR1_proteomics    -0.489788  3.550550e-07          1.0       Colon\n",
       "5069    RALYL_proteomics    -0.485763  4.569947e-07          1.0       Colon\n",
       "...                  ...          ...           ...          ...         ...\n",
       "6302    TIMP1_proteomics     0.287791  4.257833e-03          1.0       Colon\n",
       "924     CCDC6_proteomics     0.287735  4.265624e-03          1.0       Colon\n",
       "3170    LAMA5_proteomics     0.287734  4.265767e-03          1.0       Colon\n",
       "5996     SSR2_proteomics     0.301814  4.266608e-03          1.0       Colon\n",
       "3396  MAP3K11_proteomics     0.498761  4.290461e-03          1.0       Colon\n",
       "\n",
       "[613 rows x 5 columns]"
      ]
     },
     "execution_count": 21,
     "metadata": {},
     "output_type": "execute_result"
    }
   ],
   "source": [
    "newdf = df2[df2['Significant'] == 1.0]\n",
    "newdf"
   ]
  },
  {
   "cell_type": "markdown",
   "metadata": {},
   "source": [
    "# Brca "
   ]
  },
  {
   "cell_type": "code",
   "execution_count": 22,
   "metadata": {},
   "outputs": [
    {
     "name": "stderr",
     "output_type": "stream",
     "text": [
      "cptac warning: In joining the somatic_mutation table, no mutations were found for the following samples, so they were filled with Wildtype_Tumor or Wildtype_Normal: 118 samples for the EGFR gene (/Users/Lindsey/anaconda3/lib/python3.7/site-packages/ipykernel_launcher.py, line 1)\n"
     ]
    }
   ],
   "source": [
    "df1 = brca.join_omics_to_mutations(omics_df_name=\"proteomics\", mutations_genes=\"EGFR\")\n",
    "df1.columns = df1.columns.droplevel(1)\n",
    "df1_tumor = df1.loc[df1['Sample_Status'] == \"Tumor\"]"
   ]
  },
  {
   "cell_type": "code",
   "execution_count": 23,
   "metadata": {},
   "outputs": [],
   "source": [
    "prot_genes_list = create_prot_list(df1_tumor)"
   ]
  },
  {
   "cell_type": "code",
   "execution_count": 24,
   "metadata": {},
   "outputs": [],
   "source": [
    "df2= wrap_pearson_corr(df1_tumor,\"EGFR_proteomics\",comparison_columns= prot_genes_list, correction_method='fdr_bh',return_all = True)\n",
    "df2.to_csv(\"csv_files/Brca_EGFR_all_pearson_return_all3.csv\")\n",
    "df2['Cancer Type']='Brca'\n",
    "df2.to_csv(\"csv_files/Brca_EGFR_all_pearson_return_all4.csv\")"
   ]
  },
  {
   "cell_type": "code",
   "execution_count": 25,
   "metadata": {},
   "outputs": [
    {
     "data": {
      "text/html": [
       "<div>\n",
       "<style scoped>\n",
       "    .dataframe tbody tr th:only-of-type {\n",
       "        vertical-align: middle;\n",
       "    }\n",
       "\n",
       "    .dataframe tbody tr th {\n",
       "        vertical-align: top;\n",
       "    }\n",
       "\n",
       "    .dataframe thead th {\n",
       "        text-align: right;\n",
       "    }\n",
       "</style>\n",
       "<table border=\"1\" class=\"dataframe\">\n",
       "  <thead>\n",
       "    <tr style=\"text-align: right;\">\n",
       "      <th></th>\n",
       "      <th>Comparison</th>\n",
       "      <th>Correlation</th>\n",
       "      <th>P_value</th>\n",
       "      <th>Significant</th>\n",
       "      <th>Cancer Type</th>\n",
       "    </tr>\n",
       "  </thead>\n",
       "  <tbody>\n",
       "    <tr>\n",
       "      <th>2559</th>\n",
       "      <td>EGFR_proteomics</td>\n",
       "      <td>1.000000</td>\n",
       "      <td>0.000000e+00</td>\n",
       "      <td>1.0</td>\n",
       "      <td>Brca</td>\n",
       "    </tr>\n",
       "    <tr>\n",
       "      <th>5068</th>\n",
       "      <td>MPP6_proteomics</td>\n",
       "      <td>0.648202</td>\n",
       "      <td>4.834438e-15</td>\n",
       "      <td>1.0</td>\n",
       "      <td>Brca</td>\n",
       "    </tr>\n",
       "    <tr>\n",
       "      <th>1925</th>\n",
       "      <td>CPNE8_proteomics</td>\n",
       "      <td>0.616453</td>\n",
       "      <td>2.229263e-13</td>\n",
       "      <td>1.0</td>\n",
       "      <td>Brca</td>\n",
       "    </tr>\n",
       "    <tr>\n",
       "      <th>1982</th>\n",
       "      <td>CRYBG3_proteomics</td>\n",
       "      <td>0.609997</td>\n",
       "      <td>4.612176e-13</td>\n",
       "      <td>1.0</td>\n",
       "      <td>Brca</td>\n",
       "    </tr>\n",
       "    <tr>\n",
       "      <th>6633</th>\n",
       "      <td>PSAT1_proteomics</td>\n",
       "      <td>0.609319</td>\n",
       "      <td>4.973595e-13</td>\n",
       "      <td>1.0</td>\n",
       "      <td>Brca</td>\n",
       "    </tr>\n",
       "    <tr>\n",
       "      <th>...</th>\n",
       "      <td>...</td>\n",
       "      <td>...</td>\n",
       "      <td>...</td>\n",
       "      <td>...</td>\n",
       "      <td>...</td>\n",
       "    </tr>\n",
       "    <tr>\n",
       "      <th>3312</th>\n",
       "      <td>GGH_proteomics</td>\n",
       "      <td>0.229847</td>\n",
       "      <td>1.347031e-02</td>\n",
       "      <td>1.0</td>\n",
       "      <td>Brca</td>\n",
       "    </tr>\n",
       "    <tr>\n",
       "      <th>4284</th>\n",
       "      <td>KIF15_proteomics</td>\n",
       "      <td>0.229837</td>\n",
       "      <td>1.347467e-02</td>\n",
       "      <td>1.0</td>\n",
       "      <td>Brca</td>\n",
       "    </tr>\n",
       "    <tr>\n",
       "      <th>5029</th>\n",
       "      <td>MNS1_proteomics</td>\n",
       "      <td>0.270088</td>\n",
       "      <td>1.353485e-02</td>\n",
       "      <td>1.0</td>\n",
       "      <td>Brca</td>\n",
       "    </tr>\n",
       "    <tr>\n",
       "      <th>7324</th>\n",
       "      <td>RRP1_proteomics</td>\n",
       "      <td>0.229647</td>\n",
       "      <td>1.355376e-02</td>\n",
       "      <td>1.0</td>\n",
       "      <td>Brca</td>\n",
       "    </tr>\n",
       "    <tr>\n",
       "      <th>9554</th>\n",
       "      <td>ZDHHC20_proteomics</td>\n",
       "      <td>0.229381</td>\n",
       "      <td>1.366542e-02</td>\n",
       "      <td>1.0</td>\n",
       "      <td>Brca</td>\n",
       "    </tr>\n",
       "  </tbody>\n",
       "</table>\n",
       "<p>2669 rows × 5 columns</p>\n",
       "</div>"
      ],
      "text/plain": [
       "              Comparison  Correlation       P_value  Significant Cancer Type\n",
       "2559     EGFR_proteomics     1.000000  0.000000e+00          1.0        Brca\n",
       "5068     MPP6_proteomics     0.648202  4.834438e-15          1.0        Brca\n",
       "1925    CPNE8_proteomics     0.616453  2.229263e-13          1.0        Brca\n",
       "1982   CRYBG3_proteomics     0.609997  4.612176e-13          1.0        Brca\n",
       "6633    PSAT1_proteomics     0.609319  4.973595e-13          1.0        Brca\n",
       "...                  ...          ...           ...          ...         ...\n",
       "3312      GGH_proteomics     0.229847  1.347031e-02          1.0        Brca\n",
       "4284    KIF15_proteomics     0.229837  1.347467e-02          1.0        Brca\n",
       "5029     MNS1_proteomics     0.270088  1.353485e-02          1.0        Brca\n",
       "7324     RRP1_proteomics     0.229647  1.355376e-02          1.0        Brca\n",
       "9554  ZDHHC20_proteomics     0.229381  1.366542e-02          1.0        Brca\n",
       "\n",
       "[2669 rows x 5 columns]"
      ]
     },
     "execution_count": 25,
     "metadata": {},
     "output_type": "execute_result"
    }
   ],
   "source": [
    "newdf = df2[df2['Significant'] == 1.0]\n",
    "newdf"
   ]
  },
  {
   "cell_type": "markdown",
   "metadata": {},
   "source": [
    "# LUAD"
   ]
  },
  {
   "cell_type": "code",
   "execution_count": 26,
   "metadata": {},
   "outputs": [
    {
     "name": "stderr",
     "output_type": "stream",
     "text": [
      "cptac warning: In joining the somatic_mutation table, no mutations were found for the following samples, so they were filled with Wildtype_Tumor or Wildtype_Normal: 171 samples for the EGFR gene (/Users/Lindsey/anaconda3/lib/python3.7/site-packages/ipykernel_launcher.py, line 1)\n"
     ]
    }
   ],
   "source": [
    "df1 = luad.join_omics_to_mutations(omics_df_name=\"proteomics\", mutations_genes=\"EGFR\")\n",
    "df1.columns = df1.columns.droplevel(1)\n",
    "df1_tumor = df1.loc[df1['Sample_Status'] == \"Tumor\"]"
   ]
  },
  {
   "cell_type": "code",
   "execution_count": 27,
   "metadata": {},
   "outputs": [],
   "source": [
    "prot_genes_list = create_prot_list(df1_tumor)"
   ]
  },
  {
   "cell_type": "code",
   "execution_count": 28,
   "metadata": {},
   "outputs": [],
   "source": [
    "df2= wrap_pearson_corr(df1_tumor,\"EGFR_proteomics\",comparison_columns= prot_genes_list,correction_method='fdr_bh', return_all = True)\n",
    "df2.to_csv(\"csv_files/Luad_EGFR_all_pearson_return_all3.csv\")\n",
    "df2['Cancer Type']='Luad'\n",
    "df2.to_csv(\"csv_files/Luad_EGFR_all_pearson_return_all4.csv\")"
   ]
  },
  {
   "cell_type": "code",
   "execution_count": 29,
   "metadata": {},
   "outputs": [
    {
     "data": {
      "text/html": [
       "<div>\n",
       "<style scoped>\n",
       "    .dataframe tbody tr th:only-of-type {\n",
       "        vertical-align: middle;\n",
       "    }\n",
       "\n",
       "    .dataframe tbody tr th {\n",
       "        vertical-align: top;\n",
       "    }\n",
       "\n",
       "    .dataframe thead th {\n",
       "        text-align: right;\n",
       "    }\n",
       "</style>\n",
       "<table border=\"1\" class=\"dataframe\">\n",
       "  <thead>\n",
       "    <tr style=\"text-align: right;\">\n",
       "      <th></th>\n",
       "      <th>Comparison</th>\n",
       "      <th>Correlation</th>\n",
       "      <th>P_value</th>\n",
       "      <th>Significant</th>\n",
       "      <th>Cancer Type</th>\n",
       "    </tr>\n",
       "  </thead>\n",
       "  <tbody>\n",
       "    <tr>\n",
       "      <th>2698</th>\n",
       "      <td>EGFR_proteomics</td>\n",
       "      <td>1.000000</td>\n",
       "      <td>0.000000e+00</td>\n",
       "      <td>1.0</td>\n",
       "      <td>Luad</td>\n",
       "    </tr>\n",
       "    <tr>\n",
       "      <th>3478</th>\n",
       "      <td>GGCT_proteomics</td>\n",
       "      <td>0.609006</td>\n",
       "      <td>1.676601e-12</td>\n",
       "      <td>1.0</td>\n",
       "      <td>Luad</td>\n",
       "    </tr>\n",
       "    <tr>\n",
       "      <th>4652</th>\n",
       "      <td>LANCL2_proteomics</td>\n",
       "      <td>0.588808</td>\n",
       "      <td>1.328507e-11</td>\n",
       "      <td>1.0</td>\n",
       "      <td>Luad</td>\n",
       "    </tr>\n",
       "    <tr>\n",
       "      <th>6017</th>\n",
       "      <td>NUDCD3_proteomics</td>\n",
       "      <td>0.568383</td>\n",
       "      <td>9.362813e-11</td>\n",
       "      <td>1.0</td>\n",
       "      <td>Luad</td>\n",
       "    </tr>\n",
       "    <tr>\n",
       "      <th>8821</th>\n",
       "      <td>TAX1BP1_proteomics</td>\n",
       "      <td>0.561554</td>\n",
       "      <td>1.746498e-10</td>\n",
       "      <td>1.0</td>\n",
       "      <td>Luad</td>\n",
       "    </tr>\n",
       "    <tr>\n",
       "      <th>...</th>\n",
       "      <td>...</td>\n",
       "      <td>...</td>\n",
       "      <td>...</td>\n",
       "      <td>...</td>\n",
       "      <td>...</td>\n",
       "    </tr>\n",
       "    <tr>\n",
       "      <th>9792</th>\n",
       "      <td>VGLL4_proteomics</td>\n",
       "      <td>0.261583</td>\n",
       "      <td>5.773032e-03</td>\n",
       "      <td>1.0</td>\n",
       "      <td>Luad</td>\n",
       "    </tr>\n",
       "    <tr>\n",
       "      <th>8589</th>\n",
       "      <td>ST5_proteomics</td>\n",
       "      <td>0.261481</td>\n",
       "      <td>5.792846e-03</td>\n",
       "      <td>1.0</td>\n",
       "      <td>Luad</td>\n",
       "    </tr>\n",
       "    <tr>\n",
       "      <th>2112</th>\n",
       "      <td>CSTF1_proteomics</td>\n",
       "      <td>0.261472</td>\n",
       "      <td>5.794461e-03</td>\n",
       "      <td>1.0</td>\n",
       "      <td>Luad</td>\n",
       "    </tr>\n",
       "    <tr>\n",
       "      <th>8501</th>\n",
       "      <td>SPRYD4_proteomics</td>\n",
       "      <td>-0.261441</td>\n",
       "      <td>5.800620e-03</td>\n",
       "      <td>1.0</td>\n",
       "      <td>Luad</td>\n",
       "    </tr>\n",
       "    <tr>\n",
       "      <th>4683</th>\n",
       "      <td>LDB3_proteomics</td>\n",
       "      <td>-0.278121</td>\n",
       "      <td>5.810104e-03</td>\n",
       "      <td>1.0</td>\n",
       "      <td>Luad</td>\n",
       "    </tr>\n",
       "  </tbody>\n",
       "</table>\n",
       "<p>1198 rows × 5 columns</p>\n",
       "</div>"
      ],
      "text/plain": [
       "              Comparison  Correlation       P_value  Significant Cancer Type\n",
       "2698     EGFR_proteomics     1.000000  0.000000e+00          1.0        Luad\n",
       "3478     GGCT_proteomics     0.609006  1.676601e-12          1.0        Luad\n",
       "4652   LANCL2_proteomics     0.588808  1.328507e-11          1.0        Luad\n",
       "6017   NUDCD3_proteomics     0.568383  9.362813e-11          1.0        Luad\n",
       "8821  TAX1BP1_proteomics     0.561554  1.746498e-10          1.0        Luad\n",
       "...                  ...          ...           ...          ...         ...\n",
       "9792    VGLL4_proteomics     0.261583  5.773032e-03          1.0        Luad\n",
       "8589      ST5_proteomics     0.261481  5.792846e-03          1.0        Luad\n",
       "2112    CSTF1_proteomics     0.261472  5.794461e-03          1.0        Luad\n",
       "8501   SPRYD4_proteomics    -0.261441  5.800620e-03          1.0        Luad\n",
       "4683     LDB3_proteomics    -0.278121  5.810104e-03          1.0        Luad\n",
       "\n",
       "[1198 rows x 5 columns]"
      ]
     },
     "execution_count": 29,
     "metadata": {},
     "output_type": "execute_result"
    }
   ],
   "source": [
    "newdf = df2[df2['Significant'] == 1.0]\n",
    "newdf"
   ]
  },
  {
   "cell_type": "markdown",
   "metadata": {},
   "source": [
    "# HNSCC"
   ]
  },
  {
   "cell_type": "code",
   "execution_count": 30,
   "metadata": {},
   "outputs": [
    {
     "name": "stderr",
     "output_type": "stream",
     "text": [
      "cptac warning: In joining the somatic_mutation table, no mutations were found for the following samples, so they were filled with Wildtype_Tumor or Wildtype_Normal: 174 samples for the EGFR gene (/Users/Lindsey/anaconda3/lib/python3.7/site-packages/ipykernel_launcher.py, line 1)\n"
     ]
    }
   ],
   "source": [
    "df1 = Hnscc.join_omics_to_mutations(omics_df_name=\"proteomics\",  mutations_genes=\"EGFR\")\n",
    "df1_tumor = df1.loc[df1['Sample_Status'] == \"Tumor\"]"
   ]
  },
  {
   "cell_type": "code",
   "execution_count": 31,
   "metadata": {},
   "outputs": [],
   "source": [
    "prot_genes_list = create_prot_list(df1_tumor)"
   ]
  },
  {
   "cell_type": "code",
   "execution_count": 32,
   "metadata": {},
   "outputs": [],
   "source": [
    "df2= wrap_pearson_corr(df1_tumor,\"EGFR_proteomics\",comparison_columns= prot_genes_list,correction_method='fdr_bh', return_all = True)\n",
    "df2.to_csv(\"csv_files/Hnscc_EGFR_all_pearson_return_all3.csv\")\n",
    "df2['Cancer Type']='Hnscc'\n",
    "df2.to_csv(\"csv_files/Hnscc_EGFR_all_pearson_return_all4.csv\")"
   ]
  },
  {
   "cell_type": "code",
   "execution_count": 33,
   "metadata": {},
   "outputs": [
    {
     "data": {
      "text/html": [
       "<div>\n",
       "<style scoped>\n",
       "    .dataframe tbody tr th:only-of-type {\n",
       "        vertical-align: middle;\n",
       "    }\n",
       "\n",
       "    .dataframe tbody tr th {\n",
       "        vertical-align: top;\n",
       "    }\n",
       "\n",
       "    .dataframe thead th {\n",
       "        text-align: right;\n",
       "    }\n",
       "</style>\n",
       "<table border=\"1\" class=\"dataframe\">\n",
       "  <thead>\n",
       "    <tr style=\"text-align: right;\">\n",
       "      <th></th>\n",
       "      <th>Comparison</th>\n",
       "      <th>Correlation</th>\n",
       "      <th>P_value</th>\n",
       "      <th>Significant</th>\n",
       "      <th>Cancer Type</th>\n",
       "    </tr>\n",
       "  </thead>\n",
       "  <tbody>\n",
       "    <tr>\n",
       "      <th>2670</th>\n",
       "      <td>EGFR_proteomics</td>\n",
       "      <td>1.000000</td>\n",
       "      <td>0.000000e+00</td>\n",
       "      <td>1.0</td>\n",
       "      <td>Hnscc</td>\n",
       "    </tr>\n",
       "    <tr>\n",
       "      <th>4657</th>\n",
       "      <td>LANCL2_proteomics</td>\n",
       "      <td>0.796728</td>\n",
       "      <td>3.798194e-25</td>\n",
       "      <td>1.0</td>\n",
       "      <td>Hnscc</td>\n",
       "    </tr>\n",
       "    <tr>\n",
       "      <th>6502</th>\n",
       "      <td>PHLDA3_proteomics</td>\n",
       "      <td>0.763784</td>\n",
       "      <td>4.542521e-22</td>\n",
       "      <td>1.0</td>\n",
       "      <td>Hnscc</td>\n",
       "    </tr>\n",
       "    <tr>\n",
       "      <th>6500</th>\n",
       "      <td>PHLDA1_proteomics</td>\n",
       "      <td>0.664271</td>\n",
       "      <td>3.426615e-15</td>\n",
       "      <td>1.0</td>\n",
       "      <td>Hnscc</td>\n",
       "    </tr>\n",
       "    <tr>\n",
       "      <th>6501</th>\n",
       "      <td>PHLDA2_proteomics</td>\n",
       "      <td>0.649034</td>\n",
       "      <td>2.302129e-14</td>\n",
       "      <td>1.0</td>\n",
       "      <td>Hnscc</td>\n",
       "    </tr>\n",
       "    <tr>\n",
       "      <th>...</th>\n",
       "      <td>...</td>\n",
       "      <td>...</td>\n",
       "      <td>...</td>\n",
       "      <td>...</td>\n",
       "      <td>...</td>\n",
       "    </tr>\n",
       "    <tr>\n",
       "      <th>3627</th>\n",
       "      <td>GPD1L_proteomics</td>\n",
       "      <td>-0.266473</td>\n",
       "      <td>5.097373e-03</td>\n",
       "      <td>1.0</td>\n",
       "      <td>Hnscc</td>\n",
       "    </tr>\n",
       "    <tr>\n",
       "      <th>8005</th>\n",
       "      <td>SELL_proteomics</td>\n",
       "      <td>-0.266360</td>\n",
       "      <td>5.116897e-03</td>\n",
       "      <td>1.0</td>\n",
       "      <td>Hnscc</td>\n",
       "    </tr>\n",
       "    <tr>\n",
       "      <th>5045</th>\n",
       "      <td>MBD1_proteomics</td>\n",
       "      <td>-0.266098</td>\n",
       "      <td>5.162417e-03</td>\n",
       "      <td>1.0</td>\n",
       "      <td>Hnscc</td>\n",
       "    </tr>\n",
       "    <tr>\n",
       "      <th>7775</th>\n",
       "      <td>RRP12_proteomics</td>\n",
       "      <td>0.266066</td>\n",
       "      <td>5.167833e-03</td>\n",
       "      <td>1.0</td>\n",
       "      <td>Hnscc</td>\n",
       "    </tr>\n",
       "    <tr>\n",
       "      <th>9944</th>\n",
       "      <td>VRK1_proteomics</td>\n",
       "      <td>0.266060</td>\n",
       "      <td>5.168967e-03</td>\n",
       "      <td>1.0</td>\n",
       "      <td>Hnscc</td>\n",
       "    </tr>\n",
       "  </tbody>\n",
       "</table>\n",
       "<p>1074 rows × 5 columns</p>\n",
       "</div>"
      ],
      "text/plain": [
       "             Comparison  Correlation       P_value  Significant Cancer Type\n",
       "2670    EGFR_proteomics     1.000000  0.000000e+00          1.0       Hnscc\n",
       "4657  LANCL2_proteomics     0.796728  3.798194e-25          1.0       Hnscc\n",
       "6502  PHLDA3_proteomics     0.763784  4.542521e-22          1.0       Hnscc\n",
       "6500  PHLDA1_proteomics     0.664271  3.426615e-15          1.0       Hnscc\n",
       "6501  PHLDA2_proteomics     0.649034  2.302129e-14          1.0       Hnscc\n",
       "...                 ...          ...           ...          ...         ...\n",
       "3627   GPD1L_proteomics    -0.266473  5.097373e-03          1.0       Hnscc\n",
       "8005    SELL_proteomics    -0.266360  5.116897e-03          1.0       Hnscc\n",
       "5045    MBD1_proteomics    -0.266098  5.162417e-03          1.0       Hnscc\n",
       "7775   RRP12_proteomics     0.266066  5.167833e-03          1.0       Hnscc\n",
       "9944    VRK1_proteomics     0.266060  5.168967e-03          1.0       Hnscc\n",
       "\n",
       "[1074 rows x 5 columns]"
      ]
     },
     "execution_count": 33,
     "metadata": {},
     "output_type": "execute_result"
    }
   ],
   "source": [
    "newdf = df2[df2['Significant'] == 1.0]\n",
    "newdf"
   ]
  },
  {
   "cell_type": "markdown",
   "metadata": {},
   "source": [
    "# Lscc"
   ]
  },
  {
   "cell_type": "code",
   "execution_count": 34,
   "metadata": {},
   "outputs": [
    {
     "name": "stderr",
     "output_type": "stream",
     "text": [
      "cptac warning: In joining the somatic_mutation table, no mutations were found for the following samples, so they were filled with Wildtype_Tumor or Wildtype_Normal: 208 samples for the EGFR gene (/Users/Lindsey/anaconda3/lib/python3.7/site-packages/ipykernel_launcher.py, line 1)\n"
     ]
    }
   ],
   "source": [
    "df1 = Lscc.join_omics_to_mutations(omics_df_name=\"proteomics\", mutations_genes=\"EGFR\")\n",
    "df1.columns = df1.columns.droplevel(1)\n",
    "df1_tumor = df1.loc[df1['Sample_Status'] == \"Tumor\"]"
   ]
  },
  {
   "cell_type": "code",
   "execution_count": 35,
   "metadata": {},
   "outputs": [],
   "source": [
    "prot_genes_list = create_prot_list(df1_tumor)"
   ]
  },
  {
   "cell_type": "code",
   "execution_count": 36,
   "metadata": {},
   "outputs": [],
   "source": [
    "df2= wrap_pearson_corr(df1_tumor,\"EGFR_proteomics\",comparison_columns= prot_genes_list,correction_method='fdr_bh', return_all = True)\n",
    "df2.to_csv(\"csv_files/Lscc_EGFR_all_pearson_return_all3.csv\")\n",
    "df2['Cancer Type']='Lscc'\n",
    "df2.to_csv(\"csv_files/Lscc_EGFR_all_pearson_return_all4.csv\")"
   ]
  },
  {
   "cell_type": "code",
   "execution_count": 37,
   "metadata": {},
   "outputs": [
    {
     "data": {
      "text/html": [
       "<div>\n",
       "<style scoped>\n",
       "    .dataframe tbody tr th:only-of-type {\n",
       "        vertical-align: middle;\n",
       "    }\n",
       "\n",
       "    .dataframe tbody tr th {\n",
       "        vertical-align: top;\n",
       "    }\n",
       "\n",
       "    .dataframe thead th {\n",
       "        text-align: right;\n",
       "    }\n",
       "</style>\n",
       "<table border=\"1\" class=\"dataframe\">\n",
       "  <thead>\n",
       "    <tr style=\"text-align: right;\">\n",
       "      <th></th>\n",
       "      <th>Comparison</th>\n",
       "      <th>Correlation</th>\n",
       "      <th>P_value</th>\n",
       "      <th>Significant</th>\n",
       "      <th>Cancer Type</th>\n",
       "    </tr>\n",
       "  </thead>\n",
       "  <tbody>\n",
       "    <tr>\n",
       "      <th>2832</th>\n",
       "      <td>EGFR_proteomics</td>\n",
       "      <td>1.000000</td>\n",
       "      <td>0.000000e+00</td>\n",
       "      <td>1.0</td>\n",
       "      <td>Lscc</td>\n",
       "    </tr>\n",
       "    <tr>\n",
       "      <th>6790</th>\n",
       "      <td>PHLDA1_proteomics</td>\n",
       "      <td>0.709812</td>\n",
       "      <td>3.919195e-18</td>\n",
       "      <td>1.0</td>\n",
       "      <td>Lscc</td>\n",
       "    </tr>\n",
       "    <tr>\n",
       "      <th>6792</th>\n",
       "      <td>PHLDA3_proteomics</td>\n",
       "      <td>0.685644</td>\n",
       "      <td>1.412309e-16</td>\n",
       "      <td>1.0</td>\n",
       "      <td>Lscc</td>\n",
       "    </tr>\n",
       "    <tr>\n",
       "      <th>4884</th>\n",
       "      <td>LANCL2_proteomics</td>\n",
       "      <td>0.572261</td>\n",
       "      <td>6.528910e-11</td>\n",
       "      <td>1.0</td>\n",
       "      <td>Lscc</td>\n",
       "    </tr>\n",
       "    <tr>\n",
       "      <th>4532</th>\n",
       "      <td>ITGB4_proteomics</td>\n",
       "      <td>0.567380</td>\n",
       "      <td>1.026981e-10</td>\n",
       "      <td>1.0</td>\n",
       "      <td>Lscc</td>\n",
       "    </tr>\n",
       "    <tr>\n",
       "      <th>...</th>\n",
       "      <td>...</td>\n",
       "      <td>...</td>\n",
       "      <td>...</td>\n",
       "      <td>...</td>\n",
       "      <td>...</td>\n",
       "    </tr>\n",
       "    <tr>\n",
       "      <th>862</th>\n",
       "      <td>ATXN10_proteomics</td>\n",
       "      <td>0.290219</td>\n",
       "      <td>2.101111e-03</td>\n",
       "      <td>1.0</td>\n",
       "      <td>Lscc</td>\n",
       "    </tr>\n",
       "    <tr>\n",
       "      <th>4961</th>\n",
       "      <td>LIMA1_proteomics</td>\n",
       "      <td>0.290115</td>\n",
       "      <td>2.109252e-03</td>\n",
       "      <td>1.0</td>\n",
       "      <td>Lscc</td>\n",
       "    </tr>\n",
       "    <tr>\n",
       "      <th>166</th>\n",
       "      <td>ADA2_proteomics</td>\n",
       "      <td>-0.289977</td>\n",
       "      <td>2.120119e-03</td>\n",
       "      <td>1.0</td>\n",
       "      <td>Lscc</td>\n",
       "    </tr>\n",
       "    <tr>\n",
       "      <th>7778</th>\n",
       "      <td>RFXAP_proteomics</td>\n",
       "      <td>-0.289937</td>\n",
       "      <td>2.123227e-03</td>\n",
       "      <td>1.0</td>\n",
       "      <td>Lscc</td>\n",
       "    </tr>\n",
       "    <tr>\n",
       "      <th>506</th>\n",
       "      <td>AOX1_proteomics</td>\n",
       "      <td>-0.289301</td>\n",
       "      <td>2.173876e-03</td>\n",
       "      <td>1.0</td>\n",
       "      <td>Lscc</td>\n",
       "    </tr>\n",
       "  </tbody>\n",
       "</table>\n",
       "<p>474 rows × 5 columns</p>\n",
       "</div>"
      ],
      "text/plain": [
       "             Comparison  Correlation       P_value  Significant Cancer Type\n",
       "2832    EGFR_proteomics     1.000000  0.000000e+00          1.0        Lscc\n",
       "6790  PHLDA1_proteomics     0.709812  3.919195e-18          1.0        Lscc\n",
       "6792  PHLDA3_proteomics     0.685644  1.412309e-16          1.0        Lscc\n",
       "4884  LANCL2_proteomics     0.572261  6.528910e-11          1.0        Lscc\n",
       "4532   ITGB4_proteomics     0.567380  1.026981e-10          1.0        Lscc\n",
       "...                 ...          ...           ...          ...         ...\n",
       "862   ATXN10_proteomics     0.290219  2.101111e-03          1.0        Lscc\n",
       "4961   LIMA1_proteomics     0.290115  2.109252e-03          1.0        Lscc\n",
       "166     ADA2_proteomics    -0.289977  2.120119e-03          1.0        Lscc\n",
       "7778   RFXAP_proteomics    -0.289937  2.123227e-03          1.0        Lscc\n",
       "506     AOX1_proteomics    -0.289301  2.173876e-03          1.0        Lscc\n",
       "\n",
       "[474 rows x 5 columns]"
      ]
     },
     "execution_count": 37,
     "metadata": {},
     "output_type": "execute_result"
    }
   ],
   "source": [
    "newdf = df2[df2['Significant'] == 1.0]\n",
    "newdf"
   ]
  },
  {
   "cell_type": "code",
   "execution_count": null,
   "metadata": {},
   "outputs": [],
   "source": []
  },
  {
   "cell_type": "code",
   "execution_count": null,
   "metadata": {},
   "outputs": [],
   "source": []
  }
 ],
 "metadata": {
  "kernelspec": {
   "display_name": "Python 3",
   "language": "python",
   "name": "python3"
  },
  "language_info": {
   "codemirror_mode": {
    "name": "ipython",
    "version": 3
   },
   "file_extension": ".py",
   "mimetype": "text/x-python",
   "name": "python",
   "nbconvert_exporter": "python",
   "pygments_lexer": "ipython3",
   "version": "3.7.3"
  }
 },
 "nbformat": 4,
 "nbformat_minor": 2
}
