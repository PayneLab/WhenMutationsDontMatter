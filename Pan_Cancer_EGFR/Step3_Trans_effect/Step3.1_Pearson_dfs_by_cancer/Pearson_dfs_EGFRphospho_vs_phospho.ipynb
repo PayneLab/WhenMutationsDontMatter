{
 "cells": [
  {
   "cell_type": "markdown",
   "metadata": {},
   "source": [
    "# Pearson Dfs EGFR phospho sites vs all phospho sites"
   ]
  },
  {
   "cell_type": "markdown",
   "metadata": {},
   "source": [
    "This notebooks makes df for each cancer type that compares an EGFR phospho site against all phospho sites. (returns all)"
   ]
  },
  {
   "cell_type": "code",
   "execution_count": 1,
   "metadata": {},
   "outputs": [
    {
     "name": "stderr",
     "output_type": "stream",
     "text": [
      "/Users/Lindsey/anaconda3/lib/python3.7/site-packages/statsmodels/tools/_testing.py:19: FutureWarning: pandas.util.testing is deprecated. Use the functions in the public API at pandas.testing instead.\n",
      "  import pandas.util.testing as tm\n"
     ]
    }
   ],
   "source": [
    "import pandas as pd\n",
    "import numpy as np\n",
    "import seaborn as sns\n",
    "import matplotlib.pyplot as plt\n",
    "import scipy.stats\n",
    "import re\n",
    "import sys \n",
    "import statsmodels.stats.multitest\n",
    "\n",
    "\n",
    "import cptac\n",
    "import cptac.utils as u\n",
    "import plot_utils as p\n"
   ]
  },
  {
   "cell_type": "code",
   "execution_count": 2,
   "metadata": {},
   "outputs": [],
   "source": [
    "def get_phospho_sites(df):\n",
    "    phospho_sites = df.columns.values.tolist()\n",
    "    phospho_sites.remove('EGFR_Mutation_')\n",
    "    phospho_sites.remove('EGFR_Location_')\n",
    "    phospho_sites.remove('EGFR_Mutation_Status_')\n",
    "    phospho_sites.remove('Sample_Status_')\n",
    "    return phospho_sites \n"
   ]
  },
  {
   "cell_type": "code",
   "execution_count": null,
   "metadata": {},
   "outputs": [
    {
     "name": "stdout",
     "output_type": "stream",
     "text": [
      "Checking that ccrcc index is up-to-date...\r"
     ]
    },
    {
     "name": "stderr",
     "output_type": "stream",
     "text": [
      "cptac warning: The GBM dataset is under publication embargo until March 01, 2021. CPTAC is a community resource project and data are made available rapidly after generation for community research use. The embargo allows exploring and utilizing the data, but analysis may not be published until after the embargo date. Please see https://proteomics.cancer.gov/data-portal/about/data-use-agreement or enter cptac.embargo() to open the webpage for more details. (/Users/Lindsey/anaconda3/lib/python3.7/site-packages/ipykernel_launcher.py, line 2)\n"
     ]
    },
    {
     "name": "stdout",
     "output_type": "stream",
     "text": [
      "Formatting dataframes...                    \r"
     ]
    }
   ],
   "source": [
    "#load cptac data \n",
    "brain = cptac.Gbm()\n",
    "kidney = cptac.Ccrcc()\n",
    "Ovar = cptac.Ovarian()\n",
    "colon = cptac.Colon()\n",
    "brca = cptac.Brca()\n",
    "luad = cptac.Luad()\n",
    "Hnscc = cptac.Hnscc()\n",
    "Lscc = cptac.Lscc()"
   ]
  },
  {
   "cell_type": "markdown",
   "metadata": {},
   "source": [
    "# Step 1 Make data frame "
   ]
  },
  {
   "cell_type": "markdown",
   "metadata": {},
   "source": [
    "For each cancer, get phosphoproteomic and mutation data. Drop extra multi-index levels. Merge levels to have column names include gene and phospho site "
   ]
  },
  {
   "cell_type": "markdown",
   "metadata": {},
   "source": [
    "# Step 2 Get Phospho Sites"
   ]
  },
  {
   "cell_type": "markdown",
   "metadata": {},
   "source": [
    "For each cancer, get phospho sites by using get_phospho_sites function. Function extracts column names and deletes unnecessary columns. It returns list of phospho sites. "
   ]
  },
  {
   "cell_type": "markdown",
   "metadata": {},
   "source": [
    "# Step 3 Run Pearson Correlation Function"
   ]
  },
  {
   "cell_type": "markdown",
   "metadata": {},
   "source": [
    "Run correlation function and compare EGFR phospho site to all phospho sites. Save df as csv file. "
   ]
  },
  {
   "cell_type": "markdown",
   "metadata": {},
   "source": [
    "# GBM"
   ]
  },
  {
   "cell_type": "code",
   "execution_count": null,
   "metadata": {},
   "outputs": [],
   "source": [
    "df1 = brain.join_omics_to_mutations(omics_df_name=\"phosphoproteomics\", mutations_genes=\"EGFR\")\n",
    "df1.columns = df1.columns.droplevel(2)\n",
    "df1.columns = df1.columns.droplevel(2)\n",
    "df1.columns =df1.columns.map('_'.join)\n",
    "phosphoprot = df1.loc[df1['Sample_Status_'] == \"Tumor\"]"
   ]
  },
  {
   "cell_type": "code",
   "execution_count": null,
   "metadata": {},
   "outputs": [],
   "source": [
    "phospho_sites = get_phospho_sites(phosphoprot)"
   ]
  },
  {
   "cell_type": "code",
   "execution_count": null,
   "metadata": {},
   "outputs": [],
   "source": [
    "df =(p.wrap_pearson_corr(phosphoprot,\"EGFR_phosphoproteomics_Y1197\",comparison_columns = phospho_sites, return_all = True))\n",
    "df['Cancer Type']='GBM'\n",
    "df.to_csv(\"csv_files/GBM_EGFR_Y1197_phospho.csv\")\n",
    "df"
   ]
  },
  {
   "cell_type": "markdown",
   "metadata": {},
   "source": [
    "# Kidney"
   ]
  },
  {
   "cell_type": "code",
   "execution_count": null,
   "metadata": {},
   "outputs": [],
   "source": [
    "df1 = kidney.join_omics_to_mutations(omics_df_name=\"phosphoproteomics\", mutations_genes=\"EGFR\")\n",
    "df1.columns = df1.columns.droplevel(2)\n",
    "df1.columns = df1.columns.droplevel(2)\n",
    "df1.columns =df1.columns.map('_'.join)\n",
    "phosphoprot = df1.loc[df1['Sample_Status_'] == \"Tumor\"]"
   ]
  },
  {
   "cell_type": "code",
   "execution_count": null,
   "metadata": {},
   "outputs": [],
   "source": [
    "phospho_sites = get_phospho_sites(phosphoprot)"
   ]
  },
  {
   "cell_type": "code",
   "execution_count": null,
   "metadata": {},
   "outputs": [],
   "source": [
    "df = p.wrap_pearson_corr(phosphoprot,\"EGFR_phosphoproteomics_Y1144\",comparison_columns = phospho_sites, return_all = True)\n",
    "df['Cancer Type']='Kidney'\n",
    "df.to_csv(\"csv_files/Kidney_EGFR_Y1144_phospho.csv\")"
   ]
  },
  {
   "cell_type": "markdown",
   "metadata": {},
   "source": [
    "# Ovarian "
   ]
  },
  {
   "cell_type": "code",
   "execution_count": null,
   "metadata": {},
   "outputs": [],
   "source": [
    "df1 = Ovar.join_omics_to_mutations(omics_df_name=\"phosphoproteomics\", mutations_genes=\"EGFR\")\n",
    "df1.columns = df1.columns.droplevel(2)\n",
    "df1.columns = df1.columns.droplevel(2)\n",
    "df1.columns =df1.columns.map('_'.join)\n",
    "phosphoprot = df1.loc[df1['Sample_Status_'] == \"Tumor\"]"
   ]
  },
  {
   "cell_type": "code",
   "execution_count": null,
   "metadata": {},
   "outputs": [],
   "source": [
    "phospho_sites = get_phospho_sites(phosphoprot)"
   ]
  },
  {
   "cell_type": "code",
   "execution_count": null,
   "metadata": {},
   "outputs": [],
   "source": [
    "df =(p.wrap_pearson_corr(phosphoprot,\"EGFR_phosphoproteomics_Y1172\",comparison_columns = phospho_sites, return_all = True))\n",
    "df['Cancer Type']='Ovar'\n",
    "df.to_csv(\"csv_files/Ovar_EGFR_Y1172_phospho.csv\")\n"
   ]
  },
  {
   "cell_type": "markdown",
   "metadata": {},
   "source": [
    "# Colon"
   ]
  },
  {
   "cell_type": "code",
   "execution_count": null,
   "metadata": {},
   "outputs": [],
   "source": [
    "df1 = colon.join_omics_to_mutations(omics_df_name=\"phosphoproteomics\", mutations_genes=\"EGFR\")\n",
    "df1.columns = df1.columns.droplevel(2)\n",
    "df1.columns =df1.columns.map('_'.join)\n",
    "phosphoprot = df1.loc[df1['Sample_Status_'] == \"Tumor\"]"
   ]
  },
  {
   "cell_type": "code",
   "execution_count": null,
   "metadata": {},
   "outputs": [],
   "source": [
    "phospho_sites = get_phospho_sites(phosphoprot)\n"
   ]
  },
  {
   "cell_type": "code",
   "execution_count": null,
   "metadata": {},
   "outputs": [],
   "source": [
    "df =(p.wrap_pearson_corr(phosphoprot,\"EGFR_phosphoproteomics_Y1092\",comparison_columns = phospho_sites, return_all = True))\n",
    "df['Cancer Type']='Colon'\n",
    "df.to_csv(\"csv_files/colon_EGFR_Y1092_phospho.csv\")\n",
    "\n"
   ]
  },
  {
   "cell_type": "markdown",
   "metadata": {},
   "source": [
    "# Brca "
   ]
  },
  {
   "cell_type": "code",
   "execution_count": null,
   "metadata": {},
   "outputs": [],
   "source": [
    "df1 = brca.join_omics_to_mutations(omics_df_name=\"phosphoproteomics\", mutations_genes=\"EGFR\")\n",
    "df1.columns = df1.columns.droplevel(2)\n",
    "df1.columns = df1.columns.droplevel(2)\n",
    "df1.columns =df1.columns.map('_'.join)\n",
    "phosphoprot= df1.loc[df1['Sample_Status_'] == \"Tumor\"]"
   ]
  },
  {
   "cell_type": "code",
   "execution_count": null,
   "metadata": {},
   "outputs": [],
   "source": [
    "phospho_sites = get_phospho_sites(phosphoprot)\n"
   ]
  },
  {
   "cell_type": "code",
   "execution_count": null,
   "metadata": {},
   "outputs": [],
   "source": [
    "phosphoprot.filter(like='EGFR_phosphoproteomics', axis=1)\n",
    "#no EGFR phospho Y data "
   ]
  },
  {
   "cell_type": "code",
   "execution_count": null,
   "metadata": {},
   "outputs": [],
   "source": []
  },
  {
   "cell_type": "markdown",
   "metadata": {},
   "source": [
    "# LUAD"
   ]
  },
  {
   "cell_type": "code",
   "execution_count": null,
   "metadata": {},
   "outputs": [],
   "source": [
    "df1 = luad.join_omics_to_mutations(omics_df_name=\"phosphoproteomics\", mutations_genes=\"EGFR\")\n",
    "df1.columns = df1.columns.droplevel(2)\n",
    "df1.columns = df1.columns.droplevel(2)\n",
    "df1.columns =df1.columns.map('_'.join)\n",
    "phosphoprot = df1.loc[df1['Sample_Status_'] == \"Tumor\"]"
   ]
  },
  {
   "cell_type": "code",
   "execution_count": null,
   "metadata": {},
   "outputs": [],
   "source": [
    "phospho_sites = get_phospho_sites(phosphoprot)"
   ]
  },
  {
   "cell_type": "code",
   "execution_count": null,
   "metadata": {},
   "outputs": [],
   "source": [
    "df =(p.wrap_pearson_corr(phosphoprot,\"EGFR_phosphoproteomics_Y1197\",comparison_columns = phospho_sites, return_all = True))\n",
    "df['Cancer Type']='Luad'\n",
    "df.to_csv(\"csv_files/Luad_EGFR_Y1197_phospho.csv\")\n",
    "\n"
   ]
  },
  {
   "cell_type": "markdown",
   "metadata": {},
   "source": [
    "# HNSCC"
   ]
  },
  {
   "cell_type": "code",
   "execution_count": null,
   "metadata": {},
   "outputs": [],
   "source": [
    "df1 = Hnscc.join_omics_to_mutations(omics_df_name=\"phosphoproteomics\", mutations_genes=\"EGFR\")\n",
    "df1.columns = df1.columns.droplevel(2)\n",
    "df1.columns = df1.columns.droplevel(2)\n",
    "df1.columns =df1.columns.map('_'.join)\n",
    "phosphoprot = df1.loc[df1['Sample_Status_'] == \"Tumor\"]"
   ]
  },
  {
   "cell_type": "code",
   "execution_count": null,
   "metadata": {},
   "outputs": [],
   "source": [
    "phospho_sites = get_phospho_sites(phosphoprot)"
   ]
  },
  {
   "cell_type": "code",
   "execution_count": null,
   "metadata": {},
   "outputs": [],
   "source": [
    "df =(p.wrap_pearson_corr(phosphoprot,\"EGFR_phosphoproteomics_Y1197\",comparison_columns = phospho_sites, return_all = True))\n",
    "df['Cancer Type']='Hnscc'\n",
    "df.to_csv(\"csv_files/Hnscc_EGFR_Y1197_phospho.csv\")"
   ]
  },
  {
   "cell_type": "markdown",
   "metadata": {},
   "source": [
    "# Lscc"
   ]
  },
  {
   "cell_type": "code",
   "execution_count": null,
   "metadata": {},
   "outputs": [],
   "source": [
    "df1 = Lscc.join_omics_to_mutations(omics_df_name=\"phosphoproteomics\", mutations_genes=\"EGFR\")\n",
    "df1.columns = df1.columns.droplevel(2)\n",
    "df1.columns = df1.columns.droplevel(2)\n",
    "df1.columns =df1.columns.map('_'.join)\n",
    "phosphoprot = df1.loc[df1['Sample_Status_'] == \"Tumor\"]\n"
   ]
  },
  {
   "cell_type": "code",
   "execution_count": null,
   "metadata": {},
   "outputs": [],
   "source": [
    "phospho_sites = get_phospho_sites(phosphoprot)"
   ]
  },
  {
   "cell_type": "code",
   "execution_count": null,
   "metadata": {},
   "outputs": [],
   "source": [
    "df =(p.wrap_pearson_corr(phosphoprot,\"EGFR_phosphoproteomics_Y1197\",comparison_columns = phospho_sites, return_all = True))\n",
    "df['Cancer Type']='Lscc'\n",
    "df.to_csv(\"csv_files/Lscc_EGFR_Y1197_phospho.csv\")\n",
    "\n"
   ]
  },
  {
   "cell_type": "code",
   "execution_count": null,
   "metadata": {},
   "outputs": [],
   "source": []
  }
 ],
 "metadata": {
  "kernelspec": {
   "display_name": "Python 3",
   "language": "python",
   "name": "python3"
  },
  "language_info": {
   "codemirror_mode": {
    "name": "ipython",
    "version": 3
   },
   "file_extension": ".py",
   "mimetype": "text/x-python",
   "name": "python",
   "nbconvert_exporter": "python",
   "pygments_lexer": "ipython3",
   "version": "3.7.3"
  }
 },
 "nbformat": 4,
 "nbformat_minor": 2
}
