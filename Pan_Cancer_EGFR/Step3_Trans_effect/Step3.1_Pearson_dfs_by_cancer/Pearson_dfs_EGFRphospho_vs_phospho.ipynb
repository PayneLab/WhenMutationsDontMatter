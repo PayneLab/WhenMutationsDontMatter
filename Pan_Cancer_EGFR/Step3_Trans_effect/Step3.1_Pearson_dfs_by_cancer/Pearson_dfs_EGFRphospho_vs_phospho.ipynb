{
 "cells": [
  {
   "cell_type": "markdown",
   "metadata": {},
   "source": [
    "# Pearson Dfs EGFR phospho sites vs all phospho sites"
   ]
  },
  {
   "cell_type": "markdown",
   "metadata": {},
   "source": [
    "This notebooks makes df for each cancer type that compares an EGFR phospho site against all phospho sites. (returns all)"
   ]
  },
  {
   "cell_type": "code",
   "execution_count": 1,
   "metadata": {},
   "outputs": [
    {
     "name": "stderr",
     "output_type": "stream",
     "text": [
      "/Users/Lindsey/anaconda3/lib/python3.7/site-packages/statsmodels/tools/_testing.py:19: FutureWarning: pandas.util.testing is deprecated. Use the functions in the public API at pandas.testing instead.\n",
      "  import pandas.util.testing as tm\n"
     ]
    }
   ],
   "source": [
    "import pandas as pd\n",
    "import numpy as np\n",
    "import seaborn as sns\n",
    "import matplotlib.pyplot as plt\n",
    "import scipy.stats\n",
    "import re\n",
    "import sys \n",
    "import statsmodels.stats.multitest\n",
    "\n",
    "\n",
    "import cptac\n",
    "import cptac.utils as u\n",
    "import plot_utils as p\n"
   ]
  },
  {
   "cell_type": "code",
   "execution_count": 2,
   "metadata": {},
   "outputs": [],
   "source": [
    "def get_phospho_sites(df):\n",
    "    phospho_sites = df.columns.values.tolist()\n",
    "    phospho_sites.remove('EGFR_Mutation_')\n",
    "    phospho_sites.remove('EGFR_Location_')\n",
    "    phospho_sites.remove('EGFR_Mutation_Status_')\n",
    "    phospho_sites.remove('Sample_Status_')\n",
    "    return phospho_sites \n"
   ]
  },
  {
   "cell_type": "code",
   "execution_count": 3,
   "metadata": {},
   "outputs": [
    {
     "name": "stdout",
     "output_type": "stream",
     "text": [
      "Checking that ccrcc index is up-to-date...\r"
     ]
    },
    {
     "name": "stderr",
     "output_type": "stream",
     "text": [
      "cptac warning: The GBM dataset is under publication embargo until March 01, 2021. CPTAC is a community resource project and data are made available rapidly after generation for community research use. The embargo allows exploring and utilizing the data, but analysis may not be published until after the embargo date. Please see https://proteomics.cancer.gov/data-portal/about/data-use-agreement or enter cptac.embargo() to open the webpage for more details. (/Users/Lindsey/anaconda3/lib/python3.7/site-packages/ipykernel_launcher.py, line 2)\n"
     ]
    },
    {
     "name": "stdout",
     "output_type": "stream",
     "text": [
      "Checking that hnscc index is up-to-date...  \r"
     ]
    },
    {
     "name": "stderr",
     "output_type": "stream",
     "text": [
      "cptac warning: The LUAD dataset is under publication embargo until July 01, 2020. CPTAC is a community resource project and data are made available rapidly after generation for community research use. The embargo allows exploring and utilizing the data, but analysis may not be published until after the embargo date. Please see https://proteomics.cancer.gov/data-portal/about/data-use-agreement or enter cptac.embargo() to open the webpage for more details. (/Users/Lindsey/anaconda3/lib/python3.7/site-packages/ipykernel_launcher.py, line 7)\n"
     ]
    },
    {
     "name": "stdout",
     "output_type": "stream",
     "text": [
      "                                          \r"
     ]
    }
   ],
   "source": [
    "#load cptac data \n",
    "brain = cptac.Gbm()\n",
    "kidney = cptac.Ccrcc()\n",
    "Ovar = cptac.Ovarian()\n",
    "colon = cptac.Colon()\n",
    "brca = cptac.Brca()\n",
    "luad = cptac.Luad()\n",
    "Hnscc = cptac.Hnscc()\n",
    "Lscc = cptac.Lscc()"
   ]
  },
  {
   "cell_type": "markdown",
   "metadata": {},
   "source": [
    "# Step 1 Make data frame "
   ]
  },
  {
   "cell_type": "markdown",
   "metadata": {},
   "source": [
    "For each cancer, get phosphoproteomic and mutation data. Drop extra multi-index levels. Merge levels to have column names include gene and phospho site "
   ]
  },
  {
   "cell_type": "markdown",
   "metadata": {},
   "source": [
    "# Step 2 Get Phospho Sites"
   ]
  },
  {
   "cell_type": "markdown",
   "metadata": {},
   "source": [
    "For each cancer, get phospho sites by using get_phospho_sites function. Function extracts column names and deletes unnecessary columns. It returns list of phospho sites. "
   ]
  },
  {
   "cell_type": "markdown",
   "metadata": {},
   "source": [
    "# Step 3 Run Pearson Correlation Function"
   ]
  },
  {
   "cell_type": "markdown",
   "metadata": {},
   "source": [
    "Run correlation function and compare EGFR phospho site to all phospho sites. Save df as csv file. "
   ]
  },
  {
   "cell_type": "markdown",
   "metadata": {},
   "source": [
    "# GBM"
   ]
  },
  {
   "cell_type": "code",
   "execution_count": 4,
   "metadata": {},
   "outputs": [
    {
     "name": "stderr",
     "output_type": "stream",
     "text": [
      "cptac warning: In joining the somatic_mutation table, no mutations were found for the following samples, so they were filled with Wildtype_Tumor or Wildtype_Normal: 93 samples for the EGFR gene (/Users/Lindsey/anaconda3/lib/python3.7/site-packages/ipykernel_launcher.py, line 1)\n"
     ]
    }
   ],
   "source": [
    "df1 = brain.join_omics_to_mutations(omics_df_name=\"phosphoproteomics\", mutations_genes=\"EGFR\")\n",
    "df1.columns = df1.columns.droplevel(2)\n",
    "df1.columns = df1.columns.droplevel(2)\n",
    "df1.columns =df1.columns.map('_'.join)\n",
    "phosphoprot = df1.loc[df1['Sample_Status_'] == \"Tumor\"]"
   ]
  },
  {
   "cell_type": "code",
   "execution_count": 5,
   "metadata": {},
   "outputs": [],
   "source": [
    "phospho_sites = get_phospho_sites(phosphoprot)"
   ]
  },
  {
   "cell_type": "code",
   "execution_count": 6,
   "metadata": {},
   "outputs": [
    {
     "data": {
      "text/html": [
       "<div>\n",
       "<style scoped>\n",
       "    .dataframe tbody tr th:only-of-type {\n",
       "        vertical-align: middle;\n",
       "    }\n",
       "\n",
       "    .dataframe tbody tr th {\n",
       "        vertical-align: top;\n",
       "    }\n",
       "\n",
       "    .dataframe thead th {\n",
       "        text-align: right;\n",
       "    }\n",
       "</style>\n",
       "<table border=\"1\" class=\"dataframe\">\n",
       "  <thead>\n",
       "    <tr style=\"text-align: right;\">\n",
       "      <th></th>\n",
       "      <th>Comparison</th>\n",
       "      <th>Correlation</th>\n",
       "      <th>P_value</th>\n",
       "      <th>Cancer Type</th>\n",
       "    </tr>\n",
       "  </thead>\n",
       "  <tbody>\n",
       "    <tr>\n",
       "      <th>11928</th>\n",
       "      <td>EGFR_phosphoproteomics_Y1197</td>\n",
       "      <td>1.000000</td>\n",
       "      <td>0.000000e+00</td>\n",
       "      <td>GBM</td>\n",
       "    </tr>\n",
       "    <tr>\n",
       "      <th>11927</th>\n",
       "      <td>EGFR_phosphoproteomics_Y1172</td>\n",
       "      <td>0.899603</td>\n",
       "      <td>8.871131e-34</td>\n",
       "      <td>GBM</td>\n",
       "    </tr>\n",
       "    <tr>\n",
       "      <th>11913</th>\n",
       "      <td>EGFR_phosphoproteomics_S1166Y1172</td>\n",
       "      <td>0.881333</td>\n",
       "      <td>1.002277e-30</td>\n",
       "      <td>GBM</td>\n",
       "    </tr>\n",
       "    <tr>\n",
       "      <th>11925</th>\n",
       "      <td>EGFR_phosphoproteomics_Y1092</td>\n",
       "      <td>0.908060</td>\n",
       "      <td>3.304647e-23</td>\n",
       "      <td>GBM</td>\n",
       "    </tr>\n",
       "    <tr>\n",
       "      <th>11912</th>\n",
       "      <td>EGFR_phosphoproteomics_S1166</td>\n",
       "      <td>0.739790</td>\n",
       "      <td>5.458615e-17</td>\n",
       "      <td>GBM</td>\n",
       "    </tr>\n",
       "    <tr>\n",
       "      <th>...</th>\n",
       "      <td>...</td>\n",
       "      <td>...</td>\n",
       "      <td>...</td>\n",
       "      <td>...</td>\n",
       "    </tr>\n",
       "    <tr>\n",
       "      <th>2353</th>\n",
       "      <td>ANKZF1_phosphoproteomics_S675</td>\n",
       "      <td>-0.000011</td>\n",
       "      <td>9.999182e-01</td>\n",
       "      <td>GBM</td>\n",
       "    </tr>\n",
       "    <tr>\n",
       "      <th>37590</th>\n",
       "      <td>SNPH_phosphoproteomics_T258S280</td>\n",
       "      <td>0.000022</td>\n",
       "      <td>9.999189e-01</td>\n",
       "      <td>GBM</td>\n",
       "    </tr>\n",
       "    <tr>\n",
       "      <th>27581</th>\n",
       "      <td>PALMD_phosphoproteomics_S486</td>\n",
       "      <td>0.000008</td>\n",
       "      <td>9.999697e-01</td>\n",
       "      <td>GBM</td>\n",
       "    </tr>\n",
       "    <tr>\n",
       "      <th>643</th>\n",
       "      <td>ADD3_phosphoproteomics_S677S679S681</td>\n",
       "      <td>-0.000002</td>\n",
       "      <td>9.999883e-01</td>\n",
       "      <td>GBM</td>\n",
       "    </tr>\n",
       "    <tr>\n",
       "      <th>18278</th>\n",
       "      <td>ITPRID2_phosphoproteomics_T867</td>\n",
       "      <td>-0.000002</td>\n",
       "      <td>9.999904e-01</td>\n",
       "      <td>GBM</td>\n",
       "    </tr>\n",
       "  </tbody>\n",
       "</table>\n",
       "<p>47031 rows × 4 columns</p>\n",
       "</div>"
      ],
      "text/plain": [
       "                                Comparison  Correlation       P_value  \\\n",
       "11928         EGFR_phosphoproteomics_Y1197     1.000000  0.000000e+00   \n",
       "11927         EGFR_phosphoproteomics_Y1172     0.899603  8.871131e-34   \n",
       "11913    EGFR_phosphoproteomics_S1166Y1172     0.881333  1.002277e-30   \n",
       "11925         EGFR_phosphoproteomics_Y1092     0.908060  3.304647e-23   \n",
       "11912         EGFR_phosphoproteomics_S1166     0.739790  5.458615e-17   \n",
       "...                                    ...          ...           ...   \n",
       "2353         ANKZF1_phosphoproteomics_S675    -0.000011  9.999182e-01   \n",
       "37590      SNPH_phosphoproteomics_T258S280     0.000022  9.999189e-01   \n",
       "27581         PALMD_phosphoproteomics_S486     0.000008  9.999697e-01   \n",
       "643    ADD3_phosphoproteomics_S677S679S681    -0.000002  9.999883e-01   \n",
       "18278       ITPRID2_phosphoproteomics_T867    -0.000002  9.999904e-01   \n",
       "\n",
       "      Cancer Type  \n",
       "11928         GBM  \n",
       "11927         GBM  \n",
       "11913         GBM  \n",
       "11925         GBM  \n",
       "11912         GBM  \n",
       "...           ...  \n",
       "2353          GBM  \n",
       "37590         GBM  \n",
       "27581         GBM  \n",
       "643           GBM  \n",
       "18278         GBM  \n",
       "\n",
       "[47031 rows x 4 columns]"
      ]
     },
     "execution_count": 6,
     "metadata": {},
     "output_type": "execute_result"
    }
   ],
   "source": [
    "df =(p.wrap_pearson_corr(phosphoprot,\"EGFR_phosphoproteomics_Y1197\",comparison_columns = phospho_sites, return_all = True))\n",
    "df['Cancer Type']='GBM'\n",
    "df.to_csv(\"csv_files/GBM_EGFR_Y1197_phospho.csv\")\n",
    "df"
   ]
  },
  {
   "cell_type": "markdown",
   "metadata": {},
   "source": [
    "# Kidney"
   ]
  },
  {
   "cell_type": "code",
   "execution_count": 7,
   "metadata": {},
   "outputs": [
    {
     "name": "stderr",
     "output_type": "stream",
     "text": [
      "cptac warning: In joining the somatic_mutation table, no mutations were found for the following samples, so they were filled with Wildtype_Tumor or Wildtype_Normal: 193 samples for the EGFR gene (/Users/Lindsey/anaconda3/lib/python3.7/site-packages/ipykernel_launcher.py, line 1)\n"
     ]
    }
   ],
   "source": [
    "df1 = kidney.join_omics_to_mutations(omics_df_name=\"phosphoproteomics\", mutations_genes=\"EGFR\")\n",
    "df1.columns = df1.columns.droplevel(2)\n",
    "df1.columns = df1.columns.droplevel(2)\n",
    "df1.columns =df1.columns.map('_'.join)\n",
    "phosphoprot = df1.loc[df1['Sample_Status_'] == \"Tumor\"]"
   ]
  },
  {
   "cell_type": "code",
   "execution_count": 8,
   "metadata": {},
   "outputs": [],
   "source": [
    "phospho_sites = get_phospho_sites(phosphoprot)"
   ]
  },
  {
   "cell_type": "code",
   "execution_count": 9,
   "metadata": {},
   "outputs": [
    {
     "ename": "SyntaxError",
     "evalue": "invalid syntax (<ipython-input-9-5d4c33d46d85>, line 1)",
     "output_type": "error",
     "traceback": [
      "\u001b[0;36m  File \u001b[0;32m\"<ipython-input-9-5d4c33d46d85>\"\u001b[0;36m, line \u001b[0;32m1\u001b[0m\n\u001b[0;31m    df = p.wrap_pearson_corr(phosphoprot,\"EGFR_phosphoproteomics_Y1144\",comparison_columns = phospho_sites, return_all = True))\u001b[0m\n\u001b[0m                                                                                                                              ^\u001b[0m\n\u001b[0;31mSyntaxError\u001b[0m\u001b[0;31m:\u001b[0m invalid syntax\n"
     ]
    }
   ],
   "source": [
    "df = p.wrap_pearson_corr(phosphoprot,\"EGFR_phosphoproteomics_Y1144\",comparison_columns = phospho_sites, return_all = True))\n",
    "df['Cancer Type']='Kidney'\n",
    "df.to_csv(\"csv_files/Kidney_EGFR_Y1144_phospho.csv\")"
   ]
  },
  {
   "cell_type": "markdown",
   "metadata": {},
   "source": [
    "# Ovarian "
   ]
  },
  {
   "cell_type": "code",
   "execution_count": null,
   "metadata": {},
   "outputs": [],
   "source": [
    "df1 = Ovar.join_omics_to_mutations(omics_df_name=\"phosphoproteomics\", mutations_genes=\"EGFR\")\n",
    "df1.columns = df1.columns.droplevel(2)\n",
    "df1.columns = df1.columns.droplevel(2)\n",
    "df1.columns =df1.columns.map('_'.join)\n",
    "phosphoprot = df1.loc[df1['Sample_Status_'] == \"Tumor\"]"
   ]
  },
  {
   "cell_type": "code",
   "execution_count": null,
   "metadata": {},
   "outputs": [],
   "source": [
    "phospho_sites = get_phospho_sites(phosphoprot)"
   ]
  },
  {
   "cell_type": "code",
   "execution_count": null,
   "metadata": {},
   "outputs": [],
   "source": [
    "df =(p.wrap_pearson_corr(phosphoprot,\"EGFR_phosphoproteomics_Y1172\",comparison_columns = phospho_sites, return_all = True))\n",
    "df['Cancer Type']='Ovar'\n",
    "df.to_csv(\"csv_files/Ovar_EGFR_Y1172_phospho.csv\")\n"
   ]
  },
  {
   "cell_type": "markdown",
   "metadata": {},
   "source": [
    "# Colon"
   ]
  },
  {
   "cell_type": "code",
   "execution_count": null,
   "metadata": {},
   "outputs": [],
   "source": [
    "df1 = colon.join_omics_to_mutations(omics_df_name=\"phosphoproteomics\", mutations_genes=\"EGFR\")\n",
    "df1.columns = df1.columns.droplevel(2)\n",
    "df1.columns =df1.columns.map('_'.join)\n",
    "phosphoprot = df1.loc[df1['Sample_Status_'] == \"Tumor\"]"
   ]
  },
  {
   "cell_type": "code",
   "execution_count": null,
   "metadata": {},
   "outputs": [],
   "source": [
    "phospho_sites = get_phospho_sites(phosphoprot)\n"
   ]
  },
  {
   "cell_type": "code",
   "execution_count": null,
   "metadata": {},
   "outputs": [],
   "source": [
    "df =(p.wrap_pearson_corr(phosphoprot,\"EGFR_phosphoproteomics_Y1092\",comparison_columns = phospho_sites, return_all = True))\n",
    "df['Cancer Type']='Colon'\n",
    "df.to_csv(\"csv_files/colon_EGFR_Y1092_phospho.csv\")\n",
    "\n"
   ]
  },
  {
   "cell_type": "markdown",
   "metadata": {},
   "source": [
    "# Brca "
   ]
  },
  {
   "cell_type": "code",
   "execution_count": null,
   "metadata": {},
   "outputs": [],
   "source": [
    "df1 = brca.join_omics_to_mutations(omics_df_name=\"phosphoproteomics\", mutations_genes=\"EGFR\")\n",
    "df1.columns = df1.columns.droplevel(2)\n",
    "df1.columns = df1.columns.droplevel(2)\n",
    "df1.columns =df1.columns.map('_'.join)\n",
    "phosphoprot= df1.loc[df1['Sample_Status_'] == \"Tumor\"]"
   ]
  },
  {
   "cell_type": "code",
   "execution_count": null,
   "metadata": {},
   "outputs": [],
   "source": [
    "phospho_sites = get_phospho_sites(phosphoprot)\n"
   ]
  },
  {
   "cell_type": "code",
   "execution_count": null,
   "metadata": {},
   "outputs": [],
   "source": [
    "phosphoprot.filter(like='EGFR_phosphoproteomics', axis=1)\n",
    "#no EGFR phospho Y data "
   ]
  },
  {
   "cell_type": "code",
   "execution_count": null,
   "metadata": {},
   "outputs": [],
   "source": []
  },
  {
   "cell_type": "markdown",
   "metadata": {},
   "source": [
    "# LUAD"
   ]
  },
  {
   "cell_type": "code",
   "execution_count": null,
   "metadata": {},
   "outputs": [],
   "source": [
    "df1 = luad.join_omics_to_mutations(omics_df_name=\"phosphoproteomics\", mutations_genes=\"EGFR\")\n",
    "df1.columns = df1.columns.droplevel(2)\n",
    "df1.columns = df1.columns.droplevel(2)\n",
    "df1.columns =df1.columns.map('_'.join)\n",
    "phosphoprot = df1.loc[df1['Sample_Status_'] == \"Tumor\"]"
   ]
  },
  {
   "cell_type": "code",
   "execution_count": null,
   "metadata": {},
   "outputs": [],
   "source": [
    "phospho_sites = get_phospho_sites(phosphoprot)"
   ]
  },
  {
   "cell_type": "code",
   "execution_count": null,
   "metadata": {},
   "outputs": [],
   "source": [
    "df =(p.wrap_pearson_corr(phosphoprot,\"EGFR_phosphoproteomics_Y1197\",comparison_columns = phospho_sites, return_all = True))\n",
    "df['Cancer Type']='Luad'\n",
    "df.to_csv(\"csv_files/Luad_EGFR_Y1197_phospho.csv\")\n",
    "\n"
   ]
  },
  {
   "cell_type": "markdown",
   "metadata": {},
   "source": [
    "# HNSCC"
   ]
  },
  {
   "cell_type": "code",
   "execution_count": null,
   "metadata": {},
   "outputs": [],
   "source": [
    "df1 = Hnscc.join_omics_to_mutations(omics_df_name=\"phosphoproteomics\", mutations_genes=\"EGFR\")\n",
    "df1.columns = df1.columns.droplevel(2)\n",
    "df1.columns = df1.columns.droplevel(2)\n",
    "df1.columns =df1.columns.map('_'.join)\n",
    "phosphoprot = df1.loc[df1['Sample_Status_'] == \"Tumor\"]"
   ]
  },
  {
   "cell_type": "code",
   "execution_count": null,
   "metadata": {},
   "outputs": [],
   "source": [
    "phospho_sites = get_phospho_sites(phosphoprot)"
   ]
  },
  {
   "cell_type": "code",
   "execution_count": null,
   "metadata": {},
   "outputs": [],
   "source": [
    "df =(p.wrap_pearson_corr(phosphoprot,\"EGFR_phosphoproteomics_Y1197\",comparison_columns = phospho_sites, return_all = True))\n",
    "df['Cancer Type']='Hnscc'\n",
    "df.to_csv(\"csv_files/Hnscc_EGFR_Y1197_phospho.csv\")"
   ]
  },
  {
   "cell_type": "markdown",
   "metadata": {},
   "source": [
    "# Lscc"
   ]
  },
  {
   "cell_type": "code",
   "execution_count": null,
   "metadata": {},
   "outputs": [],
   "source": [
    "df1 = Lscc.join_omics_to_mutations(omics_df_name=\"phosphoproteomics\", mutations_genes=\"EGFR\")\n",
    "df1.columns = df1.columns.droplevel(2)\n",
    "df1.columns = df1.columns.droplevel(2)\n",
    "df1.columns =df1.columns.map('_'.join)\n",
    "phosphoprot = df1.loc[df1['Sample_Status_'] == \"Tumor\"]\n"
   ]
  },
  {
   "cell_type": "code",
   "execution_count": null,
   "metadata": {},
   "outputs": [],
   "source": [
    "phospho_sites = get_phospho_sites(phosphoprot)"
   ]
  },
  {
   "cell_type": "code",
   "execution_count": null,
   "metadata": {},
   "outputs": [],
   "source": [
    "df =(p.wrap_pearson_corr(phosphoprot,\"EGFR_phosphoproteomics_Y1197\",comparison_columns = phospho_sites, return_all = True))\n",
    "df['Cancer Type']='Lscc'\n",
    "df.to_csv(\"csv_files/Lscc_EGFR_Y1197_phospho.csv\")\n",
    "\n"
   ]
  },
  {
   "cell_type": "code",
   "execution_count": null,
   "metadata": {},
   "outputs": [],
   "source": []
  }
 ],
 "metadata": {
  "kernelspec": {
   "display_name": "Python 3",
   "language": "python",
   "name": "python3"
  },
  "language_info": {
   "codemirror_mode": {
    "name": "ipython",
    "version": 3
   },
   "file_extension": ".py",
   "mimetype": "text/x-python",
   "name": "python",
   "nbconvert_exporter": "python",
   "pygments_lexer": "ipython3",
   "version": "3.7.3"
  }
 },
 "nbformat": 4,
 "nbformat_minor": 2
}
