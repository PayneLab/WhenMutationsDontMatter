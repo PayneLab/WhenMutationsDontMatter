{
 "cells": [
  {
   "cell_type": "markdown",
   "metadata": {},
   "source": [
    "# Pearson Dfs EGFR proteomics vs all phosphoprotemics "
   ]
  },
  {
   "cell_type": "markdown",
   "metadata": {},
   "source": [
    "This notebook creates dfs for each cancer type that are EGFR proteomics vs all phospho"
   ]
  },
  {
   "cell_type": "code",
   "execution_count": 1,
   "metadata": {},
   "outputs": [
    {
     "name": "stderr",
     "output_type": "stream",
     "text": [
      "/Users/Lindsey/anaconda3/lib/python3.7/site-packages/statsmodels/tools/_testing.py:19: FutureWarning: pandas.util.testing is deprecated. Use the functions in the public API at pandas.testing instead.\n",
      "  import pandas.util.testing as tm\n"
     ]
    }
   ],
   "source": [
    "import pandas as pd\n",
    "import numpy as np\n",
    "import seaborn as sns\n",
    "import matplotlib.pyplot as plt\n",
    "import scipy.stats\n",
    "import re\n",
    "import sys \n",
    "import statsmodels.stats.multitest\n",
    "\n",
    "import cptac\n",
    "import cptac.utils as u\n",
    "import plot_utils as p"
   ]
  },
  {
   "cell_type": "code",
   "execution_count": 2,
   "metadata": {},
   "outputs": [
    {
     "name": "stdout",
     "output_type": "stream",
     "text": [
      "Checking that ccrcc index is up-to-date...\r"
     ]
    },
    {
     "name": "stderr",
     "output_type": "stream",
     "text": [
      "cptac warning: The GBM dataset is under publication embargo until March 01, 2021. CPTAC is a community resource project and data are made available rapidly after generation for community research use. The embargo allows exploring and utilizing the data, but analysis may not be published until after the embargo date. Please see https://proteomics.cancer.gov/data-portal/about/data-use-agreement or enter cptac.embargo() to open the webpage for more details. (/Users/Lindsey/anaconda3/lib/python3.7/site-packages/ipykernel_launcher.py, line 2)\n"
     ]
    },
    {
     "name": "stdout",
     "output_type": "stream",
     "text": [
      "Checking that hnscc index is up-to-date...  \r"
     ]
    },
    {
     "name": "stderr",
     "output_type": "stream",
     "text": [
      "cptac warning: The LUAD dataset is under publication embargo until July 01, 2020. CPTAC is a community resource project and data are made available rapidly after generation for community research use. The embargo allows exploring and utilizing the data, but analysis may not be published until after the embargo date. Please see https://proteomics.cancer.gov/data-portal/about/data-use-agreement or enter cptac.embargo() to open the webpage for more details. (/Users/Lindsey/anaconda3/lib/python3.7/site-packages/ipykernel_launcher.py, line 8)\n"
     ]
    },
    {
     "name": "stdout",
     "output_type": "stream",
     "text": [
      "                                          \r"
     ]
    }
   ],
   "source": [
    "#load cptac data sets \n",
    "brain = cptac.Gbm()\n",
    "kidney = cptac.Ccrcc()\n",
    "Ovar = cptac.Ovarian()\n",
    "colon = cptac.Colon()\n",
    "Lscc = cptac.Lscc()\n",
    "brca = cptac.Brca()\n",
    "luad = cptac.Luad()\n",
    "Hnscc = cptac.Hnscc()"
   ]
  },
  {
   "cell_type": "code",
   "execution_count": 3,
   "metadata": {},
   "outputs": [],
   "source": [
    "def getphosphosites(df1):\n",
    "    \n",
    "    df1 = df1.loc[df1['Sample_Tumor_Normal'] == \"Tumor\"]\n",
    "\n",
    "    df1 = df1.loc[:,~df1.columns.duplicated()]\n",
    "    phospho_sites = df1.columns.values.tolist()\n",
    "\n",
    "    phospho_sites.remove('EGFR_proteomics_')\n",
    "    phospho_sites.remove('Sample_Tumor_Normal')\n",
    "    return phospho_sites"
   ]
  },
  {
   "cell_type": "markdown",
   "metadata": {},
   "source": [
    "# Step 1 Create Data frames"
   ]
  },
  {
   "cell_type": "markdown",
   "metadata": {},
   "source": [
    "For each cancer type, load proteomic data and phosphoprteomic data for EGFR. Also, load clinical data and use it filter out non-tumor samples"
   ]
  },
  {
   "cell_type": "markdown",
   "metadata": {},
   "source": [
    "# Step 2 Create list of phosphosites"
   ]
  },
  {
   "cell_type": "markdown",
   "metadata": {},
   "source": [
    "For each cancer type, create list of phosphosites by using the getphoshosites function which extracts column names and removes extra columns."
   ]
  },
  {
   "cell_type": "markdown",
   "metadata": {},
   "source": [
    "# Step 3 Run Pearson Correlation Function "
   ]
  },
  {
   "cell_type": "markdown",
   "metadata": {},
   "source": [
    "Run function on df and compare EGFR proteomics to all phosphosites in list. Store all comparisons. Save df as csv file"
   ]
  },
  {
   "cell_type": "markdown",
   "metadata": {},
   "source": [
    "# GBM"
   ]
  },
  {
   "cell_type": "code",
   "execution_count": 4,
   "metadata": {},
   "outputs": [
    {
     "data": {
      "text/html": [
       "<div>\n",
       "<style scoped>\n",
       "    .dataframe tbody tr th:only-of-type {\n",
       "        vertical-align: middle;\n",
       "    }\n",
       "\n",
       "    .dataframe tbody tr th {\n",
       "        vertical-align: top;\n",
       "    }\n",
       "\n",
       "    .dataframe thead th {\n",
       "        text-align: right;\n",
       "    }\n",
       "</style>\n",
       "<table border=\"1\" class=\"dataframe\">\n",
       "  <thead>\n",
       "    <tr style=\"text-align: right;\">\n",
       "      <th></th>\n",
       "      <th>EGFR_proteomics_</th>\n",
       "      <th>A2M_phosphoproteomics_S273</th>\n",
       "      <th>AAAS_phosphoproteomics_S495</th>\n",
       "      <th>AAAS_phosphoproteomics_S495</th>\n",
       "      <th>AAAS_phosphoproteomics_S525</th>\n",
       "      <th>AAAS_phosphoproteomics_S525S541</th>\n",
       "      <th>AAAS_phosphoproteomics_S541</th>\n",
       "      <th>AAED1_phosphoproteomics_S12</th>\n",
       "      <th>AAGAB_phosphoproteomics_S189</th>\n",
       "      <th>AAGAB_phosphoproteomics_S196S199</th>\n",
       "      <th>...</th>\n",
       "      <th>ZZZ3_phosphoproteomics_S397</th>\n",
       "      <th>ZZZ3_phosphoproteomics_S397S420</th>\n",
       "      <th>ZZZ3_phosphoproteomics_S397S426</th>\n",
       "      <th>ZZZ3_phosphoproteomics_S397Y399</th>\n",
       "      <th>ZZZ3_phosphoproteomics_S606</th>\n",
       "      <th>ZZZ3_phosphoproteomics_S777</th>\n",
       "      <th>ZZZ3_phosphoproteomics_T418</th>\n",
       "      <th>ZZZ3_phosphoproteomics_Y399</th>\n",
       "      <th>ZZZ3_phosphoproteomics_Y399S426</th>\n",
       "      <th>Sample_Tumor_Normal</th>\n",
       "    </tr>\n",
       "  </thead>\n",
       "  <tbody>\n",
       "    <tr>\n",
       "      <th>C3L-00104</th>\n",
       "      <td>1.054962</td>\n",
       "      <td>NaN</td>\n",
       "      <td>0.053418</td>\n",
       "      <td>NaN</td>\n",
       "      <td>0.118623</td>\n",
       "      <td>NaN</td>\n",
       "      <td>NaN</td>\n",
       "      <td>NaN</td>\n",
       "      <td>NaN</td>\n",
       "      <td>NaN</td>\n",
       "      <td>...</td>\n",
       "      <td>NaN</td>\n",
       "      <td>NaN</td>\n",
       "      <td>NaN</td>\n",
       "      <td>NaN</td>\n",
       "      <td>NaN</td>\n",
       "      <td>NaN</td>\n",
       "      <td>NaN</td>\n",
       "      <td>NaN</td>\n",
       "      <td>NaN</td>\n",
       "      <td>Tumor</td>\n",
       "    </tr>\n",
       "    <tr>\n",
       "      <th>C3L-00365</th>\n",
       "      <td>2.219562</td>\n",
       "      <td>NaN</td>\n",
       "      <td>-0.093105</td>\n",
       "      <td>-0.095450</td>\n",
       "      <td>0.069499</td>\n",
       "      <td>NaN</td>\n",
       "      <td>NaN</td>\n",
       "      <td>-1.221096</td>\n",
       "      <td>NaN</td>\n",
       "      <td>NaN</td>\n",
       "      <td>...</td>\n",
       "      <td>NaN</td>\n",
       "      <td>NaN</td>\n",
       "      <td>NaN</td>\n",
       "      <td>NaN</td>\n",
       "      <td>NaN</td>\n",
       "      <td>NaN</td>\n",
       "      <td>NaN</td>\n",
       "      <td>NaN</td>\n",
       "      <td>NaN</td>\n",
       "      <td>Tumor</td>\n",
       "    </tr>\n",
       "    <tr>\n",
       "      <th>C3L-00674</th>\n",
       "      <td>0.137329</td>\n",
       "      <td>NaN</td>\n",
       "      <td>-1.084975</td>\n",
       "      <td>NaN</td>\n",
       "      <td>NaN</td>\n",
       "      <td>NaN</td>\n",
       "      <td>1.368630</td>\n",
       "      <td>NaN</td>\n",
       "      <td>NaN</td>\n",
       "      <td>NaN</td>\n",
       "      <td>...</td>\n",
       "      <td>-1.037834</td>\n",
       "      <td>NaN</td>\n",
       "      <td>NaN</td>\n",
       "      <td>NaN</td>\n",
       "      <td>0.064722</td>\n",
       "      <td>0.216607</td>\n",
       "      <td>NaN</td>\n",
       "      <td>NaN</td>\n",
       "      <td>NaN</td>\n",
       "      <td>Tumor</td>\n",
       "    </tr>\n",
       "    <tr>\n",
       "      <th>C3L-00677</th>\n",
       "      <td>-0.768478</td>\n",
       "      <td>NaN</td>\n",
       "      <td>-0.260149</td>\n",
       "      <td>0.390607</td>\n",
       "      <td>0.336969</td>\n",
       "      <td>NaN</td>\n",
       "      <td>0.411596</td>\n",
       "      <td>NaN</td>\n",
       "      <td>0.812857</td>\n",
       "      <td>0.118422</td>\n",
       "      <td>...</td>\n",
       "      <td>NaN</td>\n",
       "      <td>NaN</td>\n",
       "      <td>NaN</td>\n",
       "      <td>NaN</td>\n",
       "      <td>NaN</td>\n",
       "      <td>NaN</td>\n",
       "      <td>NaN</td>\n",
       "      <td>NaN</td>\n",
       "      <td>NaN</td>\n",
       "      <td>Tumor</td>\n",
       "    </tr>\n",
       "    <tr>\n",
       "      <th>C3L-01040</th>\n",
       "      <td>-1.249435</td>\n",
       "      <td>NaN</td>\n",
       "      <td>-0.344549</td>\n",
       "      <td>NaN</td>\n",
       "      <td>-0.082962</td>\n",
       "      <td>NaN</td>\n",
       "      <td>NaN</td>\n",
       "      <td>NaN</td>\n",
       "      <td>NaN</td>\n",
       "      <td>NaN</td>\n",
       "      <td>...</td>\n",
       "      <td>NaN</td>\n",
       "      <td>NaN</td>\n",
       "      <td>NaN</td>\n",
       "      <td>NaN</td>\n",
       "      <td>NaN</td>\n",
       "      <td>NaN</td>\n",
       "      <td>NaN</td>\n",
       "      <td>NaN</td>\n",
       "      <td>NaN</td>\n",
       "      <td>Tumor</td>\n",
       "    </tr>\n",
       "    <tr>\n",
       "      <th>...</th>\n",
       "      <td>...</td>\n",
       "      <td>...</td>\n",
       "      <td>...</td>\n",
       "      <td>...</td>\n",
       "      <td>...</td>\n",
       "      <td>...</td>\n",
       "      <td>...</td>\n",
       "      <td>...</td>\n",
       "      <td>...</td>\n",
       "      <td>...</td>\n",
       "      <td>...</td>\n",
       "      <td>...</td>\n",
       "      <td>...</td>\n",
       "      <td>...</td>\n",
       "      <td>...</td>\n",
       "      <td>...</td>\n",
       "      <td>...</td>\n",
       "      <td>...</td>\n",
       "      <td>...</td>\n",
       "      <td>...</td>\n",
       "      <td>...</td>\n",
       "    </tr>\n",
       "    <tr>\n",
       "      <th>C3L-03747</th>\n",
       "      <td>NaN</td>\n",
       "      <td>NaN</td>\n",
       "      <td>NaN</td>\n",
       "      <td>NaN</td>\n",
       "      <td>NaN</td>\n",
       "      <td>NaN</td>\n",
       "      <td>NaN</td>\n",
       "      <td>NaN</td>\n",
       "      <td>NaN</td>\n",
       "      <td>NaN</td>\n",
       "      <td>...</td>\n",
       "      <td>NaN</td>\n",
       "      <td>NaN</td>\n",
       "      <td>NaN</td>\n",
       "      <td>NaN</td>\n",
       "      <td>NaN</td>\n",
       "      <td>NaN</td>\n",
       "      <td>NaN</td>\n",
       "      <td>NaN</td>\n",
       "      <td>NaN</td>\n",
       "      <td>Tumor</td>\n",
       "    </tr>\n",
       "    <tr>\n",
       "      <th>C3N-01370</th>\n",
       "      <td>NaN</td>\n",
       "      <td>NaN</td>\n",
       "      <td>NaN</td>\n",
       "      <td>NaN</td>\n",
       "      <td>NaN</td>\n",
       "      <td>NaN</td>\n",
       "      <td>NaN</td>\n",
       "      <td>NaN</td>\n",
       "      <td>NaN</td>\n",
       "      <td>NaN</td>\n",
       "      <td>...</td>\n",
       "      <td>NaN</td>\n",
       "      <td>NaN</td>\n",
       "      <td>NaN</td>\n",
       "      <td>NaN</td>\n",
       "      <td>NaN</td>\n",
       "      <td>NaN</td>\n",
       "      <td>NaN</td>\n",
       "      <td>NaN</td>\n",
       "      <td>NaN</td>\n",
       "      <td>Tumor</td>\n",
       "    </tr>\n",
       "    <tr>\n",
       "      <th>C3N-01817</th>\n",
       "      <td>NaN</td>\n",
       "      <td>NaN</td>\n",
       "      <td>NaN</td>\n",
       "      <td>NaN</td>\n",
       "      <td>NaN</td>\n",
       "      <td>NaN</td>\n",
       "      <td>NaN</td>\n",
       "      <td>NaN</td>\n",
       "      <td>NaN</td>\n",
       "      <td>NaN</td>\n",
       "      <td>...</td>\n",
       "      <td>NaN</td>\n",
       "      <td>NaN</td>\n",
       "      <td>NaN</td>\n",
       "      <td>NaN</td>\n",
       "      <td>NaN</td>\n",
       "      <td>NaN</td>\n",
       "      <td>NaN</td>\n",
       "      <td>NaN</td>\n",
       "      <td>NaN</td>\n",
       "      <td>Tumor</td>\n",
       "    </tr>\n",
       "    <tr>\n",
       "      <th>C3N-01850</th>\n",
       "      <td>NaN</td>\n",
       "      <td>NaN</td>\n",
       "      <td>NaN</td>\n",
       "      <td>NaN</td>\n",
       "      <td>NaN</td>\n",
       "      <td>NaN</td>\n",
       "      <td>NaN</td>\n",
       "      <td>NaN</td>\n",
       "      <td>NaN</td>\n",
       "      <td>NaN</td>\n",
       "      <td>...</td>\n",
       "      <td>NaN</td>\n",
       "      <td>NaN</td>\n",
       "      <td>NaN</td>\n",
       "      <td>NaN</td>\n",
       "      <td>NaN</td>\n",
       "      <td>NaN</td>\n",
       "      <td>NaN</td>\n",
       "      <td>NaN</td>\n",
       "      <td>NaN</td>\n",
       "      <td>Tumor</td>\n",
       "    </tr>\n",
       "    <tr>\n",
       "      <th>C3N-03187</th>\n",
       "      <td>NaN</td>\n",
       "      <td>NaN</td>\n",
       "      <td>NaN</td>\n",
       "      <td>NaN</td>\n",
       "      <td>NaN</td>\n",
       "      <td>NaN</td>\n",
       "      <td>NaN</td>\n",
       "      <td>NaN</td>\n",
       "      <td>NaN</td>\n",
       "      <td>NaN</td>\n",
       "      <td>...</td>\n",
       "      <td>NaN</td>\n",
       "      <td>NaN</td>\n",
       "      <td>NaN</td>\n",
       "      <td>NaN</td>\n",
       "      <td>NaN</td>\n",
       "      <td>NaN</td>\n",
       "      <td>NaN</td>\n",
       "      <td>NaN</td>\n",
       "      <td>NaN</td>\n",
       "      <td>Tumor</td>\n",
       "    </tr>\n",
       "  </tbody>\n",
       "</table>\n",
       "<p>115 rows × 101268 columns</p>\n",
       "</div>"
      ],
      "text/plain": [
       "           EGFR_proteomics_  A2M_phosphoproteomics_S273  \\\n",
       "C3L-00104          1.054962                         NaN   \n",
       "C3L-00365          2.219562                         NaN   \n",
       "C3L-00674          0.137329                         NaN   \n",
       "C3L-00677         -0.768478                         NaN   \n",
       "C3L-01040         -1.249435                         NaN   \n",
       "...                     ...                         ...   \n",
       "C3L-03747               NaN                         NaN   \n",
       "C3N-01370               NaN                         NaN   \n",
       "C3N-01817               NaN                         NaN   \n",
       "C3N-01850               NaN                         NaN   \n",
       "C3N-03187               NaN                         NaN   \n",
       "\n",
       "           AAAS_phosphoproteomics_S495  AAAS_phosphoproteomics_S495  \\\n",
       "C3L-00104                     0.053418                          NaN   \n",
       "C3L-00365                    -0.093105                    -0.095450   \n",
       "C3L-00674                    -1.084975                          NaN   \n",
       "C3L-00677                    -0.260149                     0.390607   \n",
       "C3L-01040                    -0.344549                          NaN   \n",
       "...                                ...                          ...   \n",
       "C3L-03747                          NaN                          NaN   \n",
       "C3N-01370                          NaN                          NaN   \n",
       "C3N-01817                          NaN                          NaN   \n",
       "C3N-01850                          NaN                          NaN   \n",
       "C3N-03187                          NaN                          NaN   \n",
       "\n",
       "           AAAS_phosphoproteomics_S525  AAAS_phosphoproteomics_S525S541  \\\n",
       "C3L-00104                     0.118623                              NaN   \n",
       "C3L-00365                     0.069499                              NaN   \n",
       "C3L-00674                          NaN                              NaN   \n",
       "C3L-00677                     0.336969                              NaN   \n",
       "C3L-01040                    -0.082962                              NaN   \n",
       "...                                ...                              ...   \n",
       "C3L-03747                          NaN                              NaN   \n",
       "C3N-01370                          NaN                              NaN   \n",
       "C3N-01817                          NaN                              NaN   \n",
       "C3N-01850                          NaN                              NaN   \n",
       "C3N-03187                          NaN                              NaN   \n",
       "\n",
       "           AAAS_phosphoproteomics_S541  AAED1_phosphoproteomics_S12  \\\n",
       "C3L-00104                          NaN                          NaN   \n",
       "C3L-00365                          NaN                    -1.221096   \n",
       "C3L-00674                     1.368630                          NaN   \n",
       "C3L-00677                     0.411596                          NaN   \n",
       "C3L-01040                          NaN                          NaN   \n",
       "...                                ...                          ...   \n",
       "C3L-03747                          NaN                          NaN   \n",
       "C3N-01370                          NaN                          NaN   \n",
       "C3N-01817                          NaN                          NaN   \n",
       "C3N-01850                          NaN                          NaN   \n",
       "C3N-03187                          NaN                          NaN   \n",
       "\n",
       "           AAGAB_phosphoproteomics_S189  AAGAB_phosphoproteomics_S196S199  \\\n",
       "C3L-00104                           NaN                               NaN   \n",
       "C3L-00365                           NaN                               NaN   \n",
       "C3L-00674                           NaN                               NaN   \n",
       "C3L-00677                      0.812857                          0.118422   \n",
       "C3L-01040                           NaN                               NaN   \n",
       "...                                 ...                               ...   \n",
       "C3L-03747                           NaN                               NaN   \n",
       "C3N-01370                           NaN                               NaN   \n",
       "C3N-01817                           NaN                               NaN   \n",
       "C3N-01850                           NaN                               NaN   \n",
       "C3N-03187                           NaN                               NaN   \n",
       "\n",
       "           ...  ZZZ3_phosphoproteomics_S397  ZZZ3_phosphoproteomics_S397S420  \\\n",
       "C3L-00104  ...                          NaN                              NaN   \n",
       "C3L-00365  ...                          NaN                              NaN   \n",
       "C3L-00674  ...                    -1.037834                              NaN   \n",
       "C3L-00677  ...                          NaN                              NaN   \n",
       "C3L-01040  ...                          NaN                              NaN   \n",
       "...        ...                          ...                              ...   \n",
       "C3L-03747  ...                          NaN                              NaN   \n",
       "C3N-01370  ...                          NaN                              NaN   \n",
       "C3N-01817  ...                          NaN                              NaN   \n",
       "C3N-01850  ...                          NaN                              NaN   \n",
       "C3N-03187  ...                          NaN                              NaN   \n",
       "\n",
       "           ZZZ3_phosphoproteomics_S397S426  ZZZ3_phosphoproteomics_S397Y399  \\\n",
       "C3L-00104                              NaN                              NaN   \n",
       "C3L-00365                              NaN                              NaN   \n",
       "C3L-00674                              NaN                              NaN   \n",
       "C3L-00677                              NaN                              NaN   \n",
       "C3L-01040                              NaN                              NaN   \n",
       "...                                    ...                              ...   \n",
       "C3L-03747                              NaN                              NaN   \n",
       "C3N-01370                              NaN                              NaN   \n",
       "C3N-01817                              NaN                              NaN   \n",
       "C3N-01850                              NaN                              NaN   \n",
       "C3N-03187                              NaN                              NaN   \n",
       "\n",
       "           ZZZ3_phosphoproteomics_S606  ZZZ3_phosphoproteomics_S777  \\\n",
       "C3L-00104                          NaN                          NaN   \n",
       "C3L-00365                          NaN                          NaN   \n",
       "C3L-00674                     0.064722                     0.216607   \n",
       "C3L-00677                          NaN                          NaN   \n",
       "C3L-01040                          NaN                          NaN   \n",
       "...                                ...                          ...   \n",
       "C3L-03747                          NaN                          NaN   \n",
       "C3N-01370                          NaN                          NaN   \n",
       "C3N-01817                          NaN                          NaN   \n",
       "C3N-01850                          NaN                          NaN   \n",
       "C3N-03187                          NaN                          NaN   \n",
       "\n",
       "           ZZZ3_phosphoproteomics_T418  ZZZ3_phosphoproteomics_Y399  \\\n",
       "C3L-00104                          NaN                          NaN   \n",
       "C3L-00365                          NaN                          NaN   \n",
       "C3L-00674                          NaN                          NaN   \n",
       "C3L-00677                          NaN                          NaN   \n",
       "C3L-01040                          NaN                          NaN   \n",
       "...                                ...                          ...   \n",
       "C3L-03747                          NaN                          NaN   \n",
       "C3N-01370                          NaN                          NaN   \n",
       "C3N-01817                          NaN                          NaN   \n",
       "C3N-01850                          NaN                          NaN   \n",
       "C3N-03187                          NaN                          NaN   \n",
       "\n",
       "           ZZZ3_phosphoproteomics_Y399S426  Sample_Tumor_Normal  \n",
       "C3L-00104                              NaN                Tumor  \n",
       "C3L-00365                              NaN                Tumor  \n",
       "C3L-00674                              NaN                Tumor  \n",
       "C3L-00677                              NaN                Tumor  \n",
       "C3L-01040                              NaN                Tumor  \n",
       "...                                    ...                  ...  \n",
       "C3L-03747                              NaN                Tumor  \n",
       "C3N-01370                              NaN                Tumor  \n",
       "C3N-01817                              NaN                Tumor  \n",
       "C3N-01850                              NaN                Tumor  \n",
       "C3N-03187                              NaN                Tumor  \n",
       "\n",
       "[115 rows x 101268 columns]"
      ]
     },
     "execution_count": 4,
     "metadata": {},
     "output_type": "execute_result"
    }
   ],
   "source": [
    "df1 = brain.join_omics_to_omics(df1_name=\"proteomics\",df2_name=\"phosphoproteomics\",\n",
    "genes1 = [\"EGFR\"])\n",
    "df1.columns = df1.columns.droplevel(2)\n",
    "df1.columns = df1.columns.droplevel(2)\n",
    "df1.columns =df1.columns.map('_'.join)\n",
    "df2 = brain.get_clinical()\n",
    "df2 = df2[[\"Sample_Tumor_Normal\"]]\n",
    "df3= pd.concat([df1, df2], axis=1, sort=False)\n",
    "phospho_sites = getphosphosites(df3)\n",
    "df3"
   ]
  },
  {
   "cell_type": "code",
   "execution_count": null,
   "metadata": {},
   "outputs": [],
   "source": [
    "df =(p.wrap_pearson_corr(df3,\"EGFR_proteomics_\",comparison_columns = phospho_sites, return_all = True))\n",
    "df.to_csv(\"csv_files/GBM_EGFR_prot_all_phospho.csv\")\n",
    "df['Cancer Type']='GBM'\n",
    "df.to_csv(\"csv_files/GBM_EGFR_prot_all_phospho2.csv\")\n",
    "df"
   ]
  },
  {
   "cell_type": "markdown",
   "metadata": {},
   "source": [
    "\n",
    "# Kidney "
   ]
  },
  {
   "cell_type": "code",
   "execution_count": null,
   "metadata": {},
   "outputs": [],
   "source": [
    "df1 = kidney.join_omics_to_omics(df1_name=\"proteomics\",df2_name=\"phosphoproteomics\",\n",
    "genes1 = [\"EGFR\"])\n",
    "df1.columns = df1.columns.droplevel(2)\n",
    "df1.columns = df1.columns.droplevel(2)\n",
    "df1.columns =df1.columns.map('_'.join)\n",
    "df2 = kidney.get_clinical()\n",
    "df2 = df2[[\"Sample_Tumor_Normal\"]]\n",
    "df3= pd.concat([df1, df2], axis=1, sort=False)\n",
    "phospho_sites = getphosphosites(df3)\n"
   ]
  },
  {
   "cell_type": "code",
   "execution_count": null,
   "metadata": {},
   "outputs": [],
   "source": [
    "df =(p.wrap_pearson_corr(df3,\"EGFR_proteomics_\",comparison_columns = phospho_sites, return_all = True))\n",
    "\n",
    "df.to_csv(\"csv_files/Kidney_EGFR_prot_all_phospho.csv\")\n",
    "df['Cancer Type']='Kidney'\n",
    "df.to_csv(\"csv_files/Kidney_EGFR_prot_all_phospho2.csv\")"
   ]
  },
  {
   "cell_type": "markdown",
   "metadata": {},
   "source": [
    "# Ovarian "
   ]
  },
  {
   "cell_type": "code",
   "execution_count": null,
   "metadata": {},
   "outputs": [],
   "source": [
    "df1 = Ovar.join_omics_to_omics(df1_name=\"proteomics\",df2_name=\"phosphoproteomics\",\n",
    "genes1 = [\"EGFR\"])\n",
    "df1.columns = df1.columns.droplevel(2)\n",
    "df1.columns = df1.columns.droplevel(2)\n",
    "df1.columns =df1.columns.map('_'.join)\n",
    "df2 = Ovar.get_clinical()\n",
    "df2 = df2[[\"Sample_Tumor_Normal\"]]\n",
    "\n",
    "df3= pd.concat([df1, df2], axis=1, sort=False)\n",
    "phospho_sites = getphosphosites(df3)\n"
   ]
  },
  {
   "cell_type": "code",
   "execution_count": null,
   "metadata": {},
   "outputs": [],
   "source": [
    "df =(p.wrap_pearson_corr(df3,\"EGFR_proteomics_\",comparison_columns = phospho_sites, return_all = True))\n",
    "df.to_csv(\"csv_files/Ovar_EGFR_prot_all_phospho.csv\")\n",
    "df['Cancer Type']='Ovarian'\n",
    "df.to_csv(\"csv_files/Ovar_EGFR_prot_all_phospho2.csv\")\n",
    "df"
   ]
  },
  {
   "cell_type": "markdown",
   "metadata": {},
   "source": [
    "# Colon"
   ]
  },
  {
   "cell_type": "code",
   "execution_count": null,
   "metadata": {},
   "outputs": [],
   "source": [
    "df1 = colon.join_omics_to_omics(df1_name=\"proteomics\",df2_name=\"phosphoproteomics\",\n",
    "genes1 = [\"EGFR\"])\n",
    "df1.columns = df1.columns.droplevel(2)\n",
    "#df1.columns = df1.columns.droplevel(2)\n",
    "df1.columns =df1.columns.map('_'.join)\n",
    "df2 = colon.get_clinical()\n",
    "df2 = df2[[\"Sample_Tumor_Normal\"]]\n",
    "\n",
    "df3= pd.concat([df1, df2], axis=1, sort=False)\n",
    "phospho_sites = getphosphosites(df3)\n"
   ]
  },
  {
   "cell_type": "code",
   "execution_count": null,
   "metadata": {},
   "outputs": [],
   "source": [
    "df =(p.wrap_pearson_corr(df3,\"EGFR_proteomics_\",comparison_columns = phospho_sites, return_all = True))\n",
    "df.to_csv(\"csv_files/Colon_EGFR_prot_all_phospho.csv\")\n",
    "df['Cancer Type']='Colon'\n",
    "df.to_csv(\"csv_files/Colon_EGFR_prot_all_phospho2.csv\")\n",
    "df"
   ]
  },
  {
   "cell_type": "markdown",
   "metadata": {},
   "source": [
    "# Brca "
   ]
  },
  {
   "cell_type": "code",
   "execution_count": null,
   "metadata": {},
   "outputs": [],
   "source": [
    "df1 = brca.join_omics_to_omics(df1_name=\"proteomics\",df2_name=\"phosphoproteomics\",\n",
    "genes1 = [\"EGFR\"])\n",
    "df1.columns = df1.columns.droplevel(2)\n",
    "df1.columns = df1.columns.droplevel(2)\n",
    "df1.columns =df1.columns.map('_'.join)\n",
    "df2 = brca.get_clinical()\n",
    "df2 = df2[[\"Sample_Tumor_Normal\"]]\n",
    "\n",
    "df3= pd.concat([df1, df2], axis=1, sort=False)\n",
    "phospho_sites = getphosphosites(df3)"
   ]
  },
  {
   "cell_type": "code",
   "execution_count": null,
   "metadata": {},
   "outputs": [],
   "source": [
    "df =(p.wrap_pearson_corr(df3,\"EGFR_proteomics_\",comparison_columns = phospho_sites, return_all = True))\n",
    "df.to_csv(\"csv_files/Brca_EGFR_prot_all_phospho.csv\")\n",
    "df['Cancer Type']='Brca'\n",
    "df.to_csv(\"csv_files/Brca_EGFR_prot_all_phospho2.csv\")\n"
   ]
  },
  {
   "cell_type": "markdown",
   "metadata": {},
   "source": [
    "# LUAD"
   ]
  },
  {
   "cell_type": "code",
   "execution_count": null,
   "metadata": {},
   "outputs": [],
   "source": [
    "df1 = luad.join_omics_to_omics(df1_name=\"proteomics\",df2_name=\"phosphoproteomics\",\n",
    "genes1 = [\"EGFR\"])\n",
    "df1.columns = df1.columns.droplevel(2)\n",
    "df1.columns = df1.columns.droplevel(2)\n",
    "df1.columns =df1.columns.map('_'.join)\n",
    "df2 = luad.get_clinical()\n",
    "df2 = df2[[\"Sample_Tumor_Normal\"]]\n",
    "\n",
    "df3= pd.concat([df1, df2], axis=1, sort=False)\n",
    "phospho_sites = getphosphosites(df3)\n"
   ]
  },
  {
   "cell_type": "code",
   "execution_count": null,
   "metadata": {},
   "outputs": [],
   "source": [
    "df =(p.wrap_pearson_corr(df3,\"EGFR_proteomics_\",comparison_columns = phospho_sites, return_all = True))\n",
    "\n",
    "df.to_csv(\"csv_files/luad_EGFR_prot_all_phospho.csv\")\n",
    "df['Cancer Type']='Luad'\n",
    "df.to_csv(\"csv_files/luad_EGFR_prot_all_phospho2.csv\")"
   ]
  },
  {
   "cell_type": "markdown",
   "metadata": {},
   "source": [
    "# HNSCC"
   ]
  },
  {
   "cell_type": "code",
   "execution_count": null,
   "metadata": {},
   "outputs": [],
   "source": [
    "df1 = Hnscc.join_omics_to_omics(df1_name=\"proteomics\",df2_name=\"phosphoproteomics\",\n",
    "genes1 = [\"EGFR\"])\n",
    "df1.columns = df1.columns.droplevel(2)\n",
    "df1.columns = df1.columns.droplevel(2)\n",
    "df1.columns =df1.columns.map('_'.join)\n",
    "df2 = Hnscc.get_clinical()\n",
    "df2 = df2[[\"Sample_Tumor_Normal\"]]\n",
    "\n",
    "df3= pd.concat([df1, df2], axis=1, sort=False)\n",
    "df3 = df3.loc[df3['Sample_Tumor_Normal'] == \"Tumor\"]\n",
    "phospho_sites = getphosphosites(df3)\n"
   ]
  },
  {
   "cell_type": "code",
   "execution_count": null,
   "metadata": {},
   "outputs": [],
   "source": [
    "df =(p.wrap_pearson_corr(df3,\"EGFR_proteomics_\",comparison_columns = phospho_sites, return_all = True))\n",
    "df.to_csv(\"csv_files/Hnscc_EGFR_all_phospho.csv\")\n",
    "df['Cancer Type']='Hnscc'\n",
    "df.to_csv(\"csv_files/Hnscc_EGFR_all_phospho2.csv\")"
   ]
  },
  {
   "cell_type": "markdown",
   "metadata": {},
   "source": [
    "# Lscc"
   ]
  },
  {
   "cell_type": "code",
   "execution_count": null,
   "metadata": {},
   "outputs": [],
   "source": [
    "df1 = Lscc.join_omics_to_omics(df1_name=\"proteomics\",df2_name=\"phosphoproteomics\",\n",
    "genes1 = [\"EGFR\"])\n",
    "df1.columns = df1.columns.droplevel(2)\n",
    "df1.columns = df1.columns.droplevel(2)\n",
    "df1.columns =df1.columns.map('_'.join)\n",
    "df2 = Lscc.get_clinical()\n",
    "df2 = df2[[\"Sample_Tumor_Normal\"]]\n",
    "\n",
    "df3= pd.concat([df1, df2], axis=1, sort=False)\n",
    "phospho_sites = getphosphosites(df3)\n"
   ]
  },
  {
   "cell_type": "code",
   "execution_count": null,
   "metadata": {},
   "outputs": [],
   "source": [
    "df =(p.wrap_pearson_corr(df3,\"EGFR_proteomics_\",comparison_columns = phospho_sites, return_all = True))\n",
    "\n",
    "df.to_csv(\"csv_files/Lscc_EGFR_prot_all_phospho.csv\")\n",
    "df['Cancer Type']='Lscc'\n",
    "df.to_csv(\"csv_files/Lscc_EGFR_prot_all_phospho2.csv\")\n",
    "df"
   ]
  },
  {
   "cell_type": "code",
   "execution_count": null,
   "metadata": {},
   "outputs": [],
   "source": [
    "\n"
   ]
  }
 ],
 "metadata": {
  "kernelspec": {
   "display_name": "Python 3",
   "language": "python",
   "name": "python3"
  },
  "language_info": {
   "codemirror_mode": {
    "name": "ipython",
    "version": 3
   },
   "file_extension": ".py",
   "mimetype": "text/x-python",
   "name": "python",
   "nbconvert_exporter": "python",
   "pygments_lexer": "ipython3",
   "version": "3.7.3"
  }
 },
 "nbformat": 4,
 "nbformat_minor": 2
}
