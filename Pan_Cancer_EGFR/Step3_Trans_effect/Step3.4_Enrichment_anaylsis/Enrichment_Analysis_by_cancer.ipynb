{
 "cells": [
  {
   "cell_type": "markdown",
   "metadata": {},
   "source": [
    "# GSEA by cancer "
   ]
  },
  {
   "cell_type": "markdown",
   "metadata": {},
   "source": [
    "This notebook takes the FDR significant proteomic trans effects for each cancer type and runs a GSEA using Reactome 2016. The result is a data frame with the top pathways that have many significant trans effects. (Main gene is EGFR)"
   ]
  },
  {
   "cell_type": "code",
   "execution_count": 3,
   "metadata": {},
   "outputs": [
    {
     "name": "stderr",
     "output_type": "stream",
     "text": [
      "/Users/Lindsey/anaconda3/lib/python3.7/site-packages/statsmodels/tools/_testing.py:19: FutureWarning: pandas.util.testing is deprecated. Use the functions in the public API at pandas.testing instead.\n",
      "  import pandas.util.testing as tm\n"
     ]
    }
   ],
   "source": [
    "\n",
    "import pandas as pd\n",
    "import numpy as np\n",
    "import re \n",
    "import matplotlib.pyplot as plt\n",
    "from scipy import stats\n",
    "import gseapy as gp\n",
    "from gseapy.plot import barplot, dotplot\n",
    "import cptac\n",
    "import plot_utils as p"
   ]
  },
  {
   "cell_type": "code",
   "execution_count": 4,
   "metadata": {},
   "outputs": [],
   "source": [
    "df_FDR_append = pd.read_csv(\"../Step3.2_combining_pearson_dfs/csv_files/pancan_EGFR_pearson_sig_all_prot_append_FDR.csv\")\n",
    "df_FDR_append = df_FDR_append.drop(['Unnamed: 0'], axis=1)\n"
   ]
  },
  {
   "cell_type": "code",
   "execution_count": 5,
   "metadata": {},
   "outputs": [],
   "source": [
    "def create_prot_list(df):\n",
    "    df = df.loc[:,~df.columns.duplicated()]\n",
    "    prot_genes_list = df.columns.values.tolist()\n",
    "    prot_genes_list.remove('EGFR_Mutation')\n",
    "    prot_genes_list.remove('EGFR_Location')\n",
    "    prot_genes_list.remove('EGFR_Mutation_Status')\n",
    "    prot_genes_list.remove('Sample_Status')\n",
    "    return prot_genes_list"
   ]
  },
  {
   "cell_type": "code",
   "execution_count": 48,
   "metadata": {},
   "outputs": [
    {
     "name": "stdout",
     "output_type": "stream",
     "text": [
      "                                        \r"
     ]
    },
    {
     "name": "stderr",
     "output_type": "stream",
     "text": [
      "cptac warning: The GBM dataset is under publication embargo until March 01, 2021. CPTAC is a community resource project and data are made available rapidly after generation for community research use. The embargo allows exploring and utilizing the data, but analysis may not be published until after the embargo date. Please see https://proteomics.cancer.gov/data-portal/about/data-use-agreement or enter cptac.embargo() to open the webpage for more details. (/Users/Lindsey/anaconda3/lib/python3.7/site-packages/ipykernel_launcher.py, line 2)\n"
     ]
    },
    {
     "name": "stdout",
     "output_type": "stream",
     "text": [
      "                                            \r"
     ]
    },
    {
     "name": "stderr",
     "output_type": "stream",
     "text": [
      "cptac warning: The LUAD dataset is under publication embargo until July 01, 2020. CPTAC is a community resource project and data are made available rapidly after generation for community research use. The embargo allows exploring and utilizing the data, but analysis may not be published until after the embargo date. Please see https://proteomics.cancer.gov/data-portal/about/data-use-agreement or enter cptac.embargo() to open the webpage for more details. (/Users/Lindsey/anaconda3/lib/python3.7/site-packages/ipykernel_launcher.py, line 7)\n"
     ]
    },
    {
     "name": "stdout",
     "output_type": "stream",
     "text": [
      "                                          \r"
     ]
    },
    {
     "name": "stderr",
     "output_type": "stream",
     "text": [
      "cptac warning: The HNSCC data is currently strictly reserved for CPTAC investigators. Otherwise, you are not authorized to access these data. Additionally, even after these data become publicly available, they will be subject to a publication embargo (see https://proteomics.cancer.gov/data-portal/about/data-use-agreement or enter cptac.embargo() to open the webpage for more details). (/Users/Lindsey/anaconda3/lib/python3.7/site-packages/ipykernel_launcher.py, line 8)\n"
     ]
    },
    {
     "name": "stdout",
     "output_type": "stream",
     "text": [
      "                                         \r"
     ]
    },
    {
     "name": "stderr",
     "output_type": "stream",
     "text": [
      "cptac warning: The LSCC data is currently strictly reserved for CPTAC investigators. Otherwise, you are not authorized to access these data. Additionally, even after these data become publicly available, they will be subject to a publication embargo (see https://proteomics.cancer.gov/data-portal/about/data-use-agreement or enter cptac.embargo() to open the webpage for more details). (/Users/Lindsey/anaconda3/lib/python3.7/site-packages/ipykernel_launcher.py, line 9)\n"
     ]
    }
   ],
   "source": [
    "#load cptac data \n",
    "brain = cptac.Gbm()\n",
    "kidney = cptac.Ccrcc()\n",
    "Ovar = cptac.Ovarian()\n",
    "colon = cptac.Colon()\n",
    "brca = cptac.Brca()\n",
    "luad = cptac.Luad()\n",
    "Hnscc = cptac.Hnscc()\n",
    "Lscc = cptac.Lscc()"
   ]
  },
  {
   "cell_type": "markdown",
   "metadata": {},
   "source": [
    "# Enrichment Analysis"
   ]
  },
  {
   "cell_type": "markdown",
   "metadata": {},
   "source": [
    "# Brca"
   ]
  },
  {
   "cell_type": "code",
   "execution_count": 49,
   "metadata": {},
   "outputs": [
    {
     "name": "stderr",
     "output_type": "stream",
     "text": [
      "cptac warning: In joining the somatic_mutation table, no mutations were found for the following samples, so they were filled with Wildtype_Tumor or Wildtype_Normal: 118 samples for the EGFR gene (/Users/Lindsey/anaconda3/lib/python3.7/site-packages/ipykernel_launcher.py, line 1)\n"
     ]
    }
   ],
   "source": [
    "df1 = brca.join_omics_to_mutations(omics_df_name=\"proteomics\", mutations_genes=\"EGFR\")\n",
    "df1_tumor = df1.loc[df1['Sample_Status'] == \"Tumor\"]\n",
    "\n",
    "df1_tumor.columns = df1_tumor.columns.droplevel(1)\n",
    "prot_genes_list = create_prot_list(df1_tumor)\n"
   ]
  },
  {
   "cell_type": "code",
   "execution_count": 50,
   "metadata": {},
   "outputs": [],
   "source": [
    "#Run wrap pearson corr function\n",
    "df2= p.wrap_pearson_corr(df1_tumor,\"EGFR_proteomics\",comparison_columns= prot_genes_list,correction_method='fdr_bh', return_all = False)\n",
    "df2 = df2.set_index('Comparison')\n",
    "df1_transposed = df2.T "
   ]
  },
  {
   "cell_type": "code",
   "execution_count": 53,
   "metadata": {},
   "outputs": [
    {
     "data": {
      "text/plain": [
       "2669"
      ]
     },
     "execution_count": 53,
     "metadata": {},
     "output_type": "execute_result"
    }
   ],
   "source": [
    "\n",
    "\n",
    "brca = df1_transposed.columns.values.tolist()\n",
    "brca_genes = []\n",
    "for gene in brca :\n",
    "    brca_genes.append((re.sub(\"_proteomics\", \"\", gene)))\n",
    "len(brca_genes)"
   ]
  },
  {
   "cell_type": "code",
   "execution_count": 64,
   "metadata": {},
   "outputs": [
    {
     "data": {
      "text/html": [
       "<div>\n",
       "<style scoped>\n",
       "    .dataframe tbody tr th:only-of-type {\n",
       "        vertical-align: middle;\n",
       "    }\n",
       "\n",
       "    .dataframe tbody tr th {\n",
       "        vertical-align: top;\n",
       "    }\n",
       "\n",
       "    .dataframe thead th {\n",
       "        text-align: right;\n",
       "    }\n",
       "</style>\n",
       "<table border=\"1\" class=\"dataframe\">\n",
       "  <thead>\n",
       "    <tr style=\"text-align: right;\">\n",
       "      <th></th>\n",
       "      <th>Gene_set</th>\n",
       "      <th>Term</th>\n",
       "      <th>Overlap</th>\n",
       "      <th>P-value</th>\n",
       "      <th>Adjusted P-value</th>\n",
       "      <th>Old P-value</th>\n",
       "      <th>Old Adjusted P-value</th>\n",
       "      <th>Odds Ratio</th>\n",
       "      <th>Combined Score</th>\n",
       "      <th>Genes</th>\n",
       "    </tr>\n",
       "  </thead>\n",
       "  <tbody>\n",
       "    <tr>\n",
       "      <th>0</th>\n",
       "      <td>Reactome_2016</td>\n",
       "      <td>Metabolism Homo sapiens R-HSA-1430728</td>\n",
       "      <td>390/1908</td>\n",
       "      <td>8.129875e-20</td>\n",
       "      <td>1.243871e-16</td>\n",
       "      <td>0</td>\n",
       "      <td>0</td>\n",
       "      <td>1.531679</td>\n",
       "      <td>67.326706</td>\n",
       "      <td>RPL4;CDA;RPL5;RPL3;ENO1;RPL8;RPL9;GLS;RPL7;IL4...</td>\n",
       "    </tr>\n",
       "    <tr>\n",
       "      <th>1</th>\n",
       "      <td>Reactome_2016</td>\n",
       "      <td>Extracellular matrix organization Homo sapiens...</td>\n",
       "      <td>89/283</td>\n",
       "      <td>1.750819e-15</td>\n",
       "      <td>1.339377e-12</td>\n",
       "      <td>0</td>\n",
       "      <td>0</td>\n",
       "      <td>2.356595</td>\n",
       "      <td>80.074025</td>\n",
       "      <td>ITGB1;COLGALT2;SPARC;ITGAM;ITGB4;ELN;ITGB3;SER...</td>\n",
       "    </tr>\n",
       "    <tr>\n",
       "      <th>2</th>\n",
       "      <td>Reactome_2016</td>\n",
       "      <td>Signaling by Rho GTPases Homo sapiens R-HSA-19...</td>\n",
       "      <td>105/367</td>\n",
       "      <td>6.940927e-15</td>\n",
       "      <td>3.539873e-12</td>\n",
       "      <td>0</td>\n",
       "      <td>0</td>\n",
       "      <td>2.143901</td>\n",
       "      <td>69.894036</td>\n",
       "      <td>RTKN;NCF1;WIPF1;NCF2;WIPF2;WIPF3;NCF4;ACTB;ARH...</td>\n",
       "    </tr>\n",
       "    <tr>\n",
       "      <th>3</th>\n",
       "      <td>Reactome_2016</td>\n",
       "      <td>Nonsense-Mediated Decay (NMD) Homo sapiens R-H...</td>\n",
       "      <td>45/106</td>\n",
       "      <td>1.350158e-13</td>\n",
       "      <td>5.164353e-11</td>\n",
       "      <td>0</td>\n",
       "      <td>0</td>\n",
       "      <td>3.181179</td>\n",
       "      <td>94.269093</td>\n",
       "      <td>RPL4;RPL5;RPL3;RPL10;PPP2R2A;SMG9;CASC3;RPL8;R...</td>\n",
       "    </tr>\n",
       "    <tr>\n",
       "      <th>4</th>\n",
       "      <td>Reactome_2016</td>\n",
       "      <td>Nonsense Mediated Decay (NMD) enhanced by the ...</td>\n",
       "      <td>45/106</td>\n",
       "      <td>1.350158e-13</td>\n",
       "      <td>4.131483e-11</td>\n",
       "      <td>0</td>\n",
       "      <td>0</td>\n",
       "      <td>3.181179</td>\n",
       "      <td>94.269093</td>\n",
       "      <td>RPL4;RPL5;RPL3;RPL10;PPP2R2A;SMG9;CASC3;RPL8;R...</td>\n",
       "    </tr>\n",
       "    <tr>\n",
       "      <th>5</th>\n",
       "      <td>Reactome_2016</td>\n",
       "      <td>SRP-dependent cotranslational protein targetin...</td>\n",
       "      <td>45/107</td>\n",
       "      <td>2.031066e-13</td>\n",
       "      <td>5.179218e-11</td>\n",
       "      <td>0</td>\n",
       "      <td>0</td>\n",
       "      <td>3.151448</td>\n",
       "      <td>92.101214</td>\n",
       "      <td>RPL4;RPL5;RPL3;RPN2;RPL10;RPN1;SRP54;SRP14;RPL...</td>\n",
       "    </tr>\n",
       "    <tr>\n",
       "      <th>6</th>\n",
       "      <td>Reactome_2016</td>\n",
       "      <td>Hemostasis Homo sapiens R-HSA-109582</td>\n",
       "      <td>136/552</td>\n",
       "      <td>3.162701e-13</td>\n",
       "      <td>6.912761e-11</td>\n",
       "      <td>0</td>\n",
       "      <td>0</td>\n",
       "      <td>1.846211</td>\n",
       "      <td>53.137967</td>\n",
       "      <td>APP;GUCY1B3;SPARC;SERPINE2;PROS1;SERPINE1;ITGA...</td>\n",
       "    </tr>\n",
       "    <tr>\n",
       "      <th>7</th>\n",
       "      <td>Reactome_2016</td>\n",
       "      <td>Translation Homo sapiens R-HSA-72766</td>\n",
       "      <td>55/151</td>\n",
       "      <td>5.948716e-13</td>\n",
       "      <td>1.137692e-10</td>\n",
       "      <td>0</td>\n",
       "      <td>0</td>\n",
       "      <td>2.729400</td>\n",
       "      <td>76.833782</td>\n",
       "      <td>N6AMT1;RPL4;RPL5;RPL3;SRP54;SRP14;RPL8;RPL10A;...</td>\n",
       "    </tr>\n",
       "    <tr>\n",
       "      <th>8</th>\n",
       "      <td>Reactome_2016</td>\n",
       "      <td>Eukaryotic Translation Elongation Homo sapiens...</td>\n",
       "      <td>39/89</td>\n",
       "      <td>1.682164e-12</td>\n",
       "      <td>2.859678e-10</td>\n",
       "      <td>0</td>\n",
       "      <td>0</td>\n",
       "      <td>3.283644</td>\n",
       "      <td>89.022667</td>\n",
       "      <td>RPL4;RPL5;RPL3;RPL10;RPL10A;RPL8;RPL9;RPL7;EEF...</td>\n",
       "    </tr>\n",
       "    <tr>\n",
       "      <th>9</th>\n",
       "      <td>Reactome_2016</td>\n",
       "      <td>RHO GTPase Effectors Homo sapiens R-HSA-195258</td>\n",
       "      <td>76/255</td>\n",
       "      <td>4.114883e-12</td>\n",
       "      <td>6.295770e-10</td>\n",
       "      <td>0</td>\n",
       "      <td>0</td>\n",
       "      <td>2.233340</td>\n",
       "      <td>58.550157</td>\n",
       "      <td>ITGB1;RTKN;NCF1;WIPF1;NCF2;WIPF2;ARPC1B;WIPF3;...</td>\n",
       "    </tr>\n",
       "  </tbody>\n",
       "</table>\n",
       "</div>"
      ],
      "text/plain": [
       "        Gene_set                                               Term   Overlap  \\\n",
       "0  Reactome_2016              Metabolism Homo sapiens R-HSA-1430728  390/1908   \n",
       "1  Reactome_2016  Extracellular matrix organization Homo sapiens...    89/283   \n",
       "2  Reactome_2016  Signaling by Rho GTPases Homo sapiens R-HSA-19...   105/367   \n",
       "3  Reactome_2016  Nonsense-Mediated Decay (NMD) Homo sapiens R-H...    45/106   \n",
       "4  Reactome_2016  Nonsense Mediated Decay (NMD) enhanced by the ...    45/106   \n",
       "5  Reactome_2016  SRP-dependent cotranslational protein targetin...    45/107   \n",
       "6  Reactome_2016               Hemostasis Homo sapiens R-HSA-109582   136/552   \n",
       "7  Reactome_2016               Translation Homo sapiens R-HSA-72766    55/151   \n",
       "8  Reactome_2016  Eukaryotic Translation Elongation Homo sapiens...     39/89   \n",
       "9  Reactome_2016     RHO GTPase Effectors Homo sapiens R-HSA-195258    76/255   \n",
       "\n",
       "        P-value  Adjusted P-value  Old P-value  Old Adjusted P-value  \\\n",
       "0  8.129875e-20      1.243871e-16            0                     0   \n",
       "1  1.750819e-15      1.339377e-12            0                     0   \n",
       "2  6.940927e-15      3.539873e-12            0                     0   \n",
       "3  1.350158e-13      5.164353e-11            0                     0   \n",
       "4  1.350158e-13      4.131483e-11            0                     0   \n",
       "5  2.031066e-13      5.179218e-11            0                     0   \n",
       "6  3.162701e-13      6.912761e-11            0                     0   \n",
       "7  5.948716e-13      1.137692e-10            0                     0   \n",
       "8  1.682164e-12      2.859678e-10            0                     0   \n",
       "9  4.114883e-12      6.295770e-10            0                     0   \n",
       "\n",
       "   Odds Ratio  Combined Score  \\\n",
       "0    1.531679       67.326706   \n",
       "1    2.356595       80.074025   \n",
       "2    2.143901       69.894036   \n",
       "3    3.181179       94.269093   \n",
       "4    3.181179       94.269093   \n",
       "5    3.151448       92.101214   \n",
       "6    1.846211       53.137967   \n",
       "7    2.729400       76.833782   \n",
       "8    3.283644       89.022667   \n",
       "9    2.233340       58.550157   \n",
       "\n",
       "                                               Genes  \n",
       "0  RPL4;CDA;RPL5;RPL3;ENO1;RPL8;RPL9;GLS;RPL7;IL4...  \n",
       "1  ITGB1;COLGALT2;SPARC;ITGAM;ITGB4;ELN;ITGB3;SER...  \n",
       "2  RTKN;NCF1;WIPF1;NCF2;WIPF2;WIPF3;NCF4;ACTB;ARH...  \n",
       "3  RPL4;RPL5;RPL3;RPL10;PPP2R2A;SMG9;CASC3;RPL8;R...  \n",
       "4  RPL4;RPL5;RPL3;RPL10;PPP2R2A;SMG9;CASC3;RPL8;R...  \n",
       "5  RPL4;RPL5;RPL3;RPN2;RPL10;RPN1;SRP54;SRP14;RPL...  \n",
       "6  APP;GUCY1B3;SPARC;SERPINE2;PROS1;SERPINE1;ITGA...  \n",
       "7  N6AMT1;RPL4;RPL5;RPL3;SRP54;SRP14;RPL8;RPL10A;...  \n",
       "8  RPL4;RPL5;RPL3;RPL10;RPL10A;RPL8;RPL9;RPL7;EEF...  \n",
       "9  ITGB1;RTKN;NCF1;WIPF1;NCF2;WIPF2;ARPC1B;WIPF3;...  "
      ]
     },
     "execution_count": 64,
     "metadata": {},
     "output_type": "execute_result"
    }
   ],
   "source": [
    "brca_enr = gp.enrichr(gene_list = brca_genes, description='Tumor_partition', gene_sets='Reactome_2016', \n",
    "                       outdir='test/enrichr_kegg')\n",
    "brca_enr.res2d.head(10)"
   ]
  },
  {
   "cell_type": "code",
   "execution_count": 71,
   "metadata": {},
   "outputs": [
    {
     "data": {
      "text/plain": [
       "'Signaling by Rho GTPases Homo sapiens R-HSA-194315'"
      ]
     },
     "execution_count": 71,
     "metadata": {},
     "output_type": "execute_result"
    }
   ],
   "source": [
    "brca_df = brca_enr.res2d\n",
    "brca_df.iloc[2,1]"
   ]
  },
  {
   "cell_type": "markdown",
   "metadata": {},
   "source": [
    "# GBM"
   ]
  },
  {
   "cell_type": "code",
   "execution_count": 58,
   "metadata": {},
   "outputs": [
    {
     "name": "stderr",
     "output_type": "stream",
     "text": [
      "cptac warning: In joining the somatic_mutation table, no mutations were found for the following samples, so they were filled with Wildtype_Tumor or Wildtype_Normal: 93 samples for the EGFR gene (/Users/Lindsey/anaconda3/lib/python3.7/site-packages/ipykernel_launcher.py, line 1)\n"
     ]
    }
   ],
   "source": [
    "df1 = brain.join_omics_to_mutations(omics_df_name=\"proteomics\", mutations_genes=\"EGFR\")\n",
    "df1_tumor = df1.loc[df1['Sample_Status'] == \"Tumor\"]\n",
    "\n",
    "prot_genes_list = create_prot_list(df1_tumor)\n",
    "\n"
   ]
  },
  {
   "cell_type": "code",
   "execution_count": 59,
   "metadata": {},
   "outputs": [],
   "source": [
    "#Run wrap pearson corr function\n",
    "df2= p.wrap_pearson_corr(df1_tumor,\"EGFR_proteomics\",comparison_columns= prot_genes_list,correction_method='fdr_bh', return_all = False)\n",
    "df2 = df2.set_index('Comparison')\n",
    "df1_transposed = df2.T "
   ]
  },
  {
   "cell_type": "code",
   "execution_count": 60,
   "metadata": {},
   "outputs": [
    {
     "data": {
      "text/plain": [
       "1590"
      ]
     },
     "execution_count": 60,
     "metadata": {},
     "output_type": "execute_result"
    }
   ],
   "source": [
    "\n",
    "\n",
    "gbm_prot = df1_transposed.columns.values.tolist()\n",
    "gbm_genes = []\n",
    "for gene in gbm_prot:\n",
    "    gbm_genes.append((re.sub(\"_proteomics\", \"\", gene)))\n",
    "len(gbm_genes)"
   ]
  },
  {
   "cell_type": "code",
   "execution_count": 62,
   "metadata": {},
   "outputs": [
    {
     "data": {
      "text/html": [
       "<div>\n",
       "<style scoped>\n",
       "    .dataframe tbody tr th:only-of-type {\n",
       "        vertical-align: middle;\n",
       "    }\n",
       "\n",
       "    .dataframe tbody tr th {\n",
       "        vertical-align: top;\n",
       "    }\n",
       "\n",
       "    .dataframe thead th {\n",
       "        text-align: right;\n",
       "    }\n",
       "</style>\n",
       "<table border=\"1\" class=\"dataframe\">\n",
       "  <thead>\n",
       "    <tr style=\"text-align: right;\">\n",
       "      <th></th>\n",
       "      <th>Gene_set</th>\n",
       "      <th>Term</th>\n",
       "      <th>Overlap</th>\n",
       "      <th>P-value</th>\n",
       "      <th>Adjusted P-value</th>\n",
       "      <th>Old P-value</th>\n",
       "      <th>Old Adjusted P-value</th>\n",
       "      <th>Odds Ratio</th>\n",
       "      <th>Combined Score</th>\n",
       "      <th>Genes</th>\n",
       "    </tr>\n",
       "  </thead>\n",
       "  <tbody>\n",
       "    <tr>\n",
       "      <th>0</th>\n",
       "      <td>Reactome_2016</td>\n",
       "      <td>Hemostasis Homo sapiens R-HSA-109582</td>\n",
       "      <td>119/552</td>\n",
       "      <td>2.723097e-24</td>\n",
       "      <td>4.166339e-21</td>\n",
       "      <td>0</td>\n",
       "      <td>0</td>\n",
       "      <td>2.711694</td>\n",
       "      <td>147.137280</td>\n",
       "      <td>DGKG;CD84;DGKB;DGKA;PROS1;SERPINE1;F13A1;DOCK1...</td>\n",
       "    </tr>\n",
       "    <tr>\n",
       "      <th>1</th>\n",
       "      <td>Reactome_2016</td>\n",
       "      <td>Innate Immune System Homo sapiens R-HSA-168249</td>\n",
       "      <td>150/807</td>\n",
       "      <td>2.075765e-23</td>\n",
       "      <td>1.587961e-20</td>\n",
       "      <td>0</td>\n",
       "      <td>0</td>\n",
       "      <td>2.338033</td>\n",
       "      <td>122.113411</td>\n",
       "      <td>NCKAP1;AHCYL1;WIPF1;PROS1;WIPF3;ICAM2;PYCARD;C...</td>\n",
       "    </tr>\n",
       "    <tr>\n",
       "      <th>2</th>\n",
       "      <td>Reactome_2016</td>\n",
       "      <td>Platelet activation, signaling and aggregation...</td>\n",
       "      <td>71/253</td>\n",
       "      <td>1.147419e-21</td>\n",
       "      <td>5.851835e-19</td>\n",
       "      <td>0</td>\n",
       "      <td>0</td>\n",
       "      <td>3.529967</td>\n",
       "      <td>170.203636</td>\n",
       "      <td>DGKG;SERPINA3;ECM1;SERPINA1;DAGLA;DGKB;DGKA;PR...</td>\n",
       "    </tr>\n",
       "    <tr>\n",
       "      <th>3</th>\n",
       "      <td>Reactome_2016</td>\n",
       "      <td>Extracellular matrix organization Homo sapiens...</td>\n",
       "      <td>75/283</td>\n",
       "      <td>3.506128e-21</td>\n",
       "      <td>1.341094e-18</td>\n",
       "      <td>0</td>\n",
       "      <td>0</td>\n",
       "      <td>3.333556</td>\n",
       "      <td>157.009717</td>\n",
       "      <td>DDR1;ITGB1;COL18A1;PTPRS;ITGAM;ITGB5;COL14A1;N...</td>\n",
       "    </tr>\n",
       "    <tr>\n",
       "      <th>4</th>\n",
       "      <td>Reactome_2016</td>\n",
       "      <td>Immune System Homo sapiens R-HSA-168256</td>\n",
       "      <td>225/1547</td>\n",
       "      <td>5.082266e-20</td>\n",
       "      <td>1.555173e-17</td>\n",
       "      <td>0</td>\n",
       "      <td>0</td>\n",
       "      <td>1.829469</td>\n",
       "      <td>81.275892</td>\n",
       "      <td>NCKAP1;CNTFR;AHCYL1;WIPF1;WIPF3;ICAM2;IFI30;C4...</td>\n",
       "    </tr>\n",
       "    <tr>\n",
       "      <th>5</th>\n",
       "      <td>Reactome_2016</td>\n",
       "      <td>Platelet degranulation Homo sapiens R-HSA-114608</td>\n",
       "      <td>39/105</td>\n",
       "      <td>4.539162e-17</td>\n",
       "      <td>1.157486e-14</td>\n",
       "      <td>0</td>\n",
       "      <td>0</td>\n",
       "      <td>4.672058</td>\n",
       "      <td>175.815150</td>\n",
       "      <td>CFD;SERPINA3;ITIH4;ECM1;SERPINA1;PROS1;ITGB3;S...</td>\n",
       "    </tr>\n",
       "    <tr>\n",
       "      <th>6</th>\n",
       "      <td>Reactome_2016</td>\n",
       "      <td>Response to elevated platelet cytosolic Ca2+ H...</td>\n",
       "      <td>39/110</td>\n",
       "      <td>2.878713e-16</td>\n",
       "      <td>6.292044e-14</td>\n",
       "      <td>0</td>\n",
       "      <td>0</td>\n",
       "      <td>4.459691</td>\n",
       "      <td>159.585673</td>\n",
       "      <td>CFD;SERPINA3;ITIH4;ECM1;SERPINA1;PROS1;ITGB3;S...</td>\n",
       "    </tr>\n",
       "    <tr>\n",
       "      <th>7</th>\n",
       "      <td>Reactome_2016</td>\n",
       "      <td>Formation of Fibrin Clot (Clotting Cascade) Ho...</td>\n",
       "      <td>21/39</td>\n",
       "      <td>1.098807e-13</td>\n",
       "      <td>2.101468e-11</td>\n",
       "      <td>0</td>\n",
       "      <td>0</td>\n",
       "      <td>6.773101</td>\n",
       "      <td>202.105148</td>\n",
       "      <td>FGB;FGA;F10;SERPIND1;SERPINC1;PROS1;FGG;F11;F1...</td>\n",
       "    </tr>\n",
       "    <tr>\n",
       "      <th>8</th>\n",
       "      <td>Reactome_2016</td>\n",
       "      <td>Signaling by Rho GTPases Homo sapiens R-HSA-19...</td>\n",
       "      <td>70/367</td>\n",
       "      <td>4.701829e-12</td>\n",
       "      <td>7.993110e-10</td>\n",
       "      <td>0</td>\n",
       "      <td>0</td>\n",
       "      <td>2.399191</td>\n",
       "      <td>62.578269</td>\n",
       "      <td>ARHGAP9;YWHAE;ITGB1;NCKAP1;WIPF1;NCF2;YWHAB;AR...</td>\n",
       "    </tr>\n",
       "    <tr>\n",
       "      <th>9</th>\n",
       "      <td>Reactome_2016</td>\n",
       "      <td>Fcgamma receptor (FCGR) dependent phagocytosis...</td>\n",
       "      <td>35/120</td>\n",
       "      <td>6.598641e-12</td>\n",
       "      <td>1.009592e-09</td>\n",
       "      <td>0</td>\n",
       "      <td>0</td>\n",
       "      <td>3.668763</td>\n",
       "      <td>94.449214</td>\n",
       "      <td>NCKAP1;AHCYL1;WIPF1;ARPC1B;WIPF3;WAS;ITPR3;PLD...</td>\n",
       "    </tr>\n",
       "  </tbody>\n",
       "</table>\n",
       "</div>"
      ],
      "text/plain": [
       "        Gene_set                                               Term   Overlap  \\\n",
       "0  Reactome_2016               Hemostasis Homo sapiens R-HSA-109582   119/552   \n",
       "1  Reactome_2016     Innate Immune System Homo sapiens R-HSA-168249   150/807   \n",
       "2  Reactome_2016  Platelet activation, signaling and aggregation...    71/253   \n",
       "3  Reactome_2016  Extracellular matrix organization Homo sapiens...    75/283   \n",
       "4  Reactome_2016            Immune System Homo sapiens R-HSA-168256  225/1547   \n",
       "5  Reactome_2016   Platelet degranulation Homo sapiens R-HSA-114608    39/105   \n",
       "6  Reactome_2016  Response to elevated platelet cytosolic Ca2+ H...    39/110   \n",
       "7  Reactome_2016  Formation of Fibrin Clot (Clotting Cascade) Ho...     21/39   \n",
       "8  Reactome_2016  Signaling by Rho GTPases Homo sapiens R-HSA-19...    70/367   \n",
       "9  Reactome_2016  Fcgamma receptor (FCGR) dependent phagocytosis...    35/120   \n",
       "\n",
       "        P-value  Adjusted P-value  Old P-value  Old Adjusted P-value  \\\n",
       "0  2.723097e-24      4.166339e-21            0                     0   \n",
       "1  2.075765e-23      1.587961e-20            0                     0   \n",
       "2  1.147419e-21      5.851835e-19            0                     0   \n",
       "3  3.506128e-21      1.341094e-18            0                     0   \n",
       "4  5.082266e-20      1.555173e-17            0                     0   \n",
       "5  4.539162e-17      1.157486e-14            0                     0   \n",
       "6  2.878713e-16      6.292044e-14            0                     0   \n",
       "7  1.098807e-13      2.101468e-11            0                     0   \n",
       "8  4.701829e-12      7.993110e-10            0                     0   \n",
       "9  6.598641e-12      1.009592e-09            0                     0   \n",
       "\n",
       "   Odds Ratio  Combined Score  \\\n",
       "0    2.711694      147.137280   \n",
       "1    2.338033      122.113411   \n",
       "2    3.529967      170.203636   \n",
       "3    3.333556      157.009717   \n",
       "4    1.829469       81.275892   \n",
       "5    4.672058      175.815150   \n",
       "6    4.459691      159.585673   \n",
       "7    6.773101      202.105148   \n",
       "8    2.399191       62.578269   \n",
       "9    3.668763       94.449214   \n",
       "\n",
       "                                               Genes  \n",
       "0  DGKG;CD84;DGKB;DGKA;PROS1;SERPINE1;F13A1;DOCK1...  \n",
       "1  NCKAP1;AHCYL1;WIPF1;PROS1;WIPF3;ICAM2;PYCARD;C...  \n",
       "2  DGKG;SERPINA3;ECM1;SERPINA1;DAGLA;DGKB;DGKA;PR...  \n",
       "3  DDR1;ITGB1;COL18A1;PTPRS;ITGAM;ITGB5;COL14A1;N...  \n",
       "4  NCKAP1;CNTFR;AHCYL1;WIPF1;WIPF3;ICAM2;IFI30;C4...  \n",
       "5  CFD;SERPINA3;ITIH4;ECM1;SERPINA1;PROS1;ITGB3;S...  \n",
       "6  CFD;SERPINA3;ITIH4;ECM1;SERPINA1;PROS1;ITGB3;S...  \n",
       "7  FGB;FGA;F10;SERPIND1;SERPINC1;PROS1;FGG;F11;F1...  \n",
       "8  ARHGAP9;YWHAE;ITGB1;NCKAP1;WIPF1;NCF2;YWHAB;AR...  \n",
       "9  NCKAP1;AHCYL1;WIPF1;ARPC1B;WIPF3;WAS;ITPR3;PLD...  "
      ]
     },
     "execution_count": 62,
     "metadata": {},
     "output_type": "execute_result"
    }
   ],
   "source": [
    "gbm_enr = gp.enrichr(gene_list = gbm_genes, description='Tumor_partition', gene_sets='Reactome_2016', \n",
    "                       outdir='test/enrichr_kegg')\n",
    "gbm_enr.res2d.head(10)"
   ]
  },
  {
   "cell_type": "markdown",
   "metadata": {},
   "source": [
    "# Colon"
   ]
  },
  {
   "cell_type": "code",
   "execution_count": 72,
   "metadata": {},
   "outputs": [
    {
     "name": "stderr",
     "output_type": "stream",
     "text": [
      "cptac warning: In joining the somatic_mutation table, no mutations were found for the following samples, so they were filled with Wildtype_Tumor or Wildtype_Normal: 204 samples for the EGFR gene (/Users/Lindsey/anaconda3/lib/python3.7/site-packages/ipykernel_launcher.py, line 2)\n",
      "cptac warning: proteomics data was not found for the following samples, so proteomics data columns were filled with NaN for these samples: 01CO001, 05CO005, 05CO007, 05CO014, 05CO055, 11CO059, 11CO060, 14CO002, 16CO012, 24CO005 (/Users/Lindsey/anaconda3/lib/python3.7/site-packages/ipykernel_launcher.py, line 2)\n"
     ]
    }
   ],
   "source": [
    "#Get Colon df with proteomcis and Mutation data. Filter for only tumor samples. \n",
    "df1 = colon.join_omics_to_mutations(omics_df_name=\"proteomics\", mutations_genes=\"EGFR\")\n",
    "df1_tumor = df1.loc[df1['Sample_Status'] == \"Tumor\"]\n",
    "prot_genes_list = create_prot_list(df1_tumor)"
   ]
  },
  {
   "cell_type": "code",
   "execution_count": 73,
   "metadata": {},
   "outputs": [],
   "source": [
    "#Run wrap pearson corr function\n",
    "df2= p.wrap_pearson_corr(df1_tumor,\"EGFR_proteomics\",comparison_columns= prot_genes_list,correction_method='fdr_bh', return_all = False)\n"
   ]
  },
  {
   "cell_type": "markdown",
   "metadata": {},
   "source": [
    "Get column names (sig trans genes) and remove proteomics from name."
   ]
  },
  {
   "cell_type": "code",
   "execution_count": 74,
   "metadata": {},
   "outputs": [],
   "source": [
    "df2 = df2.set_index('Comparison')\n",
    "df1_transposed = df2.T \n",
    "\n",
    "colon = df1_transposed.columns.values.tolist()\n",
    "colon_genes = []\n",
    "for gene in colon :\n",
    "    colon_genes.append((re.sub(\"_proteomics\", \"\", gene)))\n"
   ]
  },
  {
   "cell_type": "markdown",
   "metadata": {},
   "source": [
    "Run enrichment analysis "
   ]
  },
  {
   "cell_type": "code",
   "execution_count": 75,
   "metadata": {},
   "outputs": [],
   "source": [
    "\n",
    "tumor_enr = gp.enrichr(gene_list = colon_genes, description='Tumor_partition', gene_sets='Reactome_2016', \n",
    "                       outdir='test/enrichr_kegg')"
   ]
  },
  {
   "cell_type": "code",
   "execution_count": 76,
   "metadata": {},
   "outputs": [
    {
     "data": {
      "text/html": [
       "<div>\n",
       "<style scoped>\n",
       "    .dataframe tbody tr th:only-of-type {\n",
       "        vertical-align: middle;\n",
       "    }\n",
       "\n",
       "    .dataframe tbody tr th {\n",
       "        vertical-align: top;\n",
       "    }\n",
       "\n",
       "    .dataframe thead th {\n",
       "        text-align: right;\n",
       "    }\n",
       "</style>\n",
       "<table border=\"1\" class=\"dataframe\">\n",
       "  <thead>\n",
       "    <tr style=\"text-align: right;\">\n",
       "      <th></th>\n",
       "      <th>Gene_set</th>\n",
       "      <th>Term</th>\n",
       "      <th>Overlap</th>\n",
       "      <th>P-value</th>\n",
       "      <th>Adjusted P-value</th>\n",
       "      <th>Old P-value</th>\n",
       "      <th>Old Adjusted P-value</th>\n",
       "      <th>Odds Ratio</th>\n",
       "      <th>Combined Score</th>\n",
       "      <th>Genes</th>\n",
       "    </tr>\n",
       "  </thead>\n",
       "  <tbody>\n",
       "    <tr>\n",
       "      <th>0</th>\n",
       "      <td>Reactome_2016</td>\n",
       "      <td>Mitochondrial translation Homo sapiens R-HSA-5...</td>\n",
       "      <td>30/90</td>\n",
       "      <td>2.341437e-23</td>\n",
       "      <td>3.582399e-20</td>\n",
       "      <td>0</td>\n",
       "      <td>0</td>\n",
       "      <td>10.875476</td>\n",
       "      <td>566.706822</td>\n",
       "      <td>GFM2;MRPL19;MRPS34;MRPL39;MRPL17;MTIF2;MRPL37;...</td>\n",
       "    </tr>\n",
       "    <tr>\n",
       "      <th>1</th>\n",
       "      <td>Reactome_2016</td>\n",
       "      <td>Mitochondrial translation initiation Homo sapi...</td>\n",
       "      <td>27/84</td>\n",
       "      <td>1.131038e-20</td>\n",
       "      <td>8.652439e-18</td>\n",
       "      <td>0</td>\n",
       "      <td>0</td>\n",
       "      <td>10.487066</td>\n",
       "      <td>481.655903</td>\n",
       "      <td>MRPL19;MRPS34;MRPL39;MRPL17;MTIF2;MRPL37;MTIF3...</td>\n",
       "    </tr>\n",
       "    <tr>\n",
       "      <th>2</th>\n",
       "      <td>Reactome_2016</td>\n",
       "      <td>Mitochondrial translation elongation Homo sapi...</td>\n",
       "      <td>27/84</td>\n",
       "      <td>1.131038e-20</td>\n",
       "      <td>5.768293e-18</td>\n",
       "      <td>0</td>\n",
       "      <td>0</td>\n",
       "      <td>10.487066</td>\n",
       "      <td>481.655903</td>\n",
       "      <td>MRPL19;MRPS34;MRPL39;MRPL17;MRPL37;MRPL15;MRPL...</td>\n",
       "    </tr>\n",
       "    <tr>\n",
       "      <th>3</th>\n",
       "      <td>Reactome_2016</td>\n",
       "      <td>Mitochondrial translation termination Homo sap...</td>\n",
       "      <td>26/84</td>\n",
       "      <td>1.740510e-19</td>\n",
       "      <td>6.657452e-17</td>\n",
       "      <td>0</td>\n",
       "      <td>0</td>\n",
       "      <td>10.098656</td>\n",
       "      <td>436.210828</td>\n",
       "      <td>GFM2;MRPL19;MRPS34;MRPL39;MRPL17;MRPL37;MRPL15...</td>\n",
       "    </tr>\n",
       "    <tr>\n",
       "      <th>4</th>\n",
       "      <td>Reactome_2016</td>\n",
       "      <td>mRNA Splicing - Major Pathway Homo sapiens R-H...</td>\n",
       "      <td>25/134</td>\n",
       "      <td>3.480804e-13</td>\n",
       "      <td>1.065126e-10</td>\n",
       "      <td>0</td>\n",
       "      <td>0</td>\n",
       "      <td>6.087020</td>\n",
       "      <td>174.614343</td>\n",
       "      <td>SF3B6;SRSF1;DDX23;HNRNPR;U2AF1;USP39;SART1;CST...</td>\n",
       "    </tr>\n",
       "  </tbody>\n",
       "</table>\n",
       "</div>"
      ],
      "text/plain": [
       "        Gene_set                                               Term Overlap  \\\n",
       "0  Reactome_2016  Mitochondrial translation Homo sapiens R-HSA-5...   30/90   \n",
       "1  Reactome_2016  Mitochondrial translation initiation Homo sapi...   27/84   \n",
       "2  Reactome_2016  Mitochondrial translation elongation Homo sapi...   27/84   \n",
       "3  Reactome_2016  Mitochondrial translation termination Homo sap...   26/84   \n",
       "4  Reactome_2016  mRNA Splicing - Major Pathway Homo sapiens R-H...  25/134   \n",
       "\n",
       "        P-value  Adjusted P-value  Old P-value  Old Adjusted P-value  \\\n",
       "0  2.341437e-23      3.582399e-20            0                     0   \n",
       "1  1.131038e-20      8.652439e-18            0                     0   \n",
       "2  1.131038e-20      5.768293e-18            0                     0   \n",
       "3  1.740510e-19      6.657452e-17            0                     0   \n",
       "4  3.480804e-13      1.065126e-10            0                     0   \n",
       "\n",
       "   Odds Ratio  Combined Score  \\\n",
       "0   10.875476      566.706822   \n",
       "1   10.487066      481.655903   \n",
       "2   10.487066      481.655903   \n",
       "3   10.098656      436.210828   \n",
       "4    6.087020      174.614343   \n",
       "\n",
       "                                               Genes  \n",
       "0  GFM2;MRPL19;MRPS34;MRPL39;MRPL17;MTIF2;MRPL37;...  \n",
       "1  MRPL19;MRPS34;MRPL39;MRPL17;MTIF2;MRPL37;MTIF3...  \n",
       "2  MRPL19;MRPS34;MRPL39;MRPL17;MRPL37;MRPL15;MRPL...  \n",
       "3  GFM2;MRPL19;MRPS34;MRPL39;MRPL17;MRPL37;MRPL15...  \n",
       "4  SF3B6;SRSF1;DDX23;HNRNPR;U2AF1;USP39;SART1;CST...  "
      ]
     },
     "execution_count": 76,
     "metadata": {},
     "output_type": "execute_result"
    }
   ],
   "source": [
    "tumor_enr.res2d.head(5)"
   ]
  },
  {
   "cell_type": "code",
   "execution_count": 78,
   "metadata": {},
   "outputs": [
    {
     "data": {
      "text/plain": [
       "'Mitochondrial translation initiation Homo sapiens R-HSA-5368286'"
      ]
     },
     "execution_count": 78,
     "metadata": {},
     "output_type": "execute_result"
    }
   ],
   "source": [
    "enrich_df = tumor_enr.res2d\n",
    "translation = enrich_df.iloc[0,9]\n",
    "translation = translation.split(';')\n",
    "\n",
    "enrich_df.iloc[1,1]"
   ]
  },
  {
   "cell_type": "markdown",
   "metadata": {},
   "source": [
    "# Luad"
   ]
  },
  {
   "cell_type": "code",
   "execution_count": 28,
   "metadata": {},
   "outputs": [
    {
     "name": "stderr",
     "output_type": "stream",
     "text": [
      "cptac warning: In joining the somatic_mutation table, no mutations were found for the following samples, so they were filled with Wildtype_Tumor or Wildtype_Normal: 171 samples for the EGFR gene (/Users/Lindsey/anaconda3/lib/python3.7/site-packages/ipykernel_launcher.py, line 1)\n"
     ]
    }
   ],
   "source": [
    "df1 = luad.join_omics_to_mutations(omics_df_name=\"proteomics\", mutations_genes=\"EGFR\")\n",
    "df1_tumor = df1.loc[df1['Sample_Status'] == \"Tumor\"]\n",
    "\n",
    "df1_tumor.columns = df1_tumor.columns.droplevel(1)\n",
    "prot_genes_list = create_prot_list(df1_tumor)\n"
   ]
  },
  {
   "cell_type": "code",
   "execution_count": 29,
   "metadata": {},
   "outputs": [],
   "source": [
    "prot_genes_list = create_prot_list(df1_tumor)\n",
    "df2= p.wrap_pearson_corr(df1_tumor,\"EGFR_proteomics\",comparison_columns= prot_genes_list,correction_method='fdr_bh', return_all = False)\n"
   ]
  },
  {
   "cell_type": "code",
   "execution_count": 30,
   "metadata": {},
   "outputs": [],
   "source": [
    "df2 = df2.set_index('Comparison')\n",
    "df1_transposed = df2.T \n"
   ]
  },
  {
   "cell_type": "code",
   "execution_count": 32,
   "metadata": {},
   "outputs": [
    {
     "data": {
      "text/plain": [
       "1198"
      ]
     },
     "execution_count": 32,
     "metadata": {},
     "output_type": "execute_result"
    }
   ],
   "source": [
    "\n",
    "Luad = df1_transposed.columns.values.tolist()\n",
    "Luad_genes = []\n",
    "for gene in Luad :\n",
    "    Luad_genes.append((re.sub(\"_proteomics\", \"\", gene)))\n",
    "len(Luad_genes)"
   ]
  },
  {
   "cell_type": "code",
   "execution_count": 40,
   "metadata": {},
   "outputs": [
    {
     "data": {
      "text/html": [
       "<div>\n",
       "<style scoped>\n",
       "    .dataframe tbody tr th:only-of-type {\n",
       "        vertical-align: middle;\n",
       "    }\n",
       "\n",
       "    .dataframe tbody tr th {\n",
       "        vertical-align: top;\n",
       "    }\n",
       "\n",
       "    .dataframe thead th {\n",
       "        text-align: right;\n",
       "    }\n",
       "</style>\n",
       "<table border=\"1\" class=\"dataframe\">\n",
       "  <thead>\n",
       "    <tr style=\"text-align: right;\">\n",
       "      <th></th>\n",
       "      <th>Gene_set</th>\n",
       "      <th>Term</th>\n",
       "      <th>Overlap</th>\n",
       "      <th>P-value</th>\n",
       "      <th>Adjusted P-value</th>\n",
       "      <th>Old P-value</th>\n",
       "      <th>Old Adjusted P-value</th>\n",
       "      <th>Odds Ratio</th>\n",
       "      <th>Combined Score</th>\n",
       "      <th>Genes</th>\n",
       "    </tr>\n",
       "  </thead>\n",
       "  <tbody>\n",
       "    <tr>\n",
       "      <th>0</th>\n",
       "      <td>Reactome_2016</td>\n",
       "      <td>Immune System Homo sapiens R-HSA-168256</td>\n",
       "      <td>158/1547</td>\n",
       "      <td>1.186818e-11</td>\n",
       "      <td>1.815831e-08</td>\n",
       "      <td>0</td>\n",
       "      <td>0</td>\n",
       "      <td>1.705061</td>\n",
       "      <td>42.894496</td>\n",
       "      <td>ATF1;CYFIP2;APP;AHCYL1;NCF1;WIPF1;PROS1;WIPF2;...</td>\n",
       "    </tr>\n",
       "    <tr>\n",
       "      <th>1</th>\n",
       "      <td>Reactome_2016</td>\n",
       "      <td>Innate Immune System Homo sapiens R-HSA-168249</td>\n",
       "      <td>93/807</td>\n",
       "      <td>8.043351e-10</td>\n",
       "      <td>6.153164e-07</td>\n",
       "      <td>0</td>\n",
       "      <td>0</td>\n",
       "      <td>1.923900</td>\n",
       "      <td>40.288409</td>\n",
       "      <td>ATF1;CYFIP2;APP;AHCYL1;CDKN1B;WIPF1;WIPF2;PROS...</td>\n",
       "    </tr>\n",
       "    <tr>\n",
       "      <th>2</th>\n",
       "      <td>Reactome_2016</td>\n",
       "      <td>RHO GTPases Activate WASPs and WAVEs Homo sapi...</td>\n",
       "      <td>14/36</td>\n",
       "      <td>7.762482e-09</td>\n",
       "      <td>3.958866e-06</td>\n",
       "      <td>0</td>\n",
       "      <td>0</td>\n",
       "      <td>6.492302</td>\n",
       "      <td>121.237012</td>\n",
       "      <td>CYFIP2;WIPF1;WIPF2;WAS;BRK1;ARPC4;ARPC5;PTK2;A...</td>\n",
       "    </tr>\n",
       "    <tr>\n",
       "      <th>3</th>\n",
       "      <td>Reactome_2016</td>\n",
       "      <td>Hemostasis Homo sapiens R-HSA-109582</td>\n",
       "      <td>66/552</td>\n",
       "      <td>6.232478e-08</td>\n",
       "      <td>2.383923e-05</td>\n",
       "      <td>0</td>\n",
       "      <td>0</td>\n",
       "      <td>1.996080</td>\n",
       "      <td>33.116784</td>\n",
       "      <td>APP;DOCK5;DGKB;PROS1;F13A1;PIK3CD;ARRB2;CLU;AK...</td>\n",
       "    </tr>\n",
       "    <tr>\n",
       "      <th>4</th>\n",
       "      <td>Reactome_2016</td>\n",
       "      <td>Membrane Trafficking Homo sapiens R-HSA-199991</td>\n",
       "      <td>54/420</td>\n",
       "      <td>9.540055e-08</td>\n",
       "      <td>2.919257e-05</td>\n",
       "      <td>0</td>\n",
       "      <td>0</td>\n",
       "      <td>2.146435</td>\n",
       "      <td>34.697504</td>\n",
       "      <td>APP;GCC1;USE1;GOLGA5;KIF13B;KIFAP3;VPS36;CTSC;...</td>\n",
       "    </tr>\n",
       "  </tbody>\n",
       "</table>\n",
       "</div>"
      ],
      "text/plain": [
       "        Gene_set                                               Term   Overlap  \\\n",
       "0  Reactome_2016            Immune System Homo sapiens R-HSA-168256  158/1547   \n",
       "1  Reactome_2016     Innate Immune System Homo sapiens R-HSA-168249    93/807   \n",
       "2  Reactome_2016  RHO GTPases Activate WASPs and WAVEs Homo sapi...     14/36   \n",
       "3  Reactome_2016               Hemostasis Homo sapiens R-HSA-109582    66/552   \n",
       "4  Reactome_2016     Membrane Trafficking Homo sapiens R-HSA-199991    54/420   \n",
       "\n",
       "        P-value  Adjusted P-value  Old P-value  Old Adjusted P-value  \\\n",
       "0  1.186818e-11      1.815831e-08            0                     0   \n",
       "1  8.043351e-10      6.153164e-07            0                     0   \n",
       "2  7.762482e-09      3.958866e-06            0                     0   \n",
       "3  6.232478e-08      2.383923e-05            0                     0   \n",
       "4  9.540055e-08      2.919257e-05            0                     0   \n",
       "\n",
       "   Odds Ratio  Combined Score  \\\n",
       "0    1.705061       42.894496   \n",
       "1    1.923900       40.288409   \n",
       "2    6.492302      121.237012   \n",
       "3    1.996080       33.116784   \n",
       "4    2.146435       34.697504   \n",
       "\n",
       "                                               Genes  \n",
       "0  ATF1;CYFIP2;APP;AHCYL1;NCF1;WIPF1;PROS1;WIPF2;...  \n",
       "1  ATF1;CYFIP2;APP;AHCYL1;CDKN1B;WIPF1;WIPF2;PROS...  \n",
       "2  CYFIP2;WIPF1;WIPF2;WAS;BRK1;ARPC4;ARPC5;PTK2;A...  \n",
       "3  APP;DOCK5;DGKB;PROS1;F13A1;PIK3CD;ARRB2;CLU;AK...  \n",
       "4  APP;GCC1;USE1;GOLGA5;KIF13B;KIFAP3;VPS36;CTSC;...  "
      ]
     },
     "execution_count": 40,
     "metadata": {},
     "output_type": "execute_result"
    }
   ],
   "source": [
    "tumor_enr = gp.enrichr(gene_list = Luad_genes, description='Tumor_partition', gene_sets='Reactome_2016', \n",
    "                       outdir='test/enrichr_kegg')\n",
    "tumor_enr.res2d.head(5)"
   ]
  },
  {
   "cell_type": "code",
   "execution_count": 36,
   "metadata": {},
   "outputs": [],
   "source": [
    "enrich_df = tumor_enr.res2d\n",
    "hemostasis_genes = enrich_df.iloc[3,9]\n",
    "hemostasis_genes = hemostasis_genes.split(';')\n"
   ]
  },
  {
   "cell_type": "code",
   "execution_count": 39,
   "metadata": {},
   "outputs": [],
   "source": [
    "explor_genes = []\n",
    "for gene in hemostasis_genes:\n",
    "    gene += \"_proteomics\"\n",
    "    explor_genes.append(gene)\n",
    "\n",
    "df_FDR_explor = df_FDR_append[df_FDR_append.Comparison.isin(explor_genes)]\n"
   ]
  },
  {
   "cell_type": "markdown",
   "metadata": {},
   "source": [
    "# Lscc"
   ]
  },
  {
   "cell_type": "code",
   "execution_count": 41,
   "metadata": {},
   "outputs": [
    {
     "name": "stderr",
     "output_type": "stream",
     "text": [
      "cptac warning: In joining the somatic_mutation table, no mutations were found for the following samples, so they were filled with Wildtype_Tumor or Wildtype_Normal: 208 samples for the EGFR gene (/Users/Lindsey/anaconda3/lib/python3.7/site-packages/ipykernel_launcher.py, line 1)\n"
     ]
    }
   ],
   "source": [
    "df1 = Lscc.join_omics_to_mutations(omics_df_name=\"proteomics\", mutations_genes=\"EGFR\")\n",
    "df1_tumor = df1.loc[df1['Sample_Status'] == \"Tumor\"]\n",
    "\n",
    "df1_tumor.columns = df1_tumor.columns.droplevel(1)\n",
    "prot_genes_list = create_prot_list(df1_tumor)\n"
   ]
  },
  {
   "cell_type": "code",
   "execution_count": 42,
   "metadata": {},
   "outputs": [],
   "source": [
    "prot_genes_list = create_prot_list(df1_tumor)\n",
    "df2= p.wrap_pearson_corr(df1_tumor,\"EGFR_proteomics\",comparison_columns= prot_genes_list,correction_method='fdr_bh', return_all = False)\n"
   ]
  },
  {
   "cell_type": "code",
   "execution_count": 43,
   "metadata": {},
   "outputs": [],
   "source": [
    "df2 = df2.set_index('Comparison')\n",
    "df1_transposed = df2.T \n"
   ]
  },
  {
   "cell_type": "code",
   "execution_count": 44,
   "metadata": {},
   "outputs": [
    {
     "data": {
      "text/plain": [
       "474"
      ]
     },
     "execution_count": 44,
     "metadata": {},
     "output_type": "execute_result"
    }
   ],
   "source": [
    "Lscc = df1_transposed.columns.values.tolist()\n",
    "Lscc_genes = []\n",
    "for gene in Lscc :\n",
    "    Lscc_genes.append((re.sub(\"_proteomics\", \"\", gene)))\n",
    "len(Lscc_genes)"
   ]
  },
  {
   "cell_type": "code",
   "execution_count": 45,
   "metadata": {},
   "outputs": [
    {
     "data": {
      "text/html": [
       "<div>\n",
       "<style scoped>\n",
       "    .dataframe tbody tr th:only-of-type {\n",
       "        vertical-align: middle;\n",
       "    }\n",
       "\n",
       "    .dataframe tbody tr th {\n",
       "        vertical-align: top;\n",
       "    }\n",
       "\n",
       "    .dataframe thead th {\n",
       "        text-align: right;\n",
       "    }\n",
       "</style>\n",
       "<table border=\"1\" class=\"dataframe\">\n",
       "  <thead>\n",
       "    <tr style=\"text-align: right;\">\n",
       "      <th></th>\n",
       "      <th>Gene_set</th>\n",
       "      <th>Term</th>\n",
       "      <th>Overlap</th>\n",
       "      <th>P-value</th>\n",
       "      <th>Adjusted P-value</th>\n",
       "      <th>Old P-value</th>\n",
       "      <th>Old Adjusted P-value</th>\n",
       "      <th>Odds Ratio</th>\n",
       "      <th>Combined Score</th>\n",
       "      <th>Genes</th>\n",
       "    </tr>\n",
       "  </thead>\n",
       "  <tbody>\n",
       "    <tr>\n",
       "      <th>0</th>\n",
       "      <td>Reactome_2016</td>\n",
       "      <td>Extracellular matrix organization Homo sapiens...</td>\n",
       "      <td>28/283</td>\n",
       "      <td>1.969085e-10</td>\n",
       "      <td>3.012700e-07</td>\n",
       "      <td>0</td>\n",
       "      <td>0</td>\n",
       "      <td>4.174681</td>\n",
       "      <td>93.296939</td>\n",
       "      <td>DDR1;COL17A1;COL14A1;LAMC3;ITGB4;TNC;LOXL4;LAM...</td>\n",
       "    </tr>\n",
       "    <tr>\n",
       "      <th>1</th>\n",
       "      <td>Reactome_2016</td>\n",
       "      <td>Non-integrin membrane-ECM interactions Homo sa...</td>\n",
       "      <td>10/42</td>\n",
       "      <td>3.792171e-08</td>\n",
       "      <td>2.901011e-05</td>\n",
       "      <td>0</td>\n",
       "      <td>0</td>\n",
       "      <td>10.046213</td>\n",
       "      <td>171.667088</td>\n",
       "      <td>DDR1;LAMB3;ITGB4;LAMC3;ITGA2;TNC;SDC1;LAMC2;IT...</td>\n",
       "    </tr>\n",
       "    <tr>\n",
       "      <th>2</th>\n",
       "      <td>Reactome_2016</td>\n",
       "      <td>Apoptotic cleavage of cell adhesion  proteins ...</td>\n",
       "      <td>6/11</td>\n",
       "      <td>7.171810e-08</td>\n",
       "      <td>3.657623e-05</td>\n",
       "      <td>0</td>\n",
       "      <td>0</td>\n",
       "      <td>23.014960</td>\n",
       "      <td>378.608118</td>\n",
       "      <td>DSP;CDH1;CTNNB1;PKP1;DSG2;DSG3</td>\n",
       "    </tr>\n",
       "    <tr>\n",
       "      <th>3</th>\n",
       "      <td>Reactome_2016</td>\n",
       "      <td>Laminin interactions Homo sapiens R-HSA-3000157</td>\n",
       "      <td>7/23</td>\n",
       "      <td>7.089130e-07</td>\n",
       "      <td>2.711592e-04</td>\n",
       "      <td>0</td>\n",
       "      <td>0</td>\n",
       "      <td>12.841680</td>\n",
       "      <td>181.832199</td>\n",
       "      <td>LAMB3;ITGB4;LAMC3;ITGA2;LAMC2;ITGAV;ITGA6</td>\n",
       "    </tr>\n",
       "    <tr>\n",
       "      <th>4</th>\n",
       "      <td>Reactome_2016</td>\n",
       "      <td>Type I hemidesmosome assembly Homo sapiens R-H...</td>\n",
       "      <td>5/9</td>\n",
       "      <td>8.527709e-07</td>\n",
       "      <td>2.609479e-04</td>\n",
       "      <td>0</td>\n",
       "      <td>0</td>\n",
       "      <td>23.441163</td>\n",
       "      <td>327.584973</td>\n",
       "      <td>COL17A1;LAMB3;ITGB4;LAMC2;ITGA6</td>\n",
       "    </tr>\n",
       "  </tbody>\n",
       "</table>\n",
       "</div>"
      ],
      "text/plain": [
       "        Gene_set                                               Term Overlap  \\\n",
       "0  Reactome_2016  Extracellular matrix organization Homo sapiens...  28/283   \n",
       "1  Reactome_2016  Non-integrin membrane-ECM interactions Homo sa...   10/42   \n",
       "2  Reactome_2016  Apoptotic cleavage of cell adhesion  proteins ...    6/11   \n",
       "3  Reactome_2016    Laminin interactions Homo sapiens R-HSA-3000157    7/23   \n",
       "4  Reactome_2016  Type I hemidesmosome assembly Homo sapiens R-H...     5/9   \n",
       "\n",
       "        P-value  Adjusted P-value  Old P-value  Old Adjusted P-value  \\\n",
       "0  1.969085e-10      3.012700e-07            0                     0   \n",
       "1  3.792171e-08      2.901011e-05            0                     0   \n",
       "2  7.171810e-08      3.657623e-05            0                     0   \n",
       "3  7.089130e-07      2.711592e-04            0                     0   \n",
       "4  8.527709e-07      2.609479e-04            0                     0   \n",
       "\n",
       "   Odds Ratio  Combined Score  \\\n",
       "0    4.174681       93.296939   \n",
       "1   10.046213      171.667088   \n",
       "2   23.014960      378.608118   \n",
       "3   12.841680      181.832199   \n",
       "4   23.441163      327.584973   \n",
       "\n",
       "                                               Genes  \n",
       "0  DDR1;COL17A1;COL14A1;LAMC3;ITGB4;TNC;LOXL4;LAM...  \n",
       "1  DDR1;LAMB3;ITGB4;LAMC3;ITGA2;TNC;SDC1;LAMC2;IT...  \n",
       "2                     DSP;CDH1;CTNNB1;PKP1;DSG2;DSG3  \n",
       "3          LAMB3;ITGB4;LAMC3;ITGA2;LAMC2;ITGAV;ITGA6  \n",
       "4                    COL17A1;LAMB3;ITGB4;LAMC2;ITGA6  "
      ]
     },
     "execution_count": 45,
     "metadata": {},
     "output_type": "execute_result"
    }
   ],
   "source": [
    "Lscc_enr = gp.enrichr(gene_list = Lscc_genes, description='Tumor_partition', gene_sets='Reactome_2016', \n",
    "                       outdir='test/enrichr_kegg')\n",
    "Lscc_enr.res2d.head(5)"
   ]
  },
  {
   "cell_type": "markdown",
   "metadata": {},
   "source": [
    "# Kidney"
   ]
  },
  {
   "cell_type": "code",
   "execution_count": 46,
   "metadata": {},
   "outputs": [
    {
     "name": "stderr",
     "output_type": "stream",
     "text": [
      "cptac warning: In joining the somatic_mutation table, no mutations were found for the following samples, so they were filled with Wildtype_Tumor or Wildtype_Normal: 193 samples for the EGFR gene (/Users/Lindsey/anaconda3/lib/python3.7/site-packages/ipykernel_launcher.py, line 1)\n"
     ]
    }
   ],
   "source": [
    "df1 = kidney.join_omics_to_mutations(omics_df_name=\"proteomics\", mutations_genes=\"EGFR\")\n",
    "df1_tumor = df1.loc[df1['Sample_Status'] == \"Tumor\"]\n",
    "\n",
    "df1_tumor.columns = df1_tumor.columns.droplevel(1)\n",
    "prot_genes_list = create_prot_list(df1_tumor)"
   ]
  },
  {
   "cell_type": "code",
   "execution_count": 47,
   "metadata": {},
   "outputs": [],
   "source": [
    "prot_genes_list = create_prot_list(df1_tumor)\n",
    "df2= p.wrap_pearson_corr(df1_tumor,\"EGFR_proteomics\",comparison_columns= prot_genes_list,correction_method='fdr_bh', return_all = False)\n"
   ]
  },
  {
   "cell_type": "code",
   "execution_count": 49,
   "metadata": {},
   "outputs": [],
   "source": [
    "df2 = df2.set_index('Comparison')\n",
    "df1_transposed = df2.T "
   ]
  },
  {
   "cell_type": "code",
   "execution_count": 50,
   "metadata": {},
   "outputs": [
    {
     "data": {
      "text/plain": [
       "1073"
      ]
     },
     "execution_count": 50,
     "metadata": {},
     "output_type": "execute_result"
    }
   ],
   "source": [
    "\n",
    "kidney = df1_transposed.columns.values.tolist()\n",
    "kidney_genes = []\n",
    "for gene in kidney :\n",
    "    kidney_genes.append((re.sub(\"_proteomics\", \"\", gene)))\n",
    "len(kidney_genes)"
   ]
  },
  {
   "cell_type": "code",
   "execution_count": 53,
   "metadata": {},
   "outputs": [
    {
     "data": {
      "text/html": [
       "<div>\n",
       "<style scoped>\n",
       "    .dataframe tbody tr th:only-of-type {\n",
       "        vertical-align: middle;\n",
       "    }\n",
       "\n",
       "    .dataframe tbody tr th {\n",
       "        vertical-align: top;\n",
       "    }\n",
       "\n",
       "    .dataframe thead th {\n",
       "        text-align: right;\n",
       "    }\n",
       "</style>\n",
       "<table border=\"1\" class=\"dataframe\">\n",
       "  <thead>\n",
       "    <tr style=\"text-align: right;\">\n",
       "      <th></th>\n",
       "      <th>Gene_set</th>\n",
       "      <th>Term</th>\n",
       "      <th>Overlap</th>\n",
       "      <th>P-value</th>\n",
       "      <th>Adjusted P-value</th>\n",
       "      <th>Old P-value</th>\n",
       "      <th>Old Adjusted P-value</th>\n",
       "      <th>Odds Ratio</th>\n",
       "      <th>Combined Score</th>\n",
       "      <th>Genes</th>\n",
       "    </tr>\n",
       "  </thead>\n",
       "  <tbody>\n",
       "    <tr>\n",
       "      <th>0</th>\n",
       "      <td>Reactome_2016</td>\n",
       "      <td>Metabolism Homo sapiens R-HSA-1430728</td>\n",
       "      <td>235/1908</td>\n",
       "      <td>8.779935e-36</td>\n",
       "      <td>1.343330e-32</td>\n",
       "      <td>0</td>\n",
       "      <td>0</td>\n",
       "      <td>2.295724</td>\n",
       "      <td>185.312245</td>\n",
       "      <td>SLC23A1;GDE1;ENO1;ENO2;NAMPT;FDXR;PDK4;PIP4K2A...</td>\n",
       "    </tr>\n",
       "    <tr>\n",
       "      <th>1</th>\n",
       "      <td>Reactome_2016</td>\n",
       "      <td>Respiratory electron transport Homo sapiens R-...</td>\n",
       "      <td>39/88</td>\n",
       "      <td>1.723308e-26</td>\n",
       "      <td>1.318331e-23</td>\n",
       "      <td>0</td>\n",
       "      <td>0</td>\n",
       "      <td>8.260612</td>\n",
       "      <td>490.043992</td>\n",
       "      <td>NDUFA13;NDUFB7;NDUFB6;NDUFB10;UQCRB;NDUFA12;ND...</td>\n",
       "    </tr>\n",
       "    <tr>\n",
       "      <th>2</th>\n",
       "      <td>Reactome_2016</td>\n",
       "      <td>Respiratory electron transport, ATP synthesis ...</td>\n",
       "      <td>40/109</td>\n",
       "      <td>2.191250e-23</td>\n",
       "      <td>1.117537e-20</td>\n",
       "      <td>0</td>\n",
       "      <td>0</td>\n",
       "      <td>6.840121</td>\n",
       "      <td>356.883197</td>\n",
       "      <td>ATP5S;NDUFA13;NDUFB7;NDUFB10;UQCRB;NDUFB6;NDUF...</td>\n",
       "    </tr>\n",
       "    <tr>\n",
       "      <th>3</th>\n",
       "      <td>Reactome_2016</td>\n",
       "      <td>The citric acid (TCA) cycle and respiratory el...</td>\n",
       "      <td>45/153</td>\n",
       "      <td>1.316761e-21</td>\n",
       "      <td>5.036611e-19</td>\n",
       "      <td>0</td>\n",
       "      <td>0</td>\n",
       "      <td>5.482156</td>\n",
       "      <td>263.577172</td>\n",
       "      <td>ATP5S;NDUFA13;NDUFB7;NDUFB10;UQCRB;NDUFB6;NDUF...</td>\n",
       "    </tr>\n",
       "    <tr>\n",
       "      <th>4</th>\n",
       "      <td>Reactome_2016</td>\n",
       "      <td>Complex I biogenesis Homo sapiens R-HSA-6799198</td>\n",
       "      <td>26/49</td>\n",
       "      <td>1.234848e-20</td>\n",
       "      <td>3.778635e-18</td>\n",
       "      <td>0</td>\n",
       "      <td>0</td>\n",
       "      <td>9.890256</td>\n",
       "      <td>453.376800</td>\n",
       "      <td>NDUFA13;NDUFB7;NDUFB6;NDUFB10;NDUFA12;NDUFB5;N...</td>\n",
       "    </tr>\n",
       "  </tbody>\n",
       "</table>\n",
       "</div>"
      ],
      "text/plain": [
       "        Gene_set                                               Term   Overlap  \\\n",
       "0  Reactome_2016              Metabolism Homo sapiens R-HSA-1430728  235/1908   \n",
       "1  Reactome_2016  Respiratory electron transport Homo sapiens R-...     39/88   \n",
       "2  Reactome_2016  Respiratory electron transport, ATP synthesis ...    40/109   \n",
       "3  Reactome_2016  The citric acid (TCA) cycle and respiratory el...    45/153   \n",
       "4  Reactome_2016    Complex I biogenesis Homo sapiens R-HSA-6799198     26/49   \n",
       "\n",
       "        P-value  Adjusted P-value  Old P-value  Old Adjusted P-value  \\\n",
       "0  8.779935e-36      1.343330e-32            0                     0   \n",
       "1  1.723308e-26      1.318331e-23            0                     0   \n",
       "2  2.191250e-23      1.117537e-20            0                     0   \n",
       "3  1.316761e-21      5.036611e-19            0                     0   \n",
       "4  1.234848e-20      3.778635e-18            0                     0   \n",
       "\n",
       "   Odds Ratio  Combined Score  \\\n",
       "0    2.295724      185.312245   \n",
       "1    8.260612      490.043992   \n",
       "2    6.840121      356.883197   \n",
       "3    5.482156      263.577172   \n",
       "4    9.890256      453.376800   \n",
       "\n",
       "                                               Genes  \n",
       "0  SLC23A1;GDE1;ENO1;ENO2;NAMPT;FDXR;PDK4;PIP4K2A...  \n",
       "1  NDUFA13;NDUFB7;NDUFB6;NDUFB10;UQCRB;NDUFA12;ND...  \n",
       "2  ATP5S;NDUFA13;NDUFB7;NDUFB10;UQCRB;NDUFB6;NDUF...  \n",
       "3  ATP5S;NDUFA13;NDUFB7;NDUFB10;UQCRB;NDUFB6;NDUF...  \n",
       "4  NDUFA13;NDUFB7;NDUFB6;NDUFB10;NDUFA12;NDUFB5;N...  "
      ]
     },
     "execution_count": 53,
     "metadata": {},
     "output_type": "execute_result"
    }
   ],
   "source": [
    "Kidney_enr = gp.enrichr(gene_list = kidney_genes, description='Tumor_partition', gene_sets='Reactome_2016', \n",
    "                       outdir='test/enrichr_kegg')\n",
    "Kidney_enr.res2d.head(5)"
   ]
  },
  {
   "cell_type": "code",
   "execution_count": 56,
   "metadata": {},
   "outputs": [
    {
     "data": {
      "text/plain": [
       "['ATP5S',\n",
       " 'NDUFA13',\n",
       " 'NDUFB7',\n",
       " 'NDUFB10',\n",
       " 'UQCRB',\n",
       " 'NDUFB6',\n",
       " 'NDUFA12',\n",
       " 'NDUFB5',\n",
       " 'NDUFA10',\n",
       " 'NDUFB3',\n",
       " 'NDUFB1',\n",
       " 'UQCR11',\n",
       " 'UQCR10',\n",
       " 'COX5B',\n",
       " 'LDHA',\n",
       " 'PDK4',\n",
       " 'UQCRFS1',\n",
       " 'CYC1',\n",
       " 'NDUFV2',\n",
       " 'SLC16A3',\n",
       " 'NDUFV1',\n",
       " 'PDK1',\n",
       " 'COX8A',\n",
       " 'NDUFA9',\n",
       " 'NDUFA8',\n",
       " 'NDUFA7',\n",
       " 'SLC16A1',\n",
       " 'NDUFA6',\n",
       " 'NDUFA4',\n",
       " 'NDUFA3',\n",
       " 'NDUFA2',\n",
       " 'NDUFC2',\n",
       " 'NDUFC1',\n",
       " 'COX6B1',\n",
       " 'COX7A2L',\n",
       " 'NDUFS8',\n",
       " 'NDUFS7',\n",
       " 'UQCRQ',\n",
       " 'NDUFS5',\n",
       " 'NDUFS4',\n",
       " 'UQCRC1',\n",
       " 'NDUFS3',\n",
       " 'NDUFS2',\n",
       " 'NDUFS1',\n",
       " 'UQCRC2']"
      ]
     },
     "execution_count": 56,
     "metadata": {},
     "output_type": "execute_result"
    }
   ],
   "source": [
    "Kidney_enrich_df = Kidney_enr.res2d\n",
    "\n",
    "TCA_genes= Kidney_enrich_df.iloc[3,9]\n",
    "TCA_genes = TCA_genes.split(';')\n"
   ]
  },
  {
   "cell_type": "markdown",
   "metadata": {},
   "source": [
    "# Ovarian"
   ]
  },
  {
   "cell_type": "code",
   "execution_count": 11,
   "metadata": {},
   "outputs": [
    {
     "name": "stderr",
     "output_type": "stream",
     "text": [
      "cptac warning: In joining the somatic_mutation table, no mutations were found for the following samples, so they were filled with Wildtype_Tumor or Wildtype_Normal: 102 samples for the EGFR gene (/Users/Lindsey/anaconda3/lib/python3.7/site-packages/ipykernel_launcher.py, line 1)\n"
     ]
    }
   ],
   "source": [
    "\n",
    "df1 = Ovar.join_omics_to_mutations(omics_df_name=\"proteomics\", mutations_genes=\"EGFR\")\n",
    "df1_tumor = df1.loc[df1['Sample_Status'] == \"Tumor\"]\n",
    "\n",
    "df1_tumor.columns = df1_tumor.columns.droplevel(1)\n",
    "prot_genes_list = create_prot_list(df1_tumor)"
   ]
  },
  {
   "cell_type": "code",
   "execution_count": 12,
   "metadata": {},
   "outputs": [],
   "source": [
    "prot_genes_list = create_prot_list(df1_tumor)\n",
    "df2= p.wrap_pearson_corr(df1_tumor,\"EGFR_proteomics\",comparison_columns= prot_genes_list,correction_method='fdr_bh', return_all = False)\n"
   ]
  },
  {
   "cell_type": "code",
   "execution_count": 12,
   "metadata": {},
   "outputs": [],
   "source": [
    "df2 = df2.set_index('Comparison')\n",
    "df1_transposed = df2.T "
   ]
  },
  {
   "cell_type": "code",
   "execution_count": 13,
   "metadata": {},
   "outputs": [
    {
     "data": {
      "text/plain": [
       "613"
      ]
     },
     "execution_count": 13,
     "metadata": {},
     "output_type": "execute_result"
    }
   ],
   "source": [
    "\n",
    "Ovar = df1_transposed.columns.values.tolist()\n",
    "Ovar_genes = []\n",
    "for gene in Ovar :\n",
    "    Ovar_genes.append((re.sub(\"_proteomics\", \"\", gene)))\n",
    "len(Ovar_genes)"
   ]
  },
  {
   "cell_type": "code",
   "execution_count": 15,
   "metadata": {},
   "outputs": [
    {
     "data": {
      "text/html": [
       "<div>\n",
       "<style scoped>\n",
       "    .dataframe tbody tr th:only-of-type {\n",
       "        vertical-align: middle;\n",
       "    }\n",
       "\n",
       "    .dataframe tbody tr th {\n",
       "        vertical-align: top;\n",
       "    }\n",
       "\n",
       "    .dataframe thead th {\n",
       "        text-align: right;\n",
       "    }\n",
       "</style>\n",
       "<table border=\"1\" class=\"dataframe\">\n",
       "  <thead>\n",
       "    <tr style=\"text-align: right;\">\n",
       "      <th></th>\n",
       "      <th>Gene_set</th>\n",
       "      <th>Term</th>\n",
       "      <th>Overlap</th>\n",
       "      <th>P-value</th>\n",
       "      <th>Adjusted P-value</th>\n",
       "      <th>Old P-value</th>\n",
       "      <th>Old Adjusted P-value</th>\n",
       "      <th>Odds Ratio</th>\n",
       "      <th>Combined Score</th>\n",
       "      <th>Genes</th>\n",
       "    </tr>\n",
       "  </thead>\n",
       "  <tbody>\n",
       "    <tr>\n",
       "      <th>0</th>\n",
       "      <td>Reactome_2016</td>\n",
       "      <td>Mitochondrial translation Homo sapiens R-HSA-5...</td>\n",
       "      <td>30/90</td>\n",
       "      <td>2.341437e-23</td>\n",
       "      <td>3.582399e-20</td>\n",
       "      <td>0</td>\n",
       "      <td>0</td>\n",
       "      <td>10.875476</td>\n",
       "      <td>566.706822</td>\n",
       "      <td>GFM2;MRPL19;MRPS34;MRPL39;MRPL17;MTIF2;MRPL37;...</td>\n",
       "    </tr>\n",
       "    <tr>\n",
       "      <th>1</th>\n",
       "      <td>Reactome_2016</td>\n",
       "      <td>Mitochondrial translation initiation Homo sapi...</td>\n",
       "      <td>27/84</td>\n",
       "      <td>1.131038e-20</td>\n",
       "      <td>8.652439e-18</td>\n",
       "      <td>0</td>\n",
       "      <td>0</td>\n",
       "      <td>10.487066</td>\n",
       "      <td>481.655903</td>\n",
       "      <td>MRPL19;MRPS34;MRPL39;MRPL17;MTIF2;MRPL37;MTIF3...</td>\n",
       "    </tr>\n",
       "    <tr>\n",
       "      <th>2</th>\n",
       "      <td>Reactome_2016</td>\n",
       "      <td>Mitochondrial translation elongation Homo sapi...</td>\n",
       "      <td>27/84</td>\n",
       "      <td>1.131038e-20</td>\n",
       "      <td>5.768293e-18</td>\n",
       "      <td>0</td>\n",
       "      <td>0</td>\n",
       "      <td>10.487066</td>\n",
       "      <td>481.655903</td>\n",
       "      <td>MRPL19;MRPS34;MRPL39;MRPL17;MRPL37;MRPL15;MRPL...</td>\n",
       "    </tr>\n",
       "    <tr>\n",
       "      <th>3</th>\n",
       "      <td>Reactome_2016</td>\n",
       "      <td>Mitochondrial translation termination Homo sap...</td>\n",
       "      <td>26/84</td>\n",
       "      <td>1.740510e-19</td>\n",
       "      <td>6.657452e-17</td>\n",
       "      <td>0</td>\n",
       "      <td>0</td>\n",
       "      <td>10.098656</td>\n",
       "      <td>436.210828</td>\n",
       "      <td>GFM2;MRPL19;MRPS34;MRPL39;MRPL17;MRPL37;MRPL15...</td>\n",
       "    </tr>\n",
       "    <tr>\n",
       "      <th>4</th>\n",
       "      <td>Reactome_2016</td>\n",
       "      <td>mRNA Splicing - Major Pathway Homo sapiens R-H...</td>\n",
       "      <td>25/134</td>\n",
       "      <td>3.480804e-13</td>\n",
       "      <td>1.065126e-10</td>\n",
       "      <td>0</td>\n",
       "      <td>0</td>\n",
       "      <td>6.087020</td>\n",
       "      <td>174.614343</td>\n",
       "      <td>SF3B6;SRSF1;DDX23;HNRNPR;U2AF1;USP39;SART1;CST...</td>\n",
       "    </tr>\n",
       "    <tr>\n",
       "      <th>5</th>\n",
       "      <td>Reactome_2016</td>\n",
       "      <td>Processing of Capped Intron-Containing Pre-mRN...</td>\n",
       "      <td>29/193</td>\n",
       "      <td>1.415549e-12</td>\n",
       "      <td>3.609649e-10</td>\n",
       "      <td>0</td>\n",
       "      <td>0</td>\n",
       "      <td>4.902417</td>\n",
       "      <td>133.755101</td>\n",
       "      <td>SF3B6;SRSF1;DDX23;HNRNPR;U2AF1;USP39;SART1;CST...</td>\n",
       "    </tr>\n",
       "    <tr>\n",
       "      <th>6</th>\n",
       "      <td>Reactome_2016</td>\n",
       "      <td>mRNA Splicing Homo sapiens R-HSA-72172</td>\n",
       "      <td>25/144</td>\n",
       "      <td>1.884289e-12</td>\n",
       "      <td>4.118517e-10</td>\n",
       "      <td>0</td>\n",
       "      <td>0</td>\n",
       "      <td>5.664310</td>\n",
       "      <td>152.922051</td>\n",
       "      <td>SF3B6;SRSF1;DDX23;HNRNPR;U2AF1;USP39;SART1;CST...</td>\n",
       "    </tr>\n",
       "    <tr>\n",
       "      <th>7</th>\n",
       "      <td>Reactome_2016</td>\n",
       "      <td>Organelle biogenesis and maintenance Homo sapi...</td>\n",
       "      <td>37/326</td>\n",
       "      <td>7.394122e-12</td>\n",
       "      <td>1.414126e-09</td>\n",
       "      <td>0</td>\n",
       "      <td>0</td>\n",
       "      <td>3.702999</td>\n",
       "      <td>94.909119</td>\n",
       "      <td>DYNC1I2;GFM2;MRPL19;MRPS34;MRPL17;MRPL39;MTIF2...</td>\n",
       "    </tr>\n",
       "    <tr>\n",
       "      <th>8</th>\n",
       "      <td>Reactome_2016</td>\n",
       "      <td>Mitochondrial protein import Homo sapiens R-HS...</td>\n",
       "      <td>14/54</td>\n",
       "      <td>5.837246e-10</td>\n",
       "      <td>9.923319e-08</td>\n",
       "      <td>0</td>\n",
       "      <td>0</td>\n",
       "      <td>8.458703</td>\n",
       "      <td>179.845499</td>\n",
       "      <td>DNAJC19;TIMM8A;TOMM40;IDH3G;TIMM13;TIMM10;TOMM...</td>\n",
       "    </tr>\n",
       "    <tr>\n",
       "      <th>9</th>\n",
       "      <td>Reactome_2016</td>\n",
       "      <td>Metabolism of proteins Homo sapiens R-HSA-392499</td>\n",
       "      <td>66/1074</td>\n",
       "      <td>5.604597e-08</td>\n",
       "      <td>8.575033e-06</td>\n",
       "      <td>0</td>\n",
       "      <td>0</td>\n",
       "      <td>2.004976</td>\n",
       "      <td>33.477272</td>\n",
       "      <td>PIGU;SPON1;GSK3A;CXCL8;TOMM22;EEF1B2;RPS18;TIM...</td>\n",
       "    </tr>\n",
       "  </tbody>\n",
       "</table>\n",
       "</div>"
      ],
      "text/plain": [
       "        Gene_set                                               Term  Overlap  \\\n",
       "0  Reactome_2016  Mitochondrial translation Homo sapiens R-HSA-5...    30/90   \n",
       "1  Reactome_2016  Mitochondrial translation initiation Homo sapi...    27/84   \n",
       "2  Reactome_2016  Mitochondrial translation elongation Homo sapi...    27/84   \n",
       "3  Reactome_2016  Mitochondrial translation termination Homo sap...    26/84   \n",
       "4  Reactome_2016  mRNA Splicing - Major Pathway Homo sapiens R-H...   25/134   \n",
       "5  Reactome_2016  Processing of Capped Intron-Containing Pre-mRN...   29/193   \n",
       "6  Reactome_2016             mRNA Splicing Homo sapiens R-HSA-72172   25/144   \n",
       "7  Reactome_2016  Organelle biogenesis and maintenance Homo sapi...   37/326   \n",
       "8  Reactome_2016  Mitochondrial protein import Homo sapiens R-HS...    14/54   \n",
       "9  Reactome_2016   Metabolism of proteins Homo sapiens R-HSA-392499  66/1074   \n",
       "\n",
       "        P-value  Adjusted P-value  Old P-value  Old Adjusted P-value  \\\n",
       "0  2.341437e-23      3.582399e-20            0                     0   \n",
       "1  1.131038e-20      8.652439e-18            0                     0   \n",
       "2  1.131038e-20      5.768293e-18            0                     0   \n",
       "3  1.740510e-19      6.657452e-17            0                     0   \n",
       "4  3.480804e-13      1.065126e-10            0                     0   \n",
       "5  1.415549e-12      3.609649e-10            0                     0   \n",
       "6  1.884289e-12      4.118517e-10            0                     0   \n",
       "7  7.394122e-12      1.414126e-09            0                     0   \n",
       "8  5.837246e-10      9.923319e-08            0                     0   \n",
       "9  5.604597e-08      8.575033e-06            0                     0   \n",
       "\n",
       "   Odds Ratio  Combined Score  \\\n",
       "0   10.875476      566.706822   \n",
       "1   10.487066      481.655903   \n",
       "2   10.487066      481.655903   \n",
       "3   10.098656      436.210828   \n",
       "4    6.087020      174.614343   \n",
       "5    4.902417      133.755101   \n",
       "6    5.664310      152.922051   \n",
       "7    3.702999       94.909119   \n",
       "8    8.458703      179.845499   \n",
       "9    2.004976       33.477272   \n",
       "\n",
       "                                               Genes  \n",
       "0  GFM2;MRPL19;MRPS34;MRPL39;MRPL17;MTIF2;MRPL37;...  \n",
       "1  MRPL19;MRPS34;MRPL39;MRPL17;MTIF2;MRPL37;MTIF3...  \n",
       "2  MRPL19;MRPS34;MRPL39;MRPL17;MRPL37;MRPL15;MRPL...  \n",
       "3  GFM2;MRPL19;MRPS34;MRPL39;MRPL17;MRPL37;MRPL15...  \n",
       "4  SF3B6;SRSF1;DDX23;HNRNPR;U2AF1;USP39;SART1;CST...  \n",
       "5  SF3B6;SRSF1;DDX23;HNRNPR;U2AF1;USP39;SART1;CST...  \n",
       "6  SF3B6;SRSF1;DDX23;HNRNPR;U2AF1;USP39;SART1;CST...  \n",
       "7  DYNC1I2;GFM2;MRPL19;MRPS34;MRPL17;MRPL39;MTIF2...  \n",
       "8  DNAJC19;TIMM8A;TOMM40;IDH3G;TIMM13;TIMM10;TOMM...  \n",
       "9  PIGU;SPON1;GSK3A;CXCL8;TOMM22;EEF1B2;RPS18;TIM...  "
      ]
     },
     "execution_count": 15,
     "metadata": {},
     "output_type": "execute_result"
    }
   ],
   "source": [
    "Ovar_enr = gp.enrichr(gene_list = Ovar_genes, description='Tumor_partition', gene_sets='Reactome_2016', \n",
    "                       outdir='test/enrichr_kegg')\n",
    "Ovar_enr.res2d.head(10)\n"
   ]
  },
  {
   "cell_type": "markdown",
   "metadata": {},
   "source": [
    "# Hnscc"
   ]
  },
  {
   "cell_type": "code",
   "execution_count": 25,
   "metadata": {},
   "outputs": [
    {
     "name": "stderr",
     "output_type": "stream",
     "text": [
      "cptac warning: In joining the somatic_mutation table, no mutations were found for the following samples, so they were filled with Wildtype_Tumor or Wildtype_Normal: 174 samples for the EGFR gene (/Users/Lindsey/anaconda3/lib/python3.7/site-packages/ipykernel_launcher.py, line 1)\n"
     ]
    }
   ],
   "source": [
    "\n",
    "df1 = Hnscc.join_omics_to_mutations(omics_df_name=\"proteomics\", mutations_genes=\"EGFR\")\n",
    "df1_tumor = df1.loc[df1['Sample_Status'] == \"Tumor\"]\n",
    "\n",
    "#df1_tumor.columns = df1_tumor.columns.droplevel(1)\n",
    "prot_genes_list = create_prot_list(df1_tumor)"
   ]
  },
  {
   "cell_type": "code",
   "execution_count": 26,
   "metadata": {},
   "outputs": [],
   "source": [
    "prot_genes_list = create_prot_list(df1_tumor)\n",
    "df2= p.wrap_pearson_corr(df1_tumor,\"EGFR_proteomics\",comparison_columns= prot_genes_list,correction_method='fdr_bh', return_all = False)\n"
   ]
  },
  {
   "cell_type": "code",
   "execution_count": 27,
   "metadata": {},
   "outputs": [],
   "source": [
    "df2 = df2.set_index('Comparison')\n",
    "df1_transposed = df2.T "
   ]
  },
  {
   "cell_type": "code",
   "execution_count": 28,
   "metadata": {},
   "outputs": [
    {
     "data": {
      "text/plain": [
       "1074"
      ]
     },
     "execution_count": 28,
     "metadata": {},
     "output_type": "execute_result"
    }
   ],
   "source": [
    "Hnscc = df1_transposed.columns.values.tolist()\n",
    "Hnscc_genes = []\n",
    "for gene in Hnscc :\n",
    "    Hnscc_genes.append((re.sub(\"_proteomics\", \"\", gene)))\n",
    "len(Hnscc_genes)"
   ]
  },
  {
   "cell_type": "code",
   "execution_count": 29,
   "metadata": {},
   "outputs": [
    {
     "data": {
      "text/html": [
       "<div>\n",
       "<style scoped>\n",
       "    .dataframe tbody tr th:only-of-type {\n",
       "        vertical-align: middle;\n",
       "    }\n",
       "\n",
       "    .dataframe tbody tr th {\n",
       "        vertical-align: top;\n",
       "    }\n",
       "\n",
       "    .dataframe thead th {\n",
       "        text-align: right;\n",
       "    }\n",
       "</style>\n",
       "<table border=\"1\" class=\"dataframe\">\n",
       "  <thead>\n",
       "    <tr style=\"text-align: right;\">\n",
       "      <th></th>\n",
       "      <th>Gene_set</th>\n",
       "      <th>Term</th>\n",
       "      <th>Overlap</th>\n",
       "      <th>P-value</th>\n",
       "      <th>Adjusted P-value</th>\n",
       "      <th>Old P-value</th>\n",
       "      <th>Old Adjusted P-value</th>\n",
       "      <th>Odds Ratio</th>\n",
       "      <th>Combined Score</th>\n",
       "      <th>Genes</th>\n",
       "    </tr>\n",
       "  </thead>\n",
       "  <tbody>\n",
       "    <tr>\n",
       "      <th>0</th>\n",
       "      <td>Reactome_2016</td>\n",
       "      <td>Extracellular matrix organization Homo sapiens...</td>\n",
       "      <td>59/283</td>\n",
       "      <td>1.180357e-19</td>\n",
       "      <td>1.805946e-16</td>\n",
       "      <td>0</td>\n",
       "      <td>0</td>\n",
       "      <td>3.882320</td>\n",
       "      <td>169.204302</td>\n",
       "      <td>DDR1;ITGB1;SPARC;ITGB5;SERPINE1;COL12A1;ICAM3;...</td>\n",
       "    </tr>\n",
       "    <tr>\n",
       "      <th>1</th>\n",
       "      <td>Reactome_2016</td>\n",
       "      <td>Hemostasis Homo sapiens R-HSA-109582</td>\n",
       "      <td>81/552</td>\n",
       "      <td>1.188696e-16</td>\n",
       "      <td>9.093528e-14</td>\n",
       "      <td>0</td>\n",
       "      <td>0</td>\n",
       "      <td>2.732572</td>\n",
       "      <td>100.199337</td>\n",
       "      <td>ITGB1;SPARC;DOCK8;SERPINE1;PLEK;ATP2A3;ARRB1;A...</td>\n",
       "    </tr>\n",
       "    <tr>\n",
       "      <th>2</th>\n",
       "      <td>Reactome_2016</td>\n",
       "      <td>Immune System Homo sapiens R-HSA-168256</td>\n",
       "      <td>158/1547</td>\n",
       "      <td>1.170688e-15</td>\n",
       "      <td>5.970510e-13</td>\n",
       "      <td>0</td>\n",
       "      <td>0</td>\n",
       "      <td>1.901921</td>\n",
       "      <td>65.390299</td>\n",
       "      <td>CYFIP2;NCKAP1;NUP107;NCF1;WIPF1;NCF4;ARAF;INPP...</td>\n",
       "    </tr>\n",
       "    <tr>\n",
       "      <th>3</th>\n",
       "      <td>Reactome_2016</td>\n",
       "      <td>Cell surface interactions at the vascular wall...</td>\n",
       "      <td>30/101</td>\n",
       "      <td>5.646039e-15</td>\n",
       "      <td>2.159610e-12</td>\n",
       "      <td>0</td>\n",
       "      <td>0</td>\n",
       "      <td>5.531279</td>\n",
       "      <td>181.469230</td>\n",
       "      <td>ITGB1;F11R;ITGAL;SPN;THBD;INPP5D;BSG;ITGAV;SLC...</td>\n",
       "    </tr>\n",
       "    <tr>\n",
       "      <th>4</th>\n",
       "      <td>Reactome_2016</td>\n",
       "      <td>Adaptive Immune System Homo sapiens R-HSA-1280218</td>\n",
       "      <td>92/762</td>\n",
       "      <td>1.973048e-13</td>\n",
       "      <td>6.037528e-11</td>\n",
       "      <td>0</td>\n",
       "      <td>0</td>\n",
       "      <td>2.248322</td>\n",
       "      <td>65.772480</td>\n",
       "      <td>ITGB1;GSK3B;CDKN1B;NCF1;ITGB5;SH3KBP1;CLTC;NCF...</td>\n",
       "    </tr>\n",
       "    <tr>\n",
       "      <th>5</th>\n",
       "      <td>Reactome_2016</td>\n",
       "      <td>Signaling by Rho GTPases Homo sapiens R-HSA-19...</td>\n",
       "      <td>55/367</td>\n",
       "      <td>4.616114e-12</td>\n",
       "      <td>1.177109e-09</td>\n",
       "      <td>0</td>\n",
       "      <td>0</td>\n",
       "      <td>2.790759</td>\n",
       "      <td>72.842907</td>\n",
       "      <td>CYFIP2;ARHGAP9;ITGB1;NCKAP1;NUP107;CDKN1B;RTKN...</td>\n",
       "    </tr>\n",
       "    <tr>\n",
       "      <th>6</th>\n",
       "      <td>Reactome_2016</td>\n",
       "      <td>Metabolism Homo sapiens R-HSA-1430728</td>\n",
       "      <td>170/1908</td>\n",
       "      <td>1.454692e-11</td>\n",
       "      <td>3.179542e-09</td>\n",
       "      <td>0</td>\n",
       "      <td>0</td>\n",
       "      <td>1.659191</td>\n",
       "      <td>41.402846</td>\n",
       "      <td>RPL4;ALDH1L1;RPL30;NUP107;RPL3;INPPL1;MT1X;ENO...</td>\n",
       "    </tr>\n",
       "    <tr>\n",
       "      <th>7</th>\n",
       "      <td>Reactome_2016</td>\n",
       "      <td>Platelet activation, signaling and aggregation...</td>\n",
       "      <td>42/253</td>\n",
       "      <td>6.104470e-11</td>\n",
       "      <td>1.167480e-08</td>\n",
       "      <td>0</td>\n",
       "      <td>0</td>\n",
       "      <td>3.091395</td>\n",
       "      <td>72.707799</td>\n",
       "      <td>SPARC;SERPINE1;PLEK;ITPR1;ITPR3;ARRB1;ARRB2;RA...</td>\n",
       "    </tr>\n",
       "    <tr>\n",
       "      <th>8</th>\n",
       "      <td>Reactome_2016</td>\n",
       "      <td>Collagen formation Homo sapiens R-HSA-1474290</td>\n",
       "      <td>23/85</td>\n",
       "      <td>6.925813e-11</td>\n",
       "      <td>1.177388e-08</td>\n",
       "      <td>0</td>\n",
       "      <td>0</td>\n",
       "      <td>5.038887</td>\n",
       "      <td>117.875595</td>\n",
       "      <td>COL17A1;COL28A1;COL15A1;CRTAP;LAMB3;COL11A1;CO...</td>\n",
       "    </tr>\n",
       "    <tr>\n",
       "      <th>9</th>\n",
       "      <td>Reactome_2016</td>\n",
       "      <td>VEGFA-VEGFR2 Pathway Homo sapiens R-HSA-4420097</td>\n",
       "      <td>48/320</td>\n",
       "      <td>1.039101e-10</td>\n",
       "      <td>1.589824e-08</td>\n",
       "      <td>0</td>\n",
       "      <td>0</td>\n",
       "      <td>2.793296</td>\n",
       "      <td>64.210881</td>\n",
       "      <td>CYFIP2;NCKAP1;NCF1;NCF4;ARAF;ITPR1;HSPB1;ITPR3...</td>\n",
       "    </tr>\n",
       "  </tbody>\n",
       "</table>\n",
       "</div>"
      ],
      "text/plain": [
       "        Gene_set                                               Term   Overlap  \\\n",
       "0  Reactome_2016  Extracellular matrix organization Homo sapiens...    59/283   \n",
       "1  Reactome_2016               Hemostasis Homo sapiens R-HSA-109582    81/552   \n",
       "2  Reactome_2016            Immune System Homo sapiens R-HSA-168256  158/1547   \n",
       "3  Reactome_2016  Cell surface interactions at the vascular wall...    30/101   \n",
       "4  Reactome_2016  Adaptive Immune System Homo sapiens R-HSA-1280218    92/762   \n",
       "5  Reactome_2016  Signaling by Rho GTPases Homo sapiens R-HSA-19...    55/367   \n",
       "6  Reactome_2016              Metabolism Homo sapiens R-HSA-1430728  170/1908   \n",
       "7  Reactome_2016  Platelet activation, signaling and aggregation...    42/253   \n",
       "8  Reactome_2016      Collagen formation Homo sapiens R-HSA-1474290     23/85   \n",
       "9  Reactome_2016    VEGFA-VEGFR2 Pathway Homo sapiens R-HSA-4420097    48/320   \n",
       "\n",
       "        P-value  Adjusted P-value  Old P-value  Old Adjusted P-value  \\\n",
       "0  1.180357e-19      1.805946e-16            0                     0   \n",
       "1  1.188696e-16      9.093528e-14            0                     0   \n",
       "2  1.170688e-15      5.970510e-13            0                     0   \n",
       "3  5.646039e-15      2.159610e-12            0                     0   \n",
       "4  1.973048e-13      6.037528e-11            0                     0   \n",
       "5  4.616114e-12      1.177109e-09            0                     0   \n",
       "6  1.454692e-11      3.179542e-09            0                     0   \n",
       "7  6.104470e-11      1.167480e-08            0                     0   \n",
       "8  6.925813e-11      1.177388e-08            0                     0   \n",
       "9  1.039101e-10      1.589824e-08            0                     0   \n",
       "\n",
       "   Odds Ratio  Combined Score  \\\n",
       "0    3.882320      169.204302   \n",
       "1    2.732572      100.199337   \n",
       "2    1.901921       65.390299   \n",
       "3    5.531279      181.469230   \n",
       "4    2.248322       65.772480   \n",
       "5    2.790759       72.842907   \n",
       "6    1.659191       41.402846   \n",
       "7    3.091395       72.707799   \n",
       "8    5.038887      117.875595   \n",
       "9    2.793296       64.210881   \n",
       "\n",
       "                                               Genes  \n",
       "0  DDR1;ITGB1;SPARC;ITGB5;SERPINE1;COL12A1;ICAM3;...  \n",
       "1  ITGB1;SPARC;DOCK8;SERPINE1;PLEK;ATP2A3;ARRB1;A...  \n",
       "2  CYFIP2;NCKAP1;NUP107;NCF1;WIPF1;NCF4;ARAF;INPP...  \n",
       "3  ITGB1;F11R;ITGAL;SPN;THBD;INPP5D;BSG;ITGAV;SLC...  \n",
       "4  ITGB1;GSK3B;CDKN1B;NCF1;ITGB5;SH3KBP1;CLTC;NCF...  \n",
       "5  CYFIP2;ARHGAP9;ITGB1;NCKAP1;NUP107;CDKN1B;RTKN...  \n",
       "6  RPL4;ALDH1L1;RPL30;NUP107;RPL3;INPPL1;MT1X;ENO...  \n",
       "7  SPARC;SERPINE1;PLEK;ITPR1;ITPR3;ARRB1;ARRB2;RA...  \n",
       "8  COL17A1;COL28A1;COL15A1;CRTAP;LAMB3;COL11A1;CO...  \n",
       "9  CYFIP2;NCKAP1;NCF1;NCF4;ARAF;ITPR1;HSPB1;ITPR3...  "
      ]
     },
     "execution_count": 29,
     "metadata": {},
     "output_type": "execute_result"
    }
   ],
   "source": [
    "Hnscc_enr = gp.enrichr(gene_list = Hnscc_genes, description='Tumor_partition', gene_sets='Reactome_2016', \n",
    "                       outdir='test/enrichr_kegg')\n",
    "Hnscc_enr.res2d.head(10)\n"
   ]
  },
  {
   "cell_type": "code",
   "execution_count": null,
   "metadata": {},
   "outputs": [],
   "source": []
  }
 ],
 "metadata": {
  "kernelspec": {
   "display_name": "Python 3",
   "language": "python",
   "name": "python3"
  },
  "language_info": {
   "codemirror_mode": {
    "name": "ipython",
    "version": 3
   },
   "file_extension": ".py",
   "mimetype": "text/x-python",
   "name": "python",
   "nbconvert_exporter": "python",
   "pygments_lexer": "ipython3",
   "version": "3.7.3"
  }
 },
 "nbformat": 4,
 "nbformat_minor": 2
}
