{
 "cells": [
  {
   "cell_type": "code",
   "execution_count": 2,
   "metadata": {},
   "outputs": [],
   "source": [
    "\n",
    "import pandas as pd\n",
    "import numpy as np\n",
    "import re \n",
    "import matplotlib.pyplot as plt\n",
    "from scipy import stats\n",
    "import gseapy as gp\n",
    "from gseapy.plot import barplot, dotplot"
   ]
  },
  {
   "cell_type": "markdown",
   "metadata": {},
   "source": [
    "# Enrichment Analysis for all proteins Pos/Neg corr"
   ]
  },
  {
   "cell_type": "markdown",
   "metadata": {},
   "source": [
    "Read in file from step 3.3 which has all of the proteins that have positive/ negative correlations depending on tumor type. Then, set comparison column to be index and transpose df so columns are gene names."
   ]
  },
  {
   "cell_type": "code",
   "execution_count": 3,
   "metadata": {},
   "outputs": [],
   "source": [
    "df = pd.read_csv(\"../Step3.3_Pos_Neg_Correlation_patterns/csv_files/pancan_EGFR_all_pos_neg_FDR.csv\")\n",
    "df = df.set_index('Comparison')\n",
    "df1_transposed = df.T "
   ]
  },
  {
   "cell_type": "markdown",
   "metadata": {},
   "source": [
    "Get column names and remove proteomics from name. "
   ]
  },
  {
   "cell_type": "code",
   "execution_count": 4,
   "metadata": {},
   "outputs": [
    {
     "data": {
      "text/plain": [
       "479"
      ]
     },
     "execution_count": 4,
     "metadata": {},
     "output_type": "execute_result"
    }
   ],
   "source": [
    "\n",
    "FDR_pos_neg = df1_transposed.columns.values.tolist()\n",
    "pos_neg_genes = []\n",
    "for gene in FDR_pos_neg:\n",
    "    pos_neg_genes.append((re.sub(\"_proteomics\", \"\", gene)))\n",
    "len(pos_neg_genes)"
   ]
  },
  {
   "cell_type": "markdown",
   "metadata": {},
   "source": [
    "Run enrichment analysis "
   ]
  },
  {
   "cell_type": "code",
   "execution_count": 5,
   "metadata": {},
   "outputs": [
    {
     "name": "stderr",
     "output_type": "stream",
     "text": [
      "Not validated Enrichr library name provided\n"
     ]
    },
    {
     "name": "stdout",
     "output_type": "stream",
     "text": [
      "Hint: use get_library_name() to view full list of supported names"
     ]
    },
    {
     "ename": "SystemExit",
     "evalue": "1",
     "output_type": "error",
     "traceback": [
      "An exception has occurred, use %tb to see the full traceback.\n",
      "\u001b[0;31mSystemExit\u001b[0m\u001b[0;31m:\u001b[0m 1\n"
     ]
    },
    {
     "name": "stderr",
     "output_type": "stream",
     "text": [
      "/Users/Lindsey/anaconda3/lib/python3.7/site-packages/IPython/core/interactiveshell.py:3333: UserWarning: To exit: use 'exit', 'quit', or Ctrl-D.\n",
      "  warn(\"To exit: use 'exit', 'quit', or Ctrl-D.\", stacklevel=1)\n"
     ]
    }
   ],
   "source": [
    "\n",
    "tumor_enr = gp.enrichr(gene_list = pos_neg_genes, description='Tumor_partition', gene_sets='KEGG_2016', \n",
    "                       outdir='test/enrichr_kegg')"
   ]
  },
  {
   "cell_type": "code",
   "execution_count": null,
   "metadata": {},
   "outputs": [],
   "source": []
  },
  {
   "cell_type": "code",
   "execution_count": 44,
   "metadata": {},
   "outputs": [
    {
     "data": {
      "text/html": [
       "<div>\n",
       "<style scoped>\n",
       "    .dataframe tbody tr th:only-of-type {\n",
       "        vertical-align: middle;\n",
       "    }\n",
       "\n",
       "    .dataframe tbody tr th {\n",
       "        vertical-align: top;\n",
       "    }\n",
       "\n",
       "    .dataframe thead th {\n",
       "        text-align: right;\n",
       "    }\n",
       "</style>\n",
       "<table border=\"1\" class=\"dataframe\">\n",
       "  <thead>\n",
       "    <tr style=\"text-align: right;\">\n",
       "      <th></th>\n",
       "      <th>Gene_set</th>\n",
       "      <th>Term</th>\n",
       "      <th>Overlap</th>\n",
       "      <th>P-value</th>\n",
       "      <th>Adjusted P-value</th>\n",
       "      <th>Old P-value</th>\n",
       "      <th>Old Adjusted P-value</th>\n",
       "      <th>Odds Ratio</th>\n",
       "      <th>Combined Score</th>\n",
       "      <th>Genes</th>\n",
       "    </tr>\n",
       "  </thead>\n",
       "  <tbody>\n",
       "    <tr>\n",
       "      <th>0</th>\n",
       "      <td>KEGG_2016</td>\n",
       "      <td>Complement and coagulation cascades Homo sapie...</td>\n",
       "      <td>23/79</td>\n",
       "      <td>4.418972e-19</td>\n",
       "      <td>1.294759e-16</td>\n",
       "      <td>0</td>\n",
       "      <td>0</td>\n",
       "      <td>12.156127</td>\n",
       "      <td>513.756943</td>\n",
       "      <td>FGB;ITGAM;VWF;F10;SERPIND1;SERPINC1;PROS1;SERP...</td>\n",
       "    </tr>\n",
       "    <tr>\n",
       "      <th>1</th>\n",
       "      <td>KEGG_2016</td>\n",
       "      <td>Endocytosis Homo sapiens hsa04144</td>\n",
       "      <td>23/259</td>\n",
       "      <td>7.674406e-08</td>\n",
       "      <td>1.124300e-05</td>\n",
       "      <td>0</td>\n",
       "      <td>0</td>\n",
       "      <td>3.707853</td>\n",
       "      <td>60.744983</td>\n",
       "      <td>SH3GLB1;ARFGEF1;PRKCI;SMAD3;WIPF2;CAV1;VPS4B;P...</td>\n",
       "    </tr>\n",
       "    <tr>\n",
       "      <th>2</th>\n",
       "      <td>KEGG_2016</td>\n",
       "      <td>Regulation of actin cytoskeleton Homo sapiens ...</td>\n",
       "      <td>18/214</td>\n",
       "      <td>4.321598e-06</td>\n",
       "      <td>4.220761e-04</td>\n",
       "      <td>0</td>\n",
       "      <td>0</td>\n",
       "      <td>3.511990</td>\n",
       "      <td>43.379692</td>\n",
       "      <td>ITGB1;GSN;ITGAM;ITGB5;ITGA3;ITGB3;LIMK2;ARPC4;...</td>\n",
       "    </tr>\n",
       "    <tr>\n",
       "      <th>3</th>\n",
       "      <td>KEGG_2016</td>\n",
       "      <td>Platelet activation Homo sapiens hsa04611</td>\n",
       "      <td>13/122</td>\n",
       "      <td>7.419732e-06</td>\n",
       "      <td>5.434953e-04</td>\n",
       "      <td>0</td>\n",
       "      <td>0</td>\n",
       "      <td>4.449160</td>\n",
       "      <td>52.550662</td>\n",
       "      <td>VASP;ITGB1;FGB;PRKCI;VWF;ITGB3;PLA2G4A;ITPR3;R...</td>\n",
       "    </tr>\n",
       "    <tr>\n",
       "      <th>4</th>\n",
       "      <td>KEGG_2016</td>\n",
       "      <td>Fc gamma R-mediated phagocytosis Homo sapiens ...</td>\n",
       "      <td>11/93</td>\n",
       "      <td>1.378978e-05</td>\n",
       "      <td>8.080810e-04</td>\n",
       "      <td>0</td>\n",
       "      <td>0</td>\n",
       "      <td>4.938604</td>\n",
       "      <td>55.270798</td>\n",
       "      <td>VASP;HCK;GSN;FCGR2A;PRKCB;ARPC3;LIMK2;PLA2G4A;...</td>\n",
       "    </tr>\n",
       "  </tbody>\n",
       "</table>\n",
       "</div>"
      ],
      "text/plain": [
       "    Gene_set                                               Term Overlap  \\\n",
       "0  KEGG_2016  Complement and coagulation cascades Homo sapie...   23/79   \n",
       "1  KEGG_2016                  Endocytosis Homo sapiens hsa04144  23/259   \n",
       "2  KEGG_2016  Regulation of actin cytoskeleton Homo sapiens ...  18/214   \n",
       "3  KEGG_2016          Platelet activation Homo sapiens hsa04611  13/122   \n",
       "4  KEGG_2016  Fc gamma R-mediated phagocytosis Homo sapiens ...   11/93   \n",
       "\n",
       "        P-value  Adjusted P-value  Old P-value  Old Adjusted P-value  \\\n",
       "0  4.418972e-19      1.294759e-16            0                     0   \n",
       "1  7.674406e-08      1.124300e-05            0                     0   \n",
       "2  4.321598e-06      4.220761e-04            0                     0   \n",
       "3  7.419732e-06      5.434953e-04            0                     0   \n",
       "4  1.378978e-05      8.080810e-04            0                     0   \n",
       "\n",
       "   Odds Ratio  Combined Score  \\\n",
       "0   12.156127      513.756943   \n",
       "1    3.707853       60.744983   \n",
       "2    3.511990       43.379692   \n",
       "3    4.449160       52.550662   \n",
       "4    4.938604       55.270798   \n",
       "\n",
       "                                               Genes  \n",
       "0  FGB;ITGAM;VWF;F10;SERPIND1;SERPINC1;PROS1;SERP...  \n",
       "1  SH3GLB1;ARFGEF1;PRKCI;SMAD3;WIPF2;CAV1;VPS4B;P...  \n",
       "2  ITGB1;GSN;ITGAM;ITGB5;ITGA3;ITGB3;LIMK2;ARPC4;...  \n",
       "3  VASP;ITGB1;FGB;PRKCI;VWF;ITGB3;PLA2G4A;ITPR3;R...  \n",
       "4  VASP;HCK;GSN;FCGR2A;PRKCB;ARPC3;LIMK2;PLA2G4A;...  "
      ]
     },
     "execution_count": 44,
     "metadata": {},
     "output_type": "execute_result"
    }
   ],
   "source": [
    "tumor_enr.res2d.head()"
   ]
  },
  {
   "cell_type": "code",
   "execution_count": 45,
   "metadata": {},
   "outputs": [
    {
     "data": {
      "text/plain": [
       "'ITGB1;GSN;ITGAM;ITGB5;ITGA3;ITGB3;LIMK2;ARPC4;ARPC5;F2;BAIAP2;ARHGAP35;NRAS;DIAPH2;ARPC3;ARHGEF1;PFN1;VCL'"
      ]
     },
     "execution_count": 45,
     "metadata": {},
     "output_type": "execute_result"
    }
   ],
   "source": [
    "enrich_df = tumor_enr.res2d\n",
    "complement_genes = enrich_df.iloc[0,9]\n",
    "complement_genes\n",
    "\n",
    "Endocytosis_genes= enrich_df.iloc[1,9]\n",
    "Endocytosis_genes\n",
    "\n",
    "Actin_genes = enrich_df.iloc[2,9]\n",
    "Actin_genes\n",
    "\n"
   ]
  },
  {
   "cell_type": "code",
   "execution_count": 8,
   "metadata": {},
   "outputs": [],
   "source": [
    "\n",
    "tumor_enr = gp.enrichr(gene_list = pos_neg_genes, description='Tumor_partition', gene_sets='Reactome_2016', \n",
    "                       outdir='test/enrichr_reactome')"
   ]
  },
  {
   "cell_type": "code",
   "execution_count": 11,
   "metadata": {},
   "outputs": [
    {
     "data": {
      "text/html": [
       "<div>\n",
       "<style scoped>\n",
       "    .dataframe tbody tr th:only-of-type {\n",
       "        vertical-align: middle;\n",
       "    }\n",
       "\n",
       "    .dataframe tbody tr th {\n",
       "        vertical-align: top;\n",
       "    }\n",
       "\n",
       "    .dataframe thead th {\n",
       "        text-align: right;\n",
       "    }\n",
       "</style>\n",
       "<table border=\"1\" class=\"dataframe\">\n",
       "  <thead>\n",
       "    <tr style=\"text-align: right;\">\n",
       "      <th></th>\n",
       "      <th>Gene_set</th>\n",
       "      <th>Term</th>\n",
       "      <th>Overlap</th>\n",
       "      <th>P-value</th>\n",
       "      <th>Adjusted P-value</th>\n",
       "      <th>Old P-value</th>\n",
       "      <th>Old Adjusted P-value</th>\n",
       "      <th>Odds Ratio</th>\n",
       "      <th>Combined Score</th>\n",
       "      <th>Genes</th>\n",
       "    </tr>\n",
       "  </thead>\n",
       "  <tbody>\n",
       "    <tr>\n",
       "      <th>0</th>\n",
       "      <td>Reactome_2016</td>\n",
       "      <td>Hemostasis Homo sapiens R-HSA-109582</td>\n",
       "      <td>43/552</td>\n",
       "      <td>1.158587e-11</td>\n",
       "      <td>1.772638e-08</td>\n",
       "      <td>0</td>\n",
       "      <td>0</td>\n",
       "      <td>3.252549</td>\n",
       "      <td>81.903202</td>\n",
       "      <td>ITGB1;ITIH4;ITGAM;SERPINC1;DGKB;DGKA;PROS1;ITG...</td>\n",
       "    </tr>\n",
       "    <tr>\n",
       "      <th>1</th>\n",
       "      <td>Reactome_2016</td>\n",
       "      <td>Formation of Fibrin Clot (Clotting Cascade) Ho...</td>\n",
       "      <td>12/39</td>\n",
       "      <td>6.754022e-11</td>\n",
       "      <td>5.166827e-08</td>\n",
       "      <td>0</td>\n",
       "      <td>0</td>\n",
       "      <td>12.847278</td>\n",
       "      <td>300.861383</td>\n",
       "      <td>FGB;PROCR;PROC;VWF;F10;SERPIND1;SERPINC1;PROS1...</td>\n",
       "    </tr>\n",
       "    <tr>\n",
       "      <th>2</th>\n",
       "      <td>Reactome_2016</td>\n",
       "      <td>Immune System Homo sapiens R-HSA-168256</td>\n",
       "      <td>77/1547</td>\n",
       "      <td>5.837734e-10</td>\n",
       "      <td>2.977244e-07</td>\n",
       "      <td>0</td>\n",
       "      <td>0</td>\n",
       "      <td>2.078236</td>\n",
       "      <td>44.186435</td>\n",
       "      <td>ITGB1;LRSAM1;ITGAM;AHCYL1;ITGB5;PROS1;WIPF2;IT...</td>\n",
       "    </tr>\n",
       "    <tr>\n",
       "      <th>3</th>\n",
       "      <td>Reactome_2016</td>\n",
       "      <td>Intrinsic Pathway of Fibrin Clot Formation Hom...</td>\n",
       "      <td>9/22</td>\n",
       "      <td>9.072196e-10</td>\n",
       "      <td>3.470115e-07</td>\n",
       "      <td>0</td>\n",
       "      <td>0</td>\n",
       "      <td>17.081040</td>\n",
       "      <td>355.638126</td>\n",
       "      <td>PROC;VWF;F10;SERPIND1;SERPINC1;F2;A2M;KLKB1;KNG1</td>\n",
       "    </tr>\n",
       "    <tr>\n",
       "      <th>4</th>\n",
       "      <td>Reactome_2016</td>\n",
       "      <td>Innate Immune System Homo sapiens R-HSA-168249</td>\n",
       "      <td>48/807</td>\n",
       "      <td>6.870636e-09</td>\n",
       "      <td>2.102415e-06</td>\n",
       "      <td>0</td>\n",
       "      <td>0</td>\n",
       "      <td>2.483489</td>\n",
       "      <td>46.679676</td>\n",
       "      <td>ITGAM;AHCYL1;UBA7;PROS1;WIPF2;ITGB3;ICAM3;ITPR...</td>\n",
       "    </tr>\n",
       "    <tr>\n",
       "      <th>5</th>\n",
       "      <td>Reactome_2016</td>\n",
       "      <td>Platelet activation, signaling and aggregation...</td>\n",
       "      <td>24/253</td>\n",
       "      <td>1.115108e-08</td>\n",
       "      <td>2.843526e-06</td>\n",
       "      <td>0</td>\n",
       "      <td>0</td>\n",
       "      <td>3.960821</td>\n",
       "      <td>72.529480</td>\n",
       "      <td>FGB;ITIH4;VWF;PRKCB;DGKB;DGKA;PROS1;ITGB3;SERP...</td>\n",
       "    </tr>\n",
       "    <tr>\n",
       "      <th>6</th>\n",
       "      <td>Reactome_2016</td>\n",
       "      <td>Common Pathway of Fibrin Clot Formation Homo s...</td>\n",
       "      <td>8/22</td>\n",
       "      <td>2.431173e-08</td>\n",
       "      <td>5.313849e-06</td>\n",
       "      <td>0</td>\n",
       "      <td>0</td>\n",
       "      <td>15.183147</td>\n",
       "      <td>266.195590</td>\n",
       "      <td>FGB;PROCR;PROC;F10;SERPIND1;SERPINC1;PROS1;F2</td>\n",
       "    </tr>\n",
       "    <tr>\n",
       "      <th>7</th>\n",
       "      <td>Reactome_2016</td>\n",
       "      <td>Response to elevated platelet cytosolic Ca2+ H...</td>\n",
       "      <td>15/110</td>\n",
       "      <td>5.755021e-08</td>\n",
       "      <td>1.100648e-05</td>\n",
       "      <td>0</td>\n",
       "      <td>0</td>\n",
       "      <td>5.693680</td>\n",
       "      <td>94.917108</td>\n",
       "      <td>FGB;ITIH4;VWF;PRKCB;PROS1;ITGB3;SERPINE1;A1BG;...</td>\n",
       "    </tr>\n",
       "    <tr>\n",
       "      <th>8</th>\n",
       "      <td>Reactome_2016</td>\n",
       "      <td>Regulation of Complement cascade Homo sapiens ...</td>\n",
       "      <td>8/26</td>\n",
       "      <td>1.091723e-07</td>\n",
       "      <td>1.855928e-05</td>\n",
       "      <td>0</td>\n",
       "      <td>0</td>\n",
       "      <td>12.847278</td>\n",
       "      <td>205.946219</td>\n",
       "      <td>C3;C5;C8G;C6;PROS1;C8A;CFB;C2</td>\n",
       "    </tr>\n",
       "    <tr>\n",
       "      <th>9</th>\n",
       "      <td>Reactome_2016</td>\n",
       "      <td>Platelet degranulation Homo sapiens R-HSA-114608</td>\n",
       "      <td>14/105</td>\n",
       "      <td>2.119555e-07</td>\n",
       "      <td>3.242919e-05</td>\n",
       "      <td>0</td>\n",
       "      <td>0</td>\n",
       "      <td>5.567154</td>\n",
       "      <td>85.549837</td>\n",
       "      <td>FGB;ITIH4;VWF;PROS1;ITGB3;SERPINE1;A1BG;CLU;KN...</td>\n",
       "    </tr>\n",
       "  </tbody>\n",
       "</table>\n",
       "</div>"
      ],
      "text/plain": [
       "        Gene_set                                               Term  Overlap  \\\n",
       "0  Reactome_2016               Hemostasis Homo sapiens R-HSA-109582   43/552   \n",
       "1  Reactome_2016  Formation of Fibrin Clot (Clotting Cascade) Ho...    12/39   \n",
       "2  Reactome_2016            Immune System Homo sapiens R-HSA-168256  77/1547   \n",
       "3  Reactome_2016  Intrinsic Pathway of Fibrin Clot Formation Hom...     9/22   \n",
       "4  Reactome_2016     Innate Immune System Homo sapiens R-HSA-168249   48/807   \n",
       "5  Reactome_2016  Platelet activation, signaling and aggregation...   24/253   \n",
       "6  Reactome_2016  Common Pathway of Fibrin Clot Formation Homo s...     8/22   \n",
       "7  Reactome_2016  Response to elevated platelet cytosolic Ca2+ H...   15/110   \n",
       "8  Reactome_2016  Regulation of Complement cascade Homo sapiens ...     8/26   \n",
       "9  Reactome_2016   Platelet degranulation Homo sapiens R-HSA-114608   14/105   \n",
       "\n",
       "        P-value  Adjusted P-value  Old P-value  Old Adjusted P-value  \\\n",
       "0  1.158587e-11      1.772638e-08            0                     0   \n",
       "1  6.754022e-11      5.166827e-08            0                     0   \n",
       "2  5.837734e-10      2.977244e-07            0                     0   \n",
       "3  9.072196e-10      3.470115e-07            0                     0   \n",
       "4  6.870636e-09      2.102415e-06            0                     0   \n",
       "5  1.115108e-08      2.843526e-06            0                     0   \n",
       "6  2.431173e-08      5.313849e-06            0                     0   \n",
       "7  5.755021e-08      1.100648e-05            0                     0   \n",
       "8  1.091723e-07      1.855928e-05            0                     0   \n",
       "9  2.119555e-07      3.242919e-05            0                     0   \n",
       "\n",
       "   Odds Ratio  Combined Score  \\\n",
       "0    3.252549       81.903202   \n",
       "1   12.847278      300.861383   \n",
       "2    2.078236       44.186435   \n",
       "3   17.081040      355.638126   \n",
       "4    2.483489       46.679676   \n",
       "5    3.960821       72.529480   \n",
       "6   15.183147      266.195590   \n",
       "7    5.693680       94.917108   \n",
       "8   12.847278      205.946219   \n",
       "9    5.567154       85.549837   \n",
       "\n",
       "                                               Genes  \n",
       "0  ITGB1;ITIH4;ITGAM;SERPINC1;DGKB;DGKA;PROS1;ITG...  \n",
       "1  FGB;PROCR;PROC;VWF;F10;SERPIND1;SERPINC1;PROS1...  \n",
       "2  ITGB1;LRSAM1;ITGAM;AHCYL1;ITGB5;PROS1;WIPF2;IT...  \n",
       "3   PROC;VWF;F10;SERPIND1;SERPINC1;F2;A2M;KLKB1;KNG1  \n",
       "4  ITGAM;AHCYL1;UBA7;PROS1;WIPF2;ITGB3;ICAM3;ITPR...  \n",
       "5  FGB;ITIH4;VWF;PRKCB;DGKB;DGKA;PROS1;ITGB3;SERP...  \n",
       "6      FGB;PROCR;PROC;F10;SERPIND1;SERPINC1;PROS1;F2  \n",
       "7  FGB;ITIH4;VWF;PRKCB;PROS1;ITGB3;SERPINE1;A1BG;...  \n",
       "8                      C3;C5;C8G;C6;PROS1;C8A;CFB;C2  \n",
       "9  FGB;ITIH4;VWF;PROS1;ITGB3;SERPINE1;A1BG;CLU;KN...  "
      ]
     },
     "execution_count": 11,
     "metadata": {},
     "output_type": "execute_result"
    }
   ],
   "source": [
    "tumor_enr.res2d.head(10)"
   ]
  },
  {
   "cell_type": "code",
   "execution_count": 12,
   "metadata": {},
   "outputs": [
    {
     "data": {
      "text/plain": [
       "'ITGB1;LRSAM1;ITGAM;AHCYL1;ITGB5;PROS1;WIPF2;ITGB3;NCF4;ICAM3;PTPRJ;IFI30;CLU;C8A;PVR;PSTPIP1;ACTR1A;C8G;CASP10;MRC1;FBXO6;LBP;KPNA3;CTSC;CTSB;FGB;ACTR2;CXADR;VWF;PRKCB;PPP2R5A;IL16;GFRA1;CYBA;TMEM173;APBB1IP;HCK;KIT;RAPGEF2;BPI;CFB;VCL;TLR2;UBA7;ITPR3;BCL10;RASAL3;RASGRP2;MALT1;C2;C3;C5;NRAS;C6;ERBB3;STAT6;FLNB;GBP4;AP1M2;LAIR1;VASP;ARPC4;ARPC5;BAIAP2;LILRB4;NFKB2;ISG20;FCGR2A;ARPC3;NEDD4;CAPZA1;REL;STUB1;FCGR2B;PIK3AP1;PTPN2;LGMN'"
      ]
     },
     "execution_count": 12,
     "metadata": {},
     "output_type": "execute_result"
    }
   ],
   "source": [
    "enrich_df = tumor_enr.res2d\n",
    "hemostasis_genes = enrich_df.iloc[0,9]\n",
    "immune_system = enrich_df.iloc[2,9]\n",
    "immune_system"
   ]
  },
  {
   "cell_type": "markdown",
   "metadata": {},
   "source": [
    "# Enrichment Analysis all prot "
   ]
  },
  {
   "cell_type": "code",
   "execution_count": null,
   "metadata": {},
   "outputs": [],
   "source": []
  },
  {
   "cell_type": "markdown",
   "metadata": {},
   "source": [
    "Now download data frame for proteins same correlation pattern across cancers (atleast 2 sig). Follow same pattern as above"
   ]
  },
  {
   "cell_type": "code",
   "execution_count": 34,
   "metadata": {},
   "outputs": [],
   "source": [
    "df = pd.read_csv(\"../Step3.3_Pos_Neg_Correlation_patterns/csv_files/pancan_EGFR_all_FDR_atleast2_same_corr.csv\")\n",
    "df = df.set_index('Comparison')\n",
    "df1_transposed = df.T \n",
    "FDR_atleast2= df1_transposed.columns.values.tolist()"
   ]
  },
  {
   "cell_type": "code",
   "execution_count": 35,
   "metadata": {},
   "outputs": [
    {
     "data": {
      "text/plain": [
       "731"
      ]
     },
     "execution_count": 35,
     "metadata": {},
     "output_type": "execute_result"
    }
   ],
   "source": [
    "atleast2_sig = []\n",
    "for gene in FDR_atleast2:\n",
    "    atleast2_sig.append((re.sub(\"_proteomics\", \"\", gene)))\n",
    "len(atleast2_sig)"
   ]
  },
  {
   "cell_type": "code",
   "execution_count": 36,
   "metadata": {},
   "outputs": [],
   "source": [
    "\n",
    "tumor_enr = gp.enrichr(gene_list = atleast2_sig, description='Tumor_partition', gene_sets='KEGG_2016', \n",
    "                       outdir='test/enrichr_kegg')"
   ]
  },
  {
   "cell_type": "code",
   "execution_count": 37,
   "metadata": {},
   "outputs": [
    {
     "data": {
      "text/html": [
       "<div>\n",
       "<style scoped>\n",
       "    .dataframe tbody tr th:only-of-type {\n",
       "        vertical-align: middle;\n",
       "    }\n",
       "\n",
       "    .dataframe tbody tr th {\n",
       "        vertical-align: top;\n",
       "    }\n",
       "\n",
       "    .dataframe thead th {\n",
       "        text-align: right;\n",
       "    }\n",
       "</style>\n",
       "<table border=\"1\" class=\"dataframe\">\n",
       "  <thead>\n",
       "    <tr style=\"text-align: right;\">\n",
       "      <th></th>\n",
       "      <th>Gene_set</th>\n",
       "      <th>Term</th>\n",
       "      <th>Overlap</th>\n",
       "      <th>P-value</th>\n",
       "      <th>Adjusted P-value</th>\n",
       "      <th>Old P-value</th>\n",
       "      <th>Old Adjusted P-value</th>\n",
       "      <th>Odds Ratio</th>\n",
       "      <th>Combined Score</th>\n",
       "      <th>Genes</th>\n",
       "    </tr>\n",
       "  </thead>\n",
       "  <tbody>\n",
       "    <tr>\n",
       "      <th>0</th>\n",
       "      <td>KEGG_2016</td>\n",
       "      <td>T cell receptor signaling pathway Homo sapiens...</td>\n",
       "      <td>18/104</td>\n",
       "      <td>3.843089e-08</td>\n",
       "      <td>0.000011</td>\n",
       "      <td>0</td>\n",
       "      <td>0</td>\n",
       "      <td>4.735347</td>\n",
       "      <td>80.853225</td>\n",
       "      <td>JUN;NFATC2;PIK3CD;CD3G;PIK3CG;VAV1;MAPK13;ZAP7...</td>\n",
       "    </tr>\n",
       "    <tr>\n",
       "      <th>1</th>\n",
       "      <td>KEGG_2016</td>\n",
       "      <td>B cell receptor signaling pathway Homo sapiens...</td>\n",
       "      <td>15/73</td>\n",
       "      <td>4.867319e-08</td>\n",
       "      <td>0.000007</td>\n",
       "      <td>0</td>\n",
       "      <td>0</td>\n",
       "      <td>5.621873</td>\n",
       "      <td>94.661868</td>\n",
       "      <td>CR2;JUN;SYK;PIK3CD;NFATC2;PIK3CG;VAV1;PPP3CC;I...</td>\n",
       "    </tr>\n",
       "    <tr>\n",
       "      <th>2</th>\n",
       "      <td>KEGG_2016</td>\n",
       "      <td>Natural killer cell mediated cytotoxicity Homo...</td>\n",
       "      <td>20/135</td>\n",
       "      <td>1.017982e-07</td>\n",
       "      <td>0.000010</td>\n",
       "      <td>0</td>\n",
       "      <td>0</td>\n",
       "      <td>4.053301</td>\n",
       "      <td>65.259253</td>\n",
       "      <td>SYK;IFNGR1;SH2D1A;NFATC2;PIK3CD;ITGAL;PIK3CG;V...</td>\n",
       "    </tr>\n",
       "    <tr>\n",
       "      <th>3</th>\n",
       "      <td>KEGG_2016</td>\n",
       "      <td>Glycolysis / Gluconeogenesis Homo sapiens hsa0...</td>\n",
       "      <td>14/67</td>\n",
       "      <td>1.089237e-07</td>\n",
       "      <td>0.000008</td>\n",
       "      <td>0</td>\n",
       "      <td>0</td>\n",
       "      <td>5.716969</td>\n",
       "      <td>91.657983</td>\n",
       "      <td>GPI;ADH1C;ADH1B;ENO1;HK2;PKM;ALDH1B1;PGK1;ALDO...</td>\n",
       "    </tr>\n",
       "    <tr>\n",
       "      <th>4</th>\n",
       "      <td>KEGG_2016</td>\n",
       "      <td>Fc gamma R-mediated phagocytosis Homo sapiens ...</td>\n",
       "      <td>16/93</td>\n",
       "      <td>2.376797e-07</td>\n",
       "      <td>0.000014</td>\n",
       "      <td>0</td>\n",
       "      <td>0</td>\n",
       "      <td>4.707059</td>\n",
       "      <td>71.793675</td>\n",
       "      <td>NCF1;SYK;MYO10;SPHK1;WAS;PIK3CD;PLD1;PIK3CG;VA...</td>\n",
       "    </tr>\n",
       "  </tbody>\n",
       "</table>\n",
       "</div>"
      ],
      "text/plain": [
       "    Gene_set                                               Term Overlap  \\\n",
       "0  KEGG_2016  T cell receptor signaling pathway Homo sapiens...  18/104   \n",
       "1  KEGG_2016  B cell receptor signaling pathway Homo sapiens...   15/73   \n",
       "2  KEGG_2016  Natural killer cell mediated cytotoxicity Homo...  20/135   \n",
       "3  KEGG_2016  Glycolysis / Gluconeogenesis Homo sapiens hsa0...   14/67   \n",
       "4  KEGG_2016  Fc gamma R-mediated phagocytosis Homo sapiens ...   16/93   \n",
       "\n",
       "        P-value  Adjusted P-value  Old P-value  Old Adjusted P-value  \\\n",
       "0  3.843089e-08          0.000011            0                     0   \n",
       "1  4.867319e-08          0.000007            0                     0   \n",
       "2  1.017982e-07          0.000010            0                     0   \n",
       "3  1.089237e-07          0.000008            0                     0   \n",
       "4  2.376797e-07          0.000014            0                     0   \n",
       "\n",
       "   Odds Ratio  Combined Score  \\\n",
       "0    4.735347       80.853225   \n",
       "1    5.621873       94.661868   \n",
       "2    4.053301       65.259253   \n",
       "3    5.716969       91.657983   \n",
       "4    4.707059       71.793675   \n",
       "\n",
       "                                               Genes  \n",
       "0  JUN;NFATC2;PIK3CD;CD3G;PIK3CG;VAV1;MAPK13;ZAP7...  \n",
       "1  CR2;JUN;SYK;PIK3CD;NFATC2;PIK3CG;VAV1;PPP3CC;I...  \n",
       "2  SYK;IFNGR1;SH2D1A;NFATC2;PIK3CD;ITGAL;PIK3CG;V...  \n",
       "3  GPI;ADH1C;ADH1B;ENO1;HK2;PKM;ALDH1B1;PGK1;ALDO...  \n",
       "4  NCF1;SYK;MYO10;SPHK1;WAS;PIK3CD;PLD1;PIK3CG;VA...  "
      ]
     },
     "execution_count": 37,
     "metadata": {},
     "output_type": "execute_result"
    }
   ],
   "source": [
    "tumor_enr.res2d.head()"
   ]
  },
  {
   "cell_type": "code",
   "execution_count": 39,
   "metadata": {},
   "outputs": [
    {
     "data": {
      "text/plain": [
       "'JUN;NFATC2;PIK3CD;CD3G;PIK3CG;VAV1;MAPK13;ZAP70;CD4;PTPRC;PPP3CC;LCK;GRAP2;PRKCQ;GRB2;LCP2;PTPN6;CARD11'"
      ]
     },
     "execution_count": 39,
     "metadata": {},
     "output_type": "execute_result"
    }
   ],
   "source": [
    "enrich_df = tumor_enr.res2d\n",
    "\n",
    "T_cell_genes= enrich_df.iloc[0,9]\n",
    "T_cell_genes"
   ]
  },
  {
   "cell_type": "code",
   "execution_count": 40,
   "metadata": {},
   "outputs": [
    {
     "data": {
      "text/plain": [
       "'SYK;IFNGR1;SH2D1A;NFATC2;PIK3CD;ITGAL;PIK3CG;VAV1;ICAM1;ZAP70;FCGR3A;PPP3CC;LCK;PLCG2;RAC2;PTK2B;FAS;GRB2;LCP2;PTPN6'"
      ]
     },
     "execution_count": 40,
     "metadata": {},
     "output_type": "execute_result"
    }
   ],
   "source": [
    "Killer_T_cell_genes= enrich_df.iloc[2,9]\n",
    "Killer_T_cell_genes"
   ]
  },
  {
   "cell_type": "code",
   "execution_count": null,
   "metadata": {},
   "outputs": [],
   "source": []
  }
 ],
 "metadata": {
  "kernelspec": {
   "display_name": "Python 3",
   "language": "python",
   "name": "python3"
  },
  "language_info": {
   "codemirror_mode": {
    "name": "ipython",
    "version": 3
   },
   "file_extension": ".py",
   "mimetype": "text/x-python",
   "name": "python",
   "nbconvert_exporter": "python",
   "pygments_lexer": "ipython3",
   "version": "3.7.3"
  }
 },
 "nbformat": 4,
 "nbformat_minor": 2
}
