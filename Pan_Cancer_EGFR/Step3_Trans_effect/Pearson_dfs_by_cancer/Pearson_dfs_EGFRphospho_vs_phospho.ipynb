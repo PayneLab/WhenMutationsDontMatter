{
 "cells": [
  {
   "cell_type": "markdown",
   "metadata": {},
   "source": [
    "# Pearson Dfs EGFR phospho sites vs all phospho sites"
   ]
  },
  {
   "cell_type": "markdown",
   "metadata": {},
   "source": [
    "This notebooks makes df for each cancer type that compares an EGFR phospho site against all phospho sites. (returns all)"
   ]
  },
  {
   "cell_type": "code",
   "execution_count": 10,
   "metadata": {},
   "outputs": [],
   "source": [
    "import pandas as pd\n",
    "import numpy as np\n",
    "import seaborn as sns\n",
    "import matplotlib.pyplot as plt\n",
    "import scipy.stats\n",
    "import re\n",
    "import sys \n",
    "import statsmodels.stats.multitest\n",
    "\n",
    "\n",
    "import cptac\n",
    "import cptac.utils as u\n",
    "import plot_utils as p\n"
   ]
  },
  {
   "cell_type": "code",
   "execution_count": 2,
   "metadata": {},
   "outputs": [],
   "source": [
    "\n",
    "'''\n",
    "@Param df: Dataframe. Contains numeric values (such as proteomics) for linear regression\n",
    "@Param label_column: String. Name of column that will be your x axis and will be compared to all values in df unless otherwise specified. \n",
    "@Param alpha: significant level\n",
    "@Param comparison_columns: columns that will be looped through and used as y axis for linear regression. \n",
    "All other columns beside label column unless specified here. \n",
    "@Param correction_method: String. Specifies method of adjustment for multiple testing. See -\n",
    "https://www.statsmodels.org/stable/generated/statsmodels.stats.multitest.multipletests.html\n",
    "    - for documentation and available methods.\n",
    "\n",
    "This function will return a data frame will all significant linear regressions. The data frame includes the comparison, slope, R-squared, and P-value. \n",
    "'''\n",
    "def wrap_lin_regression(df,label_column, alpha=.05,comparison_columns=None,correction_method='bonferroni',return_all = True):\n",
    "    \n",
    "\n",
    "    \n",
    "    '''If no comparison columns specified, use all columns except the specified labed column'''\n",
    "    if not comparison_columns:\n",
    "        comparison_columns = list(df.columns)\n",
    "        comparison_columns.remove(label_column)\n",
    "    '''Store comparisons,p-values, correlation in their own array'''\n",
    "    comparisons = []\n",
    "    pvals = []\n",
    "    correlation=[]\n",
    "    \n",
    "    \n",
    "    '''Format results in a pandas dataframe'''\n",
    "    newdf = pd.DataFrame(columns=['Comparison','Correlation','P_value'])\n",
    "    for inter_gene in comparison_columns:\n",
    "        #create subset df with interacting gene/ gene (otherwise drop NaN drops everything)\n",
    "        df_subset = df[[label_column,inter_gene]]\n",
    "        #do a linear regression to see if it's a meaningful association\n",
    "        #dropna will remove rows with nan\n",
    "        df_subset = df_subset.dropna(axis=0, how=\"any\")\n",
    "        count_row = df_subset.shape[0]\n",
    "        if count_row > 20:\n",
    "            x1 = df_subset[[label_column]].values\n",
    "            y1 = df_subset[[inter_gene]].values\n",
    "            x1 = x1[:,0]\n",
    "            y1 = y1[:,0]\n",
    "\n",
    "            #slope, intercept, r_value, p_value, std_err = scipy.stats.linregress(x1,y1)\n",
    "            corr, pval = scipy.stats.pearsonr(x1,y1)\n",
    "\n",
    "            comparisons.append(inter_gene)\n",
    "            pvals.append(pval)\n",
    "            correlation.append(corr)\n",
    "            #slope_val.append(slope)\n",
    "        \n",
    "    '''Correct for multiple testing to determine if each comparison meets the new cutoff'''\n",
    "    results = statsmodels.stats.multitest.multipletests(pvals=pvals, alpha=alpha, method=correction_method)\n",
    "    reject = results[0]\n",
    "        \n",
    "    if return_all:\n",
    "        for i in range(0,len(comparisons)):\n",
    "            newdf = newdf.append({'Comparison': comparisons[i],\"Correlation\": correlation[i],'P_value': pvals[i]}, ignore_index=True)\n",
    "        \n",
    "    '''Else only add significant comparisons'''\n",
    "    if (return_all == False):\n",
    "            for i in range(0, len(reject)):\n",
    "                if reject[i]:\n",
    "                    newdf = newdf.append({'Comparison': comparisons[i],\"Slope\": slope_val[i], 'R_squared': r_squared[i], 'P_value': pvals[i]}, ignore_index=True)\n",
    "                    \n",
    "    '''Sort dataframe by ascending p-value'''\n",
    "    newdf = newdf.sort_values(by='P_value', ascending=True)\n",
    "    '''If results df is not empty, return it, else return None'''\n",
    "    return newdf\n",
    "\n",
    "\n",
    "\n",
    "       \n",
    "       "
   ]
  },
  {
   "cell_type": "code",
   "execution_count": 2,
   "metadata": {},
   "outputs": [],
   "source": [
    "def get_phospho_sites(df):\n",
    "    phospho_sites = df.columns.values.tolist()\n",
    "    phospho_sites.remove('EGFR_Mutation_')\n",
    "    phospho_sites.remove('EGFR_Location_')\n",
    "    phospho_sites.remove('EGFR_Mutation_Status_')\n",
    "    phospho_sites.remove('Sample_Status_')\n",
    "    return phospho_sites \n"
   ]
  },
  {
   "cell_type": "code",
   "execution_count": 3,
   "metadata": {},
   "outputs": [
    {
     "name": "stdout",
     "output_type": "stream",
     "text": [
      "Checking that ccrcc index is up-to-date...\r"
     ]
    },
    {
     "name": "stderr",
     "output_type": "stream",
     "text": [
      "cptac warning: The GBM dataset is under publication embargo until March 01, 2021. CPTAC is a community resource project and data are made available rapidly after generation for community research use. The embargo allows exploring and utilizing the data, but analysis may not be published until after the embargo date. Please see https://proteomics.cancer.gov/data-portal/about/data-use-agreement or enter cptac.embargo() to open the webpage for more details. (/Users/Lindsey/anaconda3/lib/python3.7/site-packages/ipykernel_launcher.py, line 2)\n"
     ]
    },
    {
     "name": "stdout",
     "output_type": "stream",
     "text": [
      "Checking that hnscc index is up-to-date...  \r"
     ]
    },
    {
     "name": "stderr",
     "output_type": "stream",
     "text": [
      "cptac warning: The LUAD dataset is under publication embargo until July 01, 2020. CPTAC is a community resource project and data are made available rapidly after generation for community research use. The embargo allows exploring and utilizing the data, but analysis may not be published until after the embargo date. Please see https://proteomics.cancer.gov/data-portal/about/data-use-agreement or enter cptac.embargo() to open the webpage for more details. (/Users/Lindsey/anaconda3/lib/python3.7/site-packages/ipykernel_launcher.py, line 7)\n"
     ]
    },
    {
     "name": "stdout",
     "output_type": "stream",
     "text": [
      "                                          \r"
     ]
    }
   ],
   "source": [
    "#load cptac data \n",
    "brain = cptac.Gbm()\n",
    "kidney = cptac.Ccrcc()\n",
    "Ovar = cptac.Ovarian()\n",
    "colon = cptac.Colon()\n",
    "brca = cptac.Brca()\n",
    "luad = cptac.Luad()\n",
    "Hnscc = cptac.Hnscc()\n",
    "Lscc = cptac.Lscc()"
   ]
  },
  {
   "cell_type": "markdown",
   "metadata": {},
   "source": [
    "# Step 1 Make data frame "
   ]
  },
  {
   "cell_type": "markdown",
   "metadata": {},
   "source": [
    "For each cancer, get phosphoproteomic and mutation data. Drop extra multi-index levels. Merge levels to have column names include gene and phospho site "
   ]
  },
  {
   "cell_type": "markdown",
   "metadata": {},
   "source": [
    "# Step 2 Get Phospho Sites"
   ]
  },
  {
   "cell_type": "markdown",
   "metadata": {},
   "source": [
    "For each cancer, get phospho sites by using get_phospho_sites function. Function extracts column names and deletes unnecessary columns. It returns list of phospho sites. "
   ]
  },
  {
   "cell_type": "markdown",
   "metadata": {},
   "source": [
    "# Step 3 Run Pearson Correlation Function"
   ]
  },
  {
   "cell_type": "markdown",
   "metadata": {},
   "source": [
    "Run correlation function and compare EGFR phospho site to all phospho sites. Save df as csv file. "
   ]
  },
  {
   "cell_type": "markdown",
   "metadata": {},
   "source": [
    "# GBM"
   ]
  },
  {
   "cell_type": "code",
   "execution_count": 4,
   "metadata": {},
   "outputs": [
    {
     "name": "stderr",
     "output_type": "stream",
     "text": [
      "cptac warning: In joining the somatic_mutation table, no mutations were found for the following samples, so they were filled with Wildtype_Tumor or Wildtype_Normal: 93 samples for the EGFR gene (/Users/Lindsey/anaconda3/lib/python3.7/site-packages/ipykernel_launcher.py, line 1)\n"
     ]
    }
   ],
   "source": [
    "df1 = brain.join_omics_to_mutations(omics_df_name=\"phosphoproteomics\", mutations_genes=\"EGFR\")\n",
    "df1.columns = df1.columns.droplevel(2)\n",
    "df1.columns = df1.columns.droplevel(2)\n",
    "df1.columns =df1.columns.map('_'.join)\n",
    "phosphoprot = df1.loc[df1['Sample_Status_'] == \"Tumor\"]"
   ]
  },
  {
   "cell_type": "code",
   "execution_count": 5,
   "metadata": {},
   "outputs": [],
   "source": [
    "phospho_sites = get_phospho_sites(phosphoprot)"
   ]
  },
  {
   "cell_type": "code",
   "execution_count": 8,
   "metadata": {},
   "outputs": [
    {
     "ename": "AttributeError",
     "evalue": "module 'plot_utils' has no attribute 'wrap_pearson_corr'",
     "output_type": "error",
     "traceback": [
      "\u001b[0;31m---------------------------------------------------------------------------\u001b[0m",
      "\u001b[0;31mAttributeError\u001b[0m                            Traceback (most recent call last)",
      "\u001b[0;32m<ipython-input-8-f2e66d0f4dbd>\u001b[0m in \u001b[0;36m<module>\u001b[0;34m\u001b[0m\n\u001b[0;32m----> 1\u001b[0;31m \u001b[0mdf\u001b[0m \u001b[0;34m=\u001b[0m\u001b[0;34m(\u001b[0m\u001b[0mp\u001b[0m\u001b[0;34m.\u001b[0m\u001b[0mwrap_pearson_corr\u001b[0m\u001b[0;34m(\u001b[0m\u001b[0mphosphoprot\u001b[0m\u001b[0;34m,\u001b[0m\u001b[0;34m\"EGFR_phosphoproteomics_Y1197\"\u001b[0m\u001b[0;34m,\u001b[0m\u001b[0mcomparison_columns\u001b[0m \u001b[0;34m=\u001b[0m \u001b[0mphospho_sites\u001b[0m\u001b[0;34m,\u001b[0m \u001b[0mreturn_all\u001b[0m \u001b[0;34m=\u001b[0m \u001b[0;32mTrue\u001b[0m\u001b[0;34m)\u001b[0m\u001b[0;34m)\u001b[0m\u001b[0;34m\u001b[0m\u001b[0;34m\u001b[0m\u001b[0m\n\u001b[0m\u001b[1;32m      2\u001b[0m \u001b[0mdf\u001b[0m\u001b[0;34m[\u001b[0m\u001b[0;34m'Cancer Type'\u001b[0m\u001b[0;34m]\u001b[0m\u001b[0;34m=\u001b[0m\u001b[0;34m'GBM'\u001b[0m\u001b[0;34m\u001b[0m\u001b[0;34m\u001b[0m\u001b[0m\n\u001b[1;32m      3\u001b[0m \u001b[0mdf\u001b[0m\u001b[0;34m.\u001b[0m\u001b[0mto_csv\u001b[0m\u001b[0;34m(\u001b[0m\u001b[0;34m\"csv_files/GBM_EGFR_Y1197_phospho.csv\"\u001b[0m\u001b[0;34m)\u001b[0m\u001b[0;34m\u001b[0m\u001b[0;34m\u001b[0m\u001b[0m\n\u001b[1;32m      4\u001b[0m \u001b[0mdf\u001b[0m\u001b[0;34m\u001b[0m\u001b[0;34m\u001b[0m\u001b[0m\n",
      "\u001b[0;31mAttributeError\u001b[0m: module 'plot_utils' has no attribute 'wrap_pearson_corr'"
     ]
    }
   ],
   "source": [
    "df =(p.wrap_pearson_corr(phosphoprot,\"EGFR_phosphoproteomics_Y1197\",comparison_columns = phospho_sites, return_all = True))\n",
    "df['Cancer Type']='GBM'\n",
    "df.to_csv(\"csv_files/GBM_EGFR_Y1197_phospho.csv\")\n",
    "df"
   ]
  },
  {
   "cell_type": "markdown",
   "metadata": {},
   "source": [
    "# Kidney"
   ]
  },
  {
   "cell_type": "code",
   "execution_count": 8,
   "metadata": {},
   "outputs": [
    {
     "name": "stderr",
     "output_type": "stream",
     "text": [
      "cptac warning: In joining the somatic_mutation table, no mutations were found for the following samples, so they were filled with Wildtype_Tumor or Wildtype_Normal: 193 samples for the EGFR gene (/Users/Lindsey/anaconda3/lib/python3.7/site-packages/ipykernel_launcher.py, line 1)\n"
     ]
    }
   ],
   "source": [
    "df1 = kidney.join_omics_to_mutations(omics_df_name=\"phosphoproteomics\", mutations_genes=\"EGFR\")\n",
    "df1.columns = df1.columns.droplevel(2)\n",
    "df1.columns = df1.columns.droplevel(2)\n",
    "df1.columns =df1.columns.map('_'.join)\n",
    "phosphoprot = df1.loc[df1['Sample_Status_'] == \"Tumor\"]"
   ]
  },
  {
   "cell_type": "code",
   "execution_count": 9,
   "metadata": {},
   "outputs": [],
   "source": [
    "phospho_sites = get_phospho_sites(phosphoprot)"
   ]
  },
  {
   "cell_type": "code",
   "execution_count": 10,
   "metadata": {},
   "outputs": [
    {
     "ename": "NameError",
     "evalue": "name 'df3' is not defined",
     "output_type": "error",
     "traceback": [
      "\u001b[0;31m---------------------------------------------------------------------------\u001b[0m",
      "\u001b[0;31mNameError\u001b[0m                                 Traceback (most recent call last)",
      "\u001b[0;32m<ipython-input-10-c138536f5065>\u001b[0m in \u001b[0;36m<module>\u001b[0;34m\u001b[0m\n\u001b[0;32m----> 1\u001b[0;31m \u001b[0mdf\u001b[0m \u001b[0;34m=\u001b[0m\u001b[0;34m(\u001b[0m\u001b[0mwrap_lin_regression\u001b[0m\u001b[0;34m(\u001b[0m\u001b[0mdf3\u001b[0m\u001b[0;34m,\u001b[0m\u001b[0;34m\"EGFR_phosphoproteomics_Y1144\"\u001b[0m\u001b[0;34m,\u001b[0m\u001b[0mcomparison_columns\u001b[0m \u001b[0;34m=\u001b[0m \u001b[0mphospho_sites\u001b[0m\u001b[0;34m,\u001b[0m \u001b[0mreturn_all\u001b[0m \u001b[0;34m=\u001b[0m \u001b[0;32mTrue\u001b[0m\u001b[0;34m)\u001b[0m\u001b[0;34m)\u001b[0m\u001b[0;34m\u001b[0m\u001b[0;34m\u001b[0m\u001b[0m\n\u001b[0m\u001b[1;32m      2\u001b[0m \u001b[0mdf\u001b[0m\u001b[0;34m[\u001b[0m\u001b[0;34m'Cancer Type'\u001b[0m\u001b[0;34m]\u001b[0m\u001b[0;34m=\u001b[0m\u001b[0;34m'Kidney'\u001b[0m\u001b[0;34m\u001b[0m\u001b[0;34m\u001b[0m\u001b[0m\n\u001b[1;32m      3\u001b[0m \u001b[0mdf\u001b[0m\u001b[0;34m.\u001b[0m\u001b[0mto_csv\u001b[0m\u001b[0;34m(\u001b[0m\u001b[0;34m\"csv_files/Kidney_EGFR_Y1144_phospho.csv\"\u001b[0m\u001b[0;34m)\u001b[0m\u001b[0;34m\u001b[0m\u001b[0;34m\u001b[0m\u001b[0m\n",
      "\u001b[0;31mNameError\u001b[0m: name 'df3' is not defined"
     ]
    }
   ],
   "source": [
    "df =(wrap_lin_regression(df3,\"EGFR_phosphoproteomics_Y1144\",comparison_columns = phospho_sites, return_all = True))\n",
    "df['Cancer Type']='Kidney'\n",
    "df.to_csv(\"csv_files/Kidney_EGFR_Y1144_phospho.csv\")"
   ]
  },
  {
   "cell_type": "markdown",
   "metadata": {},
   "source": [
    "# Ovarian "
   ]
  },
  {
   "cell_type": "code",
   "execution_count": null,
   "metadata": {},
   "outputs": [],
   "source": [
    "df1 = Ovar.join_omics_to_mutations(omics_df_name=\"phosphoproteomics\", mutations_genes=\"EGFR\")\n",
    "df1.columns = df1.columns.droplevel(2)\n",
    "df1.columns = df1.columns.droplevel(2)\n",
    "df1.columns =df1.columns.map('_'.join)\n",
    "phosphoprot = df1.loc[df1['Sample_Status_'] == \"Tumor\"]"
   ]
  },
  {
   "cell_type": "code",
   "execution_count": null,
   "metadata": {},
   "outputs": [],
   "source": [
    "phospho_sites = get_phospho_sites(phosphoprot)"
   ]
  },
  {
   "cell_type": "code",
   "execution_count": null,
   "metadata": {},
   "outputs": [],
   "source": [
    "df =(wrap_lin_regression(df3,\"EGFR_phosphoproteomics_Y1172\",comparison_columns = phospho_sites, return_all = True))\n",
    "df['Cancer Type']='Ovar'\n",
    "df.to_csv(\"csv_files/Ovar_EGFR_Y1172_phospho.csv\")\n"
   ]
  },
  {
   "cell_type": "markdown",
   "metadata": {},
   "source": [
    "# Colon"
   ]
  },
  {
   "cell_type": "code",
   "execution_count": null,
   "metadata": {},
   "outputs": [],
   "source": [
    "df1 = colon.join_omics_to_mutations(omics_df_name=\"phosphoproteomics\", mutations_genes=\"EGFR\")\n",
    "df1.columns = df1.columns.droplevel(2)\n",
    "df1.columns =df1.columns.map('_'.join)\n",
    "phosphoprot = df1.loc[df1['Sample_Status_'] == \"Tumor\"]"
   ]
  },
  {
   "cell_type": "code",
   "execution_count": null,
   "metadata": {},
   "outputs": [],
   "source": [
    "phospho_sites = get_phospho_sites(phosphoprot)\n"
   ]
  },
  {
   "cell_type": "code",
   "execution_count": null,
   "metadata": {},
   "outputs": [],
   "source": [
    "df =(wrap_lin_regression(phosphoprot,\"EGFR_phosphoproteomics_Y1092\",comparison_columns = phospho_sites, return_all = True))\n",
    "df['Cancer Type']='Colon'\n",
    "df.to_csv(\"csv_files/colon_EGFR_Y1092_phospho.csv\")\n",
    "\n"
   ]
  },
  {
   "cell_type": "markdown",
   "metadata": {},
   "source": [
    "# Brca "
   ]
  },
  {
   "cell_type": "code",
   "execution_count": null,
   "metadata": {},
   "outputs": [],
   "source": [
    "df1 = brca.join_omics_to_mutations(omics_df_name=\"phosphoproteomics\", mutations_genes=\"EGFR\")\n",
    "df1.columns = df1.columns.droplevel(2)\n",
    "df1.columns = df1.columns.droplevel(2)\n",
    "df1.columns =df1.columns.map('_'.join)\n",
    "phosphoprot= df1.loc[df1['Sample_Status_'] == \"Tumor\"]"
   ]
  },
  {
   "cell_type": "code",
   "execution_count": null,
   "metadata": {},
   "outputs": [],
   "source": [
    "phospho_sites = get_phospho_sites(phosphoprot)\n"
   ]
  },
  {
   "cell_type": "code",
   "execution_count": null,
   "metadata": {},
   "outputs": [],
   "source": [
    "phosphoprot.filter(like='EGFR_phosphoproteomics', axis=1)\n",
    "#no EGFR phospho Y data "
   ]
  },
  {
   "cell_type": "code",
   "execution_count": null,
   "metadata": {},
   "outputs": [],
   "source": []
  },
  {
   "cell_type": "markdown",
   "metadata": {},
   "source": [
    "# LUAD"
   ]
  },
  {
   "cell_type": "code",
   "execution_count": null,
   "metadata": {},
   "outputs": [],
   "source": [
    "df1 = luad.join_omics_to_mutations(omics_df_name=\"phosphoproteomics\", mutations_genes=\"EGFR\")\n",
    "df1.columns = df1.columns.droplevel(2)\n",
    "df1.columns = df1.columns.droplevel(2)\n",
    "df1.columns =df1.columns.map('_'.join)\n",
    "phosphoprot = df1.loc[df1['Sample_Status_'] == \"Tumor\"]"
   ]
  },
  {
   "cell_type": "code",
   "execution_count": null,
   "metadata": {},
   "outputs": [],
   "source": [
    "phospho_sites = get_phospho_sites(phosphoprot)"
   ]
  },
  {
   "cell_type": "code",
   "execution_count": null,
   "metadata": {},
   "outputs": [],
   "source": [
    "df =(wrap_lin_regression(phosphoprot,\"EGFR_phosphoproteomics_Y1197\",comparison_columns = phospho_sites, return_all = True))\n",
    "df['Cancer Type']='Luad'\n",
    "df.to_csv(\"csv_files/Luad_EGFR_Y1197_phospho.csv\")\n",
    "\n"
   ]
  },
  {
   "cell_type": "markdown",
   "metadata": {},
   "source": [
    "# HNSCC"
   ]
  },
  {
   "cell_type": "code",
   "execution_count": null,
   "metadata": {},
   "outputs": [],
   "source": [
    "df1 = Hnscc.join_omics_to_mutations(omics_df_name=\"phosphoproteomics\", mutations_genes=\"EGFR\")\n",
    "df1.columns = df1.columns.droplevel(2)\n",
    "df1.columns = df1.columns.droplevel(2)\n",
    "df1.columns =df1.columns.map('_'.join)\n",
    "phosphoprot = df1.loc[df1['Sample_Status_'] == \"Tumor\"]"
   ]
  },
  {
   "cell_type": "code",
   "execution_count": null,
   "metadata": {},
   "outputs": [],
   "source": [
    "phospho_sites = get_phospho_sites(phosphoprot)"
   ]
  },
  {
   "cell_type": "code",
   "execution_count": null,
   "metadata": {},
   "outputs": [],
   "source": [
    "df =(wrap_lin_regression(df3,\"EGFR_phosphoproteomics_Y1197\",comparison_columns = phospho_sites, return_all = True))\n",
    "df['Cancer Type']='Hnscc'\n",
    "df.to_csv(\"csv_files/Hnscc_EGFR_Y1197_phospho.csv\")"
   ]
  },
  {
   "cell_type": "markdown",
   "metadata": {},
   "source": [
    "# Lscc"
   ]
  },
  {
   "cell_type": "code",
   "execution_count": null,
   "metadata": {},
   "outputs": [],
   "source": [
    "df1 = Lscc.join_omics_to_mutations(omics_df_name=\"phosphoproteomics\", mutations_genes=\"EGFR\")\n",
    "df1.columns = df1.columns.droplevel(2)\n",
    "df1.columns = df1.columns.droplevel(2)\n",
    "df1.columns =df1.columns.map('_'.join)\n",
    "phosphoprot = df1.loc[df1['Sample_Status_'] == \"Tumor\"]\n"
   ]
  },
  {
   "cell_type": "code",
   "execution_count": null,
   "metadata": {},
   "outputs": [],
   "source": [
    "phospho_sites = get_phospho_sites(phosphoprot)"
   ]
  },
  {
   "cell_type": "code",
   "execution_count": null,
   "metadata": {},
   "outputs": [],
   "source": [
    "df =(wrap_lin_regression(df3,\"EGFR_phosphoproteomics_Y1197\",comparison_columns = phospho_sites, return_all = True))\n",
    "df['Cancer Type']='Lscc'\n",
    "df.to_csv(\"csv_files/Lscc_EGFR_Y1197_phospho.csv\")\n",
    "\n"
   ]
  },
  {
   "cell_type": "code",
   "execution_count": null,
   "metadata": {},
   "outputs": [],
   "source": []
  }
 ],
 "metadata": {
  "kernelspec": {
   "display_name": "Python 3",
   "language": "python",
   "name": "python3"
  },
  "language_info": {
   "codemirror_mode": {
    "name": "ipython",
    "version": 3
   },
   "file_extension": ".py",
   "mimetype": "text/x-python",
   "name": "python",
   "nbconvert_exporter": "python",
   "pygments_lexer": "ipython3",
   "version": "3.7.3"
  }
 },
 "nbformat": 4,
 "nbformat_minor": 2
}
