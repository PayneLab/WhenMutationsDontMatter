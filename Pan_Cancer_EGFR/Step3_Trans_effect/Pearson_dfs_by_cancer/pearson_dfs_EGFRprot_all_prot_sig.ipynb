{
 "cells": [
  {
   "cell_type": "markdown",
   "metadata": {},
   "source": [
    "# Pearson Dfs EGFR proteomics vs all proteins "
   ]
  },
  {
   "cell_type": "markdown",
   "metadata": {},
   "source": [
    "This notebook records the pearson correlation stats for EGFR proteomics vs all proteomics. It records only the bonferroni significant comparisons. "
   ]
  },
  {
   "cell_type": "code",
   "execution_count": 1,
   "metadata": {},
   "outputs": [
    {
     "name": "stderr",
     "output_type": "stream",
     "text": [
      "/Users/Lindsey/anaconda3/lib/python3.7/site-packages/statsmodels/tools/_testing.py:19: FutureWarning: pandas.util.testing is deprecated. Use the functions in the public API at pandas.testing instead.\n",
      "  import pandas.util.testing as tm\n"
     ]
    }
   ],
   "source": [
    "import pandas as pd\n",
    "import numpy as np\n",
    "import seaborn as sns\n",
    "import matplotlib.pyplot as plt\n",
    "import scipy.stats\n",
    "import re\n",
    "import sys \n",
    "import statsmodels.stats.multitest\n",
    "\n",
    "\n",
    "import cptac\n",
    "import cptac.utils as u\n",
    "import plot_utils as p\n"
   ]
  },
  {
   "cell_type": "code",
   "execution_count": 2,
   "metadata": {},
   "outputs": [],
   "source": [
    "def wrap_pearson_corr(df,label_column, alpha=.05,comparison_columns=None,correction_method='bonferroni',return_all = True):\n",
    "    \n",
    "\n",
    "    #df = df.dropna(axis=1, how=\"all\")\n",
    "    \n",
    "    '''If no comparison columns specified, use all columns except the specified labed column'''\n",
    "    if not comparison_columns:\n",
    "        comparison_columns = list(df.columns)\n",
    "        comparison_columns.remove(label_column)\n",
    "    '''Store comparisons,p-values, correlation in their own array'''\n",
    "    comparisons = []\n",
    "    pvals = []\n",
    "    correlation=[]\n",
    "    \n",
    "    \n",
    "    '''Format results in a pandas dataframe'''\n",
    "    newdf = pd.DataFrame(columns=['Comparison','Correlation','P_value'])\n",
    "    for gene in comparison_columns:\n",
    "        #create subset df with interacting gene/ gene (otherwise drop NaN drops everything)\n",
    "        df_subset = df[[label_column,gene]]\n",
    "        #do a linear regression to see if it's a meaningful association\n",
    "        #dropna will remove rows with nan\n",
    "        df_subset = df_subset.dropna(axis=0, how=\"any\")\n",
    "        count_row = df_subset.shape[0]\n",
    "        if count_row > 20:\n",
    "            x1 = df_subset[[label_column]].values\n",
    "            y1 = df_subset[[gene]].values\n",
    "            x1 = x1[:,0]\n",
    "            y1 = y1[:,0]\n",
    "            corr, pval = scipy.stats.pearsonr(x1,y1)\n",
    "\n",
    "            comparisons.append(gene)\n",
    "            pvals.append(pval)\n",
    "            correlation.append(corr)\n",
    "    \n",
    "        \n",
    "    '''Correct for multiple testing to determine if each comparison meets the new cutoff'''\n",
    "    results = statsmodels.stats.multitest.multipletests(pvals=pvals, alpha=alpha, method=correction_method)\n",
    "    reject = results[0]\n",
    "        \n",
    "    if return_all:\n",
    "        for i in range(0,len(comparisons)):\n",
    "            newdf = newdf.append({'Comparison': comparisons[i],\"Correlation\": correlation[i],'P_value': pvals[i]}, ignore_index=True)\n",
    "        \n",
    "    '''Else only add significant comparisons'''\n",
    "    if (return_all == False):\n",
    "            for i in range(0, len(reject)):\n",
    "                if reject[i]:\n",
    "                    newdf = newdf.append({'Comparison': comparisons[i],\"Correlation\": correlation[i],'P_value': pvals[i]}, ignore_index=True)\n",
    "                    \n",
    "    '''Sort dataframe by ascending p-value'''\n",
    "    newdf = newdf.sort_values(by='P_value', ascending=True)\n",
    "    '''If results df is not empty, return it, else return None'''\n",
    "    return newdf\n",
    "\n",
    "       \n"
   ]
  },
  {
   "cell_type": "code",
   "execution_count": 2,
   "metadata": {},
   "outputs": [],
   "source": [
    "def create_prot_list(df):\n",
    "    prot_genes_list = df.columns.values.tolist()\n",
    "    prot_genes_list.remove('EGFR_Mutation')\n",
    "    prot_genes_list.remove('EGFR_Location')\n",
    "    prot_genes_list.remove('EGFR_Mutation_Status')\n",
    "    prot_genes_list.remove('Sample_Status')\n",
    "    return prot_genes_list"
   ]
  },
  {
   "cell_type": "code",
   "execution_count": 3,
   "metadata": {},
   "outputs": [
    {
     "name": "stdout",
     "output_type": "stream",
     "text": [
      "Checking that ccrcc index is up-to-date...\r"
     ]
    },
    {
     "name": "stderr",
     "output_type": "stream",
     "text": [
      "cptac warning: The GBM dataset is under publication embargo until March 01, 2021. CPTAC is a community resource project and data are made available rapidly after generation for community research use. The embargo allows exploring and utilizing the data, but analysis may not be published until after the embargo date. Please see https://proteomics.cancer.gov/data-portal/about/data-use-agreement or enter cptac.embargo() to open the webpage for more details. (/Users/Lindsey/anaconda3/lib/python3.7/site-packages/ipykernel_launcher.py, line 2)\n"
     ]
    },
    {
     "name": "stdout",
     "output_type": "stream",
     "text": [
      "Checking that hnscc index is up-to-date...  \r"
     ]
    },
    {
     "name": "stderr",
     "output_type": "stream",
     "text": [
      "cptac warning: The LUAD dataset is under publication embargo until July 01, 2020. CPTAC is a community resource project and data are made available rapidly after generation for community research use. The embargo allows exploring and utilizing the data, but analysis may not be published until after the embargo date. Please see https://proteomics.cancer.gov/data-portal/about/data-use-agreement or enter cptac.embargo() to open the webpage for more details. (/Users/Lindsey/anaconda3/lib/python3.7/site-packages/ipykernel_launcher.py, line 7)\n"
     ]
    },
    {
     "name": "stdout",
     "output_type": "stream",
     "text": [
      "                                          \r"
     ]
    }
   ],
   "source": [
    "#load cptac data \n",
    "brain = cptac.Gbm()\n",
    "kidney = cptac.Ccrcc()\n",
    "Ovar = cptac.Ovarian()\n",
    "colon = cptac.Colon()\n",
    "brca = cptac.Brca()\n",
    "luad = cptac.Luad()\n",
    "Hnscc = cptac.Hnscc()\n",
    "Lscc = cptac.Lscc()"
   ]
  },
  {
   "cell_type": "markdown",
   "metadata": {},
   "source": [
    "# Step 1 Create Data frames "
   ]
  },
  {
   "cell_type": "markdown",
   "metadata": {},
   "source": [
    "For each cancer type,\n",
    "load proteomic data and mutation data for EGFR and\n",
    "filter out non-tumor samples "
   ]
  },
  {
   "cell_type": "markdown",
   "metadata": {},
   "source": [
    "# Step 2  Create list of Proteins for Comparison"
   ]
  },
  {
   "cell_type": "markdown",
   "metadata": {},
   "source": [
    "For each cancer type, create list of proteins by using create_prot_list function which extracts column names and removes extra columns."
   ]
  },
  {
   "cell_type": "markdown",
   "metadata": {},
   "source": [
    "# Step 3 Run Pearson Correlation Function  "
   ]
  },
  {
   "cell_type": "markdown",
   "metadata": {},
   "source": [
    "Run function on df and compare EGFR proteomics to all other proteins in protein list. Store only the significant comparisons. Save df as csv file"
   ]
  },
  {
   "cell_type": "markdown",
   "metadata": {},
   "source": [
    "# GBM"
   ]
  },
  {
   "cell_type": "code",
   "execution_count": 4,
   "metadata": {},
   "outputs": [
    {
     "name": "stderr",
     "output_type": "stream",
     "text": [
      "cptac warning: In joining the somatic_mutation table, no mutations were found for the following samples, so they were filled with Wildtype_Tumor or Wildtype_Normal: 93 samples for the EGFR gene (/Users/Lindsey/anaconda3/lib/python3.7/site-packages/ipykernel_launcher.py, line 1)\n"
     ]
    }
   ],
   "source": [
    "df1 = brain.join_omics_to_mutations(omics_df_name=\"proteomics\", mutations_genes=\"EGFR\")\n",
    "df1_tumor = df1.loc[df1['Sample_Status'] == \"Tumor\"]"
   ]
  },
  {
   "cell_type": "code",
   "execution_count": 5,
   "metadata": {},
   "outputs": [],
   "source": [
    "prot_genes_list = create_prot_list(df1_tumor)"
   ]
  },
  {
   "cell_type": "code",
   "execution_count": 6,
   "metadata": {},
   "outputs": [
    {
     "data": {
      "text/html": [
       "<div>\n",
       "<style scoped>\n",
       "    .dataframe tbody tr th:only-of-type {\n",
       "        vertical-align: middle;\n",
       "    }\n",
       "\n",
       "    .dataframe tbody tr th {\n",
       "        vertical-align: top;\n",
       "    }\n",
       "\n",
       "    .dataframe thead th {\n",
       "        text-align: right;\n",
       "    }\n",
       "</style>\n",
       "<table border=\"1\" class=\"dataframe\">\n",
       "  <thead>\n",
       "    <tr style=\"text-align: right;\">\n",
       "      <th></th>\n",
       "      <th>Comparison</th>\n",
       "      <th>Correlation</th>\n",
       "      <th>P_value</th>\n",
       "      <th>Cancer Type</th>\n",
       "    </tr>\n",
       "  </thead>\n",
       "  <tbody>\n",
       "    <tr>\n",
       "      <th>44</th>\n",
       "      <td>EGFR_proteomics</td>\n",
       "      <td>1.000000</td>\n",
       "      <td>0.000000e+00</td>\n",
       "      <td>GBM</td>\n",
       "    </tr>\n",
       "    <tr>\n",
       "      <th>97</th>\n",
       "      <td>PHLDA1_proteomics</td>\n",
       "      <td>0.816848</td>\n",
       "      <td>6.553435e-25</td>\n",
       "      <td>GBM</td>\n",
       "    </tr>\n",
       "    <tr>\n",
       "      <th>64</th>\n",
       "      <td>GRB2_proteomics</td>\n",
       "      <td>-0.610889</td>\n",
       "      <td>1.886384e-11</td>\n",
       "      <td>GBM</td>\n",
       "    </tr>\n",
       "    <tr>\n",
       "      <th>123</th>\n",
       "      <td>SOCS2_proteomics</td>\n",
       "      <td>0.562720</td>\n",
       "      <td>1.343464e-09</td>\n",
       "      <td>GBM</td>\n",
       "    </tr>\n",
       "    <tr>\n",
       "      <th>24</th>\n",
       "      <td>CDH4_proteomics</td>\n",
       "      <td>0.559180</td>\n",
       "      <td>1.790048e-09</td>\n",
       "      <td>GBM</td>\n",
       "    </tr>\n",
       "    <tr>\n",
       "      <th>...</th>\n",
       "      <td>...</td>\n",
       "      <td>...</td>\n",
       "      <td>...</td>\n",
       "      <td>...</td>\n",
       "    </tr>\n",
       "    <tr>\n",
       "      <th>115</th>\n",
       "      <td>RNASET2_proteomics</td>\n",
       "      <td>-0.444693</td>\n",
       "      <td>4.000047e-06</td>\n",
       "      <td>GBM</td>\n",
       "    </tr>\n",
       "    <tr>\n",
       "      <th>2</th>\n",
       "      <td>ACSL1_proteomics</td>\n",
       "      <td>-0.443099</td>\n",
       "      <td>4.371271e-06</td>\n",
       "      <td>GBM</td>\n",
       "    </tr>\n",
       "    <tr>\n",
       "      <th>133</th>\n",
       "      <td>TMX2_proteomics</td>\n",
       "      <td>0.442471</td>\n",
       "      <td>4.526188e-06</td>\n",
       "      <td>GBM</td>\n",
       "    </tr>\n",
       "    <tr>\n",
       "      <th>4</th>\n",
       "      <td>AFAP1L1_proteomics</td>\n",
       "      <td>0.442470</td>\n",
       "      <td>4.526445e-06</td>\n",
       "      <td>GBM</td>\n",
       "    </tr>\n",
       "    <tr>\n",
       "      <th>108</th>\n",
       "      <td>PTBP3_proteomics</td>\n",
       "      <td>-0.442173</td>\n",
       "      <td>4.601691e-06</td>\n",
       "      <td>GBM</td>\n",
       "    </tr>\n",
       "  </tbody>\n",
       "</table>\n",
       "<p>142 rows × 4 columns</p>\n",
       "</div>"
      ],
      "text/plain": [
       "             Comparison  Correlation       P_value Cancer Type\n",
       "44      EGFR_proteomics     1.000000  0.000000e+00         GBM\n",
       "97    PHLDA1_proteomics     0.816848  6.553435e-25         GBM\n",
       "64      GRB2_proteomics    -0.610889  1.886384e-11         GBM\n",
       "123    SOCS2_proteomics     0.562720  1.343464e-09         GBM\n",
       "24      CDH4_proteomics     0.559180  1.790048e-09         GBM\n",
       "..                  ...          ...           ...         ...\n",
       "115  RNASET2_proteomics    -0.444693  4.000047e-06         GBM\n",
       "2      ACSL1_proteomics    -0.443099  4.371271e-06         GBM\n",
       "133     TMX2_proteomics     0.442471  4.526188e-06         GBM\n",
       "4    AFAP1L1_proteomics     0.442470  4.526445e-06         GBM\n",
       "108    PTBP3_proteomics    -0.442173  4.601691e-06         GBM\n",
       "\n",
       "[142 rows x 4 columns]"
      ]
     },
     "execution_count": 6,
     "metadata": {},
     "output_type": "execute_result"
    }
   ],
   "source": [
    "df2= p.wrap_pearson_corr(df1_tumor,\"EGFR_proteomics\",comparison_columns= prot_genes_list, return_all = False)\n",
    "#df2.to_csv(\"csv_files/GBM_EGFR_all_pearson_sig.csv\")\n",
    "df2['Cancer Type']='GBM'\n",
    "#df2.to_csv(\"csv_files/GBM_EGFR_all_pearson_sig2.csv\")\n",
    "df2"
   ]
  },
  {
   "cell_type": "markdown",
   "metadata": {},
   "source": [
    "# Kidney "
   ]
  },
  {
   "cell_type": "code",
   "execution_count": 8,
   "metadata": {},
   "outputs": [
    {
     "name": "stderr",
     "output_type": "stream",
     "text": [
      "cptac warning: In joining the somatic_mutation table, no mutations were found for the following samples, so they were filled with Wildtype_Tumor or Wildtype_Normal: 193 samples for the EGFR gene (/Users/Lindsey/anaconda3/lib/python3.7/site-packages/ipykernel_launcher.py, line 1)\n"
     ]
    }
   ],
   "source": [
    "df1 = kidney.join_omics_to_mutations(omics_df_name=\"proteomics\", mutations_genes=\"EGFR\")\n",
    "df1.columns = df1.columns.droplevel(1)\n",
    "df1_tumor = df1.loc[df1['Sample_Status'] == \"Tumor\"]"
   ]
  },
  {
   "cell_type": "code",
   "execution_count": 9,
   "metadata": {},
   "outputs": [],
   "source": [
    "prot_genes_list = create_prot_list(df1_tumor)"
   ]
  },
  {
   "cell_type": "code",
   "execution_count": 10,
   "metadata": {},
   "outputs": [],
   "source": [
    "df2=wrap_pearson_corr(df1_tumor,\"EGFR_proteomics\",comparison_columns= prot_genes_list, return_all = False)\n",
    "df2.to_csv(\"csv_files/Kidney_EGFR_all_pearson_sig.csv\")\n",
    "df2['Cancer Type']='Kidney'\n",
    "df2.to_csv(\"csv_files/Kidney_EGFR_all_pearson_sig2.csv\")"
   ]
  },
  {
   "cell_type": "markdown",
   "metadata": {},
   "source": [
    "# Ovarian "
   ]
  },
  {
   "cell_type": "code",
   "execution_count": 11,
   "metadata": {},
   "outputs": [
    {
     "name": "stderr",
     "output_type": "stream",
     "text": [
      "cptac warning: In joining the somatic_mutation table, no mutations were found for the following samples, so they were filled with Wildtype_Tumor or Wildtype_Normal: 102 samples for the EGFR gene (/Users/Lindsey/anaconda3/lib/python3.7/site-packages/ipykernel_launcher.py, line 1)\n"
     ]
    }
   ],
   "source": [
    "df1 = Ovar.join_omics_to_mutations(omics_df_name=\"proteomics\", mutations_genes=\"EGFR\")\n",
    "df1.columns = df1.columns.droplevel(1)\n",
    "df1_tumor = df1.loc[df1['Sample_Status'] == \"Tumor\"]"
   ]
  },
  {
   "cell_type": "code",
   "execution_count": 12,
   "metadata": {},
   "outputs": [],
   "source": [
    "prot_genes_list = create_prot_list(df1_tumor)"
   ]
  },
  {
   "cell_type": "code",
   "execution_count": 13,
   "metadata": {},
   "outputs": [],
   "source": [
    "df2=wrap_pearson_corr(df1_tumor,\"EGFR_proteomics\",comparison_columns= prot_genes_list, return_all = False)\n",
    "df2.to_csv(\"csv_files/Ovar_EGFR_all_pearson_sig.csv\")\n",
    "df2['Cancer Type']='Ovarian'\n",
    "df2.to_csv(\"csv_files/Ovar_EGFR_all_pearson_sig2.csv\")\n"
   ]
  },
  {
   "cell_type": "markdown",
   "metadata": {},
   "source": [
    "# Colon"
   ]
  },
  {
   "cell_type": "code",
   "execution_count": 14,
   "metadata": {},
   "outputs": [
    {
     "name": "stderr",
     "output_type": "stream",
     "text": [
      "cptac warning: In joining the somatic_mutation table, no mutations were found for the following samples, so they were filled with Wildtype_Tumor or Wildtype_Normal: 204 samples for the EGFR gene (/Users/Lindsey/anaconda3/lib/python3.7/site-packages/ipykernel_launcher.py, line 1)\n",
      "cptac warning: proteomics data was not found for the following samples, so proteomics data columns were filled with NaN for these samples: 01CO001, 05CO005, 05CO007, 05CO014, 05CO055, 11CO059, 11CO060, 14CO002, 16CO012, 24CO005 (/Users/Lindsey/anaconda3/lib/python3.7/site-packages/ipykernel_launcher.py, line 1)\n"
     ]
    }
   ],
   "source": [
    "df1 = colon.join_omics_to_mutations(omics_df_name=\"proteomics\", mutations_genes=\"EGFR\")\n",
    "df1_tumor = df1.loc[df1['Sample_Status'] == \"Tumor\"]"
   ]
  },
  {
   "cell_type": "code",
   "execution_count": 15,
   "metadata": {},
   "outputs": [],
   "source": [
    "prot_genes_list = create_prot_list(df1_tumor)"
   ]
  },
  {
   "cell_type": "code",
   "execution_count": 16,
   "metadata": {},
   "outputs": [],
   "source": [
    "df2=wrap_pearson_corr(df1_tumor,\"EGFR_proteomics\",comparison_columns= prot_genes_list, return_all = False)\n",
    "df2.to_csv(\"csv_files/Colon_EGFR_all_pearson_sig.csv\")\n",
    "df2['Cancer Type']='Colon'\n",
    "df2.to_csv(\"csv_files/Colon_EGFR_all_pearson_sig2.csv\")"
   ]
  },
  {
   "cell_type": "markdown",
   "metadata": {},
   "source": [
    "# Brca "
   ]
  },
  {
   "cell_type": "code",
   "execution_count": 17,
   "metadata": {},
   "outputs": [
    {
     "name": "stderr",
     "output_type": "stream",
     "text": [
      "cptac warning: In joining the somatic_mutation table, no mutations were found for the following samples, so they were filled with Wildtype_Tumor or Wildtype_Normal: 118 samples for the EGFR gene (/Users/Lindsey/anaconda3/lib/python3.7/site-packages/ipykernel_launcher.py, line 1)\n"
     ]
    }
   ],
   "source": [
    "df1 = brca.join_omics_to_mutations(omics_df_name=\"proteomics\", mutations_genes=\"EGFR\")\n",
    "df1.columns = df1.columns.droplevel(1)\n",
    "df1_tumor = df1.loc[df1['Sample_Status'] == \"Tumor\"]"
   ]
  },
  {
   "cell_type": "code",
   "execution_count": 18,
   "metadata": {},
   "outputs": [],
   "source": [
    "prot_genes_list = create_prot_list(df1_tumor)"
   ]
  },
  {
   "cell_type": "code",
   "execution_count": 19,
   "metadata": {},
   "outputs": [],
   "source": [
    "df2=wrap_pearson_corr(df1_tumor,\"EGFR_proteomics\",comparison_columns= prot_genes_list, return_all = False)\n",
    "df2.to_csv(\"csv_files/Brca_EGFR_all_pearson_sig.csv\")\n",
    "df2['Cancer Type']='Brca'\n",
    "df2.to_csv(\"csv_files/Brca_EGFR_all_pearson_sig2.csv\")"
   ]
  },
  {
   "cell_type": "markdown",
   "metadata": {},
   "source": [
    "# LUAD"
   ]
  },
  {
   "cell_type": "code",
   "execution_count": 20,
   "metadata": {},
   "outputs": [
    {
     "name": "stderr",
     "output_type": "stream",
     "text": [
      "cptac warning: In joining the somatic_mutation table, no mutations were found for the following samples, so they were filled with Wildtype_Tumor or Wildtype_Normal: 171 samples for the EGFR gene (/Users/Lindsey/anaconda3/lib/python3.7/site-packages/ipykernel_launcher.py, line 1)\n"
     ]
    }
   ],
   "source": [
    "df1 = luad.join_omics_to_mutations(omics_df_name=\"proteomics\", mutations_genes=\"EGFR\")\n",
    "df1.columns = df1.columns.droplevel(1)\n",
    "df1_tumor = df1.loc[df1['Sample_Status'] == \"Tumor\"]"
   ]
  },
  {
   "cell_type": "code",
   "execution_count": 21,
   "metadata": {},
   "outputs": [],
   "source": [
    "prot_genes_list = create_prot_list(df1_tumor)"
   ]
  },
  {
   "cell_type": "code",
   "execution_count": 22,
   "metadata": {},
   "outputs": [],
   "source": [
    "df2=wrap_pearson_corr(df1_tumor,\"EGFR_proteomics\",comparison_columns= prot_genes_list, return_all = False)\n",
    "df2.to_csv(\"csv_files/Luad_EGFR_all_pearson_sig.csv\")\n",
    "df2['Cancer Type']='Luad'\n",
    "df2.to_csv(\"csv_files/Luad_EGFR_all_pearson_sig2.csv\")"
   ]
  },
  {
   "cell_type": "markdown",
   "metadata": {},
   "source": [
    "# HNSCC"
   ]
  },
  {
   "cell_type": "code",
   "execution_count": 23,
   "metadata": {},
   "outputs": [
    {
     "name": "stderr",
     "output_type": "stream",
     "text": [
      "cptac warning: In joining the somatic_mutation table, no mutations were found for the following samples, so they were filled with Wildtype_Tumor or Wildtype_Normal: 174 samples for the EGFR gene (/Users/Lindsey/anaconda3/lib/python3.7/site-packages/ipykernel_launcher.py, line 1)\n"
     ]
    }
   ],
   "source": [
    "df1 = Hnscc.join_omics_to_mutations(omics_df_name=\"proteomics\", mutations_genes=\"EGFR\")\n",
    "df1_tumor = df1.loc[df1['Sample_Status'] == \"Tumor\"]"
   ]
  },
  {
   "cell_type": "code",
   "execution_count": 24,
   "metadata": {},
   "outputs": [],
   "source": [
    "prot_genes_list = create_prot_list(df1_tumor)"
   ]
  },
  {
   "cell_type": "code",
   "execution_count": 25,
   "metadata": {},
   "outputs": [],
   "source": [
    "df2=wrap_pearson_corr(df1_tumor,\"EGFR_proteomics\",comparison_columns= prot_genes_list, return_all = False)\n",
    "df2.to_csv(\"csv_files/Hnscc_EGFR_all_pearson_sig.csv\")\n",
    "df2['Cancer Type']='Hnscc'\n",
    "df2.to_csv(\"csv_files/Hnscc_EGFR_all_pearson_sig2.csv\")"
   ]
  },
  {
   "cell_type": "markdown",
   "metadata": {},
   "source": [
    "# Lscc"
   ]
  },
  {
   "cell_type": "code",
   "execution_count": 26,
   "metadata": {},
   "outputs": [
    {
     "name": "stderr",
     "output_type": "stream",
     "text": [
      "cptac warning: In joining the somatic_mutation table, no mutations were found for the following samples, so they were filled with Wildtype_Tumor or Wildtype_Normal: 208 samples for the EGFR gene (/Users/Lindsey/anaconda3/lib/python3.7/site-packages/ipykernel_launcher.py, line 1)\n"
     ]
    }
   ],
   "source": [
    "df1 = Lscc.join_omics_to_mutations(omics_df_name=\"proteomics\", mutations_genes=\"EGFR\")\n",
    "df1.columns = df1.columns.droplevel(1)\n",
    "df1_tumor = df1.loc[df1['Sample_Status'] == \"Tumor\"]"
   ]
  },
  {
   "cell_type": "code",
   "execution_count": 27,
   "metadata": {},
   "outputs": [],
   "source": [
    "prot_genes_list = create_prot_list(df1_tumor)"
   ]
  },
  {
   "cell_type": "code",
   "execution_count": 28,
   "metadata": {},
   "outputs": [],
   "source": [
    "df2=wrap_pearson_corr(df1_tumor,\"EGFR_proteomics\",comparison_columns= prot_genes_list, return_all = False)\n",
    "df2.to_csv(\"csv_files/Lscc_EGFR_all_pearson_sig.csv\")\n",
    "df2['Cancer Type']='Lscc'\n",
    "df2.to_csv(\"csv_files/Lscc_EGFR_all_pearson_sig2.csv\")"
   ]
  },
  {
   "cell_type": "code",
   "execution_count": null,
   "metadata": {},
   "outputs": [],
   "source": []
  },
  {
   "cell_type": "code",
   "execution_count": null,
   "metadata": {},
   "outputs": [],
   "source": []
  }
 ],
 "metadata": {
  "kernelspec": {
   "display_name": "Python 3",
   "language": "python",
   "name": "python3"
  },
  "language_info": {
   "codemirror_mode": {
    "name": "ipython",
    "version": 3
   },
   "file_extension": ".py",
   "mimetype": "text/x-python",
   "name": "python",
   "nbconvert_exporter": "python",
   "pygments_lexer": "ipython3",
   "version": "3.7.3"
  }
 },
 "nbformat": 4,
 "nbformat_minor": 2
}
