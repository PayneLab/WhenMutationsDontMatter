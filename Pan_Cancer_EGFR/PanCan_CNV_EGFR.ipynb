{
 "cells": [
  {
   "cell_type": "markdown",
   "metadata": {},
   "source": [
    "# Pan Cancer EGFR "
   ]
  },
  {
   "cell_type": "code",
   "execution_count": 1,
   "metadata": {},
   "outputs": [
    {
     "name": "stderr",
     "output_type": "stream",
     "text": [
      "cptac warning: Your version of cptac (0.7.1) is out-of-date. Latest is 0.7.2. Please run 'pip install --upgrade cptac' to update it. (/Users/Lindsey/anaconda3/lib/python3.7/site-packages/ipykernel_launcher.py, line 11)\n"
     ]
    }
   ],
   "source": [
    "import pandas as pd\n",
    "import numpy as np\n",
    "import seaborn as sns\n",
    "import matplotlib.pyplot as plt\n",
    "import scipy.stats\n",
    "import re\n",
    "import sys \n",
    "#sys.path.append('C:\\\\Users\\\\brittany henderson\\\\GitHub\\\\GBM_for_CPTAC\\\\')\n",
    "#import cis_functions as f\n",
    "\n",
    "import cptac\n",
    "import cptac.utils as u"
   ]
  },
  {
   "cell_type": "code",
   "execution_count": 51,
   "metadata": {},
   "outputs": [],
   "source": [
    "def myTrunc(theNumber, theDigits):\n",
    "\n",
    "    myDigits = 10 ** theDigits\n",
    "    return (int(theNumber * myDigits) / myDigits)"
   ]
  },
  {
   "cell_type": "code",
   "execution_count": 159,
   "metadata": {},
   "outputs": [],
   "source": [
    "newdf = pd.DataFrame(columns=['Cancer','Correlation','P_value'])"
   ]
  },
  {
   "cell_type": "markdown",
   "metadata": {},
   "source": [
    "# GBM"
   ]
  },
  {
   "cell_type": "code",
   "execution_count": 2,
   "metadata": {},
   "outputs": [
    {
     "name": "stdout",
     "output_type": "stream",
     "text": [
      "                                    \r"
     ]
    },
    {
     "name": "stderr",
     "output_type": "stream",
     "text": [
      "cptac warning: The GBM dataset is under publication embargo until March 01, 2021. CPTAC is a community resource project and data are made available rapidly after generation for community research use. The embargo allows exploring and utilizing the data, but analysis may not be published until after the embargo date. Please see https://proteomics.cancer.gov/data-portal/about/data-use-agreement or enter cptac.embargo() to open the webpage for more details. (/Users/Lindsey/anaconda3/lib/python3.7/site-packages/ipykernel_launcher.py, line 1)\n"
     ]
    }
   ],
   "source": [
    "brain = cptac.Gbm()\n"
   ]
  },
  {
   "cell_type": "code",
   "execution_count": 64,
   "metadata": {},
   "outputs": [
    {
     "name": "stderr",
     "output_type": "stream",
     "text": [
      "cptac warning: CNV data was not found for the following samples, so CNV data columns were filled with NaN for these samples: C3L-01834, PT-NPJ7.N, PT-P44H.N, PT-Q2AG.N, PT-QVJO.N, PT-R55F.N, PT-RN5K.N, PT-RU72.N, PT-UTHO.N, PT-WVLH.N, PT-Y8DK.N (/Users/Lindsey/anaconda3/lib/python3.7/site-packages/ipykernel_launcher.py, line 1)\n"
     ]
    }
   ],
   "source": [
    "prot_CNV_brain = brain.join_omics_to_omics(df1_name=\"proteomics\", df2_name=\"CNV\")\n",
    "prot_CNV_brain = prot_CNV_brain[[\"EGFR_proteomics\",\"EGFR_CNV\"]]\n",
    "mutation = brain.get_clinical()\n",
    "#do a linear regression to see if it's a meaningful association\n",
    "#linear regression really hates it when there are NaN, right?\n",
    "#dropna will remove rows with nan\n",
    "mergedDf = prot_CNV_brain.merge(mutation, on=\"Patient_ID\")\n",
    "df1 = mergedDf.loc[mergedDf['Sample_Tumor_Normal'] == \"Tumor\"]\n",
    "df1 = df1[[\"EGFR_proteomics\",\"EGFR_CNV\",\"Sample_Tumor_Normal\"]]\n",
    "df1 = df1.dropna(axis=0, how=\"any\")\n",
    "\n",
    "x1 = df1[[\"EGFR_CNV\"]].values\n",
    "y1 = df1[[\"EGFR_proteomics\"]].values\n",
    "x1 = x1[:,0]\n",
    "y1 = y1[:,0]\n",
    "\n",
    "corr, pval = scipy.stats.pearsonr(x1,y1)\n",
    "comparisons.append(inter_gene)\n",
    "        pvals.append(pval)\n",
    "        correlation.append(corr)\n"
   ]
  },
  {
   "cell_type": "code",
   "execution_count": 57,
   "metadata": {},
   "outputs": [
    {
     "data": {
      "text/html": [
       "<div>\n",
       "<style scoped>\n",
       "    .dataframe tbody tr th:only-of-type {\n",
       "        vertical-align: middle;\n",
       "    }\n",
       "\n",
       "    .dataframe tbody tr th {\n",
       "        vertical-align: top;\n",
       "    }\n",
       "\n",
       "    .dataframe thead th {\n",
       "        text-align: right;\n",
       "    }\n",
       "</style>\n",
       "<table border=\"1\" class=\"dataframe\">\n",
       "  <thead>\n",
       "    <tr style=\"text-align: right;\">\n",
       "      <th>Name</th>\n",
       "      <th>EGFR_proteomics</th>\n",
       "      <th>EGFR_CNV</th>\n",
       "      <th>Sample_Tumor_Normal</th>\n",
       "    </tr>\n",
       "    <tr>\n",
       "      <th>Patient_ID</th>\n",
       "      <th></th>\n",
       "      <th></th>\n",
       "      <th></th>\n",
       "    </tr>\n",
       "  </thead>\n",
       "  <tbody>\n",
       "    <tr>\n",
       "      <td>C3L-00104</td>\n",
       "      <td>1.054962</td>\n",
       "      <td>1.059405</td>\n",
       "      <td>Tumor</td>\n",
       "    </tr>\n",
       "    <tr>\n",
       "      <td>C3L-00365</td>\n",
       "      <td>2.219562</td>\n",
       "      <td>4.071536</td>\n",
       "      <td>Tumor</td>\n",
       "    </tr>\n",
       "    <tr>\n",
       "      <td>C3L-00674</td>\n",
       "      <td>0.137329</td>\n",
       "      <td>3.483884</td>\n",
       "      <td>Tumor</td>\n",
       "    </tr>\n",
       "    <tr>\n",
       "      <td>C3L-00677</td>\n",
       "      <td>-0.768478</td>\n",
       "      <td>0.458499</td>\n",
       "      <td>Tumor</td>\n",
       "    </tr>\n",
       "    <tr>\n",
       "      <td>C3L-01040</td>\n",
       "      <td>-1.249435</td>\n",
       "      <td>0.360617</td>\n",
       "      <td>Tumor</td>\n",
       "    </tr>\n",
       "    <tr>\n",
       "      <td>...</td>\n",
       "      <td>...</td>\n",
       "      <td>...</td>\n",
       "      <td>...</td>\n",
       "    </tr>\n",
       "    <tr>\n",
       "      <td>C3N-03183</td>\n",
       "      <td>0.356865</td>\n",
       "      <td>1.847881</td>\n",
       "      <td>Tumor</td>\n",
       "    </tr>\n",
       "    <tr>\n",
       "      <td>C3N-03184</td>\n",
       "      <td>1.623039</td>\n",
       "      <td>4.364630</td>\n",
       "      <td>Tumor</td>\n",
       "    </tr>\n",
       "    <tr>\n",
       "      <td>C3N-03186</td>\n",
       "      <td>-0.381447</td>\n",
       "      <td>0.291200</td>\n",
       "      <td>Tumor</td>\n",
       "    </tr>\n",
       "    <tr>\n",
       "      <td>C3N-03188</td>\n",
       "      <td>3.867878</td>\n",
       "      <td>5.456942</td>\n",
       "      <td>Tumor</td>\n",
       "    </tr>\n",
       "    <tr>\n",
       "      <td>C3N-03473</td>\n",
       "      <td>-1.602833</td>\n",
       "      <td>0.095345</td>\n",
       "      <td>Tumor</td>\n",
       "    </tr>\n",
       "  </tbody>\n",
       "</table>\n",
       "<p>98 rows × 3 columns</p>\n",
       "</div>"
      ],
      "text/plain": [
       "Name        EGFR_proteomics  EGFR_CNV Sample_Tumor_Normal\n",
       "Patient_ID                                               \n",
       "C3L-00104          1.054962  1.059405               Tumor\n",
       "C3L-00365          2.219562  4.071536               Tumor\n",
       "C3L-00674          0.137329  3.483884               Tumor\n",
       "C3L-00677         -0.768478  0.458499               Tumor\n",
       "C3L-01040         -1.249435  0.360617               Tumor\n",
       "...                     ...       ...                 ...\n",
       "C3N-03183          0.356865  1.847881               Tumor\n",
       "C3N-03184          1.623039  4.364630               Tumor\n",
       "C3N-03186         -0.381447  0.291200               Tumor\n",
       "C3N-03188          3.867878  5.456942               Tumor\n",
       "C3N-03473         -1.602833  0.095345               Tumor\n",
       "\n",
       "[98 rows x 3 columns]"
      ]
     },
     "execution_count": 57,
     "metadata": {},
     "output_type": "execute_result"
    }
   ],
   "source": [
    "df1"
   ]
  },
  {
   "cell_type": "code",
   "execution_count": 65,
   "metadata": {},
   "outputs": [
    {
     "data": {
      "image/png": "[encoded data removed]",
      "text/plain": [
       "<Figure size 432x288 with 1 Axes>"
      ]
     },
     "metadata": {},
     "output_type": "display_data"
    }
   ],
   "source": [
    "# plot \n",
    "sns.set(style=\"darkgrid\")\n",
    "\n",
    "plot = sns.regplot(x=x1, y=y1, data=df1)\n",
    "plot.set(xlabel='CNV', ylabel='Proteomics', title='CNV vs. Proteomics for the EGFR gene in GBM')\n",
    "pval = myTrunc(pval,30)\n",
    "corr = myTrunc(corr,3)\n",
    "plt.text(0,3.5, \"Correlation: %s\\nPvalue: %s\"%(corr,pval))\n",
    "plt.savefig('EGFR_CNV.png')        \n",
    "plt.show()\n"
   ]
  },
  {
   "cell_type": "markdown",
   "metadata": {},
   "source": [
    "# Kidney "
   ]
  },
  {
   "cell_type": "code",
   "execution_count": 37,
   "metadata": {},
   "outputs": [
    {
     "name": "stdout",
     "output_type": "stream",
     "text": [
      "                                    \r"
     ]
    }
   ],
   "source": [
    "kidney = cptac.Ccrcc()\n"
   ]
  },
  {
   "cell_type": "code",
   "execution_count": 74,
   "metadata": {},
   "outputs": [
    {
     "name": "stderr",
     "output_type": "stream",
     "text": [
      "cptac warning: CNV data was not found for the following samples, so CNV data columns were filled with NaN for these samples: C3L-00004.N, C3L-00010.N, C3L-00011.N, C3L-00026.N, C3L-00079.N, C3L-00088.N, C3L-00096.N, C3L-00097.N, C3L-00103.N, C3L-00183.N, C3L-00360.N, C3L-00369.N, C3L-00416.N, C3L-00418.N, C3L-00447.N, C3L-00448.N, C3L-00561.N, C3L-00581.N, C3L-00583.N, C3L-00606.N, C3L-00607.N, C3L-00791.N, C3L-00814.N, C3L-00902.N, C3L-00907.N, C3L-00908.N, C3L-00910.N, C3L-00917.N, C3L-01281.N, C3L-01286.N, C3L-01287.N, C3L-01302.N, C3L-01313.N, C3L-01603.N, C3L-01607.N, C3L-01836.N, C3L-01861.N, C3L-01882.N, C3L-01885.N, C3N-00148.N, C3N-00149.N, C3N-00150.N, C3N-00168.N, C3N-00177.N, C3N-00194.N, C3N-00242.N, C3N-00244.N, C3N-00246.N, C3N-00310.N, C3N-00312.N, C3N-00314.N, C3N-00317.N, C3N-00320.N, C3N-00390.N, C3N-00435.N, C3N-00437.N, C3N-00491.N, C3N-00492.N, C3N-00494.N, C3N-00495.N, C3N-00573.N, C3N-00577.N, C3N-00646.N, C3N-00733.N, C3N-00831.N, C3N-00834.N, C3N-00852.N, C3N-00953.N, C3N-01175.N, C3N-01176.N, C3N-01178.N, C3N-01179.N, C3N-01200.N, C3N-01214.N, C3N-01220.N, C3N-01261.N, C3N-01361.N, C3N-01522.N, C3N-01524.N, C3N-01646.N, C3N-01648.N, C3N-01649.N, C3N-01651.N, C3N-01808.N (/Users/Lindsey/anaconda3/lib/python3.7/site-packages/ipykernel_launcher.py, line 1)\n"
     ]
    }
   ],
   "source": [
    "prot_CNV_kidney = kidney.join_omics_to_omics(df1_name=\"proteomics\", df2_name=\"CNV\")\n",
    "prot_CNV_kidney = prot_CNV_kidney[[\"EGFR_proteomics\",\"EGFR_CNV\"]]\n",
    "prot_CNV_kidney.columns = prot_CNV_kidney.columns.droplevel(1)\n",
    "mutation = kidney.get_clinical()\n",
    "prot_CNV_kidney\n",
    "#do a linear regression to see if it's a meaningful association\n",
    "#linear regression really hates it when there are NaN, right?\n",
    "#dropna will remove rows with nan\n",
    "mergedDf = prot_CNV_kidney.merge(mutation, on=\"Patient_ID\")\n",
    "df1 = mergedDf.loc[mergedDf['Sample_Tumor_Normal'] == \"Tumor\"]\n",
    "df1 = df1[[\"EGFR_proteomics\",\"EGFR_CNV\",\"Sample_Tumor_Normal\"]]\n",
    "df1 = df1.dropna(axis=0, how=\"any\")\n",
    "df1\n",
    "x1 = df1[[\"EGFR_CNV\"]].values\n",
    "y1 = df1[[\"EGFR_proteomics\"]].values\n",
    "x1 = x1[:,0]\n",
    "y1 = y1[:,0]\n",
    "\n",
    "corr, pval = scipy.stats.pearsonr(x1,y1)"
   ]
  },
  {
   "cell_type": "code",
   "execution_count": 75,
   "metadata": {},
   "outputs": [
    {
     "data": {
      "image/png": "[encoded data removed]",
      "text/plain": [
       "<Figure size 432x288 with 1 Axes>"
      ]
     },
     "metadata": {},
     "output_type": "display_data"
    }
   ],
   "source": [
    "sns.set(style=\"darkgrid\")\n",
    "plot = sns.regplot(x=x1, y=y1, data=df1)\n",
    "plot.set(xlabel='CNV', ylabel='Proteomics', title='CNV vs. Proteomics for the EGFR gene in Ccrcc')\n",
    "pval = myTrunc(pval,7)\n",
    "corr = myTrunc(corr,3)\n",
    "plt.text(-0.3,.8, \"Correlation: %s\\nPvalue: %s\"%(corr,pval))\n",
    "plt.savefig('EGFR_CNV_Ccrcc.png')   \n",
    "plt.show()"
   ]
  },
  {
   "cell_type": "markdown",
   "metadata": {},
   "source": [
    "# Ovarian "
   ]
  },
  {
   "cell_type": "code",
   "execution_count": 76,
   "metadata": {},
   "outputs": [
    {
     "name": "stdout",
     "output_type": "stream",
     "text": [
      "                                    \r"
     ]
    }
   ],
   "source": [
    "Ovar = cptac.Ovarian()"
   ]
  },
  {
   "cell_type": "code",
   "execution_count": 79,
   "metadata": {},
   "outputs": [
    {
     "name": "stderr",
     "output_type": "stream",
     "text": [
      "cptac warning: CNV data was not found for the following samples, so CNV data columns were filled with NaN for these samples: 01OV007.N, 01OV008.N, 01OV010.N, 01OV013.N, 01OV017.N, 01OV019.N, 01OV023.N, 01OV029, 01OV029.N, 01OV039.N, 02OV001.N, 02OV015, 11OV002.N, 11OV010.N, 14OV011.N, 14OV029.N, 15OV001.N, 17OV001.N, 17OV002.N, 17OV003.N, 17OV004.N, 17OV005.N (/Users/Lindsey/anaconda3/lib/python3.7/site-packages/ipykernel_launcher.py, line 1)\n",
      "cptac warning: proteomics data was not found for the following samples, so proteomics data columns were filled with NaN for these samples: 01OV002, 01OV008, 01OV010, 01OV013, 01OV019, 01OV045, 01OV046, 01OV049, 02OV035, 02OV040, 02OV042, 02OV045, 04OV041, 11OV009, 13OV004, 17OV019, 17OV034, 22OV001, 26OV010 (/Users/Lindsey/anaconda3/lib/python3.7/site-packages/ipykernel_launcher.py, line 1)\n"
     ]
    }
   ],
   "source": [
    "prot_CNV_ovar = Ovar.join_omics_to_omics(df1_name=\"proteomics\", df2_name=\"CNV\")\n",
    "prot_CNV_ovar = prot_CNV_ovar[[\"EGFR_proteomics\",\"EGFR_CNV\"]]\n",
    "prot_CNV_ovar.columns = prot_CNV_ovar.columns.droplevel(1)\n",
    "mutation = Ovar.get_clinical()\n",
    "\n",
    "#do a linear regression to see if it's a meaningful association\n",
    "#linear regression really hates it when there are NaN, right?\n",
    "#dropna will remove rows with nan"
   ]
  },
  {
   "cell_type": "code",
   "execution_count": 80,
   "metadata": {},
   "outputs": [],
   "source": [
    "\n",
    "mergedDf = prot_CNV_ovar.merge(mutation, on=\"Patient_ID\")\n",
    "df1 = mergedDf.loc[mergedDf['Sample_Tumor_Normal'] == \"Tumor\"]\n",
    "df1 = df1[[\"EGFR_proteomics\",\"EGFR_CNV\",\"Sample_Tumor_Normal\"]]\n",
    "df1 = df1.dropna(axis=0, how=\"any\")\n",
    "df1\n",
    "x1 = df1[[\"EGFR_CNV\"]].values\n",
    "y1 = df1[[\"EGFR_proteomics\"]].values\n",
    "x1 = x1[:,0]\n",
    "y1 = y1[:,0]\n",
    "\n",
    "corr, pval = scipy.stats.pearsonr(x1,y1)"
   ]
  },
  {
   "cell_type": "code",
   "execution_count": 83,
   "metadata": {},
   "outputs": [
    {
     "data": {
      "image/png": "[encoded data removed]",
      "text/plain": [
       "<Figure size 432x288 with 1 Axes>"
      ]
     },
     "metadata": {},
     "output_type": "display_data"
    }
   ],
   "source": [
    "sns.set(style=\"darkgrid\")\n",
    "plot = sns.regplot(x=x1, y=y1, data=df1)\n",
    "plot.set(xlabel='CNV', ylabel='Proteomics', title='CNV vs. Proteomics for the EGFR gene in Ovarian')\n",
    "pval = myTrunc(pval,5)\n",
    "corr = myTrunc(corr,3)\n",
    "plt.text(-0.4,.75, \"Correlation: %s\\nPvalue: %s\"%(corr,pval))\n",
    "plt.savefig('EGFR_CNV_Ovar.png')   \n",
    "plt.show()"
   ]
  },
  {
   "cell_type": "markdown",
   "metadata": {},
   "source": [
    "# Colon"
   ]
  },
  {
   "cell_type": "code",
   "execution_count": 86,
   "metadata": {},
   "outputs": [
    {
     "name": "stdout",
     "output_type": "stream",
     "text": [
      "                                    \r"
     ]
    }
   ],
   "source": [
    "colon = cptac.Colon()"
   ]
  },
  {
   "cell_type": "code",
   "execution_count": 94,
   "metadata": {},
   "outputs": [
    {
     "name": "stderr",
     "output_type": "stream",
     "text": [
      "cptac warning: CNV data was not found for the following samples, so CNV data columns were filled with NaN for these samples: 01CO001.N, 01CO005.N, 01CO006.N, 01CO008.N, 01CO013.N, 01CO014.N, 01CO015.N, 01CO019.N, 01CO022.N, 05CO002.N, 05CO003.N, 05CO006.N, 05CO007.N, 05CO011.N, 05CO015.N, 05CO020.N, 05CO026.N, 05CO028.N, 05CO029.N, 05CO032.N, 05CO033.N, 05CO034.N, 05CO035.N, 05CO037.N, 05CO039.N, 05CO041.N, 05CO044.N, 05CO045, 05CO045.N, 05CO047.N, 05CO048.N, 05CO049.N, 05CO050.N, 05CO053.N, 05CO054.N, 06CO001.N, 06CO002.N, 09CO005.N, 09CO006.N, 09CO008.N, 09CO011.N, 09CO013.N, 09CO014.N, 09CO015.N, 09CO018.N, 09CO019.N, 09CO022.N, 11CO005.N, 11CO007.N, 11CO008.N, 11CO010.N, 11CO018.N, 11CO019.N, 11CO020.N, 11CO021.N, 11CO022.N, 11CO027.N, 11CO030.N, 11CO031.N, 11CO032.N, 11CO033.N, 11CO036.N, 11CO037.N, 11CO039.N, 11CO042.N, 11CO043.N, 11CO044.N, 11CO045.N, 11CO047.N, 11CO048.N, 11CO051.N, 11CO052.N, 11CO053.N, 11CO054.N, 11CO057.N, 11CO058.N, 11CO060.N, 11CO061.N, 11CO062.N, 11CO070.N, 11CO072.N, 11CO077.N, 11CO079.N, 14CO002.N, 14CO005.N, 15CO001.N, 15CO002.N, 16CO002.N, 16CO003.N, 16CO006.N, 16CO011.N, 20CO001.N, 20CO003.N, 20CO004.N, 20CO006, 20CO006.N, 20CO007.N, 21CO006.N, 21CO007.N, 22CO004.N, 22CO006.N, 27CO004.N (/Users/Lindsey/anaconda3/lib/python3.7/site-packages/ipykernel_launcher.py, line 1)\n",
      "cptac warning: proteomics data was not found for the following samples, so proteomics data columns were filled with NaN for these samples: 01CO001, 05CO005, 05CO007, 05CO014, 05CO055, 11CO059, 11CO060, 14CO002, 16CO012, 24CO005 (/Users/Lindsey/anaconda3/lib/python3.7/site-packages/ipykernel_launcher.py, line 1)\n"
     ]
    },
    {
     "data": {
      "text/html": [
       "<div>\n",
       "<style scoped>\n",
       "    .dataframe tbody tr th:only-of-type {\n",
       "        vertical-align: middle;\n",
       "    }\n",
       "\n",
       "    .dataframe tbody tr th {\n",
       "        vertical-align: top;\n",
       "    }\n",
       "\n",
       "    .dataframe thead th {\n",
       "        text-align: right;\n",
       "    }\n",
       "</style>\n",
       "<table border=\"1\" class=\"dataframe\">\n",
       "  <thead>\n",
       "    <tr style=\"text-align: right;\">\n",
       "      <th>Name</th>\n",
       "      <th>Sample_Tumor_Normal</th>\n",
       "      <th>Age</th>\n",
       "      <th>CEA</th>\n",
       "      <th>Gender</th>\n",
       "      <th>Lymphatic_Invasion</th>\n",
       "      <th>Mucinous</th>\n",
       "      <th>Perineural_Invasion</th>\n",
       "      <th>Polyps_History</th>\n",
       "      <th>Polyps_Present</th>\n",
       "      <th>Stage</th>\n",
       "      <th>Subsite</th>\n",
       "      <th>Synchronous_Tumors</th>\n",
       "      <th>Tumor.Status</th>\n",
       "      <th>Vascular_Invasion</th>\n",
       "      <th>Vital.Status</th>\n",
       "      <th>pathalogy_N_stage</th>\n",
       "      <th>pathalogy_T_stage</th>\n",
       "    </tr>\n",
       "    <tr>\n",
       "      <th>Patient_ID</th>\n",
       "      <th></th>\n",
       "      <th></th>\n",
       "      <th></th>\n",
       "      <th></th>\n",
       "      <th></th>\n",
       "      <th></th>\n",
       "      <th></th>\n",
       "      <th></th>\n",
       "      <th></th>\n",
       "      <th></th>\n",
       "      <th></th>\n",
       "      <th></th>\n",
       "      <th></th>\n",
       "      <th></th>\n",
       "      <th></th>\n",
       "      <th></th>\n",
       "      <th></th>\n",
       "    </tr>\n",
       "  </thead>\n",
       "  <tbody>\n",
       "    <tr>\n",
       "      <td>01CO001</td>\n",
       "      <td>Tumor</td>\n",
       "      <td>729.0</td>\n",
       "      <td>4.9</td>\n",
       "      <td>Male</td>\n",
       "      <td>Yes</td>\n",
       "      <td>Mucinous</td>\n",
       "      <td>No</td>\n",
       "      <td>No</td>\n",
       "      <td>No</td>\n",
       "      <td>Stage III</td>\n",
       "      <td>Sigmoid Colon</td>\n",
       "      <td>No</td>\n",
       "      <td>Tumor free</td>\n",
       "      <td>Yes</td>\n",
       "      <td>Living</td>\n",
       "      <td>N2b</td>\n",
       "      <td>T4a</td>\n",
       "    </tr>\n",
       "    <tr>\n",
       "      <td>01CO005</td>\n",
       "      <td>Tumor</td>\n",
       "      <td>838.0</td>\n",
       "      <td>1.0</td>\n",
       "      <td>Female</td>\n",
       "      <td>No</td>\n",
       "      <td>Not Mucinous</td>\n",
       "      <td>No</td>\n",
       "      <td>Yes</td>\n",
       "      <td>Yes</td>\n",
       "      <td>Stage II</td>\n",
       "      <td>Sigmoid Colon</td>\n",
       "      <td>No</td>\n",
       "      <td>Tumor free</td>\n",
       "      <td>No</td>\n",
       "      <td>Deceased</td>\n",
       "      <td>N0</td>\n",
       "      <td>T3</td>\n",
       "    </tr>\n",
       "    <tr>\n",
       "      <td>01CO006</td>\n",
       "      <td>Tumor</td>\n",
       "      <td>904.0</td>\n",
       "      <td>NaN</td>\n",
       "      <td>Female</td>\n",
       "      <td>Yes</td>\n",
       "      <td>Mucinous</td>\n",
       "      <td>Yes</td>\n",
       "      <td>No</td>\n",
       "      <td>No</td>\n",
       "      <td>Stage III</td>\n",
       "      <td>Ascending Colon</td>\n",
       "      <td>Yes</td>\n",
       "      <td>With tumor</td>\n",
       "      <td>Yes</td>\n",
       "      <td>Living</td>\n",
       "      <td>N2b</td>\n",
       "      <td>T4a</td>\n",
       "    </tr>\n",
       "    <tr>\n",
       "      <td>01CO008</td>\n",
       "      <td>Tumor</td>\n",
       "      <td>652.0</td>\n",
       "      <td>NaN</td>\n",
       "      <td>Female</td>\n",
       "      <td>No</td>\n",
       "      <td>Mucinous</td>\n",
       "      <td>No</td>\n",
       "      <td>No</td>\n",
       "      <td>Yes</td>\n",
       "      <td>Stage II</td>\n",
       "      <td>Descending Colon</td>\n",
       "      <td>No</td>\n",
       "      <td>With tumor</td>\n",
       "      <td>No</td>\n",
       "      <td>Living</td>\n",
       "      <td>N0</td>\n",
       "      <td>T3</td>\n",
       "    </tr>\n",
       "    <tr>\n",
       "      <td>01CO013</td>\n",
       "      <td>Tumor</td>\n",
       "      <td>695.0</td>\n",
       "      <td>NaN</td>\n",
       "      <td>Male</td>\n",
       "      <td>No</td>\n",
       "      <td>Not Mucinous</td>\n",
       "      <td>No</td>\n",
       "      <td>Yes</td>\n",
       "      <td>No</td>\n",
       "      <td>Stage I</td>\n",
       "      <td>Sigmoid Colon</td>\n",
       "      <td>No</td>\n",
       "      <td>Tumor free</td>\n",
       "      <td>No</td>\n",
       "      <td>Living</td>\n",
       "      <td>N0</td>\n",
       "      <td>T2</td>\n",
       "    </tr>\n",
       "    <tr>\n",
       "      <td>...</td>\n",
       "      <td>...</td>\n",
       "      <td>...</td>\n",
       "      <td>...</td>\n",
       "      <td>...</td>\n",
       "      <td>...</td>\n",
       "      <td>...</td>\n",
       "      <td>...</td>\n",
       "      <td>...</td>\n",
       "      <td>...</td>\n",
       "      <td>...</td>\n",
       "      <td>...</td>\n",
       "      <td>...</td>\n",
       "      <td>...</td>\n",
       "      <td>...</td>\n",
       "      <td>...</td>\n",
       "      <td>...</td>\n",
       "      <td>...</td>\n",
       "    </tr>\n",
       "    <tr>\n",
       "      <td>21CO006.N</td>\n",
       "      <td>Normal</td>\n",
       "      <td>NaN</td>\n",
       "      <td>NaN</td>\n",
       "      <td>NaN</td>\n",
       "      <td>NaN</td>\n",
       "      <td>NaN</td>\n",
       "      <td>NaN</td>\n",
       "      <td>NaN</td>\n",
       "      <td>NaN</td>\n",
       "      <td>NaN</td>\n",
       "      <td>NaN</td>\n",
       "      <td>NaN</td>\n",
       "      <td>NaN</td>\n",
       "      <td>NaN</td>\n",
       "      <td>NaN</td>\n",
       "      <td>NaN</td>\n",
       "      <td>NaN</td>\n",
       "    </tr>\n",
       "    <tr>\n",
       "      <td>21CO007.N</td>\n",
       "      <td>Normal</td>\n",
       "      <td>NaN</td>\n",
       "      <td>NaN</td>\n",
       "      <td>NaN</td>\n",
       "      <td>NaN</td>\n",
       "      <td>NaN</td>\n",
       "      <td>NaN</td>\n",
       "      <td>NaN</td>\n",
       "      <td>NaN</td>\n",
       "      <td>NaN</td>\n",
       "      <td>NaN</td>\n",
       "      <td>NaN</td>\n",
       "      <td>NaN</td>\n",
       "      <td>NaN</td>\n",
       "      <td>NaN</td>\n",
       "      <td>NaN</td>\n",
       "      <td>NaN</td>\n",
       "    </tr>\n",
       "    <tr>\n",
       "      <td>22CO004.N</td>\n",
       "      <td>Normal</td>\n",
       "      <td>NaN</td>\n",
       "      <td>NaN</td>\n",
       "      <td>NaN</td>\n",
       "      <td>NaN</td>\n",
       "      <td>NaN</td>\n",
       "      <td>NaN</td>\n",
       "      <td>NaN</td>\n",
       "      <td>NaN</td>\n",
       "      <td>NaN</td>\n",
       "      <td>NaN</td>\n",
       "      <td>NaN</td>\n",
       "      <td>NaN</td>\n",
       "      <td>NaN</td>\n",
       "      <td>NaN</td>\n",
       "      <td>NaN</td>\n",
       "      <td>NaN</td>\n",
       "    </tr>\n",
       "    <tr>\n",
       "      <td>22CO006.N</td>\n",
       "      <td>Normal</td>\n",
       "      <td>NaN</td>\n",
       "      <td>NaN</td>\n",
       "      <td>NaN</td>\n",
       "      <td>NaN</td>\n",
       "      <td>NaN</td>\n",
       "      <td>NaN</td>\n",
       "      <td>NaN</td>\n",
       "      <td>NaN</td>\n",
       "      <td>NaN</td>\n",
       "      <td>NaN</td>\n",
       "      <td>NaN</td>\n",
       "      <td>NaN</td>\n",
       "      <td>NaN</td>\n",
       "      <td>NaN</td>\n",
       "      <td>NaN</td>\n",
       "      <td>NaN</td>\n",
       "    </tr>\n",
       "    <tr>\n",
       "      <td>27CO004.N</td>\n",
       "      <td>Normal</td>\n",
       "      <td>NaN</td>\n",
       "      <td>NaN</td>\n",
       "      <td>NaN</td>\n",
       "      <td>NaN</td>\n",
       "      <td>NaN</td>\n",
       "      <td>NaN</td>\n",
       "      <td>NaN</td>\n",
       "      <td>NaN</td>\n",
       "      <td>NaN</td>\n",
       "      <td>NaN</td>\n",
       "      <td>NaN</td>\n",
       "      <td>NaN</td>\n",
       "      <td>NaN</td>\n",
       "      <td>NaN</td>\n",
       "      <td>NaN</td>\n",
       "      <td>NaN</td>\n",
       "    </tr>\n",
       "  </tbody>\n",
       "</table>\n",
       "<p>238 rows × 17 columns</p>\n",
       "</div>"
      ],
      "text/plain": [
       "Name       Sample_Tumor_Normal    Age  CEA  Gender Lymphatic_Invasion  \\\n",
       "Patient_ID                                                              \n",
       "01CO001                  Tumor  729.0  4.9    Male                Yes   \n",
       "01CO005                  Tumor  838.0  1.0  Female                 No   \n",
       "01CO006                  Tumor  904.0  NaN  Female                Yes   \n",
       "01CO008                  Tumor  652.0  NaN  Female                 No   \n",
       "01CO013                  Tumor  695.0  NaN    Male                 No   \n",
       "...                        ...    ...  ...     ...                ...   \n",
       "21CO006.N               Normal    NaN  NaN     NaN                NaN   \n",
       "21CO007.N               Normal    NaN  NaN     NaN                NaN   \n",
       "22CO004.N               Normal    NaN  NaN     NaN                NaN   \n",
       "22CO006.N               Normal    NaN  NaN     NaN                NaN   \n",
       "27CO004.N               Normal    NaN  NaN     NaN                NaN   \n",
       "\n",
       "Name            Mucinous Perineural_Invasion Polyps_History Polyps_Present  \\\n",
       "Patient_ID                                                                   \n",
       "01CO001         Mucinous                  No             No             No   \n",
       "01CO005     Not Mucinous                  No            Yes            Yes   \n",
       "01CO006         Mucinous                 Yes             No             No   \n",
       "01CO008         Mucinous                  No             No            Yes   \n",
       "01CO013     Not Mucinous                  No            Yes             No   \n",
       "...                  ...                 ...            ...            ...   \n",
       "21CO006.N            NaN                 NaN            NaN            NaN   \n",
       "21CO007.N            NaN                 NaN            NaN            NaN   \n",
       "22CO004.N            NaN                 NaN            NaN            NaN   \n",
       "22CO006.N            NaN                 NaN            NaN            NaN   \n",
       "27CO004.N            NaN                 NaN            NaN            NaN   \n",
       "\n",
       "Name            Stage           Subsite Synchronous_Tumors Tumor.Status  \\\n",
       "Patient_ID                                                                \n",
       "01CO001     Stage III     Sigmoid Colon                 No   Tumor free   \n",
       "01CO005      Stage II     Sigmoid Colon                 No   Tumor free   \n",
       "01CO006     Stage III   Ascending Colon                Yes   With tumor   \n",
       "01CO008      Stage II  Descending Colon                 No   With tumor   \n",
       "01CO013       Stage I     Sigmoid Colon                 No   Tumor free   \n",
       "...               ...               ...                ...          ...   \n",
       "21CO006.N         NaN               NaN                NaN          NaN   \n",
       "21CO007.N         NaN               NaN                NaN          NaN   \n",
       "22CO004.N         NaN               NaN                NaN          NaN   \n",
       "22CO006.N         NaN               NaN                NaN          NaN   \n",
       "27CO004.N         NaN               NaN                NaN          NaN   \n",
       "\n",
       "Name       Vascular_Invasion Vital.Status pathalogy_N_stage pathalogy_T_stage  \n",
       "Patient_ID                                                                     \n",
       "01CO001                  Yes       Living               N2b               T4a  \n",
       "01CO005                   No     Deceased                N0                T3  \n",
       "01CO006                  Yes       Living               N2b               T4a  \n",
       "01CO008                   No       Living                N0                T3  \n",
       "01CO013                   No       Living                N0                T2  \n",
       "...                      ...          ...               ...               ...  \n",
       "21CO006.N                NaN          NaN               NaN               NaN  \n",
       "21CO007.N                NaN          NaN               NaN               NaN  \n",
       "22CO004.N                NaN          NaN               NaN               NaN  \n",
       "22CO006.N                NaN          NaN               NaN               NaN  \n",
       "27CO004.N                NaN          NaN               NaN               NaN  \n",
       "\n",
       "[238 rows x 17 columns]"
      ]
     },
     "execution_count": 94,
     "metadata": {},
     "output_type": "execute_result"
    }
   ],
   "source": [
    "prot_CNV_colon = colon.join_omics_to_omics(df1_name=\"proteomics\", df2_name=\"CNV\")\n",
    "prot_CNV = prot_CNV_colon[[\"EGFR_proteomics\",\"EGFR_CNV\"]]\n",
    "#prot_CNV.columns = prot_CNV.columns.droplevel(1)\n",
    "mutation = colon.get_clinical()\n",
    "\n",
    "#do a linear regression to see if it's a meaningful association\n",
    "#linear regression really hates it when there are NaN, right?\n",
    "#dropna will remove rows with nan\n"
   ]
  },
  {
   "cell_type": "code",
   "execution_count": 96,
   "metadata": {},
   "outputs": [
    {
     "data": {
      "text/html": [
       "<div>\n",
       "<style scoped>\n",
       "    .dataframe tbody tr th:only-of-type {\n",
       "        vertical-align: middle;\n",
       "    }\n",
       "\n",
       "    .dataframe tbody tr th {\n",
       "        vertical-align: top;\n",
       "    }\n",
       "\n",
       "    .dataframe thead th {\n",
       "        text-align: right;\n",
       "    }\n",
       "</style>\n",
       "<table border=\"1\" class=\"dataframe\">\n",
       "  <thead>\n",
       "    <tr style=\"text-align: right;\">\n",
       "      <th>Name</th>\n",
       "      <th>EGFR_proteomics</th>\n",
       "      <th>EGFR_CNV</th>\n",
       "      <th>Sample_Tumor_Normal</th>\n",
       "    </tr>\n",
       "    <tr>\n",
       "      <th>Patient_ID</th>\n",
       "      <th></th>\n",
       "      <th></th>\n",
       "      <th></th>\n",
       "    </tr>\n",
       "  </thead>\n",
       "  <tbody>\n",
       "    <tr>\n",
       "      <td>01CO005</td>\n",
       "      <td>-0.1540</td>\n",
       "      <td>0.972</td>\n",
       "      <td>Tumor</td>\n",
       "    </tr>\n",
       "    <tr>\n",
       "      <td>01CO006</td>\n",
       "      <td>0.0916</td>\n",
       "      <td>0.044</td>\n",
       "      <td>Tumor</td>\n",
       "    </tr>\n",
       "    <tr>\n",
       "      <td>01CO008</td>\n",
       "      <td>-0.3250</td>\n",
       "      <td>0.403</td>\n",
       "      <td>Tumor</td>\n",
       "    </tr>\n",
       "    <tr>\n",
       "      <td>01CO013</td>\n",
       "      <td>-0.5470</td>\n",
       "      <td>0.470</td>\n",
       "      <td>Tumor</td>\n",
       "    </tr>\n",
       "    <tr>\n",
       "      <td>01CO014</td>\n",
       "      <td>0.0184</td>\n",
       "      <td>0.113</td>\n",
       "      <td>Tumor</td>\n",
       "    </tr>\n",
       "    <tr>\n",
       "      <td>...</td>\n",
       "      <td>...</td>\n",
       "      <td>...</td>\n",
       "      <td>...</td>\n",
       "    </tr>\n",
       "    <tr>\n",
       "      <td>21CO006</td>\n",
       "      <td>-0.0624</td>\n",
       "      <td>0.634</td>\n",
       "      <td>Tumor</td>\n",
       "    </tr>\n",
       "    <tr>\n",
       "      <td>21CO007</td>\n",
       "      <td>-0.0125</td>\n",
       "      <td>1.624</td>\n",
       "      <td>Tumor</td>\n",
       "    </tr>\n",
       "    <tr>\n",
       "      <td>22CO004</td>\n",
       "      <td>-0.5250</td>\n",
       "      <td>0.698</td>\n",
       "      <td>Tumor</td>\n",
       "    </tr>\n",
       "    <tr>\n",
       "      <td>22CO006</td>\n",
       "      <td>-0.1010</td>\n",
       "      <td>0.026</td>\n",
       "      <td>Tumor</td>\n",
       "    </tr>\n",
       "    <tr>\n",
       "      <td>27CO004</td>\n",
       "      <td>-0.1270</td>\n",
       "      <td>0.045</td>\n",
       "      <td>Tumor</td>\n",
       "    </tr>\n",
       "  </tbody>\n",
       "</table>\n",
       "<p>95 rows × 3 columns</p>\n",
       "</div>"
      ],
      "text/plain": [
       "Name        EGFR_proteomics  EGFR_CNV Sample_Tumor_Normal\n",
       "Patient_ID                                               \n",
       "01CO005             -0.1540     0.972               Tumor\n",
       "01CO006              0.0916     0.044               Tumor\n",
       "01CO008             -0.3250     0.403               Tumor\n",
       "01CO013             -0.5470     0.470               Tumor\n",
       "01CO014              0.0184     0.113               Tumor\n",
       "...                     ...       ...                 ...\n",
       "21CO006             -0.0624     0.634               Tumor\n",
       "21CO007             -0.0125     1.624               Tumor\n",
       "22CO004             -0.5250     0.698               Tumor\n",
       "22CO006             -0.1010     0.026               Tumor\n",
       "27CO004             -0.1270     0.045               Tumor\n",
       "\n",
       "[95 rows x 3 columns]"
      ]
     },
     "execution_count": 96,
     "metadata": {},
     "output_type": "execute_result"
    }
   ],
   "source": [
    "\n",
    "mergedDf = prot_CNV.merge(mutation, on=\"Patient_ID\")\n",
    "df1 = mergedDf.loc[mergedDf['Sample_Tumor_Normal'] == \"Tumor\"]\n",
    "df1 = df1[[\"EGFR_proteomics\",\"EGFR_CNV\",\"Sample_Tumor_Normal\"]]\n",
    "df1 = df1.dropna(axis=0, how=\"any\")\n",
    "df1\n"
   ]
  },
  {
   "cell_type": "code",
   "execution_count": 97,
   "metadata": {},
   "outputs": [],
   "source": [
    "x1 = df1[[\"EGFR_CNV\"]].values\n",
    "y1 = df1[[\"EGFR_proteomics\"]].values\n",
    "x1 = x1[:,0]\n",
    "y1 = y1[:,0]\n",
    "\n",
    "corr, pval = scipy.stats.pearsonr(x1,y1)"
   ]
  },
  {
   "cell_type": "code",
   "execution_count": 100,
   "metadata": {},
   "outputs": [
    {
     "data": {
      "image/png": "[encoded data removed]",
      "text/plain": [
       "<Figure size 432x288 with 1 Axes>"
      ]
     },
     "metadata": {},
     "output_type": "display_data"
    }
   ],
   "source": [
    "sns.set(style=\"darkgrid\")\n",
    "plot = sns.regplot(x=x1, y=y1, data=df1)\n",
    "plot.set(xlabel='CNV', ylabel='Proteomics', title='CNV vs. Proteomics for the EGFR gene in Colon')\n",
    "pval = myTrunc(pval,3)\n",
    "corr = myTrunc(corr,3)\n",
    "plt.text(-0.5,1.25, \"Correlation: %s\\nPvalue: %s\"%(corr,pval))\n",
    "plt.savefig('EGFR_CNV_colon.png')   \n",
    "plt.show()"
   ]
  },
  {
   "cell_type": "markdown",
   "metadata": {},
   "source": [
    "# Brca "
   ]
  },
  {
   "cell_type": "code",
   "execution_count": 101,
   "metadata": {},
   "outputs": [
    {
     "name": "stdout",
     "output_type": "stream",
     "text": [
      "                                    \r"
     ]
    }
   ],
   "source": [
    "brca = cptac.Brca()"
   ]
  },
  {
   "cell_type": "code",
   "execution_count": 115,
   "metadata": {},
   "outputs": [
    {
     "data": {
      "text/html": [
       "<div>\n",
       "<style scoped>\n",
       "    .dataframe tbody tr th:only-of-type {\n",
       "        vertical-align: middle;\n",
       "    }\n",
       "\n",
       "    .dataframe tbody tr th {\n",
       "        vertical-align: top;\n",
       "    }\n",
       "\n",
       "    .dataframe thead th {\n",
       "        text-align: right;\n",
       "    }\n",
       "</style>\n",
       "<table border=\"1\" class=\"dataframe\">\n",
       "  <thead>\n",
       "    <tr style=\"text-align: right;\">\n",
       "      <th>Name</th>\n",
       "      <th>EGFR_proteomics</th>\n",
       "      <th>EGFR_CNV</th>\n",
       "    </tr>\n",
       "    <tr>\n",
       "      <th>Patient_ID</th>\n",
       "      <th></th>\n",
       "      <th></th>\n",
       "    </tr>\n",
       "  </thead>\n",
       "  <tbody>\n",
       "    <tr>\n",
       "      <td>CPT000814</td>\n",
       "      <td>-0.4834</td>\n",
       "      <td>-0.471</td>\n",
       "    </tr>\n",
       "    <tr>\n",
       "      <td>CPT001846</td>\n",
       "      <td>4.1062</td>\n",
       "      <td>1.288</td>\n",
       "    </tr>\n",
       "    <tr>\n",
       "      <td>X01BR001</td>\n",
       "      <td>1.2191</td>\n",
       "      <td>2.199</td>\n",
       "    </tr>\n",
       "    <tr>\n",
       "      <td>X01BR008</td>\n",
       "      <td>0.0613</td>\n",
       "      <td>0.114</td>\n",
       "    </tr>\n",
       "    <tr>\n",
       "      <td>X01BR009</td>\n",
       "      <td>1.6974</td>\n",
       "      <td>0.582</td>\n",
       "    </tr>\n",
       "    <tr>\n",
       "      <td>...</td>\n",
       "      <td>...</td>\n",
       "      <td>...</td>\n",
       "    </tr>\n",
       "    <tr>\n",
       "      <td>X21BR001</td>\n",
       "      <td>-1.5217</td>\n",
       "      <td>-0.099</td>\n",
       "    </tr>\n",
       "    <tr>\n",
       "      <td>X21BR002</td>\n",
       "      <td>-0.9455</td>\n",
       "      <td>0.016</td>\n",
       "    </tr>\n",
       "    <tr>\n",
       "      <td>X21BR010</td>\n",
       "      <td>-0.7098</td>\n",
       "      <td>0.291</td>\n",
       "    </tr>\n",
       "    <tr>\n",
       "      <td>X22BR005</td>\n",
       "      <td>-1.7568</td>\n",
       "      <td>-0.095</td>\n",
       "    </tr>\n",
       "    <tr>\n",
       "      <td>X22BR006</td>\n",
       "      <td>-1.1921</td>\n",
       "      <td>0.390</td>\n",
       "    </tr>\n",
       "  </tbody>\n",
       "</table>\n",
       "<p>122 rows × 2 columns</p>\n",
       "</div>"
      ],
      "text/plain": [
       "Name        EGFR_proteomics  EGFR_CNV\n",
       "Patient_ID                           \n",
       "CPT000814           -0.4834    -0.471\n",
       "CPT001846            4.1062     1.288\n",
       "X01BR001             1.2191     2.199\n",
       "X01BR008             0.0613     0.114\n",
       "X01BR009             1.6974     0.582\n",
       "...                     ...       ...\n",
       "X21BR001            -1.5217    -0.099\n",
       "X21BR002            -0.9455     0.016\n",
       "X21BR010            -0.7098     0.291\n",
       "X22BR005            -1.7568    -0.095\n",
       "X22BR006            -1.1921     0.390\n",
       "\n",
       "[122 rows x 2 columns]"
      ]
     },
     "execution_count": 115,
     "metadata": {},
     "output_type": "execute_result"
    }
   ],
   "source": [
    "prot_CNV = brca.join_omics_to_omics(df1_name=\"proteomics\", df2_name=\"CNV\")\n",
    "prot_CNV = prot_CNV[[\"EGFR_proteomics\",\"EGFR_CNV\"]]\n",
    "prot_CNV.columns = prot_CNV.columns.droplevel(1)\n",
    "mutation = brca.get_clinical()\n",
    "prot_CNV"
   ]
  },
  {
   "cell_type": "code",
   "execution_count": 116,
   "metadata": {},
   "outputs": [
    {
     "data": {
      "text/html": [
       "<div>\n",
       "<style scoped>\n",
       "    .dataframe tbody tr th:only-of-type {\n",
       "        vertical-align: middle;\n",
       "    }\n",
       "\n",
       "    .dataframe tbody tr th {\n",
       "        vertical-align: top;\n",
       "    }\n",
       "\n",
       "    .dataframe thead th {\n",
       "        text-align: right;\n",
       "    }\n",
       "</style>\n",
       "<table border=\"1\" class=\"dataframe\">\n",
       "  <thead>\n",
       "    <tr style=\"text-align: right;\">\n",
       "      <th>Name</th>\n",
       "      <th>EGFR_proteomics</th>\n",
       "      <th>EGFR_CNV</th>\n",
       "      <th>Sample_Tumor_Normal</th>\n",
       "    </tr>\n",
       "    <tr>\n",
       "      <th>Patient_ID</th>\n",
       "      <th></th>\n",
       "      <th></th>\n",
       "      <th></th>\n",
       "    </tr>\n",
       "  </thead>\n",
       "  <tbody>\n",
       "    <tr>\n",
       "      <td>CPT000814</td>\n",
       "      <td>-0.4834</td>\n",
       "      <td>-0.471</td>\n",
       "      <td>Tumor</td>\n",
       "    </tr>\n",
       "    <tr>\n",
       "      <td>CPT001846</td>\n",
       "      <td>4.1062</td>\n",
       "      <td>1.288</td>\n",
       "      <td>Tumor</td>\n",
       "    </tr>\n",
       "    <tr>\n",
       "      <td>X01BR001</td>\n",
       "      <td>1.2191</td>\n",
       "      <td>2.199</td>\n",
       "      <td>Tumor</td>\n",
       "    </tr>\n",
       "    <tr>\n",
       "      <td>X01BR008</td>\n",
       "      <td>0.0613</td>\n",
       "      <td>0.114</td>\n",
       "      <td>Tumor</td>\n",
       "    </tr>\n",
       "    <tr>\n",
       "      <td>X01BR009</td>\n",
       "      <td>1.6974</td>\n",
       "      <td>0.582</td>\n",
       "      <td>Tumor</td>\n",
       "    </tr>\n",
       "    <tr>\n",
       "      <td>...</td>\n",
       "      <td>...</td>\n",
       "      <td>...</td>\n",
       "      <td>...</td>\n",
       "    </tr>\n",
       "    <tr>\n",
       "      <td>X21BR001</td>\n",
       "      <td>-1.5217</td>\n",
       "      <td>-0.099</td>\n",
       "      <td>Tumor</td>\n",
       "    </tr>\n",
       "    <tr>\n",
       "      <td>X21BR002</td>\n",
       "      <td>-0.9455</td>\n",
       "      <td>0.016</td>\n",
       "      <td>Tumor</td>\n",
       "    </tr>\n",
       "    <tr>\n",
       "      <td>X21BR010</td>\n",
       "      <td>-0.7098</td>\n",
       "      <td>0.291</td>\n",
       "      <td>Tumor</td>\n",
       "    </tr>\n",
       "    <tr>\n",
       "      <td>X22BR005</td>\n",
       "      <td>-1.7568</td>\n",
       "      <td>-0.095</td>\n",
       "      <td>Tumor</td>\n",
       "    </tr>\n",
       "    <tr>\n",
       "      <td>X22BR006</td>\n",
       "      <td>-1.1921</td>\n",
       "      <td>0.390</td>\n",
       "      <td>Tumor</td>\n",
       "    </tr>\n",
       "  </tbody>\n",
       "</table>\n",
       "<p>115 rows × 3 columns</p>\n",
       "</div>"
      ],
      "text/plain": [
       "Name        EGFR_proteomics  EGFR_CNV Sample_Tumor_Normal\n",
       "Patient_ID                                               \n",
       "CPT000814           -0.4834    -0.471               Tumor\n",
       "CPT001846            4.1062     1.288               Tumor\n",
       "X01BR001             1.2191     2.199               Tumor\n",
       "X01BR008             0.0613     0.114               Tumor\n",
       "X01BR009             1.6974     0.582               Tumor\n",
       "...                     ...       ...                 ...\n",
       "X21BR001            -1.5217    -0.099               Tumor\n",
       "X21BR002            -0.9455     0.016               Tumor\n",
       "X21BR010            -0.7098     0.291               Tumor\n",
       "X22BR005            -1.7568    -0.095               Tumor\n",
       "X22BR006            -1.1921     0.390               Tumor\n",
       "\n",
       "[115 rows x 3 columns]"
      ]
     },
     "execution_count": 116,
     "metadata": {},
     "output_type": "execute_result"
    }
   ],
   "source": [
    "mergedDf = prot_CNV.merge(mutation, on=\"Patient_ID\")\n",
    "df1 = mergedDf.loc[mergedDf['Sample_Tumor_Normal'] == \"Tumor\"]\n",
    "df1 = df1[[\"EGFR_proteomics\",\"EGFR_CNV\",\"Sample_Tumor_Normal\"]]\n",
    "df1 = df1.dropna(axis=0, how=\"any\")\n",
    "df1"
   ]
  },
  {
   "cell_type": "code",
   "execution_count": 117,
   "metadata": {},
   "outputs": [],
   "source": [
    "x1 = df1[[\"EGFR_CNV\"]].values\n",
    "y1 = df1[[\"EGFR_proteomics\"]].values\n",
    "x1 = x1[:,0]\n",
    "y1 = y1[:,0]\n",
    "\n",
    "corr, pval = scipy.stats.pearsonr(x1,y1)"
   ]
  },
  {
   "cell_type": "code",
   "execution_count": 118,
   "metadata": {},
   "outputs": [
    {
     "data": {
      "image/png": "[encoded data removed]",
      "text/plain": [
       "<Figure size 432x288 with 1 Axes>"
      ]
     },
     "metadata": {},
     "output_type": "display_data"
    }
   ],
   "source": [
    "sns.set(style=\"darkgrid\")\n",
    "plot = sns.regplot(x=x1, y=y1, data=df1)\n",
    "plot.set(xlabel='CNV', ylabel='Proteomics', title='CNV vs. Proteomics for the EGFR gene in Brca')\n",
    "pval = myTrunc(pval,3)\n",
    "corr = myTrunc(corr,3)\n",
    "plt.text(-0.5,7, \"Correlation: %s\\nPvalue: %s\"%(corr,pval))\n",
    "plt.savefig('EGFR_CNV_Brca.png')   \n",
    "plt.show()"
   ]
  },
  {
   "cell_type": "markdown",
   "metadata": {},
   "source": [
    "# LUAD"
   ]
  },
  {
   "cell_type": "code",
   "execution_count": 110,
   "metadata": {},
   "outputs": [
    {
     "name": "stdout",
     "output_type": "stream",
     "text": [
      "                                    \r"
     ]
    },
    {
     "name": "stderr",
     "output_type": "stream",
     "text": [
      "cptac warning: The LUAD dataset is under publication embargo until July 01, 2020. CPTAC is a community resource project and data are made available rapidly after generation for community research use. The embargo allows exploring and utilizing the data, but analysis may not be published until after the embargo date. Please see https://proteomics.cancer.gov/data-portal/about/data-use-agreement or enter cptac.embargo() to open the webpage for more details. (/Users/Lindsey/anaconda3/lib/python3.7/site-packages/ipykernel_launcher.py, line 1)\n"
     ]
    }
   ],
   "source": [
    "luad = cptac.Luad()"
   ]
  },
  {
   "cell_type": "code",
   "execution_count": 127,
   "metadata": {},
   "outputs": [
    {
     "name": "stderr",
     "output_type": "stream",
     "text": [
      "cptac warning: CNV data was not found for the following samples, so CNV data columns were filled with NaN for these samples: C3L-00001.N, C3L-00009.N, C3L-00080.N, C3L-00083.N, C3L-00093.N, C3L-00094.N, C3L-00095.N, C3L-00140.N, C3L-00144.N, C3L-00263.N, C3L-00279.N, C3L-00368.N, C3L-00412.N, C3L-00422.N, C3L-00510.N, C3L-00604.N, C3L-00893.N, C3L-00913.N, C3L-00973.N, C3L-01330.N, C3L-01632.N, C3L-01682.N, C3L-01683.N, C3L-01889.N, C3L-01890, C3L-01890.N, C3L-01924.N, C3L-02219.N, C3L-02345.N, C3L-02348.N, C3L-02350.N, C3L-02365.N, C3L-02508.N, C3L-02549.N, C3N-00167.N, C3N-00169.N, C3N-00175.N, C3N-00180.N, C3N-00199.N, C3N-00203.N, C3N-00217.N, C3N-00223.N, C3N-00293.N, C3N-00433.N, C3N-00546.N, C3N-00547.N, C3N-00549.N, C3N-00550.N, C3N-00551.N, C3N-00552.N, C3N-00556.N, C3N-00559.N, C3N-00560.N, C3N-00572.N, C3N-00574.N, C3N-00578.N, C3N-00579.N, C3N-00580.N, C3N-00704.N, C3N-00737.N, C3N-00738.N, C3N-00959.N, C3N-01016.N, C3N-01021.N, C3N-01023.N, C3N-01024.N, C3N-01030.N, C3N-01071.N, C3N-01072.N, C3N-01405.N, C3N-01410.N, C3N-01413.N, C3N-01414.N, C3N-01415.N, C3N-01416.N, C3N-01488.N, C3N-01489.N, C3N-01799.N, C3N-01823.N, C3N-02000.N, C3N-02002.N, C3N-02003.N, C3N-02067.N, C3N-02087.N, C3N-02089.N, C3N-02145.N, C3N-02149.N, C3N-02155.N, C3N-02158.N, C3N-02379.N, C3N-02380.N, C3N-02421.N, C3N-02423.N, C3N-02424.N, C3N-02433.N, C3N-02529.N, C3N-02572.N, C3N-02582.N, C3N-02586.N, C3N-02587.N, C3N-02588.N, C3N-02729.N (/Users/Lindsey/anaconda3/lib/python3.7/site-packages/ipykernel_launcher.py, line 1)\n"
     ]
    }
   ],
   "source": [
    "prot_CNV = luad.join_omics_to_omics(df1_name=\"proteomics\", df2_name=\"CNV\")\n",
    "prot_CNV = prot_CNV[[\"EGFR_proteomics\",\"EGFR_CNV\"]]\n",
    "prot_CNV.columns = prot_CNV.columns.droplevel(1)\n",
    "mutation = luad.get_clinical()"
   ]
  },
  {
   "cell_type": "code",
   "execution_count": 128,
   "metadata": {},
   "outputs": [
    {
     "data": {
      "text/html": [
       "<div>\n",
       "<style scoped>\n",
       "    .dataframe tbody tr th:only-of-type {\n",
       "        vertical-align: middle;\n",
       "    }\n",
       "\n",
       "    .dataframe tbody tr th {\n",
       "        vertical-align: top;\n",
       "    }\n",
       "\n",
       "    .dataframe thead th {\n",
       "        text-align: right;\n",
       "    }\n",
       "</style>\n",
       "<table border=\"1\" class=\"dataframe\">\n",
       "  <thead>\n",
       "    <tr style=\"text-align: right;\">\n",
       "      <th>Name</th>\n",
       "      <th>EGFR_proteomics</th>\n",
       "      <th>EGFR_CNV</th>\n",
       "      <th>Sample_Tumor_Normal</th>\n",
       "    </tr>\n",
       "    <tr>\n",
       "      <th>Patient_ID</th>\n",
       "      <th></th>\n",
       "      <th></th>\n",
       "      <th></th>\n",
       "    </tr>\n",
       "  </thead>\n",
       "  <tbody>\n",
       "    <tr>\n",
       "      <td>C3L-00001</td>\n",
       "      <td>7.5892</td>\n",
       "      <td>2.3242</td>\n",
       "      <td>Tumor</td>\n",
       "    </tr>\n",
       "    <tr>\n",
       "      <td>C3L-00009</td>\n",
       "      <td>-1.8777</td>\n",
       "      <td>0.0730</td>\n",
       "      <td>Tumor</td>\n",
       "    </tr>\n",
       "    <tr>\n",
       "      <td>C3L-00080</td>\n",
       "      <td>-1.2350</td>\n",
       "      <td>0.1973</td>\n",
       "      <td>Tumor</td>\n",
       "    </tr>\n",
       "    <tr>\n",
       "      <td>C3L-00083</td>\n",
       "      <td>-2.8551</td>\n",
       "      <td>0.0037</td>\n",
       "      <td>Tumor</td>\n",
       "    </tr>\n",
       "    <tr>\n",
       "      <td>C3L-00093</td>\n",
       "      <td>-1.9872</td>\n",
       "      <td>0.2556</td>\n",
       "      <td>Tumor</td>\n",
       "    </tr>\n",
       "    <tr>\n",
       "      <td>...</td>\n",
       "      <td>...</td>\n",
       "      <td>...</td>\n",
       "      <td>...</td>\n",
       "    </tr>\n",
       "    <tr>\n",
       "      <td>C3N-02729</td>\n",
       "      <td>0.6061</td>\n",
       "      <td>0.2633</td>\n",
       "      <td>Tumor</td>\n",
       "    </tr>\n",
       "    <tr>\n",
       "      <td>X11LU013</td>\n",
       "      <td>5.1657</td>\n",
       "      <td>4.1857</td>\n",
       "      <td>Tumor</td>\n",
       "    </tr>\n",
       "    <tr>\n",
       "      <td>X11LU016</td>\n",
       "      <td>0.6080</td>\n",
       "      <td>0.3967</td>\n",
       "      <td>Tumor</td>\n",
       "    </tr>\n",
       "    <tr>\n",
       "      <td>X11LU022</td>\n",
       "      <td>1.0362</td>\n",
       "      <td>0.0744</td>\n",
       "      <td>Tumor</td>\n",
       "    </tr>\n",
       "    <tr>\n",
       "      <td>X11LU035</td>\n",
       "      <td>-2.1088</td>\n",
       "      <td>0.3496</td>\n",
       "      <td>Tumor</td>\n",
       "    </tr>\n",
       "  </tbody>\n",
       "</table>\n",
       "<p>109 rows × 3 columns</p>\n",
       "</div>"
      ],
      "text/plain": [
       "Name        EGFR_proteomics  EGFR_CNV Sample_Tumor_Normal\n",
       "Patient_ID                                               \n",
       "C3L-00001            7.5892    2.3242               Tumor\n",
       "C3L-00009           -1.8777    0.0730               Tumor\n",
       "C3L-00080           -1.2350    0.1973               Tumor\n",
       "C3L-00083           -2.8551    0.0037               Tumor\n",
       "C3L-00093           -1.9872    0.2556               Tumor\n",
       "...                     ...       ...                 ...\n",
       "C3N-02729            0.6061    0.2633               Tumor\n",
       "X11LU013             5.1657    4.1857               Tumor\n",
       "X11LU016             0.6080    0.3967               Tumor\n",
       "X11LU022             1.0362    0.0744               Tumor\n",
       "X11LU035            -2.1088    0.3496               Tumor\n",
       "\n",
       "[109 rows x 3 columns]"
      ]
     },
     "execution_count": 128,
     "metadata": {},
     "output_type": "execute_result"
    }
   ],
   "source": [
    "mergedDf = prot_CNV.merge(mutation, on=\"Patient_ID\")\n",
    "df1 = mergedDf.loc[mergedDf['Sample_Tumor_Normal'] == \"Tumor\"]\n",
    "df1 = df1[[\"EGFR_proteomics\",\"EGFR_CNV\",\"Sample_Tumor_Normal\"]]\n",
    "df1 = df1.dropna(axis=0, how=\"any\")\n",
    "df1"
   ]
  },
  {
   "cell_type": "code",
   "execution_count": 129,
   "metadata": {},
   "outputs": [],
   "source": [
    "x1 = df1[[\"EGFR_CNV\"]].values\n",
    "y1 = df1[[\"EGFR_proteomics\"]].values\n",
    "x1 = x1[:,0]\n",
    "y1 = y1[:,0]\n",
    "\n",
    "corr, pval = scipy.stats.pearsonr(x1,y1)"
   ]
  },
  {
   "cell_type": "code",
   "execution_count": 133,
   "metadata": {},
   "outputs": [
    {
     "data": {
      "image/png": "[encoded data removed]",
      "text/plain": [
       "<Figure size 432x288 with 1 Axes>"
      ]
     },
     "metadata": {},
     "output_type": "display_data"
    }
   ],
   "source": [
    "sns.set(style=\"darkgrid\")\n",
    "plot = sns.regplot(x=x1, y=y1, data=df1)\n",
    "plot.set(xlabel='CNV', ylabel='Proteomics', title='CNV vs. Proteomics for the EGFR gene in Luad')\n",
    "pval = myTrunc(pval,19)\n",
    "corr = myTrunc(corr,3)\n",
    "plt.text(-0.5,14, \"Correlation: %s\\nPvalue: %s\"%(corr,pval))\n",
    "plt.savefig('EGFR_CNV_Luad.png')   \n",
    "plt.show()"
   ]
  },
  {
   "cell_type": "markdown",
   "metadata": {},
   "source": [
    "# HNSCC"
   ]
  },
  {
   "cell_type": "code",
   "execution_count": 134,
   "metadata": {},
   "outputs": [
    {
     "name": "stdout",
     "output_type": "stream",
     "text": [
      "                                    \r"
     ]
    }
   ],
   "source": [
    "Hnscc = cptac.Hnscc()"
   ]
  },
  {
   "cell_type": "code",
   "execution_count": 144,
   "metadata": {},
   "outputs": [
    {
     "name": "stderr",
     "output_type": "stream",
     "text": [
      "cptac warning: CNV data was not found for the following samples, so CNV data columns were filled with NaN for these samples: C3L-00994.C, C3L-00994.N, C3L-00995.N, C3L-00997.N, C3L-00999.N, C3L-01237.N, C3L-02617, C3L-02617.C, C3L-02617.N, C3L-02621.N, C3L-02651.N, C3L-03378.N, C3L-04350.C, C3L-04354.N, C3L-04844.N, C3L-05257.C, C3N-00204.N, C3N-00295.N, C3N-00306.N, C3N-00307.N, C3N-00498.N, C3N-00519.N, C3N-00829.N, C3N-00857.N, C3N-01337.N, C3N-01338.N, C3N-01340.N, C3N-01620.N, C3N-01645.N, C3N-01754.N, C3N-01756.N, C3N-01757.C, C3N-01758.N, C3N-01858.N, C3N-01859.N, C3N-01943.N, C3N-01944.N, C3N-01946.N, C3N-01947.N, C3N-02279.N, C3N-02693.N, C3N-02713.N, C3N-02714.N, C3N-02727, C3N-03008.N, C3N-03011.N, C3N-03012.N, C3N-03013.N, C3N-03015.N, C3N-03027.N, C3N-03028.N, C3N-03042.C, C3N-03045.N, C3N-03488.N, C3N-03490.N, C3N-03619.N, C3N-03620.N, C3N-03781.N, C3N-03837.N, C3N-03841.N, C3N-03849.N, C3N-03876.N, C3N-03878.N, C3N-03888.N, C3N-03928.N, C3N-03933.N, C3N-04275.N, C3N-04276.N, C3N-04277.N, C3N-04278.N, C3N-04279.N (/Users/Lindsey/anaconda3/lib/python3.7/site-packages/ipykernel_launcher.py, line 1)\n",
      "cptac warning: proteomics data was not found for the following samples, so proteomics data columns were filled with NaN for these samples: C3N-00300, C3N-01643 (/Users/Lindsey/anaconda3/lib/python3.7/site-packages/ipykernel_launcher.py, line 1)\n"
     ]
    }
   ],
   "source": [
    "prot_CNV = Hnscc.join_omics_to_omics(df1_name=\"proteomics\", df2_name=\"CNV\")\n",
    "prot_CNV = prot_CNV[[\"EGFR_proteomics\",\"EGFR_CNV\"]]\n",
    "#prot_CNV.columns = prot_CNV.columns.droplevel(1)\n",
    "mutation = Hnscc.get_clinical()"
   ]
  },
  {
   "cell_type": "code",
   "execution_count": 145,
   "metadata": {},
   "outputs": [
    {
     "data": {
      "text/html": [
       "<div>\n",
       "<style scoped>\n",
       "    .dataframe tbody tr th:only-of-type {\n",
       "        vertical-align: middle;\n",
       "    }\n",
       "\n",
       "    .dataframe tbody tr th {\n",
       "        vertical-align: top;\n",
       "    }\n",
       "\n",
       "    .dataframe thead th {\n",
       "        text-align: right;\n",
       "    }\n",
       "</style>\n",
       "<table border=\"1\" class=\"dataframe\">\n",
       "  <thead>\n",
       "    <tr style=\"text-align: right;\">\n",
       "      <th>Name</th>\n",
       "      <th>EGFR_proteomics</th>\n",
       "      <th>EGFR_CNV</th>\n",
       "      <th>Sample_Tumor_Normal</th>\n",
       "    </tr>\n",
       "    <tr>\n",
       "      <th>Patient_ID</th>\n",
       "      <th></th>\n",
       "      <th></th>\n",
       "      <th></th>\n",
       "    </tr>\n",
       "  </thead>\n",
       "  <tbody>\n",
       "    <tr>\n",
       "      <td>C3L-00977</td>\n",
       "      <td>26.415671</td>\n",
       "      <td>0.072843</td>\n",
       "      <td>Tumor</td>\n",
       "    </tr>\n",
       "    <tr>\n",
       "      <td>C3L-00987</td>\n",
       "      <td>26.388105</td>\n",
       "      <td>0.154623</td>\n",
       "      <td>Tumor</td>\n",
       "    </tr>\n",
       "    <tr>\n",
       "      <td>C3L-00994</td>\n",
       "      <td>26.832596</td>\n",
       "      <td>0.224222</td>\n",
       "      <td>Tumor</td>\n",
       "    </tr>\n",
       "    <tr>\n",
       "      <td>C3L-00995</td>\n",
       "      <td>25.865444</td>\n",
       "      <td>0.029727</td>\n",
       "      <td>Tumor</td>\n",
       "    </tr>\n",
       "    <tr>\n",
       "      <td>C3L-00997</td>\n",
       "      <td>26.094205</td>\n",
       "      <td>0.140707</td>\n",
       "      <td>Tumor</td>\n",
       "    </tr>\n",
       "    <tr>\n",
       "      <td>...</td>\n",
       "      <td>...</td>\n",
       "      <td>...</td>\n",
       "      <td>...</td>\n",
       "    </tr>\n",
       "    <tr>\n",
       "      <td>C3N-04277</td>\n",
       "      <td>26.844602</td>\n",
       "      <td>0.146784</td>\n",
       "      <td>Tumor</td>\n",
       "    </tr>\n",
       "    <tr>\n",
       "      <td>C3N-04278</td>\n",
       "      <td>25.780865</td>\n",
       "      <td>-0.011660</td>\n",
       "      <td>Tumor</td>\n",
       "    </tr>\n",
       "    <tr>\n",
       "      <td>C3N-04279</td>\n",
       "      <td>27.028592</td>\n",
       "      <td>0.094935</td>\n",
       "      <td>Tumor</td>\n",
       "    </tr>\n",
       "    <tr>\n",
       "      <td>C3N-04280</td>\n",
       "      <td>26.149398</td>\n",
       "      <td>-0.047012</td>\n",
       "      <td>Tumor</td>\n",
       "    </tr>\n",
       "    <tr>\n",
       "      <td>C3N-04611</td>\n",
       "      <td>25.375399</td>\n",
       "      <td>-0.004620</td>\n",
       "      <td>Tumor</td>\n",
       "    </tr>\n",
       "  </tbody>\n",
       "</table>\n",
       "<p>107 rows × 3 columns</p>\n",
       "</div>"
      ],
      "text/plain": [
       "Name        EGFR_proteomics  EGFR_CNV Sample_Tumor_Normal\n",
       "Patient_ID                                               \n",
       "C3L-00977         26.415671  0.072843               Tumor\n",
       "C3L-00987         26.388105  0.154623               Tumor\n",
       "C3L-00994         26.832596  0.224222               Tumor\n",
       "C3L-00995         25.865444  0.029727               Tumor\n",
       "C3L-00997         26.094205  0.140707               Tumor\n",
       "...                     ...       ...                 ...\n",
       "C3N-04277         26.844602  0.146784               Tumor\n",
       "C3N-04278         25.780865 -0.011660               Tumor\n",
       "C3N-04279         27.028592  0.094935               Tumor\n",
       "C3N-04280         26.149398 -0.047012               Tumor\n",
       "C3N-04611         25.375399 -0.004620               Tumor\n",
       "\n",
       "[107 rows x 3 columns]"
      ]
     },
     "execution_count": 145,
     "metadata": {},
     "output_type": "execute_result"
    }
   ],
   "source": [
    "mergedDf = prot_CNV.merge(mutation, on=\"Patient_ID\")\n",
    "df1 = mergedDf.loc[mergedDf['Sample_Tumor_Normal'] == \"Tumor\"]\n",
    "df1 = df1[[\"EGFR_proteomics\",\"EGFR_CNV\",\"Sample_Tumor_Normal\"]]\n",
    "df1 = df1.dropna(axis=0, how=\"any\")\n",
    "df1"
   ]
  },
  {
   "cell_type": "code",
   "execution_count": 146,
   "metadata": {},
   "outputs": [],
   "source": [
    "x1 = df1[[\"EGFR_CNV\"]].values\n",
    "y1 = df1[[\"EGFR_proteomics\"]].values\n",
    "x1 = x1[:,0]\n",
    "y1 = y1[:,0]\n",
    "\n",
    "corr, pval = scipy.stats.pearsonr(x1,y1)"
   ]
  },
  {
   "cell_type": "code",
   "execution_count": 148,
   "metadata": {},
   "outputs": [
    {
     "data": {
      "image/png": "[encoded data removed]",
      "text/plain": [
       "<Figure size 432x288 with 1 Axes>"
      ]
     },
     "metadata": {},
     "output_type": "display_data"
    }
   ],
   "source": [
    "sns.set(style=\"darkgrid\")\n",
    "plot = sns.regplot(x=x1, y=y1, data=df1)\n",
    "plot.set(xlabel='CNV', ylabel='Proteomics', title='CNV vs. Proteomics for the EGFR gene in Hnscc')\n",
    "pval = myTrunc(pval,29)\n",
    "corr = myTrunc(corr,3)\n",
    "plt.text(0,30, \"Correlation: %s\\nPvalue: %s\"%(corr,pval))\n",
    "plt.savefig('EGFR_CNV_Hnscc.png')   \n",
    "plt.show()"
   ]
  },
  {
   "cell_type": "markdown",
   "metadata": {},
   "source": [
    "# LSCC"
   ]
  },
  {
   "cell_type": "code",
   "execution_count": 149,
   "metadata": {},
   "outputs": [
    {
     "name": "stdout",
     "output_type": "stream",
     "text": [
      "                                    \r"
     ]
    }
   ],
   "source": [
    "Lscc = cptac.Lscc()"
   ]
  },
  {
   "cell_type": "code",
   "execution_count": 152,
   "metadata": {},
   "outputs": [
    {
     "name": "stderr",
     "output_type": "stream",
     "text": [
      "cptac warning: CNV data was not found for the following samples, so CNV data columns were filled with NaN for these samples: C3L-00081.N, C3L-00415.N, C3L-00445.N, C3L-00568.N, C3L-00603.N, C3L-00904.N, C3L-00923.N, C3L-00927.N, C3L-00993.N, C3L-01000.N, C3L-01285.N, C3L-01455.N, C3L-01606.N, C3L-01663.N, C3L-01884.N, C3L-02127.N, C3L-02130.N, C3L-02163.N, C3L-02164.N, C3L-02168.N, C3L-02349.N, C3L-02358.N, C3L-02546.N, C3L-02552.N, C3L-02619.N, C3L-02624.N, C3L-02625.N, C3L-02627.N, C3L-02629.N, C3L-02646.N, C3L-02648.N, C3L-02649.N, C3L-02650.N, C3L-02660.N, C3L-02665.N, C3L-02669.N, C3L-02891.N, C3L-02951.N, C3L-02963.N, C3L-02964.N, C3L-02968.N, C3L-02969.N, C3L-03272.N, C3L-03961.N, C3L-03962.N, C3L-03963.N, C3L-03965.N, C3L-04013.N, C3L-04014.N, C3L-04071.N, C3L-04391.N, C3N-00221.N, C3N-00497.N, C3N-00555.N, C3N-01017.N, C3N-01018.N, C3N-01020.N, C3N-01025.N, C3N-01028.N, C3N-01194.N, C3N-01411.N, C3N-01846.N, C3N-01892.N, C3N-01893.N, C3N-02252.N, C3N-02285.N, C3N-02288.N, C3N-02289.N, C3N-02300.N, C3N-02339.N, C3N-02374.N, C3N-02375.N, C3N-02425.N, C3N-02426.N, C3N-02434.N, C3N-02435.N, C3N-02494.N, C3N-02523.N, C3N-02575.N, C3N-02675.N, C3N-03051.N, C3N-03072.N, C3N-03076.N, C3N-03092.N, C3N-03093.N, C3N-03204.N, C3N-03424.N, C3N-03425.N, C3N-03441.N, C3N-03486.N, C3N-03662.N, C3N-03848.N, C3N-03851.N, C3N-03875.N, C3N-03877.N, C3N-03880.N, C3N-03882.N, C3N-03886.N, C3N-04124.N, C3N-04127.N, C3N-04155.N, C3N-04162.N (/Users/Lindsey/anaconda3/lib/python3.7/site-packages/ipykernel_launcher.py, line 1)\n"
     ]
    }
   ],
   "source": [
    "prot_CNV = Lscc.join_omics_to_omics(df1_name=\"proteomics\", df2_name=\"CNV\")\n",
    "prot_CNV = prot_CNV[[\"EGFR_proteomics\",\"EGFR_CNV\"]]\n",
    "prot_CNV.columns = prot_CNV.columns.droplevel(1)\n",
    "mutation = Lscc.get_clinical()"
   ]
  },
  {
   "cell_type": "code",
   "execution_count": 153,
   "metadata": {},
   "outputs": [
    {
     "data": {
      "text/html": [
       "<div>\n",
       "<style scoped>\n",
       "    .dataframe tbody tr th:only-of-type {\n",
       "        vertical-align: middle;\n",
       "    }\n",
       "\n",
       "    .dataframe tbody tr th {\n",
       "        vertical-align: top;\n",
       "    }\n",
       "\n",
       "    .dataframe thead th {\n",
       "        text-align: right;\n",
       "    }\n",
       "</style>\n",
       "<table border=\"1\" class=\"dataframe\">\n",
       "  <thead>\n",
       "    <tr style=\"text-align: right;\">\n",
       "      <th>Name</th>\n",
       "      <th>EGFR_proteomics</th>\n",
       "      <th>EGFR_CNV</th>\n",
       "      <th>Sample_Tumor_Normal</th>\n",
       "    </tr>\n",
       "    <tr>\n",
       "      <th>Patient_ID</th>\n",
       "      <th></th>\n",
       "      <th></th>\n",
       "      <th></th>\n",
       "    </tr>\n",
       "  </thead>\n",
       "  <tbody>\n",
       "    <tr>\n",
       "      <td>C3L-00081</td>\n",
       "      <td>1.3122</td>\n",
       "      <td>0.1611</td>\n",
       "      <td>Tumor</td>\n",
       "    </tr>\n",
       "    <tr>\n",
       "      <td>C3L-00415</td>\n",
       "      <td>-1.4779</td>\n",
       "      <td>0.0559</td>\n",
       "      <td>Tumor</td>\n",
       "    </tr>\n",
       "    <tr>\n",
       "      <td>C3L-00445</td>\n",
       "      <td>0.4224</td>\n",
       "      <td>0.2015</td>\n",
       "      <td>Tumor</td>\n",
       "    </tr>\n",
       "    <tr>\n",
       "      <td>C3L-00568</td>\n",
       "      <td>-1.0816</td>\n",
       "      <td>0.0763</td>\n",
       "      <td>Tumor</td>\n",
       "    </tr>\n",
       "    <tr>\n",
       "      <td>C3L-00603</td>\n",
       "      <td>1.4508</td>\n",
       "      <td>0.0507</td>\n",
       "      <td>Tumor</td>\n",
       "    </tr>\n",
       "    <tr>\n",
       "      <td>...</td>\n",
       "      <td>...</td>\n",
       "      <td>...</td>\n",
       "      <td>...</td>\n",
       "    </tr>\n",
       "    <tr>\n",
       "      <td>C3N-03886</td>\n",
       "      <td>-2.5596</td>\n",
       "      <td>-0.0410</td>\n",
       "      <td>Tumor</td>\n",
       "    </tr>\n",
       "    <tr>\n",
       "      <td>C3N-04124</td>\n",
       "      <td>-0.3626</td>\n",
       "      <td>0.0682</td>\n",
       "      <td>Tumor</td>\n",
       "    </tr>\n",
       "    <tr>\n",
       "      <td>C3N-04127</td>\n",
       "      <td>-1.3431</td>\n",
       "      <td>0.0366</td>\n",
       "      <td>Tumor</td>\n",
       "    </tr>\n",
       "    <tr>\n",
       "      <td>C3N-04155</td>\n",
       "      <td>0.2056</td>\n",
       "      <td>-0.0292</td>\n",
       "      <td>Tumor</td>\n",
       "    </tr>\n",
       "    <tr>\n",
       "      <td>C3N-04162</td>\n",
       "      <td>-0.1384</td>\n",
       "      <td>0.1078</td>\n",
       "      <td>Tumor</td>\n",
       "    </tr>\n",
       "  </tbody>\n",
       "</table>\n",
       "<p>110 rows × 3 columns</p>\n",
       "</div>"
      ],
      "text/plain": [
       "Name        EGFR_proteomics  EGFR_CNV Sample_Tumor_Normal\n",
       "Patient_ID                                               \n",
       "C3L-00081            1.3122    0.1611               Tumor\n",
       "C3L-00415           -1.4779    0.0559               Tumor\n",
       "C3L-00445            0.4224    0.2015               Tumor\n",
       "C3L-00568           -1.0816    0.0763               Tumor\n",
       "C3L-00603            1.4508    0.0507               Tumor\n",
       "...                     ...       ...                 ...\n",
       "C3N-03886           -2.5596   -0.0410               Tumor\n",
       "C3N-04124           -0.3626    0.0682               Tumor\n",
       "C3N-04127           -1.3431    0.0366               Tumor\n",
       "C3N-04155            0.2056   -0.0292               Tumor\n",
       "C3N-04162           -0.1384    0.1078               Tumor\n",
       "\n",
       "[110 rows x 3 columns]"
      ]
     },
     "execution_count": 153,
     "metadata": {},
     "output_type": "execute_result"
    }
   ],
   "source": [
    "mergedDf = prot_CNV.merge(mutation, on=\"Patient_ID\")\n",
    "df1 = mergedDf.loc[mergedDf['Sample_Tumor_Normal'] == \"Tumor\"]\n",
    "df1 = df1[[\"EGFR_proteomics\",\"EGFR_CNV\",\"Sample_Tumor_Normal\"]]\n",
    "df1 = df1.dropna(axis=0, how=\"any\")\n",
    "df1"
   ]
  },
  {
   "cell_type": "code",
   "execution_count": 155,
   "metadata": {},
   "outputs": [],
   "source": [
    "x1 = df1[[\"EGFR_CNV\"]].values\n",
    "y1 = df1[[\"EGFR_proteomics\"]].values\n",
    "x1 = x1[:,0]\n",
    "y1 = y1[:,0]\n",
    "\n",
    "corr, pval = scipy.stats.pearsonr(x1,y1)"
   ]
  },
  {
   "cell_type": "code",
   "execution_count": 157,
   "metadata": {},
   "outputs": [
    {
     "data": {
      "image/png": "[encoded data removed]",
      "text/plain": [
       "<Figure size 432x288 with 1 Axes>"
      ]
     },
     "metadata": {},
     "output_type": "display_data"
    }
   ],
   "source": [
    "sns.set(style=\"darkgrid\")\n",
    "plot = sns.regplot(x=x1, y=y1, data=df1)\n",
    "plot.set(xlabel='CNV', ylabel='Proteomics', title='CNV vs. Proteomics for the EGFR gene in Lscc')\n",
    "pval = myTrunc(pval,21)\n",
    "corr = myTrunc(corr,3)\n",
    "plt.text(0,13, \"Correlation: %s\\nPvalue: %s\"%(corr,pval))\n",
    "plt.savefig('EGFR_CNV_Lscc.png')   \n",
    "plt.show()"
   ]
  },
  {
   "cell_type": "code",
   "execution_count": null,
   "metadata": {},
   "outputs": [],
   "source": []
  }
 ],
 "metadata": {
  "kernelspec": {
   "display_name": "Python 3",
   "language": "python",
   "name": "python3"
  },
  "language_info": {
   "codemirror_mode": {
    "name": "ipython",
    "version": 3
   },
   "file_extension": ".py",
   "mimetype": "text/x-python",
   "name": "python",
   "nbconvert_exporter": "python",
   "pygments_lexer": "ipython3",
   "version": "3.7.3"
  }
 },
 "nbformat": 4,
 "nbformat_minor": 2
}
