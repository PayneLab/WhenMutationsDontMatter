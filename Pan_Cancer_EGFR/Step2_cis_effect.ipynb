{
 "cells": [
  {
   "cell_type": "markdown",
   "metadata": {},
   "source": [
    "# Step 2 Cis effect "
   ]
  },
  {
   "cell_type": "markdown",
   "metadata": {},
   "source": [
    "This notebook graphs the cis effect of copy number and proteomics"
   ]
  },
  {
   "cell_type": "code",
   "execution_count": 1,
   "metadata": {},
   "outputs": [
    {
     "name": "stderr",
     "output_type": "stream",
     "text": [
      "/Users/Lindsey/anaconda3/lib/python3.7/site-packages/statsmodels/tools/_testing.py:19: FutureWarning: pandas.util.testing is deprecated. Use the functions in the public API at pandas.testing instead.\n",
      "  import pandas.util.testing as tm\n"
     ]
    }
   ],
   "source": [
    "import pandas as pd\n",
    "import numpy as np\n",
    "import seaborn as sns\n",
    "import matplotlib.pyplot as plt\n",
    "import scipy.stats\n",
    "import re\n",
    "import sys \n",
    "#sys.path.append('C:\\\\Users\\\\brittany henderson\\\\GitHub\\\\GBM_for_CPTAC\\\\')\n",
    "#import cis_functions as f\n",
    "\n",
    "import cptac\n",
    "import cptac.utils as u\n",
    "import plot_utils as p"
   ]
  },
  {
   "cell_type": "code",
   "execution_count": 2,
   "metadata": {},
   "outputs": [],
   "source": [
    "def myTrunc(theNumber, theDigits):\n",
    "\n",
    "    myDigits = 10 ** theDigits\n",
    "    return (int(theNumber * myDigits) / myDigits)"
   ]
  },
  {
   "cell_type": "code",
   "execution_count": 3,
   "metadata": {},
   "outputs": [],
   "source": [
    "def plot_pearson(df1,x_axis, y_axis, hue = \"none\", title = \"\", ra_stats = False, show_plot = True, save_file_name = \"file_name\"):\n",
    "    #format dfs \n",
    "    if hue != \"none\":   \n",
    "        df1_subset = df1[[x_axis,y_axis,hue]]\n",
    "        df1_subset = df1_subset.dropna(axis=0, how=\"any\")\n",
    "\n",
    "        x1 = df1_subset[[x_axis]].values\n",
    "        y1 = df1_subset[[y_axis]].values\n",
    "        x1 = x1[:,0]\n",
    "        y1 = y1[:,0]\n",
    "        corr, pval = scipy.stats.pearsonr(x1,y1)\n",
    "\n",
    "        sns.set(style=\"darkgrid\")\n",
    "        plt.rcParams[\"figure.figsize\"] = (30,22)\n",
    "        graph = sns.lmplot(x= x_axis, y= y_axis, data=df1_subset, hue= hue, fit_reg=False)\n",
    "        sns.regplot(x=x1, y=y1, data=df1_subset,scatter = False)\n",
    "        graph.set(title = title)\n",
    "    if hue == \"none\":\n",
    "        \n",
    "        df1_subset = df1[[x_axis,y_axis]]\n",
    "        df1_subset = df1_subset.dropna(axis=0, how=\"any\")\n",
    "\n",
    "        x1 = df1_subset[[x_axis]].values\n",
    "        y1 = df1_subset[[y_axis]].values\n",
    "        x1 = x1[:,0]\n",
    "        y1 = y1[:,0]\n",
    "        corr, pval = scipy.stats.pearsonr(x1,y1)\n",
    "\n",
    "        sns.set(style=\"darkgrid\")\n",
    "        graph = sns.lmplot(x= x_axis, y= y_axis, data=df1_subset, fit_reg=False)\n",
    "        sns.regplot(x=x1, y=y1, data=df1_subset,scatter = False)\n",
    "        plt.title(label = title, fontsize = 30)\n",
    "        plt.xlabel('EGFR CNV', fontsize=20)\n",
    "        plt.ylabel('EGFR Proteomics', fontsize=20)\n",
    "        plt.xticks(fontsize = 17)\n",
    "        plt.yticks(fontsize = 17)\n",
    "    \n",
    "    if ra_stats:\n",
    "        pval = myTrunc(pval,31)\n",
    "        corr = myTrunc(corr,3)\n",
    "        plt.text(-0.2,3.8, \"Correlation: %s\\nPvalue: %s\"%(corr,pval))\n",
    "        \n",
    "    if save_file_name != \"file_name\":\n",
    "        plt.tight_layout()\n",
    "        plt.subplots_adjust(top=0.88)\n",
    "        plt.savefig(save_file_name+'.png', dpi = 300)\n",
    "    if show_plot:\n",
    "        plt.show()\n",
    "        plt.clf()\n",
    "        plt.close()"
   ]
  },
  {
   "cell_type": "code",
   "execution_count": null,
   "metadata": {},
   "outputs": [
    {
     "name": "stdout",
     "output_type": "stream",
     "text": [
      "Checking that ccrcc index is up-to-date...\r"
     ]
    },
    {
     "name": "stderr",
     "output_type": "stream",
     "text": [
      "cptac warning: The GBM dataset is under publication embargo until March 01, 2021. CPTAC is a community resource project and data are made available rapidly after generation for community research use. The embargo allows exploring and utilizing the data, but analysis may not be published until after the embargo date. Please see https://proteomics.cancer.gov/data-portal/about/data-use-agreement or enter cptac.embargo() to open the webpage for more details. (/Users/Lindsey/anaconda3/lib/python3.7/site-packages/ipykernel_launcher.py, line 2)\n"
     ]
    },
    {
     "name": "stdout",
     "output_type": "stream",
     "text": [
      "Loading brca v3.1.1..                       \r"
     ]
    }
   ],
   "source": [
    "#Load cptac data sets\n",
    "brain = cptac.Gbm()\n",
    "kidney = cptac.Ccrcc()\n",
    "Ovar = cptac.Ovarian()\n",
    "colon = cptac.Colon()\n",
    "brca = cptac.Brca()\n",
    "luad = cptac.Luad()\n",
    "Hnscc = cptac.Hnscc()\n",
    "Lscc = cptac.Lscc()"
   ]
  },
  {
   "cell_type": "markdown",
   "metadata": {},
   "source": [
    "# Step 1 Create Data Frame"
   ]
  },
  {
   "cell_type": "markdown",
   "metadata": {},
   "source": [
    "For each cancer type create a df that combines proteomics and CNV. Then merge clinical dataframe and filter df to only have tumor samples. "
   ]
  },
  {
   "cell_type": "markdown",
   "metadata": {},
   "source": [
    "# Step 2  Call Plotting Function"
   ]
  },
  {
   "cell_type": "markdown",
   "metadata": {},
   "source": [
    "# GBM"
   ]
  },
  {
   "cell_type": "code",
   "execution_count": null,
   "metadata": {},
   "outputs": [],
   "source": [
    "prot_CNV = brain.join_omics_to_omics(df1_name=\"proteomics\", df2_name=\"CNV\")\n",
    "mutation = brain.get_clinical()\n",
    "mergedDf = prot_CNV.merge(mutation, on=\"Patient_ID\")\n",
    "prot_CNV_Tumor = mergedDf.loc[mergedDf['Sample_Tumor_Normal'] == \"Tumor\"]"
   ]
  },
  {
   "cell_type": "code",
   "execution_count": null,
   "metadata": {},
   "outputs": [],
   "source": [
    "plot_pearson(prot_CNV_Tumor ,\"EGFR_CNV\",\"EGFR_proteomics\", hue = \"none\", title = \"Glioblastoma\", ra_stats = False ,show_plot = True, save_file_name = \"png_files/Step2Cis_Gbm\")"
   ]
  },
  {
   "cell_type": "markdown",
   "metadata": {},
   "source": [
    "# Kidney "
   ]
  },
  {
   "cell_type": "code",
   "execution_count": null,
   "metadata": {},
   "outputs": [],
   "source": [
    "prot_CNV = kidney.join_omics_to_omics(df1_name=\"proteomics\", df2_name=\"CNV\")\n",
    "prot_CNV.columns = prot_CNV.columns.droplevel(1) #drop multi-index level\n",
    "mutation = kidney.get_clinical()\n",
    "mergedDf = prot_CNV.merge(mutation, on=\"Patient_ID\")\n",
    "prot_CNV_Tumor = mergedDf.loc[mergedDf['Sample_Tumor_Normal'] == \"Tumor\"]\n"
   ]
  },
  {
   "cell_type": "code",
   "execution_count": null,
   "metadata": {},
   "outputs": [],
   "source": [
    "plot_pearson(prot_CNV_Tumor,\"EGFR_CNV\",\"EGFR_proteomics\", hue =\"none\", ra_stats = False, show_plot = True, title = \"Renal\", save_file_name = \"png_files/Step2Cis_Kidney\")"
   ]
  },
  {
   "cell_type": "markdown",
   "metadata": {},
   "source": [
    "# Ovarian "
   ]
  },
  {
   "cell_type": "code",
   "execution_count": null,
   "metadata": {},
   "outputs": [],
   "source": [
    "prot_CNV = Ovar.join_omics_to_omics(df1_name=\"proteomics\", df2_name=\"CNV\")\n",
    "prot_CNV.columns = prot_CNV.columns.droplevel(1) #drop multi-index level\n",
    "mutation = Ovar.get_clinical()\n",
    "mergedDf = prot_CNV.merge(mutation, on=\"Patient_ID\")\n",
    "prot_CNV_Tumor = mergedDf.loc[mergedDf['Sample_Tumor_Normal'] == \"Tumor\"]\n"
   ]
  },
  {
   "cell_type": "code",
   "execution_count": null,
   "metadata": {},
   "outputs": [],
   "source": [
    "plot_pearson(prot_CNV_Tumor,\"EGFR_CNV\",\"EGFR_proteomics\", hue = \"none\", ra_stats = False,title = \"Ovarian\", show_plot = True, save_file_name = \"png_files/Step2Cis_Ovarian\")"
   ]
  },
  {
   "cell_type": "markdown",
   "metadata": {},
   "source": [
    "# Colon"
   ]
  },
  {
   "cell_type": "code",
   "execution_count": null,
   "metadata": {},
   "outputs": [],
   "source": [
    "prot_CNV = colon.join_omics_to_omics(df1_name=\"proteomics\", df2_name=\"CNV\")\n",
    "mutation = colon.get_clinical()\n",
    "mergedDf = prot_CNV.merge(mutation, on=\"Patient_ID\")\n",
    "prot_CNV_Tumor = mergedDf.loc[mergedDf['Sample_Tumor_Normal'] == \"Tumor\"]\n"
   ]
  },
  {
   "cell_type": "code",
   "execution_count": null,
   "metadata": {},
   "outputs": [],
   "source": [
    "plot_pearson(prot_CNV_Tumor,\"EGFR_CNV\",\"EGFR_proteomics\",hue = \"none\", ra_stats = False, title = \"Colon\", show_plot = True, save_file_name = \"png_files/Step2Cis_Colon\")\n"
   ]
  },
  {
   "cell_type": "markdown",
   "metadata": {},
   "source": [
    "# Brca "
   ]
  },
  {
   "cell_type": "code",
   "execution_count": null,
   "metadata": {},
   "outputs": [],
   "source": [
    "prot_CNV = brca.join_omics_to_omics(df1_name=\"proteomics\", df2_name=\"CNV\")\n",
    "prot_CNV.columns = prot_CNV.columns.droplevel(1) #drop multi-index level\n",
    "mutation = brca.get_clinical()\n",
    "mergedDf = prot_CNV.merge(mutation, on=\"Patient_ID\")\n",
    "prot_CNV_Tumor = mergedDf.loc[mergedDf['Sample_Tumor_Normal'] == \"Tumor\"]\n"
   ]
  },
  {
   "cell_type": "code",
   "execution_count": null,
   "metadata": {},
   "outputs": [],
   "source": [
    "plot_pearson(prot_CNV_Tumor,\"EGFR_CNV\",\"EGFR_proteomics\", hue = \"none\", ra_stats = False, title = \"Breast\", show_plot = True, save_file_name = \"png_files/Step2Cis_Brca\")\n"
   ]
  },
  {
   "cell_type": "markdown",
   "metadata": {},
   "source": [
    "# LUAD"
   ]
  },
  {
   "cell_type": "code",
   "execution_count": null,
   "metadata": {},
   "outputs": [],
   "source": [
    "prot_CNV = luad.join_omics_to_omics(df1_name=\"proteomics\", df2_name=\"CNV\")\n",
    "prot_CNV.columns = prot_CNV.columns.droplevel(1) #drop multi-index level\n",
    "mutation = luad.get_clinical()\n",
    "mergedDf = prot_CNV.merge(mutation, on=\"Patient_ID\")\n",
    "prot_CNV_Tumor = mergedDf.loc[mergedDf['Sample_Tumor_Normal'] == \"Tumor\"]\n"
   ]
  },
  {
   "cell_type": "code",
   "execution_count": null,
   "metadata": {},
   "outputs": [],
   "source": [
    "plot_pearson(prot_CNV_Tumor,\"EGFR_CNV\",\"EGFR_proteomics\", hue = 'none', title = \"Lung (LUAD)\", ra_stats = False, show_plot = True, save_file_name = \"png_files/Step2Cis_Luad\")\n"
   ]
  },
  {
   "cell_type": "markdown",
   "metadata": {},
   "source": [
    "# HNSCC"
   ]
  },
  {
   "cell_type": "code",
   "execution_count": null,
   "metadata": {},
   "outputs": [],
   "source": [
    "prot_CNV = Hnscc.join_omics_to_omics(df1_name=\"proteomics\", df2_name=\"CNV\")\n",
    "mutation = Hnscc.get_clinical()\n",
    "mergedDf = prot_CNV.merge(mutation, on=\"Patient_ID\")\n",
    "prot_CNV_Tumor = mergedDf.loc[mergedDf['Sample_Tumor_Normal'] == \"Tumor\"]\n"
   ]
  },
  {
   "cell_type": "code",
   "execution_count": null,
   "metadata": {},
   "outputs": [],
   "source": [
    "plot_pearson(prot_CNV_Tumor,\"EGFR_CNV\",\"EGFR_proteomics\", hue = \"none\", title = \"Head and Neck\", ra_stats = False, show_plot = True, save_file_name = \"png_files/Step2Cis_Hnscc\")\n"
   ]
  },
  {
   "cell_type": "markdown",
   "metadata": {},
   "source": [
    "# LSCC"
   ]
  },
  {
   "cell_type": "code",
   "execution_count": null,
   "metadata": {},
   "outputs": [],
   "source": [
    "prot_CNV = Lscc.join_omics_to_omics(df1_name=\"proteomics\", df2_name=\"CNV\")\n",
    "prot_CNV.columns = prot_CNV.columns.droplevel(1) #drop multi-index level\n",
    "mutation = Lscc.get_clinical()\n",
    "mergedDf = prot_CNV.merge(mutation, on=\"Patient_ID\")\n",
    "prot_CNV_Tumor = mergedDf.loc[mergedDf['Sample_Tumor_Normal'] == \"Tumor\"]\n"
   ]
  },
  {
   "cell_type": "code",
   "execution_count": null,
   "metadata": {},
   "outputs": [],
   "source": [
    "plot_pearson(prot_CNV_Tumor,\"EGFR_CNV\",\"EGFR_proteomics\", hue = \"none\", title = \"Lung (LSCC)\" , ra_stats = False, show_plot = True, save_file_name = \"png_files/Step2Cis_Lscc\")\n"
   ]
  },
  {
   "cell_type": "code",
   "execution_count": null,
   "metadata": {},
   "outputs": [],
   "source": []
  }
 ],
 "metadata": {
  "kernelspec": {
   "display_name": "Python 3",
   "language": "python",
   "name": "python3"
  },
  "language_info": {
   "codemirror_mode": {
    "name": "ipython",
    "version": 3
   },
   "file_extension": ".py",
   "mimetype": "text/x-python",
   "name": "python",
   "nbconvert_exporter": "python",
   "pygments_lexer": "ipython3",
   "version": "3.7.3"
  }
 },
 "nbformat": 4,
 "nbformat_minor": 2
}
