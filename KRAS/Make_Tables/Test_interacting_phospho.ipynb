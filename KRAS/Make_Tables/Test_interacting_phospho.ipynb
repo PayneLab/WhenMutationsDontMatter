{
 "cells": [
  {
   "cell_type": "markdown",
   "metadata": {},
   "source": [
    "# Make tables: calculate p-values and differential expressions for each cancer "
   ]
  },
  {
   "cell_type": "markdown",
   "metadata": {},
   "source": [
    "Create a dataframe with p-value results from t-tests for all proteins (trans proteomics when KRAS has missense mutations compared to KRAS wildtype). The dataframe also includes the change in medians between deletions and wildtype. Prepare these tables for further analysis by creating csv files."
   ]
  },
  {
   "cell_type": "code",
   "execution_count": 1,
   "metadata": {},
   "outputs": [],
   "source": [
    "import pandas as pd\n",
    "import numpy as np\n",
    "import seaborn as sns\n",
    "import matplotlib.pyplot as plt\n",
    "import scipy.stats\n",
    "import gseapy as gp\n",
    "import re\n",
    "import sys \n",
    "\n",
    "import cptac\n",
    "import cptac.utils as u\n",
    "import plot_utils as p"
   ]
  },
  {
   "cell_type": "code",
   "execution_count": 2,
   "metadata": {},
   "outputs": [],
   "source": [
    "import warnings\n",
    "warnings.filterwarnings('ignore')"
   ]
  },
  {
   "cell_type": "code",
   "execution_count": 20,
   "metadata": {},
   "outputs": [],
   "source": [
    "# Returns a dataframe with proteomics and mutation type\n",
    "\n",
    "# all_prot: list of trans genes\n",
    "\n",
    "def all_prot_format_df(cancer_object, all_prot, gene_in = 'KRAS', utils = u):\n",
    "    mut_type = cancer_object.get_genotype_all_vars(gene_in)\n",
    "    mut_type['Mutation'].where(mut_type['Mutation'] != 'Missense_Mutation', 'Missense', inplace = True) # replace when false\n",
    "    mut_type['Mutation'].where(mut_type['Mutation'] != 'nonsynonymous SNV', 'Missense', inplace = True)\n",
    "\n",
    "    # Keep only tumor samples from proteomics\n",
    "    prot_and_mutations = cancer_object.join_omics_to_mutations(\n",
    "        mutations_genes = [gene_in], omics_df_name = 'phosphoproteomics', omics_genes = all_prot, tissue_type = 'tumor')\n",
    "    # Reduce a multiindex \n",
    "    if isinstance(prot_and_mutations.keys(), pd.core.indexes.multi.MultiIndex):\n",
    "        if cancer_object.get_cancer_type() in ('endometrial', 'colon'):\n",
    "            prot_and_mutations = u.reduce_multiindex(prot_and_mutations, flatten=True) \n",
    "        elif cancer_object.get_cancer_type() in ('luad'):\n",
    "            prot_and_mutations = u.reduce_multiindex(prot_and_mutations, levels_to_drop = [2,3], flatten = True) \n",
    "        prot_and_mutations = rename_duplicate_cols(prot_and_mutations)\n",
    "\n",
    "    # Keep certain missense mutations\n",
    "    prot_and_mutations['KRAS_Location'] = [','.join(map(str, l)) for l in prot_and_mutations['KRAS_Location']]\n",
    "    hotspots = ['G12', 'G13', 'Q61', 'No_mutation']\n",
    "    hotspots_wt = pd.DataFrame()\n",
    "    for site in hotspots:\n",
    "        df = prot_and_mutations[prot_and_mutations.KRAS_Location.str.contains(site, regex= True, na=False)]\n",
    "        hotspots_wt = hotspots_wt.append(df)\n",
    "    print(hotspots_wt.KRAS_Location.value_counts())\n",
    "    \n",
    "    # Merge Mutation column from get_genotype_all_vars (includes cnv) with proteomics\n",
    "    mut_type = mut_type[['Mutation']]\n",
    "    prot_df = hotspots_wt.iloc[:,:-4] # Keep only proteomics\n",
    "    merged = prot_df.join(mut_type)\n",
    "    merged = merged.join(hotspots_wt['KRAS_Location'])\n",
    "\n",
    "    # Keep only Wildtype and deletion\n",
    "    compare = ['Wildtype_Tumor','Missense']\n",
    "    get = merged['Mutation'].isin(compare)\n",
    "    mut_wt = merged[get]\n",
    "    \n",
    "    mut_wt = mut_wt.rename(columns={col: re.sub(r'_phosphoproteomics', '', col) for col in mut_wt.columns.tolist()})\n",
    "    return mut_wt\n"
   ]
  },
  {
   "cell_type": "code",
   "execution_count": 71,
   "metadata": {},
   "outputs": [],
   "source": [
    "'''\n",
    "Params\n",
    "cancer_object: Object. Variable for the loaded cancer data set.\n",
    "cancer_name: Str. name to add to the created dataframe.\n",
    "del_wt_df: DataFrame. Only samples with deletions and wildtype for PTEN. \n",
    "all_prot_list: List. All proteins in proteomics data frame. \n",
    "\n",
    "Returns a dataframe with the difference in medians between proteomics with PTEN wt and del (wt - del). \n",
    "'''\n",
    "\n",
    "def get_change_in_medians_df(cancer_object, cancer_name, del_wt_df, all_prot_list):\n",
    "    d = del_wt_df[del_wt_df.Mutation == \"Missense\"]\n",
    "    wt = del_wt_df[del_wt_df.Mutation == \"Wildtype_Tumor\"]\n",
    "    del_med = d.median()\n",
    "    wt_med = wt.median()\n",
    "\n",
    "    med_dict = {}\n",
    "    \n",
    "    # Correlation: + is mutant up compared to wt, - is mutant down\n",
    "    for prot in all_prot_list:\n",
    "        if prot in del_med.index and prot in wt_med.index:\n",
    "            dif = del_med[prot] - wt_med[prot]\n",
    "            med_dict[prot] = dif\n",
    "        \n",
    "    df = pd.DataFrame.from_dict(med_dict, orient='index', columns=[cancer_name+'_Median'])\n",
    "    df = df.reset_index().rename(columns={'index':'Phosphoproteomics'})\n",
    "    \n",
    "    return df\n",
    "        "
   ]
  },
  {
   "cell_type": "code",
   "execution_count": 5,
   "metadata": {},
   "outputs": [],
   "source": [
    "# Adds '_i' to duplicate col names where i is a number (increases with each duplicate)\n",
    "\n",
    "def rename_duplicate_cols(df):\n",
    "    cols = pd.Series(df.columns[:])\n",
    "\n",
    "    for dup in cols[cols.duplicated()].unique(): \n",
    "        cols[cols[cols == dup].index.values.tolist()] = [dup + '_' + str(i) if i != 0 else dup for i in range(sum(cols == dup))]\n",
    "\n",
    "    # rename the columns with the cols list.\n",
    "    df.columns=cols\n",
    "    return df"
   ]
  },
  {
   "cell_type": "markdown",
   "metadata": {},
   "source": [
    "#  Step 1: Create data frames with p-values and differential expressions"
   ]
  },
  {
   "cell_type": "markdown",
   "metadata": {},
   "source": [
    "Each cancer needs a data frame containing only samples that have PTEN cnv deletions and PTEN wildtype with trans proteomics. Use wrap_ttest to run t-tests for all genes in the proteomic data frame. Use get_change_in_medians_df to create the data frame with differential expression values. Merge both data frames. "
   ]
  },
  {
   "cell_type": "markdown",
   "metadata": {},
   "source": [
    "Load in cancer data sets from cptac. "
   ]
  },
  {
   "cell_type": "code",
   "execution_count": 6,
   "metadata": {},
   "outputs": [
    {
     "name": "stdout",
     "output_type": "stream",
     "text": [
      "                                                \r"
     ]
    }
   ],
   "source": [
    "en = cptac.Endometrial()\n",
    "l = cptac.Luad()\n",
    "col = cptac.Colon()"
   ]
  },
  {
   "cell_type": "code",
   "execution_count": 165,
   "metadata": {},
   "outputs": [],
   "source": [
    "egfr_path = ['EGFR', 'GRB2', 'GAB1', 'PIK3R1', 'PIK3CA', 'PDK1', 'AKT1', 'CASP9', 'BAD', 'MDM2', 'GSK3B',\n",
    "                'FOXO1', 'RPS6KB1', 'EIF4EBP1', 'TSC2', 'CCND1', 'E2F1', 'RB1', 'CDKN1B', 'SHC1', 'SOS1', 'RAF1', \n",
    "                'SRC', 'MAP2K1', 'MAP2K2', 'MAPK3', 'MAPK1', 'BCL2L11', 'RPS6KA1', 'RPS6KA3', 'MKNK1', 'EIF4E',\n",
    "                'ELK1', 'MYC', 'JUN', 'FOS']"
   ]
  },
  {
   "cell_type": "markdown",
   "metadata": {},
   "source": [
    "# Calculate p-values and differential expressions"
   ]
  },
  {
   "cell_type": "code",
   "execution_count": 27,
   "metadata": {},
   "outputs": [],
   "source": [
    "cancer_objects = {'Endo':en, 'Colon':col, 'Luad':l}"
   ]
  },
  {
   "cell_type": "code",
   "execution_count": 166,
   "metadata": {},
   "outputs": [
    {
     "name": "stdout",
     "output_type": "stream",
     "text": [
      "total interacting proteins: 36\n",
      "No_mutation      64\n",
      "p.G12V           10\n",
      "p.G12D            6\n",
      "p.G13D            6\n",
      "p.G12C            4\n",
      "p.G13D,p.G12S     2\n",
      "p.G12A            1\n",
      "p.Q61H            1\n",
      "Name: KRAS_Location, dtype: int64\n",
      "cols tested:  384\n",
      "  Phosphoproteomics  Endo_P_Value  Endo_Median\n",
      "0         GAB1_S206      0.000418      0.92950\n",
      "1         GAB1_T211      0.000418      0.60700\n",
      "2           BAD_Y76      0.000418      0.53500\n",
      "3         RAF1_T330      0.000538      1.12066\n",
      "4        MKNK1_S401      0.001100      0.47800 \n",
      "\n",
      "total interacting proteins: 36\n",
      "No_mutation    72\n",
      "G12D           11\n",
      "G12V            7\n",
      "G13D            4\n",
      "G12C            2\n",
      "Q61H            2\n",
      "Q61L            1\n",
      "Name: KRAS_Location, dtype: int64\n",
      "cols tested:  200\n",
      "  Phosphoproteomics  Colon_P_Value  Colon_Median\n",
      "0    MYC_S62_P01106       0.905199       0.15450\n",
      "1   RB1_S249_P06400       0.905199      -0.14925\n",
      "2  RAF1_S621_P04049       0.905199       0.01000\n",
      "3   RAF1_S43_P04049       0.905199       0.22050\n",
      "4    MYC_T58_P01106       0.905199       0.25600 \n",
      "\n",
      "total interacting proteins: 36\n",
      "No_mutation    77\n",
      "p.G12C         16\n",
      "p.G12D          6\n",
      "p.G12V          5\n",
      "p.G13C          2\n",
      "p.G12S          2\n",
      "p.G12A          1\n",
      "p.Q61H          1\n",
      "Name: KRAS_Location, dtype: int64\n",
      "cols tested:  240\n",
      "  Phosphoproteomics  Luad_P_Value  Luad_Median\n",
      "0        SOS1_S1161      0.000015      1.30250\n",
      "1         GAB1_T668      0.000302     -1.14550\n",
      "2    MKNK1_S209S214      0.004129      1.49000\n",
      "3       MAP2K2_S222      0.011625      0.69985\n",
      "4        TSC2_S1348      0.013926     -1.20950 \n",
      "\n"
     ]
    }
   ],
   "source": [
    "import warnings\n",
    "warnings.filterwarnings('ignore')\n",
    "\n",
    "#Uncomment to choose a get interacting function\n",
    "#prot_list = list(u.get_interacting_proteins_bioplex(gene))\n",
    "#prot_list = list(u.get_interacting_proteins_wikipathways(gene))\n",
    "#prot_list = list(u.get_interacting_proteins_biogrid(gene, num_results=100))\n",
    "#prot_list = list(u.get_interacting_proteins_string(gene, num_results=100))\n",
    "prot_list = egfr_path\n",
    "\n",
    "print('total interacting proteins:', len(prot_list))\n",
    "gene = 'KRAS'\n",
    "merged_dfs = {}\n",
    "for cancer in cancer_objects:\n",
    "    print(cancer)\n",
    "    # Format df for t-test\n",
    "    mut_wt = all_prot_format_df(cancer_objects[cancer], prot_list)\n",
    "    mut_wt = mut_wt.dropna(axis = 'columns', how = 'all') # not enough data for cis effect (wrap_ttest drops)\n",
    "    \n",
    "    # T-test\n",
    "    cols_in = list(mut_wt.columns[:-2])\n",
    "    print('cols tested: ', len(cols_in))\n",
    "\n",
    "    # Get all pvals\n",
    "    min_num = 5\n",
    "    all_pval = u.wrap_ttest(mut_wt, 'Mutation', cols_in, return_all = True, correction_method = 'fdr_bh', mincount = min_num)\n",
    "    all_pval = all_pval.rename(columns = {'Comparison': 'Phosphoproteomics','P_Value': cancer+'_P_Value'})\n",
    "    \n",
    "    # Get difference in medians\n",
    "    delta_median_df = get_change_in_medians_df(cancer_objects[cancer], cancer, mut_wt, cols_in)\n",
    "\n",
    "    # Merge pval_df and delta_median_df\n",
    "    pval_medians_df = all_pval.merge(delta_median_df, on='Phosphoproteomics', how='outer')\n",
    "    pval_medians_df = pval_medians_df.replace(to_replace = r'_phosphoproteomics', value = '', regex = True)\n",
    "    merged_dfs[cancer] = pval_medians_df # testing purposes\n",
    "    \n",
    "    # Create csv\n",
    "    #pval_medians_df.to_csv('csv/Single_Cancer/'+cancer+'_pval_medians_interacting.csv', index=False)\n",
    "    print(pval_medians_df.head(), '\\n')"
   ]
  },
  {
   "cell_type": "code",
   "execution_count": 180,
   "metadata": {},
   "outputs": [],
   "source": [
    "endo_pvals = merged_dfs['Endo']\n",
    "e_sig = endo_pvals.loc[endo_pvals['Endo_P_Value'] < 0.05].dropna()\n",
    "colon_pvals = merged_dfs['Colon']\n",
    "c_sig = colon_pvals.loc[colon_pvals['Colon_P_Value'] < 0.05]\n",
    "luad_pvals = merged_dfs['Luad']\n",
    "l_sig = luad_pvals.loc[luad_pvals['Luad_P_Value'] < 0.05]"
   ]
  },
  {
   "cell_type": "code",
   "execution_count": 186,
   "metadata": {},
   "outputs": [
    {
     "data": {
      "text/html": [
       "<div>\n",
       "<style scoped>\n",
       "    .dataframe tbody tr th:only-of-type {\n",
       "        vertical-align: middle;\n",
       "    }\n",
       "\n",
       "    .dataframe tbody tr th {\n",
       "        vertical-align: top;\n",
       "    }\n",
       "\n",
       "    .dataframe thead th {\n",
       "        text-align: right;\n",
       "    }\n",
       "</style>\n",
       "<table border=\"1\" class=\"dataframe\">\n",
       "  <thead>\n",
       "    <tr style=\"text-align: right;\">\n",
       "      <th></th>\n",
       "      <th>Phosphoproteomics</th>\n",
       "      <th>Luad_P_Value</th>\n",
       "      <th>Luad_Median</th>\n",
       "    </tr>\n",
       "  </thead>\n",
       "  <tbody>\n",
       "    <tr>\n",
       "      <th>0</th>\n",
       "      <td>SOS1_S1161</td>\n",
       "      <td>0.000015</td>\n",
       "      <td>1.30250</td>\n",
       "    </tr>\n",
       "    <tr>\n",
       "      <th>1</th>\n",
       "      <td>GAB1_T668</td>\n",
       "      <td>0.000302</td>\n",
       "      <td>-1.14550</td>\n",
       "    </tr>\n",
       "    <tr>\n",
       "      <th>2</th>\n",
       "      <td>MKNK1_S209S214</td>\n",
       "      <td>0.004129</td>\n",
       "      <td>1.49000</td>\n",
       "    </tr>\n",
       "    <tr>\n",
       "      <th>3</th>\n",
       "      <td>MAP2K2_S222</td>\n",
       "      <td>0.011625</td>\n",
       "      <td>0.69985</td>\n",
       "    </tr>\n",
       "    <tr>\n",
       "      <th>4</th>\n",
       "      <td>TSC2_S1348</td>\n",
       "      <td>0.013926</td>\n",
       "      <td>-1.20950</td>\n",
       "    </tr>\n",
       "    <tr>\n",
       "      <th>5</th>\n",
       "      <td>TSC2_S1007</td>\n",
       "      <td>0.014023</td>\n",
       "      <td>-0.47985</td>\n",
       "    </tr>\n",
       "    <tr>\n",
       "      <th>6</th>\n",
       "      <td>PIK3CA_S312N319</td>\n",
       "      <td>0.014023</td>\n",
       "      <td>-0.43775</td>\n",
       "    </tr>\n",
       "    <tr>\n",
       "      <th>7</th>\n",
       "      <td>GAB1_S381</td>\n",
       "      <td>0.014023</td>\n",
       "      <td>-0.45410</td>\n",
       "    </tr>\n",
       "    <tr>\n",
       "      <th>8</th>\n",
       "      <td>GAB1_S419</td>\n",
       "      <td>0.014023</td>\n",
       "      <td>-1.43180</td>\n",
       "    </tr>\n",
       "    <tr>\n",
       "      <th>9</th>\n",
       "      <td>GAB1_S547</td>\n",
       "      <td>0.018431</td>\n",
       "      <td>-0.76395</td>\n",
       "    </tr>\n",
       "    <tr>\n",
       "      <th>10</th>\n",
       "      <td>BAD_S118</td>\n",
       "      <td>0.033629</td>\n",
       "      <td>-0.99525</td>\n",
       "    </tr>\n",
       "    <tr>\n",
       "      <th>11</th>\n",
       "      <td>SOS1_S1229</td>\n",
       "      <td>0.033629</td>\n",
       "      <td>0.70415</td>\n",
       "    </tr>\n",
       "    <tr>\n",
       "      <th>12</th>\n",
       "      <td>SOS1_S1161S1167</td>\n",
       "      <td>0.034432</td>\n",
       "      <td>1.69635</td>\n",
       "    </tr>\n",
       "    <tr>\n",
       "      <th>13</th>\n",
       "      <td>SOS1_S1136S1137</td>\n",
       "      <td>0.034432</td>\n",
       "      <td>0.71650</td>\n",
       "    </tr>\n",
       "    <tr>\n",
       "      <th>14</th>\n",
       "      <td>GAB1_S675</td>\n",
       "      <td>0.035890</td>\n",
       "      <td>-0.63890</td>\n",
       "    </tr>\n",
       "    <tr>\n",
       "      <th>15</th>\n",
       "      <td>RAF1_S519</td>\n",
       "      <td>0.036392</td>\n",
       "      <td>-0.63255</td>\n",
       "    </tr>\n",
       "    <tr>\n",
       "      <th>16</th>\n",
       "      <td>TSC2_S1429</td>\n",
       "      <td>0.041163</td>\n",
       "      <td>-0.33220</td>\n",
       "    </tr>\n",
       "    <tr>\n",
       "      <th>17</th>\n",
       "      <td>TSC2_S923</td>\n",
       "      <td>0.041163</td>\n",
       "      <td>-0.63420</td>\n",
       "    </tr>\n",
       "    <tr>\n",
       "      <th>18</th>\n",
       "      <td>SRC_S104</td>\n",
       "      <td>0.041163</td>\n",
       "      <td>0.71910</td>\n",
       "    </tr>\n",
       "    <tr>\n",
       "      <th>19</th>\n",
       "      <td>TSC2_S1388</td>\n",
       "      <td>0.041163</td>\n",
       "      <td>-0.43400</td>\n",
       "    </tr>\n",
       "    <tr>\n",
       "      <th>20</th>\n",
       "      <td>FOXO1_S325S345</td>\n",
       "      <td>0.048647</td>\n",
       "      <td>-0.66020</td>\n",
       "    </tr>\n",
       "  </tbody>\n",
       "</table>\n",
       "</div>"
      ],
      "text/plain": [
       "   Phosphoproteomics  Luad_P_Value  Luad_Median\n",
       "0         SOS1_S1161      0.000015      1.30250\n",
       "1          GAB1_T668      0.000302     -1.14550\n",
       "2     MKNK1_S209S214      0.004129      1.49000\n",
       "3        MAP2K2_S222      0.011625      0.69985\n",
       "4         TSC2_S1348      0.013926     -1.20950\n",
       "5         TSC2_S1007      0.014023     -0.47985\n",
       "6    PIK3CA_S312N319      0.014023     -0.43775\n",
       "7          GAB1_S381      0.014023     -0.45410\n",
       "8          GAB1_S419      0.014023     -1.43180\n",
       "9          GAB1_S547      0.018431     -0.76395\n",
       "10          BAD_S118      0.033629     -0.99525\n",
       "11        SOS1_S1229      0.033629      0.70415\n",
       "12   SOS1_S1161S1167      0.034432      1.69635\n",
       "13   SOS1_S1136S1137      0.034432      0.71650\n",
       "14         GAB1_S675      0.035890     -0.63890\n",
       "15         RAF1_S519      0.036392     -0.63255\n",
       "16        TSC2_S1429      0.041163     -0.33220\n",
       "17         TSC2_S923      0.041163     -0.63420\n",
       "18          SRC_S104      0.041163      0.71910\n",
       "19        TSC2_S1388      0.041163     -0.43400\n",
       "20    FOXO1_S325S345      0.048647     -0.66020"
      ]
     },
     "execution_count": 186,
     "metadata": {},
     "output_type": "execute_result"
    }
   ],
   "source": [
    "l_sig"
   ]
  },
  {
   "cell_type": "code",
   "execution_count": 184,
   "metadata": {},
   "outputs": [
    {
     "data": {
      "text/html": [
       "<div>\n",
       "<style scoped>\n",
       "    .dataframe tbody tr th:only-of-type {\n",
       "        vertical-align: middle;\n",
       "    }\n",
       "\n",
       "    .dataframe tbody tr th {\n",
       "        vertical-align: top;\n",
       "    }\n",
       "\n",
       "    .dataframe thead th {\n",
       "        text-align: right;\n",
       "    }\n",
       "</style>\n",
       "<table border=\"1\" class=\"dataframe\">\n",
       "  <thead>\n",
       "    <tr style=\"text-align: right;\">\n",
       "      <th></th>\n",
       "      <th>Phosphoproteomics</th>\n",
       "      <th>Luad_P_Value</th>\n",
       "      <th>Luad_Median</th>\n",
       "      <th>Endo_P_Value</th>\n",
       "      <th>Endo_Median</th>\n",
       "    </tr>\n",
       "  </thead>\n",
       "  <tbody>\n",
       "    <tr>\n",
       "      <th>0</th>\n",
       "      <td>SOS1_S1161</td>\n",
       "      <td>0.000015</td>\n",
       "      <td>1.30250</td>\n",
       "      <td>0.014480</td>\n",
       "      <td>0.53125</td>\n",
       "    </tr>\n",
       "    <tr>\n",
       "      <th>1</th>\n",
       "      <td>SOS1_S1229</td>\n",
       "      <td>0.033629</td>\n",
       "      <td>0.70415</td>\n",
       "      <td>0.034394</td>\n",
       "      <td>0.49900</td>\n",
       "    </tr>\n",
       "    <tr>\n",
       "      <th>2</th>\n",
       "      <td>TSC2_S923</td>\n",
       "      <td>0.041163</td>\n",
       "      <td>-0.63420</td>\n",
       "      <td>0.015339</td>\n",
       "      <td>0.46344</td>\n",
       "    </tr>\n",
       "  </tbody>\n",
       "</table>\n",
       "</div>"
      ],
      "text/plain": [
       "  Phosphoproteomics  Luad_P_Value  Luad_Median  Endo_P_Value  Endo_Median\n",
       "0        SOS1_S1161      0.000015      1.30250      0.014480      0.53125\n",
       "1        SOS1_S1229      0.033629      0.70415      0.034394      0.49900\n",
       "2         TSC2_S923      0.041163     -0.63420      0.015339      0.46344"
      ]
     },
     "execution_count": 184,
     "metadata": {},
     "output_type": "execute_result"
    }
   ],
   "source": [
    "l_sig.merge(e_sig, on='Phosphoproteomics')"
   ]
  },
  {
   "cell_type": "markdown",
   "metadata": {},
   "source": [
    "# Get number of significant genes in each cancer"
   ]
  },
  {
   "cell_type": "code",
   "execution_count": 167,
   "metadata": {},
   "outputs": [
    {
     "name": "stdout",
     "output_type": "stream",
     "text": [
      "Endo sig comparisons: 23\n",
      "Colon sig comparisons: 0\n",
      "Luad sig comparisons: 21\n",
      "\n",
      "Number of significant comparisons in at least 1 cancer: 41\n"
     ]
    }
   ],
   "source": [
    "# Using corrected pvals from wrap_ttest, each cancer's cutoff is 0.05\n",
    "all_sig = []\n",
    "\n",
    "for cancer in merged_dfs:\n",
    "    df = merged_dfs[cancer]\n",
    "    sig_df = df.loc[df[cancer+'_P_Value'] < 0.05]\n",
    "    print(cancer, 'sig comparisons:', len(sig_df))\n",
    "    sig_list = list(sig_df['Phosphoproteomics'])\n",
    "    all_sig.append(sig_list)\n",
    "        \n",
    "\n",
    "flat_list = [item for sublist in all_sig for item in sublist] #change list of lists, to just one list\n",
    "sig = list(set(flat_list)) # keep only one if gene in multiple cancer sig lists\n",
    "print('\\nNumber of significant comparisons in at least 1 cancer:', len(sig))"
   ]
  },
  {
   "cell_type": "markdown",
   "metadata": {},
   "source": [
    "# Get a list of significant genes in at least one cancer"
   ]
  },
  {
   "cell_type": "code",
   "execution_count": 168,
   "metadata": {},
   "outputs": [
    {
     "name": "stdout",
     "output_type": "stream",
     "text": [
      "Number of significant genes in at least one cancer: 41\n"
     ]
    }
   ],
   "source": [
    "s = pd.Series(sig)\n",
    "print('Number of significant genes in at least one cancer:', len(s))\n",
    "#s.to_csv('csv/list_sig_one_cancer_interacting.csv', index=False)"
   ]
  },
  {
   "cell_type": "markdown",
   "metadata": {},
   "source": [
    "# Get a list of significant genes in multiple cancers"
   ]
  },
  {
   "cell_type": "code",
   "execution_count": 169,
   "metadata": {},
   "outputs": [
    {
     "name": "stdout",
     "output_type": "stream",
     "text": [
      "Number of significant genes in mult cancers: 3\n"
     ]
    }
   ],
   "source": [
    "# sig in multiple cancers\n",
    "mult = list(set(i for i in flat_list if flat_list.count(i) > 1)) # Keep genes sig in more than 1 cancer\n",
    "print('Number of significant genes in mult cancers:', len(mult))"
   ]
  },
  {
   "cell_type": "code",
   "execution_count": null,
   "metadata": {},
   "outputs": [],
   "source": [
    "m = pd.Series(mult)\n",
    "m = m.replace(to_replace = r'_proteomics$', value = '', regex = True)\n",
    "#m.to_csv('csv/list_sig_multiple_cancers_interacting.csv', index=False)"
   ]
  },
  {
   "cell_type": "code",
   "execution_count": null,
   "metadata": {},
   "outputs": [],
   "source": []
  }
 ],
 "metadata": {
  "kernelspec": {
   "display_name": "Python 3",
   "language": "python",
   "name": "python3"
  },
  "language_info": {
   "codemirror_mode": {
    "name": "ipython",
    "version": 3
   },
   "file_extension": ".py",
   "mimetype": "text/x-python",
   "name": "python",
   "nbconvert_exporter": "python",
   "pygments_lexer": "ipython3",
   "version": "3.7.3"
  }
 },
 "nbformat": 4,
 "nbformat_minor": 2
}
