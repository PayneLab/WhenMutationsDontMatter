{
 "cells": [
  {
   "cell_type": "markdown",
   "metadata": {},
   "source": [
    "# Make tables: Merge all cancer dfs and create csv files"
   ]
  },
  {
   "cell_type": "markdown",
   "metadata": {},
   "source": [
    "This notebook combines dfs with p-values and differential expressions for 8 cancers. \n",
    "Description of created csv files: \n",
    "* all_proteins - contains all data in normal format, \n",
    "* all_heatmap - all data appended to make a long table for easy use with heatmap function, \n",
    "* sig_pval_heatmap - contains only significant genes (long format),\n",
    "* mult_sig_pval_heatmap - contains only proteins significant in multiple cancers (long format), \n",
    "* pos_neg_df - contains only proteins showing a significant opposite effect in different cancers. "
   ]
  },
  {
   "cell_type": "markdown",
   "metadata": {},
   "source": [
    "Imports"
   ]
  },
  {
   "cell_type": "code",
   "execution_count": 1,
   "metadata": {},
   "outputs": [],
   "source": [
    "import pandas as pd\n",
    "import numpy as np\n",
    "import seaborn as sns\n",
    "import matplotlib.pyplot as plt\n",
    "import scipy.stats\n",
    "import gseapy as gp\n",
    "import re\n",
    "import sys \n",
    "\n",
    "import cptac\n",
    "import cptac.utils as u\n",
    "import plot_utils as p"
   ]
  },
  {
   "cell_type": "markdown",
   "metadata": {},
   "source": [
    "Read in the signle cancer dfs with p-values and differential expressions. Merge all dfs into one pancancer data frame."
   ]
  },
  {
   "cell_type": "code",
   "execution_count": 3,
   "metadata": {},
   "outputs": [],
   "source": [
    "l_merged = pd.read_csv('csv/Single_Cancer/Luad_pval_medians.csv')\n",
    "e_merged = pd.read_csv('csv/Single_Cancer/Endo_pval_medians.csv')\n",
    "c_merged = pd.read_csv('csv/Single_Cancer/Colon_pval_medians.csv')"
   ]
  },
  {
   "cell_type": "markdown",
   "metadata": {},
   "source": [
    "# Make csv of all data"
   ]
  },
  {
   "cell_type": "code",
   "execution_count": 6,
   "metadata": {},
   "outputs": [],
   "source": [
    "df1 = l_merged.merge(l_merged, on='Proteomics',how='outer')\n",
    "df2 = df1.merge(e_merged, on='Proteomics',how='outer')\n",
    "all_df = df2.merge(c_merged, on='Proteomics',how='outer')\n"
   ]
  },
  {
   "cell_type": "code",
   "execution_count": 7,
   "metadata": {},
   "outputs": [],
   "source": [
    "all_df.to_csv('csv/all_proteins.csv', index=False)"
   ]
  },
  {
   "cell_type": "markdown",
   "metadata": {},
   "source": [
    "# Make csv of data formatted to use with the HeatMap function "
   ]
  },
  {
   "cell_type": "code",
   "execution_count": 8,
   "metadata": {},
   "outputs": [
    {
     "name": "stdout",
     "output_type": "stream",
     "text": [
      "Check total proteins: 12718\n"
     ]
    }
   ],
   "source": [
    "# Create long df for heatmap\n",
    "\n",
    "cancer = ['Luad','En','Colon']\n",
    "merged_dfs = [l_merged,e_merged,c_merged]\n",
    "\n",
    "all_long_df = pd.DataFrame()\n",
    "i = 0\n",
    "for c in cancer:\n",
    "    m = merged_dfs[i]\n",
    "    m2 = m.assign(Cancer = c)\n",
    "    m2 = m2.rename(columns={c+'_P_Value': 'P_Value'})\n",
    "    m2 = m2.rename(columns={c+'_Median': 'Medians'})\n",
    "    all_long_df = all_long_df.append(m2) \n",
    "    if i < 7:\n",
    "        i += 1\n",
    "\n",
    "print('Check total proteins:', len(all_long_df.Proteomics.unique()))"
   ]
  },
  {
   "cell_type": "code",
   "execution_count": 9,
   "metadata": {},
   "outputs": [],
   "source": [
    "all_long_df.to_csv('csv/all_heatmap.csv', index=False)"
   ]
  },
  {
   "cell_type": "markdown",
   "metadata": {},
   "source": [
    "# Make csv of only significant proteins (formatted for heatmap)"
   ]
  },
  {
   "cell_type": "markdown",
   "metadata": {},
   "source": [
    "Read in list_sig_in_at_least_one_cancer.csv. Convert to a list of genes significant in at least 1 cancer. Slice out genes in the list from the df with all data."
   ]
  },
  {
   "cell_type": "code",
   "execution_count": 10,
   "metadata": {},
   "outputs": [],
   "source": [
    "sig = pd.read_csv('csv/list_sig_one_cancer.csv')\n",
    "list_sig = list(sig['0'])"
   ]
  },
  {
   "cell_type": "code",
   "execution_count": 11,
   "metadata": {},
   "outputs": [
    {
     "name": "stdout",
     "output_type": "stream",
     "text": [
      "Check total sig genes = 2630: 29\n"
     ]
    }
   ],
   "source": [
    "# Keep genes with at least one sig ttest\n",
    "bool_df = all_long_df['Proteomics'].isin(list_sig)\n",
    "sig_df = all_long_df[bool_df]\n",
    "print('Check total sig genes = 2630:', len(sig_df.Proteomics.unique()))\n",
    "t = list(sig_df.Proteomics)"
   ]
  },
  {
   "cell_type": "code",
   "execution_count": null,
   "metadata": {},
   "outputs": [],
   "source": [
    "sig_df.to_csv('csv/sig_pval_heatmap.csv', index=False)"
   ]
  },
  {
   "cell_type": "markdown",
   "metadata": {},
   "source": [
    "#  Make csv of proteins significant in multiple cancers (formatted for heatmap)"
   ]
  },
  {
   "cell_type": "code",
   "execution_count": null,
   "metadata": {},
   "outputs": [],
   "source": [
    "mult = pd.read_csv('csv/list_sig_multiple_cancers.csv')\n",
    "list_mult = list(mult['0'])"
   ]
  },
  {
   "cell_type": "code",
   "execution_count": null,
   "metadata": {},
   "outputs": [],
   "source": [
    "# Keep genes with > one sig ttest\n",
    "bool_df2 = all_long_df['Proteomics'].isin(list_mult)\n",
    "mult_df = all_long_df[bool_df2]\n",
    "print('Check total sig in multiple cancers = 332:', len(mult_df.Proteomics.unique()))"
   ]
  },
  {
   "cell_type": "code",
   "execution_count": null,
   "metadata": {},
   "outputs": [],
   "source": [
    "mult_df.to_csv('csv/mult_sig_pval_heatmap.csv', index=False)"
   ]
  },
  {
   "cell_type": "markdown",
   "metadata": {},
   "source": [
    "#  Make csv of proteins with sig opposite effects "
   ]
  },
  {
   "cell_type": "markdown",
   "metadata": {},
   "source": [
    "This csv will contain proteins that have both a significant positive differential expression and a significant negative differential expression in different cancers. (See Make_tables_data_munging for calculation of differential expression of proteomics)"
   ]
  },
  {
   "cell_type": "code",
   "execution_count": null,
   "metadata": {},
   "outputs": [],
   "source": [
    "# Returns true if both a pos and neg differential expression if found for the protein in the row\n",
    "\n",
    "def HasPosNeg(row):\n",
    "    hasPos = False\n",
    "    hasNeg= False\n",
    "    for item in row: \n",
    "        if pd.isnull(item):\n",
    "            continue\n",
    "        if item < 0:\n",
    "            hasNeg = True\n",
    "        if item > 0:\n",
    "            hasPos = True\n",
    "           \n",
    "    if hasPos & hasNeg:\n",
    "        return True\n",
    "    return False\n"
   ]
  },
  {
   "cell_type": "code",
   "execution_count": null,
   "metadata": {},
   "outputs": [],
   "source": [
    "# Get df with only pval columns - Keep only sig values\n",
    "new_df = all_df.set_index('Proteomics')\n",
    "sig = new_df[new_df.columns[::2]].where(new_df < 0.05, np.nan) # replaces when false\n",
    "only_sig = sig.dropna(how = 'all', axis = 'columns') \n",
    "only_sig = only_sig.dropna(how = 'all', axis = 'rows')\n",
    "only_sig"
   ]
  },
  {
   "cell_type": "code",
   "execution_count": null,
   "metadata": {},
   "outputs": [],
   "source": [
    "# Keep only differential expression (median) columns\n",
    "only_med = new_df[new_df.columns[1::2]]\n",
    "only_med.columns"
   ]
  },
  {
   "cell_type": "code",
   "execution_count": null,
   "metadata": {},
   "outputs": [],
   "source": [
    "sig_cancer = ['Gbm', 'Hnscc', 'Luad', 'Lscc', 'Ov', 'En'] \n",
    "sig_dfs = {}\n",
    "\n",
    "# Create df with pval and med of sig genes of one cancer - Add to dictionary\n",
    "for c in sig_cancer:\n",
    "    med = only_med[[c+'_Median']]\n",
    "    pval = only_sig[[c+'_P_Value']]\n",
    "    merged = pval.merge(med, on = 'Proteomics', how='left') # keep all pvals\n",
    "    sig_med_df = merged.dropna()\n",
    "    sig_dfs[c] = sig_med_df\n",
    "\n",
    "# Combine all dfs with only real values for sig pval median pairs\n",
    "all_sig = pd.DataFrame()\n",
    "for c in sig_dfs:\n",
    "    all_sig = all_sig.join(sig_dfs[c], how = 'outer') # join including all values\n",
    "\n",
    "print('Total number of sig genes:', len(all_sig.index))"
   ]
  },
  {
   "cell_type": "code",
   "execution_count": null,
   "metadata": {},
   "outputs": [],
   "source": [
    "# Checks"
   ]
  },
  {
   "cell_type": "code",
   "execution_count": null,
   "metadata": {},
   "outputs": [],
   "source": [
    "# check # see make_fig_2_data_munging\n",
    "c = 'Luad'\n",
    "l2 = all_sig[[c+'_P_Value', c+'_Median']].dropna(axis = 0, how= 'all')\n",
    "luad2 = list(l2.index)\n",
    "len(luad2)"
   ]
  },
  {
   "cell_type": "code",
   "execution_count": null,
   "metadata": {},
   "outputs": [],
   "source": [
    "# check \n",
    "only_med_of_sig = all_sig[['Gbm_Median','Hnscc_Median','Luad_Median','Lscc_Median','Ov_Median','En_Median']]\n",
    "test = only_med_of_sig.index.isin(['ITGAL']) # sig luad -> ITGAL_isoform_1 (most consistent?)\n",
    "only_med_of_sig[test]"
   ]
  },
  {
   "cell_type": "code",
   "execution_count": null,
   "metadata": {},
   "outputs": [],
   "source": [
    "# checks"
   ]
  },
  {
   "cell_type": "markdown",
   "metadata": {},
   "source": [
    "Map the proteins with a pos and neg differential expression with the HasPosNeg function. Slice out proteins meeting this criteria from the df formatted for the heatmap function."
   ]
  },
  {
   "cell_type": "code",
   "execution_count": null,
   "metadata": {},
   "outputs": [],
   "source": [
    "only_med_of_sig = all_sig[['Gbm_Median','Hnscc_Median','Luad_Median','Lscc_Median','Ov_Median','En_Median']]\n",
    "only_med_of_sig[\"Pos_Neg\"] = only_med_of_sig.apply(HasPosNeg, axis = 1)\n",
    "pn = only_med_of_sig.loc[only_med_of_sig['Pos_Neg'] == True]\n",
    "pn_genes = list(pn.index) # list of genes that have pos and neg\n",
    "\n",
    "# Slice\n",
    "get = sig_df.Proteomics.isin(pn_genes)\n",
    "pos_neg_df = sig_df[get] # Keep genes with pos and neg\n",
    "len(pos_neg_df.Proteomics.unique())"
   ]
  },
  {
   "cell_type": "code",
   "execution_count": null,
   "metadata": {},
   "outputs": [],
   "source": [
    "pos_neg_df.to_csv('csv/pos_neg_df.csv', index=False)"
   ]
  },
  {
   "cell_type": "markdown",
   "metadata": {},
   "source": [
    "# Get number of proteins with significant opposite effects"
   ]
  },
  {
   "cell_type": "markdown",
   "metadata": {},
   "source": [
    "Count proteins with an opposite effect. An opposite effect occurs when there is a significant increase in the protein abundance in one cancer and there is a significant decrease in the protein abundance in a different cancer."
   ]
  },
  {
   "cell_type": "code",
   "execution_count": null,
   "metadata": {},
   "outputs": [],
   "source": [
    "get = mult_df.Proteomics.isin(pn_genes)\n",
    "mult_sig_pn = mult_df[get] # Keep genes with pos and neg\n",
    "proteins_opposite_effect = mult_sig_pn.Proteomics.unique()\n",
    "print('Proteins with significant opposite effects:', len(proteins_opposite_effect))"
   ]
  },
  {
   "cell_type": "markdown",
   "metadata": {},
   "source": [
    "# Calculate percentage of proteins with significant opposite effects"
   ]
  },
  {
   "cell_type": "code",
   "execution_count": null,
   "metadata": {},
   "outputs": [],
   "source": [
    "mult_sig_total = len(list_mult)\n",
    "opposite = len(proteins_opposite_effect)\n",
    "print('Percent of proteins with significant opposite effects: ', opposite, '/', mult_sig_total, '* 100 = ',\n",
    "      opposite / mult_sig_total *100)"
   ]
  },
  {
   "cell_type": "code",
   "execution_count": null,
   "metadata": {},
   "outputs": [],
   "source": []
  }
 ],
 "metadata": {
  "kernelspec": {
   "display_name": "Python 3",
   "language": "python",
   "name": "python3"
  },
  "language_info": {
   "codemirror_mode": {
    "name": "ipython",
    "version": 3
   },
   "file_extension": ".py",
   "mimetype": "text/x-python",
   "name": "python",
   "nbconvert_exporter": "python",
   "pygments_lexer": "ipython3",
   "version": "3.7.3"
  }
 },
 "nbformat": 4,
 "nbformat_minor": 2
}
