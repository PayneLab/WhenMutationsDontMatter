{
 "cells": [
  {
   "cell_type": "markdown",
   "metadata": {},
   "source": [
    "# Make tables: Merge all cancer dfs and create csv files"
   ]
  },
  {
   "cell_type": "markdown",
   "metadata": {},
   "source": [
    "This notebook combines dfs with p-values and differential expressions for 8 cancers. \n",
    "Description of created csv files: \n",
    "* all_proteins - contains all data in normal format, \n",
    "* all_heatmap - all data appended to make a long table for easy use with heatmap function, \n",
    "* sig_pval_heatmap - contains only significant genes (long format),"
   ]
  },
  {
   "cell_type": "markdown",
   "metadata": {},
   "source": [
    "Imports"
   ]
  },
  {
   "cell_type": "code",
   "execution_count": 1,
   "metadata": {},
   "outputs": [],
   "source": [
    "import pandas as pd\n",
    "import numpy as np\n",
    "import seaborn as sns\n",
    "import matplotlib.pyplot as plt\n",
    "import scipy.stats\n",
    "import gseapy as gp\n",
    "import re\n",
    "import sys \n",
    "\n",
    "import cptac\n",
    "import cptac.utils as u\n",
    "import plot_utils as p"
   ]
  },
  {
   "cell_type": "markdown",
   "metadata": {},
   "source": [
    "Read in the signle cancer dfs with p-values and differential expressions. Merge all dfs into one pancancer data frame."
   ]
  },
  {
   "cell_type": "code",
   "execution_count": 2,
   "metadata": {},
   "outputs": [],
   "source": [
    "l_merged = pd.read_csv('csv/Single_Cancer/Luad_pval_medians_G12.csv')\n",
    "e_merged = pd.read_csv('csv/Single_Cancer/Endo_pval_medians_G12.csv')\n",
    "c_merged = pd.read_csv('csv/Single_Cancer/Colon_pval_medians_G12.csv')"
   ]
  },
  {
   "cell_type": "markdown",
   "metadata": {},
   "source": [
    "# Make csv of all data"
   ]
  },
  {
   "cell_type": "code",
   "execution_count": 3,
   "metadata": {},
   "outputs": [],
   "source": [
    "df1 = l_merged.merge(e_merged, on='Proteomics',how='outer')\n",
    "all_df = df1.merge(c_merged, on='Proteomics',how='outer')"
   ]
  },
  {
   "cell_type": "code",
   "execution_count": 4,
   "metadata": {},
   "outputs": [],
   "source": [
    "all_df.to_csv('csv/all_proteins_G12.csv', index=False)"
   ]
  },
  {
   "cell_type": "markdown",
   "metadata": {},
   "source": [
    "# Make csv of data formatted to use with the HeatMap function "
   ]
  },
  {
   "cell_type": "code",
   "execution_count": 5,
   "metadata": {},
   "outputs": [
    {
     "name": "stdout",
     "output_type": "stream",
     "text": [
      "Check total proteins: 12718\n"
     ]
    }
   ],
   "source": [
    "# Create long df for heatmap\n",
    "\n",
    "cancer = ['Luad','Endo','Colon']\n",
    "merged_dfs = [l_merged,e_merged,c_merged]\n",
    "\n",
    "all_long_df = pd.DataFrame()\n",
    "i = 0\n",
    "for c in cancer:\n",
    "    m = merged_dfs[i]\n",
    "    m2 = m.assign(Cancer = c)\n",
    "    m2 = m2.rename(columns={c+'_P_Value': 'P_Value'})\n",
    "    m2 = m2.rename(columns={c+'_Median': 'Medians'})\n",
    "    all_long_df = all_long_df.append(m2) \n",
    "    if i < 7:\n",
    "        i += 1\n",
    "\n",
    "print('Check total proteins:', len(all_long_df.Proteomics.unique()))"
   ]
  },
  {
   "cell_type": "code",
   "execution_count": 6,
   "metadata": {},
   "outputs": [],
   "source": [
    "all_long_df.to_csv('csv/all_heatmap_G12.csv', index=False)"
   ]
  },
  {
   "cell_type": "markdown",
   "metadata": {},
   "source": [
    "# Make csv of only significant proteins (formatted for heatmap)"
   ]
  },
  {
   "cell_type": "markdown",
   "metadata": {},
   "source": [
    "Read in list_sig_in_at_least_one_cancer.csv. Convert to a list of genes significant in at least 1 cancer. Slice out genes in the list from the df with all data."
   ]
  },
  {
   "cell_type": "code",
   "execution_count": 7,
   "metadata": {},
   "outputs": [],
   "source": [
    "sig = pd.read_csv('csv/list_sig_one_cancer_G12.csv')\n",
    "list_sig = list(sig['0'])"
   ]
  },
  {
   "cell_type": "code",
   "execution_count": 9,
   "metadata": {},
   "outputs": [
    {
     "name": "stdout",
     "output_type": "stream",
     "text": [
      "Check total sig genes = 4: 4\n"
     ]
    }
   ],
   "source": [
    "# Keep genes with at least one sig ttest\n",
    "bool_df = all_long_df['Proteomics'].isin(list_sig)\n",
    "sig_df = all_long_df[bool_df]\n",
    "print('Check total sig genes = 4:', len(sig_df.Proteomics.unique()))\n",
    "t = list(sig_df.Proteomics)"
   ]
  },
  {
   "cell_type": "code",
   "execution_count": 10,
   "metadata": {},
   "outputs": [],
   "source": [
    "sig_df.to_csv('csv/sig_pval_heatmap_G12.csv', index=False)"
   ]
  },
  {
   "cell_type": "markdown",
   "metadata": {},
   "source": [
    "#  Make csv of proteins significant in multiple cancers (formatted for heatmap)"
   ]
  },
  {
   "cell_type": "code",
   "execution_count": 47,
   "metadata": {},
   "outputs": [],
   "source": [
    "mult = pd.read_csv('csv/list_sig_multiple_cancers.csv')\n",
    "list_mult = list(mult['0'])"
   ]
  },
  {
   "cell_type": "code",
   "execution_count": 48,
   "metadata": {},
   "outputs": [
    {
     "name": "stdout",
     "output_type": "stream",
     "text": [
      "Check total sig in multiple cancers = 0: 0\n"
     ]
    }
   ],
   "source": [
    "# Keep genes with > one sig ttest\n",
    "bool_df2 = all_long_df['Proteomics'].isin(list_mult)\n",
    "mult_df = all_long_df[bool_df2]\n",
    "print('Check total sig in multiple cancers = 0:', len(mult_df.Proteomics.unique()))"
   ]
  },
  {
   "cell_type": "code",
   "execution_count": null,
   "metadata": {},
   "outputs": [],
   "source": [
    "#mult_df.to_csv('csv/mult_sig_pval_heatmap.csv', index=False)"
   ]
  },
  {
   "cell_type": "markdown",
   "metadata": {},
   "source": [
    "#  Unable to compare opposite effects: 0 genes sig in mult cancers "
   ]
  },
  {
   "cell_type": "code",
   "execution_count": null,
   "metadata": {},
   "outputs": [],
   "source": []
  }
 ],
 "metadata": {
  "kernelspec": {
   "display_name": "Python 3",
   "language": "python",
   "name": "python3"
  },
  "language_info": {
   "codemirror_mode": {
    "name": "ipython",
    "version": 3
   },
   "file_extension": ".py",
   "mimetype": "text/x-python",
   "name": "python",
   "nbconvert_exporter": "python",
   "pygments_lexer": "ipython3",
   "version": "3.7.3"
  }
 },
 "nbformat": 4,
 "nbformat_minor": 2
}
