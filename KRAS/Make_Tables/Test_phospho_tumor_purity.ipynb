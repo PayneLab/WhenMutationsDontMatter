{
 "cells": [
  {
   "cell_type": "markdown",
   "metadata": {},
   "source": [
    "# Make tables: calculate p-values and differential expressions for each cancer "
   ]
  },
  {
   "cell_type": "markdown",
   "metadata": {},
   "source": [
    "Create a dataframe with p-value results from t-tests for all proteins (trans proteomics when KRAS has missense mutations compared to KRAS wildtype). The dataframe also includes the change in medians between deletions and wildtype. Prepare these tables for further analysis by creating csv files."
   ]
  },
  {
   "cell_type": "code",
   "execution_count": 1,
   "metadata": {},
   "outputs": [],
   "source": [
    "import pandas as pd\n",
    "import numpy as np\n",
    "import seaborn as sns\n",
    "import matplotlib.pyplot as plt\n",
    "import scipy.stats\n",
    "import gseapy as gp\n",
    "import re\n",
    "import sys \n",
    "\n",
    "import cptac\n",
    "import cptac.utils as u\n",
    "import plot_utils as p"
   ]
  },
  {
   "cell_type": "code",
   "execution_count": 2,
   "metadata": {},
   "outputs": [],
   "source": [
    "import warnings\n",
    "warnings.filterwarnings('ignore')"
   ]
  },
  {
   "cell_type": "code",
   "execution_count": 3,
   "metadata": {},
   "outputs": [],
   "source": [
    "# Returns a dataframe with proteomics and mutation type\n",
    "\n",
    "# all_prot: list of trans genes\n",
    "\n",
    "def all_prot_format_df(cancer_object, all_prot, gene_in = 'KRAS', utils = u):\n",
    "    mut_type = cancer_object.get_genotype_all_vars(gene_in)\n",
    "    mut_type['Mutation'].where(mut_type['Mutation'] != 'Missense_Mutation', 'Missense', inplace = True) # replace when false\n",
    "    mut_type['Mutation'].where(mut_type['Mutation'] != 'nonsynonymous SNV', 'Missense', inplace = True)\n",
    "\n",
    "    # Keep only tumor samples from proteomics\n",
    "    prot_and_mutations = cancer_object.join_omics_to_mutations(\n",
    "        mutations_genes = [gene_in], omics_df_name = 'phosphoproteomics', omics_genes = all_prot, tissue_type = 'tumor')\n",
    "    # Reduce a multiindex \n",
    "    if isinstance(prot_and_mutations.keys(), pd.core.indexes.multi.MultiIndex):\n",
    "        if cancer_object.get_cancer_type() in ('endometrial', 'colon'):\n",
    "            prot_and_mutations = u.reduce_multiindex(prot_and_mutations, flatten=True) \n",
    "        elif cancer_object.get_cancer_type() in ('luad'):\n",
    "            prot_and_mutations = u.reduce_multiindex(prot_and_mutations, levels_to_drop = [2,3], flatten = True) \n",
    "        prot_and_mutations = rename_duplicate_cols(prot_and_mutations)\n",
    "\n",
    "    # Keep certain missense mutations\n",
    "    prot_and_mutations['KRAS_Location'] = [','.join(map(str, l)) for l in prot_and_mutations['KRAS_Location']]\n",
    "    hotspots = ['G12', 'G13', 'Q61', 'No_mutation']\n",
    "    hotspots_wt = pd.DataFrame()\n",
    "    for site in hotspots:\n",
    "        df = prot_and_mutations[prot_and_mutations.KRAS_Location.str.contains(site, regex= True, na=False)]\n",
    "        hotspots_wt = hotspots_wt.append(df)\n",
    "    #print(hotspots_wt.KRAS_Location.value_counts())\n",
    "    \n",
    "    # Merge Mutation column from get_genotype_all_vars (includes cnv) with proteomics\n",
    "    mut_type = mut_type[['Mutation']]\n",
    "    prot_df = hotspots_wt.iloc[:,:-4] # Keep only proteomics\n",
    "    merged = prot_df.join(mut_type)\n",
    "    merged = merged.join(hotspots_wt['KRAS_Location'])\n",
    "\n",
    "    # Keep only Wildtype and deletion\n",
    "    compare = ['Wildtype_Tumor','Missense']\n",
    "    get = merged['Mutation'].isin(compare)\n",
    "    mut_wt = merged[get]\n",
    "    \n",
    "    mut_wt = mut_wt.rename(columns={col: re.sub(r'_phosphoproteomics', '', col) for col in mut_wt.columns.tolist()})\n",
    "    return mut_wt\n"
   ]
  },
  {
   "cell_type": "code",
   "execution_count": 4,
   "metadata": {},
   "outputs": [],
   "source": [
    "'''\n",
    "Params\n",
    "cancer_object: Object. Variable for the loaded cancer data set.\n",
    "cancer_name: Str. name to add to the created dataframe.\n",
    "del_wt_df: DataFrame. Only samples with deletions and wildtype for PTEN. \n",
    "all_prot_list: List. All proteins in proteomics data frame. \n",
    "\n",
    "Returns a dataframe with the difference in medians between proteomics with PTEN wt and del (wt - del). \n",
    "'''\n",
    "\n",
    "def get_change_in_medians_df(cancer_object, cancer_name, del_wt_df, all_prot_list):\n",
    "    d = del_wt_df[del_wt_df.Mutation == \"Missense\"]\n",
    "    wt = del_wt_df[del_wt_df.Mutation == \"Wildtype_Tumor\"]\n",
    "    del_med = d.median()\n",
    "    wt_med = wt.median()\n",
    "\n",
    "    med_dict = {}\n",
    "    \n",
    "    # Correlation: + is mutant up compared to wt, - is mutant down\n",
    "    for prot in all_prot_list:\n",
    "        if prot in del_med.index and prot in wt_med.index:\n",
    "            dif = del_med[prot] - wt_med[prot]\n",
    "            med_dict[prot] = dif\n",
    "        \n",
    "    df = pd.DataFrame.from_dict(med_dict, orient='index', columns=[cancer_name+'_Median'])\n",
    "    df = df.reset_index().rename(columns={'index':'Phosphoproteomics'})\n",
    "    \n",
    "    return df\n",
    "        "
   ]
  },
  {
   "cell_type": "code",
   "execution_count": 5,
   "metadata": {},
   "outputs": [],
   "source": [
    "# Adds '_i' to duplicate col names where i is a number (increases with each duplicate)\n",
    "\n",
    "def rename_duplicate_cols(df):\n",
    "    cols = pd.Series(df.columns[:])\n",
    "\n",
    "    for dup in cols[cols.duplicated()].unique(): \n",
    "        cols[cols[cols == dup].index.values.tolist()] = [dup + '_' + str(i) if i != 0 else dup for i in range(sum(cols == dup))]\n",
    "\n",
    "    # rename the columns with the cols list.\n",
    "    df.columns=cols\n",
    "    return df"
   ]
  },
  {
   "cell_type": "code",
   "execution_count": 6,
   "metadata": {},
   "outputs": [],
   "source": [
    "def get_tumor_purity(cancer_obj):\n",
    "    dm = cancer_obj.get_derived_molecular()\n",
    "    # Rename to make consistent tumor purtity col\n",
    "    renamed_df = dm.rename(columns = {'TumorPurity':'Tumor_Purity','Purity_Cancer':'Tumor_Purity',\n",
    "                                      'Tumor.Purity.byESTIMATE.RNAseq':'Tumor_Purity'})\n",
    "    purity = renamed_df[['Tumor_Purity']]\n",
    "    return purity"
   ]
  },
  {
   "cell_type": "markdown",
   "metadata": {},
   "source": [
    "#  Step 1: Create data frames with p-values and differential expressions"
   ]
  },
  {
   "cell_type": "markdown",
   "metadata": {},
   "source": [
    "Each cancer needs a data frame containing only samples that have PTEN cnv deletions and PTEN wildtype with trans proteomics. Use wrap_ttest to run t-tests for all genes in the proteomic data frame. Use get_change_in_medians_df to create the data frame with differential expression values. Merge both data frames. "
   ]
  },
  {
   "cell_type": "markdown",
   "metadata": {},
   "source": [
    "Load in cancer data sets from cptac. "
   ]
  },
  {
   "cell_type": "code",
   "execution_count": 7,
   "metadata": {},
   "outputs": [
    {
     "name": "stdout",
     "output_type": "stream",
     "text": [
      "                                                \r"
     ]
    }
   ],
   "source": [
    "en = cptac.Endometrial()\n",
    "l = cptac.Luad()\n",
    "col = cptac.Colon()"
   ]
  },
  {
   "cell_type": "code",
   "execution_count": 8,
   "metadata": {},
   "outputs": [],
   "source": [
    "egfr_path = ['EGFR', 'GRB2', 'GAB1', 'PIK3R1', 'PIK3CA', 'PDK1', 'AKT1', 'CASP9', 'BAD', 'MDM2', 'GSK3B',\n",
    "                'FOXO1', 'RPS6KB1', 'EIF4EBP1', 'TSC2', 'CCND1', 'E2F1', 'RB1', 'CDKN1B', 'SHC1', 'SOS1', 'RAF1', \n",
    "                'SRC', 'MAP2K1', 'MAP2K2', 'MAPK3', 'MAPK1', 'BCL2L11', 'RPS6KA1', 'RPS6KA3', 'MKNK1', 'EIF4E',\n",
    "                'ELK1', 'MYC', 'JUN', 'FOS']"
   ]
  },
  {
   "cell_type": "markdown",
   "metadata": {},
   "source": [
    "# Calculate p-values and differential expressions"
   ]
  },
  {
   "cell_type": "code",
   "execution_count": 9,
   "metadata": {},
   "outputs": [],
   "source": [
    "cancer_objects = {'Endo':en, 'Colon':col, 'Luad':l}"
   ]
  },
  {
   "cell_type": "code",
   "execution_count": 10,
   "metadata": {},
   "outputs": [
    {
     "name": "stdout",
     "output_type": "stream",
     "text": [
      "Endo\n",
      "5%: 0.22946024\n",
      "Num pure samples: 84 / 92 \n",
      "\n",
      "Colon\n",
      "5%: 0.557\n",
      "Num pure samples: 76 / 81 \n",
      "\n",
      "Luad\n",
      "5%: 0.39836446978100504\n",
      "Num pure samples: 80 / 85 \n",
      "\n"
     ]
    },
    {
     "data": {
      "image/png": "[encoded data removed]",
      "text/plain": [
       "<Figure size 432x288 with 1 Axes>"
      ]
     },
     "metadata": {
      "needs_background": "light"
     },
     "output_type": "display_data"
    }
   ],
   "source": [
    "# Find tumor purity cutoffs \n",
    "purity_cutoff = {}\n",
    "\n",
    "for c in cancer_objects:\n",
    "    print(c)\n",
    "    all_df = all_prot_format_df(cancer_objects[c], ['KRAS'], gene_in = 'KRAS')\n",
    "    purity = get_tumor_purity(cancer_objects[c])\n",
    "    miss_wt = all_df.join(purity, how = 'left')\n",
    "    s = miss_wt['Tumor_Purity']\n",
    "\n",
    "    #print('min:', s.min())\n",
    "    #print('median:', s.median())\n",
    "    #print('max:', s.max(), '\\n')\n",
    "    sns.distplot(s, bins = 40, label = c)\n",
    "    plt.legend()\n",
    "    #plt.show() # uncomment to see plots separately\n",
    "\n",
    "    percent = 5\n",
    "    cutoff = np.nanpercentile(s, percent, interpolation = 'nearest')\n",
    "    purity_cutoff[c] = cutoff\n",
    "    print(str(percent)+'%:', cutoff)\n",
    "    print('Num pure samples:', len(s.loc[s > cutoff]), '/', len(all_df), '\\n')# (of samples with miss/wt for KRAS not all samples"
   ]
  },
  {
   "cell_type": "code",
   "execution_count": 11,
   "metadata": {},
   "outputs": [
    {
     "name": "stdout",
     "output_type": "stream",
     "text": [
      "total interacting proteins: 36\n",
      "Endo\n",
      "\tmin tumor purity: 0.24094175\n",
      "cols tested:  384\n",
      "  Phosphoproteomics  Endo_P_Value  Endo_Median\n",
      "0           BAD_Y76      0.000970     0.600000\n",
      "1         GAB1_S206      0.002510     0.909000\n",
      "2         GAB1_T211      0.002510     0.599925\n",
      "3        MKNK1_S401      0.002510     0.478000\n",
      "4         RAF1_T330      0.003124     1.120000 \n",
      "\n",
      "Colon\n",
      "\tmin tumor purity: 0.562\n",
      "cols tested:  200\n",
      "     Phosphoproteomics  Colon_P_Value  Colon_Median\n",
      "0     GAB1_T503_Q13480       0.948795         0.280\n",
      "1  RPS6KB1_T390_P23443       0.948795        -0.030\n",
      "2     SHC1_S139_P29353       0.948795        -0.090\n",
      "3     SHC1_Y349_P29353       0.948795        -0.082\n",
      "4     SHC1_Y350_P29353       0.948795        -0.082 \n",
      "\n",
      "Luad\n",
      "\tmin tumor purity: 0.4167809745510229\n",
      "cols tested:  240\n",
      "  Phosphoproteomics  Luad_P_Value  Luad_Median\n",
      "0        SOS1_S1161      0.000008      1.30730\n",
      "1         GAB1_T668      0.000848     -1.10855\n",
      "2        TSC2_S1348      0.001286     -1.54980\n",
      "3    MKNK1_S209S214      0.003669      1.67970\n",
      "4       MAP2K2_S222      0.004581      0.76575 \n",
      "\n"
     ]
    }
   ],
   "source": [
    "import warnings\n",
    "warnings.filterwarnings('ignore')\n",
    "\n",
    "#Uncomment to choose a get interacting function\n",
    "#prot_list = list(u.get_interacting_proteins_bioplex(gene))\n",
    "#prot_list = list(u.get_interacting_proteins_wikipathways(gene))\n",
    "#prot_list = list(u.get_interacting_proteins_biogrid(gene, num_results=100))\n",
    "#prot_list = list(u.get_interacting_proteins_string(gene, num_results=100))\n",
    "prot_list = egfr_path\n",
    "\n",
    "print('total interacting proteins:', len(prot_list))\n",
    "gene = 'KRAS'\n",
    "merged_dfs = {}\n",
    "for cancer in cancer_objects:\n",
    "    print(cancer)\n",
    "    # Format df for t-test\n",
    "    mut_wt = all_prot_format_df(cancer_objects[cancer], prot_list)\n",
    "    mut_wt = mut_wt.dropna(axis = 'columns', how = 'all') # not enough data for cis effect (wrap_ttest drops)\n",
    "    \n",
    "    # Keep more pure tumors\n",
    "    purity = get_tumor_purity(cancer_objects[cancer])\n",
    "    mut_wt = mut_wt.join(purity, on = \"Patient_ID\", how = \"left\")\n",
    "    mut_wt = mut_wt.loc[mut_wt['Tumor_Purity'] > purity_cutoff[cancer]]\n",
    "    #print('cutoff:', purity_cutoff[cancer])\n",
    "    print('\\tmin tumor purity:', mut_wt.Tumor_Purity.min())\n",
    "    \n",
    "    # T-test\n",
    "    cols_in = list(mut_wt.columns[:-3])\n",
    "    print('cols tested: ', len(cols_in))\n",
    "\n",
    "    # Get all pvals\n",
    "    min_num = 5\n",
    "    all_pval = u.wrap_ttest(mut_wt, 'Mutation', cols_in, return_all = True, correction_method = 'fdr_bh', mincount = min_num)\n",
    "    all_pval = all_pval.rename(columns = {'Comparison': 'Phosphoproteomics','P_Value': cancer+'_P_Value'})\n",
    "    \n",
    "    # Get difference in medians\n",
    "    delta_median_df = get_change_in_medians_df(cancer_objects[cancer], cancer, mut_wt, cols_in)\n",
    "\n",
    "    # Merge pval_df and delta_median_df\n",
    "    pval_medians_df = all_pval.merge(delta_median_df, on='Phosphoproteomics', how='outer')\n",
    "    pval_medians_df = pval_medians_df.replace(to_replace = r'_phosphoproteomics', value = '', regex = True)\n",
    "    merged_dfs[cancer] = pval_medians_df # testing purposes\n",
    "    \n",
    "    # Create csv\n",
    "    #pval_medians_df.to_csv('csv/Single_Cancer/'+cancer+'_pval_medians_interacting.csv', index=False)\n",
    "    print(pval_medians_df.head(), '\\n')"
   ]
  },
  {
   "cell_type": "code",
   "execution_count": 12,
   "metadata": {},
   "outputs": [],
   "source": [
    "endo_pvals = merged_dfs['Endo']\n",
    "e_sig = endo_pvals.loc[endo_pvals['Endo_P_Value'] < 0.05].dropna()\n",
    "colon_pvals = merged_dfs['Colon']\n",
    "c_sig = colon_pvals.loc[colon_pvals['Colon_P_Value'] < 0.05]\n",
    "luad_pvals = merged_dfs['Luad']\n",
    "l_sig = luad_pvals.loc[luad_pvals['Luad_P_Value'] < 0.05]"
   ]
  },
  {
   "cell_type": "code",
   "execution_count": 13,
   "metadata": {},
   "outputs": [
    {
     "data": {
      "text/html": [
       "<div>\n",
       "<style scoped>\n",
       "    .dataframe tbody tr th:only-of-type {\n",
       "        vertical-align: middle;\n",
       "    }\n",
       "\n",
       "    .dataframe tbody tr th {\n",
       "        vertical-align: top;\n",
       "    }\n",
       "\n",
       "    .dataframe thead th {\n",
       "        text-align: right;\n",
       "    }\n",
       "</style>\n",
       "<table border=\"1\" class=\"dataframe\">\n",
       "  <thead>\n",
       "    <tr style=\"text-align: right;\">\n",
       "      <th></th>\n",
       "      <th>Phosphoproteomics</th>\n",
       "      <th>Luad_P_Value</th>\n",
       "      <th>Luad_Median</th>\n",
       "    </tr>\n",
       "  </thead>\n",
       "  <tbody>\n",
       "    <tr>\n",
       "      <th>0</th>\n",
       "      <td>SOS1_S1161</td>\n",
       "      <td>0.000008</td>\n",
       "      <td>1.30730</td>\n",
       "    </tr>\n",
       "    <tr>\n",
       "      <th>1</th>\n",
       "      <td>GAB1_T668</td>\n",
       "      <td>0.000848</td>\n",
       "      <td>-1.10855</td>\n",
       "    </tr>\n",
       "    <tr>\n",
       "      <th>2</th>\n",
       "      <td>TSC2_S1348</td>\n",
       "      <td>0.001286</td>\n",
       "      <td>-1.54980</td>\n",
       "    </tr>\n",
       "    <tr>\n",
       "      <th>3</th>\n",
       "      <td>MKNK1_S209S214</td>\n",
       "      <td>0.003669</td>\n",
       "      <td>1.67970</td>\n",
       "    </tr>\n",
       "    <tr>\n",
       "      <th>4</th>\n",
       "      <td>MAP2K2_S222</td>\n",
       "      <td>0.004581</td>\n",
       "      <td>0.76575</td>\n",
       "    </tr>\n",
       "    <tr>\n",
       "      <th>5</th>\n",
       "      <td>TSC2_S1388</td>\n",
       "      <td>0.009310</td>\n",
       "      <td>-0.51665</td>\n",
       "    </tr>\n",
       "    <tr>\n",
       "      <th>6</th>\n",
       "      <td>GAB1_S547</td>\n",
       "      <td>0.010895</td>\n",
       "      <td>-0.81580</td>\n",
       "    </tr>\n",
       "    <tr>\n",
       "      <th>7</th>\n",
       "      <td>PIK3CA_S312N319</td>\n",
       "      <td>0.012613</td>\n",
       "      <td>-0.40490</td>\n",
       "    </tr>\n",
       "    <tr>\n",
       "      <th>8</th>\n",
       "      <td>GAB1_S419</td>\n",
       "      <td>0.021076</td>\n",
       "      <td>-1.62175</td>\n",
       "    </tr>\n",
       "    <tr>\n",
       "      <th>9</th>\n",
       "      <td>TSC2_S1429</td>\n",
       "      <td>0.021275</td>\n",
       "      <td>-0.34980</td>\n",
       "    </tr>\n",
       "    <tr>\n",
       "      <th>10</th>\n",
       "      <td>MAPK1_T185Y187</td>\n",
       "      <td>0.021275</td>\n",
       "      <td>0.76290</td>\n",
       "    </tr>\n",
       "    <tr>\n",
       "      <th>11</th>\n",
       "      <td>GAB1_S675</td>\n",
       "      <td>0.021275</td>\n",
       "      <td>-0.79270</td>\n",
       "    </tr>\n",
       "    <tr>\n",
       "      <th>12</th>\n",
       "      <td>TSC2_S1007</td>\n",
       "      <td>0.021275</td>\n",
       "      <td>-0.45570</td>\n",
       "    </tr>\n",
       "    <tr>\n",
       "      <th>13</th>\n",
       "      <td>GAB1_S381</td>\n",
       "      <td>0.021275</td>\n",
       "      <td>-0.46930</td>\n",
       "    </tr>\n",
       "    <tr>\n",
       "      <th>14</th>\n",
       "      <td>BAD_S118</td>\n",
       "      <td>0.021275</td>\n",
       "      <td>-1.18310</td>\n",
       "    </tr>\n",
       "    <tr>\n",
       "      <th>15</th>\n",
       "      <td>SOS1_S1229</td>\n",
       "      <td>0.021767</td>\n",
       "      <td>0.71725</td>\n",
       "    </tr>\n",
       "    <tr>\n",
       "      <th>16</th>\n",
       "      <td>SOS1_S1136S1137</td>\n",
       "      <td>0.021767</td>\n",
       "      <td>0.78680</td>\n",
       "    </tr>\n",
       "    <tr>\n",
       "      <th>17</th>\n",
       "      <td>TSC2_S1342S1348</td>\n",
       "      <td>0.025826</td>\n",
       "      <td>-1.42640</td>\n",
       "    </tr>\n",
       "    <tr>\n",
       "      <th>18</th>\n",
       "      <td>SOS1_S1161S1167</td>\n",
       "      <td>0.025826</td>\n",
       "      <td>1.73395</td>\n",
       "    </tr>\n",
       "    <tr>\n",
       "      <th>19</th>\n",
       "      <td>RAF1_S519</td>\n",
       "      <td>0.026069</td>\n",
       "      <td>-0.85250</td>\n",
       "    </tr>\n",
       "    <tr>\n",
       "      <th>20</th>\n",
       "      <td>TSC2_S923</td>\n",
       "      <td>0.033250</td>\n",
       "      <td>-0.63420</td>\n",
       "    </tr>\n",
       "    <tr>\n",
       "      <th>21</th>\n",
       "      <td>MYC_S77</td>\n",
       "      <td>0.033250</td>\n",
       "      <td>0.96510</td>\n",
       "    </tr>\n",
       "    <tr>\n",
       "      <th>22</th>\n",
       "      <td>TSC2_T1399</td>\n",
       "      <td>0.044616</td>\n",
       "      <td>-0.51085</td>\n",
       "    </tr>\n",
       "    <tr>\n",
       "      <th>23</th>\n",
       "      <td>TSC2_S1365</td>\n",
       "      <td>0.046171</td>\n",
       "      <td>-0.31835</td>\n",
       "    </tr>\n",
       "    <tr>\n",
       "      <th>24</th>\n",
       "      <td>TSC2_S1097</td>\n",
       "      <td>0.046814</td>\n",
       "      <td>-0.77845</td>\n",
       "    </tr>\n",
       "  </tbody>\n",
       "</table>\n",
       "</div>"
      ],
      "text/plain": [
       "   Phosphoproteomics  Luad_P_Value  Luad_Median\n",
       "0         SOS1_S1161      0.000008      1.30730\n",
       "1          GAB1_T668      0.000848     -1.10855\n",
       "2         TSC2_S1348      0.001286     -1.54980\n",
       "3     MKNK1_S209S214      0.003669      1.67970\n",
       "4        MAP2K2_S222      0.004581      0.76575\n",
       "5         TSC2_S1388      0.009310     -0.51665\n",
       "6          GAB1_S547      0.010895     -0.81580\n",
       "7    PIK3CA_S312N319      0.012613     -0.40490\n",
       "8          GAB1_S419      0.021076     -1.62175\n",
       "9         TSC2_S1429      0.021275     -0.34980\n",
       "10    MAPK1_T185Y187      0.021275      0.76290\n",
       "11         GAB1_S675      0.021275     -0.79270\n",
       "12        TSC2_S1007      0.021275     -0.45570\n",
       "13         GAB1_S381      0.021275     -0.46930\n",
       "14          BAD_S118      0.021275     -1.18310\n",
       "15        SOS1_S1229      0.021767      0.71725\n",
       "16   SOS1_S1136S1137      0.021767      0.78680\n",
       "17   TSC2_S1342S1348      0.025826     -1.42640\n",
       "18   SOS1_S1161S1167      0.025826      1.73395\n",
       "19         RAF1_S519      0.026069     -0.85250\n",
       "20         TSC2_S923      0.033250     -0.63420\n",
       "21           MYC_S77      0.033250      0.96510\n",
       "22        TSC2_T1399      0.044616     -0.51085\n",
       "23        TSC2_S1365      0.046171     -0.31835\n",
       "24        TSC2_S1097      0.046814     -0.77845"
      ]
     },
     "execution_count": 13,
     "metadata": {},
     "output_type": "execute_result"
    }
   ],
   "source": [
    "l_sig"
   ]
  },
  {
   "cell_type": "code",
   "execution_count": 14,
   "metadata": {},
   "outputs": [
    {
     "data": {
      "text/html": [
       "<div>\n",
       "<style scoped>\n",
       "    .dataframe tbody tr th:only-of-type {\n",
       "        vertical-align: middle;\n",
       "    }\n",
       "\n",
       "    .dataframe tbody tr th {\n",
       "        vertical-align: top;\n",
       "    }\n",
       "\n",
       "    .dataframe thead th {\n",
       "        text-align: right;\n",
       "    }\n",
       "</style>\n",
       "<table border=\"1\" class=\"dataframe\">\n",
       "  <thead>\n",
       "    <tr style=\"text-align: right;\">\n",
       "      <th></th>\n",
       "      <th>Phosphoproteomics</th>\n",
       "      <th>Luad_P_Value</th>\n",
       "      <th>Luad_Median</th>\n",
       "      <th>Endo_P_Value</th>\n",
       "      <th>Endo_Median</th>\n",
       "    </tr>\n",
       "  </thead>\n",
       "  <tbody>\n",
       "    <tr>\n",
       "      <th>0</th>\n",
       "      <td>SOS1_S1161</td>\n",
       "      <td>0.000008</td>\n",
       "      <td>1.3073</td>\n",
       "      <td>0.022082</td>\n",
       "      <td>0.54350</td>\n",
       "    </tr>\n",
       "    <tr>\n",
       "      <th>1</th>\n",
       "      <td>TSC2_S923</td>\n",
       "      <td>0.033250</td>\n",
       "      <td>-0.6342</td>\n",
       "      <td>0.004437</td>\n",
       "      <td>0.46418</td>\n",
       "    </tr>\n",
       "  </tbody>\n",
       "</table>\n",
       "</div>"
      ],
      "text/plain": [
       "  Phosphoproteomics  Luad_P_Value  Luad_Median  Endo_P_Value  Endo_Median\n",
       "0        SOS1_S1161      0.000008       1.3073      0.022082      0.54350\n",
       "1         TSC2_S923      0.033250      -0.6342      0.004437      0.46418"
      ]
     },
     "execution_count": 14,
     "metadata": {},
     "output_type": "execute_result"
    }
   ],
   "source": [
    "l_sig.merge(e_sig, on='Phosphoproteomics')"
   ]
  },
  {
   "cell_type": "markdown",
   "metadata": {},
   "source": [
    "# Get number of significant genes in each cancer"
   ]
  },
  {
   "cell_type": "code",
   "execution_count": 15,
   "metadata": {},
   "outputs": [
    {
     "name": "stdout",
     "output_type": "stream",
     "text": [
      "Endo sig comparisons: 16\n",
      "Colon sig comparisons: 0\n",
      "Luad sig comparisons: 25\n",
      "\n",
      "Number of significant comparisons in at least 1 cancer: 39\n"
     ]
    }
   ],
   "source": [
    "# Using corrected pvals from wrap_ttest, each cancer's cutoff is 0.05\n",
    "all_sig = []\n",
    "\n",
    "for cancer in merged_dfs:\n",
    "    df = merged_dfs[cancer]\n",
    "    sig_df = df.loc[df[cancer+'_P_Value'] < 0.05]\n",
    "    print(cancer, 'sig comparisons:', len(sig_df))\n",
    "    sig_list = list(sig_df['Phosphoproteomics'])\n",
    "    all_sig.append(sig_list)\n",
    "        \n",
    "\n",
    "flat_list = [item for sublist in all_sig for item in sublist] #change list of lists, to just one list\n",
    "sig = list(set(flat_list)) # keep only one if gene in multiple cancer sig lists\n",
    "print('\\nNumber of significant comparisons in at least 1 cancer:', len(sig))"
   ]
  },
  {
   "cell_type": "markdown",
   "metadata": {},
   "source": [
    "# Get a list of significant genes in at least one cancer"
   ]
  },
  {
   "cell_type": "code",
   "execution_count": 16,
   "metadata": {},
   "outputs": [
    {
     "name": "stdout",
     "output_type": "stream",
     "text": [
      "Number of significant genes in at least one cancer: 39\n"
     ]
    }
   ],
   "source": [
    "s = pd.Series(sig)\n",
    "print('Number of significant genes in at least one cancer:', len(s))\n",
    "#s.to_csv('csv/list_sig_one_cancer_interacting.csv', index=False)"
   ]
  },
  {
   "cell_type": "markdown",
   "metadata": {},
   "source": [
    "# Get a list of significant genes in multiple cancers"
   ]
  },
  {
   "cell_type": "code",
   "execution_count": 19,
   "metadata": {},
   "outputs": [
    {
     "name": "stdout",
     "output_type": "stream",
     "text": [
      "Number of significant genes in mult cancers: 2\n"
     ]
    },
    {
     "data": {
      "text/plain": [
       "['SOS1_S1161', 'TSC2_S923']"
      ]
     },
     "execution_count": 19,
     "metadata": {},
     "output_type": "execute_result"
    }
   ],
   "source": [
    "# sig in multiple cancers\n",
    "mult = list(set(i for i in flat_list if flat_list.count(i) > 1)) # Keep genes sig in more than 1 cancer\n",
    "print('Number of significant genes in mult cancers:', len(mult))\n",
    "mult"
   ]
  },
  {
   "cell_type": "code",
   "execution_count": 18,
   "metadata": {},
   "outputs": [],
   "source": [
    "m = pd.Series(mult)\n",
    "m = m.replace(to_replace = r'_proteomics$', value = '', regex = True)\n",
    "#m.to_csv('csv/list_sig_multiple_cancers_interacting.csv', index=False)"
   ]
  },
  {
   "cell_type": "code",
   "execution_count": null,
   "metadata": {},
   "outputs": [],
   "source": []
  }
 ],
 "metadata": {
  "kernelspec": {
   "display_name": "Python 3",
   "language": "python",
   "name": "python3"
  },
  "language_info": {
   "codemirror_mode": {
    "name": "ipython",
    "version": 3
   },
   "file_extension": ".py",
   "mimetype": "text/x-python",
   "name": "python",
   "nbconvert_exporter": "python",
   "pygments_lexer": "ipython3",
   "version": "3.7.3"
  }
 },
 "nbformat": 4,
 "nbformat_minor": 2
}
