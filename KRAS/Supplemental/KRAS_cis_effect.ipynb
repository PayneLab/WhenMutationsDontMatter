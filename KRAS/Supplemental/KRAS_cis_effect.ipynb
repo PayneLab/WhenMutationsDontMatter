{
 "cells": [
  {
   "cell_type": "markdown",
   "metadata": {},
   "source": [
    "# KRAS cis effect"
   ]
  },
  {
   "cell_type": "markdown",
   "metadata": {},
   "source": [
    "This notebook creates a boxplot for the cis effect of KRAS hotspot mutations in 3 cancers. These 3 cancers were chosen because they have enough samples with KRAS hotspot mutations to do a t-test. "
   ]
  },
  {
   "cell_type": "markdown",
   "metadata": {},
   "source": [
    "Imports"
   ]
  },
  {
   "cell_type": "code",
   "execution_count": 1,
   "metadata": {},
   "outputs": [],
   "source": [
    "import pandas as pd\n",
    "import numpy as np\n",
    "import seaborn as sns\n",
    "import matplotlib.pyplot as plt\n",
    "import re \n",
    "\n",
    "import cptac\n",
    "import cptac.utils as u\n",
    "import plot_utils as p"
   ]
  },
  {
   "cell_type": "code",
   "execution_count": 2,
   "metadata": {},
   "outputs": [],
   "source": [
    "import warnings\n",
    "warnings.filterwarnings('ignore')"
   ]
  },
  {
   "cell_type": "markdown",
   "metadata": {},
   "source": [
    "Functions:\n",
    "\n",
    "format_df prepares a data frame with KRAS proteomics and KRAS mutation type from get_genotype_all_vars.\n",
    "\n",
    "format_pval_annotation is used to add annotations to the boxplot. A star represents significant p-value and \"ns\" represents a nonsignificant p-value."
   ]
  },
  {
   "cell_type": "code",
   "execution_count": 3,
   "metadata": {},
   "outputs": [],
   "source": [
    "'''\n",
    "Params\n",
    "cancer_object: Object of the loaded cancer data set.\n",
    "gene_in: Str of gene name. The mutation status of this gene will be returned in the Mutation col.\n",
    "utils: utils package from cptac.  \n",
    "\n",
    "Returns a dataframe with cis proteomics and mutation status of a specific gene.\n",
    "'''\n",
    "\n",
    "def format_df(cancer_object, gene_in = 'KRAS', utils = u):\n",
    "    mut_type = cancer_object.get_genotype_all_vars(gene_in)\n",
    "    mut_type['Mutation'].where(mut_type['Mutation'] != 'Missense_Mutation', 'Missense', inplace = True) # replace when false\n",
    "    mut_type['Mutation'].where(mut_type['Mutation'] != 'nonsynonymous SNV', 'Missense', inplace = True)\n",
    "    \n",
    "    # Keep only tumor samples from proteomics\n",
    "    prot_and_mutations = cancer_object.join_omics_to_mutations(\n",
    "        mutations_genes = [gene_in], omics_df_name = 'proteomics', omics_genes = gene_in)\n",
    "    prot_and_mutations = prot_and_mutations[prot_and_mutations.Sample_Status == \"Tumor\"] # drop Normal samples\n",
    "\n",
    "    # Reduce a multiindex \n",
    "    if isinstance(prot_and_mutations.keys(), pd.core.indexes.multi.MultiIndex):\n",
    "        prot_and_mutations = utils.reduce_multiindex(prot_and_mutations, levels_to_drop = 1)\n",
    "\n",
    "    # Merge Mutation column from get_genotype_all_vars (includes cnv) with proteomics\n",
    "    mut_type = mut_type[['Mutation']] \n",
    "    prot_df = prot_and_mutations.iloc[:,:-4] # Keep only proteomics\n",
    "    merged = prot_df.join(mut_type)\n",
    "\n",
    "    # Keep only Wildtype and deletion\n",
    "    compare = ['Wildtype_Tumor','Missense']\n",
    "    get = merged['Mutation'].isin(compare)\n",
    "    mut_wt = merged[get]\n",
    "\n",
    "    return mut_wt\n"
   ]
  },
  {
   "cell_type": "code",
   "execution_count": 4,
   "metadata": {},
   "outputs": [],
   "source": [
    "'''\n",
    "Params\n",
    "pval_symbol: String of the symbol to be used on the graph.\n",
    "x1: Float. Start x position for the bracket.\n",
    "x2: Float. End x position for the bracket.\n",
    "line_start: Float. y position of bracket.\n",
    "line_height: Float. Height of the bracket.\n",
    "\n",
    "Returns an annotated plot.\n",
    "'''\n",
    "\n",
    "def format_pval_annotation(pval_symbol, x1, x2, line_start = .05, line_height=.05):\n",
    "    # for manual adjustment to pval annotations\n",
    "    \n",
    "    y, h = line_start, line_height\n",
    "    plt.plot([x1, x1, x2, x2], #draw horizontal line\n",
    "             [y, y+h, y+h, y], #vertical line\n",
    "             lw=1.5, color= '.3')\n",
    "    plt.text((x1+x2)*.5, # half between x coord\n",
    "             y+h, pval_symbol, horizontalalignment='center', verticalalignment='bottom', color = \"black\")\n",
    "    \n",
    "    return plt"
   ]
  },
  {
   "cell_type": "markdown",
   "metadata": {},
   "source": [
    "# Step 1: Create data frames with KRAS missense mutations and Proteomics"
   ]
  },
  {
   "cell_type": "markdown",
   "metadata": {},
   "source": [
    "Each cancer needs a df containing only tumor samples with either KRAS hotspot mutations or KRAS wildtype and KRAS proteomics."
   ]
  },
  {
   "cell_type": "markdown",
   "metadata": {},
   "source": [
    "First, load in cancer data sets from cptac."
   ]
  },
  {
   "cell_type": "code",
   "execution_count": 5,
   "metadata": {},
   "outputs": [
    {
     "name": "stdout",
     "output_type": "stream",
     "text": [
      "                                                \r"
     ]
    }
   ],
   "source": [
    "en = cptac.Endometrial()\n",
    "l = cptac.Luad()\n",
    "col = cptac.Colon()"
   ]
  },
  {
   "cell_type": "markdown",
   "metadata": {},
   "source": [
    "Next, use format_df to create the specific df for each cancer. Use wrap_ttest to test KRAS hotspot vs. wildtype. "
   ]
  },
  {
   "cell_type": "markdown",
   "metadata": {},
   "source": [
    "# Luad"
   ]
  },
  {
   "cell_type": "code",
   "execution_count": 6,
   "metadata": {},
   "outputs": [
    {
     "data": {
      "text/html": [
       "<div>\n",
       "<style scoped>\n",
       "    .dataframe tbody tr th:only-of-type {\n",
       "        vertical-align: middle;\n",
       "    }\n",
       "\n",
       "    .dataframe tbody tr th {\n",
       "        vertical-align: top;\n",
       "    }\n",
       "\n",
       "    .dataframe thead th {\n",
       "        text-align: right;\n",
       "    }\n",
       "</style>\n",
       "<table border=\"1\" class=\"dataframe\">\n",
       "  <thead>\n",
       "    <tr style=\"text-align: right;\">\n",
       "      <th></th>\n",
       "      <th>Comparison</th>\n",
       "      <th>P_Value</th>\n",
       "    </tr>\n",
       "  </thead>\n",
       "  <tbody>\n",
       "    <tr>\n",
       "      <th>0</th>\n",
       "      <td>KRAS_proteomics</td>\n",
       "      <td>0.114481</td>\n",
       "    </tr>\n",
       "  </tbody>\n",
       "</table>\n",
       "</div>"
      ],
      "text/plain": [
       "        Comparison   P_Value\n",
       "0  KRAS_proteomics  0.114481"
      ]
     },
     "execution_count": 6,
     "metadata": {},
     "output_type": "execute_result"
    }
   ],
   "source": [
    "gene = 'KRAS'\n",
    "l_mut_wt = format_df(l, gene)\n",
    "l_pval = u.wrap_ttest(l_mut_wt, 'Mutation', [gene+'_proteomics'], return_all = True)\n",
    "lp = l_pval.P_Value[0]\n",
    "l_pval"
   ]
  },
  {
   "cell_type": "markdown",
   "metadata": {},
   "source": [
    "# Colon"
   ]
  },
  {
   "cell_type": "code",
   "execution_count": 7,
   "metadata": {},
   "outputs": [
    {
     "data": {
      "text/html": [
       "<div>\n",
       "<style scoped>\n",
       "    .dataframe tbody tr th:only-of-type {\n",
       "        vertical-align: middle;\n",
       "    }\n",
       "\n",
       "    .dataframe tbody tr th {\n",
       "        vertical-align: top;\n",
       "    }\n",
       "\n",
       "    .dataframe thead th {\n",
       "        text-align: right;\n",
       "    }\n",
       "</style>\n",
       "<table border=\"1\" class=\"dataframe\">\n",
       "  <thead>\n",
       "    <tr style=\"text-align: right;\">\n",
       "      <th></th>\n",
       "      <th>Comparison</th>\n",
       "      <th>P_Value</th>\n",
       "    </tr>\n",
       "  </thead>\n",
       "  <tbody>\n",
       "    <tr>\n",
       "      <th>0</th>\n",
       "      <td>KRAS_proteomics</td>\n",
       "      <td>0.01079</td>\n",
       "    </tr>\n",
       "  </tbody>\n",
       "</table>\n",
       "</div>"
      ],
      "text/plain": [
       "        Comparison  P_Value\n",
       "0  KRAS_proteomics  0.01079"
      ]
     },
     "execution_count": 7,
     "metadata": {},
     "output_type": "execute_result"
    }
   ],
   "source": [
    "c_mut_wt = format_df(col, gene)\n",
    "c_pval = u.wrap_ttest(c_mut_wt, 'Mutation', ['KRAS_proteomics'], return_all = True)\n",
    "cp = c_pval.P_Value[0]\n",
    "c_pval"
   ]
  },
  {
   "cell_type": "markdown",
   "metadata": {},
   "source": [
    "# Endometrial"
   ]
  },
  {
   "cell_type": "code",
   "execution_count": 8,
   "metadata": {},
   "outputs": [
    {
     "data": {
      "text/html": [
       "<div>\n",
       "<style scoped>\n",
       "    .dataframe tbody tr th:only-of-type {\n",
       "        vertical-align: middle;\n",
       "    }\n",
       "\n",
       "    .dataframe tbody tr th {\n",
       "        vertical-align: top;\n",
       "    }\n",
       "\n",
       "    .dataframe thead th {\n",
       "        text-align: right;\n",
       "    }\n",
       "</style>\n",
       "<table border=\"1\" class=\"dataframe\">\n",
       "  <thead>\n",
       "    <tr style=\"text-align: right;\">\n",
       "      <th></th>\n",
       "      <th>Comparison</th>\n",
       "      <th>P_Value</th>\n",
       "    </tr>\n",
       "  </thead>\n",
       "  <tbody>\n",
       "    <tr>\n",
       "      <th>0</th>\n",
       "      <td>KRAS_proteomics</td>\n",
       "      <td>0.005531</td>\n",
       "    </tr>\n",
       "  </tbody>\n",
       "</table>\n",
       "</div>"
      ],
      "text/plain": [
       "        Comparison   P_Value\n",
       "0  KRAS_proteomics  0.005531"
      ]
     },
     "execution_count": 8,
     "metadata": {},
     "output_type": "execute_result"
    }
   ],
   "source": [
    "e_mut_wt = format_df(en, gene)\n",
    "e_pval = u.wrap_ttest(e_mut_wt, 'Mutation', ['KRAS_proteomics'], return_all = True)\n",
    "ep = e_pval.P_Value[0]\n",
    "e_pval"
   ]
  },
  {
   "cell_type": "markdown",
   "metadata": {},
   "source": [
    "# Step 2: Create a long dataframe for the boxplot"
   ]
  },
  {
   "cell_type": "markdown",
   "metadata": {},
   "source": [
    "The boxplot will take three columns: Proteomics, Mutation, and Cancer. We need to append all the individual cancer dfs into one long pancancer df. "
   ]
  },
  {
   "cell_type": "markdown",
   "metadata": {},
   "source": [
    "First create the Cancer column."
   ]
  },
  {
   "cell_type": "code",
   "execution_count": 9,
   "metadata": {},
   "outputs": [],
   "source": [
    "l_mut_wt = l_mut_wt.assign(cancer = 'Luad')\n",
    "c_mut_wt = c_mut_wt.assign(cancer = 'Colon')\n",
    "e_mut_wt = e_mut_wt.assign(cancer = 'Endometrial')"
   ]
  },
  {
   "cell_type": "markdown",
   "metadata": {},
   "source": [
    "Next append the dfs."
   ]
  },
  {
   "cell_type": "code",
   "execution_count": 10,
   "metadata": {},
   "outputs": [
    {
     "data": {
      "text/html": [
       "<div>\n",
       "<style scoped>\n",
       "    .dataframe tbody tr th:only-of-type {\n",
       "        vertical-align: middle;\n",
       "    }\n",
       "\n",
       "    .dataframe tbody tr th {\n",
       "        vertical-align: top;\n",
       "    }\n",
       "\n",
       "    .dataframe thead th {\n",
       "        text-align: right;\n",
       "    }\n",
       "</style>\n",
       "<table border=\"1\" class=\"dataframe\">\n",
       "  <thead>\n",
       "    <tr style=\"text-align: right;\">\n",
       "      <th>Name</th>\n",
       "      <th>KRAS_proteomics</th>\n",
       "      <th>Mutation</th>\n",
       "      <th>cancer</th>\n",
       "    </tr>\n",
       "    <tr>\n",
       "      <th>Patient_ID</th>\n",
       "      <th></th>\n",
       "      <th></th>\n",
       "      <th></th>\n",
       "    </tr>\n",
       "  </thead>\n",
       "  <tbody>\n",
       "    <tr>\n",
       "      <th>C3L-00009</th>\n",
       "      <td>NaN</td>\n",
       "      <td>Wildtype_Tumor</td>\n",
       "      <td>Luad</td>\n",
       "    </tr>\n",
       "    <tr>\n",
       "      <th>C3L-00083</th>\n",
       "      <td>-0.3416</td>\n",
       "      <td>Wildtype_Tumor</td>\n",
       "      <td>Luad</td>\n",
       "    </tr>\n",
       "    <tr>\n",
       "      <th>C3L-00094</th>\n",
       "      <td>0.5142</td>\n",
       "      <td>Missense</td>\n",
       "      <td>Luad</td>\n",
       "    </tr>\n",
       "    <tr>\n",
       "      <th>C3L-00095</th>\n",
       "      <td>-0.9424</td>\n",
       "      <td>Wildtype_Tumor</td>\n",
       "      <td>Luad</td>\n",
       "    </tr>\n",
       "    <tr>\n",
       "      <th>C3L-00140</th>\n",
       "      <td>-0.7216</td>\n",
       "      <td>Wildtype_Tumor</td>\n",
       "      <td>Luad</td>\n",
       "    </tr>\n",
       "    <tr>\n",
       "      <th>...</th>\n",
       "      <td>...</td>\n",
       "      <td>...</td>\n",
       "      <td>...</td>\n",
       "    </tr>\n",
       "    <tr>\n",
       "      <th>C3N-01520</th>\n",
       "      <td>0.6620</td>\n",
       "      <td>Missense</td>\n",
       "      <td>Endometrial</td>\n",
       "    </tr>\n",
       "    <tr>\n",
       "      <th>C3N-01521</th>\n",
       "      <td>-0.4350</td>\n",
       "      <td>Missense</td>\n",
       "      <td>Endometrial</td>\n",
       "    </tr>\n",
       "    <tr>\n",
       "      <th>C3N-01537</th>\n",
       "      <td>-0.1370</td>\n",
       "      <td>Wildtype_Tumor</td>\n",
       "      <td>Endometrial</td>\n",
       "    </tr>\n",
       "    <tr>\n",
       "      <th>C3N-01802</th>\n",
       "      <td>0.0691</td>\n",
       "      <td>Wildtype_Tumor</td>\n",
       "      <td>Endometrial</td>\n",
       "    </tr>\n",
       "    <tr>\n",
       "      <th>C3N-01825</th>\n",
       "      <td>-0.0912</td>\n",
       "      <td>Wildtype_Tumor</td>\n",
       "      <td>Endometrial</td>\n",
       "    </tr>\n",
       "  </tbody>\n",
       "</table>\n",
       "<p>265 rows × 3 columns</p>\n",
       "</div>"
      ],
      "text/plain": [
       "Name        KRAS_proteomics        Mutation       cancer\n",
       "Patient_ID                                              \n",
       "C3L-00009               NaN  Wildtype_Tumor         Luad\n",
       "C3L-00083           -0.3416  Wildtype_Tumor         Luad\n",
       "C3L-00094            0.5142        Missense         Luad\n",
       "C3L-00095           -0.9424  Wildtype_Tumor         Luad\n",
       "C3L-00140           -0.7216  Wildtype_Tumor         Luad\n",
       "...                     ...             ...          ...\n",
       "C3N-01520            0.6620        Missense  Endometrial\n",
       "C3N-01521           -0.4350        Missense  Endometrial\n",
       "C3N-01537           -0.1370  Wildtype_Tumor  Endometrial\n",
       "C3N-01802            0.0691  Wildtype_Tumor  Endometrial\n",
       "C3N-01825           -0.0912  Wildtype_Tumor  Endometrial\n",
       "\n",
       "[265 rows x 3 columns]"
      ]
     },
     "execution_count": 10,
     "metadata": {},
     "output_type": "execute_result"
    }
   ],
   "source": [
    "df = l_mut_wt.append(c_mut_wt)\n",
    "df2 = df.append(e_mut_wt)\n",
    "df2"
   ]
  },
  {
   "cell_type": "markdown",
   "metadata": {},
   "source": [
    "# Step 3: Create the Pancancer Boxplot"
   ]
  },
  {
   "cell_type": "code",
   "execution_count": 13,
   "metadata": {},
   "outputs": [
    {
     "name": "stdout",
     "output_type": "stream",
     "text": [
      "p-values: \n",
      "\n",
      "Luad 0.11448064454827266 \n",
      "\n",
      "Colon 0.010790315848871903 \n",
      "\n",
      "Endo 0.005530656769015996 \n",
      "\n"
     ]
    },
    {
     "data": {
      "image/png": "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\n",
      "text/plain": [
       "<Figure size 842.4x612 with 1 Axes>"
      ]
     },
     "metadata": {},
     "output_type": "display_data"
    }
   ],
   "source": [
    "# cis plot\n",
    "gene = 'KRAS'\n",
    "plt.rcParams['figure.figsize']=(11.7, 8.5) #size of plot\n",
    "sns.set(font_scale = 1.4, style = 'white')\n",
    "\n",
    "boxplot = sns.boxplot(x='cancer', y=gene+\"_proteomics\", data = df2, hue = 'Mutation',\n",
    "                      hue_order = [\"Wildtype_Tumor\", \"Missense\"], showfliers = False)    \n",
    "#boxplot.set_title('Pancancer cis effect of PTEN CNV Deletions')\n",
    "boxplot = sns.stripplot(x='cancer', y=gene+\"_proteomics\", data = df2, jitter = True, \n",
    "                           color = \".3\", hue = 'Mutation', hue_order = [\"Wildtype_Tumor\", \"Missense\"], dodge = True)\n",
    "boxplot.set(xlabel = \"\\nKRAS Mutation Status\", ylabel = gene+' Proteomics')\n",
    "\n",
    "# format legend\n",
    "handles, labels = boxplot.get_legend_handles_labels()\n",
    "plt.legend(handles[0:2], labels[0:2])\n",
    "\n",
    "# Create significance symbols:\n",
    "# * P < 0.015   ** P < 0.001   *** P < 0.0001 \n",
    "cancer_pvals = {'Luad':lp, 'Colon':cp, 'Endo':ep}\n",
    "\n",
    "# create pval annotations\n",
    "symbols = {}\n",
    "print('p-values: \\n')\n",
    "for cancer in cancer_pvals:\n",
    "    val = str(cancer_pvals[cancer])\n",
    "    if cancer_pvals[cancer]  < 0.001:\n",
    "        symbols[cancer] = '***'\n",
    "    elif cancer_pvals[cancer]  < 0.01:\n",
    "        symbols[cancer] = '**'  \n",
    "    elif cancer_pvals[cancer]  < 0.05:\n",
    "        symbols[cancer] = '*'\n",
    "    else:\n",
    "        symbols[cancer] = 'ns'\n",
    "    print(cancer, val, '\\n')\n",
    "        \n",
    "format_pval_annotation(symbols['Luad'], -.2, 0.2, 3) \n",
    "format_pval_annotation(symbols['Colon'], .8, 1.2, 1.3)  \n",
    "format_pval_annotation(symbols['Endo'], 1.8, 2.2, 1.5)\n",
    "\n",
    "plt.show()\n",
    "plt.clf()\n",
    "plt.close()"
   ]
  },
  {
   "cell_type": "code",
   "execution_count": 14,
   "metadata": {},
   "outputs": [],
   "source": [
    "# Save figure\n",
    "fig = boxplot.get_figure()\n",
    "fig.savefig(\"KRAS_cis.png\", dpi = 300)"
   ]
  },
  {
   "cell_type": "code",
   "execution_count": null,
   "metadata": {},
   "outputs": [],
   "source": []
  }
 ],
 "metadata": {
  "kernelspec": {
   "display_name": "Python 3 (ipykernel)",
   "language": "python",
   "name": "python3"
  },
  "language_info": {
   "codemirror_mode": {
    "name": "ipython",
    "version": 3
   },
   "file_extension": ".py",
   "mimetype": "text/x-python",
   "name": "python",
   "nbconvert_exporter": "python",
   "pygments_lexer": "ipython3",
<<<<<<< HEAD
   "version": "3.9.7"
=======
   "version": "3.8.8"
>>>>>>> fed7df935ec589aca82672cc783e88e245385285
  }
 },
 "nbformat": 4,
 "nbformat_minor": 2
}
