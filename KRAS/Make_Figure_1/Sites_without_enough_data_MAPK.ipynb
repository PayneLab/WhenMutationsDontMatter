{
 "cells": [
  {
   "cell_type": "markdown",
   "metadata": {},
   "source": [
    "# Find MAPK signaling phosphosites without enough data to do a t-test "
   ]
  },
  {
   "cell_type": "code",
   "execution_count": 1,
   "metadata": {},
   "outputs": [],
   "source": [
    "import pandas as pd\n",
    "import re\n",
    "\n",
    "import cptac\n",
    "import cptac.utils as u\n",
    "import plot_utils as p"
   ]
  },
  {
   "cell_type": "code",
   "execution_count": 2,
   "metadata": {},
   "outputs": [
    {
     "name": "stdout",
     "output_type": "stream",
     "text": [
      "cptac version: 0.8.5\n"
     ]
    }
   ],
   "source": [
    "print('cptac version:', cptac.version())"
   ]
  },
  {
   "cell_type": "code",
   "execution_count": 2,
   "metadata": {},
   "outputs": [],
   "source": [
    "import warnings\n",
    "warnings.filterwarnings('ignore')"
   ]
  },
  {
   "cell_type": "code",
   "execution_count": null,
   "metadata": {},
   "outputs": [],
   "source": []
  },
  {
   "cell_type": "code",
   "execution_count": 3,
   "metadata": {},
   "outputs": [],
   "source": [
    "# Returns a dataframe with proteomics and mutation type\n",
    "\n",
    "# all_prot: list of trans genes\n",
    "\n",
    "def all_phospho_format_df(cancer_object, all_prot, gene_in = 'KRAS', utils = u):\n",
    "    mut_type = cancer_object.get_genotype_all_vars(gene_in)\n",
    "    mut_type['Mutation'].where(mut_type['Mutation'] != 'Missense_Mutation', 'Missense', inplace = True) # replace when false\n",
    "    mut_type['Mutation'].where(mut_type['Mutation'] != 'nonsynonymous SNV', 'Missense', inplace = True)\n",
    "\n",
    "    # Keep only tumor samples from proteomics\n",
    "    prot_and_mutations = cancer_object.join_omics_to_mutations(\n",
    "        mutations_genes = [gene_in], omics_df_name = 'phosphoproteomics', omics_genes = all_prot, tissue_type = 'tumor')\n",
    "    # Reduce a multiindex \n",
    "    if cancer_object.get_cancer_type() in ('endometrial'):\n",
    "        prot_and_mutations = u.reduce_multiindex(prot_and_mutations, flatten = True)\n",
    "    elif cancer_object.get_cancer_type() in ('colon'):\n",
    "        prot_and_mutations = u.reduce_multiindex(prot_and_mutations, levels_to_drop = [2], flatten = True)\n",
    "    elif cancer_object.get_cancer_type() in ('luad'):\n",
    "        prot_and_mutations = u.reduce_multiindex(prot_and_mutations, levels_to_drop = [2,3], flatten = True)\n",
    "\n",
    "    # Keep certain missense mutations\n",
    "    prot_and_mutations['KRAS_Location'] = [','.join(map(str, l)) for l in prot_and_mutations['KRAS_Location']]\n",
    "    hotspots = ['G12', 'G13', 'Q61', 'No_mutation']\n",
    "    hotspots_wt = pd.DataFrame()\n",
    "    for site in hotspots:\n",
    "        df = prot_and_mutations[prot_and_mutations.KRAS_Location.str.contains(site, regex= True, na=False)]\n",
    "        hotspots_wt = hotspots_wt.append(df)\n",
    "    #print(hotspots_wt.KRAS_Location.value_counts())\n",
    "    \n",
    "    # Merge Mutation column from get_genotype_all_vars (includes cnv) with proteomics\n",
    "    mut_type = mut_type[['Mutation']]\n",
    "    prot_df = hotspots_wt.iloc[:,:-4] # Keep only proteomics\n",
    "    merged = prot_df.join(mut_type)\n",
    "    merged = merged.join(hotspots_wt['KRAS_Location'])\n",
    "\n",
    "    # Keep only Wildtype and deletion\n",
    "    compare = ['Wildtype_Tumor','Missense']\n",
    "    get = merged['Mutation'].isin(compare)\n",
    "    mut_wt = merged[get]\n",
    "    \n",
    "    mut_wt = mut_wt.rename(columns={col: re.sub(r'_phosphoproteomics', '', col) for col in mut_wt.columns.tolist()})\n",
    "    return mut_wt\n"
   ]
  },
  {
   "cell_type": "code",
   "execution_count": 4,
   "metadata": {},
   "outputs": [],
   "source": [
    "# Adds '_i' to duplicate col names where i is a number (increases with each duplicate)\n",
    "\n",
    "def rename_duplicate_cols(df):\n",
    "    cols = pd.Series(df.columns[:])\n",
    "\n",
    "    for dup in cols[cols.duplicated()].unique(): \n",
    "        cols[cols[cols == dup].index.values.tolist()] = [dup + '_' + str(i) if i != 0 else dup for i in range(sum(cols == dup))]\n",
    "\n",
    "    # rename the columns with the cols list.\n",
    "    df.columns=cols\n",
    "    return df"
   ]
  },
  {
   "cell_type": "code",
   "execution_count": null,
   "metadata": {},
   "outputs": [],
   "source": []
  },
  {
   "cell_type": "code",
   "execution_count": 5,
   "metadata": {},
   "outputs": [
    {
     "name": "stdout",
     "output_type": "stream",
     "text": [
      "                                                \r"
     ]
    }
   ],
   "source": [
    "en = cptac.Endometrial()\n",
    "l = cptac.Luad()\n",
    "col = cptac.Colon()"
   ]
  },
  {
   "cell_type": "code",
   "execution_count": 6,
   "metadata": {},
   "outputs": [],
   "source": [
    "'''\n",
    "df: DataFrame containing omics data and a binary column.\n",
    "mincount: Int of the minimum num of actual values needed to pass cutoff and not be listed in not_enough_data list. \n",
    "omics_cols: Names of columns to check if there is enough data. \n",
    "\n",
    "Returns: List of genes with not enough data (num of non-NaN values are less than mincount).\n",
    "'''\n",
    "\n",
    "def find_few_data_genes(df, mincount, omics_cols = None, binary_labels = ('Missense','Wildtype_Tumor'), \n",
    "    binary_col = 'Mutation', gene = 'KRAS'):\n",
    "    \n",
    "    # Separate into binary groups\n",
    "    label_1 = binary_labels[0]\n",
    "    label_2 = binary_labels[1]\n",
    "    partition1 = df.loc[df[binary_col] == label_1]\n",
    "    partition2 = df.loc[df[binary_col] == label_2]\n",
    "    \n",
    "    # Get list of columns\n",
    "    if omics_cols is None:\n",
    "        omics_cols = list(df.columns)\n",
    "        omics_cols.remove(binary_col)\n",
    "    else:\n",
    "        set_omics_cols = set(omics_cols)\n",
    "        if binary_col in (set_omics_cols):\n",
    "            omics_cols.remove(binary_col)\n",
    "        \n",
    "    # Append genes with less data than mincount (for mut or wt) to list\n",
    "    not_enough_data = []\n",
    "    for c in omics_cols:\n",
    "        #print(len(partition1[c].dropna(axis='rows')))\n",
    "        #print(len(partition2[c].dropna(axis='rows')))\n",
    "        if len(partition1[c].dropna(axis='rows')) <= mincount: #non-nan vals less than min\n",
    "            not_enough_data.append(c)\n",
    "            continue\n",
    "        elif len(partition2[c].dropna(axis='rows')) <= mincount:\n",
    "            not_enough_data.append(c)\n",
    "            continue\n",
    "        \n",
    "    print('sites without enough data: ', len(not_enough_data), '/', len(omics_cols))        \n",
    "    return not_enough_data"
   ]
  },
  {
   "cell_type": "code",
   "execution_count": 7,
   "metadata": {},
   "outputs": [],
   "source": [
    "luad_df = pd.read_csv(\"../Make_Tables/csv/Single_Cancer/Luad_phospho_MAPK.csv\")\n",
    "e_df = pd.read_csv(\"../Make_Tables/csv/Single_Cancer/Endo_phospho_MAPK.csv\")\n",
    "c_df = pd.read_csv(\"../Make_Tables/csv/Single_Cancer/Colon_phospho_MAPK.csv\")"
   ]
  },
  {
   "cell_type": "markdown",
   "metadata": {},
   "source": [
    "# Phosphosites"
   ]
  },
  {
   "cell_type": "markdown",
   "metadata": {},
   "source": [
    "Check of the phosphosites of proteins involved in the MAPK pathways that have enough data to do a t-tes."
   ]
  },
  {
   "cell_type": "code",
   "execution_count": 8,
   "metadata": {},
   "outputs": [],
   "source": [
    "# Keep sig sites\n",
    "luad_sig_2 = luad_df.loc[luad_df['Luad_P_Value'] < 0.1]\n",
    "e_sig_2 = e_df.loc[e_df['Endo_P_Value'] < 0.1]\n",
    "\n",
    "# Create protein column\n",
    "e_sig_2['Protein'], e_sig_2['Site'] = e_sig_2.Phospho.str.split('_', 1).str\n",
    "luad_sig_2['Protein'], luad_sig_2['Site'] = luad_sig_2.Phospho.str.split('_', 1).str\n",
    "c_df['Protein'], c_df['Site'] = c_df.Phospho.str.split('_', 1).str\n",
    "\n",
    "# Get list of proteins sig in at least 1 cancer\n",
    "e_list = list(e_sig_2.Protein)\n",
    "luad_list = list(luad_sig_2.Protein)\n",
    "sig_prot_list = list(set(e_list + luad_list))"
   ]
  },
  {
   "cell_type": "code",
   "execution_count": 9,
   "metadata": {},
   "outputs": [
    {
     "name": "stdout",
     "output_type": "stream",
     "text": [
      "Endo\n",
      "sites without enough data:  230 / 657\n",
      "Colon\n",
      "sites without enough data:  147 / 354\n",
      "Luad\n",
      "sites without enough data:  0 / 410\n"
     ]
    }
   ],
   "source": [
    "# Get sites without enough data to do a t-test\n",
    "cancer_obj = {'Endo':en, 'Colon':col, 'Luad':l}\n",
    "mincount = 5\n",
    "\n",
    "few_data = {}\n",
    "for c in cancer_obj:\n",
    "    print(c)\n",
    "    mut_wt = all_phospho_format_df(cancer_obj[c], sig_prot_list) # give list of proteins to get all sites for those proteins \n",
    "    if cancer_obj[c].get_cancer_type() not in ('endometrial'): # endo has sites for all proteins - the others add cols of nan for the proteins wihtout sites\n",
    "        mut_wt = mut_wt.dropna(axis = 'columns', how='all') # drop added protein columns (no sites in dataset)\n",
    "    #(added with nan if not found in dataset -from sig_prot_list with join_mutations_to_omics)\n",
    "    mut_wt_cols = list(mut_wt.columns[:-1])\n",
    "    nd_list = find_few_data_genes(mut_wt, mincount, mut_wt_cols, gene = 'KRAS')\n",
    "    few_data[c] = nd_list  "
   ]
  },
  {
   "cell_type": "markdown",
   "metadata": {},
   "source": [
    "# Missing Proteins"
   ]
  },
  {
   "cell_type": "markdown",
   "metadata": {},
   "source": [
    "Any protein without a site is missing from the phosproteomic data (no sites with data for that protein)."
   ]
  },
  {
   "cell_type": "code",
   "execution_count": 10,
   "metadata": {},
   "outputs": [
    {
     "name": "stdout",
     "output_type": "stream",
     "text": [
      "Endo\n",
      "13\n",
      "Index(['ARAF_S277', 'BRAF_S319', 'BRAF_S429', 'DAXX_S510', 'MAP3K11_S783',\n",
      "       'MAP3K5_S955', 'MAP3K7_S310', 'MAP4K4_T59', 'PLA2G4A_S731',\n",
      "       'RAPGEF2_S1442', 'RAPGEF2_T1436', 'RAPGEF2_T763', 'RPS6KA5_T700'],\n",
      "      dtype='object') \n",
      "\n",
      "Colon\n",
      "2\n",
      "Index(['TRAF2', 'TRAF6'], dtype='object') \n",
      "\n",
      "Luad\n",
      "1\n",
      "Index(['DUSP9'], dtype='object') \n",
      "\n"
     ]
    }
   ],
   "source": [
    "cancer_obj = {'Endo':en, 'Colon':col, 'Luad':l}\n",
    "missing = {}\n",
    "for c in cancer_obj:\n",
    "    print(c)\n",
    "    mut_wt = all_phospho_format_df(cancer_obj[c], sig_prot_list)\n",
    "    null_columns = mut_wt.columns[mut_wt.isnull().all()]\n",
    "    missing[c] = null_columns\n",
    "    print(len(missing[c]))\n",
    "    print(missing[c], '\\n')"
   ]
  },
  {
   "cell_type": "markdown",
   "metadata": {},
   "source": [
    "# Check Values"
   ]
  },
  {
   "cell_type": "code",
   "execution_count": 11,
   "metadata": {},
   "outputs": [],
   "source": [
    "cancer_obj = en"
   ]
  },
  {
   "cell_type": "code",
   "execution_count": 12,
   "metadata": {},
   "outputs": [
    {
     "name": "stdout",
     "output_type": "stream",
     "text": [
      "endometrial\n",
      "Num sites: 658\n"
     ]
    }
   ],
   "source": [
    "# Get all sites of proteins in the MAPK pathway\n",
    "test_mut_wt = all_phospho_format_df(cancer_obj, sig_prot_list)\n",
    "df_cols = list(test_mut_wt.columns[:-1])\n",
    "print(cancer_obj.get_cancer_type())\n",
    "print('Num sites:', len(df_cols))\n",
    "#df_cols[20:]"
   ]
  },
  {
   "cell_type": "code",
   "execution_count": 13,
   "metadata": {},
   "outputs": [
    {
     "name": "stdout",
     "output_type": "stream",
     "text": [
      "sites without enough data:  230 / 658\n"
     ]
    }
   ],
   "source": [
    " # Get list of sites without enough data\n",
    "mincount = 5\n",
    "#test_mut_wt = test_mut_wt.dropna(axis = 'columns', how = 'all') # drop sites with only nan\n",
    "nd_sites = find_few_data_genes(test_mut_wt, mincount, gene = 'KRAS')"
   ]
  },
  {
   "cell_type": "code",
   "execution_count": 14,
   "metadata": {},
   "outputs": [
    {
     "name": "stdout",
     "output_type": "stream",
     "text": [
      "Site: FLNA_S2279 \n",
      "\n"
     ]
    },
    {
     "ename": "NameError",
     "evalue": "name 'nd_genes' is not defined",
     "output_type": "error",
     "traceback": [
      "\u001b[1;31m---------------------------------------------------------------------------\u001b[0m",
      "\u001b[1;31mNameError\u001b[0m                                 Traceback (most recent call last)",
      "\u001b[1;32m<ipython-input-14-a85e8e7d27fe>\u001b[0m in \u001b[0;36m<module>\u001b[1;34m\u001b[0m\n\u001b[0;32m      4\u001b[0m \u001b[1;33m\u001b[0m\u001b[0m\n\u001b[0;32m      5\u001b[0m \u001b[0mprint\u001b[0m\u001b[1;33m(\u001b[0m\u001b[1;34m'Site:'\u001b[0m\u001b[1;33m,\u001b[0m \u001b[0msite\u001b[0m\u001b[1;33m,\u001b[0m \u001b[1;34m'\\n'\u001b[0m\u001b[1;33m)\u001b[0m\u001b[1;33m\u001b[0m\u001b[1;33m\u001b[0m\u001b[0m\n\u001b[1;32m----> 6\u001b[1;33m \u001b[1;32mif\u001b[0m \u001b[0msite\u001b[0m \u001b[1;32min\u001b[0m \u001b[1;33m(\u001b[0m\u001b[0mnd_genes\u001b[0m\u001b[1;33m)\u001b[0m\u001b[1;33m:\u001b[0m \u001b[1;31m# Check if site in not_enough_data list (< mincount)\u001b[0m\u001b[1;33m\u001b[0m\u001b[1;33m\u001b[0m\u001b[0m\n\u001b[0m\u001b[0;32m      7\u001b[0m     \u001b[0mprint\u001b[0m\u001b[1;33m(\u001b[0m\u001b[1;34m'NOT enough data'\u001b[0m\u001b[1;33m)\u001b[0m\u001b[1;33m\u001b[0m\u001b[1;33m\u001b[0m\u001b[0m\n\u001b[0;32m      8\u001b[0m \u001b[1;32melse\u001b[0m\u001b[1;33m:\u001b[0m\u001b[1;33m\u001b[0m\u001b[1;33m\u001b[0m\u001b[0m\n",
      "\u001b[1;31mNameError\u001b[0m: name 'nd_genes' is not defined"
     ]
    }
   ],
   "source": [
    "# Uncomment to use a different list of sites\n",
    "#site = df_cols[342] # df_cols = all sites of proteins in MAPK pathway\n",
    "site = nd_sites[40] # nd_sites = list of sites without enough data\n",
    "\n",
    "print('Site:', site, '\\n')\n",
    "if site in (nd_genes): # Check if site in not_enough_data list (< mincount)\n",
    "    print('NOT enough data')\n",
    "else:\n",
    "    print('Enough data')"
   ]
  },
  {
   "cell_type": "code",
   "execution_count": null,
   "metadata": {},
   "outputs": [],
   "source": [
    "test_mut_wt = all_phospho_format_df(cancer_obj, sig_prot_list)\n",
    "df_cols = list(mut_wt.columns[:-1])\n",
    "\n",
    "site_df = test_mut_wt[[site,'Mutation']]\n",
    "mut_df = site_df.loc[site_df['Mutation'] == 'Missense']\n",
    "wt_df = site_df.loc[site_df['Mutation'] == 'Wildtype_Tumor']\n",
    "\n",
    "print('Num of missense samples with phospho data:', len(mut_df[site].dropna()), '(<=', mincount, '?)')\n",
    "print('Num of wt samples with phospho data:', len(wt_df[site].dropna()), '(<=', mincount, '?)')\n",
    "mut_df"
   ]
  },
  {
   "cell_type": "code",
   "execution_count": null,
   "metadata": {},
   "outputs": [],
   "source": [
    "wt_df"
   ]
  },
  {
   "cell_type": "code",
   "execution_count": null,
   "metadata": {},
   "outputs": [],
   "source": []
  }
 ],
 "metadata": {
  "kernelspec": {
   "display_name": "Python 3",
   "language": "python",
   "name": "python3"
  },
  "language_info": {
   "codemirror_mode": {
    "name": "ipython",
    "version": 3
   },
   "file_extension": ".py",
   "mimetype": "text/x-python",
   "name": "python",
   "nbconvert_exporter": "python",
   "pygments_lexer": "ipython3",
   "version": "3.7.3"
  }
 },
 "nbformat": 4,
 "nbformat_minor": 2
}
