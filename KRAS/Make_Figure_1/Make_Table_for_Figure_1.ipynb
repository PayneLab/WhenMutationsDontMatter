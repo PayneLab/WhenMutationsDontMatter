{
 "cells": [
  {
   "cell_type": "markdown",
   "metadata": {},
   "source": [
    "# Figure 1: Analyze Phospho Results for MAPK Signaling"
   ]
  },
  {
   "cell_type": "code",
   "execution_count": 2,
   "metadata": {},
   "outputs": [],
   "source": [
    "import pandas as pd\n",
    "\n",
    "import cptac\n",
    "import cptac.utils as u\n",
    "import plot_utils as p\n",
    "\n",
    "import warnings\n",
    "warnings.filterwarnings('ignore')"
   ]
  },
  {
   "cell_type": "code",
   "execution_count": null,
   "metadata": {},
   "outputs": [],
   "source": [
    "'''\n",
    "This function returns the color used in Figure 1 for every \n",
    "differential expression/p-value status of a certain phosphosite.\n",
    "@Param site: String. Name of phosphosite column.\n",
    "@Param df: df with pval and differential expressions. nan dropped.\n",
    "@Param cancer: String. Cancer name used in df columns. \n",
    "'''\n",
    "\n",
    "def check_status_color(site, df, cancer):\n",
    "    df = df.loc[df['Phospho'] == site]\n",
    "    pval = float(df[cancer+'_P_Value'])\n",
    "    dif_expression = float(df[cancer+'_Median'])\n",
    "    color = ''\n",
    "    if pval >= 0.1:\n",
    "        color += 'grey'\n",
    "    else:\n",
    "        if pval < .05:\n",
    "            color += 'dark_'\n",
    "        if dif_expression < 0:\n",
    "            color += 'blue'\n",
    "        elif dif_expression > 0:\n",
    "            color += 'red'\n",
    "        \n",
    "    return color\n",
    "    "
   ]
  },
  {
   "cell_type": "markdown",
   "metadata": {},
   "source": [
    "# Step 1: Get tables with MAPK signaling phosphoproteomics."
   ]
  },
  {
   "cell_type": "code",
   "execution_count": 6,
   "metadata": {},
   "outputs": [],
   "source": [
    "df = pd.read_csv(\"../Make_Tables/csv/phospho_MAPK.csv\")\n",
    "luad_df = pd.read_csv(\"../Make_Tables/csv/Single_Cancer/Luad_phospho_MAPK.csv\")\n",
    "e_df = pd.read_csv(\"../Make_Tables/csv/Single_Cancer/Endo_phospho_MAPK.csv\")\n",
    "c_df = pd.read_csv(\"../Make_Tables/csv/Single_Cancer/Colon_phospho_MAPK.csv\")"
   ]
  },
  {
   "cell_type": "markdown",
   "metadata": {},
   "source": [
    "# Step 2: Create df with all phosphosites mapped with colors"
   ]
  },
  {
   "cell_type": "markdown",
   "metadata": {},
   "source": [
    "\n",
    "Color Legend:\n",
    "* red - differential expression > 0\n",
    "* blue - differential expression < 0\n",
    "* grey - not significant\n",
    "* white - no data / not enough data for t-test\n",
    "\n",
    "All sites used in Figure 1 have at least 1 FDR corrected p-value < 0.1. The darker hue of a color represents a  p-value < 0.05 (dark_red, dark_blue). "
   ]
  },
  {
   "cell_type": "code",
   "execution_count": 12,
   "metadata": {},
   "outputs": [],
   "source": [
    "e_df_2 = e_df.dropna() # drop nan (p-vals nan when not enough data to do t-test)\n",
    "e_df_2['color'] = e_df_2['Phospho'].apply(lambda x: check_status_color(x, e_df_2, 'Endo'))\n",
    "#e_df_2"
   ]
  },
  {
   "cell_type": "code",
   "execution_count": 11,
   "metadata": {},
   "outputs": [],
   "source": [
    "luad_df_2 = luad_df.dropna()\n",
    "luad_df_2['color'] = luad_df_2['Phospho'].apply(lambda x: check_status_color(x, luad_df_2, 'Luad'))\n",
    "#luad_df_2"
   ]
  },
  {
   "cell_type": "markdown",
   "metadata": {},
   "source": [
    "# Step 3: Show data for phosphosites used in KRAS Figure \n",
    "\n",
    "* Shown phosphosites are significant in at least 1 cancer."
   ]
  },
  {
   "cell_type": "code",
   "execution_count": 13,
   "metadata": {},
   "outputs": [],
   "source": [
    "# Get list of phosphosites sig in at least 1 cancer\n",
    "e = e_df.loc[e_df['Endo_P_Value'] < 0.1]\n",
    "e_sig_phospho = list(e.Phospho)\n",
    "\n",
    "luad = luad_df.loc[luad_df['Luad_P_Value'] < 0.1]\n",
    "luad_sig_phospho = list(luad.Phospho)\n",
    "\n",
    "fig_phospho = list(set(luad_sig_phospho + e_sig_phospho))"
   ]
  },
  {
   "cell_type": "code",
   "execution_count": 17,
   "metadata": {},
   "outputs": [
    {
     "data": {
      "text/html": [
       "<div>\n",
       "<style scoped>\n",
       "    .dataframe tbody tr th:only-of-type {\n",
       "        vertical-align: middle;\n",
       "    }\n",
       "\n",
       "    .dataframe tbody tr th {\n",
       "        vertical-align: top;\n",
       "    }\n",
       "\n",
       "    .dataframe thead th {\n",
       "        text-align: right;\n",
       "    }\n",
       "</style>\n",
       "<table border=\"1\" class=\"dataframe\">\n",
       "  <thead>\n",
       "    <tr style=\"text-align: right;\">\n",
       "      <th></th>\n",
       "      <th>Phospho</th>\n",
       "      <th>Endo_P_Value</th>\n",
       "      <th>Endo_Median</th>\n",
       "      <th>color_Endo</th>\n",
       "      <th>Luad_P_Value</th>\n",
       "      <th>Luad_Median</th>\n",
       "      <th>color_Luad</th>\n",
       "    </tr>\n",
       "  </thead>\n",
       "  <tbody>\n",
       "    <tr>\n",
       "      <th>0</th>\n",
       "      <td>MKNK2_S220</td>\n",
       "      <td>0.001348</td>\n",
       "      <td>0.94700</td>\n",
       "      <td>dark_red</td>\n",
       "      <td>0.015097</td>\n",
       "      <td>1.33870</td>\n",
       "      <td>dark_red</td>\n",
       "    </tr>\n",
       "    <tr>\n",
       "      <th>1</th>\n",
       "      <td>NFKB2_S858</td>\n",
       "      <td>0.001348</td>\n",
       "      <td>0.69285</td>\n",
       "      <td>dark_red</td>\n",
       "      <td>0.015097</td>\n",
       "      <td>1.40475</td>\n",
       "      <td>dark_red</td>\n",
       "    </tr>\n",
       "    <tr>\n",
       "      <th>2</th>\n",
       "      <td>RAF1_T330</td>\n",
       "      <td>0.002399</td>\n",
       "      <td>1.12066</td>\n",
       "      <td>dark_red</td>\n",
       "      <td>0.118795</td>\n",
       "      <td>0.97875</td>\n",
       "      <td>grey</td>\n",
       "    </tr>\n",
       "    <tr>\n",
       "      <th>3</th>\n",
       "      <td>TAB1_S378</td>\n",
       "      <td>0.002916</td>\n",
       "      <td>0.46350</td>\n",
       "      <td>dark_red</td>\n",
       "      <td>NaN</td>\n",
       "      <td>NaN</td>\n",
       "      <td>white</td>\n",
       "    </tr>\n",
       "    <tr>\n",
       "      <th>4</th>\n",
       "      <td>MKNK1_S401</td>\n",
       "      <td>0.003520</td>\n",
       "      <td>0.47800</td>\n",
       "      <td>dark_red</td>\n",
       "      <td>0.424119</td>\n",
       "      <td>0.20325</td>\n",
       "      <td>grey</td>\n",
       "    </tr>\n",
       "    <tr>\n",
       "      <th>...</th>\n",
       "      <td>...</td>\n",
       "      <td>...</td>\n",
       "      <td>...</td>\n",
       "      <td>...</td>\n",
       "      <td>...</td>\n",
       "      <td>...</td>\n",
       "      <td>...</td>\n",
       "    </tr>\n",
       "    <tr>\n",
       "      <th>864</th>\n",
       "      <td>PLA2G4A_S434S435S437</td>\n",
       "      <td>NaN</td>\n",
       "      <td>NaN</td>\n",
       "      <td>white</td>\n",
       "      <td>0.082020</td>\n",
       "      <td>0.89615</td>\n",
       "      <td>red</td>\n",
       "    </tr>\n",
       "    <tr>\n",
       "      <th>865</th>\n",
       "      <td>FLNB_S2114</td>\n",
       "      <td>NaN</td>\n",
       "      <td>NaN</td>\n",
       "      <td>white</td>\n",
       "      <td>0.082020</td>\n",
       "      <td>2.17800</td>\n",
       "      <td>red</td>\n",
       "    </tr>\n",
       "    <tr>\n",
       "      <th>866</th>\n",
       "      <td>PLA2G4A_S435S437</td>\n",
       "      <td>NaN</td>\n",
       "      <td>NaN</td>\n",
       "      <td>white</td>\n",
       "      <td>0.085660</td>\n",
       "      <td>0.99990</td>\n",
       "      <td>red</td>\n",
       "    </tr>\n",
       "    <tr>\n",
       "      <th>867</th>\n",
       "      <td>NFKB2_S161</td>\n",
       "      <td>NaN</td>\n",
       "      <td>NaN</td>\n",
       "      <td>white</td>\n",
       "      <td>0.085660</td>\n",
       "      <td>0.79615</td>\n",
       "      <td>red</td>\n",
       "    </tr>\n",
       "    <tr>\n",
       "      <th>868</th>\n",
       "      <td>RAPGEF2_S935</td>\n",
       "      <td>NaN</td>\n",
       "      <td>NaN</td>\n",
       "      <td>white</td>\n",
       "      <td>0.085660</td>\n",
       "      <td>-0.57035</td>\n",
       "      <td>blue</td>\n",
       "    </tr>\n",
       "  </tbody>\n",
       "</table>\n",
       "<p>62 rows × 7 columns</p>\n",
       "</div>"
      ],
      "text/plain": [
       "                  Phospho  Endo_P_Value  Endo_Median color_Endo  Luad_P_Value  \\\n",
       "0              MKNK2_S220      0.001348      0.94700   dark_red      0.015097   \n",
       "1              NFKB2_S858      0.001348      0.69285   dark_red      0.015097   \n",
       "2               RAF1_T330      0.002399      1.12066   dark_red      0.118795   \n",
       "3               TAB1_S378      0.002916      0.46350   dark_red           NaN   \n",
       "4              MKNK1_S401      0.003520      0.47800   dark_red      0.424119   \n",
       "..                    ...           ...          ...        ...           ...   \n",
       "864  PLA2G4A_S434S435S437           NaN          NaN      white      0.082020   \n",
       "865            FLNB_S2114           NaN          NaN      white      0.082020   \n",
       "866      PLA2G4A_S435S437           NaN          NaN      white      0.085660   \n",
       "867            NFKB2_S161           NaN          NaN      white      0.085660   \n",
       "868          RAPGEF2_S935           NaN          NaN      white      0.085660   \n",
       "\n",
       "     Luad_Median color_Luad  \n",
       "0        1.33870   dark_red  \n",
       "1        1.40475   dark_red  \n",
       "2        0.97875       grey  \n",
       "3            NaN      white  \n",
       "4        0.20325       grey  \n",
       "..           ...        ...  \n",
       "864      0.89615        red  \n",
       "865      2.17800        red  \n",
       "866      0.99990        red  \n",
       "867      0.79615        red  \n",
       "868     -0.57035       blue  \n",
       "\n",
       "[62 rows x 7 columns]"
      ]
     },
     "execution_count": 17,
     "metadata": {},
     "output_type": "execute_result"
    }
   ],
   "source": [
    "combined = e_df_2.merge(luad_df_2, on = 'Phospho', how = 'outer', suffixes = ['_Endo', '_Luad'])\n",
    "fig_data = combined[combined['Phospho'].isin(fig_phospho)]\n",
    "fig_data.color_Luad = fig_data.color_Luad.fillna('white')\n",
    "fig_data.color_Endo = fig_data.color_Endo.fillna('white')\n",
    "fig_data"
   ]
  },
  {
   "cell_type": "markdown",
   "metadata": {},
   "source": [
    "# Check that Colon has measurements in the MAPK pathway"
   ]
  },
  {
   "cell_type": "code",
   "execution_count": 18,
   "metadata": {},
   "outputs": [
    {
     "ename": "AttributeError",
     "evalue": "'DataFrame' object has no attribute 'Protein'",
     "output_type": "error",
     "traceback": [
      "\u001b[1;31m---------------------------------------------------------------------------\u001b[0m",
      "\u001b[1;31mAttributeError\u001b[0m                            Traceback (most recent call last)",
      "\u001b[1;32m<ipython-input-18-305f401a98ba>\u001b[0m in \u001b[0;36m<module>\u001b[1;34m\u001b[0m\n\u001b[0;32m      1\u001b[0m \u001b[1;31m# does colon have data for proteins sig in other cancers?\u001b[0m\u001b[1;33m\u001b[0m\u001b[1;33m\u001b[0m\u001b[1;33m\u001b[0m\u001b[0m\n\u001b[1;32m----> 2\u001b[1;33m \u001b[0me_list\u001b[0m \u001b[1;33m=\u001b[0m \u001b[0mlist\u001b[0m\u001b[1;33m(\u001b[0m\u001b[0me_sig_2\u001b[0m\u001b[1;33m.\u001b[0m\u001b[0mProtein\u001b[0m\u001b[1;33m)\u001b[0m\u001b[1;33m\u001b[0m\u001b[1;33m\u001b[0m\u001b[0m\n\u001b[0m\u001b[0;32m      3\u001b[0m \u001b[0mluad_list\u001b[0m \u001b[1;33m=\u001b[0m \u001b[0mlist\u001b[0m\u001b[1;33m(\u001b[0m\u001b[0mluad_sig_2\u001b[0m\u001b[1;33m.\u001b[0m\u001b[0mProtein\u001b[0m\u001b[1;33m)\u001b[0m\u001b[1;33m\u001b[0m\u001b[1;33m\u001b[0m\u001b[0m\n\u001b[0;32m      4\u001b[0m \u001b[0mprot\u001b[0m \u001b[1;33m=\u001b[0m \u001b[0mlist\u001b[0m\u001b[1;33m(\u001b[0m\u001b[0mset\u001b[0m\u001b[1;33m(\u001b[0m\u001b[0me_list\u001b[0m \u001b[1;33m+\u001b[0m \u001b[0mluad_list\u001b[0m\u001b[1;33m)\u001b[0m\u001b[1;33m)\u001b[0m\u001b[1;33m\u001b[0m\u001b[1;33m\u001b[0m\u001b[0m\n\u001b[0;32m      5\u001b[0m \u001b[0mprint\u001b[0m\u001b[1;33m(\u001b[0m\u001b[1;34m'Num proteins with sig sites in endo or luad:'\u001b[0m\u001b[1;33m,\u001b[0m \u001b[0mlen\u001b[0m\u001b[1;33m(\u001b[0m\u001b[0mprot\u001b[0m\u001b[1;33m)\u001b[0m\u001b[1;33m,\u001b[0m \u001b[1;34m'proteins'\u001b[0m\u001b[1;33m)\u001b[0m\u001b[1;33m\u001b[0m\u001b[1;33m\u001b[0m\u001b[0m\n",
      "\u001b[1;32m~\\Anaconda3\\envs\\Research\\lib\\site-packages\\pandas\\core\\generic.py\u001b[0m in \u001b[0;36m__getattr__\u001b[1;34m(self, name)\u001b[0m\n\u001b[0;32m   5128\u001b[0m             \u001b[1;32mif\u001b[0m \u001b[0mself\u001b[0m\u001b[1;33m.\u001b[0m\u001b[0m_info_axis\u001b[0m\u001b[1;33m.\u001b[0m\u001b[0m_can_hold_identifiers_and_holds_name\u001b[0m\u001b[1;33m(\u001b[0m\u001b[0mname\u001b[0m\u001b[1;33m)\u001b[0m\u001b[1;33m:\u001b[0m\u001b[1;33m\u001b[0m\u001b[1;33m\u001b[0m\u001b[0m\n\u001b[0;32m   5129\u001b[0m                 \u001b[1;32mreturn\u001b[0m \u001b[0mself\u001b[0m\u001b[1;33m[\u001b[0m\u001b[0mname\u001b[0m\u001b[1;33m]\u001b[0m\u001b[1;33m\u001b[0m\u001b[1;33m\u001b[0m\u001b[0m\n\u001b[1;32m-> 5130\u001b[1;33m             \u001b[1;32mreturn\u001b[0m \u001b[0mobject\u001b[0m\u001b[1;33m.\u001b[0m\u001b[0m__getattribute__\u001b[0m\u001b[1;33m(\u001b[0m\u001b[0mself\u001b[0m\u001b[1;33m,\u001b[0m \u001b[0mname\u001b[0m\u001b[1;33m)\u001b[0m\u001b[1;33m\u001b[0m\u001b[1;33m\u001b[0m\u001b[0m\n\u001b[0m\u001b[0;32m   5131\u001b[0m \u001b[1;33m\u001b[0m\u001b[0m\n\u001b[0;32m   5132\u001b[0m     \u001b[1;32mdef\u001b[0m \u001b[0m__setattr__\u001b[0m\u001b[1;33m(\u001b[0m\u001b[0mself\u001b[0m\u001b[1;33m,\u001b[0m \u001b[0mname\u001b[0m\u001b[1;33m:\u001b[0m \u001b[0mstr\u001b[0m\u001b[1;33m,\u001b[0m \u001b[0mvalue\u001b[0m\u001b[1;33m)\u001b[0m \u001b[1;33m->\u001b[0m \u001b[1;32mNone\u001b[0m\u001b[1;33m:\u001b[0m\u001b[1;33m\u001b[0m\u001b[1;33m\u001b[0m\u001b[0m\n",
      "\u001b[1;31mAttributeError\u001b[0m: 'DataFrame' object has no attribute 'Protein'"
     ]
    }
   ],
   "source": [
    "# does colon have data for proteins sig in other cancers?\n",
    "e_list = list(e_sig_2.Protein)\n",
    "luad_list = list(luad_sig_2.Protein)\n",
    "prot = list(set(e_list + luad_list))\n",
    "print('Num proteins with sig sites in endo or luad:', len(prot), 'proteins')\n",
    "\n",
    "prot_sig = c_df[c_df.Protein.isin(prot)].dropna()\n",
    "print(len(prot_sig.Protein.value_counts()), 'of those proteins found in colon')\n"
   ]
  },
  {
   "cell_type": "code",
   "execution_count": 19,
   "metadata": {},
   "outputs": [
    {
     "name": "stdout",
     "output_type": "stream",
     "text": [
      "Num sig sites in endo or luad: 62 sites\n",
      "0 found in colon\n"
     ]
    }
   ],
   "source": [
    "# does colon have data for sites sig in other cancers?\n",
    "e_list = list(e_sig_2.Phospho)\n",
    "luad_list = list(luad_sig_2.Phospho)\n",
    "sites = list(set(e_list + luad_list))\n",
    "print('Num sig sites in endo or luad:', len(sites) ,'sites')\n",
    "\n",
    "sites_sig = c_df[c_df.Phospho.isin(sites)]\n",
    "print(len(sites_sig.Phospho.value_counts()), 'found in colon')"
   ]
  },
  {
   "cell_type": "code",
   "execution_count": null,
   "metadata": {},
   "outputs": [],
   "source": []
  }
 ],
 "metadata": {
  "kernelspec": {
   "display_name": "Python 3",
   "language": "python",
   "name": "python3"
  },
  "language_info": {
   "codemirror_mode": {
    "name": "ipython",
    "version": 3
   },
   "file_extension": ".py",
   "mimetype": "text/x-python",
   "name": "python",
   "nbconvert_exporter": "python",
   "pygments_lexer": "ipython3",
   "version": "3.7.3"
  }
 },
 "nbformat": 4,
 "nbformat_minor": 2
}
