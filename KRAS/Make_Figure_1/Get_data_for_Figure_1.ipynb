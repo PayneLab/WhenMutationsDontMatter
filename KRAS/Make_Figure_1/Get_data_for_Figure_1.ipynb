{
 "cells": [
  {
   "cell_type": "markdown",
   "metadata": {},
   "source": [
    "# Figure 1: Map color legend to phospho results for MAPK Signaling diagram"
   ]
  },
  {
   "cell_type": "code",
   "execution_count": 1,
   "metadata": {},
   "outputs": [],
   "source": [
    "import pandas as pd\n",
    "\n",
    "import cptac\n",
    "import cptac.utils as u\n",
    "import plot_utils as p"
   ]
  },
  {
   "cell_type": "code",
   "execution_count": 2,
   "metadata": {},
   "outputs": [
    {
     "name": "stdout",
     "output_type": "stream",
     "text": [
      "cptac version: 0.8.6\n"
     ]
    }
   ],
   "source": [
    "print('cptac version:', cptac.version())"
   ]
  },
  {
   "cell_type": "code",
   "execution_count": 3,
   "metadata": {},
   "outputs": [],
   "source": [
    "import warnings\n",
    "warnings.filterwarnings('ignore')"
   ]
  },
  {
   "cell_type": "code",
   "execution_count": 4,
   "metadata": {},
   "outputs": [],
   "source": [
    "'''\n",
    "This function returns the color used in Figure 1 for every \n",
    "differential expression/p-value status of a certain phosphosite.\n",
    "@Param site: String. Name of phosphosite column.\n",
    "@Param df: df with pval and differential expressions. NaN dropped.\n",
    "@Param cancer: String. Cancer name used in df columns. \n",
    "'''\n",
    "\n",
    "def check_status_color(site, df, cancer):\n",
    "    df = df.loc[df['Phospho'] == site]\n",
    "    pval = float(df[cancer+'_P_Value'])\n",
    "    dif_expression = float(df[cancer+'_Median'])\n",
    "    color = ''\n",
    "    if pval >= 0.1:\n",
    "        color += 'grey'\n",
    "    else:\n",
    "        if pval < .05:\n",
    "            color += 'dark_'\n",
    "        if dif_expression < 0:\n",
    "            color += 'blue'\n",
    "        elif dif_expression > 0:\n",
    "            color += 'red'\n",
    "        \n",
    "    return color\n",
    "    "
   ]
  },
  {
   "cell_type": "markdown",
   "metadata": {},
   "source": [
    "# Step 1: Get tables with MAPK signaling phosphoproteomics."
   ]
  },
  {
   "cell_type": "code",
   "execution_count": 5,
   "metadata": {},
   "outputs": [],
   "source": [
    "df = pd.read_csv(\"../Make_Tables/csv/phospho_MAPK.csv\")\n",
    "luad_df = pd.read_csv(\"../Make_Tables/csv/LUAD_phospho_MAPK.csv\")\n",
    "e_df = pd.read_csv(\"../Make_Tables/csv/EC_phospho_MAPK.csv\")\n",
    "c_df = pd.read_csv(\"../Make_Tables/csv/CO_phospho_MAPK.csv\")"
   ]
  },
  {
   "cell_type": "markdown",
   "metadata": {},
   "source": [
    "# Step 2: Create df with all phosphosites mapped with colors"
   ]
  },
  {
   "cell_type": "markdown",
   "metadata": {},
   "source": [
    "\n",
    "Color Legend:\n",
    "* red - differential expression > 0\n",
    "* blue - differential expression < 0\n",
    "* grey - not significant\n",
    "* white - no data / not enough data for t-test\n",
    "\n",
    "All sites used in Figure 1 have at least 1 FDR corrected p-value < 0.1. The darker hue of a color represents a  p-value < 0.05 (dark_red, dark_blue). "
   ]
  },
  {
   "cell_type": "code",
   "execution_count": 6,
   "metadata": {},
   "outputs": [],
   "source": [
    "e_df_2 = e_df.dropna() # drop nan (p-vals nan when not enough data to do t-test)\n",
    "e_df_2['color'] = e_df_2['Phospho'].apply(lambda x: check_status_color(x, e_df_2, 'EC'))\n",
    "#e_df_2"
   ]
  },
  {
   "cell_type": "code",
   "execution_count": 7,
   "metadata": {},
   "outputs": [],
   "source": [
    "luad_df_2 = luad_df.dropna()\n",
    "luad_df_2['color'] = luad_df_2['Phospho'].apply(lambda x: check_status_color(x, luad_df_2, 'LUAD'))\n",
    "#luad_df_2"
   ]
  },
  {
   "cell_type": "markdown",
   "metadata": {},
   "source": [
    "# Step 3: Show data for sites used in KRAS Figure \n",
    "\n",
    "* Shown phosphosites are significant in at least 1 cancer."
   ]
  },
  {
   "cell_type": "code",
   "execution_count": 8,
   "metadata": {},
   "outputs": [],
   "source": [
    "# Get list of phosphosites sig in at least 1 cancer\n",
    "e = e_df.loc[e_df['EC_P_Value'] < 0.1]\n",
    "e_sig_phospho = list(e.Phospho)\n",
    "\n",
    "luad = luad_df.loc[luad_df['LUAD_P_Value'] < 0.1]\n",
    "luad_sig_phospho = list(luad.Phospho)\n",
    "\n",
    "fig_phospho = list(set(luad_sig_phospho + e_sig_phospho))"
   ]
  },
  {
   "cell_type": "code",
   "execution_count": 9,
   "metadata": {},
   "outputs": [
    {
     "data": {
      "text/html": [
       "<div>\n",
       "<style scoped>\n",
       "    .dataframe tbody tr th:only-of-type {\n",
       "        vertical-align: middle;\n",
       "    }\n",
       "\n",
       "    .dataframe tbody tr th {\n",
       "        vertical-align: top;\n",
       "    }\n",
       "\n",
       "    .dataframe thead th {\n",
       "        text-align: right;\n",
       "    }\n",
       "</style>\n",
       "<table border=\"1\" class=\"dataframe\">\n",
       "  <thead>\n",
       "    <tr style=\"text-align: right;\">\n",
       "      <th></th>\n",
       "      <th>Phospho</th>\n",
       "      <th>EC_P_Value</th>\n",
       "      <th>EC_Median</th>\n",
       "      <th>color_Endo</th>\n",
       "      <th>LUAD_P_Value</th>\n",
       "      <th>LUAD_Median</th>\n",
       "      <th>color_Luad</th>\n",
       "    </tr>\n",
       "  </thead>\n",
       "  <tbody>\n",
       "    <tr>\n",
       "      <th>0</th>\n",
       "      <td>MKNK2_S220</td>\n",
       "      <td>0.001348</td>\n",
       "      <td>0.94700</td>\n",
       "      <td>dark_red</td>\n",
       "      <td>0.015097</td>\n",
       "      <td>1.33870</td>\n",
       "      <td>dark_red</td>\n",
       "    </tr>\n",
       "    <tr>\n",
       "      <th>1</th>\n",
       "      <td>NFKB2_S858</td>\n",
       "      <td>0.001348</td>\n",
       "      <td>0.69285</td>\n",
       "      <td>dark_red</td>\n",
       "      <td>0.015097</td>\n",
       "      <td>1.40475</td>\n",
       "      <td>dark_red</td>\n",
       "    </tr>\n",
       "    <tr>\n",
       "      <th>2</th>\n",
       "      <td>RAF1_T330</td>\n",
       "      <td>0.002399</td>\n",
       "      <td>1.12066</td>\n",
       "      <td>dark_red</td>\n",
       "      <td>0.118795</td>\n",
       "      <td>0.97875</td>\n",
       "      <td>grey</td>\n",
       "    </tr>\n",
       "    <tr>\n",
       "      <th>3</th>\n",
       "      <td>TAB1_S378</td>\n",
       "      <td>0.002916</td>\n",
       "      <td>0.46350</td>\n",
       "      <td>dark_red</td>\n",
       "      <td>NaN</td>\n",
       "      <td>NaN</td>\n",
       "      <td>white</td>\n",
       "    </tr>\n",
       "    <tr>\n",
       "      <th>4</th>\n",
       "      <td>MKNK1_S401</td>\n",
       "      <td>0.003520</td>\n",
       "      <td>0.47800</td>\n",
       "      <td>dark_red</td>\n",
       "      <td>0.424119</td>\n",
       "      <td>0.20325</td>\n",
       "      <td>grey</td>\n",
       "    </tr>\n",
       "    <tr>\n",
       "      <th>...</th>\n",
       "      <td>...</td>\n",
       "      <td>...</td>\n",
       "      <td>...</td>\n",
       "      <td>...</td>\n",
       "      <td>...</td>\n",
       "      <td>...</td>\n",
       "      <td>...</td>\n",
       "    </tr>\n",
       "    <tr>\n",
       "      <th>864</th>\n",
       "      <td>PLA2G4A_S434S435S437</td>\n",
       "      <td>NaN</td>\n",
       "      <td>NaN</td>\n",
       "      <td>white</td>\n",
       "      <td>0.082020</td>\n",
       "      <td>0.89615</td>\n",
       "      <td>red</td>\n",
       "    </tr>\n",
       "    <tr>\n",
       "      <th>865</th>\n",
       "      <td>FLNB_S2114</td>\n",
       "      <td>NaN</td>\n",
       "      <td>NaN</td>\n",
       "      <td>white</td>\n",
       "      <td>0.082020</td>\n",
       "      <td>2.17800</td>\n",
       "      <td>red</td>\n",
       "    </tr>\n",
       "    <tr>\n",
       "      <th>866</th>\n",
       "      <td>PLA2G4A_S435S437</td>\n",
       "      <td>NaN</td>\n",
       "      <td>NaN</td>\n",
       "      <td>white</td>\n",
       "      <td>0.085660</td>\n",
       "      <td>0.99990</td>\n",
       "      <td>red</td>\n",
       "    </tr>\n",
       "    <tr>\n",
       "      <th>867</th>\n",
       "      <td>NFKB2_S161</td>\n",
       "      <td>NaN</td>\n",
       "      <td>NaN</td>\n",
       "      <td>white</td>\n",
       "      <td>0.085660</td>\n",
       "      <td>0.79615</td>\n",
       "      <td>red</td>\n",
       "    </tr>\n",
       "    <tr>\n",
       "      <th>868</th>\n",
       "      <td>RAPGEF2_S935</td>\n",
       "      <td>NaN</td>\n",
       "      <td>NaN</td>\n",
       "      <td>white</td>\n",
       "      <td>0.085660</td>\n",
       "      <td>-0.57035</td>\n",
       "      <td>blue</td>\n",
       "    </tr>\n",
       "  </tbody>\n",
       "</table>\n",
       "<p>62 rows × 7 columns</p>\n",
       "</div>"
      ],
      "text/plain": [
       "                  Phospho  EC_P_Value  EC_Median color_Endo  LUAD_P_Value  \\\n",
       "0              MKNK2_S220    0.001348    0.94700   dark_red      0.015097   \n",
       "1              NFKB2_S858    0.001348    0.69285   dark_red      0.015097   \n",
       "2               RAF1_T330    0.002399    1.12066   dark_red      0.118795   \n",
       "3               TAB1_S378    0.002916    0.46350   dark_red           NaN   \n",
       "4              MKNK1_S401    0.003520    0.47800   dark_red      0.424119   \n",
       "..                    ...         ...        ...        ...           ...   \n",
       "864  PLA2G4A_S434S435S437         NaN        NaN      white      0.082020   \n",
       "865            FLNB_S2114         NaN        NaN      white      0.082020   \n",
       "866      PLA2G4A_S435S437         NaN        NaN      white      0.085660   \n",
       "867            NFKB2_S161         NaN        NaN      white      0.085660   \n",
       "868          RAPGEF2_S935         NaN        NaN      white      0.085660   \n",
       "\n",
       "     LUAD_Median color_Luad  \n",
       "0        1.33870   dark_red  \n",
       "1        1.40475   dark_red  \n",
       "2        0.97875       grey  \n",
       "3            NaN      white  \n",
       "4        0.20325       grey  \n",
       "..           ...        ...  \n",
       "864      0.89615        red  \n",
       "865      2.17800        red  \n",
       "866      0.99990        red  \n",
       "867      0.79615        red  \n",
       "868     -0.57035       blue  \n",
       "\n",
       "[62 rows x 7 columns]"
      ]
     },
     "execution_count": 9,
     "metadata": {},
     "output_type": "execute_result"
    }
   ],
   "source": [
    "combined = e_df_2.merge(luad_df_2, on = 'Phospho', how = 'outer', suffixes = ['_Endo', '_Luad'])\n",
    "fig_data = combined[combined['Phospho'].isin(fig_phospho)]\n",
    "fig_data.color_Luad = fig_data.color_Luad.fillna('white')\n",
    "fig_data.color_Endo = fig_data.color_Endo.fillna('white')\n",
    "fig_data"
   ]
  },
  {
   "cell_type": "code",
   "execution_count": 23,
   "metadata": {},
   "outputs": [
    {
     "data": {
      "text/html": [
       "<div>\n",
       "<style scoped>\n",
       "    .dataframe tbody tr th:only-of-type {\n",
       "        vertical-align: middle;\n",
       "    }\n",
       "\n",
       "    .dataframe tbody tr th {\n",
       "        vertical-align: top;\n",
       "    }\n",
       "\n",
       "    .dataframe thead th {\n",
       "        text-align: right;\n",
       "    }\n",
       "</style>\n",
       "<table border=\"1\" class=\"dataframe\">\n",
       "  <thead>\n",
       "    <tr style=\"text-align: right;\">\n",
       "      <th></th>\n",
       "      <th>Phospho</th>\n",
       "      <th>EC_P_Value</th>\n",
       "      <th>EC_Median</th>\n",
       "      <th>color_Endo</th>\n",
       "      <th>LUAD_P_Value</th>\n",
       "      <th>LUAD_Median</th>\n",
       "      <th>color_Luad</th>\n",
       "    </tr>\n",
       "  </thead>\n",
       "  <tbody>\n",
       "    <tr>\n",
       "      <th>6</th>\n",
       "      <td>STK3_S413</td>\n",
       "      <td>0.008592</td>\n",
       "      <td>0.61475</td>\n",
       "      <td>dark_red</td>\n",
       "      <td>NaN</td>\n",
       "      <td>NaN</td>\n",
       "      <td>white</td>\n",
       "    </tr>\n",
       "  </tbody>\n",
       "</table>\n",
       "</div>"
      ],
      "text/plain": [
       "     Phospho  EC_P_Value  EC_Median color_Endo  LUAD_P_Value  LUAD_Median  \\\n",
       "6  STK3_S413    0.008592    0.61475   dark_red           NaN          NaN   \n",
       "\n",
       "  color_Luad  \n",
       "6      white  "
      ]
     },
     "execution_count": 23,
     "metadata": {},
     "output_type": "execute_result"
    }
   ],
   "source": [
    "fig_data[fig_data.Phospho.str.contains('STK')]"
   ]
  },
  {
   "cell_type": "markdown",
   "metadata": {},
   "source": [
    "# Get number of significant phosphosites"
   ]
  },
  {
   "cell_type": "markdown",
   "metadata": {},
   "source": [
    "The manuscript mentions the number of phosphosites significant in each cancer and in multiple cancers."
   ]
  },
  {
   "cell_type": "code",
   "execution_count": 11,
   "metadata": {},
   "outputs": [
    {
     "name": "stdout",
     "output_type": "stream",
     "text": [
      "LUAD\n",
      "p-val < 0.1 :  40\n",
      "\n",
      "EC\n",
      "p-val < 0.1 :  26\n",
      "\n",
      "CO\n",
      "p-val < 0.1 :  0\n"
     ]
    }
   ],
   "source": [
    "print('LUAD')\n",
    "luad_sig_2 = luad_df.loc[luad_df['LUAD_P_Value'] < 0.1]\n",
    "print('p-val < 0.1 : ', len(luad_sig_2))\n",
    "\n",
    "print('\\nEC')\n",
    "e_sig_2 = e_df.loc[e_df['EC_P_Value'] < 0.1]\n",
    "print('p-val < 0.1 : ', len(e_sig_2))\n",
    "\n",
    "print('\\nCO')\n",
    "c_sig_2 = c_df.loc[c_df['CO_P_Value'] < 0.1]\n",
    "print('p-val < 0.1 : ', len(c_sig_2))"
   ]
  },
  {
   "cell_type": "code",
   "execution_count": 12,
   "metadata": {},
   "outputs": [
    {
     "name": "stdout",
     "output_type": "stream",
     "text": [
      "Sig in both\n",
      "p-val <  0.1  :  4 \n",
      "\n",
      "['SOS1_S1161', 'MKNK2_S220', 'NFKB2_S858', 'SOS1_S1229'] \n",
      "\n"
     ]
    }
   ],
   "source": [
    "print('Sig in both')\n",
    "p = 0.1\n",
    "sig = df.loc[df['EC_P_Value'] < p]\n",
    "sig = sig.loc[sig['LUAD_P_Value'] < p]\n",
    "print('p-val < ',p,' : ', len(sig), '\\n')\n",
    "print(list(sig.Phospho), '\\n')"
   ]
  },
  {
   "cell_type": "markdown",
   "metadata": {},
   "source": [
    "# Check that Colon has measurements in the MAPK pathway"
   ]
  },
  {
   "cell_type": "code",
   "execution_count": 13,
   "metadata": {},
   "outputs": [],
   "source": [
    "# Get protein column\n",
    "e_sig_2['Protein'], e_sig_2['Site'] = e_sig_2.Phospho.str.split('_', 1).str\n",
    "luad_sig_2['Protein'], luad_sig_2['Site'] = luad_sig_2.Phospho.str.split('_', 1).str\n",
    "c_df['Protein'], c_df['Site'] = c_df.Phospho.str.split('_', 1).str"
   ]
  },
  {
   "cell_type": "code",
   "execution_count": 14,
   "metadata": {},
   "outputs": [
    {
     "name": "stdout",
     "output_type": "stream",
     "text": [
      "Proteins\n",
      "Num proteins with sig sites in EC and LUAD: 36 proteins\n",
      "32 of those proteins found in CO\n"
     ]
    }
   ],
   "source": [
    "e_list = list(e_sig_2.Protein)\n",
    "luad_list = list(luad_sig_2.Protein)\n",
    "prot = list(set(e_list + luad_list))\n",
    "print('Proteins')\n",
    "print('Num proteins with sig sites in EC and LUAD:', len(prot), 'proteins')\n",
    "\n",
    "prot_sig = c_df[c_df.Protein.isin(prot)].dropna()\n",
    "print(len(prot_sig.Protein.unique()), 'of those proteins found in CO')"
   ]
  },
  {
   "cell_type": "code",
   "execution_count": 15,
   "metadata": {},
   "outputs": [
    {
     "name": "stdout",
     "output_type": "stream",
     "text": [
      "Phosphosites\n",
      "Num sig sites in EC or LUAD: 62 sites\n",
      "0 sig sites found in CO\n"
     ]
    }
   ],
   "source": [
    "# does colon have data for sites sig in other cancers?\n",
    "e_list = list(e_sig_2.Phospho)\n",
    "luad_list = list(luad_sig_2.Phospho)\n",
    "sites = list(set(e_list + luad_list))\n",
    "print('Phosphosites')\n",
    "print('Num sig sites in EC or LUAD:', len(sites) ,'sites')\n",
    "\n",
    "sites_sig = c_df[c_df.Phospho.isin(sites)]\n",
    "print(len(sites_sig.Phospho.unique()), 'sig sites found in CO')"
   ]
  },
  {
   "cell_type": "code",
   "execution_count": null,
   "metadata": {},
   "outputs": [],
   "source": []
  }
 ],
 "metadata": {
  "kernelspec": {
   "display_name": "Python 3",
   "language": "python",
   "name": "python3"
  },
  "language_info": {
   "codemirror_mode": {
    "name": "ipython",
    "version": 3
   },
   "file_extension": ".py",
   "mimetype": "text/x-python",
   "name": "python",
   "nbconvert_exporter": "python",
   "pygments_lexer": "ipython3",
   "version": "3.7.3"
  }
 },
 "nbformat": 4,
 "nbformat_minor": 2
}
