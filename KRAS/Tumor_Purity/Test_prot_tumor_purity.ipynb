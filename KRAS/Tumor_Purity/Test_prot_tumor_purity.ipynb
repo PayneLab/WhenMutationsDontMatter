{
 "cells": [
  {
   "cell_type": "markdown",
   "metadata": {},
   "source": [
    "# Make tables: calculate p-values and differential expressions for each cancer "
   ]
  },
  {
   "cell_type": "markdown",
   "metadata": {},
   "source": [
    "Create a dataframe with p-value results from t-tests for all proteins (trans proteomics when KRAS has missense mutations compared to KRAS wildtype). The dataframe also includes the change in medians between deletions and wildtype. Prepare these tables for further analysis by creating csv files."
   ]
  },
  {
   "cell_type": "code",
   "execution_count": 1,
   "metadata": {},
   "outputs": [],
   "source": [
    "import pandas as pd\n",
    "import numpy as np\n",
    "import seaborn as sns\n",
    "import matplotlib.pyplot as plt\n",
    "import scipy.stats\n",
    "import gseapy as gp\n",
    "import re\n",
    "import sys \n",
    "\n",
    "import cptac\n",
    "import cptac.utils as u\n",
    "import plot_utils as p"
   ]
  },
  {
   "cell_type": "code",
   "execution_count": 2,
   "metadata": {},
   "outputs": [],
   "source": [
    "import warnings\n",
    "warnings.filterwarnings('ignore')"
   ]
  },
  {
   "cell_type": "code",
   "execution_count": 3,
   "metadata": {},
   "outputs": [],
   "source": [
    "def get_all_interacting_proteins(gene, num_results_in = 25):\n",
    "    bioplex_list = list(u.get_interacting_proteins_bioplex(gene))\n",
    "    wiki_list = list(u.get_interacting_proteins_wikipathways(gene))\n",
    "\n",
    "    biogrid_list = list(u.get_interacting_proteins_biogrid(gene, num_results=num_results_in))\n",
    "    string_list = list(u.get_interacting_proteins_string(gene, num_results=num_results_in))\n",
    "\n",
    "    all_int = bioplex_list + wiki_list + biogrid_list + string_list\n",
    "    interacting_list = list(set(all_int))\n",
    "    interacting_list.remove(gene) # remove cis\n",
    "    \n",
    "    return interacting_list"
   ]
  },
  {
   "cell_type": "code",
   "execution_count": 4,
   "metadata": {},
   "outputs": [],
   "source": [
    "# Returns a dataframe with proteomics and mutation type\n",
    "\n",
    "# all_prot: list of trans genes\n",
    "\n",
    "def all_prot_format_df(cancer_object, all_prot, gene_in = 'KRAS', utils = u):\n",
    "    mut_type = cancer_object.get_genotype_all_vars(gene_in)\n",
    "    mut_type['Mutation'].where(mut_type['Mutation'] != 'Missense_Mutation', 'Missense', inplace = True) # replace when false\n",
    "    mut_type['Mutation'].where(mut_type['Mutation'] != 'nonsynonymous SNV', 'Missense', inplace = True)\n",
    "\n",
    "    # Keep only tumor samples from proteomics\n",
    "    prot_and_mutations = cancer_object.join_omics_to_mutations(\n",
    "        mutations_genes = [gene_in], omics_df_name = 'proteomics', omics_genes = all_prot, tissue_type = 'tumor')\n",
    "    # Reduce a multiindex \n",
    "    if isinstance(prot_and_mutations.keys(), pd.core.indexes.multi.MultiIndex):\n",
    "        prot_and_mutations = utils.reduce_multiindex(prot_and_mutations, levels_to_drop = 1)\n",
    "        prot_and_mutations = rename_duplicate_cols(prot_and_mutations) # make unique col names\n",
    "\n",
    "    # Keep certain missense mutations\n",
    "    prot_and_mutations['KRAS_Location'] = [','.join(map(str, l)) for l in prot_and_mutations['KRAS_Location']]\n",
    "    hotspots = ['G12', 'G13', 'Q61', 'No_mutation']\n",
    "    hotspots_wt = pd.DataFrame()\n",
    "    for site in hotspots:\n",
    "        df = prot_and_mutations[prot_and_mutations.KRAS_Location.str.contains(site, regex= True, na=False)]\n",
    "        hotspots_wt = hotspots_wt.append(df)\n",
    "    #print(hotspots_wt.KRAS_Location.value_counts())\n",
    "    \n",
    "    # Merge Mutation column from get_genotype_all_vars (includes cnv) with proteomics\n",
    "    mut_type = mut_type[['Mutation']]\n",
    "    prot_df = hotspots_wt.iloc[:,:-4] # Keep only proteomics\n",
    "    merged = prot_df.join(mut_type)\n",
    "    merged = merged.join(hotspots_wt['KRAS_Location'])\n",
    "\n",
    "    # Keep only Wildtype and deletion\n",
    "    compare = ['Wildtype_Tumor','Missense']\n",
    "    get = merged['Mutation'].isin(compare)\n",
    "    mut_wt = merged[get]\n",
    "    \n",
    "    mut_wt = mut_wt.rename(columns={col: re.sub(r'_proteomics', '', col) for col in mut_wt.columns.tolist()})\n",
    "    return mut_wt\n"
   ]
  },
  {
   "cell_type": "code",
   "execution_count": 5,
   "metadata": {},
   "outputs": [],
   "source": [
    "'''\n",
    "Params\n",
    "cancer_object: Object. Variable for the loaded cancer data set.\n",
    "cancer_name: Str. name to add to the created dataframe.\n",
    "del_wt_df: DataFrame. Only samples with deletions and wildtype for PTEN. \n",
    "all_prot_list: List. All proteins in proteomics data frame. \n",
    "\n",
    "Returns a dataframe with the difference in medians between proteomics with PTEN wt and del (wt - del). \n",
    "'''\n",
    "\n",
    "def get_change_in_medians_df(cancer_object, cancer_name, del_wt_df, all_prot_list):\n",
    "    d = del_wt_df[del_wt_df.Mutation == \"Missense\"]\n",
    "    wt = del_wt_df[del_wt_df.Mutation == \"Wildtype_Tumor\"]\n",
    "    del_med = d.median()\n",
    "    wt_med = wt.median()\n",
    "\n",
    "    med_dict = {}\n",
    "    \n",
    "    # Correlation: + is mutant up compared to wt, - is mutant down\n",
    "    for prot in all_prot_list:\n",
    "        if prot in del_med.index and prot in wt_med.index:\n",
    "            dif = del_med[prot] - wt_med[prot]\n",
    "            med_dict[prot] = dif\n",
    "        \n",
    "    df = pd.DataFrame.from_dict(med_dict, orient='index', columns=[cancer_name+'_Median'])\n",
    "    df = df.reset_index().rename(columns={'index':'Proteomics'})\n",
    "    \n",
    "    return df\n",
    "        "
   ]
  },
  {
   "cell_type": "code",
   "execution_count": 6,
   "metadata": {},
   "outputs": [],
   "source": [
    "# Adds '_i' to duplicate col names where i is a number (increases with each duplicate)\n",
    "\n",
    "def rename_duplicate_cols(df):\n",
    "    cols = pd.Series(df.columns[:])\n",
    "\n",
    "    for dup in cols[cols.duplicated()].unique(): \n",
    "        cols[cols[cols == dup].index.values.tolist()] = [dup + '_' + str(i) if i != 0 else dup for i in range(sum(cols == dup))]\n",
    "\n",
    "    # rename the columns with the cols list.\n",
    "    df.columns=cols\n",
    "    return df"
   ]
  },
  {
   "cell_type": "markdown",
   "metadata": {},
   "source": [
    "#  Step 1: Create data frames with p-values and differential expressions"
   ]
  },
  {
   "cell_type": "markdown",
   "metadata": {},
   "source": [
    "Each cancer needs a data frame containing only samples that have PTEN cnv deletions and PTEN wildtype with trans proteomics. Use wrap_ttest to run t-tests for all genes in the proteomic data frame. Use get_change_in_medians_df to create the data frame with differential expression values. Merge both data frames. "
   ]
  },
  {
   "cell_type": "markdown",
   "metadata": {},
   "source": [
    "Load in cancer data sets from cptac. "
   ]
  },
  {
   "cell_type": "code",
   "execution_count": 7,
   "metadata": {},
   "outputs": [
    {
     "name": "stdout",
     "output_type": "stream",
     "text": [
      "                                                \r"
     ]
    }
   ],
   "source": [
    "en = cptac.Endometrial()\n",
    "l = cptac.Luad()\n",
    "col = cptac.Colon()"
   ]
  },
  {
   "cell_type": "markdown",
   "metadata": {},
   "source": [
    "# Calculate p-values and differential expressions"
   ]
  },
  {
   "cell_type": "code",
   "execution_count": 9,
   "metadata": {},
   "outputs": [],
   "source": [
    "def get_tumor_purity(cancer_obj):\n",
    "    dm = cancer_obj.get_derived_molecular()\n",
    "    # Rename to make consistent tumor purtity col\n",
    "    renamed_df = dm.rename(columns = {'TumorPurity':'Tumor_Purity','Purity_Cancer':'Tumor_Purity',\n",
    "                                      'Tumor.Purity.byESTIMATE.RNAseq':'Tumor_Purity'})\n",
    "    purity = renamed_df[['Tumor_Purity']]\n",
    "    return purity"
   ]
  },
  {
   "cell_type": "code",
   "execution_count": 10,
   "metadata": {},
   "outputs": [],
   "source": [
    "cancer_objects = {'Endo':en, 'Colon':col, 'Luad':l}"
   ]
  },
  {
   "cell_type": "code",
   "execution_count": 11,
   "metadata": {},
   "outputs": [
    {
     "name": "stdout",
     "output_type": "stream",
     "text": [
      "Endo\n",
      "5%: 0.22946024\n",
      "Num pure samples: 84 / 92 \n",
      "\n",
      "Colon\n",
      "5%: 0.557\n",
      "Num pure samples: 76 / 81 \n",
      "\n",
      "Luad\n",
      "5%: 0.39836446978100504\n",
      "Num pure samples: 80 / 85 \n",
      "\n"
     ]
    },
    {
     "data": {
      "image/png": "[encoded data removed]",
      "text/plain": [
       "<Figure size 432x288 with 1 Axes>"
      ]
     },
     "metadata": {
      "needs_background": "light"
     },
     "output_type": "display_data"
    }
   ],
   "source": [
    "# Find tumor purity cutoffs \n",
    "purity_cutoff = {}\n",
    "\n",
    "for c in cancer_objects:\n",
    "    print(c)\n",
    "    all_df = all_prot_format_df(cancer_objects[c], ['KRAS'], gene_in = 'KRAS')\n",
    "    purity = get_tumor_purity(cancer_objects[c])\n",
    "    miss_wt = all_df.join(purity, how = 'left')\n",
    "    s = miss_wt['Tumor_Purity']\n",
    "\n",
    "    #print('min:', s.min())\n",
    "    #print('median:', s.median())\n",
    "    #print('max:', s.max(), '\\n')\n",
    "    sns.distplot(s, bins = 40, label = c)\n",
    "    plt.legend()\n",
    "    #plt.show() # uncomment to see plots separately\n",
    "\n",
    "    percent = 5\n",
    "    cutoff = np.nanpercentile(s, percent, interpolation = 'nearest')\n",
    "    purity_cutoff[c] = cutoff\n",
    "    print(str(percent)+'%:', cutoff)\n",
    "    print('Num pure samples:', len(s.loc[s > cutoff]), '/', len(all_df), '\\n')# (of samples with miss/wt for KRAS not all samples"
   ]
  },
  {
   "cell_type": "code",
   "execution_count": 11,
   "metadata": {},
   "outputs": [
    {
     "data": {
      "text/plain": [
       "{'Endo': 0.22946024, 'Colon': 0.557, 'Luad': 0.39836446978100504}"
      ]
     },
     "execution_count": 11,
     "metadata": {},
     "output_type": "execute_result"
    }
   ],
   "source": [
    "purity_cutoff"
   ]
  },
  {
   "cell_type": "code",
   "execution_count": null,
   "metadata": {},
   "outputs": [],
   "source": []
  },
  {
   "cell_type": "code",
   "execution_count": 12,
   "metadata": {},
   "outputs": [],
   "source": [
    "cancer_objects = {'Endo':en, 'Colon':col, 'Luad':l}"
   ]
  },
  {
   "cell_type": "code",
   "execution_count": 13,
   "metadata": {},
   "outputs": [],
   "source": [
    "# Get total num prot cols\n",
    "total_prot = {}\n",
    "all_prot = []\n",
    "for c in cancer_objects:\n",
    "    df = cancer_objects[c].get_proteomics()\n",
    "    if isinstance(df.keys(), pd.core.indexes.multi.MultiIndex):\n",
    "        df = u.reduce_multiindex(df, levels_to_drop = 1)\n",
    "    #df = rename_duplicate_cols(df) # make unique col names\n",
    "    cols = list(df.columns)\n",
    "    total_prot[c] = len(cols) # get total num genes\n",
    "    all_prot = all_prot + cols \n",
    "all_prot = list(set(all_prot)) # get unique genes in proteomics for en, luad, colon"
   ]
  },
  {
   "cell_type": "code",
   "execution_count": 14,
   "metadata": {},
   "outputs": [
    {
     "name": "stdout",
     "output_type": "stream",
     "text": [
      "Interacting genes: 12336\n",
      "Endo\n",
      "12336 -> 10993 (dropped na)\n",
      "\tmin tumor purity: 0.24094175\n",
      "cols tested:  10993 / 10999\n",
      "  Proteomics  Endo_P_Value  Endo_Median\n",
      "0      SPRY1      0.001409       0.8869\n",
      "1    ZFYVE19      0.020195       0.3360\n",
      "2      MUC5B      0.032320       2.0780\n",
      "3      FSTL1      0.035622       0.9610\n",
      "4   CDC42SE2      0.035622       0.4850 \n",
      "\n",
      "Colon\n",
      "12336 -> 8059 (dropped na)\n",
      "\tmin tumor purity: 0.562\n",
      "cols tested:  8059 / 8067\n",
      "  Proteomics  Colon_P_Value  Colon_Median\n",
      "0       EEA1       0.847503       0.21400\n",
      "1      CHID1       0.847503       0.22870\n",
      "2     NUDCD1       0.847503      -0.19015\n",
      "3      CELF1       0.847503      -0.13565\n",
      "4     DICER1       0.847503       0.22080 \n",
      "\n",
      "Luad\n",
      "12719 -> 10699 (dropped na)\n",
      "\tmin tumor purity: 0.4167809745510229\n",
      "cols tested:  10699 / 10699\n",
      "  Proteomics  Luad_P_Value  Luad_Median\n",
      "0      TUFT1      0.000714      1.75850\n",
      "1      DOCK5      0.000714      1.19640\n",
      "2         F3      0.002223      2.84600\n",
      "3     ZNF806      0.002767     -1.27875\n",
      "4     CYP4X1      0.004203     -2.57075 \n",
      "\n"
     ]
    }
   ],
   "source": [
    "import warnings\n",
    "warnings.filterwarnings('ignore')\n",
    "\n",
    "gene = 'KRAS'\n",
    "merged_dfs = {}\n",
    "\n",
    "# Uncomment to choose a get interacting function\n",
    "prot_list = all_prot # List of all proteins\n",
    "#prot_list = get_all_interacting_proteins(gene, 100)\n",
    "#prot_list = list(u.get_interacting_proteins_bioplex(gene))\n",
    "#prot_list = list(u.get_interacting_proteins_wikipathways(gene))\n",
    "#prot_list = list(u.get_interacting_proteins_string(gene, num_results=1000))\n",
    "\n",
    "#prot_list = list(u.get_interacting_proteins_biogrid(gene, num_results=4000)) # recommended\n",
    "print('Interacting genes:', len(prot_list))\n",
    "\n",
    "for cancer in cancer_objects:\n",
    "    print(cancer) \n",
    "    \n",
    "    # Format df for t-test\n",
    "    mut_wt = all_prot_format_df(cancer_objects[cancer], prot_list)\n",
    "    col_before = len(mut_wt.columns) - 2\n",
    "    mut_wt = mut_wt.dropna(axis = 'columns', how = 'all') #drop cols with only nan \n",
    "    col_after = len(mut_wt.columns) - 2\n",
    "    print(col_before, '->', col_after, '(dropped na)')\n",
    "    \n",
    "    # Keep more pure tumors\n",
    "    purity = get_tumor_purity(cancer_objects[cancer])\n",
    "    mut_wt = mut_wt.join(purity, on = \"Patient_ID\", how = \"left\")\n",
    "    mut_wt = mut_wt.loc[mut_wt['Tumor_Purity'] > purity_cutoff[cancer]]\n",
    "    #print('cutoff:', purity_cutoff[cancer])\n",
    "    print('\\tmin tumor purity:', mut_wt.Tumor_Purity.min())\n",
    "\n",
    "    # T-test\n",
    "    cols_in = list(mut_wt.columns[:-3]) #ccc\n",
    "    print('cols tested: ', len(cols_in), '/', total_prot[cancer])\n",
    "\n",
    "    # Get all pvals\n",
    "    min_num = 20\n",
    "    all_pval = u.wrap_ttest(mut_wt, 'Mutation', cols_in, return_all = True, correction_method = 'fdr_bh', mincount = min_num)\n",
    "    all_pval = all_pval.rename(columns = {'Comparison': 'Proteomics','P_Value': cancer+'_P_Value'})\n",
    "    \n",
    "    # Get difference in medians\n",
    "    delta_median_df = get_change_in_medians_df(cancer_objects[cancer], cancer, mut_wt, cols_in)\n",
    "\n",
    "    # Merge pval_df and delta_median_df\n",
    "    pval_medians_df = all_pval.merge(delta_median_df, on='Proteomics', how='outer')\n",
    "    pval_medians_df = pval_medians_df.replace(to_replace = r'_proteomics', value = '', regex = True)\n",
    "    merged_dfs[cancer] = pval_medians_df # testing purposes\n",
    "    \n",
    "    print(pval_medians_df.head(), '\\n')"
   ]
  },
  {
   "cell_type": "markdown",
   "metadata": {},
   "source": [
    "# Get number of significant genes in each cancer"
   ]
  },
  {
   "cell_type": "code",
   "execution_count": 15,
   "metadata": {},
   "outputs": [
    {
     "name": "stdout",
     "output_type": "stream",
     "text": [
      "Endo sig comparisons: 5\n",
      "Colon sig comparisons: 0\n",
      "Luad sig comparisons: 96\n",
      "\n",
      "Number of significant comparisons in at least 1 cancer: 101\n"
     ]
    }
   ],
   "source": [
    "# Using corrected pvals from wrap_ttest, each cancer's cutoff is 0.05\n",
    "all_sig = []\n",
    "\n",
    "for cancer in merged_dfs:\n",
    "    df = merged_dfs[cancer]\n",
    "    sig_df = df.loc[df[cancer+'_P_Value'] < 0.05]\n",
    "    print(cancer, 'sig comparisons:', len(sig_df))\n",
    "    sig_list = list(sig_df['Proteomics'])\n",
    "    all_sig.append(sig_list)\n",
    "        \n",
    "\n",
    "flat_list = [item for sublist in all_sig for item in sublist] #change list of lists, to just one list\n",
    "sig = list(set(flat_list)) # keep only one if gene in multiple cancer sig lists\n",
    "print('\\nNumber of significant comparisons in at least 1 cancer:', len(sig))"
   ]
  },
  {
   "cell_type": "code",
   "execution_count": 16,
   "metadata": {},
   "outputs": [
    {
     "name": "stdout",
     "output_type": "stream",
     "text": [
      "Number of significant genes in mult cancers: 0\n"
     ]
    }
   ],
   "source": [
    "# sig in multiple cancers\n",
    "mult = list(set(i for i in flat_list if flat_list.count(i) > 1)) # Keep genes sig in more than 1 cancer\n",
    "print('Number of significant genes in mult cancers:', len(mult))"
   ]
  },
  {
   "cell_type": "code",
   "execution_count": 17,
   "metadata": {},
   "outputs": [
    {
     "data": {
      "text/html": [
       "<div>\n",
       "<style scoped>\n",
       "    .dataframe tbody tr th:only-of-type {\n",
       "        vertical-align: middle;\n",
       "    }\n",
       "\n",
       "    .dataframe tbody tr th {\n",
       "        vertical-align: top;\n",
       "    }\n",
       "\n",
       "    .dataframe thead th {\n",
       "        text-align: right;\n",
       "    }\n",
       "</style>\n",
       "<table border=\"1\" class=\"dataframe\">\n",
       "  <thead>\n",
       "    <tr style=\"text-align: right;\">\n",
       "      <th></th>\n",
       "      <th>Proteomics</th>\n",
       "      <th>Endo_P_Value</th>\n",
       "      <th>Endo_Median</th>\n",
       "    </tr>\n",
       "  </thead>\n",
       "  <tbody>\n",
       "    <tr>\n",
       "      <th>0</th>\n",
       "      <td>SPRY1</td>\n",
       "      <td>0.001409</td>\n",
       "      <td>0.8869</td>\n",
       "    </tr>\n",
       "    <tr>\n",
       "      <th>1</th>\n",
       "      <td>ZFYVE19</td>\n",
       "      <td>0.020195</td>\n",
       "      <td>0.3360</td>\n",
       "    </tr>\n",
       "    <tr>\n",
       "      <th>2</th>\n",
       "      <td>MUC5B</td>\n",
       "      <td>0.032320</td>\n",
       "      <td>2.0780</td>\n",
       "    </tr>\n",
       "    <tr>\n",
       "      <th>3</th>\n",
       "      <td>FSTL1</td>\n",
       "      <td>0.035622</td>\n",
       "      <td>0.9610</td>\n",
       "    </tr>\n",
       "    <tr>\n",
       "      <th>4</th>\n",
       "      <td>CDC42SE2</td>\n",
       "      <td>0.035622</td>\n",
       "      <td>0.4850</td>\n",
       "    </tr>\n",
       "  </tbody>\n",
       "</table>\n",
       "</div>"
      ],
      "text/plain": [
       "  Proteomics  Endo_P_Value  Endo_Median\n",
       "0      SPRY1      0.001409       0.8869\n",
       "1    ZFYVE19      0.020195       0.3360\n",
       "2      MUC5B      0.032320       2.0780\n",
       "3      FSTL1      0.035622       0.9610\n",
       "4   CDC42SE2      0.035622       0.4850"
      ]
     },
     "execution_count": 17,
     "metadata": {},
     "output_type": "execute_result"
    }
   ],
   "source": [
    "ca = 'Endo'\n",
    "df = merged_dfs[ca]\n",
    "df.loc[df[ca+'_P_Value'] < 0.05]"
   ]
  },
  {
   "cell_type": "code",
   "execution_count": 21,
   "metadata": {},
   "outputs": [],
   "source": [
    "ca = 'Luad'\n",
    "df = merged_dfs[ca]\n",
    "l_sig = df.loc[df[ca+'_P_Value'] < 0.05]\n",
    "l_sig_list = list(l_sig.Proteomics)"
   ]
  },
  {
   "cell_type": "code",
   "execution_count": 27,
   "metadata": {},
   "outputs": [],
   "source": [
    "prot_enr = gp.enrichr(gene_list = l_sig_list, description='Tumor_partition', gene_sets='Reactome_2016', \n",
    "                       outdir='/Enrichr')"
   ]
  },
  {
   "cell_type": "code",
   "execution_count": 28,
   "metadata": {},
   "outputs": [
    {
     "data": {
      "text/html": [
       "<div>\n",
       "<style scoped>\n",
       "    .dataframe tbody tr th:only-of-type {\n",
       "        vertical-align: middle;\n",
       "    }\n",
       "\n",
       "    .dataframe tbody tr th {\n",
       "        vertical-align: top;\n",
       "    }\n",
       "\n",
       "    .dataframe thead th {\n",
       "        text-align: right;\n",
       "    }\n",
       "</style>\n",
       "<table border=\"1\" class=\"dataframe\">\n",
       "  <thead>\n",
       "    <tr style=\"text-align: right;\">\n",
       "      <th></th>\n",
       "      <th>Term</th>\n",
       "      <th>Overlap</th>\n",
       "      <th>P-value</th>\n",
       "      <th>Adjusted P-value</th>\n",
       "      <th>Old P-value</th>\n",
       "      <th>Old Adjusted P-value</th>\n",
       "      <th>Odds Ratio</th>\n",
       "      <th>Combined Score</th>\n",
       "      <th>Genes</th>\n",
       "      <th>Gene_set</th>\n",
       "    </tr>\n",
       "  </thead>\n",
       "  <tbody>\n",
       "    <tr>\n",
       "      <th>0</th>\n",
       "      <td>Laminin interactions Homo sapiens R-HSA-3000157</td>\n",
       "      <td>4/23</td>\n",
       "      <td>0.000004</td>\n",
       "      <td>0.006296</td>\n",
       "      <td>0</td>\n",
       "      <td>0</td>\n",
       "      <td>36.231884</td>\n",
       "      <td>449.306498</td>\n",
       "      <td>ITGB1;LAMB3;LAMA4;LAMB1</td>\n",
       "      <td>Reactome_2016</td>\n",
       "    </tr>\n",
       "    <tr>\n",
       "      <th>1</th>\n",
       "      <td>Non-integrin membrane-ECM interactions Homo sa...</td>\n",
       "      <td>4/42</td>\n",
       "      <td>0.000049</td>\n",
       "      <td>0.037109</td>\n",
       "      <td>0</td>\n",
       "      <td>0</td>\n",
       "      <td>19.841270</td>\n",
       "      <td>197.098815</td>\n",
       "      <td>ITGB1;LAMB3;LAMA4;LAMB1</td>\n",
       "      <td>Reactome_2016</td>\n",
       "    </tr>\n",
       "    <tr>\n",
       "      <th>2</th>\n",
       "      <td>Cell surface interactions at the vascular wall...</td>\n",
       "      <td>5/101</td>\n",
       "      <td>0.000126</td>\n",
       "      <td>0.064400</td>\n",
       "      <td>0</td>\n",
       "      <td>0</td>\n",
       "      <td>10.313531</td>\n",
       "      <td>92.585135</td>\n",
       "      <td>ITGB1;CD74;GRB7;MMP1;TREM1</td>\n",
       "      <td>Reactome_2016</td>\n",
       "    </tr>\n",
       "    <tr>\n",
       "      <th>3</th>\n",
       "      <td>IRS activation Homo sapiens R-HSA-74713</td>\n",
       "      <td>2/5</td>\n",
       "      <td>0.000226</td>\n",
       "      <td>0.086394</td>\n",
       "      <td>0</td>\n",
       "      <td>0</td>\n",
       "      <td>83.333333</td>\n",
       "      <td>699.630099</td>\n",
       "      <td>IRS1;IRS2</td>\n",
       "      <td>Reactome_2016</td>\n",
       "    </tr>\n",
       "    <tr>\n",
       "      <th>4</th>\n",
       "      <td>PI3K Cascade Homo sapiens R-HSA-109704</td>\n",
       "      <td>4/79</td>\n",
       "      <td>0.000569</td>\n",
       "      <td>0.173999</td>\n",
       "      <td>0</td>\n",
       "      <td>0</td>\n",
       "      <td>10.548523</td>\n",
       "      <td>78.821658</td>\n",
       "      <td>EEF2K;IRS1;GAB1;IRS2</td>\n",
       "      <td>Reactome_2016</td>\n",
       "    </tr>\n",
       "  </tbody>\n",
       "</table>\n",
       "</div>"
      ],
      "text/plain": [
       "                                                Term Overlap   P-value  \\\n",
       "0    Laminin interactions Homo sapiens R-HSA-3000157    4/23  0.000004   \n",
       "1  Non-integrin membrane-ECM interactions Homo sa...    4/42  0.000049   \n",
       "2  Cell surface interactions at the vascular wall...   5/101  0.000126   \n",
       "3            IRS activation Homo sapiens R-HSA-74713     2/5  0.000226   \n",
       "4             PI3K Cascade Homo sapiens R-HSA-109704    4/79  0.000569   \n",
       "\n",
       "   Adjusted P-value  Old P-value  Old Adjusted P-value  Odds Ratio  \\\n",
       "0          0.006296            0                     0   36.231884   \n",
       "1          0.037109            0                     0   19.841270   \n",
       "2          0.064400            0                     0   10.313531   \n",
       "3          0.086394            0                     0   83.333333   \n",
       "4          0.173999            0                     0   10.548523   \n",
       "\n",
       "   Combined Score                       Genes       Gene_set  \n",
       "0      449.306498     ITGB1;LAMB3;LAMA4;LAMB1  Reactome_2016  \n",
       "1      197.098815     ITGB1;LAMB3;LAMA4;LAMB1  Reactome_2016  \n",
       "2       92.585135  ITGB1;CD74;GRB7;MMP1;TREM1  Reactome_2016  \n",
       "3      699.630099                   IRS1;IRS2  Reactome_2016  \n",
       "4       78.821658        EEF2K;IRS1;GAB1;IRS2  Reactome_2016  "
      ]
     },
     "execution_count": 28,
     "metadata": {},
     "output_type": "execute_result"
    }
   ],
   "source": [
    "prot_enr.res2d.head()"
   ]
  },
  {
   "cell_type": "code",
   "execution_count": null,
   "metadata": {},
   "outputs": [],
   "source": []
  }
 ],
 "metadata": {
  "kernelspec": {
   "display_name": "Python 3",
   "language": "python",
   "name": "python3"
  },
  "language_info": {
   "codemirror_mode": {
    "name": "ipython",
    "version": 3
   },
   "file_extension": ".py",
   "mimetype": "text/x-python",
   "name": "python",
   "nbconvert_exporter": "python",
   "pygments_lexer": "ipython3",
   "version": "3.7.3"
  }
 },
 "nbformat": 4,
 "nbformat_minor": 2
}
