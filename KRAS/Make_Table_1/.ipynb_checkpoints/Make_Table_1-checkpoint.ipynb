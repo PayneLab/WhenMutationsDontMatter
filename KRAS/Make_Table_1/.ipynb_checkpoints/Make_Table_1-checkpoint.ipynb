{
 "cells": [
  {
   "cell_type": "markdown",
   "metadata": {},
   "source": [
    "# Make PIK3CA hotspot table"
   ]
  },
  {
   "cell_type": "code",
   "execution_count": 1,
   "metadata": {},
   "outputs": [
    {
     "name": "stderr",
     "output_type": "stream",
     "text": [
      "/Users/Lindsey/anaconda3/lib/python3.7/site-packages/statsmodels/tools/_testing.py:19: FutureWarning: pandas.util.testing is deprecated. Use the functions in the public API at pandas.testing instead.\n",
      "  import pandas.util.testing as tm\n"
     ]
    }
   ],
   "source": [
    "import cptac\n",
    "import cptac.utils as u\n",
    "import seaborn as sns\n",
    "import matplotlib.pyplot as plt\n",
    "import pandas as pd\n",
    "\n",
    "import pandas.util.testing as tm"
   ]
  },
  {
   "cell_type": "markdown",
   "metadata": {},
   "source": [
    "# Load Cptac dfs"
   ]
  },
  {
   "cell_type": "code",
   "execution_count": 2,
   "metadata": {},
   "outputs": [
    {
     "name": "stdout",
     "output_type": "stream",
     "text": [
      "                                                \r"
     ]
    }
   ],
   "source": [
    "en = cptac.Endometrial()\n",
    "col = cptac.Colon()\n",
    "br = cptac.Brca()"
   ]
  },
  {
   "cell_type": "code",
   "execution_count": 6,
   "metadata": {},
   "outputs": [],
   "source": [
    "#use get_somatic mutation not get genotype due to priority order for gen_genotype_all_vars\n",
    "'''\n",
    "This function takes a cptac cancer object and returns a df with the PIK3CA hotspot mutations counts.\n",
    "@Param cptac_cancer: cptac cancer object\n",
    "@Param cancer_name: string of cancer type for column label\n",
    "'''\n",
    "def makeHotspotTable(cptac_cancer, cancer_name):\n",
    "\n",
    "    mutation_df = cptac_cancer.get_somatic_mutation() # get mutation data\n",
    "    pik3ca = mutation_df.loc[mutation_df['Gene'] == \"PIK3CA\"] # only for PIK3CA\n",
    "    pik3ca = pik3ca.replace(r'p.', \"\", regex = True)\n",
    "    hotspots = pik3ca.groupby('Location').count()\n",
    "    #get only hotspot mutations\n",
    "    hotspot = hotspots[(hotspots.index.str.contains('E542K') | hotspots.index.str.contains('E545K') |hotspots.index.str.contains('H1047R'))]\n",
    "    hotspot = hotspot.rename(columns={\"Mutation\": \"Number of Mutations \" + cancer_name})\n",
    "    hotspot = hotspot[[\"Number of Mutations \" + cancer_name]]\n",
    "    return hotspot"
   ]
  },
  {
   "cell_type": "markdown",
   "metadata": {},
   "source": [
    "Use fu"
   ]
  },
  {
   "cell_type": "code",
   "execution_count": 10,
   "metadata": {},
   "outputs": [],
   "source": [
    "endo_df = makeHotspotTable(en, \"Endometrial\")\n",
    "col_df = makeHotspotTable(col, \"Colon\")\n",
    "br_df = makeHotspotTable(br, \"Breast\")"
   ]
  },
  {
   "cell_type": "code",
   "execution_count": 11,
   "metadata": {},
   "outputs": [
    {
     "data": {
      "text/html": [
       "<div>\n",
       "<style scoped>\n",
       "    .dataframe tbody tr th:only-of-type {\n",
       "        vertical-align: middle;\n",
       "    }\n",
       "\n",
       "    .dataframe tbody tr th {\n",
       "        vertical-align: top;\n",
       "    }\n",
       "\n",
       "    .dataframe thead th {\n",
       "        text-align: right;\n",
       "    }\n",
       "</style>\n",
       "<table border=\"1\" class=\"dataframe\">\n",
       "  <thead>\n",
       "    <tr style=\"text-align: right;\">\n",
       "      <th>Name</th>\n",
       "      <th>Number of Mutations Endometrial</th>\n",
       "      <th>Number of Mutations Colon</th>\n",
       "      <th>Number of Mutations Breast</th>\n",
       "    </tr>\n",
       "    <tr>\n",
       "      <th>Location</th>\n",
       "      <th></th>\n",
       "      <th></th>\n",
       "      <th></th>\n",
       "    </tr>\n",
       "  </thead>\n",
       "  <tbody>\n",
       "    <tr>\n",
       "      <th>E542K</th>\n",
       "      <td>4</td>\n",
       "      <td>1</td>\n",
       "      <td>1</td>\n",
       "    </tr>\n",
       "    <tr>\n",
       "      <th>E545K</th>\n",
       "      <td>9</td>\n",
       "      <td>5</td>\n",
       "      <td>4</td>\n",
       "    </tr>\n",
       "    <tr>\n",
       "      <th>H1047R</th>\n",
       "      <td>4</td>\n",
       "      <td>4</td>\n",
       "      <td>15</td>\n",
       "    </tr>\n",
       "  </tbody>\n",
       "</table>\n",
       "</div>"
      ],
      "text/plain": [
       "Name      Number of Mutations Endometrial  Number of Mutations Colon  \\\n",
       "Location                                                               \n",
       "E542K                                   4                          1   \n",
       "E545K                                   9                          5   \n",
       "H1047R                                  4                          4   \n",
       "\n",
       "Name      Number of Mutations Breast  \n",
       "Location                              \n",
       "E542K                              1  \n",
       "E545K                              4  \n",
       "H1047R                            15  "
      ]
     },
     "execution_count": 11,
     "metadata": {},
     "output_type": "execute_result"
    }
   ],
   "source": [
    "hotspot_table = endo_df.merge(col_df, on = \"Location\", how = \"outer\")\n",
    "hotspot_table = hotspot_table.merge(br_df, on = \"Location\", how = \"outer\")\n",
    "hotspot_table"
   ]
  },
  {
   "cell_type": "code",
   "execution_count": null,
   "metadata": {},
   "outputs": [],
   "source": [
    "hotspot_table.to_csv('PIK3CA_hotspot_table.csv')"
   ]
  }
 ],
 "metadata": {
  "kernelspec": {
   "display_name": "Python 3",
   "language": "python",
   "name": "python3"
  },
  "language_info": {
   "codemirror_mode": {
    "name": "ipython",
    "version": 3
   },
   "file_extension": ".py",
   "mimetype": "text/x-python",
   "name": "python",
   "nbconvert_exporter": "python",
   "pygments_lexer": "ipython3",
   "version": "3.7.3"
  }
 },
 "nbformat": 4,
 "nbformat_minor": 2
}
