{
 "cells": [
  {
   "cell_type": "markdown",
   "metadata": {},
   "source": [
    "# Make KRAS hotspot table"
   ]
  },
  {
   "cell_type": "code",
   "execution_count": 1,
   "metadata": {},
   "outputs": [],
   "source": [
    "import cptac\n",
    "import cptac.utils as u\n",
    "import seaborn as sns\n",
    "import matplotlib.pyplot as plt\n",
    "import pandas as pd"
   ]
  },
  {
   "cell_type": "markdown",
   "metadata": {},
   "source": [
    "# Load cptac datasets"
   ]
  },
  {
   "cell_type": "code",
   "execution_count": 2,
   "metadata": {},
   "outputs": [
    {
     "name": "stdout",
     "output_type": "stream",
     "text": [
      "                                                \r"
     ]
    }
   ],
   "source": [
    "en = cptac.Endometrial()\n",
    "col = cptac.Colon()\n",
    "l = cptac.Luad()"
   ]
  },
  {
   "cell_type": "code",
   "execution_count": 3,
   "metadata": {},
   "outputs": [],
   "source": [
    "#use get_somatic mutation not get genotype due to priority order for gen_genotype_all_vars\n",
    "'''\n",
    "This function takes a cptac cancer object and returns a df with the PIK3CA hotspot mutations counts.\n",
    "@Param cptac_cancer: cptac cancer object\n",
    "@Param cancer_name: string of cancer type for column label\n",
    "'''\n",
    "def makeHotspotTable(cptac_cancer, cancer_name):\n",
    "\n",
    "    mutation_df = cptac_cancer.get_somatic_mutation() # get mutation data\n",
    "    gene_df = mutation_df.loc[mutation_df['Gene'] == \"KRAS\"] # only for KRAS\n",
    "    gene_df = gene_df.replace(r'p.', \"\", regex = True)\n",
    "    #gene_df['Location'] = [','.join(map(str, l)) for l in gene_df['Location']] # combines if multiple Ex: G12C,G13E\n",
    "    counts = gene_df.groupby('Location').count()\n",
    "    \n",
    "    #get only hotspot mutations #'G12', 'G13', 'Q61\n",
    "    hotspots = ['G12', 'G13', 'Q61', 'No_mutation']\n",
    "    hotspot_df = pd.DataFrame()\n",
    "    for site in hotspots:\n",
    "        df = counts[counts.index.str.contains(site, regex= True, na=False)]\n",
    "        hotspot_df = hotspot_df.append(df)\n",
    "\n",
    "    hotspot_df = hotspot_df.rename(columns={\"Mutation\": \"Num_Mutations_\" + cancer_name})\n",
    "    hotspot_df = hotspot_df[[\"Num_Mutations_\" + cancer_name]]\n",
    "    return hotspot_df"
   ]
  },
  {
   "cell_type": "markdown",
   "metadata": {},
   "source": [
    "Use fu"
   ]
  },
  {
   "cell_type": "code",
   "execution_count": 4,
   "metadata": {},
   "outputs": [],
   "source": [
    "endo_df = makeHotspotTable(en, \"EC\") # endometrial\n",
    "col_df = makeHotspotTable(col, \"CO\") # colon\n",
    "br_df = makeHotspotTable(l, \"LUAD\")"
   ]
  },
  {
   "cell_type": "code",
   "execution_count": 5,
   "metadata": {},
   "outputs": [
    {
     "data": {
      "text/html": [
       "<div>\n",
       "<style scoped>\n",
       "    .dataframe tbody tr th:only-of-type {\n",
       "        vertical-align: middle;\n",
       "    }\n",
       "\n",
       "    .dataframe tbody tr th {\n",
       "        vertical-align: top;\n",
       "    }\n",
       "\n",
       "    .dataframe thead th {\n",
       "        text-align: right;\n",
       "    }\n",
       "</style>\n",
       "<table border=\"1\" class=\"dataframe\">\n",
       "  <thead>\n",
       "    <tr style=\"text-align: right;\">\n",
       "      <th>Name</th>\n",
       "      <th>Location</th>\n",
       "      <th>Num_Mutations_EC</th>\n",
       "      <th>Num_Mutations_CO</th>\n",
       "      <th>Num_Mutations_LUAD</th>\n",
       "    </tr>\n",
       "  </thead>\n",
       "  <tbody>\n",
       "    <tr>\n",
       "      <th>G12A</th>\n",
       "      <td>G12A</td>\n",
       "      <td>1.0</td>\n",
       "      <td>0.0</td>\n",
       "      <td>1.0</td>\n",
       "    </tr>\n",
       "    <tr>\n",
       "      <th>G12C</th>\n",
       "      <td>G12C</td>\n",
       "      <td>4.0</td>\n",
       "      <td>2.0</td>\n",
       "      <td>16.0</td>\n",
       "    </tr>\n",
       "    <tr>\n",
       "      <th>G12D</th>\n",
       "      <td>G12D</td>\n",
       "      <td>6.0</td>\n",
       "      <td>11.0</td>\n",
       "      <td>6.0</td>\n",
       "    </tr>\n",
       "    <tr>\n",
       "      <th>G12S</th>\n",
       "      <td>G12S</td>\n",
       "      <td>1.0</td>\n",
       "      <td>0.0</td>\n",
       "      <td>2.0</td>\n",
       "    </tr>\n",
       "    <tr>\n",
       "      <th>G12V</th>\n",
       "      <td>G12V</td>\n",
       "      <td>10.0</td>\n",
       "      <td>7.0</td>\n",
       "      <td>5.0</td>\n",
       "    </tr>\n",
       "    <tr>\n",
       "      <th>G13D</th>\n",
       "      <td>G13D</td>\n",
       "      <td>7.0</td>\n",
       "      <td>4.0</td>\n",
       "      <td>0.0</td>\n",
       "    </tr>\n",
       "    <tr>\n",
       "      <th>Q61H</th>\n",
       "      <td>Q61H</td>\n",
       "      <td>1.0</td>\n",
       "      <td>2.0</td>\n",
       "      <td>1.0</td>\n",
       "    </tr>\n",
       "    <tr>\n",
       "      <th>NaN</th>\n",
       "      <td>Q61L</td>\n",
       "      <td>0.0</td>\n",
       "      <td>1.0</td>\n",
       "      <td>0.0</td>\n",
       "    </tr>\n",
       "    <tr>\n",
       "      <th>NaN</th>\n",
       "      <td>G13C</td>\n",
       "      <td>0.0</td>\n",
       "      <td>0.0</td>\n",
       "      <td>2.0</td>\n",
       "    </tr>\n",
       "  </tbody>\n",
       "</table>\n",
       "</div>"
      ],
      "text/plain": [
       "Name Location  Num_Mutations_EC  Num_Mutations_CO  Num_Mutations_LUAD\n",
       "G12A     G12A               1.0               0.0                 1.0\n",
       "G12C     G12C               4.0               2.0                16.0\n",
       "G12D     G12D               6.0              11.0                 6.0\n",
       "G12S     G12S               1.0               0.0                 2.0\n",
       "G12V     G12V              10.0               7.0                 5.0\n",
       "G13D     G13D               7.0               4.0                 0.0\n",
       "Q61H     Q61H               1.0               2.0                 1.0\n",
       "NaN      Q61L               0.0               1.0                 0.0\n",
       "NaN      G13C               0.0               0.0                 2.0"
      ]
     },
     "execution_count": 5,
     "metadata": {},
     "output_type": "execute_result"
    }
   ],
   "source": [
    "hotspot_table = endo_df.join(col_df, on = \"Location\", how = \"outer\")\n",
    "hotspot_table = hotspot_table.join(br_df, on = \"Location\", how = \"outer\")\n",
    "hotspot_table = hotspot_table.fillna(0)\n",
    "hotspot_table"
   ]
  },
  {
   "cell_type": "code",
   "execution_count": 6,
   "metadata": {},
   "outputs": [],
   "source": [
    "hotspot_table.to_csv('Table_1_KRAS_hotspot.csv', index=False)"
   ]
  },
  {
   "cell_type": "code",
   "execution_count": null,
   "metadata": {},
   "outputs": [],
   "source": []
  }
 ],
 "metadata": {
  "kernelspec": {
   "display_name": "Python 3",
   "language": "python",
   "name": "python3"
  },
  "language_info": {
   "codemirror_mode": {
    "name": "ipython",
    "version": 3
   },
   "file_extension": ".py",
   "mimetype": "text/x-python",
   "name": "python",
   "nbconvert_exporter": "python",
   "pygments_lexer": "ipython3",
   "version": "3.7.3"
  }
 },
 "nbformat": 4,
 "nbformat_minor": 2
}
