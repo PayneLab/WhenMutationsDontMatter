{
 "cells": [
  {
   "cell_type": "markdown",
   "metadata": {},
   "source": [
    "# Phosphoproteomics GSEA"
   ]
  },
  {
   "cell_type": "code",
   "execution_count": 1,
   "metadata": {},
   "outputs": [
    {
     "name": "stderr",
     "output_type": "stream",
     "text": [
      "cptac warning: Your version of cptac (0.8.2) is out-of-date. Latest is 0.8.3. Please run 'pip install --upgrade cptac' to update it. (C:\\Users\\brittany henderson\\Anaconda3\\envs\\Research\\lib\\site-packages\\ipykernel_launcher.py, line 10)\n"
     ]
    }
   ],
   "source": [
    "import pandas as pd\n",
    "import numpy as np\n",
    "import seaborn as sns\n",
    "import matplotlib.pyplot as plt\n",
    "import scipy.stats\n",
    "import gseapy as gp\n",
    "import re\n",
    "import sys \n",
    "\n",
    "import cptac\n",
    "import cptac.utils as u\n",
    "import plot_utils as p"
   ]
  },
  {
   "cell_type": "markdown",
   "metadata": {},
   "source": [
    "# All phospho"
   ]
  },
  {
   "cell_type": "code",
   "execution_count": 10,
   "metadata": {},
   "outputs": [
    {
     "data": {
      "text/html": [
       "<div>\n",
       "<style scoped>\n",
       "    .dataframe tbody tr th:only-of-type {\n",
       "        vertical-align: middle;\n",
       "    }\n",
       "\n",
       "    .dataframe tbody tr th {\n",
       "        vertical-align: top;\n",
       "    }\n",
       "\n",
       "    .dataframe thead th {\n",
       "        text-align: right;\n",
       "    }\n",
       "</style>\n",
       "<table border=\"1\" class=\"dataframe\">\n",
       "  <thead>\n",
       "    <tr style=\"text-align: right;\">\n",
       "      <th></th>\n",
       "      <th>Phosphoproteomics</th>\n",
       "      <th>Endo_P_Value</th>\n",
       "    </tr>\n",
       "  </thead>\n",
       "  <tbody>\n",
       "    <tr>\n",
       "      <th>3</th>\n",
       "      <td>DNMBP_S1436</td>\n",
       "      <td>0.032428</td>\n",
       "    </tr>\n",
       "    <tr>\n",
       "      <th>5</th>\n",
       "      <td>SOS1_S1161</td>\n",
       "      <td>0.038216</td>\n",
       "    </tr>\n",
       "    <tr>\n",
       "      <th>46</th>\n",
       "      <td>PARP4_S1186</td>\n",
       "      <td>0.018401</td>\n",
       "    </tr>\n",
       "    <tr>\n",
       "      <th>117</th>\n",
       "      <td>MCF2L_S588</td>\n",
       "      <td>0.000503</td>\n",
       "    </tr>\n",
       "    <tr>\n",
       "      <th>133</th>\n",
       "      <td>KIAA1217_S1568</td>\n",
       "      <td>0.028048</td>\n",
       "    </tr>\n",
       "    <tr>\n",
       "      <th>...</th>\n",
       "      <td>...</td>\n",
       "      <td>...</td>\n",
       "    </tr>\n",
       "    <tr>\n",
       "      <th>39964</th>\n",
       "      <td>RNF10_S128</td>\n",
       "      <td>0.049717</td>\n",
       "    </tr>\n",
       "    <tr>\n",
       "      <th>39965</th>\n",
       "      <td>EHBP1_Y888</td>\n",
       "      <td>0.049717</td>\n",
       "    </tr>\n",
       "    <tr>\n",
       "      <th>39966</th>\n",
       "      <td>SP110_T271</td>\n",
       "      <td>0.049717</td>\n",
       "    </tr>\n",
       "    <tr>\n",
       "      <th>39967</th>\n",
       "      <td>LRBA_S1736</td>\n",
       "      <td>0.049717</td>\n",
       "    </tr>\n",
       "    <tr>\n",
       "      <th>39968</th>\n",
       "      <td>TJP3_S115</td>\n",
       "      <td>0.049717</td>\n",
       "    </tr>\n",
       "  </tbody>\n",
       "</table>\n",
       "<p>679 rows × 2 columns</p>\n",
       "</div>"
      ],
      "text/plain": [
       "      Phosphoproteomics  Endo_P_Value\n",
       "3           DNMBP_S1436      0.032428\n",
       "5            SOS1_S1161      0.038216\n",
       "46          PARP4_S1186      0.018401\n",
       "117          MCF2L_S588      0.000503\n",
       "133      KIAA1217_S1568      0.028048\n",
       "...                 ...           ...\n",
       "39964        RNF10_S128      0.049717\n",
       "39965        EHBP1_Y888      0.049717\n",
       "39966        SP110_T271      0.049717\n",
       "39967        LRBA_S1736      0.049717\n",
       "39968         TJP3_S115      0.049717\n",
       "\n",
       "[679 rows x 2 columns]"
      ]
     },
     "execution_count": 10,
     "metadata": {},
     "output_type": "execute_result"
    }
   ],
   "source": [
    "df = pd.read_csv('Make_Tables/csv/all_phospho.csv')\n",
    "\n",
    "luad_df = df[['Phosphoproteomics','Luad_P_Value']]\n",
    "sig_luad = luad_df.loc[luad_df['Luad_P_Value'] < 0.05]\n",
    "e_df = df[['Phosphoproteomics', 'Endo_P_Value']]\n",
    "sig_endo = e_df.loc[e_df['Endo_P_Value'] < 0.05]\n",
    "sig_endo"
   ]
  },
  {
   "cell_type": "code",
   "execution_count": 15,
   "metadata": {},
   "outputs": [
    {
     "name": "stderr",
     "output_type": "stream",
     "text": [
      "C:\\Users\\brittany henderson\\Anaconda3\\envs\\Research\\lib\\site-packages\\ipykernel_launcher.py:6: SettingWithCopyWarning: \n",
      "A value is trying to be set on a copy of a slice from a DataFrame.\n",
      "Try using .loc[row_indexer,col_indexer] = value instead\n",
      "\n",
      "See the caveats in the documentation: https://pandas.pydata.org/pandas-docs/stable/user_guide/indexing.html#returning-a-view-versus-a-copy\n",
      "  \n",
      "C:\\Users\\brittany henderson\\Anaconda3\\envs\\Research\\lib\\site-packages\\ipykernel_launcher.py:7: SettingWithCopyWarning: \n",
      "A value is trying to be set on a copy of a slice from a DataFrame.\n",
      "Try using .loc[row_indexer,col_indexer] = value instead\n",
      "\n",
      "See the caveats in the documentation: https://pandas.pydata.org/pandas-docs/stable/user_guide/indexing.html#returning-a-view-versus-a-copy\n",
      "  import sys\n"
     ]
    }
   ],
   "source": [
    "# Get list of just proteins\n",
    "cancer_dfs = {'Luad': sig_luad, 'Endo': sig_endo}\n",
    "cancer_prot_list = {}\n",
    "for cancer in cancer_dfs:\n",
    "    df = cancer_dfs[cancer]\n",
    "    df['Gene'] = df['Phosphoproteomics']\n",
    "    df['Gene'] = df['Gene'].replace(r'(_[\\w][\\d]*[\\w]?[\\d]*[\\w]?[\\d]*)*$', '', regex=True)\n",
    "    prot_list = list(df.Gene.unique()) \n",
    "    cancer_prot_list[cancer] = prot_list"
   ]
  },
  {
   "cell_type": "code",
   "execution_count": 17,
   "metadata": {},
   "outputs": [
    {
     "data": {
      "text/plain": [
       "327"
      ]
     },
     "execution_count": 17,
     "metadata": {},
     "output_type": "execute_result"
    }
   ],
   "source": [
    "len(cancer_prot_list['Luad'])"
   ]
  },
  {
   "cell_type": "code",
   "execution_count": 20,
   "metadata": {},
   "outputs": [],
   "source": [
    "#cancer = 'Luad'\n",
    "cancer = 'Endo'\n",
    "\n",
    "prot_enr = gp.enrichr(gene_list = cancer_prot_list[cancer], description='Tumor_partition', gene_sets='Reactome_2016', \n",
    "                       outdir='/Enrichr')"
   ]
  },
  {
   "cell_type": "code",
   "execution_count": 23,
   "metadata": {},
   "outputs": [],
   "source": [
    "test = ['WAS','DOCK2','ELMO1']\n",
    "prot_enr = gp.enrichr(gene_list = test, description='Tumor_partition', gene_sets='Reactome_2016', \n",
    "                       outdir='/Enrichr')"
   ]
  },
  {
   "cell_type": "code",
   "execution_count": 21,
   "metadata": {},
   "outputs": [
    {
     "data": {
      "text/html": [
       "<div>\n",
       "<style scoped>\n",
       "    .dataframe tbody tr th:only-of-type {\n",
       "        vertical-align: middle;\n",
       "    }\n",
       "\n",
       "    .dataframe tbody tr th {\n",
       "        vertical-align: top;\n",
       "    }\n",
       "\n",
       "    .dataframe thead th {\n",
       "        text-align: right;\n",
       "    }\n",
       "</style>\n",
       "<table border=\"1\" class=\"dataframe\">\n",
       "  <thead>\n",
       "    <tr style=\"text-align: right;\">\n",
       "      <th></th>\n",
       "      <th>Term</th>\n",
       "      <th>Overlap</th>\n",
       "      <th>Adjusted P-value</th>\n",
       "      <th>Genes</th>\n",
       "    </tr>\n",
       "  </thead>\n",
       "  <tbody>\n",
       "    <tr>\n",
       "      <th>0</th>\n",
       "      <td>Signaling by Rho GTPases Homo sapiens R-HSA-19...</td>\n",
       "      <td>28/367</td>\n",
       "      <td>0.000059</td>\n",
       "      <td>ARHGAP5;FGD1;ARHGAP35;AKAP13;XPO1;MCF2L;ABL1;F...</td>\n",
       "    </tr>\n",
       "    <tr>\n",
       "      <th>1</th>\n",
       "      <td>Rho GTPase cycle Homo sapiens R-HSA-194840</td>\n",
       "      <td>15/122</td>\n",
       "      <td>0.000115</td>\n",
       "      <td>ARHGEF12;ARHGEF18;ARHGAP5;ARHGAP35;FGD1;VAV2;B...</td>\n",
       "    </tr>\n",
       "    <tr>\n",
       "      <th>2</th>\n",
       "      <td>NRAGE signals death through JNK Homo sapiens R...</td>\n",
       "      <td>9/45</td>\n",
       "      <td>0.000381</td>\n",
       "      <td>AKAP13;ARHGEF12;BAD;MCF2L;ARHGEF18;ARHGEF2;SOS...</td>\n",
       "    </tr>\n",
       "    <tr>\n",
       "      <th>3</th>\n",
       "      <td>Interactions of Rev with host cellular protein...</td>\n",
       "      <td>8/35</td>\n",
       "      <td>0.000404</td>\n",
       "      <td>RANBP2;NUP214;NPM1;XPO1;TPR;NUP35;NUP153;NUP98</td>\n",
       "    </tr>\n",
       "    <tr>\n",
       "      <th>4</th>\n",
       "      <td>SUMO E3 ligases SUMOylate target proteins Homo...</td>\n",
       "      <td>12/96</td>\n",
       "      <td>0.000676</td>\n",
       "      <td>NUP214;RANBP2;TOP2B;MDC1;TPR;NUP35;NUP153;NUP9...</td>\n",
       "    </tr>\n",
       "    <tr>\n",
       "      <th>5</th>\n",
       "      <td>SUMOylation Homo sapiens R-HSA-2990846</td>\n",
       "      <td>12/101</td>\n",
       "      <td>0.000969</td>\n",
       "      <td>NUP214;RANBP2;MDC1;TOP2B;TPR;NUP35;NUP153;NUP9...</td>\n",
       "    </tr>\n",
       "    <tr>\n",
       "      <th>6</th>\n",
       "      <td>NEP/NS2 Interacts with the Cellular Export Mac...</td>\n",
       "      <td>7/30</td>\n",
       "      <td>0.000955</td>\n",
       "      <td>RANBP2;NUP214;XPO1;TPR;NUP35;NUP153;NUP98</td>\n",
       "    </tr>\n",
       "  </tbody>\n",
       "</table>\n",
       "</div>"
      ],
      "text/plain": [
       "                                                Term Overlap  \\\n",
       "0  Signaling by Rho GTPases Homo sapiens R-HSA-19...  28/367   \n",
       "1         Rho GTPase cycle Homo sapiens R-HSA-194840  15/122   \n",
       "2  NRAGE signals death through JNK Homo sapiens R...    9/45   \n",
       "3  Interactions of Rev with host cellular protein...    8/35   \n",
       "4  SUMO E3 ligases SUMOylate target proteins Homo...   12/96   \n",
       "5             SUMOylation Homo sapiens R-HSA-2990846  12/101   \n",
       "6  NEP/NS2 Interacts with the Cellular Export Mac...    7/30   \n",
       "\n",
       "   Adjusted P-value                                              Genes  \n",
       "0          0.000059  ARHGAP5;FGD1;ARHGAP35;AKAP13;XPO1;MCF2L;ABL1;F...  \n",
       "1          0.000115  ARHGEF12;ARHGEF18;ARHGAP5;ARHGAP35;FGD1;VAV2;B...  \n",
       "2          0.000381  AKAP13;ARHGEF12;BAD;MCF2L;ARHGEF18;ARHGEF2;SOS...  \n",
       "3          0.000404     RANBP2;NUP214;NPM1;XPO1;TPR;NUP35;NUP153;NUP98  \n",
       "4          0.000676  NUP214;RANBP2;TOP2B;MDC1;TPR;NUP35;NUP153;NUP9...  \n",
       "5          0.000969  NUP214;RANBP2;MDC1;TOP2B;TPR;NUP35;NUP153;NUP9...  \n",
       "6          0.000955          RANBP2;NUP214;XPO1;TPR;NUP35;NUP153;NUP98  "
      ]
     },
     "execution_count": 21,
     "metadata": {},
     "output_type": "execute_result"
    }
   ],
   "source": [
    "prot_enr.res2d[['Term', 'Overlap', 'Adjusted P-value', 'Genes']].head(7)"
   ]
  },
  {
   "cell_type": "code",
   "execution_count": null,
   "metadata": {},
   "outputs": [],
   "source": []
  }
 ],
 "metadata": {
  "kernelspec": {
   "display_name": "Python 3",
   "language": "python",
   "name": "python3"
  },
  "language_info": {
   "codemirror_mode": {
    "name": "ipython",
    "version": 3
   },
   "file_extension": ".py",
   "mimetype": "text/x-python",
   "name": "python",
   "nbconvert_exporter": "python",
   "pygments_lexer": "ipython3",
   "version": "3.7.3"
  }
 },
 "nbformat": 4,
 "nbformat_minor": 2
}
