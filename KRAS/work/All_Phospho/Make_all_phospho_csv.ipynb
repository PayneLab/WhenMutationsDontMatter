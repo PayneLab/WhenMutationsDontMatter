{
 "cells": [
  {
   "cell_type": "markdown",
   "metadata": {},
   "source": [
    "# Make tables: Merge all cancer dfs and create csv files for interacting proteins"
   ]
  },
  {
   "cell_type": "markdown",
   "metadata": {},
   "source": [
    "This notebook combines dfs with p-values and differential expressions for 8 cancers. \n",
    "Description of created csv files: \n",
    "* all_proteins - contains all data in normal format, \n",
    "* all_heatmap - all data appended to make a long table for easy use with heatmap function, \n",
    "* sig_pval_heatmap - contains only significant genes (long format),"
   ]
  },
  {
   "cell_type": "markdown",
   "metadata": {},
   "source": [
    "Imports"
   ]
  },
  {
   "cell_type": "code",
   "execution_count": 1,
   "metadata": {},
   "outputs": [],
   "source": [
    "import pandas as pd\n",
    "import numpy as np\n",
    "import seaborn as sns\n",
    "import matplotlib.pyplot as plt\n",
    "import scipy.stats\n",
    "import gseapy as gp\n",
    "import re\n",
    "import sys \n",
    "\n",
    "import cptac\n",
    "import cptac.utils as u\n",
    "import plot_utils as p"
   ]
  },
  {
   "cell_type": "markdown",
   "metadata": {},
   "source": [
    "Read in the signle cancer dfs with p-values and differential expressions. Merge all dfs into one pancancer data frame."
   ]
  },
  {
   "cell_type": "code",
   "execution_count": 2,
   "metadata": {},
   "outputs": [],
   "source": [
    "l_merged = pd.read_csv('csv/Single_Cancer/LUAD_all_phospho.csv')\n",
    "e_merged = pd.read_csv('csv/Single_Cancer/EC_all_phospho.csv')\n",
    "c_merged = pd.read_csv('csv/Single_Cancer/CO_all_phospho.csv')"
   ]
  },
  {
   "cell_type": "code",
   "execution_count": 3,
   "metadata": {},
   "outputs": [
    {
     "data": {
      "text/html": [
       "<div>\n",
       "<style scoped>\n",
       "    .dataframe tbody tr th:only-of-type {\n",
       "        vertical-align: middle;\n",
       "    }\n",
       "\n",
       "    .dataframe tbody tr th {\n",
       "        vertical-align: top;\n",
       "    }\n",
       "\n",
       "    .dataframe thead th {\n",
       "        text-align: right;\n",
       "    }\n",
       "</style>\n",
       "<table border=\"1\" class=\"dataframe\">\n",
       "  <thead>\n",
       "    <tr style=\"text-align: right;\">\n",
       "      <th></th>\n",
       "      <th>Phosphoproteomics</th>\n",
       "      <th>Luad_P_Value</th>\n",
       "      <th>Luad_Median</th>\n",
       "    </tr>\n",
       "  </thead>\n",
       "  <tbody>\n",
       "    <tr>\n",
       "      <th>0</th>\n",
       "      <td>KRT8_S477</td>\n",
       "      <td>0.000079</td>\n",
       "      <td>2.82370</td>\n",
       "    </tr>\n",
       "    <tr>\n",
       "      <th>1</th>\n",
       "      <td>KRT8_S475S478</td>\n",
       "      <td>0.000079</td>\n",
       "      <td>4.51545</td>\n",
       "    </tr>\n",
       "    <tr>\n",
       "      <th>2</th>\n",
       "      <td>EEF1B2_S8</td>\n",
       "      <td>0.000079</td>\n",
       "      <td>2.11240</td>\n",
       "    </tr>\n",
       "    <tr>\n",
       "      <th>3</th>\n",
       "      <td>DNMBP_S1436</td>\n",
       "      <td>0.000244</td>\n",
       "      <td>1.63160</td>\n",
       "    </tr>\n",
       "    <tr>\n",
       "      <th>4</th>\n",
       "      <td>CTBP2_S905</td>\n",
       "      <td>0.000310</td>\n",
       "      <td>1.22980</td>\n",
       "    </tr>\n",
       "    <tr>\n",
       "      <th>...</th>\n",
       "      <td>...</td>\n",
       "      <td>...</td>\n",
       "      <td>...</td>\n",
       "    </tr>\n",
       "    <tr>\n",
       "      <th>39664</th>\n",
       "      <td>ZNF281_S864</td>\n",
       "      <td>NaN</td>\n",
       "      <td>0.07070</td>\n",
       "    </tr>\n",
       "    <tr>\n",
       "      <th>39665</th>\n",
       "      <td>ZNF462_S1747</td>\n",
       "      <td>NaN</td>\n",
       "      <td>-0.87780</td>\n",
       "    </tr>\n",
       "    <tr>\n",
       "      <th>39666</th>\n",
       "      <td>ZNF638_S1462</td>\n",
       "      <td>NaN</td>\n",
       "      <td>-1.10495</td>\n",
       "    </tr>\n",
       "    <tr>\n",
       "      <th>39667</th>\n",
       "      <td>ZNF687_S227</td>\n",
       "      <td>NaN</td>\n",
       "      <td>0.77530</td>\n",
       "    </tr>\n",
       "    <tr>\n",
       "      <th>39668</th>\n",
       "      <td>ZZEF1_T1477</td>\n",
       "      <td>NaN</td>\n",
       "      <td>0.25750</td>\n",
       "    </tr>\n",
       "  </tbody>\n",
       "</table>\n",
       "<p>39669 rows × 3 columns</p>\n",
       "</div>"
      ],
      "text/plain": [
       "      Phosphoproteomics  Luad_P_Value  Luad_Median\n",
       "0             KRT8_S477      0.000079      2.82370\n",
       "1         KRT8_S475S478      0.000079      4.51545\n",
       "2             EEF1B2_S8      0.000079      2.11240\n",
       "3           DNMBP_S1436      0.000244      1.63160\n",
       "4            CTBP2_S905      0.000310      1.22980\n",
       "...                 ...           ...          ...\n",
       "39664       ZNF281_S864           NaN      0.07070\n",
       "39665      ZNF462_S1747           NaN     -0.87780\n",
       "39666      ZNF638_S1462           NaN     -1.10495\n",
       "39667       ZNF687_S227           NaN      0.77530\n",
       "39668       ZZEF1_T1477           NaN      0.25750\n",
       "\n",
       "[39669 rows x 3 columns]"
      ]
     },
     "execution_count": 3,
     "metadata": {},
     "output_type": "execute_result"
    }
   ],
   "source": [
    "l_merged"
   ]
  },
  {
   "cell_type": "markdown",
   "metadata": {},
   "source": [
    "# Make csv of all data"
   ]
  },
  {
   "cell_type": "code",
   "execution_count": 4,
   "metadata": {},
   "outputs": [],
   "source": [
    "df1 = l_merged.merge(e_merged, on='Phosphoproteomics',how='outer')\n",
    "all_df = df1.merge(c_merged, on='Phosphoproteomics',how='outer')"
   ]
  },
  {
   "cell_type": "code",
   "execution_count": 5,
   "metadata": {},
   "outputs": [],
   "source": [
    "all_df.to_csv('csv/all_phospho.csv', index=False)"
   ]
  },
  {
   "cell_type": "markdown",
   "metadata": {},
   "source": [
    "# Make csv of data formatted to use with the HeatMap function "
   ]
  },
  {
   "cell_type": "code",
   "execution_count": 2,
   "metadata": {},
   "outputs": [
    {
     "ename": "NameError",
     "evalue": "name 'l_merged' is not defined",
     "output_type": "error",
     "traceback": [
      "\u001b[1;31m---------------------------------------------------------------------------\u001b[0m",
      "\u001b[1;31mNameError\u001b[0m                                 Traceback (most recent call last)",
      "\u001b[1;32m<ipython-input-2-1628dc38f05c>\u001b[0m in \u001b[0;36m<module>\u001b[1;34m\u001b[0m\n\u001b[0;32m      2\u001b[0m \u001b[1;33m\u001b[0m\u001b[0m\n\u001b[0;32m      3\u001b[0m \u001b[0mcancer\u001b[0m \u001b[1;33m=\u001b[0m \u001b[1;33m[\u001b[0m\u001b[1;34m'LUAD'\u001b[0m\u001b[1;33m,\u001b[0m\u001b[1;34m'EC'\u001b[0m\u001b[1;33m,\u001b[0m\u001b[1;34m'CO'\u001b[0m\u001b[1;33m]\u001b[0m\u001b[1;33m\u001b[0m\u001b[1;33m\u001b[0m\u001b[0m\n\u001b[1;32m----> 4\u001b[1;33m \u001b[0mmerged_dfs\u001b[0m \u001b[1;33m=\u001b[0m \u001b[1;33m[\u001b[0m\u001b[0ml_merged\u001b[0m\u001b[1;33m,\u001b[0m\u001b[0me_merged\u001b[0m\u001b[1;33m,\u001b[0m\u001b[0mc_merged\u001b[0m\u001b[1;33m]\u001b[0m\u001b[1;33m\u001b[0m\u001b[1;33m\u001b[0m\u001b[0m\n\u001b[0m\u001b[0;32m      5\u001b[0m \u001b[1;33m\u001b[0m\u001b[0m\n\u001b[0;32m      6\u001b[0m \u001b[0mall_long_df\u001b[0m \u001b[1;33m=\u001b[0m \u001b[0mpd\u001b[0m\u001b[1;33m.\u001b[0m\u001b[0mDataFrame\u001b[0m\u001b[1;33m(\u001b[0m\u001b[1;33m)\u001b[0m\u001b[1;33m\u001b[0m\u001b[1;33m\u001b[0m\u001b[0m\n",
      "\u001b[1;31mNameError\u001b[0m: name 'l_merged' is not defined"
     ]
    }
   ],
   "source": [
    "# Create long df for heatmap\n",
    "\n",
    "cancer = ['LUAD','EC','CO']\n",
    "merged_dfs = [l_merged,e_merged,c_merged]\n",
    "\n",
    "all_long_df = pd.DataFrame()\n",
    "i = 0\n",
    "for c in cancer:\n",
    "    m = merged_dfs[i]\n",
    "    m2 = m.assign(Cancer = c)\n",
    "    m2 = m2.rename(columns={c+'_P_Value': 'P_Value'})\n",
    "    m2 = m2.rename(columns={c+'_Median': 'Medians'})\n",
    "    all_long_df = all_long_df.append(m2) \n",
    "    if i < 7:\n",
    "        i += 1\n",
    "\n",
    "#print('Check total proteins:', len(all_long_df.Phospho.unique()))"
   ]
  },
  {
   "cell_type": "code",
   "execution_count": 1,
   "metadata": {},
   "outputs": [
    {
     "ename": "NameError",
     "evalue": "name 'all_long_df' is not defined",
     "output_type": "error",
     "traceback": [
      "\u001b[1;31m---------------------------------------------------------------------------\u001b[0m",
      "\u001b[1;31mNameError\u001b[0m                                 Traceback (most recent call last)",
      "\u001b[1;32m<ipython-input-1-9f91d5171a48>\u001b[0m in \u001b[0;36m<module>\u001b[1;34m\u001b[0m\n\u001b[1;32m----> 1\u001b[1;33m \u001b[0mall_long_df\u001b[0m\u001b[1;33m.\u001b[0m\u001b[0mto_csv\u001b[0m\u001b[1;33m(\u001b[0m\u001b[1;34m'csv/all_heatmap_phospho.csv'\u001b[0m\u001b[1;33m,\u001b[0m \u001b[0mindex\u001b[0m\u001b[1;33m=\u001b[0m\u001b[1;32mFalse\u001b[0m\u001b[1;33m)\u001b[0m\u001b[1;33m\u001b[0m\u001b[1;33m\u001b[0m\u001b[0m\n\u001b[0m",
      "\u001b[1;31mNameError\u001b[0m: name 'all_long_df' is not defined"
     ]
    }
   ],
   "source": [
    "all_long_df.to_csv('csv/all_heatmap_phospho.csv', index=False)"
   ]
  },
  {
   "cell_type": "markdown",
   "metadata": {},
   "source": [
    "# Make csv of only significant proteins (formatted for heatmap)"
   ]
  },
  {
   "cell_type": "markdown",
   "metadata": {},
   "source": [
    "Read in list_sig_in_at_least_one_cancer.csv. Convert to a list of genes significant in at least 1 cancer. Slice out genes in the list from the df with all data."
   ]
  },
  {
   "cell_type": "code",
   "execution_count": null,
   "metadata": {},
   "outputs": [],
   "source": [
    "sig = pd.read_csv('csv/list_sig_all_phospho.csv')\n",
    "list_sig = list(sig['0'])"
   ]
  },
  {
   "cell_type": "code",
   "execution_count": null,
   "metadata": {},
   "outputs": [],
   "source": [
    "# Keep genes with at least one sig ttest\n",
    "bool_df = all_long_df['Phospho'].isin(list_sig)\n",
    "sig_df = all_long_df[bool_df]\n",
    "print('Check total sig genes:', len(sig_df.Phospho.unique()))\n",
    "t = list(sig_df.Phospho)"
   ]
  },
  {
   "cell_type": "code",
   "execution_count": null,
   "metadata": {},
   "outputs": [],
   "source": [
    "sig_df.to_csv('csv/sig_pval_heatmap_phospho.csv', index=False)"
   ]
  },
  {
   "cell_type": "markdown",
   "metadata": {},
   "source": [
    "# Multiple sig "
   ]
  },
  {
   "cell_type": "code",
   "execution_count": null,
   "metadata": {},
   "outputs": [],
   "source": [
    "mult_sig = pd.read_csv('csv/list_sig_mult_all_phospho.csv')\n",
    "list_mult_sig = list(mult_sig['0'])"
   ]
  },
  {
   "cell_type": "code",
   "execution_count": null,
   "metadata": {},
   "outputs": [],
   "source": [
    "# Keep genes with at least one sig ttest\n",
    "bool_df = all_long_df['Phospho'].isin(list_mult_sig)\n",
    "mult_df = all_long_df[bool_df]\n",
    "print('Check total sig genes:', len(mult_df.Phospho.unique()))"
   ]
  },
  {
   "cell_type": "code",
   "execution_count": null,
   "metadata": {},
   "outputs": [],
   "source": [
    "mult_df.to_csv('csv/mult_sig_heatmap_phospho.csv', index=False)"
   ]
  },
  {
   "cell_type": "code",
   "execution_count": null,
   "metadata": {},
   "outputs": [],
   "source": []
  }
 ],
 "metadata": {
  "kernelspec": {
   "display_name": "Python 3",
   "language": "python",
   "name": "python3"
  },
  "language_info": {
   "codemirror_mode": {
    "name": "ipython",
    "version": 3
   },
   "file_extension": ".py",
   "mimetype": "text/x-python",
   "name": "python",
   "nbconvert_exporter": "python",
   "pygments_lexer": "ipython3",
   "version": "3.7.3"
  }
 },
 "nbformat": 4,
 "nbformat_minor": 2
}
