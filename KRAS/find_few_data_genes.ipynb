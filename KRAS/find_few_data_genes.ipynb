{
 "cells": [
  {
   "cell_type": "code",
   "execution_count": 3,
   "metadata": {},
   "outputs": [],
   "source": [
    "import pandas as pd\n",
    "import numpy as np\n",
    "import re\n",
    "\n",
    "import cptac\n",
    "import cptac.utils as u\n",
    "import plot_utils as p"
   ]
  },
  {
   "cell_type": "code",
   "execution_count": 4,
   "metadata": {},
   "outputs": [],
   "source": [
    "import warnings\n",
    "warnings.filterwarnings('ignore')"
   ]
  },
  {
   "cell_type": "code",
   "execution_count": null,
   "metadata": {},
   "outputs": [],
   "source": []
  },
  {
   "cell_type": "code",
   "execution_count": 5,
   "metadata": {},
   "outputs": [],
   "source": [
    "# Returns a dataframe with proteomics and mutation type\n",
    "\n",
    "# all_prot: list of trans genes\n",
    "\n",
    "def all_prot_format_df(cancer_object, all_prot, gene_in = 'KRAS', utils = u):\n",
    "    mut_type = cancer_object.get_genotype_all_vars(gene_in)\n",
    "    mut_type['Mutation'].where(mut_type['Mutation'] != 'Missense_Mutation', 'Missense', inplace = True) # replace when false\n",
    "    mut_type['Mutation'].where(mut_type['Mutation'] != 'nonsynonymous SNV', 'Missense', inplace = True)\n",
    "\n",
    "    # Keep only tumor samples from proteomics\n",
    "    prot_and_mutations = cancer_object.join_omics_to_mutations(\n",
    "        mutations_genes = [gene_in], omics_df_name = 'proteomics', omics_genes = all_prot, tissue_type = 'tumor')\n",
    "    # Reduce a multiindex \n",
    "    if isinstance(prot_and_mutations.keys(), pd.core.indexes.multi.MultiIndex):\n",
    "        prot_and_mutations = utils.reduce_multiindex(prot_and_mutations, levels_to_drop = 1)\n",
    "        prot_and_mutations = rename_duplicate_cols(prot_and_mutations) # make unique col names\n",
    "\n",
    "    # Keep certain missense mutations\n",
    "    prot_and_mutations['KRAS_Location'] = [','.join(map(str, l)) for l in prot_and_mutations['KRAS_Location']]\n",
    "    hotspots = ['G12', 'G13', 'Q61', 'No_mutation']\n",
    "    hotspots_wt = pd.DataFrame()\n",
    "    for site in hotspots:\n",
    "        df = prot_and_mutations[prot_and_mutations.KRAS_Location.str.contains(site, regex= True, na=False)]\n",
    "        hotspots_wt = hotspots_wt.append(df)\n",
    "    #print(hotspots_wt.KRAS_Location.value_counts())\n",
    "    \n",
    "    # Merge Mutation column from get_genotype_all_vars (includes cnv) with proteomics\n",
    "    mut_type = mut_type[['Mutation']]\n",
    "    prot_df = hotspots_wt.iloc[:,:-4] # Keep only proteomics\n",
    "    merged = prot_df.join(mut_type)\n",
    "    merged = merged.join(hotspots_wt['KRAS_Location'])\n",
    "\n",
    "    # Keep only Wildtype and deletion\n",
    "    compare = ['Wildtype_Tumor','Missense']\n",
    "    get = merged['Mutation'].isin(compare)\n",
    "    mut_wt = merged[get]\n",
    "    \n",
    "    mut_wt = mut_wt.rename(columns={col: re.sub(r'_proteomics', '', col) for col in mut_wt.columns.tolist()})\n",
    "    return mut_wt\n"
   ]
  },
  {
   "cell_type": "code",
   "execution_count": 6,
   "metadata": {},
   "outputs": [],
   "source": [
    "# Adds '_i' to duplicate col names where i is a number (increases with each duplicate)\n",
    "\n",
    "def rename_duplicate_cols(df):\n",
    "    cols = pd.Series(df.columns[:])\n",
    "\n",
    "    for dup in cols[cols.duplicated()].unique(): \n",
    "        cols[cols[cols == dup].index.values.tolist()] = [dup + '_' + str(i) if i != 0 else dup for i in range(sum(cols == dup))]\n",
    "\n",
    "    # rename the columns with the cols list.\n",
    "    df.columns=cols\n",
    "    return df"
   ]
  },
  {
   "cell_type": "code",
   "execution_count": null,
   "metadata": {},
   "outputs": [],
   "source": []
  },
  {
   "cell_type": "code",
   "execution_count": 7,
   "metadata": {},
   "outputs": [
    {
     "name": "stdout",
     "output_type": "stream",
     "text": [
      "                                                \r"
     ]
    }
   ],
   "source": [
    "en = cptac.Endometrial()\n",
    "l = cptac.Luad()\n",
    "col = cptac.Colon()"
   ]
  },
  {
   "cell_type": "code",
   "execution_count": 19,
   "metadata": {},
   "outputs": [],
   "source": [
    "'''\n",
    "df: DataFrame containing omics data and a binary column.\n",
    "mincount: Int of the minimum num of actual values needed to pass cutoff and not be listed in not_enough_data list. \n",
    "omics_cols: Names of columns to check if there is enough data. \n",
    "\n",
    "Returns: List of genes with not enough data (num of non-NaN values are less than mincount).\n",
    "'''\n",
    "\n",
    "def find_few_data_genes(df, mincount, omics_cols = None, binary_labels = ('Missense','Wildtype_Tumor'), \n",
    "    binary_col = 'Mutation', gene = 'KRAS'):\n",
    "    \n",
    "    # Separate into binary groups\n",
    "    label_1 = binary_labels[0]\n",
    "    label_2 = binary_labels[1]\n",
    "    partition1 = df.loc[df[binary_col] == label_1]\n",
    "    partition2 = df.loc[df[binary_col] == label_2]\n",
    "    \n",
    "    # Get list of columns\n",
    "    if omics_cols is None:\n",
    "        omics_cols = list(df.columns)\n",
    "        omics_cols.remove(binary_col)\n",
    "    else:\n",
    "        set_omics_cols = set(omics_cols)\n",
    "        if binary_col in (set_omics_cols):\n",
    "            omics_cols.remove(binary_col)\n",
    "        \n",
    "    # Append genes with less data than mincount (for mut or wt) to list\n",
    "    not_enough_data = []\n",
    "    for c in omics_cols:\n",
    "        #print(len(partition1[c].dropna(axis='rows')))\n",
    "        #print(len(partition2[c].dropna(axis='rows')))\n",
    "        if len(partition1[c].dropna(axis='rows')) <= mincount: #non-nan vals less than min\n",
    "            not_enough_data.append(c)\n",
    "            continue\n",
    "        elif len(partition2[c].dropna(axis='rows')) <= mincount:\n",
    "            not_enough_data.append(c)\n",
    "            continue\n",
    "        \n",
    "    \n",
    "    print('genes with not enough data: ', len(not_enough_data), '/', len(omics_cols))        \n",
    "    return not_enough_data"
   ]
  },
  {
   "cell_type": "code",
   "execution_count": 11,
   "metadata": {},
   "outputs": [],
   "source": [
    "cancer_obj = {'Endo':en, 'Colon':col, 'Luad':l}"
   ]
  },
  {
   "cell_type": "code",
   "execution_count": 22,
   "metadata": {},
   "outputs": [
    {
     "name": "stdout",
     "output_type": "stream",
     "text": [
      "Endo\n",
      "genes with not enough data:  743 / 10999\n",
      "Colon\n",
      "genes with not enough data:  1320 / 8067\n",
      "Luad\n",
      "genes with not enough data:  197 / 10699\n"
     ]
    }
   ],
   "source": [
    "mincount = 10\n",
    "\n",
    "few_data_prot = {}\n",
    "for c in cancer_obj:\n",
    "    #df = cancer_objects[c].get_phosphoproteomics()\n",
    "    print(c)\n",
    "    prot = cancer_obj[c].get_proteomics()\n",
    "    if cancer_obj[c].get_cancer_type() in ('luad'):\n",
    "        prot = u.reduce_multiindex(prot, levels_to_drop = 1)\n",
    "    prot_list = list(prot.columns)\n",
    "    mut_wt = all_prot_format_df(cancer_obj[c], prot_list)\n",
    "    mut_wt_cols = list(mut_wt.columns[:-1])\n",
    "    nd_list = find_few_data_genes(mut_wt, mincount, prot_list, gene = 'KRAS')\n",
    "    few_data_prot[c] = nd_list"
   ]
  },
  {
   "cell_type": "code",
   "execution_count": null,
   "metadata": {},
   "outputs": [],
   "source": []
  },
  {
   "cell_type": "code",
   "execution_count": 207,
   "metadata": {},
   "outputs": [],
   "source": [
    "# Get df\n",
    "cancer_obj = col\n",
    "prot = cancer_obj.get_proteomics()\n",
    "if cancer_obj == l:\n",
    "    prot = u.reduce_multiindex(prot, levels_to_drop = 1)\n",
    "prot_list = list(prot.columns)\n",
    "#prot_list = list(u.get_interacting_proteins_biogrid('KRAS', num_results=100))\n",
    "#prot_list = ['KRAS']\n",
    "\n",
    "mut_wt = all_prot_format_df(cancer_obj, prot_list)\n",
    "\n",
    "mut_wt_cols = list(mut_wt.columns[:-1])\n",
    "#print('Last column name:', mut_wt_cols[-1])"
   ]
  },
  {
   "cell_type": "code",
   "execution_count": 211,
   "metadata": {},
   "outputs": [
    {
     "name": "stdout",
     "output_type": "stream",
     "text": [
      "Num genes with not enough data:  65 / 8067\n",
      "65\n"
     ]
    }
   ],
   "source": [
    "# Test\n",
    "mincount = 0\n",
    "nd_genes = find_few_data_genes(mut_wt, mincount, prot_list, gene = 'PTEN')\n",
    "print(len(nd_genes))"
   ]
  },
  {
   "cell_type": "code",
   "execution_count": 214,
   "metadata": {},
   "outputs": [
    {
     "data": {
      "text/plain": [
       "'CCDC140'"
      ]
     },
     "execution_count": 214,
     "metadata": {},
     "output_type": "execute_result"
    }
   ],
   "source": [
    "nd_genes[5]"
   ]
  },
  {
   "cell_type": "code",
   "execution_count": 215,
   "metadata": {},
   "outputs": [
    {
     "name": "stdout",
     "output_type": "stream",
     "text": [
      "Num of missense with proteomics data: 0 (<= 0 ?)\n",
      "Num of wt with proteomics data: 3 (<= 0 ?)\n"
     ]
    },
    {
     "data": {
      "text/html": [
       "<div>\n",
       "<style scoped>\n",
       "    .dataframe tbody tr th:only-of-type {\n",
       "        vertical-align: middle;\n",
       "    }\n",
       "\n",
       "    .dataframe tbody tr th {\n",
       "        vertical-align: top;\n",
       "    }\n",
       "\n",
       "    .dataframe thead th {\n",
       "        text-align: right;\n",
       "    }\n",
       "</style>\n",
       "<table border=\"1\" class=\"dataframe\">\n",
       "  <thead>\n",
       "    <tr style=\"text-align: right;\">\n",
       "      <th></th>\n",
       "      <th>CCDC140</th>\n",
       "      <th>Mutation</th>\n",
       "    </tr>\n",
       "    <tr>\n",
       "      <th>Patient_ID</th>\n",
       "      <th></th>\n",
       "      <th></th>\n",
       "    </tr>\n",
       "  </thead>\n",
       "  <tbody>\n",
       "    <tr>\n",
       "      <th>01CO008</th>\n",
       "      <td>NaN</td>\n",
       "      <td>Missense</td>\n",
       "    </tr>\n",
       "    <tr>\n",
       "      <th>05CO020</th>\n",
       "      <td>NaN</td>\n",
       "      <td>Missense</td>\n",
       "    </tr>\n",
       "    <tr>\n",
       "      <th>05CO028</th>\n",
       "      <td>NaN</td>\n",
       "      <td>Missense</td>\n",
       "    </tr>\n",
       "    <tr>\n",
       "      <th>05CO033</th>\n",
       "      <td>NaN</td>\n",
       "      <td>Missense</td>\n",
       "    </tr>\n",
       "    <tr>\n",
       "      <th>09CO005</th>\n",
       "      <td>NaN</td>\n",
       "      <td>Missense</td>\n",
       "    </tr>\n",
       "    <tr>\n",
       "      <th>09CO013</th>\n",
       "      <td>NaN</td>\n",
       "      <td>Missense</td>\n",
       "    </tr>\n",
       "    <tr>\n",
       "      <th>09CO019</th>\n",
       "      <td>NaN</td>\n",
       "      <td>Missense</td>\n",
       "    </tr>\n",
       "    <tr>\n",
       "      <th>09CO022</th>\n",
       "      <td>NaN</td>\n",
       "      <td>Missense</td>\n",
       "    </tr>\n",
       "    <tr>\n",
       "      <th>11CO021</th>\n",
       "      <td>NaN</td>\n",
       "      <td>Missense</td>\n",
       "    </tr>\n",
       "    <tr>\n",
       "      <th>11CO045</th>\n",
       "      <td>NaN</td>\n",
       "      <td>Missense</td>\n",
       "    </tr>\n",
       "    <tr>\n",
       "      <th>11CO057</th>\n",
       "      <td>NaN</td>\n",
       "      <td>Missense</td>\n",
       "    </tr>\n",
       "    <tr>\n",
       "      <th>11CO062</th>\n",
       "      <td>NaN</td>\n",
       "      <td>Missense</td>\n",
       "    </tr>\n",
       "    <tr>\n",
       "      <th>20CO001</th>\n",
       "      <td>NaN</td>\n",
       "      <td>Missense</td>\n",
       "    </tr>\n",
       "    <tr>\n",
       "      <th>20CO004</th>\n",
       "      <td>NaN</td>\n",
       "      <td>Missense</td>\n",
       "    </tr>\n",
       "    <tr>\n",
       "      <th>20CO007</th>\n",
       "      <td>NaN</td>\n",
       "      <td>Missense</td>\n",
       "    </tr>\n",
       "    <tr>\n",
       "      <th>21CO007</th>\n",
       "      <td>NaN</td>\n",
       "      <td>Missense</td>\n",
       "    </tr>\n",
       "    <tr>\n",
       "      <th>27CO004</th>\n",
       "      <td>NaN</td>\n",
       "      <td>Missense</td>\n",
       "    </tr>\n",
       "    <tr>\n",
       "      <th>05CO053</th>\n",
       "      <td>NaN</td>\n",
       "      <td>Missense</td>\n",
       "    </tr>\n",
       "    <tr>\n",
       "      <th>11CO070</th>\n",
       "      <td>NaN</td>\n",
       "      <td>Missense</td>\n",
       "    </tr>\n",
       "    <tr>\n",
       "      <th>14CO005</th>\n",
       "      <td>NaN</td>\n",
       "      <td>Missense</td>\n",
       "    </tr>\n",
       "    <tr>\n",
       "      <th>16CO012</th>\n",
       "      <td>NaN</td>\n",
       "      <td>Missense</td>\n",
       "    </tr>\n",
       "    <tr>\n",
       "      <th>05CO026</th>\n",
       "      <td>NaN</td>\n",
       "      <td>Missense</td>\n",
       "    </tr>\n",
       "    <tr>\n",
       "      <th>11CO005</th>\n",
       "      <td>NaN</td>\n",
       "      <td>Missense</td>\n",
       "    </tr>\n",
       "    <tr>\n",
       "      <th>11CO058</th>\n",
       "      <td>NaN</td>\n",
       "      <td>Missense</td>\n",
       "    </tr>\n",
       "  </tbody>\n",
       "</table>\n",
       "</div>"
      ],
      "text/plain": [
       "            CCDC140  Mutation\n",
       "Patient_ID                   \n",
       "01CO008         NaN  Missense\n",
       "05CO020         NaN  Missense\n",
       "05CO028         NaN  Missense\n",
       "05CO033         NaN  Missense\n",
       "09CO005         NaN  Missense\n",
       "09CO013         NaN  Missense\n",
       "09CO019         NaN  Missense\n",
       "09CO022         NaN  Missense\n",
       "11CO021         NaN  Missense\n",
       "11CO045         NaN  Missense\n",
       "11CO057         NaN  Missense\n",
       "11CO062         NaN  Missense\n",
       "20CO001         NaN  Missense\n",
       "20CO004         NaN  Missense\n",
       "20CO007         NaN  Missense\n",
       "21CO007         NaN  Missense\n",
       "27CO004         NaN  Missense\n",
       "05CO053         NaN  Missense\n",
       "11CO070         NaN  Missense\n",
       "14CO005         NaN  Missense\n",
       "16CO012         NaN  Missense\n",
       "05CO026         NaN  Missense\n",
       "11CO005         NaN  Missense\n",
       "11CO058         NaN  Missense"
      ]
     },
     "execution_count": 215,
     "metadata": {},
     "output_type": "execute_result"
    }
   ],
   "source": [
    "gene = 'CCDC140' # gene in not_enough_data list (< mincount)\n",
    "\n",
    "prot = cancer_obj.get_proteomics()\n",
    "if cancer_obj == l:\n",
    "    prot = u.reduce_multiindex(prot, levels_to_drop = 1)\n",
    "test_prot_list = list(prot.columns)\n",
    "test_mut_wt = all_prot_format_df(cancer_obj, test_prot_list)\n",
    "\n",
    "gene_df = test_mut_wt[[gene,'Mutation']]\n",
    "mut_df = gene_df.loc[gene_df['Mutation'] == 'Missense']\n",
    "wt_df = gene_df.loc[gene_df['Mutation'] == 'Wildtype_Tumor']\n",
    "\n",
    "print('Num of missense with proteomics data:', len(mut_df[gene].dropna()), '(<=', mincount, '?)')\n",
    "print('Num of wt with proteomics data:', len(wt_df[gene].dropna()), '(<=', mincount, '?)')\n",
    "mut_df"
   ]
  },
  {
   "cell_type": "code",
   "execution_count": null,
   "metadata": {},
   "outputs": [],
   "source": []
  }
 ],
 "metadata": {
  "kernelspec": {
   "display_name": "Python 3",
   "language": "python",
   "name": "python3"
  },
  "language_info": {
   "codemirror_mode": {
    "name": "ipython",
    "version": 3
   },
   "file_extension": ".py",
   "mimetype": "text/x-python",
   "name": "python",
   "nbconvert_exporter": "python",
   "pygments_lexer": "ipython3",
   "version": "3.7.3"
  }
 },
 "nbformat": 4,
 "nbformat_minor": 2
}
