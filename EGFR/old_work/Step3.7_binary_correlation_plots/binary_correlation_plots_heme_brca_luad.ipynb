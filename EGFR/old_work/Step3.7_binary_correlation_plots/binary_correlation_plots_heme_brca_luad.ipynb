{
 "cells": [
  {
   "cell_type": "markdown",
   "metadata": {},
   "source": [
    "# Binary_correlation_plots"
   ]
  },
  {
   "cell_type": "code",
   "execution_count": 1,
   "metadata": {},
   "outputs": [
    {
     "name": "stderr",
     "output_type": "stream",
     "text": [
      "/Users/Lindsey/anaconda3/lib/python3.7/site-packages/statsmodels/tools/_testing.py:19: FutureWarning: pandas.util.testing is deprecated. Use the functions in the public API at pandas.testing instead.\n",
      "  import pandas.util.testing as tm\n"
     ]
    }
   ],
   "source": [
    "import pandas as pd\n",
    "import numpy as np\n",
    "import seaborn as sns\n",
    "import matplotlib.pyplot as plt\n",
    "import scipy.stats\n",
    "import gseapy as gp\n",
    "import re\n",
    "\n",
    "import cptac\n",
    "import cptac.utils as u\n",
    "\n",
    "import plot_utils as p"
   ]
  },
  {
   "cell_type": "markdown",
   "metadata": {},
   "source": [
    "# Select two cancers for the plot"
   ]
  },
  {
   "cell_type": "code",
   "execution_count": 3,
   "metadata": {},
   "outputs": [
    {
     "name": "stdout",
     "output_type": "stream",
     "text": [
      "                                         \r"
     ]
    },
    {
     "name": "stderr",
     "output_type": "stream",
     "text": [
      "cptac warning: The LUAD dataset is under publication embargo until July 01, 2020. CPTAC is a community resource project and data are made available rapidly after generation for community research use. The embargo allows exploring and utilizing the data, but analysis may not be published until after the embargo date. Please see https://proteomics.cancer.gov/data-portal/about/data-use-agreement or enter cptac.embargo() to open the webpage for more details. (/Users/Lindsey/anaconda3/lib/python3.7/site-packages/ipykernel_launcher.py, line 1)\n"
     ]
    },
    {
     "name": "stdout",
     "output_type": "stream",
     "text": [
      "                                         \r"
     ]
    }
   ],
   "source": [
    "L = cptac.Luad()\n",
    "brca = cptac.Brca()"
   ]
  },
  {
   "cell_type": "code",
   "execution_count": 4,
   "metadata": {},
   "outputs": [],
   "source": [
    "def create_prot_list(df):\n",
    "    df = df.loc[:,~df.columns.duplicated()]\n",
    "    prot_genes_list = df.columns.values.tolist()\n",
    "    prot_genes_list.remove('EGFR_proteomics')\n",
    "    prot_genes_list.remove('EGFR_Mutation')\n",
    "    prot_genes_list.remove('EGFR_Location')\n",
    "    prot_genes_list.remove('EGFR_Mutation_Status')\n",
    "    prot_genes_list.remove('Sample_Status')\n",
    "    return prot_genes_list"
   ]
  },
  {
   "cell_type": "markdown",
   "metadata": {},
   "source": [
    "# Calculate FDR-bh (lowest sig p-value = cutoff)"
   ]
  },
  {
   "cell_type": "markdown",
   "metadata": {},
   "source": [
    "Gbm Pearson Correlation"
   ]
  },
  {
   "cell_type": "code",
   "execution_count": 8,
   "metadata": {},
   "outputs": [
    {
     "name": "stderr",
     "output_type": "stream",
     "text": [
      "cptac warning: In joining the somatic_mutation table, no mutations were found for the following samples, so they were filled with Wildtype_Tumor or Wildtype_Normal: 171 samples for the EGFR gene (/Users/Lindsey/anaconda3/lib/python3.7/site-packages/ipykernel_launcher.py, line 2)\n"
     ]
    }
   ],
   "source": [
    "gene = 'EGFR'\n",
    "df1 = L.join_omics_to_mutations(omics_df_name=\"proteomics\", mutations_genes= gene)\n",
    "df1.columns = df1.columns.droplevel(1)\n",
    "df1_tumor = df1.loc[df1['Sample_Status'] == \"Tumor\"]\n",
    "prot_genes_list = create_prot_list(df1_tumor)\n"
   ]
  },
  {
   "cell_type": "code",
   "execution_count": null,
   "metadata": {},
   "outputs": [],
   "source": []
  },
  {
   "cell_type": "code",
   "execution_count": 11,
   "metadata": {},
   "outputs": [
    {
     "data": {
      "text/plain": [
       "984    0.005801\n",
       "Name: P_value, dtype: float64"
      ]
     },
     "execution_count": 11,
     "metadata": {},
     "output_type": "execute_result"
    }
   ],
   "source": [
    "# Get only sig genes\n",
    "L_sig= p.wrap_pearson_corr(df1_tumor,\"EGFR_proteomics\",comparison_columns= prot_genes_list,correction_method='fdr_bh', return_all = False)\n",
    "L_sig\n",
    "# get_smallest p-value\n",
    "cutoff_Luad = L_sig.P_value[-1:]\n",
    "cutoff_Luad"
   ]
  },
  {
   "cell_type": "markdown",
   "metadata": {},
   "source": [
    "Brca Pearson Correlation"
   ]
  },
  {
   "cell_type": "code",
   "execution_count": 12,
   "metadata": {},
   "outputs": [
    {
     "name": "stderr",
     "output_type": "stream",
     "text": [
      "cptac warning: In joining the somatic_mutation table, no mutations were found for the following samples, so they were filled with Wildtype_Tumor or Wildtype_Normal: 118 samples for the EGFR gene (/Users/Lindsey/anaconda3/lib/python3.7/site-packages/ipykernel_launcher.py, line 3)\n"
     ]
    }
   ],
   "source": [
    "gene = 'EGFR'\n",
    "\n",
    "df1 = brca.join_omics_to_mutations(omics_df_name=\"proteomics\", mutations_genes= gene)\n",
    "df1.columns = df1.columns.droplevel(1)\n",
    "df1_tumor = df1.loc[df1['Sample_Status'] == \"Tumor\"]\n",
    "prot_genes_list = create_prot_list(df1_tumor)\n"
   ]
  },
  {
   "cell_type": "code",
   "execution_count": 13,
   "metadata": {},
   "outputs": [
    {
     "data": {
      "text/plain": [
       "2057    0.013554\n",
       "Name: P_value, dtype: float64"
      ]
     },
     "execution_count": 13,
     "metadata": {},
     "output_type": "execute_result"
    }
   ],
   "source": [
    "\n",
    "\n",
    "# Get only sig sites\n",
    "brca_sig= p.wrap_pearson_corr(df1_tumor,\"EGFR_proteomics\",comparison_columns= prot_genes_list,correction_method='fdr_bh', return_all = False)\n",
    "brca_sig\n",
    "# get_smallest p-value\n",
    "cutoff_brca = brca_sig.P_value[-1:]\n",
    "cutoff_brca"
   ]
  },
  {
   "cell_type": "markdown",
   "metadata": {},
   "source": [
    "Read in data frame that has all pearson correlations/ pvalues for all egfr trans genes. Subset down for just brca/gbm "
   ]
  },
  {
   "cell_type": "code",
   "execution_count": 15,
   "metadata": {},
   "outputs": [
    {
     "data": {
      "text/html": [
       "<div>\n",
       "<style scoped>\n",
       "    .dataframe tbody tr th:only-of-type {\n",
       "        vertical-align: middle;\n",
       "    }\n",
       "\n",
       "    .dataframe tbody tr th {\n",
       "        vertical-align: top;\n",
       "    }\n",
       "\n",
       "    .dataframe thead th {\n",
       "        text-align: right;\n",
       "    }\n",
       "</style>\n",
       "<table border=\"1\" class=\"dataframe\">\n",
       "  <thead>\n",
       "    <tr style=\"text-align: right;\">\n",
       "      <th></th>\n",
       "      <th>Comparison</th>\n",
       "      <th>Correlation_Luad</th>\n",
       "      <th>P_value_Luad</th>\n",
       "      <th>Correlation_Brca</th>\n",
       "      <th>P_value_Brca</th>\n",
       "    </tr>\n",
       "  </thead>\n",
       "  <tbody>\n",
       "    <tr>\n",
       "      <th>0</th>\n",
       "      <td>EGFR_proteomics</td>\n",
       "      <td>1.000000</td>\n",
       "      <td>0.000000</td>\n",
       "      <td>1.000000</td>\n",
       "      <td>0.000000</td>\n",
       "    </tr>\n",
       "    <tr>\n",
       "      <th>1</th>\n",
       "      <td>PHLDA1_proteomics</td>\n",
       "      <td>0.260110</td>\n",
       "      <td>0.011346</td>\n",
       "      <td>0.364797</td>\n",
       "      <td>0.000190</td>\n",
       "    </tr>\n",
       "    <tr>\n",
       "      <th>2</th>\n",
       "      <td>GRB2_proteomics</td>\n",
       "      <td>-0.302439</td>\n",
       "      <td>0.001321</td>\n",
       "      <td>-0.177379</td>\n",
       "      <td>0.057899</td>\n",
       "    </tr>\n",
       "    <tr>\n",
       "      <th>3</th>\n",
       "      <td>SOCS2_proteomics</td>\n",
       "      <td>NaN</td>\n",
       "      <td>NaN</td>\n",
       "      <td>NaN</td>\n",
       "      <td>NaN</td>\n",
       "    </tr>\n",
       "    <tr>\n",
       "      <th>4</th>\n",
       "      <td>CDH4_proteomics</td>\n",
       "      <td>NaN</td>\n",
       "      <td>NaN</td>\n",
       "      <td>NaN</td>\n",
       "      <td>NaN</td>\n",
       "    </tr>\n",
       "    <tr>\n",
       "      <th>...</th>\n",
       "      <td>...</td>\n",
       "      <td>...</td>\n",
       "      <td>...</td>\n",
       "      <td>...</td>\n",
       "      <td>...</td>\n",
       "    </tr>\n",
       "    <tr>\n",
       "      <th>14047</th>\n",
       "      <td>TFR2_proteomics</td>\n",
       "      <td>NaN</td>\n",
       "      <td>NaN</td>\n",
       "      <td>NaN</td>\n",
       "      <td>NaN</td>\n",
       "    </tr>\n",
       "    <tr>\n",
       "      <th>14048</th>\n",
       "      <td>MYBL2_proteomics</td>\n",
       "      <td>NaN</td>\n",
       "      <td>NaN</td>\n",
       "      <td>NaN</td>\n",
       "      <td>NaN</td>\n",
       "    </tr>\n",
       "    <tr>\n",
       "      <th>14049</th>\n",
       "      <td>ZSCAN12_proteomics</td>\n",
       "      <td>NaN</td>\n",
       "      <td>NaN</td>\n",
       "      <td>NaN</td>\n",
       "      <td>NaN</td>\n",
       "    </tr>\n",
       "    <tr>\n",
       "      <th>14050</th>\n",
       "      <td>ZNF836_proteomics</td>\n",
       "      <td>NaN</td>\n",
       "      <td>NaN</td>\n",
       "      <td>NaN</td>\n",
       "      <td>NaN</td>\n",
       "    </tr>\n",
       "    <tr>\n",
       "      <th>14051</th>\n",
       "      <td>DDX43_proteomics</td>\n",
       "      <td>NaN</td>\n",
       "      <td>NaN</td>\n",
       "      <td>NaN</td>\n",
       "      <td>NaN</td>\n",
       "    </tr>\n",
       "  </tbody>\n",
       "</table>\n",
       "<p>14052 rows × 5 columns</p>\n",
       "</div>"
      ],
      "text/plain": [
       "               Comparison  Correlation_Luad  P_value_Luad  Correlation_Brca  \\\n",
       "0         EGFR_proteomics          1.000000      0.000000          1.000000   \n",
       "1       PHLDA1_proteomics          0.260110      0.011346          0.364797   \n",
       "2         GRB2_proteomics         -0.302439      0.001321         -0.177379   \n",
       "3        SOCS2_proteomics               NaN           NaN               NaN   \n",
       "4         CDH4_proteomics               NaN           NaN               NaN   \n",
       "...                   ...               ...           ...               ...   \n",
       "14047     TFR2_proteomics               NaN           NaN               NaN   \n",
       "14048    MYBL2_proteomics               NaN           NaN               NaN   \n",
       "14049  ZSCAN12_proteomics               NaN           NaN               NaN   \n",
       "14050   ZNF836_proteomics               NaN           NaN               NaN   \n",
       "14051    DDX43_proteomics               NaN           NaN               NaN   \n",
       "\n",
       "       P_value_Brca  \n",
       "0          0.000000  \n",
       "1          0.000190  \n",
       "2          0.057899  \n",
       "3               NaN  \n",
       "4               NaN  \n",
       "...             ...  \n",
       "14047           NaN  \n",
       "14048           NaN  \n",
       "14049           NaN  \n",
       "14050           NaN  \n",
       "14051           NaN  \n",
       "\n",
       "[14052 rows x 5 columns]"
      ]
     },
     "execution_count": 15,
     "metadata": {},
     "output_type": "execute_result"
    }
   ],
   "source": [
    "prot_df = pd.read_csv(\"../Step3.2_combining_pearson_dfs/csv_files/pancan_EGFR_all_return_all_wide.csv\")\n",
    "prot_df = prot_df[[\"Comparison\",\"Correlation_Luad\",\"P_value_Luad\",\"Correlation_Brca\",\"P_value_Brca\"]]\n",
    "\n",
    "prot_df"
   ]
  },
  {
   "cell_type": "markdown",
   "metadata": {},
   "source": [
    "# Create df with p-values for all genes in a pathway"
   ]
  },
  {
   "cell_type": "code",
   "execution_count": 16,
   "metadata": {},
   "outputs": [],
   "source": [
    "# get a list of genes in a complete Pathway \n",
    "#This one is from Reactomes Hemostasis pathway\n",
    "hemostasis_genes = pd.read_csv(\"~/Downloads/reactome_hemostasis.csv\")\n",
    "heme_genes = hemostasis_genes.Gene.unique()\n",
    "\n",
    "heme_all_genes = []\n",
    "for gene in heme_genes:\n",
    "    gene += \"_proteomics\"\n",
    "    heme_all_genes.append(gene)"
   ]
  },
  {
   "cell_type": "code",
   "execution_count": 17,
   "metadata": {},
   "outputs": [
    {
     "data": {
      "text/html": [
       "<div>\n",
       "<style scoped>\n",
       "    .dataframe tbody tr th:only-of-type {\n",
       "        vertical-align: middle;\n",
       "    }\n",
       "\n",
       "    .dataframe tbody tr th {\n",
       "        vertical-align: top;\n",
       "    }\n",
       "\n",
       "    .dataframe thead th {\n",
       "        text-align: right;\n",
       "    }\n",
       "</style>\n",
       "<table border=\"1\" class=\"dataframe\">\n",
       "  <thead>\n",
       "    <tr style=\"text-align: right;\">\n",
       "      <th></th>\n",
       "      <th>Comparison</th>\n",
       "      <th>Correlation_Luad</th>\n",
       "      <th>P_value_Luad</th>\n",
       "      <th>Correlation_Brca</th>\n",
       "      <th>P_value_Brca</th>\n",
       "    </tr>\n",
       "  </thead>\n",
       "  <tbody>\n",
       "    <tr>\n",
       "      <th>2</th>\n",
       "      <td>GRB2_proteomics</td>\n",
       "      <td>-0.302439</td>\n",
       "      <td>0.001321</td>\n",
       "      <td>-0.177379</td>\n",
       "      <td>0.057899</td>\n",
       "    </tr>\n",
       "    <tr>\n",
       "      <th>12</th>\n",
       "      <td>SHC1_proteomics</td>\n",
       "      <td>-0.135844</td>\n",
       "      <td>0.262164</td>\n",
       "      <td>0.090908</td>\n",
       "      <td>0.333927</td>\n",
       "    </tr>\n",
       "    <tr>\n",
       "      <th>22</th>\n",
       "      <td>TOR4A_proteomics</td>\n",
       "      <td>-0.033014</td>\n",
       "      <td>0.732055</td>\n",
       "      <td>0.089115</td>\n",
       "      <td>0.447068</td>\n",
       "    </tr>\n",
       "    <tr>\n",
       "      <th>44</th>\n",
       "      <td>DOCK10_proteomics</td>\n",
       "      <td>NaN</td>\n",
       "      <td>NaN</td>\n",
       "      <td>NaN</td>\n",
       "      <td>NaN</td>\n",
       "    </tr>\n",
       "    <tr>\n",
       "      <th>53</th>\n",
       "      <td>APBB1IP_proteomics</td>\n",
       "      <td>-0.277151</td>\n",
       "      <td>0.003376</td>\n",
       "      <td>0.114010</td>\n",
       "      <td>0.225044</td>\n",
       "    </tr>\n",
       "    <tr>\n",
       "      <th>...</th>\n",
       "      <td>...</td>\n",
       "      <td>...</td>\n",
       "      <td>...</td>\n",
       "      <td>...</td>\n",
       "      <td>...</td>\n",
       "    </tr>\n",
       "    <tr>\n",
       "      <th>13696</th>\n",
       "      <td>PSG1_proteomics</td>\n",
       "      <td>NaN</td>\n",
       "      <td>NaN</td>\n",
       "      <td>NaN</td>\n",
       "      <td>NaN</td>\n",
       "    </tr>\n",
       "    <tr>\n",
       "      <th>13732</th>\n",
       "      <td>CALM1_proteomics</td>\n",
       "      <td>NaN</td>\n",
       "      <td>NaN</td>\n",
       "      <td>NaN</td>\n",
       "      <td>NaN</td>\n",
       "    </tr>\n",
       "    <tr>\n",
       "      <th>13898</th>\n",
       "      <td>KCNMB1_proteomics</td>\n",
       "      <td>NaN</td>\n",
       "      <td>NaN</td>\n",
       "      <td>NaN</td>\n",
       "      <td>NaN</td>\n",
       "    </tr>\n",
       "    <tr>\n",
       "      <th>13976</th>\n",
       "      <td>NFE2_proteomics</td>\n",
       "      <td>NaN</td>\n",
       "      <td>NaN</td>\n",
       "      <td>NaN</td>\n",
       "      <td>NaN</td>\n",
       "    </tr>\n",
       "    <tr>\n",
       "      <th>14024</th>\n",
       "      <td>TRPC6_proteomics</td>\n",
       "      <td>NaN</td>\n",
       "      <td>NaN</td>\n",
       "      <td>NaN</td>\n",
       "      <td>NaN</td>\n",
       "    </tr>\n",
       "  </tbody>\n",
       "</table>\n",
       "<p>543 rows × 5 columns</p>\n",
       "</div>"
      ],
      "text/plain": [
       "               Comparison  Correlation_Luad  P_value_Luad  Correlation_Brca  \\\n",
       "2         GRB2_proteomics         -0.302439      0.001321         -0.177379   \n",
       "12        SHC1_proteomics         -0.135844      0.262164          0.090908   \n",
       "22       TOR4A_proteomics         -0.033014      0.732055          0.089115   \n",
       "44      DOCK10_proteomics               NaN           NaN               NaN   \n",
       "53     APBB1IP_proteomics         -0.277151      0.003376          0.114010   \n",
       "...                   ...               ...           ...               ...   \n",
       "13696     PSG1_proteomics               NaN           NaN               NaN   \n",
       "13732    CALM1_proteomics               NaN           NaN               NaN   \n",
       "13898   KCNMB1_proteomics               NaN           NaN               NaN   \n",
       "13976     NFE2_proteomics               NaN           NaN               NaN   \n",
       "14024    TRPC6_proteomics               NaN           NaN               NaN   \n",
       "\n",
       "       P_value_Brca  \n",
       "2          0.057899  \n",
       "12         0.333927  \n",
       "22         0.447068  \n",
       "44              NaN  \n",
       "53         0.225044  \n",
       "...             ...  \n",
       "13696           NaN  \n",
       "13732           NaN  \n",
       "13898           NaN  \n",
       "13976           NaN  \n",
       "14024           NaN  \n",
       "\n",
       "[543 rows x 5 columns]"
      ]
     },
     "execution_count": 17,
     "metadata": {},
     "output_type": "execute_result"
    }
   ],
   "source": [
    "# Merge dfs of both cancers and keep only genes in a complete pathway\n",
    "heme_bool = prot_df.Comparison.isin(heme_all_genes)\n",
    "df = prot_df[heme_bool]\n",
    "df"
   ]
  },
  {
   "cell_type": "code",
   "execution_count": 18,
   "metadata": {},
   "outputs": [
    {
     "data": {
      "text/html": [
       "<div>\n",
       "<style scoped>\n",
       "    .dataframe tbody tr th:only-of-type {\n",
       "        vertical-align: middle;\n",
       "    }\n",
       "\n",
       "    .dataframe tbody tr th {\n",
       "        vertical-align: top;\n",
       "    }\n",
       "\n",
       "    .dataframe thead th {\n",
       "        text-align: right;\n",
       "    }\n",
       "</style>\n",
       "<table border=\"1\" class=\"dataframe\">\n",
       "  <thead>\n",
       "    <tr style=\"text-align: right;\">\n",
       "      <th></th>\n",
       "      <th>P_value_Luad</th>\n",
       "      <th>P_value_Brca</th>\n",
       "    </tr>\n",
       "    <tr>\n",
       "      <th>Comparison</th>\n",
       "      <th></th>\n",
       "      <th></th>\n",
       "    </tr>\n",
       "  </thead>\n",
       "  <tbody>\n",
       "    <tr>\n",
       "      <th>GRB2_proteomics</th>\n",
       "      <td>0.001321</td>\n",
       "      <td>0.057899</td>\n",
       "    </tr>\n",
       "    <tr>\n",
       "      <th>SHC1_proteomics</th>\n",
       "      <td>0.262164</td>\n",
       "      <td>0.333927</td>\n",
       "    </tr>\n",
       "    <tr>\n",
       "      <th>TOR4A_proteomics</th>\n",
       "      <td>0.732055</td>\n",
       "      <td>0.447068</td>\n",
       "    </tr>\n",
       "    <tr>\n",
       "      <th>DOCK10_proteomics</th>\n",
       "      <td>NaN</td>\n",
       "      <td>NaN</td>\n",
       "    </tr>\n",
       "    <tr>\n",
       "      <th>APBB1IP_proteomics</th>\n",
       "      <td>0.003376</td>\n",
       "      <td>0.225044</td>\n",
       "    </tr>\n",
       "  </tbody>\n",
       "</table>\n",
       "</div>"
      ],
      "text/plain": [
       "                    P_value_Luad  P_value_Brca\n",
       "Comparison                                    \n",
       "GRB2_proteomics         0.001321      0.057899\n",
       "SHC1_proteomics         0.262164      0.333927\n",
       "TOR4A_proteomics        0.732055      0.447068\n",
       "DOCK10_proteomics            NaN           NaN\n",
       "APBB1IP_proteomics      0.003376      0.225044"
      ]
     },
     "execution_count": 18,
     "metadata": {},
     "output_type": "execute_result"
    }
   ],
   "source": [
    "# Create pval only df for Color mapping\n",
    "pval_df = df.drop(columns = ['Correlation_Luad','Correlation_Brca'])\n",
    "pval_df = pval_df.set_index('Comparison')\n",
    "pval_df.head()"
   ]
  },
  {
   "cell_type": "markdown",
   "metadata": {},
   "source": [
    "# Create the color column based on significance in both cancers "
   ]
  },
  {
   "cell_type": "code",
   "execution_count": 22,
   "metadata": {},
   "outputs": [],
   "source": [
    "def Color(row):\n",
    "    color = 'Not_sig'\n",
    "\n",
    "    c1_cutoff =  0.005801# lowest p-value for cancer 1 (GBM)\n",
    "    c2_cutoff = 0.013554 #Brca\n",
    "\n",
    "    for item in row:\n",
    "        if pd.isnull(item):\n",
    "            continue\n",
    "        if row['P_value_Brca'] <= c1_cutoff and row['P_value_Luad'] <= c2_cutoff:\n",
    "            color = 'Both_sig'\n",
    "        elif row['P_value_Luad'] <= c1_cutoff:\n",
    "            color = 'Luad_sig'\n",
    "        elif row['P_value_Brca'] <= c2_cutoff:\n",
    "            color = 'Brca_sig'\n",
    "           \n",
    "    return color"
   ]
  },
  {
   "cell_type": "code",
   "execution_count": 23,
   "metadata": {},
   "outputs": [
    {
     "name": "stdout",
     "output_type": "stream",
     "text": [
      "lowest p-value for Luad: 984    0.005801\n",
      "Name: P_value, dtype: float64 \n",
      "\n",
      "lowest p-value for Brca: 2057    0.013554\n",
      "Name: P_value, dtype: float64\n"
     ]
    }
   ],
   "source": [
    "print('lowest p-value for Luad:',cutoff_Luad, '\\n')\n",
    "print('lowest p-value for Brca:',cutoff_brca)"
   ]
  },
  {
   "cell_type": "code",
   "execution_count": 24,
   "metadata": {},
   "outputs": [
    {
     "data": {
      "text/html": [
       "<div>\n",
       "<style scoped>\n",
       "    .dataframe tbody tr th:only-of-type {\n",
       "        vertical-align: middle;\n",
       "    }\n",
       "\n",
       "    .dataframe tbody tr th {\n",
       "        vertical-align: top;\n",
       "    }\n",
       "\n",
       "    .dataframe thead th {\n",
       "        text-align: right;\n",
       "    }\n",
       "</style>\n",
       "<table border=\"1\" class=\"dataframe\">\n",
       "  <thead>\n",
       "    <tr style=\"text-align: right;\">\n",
       "      <th></th>\n",
       "      <th>P_value_Luad</th>\n",
       "      <th>P_value_Brca</th>\n",
       "      <th>Color</th>\n",
       "    </tr>\n",
       "    <tr>\n",
       "      <th>Comparison</th>\n",
       "      <th></th>\n",
       "      <th></th>\n",
       "      <th></th>\n",
       "    </tr>\n",
       "  </thead>\n",
       "  <tbody>\n",
       "    <tr>\n",
       "      <th>GRB2_proteomics</th>\n",
       "      <td>0.001321</td>\n",
       "      <td>0.057899</td>\n",
       "      <td>Luad_sig</td>\n",
       "    </tr>\n",
       "    <tr>\n",
       "      <th>SHC1_proteomics</th>\n",
       "      <td>0.262164</td>\n",
       "      <td>0.333927</td>\n",
       "      <td>Not_sig</td>\n",
       "    </tr>\n",
       "    <tr>\n",
       "      <th>TOR4A_proteomics</th>\n",
       "      <td>0.732055</td>\n",
       "      <td>0.447068</td>\n",
       "      <td>Not_sig</td>\n",
       "    </tr>\n",
       "    <tr>\n",
       "      <th>DOCK10_proteomics</th>\n",
       "      <td>NaN</td>\n",
       "      <td>NaN</td>\n",
       "      <td>Not_sig</td>\n",
       "    </tr>\n",
       "    <tr>\n",
       "      <th>APBB1IP_proteomics</th>\n",
       "      <td>0.003376</td>\n",
       "      <td>0.225044</td>\n",
       "      <td>Luad_sig</td>\n",
       "    </tr>\n",
       "  </tbody>\n",
       "</table>\n",
       "</div>"
      ],
      "text/plain": [
       "                    P_value_Luad  P_value_Brca     Color\n",
       "Comparison                                              \n",
       "GRB2_proteomics         0.001321      0.057899  Luad_sig\n",
       "SHC1_proteomics         0.262164      0.333927   Not_sig\n",
       "TOR4A_proteomics        0.732055      0.447068   Not_sig\n",
       "DOCK10_proteomics            NaN           NaN   Not_sig\n",
       "APBB1IP_proteomics      0.003376      0.225044  Luad_sig"
      ]
     },
     "execution_count": 24,
     "metadata": {},
     "output_type": "execute_result"
    }
   ],
   "source": [
    "pval_df['Color'] = pval_df.apply(Color, axis=1)\n",
    "color = pval_df[['Color']]\n",
    "pval_df.head()"
   ]
  },
  {
   "cell_type": "markdown",
   "metadata": {},
   "source": [
    "# Format df for plot. Add color column and keep correlations."
   ]
  },
  {
   "cell_type": "code",
   "execution_count": 25,
   "metadata": {},
   "outputs": [
    {
     "data": {
      "text/html": [
       "<div>\n",
       "<style scoped>\n",
       "    .dataframe tbody tr th:only-of-type {\n",
       "        vertical-align: middle;\n",
       "    }\n",
       "\n",
       "    .dataframe tbody tr th {\n",
       "        vertical-align: top;\n",
       "    }\n",
       "\n",
       "    .dataframe thead th {\n",
       "        text-align: right;\n",
       "    }\n",
       "</style>\n",
       "<table border=\"1\" class=\"dataframe\">\n",
       "  <thead>\n",
       "    <tr style=\"text-align: right;\">\n",
       "      <th></th>\n",
       "      <th>Comparison</th>\n",
       "      <th>Correlation_Luad</th>\n",
       "      <th>Correlation_Brca</th>\n",
       "      <th>Color</th>\n",
       "    </tr>\n",
       "  </thead>\n",
       "  <tbody>\n",
       "    <tr>\n",
       "      <th>0</th>\n",
       "      <td>GRB2_proteomics</td>\n",
       "      <td>-0.302439</td>\n",
       "      <td>-0.177379</td>\n",
       "      <td>Luad_sig</td>\n",
       "    </tr>\n",
       "    <tr>\n",
       "      <th>1</th>\n",
       "      <td>SHC1_proteomics</td>\n",
       "      <td>-0.135844</td>\n",
       "      <td>0.090908</td>\n",
       "      <td>Not_sig</td>\n",
       "    </tr>\n",
       "    <tr>\n",
       "      <th>2</th>\n",
       "      <td>TOR4A_proteomics</td>\n",
       "      <td>-0.033014</td>\n",
       "      <td>0.089115</td>\n",
       "      <td>Not_sig</td>\n",
       "    </tr>\n",
       "    <tr>\n",
       "      <th>3</th>\n",
       "      <td>DOCK10_proteomics</td>\n",
       "      <td>NaN</td>\n",
       "      <td>NaN</td>\n",
       "      <td>Not_sig</td>\n",
       "    </tr>\n",
       "    <tr>\n",
       "      <th>4</th>\n",
       "      <td>APBB1IP_proteomics</td>\n",
       "      <td>-0.277151</td>\n",
       "      <td>0.114010</td>\n",
       "      <td>Luad_sig</td>\n",
       "    </tr>\n",
       "  </tbody>\n",
       "</table>\n",
       "</div>"
      ],
      "text/plain": [
       "           Comparison  Correlation_Luad  Correlation_Brca     Color\n",
       "0     GRB2_proteomics         -0.302439         -0.177379  Luad_sig\n",
       "1     SHC1_proteomics         -0.135844          0.090908   Not_sig\n",
       "2    TOR4A_proteomics         -0.033014          0.089115   Not_sig\n",
       "3   DOCK10_proteomics               NaN               NaN   Not_sig\n",
       "4  APBB1IP_proteomics         -0.277151          0.114010  Luad_sig"
      ]
     },
     "execution_count": 25,
     "metadata": {},
     "output_type": "execute_result"
    }
   ],
   "source": [
    "color_df = color.reset_index()\n",
    "plot_df = df.merge(color_df, on='Comparison')\n",
    "plot_df= plot_df.drop(columns=['P_value_Luad','P_value_Brca'])\n",
    "plot_df.head()"
   ]
  },
  {
   "cell_type": "markdown",
   "metadata": {},
   "source": [
    "# Plot"
   ]
  },
  {
   "cell_type": "code",
   "execution_count": 28,
   "metadata": {},
   "outputs": [],
   "source": [
    "def binary_corr_plot(prepared_df, x_axis_name, y_axis_name, title, save_file_name=None):\n",
    "    \n",
    "    color_dict = {'Both_sig':'green',\n",
    "                  'Brca_sig':'yellow',\n",
    "                  'Luad_sig': 'blue',\n",
    "                  'Not_sig': 'grey'}\n",
    "    \n",
    "    sns.set(font_scale = 1.2)\n",
    "    #sns.axes_style(\"whitegrid\")\n",
    "    plt.figure(figsize=(10, 10))\n",
    "    all_pvals = sns.scatterplot(x=prepared_df.columns[1], y=prepared_df.columns[2], data=prepared_df,\n",
    "                               hue=prepared_df.columns[3], palette=color_dict)\n",
    "    all_pvals.set_title(title)\n",
    "        \n",
    "    plt.xlabel(x_axis_name)\n",
    "    plt.ylabel(y_axis_name)\n",
    "    plt.xlim(-.7, .7) \n",
    "    plt.ylim(-.7, .7)\n",
    "    \n",
    "    if save_file_name is not None:\n",
    "        plt.savefig(save_file_name+'.png')\n",
    "    plt.show()\n",
    "    #plt.clf()\n",
    "    plt.close()\n",
    "    return 0\n"
   ]
  },
  {
   "cell_type": "code",
   "execution_count": 29,
   "metadata": {},
   "outputs": [
    {
     "data": {
      "image/png": "[encoded data removed]",
      "text/plain": [
       "<Figure size 720x720 with 1 Axes>"
      ]
     },
     "metadata": {},
     "output_type": "display_data"
    },
    {
     "data": {
      "text/plain": [
       "0"
      ]
     },
     "execution_count": 29,
     "metadata": {},
     "output_type": "execute_result"
    }
   ],
   "source": [
    "binary_corr_plot(plot_df, 'Luad Correlations', 'Brca Correlations','Correlations for the Hemostasis Pathway')"
   ]
  },
  {
   "cell_type": "code",
   "execution_count": null,
   "metadata": {},
   "outputs": [],
   "source": []
  }
 ],
 "metadata": {
  "kernelspec": {
   "display_name": "Python 3",
   "language": "python",
   "name": "python3"
  },
  "language_info": {
   "codemirror_mode": {
    "name": "ipython",
    "version": 3
   },
   "file_extension": ".py",
   "mimetype": "text/x-python",
   "name": "python",
   "nbconvert_exporter": "python",
   "pygments_lexer": "ipython3",
   "version": "3.7.3"
  }
 },
 "nbformat": 4,
 "nbformat_minor": 2
}
