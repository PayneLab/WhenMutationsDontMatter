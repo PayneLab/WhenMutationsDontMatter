{
 "cells": [
  {
   "cell_type": "code",
   "execution_count": 1,
   "metadata": {},
   "outputs": [
    {
     "name": "stderr",
     "output_type": "stream",
     "text": [
      "/Users/Lindsey/anaconda3/lib/python3.7/site-packages/statsmodels/tools/_testing.py:19: FutureWarning: pandas.util.testing is deprecated. Use the functions in the public API at pandas.testing instead.\n",
      "  import pandas.util.testing as tm\n"
     ]
    }
   ],
   "source": [
    "import cptac\n",
    "import numpy as np\n",
    "import pandas as pd\n",
    "import numpy as np\n",
    "import seaborn as sns\n",
    "import matplotlib.pyplot as plt\n",
    "import plot_utils as p\n",
    "from matplotlib_venn import venn2, venn2_circles, venn2_unweighted\n",
    "from matplotlib_venn import venn3, venn3_circles\n",
    "from matplotlib import pyplot as plt\n",
    "%matplotlib inline"
   ]
  },
  {
   "cell_type": "code",
   "execution_count": 2,
   "metadata": {},
   "outputs": [
    {
     "name": "stdout",
     "output_type": "stream",
     "text": [
      "Checking that luad index is up-to-date...       \r"
     ]
    },
    {
     "name": "stderr",
     "output_type": "stream",
     "text": [
      "cptac warning: The HNSCC data is currently strictly reserved for CPTAC investigators. Otherwise, you are not authorized to access these data. Additionally, even after these data become publicly available, they will be subject to a publication embargo (see https://proteomics.cancer.gov/data-portal/about/data-use-agreement or enter cptac.embargo() to open the webpage for more details). (/Users/Lindsey/anaconda3/lib/python3.7/site-packages/ipykernel_launcher.py, line 2)\n"
     ]
    },
    {
     "name": "stdout",
     "output_type": "stream",
     "text": [
      "Checking that brca index is up-to-date...   \r"
     ]
    },
    {
     "name": "stderr",
     "output_type": "stream",
     "text": [
      "cptac warning: The GBM dataset is under publication embargo until March 01, 2021. CPTAC is a community resource project and data are made available rapidly after generation for community research use. The embargo allows exploring and utilizing the data, but analysis may not be published until after the embargo date. Please see https://proteomics.cancer.gov/data-portal/about/data-use-agreement or enter cptac.embargo() to open the webpage for more details. (/Users/Lindsey/anaconda3/lib/python3.7/site-packages/ipykernel_launcher.py, line 7)\n"
     ]
    },
    {
     "name": "stdout",
     "output_type": "stream",
     "text": [
      "                                         \r"
     ]
    },
    {
     "name": "stderr",
     "output_type": "stream",
     "text": [
      "cptac warning: The LSCC data is currently strictly reserved for CPTAC investigators. Otherwise, you are not authorized to access these data. Additionally, even after these data become publicly available, they will be subject to a publication embargo (see https://proteomics.cancer.gov/data-portal/about/data-use-agreement or enter cptac.embargo() to open the webpage for more details). (/Users/Lindsey/anaconda3/lib/python3.7/site-packages/ipykernel_launcher.py, line 9)\n"
     ]
    }
   ],
   "source": [
    "en = cptac.Endometrial()\n",
    "hn = cptac.Hnscc()\n",
    "l = cptac.Luad()\n",
    "o = cptac.Ovarian()\n",
    "c = cptac.Ccrcc()\n",
    "col = cptac.Colon()\n",
    "g = cptac.Gbm()\n",
    "b = cptac.Brca()\n",
    "lscc = cptac.Lscc()"
   ]
  },
  {
   "cell_type": "code",
   "execution_count": 3,
   "metadata": {},
   "outputs": [],
   "source": [
    "def merge_data_frames(cancer):\n",
    "    Pik = cancer.get_genotype_all_vars(\"PIK3CA\")\n",
    "    missense = Pik.loc[Pik['Mutation'] == \"Missense_Mutation\"]\n",
    "    hotspot = missense[(missense.Location.str.contains('E542K'))|(missense.Location.str.contains('E545K'))|(missense.Location.str.contains('H1047R'))]\n",
    "\n",
    "    egfr = cancer.get_genotype_all_vars(\"EGFR\")\n",
    "    amp = egfr.loc[egfr['Mutation'] == \"Amplification\"]\n",
    "    pten = cancer.get_genotype_all_vars(\"PTEN\")\n",
    "    pten_Del = pten.loc[pten['Mutation'] == \"Deletion\" ]\n",
    "    #pten_Del = pten.loc[pten['Mutation'] == \"Frame_Shift_Del\" ]\n",
    "    brca_all_mut = pd.merge(pten_Del, amp, on=\"Patient_ID\", how = \"outer\")\n",
    "    brca_all_mut = brca_all_mut.rename(columns={\"Mutation_x\": \"PTEN_Mutation\",\"Mutation_y\":\"EGFR_Mutation\"  })\n",
    "    brca_all_mut= pd.merge(brca_all_mut, hotspot, on = \"Patient_ID\", how = \"outer\")\n",
    "    brca_all_mut = brca_all_mut.rename(columns={\"Mutation\": \"PIK3CA_Hotspot\"})\n",
    "    brca_all_mut = brca_all_mut[[\"EGFR_Mutation\",\"PTEN_Mutation\",\"PIK3CA_Hotspot\"]]\n",
    "    return brca_all_mut\n",
    "    "
   ]
  },
  {
   "cell_type": "code",
   "execution_count": 4,
   "metadata": {},
   "outputs": [],
   "source": [
    "def merge_data_frames2(cancer):\n",
    "    egfr = cancer.get_genotype_all_vars(\"EGFR\")\n",
    "    amp = egfr.loc[egfr['Mutation'] == \"Amplification\"]\n",
    "    pten = cancer.get_genotype_all_vars(\"PTEN\")\n",
    "    pten_Del = pten.loc[pten['Mutation'] == \"Deletion\" ]\n",
    "    brca_all_mut = pd.merge(pten_Del, amp, on=\"Patient_ID\", how = \"outer\")\n",
    "    brca_all_mut = brca_all_mut.rename(columns={\"Mutation_x\": \"PTEN_Mutation\",\"Mutation_y\":\"EGFR_Mutation\"  })\n",
    "    \n",
    "    brca_all_mut = brca_all_mut[[\"EGFR_Mutation\",\"PTEN_Mutation\"]]\n",
    "    return brca_all_mut"
   ]
  },
  {
   "cell_type": "code",
   "execution_count": 5,
   "metadata": {},
   "outputs": [],
   "source": [
    "def HasMutation(row):\n",
    "    hasMut1 = False\n",
    "    hasMut2 = False\n",
    "    for item in row:\n",
    "        if pd.isnull(item):\n",
    "            continue\n",
    "        if item == \"Amplification\":\n",
    "            hasMut1 = True\n",
    "        if item == \"Deletion\":\n",
    "            hasMut2 = True\n",
    "            \n",
    "    if hasMut1 & hasMut2:\n",
    "        return \"Both\"\n",
    "    if hasMut1 & (hasMut2 == False):\n",
    "        return \"EGFR_mut\"\n",
    "    if (hasMut1 == False) & hasMut2:\n",
    "        return \"Pten_mut\"\n",
    "    return False"
   ]
  },
  {
   "cell_type": "code",
   "execution_count": 6,
   "metadata": {},
   "outputs": [],
   "source": [
    "def All3(row):\n",
    "    hasMut1 = False\n",
    "    hasMut2 = False\n",
    "    hasMut3 = False\n",
    "    for item in row:\n",
    "        if pd.isnull(item):\n",
    "            continue\n",
    "        if item == \"Amplification\":\n",
    "            hasMut1 = True\n",
    "        if item == \"Deletion\":\n",
    "            hasMut2 = True\n",
    "        if item == \"Missense_Mutation\":\n",
    "            hasMut3 = True\n",
    "            \n",
    "    if hasMut1 & hasMut2 & hasMut3:\n",
    "        return True\n",
    "    return False"
   ]
  },
  {
   "cell_type": "code",
   "execution_count": 7,
   "metadata": {},
   "outputs": [],
   "source": [
    "def EGFR_PTEN(row):\n",
    "    hasMut1 = False\n",
    "    hasMut2 = False\n",
    "    hasMut3 = False\n",
    "    for item in row:\n",
    "        if pd.isnull(item):\n",
    "            continue\n",
    "        if item == \"Amplification\":\n",
    "            hasMut1 = True\n",
    "        elif item == \"Deletion\":\n",
    "            hasMut2 = True\n",
    "        \n",
    "        elif item == \"Missense_Mutation\":\n",
    "            hasMut3 = True\n",
    "            \n",
    "    if hasMut1 & hasMut2 & (hasMut3 == False):\n",
    "        return True\n",
    "    return False"
   ]
  },
  {
   "cell_type": "code",
   "execution_count": 8,
   "metadata": {},
   "outputs": [],
   "source": [
    "def EGFR_PTEN(row):\n",
    "    hasMut1 = False\n",
    "    hasMut2 = False\n",
    "    hasMut3 = False\n",
    "    for item in row:\n",
    "        if pd.isnull(item):\n",
    "            continue\n",
    "        if item == \"Amplification\":\n",
    "            hasMut1 = True\n",
    "        elif item == \"Deletion\":\n",
    "            hasMut2 = True\n",
    "        \n",
    "        elif item == \"Missense_Mutation\":\n",
    "            hasMut3 = True\n",
    "            \n",
    "    if hasMut1 & hasMut2 & (hasMut3 == False):\n",
    "        return True\n",
    "    return False"
   ]
  },
  {
   "cell_type": "code",
   "execution_count": 9,
   "metadata": {},
   "outputs": [],
   "source": [
    "def EGFR_PIK3CA(row):\n",
    "    hasMut1 = False\n",
    "    hasMut2 = False\n",
    "    hasMut3 = False\n",
    "    for item in row:\n",
    "        if pd.isnull(item):\n",
    "            continue\n",
    "        if item == \"Amplification\":\n",
    "            hasMut1 = True\n",
    "        elif item == \"Deletion\":\n",
    "            hasMut2 = True\n",
    "        \n",
    "        elif item == \"Missense_Mutation\":\n",
    "            hasMut3 = True\n",
    "            \n",
    "    if hasMut1 & (hasMut2 == False) & hasMut3:\n",
    "        return True\n",
    "    return False"
   ]
  },
  {
   "cell_type": "code",
   "execution_count": 10,
   "metadata": {},
   "outputs": [],
   "source": [
    "def PTEN_PIK3CA(row):\n",
    "    hasMut1 = False\n",
    "    hasMut2 = False\n",
    "    hasMut3 = False\n",
    "    for item in row:\n",
    "        if pd.isnull(item):\n",
    "            continue\n",
    "        if item == \"Amplification\":\n",
    "            hasMut1 = True\n",
    "        elif item == \"Deletion\":\n",
    "            hasMut2 = True\n",
    "        \n",
    "        elif item == \"Missense_Mutation\":\n",
    "            hasMut3 = True\n",
    "            \n",
    "    if (hasMut1 == False) & hasMut2 & hasMut3:\n",
    "        return True\n",
    "    return False"
   ]
  },
  {
   "cell_type": "markdown",
   "metadata": {},
   "source": [
    "# Brca"
   ]
  },
  {
   "cell_type": "code",
   "execution_count": 11,
   "metadata": {},
   "outputs": [
    {
     "name": "stderr",
     "output_type": "stream",
     "text": [
      "cptac warning: In joining the somatic_mutation table, no mutations were found for the following samples, so they were filled with Wildtype_Tumor or Wildtype_Normal: 83 samples for the PIK3CA gene (/Users/Lindsey/anaconda3/lib/python3.7/site-packages/cptac/dataset.py, line 394)\n",
      "cptac warning: In joining the somatic_mutation table, no mutations were found for the following samples, so they were filled with Wildtype_Tumor or Wildtype_Normal: 118 samples for the EGFR gene (/Users/Lindsey/anaconda3/lib/python3.7/site-packages/cptac/dataset.py, line 394)\n",
      "cptac warning: In joining the somatic_mutation table, no mutations were found for the following samples, so they were filled with Wildtype_Tumor or Wildtype_Normal: 113 samples for the PTEN gene (/Users/Lindsey/anaconda3/lib/python3.7/site-packages/cptac/dataset.py, line 394)\n"
     ]
    }
   ],
   "source": [
    "brca = merge_data_frames(b)\n",
    "brca[\"All3\"] = brca.apply(All3, axis = 1)\n",
    "brca[\"EGFR_PTEN\"] = brca.apply(EGFR_PTEN, axis = 1)\n",
    "brca[\"EGFR_PIK3CA\"] = brca.apply(EGFR_PIK3CA, axis = 1)\n",
    "brca[\"PTEN_PIK3CA\"] = brca.apply(PTEN_PIK3CA, axis = 1)\n",
    "data = {'All_3':  [sum(brca[\"All3\"])],\n",
    "        'EGFR_PTEN': [sum(brca[\"EGFR_PTEN\"])],\n",
    "        'EGFR_PIK3CA': [sum(brca[\"EGFR_PIK3CA\"])],\n",
    "        'PTEN_PIK3CA': [sum(brca[\"PTEN_PIK3CA\"])],\n",
    "        \"Total_Samples\" :[len(brca)],\n",
    "        \"Cancer_Type\" : [\"BRCA\"]\n",
    "        }\n",
    "\n",
    "df = pd.DataFrame (data, columns = [\"Cancer_Type\",'All_3','EGFR_PTEN','EGFR_PIK3CA',\"PTEN_PIK3CA\",\"Total_Samples\"])\n"
   ]
  },
  {
   "cell_type": "markdown",
   "metadata": {},
   "source": [
    "# Endometrial"
   ]
  },
  {
   "cell_type": "code",
   "execution_count": 45,
   "metadata": {},
   "outputs": [
    {
     "name": "stderr",
     "output_type": "stream",
     "text": [
      "cptac warning: In joining the somatic_mutation table, no mutations were found for the following samples, so they were filled with Wildtype_Tumor or Wildtype_Normal: 48 samples for the PIK3CA gene (/Users/Lindsey/anaconda3/lib/python3.7/site-packages/cptac/dataset.py, line 383)\n",
      "cptac warning: In joining the somatic_mutation table, no mutations were found for the following samples, so they were filled with Wildtype_Tumor or Wildtype_Normal: 91 samples for the EGFR gene (/Users/Lindsey/anaconda3/lib/python3.7/site-packages/cptac/dataset.py, line 383)\n",
      "cptac warning: In joining the somatic_mutation table, no mutations were found for the following samples, so they were filled with Wildtype_Tumor or Wildtype_Normal: 20 samples for the PTEN gene (/Users/Lindsey/anaconda3/lib/python3.7/site-packages/cptac/dataset.py, line 383)\n"
     ]
    }
   ],
   "source": [
    "endo = merge_data_frames(en)\n",
    "endo[\"All3\"] = endo.apply(All3, axis = 1)\n",
    "endo[\"EGFR_PTEN\"] = endo.apply(EGFR_PTEN, axis = 1)\n",
    "endo[\"EGFR_PIK3CA\"] = endo.apply(EGFR_PIK3CA, axis = 1)\n",
    "endo[\"PTEN_PIK3CA\"] = endo.apply(PTEN_PIK3CA, axis = 1)\n",
    "data = {'All_3':  [sum(endo[\"All3\"])],\n",
    "        'EGFR_PTEN': [sum(endo[\"EGFR_PTEN\"])],\n",
    "        'EGFR_PIK3CA': [sum(endo[\"EGFR_PIK3CA\"])],\n",
    "        'PTEN_PIK3CA': [sum(endo[\"PTEN_PIK3CA\"])],\n",
    "        \"Total_Samples\" :[len(endo)],\n",
    "        \"Cancer_Type\" : [\"Endo\"]\n",
    "        }\n",
    "\n",
    "df2 = pd.DataFrame (data, columns = [\"Cancer_Type\",'All_3','EGFR_PTEN','EGFR_PIK3CA',\"PTEN_PIK3CA\",\"Total_Samples\"])\n",
    "df = df.append(df2)\n"
   ]
  },
  {
   "cell_type": "markdown",
   "metadata": {},
   "source": [
    "# Colon"
   ]
  },
  {
   "cell_type": "code",
   "execution_count": 46,
   "metadata": {},
   "outputs": [
    {
     "name": "stderr",
     "output_type": "stream",
     "text": [
      "cptac warning: In joining the somatic_mutation table, no mutations were found for the following samples, so they were filled with Wildtype_Tumor or Wildtype_Normal: 82 samples for the PIK3CA gene (/Users/Lindsey/anaconda3/lib/python3.7/site-packages/cptac/dataset.py, line 383)\n",
      "cptac warning: CNV data was not found for the following samples, so CNV data columns were filled with NaN for these samples: 05CO045 (/Users/Lindsey/anaconda3/lib/python3.7/site-packages/cptac/dataset.py, line 383)\n",
      "cptac warning: In joining the somatic_mutation table, no mutations were found for the following samples, so they were filled with Wildtype_Tumor or Wildtype_Normal: 103 samples for the EGFR gene (/Users/Lindsey/anaconda3/lib/python3.7/site-packages/cptac/dataset.py, line 383)\n",
      "cptac warning: CNV data was not found for the following samples, so CNV data columns were filled with NaN for these samples: 05CO045 (/Users/Lindsey/anaconda3/lib/python3.7/site-packages/cptac/dataset.py, line 383)\n",
      "cptac warning: In joining the somatic_mutation table, no mutations were found for the following samples, so they were filled with Wildtype_Tumor or Wildtype_Normal: 100 samples for the PTEN gene (/Users/Lindsey/anaconda3/lib/python3.7/site-packages/cptac/dataset.py, line 383)\n",
      "cptac warning: CNV data was not found for the following samples, so CNV data columns were filled with NaN for these samples: 05CO045 (/Users/Lindsey/anaconda3/lib/python3.7/site-packages/cptac/dataset.py, line 383)\n"
     ]
    }
   ],
   "source": [
    "colon = merge_data_frames(col)\n",
    "colon.head()\n",
    "colon[\"All3\"] = colon.apply(All3, axis = 1)\n",
    "colon[\"EGFR_PTEN\"] = colon.apply(EGFR_PTEN, axis = 1)\n",
    "colon[\"EGFR_PIK3CA\"] = colon.apply(EGFR_PIK3CA, axis = 1)\n",
    "colon[\"PTEN_PIK3CA\"] = colon.apply(PTEN_PIK3CA, axis = 1)\n",
    "data = {'All_3':  [sum(colon[\"All3\"])],\n",
    "        'EGFR_PTEN': [sum(colon[\"EGFR_PTEN\"])],\n",
    "        'EGFR_PIK3CA': [sum(colon[\"EGFR_PIK3CA\"])],\n",
    "        'PTEN_PIK3CA': [sum(colon[\"PTEN_PIK3CA\"])],\n",
    "        \"Total_Samples\" :[len(colon)],\n",
    "        \"Cancer_Type\" : [\"Colon\"]\n",
    "        }\n",
    "\n",
    "df2 = pd.DataFrame (data, columns = [\"Cancer_Type\",'All_3','EGFR_PTEN','EGFR_PIK3CA',\"PTEN_PIK3CA\",\"Total_Samples\"])\n",
    "df = df.append(df2)\n"
   ]
  },
  {
   "cell_type": "markdown",
   "metadata": {},
   "source": [
    "# GBM"
   ]
  },
  {
   "cell_type": "code",
   "execution_count": 19,
   "metadata": {},
   "outputs": [
    {
     "name": "stderr",
     "output_type": "stream",
     "text": [
      "cptac warning: In joining the somatic_mutation table, no mutations were found for the following samples, so they were filled with Wildtype_Tumor or Wildtype_Normal: 83 samples for the EGFR gene (/Users/Lindsey/anaconda3/lib/python3.7/site-packages/cptac/dataset.py, line 383)\n",
      "cptac warning: CNV data was not found for the following samples, so CNV data columns were filled with NaN for these samples: C3L-01834 (/Users/Lindsey/anaconda3/lib/python3.7/site-packages/cptac/dataset.py, line 383)\n",
      "cptac warning: In joining the somatic_mutation table, no mutations were found for the following samples, so they were filled with Wildtype_Tumor or Wildtype_Normal: 72 samples for the PTEN gene (/Users/Lindsey/anaconda3/lib/python3.7/site-packages/cptac/dataset.py, line 383)\n",
      "cptac warning: CNV data was not found for the following samples, so CNV data columns were filled with NaN for these samples: C3L-01834 (/Users/Lindsey/anaconda3/lib/python3.7/site-packages/cptac/dataset.py, line 383)\n"
     ]
    },
    {
     "data": {
      "text/html": [
       "<div>\n",
       "<style scoped>\n",
       "    .dataframe tbody tr th:only-of-type {\n",
       "        vertical-align: middle;\n",
       "    }\n",
       "\n",
       "    .dataframe tbody tr th {\n",
       "        vertical-align: top;\n",
       "    }\n",
       "\n",
       "    .dataframe thead th {\n",
       "        text-align: right;\n",
       "    }\n",
       "</style>\n",
       "<table border=\"1\" class=\"dataframe\">\n",
       "  <thead>\n",
       "    <tr style=\"text-align: right;\">\n",
       "      <th>Name</th>\n",
       "      <th>EGFR_Mutation</th>\n",
       "      <th>PTEN_Mutation</th>\n",
       "      <th>Both</th>\n",
       "    </tr>\n",
       "    <tr>\n",
       "      <th>Patient_ID</th>\n",
       "      <th></th>\n",
       "      <th></th>\n",
       "      <th></th>\n",
       "    </tr>\n",
       "  </thead>\n",
       "  <tbody>\n",
       "    <tr>\n",
       "      <th>C3L-00104</th>\n",
       "      <td>Amplification</td>\n",
       "      <td>Deletion</td>\n",
       "      <td>True</td>\n",
       "    </tr>\n",
       "    <tr>\n",
       "      <th>C3L-00365</th>\n",
       "      <td>NaN</td>\n",
       "      <td>Deletion</td>\n",
       "      <td>Pten_mut</td>\n",
       "    </tr>\n",
       "    <tr>\n",
       "      <th>C3L-00674</th>\n",
       "      <td>Amplification</td>\n",
       "      <td>Deletion</td>\n",
       "      <td>True</td>\n",
       "    </tr>\n",
       "    <tr>\n",
       "      <th>C3L-00677</th>\n",
       "      <td>Amplification</td>\n",
       "      <td>Deletion</td>\n",
       "      <td>True</td>\n",
       "    </tr>\n",
       "    <tr>\n",
       "      <th>C3L-01040</th>\n",
       "      <td>Amplification</td>\n",
       "      <td>Deletion</td>\n",
       "      <td>True</td>\n",
       "    </tr>\n",
       "    <tr>\n",
       "      <th>...</th>\n",
       "      <td>...</td>\n",
       "      <td>...</td>\n",
       "      <td>...</td>\n",
       "    </tr>\n",
       "    <tr>\n",
       "      <th>C3L-03260</th>\n",
       "      <td>Amplification</td>\n",
       "      <td>NaN</td>\n",
       "      <td>EGFR_mut</td>\n",
       "    </tr>\n",
       "    <tr>\n",
       "      <th>C3L-03392</th>\n",
       "      <td>Amplification</td>\n",
       "      <td>NaN</td>\n",
       "      <td>EGFR_mut</td>\n",
       "    </tr>\n",
       "    <tr>\n",
       "      <th>C3N-02784</th>\n",
       "      <td>Amplification</td>\n",
       "      <td>NaN</td>\n",
       "      <td>EGFR_mut</td>\n",
       "    </tr>\n",
       "    <tr>\n",
       "      <th>C3N-03088</th>\n",
       "      <td>Amplification</td>\n",
       "      <td>NaN</td>\n",
       "      <td>EGFR_mut</td>\n",
       "    </tr>\n",
       "    <tr>\n",
       "      <th>C3N-03188</th>\n",
       "      <td>Amplification</td>\n",
       "      <td>NaN</td>\n",
       "      <td>EGFR_mut</td>\n",
       "    </tr>\n",
       "  </tbody>\n",
       "</table>\n",
       "<p>86 rows × 3 columns</p>\n",
       "</div>"
      ],
      "text/plain": [
       "Name        EGFR_Mutation PTEN_Mutation      Both\n",
       "Patient_ID                                       \n",
       "C3L-00104   Amplification      Deletion      True\n",
       "C3L-00365             NaN      Deletion  Pten_mut\n",
       "C3L-00674   Amplification      Deletion      True\n",
       "C3L-00677   Amplification      Deletion      True\n",
       "C3L-01040   Amplification      Deletion      True\n",
       "...                   ...           ...       ...\n",
       "C3L-03260   Amplification           NaN  EGFR_mut\n",
       "C3L-03392   Amplification           NaN  EGFR_mut\n",
       "C3N-02784   Amplification           NaN  EGFR_mut\n",
       "C3N-03088   Amplification           NaN  EGFR_mut\n",
       "C3N-03188   Amplification           NaN  EGFR_mut\n",
       "\n",
       "[86 rows x 3 columns]"
      ]
     },
     "execution_count": 19,
     "metadata": {},
     "output_type": "execute_result"
    }
   ],
   "source": [
    "gbm = merge_data_frames2(g)\n",
    "gbm[\"Both\"] = gbm.apply(HasMutation, axis = 1)\n",
    "\n",
    "gbm\n"
   ]
  },
  {
   "cell_type": "markdown",
   "metadata": {},
   "source": [
    "# Luad"
   ]
  },
  {
   "cell_type": "code",
   "execution_count": 11,
   "metadata": {},
   "outputs": [
    {
     "name": "stderr",
     "output_type": "stream",
     "text": [
      "cptac warning: In joining the somatic_mutation table, no mutations were found for the following samples, so they were filled with Wildtype_Tumor or Wildtype_Normal: 69 samples for the EGFR gene (/Users/Lindsey/anaconda3/lib/python3.7/site-packages/cptac/dataset.py, line 313)\n"
     ]
    },
    {
     "ename": "TypeError",
     "evalue": "unsupported operand type(s) for +: 'int' and 'str'",
     "output_type": "error",
     "traceback": [
      "\u001b[0;31m---------------------------------------------------------------------------\u001b[0m",
      "\u001b[0;31mTypeError\u001b[0m                                 Traceback (most recent call last)",
      "\u001b[0;32m<ipython-input-11-abc0e822d61a>\u001b[0m in \u001b[0;36m<module>\u001b[0;34m\u001b[0m\n\u001b[1;32m      2\u001b[0m \u001b[0mluad\u001b[0m\u001b[0;34m[\u001b[0m\u001b[0;34m\"Both\"\u001b[0m\u001b[0;34m]\u001b[0m \u001b[0;34m=\u001b[0m \u001b[0mluad\u001b[0m\u001b[0;34m.\u001b[0m\u001b[0mapply\u001b[0m\u001b[0;34m(\u001b[0m\u001b[0mHasMutation\u001b[0m\u001b[0;34m,\u001b[0m \u001b[0maxis\u001b[0m \u001b[0;34m=\u001b[0m \u001b[0;36m1\u001b[0m\u001b[0;34m)\u001b[0m\u001b[0;34m\u001b[0m\u001b[0;34m\u001b[0m\u001b[0m\n\u001b[1;32m      3\u001b[0m data = {\n\u001b[0;32m----> 4\u001b[0;31m         \u001b[0;34m'EGFR_PTEN'\u001b[0m\u001b[0;34m:\u001b[0m \u001b[0;34m[\u001b[0m\u001b[0msum\u001b[0m\u001b[0;34m(\u001b[0m\u001b[0mluad\u001b[0m\u001b[0;34m[\u001b[0m\u001b[0;34m\"Both\"\u001b[0m\u001b[0;34m]\u001b[0m\u001b[0;34m)\u001b[0m\u001b[0;34m]\u001b[0m\u001b[0;34m,\u001b[0m\u001b[0;34m\u001b[0m\u001b[0;34m\u001b[0m\u001b[0m\n\u001b[0m\u001b[1;32m      5\u001b[0m         \u001b[0;34m\"Total_Samples\"\u001b[0m \u001b[0;34m:\u001b[0m\u001b[0;34m[\u001b[0m\u001b[0mlen\u001b[0m\u001b[0;34m(\u001b[0m\u001b[0mluad\u001b[0m\u001b[0;34m)\u001b[0m\u001b[0;34m]\u001b[0m\u001b[0;34m,\u001b[0m\u001b[0;34m\u001b[0m\u001b[0;34m\u001b[0m\u001b[0m\n\u001b[1;32m      6\u001b[0m         \u001b[0;34m\"Cancer_Type\"\u001b[0m \u001b[0;34m:\u001b[0m \u001b[0;34m[\u001b[0m\u001b[0;34m\"Luad\"\u001b[0m\u001b[0;34m]\u001b[0m\u001b[0;34m\u001b[0m\u001b[0;34m\u001b[0m\u001b[0m\n",
      "\u001b[0;31mTypeError\u001b[0m: unsupported operand type(s) for +: 'int' and 'str'"
     ]
    }
   ],
   "source": [
    "luad = merge_data_frames2(l)\n",
    "luad[\"Both\"] = luad.apply(HasMutation, axis = 1)\n",
    "data = {\n",
    "        'EGFR_PTEN': [sum(luad[\"Both\"])],\n",
    "        \"Total_Samples\" :[len(luad)],\n",
    "        \"Cancer_Type\" : [\"Luad\"]\n",
    "        }\n",
    "\n",
    "df2 = pd.DataFrame (data, columns = [\"Cancer_Type\",'EGFR_PTEN',\"Total_Samples\"])\n",
    "df = df.append(df2)\n",
    "\n",
    "\n"
   ]
  },
  {
   "cell_type": "markdown",
   "metadata": {},
   "source": [
    "# LSCC"
   ]
  },
  {
   "cell_type": "code",
   "execution_count": 49,
   "metadata": {},
   "outputs": [
    {
     "name": "stderr",
     "output_type": "stream",
     "text": [
      "cptac warning: In joining the somatic_mutation table, no mutations were found for the following samples, so they were filled with Wildtype_Tumor or Wildtype_Normal: 106 samples for the EGFR gene (/Users/Lindsey/anaconda3/lib/python3.7/site-packages/cptac/dataset.py, line 383)\n",
      "cptac warning: In joining the somatic_mutation table, no mutations were found for the following samples, so they were filled with Wildtype_Tumor or Wildtype_Normal: 99 samples for the PTEN gene (/Users/Lindsey/anaconda3/lib/python3.7/site-packages/cptac/dataset.py, line 383)\n"
     ]
    }
   ],
   "source": [
    "Lscc = merge_data_frames2(lscc)\n",
    "Lscc[\"Both\"] = Lscc.apply(HasMutation, axis = 1)\n",
    "data = {\n",
    "        'EGFR_PTEN': [sum(Lscc[\"Both\"])],\n",
    "        \"Total_Samples\" :[len(Lscc)],\n",
    "        \"Cancer_Type\" : [\"Lscc\"]\n",
    "        }\n",
    "\n",
    "df2 = pd.DataFrame (data, columns = [\"Cancer_Type\",'EGFR_PTEN',\"Total_Samples\"])\n",
    "df = df.append(df2)\n"
   ]
  },
  {
   "cell_type": "markdown",
   "metadata": {},
   "source": [
    "# Ovarian"
   ]
  },
  {
   "cell_type": "code",
   "execution_count": 51,
   "metadata": {},
   "outputs": [
    {
     "name": "stderr",
     "output_type": "stream",
     "text": [
      "cptac warning: In joining the somatic_mutation table, no mutations were found for the following samples, so they were filled with Wildtype_Tumor or Wildtype_Normal: 101 samples for the EGFR gene (/Users/Lindsey/anaconda3/lib/python3.7/site-packages/cptac/dataset.py, line 383)\n",
      "cptac warning: CNV data was not found for the following samples, so CNV data columns were filled with NaN for these samples: 01OV029, 02OV015 (/Users/Lindsey/anaconda3/lib/python3.7/site-packages/cptac/dataset.py, line 383)\n",
      "cptac warning: In joining the somatic_mutation table, no mutations were found for the following samples, so they were filled with Wildtype_Tumor or Wildtype_Normal: 98 samples for the PTEN gene (/Users/Lindsey/anaconda3/lib/python3.7/site-packages/cptac/dataset.py, line 383)\n",
      "cptac warning: CNV data was not found for the following samples, so CNV data columns were filled with NaN for these samples: 01OV029, 02OV015 (/Users/Lindsey/anaconda3/lib/python3.7/site-packages/cptac/dataset.py, line 383)\n"
     ]
    },
    {
     "data": {
      "text/html": [
       "<div>\n",
       "<style scoped>\n",
       "    .dataframe tbody tr th:only-of-type {\n",
       "        vertical-align: middle;\n",
       "    }\n",
       "\n",
       "    .dataframe tbody tr th {\n",
       "        vertical-align: top;\n",
       "    }\n",
       "\n",
       "    .dataframe thead th {\n",
       "        text-align: right;\n",
       "    }\n",
       "</style>\n",
       "<table border=\"1\" class=\"dataframe\">\n",
       "  <thead>\n",
       "    <tr style=\"text-align: right;\">\n",
       "      <th></th>\n",
       "      <th>All_3</th>\n",
       "      <th>EGFR_PTEN</th>\n",
       "      <th>EGFR_PIK3CA</th>\n",
       "      <th>PTEN_PIK3CA</th>\n",
       "      <th>Total_Samples</th>\n",
       "    </tr>\n",
       "    <tr>\n",
       "      <th>Cancer_Type</th>\n",
       "      <th></th>\n",
       "      <th></th>\n",
       "      <th></th>\n",
       "      <th></th>\n",
       "      <th></th>\n",
       "    </tr>\n",
       "  </thead>\n",
       "  <tbody>\n",
       "    <tr>\n",
       "      <th>BRCA</th>\n",
       "      <td>1.0</td>\n",
       "      <td>12</td>\n",
       "      <td>3.0</td>\n",
       "      <td>1.0</td>\n",
       "      <td>55</td>\n",
       "    </tr>\n",
       "    <tr>\n",
       "      <th>Endo</th>\n",
       "      <td>0.0</td>\n",
       "      <td>0</td>\n",
       "      <td>1.0</td>\n",
       "      <td>0.0</td>\n",
       "      <td>22</td>\n",
       "    </tr>\n",
       "    <tr>\n",
       "      <th>Colon</th>\n",
       "      <td>0.0</td>\n",
       "      <td>18</td>\n",
       "      <td>0.0</td>\n",
       "      <td>0.0</td>\n",
       "      <td>72</td>\n",
       "    </tr>\n",
       "    <tr>\n",
       "      <th>GBM</th>\n",
       "      <td>NaN</td>\n",
       "      <td>61</td>\n",
       "      <td>NaN</td>\n",
       "      <td>NaN</td>\n",
       "      <td>86</td>\n",
       "    </tr>\n",
       "    <tr>\n",
       "      <th>Luad</th>\n",
       "      <td>NaN</td>\n",
       "      <td>7</td>\n",
       "      <td>NaN</td>\n",
       "      <td>NaN</td>\n",
       "      <td>36</td>\n",
       "    </tr>\n",
       "    <tr>\n",
       "      <th>Lscc</th>\n",
       "      <td>NaN</td>\n",
       "      <td>9</td>\n",
       "      <td>NaN</td>\n",
       "      <td>NaN</td>\n",
       "      <td>47</td>\n",
       "    </tr>\n",
       "    <tr>\n",
       "      <th>Ovarian</th>\n",
       "      <td>NaN</td>\n",
       "      <td>7</td>\n",
       "      <td>NaN</td>\n",
       "      <td>NaN</td>\n",
       "      <td>42</td>\n",
       "    </tr>\n",
       "    <tr>\n",
       "      <th>Ovarian</th>\n",
       "      <td>NaN</td>\n",
       "      <td>7</td>\n",
       "      <td>NaN</td>\n",
       "      <td>NaN</td>\n",
       "      <td>42</td>\n",
       "    </tr>\n",
       "  </tbody>\n",
       "</table>\n",
       "</div>"
      ],
      "text/plain": [
       "             All_3  EGFR_PTEN  EGFR_PIK3CA  PTEN_PIK3CA  Total_Samples\n",
       "Cancer_Type                                                           \n",
       "BRCA           1.0         12          3.0          1.0             55\n",
       "Endo           0.0          0          1.0          0.0             22\n",
       "Colon          0.0         18          0.0          0.0             72\n",
       "GBM            NaN         61          NaN          NaN             86\n",
       "Luad           NaN          7          NaN          NaN             36\n",
       "Lscc           NaN          9          NaN          NaN             47\n",
       "Ovarian        NaN          7          NaN          NaN             42\n",
       "Ovarian        NaN          7          NaN          NaN             42"
      ]
     },
     "execution_count": 51,
     "metadata": {},
     "output_type": "execute_result"
    }
   ],
   "source": [
    "Ovar = merge_data_frames2(o)\n",
    "Ovar[\"Both\"] = Ovar.apply(HasMutation, axis = 1)\n",
    "data = {\n",
    "        'EGFR_PTEN': [sum(Ovar[\"Both\"])],\n",
    "        \"Total_Samples\" :[len(Ovar)],\n",
    "        \"Cancer_Type\" : [\"Ovarian\"]\n",
    "        }\n",
    "\n",
    "df2 = pd.DataFrame (data, columns = [\"Cancer_Type\",'EGFR_PTEN',\"Total_Samples\"])\n",
    "df = df.append(df2)\n",
    "df.set_index(\"Cancer_Type\")\n"
   ]
  },
  {
   "cell_type": "code",
   "execution_count": 14,
   "metadata": {},
   "outputs": [
    {
     "ename": "NameError",
     "evalue": "name 'cancer' is not defined",
     "output_type": "error",
     "traceback": [
      "\u001b[0;31m---------------------------------------------------------------------------\u001b[0m",
      "\u001b[0;31mNameError\u001b[0m                                 Traceback (most recent call last)",
      "\u001b[0;32m<ipython-input-14-5babc3a61dce>\u001b[0m in \u001b[0;36m<module>\u001b[0;34m\u001b[0m\n\u001b[0;32m----> 1\u001b[0;31m \u001b[0mpten\u001b[0m \u001b[0;34m=\u001b[0m \u001b[0mcancer\u001b[0m\u001b[0;34m.\u001b[0m\u001b[0mget_genotype_all_vars\u001b[0m\u001b[0;34m(\u001b[0m\u001b[0;34m\"PTEN\"\u001b[0m\u001b[0;34m)\u001b[0m\u001b[0;34m\u001b[0m\u001b[0;34m\u001b[0m\u001b[0m\n\u001b[0m",
      "\u001b[0;31mNameError\u001b[0m: name 'cancer' is not defined"
     ]
    }
   ],
   "source": []
  },
  {
   "cell_type": "code",
   "execution_count": null,
   "metadata": {},
   "outputs": [],
   "source": []
  }
 ],
 "metadata": {
  "kernelspec": {
   "display_name": "Python 3",
   "language": "python",
   "name": "python3"
  },
  "language_info": {
   "codemirror_mode": {
    "name": "ipython",
    "version": 3
   },
   "file_extension": ".py",
   "mimetype": "text/x-python",
   "name": "python",
   "nbconvert_exporter": "python",
   "pygments_lexer": "ipython3",
   "version": "3.7.3"
  }
 },
 "nbformat": 4,
 "nbformat_minor": 2
}
