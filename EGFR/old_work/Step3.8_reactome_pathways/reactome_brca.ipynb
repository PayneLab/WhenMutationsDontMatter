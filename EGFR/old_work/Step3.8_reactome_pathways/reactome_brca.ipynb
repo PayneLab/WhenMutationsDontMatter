{
 "cells": [
  {
   "cell_type": "markdown",
   "metadata": {},
   "source": [
    "# Reactome Pathways Brca"
   ]
  },
  {
   "cell_type": "markdown",
   "metadata": {},
   "source": [
    "This notebook uses reactome to visualize the different pathways that have many EGFR trans effects.\n",
    "Specifically it looks at Hemostasis and Metabolism"
   ]
  },
  {
   "cell_type": "code",
   "execution_count": 2,
   "metadata": {},
   "outputs": [
    {
     "name": "stderr",
     "output_type": "stream",
     "text": [
      "/Users/Lindsey/anaconda3/lib/python3.7/site-packages/statsmodels/tools/_testing.py:19: FutureWarning: pandas.util.testing is deprecated. Use the functions in the public API at pandas.testing instead.\n",
      "  import pandas.util.testing as tm\n"
     ]
    }
   ],
   "source": [
    "import pandas as pd\n",
    "import numpy as np\n",
    "import cptac\n",
    "import cptac.utils as ut\n",
    "import operator\n",
    "from IPython.display import Image\n",
    "\n",
    "\n",
    "import re \n",
    "import matplotlib.pyplot as plt\n",
    "from scipy import stats\n",
    "import gseapy as gp\n",
    "from gseapy.plot import barplot, dotplot\n",
    "\n",
    "import plot_utils as p"
   ]
  },
  {
   "cell_type": "code",
   "execution_count": 77,
   "metadata": {},
   "outputs": [
    {
     "data": {
      "text/html": [
       "<div>\n",
       "<style scoped>\n",
       "    .dataframe tbody tr th:only-of-type {\n",
       "        vertical-align: middle;\n",
       "    }\n",
       "\n",
       "    .dataframe tbody tr th {\n",
       "        vertical-align: top;\n",
       "    }\n",
       "\n",
       "    .dataframe thead th {\n",
       "        text-align: right;\n",
       "    }\n",
       "</style>\n",
       "<table border=\"1\" class=\"dataframe\">\n",
       "  <thead>\n",
       "    <tr style=\"text-align: right;\">\n",
       "      <th></th>\n",
       "      <th>Comparison</th>\n",
       "      <th>Correlation</th>\n",
       "    </tr>\n",
       "  </thead>\n",
       "  <tbody>\n",
       "    <tr>\n",
       "      <th>0</th>\n",
       "      <td>EGFR_proteomics</td>\n",
       "      <td>1.000000</td>\n",
       "    </tr>\n",
       "    <tr>\n",
       "      <th>1</th>\n",
       "      <td>MPP6_proteomics</td>\n",
       "      <td>0.648202</td>\n",
       "    </tr>\n",
       "    <tr>\n",
       "      <th>2</th>\n",
       "      <td>CPNE8_proteomics</td>\n",
       "      <td>0.616453</td>\n",
       "    </tr>\n",
       "    <tr>\n",
       "      <th>3</th>\n",
       "      <td>CRYBG3_proteomics</td>\n",
       "      <td>0.609997</td>\n",
       "    </tr>\n",
       "    <tr>\n",
       "      <th>4</th>\n",
       "      <td>PSAT1_proteomics</td>\n",
       "      <td>0.609319</td>\n",
       "    </tr>\n",
       "    <tr>\n",
       "      <th>...</th>\n",
       "      <td>...</td>\n",
       "      <td>...</td>\n",
       "    </tr>\n",
       "    <tr>\n",
       "      <th>2664</th>\n",
       "      <td>GGH_proteomics</td>\n",
       "      <td>0.229847</td>\n",
       "    </tr>\n",
       "    <tr>\n",
       "      <th>2665</th>\n",
       "      <td>KIF15_proteomics</td>\n",
       "      <td>0.229837</td>\n",
       "    </tr>\n",
       "    <tr>\n",
       "      <th>2666</th>\n",
       "      <td>MNS1_proteomics</td>\n",
       "      <td>0.270088</td>\n",
       "    </tr>\n",
       "    <tr>\n",
       "      <th>2667</th>\n",
       "      <td>RRP1_proteomics</td>\n",
       "      <td>0.229647</td>\n",
       "    </tr>\n",
       "    <tr>\n",
       "      <th>2668</th>\n",
       "      <td>ZDHHC20_proteomics</td>\n",
       "      <td>0.229381</td>\n",
       "    </tr>\n",
       "  </tbody>\n",
       "</table>\n",
       "<p>2669 rows × 2 columns</p>\n",
       "</div>"
      ],
      "text/plain": [
       "              Comparison  Correlation\n",
       "0        EGFR_proteomics     1.000000\n",
       "1        MPP6_proteomics     0.648202\n",
       "2       CPNE8_proteomics     0.616453\n",
       "3      CRYBG3_proteomics     0.609997\n",
       "4       PSAT1_proteomics     0.609319\n",
       "...                  ...          ...\n",
       "2664      GGH_proteomics     0.229847\n",
       "2665    KIF15_proteomics     0.229837\n",
       "2666     MNS1_proteomics     0.270088\n",
       "2667     RRP1_proteomics     0.229647\n",
       "2668  ZDHHC20_proteomics     0.229381\n",
       "\n",
       "[2669 rows x 2 columns]"
      ]
     },
     "execution_count": 77,
     "metadata": {},
     "output_type": "execute_result"
    }
   ],
   "source": [
    "#Load Brca trans effects df \n",
    "df_Brca = pd.read_csv(\"../Step3.1_Pearson_dfs_by_cancer/csv_files/Brca_EGFR_all_pearson_FDR.csv\")\n",
    "df_Brca = df_Brca[[\"Comparison\",\"Correlation\"]]\n",
    "df_Brca"
   ]
  },
  {
   "cell_type": "code",
   "execution_count": 78,
   "metadata": {},
   "outputs": [
    {
     "data": {
      "text/html": [
       "<div>\n",
       "<style scoped>\n",
       "    .dataframe tbody tr th:only-of-type {\n",
       "        vertical-align: middle;\n",
       "    }\n",
       "\n",
       "    .dataframe tbody tr th {\n",
       "        vertical-align: top;\n",
       "    }\n",
       "\n",
       "    .dataframe thead th {\n",
       "        text-align: right;\n",
       "    }\n",
       "</style>\n",
       "<table border=\"1\" class=\"dataframe\">\n",
       "  <thead>\n",
       "    <tr style=\"text-align: right;\">\n",
       "      <th></th>\n",
       "      <th>Brca_Correlation</th>\n",
       "    </tr>\n",
       "    <tr>\n",
       "      <th>Comparison</th>\n",
       "      <th></th>\n",
       "    </tr>\n",
       "  </thead>\n",
       "  <tbody>\n",
       "    <tr>\n",
       "      <th>EGFR</th>\n",
       "      <td>1.000000</td>\n",
       "    </tr>\n",
       "    <tr>\n",
       "      <th>MPP6</th>\n",
       "      <td>0.648202</td>\n",
       "    </tr>\n",
       "    <tr>\n",
       "      <th>CPNE8</th>\n",
       "      <td>0.616453</td>\n",
       "    </tr>\n",
       "    <tr>\n",
       "      <th>CRYBG3</th>\n",
       "      <td>0.609997</td>\n",
       "    </tr>\n",
       "    <tr>\n",
       "      <th>PSAT1</th>\n",
       "      <td>0.609319</td>\n",
       "    </tr>\n",
       "    <tr>\n",
       "      <th>...</th>\n",
       "      <td>...</td>\n",
       "    </tr>\n",
       "    <tr>\n",
       "      <th>GGH</th>\n",
       "      <td>0.229847</td>\n",
       "    </tr>\n",
       "    <tr>\n",
       "      <th>KIF15</th>\n",
       "      <td>0.229837</td>\n",
       "    </tr>\n",
       "    <tr>\n",
       "      <th>MNS1</th>\n",
       "      <td>0.270088</td>\n",
       "    </tr>\n",
       "    <tr>\n",
       "      <th>RRP1</th>\n",
       "      <td>0.229647</td>\n",
       "    </tr>\n",
       "    <tr>\n",
       "      <th>ZDHHC20</th>\n",
       "      <td>0.229381</td>\n",
       "    </tr>\n",
       "  </tbody>\n",
       "</table>\n",
       "<p>2669 rows × 1 columns</p>\n",
       "</div>"
      ],
      "text/plain": [
       "            Brca_Correlation\n",
       "Comparison                  \n",
       "EGFR                1.000000\n",
       "MPP6                0.648202\n",
       "CPNE8               0.616453\n",
       "CRYBG3              0.609997\n",
       "PSAT1               0.609319\n",
       "...                      ...\n",
       "GGH                 0.229847\n",
       "KIF15               0.229837\n",
       "MNS1                0.270088\n",
       "RRP1                0.229647\n",
       "ZDHHC20             0.229381\n",
       "\n",
       "[2669 rows x 1 columns]"
      ]
     },
     "execution_count": 78,
     "metadata": {},
     "output_type": "execute_result"
    }
   ],
   "source": [
    "#take out proteomics and set index\n",
    "df_Brca = df_Brca.replace(to_replace ='_proteomics', value = '', regex = True)\n",
    "df_Brca = df_Brca.set_index(\"Comparison\")\n",
    "df_Brca = df_Brca.rename(columns={\"Correlation\": \"Brca_Correlation\"})\n",
    "df_Brca"
   ]
  },
  {
   "cell_type": "code",
   "execution_count": 76,
   "metadata": {},
   "outputs": [
    {
     "data": {
      "text/plain": [
       "'https://reactome.org/PathwayBrowser/#/R-HSA-1430728.9&DTAB=AN&ANALYSIS=MjAyMDA1MjMwMTMwMzFfMTE5ODY%3D'"
      ]
     },
     "execution_count": 76,
     "metadata": {},
     "output_type": "execute_result"
    }
   ],
   "source": [
    "#Metabolism pathway\n",
    "ut.pathway_overlay(\n",
    "    df_Brca, \n",
    "    \"R-HSA-1430728.9\", \n",
    "    open_browser=True)"
   ]
  },
  {
   "cell_type": "code",
   "execution_count": 64,
   "metadata": {},
   "outputs": [
    {
     "data": {
      "text/plain": [
       "'https://reactome.org/PathwayBrowser/#/R-HSA-109582.2&DTAB=AN&ANALYSIS=MjAyMDA1MjMwMTEyMTdfMTE5ODE%3D'"
      ]
     },
     "execution_count": 64,
     "metadata": {},
     "output_type": "execute_result"
    }
   ],
   "source": [
    "#Hemostasis pathway\n",
    "ut.pathway_overlay(\n",
    "    df_Brca, \n",
    "    \"R-HSA-109582.2\", \n",
    "    open_browser=True)"
   ]
  },
  {
   "cell_type": "code",
   "execution_count": null,
   "metadata": {},
   "outputs": [],
   "source": [
    "\n",
    "image_path = ut.pathway_overlay(\n",
    "    df=df_heme_brca,\n",
    "    pathway=\"R-HSA-109582.2\",\n",
    "    open_browser=False,\n",
    "    export_path=\"test.png\")\n",
    "\n",
    "Image(image_path)"
   ]
  }
 ],
 "metadata": {
  "kernelspec": {
   "display_name": "Python 3",
   "language": "python",
   "name": "python3"
  },
  "language_info": {
   "codemirror_mode": {
    "name": "ipython",
    "version": 3
   },
   "file_extension": ".py",
   "mimetype": "text/x-python",
   "name": "python",
   "nbconvert_exporter": "python",
   "pygments_lexer": "ipython3",
   "version": "3.7.3"
  }
 },
 "nbformat": 4,
 "nbformat_minor": 4
}
