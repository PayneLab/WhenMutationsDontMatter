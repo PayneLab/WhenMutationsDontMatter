{
 "cells": [
  {
   "cell_type": "markdown",
   "metadata": {},
   "source": [
    "# Data munging EGFR: trans effects "
   ]
  },
  {
   "cell_type": "markdown",
   "metadata": {},
   "source": [
    "This notebook records the pearson correlation stats for EGFR proteomics vs all proteomics for each cancer type. It records all FDR Benjamini/Hochberg corrected p values. This data is then used in the Make_Supplemental_Tables notebook. "
   ]
  },
  {
   "cell_type": "code",
   "execution_count": 1,
   "metadata": {},
   "outputs": [
    {
     "name": "stderr",
     "output_type": "stream",
     "text": [
      "/Users/Lindsey/anaconda3/lib/python3.7/site-packages/statsmodels/tools/_testing.py:19: FutureWarning: pandas.util.testing is deprecated. Use the functions in the public API at pandas.testing instead.\n",
      "  import pandas.util.testing as tm\n"
     ]
    }
   ],
   "source": [
    "import pandas as pd\n",
    "import numpy as np\n",
    "import seaborn as sns\n",
    "import matplotlib.pyplot as plt\n",
    "import scipy.stats\n",
    "import re\n",
    "import sys \n",
    "import statsmodels.stats.multitest\n",
    "\n",
    "\n",
    "import cptac\n",
    "import cptac.utils as u\n",
    "import plot_utils as p\n",
    "import warnings\n",
    "warnings.filterwarnings('ignore')"
   ]
  },
  {
   "cell_type": "code",
   "execution_count": 2,
   "metadata": {},
   "outputs": [],
   "source": [
    "'''\n",
    "@Param df: Data frame. Takes a data frame of proteomic data frame.\n",
    "This function takes the data frame from get_proteomics and labels any duplicate columns due to mutliple isoforms.\n",
    "Then it returns the list of all proteins\n",
    "'''\n",
    "\n",
    "def create_prot_list(df):\n",
    "    #Add _(number) to keep track of duplicates due to multiple isoforms \n",
    "    cols = pd.Series(df.columns[:])\n",
    "    for dup in cols[cols.duplicated()].unique(): \n",
    "        cols[cols[cols == dup].index.values.tolist()] = [dup + '_' + str(i) if i != 0 else dup for i in range(sum(cols == dup))]\n",
    "    df.columns=cols\n",
    "    #get list of proteins\n",
    "    prot_genes_list = df.columns.values.tolist()\n",
    "    return prot_genes_list"
   ]
  },
  {
   "cell_type": "code",
   "execution_count": 3,
   "metadata": {},
   "outputs": [],
   "source": [
    "'''\n",
    "@Param cancer: cptac data for a cancer Ex brain = cptac.Gbm()\n",
    "\n",
    "This function makes a df with all trans effects. \n",
    "Step 1: Get proteomic data with only tumor samples.\n",
    "Step 2: For each cancer type, create list of proteins by using create_prot_list function \n",
    "which extracts column names and labels duplicate columns caused by multiple isoforms.\n",
    "Step 3:Use plot_utils function wrap_pearson_corr on df and compare EGFR proteomics to all other proteins in protein list.\n",
    "Record all FDR corrected p values. \n",
    "\n",
    "'''\n",
    "\n",
    "def make_trans_df(cancer):\n",
    "    df1_tumor = cancer.get_proteomics(tissue_type= \"tumor\")\n",
    "    \n",
    "    if isinstance(df1_tumor.keys(), pd.core.indexes.multi.MultiIndex):\n",
    "        df1_tumor = u.reduce_multiindex(df1_tumor, levels_to_drop = 1)\n",
    "        \n",
    "    prot_genes_list = create_prot_list(df1_tumor)\n",
    "    trans_df = p.wrap_pearson_corr(df1_tumor,\"EGFR\",comparison_columns= prot_genes_list,correction_method='fdr_bh', return_all = True, return_corrected_pvals = True)\n",
    "    return trans_df\n",
    "    "
   ]
  },
  {
   "cell_type": "code",
   "execution_count": 4,
   "metadata": {},
   "outputs": [
    {
     "name": "stdout",
     "output_type": "stream",
     "text": [
      "                                            \r"
     ]
    }
   ],
   "source": [
    "#load cptac data \n",
    "brain = cptac.Gbm()\n",
    "kidney = cptac.Ccrcc()\n",
    "ovar = cptac.Ovarian()\n",
    "colon = cptac.Colon()\n",
    "brca = cptac.Brca()\n",
    "luad = cptac.Luad()\n",
    "hnscc = cptac.Hnscc()\n",
    "lscc = cptac.Lscc()"
   ]
  },
  {
   "cell_type": "markdown",
   "metadata": {},
   "source": [
    "GBM"
   ]
  },
  {
   "cell_type": "code",
   "execution_count": 5,
   "metadata": {},
   "outputs": [
    {
     "data": {
      "text/html": [
       "<div>\n",
       "<style scoped>\n",
       "    .dataframe tbody tr th:only-of-type {\n",
       "        vertical-align: middle;\n",
       "    }\n",
       "\n",
       "    .dataframe tbody tr th {\n",
       "        vertical-align: top;\n",
       "    }\n",
       "\n",
       "    .dataframe thead th {\n",
       "        text-align: right;\n",
       "    }\n",
       "</style>\n",
       "<table border=\"1\" class=\"dataframe\">\n",
       "  <thead>\n",
       "    <tr style=\"text-align: right;\">\n",
       "      <th></th>\n",
       "      <th>Comparison</th>\n",
       "      <th>Correlation_GBM</th>\n",
       "      <th>P_value_GBM</th>\n",
       "    </tr>\n",
       "  </thead>\n",
       "  <tbody>\n",
       "    <tr>\n",
       "      <th>2728</th>\n",
       "      <td>EGFR</td>\n",
       "      <td>1.000000</td>\n",
       "      <td>0.000000e+00</td>\n",
       "    </tr>\n",
       "    <tr>\n",
       "      <th>6656</th>\n",
       "      <td>PHLDA1</td>\n",
       "      <td>0.816848</td>\n",
       "      <td>3.507071e-21</td>\n",
       "    </tr>\n",
       "    <tr>\n",
       "      <th>3757</th>\n",
       "      <td>GRB2</td>\n",
       "      <td>-0.610889</td>\n",
       "      <td>6.729990e-08</td>\n",
       "    </tr>\n",
       "    <tr>\n",
       "      <th>8734</th>\n",
       "      <td>SOCS2</td>\n",
       "      <td>0.562720</td>\n",
       "      <td>3.420388e-06</td>\n",
       "    </tr>\n",
       "    <tr>\n",
       "      <th>1528</th>\n",
       "      <td>CDH4</td>\n",
       "      <td>0.559180</td>\n",
       "      <td>3.420388e-06</td>\n",
       "    </tr>\n",
       "  </tbody>\n",
       "</table>\n",
       "</div>"
      ],
      "text/plain": [
       "     Comparison  Correlation_GBM   P_value_GBM\n",
       "2728       EGFR         1.000000  0.000000e+00\n",
       "6656     PHLDA1         0.816848  3.507071e-21\n",
       "3757       GRB2        -0.610889  6.729990e-08\n",
       "8734      SOCS2         0.562720  3.420388e-06\n",
       "1528       CDH4         0.559180  3.420388e-06"
      ]
     },
     "execution_count": 5,
     "metadata": {},
     "output_type": "execute_result"
    }
   ],
   "source": [
    "gbm_df = make_trans_df(brain)\n",
    "#Example\n",
    "\n",
    "\n",
    "gbm_df = gbm_df.rename(columns={\"Correlation\": \"Correlation_GBM\",\"P_value\": \"P_value_GBM\" })\n",
    "gbm_df.to_csv('csv_files/trans_effects_all_prot_fdr_corrected_GBM',index=False)\n",
    "gbm_df.head()"
   ]
  },
  {
   "cell_type": "markdown",
   "metadata": {},
   "source": [
    "Kidney "
   ]
  },
  {
   "cell_type": "code",
   "execution_count": 6,
   "metadata": {},
   "outputs": [],
   "source": [
    "kidney_df = make_trans_df(kidney)\n",
    "\n",
    "kidney_df = kidney_df.rename(columns={\"Correlation\": \"Correlation_ccRCC\",\"P_value\": \"P_value_ccRCC\" })\n",
    "kidney_df.to_csv('csv_files/trans_effects_all_prot_fdr_corrected_ccRCC',index=False)"
   ]
  },
  {
   "cell_type": "markdown",
   "metadata": {},
   "source": [
    "Ovarian "
   ]
  },
  {
   "cell_type": "code",
   "execution_count": 7,
   "metadata": {},
   "outputs": [],
   "source": [
    "ovarian_df = make_trans_df(ovar)\n",
    "\n",
    "ovarian_df = ovarian_df.rename(columns={\"Correlation\": \"Correlation_OV\",\"P_value\": \"P_value_OV\" })\n",
    "ovarian_df.to_csv('csv_files/trans_effects_all_prot_fdr_corrected_OV',index=False)"
   ]
  },
  {
   "cell_type": "markdown",
   "metadata": {},
   "source": [
    "Colon"
   ]
  },
  {
   "cell_type": "code",
   "execution_count": 8,
   "metadata": {},
   "outputs": [],
   "source": [
    "colon_df = make_trans_df(colon)\n",
    "\n",
    "colon_df = colon_df.rename(columns={\"Correlation\": \"Correlation_CO\",\"P_value\": \"P_value_CO\" })\n",
    "colon_df.to_csv('csv_files/trans_effects_all_prot_fdr_corrected_CO',index=False)"
   ]
  },
  {
   "cell_type": "markdown",
   "metadata": {},
   "source": [
    "Brca "
   ]
  },
  {
   "cell_type": "code",
   "execution_count": 9,
   "metadata": {},
   "outputs": [],
   "source": [
    "brca_df = make_trans_df(brca)\n",
    "\n",
    "brca_df = brca_df.rename(columns={\"Correlation\": \"Correlation_BR\",\"P_value\": \"P_value_BR\" })\n",
    "brca_df.to_csv('csv_files/trans_effects_all_prot_fdr_corrected_BR',index=False)"
   ]
  },
  {
   "cell_type": "markdown",
   "metadata": {},
   "source": [
    "Luad"
   ]
  },
  {
   "cell_type": "code",
   "execution_count": 10,
   "metadata": {},
   "outputs": [],
   "source": [
    "luad_df = make_trans_df(luad)\n",
    "\n",
    "luad_df = luad_df.rename(columns={\"Correlation\": \"Correlation_LUAD\",\"P_value\": \"P_value_LUAD\" })\n",
    "luad_df.to_csv('csv_files/trans_effects_all_prot_fdr_corrected_LUAD',index=False)"
   ]
  },
  {
   "cell_type": "markdown",
   "metadata": {},
   "source": [
    "Hnscc"
   ]
  },
  {
   "cell_type": "code",
   "execution_count": 11,
   "metadata": {},
   "outputs": [],
   "source": [
    "hnscc_df = make_trans_df(hnscc)\n",
    "\n",
    "hnscc_df = hnscc_df.rename(columns={\"Correlation\": \"Correlation_HNSCC\",\"P_value\": \"P_value_HNSCC\" })\n",
    "hnscc_df.to_csv('csv_files/trans_effects_all_prot_fdr_corrected_HNSCC',index=False)"
   ]
  },
  {
   "cell_type": "markdown",
   "metadata": {},
   "source": [
    "Lscc"
   ]
  },
  {
   "cell_type": "code",
   "execution_count": 12,
   "metadata": {},
   "outputs": [],
   "source": [
    "lscc_df = make_trans_df(lscc)\n",
    "\n",
    "lscc_df = lscc_df.rename(columns={\"Correlation\": \"Correlation_LSCC\",\"P_value\": \"P_value_LSCC\" })\n",
    "lscc_df.to_csv('csv_files/trans_effects_all_prot_fdr_corrected_LSCC',index=False)"
   ]
  },
  {
   "cell_type": "code",
   "execution_count": null,
   "metadata": {},
   "outputs": [],
   "source": []
  },
  {
   "cell_type": "code",
   "execution_count": null,
   "metadata": {},
   "outputs": [],
   "source": []
  }
 ],
 "metadata": {
  "kernelspec": {
   "display_name": "Python 3",
   "language": "python",
   "name": "python3"
  },
  "language_info": {
   "codemirror_mode": {
    "name": "ipython",
    "version": 3
   },
   "file_extension": ".py",
   "mimetype": "text/x-python",
   "name": "python",
   "nbconvert_exporter": "python",
   "pygments_lexer": "ipython3",
   "version": "3.7.3"
  }
 },
 "nbformat": 4,
 "nbformat_minor": 2
}
