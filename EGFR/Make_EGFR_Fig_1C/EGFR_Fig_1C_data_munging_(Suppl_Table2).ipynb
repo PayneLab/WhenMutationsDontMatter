{
 "cells": [
  {
   "cell_type": "markdown",
   "metadata": {},
   "source": [
    "# Data munging for Figure 1C (Make supplemental table 2)"
   ]
  },
  {
   "cell_type": "markdown",
   "metadata": {},
   "source": [
    "This notebook records the pearson correlation stats for EGFR proteomics vs all proteomics. It records all FDR Benjamini/Hochberg corrected p values. This data is then used to make EGFR figure 1C. It is also supplemental table 2. "
   ]
  },
  {
   "cell_type": "code",
   "execution_count": 15,
   "metadata": {},
   "outputs": [],
   "source": [
    "import pandas as pd\n",
    "import numpy as np\n",
    "import seaborn as sns\n",
    "import matplotlib.pyplot as plt\n",
    "import scipy.stats\n",
    "import re\n",
    "import sys \n",
    "import statsmodels.stats.multitest\n",
    "\n",
    "\n",
    "import cptac\n",
    "import cptac.utils as u\n",
    "import plot_utils as p\n",
    "import warnings\n",
    "warnings.filterwarnings('ignore')"
   ]
  },
  {
   "cell_type": "code",
   "execution_count": 16,
   "metadata": {},
   "outputs": [],
   "source": [
    "'''\n",
    "@Param df: Data frame. Takes a data frame of proteomic data frame.\n",
    "This function takes the data frame from get_proteomics and labels any duplicate columns due to mutliple isoforms.\n",
    "Then it returns the list of all proteins\n",
    "'''\n",
    "\n",
    "def create_prot_list(df):\n",
    "    #Add _(number) to keep track of duplicates due to multiple isoforms \n",
    "    cols = pd.Series(df.columns[:])\n",
    "    for dup in cols[cols.duplicated()].unique(): \n",
    "        cols[cols[cols == dup].index.values.tolist()] = [dup + '_' + str(i) if i != 0 else dup for i in range(sum(cols == dup))]\n",
    "    df.columns=cols\n",
    "    #get list of proteins\n",
    "    prot_genes_list = df.columns.values.tolist()\n",
    "    return prot_genes_list"
   ]
  },
  {
   "cell_type": "code",
   "execution_count": 23,
   "metadata": {},
   "outputs": [],
   "source": [
    "'''\n",
    "@Param cancer: cptac data for a cancer Ex brain = cptac.Gbm()\n",
    "\n",
    "This function makes a df with all trans effects. \n",
    "Step 1: Get proteomic data with only tumor samples.\n",
    "Step 2: For each cancer type, create list of proteins by using create_prot_list function \n",
    "which extracts column names and labels duplicate columns caused by multiple isoforms.\n",
    "Step 3:Use plot_utils function wrap_pearson_corr on df and compare EGFR proteomics to all other proteins in protein list.\n",
    "Record all FDR corrected p values. \n",
    "\n",
    "'''\n",
    "\n",
    "def make_trans_df(cancer):\n",
    "    df1_tumor = cancer.get_proteomics(tissue_type= \"tumor\")\n",
    "    \n",
    "    if isinstance(df1_tumor.keys(), pd.core.indexes.multi.MultiIndex):\n",
    "        df1_tumor = u.reduce_multiindex(df1_tumor, levels_to_drop = 1)\n",
    "        \n",
    "    prot_genes_list = create_prot_list(df1_tumor)\n",
    "    trans_df = p.wrap_pearson_corr(df1_tumor,\"EGFR\",comparison_columns= prot_genes_list,correction_method='fdr_bh', return_all = True, return_corrected_pvals = True)\n",
    "    return trans_df\n",
    "    "
   ]
  },
  {
   "cell_type": "code",
   "execution_count": 18,
   "metadata": {},
   "outputs": [
    {
     "name": "stdout",
     "output_type": "stream",
     "text": [
      "version 3scc v3.2.......                    \n",
      "                            \r"
     ]
    }
   ],
   "source": [
    "#load cptac data \n",
    "brain = cptac.Gbm()\n",
    "kidney = cptac.Ccrcc()\n",
    "ovar = cptac.Ovarian()\n",
    "colon = cptac.Colon()\n",
    "brca = cptac.Brca()\n",
    "luad = cptac.Luad()\n",
    "hnscc = cptac.Hnscc()\n",
    "lscc = cptac.Lscc()"
   ]
  },
  {
   "cell_type": "markdown",
   "metadata": {},
   "source": [
    "GBM"
   ]
  },
  {
   "cell_type": "code",
   "execution_count": 25,
   "metadata": {},
   "outputs": [
    {
     "data": {
      "text/html": [
       "<div>\n",
       "<style scoped>\n",
       "    .dataframe tbody tr th:only-of-type {\n",
       "        vertical-align: middle;\n",
       "    }\n",
       "\n",
       "    .dataframe tbody tr th {\n",
       "        vertical-align: top;\n",
       "    }\n",
       "\n",
       "    .dataframe thead th {\n",
       "        text-align: right;\n",
       "    }\n",
       "</style>\n",
       "<table border=\"1\" class=\"dataframe\">\n",
       "  <thead>\n",
       "    <tr style=\"text-align: right;\">\n",
       "      <th></th>\n",
       "      <th>Comparison</th>\n",
       "      <th>Correlation</th>\n",
       "      <th>P_value</th>\n",
       "    </tr>\n",
       "  </thead>\n",
       "  <tbody>\n",
       "    <tr>\n",
       "      <th>2728</th>\n",
       "      <td>EGFR</td>\n",
       "      <td>1.000000</td>\n",
       "      <td>0.000000e+00</td>\n",
       "    </tr>\n",
       "    <tr>\n",
       "      <th>6656</th>\n",
       "      <td>PHLDA1</td>\n",
       "      <td>0.816848</td>\n",
       "      <td>3.507071e-21</td>\n",
       "    </tr>\n",
       "    <tr>\n",
       "      <th>3757</th>\n",
       "      <td>GRB2</td>\n",
       "      <td>-0.610889</td>\n",
       "      <td>6.729990e-08</td>\n",
       "    </tr>\n",
       "    <tr>\n",
       "      <th>8734</th>\n",
       "      <td>SOCS2</td>\n",
       "      <td>0.562720</td>\n",
       "      <td>3.420388e-06</td>\n",
       "    </tr>\n",
       "    <tr>\n",
       "      <th>1528</th>\n",
       "      <td>CDH4</td>\n",
       "      <td>0.559180</td>\n",
       "      <td>3.420388e-06</td>\n",
       "    </tr>\n",
       "  </tbody>\n",
       "</table>\n",
       "</div>"
      ],
      "text/plain": [
       "     Comparison  Correlation       P_value\n",
       "2728       EGFR     1.000000  0.000000e+00\n",
       "6656     PHLDA1     0.816848  3.507071e-21\n",
       "3757       GRB2    -0.610889  6.729990e-08\n",
       "8734      SOCS2     0.562720  3.420388e-06\n",
       "1528       CDH4     0.559180  3.420388e-06"
      ]
     },
     "execution_count": 25,
     "metadata": {},
     "output_type": "execute_result"
    }
   ],
   "source": [
    "gbm_df = make_trans_df(brain)\n",
    "#Example\n",
    "gbm_df.head()"
   ]
  },
  {
   "cell_type": "markdown",
   "metadata": {},
   "source": [
    "Kidney "
   ]
  },
  {
   "cell_type": "code",
   "execution_count": 26,
   "metadata": {},
   "outputs": [],
   "source": [
    "kidney_df = make_trans_df(kidney)\n"
   ]
  },
  {
   "cell_type": "markdown",
   "metadata": {},
   "source": [
    "Ovarian "
   ]
  },
  {
   "cell_type": "code",
   "execution_count": 34,
   "metadata": {},
   "outputs": [],
   "source": [
    "ovarian_df = make_trans_df(ovar)"
   ]
  },
  {
   "cell_type": "markdown",
   "metadata": {},
   "source": [
    "Colon"
   ]
  },
  {
   "cell_type": "code",
   "execution_count": 27,
   "metadata": {},
   "outputs": [],
   "source": [
    "colon_df = make_trans_df(colon)"
   ]
  },
  {
   "cell_type": "markdown",
   "metadata": {},
   "source": [
    "Brca "
   ]
  },
  {
   "cell_type": "code",
   "execution_count": 28,
   "metadata": {},
   "outputs": [],
   "source": [
    "brca_df = make_trans_df(brca)"
   ]
  },
  {
   "cell_type": "markdown",
   "metadata": {},
   "source": [
    "Luad"
   ]
  },
  {
   "cell_type": "code",
   "execution_count": 29,
   "metadata": {},
   "outputs": [],
   "source": [
    "luad_df = make_trans_df(luad)\n"
   ]
  },
  {
   "cell_type": "markdown",
   "metadata": {},
   "source": [
    "Hnscc"
   ]
  },
  {
   "cell_type": "code",
   "execution_count": 30,
   "metadata": {},
   "outputs": [],
   "source": [
    "hnscc_df = make_trans_df(hnscc)\n"
   ]
  },
  {
   "cell_type": "markdown",
   "metadata": {},
   "source": [
    "Lscc"
   ]
  },
  {
   "cell_type": "code",
   "execution_count": 31,
   "metadata": {},
   "outputs": [],
   "source": [
    "lscc_df = make_trans_df(lscc)"
   ]
  },
  {
   "cell_type": "markdown",
   "metadata": {},
   "source": [
    "# Merge all data frames into one wide data frame"
   ]
  },
  {
   "cell_type": "markdown",
   "metadata": {},
   "source": [
    "Did not inculde Colon in final csv file because it doesn't have a cis effect. Csv file used in notebook Plot_EGFR_1C_parts"
   ]
  },
  {
   "cell_type": "code",
   "execution_count": 35,
   "metadata": {},
   "outputs": [],
   "source": [
    "Gbm_kidney = pd.merge(gbm_df, kidney_df, on=\"Comparison\", how = \"outer\")\n",
    "Gbm_kidney = Gbm_kidney.rename(columns={\"Correlation_x\": \"Correlation_Gbm\",\"P_value_x\":\"P_value_Gbm\" ,\"Correlation_y\":\"Correlation_kidney\",\"P_value_y\": \"P_value_kidney\" })\n"
   ]
  },
  {
   "cell_type": "code",
   "execution_count": 36,
   "metadata": {},
   "outputs": [],
   "source": [
    "pancan = pd.merge(Gbm_kidney, ovarian_df, on=\"Comparison\", how = \"outer\")\n",
    "pancan = pancan.rename(columns={\"Correlation\": \"Correlation_Ovar\",\"P_value\": \"P_value_Ovar\" })"
   ]
  },
  {
   "cell_type": "code",
   "execution_count": 37,
   "metadata": {},
   "outputs": [],
   "source": [
    "pancan = pd.merge(pancan, brca_df, on=\"Comparison\", how = \"outer\")\n",
    "pancan = pancan.rename(columns={\"Correlation\": \"Correlation_Brca\",\"P_value\": \"P_value_Brca\" })\n"
   ]
  },
  {
   "cell_type": "code",
   "execution_count": 38,
   "metadata": {},
   "outputs": [],
   "source": [
    "pancan = pd.merge(pancan, luad_df, on=\"Comparison\", how = \"outer\")\n",
    "pancan = pancan.rename(columns={\"Correlation\": \"Correlation_Luad\",\"P_value\": \"P_value_Luad\" })"
   ]
  },
  {
   "cell_type": "code",
   "execution_count": 39,
   "metadata": {},
   "outputs": [],
   "source": [
    "pancan = pd.merge(pancan, hnscc_df, on=\"Comparison\", how = \"outer\")\n",
    "pancan = pancan.rename(columns={ \"Correlation\": \"Correlation_Hnscc\",\"P_value\": \"P_value_Hnscc\" })\n"
   ]
  },
  {
   "cell_type": "code",
   "execution_count": 40,
   "metadata": {},
   "outputs": [],
   "source": [
    "pancan = pd.merge(pancan, colon_df, on=\"Comparison\", how = \"outer\")\n",
    "pancan = pancan.rename(columns={ \"Correlation\": \"Correlation_Colon\",\"P_value\": \"P_value_Colon\" })"
   ]
  },
  {
   "cell_type": "code",
   "execution_count": 41,
   "metadata": {},
   "outputs": [],
   "source": [
    "pancan = pd.merge(pancan, lscc_df, on=\"Comparison\", how = \"outer\")\n",
    "pancan = pancan.rename(columns={ \"Correlation\": \"Correlation_Lscc\",\"P_value\": \"P_value_Lscc\" })\n"
   ]
  },
  {
   "cell_type": "code",
   "execution_count": 42,
   "metadata": {},
   "outputs": [
    {
     "data": {
      "text/html": [
       "<div>\n",
       "<style scoped>\n",
       "    .dataframe tbody tr th:only-of-type {\n",
       "        vertical-align: middle;\n",
       "    }\n",
       "\n",
       "    .dataframe tbody tr th {\n",
       "        vertical-align: top;\n",
       "    }\n",
       "\n",
       "    .dataframe thead th {\n",
       "        text-align: right;\n",
       "    }\n",
       "</style>\n",
       "<table border=\"1\" class=\"dataframe\">\n",
       "  <thead>\n",
       "    <tr style=\"text-align: right;\">\n",
       "      <th></th>\n",
       "      <th>Comparison</th>\n",
       "      <th>Correlation_Gbm</th>\n",
       "      <th>P_value_Gbm</th>\n",
       "      <th>Correlation_kidney</th>\n",
       "      <th>P_value_kidney</th>\n",
       "      <th>Correlation_Ovar</th>\n",
       "      <th>P_value_Ovar</th>\n",
       "      <th>Correlation_Brca</th>\n",
       "      <th>P_value_Brca</th>\n",
       "      <th>Correlation_Luad</th>\n",
       "      <th>P_value_Luad</th>\n",
       "      <th>Correlation_Hnscc</th>\n",
       "      <th>P_value_Hnscc</th>\n",
       "      <th>Correlation_Colon</th>\n",
       "      <th>P_value_Colon</th>\n",
       "      <th>Correlation_Lscc</th>\n",
       "      <th>P_value_Lscc</th>\n",
       "    </tr>\n",
       "  </thead>\n",
       "  <tbody>\n",
       "    <tr>\n",
       "      <th>0</th>\n",
       "      <td>EGFR</td>\n",
       "      <td>1.000000</td>\n",
       "      <td>0.000000e+00</td>\n",
       "      <td>1.000000</td>\n",
       "      <td>0.000000</td>\n",
       "      <td>1.00000</td>\n",
       "      <td>0.000000</td>\n",
       "      <td>1.000000</td>\n",
       "      <td>0.000000</td>\n",
       "      <td>1.000000</td>\n",
       "      <td>0.000000</td>\n",
       "      <td>1.000000</td>\n",
       "      <td>0.000000e+00</td>\n",
       "      <td>1.000000</td>\n",
       "      <td>0.000000</td>\n",
       "      <td>1.000000</td>\n",
       "      <td>0.000000e+00</td>\n",
       "    </tr>\n",
       "    <tr>\n",
       "      <th>1</th>\n",
       "      <td>PHLDA1</td>\n",
       "      <td>0.816848</td>\n",
       "      <td>3.507071e-21</td>\n",
       "      <td>0.254436</td>\n",
       "      <td>0.060261</td>\n",
       "      <td>NaN</td>\n",
       "      <td>NaN</td>\n",
       "      <td>0.364797</td>\n",
       "      <td>0.002164</td>\n",
       "      <td>0.260110</td>\n",
       "      <td>0.074530</td>\n",
       "      <td>0.664271</td>\n",
       "      <td>8.888640e-12</td>\n",
       "      <td>0.386104</td>\n",
       "      <td>0.122847</td>\n",
       "      <td>0.713420</td>\n",
       "      <td>2.644826e-14</td>\n",
       "    </tr>\n",
       "    <tr>\n",
       "      <th>2</th>\n",
       "      <td>GRB2</td>\n",
       "      <td>-0.610889</td>\n",
       "      <td>6.729990e-08</td>\n",
       "      <td>-0.217427</td>\n",
       "      <td>0.120342</td>\n",
       "      <td>-0.19009</td>\n",
       "      <td>0.346111</td>\n",
       "      <td>-0.177379</td>\n",
       "      <td>0.142733</td>\n",
       "      <td>-0.302439</td>\n",
       "      <td>0.020631</td>\n",
       "      <td>-0.532341</td>\n",
       "      <td>3.320092e-06</td>\n",
       "      <td>0.150960</td>\n",
       "      <td>0.347409</td>\n",
       "      <td>-0.198042</td>\n",
       "      <td>2.437176e-01</td>\n",
       "    </tr>\n",
       "    <tr>\n",
       "      <th>3</th>\n",
       "      <td>SOCS2</td>\n",
       "      <td>0.562720</td>\n",
       "      <td>3.420388e-06</td>\n",
       "      <td>NaN</td>\n",
       "      <td>NaN</td>\n",
       "      <td>NaN</td>\n",
       "      <td>NaN</td>\n",
       "      <td>NaN</td>\n",
       "      <td>NaN</td>\n",
       "      <td>NaN</td>\n",
       "      <td>NaN</td>\n",
       "      <td>0.020297</td>\n",
       "      <td>9.557300e-01</td>\n",
       "      <td>NaN</td>\n",
       "      <td>NaN</td>\n",
       "      <td>0.472624</td>\n",
       "      <td>1.417921e-02</td>\n",
       "    </tr>\n",
       "    <tr>\n",
       "      <th>4</th>\n",
       "      <td>CDH4</td>\n",
       "      <td>0.559180</td>\n",
       "      <td>3.420388e-06</td>\n",
       "      <td>0.148407</td>\n",
       "      <td>0.513490</td>\n",
       "      <td>NaN</td>\n",
       "      <td>NaN</td>\n",
       "      <td>NaN</td>\n",
       "      <td>NaN</td>\n",
       "      <td>NaN</td>\n",
       "      <td>NaN</td>\n",
       "      <td>NaN</td>\n",
       "      <td>NaN</td>\n",
       "      <td>NaN</td>\n",
       "      <td>NaN</td>\n",
       "      <td>NaN</td>\n",
       "      <td>NaN</td>\n",
       "    </tr>\n",
       "    <tr>\n",
       "      <th>...</th>\n",
       "      <td>...</td>\n",
       "      <td>...</td>\n",
       "      <td>...</td>\n",
       "      <td>...</td>\n",
       "      <td>...</td>\n",
       "      <td>...</td>\n",
       "      <td>...</td>\n",
       "      <td>...</td>\n",
       "      <td>...</td>\n",
       "      <td>...</td>\n",
       "      <td>...</td>\n",
       "      <td>...</td>\n",
       "      <td>...</td>\n",
       "      <td>...</td>\n",
       "      <td>...</td>\n",
       "      <td>...</td>\n",
       "      <td>...</td>\n",
       "    </tr>\n",
       "    <tr>\n",
       "      <th>14863</th>\n",
       "      <td>ZNF283</td>\n",
       "      <td>NaN</td>\n",
       "      <td>NaN</td>\n",
       "      <td>NaN</td>\n",
       "      <td>NaN</td>\n",
       "      <td>NaN</td>\n",
       "      <td>NaN</td>\n",
       "      <td>NaN</td>\n",
       "      <td>NaN</td>\n",
       "      <td>NaN</td>\n",
       "      <td>NaN</td>\n",
       "      <td>NaN</td>\n",
       "      <td>NaN</td>\n",
       "      <td>NaN</td>\n",
       "      <td>NaN</td>\n",
       "      <td>0.002610</td>\n",
       "      <td>9.941900e-01</td>\n",
       "    </tr>\n",
       "    <tr>\n",
       "      <th>14864</th>\n",
       "      <td>TRIM39</td>\n",
       "      <td>NaN</td>\n",
       "      <td>NaN</td>\n",
       "      <td>NaN</td>\n",
       "      <td>NaN</td>\n",
       "      <td>NaN</td>\n",
       "      <td>NaN</td>\n",
       "      <td>NaN</td>\n",
       "      <td>NaN</td>\n",
       "      <td>NaN</td>\n",
       "      <td>NaN</td>\n",
       "      <td>NaN</td>\n",
       "      <td>NaN</td>\n",
       "      <td>NaN</td>\n",
       "      <td>NaN</td>\n",
       "      <td>-0.002379</td>\n",
       "      <td>9.945224e-01</td>\n",
       "    </tr>\n",
       "    <tr>\n",
       "      <th>14865</th>\n",
       "      <td>ADGRA3</td>\n",
       "      <td>NaN</td>\n",
       "      <td>NaN</td>\n",
       "      <td>NaN</td>\n",
       "      <td>NaN</td>\n",
       "      <td>NaN</td>\n",
       "      <td>NaN</td>\n",
       "      <td>NaN</td>\n",
       "      <td>NaN</td>\n",
       "      <td>NaN</td>\n",
       "      <td>NaN</td>\n",
       "      <td>NaN</td>\n",
       "      <td>NaN</td>\n",
       "      <td>NaN</td>\n",
       "      <td>NaN</td>\n",
       "      <td>0.002228</td>\n",
       "      <td>9.958381e-01</td>\n",
       "    </tr>\n",
       "    <tr>\n",
       "      <th>14866</th>\n",
       "      <td>CEP57L1</td>\n",
       "      <td>NaN</td>\n",
       "      <td>NaN</td>\n",
       "      <td>NaN</td>\n",
       "      <td>NaN</td>\n",
       "      <td>NaN</td>\n",
       "      <td>NaN</td>\n",
       "      <td>NaN</td>\n",
       "      <td>NaN</td>\n",
       "      <td>NaN</td>\n",
       "      <td>NaN</td>\n",
       "      <td>NaN</td>\n",
       "      <td>NaN</td>\n",
       "      <td>NaN</td>\n",
       "      <td>NaN</td>\n",
       "      <td>-0.001102</td>\n",
       "      <td>9.977544e-01</td>\n",
       "    </tr>\n",
       "    <tr>\n",
       "      <th>14867</th>\n",
       "      <td>AIMP1_1</td>\n",
       "      <td>NaN</td>\n",
       "      <td>NaN</td>\n",
       "      <td>NaN</td>\n",
       "      <td>NaN</td>\n",
       "      <td>NaN</td>\n",
       "      <td>NaN</td>\n",
       "      <td>NaN</td>\n",
       "      <td>NaN</td>\n",
       "      <td>NaN</td>\n",
       "      <td>NaN</td>\n",
       "      <td>NaN</td>\n",
       "      <td>NaN</td>\n",
       "      <td>NaN</td>\n",
       "      <td>NaN</td>\n",
       "      <td>-0.000053</td>\n",
       "      <td>9.997474e-01</td>\n",
       "    </tr>\n",
       "  </tbody>\n",
       "</table>\n",
       "<p>14868 rows × 17 columns</p>\n",
       "</div>"
      ],
      "text/plain": [
       "      Comparison  Correlation_Gbm   P_value_Gbm  Correlation_kidney  \\\n",
       "0           EGFR         1.000000  0.000000e+00            1.000000   \n",
       "1         PHLDA1         0.816848  3.507071e-21            0.254436   \n",
       "2           GRB2        -0.610889  6.729990e-08           -0.217427   \n",
       "3          SOCS2         0.562720  3.420388e-06                 NaN   \n",
       "4           CDH4         0.559180  3.420388e-06            0.148407   \n",
       "...          ...              ...           ...                 ...   \n",
       "14863     ZNF283              NaN           NaN                 NaN   \n",
       "14864     TRIM39              NaN           NaN                 NaN   \n",
       "14865     ADGRA3              NaN           NaN                 NaN   \n",
       "14866    CEP57L1              NaN           NaN                 NaN   \n",
       "14867    AIMP1_1              NaN           NaN                 NaN   \n",
       "\n",
       "       P_value_kidney  Correlation_Ovar  P_value_Ovar  Correlation_Brca  \\\n",
       "0            0.000000           1.00000      0.000000          1.000000   \n",
       "1            0.060261               NaN           NaN          0.364797   \n",
       "2            0.120342          -0.19009      0.346111         -0.177379   \n",
       "3                 NaN               NaN           NaN               NaN   \n",
       "4            0.513490               NaN           NaN               NaN   \n",
       "...               ...               ...           ...               ...   \n",
       "14863             NaN               NaN           NaN               NaN   \n",
       "14864             NaN               NaN           NaN               NaN   \n",
       "14865             NaN               NaN           NaN               NaN   \n",
       "14866             NaN               NaN           NaN               NaN   \n",
       "14867             NaN               NaN           NaN               NaN   \n",
       "\n",
       "       P_value_Brca  Correlation_Luad  P_value_Luad  Correlation_Hnscc  \\\n",
       "0          0.000000          1.000000      0.000000           1.000000   \n",
       "1          0.002164          0.260110      0.074530           0.664271   \n",
       "2          0.142733         -0.302439      0.020631          -0.532341   \n",
       "3               NaN               NaN           NaN           0.020297   \n",
       "4               NaN               NaN           NaN                NaN   \n",
       "...             ...               ...           ...                ...   \n",
       "14863           NaN               NaN           NaN                NaN   \n",
       "14864           NaN               NaN           NaN                NaN   \n",
       "14865           NaN               NaN           NaN                NaN   \n",
       "14866           NaN               NaN           NaN                NaN   \n",
       "14867           NaN               NaN           NaN                NaN   \n",
       "\n",
       "       P_value_Hnscc  Correlation_Colon  P_value_Colon  Correlation_Lscc  \\\n",
       "0       0.000000e+00           1.000000       0.000000          1.000000   \n",
       "1       8.888640e-12           0.386104       0.122847          0.713420   \n",
       "2       3.320092e-06           0.150960       0.347409         -0.198042   \n",
       "3       9.557300e-01                NaN            NaN          0.472624   \n",
       "4                NaN                NaN            NaN               NaN   \n",
       "...              ...                ...            ...               ...   \n",
       "14863            NaN                NaN            NaN          0.002610   \n",
       "14864            NaN                NaN            NaN         -0.002379   \n",
       "14865            NaN                NaN            NaN          0.002228   \n",
       "14866            NaN                NaN            NaN         -0.001102   \n",
       "14867            NaN                NaN            NaN         -0.000053   \n",
       "\n",
       "       P_value_Lscc  \n",
       "0      0.000000e+00  \n",
       "1      2.644826e-14  \n",
       "2      2.437176e-01  \n",
       "3      1.417921e-02  \n",
       "4               NaN  \n",
       "...             ...  \n",
       "14863  9.941900e-01  \n",
       "14864  9.945224e-01  \n",
       "14865  9.958381e-01  \n",
       "14866  9.977544e-01  \n",
       "14867  9.997474e-01  \n",
       "\n",
       "[14868 rows x 17 columns]"
      ]
     },
     "execution_count": 42,
     "metadata": {},
     "output_type": "execute_result"
    }
   ],
   "source": [
    "pancan"
   ]
  },
  {
   "cell_type": "code",
   "execution_count": 43,
   "metadata": {},
   "outputs": [],
   "source": [
    "pancan = pancan.to_csv(\"Pval_corr_table_Fig_1C_suppl_table2.csv\")"
   ]
  },
  {
   "cell_type": "code",
   "execution_count": null,
   "metadata": {},
   "outputs": [],
   "source": []
  }
 ],
 "metadata": {
  "kernelspec": {
   "display_name": "Python 3",
   "language": "python",
   "name": "python3"
  },
  "language_info": {
   "codemirror_mode": {
    "name": "ipython",
    "version": 3
   },
   "file_extension": ".py",
   "mimetype": "text/x-python",
   "name": "python",
   "nbconvert_exporter": "python",
   "pygments_lexer": "ipython3",
   "version": "3.7.3"
  }
 },
 "nbformat": 4,
 "nbformat_minor": 2
}
