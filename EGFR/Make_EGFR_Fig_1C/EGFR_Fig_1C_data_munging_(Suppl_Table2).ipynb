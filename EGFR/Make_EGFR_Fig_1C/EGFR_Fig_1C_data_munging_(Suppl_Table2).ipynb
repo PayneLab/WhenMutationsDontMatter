{
 "cells": [
  {
   "cell_type": "markdown",
   "metadata": {},
   "source": [
    "# Data munging for Figure 1C (Make supplemental table 2)"
   ]
  },
  {
   "cell_type": "markdown",
   "metadata": {},
   "source": [
    "This notebook records the pearson correlation stats for EGFR proteomics vs all proteomics. It records all FDR Benjamini/Hochberg corrected p values. This data is then used to make EGFR figure 1C. It is also supplemental table 2. "
   ]
  },
  {
   "cell_type": "code",
   "execution_count": 1,
   "metadata": {},
   "outputs": [
    {
     "name": "stderr",
     "output_type": "stream",
     "text": [
      "/Users/Lindsey/anaconda3/lib/python3.7/site-packages/statsmodels/tools/_testing.py:19: FutureWarning: pandas.util.testing is deprecated. Use the functions in the public API at pandas.testing instead.\n",
      "  import pandas.util.testing as tm\n"
     ]
    }
   ],
   "source": [
    "import pandas as pd\n",
    "import numpy as np\n",
    "import seaborn as sns\n",
    "import matplotlib.pyplot as plt\n",
    "import scipy.stats\n",
    "import re\n",
    "import sys \n",
    "import statsmodels.stats.multitest\n",
    "\n",
    "\n",
    "import cptac\n",
    "import cptac.utils as u\n",
    "import plot_utils as p\n"
   ]
  },
  {
   "cell_type": "code",
   "execution_count": 2,
   "metadata": {},
   "outputs": [],
   "source": [
    "def create_prot_list(df):\n",
    "    #Add _(number) to keep track of duplicates due to multiple isoforms \n",
    "    cols = pd.Series(df.columns[:])\n",
    "    for dup in cols[cols.duplicated()].unique(): \n",
    "        cols[cols[cols == dup].index.values.tolist()] = [dup + '_' + str(i) if i != 0 else dup for i in range(sum(cols == dup))]\n",
    "    df.columns=cols\n",
    "    prot_genes_list = df.columns.values.tolist()\n",
    "    prot_genes_list.remove('EGFR_Mutation')\n",
    "    prot_genes_list.remove('EGFR_Location')\n",
    "    prot_genes_list.remove('EGFR_Mutation_Status')\n",
    "    prot_genes_list.remove('Sample_Status')\n",
    "    return prot_genes_list"
   ]
  },
  {
   "cell_type": "code",
   "execution_count": 3,
   "metadata": {},
   "outputs": [
    {
     "name": "stdout",
     "output_type": "stream",
     "text": [
      "Checking that ccrcc index is up-to-date...\r"
     ]
    },
    {
     "name": "stderr",
     "output_type": "stream",
     "text": [
      "cptac warning: The GBM dataset is under publication embargo until March 01, 2021. CPTAC is a community resource project and data are made available rapidly after generation for community research use. The embargo allows exploring and utilizing the data, but analysis may not be published until after the embargo date. Please see https://proteomics.cancer.gov/data-portal/about/data-use-agreement or enter cptac.embargo() to open the webpage for more details. (/Users/Lindsey/anaconda3/lib/python3.7/site-packages/ipykernel_launcher.py, line 2)\n"
     ]
    },
    {
     "name": "stdout",
     "output_type": "stream",
     "text": [
      "Checking that lscc index is up-to-date...   \r"
     ]
    },
    {
     "name": "stderr",
     "output_type": "stream",
     "text": [
      "cptac warning: The HNSCC data is currently strictly reserved for CPTAC investigators. Otherwise, you are not authorized to access these data. Additionally, even after these data become publicly available, they will be subject to a publication embargo (see https://proteomics.cancer.gov/data-portal/about/data-use-agreement or enter cptac.embargo() to open the webpage for more details). (/Users/Lindsey/anaconda3/lib/python3.7/site-packages/ipykernel_launcher.py, line 8)\n"
     ]
    },
    {
     "name": "stdout",
     "output_type": "stream",
     "text": [
      "version 3scc v3.2.......                 \n",
      "                            \r"
     ]
    },
    {
     "name": "stderr",
     "output_type": "stream",
     "text": [
      "cptac warning: The LSCC data is currently strictly reserved for CPTAC investigators. Otherwise, you are not authorized to access these data. Additionally, even after these data become publicly available, they will be subject to a publication embargo (see https://proteomics.cancer.gov/data-portal/about/data-use-agreement or enter cptac.embargo() to open the webpage for more details). (/Users/Lindsey/anaconda3/lib/python3.7/site-packages/ipykernel_launcher.py, line 9)\n"
     ]
    }
   ],
   "source": [
    "#load cptac data \n",
    "brain = cptac.Gbm()\n",
    "kidney = cptac.Ccrcc()\n",
    "Ovar = cptac.Ovarian()\n",
    "colon = cptac.Colon()\n",
    "brca = cptac.Brca()\n",
    "luad = cptac.Luad()\n",
    "Hnscc = cptac.Hnscc()\n",
    "Lscc = cptac.Lscc()"
   ]
  },
  {
   "cell_type": "markdown",
   "metadata": {},
   "source": [
    "# Step 1 Create Data frames "
   ]
  },
  {
   "cell_type": "markdown",
   "metadata": {},
   "source": [
    "For each cancer type,\n",
    "load proteomic data and mutation data for EGFR and\n",
    "filter out non-tumor samples "
   ]
  },
  {
   "cell_type": "markdown",
   "metadata": {},
   "source": [
    "# Step 2  Create list of Proteins for Comparison"
   ]
  },
  {
   "cell_type": "markdown",
   "metadata": {},
   "source": [
    "For each cancer type, create list of proteins by using create_prot_list function which extracts column names and labels duplicate columns caused by multiple isoforms."
   ]
  },
  {
   "cell_type": "markdown",
   "metadata": {},
   "source": [
    "# Step 3 Run Pearson Correlation Function  "
   ]
  },
  {
   "cell_type": "markdown",
   "metadata": {},
   "source": [
    "Run function on df and compare EGFR proteomics to all other proteins in protein list. Record all FDR corrected p values. "
   ]
  },
  {
   "cell_type": "markdown",
   "metadata": {},
   "source": [
    "# GBM"
   ]
  },
  {
   "cell_type": "code",
   "execution_count": 4,
   "metadata": {},
   "outputs": [
    {
     "name": "stderr",
     "output_type": "stream",
     "text": [
      "cptac warning: In joining the somatic_mutation table, no mutations were found for the following samples, so they were filled with Wildtype_Tumor or Wildtype_Normal: 93 samples for the EGFR gene (/Users/Lindsey/anaconda3/lib/python3.7/site-packages/ipykernel_launcher.py, line 1)\n"
     ]
    }
   ],
   "source": [
    "df1 = brain.join_omics_to_mutations(omics_df_name=\"proteomics\", mutations_genes=\"EGFR\")\n",
    "df1_tumor = df1.loc[df1['Sample_Status'] == \"Tumor\"]"
   ]
  },
  {
   "cell_type": "code",
   "execution_count": 5,
   "metadata": {},
   "outputs": [],
   "source": [
    "prot_genes_list = create_prot_list(df1_tumor)"
   ]
  },
  {
   "cell_type": "code",
   "execution_count": 6,
   "metadata": {},
   "outputs": [],
   "source": [
    "gbm = p.wrap_pearson_corr(df1_tumor,\"EGFR_proteomics\",comparison_columns= prot_genes_list,correction_method='fdr_bh', return_all = True, return_corrected_pvals = True)\n",
    "\n",
    "\n"
   ]
  },
  {
   "cell_type": "markdown",
   "metadata": {},
   "source": [
    "# Kidney "
   ]
  },
  {
   "cell_type": "code",
   "execution_count": 7,
   "metadata": {},
   "outputs": [
    {
     "name": "stderr",
     "output_type": "stream",
     "text": [
      "cptac warning: In joining the somatic_mutation table, no mutations were found for the following samples, so they were filled with Wildtype_Tumor or Wildtype_Normal: 193 samples for the EGFR gene (/Users/Lindsey/anaconda3/lib/python3.7/site-packages/ipykernel_launcher.py, line 1)\n"
     ]
    }
   ],
   "source": [
    "df1 = kidney.join_omics_to_mutations(omics_df_name=\"proteomics\",mutations_genes=\"EGFR\")\n",
    "df1.columns = df1.columns.droplevel(1)\n",
    "df1_tumor = df1.loc[df1['Sample_Status'] == \"Tumor\"]\n"
   ]
  },
  {
   "cell_type": "code",
   "execution_count": 8,
   "metadata": {},
   "outputs": [],
   "source": [
    "prot_genes_list = create_prot_list(df1_tumor)"
   ]
  },
  {
   "cell_type": "code",
   "execution_count": 9,
   "metadata": {},
   "outputs": [],
   "source": [
    "kidney =p.wrap_pearson_corr(df1_tumor,\"EGFR_proteomics\",comparison_columns= prot_genes_list,correction_method='fdr_bh', return_all = True, return_corrected_pvals = True)"
   ]
  },
  {
   "cell_type": "markdown",
   "metadata": {},
   "source": [
    "# Ovarian "
   ]
  },
  {
   "cell_type": "code",
   "execution_count": 10,
   "metadata": {},
   "outputs": [
    {
     "name": "stderr",
     "output_type": "stream",
     "text": [
      "cptac warning: In joining the somatic_mutation table, no mutations were found for the following samples, so they were filled with Wildtype_Tumor or Wildtype_Normal: 102 samples for the EGFR gene (/Users/Lindsey/anaconda3/lib/python3.7/site-packages/ipykernel_launcher.py, line 1)\n"
     ]
    }
   ],
   "source": [
    "df1 = Ovar.join_omics_to_mutations(omics_df_name=\"proteomics\", mutations_genes=\"EGFR\")\n",
    "df1.columns = df1.columns.droplevel(1)\n",
    "df1_tumor = df1.loc[df1['Sample_Status'] == \"Tumor\"]"
   ]
  },
  {
   "cell_type": "code",
   "execution_count": 11,
   "metadata": {},
   "outputs": [],
   "source": [
    "prot_genes_list = create_prot_list(df1_tumor)"
   ]
  },
  {
   "cell_type": "code",
   "execution_count": 12,
   "metadata": {},
   "outputs": [],
   "source": [
    "ovarian = p.wrap_pearson_corr(df1_tumor,\"EGFR_proteomics\",comparison_columns= prot_genes_list,correction_method='fdr_bh',return_all = True, return_corrected_pvals = True)\n",
    "\n"
   ]
  },
  {
   "cell_type": "markdown",
   "metadata": {},
   "source": [
    "# Colon"
   ]
  },
  {
   "cell_type": "code",
   "execution_count": 13,
   "metadata": {},
   "outputs": [
    {
     "name": "stderr",
     "output_type": "stream",
     "text": [
      "cptac warning: In joining the somatic_mutation table, no mutations were found for the following samples, so they were filled with Wildtype_Tumor or Wildtype_Normal: 204 samples for the EGFR gene (/Users/Lindsey/anaconda3/lib/python3.7/site-packages/ipykernel_launcher.py, line 1)\n",
      "cptac warning: proteomics data was not found for the following samples, so proteomics data columns were filled with NaN for these samples: 01CO001, 05CO005, 05CO007, 05CO014, 05CO055, 11CO059, 11CO060, 14CO002, 16CO012, 24CO005 (/Users/Lindsey/anaconda3/lib/python3.7/site-packages/ipykernel_launcher.py, line 1)\n"
     ]
    }
   ],
   "source": [
    "df1 = colon.join_omics_to_mutations(omics_df_name=\"proteomics\", mutations_genes=\"EGFR\")\n",
    "df1_tumor = df1.loc[df1['Sample_Status'] == \"Tumor\"]"
   ]
  },
  {
   "cell_type": "code",
   "execution_count": 14,
   "metadata": {},
   "outputs": [],
   "source": [
    "prot_genes_list = create_prot_list(df1_tumor)"
   ]
  },
  {
   "cell_type": "code",
   "execution_count": 15,
   "metadata": {},
   "outputs": [],
   "source": [
    "colon = p.wrap_pearson_corr(df1_tumor,\"EGFR_proteomics\",comparison_columns= prot_genes_list, correction_method='fdr_bh', return_all = True, return_corrected_pvals = True)\n"
   ]
  },
  {
   "cell_type": "markdown",
   "metadata": {},
   "source": [
    "# Brca "
   ]
  },
  {
   "cell_type": "code",
   "execution_count": 16,
   "metadata": {},
   "outputs": [
    {
     "name": "stderr",
     "output_type": "stream",
     "text": [
      "cptac warning: In joining the somatic_mutation table, no mutations were found for the following samples, so they were filled with Wildtype_Tumor or Wildtype_Normal: 118 samples for the EGFR gene (/Users/Lindsey/anaconda3/lib/python3.7/site-packages/ipykernel_launcher.py, line 1)\n"
     ]
    }
   ],
   "source": [
    "df1 = brca.join_omics_to_mutations(omics_df_name=\"proteomics\", mutations_genes=\"EGFR\")\n",
    "df1.columns = df1.columns.droplevel(1)\n",
    "df1_tumor = df1.loc[df1['Sample_Status'] == \"Tumor\"]"
   ]
  },
  {
   "cell_type": "code",
   "execution_count": 17,
   "metadata": {},
   "outputs": [],
   "source": [
    "prot_genes_list = create_prot_list(df1_tumor)"
   ]
  },
  {
   "cell_type": "code",
   "execution_count": 18,
   "metadata": {},
   "outputs": [],
   "source": [
    "brca = p.wrap_pearson_corr(df1_tumor,\"EGFR_proteomics\",comparison_columns= prot_genes_list, correction_method='fdr_bh', return_all = True, return_corrected_pvals = True)\n"
   ]
  },
  {
   "cell_type": "markdown",
   "metadata": {},
   "source": [
    "# LUAD"
   ]
  },
  {
   "cell_type": "code",
   "execution_count": 19,
   "metadata": {},
   "outputs": [
    {
     "name": "stderr",
     "output_type": "stream",
     "text": [
      "cptac warning: In joining the somatic_mutation table, no mutations were found for the following samples, so they were filled with Wildtype_Tumor or Wildtype_Normal: 171 samples for the EGFR gene (/Users/Lindsey/anaconda3/lib/python3.7/site-packages/ipykernel_launcher.py, line 1)\n"
     ]
    }
   ],
   "source": [
    "df1 = luad.join_omics_to_mutations(omics_df_name=\"proteomics\", mutations_genes=\"EGFR\")\n",
    "df1.columns = df1.columns.droplevel(1)\n",
    "df1_tumor = df1.loc[df1['Sample_Status'] == \"Tumor\"]"
   ]
  },
  {
   "cell_type": "code",
   "execution_count": 20,
   "metadata": {},
   "outputs": [],
   "source": [
    "prot_genes_list = create_prot_list(df1_tumor)"
   ]
  },
  {
   "cell_type": "code",
   "execution_count": 21,
   "metadata": {},
   "outputs": [],
   "source": [
    "luad = p.wrap_pearson_corr(df1_tumor,\"EGFR_proteomics\",comparison_columns= prot_genes_list,correction_method='fdr_bh', return_all = True, return_corrected_pvals = True)\n"
   ]
  },
  {
   "cell_type": "markdown",
   "metadata": {},
   "source": [
    "# HNSCC"
   ]
  },
  {
   "cell_type": "code",
   "execution_count": 22,
   "metadata": {},
   "outputs": [
    {
     "name": "stderr",
     "output_type": "stream",
     "text": [
      "cptac warning: In joining the somatic_mutation table, no mutations were found for the following samples, so they were filled with Wildtype_Tumor or Wildtype_Normal: 174 samples for the EGFR gene (/Users/Lindsey/anaconda3/lib/python3.7/site-packages/ipykernel_launcher.py, line 1)\n"
     ]
    }
   ],
   "source": [
    "df1 = Hnscc.join_omics_to_mutations(omics_df_name=\"proteomics\",  mutations_genes=\"EGFR\")\n",
    "df1_tumor = df1.loc[df1['Sample_Status'] == \"Tumor\"]"
   ]
  },
  {
   "cell_type": "code",
   "execution_count": 23,
   "metadata": {},
   "outputs": [],
   "source": [
    "prot_genes_list = create_prot_list(df1_tumor)"
   ]
  },
  {
   "cell_type": "code",
   "execution_count": 24,
   "metadata": {},
   "outputs": [],
   "source": [
    "hnscc = p.wrap_pearson_corr(df1_tumor,\"EGFR_proteomics\",comparison_columns= prot_genes_list,correction_method='fdr_bh', return_all = True, return_corrected_pvals = True)\n"
   ]
  },
  {
   "cell_type": "markdown",
   "metadata": {},
   "source": [
    "# Lscc"
   ]
  },
  {
   "cell_type": "code",
   "execution_count": 25,
   "metadata": {},
   "outputs": [
    {
     "name": "stderr",
     "output_type": "stream",
     "text": [
      "cptac warning: In joining the somatic_mutation table, no mutations were found for the following samples, so they were filled with Wildtype_Tumor or Wildtype_Normal: 199 samples for the EGFR gene (/Users/Lindsey/anaconda3/lib/python3.7/site-packages/ipykernel_launcher.py, line 1)\n"
     ]
    }
   ],
   "source": [
    "df1 = Lscc.join_omics_to_mutations(omics_df_name=\"proteomics\", mutations_genes=\"EGFR\")\n",
    "df1.columns = df1.columns.droplevel(1)\n",
    "df1_tumor = df1.loc[df1['Sample_Status'] == \"Tumor\"]"
   ]
  },
  {
   "cell_type": "code",
   "execution_count": 26,
   "metadata": {},
   "outputs": [],
   "source": [
    "prot_genes_list = create_prot_list(df1_tumor)"
   ]
  },
  {
   "cell_type": "code",
   "execution_count": 27,
   "metadata": {},
   "outputs": [],
   "source": [
    "lscc = p.wrap_pearson_corr(df1_tumor,\"EGFR_proteomics\",comparison_columns= prot_genes_list,correction_method='fdr_bh', return_all = True, return_corrected_pvals = True)\n"
   ]
  },
  {
   "cell_type": "markdown",
   "metadata": {},
   "source": [
    "# Merge all data frames into one wide data frame"
   ]
  },
  {
   "cell_type": "markdown",
   "metadata": {},
   "source": [
    "Did not inculde Colon in final csv file because it doesn't have a cis effect. Csv file used in notebook Plot_EGFR_1C_parts"
   ]
  },
  {
   "cell_type": "code",
   "execution_count": 28,
   "metadata": {},
   "outputs": [],
   "source": [
    "Gbm_kidney = pd.merge(gbm, kidney, on=\"Comparison\", how = \"outer\")\n",
    "Gbm_kidney = Gbm_kidney.rename(columns={\"Correlation_x\": \"Correlation_Gbm\",\"P_value_x\":\"P_value_Gbm\" ,\"Correlation_y\":\"Correlation_kidney\",\"P_value_y\": \"P_value_kidney\" })\n"
   ]
  },
  {
   "cell_type": "code",
   "execution_count": 29,
   "metadata": {},
   "outputs": [],
   "source": [
    "pancan = pd.merge(Gbm_kidney, ovarian, on=\"Comparison\", how = \"outer\")\n",
    "pancan = pancan.rename(columns={\"Correlation\": \"Correlation_Ovar\",\"P_value\": \"P_value_Ovar\" })"
   ]
  },
  {
   "cell_type": "code",
   "execution_count": 30,
   "metadata": {},
   "outputs": [],
   "source": [
    "pancan = pd.merge(pancan, brca, on=\"Comparison\", how = \"outer\")\n",
    "pancan = pancan.rename(columns={\"Correlation\": \"Correlation_Brca\",\"P_value\": \"P_value_Brca\" })\n"
   ]
  },
  {
   "cell_type": "code",
   "execution_count": 31,
   "metadata": {},
   "outputs": [],
   "source": [
    "pancan = pd.merge(pancan, luad, on=\"Comparison\", how = \"outer\")\n",
    "pancan = pancan.rename(columns={\"Correlation\": \"Correlation_Luad\",\"P_value\": \"P_value_Luad\" })"
   ]
  },
  {
   "cell_type": "code",
   "execution_count": 32,
   "metadata": {},
   "outputs": [],
   "source": [
    "pancan = pd.merge(pancan, hnscc, on=\"Comparison\", how = \"outer\")\n",
    "pancan = pancan.rename(columns={ \"Correlation\": \"Correlation_Hnscc\",\"P_value\": \"P_value_Hnscc\" })\n"
   ]
  },
  {
   "cell_type": "code",
   "execution_count": 33,
   "metadata": {},
   "outputs": [],
   "source": [
    "pancan = pd.merge(pancan, colon, on=\"Comparison\", how = \"outer\")\n",
    "pancan = pancan.rename(columns={ \"Correlation\": \"Correlation_Colon\",\"P_value\": \"P_value_Colon\" })"
   ]
  },
  {
   "cell_type": "code",
   "execution_count": 34,
   "metadata": {},
   "outputs": [],
   "source": [
    "pancan = pd.merge(pancan, lscc, on=\"Comparison\", how = \"outer\")\n",
    "pancan = pancan.rename(columns={ \"Correlation\": \"Correlation_Lscc\",\"P_value\": \"P_value_Lscc\" })\n"
   ]
  },
  {
   "cell_type": "code",
   "execution_count": 35,
   "metadata": {},
   "outputs": [
    {
     "data": {
      "text/html": [
       "<div>\n",
       "<style scoped>\n",
       "    .dataframe tbody tr th:only-of-type {\n",
       "        vertical-align: middle;\n",
       "    }\n",
       "\n",
       "    .dataframe tbody tr th {\n",
       "        vertical-align: top;\n",
       "    }\n",
       "\n",
       "    .dataframe thead th {\n",
       "        text-align: right;\n",
       "    }\n",
       "</style>\n",
       "<table border=\"1\" class=\"dataframe\">\n",
       "  <thead>\n",
       "    <tr style=\"text-align: right;\">\n",
       "      <th></th>\n",
       "      <th>Comparison</th>\n",
       "      <th>Correlation_Gbm</th>\n",
       "      <th>P_value_Gbm</th>\n",
       "      <th>Correlation_kidney</th>\n",
       "      <th>P_value_kidney</th>\n",
       "      <th>Correlation_Ovar</th>\n",
       "      <th>P_value_Ovar</th>\n",
       "      <th>Correlation_Brca</th>\n",
       "      <th>P_value_Brca</th>\n",
       "      <th>Correlation_Luad</th>\n",
       "      <th>P_value_Luad</th>\n",
       "      <th>Correlation_Hnscc</th>\n",
       "      <th>P_value_Hnscc</th>\n",
       "      <th>Correlation_Colon</th>\n",
       "      <th>P_value_Colon</th>\n",
       "      <th>Correlation_Lscc</th>\n",
       "      <th>P_value_Lscc</th>\n",
       "    </tr>\n",
       "  </thead>\n",
       "  <tbody>\n",
       "    <tr>\n",
       "      <th>0</th>\n",
       "      <td>EGFR_proteomics</td>\n",
       "      <td>1.000000</td>\n",
       "      <td>0.000000e+00</td>\n",
       "      <td>1.000000</td>\n",
       "      <td>0.000000</td>\n",
       "      <td>1.00000</td>\n",
       "      <td>0.000000</td>\n",
       "      <td>1.000000</td>\n",
       "      <td>0.000000</td>\n",
       "      <td>1.000000</td>\n",
       "      <td>0.000000</td>\n",
       "      <td>1.000000</td>\n",
       "      <td>0.000000e+00</td>\n",
       "      <td>1.000000</td>\n",
       "      <td>0.000000</td>\n",
       "      <td>1.000000</td>\n",
       "      <td>0.000000e+00</td>\n",
       "    </tr>\n",
       "    <tr>\n",
       "      <th>1</th>\n",
       "      <td>PHLDA1_proteomics</td>\n",
       "      <td>0.816848</td>\n",
       "      <td>3.507071e-21</td>\n",
       "      <td>0.254436</td>\n",
       "      <td>0.060261</td>\n",
       "      <td>NaN</td>\n",
       "      <td>NaN</td>\n",
       "      <td>0.364797</td>\n",
       "      <td>0.002164</td>\n",
       "      <td>0.260110</td>\n",
       "      <td>0.074530</td>\n",
       "      <td>0.664271</td>\n",
       "      <td>8.888640e-12</td>\n",
       "      <td>0.386104</td>\n",
       "      <td>0.122847</td>\n",
       "      <td>0.713420</td>\n",
       "      <td>2.644826e-14</td>\n",
       "    </tr>\n",
       "    <tr>\n",
       "      <th>2</th>\n",
       "      <td>GRB2_proteomics</td>\n",
       "      <td>-0.610889</td>\n",
       "      <td>6.729990e-08</td>\n",
       "      <td>-0.217427</td>\n",
       "      <td>0.120342</td>\n",
       "      <td>-0.19009</td>\n",
       "      <td>0.346111</td>\n",
       "      <td>-0.177379</td>\n",
       "      <td>0.142733</td>\n",
       "      <td>-0.302439</td>\n",
       "      <td>0.020631</td>\n",
       "      <td>-0.532341</td>\n",
       "      <td>3.320092e-06</td>\n",
       "      <td>0.150960</td>\n",
       "      <td>0.347409</td>\n",
       "      <td>-0.198042</td>\n",
       "      <td>2.437176e-01</td>\n",
       "    </tr>\n",
       "    <tr>\n",
       "      <th>3</th>\n",
       "      <td>SOCS2_proteomics</td>\n",
       "      <td>0.562720</td>\n",
       "      <td>3.420388e-06</td>\n",
       "      <td>NaN</td>\n",
       "      <td>NaN</td>\n",
       "      <td>NaN</td>\n",
       "      <td>NaN</td>\n",
       "      <td>NaN</td>\n",
       "      <td>NaN</td>\n",
       "      <td>NaN</td>\n",
       "      <td>NaN</td>\n",
       "      <td>0.020297</td>\n",
       "      <td>9.557300e-01</td>\n",
       "      <td>NaN</td>\n",
       "      <td>NaN</td>\n",
       "      <td>0.472624</td>\n",
       "      <td>1.417921e-02</td>\n",
       "    </tr>\n",
       "    <tr>\n",
       "      <th>4</th>\n",
       "      <td>CDH4_proteomics</td>\n",
       "      <td>0.559180</td>\n",
       "      <td>3.420388e-06</td>\n",
       "      <td>0.148407</td>\n",
       "      <td>0.513490</td>\n",
       "      <td>NaN</td>\n",
       "      <td>NaN</td>\n",
       "      <td>NaN</td>\n",
       "      <td>NaN</td>\n",
       "      <td>NaN</td>\n",
       "      <td>NaN</td>\n",
       "      <td>NaN</td>\n",
       "      <td>NaN</td>\n",
       "      <td>NaN</td>\n",
       "      <td>NaN</td>\n",
       "      <td>NaN</td>\n",
       "      <td>NaN</td>\n",
       "    </tr>\n",
       "    <tr>\n",
       "      <th>...</th>\n",
       "      <td>...</td>\n",
       "      <td>...</td>\n",
       "      <td>...</td>\n",
       "      <td>...</td>\n",
       "      <td>...</td>\n",
       "      <td>...</td>\n",
       "      <td>...</td>\n",
       "      <td>...</td>\n",
       "      <td>...</td>\n",
       "      <td>...</td>\n",
       "      <td>...</td>\n",
       "      <td>...</td>\n",
       "      <td>...</td>\n",
       "      <td>...</td>\n",
       "      <td>...</td>\n",
       "      <td>...</td>\n",
       "      <td>...</td>\n",
       "    </tr>\n",
       "    <tr>\n",
       "      <th>14863</th>\n",
       "      <td>ZNF283_proteomics</td>\n",
       "      <td>NaN</td>\n",
       "      <td>NaN</td>\n",
       "      <td>NaN</td>\n",
       "      <td>NaN</td>\n",
       "      <td>NaN</td>\n",
       "      <td>NaN</td>\n",
       "      <td>NaN</td>\n",
       "      <td>NaN</td>\n",
       "      <td>NaN</td>\n",
       "      <td>NaN</td>\n",
       "      <td>NaN</td>\n",
       "      <td>NaN</td>\n",
       "      <td>NaN</td>\n",
       "      <td>NaN</td>\n",
       "      <td>0.002610</td>\n",
       "      <td>9.941900e-01</td>\n",
       "    </tr>\n",
       "    <tr>\n",
       "      <th>14864</th>\n",
       "      <td>TRIM39_proteomics</td>\n",
       "      <td>NaN</td>\n",
       "      <td>NaN</td>\n",
       "      <td>NaN</td>\n",
       "      <td>NaN</td>\n",
       "      <td>NaN</td>\n",
       "      <td>NaN</td>\n",
       "      <td>NaN</td>\n",
       "      <td>NaN</td>\n",
       "      <td>NaN</td>\n",
       "      <td>NaN</td>\n",
       "      <td>NaN</td>\n",
       "      <td>NaN</td>\n",
       "      <td>NaN</td>\n",
       "      <td>NaN</td>\n",
       "      <td>-0.002379</td>\n",
       "      <td>9.945224e-01</td>\n",
       "    </tr>\n",
       "    <tr>\n",
       "      <th>14865</th>\n",
       "      <td>ADGRA3_proteomics</td>\n",
       "      <td>NaN</td>\n",
       "      <td>NaN</td>\n",
       "      <td>NaN</td>\n",
       "      <td>NaN</td>\n",
       "      <td>NaN</td>\n",
       "      <td>NaN</td>\n",
       "      <td>NaN</td>\n",
       "      <td>NaN</td>\n",
       "      <td>NaN</td>\n",
       "      <td>NaN</td>\n",
       "      <td>NaN</td>\n",
       "      <td>NaN</td>\n",
       "      <td>NaN</td>\n",
       "      <td>NaN</td>\n",
       "      <td>0.002228</td>\n",
       "      <td>9.958381e-01</td>\n",
       "    </tr>\n",
       "    <tr>\n",
       "      <th>14866</th>\n",
       "      <td>CEP57L1_proteomics</td>\n",
       "      <td>NaN</td>\n",
       "      <td>NaN</td>\n",
       "      <td>NaN</td>\n",
       "      <td>NaN</td>\n",
       "      <td>NaN</td>\n",
       "      <td>NaN</td>\n",
       "      <td>NaN</td>\n",
       "      <td>NaN</td>\n",
       "      <td>NaN</td>\n",
       "      <td>NaN</td>\n",
       "      <td>NaN</td>\n",
       "      <td>NaN</td>\n",
       "      <td>NaN</td>\n",
       "      <td>NaN</td>\n",
       "      <td>-0.001102</td>\n",
       "      <td>9.977544e-01</td>\n",
       "    </tr>\n",
       "    <tr>\n",
       "      <th>14867</th>\n",
       "      <td>AIMP1_proteomics_1</td>\n",
       "      <td>NaN</td>\n",
       "      <td>NaN</td>\n",
       "      <td>NaN</td>\n",
       "      <td>NaN</td>\n",
       "      <td>NaN</td>\n",
       "      <td>NaN</td>\n",
       "      <td>NaN</td>\n",
       "      <td>NaN</td>\n",
       "      <td>NaN</td>\n",
       "      <td>NaN</td>\n",
       "      <td>NaN</td>\n",
       "      <td>NaN</td>\n",
       "      <td>NaN</td>\n",
       "      <td>NaN</td>\n",
       "      <td>-0.000053</td>\n",
       "      <td>9.997474e-01</td>\n",
       "    </tr>\n",
       "  </tbody>\n",
       "</table>\n",
       "<p>14868 rows × 17 columns</p>\n",
       "</div>"
      ],
      "text/plain": [
       "               Comparison  Correlation_Gbm   P_value_Gbm  Correlation_kidney  \\\n",
       "0         EGFR_proteomics         1.000000  0.000000e+00            1.000000   \n",
       "1       PHLDA1_proteomics         0.816848  3.507071e-21            0.254436   \n",
       "2         GRB2_proteomics        -0.610889  6.729990e-08           -0.217427   \n",
       "3        SOCS2_proteomics         0.562720  3.420388e-06                 NaN   \n",
       "4         CDH4_proteomics         0.559180  3.420388e-06            0.148407   \n",
       "...                   ...              ...           ...                 ...   \n",
       "14863   ZNF283_proteomics              NaN           NaN                 NaN   \n",
       "14864   TRIM39_proteomics              NaN           NaN                 NaN   \n",
       "14865   ADGRA3_proteomics              NaN           NaN                 NaN   \n",
       "14866  CEP57L1_proteomics              NaN           NaN                 NaN   \n",
       "14867  AIMP1_proteomics_1              NaN           NaN                 NaN   \n",
       "\n",
       "       P_value_kidney  Correlation_Ovar  P_value_Ovar  Correlation_Brca  \\\n",
       "0            0.000000           1.00000      0.000000          1.000000   \n",
       "1            0.060261               NaN           NaN          0.364797   \n",
       "2            0.120342          -0.19009      0.346111         -0.177379   \n",
       "3                 NaN               NaN           NaN               NaN   \n",
       "4            0.513490               NaN           NaN               NaN   \n",
       "...               ...               ...           ...               ...   \n",
       "14863             NaN               NaN           NaN               NaN   \n",
       "14864             NaN               NaN           NaN               NaN   \n",
       "14865             NaN               NaN           NaN               NaN   \n",
       "14866             NaN               NaN           NaN               NaN   \n",
       "14867             NaN               NaN           NaN               NaN   \n",
       "\n",
       "       P_value_Brca  Correlation_Luad  P_value_Luad  Correlation_Hnscc  \\\n",
       "0          0.000000          1.000000      0.000000           1.000000   \n",
       "1          0.002164          0.260110      0.074530           0.664271   \n",
       "2          0.142733         -0.302439      0.020631          -0.532341   \n",
       "3               NaN               NaN           NaN           0.020297   \n",
       "4               NaN               NaN           NaN                NaN   \n",
       "...             ...               ...           ...                ...   \n",
       "14863           NaN               NaN           NaN                NaN   \n",
       "14864           NaN               NaN           NaN                NaN   \n",
       "14865           NaN               NaN           NaN                NaN   \n",
       "14866           NaN               NaN           NaN                NaN   \n",
       "14867           NaN               NaN           NaN                NaN   \n",
       "\n",
       "       P_value_Hnscc  Correlation_Colon  P_value_Colon  Correlation_Lscc  \\\n",
       "0       0.000000e+00           1.000000       0.000000          1.000000   \n",
       "1       8.888640e-12           0.386104       0.122847          0.713420   \n",
       "2       3.320092e-06           0.150960       0.347409         -0.198042   \n",
       "3       9.557300e-01                NaN            NaN          0.472624   \n",
       "4                NaN                NaN            NaN               NaN   \n",
       "...              ...                ...            ...               ...   \n",
       "14863            NaN                NaN            NaN          0.002610   \n",
       "14864            NaN                NaN            NaN         -0.002379   \n",
       "14865            NaN                NaN            NaN          0.002228   \n",
       "14866            NaN                NaN            NaN         -0.001102   \n",
       "14867            NaN                NaN            NaN         -0.000053   \n",
       "\n",
       "       P_value_Lscc  \n",
       "0      0.000000e+00  \n",
       "1      2.644826e-14  \n",
       "2      2.437176e-01  \n",
       "3      1.417921e-02  \n",
       "4               NaN  \n",
       "...             ...  \n",
       "14863  9.941900e-01  \n",
       "14864  9.945224e-01  \n",
       "14865  9.958381e-01  \n",
       "14866  9.977544e-01  \n",
       "14867  9.997474e-01  \n",
       "\n",
       "[14868 rows x 17 columns]"
      ]
     },
     "execution_count": 35,
     "metadata": {},
     "output_type": "execute_result"
    }
   ],
   "source": [
    "pancan"
   ]
  },
  {
   "cell_type": "code",
   "execution_count": 36,
   "metadata": {},
   "outputs": [],
   "source": [
    "pancan = pancan.to_csv(\"Pval_corr_table_Fig_1C_suppl_table2.csv\")"
   ]
  },
  {
   "cell_type": "code",
   "execution_count": null,
   "metadata": {},
   "outputs": [],
   "source": []
  }
 ],
 "metadata": {
  "kernelspec": {
   "display_name": "Python 3",
   "language": "python",
   "name": "python3"
  },
  "language_info": {
   "codemirror_mode": {
    "name": "ipython",
    "version": 3
   },
   "file_extension": ".py",
   "mimetype": "text/x-python",
   "name": "python",
   "nbconvert_exporter": "python",
   "pygments_lexer": "ipython3",
   "version": "3.7.3"
  }
 },
 "nbformat": 4,
 "nbformat_minor": 2
}
