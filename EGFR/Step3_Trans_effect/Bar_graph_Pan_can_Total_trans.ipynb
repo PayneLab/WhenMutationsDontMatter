{
 "cells": [
  {
   "cell_type": "code",
   "execution_count": 1,
   "metadata": {},
   "outputs": [
    {
     "name": "stderr",
     "output_type": "stream",
     "text": [
      "/Users/Lindsey/anaconda3/lib/python3.7/site-packages/statsmodels/tools/_testing.py:19: FutureWarning: pandas.util.testing is deprecated. Use the functions in the public API at pandas.testing instead.\n",
      "  import pandas.util.testing as tm\n"
     ]
    }
   ],
   "source": [
    "import pandas as pd\n",
    "import numpy as np\n",
    "import seaborn as sns\n",
    "import matplotlib.pyplot as plt\n",
    "import scipy.stats\n",
    "import re\n",
    "import sys \n",
    "import statsmodels.stats.multitest\n",
    "\n",
    "\n",
    "import cptac\n",
    "import cptac.utils as u\n",
    "import plot_utils as p"
   ]
  },
  {
   "cell_type": "code",
   "execution_count": 4,
   "metadata": {},
   "outputs": [
    {
     "data": {
      "text/html": [
       "<div>\n",
       "<style scoped>\n",
       "    .dataframe tbody tr th:only-of-type {\n",
       "        vertical-align: middle;\n",
       "    }\n",
       "\n",
       "    .dataframe tbody tr th {\n",
       "        vertical-align: top;\n",
       "    }\n",
       "\n",
       "    .dataframe thead th {\n",
       "        text-align: right;\n",
       "    }\n",
       "</style>\n",
       "<table border=\"1\" class=\"dataframe\">\n",
       "  <thead>\n",
       "    <tr style=\"text-align: right;\">\n",
       "      <th></th>\n",
       "      <th>Unnamed: 0</th>\n",
       "      <th>Comparison</th>\n",
       "      <th>Correlation</th>\n",
       "      <th>P_value</th>\n",
       "    </tr>\n",
       "  </thead>\n",
       "  <tbody>\n",
       "    <tr>\n",
       "      <th>0</th>\n",
       "      <td>450</td>\n",
       "      <td>EGFR_proteomics</td>\n",
       "      <td>1.000000</td>\n",
       "      <td>0.000000e+00</td>\n",
       "    </tr>\n",
       "    <tr>\n",
       "      <th>1</th>\n",
       "      <td>1038</td>\n",
       "      <td>PHLDA1_proteomics</td>\n",
       "      <td>0.816848</td>\n",
       "      <td>6.553435e-25</td>\n",
       "    </tr>\n",
       "    <tr>\n",
       "      <th>2</th>\n",
       "      <td>638</td>\n",
       "      <td>GRB2_proteomics</td>\n",
       "      <td>-0.610889</td>\n",
       "      <td>1.886384e-11</td>\n",
       "    </tr>\n",
       "    <tr>\n",
       "      <th>3</th>\n",
       "      <td>1346</td>\n",
       "      <td>SOCS2_proteomics</td>\n",
       "      <td>0.562720</td>\n",
       "      <td>1.343464e-09</td>\n",
       "    </tr>\n",
       "    <tr>\n",
       "      <th>4</th>\n",
       "      <td>274</td>\n",
       "      <td>CDH4_proteomics</td>\n",
       "      <td>0.559180</td>\n",
       "      <td>1.790048e-09</td>\n",
       "    </tr>\n",
       "    <tr>\n",
       "      <th>...</th>\n",
       "      <td>...</td>\n",
       "      <td>...</td>\n",
       "      <td>...</td>\n",
       "      <td>...</td>\n",
       "    </tr>\n",
       "    <tr>\n",
       "      <th>1575</th>\n",
       "      <td>202</td>\n",
       "      <td>C20orf194_proteomics</td>\n",
       "      <td>-0.268567</td>\n",
       "      <td>7.191485e-03</td>\n",
       "    </tr>\n",
       "    <tr>\n",
       "      <th>1576</th>\n",
       "      <td>644</td>\n",
       "      <td>GSTCD_proteomics</td>\n",
       "      <td>0.268529</td>\n",
       "      <td>7.200059e-03</td>\n",
       "    </tr>\n",
       "    <tr>\n",
       "      <th>1577</th>\n",
       "      <td>1368</td>\n",
       "      <td>SSH2_proteomics</td>\n",
       "      <td>-0.268322</td>\n",
       "      <td>7.246687e-03</td>\n",
       "    </tr>\n",
       "    <tr>\n",
       "      <th>1578</th>\n",
       "      <td>1021</td>\n",
       "      <td>PDIA5_proteomics</td>\n",
       "      <td>-0.268302</td>\n",
       "      <td>7.251178e-03</td>\n",
       "    </tr>\n",
       "    <tr>\n",
       "      <th>1579</th>\n",
       "      <td>90</td>\n",
       "      <td>APBA2_proteomics</td>\n",
       "      <td>0.268245</td>\n",
       "      <td>7.263875e-03</td>\n",
       "    </tr>\n",
       "  </tbody>\n",
       "</table>\n",
       "<p>1580 rows × 4 columns</p>\n",
       "</div>"
      ],
      "text/plain": [
       "      Unnamed: 0            Comparison  Correlation       P_value\n",
       "0            450       EGFR_proteomics     1.000000  0.000000e+00\n",
       "1           1038     PHLDA1_proteomics     0.816848  6.553435e-25\n",
       "2            638       GRB2_proteomics    -0.610889  1.886384e-11\n",
       "3           1346      SOCS2_proteomics     0.562720  1.343464e-09\n",
       "4            274       CDH4_proteomics     0.559180  1.790048e-09\n",
       "...          ...                   ...          ...           ...\n",
       "1575         202  C20orf194_proteomics    -0.268567  7.191485e-03\n",
       "1576         644      GSTCD_proteomics     0.268529  7.200059e-03\n",
       "1577        1368       SSH2_proteomics    -0.268322  7.246687e-03\n",
       "1578        1021      PDIA5_proteomics    -0.268302  7.251178e-03\n",
       "1579          90      APBA2_proteomics     0.268245  7.263875e-03\n",
       "\n",
       "[1580 rows x 4 columns]"
      ]
     },
     "execution_count": 4,
     "metadata": {},
     "output_type": "execute_result"
    }
   ],
   "source": [
    "GBM = pd.read_csv(\"Step3.1_Pearson_dfs_by_cancer/csv_files/GBM_EGFR_all_pearson_FDR.csv\")\n",
    "GBM"
   ]
  },
  {
   "cell_type": "code",
   "execution_count": 34,
   "metadata": {},
   "outputs": [],
   "source": [
    "Kidney = pd.read_csv(\"Step3.1_Pearson_dfs_by_cancer/csv_files/Kidney_EGFR_all_pearson_FDR.csv\")\n",
    "df_Ovar = pd.read_csv(\"Step3.1_Pearson_dfs_by_cancer/csv_files/Ovar_EGFR_all_pearson_FDR.csv\")\n",
    "df_Brca = pd.read_csv(\"Step3.1_Pearson_dfs_by_cancer/csv_files/Brca_EGFR_all_pearson_FDR.csv\")\n",
    "df_Luad = pd.read_csv(\"Step3.1_Pearson_dfs_by_cancer/csv_files/Luad_EGFR_all_pearson_FDR.csv\")\n",
    "df_hnscc = pd.read_csv(\"Step3.1_Pearson_dfs_by_cancer/csv_files/Hnscc_EGFR_all_pearson_FDR.csv\")\n",
    "df_colon = pd.read_csv(\"Step3.1_Pearson_dfs_by_cancer/csv_files/Colon_EGFR_all_pearson_FDR.csv\")\n",
    "df_Lscc = pd.read_csv(\"Step3.1_Pearson_dfs_by_cancer/csv_files/Lscc_EGFR_all_pearson_FDR.csv\")"
   ]
  },
  {
   "cell_type": "code",
   "execution_count": 35,
   "metadata": {},
   "outputs": [],
   "source": [
    "totalTGBM = len(GBM)\n",
    "totalTKidney = len(Kidney)\n",
    "totalTOvar = len(df_Ovar)\n",
    "totalTBrca = len(df_Brca)\n",
    "totalTColon= len(df_colon)\n",
    "totalTLuad = len(df_Luad)\n",
    "totalTLscc = len(df_Lscc)\n",
    "totalTHnscc = len(df_hnscc)\n"
   ]
  },
  {
   "cell_type": "code",
   "execution_count": 37,
   "metadata": {},
   "outputs": [
    {
     "data": {
      "image/png": "[encoded data removed]",
      "text/plain": [
       "<Figure size 432x288 with 1 Axes>"
      ]
     },
     "metadata": {
      "needs_background": "light"
     },
     "output_type": "display_data"
    }
   ],
   "source": [
    "import matplotlib.pyplot as plt\n",
    "fig = plt.figure()\n",
    "ax = fig.add_axes([0,0,1,1])\n",
    "plt.title('Total Significant Trans Genes')\n",
    "\n",
    "cancers = ['GBM', 'Brca', 'Ovar', 'Lscc', 'Luad', \"Hnscc\",\"Colon\",\"Kidney\"]\n",
    "trans_genes = [totalTGBM,totalTBrca,totalTOvar,totalTLscc,totalTLuad,totalTHnscc,totalTColon,totalTKidney]\n",
    "ax.bar(cancers,trans_genes)\n",
    "plt.show()"
   ]
  },
  {
   "cell_type": "code",
   "execution_count": null,
   "metadata": {},
   "outputs": [],
   "source": []
  }
 ],
 "metadata": {
  "kernelspec": {
   "display_name": "Python 3",
   "language": "python",
   "name": "python3"
  },
  "language_info": {
   "codemirror_mode": {
    "name": "ipython",
    "version": 3
   },
   "file_extension": ".py",
   "mimetype": "text/x-python",
   "name": "python",
   "nbconvert_exporter": "python",
   "pygments_lexer": "ipython3",
   "version": "3.7.3"
  }
 },
 "nbformat": 4,
 "nbformat_minor": 2
}
