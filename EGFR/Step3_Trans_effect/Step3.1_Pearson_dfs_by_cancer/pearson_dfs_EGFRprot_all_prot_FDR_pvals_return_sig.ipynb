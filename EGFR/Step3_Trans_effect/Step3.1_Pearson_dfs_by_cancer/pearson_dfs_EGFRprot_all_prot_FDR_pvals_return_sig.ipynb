{
 "cells": [
  {
   "cell_type": "markdown",
   "metadata": {},
   "source": [
    "# Pearson Dfs EGFR proteomics vs all proteins "
   ]
  },
  {
   "cell_type": "markdown",
   "metadata": {},
   "source": [
    "This notebook records the pearson correlation stats for EGFR proteomics vs all proteomics. It records only the FDR Benjamini/Hochberg significant comparisons. I returns the corrected p values.  "
   ]
  },
  {
   "cell_type": "code",
   "execution_count": 1,
   "metadata": {},
   "outputs": [
    {
     "name": "stderr",
     "output_type": "stream",
     "text": [
      "/Users/Lindsey/anaconda3/lib/python3.7/site-packages/statsmodels/tools/_testing.py:19: FutureWarning: pandas.util.testing is deprecated. Use the functions in the public API at pandas.testing instead.\n",
      "  import pandas.util.testing as tm\n"
     ]
    }
   ],
   "source": [
    "import pandas as pd\n",
    "import numpy as np\n",
    "import seaborn as sns\n",
    "import matplotlib.pyplot as plt\n",
    "import scipy.stats\n",
    "import re\n",
    "import sys \n",
    "import statsmodels.stats.multitest\n",
    "\n",
    "\n",
    "import cptac\n",
    "import cptac.utils as u\n",
    "import plot_utils as p\n"
   ]
  },
  {
   "cell_type": "code",
   "execution_count": 2,
   "metadata": {},
   "outputs": [],
   "source": [
    "def create_prot_list(df):\n",
    "    #Add _(number) to keep track of duplicates due to multiple isoforms \n",
    "    cols = pd.Series(df.columns[:])\n",
    "    for dup in cols[cols.duplicated()].unique(): \n",
    "        cols[cols[cols == dup].index.values.tolist()] = [dup + '_' + str(i) if i != 0 else dup for i in range(sum(cols == dup))]\n",
    "    df.columns=cols\n",
    "    prot_genes_list = df.columns.values.tolist()\n",
    "    prot_genes_list.remove('EGFR_Mutation')\n",
    "    prot_genes_list.remove('EGFR_Location')\n",
    "    prot_genes_list.remove('EGFR_Mutation_Status')\n",
    "    prot_genes_list.remove('Sample_Status')\n",
    "    return prot_genes_list"
   ]
  },
  {
   "cell_type": "code",
   "execution_count": 3,
   "metadata": {},
   "outputs": [
    {
     "name": "stdout",
     "output_type": "stream",
     "text": [
      "Checking that ccrcc index is up-to-date...\r"
     ]
    },
    {
     "name": "stderr",
     "output_type": "stream",
     "text": [
      "cptac warning: The GBM dataset is under publication embargo until March 01, 2021. CPTAC is a community resource project and data are made available rapidly after generation for community research use. The embargo allows exploring and utilizing the data, but analysis may not be published until after the embargo date. Please see https://proteomics.cancer.gov/data-portal/about/data-use-agreement or enter cptac.embargo() to open the webpage for more details. (/Users/Lindsey/anaconda3/lib/python3.7/site-packages/ipykernel_launcher.py, line 2)\n"
     ]
    },
    {
     "name": "stdout",
     "output_type": "stream",
     "text": [
      "Checking that hnscc index is up-to-date...  \r"
     ]
    },
    {
     "name": "stderr",
     "output_type": "stream",
     "text": [
      "cptac warning: The LUAD dataset is under publication embargo until July 01, 2020. CPTAC is a community resource project and data are made available rapidly after generation for community research use. The embargo allows exploring and utilizing the data, but analysis may not be published until after the embargo date. Please see https://proteomics.cancer.gov/data-portal/about/data-use-agreement or enter cptac.embargo() to open the webpage for more details. (/Users/Lindsey/anaconda3/lib/python3.7/site-packages/ipykernel_launcher.py, line 7)\n"
     ]
    },
    {
     "name": "stdout",
     "output_type": "stream",
     "text": [
      "Checking that lscc index is up-to-date... \r"
     ]
    },
    {
     "name": "stderr",
     "output_type": "stream",
     "text": [
      "cptac warning: The HNSCC data is currently strictly reserved for CPTAC investigators. Otherwise, you are not authorized to access these data. Additionally, even after these data become publicly available, they will be subject to a publication embargo (see https://proteomics.cancer.gov/data-portal/about/data-use-agreement or enter cptac.embargo() to open the webpage for more details). (/Users/Lindsey/anaconda3/lib/python3.7/site-packages/ipykernel_launcher.py, line 8)\n"
     ]
    },
    {
     "name": "stdout",
     "output_type": "stream",
     "text": [
      "version 3scc v3.2.......                 \n",
      "                            \r"
     ]
    },
    {
     "name": "stderr",
     "output_type": "stream",
     "text": [
      "cptac warning: The LSCC data is currently strictly reserved for CPTAC investigators. Otherwise, you are not authorized to access these data. Additionally, even after these data become publicly available, they will be subject to a publication embargo (see https://proteomics.cancer.gov/data-portal/about/data-use-agreement or enter cptac.embargo() to open the webpage for more details). (/Users/Lindsey/anaconda3/lib/python3.7/site-packages/ipykernel_launcher.py, line 9)\n"
     ]
    }
   ],
   "source": [
    "#load cptac data \n",
    "brain = cptac.Gbm()\n",
    "kidney = cptac.Ccrcc()\n",
    "Ovar = cptac.Ovarian()\n",
    "colon = cptac.Colon()\n",
    "brca = cptac.Brca()\n",
    "luad = cptac.Luad()\n",
    "Hnscc = cptac.Hnscc()\n",
    "Lscc = cptac.Lscc()"
   ]
  },
  {
   "cell_type": "code",
   "execution_count": null,
   "metadata": {},
   "outputs": [],
   "source": []
  },
  {
   "cell_type": "markdown",
   "metadata": {},
   "source": [
    "# Step 1 Create Data frames "
   ]
  },
  {
   "cell_type": "markdown",
   "metadata": {},
   "source": [
    "For each cancer type,\n",
    "load proteomic data and mutation data for EGFR and\n",
    "filter out non-tumor samples "
   ]
  },
  {
   "cell_type": "markdown",
   "metadata": {},
   "source": [
    "# Step 2  Create list of Proteins for Comparison"
   ]
  },
  {
   "cell_type": "markdown",
   "metadata": {},
   "source": [
    "For each cancer type, create list of proteins by using create_prot_list function which extracts column names and removes extra columns."
   ]
  },
  {
   "cell_type": "markdown",
   "metadata": {},
   "source": [
    "# Step 3 Run Pearson Correlation Function  "
   ]
  },
  {
   "cell_type": "markdown",
   "metadata": {},
   "source": [
    "Run function on df and compare EGFR proteomics to all other proteins in protein list. Store only the significant comparisons. Save df as csv file"
   ]
  },
  {
   "cell_type": "markdown",
   "metadata": {},
   "source": [
    "# GBM"
   ]
  },
  {
   "cell_type": "code",
   "execution_count": 4,
   "metadata": {},
   "outputs": [
    {
     "name": "stderr",
     "output_type": "stream",
     "text": [
      "cptac warning: In joining the somatic_mutation table, no mutations were found for the following samples, so they were filled with Wildtype_Tumor or Wildtype_Normal: 93 samples for the EGFR gene (/Users/Lindsey/anaconda3/lib/python3.7/site-packages/ipykernel_launcher.py, line 1)\n"
     ]
    }
   ],
   "source": [
    "df1 = brain.join_omics_to_mutations(omics_df_name=\"proteomics\", mutations_genes=\"EGFR\")\n",
    "df1_tumor = df1.loc[df1['Sample_Status'] == \"Tumor\"]"
   ]
  },
  {
   "cell_type": "code",
   "execution_count": 5,
   "metadata": {},
   "outputs": [],
   "source": [
    "prot_genes_list = create_prot_list(df1_tumor)"
   ]
  },
  {
   "cell_type": "code",
   "execution_count": 6,
   "metadata": {},
   "outputs": [
    {
     "data": {
      "text/html": [
       "<div>\n",
       "<style scoped>\n",
       "    .dataframe tbody tr th:only-of-type {\n",
       "        vertical-align: middle;\n",
       "    }\n",
       "\n",
       "    .dataframe tbody tr th {\n",
       "        vertical-align: top;\n",
       "    }\n",
       "\n",
       "    .dataframe thead th {\n",
       "        text-align: right;\n",
       "    }\n",
       "</style>\n",
       "<table border=\"1\" class=\"dataframe\">\n",
       "  <thead>\n",
       "    <tr style=\"text-align: right;\">\n",
       "      <th></th>\n",
       "      <th>Comparison</th>\n",
       "      <th>Correlation</th>\n",
       "      <th>P_value</th>\n",
       "      <th>Cancer Type</th>\n",
       "    </tr>\n",
       "  </thead>\n",
       "  <tbody>\n",
       "    <tr>\n",
       "      <th>454</th>\n",
       "      <td>EGFR_proteomics</td>\n",
       "      <td>1.000000</td>\n",
       "      <td>0.000000e+00</td>\n",
       "      <td>GBM</td>\n",
       "    </tr>\n",
       "    <tr>\n",
       "      <th>1043</th>\n",
       "      <td>PHLDA1_proteomics</td>\n",
       "      <td>0.816848</td>\n",
       "      <td>3.507071e-21</td>\n",
       "      <td>GBM</td>\n",
       "    </tr>\n",
       "    <tr>\n",
       "      <th>642</th>\n",
       "      <td>GRB2_proteomics</td>\n",
       "      <td>-0.610889</td>\n",
       "      <td>6.729990e-08</td>\n",
       "      <td>GBM</td>\n",
       "    </tr>\n",
       "    <tr>\n",
       "      <th>274</th>\n",
       "      <td>CDH4_proteomics</td>\n",
       "      <td>0.559180</td>\n",
       "      <td>3.420388e-06</td>\n",
       "      <td>GBM</td>\n",
       "    </tr>\n",
       "    <tr>\n",
       "      <th>1059</th>\n",
       "      <td>PLA2G15_proteomics</td>\n",
       "      <td>-0.556624</td>\n",
       "      <td>3.420388e-06</td>\n",
       "      <td>GBM</td>\n",
       "    </tr>\n",
       "    <tr>\n",
       "      <th>...</th>\n",
       "      <td>...</td>\n",
       "      <td>...</td>\n",
       "      <td>...</td>\n",
       "      <td>...</td>\n",
       "    </tr>\n",
       "    <tr>\n",
       "      <th>1536</th>\n",
       "      <td>WAPL_proteomics</td>\n",
       "      <td>-0.267631</td>\n",
       "      <td>4.993292e-02</td>\n",
       "      <td>GBM</td>\n",
       "    </tr>\n",
       "    <tr>\n",
       "      <th>1511</th>\n",
       "      <td>USP2_proteomics</td>\n",
       "      <td>0.280545</td>\n",
       "      <td>4.993292e-02</td>\n",
       "      <td>GBM</td>\n",
       "    </tr>\n",
       "    <tr>\n",
       "      <th>1324</th>\n",
       "      <td>SLC25A42_proteomics</td>\n",
       "      <td>0.267588</td>\n",
       "      <td>4.995405e-02</td>\n",
       "      <td>GBM</td>\n",
       "    </tr>\n",
       "    <tr>\n",
       "      <th>523</th>\n",
       "      <td>FANCD2_proteomics</td>\n",
       "      <td>0.278945</td>\n",
       "      <td>4.995405e-02</td>\n",
       "      <td>GBM</td>\n",
       "    </tr>\n",
       "    <tr>\n",
       "      <th>1572</th>\n",
       "      <td>ZFYVE21_proteomics</td>\n",
       "      <td>0.267548</td>\n",
       "      <td>4.996722e-02</td>\n",
       "      <td>GBM</td>\n",
       "    </tr>\n",
       "  </tbody>\n",
       "</table>\n",
       "<p>1590 rows × 4 columns</p>\n",
       "</div>"
      ],
      "text/plain": [
       "               Comparison  Correlation       P_value Cancer Type\n",
       "454       EGFR_proteomics     1.000000  0.000000e+00         GBM\n",
       "1043    PHLDA1_proteomics     0.816848  3.507071e-21         GBM\n",
       "642       GRB2_proteomics    -0.610889  6.729990e-08         GBM\n",
       "274       CDH4_proteomics     0.559180  3.420388e-06         GBM\n",
       "1059   PLA2G15_proteomics    -0.556624  3.420388e-06         GBM\n",
       "...                   ...          ...           ...         ...\n",
       "1536      WAPL_proteomics    -0.267631  4.993292e-02         GBM\n",
       "1511      USP2_proteomics     0.280545  4.993292e-02         GBM\n",
       "1324  SLC25A42_proteomics     0.267588  4.995405e-02         GBM\n",
       "523     FANCD2_proteomics     0.278945  4.995405e-02         GBM\n",
       "1572   ZFYVE21_proteomics     0.267548  4.996722e-02         GBM\n",
       "\n",
       "[1590 rows x 4 columns]"
      ]
     },
     "execution_count": 6,
     "metadata": {},
     "output_type": "execute_result"
    }
   ],
   "source": [
    "df2= p.wrap_pearson_corr(df1_tumor,\"EGFR_proteomics\",comparison_columns= prot_genes_list,correction_method='fdr_bh', return_all = False, return_corrected_pvals = True)\n",
    "\n",
    "df2.to_csv(\"csv_files/GBM_EGFR_all_pearson_FDR_pval_return_sig.csv\")\n",
    "df2['Cancer Type']='GBM'\n",
    "df2.to_csv(\"csv_files/GBM_EGFR_all_pearson_FDR2_pval_return_sig.csv\")\n",
    "df2\n",
    "\n"
   ]
  },
  {
   "cell_type": "markdown",
   "metadata": {},
   "source": [
    "# Kidney "
   ]
  },
  {
   "cell_type": "code",
   "execution_count": 7,
   "metadata": {},
   "outputs": [
    {
     "name": "stderr",
     "output_type": "stream",
     "text": [
      "cptac warning: In joining the somatic_mutation table, no mutations were found for the following samples, so they were filled with Wildtype_Tumor or Wildtype_Normal: 193 samples for the EGFR gene (/Users/Lindsey/anaconda3/lib/python3.7/site-packages/ipykernel_launcher.py, line 1)\n"
     ]
    },
    {
     "data": {
      "text/html": [
       "<div>\n",
       "<style scoped>\n",
       "    .dataframe tbody tr th:only-of-type {\n",
       "        vertical-align: middle;\n",
       "    }\n",
       "\n",
       "    .dataframe tbody tr th {\n",
       "        vertical-align: top;\n",
       "    }\n",
       "\n",
       "    .dataframe thead th {\n",
       "        text-align: right;\n",
       "    }\n",
       "</style>\n",
       "<table border=\"1\" class=\"dataframe\">\n",
       "  <thead>\n",
       "    <tr style=\"text-align: right;\">\n",
       "      <th>Name</th>\n",
       "      <th>A1BG_proteomics</th>\n",
       "      <th>A1CF_proteomics</th>\n",
       "      <th>A2M_proteomics</th>\n",
       "      <th>A4GALT_proteomics</th>\n",
       "      <th>AAAS_proteomics</th>\n",
       "      <th>AACS_proteomics</th>\n",
       "      <th>AADAC_proteomics</th>\n",
       "      <th>AADAT_proteomics</th>\n",
       "      <th>AAED1_proteomics</th>\n",
       "      <th>AAGAB_proteomics</th>\n",
       "      <th>...</th>\n",
       "      <th>ZWINT_proteomics</th>\n",
       "      <th>ZXDC_proteomics</th>\n",
       "      <th>ZYG11B_proteomics</th>\n",
       "      <th>ZYX_proteomics</th>\n",
       "      <th>ZZEF1_proteomics</th>\n",
       "      <th>ZZZ3_proteomics</th>\n",
       "      <th>EGFR_Mutation</th>\n",
       "      <th>EGFR_Location</th>\n",
       "      <th>EGFR_Mutation_Status</th>\n",
       "      <th>Sample_Status</th>\n",
       "    </tr>\n",
       "    <tr>\n",
       "      <th>Patient_ID</th>\n",
       "      <th></th>\n",
       "      <th></th>\n",
       "      <th></th>\n",
       "      <th></th>\n",
       "      <th></th>\n",
       "      <th></th>\n",
       "      <th></th>\n",
       "      <th></th>\n",
       "      <th></th>\n",
       "      <th></th>\n",
       "      <th></th>\n",
       "      <th></th>\n",
       "      <th></th>\n",
       "      <th></th>\n",
       "      <th></th>\n",
       "      <th></th>\n",
       "      <th></th>\n",
       "      <th></th>\n",
       "      <th></th>\n",
       "      <th></th>\n",
       "      <th></th>\n",
       "    </tr>\n",
       "  </thead>\n",
       "  <tbody>\n",
       "    <tr>\n",
       "      <th>C3L-00004</th>\n",
       "      <td>-0.304302</td>\n",
       "      <td>0.641447</td>\n",
       "      <td>-0.000025</td>\n",
       "      <td>NaN</td>\n",
       "      <td>0.207831</td>\n",
       "      <td>-0.364128</td>\n",
       "      <td>NaN</td>\n",
       "      <td>-1.203886</td>\n",
       "      <td>-0.217934</td>\n",
       "      <td>0.216894</td>\n",
       "      <td>...</td>\n",
       "      <td>NaN</td>\n",
       "      <td>-0.021827</td>\n",
       "      <td>0.133927</td>\n",
       "      <td>0.237280</td>\n",
       "      <td>0.114409</td>\n",
       "      <td>NaN</td>\n",
       "      <td>[Wildtype_Tumor]</td>\n",
       "      <td>[No_mutation]</td>\n",
       "      <td>Wildtype_Tumor</td>\n",
       "      <td>Tumor</td>\n",
       "    </tr>\n",
       "    <tr>\n",
       "      <th>C3L-00010</th>\n",
       "      <td>1.195915</td>\n",
       "      <td>0.194620</td>\n",
       "      <td>1.360294</td>\n",
       "      <td>NaN</td>\n",
       "      <td>0.126956</td>\n",
       "      <td>-0.572843</td>\n",
       "      <td>NaN</td>\n",
       "      <td>-1.596546</td>\n",
       "      <td>NaN</td>\n",
       "      <td>0.221696</td>\n",
       "      <td>...</td>\n",
       "      <td>NaN</td>\n",
       "      <td>-0.205642</td>\n",
       "      <td>0.182434</td>\n",
       "      <td>NaN</td>\n",
       "      <td>0.201374</td>\n",
       "      <td>-0.068340</td>\n",
       "      <td>[Wildtype_Tumor]</td>\n",
       "      <td>[No_mutation]</td>\n",
       "      <td>Wildtype_Tumor</td>\n",
       "      <td>Tumor</td>\n",
       "    </tr>\n",
       "    <tr>\n",
       "      <th>C3L-00011</th>\n",
       "      <td>-0.286155</td>\n",
       "      <td>-0.780455</td>\n",
       "      <td>-0.101089</td>\n",
       "      <td>NaN</td>\n",
       "      <td>0.292629</td>\n",
       "      <td>0.035812</td>\n",
       "      <td>NaN</td>\n",
       "      <td>NaN</td>\n",
       "      <td>NaN</td>\n",
       "      <td>0.300863</td>\n",
       "      <td>...</td>\n",
       "      <td>NaN</td>\n",
       "      <td>0.316298</td>\n",
       "      <td>-0.009772</td>\n",
       "      <td>-0.019653</td>\n",
       "      <td>-0.095339</td>\n",
       "      <td>0.008961</td>\n",
       "      <td>[Wildtype_Tumor]</td>\n",
       "      <td>[No_mutation]</td>\n",
       "      <td>Wildtype_Tumor</td>\n",
       "      <td>Tumor</td>\n",
       "    </tr>\n",
       "    <tr>\n",
       "      <th>C3L-00026</th>\n",
       "      <td>0.135730</td>\n",
       "      <td>0.404286</td>\n",
       "      <td>0.261384</td>\n",
       "      <td>NaN</td>\n",
       "      <td>0.155568</td>\n",
       "      <td>0.336311</td>\n",
       "      <td>NaN</td>\n",
       "      <td>NaN</td>\n",
       "      <td>0.709046</td>\n",
       "      <td>0.244198</td>\n",
       "      <td>...</td>\n",
       "      <td>NaN</td>\n",
       "      <td>-0.120501</td>\n",
       "      <td>0.054559</td>\n",
       "      <td>-0.313236</td>\n",
       "      <td>0.062194</td>\n",
       "      <td>0.052825</td>\n",
       "      <td>[Wildtype_Tumor]</td>\n",
       "      <td>[No_mutation]</td>\n",
       "      <td>Wildtype_Tumor</td>\n",
       "      <td>Tumor</td>\n",
       "    </tr>\n",
       "    <tr>\n",
       "      <th>C3L-00079</th>\n",
       "      <td>-0.123959</td>\n",
       "      <td>-0.677773</td>\n",
       "      <td>-0.362547</td>\n",
       "      <td>NaN</td>\n",
       "      <td>0.187605</td>\n",
       "      <td>-0.320026</td>\n",
       "      <td>NaN</td>\n",
       "      <td>-1.300148</td>\n",
       "      <td>-0.153216</td>\n",
       "      <td>0.229676</td>\n",
       "      <td>...</td>\n",
       "      <td>0.068182</td>\n",
       "      <td>NaN</td>\n",
       "      <td>0.178869</td>\n",
       "      <td>0.266290</td>\n",
       "      <td>-0.028647</td>\n",
       "      <td>0.003682</td>\n",
       "      <td>[Wildtype_Tumor]</td>\n",
       "      <td>[No_mutation]</td>\n",
       "      <td>Wildtype_Tumor</td>\n",
       "      <td>Tumor</td>\n",
       "    </tr>\n",
       "    <tr>\n",
       "      <th>...</th>\n",
       "      <td>...</td>\n",
       "      <td>...</td>\n",
       "      <td>...</td>\n",
       "      <td>...</td>\n",
       "      <td>...</td>\n",
       "      <td>...</td>\n",
       "      <td>...</td>\n",
       "      <td>...</td>\n",
       "      <td>...</td>\n",
       "      <td>...</td>\n",
       "      <td>...</td>\n",
       "      <td>...</td>\n",
       "      <td>...</td>\n",
       "      <td>...</td>\n",
       "      <td>...</td>\n",
       "      <td>...</td>\n",
       "      <td>...</td>\n",
       "      <td>...</td>\n",
       "      <td>...</td>\n",
       "      <td>...</td>\n",
       "      <td>...</td>\n",
       "    </tr>\n",
       "    <tr>\n",
       "      <th>C3N-01646</th>\n",
       "      <td>-0.173487</td>\n",
       "      <td>-0.686012</td>\n",
       "      <td>0.816201</td>\n",
       "      <td>NaN</td>\n",
       "      <td>0.322337</td>\n",
       "      <td>0.187351</td>\n",
       "      <td>NaN</td>\n",
       "      <td>NaN</td>\n",
       "      <td>NaN</td>\n",
       "      <td>0.072120</td>\n",
       "      <td>...</td>\n",
       "      <td>NaN</td>\n",
       "      <td>-0.063266</td>\n",
       "      <td>-0.103128</td>\n",
       "      <td>0.352912</td>\n",
       "      <td>0.211666</td>\n",
       "      <td>NaN</td>\n",
       "      <td>[Wildtype_Tumor]</td>\n",
       "      <td>[No_mutation]</td>\n",
       "      <td>Wildtype_Tumor</td>\n",
       "      <td>Tumor</td>\n",
       "    </tr>\n",
       "    <tr>\n",
       "      <th>C3N-01648</th>\n",
       "      <td>-0.350081</td>\n",
       "      <td>-0.699248</td>\n",
       "      <td>-0.303287</td>\n",
       "      <td>NaN</td>\n",
       "      <td>0.015626</td>\n",
       "      <td>-0.161738</td>\n",
       "      <td>NaN</td>\n",
       "      <td>NaN</td>\n",
       "      <td>NaN</td>\n",
       "      <td>0.192821</td>\n",
       "      <td>...</td>\n",
       "      <td>NaN</td>\n",
       "      <td>-0.163551</td>\n",
       "      <td>-0.128527</td>\n",
       "      <td>0.482901</td>\n",
       "      <td>0.211126</td>\n",
       "      <td>0.086113</td>\n",
       "      <td>[Wildtype_Tumor]</td>\n",
       "      <td>[No_mutation]</td>\n",
       "      <td>Wildtype_Tumor</td>\n",
       "      <td>Tumor</td>\n",
       "    </tr>\n",
       "    <tr>\n",
       "      <th>C3N-01649</th>\n",
       "      <td>0.246378</td>\n",
       "      <td>-0.847288</td>\n",
       "      <td>-0.186221</td>\n",
       "      <td>NaN</td>\n",
       "      <td>0.113546</td>\n",
       "      <td>-0.687156</td>\n",
       "      <td>NaN</td>\n",
       "      <td>NaN</td>\n",
       "      <td>NaN</td>\n",
       "      <td>-0.232000</td>\n",
       "      <td>...</td>\n",
       "      <td>NaN</td>\n",
       "      <td>0.110566</td>\n",
       "      <td>-0.035962</td>\n",
       "      <td>0.752686</td>\n",
       "      <td>0.105418</td>\n",
       "      <td>-0.127322</td>\n",
       "      <td>[Silent]</td>\n",
       "      <td>[p.I213I]</td>\n",
       "      <td>Single_mutation</td>\n",
       "      <td>Tumor</td>\n",
       "    </tr>\n",
       "    <tr>\n",
       "      <th>C3N-01651</th>\n",
       "      <td>-0.242872</td>\n",
       "      <td>0.486950</td>\n",
       "      <td>-0.057568</td>\n",
       "      <td>NaN</td>\n",
       "      <td>0.198747</td>\n",
       "      <td>0.146118</td>\n",
       "      <td>NaN</td>\n",
       "      <td>NaN</td>\n",
       "      <td>-0.004491</td>\n",
       "      <td>-0.127252</td>\n",
       "      <td>...</td>\n",
       "      <td>NaN</td>\n",
       "      <td>NaN</td>\n",
       "      <td>0.351924</td>\n",
       "      <td>0.569947</td>\n",
       "      <td>-0.156008</td>\n",
       "      <td>-0.186567</td>\n",
       "      <td>[Wildtype_Tumor]</td>\n",
       "      <td>[No_mutation]</td>\n",
       "      <td>Wildtype_Tumor</td>\n",
       "      <td>Tumor</td>\n",
       "    </tr>\n",
       "    <tr>\n",
       "      <th>C3N-01808</th>\n",
       "      <td>0.171883</td>\n",
       "      <td>0.364511</td>\n",
       "      <td>-0.027313</td>\n",
       "      <td>NaN</td>\n",
       "      <td>0.245858</td>\n",
       "      <td>-0.238324</td>\n",
       "      <td>NaN</td>\n",
       "      <td>NaN</td>\n",
       "      <td>NaN</td>\n",
       "      <td>0.076863</td>\n",
       "      <td>...</td>\n",
       "      <td>NaN</td>\n",
       "      <td>-0.180768</td>\n",
       "      <td>0.180566</td>\n",
       "      <td>0.135707</td>\n",
       "      <td>-0.126335</td>\n",
       "      <td>0.546345</td>\n",
       "      <td>[Wildtype_Tumor]</td>\n",
       "      <td>[No_mutation]</td>\n",
       "      <td>Wildtype_Tumor</td>\n",
       "      <td>Tumor</td>\n",
       "    </tr>\n",
       "  </tbody>\n",
       "</table>\n",
       "<p>110 rows × 11714 columns</p>\n",
       "</div>"
      ],
      "text/plain": [
       "Name        A1BG_proteomics  A1CF_proteomics  A2M_proteomics  \\\n",
       "Patient_ID                                                     \n",
       "C3L-00004         -0.304302         0.641447       -0.000025   \n",
       "C3L-00010          1.195915         0.194620        1.360294   \n",
       "C3L-00011         -0.286155        -0.780455       -0.101089   \n",
       "C3L-00026          0.135730         0.404286        0.261384   \n",
       "C3L-00079         -0.123959        -0.677773       -0.362547   \n",
       "...                     ...              ...             ...   \n",
       "C3N-01646         -0.173487        -0.686012        0.816201   \n",
       "C3N-01648         -0.350081        -0.699248       -0.303287   \n",
       "C3N-01649          0.246378        -0.847288       -0.186221   \n",
       "C3N-01651         -0.242872         0.486950       -0.057568   \n",
       "C3N-01808          0.171883         0.364511       -0.027313   \n",
       "\n",
       "Name        A4GALT_proteomics  AAAS_proteomics  AACS_proteomics  \\\n",
       "Patient_ID                                                        \n",
       "C3L-00004                 NaN         0.207831        -0.364128   \n",
       "C3L-00010                 NaN         0.126956        -0.572843   \n",
       "C3L-00011                 NaN         0.292629         0.035812   \n",
       "C3L-00026                 NaN         0.155568         0.336311   \n",
       "C3L-00079                 NaN         0.187605        -0.320026   \n",
       "...                       ...              ...              ...   \n",
       "C3N-01646                 NaN         0.322337         0.187351   \n",
       "C3N-01648                 NaN         0.015626        -0.161738   \n",
       "C3N-01649                 NaN         0.113546        -0.687156   \n",
       "C3N-01651                 NaN         0.198747         0.146118   \n",
       "C3N-01808                 NaN         0.245858        -0.238324   \n",
       "\n",
       "Name        AADAC_proteomics  AADAT_proteomics  AAED1_proteomics  \\\n",
       "Patient_ID                                                         \n",
       "C3L-00004                NaN         -1.203886         -0.217934   \n",
       "C3L-00010                NaN         -1.596546               NaN   \n",
       "C3L-00011                NaN               NaN               NaN   \n",
       "C3L-00026                NaN               NaN          0.709046   \n",
       "C3L-00079                NaN         -1.300148         -0.153216   \n",
       "...                      ...               ...               ...   \n",
       "C3N-01646                NaN               NaN               NaN   \n",
       "C3N-01648                NaN               NaN               NaN   \n",
       "C3N-01649                NaN               NaN               NaN   \n",
       "C3N-01651                NaN               NaN         -0.004491   \n",
       "C3N-01808                NaN               NaN               NaN   \n",
       "\n",
       "Name        AAGAB_proteomics  ...  ZWINT_proteomics  ZXDC_proteomics  \\\n",
       "Patient_ID                    ...                                      \n",
       "C3L-00004           0.216894  ...               NaN        -0.021827   \n",
       "C3L-00010           0.221696  ...               NaN        -0.205642   \n",
       "C3L-00011           0.300863  ...               NaN         0.316298   \n",
       "C3L-00026           0.244198  ...               NaN        -0.120501   \n",
       "C3L-00079           0.229676  ...          0.068182              NaN   \n",
       "...                      ...  ...               ...              ...   \n",
       "C3N-01646           0.072120  ...               NaN        -0.063266   \n",
       "C3N-01648           0.192821  ...               NaN        -0.163551   \n",
       "C3N-01649          -0.232000  ...               NaN         0.110566   \n",
       "C3N-01651          -0.127252  ...               NaN              NaN   \n",
       "C3N-01808           0.076863  ...               NaN        -0.180768   \n",
       "\n",
       "Name        ZYG11B_proteomics  ZYX_proteomics  ZZEF1_proteomics  \\\n",
       "Patient_ID                                                        \n",
       "C3L-00004            0.133927        0.237280          0.114409   \n",
       "C3L-00010            0.182434             NaN          0.201374   \n",
       "C3L-00011           -0.009772       -0.019653         -0.095339   \n",
       "C3L-00026            0.054559       -0.313236          0.062194   \n",
       "C3L-00079            0.178869        0.266290         -0.028647   \n",
       "...                       ...             ...               ...   \n",
       "C3N-01646           -0.103128        0.352912          0.211666   \n",
       "C3N-01648           -0.128527        0.482901          0.211126   \n",
       "C3N-01649           -0.035962        0.752686          0.105418   \n",
       "C3N-01651            0.351924        0.569947         -0.156008   \n",
       "C3N-01808            0.180566        0.135707         -0.126335   \n",
       "\n",
       "Name        ZZZ3_proteomics     EGFR_Mutation  EGFR_Location  \\\n",
       "Patient_ID                                                     \n",
       "C3L-00004               NaN  [Wildtype_Tumor]  [No_mutation]   \n",
       "C3L-00010         -0.068340  [Wildtype_Tumor]  [No_mutation]   \n",
       "C3L-00011          0.008961  [Wildtype_Tumor]  [No_mutation]   \n",
       "C3L-00026          0.052825  [Wildtype_Tumor]  [No_mutation]   \n",
       "C3L-00079          0.003682  [Wildtype_Tumor]  [No_mutation]   \n",
       "...                     ...               ...            ...   \n",
       "C3N-01646               NaN  [Wildtype_Tumor]  [No_mutation]   \n",
       "C3N-01648          0.086113  [Wildtype_Tumor]  [No_mutation]   \n",
       "C3N-01649         -0.127322          [Silent]      [p.I213I]   \n",
       "C3N-01651         -0.186567  [Wildtype_Tumor]  [No_mutation]   \n",
       "C3N-01808          0.546345  [Wildtype_Tumor]  [No_mutation]   \n",
       "\n",
       "Name        EGFR_Mutation_Status  Sample_Status  \n",
       "Patient_ID                                       \n",
       "C3L-00004         Wildtype_Tumor          Tumor  \n",
       "C3L-00010         Wildtype_Tumor          Tumor  \n",
       "C3L-00011         Wildtype_Tumor          Tumor  \n",
       "C3L-00026         Wildtype_Tumor          Tumor  \n",
       "C3L-00079         Wildtype_Tumor          Tumor  \n",
       "...                          ...            ...  \n",
       "C3N-01646         Wildtype_Tumor          Tumor  \n",
       "C3N-01648         Wildtype_Tumor          Tumor  \n",
       "C3N-01649        Single_mutation          Tumor  \n",
       "C3N-01651         Wildtype_Tumor          Tumor  \n",
       "C3N-01808         Wildtype_Tumor          Tumor  \n",
       "\n",
       "[110 rows x 11714 columns]"
      ]
     },
     "execution_count": 7,
     "metadata": {},
     "output_type": "execute_result"
    }
   ],
   "source": [
    "df1 = kidney.join_omics_to_mutations(omics_df_name=\"proteomics\",mutations_genes=\"EGFR\")\n",
    "df1.columns = df1.columns.droplevel(1)\n",
    "df1_tumor = df1.loc[df1['Sample_Status'] == \"Tumor\"]\n",
    "df1_tumor"
   ]
  },
  {
   "cell_type": "code",
   "execution_count": 8,
   "metadata": {},
   "outputs": [],
   "source": [
    "prot_genes_list = create_prot_list(df1_tumor)"
   ]
  },
  {
   "cell_type": "code",
   "execution_count": 9,
   "metadata": {},
   "outputs": [
    {
     "data": {
      "text/html": [
       "<div>\n",
       "<style scoped>\n",
       "    .dataframe tbody tr th:only-of-type {\n",
       "        vertical-align: middle;\n",
       "    }\n",
       "\n",
       "    .dataframe tbody tr th {\n",
       "        vertical-align: top;\n",
       "    }\n",
       "\n",
       "    .dataframe thead th {\n",
       "        text-align: right;\n",
       "    }\n",
       "</style>\n",
       "<table border=\"1\" class=\"dataframe\">\n",
       "  <thead>\n",
       "    <tr style=\"text-align: right;\">\n",
       "      <th></th>\n",
       "      <th>Comparison</th>\n",
       "      <th>Correlation</th>\n",
       "      <th>P_value</th>\n",
       "      <th>Cancer Type</th>\n",
       "    </tr>\n",
       "  </thead>\n",
       "  <tbody>\n",
       "    <tr>\n",
       "      <th>278</th>\n",
       "      <td>EGFR_proteomics</td>\n",
       "      <td>1.000000</td>\n",
       "      <td>0.000000e+00</td>\n",
       "      <td>Kidney</td>\n",
       "    </tr>\n",
       "    <tr>\n",
       "      <th>746</th>\n",
       "      <td>PPM1B_proteomics</td>\n",
       "      <td>-0.584494</td>\n",
       "      <td>1.005437e-07</td>\n",
       "      <td>Kidney</td>\n",
       "    </tr>\n",
       "    <tr>\n",
       "      <th>106</th>\n",
       "      <td>ATP11A_proteomics</td>\n",
       "      <td>0.577079</td>\n",
       "      <td>1.368835e-07</td>\n",
       "      <td>Kidney</td>\n",
       "    </tr>\n",
       "    <tr>\n",
       "      <th>716</th>\n",
       "      <td>PLCB1_proteomics</td>\n",
       "      <td>0.561952</td>\n",
       "      <td>3.668177e-07</td>\n",
       "      <td>Kidney</td>\n",
       "    </tr>\n",
       "    <tr>\n",
       "      <th>74</th>\n",
       "      <td>APAF1_proteomics</td>\n",
       "      <td>0.560909</td>\n",
       "      <td>3.668177e-07</td>\n",
       "      <td>Kidney</td>\n",
       "    </tr>\n",
       "    <tr>\n",
       "      <th>...</th>\n",
       "      <td>...</td>\n",
       "      <td>...</td>\n",
       "      <td>...</td>\n",
       "      <td>...</td>\n",
       "    </tr>\n",
       "    <tr>\n",
       "      <th>548</th>\n",
       "      <td>MRPL51_proteomics</td>\n",
       "      <td>-0.263180</td>\n",
       "      <td>4.964616e-02</td>\n",
       "      <td>Kidney</td>\n",
       "    </tr>\n",
       "    <tr>\n",
       "      <th>1013</th>\n",
       "      <td>TRPV2_proteomics</td>\n",
       "      <td>-0.285927</td>\n",
       "      <td>4.964616e-02</td>\n",
       "      <td>Kidney</td>\n",
       "    </tr>\n",
       "    <tr>\n",
       "      <th>958</th>\n",
       "      <td>TCEAL2_proteomics</td>\n",
       "      <td>-0.366237</td>\n",
       "      <td>4.988337e-02</td>\n",
       "      <td>Kidney</td>\n",
       "    </tr>\n",
       "    <tr>\n",
       "      <th>478</th>\n",
       "      <td>KLHL18_proteomics</td>\n",
       "      <td>-0.425752</td>\n",
       "      <td>4.992186e-02</td>\n",
       "      <td>Kidney</td>\n",
       "    </tr>\n",
       "    <tr>\n",
       "      <th>20</th>\n",
       "      <td>ACSS3_proteomics</td>\n",
       "      <td>-0.262934</td>\n",
       "      <td>4.992186e-02</td>\n",
       "      <td>Kidney</td>\n",
       "    </tr>\n",
       "  </tbody>\n",
       "</table>\n",
       "<p>1095 rows × 4 columns</p>\n",
       "</div>"
      ],
      "text/plain": [
       "             Comparison  Correlation       P_value Cancer Type\n",
       "278     EGFR_proteomics     1.000000  0.000000e+00      Kidney\n",
       "746    PPM1B_proteomics    -0.584494  1.005437e-07      Kidney\n",
       "106   ATP11A_proteomics     0.577079  1.368835e-07      Kidney\n",
       "716    PLCB1_proteomics     0.561952  3.668177e-07      Kidney\n",
       "74     APAF1_proteomics     0.560909  3.668177e-07      Kidney\n",
       "...                 ...          ...           ...         ...\n",
       "548   MRPL51_proteomics    -0.263180  4.964616e-02      Kidney\n",
       "1013   TRPV2_proteomics    -0.285927  4.964616e-02      Kidney\n",
       "958   TCEAL2_proteomics    -0.366237  4.988337e-02      Kidney\n",
       "478   KLHL18_proteomics    -0.425752  4.992186e-02      Kidney\n",
       "20     ACSS3_proteomics    -0.262934  4.992186e-02      Kidney\n",
       "\n",
       "[1095 rows x 4 columns]"
      ]
     },
     "execution_count": 9,
     "metadata": {},
     "output_type": "execute_result"
    }
   ],
   "source": [
    "df2=p.wrap_pearson_corr(df1_tumor,\"EGFR_proteomics\",comparison_columns= prot_genes_list,correction_method='fdr_bh', return_all = False, return_corrected_pvals = True)\n",
    "df2.to_csv(\"csv_files/Kidney_EGFR_all_pearson_FDR_pvals_return_sig.csv\")\n",
    "df2['Cancer Type']='Kidney'\n",
    "df2.to_csv(\"csv_files/Kidney_EGFR_all_pearson_FDR2_pvals_return_sig.csv\")\n",
    "df2"
   ]
  },
  {
   "cell_type": "markdown",
   "metadata": {},
   "source": [
    "# Ovarian "
   ]
  },
  {
   "cell_type": "code",
   "execution_count": 10,
   "metadata": {},
   "outputs": [
    {
     "name": "stderr",
     "output_type": "stream",
     "text": [
      "cptac warning: In joining the somatic_mutation table, no mutations were found for the following samples, so they were filled with Wildtype_Tumor or Wildtype_Normal: 102 samples for the EGFR gene (/Users/Lindsey/anaconda3/lib/python3.7/site-packages/ipykernel_launcher.py, line 1)\n"
     ]
    }
   ],
   "source": [
    "df1 = Ovar.join_omics_to_mutations(omics_df_name=\"proteomics\", mutations_genes=\"EGFR\")\n",
    "df1.columns = df1.columns.droplevel(1)\n",
    "df1_tumor = df1.loc[df1['Sample_Status'] == \"Tumor\"]"
   ]
  },
  {
   "cell_type": "code",
   "execution_count": 11,
   "metadata": {},
   "outputs": [],
   "source": [
    "prot_genes_list = create_prot_list(df1_tumor)"
   ]
  },
  {
   "cell_type": "code",
   "execution_count": 12,
   "metadata": {},
   "outputs": [],
   "source": [
    "df2= p.wrap_pearson_corr(df1_tumor,\"EGFR_proteomics\",comparison_columns= prot_genes_list,correction_method='fdr_bh',return_all = False, return_corrected_pvals = True)\n",
    "df2.to_csv(\"csv_files/Ovar_EGFR_all_pearson_FDR_pvals_return_sig.csv\")\n",
    "df2['Cancer Type']='Ovarian'\n",
    "df2.to_csv(\"csv_files/Ovar_EGFR_all_pearson_FDR2_pvals_return_sig.csv\")\n"
   ]
  },
  {
   "cell_type": "code",
   "execution_count": null,
   "metadata": {},
   "outputs": [],
   "source": []
  },
  {
   "cell_type": "markdown",
   "metadata": {},
   "source": [
    "# Colon"
   ]
  },
  {
   "cell_type": "code",
   "execution_count": 13,
   "metadata": {},
   "outputs": [
    {
     "name": "stderr",
     "output_type": "stream",
     "text": [
      "cptac warning: In joining the somatic_mutation table, no mutations were found for the following samples, so they were filled with Wildtype_Tumor or Wildtype_Normal: 204 samples for the EGFR gene (/Users/Lindsey/anaconda3/lib/python3.7/site-packages/ipykernel_launcher.py, line 1)\n",
      "cptac warning: proteomics data was not found for the following samples, so proteomics data columns were filled with NaN for these samples: 01CO001, 05CO005, 05CO007, 05CO014, 05CO055, 11CO059, 11CO060, 14CO002, 16CO012, 24CO005 (/Users/Lindsey/anaconda3/lib/python3.7/site-packages/ipykernel_launcher.py, line 1)\n"
     ]
    }
   ],
   "source": [
    "df1 = colon.join_omics_to_mutations(omics_df_name=\"proteomics\", mutations_genes=\"EGFR\")\n",
    "df1_tumor = df1.loc[df1['Sample_Status'] == \"Tumor\"]"
   ]
  },
  {
   "cell_type": "code",
   "execution_count": 14,
   "metadata": {},
   "outputs": [],
   "source": [
    "prot_genes_list = create_prot_list(df1_tumor)"
   ]
  },
  {
   "cell_type": "code",
   "execution_count": 15,
   "metadata": {},
   "outputs": [
    {
     "data": {
      "text/html": [
       "<div>\n",
       "<style scoped>\n",
       "    .dataframe tbody tr th:only-of-type {\n",
       "        vertical-align: middle;\n",
       "    }\n",
       "\n",
       "    .dataframe tbody tr th {\n",
       "        vertical-align: top;\n",
       "    }\n",
       "\n",
       "    .dataframe thead th {\n",
       "        text-align: right;\n",
       "    }\n",
       "</style>\n",
       "<table border=\"1\" class=\"dataframe\">\n",
       "  <thead>\n",
       "    <tr style=\"text-align: right;\">\n",
       "      <th></th>\n",
       "      <th>Comparison</th>\n",
       "      <th>Correlation</th>\n",
       "      <th>P_value</th>\n",
       "      <th>Cancer Type</th>\n",
       "    </tr>\n",
       "  </thead>\n",
       "  <tbody>\n",
       "    <tr>\n",
       "      <th>145</th>\n",
       "      <td>EGFR_proteomics</td>\n",
       "      <td>1.000000</td>\n",
       "      <td>0.000000</td>\n",
       "      <td>Colon</td>\n",
       "    </tr>\n",
       "    <tr>\n",
       "      <th>425</th>\n",
       "      <td>RAE1_proteomics</td>\n",
       "      <td>-0.498802</td>\n",
       "      <td>0.000473</td>\n",
       "      <td>Colon</td>\n",
       "    </tr>\n",
       "    <tr>\n",
       "      <th>586</th>\n",
       "      <td>UTP6_proteomics</td>\n",
       "      <td>-0.510343</td>\n",
       "      <td>0.000473</td>\n",
       "      <td>Colon</td>\n",
       "    </tr>\n",
       "    <tr>\n",
       "      <th>178</th>\n",
       "      <td>GAR1_proteomics</td>\n",
       "      <td>-0.489788</td>\n",
       "      <td>0.000631</td>\n",
       "      <td>Colon</td>\n",
       "    </tr>\n",
       "    <tr>\n",
       "      <th>428</th>\n",
       "      <td>RALYL_proteomics</td>\n",
       "      <td>-0.485763</td>\n",
       "      <td>0.000650</td>\n",
       "      <td>Colon</td>\n",
       "    </tr>\n",
       "    <tr>\n",
       "      <th>...</th>\n",
       "      <td>...</td>\n",
       "      <td>...</td>\n",
       "      <td>...</td>\n",
       "      <td>...</td>\n",
       "    </tr>\n",
       "    <tr>\n",
       "      <th>516</th>\n",
       "      <td>SSR2_proteomics</td>\n",
       "      <td>0.301814</td>\n",
       "      <td>0.049589</td>\n",
       "      <td>Colon</td>\n",
       "    </tr>\n",
       "    <tr>\n",
       "      <th>541</th>\n",
       "      <td>TIMP1_proteomics</td>\n",
       "      <td>0.287791</td>\n",
       "      <td>0.049589</td>\n",
       "      <td>Colon</td>\n",
       "    </tr>\n",
       "    <tr>\n",
       "      <th>407</th>\n",
       "      <td>PSMB1_proteomics</td>\n",
       "      <td>0.287839</td>\n",
       "      <td>0.049589</td>\n",
       "      <td>Colon</td>\n",
       "    </tr>\n",
       "    <tr>\n",
       "      <th>306</th>\n",
       "      <td>MRPL39_proteomics</td>\n",
       "      <td>-0.288110</td>\n",
       "      <td>0.049589</td>\n",
       "      <td>Colon</td>\n",
       "    </tr>\n",
       "    <tr>\n",
       "      <th>273</th>\n",
       "      <td>MAP3K11_proteomics</td>\n",
       "      <td>0.498761</td>\n",
       "      <td>0.049785</td>\n",
       "      <td>Colon</td>\n",
       "    </tr>\n",
       "  </tbody>\n",
       "</table>\n",
       "<p>613 rows × 4 columns</p>\n",
       "</div>"
      ],
      "text/plain": [
       "             Comparison  Correlation   P_value Cancer Type\n",
       "145     EGFR_proteomics     1.000000  0.000000       Colon\n",
       "425     RAE1_proteomics    -0.498802  0.000473       Colon\n",
       "586     UTP6_proteomics    -0.510343  0.000473       Colon\n",
       "178     GAR1_proteomics    -0.489788  0.000631       Colon\n",
       "428    RALYL_proteomics    -0.485763  0.000650       Colon\n",
       "..                  ...          ...       ...         ...\n",
       "516     SSR2_proteomics     0.301814  0.049589       Colon\n",
       "541    TIMP1_proteomics     0.287791  0.049589       Colon\n",
       "407    PSMB1_proteomics     0.287839  0.049589       Colon\n",
       "306   MRPL39_proteomics    -0.288110  0.049589       Colon\n",
       "273  MAP3K11_proteomics     0.498761  0.049785       Colon\n",
       "\n",
       "[613 rows x 4 columns]"
      ]
     },
     "execution_count": 15,
     "metadata": {},
     "output_type": "execute_result"
    }
   ],
   "source": [
    "df2= p.wrap_pearson_corr(df1_tumor,\"EGFR_proteomics\",comparison_columns= prot_genes_list, correction_method='fdr_bh', return_all = False, return_corrected_pvals = True)\n",
    "df2.to_csv(\"csv_files/Colon_EGFR_all_pearson_FDR_pvals_return_sig.csv\")\n",
    "df2['Cancer Type']='Colon'\n",
    "df2.to_csv(\"csv_files/Colon_EGFR_all_pearson_FDR2_pvals_return_sig.csv\")\n",
    "df2"
   ]
  },
  {
   "cell_type": "markdown",
   "metadata": {},
   "source": [
    "# Brca "
   ]
  },
  {
   "cell_type": "code",
   "execution_count": 16,
   "metadata": {},
   "outputs": [
    {
     "name": "stderr",
     "output_type": "stream",
     "text": [
      "cptac warning: In joining the somatic_mutation table, no mutations were found for the following samples, so they were filled with Wildtype_Tumor or Wildtype_Normal: 118 samples for the EGFR gene (/Users/Lindsey/anaconda3/lib/python3.7/site-packages/ipykernel_launcher.py, line 1)\n"
     ]
    }
   ],
   "source": [
    "df1 = brca.join_omics_to_mutations(omics_df_name=\"proteomics\", mutations_genes=\"EGFR\")\n",
    "df1.columns = df1.columns.droplevel(1)\n",
    "df1_tumor = df1.loc[df1['Sample_Status'] == \"Tumor\"]"
   ]
  },
  {
   "cell_type": "code",
   "execution_count": 17,
   "metadata": {},
   "outputs": [],
   "source": [
    "prot_genes_list = create_prot_list(df1_tumor)"
   ]
  },
  {
   "cell_type": "code",
   "execution_count": 18,
   "metadata": {},
   "outputs": [],
   "source": [
    "df2= p.wrap_pearson_corr(df1_tumor,\"EGFR_proteomics\",comparison_columns= prot_genes_list, correction_method='fdr_bh', return_all = False, return_corrected_pvals = True)\n",
    "df2.to_csv(\"csv_files/Brca_EGFR_all_pearson_FDR_pvals_return_sig.csv\")\n",
    "df2['Cancer Type']='Brca'\n",
    "df2.to_csv(\"csv_files/Brca_EGFR_all_pearson_FDR2_pvals_return_sig.csv\")"
   ]
  },
  {
   "cell_type": "markdown",
   "metadata": {},
   "source": [
    "# LUAD"
   ]
  },
  {
   "cell_type": "code",
   "execution_count": 19,
   "metadata": {},
   "outputs": [
    {
     "name": "stderr",
     "output_type": "stream",
     "text": [
      "cptac warning: In joining the somatic_mutation table, no mutations were found for the following samples, so they were filled with Wildtype_Tumor or Wildtype_Normal: 171 samples for the EGFR gene (/Users/Lindsey/anaconda3/lib/python3.7/site-packages/ipykernel_launcher.py, line 1)\n"
     ]
    }
   ],
   "source": [
    "df1 = luad.join_omics_to_mutations(omics_df_name=\"proteomics\", mutations_genes=\"EGFR\")\n",
    "df1.columns = df1.columns.droplevel(1)\n",
    "df1_tumor = df1.loc[df1['Sample_Status'] == \"Tumor\"]"
   ]
  },
  {
   "cell_type": "code",
   "execution_count": 20,
   "metadata": {},
   "outputs": [],
   "source": [
    "prot_genes_list = create_prot_list(df1_tumor)"
   ]
  },
  {
   "cell_type": "code",
   "execution_count": 21,
   "metadata": {},
   "outputs": [],
   "source": [
    "df2= p.wrap_pearson_corr(df1_tumor,\"EGFR_proteomics\",comparison_columns= prot_genes_list,correction_method='fdr_bh', return_all = False, return_corrected_pvals = True)\n",
    "df2.to_csv(\"csv_files/Luad_EGFR_all_pearson_FDR_pvals_return_sig.csv\")\n",
    "df2['Cancer Type']='Luad'\n",
    "df2.to_csv(\"csv_files/Luad_EGFR_all_pearson_FDR2_pvals_return_sig.csv\")"
   ]
  },
  {
   "cell_type": "markdown",
   "metadata": {},
   "source": [
    "# HNSCC"
   ]
  },
  {
   "cell_type": "code",
   "execution_count": 22,
   "metadata": {},
   "outputs": [
    {
     "name": "stderr",
     "output_type": "stream",
     "text": [
      "cptac warning: In joining the somatic_mutation table, no mutations were found for the following samples, so they were filled with Wildtype_Tumor or Wildtype_Normal: 174 samples for the EGFR gene (/Users/Lindsey/anaconda3/lib/python3.7/site-packages/ipykernel_launcher.py, line 1)\n"
     ]
    }
   ],
   "source": [
    "df1 = Hnscc.join_omics_to_mutations(omics_df_name=\"proteomics\",  mutations_genes=\"EGFR\")\n",
    "df1_tumor = df1.loc[df1['Sample_Status'] == \"Tumor\"]"
   ]
  },
  {
   "cell_type": "code",
   "execution_count": 23,
   "metadata": {},
   "outputs": [],
   "source": [
    "prot_genes_list = create_prot_list(df1_tumor)"
   ]
  },
  {
   "cell_type": "code",
   "execution_count": 24,
   "metadata": {},
   "outputs": [],
   "source": [
    "df2= p.wrap_pearson_corr(df1_tumor,\"EGFR_proteomics\",comparison_columns= prot_genes_list,correction_method='fdr_bh', return_all = False, return_corrected_pvals = True)\n",
    "df2.to_csv(\"csv_files/Hnscc_EGFR_all_pearson_FDR_pvals_return_sig.csv\")\n",
    "df2['Cancer Type']='Hnscc'\n",
    "df2.to_csv(\"csv_files/Hnscc_EGFR_all_pearson_FDR2_pvals_return_sig.csv\")"
   ]
  },
  {
   "cell_type": "markdown",
   "metadata": {},
   "source": [
    "# Lscc"
   ]
  },
  {
   "cell_type": "code",
   "execution_count": 25,
   "metadata": {},
   "outputs": [
    {
     "name": "stderr",
     "output_type": "stream",
     "text": [
      "cptac warning: In joining the somatic_mutation table, no mutations were found for the following samples, so they were filled with Wildtype_Tumor or Wildtype_Normal: 199 samples for the EGFR gene (/Users/Lindsey/anaconda3/lib/python3.7/site-packages/ipykernel_launcher.py, line 1)\n"
     ]
    }
   ],
   "source": [
    "df1 = Lscc.join_omics_to_mutations(omics_df_name=\"proteomics\", mutations_genes=\"EGFR\")\n",
    "df1.columns = df1.columns.droplevel(1)\n",
    "df1_tumor = df1.loc[df1['Sample_Status'] == \"Tumor\"]"
   ]
  },
  {
   "cell_type": "code",
   "execution_count": 26,
   "metadata": {},
   "outputs": [],
   "source": [
    "prot_genes_list = create_prot_list(df1_tumor)"
   ]
  },
  {
   "cell_type": "code",
   "execution_count": 27,
   "metadata": {},
   "outputs": [],
   "source": [
    "df2= p.wrap_pearson_corr(df1_tumor,\"EGFR_proteomics\",comparison_columns= prot_genes_list,correction_method='fdr_bh', return_all = False, return_corrected_pvals = True)\n",
    "df2.to_csv(\"csv_files/Lscc_EGFR_all_pearson_FDR_pvals_return_sig.csv\")\n",
    "df2['Cancer Type']='Lscc'\n",
    "df2.to_csv(\"csv_files/Lscc_EGFR_all_pearson_FDR2_pvals_return_sig.csv\")"
   ]
  },
  {
   "cell_type": "code",
   "execution_count": 28,
   "metadata": {},
   "outputs": [
    {
     "data": {
      "text/html": [
       "<div>\n",
       "<style scoped>\n",
       "    .dataframe tbody tr th:only-of-type {\n",
       "        vertical-align: middle;\n",
       "    }\n",
       "\n",
       "    .dataframe tbody tr th {\n",
       "        vertical-align: top;\n",
       "    }\n",
       "\n",
       "    .dataframe thead th {\n",
       "        text-align: right;\n",
       "    }\n",
       "</style>\n",
       "<table border=\"1\" class=\"dataframe\">\n",
       "  <thead>\n",
       "    <tr style=\"text-align: right;\">\n",
       "      <th></th>\n",
       "      <th>Comparison</th>\n",
       "      <th>Correlation</th>\n",
       "      <th>P_value</th>\n",
       "      <th>Cancer Type</th>\n",
       "    </tr>\n",
       "  </thead>\n",
       "  <tbody>\n",
       "    <tr>\n",
       "      <th>143</th>\n",
       "      <td>EGFR_proteomics</td>\n",
       "      <td>1.000000</td>\n",
       "      <td>0.000000e+00</td>\n",
       "      <td>Lscc</td>\n",
       "    </tr>\n",
       "    <tr>\n",
       "      <th>324</th>\n",
       "      <td>PHLDA1_proteomics</td>\n",
       "      <td>0.713420</td>\n",
       "      <td>2.644826e-14</td>\n",
       "      <td>Lscc</td>\n",
       "    </tr>\n",
       "    <tr>\n",
       "      <th>326</th>\n",
       "      <td>PHLDA3_proteomics</td>\n",
       "      <td>0.682034</td>\n",
       "      <td>1.705262e-12</td>\n",
       "      <td>Lscc</td>\n",
       "    </tr>\n",
       "    <tr>\n",
       "      <th>258</th>\n",
       "      <td>LANCL2_proteomics</td>\n",
       "      <td>0.575817</td>\n",
       "      <td>2.040789e-07</td>\n",
       "      <td>Lscc</td>\n",
       "    </tr>\n",
       "    <tr>\n",
       "      <th>223</th>\n",
       "      <td>ITGB4_proteomics</td>\n",
       "      <td>0.566095</td>\n",
       "      <td>3.972505e-07</td>\n",
       "      <td>Lscc</td>\n",
       "    </tr>\n",
       "    <tr>\n",
       "      <th>...</th>\n",
       "      <td>...</td>\n",
       "      <td>...</td>\n",
       "      <td>...</td>\n",
       "      <td>...</td>\n",
       "    </tr>\n",
       "    <tr>\n",
       "      <th>397</th>\n",
       "      <td>SART1_proteomics</td>\n",
       "      <td>-0.292189</td>\n",
       "      <td>4.941878e-02</td>\n",
       "      <td>Lscc</td>\n",
       "    </tr>\n",
       "    <tr>\n",
       "      <th>55</th>\n",
       "      <td>BRPF3_proteomics</td>\n",
       "      <td>-0.292131</td>\n",
       "      <td>4.942645e-02</td>\n",
       "      <td>Lscc</td>\n",
       "    </tr>\n",
       "    <tr>\n",
       "      <th>318</th>\n",
       "      <td>PDIA3_proteomics</td>\n",
       "      <td>0.292000</td>\n",
       "      <td>4.956623e-02</td>\n",
       "      <td>Lscc</td>\n",
       "    </tr>\n",
       "    <tr>\n",
       "      <th>225</th>\n",
       "      <td>ITPKC_proteomics</td>\n",
       "      <td>0.291865</td>\n",
       "      <td>4.971567e-02</td>\n",
       "      <td>Lscc</td>\n",
       "    </tr>\n",
       "    <tr>\n",
       "      <th>477</th>\n",
       "      <td>TRIP10_proteomics_1</td>\n",
       "      <td>0.298554</td>\n",
       "      <td>4.989642e-02</td>\n",
       "      <td>Lscc</td>\n",
       "    </tr>\n",
       "  </tbody>\n",
       "</table>\n",
       "<p>508 rows × 4 columns</p>\n",
       "</div>"
      ],
      "text/plain": [
       "              Comparison  Correlation       P_value Cancer Type\n",
       "143      EGFR_proteomics     1.000000  0.000000e+00        Lscc\n",
       "324    PHLDA1_proteomics     0.713420  2.644826e-14        Lscc\n",
       "326    PHLDA3_proteomics     0.682034  1.705262e-12        Lscc\n",
       "258    LANCL2_proteomics     0.575817  2.040789e-07        Lscc\n",
       "223     ITGB4_proteomics     0.566095  3.972505e-07        Lscc\n",
       "..                   ...          ...           ...         ...\n",
       "397     SART1_proteomics    -0.292189  4.941878e-02        Lscc\n",
       "55      BRPF3_proteomics    -0.292131  4.942645e-02        Lscc\n",
       "318     PDIA3_proteomics     0.292000  4.956623e-02        Lscc\n",
       "225     ITPKC_proteomics     0.291865  4.971567e-02        Lscc\n",
       "477  TRIP10_proteomics_1     0.298554  4.989642e-02        Lscc\n",
       "\n",
       "[508 rows x 4 columns]"
      ]
     },
     "execution_count": 28,
     "metadata": {},
     "output_type": "execute_result"
    }
   ],
   "source": [
    "df2"
   ]
  },
  {
   "cell_type": "code",
   "execution_count": null,
   "metadata": {},
   "outputs": [],
   "source": []
  },
  {
   "cell_type": "code",
   "execution_count": null,
   "metadata": {},
   "outputs": [],
   "source": []
  }
 ],
 "metadata": {
  "kernelspec": {
   "display_name": "Python 3",
   "language": "python",
   "name": "python3"
  },
  "language_info": {
   "codemirror_mode": {
    "name": "ipython",
    "version": 3
   },
   "file_extension": ".py",
   "mimetype": "text/x-python",
   "name": "python",
   "nbconvert_exporter": "python",
   "pygments_lexer": "ipython3",
   "version": "3.7.3"
  }
 },
 "nbformat": 4,
 "nbformat_minor": 2
}
