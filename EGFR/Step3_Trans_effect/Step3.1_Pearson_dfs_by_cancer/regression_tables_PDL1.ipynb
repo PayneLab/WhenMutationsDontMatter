{
 "cells": [
  {
   "cell_type": "markdown",
   "metadata": {},
   "source": [
    "# Pan Cancer CD274 (PDL1) "
   ]
  },
  {
   "cell_type": "markdown",
   "metadata": {},
   "source": [
    "This notebook compares PDL1 proteomics against genes in EGFR pathway"
   ]
  },
  {
   "cell_type": "code",
   "execution_count": 1,
   "metadata": {},
   "outputs": [
    {
     "name": "stderr",
     "output_type": "stream",
     "text": [
      "/Users/Lindsey/anaconda3/lib/python3.7/site-packages/statsmodels/tools/_testing.py:19: FutureWarning: pandas.util.testing is deprecated. Use the functions in the public API at pandas.testing instead.\n",
      "  import pandas.util.testing as tm\n"
     ]
    }
   ],
   "source": [
    "import pandas as pd\n",
    "import numpy as np\n",
    "import seaborn as sns\n",
    "import matplotlib.pyplot as plt\n",
    "import scipy.stats\n",
    "import re\n",
    "import sys \n",
    "import statsmodels.stats.multitest\n",
    "#sys.path.append('C:\\\\Users\\\\brittany henderson\\\\GitHub\\\\GBM_for_CPTAC\\\\')\n",
    "#import cis_functions as f\n",
    "\n",
    "import cptac\n",
    "import cptac.utils as u\n",
    "import plot_utils as p"
   ]
  },
  {
   "cell_type": "code",
   "execution_count": 2,
   "metadata": {},
   "outputs": [],
   "source": [
    "def get_interacting_columns(df):\n",
    "    prot_genes_list = df.columns.values.tolist()\n",
    "    list_trans_genes = []\n",
    "    for gene in trans_genes:\n",
    "        if gene + \"_proteomics\" in prot_genes_list: \n",
    "            list_trans_genes.append(gene + \"_proteomics\")\n",
    "    return list_trans_genes\n"
   ]
  },
  {
   "cell_type": "code",
   "execution_count": 3,
   "metadata": {},
   "outputs": [],
   "source": [
    "def prep_df(cancer):\n",
    "    \n",
    "    df1 = cancer.join_omics_to_mutations(omics_df_name=\"proteomics\", mutations_genes= \"EGFR\")\n",
    "    df1_tumor = df1.loc[df1['Sample_Status'] == \"Tumor\"]\n",
    "    return df1_tumor\n",
    "    \n",
    " "
   ]
  },
  {
   "cell_type": "markdown",
   "metadata": {},
   "source": [
    "# GBM"
   ]
  },
  {
   "cell_type": "code",
   "execution_count": 4,
   "metadata": {},
   "outputs": [
    {
     "name": "stdout",
     "output_type": "stream",
     "text": [
      "                                        \r"
     ]
    },
    {
     "name": "stderr",
     "output_type": "stream",
     "text": [
      "cptac warning: The GBM dataset is under publication embargo until March 01, 2021. CPTAC is a community resource project and data are made available rapidly after generation for community research use. The embargo allows exploring and utilizing the data, but analysis may not be published until after the embargo date. Please see https://proteomics.cancer.gov/data-portal/about/data-use-agreement or enter cptac.embargo() to open the webpage for more details. (/Users/Lindsey/anaconda3/lib/python3.7/site-packages/ipykernel_launcher.py, line 3)\n"
     ]
    }
   ],
   "source": [
    "#load GBM data \n",
    "\n",
    "brain = cptac.Gbm()\n"
   ]
  },
  {
   "cell_type": "code",
   "execution_count": 5,
   "metadata": {},
   "outputs": [],
   "source": [
    "trans_genes = [\"KRAS\",\"NRAS\",\"AKT1\",\"AKT2\",\"AKT3\",\"MTOR\",\"MAP3K1\",'MAP3K2',\"MAPK1\",\"MAPK3\",\"STAT1\",\"STAT3\",\"VAV1\",\"BRAF\",\"PIK3CA\",\"JAK2\",\"CD274\",\"RAC1\",\"EGFR\",\"CD8A\",\"CD4\",\"CD3E\",\"CD3G\",\"GRB2\",\"PLG1\",\"SOS1\",\"AIF1\",\"CCL2\",\"CD14\",\"CD163\",\"CSF1R\",\"FCG1A\",\"HAVCR2\",\"HLA-DRA\",\"HLA-DRB1\",\"IGF1\",\"ZAP70\",\"BTK\",\"CD5\",\"LCK\",\"BLK\",\"BLNK\",\"PTPN6\",\"PLCG2\",\"LCK\",\"LYN\",\"SYK\"]"
   ]
  },
  {
   "cell_type": "code",
   "execution_count": 6,
   "metadata": {},
   "outputs": [
    {
     "name": "stderr",
     "output_type": "stream",
     "text": [
      "cptac warning: In joining the somatic_mutation table, no mutations were found for the following samples, so they were filled with Wildtype_Tumor or Wildtype_Normal: 93 samples for the EGFR gene (/Users/Lindsey/anaconda3/lib/python3.7/site-packages/ipykernel_launcher.py, line 3)\n"
     ]
    }
   ],
   "source": [
    "gbm = prep_df(brain)\n",
    "columns = get_interacting_columns(gbm)"
   ]
  },
  {
   "cell_type": "code",
   "execution_count": 7,
   "metadata": {},
   "outputs": [
    {
     "data": {
      "text/html": [
       "<div>\n",
       "<style scoped>\n",
       "    .dataframe tbody tr th:only-of-type {\n",
       "        vertical-align: middle;\n",
       "    }\n",
       "\n",
       "    .dataframe tbody tr th {\n",
       "        vertical-align: top;\n",
       "    }\n",
       "\n",
       "    .dataframe thead th {\n",
       "        text-align: right;\n",
       "    }\n",
       "</style>\n",
       "<table border=\"1\" class=\"dataframe\">\n",
       "  <thead>\n",
       "    <tr style=\"text-align: right;\">\n",
       "      <th></th>\n",
       "      <th>Comparison</th>\n",
       "      <th>Correlation</th>\n",
       "      <th>P_value</th>\n",
       "    </tr>\n",
       "  </thead>\n",
       "  <tbody>\n",
       "    <tr>\n",
       "      <th>6</th>\n",
       "      <td>CD274_proteomics</td>\n",
       "      <td>1.000000</td>\n",
       "      <td>0.000000e+00</td>\n",
       "    </tr>\n",
       "    <tr>\n",
       "      <th>19</th>\n",
       "      <td>LYN_proteomics</td>\n",
       "      <td>0.580608</td>\n",
       "      <td>2.987873e-10</td>\n",
       "    </tr>\n",
       "    <tr>\n",
       "      <th>18</th>\n",
       "      <td>PLCG2_proteomics</td>\n",
       "      <td>0.526120</td>\n",
       "      <td>2.236260e-08</td>\n",
       "    </tr>\n",
       "    <tr>\n",
       "      <th>10</th>\n",
       "      <td>AIF1_proteomics</td>\n",
       "      <td>0.519982</td>\n",
       "      <td>3.471178e-08</td>\n",
       "    </tr>\n",
       "    <tr>\n",
       "      <th>3</th>\n",
       "      <td>VAV1_proteomics</td>\n",
       "      <td>0.519056</td>\n",
       "      <td>3.706348e-08</td>\n",
       "    </tr>\n",
       "    <tr>\n",
       "      <th>11</th>\n",
       "      <td>CD14_proteomics</td>\n",
       "      <td>0.509490</td>\n",
       "      <td>7.215321e-08</td>\n",
       "    </tr>\n",
       "    <tr>\n",
       "      <th>15</th>\n",
       "      <td>BTK_proteomics</td>\n",
       "      <td>0.504094</td>\n",
       "      <td>1.041317e-07</td>\n",
       "    </tr>\n",
       "    <tr>\n",
       "      <th>17</th>\n",
       "      <td>PTPN6_proteomics</td>\n",
       "      <td>0.492678</td>\n",
       "      <td>2.216784e-07</td>\n",
       "    </tr>\n",
       "    <tr>\n",
       "      <th>5</th>\n",
       "      <td>JAK2_proteomics</td>\n",
       "      <td>0.486955</td>\n",
       "      <td>3.204668e-07</td>\n",
       "    </tr>\n",
       "    <tr>\n",
       "      <th>20</th>\n",
       "      <td>SYK_proteomics</td>\n",
       "      <td>0.484445</td>\n",
       "      <td>3.759062e-07</td>\n",
       "    </tr>\n",
       "    <tr>\n",
       "      <th>12</th>\n",
       "      <td>CD163_proteomics</td>\n",
       "      <td>0.477636</td>\n",
       "      <td>5.758399e-07</td>\n",
       "    </tr>\n",
       "    <tr>\n",
       "      <th>16</th>\n",
       "      <td>BLNK_proteomics</td>\n",
       "      <td>0.450345</td>\n",
       "      <td>2.909398e-06</td>\n",
       "    </tr>\n",
       "    <tr>\n",
       "      <th>8</th>\n",
       "      <td>CD4_proteomics</td>\n",
       "      <td>0.437064</td>\n",
       "      <td>6.092566e-06</td>\n",
       "    </tr>\n",
       "    <tr>\n",
       "      <th>1</th>\n",
       "      <td>AKT3_proteomics</td>\n",
       "      <td>-0.421760</td>\n",
       "      <td>1.375108e-05</td>\n",
       "    </tr>\n",
       "    <tr>\n",
       "      <th>14</th>\n",
       "      <td>HLA-DRA_proteomics</td>\n",
       "      <td>0.385932</td>\n",
       "      <td>7.973618e-05</td>\n",
       "    </tr>\n",
       "    <tr>\n",
       "      <th>13</th>\n",
       "      <td>CSF1R_proteomics</td>\n",
       "      <td>0.367571</td>\n",
       "      <td>1.820238e-04</td>\n",
       "    </tr>\n",
       "    <tr>\n",
       "      <th>9</th>\n",
       "      <td>GRB2_proteomics</td>\n",
       "      <td>0.317761</td>\n",
       "      <td>1.350527e-03</td>\n",
       "    </tr>\n",
       "    <tr>\n",
       "      <th>7</th>\n",
       "      <td>EGFR_proteomics</td>\n",
       "      <td>-0.315042</td>\n",
       "      <td>1.492646e-03</td>\n",
       "    </tr>\n",
       "    <tr>\n",
       "      <th>2</th>\n",
       "      <td>STAT3_proteomics</td>\n",
       "      <td>0.244581</td>\n",
       "      <td>1.469443e-02</td>\n",
       "    </tr>\n",
       "    <tr>\n",
       "      <th>4</th>\n",
       "      <td>BRAF_proteomics</td>\n",
       "      <td>-0.242042</td>\n",
       "      <td>1.579093e-02</td>\n",
       "    </tr>\n",
       "    <tr>\n",
       "      <th>0</th>\n",
       "      <td>AKT2_proteomics</td>\n",
       "      <td>0.234563</td>\n",
       "      <td>1.944240e-02</td>\n",
       "    </tr>\n",
       "  </tbody>\n",
       "</table>\n",
       "</div>"
      ],
      "text/plain": [
       "            Comparison  Correlation       P_value\n",
       "6     CD274_proteomics     1.000000  0.000000e+00\n",
       "19      LYN_proteomics     0.580608  2.987873e-10\n",
       "18    PLCG2_proteomics     0.526120  2.236260e-08\n",
       "10     AIF1_proteomics     0.519982  3.471178e-08\n",
       "3      VAV1_proteomics     0.519056  3.706348e-08\n",
       "11     CD14_proteomics     0.509490  7.215321e-08\n",
       "15      BTK_proteomics     0.504094  1.041317e-07\n",
       "17    PTPN6_proteomics     0.492678  2.216784e-07\n",
       "5      JAK2_proteomics     0.486955  3.204668e-07\n",
       "20      SYK_proteomics     0.484445  3.759062e-07\n",
       "12    CD163_proteomics     0.477636  5.758399e-07\n",
       "16     BLNK_proteomics     0.450345  2.909398e-06\n",
       "8       CD4_proteomics     0.437064  6.092566e-06\n",
       "1      AKT3_proteomics    -0.421760  1.375108e-05\n",
       "14  HLA-DRA_proteomics     0.385932  7.973618e-05\n",
       "13    CSF1R_proteomics     0.367571  1.820238e-04\n",
       "9      GRB2_proteomics     0.317761  1.350527e-03\n",
       "7      EGFR_proteomics    -0.315042  1.492646e-03\n",
       "2     STAT3_proteomics     0.244581  1.469443e-02\n",
       "4      BRAF_proteomics    -0.242042  1.579093e-02\n",
       "0      AKT2_proteomics     0.234563  1.944240e-02"
      ]
     },
     "execution_count": 7,
     "metadata": {},
     "output_type": "execute_result"
    }
   ],
   "source": [
    "\n",
    "df2= p.wrap_pearson_corr(gbm,\"CD274_proteomics\",comparison_columns= columns,correction_method='fdr_bh', return_all = False)\n",
    "df2"
   ]
  },
  {
   "cell_type": "code",
   "execution_count": 8,
   "metadata": {},
   "outputs": [],
   "source": [
    "df2['Cancer Type']='GBM'\n",
    "df2.to_csv(\"csv_files/GBM_pdl1_trans_FDR.csv\")"
   ]
  },
  {
   "cell_type": "markdown",
   "metadata": {},
   "source": [
    "# Kidney "
   ]
  },
  {
   "cell_type": "code",
   "execution_count": 9,
   "metadata": {},
   "outputs": [
    {
     "name": "stdout",
     "output_type": "stream",
     "text": [
      "                                          \r"
     ]
    }
   ],
   "source": [
    "kidney = cptac.Ccrcc()\n"
   ]
  },
  {
   "cell_type": "code",
   "execution_count": 10,
   "metadata": {},
   "outputs": [],
   "source": [
    "#not enough data for CD274"
   ]
  },
  {
   "cell_type": "markdown",
   "metadata": {},
   "source": [
    "# Lscc"
   ]
  },
  {
   "cell_type": "code",
   "execution_count": 11,
   "metadata": {},
   "outputs": [
    {
     "name": "stdout",
     "output_type": "stream",
     "text": [
      "                                         \r"
     ]
    },
    {
     "name": "stderr",
     "output_type": "stream",
     "text": [
      "cptac warning: The LSCC data is currently strictly reserved for CPTAC investigators. Otherwise, you are not authorized to access these data. Additionally, even after these data become publicly available, they will be subject to a publication embargo (see https://proteomics.cancer.gov/data-portal/about/data-use-agreement or enter cptac.embargo() to open the webpage for more details). (/Users/Lindsey/anaconda3/lib/python3.7/site-packages/ipykernel_launcher.py, line 1)\n"
     ]
    }
   ],
   "source": [
    "lscc = cptac.Lscc()"
   ]
  },
  {
   "cell_type": "code",
   "execution_count": 12,
   "metadata": {},
   "outputs": [
    {
     "name": "stderr",
     "output_type": "stream",
     "text": [
      "cptac warning: In joining the somatic_mutation table, no mutations were found for the following samples, so they were filled with Wildtype_Tumor or Wildtype_Normal: 208 samples for the EGFR gene (/Users/Lindsey/anaconda3/lib/python3.7/site-packages/ipykernel_launcher.py, line 3)\n"
     ]
    },
    {
     "data": {
      "text/html": [
       "<div>\n",
       "<style scoped>\n",
       "    .dataframe tbody tr th:only-of-type {\n",
       "        vertical-align: middle;\n",
       "    }\n",
       "\n",
       "    .dataframe tbody tr th {\n",
       "        vertical-align: top;\n",
       "    }\n",
       "\n",
       "    .dataframe thead th {\n",
       "        text-align: right;\n",
       "    }\n",
       "</style>\n",
       "<table border=\"1\" class=\"dataframe\">\n",
       "  <thead>\n",
       "    <tr style=\"text-align: right;\">\n",
       "      <th></th>\n",
       "      <th>Comparison</th>\n",
       "      <th>Correlation</th>\n",
       "      <th>P_value</th>\n",
       "    </tr>\n",
       "  </thead>\n",
       "  <tbody>\n",
       "    <tr>\n",
       "      <th>4</th>\n",
       "      <td>CD274_proteomics</td>\n",
       "      <td>1.000000</td>\n",
       "      <td>0.000000e+00</td>\n",
       "    </tr>\n",
       "    <tr>\n",
       "      <th>1</th>\n",
       "      <td>STAT1_proteomics</td>\n",
       "      <td>0.632654</td>\n",
       "      <td>1.652961e-12</td>\n",
       "    </tr>\n",
       "    <tr>\n",
       "      <th>7</th>\n",
       "      <td>CD4_proteomics</td>\n",
       "      <td>0.411705</td>\n",
       "      <td>1.280860e-05</td>\n",
       "    </tr>\n",
       "    <tr>\n",
       "      <th>13</th>\n",
       "      <td>CD163_proteomics</td>\n",
       "      <td>0.408553</td>\n",
       "      <td>1.513737e-05</td>\n",
       "    </tr>\n",
       "    <tr>\n",
       "      <th>20</th>\n",
       "      <td>LCK_proteomics</td>\n",
       "      <td>0.408383</td>\n",
       "      <td>1.527337e-05</td>\n",
       "    </tr>\n",
       "    <tr>\n",
       "      <th>22</th>\n",
       "      <td>LCK_proteomics</td>\n",
       "      <td>0.408383</td>\n",
       "      <td>1.527337e-05</td>\n",
       "    </tr>\n",
       "    <tr>\n",
       "      <th>6</th>\n",
       "      <td>CD8A_proteomics</td>\n",
       "      <td>0.406332</td>\n",
       "      <td>1.701109e-05</td>\n",
       "    </tr>\n",
       "    <tr>\n",
       "      <th>9</th>\n",
       "      <td>CD3G_proteomics</td>\n",
       "      <td>0.446505</td>\n",
       "      <td>1.841631e-05</td>\n",
       "    </tr>\n",
       "    <tr>\n",
       "      <th>3</th>\n",
       "      <td>JAK2_proteomics</td>\n",
       "      <td>0.394897</td>\n",
       "      <td>3.062179e-05</td>\n",
       "    </tr>\n",
       "    <tr>\n",
       "      <th>14</th>\n",
       "      <td>HAVCR2_proteomics</td>\n",
       "      <td>0.389910</td>\n",
       "      <td>3.930727e-05</td>\n",
       "    </tr>\n",
       "    <tr>\n",
       "      <th>19</th>\n",
       "      <td>CD5_proteomics</td>\n",
       "      <td>0.387996</td>\n",
       "      <td>4.321340e-05</td>\n",
       "    </tr>\n",
       "    <tr>\n",
       "      <th>17</th>\n",
       "      <td>ZAP70_proteomics</td>\n",
       "      <td>0.387847</td>\n",
       "      <td>4.353228e-05</td>\n",
       "    </tr>\n",
       "    <tr>\n",
       "      <th>8</th>\n",
       "      <td>CD3E_proteomics</td>\n",
       "      <td>0.375209</td>\n",
       "      <td>8.019577e-05</td>\n",
       "    </tr>\n",
       "    <tr>\n",
       "      <th>10</th>\n",
       "      <td>GRB2_proteomics</td>\n",
       "      <td>0.344347</td>\n",
       "      <td>3.219936e-04</td>\n",
       "    </tr>\n",
       "    <tr>\n",
       "      <th>11</th>\n",
       "      <td>AIF1_proteomics</td>\n",
       "      <td>0.324616</td>\n",
       "      <td>7.288654e-04</td>\n",
       "    </tr>\n",
       "    <tr>\n",
       "      <th>2</th>\n",
       "      <td>VAV1_proteomics</td>\n",
       "      <td>0.322369</td>\n",
       "      <td>7.972141e-04</td>\n",
       "    </tr>\n",
       "    <tr>\n",
       "      <th>21</th>\n",
       "      <td>PTPN6_proteomics</td>\n",
       "      <td>0.302704</td>\n",
       "      <td>1.697317e-03</td>\n",
       "    </tr>\n",
       "    <tr>\n",
       "      <th>18</th>\n",
       "      <td>BTK_proteomics</td>\n",
       "      <td>0.289732</td>\n",
       "      <td>2.718405e-03</td>\n",
       "    </tr>\n",
       "    <tr>\n",
       "      <th>12</th>\n",
       "      <td>CD14_proteomics</td>\n",
       "      <td>0.280516</td>\n",
       "      <td>3.750070e-03</td>\n",
       "    </tr>\n",
       "    <tr>\n",
       "      <th>16</th>\n",
       "      <td>IGF1_proteomics</td>\n",
       "      <td>-0.351466</td>\n",
       "      <td>5.893921e-03</td>\n",
       "    </tr>\n",
       "    <tr>\n",
       "      <th>15</th>\n",
       "      <td>HLA-DRA_proteomics</td>\n",
       "      <td>0.262968</td>\n",
       "      <td>6.723444e-03</td>\n",
       "    </tr>\n",
       "    <tr>\n",
       "      <th>5</th>\n",
       "      <td>RAC1_proteomics</td>\n",
       "      <td>0.259868</td>\n",
       "      <td>7.425335e-03</td>\n",
       "    </tr>\n",
       "    <tr>\n",
       "      <th>0</th>\n",
       "      <td>MAPK3_proteomics</td>\n",
       "      <td>-0.257252</td>\n",
       "      <td>8.067410e-03</td>\n",
       "    </tr>\n",
       "    <tr>\n",
       "      <th>23</th>\n",
       "      <td>LYN_proteomics</td>\n",
       "      <td>0.252748</td>\n",
       "      <td>9.287800e-03</td>\n",
       "    </tr>\n",
       "  </tbody>\n",
       "</table>\n",
       "</div>"
      ],
      "text/plain": [
       "            Comparison  Correlation       P_value\n",
       "4     CD274_proteomics     1.000000  0.000000e+00\n",
       "1     STAT1_proteomics     0.632654  1.652961e-12\n",
       "7       CD4_proteomics     0.411705  1.280860e-05\n",
       "13    CD163_proteomics     0.408553  1.513737e-05\n",
       "20      LCK_proteomics     0.408383  1.527337e-05\n",
       "22      LCK_proteomics     0.408383  1.527337e-05\n",
       "6      CD8A_proteomics     0.406332  1.701109e-05\n",
       "9      CD3G_proteomics     0.446505  1.841631e-05\n",
       "3      JAK2_proteomics     0.394897  3.062179e-05\n",
       "14   HAVCR2_proteomics     0.389910  3.930727e-05\n",
       "19      CD5_proteomics     0.387996  4.321340e-05\n",
       "17    ZAP70_proteomics     0.387847  4.353228e-05\n",
       "8      CD3E_proteomics     0.375209  8.019577e-05\n",
       "10     GRB2_proteomics     0.344347  3.219936e-04\n",
       "11     AIF1_proteomics     0.324616  7.288654e-04\n",
       "2      VAV1_proteomics     0.322369  7.972141e-04\n",
       "21    PTPN6_proteomics     0.302704  1.697317e-03\n",
       "18      BTK_proteomics     0.289732  2.718405e-03\n",
       "12     CD14_proteomics     0.280516  3.750070e-03\n",
       "16     IGF1_proteomics    -0.351466  5.893921e-03\n",
       "15  HLA-DRA_proteomics     0.262968  6.723444e-03\n",
       "5      RAC1_proteomics     0.259868  7.425335e-03\n",
       "0     MAPK3_proteomics    -0.257252  8.067410e-03\n",
       "23      LYN_proteomics     0.252748  9.287800e-03"
      ]
     },
     "execution_count": 12,
     "metadata": {},
     "output_type": "execute_result"
    }
   ],
   "source": [
    "lscc_df = prep_df(lscc)\n",
    "\n",
    "lscc_df.columns = lscc_df.columns.droplevel(1)\n",
    "columns = get_interacting_columns(lscc_df)\n",
    "\n",
    "df2= p.wrap_pearson_corr(lscc_df,\"CD274_proteomics\",comparison_columns= columns,correction_method='fdr_bh', return_all = False)\n",
    "df2\n"
   ]
  },
  {
   "cell_type": "code",
   "execution_count": 13,
   "metadata": {},
   "outputs": [],
   "source": [
    "df2['Cancer Type']='LSCC'\n",
    "\n",
    "df2.to_csv(\"csv_files/Lscc_pdl1_trans_FDR.csv\")"
   ]
  },
  {
   "cell_type": "markdown",
   "metadata": {},
   "source": [
    "# Ovarian "
   ]
  },
  {
   "cell_type": "code",
   "execution_count": 14,
   "metadata": {},
   "outputs": [],
   "source": [
    "#no data for Ovarian "
   ]
  },
  {
   "cell_type": "code",
   "execution_count": null,
   "metadata": {},
   "outputs": [],
   "source": []
  },
  {
   "cell_type": "code",
   "execution_count": null,
   "metadata": {},
   "outputs": [],
   "source": []
  },
  {
   "cell_type": "markdown",
   "metadata": {},
   "source": [
    "# Colon"
   ]
  },
  {
   "cell_type": "code",
   "execution_count": 15,
   "metadata": {},
   "outputs": [],
   "source": [
    "#colon doesn't have cd274 data"
   ]
  },
  {
   "cell_type": "code",
   "execution_count": null,
   "metadata": {},
   "outputs": [],
   "source": []
  },
  {
   "cell_type": "code",
   "execution_count": null,
   "metadata": {},
   "outputs": [],
   "source": []
  },
  {
   "cell_type": "markdown",
   "metadata": {},
   "source": [
    "# Brca "
   ]
  },
  {
   "cell_type": "code",
   "execution_count": 16,
   "metadata": {},
   "outputs": [],
   "source": [
    "#NoCD274 data"
   ]
  },
  {
   "cell_type": "code",
   "execution_count": null,
   "metadata": {},
   "outputs": [],
   "source": []
  },
  {
   "cell_type": "code",
   "execution_count": null,
   "metadata": {},
   "outputs": [],
   "source": []
  },
  {
   "cell_type": "markdown",
   "metadata": {},
   "source": [
    "# LUAD"
   ]
  },
  {
   "cell_type": "code",
   "execution_count": 17,
   "metadata": {},
   "outputs": [
    {
     "name": "stdout",
     "output_type": "stream",
     "text": [
      "                                         \r"
     ]
    },
    {
     "name": "stderr",
     "output_type": "stream",
     "text": [
      "cptac warning: The LUAD dataset is under publication embargo until July 01, 2020. CPTAC is a community resource project and data are made available rapidly after generation for community research use. The embargo allows exploring and utilizing the data, but analysis may not be published until after the embargo date. Please see https://proteomics.cancer.gov/data-portal/about/data-use-agreement or enter cptac.embargo() to open the webpage for more details. (/Users/Lindsey/anaconda3/lib/python3.7/site-packages/ipykernel_launcher.py, line 1)\n"
     ]
    }
   ],
   "source": [
    "luad = cptac.Luad()"
   ]
  },
  {
   "cell_type": "code",
   "execution_count": 18,
   "metadata": {},
   "outputs": [
    {
     "name": "stderr",
     "output_type": "stream",
     "text": [
      "cptac warning: In joining the somatic_mutation table, no mutations were found for the following samples, so they were filled with Wildtype_Tumor or Wildtype_Normal: 171 samples for the EGFR gene (/Users/Lindsey/anaconda3/lib/python3.7/site-packages/ipykernel_launcher.py, line 3)\n"
     ]
    },
    {
     "data": {
      "text/html": [
       "<div>\n",
       "<style scoped>\n",
       "    .dataframe tbody tr th:only-of-type {\n",
       "        vertical-align: middle;\n",
       "    }\n",
       "\n",
       "    .dataframe tbody tr th {\n",
       "        vertical-align: top;\n",
       "    }\n",
       "\n",
       "    .dataframe thead th {\n",
       "        text-align: right;\n",
       "    }\n",
       "</style>\n",
       "<table border=\"1\" class=\"dataframe\">\n",
       "  <thead>\n",
       "    <tr style=\"text-align: right;\">\n",
       "      <th></th>\n",
       "      <th>Comparison</th>\n",
       "      <th>Correlation</th>\n",
       "      <th>P_value</th>\n",
       "    </tr>\n",
       "  </thead>\n",
       "  <tbody>\n",
       "    <tr>\n",
       "      <th>8</th>\n",
       "      <td>CD274_proteomics</td>\n",
       "      <td>1.000000</td>\n",
       "      <td>0.000000e+00</td>\n",
       "    </tr>\n",
       "    <tr>\n",
       "      <th>4</th>\n",
       "      <td>STAT1_proteomics</td>\n",
       "      <td>0.749028</td>\n",
       "      <td>1.698691e-18</td>\n",
       "    </tr>\n",
       "    <tr>\n",
       "      <th>12</th>\n",
       "      <td>GRB2_proteomics</td>\n",
       "      <td>0.446361</td>\n",
       "      <td>5.159203e-06</td>\n",
       "    </tr>\n",
       "    <tr>\n",
       "      <th>6</th>\n",
       "      <td>VAV1_proteomics</td>\n",
       "      <td>0.442933</td>\n",
       "      <td>6.211477e-06</td>\n",
       "    </tr>\n",
       "    <tr>\n",
       "      <th>23</th>\n",
       "      <td>LYN_proteomics</td>\n",
       "      <td>0.438430</td>\n",
       "      <td>2.162957e-05</td>\n",
       "    </tr>\n",
       "    <tr>\n",
       "      <th>3</th>\n",
       "      <td>MAPK3_proteomics</td>\n",
       "      <td>-0.395006</td>\n",
       "      <td>6.811141e-05</td>\n",
       "    </tr>\n",
       "    <tr>\n",
       "      <th>11</th>\n",
       "      <td>CD3E_proteomics</td>\n",
       "      <td>0.391655</td>\n",
       "      <td>7.946599e-05</td>\n",
       "    </tr>\n",
       "    <tr>\n",
       "      <th>15</th>\n",
       "      <td>CD163_proteomics</td>\n",
       "      <td>0.406302</td>\n",
       "      <td>8.572757e-05</td>\n",
       "    </tr>\n",
       "    <tr>\n",
       "      <th>7</th>\n",
       "      <td>JAK2_proteomics</td>\n",
       "      <td>0.385540</td>\n",
       "      <td>1.048407e-04</td>\n",
       "    </tr>\n",
       "    <tr>\n",
       "      <th>9</th>\n",
       "      <td>CD8A_proteomics</td>\n",
       "      <td>0.371430</td>\n",
       "      <td>1.946995e-04</td>\n",
       "    </tr>\n",
       "    <tr>\n",
       "      <th>13</th>\n",
       "      <td>AIF1_proteomics</td>\n",
       "      <td>0.352742</td>\n",
       "      <td>4.236552e-04</td>\n",
       "    </tr>\n",
       "    <tr>\n",
       "      <th>21</th>\n",
       "      <td>PTPN6_proteomics</td>\n",
       "      <td>0.334110</td>\n",
       "      <td>8.783168e-04</td>\n",
       "    </tr>\n",
       "    <tr>\n",
       "      <th>16</th>\n",
       "      <td>HAVCR2_proteomics</td>\n",
       "      <td>0.331723</td>\n",
       "      <td>9.612046e-04</td>\n",
       "    </tr>\n",
       "    <tr>\n",
       "      <th>0</th>\n",
       "      <td>NRAS_proteomics</td>\n",
       "      <td>0.326978</td>\n",
       "      <td>1.147500e-03</td>\n",
       "    </tr>\n",
       "    <tr>\n",
       "      <th>18</th>\n",
       "      <td>BTK_proteomics</td>\n",
       "      <td>0.320302</td>\n",
       "      <td>1.465358e-03</td>\n",
       "    </tr>\n",
       "    <tr>\n",
       "      <th>14</th>\n",
       "      <td>CD14_proteomics</td>\n",
       "      <td>0.318425</td>\n",
       "      <td>1.568131e-03</td>\n",
       "    </tr>\n",
       "    <tr>\n",
       "      <th>1</th>\n",
       "      <td>AKT1_proteomics</td>\n",
       "      <td>-0.283029</td>\n",
       "      <td>5.203584e-03</td>\n",
       "    </tr>\n",
       "    <tr>\n",
       "      <th>20</th>\n",
       "      <td>LCK_proteomics</td>\n",
       "      <td>0.278893</td>\n",
       "      <td>5.930301e-03</td>\n",
       "    </tr>\n",
       "    <tr>\n",
       "      <th>22</th>\n",
       "      <td>LCK_proteomics</td>\n",
       "      <td>0.278893</td>\n",
       "      <td>5.930301e-03</td>\n",
       "    </tr>\n",
       "    <tr>\n",
       "      <th>5</th>\n",
       "      <td>STAT3_proteomics</td>\n",
       "      <td>-0.278643</td>\n",
       "      <td>5.976938e-03</td>\n",
       "    </tr>\n",
       "    <tr>\n",
       "      <th>10</th>\n",
       "      <td>CD4_proteomics</td>\n",
       "      <td>0.268288</td>\n",
       "      <td>8.220448e-03</td>\n",
       "    </tr>\n",
       "    <tr>\n",
       "      <th>24</th>\n",
       "      <td>SYK_proteomics</td>\n",
       "      <td>0.265052</td>\n",
       "      <td>9.059374e-03</td>\n",
       "    </tr>\n",
       "    <tr>\n",
       "      <th>17</th>\n",
       "      <td>ZAP70_proteomics</td>\n",
       "      <td>0.260695</td>\n",
       "      <td>1.030746e-02</td>\n",
       "    </tr>\n",
       "    <tr>\n",
       "      <th>2</th>\n",
       "      <td>MAPK1_proteomics</td>\n",
       "      <td>-0.252685</td>\n",
       "      <td>1.299845e-02</td>\n",
       "    </tr>\n",
       "    <tr>\n",
       "      <th>19</th>\n",
       "      <td>CD5_proteomics</td>\n",
       "      <td>0.241923</td>\n",
       "      <td>1.756358e-02</td>\n",
       "    </tr>\n",
       "  </tbody>\n",
       "</table>\n",
       "</div>"
      ],
      "text/plain": [
       "           Comparison  Correlation       P_value\n",
       "8    CD274_proteomics     1.000000  0.000000e+00\n",
       "4    STAT1_proteomics     0.749028  1.698691e-18\n",
       "12    GRB2_proteomics     0.446361  5.159203e-06\n",
       "6     VAV1_proteomics     0.442933  6.211477e-06\n",
       "23     LYN_proteomics     0.438430  2.162957e-05\n",
       "3    MAPK3_proteomics    -0.395006  6.811141e-05\n",
       "11    CD3E_proteomics     0.391655  7.946599e-05\n",
       "15   CD163_proteomics     0.406302  8.572757e-05\n",
       "7     JAK2_proteomics     0.385540  1.048407e-04\n",
       "9     CD8A_proteomics     0.371430  1.946995e-04\n",
       "13    AIF1_proteomics     0.352742  4.236552e-04\n",
       "21   PTPN6_proteomics     0.334110  8.783168e-04\n",
       "16  HAVCR2_proteomics     0.331723  9.612046e-04\n",
       "0     NRAS_proteomics     0.326978  1.147500e-03\n",
       "18     BTK_proteomics     0.320302  1.465358e-03\n",
       "14    CD14_proteomics     0.318425  1.568131e-03\n",
       "1     AKT1_proteomics    -0.283029  5.203584e-03\n",
       "20     LCK_proteomics     0.278893  5.930301e-03\n",
       "22     LCK_proteomics     0.278893  5.930301e-03\n",
       "5    STAT3_proteomics    -0.278643  5.976938e-03\n",
       "10     CD4_proteomics     0.268288  8.220448e-03\n",
       "24     SYK_proteomics     0.265052  9.059374e-03\n",
       "17   ZAP70_proteomics     0.260695  1.030746e-02\n",
       "2    MAPK1_proteomics    -0.252685  1.299845e-02\n",
       "19     CD5_proteomics     0.241923  1.756358e-02"
      ]
     },
     "execution_count": 18,
     "metadata": {},
     "output_type": "execute_result"
    }
   ],
   "source": [
    "luad_df = prep_df(luad)\n",
    "luad_df.columns = luad_df.columns.droplevel(1)\n",
    "\n",
    "columns = get_interacting_columns(luad_df)\n",
    "df2= p.wrap_pearson_corr(luad_df,\"CD274_proteomics\",comparison_columns= columns,correction_method='fdr_bh', return_all = False)\n",
    "df2"
   ]
  },
  {
   "cell_type": "code",
   "execution_count": 19,
   "metadata": {},
   "outputs": [],
   "source": [
    "df2['Cancer Type']='Luad'\n",
    "\n",
    "df2.to_csv(\"csv_files/Luad_pdl1_trans_FDR.csv\")"
   ]
  },
  {
   "cell_type": "markdown",
   "metadata": {},
   "source": [
    "# HNSCC"
   ]
  },
  {
   "cell_type": "code",
   "execution_count": 20,
   "metadata": {},
   "outputs": [
    {
     "name": "stdout",
     "output_type": "stream",
     "text": [
      "                                          \r"
     ]
    },
    {
     "name": "stderr",
     "output_type": "stream",
     "text": [
      "cptac warning: The HNSCC data is currently strictly reserved for CPTAC investigators. Otherwise, you are not authorized to access these data. Additionally, even after these data become publicly available, they will be subject to a publication embargo (see https://proteomics.cancer.gov/data-portal/about/data-use-agreement or enter cptac.embargo() to open the webpage for more details). (/Users/Lindsey/anaconda3/lib/python3.7/site-packages/ipykernel_launcher.py, line 1)\n"
     ]
    }
   ],
   "source": [
    "Hnscc = cptac.Hnscc()"
   ]
  },
  {
   "cell_type": "code",
   "execution_count": 21,
   "metadata": {},
   "outputs": [
    {
     "name": "stderr",
     "output_type": "stream",
     "text": [
      "cptac warning: In joining the somatic_mutation table, no mutations were found for the following samples, so they were filled with Wildtype_Tumor or Wildtype_Normal: 174 samples for the EGFR gene (/Users/Lindsey/anaconda3/lib/python3.7/site-packages/ipykernel_launcher.py, line 3)\n"
     ]
    },
    {
     "data": {
      "text/html": [
       "<div>\n",
       "<style scoped>\n",
       "    .dataframe tbody tr th:only-of-type {\n",
       "        vertical-align: middle;\n",
       "    }\n",
       "\n",
       "    .dataframe tbody tr th {\n",
       "        vertical-align: top;\n",
       "    }\n",
       "\n",
       "    .dataframe thead th {\n",
       "        text-align: right;\n",
       "    }\n",
       "</style>\n",
       "<table border=\"1\" class=\"dataframe\">\n",
       "  <thead>\n",
       "    <tr style=\"text-align: right;\">\n",
       "      <th></th>\n",
       "      <th>Comparison</th>\n",
       "      <th>Correlation</th>\n",
       "      <th>P_value</th>\n",
       "    </tr>\n",
       "  </thead>\n",
       "  <tbody>\n",
       "    <tr>\n",
       "      <th>4</th>\n",
       "      <td>CD274_proteomics</td>\n",
       "      <td>1.000000</td>\n",
       "      <td>0.000000e+00</td>\n",
       "    </tr>\n",
       "    <tr>\n",
       "      <th>1</th>\n",
       "      <td>STAT1_proteomics</td>\n",
       "      <td>0.514903</td>\n",
       "      <td>5.412521e-07</td>\n",
       "    </tr>\n",
       "    <tr>\n",
       "      <th>14</th>\n",
       "      <td>HLA-DRB1_proteomics</td>\n",
       "      <td>0.472699</td>\n",
       "      <td>5.620201e-06</td>\n",
       "    </tr>\n",
       "    <tr>\n",
       "      <th>3</th>\n",
       "      <td>JAK2_proteomics</td>\n",
       "      <td>0.388572</td>\n",
       "      <td>4.019528e-04</td>\n",
       "    </tr>\n",
       "    <tr>\n",
       "      <th>17</th>\n",
       "      <td>LCK_proteomics</td>\n",
       "      <td>0.361633</td>\n",
       "      <td>7.250789e-04</td>\n",
       "    </tr>\n",
       "    <tr>\n",
       "      <th>19</th>\n",
       "      <td>LCK_proteomics</td>\n",
       "      <td>0.361633</td>\n",
       "      <td>7.250789e-04</td>\n",
       "    </tr>\n",
       "    <tr>\n",
       "      <th>10</th>\n",
       "      <td>AIF1_proteomics</td>\n",
       "      <td>0.357437</td>\n",
       "      <td>8.442360e-04</td>\n",
       "    </tr>\n",
       "    <tr>\n",
       "      <th>2</th>\n",
       "      <td>VAV1_proteomics</td>\n",
       "      <td>0.351611</td>\n",
       "      <td>1.039255e-03</td>\n",
       "    </tr>\n",
       "    <tr>\n",
       "      <th>11</th>\n",
       "      <td>CD14_proteomics</td>\n",
       "      <td>0.346914</td>\n",
       "      <td>1.225414e-03</td>\n",
       "    </tr>\n",
       "    <tr>\n",
       "      <th>15</th>\n",
       "      <td>ZAP70_proteomics</td>\n",
       "      <td>0.342140</td>\n",
       "      <td>1.445030e-03</td>\n",
       "    </tr>\n",
       "    <tr>\n",
       "      <th>5</th>\n",
       "      <td>CD8A_proteomics</td>\n",
       "      <td>0.333142</td>\n",
       "      <td>1.958122e-03</td>\n",
       "    </tr>\n",
       "    <tr>\n",
       "      <th>12</th>\n",
       "      <td>CD163_proteomics</td>\n",
       "      <td>0.327488</td>\n",
       "      <td>2.359273e-03</td>\n",
       "    </tr>\n",
       "    <tr>\n",
       "      <th>6</th>\n",
       "      <td>CD4_proteomics</td>\n",
       "      <td>0.322660</td>\n",
       "      <td>2.758766e-03</td>\n",
       "    </tr>\n",
       "    <tr>\n",
       "      <th>0</th>\n",
       "      <td>KRAS_proteomics</td>\n",
       "      <td>-0.320420</td>\n",
       "      <td>2.963817e-03</td>\n",
       "    </tr>\n",
       "    <tr>\n",
       "      <th>20</th>\n",
       "      <td>LYN_proteomics</td>\n",
       "      <td>0.318306</td>\n",
       "      <td>3.169887e-03</td>\n",
       "    </tr>\n",
       "    <tr>\n",
       "      <th>8</th>\n",
       "      <td>CD3G_proteomics</td>\n",
       "      <td>0.328869</td>\n",
       "      <td>3.966035e-03</td>\n",
       "    </tr>\n",
       "    <tr>\n",
       "      <th>13</th>\n",
       "      <td>HLA-DRA_proteomics</td>\n",
       "      <td>0.308015</td>\n",
       "      <td>4.367026e-03</td>\n",
       "    </tr>\n",
       "    <tr>\n",
       "      <th>18</th>\n",
       "      <td>PTPN6_proteomics</td>\n",
       "      <td>0.292903</td>\n",
       "      <td>6.854131e-03</td>\n",
       "    </tr>\n",
       "    <tr>\n",
       "      <th>16</th>\n",
       "      <td>BTK_proteomics</td>\n",
       "      <td>0.292052</td>\n",
       "      <td>7.025460e-03</td>\n",
       "    </tr>\n",
       "    <tr>\n",
       "      <th>9</th>\n",
       "      <td>GRB2_proteomics</td>\n",
       "      <td>0.267025</td>\n",
       "      <td>1.407214e-02</td>\n",
       "    </tr>\n",
       "    <tr>\n",
       "      <th>7</th>\n",
       "      <td>CD3E_proteomics</td>\n",
       "      <td>0.290804</td>\n",
       "      <td>1.696899e-02</td>\n",
       "    </tr>\n",
       "  </tbody>\n",
       "</table>\n",
       "</div>"
      ],
      "text/plain": [
       "             Comparison  Correlation       P_value\n",
       "4      CD274_proteomics     1.000000  0.000000e+00\n",
       "1      STAT1_proteomics     0.514903  5.412521e-07\n",
       "14  HLA-DRB1_proteomics     0.472699  5.620201e-06\n",
       "3       JAK2_proteomics     0.388572  4.019528e-04\n",
       "17       LCK_proteomics     0.361633  7.250789e-04\n",
       "19       LCK_proteomics     0.361633  7.250789e-04\n",
       "10      AIF1_proteomics     0.357437  8.442360e-04\n",
       "2       VAV1_proteomics     0.351611  1.039255e-03\n",
       "11      CD14_proteomics     0.346914  1.225414e-03\n",
       "15     ZAP70_proteomics     0.342140  1.445030e-03\n",
       "5       CD8A_proteomics     0.333142  1.958122e-03\n",
       "12     CD163_proteomics     0.327488  2.359273e-03\n",
       "6        CD4_proteomics     0.322660  2.758766e-03\n",
       "0       KRAS_proteomics    -0.320420  2.963817e-03\n",
       "20       LYN_proteomics     0.318306  3.169887e-03\n",
       "8       CD3G_proteomics     0.328869  3.966035e-03\n",
       "13   HLA-DRA_proteomics     0.308015  4.367026e-03\n",
       "18     PTPN6_proteomics     0.292903  6.854131e-03\n",
       "16       BTK_proteomics     0.292052  7.025460e-03\n",
       "9       GRB2_proteomics     0.267025  1.407214e-02\n",
       "7       CD3E_proteomics     0.290804  1.696899e-02"
      ]
     },
     "execution_count": 21,
     "metadata": {},
     "output_type": "execute_result"
    }
   ],
   "source": [
    "hnscc_df = prep_df(Hnscc)\n",
    "columns = get_interacting_columns(hnscc_df)\n",
    "df2= p.wrap_pearson_corr(hnscc_df,\"CD274_proteomics\",comparison_columns= columns,correction_method='fdr_bh', return_all = False)\n",
    "df2"
   ]
  },
  {
   "cell_type": "code",
   "execution_count": 22,
   "metadata": {},
   "outputs": [],
   "source": [
    "df2['Cancer Type']='Hnscc'\n",
    "\n",
    "df2.to_csv(\"csv_files/Hnscc_pdl1_trans_FDR.csv\")"
   ]
  },
  {
   "cell_type": "code",
   "execution_count": null,
   "metadata": {},
   "outputs": [],
   "source": []
  }
 ],
 "metadata": {
  "kernelspec": {
   "display_name": "Python 3",
   "language": "python",
   "name": "python3"
  },
  "language_info": {
   "codemirror_mode": {
    "name": "ipython",
    "version": 3
   },
   "file_extension": ".py",
   "mimetype": "text/x-python",
   "name": "python",
   "nbconvert_exporter": "python",
   "pygments_lexer": "ipython3",
   "version": "3.7.3"
  }
 },
 "nbformat": 4,
 "nbformat_minor": 2
}
