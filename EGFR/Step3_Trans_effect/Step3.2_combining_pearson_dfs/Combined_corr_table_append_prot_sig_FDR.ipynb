{
 "cells": [
  {
   "cell_type": "markdown",
   "metadata": {},
   "source": [
    "# Append Pearson Correlation tables"
   ]
  },
  {
   "cell_type": "markdown",
   "metadata": {},
   "source": [
    "This notebook takes the data frames created by the notebook pearson_dfs_EGFRprot_all_prot_FDR and appends them.The combined file contains only FDR significant results.  "
   ]
  },
  {
   "cell_type": "code",
   "execution_count": 1,
   "metadata": {},
   "outputs": [
    {
     "name": "stderr",
     "output_type": "stream",
     "text": [
      "/Users/Lindsey/anaconda3/lib/python3.7/site-packages/statsmodels/tools/_testing.py:19: FutureWarning: pandas.util.testing is deprecated. Use the functions in the public API at pandas.testing instead.\n",
      "  import pandas.util.testing as tm\n"
     ]
    }
   ],
   "source": [
    "import pandas as pd\n",
    "import numpy as np\n",
    "import seaborn as sns\n",
    "import matplotlib.pyplot as plt\n",
    "import scipy.stats\n",
    "import re\n",
    "import sys \n",
    "import statsmodels.stats.multitest\n",
    "\n",
    "import cptac\n",
    "import cptac.utils as u"
   ]
  },
  {
   "cell_type": "markdown",
   "metadata": {},
   "source": [
    "# Step 1: Read in Files"
   ]
  },
  {
   "cell_type": "markdown",
   "metadata": {},
   "source": [
    "# Step 2: Format and Append data frames"
   ]
  },
  {
   "cell_type": "markdown",
   "metadata": {},
   "source": [
    "# GBM "
   ]
  },
  {
   "cell_type": "code",
   "execution_count": 2,
   "metadata": {},
   "outputs": [
    {
     "data": {
      "text/html": [
       "<div>\n",
       "<style scoped>\n",
       "    .dataframe tbody tr th:only-of-type {\n",
       "        vertical-align: middle;\n",
       "    }\n",
       "\n",
       "    .dataframe tbody tr th {\n",
       "        vertical-align: top;\n",
       "    }\n",
       "\n",
       "    .dataframe thead th {\n",
       "        text-align: right;\n",
       "    }\n",
       "</style>\n",
       "<table border=\"1\" class=\"dataframe\">\n",
       "  <thead>\n",
       "    <tr style=\"text-align: right;\">\n",
       "      <th></th>\n",
       "      <th>Comparison</th>\n",
       "      <th>Correlation</th>\n",
       "      <th>P_value</th>\n",
       "      <th>fdr_bh_p_val</th>\n",
       "      <th>Cancer Type</th>\n",
       "    </tr>\n",
       "  </thead>\n",
       "  <tbody>\n",
       "    <tr>\n",
       "      <th>0</th>\n",
       "      <td>EGFR_proteomics</td>\n",
       "      <td>1.000000</td>\n",
       "      <td>0.000000e+00</td>\n",
       "      <td>0.000000e+00</td>\n",
       "      <td>GBM</td>\n",
       "    </tr>\n",
       "    <tr>\n",
       "      <th>1</th>\n",
       "      <td>PHLDA1_proteomics</td>\n",
       "      <td>0.816848</td>\n",
       "      <td>6.553435e-25</td>\n",
       "      <td>3.507071e-21</td>\n",
       "      <td>GBM</td>\n",
       "    </tr>\n",
       "    <tr>\n",
       "      <th>2</th>\n",
       "      <td>GRB2_proteomics</td>\n",
       "      <td>-0.610889</td>\n",
       "      <td>1.886384e-11</td>\n",
       "      <td>6.729990e-08</td>\n",
       "      <td>GBM</td>\n",
       "    </tr>\n",
       "    <tr>\n",
       "      <th>3</th>\n",
       "      <td>SOCS2_proteomics</td>\n",
       "      <td>0.562720</td>\n",
       "      <td>1.343464e-09</td>\n",
       "      <td>3.420388e-06</td>\n",
       "      <td>GBM</td>\n",
       "    </tr>\n",
       "    <tr>\n",
       "      <th>4</th>\n",
       "      <td>CDH4_proteomics</td>\n",
       "      <td>0.559180</td>\n",
       "      <td>1.790048e-09</td>\n",
       "      <td>3.420388e-06</td>\n",
       "      <td>GBM</td>\n",
       "    </tr>\n",
       "    <tr>\n",
       "      <th>...</th>\n",
       "      <td>...</td>\n",
       "      <td>...</td>\n",
       "      <td>...</td>\n",
       "      <td>...</td>\n",
       "      <td>...</td>\n",
       "    </tr>\n",
       "    <tr>\n",
       "      <th>1585</th>\n",
       "      <td>USP2_proteomics</td>\n",
       "      <td>0.280545</td>\n",
       "      <td>7.399884e-03</td>\n",
       "      <td>4.993292e-02</td>\n",
       "      <td>GBM</td>\n",
       "    </tr>\n",
       "    <tr>\n",
       "      <th>1586</th>\n",
       "      <td>WAPL_proteomics</td>\n",
       "      <td>-0.267631</td>\n",
       "      <td>7.403862e-03</td>\n",
       "      <td>4.993292e-02</td>\n",
       "      <td>GBM</td>\n",
       "    </tr>\n",
       "    <tr>\n",
       "      <th>1587</th>\n",
       "      <td>SLC25A42_proteomics</td>\n",
       "      <td>0.267588</td>\n",
       "      <td>7.413549e-03</td>\n",
       "      <td>4.995405e-02</td>\n",
       "      <td>GBM</td>\n",
       "    </tr>\n",
       "    <tr>\n",
       "      <th>1588</th>\n",
       "      <td>FANCD2_proteomics</td>\n",
       "      <td>0.278945</td>\n",
       "      <td>7.416331e-03</td>\n",
       "      <td>4.995405e-02</td>\n",
       "      <td>GBM</td>\n",
       "    </tr>\n",
       "    <tr>\n",
       "      <th>1589</th>\n",
       "      <td>ZFYVE21_proteomics</td>\n",
       "      <td>0.267548</td>\n",
       "      <td>7.422955e-03</td>\n",
       "      <td>4.996722e-02</td>\n",
       "      <td>GBM</td>\n",
       "    </tr>\n",
       "  </tbody>\n",
       "</table>\n",
       "<p>1590 rows × 5 columns</p>\n",
       "</div>"
      ],
      "text/plain": [
       "               Comparison  Correlation       P_value  fdr_bh_p_val Cancer Type\n",
       "0         EGFR_proteomics     1.000000  0.000000e+00  0.000000e+00         GBM\n",
       "1       PHLDA1_proteomics     0.816848  6.553435e-25  3.507071e-21         GBM\n",
       "2         GRB2_proteomics    -0.610889  1.886384e-11  6.729990e-08         GBM\n",
       "3        SOCS2_proteomics     0.562720  1.343464e-09  3.420388e-06         GBM\n",
       "4         CDH4_proteomics     0.559180  1.790048e-09  3.420388e-06         GBM\n",
       "...                   ...          ...           ...           ...         ...\n",
       "1585      USP2_proteomics     0.280545  7.399884e-03  4.993292e-02         GBM\n",
       "1586      WAPL_proteomics    -0.267631  7.403862e-03  4.993292e-02         GBM\n",
       "1587  SLC25A42_proteomics     0.267588  7.413549e-03  4.995405e-02         GBM\n",
       "1588    FANCD2_proteomics     0.278945  7.416331e-03  4.995405e-02         GBM\n",
       "1589   ZFYVE21_proteomics     0.267548  7.422955e-03  4.996722e-02         GBM\n",
       "\n",
       "[1590 rows x 5 columns]"
      ]
     },
     "execution_count": 2,
     "metadata": {},
     "output_type": "execute_result"
    }
   ],
   "source": [
    "df = pd.read_csv(\"../Step3.1_Pearson_dfs_by_cancer/csv_files/GBM_EGFR_all_pearson_FDR2.csv\")\n",
    "df = df.drop(['Unnamed: 0'], axis=1)\n",
    "df\n"
   ]
  },
  {
   "cell_type": "markdown",
   "metadata": {},
   "source": [
    "# Kidney"
   ]
  },
  {
   "cell_type": "code",
   "execution_count": 3,
   "metadata": {},
   "outputs": [],
   "source": [
    "df2 = pd.read_csv(\"../Step3.1_Pearson_dfs_by_cancer/csv_files/Kidney_EGFR_all_pearson_FDR2.csv\")"
   ]
  },
  {
   "cell_type": "code",
   "execution_count": 4,
   "metadata": {},
   "outputs": [],
   "source": [
    "df2 = df2.drop(['Unnamed: 0'], axis=1)\n"
   ]
  },
  {
   "cell_type": "code",
   "execution_count": 5,
   "metadata": {},
   "outputs": [],
   "source": [
    "Gbm_kidney = df.append(df2)\n"
   ]
  },
  {
   "cell_type": "markdown",
   "metadata": {},
   "source": [
    "# Ovarian "
   ]
  },
  {
   "cell_type": "code",
   "execution_count": 6,
   "metadata": {},
   "outputs": [],
   "source": [
    "df_Ovar = pd.read_csv(\"../Step3.1_Pearson_dfs_by_cancer/csv_files/Ovar_EGFR_all_pearson_FDR2.csv\")\n",
    "df_Ovar = df_Ovar.drop(['Unnamed: 0'], axis=1)\n"
   ]
  },
  {
   "cell_type": "code",
   "execution_count": 7,
   "metadata": {},
   "outputs": [],
   "source": [
    "pancan = Gbm_kidney.append(df_Ovar)\n"
   ]
  },
  {
   "cell_type": "markdown",
   "metadata": {},
   "source": [
    "# BRCA"
   ]
  },
  {
   "cell_type": "code",
   "execution_count": 8,
   "metadata": {},
   "outputs": [],
   "source": [
    "df_Brca = pd.read_csv(\"../Step3.1_Pearson_dfs_by_cancer/csv_files/Brca_EGFR_all_pearson_FDR2.csv\")\n",
    "df_Brca = df_Brca.drop(['Unnamed: 0'], axis=1)\n"
   ]
  },
  {
   "cell_type": "code",
   "execution_count": 9,
   "metadata": {},
   "outputs": [],
   "source": [
    "pancan = pancan.append(df_Brca)\n"
   ]
  },
  {
   "cell_type": "markdown",
   "metadata": {},
   "source": [
    "# Luad"
   ]
  },
  {
   "cell_type": "code",
   "execution_count": 10,
   "metadata": {},
   "outputs": [],
   "source": [
    "df_Luad = pd.read_csv(\"../Step3.1_Pearson_dfs_by_cancer/csv_files/Luad_EGFR_all_pearson_FDR2.csv\")\n",
    "df_Luad = df_Luad.drop(['Unnamed: 0'], axis=1)\n"
   ]
  },
  {
   "cell_type": "code",
   "execution_count": 11,
   "metadata": {},
   "outputs": [],
   "source": [
    "pancan = pancan.append(df_Luad)\n"
   ]
  },
  {
   "cell_type": "markdown",
   "metadata": {},
   "source": [
    "# HNSCC"
   ]
  },
  {
   "cell_type": "code",
   "execution_count": 12,
   "metadata": {},
   "outputs": [],
   "source": [
    "df_hnscc = pd.read_csv(\"../Step3.1_Pearson_dfs_by_cancer/csv_files/Hnscc_EGFR_all_pearson_FDR2.csv\")\n",
    "df_hnscc = df_hnscc.drop(['Unnamed: 0'], axis=1)\n"
   ]
  },
  {
   "cell_type": "code",
   "execution_count": 13,
   "metadata": {},
   "outputs": [],
   "source": [
    "pancan = pancan.append(df_hnscc)\n"
   ]
  },
  {
   "cell_type": "markdown",
   "metadata": {},
   "source": [
    "# Colon"
   ]
  },
  {
   "cell_type": "code",
   "execution_count": 14,
   "metadata": {},
   "outputs": [],
   "source": [
    "df_colon = pd.read_csv(\"../Step3.1_Pearson_dfs_by_cancer/csv_files/Colon_EGFR_all_pearson_FDER2.csv\")\n",
    "df_colon = df_colon.drop(['Unnamed: 0'], axis=1)\n"
   ]
  },
  {
   "cell_type": "code",
   "execution_count": 15,
   "metadata": {},
   "outputs": [],
   "source": [
    "pancan = pancan.append(df_colon)\n"
   ]
  },
  {
   "cell_type": "markdown",
   "metadata": {},
   "source": [
    "# LSCC "
   ]
  },
  {
   "cell_type": "code",
   "execution_count": 16,
   "metadata": {},
   "outputs": [],
   "source": [
    "df_lscc = pd.read_csv(\"../Step3.1_Pearson_dfs_by_cancer/csv_files/Lscc_EGFR_all_pearson_FDR2.csv\")\n",
    "df_lscc = df_lscc.drop(['Unnamed: 0'], axis=1)\n",
    "\n"
   ]
  },
  {
   "cell_type": "code",
   "execution_count": 17,
   "metadata": {},
   "outputs": [
    {
     "data": {
      "text/html": [
       "<div>\n",
       "<style scoped>\n",
       "    .dataframe tbody tr th:only-of-type {\n",
       "        vertical-align: middle;\n",
       "    }\n",
       "\n",
       "    .dataframe tbody tr th {\n",
       "        vertical-align: top;\n",
       "    }\n",
       "\n",
       "    .dataframe thead th {\n",
       "        text-align: right;\n",
       "    }\n",
       "</style>\n",
       "<table border=\"1\" class=\"dataframe\">\n",
       "  <thead>\n",
       "    <tr style=\"text-align: right;\">\n",
       "      <th></th>\n",
       "      <th>Comparison</th>\n",
       "      <th>Correlation</th>\n",
       "      <th>P_value</th>\n",
       "      <th>fdr_bh_p_val</th>\n",
       "      <th>Cancer Type</th>\n",
       "    </tr>\n",
       "  </thead>\n",
       "  <tbody>\n",
       "    <tr>\n",
       "      <th>0</th>\n",
       "      <td>EGFR_proteomics</td>\n",
       "      <td>1.000000</td>\n",
       "      <td>0.000000e+00</td>\n",
       "      <td>0.000000e+00</td>\n",
       "      <td>GBM</td>\n",
       "    </tr>\n",
       "    <tr>\n",
       "      <th>1</th>\n",
       "      <td>PHLDA1_proteomics</td>\n",
       "      <td>0.816848</td>\n",
       "      <td>6.553435e-25</td>\n",
       "      <td>3.507071e-21</td>\n",
       "      <td>GBM</td>\n",
       "    </tr>\n",
       "    <tr>\n",
       "      <th>2</th>\n",
       "      <td>GRB2_proteomics</td>\n",
       "      <td>-0.610889</td>\n",
       "      <td>1.886384e-11</td>\n",
       "      <td>6.729990e-08</td>\n",
       "      <td>GBM</td>\n",
       "    </tr>\n",
       "    <tr>\n",
       "      <th>3</th>\n",
       "      <td>SOCS2_proteomics</td>\n",
       "      <td>0.562720</td>\n",
       "      <td>1.343464e-09</td>\n",
       "      <td>3.420388e-06</td>\n",
       "      <td>GBM</td>\n",
       "    </tr>\n",
       "    <tr>\n",
       "      <th>4</th>\n",
       "      <td>CDH4_proteomics</td>\n",
       "      <td>0.559180</td>\n",
       "      <td>1.790048e-09</td>\n",
       "      <td>3.420388e-06</td>\n",
       "      <td>GBM</td>\n",
       "    </tr>\n",
       "    <tr>\n",
       "      <th>...</th>\n",
       "      <td>...</td>\n",
       "      <td>...</td>\n",
       "      <td>...</td>\n",
       "      <td>...</td>\n",
       "      <td>...</td>\n",
       "    </tr>\n",
       "    <tr>\n",
       "      <th>491</th>\n",
       "      <td>PGAM1_proteomics</td>\n",
       "      <td>0.293355</td>\n",
       "      <td>2.061344e-03</td>\n",
       "      <td>4.841974e-02</td>\n",
       "      <td>Lscc</td>\n",
       "    </tr>\n",
       "    <tr>\n",
       "      <th>492</th>\n",
       "      <td>ARHGAP32_proteomics</td>\n",
       "      <td>0.293343</td>\n",
       "      <td>2.062284e-03</td>\n",
       "      <td>4.841974e-02</td>\n",
       "      <td>Lscc</td>\n",
       "    </tr>\n",
       "    <tr>\n",
       "      <th>493</th>\n",
       "      <td>NANS_proteomics</td>\n",
       "      <td>-0.292876</td>\n",
       "      <td>2.098060e-03</td>\n",
       "      <td>4.916001e-02</td>\n",
       "      <td>Lscc</td>\n",
       "    </tr>\n",
       "    <tr>\n",
       "      <th>494</th>\n",
       "      <td>HDDC3_proteomics</td>\n",
       "      <td>-0.292707</td>\n",
       "      <td>2.111194e-03</td>\n",
       "      <td>4.936783e-02</td>\n",
       "      <td>Lscc</td>\n",
       "    </tr>\n",
       "    <tr>\n",
       "      <th>495</th>\n",
       "      <td>MYO10_proteomics</td>\n",
       "      <td>0.292466</td>\n",
       "      <td>2.130039e-03</td>\n",
       "      <td>4.970806e-02</td>\n",
       "      <td>Lscc</td>\n",
       "    </tr>\n",
       "  </tbody>\n",
       "</table>\n",
       "<p>9075 rows × 5 columns</p>\n",
       "</div>"
      ],
      "text/plain": [
       "              Comparison  Correlation       P_value  fdr_bh_p_val Cancer Type\n",
       "0        EGFR_proteomics     1.000000  0.000000e+00  0.000000e+00         GBM\n",
       "1      PHLDA1_proteomics     0.816848  6.553435e-25  3.507071e-21         GBM\n",
       "2        GRB2_proteomics    -0.610889  1.886384e-11  6.729990e-08         GBM\n",
       "3       SOCS2_proteomics     0.562720  1.343464e-09  3.420388e-06         GBM\n",
       "4        CDH4_proteomics     0.559180  1.790048e-09  3.420388e-06         GBM\n",
       "..                   ...          ...           ...           ...         ...\n",
       "491     PGAM1_proteomics     0.293355  2.061344e-03  4.841974e-02        Lscc\n",
       "492  ARHGAP32_proteomics     0.293343  2.062284e-03  4.841974e-02        Lscc\n",
       "493      NANS_proteomics    -0.292876  2.098060e-03  4.916001e-02        Lscc\n",
       "494     HDDC3_proteomics    -0.292707  2.111194e-03  4.936783e-02        Lscc\n",
       "495     MYO10_proteomics     0.292466  2.130039e-03  4.970806e-02        Lscc\n",
       "\n",
       "[9075 rows x 5 columns]"
      ]
     },
     "execution_count": 17,
     "metadata": {},
     "output_type": "execute_result"
    }
   ],
   "source": [
    "pancan = pancan.append(df_lscc)\n",
    "pancan"
   ]
  },
  {
   "cell_type": "code",
   "execution_count": 19,
   "metadata": {},
   "outputs": [],
   "source": [
    "pancan.to_csv(\"csv_files/pancan_EGFR_pearson_sig_all_prot_append_FDR.csv\")"
   ]
  },
  {
   "cell_type": "code",
   "execution_count": null,
   "metadata": {},
   "outputs": [],
   "source": []
  }
 ],
 "metadata": {
  "kernelspec": {
   "display_name": "Python 3",
   "language": "python",
   "name": "python3"
  },
  "language_info": {
   "codemirror_mode": {
    "name": "ipython",
    "version": 3
   },
   "file_extension": ".py",
   "mimetype": "text/x-python",
   "name": "python",
   "nbconvert_exporter": "python",
   "pygments_lexer": "ipython3",
   "version": "3.7.3"
  }
 },
 "nbformat": 4,
 "nbformat_minor": 2
}
