{
 "cells": [
  {
   "cell_type": "markdown",
   "metadata": {},
   "source": [
    "# Append Pearson Correlation tables"
   ]
  },
  {
   "cell_type": "markdown",
   "metadata": {},
   "source": [
    "This notebook takes the data frames created by the notebook pearson_dfs_EGFRprot_all_prot_sig and appends them. "
   ]
  },
  {
   "cell_type": "code",
   "execution_count": 1,
   "metadata": {},
   "outputs": [
    {
     "name": "stderr",
     "output_type": "stream",
     "text": [
      "/Users/Lindsey/anaconda3/lib/python3.7/site-packages/statsmodels/tools/_testing.py:19: FutureWarning: pandas.util.testing is deprecated. Use the functions in the public API at pandas.testing instead.\n",
      "  import pandas.util.testing as tm\n"
     ]
    }
   ],
   "source": [
    "import pandas as pd\n",
    "import numpy as np\n",
    "import seaborn as sns\n",
    "import matplotlib.pyplot as plt\n",
    "import scipy.stats\n",
    "import re\n",
    "import sys \n",
    "import statsmodels.stats.multitest\n",
    "\n",
    "import cptac\n",
    "import cptac.utils as u"
   ]
  },
  {
   "cell_type": "markdown",
   "metadata": {},
   "source": [
    "# Step 1: Read in Files"
   ]
  },
  {
   "cell_type": "markdown",
   "metadata": {},
   "source": [
    "# Step 2: Format and Append data frames"
   ]
  },
  {
   "cell_type": "markdown",
   "metadata": {},
   "source": [
    "# GBM "
   ]
  },
  {
   "cell_type": "code",
   "execution_count": 2,
   "metadata": {},
   "outputs": [
    {
     "data": {
      "text/html": [
       "<div>\n",
       "<style scoped>\n",
       "    .dataframe tbody tr th:only-of-type {\n",
       "        vertical-align: middle;\n",
       "    }\n",
       "\n",
       "    .dataframe tbody tr th {\n",
       "        vertical-align: top;\n",
       "    }\n",
       "\n",
       "    .dataframe thead th {\n",
       "        text-align: right;\n",
       "    }\n",
       "</style>\n",
       "<table border=\"1\" class=\"dataframe\">\n",
       "  <thead>\n",
       "    <tr style=\"text-align: right;\">\n",
       "      <th></th>\n",
       "      <th>Comparison</th>\n",
       "      <th>Correlation</th>\n",
       "      <th>P_value</th>\n",
       "      <th>Cancer Type</th>\n",
       "    </tr>\n",
       "  </thead>\n",
       "  <tbody>\n",
       "    <tr>\n",
       "      <th>0</th>\n",
       "      <td>EGFR_proteomics</td>\n",
       "      <td>1.000000</td>\n",
       "      <td>0.000000e+00</td>\n",
       "      <td>GBM</td>\n",
       "    </tr>\n",
       "    <tr>\n",
       "      <th>1</th>\n",
       "      <td>PHLDA1_proteomics</td>\n",
       "      <td>0.816848</td>\n",
       "      <td>6.553435e-25</td>\n",
       "      <td>GBM</td>\n",
       "    </tr>\n",
       "    <tr>\n",
       "      <th>2</th>\n",
       "      <td>GRB2_proteomics</td>\n",
       "      <td>-0.610889</td>\n",
       "      <td>1.886384e-11</td>\n",
       "      <td>GBM</td>\n",
       "    </tr>\n",
       "    <tr>\n",
       "      <th>3</th>\n",
       "      <td>SOCS2_proteomics</td>\n",
       "      <td>0.562720</td>\n",
       "      <td>1.343464e-09</td>\n",
       "      <td>GBM</td>\n",
       "    </tr>\n",
       "    <tr>\n",
       "      <th>4</th>\n",
       "      <td>CDH4_proteomics</td>\n",
       "      <td>0.559180</td>\n",
       "      <td>1.790048e-09</td>\n",
       "      <td>GBM</td>\n",
       "    </tr>\n",
       "    <tr>\n",
       "      <th>...</th>\n",
       "      <td>...</td>\n",
       "      <td>...</td>\n",
       "      <td>...</td>\n",
       "      <td>...</td>\n",
       "    </tr>\n",
       "    <tr>\n",
       "      <th>3037</th>\n",
       "      <td>PTPN4_proteomics</td>\n",
       "      <td>0.208617</td>\n",
       "      <td>4.977331e-02</td>\n",
       "      <td>GBM</td>\n",
       "    </tr>\n",
       "    <tr>\n",
       "      <th>3038</th>\n",
       "      <td>RRAD_proteomics</td>\n",
       "      <td>-0.218679</td>\n",
       "      <td>4.984066e-02</td>\n",
       "      <td>GBM</td>\n",
       "    </tr>\n",
       "    <tr>\n",
       "      <th>3039</th>\n",
       "      <td>KIAA0391_proteomics</td>\n",
       "      <td>0.197613</td>\n",
       "      <td>4.992147e-02</td>\n",
       "      <td>GBM</td>\n",
       "    </tr>\n",
       "    <tr>\n",
       "      <th>3040</th>\n",
       "      <td>TOMM70_proteomics</td>\n",
       "      <td>0.197566</td>\n",
       "      <td>4.997693e-02</td>\n",
       "      <td>GBM</td>\n",
       "    </tr>\n",
       "    <tr>\n",
       "      <th>3041</th>\n",
       "      <td>PSAP_proteomics</td>\n",
       "      <td>-0.197549</td>\n",
       "      <td>4.999695e-02</td>\n",
       "      <td>GBM</td>\n",
       "    </tr>\n",
       "  </tbody>\n",
       "</table>\n",
       "<p>3042 rows × 4 columns</p>\n",
       "</div>"
      ],
      "text/plain": [
       "               Comparison  Correlation       P_value Cancer Type\n",
       "0         EGFR_proteomics     1.000000  0.000000e+00         GBM\n",
       "1       PHLDA1_proteomics     0.816848  6.553435e-25         GBM\n",
       "2         GRB2_proteomics    -0.610889  1.886384e-11         GBM\n",
       "3        SOCS2_proteomics     0.562720  1.343464e-09         GBM\n",
       "4         CDH4_proteomics     0.559180  1.790048e-09         GBM\n",
       "...                   ...          ...           ...         ...\n",
       "3037     PTPN4_proteomics     0.208617  4.977331e-02         GBM\n",
       "3038      RRAD_proteomics    -0.218679  4.984066e-02         GBM\n",
       "3039  KIAA0391_proteomics     0.197613  4.992147e-02         GBM\n",
       "3040    TOMM70_proteomics     0.197566  4.997693e-02         GBM\n",
       "3041      PSAP_proteomics    -0.197549  4.999695e-02         GBM\n",
       "\n",
       "[3042 rows x 4 columns]"
      ]
     },
     "execution_count": 2,
     "metadata": {},
     "output_type": "execute_result"
    }
   ],
   "source": [
    "df = pd.read_csv(\"../Step3.1_Pearson_dfs_by_cancer/csv_files/GBM_EGFR_all_pearson_return_all2.csv\")\n",
    "df = df.drop(['Unnamed: 0'], axis=1)\n",
    "df\n"
   ]
  },
  {
   "cell_type": "markdown",
   "metadata": {},
   "source": [
    "# Kidney"
   ]
  },
  {
   "cell_type": "code",
   "execution_count": 3,
   "metadata": {},
   "outputs": [],
   "source": [
    "df2 = pd.read_csv(\"../Step3.1_Pearson_dfs_by_cancer/csv_files/Kidney_EGFR_all_pearson_return_all2.csv\")"
   ]
  },
  {
   "cell_type": "code",
   "execution_count": 4,
   "metadata": {},
   "outputs": [],
   "source": [
    "df2 = df2.drop(['Unnamed: 0'], axis=1)\n"
   ]
  },
  {
   "cell_type": "code",
   "execution_count": 5,
   "metadata": {},
   "outputs": [],
   "source": [
    "Gbm_kidney = df.append(df2)\n"
   ]
  },
  {
   "cell_type": "markdown",
   "metadata": {},
   "source": [
    "# Ovarian "
   ]
  },
  {
   "cell_type": "code",
   "execution_count": 6,
   "metadata": {},
   "outputs": [],
   "source": [
    "df_Ovar = pd.read_csv(\"../Step3.1_Pearson_dfs_by_cancer/csv_files/Ovar_EGFR_all_pearson_return_all2.csv\")\n",
    "df_Ovar = df_Ovar.drop(['Unnamed: 0'], axis=1)\n"
   ]
  },
  {
   "cell_type": "code",
   "execution_count": 7,
   "metadata": {},
   "outputs": [],
   "source": [
    "pancan = Gbm_kidney.append(df_Ovar)\n"
   ]
  },
  {
   "cell_type": "markdown",
   "metadata": {},
   "source": [
    "# BRCA"
   ]
  },
  {
   "cell_type": "code",
   "execution_count": 8,
   "metadata": {},
   "outputs": [],
   "source": [
    "df_Brca = pd.read_csv(\"../Step3.1_Pearson_dfs_by_cancer/csv_files/Brca_EGFR_all_pearson_return_all2.csv\")\n",
    "df_Brca = df_Brca.drop(['Unnamed: 0'], axis=1)\n"
   ]
  },
  {
   "cell_type": "code",
   "execution_count": 9,
   "metadata": {},
   "outputs": [],
   "source": [
    "pancan = pancan.append(df_Brca)\n"
   ]
  },
  {
   "cell_type": "markdown",
   "metadata": {},
   "source": [
    "# Luad"
   ]
  },
  {
   "cell_type": "code",
   "execution_count": 10,
   "metadata": {},
   "outputs": [],
   "source": [
    "df_Luad = pd.read_csv(\"../Step3.1_Pearson_dfs_by_cancer/csv_files/Luad_EGFR_all_pearson_return_all2.csv\")\n",
    "df_Luad = df_Luad.drop(['Unnamed: 0'], axis=1)\n"
   ]
  },
  {
   "cell_type": "code",
   "execution_count": 11,
   "metadata": {},
   "outputs": [],
   "source": [
    "pancan = pancan.append(df_Luad)\n"
   ]
  },
  {
   "cell_type": "markdown",
   "metadata": {},
   "source": [
    "# HNSCC"
   ]
  },
  {
   "cell_type": "code",
   "execution_count": 12,
   "metadata": {},
   "outputs": [],
   "source": [
    "df_hnscc = pd.read_csv(\"../Step3.1_Pearson_dfs_by_cancer/csv_files/Hnscc_EGFR_all_pearson_return_all2.csv\")\n",
    "df_hnscc = df_hnscc.drop(['Unnamed: 0'], axis=1)\n"
   ]
  },
  {
   "cell_type": "code",
   "execution_count": 13,
   "metadata": {},
   "outputs": [],
   "source": [
    "pancan = pancan.append(df_hnscc)\n"
   ]
  },
  {
   "cell_type": "markdown",
   "metadata": {},
   "source": [
    "# Colon"
   ]
  },
  {
   "cell_type": "code",
   "execution_count": 14,
   "metadata": {},
   "outputs": [],
   "source": [
    "df_colon = pd.read_csv(\"../Step3.1_Pearson_dfs_by_cancer/csv_files/Colon_EGFR_all_pearson_return_all2.csv\")\n",
    "df_colon = df_colon.drop(['Unnamed: 0'], axis=1)\n"
   ]
  },
  {
   "cell_type": "code",
   "execution_count": 15,
   "metadata": {},
   "outputs": [],
   "source": [
    "pancan = pancan.append(df_colon)\n"
   ]
  },
  {
   "cell_type": "markdown",
   "metadata": {},
   "source": [
    "# LSCC "
   ]
  },
  {
   "cell_type": "code",
   "execution_count": 16,
   "metadata": {},
   "outputs": [],
   "source": [
    "df_lscc = pd.read_csv(\"../Step3.1_Pearson_dfs_by_cancer/csv_files/Lscc_EGFR_all_pearson_return_all2.csv\")\n",
    "df_lscc = df_lscc.drop(['Unnamed: 0'], axis=1)\n",
    "\n"
   ]
  },
  {
   "cell_type": "code",
   "execution_count": 17,
   "metadata": {},
   "outputs": [
    {
     "data": {
      "text/html": [
       "<div>\n",
       "<style scoped>\n",
       "    .dataframe tbody tr th:only-of-type {\n",
       "        vertical-align: middle;\n",
       "    }\n",
       "\n",
       "    .dataframe tbody tr th {\n",
       "        vertical-align: top;\n",
       "    }\n",
       "\n",
       "    .dataframe thead th {\n",
       "        text-align: right;\n",
       "    }\n",
       "</style>\n",
       "<table border=\"1\" class=\"dataframe\">\n",
       "  <thead>\n",
       "    <tr style=\"text-align: right;\">\n",
       "      <th></th>\n",
       "      <th>Comparison</th>\n",
       "      <th>Correlation</th>\n",
       "      <th>P_value</th>\n",
       "      <th>Cancer Type</th>\n",
       "    </tr>\n",
       "  </thead>\n",
       "  <tbody>\n",
       "    <tr>\n",
       "      <th>0</th>\n",
       "      <td>EGFR_proteomics</td>\n",
       "      <td>1.000000</td>\n",
       "      <td>0.000000e+00</td>\n",
       "      <td>GBM</td>\n",
       "    </tr>\n",
       "    <tr>\n",
       "      <th>1</th>\n",
       "      <td>PHLDA1_proteomics</td>\n",
       "      <td>0.816848</td>\n",
       "      <td>6.553435e-25</td>\n",
       "      <td>GBM</td>\n",
       "    </tr>\n",
       "    <tr>\n",
       "      <th>2</th>\n",
       "      <td>GRB2_proteomics</td>\n",
       "      <td>-0.610889</td>\n",
       "      <td>1.886384e-11</td>\n",
       "      <td>GBM</td>\n",
       "    </tr>\n",
       "    <tr>\n",
       "      <th>3</th>\n",
       "      <td>SOCS2_proteomics</td>\n",
       "      <td>0.562720</td>\n",
       "      <td>1.343464e-09</td>\n",
       "      <td>GBM</td>\n",
       "    </tr>\n",
       "    <tr>\n",
       "      <th>4</th>\n",
       "      <td>CDH4_proteomics</td>\n",
       "      <td>0.559180</td>\n",
       "      <td>1.790048e-09</td>\n",
       "      <td>GBM</td>\n",
       "    </tr>\n",
       "    <tr>\n",
       "      <th>...</th>\n",
       "      <td>...</td>\n",
       "      <td>...</td>\n",
       "      <td>...</td>\n",
       "      <td>...</td>\n",
       "    </tr>\n",
       "    <tr>\n",
       "      <th>2090</th>\n",
       "      <td>EPHB3_proteomics</td>\n",
       "      <td>0.189283</td>\n",
       "      <td>4.976624e-02</td>\n",
       "      <td>Lscc</td>\n",
       "    </tr>\n",
       "    <tr>\n",
       "      <th>2091</th>\n",
       "      <td>RBM12_proteomics</td>\n",
       "      <td>-0.189265</td>\n",
       "      <td>4.978797e-02</td>\n",
       "      <td>Lscc</td>\n",
       "    </tr>\n",
       "    <tr>\n",
       "      <th>2092</th>\n",
       "      <td>RBX1_proteomics</td>\n",
       "      <td>0.189228</td>\n",
       "      <td>4.983317e-02</td>\n",
       "      <td>Lscc</td>\n",
       "    </tr>\n",
       "    <tr>\n",
       "      <th>2093</th>\n",
       "      <td>RTTN_proteomics</td>\n",
       "      <td>-0.230372</td>\n",
       "      <td>4.990379e-02</td>\n",
       "      <td>Lscc</td>\n",
       "    </tr>\n",
       "    <tr>\n",
       "      <th>2094</th>\n",
       "      <td>TATDN3_proteomics</td>\n",
       "      <td>-0.189156</td>\n",
       "      <td>4.992245e-02</td>\n",
       "      <td>Lscc</td>\n",
       "    </tr>\n",
       "  </tbody>\n",
       "</table>\n",
       "<p>20641 rows × 4 columns</p>\n",
       "</div>"
      ],
      "text/plain": [
       "             Comparison  Correlation       P_value Cancer Type\n",
       "0       EGFR_proteomics     1.000000  0.000000e+00         GBM\n",
       "1     PHLDA1_proteomics     0.816848  6.553435e-25         GBM\n",
       "2       GRB2_proteomics    -0.610889  1.886384e-11         GBM\n",
       "3      SOCS2_proteomics     0.562720  1.343464e-09         GBM\n",
       "4       CDH4_proteomics     0.559180  1.790048e-09         GBM\n",
       "...                 ...          ...           ...         ...\n",
       "2090   EPHB3_proteomics     0.189283  4.976624e-02        Lscc\n",
       "2091   RBM12_proteomics    -0.189265  4.978797e-02        Lscc\n",
       "2092    RBX1_proteomics     0.189228  4.983317e-02        Lscc\n",
       "2093    RTTN_proteomics    -0.230372  4.990379e-02        Lscc\n",
       "2094  TATDN3_proteomics    -0.189156  4.992245e-02        Lscc\n",
       "\n",
       "[20641 rows x 4 columns]"
      ]
     },
     "execution_count": 17,
     "metadata": {},
     "output_type": "execute_result"
    }
   ],
   "source": [
    "pancan = pancan.append(df_lscc)\n",
    "pancan"
   ]
  },
  {
   "cell_type": "code",
   "execution_count": 18,
   "metadata": {},
   "outputs": [],
   "source": [
    "pancan.to_csv(\"csv_files/pancan_EGFR_pearson_all_prot_append_return_all.csv\")"
   ]
  },
  {
   "cell_type": "code",
   "execution_count": null,
   "metadata": {},
   "outputs": [],
   "source": []
  }
 ],
 "metadata": {
  "kernelspec": {
   "display_name": "Python 3",
   "language": "python",
   "name": "python3"
  },
  "language_info": {
   "codemirror_mode": {
    "name": "ipython",
    "version": 3
   },
   "file_extension": ".py",
   "mimetype": "text/x-python",
   "name": "python",
   "nbconvert_exporter": "python",
   "pygments_lexer": "ipython3",
   "version": "3.7.3"
  }
 },
 "nbformat": 4,
 "nbformat_minor": 2
}
