{
 "cells": [
  {
   "cell_type": "markdown",
   "metadata": {},
   "source": [
    "# Append Pearson Correlation tables"
   ]
  },
  {
   "cell_type": "markdown",
   "metadata": {},
   "source": [
    "This notebook takes the data frames created by the notebook pearson_dfs_EGFRprot_all_prot_sig and appends them. "
   ]
  },
  {
   "cell_type": "code",
   "execution_count": 1,
   "metadata": {},
   "outputs": [
    {
     "name": "stderr",
     "output_type": "stream",
     "text": [
      "/Users/Lindsey/anaconda3/lib/python3.7/site-packages/statsmodels/tools/_testing.py:19: FutureWarning: pandas.util.testing is deprecated. Use the functions in the public API at pandas.testing instead.\n",
      "  import pandas.util.testing as tm\n"
     ]
    }
   ],
   "source": [
    "import pandas as pd\n",
    "import numpy as np\n",
    "import seaborn as sns\n",
    "import matplotlib.pyplot as plt\n",
    "import scipy.stats\n",
    "import re\n",
    "import sys \n",
    "import statsmodels.stats.multitest\n",
    "\n",
    "import cptac\n",
    "import cptac.utils as u"
   ]
  },
  {
   "cell_type": "markdown",
   "metadata": {},
   "source": [
    "# Step 1: Read in Files"
   ]
  },
  {
   "cell_type": "markdown",
   "metadata": {},
   "source": [
    "# Step 2: Format and Append data frames"
   ]
  },
  {
   "cell_type": "markdown",
   "metadata": {},
   "source": [
    "# GBM "
   ]
  },
  {
   "cell_type": "code",
   "execution_count": 2,
   "metadata": {},
   "outputs": [
    {
     "data": {
      "text/html": [
       "<div>\n",
       "<style scoped>\n",
       "    .dataframe tbody tr th:only-of-type {\n",
       "        vertical-align: middle;\n",
       "    }\n",
       "\n",
       "    .dataframe tbody tr th {\n",
       "        vertical-align: top;\n",
       "    }\n",
       "\n",
       "    .dataframe thead th {\n",
       "        text-align: right;\n",
       "    }\n",
       "</style>\n",
       "<table border=\"1\" class=\"dataframe\">\n",
       "  <thead>\n",
       "    <tr style=\"text-align: right;\">\n",
       "      <th></th>\n",
       "      <th>Comparison</th>\n",
       "      <th>Correlation</th>\n",
       "      <th>P_value</th>\n",
       "      <th>Cancer Type</th>\n",
       "    </tr>\n",
       "  </thead>\n",
       "  <tbody>\n",
       "    <tr>\n",
       "      <th>0</th>\n",
       "      <td>CD274_proteomics</td>\n",
       "      <td>1.000000</td>\n",
       "      <td>0.000000e+00</td>\n",
       "      <td>GBM</td>\n",
       "    </tr>\n",
       "    <tr>\n",
       "      <th>1</th>\n",
       "      <td>LYN_proteomics</td>\n",
       "      <td>0.580608</td>\n",
       "      <td>2.987873e-10</td>\n",
       "      <td>GBM</td>\n",
       "    </tr>\n",
       "    <tr>\n",
       "      <th>2</th>\n",
       "      <td>PLCG2_proteomics</td>\n",
       "      <td>0.526120</td>\n",
       "      <td>2.236260e-08</td>\n",
       "      <td>GBM</td>\n",
       "    </tr>\n",
       "    <tr>\n",
       "      <th>3</th>\n",
       "      <td>AIF1_proteomics</td>\n",
       "      <td>0.519982</td>\n",
       "      <td>3.471178e-08</td>\n",
       "      <td>GBM</td>\n",
       "    </tr>\n",
       "    <tr>\n",
       "      <th>4</th>\n",
       "      <td>VAV1_proteomics</td>\n",
       "      <td>0.519056</td>\n",
       "      <td>3.706348e-08</td>\n",
       "      <td>GBM</td>\n",
       "    </tr>\n",
       "    <tr>\n",
       "      <th>5</th>\n",
       "      <td>CD14_proteomics</td>\n",
       "      <td>0.509490</td>\n",
       "      <td>7.215321e-08</td>\n",
       "      <td>GBM</td>\n",
       "    </tr>\n",
       "    <tr>\n",
       "      <th>6</th>\n",
       "      <td>BTK_proteomics</td>\n",
       "      <td>0.504094</td>\n",
       "      <td>1.041317e-07</td>\n",
       "      <td>GBM</td>\n",
       "    </tr>\n",
       "    <tr>\n",
       "      <th>7</th>\n",
       "      <td>PTPN6_proteomics</td>\n",
       "      <td>0.492678</td>\n",
       "      <td>2.216784e-07</td>\n",
       "      <td>GBM</td>\n",
       "    </tr>\n",
       "    <tr>\n",
       "      <th>8</th>\n",
       "      <td>JAK2_proteomics</td>\n",
       "      <td>0.486955</td>\n",
       "      <td>3.204668e-07</td>\n",
       "      <td>GBM</td>\n",
       "    </tr>\n",
       "    <tr>\n",
       "      <th>9</th>\n",
       "      <td>SYK_proteomics</td>\n",
       "      <td>0.484445</td>\n",
       "      <td>3.759062e-07</td>\n",
       "      <td>GBM</td>\n",
       "    </tr>\n",
       "    <tr>\n",
       "      <th>10</th>\n",
       "      <td>CD163_proteomics</td>\n",
       "      <td>0.477636</td>\n",
       "      <td>5.758399e-07</td>\n",
       "      <td>GBM</td>\n",
       "    </tr>\n",
       "    <tr>\n",
       "      <th>11</th>\n",
       "      <td>BLNK_proteomics</td>\n",
       "      <td>0.450345</td>\n",
       "      <td>2.909398e-06</td>\n",
       "      <td>GBM</td>\n",
       "    </tr>\n",
       "    <tr>\n",
       "      <th>12</th>\n",
       "      <td>CD4_proteomics</td>\n",
       "      <td>0.437064</td>\n",
       "      <td>6.092566e-06</td>\n",
       "      <td>GBM</td>\n",
       "    </tr>\n",
       "    <tr>\n",
       "      <th>13</th>\n",
       "      <td>AKT3_proteomics</td>\n",
       "      <td>-0.421760</td>\n",
       "      <td>1.375108e-05</td>\n",
       "      <td>GBM</td>\n",
       "    </tr>\n",
       "    <tr>\n",
       "      <th>14</th>\n",
       "      <td>HLA-DRA_proteomics</td>\n",
       "      <td>0.385932</td>\n",
       "      <td>7.973618e-05</td>\n",
       "      <td>GBM</td>\n",
       "    </tr>\n",
       "    <tr>\n",
       "      <th>15</th>\n",
       "      <td>CSF1R_proteomics</td>\n",
       "      <td>0.367571</td>\n",
       "      <td>1.820238e-04</td>\n",
       "      <td>GBM</td>\n",
       "    </tr>\n",
       "    <tr>\n",
       "      <th>16</th>\n",
       "      <td>GRB2_proteomics</td>\n",
       "      <td>0.317761</td>\n",
       "      <td>1.350527e-03</td>\n",
       "      <td>GBM</td>\n",
       "    </tr>\n",
       "    <tr>\n",
       "      <th>17</th>\n",
       "      <td>EGFR_proteomics</td>\n",
       "      <td>-0.315042</td>\n",
       "      <td>1.492646e-03</td>\n",
       "      <td>GBM</td>\n",
       "    </tr>\n",
       "    <tr>\n",
       "      <th>18</th>\n",
       "      <td>STAT3_proteomics</td>\n",
       "      <td>0.244581</td>\n",
       "      <td>1.469443e-02</td>\n",
       "      <td>GBM</td>\n",
       "    </tr>\n",
       "    <tr>\n",
       "      <th>19</th>\n",
       "      <td>BRAF_proteomics</td>\n",
       "      <td>-0.242042</td>\n",
       "      <td>1.579093e-02</td>\n",
       "      <td>GBM</td>\n",
       "    </tr>\n",
       "    <tr>\n",
       "      <th>20</th>\n",
       "      <td>AKT2_proteomics</td>\n",
       "      <td>0.234563</td>\n",
       "      <td>1.944240e-02</td>\n",
       "      <td>GBM</td>\n",
       "    </tr>\n",
       "  </tbody>\n",
       "</table>\n",
       "</div>"
      ],
      "text/plain": [
       "            Comparison  Correlation       P_value Cancer Type\n",
       "0     CD274_proteomics     1.000000  0.000000e+00         GBM\n",
       "1       LYN_proteomics     0.580608  2.987873e-10         GBM\n",
       "2     PLCG2_proteomics     0.526120  2.236260e-08         GBM\n",
       "3      AIF1_proteomics     0.519982  3.471178e-08         GBM\n",
       "4      VAV1_proteomics     0.519056  3.706348e-08         GBM\n",
       "5      CD14_proteomics     0.509490  7.215321e-08         GBM\n",
       "6       BTK_proteomics     0.504094  1.041317e-07         GBM\n",
       "7     PTPN6_proteomics     0.492678  2.216784e-07         GBM\n",
       "8      JAK2_proteomics     0.486955  3.204668e-07         GBM\n",
       "9       SYK_proteomics     0.484445  3.759062e-07         GBM\n",
       "10    CD163_proteomics     0.477636  5.758399e-07         GBM\n",
       "11     BLNK_proteomics     0.450345  2.909398e-06         GBM\n",
       "12      CD4_proteomics     0.437064  6.092566e-06         GBM\n",
       "13     AKT3_proteomics    -0.421760  1.375108e-05         GBM\n",
       "14  HLA-DRA_proteomics     0.385932  7.973618e-05         GBM\n",
       "15    CSF1R_proteomics     0.367571  1.820238e-04         GBM\n",
       "16     GRB2_proteomics     0.317761  1.350527e-03         GBM\n",
       "17     EGFR_proteomics    -0.315042  1.492646e-03         GBM\n",
       "18    STAT3_proteomics     0.244581  1.469443e-02         GBM\n",
       "19     BRAF_proteomics    -0.242042  1.579093e-02         GBM\n",
       "20     AKT2_proteomics     0.234563  1.944240e-02         GBM"
      ]
     },
     "execution_count": 2,
     "metadata": {},
     "output_type": "execute_result"
    }
   ],
   "source": [
    "df = pd.read_csv(\"../Step3.1_Pearson_dfs_by_cancer/csv_files/GBM_pdl1_trans_FDR.csv\")\n",
    "df = df.drop(['Unnamed: 0'], axis=1)\n",
    "df\n"
   ]
  },
  {
   "cell_type": "markdown",
   "metadata": {},
   "source": [
    "# Luad"
   ]
  },
  {
   "cell_type": "code",
   "execution_count": 3,
   "metadata": {},
   "outputs": [],
   "source": [
    "df_Luad = pd.read_csv(\"../Step3.1_Pearson_dfs_by_cancer/csv_files/Luad_pdl1_trans_FDR.csv\")\n",
    "df_Luad = df_Luad.drop(['Unnamed: 0'], axis=1)\n"
   ]
  },
  {
   "cell_type": "code",
   "execution_count": 4,
   "metadata": {},
   "outputs": [],
   "source": [
    "pancan = df.append(df_Luad)\n"
   ]
  },
  {
   "cell_type": "markdown",
   "metadata": {},
   "source": [
    "# HNSCC"
   ]
  },
  {
   "cell_type": "code",
   "execution_count": 5,
   "metadata": {},
   "outputs": [],
   "source": [
    "df_hnscc = pd.read_csv(\"../Step3.1_Pearson_dfs_by_cancer/csv_files/Hnscc_pdl1_trans_FDR.csv\")\n",
    "df_hnscc = df_hnscc.drop(['Unnamed: 0'], axis=1)\n"
   ]
  },
  {
   "cell_type": "code",
   "execution_count": 6,
   "metadata": {},
   "outputs": [],
   "source": [
    "pancan = pancan.append(df_hnscc)\n"
   ]
  },
  {
   "cell_type": "markdown",
   "metadata": {},
   "source": [
    "# LSCC "
   ]
  },
  {
   "cell_type": "code",
   "execution_count": 7,
   "metadata": {},
   "outputs": [],
   "source": [
    "df_lscc = pd.read_csv(\"../Step3.1_Pearson_dfs_by_cancer/csv_files/Lscc_pdl1_trans_FDR.csv\")\n",
    "df_lscc = df_lscc.drop(['Unnamed: 0'], axis=1)\n",
    "\n"
   ]
  },
  {
   "cell_type": "code",
   "execution_count": 8,
   "metadata": {},
   "outputs": [
    {
     "data": {
      "text/html": [
       "<div>\n",
       "<style scoped>\n",
       "    .dataframe tbody tr th:only-of-type {\n",
       "        vertical-align: middle;\n",
       "    }\n",
       "\n",
       "    .dataframe tbody tr th {\n",
       "        vertical-align: top;\n",
       "    }\n",
       "\n",
       "    .dataframe thead th {\n",
       "        text-align: right;\n",
       "    }\n",
       "</style>\n",
       "<table border=\"1\" class=\"dataframe\">\n",
       "  <thead>\n",
       "    <tr style=\"text-align: right;\">\n",
       "      <th></th>\n",
       "      <th>Comparison</th>\n",
       "      <th>Correlation</th>\n",
       "      <th>P_value</th>\n",
       "      <th>Cancer Type</th>\n",
       "    </tr>\n",
       "  </thead>\n",
       "  <tbody>\n",
       "    <tr>\n",
       "      <th>0</th>\n",
       "      <td>CD274_proteomics</td>\n",
       "      <td>1.000000</td>\n",
       "      <td>0.000000e+00</td>\n",
       "      <td>GBM</td>\n",
       "    </tr>\n",
       "    <tr>\n",
       "      <th>1</th>\n",
       "      <td>LYN_proteomics</td>\n",
       "      <td>0.580608</td>\n",
       "      <td>2.987873e-10</td>\n",
       "      <td>GBM</td>\n",
       "    </tr>\n",
       "    <tr>\n",
       "      <th>2</th>\n",
       "      <td>PLCG2_proteomics</td>\n",
       "      <td>0.526120</td>\n",
       "      <td>2.236260e-08</td>\n",
       "      <td>GBM</td>\n",
       "    </tr>\n",
       "    <tr>\n",
       "      <th>3</th>\n",
       "      <td>AIF1_proteomics</td>\n",
       "      <td>0.519982</td>\n",
       "      <td>3.471178e-08</td>\n",
       "      <td>GBM</td>\n",
       "    </tr>\n",
       "    <tr>\n",
       "      <th>4</th>\n",
       "      <td>VAV1_proteomics</td>\n",
       "      <td>0.519056</td>\n",
       "      <td>3.706348e-08</td>\n",
       "      <td>GBM</td>\n",
       "    </tr>\n",
       "    <tr>\n",
       "      <th>...</th>\n",
       "      <td>...</td>\n",
       "      <td>...</td>\n",
       "      <td>...</td>\n",
       "      <td>...</td>\n",
       "    </tr>\n",
       "    <tr>\n",
       "      <th>19</th>\n",
       "      <td>IGF1_proteomics</td>\n",
       "      <td>-0.351466</td>\n",
       "      <td>5.893921e-03</td>\n",
       "      <td>LSCC</td>\n",
       "    </tr>\n",
       "    <tr>\n",
       "      <th>20</th>\n",
       "      <td>HLA-DRA_proteomics</td>\n",
       "      <td>0.262968</td>\n",
       "      <td>6.723444e-03</td>\n",
       "      <td>LSCC</td>\n",
       "    </tr>\n",
       "    <tr>\n",
       "      <th>21</th>\n",
       "      <td>RAC1_proteomics</td>\n",
       "      <td>0.259868</td>\n",
       "      <td>7.425335e-03</td>\n",
       "      <td>LSCC</td>\n",
       "    </tr>\n",
       "    <tr>\n",
       "      <th>22</th>\n",
       "      <td>MAPK3_proteomics</td>\n",
       "      <td>-0.257252</td>\n",
       "      <td>8.067410e-03</td>\n",
       "      <td>LSCC</td>\n",
       "    </tr>\n",
       "    <tr>\n",
       "      <th>23</th>\n",
       "      <td>LYN_proteomics</td>\n",
       "      <td>0.252748</td>\n",
       "      <td>9.287800e-03</td>\n",
       "      <td>LSCC</td>\n",
       "    </tr>\n",
       "  </tbody>\n",
       "</table>\n",
       "<p>91 rows × 4 columns</p>\n",
       "</div>"
      ],
      "text/plain": [
       "            Comparison  Correlation       P_value Cancer Type\n",
       "0     CD274_proteomics     1.000000  0.000000e+00         GBM\n",
       "1       LYN_proteomics     0.580608  2.987873e-10         GBM\n",
       "2     PLCG2_proteomics     0.526120  2.236260e-08         GBM\n",
       "3      AIF1_proteomics     0.519982  3.471178e-08         GBM\n",
       "4      VAV1_proteomics     0.519056  3.706348e-08         GBM\n",
       "..                 ...          ...           ...         ...\n",
       "19     IGF1_proteomics    -0.351466  5.893921e-03        LSCC\n",
       "20  HLA-DRA_proteomics     0.262968  6.723444e-03        LSCC\n",
       "21     RAC1_proteomics     0.259868  7.425335e-03        LSCC\n",
       "22    MAPK3_proteomics    -0.257252  8.067410e-03        LSCC\n",
       "23      LYN_proteomics     0.252748  9.287800e-03        LSCC\n",
       "\n",
       "[91 rows x 4 columns]"
      ]
     },
     "execution_count": 8,
     "metadata": {},
     "output_type": "execute_result"
    }
   ],
   "source": [
    "pancan = pancan.append(df_lscc)\n",
    "pancan"
   ]
  },
  {
   "cell_type": "code",
   "execution_count": 9,
   "metadata": {},
   "outputs": [],
   "source": [
    "pancan.to_csv(\"csv_files/pancan_PDL1_FDR_trans.csv\")"
   ]
  },
  {
   "cell_type": "code",
   "execution_count": null,
   "metadata": {},
   "outputs": [],
   "source": []
  }
 ],
 "metadata": {
  "kernelspec": {
   "display_name": "Python 3",
   "language": "python",
   "name": "python3"
  },
  "language_info": {
   "codemirror_mode": {
    "name": "ipython",
    "version": 3
   },
   "file_extension": ".py",
   "mimetype": "text/x-python",
   "name": "python",
   "nbconvert_exporter": "python",
   "pygments_lexer": "ipython3",
   "version": "3.7.3"
  }
 },
 "nbformat": 4,
 "nbformat_minor": 2
}
