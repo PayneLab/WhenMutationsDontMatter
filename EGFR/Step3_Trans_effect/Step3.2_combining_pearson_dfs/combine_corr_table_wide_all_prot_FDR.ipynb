{
 "cells": [
  {
   "cell_type": "markdown",
   "metadata": {},
   "source": [
    "# Combine Pearson Tables"
   ]
  },
  {
   "cell_type": "markdown",
   "metadata": {},
   "source": [
    "This notebook takes all of the data frames create from the notebook pearson_dfs_EGFRprot_all_prot_sig and merges them to create one wide dataframe "
   ]
  },
  {
   "cell_type": "code",
   "execution_count": 1,
   "metadata": {},
   "outputs": [
    {
     "name": "stderr",
     "output_type": "stream",
     "text": [
      "/Users/Lindsey/anaconda3/lib/python3.7/site-packages/statsmodels/tools/_testing.py:19: FutureWarning: pandas.util.testing is deprecated. Use the functions in the public API at pandas.testing instead.\n",
      "  import pandas.util.testing as tm\n"
     ]
    }
   ],
   "source": [
    "import pandas as pd\n",
    "import numpy as np\n",
    "import seaborn as sns\n",
    "import matplotlib.pyplot as plt\n",
    "import scipy.stats\n",
    "import re\n",
    "import sys \n",
    "import statsmodels.stats.multitest\n",
    "\n",
    "import cptac\n",
    "import cptac.utils as u"
   ]
  },
  {
   "cell_type": "markdown",
   "metadata": {},
   "source": [
    "# Step 1: Read in Files"
   ]
  },
  {
   "cell_type": "markdown",
   "metadata": {},
   "source": [
    "# Step 2: Merge and Format Data frame"
   ]
  },
  {
   "cell_type": "markdown",
   "metadata": {},
   "source": [
    "Drop unneccesary columns and merge data frames. Rename columns to include cancer type. "
   ]
  },
  {
   "cell_type": "markdown",
   "metadata": {},
   "source": [
    "# GBM "
   ]
  },
  {
   "cell_type": "code",
   "execution_count": 2,
   "metadata": {},
   "outputs": [],
   "source": [
    "df = pd.read_csv(\"../Step3.1_Pearson_dfs_by_cancer/csv_files/GBM_EGFR_all_pearson_FDR_pval.csv\")\n",
    "df = df.drop(['Unnamed: 0'], axis=1)"
   ]
  },
  {
   "cell_type": "markdown",
   "metadata": {},
   "source": [
    "# Kidney"
   ]
  },
  {
   "cell_type": "code",
   "execution_count": 3,
   "metadata": {},
   "outputs": [],
   "source": [
    "df2 = pd.read_csv(\"../Step3.1_Pearson_dfs_by_cancer/csv_files/Kidney_EGFR_all_pearson_FDR_pvals.csv\")"
   ]
  },
  {
   "cell_type": "code",
   "execution_count": 4,
   "metadata": {},
   "outputs": [],
   "source": [
    "df2 = df2.drop(['Unnamed: 0'], axis=1)\n"
   ]
  },
  {
   "cell_type": "code",
   "execution_count": 5,
   "metadata": {},
   "outputs": [
    {
     "data": {
      "text/html": [
       "<div>\n",
       "<style scoped>\n",
       "    .dataframe tbody tr th:only-of-type {\n",
       "        vertical-align: middle;\n",
       "    }\n",
       "\n",
       "    .dataframe tbody tr th {\n",
       "        vertical-align: top;\n",
       "    }\n",
       "\n",
       "    .dataframe thead th {\n",
       "        text-align: right;\n",
       "    }\n",
       "</style>\n",
       "<table border=\"1\" class=\"dataframe\">\n",
       "  <thead>\n",
       "    <tr style=\"text-align: right;\">\n",
       "      <th></th>\n",
       "      <th>Comparison</th>\n",
       "      <th>Correlation_Gbm</th>\n",
       "      <th>P_value_Gbm</th>\n",
       "      <th>Correlation_kidney</th>\n",
       "      <th>P_value_kidney</th>\n",
       "    </tr>\n",
       "  </thead>\n",
       "  <tbody>\n",
       "    <tr>\n",
       "      <th>0</th>\n",
       "      <td>EGFR_proteomics</td>\n",
       "      <td>1.000000</td>\n",
       "      <td>0.000000e+00</td>\n",
       "      <td>1.000000</td>\n",
       "      <td>0.000000</td>\n",
       "    </tr>\n",
       "    <tr>\n",
       "      <th>1</th>\n",
       "      <td>PHLDA1_proteomics</td>\n",
       "      <td>0.816848</td>\n",
       "      <td>3.507071e-21</td>\n",
       "      <td>0.254436</td>\n",
       "      <td>0.059905</td>\n",
       "    </tr>\n",
       "    <tr>\n",
       "      <th>2</th>\n",
       "      <td>GRB2_proteomics</td>\n",
       "      <td>-0.610889</td>\n",
       "      <td>6.729990e-08</td>\n",
       "      <td>-0.217427</td>\n",
       "      <td>0.119779</td>\n",
       "    </tr>\n",
       "    <tr>\n",
       "      <th>3</th>\n",
       "      <td>SOCS2_proteomics</td>\n",
       "      <td>0.562720</td>\n",
       "      <td>3.420388e-06</td>\n",
       "      <td>NaN</td>\n",
       "      <td>NaN</td>\n",
       "    </tr>\n",
       "    <tr>\n",
       "      <th>4</th>\n",
       "      <td>CDH4_proteomics</td>\n",
       "      <td>0.559180</td>\n",
       "      <td>3.420388e-06</td>\n",
       "      <td>0.148407</td>\n",
       "      <td>0.512774</td>\n",
       "    </tr>\n",
       "    <tr>\n",
       "      <th>...</th>\n",
       "      <td>...</td>\n",
       "      <td>...</td>\n",
       "      <td>...</td>\n",
       "      <td>...</td>\n",
       "      <td>...</td>\n",
       "    </tr>\n",
       "    <tr>\n",
       "      <th>11851</th>\n",
       "      <td>SEMA3G_proteomics</td>\n",
       "      <td>NaN</td>\n",
       "      <td>NaN</td>\n",
       "      <td>0.000838</td>\n",
       "      <td>0.997853</td>\n",
       "    </tr>\n",
       "    <tr>\n",
       "      <th>11852</th>\n",
       "      <td>GSTA1_proteomics</td>\n",
       "      <td>NaN</td>\n",
       "      <td>NaN</td>\n",
       "      <td>0.000486</td>\n",
       "      <td>0.997935</td>\n",
       "    </tr>\n",
       "    <tr>\n",
       "      <th>11853</th>\n",
       "      <td>FILIP1_proteomics</td>\n",
       "      <td>NaN</td>\n",
       "      <td>NaN</td>\n",
       "      <td>-0.000286</td>\n",
       "      <td>0.998381</td>\n",
       "    </tr>\n",
       "    <tr>\n",
       "      <th>11854</th>\n",
       "      <td>LY6D_proteomics</td>\n",
       "      <td>NaN</td>\n",
       "      <td>NaN</td>\n",
       "      <td>-0.000398</td>\n",
       "      <td>0.998381</td>\n",
       "    </tr>\n",
       "    <tr>\n",
       "      <th>11855</th>\n",
       "      <td>ANKRD26_proteomics</td>\n",
       "      <td>NaN</td>\n",
       "      <td>NaN</td>\n",
       "      <td>-0.000109</td>\n",
       "      <td>0.999465</td>\n",
       "    </tr>\n",
       "  </tbody>\n",
       "</table>\n",
       "<p>11856 rows × 5 columns</p>\n",
       "</div>"
      ],
      "text/plain": [
       "               Comparison  Correlation_Gbm   P_value_Gbm  Correlation_kidney  \\\n",
       "0         EGFR_proteomics         1.000000  0.000000e+00            1.000000   \n",
       "1       PHLDA1_proteomics         0.816848  3.507071e-21            0.254436   \n",
       "2         GRB2_proteomics        -0.610889  6.729990e-08           -0.217427   \n",
       "3        SOCS2_proteomics         0.562720  3.420388e-06                 NaN   \n",
       "4         CDH4_proteomics         0.559180  3.420388e-06            0.148407   \n",
       "...                   ...              ...           ...                 ...   \n",
       "11851   SEMA3G_proteomics              NaN           NaN            0.000838   \n",
       "11852    GSTA1_proteomics              NaN           NaN            0.000486   \n",
       "11853   FILIP1_proteomics              NaN           NaN           -0.000286   \n",
       "11854     LY6D_proteomics              NaN           NaN           -0.000398   \n",
       "11855  ANKRD26_proteomics              NaN           NaN           -0.000109   \n",
       "\n",
       "       P_value_kidney  \n",
       "0            0.000000  \n",
       "1            0.059905  \n",
       "2            0.119779  \n",
       "3                 NaN  \n",
       "4            0.512774  \n",
       "...               ...  \n",
       "11851        0.997853  \n",
       "11852        0.997935  \n",
       "11853        0.998381  \n",
       "11854        0.998381  \n",
       "11855        0.999465  \n",
       "\n",
       "[11856 rows x 5 columns]"
      ]
     },
     "execution_count": 5,
     "metadata": {},
     "output_type": "execute_result"
    }
   ],
   "source": [
    "Gbm_kidney = pd.merge(df, df2, on=\"Comparison\", how = \"outer\")\n",
    "Gbm_kidney = Gbm_kidney.rename(columns={\"Correlation_x\": \"Correlation_Gbm\",\"P_value_x\":\"P_value_Gbm\" ,\"Correlation_y\":\"Correlation_kidney\",\"P_value_y\": \"P_value_kidney\" })\n",
    "Gbm_kidney"
   ]
  },
  {
   "cell_type": "markdown",
   "metadata": {},
   "source": [
    "# Ovarian "
   ]
  },
  {
   "cell_type": "code",
   "execution_count": 6,
   "metadata": {},
   "outputs": [],
   "source": [
    "df_Ovar = pd.read_csv(\"../Step3.1_Pearson_dfs_by_cancer/csv_files/Ovar_EGFR_all_pearson_FDR_pvals.csv\")\n",
    "df_Ovar = df_Ovar.drop(['Unnamed: 0'], axis=1)\n"
   ]
  },
  {
   "cell_type": "code",
   "execution_count": 7,
   "metadata": {},
   "outputs": [],
   "source": [
    "pancan = pd.merge(Gbm_kidney, df_Ovar, on=\"Comparison\", how = \"outer\")\n",
    "pancan = pancan.rename(columns={\"Correlation\": \"Correlation_Ovar\",\"P_value\": \"P_value_Ovar\" })\n"
   ]
  },
  {
   "cell_type": "markdown",
   "metadata": {},
   "source": [
    "# BRCA"
   ]
  },
  {
   "cell_type": "code",
   "execution_count": 8,
   "metadata": {},
   "outputs": [],
   "source": [
    "df_Brca = pd.read_csv(\"../Step3.1_Pearson_dfs_by_cancer/csv_files/Brca_EGFR_all_pearson_FDR_pvals.csv\")\n",
    "df_Brca = df_Brca.drop(['Unnamed: 0'], axis=1)\n"
   ]
  },
  {
   "cell_type": "code",
   "execution_count": 9,
   "metadata": {},
   "outputs": [],
   "source": [
    "pancan = pd.merge(pancan, df_Brca, on=\"Comparison\", how = \"outer\")\n",
    "pancan = pancan.rename(columns={\"Correlation\": \"Correlation_Brca\",\"P_value\": \"P_value_Brca\" })\n"
   ]
  },
  {
   "cell_type": "markdown",
   "metadata": {},
   "source": [
    "# Luad"
   ]
  },
  {
   "cell_type": "code",
   "execution_count": 10,
   "metadata": {},
   "outputs": [],
   "source": [
    "df_Luad = pd.read_csv(\"../Step3.1_Pearson_dfs_by_cancer/csv_files/Luad_EGFR_all_pearson_FDR_pvals.csv\")\n",
    "df_Luad = df_Luad.drop(['Unnamed: 0'], axis=1)\n"
   ]
  },
  {
   "cell_type": "code",
   "execution_count": 11,
   "metadata": {},
   "outputs": [],
   "source": [
    "pancan = pd.merge(pancan, df_Luad, on=\"Comparison\", how = \"outer\")\n",
    "pancan = pancan.rename(columns={\"Correlation\": \"Correlation_Luad\",\"P_value\": \"P_value_Luad\" })"
   ]
  },
  {
   "cell_type": "markdown",
   "metadata": {},
   "source": [
    "# HNSCC"
   ]
  },
  {
   "cell_type": "code",
   "execution_count": 12,
   "metadata": {},
   "outputs": [],
   "source": [
    "df_hnscc = pd.read_csv(\"../Step3.1_Pearson_dfs_by_cancer/csv_files/Hnscc_EGFR_all_pearson_FDR_pvals.csv\")\n",
    "df_hnscc = df_hnscc.drop(['Unnamed: 0'], axis=1)\n"
   ]
  },
  {
   "cell_type": "code",
   "execution_count": 13,
   "metadata": {},
   "outputs": [],
   "source": [
    "pancan = pd.merge(pancan, df_hnscc, on=\"Comparison\", how = \"outer\")\n",
    "pancan = pancan.rename(columns={ \"Correlation\": \"Correlation_hnscc\",\"P_value\": \"P_value_hnscc\" })\n"
   ]
  },
  {
   "cell_type": "markdown",
   "metadata": {},
   "source": [
    "# Colon"
   ]
  },
  {
   "cell_type": "code",
   "execution_count": 14,
   "metadata": {},
   "outputs": [],
   "source": [
    "df_colon = pd.read_csv(\"../Step3.1_Pearson_dfs_by_cancer/csv_files/Colon_EGFR_all_pearson_FDR_pvals.csv\")\n",
    "df_colon = df_colon.drop(['Unnamed: 0'], axis=1)\n"
   ]
  },
  {
   "cell_type": "code",
   "execution_count": 15,
   "metadata": {},
   "outputs": [],
   "source": [
    "pancan = pd.merge(pancan, df_colon, on=\"Comparison\", how = \"outer\")\n",
    "pancan = pancan.rename(columns={ \"Correlation\": \"Correlation_colon\",\"P_value\": \"P_value_colon\" })\n"
   ]
  },
  {
   "cell_type": "markdown",
   "metadata": {},
   "source": [
    "# LSCC"
   ]
  },
  {
   "cell_type": "code",
   "execution_count": 16,
   "metadata": {},
   "outputs": [],
   "source": [
    "df_Lscc = pd.read_csv(\"../Step3.1_Pearson_dfs_by_cancer/csv_files/Lscc_EGFR_all_pearson_FDR_pvals.csv\")\n",
    "df_Lscc = df_Lscc.drop(['Unnamed: 0'], axis=1)\n"
   ]
  },
  {
   "cell_type": "code",
   "execution_count": 17,
   "metadata": {},
   "outputs": [
    {
     "data": {
      "text/html": [
       "<div>\n",
       "<style scoped>\n",
       "    .dataframe tbody tr th:only-of-type {\n",
       "        vertical-align: middle;\n",
       "    }\n",
       "\n",
       "    .dataframe tbody tr th {\n",
       "        vertical-align: top;\n",
       "    }\n",
       "\n",
       "    .dataframe thead th {\n",
       "        text-align: right;\n",
       "    }\n",
       "</style>\n",
       "<table border=\"1\" class=\"dataframe\">\n",
       "  <thead>\n",
       "    <tr style=\"text-align: right;\">\n",
       "      <th></th>\n",
       "      <th>Comparison</th>\n",
       "      <th>Correlation_Gbm</th>\n",
       "      <th>P_value_Gbm</th>\n",
       "      <th>Correlation_kidney</th>\n",
       "      <th>P_value_kidney</th>\n",
       "      <th>Correlation_Ovar</th>\n",
       "      <th>P_value_Ovar</th>\n",
       "      <th>Correlation_Brca</th>\n",
       "      <th>P_value_Brca</th>\n",
       "      <th>Correlation_Luad</th>\n",
       "      <th>P_value_Luad</th>\n",
       "      <th>Correlation_hnscc</th>\n",
       "      <th>P_value_hnscc</th>\n",
       "      <th>Correlation_colon</th>\n",
       "      <th>P_value_colon</th>\n",
       "      <th>Correlation_Lscc</th>\n",
       "      <th>P_value_Lscc</th>\n",
       "    </tr>\n",
       "  </thead>\n",
       "  <tbody>\n",
       "    <tr>\n",
       "      <th>0</th>\n",
       "      <td>EGFR_proteomics</td>\n",
       "      <td>1.000000</td>\n",
       "      <td>0.000000e+00</td>\n",
       "      <td>1.000000</td>\n",
       "      <td>0.000000</td>\n",
       "      <td>1.00000</td>\n",
       "      <td>0.000000</td>\n",
       "      <td>1.000000</td>\n",
       "      <td>0.000000</td>\n",
       "      <td>1.000000</td>\n",
       "      <td>0.000000</td>\n",
       "      <td>1.000000</td>\n",
       "      <td>0.000000e+00</td>\n",
       "      <td>1.000000</td>\n",
       "      <td>0.000000</td>\n",
       "      <td>1.000000</td>\n",
       "      <td>0.000000e+00</td>\n",
       "    </tr>\n",
       "    <tr>\n",
       "      <th>1</th>\n",
       "      <td>PHLDA1_proteomics</td>\n",
       "      <td>0.816848</td>\n",
       "      <td>3.507071e-21</td>\n",
       "      <td>0.254436</td>\n",
       "      <td>0.059905</td>\n",
       "      <td>NaN</td>\n",
       "      <td>NaN</td>\n",
       "      <td>0.364797</td>\n",
       "      <td>0.002189</td>\n",
       "      <td>0.260110</td>\n",
       "      <td>0.075174</td>\n",
       "      <td>0.664271</td>\n",
       "      <td>8.888640e-12</td>\n",
       "      <td>0.386104</td>\n",
       "      <td>0.122847</td>\n",
       "      <td>0.713420</td>\n",
       "      <td>2.644826e-14</td>\n",
       "    </tr>\n",
       "    <tr>\n",
       "      <th>2</th>\n",
       "      <td>GRB2_proteomics</td>\n",
       "      <td>-0.610889</td>\n",
       "      <td>6.729990e-08</td>\n",
       "      <td>-0.217427</td>\n",
       "      <td>0.119779</td>\n",
       "      <td>-0.19009</td>\n",
       "      <td>0.345837</td>\n",
       "      <td>-0.177379</td>\n",
       "      <td>0.143363</td>\n",
       "      <td>-0.302439</td>\n",
       "      <td>0.020631</td>\n",
       "      <td>-0.532341</td>\n",
       "      <td>3.320092e-06</td>\n",
       "      <td>0.150960</td>\n",
       "      <td>0.347409</td>\n",
       "      <td>-0.198042</td>\n",
       "      <td>2.447503e-01</td>\n",
       "    </tr>\n",
       "    <tr>\n",
       "      <th>3</th>\n",
       "      <td>SOCS2_proteomics</td>\n",
       "      <td>0.562720</td>\n",
       "      <td>3.420388e-06</td>\n",
       "      <td>NaN</td>\n",
       "      <td>NaN</td>\n",
       "      <td>NaN</td>\n",
       "      <td>NaN</td>\n",
       "      <td>NaN</td>\n",
       "      <td>NaN</td>\n",
       "      <td>NaN</td>\n",
       "      <td>NaN</td>\n",
       "      <td>0.020297</td>\n",
       "      <td>9.557300e-01</td>\n",
       "      <td>NaN</td>\n",
       "      <td>NaN</td>\n",
       "      <td>0.472624</td>\n",
       "      <td>1.458433e-02</td>\n",
       "    </tr>\n",
       "    <tr>\n",
       "      <th>4</th>\n",
       "      <td>CDH4_proteomics</td>\n",
       "      <td>0.559180</td>\n",
       "      <td>3.420388e-06</td>\n",
       "      <td>0.148407</td>\n",
       "      <td>0.512774</td>\n",
       "      <td>NaN</td>\n",
       "      <td>NaN</td>\n",
       "      <td>NaN</td>\n",
       "      <td>NaN</td>\n",
       "      <td>NaN</td>\n",
       "      <td>NaN</td>\n",
       "      <td>NaN</td>\n",
       "      <td>NaN</td>\n",
       "      <td>NaN</td>\n",
       "      <td>NaN</td>\n",
       "      <td>NaN</td>\n",
       "      <td>NaN</td>\n",
       "    </tr>\n",
       "    <tr>\n",
       "      <th>...</th>\n",
       "      <td>...</td>\n",
       "      <td>...</td>\n",
       "      <td>...</td>\n",
       "      <td>...</td>\n",
       "      <td>...</td>\n",
       "      <td>...</td>\n",
       "      <td>...</td>\n",
       "      <td>...</td>\n",
       "      <td>...</td>\n",
       "      <td>...</td>\n",
       "      <td>...</td>\n",
       "      <td>...</td>\n",
       "      <td>...</td>\n",
       "      <td>...</td>\n",
       "      <td>...</td>\n",
       "      <td>...</td>\n",
       "      <td>...</td>\n",
       "    </tr>\n",
       "    <tr>\n",
       "      <th>24328</th>\n",
       "      <td>TAGAP_proteomics</td>\n",
       "      <td>NaN</td>\n",
       "      <td>NaN</td>\n",
       "      <td>NaN</td>\n",
       "      <td>NaN</td>\n",
       "      <td>NaN</td>\n",
       "      <td>NaN</td>\n",
       "      <td>NaN</td>\n",
       "      <td>NaN</td>\n",
       "      <td>NaN</td>\n",
       "      <td>NaN</td>\n",
       "      <td>NaN</td>\n",
       "      <td>NaN</td>\n",
       "      <td>NaN</td>\n",
       "      <td>NaN</td>\n",
       "      <td>-0.002387</td>\n",
       "      <td>9.940765e-01</td>\n",
       "    </tr>\n",
       "    <tr>\n",
       "      <th>24329</th>\n",
       "      <td>ZNF283_proteomics</td>\n",
       "      <td>NaN</td>\n",
       "      <td>NaN</td>\n",
       "      <td>NaN</td>\n",
       "      <td>NaN</td>\n",
       "      <td>NaN</td>\n",
       "      <td>NaN</td>\n",
       "      <td>NaN</td>\n",
       "      <td>NaN</td>\n",
       "      <td>NaN</td>\n",
       "      <td>NaN</td>\n",
       "      <td>NaN</td>\n",
       "      <td>NaN</td>\n",
       "      <td>NaN</td>\n",
       "      <td>NaN</td>\n",
       "      <td>0.002610</td>\n",
       "      <td>9.941032e-01</td>\n",
       "    </tr>\n",
       "    <tr>\n",
       "      <th>24330</th>\n",
       "      <td>TRIM39_proteomics</td>\n",
       "      <td>NaN</td>\n",
       "      <td>NaN</td>\n",
       "      <td>NaN</td>\n",
       "      <td>NaN</td>\n",
       "      <td>NaN</td>\n",
       "      <td>NaN</td>\n",
       "      <td>NaN</td>\n",
       "      <td>NaN</td>\n",
       "      <td>NaN</td>\n",
       "      <td>NaN</td>\n",
       "      <td>NaN</td>\n",
       "      <td>NaN</td>\n",
       "      <td>NaN</td>\n",
       "      <td>NaN</td>\n",
       "      <td>-0.002379</td>\n",
       "      <td>9.945224e-01</td>\n",
       "    </tr>\n",
       "    <tr>\n",
       "      <th>24331</th>\n",
       "      <td>ADGRA3_proteomics</td>\n",
       "      <td>NaN</td>\n",
       "      <td>NaN</td>\n",
       "      <td>NaN</td>\n",
       "      <td>NaN</td>\n",
       "      <td>NaN</td>\n",
       "      <td>NaN</td>\n",
       "      <td>NaN</td>\n",
       "      <td>NaN</td>\n",
       "      <td>NaN</td>\n",
       "      <td>NaN</td>\n",
       "      <td>NaN</td>\n",
       "      <td>NaN</td>\n",
       "      <td>NaN</td>\n",
       "      <td>NaN</td>\n",
       "      <td>0.002228</td>\n",
       "      <td>9.958381e-01</td>\n",
       "    </tr>\n",
       "    <tr>\n",
       "      <th>24332</th>\n",
       "      <td>CEP57L1_proteomics</td>\n",
       "      <td>NaN</td>\n",
       "      <td>NaN</td>\n",
       "      <td>NaN</td>\n",
       "      <td>NaN</td>\n",
       "      <td>NaN</td>\n",
       "      <td>NaN</td>\n",
       "      <td>NaN</td>\n",
       "      <td>NaN</td>\n",
       "      <td>NaN</td>\n",
       "      <td>NaN</td>\n",
       "      <td>NaN</td>\n",
       "      <td>NaN</td>\n",
       "      <td>NaN</td>\n",
       "      <td>NaN</td>\n",
       "      <td>-0.001102</td>\n",
       "      <td>9.977544e-01</td>\n",
       "    </tr>\n",
       "  </tbody>\n",
       "</table>\n",
       "<p>24333 rows × 17 columns</p>\n",
       "</div>"
      ],
      "text/plain": [
       "               Comparison  Correlation_Gbm   P_value_Gbm  Correlation_kidney  \\\n",
       "0         EGFR_proteomics         1.000000  0.000000e+00            1.000000   \n",
       "1       PHLDA1_proteomics         0.816848  3.507071e-21            0.254436   \n",
       "2         GRB2_proteomics        -0.610889  6.729990e-08           -0.217427   \n",
       "3        SOCS2_proteomics         0.562720  3.420388e-06                 NaN   \n",
       "4         CDH4_proteomics         0.559180  3.420388e-06            0.148407   \n",
       "...                   ...              ...           ...                 ...   \n",
       "24328    TAGAP_proteomics              NaN           NaN                 NaN   \n",
       "24329   ZNF283_proteomics              NaN           NaN                 NaN   \n",
       "24330   TRIM39_proteomics              NaN           NaN                 NaN   \n",
       "24331   ADGRA3_proteomics              NaN           NaN                 NaN   \n",
       "24332  CEP57L1_proteomics              NaN           NaN                 NaN   \n",
       "\n",
       "       P_value_kidney  Correlation_Ovar  P_value_Ovar  Correlation_Brca  \\\n",
       "0            0.000000           1.00000      0.000000          1.000000   \n",
       "1            0.059905               NaN           NaN          0.364797   \n",
       "2            0.119779          -0.19009      0.345837         -0.177379   \n",
       "3                 NaN               NaN           NaN               NaN   \n",
       "4            0.512774               NaN           NaN               NaN   \n",
       "...               ...               ...           ...               ...   \n",
       "24328             NaN               NaN           NaN               NaN   \n",
       "24329             NaN               NaN           NaN               NaN   \n",
       "24330             NaN               NaN           NaN               NaN   \n",
       "24331             NaN               NaN           NaN               NaN   \n",
       "24332             NaN               NaN           NaN               NaN   \n",
       "\n",
       "       P_value_Brca  Correlation_Luad  P_value_Luad  Correlation_hnscc  \\\n",
       "0          0.000000          1.000000      0.000000           1.000000   \n",
       "1          0.002189          0.260110      0.075174           0.664271   \n",
       "2          0.143363         -0.302439      0.020631          -0.532341   \n",
       "3               NaN               NaN           NaN           0.020297   \n",
       "4               NaN               NaN           NaN                NaN   \n",
       "...             ...               ...           ...                ...   \n",
       "24328           NaN               NaN           NaN                NaN   \n",
       "24329           NaN               NaN           NaN                NaN   \n",
       "24330           NaN               NaN           NaN                NaN   \n",
       "24331           NaN               NaN           NaN                NaN   \n",
       "24332           NaN               NaN           NaN                NaN   \n",
       "\n",
       "       P_value_hnscc  Correlation_colon  P_value_colon  Correlation_Lscc  \\\n",
       "0       0.000000e+00           1.000000       0.000000          1.000000   \n",
       "1       8.888640e-12           0.386104       0.122847          0.713420   \n",
       "2       3.320092e-06           0.150960       0.347409         -0.198042   \n",
       "3       9.557300e-01                NaN            NaN          0.472624   \n",
       "4                NaN                NaN            NaN               NaN   \n",
       "...              ...                ...            ...               ...   \n",
       "24328            NaN                NaN            NaN         -0.002387   \n",
       "24329            NaN                NaN            NaN          0.002610   \n",
       "24330            NaN                NaN            NaN         -0.002379   \n",
       "24331            NaN                NaN            NaN          0.002228   \n",
       "24332            NaN                NaN            NaN         -0.001102   \n",
       "\n",
       "       P_value_Lscc  \n",
       "0      0.000000e+00  \n",
       "1      2.644826e-14  \n",
       "2      2.447503e-01  \n",
       "3      1.458433e-02  \n",
       "4               NaN  \n",
       "...             ...  \n",
       "24328  9.940765e-01  \n",
       "24329  9.941032e-01  \n",
       "24330  9.945224e-01  \n",
       "24331  9.958381e-01  \n",
       "24332  9.977544e-01  \n",
       "\n",
       "[24333 rows x 17 columns]"
      ]
     },
     "execution_count": 17,
     "metadata": {},
     "output_type": "execute_result"
    }
   ],
   "source": [
    "pancan = pd.merge(pancan, df_Lscc, on=\"Comparison\", how = \"outer\")\n",
    "pancan = pancan.rename(columns={ \"Correlation\": \"Correlation_Lscc\",\"P_value\": \"P_value_Lscc\" })\n",
    "pancan"
   ]
  },
  {
   "cell_type": "code",
   "execution_count": 18,
   "metadata": {},
   "outputs": [],
   "source": [
    "pancan.to_csv(\"csv_files/pancan_EGFR_all_FDR_wide_pvals.csv\")"
   ]
  },
  {
   "cell_type": "code",
   "execution_count": null,
   "metadata": {},
   "outputs": [],
   "source": []
  }
 ],
 "metadata": {
  "kernelspec": {
   "display_name": "Python 3",
   "language": "python",
   "name": "python3"
  },
  "language_info": {
   "codemirror_mode": {
    "name": "ipython",
    "version": 3
   },
   "file_extension": ".py",
   "mimetype": "text/x-python",
   "name": "python",
   "nbconvert_exporter": "python",
   "pygments_lexer": "ipython3",
   "version": "3.7.3"
  }
 },
 "nbformat": 4,
 "nbformat_minor": 2
}
