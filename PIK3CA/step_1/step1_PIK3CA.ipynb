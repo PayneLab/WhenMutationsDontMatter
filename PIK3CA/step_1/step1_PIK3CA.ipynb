{
 "cells": [
  {
   "cell_type": "code",
   "execution_count": 1,
   "metadata": {},
   "outputs": [
    {
     "name": "stderr",
     "output_type": "stream",
     "text": [
      "/Users/hannahboekweg/anaconda3/lib/python3.7/site-packages/statsmodels/tools/_testing.py:19: FutureWarning: pandas.util.testing is deprecated. Use the functions in the public API at pandas.testing instead.\n",
      "  import pandas.util.testing as tm\n"
     ]
    }
   ],
   "source": [
    "import cptac\n",
    "import numpy as np\n",
    "import pandas as pd\n",
    "import numpy as np\n",
    "import seaborn as sns\n",
    "import matplotlib.pyplot as plt"
   ]
  },
  {
   "cell_type": "markdown",
   "metadata": {},
   "source": [
    "# Load cancer data"
   ]
  },
  {
   "cell_type": "code",
   "execution_count": 2,
   "metadata": {
    "scrolled": true
   },
   "outputs": [
    {
     "name": "stdout",
     "output_type": "stream",
     "text": [
      "Checking that ovarian index is up-to-date...    \r"
     ]
    },
    {
     "name": "stderr",
     "output_type": "stream",
     "text": [
      "cptac warning: The LUAD dataset is under publication embargo until July 01, 2020. CPTAC is a community resource project and data are made available rapidly after generation for community research use. The embargo allows exploring and utilizing the data, but analysis may not be published until after the embargo date. Please see https://proteomics.cancer.gov/data-portal/about/data-use-agreement or enter cptac.embargo() to open the webpage for more details. (/Users/hannahboekweg/anaconda3/lib/python3.7/site-packages/ipykernel_launcher.py, line 3)\n"
     ]
    },
    {
     "name": "stdout",
     "output_type": "stream",
     "text": [
      "Checking that brca index is up-to-date...   \r"
     ]
    },
    {
     "name": "stderr",
     "output_type": "stream",
     "text": [
      "cptac warning: The GBM dataset is under publication embargo until March 01, 2021. CPTAC is a community resource project and data are made available rapidly after generation for community research use. The embargo allows exploring and utilizing the data, but analysis may not be published until after the embargo date. Please see https://proteomics.cancer.gov/data-portal/about/data-use-agreement or enter cptac.embargo() to open the webpage for more details. (/Users/hannahboekweg/anaconda3/lib/python3.7/site-packages/ipykernel_launcher.py, line 7)\n"
     ]
    },
    {
     "name": "stdout",
     "output_type": "stream",
     "text": [
      "                                         \r"
     ]
    }
   ],
   "source": [
    "en = cptac.Endometrial()\n",
    "hn = cptac.Hnscc()\n",
    "l = cptac.Luad()\n",
    "o = cptac.Ovarian()\n",
    "c = cptac.Ccrcc()\n",
    "col = cptac.Colon()\n",
    "g = cptac.Gbm()\n",
    "b = cptac.Brca()\n",
    "ls = cptac.Lscc()"
   ]
  },
  {
   "cell_type": "markdown",
   "metadata": {},
   "source": [
    "# For each cancer get the mutation type for PIK3CA"
   ]
  },
  {
   "cell_type": "code",
   "execution_count": 18,
   "metadata": {},
   "outputs": [],
   "source": [
    "gene = \"PTEN\""
   ]
  },
  {
   "cell_type": "code",
   "execution_count": 19,
   "metadata": {
    "scrolled": true
   },
   "outputs": [
    {
     "name": "stderr",
     "output_type": "stream",
     "text": [
      "cptac warning: In joining the somatic_mutation table, no mutations were found for the following samples, so they were filled with Wildtype_Tumor or Wildtype_Normal: 20 samples for the PTEN gene (/Users/hannahboekweg/anaconda3/lib/python3.7/site-packages/cptac/dataset.py, line 383)\n",
      "cptac warning: In joining the somatic_mutation table, no mutations were found for the following samples, so they were filled with Wildtype_Tumor or Wildtype_Normal: 72 samples for the PTEN gene (/Users/hannahboekweg/anaconda3/lib/python3.7/site-packages/cptac/dataset.py, line 383)\n",
      "cptac warning: CNV data was not found for the following samples, so CNV data columns were filled with NaN for these samples: C3L-01834 (/Users/hannahboekweg/anaconda3/lib/python3.7/site-packages/cptac/dataset.py, line 383)\n",
      "cptac warning: In joining the somatic_mutation table, no mutations were found for the following samples, so they were filled with Wildtype_Tumor or Wildtype_Normal: 109 samples for the PTEN gene (/Users/hannahboekweg/anaconda3/lib/python3.7/site-packages/cptac/dataset.py, line 383)\n",
      "cptac warning: CNV data was not found for the following samples, so CNV data columns were filled with NaN for these samples: C3L-02617, C3N-02727 (/Users/hannahboekweg/anaconda3/lib/python3.7/site-packages/cptac/dataset.py, line 383)\n",
      "cptac warning: In joining the somatic_mutation table, no mutations were found for the following samples, so they were filled with Wildtype_Tumor or Wildtype_Normal: 98 samples for the PTEN gene (/Users/hannahboekweg/anaconda3/lib/python3.7/site-packages/cptac/dataset.py, line 383)\n",
      "cptac warning: CNV data was not found for the following samples, so CNV data columns were filled with NaN for these samples: 01OV029, 02OV015 (/Users/hannahboekweg/anaconda3/lib/python3.7/site-packages/cptac/dataset.py, line 383)\n",
      "cptac warning: In joining the somatic_mutation table, no mutations were found for the following samples, so they were filled with Wildtype_Tumor or Wildtype_Normal: 105 samples for the PTEN gene (/Users/hannahboekweg/anaconda3/lib/python3.7/site-packages/cptac/dataset.py, line 383)\n",
      "cptac warning: In joining the somatic_mutation table, no mutations were found for the following samples, so they were filled with Wildtype_Tumor or Wildtype_Normal: 100 samples for the PTEN gene (/Users/hannahboekweg/anaconda3/lib/python3.7/site-packages/cptac/dataset.py, line 383)\n",
      "cptac warning: CNV data was not found for the following samples, so CNV data columns were filled with NaN for these samples: 05CO045 (/Users/hannahboekweg/anaconda3/lib/python3.7/site-packages/cptac/dataset.py, line 383)\n",
      "cptac warning: In joining the somatic_mutation table, no mutations were found for the following samples, so they were filled with Wildtype_Tumor or Wildtype_Normal: 113 samples for the PTEN gene (/Users/hannahboekweg/anaconda3/lib/python3.7/site-packages/cptac/dataset.py, line 383)\n",
      "cptac warning: In joining the somatic_mutation table, no mutations were found for the following samples, so they were filled with Wildtype_Tumor or Wildtype_Normal: 99 samples for the PTEN gene (/Users/hannahboekweg/anaconda3/lib/python3.7/site-packages/cptac/dataset.py, line 383)\n"
     ]
    }
   ],
   "source": [
    "endo = en.get_genotype_all_vars(gene)\n",
    "gbm = g.get_genotype_all_vars(gene)\n",
    "hnscc = hn.get_genotype_all_vars(gene)\n",
    "ovar = o.get_genotype_all_vars(gene)\n",
    "cc = c.get_genotype_all_vars(gene)\n",
    "colon = col.get_genotype_all_vars(gene)\n",
    "ld = l.get_genotype_all_vars(gene)\n",
    "brca = b.get_genotype_all_vars(gene)\n",
    "lscc = ls.get_genotype_all_vars(gene)"
   ]
  },
  {
   "cell_type": "code",
   "execution_count": 22,
   "metadata": {},
   "outputs": [],
   "source": [
    "def plot_mutations(dflist = None, names_of_df=None, title=None, save_to_path=None):\n",
    "    number_of_df = len(dflist)\n",
    "  \n",
    "    allLabels = []\n",
    "    for df in dflist:\n",
    "        #get the labels for each and make a combined label that they'll all use\n",
    "        mutation = df[\"Mutation\"]\n",
    "        labels = list(set(mutation))\n",
    "\n",
    "        allLabels.append(labels)\n",
    "    \n",
    "    flat_list = [item for sublist in allLabels for item in sublist]\n",
    "    all_labels = list(set(flat_list))\n",
    "    all_labels.sort()\n",
    "    allLabels = all_labels\n",
    "    \n",
    "#     For each df, add na to their labels if it doesn't exist in all_labels\n",
    "    labels_for_each_df = []\n",
    "    frequencies_for_each_df = []\n",
    "    for df in dflist:\n",
    "        mutation = df[\"Mutation\"].tolist()\n",
    "        mutationlist = list(set(mutation))\n",
    "        mutationlist.sort()\n",
    "        ordered_mut_list = []\n",
    "        match = True\n",
    "        mutPosition = 0\n",
    "        \n",
    "        for position in range(len(all_labels)):\n",
    "            try:\n",
    "                \n",
    "                if mutationlist[mutPosition] == all_labels[position]:\n",
    "                    ordered_mut_list.append(mutationlist[mutPosition])\n",
    "                    mutPosition += 1\n",
    "\n",
    "                else:\n",
    "                    ordered_mut_list.append(\"na\")\n",
    "\n",
    "            except IndexError:  \n",
    "                ordered_mut_list.append(\"na\")\n",
    "       \n",
    "        \n",
    "        labels_for_each_df.append(ordered_mut_list)\n",
    "\n",
    "        #get the freq of each mutation type\n",
    "        freq = []\n",
    "        for mutation_type in ordered_mut_list:\n",
    "            freq.append(mutation.count(mutation_type))\n",
    "\n",
    "        PercentFreq = [x*100 / sum(freq) for x in freq]\n",
    "        frequencies_for_each_df.append(PercentFreq)\n",
    "        \n",
    "        \n",
    "    #Now plot it using arrays\n",
    "    width = 0.1\n",
    "    x = np.arange(len(allLabels))\n",
    "    a4_dims = (20, 13) #dimensions for bigger plot\n",
    "    fig, ax = plt.subplots(figsize=a4_dims)\n",
    "    for position in range(0, number_of_df):\n",
    "        r = ax.bar(x+(width*position), frequencies_for_each_df[position], width,label=names_of_df[position], alpha=.5, linewidth=0)\n",
    "\n",
    "\n",
    "\n",
    "    ax.set_ylabel('Percent Sample')\n",
    "    ax.set_title(title)\n",
    "    ax.set_xticks(x)\n",
    "    ax.set_xticklabels(allLabels)\n",
    "    ax.legend()\n",
    "    \n",
    "\n",
    "\n",
    "    plt.setp(ax.get_xticklabels(),rotation='vertical')\n",
    "    plt.savefig(save_to_path)\n",
    "    \n",
    "    plt.show()\n",
    "    "
   ]
  },
  {
   "cell_type": "code",
   "execution_count": 23,
   "metadata": {},
   "outputs": [
    {
     "data": {
      "image/png": "[encoded data removed]",
      "text/plain": [
       "<Figure size 1440x936 with 1 Axes>"
      ]
     },
     "metadata": {
      "needs_background": "light"
     },
     "output_type": "display_data"
    }
   ],
   "source": [
    "dfs = [endo, gbm, hnscc, ovar, cc, colon, ld, brca, lscc]\n",
    "names = ['endometrial', 'glioblastoma', 'head and neck', 'ovar', 'cc', 'colon', 'ld', 'brca', 'ls']\n",
    "plot_mutations(dfs, names, \"Mutation freq\", '/Users/hannahboekweg/WhenMutationsDontMatter/PIK3CA/step_1/step_1')"
   ]
  }
 ],
 "metadata": {
  "kernelspec": {
   "display_name": "Python 3",
   "language": "python",
   "name": "python3"
  },
  "language_info": {
   "codemirror_mode": {
    "name": "ipython",
    "version": 3
   },
   "file_extension": ".py",
   "mimetype": "text/x-python",
   "name": "python",
   "nbconvert_exporter": "python",
   "pygments_lexer": "ipython3",
   "version": "3.7.3"
  }
 },
 "nbformat": 4,
 "nbformat_minor": 2
}
