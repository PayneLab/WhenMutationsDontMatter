{
 "cells": [
  {
   "cell_type": "code",
   "execution_count": 1,
   "metadata": {},
   "outputs": [
    {
     "name": "stderr",
     "output_type": "stream",
     "text": [
      "/Users/hannahboekweg/anaconda3/lib/python3.7/site-packages/statsmodels/tools/_testing.py:19: FutureWarning: pandas.util.testing is deprecated. Use the functions in the public API at pandas.testing instead.\n",
      "  import pandas.util.testing as tm\n",
      "cptac warning: Your version of cptac (0.8.0) is out-of-date. Latest is 0.8.1. Please run 'pip install --upgrade cptac' to update it. (/Users/hannahboekweg/anaconda3/lib/python3.7/site-packages/ipykernel_launcher.py, line 10)\n"
     ]
    }
   ],
   "source": [
    "import pandas as pd\n",
    "import numpy as np\n",
    "import seaborn as sns\n",
    "import matplotlib.pyplot as plt\n",
    "import scipy.stats\n",
    "import gseapy as gp\n",
    "import re\n",
    "import sys \n",
    "\n",
    "import cptac\n",
    "import cptac.utils as u\n",
    "import pandas as pd\n",
    "\n",
    "import numpy as np\n",
    "import scipy.stats\n",
    "import statsmodels.stats.multitest\n",
    "import operator"
   ]
  },
  {
   "cell_type": "code",
   "execution_count": 21,
   "metadata": {},
   "outputs": [],
   "source": [
    "def wrap_ttest(df, label_column, comparison_columns=None, alpha=.05, return_all=False, correction_method='bonferroni', mincount=3):\n",
    "    try:\n",
    "        '''Verify precondition that label column exists and has exactly 2 unique values'''\n",
    "        label_values = df[label_column].unique()\n",
    "        if len(label_values) != 2:\n",
    "            print(\"Incorrectly Formatted Dataframe! Label column must have exactly 2 unique values.\")\n",
    "            return None\n",
    "        \n",
    "        '''Partition dataframe into two sets, one for each of the two unique values from the label column'''\n",
    "        partition1 = df.loc[df[label_column] == label_values[0]]\n",
    "        partition2 = df.loc[df[label_column] == label_values[1]]\n",
    "\n",
    "        '''If no comparison columns specified, use all columns except the specified labed column'''\n",
    "        if not comparison_columns:\n",
    "            comparison_columns = list(df.columns)\n",
    "            comparison_columns.remove(label_column)\n",
    " \n",
    "        '''Determine the number of real valued columns on which we will do t-tests'''\n",
    "        number_of_comparisons = len(comparison_columns)\n",
    "\n",
    "        '''Store comparisons and p-values in two arrays'''\n",
    "        comparisons = []\n",
    "        pvals = []\n",
    "        \n",
    "        '''Loop through each comparison column, perform the t-test, and record the p-val'''\n",
    "        for column in comparison_columns:\n",
    "            if len(partition1[column].dropna(axis=0)) <= mincount:\n",
    "        #         comparison_columns.remove(column)\n",
    "                continue\n",
    "            elif len(partition2[column].dropna(axis=0)) <= mincount:\n",
    "        #         comparison_columns.remove(column)\n",
    "                continue\n",
    "            else:\n",
    "                stat, pval = scipy.stats.ttest_ind(partition1[column].dropna(axis=0), partition2[column].dropna(axis=0))\n",
    "                comparisons.append(column)\n",
    "                pvals.append(pval)\n",
    "            \n",
    "        '''Correct for multiple testing to determine if each comparison meets the new cutoff'''\n",
    "        results = statsmodels.stats.multitest.multipletests(pvals=pvals, alpha=alpha, method=correction_method)\n",
    "        reject = results[0]\n",
    "\n",
    "        '''Format results in a pandas dataframe'''\n",
    "        results_df = pd.DataFrame(columns=['Comparison','P_Value'])\n",
    "\n",
    "        '''If return all, add all comparisons and p-values to dataframe'''\n",
    "        if return_all:\n",
    "            results_df['Comparison'] = comparisons\n",
    "            results_df['P_Value'] = pvals\n",
    "\n",
    "            '''Else only add significant comparisons'''\n",
    "        else:\n",
    "            for i in range(0, len(reject)):\n",
    "                if reject[i]:\n",
    "                    results_df = results_df.append({'Comparison':comparisons[i],'P_Value':pvals[i]}, ignore_index=True)\n",
    "\n",
    "\n",
    "        '''Sort dataframe by ascending p-value'''\n",
    "        results_df = results_df.sort_values(by='P_Value', ascending=True)\n",
    "        results_df = results_df.reset_index(drop=True)\n",
    "\n",
    "        '''If results df is not empty, return it, else return None'''\n",
    "        if len(results_df) > 0:\n",
    "            return results_df\n",
    "        else:\n",
    "            print(\"Empty\")\n",
    "            return results[1]\n",
    "\n",
    "\n",
    "    except:\n",
    "        print(\"Incorrectly Formatted Dataframe!\")\n",
    "        return None"
   ]
  },
  {
   "cell_type": "markdown",
   "metadata": {},
   "source": [
    "# Load cancer data"
   ]
  },
  {
   "cell_type": "code",
   "execution_count": 3,
   "metadata": {},
   "outputs": [
    {
     "name": "stdout",
     "output_type": "stream",
     "text": [
      "                                                \r"
     ]
    }
   ],
   "source": [
    "en = cptac.Endometrial()\n",
    "br = cptac.Brca()\n",
    "cl = cptac.Colon()"
   ]
  },
  {
   "cell_type": "code",
   "execution_count": 20,
   "metadata": {},
   "outputs": [
    {
     "name": "stderr",
     "output_type": "stream",
     "text": [
      "cptac warning: In joining the somatic_mutation table, no mutations were found for the following samples, so they were filled with Wildtype_Tumor or Wildtype_Normal: 48 samples for the PIK3CA gene (/Users/hannahboekweg/anaconda3/lib/python3.7/site-packages/cptac/dataset.py, line 311)\n"
     ]
    }
   ],
   "source": [
    "mut = en.get_genotype_all_vars(\"PIK3CA\")\n",
    "# mut"
   ]
  },
  {
   "cell_type": "code",
   "execution_count": 19,
   "metadata": {},
   "outputs": [],
   "source": [
    "prot = en.get_proteomics(tissue_type=\"tumor\")\n",
    "joined = mut.join(prot)\n",
    "# joined.head()"
   ]
  },
  {
   "cell_type": "code",
   "execution_count": 18,
   "metadata": {},
   "outputs": [],
   "source": [
    "prot_and_mutation = joined.loc[(joined[\"Mutation\"] == \"Missense_Mutation\") | (joined[\"Mutation\"] == \"Wildtype_Tumor\")]\n",
    "\n",
    "prot_and_mutations = prot_and_mutation.drop(columns = [\"Mutation_Status\", \"Location\"])\n",
    "# prot_and_mutations.head(40)"
   ]
  },
  {
   "cell_type": "code",
   "execution_count": 12,
   "metadata": {},
   "outputs": [
    {
     "data": {
      "text/plain": [
       "41"
      ]
     },
     "execution_count": 12,
     "metadata": {},
     "output_type": "execute_result"
    }
   ],
   "source": [
    "len(prot_and_mutation.loc[prot_and_mutation[\"Mutation\"]==\"Missense_Mutation\"])\n",
    "len(prot_and_mutation.loc[prot_and_mutation[\"Mutation\"]==\"Wildtype_Tumor\"])\n",
    "\n",
    "\n",
    "# len(mut.index)"
   ]
  },
  {
   "cell_type": "code",
   "execution_count": 13,
   "metadata": {},
   "outputs": [],
   "source": [
    "partition1 = prot_and_mutations.loc[prot_and_mutations[\"Mutation\"] == \"Missense_Mutation\"]\n",
    "partition2 = prot_and_mutations.loc[prot_and_mutations[\"Mutation\"] == \"Wildtype_Tumor\"]\n",
    "\n",
    "comparison_columns = list(prot_and_mutations.columns)\n",
    "comparison_columns.remove(\"Mutation\")\n",
    "\n",
    "genelist = []\n",
    "for column in comparison_columns:\n",
    "    if(len(partition1[column].dropna(axis=0))) <= 40 and (len(partition2[column].dropna(axis=0))) <= 40:\n",
    "        continue\n",
    "    else:\n",
    "        genelist.append(column)"
   ]
  },
  {
   "cell_type": "code",
   "execution_count": 14,
   "metadata": {},
   "outputs": [
    {
     "data": {
      "text/plain": [
       "8343"
      ]
     },
     "execution_count": 14,
     "metadata": {},
     "output_type": "execute_result"
    }
   ],
   "source": [
    "#let's try filtering prot_and_mutations (so that we can look at the pvals)\n",
    "# fil_prot = prot_and_mutations[[genelist]]\n",
    "genelist.append(\"Mutation\")\n",
    "fil_prot = prot_and_mutations.loc[:, prot_and_mutations.columns.isin(genelist)]\n",
    "len(prot_and_mutations.columns)\n",
    "len(fil_prot.columns)"
   ]
  },
  {
   "cell_type": "code",
   "execution_count": null,
   "metadata": {},
   "outputs": [],
   "source": [
    "len(genelist)"
   ]
  },
  {
   "cell_type": "code",
   "execution_count": 23,
   "metadata": {},
   "outputs": [
    {
     "name": "stdout",
     "output_type": "stream",
     "text": [
      "Empty\n"
     ]
    },
    {
     "data": {
      "text/plain": [
       "0.9994782839432604"
      ]
     },
     "execution_count": 23,
     "metadata": {},
     "output_type": "execute_result"
    }
   ],
   "source": [
    "# wrap_ttest(prot_and_mutations, 'Mutation', correction_method = 'fdr_bh', mincount=40)\n",
    "n = wrap_ttest(fil_prot, 'Mutation', correction_method = 'fdr_bh', mincount=40, alpha=.5)\n",
    "min(n)"
   ]
  },
  {
   "cell_type": "code",
   "execution_count": null,
   "metadata": {},
   "outputs": [],
   "source": [
    "#try just running the top 20\n",
    "top20genes = list(n.head(20)[\"Comparison\"])\n",
    "top20genes.append(\"Mutation\")\n",
    "top20 = prot_and_mutations.loc[:, prot_and_mutations.columns.isin(top20genes)]\n",
    "wrap_ttest(top20, 'Mutation', correction_method = 'fdr_bh', mincount=40)\n",
    "\n",
    "\n",
    "#run in brca (there are probably more significant results)\n",
    "#try looking for a different method, or raise the cutoff value"
   ]
  },
  {
   "cell_type": "code",
   "execution_count": null,
   "metadata": {},
   "outputs": [],
   "source": []
  },
  {
   "cell_type": "code",
   "execution_count": null,
   "metadata": {},
   "outputs": [],
   "source": [
    "prot_and_mutations[\"Mutation\"].unique()"
   ]
  },
  {
   "cell_type": "markdown",
   "metadata": {},
   "source": [
    "# Endometrial"
   ]
  },
  {
   "cell_type": "markdown",
   "metadata": {},
   "source": [
    "## Filter out hotspot mutations\n",
    "Hotspots are:\n",
    "E542K\n",
    "E545K\n",
    "H1047R\n"
   ]
  },
  {
   "cell_type": "code",
   "execution_count": null,
   "metadata": {},
   "outputs": [],
   "source": [
    "#### Get the mutation type, and ptorteomics for PIK3CA\n",
    "\n",
    "en.get_genotype_all_vars(gene)\n",
    "\n",
    "len(mut.loc[mut[\"Mutation\"]==\"Missense_Mutation\"])"
   ]
  },
  {
   "cell_type": "code",
   "execution_count": null,
   "metadata": {},
   "outputs": [],
   "source": [
    "prot = en.get_proteomics(tissue_type=\"tumor\")"
   ]
  },
  {
   "cell_type": "markdown",
   "metadata": {},
   "source": [
    "#### Join mutation type and proteomics together"
   ]
  },
  {
   "cell_type": "code",
   "execution_count": null,
   "metadata": {},
   "outputs": [],
   "source": [
    "joined = mut.join(prot)\n",
    "joined.head()"
   ]
  },
  {
   "cell_type": "markdown",
   "metadata": {},
   "source": [
    "#### Select samples containing missense mutations"
   ]
  },
  {
   "cell_type": "code",
   "execution_count": null,
   "metadata": {},
   "outputs": [],
   "source": [
    "# en_hotspot_df = joined[joined.Location.str.contains('E542K') | \n",
    "#                     joined.Location.str.contains('E545K') |\n",
    "#                     joined.Location.str.contains('H1047R')]\n",
    "missense_mutations = joined.loc[joined[\"Mutation\"] == \"Missense_Mutation\"]\n",
    "wildtype  = joined.loc[joined.Mutation == \"Wildtype_Tumor\"]"
   ]
  },
  {
   "cell_type": "markdown",
   "metadata": {},
   "source": [
    "#### Join the proteomics for the wildtype mutations to the hotspot mutations"
   ]
  },
  {
   "cell_type": "code",
   "execution_count": null,
   "metadata": {},
   "outputs": [],
   "source": [
    "c# wildtype  = joined.loc[joined.Mutation == \"Wildtype_Tumor\"]\n",
    "\n",
    "# endo_hotspot = en_hotspot_df.append(wildtype)\n",
    "endo_missense"
   ]
  },
  {
   "cell_type": "markdown",
   "metadata": {},
   "source": [
    "#### Drop unncecesary columns\n",
    "The resulting dataframe is what we will be working with from this point forward. It contains the mutations type and the proteomics for each gene."
   ]
  },
  {
   "cell_type": "code",
   "execution_count": null,
   "metadata": {},
   "outputs": [],
   "source": [
    "prot_and_mutations = endo_missense.drop(columns = [\"Mutation_Status\", \"Location\"])\n",
    "prot_and_mutations.head()"
   ]
  },
  {
   "cell_type": "markdown",
   "metadata": {},
   "source": [
    "## Run T-test and difference of Median for each cancer type"
   ]
  },
  {
   "cell_type": "markdown",
   "metadata": {},
   "source": [
    "#### Get the median proteomic expression among all samples, for each gene.\n",
    "This is done for missense mutations and wildtype separately\n"
   ]
  },
  {
   "cell_type": "code",
   "execution_count": null,
   "metadata": {},
   "outputs": [],
   "source": [
    "missense = prot_and_mutations[prot_and_mutations.Mutation == \"Missense_Mutation\"] #get all missense_mutations\n",
    "wt = prot_and_mutations[prot_and_mutations.Mutation == \"Wildtype_Tumor\"] #get all wildtype mutations\n",
    "missense_med = missense.median() #get the medain of the missense. This will give the median expression among all samples, for each gene\n",
    "wt_med = wt.median() #get the median of the wildtype"
   ]
  },
  {
   "cell_type": "markdown",
   "metadata": {},
   "source": [
    "#### Get the medain difference between missense and wildtype for each gene.\n",
    "This is done by (for each gene) subtracting the median of the missense mutations from the median of the wildtype.\n",
    "This means that if the difference is positive the proteomics of the wildtype have higher expression than the missense mutation. If the difference is negative then the missense mutation has a higher expression than the wildtype."
   ]
  },
  {
   "cell_type": "code",
   "execution_count": null,
   "metadata": {},
   "outputs": [],
   "source": [
    "endo_d = {}\n",
    "\n",
    "for gene in prot_and_mutations:\n",
    "    if gene == \"Mutation\": continue\n",
    "    dif_endo =  missense_med[gene] - wt_med[gene]\n",
    "    endo_d[gene] = dif_endo\n",
    "\n",
    "median_diff = pd.DataFrame.from_dict(endo_d, orient='index', columns=['Difference_In_Median'])\n",
    "median_diff.head()"
   ]
  },
  {
   "cell_type": "code",
   "execution_count": null,
   "metadata": {},
   "outputs": [],
   "source": [
    "len(prot_and_mutations.loc[prot_and_mutations['Mutation']==\"Missense_Mutation\"])"
   ]
  },
  {
   "cell_type": "code",
   "execution_count": null,
   "metadata": {},
   "outputs": [],
   "source": [
    "prot_and_mutations"
   ]
  },
  {
   "cell_type": "code",
   "execution_count": null,
   "metadata": {},
   "outputs": [],
   "source": [
    "u.wrap_ttest(prot_and_mutations, 'Mutation')\n",
    "\n"
   ]
  },
  {
   "cell_type": "code",
   "execution_count": null,
   "metadata": {},
   "outputs": [],
   "source": [
    "import pandas as pd\n",
    "import numpy as np\n",
    "import scipy.stats\n",
    "import statsmodels.stats.multitest\n",
    "import operator\n",
    "import seaborn as sns\n",
    "import matplotlib.pyplot as plt\n",
    "import scipy.stats\n",
    "import gseapy as gp\n",
    "import re\n",
    "import sys \n",
    "\n",
    "import cptac\n",
    "import cptac.utils as u"
   ]
  },
  {
   "cell_type": "code",
   "execution_count": null,
   "metadata": {},
   "outputs": [],
   "source": [
    " prot_and_mutations[\"Mutation\"].unique()\n",
    "import pandas as pd\n",
    "import numpy as np\n",
    "import scipy.stats\n",
    "import statsmodels.stats.multitest\n",
    "import operator\n",
    "import seaborn as sns\n",
    "import matplotlib.pyplot as plt\n",
    "import scipy.stats\n",
    "import gseapy as gp\n",
    "import re\n",
    "import sys \n",
    "\n",
    "import cptac\n",
    "import cptac.utils as u\n"
   ]
  },
  {
   "cell_type": "code",
   "execution_count": null,
   "metadata": {},
   "outputs": [],
   "source": [
    "mincount = 30\n",
    "label_values = prot_and_mutations[\"Mutation\"].unique()\n",
    "\n",
    "'''Partition dataframe into two sets, one for each of the two unique values from the label column'''\n",
    "partition1 = prot_and_mutations.loc[prot_and_mutations[\"Mutation\"] == label_values[0]]\n",
    "partition2 = prot_and_mutations.loc[prot_and_mutations[\"Mutation\"] == label_values[1]]\n",
    "\n",
    "'''If no comparison columns specified, use all columns except the specified labed column'''\n",
    "comparison_columns = list(prot_and_mutations.columns)\n",
    "comparison_columns.remove(\"Mutation\")\n",
    "\n",
    "number_of_comparisons = len(comparison_columns)\n",
    "\n",
    "'''Store comparisons and p-values in two arrays'''\n",
    "comparisons = []\n",
    "pvals = []\n",
    "\n",
    "'''Loop through each comparison column, perform the t-test, and record the p-val'''\n",
    "times_through = 0\n",
    "for column in comparison_columns:  \n",
    "    if len(partition1[column].dropna(axis=0)) <= mincount:\n",
    "#         comparison_columns.remove(column)\n",
    "        continue\n",
    "    elif len(partition2[column].dropna(axis=0)) <= mincount:\n",
    "#         comparison_columns.remove(column)\n",
    "        continue\n",
    "    else:\n",
    "        stat, pval = scipy.stats.ttest_ind(partition1[column].dropna(axis=0), partition2[column].dropna(axis=0))\n",
    "        comparisons.append(column)\n",
    "        pvals.append(pval)\n",
    "    \n",
    "'''Correct for multiple testing to determine if each comparison meets the new cutoff'''\n",
    "results = statsmodels.stats.multitest.multipletests(pvals=pvals, alpha=.05, method='fdr_bh')\n",
    "reject = results[0]\n",
    "\n",
    "\n",
    "'''Format results in a pandas dataframe'''\n",
    "results_df = pd.DataFrame(columns=['Comparison','P_Value'])\n",
    "\n",
    "for i in range(0, len(reject)):\n",
    "    if reject[i]:\n",
    "        results_df = results_df.append({'Comparison':comparisons[i],'P_Value':pvals[i]}, ignore_index=True)\n",
    "\n",
    "\n",
    "'''Sort dataframe by ascending p-value'''\n",
    "results_df = results_df.sort_values(by='P_Value', ascending=True)\n",
    "results_df = results_df.reset_index(drop=True)"
   ]
  },
  {
   "cell_type": "code",
   "execution_count": null,
   "metadata": {},
   "outputs": [],
   "source": [
    "results_df"
   ]
  },
  {
   "cell_type": "code",
   "execution_count": null,
   "metadata": {},
   "outputs": [],
   "source": [
    "len(pvals)"
   ]
  },
  {
   "cell_type": "code",
   "execution_count": null,
   "metadata": {},
   "outputs": [],
   "source": [
    "import altair as alt\n",
    "alt.data_transformers.disable_max_rows()\n",
    "alt.data_transformers.enable('json')\n",
    "alt.Chart(pd.DataFrame({\"p_val\":pvals})).mark_bar().encode(\n",
    "    x=alt.X(\"p_val:Q\",bin=alt.Bin(step=0.05)),\n",
    "    y=\"count()\"\n",
    ")"
   ]
  },
  {
   "cell_type": "markdown",
   "metadata": {},
   "source": [
    "#### Do a t-test for every gene."
   ]
  },
  {
   "cell_type": "code",
   "execution_count": null,
   "metadata": {},
   "outputs": [],
   "source": [
    "genes = list(prot_and_mutations.columns[1:])\n",
    "t_test = u.wrap_ttest(prot_and_mutations, 'Mutation')\n",
    "# t_test = t_test.set_index('Comparison')\n",
    "t_test"
   ]
  },
  {
   "cell_type": "markdown",
   "metadata": {},
   "source": [
    "#### Join difference in median and t-test p value into the same dataframe"
   ]
  },
  {
   "cell_type": "code",
   "execution_count": null,
   "metadata": {},
   "outputs": [],
   "source": [
    "# Step 4 join median and p value together\n",
    "endo_df = median_diff.join(t_test)\n",
    "endo_df.head()"
   ]
  },
  {
   "cell_type": "markdown",
   "metadata": {},
   "source": [
    "# Brca\n",
    "The Brca data uses different database_IDs, giving us multiple proteomic values for each gene. To deal with this, we will first separate genes that have multiple proteomics values recoreded (multiple database_IDs) from ones that don't."
   ]
  },
  {
   "cell_type": "markdown",
   "metadata": {},
   "source": [
    "## Dealing with multiple database_IDs"
   ]
  },
  {
   "cell_type": "markdown",
   "metadata": {},
   "source": [
    "#### Separate genes with multiple database_IDs from genes with multiple database_IDs"
   ]
  },
  {
   "cell_type": "code",
   "execution_count": null,
   "metadata": {},
   "outputs": [],
   "source": [
    "proteomics = br.get_proteomics(tissue_type=\"tumor\")\n",
    "fil = proteomics.columns.get_level_values('Name').duplicated(False)\n",
    "duplicates = proteomics[proteomics.columns[fil]]\n",
    "no_duplicates = proteomics[proteomics.columns[~fil]]\n",
    "no_duplicates"
   ]
  },
  {
   "cell_type": "markdown",
   "metadata": {},
   "source": [
    "### Dealing with genes that don't have multiple database_IDs\n",
    "These will be processed the same way the data for endometrial was."
   ]
  },
  {
   "cell_type": "code",
   "execution_count": null,
   "metadata": {},
   "outputs": [],
   "source": [
    "#FOR NO DUPLICATES\n",
    "#Flatten the multiindex (since there are no duplicate gene names, this won't be a problem)\n",
    "no_duplicates = cptac.utils.reduce_multiindex(no_duplicates, flatten=True)\n",
    "\n",
    "#get mutation_tyoe\n",
    "mut_type = br.get_genotype_all_vars('PIK3CA')\n",
    "\n",
    "#join proteomics and mutation type\n",
    "joined = mut_type.join(no_duplicates)\n",
    "\n",
    "missense_mutations = joined.loc[joined[\"Mutation\"] == \"Missense_Mutation\"]\n",
    "wildtype  = joined.loc[joined.Mutation == \"Wildtype_Tumor\"]\n",
    "brca_missense = missense_mutations.append(wildtype)\n",
    "\n",
    "\n",
    "#drop unncessary columns\n",
    "prot_and_mutations = brca_missense.drop(columns = [\"Mutation_Status\", \"Location\"])\n",
    "\n",
    "# Get the difference in medians\n",
    "missense = prot_and_mutations[prot_and_mutations.Mutation == \"Missense_Mutation\"] #get all missense_mutations\n",
    "wt = prot_and_mutations[prot_and_mutations.Mutation == \"Wildtype_Tumor\"] #getn all wildtype\n",
    "missense_med = missense.median() #get the medain of the missense. This will give the median expression among all samples, for each gene\n",
    "wt_med = wt.median() #get the median of the wildtype\n",
    "\n",
    "\n",
    "no_dup_d = {}\n",
    "\n",
    "for prot in no_duplicates:\n",
    "    dif_brca = missense_med[prot] - wt_med[prot]\n",
    "    no_dup_d[prot] = dif_brca\n",
    "\n",
    "median_diff = pd.DataFrame.from_dict(no_dup_d, orient='index', columns=['Difference_In_Median'])\n",
    "\n",
    "#Do a t test for every gene and report the p-value\n",
    "genes = list(prot_and_mutations.columns[1:])\n",
    "t_test = u.wrap_ttest(prot_and_mutations, 'Mutation', correction_method=\"fdr_bh\")\n",
    "t_test = t_test.set_index('Comparison')\n",
    "\n",
    "#join median and p value together\n",
    "no_dup_df = median_diff.join(t_test)\n",
    "no_dup_df.head()"
   ]
  },
  {
   "cell_type": "markdown",
   "metadata": {},
   "source": [
    "## Dealing with genes that do have multiple database_IDs"
   ]
  },
  {
   "cell_type": "markdown",
   "metadata": {},
   "source": [
    "#### Get t-test results and median difference"
   ]
  },
  {
   "cell_type": "code",
   "execution_count": null,
   "metadata": {},
   "outputs": [],
   "source": [
    "#DEALING WITH DUPLICATES\n",
    "#flatten the multiindex\n",
    "duplicates = cptac.utils.reduce_multiindex(duplicates, flatten=True)\n",
    "\n",
    "# We need to figure which of databaseID we want to use, for each protein\n",
    "proteomics = br.get_proteomics(tissue_type=\"tumor\")\n",
    "fil = proteomics.columns.get_level_values('Name').duplicated(False)\n",
    "duplicates = proteomics[proteomics.columns[fil]]\n",
    "duplicate_gene_names = list(set(duplicates.columns.get_level_values('Name'))) #get a list of genes names that are duplicated\n",
    "duplicates = cptac.utils.reduce_multiindex(duplicates, flatten=True)\n",
    "duplicates\n",
    "\n",
    "#  Step 1 - Create dataframe in order to do comparisons with wrap_ttest\n",
    "\n",
    "mut_type = br.get_genotype_all_vars(\"PIK3CA\")\n",
    "\n",
    "\n",
    "joined = mut_type.join(duplicates)\n",
    "\n",
    "missense_mutations = joined.loc[joined[\"Mutation\"] == \"Missense_Mutation\"]\n",
    "wildtype  = joined.loc[joined.Mutation == \"Wildtype_Tumor\"]\n",
    "brca_missense = missense_mutations.append(wildtype)\n",
    "\n",
    "\n",
    "#drop unncessary columns\n",
    "prot_and_mutations = brca_missense.drop(columns = [\"Mutation_Status\", \"Location\"])\n",
    "\n",
    "\n",
    "# get the difference in medians\n",
    "missense = prot_and_mutations[prot_and_mutations.Mutation == \"Missense_Mutation\"] #get all missense_mutations\n",
    "wt = prot_and_mutations[prot_and_mutations.Mutation == \"Wildtype_Tumor\"] #getn all wildtype\n",
    "missense_med = missense.median() #get the medain of the missense. This will give the median expression among all samples, for each gene\n",
    "wt_med = wt.median() #get the median of the wildtype\n",
    "\n",
    "\n",
    "duplicates_d = {}\n",
    "\n",
    "for prot in duplicates:\n",
    "    dif_brca =  missense_med[prot] - wt_med[prot]\n",
    "    duplicates_d[prot] = dif_brca\n",
    "    \n",
    "\n",
    "median_diff = pd.DataFrame.from_dict(duplicates_d, orient='index', columns=['Difference_In_Median'])\n",
    "\n",
    "\n",
    "#step 3 do a t test for every gene and report the p-value\n",
    "cols = list(prot_and_mutations.columns[1:])\n",
    "t_test = u.wrap_ttest(prot_and_mutations, 'Mutation', correction_method=\"fdr_bh\")\n",
    "t_test = t_test.set_index('Comparison')\n",
    "\n",
    "# Step 4 join median and p value together\n",
    "dup_df = median_diff.join(t_test)\n",
    "dup_df.head()"
   ]
  },
  {
   "cell_type": "markdown",
   "metadata": {},
   "source": [
    "#### Select the database_ID that gives a lower p value from the t-test, and append selected database_ID to the no_duplicate dataframe"
   ]
  },
  {
   "cell_type": "code",
   "execution_count": null,
   "metadata": {},
   "outputs": [],
   "source": [
    "#for each duplicated gene name select the one with the min p val and append to no_duplicat df\n",
    "for name in duplicate_gene_names:\n",
    "    gene_duplicate = dup_df[dup_df.index.str.contains(name)]\n",
    "    #select the one with the min p value for t test\n",
    "    min_row = gene_duplicate[gene_duplicate.P_Value == gene_duplicate.P_Value.min()]\n",
    "    #append the selected version onto no_duplicate dataframe\n",
    "    no_dup_df=no_dup_df.append(min_row)\n",
    "no_dup_df=no_dup_df.sort_index()\n",
    "no_dup_df.head()"
   ]
  },
  {
   "cell_type": "markdown",
   "metadata": {},
   "source": [
    "#### Reformat the table by getting rid of databaseIDs so we can join it to Endo and Brca"
   ]
  },
  {
   "cell_type": "code",
   "execution_count": null,
   "metadata": {},
   "outputs": [],
   "source": [
    "split = no_dup_df.index.str.split('_', 1).str[0]\n",
    "no_dup_df['new_index']=split\n",
    "brca_df = no_dup_df.set_index(\"new_index\")\n",
    "brca_df.head()"
   ]
  },
  {
   "cell_type": "markdown",
   "metadata": {},
   "source": [
    "# Colon"
   ]
  },
  {
   "cell_type": "code",
   "execution_count": null,
   "metadata": {},
   "outputs": [],
   "source": [
    "#  Step 1 - Create dataframe in order to do comparisons with wrap_ttest\n",
    "proteomics = cl.get_proteomics(tissue_type=\"tumor\")\n",
    "\n",
    "prot_list = list(proteomics.columns)\n",
    "\n",
    "mut_type = cl.get_genotype_all_vars(\"PIK3CA\")\n",
    "\n",
    "\n",
    "joined = mut_type.join(proteomics)\n",
    "joined[\"Mutation\"] = joined['Mutation'].replace(['nonsynonymous SNV'], 'Missense_Mutation')\n",
    "\n",
    "\n",
    "#select samples containing hotspot mutations\n",
    "missense_mutations = joined.loc[joined[\"Mutation\"] == \"Missense_Mutation\"]\n",
    "wildtype  = joined.loc[joined.Mutation == \"Wildtype_Tumor\"]\n",
    "colon_missense = missense_mutations.append(wildtype)\n",
    "\n",
    "\n",
    "#drop unncessary columns\n",
    "prot_and_mutations = colon_missense.drop(columns = [\"Mutation_Status\", \"Location\"])\n",
    "\n",
    "\n",
    "#get the difference in medians\n",
    "missense = prot_and_mutations[prot_and_mutations.Mutation == \"nonsynonymous SNV\"] #get all missense_mutations\n",
    "wt = prot_and_mutations[prot_and_mutations.Mutation == \"Wildtype_Tumor\"] #getn all wildtype\n",
    "missense_med = missense.median() #get the medain of the missense. This will give the median expression among all samples, for each gene\n",
    "wt_med = wt.median() #get the median of the wildtype\n",
    "\n",
    "\n",
    "colon_d = {}\n",
    "\n",
    "for prot in proteomics:\n",
    "    dif_colon = missense_med[prot] - wt_med[prot]\n",
    "    colon_d[prot] = dif_colon\n",
    "\n",
    "median_diff = pd.DataFrame.from_dict(colon_d, orient='index', columns=['Difference_In_Median'])\n",
    "\n",
    "#do a t test for every gene and report the p-value\n",
    "cols = list(prot_and_mutations.columns[1:])\n",
    "t_test = u.wrap_ttest(prot_and_mutations, 'Mutation', correction_method=\"fdr_bh\")\n",
    "t_test = t_test.set_index('Comparison')\n",
    "\n",
    "#join median and p value together\n",
    "colon_df = median_diff.join(t_test)\n",
    "colon_df.head()"
   ]
  },
  {
   "cell_type": "markdown",
   "metadata": {},
   "source": [
    "# Combine Endo, Brca, and Colon into one table"
   ]
  },
  {
   "cell_type": "markdown",
   "metadata": {},
   "source": [
    "#### Combine brca and endo"
   ]
  },
  {
   "cell_type": "code",
   "execution_count": null,
   "metadata": {},
   "outputs": [],
   "source": [
    "brca_df=brca_df.rename_axis(None)\n",
    "brca_endo = brca_df.join(endo_df, lsuffix='_Brca', rsuffix='_Endo')\n",
    "brca_endo.head()"
   ]
  },
  {
   "cell_type": "markdown",
   "metadata": {},
   "source": [
    "#### Combine colon"
   ]
  },
  {
   "cell_type": "code",
   "execution_count": null,
   "metadata": {},
   "outputs": [],
   "source": [
    "final_table = brca_endo.join(colon_df, rsuffix='_colon')\n",
    "final_table.head()"
   ]
  },
  {
   "cell_type": "markdown",
   "metadata": {},
   "source": [
    "#### Only rows that contain a significant pvalue"
   ]
  },
  {
   "cell_type": "code",
   "execution_count": null,
   "metadata": {},
   "outputs": [],
   "source": [
    "significant = final_table.loc[(final_table['P_Value_Brca'] <= .05) |\n",
    "                (final_table['P_Value_Endo'] <= .05) |\n",
    "                (final_table['P_Value'] <= .05)]\n",
    "significant.head()"
   ]
  },
  {
   "cell_type": "code",
   "execution_count": null,
   "metadata": {},
   "outputs": [],
   "source": [
    "significant.to_csv(\"~/WhenMutationsDontMatter/PIK3CA/csv_files/proteomics_no_hotspots.csv\")"
   ]
  }
 ],
 "metadata": {
  "kernelspec": {
   "display_name": "Python 3",
   "language": "python",
   "name": "python3"
  },
  "language_info": {
   "codemirror_mode": {
    "name": "ipython",
    "version": 3
   },
   "file_extension": ".py",
   "mimetype": "text/x-python",
   "name": "python",
   "nbconvert_exporter": "python",
   "pygments_lexer": "ipython3",
   "version": "3.7.3"
  }
 },
 "nbformat": 4,
 "nbformat_minor": 2
}
