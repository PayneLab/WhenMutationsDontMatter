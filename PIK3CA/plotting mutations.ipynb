{
 "cells": [
  {
   "cell_type": "code",
   "execution_count": 2,
   "metadata": {},
   "outputs": [
    {
     "name": "stderr",
     "output_type": "stream",
     "text": [
      "cptac warning: Your version of cptac (0.7.0) is out-of-date. Latest is 0.7.1. Please run 'pip install --upgrade cptac' to update it. (/Users/hannahboekweg/anaconda3/lib/python3.7/site-packages/ipykernel_launcher.py, line 1)\n"
     ]
    }
   ],
   "source": [
    "import cptac\n",
    "import numpy as np\n",
    "import pandas as pd\n",
    "import numpy as np\n",
    "import seaborn as sns\n",
    "import matplotlib.pyplot as plt"
   ]
  },
  {
   "cell_type": "code",
   "execution_count": 8,
   "metadata": {},
   "outputs": [
    {
     "name": "stdout",
     "output_type": "stream",
     "text": [
      "Checking that index is up-to-date...\r"
     ]
    },
    {
     "name": "stderr",
     "output_type": "stream",
     "text": [
      "cptac warning: The LUAD dataset is under publication embargo until July 01, 2020. CPTAC is a community resource project and data are made available rapidly after generation for community research use. The embargo allows exploring and utilizing the data, but analysis may not be published until after the embargo date. Please see https://proteomics.cancer.gov/data-portal/about/data-use-agreement or enter cptac.embargo() to open the webpage for more details. (/Users/hannahboekweg/anaconda3/lib/python3.7/site-packages/ipykernel_launcher.py, line 3)\n"
     ]
    },
    {
     "name": "stdout",
     "output_type": "stream",
     "text": [
      "Checking that index is up-to-date...\r"
     ]
    },
    {
     "name": "stderr",
     "output_type": "stream",
     "text": [
      "cptac warning: The GBM dataset is under publication embargo until March 01, 2021. CPTAC is a community resource project and data are made available rapidly after generation for community research use. The embargo allows exploring and utilizing the data, but analysis may not be published until after the embargo date. Please see https://proteomics.cancer.gov/data-portal/about/data-use-agreement or enter cptac.embargo() to open the webpage for more details. (/Users/hannahboekweg/anaconda3/lib/python3.7/site-packages/ipykernel_launcher.py, line 7)\n"
     ]
    },
    {
     "name": "stdout",
     "output_type": "stream",
     "text": [
      "                                    \r"
     ]
    }
   ],
   "source": [
    "en = cptac.Endometrial()\n",
    "hn = cptac.Hnscc()\n",
    "l = cptac.Luad()\n",
    "o = cptac.Ovarian()\n",
    "c = cptac.Ccrcc()\n",
    "col = cptac.Colon()\n",
    "g = cptac.Gbm()\n",
    "b = cptac.Brca()"
   ]
  },
  {
   "cell_type": "code",
   "execution_count": 10,
   "metadata": {
    "scrolled": true
   },
   "outputs": [
    {
     "name": "stderr",
     "output_type": "stream",
     "text": [
      "cptac warning: In joining the somatic_mutation table, no mutations were found for the following samples, so they were filled with Wildtype_Tumor or Wildtype_Normal: 48 samples for the PIK3CA gene (/Users/hannahboekweg/cptac/cptac/dataset.py, line 382)\n",
      "cptac warning: In joining the somatic_mutation table, no mutations were found for the following samples, so they were filled with Wildtype_Tumor or Wildtype_Normal: 89 samples for the PIK3CA gene (/Users/hannahboekweg/cptac/cptac/dataset.py, line 382)\n",
      "cptac warning: CNV data was not found for the following samples, so CNV data columns were filled with NaN for these samples: C3L-01834 (/Users/hannahboekweg/cptac/cptac/dataset.py, line 382)\n",
      "cptac warning: In joining the somatic_mutation table, no mutations were found for the following samples, so they were filled with Wildtype_Tumor or Wildtype_Normal: 100 samples for the PIK3CA gene (/Users/hannahboekweg/cptac/cptac/dataset.py, line 382)\n",
      "cptac warning: CNV data was not found for the following samples, so CNV data columns were filled with NaN for these samples: C3L-02617, C3N-02727 (/Users/hannahboekweg/cptac/cptac/dataset.py, line 382)\n",
      "cptac warning: In joining the somatic_mutation table, no mutations were found for the following samples, so they were filled with Wildtype_Tumor or Wildtype_Normal: 97 samples for the PIK3CA gene (/Users/hannahboekweg/cptac/cptac/dataset.py, line 382)\n",
      "cptac warning: CNV data was not found for the following samples, so CNV data columns were filled with NaN for these samples: 01OV029, 02OV015 (/Users/hannahboekweg/cptac/cptac/dataset.py, line 382)\n",
      "cptac warning: In joining the somatic_mutation table, no mutations were found for the following samples, so they were filled with Wildtype_Tumor or Wildtype_Normal: 106 samples for the PIK3CA gene (/Users/hannahboekweg/cptac/cptac/dataset.py, line 382)\n",
      "cptac warning: In joining the somatic_mutation table, no mutations were found for the following samples, so they were filled with Wildtype_Tumor or Wildtype_Normal: 82 samples for the PIK3CA gene (/Users/hannahboekweg/cptac/cptac/dataset.py, line 382)\n",
      "cptac warning: CNV data was not found for the following samples, so CNV data columns were filled with NaN for these samples: 05CO045 (/Users/hannahboekweg/cptac/cptac/dataset.py, line 382)\n",
      "cptac warning: In joining the somatic_mutation table, no mutations were found for the following samples, so they were filled with Wildtype_Tumor or Wildtype_Normal: 106 samples for the PIK3CA gene (/Users/hannahboekweg/cptac/cptac/dataset.py, line 382)\n",
      "cptac warning: In joining the somatic_mutation table, no mutations were found for the following samples, so they were filled with Wildtype_Tumor or Wildtype_Normal: 83 samples for the PIK3CA gene (/Users/hannahboekweg/cptac/cptac/dataset.py, line 382)\n"
     ]
    }
   ],
   "source": [
    "endo = en.get_genotype_all_vars(\"PIK3CA\")\n",
    "gbm = g.get_genotype_all_vars(\"PIK3CA\")\n",
    "hnscc = hn.get_genotype_all_vars(\"PIK3CA\")\n",
    "ovar = o.get_genotype_all_vars(\"PIK3CA\")\n",
    "cc = c.get_genotype_all_vars(\"PIK3CA\")\n",
    "colon = col.get_genotype_all_vars(\"PIK3CA\")\n",
    "ld = l.get_genotype_all_vars(\"PIK3CA\")\n",
    "brca = b.get_genotype_all_vars(\"PIK3CA\")\n"
   ]
  },
  {
   "cell_type": "code",
   "execution_count": 14,
   "metadata": {},
   "outputs": [],
   "source": [
    "# m = b.get_somatic_mutation()\n",
    "# s = m.loc[m[\"Gene\"]==\"PTEN\"]\n",
    "# s.loc[s.index == \"CPT000814\"]\n"
   ]
  },
  {
   "cell_type": "code",
   "execution_count": 15,
   "metadata": {},
   "outputs": [],
   "source": [
    "# cnv = b.get_CNV()\n",
    "# cn = b.reduce_multiindex(cnv, levels_to_drop=\"Database_ID\")\n",
    "# cn = cn[['PTEN']]\n",
    "# cn.loc[cn.index=='CPT000814']"
   ]
  },
  {
   "cell_type": "code",
   "execution_count": 18,
   "metadata": {},
   "outputs": [],
   "source": [
    "def plot_mutations(dflist = None, names_of_df=None):\n",
    "    number_of_df = len(dflist)\n",
    "    \n",
    "    allLabels = []\n",
    "    for df in dflist:\n",
    "        #get the labels for each and make a combined label that they'll all use\n",
    "        mutation = df[\"Mutation\"]\n",
    "        labels = set(mutation)\n",
    "        allLabels.append(labels)\n",
    "    \n",
    "    flat_list = [item for sublist in allLabels for item in sublist]\n",
    "    all_labels = list(set(flat_list))\n",
    "    all_labels.sort()\n",
    "    allLabels = all_labels\n",
    "    \n",
    "#     For each df, add na to their labels if it doesn't exist in all_labels\n",
    "    labels_for_each_df = []\n",
    "    frequencies_for_each_df = []\n",
    "    for df in dflist:\n",
    "        mutation = df[\"Mutation\"].tolist()\n",
    "        mutationlist = list(set(mutation))\n",
    "        mutationlist.sort()\n",
    "        ordered_mut_list = []\n",
    "        match = True\n",
    "        mutPosition = 0\n",
    "        \n",
    "        for position in range(len(all_labels)):\n",
    "            try:\n",
    "                \n",
    "                if mutationlist[mutPosition] == all_labels[position]:\n",
    "                    ordered_mut_list.append(mutationlist[mutPosition])\n",
    "                    mutPosition += 1\n",
    "\n",
    "                else:\n",
    "                    ordered_mut_list.append(\"na\")\n",
    "\n",
    "            except IndexError:  \n",
    "                ordered_mut_list.append(\"na\")\n",
    "       \n",
    "        \n",
    "        labels_for_each_df.append(ordered_mut_list)\n",
    "\n",
    "        #get the freq of each mutation type\n",
    "        freq = []\n",
    "        for mutation_type in ordered_mut_list:\n",
    "            freq.append(mutation.count(mutation_type))\n",
    "\n",
    "        PercentFreq = [x*100 / sum(freq) for x in freq]\n",
    "        frequencies_for_each_df.append(PercentFreq)\n",
    "        \n",
    "        \n",
    "#     import pdb; pdb.set_trace()\n",
    "    #Now plot it using arrays\n",
    "    width = 0.1\n",
    "    x = np.arange(len(allLabels))\n",
    "    a4_dims = (13, 10) #dimensions for bigger plot\n",
    "    fig, ax = plt.subplots(figsize=a4_dims)\n",
    "    for position in range(0, number_of_df):\n",
    "        r = ax.bar(x+(width*position), frequencies_for_each_df[position], width,label=names_of_df[position], alpha=.5, linewidth=0)\n",
    "\n",
    "\n",
    "\n",
    "    ax.set_ylabel('Percent Sample')\n",
    "    ax.set_title('Mutation Frequency and Effect')\n",
    "    ax.set_xticks(x)\n",
    "    ax.set_xticklabels(allLabels)\n",
    "    ax.legend()\n",
    "    \n",
    "\n",
    "\n",
    "\n",
    "    fig.tight_layout()\n",
    "    plt.setp(ax.get_xticklabels(),rotation='vertical')\n",
    "    plt.show()\n",
    "    "
   ]
  },
  {
   "cell_type": "code",
   "execution_count": 19,
   "metadata": {},
   "outputs": [
    {
     "data": {
      "image/png": "[encoded data removed]",
      "text/plain": [
       "<Figure size 936x720 with 1 Axes>"
      ]
     },
     "metadata": {
      "needs_background": "light"
     },
     "output_type": "display_data"
    }
   ],
   "source": [
    "dfs = [endo, gbm, hnscc, ovar, cc, colon, ld, brca]\n",
    "names = ['endo', 'gbm', 'hnscc', 'ovar', 'cc', 'colon', 'ld', 'brca']\n",
    "plot_mutations(dfs, names)"
   ]
  },
  {
   "cell_type": "code",
   "execution_count": null,
   "metadata": {},
   "outputs": [],
   "source": []
  },
  {
   "cell_type": "code",
   "execution_count": null,
   "metadata": {},
   "outputs": [],
   "source": [
    "import pandas as pd\n",
    "import numpy as np\n",
    "import matplotlib.pyplot as plt\n",
    "import seaborn as sns"
   ]
  },
  {
   "cell_type": "code",
   "execution_count": 5,
   "metadata": {},
   "outputs": [
    {
     "data": {
      "text/plain": [
       "Name\n",
       "Mutation    95\n",
       "dtype: int64"
      ]
     },
     "execution_count": 5,
     "metadata": {},
     "output_type": "execute_result"
    }
   ],
   "source": [
    "#we need to plot cis effects\n",
    "allLabels = []\n",
    "mutation = endo[\"Mutation\"]\n",
    "labels = set(mutation)\n",
    "allLabels.append(labels)\n",
    "\n",
    "flat_list = [item for sublist in allLabels for item in sublist]\n",
    "all_labels = list(set(flat_list))\n",
    "all_labels.sort()\n",
    "allLabels = all_labels\n",
    "\n",
    "labels_for_each_df = []\n",
    "frequencies_for_each_df = []\n",
    "\n",
    "mutationlist = endo[\"Mutation\"].unique()\n",
    "mutationlist.sort()\n",
    "ordered_mut_list = []\n",
    "match = True\n",
    "mutPosition = 0\n",
    "\n",
    "for position in range(len(all_labels)):\n",
    "            try:\n",
    "                \n",
    "                if mutationlist[mutPosition] == all_labels[position]:\n",
    "                    ordered_mut_list.append(mutationlist[mutPosition])\n",
    "                    mutPosition += 1\n",
    "\n",
    "                else:\n",
    "                    ordered_mut_list.append(\"na\")\n",
    "\n",
    "            except IndexError:  \n",
    "                ordered_mut_list.append(\"na\")\n",
    "                \n",
    "labels_for_each_df.append(ordered_mut_list)\n",
    "\n",
    "#get the freq of each mutation type\n",
    "freq = []\n",
    "endo[['Mutation']].count()\n",
    "# import pdb; pdb.set_trace()\n",
    "# for mutation_type in ordered_mut_list:\n",
    "#     freq.append(endo['Mutation'].count)\n",
    "#     freq.append(endo['Mutation'].count(mutation_type))\n",
    "\n",
    "# PercentFreq = [x*100 / sum(freq) for x in freq]\n",
    "# frequencies_for_each_df.append(PercentFreq)"
   ]
  },
  {
   "cell_type": "code",
   "execution_count": null,
   "metadata": {},
   "outputs": [],
   "source": [
    "#making it a function\n",
    "def mutation_type_abundance(df, gene):\n",
    "    #get the somatic_mutation df\n",
    "    somatic_mutations = df.get_somatic_mutation()\n",
    "    omics_mutations = df.join_omics_to_mutations(omics_df_name=\"proteomics\", mutations_genes=gene, \n",
    "                                             omics_genes=gene, mutations_filter=[])\n",
    "    #if it's Ccrcc or Ovarian we need to reduce the multiindex\n",
    "    if isinstance(df, cptac.Ovarian) or isinstance(df, cptac.Ccrcc):\n",
    "        omics_mutations = df.reduce_multiindex(df=omics_mutations, levels_to_drop=\"Database_ID\")\n",
    "\n",
    "    #filter out the normal \n",
    "    mutation = omics_mutations.loc[omics_mutations['Sample_Status'] == \"Tumor\"]\n",
    "    mutations = mutation.drop(columns=[gene+\"_Mutation\", gene+\"_Location\", gene+\"_Mutation_Status\", \"Sample_Status\"])\n",
    "    \n",
    "    mutation_types_df = df.get_genotype_all_vars(gene)\n",
    "    mutation_types_df['Mutation'] = [','.join(map(str, l)) for l in mutation_types_df['Mutation']]\n",
    "    plotting_df = pd.concat([mutation_types_df, mutations], axis=1)\n",
    "    \n",
    "    #sort the df so that the same mutations will show up for every tumor type\n",
    "    plotting_df = plotting_df.sort_values('Mutation')\n",
    "    \n",
    "    a4_dims = (11.7, 8.27) #dimensions for bigger plot\n",
    "    fig, ax = plt.subplots(figsize=a4_dims)\n",
    "\n",
    "    somatic_boxplot = sns.boxplot(data=plotting_df, x=\"Mutation\",y=gene +\"_proteomics\", ax = ax) \n",
    "                                            # order parameter is used to reorder the mutation categories \n",
    "            \n",
    "    somatic_boxplot.set_title(\"PIK3CA gene mutation protein abundance\")\n",
    "    somatic_boxplot = sns.stripplot(data=plotting_df, x=\"Mutation\",y=gene +\"_proteomics\",jitter=True, \n",
    "                                    color=\".3\")\n",
    "    somatic_boxplot.set(xlabel=\"Somatic Gene Mutation\",ylabel=\"Proteomics\")\n",
    "    somatic_boxplot.set_xticklabels(somatic_boxplot.get_xticklabels(),rotation=30) # Rotate labels to avoid overlap\n",
    "    plt.show()\n",
    "    \n",
    "    \n",
    "\n"
   ]
  },
  {
   "cell_type": "code",
   "execution_count": null,
   "metadata": {},
   "outputs": [],
   "source": [
    "mutation_type_abundance(en, \"PIK3CA\")"
   ]
  },
  {
   "cell_type": "code",
   "execution_count": null,
   "metadata": {},
   "outputs": [],
   "source": [
    "mutation_type_abundance(g, \"PIK3CA\")"
   ]
  },
  {
   "cell_type": "code",
   "execution_count": null,
   "metadata": {},
   "outputs": [],
   "source": [
    "mutation_type_abundance(hn, \"PIK3CA\")"
   ]
  },
  {
   "cell_type": "code",
   "execution_count": null,
   "metadata": {},
   "outputs": [],
   "source": [
    "mutation_type_abundance(o, \"PIK3CA\")"
   ]
  },
  {
   "cell_type": "code",
   "execution_count": null,
   "metadata": {},
   "outputs": [],
   "source": [
    "mutation_type_abundance(c, \"PIK3CA\")"
   ]
  },
  {
   "cell_type": "markdown",
   "metadata": {},
   "source": [
    "# Phosphoproteomics"
   ]
  },
  {
   "cell_type": "code",
   "execution_count": null,
   "metadata": {},
   "outputs": [],
   "source": []
  },
  {
   "cell_type": "code",
   "execution_count": null,
   "metadata": {},
   "outputs": [],
   "source": []
  }
 ],
 "metadata": {
  "kernelspec": {
   "display_name": "Python 3",
   "language": "python",
   "name": "python3"
  },
  "language_info": {
   "codemirror_mode": {
    "name": "ipython",
    "version": 3
   },
   "file_extension": ".py",
   "mimetype": "text/x-python",
   "name": "python",
   "nbconvert_exporter": "python",
   "pygments_lexer": "ipython3",
   "version": "3.7.3"
  }
 },
 "nbformat": 4,
 "nbformat_minor": 2
}
