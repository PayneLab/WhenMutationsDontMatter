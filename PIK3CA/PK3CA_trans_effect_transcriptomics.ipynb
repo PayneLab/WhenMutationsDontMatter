{
 "cells": [
  {
   "cell_type": "markdown",
   "metadata": {},
   "source": [
    "# PIK3CA trans effect anaylsis: transcriptomics  "
   ]
  },
  {
   "cell_type": "markdown",
   "metadata": {},
   "source": [
    "This notebook performs t-tests of transcriptomic abundance between PIK3CA hotspot mutations (E542K,E545K,and H1047R)and wildtype tumors (no PIK3CA mutation of any kind) for proteins within th PI3K-AKT wiki pathway.  "
   ]
  },
  {
   "cell_type": "code",
   "execution_count": 1,
   "metadata": {},
   "outputs": [
    {
     "name": "stderr",
     "output_type": "stream",
     "text": [
      "/Users/Lindsey/anaconda3/lib/python3.7/site-packages/statsmodels/tools/_testing.py:19: FutureWarning: pandas.util.testing is deprecated. Use the functions in the public API at pandas.testing instead.\n",
      "  import pandas.util.testing as tm\n"
     ]
    }
   ],
   "source": [
    "import pandas as pd\n",
    "import numpy as np\n",
    "import seaborn as sns\n",
    "import scipy.stats\n",
    "import matplotlib.pyplot as plt\n",
    "import sys \n",
    "import re\n",
    "import cptac\n",
    "import statsmodels.stats.multitest\n",
    "import operator\n",
    "import cptac.utils as u\n",
    "import warnings\n",
    "warnings.filterwarnings('ignore')"
   ]
  },
  {
   "cell_type": "code",
   "execution_count": 2,
   "metadata": {},
   "outputs": [
    {
     "name": "stdout",
     "output_type": "stream",
     "text": [
      "                                                \r"
     ]
    }
   ],
   "source": [
    "br = cptac.Brca()\n",
    "endo = cptac.Endometrial()\n",
    "col = cptac.Colon()"
   ]
  },
  {
   "cell_type": "code",
   "execution_count": 3,
   "metadata": {},
   "outputs": [
    {
     "data": {
      "text/plain": [
       "'0.8.5'"
      ]
     },
     "execution_count": 3,
     "metadata": {},
     "output_type": "execute_result"
    }
   ],
   "source": [
    "#cptac version\n",
    "cptac.version()"
   ]
  },
  {
   "cell_type": "code",
   "execution_count": 6,
   "metadata": {},
   "outputs": [],
   "source": [
    "prot = u.get_proteins_in_pathways('PI3K-Akt Signaling Pathway', 'wikipathways')\n",
    "proteins = list(prot.member)\n",
    "\n",
    "prot_list = [prot + \"_transcriptomics\" for prot in proteins]\n",
    "prot_list.append(\"PIK3CA_Mutation\")\n",
    "prot_list.append(\"PIK3CA_Location\")\n"
   ]
  },
  {
   "cell_type": "code",
   "execution_count": 7,
   "metadata": {},
   "outputs": [],
   "source": [
    "def rename_duplicate_cols(df):\n",
    "    cols = pd.Series(df.columns[:])\n",
    "\n",
    "    for dup in cols[cols.duplicated()].unique(): \n",
    "        cols[cols[cols == dup].index.values.tolist()] = [dup + '_' + str(i) if i != 0 else dup for i in range(sum(cols == dup))]\n",
    "\n",
    "    # rename the columns with the cols list.\n",
    "    df.columns=cols\n",
    "    return df"
   ]
  },
  {
   "cell_type": "code",
   "execution_count": 15,
   "metadata": {},
   "outputs": [],
   "source": [
    "def get_trans_results(cancer, prot_list):\n",
    "    rna = cancer.join_omics_to_mutations(omics_df_name = \"transcriptomics\",mutations_genes=\"PIK3CA\", tissue_type=\"tumor\")\n",
    "\n",
    "    genefilter = rna.columns.get_level_values(\"Name\").isin(prot_list)\n",
    "    rna_pik3ca = rna[rna.columns[genefilter]]\n",
    "    rna_pik3ca['PIK3CA_Mutation'] = [','.join(map(str, l)) for l in rna_pik3ca['PIK3CA_Mutation']]\n",
    "    rna_pik3ca['PIK3CA_Location'] = [','.join(map(str, l)) for l in rna_pik3ca['PIK3CA_Location']]\n",
    "    rna_pik3ca  = rename_duplicate_cols(rna_pik3ca)\n",
    "    hotspot = rna_pik3ca[(rna_pik3ca.PIK3CA_Location.str.contains('E542K'))| \n",
    "                    rna_pik3ca.PIK3CA_Location.str.contains('E545K')| \n",
    "                    rna_pik3ca.PIK3CA_Location.str.contains('H1047R')]\n",
    "    hotspot[\"PIK3CA_Mutation\"] = \"Hotspot\"\n",
    "    wt = rna_pik3ca[(rna_pik3ca.PIK3CA_Mutation.str.contains('Wildtype'))]\n",
    "    hotspot_wt = pd.concat([hotspot, wt])\n",
    "    cols = hotspot_wt.columns.to_list()\n",
    "    cols.remove(\"PIK3CA_Mutation\")\n",
    "    cols.remove(\"PIK3CA_Location\")\n",
    "    rna_pval = u.wrap_ttest(hotspot_wt, 'PIK3CA_Mutation', cols,return_all=True, pval_return_corrected= True, correction_method= \"FDR_bh\")\n",
    "    return rna_pval\n",
    "    "
   ]
  },
  {
   "cell_type": "markdown",
   "metadata": {},
   "source": [
    "# Brca"
   ]
  },
  {
   "cell_type": "code",
   "execution_count": 9,
   "metadata": {},
   "outputs": [
    {
     "data": {
      "text/html": [
       "<div>\n",
       "<style scoped>\n",
       "    .dataframe tbody tr th:only-of-type {\n",
       "        vertical-align: middle;\n",
       "    }\n",
       "\n",
       "    .dataframe tbody tr th {\n",
       "        vertical-align: top;\n",
       "    }\n",
       "\n",
       "    .dataframe thead th {\n",
       "        text-align: right;\n",
       "    }\n",
       "</style>\n",
       "<table border=\"1\" class=\"dataframe\">\n",
       "  <thead>\n",
       "    <tr style=\"text-align: right;\">\n",
       "      <th></th>\n",
       "      <th>Comparison</th>\n",
       "      <th>P_Value</th>\n",
       "    </tr>\n",
       "  </thead>\n",
       "  <tbody>\n",
       "    <tr>\n",
       "      <th>0</th>\n",
       "      <td>COL4A5_transcriptomics</td>\n",
       "      <td>0.262590</td>\n",
       "    </tr>\n",
       "    <tr>\n",
       "      <th>1</th>\n",
       "      <td>COL4A6_transcriptomics</td>\n",
       "      <td>0.383544</td>\n",
       "    </tr>\n",
       "    <tr>\n",
       "      <th>2</th>\n",
       "      <td>HGF_transcriptomics</td>\n",
       "      <td>0.383544</td>\n",
       "    </tr>\n",
       "    <tr>\n",
       "      <th>3</th>\n",
       "      <td>BCR_transcriptomics</td>\n",
       "      <td>0.383544</td>\n",
       "    </tr>\n",
       "    <tr>\n",
       "      <th>4</th>\n",
       "      <td>CDK2_transcriptomics</td>\n",
       "      <td>0.383544</td>\n",
       "    </tr>\n",
       "    <tr>\n",
       "      <th>...</th>\n",
       "      <td>...</td>\n",
       "      <td>...</td>\n",
       "    </tr>\n",
       "    <tr>\n",
       "      <th>303</th>\n",
       "      <td>FGF9_transcriptomics</td>\n",
       "      <td>0.996510</td>\n",
       "    </tr>\n",
       "    <tr>\n",
       "      <th>304</th>\n",
       "      <td>SGK1_transcriptomics</td>\n",
       "      <td>0.998960</td>\n",
       "    </tr>\n",
       "    <tr>\n",
       "      <th>305</th>\n",
       "      <td>CDK4_transcriptomics</td>\n",
       "      <td>0.998960</td>\n",
       "    </tr>\n",
       "    <tr>\n",
       "      <th>306</th>\n",
       "      <td>PDGFB_transcriptomics</td>\n",
       "      <td>0.998960</td>\n",
       "    </tr>\n",
       "    <tr>\n",
       "      <th>307</th>\n",
       "      <td>EIF4E2_transcriptomics</td>\n",
       "      <td>0.998960</td>\n",
       "    </tr>\n",
       "  </tbody>\n",
       "</table>\n",
       "<p>308 rows × 2 columns</p>\n",
       "</div>"
      ],
      "text/plain": [
       "                 Comparison   P_Value\n",
       "0    COL4A5_transcriptomics  0.262590\n",
       "1    COL4A6_transcriptomics  0.383544\n",
       "2       HGF_transcriptomics  0.383544\n",
       "3       BCR_transcriptomics  0.383544\n",
       "4      CDK2_transcriptomics  0.383544\n",
       "..                      ...       ...\n",
       "303    FGF9_transcriptomics  0.996510\n",
       "304    SGK1_transcriptomics  0.998960\n",
       "305    CDK4_transcriptomics  0.998960\n",
       "306   PDGFB_transcriptomics  0.998960\n",
       "307  EIF4E2_transcriptomics  0.998960\n",
       "\n",
       "[308 rows x 2 columns]"
      ]
     },
     "execution_count": 9,
     "metadata": {},
     "output_type": "execute_result"
    }
   ],
   "source": [
    "brca_results = get_trans_results(br,prot_list)\n",
    "brca_results"
   ]
  },
  {
   "cell_type": "markdown",
   "metadata": {},
   "source": [
    "# Endo"
   ]
  },
  {
   "cell_type": "code",
   "execution_count": 16,
   "metadata": {},
   "outputs": [
    {
     "data": {
      "text/html": [
       "<div>\n",
       "<style scoped>\n",
       "    .dataframe tbody tr th:only-of-type {\n",
       "        vertical-align: middle;\n",
       "    }\n",
       "\n",
       "    .dataframe tbody tr th {\n",
       "        vertical-align: top;\n",
       "    }\n",
       "\n",
       "    .dataframe thead th {\n",
       "        text-align: right;\n",
       "    }\n",
       "</style>\n",
       "<table border=\"1\" class=\"dataframe\">\n",
       "  <thead>\n",
       "    <tr style=\"text-align: right;\">\n",
       "      <th></th>\n",
       "      <th>Comparison</th>\n",
       "      <th>P_Value</th>\n",
       "    </tr>\n",
       "  </thead>\n",
       "  <tbody>\n",
       "    <tr>\n",
       "      <th>0</th>\n",
       "      <td>IFNB1_transcriptomics</td>\n",
       "      <td>0.402600</td>\n",
       "    </tr>\n",
       "    <tr>\n",
       "      <th>1</th>\n",
       "      <td>AKT1_transcriptomics</td>\n",
       "      <td>0.995599</td>\n",
       "    </tr>\n",
       "    <tr>\n",
       "      <th>2</th>\n",
       "      <td>MAP2K2_transcriptomics</td>\n",
       "      <td>0.995599</td>\n",
       "    </tr>\n",
       "    <tr>\n",
       "      <th>3</th>\n",
       "      <td>MAP2K1_transcriptomics</td>\n",
       "      <td>0.995599</td>\n",
       "    </tr>\n",
       "    <tr>\n",
       "      <th>4</th>\n",
       "      <td>LPAR6_transcriptomics</td>\n",
       "      <td>0.995599</td>\n",
       "    </tr>\n",
       "    <tr>\n",
       "      <th>...</th>\n",
       "      <td>...</td>\n",
       "      <td>...</td>\n",
       "    </tr>\n",
       "    <tr>\n",
       "      <th>333</th>\n",
       "      <td>FGFR4_transcriptomics</td>\n",
       "      <td>0.995599</td>\n",
       "    </tr>\n",
       "    <tr>\n",
       "      <th>334</th>\n",
       "      <td>G6PC_transcriptomics</td>\n",
       "      <td>0.995599</td>\n",
       "    </tr>\n",
       "    <tr>\n",
       "      <th>335</th>\n",
       "      <td>VWF_transcriptomics</td>\n",
       "      <td>0.995599</td>\n",
       "    </tr>\n",
       "    <tr>\n",
       "      <th>336</th>\n",
       "      <td>TLR2_transcriptomics</td>\n",
       "      <td>0.996988</td>\n",
       "    </tr>\n",
       "    <tr>\n",
       "      <th>337</th>\n",
       "      <td>PIK3AP1_transcriptomics</td>\n",
       "      <td>0.997073</td>\n",
       "    </tr>\n",
       "  </tbody>\n",
       "</table>\n",
       "<p>338 rows × 2 columns</p>\n",
       "</div>"
      ],
      "text/plain": [
       "                  Comparison   P_Value\n",
       "0      IFNB1_transcriptomics  0.402600\n",
       "1       AKT1_transcriptomics  0.995599\n",
       "2     MAP2K2_transcriptomics  0.995599\n",
       "3     MAP2K1_transcriptomics  0.995599\n",
       "4      LPAR6_transcriptomics  0.995599\n",
       "..                       ...       ...\n",
       "333    FGFR4_transcriptomics  0.995599\n",
       "334     G6PC_transcriptomics  0.995599\n",
       "335      VWF_transcriptomics  0.995599\n",
       "336     TLR2_transcriptomics  0.996988\n",
       "337  PIK3AP1_transcriptomics  0.997073\n",
       "\n",
       "[338 rows x 2 columns]"
      ]
     },
     "execution_count": 16,
     "metadata": {},
     "output_type": "execute_result"
    }
   ],
   "source": [
    "Endo_results = get_trans_results(endo,prot_list)\n",
    "Endo_results\n"
   ]
  },
  {
   "cell_type": "markdown",
   "metadata": {},
   "source": [
    "# Colon "
   ]
  },
  {
   "cell_type": "code",
   "execution_count": 17,
   "metadata": {},
   "outputs": [
    {
     "data": {
      "text/html": [
       "<div>\n",
       "<style scoped>\n",
       "    .dataframe tbody tr th:only-of-type {\n",
       "        vertical-align: middle;\n",
       "    }\n",
       "\n",
       "    .dataframe tbody tr th {\n",
       "        vertical-align: top;\n",
       "    }\n",
       "\n",
       "    .dataframe thead th {\n",
       "        text-align: right;\n",
       "    }\n",
       "</style>\n",
       "<table border=\"1\" class=\"dataframe\">\n",
       "  <thead>\n",
       "    <tr style=\"text-align: right;\">\n",
       "      <th></th>\n",
       "      <th>Comparison</th>\n",
       "      <th>P_Value</th>\n",
       "    </tr>\n",
       "  </thead>\n",
       "  <tbody>\n",
       "    <tr>\n",
       "      <th>0</th>\n",
       "      <td>ITGB3_transcriptomics</td>\n",
       "      <td>0.199389</td>\n",
       "    </tr>\n",
       "    <tr>\n",
       "      <th>1</th>\n",
       "      <td>IL4R_transcriptomics</td>\n",
       "      <td>0.199389</td>\n",
       "    </tr>\n",
       "    <tr>\n",
       "      <th>2</th>\n",
       "      <td>LAMB3_transcriptomics</td>\n",
       "      <td>0.199389</td>\n",
       "    </tr>\n",
       "    <tr>\n",
       "      <th>3</th>\n",
       "      <td>PPP2R5C_transcriptomics</td>\n",
       "      <td>0.199389</td>\n",
       "    </tr>\n",
       "    <tr>\n",
       "      <th>4</th>\n",
       "      <td>CDK4_transcriptomics</td>\n",
       "      <td>0.199389</td>\n",
       "    </tr>\n",
       "    <tr>\n",
       "      <th>...</th>\n",
       "      <td>...</td>\n",
       "      <td>...</td>\n",
       "    </tr>\n",
       "    <tr>\n",
       "      <th>232</th>\n",
       "      <td>GNG2_transcriptomics</td>\n",
       "      <td>0.987884</td>\n",
       "    </tr>\n",
       "    <tr>\n",
       "      <th>233</th>\n",
       "      <td>PIK3R5_transcriptomics</td>\n",
       "      <td>0.987884</td>\n",
       "    </tr>\n",
       "    <tr>\n",
       "      <th>234</th>\n",
       "      <td>IL2RA_transcriptomics</td>\n",
       "      <td>0.987884</td>\n",
       "    </tr>\n",
       "    <tr>\n",
       "      <th>235</th>\n",
       "      <td>SGK2_transcriptomics</td>\n",
       "      <td>0.987884</td>\n",
       "    </tr>\n",
       "    <tr>\n",
       "      <th>236</th>\n",
       "      <td>EFNA2_transcriptomics</td>\n",
       "      <td>0.987884</td>\n",
       "    </tr>\n",
       "  </tbody>\n",
       "</table>\n",
       "<p>237 rows × 2 columns</p>\n",
       "</div>"
      ],
      "text/plain": [
       "                  Comparison   P_Value\n",
       "0      ITGB3_transcriptomics  0.199389\n",
       "1       IL4R_transcriptomics  0.199389\n",
       "2      LAMB3_transcriptomics  0.199389\n",
       "3    PPP2R5C_transcriptomics  0.199389\n",
       "4       CDK4_transcriptomics  0.199389\n",
       "..                       ...       ...\n",
       "232     GNG2_transcriptomics  0.987884\n",
       "233   PIK3R5_transcriptomics  0.987884\n",
       "234    IL2RA_transcriptomics  0.987884\n",
       "235     SGK2_transcriptomics  0.987884\n",
       "236    EFNA2_transcriptomics  0.987884\n",
       "\n",
       "[237 rows x 2 columns]"
      ]
     },
     "execution_count": 17,
     "metadata": {},
     "output_type": "execute_result"
    }
   ],
   "source": [
    "Colon_results = get_trans_results(col,prot_list)\n",
    "Colon_results"
   ]
  },
  {
   "cell_type": "code",
   "execution_count": null,
   "metadata": {},
   "outputs": [],
   "source": []
  }
 ],
 "metadata": {
  "kernelspec": {
   "display_name": "Python 3",
   "language": "python",
   "name": "python3"
  },
  "language_info": {
   "codemirror_mode": {
    "name": "ipython",
    "version": 3
   },
   "file_extension": ".py",
   "mimetype": "text/x-python",
   "name": "python",
   "nbconvert_exporter": "python",
   "pygments_lexer": "ipython3",
   "version": "3.7.3"
  }
 },
 "nbformat": 4,
 "nbformat_minor": 2
}
