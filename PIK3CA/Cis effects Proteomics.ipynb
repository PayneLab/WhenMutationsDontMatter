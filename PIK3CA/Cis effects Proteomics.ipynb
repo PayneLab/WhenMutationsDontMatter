{
 "cells": [
  {
   "cell_type": "code",
   "execution_count": 36,
   "metadata": {},
   "outputs": [],
   "source": [
    "import cptac\n",
    "import cptac.utils as u\n",
    "import seaborn as sns\n",
    "import matplotlib.pyplot as plt"
   ]
  },
  {
   "cell_type": "code",
   "execution_count": 41,
   "metadata": {},
   "outputs": [
    {
     "name": "stdout",
     "output_type": "stream",
     "text": [
      "                                    \r"
     ]
    }
   ],
   "source": [
    "en = cptac.Endometrial()\n",
    "col = cptac.Colon()\n",
    "br = cptac.Brca()"
   ]
  },
  {
   "cell_type": "code",
   "execution_count": 15,
   "metadata": {},
   "outputs": [],
   "source": [
    "gene = 'PIK3CA'"
   ]
  },
  {
   "cell_type": "code",
   "execution_count": 4,
   "metadata": {},
   "outputs": [
    {
     "name": "stderr",
     "output_type": "stream",
     "text": [
      "cptac warning: In joining the somatic_mutation table, no mutations were found for the following samples, so they were filled with Wildtype_Tumor or Wildtype_Normal: 48 samples for the PIK3CA gene (/Users/hannahboekweg/anaconda3/lib/python3.7/site-packages/cptac/dataset.py, line 382)\n"
     ]
    }
   ],
   "source": [
    "#Prioritize hotspot mutations\n",
    "endo = en.get_genotype_all_vars(\"PIK3CA\", mutation_hotspot=[\"H1047R\", 'E542K', 'E535K'])"
   ]
  },
  {
   "cell_type": "code",
   "execution_count": 43,
   "metadata": {},
   "outputs": [],
   "source": [
    "#pull out all the missense mutation and wildtype tumors \n",
    "missense = endo.loc[(endo['Mutation'] == \"Missense_Mutation\") | (endo['Mutation'] == \"Wildtype_Tumor\")]"
   ]
  },
  {
   "cell_type": "markdown",
   "metadata": {},
   "source": [
    "# Now look at the cis effect for endometrial cancer \n",
    "(that is the difference in missense mutation between wildtype_tumor and missense_mutation)"
   ]
  },
  {
   "cell_type": "code",
   "execution_count": 28,
   "metadata": {},
   "outputs": [
    {
     "data": {
      "text/html": [
       "<div>\n",
       "<style scoped>\n",
       "    .dataframe tbody tr th:only-of-type {\n",
       "        vertical-align: middle;\n",
       "    }\n",
       "\n",
       "    .dataframe tbody tr th {\n",
       "        vertical-align: top;\n",
       "    }\n",
       "\n",
       "    .dataframe thead th {\n",
       "        text-align: right;\n",
       "    }\n",
       "</style>\n",
       "<table border=\"1\" class=\"dataframe\">\n",
       "  <thead>\n",
       "    <tr style=\"text-align: right;\">\n",
       "      <th>Name</th>\n",
       "      <th>Mutation</th>\n",
       "      <th>PIK3CA_proteomics</th>\n",
       "    </tr>\n",
       "    <tr>\n",
       "      <th>Patient_ID</th>\n",
       "      <th></th>\n",
       "      <th></th>\n",
       "    </tr>\n",
       "  </thead>\n",
       "  <tbody>\n",
       "    <tr>\n",
       "      <th>C3L-00006</th>\n",
       "      <td>Missense_Mutation</td>\n",
       "      <td>-0.4500</td>\n",
       "    </tr>\n",
       "    <tr>\n",
       "      <th>C3L-00008</th>\n",
       "      <td>Wildtype_Tumor</td>\n",
       "      <td>-0.2150</td>\n",
       "    </tr>\n",
       "    <tr>\n",
       "      <th>C3L-00032</th>\n",
       "      <td>Missense_Mutation</td>\n",
       "      <td>-0.1780</td>\n",
       "    </tr>\n",
       "    <tr>\n",
       "      <th>C3L-00090</th>\n",
       "      <td>Wildtype_Tumor</td>\n",
       "      <td>-0.3920</td>\n",
       "    </tr>\n",
       "    <tr>\n",
       "      <th>C3L-00136</th>\n",
       "      <td>Wildtype_Tumor</td>\n",
       "      <td>-0.3490</td>\n",
       "    </tr>\n",
       "    <tr>\n",
       "      <th>...</th>\n",
       "      <td>...</td>\n",
       "      <td>...</td>\n",
       "    </tr>\n",
       "    <tr>\n",
       "      <th>C3N-01510</th>\n",
       "      <td>Missense_Mutation</td>\n",
       "      <td>-0.3730</td>\n",
       "    </tr>\n",
       "    <tr>\n",
       "      <th>C3N-01520</th>\n",
       "      <td>Missense_Mutation</td>\n",
       "      <td>-0.4860</td>\n",
       "    </tr>\n",
       "    <tr>\n",
       "      <th>C3N-01537</th>\n",
       "      <td>Wildtype_Tumor</td>\n",
       "      <td>-0.0312</td>\n",
       "    </tr>\n",
       "    <tr>\n",
       "      <th>C3N-01802</th>\n",
       "      <td>Wildtype_Tumor</td>\n",
       "      <td>0.1040</td>\n",
       "    </tr>\n",
       "    <tr>\n",
       "      <th>C3N-01825</th>\n",
       "      <td>Missense_Mutation</td>\n",
       "      <td>0.6810</td>\n",
       "    </tr>\n",
       "  </tbody>\n",
       "</table>\n",
       "<p>84 rows × 2 columns</p>\n",
       "</div>"
      ],
      "text/plain": [
       "Name                 Mutation  PIK3CA_proteomics\n",
       "Patient_ID                                      \n",
       "C3L-00006   Missense_Mutation            -0.4500\n",
       "C3L-00008      Wildtype_Tumor            -0.2150\n",
       "C3L-00032   Missense_Mutation            -0.1780\n",
       "C3L-00090      Wildtype_Tumor            -0.3920\n",
       "C3L-00136      Wildtype_Tumor            -0.3490\n",
       "...                       ...                ...\n",
       "C3N-01510   Missense_Mutation            -0.3730\n",
       "C3N-01520   Missense_Mutation            -0.4860\n",
       "C3N-01537      Wildtype_Tumor            -0.0312\n",
       "C3N-01802      Wildtype_Tumor             0.1040\n",
       "C3N-01825   Missense_Mutation             0.6810\n",
       "\n",
       "[84 rows x 2 columns]"
      ]
     },
     "execution_count": 28,
     "metadata": {},
     "output_type": "execute_result"
    }
   ],
   "source": [
    "#drop everything but the mutation column and join to proteomic data\n",
    "missense = missense.drop(columns=['Location', 'Mutation_Status'])\n",
    "prot = en.get_proteomics() #get proteomic data\n",
    "missense[gene+'_proteomics'] = prot[gene]#filter for PIK3CA\n",
    "missense"
   ]
  },
  {
   "cell_type": "code",
   "execution_count": 32,
   "metadata": {},
   "outputs": [
    {
     "data": {
      "text/html": [
       "<div>\n",
       "<style scoped>\n",
       "    .dataframe tbody tr th:only-of-type {\n",
       "        vertical-align: middle;\n",
       "    }\n",
       "\n",
       "    .dataframe tbody tr th {\n",
       "        vertical-align: top;\n",
       "    }\n",
       "\n",
       "    .dataframe thead th {\n",
       "        text-align: right;\n",
       "    }\n",
       "</style>\n",
       "<table border=\"1\" class=\"dataframe\">\n",
       "  <thead>\n",
       "    <tr style=\"text-align: right;\">\n",
       "      <th></th>\n",
       "      <th>Comparison</th>\n",
       "      <th>P_Value</th>\n",
       "    </tr>\n",
       "  </thead>\n",
       "  <tbody>\n",
       "    <tr>\n",
       "      <th>0</th>\n",
       "      <td>PIK3CA_proteomics</td>\n",
       "      <td>0.201595</td>\n",
       "    </tr>\n",
       "  </tbody>\n",
       "</table>\n",
       "</div>"
      ],
      "text/plain": [
       "          Comparison   P_Value\n",
       "0  PIK3CA_proteomics  0.201595"
      ]
     },
     "execution_count": 32,
     "metadata": {},
     "output_type": "execute_result"
    }
   ],
   "source": [
    "u.wrap_ttest(missense, \"Mutation\", [gene+\"_proteomics\"], return_all=True)"
   ]
  },
  {
   "cell_type": "code",
   "execution_count": 38,
   "metadata": {},
   "outputs": [],
   "source": [
    "def format_pval_annotation(pval_symbol, x1, x2, line_start = .05, line_height=.05):\n",
    "    # for manual adjustment to pval annotations\n",
    "    \n",
    "    y, h = line_start, line_height\n",
    "    plt.plot([x1, x1, x2, x2], #draw horizontal line\n",
    "             [y, y+h, y+h, y], #vertical line\n",
    "             lw=1.5, color= '.3')\n",
    "    plt.text((x1+x2)*.5, # half between x coord\n",
    "             y+h, pval_symbol, horizontalalignment='center', verticalalignment='bottom', color = \"black\")\n",
    "\n"
   ]
  },
  {
   "cell_type": "code",
   "execution_count": 40,
   "metadata": {},
   "outputs": [
    {
     "data": {
      "image/png": "[encoded data removed]",
      "text/plain": [
       "<Figure size 842.4x612 with 1 Axes>"
      ]
     },
     "metadata": {},
     "output_type": "display_data"
    }
   ],
   "source": [
    "plt.rcParams['figure.figsize']=(11.7,8.5) #size of plot\n",
    "sns.set(font_scale = 1.2)\n",
    "\n",
    "boxplot = sns.boxplot(x='Mutation', y=gene+'_proteomics',\n",
    "                     order=['Wildtype_Tumor', 'Missense_Mutation'],\n",
    "                     data=missense,\n",
    "                     showfliers=False)\n",
    "\n",
    "boxplot.set_title(\"PIK3CA missense effections on\" + gene + \"Proteomic Abundance in Endometrial\")\n",
    "boxplot = sns.stripplot(x='Mutation', y=gene+'_proteomics', data=missense, jitter=True)\n",
    "boxplot.set(xlabel=\"\\nPIK3CA Wildtype_Tumor/Missense_Mutation\", ylabel=gene+\"_proteomics\")\n",
    "\n",
    "format_pval_annotation('* P-vlaue = .201', 0, 1, 1)\n",
    "\n",
    "plt.show()\n",
    "plt.clf()\n",
    "plt.close()"
   ]
  },
  {
   "cell_type": "markdown",
   "metadata": {},
   "source": [
    "# Cis effects for BRCA"
   ]
  },
  {
   "cell_type": "code",
   "execution_count": 42,
   "metadata": {},
   "outputs": [
    {
     "name": "stderr",
     "output_type": "stream",
     "text": [
      "cptac warning: In joining the somatic_mutation table, no mutations were found for the following samples, so they were filled with Wildtype_Tumor or Wildtype_Normal: 83 samples for the PIK3CA gene (/Users/hannahboekweg/anaconda3/lib/python3.7/site-packages/cptac/dataset.py, line 382)\n"
     ]
    }
   ],
   "source": [
    "#Prioritize hotspot mutations\n",
    "brca = br.get_genotype_all_vars(\"PIK3CA\", mutation_hotspot=[\"H1047R\", 'E542K', 'E535K'])"
   ]
  },
  {
   "cell_type": "code",
   "execution_count": 44,
   "metadata": {},
   "outputs": [],
   "source": [
    "#pull out all the missense mutation and wildtype tumors \n",
    "brca_missense = brca.loc[(brca['Mutation'] == \"Missense_Mutation\") | (brca['Mutation'] == \"Wildtype_Tumor\")]"
   ]
  },
  {
   "cell_type": "code",
   "execution_count": 45,
   "metadata": {},
   "outputs": [
    {
     "data": {
      "text/html": [
       "<div>\n",
       "<style scoped>\n",
       "    .dataframe tbody tr th:only-of-type {\n",
       "        vertical-align: middle;\n",
       "    }\n",
       "\n",
       "    .dataframe tbody tr th {\n",
       "        vertical-align: top;\n",
       "    }\n",
       "\n",
       "    .dataframe thead th {\n",
       "        text-align: right;\n",
       "    }\n",
       "</style>\n",
       "<table border=\"1\" class=\"dataframe\">\n",
       "  <thead>\n",
       "    <tr style=\"text-align: right;\">\n",
       "      <th>Name</th>\n",
       "      <th>Mutation</th>\n",
       "      <th>PIK3CA_proteomics</th>\n",
       "    </tr>\n",
       "    <tr>\n",
       "      <th>Patient_ID</th>\n",
       "      <th></th>\n",
       "      <th></th>\n",
       "    </tr>\n",
       "  </thead>\n",
       "  <tbody>\n",
       "    <tr>\n",
       "      <th>CPT001846</th>\n",
       "      <td>Missense_Mutation</td>\n",
       "      <td>0.6245</td>\n",
       "    </tr>\n",
       "    <tr>\n",
       "      <th>X01BR001</th>\n",
       "      <td>Wildtype_Tumor</td>\n",
       "      <td>-0.6810</td>\n",
       "    </tr>\n",
       "    <tr>\n",
       "      <th>X01BR008</th>\n",
       "      <td>Wildtype_Tumor</td>\n",
       "      <td>-0.9478</td>\n",
       "    </tr>\n",
       "    <tr>\n",
       "      <th>X01BR020</th>\n",
       "      <td>Wildtype_Tumor</td>\n",
       "      <td>-0.8300</td>\n",
       "    </tr>\n",
       "    <tr>\n",
       "      <th>X01BR023</th>\n",
       "      <td>Wildtype_Tumor</td>\n",
       "      <td>0.5457</td>\n",
       "    </tr>\n",
       "    <tr>\n",
       "      <th>...</th>\n",
       "      <td>...</td>\n",
       "      <td>...</td>\n",
       "    </tr>\n",
       "    <tr>\n",
       "      <th>X20BR008</th>\n",
       "      <td>Missense_Mutation</td>\n",
       "      <td>0.4727</td>\n",
       "    </tr>\n",
       "    <tr>\n",
       "      <th>X21BR002</th>\n",
       "      <td>Missense_Mutation</td>\n",
       "      <td>0.3150</td>\n",
       "    </tr>\n",
       "    <tr>\n",
       "      <th>X21BR010</th>\n",
       "      <td>Missense_Mutation</td>\n",
       "      <td>0.1131</td>\n",
       "    </tr>\n",
       "    <tr>\n",
       "      <th>X22BR005</th>\n",
       "      <td>Missense_Mutation</td>\n",
       "      <td>-0.1634</td>\n",
       "    </tr>\n",
       "    <tr>\n",
       "      <th>X22BR006</th>\n",
       "      <td>Missense_Mutation</td>\n",
       "      <td>-0.0200</td>\n",
       "    </tr>\n",
       "  </tbody>\n",
       "</table>\n",
       "<p>86 rows × 2 columns</p>\n",
       "</div>"
      ],
      "text/plain": [
       "Name                 Mutation  PIK3CA_proteomics\n",
       "Patient_ID                                      \n",
       "CPT001846   Missense_Mutation             0.6245\n",
       "X01BR001       Wildtype_Tumor            -0.6810\n",
       "X01BR008       Wildtype_Tumor            -0.9478\n",
       "X01BR020       Wildtype_Tumor            -0.8300\n",
       "X01BR023       Wildtype_Tumor             0.5457\n",
       "...                       ...                ...\n",
       "X20BR008    Missense_Mutation             0.4727\n",
       "X21BR002    Missense_Mutation             0.3150\n",
       "X21BR010    Missense_Mutation             0.1131\n",
       "X22BR005    Missense_Mutation            -0.1634\n",
       "X22BR006    Missense_Mutation            -0.0200\n",
       "\n",
       "[86 rows x 2 columns]"
      ]
     },
     "execution_count": 45,
     "metadata": {},
     "output_type": "execute_result"
    }
   ],
   "source": [
    "#drop everything but the mutation column and join to proteomic data\n",
    "brca_missense = brca_missense.drop(columns=['Location', 'Mutation_Status'])\n",
    "prot = br.get_proteomics() #get proteomic data\n",
    "brca_missense[gene+'_proteomics'] = prot[gene]#filter for PIK3CA\n",
    "brca_missense"
   ]
  },
  {
   "cell_type": "code",
   "execution_count": 46,
   "metadata": {},
   "outputs": [
    {
     "data": {
      "text/html": [
       "<div>\n",
       "<style scoped>\n",
       "    .dataframe tbody tr th:only-of-type {\n",
       "        vertical-align: middle;\n",
       "    }\n",
       "\n",
       "    .dataframe tbody tr th {\n",
       "        vertical-align: top;\n",
       "    }\n",
       "\n",
       "    .dataframe thead th {\n",
       "        text-align: right;\n",
       "    }\n",
       "</style>\n",
       "<table border=\"1\" class=\"dataframe\">\n",
       "  <thead>\n",
       "    <tr style=\"text-align: right;\">\n",
       "      <th></th>\n",
       "      <th>Comparison</th>\n",
       "      <th>P_Value</th>\n",
       "    </tr>\n",
       "  </thead>\n",
       "  <tbody>\n",
       "    <tr>\n",
       "      <th>0</th>\n",
       "      <td>PIK3CA_proteomics</td>\n",
       "      <td>0.689518</td>\n",
       "    </tr>\n",
       "  </tbody>\n",
       "</table>\n",
       "</div>"
      ],
      "text/plain": [
       "          Comparison   P_Value\n",
       "0  PIK3CA_proteomics  0.689518"
      ]
     },
     "execution_count": 46,
     "metadata": {},
     "output_type": "execute_result"
    }
   ],
   "source": [
    "u.wrap_ttest(brca_missense, \"Mutation\", [gene+\"_proteomics\"], return_all=True)"
   ]
  },
  {
   "cell_type": "code",
   "execution_count": 47,
   "metadata": {},
   "outputs": [
    {
     "data": {
      "image/png": "[encoded data removed]",
      "text/plain": [
       "<Figure size 842.4x612 with 1 Axes>"
      ]
     },
     "metadata": {},
     "output_type": "display_data"
    }
   ],
   "source": [
    "plt.rcParams['figure.figsize']=(11.7,8.5) #size of plot\n",
    "sns.set(font_scale = 1.2)\n",
    "\n",
    "boxplot = sns.boxplot(x='Mutation', y=gene+'_proteomics',\n",
    "                     order=['Wildtype_Tumor', 'Missense_Mutation'],\n",
    "                     data=brca_missense,\n",
    "                     showfliers=False)\n",
    "\n",
    "boxplot.set_title(\"PIK3CA missense effections on\" + gene + \"Proteomic Abundance in Brca\")\n",
    "boxplot = sns.stripplot(x='Mutation', y=gene+'_proteomics', data=brca_missense, jitter=True)\n",
    "boxplot.set(xlabel=\"\\nPIK3CA Wildtype_Tumor/Missense_Mutation\", ylabel=gene+\"_proteomics\")\n",
    "\n",
    "format_pval_annotation('* P-vlaue = .689', 0, 1, 1)\n",
    "\n",
    "plt.show()\n",
    "plt.clf()\n",
    "plt.close()"
   ]
  },
  {
   "cell_type": "markdown",
   "metadata": {},
   "source": [
    "# Cis effect for Colon"
   ]
  },
  {
   "cell_type": "code",
   "execution_count": 48,
   "metadata": {},
   "outputs": [
    {
     "name": "stderr",
     "output_type": "stream",
     "text": [
      "cptac warning: In joining the somatic_mutation table, no mutations were found for the following samples, so they were filled with Wildtype_Tumor or Wildtype_Normal: 82 samples for the PIK3CA gene (/Users/hannahboekweg/anaconda3/lib/python3.7/site-packages/cptac/dataset.py, line 382)\n",
      "cptac warning: CNV data was not found for the following samples, so CNV data columns were filled with NaN for these samples: 05CO045 (/Users/hannahboekweg/anaconda3/lib/python3.7/site-packages/cptac/dataset.py, line 382)\n"
     ]
    }
   ],
   "source": [
    "#Prioritize hotspot mutations\n",
    "colon = col.get_genotype_all_vars(\"PIK3CA\", mutation_hotspot=[\"H1047R\", 'E542K', 'E535K'])"
   ]
  },
  {
   "cell_type": "code",
   "execution_count": 57,
   "metadata": {},
   "outputs": [
    {
     "data": {
      "text/plain": [
       "array(['Wildtype_Tumor', 'Amplification', 'nonframeshift substitution',\n",
       "       'nonsynonymous SNV', 'Deletion', 'nonsynonymous SNV_hotspot',\n",
       "       'frameshift substitution'], dtype=object)"
      ]
     },
     "execution_count": 57,
     "metadata": {},
     "output_type": "execute_result"
    }
   ],
   "source": [
    "colon['Mutation'].unique()"
   ]
  },
  {
   "cell_type": "code",
   "execution_count": 59,
   "metadata": {},
   "outputs": [],
   "source": [
    "#pull out all the missense mutation and wildtype tumors \n",
    "colon_missense = colon.loc[(colon['Mutation'] == \"nonsynonymous SNV\") | (colon['Mutation'] == \"Wildtype_Tumor\")]"
   ]
  },
  {
   "cell_type": "code",
   "execution_count": 60,
   "metadata": {},
   "outputs": [
    {
     "data": {
      "text/html": [
       "<div>\n",
       "<style scoped>\n",
       "    .dataframe tbody tr th:only-of-type {\n",
       "        vertical-align: middle;\n",
       "    }\n",
       "\n",
       "    .dataframe tbody tr th {\n",
       "        vertical-align: top;\n",
       "    }\n",
       "\n",
       "    .dataframe thead th {\n",
       "        text-align: right;\n",
       "    }\n",
       "</style>\n",
       "<table border=\"1\" class=\"dataframe\">\n",
       "  <thead>\n",
       "    <tr style=\"text-align: right;\">\n",
       "      <th>Name</th>\n",
       "      <th>Mutation</th>\n",
       "      <th>PIK3CA_proteomics</th>\n",
       "    </tr>\n",
       "    <tr>\n",
       "      <th>Patient_ID</th>\n",
       "      <th></th>\n",
       "      <th></th>\n",
       "    </tr>\n",
       "  </thead>\n",
       "  <tbody>\n",
       "    <tr>\n",
       "      <th>01CO001</th>\n",
       "      <td>Wildtype_Tumor</td>\n",
       "      <td>NaN</td>\n",
       "    </tr>\n",
       "    <tr>\n",
       "      <th>01CO005</th>\n",
       "      <td>Wildtype_Tumor</td>\n",
       "      <td>NaN</td>\n",
       "    </tr>\n",
       "    <tr>\n",
       "      <th>01CO006</th>\n",
       "      <td>Wildtype_Tumor</td>\n",
       "      <td>-0.515</td>\n",
       "    </tr>\n",
       "    <tr>\n",
       "      <th>01CO013</th>\n",
       "      <td>Wildtype_Tumor</td>\n",
       "      <td>0.106</td>\n",
       "    </tr>\n",
       "    <tr>\n",
       "      <th>01CO015</th>\n",
       "      <td>Wildtype_Tumor</td>\n",
       "      <td>-0.687</td>\n",
       "    </tr>\n",
       "    <tr>\n",
       "      <th>...</th>\n",
       "      <td>...</td>\n",
       "      <td>...</td>\n",
       "    </tr>\n",
       "    <tr>\n",
       "      <th>20CO007</th>\n",
       "      <td>nonsynonymous SNV</td>\n",
       "      <td>-0.245</td>\n",
       "    </tr>\n",
       "    <tr>\n",
       "      <th>22CO004</th>\n",
       "      <td>Wildtype_Tumor</td>\n",
       "      <td>-0.817</td>\n",
       "    </tr>\n",
       "    <tr>\n",
       "      <th>22CO006</th>\n",
       "      <td>Wildtype_Tumor</td>\n",
       "      <td>0.177</td>\n",
       "    </tr>\n",
       "    <tr>\n",
       "      <th>24CO005</th>\n",
       "      <td>Wildtype_Tumor</td>\n",
       "      <td>NaN</td>\n",
       "    </tr>\n",
       "    <tr>\n",
       "      <th>27CO004</th>\n",
       "      <td>nonsynonymous SNV</td>\n",
       "      <td>0.489</td>\n",
       "    </tr>\n",
       "  </tbody>\n",
       "</table>\n",
       "<p>80 rows × 2 columns</p>\n",
       "</div>"
      ],
      "text/plain": [
       "Name                 Mutation  PIK3CA_proteomics\n",
       "Patient_ID                                      \n",
       "01CO001        Wildtype_Tumor                NaN\n",
       "01CO005        Wildtype_Tumor                NaN\n",
       "01CO006        Wildtype_Tumor             -0.515\n",
       "01CO013        Wildtype_Tumor              0.106\n",
       "01CO015        Wildtype_Tumor             -0.687\n",
       "...                       ...                ...\n",
       "20CO007     nonsynonymous SNV             -0.245\n",
       "22CO004        Wildtype_Tumor             -0.817\n",
       "22CO006        Wildtype_Tumor              0.177\n",
       "24CO005        Wildtype_Tumor                NaN\n",
       "27CO004     nonsynonymous SNV              0.489\n",
       "\n",
       "[80 rows x 2 columns]"
      ]
     },
     "execution_count": 60,
     "metadata": {},
     "output_type": "execute_result"
    }
   ],
   "source": [
    "#drop everything but the mutation column and join to proteomic data\n",
    "colon_missense = colon_missense.drop(columns=['Location', 'Mutation_Status'])\n",
    "prot = col.get_proteomics() #get proteomic data\n",
    "colon_missense[gene+'_proteomics'] = prot[gene]#filter for PIK3CA\n",
    "colon_missense"
   ]
  },
  {
   "cell_type": "code",
   "execution_count": 61,
   "metadata": {},
   "outputs": [
    {
     "data": {
      "text/html": [
       "<div>\n",
       "<style scoped>\n",
       "    .dataframe tbody tr th:only-of-type {\n",
       "        vertical-align: middle;\n",
       "    }\n",
       "\n",
       "    .dataframe tbody tr th {\n",
       "        vertical-align: top;\n",
       "    }\n",
       "\n",
       "    .dataframe thead th {\n",
       "        text-align: right;\n",
       "    }\n",
       "</style>\n",
       "<table border=\"1\" class=\"dataframe\">\n",
       "  <thead>\n",
       "    <tr style=\"text-align: right;\">\n",
       "      <th></th>\n",
       "      <th>Comparison</th>\n",
       "      <th>P_Value</th>\n",
       "    </tr>\n",
       "  </thead>\n",
       "  <tbody>\n",
       "    <tr>\n",
       "      <th>0</th>\n",
       "      <td>PIK3CA_proteomics</td>\n",
       "      <td>0.31414</td>\n",
       "    </tr>\n",
       "  </tbody>\n",
       "</table>\n",
       "</div>"
      ],
      "text/plain": [
       "          Comparison  P_Value\n",
       "0  PIK3CA_proteomics  0.31414"
      ]
     },
     "execution_count": 61,
     "metadata": {},
     "output_type": "execute_result"
    }
   ],
   "source": [
    "u.wrap_ttest(colon_missense, \"Mutation\", [gene+\"_proteomics\"], return_all=True)"
   ]
  },
  {
   "cell_type": "code",
   "execution_count": 63,
   "metadata": {},
   "outputs": [
    {
     "data": {
      "image/png": "[encoded data removed]",
      "text/plain": [
       "<Figure size 842.4x612 with 1 Axes>"
      ]
     },
     "metadata": {},
     "output_type": "display_data"
    }
   ],
   "source": [
    "plt.rcParams['figure.figsize']=(11.7,8.5) #size of plot\n",
    "sns.set(font_scale = 1.2)\n",
    "\n",
    "boxplot = sns.boxplot(x='Mutation', y=gene+'_proteomics',\n",
    "                     order=['Wildtype_Tumor', 'nonsynonymous SNV'],\n",
    "                     data=colon_missense,\n",
    "                     showfliers=False)\n",
    "\n",
    "boxplot.set_title(\"PIK3CA missense effections on\" + gene + \"Proteomic Abundance in Colon\")\n",
    "boxplot = sns.stripplot(x='Mutation', y=gene+'_proteomics', data=colon_missense, jitter=True)\n",
    "boxplot.set(xlabel=\"\\nPIK3CA Wildtype_Tumor/nonsynonymous SNV\", ylabel=gene+\"_proteomics\")\n",
    "\n",
    "format_pval_annotation('* P-vlaue = .314', 0, 1, 1)\n",
    "\n",
    "plt.show()\n",
    "plt.clf()\n",
    "plt.close()"
   ]
  }
 ],
 "metadata": {
  "kernelspec": {
   "display_name": "Python 3",
   "language": "python",
   "name": "python3"
  },
  "language_info": {
   "codemirror_mode": {
    "name": "ipython",
    "version": 3
   },
   "file_extension": ".py",
   "mimetype": "text/x-python",
   "name": "python",
   "nbconvert_exporter": "python",
   "pygments_lexer": "ipython3",
   "version": "3.7.3"
  }
 },
 "nbformat": 4,
 "nbformat_minor": 2
}
