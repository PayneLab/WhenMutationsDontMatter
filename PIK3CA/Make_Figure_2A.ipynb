{
 "cells": [
  {
   "cell_type": "markdown",
   "metadata": {},
   "source": [
    "# Make Figure 2A"
   ]
  },
  {
   "cell_type": "markdown",
   "metadata": {},
   "source": [
    "This notebook makes Figure 2A in the manuscript. It shows the cis effect of PIK3CA hotspot mutations for colon, breast, and endometrial cancer. "
   ]
  },
  {
   "cell_type": "code",
   "execution_count": 2,
   "metadata": {},
   "outputs": [
    {
     "name": "stderr",
     "output_type": "stream",
     "text": [
      "/Users/Lindsey/anaconda3/lib/python3.7/site-packages/statsmodels/tools/_testing.py:19: FutureWarning: pandas.util.testing is deprecated. Use the functions in the public API at pandas.testing instead.\n",
      "  import pandas.util.testing as tm\n"
     ]
    }
   ],
   "source": [
    "import cptac\n",
    "import cptac.utils as u\n",
    "import seaborn as sns\n",
    "import matplotlib.pyplot as plt\n",
    "import pandas as pd\n",
    "\n",
    "import pandas.util.testing as tm"
   ]
  },
  {
   "cell_type": "code",
   "execution_count": 3,
   "metadata": {},
   "outputs": [],
   "source": [
    "import warnings\n",
    "warnings.filterwarnings('ignore')"
   ]
  },
  {
   "cell_type": "markdown",
   "metadata": {},
   "source": [
    "## Load cancer data"
   ]
  },
  {
   "cell_type": "code",
   "execution_count": 4,
   "metadata": {},
   "outputs": [
    {
     "name": "stdout",
     "output_type": "stream",
     "text": [
      "                                                \r"
     ]
    }
   ],
   "source": [
    "en = cptac.Endometrial()\n",
    "col = cptac.Colon()\n",
    "br = cptac.Brca()"
   ]
  },
  {
   "cell_type": "code",
   "execution_count": 5,
   "metadata": {},
   "outputs": [
    {
     "data": {
      "text/plain": [
       "'0.8.5'"
      ]
     },
     "execution_count": 5,
     "metadata": {},
     "output_type": "execute_result"
    }
   ],
   "source": [
    "#cptac version\n",
    "cptac.version()"
   ]
  },
  {
   "cell_type": "markdown",
   "metadata": {},
   "source": [
    "## For each tumor type, make a data frame with mutation status and proteomic data. "
   ]
  },
  {
   "cell_type": "code",
   "execution_count": 4,
   "metadata": {},
   "outputs": [],
   "source": [
    "gene = 'PIK3CA'"
   ]
  },
  {
   "cell_type": "code",
   "execution_count": 5,
   "metadata": {},
   "outputs": [],
   "source": [
    "'''\n",
    "This fucntion takes a cptac cancer and returns a data frame that has PIK3CA proteomic data and mutatation status. \n",
    "@Param cancer: cptac cancer object\n",
    "@Param gene: string of mutation name. \n",
    "\n",
    "'''\n",
    "def MakeCisEffectdf (cancer, gene):\n",
    "    # Get missense mutations\n",
    "    prot_and_mutations = cancer.join_omics_to_mutations(\n",
    "        mutations_genes = [gene], omics_df_name = 'proteomics', omics_genes = [gene],\n",
    "        tissue_type = 'tumor') \n",
    "    \n",
    "    #Change columns to strings\n",
    "    prot_and_mutations['PIK3CA_Mutation'] = [','.join(map(str, l)) for l in prot_and_mutations['PIK3CA_Mutation']]\n",
    "    prot_and_mutations['PIK3CA_Location'] = [','.join(map(str, l)) for l in prot_and_mutations['PIK3CA_Location']]\n",
    "    # Reduce a multiindex \n",
    "    if isinstance(prot_and_mutations.keys(), pd.core.indexes.multi.MultiIndex):\n",
    "        prot_and_mutations = u.reduce_multiindex(prot_and_mutations, levels_to_drop = 1) \n",
    "    mut_type = prot_and_mutations\n",
    "    hotspot = mut_type[(mut_type.PIK3CA_Location.str.contains('E542K'))| \n",
    "                    mut_type.PIK3CA_Location.str.contains('E545K')| \n",
    "                    mut_type.PIK3CA_Location.str.contains('H1047R')]\n",
    "    hotspot[\"PIK3CA_Mutation\"] = \"Hotspot\"\n",
    "    wt = mut_type[(mut_type.PIK3CA_Mutation.str.contains('Wildtype'))]\n",
    "    hotspot_wt = pd.concat([hotspot, wt])\n",
    "    \n",
    "    return hotspot_wt"
   ]
  },
  {
   "cell_type": "markdown",
   "metadata": {},
   "source": [
    "# Find Cis effect"
   ]
  },
  {
   "cell_type": "markdown",
   "metadata": {},
   "source": [
    "Use MakeCisEffectdf to get df and then run wrap_ttest to find the result. "
   ]
  },
  {
   "cell_type": "markdown",
   "metadata": {},
   "source": [
    "# Endometrial"
   ]
  },
  {
   "cell_type": "code",
   "execution_count": 6,
   "metadata": {},
   "outputs": [
    {
     "data": {
      "text/html": [
       "<div>\n",
       "<style scoped>\n",
       "    .dataframe tbody tr th:only-of-type {\n",
       "        vertical-align: middle;\n",
       "    }\n",
       "\n",
       "    .dataframe tbody tr th {\n",
       "        vertical-align: top;\n",
       "    }\n",
       "\n",
       "    .dataframe thead th {\n",
       "        text-align: right;\n",
       "    }\n",
       "</style>\n",
       "<table border=\"1\" class=\"dataframe\">\n",
       "  <thead>\n",
       "    <tr style=\"text-align: right;\">\n",
       "      <th>Name</th>\n",
       "      <th>PIK3CA_proteomics</th>\n",
       "      <th>PIK3CA_Mutation</th>\n",
       "      <th>PIK3CA_Location</th>\n",
       "      <th>PIK3CA_Mutation_Status</th>\n",
       "      <th>Sample_Status</th>\n",
       "    </tr>\n",
       "    <tr>\n",
       "      <th>Patient_ID</th>\n",
       "      <th></th>\n",
       "      <th></th>\n",
       "      <th></th>\n",
       "      <th></th>\n",
       "      <th></th>\n",
       "    </tr>\n",
       "  </thead>\n",
       "  <tbody>\n",
       "    <tr>\n",
       "      <th>C3L-00006</th>\n",
       "      <td>-0.450</td>\n",
       "      <td>Hotspot</td>\n",
       "      <td>p.E545K</td>\n",
       "      <td>Single_mutation</td>\n",
       "      <td>Tumor</td>\n",
       "    </tr>\n",
       "    <tr>\n",
       "      <th>C3L-00032</th>\n",
       "      <td>-0.178</td>\n",
       "      <td>Hotspot</td>\n",
       "      <td>p.E545K</td>\n",
       "      <td>Single_mutation</td>\n",
       "      <td>Tumor</td>\n",
       "    </tr>\n",
       "    <tr>\n",
       "      <th>C3L-00362</th>\n",
       "      <td>-0.469</td>\n",
       "      <td>Hotspot</td>\n",
       "      <td>p.H1047R</td>\n",
       "      <td>Single_mutation</td>\n",
       "      <td>Tumor</td>\n",
       "    </tr>\n",
       "    <tr>\n",
       "      <th>C3L-00601</th>\n",
       "      <td>-0.752</td>\n",
       "      <td>Hotspot</td>\n",
       "      <td>p.E545K,p.F667L</td>\n",
       "      <td>Multiple_mutation</td>\n",
       "      <td>Tumor</td>\n",
       "    </tr>\n",
       "    <tr>\n",
       "      <th>C3L-00605</th>\n",
       "      <td>-0.503</td>\n",
       "      <td>Hotspot</td>\n",
       "      <td>p.E545K</td>\n",
       "      <td>Single_mutation</td>\n",
       "      <td>Tumor</td>\n",
       "    </tr>\n",
       "  </tbody>\n",
       "</table>\n",
       "</div>"
      ],
      "text/plain": [
       "Name        PIK3CA_proteomics PIK3CA_Mutation  PIK3CA_Location  \\\n",
       "Patient_ID                                                       \n",
       "C3L-00006              -0.450         Hotspot          p.E545K   \n",
       "C3L-00032              -0.178         Hotspot          p.E545K   \n",
       "C3L-00362              -0.469         Hotspot         p.H1047R   \n",
       "C3L-00601              -0.752         Hotspot  p.E545K,p.F667L   \n",
       "C3L-00605              -0.503         Hotspot          p.E545K   \n",
       "\n",
       "Name       PIK3CA_Mutation_Status Sample_Status  \n",
       "Patient_ID                                       \n",
       "C3L-00006         Single_mutation         Tumor  \n",
       "C3L-00032         Single_mutation         Tumor  \n",
       "C3L-00362         Single_mutation         Tumor  \n",
       "C3L-00601       Multiple_mutation         Tumor  \n",
       "C3L-00605         Single_mutation         Tumor  "
      ]
     },
     "execution_count": 6,
     "metadata": {},
     "output_type": "execute_result"
    }
   ],
   "source": [
    "#example of cis effect df \n",
    "endo_missense = MakeCisEffectdf(en,gene)\n",
    "endo_missense.head()"
   ]
  },
  {
   "cell_type": "code",
   "execution_count": 7,
   "metadata": {},
   "outputs": [
    {
     "data": {
      "text/html": [
       "<div>\n",
       "<style scoped>\n",
       "    .dataframe tbody tr th:only-of-type {\n",
       "        vertical-align: middle;\n",
       "    }\n",
       "\n",
       "    .dataframe tbody tr th {\n",
       "        vertical-align: top;\n",
       "    }\n",
       "\n",
       "    .dataframe thead th {\n",
       "        text-align: right;\n",
       "    }\n",
       "</style>\n",
       "<table border=\"1\" class=\"dataframe\">\n",
       "  <thead>\n",
       "    <tr style=\"text-align: right;\">\n",
       "      <th></th>\n",
       "      <th>Comparison</th>\n",
       "      <th>P_Value</th>\n",
       "    </tr>\n",
       "  </thead>\n",
       "  <tbody>\n",
       "    <tr>\n",
       "      <th>0</th>\n",
       "      <td>PIK3CA_proteomics</td>\n",
       "      <td>0.004995</td>\n",
       "    </tr>\n",
       "  </tbody>\n",
       "</table>\n",
       "</div>"
      ],
      "text/plain": [
       "          Comparison   P_Value\n",
       "0  PIK3CA_proteomics  0.004995"
      ]
     },
     "execution_count": 7,
     "metadata": {},
     "output_type": "execute_result"
    }
   ],
   "source": [
    "endo_pval = u.wrap_ttest(endo_missense, 'PIK3CA_Mutation', ['PIK3CA_proteomics'], return_all=True)\n",
    "endo_pval"
   ]
  },
  {
   "cell_type": "markdown",
   "metadata": {},
   "source": [
    "# Brca"
   ]
  },
  {
   "cell_type": "code",
   "execution_count": 8,
   "metadata": {},
   "outputs": [],
   "source": [
    "brca_missense = MakeCisEffectdf(br,gene)"
   ]
  },
  {
   "cell_type": "code",
   "execution_count": 9,
   "metadata": {},
   "outputs": [
    {
     "data": {
      "text/html": [
       "<div>\n",
       "<style scoped>\n",
       "    .dataframe tbody tr th:only-of-type {\n",
       "        vertical-align: middle;\n",
       "    }\n",
       "\n",
       "    .dataframe tbody tr th {\n",
       "        vertical-align: top;\n",
       "    }\n",
       "\n",
       "    .dataframe thead th {\n",
       "        text-align: right;\n",
       "    }\n",
       "</style>\n",
       "<table border=\"1\" class=\"dataframe\">\n",
       "  <thead>\n",
       "    <tr style=\"text-align: right;\">\n",
       "      <th></th>\n",
       "      <th>Comparison</th>\n",
       "      <th>P_Value</th>\n",
       "    </tr>\n",
       "  </thead>\n",
       "  <tbody>\n",
       "    <tr>\n",
       "      <th>0</th>\n",
       "      <td>PIK3CA_proteomics</td>\n",
       "      <td>0.549002</td>\n",
       "    </tr>\n",
       "  </tbody>\n",
       "</table>\n",
       "</div>"
      ],
      "text/plain": [
       "          Comparison   P_Value\n",
       "0  PIK3CA_proteomics  0.549002"
      ]
     },
     "execution_count": 9,
     "metadata": {},
     "output_type": "execute_result"
    }
   ],
   "source": [
    "\n",
    "brca_pval = u.wrap_ttest(brca_missense, 'PIK3CA_Mutation', ['PIK3CA_proteomics'], return_all=True)\n",
    "brca_pval"
   ]
  },
  {
   "cell_type": "markdown",
   "metadata": {},
   "source": [
    "# Colon"
   ]
  },
  {
   "cell_type": "code",
   "execution_count": 10,
   "metadata": {},
   "outputs": [],
   "source": [
    "colon_missense = MakeCisEffectdf(col,gene)\n"
   ]
  },
  {
   "cell_type": "code",
   "execution_count": 11,
   "metadata": {},
   "outputs": [
    {
     "data": {
      "text/html": [
       "<div>\n",
       "<style scoped>\n",
       "    .dataframe tbody tr th:only-of-type {\n",
       "        vertical-align: middle;\n",
       "    }\n",
       "\n",
       "    .dataframe tbody tr th {\n",
       "        vertical-align: top;\n",
       "    }\n",
       "\n",
       "    .dataframe thead th {\n",
       "        text-align: right;\n",
       "    }\n",
       "</style>\n",
       "<table border=\"1\" class=\"dataframe\">\n",
       "  <thead>\n",
       "    <tr style=\"text-align: right;\">\n",
       "      <th></th>\n",
       "      <th>Comparison</th>\n",
       "      <th>P_Value</th>\n",
       "    </tr>\n",
       "  </thead>\n",
       "  <tbody>\n",
       "    <tr>\n",
       "      <th>0</th>\n",
       "      <td>PIK3CA_proteomics</td>\n",
       "      <td>0.792004</td>\n",
       "    </tr>\n",
       "  </tbody>\n",
       "</table>\n",
       "</div>"
      ],
      "text/plain": [
       "          Comparison   P_Value\n",
       "0  PIK3CA_proteomics  0.792004"
      ]
     },
     "execution_count": 11,
     "metadata": {},
     "output_type": "execute_result"
    }
   ],
   "source": [
    "\n",
    "colon_pval = u.wrap_ttest(colon_missense, 'PIK3CA_Mutation', ['PIK3CA_proteomics'], return_all=True, mincount = 2)\n",
    "colon_pval"
   ]
  },
  {
   "cell_type": "markdown",
   "metadata": {},
   "source": [
    "# Make final data frame"
   ]
  },
  {
   "cell_type": "markdown",
   "metadata": {},
   "source": [
    "Add cancer type column to df with proteomic and mutation status df"
   ]
  },
  {
   "cell_type": "code",
   "execution_count": 12,
   "metadata": {},
   "outputs": [],
   "source": [
    "endo_missense = endo_missense.assign(cancer = 'Endometrial')\n",
    "brca_missense = brca_missense.assign(cancer = 'Breast')\n",
    "colon_missense = colon_missense.assign(cancer = 'Colon')"
   ]
  },
  {
   "cell_type": "markdown",
   "metadata": {},
   "source": [
    "Join all the cancer data tables together in order to make figure 1B.\n"
   ]
  },
  {
   "cell_type": "code",
   "execution_count": 13,
   "metadata": {},
   "outputs": [
    {
     "data": {
      "text/html": [
       "<div>\n",
       "<style scoped>\n",
       "    .dataframe tbody tr th:only-of-type {\n",
       "        vertical-align: middle;\n",
       "    }\n",
       "\n",
       "    .dataframe tbody tr th {\n",
       "        vertical-align: top;\n",
       "    }\n",
       "\n",
       "    .dataframe thead th {\n",
       "        text-align: right;\n",
       "    }\n",
       "</style>\n",
       "<table border=\"1\" class=\"dataframe\">\n",
       "  <thead>\n",
       "    <tr style=\"text-align: right;\">\n",
       "      <th>Name</th>\n",
       "      <th>PIK3CA_proteomics</th>\n",
       "      <th>PIK3CA_Mutation</th>\n",
       "      <th>PIK3CA_Location</th>\n",
       "      <th>PIK3CA_Mutation_Status</th>\n",
       "      <th>Sample_Status</th>\n",
       "      <th>cancer</th>\n",
       "    </tr>\n",
       "    <tr>\n",
       "      <th>Patient_ID</th>\n",
       "      <th></th>\n",
       "      <th></th>\n",
       "      <th></th>\n",
       "      <th></th>\n",
       "      <th></th>\n",
       "      <th></th>\n",
       "    </tr>\n",
       "  </thead>\n",
       "  <tbody>\n",
       "    <tr>\n",
       "      <th>C3L-00006</th>\n",
       "      <td>-0.450</td>\n",
       "      <td>Hotspot</td>\n",
       "      <td>p.E545K</td>\n",
       "      <td>Single_mutation</td>\n",
       "      <td>Tumor</td>\n",
       "      <td>Endometrial</td>\n",
       "    </tr>\n",
       "    <tr>\n",
       "      <th>C3L-00032</th>\n",
       "      <td>-0.178</td>\n",
       "      <td>Hotspot</td>\n",
       "      <td>p.E545K</td>\n",
       "      <td>Single_mutation</td>\n",
       "      <td>Tumor</td>\n",
       "      <td>Endometrial</td>\n",
       "    </tr>\n",
       "    <tr>\n",
       "      <th>C3L-00362</th>\n",
       "      <td>-0.469</td>\n",
       "      <td>Hotspot</td>\n",
       "      <td>p.H1047R</td>\n",
       "      <td>Single_mutation</td>\n",
       "      <td>Tumor</td>\n",
       "      <td>Endometrial</td>\n",
       "    </tr>\n",
       "    <tr>\n",
       "      <th>C3L-00601</th>\n",
       "      <td>-0.752</td>\n",
       "      <td>Hotspot</td>\n",
       "      <td>p.E545K,p.F667L</td>\n",
       "      <td>Multiple_mutation</td>\n",
       "      <td>Tumor</td>\n",
       "      <td>Endometrial</td>\n",
       "    </tr>\n",
       "    <tr>\n",
       "      <th>C3L-00605</th>\n",
       "      <td>-0.503</td>\n",
       "      <td>Hotspot</td>\n",
       "      <td>p.E545K</td>\n",
       "      <td>Single_mutation</td>\n",
       "      <td>Tumor</td>\n",
       "      <td>Endometrial</td>\n",
       "    </tr>\n",
       "  </tbody>\n",
       "</table>\n",
       "</div>"
      ],
      "text/plain": [
       "Name        PIK3CA_proteomics PIK3CA_Mutation  PIK3CA_Location  \\\n",
       "Patient_ID                                                       \n",
       "C3L-00006              -0.450         Hotspot          p.E545K   \n",
       "C3L-00032              -0.178         Hotspot          p.E545K   \n",
       "C3L-00362              -0.469         Hotspot         p.H1047R   \n",
       "C3L-00601              -0.752         Hotspot  p.E545K,p.F667L   \n",
       "C3L-00605              -0.503         Hotspot          p.E545K   \n",
       "\n",
       "Name       PIK3CA_Mutation_Status Sample_Status       cancer  \n",
       "Patient_ID                                                    \n",
       "C3L-00006         Single_mutation         Tumor  Endometrial  \n",
       "C3L-00032         Single_mutation         Tumor  Endometrial  \n",
       "C3L-00362         Single_mutation         Tumor  Endometrial  \n",
       "C3L-00601       Multiple_mutation         Tumor  Endometrial  \n",
       "C3L-00605         Single_mutation         Tumor  Endometrial  "
      ]
     },
     "execution_count": 13,
     "metadata": {},
     "output_type": "execute_result"
    }
   ],
   "source": [
    "df = endo_missense.append(brca_missense)\n",
    "df = df.append(colon_missense)\n",
    "df.head()"
   ]
  },
  {
   "cell_type": "code",
   "execution_count": 14,
   "metadata": {},
   "outputs": [],
   "source": [
    "def format_pval_annotation(pval_symbol, x1, x2, line_start = .05, line_height=.05):\n",
    "    # for manual adjustment to pval annotations\n",
    "    \n",
    "    y, h = line_start, line_height\n",
    "    plt.plot([x1, x1, x2, x2], #draw horizontal line\n",
    "             [y, y+h, y+h, y], #vertical line\n",
    "             lw=1.5, color= '.3')\n",
    "    plt.text((x1+x2)*.5, # half between x coord\n",
    "             y+h, pval_symbol, horizontalalignment='center', verticalalignment='bottom', color = \"black\")\n"
   ]
  },
  {
   "cell_type": "markdown",
   "metadata": {},
   "source": [
    "# Make Figure 2A"
   ]
  },
  {
   "cell_type": "code",
   "execution_count": 15,
   "metadata": {},
   "outputs": [
    {
     "data": {
      "image/png": "[encoded data removed]",
      "text/plain": [
       "<Figure size 842.4x612 with 1 Axes>"
      ]
     },
     "metadata": {},
     "output_type": "display_data"
    }
   ],
   "source": [
    "# pancancer cis plot\n",
    "gene = 'PIK3CA_proteomics'\n",
    "plt.rcParams['figure.figsize']=(11.7,8.5) #size of plot\n",
    "sns.set(font_scale = 1.2, style = \"white\")\n",
    "\n",
    "boxplot = sns.boxplot(x='cancer', y=gene, data = df, hue = 'PIK3CA_Mutation',\n",
    "                      hue_order = [\"Wildtype_Tumor\", \"Hotspot\"], showfliers = False)    \n",
    "boxplot = sns.stripplot(x='cancer', y=gene, data = df, jitter = True, \n",
    "                           color = \".3\", hue = 'PIK3CA_Mutation', hue_order = [\"Wildtype_Tumor\", \"Hotspot\"], dodge = True)\n",
    "boxplot.set(xlabel = \"\", ylabel = gene)\n",
    "cancer_list = [ endo_pval, brca_pval, colon_pval]\n",
    "# create pval annotations\n",
    "symbols = {}\n",
    "i = 0\n",
    "for cancer_df in cancer_list:\n",
    "\n",
    "    pval = float(cancer_df['P_Value'])\n",
    "    cancer_names = [\"En\",\"Brca\",\"Colon\"]\n",
    "    cancer = cancer_names [i]\n",
    "    if pval  <= 0.001:\n",
    "         symbols[cancer] = '***'\n",
    "    elif pval  <= 0.01:\n",
    "        symbols[cancer] = '**'  \n",
    "    elif pval <= 0.05:\n",
    "        symbols[cancer] = '*'\n",
    "    else:\n",
    "        symbols[cancer] = 'ns'\n",
    "    i += 1\n",
    "format_pval_annotation(symbols['En'], -.4, 0.3, 1) # Endometrial\n",
    "format_pval_annotation(symbols['Brca'], .6, 1.4, 2) # Brca\n",
    "format_pval_annotation(symbols['Colon'], 1.6, 2.2, 1)  # Colon\n",
    "\n",
    "\n",
    "plt.show()\n",
    "plt.clf()\n",
    "plt.close()"
   ]
  },
  {
   "cell_type": "code",
   "execution_count": 16,
   "metadata": {},
   "outputs": [],
   "source": [
    "fig = boxplot.get_figure()\n",
    "fig.savefig(\"PIK3CA_Fig2A.png\", dpi = 300)"
   ]
  },
  {
   "cell_type": "code",
   "execution_count": null,
   "metadata": {},
   "outputs": [],
   "source": []
  }
 ],
 "metadata": {
  "kernelspec": {
   "display_name": "Python 3",
   "language": "python",
   "name": "python3"
  },
  "language_info": {
   "codemirror_mode": {
    "name": "ipython",
    "version": 3
   },
   "file_extension": ".py",
   "mimetype": "text/x-python",
   "name": "python",
   "nbconvert_exporter": "python",
   "pygments_lexer": "ipython3",
   "version": "3.7.3"
  }
 },
 "nbformat": 4,
 "nbformat_minor": 2
}
