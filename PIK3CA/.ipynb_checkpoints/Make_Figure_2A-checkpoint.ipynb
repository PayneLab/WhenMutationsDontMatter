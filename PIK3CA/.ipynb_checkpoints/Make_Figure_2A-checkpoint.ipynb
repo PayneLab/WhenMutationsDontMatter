{
 "cells": [
  {
   "cell_type": "code",
   "execution_count": 1,
   "metadata": {},
   "outputs": [
    {
     "name": "stderr",
     "output_type": "stream",
     "text": [
      "/Users/Lindsey/anaconda3/lib/python3.7/site-packages/statsmodels/tools/_testing.py:19: FutureWarning: pandas.util.testing is deprecated. Use the functions in the public API at pandas.testing instead.\n",
      "  import pandas.util.testing as tm\n"
     ]
    }
   ],
   "source": [
    "import cptac\n",
    "import cptac.utils as u\n",
    "import seaborn as sns\n",
    "import matplotlib.pyplot as plt\n",
    "import pandas as pd"
   ]
  },
  {
   "cell_type": "markdown",
   "metadata": {},
   "source": [
    "## Load cancer data"
   ]
  },
  {
   "cell_type": "code",
   "execution_count": 2,
   "metadata": {},
   "outputs": [
    {
     "name": "stdout",
     "output_type": "stream",
     "text": [
      "                                                \r"
     ]
    }
   ],
   "source": [
    "en = cptac.Endometrial()\n",
    "col = cptac.Colon()\n",
    "br = cptac.Brca()"
   ]
  },
  {
   "cell_type": "markdown",
   "metadata": {},
   "source": [
    "## Look at the cis effect of the PIK3CA genes"
   ]
  },
  {
   "cell_type": "code",
   "execution_count": 3,
   "metadata": {},
   "outputs": [],
   "source": [
    "gene = 'PIK3CA'"
   ]
  },
  {
   "cell_type": "markdown",
   "metadata": {},
   "source": [
    "# Endometrial"
   ]
  },
  {
   "cell_type": "markdown",
   "metadata": {},
   "source": [
    "## Pull out all the missense mutation and wildtype tumors \n",
    "\n"
   ]
  },
  {
   "cell_type": "code",
   "execution_count": 4,
   "metadata": {},
   "outputs": [
    {
     "name": "stderr",
     "output_type": "stream",
     "text": [
      "cptac warning: In joining the somatic_mutation table, no mutations were found for the following samples, so they were filled with Wildtype_Tumor or Wildtype_Normal: 48 samples for the PIK3CA gene (/Users/Lindsey/anaconda3/lib/python3.7/site-packages/cptac/dataset.py, line 313)\n"
     ]
    }
   ],
   "source": [
    "endo = en.get_genotype_all_vars(\"PIK3CA\")\n",
    "endo_missense = endo.loc[endo['Mutation'] == \"Missense_Mutation\"]"
   ]
  },
  {
   "cell_type": "markdown",
   "metadata": {},
   "source": [
    "## Pull out only hotspot mutations"
   ]
  },
  {
   "cell_type": "code",
   "execution_count": 5,
   "metadata": {},
   "outputs": [],
   "source": [
    "hotspot = endo_missense[(endo_missense.Location.str.contains('E542K'))|(endo_missense.Location.str.contains('E545K'))|(endo_missense.Location.str.contains('H1047R'))]\n",
    "# hotspot"
   ]
  },
  {
   "cell_type": "markdown",
   "metadata": {},
   "source": [
    "## Get Wildtype Mutations"
   ]
  },
  {
   "cell_type": "code",
   "execution_count": 6,
   "metadata": {},
   "outputs": [],
   "source": [
    "wildtype = endo.loc[endo['Mutation'] == \"Wildtype_Tumor\"]\n",
    "result = pd.concat([hotspot, wildtype])"
   ]
  },
  {
   "cell_type": "markdown",
   "metadata": {},
   "source": [
    "## Get proteomics for PIK3CA"
   ]
  },
  {
   "cell_type": "code",
   "execution_count": 7,
   "metadata": {},
   "outputs": [],
   "source": [
    "prot = en.get_proteomics()\n",
    "prot = prot[gene]"
   ]
  },
  {
   "cell_type": "markdown",
   "metadata": {},
   "source": [
    "## Join proteomics to mutation"
   ]
  },
  {
   "cell_type": "code",
   "execution_count": 8,
   "metadata": {},
   "outputs": [],
   "source": [
    "joined = result.join(prot)"
   ]
  },
  {
   "cell_type": "markdown",
   "metadata": {},
   "source": [
    "## Drop unnecessary columns"
   ]
  },
  {
   "cell_type": "code",
   "execution_count": 9,
   "metadata": {},
   "outputs": [],
   "source": [
    "endo_missense = joined.drop(columns=['Location', 'Mutation_Status'])\n",
    "# endo_missense"
   ]
  },
  {
   "cell_type": "markdown",
   "metadata": {},
   "source": [
    "# Brca"
   ]
  },
  {
   "cell_type": "code",
   "execution_count": 10,
   "metadata": {},
   "outputs": [
    {
     "name": "stderr",
     "output_type": "stream",
     "text": [
      "cptac warning: In joining the somatic_mutation table, no mutations were found for the following samples, so they were filled with Wildtype_Tumor or Wildtype_Normal: 83 samples for the PIK3CA gene (/Users/Lindsey/anaconda3/lib/python3.7/site-packages/cptac/dataset.py, line 313)\n"
     ]
    },
    {
     "ename": "AttributeError",
     "evalue": "'Brca' object has no attribute 'reduce_multiindex'",
     "output_type": "error",
     "traceback": [
      "\u001b[0;31m---------------------------------------------------------------------------\u001b[0m",
      "\u001b[0;31mAttributeError\u001b[0m                            Traceback (most recent call last)",
      "\u001b[0;32m<ipython-input-10-ae5054c8d97e>\u001b[0m in \u001b[0;36m<module>\u001b[0;34m\u001b[0m\n\u001b[1;32m      8\u001b[0m \u001b[0;34m\u001b[0m\u001b[0m\n\u001b[1;32m      9\u001b[0m \u001b[0mprot\u001b[0m \u001b[0;34m=\u001b[0m \u001b[0mbr\u001b[0m\u001b[0;34m.\u001b[0m\u001b[0mget_proteomics\u001b[0m\u001b[0;34m(\u001b[0m\u001b[0;34m)\u001b[0m\u001b[0;34m\u001b[0m\u001b[0;34m\u001b[0m\u001b[0m\n\u001b[0;32m---> 10\u001b[0;31m \u001b[0mprot\u001b[0m \u001b[0;34m=\u001b[0m \u001b[0mbr\u001b[0m\u001b[0;34m.\u001b[0m\u001b[0mreduce_multiindex\u001b[0m\u001b[0;34m(\u001b[0m\u001b[0mprot\u001b[0m\u001b[0;34m,\u001b[0m \u001b[0;34m\"Database_ID\"\u001b[0m\u001b[0;34m)\u001b[0m\u001b[0;34m\u001b[0m\u001b[0;34m\u001b[0m\u001b[0m\n\u001b[0m\u001b[1;32m     11\u001b[0m \u001b[0mprot\u001b[0m \u001b[0;34m=\u001b[0m \u001b[0mprot\u001b[0m\u001b[0;34m[\u001b[0m\u001b[0mgene\u001b[0m\u001b[0;34m]\u001b[0m\u001b[0;34m\u001b[0m\u001b[0;34m\u001b[0m\u001b[0m\n\u001b[1;32m     12\u001b[0m \u001b[0mprot\u001b[0m\u001b[0;34m\u001b[0m\u001b[0;34m\u001b[0m\u001b[0m\n",
      "\u001b[0;31mAttributeError\u001b[0m: 'Brca' object has no attribute 'reduce_multiindex'"
     ]
    }
   ],
   "source": [
    "brca = br.get_genotype_all_vars(\"PIK3CA\")\n",
    "brca_missense = brca.loc[brca['Mutation'] == \"Missense_Mutation\"]\n",
    "\n",
    "hotspot = brca_missense[(brca_missense.Location.str.contains('E542K'))|(brca_missense.Location.str.contains('E545K'))|(brca_missense.Location.str.contains('H1047R'))]\n",
    "\n",
    "wildtype = brca.loc[brca['Mutation'] == \"Wildtype_Tumor\"]\n",
    "result = pd.concat([hotspot, wildtype])\n",
    "\n",
    "prot = br.get_proteomics()\n",
    "prot = br.reduce_multiindex(prot, \"Database_ID\")\n",
    "prot = prot[gene]\n",
    "prot\n",
    "\n",
    "joined = result.join(prot)\n",
    "\n",
    "brca_missense = joined.drop(columns=['Location', 'Mutation_Status'])\n",
    "brca_missense"
   ]
  },
  {
   "cell_type": "markdown",
   "metadata": {},
   "source": [
    "# Colon"
   ]
  },
  {
   "cell_type": "code",
   "execution_count": null,
   "metadata": {},
   "outputs": [],
   "source": [
    "colon = col.get_genotype_all_vars(\"PIK3CA\")\n",
    "colon_missense = colon.loc[colon['Mutation'] == \"nonsynonymous SNV\"]\n",
    "hotspot = colon_missense[(colon_missense.Location.str.contains('E542K'))|(colon_missense.Location.str.contains('E545K'))|(colon_missense.Location.str.contains('H1047R'))]\n",
    "\n",
    "wildtype = colon.loc[colon['Mutation'] == \"Wildtype_Tumor\"]\n",
    "result = pd.concat([hotspot, wildtype])\n",
    "\n",
    "prot = col.get_proteomics()\n",
    "prot = prot[gene]\n",
    "\n",
    "joined = result.join(prot)\n",
    "\n",
    "colon_missense = joined.drop(columns=['Location', 'Mutation_Status'])\n",
    "colon_missense"
   ]
  },
  {
   "cell_type": "markdown",
   "metadata": {},
   "source": [
    "# Final Graph"
   ]
  },
  {
   "cell_type": "markdown",
   "metadata": {},
   "source": [
    "## Reformat dataframes"
   ]
  },
  {
   "cell_type": "code",
   "execution_count": null,
   "metadata": {},
   "outputs": [],
   "source": [
    "endo_missense = endo_missense.assign(cancer = 'Endometrial')\n",
    "brca_missense = brca_missense.assign(cancer = 'Brca')\n",
    "colon_missense = colon_missense.assign(cancer = 'Colon')\n",
    "colon_missense[\"Mutation\"] = colon_missense[\"Mutation\"].replace(\"nonsynonymous SNV\", \"Missense_Mutation\")"
   ]
  },
  {
   "cell_type": "code",
   "execution_count": null,
   "metadata": {},
   "outputs": [],
   "source": [
    "endo_missense.head()"
   ]
  },
  {
   "cell_type": "code",
   "execution_count": null,
   "metadata": {},
   "outputs": [],
   "source": [
    "brca_missense.head()"
   ]
  },
  {
   "cell_type": "code",
   "execution_count": null,
   "metadata": {},
   "outputs": [],
   "source": [
    "colon_missense.head(10)"
   ]
  },
  {
   "cell_type": "markdown",
   "metadata": {},
   "source": [
    "## Join all the cancer data tables together.\n",
    "This is the one we will use to make the graph"
   ]
  },
  {
   "cell_type": "code",
   "execution_count": null,
   "metadata": {},
   "outputs": [],
   "source": [
    "df = endo_missense.append(brca_missense)\n",
    "df = df.append(colon_missense)\n",
    "df"
   ]
  },
  {
   "cell_type": "code",
   "execution_count": null,
   "metadata": {},
   "outputs": [],
   "source": [
    "# pancancer cis plot\n",
    "gene = 'PIK3CA'\n",
    "plt.rcParams['figure.figsize']=(11.7,8.5) #size of plot\n",
    "sns.set(font_scale = 1.2)\n",
    "\n",
    "boxplot = sns.boxplot(x='cancer', y=gene, data = df, hue = 'Mutation',\n",
    "                      hue_order = [\"Wildtype_Tumor\", \"Missense_Mutation\"], showfliers = False)    \n",
    "boxplot.set_title('Pancancer cis Effect of PIK3CA Hotspot Mutations')\n",
    "boxplot = sns.stripplot(x='cancer', y=gene, data = df, jitter = True, \n",
    "                           color = \".3\", hue = 'Mutation', hue_order = [\"Wildtype_Tumor\", \"Missense_Mutation\"], dodge = True)\n",
    "boxplot.set(xlabel = \"\\nPTEN Wildtype/Hotspot_Mutation\", ylabel = gene+\"_proteomics\")\n",
    "\n",
    "# format legend\n",
    "handles, labels = boxplot.get_legend_handles_labels()\n",
    "plt.legend(handles, ['Wildtype', 'Hotspot_Mutation'])\n",
    "\n",
    "\n",
    "\n",
    "plt.show()\n",
    "plt.clf()\n",
    "plt.close()"
   ]
  },
  {
   "cell_type": "code",
   "execution_count": null,
   "metadata": {},
   "outputs": [],
   "source": []
  },
  {
   "cell_type": "code",
   "execution_count": null,
   "metadata": {},
   "outputs": [],
   "source": []
  },
  {
   "cell_type": "code",
   "execution_count": null,
   "metadata": {},
   "outputs": [],
   "source": [
    "fig = boxplot.get_figure()\n",
    "fig.savefig(\"cis_effects_proteomics.png\")"
   ]
  }
 ],
 "metadata": {
  "kernelspec": {
   "display_name": "Python 3",
   "language": "python",
   "name": "python3"
  },
  "language_info": {
   "codemirror_mode": {
    "name": "ipython",
    "version": 3
   },
   "file_extension": ".py",
   "mimetype": "text/x-python",
   "name": "python",
   "nbconvert_exporter": "python",
   "pygments_lexer": "ipython3",
   "version": "3.7.3"
  }
 },
 "nbformat": 4,
 "nbformat_minor": 2
}
