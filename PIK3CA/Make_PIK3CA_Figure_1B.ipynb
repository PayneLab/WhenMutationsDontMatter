{
 "cells": [
  {
   "cell_type": "markdown",
   "metadata": {},
   "source": [
    "# Make PIK3CA Figure 1B"
   ]
  },
  {
   "cell_type": "markdown",
   "metadata": {},
   "source": [
    "This notebook makes PIK3CA figure 1B. It shows the cis effect of PIK3CA hotspot mutations for colon, breast, and endometrial cancer. "
   ]
  },
  {
   "cell_type": "code",
   "execution_count": 1,
   "metadata": {},
   "outputs": [
    {
     "name": "stderr",
     "output_type": "stream",
     "text": [
      "/Users/Lindsey/anaconda3/lib/python3.7/site-packages/statsmodels/tools/_testing.py:19: FutureWarning: pandas.util.testing is deprecated. Use the functions in the public API at pandas.testing instead.\n",
      "  import pandas.util.testing as tm\n",
      "cptac warning: Your version of cptac (0.8.1) is out-of-date. Latest is 0.8.2. Please run 'pip install --upgrade cptac' to update it. (/Users/Lindsey/anaconda3/lib/python3.7/site-packages/ipykernel_launcher.py, line 1)\n"
     ]
    }
   ],
   "source": [
    "import cptac\n",
    "import cptac.utils as u\n",
    "import seaborn as sns\n",
    "import matplotlib.pyplot as plt\n",
    "import pandas as pd"
   ]
  },
  {
   "cell_type": "code",
   "execution_count": 2,
   "metadata": {},
   "outputs": [],
   "source": [
    "import warnings\n",
    "warnings.filterwarnings('ignore')"
   ]
  },
  {
   "cell_type": "markdown",
   "metadata": {},
   "source": [
    "## Load cancer data"
   ]
  },
  {
   "cell_type": "code",
   "execution_count": 3,
   "metadata": {},
   "outputs": [
    {
     "name": "stdout",
     "output_type": "stream",
     "text": [
      "                                                \r"
     ]
    }
   ],
   "source": [
    "en = cptac.Endometrial()\n",
    "col = cptac.Colon()\n",
    "br = cptac.Brca()"
   ]
  },
  {
   "cell_type": "markdown",
   "metadata": {},
   "source": [
    "## For each tumor type, make a data frame with mutation status and proteomic data. "
   ]
  },
  {
   "cell_type": "code",
   "execution_count": 4,
   "metadata": {},
   "outputs": [],
   "source": [
    "gene = 'PIK3CA'"
   ]
  },
  {
   "cell_type": "code",
   "execution_count": 5,
   "metadata": {},
   "outputs": [],
   "source": [
    "def MakeCisEffectdf (cancer, gene):\n",
    "    # Get missense mutations\n",
    "    \n",
    "    mutation_df = cancer.get_genotype_all_vars(\"PIK3CA\")\n",
    "    if cancer == col:    \n",
    "        cancer_missense = mutation_df.loc[mutation_df['Mutation'] == \"nonsynonymous SNV\"]\n",
    "    else: \n",
    "        cancer_missense = mutation_df.loc[mutation_df['Mutation'] == \"Missense_Mutation\"]\n",
    "    #Get only hotspot mutations\n",
    "    hotspot = cancer_missense[(cancer_missense.Location.str.contains('E542K'))|(cancer_missense.Location.str.contains('E545K'))|(cancer_missense.Location.str.contains('H1047R'))]\n",
    "    #Get wildtype \n",
    "    wildtype = mutation_df.loc[mutation_df['Mutation'] == \"Wildtype_Tumor\"]\n",
    "    result = pd.concat([hotspot, wildtype])\n",
    "    #Get proteomics\n",
    "    prot = cancer.get_proteomics(tissue_type = \"tumor\")\n",
    "    if isinstance(prot.keys(), pd.core.indexes.multi.MultiIndex):\n",
    "        prot = u.reduce_multiindex(prot, levels_to_drop = 1)\n",
    "    prot = prot[gene]\n",
    "    # join mutaion to proteomics\n",
    "    joined = result.join(prot)\n",
    "    #drop unneccesary columns \n",
    "    cancer_missense = joined.drop(columns=['Location', 'Mutation_Status'])\n",
    " \n",
    "    return cancer_missense"
   ]
  },
  {
   "cell_type": "markdown",
   "metadata": {},
   "source": [
    "# Endometrial"
   ]
  },
  {
   "cell_type": "code",
   "execution_count": 6,
   "metadata": {},
   "outputs": [],
   "source": [
    "endo_missense = MakeCisEffectdf(en,gene)"
   ]
  },
  {
   "cell_type": "code",
   "execution_count": 7,
   "metadata": {},
   "outputs": [
    {
     "data": {
      "text/html": [
       "<div>\n",
       "<style scoped>\n",
       "    .dataframe tbody tr th:only-of-type {\n",
       "        vertical-align: middle;\n",
       "    }\n",
       "\n",
       "    .dataframe tbody tr th {\n",
       "        vertical-align: top;\n",
       "    }\n",
       "\n",
       "    .dataframe thead th {\n",
       "        text-align: right;\n",
       "    }\n",
       "</style>\n",
       "<table border=\"1\" class=\"dataframe\">\n",
       "  <thead>\n",
       "    <tr style=\"text-align: right;\">\n",
       "      <th></th>\n",
       "      <th>Comparison</th>\n",
       "      <th>P_Value</th>\n",
       "    </tr>\n",
       "  </thead>\n",
       "  <tbody>\n",
       "    <tr>\n",
       "      <th>0</th>\n",
       "      <td>PIK3CA</td>\n",
       "      <td>0.003532</td>\n",
       "    </tr>\n",
       "  </tbody>\n",
       "</table>\n",
       "</div>"
      ],
      "text/plain": [
       "  Comparison   P_Value\n",
       "0     PIK3CA  0.003532"
      ]
     },
     "execution_count": 7,
     "metadata": {},
     "output_type": "execute_result"
    }
   ],
   "source": [
    "\n",
    "endo_pval = u.wrap_ttest(endo_missense, 'Mutation', ['PIK3CA'], return_all=True)\n",
    "endo_pval"
   ]
  },
  {
   "cell_type": "markdown",
   "metadata": {},
   "source": [
    "# Brca"
   ]
  },
  {
   "cell_type": "code",
   "execution_count": 8,
   "metadata": {},
   "outputs": [],
   "source": [
    "brca_missense = MakeCisEffectdf(br,gene)"
   ]
  },
  {
   "cell_type": "code",
   "execution_count": 9,
   "metadata": {},
   "outputs": [
    {
     "data": {
      "text/html": [
       "<div>\n",
       "<style scoped>\n",
       "    .dataframe tbody tr th:only-of-type {\n",
       "        vertical-align: middle;\n",
       "    }\n",
       "\n",
       "    .dataframe tbody tr th {\n",
       "        vertical-align: top;\n",
       "    }\n",
       "\n",
       "    .dataframe thead th {\n",
       "        text-align: right;\n",
       "    }\n",
       "</style>\n",
       "<table border=\"1\" class=\"dataframe\">\n",
       "  <thead>\n",
       "    <tr style=\"text-align: right;\">\n",
       "      <th></th>\n",
       "      <th>Comparison</th>\n",
       "      <th>P_Value</th>\n",
       "    </tr>\n",
       "  </thead>\n",
       "  <tbody>\n",
       "    <tr>\n",
       "      <th>0</th>\n",
       "      <td>PIK3CA</td>\n",
       "      <td>0.294277</td>\n",
       "    </tr>\n",
       "  </tbody>\n",
       "</table>\n",
       "</div>"
      ],
      "text/plain": [
       "  Comparison   P_Value\n",
       "0     PIK3CA  0.294277"
      ]
     },
     "execution_count": 9,
     "metadata": {},
     "output_type": "execute_result"
    }
   ],
   "source": [
    "\n",
    "brca_pval = u.wrap_ttest(brca_missense, 'Mutation', ['PIK3CA'], return_all=True)\n",
    "brca_pval"
   ]
  },
  {
   "cell_type": "markdown",
   "metadata": {},
   "source": [
    "# Colon"
   ]
  },
  {
   "cell_type": "code",
   "execution_count": 10,
   "metadata": {},
   "outputs": [],
   "source": [
    "colon_missense = MakeCisEffectdf(col,gene)"
   ]
  },
  {
   "cell_type": "code",
   "execution_count": 11,
   "metadata": {},
   "outputs": [
    {
     "data": {
      "text/html": [
       "<div>\n",
       "<style scoped>\n",
       "    .dataframe tbody tr th:only-of-type {\n",
       "        vertical-align: middle;\n",
       "    }\n",
       "\n",
       "    .dataframe tbody tr th {\n",
       "        vertical-align: top;\n",
       "    }\n",
       "\n",
       "    .dataframe thead th {\n",
       "        text-align: right;\n",
       "    }\n",
       "</style>\n",
       "<table border=\"1\" class=\"dataframe\">\n",
       "  <thead>\n",
       "    <tr style=\"text-align: right;\">\n",
       "      <th></th>\n",
       "      <th>Comparison</th>\n",
       "      <th>P_Value</th>\n",
       "    </tr>\n",
       "  </thead>\n",
       "  <tbody>\n",
       "    <tr>\n",
       "      <th>0</th>\n",
       "      <td>PIK3CA</td>\n",
       "      <td>0.670369</td>\n",
       "    </tr>\n",
       "  </tbody>\n",
       "</table>\n",
       "</div>"
      ],
      "text/plain": [
       "  Comparison   P_Value\n",
       "0     PIK3CA  0.670369"
      ]
     },
     "execution_count": 11,
     "metadata": {},
     "output_type": "execute_result"
    }
   ],
   "source": [
    "colon_pval = u.wrap_ttest(colon_missense, 'Mutation', ['PIK3CA'], return_all=True)\n",
    "colon_pval"
   ]
  },
  {
   "cell_type": "markdown",
   "metadata": {},
   "source": [
    "# Make final data frame"
   ]
  },
  {
   "cell_type": "markdown",
   "metadata": {},
   "source": [
    "Add cancer type column"
   ]
  },
  {
   "cell_type": "code",
   "execution_count": 12,
   "metadata": {},
   "outputs": [],
   "source": [
    "endo_missense = endo_missense.assign(cancer = 'Endometrial')\n",
    "brca_missense = brca_missense.assign(cancer = 'Breast')\n",
    "colon_missense = colon_missense.assign(cancer = 'Colon')\n",
    "colon_missense[\"Mutation\"] = colon_missense[\"Mutation\"].replace(\"nonsynonymous SNV\", \"Missense_Mutation\")"
   ]
  },
  {
   "cell_type": "markdown",
   "metadata": {},
   "source": [
    "Join all the cancer data tables together in order to make figure 1B.\n"
   ]
  },
  {
   "cell_type": "code",
   "execution_count": 13,
   "metadata": {},
   "outputs": [
    {
     "data": {
      "text/html": [
       "<div>\n",
       "<style scoped>\n",
       "    .dataframe tbody tr th:only-of-type {\n",
       "        vertical-align: middle;\n",
       "    }\n",
       "\n",
       "    .dataframe tbody tr th {\n",
       "        vertical-align: top;\n",
       "    }\n",
       "\n",
       "    .dataframe thead th {\n",
       "        text-align: right;\n",
       "    }\n",
       "</style>\n",
       "<table border=\"1\" class=\"dataframe\">\n",
       "  <thead>\n",
       "    <tr style=\"text-align: right;\">\n",
       "      <th></th>\n",
       "      <th>Mutation</th>\n",
       "      <th>PIK3CA</th>\n",
       "      <th>cancer</th>\n",
       "    </tr>\n",
       "    <tr>\n",
       "      <th>Patient_ID</th>\n",
       "      <th></th>\n",
       "      <th></th>\n",
       "      <th></th>\n",
       "    </tr>\n",
       "  </thead>\n",
       "  <tbody>\n",
       "    <tr>\n",
       "      <th>C3L-00006</th>\n",
       "      <td>Missense_Mutation</td>\n",
       "      <td>-0.450</td>\n",
       "      <td>Endometrial</td>\n",
       "    </tr>\n",
       "    <tr>\n",
       "      <th>C3L-00032</th>\n",
       "      <td>Missense_Mutation</td>\n",
       "      <td>-0.178</td>\n",
       "      <td>Endometrial</td>\n",
       "    </tr>\n",
       "    <tr>\n",
       "      <th>C3L-00362</th>\n",
       "      <td>Missense_Mutation</td>\n",
       "      <td>-0.469</td>\n",
       "      <td>Endometrial</td>\n",
       "    </tr>\n",
       "    <tr>\n",
       "      <th>C3L-00601</th>\n",
       "      <td>Missense_Mutation</td>\n",
       "      <td>-0.752</td>\n",
       "      <td>Endometrial</td>\n",
       "    </tr>\n",
       "    <tr>\n",
       "      <th>C3L-00605</th>\n",
       "      <td>Missense_Mutation</td>\n",
       "      <td>-0.503</td>\n",
       "      <td>Endometrial</td>\n",
       "    </tr>\n",
       "  </tbody>\n",
       "</table>\n",
       "</div>"
      ],
      "text/plain": [
       "                     Mutation  PIK3CA       cancer\n",
       "Patient_ID                                        \n",
       "C3L-00006   Missense_Mutation  -0.450  Endometrial\n",
       "C3L-00032   Missense_Mutation  -0.178  Endometrial\n",
       "C3L-00362   Missense_Mutation  -0.469  Endometrial\n",
       "C3L-00601   Missense_Mutation  -0.752  Endometrial\n",
       "C3L-00605   Missense_Mutation  -0.503  Endometrial"
      ]
     },
     "execution_count": 13,
     "metadata": {},
     "output_type": "execute_result"
    }
   ],
   "source": [
    "df = endo_missense.append(brca_missense)\n",
    "df = df.append(colon_missense)\n",
    "df.head()"
   ]
  },
  {
   "cell_type": "code",
   "execution_count": 14,
   "metadata": {},
   "outputs": [],
   "source": [
    "def format_pval_annotation(pval_symbol, x1, x2, line_start = .05, line_height=.05):\n",
    "    # for manual adjustment to pval annotations\n",
    "    \n",
    "    y, h = line_start, line_height\n",
    "    plt.plot([x1, x1, x2, x2], #draw horizontal line\n",
    "             [y, y+h, y+h, y], #vertical line\n",
    "             lw=1.5, color= '.3')\n",
    "    plt.text((x1+x2)*.5, # half between x coord\n",
    "             y+h, pval_symbol, horizontalalignment='center', verticalalignment='bottom', color = \"black\")\n"
   ]
  },
  {
   "cell_type": "markdown",
   "metadata": {},
   "source": [
    "# Make PIK3CA Figure 1B"
   ]
  },
  {
   "cell_type": "code",
   "execution_count": 15,
   "metadata": {},
   "outputs": [
    {
     "data": {
      "image/png": "[encoded data removed]",
      "text/plain": [
       "<Figure size 842.4x612 with 1 Axes>"
      ]
     },
     "metadata": {},
     "output_type": "display_data"
    }
   ],
   "source": [
    "# pancancer cis plot\n",
    "gene = 'PIK3CA'\n",
    "plt.rcParams['figure.figsize']=(11.7,8.5) #size of plot\n",
    "sns.set(font_scale = 1.2)\n",
    "\n",
    "boxplot = sns.boxplot(x='cancer', y=gene, data = df, hue = 'Mutation',\n",
    "                      hue_order = [\"Wildtype_Tumor\", \"Missense_Mutation\"], showfliers = False)    \n",
    "boxplot = sns.stripplot(x='cancer', y=gene, data = df, jitter = True, \n",
    "                           color = \".3\", hue = 'Mutation', hue_order = [\"Wildtype_Tumor\", \"Missense_Mutation\"], dodge = True)\n",
    "boxplot.set(xlabel = \"\", ylabel = gene+\"_proteomics\")\n",
    "\n",
    "# format legend\n",
    "handles, labels = boxplot.get_legend_handles_labels()\n",
    "plt.legend(handles, ['Wildtype', 'Hotspot_Mutation'])\n",
    "\n",
    "cancer_list = [ endo_pval, brca_pval, colon_pval]\n",
    "# create pval annotations\n",
    "symbols = {}\n",
    "i = 0\n",
    "for cancer_df in cancer_list:\n",
    "\n",
    "    pval = float(cancer_df['P_Value'])\n",
    "    cancer_names = [\"En\",\"Brca\",\"Colon\"]\n",
    "    cancer = cancer_names [i]\n",
    "    if pval  <= 0.001:\n",
    "         symbols[cancer] = '***'\n",
    "    elif pval  <= 0.01:\n",
    "        symbols[cancer] = '**'  \n",
    "    elif pval <= 0.05:\n",
    "        symbols[cancer] = '*'\n",
    "    else:\n",
    "        symbols[cancer] = 'ns'\n",
    "    i += 1\n",
    "format_pval_annotation(symbols['En'], -.4, 0.3, 1) # Endometrial\n",
    "format_pval_annotation(symbols['Brca'], .6, 1.4, 2) # Brca\n",
    "format_pval_annotation(symbols['Colon'], 1.6, 2.2, 1)  # Colon\n",
    "\n",
    "plt.show()\n",
    "plt.clf()\n",
    "plt.close()"
   ]
  },
  {
   "cell_type": "code",
   "execution_count": 16,
   "metadata": {},
   "outputs": [],
   "source": [
    "fig = boxplot.get_figure()\n",
    "fig.savefig(\"PIK3CA_Fig1B.png\", dpi = 300)"
   ]
  },
  {
   "cell_type": "code",
   "execution_count": null,
   "metadata": {},
   "outputs": [],
   "source": []
  }
 ],
 "metadata": {
  "kernelspec": {
   "display_name": "Python 3",
   "language": "python",
   "name": "python3"
  },
  "language_info": {
   "codemirror_mode": {
    "name": "ipython",
    "version": 3
   },
   "file_extension": ".py",
   "mimetype": "text/x-python",
   "name": "python",
   "nbconvert_exporter": "python",
   "pygments_lexer": "ipython3",
   "version": "3.7.3"
  }
 },
 "nbformat": 4,
 "nbformat_minor": 2
}
