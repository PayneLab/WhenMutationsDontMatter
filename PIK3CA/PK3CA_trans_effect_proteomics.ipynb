{
 "cells": [
  {
   "cell_type": "markdown",
   "metadata": {},
   "source": [
    "# PIK3CA trans protein pathway data munging "
   ]
  },
  {
   "cell_type": "markdown",
   "metadata": {},
   "source": [
    "This notebook performs t-tests of protein abundance between PIK3CA hotspot mutations (E542K,E545K,and H1047R)and wildtype tumors (no PIK3CA mutation of any kind) for a proteins within the PI3K-AKT wiki pathway"
   ]
  },
  {
   "cell_type": "code",
   "execution_count": 3,
   "metadata": {},
   "outputs": [],
   "source": [
    "import pandas as pd\n",
    "import numpy as np\n",
    "import seaborn as sns\n",
    "import scipy.stats\n",
    "import matplotlib.pyplot as plt\n",
    "import sys \n",
    "import re\n",
    "import cptac\n",
    "import statsmodels.stats.multitest\n",
    "import operator\n",
    "import cptac.utils as u\n",
    "import warnings\n",
    "warnings.filterwarnings('ignore')"
   ]
  },
  {
   "cell_type": "code",
   "execution_count": 4,
   "metadata": {},
   "outputs": [
    {
     "name": "stdout",
     "output_type": "stream",
     "text": [
      "                                                \r"
     ]
    }
   ],
   "source": [
    "#Load CPTAC data sets\n",
    "br = cptac.Brca()\n",
    "endo = cptac.Endometrial()\n",
    "col = cptac.Colon()"
   ]
  },
  {
   "cell_type": "code",
   "execution_count": 5,
   "metadata": {},
   "outputs": [
    {
     "data": {
      "text/plain": [
       "'0.8.5'"
      ]
     },
     "execution_count": 5,
     "metadata": {},
     "output_type": "execute_result"
    }
   ],
   "source": [
    "#cptac version\n",
    "cptac.version()"
   ]
  },
  {
   "cell_type": "code",
   "execution_count": 6,
   "metadata": {},
   "outputs": [],
   "source": [
    "def rename_duplicate_cols(df):\n",
    "    cols = pd.Series(df.columns[:])\n",
    "\n",
    "    for dup in cols[cols.duplicated()].unique(): \n",
    "        cols[cols[cols == dup].index.values.tolist()] = [dup + '_' + str(i) if i != 0 else dup for i in range(sum(cols == dup))]\n",
    "\n",
    "    # rename the columns with the cols list.\n",
    "    df.columns=cols\n",
    "    return df"
   ]
  },
  {
   "cell_type": "code",
   "execution_count": 7,
   "metadata": {},
   "outputs": [],
   "source": [
    "def get_prot_mutations_df(cancer_type, prot_list):\n",
    "    prot = cancer_type.join_omics_to_mutations(omics_df_name = \"proteomics\",mutations_genes=\"PIK3CA\", tissue_type=\"tumor\")\n",
    "    if cancer_type == br:\n",
    "        prot= u.reduce_multiindex(df=prot, levels_to_drop=[\"Database_ID\"])\n",
    "    genefilter = prot.columns.get_level_values(\"Name\").isin(prot_list)\n",
    "    prot_pik3ca = prot[prot.columns[genefilter]]\n",
    "    prot_pik3ca = cptac.utils.reduce_multiindex(prot_pik3ca, flatten=True)\n",
    "    prot_pik3ca['PIK3CA_Mutation'] = [','.join(map(str, l)) for l in prot_pik3ca['PIK3CA_Mutation']]\n",
    "    prot_pik3ca['PIK3CA_Location'] = [','.join(map(str, l)) for l in prot_pik3ca['PIK3CA_Location']]\n",
    "    prot_pik3ca = rename_duplicate_cols(prot_pik3ca)\n",
    "    \n",
    "    hotspot= prot_pik3ca[(prot_pik3ca.PIK3CA_Location.str.contains('E542K'))| \n",
    "                    prot_pik3ca.PIK3CA_Location.str.contains('E545K')| \n",
    "                   prot_pik3ca.PIK3CA_Location.str.contains('H1047R')]\n",
    "    hotspot[\"PIK3CA_Mutation\"] = \"Hotspot\"\n",
    "    wt = prot_pik3ca[(prot_pik3ca.PIK3CA_Mutation.str.contains('Wildtype'))]\n",
    "    hotspot_wt = pd.concat([hotspot, wt])\n",
    "    cols = hotspot_wt.columns.to_list()\n",
    "    cols.remove(\"PIK3CA_Mutation\")\n",
    "    cols.remove(\"PIK3CA_Location\")\n",
    "    prot_pval = u.wrap_ttest(hotspot_wt, 'PIK3CA_Mutation', cols,return_all=True, pval_return_corrected= True, correction_method= \"FDR_bh\")\n",
    "    return prot_pval"
   ]
  },
  {
   "cell_type": "code",
   "execution_count": 27,
   "metadata": {},
   "outputs": [],
   "source": [
    "prot = u.get_proteins_in_pathways('PI3K-Akt Signaling Pathway', 'wikipathways')\n",
    "proteins = list(prot.member)\n",
    "\n",
    "prot_list = [prot + \"_proteomics\" for prot in proteins]\n",
    "prot_list.append(\"PIK3CA_Mutation\")\n",
    "prot_list.append(\"PIK3CA_Location\")\n"
   ]
  },
  {
   "cell_type": "code",
   "execution_count": 28,
   "metadata": {},
   "outputs": [
    {
     "data": {
      "text/html": [
       "<div>\n",
       "<style scoped>\n",
       "    .dataframe tbody tr th:only-of-type {\n",
       "        vertical-align: middle;\n",
       "    }\n",
       "\n",
       "    .dataframe tbody tr th {\n",
       "        vertical-align: top;\n",
       "    }\n",
       "\n",
       "    .dataframe thead th {\n",
       "        text-align: right;\n",
       "    }\n",
       "</style>\n",
       "<table border=\"1\" class=\"dataframe\">\n",
       "  <thead>\n",
       "    <tr style=\"text-align: right;\">\n",
       "      <th></th>\n",
       "      <th>Comparison</th>\n",
       "      <th>P_Value</th>\n",
       "    </tr>\n",
       "  </thead>\n",
       "  <tbody>\n",
       "    <tr>\n",
       "      <th>0</th>\n",
       "      <td>HSP90B1_proteomics</td>\n",
       "      <td>0.257892</td>\n",
       "    </tr>\n",
       "    <tr>\n",
       "      <th>1</th>\n",
       "      <td>TNN_proteomics</td>\n",
       "      <td>0.257892</td>\n",
       "    </tr>\n",
       "    <tr>\n",
       "      <th>2</th>\n",
       "      <td>FN1_proteomics_1</td>\n",
       "      <td>0.257892</td>\n",
       "    </tr>\n",
       "    <tr>\n",
       "      <th>3</th>\n",
       "      <td>TSC1_proteomics</td>\n",
       "      <td>0.257892</td>\n",
       "    </tr>\n",
       "    <tr>\n",
       "      <th>4</th>\n",
       "      <td>FN1_proteomics_3</td>\n",
       "      <td>0.257892</td>\n",
       "    </tr>\n",
       "    <tr>\n",
       "      <th>5</th>\n",
       "      <td>FOXO3_proteomics</td>\n",
       "      <td>0.330394</td>\n",
       "    </tr>\n",
       "    <tr>\n",
       "      <th>6</th>\n",
       "      <td>ITGB5_proteomics</td>\n",
       "      <td>0.330394</td>\n",
       "    </tr>\n",
       "    <tr>\n",
       "      <th>7</th>\n",
       "      <td>RHEB_proteomics</td>\n",
       "      <td>0.358650</td>\n",
       "    </tr>\n",
       "    <tr>\n",
       "      <th>8</th>\n",
       "      <td>COL1A2_proteomics</td>\n",
       "      <td>0.358650</td>\n",
       "    </tr>\n",
       "    <tr>\n",
       "      <th>9</th>\n",
       "      <td>TP53_proteomics</td>\n",
       "      <td>0.389823</td>\n",
       "    </tr>\n",
       "  </tbody>\n",
       "</table>\n",
       "</div>"
      ],
      "text/plain": [
       "           Comparison   P_Value\n",
       "0  HSP90B1_proteomics  0.257892\n",
       "1      TNN_proteomics  0.257892\n",
       "2    FN1_proteomics_1  0.257892\n",
       "3     TSC1_proteomics  0.257892\n",
       "4    FN1_proteomics_3  0.257892\n",
       "5    FOXO3_proteomics  0.330394\n",
       "6    ITGB5_proteomics  0.330394\n",
       "7     RHEB_proteomics  0.358650\n",
       "8   COL1A2_proteomics  0.358650\n",
       "9     TP53_proteomics  0.389823"
      ]
     },
     "execution_count": 28,
     "metadata": {},
     "output_type": "execute_result"
    }
   ],
   "source": [
    "#Wiki pathway\n",
    "brca_results = get_prot_mutations_df(br, prot_list)\n",
    "brca_results.head(10)"
   ]
  },
  {
   "cell_type": "markdown",
   "metadata": {},
   "source": [
    "# Endo"
   ]
  },
  {
   "cell_type": "code",
   "execution_count": 29,
   "metadata": {},
   "outputs": [
    {
     "data": {
      "text/html": [
       "<div>\n",
       "<style scoped>\n",
       "    .dataframe tbody tr th:only-of-type {\n",
       "        vertical-align: middle;\n",
       "    }\n",
       "\n",
       "    .dataframe tbody tr th {\n",
       "        vertical-align: top;\n",
       "    }\n",
       "\n",
       "    .dataframe thead th {\n",
       "        text-align: right;\n",
       "    }\n",
       "</style>\n",
       "<table border=\"1\" class=\"dataframe\">\n",
       "  <thead>\n",
       "    <tr style=\"text-align: right;\">\n",
       "      <th></th>\n",
       "      <th>Comparison</th>\n",
       "      <th>P_Value</th>\n",
       "    </tr>\n",
       "  </thead>\n",
       "  <tbody>\n",
       "    <tr>\n",
       "      <th>0</th>\n",
       "      <td>JAK1_proteomics</td>\n",
       "      <td>0.281678</td>\n",
       "    </tr>\n",
       "    <tr>\n",
       "      <th>1</th>\n",
       "      <td>LAMA1_proteomics</td>\n",
       "      <td>0.281678</td>\n",
       "    </tr>\n",
       "    <tr>\n",
       "      <th>2</th>\n",
       "      <td>PPP2R2D_proteomics</td>\n",
       "      <td>0.281678</td>\n",
       "    </tr>\n",
       "    <tr>\n",
       "      <th>3</th>\n",
       "      <td>PIK3CA_proteomics</td>\n",
       "      <td>0.281678</td>\n",
       "    </tr>\n",
       "    <tr>\n",
       "      <th>4</th>\n",
       "      <td>COL1A1_proteomics</td>\n",
       "      <td>0.281678</td>\n",
       "    </tr>\n",
       "    <tr>\n",
       "      <th>...</th>\n",
       "      <td>...</td>\n",
       "      <td>...</td>\n",
       "    </tr>\n",
       "    <tr>\n",
       "      <th>192</th>\n",
       "      <td>FN1_proteomics</td>\n",
       "      <td>0.987913</td>\n",
       "    </tr>\n",
       "    <tr>\n",
       "      <th>193</th>\n",
       "      <td>MAP2K1_proteomics</td>\n",
       "      <td>0.987913</td>\n",
       "    </tr>\n",
       "    <tr>\n",
       "      <th>194</th>\n",
       "      <td>PPP2R1A_proteomics</td>\n",
       "      <td>0.987913</td>\n",
       "    </tr>\n",
       "    <tr>\n",
       "      <th>195</th>\n",
       "      <td>FGFR3_proteomics</td>\n",
       "      <td>0.987913</td>\n",
       "    </tr>\n",
       "    <tr>\n",
       "      <th>196</th>\n",
       "      <td>CDC37_proteomics</td>\n",
       "      <td>0.995070</td>\n",
       "    </tr>\n",
       "  </tbody>\n",
       "</table>\n",
       "<p>197 rows × 2 columns</p>\n",
       "</div>"
      ],
      "text/plain": [
       "             Comparison   P_Value\n",
       "0       JAK1_proteomics  0.281678\n",
       "1      LAMA1_proteomics  0.281678\n",
       "2    PPP2R2D_proteomics  0.281678\n",
       "3     PIK3CA_proteomics  0.281678\n",
       "4     COL1A1_proteomics  0.281678\n",
       "..                  ...       ...\n",
       "192      FN1_proteomics  0.987913\n",
       "193   MAP2K1_proteomics  0.987913\n",
       "194  PPP2R1A_proteomics  0.987913\n",
       "195    FGFR3_proteomics  0.987913\n",
       "196    CDC37_proteomics  0.995070\n",
       "\n",
       "[197 rows x 2 columns]"
      ]
     },
     "execution_count": 29,
     "metadata": {},
     "output_type": "execute_result"
    }
   ],
   "source": [
    "endo_results = get_prot_mutations_df(endo, prot_list)\n",
    "endo_results"
   ]
  },
  {
   "cell_type": "markdown",
   "metadata": {},
   "source": [
    "# Colon "
   ]
  },
  {
   "cell_type": "code",
   "execution_count": 30,
   "metadata": {},
   "outputs": [
    {
     "data": {
      "text/html": [
       "<div>\n",
       "<style scoped>\n",
       "    .dataframe tbody tr th:only-of-type {\n",
       "        vertical-align: middle;\n",
       "    }\n",
       "\n",
       "    .dataframe tbody tr th {\n",
       "        vertical-align: top;\n",
       "    }\n",
       "\n",
       "    .dataframe thead th {\n",
       "        text-align: right;\n",
       "    }\n",
       "</style>\n",
       "<table border=\"1\" class=\"dataframe\">\n",
       "  <thead>\n",
       "    <tr style=\"text-align: right;\">\n",
       "      <th></th>\n",
       "      <th>Comparison</th>\n",
       "      <th>P_Value</th>\n",
       "    </tr>\n",
       "  </thead>\n",
       "  <tbody>\n",
       "    <tr>\n",
       "      <th>0</th>\n",
       "      <td>AKT1_proteomics</td>\n",
       "      <td>0.983575</td>\n",
       "    </tr>\n",
       "    <tr>\n",
       "      <th>1</th>\n",
       "      <td>PIK3R2_proteomics</td>\n",
       "      <td>0.983575</td>\n",
       "    </tr>\n",
       "    <tr>\n",
       "      <th>2</th>\n",
       "      <td>PIK3R1_proteomics</td>\n",
       "      <td>0.983575</td>\n",
       "    </tr>\n",
       "    <tr>\n",
       "      <th>3</th>\n",
       "      <td>PIK3AP1_proteomics</td>\n",
       "      <td>0.983575</td>\n",
       "    </tr>\n",
       "    <tr>\n",
       "      <th>4</th>\n",
       "      <td>PDPK1_proteomics</td>\n",
       "      <td>0.983575</td>\n",
       "    </tr>\n",
       "    <tr>\n",
       "      <th>...</th>\n",
       "      <td>...</td>\n",
       "      <td>...</td>\n",
       "    </tr>\n",
       "    <tr>\n",
       "      <th>130</th>\n",
       "      <td>CSF1R_proteomics</td>\n",
       "      <td>0.994204</td>\n",
       "    </tr>\n",
       "    <tr>\n",
       "      <th>131</th>\n",
       "      <td>PKN2_proteomics</td>\n",
       "      <td>0.994204</td>\n",
       "    </tr>\n",
       "    <tr>\n",
       "      <th>132</th>\n",
       "      <td>AKT2_proteomics</td>\n",
       "      <td>0.994204</td>\n",
       "    </tr>\n",
       "    <tr>\n",
       "      <th>133</th>\n",
       "      <td>PPP2R5C_proteomics</td>\n",
       "      <td>0.994204</td>\n",
       "    </tr>\n",
       "    <tr>\n",
       "      <th>134</th>\n",
       "      <td>GYS1_proteomics</td>\n",
       "      <td>0.994204</td>\n",
       "    </tr>\n",
       "  </tbody>\n",
       "</table>\n",
       "<p>135 rows × 2 columns</p>\n",
       "</div>"
      ],
      "text/plain": [
       "             Comparison   P_Value\n",
       "0       AKT1_proteomics  0.983575\n",
       "1     PIK3R2_proteomics  0.983575\n",
       "2     PIK3R1_proteomics  0.983575\n",
       "3    PIK3AP1_proteomics  0.983575\n",
       "4      PDPK1_proteomics  0.983575\n",
       "..                  ...       ...\n",
       "130    CSF1R_proteomics  0.994204\n",
       "131     PKN2_proteomics  0.994204\n",
       "132     AKT2_proteomics  0.994204\n",
       "133  PPP2R5C_proteomics  0.994204\n",
       "134     GYS1_proteomics  0.994204\n",
       "\n",
       "[135 rows x 2 columns]"
      ]
     },
     "execution_count": 30,
     "metadata": {},
     "output_type": "execute_result"
    }
   ],
   "source": [
    "col_results = get_prot_mutations_df(col, prot_list)\n",
    "col_results"
   ]
  },
  {
   "cell_type": "code",
   "execution_count": null,
   "metadata": {},
   "outputs": [],
   "source": []
  },
  {
   "cell_type": "code",
   "execution_count": null,
   "metadata": {},
   "outputs": [],
   "source": []
  }
 ],
 "metadata": {
  "kernelspec": {
   "display_name": "Python 3",
   "language": "python",
   "name": "python3"
  },
  "language_info": {
   "codemirror_mode": {
    "name": "ipython",
    "version": 3
   },
   "file_extension": ".py",
   "mimetype": "text/x-python",
   "name": "python",
   "nbconvert_exporter": "python",
   "pygments_lexer": "ipython3",
   "version": "3.7.3"
  }
 },
 "nbformat": 4,
 "nbformat_minor": 2
}
