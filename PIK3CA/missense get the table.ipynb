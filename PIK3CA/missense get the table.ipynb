{
 "cells": [
  {
   "cell_type": "markdown",
   "metadata": {},
   "source": [
    "# Get ths cis effects"
   ]
  },
  {
   "cell_type": "code",
   "execution_count": 1,
   "metadata": {},
   "outputs": [
    {
     "name": "stderr",
     "output_type": "stream",
     "text": [
      "/Users/hannahboekweg/anaconda3/lib/python3.7/site-packages/statsmodels/tools/_testing.py:19: FutureWarning: pandas.util.testing is deprecated. Use the functions in the public API at pandas.testing instead.\n",
      "  import pandas.util.testing as tm\n"
     ]
    }
   ],
   "source": [
    "import pandas as pd\n",
    "import numpy as np\n",
    "import seaborn as sns\n",
    "import matplotlib.pyplot as plt\n",
    "import scipy.stats\n",
    "import gseapy as gp\n",
    "import re\n",
    "import sys \n",
    "\n",
    "import cptac\n",
    "import cptac.utils as u\n",
    "\n",
    "import sys\n",
    "sys.path.append('/Users/hannahboekweg/WhenMutationsDontMatter')\n",
    "import plot_utils as p"
   ]
  },
  {
   "cell_type": "code",
   "execution_count": 2,
   "metadata": {},
   "outputs": [
    {
     "name": "stdout",
     "output_type": "stream",
     "text": [
      "                                    \r"
     ]
    }
   ],
   "source": [
    "endo = cptac.Endometrial()"
   ]
  },
  {
   "cell_type": "code",
   "execution_count": 3,
   "metadata": {},
   "outputs": [],
   "source": [
    "gene = 'PIK3CA'"
   ]
  },
  {
   "cell_type": "code",
   "execution_count": 4,
   "metadata": {},
   "outputs": [
    {
     "name": "stderr",
     "output_type": "stream",
     "text": [
      "cptac warning: In joining the somatic_mutation table, no mutations were found for the following samples, so they were filled with Wildtype_Tumor or Wildtype_Normal: 48 samples for the PIK3CA gene (/Users/hannahboekweg/anaconda3/lib/python3.7/site-packages/cptac/dataset.py, line 382)\n"
     ]
    }
   ],
   "source": [
    "prot_and_mutations = endo.get_genotype_all_vars(gene)"
   ]
  },
  {
   "cell_type": "code",
   "execution_count": 5,
   "metadata": {},
   "outputs": [
    {
     "data": {
      "text/plain": [
       "array(['Missense_Mutation', 'Wildtype_Tumor', 'Amplification',\n",
       "       'Frame_Shift_Ins', 'In_Frame_Del', 'Deletion'], dtype=object)"
      ]
     },
     "execution_count": 5,
     "metadata": {},
     "output_type": "execute_result"
    }
   ],
   "source": [
    "prot_and_mutations['Mutation'].unique()"
   ]
  },
  {
   "cell_type": "code",
   "execution_count": 6,
   "metadata": {},
   "outputs": [],
   "source": [
    "keep = ['Missense_Mutation','Wildtype_Tumor']\n",
    "in_keep = prot_and_mutations['Mutation'].isin(keep)\n",
    "miss_mutations = prot_and_mutations[in_keep]"
   ]
  },
  {
   "cell_type": "code",
   "execution_count": 7,
   "metadata": {},
   "outputs": [
    {
     "data": {
      "text/plain": [
       "Missense_Mutation    43\n",
       "Wildtype_Tumor       41\n",
       "Name: Mutation, dtype: int64"
      ]
     },
     "execution_count": 7,
     "metadata": {},
     "output_type": "execute_result"
    }
   ],
   "source": [
    "#Format the dataframe correctly for the T-test(just omics and binary columns for tumors)\n",
    "columns_to_drop = [\"Location\", \"Mutation_Status\"]\n",
    "mut_status = miss_mutations.drop(columns_to_drop, axis = 1)\n",
    "mut_status = mut_status.dropna(axis=1,how='all')\n",
    "mut_status['Mutation'].value_counts()"
   ]
  },
  {
   "cell_type": "code",
   "execution_count": 8,
   "metadata": {},
   "outputs": [],
   "source": [
    "#join proteomics\n",
    "proteomics = endo.get_proteomics()\n",
    "proteomics = proteomics[[\"PIK3CA\"]]#get just PIK3CA\n",
    "proteomics = proteomics[~proteomics.index.str.contains(\".N\")] #get rid of normal samples\n",
    "\n",
    "proteomics[\"Mutation\"] = mut_status['Mutation']\n",
    "proteomics = proteomics.dropna()\n"
   ]
  },
  {
   "cell_type": "code",
   "execution_count": 9,
   "metadata": {},
   "outputs": [],
   "source": [
    "mut_status = proteomics\n",
    "mut_status[gene+\"_proteomics\"] = proteomics[\"PIK3CA\"]\n",
    "mut_status['binary_mutations'] = proteomics[\"Mutation\"]\n",
    "mut_status = mut_status.drop(columns=[\"PIK3CA\", \"Mutation\"])"
   ]
  },
  {
   "cell_type": "code",
   "execution_count": 10,
   "metadata": {},
   "outputs": [
    {
     "name": "stdout",
     "output_type": "stream",
     "text": [
      "Help on function wrap_ttest in module cptac.utils:\n",
      "\n",
      "wrap_ttest(df, label_column, comparison_columns=None, alpha=0.05, return_all=False, correction_method='bonferroni')\n",
      "\n"
     ]
    }
   ],
   "source": [
    "help(u.wrap_ttest)"
   ]
  },
  {
   "cell_type": "code",
   "execution_count": 11,
   "metadata": {},
   "outputs": [
    {
     "data": {
      "text/html": [
       "<div>\n",
       "<style scoped>\n",
       "    .dataframe tbody tr th:only-of-type {\n",
       "        vertical-align: middle;\n",
       "    }\n",
       "\n",
       "    .dataframe tbody tr th {\n",
       "        vertical-align: top;\n",
       "    }\n",
       "\n",
       "    .dataframe thead th {\n",
       "        text-align: right;\n",
       "    }\n",
       "</style>\n",
       "<table border=\"1\" class=\"dataframe\">\n",
       "  <thead>\n",
       "    <tr style=\"text-align: right;\">\n",
       "      <th></th>\n",
       "      <th>Comparison</th>\n",
       "      <th>P_Value</th>\n",
       "    </tr>\n",
       "  </thead>\n",
       "  <tbody>\n",
       "    <tr>\n",
       "      <th>0</th>\n",
       "      <td>PIK3CA_proteomics</td>\n",
       "      <td>0.109686</td>\n",
       "    </tr>\n",
       "  </tbody>\n",
       "</table>\n",
       "</div>"
      ],
      "text/plain": [
       "          Comparison   P_Value\n",
       "0  PIK3CA_proteomics  0.109686"
      ]
     },
     "execution_count": 11,
     "metadata": {},
     "output_type": "execute_result"
    }
   ],
   "source": [
    "u.wrap_ttest(mut_status, 'binary_mutations', ['PIK3CA_proteomics'], return_all=True)"
   ]
  },
  {
   "cell_type": "code",
   "execution_count": 12,
   "metadata": {},
   "outputs": [],
   "source": [
    "def format_pval_annotation(pval_symbol, x1, x2, line_start = .05, line_height=.05):\n",
    "    # for manual adjustment to pval annotations\n",
    "    \n",
    "    y, h = line_start, line_height\n",
    "    plt.plot([x1, x1, x2, x2], #draw horizontal line\n",
    "             [y, y+h, y+h, y], #vertical line\n",
    "             lw=1.5, color= '.3')\n",
    "    plt.text((x1+x2)*.5, # half between x coord\n",
    "             y+h, pval_symbol, horizontalalignment='center', verticalalignment='bottom', color = \"black\")\n",
    "\n"
   ]
  },
  {
   "cell_type": "code",
   "execution_count": 25,
   "metadata": {},
   "outputs": [
    {
     "data": {
      "image/png": "[encoded data removed]",
      "text/plain": [
       "<Figure size 842.4x612 with 1 Axes>"
      ]
     },
     "metadata": {},
     "output_type": "display_data"
    }
   ],
   "source": [
    "#cis\n",
    "plt.rcParams['figure.figsize']=(11.7,8.5) #size of plot\n",
    "sns.set(font_scale = 1.2)\n",
    "\n",
    "boxplot = sns.boxplot(x='binary_mutations', y=gene+\"_proteomics\", \n",
    "                         order = ['Wildtype_Tumor', 'Missense_Mutation'], data = mut_status, showfliers = False)    \n",
    "boxplot.set_title('PIK3CA Missense Effect on '+gene+' Proteomic Abundance in Endometrial Tumors')\n",
    "boxplot = sns.stripplot(x='binary_mutations', y=gene+\"_proteomics\", data = mut_status, jitter = True, \n",
    "                           color = \".3\", order = ['Wildtype_Tumor', 'Missense_Mutation'], dodge = True)\n",
    "boxplot.set(xlabel = \"\\nPIK3CA Wildtype_Tumor/Missense_Mutation\", ylabel = gene+' Proteomics')\n",
    "\n",
    "format_pval_annotation('* P-Value = 0.1', 0, 1, 1)\n",
    "\n",
    "plt.show()\n",
    "plt.clf()\n",
    "plt.close()"
   ]
  },
  {
   "cell_type": "markdown",
   "metadata": {},
   "source": [
    "# Trans"
   ]
  },
  {
   "cell_type": "code",
   "execution_count": 24,
   "metadata": {},
   "outputs": [
    {
     "data": {
      "text/plain": [
       "['PIK3R2',\n",
       " 'TNS1',\n",
       " 'RPS6KB1',\n",
       " 'KRAS',\n",
       " 'PDGFRA',\n",
       " 'PIK3R3',\n",
       " 'AKT3',\n",
       " 'PIK3CA',\n",
       " 'ERBB3',\n",
       " 'IGF1R',\n",
       " 'ERBB2',\n",
       " 'EGFR',\n",
       " 'GNAQ',\n",
       " 'KIT',\n",
       " 'MRAS',\n",
       " 'IRS1',\n",
       " 'CTNNB1',\n",
       " 'NRAS',\n",
       " 'PTEN',\n",
       " 'IRS2',\n",
       " 'AKT2',\n",
       " 'CDC42',\n",
       " 'ESR1',\n",
       " 'HRAS',\n",
       " 'PIK3R1',\n",
       " 'AKT1',\n",
       " 'ATR',\n",
       " 'LCK',\n",
       " 'NOTCH1',\n",
       " 'ADAP1',\n",
       " 'DGKZ',\n",
       " 'ARHGEF1',\n",
       " 'GSN',\n",
       " 'YWHAH',\n",
       " 'IRS4',\n",
       " 'UBTF']"
      ]
     },
     "execution_count": 24,
     "metadata": {},
     "output_type": "execute_result"
    }
   ],
   "source": [
    "ip = u.get_interacting_proteins('PIK3CA')\n",
    "list(ip)"
   ]
  },
  {
   "cell_type": "code",
   "execution_count": null,
   "metadata": {},
   "outputs": [],
   "source": []
  },
  {
   "cell_type": "markdown",
   "metadata": {},
   "source": [
    "# This is from the meeting"
   ]
  },
  {
   "cell_type": "markdown",
   "metadata": {},
   "source": [
    "get the missense mutation hotspots\n",
    "abunance who have a mutation vs the wildtype (these are our two buckets)\n",
    "for every gene do a t test\n",
    "start with PIK3ca and go through every gene\n",
    "Hotspot:\n",
    "E542K\n",
    "E535K\n",
    "H1047R"
   ]
  },
  {
   "cell_type": "code",
   "execution_count": 15,
   "metadata": {},
   "outputs": [],
   "source": [
    "import cptac"
   ]
  },
  {
   "cell_type": "code",
   "execution_count": 16,
   "metadata": {},
   "outputs": [
    {
     "name": "stdout",
     "output_type": "stream",
     "text": [
      "                                    \r"
     ]
    }
   ],
   "source": [
    "en = cptac.Endometrial()"
   ]
  },
  {
   "cell_type": "code",
   "execution_count": 17,
   "metadata": {},
   "outputs": [
    {
     "name": "stdout",
     "output_type": "stream",
     "text": [
      "                                    \r"
     ]
    }
   ],
   "source": [
    "col = cptac.Colon()"
   ]
  },
  {
   "cell_type": "code",
   "execution_count": 26,
   "metadata": {},
   "outputs": [
    {
     "name": "stdout",
     "output_type": "stream",
     "text": [
      "Help on method get_genotype_all_vars in module cptac.dataset:\n",
      "\n",
      "get_genotype_all_vars(mutations_genes, mutations_filter=None, show_location=True, mutation_hotspot=None) method of cptac.endometrial.Endometrial instance\n",
      "    Return a dataframe that has the mutation type and wheather or not it is a multiple mutation\n",
      "    Parameters:\n",
      "    mutation_genes (str, or list or array-like of str): The gene(s) to get mutation data for.\n",
      "    mutations_filter (list, optional):  List of mutations to prioritize when filtering out multiple mutations, in order of priority.\n",
      "    show_location (bool, optional): Whether to include the Location column from the mutation dataframe. Defaults to True.\n",
      "    mutation_hotspot (optional): a list of hotspots\n",
      "\n"
     ]
    }
   ],
   "source": [
    "help(en.get_genotype_all_vars)"
   ]
  },
  {
   "cell_type": "code",
   "execution_count": 35,
   "metadata": {},
   "outputs": [
    {
     "name": "stderr",
     "output_type": "stream",
     "text": [
      "cptac warning: In joining the somatic_mutation table, no mutations were found for the following samples, so they were filled with Wildtype_Tumor or Wildtype_Normal: 48 samples for the PIK3CA gene (/Users/hannahboekweg/anaconda3/lib/python3.7/site-packages/cptac/dataset.py, line 382)\n",
      "cptac warning: In joining the somatic_mutation table, no mutations were found for the following samples, so they were filled with Wildtype_Tumor or Wildtype_Normal: 48 samples for the PIK3CA gene (/Users/hannahboekweg/anaconda3/lib/python3.7/site-packages/cptac/dataset.py, line 382)\n"
     ]
    }
   ],
   "source": [
    "endoh = en.get_genotype_all_vars(\"PIK3CA\", mutation_hotspot=[\"H1047R\", 'E542K', 'E535K'])\n"
   ]
  },
  {
   "cell_type": "code",
   "execution_count": 36,
   "metadata": {},
   "outputs": [],
   "source": [
    "missenseh = endoh.loc[endoh['Mutation'] == \"Missense_Mutation\"]"
   ]
  },
  {
   "cell_type": "code",
   "execution_count": 37,
   "metadata": {},
   "outputs": [],
   "source": [
    "#pull out all the missense mutation\n",
    "missense = endo.loc[endo['Mutation'] == \"Missense_Mutation\"]\n",
    "# E542K\n",
    "# E535K\n",
    "# H1047R\n",
    "# missense"
   ]
  },
  {
   "cell_type": "code",
   "execution_count": 38,
   "metadata": {},
   "outputs": [
    {
     "data": {
      "text/plain": [
       "True"
      ]
     },
     "execution_count": 38,
     "metadata": {},
     "output_type": "execute_result"
    }
   ],
   "source": [
    "missense['Location'].equals(missenseh['Location'])"
   ]
  },
  {
   "cell_type": "code",
   "execution_count": 19,
   "metadata": {},
   "outputs": [
    {
     "name": "stderr",
     "output_type": "stream",
     "text": [
      "cptac warning: In joining the somatic_mutation table, no mutations were found for the following samples, so they were filled with Wildtype_Tumor or Wildtype_Normal: 82 samples for the PIK3CA gene (/Users/hannahboekweg/anaconda3/lib/python3.7/site-packages/cptac/dataset.py, line 382)\n",
      "cptac warning: CNV data was not found for the following samples, so CNV data columns were filled with NaN for these samples: 05CO045 (/Users/hannahboekweg/anaconda3/lib/python3.7/site-packages/cptac/dataset.py, line 382)\n"
     ]
    }
   ],
   "source": [
    "colon = col.get_genotype_all_vars(\"PIK3CA\")"
   ]
  },
  {
   "cell_type": "code",
   "execution_count": 20,
   "metadata": {},
   "outputs": [
    {
     "data": {
      "text/html": [
       "<div>\n",
       "<style scoped>\n",
       "    .dataframe tbody tr th:only-of-type {\n",
       "        vertical-align: middle;\n",
       "    }\n",
       "\n",
       "    .dataframe tbody tr th {\n",
       "        vertical-align: top;\n",
       "    }\n",
       "\n",
       "    .dataframe thead th {\n",
       "        text-align: right;\n",
       "    }\n",
       "</style>\n",
       "<table border=\"1\" class=\"dataframe\">\n",
       "  <thead>\n",
       "    <tr style=\"text-align: right;\">\n",
       "      <th>Name</th>\n",
       "      <th>Mutation</th>\n",
       "      <th>Location</th>\n",
       "      <th>Mutation_Status</th>\n",
       "    </tr>\n",
       "    <tr>\n",
       "      <th>Patient_ID</th>\n",
       "      <th></th>\n",
       "      <th></th>\n",
       "      <th></th>\n",
       "    </tr>\n",
       "  </thead>\n",
       "  <tbody>\n",
       "    <tr>\n",
       "      <th>01CO022</th>\n",
       "      <td>nonsynonymous SNV</td>\n",
       "      <td>Q981R</td>\n",
       "      <td>Single_mutation</td>\n",
       "    </tr>\n",
       "    <tr>\n",
       "      <th>05CO003</th>\n",
       "      <td>nonsynonymous SNV</td>\n",
       "      <td>C420R</td>\n",
       "      <td>Multiple_mutation</td>\n",
       "    </tr>\n",
       "    <tr>\n",
       "      <th>05CO006</th>\n",
       "      <td>nonsynonymous SNV</td>\n",
       "      <td>E103G</td>\n",
       "      <td>Single_mutation</td>\n",
       "    </tr>\n",
       "    <tr>\n",
       "      <th>05CO028</th>\n",
       "      <td>nonsynonymous SNV</td>\n",
       "      <td>E545K</td>\n",
       "      <td>Single_mutation</td>\n",
       "    </tr>\n",
       "    <tr>\n",
       "      <th>05CO032</th>\n",
       "      <td>nonsynonymous SNV</td>\n",
       "      <td>H1047R</td>\n",
       "      <td>Single_mutation</td>\n",
       "    </tr>\n",
       "    <tr>\n",
       "      <th>05CO050</th>\n",
       "      <td>nonsynonymous SNV</td>\n",
       "      <td>E85G</td>\n",
       "      <td>Single_mutation</td>\n",
       "    </tr>\n",
       "    <tr>\n",
       "      <th>09CO005</th>\n",
       "      <td>nonsynonymous SNV</td>\n",
       "      <td>H1047R</td>\n",
       "      <td>Single_mutation</td>\n",
       "    </tr>\n",
       "    <tr>\n",
       "      <th>11CO018</th>\n",
       "      <td>nonsynonymous SNV</td>\n",
       "      <td>R108H</td>\n",
       "      <td>Single_mutation</td>\n",
       "    </tr>\n",
       "    <tr>\n",
       "      <th>11CO027</th>\n",
       "      <td>nonsynonymous SNV</td>\n",
       "      <td>E545K</td>\n",
       "      <td>Single_mutation</td>\n",
       "    </tr>\n",
       "    <tr>\n",
       "      <th>11CO033</th>\n",
       "      <td>nonsynonymous SNV</td>\n",
       "      <td>K111E</td>\n",
       "      <td>Single_mutation</td>\n",
       "    </tr>\n",
       "    <tr>\n",
       "      <th>11CO051</th>\n",
       "      <td>nonsynonymous SNV</td>\n",
       "      <td>E545A</td>\n",
       "      <td>Single_mutation</td>\n",
       "    </tr>\n",
       "    <tr>\n",
       "      <th>11CO052</th>\n",
       "      <td>nonsynonymous SNV</td>\n",
       "      <td>H1047R</td>\n",
       "      <td>Single_mutation</td>\n",
       "    </tr>\n",
       "    <tr>\n",
       "      <th>11CO057</th>\n",
       "      <td>nonsynonymous SNV</td>\n",
       "      <td>Q546K</td>\n",
       "      <td>Single_mutation</td>\n",
       "    </tr>\n",
       "    <tr>\n",
       "      <th>11CO062</th>\n",
       "      <td>nonsynonymous SNV</td>\n",
       "      <td>H1047R</td>\n",
       "      <td>Single_mutation</td>\n",
       "    </tr>\n",
       "    <tr>\n",
       "      <th>11CO070</th>\n",
       "      <td>nonsynonymous SNV</td>\n",
       "      <td>R108H</td>\n",
       "      <td>Multiple_mutation</td>\n",
       "    </tr>\n",
       "    <tr>\n",
       "      <th>16CO006</th>\n",
       "      <td>nonsynonymous SNV</td>\n",
       "      <td>E542K</td>\n",
       "      <td>Multiple_mutation</td>\n",
       "    </tr>\n",
       "    <tr>\n",
       "      <th>16CO012</th>\n",
       "      <td>nonsynonymous SNV</td>\n",
       "      <td>E545K</td>\n",
       "      <td>Multiple_mutation</td>\n",
       "    </tr>\n",
       "    <tr>\n",
       "      <th>20CO004</th>\n",
       "      <td>nonsynonymous SNV</td>\n",
       "      <td>E545K</td>\n",
       "      <td>Single_mutation</td>\n",
       "    </tr>\n",
       "    <tr>\n",
       "      <th>20CO007</th>\n",
       "      <td>nonsynonymous SNV</td>\n",
       "      <td>W446C</td>\n",
       "      <td>Multiple_mutation</td>\n",
       "    </tr>\n",
       "    <tr>\n",
       "      <th>27CO004</th>\n",
       "      <td>nonsynonymous SNV</td>\n",
       "      <td>R108H</td>\n",
       "      <td>Single_mutation</td>\n",
       "    </tr>\n",
       "  </tbody>\n",
       "</table>\n",
       "</div>"
      ],
      "text/plain": [
       "Name                 Mutation Location    Mutation_Status\n",
       "Patient_ID                                               \n",
       "01CO022     nonsynonymous SNV    Q981R    Single_mutation\n",
       "05CO003     nonsynonymous SNV    C420R  Multiple_mutation\n",
       "05CO006     nonsynonymous SNV    E103G    Single_mutation\n",
       "05CO028     nonsynonymous SNV    E545K    Single_mutation\n",
       "05CO032     nonsynonymous SNV   H1047R    Single_mutation\n",
       "05CO050     nonsynonymous SNV     E85G    Single_mutation\n",
       "09CO005     nonsynonymous SNV   H1047R    Single_mutation\n",
       "11CO018     nonsynonymous SNV    R108H    Single_mutation\n",
       "11CO027     nonsynonymous SNV    E545K    Single_mutation\n",
       "11CO033     nonsynonymous SNV    K111E    Single_mutation\n",
       "11CO051     nonsynonymous SNV    E545A    Single_mutation\n",
       "11CO052     nonsynonymous SNV   H1047R    Single_mutation\n",
       "11CO057     nonsynonymous SNV    Q546K    Single_mutation\n",
       "11CO062     nonsynonymous SNV   H1047R    Single_mutation\n",
       "11CO070     nonsynonymous SNV    R108H  Multiple_mutation\n",
       "16CO006     nonsynonymous SNV    E542K  Multiple_mutation\n",
       "16CO012     nonsynonymous SNV    E545K  Multiple_mutation\n",
       "20CO004     nonsynonymous SNV    E545K    Single_mutation\n",
       "20CO007     nonsynonymous SNV    W446C  Multiple_mutation\n",
       "27CO004     nonsynonymous SNV    R108H    Single_mutation"
      ]
     },
     "execution_count": 20,
     "metadata": {},
     "output_type": "execute_result"
    }
   ],
   "source": [
    "missense_colcon = colon.loc[colon['Mutation'] == \"nonsynonymous SNV\"]\n",
    "missense_colcon"
   ]
  }
 ],
 "metadata": {
  "kernelspec": {
   "display_name": "Python 3",
   "language": "python",
   "name": "python3"
  },
  "language_info": {
   "codemirror_mode": {
    "name": "ipython",
    "version": 3
   },
   "file_extension": ".py",
   "mimetype": "text/x-python",
   "name": "python",
   "nbconvert_exporter": "python",
   "pygments_lexer": "ipython3",
   "version": "3.7.3"
  }
 },
 "nbformat": 4,
 "nbformat_minor": 2
}
