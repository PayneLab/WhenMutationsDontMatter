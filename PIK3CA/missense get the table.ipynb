{
 "cells": [
  {
   "cell_type": "markdown",
   "metadata": {},
   "source": [
    "# Let's go through Brittany's code"
   ]
  },
  {
   "cell_type": "code",
   "execution_count": 1,
   "metadata": {},
   "outputs": [
    {
     "name": "stderr",
     "output_type": "stream",
     "text": [
      "cptac warning: Your version of cptac (0.7.1) is out-of-date. Latest is 0.7.2. Please run 'pip install --upgrade cptac' to update it. (/Users/hannahboekweg/anaconda3/lib/python3.7/site-packages/ipykernel_launcher.py, line 10)\n"
     ]
    }
   ],
   "source": [
    "import pandas as pd\n",
    "import numpy as np\n",
    "import seaborn as sns\n",
    "import matplotlib.pyplot as plt\n",
    "import scipy.stats\n",
    "import gseapy as gp\n",
    "import re\n",
    "import sys \n",
    "\n",
    "import cptac\n",
    "import cptac.utils as u\n",
    "\n",
    "import sys\n",
    "sys.path.append('/Users/hannahboekweg/WhenMutationsDontMatter')\n",
    "import plot_utils as p"
   ]
  },
  {
   "cell_type": "code",
   "execution_count": 2,
   "metadata": {},
   "outputs": [
    {
     "name": "stdout",
     "output_type": "stream",
     "text": [
      "                                    \r"
     ]
    }
   ],
   "source": [
    "endo = cptac.Endometrial()"
   ]
  },
  {
   "cell_type": "code",
   "execution_count": 3,
   "metadata": {},
   "outputs": [
    {
     "name": "stderr",
     "output_type": "stream",
     "text": [
      "cptac warning: In joining the somatic_mutation table, no mutations were found for the following samples, so they were filled with Wildtype_Tumor or Wildtype_Normal: 48 samples for the PIK3CA gene (/Users/hannahboekweg/anaconda3/lib/python3.7/site-packages/cptac/dataset.py, line 382)\n"
     ]
    },
    {
     "data": {
      "text/html": [
       "<div>\n",
       "<style scoped>\n",
       "    .dataframe tbody tr th:only-of-type {\n",
       "        vertical-align: middle;\n",
       "    }\n",
       "\n",
       "    .dataframe tbody tr th {\n",
       "        vertical-align: top;\n",
       "    }\n",
       "\n",
       "    .dataframe thead th {\n",
       "        text-align: right;\n",
       "    }\n",
       "</style>\n",
       "<table border=\"1\" class=\"dataframe\">\n",
       "  <thead>\n",
       "    <tr style=\"text-align: right;\">\n",
       "      <th>Name</th>\n",
       "      <th>Mutation</th>\n",
       "      <th>Location</th>\n",
       "      <th>Mutation_Status</th>\n",
       "    </tr>\n",
       "    <tr>\n",
       "      <th>Patient_ID</th>\n",
       "      <th></th>\n",
       "      <th></th>\n",
       "      <th></th>\n",
       "    </tr>\n",
       "  </thead>\n",
       "  <tbody>\n",
       "    <tr>\n",
       "      <td>C3L-00006</td>\n",
       "      <td>Missense_Mutation</td>\n",
       "      <td>p.E545K</td>\n",
       "      <td>Single_mutation</td>\n",
       "    </tr>\n",
       "    <tr>\n",
       "      <td>C3L-00008</td>\n",
       "      <td>Wildtype_Tumor</td>\n",
       "      <td>No_mutation</td>\n",
       "      <td>Wildtype_Tumor</td>\n",
       "    </tr>\n",
       "    <tr>\n",
       "      <td>C3L-00032</td>\n",
       "      <td>Missense_Mutation</td>\n",
       "      <td>p.E545K</td>\n",
       "      <td>Single_mutation</td>\n",
       "    </tr>\n",
       "    <tr>\n",
       "      <td>C3L-00090</td>\n",
       "      <td>Wildtype_Tumor</td>\n",
       "      <td>No_mutation</td>\n",
       "      <td>Wildtype_Tumor</td>\n",
       "    </tr>\n",
       "    <tr>\n",
       "      <td>C3L-00098</td>\n",
       "      <td>Amplification</td>\n",
       "      <td>Amplification</td>\n",
       "      <td>Single_mutation</td>\n",
       "    </tr>\n",
       "  </tbody>\n",
       "</table>\n",
       "</div>"
      ],
      "text/plain": [
       "Name                 Mutation       Location  Mutation_Status\n",
       "Patient_ID                                                   \n",
       "C3L-00006   Missense_Mutation        p.E545K  Single_mutation\n",
       "C3L-00008      Wildtype_Tumor    No_mutation   Wildtype_Tumor\n",
       "C3L-00032   Missense_Mutation        p.E545K  Single_mutation\n",
       "C3L-00090      Wildtype_Tumor    No_mutation   Wildtype_Tumor\n",
       "C3L-00098       Amplification  Amplification  Single_mutation"
      ]
     },
     "execution_count": 3,
     "metadata": {},
     "output_type": "execute_result"
    }
   ],
   "source": [
    "prot_and_mutations = endo.get_genotype_all_vars(\"PIK3CA\")\n",
    "prot_and_mutations.head()"
   ]
  },
  {
   "cell_type": "code",
   "execution_count": 4,
   "metadata": {},
   "outputs": [
    {
     "data": {
      "text/plain": [
       "array(['Missense_Mutation', 'Wildtype_Tumor', 'Amplification',\n",
       "       'Frame_Shift_Ins', 'In_Frame_Del', 'Deletion'], dtype=object)"
      ]
     },
     "execution_count": 4,
     "metadata": {},
     "output_type": "execute_result"
    }
   ],
   "source": [
    "prot_and_mutations['Mutation'].unique()"
   ]
  },
  {
   "cell_type": "code",
   "execution_count": 5,
   "metadata": {},
   "outputs": [
    {
     "data": {
      "text/plain": [
       "array(['Single_mutation', 'Wildtype_Tumor', 'Multiple_mutation'],\n",
       "      dtype=object)"
      ]
     },
     "execution_count": 5,
     "metadata": {},
     "output_type": "execute_result"
    }
   ],
   "source": [
    "keep = ['Missense_Mutation','Wildtype_Tumor']\n",
    "in_keep = prot_and_mutations['Mutation'].isin(keep)\n",
    "miss_mutations = prot_and_mutations[in_keep]\n",
    "miss_mutations['Mutation'].value_counts()\n",
    "miss_mutations[\"Mutation_Status\"].unique()"
   ]
  },
  {
   "cell_type": "code",
   "execution_count": null,
   "metadata": {},
   "outputs": [],
   "source": []
  },
  {
   "cell_type": "code",
   "execution_count": 6,
   "metadata": {},
   "outputs": [],
   "source": [
    "ip = u.get_interacting_proteins('PIK3CA')"
   ]
  },
  {
   "cell_type": "code",
   "execution_count": 7,
   "metadata": {},
   "outputs": [
    {
     "data": {
      "text/plain": [
       "36"
      ]
     },
     "execution_count": 7,
     "metadata": {},
     "output_type": "execute_result"
    }
   ],
   "source": [
    "len(ip)"
   ]
  },
  {
   "cell_type": "code",
   "execution_count": 13,
   "metadata": {},
   "outputs": [],
   "source": [
    "gene = 'PIK3CA'"
   ]
  },
  {
   "cell_type": "code",
   "execution_count": 14,
   "metadata": {},
   "outputs": [
    {
     "data": {
      "text/html": [
       "<div>\n",
       "<style scoped>\n",
       "    .dataframe tbody tr th:only-of-type {\n",
       "        vertical-align: middle;\n",
       "    }\n",
       "\n",
       "    .dataframe tbody tr th {\n",
       "        vertical-align: top;\n",
       "    }\n",
       "\n",
       "    .dataframe thead th {\n",
       "        text-align: right;\n",
       "    }\n",
       "</style>\n",
       "<table border=\"1\" class=\"dataframe\">\n",
       "  <thead>\n",
       "    <tr style=\"text-align: right;\">\n",
       "      <th>Name</th>\n",
       "      <th>Mutation</th>\n",
       "    </tr>\n",
       "    <tr>\n",
       "      <th>Patient_ID</th>\n",
       "      <th></th>\n",
       "    </tr>\n",
       "  </thead>\n",
       "  <tbody>\n",
       "    <tr>\n",
       "      <td>C3L-00006</td>\n",
       "      <td>Missense_Mutation</td>\n",
       "    </tr>\n",
       "    <tr>\n",
       "      <td>C3L-00008</td>\n",
       "      <td>Wildtype_Tumor</td>\n",
       "    </tr>\n",
       "    <tr>\n",
       "      <td>C3L-00032</td>\n",
       "      <td>Missense_Mutation</td>\n",
       "    </tr>\n",
       "    <tr>\n",
       "      <td>C3L-00090</td>\n",
       "      <td>Wildtype_Tumor</td>\n",
       "    </tr>\n",
       "    <tr>\n",
       "      <td>C3L-00136</td>\n",
       "      <td>Wildtype_Tumor</td>\n",
       "    </tr>\n",
       "    <tr>\n",
       "      <td>...</td>\n",
       "      <td>...</td>\n",
       "    </tr>\n",
       "    <tr>\n",
       "      <td>C3N-01510</td>\n",
       "      <td>Missense_Mutation</td>\n",
       "    </tr>\n",
       "    <tr>\n",
       "      <td>C3N-01520</td>\n",
       "      <td>Missense_Mutation</td>\n",
       "    </tr>\n",
       "    <tr>\n",
       "      <td>C3N-01537</td>\n",
       "      <td>Wildtype_Tumor</td>\n",
       "    </tr>\n",
       "    <tr>\n",
       "      <td>C3N-01802</td>\n",
       "      <td>Wildtype_Tumor</td>\n",
       "    </tr>\n",
       "    <tr>\n",
       "      <td>C3N-01825</td>\n",
       "      <td>Missense_Mutation</td>\n",
       "    </tr>\n",
       "  </tbody>\n",
       "</table>\n",
       "<p>84 rows × 1 columns</p>\n",
       "</div>"
      ],
      "text/plain": [
       "Name                 Mutation\n",
       "Patient_ID                   \n",
       "C3L-00006   Missense_Mutation\n",
       "C3L-00008      Wildtype_Tumor\n",
       "C3L-00032   Missense_Mutation\n",
       "C3L-00090      Wildtype_Tumor\n",
       "C3L-00136      Wildtype_Tumor\n",
       "...                       ...\n",
       "C3N-01510   Missense_Mutation\n",
       "C3N-01520   Missense_Mutation\n",
       "C3N-01537      Wildtype_Tumor\n",
       "C3N-01802      Wildtype_Tumor\n",
       "C3N-01825   Missense_Mutation\n",
       "\n",
       "[84 rows x 1 columns]"
      ]
     },
     "execution_count": 14,
     "metadata": {},
     "output_type": "execute_result"
    }
   ],
   "source": [
    "# Step 3 - Format the dataframe correctly for the T-test(just omics and binary columns for tumors)\n",
    "columns_to_drop = [\"Location\", \"Mutation_Status\"]\n",
    "mut_status = miss_mutations.drop(columns_to_drop, axis = 1)\n",
    "mut_status = mut_status.dropna(axis=1,how='all')\n",
    "mut_status['Mutation'].value_counts()\n",
    "mut_status\n",
    "# mut_status.loc[mut_status.index==\"C3N-01825\"]"
   ]
  },
  {
   "cell_type": "code",
   "execution_count": 15,
   "metadata": {},
   "outputs": [
    {
     "data": {
      "text/html": [
       "<div>\n",
       "<style scoped>\n",
       "    .dataframe tbody tr th:only-of-type {\n",
       "        vertical-align: middle;\n",
       "    }\n",
       "\n",
       "    .dataframe tbody tr th {\n",
       "        vertical-align: top;\n",
       "    }\n",
       "\n",
       "    .dataframe thead th {\n",
       "        text-align: right;\n",
       "    }\n",
       "</style>\n",
       "<table border=\"1\" class=\"dataframe\">\n",
       "  <thead>\n",
       "    <tr style=\"text-align: right;\">\n",
       "      <th>Name</th>\n",
       "      <th>PIK3CA</th>\n",
       "    </tr>\n",
       "    <tr>\n",
       "      <th>Patient_ID</th>\n",
       "      <th></th>\n",
       "    </tr>\n",
       "  </thead>\n",
       "  <tbody>\n",
       "    <tr>\n",
       "      <td>C3L-00006</td>\n",
       "      <td>-0.450</td>\n",
       "    </tr>\n",
       "    <tr>\n",
       "      <td>C3L-00008</td>\n",
       "      <td>-0.215</td>\n",
       "    </tr>\n",
       "    <tr>\n",
       "      <td>C3L-00032</td>\n",
       "      <td>-0.178</td>\n",
       "    </tr>\n",
       "    <tr>\n",
       "      <td>C3L-00090</td>\n",
       "      <td>-0.392</td>\n",
       "    </tr>\n",
       "    <tr>\n",
       "      <td>C3L-00098</td>\n",
       "      <td>0.287</td>\n",
       "    </tr>\n",
       "  </tbody>\n",
       "</table>\n",
       "</div>"
      ],
      "text/plain": [
       "Name        PIK3CA\n",
       "Patient_ID        \n",
       "C3L-00006   -0.450\n",
       "C3L-00008   -0.215\n",
       "C3L-00032   -0.178\n",
       "C3L-00090   -0.392\n",
       "C3L-00098    0.287"
      ]
     },
     "execution_count": 15,
     "metadata": {},
     "output_type": "execute_result"
    }
   ],
   "source": [
    "#we need to join proteomics on them\n",
    "proteomics = endo.get_proteomics()\n",
    "\n",
    "\n",
    "proteomics = proteomics[[\"PIK3CA\"]]#get just PIK3CA\n",
    "#get rid of normal samples\n",
    "proteomics = proteomics[~proteomics.index.str.contains(\".N\")]\n",
    "proteomics.head()\n",
    "# proteomics.loc[proteomics.index==\"C3N-01825\"]"
   ]
  },
  {
   "cell_type": "code",
   "execution_count": 16,
   "metadata": {},
   "outputs": [
    {
     "data": {
      "text/plain": [
       "False"
      ]
     },
     "execution_count": 16,
     "metadata": {},
     "output_type": "execute_result"
    }
   ],
   "source": [
    "#are the indices equal?\n",
    "proteomics.index.equals(mut_status.index)"
   ]
  },
  {
   "cell_type": "code",
   "execution_count": 40,
   "metadata": {},
   "outputs": [
    {
     "data": {
      "text/html": [
       "<div>\n",
       "<style scoped>\n",
       "    .dataframe tbody tr th:only-of-type {\n",
       "        vertical-align: middle;\n",
       "    }\n",
       "\n",
       "    .dataframe tbody tr th {\n",
       "        vertical-align: top;\n",
       "    }\n",
       "\n",
       "    .dataframe thead th {\n",
       "        text-align: right;\n",
       "    }\n",
       "</style>\n",
       "<table border=\"1\" class=\"dataframe\">\n",
       "  <thead>\n",
       "    <tr style=\"text-align: right;\">\n",
       "      <th>Name</th>\n",
       "      <th>PIK3CA</th>\n",
       "      <th>Mutation</th>\n",
       "    </tr>\n",
       "    <tr>\n",
       "      <th>Patient_ID</th>\n",
       "      <th></th>\n",
       "      <th></th>\n",
       "    </tr>\n",
       "  </thead>\n",
       "  <tbody>\n",
       "    <tr>\n",
       "      <td>C3L-00006</td>\n",
       "      <td>-0.450</td>\n",
       "      <td>Missense_Mutation</td>\n",
       "    </tr>\n",
       "    <tr>\n",
       "      <td>C3L-00008</td>\n",
       "      <td>-0.215</td>\n",
       "      <td>Wildtype_Tumor</td>\n",
       "    </tr>\n",
       "    <tr>\n",
       "      <td>C3L-00032</td>\n",
       "      <td>-0.178</td>\n",
       "      <td>Missense_Mutation</td>\n",
       "    </tr>\n",
       "    <tr>\n",
       "      <td>C3L-00090</td>\n",
       "      <td>-0.392</td>\n",
       "      <td>Wildtype_Tumor</td>\n",
       "    </tr>\n",
       "    <tr>\n",
       "      <td>C3L-00136</td>\n",
       "      <td>-0.349</td>\n",
       "      <td>Wildtype_Tumor</td>\n",
       "    </tr>\n",
       "  </tbody>\n",
       "</table>\n",
       "</div>"
      ],
      "text/plain": [
       "Name        PIK3CA           Mutation\n",
       "Patient_ID                           \n",
       "C3L-00006   -0.450  Missense_Mutation\n",
       "C3L-00008   -0.215     Wildtype_Tumor\n",
       "C3L-00032   -0.178  Missense_Mutation\n",
       "C3L-00090   -0.392     Wildtype_Tumor\n",
       "C3L-00136   -0.349     Wildtype_Tumor"
      ]
     },
     "execution_count": 40,
     "metadata": {},
     "output_type": "execute_result"
    }
   ],
   "source": [
    "proteomics[\"Mutation\"] = mut_status['Mutation']\n",
    "proteomics = proteomics.dropna()\n",
    "proteomics.head()"
   ]
  },
  {
   "cell_type": "code",
   "execution_count": 46,
   "metadata": {},
   "outputs": [
    {
     "data": {
      "text/html": [
       "<div>\n",
       "<style scoped>\n",
       "    .dataframe tbody tr th:only-of-type {\n",
       "        vertical-align: middle;\n",
       "    }\n",
       "\n",
       "    .dataframe tbody tr th {\n",
       "        vertical-align: top;\n",
       "    }\n",
       "\n",
       "    .dataframe thead th {\n",
       "        text-align: right;\n",
       "    }\n",
       "</style>\n",
       "<table border=\"1\" class=\"dataframe\">\n",
       "  <thead>\n",
       "    <tr style=\"text-align: right;\">\n",
       "      <th>Name</th>\n",
       "      <th>PIK3CA_proteomics</th>\n",
       "      <th>binary_mutations</th>\n",
       "    </tr>\n",
       "    <tr>\n",
       "      <th>Patient_ID</th>\n",
       "      <th></th>\n",
       "      <th></th>\n",
       "    </tr>\n",
       "  </thead>\n",
       "  <tbody>\n",
       "    <tr>\n",
       "      <td>C3L-00006</td>\n",
       "      <td>-0.450</td>\n",
       "      <td>Missense_Mutation</td>\n",
       "    </tr>\n",
       "    <tr>\n",
       "      <td>C3L-00008</td>\n",
       "      <td>-0.215</td>\n",
       "      <td>Wildtype_Tumor</td>\n",
       "    </tr>\n",
       "    <tr>\n",
       "      <td>C3L-00032</td>\n",
       "      <td>-0.178</td>\n",
       "      <td>Missense_Mutation</td>\n",
       "    </tr>\n",
       "    <tr>\n",
       "      <td>C3L-00090</td>\n",
       "      <td>-0.392</td>\n",
       "      <td>Wildtype_Tumor</td>\n",
       "    </tr>\n",
       "    <tr>\n",
       "      <td>C3L-00136</td>\n",
       "      <td>-0.349</td>\n",
       "      <td>Wildtype_Tumor</td>\n",
       "    </tr>\n",
       "  </tbody>\n",
       "</table>\n",
       "</div>"
      ],
      "text/plain": [
       "Name        PIK3CA_proteomics   binary_mutations\n",
       "Patient_ID                                      \n",
       "C3L-00006              -0.450  Missense_Mutation\n",
       "C3L-00008              -0.215     Wildtype_Tumor\n",
       "C3L-00032              -0.178  Missense_Mutation\n",
       "C3L-00090              -0.392     Wildtype_Tumor\n",
       "C3L-00136              -0.349     Wildtype_Tumor"
      ]
     },
     "execution_count": 46,
     "metadata": {},
     "output_type": "execute_result"
    }
   ],
   "source": [
    "mut_status = proteomics\n",
    "mut_status[gene+\"_proteomics\"] = proteomics[\"PIK3CA\"]\n",
    "mut_status['binary_mutations'] = proteomics[\"Mutation\"]\n",
    "mut_status = mut_status.drop(columns=[\"PIK3CA\", \"Mutation\"])\n",
    "mut_status.head()"
   ]
  },
  {
   "cell_type": "code",
   "execution_count": null,
   "metadata": {},
   "outputs": [],
   "source": []
  },
  {
   "cell_type": "code",
   "execution_count": 62,
   "metadata": {},
   "outputs": [],
   "source": [
    "u.wrap_ttest(mut_status, 'binary_mutations', ['PIK3CA_proteomics'])"
   ]
  },
  {
   "cell_type": "code",
   "execution_count": null,
   "metadata": {},
   "outputs": [],
   "source": [
    "gene = \"PIK3CA\""
   ]
  },
  {
   "cell_type": "code",
   "execution_count": null,
   "metadata": {},
   "outputs": [],
   "source": [
    "def format_pval_annotation(pval_symbol, x1, x2, line_start = .05, line_height=.05):\n",
    "    # for manual adjustment to pval annotations\n",
    "    \n",
    "    y, h = line_start, line_height\n",
    "    plt.plot([x1, x1, x2, x2], #draw horizontal line\n",
    "             [y, y+h, y+h, y], #vertical line\n",
    "             lw=1.5, color= '.3')\n",
    "    plt.text((x1+x2)*.5, # half between x coord\n",
    "             y+h, pval_symbol, horizontalalignment='center', verticalalignment='bottom', color = \"black\")\n",
    "\n"
   ]
  },
  {
   "cell_type": "code",
   "execution_count": null,
   "metadata": {},
   "outputs": [],
   "source": [
    "#cis\n",
    "plt.rcParams['figure.figsize']=(11.7,8.5) #size of plot\n",
    "sns.set(font_scale = 1.2)\n",
    "\n",
    "boxplot = sns.boxplot(x='Mutation', y=gene, \n",
    "                         order = ['Wildtype_Tumor', 'Missense_Mutation'], data = newdf, showfliers = False)    \n",
    "boxplot.set_title('PIK3CA Truncation Effect on '+gene+' Proteomic Abundance in Endometrial Tumors')\n",
    "boxplot = sns.stripplot(x='Mutation', y=gene, data = newdf, jitter = True, \n",
    "                           color = \".3\", order = ['Wildtype_Tumor', 'Missense_Mutation'], dodge = True)\n",
    "boxplot.set(xlabel = \"\\nPIK3CA Wildtype/Missense\", ylabel = gene)\n",
    "\n",
    "format_pval_annotation('* P-Value = 0.0004', 0, 1, 1)\n",
    "\n",
    "plt.show()\n",
    "plt.clf()\n",
    "plt.close()"
   ]
  },
  {
   "cell_type": "code",
   "execution_count": null,
   "metadata": {},
   "outputs": [],
   "source": []
  },
  {
   "cell_type": "markdown",
   "metadata": {},
   "source": [
    "# This is from the meeting"
   ]
  },
  {
   "cell_type": "markdown",
   "metadata": {},
   "source": [
    "get the missense mutation hotspots\n",
    "abunance who have a mutation vs the wildtype (these are our two buckets)\n",
    "for every gene do a t test\n",
    "start with PIK3ca and go through every gene\n",
    "Genes:\n",
    "E542K\n",
    "E535K\n",
    "H1047R"
   ]
  },
  {
   "cell_type": "code",
   "execution_count": null,
   "metadata": {},
   "outputs": [],
   "source": [
    "import cptac"
   ]
  },
  {
   "cell_type": "code",
   "execution_count": null,
   "metadata": {},
   "outputs": [],
   "source": [
    "en = cptac.Endometrial()"
   ]
  },
  {
   "cell_type": "code",
   "execution_count": null,
   "metadata": {},
   "outputs": [],
   "source": [
    "col = cptac.Colon()"
   ]
  },
  {
   "cell_type": "code",
   "execution_count": null,
   "metadata": {},
   "outputs": [],
   "source": [
    "endo = en.get_genotype_all_vars(\"PIK3CA\")"
   ]
  },
  {
   "cell_type": "code",
   "execution_count": null,
   "metadata": {},
   "outputs": [],
   "source": [
    "colon = col.get_genotype_all_vars(\"PIK3CA\")"
   ]
  },
  {
   "cell_type": "code",
   "execution_count": null,
   "metadata": {},
   "outputs": [],
   "source": [
    "missense_colcon = colon.loc[colon['Mutation'] == \"nonsynonymous SNV\"]\n",
    "missense_colcon"
   ]
  },
  {
   "cell_type": "code",
   "execution_count": null,
   "metadata": {},
   "outputs": [],
   "source": [
    "#pull out all the missense mutation\n",
    "missense = endo.loc[endo['Mutation'] == \"Missense_Mutation\"]\n",
    "# E542K\n",
    "# E535K\n",
    "# H1047R\n",
    "missense"
   ]
  }
 ],
 "metadata": {
  "kernelspec": {
   "display_name": "Python 3",
   "language": "python",
   "name": "python3"
  },
  "language_info": {
   "codemirror_mode": {
    "name": "ipython",
    "version": 3
   },
   "file_extension": ".py",
   "mimetype": "text/x-python",
   "name": "python",
   "nbconvert_exporter": "python",
   "pygments_lexer": "ipython3",
   "version": "3.7.3"
  }
 },
 "nbformat": 4,
 "nbformat_minor": 2
}
