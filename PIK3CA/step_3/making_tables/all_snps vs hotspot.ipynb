{
 "cells": [
  {
   "cell_type": "markdown",
   "metadata": {},
   "source": [
    "## For the top 5 genes look at all missense mutations vs hotspot"
   ]
  },
  {
   "cell_type": "code",
   "execution_count": 1,
   "metadata": {},
   "outputs": [
    {
     "name": "stderr",
     "output_type": "stream",
     "text": [
      "/Users/hannahboekweg/anaconda3/lib/python3.7/site-packages/statsmodels/tools/_testing.py:19: FutureWarning: pandas.util.testing is deprecated. Use the functions in the public API at pandas.testing instead.\n",
      "  import pandas.util.testing as tm\n",
      "cptac warning: Your version of cptac (0.8.0) is out-of-date. Latest is 0.8.1. Please run 'pip install --upgrade cptac' to update it. (/Users/hannahboekweg/anaconda3/lib/python3.7/site-packages/ipykernel_launcher.py, line 10)\n"
     ]
    }
   ],
   "source": [
    "import pandas as pd\n",
    "import numpy as np\n",
    "import seaborn as sns\n",
    "import matplotlib.pyplot as plt\n",
    "import scipy.stats\n",
    "import gseapy as gp\n",
    "import re\n",
    "import sys \n",
    "\n",
    "import cptac\n",
    "import cptac.utils as u\n",
    "\n",
    "import pandas as pd\n",
    "import numpy as np\n",
    "import scipy.stats\n",
    "import statsmodels.stats.multitest\n",
    "import operator"
   ]
  },
  {
   "cell_type": "code",
   "execution_count": 2,
   "metadata": {},
   "outputs": [
    {
     "name": "stdout",
     "output_type": "stream",
     "text": [
      "                                                \r"
     ]
    }
   ],
   "source": [
    "en = cptac.Endometrial()\n",
    "br = cptac.Brca()\n",
    "cl = cptac.Colon()"
   ]
  },
  {
   "cell_type": "code",
   "execution_count": 13,
   "metadata": {},
   "outputs": [],
   "source": [
    "gene = 'OXSM'"
   ]
  },
  {
   "cell_type": "code",
   "execution_count": 4,
   "metadata": {},
   "outputs": [
    {
     "name": "stderr",
     "output_type": "stream",
     "text": [
      "cptac warning: In joining the somatic_mutation table, no mutations were found for the following samples, so they were filled with Wildtype_Tumor or Wildtype_Normal: 83 samples for the PIK3CA gene (/Users/hannahboekweg/anaconda3/lib/python3.7/site-packages/cptac/dataset.py, line 311)\n"
     ]
    },
    {
     "data": {
      "text/html": [
       "<div>\n",
       "<style scoped>\n",
       "    .dataframe tbody tr th:only-of-type {\n",
       "        vertical-align: middle;\n",
       "    }\n",
       "\n",
       "    .dataframe tbody tr th {\n",
       "        vertical-align: top;\n",
       "    }\n",
       "\n",
       "    .dataframe thead th {\n",
       "        text-align: right;\n",
       "    }\n",
       "</style>\n",
       "<table border=\"1\" class=\"dataframe\">\n",
       "  <thead>\n",
       "    <tr style=\"text-align: right;\">\n",
       "      <th>Name</th>\n",
       "      <th>Mutation</th>\n",
       "    </tr>\n",
       "    <tr>\n",
       "      <th>Patient_ID</th>\n",
       "      <th></th>\n",
       "    </tr>\n",
       "  </thead>\n",
       "  <tbody>\n",
       "    <tr>\n",
       "      <th>CPT001846</th>\n",
       "      <td>Missense_Mutation</td>\n",
       "    </tr>\n",
       "    <tr>\n",
       "      <th>X01BR001</th>\n",
       "      <td>Wildtype_Tumor</td>\n",
       "    </tr>\n",
       "    <tr>\n",
       "      <th>X01BR008</th>\n",
       "      <td>Wildtype_Tumor</td>\n",
       "    </tr>\n",
       "    <tr>\n",
       "      <th>X01BR020</th>\n",
       "      <td>Wildtype_Tumor</td>\n",
       "    </tr>\n",
       "    <tr>\n",
       "      <th>X01BR023</th>\n",
       "      <td>Wildtype_Tumor</td>\n",
       "    </tr>\n",
       "    <tr>\n",
       "      <th>...</th>\n",
       "      <td>...</td>\n",
       "    </tr>\n",
       "    <tr>\n",
       "      <th>X20BR008</th>\n",
       "      <td>Missense_Mutation</td>\n",
       "    </tr>\n",
       "    <tr>\n",
       "      <th>X21BR002</th>\n",
       "      <td>Missense_Mutation</td>\n",
       "    </tr>\n",
       "    <tr>\n",
       "      <th>X21BR010</th>\n",
       "      <td>Missense_Mutation</td>\n",
       "    </tr>\n",
       "    <tr>\n",
       "      <th>X22BR005</th>\n",
       "      <td>Missense_Mutation</td>\n",
       "    </tr>\n",
       "    <tr>\n",
       "      <th>X22BR006</th>\n",
       "      <td>Missense_Mutation</td>\n",
       "    </tr>\n",
       "  </tbody>\n",
       "</table>\n",
       "<p>86 rows × 1 columns</p>\n",
       "</div>"
      ],
      "text/plain": [
       "Name                 Mutation\n",
       "Patient_ID                   \n",
       "CPT001846   Missense_Mutation\n",
       "X01BR001       Wildtype_Tumor\n",
       "X01BR008       Wildtype_Tumor\n",
       "X01BR020       Wildtype_Tumor\n",
       "X01BR023       Wildtype_Tumor\n",
       "...                       ...\n",
       "X20BR008    Missense_Mutation\n",
       "X21BR002    Missense_Mutation\n",
       "X21BR010    Missense_Mutation\n",
       "X22BR005    Missense_Mutation\n",
       "X22BR006    Missense_Mutation\n",
       "\n",
       "[86 rows x 1 columns]"
      ]
     },
     "execution_count": 4,
     "metadata": {},
     "output_type": "execute_result"
    }
   ],
   "source": [
    "# get mutation from PIK3CA\n",
    "mut = br.get_genotype_all_vars(\"PIK3CA\")\n",
    "mut = mut.drop(columns=[\"Location\", \"Mutation_Status\"])\n",
    "mut = mut.loc[(mut['Mutation']==\"Missense_Mutation\") |( mut[\"Mutation\"]==\"Wildtype_Tumor\")]\n",
    "mut"
   ]
  },
  {
   "cell_type": "code",
   "execution_count": 5,
   "metadata": {},
   "outputs": [
    {
     "data": {
      "text/html": [
       "<div>\n",
       "<style scoped>\n",
       "    .dataframe tbody tr th:only-of-type {\n",
       "        vertical-align: middle;\n",
       "    }\n",
       "\n",
       "    .dataframe tbody tr th {\n",
       "        vertical-align: top;\n",
       "    }\n",
       "\n",
       "    .dataframe thead th {\n",
       "        text-align: right;\n",
       "    }\n",
       "</style>\n",
       "<table border=\"1\" class=\"dataframe\">\n",
       "  <thead>\n",
       "    <tr style=\"text-align: right;\">\n",
       "      <th>Name</th>\n",
       "      <th>OXSM</th>\n",
       "    </tr>\n",
       "  </thead>\n",
       "  <tbody>\n",
       "    <tr>\n",
       "      <th>CPT000814</th>\n",
       "      <td>1.3597</td>\n",
       "    </tr>\n",
       "    <tr>\n",
       "      <th>CPT001846</th>\n",
       "      <td>-1.2018</td>\n",
       "    </tr>\n",
       "    <tr>\n",
       "      <th>X01BR001</th>\n",
       "      <td>1.3707</td>\n",
       "    </tr>\n",
       "    <tr>\n",
       "      <th>X01BR008</th>\n",
       "      <td>0.4343</td>\n",
       "    </tr>\n",
       "    <tr>\n",
       "      <th>X01BR009</th>\n",
       "      <td>1.0194</td>\n",
       "    </tr>\n",
       "  </tbody>\n",
       "</table>\n",
       "</div>"
      ],
      "text/plain": [
       "Name         OXSM\n",
       "CPT000814  1.3597\n",
       "CPT001846 -1.2018\n",
       "X01BR001   1.3707\n",
       "X01BR008   0.4343\n",
       "X01BR009   1.0194"
      ]
     },
     "execution_count": 5,
     "metadata": {},
     "output_type": "execute_result"
    }
   ],
   "source": [
    "#get the proteomics for the gene we want\n",
    "proteomics = br.get_proteomics(tissue_type=\"tumor\")\n",
    "prot = proteomics.loc[:,proteomics.columns.get_level_values('Name').str.contains(gene)]\n",
    "len(prot.columns.get_level_values('Name'))\n",
    "\n",
    "prot = cptac.utils.reduce_multiindex(prot, levels_to_drop=\"Database_ID\")\n",
    "prot.head()"
   ]
  },
  {
   "cell_type": "code",
   "execution_count": 6,
   "metadata": {},
   "outputs": [],
   "source": [
    "wildtype  = mut.join(prot)\n",
    "wildtype = wildtype.loc[wildtype['Mutation']==\"Wildtype_Tumor\"]\n",
    "wildtype['type'] = \"wildtype_tumor\"\n",
    "# wildtype"
   ]
  },
  {
   "cell_type": "code",
   "execution_count": 7,
   "metadata": {},
   "outputs": [],
   "source": [
    "#get hotspot mutations\n",
    "allsnps = mut.join(prot)\n",
    "allsnps = allsnps.loc[allsnps['Mutation']==\"Missense_Mutation\"]\n",
    "allsnps['type'] = \"all_snps\"\n",
    "# allsnps"
   ]
  },
  {
   "cell_type": "code",
   "execution_count": 8,
   "metadata": {},
   "outputs": [
    {
     "name": "stderr",
     "output_type": "stream",
     "text": [
      "cptac warning: In joining the somatic_mutation table, no mutations were found for the following samples, so they were filled with Wildtype_Tumor or Wildtype_Normal: 83 samples for the PIK3CA gene (/Users/hannahboekweg/anaconda3/lib/python3.7/site-packages/cptac/dataset.py, line 311)\n"
     ]
    }
   ],
   "source": [
    "mut_type = br.get_genotype_all_vars(\"PIK3CA\")\n",
    "joined = mut_type.join(prot)\n",
    "\n",
    "#select samples containing hotspot mutations\n",
    "br_hotspot_df = joined[joined.Location.str.contains('E542K') | \n",
    "                    joined.Location.str.contains('E545K')|\n",
    "                      joined.Location.str.contains('H1047R')]\n",
    "\n",
    "\n",
    "all_hotspots = br_hotspot_df.drop(columns=['Location','Mutation_Status'])\n",
    "all_hotspots[\"type\"] = \"all_hotspots\"\n",
    "# all_hotspots"
   ]
  },
  {
   "cell_type": "code",
   "execution_count": 9,
   "metadata": {},
   "outputs": [
    {
     "name": "stderr",
     "output_type": "stream",
     "text": [
      "cptac warning: In joining the somatic_mutation table, no mutations were found for the following samples, so they were filled with Wildtype_Tumor or Wildtype_Normal: 83 samples for the PIK3CA gene (/Users/hannahboekweg/anaconda3/lib/python3.7/site-packages/cptac/dataset.py, line 311)\n"
     ]
    }
   ],
   "source": [
    "#get hotspot mutations\n",
    "mut_type = br.get_genotype_all_vars(\"PIK3CA\")\n",
    "joined = mut_type.join(prot)\n",
    "\n",
    "#select samples containing hotspot mutations\n",
    "br_hotspot_df = joined[joined.Location.str.contains('E542K') | \n",
    "                    joined.Location.str.contains('E545K')]\n",
    "\n",
    "\n",
    "brca_hotspot_helical = br_hotspot_df.drop(columns=['Location','Mutation_Status'])\n",
    "brca_hotspot_helical[\"type\"] = \"helical\"\n",
    "# brca_hotspot_helical"
   ]
  },
  {
   "cell_type": "code",
   "execution_count": 10,
   "metadata": {},
   "outputs": [
    {
     "name": "stderr",
     "output_type": "stream",
     "text": [
      "cptac warning: In joining the somatic_mutation table, no mutations were found for the following samples, so they were filled with Wildtype_Tumor or Wildtype_Normal: 83 samples for the PIK3CA gene (/Users/hannahboekweg/anaconda3/lib/python3.7/site-packages/cptac/dataset.py, line 311)\n"
     ]
    }
   ],
   "source": [
    "#get hotspot mutations\n",
    "mut_type = br.get_genotype_all_vars(\"PIK3CA\")\n",
    "joined = mut_type.join(prot)\n",
    "\n",
    "#select samples containing hotspot mutations\n",
    "br_hotspot_df = joined[joined.Location.str.contains('H1047R')]\n",
    "\n",
    "\n",
    "#join wildtype proteomics to missense mutation proteomics \n",
    "brca_hotspot_kinase = br_hotspot_df.drop(columns=['Location','Mutation_Status'])\n",
    "brca_hotspot_kinase[\"type\"] = \"kinase\"\n",
    "# brca_hotspot_kinase"
   ]
  },
  {
   "cell_type": "code",
   "execution_count": 11,
   "metadata": {},
   "outputs": [],
   "source": [
    "#make the all missense vs hotspots dataframe plot\n",
    "all_vs_hot =  pd.concat([wildtype, allsnps])\n",
    "all_vs_hot =  pd.concat([all_vs_hot, all_hotspots])\n",
    "\n",
    "with_split = pd.concat([all_vs_hot, brca_hotspot_kinase])\n",
    "with_split = pd.concat([with_split, brca_hotspot_helical])\n",
    "# all_vs_hot"
   ]
  },
  {
   "cell_type": "code",
   "execution_count": 14,
   "metadata": {},
   "outputs": [
    {
     "data": {
      "text/html": [
       "<div>\n",
       "<style scoped>\n",
       "    .dataframe tbody tr th:only-of-type {\n",
       "        vertical-align: middle;\n",
       "    }\n",
       "\n",
       "    .dataframe tbody tr th {\n",
       "        vertical-align: top;\n",
       "    }\n",
       "\n",
       "    .dataframe thead th {\n",
       "        text-align: right;\n",
       "    }\n",
       "</style>\n",
       "<table border=\"1\" class=\"dataframe\">\n",
       "  <thead>\n",
       "    <tr style=\"text-align: right;\">\n",
       "      <th>Name</th>\n",
       "      <th>Mutation</th>\n",
       "      <th>OXSM</th>\n",
       "      <th>type</th>\n",
       "    </tr>\n",
       "    <tr>\n",
       "      <th>Patient_ID</th>\n",
       "      <th></th>\n",
       "      <th></th>\n",
       "      <th></th>\n",
       "    </tr>\n",
       "  </thead>\n",
       "  <tbody>\n",
       "    <tr>\n",
       "      <th>X01BR001</th>\n",
       "      <td>Wildtype_Tumor</td>\n",
       "      <td>1.3707</td>\n",
       "      <td>wildtype_tumor</td>\n",
       "    </tr>\n",
       "    <tr>\n",
       "      <th>X01BR008</th>\n",
       "      <td>Wildtype_Tumor</td>\n",
       "      <td>0.4343</td>\n",
       "      <td>wildtype_tumor</td>\n",
       "    </tr>\n",
       "    <tr>\n",
       "      <th>X01BR020</th>\n",
       "      <td>Wildtype_Tumor</td>\n",
       "      <td>-1.7662</td>\n",
       "      <td>wildtype_tumor</td>\n",
       "    </tr>\n",
       "    <tr>\n",
       "      <th>X01BR023</th>\n",
       "      <td>Wildtype_Tumor</td>\n",
       "      <td>-0.0964</td>\n",
       "      <td>wildtype_tumor</td>\n",
       "    </tr>\n",
       "    <tr>\n",
       "      <th>X01BR026</th>\n",
       "      <td>Wildtype_Tumor</td>\n",
       "      <td>-0.1597</td>\n",
       "      <td>wildtype_tumor</td>\n",
       "    </tr>\n",
       "    <tr>\n",
       "      <th>...</th>\n",
       "      <td>...</td>\n",
       "      <td>...</td>\n",
       "      <td>...</td>\n",
       "    </tr>\n",
       "    <tr>\n",
       "      <th>CPT001846</th>\n",
       "      <td>Missense_Mutation</td>\n",
       "      <td>-1.2018</td>\n",
       "      <td>helical</td>\n",
       "    </tr>\n",
       "    <tr>\n",
       "      <th>X11BR014</th>\n",
       "      <td>Missense_Mutation</td>\n",
       "      <td>-1.0742</td>\n",
       "      <td>helical</td>\n",
       "    </tr>\n",
       "    <tr>\n",
       "      <th>X18BR003</th>\n",
       "      <td>Missense_Mutation</td>\n",
       "      <td>-0.9206</td>\n",
       "      <td>helical</td>\n",
       "    </tr>\n",
       "    <tr>\n",
       "      <th>X18BR007</th>\n",
       "      <td>Missense_Mutation</td>\n",
       "      <td>-0.5585</td>\n",
       "      <td>helical</td>\n",
       "    </tr>\n",
       "    <tr>\n",
       "      <th>X18BR010</th>\n",
       "      <td>Missense_Mutation</td>\n",
       "      <td>0.4495</td>\n",
       "      <td>helical</td>\n",
       "    </tr>\n",
       "  </tbody>\n",
       "</table>\n",
       "<p>122 rows × 3 columns</p>\n",
       "</div>"
      ],
      "text/plain": [
       "Name                 Mutation    OXSM            type\n",
       "Patient_ID                                           \n",
       "X01BR001       Wildtype_Tumor  1.3707  wildtype_tumor\n",
       "X01BR008       Wildtype_Tumor  0.4343  wildtype_tumor\n",
       "X01BR020       Wildtype_Tumor -1.7662  wildtype_tumor\n",
       "X01BR023       Wildtype_Tumor -0.0964  wildtype_tumor\n",
       "X01BR026       Wildtype_Tumor -0.1597  wildtype_tumor\n",
       "...                       ...     ...             ...\n",
       "CPT001846   Missense_Mutation -1.2018         helical\n",
       "X11BR014    Missense_Mutation -1.0742         helical\n",
       "X18BR003    Missense_Mutation -0.9206         helical\n",
       "X18BR007    Missense_Mutation -0.5585         helical\n",
       "X18BR010    Missense_Mutation  0.4495         helical\n",
       "\n",
       "[122 rows x 3 columns]"
      ]
     },
     "execution_count": 14,
     "metadata": {},
     "output_type": "execute_result"
    }
   ],
   "source": [
    "df"
   ]
  },
  {
   "cell_type": "code",
   "execution_count": 12,
   "metadata": {},
   "outputs": [
    {
     "data": {
      "image/png": "[encoded data removed]",
      "text/plain": [
       "<Figure size 842.4x612 with 1 Axes>"
      ]
     },
     "metadata": {},
     "output_type": "display_data"
    }
   ],
   "source": [
    "df = with_split\n",
    "plt.rcParams['figure.figsize']=(11.7,8.5) #size of plot\n",
    "sns.set(font_scale = 1.2)\n",
    "\n",
    "boxplot = sns.boxplot(x='type', y=gene, data = df, showfliers = False)  \n",
    "\n",
    "boxplot.set_title(gene)\n",
    "\n",
    "boxplot = sns.stripplot(x='type', y=gene, data = df, jitter = True, \n",
    "                           color = \".3\", dodge = True)\n",
    "\n",
    "boxplot.set(xlabel = \"Mutation Type\", ylabel = gene+\"_proteomics\")\n",
    "\n",
    "\n",
    "plt.show()\n",
    "plt.clf()\n",
    "plt.close()"
   ]
  }
 ],
 "metadata": {
  "kernelspec": {
   "display_name": "Python 3",
   "language": "python",
   "name": "python3"
  },
  "language_info": {
   "codemirror_mode": {
    "name": "ipython",
    "version": 3
   },
   "file_extension": ".py",
   "mimetype": "text/x-python",
   "name": "python",
   "nbconvert_exporter": "python",
   "pygments_lexer": "ipython3",
   "version": "3.7.3"
  }
 },
 "nbformat": 4,
 "nbformat_minor": 2
}
