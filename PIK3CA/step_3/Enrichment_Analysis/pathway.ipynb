{
 "cells": [
  {
   "cell_type": "code",
   "execution_count": 1,
   "metadata": {},
   "outputs": [
    {
     "name": "stderr",
     "output_type": "stream",
     "text": [
      "/Users/hannahboekweg/anaconda3/lib/python3.7/site-packages/statsmodels/tools/_testing.py:19: FutureWarning: pandas.util.testing is deprecated. Use the functions in the public API at pandas.testing instead.\n",
      "  import pandas.util.testing as tm\n"
     ]
    }
   ],
   "source": [
    "import pandas as pd\n",
    "import numpy as np\n",
    "import cptac\n",
    "import cptac.utils as ut\n",
    "import operator\n",
    "from IPython.display import Image"
   ]
  },
  {
   "cell_type": "code",
   "execution_count": 2,
   "metadata": {},
   "outputs": [
    {
     "name": "stdout",
     "output_type": "stream",
     "text": [
      "                                                \r"
     ]
    }
   ],
   "source": [
    "en = cptac.Endometrial()"
   ]
  },
  {
   "cell_type": "code",
   "execution_count": 3,
   "metadata": {},
   "outputs": [
    {
     "data": {
      "text/plain": [
       "Name\n",
       "A1BG     -1.329369\n",
       "A2M      -0.830621\n",
       "A2ML1     0.677088\n",
       "A4GALT    0.155759\n",
       "AAAS      0.004517\n",
       "            ...   \n",
       "ZXDC     -0.545635\n",
       "ZYG11B   -0.117794\n",
       "ZYX      -1.313363\n",
       "ZZEF1     0.015869\n",
       "ZZZ3     -0.241525\n",
       "Length: 10999, dtype: float64"
      ]
     },
     "execution_count": 3,
     "metadata": {},
     "output_type": "execute_result"
    }
   ],
   "source": [
    "tumor = en.get_proteomics(tissue_type=\"tumor\").mean()\n",
    "normal = en.get_proteomics(tissue_type=\"normal\").mean()\n",
    "\n",
    "both = tumor.combine(normal, operator.sub)\n",
    "\n",
    "prot = en.get_proteomics().transpose()\n",
    "both"
   ]
  },
  {
   "cell_type": "code",
   "execution_count": 7,
   "metadata": {},
   "outputs": [
    {
     "data": {
      "text/plain": [
       "'https://reactome.org/PathwayBrowser/#/R-HSA-5368286&DTAB=AN&ANALYSIS=MjAyMDA1MTkxODI4MzVfOTE2MA%3D%3D'"
      ]
     },
     "execution_count": 7,
     "metadata": {},
     "output_type": "execute_result"
    }
   ],
   "source": [
    "ut.pathway_overlay(\n",
    "    both, \n",
    "    \"R-HSA-5368286\", \n",
    "    open_browser=True)"
   ]
  },
  {
   "cell_type": "code",
   "execution_count": 8,
   "metadata": {},
   "outputs": [
    {
     "data": {
      "text/plain": [
       "'https://reactome.org/PathwayBrowser/#/R-HSA-5419276&DTAB=AN&ANALYSIS=MjAyMDA1MTkxODI4MzVfOTE2MA%3D%3D'"
      ]
     },
     "execution_count": 8,
     "metadata": {},
     "output_type": "execute_result"
    }
   ],
   "source": [
    "ut.pathway_overlay(\n",
    "    both, \n",
    "    \"R-HSA-5419276\", \n",
    "    open_browser=True)"
   ]
  }
 ],
 "metadata": {
  "kernelspec": {
   "display_name": "Python 3",
   "language": "python",
   "name": "python3"
  },
  "language_info": {
   "codemirror_mode": {
    "name": "ipython",
    "version": 3
   },
   "file_extension": ".py",
   "mimetype": "text/x-python",
   "name": "python",
   "nbconvert_exporter": "python",
   "pygments_lexer": "ipython3",
   "version": "3.7.3"
  }
 },
 "nbformat": 4,
 "nbformat_minor": 2
}
