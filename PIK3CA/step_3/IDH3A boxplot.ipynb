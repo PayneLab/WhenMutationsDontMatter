{
 "cells": [
  {
   "cell_type": "code",
   "execution_count": 1,
   "metadata": {},
   "outputs": [
    {
     "name": "stderr",
     "output_type": "stream",
     "text": [
      "/Users/hannahboekweg/anaconda3/lib/python3.7/site-packages/statsmodels/tools/_testing.py:19: FutureWarning: pandas.util.testing is deprecated. Use the functions in the public API at pandas.testing instead.\n",
      "  import pandas.util.testing as tm\n"
     ]
    }
   ],
   "source": [
    "import cptac\n",
    "import cptac.utils as u\n",
    "import seaborn as sns\n",
    "import matplotlib.pyplot as plt\n",
    "import pandas as pd"
   ]
  },
  {
   "cell_type": "markdown",
   "metadata": {},
   "source": [
    "## Load cancer data"
   ]
  },
  {
   "cell_type": "code",
   "execution_count": 2,
   "metadata": {},
   "outputs": [
    {
     "name": "stdout",
     "output_type": "stream",
     "text": [
      "                                                \r"
     ]
    }
   ],
   "source": [
    "en = cptac.Endometrial()\n",
    "col = cptac.Colon()\n",
    "br = cptac.Brca()"
   ]
  },
  {
   "cell_type": "markdown",
   "metadata": {},
   "source": [
    "## Look at the cis effect of the PIK3CA genes"
   ]
  },
  {
   "cell_type": "code",
   "execution_count": 3,
   "metadata": {},
   "outputs": [],
   "source": [
    "gene = 'PIK3CA'"
   ]
  },
  {
   "cell_type": "markdown",
   "metadata": {},
   "source": [
    "# Endometrial"
   ]
  },
  {
   "cell_type": "markdown",
   "metadata": {},
   "source": [
    "## Pull out all the missense mutation and wildtype tumors for PIK3CA\n",
    "\n"
   ]
  },
  {
   "cell_type": "code",
   "execution_count": 4,
   "metadata": {},
   "outputs": [
    {
     "name": "stderr",
     "output_type": "stream",
     "text": [
      "cptac warning: In joining the somatic_mutation table, no mutations were found for the following samples, so they were filled with Wildtype_Tumor or Wildtype_Normal: 48 samples for the PIK3CA gene (/Users/hannahboekweg/anaconda3/lib/python3.7/site-packages/cptac/dataset.py, line 383)\n"
     ]
    }
   ],
   "source": [
    "endo = en.get_genotype_all_vars(\"PIK3CA\")\n",
    "endo_missense = endo.loc[endo['Mutation'] == \"Missense_Mutation\"]"
   ]
  },
  {
   "cell_type": "markdown",
   "metadata": {},
   "source": [
    "## Pull out only hotspot mutations"
   ]
  },
  {
   "cell_type": "code",
   "execution_count": 5,
   "metadata": {},
   "outputs": [],
   "source": [
    "hotspot = endo_missense[(endo_missense.Location.str.contains('E542K'))|(endo_missense.Location.str.contains('E545K'))|(endo_missense.Location.str.contains('H1047R'))]\n",
    "# hotspot"
   ]
  },
  {
   "cell_type": "markdown",
   "metadata": {},
   "source": [
    "## Get Wildtype Mutations"
   ]
  },
  {
   "cell_type": "code",
   "execution_count": 6,
   "metadata": {},
   "outputs": [],
   "source": [
    "wildtype = endo.loc[endo['Mutation'] == \"Wildtype_Tumor\"]\n",
    "result = pd.concat([hotspot, wildtype])"
   ]
  },
  {
   "cell_type": "markdown",
   "metadata": {},
   "source": [
    "## Get proteomics for IDH3A"
   ]
  },
  {
   "cell_type": "code",
   "execution_count": 7,
   "metadata": {},
   "outputs": [],
   "source": [
    "prot = en.get_proteomics()\n",
    "prot = prot[\"IDH3A\"]"
   ]
  },
  {
   "cell_type": "markdown",
   "metadata": {},
   "source": [
    "## Join proteomics to mutation"
   ]
  },
  {
   "cell_type": "code",
   "execution_count": 8,
   "metadata": {},
   "outputs": [],
   "source": [
    "joined = result.join(prot)"
   ]
  },
  {
   "cell_type": "markdown",
   "metadata": {},
   "source": [
    "## Drop unnecessary columns"
   ]
  },
  {
   "cell_type": "code",
   "execution_count": 9,
   "metadata": {},
   "outputs": [],
   "source": [
    "endo_missense = joined.drop(columns=['Location', 'Mutation_Status'])\n",
    "# endo_missense"
   ]
  },
  {
   "cell_type": "markdown",
   "metadata": {},
   "source": [
    "# Brca"
   ]
  },
  {
   "cell_type": "code",
   "execution_count": 10,
   "metadata": {},
   "outputs": [
    {
     "name": "stderr",
     "output_type": "stream",
     "text": [
      "cptac warning: In joining the somatic_mutation table, no mutations were found for the following samples, so they were filled with Wildtype_Tumor or Wildtype_Normal: 83 samples for the PIK3CA gene (/Users/hannahboekweg/anaconda3/lib/python3.7/site-packages/cptac/dataset.py, line 383)\n",
      "cptac warning: Due to dropping the specified levels, dataframe now has 655 duplicated column headers. (/Users/hannahboekweg/anaconda3/lib/python3.7/site-packages/ipykernel_launcher.py, line 10)\n"
     ]
    },
    {
     "data": {
      "text/html": [
       "<div>\n",
       "<style scoped>\n",
       "    .dataframe tbody tr th:only-of-type {\n",
       "        vertical-align: middle;\n",
       "    }\n",
       "\n",
       "    .dataframe tbody tr th {\n",
       "        vertical-align: top;\n",
       "    }\n",
       "\n",
       "    .dataframe thead th {\n",
       "        text-align: right;\n",
       "    }\n",
       "</style>\n",
       "<table border=\"1\" class=\"dataframe\">\n",
       "  <thead>\n",
       "    <tr style=\"text-align: right;\">\n",
       "      <th></th>\n",
       "      <th>Mutation</th>\n",
       "      <th>IDH3A</th>\n",
       "    </tr>\n",
       "    <tr>\n",
       "      <th>Patient_ID</th>\n",
       "      <th></th>\n",
       "      <th></th>\n",
       "    </tr>\n",
       "  </thead>\n",
       "  <tbody>\n",
       "    <tr>\n",
       "      <th>CPT001846</th>\n",
       "      <td>Missense_Mutation</td>\n",
       "      <td>-0.2294</td>\n",
       "    </tr>\n",
       "    <tr>\n",
       "      <th>X11BR004</th>\n",
       "      <td>Missense_Mutation</td>\n",
       "      <td>0.2577</td>\n",
       "    </tr>\n",
       "    <tr>\n",
       "      <th>X11BR013</th>\n",
       "      <td>Missense_Mutation</td>\n",
       "      <td>0.4851</td>\n",
       "    </tr>\n",
       "    <tr>\n",
       "      <th>X11BR014</th>\n",
       "      <td>Missense_Mutation</td>\n",
       "      <td>-0.3543</td>\n",
       "    </tr>\n",
       "    <tr>\n",
       "      <th>X11BR022</th>\n",
       "      <td>Missense_Mutation</td>\n",
       "      <td>0.5466</td>\n",
       "    </tr>\n",
       "    <tr>\n",
       "      <th>...</th>\n",
       "      <td>...</td>\n",
       "      <td>...</td>\n",
       "    </tr>\n",
       "    <tr>\n",
       "      <th>X15BR003</th>\n",
       "      <td>Wildtype_Tumor</td>\n",
       "      <td>-0.0384</td>\n",
       "    </tr>\n",
       "    <tr>\n",
       "      <th>X18BR004</th>\n",
       "      <td>Wildtype_Tumor</td>\n",
       "      <td>-0.0868</td>\n",
       "    </tr>\n",
       "    <tr>\n",
       "      <th>X18BR006</th>\n",
       "      <td>Wildtype_Tumor</td>\n",
       "      <td>0.9375</td>\n",
       "    </tr>\n",
       "    <tr>\n",
       "      <th>X18BR017</th>\n",
       "      <td>Wildtype_Tumor</td>\n",
       "      <td>1.4273</td>\n",
       "    </tr>\n",
       "    <tr>\n",
       "      <th>X20BR001</th>\n",
       "      <td>Wildtype_Tumor</td>\n",
       "      <td>0.6614</td>\n",
       "    </tr>\n",
       "  </tbody>\n",
       "</table>\n",
       "<p>71 rows × 2 columns</p>\n",
       "</div>"
      ],
      "text/plain": [
       "                     Mutation   IDH3A\n",
       "Patient_ID                           \n",
       "CPT001846   Missense_Mutation -0.2294\n",
       "X11BR004    Missense_Mutation  0.2577\n",
       "X11BR013    Missense_Mutation  0.4851\n",
       "X11BR014    Missense_Mutation -0.3543\n",
       "X11BR022    Missense_Mutation  0.5466\n",
       "...                       ...     ...\n",
       "X15BR003       Wildtype_Tumor -0.0384\n",
       "X18BR004       Wildtype_Tumor -0.0868\n",
       "X18BR006       Wildtype_Tumor  0.9375\n",
       "X18BR017       Wildtype_Tumor  1.4273\n",
       "X20BR001       Wildtype_Tumor  0.6614\n",
       "\n",
       "[71 rows x 2 columns]"
      ]
     },
     "execution_count": 10,
     "metadata": {},
     "output_type": "execute_result"
    }
   ],
   "source": [
    "brca = br.get_genotype_all_vars(\"PIK3CA\")\n",
    "brca_missense = brca.loc[brca['Mutation'] == \"Missense_Mutation\"]\n",
    "\n",
    "hotspot = brca_missense[(brca_missense.Location.str.contains('E542K'))|(brca_missense.Location.str.contains('E545K'))|(brca_missense.Location.str.contains('H1047R'))]\n",
    "\n",
    "wildtype = brca.loc[brca['Mutation'] == \"Wildtype_Tumor\"]\n",
    "result = pd.concat([hotspot, wildtype])\n",
    "\n",
    "prot = br.get_proteomics()\n",
    "prot = br.reduce_multiindex(prot, \"Database_ID\")\n",
    "prot = prot[\"IDH3A\"]\n",
    "prot\n",
    "\n",
    "joined = result.join(prot)\n",
    "\n",
    "brca_missense = joined.drop(columns=['Location', 'Mutation_Status'])\n",
    "brca_missense"
   ]
  },
  {
   "cell_type": "markdown",
   "metadata": {},
   "source": [
    "# Colon"
   ]
  },
  {
   "cell_type": "code",
   "execution_count": 11,
   "metadata": {},
   "outputs": [
    {
     "name": "stderr",
     "output_type": "stream",
     "text": [
      "cptac warning: In joining the somatic_mutation table, no mutations were found for the following samples, so they were filled with Wildtype_Tumor or Wildtype_Normal: 82 samples for the PIK3CA gene (/Users/hannahboekweg/anaconda3/lib/python3.7/site-packages/cptac/dataset.py, line 383)\n",
      "cptac warning: CNV data was not found for the following samples, so CNV data columns were filled with NaN for these samples: 05CO045 (/Users/hannahboekweg/anaconda3/lib/python3.7/site-packages/cptac/dataset.py, line 383)\n"
     ]
    },
    {
     "data": {
      "text/html": [
       "<div>\n",
       "<style scoped>\n",
       "    .dataframe tbody tr th:only-of-type {\n",
       "        vertical-align: middle;\n",
       "    }\n",
       "\n",
       "    .dataframe tbody tr th {\n",
       "        vertical-align: top;\n",
       "    }\n",
       "\n",
       "    .dataframe thead th {\n",
       "        text-align: right;\n",
       "    }\n",
       "</style>\n",
       "<table border=\"1\" class=\"dataframe\">\n",
       "  <thead>\n",
       "    <tr style=\"text-align: right;\">\n",
       "      <th></th>\n",
       "      <th>Mutation</th>\n",
       "      <th>IDH3A</th>\n",
       "    </tr>\n",
       "    <tr>\n",
       "      <th>Patient_ID</th>\n",
       "      <th></th>\n",
       "      <th></th>\n",
       "    </tr>\n",
       "  </thead>\n",
       "  <tbody>\n",
       "    <tr>\n",
       "      <th>05CO028</th>\n",
       "      <td>nonsynonymous SNV</td>\n",
       "      <td>-0.0211</td>\n",
       "    </tr>\n",
       "    <tr>\n",
       "      <th>05CO032</th>\n",
       "      <td>nonsynonymous SNV</td>\n",
       "      <td>-0.3450</td>\n",
       "    </tr>\n",
       "    <tr>\n",
       "      <th>09CO005</th>\n",
       "      <td>nonsynonymous SNV</td>\n",
       "      <td>0.0496</td>\n",
       "    </tr>\n",
       "    <tr>\n",
       "      <th>11CO027</th>\n",
       "      <td>nonsynonymous SNV</td>\n",
       "      <td>-0.2080</td>\n",
       "    </tr>\n",
       "    <tr>\n",
       "      <th>11CO052</th>\n",
       "      <td>nonsynonymous SNV</td>\n",
       "      <td>-0.0698</td>\n",
       "    </tr>\n",
       "    <tr>\n",
       "      <th>...</th>\n",
       "      <td>...</td>\n",
       "      <td>...</td>\n",
       "    </tr>\n",
       "    <tr>\n",
       "      <th>20CO001</th>\n",
       "      <td>Wildtype_Tumor</td>\n",
       "      <td>-0.1800</td>\n",
       "    </tr>\n",
       "    <tr>\n",
       "      <th>20CO003</th>\n",
       "      <td>Wildtype_Tumor</td>\n",
       "      <td>-0.0636</td>\n",
       "    </tr>\n",
       "    <tr>\n",
       "      <th>22CO004</th>\n",
       "      <td>Wildtype_Tumor</td>\n",
       "      <td>0.4960</td>\n",
       "    </tr>\n",
       "    <tr>\n",
       "      <th>22CO006</th>\n",
       "      <td>Wildtype_Tumor</td>\n",
       "      <td>-0.0104</td>\n",
       "    </tr>\n",
       "    <tr>\n",
       "      <th>24CO005</th>\n",
       "      <td>Wildtype_Tumor</td>\n",
       "      <td>NaN</td>\n",
       "    </tr>\n",
       "  </tbody>\n",
       "</table>\n",
       "<p>74 rows × 2 columns</p>\n",
       "</div>"
      ],
      "text/plain": [
       "                     Mutation   IDH3A\n",
       "Patient_ID                           \n",
       "05CO028     nonsynonymous SNV -0.0211\n",
       "05CO032     nonsynonymous SNV -0.3450\n",
       "09CO005     nonsynonymous SNV  0.0496\n",
       "11CO027     nonsynonymous SNV -0.2080\n",
       "11CO052     nonsynonymous SNV -0.0698\n",
       "...                       ...     ...\n",
       "20CO001        Wildtype_Tumor -0.1800\n",
       "20CO003        Wildtype_Tumor -0.0636\n",
       "22CO004        Wildtype_Tumor  0.4960\n",
       "22CO006        Wildtype_Tumor -0.0104\n",
       "24CO005        Wildtype_Tumor     NaN\n",
       "\n",
       "[74 rows x 2 columns]"
      ]
     },
     "execution_count": 11,
     "metadata": {},
     "output_type": "execute_result"
    }
   ],
   "source": [
    "colon = col.get_genotype_all_vars(\"PIK3CA\")\n",
    "colon_missense = colon.loc[colon['Mutation'] == \"nonsynonymous SNV\"]\n",
    "hotspot = colon_missense[(colon_missense.Location.str.contains('E542K'))|(colon_missense.Location.str.contains('E545K'))|(colon_missense.Location.str.contains('H1047R'))]\n",
    "\n",
    "wildtype = colon.loc[colon['Mutation'] == \"Wildtype_Tumor\"]\n",
    "result = pd.concat([hotspot, wildtype])\n",
    "\n",
    "prot = col.get_proteomics()\n",
    "prot = prot[\"IDH3A\"]\n",
    "\n",
    "joined = result.join(prot)\n",
    "\n",
    "colon_missense = joined.drop(columns=['Location', 'Mutation_Status'])\n",
    "colon_missense"
   ]
  },
  {
   "cell_type": "markdown",
   "metadata": {},
   "source": [
    "# Final Graph"
   ]
  },
  {
   "cell_type": "markdown",
   "metadata": {},
   "source": [
    "## Reformat dataframes"
   ]
  },
  {
   "cell_type": "code",
   "execution_count": 12,
   "metadata": {},
   "outputs": [],
   "source": [
    "endo_missense = endo_missense.assign(cancer = 'Endometrial')\n",
    "brca_missense = brca_missense.assign(cancer = 'Brca')\n",
    "colon_missense = colon_missense.assign(cancer = 'Colon')\n",
    "colon_missense[\"Mutation\"] = colon_missense[\"Mutation\"].replace(\"nonsynonymous SNV\", \"Missense_Mutation\")"
   ]
  },
  {
   "cell_type": "code",
   "execution_count": 13,
   "metadata": {},
   "outputs": [
    {
     "data": {
      "text/html": [
       "<div>\n",
       "<style scoped>\n",
       "    .dataframe tbody tr th:only-of-type {\n",
       "        vertical-align: middle;\n",
       "    }\n",
       "\n",
       "    .dataframe tbody tr th {\n",
       "        vertical-align: top;\n",
       "    }\n",
       "\n",
       "    .dataframe thead th {\n",
       "        text-align: right;\n",
       "    }\n",
       "</style>\n",
       "<table border=\"1\" class=\"dataframe\">\n",
       "  <thead>\n",
       "    <tr style=\"text-align: right;\">\n",
       "      <th></th>\n",
       "      <th>Mutation</th>\n",
       "      <th>IDH3A</th>\n",
       "      <th>cancer</th>\n",
       "    </tr>\n",
       "    <tr>\n",
       "      <th>Patient_ID</th>\n",
       "      <th></th>\n",
       "      <th></th>\n",
       "      <th></th>\n",
       "    </tr>\n",
       "  </thead>\n",
       "  <tbody>\n",
       "    <tr>\n",
       "      <th>C3L-00006</th>\n",
       "      <td>Missense_Mutation</td>\n",
       "      <td>0.798</td>\n",
       "      <td>Endometrial</td>\n",
       "    </tr>\n",
       "    <tr>\n",
       "      <th>C3L-00032</th>\n",
       "      <td>Missense_Mutation</td>\n",
       "      <td>0.571</td>\n",
       "      <td>Endometrial</td>\n",
       "    </tr>\n",
       "    <tr>\n",
       "      <th>C3L-00362</th>\n",
       "      <td>Missense_Mutation</td>\n",
       "      <td>0.286</td>\n",
       "      <td>Endometrial</td>\n",
       "    </tr>\n",
       "    <tr>\n",
       "      <th>C3L-00601</th>\n",
       "      <td>Missense_Mutation</td>\n",
       "      <td>-0.376</td>\n",
       "      <td>Endometrial</td>\n",
       "    </tr>\n",
       "    <tr>\n",
       "      <th>C3L-00605</th>\n",
       "      <td>Missense_Mutation</td>\n",
       "      <td>0.227</td>\n",
       "      <td>Endometrial</td>\n",
       "    </tr>\n",
       "  </tbody>\n",
       "</table>\n",
       "</div>"
      ],
      "text/plain": [
       "                     Mutation  IDH3A       cancer\n",
       "Patient_ID                                       \n",
       "C3L-00006   Missense_Mutation  0.798  Endometrial\n",
       "C3L-00032   Missense_Mutation  0.571  Endometrial\n",
       "C3L-00362   Missense_Mutation  0.286  Endometrial\n",
       "C3L-00601   Missense_Mutation -0.376  Endometrial\n",
       "C3L-00605   Missense_Mutation  0.227  Endometrial"
      ]
     },
     "execution_count": 13,
     "metadata": {},
     "output_type": "execute_result"
    }
   ],
   "source": [
    "endo_missense.head()"
   ]
  },
  {
   "cell_type": "code",
   "execution_count": 14,
   "metadata": {},
   "outputs": [
    {
     "data": {
      "text/html": [
       "<div>\n",
       "<style scoped>\n",
       "    .dataframe tbody tr th:only-of-type {\n",
       "        vertical-align: middle;\n",
       "    }\n",
       "\n",
       "    .dataframe tbody tr th {\n",
       "        vertical-align: top;\n",
       "    }\n",
       "\n",
       "    .dataframe thead th {\n",
       "        text-align: right;\n",
       "    }\n",
       "</style>\n",
       "<table border=\"1\" class=\"dataframe\">\n",
       "  <thead>\n",
       "    <tr style=\"text-align: right;\">\n",
       "      <th></th>\n",
       "      <th>Mutation</th>\n",
       "      <th>IDH3A</th>\n",
       "      <th>cancer</th>\n",
       "    </tr>\n",
       "    <tr>\n",
       "      <th>Patient_ID</th>\n",
       "      <th></th>\n",
       "      <th></th>\n",
       "      <th></th>\n",
       "    </tr>\n",
       "  </thead>\n",
       "  <tbody>\n",
       "    <tr>\n",
       "      <th>CPT001846</th>\n",
       "      <td>Missense_Mutation</td>\n",
       "      <td>-0.2294</td>\n",
       "      <td>Brca</td>\n",
       "    </tr>\n",
       "    <tr>\n",
       "      <th>X11BR004</th>\n",
       "      <td>Missense_Mutation</td>\n",
       "      <td>0.2577</td>\n",
       "      <td>Brca</td>\n",
       "    </tr>\n",
       "    <tr>\n",
       "      <th>X11BR013</th>\n",
       "      <td>Missense_Mutation</td>\n",
       "      <td>0.4851</td>\n",
       "      <td>Brca</td>\n",
       "    </tr>\n",
       "    <tr>\n",
       "      <th>X11BR014</th>\n",
       "      <td>Missense_Mutation</td>\n",
       "      <td>-0.3543</td>\n",
       "      <td>Brca</td>\n",
       "    </tr>\n",
       "    <tr>\n",
       "      <th>X11BR022</th>\n",
       "      <td>Missense_Mutation</td>\n",
       "      <td>0.5466</td>\n",
       "      <td>Brca</td>\n",
       "    </tr>\n",
       "  </tbody>\n",
       "</table>\n",
       "</div>"
      ],
      "text/plain": [
       "                     Mutation   IDH3A cancer\n",
       "Patient_ID                                  \n",
       "CPT001846   Missense_Mutation -0.2294   Brca\n",
       "X11BR004    Missense_Mutation  0.2577   Brca\n",
       "X11BR013    Missense_Mutation  0.4851   Brca\n",
       "X11BR014    Missense_Mutation -0.3543   Brca\n",
       "X11BR022    Missense_Mutation  0.5466   Brca"
      ]
     },
     "execution_count": 14,
     "metadata": {},
     "output_type": "execute_result"
    }
   ],
   "source": [
    "brca_missense.head()"
   ]
  },
  {
   "cell_type": "code",
   "execution_count": 15,
   "metadata": {},
   "outputs": [
    {
     "data": {
      "text/html": [
       "<div>\n",
       "<style scoped>\n",
       "    .dataframe tbody tr th:only-of-type {\n",
       "        vertical-align: middle;\n",
       "    }\n",
       "\n",
       "    .dataframe tbody tr th {\n",
       "        vertical-align: top;\n",
       "    }\n",
       "\n",
       "    .dataframe thead th {\n",
       "        text-align: right;\n",
       "    }\n",
       "</style>\n",
       "<table border=\"1\" class=\"dataframe\">\n",
       "  <thead>\n",
       "    <tr style=\"text-align: right;\">\n",
       "      <th></th>\n",
       "      <th>Mutation</th>\n",
       "      <th>IDH3A</th>\n",
       "      <th>cancer</th>\n",
       "    </tr>\n",
       "    <tr>\n",
       "      <th>Patient_ID</th>\n",
       "      <th></th>\n",
       "      <th></th>\n",
       "      <th></th>\n",
       "    </tr>\n",
       "  </thead>\n",
       "  <tbody>\n",
       "    <tr>\n",
       "      <th>05CO028</th>\n",
       "      <td>Missense_Mutation</td>\n",
       "      <td>-0.0211</td>\n",
       "      <td>Colon</td>\n",
       "    </tr>\n",
       "    <tr>\n",
       "      <th>05CO032</th>\n",
       "      <td>Missense_Mutation</td>\n",
       "      <td>-0.3450</td>\n",
       "      <td>Colon</td>\n",
       "    </tr>\n",
       "    <tr>\n",
       "      <th>09CO005</th>\n",
       "      <td>Missense_Mutation</td>\n",
       "      <td>0.0496</td>\n",
       "      <td>Colon</td>\n",
       "    </tr>\n",
       "    <tr>\n",
       "      <th>11CO027</th>\n",
       "      <td>Missense_Mutation</td>\n",
       "      <td>-0.2080</td>\n",
       "      <td>Colon</td>\n",
       "    </tr>\n",
       "    <tr>\n",
       "      <th>11CO052</th>\n",
       "      <td>Missense_Mutation</td>\n",
       "      <td>-0.0698</td>\n",
       "      <td>Colon</td>\n",
       "    </tr>\n",
       "    <tr>\n",
       "      <th>11CO062</th>\n",
       "      <td>Missense_Mutation</td>\n",
       "      <td>-0.5540</td>\n",
       "      <td>Colon</td>\n",
       "    </tr>\n",
       "    <tr>\n",
       "      <th>16CO006</th>\n",
       "      <td>Missense_Mutation</td>\n",
       "      <td>0.1140</td>\n",
       "      <td>Colon</td>\n",
       "    </tr>\n",
       "    <tr>\n",
       "      <th>16CO012</th>\n",
       "      <td>Missense_Mutation</td>\n",
       "      <td>NaN</td>\n",
       "      <td>Colon</td>\n",
       "    </tr>\n",
       "    <tr>\n",
       "      <th>20CO004</th>\n",
       "      <td>Missense_Mutation</td>\n",
       "      <td>-0.7950</td>\n",
       "      <td>Colon</td>\n",
       "    </tr>\n",
       "    <tr>\n",
       "      <th>01CO001</th>\n",
       "      <td>Wildtype_Tumor</td>\n",
       "      <td>NaN</td>\n",
       "      <td>Colon</td>\n",
       "    </tr>\n",
       "  </tbody>\n",
       "</table>\n",
       "</div>"
      ],
      "text/plain": [
       "                     Mutation   IDH3A cancer\n",
       "Patient_ID                                  \n",
       "05CO028     Missense_Mutation -0.0211  Colon\n",
       "05CO032     Missense_Mutation -0.3450  Colon\n",
       "09CO005     Missense_Mutation  0.0496  Colon\n",
       "11CO027     Missense_Mutation -0.2080  Colon\n",
       "11CO052     Missense_Mutation -0.0698  Colon\n",
       "11CO062     Missense_Mutation -0.5540  Colon\n",
       "16CO006     Missense_Mutation  0.1140  Colon\n",
       "16CO012     Missense_Mutation     NaN  Colon\n",
       "20CO004     Missense_Mutation -0.7950  Colon\n",
       "01CO001        Wildtype_Tumor     NaN  Colon"
      ]
     },
     "execution_count": 15,
     "metadata": {},
     "output_type": "execute_result"
    }
   ],
   "source": [
    "colon_missense.head(10)"
   ]
  },
  {
   "cell_type": "markdown",
   "metadata": {},
   "source": [
    "## Join all the cancer data tables together.\n",
    "This is the one we will use to make the graph"
   ]
  },
  {
   "cell_type": "code",
   "execution_count": 16,
   "metadata": {},
   "outputs": [
    {
     "data": {
      "text/html": [
       "<div>\n",
       "<style scoped>\n",
       "    .dataframe tbody tr th:only-of-type {\n",
       "        vertical-align: middle;\n",
       "    }\n",
       "\n",
       "    .dataframe tbody tr th {\n",
       "        vertical-align: top;\n",
       "    }\n",
       "\n",
       "    .dataframe thead th {\n",
       "        text-align: right;\n",
       "    }\n",
       "</style>\n",
       "<table border=\"1\" class=\"dataframe\">\n",
       "  <thead>\n",
       "    <tr style=\"text-align: right;\">\n",
       "      <th></th>\n",
       "      <th>Mutation</th>\n",
       "      <th>IDH3A</th>\n",
       "      <th>cancer</th>\n",
       "    </tr>\n",
       "    <tr>\n",
       "      <th>Patient_ID</th>\n",
       "      <th></th>\n",
       "      <th></th>\n",
       "      <th></th>\n",
       "    </tr>\n",
       "  </thead>\n",
       "  <tbody>\n",
       "    <tr>\n",
       "      <th>C3L-00006</th>\n",
       "      <td>Missense_Mutation</td>\n",
       "      <td>0.7980</td>\n",
       "      <td>Endometrial</td>\n",
       "    </tr>\n",
       "    <tr>\n",
       "      <th>C3L-00032</th>\n",
       "      <td>Missense_Mutation</td>\n",
       "      <td>0.5710</td>\n",
       "      <td>Endometrial</td>\n",
       "    </tr>\n",
       "    <tr>\n",
       "      <th>C3L-00362</th>\n",
       "      <td>Missense_Mutation</td>\n",
       "      <td>0.2860</td>\n",
       "      <td>Endometrial</td>\n",
       "    </tr>\n",
       "    <tr>\n",
       "      <th>C3L-00601</th>\n",
       "      <td>Missense_Mutation</td>\n",
       "      <td>-0.3760</td>\n",
       "      <td>Endometrial</td>\n",
       "    </tr>\n",
       "    <tr>\n",
       "      <th>C3L-00605</th>\n",
       "      <td>Missense_Mutation</td>\n",
       "      <td>0.2270</td>\n",
       "      <td>Endometrial</td>\n",
       "    </tr>\n",
       "    <tr>\n",
       "      <th>...</th>\n",
       "      <td>...</td>\n",
       "      <td>...</td>\n",
       "      <td>...</td>\n",
       "    </tr>\n",
       "    <tr>\n",
       "      <th>20CO001</th>\n",
       "      <td>Wildtype_Tumor</td>\n",
       "      <td>-0.1800</td>\n",
       "      <td>Colon</td>\n",
       "    </tr>\n",
       "    <tr>\n",
       "      <th>20CO003</th>\n",
       "      <td>Wildtype_Tumor</td>\n",
       "      <td>-0.0636</td>\n",
       "      <td>Colon</td>\n",
       "    </tr>\n",
       "    <tr>\n",
       "      <th>22CO004</th>\n",
       "      <td>Wildtype_Tumor</td>\n",
       "      <td>0.4960</td>\n",
       "      <td>Colon</td>\n",
       "    </tr>\n",
       "    <tr>\n",
       "      <th>22CO006</th>\n",
       "      <td>Wildtype_Tumor</td>\n",
       "      <td>-0.0104</td>\n",
       "      <td>Colon</td>\n",
       "    </tr>\n",
       "    <tr>\n",
       "      <th>24CO005</th>\n",
       "      <td>Wildtype_Tumor</td>\n",
       "      <td>NaN</td>\n",
       "      <td>Colon</td>\n",
       "    </tr>\n",
       "  </tbody>\n",
       "</table>\n",
       "<p>198 rows × 3 columns</p>\n",
       "</div>"
      ],
      "text/plain": [
       "                     Mutation   IDH3A       cancer\n",
       "Patient_ID                                        \n",
       "C3L-00006   Missense_Mutation  0.7980  Endometrial\n",
       "C3L-00032   Missense_Mutation  0.5710  Endometrial\n",
       "C3L-00362   Missense_Mutation  0.2860  Endometrial\n",
       "C3L-00601   Missense_Mutation -0.3760  Endometrial\n",
       "C3L-00605   Missense_Mutation  0.2270  Endometrial\n",
       "...                       ...     ...          ...\n",
       "20CO001        Wildtype_Tumor -0.1800        Colon\n",
       "20CO003        Wildtype_Tumor -0.0636        Colon\n",
       "22CO004        Wildtype_Tumor  0.4960        Colon\n",
       "22CO006        Wildtype_Tumor -0.0104        Colon\n",
       "24CO005        Wildtype_Tumor     NaN        Colon\n",
       "\n",
       "[198 rows x 3 columns]"
      ]
     },
     "execution_count": 16,
     "metadata": {},
     "output_type": "execute_result"
    }
   ],
   "source": [
    "df = endo_missense.append(brca_missense)\n",
    "df = df.append(colon_missense)\n",
    "df"
   ]
  },
  {
   "cell_type": "code",
   "execution_count": 19,
   "metadata": {},
   "outputs": [
    {
     "data": {
      "image/png": "[encoded data removed]",
      "text/plain": [
       "<Figure size 842.4x612 with 1 Axes>"
      ]
     },
     "metadata": {},
     "output_type": "display_data"
    }
   ],
   "source": [
    "# pancancer cis plot\n",
    "gene = 'IDH3A'\n",
    "plt.rcParams['figure.figsize']=(11.7,8.5) #size of plot\n",
    "sns.set(font_scale = 1.2)\n",
    "\n",
    "boxplot = sns.boxplot(x='cancer', y=gene, data = df, hue = 'Mutation',\n",
    "                      hue_order = [\"Wildtype_Tumor\", \"Missense_Mutation\"], showfliers = False)    \n",
    "boxplot.set_title('Pancancer cis Effect of PIK3CA Hotspot Mutations')\n",
    "boxplot = sns.stripplot(x='cancer', y=gene, data = df, jitter = True, \n",
    "                           color = \".3\", hue = 'Mutation', hue_order = [\"Wildtype_Tumor\", \"Missense_Mutation\"], dodge = True)\n",
    "boxplot.set(xlabel = \"\\nPTEN Wildtype/Hotspot_Mutation\", ylabel = gene+\"_proteomics\")\n",
    "\n",
    "# format legend\n",
    "handles, labels = boxplot.get_legend_handles_labels()\n",
    "plt.legend(handles, ['Wildtype', 'Hotspot_Mutation'])\n",
    "\n",
    "\n",
    "\n",
    "plt.show()\n",
    "plt.clf()\n",
    "plt.close()"
   ]
  },
  {
   "cell_type": "code",
   "execution_count": null,
   "metadata": {},
   "outputs": [],
   "source": []
  },
  {
   "cell_type": "code",
   "execution_count": null,
   "metadata": {},
   "outputs": [],
   "source": []
  },
  {
   "cell_type": "code",
   "execution_count": 18,
   "metadata": {},
   "outputs": [],
   "source": [
    "# fig = boxplot.get_figure()\n",
    "# fig.savefig(\"cis_effects_proteomics.png\")"
   ]
  }
 ],
 "metadata": {
  "kernelspec": {
   "display_name": "Python 3",
   "language": "python",
   "name": "python3"
  },
  "language_info": {
   "codemirror_mode": {
    "name": "ipython",
    "version": 3
   },
   "file_extension": ".py",
   "mimetype": "text/x-python",
   "name": "python",
   "nbconvert_exporter": "python",
   "pygments_lexer": "ipython3",
   "version": "3.7.3"
  }
 },
 "nbformat": 4,
 "nbformat_minor": 2
}
