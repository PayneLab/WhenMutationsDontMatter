{
 "cells": [
  {
   "cell_type": "code",
   "execution_count": 1,
   "metadata": {},
   "outputs": [
    {
     "name": "stderr",
     "output_type": "stream",
     "text": [
      "/Users/hannahboekweg/anaconda3/lib/python3.7/site-packages/statsmodels/tools/_testing.py:19: FutureWarning: pandas.util.testing is deprecated. Use the functions in the public API at pandas.testing instead.\n",
      "  import pandas.util.testing as tm\n"
     ]
    }
   ],
   "source": [
    "import pandas as pd\n",
    "import plot_utils \n",
    "import numpy as np\n",
    "import math"
   ]
  },
  {
   "cell_type": "code",
   "execution_count": 2,
   "metadata": {},
   "outputs": [
    {
     "data": {
      "text/html": [
       "<div>\n",
       "<style scoped>\n",
       "    .dataframe tbody tr th:only-of-type {\n",
       "        vertical-align: middle;\n",
       "    }\n",
       "\n",
       "    .dataframe tbody tr th {\n",
       "        vertical-align: top;\n",
       "    }\n",
       "\n",
       "    .dataframe thead th {\n",
       "        text-align: right;\n",
       "    }\n",
       "</style>\n",
       "<table border=\"1\" class=\"dataframe\">\n",
       "  <thead>\n",
       "    <tr style=\"text-align: right;\">\n",
       "      <th></th>\n",
       "      <th>Difference_In_Median_Brca</th>\n",
       "      <th>P_Value_Brca</th>\n",
       "      <th>Difference_In_Median_Endo</th>\n",
       "      <th>P_Value_Endo</th>\n",
       "      <th>Difference_In_Median</th>\n",
       "      <th>P_Value</th>\n",
       "    </tr>\n",
       "  </thead>\n",
       "  <tbody>\n",
       "    <tr>\n",
       "      <th>A2ML1</th>\n",
       "      <td>-1.26120</td>\n",
       "      <td>0.165194</td>\n",
       "      <td>1.10585</td>\n",
       "      <td>0.037044</td>\n",
       "      <td>NaN</td>\n",
       "      <td>NaN</td>\n",
       "    </tr>\n",
       "    <tr>\n",
       "      <th>AADAT</th>\n",
       "      <td>-1.33200</td>\n",
       "      <td>0.027477</td>\n",
       "      <td>-0.18535</td>\n",
       "      <td>0.690613</td>\n",
       "      <td>NaN</td>\n",
       "      <td>NaN</td>\n",
       "    </tr>\n",
       "    <tr>\n",
       "      <th>AAGAB</th>\n",
       "      <td>-0.09455</td>\n",
       "      <td>0.909622</td>\n",
       "      <td>0.24350</td>\n",
       "      <td>0.139632</td>\n",
       "      <td>0.1390</td>\n",
       "      <td>0.039189</td>\n",
       "    </tr>\n",
       "    <tr>\n",
       "      <th>AASDHPPT</th>\n",
       "      <td>0.51445</td>\n",
       "      <td>0.003620</td>\n",
       "      <td>-0.10590</td>\n",
       "      <td>0.428884</td>\n",
       "      <td>-0.0628</td>\n",
       "      <td>0.973515</td>\n",
       "    </tr>\n",
       "    <tr>\n",
       "      <th>AATF</th>\n",
       "      <td>-0.16905</td>\n",
       "      <td>0.042271</td>\n",
       "      <td>-0.18170</td>\n",
       "      <td>0.915482</td>\n",
       "      <td>0.0250</td>\n",
       "      <td>0.568821</td>\n",
       "    </tr>\n",
       "  </tbody>\n",
       "</table>\n",
       "</div>"
      ],
      "text/plain": [
       "          Difference_In_Median_Brca  P_Value_Brca  Difference_In_Median_Endo  \\\n",
       "A2ML1                      -1.26120      0.165194                    1.10585   \n",
       "AADAT                      -1.33200      0.027477                   -0.18535   \n",
       "AAGAB                      -0.09455      0.909622                    0.24350   \n",
       "AASDHPPT                    0.51445      0.003620                   -0.10590   \n",
       "AATF                       -0.16905      0.042271                   -0.18170   \n",
       "\n",
       "          P_Value_Endo  Difference_In_Median   P_Value  \n",
       "A2ML1         0.037044                   NaN       NaN  \n",
       "AADAT         0.690613                   NaN       NaN  \n",
       "AAGAB         0.139632                0.1390  0.039189  \n",
       "AASDHPPT      0.428884               -0.0628  0.973515  \n",
       "AATF          0.915482                0.0250  0.568821  "
      ]
     },
     "execution_count": 2,
     "metadata": {},
     "output_type": "execute_result"
    }
   ],
   "source": [
    "trans = pd.read_csv('~/WhenMutationsDontMatter/PIK3CA/csv_files/proteomics.csv', index_col=0)\n",
    "trans.head()"
   ]
  },
  {
   "cell_type": "code",
   "execution_count": 3,
   "metadata": {},
   "outputs": [
    {
     "data": {
      "text/html": [
       "<div>\n",
       "<style scoped>\n",
       "    .dataframe tbody tr th:only-of-type {\n",
       "        vertical-align: middle;\n",
       "    }\n",
       "\n",
       "    .dataframe tbody tr th {\n",
       "        vertical-align: top;\n",
       "    }\n",
       "\n",
       "    .dataframe thead th {\n",
       "        text-align: right;\n",
       "    }\n",
       "</style>\n",
       "<table border=\"1\" class=\"dataframe\">\n",
       "  <thead>\n",
       "    <tr style=\"text-align: right;\">\n",
       "      <th></th>\n",
       "      <th>Difference_In_Median_Brca</th>\n",
       "      <th>P_Value_Brca</th>\n",
       "      <th>Difference_In_Median_Endo</th>\n",
       "      <th>P_Value_Endo</th>\n",
       "      <th>Difference_In_Median</th>\n",
       "      <th>P_Value</th>\n",
       "    </tr>\n",
       "  </thead>\n",
       "  <tbody>\n",
       "    <tr>\n",
       "      <th>METAP1D</th>\n",
       "      <td>-0.50980</td>\n",
       "      <td>0.047000</td>\n",
       "      <td>0.07190</td>\n",
       "      <td>0.164569</td>\n",
       "      <td>NaN</td>\n",
       "      <td>NaN</td>\n",
       "    </tr>\n",
       "    <tr>\n",
       "      <th>METAP2</th>\n",
       "      <td>-0.11795</td>\n",
       "      <td>0.946290</td>\n",
       "      <td>-0.01965</td>\n",
       "      <td>0.333791</td>\n",
       "      <td>0.23240</td>\n",
       "      <td>0.035209</td>\n",
       "    </tr>\n",
       "    <tr>\n",
       "      <th>METTL15</th>\n",
       "      <td>-0.38605</td>\n",
       "      <td>0.029505</td>\n",
       "      <td>0.34650</td>\n",
       "      <td>0.068601</td>\n",
       "      <td>0.02085</td>\n",
       "      <td>0.660051</td>\n",
       "    </tr>\n",
       "    <tr>\n",
       "      <th>METTL3</th>\n",
       "      <td>-0.06140</td>\n",
       "      <td>0.420283</td>\n",
       "      <td>0.02830</td>\n",
       "      <td>0.588049</td>\n",
       "      <td>0.24140</td>\n",
       "      <td>0.033464</td>\n",
       "    </tr>\n",
       "    <tr>\n",
       "      <th>METTL8</th>\n",
       "      <td>-0.44070</td>\n",
       "      <td>0.004792</td>\n",
       "      <td>-0.15855</td>\n",
       "      <td>0.635958</td>\n",
       "      <td>NaN</td>\n",
       "      <td>NaN</td>\n",
       "    </tr>\n",
       "  </tbody>\n",
       "</table>\n",
       "</div>"
      ],
      "text/plain": [
       "         Difference_In_Median_Brca  P_Value_Brca  Difference_In_Median_Endo  \\\n",
       "METAP1D                   -0.50980      0.047000                    0.07190   \n",
       "METAP2                    -0.11795      0.946290                   -0.01965   \n",
       "METTL15                   -0.38605      0.029505                    0.34650   \n",
       "METTL3                    -0.06140      0.420283                    0.02830   \n",
       "METTL8                    -0.44070      0.004792                   -0.15855   \n",
       "\n",
       "         P_Value_Endo  Difference_In_Median   P_Value  \n",
       "METAP1D      0.164569                   NaN       NaN  \n",
       "METAP2       0.333791               0.23240  0.035209  \n",
       "METTL15      0.068601               0.02085  0.660051  \n",
       "METTL3       0.588049               0.24140  0.033464  \n",
       "METTL8       0.635958                   NaN       NaN  "
      ]
     },
     "execution_count": 3,
     "metadata": {},
     "output_type": "execute_result"
    }
   ],
   "source": [
    "trans.loc[trans.index.str.contains(\"MET\")]"
   ]
  },
  {
   "cell_type": "code",
   "execution_count": 6,
   "metadata": {},
   "outputs": [
    {
     "data": {
      "text/html": [
       "<div>\n",
       "<style scoped>\n",
       "    .dataframe tbody tr th:only-of-type {\n",
       "        vertical-align: middle;\n",
       "    }\n",
       "\n",
       "    .dataframe tbody tr th {\n",
       "        vertical-align: top;\n",
       "    }\n",
       "\n",
       "    .dataframe thead th {\n",
       "        text-align: right;\n",
       "    }\n",
       "</style>\n",
       "<table border=\"1\" class=\"dataframe\">\n",
       "  <thead>\n",
       "    <tr style=\"text-align: right;\">\n",
       "      <th></th>\n",
       "      <th>Difference_In_Median_Brca</th>\n",
       "      <th>P_Value_Brca</th>\n",
       "      <th>Difference_In_Median_Endo</th>\n",
       "      <th>P_Value_Endo</th>\n",
       "      <th>Difference_In_Median</th>\n",
       "      <th>P_Value</th>\n",
       "    </tr>\n",
       "  </thead>\n",
       "  <tbody>\n",
       "  </tbody>\n",
       "</table>\n",
       "</div>"
      ],
      "text/plain": [
       "Empty DataFrame\n",
       "Columns: [Difference_In_Median_Brca, P_Value_Brca, Difference_In_Median_Endo, P_Value_Endo, Difference_In_Median, P_Value]\n",
       "Index: []"
      ]
     },
     "execution_count": 6,
     "metadata": {},
     "output_type": "execute_result"
    }
   ],
   "source": [
    "trans.loc[trans.index.str.contains(\"PTEN\")]"
   ]
  }
 ],
 "metadata": {
  "kernelspec": {
   "display_name": "Python 3",
   "language": "python",
   "name": "python3"
  },
  "language_info": {
   "codemirror_mode": {
    "name": "ipython",
    "version": 3
   },
   "file_extension": ".py",
   "mimetype": "text/x-python",
   "name": "python",
   "nbconvert_exporter": "python",
   "pygments_lexer": "ipython3",
   "version": "3.7.3"
  }
 },
 "nbformat": 4,
 "nbformat_minor": 2
}
