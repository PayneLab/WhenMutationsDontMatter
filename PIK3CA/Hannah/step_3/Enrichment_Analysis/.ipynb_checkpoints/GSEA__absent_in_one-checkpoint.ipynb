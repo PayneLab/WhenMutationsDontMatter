{
 "cells": [
  {
   "cell_type": "code",
   "execution_count": 1,
   "metadata": {},
   "outputs": [],
   "source": [
    "import pandas as pd\n",
    "import numpy as np\n",
    "import matplotlib.pyplot as plt\n",
    "from scipy import stats\n",
    "import gseapy as gp\n",
    "from gseapy.plot import barplot, dotplot"
   ]
  },
  {
   "cell_type": "markdown",
   "metadata": {},
   "source": [
    "# Read in the dataframe that contains the genes that have a positive and negative correlation"
   ]
  },
  {
   "cell_type": "code",
   "execution_count": 2,
   "metadata": {},
   "outputs": [
    {
     "data": {
      "text/html": [
       "<div>\n",
       "<style scoped>\n",
       "    .dataframe tbody tr th:only-of-type {\n",
       "        vertical-align: middle;\n",
       "    }\n",
       "\n",
       "    .dataframe tbody tr th {\n",
       "        vertical-align: top;\n",
       "    }\n",
       "\n",
       "    .dataframe thead th {\n",
       "        text-align: right;\n",
       "    }\n",
       "</style>\n",
       "<table border=\"1\" class=\"dataframe\">\n",
       "  <thead>\n",
       "    <tr style=\"text-align: right;\">\n",
       "      <th></th>\n",
       "      <th>Difference_In_Median_Brca</th>\n",
       "      <th>Difference_In_Median_Endo</th>\n",
       "      <th>Difference_In_Median</th>\n",
       "      <th>Pos_Neg</th>\n",
       "    </tr>\n",
       "  </thead>\n",
       "  <tbody>\n",
       "    <tr>\n",
       "      <th>ATAD3A</th>\n",
       "      <td>-0.90185</td>\n",
       "      <td>0.31700</td>\n",
       "      <td>NaN</td>\n",
       "      <td>True</td>\n",
       "    </tr>\n",
       "    <tr>\n",
       "      <th>ATP5S</th>\n",
       "      <td>-0.64845</td>\n",
       "      <td>0.34516</td>\n",
       "      <td>NaN</td>\n",
       "      <td>True</td>\n",
       "    </tr>\n",
       "    <tr>\n",
       "      <th>C1QBP</th>\n",
       "      <td>-0.59430</td>\n",
       "      <td>0.41600</td>\n",
       "      <td>NaN</td>\n",
       "      <td>True</td>\n",
       "    </tr>\n",
       "    <tr>\n",
       "      <th>CHCHD2</th>\n",
       "      <td>-0.34315</td>\n",
       "      <td>0.52850</td>\n",
       "      <td>NaN</td>\n",
       "      <td>True</td>\n",
       "    </tr>\n",
       "    <tr>\n",
       "      <th>COL5A1</th>\n",
       "      <td>2.07625</td>\n",
       "      <td>-0.31800</td>\n",
       "      <td>NaN</td>\n",
       "      <td>True</td>\n",
       "    </tr>\n",
       "  </tbody>\n",
       "</table>\n",
       "</div>"
      ],
      "text/plain": [
       "        Difference_In_Median_Brca  Difference_In_Median_Endo  \\\n",
       "ATAD3A                   -0.90185                    0.31700   \n",
       "ATP5S                    -0.64845                    0.34516   \n",
       "C1QBP                    -0.59430                    0.41600   \n",
       "CHCHD2                   -0.34315                    0.52850   \n",
       "COL5A1                    2.07625                   -0.31800   \n",
       "\n",
       "        Difference_In_Median  Pos_Neg  \n",
       "ATAD3A                   NaN     True  \n",
       "ATP5S                    NaN     True  \n",
       "C1QBP                    NaN     True  \n",
       "CHCHD2                   NaN     True  \n",
       "COL5A1                   NaN     True  "
      ]
     },
     "execution_count": 2,
     "metadata": {},
     "output_type": "execute_result"
    }
   ],
   "source": [
    "df = pd.read_csv('~/WhenMutationsDontMatter/PIK3CA/csv_files/correlations_medians.csv', index_col=0)\n",
    "df.head()"
   ]
  },
  {
   "cell_type": "code",
   "execution_count": 3,
   "metadata": {},
   "outputs": [
    {
     "data": {
      "text/plain": [
       "39"
      ]
     },
     "execution_count": 3,
     "metadata": {},
     "output_type": "execute_result"
    }
   ],
   "source": [
    "pos_and_neg_genes = list(df.index)\n",
    "len(pos_and_neg_genes)"
   ]
  },
  {
   "cell_type": "markdown",
   "metadata": {},
   "source": [
    "# Perform enrichment analysis"
   ]
  },
  {
   "cell_type": "code",
   "execution_count": 4,
   "metadata": {},
   "outputs": [],
   "source": [
    "enr = gp.enrichr(gene_list = pos_and_neg_genes, description='Tumor_partition', gene_sets='KEGG_2016', \n",
    "                       )"
   ]
  },
  {
   "cell_type": "markdown",
   "metadata": {},
   "source": [
    "The Gene Set Enrichment Analysis returns a list of pathways the genes provided are involved in, based on a significant adjusted P-value."
   ]
  },
  {
   "cell_type": "code",
   "execution_count": 5,
   "metadata": {},
   "outputs": [
    {
     "data": {
      "text/html": [
       "<div>\n",
       "<style scoped>\n",
       "    .dataframe tbody tr th:only-of-type {\n",
       "        vertical-align: middle;\n",
       "    }\n",
       "\n",
       "    .dataframe tbody tr th {\n",
       "        vertical-align: top;\n",
       "    }\n",
       "\n",
       "    .dataframe thead th {\n",
       "        text-align: right;\n",
       "    }\n",
       "</style>\n",
       "<table border=\"1\" class=\"dataframe\">\n",
       "  <thead>\n",
       "    <tr style=\"text-align: right;\">\n",
       "      <th></th>\n",
       "      <th>Gene_set</th>\n",
       "      <th>Term</th>\n",
       "      <th>Overlap</th>\n",
       "      <th>P-value</th>\n",
       "      <th>Adjusted P-value</th>\n",
       "      <th>Old P-value</th>\n",
       "      <th>Old Adjusted P-value</th>\n",
       "      <th>Odds Ratio</th>\n",
       "      <th>Combined Score</th>\n",
       "      <th>Genes</th>\n",
       "    </tr>\n",
       "  </thead>\n",
       "  <tbody>\n",
       "    <tr>\n",
       "      <th>0</th>\n",
       "      <td>KEGG_2016</td>\n",
       "      <td>Ribosome Homo sapiens hsa03010</td>\n",
       "      <td>6/137</td>\n",
       "      <td>2.507101e-07</td>\n",
       "      <td>0.000073</td>\n",
       "      <td>0</td>\n",
       "      <td>0</td>\n",
       "      <td>22.459293</td>\n",
       "      <td>341.358080</td>\n",
       "      <td>MRPS15;MRPS16;MRPL1;MRPL18;MRPS12;MRPS10</td>\n",
       "    </tr>\n",
       "    <tr>\n",
       "      <th>1</th>\n",
       "      <td>KEGG_2016</td>\n",
       "      <td>Citrate cycle (TCA cycle) Homo sapiens hsa00020</td>\n",
       "      <td>3/30</td>\n",
       "      <td>2.683460e-05</td>\n",
       "      <td>0.003931</td>\n",
       "      <td>0</td>\n",
       "      <td>0</td>\n",
       "      <td>51.282051</td>\n",
       "      <td>539.785561</td>\n",
       "      <td>MDH2;IDH3B;IDH3A</td>\n",
       "    </tr>\n",
       "    <tr>\n",
       "      <th>2</th>\n",
       "      <td>KEGG_2016</td>\n",
       "      <td>Carbon metabolism Homo sapiens hsa01200</td>\n",
       "      <td>4/113</td>\n",
       "      <td>6.821412e-05</td>\n",
       "      <td>0.006662</td>\n",
       "      <td>0</td>\n",
       "      <td>0</td>\n",
       "      <td>18.152939</td>\n",
       "      <td>174.138579</td>\n",
       "      <td>MDH2;IDH3B;ENO2;IDH3A</td>\n",
       "    </tr>\n",
       "    <tr>\n",
       "      <th>3</th>\n",
       "      <td>KEGG_2016</td>\n",
       "      <td>Biosynthesis of amino acids Homo sapiens hsa01230</td>\n",
       "      <td>3/74</td>\n",
       "      <td>4.037949e-04</td>\n",
       "      <td>0.029578</td>\n",
       "      <td>0</td>\n",
       "      <td>0</td>\n",
       "      <td>20.790021</td>\n",
       "      <td>162.465771</td>\n",
       "      <td>IDH3B;ENO2;IDH3A</td>\n",
       "    </tr>\n",
       "    <tr>\n",
       "      <th>4</th>\n",
       "      <td>KEGG_2016</td>\n",
       "      <td>2-Oxocarboxylic acid metabolism Homo sapiens h...</td>\n",
       "      <td>2/17</td>\n",
       "      <td>4.946557e-04</td>\n",
       "      <td>0.028987</td>\n",
       "      <td>0</td>\n",
       "      <td>0</td>\n",
       "      <td>60.331825</td>\n",
       "      <td>459.224652</td>\n",
       "      <td>IDH3B;IDH3A</td>\n",
       "    </tr>\n",
       "  </tbody>\n",
       "</table>\n",
       "</div>"
      ],
      "text/plain": [
       "    Gene_set                                               Term Overlap  \\\n",
       "0  KEGG_2016                     Ribosome Homo sapiens hsa03010   6/137   \n",
       "1  KEGG_2016    Citrate cycle (TCA cycle) Homo sapiens hsa00020    3/30   \n",
       "2  KEGG_2016            Carbon metabolism Homo sapiens hsa01200   4/113   \n",
       "3  KEGG_2016  Biosynthesis of amino acids Homo sapiens hsa01230    3/74   \n",
       "4  KEGG_2016  2-Oxocarboxylic acid metabolism Homo sapiens h...    2/17   \n",
       "\n",
       "        P-value  Adjusted P-value  Old P-value  Old Adjusted P-value  \\\n",
       "0  2.507101e-07          0.000073            0                     0   \n",
       "1  2.683460e-05          0.003931            0                     0   \n",
       "2  6.821412e-05          0.006662            0                     0   \n",
       "3  4.037949e-04          0.029578            0                     0   \n",
       "4  4.946557e-04          0.028987            0                     0   \n",
       "\n",
       "   Odds Ratio  Combined Score                                     Genes  \n",
       "0   22.459293      341.358080  MRPS15;MRPS16;MRPL1;MRPL18;MRPS12;MRPS10  \n",
       "1   51.282051      539.785561                          MDH2;IDH3B;IDH3A  \n",
       "2   18.152939      174.138579                     MDH2;IDH3B;ENO2;IDH3A  \n",
       "3   20.790021      162.465771                          IDH3B;ENO2;IDH3A  \n",
       "4   60.331825      459.224652                               IDH3B;IDH3A  "
      ]
     },
     "execution_count": 5,
     "metadata": {},
     "output_type": "execute_result"
    }
   ],
   "source": [
    "enr.res2d.head()"
   ]
  }
 ],
 "metadata": {
  "kernelspec": {
   "display_name": "Python 3",
   "language": "python",
   "name": "python3"
  },
  "language_info": {
   "codemirror_mode": {
    "name": "ipython",
    "version": 3
   },
   "file_extension": ".py",
   "mimetype": "text/x-python",
   "name": "python",
   "nbconvert_exporter": "python",
   "pygments_lexer": "ipython3",
   "version": "3.7.3"
  }
 },
 "nbformat": 4,
 "nbformat_minor": 2
}
