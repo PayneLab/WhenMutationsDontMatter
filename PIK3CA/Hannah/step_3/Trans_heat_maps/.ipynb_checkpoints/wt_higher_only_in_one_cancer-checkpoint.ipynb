{
 "cells": [
  {
   "cell_type": "code",
   "execution_count": 1,
   "metadata": {},
   "outputs": [
    {
     "name": "stderr",
     "output_type": "stream",
     "text": [
      "/Users/hannahboekweg/anaconda3/lib/python3.7/site-packages/statsmodels/tools/_testing.py:19: FutureWarning: pandas.util.testing is deprecated. Use the functions in the public API at pandas.testing instead.\n",
      "  import pandas.util.testing as tm\n"
     ]
    }
   ],
   "source": [
    "import pandas as pd\n",
    "import plot_utils \n",
    "import numpy as np\n",
    "import math\n",
    "from itertools import compress"
   ]
  },
  {
   "cell_type": "markdown",
   "metadata": {},
   "source": [
    "## Get the trans table"
   ]
  },
  {
   "cell_type": "code",
   "execution_count": 2,
   "metadata": {},
   "outputs": [
    {
     "data": {
      "text/html": [
       "<div>\n",
       "<style scoped>\n",
       "    .dataframe tbody tr th:only-of-type {\n",
       "        vertical-align: middle;\n",
       "    }\n",
       "\n",
       "    .dataframe tbody tr th {\n",
       "        vertical-align: top;\n",
       "    }\n",
       "\n",
       "    .dataframe thead th {\n",
       "        text-align: right;\n",
       "    }\n",
       "</style>\n",
       "<table border=\"1\" class=\"dataframe\">\n",
       "  <thead>\n",
       "    <tr style=\"text-align: right;\">\n",
       "      <th></th>\n",
       "      <th>Difference_In_Median_Brca</th>\n",
       "      <th>P_Value_Brca</th>\n",
       "      <th>Difference_In_Median_Endo</th>\n",
       "      <th>P_Value_Endo</th>\n",
       "      <th>Difference_In_Median</th>\n",
       "      <th>P_Value</th>\n",
       "    </tr>\n",
       "  </thead>\n",
       "  <tbody>\n",
       "    <tr>\n",
       "      <th>A2ML1</th>\n",
       "      <td>1.26120</td>\n",
       "      <td>0.165194</td>\n",
       "      <td>-1.10585</td>\n",
       "      <td>0.037044</td>\n",
       "      <td>NaN</td>\n",
       "      <td>NaN</td>\n",
       "    </tr>\n",
       "    <tr>\n",
       "      <th>AADAT</th>\n",
       "      <td>1.33200</td>\n",
       "      <td>0.027477</td>\n",
       "      <td>0.18535</td>\n",
       "      <td>0.690613</td>\n",
       "      <td>NaN</td>\n",
       "      <td>NaN</td>\n",
       "    </tr>\n",
       "    <tr>\n",
       "      <th>AAGAB</th>\n",
       "      <td>0.09455</td>\n",
       "      <td>0.909622</td>\n",
       "      <td>-0.24350</td>\n",
       "      <td>0.139632</td>\n",
       "      <td>-0.1390</td>\n",
       "      <td>0.039189</td>\n",
       "    </tr>\n",
       "    <tr>\n",
       "      <th>AASDHPPT</th>\n",
       "      <td>-0.51445</td>\n",
       "      <td>0.003620</td>\n",
       "      <td>0.10590</td>\n",
       "      <td>0.428884</td>\n",
       "      <td>0.0628</td>\n",
       "      <td>0.973515</td>\n",
       "    </tr>\n",
       "    <tr>\n",
       "      <th>AATF</th>\n",
       "      <td>0.16905</td>\n",
       "      <td>0.042271</td>\n",
       "      <td>0.18170</td>\n",
       "      <td>0.915482</td>\n",
       "      <td>-0.0250</td>\n",
       "      <td>0.568821</td>\n",
       "    </tr>\n",
       "  </tbody>\n",
       "</table>\n",
       "</div>"
      ],
      "text/plain": [
       "          Difference_In_Median_Brca  P_Value_Brca  Difference_In_Median_Endo  \\\n",
       "A2ML1                       1.26120      0.165194                   -1.10585   \n",
       "AADAT                       1.33200      0.027477                    0.18535   \n",
       "AAGAB                       0.09455      0.909622                   -0.24350   \n",
       "AASDHPPT                   -0.51445      0.003620                    0.10590   \n",
       "AATF                        0.16905      0.042271                    0.18170   \n",
       "\n",
       "          P_Value_Endo  Difference_In_Median   P_Value  \n",
       "A2ML1         0.037044                   NaN       NaN  \n",
       "AADAT         0.690613                   NaN       NaN  \n",
       "AAGAB         0.139632               -0.1390  0.039189  \n",
       "AASDHPPT      0.428884                0.0628  0.973515  \n",
       "AATF          0.915482               -0.0250  0.568821  "
      ]
     },
     "execution_count": 2,
     "metadata": {},
     "output_type": "execute_result"
    }
   ],
   "source": [
    "trans = pd.read_csv('~/WhenMutationsDontMatter/PIK3CA/csv_files/proteomics.csv', index_col=0)\n",
    "trans.head()"
   ]
  },
  {
   "cell_type": "code",
   "execution_count": 3,
   "metadata": {},
   "outputs": [
    {
     "data": {
      "text/plain": [
       "numpy.float64"
      ]
     },
     "execution_count": 3,
     "metadata": {},
     "output_type": "execute_result"
    }
   ],
   "source": [
    "type(trans.iloc[2][1])"
   ]
  },
  {
   "cell_type": "markdown",
   "metadata": {},
   "source": [
    "## If the p value isn't significant, replace both pval and median difference with NAN"
   ]
  },
  {
   "cell_type": "code",
   "execution_count": 4,
   "metadata": {},
   "outputs": [],
   "source": [
    "def significant(row):\n",
    "    if row['P_Value_Brca'] > .05:\n",
    "        row['P_Value_Brca'] = np.nan\n",
    "        row['Difference_In_Median_Brca'] = np.nan\n",
    "\n",
    "    if row['P_Value_Endo'] > .05:\n",
    "        row['P_Value_Endo'] = np.nan\n",
    "        row['Difference_In_Median_Endo'] = np.nan\n",
    "        \n",
    "\n",
    "    if row['P_Value'] > .05:\n",
    "        row['P_Value'] = np.nan\n",
    "        row['Difference_In_Median'] = np.nan\n",
    "        \n",
    "    if math.isnan(row['P_Value']):\n",
    "        row['P_Value'] = np.nan\n",
    "        row['Difference_In_Median'] = np.nan\n",
    "        \n",
    "    return row\n",
    "    \n",
    "        "
   ]
  },
  {
   "cell_type": "code",
   "execution_count": 5,
   "metadata": {},
   "outputs": [
    {
     "data": {
      "text/html": [
       "<div>\n",
       "<style scoped>\n",
       "    .dataframe tbody tr th:only-of-type {\n",
       "        vertical-align: middle;\n",
       "    }\n",
       "\n",
       "    .dataframe tbody tr th {\n",
       "        vertical-align: top;\n",
       "    }\n",
       "\n",
       "    .dataframe thead th {\n",
       "        text-align: right;\n",
       "    }\n",
       "</style>\n",
       "<table border=\"1\" class=\"dataframe\">\n",
       "  <thead>\n",
       "    <tr style=\"text-align: right;\">\n",
       "      <th></th>\n",
       "      <th>Difference_In_Median_Brca</th>\n",
       "      <th>P_Value_Brca</th>\n",
       "      <th>Difference_In_Median_Endo</th>\n",
       "      <th>P_Value_Endo</th>\n",
       "      <th>Difference_In_Median</th>\n",
       "      <th>P_Value</th>\n",
       "    </tr>\n",
       "  </thead>\n",
       "  <tbody>\n",
       "    <tr>\n",
       "      <th>A2ML1</th>\n",
       "      <td>NaN</td>\n",
       "      <td>NaN</td>\n",
       "      <td>-1.10585</td>\n",
       "      <td>0.037044</td>\n",
       "      <td>NaN</td>\n",
       "      <td>NaN</td>\n",
       "    </tr>\n",
       "    <tr>\n",
       "      <th>AADAT</th>\n",
       "      <td>1.33200</td>\n",
       "      <td>0.027477</td>\n",
       "      <td>NaN</td>\n",
       "      <td>NaN</td>\n",
       "      <td>NaN</td>\n",
       "      <td>NaN</td>\n",
       "    </tr>\n",
       "    <tr>\n",
       "      <th>AAGAB</th>\n",
       "      <td>NaN</td>\n",
       "      <td>NaN</td>\n",
       "      <td>NaN</td>\n",
       "      <td>NaN</td>\n",
       "      <td>-0.139</td>\n",
       "      <td>0.039189</td>\n",
       "    </tr>\n",
       "    <tr>\n",
       "      <th>AASDHPPT</th>\n",
       "      <td>-0.51445</td>\n",
       "      <td>0.003620</td>\n",
       "      <td>NaN</td>\n",
       "      <td>NaN</td>\n",
       "      <td>NaN</td>\n",
       "      <td>NaN</td>\n",
       "    </tr>\n",
       "    <tr>\n",
       "      <th>AATF</th>\n",
       "      <td>0.16905</td>\n",
       "      <td>0.042271</td>\n",
       "      <td>NaN</td>\n",
       "      <td>NaN</td>\n",
       "      <td>NaN</td>\n",
       "      <td>NaN</td>\n",
       "    </tr>\n",
       "  </tbody>\n",
       "</table>\n",
       "</div>"
      ],
      "text/plain": [
       "          Difference_In_Median_Brca  P_Value_Brca  Difference_In_Median_Endo  \\\n",
       "A2ML1                           NaN           NaN                   -1.10585   \n",
       "AADAT                       1.33200      0.027477                        NaN   \n",
       "AAGAB                           NaN           NaN                        NaN   \n",
       "AASDHPPT                   -0.51445      0.003620                        NaN   \n",
       "AATF                        0.16905      0.042271                        NaN   \n",
       "\n",
       "          P_Value_Endo  Difference_In_Median   P_Value  \n",
       "A2ML1         0.037044                   NaN       NaN  \n",
       "AADAT              NaN                   NaN       NaN  \n",
       "AAGAB              NaN                -0.139  0.039189  \n",
       "AASDHPPT           NaN                   NaN       NaN  \n",
       "AATF               NaN                   NaN       NaN  "
      ]
     },
     "execution_count": 5,
     "metadata": {},
     "output_type": "execute_result"
    }
   ],
   "source": [
    "sig = trans.apply(significant, axis=1)\n",
    "sig.head()"
   ]
  },
  {
   "cell_type": "markdown",
   "metadata": {},
   "source": [
    "## Reformat the dataframe by combining like columns"
   ]
  },
  {
   "cell_type": "code",
   "execution_count": 6,
   "metadata": {},
   "outputs": [
    {
     "data": {
      "text/html": [
       "<div>\n",
       "<style scoped>\n",
       "    .dataframe tbody tr th:only-of-type {\n",
       "        vertical-align: middle;\n",
       "    }\n",
       "\n",
       "    .dataframe tbody tr th {\n",
       "        vertical-align: top;\n",
       "    }\n",
       "\n",
       "    .dataframe thead th {\n",
       "        text-align: right;\n",
       "    }\n",
       "</style>\n",
       "<table border=\"1\" class=\"dataframe\">\n",
       "  <thead>\n",
       "    <tr style=\"text-align: right;\">\n",
       "      <th></th>\n",
       "      <th>Difference_In_Median</th>\n",
       "      <th>P_Value</th>\n",
       "      <th>cancer_type</th>\n",
       "    </tr>\n",
       "  </thead>\n",
       "  <tbody>\n",
       "    <tr>\n",
       "      <th>A2ML1</th>\n",
       "      <td>NaN</td>\n",
       "      <td>NaN</td>\n",
       "      <td>colon</td>\n",
       "    </tr>\n",
       "    <tr>\n",
       "      <th>AADAT</th>\n",
       "      <td>NaN</td>\n",
       "      <td>NaN</td>\n",
       "      <td>colon</td>\n",
       "    </tr>\n",
       "    <tr>\n",
       "      <th>AAGAB</th>\n",
       "      <td>-0.139</td>\n",
       "      <td>0.039189</td>\n",
       "      <td>colon</td>\n",
       "    </tr>\n",
       "    <tr>\n",
       "      <th>AASDHPPT</th>\n",
       "      <td>NaN</td>\n",
       "      <td>NaN</td>\n",
       "      <td>colon</td>\n",
       "    </tr>\n",
       "    <tr>\n",
       "      <th>AATF</th>\n",
       "      <td>NaN</td>\n",
       "      <td>NaN</td>\n",
       "      <td>colon</td>\n",
       "    </tr>\n",
       "  </tbody>\n",
       "</table>\n",
       "</div>"
      ],
      "text/plain": [
       "          Difference_In_Median   P_Value cancer_type\n",
       "A2ML1                      NaN       NaN       colon\n",
       "AADAT                      NaN       NaN       colon\n",
       "AAGAB                   -0.139  0.039189       colon\n",
       "AASDHPPT                   NaN       NaN       colon\n",
       "AATF                       NaN       NaN       colon"
      ]
     },
     "execution_count": 6,
     "metadata": {},
     "output_type": "execute_result"
    }
   ],
   "source": [
    "brca = sig.drop(columns=['Difference_In_Median_Endo', 'P_Value_Endo','Difference_In_Median','P_Value'])\n",
    "brca['cancer_type'] = \"brca\"\n",
    "brca.columns = ['Difference_In_Median', 'P_Value','cancer_type']\n",
    "brca.head()\n",
    "\n",
    "endo = sig.drop(columns=['Difference_In_Median_Brca', 'P_Value_Brca','Difference_In_Median','P_Value'])\n",
    "endo['cancer_type'] = \"endo\"\n",
    "endo.columns = ['Difference_In_Median', 'P_Value','cancer_type']\n",
    "endo.head()\n",
    "\n",
    "colon = sig.drop(columns=['Difference_In_Median_Brca', 'P_Value_Brca','Difference_In_Median_Endo','P_Value_Endo'])\n",
    "colon['cancer_type'] = \"colon\"\n",
    "colon.head()\n",
    "\n",
    "c_and_e = colon.append(endo)\n",
    "df = c_and_e.append(brca)\n",
    "\n",
    "df.head()"
   ]
  },
  {
   "cell_type": "markdown",
   "metadata": {},
   "source": [
    "## Add comparison and size columns for the plot heatmap function\n",
    "The comparison column is simply the index (which is the list of genes).\n",
    "The size column is what the heatmap function will use to plot the significance of the p value."
   ]
  },
  {
   "cell_type": "code",
   "execution_count": 7,
   "metadata": {},
   "outputs": [
    {
     "data": {
      "text/html": [
       "<div>\n",
       "<style scoped>\n",
       "    .dataframe tbody tr th:only-of-type {\n",
       "        vertical-align: middle;\n",
       "    }\n",
       "\n",
       "    .dataframe tbody tr th {\n",
       "        vertical-align: top;\n",
       "    }\n",
       "\n",
       "    .dataframe thead th {\n",
       "        text-align: right;\n",
       "    }\n",
       "</style>\n",
       "<table border=\"1\" class=\"dataframe\">\n",
       "  <thead>\n",
       "    <tr style=\"text-align: right;\">\n",
       "      <th></th>\n",
       "      <th>Difference_In_Median</th>\n",
       "      <th>P_Value</th>\n",
       "      <th>cancer_type</th>\n",
       "      <th>comparison</th>\n",
       "      <th>size</th>\n",
       "    </tr>\n",
       "  </thead>\n",
       "  <tbody>\n",
       "    <tr>\n",
       "      <th>A2ML1</th>\n",
       "      <td>NaN</td>\n",
       "      <td>NaN</td>\n",
       "      <td>colon</td>\n",
       "      <td>A2ML1</td>\n",
       "      <td>NaN</td>\n",
       "    </tr>\n",
       "    <tr>\n",
       "      <th>AADAT</th>\n",
       "      <td>NaN</td>\n",
       "      <td>NaN</td>\n",
       "      <td>colon</td>\n",
       "      <td>AADAT</td>\n",
       "      <td>NaN</td>\n",
       "    </tr>\n",
       "    <tr>\n",
       "      <th>AAGAB</th>\n",
       "      <td>-0.139</td>\n",
       "      <td>0.039189</td>\n",
       "      <td>colon</td>\n",
       "      <td>AAGAB</td>\n",
       "      <td>0.323937</td>\n",
       "    </tr>\n",
       "    <tr>\n",
       "      <th>AASDHPPT</th>\n",
       "      <td>NaN</td>\n",
       "      <td>NaN</td>\n",
       "      <td>colon</td>\n",
       "      <td>AASDHPPT</td>\n",
       "      <td>NaN</td>\n",
       "    </tr>\n",
       "    <tr>\n",
       "      <th>AATF</th>\n",
       "      <td>NaN</td>\n",
       "      <td>NaN</td>\n",
       "      <td>colon</td>\n",
       "      <td>AATF</td>\n",
       "      <td>NaN</td>\n",
       "    </tr>\n",
       "  </tbody>\n",
       "</table>\n",
       "</div>"
      ],
      "text/plain": [
       "          Difference_In_Median   P_Value cancer_type comparison      size\n",
       "A2ML1                      NaN       NaN       colon      A2ML1       NaN\n",
       "AADAT                      NaN       NaN       colon      AADAT       NaN\n",
       "AAGAB                   -0.139  0.039189       colon      AAGAB  0.323937\n",
       "AASDHPPT                   NaN       NaN       colon   AASDHPPT       NaN\n",
       "AATF                       NaN       NaN       colon       AATF       NaN"
      ]
     },
     "execution_count": 7,
     "metadata": {},
     "output_type": "execute_result"
    }
   ],
   "source": [
    "df[\"comparison\"] = df.index\n",
    "df\n",
    "\n",
    "# log p-vals for right scale in plot (bigger circle, smaller pval)\n",
    "df['size'] = df['P_Value'].apply(lambda x: -1*(np.log(x)/10))\n",
    "\n",
    "df.head()"
   ]
  },
  {
   "cell_type": "markdown",
   "metadata": {},
   "source": [
    "## present_absent looks at the median_difference value in every cancer. \n",
    "A gene is only selected if among there are two cancers that have a median difference present in two cancers and absent in the third."
   ]
  },
  {
   "cell_type": "code",
   "execution_count": 8,
   "metadata": {},
   "outputs": [],
   "source": [
    "def present_absent(row):\n",
    "    absent_in_one = False\n",
    "    brca = row['Difference_In_Median_Brca']\n",
    "    endo = row['Difference_In_Median_Endo']\n",
    "    colon = row['Difference_In_Median']\n",
    "    \n",
    "    boolean_isNAN = np.isnan([brca, endo, colon])\n",
    "    how_many_are_NAN = sum(boolean_isNAN)\n",
    "    if how_many_are_NAN == 1:\n",
    "        absent_in_one =  True\n",
    "        both_cancers = list(compress([brca, endo, colon], ~boolean_isNAN))\n",
    "#         import pdb; pdb.set_trace()\n",
    "        if (both_cancers[0] > 0) and (both_cancers[1] > 0):\n",
    "            return True\n",
    "        elif (both_cancers[0] < 0) and (both_cancers[1] < 0):\n",
    "            return True\n",
    "        \n",
    "    else: return False\n",
    "    "
   ]
  },
  {
   "cell_type": "markdown",
   "metadata": {},
   "source": [
    "#### We will apply the present_absent function to the rows of a dataframe that only contains median difference values (shown below)"
   ]
  },
  {
   "cell_type": "code",
   "execution_count": 9,
   "metadata": {},
   "outputs": [
    {
     "data": {
      "text/html": [
       "<div>\n",
       "<style scoped>\n",
       "    .dataframe tbody tr th:only-of-type {\n",
       "        vertical-align: middle;\n",
       "    }\n",
       "\n",
       "    .dataframe tbody tr th {\n",
       "        vertical-align: top;\n",
       "    }\n",
       "\n",
       "    .dataframe thead th {\n",
       "        text-align: right;\n",
       "    }\n",
       "</style>\n",
       "<table border=\"1\" class=\"dataframe\">\n",
       "  <thead>\n",
       "    <tr style=\"text-align: right;\">\n",
       "      <th></th>\n",
       "      <th>Difference_In_Median_Brca</th>\n",
       "      <th>Difference_In_Median_Endo</th>\n",
       "      <th>Difference_In_Median</th>\n",
       "    </tr>\n",
       "  </thead>\n",
       "  <tbody>\n",
       "    <tr>\n",
       "      <th>A2ML1</th>\n",
       "      <td>NaN</td>\n",
       "      <td>-1.10585</td>\n",
       "      <td>NaN</td>\n",
       "    </tr>\n",
       "    <tr>\n",
       "      <th>AADAT</th>\n",
       "      <td>1.33200</td>\n",
       "      <td>NaN</td>\n",
       "      <td>NaN</td>\n",
       "    </tr>\n",
       "    <tr>\n",
       "      <th>AAGAB</th>\n",
       "      <td>NaN</td>\n",
       "      <td>NaN</td>\n",
       "      <td>-0.139</td>\n",
       "    </tr>\n",
       "    <tr>\n",
       "      <th>AASDHPPT</th>\n",
       "      <td>-0.51445</td>\n",
       "      <td>NaN</td>\n",
       "      <td>NaN</td>\n",
       "    </tr>\n",
       "    <tr>\n",
       "      <th>AATF</th>\n",
       "      <td>0.16905</td>\n",
       "      <td>NaN</td>\n",
       "      <td>NaN</td>\n",
       "    </tr>\n",
       "  </tbody>\n",
       "</table>\n",
       "</div>"
      ],
      "text/plain": [
       "          Difference_In_Median_Brca  Difference_In_Median_Endo  \\\n",
       "A2ML1                           NaN                   -1.10585   \n",
       "AADAT                       1.33200                        NaN   \n",
       "AAGAB                           NaN                        NaN   \n",
       "AASDHPPT                   -0.51445                        NaN   \n",
       "AATF                        0.16905                        NaN   \n",
       "\n",
       "          Difference_In_Median  \n",
       "A2ML1                      NaN  \n",
       "AADAT                      NaN  \n",
       "AAGAB                   -0.139  \n",
       "AASDHPPT                   NaN  \n",
       "AATF                       NaN  "
      ]
     },
     "execution_count": 9,
     "metadata": {},
     "output_type": "execute_result"
    }
   ],
   "source": [
    "medians = sig.drop(columns= ['P_Value_Brca','P_Value_Endo','P_Value'])\n",
    "medians.head()"
   ]
  },
  {
   "cell_type": "markdown",
   "metadata": {},
   "source": [
    "#### present_absent_genes is a list that contains the genes that have significant P values in only two cancers. There are 103 such genes."
   ]
  },
  {
   "cell_type": "code",
   "execution_count": 10,
   "metadata": {},
   "outputs": [
    {
     "data": {
      "text/plain": [
       "25"
      ]
     },
     "execution_count": 10,
     "metadata": {},
     "output_type": "execute_result"
    }
   ],
   "source": [
    "medians[\"present_absent\"] = medians.apply(present_absent, axis = 1)\n",
    "present_absent = medians.loc[medians['present_absent'] == True]\n",
    "present_absent_genes = list(present_absent.index)\n",
    "len(present_absent_genes)"
   ]
  },
  {
   "cell_type": "markdown",
   "metadata": {},
   "source": [
    "#### Use this list to select the appropriate rows from our dataframe."
   ]
  },
  {
   "cell_type": "code",
   "execution_count": 11,
   "metadata": {},
   "outputs": [
    {
     "name": "stderr",
     "output_type": "stream",
     "text": [
      "/Users/hannahboekweg/anaconda3/lib/python3.7/site-packages/ipykernel_launcher.py:3: SettingWithCopyWarning: \n",
      "A value is trying to be set on a copy of a slice from a DataFrame.\n",
      "Try using .loc[row_indexer,col_indexer] = value instead\n",
      "\n",
      "See the caveats in the documentation: https://pandas.pydata.org/pandas-docs/stable/user_guide/indexing.html#returning-a-view-versus-a-copy\n",
      "  This is separate from the ipykernel package so we can avoid doing imports until\n"
     ]
    },
    {
     "data": {
      "text/html": [
       "<div>\n",
       "<style scoped>\n",
       "    .dataframe tbody tr th:only-of-type {\n",
       "        vertical-align: middle;\n",
       "    }\n",
       "\n",
       "    .dataframe tbody tr th {\n",
       "        vertical-align: top;\n",
       "    }\n",
       "\n",
       "    .dataframe thead th {\n",
       "        text-align: right;\n",
       "    }\n",
       "</style>\n",
       "<table border=\"1\" class=\"dataframe\">\n",
       "  <thead>\n",
       "    <tr style=\"text-align: right;\">\n",
       "      <th></th>\n",
       "      <th>Difference_In_Median</th>\n",
       "      <th>P_Value</th>\n",
       "      <th>cancer_type</th>\n",
       "      <th>comparison</th>\n",
       "      <th>size</th>\n",
       "    </tr>\n",
       "  </thead>\n",
       "  <tbody>\n",
       "    <tr>\n",
       "      <th>ACTR8</th>\n",
       "      <td>NaN</td>\n",
       "      <td>NaN</td>\n",
       "      <td>colon</td>\n",
       "      <td>ACTR8</td>\n",
       "      <td>NaN</td>\n",
       "    </tr>\n",
       "    <tr>\n",
       "      <th>AIFM1</th>\n",
       "      <td>0.2925</td>\n",
       "      <td>0.045817</td>\n",
       "      <td>colon</td>\n",
       "      <td>AIFM1</td>\n",
       "      <td>0.308311</td>\n",
       "    </tr>\n",
       "    <tr>\n",
       "      <th>C12orf57</th>\n",
       "      <td>0.0992</td>\n",
       "      <td>0.012717</td>\n",
       "      <td>colon</td>\n",
       "      <td>C12orf57</td>\n",
       "      <td>0.436479</td>\n",
       "    </tr>\n",
       "    <tr>\n",
       "      <th>CBLB</th>\n",
       "      <td>0.3236</td>\n",
       "      <td>0.020245</td>\n",
       "      <td>colon</td>\n",
       "      <td>CBLB</td>\n",
       "      <td>0.389982</td>\n",
       "    </tr>\n",
       "    <tr>\n",
       "      <th>COQ7</th>\n",
       "      <td>0.2253</td>\n",
       "      <td>0.041001</td>\n",
       "      <td>colon</td>\n",
       "      <td>COQ7</td>\n",
       "      <td>0.319416</td>\n",
       "    </tr>\n",
       "  </tbody>\n",
       "</table>\n",
       "</div>"
      ],
      "text/plain": [
       "          Difference_In_Median   P_Value cancer_type comparison      size\n",
       "ACTR8                      NaN       NaN       colon      ACTR8       NaN\n",
       "AIFM1                   0.2925  0.045817       colon      AIFM1  0.308311\n",
       "C12orf57                0.0992  0.012717       colon   C12orf57  0.436479\n",
       "CBLB                    0.3236  0.020245       colon       CBLB  0.389982\n",
       "COQ7                    0.2253  0.041001       colon       COQ7  0.319416"
      ]
     },
     "execution_count": 11,
     "metadata": {},
     "output_type": "execute_result"
    }
   ],
   "source": [
    "get = df['comparison'].isin(present_absent_genes)\n",
    "corr_df = df[get]\n",
    "corr_df['size'] = corr_df['P_Value'].apply(lambda x: -1*(np.log(x)/10))\n",
    "corr_df.head()"
   ]
  },
  {
   "cell_type": "code",
   "execution_count": null,
   "metadata": {},
   "outputs": [],
   "source": []
  },
  {
   "cell_type": "code",
   "execution_count": 12,
   "metadata": {},
   "outputs": [],
   "source": [
    "# plot_df2.to_csv('correlations.csv')"
   ]
  },
  {
   "cell_type": "markdown",
   "metadata": {},
   "source": [
    "# plot_utils.plotCircleHeatMap(corr_df, circle_var = 'size', color_var='Difference_In_Median', \n",
    "                             x_axis= 'cancer_type', y_axis = 'comparison', \n",
    "                             graph_height=1000)"
   ]
  },
  {
   "cell_type": "code",
   "execution_count": null,
   "metadata": {},
   "outputs": [],
   "source": []
  }
 ],
 "metadata": {
  "kernelspec": {
   "display_name": "Python 3",
   "language": "python",
   "name": "python3"
  },
  "language_info": {
   "codemirror_mode": {
    "name": "ipython",
    "version": 3
   },
   "file_extension": ".py",
   "mimetype": "text/x-python",
   "name": "python",
   "nbconvert_exporter": "python",
   "pygments_lexer": "ipython3",
   "version": "3.7.3"
  }
 },
 "nbformat": 4,
 "nbformat_minor": 2
}
