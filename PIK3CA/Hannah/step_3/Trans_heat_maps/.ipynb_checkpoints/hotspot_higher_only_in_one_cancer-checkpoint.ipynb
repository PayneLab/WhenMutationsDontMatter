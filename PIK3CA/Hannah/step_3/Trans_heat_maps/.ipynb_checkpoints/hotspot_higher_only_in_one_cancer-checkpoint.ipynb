{
 "cells": [
  {
   "cell_type": "code",
   "execution_count": null,
   "metadata": {},
   "outputs": [],
   "source": [
    "import pandas as pd\n",
    "import plot_utils \n",
    "import numpy as np\n",
    "import math\n",
    "from itertools import compress"
   ]
  },
  {
   "cell_type": "markdown",
   "metadata": {},
   "source": [
    "## Get the trans table"
   ]
  },
  {
   "cell_type": "code",
   "execution_count": null,
   "metadata": {},
   "outputs": [],
   "source": [
    "trans = pd.read_csv('~/WhenMutationsDontMatter/PIK3CA/csv_files/proteomics.csv', index_col=0)\n",
    "trans.head()"
   ]
  },
  {
   "cell_type": "code",
   "execution_count": null,
   "metadata": {},
   "outputs": [],
   "source": [
    "type(trans.iloc[2][1])"
   ]
  },
  {
   "cell_type": "markdown",
   "metadata": {},
   "source": [
    "## If the p value isn't significant, replace both pval and median difference with NAN"
   ]
  },
  {
   "cell_type": "code",
   "execution_count": null,
   "metadata": {},
   "outputs": [],
   "source": [
    "def significant(row):\n",
    "    if row['P_Value_Brca'] > .05:\n",
    "        row['P_Value_Brca'] = np.nan\n",
    "        row['Difference_In_Median_Brca'] = np.nan\n",
    "\n",
    "    if row['P_Value_Endo'] > .05:\n",
    "        row['P_Value_Endo'] = np.nan\n",
    "        row['Difference_In_Median_Endo'] = np.nan\n",
    "        \n",
    "\n",
    "    if row['P_Value'] > .05:\n",
    "        row['P_Value'] = np.nan\n",
    "        row['Difference_In_Median'] = np.nan\n",
    "        \n",
    "    if math.isnan(row['P_Value']):\n",
    "        row['P_Value'] = np.nan\n",
    "        row['Difference_In_Median'] = np.nan\n",
    "        \n",
    "    return row\n",
    "    \n",
    "        "
   ]
  },
  {
   "cell_type": "code",
   "execution_count": null,
   "metadata": {},
   "outputs": [],
   "source": [
    "sig = trans.apply(significant, axis=1)\n",
    "sig.head()"
   ]
  },
  {
   "cell_type": "markdown",
   "metadata": {},
   "source": [
    "## Reformat the dataframe by combining like columns"
   ]
  },
  {
   "cell_type": "code",
   "execution_count": null,
   "metadata": {},
   "outputs": [],
   "source": [
    "brca = sig.drop(columns=['Difference_In_Median_Endo', 'P_Value_Endo','Difference_In_Median','P_Value'])\n",
    "brca['cancer_type'] = \"brca\"\n",
    "brca.columns = ['Difference_In_Median', 'P_Value','cancer_type']\n",
    "brca.head()\n",
    "\n",
    "endo = sig.drop(columns=['Difference_In_Median_Brca', 'P_Value_Brca','Difference_In_Median','P_Value'])\n",
    "endo['cancer_type'] = \"endo\"\n",
    "endo.columns = ['Difference_In_Median', 'P_Value','cancer_type']\n",
    "endo.head()\n",
    "\n",
    "colon = sig.drop(columns=['Difference_In_Median_Brca', 'P_Value_Brca','Difference_In_Median_Endo','P_Value_Endo'])\n",
    "colon['cancer_type'] = \"colon\"\n",
    "colon.head()\n",
    "\n",
    "c_and_e = colon.append(endo)\n",
    "df = c_and_e.append(brca)\n",
    "\n",
    "df.head()"
   ]
  },
  {
   "cell_type": "markdown",
   "metadata": {},
   "source": [
    "## Add comparison and size columns for the plot heatmap function\n",
    "The comparison column is simply the index (which is the list of genes).\n",
    "The size column is what the heatmap function will use to plot the significance of the p value."
   ]
  },
  {
   "cell_type": "code",
   "execution_count": null,
   "metadata": {},
   "outputs": [],
   "source": [
    "df[\"comparison\"] = df.index\n",
    "df\n",
    "\n",
    "# log p-vals for right scale in plot (bigger circle, smaller pval)\n",
    "df['size'] = df['P_Value'].apply(lambda x: -1*(np.log(x)/10))\n",
    "\n",
    "df.head()"
   ]
  },
  {
   "cell_type": "markdown",
   "metadata": {},
   "source": [
    "## present_absent looks at the median_difference value in every cancer. \n",
    "A gene is only selected if among there are two cancers that have a median difference present in two cancers and absent in the third."
   ]
  },
  {
   "cell_type": "code",
   "execution_count": null,
   "metadata": {},
   "outputs": [],
   "source": [
    "def present_absent(row):\n",
    "    absent_in_one = False\n",
    "    brca = row['Difference_In_Median_Brca']\n",
    "    endo = row['Difference_In_Median_Endo']\n",
    "    colon = row['Difference_In_Median']\n",
    "    \n",
    "    boolean_isNAN = np.isnan([brca, endo, colon])\n",
    "    how_many_are_NAN = sum(boolean_isNAN)\n",
    "    if how_many_are_NAN == 2:\n",
    "        only_in_one =  True\n",
    "        the_cancer = list(compress([brca, endo, colon], ~boolean_isNAN))\n",
    "#         import pdb; pdb.set_trace()\n",
    "        if (the_cancer[0] > 2):\n",
    "            return True\n",
    "#         elif (the_cancer[0] < 5):\n",
    "#             return True\n",
    "        \n",
    "    else: return False\n",
    "    "
   ]
  },
  {
   "cell_type": "markdown",
   "metadata": {},
   "source": [
    "#### We will apply the present_absent function to the rows of a dataframe that only contains median difference values (shown below)"
   ]
  },
  {
   "cell_type": "code",
   "execution_count": null,
   "metadata": {},
   "outputs": [],
   "source": [
    "medians = sig.drop(columns= ['P_Value_Brca','P_Value_Endo','P_Value'])\n",
    "medians.head()"
   ]
  },
  {
   "cell_type": "markdown",
   "metadata": {},
   "source": [
    "#### present_absent_genes is a list that contains the genes that have significant P values in only two cancers. There are 103 such genes."
   ]
  },
  {
   "cell_type": "code",
   "execution_count": null,
   "metadata": {},
   "outputs": [],
   "source": [
    "medians[\"present_absent\"] = medians.apply(present_absent, axis = 1)\n",
    "present_absent = medians.loc[medians['present_absent'] == True]\n",
    "present_absent_genes = list(present_absent.index)\n",
    "len(present_absent_genes)"
   ]
  },
  {
   "cell_type": "markdown",
   "metadata": {},
   "source": [
    "#### Use this list to select the appropriate rows from our dataframe."
   ]
  },
  {
   "cell_type": "code",
   "execution_count": null,
   "metadata": {},
   "outputs": [],
   "source": [
    "get = df['comparison'].isin(present_absent_genes)\n",
    "corr_df = df[get]\n",
    "corr_df['size'] = corr_df['P_Value'].apply(lambda x: -1*(np.log(x)/10))\n",
    "corr_df.head()"
   ]
  },
  {
   "cell_type": "code",
   "execution_count": null,
   "metadata": {},
   "outputs": [],
   "source": []
  },
  {
   "cell_type": "code",
   "execution_count": null,
   "metadata": {},
   "outputs": [],
   "source": [
    "# plot_df2.to_csv('correlations.csv')"
   ]
  },
  {
   "cell_type": "code",
   "execution_count": null,
   "metadata": {},
   "outputs": [],
   "source": [
    "plot_utils.plotCircleHeatMap(corr_df, circle_var = 'size', color_var='Difference_In_Median', \n",
    "                             x_axis= 'cancer_type', y_axis = 'comparison', \n",
    "                             graph_height=1000)"
   ]
  },
  {
   "cell_type": "code",
   "execution_count": null,
   "metadata": {},
   "outputs": [],
   "source": []
  }
 ],
 "metadata": {
  "kernelspec": {
   "display_name": "Python 3",
   "language": "python",
   "name": "python3"
  },
  "language_info": {
   "codemirror_mode": {
    "name": "ipython",
    "version": 3
   },
   "file_extension": ".py",
   "mimetype": "text/x-python",
   "name": "python",
   "nbconvert_exporter": "python",
   "pygments_lexer": "ipython3",
   "version": "3.7.3"
  }
 },
 "nbformat": 4,
 "nbformat_minor": 2
}
