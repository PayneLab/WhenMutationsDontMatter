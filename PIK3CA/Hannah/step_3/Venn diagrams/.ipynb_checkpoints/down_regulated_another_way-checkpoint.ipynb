{
 "cells": [
  {
   "cell_type": "code",
   "execution_count": 1,
   "metadata": {},
   "outputs": [],
   "source": [
    "import pandas as pd\n",
    "import numpy as np"
   ]
  },
  {
   "cell_type": "code",
   "execution_count": 2,
   "metadata": {},
   "outputs": [
    {
     "data": {
      "text/html": [
       "<div>\n",
       "<style scoped>\n",
       "    .dataframe tbody tr th:only-of-type {\n",
       "        vertical-align: middle;\n",
       "    }\n",
       "\n",
       "    .dataframe tbody tr th {\n",
       "        vertical-align: top;\n",
       "    }\n",
       "\n",
       "    .dataframe thead th {\n",
       "        text-align: right;\n",
       "    }\n",
       "</style>\n",
       "<table border=\"1\" class=\"dataframe\">\n",
       "  <thead>\n",
       "    <tr style=\"text-align: right;\">\n",
       "      <th></th>\n",
       "      <th>Difference_In_Median_Brca</th>\n",
       "      <th>P_Value_Brca</th>\n",
       "      <th>Difference_In_Median_Endo</th>\n",
       "      <th>P_Value_Endo</th>\n",
       "      <th>Difference_In_Median</th>\n",
       "      <th>P_Value</th>\n",
       "    </tr>\n",
       "  </thead>\n",
       "  <tbody>\n",
       "    <tr>\n",
       "      <th>A2ML1</th>\n",
       "      <td>NaN</td>\n",
       "      <td>NaN</td>\n",
       "      <td>1.10585</td>\n",
       "      <td>0.037044</td>\n",
       "      <td>NaN</td>\n",
       "      <td>NaN</td>\n",
       "    </tr>\n",
       "    <tr>\n",
       "      <th>AADAT</th>\n",
       "      <td>-1.33200</td>\n",
       "      <td>0.027477</td>\n",
       "      <td>NaN</td>\n",
       "      <td>NaN</td>\n",
       "      <td>NaN</td>\n",
       "      <td>NaN</td>\n",
       "    </tr>\n",
       "    <tr>\n",
       "      <th>AAGAB</th>\n",
       "      <td>NaN</td>\n",
       "      <td>NaN</td>\n",
       "      <td>NaN</td>\n",
       "      <td>NaN</td>\n",
       "      <td>0.139</td>\n",
       "      <td>0.039189</td>\n",
       "    </tr>\n",
       "    <tr>\n",
       "      <th>AASDHPPT</th>\n",
       "      <td>0.51445</td>\n",
       "      <td>0.003620</td>\n",
       "      <td>NaN</td>\n",
       "      <td>NaN</td>\n",
       "      <td>NaN</td>\n",
       "      <td>NaN</td>\n",
       "    </tr>\n",
       "    <tr>\n",
       "      <th>AATF</th>\n",
       "      <td>-0.16905</td>\n",
       "      <td>0.042271</td>\n",
       "      <td>NaN</td>\n",
       "      <td>NaN</td>\n",
       "      <td>NaN</td>\n",
       "      <td>NaN</td>\n",
       "    </tr>\n",
       "  </tbody>\n",
       "</table>\n",
       "</div>"
      ],
      "text/plain": [
       "          Difference_In_Median_Brca  P_Value_Brca  Difference_In_Median_Endo  \\\n",
       "A2ML1                           NaN           NaN                    1.10585   \n",
       "AADAT                      -1.33200      0.027477                        NaN   \n",
       "AAGAB                           NaN           NaN                        NaN   \n",
       "AASDHPPT                    0.51445      0.003620                        NaN   \n",
       "AATF                       -0.16905      0.042271                        NaN   \n",
       "\n",
       "          P_Value_Endo  Difference_In_Median   P_Value  \n",
       "A2ML1         0.037044                   NaN       NaN  \n",
       "AADAT              NaN                   NaN       NaN  \n",
       "AAGAB              NaN                 0.139  0.039189  \n",
       "AASDHPPT           NaN                   NaN       NaN  \n",
       "AATF               NaN                   NaN       NaN  "
      ]
     },
     "execution_count": 2,
     "metadata": {},
     "output_type": "execute_result"
    }
   ],
   "source": [
    "sig = pd.read_csv('~/WhenMutationsDontMatter/PIK3CA/csv_files/proteomics_sig.csv', index_col=0)\n",
    "sig.head()"
   ]
  },
  {
   "cell_type": "code",
   "execution_count": 3,
   "metadata": {},
   "outputs": [],
   "source": [
    "def any_neg(row):\n",
    "    if (row[0] < 0) or (row[1] < 0) or (row[2] < 0):\n",
    "        return True\n",
    "    else: \n",
    "        return False"
   ]
  },
  {
   "cell_type": "code",
   "execution_count": 4,
   "metadata": {},
   "outputs": [],
   "source": [
    "def all_neg(row):\n",
    "    if (row[0] < 0) and (row[1] < 0) and (row[2] < 0):\n",
    "        return True\n",
    "    else: \n",
    "        return False"
   ]
  },
  {
   "cell_type": "code",
   "execution_count": 5,
   "metadata": {},
   "outputs": [],
   "source": [
    "def colon_endo(row):\n",
    "    if (row[\"Difference_In_Median_Endo\"] < 0) and (row[\"Difference_In_Median\"] < 0):\n",
    "        if (row[\"Difference_In_Median_Brca\"] >= 0) or (np.isnan(row[\"Difference_In_Median_Brca\"])):\n",
    "            return True\n",
    "        else: return False\n",
    "    else: return False\n",
    "   "
   ]
  },
  {
   "cell_type": "code",
   "execution_count": 6,
   "metadata": {},
   "outputs": [],
   "source": [
    "def colon_brca(row):\n",
    "    if (row[\"Difference_In_Median_Brca\"] < 0) and (row[\"Difference_In_Median\"] < 0):\n",
    "        if (row[\"Difference_In_Median_Endo\"] >= 0) or (np.isnan(row[\"Difference_In_Median_Endo\"])):\n",
    "            return True\n",
    "        else: return False\n",
    "    else: return False\n",
    "        "
   ]
  },
  {
   "cell_type": "code",
   "execution_count": 7,
   "metadata": {},
   "outputs": [],
   "source": [
    "def brca_endo(row):\n",
    "    if (row[\"Difference_In_Median_Brca\"] < 0) and (row[\"Difference_In_Median_Endo\"] < 0):\n",
    "        if (row[\"Difference_In_Median\"] >= 0) or (np.isnan(row[\"Difference_In_Median\"])):\n",
    "            return True\n",
    "        else: return False\n",
    "    else: \n",
    "        return False"
   ]
  },
  {
   "cell_type": "code",
   "execution_count": 8,
   "metadata": {},
   "outputs": [],
   "source": [
    "def colon(row):\n",
    "    if (row[\"Difference_In_Median\"] < 0):\n",
    "        if (row[\"Difference_In_Median_Brca\"] >= 0) or (np.isnan(row[\"Difference_In_Median_Brca\"])):\n",
    "            if (row[\"Difference_In_Median_Endo\"] >= 0) or (np.isnan(row[\"Difference_In_Median_Endo\"])):\n",
    "                return True\n",
    "            else: return False\n",
    "        else: return False\n",
    "    else: \n",
    "        return False"
   ]
  },
  {
   "cell_type": "code",
   "execution_count": 9,
   "metadata": {},
   "outputs": [],
   "source": [
    "def endo(row):\n",
    "    if (row[\"Difference_In_Median_Endo\"] < 0):\n",
    "        if (row[\"Difference_In_Median_Brca\"] >= 0) or (np.isnan(row[\"Difference_In_Median_Brca\"])):\n",
    "            if (row[\"Difference_In_Median\"] >= 0) or (np.isnan(row[\"Difference_In_Median\"])):\n",
    "                return True\n",
    "            else: return False\n",
    "        else: return False\n",
    "    else: \n",
    "        return False"
   ]
  },
  {
   "cell_type": "code",
   "execution_count": 10,
   "metadata": {},
   "outputs": [],
   "source": [
    "def brca(row):\n",
    "    if (row[\"Difference_In_Median_Brca\"] < 0):\n",
    "        if (row['Difference_In_Median_Endo'] >= 0) or (np.isnan(row[\"Difference_In_Median_Endo\"])):\n",
    "            if (row[\"Difference_In_Median\"] >= 0) or (np.isnan(row[\"Difference_In_Median\"])):\n",
    "                return True\n",
    "            else: return False\n",
    "        else: return False\n",
    "    else: \n",
    "        return False"
   ]
  },
  {
   "cell_type": "code",
   "execution_count": 11,
   "metadata": {},
   "outputs": [
    {
     "data": {
      "text/html": [
       "<div>\n",
       "<style scoped>\n",
       "    .dataframe tbody tr th:only-of-type {\n",
       "        vertical-align: middle;\n",
       "    }\n",
       "\n",
       "    .dataframe tbody tr th {\n",
       "        vertical-align: top;\n",
       "    }\n",
       "\n",
       "    .dataframe thead th {\n",
       "        text-align: right;\n",
       "    }\n",
       "</style>\n",
       "<table border=\"1\" class=\"dataframe\">\n",
       "  <thead>\n",
       "    <tr style=\"text-align: right;\">\n",
       "      <th></th>\n",
       "      <th>Difference_In_Median_Brca</th>\n",
       "      <th>Difference_In_Median_Endo</th>\n",
       "      <th>Difference_In_Median</th>\n",
       "    </tr>\n",
       "  </thead>\n",
       "  <tbody>\n",
       "    <tr>\n",
       "      <th>A2ML1</th>\n",
       "      <td>NaN</td>\n",
       "      <td>1.10585</td>\n",
       "      <td>NaN</td>\n",
       "    </tr>\n",
       "    <tr>\n",
       "      <th>AADAT</th>\n",
       "      <td>-1.33200</td>\n",
       "      <td>NaN</td>\n",
       "      <td>NaN</td>\n",
       "    </tr>\n",
       "    <tr>\n",
       "      <th>AAGAB</th>\n",
       "      <td>NaN</td>\n",
       "      <td>NaN</td>\n",
       "      <td>0.139</td>\n",
       "    </tr>\n",
       "    <tr>\n",
       "      <th>AASDHPPT</th>\n",
       "      <td>0.51445</td>\n",
       "      <td>NaN</td>\n",
       "      <td>NaN</td>\n",
       "    </tr>\n",
       "    <tr>\n",
       "      <th>AATF</th>\n",
       "      <td>-0.16905</td>\n",
       "      <td>NaN</td>\n",
       "      <td>NaN</td>\n",
       "    </tr>\n",
       "  </tbody>\n",
       "</table>\n",
       "</div>"
      ],
      "text/plain": [
       "          Difference_In_Median_Brca  Difference_In_Median_Endo  \\\n",
       "A2ML1                           NaN                    1.10585   \n",
       "AADAT                      -1.33200                        NaN   \n",
       "AAGAB                           NaN                        NaN   \n",
       "AASDHPPT                    0.51445                        NaN   \n",
       "AATF                       -0.16905                        NaN   \n",
       "\n",
       "          Difference_In_Median  \n",
       "A2ML1                      NaN  \n",
       "AADAT                      NaN  \n",
       "AAGAB                    0.139  \n",
       "AASDHPPT                   NaN  \n",
       "AATF                       NaN  "
      ]
     },
     "execution_count": 11,
     "metadata": {},
     "output_type": "execute_result"
    }
   ],
   "source": [
    "medians = sig.drop(columns= ['P_Value_Brca','P_Value_Endo','P_Value'])\n",
    "medians.head()"
   ]
  },
  {
   "cell_type": "code",
   "execution_count": 12,
   "metadata": {},
   "outputs": [
    {
     "data": {
      "text/plain": [
       "1338"
      ]
     },
     "execution_count": 12,
     "metadata": {},
     "output_type": "execute_result"
    }
   ],
   "source": [
    "len(medians.index)"
   ]
  },
  {
   "cell_type": "code",
   "execution_count": 13,
   "metadata": {},
   "outputs": [
    {
     "data": {
      "text/plain": [
       "0"
      ]
     },
     "execution_count": 13,
     "metadata": {},
     "output_type": "execute_result"
    }
   ],
   "source": [
    "medians[\"Pos_Neg\"] = medians.apply(all_neg, axis = 1)\n",
    "pos_and_neg = medians.loc[medians['Pos_Neg'] == True]\n",
    "pos_and_neg_genes = list(pos_and_neg.index)\n",
    "len(pos_and_neg_genes)"
   ]
  },
  {
   "cell_type": "code",
   "execution_count": 14,
   "metadata": {},
   "outputs": [
    {
     "data": {
      "text/plain": [
       "889"
      ]
     },
     "execution_count": 14,
     "metadata": {},
     "output_type": "execute_result"
    }
   ],
   "source": [
    "medians[\"Pos_Neg\"] = medians.apply(any_neg, axis = 1)\n",
    "pos_and_neg = medians.loc[medians['Pos_Neg'] == True]\n",
    "pos_and_neg_genes = list(pos_and_neg.index)\n",
    "len(pos_and_neg_genes)"
   ]
  },
  {
   "cell_type": "code",
   "execution_count": 15,
   "metadata": {},
   "outputs": [
    {
     "data": {
      "text/plain": [
       "1"
      ]
     },
     "execution_count": 15,
     "metadata": {},
     "output_type": "execute_result"
    }
   ],
   "source": [
    "medians[\"Pos_Neg\"] = medians.apply(colon_endo, axis = 1)\n",
    "pos_and_neg = medians.loc[medians['Pos_Neg'] == True]\n",
    "pos_and_neg_genes = list(pos_and_neg.index)\n",
    "len(pos_and_neg_genes)"
   ]
  },
  {
   "cell_type": "code",
   "execution_count": 16,
   "metadata": {},
   "outputs": [
    {
     "data": {
      "text/plain": [
       "12"
      ]
     },
     "execution_count": 16,
     "metadata": {},
     "output_type": "execute_result"
    }
   ],
   "source": [
    "medians[\"Pos_Neg\"] = medians.apply(colon_brca, axis = 1)\n",
    "pos_and_neg = medians.loc[medians['Pos_Neg'] == True]\n",
    "pos_and_neg_genes = list(pos_and_neg.index)\n",
    "len(pos_and_neg_genes)"
   ]
  },
  {
   "cell_type": "code",
   "execution_count": 17,
   "metadata": {},
   "outputs": [
    {
     "data": {
      "text/plain": [
       "9"
      ]
     },
     "execution_count": 17,
     "metadata": {},
     "output_type": "execute_result"
    }
   ],
   "source": [
    "medians[\"Pos_Neg\"] = medians.apply(brca_endo, axis = 1)\n",
    "pos_and_neg = medians.loc[medians['Pos_Neg'] == True]\n",
    "pos_and_neg_genes = list(pos_and_neg.index)\n",
    "len(pos_and_neg_genes)"
   ]
  },
  {
   "cell_type": "code",
   "execution_count": 18,
   "metadata": {},
   "outputs": [
    {
     "data": {
      "text/plain": [
       "82"
      ]
     },
     "execution_count": 18,
     "metadata": {},
     "output_type": "execute_result"
    }
   ],
   "source": [
    "medians[\"Pos_Neg\"] = medians.apply(colon, axis = 1)\n",
    "pos_and_neg = medians.loc[medians['Pos_Neg'] == True]\n",
    "pos_and_neg_genes = list(pos_and_neg.index)\n",
    "len(pos_and_neg_genes)"
   ]
  },
  {
   "cell_type": "code",
   "execution_count": 19,
   "metadata": {},
   "outputs": [
    {
     "data": {
      "text/plain": [
       "217"
      ]
     },
     "execution_count": 19,
     "metadata": {},
     "output_type": "execute_result"
    }
   ],
   "source": [
    "medians[\"Pos_Neg\"] = medians.apply(endo, axis = 1)\n",
    "pos_and_neg = medians.loc[medians['Pos_Neg'] == True]\n",
    "pos_and_neg_genes = list(pos_and_neg.index)\n",
    "len(pos_and_neg_genes)"
   ]
  },
  {
   "cell_type": "code",
   "execution_count": 20,
   "metadata": {},
   "outputs": [
    {
     "data": {
      "text/plain": [
       "568"
      ]
     },
     "execution_count": 20,
     "metadata": {},
     "output_type": "execute_result"
    }
   ],
   "source": [
    "medians[\"Pos_Neg\"] = medians.apply(brca, axis = 1)\n",
    "pos_and_neg = medians.loc[medians['Pos_Neg'] == True]\n",
    "pos_and_neg_genes = list(pos_and_neg.index)\n",
    "len(pos_and_neg_genes)"
   ]
  }
 ],
 "metadata": {
  "kernelspec": {
   "display_name": "Python 3",
   "language": "python",
   "name": "python3"
  },
  "language_info": {
   "codemirror_mode": {
    "name": "ipython",
    "version": 3
   },
   "file_extension": ".py",
   "mimetype": "text/x-python",
   "name": "python",
   "nbconvert_exporter": "python",
   "pygments_lexer": "ipython3",
   "version": "3.7.3"
  }
 },
 "nbformat": 4,
 "nbformat_minor": 2
}
