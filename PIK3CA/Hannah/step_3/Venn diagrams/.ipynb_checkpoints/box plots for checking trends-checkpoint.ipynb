{
 "cells": [
  {
   "cell_type": "code",
   "execution_count": null,
   "metadata": {},
   "outputs": [],
   "source": [
    "sig = pd.read_csv('~/WhenMutationsDontMatter/PIK3CA/csv_files/proteomics_sig.csv', index_col=0)\n",
    "sig.head()"
   ]
  },
  {
   "cell_type": "code",
   "execution_count": null,
   "metadata": {},
   "outputs": [],
   "source": [
    "full_brca_df = sig[['Difference_In_Median_Brca', 'P_Value_Brca']]\n",
    "full_brca_df = full_brca_df.dropna(how='all')\n",
    "full_brca_df"
   ]
  },
  {
   "cell_type": "code",
   "execution_count": null,
   "metadata": {},
   "outputs": [],
   "source": [
    "full_endo_df = sig[['Difference_In_Median_Endo', 'P_Value_Endo']]\n",
    "full_endo_df = full_endo_df.dropna(how='all')\n",
    "full_endo_df"
   ]
  },
  {
   "cell_type": "code",
   "execution_count": null,
   "metadata": {},
   "outputs": [],
   "source": [
    "full_colon_df = sig[['Difference_In_Median', 'P_Value']]\n",
    "full_colon_df = full_colon_df.dropna(how='all')\n",
    "full_colon_df"
   ]
  }
 ],
 "metadata": {
  "kernelspec": {
   "display_name": "Python 3",
   "language": "python",
   "name": "python3"
  }
 },
 "nbformat": 4,
 "nbformat_minor": 2
}
