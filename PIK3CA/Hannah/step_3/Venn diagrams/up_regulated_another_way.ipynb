{
 "cells": [
  {
   "cell_type": "code",
   "execution_count": 1,
   "metadata": {},
   "outputs": [
    {
     "name": "stderr",
     "output_type": "stream",
     "text": [
      "/Users/hannahboekweg/anaconda3/lib/python3.7/site-packages/statsmodels/tools/_testing.py:19: FutureWarning: pandas.util.testing is deprecated. Use the functions in the public API at pandas.testing instead.\n",
      "  import pandas.util.testing as tm\n"
     ]
    }
   ],
   "source": [
    "import pandas as pd\n",
    "import numpy as np\n",
    "import plot_utils \n",
    "\n"
   ]
  },
  {
   "cell_type": "code",
   "execution_count": 2,
   "metadata": {},
   "outputs": [
    {
     "data": {
      "text/html": [
       "<div>\n",
       "<style scoped>\n",
       "    .dataframe tbody tr th:only-of-type {\n",
       "        vertical-align: middle;\n",
       "    }\n",
       "\n",
       "    .dataframe tbody tr th {\n",
       "        vertical-align: top;\n",
       "    }\n",
       "\n",
       "    .dataframe thead th {\n",
       "        text-align: right;\n",
       "    }\n",
       "</style>\n",
       "<table border=\"1\" class=\"dataframe\">\n",
       "  <thead>\n",
       "    <tr style=\"text-align: right;\">\n",
       "      <th></th>\n",
       "      <th>Difference_In_Median_Brca</th>\n",
       "      <th>P_Value_Brca</th>\n",
       "      <th>Difference_In_Median_Endo</th>\n",
       "      <th>P_Value_Endo</th>\n",
       "      <th>Difference_In_Median</th>\n",
       "      <th>P_Value</th>\n",
       "    </tr>\n",
       "  </thead>\n",
       "  <tbody>\n",
       "    <tr>\n",
       "      <th>A2ML1</th>\n",
       "      <td>NaN</td>\n",
       "      <td>NaN</td>\n",
       "      <td>1.10585</td>\n",
       "      <td>0.037044</td>\n",
       "      <td>NaN</td>\n",
       "      <td>NaN</td>\n",
       "    </tr>\n",
       "    <tr>\n",
       "      <th>AADAT</th>\n",
       "      <td>-1.33200</td>\n",
       "      <td>0.027477</td>\n",
       "      <td>NaN</td>\n",
       "      <td>NaN</td>\n",
       "      <td>NaN</td>\n",
       "      <td>NaN</td>\n",
       "    </tr>\n",
       "    <tr>\n",
       "      <th>AAGAB</th>\n",
       "      <td>NaN</td>\n",
       "      <td>NaN</td>\n",
       "      <td>NaN</td>\n",
       "      <td>NaN</td>\n",
       "      <td>0.139</td>\n",
       "      <td>0.039189</td>\n",
       "    </tr>\n",
       "    <tr>\n",
       "      <th>AASDHPPT</th>\n",
       "      <td>0.51445</td>\n",
       "      <td>0.003620</td>\n",
       "      <td>NaN</td>\n",
       "      <td>NaN</td>\n",
       "      <td>NaN</td>\n",
       "      <td>NaN</td>\n",
       "    </tr>\n",
       "    <tr>\n",
       "      <th>AATF</th>\n",
       "      <td>-0.16905</td>\n",
       "      <td>0.042271</td>\n",
       "      <td>NaN</td>\n",
       "      <td>NaN</td>\n",
       "      <td>NaN</td>\n",
       "      <td>NaN</td>\n",
       "    </tr>\n",
       "  </tbody>\n",
       "</table>\n",
       "</div>"
      ],
      "text/plain": [
       "          Difference_In_Median_Brca  P_Value_Brca  Difference_In_Median_Endo  \\\n",
       "A2ML1                           NaN           NaN                    1.10585   \n",
       "AADAT                      -1.33200      0.027477                        NaN   \n",
       "AAGAB                           NaN           NaN                        NaN   \n",
       "AASDHPPT                    0.51445      0.003620                        NaN   \n",
       "AATF                       -0.16905      0.042271                        NaN   \n",
       "\n",
       "          P_Value_Endo  Difference_In_Median   P_Value  \n",
       "A2ML1         0.037044                   NaN       NaN  \n",
       "AADAT              NaN                   NaN       NaN  \n",
       "AAGAB              NaN                 0.139  0.039189  \n",
       "AASDHPPT           NaN                   NaN       NaN  \n",
       "AATF               NaN                   NaN       NaN  "
      ]
     },
     "execution_count": 2,
     "metadata": {},
     "output_type": "execute_result"
    }
   ],
   "source": [
    "sig = pd.read_csv('~/WhenMutationsDontMatter/PIK3CA/csv_files/proteomics_sig.csv', index_col=0)\n",
    "sig.head()"
   ]
  },
  {
   "cell_type": "code",
   "execution_count": 3,
   "metadata": {},
   "outputs": [],
   "source": [
    "def any_pos(row):\n",
    "    if (row[0] > 0) or (row[1] > 0) or (row[2] > 0):\n",
    "        return True\n",
    "    else: \n",
    "        return False"
   ]
  },
  {
   "cell_type": "code",
   "execution_count": 4,
   "metadata": {},
   "outputs": [],
   "source": [
    "def all_pos(row):\n",
    "    if (row[0] > 0) and (row[1] > 0) and (row[2] > 0):\n",
    "        return True\n",
    "    else: \n",
    "        return False"
   ]
  },
  {
   "cell_type": "code",
   "execution_count": 5,
   "metadata": {},
   "outputs": [],
   "source": [
    "def colon_endo(row):\n",
    "    if (row[\"Difference_In_Median_Endo\"] > 0) and (row[\"Difference_In_Median\"] > 0):\n",
    "        if (row[\"Difference_In_Median_Brca\"] <= 0) or (np.isnan(row[\"Difference_In_Median_Brca\"])):\n",
    "            return True\n",
    "        else: return False\n",
    "    else: return False\n",
    "   "
   ]
  },
  {
   "cell_type": "code",
   "execution_count": 6,
   "metadata": {},
   "outputs": [],
   "source": [
    "def colon_brca(row):\n",
    "    if (row[\"Difference_In_Median_Brca\"] > 0) and (row[\"Difference_In_Median\"] > 0):\n",
    "        if (row[\"Difference_In_Median_Endo\"] <= 0) or (np.isnan(row[\"Difference_In_Median_Endo\"])):\n",
    "            return True\n",
    "        else: return False\n",
    "    else: return False\n",
    "        "
   ]
  },
  {
   "cell_type": "code",
   "execution_count": 7,
   "metadata": {},
   "outputs": [],
   "source": [
    "def brca_endo(row):\n",
    "    if (row[\"Difference_In_Median_Brca\"] > 0) and (row[\"Difference_In_Median_Endo\"] > 0):\n",
    "        if (row[\"Difference_In_Median\"] <= 0) or (np.isnan(row[\"Difference_In_Median\"])):\n",
    "            return True\n",
    "        else: return False\n",
    "    else: \n",
    "        return False"
   ]
  },
  {
   "cell_type": "code",
   "execution_count": 8,
   "metadata": {},
   "outputs": [],
   "source": [
    "def colon(row):\n",
    "    if (row[\"Difference_In_Median\"] > 0):\n",
    "        if (row[\"Difference_In_Median_Brca\"] <= 0) or (np.isnan(row[\"Difference_In_Median_Brca\"])):\n",
    "            if (row[\"Difference_In_Median_Endo\"] <= 0) or (np.isnan(row[\"Difference_In_Median_Endo\"])):\n",
    "                return True\n",
    "            else: return False\n",
    "        else: return False\n",
    "    else: \n",
    "        return False"
   ]
  },
  {
   "cell_type": "code",
   "execution_count": 9,
   "metadata": {},
   "outputs": [],
   "source": [
    "def endo(row):\n",
    "    if (row[\"Difference_In_Median_Endo\"] > 0):\n",
    "        if (row[\"Difference_In_Median_Brca\"] <= 0) or (np.isnan(row[\"Difference_In_Median_Brca\"])):\n",
    "            if (row[\"Difference_In_Median\"] <= 0) or (np.isnan(row[\"Difference_In_Median\"])):\n",
    "                return True\n",
    "            else: return False\n",
    "        else: return False\n",
    "    else: \n",
    "        return False"
   ]
  },
  {
   "cell_type": "code",
   "execution_count": 10,
   "metadata": {},
   "outputs": [],
   "source": [
    "def brca(row):\n",
    "    if (row[\"Difference_In_Median_Brca\"] > 0):\n",
    "        if (row['Difference_In_Median_Endo'] <= 0) or (np.isnan(row[\"Difference_In_Median_Endo\"])):\n",
    "            if (row[\"Difference_In_Median\"] <= 0) or (np.isnan(row[\"Difference_In_Median\"])):\n",
    "                return True\n",
    "            else: return False\n",
    "        else: return False\n",
    "    else: \n",
    "        return False"
   ]
  },
  {
   "cell_type": "code",
   "execution_count": 11,
   "metadata": {},
   "outputs": [
    {
     "data": {
      "text/html": [
       "<div>\n",
       "<style scoped>\n",
       "    .dataframe tbody tr th:only-of-type {\n",
       "        vertical-align: middle;\n",
       "    }\n",
       "\n",
       "    .dataframe tbody tr th {\n",
       "        vertical-align: top;\n",
       "    }\n",
       "\n",
       "    .dataframe thead th {\n",
       "        text-align: right;\n",
       "    }\n",
       "</style>\n",
       "<table border=\"1\" class=\"dataframe\">\n",
       "  <thead>\n",
       "    <tr style=\"text-align: right;\">\n",
       "      <th></th>\n",
       "      <th>Difference_In_Median_Brca</th>\n",
       "      <th>Difference_In_Median_Endo</th>\n",
       "      <th>Difference_In_Median</th>\n",
       "    </tr>\n",
       "  </thead>\n",
       "  <tbody>\n",
       "    <tr>\n",
       "      <th>A2ML1</th>\n",
       "      <td>NaN</td>\n",
       "      <td>1.10585</td>\n",
       "      <td>NaN</td>\n",
       "    </tr>\n",
       "    <tr>\n",
       "      <th>AADAT</th>\n",
       "      <td>-1.33200</td>\n",
       "      <td>NaN</td>\n",
       "      <td>NaN</td>\n",
       "    </tr>\n",
       "    <tr>\n",
       "      <th>AAGAB</th>\n",
       "      <td>NaN</td>\n",
       "      <td>NaN</td>\n",
       "      <td>0.139</td>\n",
       "    </tr>\n",
       "    <tr>\n",
       "      <th>AASDHPPT</th>\n",
       "      <td>0.51445</td>\n",
       "      <td>NaN</td>\n",
       "      <td>NaN</td>\n",
       "    </tr>\n",
       "    <tr>\n",
       "      <th>AATF</th>\n",
       "      <td>-0.16905</td>\n",
       "      <td>NaN</td>\n",
       "      <td>NaN</td>\n",
       "    </tr>\n",
       "  </tbody>\n",
       "</table>\n",
       "</div>"
      ],
      "text/plain": [
       "          Difference_In_Median_Brca  Difference_In_Median_Endo  \\\n",
       "A2ML1                           NaN                    1.10585   \n",
       "AADAT                      -1.33200                        NaN   \n",
       "AAGAB                           NaN                        NaN   \n",
       "AASDHPPT                    0.51445                        NaN   \n",
       "AATF                       -0.16905                        NaN   \n",
       "\n",
       "          Difference_In_Median  \n",
       "A2ML1                      NaN  \n",
       "AADAT                      NaN  \n",
       "AAGAB                    0.139  \n",
       "AASDHPPT                   NaN  \n",
       "AATF                       NaN  "
      ]
     },
     "execution_count": 11,
     "metadata": {},
     "output_type": "execute_result"
    }
   ],
   "source": [
    "medians = sig.drop(columns= ['P_Value_Brca','P_Value_Endo','P_Value'])\n",
    "medians.head()"
   ]
  },
  {
   "cell_type": "code",
   "execution_count": 12,
   "metadata": {},
   "outputs": [
    {
     "data": {
      "text/plain": [
       "1338"
      ]
     },
     "execution_count": 12,
     "metadata": {},
     "output_type": "execute_result"
    }
   ],
   "source": [
    "len(medians.index)"
   ]
  },
  {
   "cell_type": "code",
   "execution_count": null,
   "metadata": {},
   "outputs": [],
   "source": []
  },
  {
   "cell_type": "code",
   "execution_count": 13,
   "metadata": {},
   "outputs": [
    {
     "data": {
      "text/plain": [
       "0"
      ]
     },
     "execution_count": 13,
     "metadata": {},
     "output_type": "execute_result"
    }
   ],
   "source": [
    "medians[\"Pos_Neg\"] = medians.apply(all_pos, axis = 1)\n",
    "pos_and_neg = medians.loc[medians['Pos_Neg'] == True]\n",
    "pos_and_neg_genes = list(pos_and_neg.index)\n",
    "len(pos_and_neg_genes)"
   ]
  },
  {
   "cell_type": "code",
   "execution_count": 14,
   "metadata": {},
   "outputs": [
    {
     "data": {
      "text/plain": [
       "531"
      ]
     },
     "execution_count": 14,
     "metadata": {},
     "output_type": "execute_result"
    }
   ],
   "source": [
    "medians[\"Pos_Neg\"] = medians.apply(any_pos, axis = 1)\n",
    "pos_and_neg = medians.loc[medians['Pos_Neg'] == True]\n",
    "pos_and_neg_genes = list(pos_and_neg.index)\n",
    "len(pos_and_neg_genes)"
   ]
  },
  {
   "cell_type": "code",
   "execution_count": 15,
   "metadata": {},
   "outputs": [
    {
     "data": {
      "text/plain": [
       "['NUBP1']"
      ]
     },
     "execution_count": 15,
     "metadata": {},
     "output_type": "execute_result"
    }
   ],
   "source": [
    "medians[\"Pos_Neg\"] = medians.apply(colon_endo, axis = 1)\n",
    "pos_and_neg = medians.loc[medians['Pos_Neg'] == True]\n",
    "pos_and_neg_genes = list(pos_and_neg.index)\n",
    "len(pos_and_neg_genes)\n",
    "pos_and_neg_genes"
   ]
  },
  {
   "cell_type": "code",
   "execution_count": 16,
   "metadata": {},
   "outputs": [
    {
     "data": {
      "text/plain": [
       "['ELP4', 'LRSAM1', 'TNKS1BP1']"
      ]
     },
     "execution_count": 16,
     "metadata": {},
     "output_type": "execute_result"
    }
   ],
   "source": [
    "medians[\"Pos_Neg\"] = medians.apply(colon_brca, axis = 1)\n",
    "pos_and_neg = medians.loc[medians['Pos_Neg'] == True]\n",
    "pos_and_neg_genes = list(pos_and_neg.index)\n",
    "len(pos_and_neg_genes)\n",
    "pos_and_neg_genes"
   ]
  },
  {
   "cell_type": "code",
   "execution_count": 17,
   "metadata": {},
   "outputs": [
    {
     "data": {
      "text/plain": [
       "['KRT15', 'SH2D4A']"
      ]
     },
     "execution_count": 17,
     "metadata": {},
     "output_type": "execute_result"
    }
   ],
   "source": [
    "medians[\"Pos_Neg\"] = medians.apply(brca_endo, axis = 1)\n",
    "pos_and_neg = medians.loc[medians['Pos_Neg'] == True]\n",
    "pos_and_neg_genes = list(pos_and_neg.index)\n",
    "len(pos_and_neg_genes)\n",
    "pos_and_neg_genes"
   ]
  },
  {
   "cell_type": "code",
   "execution_count": 18,
   "metadata": {},
   "outputs": [
    {
     "data": {
      "text/plain": [
       "80"
      ]
     },
     "execution_count": 18,
     "metadata": {},
     "output_type": "execute_result"
    }
   ],
   "source": [
    "medians[\"Pos_Neg\"] = medians.apply(colon, axis = 1)\n",
    "pos_and_neg = medians.loc[medians['Pos_Neg'] == True]\n",
    "pos_and_neg_genes = list(pos_and_neg.index)\n",
    "len(pos_and_neg_genes)"
   ]
  },
  {
   "cell_type": "code",
   "execution_count": 19,
   "metadata": {},
   "outputs": [
    {
     "data": {
      "text/plain": [
       "215"
      ]
     },
     "execution_count": 19,
     "metadata": {},
     "output_type": "execute_result"
    }
   ],
   "source": [
    "medians[\"Pos_Neg\"] = medians.apply(endo, axis = 1)\n",
    "pos_and_neg = medians.loc[medians['Pos_Neg'] == True]\n",
    "pos_and_neg_genes = list(pos_and_neg.index)\n",
    "len(pos_and_neg_genes)"
   ]
  },
  {
   "cell_type": "code",
   "execution_count": 20,
   "metadata": {},
   "outputs": [
    {
     "data": {
      "text/plain": [
       "230"
      ]
     },
     "execution_count": 20,
     "metadata": {},
     "output_type": "execute_result"
    }
   ],
   "source": [
    "medians[\"Pos_Neg\"] = medians.apply(brca, axis = 1)\n",
    "pos_and_neg = medians.loc[medians['Pos_Neg'] == True]\n",
    "pos_and_neg_genes = list(pos_and_neg.index)\n",
    "len(pos_and_neg_genes)"
   ]
  },
  {
   "cell_type": "code",
   "execution_count": 21,
   "metadata": {},
   "outputs": [
    {
     "data": {
      "text/html": [
       "<div>\n",
       "<style scoped>\n",
       "    .dataframe tbody tr th:only-of-type {\n",
       "        vertical-align: middle;\n",
       "    }\n",
       "\n",
       "    .dataframe tbody tr th {\n",
       "        vertical-align: top;\n",
       "    }\n",
       "\n",
       "    .dataframe thead th {\n",
       "        text-align: right;\n",
       "    }\n",
       "</style>\n",
       "<table border=\"1\" class=\"dataframe\">\n",
       "  <thead>\n",
       "    <tr style=\"text-align: right;\">\n",
       "      <th></th>\n",
       "      <th>Difference_In_Median</th>\n",
       "      <th>P_Value</th>\n",
       "      <th>cancer_type</th>\n",
       "      <th>comparison</th>\n",
       "    </tr>\n",
       "  </thead>\n",
       "  <tbody>\n",
       "    <tr>\n",
       "      <th>A2ML1</th>\n",
       "      <td>NaN</td>\n",
       "      <td>NaN</td>\n",
       "      <td>colon</td>\n",
       "      <td>A2ML1</td>\n",
       "    </tr>\n",
       "    <tr>\n",
       "      <th>AADAT</th>\n",
       "      <td>NaN</td>\n",
       "      <td>NaN</td>\n",
       "      <td>colon</td>\n",
       "      <td>AADAT</td>\n",
       "    </tr>\n",
       "    <tr>\n",
       "      <th>AAGAB</th>\n",
       "      <td>0.1390</td>\n",
       "      <td>0.039189</td>\n",
       "      <td>colon</td>\n",
       "      <td>AAGAB</td>\n",
       "    </tr>\n",
       "    <tr>\n",
       "      <th>AASDHPPT</th>\n",
       "      <td>NaN</td>\n",
       "      <td>NaN</td>\n",
       "      <td>colon</td>\n",
       "      <td>AASDHPPT</td>\n",
       "    </tr>\n",
       "    <tr>\n",
       "      <th>AATF</th>\n",
       "      <td>NaN</td>\n",
       "      <td>NaN</td>\n",
       "      <td>colon</td>\n",
       "      <td>AATF</td>\n",
       "    </tr>\n",
       "    <tr>\n",
       "      <th>...</th>\n",
       "      <td>...</td>\n",
       "      <td>...</td>\n",
       "      <td>...</td>\n",
       "      <td>...</td>\n",
       "    </tr>\n",
       "    <tr>\n",
       "      <th>ZNF654</th>\n",
       "      <td>0.4929</td>\n",
       "      <td>0.048872</td>\n",
       "      <td>brca</td>\n",
       "      <td>ZNF654</td>\n",
       "    </tr>\n",
       "    <tr>\n",
       "      <th>ZNF768</th>\n",
       "      <td>NaN</td>\n",
       "      <td>NaN</td>\n",
       "      <td>brca</td>\n",
       "      <td>ZNF768</td>\n",
       "    </tr>\n",
       "    <tr>\n",
       "      <th>ZNHIT3</th>\n",
       "      <td>NaN</td>\n",
       "      <td>NaN</td>\n",
       "      <td>brca</td>\n",
       "      <td>ZNHIT3</td>\n",
       "    </tr>\n",
       "    <tr>\n",
       "      <th>ZNRD1</th>\n",
       "      <td>NaN</td>\n",
       "      <td>NaN</td>\n",
       "      <td>brca</td>\n",
       "      <td>ZNRD1</td>\n",
       "    </tr>\n",
       "    <tr>\n",
       "      <th>ZW10</th>\n",
       "      <td>0.6900</td>\n",
       "      <td>0.002517</td>\n",
       "      <td>brca</td>\n",
       "      <td>ZW10</td>\n",
       "    </tr>\n",
       "  </tbody>\n",
       "</table>\n",
       "<p>4014 rows × 4 columns</p>\n",
       "</div>"
      ],
      "text/plain": [
       "          Difference_In_Median   P_Value cancer_type comparison\n",
       "A2ML1                      NaN       NaN       colon      A2ML1\n",
       "AADAT                      NaN       NaN       colon      AADAT\n",
       "AAGAB                   0.1390  0.039189       colon      AAGAB\n",
       "AASDHPPT                   NaN       NaN       colon   AASDHPPT\n",
       "AATF                       NaN       NaN       colon       AATF\n",
       "...                        ...       ...         ...        ...\n",
       "ZNF654                  0.4929  0.048872        brca     ZNF654\n",
       "ZNF768                     NaN       NaN        brca     ZNF768\n",
       "ZNHIT3                     NaN       NaN        brca     ZNHIT3\n",
       "ZNRD1                      NaN       NaN        brca      ZNRD1\n",
       "ZW10                    0.6900  0.002517        brca       ZW10\n",
       "\n",
       "[4014 rows x 4 columns]"
      ]
     },
     "execution_count": 21,
     "metadata": {},
     "output_type": "execute_result"
    }
   ],
   "source": [
    "brca = sig.drop(columns=['Difference_In_Median_Endo', 'P_Value_Endo','Difference_In_Median','P_Value'])\n",
    "brca['cancer_type'] = \"brca\"\n",
    "brca.columns = ['Difference_In_Median', 'P_Value','cancer_type']\n",
    "brca.head()\n",
    "\n",
    "endo = sig.drop(columns=['Difference_In_Median_Brca', 'P_Value_Brca','Difference_In_Median','P_Value'])\n",
    "endo['cancer_type'] = \"endo\"\n",
    "endo.columns = ['Difference_In_Median', 'P_Value','cancer_type']\n",
    "endo.head()\n",
    "\n",
    "colon = sig.drop(columns=['Difference_In_Median_Brca', 'P_Value_Brca','Difference_In_Median_Endo','P_Value_Endo'])\n",
    "colon['cancer_type'] = \"colon\"\n",
    "colon.head()\n",
    "\n",
    "c_and_e = colon.append(endo)\n",
    "df = c_and_e.append(brca)\n",
    "\n",
    "df[\"comparison\"] = df.index\n",
    "df"
   ]
  },
  {
   "cell_type": "code",
   "execution_count": 22,
   "metadata": {},
   "outputs": [
    {
     "name": "stderr",
     "output_type": "stream",
     "text": [
      "/Users/hannahboekweg/anaconda3/lib/python3.7/site-packages/ipykernel_launcher.py:3: SettingWithCopyWarning: \n",
      "A value is trying to be set on a copy of a slice from a DataFrame.\n",
      "Try using .loc[row_indexer,col_indexer] = value instead\n",
      "\n",
      "See the caveats in the documentation: https://pandas.pydata.org/pandas-docs/stable/user_guide/indexing.html#returning-a-view-versus-a-copy\n",
      "  This is separate from the ipykernel package so we can avoid doing imports until\n"
     ]
    },
    {
     "data": {
      "text/html": [
       "<div>\n",
       "<style scoped>\n",
       "    .dataframe tbody tr th:only-of-type {\n",
       "        vertical-align: middle;\n",
       "    }\n",
       "\n",
       "    .dataframe tbody tr th {\n",
       "        vertical-align: top;\n",
       "    }\n",
       "\n",
       "    .dataframe thead th {\n",
       "        text-align: right;\n",
       "    }\n",
       "</style>\n",
       "<table border=\"1\" class=\"dataframe\">\n",
       "  <thead>\n",
       "    <tr style=\"text-align: right;\">\n",
       "      <th></th>\n",
       "      <th>Difference_In_Median</th>\n",
       "      <th>P_Value</th>\n",
       "      <th>cancer_type</th>\n",
       "      <th>comparison</th>\n",
       "      <th>size</th>\n",
       "    </tr>\n",
       "  </thead>\n",
       "  <tbody>\n",
       "    <tr>\n",
       "      <th>AASDHPPT</th>\n",
       "      <td>NaN</td>\n",
       "      <td>NaN</td>\n",
       "      <td>colon</td>\n",
       "      <td>AASDHPPT</td>\n",
       "      <td>NaN</td>\n",
       "    </tr>\n",
       "    <tr>\n",
       "      <th>ABCA13</th>\n",
       "      <td>NaN</td>\n",
       "      <td>NaN</td>\n",
       "      <td>colon</td>\n",
       "      <td>ABCA13</td>\n",
       "      <td>NaN</td>\n",
       "    </tr>\n",
       "    <tr>\n",
       "      <th>ABCC5</th>\n",
       "      <td>NaN</td>\n",
       "      <td>NaN</td>\n",
       "      <td>colon</td>\n",
       "      <td>ABCC5</td>\n",
       "      <td>NaN</td>\n",
       "    </tr>\n",
       "    <tr>\n",
       "      <th>ABCF3</th>\n",
       "      <td>NaN</td>\n",
       "      <td>NaN</td>\n",
       "      <td>colon</td>\n",
       "      <td>ABCF3</td>\n",
       "      <td>NaN</td>\n",
       "    </tr>\n",
       "    <tr>\n",
       "      <th>ABL1</th>\n",
       "      <td>NaN</td>\n",
       "      <td>NaN</td>\n",
       "      <td>colon</td>\n",
       "      <td>ABL1</td>\n",
       "      <td>NaN</td>\n",
       "    </tr>\n",
       "  </tbody>\n",
       "</table>\n",
       "</div>"
      ],
      "text/plain": [
       "          Difference_In_Median  P_Value cancer_type comparison  size\n",
       "AASDHPPT                   NaN      NaN       colon   AASDHPPT   NaN\n",
       "ABCA13                     NaN      NaN       colon     ABCA13   NaN\n",
       "ABCC5                      NaN      NaN       colon      ABCC5   NaN\n",
       "ABCF3                      NaN      NaN       colon      ABCF3   NaN\n",
       "ABL1                       NaN      NaN       colon       ABL1   NaN"
      ]
     },
     "execution_count": 22,
     "metadata": {},
     "output_type": "execute_result"
    }
   ],
   "source": [
    "get = df['comparison'].isin(pos_and_neg_genes)\n",
    "corr_df = df[get]\n",
    "corr_df['size'] = corr_df['P_Value'].apply(lambda x: -1*(np.log(x)/10))\n",
    "corr_df.head()"
   ]
  },
  {
   "cell_type": "code",
   "execution_count": 23,
   "metadata": {},
   "outputs": [
    {
     "name": "stderr",
     "output_type": "stream",
     "text": [
      "/Users/hannahboekweg/anaconda3/lib/python3.7/site-packages/plot_utils/__init__.py:40: SettingWithCopyWarning: \n",
      "A value is trying to be set on a copy of a slice from a DataFrame.\n",
      "Try using .loc[row_indexer,col_indexer] = value instead\n",
      "\n",
      "See the caveats in the documentation: https://pandas.pydata.org/pandas-docs/stable/user_guide/indexing.html#returning-a-view-versus-a-copy\n",
      "  df[\"size2\"] = df[circle_var].apply(lambda x: -1*(np.log(x)))\n",
      "/Users/hannahboekweg/anaconda3/lib/python3.7/site-packages/plot_utils/__init__.py:41: SettingWithCopyWarning: \n",
      "A value is trying to be set on a copy of a slice from a DataFrame.\n",
      "Try using .loc[row_indexer,col_indexer] = value instead\n",
      "\n",
      "See the caveats in the documentation: https://pandas.pydata.org/pandas-docs/stable/user_guide/indexing.html#returning-a-view-versus-a-copy\n",
      "  df['size'] = (df[\"size2\"])*3\n"
     ]
    },
    {
     "data": {
      "text/html": [
       "\n",
       "    <div class=\"bk-root\">\n",
       "        <a href=\"https://bokeh.pydata.org\" target=\"_blank\" class=\"bk-logo bk-logo-small bk-logo-notebook\"></a>\n",
       "        <span id=\"1029\">Loading BokehJS ...</span>\n",
       "    </div>"
      ]
     },
     "metadata": {},
     "output_type": "display_data"
    },
    {
     "data": {
      "application/javascript": [
       "\n",
       "(function(root) {\n",
       "  function now() {\n",
       "    return new Date();\n",
       "  }\n",
       "\n",
       "  var force = true;\n",
       "\n",
       "  if (typeof root._bokeh_onload_callbacks === \"undefined\" || force === true) {\n",
       "    root._bokeh_onload_callbacks = [];\n",
       "    root._bokeh_is_loading = undefined;\n",
       "  }\n",
       "\n",
       "  var JS_MIME_TYPE = 'application/javascript';\n",
       "  var HTML_MIME_TYPE = 'text/html';\n",
       "  var EXEC_MIME_TYPE = 'application/vnd.bokehjs_exec.v0+json';\n",
       "  var CLASS_NAME = 'output_bokeh rendered_html';\n",
       "\n",
       "  /**\n",
       "   * Render data to the DOM node\n",
       "   */\n",
       "  function render(props, node) {\n",
       "    var script = document.createElement(\"script\");\n",
       "    node.appendChild(script);\n",
       "  }\n",
       "\n",
       "  /**\n",
       "   * Handle when an output is cleared or removed\n",
       "   */\n",
       "  function handleClearOutput(event, handle) {\n",
       "    var cell = handle.cell;\n",
       "\n",
       "    var id = cell.output_area._bokeh_element_id;\n",
       "    var server_id = cell.output_area._bokeh_server_id;\n",
       "    // Clean up Bokeh references\n",
       "    if (id != null && id in Bokeh.index) {\n",
       "      Bokeh.index[id].model.document.clear();\n",
       "      delete Bokeh.index[id];\n",
       "    }\n",
       "\n",
       "    if (server_id !== undefined) {\n",
       "      // Clean up Bokeh references\n",
       "      var cmd = \"from bokeh.io.state import curstate; print(curstate().uuid_to_server['\" + server_id + \"'].get_sessions()[0].document.roots[0]._id)\";\n",
       "      cell.notebook.kernel.execute(cmd, {\n",
       "        iopub: {\n",
       "          output: function(msg) {\n",
       "            var id = msg.content.text.trim();\n",
       "            if (id in Bokeh.index) {\n",
       "              Bokeh.index[id].model.document.clear();\n",
       "              delete Bokeh.index[id];\n",
       "            }\n",
       "          }\n",
       "        }\n",
       "      });\n",
       "      // Destroy server and session\n",
       "      var cmd = \"import bokeh.io.notebook as ion; ion.destroy_server('\" + server_id + \"')\";\n",
       "      cell.notebook.kernel.execute(cmd);\n",
       "    }\n",
       "  }\n",
       "\n",
       "  /**\n",
       "   * Handle when a new output is added\n",
       "   */\n",
       "  function handleAddOutput(event, handle) {\n",
       "    var output_area = handle.output_area;\n",
       "    var output = handle.output;\n",
       "\n",
       "    // limit handleAddOutput to display_data with EXEC_MIME_TYPE content only\n",
       "    if ((output.output_type != \"display_data\") || (!output.data.hasOwnProperty(EXEC_MIME_TYPE))) {\n",
       "      return\n",
       "    }\n",
       "\n",
       "    var toinsert = output_area.element.find(\".\" + CLASS_NAME.split(' ')[0]);\n",
       "\n",
       "    if (output.metadata[EXEC_MIME_TYPE][\"id\"] !== undefined) {\n",
       "      toinsert[toinsert.length - 1].firstChild.textContent = output.data[JS_MIME_TYPE];\n",
       "      // store reference to embed id on output_area\n",
       "      output_area._bokeh_element_id = output.metadata[EXEC_MIME_TYPE][\"id\"];\n",
       "    }\n",
       "    if (output.metadata[EXEC_MIME_TYPE][\"server_id\"] !== undefined) {\n",
       "      var bk_div = document.createElement(\"div\");\n",
       "      bk_div.innerHTML = output.data[HTML_MIME_TYPE];\n",
       "      var script_attrs = bk_div.children[0].attributes;\n",
       "      for (var i = 0; i < script_attrs.length; i++) {\n",
       "        toinsert[toinsert.length - 1].firstChild.setAttribute(script_attrs[i].name, script_attrs[i].value);\n",
       "      }\n",
       "      // store reference to server id on output_area\n",
       "      output_area._bokeh_server_id = output.metadata[EXEC_MIME_TYPE][\"server_id\"];\n",
       "    }\n",
       "  }\n",
       "\n",
       "  function register_renderer(events, OutputArea) {\n",
       "\n",
       "    function append_mime(data, metadata, element) {\n",
       "      // create a DOM node to render to\n",
       "      var toinsert = this.create_output_subarea(\n",
       "        metadata,\n",
       "        CLASS_NAME,\n",
       "        EXEC_MIME_TYPE\n",
       "      );\n",
       "      this.keyboard_manager.register_events(toinsert);\n",
       "      // Render to node\n",
       "      var props = {data: data, metadata: metadata[EXEC_MIME_TYPE]};\n",
       "      render(props, toinsert[toinsert.length - 1]);\n",
       "      element.append(toinsert);\n",
       "      return toinsert\n",
       "    }\n",
       "\n",
       "    /* Handle when an output is cleared or removed */\n",
       "    events.on('clear_output.CodeCell', handleClearOutput);\n",
       "    events.on('delete.Cell', handleClearOutput);\n",
       "\n",
       "    /* Handle when a new output is added */\n",
       "    events.on('output_added.OutputArea', handleAddOutput);\n",
       "\n",
       "    /**\n",
       "     * Register the mime type and append_mime function with output_area\n",
       "     */\n",
       "    OutputArea.prototype.register_mime_type(EXEC_MIME_TYPE, append_mime, {\n",
       "      /* Is output safe? */\n",
       "      safe: true,\n",
       "      /* Index of renderer in `output_area.display_order` */\n",
       "      index: 0\n",
       "    });\n",
       "  }\n",
       "\n",
       "  // register the mime type if in Jupyter Notebook environment and previously unregistered\n",
       "  if (root.Jupyter !== undefined) {\n",
       "    var events = require('base/js/events');\n",
       "    var OutputArea = require('notebook/js/outputarea').OutputArea;\n",
       "\n",
       "    if (OutputArea.prototype.mime_types().indexOf(EXEC_MIME_TYPE) == -1) {\n",
       "      register_renderer(events, OutputArea);\n",
       "    }\n",
       "  }\n",
       "\n",
       "  \n",
       "  if (typeof (root._bokeh_timeout) === \"undefined\" || force === true) {\n",
       "    root._bokeh_timeout = Date.now() + 5000;\n",
       "    root._bokeh_failed_load = false;\n",
       "  }\n",
       "\n",
       "  var NB_LOAD_WARNING = {'data': {'text/html':\n",
       "     \"<div style='background-color: #fdd'>\\n\"+\n",
       "     \"<p>\\n\"+\n",
       "     \"BokehJS does not appear to have successfully loaded. If loading BokehJS from CDN, this \\n\"+\n",
       "     \"may be due to a slow or bad network connection. Possible fixes:\\n\"+\n",
       "     \"</p>\\n\"+\n",
       "     \"<ul>\\n\"+\n",
       "     \"<li>re-rerun `output_notebook()` to attempt to load from CDN again, or</li>\\n\"+\n",
       "     \"<li>use INLINE resources instead, as so:</li>\\n\"+\n",
       "     \"</ul>\\n\"+\n",
       "     \"<code>\\n\"+\n",
       "     \"from bokeh.resources import INLINE\\n\"+\n",
       "     \"output_notebook(resources=INLINE)\\n\"+\n",
       "     \"</code>\\n\"+\n",
       "     \"</div>\"}};\n",
       "\n",
       "  function display_loaded() {\n",
       "    var el = document.getElementById(\"1029\");\n",
       "    if (el != null) {\n",
       "      el.textContent = \"BokehJS is loading...\";\n",
       "    }\n",
       "    if (root.Bokeh !== undefined) {\n",
       "      if (el != null) {\n",
       "        el.textContent = \"BokehJS \" + root.Bokeh.version + \" successfully loaded.\";\n",
       "      }\n",
       "    } else if (Date.now() < root._bokeh_timeout) {\n",
       "      setTimeout(display_loaded, 100)\n",
       "    }\n",
       "  }\n",
       "\n",
       "\n",
       "  function run_callbacks() {\n",
       "    try {\n",
       "      root._bokeh_onload_callbacks.forEach(function(callback) {\n",
       "        if (callback != null)\n",
       "          callback();\n",
       "      });\n",
       "    } finally {\n",
       "      delete root._bokeh_onload_callbacks\n",
       "    }\n",
       "    console.debug(\"Bokeh: all callbacks have finished\");\n",
       "  }\n",
       "\n",
       "  function load_libs(css_urls, js_urls, callback) {\n",
       "    if (css_urls == null) css_urls = [];\n",
       "    if (js_urls == null) js_urls = [];\n",
       "\n",
       "    root._bokeh_onload_callbacks.push(callback);\n",
       "    if (root._bokeh_is_loading > 0) {\n",
       "      console.debug(\"Bokeh: BokehJS is being loaded, scheduling callback at\", now());\n",
       "      return null;\n",
       "    }\n",
       "    if (js_urls == null || js_urls.length === 0) {\n",
       "      run_callbacks();\n",
       "      return null;\n",
       "    }\n",
       "    console.debug(\"Bokeh: BokehJS not loaded, scheduling load and callback at\", now());\n",
       "    root._bokeh_is_loading = css_urls.length + js_urls.length;\n",
       "\n",
       "    function on_load() {\n",
       "      root._bokeh_is_loading--;\n",
       "      if (root._bokeh_is_loading === 0) {\n",
       "        console.debug(\"Bokeh: all BokehJS libraries/stylesheets loaded\");\n",
       "        run_callbacks()\n",
       "      }\n",
       "    }\n",
       "\n",
       "    function on_error() {\n",
       "      console.error(\"failed to load \" + url);\n",
       "    }\n",
       "\n",
       "    for (var i = 0; i < css_urls.length; i++) {\n",
       "      var url = css_urls[i];\n",
       "      const element = document.createElement(\"link\");\n",
       "      element.onload = on_load;\n",
       "      element.onerror = on_error;\n",
       "      element.rel = \"stylesheet\";\n",
       "      element.type = \"text/css\";\n",
       "      element.href = url;\n",
       "      console.debug(\"Bokeh: injecting link tag for BokehJS stylesheet: \", url);\n",
       "      document.body.appendChild(element);\n",
       "    }\n",
       "\n",
       "    for (var i = 0; i < js_urls.length; i++) {\n",
       "      var url = js_urls[i];\n",
       "      var element = document.createElement('script');\n",
       "      element.onload = on_load;\n",
       "      element.onerror = on_error;\n",
       "      element.async = false;\n",
       "      element.src = url;\n",
       "      console.debug(\"Bokeh: injecting script tag for BokehJS library: \", url);\n",
       "      document.head.appendChild(element);\n",
       "    }\n",
       "  };var element = document.getElementById(\"1029\");\n",
       "  if (element == null) {\n",
       "    console.error(\"Bokeh: ERROR: autoload.js configured with elementid '1029' but no matching script tag was found. \")\n",
       "    return false;\n",
       "  }\n",
       "\n",
       "  function inject_raw_css(css) {\n",
       "    const element = document.createElement(\"style\");\n",
       "    element.appendChild(document.createTextNode(css));\n",
       "    document.body.appendChild(element);\n",
       "  }\n",
       "\n",
       "  var js_urls = [\"https://cdn.pydata.org/bokeh/release/bokeh-1.2.0.min.js\", \"https://cdn.pydata.org/bokeh/release/bokeh-widgets-1.2.0.min.js\", \"https://cdn.pydata.org/bokeh/release/bokeh-tables-1.2.0.min.js\", \"https://cdn.pydata.org/bokeh/release/bokeh-gl-1.2.0.min.js\"];\n",
       "  var css_urls = [\"https://cdn.pydata.org/bokeh/release/bokeh-1.2.0.min.css\", \"https://cdn.pydata.org/bokeh/release/bokeh-widgets-1.2.0.min.css\", \"https://cdn.pydata.org/bokeh/release/bokeh-tables-1.2.0.min.css\"];\n",
       "\n",
       "  var inline_js = [\n",
       "    function(Bokeh) {\n",
       "      Bokeh.set_log_level(\"info\");\n",
       "    },\n",
       "    \n",
       "    function(Bokeh) {\n",
       "      \n",
       "    },\n",
       "    function(Bokeh) {} // ensure no trailing comma for IE\n",
       "  ];\n",
       "\n",
       "  function run_inline_js() {\n",
       "    \n",
       "    if ((root.Bokeh !== undefined) || (force === true)) {\n",
       "      for (var i = 0; i < inline_js.length; i++) {\n",
       "        inline_js[i].call(root, root.Bokeh);\n",
       "      }if (force === true) {\n",
       "        display_loaded();\n",
       "      }} else if (Date.now() < root._bokeh_timeout) {\n",
       "      setTimeout(run_inline_js, 100);\n",
       "    } else if (!root._bokeh_failed_load) {\n",
       "      console.log(\"Bokeh: BokehJS failed to load within specified timeout.\");\n",
       "      root._bokeh_failed_load = true;\n",
       "    } else if (force !== true) {\n",
       "      var cell = $(document.getElementById(\"1029\")).parents('.cell').data().cell;\n",
       "      cell.output_area.append_execute_result(NB_LOAD_WARNING)\n",
       "    }\n",
       "\n",
       "  }\n",
       "\n",
       "  if (root._bokeh_is_loading === 0) {\n",
       "    console.debug(\"Bokeh: BokehJS loaded, going straight to plotting\");\n",
       "    run_inline_js();\n",
       "  } else {\n",
       "    load_libs(css_urls, js_urls, function() {\n",
       "      console.debug(\"Bokeh: BokehJS plotting callback run at\", now());\n",
       "      run_inline_js();\n",
       "    });\n",
       "  }\n",
       "}(window));"
      ],
      "application/vnd.bokehjs_load.v0+json": "\n(function(root) {\n  function now() {\n    return new Date();\n  }\n\n  var force = true;\n\n  if (typeof root._bokeh_onload_callbacks === \"undefined\" || force === true) {\n    root._bokeh_onload_callbacks = [];\n    root._bokeh_is_loading = undefined;\n  }\n\n  \n\n  \n  if (typeof (root._bokeh_timeout) === \"undefined\" || force === true) {\n    root._bokeh_timeout = Date.now() + 5000;\n    root._bokeh_failed_load = false;\n  }\n\n  var NB_LOAD_WARNING = {'data': {'text/html':\n     \"<div style='background-color: #fdd'>\\n\"+\n     \"<p>\\n\"+\n     \"BokehJS does not appear to have successfully loaded. If loading BokehJS from CDN, this \\n\"+\n     \"may be due to a slow or bad network connection. Possible fixes:\\n\"+\n     \"</p>\\n\"+\n     \"<ul>\\n\"+\n     \"<li>re-rerun `output_notebook()` to attempt to load from CDN again, or</li>\\n\"+\n     \"<li>use INLINE resources instead, as so:</li>\\n\"+\n     \"</ul>\\n\"+\n     \"<code>\\n\"+\n     \"from bokeh.resources import INLINE\\n\"+\n     \"output_notebook(resources=INLINE)\\n\"+\n     \"</code>\\n\"+\n     \"</div>\"}};\n\n  function display_loaded() {\n    var el = document.getElementById(\"1029\");\n    if (el != null) {\n      el.textContent = \"BokehJS is loading...\";\n    }\n    if (root.Bokeh !== undefined) {\n      if (el != null) {\n        el.textContent = \"BokehJS \" + root.Bokeh.version + \" successfully loaded.\";\n      }\n    } else if (Date.now() < root._bokeh_timeout) {\n      setTimeout(display_loaded, 100)\n    }\n  }\n\n\n  function run_callbacks() {\n    try {\n      root._bokeh_onload_callbacks.forEach(function(callback) {\n        if (callback != null)\n          callback();\n      });\n    } finally {\n      delete root._bokeh_onload_callbacks\n    }\n    console.debug(\"Bokeh: all callbacks have finished\");\n  }\n\n  function load_libs(css_urls, js_urls, callback) {\n    if (css_urls == null) css_urls = [];\n    if (js_urls == null) js_urls = [];\n\n    root._bokeh_onload_callbacks.push(callback);\n    if (root._bokeh_is_loading > 0) {\n      console.debug(\"Bokeh: BokehJS is being loaded, scheduling callback at\", now());\n      return null;\n    }\n    if (js_urls == null || js_urls.length === 0) {\n      run_callbacks();\n      return null;\n    }\n    console.debug(\"Bokeh: BokehJS not loaded, scheduling load and callback at\", now());\n    root._bokeh_is_loading = css_urls.length + js_urls.length;\n\n    function on_load() {\n      root._bokeh_is_loading--;\n      if (root._bokeh_is_loading === 0) {\n        console.debug(\"Bokeh: all BokehJS libraries/stylesheets loaded\");\n        run_callbacks()\n      }\n    }\n\n    function on_error() {\n      console.error(\"failed to load \" + url);\n    }\n\n    for (var i = 0; i < css_urls.length; i++) {\n      var url = css_urls[i];\n      const element = document.createElement(\"link\");\n      element.onload = on_load;\n      element.onerror = on_error;\n      element.rel = \"stylesheet\";\n      element.type = \"text/css\";\n      element.href = url;\n      console.debug(\"Bokeh: injecting link tag for BokehJS stylesheet: \", url);\n      document.body.appendChild(element);\n    }\n\n    for (var i = 0; i < js_urls.length; i++) {\n      var url = js_urls[i];\n      var element = document.createElement('script');\n      element.onload = on_load;\n      element.onerror = on_error;\n      element.async = false;\n      element.src = url;\n      console.debug(\"Bokeh: injecting script tag for BokehJS library: \", url);\n      document.head.appendChild(element);\n    }\n  };var element = document.getElementById(\"1029\");\n  if (element == null) {\n    console.error(\"Bokeh: ERROR: autoload.js configured with elementid '1029' but no matching script tag was found. \")\n    return false;\n  }\n\n  function inject_raw_css(css) {\n    const element = document.createElement(\"style\");\n    element.appendChild(document.createTextNode(css));\n    document.body.appendChild(element);\n  }\n\n  var js_urls = [\"https://cdn.pydata.org/bokeh/release/bokeh-1.2.0.min.js\", \"https://cdn.pydata.org/bokeh/release/bokeh-widgets-1.2.0.min.js\", \"https://cdn.pydata.org/bokeh/release/bokeh-tables-1.2.0.min.js\", \"https://cdn.pydata.org/bokeh/release/bokeh-gl-1.2.0.min.js\"];\n  var css_urls = [\"https://cdn.pydata.org/bokeh/release/bokeh-1.2.0.min.css\", \"https://cdn.pydata.org/bokeh/release/bokeh-widgets-1.2.0.min.css\", \"https://cdn.pydata.org/bokeh/release/bokeh-tables-1.2.0.min.css\"];\n\n  var inline_js = [\n    function(Bokeh) {\n      Bokeh.set_log_level(\"info\");\n    },\n    \n    function(Bokeh) {\n      \n    },\n    function(Bokeh) {} // ensure no trailing comma for IE\n  ];\n\n  function run_inline_js() {\n    \n    if ((root.Bokeh !== undefined) || (force === true)) {\n      for (var i = 0; i < inline_js.length; i++) {\n        inline_js[i].call(root, root.Bokeh);\n      }if (force === true) {\n        display_loaded();\n      }} else if (Date.now() < root._bokeh_timeout) {\n      setTimeout(run_inline_js, 100);\n    } else if (!root._bokeh_failed_load) {\n      console.log(\"Bokeh: BokehJS failed to load within specified timeout.\");\n      root._bokeh_failed_load = true;\n    } else if (force !== true) {\n      var cell = $(document.getElementById(\"1029\")).parents('.cell').data().cell;\n      cell.output_area.append_execute_result(NB_LOAD_WARNING)\n    }\n\n  }\n\n  if (root._bokeh_is_loading === 0) {\n    console.debug(\"Bokeh: BokehJS loaded, going straight to plotting\");\n    run_inline_js();\n  } else {\n    load_libs(css_urls, js_urls, function() {\n      console.debug(\"Bokeh: BokehJS plotting callback run at\", now());\n      run_inline_js();\n    });\n  }\n}(window));"
     },
     "metadata": {},
     "output_type": "display_data"
    },
    {
     "data": {
      "text/html": [
       "\n",
       "\n",
       "\n",
       "\n",
       "\n",
       "\n",
       "  <div class=\"bk-root\" id=\"1cc23069-d52f-40a1-a48e-74673ee4923e\" data-root-id=\"1004\"></div>\n"
      ]
     },
     "metadata": {},
     "output_type": "display_data"
    },
    {
     "data": {
      "application/javascript": [
       "(function(root) {\n",
       "  function embed_document(root) {\n",
       "    \n",
       "  var docs_json = {\"86a89f27-e4a7-4ad5-b54c-e3d38787af33\":{\"roots\":{\"references\":[{\"attributes\":{\"below\":[{\"id\":\"1011\",\"type\":\"CategoricalAxis\"}],\"center\":[{\"id\":\"1014\",\"type\":\"Grid\"},{\"id\":\"1018\",\"type\":\"Grid\"}],\"left\":[{\"id\":\"1015\",\"type\":\"CategoricalAxis\"}],\"plot_height\":650,\"plot_width\":700,\"renderers\":[{\"id\":\"1026\",\"type\":\"GlyphRenderer\"}],\"right\":[{\"id\":\"1028\",\"type\":\"ColorBar\"}],\"title\":{\"id\":\"1030\",\"type\":\"Title\"},\"toolbar\":{\"id\":\"1020\",\"type\":\"Toolbar\"},\"toolbar_location\":null,\"x_range\":{\"id\":\"1002\",\"type\":\"FactorRange\"},\"x_scale\":{\"id\":\"1007\",\"type\":\"CategoricalScale\"},\"y_range\":{\"id\":\"1003\",\"type\":\"FactorRange\"},\"y_scale\":{\"id\":\"1009\",\"type\":\"CategoricalScale\"}},\"id\":\"1004\",\"subtype\":\"Figure\",\"type\":\"Plot\"},{\"attributes\":{\"fill_color\":{\"field\":\"Difference_In_Median\",\"transform\":{\"id\":\"1001\",\"type\":\"LinearColorMapper\"}},\"line_color\":{\"value\":\"#1f77b4\"},\"line_width\":{\"value\":0},\"size\":{\"field\":\"size\",\"units\":\"screen\"},\"x\":{\"field\":\"cancer_type\"},\"y\":{\"field\":\"comparison\"}},\"id\":\"1024\",\"type\":\"Scatter\"},{\"attributes\":{\"formatter\":{\"id\":\"1035\",\"type\":\"CategoricalTickFormatter\"},\"major_label_orientation\":1.5707963267948966,\"ticker\":{\"id\":\"1012\",\"type\":\"CategoricalTicker\"}},\"id\":\"1011\",\"type\":\"CategoricalAxis\"},{\"attributes\":{\"text\":\"\"},\"id\":\"1030\",\"type\":\"Title\"},{\"attributes\":{},\"id\":\"1033\",\"type\":\"CategoricalTickFormatter\"},{\"attributes\":{},\"id\":\"1035\",\"type\":\"CategoricalTickFormatter\"},{\"attributes\":{\"high\":3.7674,\"low\":-3.7674,\"palette\":[\"#2166ac\",\"#4393c3\",\"#92c5de\",\"#d1e5f0\",\"#f7f7f7\",\"#fddbc7\",\"#f4a582\",\"#d6604d\",\"#b2182b\"]},\"id\":\"1001\",\"type\":\"LinearColorMapper\"},{\"attributes\":{},\"id\":\"1036\",\"type\":\"BasicTicker\"},{\"attributes\":{\"ticker\":{\"id\":\"1012\",\"type\":\"CategoricalTicker\"}},\"id\":\"1014\",\"type\":\"Grid\"},{\"attributes\":{},\"id\":\"1037\",\"type\":\"BasicTickFormatter\"},{\"attributes\":{\"formatter\":{\"id\":\"1033\",\"type\":\"CategoricalTickFormatter\"},\"ticker\":{\"id\":\"1016\",\"type\":\"CategoricalTicker\"}},\"id\":\"1015\",\"type\":\"CategoricalAxis\"},{\"attributes\":{},\"id\":\"1038\",\"type\":\"Selection\"},{\"attributes\":{},\"id\":\"1039\",\"type\":\"UnionRenderers\"},{\"attributes\":{},\"id\":\"1016\",\"type\":\"CategoricalTicker\"},{\"attributes\":{\"fill_alpha\":{\"value\":0.1},\"fill_color\":{\"value\":\"#1f77b4\"},\"line_alpha\":{\"value\":0.1},\"line_color\":{\"value\":\"#1f77b4\"},\"line_width\":{\"value\":0},\"size\":{\"field\":\"size\",\"units\":\"screen\"},\"x\":{\"field\":\"cancer_type\"},\"y\":{\"field\":\"comparison\"}},\"id\":\"1025\",\"type\":\"Scatter\"},{\"attributes\":{\"dimension\":1,\"ticker\":{\"id\":\"1016\",\"type\":\"CategoricalTicker\"}},\"id\":\"1018\",\"type\":\"Grid\"},{\"attributes\":{\"callback\":null,\"factors\":[\"ZW10\",\"ZNF654\",\"ZNF385A\",\"ZNF148\",\"ZC3H10\",\"YAP1\",\"WNT5A\",\"WDR60\",\"WDR53\",\"VWDE\",\"VCAN\",\"USP4\",\"USP28\",\"URM1\",\"UBR1\",\"UBE4A\",\"UBAC2\",\"TXNDC16\",\"TTC12\",\"TSC1\",\"TRAF2\",\"TOR1B\",\"THY1\",\"TGFB3\",\"TBL1XR1\",\"TBL1X\",\"TBC1D5\",\"TBC1D20\",\"SURF4\",\"SUN2\",\"SUFU\",\"STX18\",\"STK26\",\"STAT2\",\"SSNA1\",\"SPTLC3\",\"SP140L\",\"SORCS2\",\"SNAPC3\",\"SMYD3\",\"SLITRK1\",\"SLC12A1\",\"SHISA2\",\"SHC1\",\"SH3GLB2\",\"SFN\",\"SEMA4B\",\"SEC23A\",\"SEC16A\",\"SDF2\",\"SCAP\",\"SBF2\",\"S100A2\",\"S100A11\",\"RYR1\",\"RXRA\",\"RPS6KA5\",\"RNF185\",\"RINT1\",\"RFT1\",\"REEP6\",\"RDH12\",\"RAP2C\",\"RABEPK\",\"RAB3GAP2\",\"RAB30\",\"RAB20\",\"R3HCC1L\",\"PYGO2\",\"PTK7\",\"PSMD5\",\"PSD2\",\"PSD\",\"PRSS8\",\"PRRX1\",\"PRRC2B\",\"PRAMEF17\",\"PPP1R13L\",\"PIGR\",\"PGM2L1\",\"PEX19\",\"PER1\",\"PDCD4\",\"PAFAH2\",\"P3H1\",\"ODF2\",\"NTN4\",\"NRK\",\"NRDE2\",\"NOXA1\",\"NFIA\",\"NECTIN1\",\"NBAS\",\"NAT14\",\"NAT1\",\"MYO15A\",\"MUC5AC\",\"MTUS1\",\"MTRR\",\"MTA3\",\"MSX2\",\"MRC2\",\"MFAP2\",\"MEX3D\",\"MARCH6\",\"MAPKAPK5\",\"MAEA\",\"LYST\",\"LIMA1\",\"LGALS8\",\"LAMC2\",\"LAMB3\",\"LAMA1\",\"LAGE3\",\"KRT75\",\"KRT17\",\"KRT14\",\"KLC4\",\"KIF26B\",\"KIAA0753\",\"KIAA0556\",\"KDELC2\",\"ITGA5\",\"IPO8\",\"INTS7\",\"INTS2\",\"INO80\",\"IKBKAP\",\"IER3IP1\",\"HPS4\",\"HOXC10\",\"HMCN1\",\"HIF1AN\",\"HECTD1\",\"HEATR5A\",\"HACE1\",\"GTF3C1\",\"GSK3B\",\"GOSR2\",\"GOLIM4\",\"GOLGA1\",\"GNAI3\",\"GALNT10\",\"FYTTD1\",\"FRMD6\",\"FOXO3\",\"FOCAD\",\"FN1\",\"FGFRL1\",\"FBXO4\",\"FBLN5\",\"FAM160B1\",\"FAM120A\",\"FAM102A\",\"EXT2\",\"EVI5L\",\"ERMP1\",\"ENAH\",\"EML6\",\"EMILIN1\",\"ELP6\",\"ELP3\",\"EIF4G1\",\"EI24\",\"EFNA1\",\"DST\",\"DPM1\",\"DPAGT1\",\"DOCK1\",\"DNAJC21\",\"DNAJC13\",\"DLG1\",\"DCUN1D1\",\"CYB5A\",\"CST6\",\"COL7A1\",\"COL5A3\",\"COL5A2\",\"COL5A1\",\"COL24A1\",\"COL17A1\",\"COL16A1\",\"CNPY4\",\"CLK1\",\"CLCN5\",\"CLCA2\",\"CIZ1\",\"CEP164\",\"CDS2\",\"CDKN2AIPNL\",\"CDK14\",\"CD99\",\"CBL\",\"CAPN9\",\"CAPN13\",\"CAND1\",\"CAMSAP1\",\"CAMK4\",\"CALML3\",\"C5orf51\",\"C4B\",\"C22orf29\",\"C1orf167\",\"C19orf25\",\"BECN1\",\"BCL9L\",\"ATXN3\",\"ATM\",\"ATG4A\",\"ASCC3\",\"ARNT\",\"ARMC9\",\"ARMC5\",\"ARL4C\",\"ARHGEF12\",\"AP2M1\",\"AP2A1\",\"ANXA8L1\",\"ANXA8\",\"ANO10\",\"AGPAT3\",\"ADAMTS12\",\"ACVR1\",\"ACAP2\",\"ABL1\",\"ABCF3\",\"ABCC5\",\"ABCA13\",\"AASDHPPT\"]},\"id\":\"1003\",\"type\":\"FactorRange\"},{\"attributes\":{},\"id\":\"1012\",\"type\":\"CategoricalTicker\"},{\"attributes\":{},\"id\":\"1009\",\"type\":\"CategoricalScale\"},{\"attributes\":{\"callback\":null},\"id\":\"1019\",\"type\":\"HoverTool\"},{\"attributes\":{\"active_drag\":\"auto\",\"active_inspect\":\"auto\",\"active_multi\":null,\"active_scroll\":\"auto\",\"active_tap\":\"auto\",\"tools\":[{\"id\":\"1019\",\"type\":\"HoverTool\"}]},\"id\":\"1020\",\"type\":\"Toolbar\"},{\"attributes\":{\"data_source\":{\"id\":\"1022\",\"type\":\"ColumnDataSource\"},\"glyph\":{\"id\":\"1024\",\"type\":\"Scatter\"},\"hover_glyph\":null,\"muted_glyph\":null,\"nonselection_glyph\":{\"id\":\"1025\",\"type\":\"Scatter\"},\"selection_glyph\":null,\"view\":{\"id\":\"1027\",\"type\":\"CDSView\"}},\"id\":\"1026\",\"type\":\"GlyphRenderer\"},{\"attributes\":{\"callback\":null,\"data\":{\"Difference_In_Median\":{\"__ndarray__\":\"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\",\"dtype\":\"float64\",\"shape\":[690]},\"P_Value\":{\"__ndarray__\":\"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\",\"dtype\":\"float64\",\"shape\":[690]},\"cancer_type\":[\"colon\",\"colon\",\"colon\",\"colon\",\"colon\",\"colon\",\"colon\",\"colon\",\"colon\",\"colon\",\"colon\",\"colon\",\"colon\",\"colon\",\"colon\",\"colon\",\"colon\",\"colon\",\"colon\",\"colon\",\"colon\",\"colon\",\"colon\",\"colon\",\"colon\",\"colon\",\"colon\",\"colon\",\"colon\",\"colon\",\"colon\",\"colon\",\"colon\",\"colon\",\"colon\",\"colon\",\"colon\",\"colon\",\"colon\",\"colon\",\"colon\",\"colon\",\"colon\",\"colon\",\"colon\",\"colon\",\"colon\",\"colon\",\"colon\",\"colon\",\"colon\",\"colon\",\"colon\",\"colon\",\"colon\",\"colon\",\"colon\",\"colon\",\"colon\",\"colon\",\"colon\",\"colon\",\"colon\",\"colon\",\"colon\",\"colon\",\"colon\",\"colon\",\"colon\",\"colon\",\"colon\",\"colon\",\"colon\",\"colon\",\"colon\",\"colon\",\"colon\",\"colon\",\"colon\",\"colon\",\"colon\",\"colon\",\"colon\",\"colon\",\"colon\",\"colon\",\"colon\",\"colon\",\"colon\",\"colon\",\"colon\",\"colon\",\"colon\",\"colon\",\"colon\",\"colon\",\"colon\",\"colon\",\"colon\",\"colon\",\"colon\",\"colon\",\"colon\",\"colon\",\"colon\",\"colon\",\"colon\",\"colon\",\"colon\",\"colon\",\"colon\",\"colon\",\"colon\",\"colon\",\"colon\",\"colon\",\"colon\",\"colon\",\"colon\",\"colon\",\"colon\",\"colon\",\"colon\",\"colon\",\"colon\",\"colon\",\"colon\",\"colon\",\"colon\",\"colon\",\"colon\",\"colon\",\"colon\",\"colon\",\"colon\",\"colon\",\"colon\",\"colon\",\"colon\",\"colon\",\"colon\",\"colon\",\"colon\",\"colon\",\"colon\",\"colon\",\"colon\",\"colon\",\"colon\",\"colon\",\"colon\",\"colon\",\"colon\",\"colon\",\"colon\",\"colon\",\"colon\",\"colon\",\"colon\",\"colon\",\"colon\",\"colon\",\"colon\",\"colon\",\"colon\",\"colon\",\"colon\",\"colon\",\"colon\",\"colon\",\"colon\",\"colon\",\"colon\",\"colon\",\"colon\",\"colon\",\"colon\",\"colon\",\"colon\",\"colon\",\"colon\",\"colon\",\"colon\",\"colon\",\"colon\",\"colon\",\"colon\",\"colon\",\"colon\",\"colon\",\"colon\",\"colon\",\"colon\",\"colon\",\"colon\",\"colon\",\"colon\",\"colon\",\"colon\",\"colon\",\"colon\",\"colon\",\"colon\",\"colon\",\"colon\",\"colon\",\"colon\",\"colon\",\"colon\",\"colon\",\"colon\",\"colon\",\"colon\",\"colon\",\"colon\",\"colon\",\"colon\",\"colon\",\"colon\",\"colon\",\"colon\",\"colon\",\"colon\",\"colon\",\"colon\",\"colon\",\"colon\",\"colon\",\"colon\",\"colon\",\"endo\",\"endo\",\"endo\",\"endo\",\"endo\",\"endo\",\"endo\",\"endo\",\"endo\",\"endo\",\"endo\",\"endo\",\"endo\",\"endo\",\"endo\",\"endo\",\"endo\",\"endo\",\"endo\",\"endo\",\"endo\",\"endo\",\"endo\",\"endo\",\"endo\",\"endo\",\"endo\",\"endo\",\"endo\",\"endo\",\"endo\",\"endo\",\"endo\",\"endo\",\"endo\",\"endo\",\"endo\",\"endo\",\"endo\",\"endo\",\"endo\",\"endo\",\"endo\",\"endo\",\"endo\",\"endo\",\"endo\",\"endo\",\"endo\",\"endo\",\"endo\",\"endo\",\"endo\",\"endo\",\"endo\",\"endo\",\"endo\",\"endo\",\"endo\",\"endo\",\"endo\",\"endo\",\"endo\",\"endo\",\"endo\",\"endo\",\"endo\",\"endo\",\"endo\",\"endo\",\"endo\",\"endo\",\"endo\",\"endo\",\"endo\",\"endo\",\"endo\",\"endo\",\"endo\",\"endo\",\"endo\",\"endo\",\"endo\",\"endo\",\"endo\",\"endo\",\"endo\",\"endo\",\"endo\",\"endo\",\"endo\",\"endo\",\"endo\",\"endo\",\"endo\",\"endo\",\"endo\",\"endo\",\"endo\",\"endo\",\"endo\",\"endo\",\"endo\",\"endo\",\"endo\",\"endo\",\"endo\",\"endo\",\"endo\",\"endo\",\"endo\",\"endo\",\"endo\",\"endo\",\"endo\",\"endo\",\"endo\",\"endo\",\"endo\",\"endo\",\"endo\",\"endo\",\"endo\",\"endo\",\"endo\",\"endo\",\"endo\",\"endo\",\"endo\",\"endo\",\"endo\",\"endo\",\"endo\",\"endo\",\"endo\",\"endo\",\"endo\",\"endo\",\"endo\",\"endo\",\"endo\",\"endo\",\"endo\",\"endo\",\"endo\",\"endo\",\"endo\",\"endo\",\"endo\",\"endo\",\"endo\",\"endo\",\"endo\",\"endo\",\"endo\",\"endo\",\"endo\",\"endo\",\"endo\",\"endo\",\"endo\",\"endo\",\"endo\",\"endo\",\"endo\",\"endo\",\"endo\",\"endo\",\"endo\",\"endo\",\"endo\",\"endo\",\"endo\",\"endo\",\"endo\",\"endo\",\"endo\",\"endo\",\"endo\",\"endo\",\"endo\",\"endo\",\"endo\",\"endo\",\"endo\",\"endo\",\"endo\",\"endo\",\"endo\",\"endo\",\"endo\",\"endo\",\"endo\",\"endo\",\"endo\",\"endo\",\"endo\",\"endo\",\"endo\",\"endo\",\"endo\",\"endo\",\"endo\",\"endo\",\"endo\",\"endo\",\"endo\",\"endo\",\"endo\",\"endo\",\"endo\",\"endo\",\"endo\",\"endo\",\"endo\",\"endo\",\"endo\",\"endo\",\"endo\",\"endo\",\"endo\",\"endo\",\"endo\",\"endo\",\"endo\",\"endo\",\"endo\",\"endo\",\"endo\",\"endo\",\"brca\",\"brca\",\"brca\",\"brca\",\"brca\",\"brca\",\"brca\",\"brca\",\"brca\",\"brca\",\"brca\",\"brca\",\"brca\",\"brca\",\"brca\",\"brca\",\"brca\",\"brca\",\"brca\",\"brca\",\"brca\",\"brca\",\"brca\",\"brca\",\"brca\",\"brca\",\"brca\",\"brca\",\"brca\",\"brca\",\"brca\",\"brca\",\"brca\",\"brca\",\"brca\",\"brca\",\"brca\",\"brca\",\"brca\",\"brca\",\"brca\",\"brca\",\"brca\",\"brca\",\"brca\",\"brca\",\"brca\",\"brca\",\"brca\",\"brca\",\"brca\",\"brca\",\"brca\",\"brca\",\"brca\",\"brca\",\"brca\",\"brca\",\"brca\",\"brca\",\"brca\",\"brca\",\"brca\",\"brca\",\"brca\",\"brca\",\"brca\",\"brca\",\"brca\",\"brca\",\"brca\",\"brca\",\"brca\",\"brca\",\"brca\",\"brca\",\"brca\",\"brca\",\"brca\",\"brca\",\"brca\",\"brca\",\"brca\",\"brca\",\"brca\",\"brca\",\"brca\",\"brca\",\"brca\",\"brca\",\"brca\",\"brca\",\"brca\",\"brca\",\"brca\",\"brca\",\"brca\",\"brca\",\"brca\",\"brca\",\"brca\",\"brca\",\"brca\",\"brca\",\"brca\",\"brca\",\"brca\",\"brca\",\"brca\",\"brca\",\"brca\",\"brca\",\"brca\",\"brca\",\"brca\",\"brca\",\"brca\",\"brca\",\"brca\",\"brca\",\"brca\",\"brca\",\"brca\",\"brca\",\"brca\",\"brca\",\"brca\",\"brca\",\"brca\",\"brca\",\"brca\",\"brca\",\"brca\",\"brca\",\"brca\",\"brca\",\"brca\",\"brca\",\"brca\",\"brca\",\"brca\",\"brca\",\"brca\",\"brca\",\"brca\",\"brca\",\"brca\",\"brca\",\"brca\",\"brca\",\"brca\",\"brca\",\"brca\",\"brca\",\"brca\",\"brca\",\"brca\",\"brca\",\"brca\",\"brca\",\"brca\",\"brca\",\"brca\",\"brca\",\"brca\",\"brca\",\"brca\",\"brca\",\"brca\",\"brca\",\"brca\",\"brca\",\"brca\",\"brca\",\"brca\",\"brca\",\"brca\",\"brca\",\"brca\",\"brca\",\"brca\",\"brca\",\"brca\",\"brca\",\"brca\",\"brca\",\"brca\",\"brca\",\"brca\",\"brca\",\"brca\",\"brca\",\"brca\",\"brca\",\"brca\",\"brca\",\"brca\",\"brca\",\"brca\",\"brca\",\"brca\",\"brca\",\"brca\",\"brca\",\"brca\",\"brca\",\"brca\",\"brca\",\"brca\",\"brca\",\"brca\",\"brca\",\"brca\",\"brca\",\"brca\",\"brca\",\"brca\",\"brca\",\"brca\",\"brca\",\"brca\",\"brca\",\"brca\",\"brca\",\"brca\",\"brca\",\"brca\",\"brca\",\"brca\",\"brca\"],\"comparison\":[\"AASDHPPT\",\"ABCA13\",\"ABCC5\",\"ABCF3\",\"ABL1\",\"ACAP2\",\"ACVR1\",\"ADAMTS12\",\"AGPAT3\",\"ANO10\",\"ANXA8\",\"ANXA8L1\",\"AP2A1\",\"AP2M1\",\"ARHGEF12\",\"ARL4C\",\"ARMC5\",\"ARMC9\",\"ARNT\",\"ASCC3\",\"ATG4A\",\"ATM\",\"ATXN3\",\"BCL9L\",\"BECN1\",\"C19orf25\",\"C1orf167\",\"C22orf29\",\"C4B\",\"C5orf51\",\"CALML3\",\"CAMK4\",\"CAMSAP1\",\"CAND1\",\"CAPN13\",\"CAPN9\",\"CBL\",\"CD99\",\"CDK14\",\"CDKN2AIPNL\",\"CDS2\",\"CEP164\",\"CIZ1\",\"CLCA2\",\"CLCN5\",\"CLK1\",\"CNPY4\",\"COL16A1\",\"COL17A1\",\"COL24A1\",\"COL5A1\",\"COL5A2\",\"COL5A3\",\"COL7A1\",\"CST6\",\"CYB5A\",\"DCUN1D1\",\"DLG1\",\"DNAJC13\",\"DNAJC21\",\"DNAJC21\",\"DOCK1\",\"DPAGT1\",\"DPM1\",\"DST\",\"EFNA1\",\"EI24\",\"EIF4G1\",\"ELP3\",\"ELP6\",\"EMILIN1\",\"EML6\",\"ENAH\",\"ERMP1\",\"EVI5L\",\"EXT2\",\"FAM102A\",\"FAM120A\",\"FAM160B1\",\"FBLN5\",\"FBXO4\",\"FGFRL1\",\"FN1\",\"FOCAD\",\"FOXO3\",\"FRMD6\",\"FYTTD1\",\"GALNT10\",\"GNAI3\",\"GOLGA1\",\"GOLIM4\",\"GOSR2\",\"GSK3B\",\"GTF3C1\",\"HACE1\",\"HEATR5A\",\"HECTD1\",\"HIF1AN\",\"HMCN1\",\"HOXC10\",\"HPS4\",\"IER3IP1\",\"IKBKAP\",\"INO80\",\"INTS2\",\"INTS7\",\"IPO8\",\"ITGA5\",\"KDELC2\",\"KIAA0556\",\"KIAA0753\",\"KIF26B\",\"KLC4\",\"KRT14\",\"KRT17\",\"KRT75\",\"LAGE3\",\"LAMA1\",\"LAMB3\",\"LAMC2\",\"LGALS8\",\"LIMA1\",\"LYST\",\"MAEA\",\"MAPKAPK5\",\"MARCH6\",\"MEX3D\",\"MFAP2\",\"MRC2\",\"MSX2\",\"MTA3\",\"MTRR\",\"MTUS1\",\"MUC5AC\",\"MYO15A\",\"NAT1\",\"NAT14\",\"NBAS\",\"NECTIN1\",\"NFIA\",\"NOXA1\",\"NRDE2\",\"NRK\",\"NTN4\",\"ODF2\",\"P3H1\",\"PAFAH2\",\"PDCD4\",\"PER1\",\"PEX19\",\"PGM2L1\",\"PIGR\",\"PPP1R13L\",\"PRAMEF17\",\"PRRC2B\",\"PRRX1\",\"PRSS8\",\"PSD\",\"PSD2\",\"PSMD5\",\"PTK7\",\"PYGO2\",\"R3HCC1L\",\"RAB20\",\"RAB30\",\"RAB3GAP2\",\"RABEPK\",\"RAP2C\",\"RDH12\",\"REEP6\",\"RFT1\",\"RINT1\",\"RNF185\",\"RPS6KA5\",\"RXRA\",\"RYR1\",\"S100A11\",\"S100A2\",\"SBF2\",\"SCAP\",\"SDF2\",\"SEC16A\",\"SEC23A\",\"SEMA4B\",\"SFN\",\"SH3GLB2\",\"SHC1\",\"SHISA2\",\"SLC12A1\",\"SLITRK1\",\"SMYD3\",\"SNAPC3\",\"SORCS2\",\"SP140L\",\"SPTLC3\",\"SSNA1\",\"STAT2\",\"STK26\",\"STX18\",\"SUFU\",\"SUN2\",\"SURF4\",\"TBC1D20\",\"TBC1D5\",\"TBL1X\",\"TBL1XR1\",\"TGFB3\",\"THY1\",\"TOR1B\",\"TRAF2\",\"TSC1\",\"TTC12\",\"TXNDC16\",\"UBAC2\",\"UBE4A\",\"UBR1\",\"URM1\",\"USP28\",\"USP4\",\"VCAN\",\"VWDE\",\"WDR53\",\"WDR60\",\"WNT5A\",\"YAP1\",\"ZC3H10\",\"ZNF148\",\"ZNF385A\",\"ZNF654\",\"ZW10\",\"AASDHPPT\",\"ABCA13\",\"ABCC5\",\"ABCF3\",\"ABL1\",\"ACAP2\",\"ACVR1\",\"ADAMTS12\",\"AGPAT3\",\"ANO10\",\"ANXA8\",\"ANXA8L1\",\"AP2A1\",\"AP2M1\",\"ARHGEF12\",\"ARL4C\",\"ARMC5\",\"ARMC9\",\"ARNT\",\"ASCC3\",\"ATG4A\",\"ATM\",\"ATXN3\",\"BCL9L\",\"BECN1\",\"C19orf25\",\"C1orf167\",\"C22orf29\",\"C4B\",\"C5orf51\",\"CALML3\",\"CAMK4\",\"CAMSAP1\",\"CAND1\",\"CAPN13\",\"CAPN9\",\"CBL\",\"CD99\",\"CDK14\",\"CDKN2AIPNL\",\"CDS2\",\"CEP164\",\"CIZ1\",\"CLCA2\",\"CLCN5\",\"CLK1\",\"CNPY4\",\"COL16A1\",\"COL17A1\",\"COL24A1\",\"COL5A1\",\"COL5A2\",\"COL5A3\",\"COL7A1\",\"CST6\",\"CYB5A\",\"DCUN1D1\",\"DLG1\",\"DNAJC13\",\"DNAJC21\",\"DNAJC21\",\"DOCK1\",\"DPAGT1\",\"DPM1\",\"DST\",\"EFNA1\",\"EI24\",\"EIF4G1\",\"ELP3\",\"ELP6\",\"EMILIN1\",\"EML6\",\"ENAH\",\"ERMP1\",\"EVI5L\",\"EXT2\",\"FAM102A\",\"FAM120A\",\"FAM160B1\",\"FBLN5\",\"FBXO4\",\"FGFRL1\",\"FN1\",\"FOCAD\",\"FOXO3\",\"FRMD6\",\"FYTTD1\",\"GALNT10\",\"GNAI3\",\"GOLGA1\",\"GOLIM4\",\"GOSR2\",\"GSK3B\",\"GTF3C1\",\"HACE1\",\"HEATR5A\",\"HECTD1\",\"HIF1AN\",\"HMCN1\",\"HOXC10\",\"HPS4\",\"IER3IP1\",\"IKBKAP\",\"INO80\",\"INTS2\",\"INTS7\",\"IPO8\",\"ITGA5\",\"KDELC2\",\"KIAA0556\",\"KIAA0753\",\"KIF26B\",\"KLC4\",\"KRT14\",\"KRT17\",\"KRT75\",\"LAGE3\",\"LAMA1\",\"LAMB3\",\"LAMC2\",\"LGALS8\",\"LIMA1\",\"LYST\",\"MAEA\",\"MAPKAPK5\",\"MARCH6\",\"MEX3D\",\"MFAP2\",\"MRC2\",\"MSX2\",\"MTA3\",\"MTRR\",\"MTUS1\",\"MUC5AC\",\"MYO15A\",\"NAT1\",\"NAT14\",\"NBAS\",\"NECTIN1\",\"NFIA\",\"NOXA1\",\"NRDE2\",\"NRK\",\"NTN4\",\"ODF2\",\"P3H1\",\"PAFAH2\",\"PDCD4\",\"PER1\",\"PEX19\",\"PGM2L1\",\"PIGR\",\"PPP1R13L\",\"PRAMEF17\",\"PRRC2B\",\"PRRX1\",\"PRSS8\",\"PSD\",\"PSD2\",\"PSMD5\",\"PTK7\",\"PYGO2\",\"R3HCC1L\",\"RAB20\",\"RAB30\",\"RAB3GAP2\",\"RABEPK\",\"RAP2C\",\"RDH12\",\"REEP6\",\"RFT1\",\"RINT1\",\"RNF185\",\"RPS6KA5\",\"RXRA\",\"RYR1\",\"S100A11\",\"S100A2\",\"SBF2\",\"SCAP\",\"SDF2\",\"SEC16A\",\"SEC23A\",\"SEMA4B\",\"SFN\",\"SH3GLB2\",\"SHC1\",\"SHISA2\",\"SLC12A1\",\"SLITRK1\",\"SMYD3\",\"SNAPC3\",\"SORCS2\",\"SP140L\",\"SPTLC3\",\"SSNA1\",\"STAT2\",\"STK26\",\"STX18\",\"SUFU\",\"SUN2\",\"SURF4\",\"TBC1D20\",\"TBC1D5\",\"TBL1X\",\"TBL1XR1\",\"TGFB3\",\"THY1\",\"TOR1B\",\"TRAF2\",\"TSC1\",\"TTC12\",\"TXNDC16\",\"UBAC2\",\"UBE4A\",\"UBR1\",\"URM1\",\"USP28\",\"USP4\",\"VCAN\",\"VWDE\",\"WDR53\",\"WDR60\",\"WNT5A\",\"YAP1\",\"ZC3H10\",\"ZNF148\",\"ZNF385A\",\"ZNF654\",\"ZW10\",\"AASDHPPT\",\"ABCA13\",\"ABCC5\",\"ABCF3\",\"ABL1\",\"ACAP2\",\"ACVR1\",\"ADAMTS12\",\"AGPAT3\",\"ANO10\",\"ANXA8\",\"ANXA8L1\",\"AP2A1\",\"AP2M1\",\"ARHGEF12\",\"ARL4C\",\"ARMC5\",\"ARMC9\",\"ARNT\",\"ASCC3\",\"ATG4A\",\"ATM\",\"ATXN3\",\"BCL9L\",\"BECN1\",\"C19orf25\",\"C1orf167\",\"C22orf29\",\"C4B\",\"C5orf51\",\"CALML3\",\"CAMK4\",\"CAMSAP1\",\"CAND1\",\"CAPN13\",\"CAPN9\",\"CBL\",\"CD99\",\"CDK14\",\"CDKN2AIPNL\",\"CDS2\",\"CEP164\",\"CIZ1\",\"CLCA2\",\"CLCN5\",\"CLK1\",\"CNPY4\",\"COL16A1\",\"COL17A1\",\"COL24A1\",\"COL5A1\",\"COL5A2\",\"COL5A3\",\"COL7A1\",\"CST6\",\"CYB5A\",\"DCUN1D1\",\"DLG1\",\"DNAJC13\",\"DNAJC21\",\"DNAJC21\",\"DOCK1\",\"DPAGT1\",\"DPM1\",\"DST\",\"EFNA1\",\"EI24\",\"EIF4G1\",\"ELP3\",\"ELP6\",\"EMILIN1\",\"EML6\",\"ENAH\",\"ERMP1\",\"EVI5L\",\"EXT2\",\"FAM102A\",\"FAM120A\",\"FAM160B1\",\"FBLN5\",\"FBXO4\",\"FGFRL1\",\"FN1\",\"FOCAD\",\"FOXO3\",\"FRMD6\",\"FYTTD1\",\"GALNT10\",\"GNAI3\",\"GOLGA1\",\"GOLIM4\",\"GOSR2\",\"GSK3B\",\"GTF3C1\",\"HACE1\",\"HEATR5A\",\"HECTD1\",\"HIF1AN\",\"HMCN1\",\"HOXC10\",\"HPS4\",\"IER3IP1\",\"IKBKAP\",\"INO80\",\"INTS2\",\"INTS7\",\"IPO8\",\"ITGA5\",\"KDELC2\",\"KIAA0556\",\"KIAA0753\",\"KIF26B\",\"KLC4\",\"KRT14\",\"KRT17\",\"KRT75\",\"LAGE3\",\"LAMA1\",\"LAMB3\",\"LAMC2\",\"LGALS8\",\"LIMA1\",\"LYST\",\"MAEA\",\"MAPKAPK5\",\"MARCH6\",\"MEX3D\",\"MFAP2\",\"MRC2\",\"MSX2\",\"MTA3\",\"MTRR\",\"MTUS1\",\"MUC5AC\",\"MYO15A\",\"NAT1\",\"NAT14\",\"NBAS\",\"NECTIN1\",\"NFIA\",\"NOXA1\",\"NRDE2\",\"NRK\",\"NTN4\",\"ODF2\",\"P3H1\",\"PAFAH2\",\"PDCD4\",\"PER1\",\"PEX19\",\"PGM2L1\",\"PIGR\",\"PPP1R13L\",\"PRAMEF17\",\"PRRC2B\",\"PRRX1\",\"PRSS8\",\"PSD\",\"PSD2\",\"PSMD5\",\"PTK7\",\"PYGO2\",\"R3HCC1L\",\"RAB20\",\"RAB30\",\"RAB3GAP2\",\"RABEPK\",\"RAP2C\",\"RDH12\",\"REEP6\",\"RFT1\",\"RINT1\",\"RNF185\",\"RPS6KA5\",\"RXRA\",\"RYR1\",\"S100A11\",\"S100A2\",\"SBF2\",\"SCAP\",\"SDF2\",\"SEC16A\",\"SEC23A\",\"SEMA4B\",\"SFN\",\"SH3GLB2\",\"SHC1\",\"SHISA2\",\"SLC12A1\",\"SLITRK1\",\"SMYD3\",\"SNAPC3\",\"SORCS2\",\"SP140L\",\"SPTLC3\",\"SSNA1\",\"STAT2\",\"STK26\",\"STX18\",\"SUFU\",\"SUN2\",\"SURF4\",\"TBC1D20\",\"TBC1D5\",\"TBL1X\",\"TBL1XR1\",\"TGFB3\",\"THY1\",\"TOR1B\",\"TRAF2\",\"TSC1\",\"TTC12\",\"TXNDC16\",\"UBAC2\",\"UBE4A\",\"UBR1\",\"URM1\",\"USP28\",\"USP4\",\"VCAN\",\"VWDE\",\"WDR53\",\"WDR60\",\"WNT5A\",\"YAP1\",\"ZC3H10\",\"ZNF148\",\"ZNF385A\",\"ZNF654\",\"ZW10\"],\"index\":[\"AASDHPPT\",\"ABCA13\",\"ABCC5\",\"ABCF3\",\"ABL1\",\"ACAP2\",\"ACVR1\",\"ADAMTS12\",\"AGPAT3\",\"ANO10\",\"ANXA8\",\"ANXA8L1\",\"AP2A1\",\"AP2M1\",\"ARHGEF12\",\"ARL4C\",\"ARMC5\",\"ARMC9\",\"ARNT\",\"ASCC3\",\"ATG4A\",\"ATM\",\"ATXN3\",\"BCL9L\",\"BECN1\",\"C19orf25\",\"C1orf167\",\"C22orf29\",\"C4B\",\"C5orf51\",\"CALML3\",\"CAMK4\",\"CAMSAP1\",\"CAND1\",\"CAPN13\",\"CAPN9\",\"CBL\",\"CD99\",\"CDK14\",\"CDKN2AIPNL\",\"CDS2\",\"CEP164\",\"CIZ1\",\"CLCA2\",\"CLCN5\",\"CLK1\",\"CNPY4\",\"COL16A1\",\"COL17A1\",\"COL24A1\",\"COL5A1\",\"COL5A2\",\"COL5A3\",\"COL7A1\",\"CST6\",\"CYB5A\",\"DCUN1D1\",\"DLG1\",\"DNAJC13\",\"DNAJC21\",\"DNAJC21\",\"DOCK1\",\"DPAGT1\",\"DPM1\",\"DST\",\"EFNA1\",\"EI24\",\"EIF4G1\",\"ELP3\",\"ELP6\",\"EMILIN1\",\"EML6\",\"ENAH\",\"ERMP1\",\"EVI5L\",\"EXT2\",\"FAM102A\",\"FAM120A\",\"FAM160B1\",\"FBLN5\",\"FBXO4\",\"FGFRL1\",\"FN1\",\"FOCAD\",\"FOXO3\",\"FRMD6\",\"FYTTD1\",\"GALNT10\",\"GNAI3\",\"GOLGA1\",\"GOLIM4\",\"GOSR2\",\"GSK3B\",\"GTF3C1\",\"HACE1\",\"HEATR5A\",\"HECTD1\",\"HIF1AN\",\"HMCN1\",\"HOXC10\",\"HPS4\",\"IER3IP1\",\"IKBKAP\",\"INO80\",\"INTS2\",\"INTS7\",\"IPO8\",\"ITGA5\",\"KDELC2\",\"KIAA0556\",\"KIAA0753\",\"KIF26B\",\"KLC4\",\"KRT14\",\"KRT17\",\"KRT75\",\"LAGE3\",\"LAMA1\",\"LAMB3\",\"LAMC2\",\"LGALS8\",\"LIMA1\",\"LYST\",\"MAEA\",\"MAPKAPK5\",\"MARCH6\",\"MEX3D\",\"MFAP2\",\"MRC2\",\"MSX2\",\"MTA3\",\"MTRR\",\"MTUS1\",\"MUC5AC\",\"MYO15A\",\"NAT1\",\"NAT14\",\"NBAS\",\"NECTIN1\",\"NFIA\",\"NOXA1\",\"NRDE2\",\"NRK\",\"NTN4\",\"ODF2\",\"P3H1\",\"PAFAH2\",\"PDCD4\",\"PER1\",\"PEX19\",\"PGM2L1\",\"PIGR\",\"PPP1R13L\",\"PRAMEF17\",\"PRRC2B\",\"PRRX1\",\"PRSS8\",\"PSD\",\"PSD2\",\"PSMD5\",\"PTK7\",\"PYGO2\",\"R3HCC1L\",\"RAB20\",\"RAB30\",\"RAB3GAP2\",\"RABEPK\",\"RAP2C\",\"RDH12\",\"REEP6\",\"RFT1\",\"RINT1\",\"RNF185\",\"RPS6KA5\",\"RXRA\",\"RYR1\",\"S100A11\",\"S100A2\",\"SBF2\",\"SCAP\",\"SDF2\",\"SEC16A\",\"SEC23A\",\"SEMA4B\",\"SFN\",\"SH3GLB2\",\"SHC1\",\"SHISA2\",\"SLC12A1\",\"SLITRK1\",\"SMYD3\",\"SNAPC3\",\"SORCS2\",\"SP140L\",\"SPTLC3\",\"SSNA1\",\"STAT2\",\"STK26\",\"STX18\",\"SUFU\",\"SUN2\",\"SURF4\",\"TBC1D20\",\"TBC1D5\",\"TBL1X\",\"TBL1XR1\",\"TGFB3\",\"THY1\",\"TOR1B\",\"TRAF2\",\"TSC1\",\"TTC12\",\"TXNDC16\",\"UBAC2\",\"UBE4A\",\"UBR1\",\"URM1\",\"USP28\",\"USP4\",\"VCAN\",\"VWDE\",\"WDR53\",\"WDR60\",\"WNT5A\",\"YAP1\",\"ZC3H10\",\"ZNF148\",\"ZNF385A\",\"ZNF654\",\"ZW10\",\"AASDHPPT\",\"ABCA13\",\"ABCC5\",\"ABCF3\",\"ABL1\",\"ACAP2\",\"ACVR1\",\"ADAMTS12\",\"AGPAT3\",\"ANO10\",\"ANXA8\",\"ANXA8L1\",\"AP2A1\",\"AP2M1\",\"ARHGEF12\",\"ARL4C\",\"ARMC5\",\"ARMC9\",\"ARNT\",\"ASCC3\",\"ATG4A\",\"ATM\",\"ATXN3\",\"BCL9L\",\"BECN1\",\"C19orf25\",\"C1orf167\",\"C22orf29\",\"C4B\",\"C5orf51\",\"CALML3\",\"CAMK4\",\"CAMSAP1\",\"CAND1\",\"CAPN13\",\"CAPN9\",\"CBL\",\"CD99\",\"CDK14\",\"CDKN2AIPNL\",\"CDS2\",\"CEP164\",\"CIZ1\",\"CLCA2\",\"CLCN5\",\"CLK1\",\"CNPY4\",\"COL16A1\",\"COL17A1\",\"COL24A1\",\"COL5A1\",\"COL5A2\",\"COL5A3\",\"COL7A1\",\"CST6\",\"CYB5A\",\"DCUN1D1\",\"DLG1\",\"DNAJC13\",\"DNAJC21\",\"DNAJC21\",\"DOCK1\",\"DPAGT1\",\"DPM1\",\"DST\",\"EFNA1\",\"EI24\",\"EIF4G1\",\"ELP3\",\"ELP6\",\"EMILIN1\",\"EML6\",\"ENAH\",\"ERMP1\",\"EVI5L\",\"EXT2\",\"FAM102A\",\"FAM120A\",\"FAM160B1\",\"FBLN5\",\"FBXO4\",\"FGFRL1\",\"FN1\",\"FOCAD\",\"FOXO3\",\"FRMD6\",\"FYTTD1\",\"GALNT10\",\"GNAI3\",\"GOLGA1\",\"GOLIM4\",\"GOSR2\",\"GSK3B\",\"GTF3C1\",\"HACE1\",\"HEATR5A\",\"HECTD1\",\"HIF1AN\",\"HMCN1\",\"HOXC10\",\"HPS4\",\"IER3IP1\",\"IKBKAP\",\"INO80\",\"INTS2\",\"INTS7\",\"IPO8\",\"ITGA5\",\"KDELC2\",\"KIAA0556\",\"KIAA0753\",\"KIF26B\",\"KLC4\",\"KRT14\",\"KRT17\",\"KRT75\",\"LAGE3\",\"LAMA1\",\"LAMB3\",\"LAMC2\",\"LGALS8\",\"LIMA1\",\"LYST\",\"MAEA\",\"MAPKAPK5\",\"MARCH6\",\"MEX3D\",\"MFAP2\",\"MRC2\",\"MSX2\",\"MTA3\",\"MTRR\",\"MTUS1\",\"MUC5AC\",\"MYO15A\",\"NAT1\",\"NAT14\",\"NBAS\",\"NECTIN1\",\"NFIA\",\"NOXA1\",\"NRDE2\",\"NRK\",\"NTN4\",\"ODF2\",\"P3H1\",\"PAFAH2\",\"PDCD4\",\"PER1\",\"PEX19\",\"PGM2L1\",\"PIGR\",\"PPP1R13L\",\"PRAMEF17\",\"PRRC2B\",\"PRRX1\",\"PRSS8\",\"PSD\",\"PSD2\",\"PSMD5\",\"PTK7\",\"PYGO2\",\"R3HCC1L\",\"RAB20\",\"RAB30\",\"RAB3GAP2\",\"RABEPK\",\"RAP2C\",\"RDH12\",\"REEP6\",\"RFT1\",\"RINT1\",\"RNF185\",\"RPS6KA5\",\"RXRA\",\"RYR1\",\"S100A11\",\"S100A2\",\"SBF2\",\"SCAP\",\"SDF2\",\"SEC16A\",\"SEC23A\",\"SEMA4B\",\"SFN\",\"SH3GLB2\",\"SHC1\",\"SHISA2\",\"SLC12A1\",\"SLITRK1\",\"SMYD3\",\"SNAPC3\",\"SORCS2\",\"SP140L\",\"SPTLC3\",\"SSNA1\",\"STAT2\",\"STK26\",\"STX18\",\"SUFU\",\"SUN2\",\"SURF4\",\"TBC1D20\",\"TBC1D5\",\"TBL1X\",\"TBL1XR1\",\"TGFB3\",\"THY1\",\"TOR1B\",\"TRAF2\",\"TSC1\",\"TTC12\",\"TXNDC16\",\"UBAC2\",\"UBE4A\",\"UBR1\",\"URM1\",\"USP28\",\"USP4\",\"VCAN\",\"VWDE\",\"WDR53\",\"WDR60\",\"WNT5A\",\"YAP1\",\"ZC3H10\",\"ZNF148\",\"ZNF385A\",\"ZNF654\",\"ZW10\",\"AASDHPPT\",\"ABCA13\",\"ABCC5\",\"ABCF3\",\"ABL1\",\"ACAP2\",\"ACVR1\",\"ADAMTS12\",\"AGPAT3\",\"ANO10\",\"ANXA8\",\"ANXA8L1\",\"AP2A1\",\"AP2M1\",\"ARHGEF12\",\"ARL4C\",\"ARMC5\",\"ARMC9\",\"ARNT\",\"ASCC3\",\"ATG4A\",\"ATM\",\"ATXN3\",\"BCL9L\",\"BECN1\",\"C19orf25\",\"C1orf167\",\"C22orf29\",\"C4B\",\"C5orf51\",\"CALML3\",\"CAMK4\",\"CAMSAP1\",\"CAND1\",\"CAPN13\",\"CAPN9\",\"CBL\",\"CD99\",\"CDK14\",\"CDKN2AIPNL\",\"CDS2\",\"CEP164\",\"CIZ1\",\"CLCA2\",\"CLCN5\",\"CLK1\",\"CNPY4\",\"COL16A1\",\"COL17A1\",\"COL24A1\",\"COL5A1\",\"COL5A2\",\"COL5A3\",\"COL7A1\",\"CST6\",\"CYB5A\",\"DCUN1D1\",\"DLG1\",\"DNAJC13\",\"DNAJC21\",\"DNAJC21\",\"DOCK1\",\"DPAGT1\",\"DPM1\",\"DST\",\"EFNA1\",\"EI24\",\"EIF4G1\",\"ELP3\",\"ELP6\",\"EMILIN1\",\"EML6\",\"ENAH\",\"ERMP1\",\"EVI5L\",\"EXT2\",\"FAM102A\",\"FAM120A\",\"FAM160B1\",\"FBLN5\",\"FBXO4\",\"FGFRL1\",\"FN1\",\"FOCAD\",\"FOXO3\",\"FRMD6\",\"FYTTD1\",\"GALNT10\",\"GNAI3\",\"GOLGA1\",\"GOLIM4\",\"GOSR2\",\"GSK3B\",\"GTF3C1\",\"HACE1\",\"HEATR5A\",\"HECTD1\",\"HIF1AN\",\"HMCN1\",\"HOXC10\",\"HPS4\",\"IER3IP1\",\"IKBKAP\",\"INO80\",\"INTS2\",\"INTS7\",\"IPO8\",\"ITGA5\",\"KDELC2\",\"KIAA0556\",\"KIAA0753\",\"KIF26B\",\"KLC4\",\"KRT14\",\"KRT17\",\"KRT75\",\"LAGE3\",\"LAMA1\",\"LAMB3\",\"LAMC2\",\"LGALS8\",\"LIMA1\",\"LYST\",\"MAEA\",\"MAPKAPK5\",\"MARCH6\",\"MEX3D\",\"MFAP2\",\"MRC2\",\"MSX2\",\"MTA3\",\"MTRR\",\"MTUS1\",\"MUC5AC\",\"MYO15A\",\"NAT1\",\"NAT14\",\"NBAS\",\"NECTIN1\",\"NFIA\",\"NOXA1\",\"NRDE2\",\"NRK\",\"NTN4\",\"ODF2\",\"P3H1\",\"PAFAH2\",\"PDCD4\",\"PER1\",\"PEX19\",\"PGM2L1\",\"PIGR\",\"PPP1R13L\",\"PRAMEF17\",\"PRRC2B\",\"PRRX1\",\"PRSS8\",\"PSD\",\"PSD2\",\"PSMD5\",\"PTK7\",\"PYGO2\",\"R3HCC1L\",\"RAB20\",\"RAB30\",\"RAB3GAP2\",\"RABEPK\",\"RAP2C\",\"RDH12\",\"REEP6\",\"RFT1\",\"RINT1\",\"RNF185\",\"RPS6KA5\",\"RXRA\",\"RYR1\",\"S100A11\",\"S100A2\",\"SBF2\",\"SCAP\",\"SDF2\",\"SEC16A\",\"SEC23A\",\"SEMA4B\",\"SFN\",\"SH3GLB2\",\"SHC1\",\"SHISA2\",\"SLC12A1\",\"SLITRK1\",\"SMYD3\",\"SNAPC3\",\"SORCS2\",\"SP140L\",\"SPTLC3\",\"SSNA1\",\"STAT2\",\"STK26\",\"STX18\",\"SUFU\",\"SUN2\",\"SURF4\",\"TBC1D20\",\"TBC1D5\",\"TBL1X\",\"TBL1XR1\",\"TGFB3\",\"THY1\",\"TOR1B\",\"TRAF2\",\"TSC1\",\"TTC12\",\"TXNDC16\",\"UBAC2\",\"UBE4A\",\"UBR1\",\"URM1\",\"USP28\",\"USP4\",\"VCAN\",\"VWDE\",\"WDR53\",\"WDR60\",\"WNT5A\",\"YAP1\",\"ZC3H10\",\"ZNF148\",\"ZNF385A\",\"ZNF654\",\"ZW10\"],\"size\":{\"__ndarray__\":\"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\",\"dtype\":\"float64\",\"shape\":[690]},\"size2\":{\"__ndarray__\":\"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\",\"dtype\":\"float64\",\"shape\":[690]}},\"selected\":{\"id\":\"1038\",\"type\":\"Selection\"},\"selection_policy\":{\"id\":\"1039\",\"type\":\"UnionRenderers\"}},\"id\":\"1022\",\"type\":\"ColumnDataSource\"},{\"attributes\":{\"callback\":null,\"factors\":[\"brca\",\"colon\",\"endo\"]},\"id\":\"1002\",\"type\":\"FactorRange\"},{\"attributes\":{\"source\":{\"id\":\"1022\",\"type\":\"ColumnDataSource\"}},\"id\":\"1027\",\"type\":\"CDSView\"},{\"attributes\":{},\"id\":\"1007\",\"type\":\"CategoricalScale\"},{\"attributes\":{\"color_mapper\":{\"id\":\"1001\",\"type\":\"LinearColorMapper\"},\"formatter\":{\"id\":\"1037\",\"type\":\"BasicTickFormatter\"},\"location\":[0,0],\"ticker\":{\"id\":\"1036\",\"type\":\"BasicTicker\"}},\"id\":\"1028\",\"type\":\"ColorBar\"}],\"root_ids\":[\"1004\"]},\"title\":\"Bokeh Application\",\"version\":\"1.2.0\"}};\n",
       "  var render_items = [{\"docid\":\"86a89f27-e4a7-4ad5-b54c-e3d38787af33\",\"roots\":{\"1004\":\"1cc23069-d52f-40a1-a48e-74673ee4923e\"}}];\n",
       "  root.Bokeh.embed.embed_items_notebook(docs_json, render_items);\n",
       "\n",
       "  }\n",
       "  if (root.Bokeh !== undefined) {\n",
       "    embed_document(root);\n",
       "  } else {\n",
       "    var attempts = 0;\n",
       "    var timer = setInterval(function(root) {\n",
       "      if (root.Bokeh !== undefined) {\n",
       "        embed_document(root);\n",
       "        clearInterval(timer);\n",
       "      }\n",
       "      attempts++;\n",
       "      if (attempts > 100) {\n",
       "        console.log(\"Bokeh: ERROR: Unable to run BokehJS code because BokehJS library is missing\");\n",
       "        clearInterval(timer);\n",
       "      }\n",
       "    }, 10, root)\n",
       "  }\n",
       "})(window);"
      ],
      "application/vnd.bokehjs_exec.v0+json": ""
     },
     "metadata": {
      "application/vnd.bokehjs_exec.v0+json": {
       "id": "1004"
      }
     },
     "output_type": "display_data"
    }
   ],
   "source": [
    "plot_utils.plotCircleHeatMap(corr_df, circle_var = 'P_Value', color_var='Difference_In_Median', y_axis= 'comparison', x_axis = 'cancer_type',\n",
    "                   plot_width=700)"
   ]
  }
 ],
 "metadata": {
  "kernelspec": {
   "display_name": "Python 3",
   "language": "python",
   "name": "python3"
  },
  "language_info": {
   "codemirror_mode": {
    "name": "ipython",
    "version": 3
   },
   "file_extension": ".py",
   "mimetype": "text/x-python",
   "name": "python",
   "nbconvert_exporter": "python",
   "pygments_lexer": "ipython3",
   "version": "3.7.3"
  }
 },
 "nbformat": 4,
 "nbformat_minor": 2
}
