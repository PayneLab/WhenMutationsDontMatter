{
 "cells": [
  {
   "cell_type": "markdown",
   "metadata": {},
   "source": [
    "# Make tables: calculate p-values and differential expressions for each cancer "
   ]
  },
  {
   "cell_type": "markdown",
   "metadata": {},
   "source": [
    "Create a dataframe with p-value results from t-tests for all proteins (trans proteomics when PIK3CA has missense mutation compared to PTEN wildtype). The dataframe also includes the change in medians between missense mutation and wildtype."
   ]
  },
  {
   "cell_type": "code",
   "execution_count": 1,
   "metadata": {},
   "outputs": [
    {
     "name": "stderr",
     "output_type": "stream",
     "text": [
      "/Users/Lindsey/anaconda3/lib/python3.7/site-packages/statsmodels/tools/_testing.py:19: FutureWarning: pandas.util.testing is deprecated. Use the functions in the public API at pandas.testing instead.\n",
      "  import pandas.util.testing as tm\n"
     ]
    }
   ],
   "source": [
    "import pandas as pd\n",
    "import numpy as np\n",
    "import seaborn as sns\n",
    "import matplotlib.pyplot as plt\n",
    "import scipy.stats\n",
    "import gseapy as gp\n",
    "import re\n",
    "import sys \n",
    "\n",
    "import cptac\n",
    "import cptac.utils as u\n",
    "import plot_utils as p"
   ]
  },
  {
   "cell_type": "code",
   "execution_count": 2,
   "metadata": {},
   "outputs": [],
   "source": [
    "import warnings\n",
    "warnings.filterwarnings('ignore')"
   ]
  },
  {
   "cell_type": "code",
   "execution_count": 3,
   "metadata": {},
   "outputs": [],
   "source": [
    "'''\n",
    "Params\n",
    "all_prot: list of trans genes\n",
    "utils: from cptac\n",
    "\n",
    "Returns a dataframe with trans proteomics and mutation status (PIK3CA missense or wt)\n",
    "'''\n",
    "\n",
    "def all_prot_format_df(cancer_object, all_prot, gene_in = 'PIK3CA', utils = u):\n",
    "    mut_type = cancer_object.get_genotype_all_vars(gene_in)\n",
    "    \n",
    "    # Keep only tumor samples from proteomics\n",
    "    prot_and_mutations = cancer_object.join_omics_to_mutations(\n",
    "        mutations_genes = [gene_in], omics_df_name = 'proteomics', omics_genes = all_prot,\n",
    "        tissue_type = 'tumor') # drop Normal samples\n",
    "        \n",
    "    # Reduce a multiindex \n",
    "    if isinstance(prot_and_mutations.keys(), pd.core.indexes.multi.MultiIndex):\n",
    "        prot_and_mutations = utils.reduce_multiindex(prot_and_mutations, levels_to_drop = 1) \n",
    "\n",
    "    # Merge Mutation column from get_genotype_all_vars (includes cnv) with proteomics\n",
    "    mut_type = mut_type[['Mutation']] \n",
    "    mut_type[\"Mutation\"] = mut_type['Mutation'].replace(['nonsynonymous SNV'], 'Missense_Mutation')#for colon\n",
    "    prot_df = prot_and_mutations.iloc[:,:-4] # Keep only proteomics\n",
    "    merged = prot_df.join(mut_type)\n",
    "        \n",
    "    # Keep only Wildtype and Missense\n",
    "    compare = ['Wildtype_Tumor','Missense_Mutation']\n",
    "    get = merged['Mutation'].isin(compare)\n",
    "    missense_wt = merged[get]\n",
    "    return missense_wt\n",
    " \n"
   ]
  },
  {
   "cell_type": "code",
   "execution_count": 4,
   "metadata": {},
   "outputs": [],
   "source": [
    "'''\n",
    "Params\n",
    "cancer_object: Object. Variable for the loaded cancer data set.\n",
    "cancer_name: Str. name to add to the created dataframe.\n",
    "del_wt_df: DataFrame. Only samples with deletions and wildtype for PIK3CA. \n",
    "all_prot_list: List. All proteins in proteomics data frame. \n",
    "\n",
    "Returns a dataframe with the difference in medians between proteomics with PIK3CA wt and del (wt - Missense). \n",
    "'''\n",
    "\n",
    "def get_change_in_medians_df(cancer_object, cancer_name, miss_wt_df, all_prot_list):\n",
    "    m = miss_wt_df[miss_wt_df.Mutation == \"Missense_Mutation\"]\n",
    "    wt = miss_wt_df[miss_wt_df.Mutation == \"Wildtype_Tumor\"]\n",
    "    miss_med = m.median()\n",
    "    wt_med = wt.median()\n",
    "\n",
    "    med_dict = {}\n",
    "    \n",
    "    # Correlation: + is mutant up compared to wt, - is mutant down\n",
    "    for prot in all_prot_list:\n",
    "        if prot in miss_med.index and prot in wt_med.index:\n",
    "            dif = miss_med[prot] - wt_med[prot]\n",
    "            med_dict[prot] = dif\n",
    "        \n",
    "    df = pd.DataFrame.from_dict(med_dict, orient='index', columns=[cancer_name+'_Median'])\n",
    "    df = df.reset_index().rename(columns={'index':'Proteomics'})\n",
    "    \n",
    "    return df\n",
    "        "
   ]
  },
  {
   "cell_type": "markdown",
   "metadata": {},
   "source": [
    "#  Step 1: Create data frames with p-values and differential expressions"
   ]
  },
  {
   "cell_type": "markdown",
   "metadata": {},
   "source": [
    "Each cancer needs a data frame containing only samples that have PTEN cnv deletions and PTEN wildtype with trans proteomics. Use wrap_ttest to run t-tests for all genes in the proteomic data frame. Use get_change_in_medians_df to create the data frame with differential expression values. Merge both data frames. "
   ]
  },
  {
   "cell_type": "markdown",
   "metadata": {},
   "source": [
    "Load in cancer data sets from cptac. "
   ]
  },
  {
   "cell_type": "code",
   "execution_count": 5,
   "metadata": {},
   "outputs": [
    {
     "name": "stdout",
     "output_type": "stream",
     "text": [
      "                                                \r"
     ]
    }
   ],
   "source": [
    "\n",
    "en = cptac.Endometrial()\n",
    "col = cptac.Colon()\n",
    "b = cptac.Brca()"
   ]
  },
  {
   "cell_type": "markdown",
   "metadata": {},
   "source": [
    "# Colon"
   ]
  },
  {
   "cell_type": "markdown",
   "metadata": {},
   "source": [
    "Part 1: Format data frame using all_prot_format_df. This returns a dataframe with proteomics and a Mutation column containing only PTEN cnv deletions and wildtype tumors. "
   ]
  },
  {
   "cell_type": "code",
   "execution_count": 6,
   "metadata": {},
   "outputs": [
    {
     "data": {
      "text/html": [
       "<div>\n",
       "<style scoped>\n",
       "    .dataframe tbody tr th:only-of-type {\n",
       "        vertical-align: middle;\n",
       "    }\n",
       "\n",
       "    .dataframe tbody tr th {\n",
       "        vertical-align: top;\n",
       "    }\n",
       "\n",
       "    .dataframe thead th {\n",
       "        text-align: right;\n",
       "    }\n",
       "</style>\n",
       "<table border=\"1\" class=\"dataframe\">\n",
       "  <thead>\n",
       "    <tr style=\"text-align: right;\">\n",
       "      <th>Name</th>\n",
       "      <th>A1BG_proteomics</th>\n",
       "      <th>A1CF_proteomics</th>\n",
       "      <th>A2M_proteomics</th>\n",
       "      <th>AAAS_proteomics</th>\n",
       "      <th>AACS_proteomics</th>\n",
       "      <th>AAGAB_proteomics</th>\n",
       "      <th>AAK1_proteomics</th>\n",
       "      <th>AAMDC_proteomics</th>\n",
       "      <th>AAMP_proteomics</th>\n",
       "      <th>AAR2_proteomics</th>\n",
       "      <th>...</th>\n",
       "      <th>ZNRD1_proteomics</th>\n",
       "      <th>ZNRF2_proteomics</th>\n",
       "      <th>ZPR1_proteomics</th>\n",
       "      <th>ZRANB2_proteomics</th>\n",
       "      <th>ZW10_proteomics</th>\n",
       "      <th>ZWILCH_proteomics</th>\n",
       "      <th>ZWINT_proteomics</th>\n",
       "      <th>ZYX_proteomics</th>\n",
       "      <th>ZZEF1_proteomics</th>\n",
       "      <th>Mutation</th>\n",
       "    </tr>\n",
       "    <tr>\n",
       "      <th>Patient_ID</th>\n",
       "      <th></th>\n",
       "      <th></th>\n",
       "      <th></th>\n",
       "      <th></th>\n",
       "      <th></th>\n",
       "      <th></th>\n",
       "      <th></th>\n",
       "      <th></th>\n",
       "      <th></th>\n",
       "      <th></th>\n",
       "      <th></th>\n",
       "      <th></th>\n",
       "      <th></th>\n",
       "      <th></th>\n",
       "      <th></th>\n",
       "      <th></th>\n",
       "      <th></th>\n",
       "      <th></th>\n",
       "      <th></th>\n",
       "      <th></th>\n",
       "      <th></th>\n",
       "    </tr>\n",
       "  </thead>\n",
       "  <tbody>\n",
       "    <tr>\n",
       "      <th>01CO001</th>\n",
       "      <td>NaN</td>\n",
       "      <td>NaN</td>\n",
       "      <td>NaN</td>\n",
       "      <td>NaN</td>\n",
       "      <td>NaN</td>\n",
       "      <td>NaN</td>\n",
       "      <td>NaN</td>\n",
       "      <td>NaN</td>\n",
       "      <td>NaN</td>\n",
       "      <td>NaN</td>\n",
       "      <td>...</td>\n",
       "      <td>NaN</td>\n",
       "      <td>NaN</td>\n",
       "      <td>NaN</td>\n",
       "      <td>NaN</td>\n",
       "      <td>NaN</td>\n",
       "      <td>NaN</td>\n",
       "      <td>NaN</td>\n",
       "      <td>NaN</td>\n",
       "      <td>NaN</td>\n",
       "      <td>Wildtype_Tumor</td>\n",
       "    </tr>\n",
       "    <tr>\n",
       "      <th>01CO005</th>\n",
       "      <td>-1.10</td>\n",
       "      <td>0.318</td>\n",
       "      <td>-0.487</td>\n",
       "      <td>0.0995</td>\n",
       "      <td>0.1550</td>\n",
       "      <td>0.169</td>\n",
       "      <td>0.0653</td>\n",
       "      <td>-0.147</td>\n",
       "      <td>0.114</td>\n",
       "      <td>0.341</td>\n",
       "      <td>...</td>\n",
       "      <td>NaN</td>\n",
       "      <td>0.0384</td>\n",
       "      <td>0.0221</td>\n",
       "      <td>0.2500</td>\n",
       "      <td>0.0869</td>\n",
       "      <td>0.0331</td>\n",
       "      <td>NaN</td>\n",
       "      <td>-0.733</td>\n",
       "      <td>-0.2650</td>\n",
       "      <td>Wildtype_Tumor</td>\n",
       "    </tr>\n",
       "    <tr>\n",
       "      <th>01CO006</th>\n",
       "      <td>-1.12</td>\n",
       "      <td>-0.441</td>\n",
       "      <td>-0.347</td>\n",
       "      <td>-0.0029</td>\n",
       "      <td>0.0957</td>\n",
       "      <td>0.396</td>\n",
       "      <td>-0.0363</td>\n",
       "      <td>-0.549</td>\n",
       "      <td>0.220</td>\n",
       "      <td>0.248</td>\n",
       "      <td>...</td>\n",
       "      <td>0.324</td>\n",
       "      <td>NaN</td>\n",
       "      <td>-0.3940</td>\n",
       "      <td>0.0846</td>\n",
       "      <td>0.0010</td>\n",
       "      <td>-0.3450</td>\n",
       "      <td>NaN</td>\n",
       "      <td>-0.658</td>\n",
       "      <td>0.0052</td>\n",
       "      <td>Wildtype_Tumor</td>\n",
       "    </tr>\n",
       "    <tr>\n",
       "      <th>01CO013</th>\n",
       "      <td>-1.89</td>\n",
       "      <td>0.112</td>\n",
       "      <td>-0.329</td>\n",
       "      <td>0.6700</td>\n",
       "      <td>0.1160</td>\n",
       "      <td>0.313</td>\n",
       "      <td>-0.2380</td>\n",
       "      <td>-0.274</td>\n",
       "      <td>-0.554</td>\n",
       "      <td>0.270</td>\n",
       "      <td>...</td>\n",
       "      <td>NaN</td>\n",
       "      <td>NaN</td>\n",
       "      <td>-0.0656</td>\n",
       "      <td>-0.2950</td>\n",
       "      <td>0.4630</td>\n",
       "      <td>-0.4480</td>\n",
       "      <td>0.0493</td>\n",
       "      <td>-0.904</td>\n",
       "      <td>-0.1580</td>\n",
       "      <td>Wildtype_Tumor</td>\n",
       "    </tr>\n",
       "    <tr>\n",
       "      <th>01CO015</th>\n",
       "      <td>-1.62</td>\n",
       "      <td>0.263</td>\n",
       "      <td>-0.976</td>\n",
       "      <td>0.5220</td>\n",
       "      <td>-0.2730</td>\n",
       "      <td>0.504</td>\n",
       "      <td>-0.3180</td>\n",
       "      <td>-0.846</td>\n",
       "      <td>0.200</td>\n",
       "      <td>0.530</td>\n",
       "      <td>...</td>\n",
       "      <td>NaN</td>\n",
       "      <td>-0.7300</td>\n",
       "      <td>-0.0554</td>\n",
       "      <td>0.4370</td>\n",
       "      <td>0.0566</td>\n",
       "      <td>0.3840</td>\n",
       "      <td>NaN</td>\n",
       "      <td>-0.258</td>\n",
       "      <td>-0.3430</td>\n",
       "      <td>Wildtype_Tumor</td>\n",
       "    </tr>\n",
       "  </tbody>\n",
       "</table>\n",
       "<p>5 rows × 8067 columns</p>\n",
       "</div>"
      ],
      "text/plain": [
       "Name        A1BG_proteomics  A1CF_proteomics  A2M_proteomics  AAAS_proteomics  \\\n",
       "Patient_ID                                                                      \n",
       "01CO001                 NaN              NaN             NaN              NaN   \n",
       "01CO005               -1.10            0.318          -0.487           0.0995   \n",
       "01CO006               -1.12           -0.441          -0.347          -0.0029   \n",
       "01CO013               -1.89            0.112          -0.329           0.6700   \n",
       "01CO015               -1.62            0.263          -0.976           0.5220   \n",
       "\n",
       "Name        AACS_proteomics  AAGAB_proteomics  AAK1_proteomics  \\\n",
       "Patient_ID                                                       \n",
       "01CO001                 NaN               NaN              NaN   \n",
       "01CO005              0.1550             0.169           0.0653   \n",
       "01CO006              0.0957             0.396          -0.0363   \n",
       "01CO013              0.1160             0.313          -0.2380   \n",
       "01CO015             -0.2730             0.504          -0.3180   \n",
       "\n",
       "Name        AAMDC_proteomics  AAMP_proteomics  AAR2_proteomics  ...  \\\n",
       "Patient_ID                                                      ...   \n",
       "01CO001                  NaN              NaN              NaN  ...   \n",
       "01CO005               -0.147            0.114            0.341  ...   \n",
       "01CO006               -0.549            0.220            0.248  ...   \n",
       "01CO013               -0.274           -0.554            0.270  ...   \n",
       "01CO015               -0.846            0.200            0.530  ...   \n",
       "\n",
       "Name        ZNRD1_proteomics  ZNRF2_proteomics  ZPR1_proteomics  \\\n",
       "Patient_ID                                                        \n",
       "01CO001                  NaN               NaN              NaN   \n",
       "01CO005                  NaN            0.0384           0.0221   \n",
       "01CO006                0.324               NaN          -0.3940   \n",
       "01CO013                  NaN               NaN          -0.0656   \n",
       "01CO015                  NaN           -0.7300          -0.0554   \n",
       "\n",
       "Name        ZRANB2_proteomics  ZW10_proteomics  ZWILCH_proteomics  \\\n",
       "Patient_ID                                                          \n",
       "01CO001                   NaN              NaN                NaN   \n",
       "01CO005                0.2500           0.0869             0.0331   \n",
       "01CO006                0.0846           0.0010            -0.3450   \n",
       "01CO013               -0.2950           0.4630            -0.4480   \n",
       "01CO015                0.4370           0.0566             0.3840   \n",
       "\n",
       "Name        ZWINT_proteomics  ZYX_proteomics  ZZEF1_proteomics        Mutation  \n",
       "Patient_ID                                                                      \n",
       "01CO001                  NaN             NaN               NaN  Wildtype_Tumor  \n",
       "01CO005                  NaN          -0.733           -0.2650  Wildtype_Tumor  \n",
       "01CO006                  NaN          -0.658            0.0052  Wildtype_Tumor  \n",
       "01CO013               0.0493          -0.904           -0.1580  Wildtype_Tumor  \n",
       "01CO015                  NaN          -0.258           -0.3430  Wildtype_Tumor  \n",
       "\n",
       "[5 rows x 8067 columns]"
      ]
     },
     "execution_count": 6,
     "metadata": {},
     "output_type": "execute_result"
    }
   ],
   "source": [
    "gene = 'PIK3CA'\n",
    "col_prot = col.get_proteomics()\n",
    "col_prot = col_prot.drop(columns = 'PIK3CA') # cis effect\n",
    "col_prot_list = list(col_prot.columns)\n",
    "\n",
    "col_miss_wt = all_prot_format_df(col, col_prot_list)\n",
    "col_miss_wt.head()\n"
   ]
  },
  {
   "cell_type": "markdown",
   "metadata": {},
   "source": [
    "Part 2: Run T-tests. Create a data frame of just significant comparisons and another data frame for all comparisons. A moderately stringent correction is used (FDR_BH)."
   ]
  },
  {
   "cell_type": "code",
   "execution_count": 7,
   "metadata": {},
   "outputs": [],
   "source": [
    "col_cols = list(col_miss_wt.columns[:-1])\n",
    "\n",
    "# Get all pvals\n",
    "col_pval = u.wrap_ttest(col_miss_wt, 'Mutation', col_cols, return_all = True, correction_method = 'fdr_bh', mincount = 5, pval_return_corrected=True)\n",
    "col_pval = col_pval.rename(columns = {'Comparison': 'Proteomics','P_Value': 'Colon_P_Value'})"
   ]
  },
  {
   "cell_type": "markdown",
   "metadata": {},
   "source": [
    "Part 3: Create the differential expression df. (median of tumors with PIK3CA wildtype - median of tumors with PIK3CA missense mutation)"
   ]
  },
  {
   "cell_type": "code",
   "execution_count": 10,
   "metadata": {},
   "outputs": [],
   "source": [
    "col_med = get_change_in_medians_df(col, \"Colon\", col_miss_wt, col_cols)\n"
   ]
  },
  {
   "cell_type": "markdown",
   "metadata": {},
   "source": [
    "\n",
    "\n",
    "Part 4: Merge the p-value and differential expression dfs."
   ]
  },
  {
   "cell_type": "code",
   "execution_count": 11,
   "metadata": {},
   "outputs": [
    {
     "data": {
      "text/html": [
       "<div>\n",
       "<style scoped>\n",
       "    .dataframe tbody tr th:only-of-type {\n",
       "        vertical-align: middle;\n",
       "    }\n",
       "\n",
       "    .dataframe tbody tr th {\n",
       "        vertical-align: top;\n",
       "    }\n",
       "\n",
       "    .dataframe thead th {\n",
       "        text-align: right;\n",
       "    }\n",
       "</style>\n",
       "<table border=\"1\" class=\"dataframe\">\n",
       "  <thead>\n",
       "    <tr style=\"text-align: right;\">\n",
       "      <th></th>\n",
       "      <th>Proteomics</th>\n",
       "      <th>Colon_P_Value</th>\n",
       "      <th>Colon_Median</th>\n",
       "    </tr>\n",
       "  </thead>\n",
       "  <tbody>\n",
       "    <tr>\n",
       "      <th>0</th>\n",
       "      <td>ATP6V1D</td>\n",
       "      <td>0.398688</td>\n",
       "      <td>0.3625</td>\n",
       "    </tr>\n",
       "    <tr>\n",
       "      <th>1</th>\n",
       "      <td>ATP6V1E1</td>\n",
       "      <td>0.398688</td>\n",
       "      <td>0.2253</td>\n",
       "    </tr>\n",
       "    <tr>\n",
       "      <th>2</th>\n",
       "      <td>ABHD16A</td>\n",
       "      <td>0.446472</td>\n",
       "      <td>-0.2352</td>\n",
       "    </tr>\n",
       "    <tr>\n",
       "      <th>3</th>\n",
       "      <td>HIBADH</td>\n",
       "      <td>0.446472</td>\n",
       "      <td>-0.4651</td>\n",
       "    </tr>\n",
       "    <tr>\n",
       "      <th>4</th>\n",
       "      <td>OGT</td>\n",
       "      <td>0.542868</td>\n",
       "      <td>0.1172</td>\n",
       "    </tr>\n",
       "  </tbody>\n",
       "</table>\n",
       "</div>"
      ],
      "text/plain": [
       "  Proteomics  Colon_P_Value  Colon_Median\n",
       "0    ATP6V1D       0.398688        0.3625\n",
       "1   ATP6V1E1       0.398688        0.2253\n",
       "2    ABHD16A       0.446472       -0.2352\n",
       "3     HIBADH       0.446472       -0.4651\n",
       "4        OGT       0.542868        0.1172"
      ]
     },
     "execution_count": 11,
     "metadata": {},
     "output_type": "execute_result"
    }
   ],
   "source": [
    "col_merged = col_pval.merge(col_med, on='Proteomics', how='outer')\n",
    "col_merged = col_merged.replace(to_replace = r'_proteomics', value = '', regex = True)\n",
    "\n",
    "# Create csv\n",
    "#en_merged.to_csv('csv/Single_Cancer/Gbm_pval_medians.csv',index=False)\n",
    "col_merged.head()"
   ]
  },
  {
   "cell_type": "markdown",
   "metadata": {},
   "source": [
    "# Repeat for other cancers."
   ]
  },
  {
   "cell_type": "code",
   "execution_count": 12,
   "metadata": {},
   "outputs": [],
   "source": [
    "cancer_objects = { 'Brca':b, 'Endo':en}"
   ]
  },
  {
   "cell_type": "code",
   "execution_count": 13,
   "metadata": {},
   "outputs": [
    {
     "name": "stdout",
     "output_type": "stream",
     "text": [
      "   Proteomics  Brca_P_Value  Brca_Median\n",
      "0     BCL2L13      0.268889      -0.8575\n",
      "1  HSPE1-MOB4      0.268889      -0.9800\n",
      "2       CD320      0.403243      -1.6737\n",
      "3      MRPL38      0.403243      -0.4385\n",
      "4      PTPMT1      0.403243      -0.8060 \n",
      "\n",
      "  Proteomics  Endo_P_Value  Endo_Median\n",
      "0       A1BG      0.999946     0.071000\n",
      "1      PRMT5      0.999946    -0.063500\n",
      "2      PRMT6      0.999946     0.161620\n",
      "3      PRMT7      0.999946    -0.094300\n",
      "4      PRMT9      0.999946    -0.005094 \n",
      "\n"
     ]
    }
   ],
   "source": [
    "import warnings\n",
    "warnings.filterwarnings('ignore')\n",
    "\n",
    "gene = 'PIK3CA'\n",
    "merged_dfs = {}\n",
    "for cancer in cancer_objects:\n",
    "    prot = cancer_objects[cancer].get_proteomics()\n",
    "    prot = prot.drop(columns = 'PIK3CA') # cis effect\n",
    "    \n",
    "    # Reduce a multiindex \n",
    "    if isinstance(prot.keys(), pd.core.indexes.multi.MultiIndex):\n",
    "        prot = u.reduce_multiindex(prot, levels_to_drop = 1)\n",
    "    prot_list = list(prot.columns)\n",
    "    \n",
    "    # Format df for t-test\n",
    "    miss_wt = all_prot_format_df(cancer_objects[cancer], prot_list)\n",
    "    \n",
    "    # Rename duplicate columns (isoforms)\n",
    "    col_names = pd.Series(miss_wt.columns[:])\n",
    "    for dup in col_names[col_names.duplicated()].unique(): \n",
    "        col_names[col_names[col_names == dup].index.values.tolist()] = [dup + '_isoform_' + str(i) if i != 0 else dup for i in range(sum(col_names == dup))]\n",
    "    miss_wt.columns = col_names # rename the columns with the cols list\n",
    "    \n",
    "    # T-test\n",
    "    cols_in = list(miss_wt.columns[:-1])\n",
    "\n",
    "    # Get all pvals\n",
    "    min_num = 5\n",
    "    all_pval = u.wrap_ttest(miss_wt, 'Mutation', cols_in, return_all = True, correction_method = 'fdr_bh', mincount = min_num, pval_return_corrected=True)\n",
    "    all_pval = all_pval.rename(columns = {'Comparison': 'Proteomics','P_Value': cancer+'_P_Value'})\n",
    "    \n",
    "    # Get difference in medians\n",
    "    delta_median_df = get_change_in_medians_df(cancer_objects[cancer], cancer, miss_wt, cols_in)\n",
    "\n",
    "    # Merge pval_df and delta_median_df\n",
    "    pval_medians_df = all_pval.merge(delta_median_df, on='Proteomics', how='outer')\n",
    "    pval_medians_df = pval_medians_df.replace(to_replace = r'_proteomics', value = '', regex = True)\n",
    "    merged_dfs[cancer] = pval_medians_df # testing purposes\n",
    "    \n",
    "    # Create csv\n",
    "    #pval_medians_df.to_csv('csv/Single_Cancer/'+cancer+'_pval_medians.csv', index=False)\n",
    "    print(pval_medians_df.head(), '\\n')"
   ]
  },
  {
   "cell_type": "markdown",
   "metadata": {},
   "source": [
    "# Get number of significant genes in each cancer"
   ]
  },
  {
   "cell_type": "code",
   "execution_count": 14,
   "metadata": {},
   "outputs": [],
   "source": [
    "# Add colon to merged_dfs dictionary\n",
    "merged_dfs['Colon'] = col_merged\n"
   ]
  },
  {
   "cell_type": "code",
   "execution_count": 15,
   "metadata": {},
   "outputs": [
    {
     "name": "stdout",
     "output_type": "stream",
     "text": [
      "Brca sig comparisons: 0\n",
      "Endo sig comparisons: 0\n",
      "Colon sig comparisons: 0\n",
      "\n",
      "Number of significant comparisons in at least 1 cancer: 0\n"
     ]
    }
   ],
   "source": [
    "# Using corrected pvals from wrap_ttest, each cancer's cutoff is 0.05\n",
    "all_sig = []\n",
    "\n",
    "for cancer in merged_dfs:\n",
    "    df = merged_dfs[cancer]\n",
    "    sig_df = df.loc[df[cancer+'_P_Value'] < 0.05]\n",
    "    print(cancer, 'sig comparisons:', len(sig_df))\n",
    "    sig_list = list(sig_df['Proteomics'])\n",
    "    all_sig.append(sig_list)\n",
    "        \n",
    "\n",
    "flat_list = [item for sublist in all_sig for item in sublist] #change list of lists, to just one list\n",
    "sig = list(set(flat_list)) # keep only one if gene in multiple cancer sig lists\n",
    "print('\\nNumber of significant comparisons in at least 1 cancer:', len(sig))"
   ]
  },
  {
   "cell_type": "code",
   "execution_count": 16,
   "metadata": {},
   "outputs": [],
   "source": [
    "# check"
   ]
  },
  {
   "cell_type": "code",
   "execution_count": 17,
   "metadata": {},
   "outputs": [],
   "source": [
    "# check"
   ]
  },
  {
   "cell_type": "code",
   "execution_count": null,
   "metadata": {},
   "outputs": [],
   "source": []
  }
 ],
 "metadata": {
  "kernelspec": {
   "display_name": "Python 3",
   "language": "python",
   "name": "python3"
  },
  "language_info": {
   "codemirror_mode": {
    "name": "ipython",
    "version": 3
   },
   "file_extension": ".py",
   "mimetype": "text/x-python",
   "name": "python",
   "nbconvert_exporter": "python",
   "pygments_lexer": "ipython3",
   "version": "3.7.3"
  }
 },
 "nbformat": 4,
 "nbformat_minor": 2
}
