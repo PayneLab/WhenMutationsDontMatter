{
 "cells": [
  {
   "cell_type": "markdown",
   "metadata": {},
   "source": [
    "# Make tables: calculate p-values and differential expressions for each cancer "
   ]
  },
  {
   "cell_type": "markdown",
   "metadata": {},
   "source": [
    "Create a dataframe with p-value results from t-tests for all proteins (trans proteomics when PTEN has cnv deletions compared to PTEN wildtype). The dataframe also includes the change in medians between deletions and wildtype. Prepare these tables for further analysis by creating csv files."
   ]
  },
  {
   "cell_type": "code",
   "execution_count": 1,
   "metadata": {},
   "outputs": [
    {
     "name": "stderr",
     "output_type": "stream",
     "text": [
      "/Users/Lindsey/anaconda3/lib/python3.7/site-packages/statsmodels/tools/_testing.py:19: FutureWarning: pandas.util.testing is deprecated. Use the functions in the public API at pandas.testing instead.\n",
      "  import pandas.util.testing as tm\n",
      "cptac warning: Your version of cptac (0.8.1) is out-of-date. Latest is 0.8.2. Please run 'pip install --upgrade cptac' to update it. (/Users/Lindsey/anaconda3/lib/python3.7/site-packages/ipykernel_launcher.py, line 10)\n"
     ]
    }
   ],
   "source": [
    "import pandas as pd\n",
    "import numpy as np\n",
    "import seaborn as sns\n",
    "import matplotlib.pyplot as plt\n",
    "import scipy.stats\n",
    "import gseapy as gp\n",
    "import re\n",
    "import sys \n",
    "\n",
    "import cptac\n",
    "import cptac.utils as u\n",
    "import plot_utils as p"
   ]
  },
  {
   "cell_type": "code",
   "execution_count": 2,
   "metadata": {},
   "outputs": [],
   "source": [
    "import warnings\n",
    "warnings.filterwarnings('ignore')"
   ]
  },
  {
   "cell_type": "code",
   "execution_count": 3,
   "metadata": {},
   "outputs": [],
   "source": [
    "'''\n",
    "Params\n",
    "all_prot: list of trans genes\n",
    "utils: from cptac\n",
    "\n",
    "Returns a dataframe with trans proteomics and mutation status (PTEN deletion or wt)\n",
    "'''\n",
    "\n",
    "def all_prot_format_df(cancer_object, all_prot, gene_in = 'PTEN', utils = u):\n",
    "    mut_type = cancer_object.get_genotype_all_vars(gene_in)\n",
    "    \n",
    "    if cancer_object.get_cancer_type() not in ('luad'):\n",
    "        # Keep only tumor samples from proteomics\n",
    "        prot_and_mutations = cancer_object.join_omics_to_mutations(\n",
    "            mutations_genes = [gene_in], omics_df_name = 'proteomics', omics_genes = all_prot,\n",
    "            tissue_type = 'tumor') # drop Normal samples\n",
    "        \n",
    "        # Reduce a multiindex \n",
    "        if isinstance(prot_and_mutations.keys(), pd.core.indexes.multi.MultiIndex):\n",
    "            prot_and_mutations = utils.reduce_multiindex(prot_and_mutations, levels_to_drop = 1) \n",
    "\n",
    "        # Merge Mutation column from get_genotype_all_vars (includes cnv) with proteomics\n",
    "        mut_type = mut_type[['Mutation']] \n",
    "        prot_df = prot_and_mutations.iloc[:,:-4] # Keep only proteomics\n",
    "        merged = prot_df.join(mut_type)\n",
    "        \n",
    "        # Keep only Wildtype and deletion\n",
    "        compare = ['Wildtype_Tumor','Deletion']\n",
    "        get = merged['Mutation'].isin(compare)\n",
    "        del_wt = merged[get]\n",
    "    \n",
    "    \n",
    "    # Luad has no somatic mutations for PTEN which changes some things\n",
    "    else: \n",
    "        # get_genotype_all_vars add cnv data under the column PTEN\n",
    "        mut_type = mut_type.drop(columns= gene_in)\n",
    "        # different code because no somatic mutation data for pten (can't join to somatic mutations)\n",
    "        omics = cancer_object.join_omics_to_omics(df1_name = 'CNV', df2_name = 'proteomics', genes1 = gene_in, \n",
    "            genes2 = all_prot, tissue_type = 'tumor') # Get only tumor samples\n",
    "        omics = utils.reduce_multiindex(omics, levels_to_drop = 1, flatten = True)\n",
    "        omics = omics.drop(columns = 'PTEN_CNV')\n",
    "        \n",
    "        # Merge Mutation column from get_genotype_all_vars (includes cnv) with proteomics\n",
    "        merged = omics.join(mut_type) \n",
    "        \n",
    "        # Keep only No_Mutation (wildtype) and deletion\n",
    "        compare = ['No_Mutation','Deletion']\n",
    "        get = merged['Mutation'].isin(compare)\n",
    "        del_wt = merged[get]\n",
    "        del_wt['Mutation'] = np.where(\n",
    "            del_wt['Mutation'] == 'No_Mutation', 'Wildtype_Tumor', 'Deletion')\n",
    "\n",
    "    return del_wt\n"
   ]
  },
  {
   "cell_type": "code",
   "execution_count": 4,
   "metadata": {},
   "outputs": [],
   "source": [
    "'''\n",
    "Params\n",
    "cancer_object: Object. Variable for the loaded cancer data set.\n",
    "cancer_name: Str. name to add to the created dataframe.\n",
    "del_wt_df: DataFrame. Only samples with deletions and wildtype for PTEN. \n",
    "all_prot_list: List. All proteins in proteomics data frame. \n",
    "\n",
    "Returns a dataframe with the difference in medians between proteomics with PTEN wt and del (wt - del). \n",
    "'''\n",
    "\n",
    "def get_change_in_medians_df(cancer_object, cancer_name, del_wt_df, all_prot_list):\n",
    "    d = del_wt_df[del_wt_df.Mutation == \"Deletion\"]\n",
    "    wt = del_wt_df[del_wt_df.Mutation == \"Wildtype_Tumor\"]\n",
    "    del_med = d.median()\n",
    "    wt_med = wt.median()\n",
    "\n",
    "    med_dict = {}\n",
    "    \n",
    "    # Correlation: + is mutant up compared to wt, - is mutant down\n",
    "    for prot in all_prot_list:\n",
    "        if prot in del_med.index and prot in wt_med.index:\n",
    "            dif = del_med[prot] - wt_med[prot]\n",
    "            med_dict[prot] = dif\n",
    "        \n",
    "    df = pd.DataFrame.from_dict(med_dict, orient='index', columns=[cancer_name+'_Median'])\n",
    "    df = df.reset_index().rename(columns={'index':'Proteomics'})\n",
    "    \n",
    "    return df\n",
    "        "
   ]
  },
  {
   "cell_type": "markdown",
   "metadata": {},
   "source": [
    "#  Step 1: Create data frames with p-values and differential expressions"
   ]
  },
  {
   "cell_type": "markdown",
   "metadata": {},
   "source": [
    "Each cancer needs a data frame containing only samples that have PTEN cnv deletions and PTEN wildtype with trans proteomics. Use wrap_ttest to run t-tests for all genes in the proteomic data frame. Use get_change_in_medians_df to create the data frame with differential expression values. Merge both data frames. "
   ]
  },
  {
   "cell_type": "markdown",
   "metadata": {},
   "source": [
    "Load in cancer data sets from cptac. "
   ]
  },
  {
   "cell_type": "code",
   "execution_count": 5,
   "metadata": {},
   "outputs": [
    {
     "name": "stdout",
     "output_type": "stream",
     "text": [
      "version 3scc v3.2.......                        \n",
      "                                            \r"
     ]
    }
   ],
   "source": [
    "g = cptac.Gbm()\n",
    "en = cptac.Endometrial()\n",
    "h = cptac.Hnscc()\n",
    "l = cptac.Luad()\n",
    "ls = cptac.Lscc()\n",
    "o = cptac.Ovarian()\n",
    "col = cptac.Colon()\n",
    "b = cptac.Brca()"
   ]
  },
  {
   "cell_type": "markdown",
   "metadata": {},
   "source": [
    "# Gbm"
   ]
  },
  {
   "cell_type": "markdown",
   "metadata": {},
   "source": [
    "Part 1: Format data frame using all_prot_format_df. This returns a dataframe with proteomics and a Mutation column containing only PTEN cnv deletions and wildtype tumors. "
   ]
  },
  {
   "cell_type": "code",
   "execution_count": 6,
   "metadata": {},
   "outputs": [
    {
     "data": {
      "text/html": [
       "<div>\n",
       "<style scoped>\n",
       "    .dataframe tbody tr th:only-of-type {\n",
       "        vertical-align: middle;\n",
       "    }\n",
       "\n",
       "    .dataframe tbody tr th {\n",
       "        vertical-align: top;\n",
       "    }\n",
       "\n",
       "    .dataframe thead th {\n",
       "        text-align: right;\n",
       "    }\n",
       "</style>\n",
       "<table border=\"1\" class=\"dataframe\">\n",
       "  <thead>\n",
       "    <tr style=\"text-align: right;\">\n",
       "      <th>Name</th>\n",
       "      <th>A1BG_proteomics</th>\n",
       "      <th>A2M_proteomics</th>\n",
       "      <th>AAAS_proteomics</th>\n",
       "      <th>AACS_proteomics</th>\n",
       "      <th>AADAT_proteomics</th>\n",
       "      <th>AAED1_proteomics</th>\n",
       "      <th>AAGAB_proteomics</th>\n",
       "      <th>AAK1_proteomics</th>\n",
       "      <th>AAMDC_proteomics</th>\n",
       "      <th>AAMP_proteomics</th>\n",
       "      <th>...</th>\n",
       "      <th>ZSWIM8_proteomics</th>\n",
       "      <th>ZW10_proteomics</th>\n",
       "      <th>ZWILCH_proteomics</th>\n",
       "      <th>ZWINT_proteomics</th>\n",
       "      <th>ZXDC_proteomics</th>\n",
       "      <th>ZYG11B_proteomics</th>\n",
       "      <th>ZYX_proteomics</th>\n",
       "      <th>ZZEF1_proteomics</th>\n",
       "      <th>ZZZ3_proteomics</th>\n",
       "      <th>Mutation</th>\n",
       "    </tr>\n",
       "    <tr>\n",
       "      <th>Patient_ID</th>\n",
       "      <th></th>\n",
       "      <th></th>\n",
       "      <th></th>\n",
       "      <th></th>\n",
       "      <th></th>\n",
       "      <th></th>\n",
       "      <th></th>\n",
       "      <th></th>\n",
       "      <th></th>\n",
       "      <th></th>\n",
       "      <th></th>\n",
       "      <th></th>\n",
       "      <th></th>\n",
       "      <th></th>\n",
       "      <th></th>\n",
       "      <th></th>\n",
       "      <th></th>\n",
       "      <th></th>\n",
       "      <th></th>\n",
       "      <th></th>\n",
       "      <th></th>\n",
       "    </tr>\n",
       "  </thead>\n",
       "  <tbody>\n",
       "    <tr>\n",
       "      <th>C3L-00104</th>\n",
       "      <td>0.077630</td>\n",
       "      <td>0.487228</td>\n",
       "      <td>-0.254208</td>\n",
       "      <td>-0.144373</td>\n",
       "      <td>0.551881</td>\n",
       "      <td>-0.025276</td>\n",
       "      <td>-0.467451</td>\n",
       "      <td>-0.089511</td>\n",
       "      <td>-0.078806</td>\n",
       "      <td>0.329603</td>\n",
       "      <td>...</td>\n",
       "      <td>-0.047437</td>\n",
       "      <td>-0.105908</td>\n",
       "      <td>-0.347076</td>\n",
       "      <td>NaN</td>\n",
       "      <td>0.459635</td>\n",
       "      <td>0.079452</td>\n",
       "      <td>-0.784983</td>\n",
       "      <td>-0.488441</td>\n",
       "      <td>0.167990</td>\n",
       "      <td>Deletion</td>\n",
       "    </tr>\n",
       "    <tr>\n",
       "      <th>C3L-00365</th>\n",
       "      <td>-0.145975</td>\n",
       "      <td>0.798796</td>\n",
       "      <td>0.184242</td>\n",
       "      <td>-0.470603</td>\n",
       "      <td>NaN</td>\n",
       "      <td>0.390211</td>\n",
       "      <td>0.245466</td>\n",
       "      <td>-0.609998</td>\n",
       "      <td>0.118625</td>\n",
       "      <td>-0.086927</td>\n",
       "      <td>...</td>\n",
       "      <td>0.161975</td>\n",
       "      <td>-0.213093</td>\n",
       "      <td>0.235571</td>\n",
       "      <td>NaN</td>\n",
       "      <td>0.107421</td>\n",
       "      <td>0.048724</td>\n",
       "      <td>0.138403</td>\n",
       "      <td>-0.290141</td>\n",
       "      <td>0.405037</td>\n",
       "      <td>Deletion</td>\n",
       "    </tr>\n",
       "    <tr>\n",
       "      <th>C3L-00674</th>\n",
       "      <td>0.821991</td>\n",
       "      <td>1.096470</td>\n",
       "      <td>-0.094421</td>\n",
       "      <td>-0.106304</td>\n",
       "      <td>0.084578</td>\n",
       "      <td>0.176402</td>\n",
       "      <td>-0.248151</td>\n",
       "      <td>0.014061</td>\n",
       "      <td>-0.699773</td>\n",
       "      <td>-0.638462</td>\n",
       "      <td>...</td>\n",
       "      <td>-0.065534</td>\n",
       "      <td>-0.306717</td>\n",
       "      <td>0.879991</td>\n",
       "      <td>NaN</td>\n",
       "      <td>0.883564</td>\n",
       "      <td>-0.172222</td>\n",
       "      <td>0.011876</td>\n",
       "      <td>-0.131889</td>\n",
       "      <td>-0.503581</td>\n",
       "      <td>Deletion</td>\n",
       "    </tr>\n",
       "    <tr>\n",
       "      <th>C3L-00677</th>\n",
       "      <td>-0.064567</td>\n",
       "      <td>0.129385</td>\n",
       "      <td>0.047751</td>\n",
       "      <td>-0.118187</td>\n",
       "      <td>0.237434</td>\n",
       "      <td>NaN</td>\n",
       "      <td>0.303847</td>\n",
       "      <td>0.322163</td>\n",
       "      <td>-0.555479</td>\n",
       "      <td>-0.363414</td>\n",
       "      <td>...</td>\n",
       "      <td>-0.254535</td>\n",
       "      <td>0.463653</td>\n",
       "      <td>0.580230</td>\n",
       "      <td>0.503044</td>\n",
       "      <td>-0.604986</td>\n",
       "      <td>0.178077</td>\n",
       "      <td>-0.720059</td>\n",
       "      <td>-0.150197</td>\n",
       "      <td>-0.268715</td>\n",
       "      <td>Deletion</td>\n",
       "    </tr>\n",
       "    <tr>\n",
       "      <th>C3L-01040</th>\n",
       "      <td>-0.763691</td>\n",
       "      <td>-1.031834</td>\n",
       "      <td>-0.217194</td>\n",
       "      <td>-0.695701</td>\n",
       "      <td>0.184173</td>\n",
       "      <td>-0.474816</td>\n",
       "      <td>-0.051789</td>\n",
       "      <td>0.344842</td>\n",
       "      <td>-0.642746</td>\n",
       "      <td>0.068863</td>\n",
       "      <td>...</td>\n",
       "      <td>-0.092502</td>\n",
       "      <td>0.010639</td>\n",
       "      <td>-0.465079</td>\n",
       "      <td>NaN</td>\n",
       "      <td>-0.500083</td>\n",
       "      <td>0.112651</td>\n",
       "      <td>1.004660</td>\n",
       "      <td>-0.230304</td>\n",
       "      <td>-0.102416</td>\n",
       "      <td>Deletion</td>\n",
       "    </tr>\n",
       "  </tbody>\n",
       "</table>\n",
       "<p>5 rows × 11141 columns</p>\n",
       "</div>"
      ],
      "text/plain": [
       "Name        A1BG_proteomics  A2M_proteomics  AAAS_proteomics  AACS_proteomics  \\\n",
       "Patient_ID                                                                      \n",
       "C3L-00104          0.077630        0.487228        -0.254208        -0.144373   \n",
       "C3L-00365         -0.145975        0.798796         0.184242        -0.470603   \n",
       "C3L-00674          0.821991        1.096470        -0.094421        -0.106304   \n",
       "C3L-00677         -0.064567        0.129385         0.047751        -0.118187   \n",
       "C3L-01040         -0.763691       -1.031834        -0.217194        -0.695701   \n",
       "\n",
       "Name        AADAT_proteomics  AAED1_proteomics  AAGAB_proteomics  \\\n",
       "Patient_ID                                                         \n",
       "C3L-00104           0.551881         -0.025276         -0.467451   \n",
       "C3L-00365                NaN          0.390211          0.245466   \n",
       "C3L-00674           0.084578          0.176402         -0.248151   \n",
       "C3L-00677           0.237434               NaN          0.303847   \n",
       "C3L-01040           0.184173         -0.474816         -0.051789   \n",
       "\n",
       "Name        AAK1_proteomics  AAMDC_proteomics  AAMP_proteomics  ...  \\\n",
       "Patient_ID                                                      ...   \n",
       "C3L-00104         -0.089511         -0.078806         0.329603  ...   \n",
       "C3L-00365         -0.609998          0.118625        -0.086927  ...   \n",
       "C3L-00674          0.014061         -0.699773        -0.638462  ...   \n",
       "C3L-00677          0.322163         -0.555479        -0.363414  ...   \n",
       "C3L-01040          0.344842         -0.642746         0.068863  ...   \n",
       "\n",
       "Name        ZSWIM8_proteomics  ZW10_proteomics  ZWILCH_proteomics  \\\n",
       "Patient_ID                                                          \n",
       "C3L-00104           -0.047437        -0.105908          -0.347076   \n",
       "C3L-00365            0.161975        -0.213093           0.235571   \n",
       "C3L-00674           -0.065534        -0.306717           0.879991   \n",
       "C3L-00677           -0.254535         0.463653           0.580230   \n",
       "C3L-01040           -0.092502         0.010639          -0.465079   \n",
       "\n",
       "Name        ZWINT_proteomics  ZXDC_proteomics  ZYG11B_proteomics  \\\n",
       "Patient_ID                                                         \n",
       "C3L-00104                NaN         0.459635           0.079452   \n",
       "C3L-00365                NaN         0.107421           0.048724   \n",
       "C3L-00674                NaN         0.883564          -0.172222   \n",
       "C3L-00677           0.503044        -0.604986           0.178077   \n",
       "C3L-01040                NaN        -0.500083           0.112651   \n",
       "\n",
       "Name        ZYX_proteomics  ZZEF1_proteomics  ZZZ3_proteomics  Mutation  \n",
       "Patient_ID                                                               \n",
       "C3L-00104        -0.784983         -0.488441         0.167990  Deletion  \n",
       "C3L-00365         0.138403         -0.290141         0.405037  Deletion  \n",
       "C3L-00674         0.011876         -0.131889        -0.503581  Deletion  \n",
       "C3L-00677        -0.720059         -0.150197        -0.268715  Deletion  \n",
       "C3L-01040         1.004660         -0.230304        -0.102416  Deletion  \n",
       "\n",
       "[5 rows x 11141 columns]"
      ]
     },
     "execution_count": 6,
     "metadata": {},
     "output_type": "execute_result"
    }
   ],
   "source": [
    "gene = 'PTEN'\n",
    "g_prot = g.get_proteomics()\n",
    "g_prot = g_prot.drop(columns = 'PTEN') # cis effect\n",
    "g_prot_list = list(g_prot.columns)\n",
    "\n",
    "g_del_wt = all_prot_format_df(g, g_prot_list)\n",
    "g_del_wt.head()"
   ]
  },
  {
   "cell_type": "markdown",
   "metadata": {},
   "source": [
    "Part 2: Run T-tests. Create a data frame of just significant comparisons and another data frame for all comparisons. A moderately stringent correction is used (FDR_BH)."
   ]
  },
  {
   "cell_type": "code",
   "execution_count": 7,
   "metadata": {},
   "outputs": [
    {
     "ename": "TypeError",
     "evalue": "wrap_ttest() got an unexpected keyword argument 'mincount'",
     "output_type": "error",
     "traceback": [
      "\u001b[0;31m---------------------------------------------------------------------------\u001b[0m",
      "\u001b[0;31mTypeError\u001b[0m                                 Traceback (most recent call last)",
      "\u001b[0;32m<ipython-input-7-1550b2d7de64>\u001b[0m in \u001b[0;36m<module>\u001b[0;34m\u001b[0m\n\u001b[1;32m      2\u001b[0m \u001b[0;34m\u001b[0m\u001b[0m\n\u001b[1;32m      3\u001b[0m \u001b[0;31m# Get all pvals\u001b[0m\u001b[0;34m\u001b[0m\u001b[0;34m\u001b[0m\u001b[0;34m\u001b[0m\u001b[0m\n\u001b[0;32m----> 4\u001b[0;31m \u001b[0mg_pval\u001b[0m \u001b[0;34m=\u001b[0m \u001b[0mu\u001b[0m\u001b[0;34m.\u001b[0m\u001b[0mwrap_ttest\u001b[0m\u001b[0;34m(\u001b[0m\u001b[0mg_del_wt\u001b[0m\u001b[0;34m,\u001b[0m \u001b[0;34m'Mutation'\u001b[0m\u001b[0;34m,\u001b[0m \u001b[0mg_cols\u001b[0m\u001b[0;34m,\u001b[0m \u001b[0mreturn_all\u001b[0m \u001b[0;34m=\u001b[0m \u001b[0;32mTrue\u001b[0m\u001b[0;34m,\u001b[0m \u001b[0mcorrection_method\u001b[0m \u001b[0;34m=\u001b[0m \u001b[0;34m'fdr_bh'\u001b[0m\u001b[0;34m,\u001b[0m \u001b[0mmincount\u001b[0m \u001b[0;34m=\u001b[0m \u001b[0;36m5\u001b[0m\u001b[0;34m)\u001b[0m\u001b[0;34m\u001b[0m\u001b[0;34m\u001b[0m\u001b[0m\n\u001b[0m\u001b[1;32m      5\u001b[0m \u001b[0mg_pval\u001b[0m \u001b[0;34m=\u001b[0m \u001b[0mg_pval\u001b[0m\u001b[0;34m.\u001b[0m\u001b[0mrename\u001b[0m\u001b[0;34m(\u001b[0m\u001b[0mcolumns\u001b[0m \u001b[0;34m=\u001b[0m \u001b[0;34m{\u001b[0m\u001b[0;34m'Comparison'\u001b[0m\u001b[0;34m:\u001b[0m \u001b[0;34m'Proteomics'\u001b[0m\u001b[0;34m,\u001b[0m\u001b[0;34m'P_Value'\u001b[0m\u001b[0;34m:\u001b[0m \u001b[0;34m'Gbm_P_Value'\u001b[0m\u001b[0;34m}\u001b[0m\u001b[0;34m)\u001b[0m\u001b[0;34m\u001b[0m\u001b[0;34m\u001b[0m\u001b[0m\n",
      "\u001b[0;31mTypeError\u001b[0m: wrap_ttest() got an unexpected keyword argument 'mincount'"
     ]
    }
   ],
   "source": [
    "g_cols = list(g_del_wt.columns[:-1])\n",
    "\n",
    "# Get all pvals\n",
    "g_pval = u.wrap_ttest(g_del_wt, 'Mutation', g_cols, return_all = True, correction_method = 'fdr_bh', mincount = 5)\n",
    "g_pval = g_pval.rename(columns = {'Comparison': 'Proteomics','P_Value': 'Gbm_P_Value'})"
   ]
  },
  {
   "cell_type": "markdown",
   "metadata": {},
   "source": [
    "Part 3: Create the differential expression df. (median of tumors with PTEN wildtype - median of tumors with PTEN cnv deletions)"
   ]
  },
  {
   "cell_type": "code",
   "execution_count": null,
   "metadata": {},
   "outputs": [],
   "source": [
    "g_med = get_change_in_medians_df(g, \"Gbm\", g_del_wt, g_cols)"
   ]
  },
  {
   "cell_type": "markdown",
   "metadata": {},
   "source": [
    "Part 4: Merge the p-value and differential expression dfs."
   ]
  },
  {
   "cell_type": "code",
   "execution_count": null,
   "metadata": {},
   "outputs": [],
   "source": [
    "g_merged = g_pval.merge(g_med, on='Proteomics', how='outer')\n",
    "g_merged = g_merged.replace(to_replace = r'_proteomics', value = '', regex = True)\n",
    "\n",
    "# Create csv\n",
    "g_merged.to_csv('csv/Single_Cancer/Gbm_pval_medians.csv',index=False)\n",
    "g_merged.head()"
   ]
  },
  {
   "cell_type": "markdown",
   "metadata": {},
   "source": [
    "# Repeat for other cancers."
   ]
  },
  {
   "cell_type": "code",
   "execution_count": null,
   "metadata": {},
   "outputs": [],
   "source": [
    "cancer_objects = {'Hnscc':h, 'Luad':l, 'Lscc':ls, 'Brca':b, 'Colon':col, 'Ov':o}"
   ]
  },
  {
   "cell_type": "code",
   "execution_count": null,
   "metadata": {},
   "outputs": [],
   "source": [
    "import warnings\n",
    "warnings.filterwarnings('ignore')\n",
    "\n",
    "gene = 'PTEN'\n",
    "merged_dfs = {}\n",
    "for cancer in cancer_objects:\n",
    "    prot = cancer_objects[cancer].get_proteomics()\n",
    "    prot = prot.drop(columns = 'PTEN') # cis effect\n",
    "    \n",
    "    # Reduce a multiindex \n",
    "    if isinstance(prot.keys(), pd.core.indexes.multi.MultiIndex):\n",
    "        prot = u.reduce_multiindex(prot, levels_to_drop = 1)\n",
    "    prot_list = list(prot.columns)\n",
    "    \n",
    "    # Format df for t-test\n",
    "    del_wt = all_prot_format_df(cancer_objects[cancer], prot_list)\n",
    "    \n",
    "    # Rename duplicate columns (isoforms)\n",
    "    col_names = pd.Series(del_wt.columns[:])\n",
    "    for dup in col_names[col_names.duplicated()].unique(): \n",
    "        col_names[col_names[col_names == dup].index.values.tolist()] = [dup + '_isoform_' + str(i) if i != 0 else dup for i in range(sum(col_names == dup))]\n",
    "    del_wt.columns = col_names # rename the columns with the cols list\n",
    "    \n",
    "    # T-test\n",
    "    cols_in = list(del_wt.columns[:-1])\n",
    "\n",
    "    # Get all pvals\n",
    "    min_num = 5\n",
    "    all_pval = u.wrap_ttest(del_wt, 'Mutation', cols_in, return_all = True, correction_method = 'fdr_bh', mincount = min_num)\n",
    "    all_pval = all_pval.rename(columns = {'Comparison': 'Proteomics','P_Value': cancer+'_P_Value'})\n",
    "    \n",
    "    # Get difference in medians\n",
    "    delta_median_df = get_change_in_medians_df(cancer_objects[cancer], cancer, del_wt, cols_in)\n",
    "\n",
    "    # Merge pval_df and delta_median_df\n",
    "    pval_medians_df = all_pval.merge(delta_median_df, on='Proteomics', how='outer')\n",
    "    pval_medians_df = pval_medians_df.replace(to_replace = r'_proteomics', value = '', regex = True)\n",
    "    merged_dfs[cancer] = pval_medians_df # testing purposes\n",
    "    \n",
    "    # Create csv\n",
    "    pval_medians_df.to_csv('csv/Single_Cancer/'+cancer+'_pval_medians.csv', index=False)\n",
    "    print(pval_medians_df.head(), '\\n')"
   ]
  },
  {
   "cell_type": "markdown",
   "metadata": {},
   "source": [
    "# Endometrial"
   ]
  },
  {
   "cell_type": "markdown",
   "metadata": {},
   "source": [
    "The Endometrial data set does not have enough cnv deletions to perform a t-test, however the data set does have enough truncation type mutations (nonsense and frameshift). Different code is needed to create the data frame for Endometrial."
   ]
  },
  {
   "cell_type": "code",
   "execution_count": null,
   "metadata": {},
   "outputs": [],
   "source": [
    "gene = 'PTEN'\n",
    "prot = en.get_proteomics()\n",
    "prot = prot.drop(columns = 'PTEN')\n",
    "e_prot_list = list(prot.columns)\n",
    "\n",
    "mut_type = en.get_genotype_all_vars(gene)\n",
    "\n",
    "# merge cnv with genotype all mut type\n",
    "prot_and_mutations = en.join_omics_to_mutations(\n",
    "    mutations_genes = [gene], omics_df_name = 'proteomics', omics_genes = e_prot_list)\n",
    "prot_and_mutations = prot_and_mutations[prot_and_mutations.Sample_Status == \"Tumor\"] # drop Normal samples\n",
    "ip_df = prot_and_mutations.iloc[:,:-4] #drop mutation, location cols\n",
    "mut_type = mut_type[['Mutation']] \n",
    "merged = ip_df.join(mut_type) # merge mutation col from function (includes cnv)\n",
    "\n",
    "# Keep two values to compare\n",
    "compare = ['Wildtype_Tumor','Nonsense_Mutation','Frame_Shift_Ins','Frame_Shift_Del']\n",
    "get = merged['Mutation'].isin(compare)\n",
    "trunc_wt = merged[get]\n",
    "trunc_wt['Mutation'] = np.where(\n",
    "                trunc_wt['Mutation'] == 'Wildtype_Tumor', 'Wildtype_Tumor', 'Truncation')"
   ]
  },
  {
   "cell_type": "code",
   "execution_count": null,
   "metadata": {},
   "outputs": [],
   "source": [
    "e_cols = list(trunc_wt.columns[:-1])\n",
    "\n",
    "# Get all pvals\n",
    "e_pval = u.wrap_ttest(trunc_wt, 'Mutation', e_cols, return_all = True, correction_method = 'fdr_bh', mincount = 5)\n",
    "e_pval = e_pval.rename(columns = {'Comparison': 'Proteomics','P_Value': 'En_P_Value'})"
   ]
  },
  {
   "cell_type": "markdown",
   "metadata": {},
   "source": [
    "Differential expression with adaption for trunctation mutations."
   ]
  },
  {
   "cell_type": "code",
   "execution_count": null,
   "metadata": {},
   "outputs": [],
   "source": [
    "t = trunc_wt[trunc_wt.Mutation == \"Truncation\"]\n",
    "wt = trunc_wt[trunc_wt.Mutation == \"Wildtype_Tumor\"]\n",
    "trunc_med = t.median()\n",
    "wt_med = wt.median()\n",
    "\n",
    "en_d = {}\n",
    "\n",
    "for prot in e_cols:\n",
    "    if prot in trunc_med.index and prot in wt_med.index:\n",
    "        dif = trunc_med[prot] - wt_med[prot]\n",
    "        en_d[prot] = dif\n",
    "\n",
    "en_med = pd.DataFrame.from_dict(en_d, orient='index', columns=['En_Median'])\n",
    "en_med = en_med.reset_index().rename(columns={'index':'Proteomics'})"
   ]
  },
  {
   "cell_type": "code",
   "execution_count": null,
   "metadata": {},
   "outputs": [],
   "source": [
    "e_merged = e_pval.merge(en_med, on='Proteomics',how='outer')\n",
    "e_merged = e_merged.replace(to_replace = r'_proteomics', value = '', regex = True)\n",
    "\n",
    "# Create csv\n",
    "e_merged.to_csv('csv/Single_Cancer/En_pval_medians.csv',index=False)\n",
    "e_merged.head()"
   ]
  },
  {
   "cell_type": "markdown",
   "metadata": {},
   "source": [
    "# Get number of significant genes in each cancer"
   ]
  },
  {
   "cell_type": "code",
   "execution_count": null,
   "metadata": {},
   "outputs": [],
   "source": [
    "# Add Gbm and En to merged_dfs dictionary\n",
    "merged_dfs['Gbm'] = g_merged\n",
    "merged_dfs['En'] = e_merged"
   ]
  },
  {
   "cell_type": "code",
   "execution_count": null,
   "metadata": {},
   "outputs": [],
   "source": [
    "# Using corrected pvals from wrap_ttest, each cancer's cutoff is 0.05\n",
    "all_sig = []\n",
    "\n",
    "for cancer in merged_dfs:\n",
    "    df = merged_dfs[cancer]\n",
    "    sig_df = df.loc[df[cancer+'_P_Value'] < 0.05]\n",
    "    print(cancer, 'sig comparisons:', len(sig_df))\n",
    "    sig_list = list(sig_df['Proteomics'])\n",
    "    all_sig.append(sig_list)\n",
    "        \n",
    "\n",
    "flat_list = [item for sublist in all_sig for item in sublist] #change list of lists, to just one list\n",
    "sig = list(set(flat_list)) # keep only one if gene in multiple cancer sig lists\n",
    "print('\\nNumber of significant comparisons in at least 1 cancer:', len(sig))"
   ]
  },
  {
   "cell_type": "code",
   "execution_count": null,
   "metadata": {},
   "outputs": [],
   "source": [
    "# check"
   ]
  },
  {
   "cell_type": "code",
   "execution_count": null,
   "metadata": {},
   "outputs": [],
   "source": [
    "# check\n",
    "lu = merged_dfs['Luad']\n",
    "len(lu.Proteomics.unique())\n",
    "sl = lu.loc[lu['Luad_P_Value'] < 0.05]\n",
    "list(sl.Proteomics)\n",
    "lu.loc[lu['Proteomics'] == 'PIK3R1_isoform_1'] #ITGAL_isoform_1, PIK3R1_isoform_1, RABGAP1L_isoform_1"
   ]
  },
  {
   "cell_type": "code",
   "execution_count": null,
   "metadata": {},
   "outputs": [],
   "source": [
    "# check\n",
    "pr = all_prot_format_df(l, all_prot = ['RABGAP1L'])\n",
    "\n",
    "col_names = pd.Series(pr.columns)\n",
    "\n",
    "for dup in col_names[col_names.duplicated()].unique(): \n",
    "    col_names[col_names[col_names == dup].index.values.tolist()] = [dup + '_isoform_' + str(i) if i != 0 else dup for i in range(sum(col_names == dup))]\n",
    "pr.columns = col_names # rename the columns with the cols list\n",
    "\n",
    "pr = pr[['RABGAP1L_proteomics_isoform_1', 'Mutation']]\n",
    "delt = pr.loc[pr['Mutation'] == 'Deletion']\n",
    "wt = pr.loc[pr['Mutation'] != 'Deletion']\n",
    "\n",
    "dm = float(delt.median())\n",
    "wtm = float(wt.median())\n",
    "\n",
    "\n",
    "print(dm, '-', wtm, '=', dm - wtm)\n",
    "\n"
   ]
  },
  {
   "cell_type": "code",
   "execution_count": null,
   "metadata": {},
   "outputs": [],
   "source": [
    "# check"
   ]
  },
  {
   "cell_type": "markdown",
   "metadata": {},
   "source": [
    "# Get a list of significant genes in at least one cancer"
   ]
  },
  {
   "cell_type": "code",
   "execution_count": null,
   "metadata": {},
   "outputs": [],
   "source": [
    "s = pd.Series(sig)\n",
    "print('Number of significant genes in at least one cancer:', len(s))\n",
    "s.to_csv('csv/list_sig_one_cancer.csv', index=False)"
   ]
  },
  {
   "cell_type": "markdown",
   "metadata": {},
   "source": [
    "# Get a list of significant genes in multiple cancers"
   ]
  },
  {
   "cell_type": "code",
   "execution_count": null,
   "metadata": {},
   "outputs": [],
   "source": [
    "# sig in multiple cancers\n",
    "mult = list(set(i for i in flat_list if flat_list.count(i) > 1)) # Keep genes sig in more than 1 cancer\n",
    "print('Number of significant genes in mult cancers:', len(mult))"
   ]
  },
  {
   "cell_type": "code",
   "execution_count": null,
   "metadata": {},
   "outputs": [],
   "source": [
    "m = pd.Series(mult)\n",
    "m = m.replace(to_replace = r'_proteomics$', value = '', regex = True)\n",
    "m.to_csv('csv/list_sig_multiple_cancers.csv', index=False)"
   ]
  },
  {
   "cell_type": "code",
   "execution_count": null,
   "metadata": {},
   "outputs": [],
   "source": []
  }
 ],
 "metadata": {
  "kernelspec": {
   "display_name": "Python 3",
   "language": "python",
   "name": "python3"
  },
  "language_info": {
   "codemirror_mode": {
    "name": "ipython",
    "version": 3
   },
   "file_extension": ".py",
   "mimetype": "text/x-python",
   "name": "python",
   "nbconvert_exporter": "python",
   "pygments_lexer": "ipython3",
   "version": "3.7.3"
  }
 },
 "nbformat": 4,
 "nbformat_minor": 2
}
