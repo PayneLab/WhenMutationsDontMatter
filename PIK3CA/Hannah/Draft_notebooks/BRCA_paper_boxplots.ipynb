{
 "cells": [
  {
   "cell_type": "markdown",
   "metadata": {},
   "source": [
    "# Make boxplot for BRCA phosphosite"
   ]
  },
  {
   "cell_type": "code",
   "execution_count": 1,
   "metadata": {},
   "outputs": [
    {
     "name": "stderr",
     "output_type": "stream",
     "text": [
      "/Users/Lindsey/anaconda3/lib/python3.7/site-packages/statsmodels/tools/_testing.py:19: FutureWarning: pandas.util.testing is deprecated. Use the functions in the public API at pandas.testing instead.\n",
      "  import pandas.util.testing as tm\n"
     ]
    }
   ],
   "source": [
    "import pandas as pd\n",
    "import numpy as np\n",
    "import seaborn as sns\n",
    "import matplotlib.pyplot as plt\n",
    "import scipy.stats\n",
    "import re\n",
    "import statsmodels.stats.multitest\n",
    "import operator\n",
    "import cptac.utils as u"
   ]
  },
  {
   "cell_type": "code",
   "execution_count": 2,
   "metadata": {},
   "outputs": [],
   "source": [
    "sup18 = pd.read_csv(\"~/Documents/CPTAC_BC_SupplementaryTable18.csv\")\n",
    "sup18[\"phospho_site\"] =  sup18[\"RefSeq\"] + \"_\" + sup18[\"Phosphosite\"]\n",
    "sup18 = sup18[[\"Gene Name\",\"FDR<5% PIK3CA mutation markers in all tumors and luminal tumors only (upregulated in mutated tumors)\", \"phospho_site\",\"RefSeq\"]]\n",
    "sup18 = sup18.rename(columns = {\"FDR<5% PIK3CA mutation markers in all tumors and luminal tumors only (upregulated in mutated tumors)\" : \"Significant\", \"Gene Name\" : \"Gene_Name\"})\n",
    "\n",
    "#sup18 = sup18.replace(r' ', \"_\", regex = True)\n",
    "#sup18"
   ]
  },
  {
   "cell_type": "code",
   "execution_count": null,
   "metadata": {},
   "outputs": [],
   "source": []
  },
  {
   "cell_type": "code",
   "execution_count": 3,
   "metadata": {},
   "outputs": [],
   "source": [
    "sup18_T = sup18.loc[sup18[\"Significant\"] == True]\n",
    "sup18_T = sup18_T.set_index(\"phospho_site\")\n",
    "#sup18_T"
   ]
  },
  {
   "cell_type": "markdown",
   "metadata": {},
   "source": [
    "# Get phosphoproteomic data from paper"
   ]
  },
  {
   "cell_type": "code",
   "execution_count": 4,
   "metadata": {},
   "outputs": [],
   "source": [
    "df = pd.read_csv(\"~/Documents/CPTAC_BC_SupplementaryTable04.csv\")\n",
    "cols = [0,1,2,3,4,5,6,7,8,9,10,11,12,14,15,16,17,18,19,20,21,22,23,24,27]\n",
    "df = df.drop(df.columns[cols],axis=1)\n",
    "df[\"phospho_site\"] =  df[\"accession_number\"] + \"_\" + df[\"variableSites\"]\n",
    "df2 = df.set_index(\"phospho_site\")\n",
    "#df2"
   ]
  },
  {
   "cell_type": "code",
   "execution_count": 5,
   "metadata": {},
   "outputs": [],
   "source": [
    "df62 = pd.merge(sup18_T, df2, on = \"phospho_site\", how = \"inner\")\n",
    "df62.columns = df62.columns.str.replace(r'...TCGA', \"\", regex = True)\n",
    "df62[\"Gene_Psite\"] =  df62[\"Gene_Name\"] + \"_\" + df62[\"variableSites\"]\n",
    "df62 = df62.set_index(\"Gene_Psite\")\n",
    "#df62.head()"
   ]
  },
  {
   "cell_type": "code",
   "execution_count": 6,
   "metadata": {},
   "outputs": [],
   "source": [
    "cols = [\"Significant\",\"RefSeq\",\"accession_number\",\"geneName\",\"Gene_Name\",\"variableSites\"]\n",
    "df62 = df62.drop(cols, axis = 1) \n",
    "#df62.head()"
   ]
  },
  {
   "cell_type": "code",
   "execution_count": null,
   "metadata": {},
   "outputs": [],
   "source": []
  },
  {
   "cell_type": "code",
   "execution_count": 7,
   "metadata": {},
   "outputs": [
    {
     "data": {
      "text/html": [
       "<div>\n",
       "<style scoped>\n",
       "    .dataframe tbody tr th:only-of-type {\n",
       "        vertical-align: middle;\n",
       "    }\n",
       "\n",
       "    .dataframe tbody tr th {\n",
       "        vertical-align: top;\n",
       "    }\n",
       "\n",
       "    .dataframe thead th {\n",
       "        text-align: right;\n",
       "    }\n",
       "</style>\n",
       "<table border=\"1\" class=\"dataframe\">\n",
       "  <thead>\n",
       "    <tr style=\"text-align: right;\">\n",
       "      <th>Gene_Psite</th>\n",
       "      <th>FAM184B_S976s</th>\n",
       "      <th>TRIM28_S489s</th>\n",
       "      <th>ARHGEF35_S450s</th>\n",
       "      <th>RPS6KA5_S212s</th>\n",
       "      <th>EIF2AK4_S572s</th>\n",
       "      <th>SRRT_S136s</th>\n",
       "      <th>BCL9_S441s</th>\n",
       "      <th>TP53BP1_S899s</th>\n",
       "      <th>FAM21A_S836s</th>\n",
       "      <th>MAPT_S726sT731t</th>\n",
       "      <th>...</th>\n",
       "      <th>FAM83H_S1024s</th>\n",
       "      <th>WIZ_S289sS294s</th>\n",
       "      <th>DTNBP1_S11s</th>\n",
       "      <th>C1ORF174_S28s</th>\n",
       "      <th>RBM5_S18s</th>\n",
       "      <th>INTS1_S13s</th>\n",
       "      <th>RBM10_S596s</th>\n",
       "      <th>KCTD1_S617sS620s</th>\n",
       "      <th>TAF3_S199s</th>\n",
       "      <th>PRR12_S386s</th>\n",
       "    </tr>\n",
       "    <tr>\n",
       "      <th>Sample ID</th>\n",
       "      <th></th>\n",
       "      <th></th>\n",
       "      <th></th>\n",
       "      <th></th>\n",
       "      <th></th>\n",
       "      <th></th>\n",
       "      <th></th>\n",
       "      <th></th>\n",
       "      <th></th>\n",
       "      <th></th>\n",
       "      <th></th>\n",
       "      <th></th>\n",
       "      <th></th>\n",
       "      <th></th>\n",
       "      <th></th>\n",
       "      <th></th>\n",
       "      <th></th>\n",
       "      <th></th>\n",
       "      <th></th>\n",
       "      <th></th>\n",
       "      <th></th>\n",
       "    </tr>\n",
       "  </thead>\n",
       "  <tbody>\n",
       "    <tr>\n",
       "      <th>AO-A12D</th>\n",
       "      <td>-4.916841</td>\n",
       "      <td>-2.624999</td>\n",
       "      <td>-0.017487</td>\n",
       "      <td>0.157644</td>\n",
       "      <td>-0.162349</td>\n",
       "      <td>-0.895306</td>\n",
       "      <td>1.418158</td>\n",
       "      <td>-0.270455</td>\n",
       "      <td>1.491670</td>\n",
       "      <td>-0.596934</td>\n",
       "      <td>...</td>\n",
       "      <td>-0.380722</td>\n",
       "      <td>2.190033</td>\n",
       "      <td>-0.011001</td>\n",
       "      <td>-0.843415</td>\n",
       "      <td>-0.367750</td>\n",
       "      <td>NaN</td>\n",
       "      <td>NaN</td>\n",
       "      <td>-0.780714</td>\n",
       "      <td>-2.134198</td>\n",
       "      <td>-1.223948</td>\n",
       "    </tr>\n",
       "    <tr>\n",
       "      <th>C8-A131</th>\n",
       "      <td>-2.966657</td>\n",
       "      <td>0.519513</td>\n",
       "      <td>0.365749</td>\n",
       "      <td>0.965682</td>\n",
       "      <td>-0.836640</td>\n",
       "      <td>1.011056</td>\n",
       "      <td>2.261338</td>\n",
       "      <td>0.980807</td>\n",
       "      <td>2.319315</td>\n",
       "      <td>-3.125463</td>\n",
       "      <td>...</td>\n",
       "      <td>2.619281</td>\n",
       "      <td>1.684090</td>\n",
       "      <td>1.195069</td>\n",
       "      <td>1.429497</td>\n",
       "      <td>1.227838</td>\n",
       "      <td>NaN</td>\n",
       "      <td>NaN</td>\n",
       "      <td>0.385914</td>\n",
       "      <td>-0.776142</td>\n",
       "      <td>0.176694</td>\n",
       "    </tr>\n",
       "    <tr>\n",
       "      <th>AO-A12B</th>\n",
       "      <td>-2.954333</td>\n",
       "      <td>-1.597210</td>\n",
       "      <td>-0.562710</td>\n",
       "      <td>0.026429</td>\n",
       "      <td>-1.160616</td>\n",
       "      <td>-0.859032</td>\n",
       "      <td>-1.181656</td>\n",
       "      <td>0.278918</td>\n",
       "      <td>-0.904621</td>\n",
       "      <td>-0.560956</td>\n",
       "      <td>...</td>\n",
       "      <td>0.015909</td>\n",
       "      <td>-1.371022</td>\n",
       "      <td>0.471791</td>\n",
       "      <td>-1.132561</td>\n",
       "      <td>-1.483239</td>\n",
       "      <td>NaN</td>\n",
       "      <td>NaN</td>\n",
       "      <td>0.263137</td>\n",
       "      <td>-2.068872</td>\n",
       "      <td>-1.453432</td>\n",
       "    </tr>\n",
       "    <tr>\n",
       "      <th>E2-A10A</th>\n",
       "      <td>-1.798008</td>\n",
       "      <td>1.724957</td>\n",
       "      <td>0.282548</td>\n",
       "      <td>-0.107248</td>\n",
       "      <td>NaN</td>\n",
       "      <td>-0.957562</td>\n",
       "      <td>-0.720724</td>\n",
       "      <td>2.945330</td>\n",
       "      <td>1.488119</td>\n",
       "      <td>-0.200996</td>\n",
       "      <td>...</td>\n",
       "      <td>0.025973</td>\n",
       "      <td>-4.562762</td>\n",
       "      <td>-0.074354</td>\n",
       "      <td>-3.620344</td>\n",
       "      <td>-3.924615</td>\n",
       "      <td>-2.360498</td>\n",
       "      <td>1.057205</td>\n",
       "      <td>-0.342441</td>\n",
       "      <td>0.022684</td>\n",
       "      <td>-1.283214</td>\n",
       "    </tr>\n",
       "    <tr>\n",
       "      <th>BH-A18Q</th>\n",
       "      <td>-3.448592</td>\n",
       "      <td>-0.394081</td>\n",
       "      <td>-1.379211</td>\n",
       "      <td>-1.706914</td>\n",
       "      <td>NaN</td>\n",
       "      <td>-1.496537</td>\n",
       "      <td>-1.413600</td>\n",
       "      <td>-0.731897</td>\n",
       "      <td>-1.033303</td>\n",
       "      <td>-4.629940</td>\n",
       "      <td>...</td>\n",
       "      <td>-0.723806</td>\n",
       "      <td>-2.083165</td>\n",
       "      <td>2.480397</td>\n",
       "      <td>-0.938229</td>\n",
       "      <td>-1.336731</td>\n",
       "      <td>-1.150629</td>\n",
       "      <td>-1.237611</td>\n",
       "      <td>-0.764263</td>\n",
       "      <td>-1.348868</td>\n",
       "      <td>-1.138491</td>\n",
       "    </tr>\n",
       "  </tbody>\n",
       "</table>\n",
       "<p>5 rows × 62 columns</p>\n",
       "</div>"
      ],
      "text/plain": [
       "Gene_Psite  FAM184B_S976s  TRIM28_S489s  ARHGEF35_S450s  RPS6KA5_S212s  \\\n",
       "Sample ID                                                                \n",
       "AO-A12D         -4.916841     -2.624999       -0.017487       0.157644   \n",
       "C8-A131         -2.966657      0.519513        0.365749       0.965682   \n",
       "AO-A12B         -2.954333     -1.597210       -0.562710       0.026429   \n",
       "E2-A10A         -1.798008      1.724957        0.282548      -0.107248   \n",
       "BH-A18Q         -3.448592     -0.394081       -1.379211      -1.706914   \n",
       "\n",
       "Gene_Psite  EIF2AK4_S572s  SRRT_S136s  BCL9_S441s  TP53BP1_S899s  \\\n",
       "Sample ID                                                          \n",
       "AO-A12D         -0.162349   -0.895306    1.418158      -0.270455   \n",
       "C8-A131         -0.836640    1.011056    2.261338       0.980807   \n",
       "AO-A12B         -1.160616   -0.859032   -1.181656       0.278918   \n",
       "E2-A10A               NaN   -0.957562   -0.720724       2.945330   \n",
       "BH-A18Q               NaN   -1.496537   -1.413600      -0.731897   \n",
       "\n",
       "Gene_Psite  FAM21A_S836s  MAPT_S726sT731t  ...  FAM83H_S1024s  WIZ_S289sS294s  \\\n",
       "Sample ID                                  ...                                  \n",
       "AO-A12D         1.491670        -0.596934  ...      -0.380722        2.190033   \n",
       "C8-A131         2.319315        -3.125463  ...       2.619281        1.684090   \n",
       "AO-A12B        -0.904621        -0.560956  ...       0.015909       -1.371022   \n",
       "E2-A10A         1.488119        -0.200996  ...       0.025973       -4.562762   \n",
       "BH-A18Q        -1.033303        -4.629940  ...      -0.723806       -2.083165   \n",
       "\n",
       "Gene_Psite  DTNBP1_S11s  C1ORF174_S28s  RBM5_S18s  INTS1_S13s  RBM10_S596s  \\\n",
       "Sample ID                                                                    \n",
       "AO-A12D       -0.011001      -0.843415  -0.367750         NaN          NaN   \n",
       "C8-A131        1.195069       1.429497   1.227838         NaN          NaN   \n",
       "AO-A12B        0.471791      -1.132561  -1.483239         NaN          NaN   \n",
       "E2-A10A       -0.074354      -3.620344  -3.924615   -2.360498     1.057205   \n",
       "BH-A18Q        2.480397      -0.938229  -1.336731   -1.150629    -1.237611   \n",
       "\n",
       "Gene_Psite  KCTD1_S617sS620s  TAF3_S199s  PRR12_S386s  \n",
       "Sample ID                                              \n",
       "AO-A12D            -0.780714   -2.134198    -1.223948  \n",
       "C8-A131             0.385914   -0.776142     0.176694  \n",
       "AO-A12B             0.263137   -2.068872    -1.453432  \n",
       "E2-A10A            -0.342441    0.022684    -1.283214  \n",
       "BH-A18Q            -0.764263   -1.348868    -1.138491  \n",
       "\n",
       "[5 rows x 62 columns]"
      ]
     },
     "execution_count": 7,
     "metadata": {},
     "output_type": "execute_result"
    }
   ],
   "source": [
    "df2 = df62.T\n",
    "df2.index.names = ['Sample ID']\n",
    "#df2 = df2.dropna(how = \"all\", axis = 1)\n",
    "df2.columns = df2.columns.str.replace(r' ', \"\", regex = True)\n",
    "df2.head()"
   ]
  },
  {
   "cell_type": "markdown",
   "metadata": {},
   "source": [
    "# Get mutation data"
   ]
  },
  {
   "cell_type": "code",
   "execution_count": 8,
   "metadata": {},
   "outputs": [],
   "source": [
    "mutations = pd.read_csv(\"~/Documents/CPTAC_BC_SupplementaryTable01.csv\")\n",
    "mutations = mutations.set_index(\"Sample ID\")\n",
    "mutations = mutations[[\"PIK3CA Mutation\"]]\n",
    "mutations = mutations.rename(columns = {\"PIK3CA Mutation\" : \"PIK3CA_Mutation\"})\n",
    "mutations =  mutations.replace(np.nan, 'Wildtype', regex=True)"
   ]
  },
  {
   "cell_type": "code",
   "execution_count": 9,
   "metadata": {},
   "outputs": [],
   "source": [
    "# Label hotspots\n",
    "mutations.loc[mutations.PIK3CA_Mutation.str.contains('E542K')] = \"Hotspot\"\n",
    "mutations.loc[mutations.PIK3CA_Mutation.str.contains('E545K')] = \"Hotspot\"\n",
    "mutations.loc[mutations.PIK3CA_Mutation.str.contains('H1047R')] = \"Hotspot\""
   ]
  },
  {
   "cell_type": "code",
   "execution_count": 10,
   "metadata": {},
   "outputs": [],
   "source": [
    "merged = pd.merge(df2, mutations, on = \"Sample ID\", how = \"outer\")"
   ]
  },
  {
   "cell_type": "code",
   "execution_count": 11,
   "metadata": {},
   "outputs": [
    {
     "data": {
      "text/plain": [
       "Wildtype    77\n",
       "Hotspot     17\n",
       "Name: PIK3CA_Mutation, dtype: int64"
      ]
     },
     "execution_count": 11,
     "metadata": {},
     "output_type": "execute_result"
    }
   ],
   "source": [
    "wt_hotspot = merged.loc[(merged['PIK3CA_Mutation'] == \"Wildtype\") |\n",
    "                (merged['PIK3CA_Mutation'] == \"Hotspot\")]\n",
    "wt_hotspot.PIK3CA_Mutation.value_counts()"
   ]
  },
  {
   "cell_type": "markdown",
   "metadata": {},
   "source": [
    "# T-tests"
   ]
  },
  {
   "cell_type": "code",
   "execution_count": 12,
   "metadata": {},
   "outputs": [],
   "source": [
    "test_cols = list(wt_hotspot.columns[:-1])\n",
    "pval_df = u.wrap_ttest(wt_hotspot, \"PIK3CA_Mutation\", test_cols , correction_method = 'fdr_bh', \n",
    "                     return_all=True, pval_return_corrected=False)"
   ]
  },
  {
   "cell_type": "code",
   "execution_count": 13,
   "metadata": {},
   "outputs": [
    {
     "name": "stdout",
     "output_type": "stream",
     "text": [
      "total number of genes: 62\n",
      "sig genes: 43\n",
      "not sig genes: 19\n"
     ]
    }
   ],
   "source": [
    "sig_df = pval_df.loc[pval_df['P_Value'] < 0.05] # Keep sig \n",
    "ns_df = pval_df.loc[pval_df['P_Value'] > 0.05] # Keep not sig \n",
    "print('total number of genes:', len(pval_df))\n",
    "print('sig genes:', len(sig_df))\n",
    "print('not sig genes:', len(ns_df))"
   ]
  },
  {
   "cell_type": "markdown",
   "metadata": {},
   "source": [
    "# Plot phosphosite"
   ]
  },
  {
   "cell_type": "code",
   "execution_count": 16,
   "metadata": {},
   "outputs": [],
   "source": [
    "gene_site = 'MED26_T426t'\n",
    "plot_df = wt_hotspot[[gene_site,'PIK3CA_Mutation']]"
   ]
  },
  {
   "cell_type": "code",
   "execution_count": 17,
   "metadata": {},
   "outputs": [
    {
     "data": {
      "image/png": "[encoded data removed]",
      "text/plain": [
       "<Figure size 576x360 with 1 Axes>"
      ]
     },
     "metadata": {},
     "output_type": "display_data"
    }
   ],
   "source": [
    "# Plot single phosphosite\n",
    "plt.rcParams['figure.figsize']=(8,5) #size of plot\n",
    "sns.set(font_scale = 1.2)\n",
    "\n",
    "boxplot = sns.boxplot(x='PIK3CA_Mutation', y=gene_site, data = plot_df, showfliers = False)    \n",
    "boxplot.set_title('PIK3CA Hotspot Mutation Effect on '+gene_site +' Levels\\n')\n",
    "boxplot = sns.stripplot(x='PIK3CA_Mutation', y=gene_site, data = plot_df, jitter = True, \n",
    "                           color = \".3\", dodge = True)\n",
    "boxplot.set(xlabel = \"\\nPIK3CA Mutation Status \", ylabel = 'Phosphoproteomics')\n",
    "\n",
    "# format legend\n",
    "handles, labels = boxplot.get_legend_handles_labels()\n",
    "plt.legend(handles[0:2], labels[0:2])\n",
    "\n",
    "plt.show()\n",
    "plt.clf()\n",
    "plt.close()"
   ]
  },
  {
   "cell_type": "markdown",
   "metadata": {},
   "source": [
    "# Plot multiple phosphosites"
   ]
  },
  {
   "cell_type": "code",
   "execution_count": null,
   "metadata": {},
   "outputs": [],
   "source": [
    "# Select Gene_Psite column names to be plotted - create a long df for boxplot\n",
    "sig_genes = list(sig_df.Comparison)\n",
    "ns_genes = list(ns_df.Comparison)\n",
    "\n",
    "gene_site_list = ns_genes[10:] # change variable to graph other genes\n",
    "\n",
    "mult_site_df = pd.DataFrame()\n",
    "for s in gene_site_list:\n",
    "    site_df = wt_hotspot[[s,'PIK3CA_Mutation']]\n",
    "    site_df['site'] = s\n",
    "    site_df = site_df.rename(columns = {s:'phospho'})\n",
    "    mult_site_df = mult_site_df.append(site_df)\n",
    "# Check\n",
    "mult_site_df.tail()"
   ]
  },
  {
   "cell_type": "code",
   "execution_count": null,
   "metadata": {},
   "outputs": [],
   "source": [
    "# Plot multiple phosphosites\n",
    "plt.rcParams['figure.figsize']=(15,11) #size of plot\n",
    "sns.set(font_scale = 1.4)\n",
    "\n",
    "boxplot = sns.boxplot(x='site', y='phospho', data = mult_site_df, hue = 'PIK3CA_Mutation',\n",
    "                      showfliers = False)    \n",
    "boxplot.set_title('PIK3CA Hotspot Mutation Effect on Phosphoproteomic Levels\\n')\n",
    "boxplot = sns.stripplot(x='site', y='phospho', data = mult_site_df,hue = 'PIK3CA_Mutation',\n",
    "                        jitter = True, color = \".3\", dodge = True)\n",
    "boxplot.set(xlabel = \"\\nPIK3CA Mutation Status \", ylabel = 'Phosphoproteomics')\n",
    "boxplot.set_xticklabels(boxplot.get_xticklabels(), rotation=90)\n",
    "\n",
    "# format legend\n",
    "handles, labels = boxplot.get_legend_handles_labels()\n",
    "plt.legend(handles[0:2], labels[0:2])\n",
    "\n",
    "plt.show()\n",
    "plt.clf()\n",
    "plt.close()"
   ]
  },
  {
   "cell_type": "code",
   "execution_count": null,
   "metadata": {},
   "outputs": [],
   "source": []
  }
 ],
 "metadata": {
  "kernelspec": {
   "display_name": "Python 3",
   "language": "python",
   "name": "python3"
  },
  "language_info": {
   "codemirror_mode": {
    "name": "ipython",
    "version": 3
   },
   "file_extension": ".py",
   "mimetype": "text/x-python",
   "name": "python",
   "nbconvert_exporter": "python",
   "pygments_lexer": "ipython3",
   "version": "3.7.3"
  }
 },
 "nbformat": 4,
 "nbformat_minor": 2
}
