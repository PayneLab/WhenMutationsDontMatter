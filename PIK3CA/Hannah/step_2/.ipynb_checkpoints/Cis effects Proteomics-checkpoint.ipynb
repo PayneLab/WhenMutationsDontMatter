{
 "cells": [
  {
   "cell_type": "code",
   "execution_count": 1,
   "metadata": {},
   "outputs": [
    {
     "name": "stderr",
     "output_type": "stream",
     "text": [
      "/Users/hannahboekweg/anaconda3/lib/python3.7/site-packages/statsmodels/tools/_testing.py:19: FutureWarning: pandas.util.testing is deprecated. Use the functions in the public API at pandas.testing instead.\n",
      "  import pandas.util.testing as tm\n"
     ]
    }
   ],
   "source": [
    "import cptac\n",
    "import cptac.utils as u\n",
    "import seaborn as sns\n",
    "import matplotlib.pyplot as plt"
   ]
  },
  {
   "cell_type": "code",
   "execution_count": null,
   "metadata": {},
   "outputs": [
    {
     "name": "stdout",
     "output_type": "stream",
     "text": [
      "Loading dataframes.......           \r"
     ]
    }
   ],
   "source": [
    "en = cptac.Endometrial()\n",
    "col = cptac.Colon()\n",
    "br = cptac.Brca()"
   ]
  },
  {
   "cell_type": "code",
   "execution_count": null,
   "metadata": {},
   "outputs": [],
   "source": [
    "gene = 'PIK3CA'"
   ]
  },
  {
   "cell_type": "code",
   "execution_count": null,
   "metadata": {},
   "outputs": [],
   "source": [
    "#Prioritize hotspot mutations\n",
    "endo = en.get_genotype_all_vars(\"PIK3CA\", mutation_hotspot=[\"H1047R\", 'E542K', 'E535K'])"
   ]
  },
  {
   "cell_type": "code",
   "execution_count": null,
   "metadata": {},
   "outputs": [],
   "source": [
    "#pull out all the missense mutation and wildtype tumors \n",
    "missense = endo.loc[(endo['Mutation'] == \"Missense_Mutation\") | (endo['Mutation'] == \"Wildtype_Tumor\")]"
   ]
  },
  {
   "cell_type": "markdown",
   "metadata": {},
   "source": [
    "# Now look at the cis effect for endometrial cancer \n",
    "(that is the difference in missense mutation between wildtype_tumor and missense_mutation)"
   ]
  },
  {
   "cell_type": "code",
   "execution_count": null,
   "metadata": {},
   "outputs": [],
   "source": [
    "#drop everything but the mutation column and join to proteomic data\n",
    "missense = missense.drop(columns=['Location', 'Mutation_Status'])\n",
    "prot = en.get_proteomics() #get proteomic data\n",
    "missense[gene+'_proteomics'] = prot[gene]#filter for PIK3CA\n",
    "missense"
   ]
  },
  {
   "cell_type": "code",
   "execution_count": null,
   "metadata": {},
   "outputs": [],
   "source": [
    "u.wrap_ttest(missense, \"Mutation\", [gene+\"_proteomics\"], return_all=True)"
   ]
  },
  {
   "cell_type": "code",
   "execution_count": null,
   "metadata": {},
   "outputs": [],
   "source": [
    "def format_pval_annotation(pval_symbol, x1, x2, line_start = .05, line_height=.05):\n",
    "    # for manual adjustment to pval annotations\n",
    "    \n",
    "    y, h = line_start, line_height\n",
    "    plt.plot([x1, x1, x2, x2], #draw horizontal line\n",
    "             [y, y+h, y+h, y], #vertical line\n",
    "             lw=1.5, color= '.3')\n",
    "    plt.text((x1+x2)*.5, # half between x coord\n",
    "             y+h, pval_symbol, horizontalalignment='center', verticalalignment='bottom', color = \"black\")\n",
    "\n"
   ]
  },
  {
   "cell_type": "code",
   "execution_count": null,
   "metadata": {},
   "outputs": [],
   "source": [
    "plt.rcParams['figure.figsize']=(11.7,8.5) #size of plot\n",
    "sns.set(font_scale = 1.2)\n",
    "\n",
    "boxplot = sns.boxplot(x='Mutation', y=gene+'_proteomics',\n",
    "                     order=['Wildtype_Tumor', 'Missense_Mutation'],\n",
    "                     data=missense,\n",
    "                     showfliers=False)\n",
    "\n",
    "boxplot.set_title(\"PIK3CA missense effections on\" + gene + \"Proteomic Abundance in Endometrial\")\n",
    "boxplot = sns.stripplot(x='Mutation', y=gene+'_proteomics', data=missense, jitter=True)\n",
    "boxplot.set(xlabel=\"\\nPIK3CA Wildtype_Tumor/Missense_Mutation\", ylabel=gene+\"_proteomics\")\n",
    "\n",
    "format_pval_annotation('* P-vlaue = .201', 0, 1, 1)\n",
    "\n",
    "plt.show()\n",
    "plt.clf()\n",
    "plt.close()"
   ]
  },
  {
   "cell_type": "markdown",
   "metadata": {},
   "source": [
    "# Cis effects for BRCA"
   ]
  },
  {
   "cell_type": "code",
   "execution_count": null,
   "metadata": {},
   "outputs": [],
   "source": [
    "#Prioritize hotspot mutations\n",
    "brca = br.get_genotype_all_vars(\"PIK3CA\", mutation_hotspot=[\"H1047R\", 'E542K', 'E535K'])"
   ]
  },
  {
   "cell_type": "code",
   "execution_count": null,
   "metadata": {},
   "outputs": [],
   "source": [
    "#pull out all the missense mutation and wildtype tumors \n",
    "brca_missense = brca.loc[(brca['Mutation'] == \"Missense_Mutation\") | (brca['Mutation'] == \"Wildtype_Tumor\")]"
   ]
  },
  {
   "cell_type": "code",
   "execution_count": null,
   "metadata": {},
   "outputs": [],
   "source": [
    "#drop everything but the mutation column and join to proteomic data\n",
    "brca_missense = brca_missense.drop(columns=['Location', 'Mutation_Status'])\n",
    "prot = br.get_proteomics() #get proteomic data\n",
    "brca_missense[gene+'_proteomics'] = prot[gene]#filter for PIK3CA\n",
    "brca_missense"
   ]
  },
  {
   "cell_type": "code",
   "execution_count": null,
   "metadata": {},
   "outputs": [],
   "source": [
    "brca_missense.index.equals(prot[gene])"
   ]
  },
  {
   "cell_type": "code",
   "execution_count": null,
   "metadata": {},
   "outputs": [],
   "source": [
    "u.wrap_ttest(brca_missense, \"Mutation\", [gene+\"_proteomics\"], return_all=True)"
   ]
  },
  {
   "cell_type": "code",
   "execution_count": null,
   "metadata": {},
   "outputs": [],
   "source": [
    "plt.rcParams['figure.figsize']=(11.7,8.5) #size of plot\n",
    "sns.set(font_scale = 1.2)\n",
    "\n",
    "boxplot = sns.boxplot(x='Mutation', y=gene+'_proteomics',\n",
    "                     order=['Wildtype_Tumor', 'Missense_Mutation'],\n",
    "                     data=brca_missense,\n",
    "                     showfliers=False)\n",
    "\n",
    "boxplot.set_title(\"PIK3CA missense effections on\" + gene + \"Proteomic Abundance in Brca\")\n",
    "boxplot = sns.stripplot(x='Mutation', y=gene+'_proteomics', data=brca_missense, jitter=True)\n",
    "boxplot.set(xlabel=\"\\nPIK3CA Wildtype_Tumor/Missense_Mutation\", ylabel=gene+\"_proteomics\")\n",
    "\n",
    "format_pval_annotation('* P-vlaue = .689', 0, 1, 1)\n",
    "\n",
    "plt.show()\n",
    "plt.clf()\n",
    "plt.close()"
   ]
  },
  {
   "cell_type": "markdown",
   "metadata": {},
   "source": [
    "# Cis effect for Colon"
   ]
  },
  {
   "cell_type": "code",
   "execution_count": null,
   "metadata": {},
   "outputs": [],
   "source": [
    "#Prioritize hotspot mutations\n",
    "colon = col.get_genotype_all_vars(\"PIK3CA\", mutation_hotspot=[\"H1047R\", 'E542K', 'E535K'])"
   ]
  },
  {
   "cell_type": "code",
   "execution_count": null,
   "metadata": {},
   "outputs": [],
   "source": [
    "colon['Mutation'].unique()"
   ]
  },
  {
   "cell_type": "code",
   "execution_count": null,
   "metadata": {},
   "outputs": [],
   "source": [
    "#pull out all the missense mutation and wildtype tumors \n",
    "colon_missense = colon.loc[(colon['Mutation'] == \"nonsynonymous SNV\") | (colon['Mutation'] == \"Wildtype_Tumor\")]"
   ]
  },
  {
   "cell_type": "code",
   "execution_count": null,
   "metadata": {},
   "outputs": [],
   "source": [
    "#drop everything but the mutation column and join to proteomic data\n",
    "colon_missense = colon_missense.drop(columns=['Location', 'Mutation_Status'])\n",
    "prot = col.get_proteomics() #get proteomic data\n",
    "colon_missense[gene+'_proteomics'] = prot[gene]#filter for PIK3CA\n",
    "colon_missense"
   ]
  },
  {
   "cell_type": "code",
   "execution_count": null,
   "metadata": {},
   "outputs": [],
   "source": [
    "u.wrap_ttest(colon_missense, \"Mutation\", [gene+\"_proteomics\"], return_all=True)"
   ]
  },
  {
   "cell_type": "code",
   "execution_count": null,
   "metadata": {},
   "outputs": [],
   "source": [
    "plt.rcParams['figure.figsize']=(11.7,8.5) #size of plot\n",
    "sns.set(font_scale = 1.2)\n",
    "\n",
    "boxplot = sns.boxplot(x='Mutation', y=gene+'_proteomics',\n",
    "                     order=['Wildtype_Tumor', 'nonsynonymous SNV'],\n",
    "                     data=colon_missense,\n",
    "                     showfliers=False)\n",
    "\n",
    "boxplot.set_title(\"PIK3CA missense effections on\" + gene + \"Proteomic Abundance in Colon\")\n",
    "boxplot = sns.stripplot(x='Mutation', y=gene+'_proteomics', data=colon_missense, jitter=True)\n",
    "boxplot.set(xlabel=\"\\nPIK3CA Wildtype_Tumor/nonsynonymous SNV\", ylabel=gene+\"_proteomics\")\n",
    "\n",
    "format_pval_annotation('* P-vlaue = .314', 0, 1, 1)\n",
    "\n",
    "plt.show()\n",
    "plt.clf()\n",
    "plt.close()"
   ]
  }
 ],
 "metadata": {
  "kernelspec": {
   "display_name": "Python 3",
   "language": "python",
   "name": "python3"
  },
  "language_info": {
   "codemirror_mode": {
    "name": "ipython",
    "version": 3
   },
   "file_extension": ".py",
   "mimetype": "text/x-python",
   "name": "python",
   "nbconvert_exporter": "python",
   "pygments_lexer": "ipython3",
   "version": "3.7.3"
  }
 },
 "nbformat": 4,
 "nbformat_minor": 2
}
