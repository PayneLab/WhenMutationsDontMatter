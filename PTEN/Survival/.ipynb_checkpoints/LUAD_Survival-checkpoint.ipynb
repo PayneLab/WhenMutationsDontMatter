{
 "cells": [
  {
   "cell_type": "markdown",
   "metadata": {},
   "source": [
    "# PTEN loss Survival Analysis for LUAD"
   ]
  },
  {
   "cell_type": "markdown",
   "metadata": {},
   "source": [
    "Imports"
   ]
  },
  {
   "cell_type": "code",
   "execution_count": 1,
   "metadata": {},
   "outputs": [],
   "source": [
    "import pandas as pd\n",
    "import cptac\n",
    "import cptac.utils as ut\n",
    "import re\n",
    "import numpy as np\n",
    "import matplotlib.pyplot as plt\n",
    "import seaborn as sns\n",
    "import scipy\n",
    "import lifelines\n",
    "from lifelines import KaplanMeierFitter\n",
    "from lifelines import CoxPHFitter\n",
    "from lifelines.statistics import proportional_hazard_test\n",
    "%matplotlib inline"
   ]
  },
  {
   "cell_type": "code",
   "execution_count": 2,
   "metadata": {},
   "outputs": [],
   "source": [
    "import warnings\n",
    "warnings.filterwarnings('ignore')"
   ]
  },
  {
   "cell_type": "code",
   "execution_count": 2,
   "metadata": {},
   "outputs": [],
   "source": [
    "'''\n",
    "Params\n",
    "cancer_object: Object. The loaded cancer data set.\n",
    "all_prot: List. trans proteins used to get proteomics data. \n",
    "gene_in: String. Gene used to get mutation status for the Mutation col.\n",
    "utils: utils package from cptac.  \n",
    "\n",
    "Returns a dataframe with trans proteomics and mutation status of a specific gene.\n",
    "'''\n",
    "\n",
    "def all_prot_format_df(cancer_object, all_prot, gene_in = 'PTEN', utils = ut):\n",
    "    mut_type = cancer_object.get_genotype_all_vars(gene_in)\n",
    "    \n",
    "    if cancer_object.get_cancer_type() not in ('luad', 'endometrial'):\n",
    "        # Keep only tumor samples from proteomics\n",
    "        prot_and_mutations = cancer_object.join_omics_to_mutations(\n",
    "            mutations_genes = [gene_in], omics_df_name = 'proteomics', omics_genes = all_prot, tissue_type = 'tumor')\n",
    "        # Reduce a multiindex \n",
    "        if isinstance(prot_and_mutations.keys(), pd.core.indexes.multi.MultiIndex):\n",
    "            prot_and_mutations = utils.reduce_multiindex(prot_and_mutations, levels_to_drop = 1)\n",
    "            prot_and_mutations = rename_duplicate_cols(prot_and_mutations)\n",
    "        \n",
    "        # Merge Mutation column from get_genotype_all_vars (includes cnv) with proteomics\n",
    "        mut_type = mut_type[['Mutation']] \n",
    "        prot_df = prot_and_mutations.iloc[:,:-4] # Keep only proteomics\n",
    "        merged = prot_df.join(mut_type, how = 'outer')\n",
    "        \n",
    "        # Keep only Wildtype and deletion\n",
    "        compare = ['Wildtype_Tumor','Deletion']\n",
    "        get = merged['Mutation'].isin(compare)\n",
    "        mut_wt = merged[get]\n",
    "    \n",
    "    \n",
    "    # Luad has no somatic mutations for PTEN which changes some things\n",
    "    elif cancer_object.get_cancer_type() in ('luad'): \n",
    "        # get_genotype_all_vars add cnv data under the column PTEN\n",
    "        mut_type = mut_type.drop(columns= gene_in)\n",
    "        # different code because no somatic mutation data for pten (can't join to somatic mutations)\n",
    "        omics = cancer_object.join_omics_to_omics(df1_name = 'CNV', df2_name='proteomics',genes1= gene_in, \n",
    "            genes2= all_prot, tissue_type = 'tumor')\n",
    "        omics = utils.reduce_multiindex(omics, levels_to_drop = 1, flatten = True)\n",
    "        omics = rename_duplicate_cols(omics)\n",
    "        omics = omics.drop(columns='PTEN_CNV')\n",
    "       \n",
    "        # Merge Mutation column from get_genotype_all_vars (includes cnv) with proteomics\n",
    "        merged = omics.join(mut_type, how = 'outer') \n",
    "        # Keep only No_Mutation (wildtype) and deletion\n",
    "        compare = ['No_Mutation','Deletion']\n",
    "        get = merged['Mutation'].isin(compare)\n",
    "        mut_wt = merged[get]\n",
    "        mut_wt['Mutation'] = np.where(\n",
    "            mut_wt['Mutation'] == 'No_Mutation', 'Wildtype_Tumor', 'Deletion')\n",
    "        \n",
    "    elif cancer_object.get_cancer_type() in ('endometrial'):\n",
    "        # merge cnv with genotype all mut type\n",
    "        prot_and_mutations = cancer_object.join_omics_to_mutations(\n",
    "            mutations_genes = [gene_in], omics_df_name = 'proteomics', omics_genes = all_prot, tissue_type = 'tumor') # drop Normal samples\n",
    "\n",
    "        prot_df = prot_and_mutations.iloc[:,:-4] #drop Mutation and Location cols\n",
    "        mut_type = mut_type[['Mutation']] # Get Mutation col that includes CNV\n",
    "        merged = prot_df.join(mut_type, how = 'outer') # merge \n",
    "\n",
    "        # Create Truncation category and keep truncation and wt\n",
    "        compare = ['Wildtype_Tumor','Nonsense_Mutation','Frame_Shift_Ins','Frame_Shift_Del']\n",
    "        get = merged['Mutation'].isin(compare)\n",
    "        mut_wt = merged[get]\n",
    "        mut_wt['Mutation'] = np.where(\n",
    "                        mut_wt['Mutation'] == 'Wildtype_Tumor', 'Wildtype_Tumor', 'Truncation')\n",
    "    \n",
    "    mut_wt = mut_wt.rename(columns={col: re.sub(r'_proteomics', '', col) for col in mut_wt.columns.tolist()})\n",
    "    return mut_wt\n"
   ]
  },
  {
   "cell_type": "code",
   "execution_count": 3,
   "metadata": {},
   "outputs": [],
   "source": [
    "''' Adds '_i' to duplicate col names where the int i increases by one with each duplicate \n",
    "Returns a df with unique column names. '''\n",
    "\n",
    "def rename_duplicate_cols(df):\n",
    "    cols = pd.Series(df.columns[:])\n",
    "\n",
    "    for dup in cols[cols.duplicated()].unique(): \n",
    "        cols[cols[cols == dup].index.values.tolist()] = [dup + '_' + str(i) if i != 0 else dup for i in range(sum(cols == dup))]\n",
    "\n",
    "    # rename the columns with the cols list.\n",
    "    df.columns=cols\n",
    "    return df"
   ]
  },
  {
   "cell_type": "code",
   "execution_count": 4,
   "metadata": {},
   "outputs": [],
   "source": [
    "def get_survival_cols(cancer_object):\n",
    "    cancer = cancer_object.get_cancer_type()\n",
    "    #print(cancer)\n",
    "    \n",
    "    # get unique survival col names\n",
    "    if cancer == 'gbm':\n",
    "        cols = ['vital_status', 'path_diag_to_last_contact_days', 'path_diag_to_death_days']\n",
    "    if cancer == 'hnscc':\n",
    "        cols = ['VITAL_STATUS', 'PATHO_DIAG_TO_LAST_CONT_DAYS', 'PATHO_DIAG_TO_DEATH_DAYS']\n",
    "    if cancer == 'luad':\n",
    "        cols = ['Vital Status', 'Path Diag to Last Contact(Day)', 'Path Diag to Death(days)']\n",
    "    if cancer == 'ovarian':\n",
    "        cols = ['Vital_Status', 'Days_Between_Collection_And_Last_Contact', 'Days_Between_Collection_And_Death']\n",
    "    if cancer == 'endometrial':\n",
    "        cols = ['Vital Status', 'Path Diag to Last Contact(Day)', 'Path Diag to Death(days)']\n",
    "    \n",
    "    # lscc no follow up or clin matching survival cols\n",
    "\n",
    "    if cancer == 'brca':\n",
    "        cols = ['Vital Status (at time of last contact)'] \n",
    "        print('Use csv')\n",
    "    if cancer == 'colon':\n",
    "        cols = ['Vital Status (at time of last contact)'] \n",
    "        print('Use csv')\n",
    "\n",
    "    return cols"
   ]
  },
  {
   "cell_type": "code",
   "execution_count": 72,
   "metadata": {},
   "outputs": [],
   "source": [
    "def get_most_recent_last_contact_df(survival_in):\n",
    "    d = {}\n",
    "    df = survival_in[['days_to_last_contact']]\n",
    "    index_list = list(df.index.unique())\n",
    "    for i in index_list:\n",
    "        one_index_df = df.loc[[i]]\n",
    "        # Get the latest number when duplicate records\n",
    "        most_recent = one_index_df['days_to_last_contact'].max() # get most recent (highest num)\n",
    "        d[i] = most_recent\n",
    "        \n",
    "    last_contact_df = pd.DataFrame.from_dict(d, orient='index', columns=['days_to_last_contact'])\n",
    "    last_contact_df.index.name = 'Patient_ID'\n",
    "    \n",
    "    return last_contact_df   "
   ]
  },
  {
   "cell_type": "markdown",
   "metadata": {},
   "source": [
    "# Step 1: Import data"
   ]
  },
  {
   "cell_type": "code",
   "execution_count": 5,
   "metadata": {},
   "outputs": [
    {
     "name": "stdout",
     "output_type": "stream",
     "text": [
      "                                         \r"
     ]
    }
   ],
   "source": [
    "cancer = 'LUAD'\n",
    "ca = cptac.Luad()"
   ]
  },
  {
   "cell_type": "markdown",
   "metadata": {},
   "source": [
    "# Step 2: Get df with PTEN mutation status and clinical data"
   ]
  },
  {
   "cell_type": "code",
   "execution_count": 56,
   "metadata": {},
   "outputs": [
    {
     "data": {
      "text/html": [
       "<div>\n",
       "<style scoped>\n",
       "    .dataframe tbody tr th:only-of-type {\n",
       "        vertical-align: middle;\n",
       "    }\n",
       "\n",
       "    .dataframe tbody tr th {\n",
       "        vertical-align: top;\n",
       "    }\n",
       "\n",
       "    .dataframe thead th {\n",
       "        text-align: right;\n",
       "    }\n",
       "</style>\n",
       "<table border=\"1\" class=\"dataframe\">\n",
       "  <thead>\n",
       "    <tr style=\"text-align: right;\">\n",
       "      <th>Name</th>\n",
       "      <th>vital_status</th>\n",
       "      <th>days_to_last_contact</th>\n",
       "      <th>days_to_death</th>\n",
       "    </tr>\n",
       "    <tr>\n",
       "      <th>Patient_ID</th>\n",
       "      <th></th>\n",
       "      <th></th>\n",
       "      <th></th>\n",
       "    </tr>\n",
       "  </thead>\n",
       "  <tbody>\n",
       "    <tr>\n",
       "      <th>C3L-00001</th>\n",
       "      <td>Living</td>\n",
       "      <td>519</td>\n",
       "      <td>NaN</td>\n",
       "    </tr>\n",
       "    <tr>\n",
       "      <th>C3L-00001</th>\n",
       "      <td>Living</td>\n",
       "      <td>714</td>\n",
       "      <td>NaN</td>\n",
       "    </tr>\n",
       "    <tr>\n",
       "      <th>C3L-00001</th>\n",
       "      <td>Living</td>\n",
       "      <td>1065</td>\n",
       "      <td>NaN</td>\n",
       "    </tr>\n",
       "    <tr>\n",
       "      <th>C3L-00009</th>\n",
       "      <td>Living</td>\n",
       "      <td>423</td>\n",
       "      <td>NaN</td>\n",
       "    </tr>\n",
       "    <tr>\n",
       "      <th>C3L-00009</th>\n",
       "      <td>Deceased</td>\n",
       "      <td>545</td>\n",
       "      <td>577.0</td>\n",
       "    </tr>\n",
       "    <tr>\n",
       "      <th>...</th>\n",
       "      <td>...</td>\n",
       "      <td>...</td>\n",
       "      <td>...</td>\n",
       "    </tr>\n",
       "    <tr>\n",
       "      <th>C3N-02582</th>\n",
       "      <td>Living</td>\n",
       "      <td>367</td>\n",
       "      <td>NaN</td>\n",
       "    </tr>\n",
       "    <tr>\n",
       "      <th>C3N-02586</th>\n",
       "      <td>Deceased</td>\n",
       "      <td>30</td>\n",
       "      <td>30.0</td>\n",
       "    </tr>\n",
       "    <tr>\n",
       "      <th>C3N-02587</th>\n",
       "      <td>Living</td>\n",
       "      <td>355</td>\n",
       "      <td>NaN</td>\n",
       "    </tr>\n",
       "    <tr>\n",
       "      <th>C3N-02588</th>\n",
       "      <td>Living</td>\n",
       "      <td>354</td>\n",
       "      <td>NaN</td>\n",
       "    </tr>\n",
       "    <tr>\n",
       "      <th>C3N-02729</th>\n",
       "      <td>Living</td>\n",
       "      <td>355</td>\n",
       "      <td>NaN</td>\n",
       "    </tr>\n",
       "  </tbody>\n",
       "</table>\n",
       "<p>156 rows × 3 columns</p>\n",
       "</div>"
      ],
      "text/plain": [
       "Name       vital_status  days_to_last_contact  days_to_death\n",
       "Patient_ID                                                  \n",
       "C3L-00001        Living                   519            NaN\n",
       "C3L-00001        Living                   714            NaN\n",
       "C3L-00001        Living                  1065            NaN\n",
       "C3L-00009        Living                   423            NaN\n",
       "C3L-00009      Deceased                   545          577.0\n",
       "...                 ...                   ...            ...\n",
       "C3N-02582        Living                   367            NaN\n",
       "C3N-02586      Deceased                    30           30.0\n",
       "C3N-02587        Living                   355            NaN\n",
       "C3N-02588        Living                   354            NaN\n",
       "C3N-02729        Living                   355            NaN\n",
       "\n",
       "[156 rows x 3 columns]"
      ]
     },
     "execution_count": 56,
     "metadata": {},
     "output_type": "execute_result"
    }
   ],
   "source": [
    "cols = get_survival_cols(ca)\n",
    "\n",
    "clin = ca.get_followup(tissue_type = 'tumor')\n",
    "#print(clin.follow_up_vital_status.value_counts())\n",
    "df = clin[cols]\n",
    "df = df.rename(columns = {cols[0]: 'vital_status', cols[1]: 'days_to_last_contact', cols[2]: 'days_to_death'})\n",
    "df"
   ]
  },
  {
   "cell_type": "code",
   "execution_count": null,
   "metadata": {},
   "outputs": [],
   "source": [
    "vitals = df[['vital_status']] # drop dup samples"
   ]
  },
  {
   "cell_type": "code",
   "execution_count": 76,
   "metadata": {},
   "outputs": [],
   "source": [
    "most_recent_last_contact = get_most_recent_last_contact_df(df) # get most recent days_to_last_contact\n",
    "death = df[['days_to_death']].dropna()\n",
    "\n",
    "days_df = death.merge(most_recent_last_contact, on = 'Patient_ID', how = 'outer')\n",
    "survival_df = days_df.merge(vitals, on = 'Patient_ID', how = 'left')\n"
   ]
  },
  {
   "cell_type": "code",
   "execution_count": 78,
   "metadata": {},
   "outputs": [
    {
     "data": {
      "text/html": [
       "<div>\n",
       "<style scoped>\n",
       "    .dataframe tbody tr th:only-of-type {\n",
       "        vertical-align: middle;\n",
       "    }\n",
       "\n",
       "    .dataframe tbody tr th {\n",
       "        vertical-align: top;\n",
       "    }\n",
       "\n",
       "    .dataframe thead th {\n",
       "        text-align: right;\n",
       "    }\n",
       "</style>\n",
       "<table border=\"1\" class=\"dataframe\">\n",
       "  <thead>\n",
       "    <tr style=\"text-align: right;\">\n",
       "      <th></th>\n",
       "      <th>days_to_last_contact</th>\n",
       "    </tr>\n",
       "    <tr>\n",
       "      <th>Patient_ID</th>\n",
       "      <th></th>\n",
       "    </tr>\n",
       "  </thead>\n",
       "  <tbody>\n",
       "    <tr>\n",
       "      <th>C3L-00001</th>\n",
       "      <td>1065</td>\n",
       "    </tr>\n",
       "    <tr>\n",
       "      <th>C3L-00009</th>\n",
       "      <td>545</td>\n",
       "    </tr>\n",
       "    <tr>\n",
       "      <th>C3L-00080</th>\n",
       "      <td>1072</td>\n",
       "    </tr>\n",
       "    <tr>\n",
       "      <th>C3L-00083</th>\n",
       "      <td>1057</td>\n",
       "    </tr>\n",
       "    <tr>\n",
       "      <th>C3L-00093</th>\n",
       "      <td>1058</td>\n",
       "    </tr>\n",
       "    <tr>\n",
       "      <th>...</th>\n",
       "      <td>...</td>\n",
       "    </tr>\n",
       "    <tr>\n",
       "      <th>C3N-02582</th>\n",
       "      <td>367</td>\n",
       "    </tr>\n",
       "    <tr>\n",
       "      <th>C3N-02586</th>\n",
       "      <td>30</td>\n",
       "    </tr>\n",
       "    <tr>\n",
       "      <th>C3N-02587</th>\n",
       "      <td>355</td>\n",
       "    </tr>\n",
       "    <tr>\n",
       "      <th>C3N-02588</th>\n",
       "      <td>354</td>\n",
       "    </tr>\n",
       "    <tr>\n",
       "      <th>C3N-02729</th>\n",
       "      <td>355</td>\n",
       "    </tr>\n",
       "  </tbody>\n",
       "</table>\n",
       "<p>100 rows × 1 columns</p>\n",
       "</div>"
      ],
      "text/plain": [
       "            days_to_last_contact\n",
       "Patient_ID                      \n",
       "C3L-00001                   1065\n",
       "C3L-00009                    545\n",
       "C3L-00080                   1072\n",
       "C3L-00083                   1057\n",
       "C3L-00093                   1058\n",
       "...                          ...\n",
       "C3N-02582                    367\n",
       "C3N-02586                     30\n",
       "C3N-02587                    355\n",
       "C3N-02588                    354\n",
       "C3N-02729                    355\n",
       "\n",
       "[100 rows x 1 columns]"
      ]
     },
     "execution_count": 78,
     "metadata": {},
     "output_type": "execute_result"
    }
   ],
   "source": [
    "most_recent_last_contact"
   ]
  },
  {
   "cell_type": "code",
   "execution_count": 77,
   "metadata": {},
   "outputs": [
    {
     "data": {
      "text/html": [
       "<div>\n",
       "<style scoped>\n",
       "    .dataframe tbody tr th:only-of-type {\n",
       "        vertical-align: middle;\n",
       "    }\n",
       "\n",
       "    .dataframe tbody tr th {\n",
       "        vertical-align: top;\n",
       "    }\n",
       "\n",
       "    .dataframe thead th {\n",
       "        text-align: right;\n",
       "    }\n",
       "</style>\n",
       "<table border=\"1\" class=\"dataframe\">\n",
       "  <thead>\n",
       "    <tr style=\"text-align: right;\">\n",
       "      <th></th>\n",
       "      <th>days_to_death</th>\n",
       "      <th>days_to_last_contact</th>\n",
       "      <th>vital_status</th>\n",
       "    </tr>\n",
       "    <tr>\n",
       "      <th>Patient_ID</th>\n",
       "      <th></th>\n",
       "      <th></th>\n",
       "      <th></th>\n",
       "    </tr>\n",
       "  </thead>\n",
       "  <tbody>\n",
       "    <tr>\n",
       "      <th>C3L-00009</th>\n",
       "      <td>577.0</td>\n",
       "      <td>545</td>\n",
       "      <td>Living</td>\n",
       "    </tr>\n",
       "    <tr>\n",
       "      <th>C3L-00009</th>\n",
       "      <td>577.0</td>\n",
       "      <td>545</td>\n",
       "      <td>Deceased</td>\n",
       "    </tr>\n",
       "    <tr>\n",
       "      <th>C3L-00094</th>\n",
       "      <td>889.0</td>\n",
       "      <td>881</td>\n",
       "      <td>Living</td>\n",
       "    </tr>\n",
       "    <tr>\n",
       "      <th>C3L-00094</th>\n",
       "      <td>889.0</td>\n",
       "      <td>881</td>\n",
       "      <td>Living</td>\n",
       "    </tr>\n",
       "    <tr>\n",
       "      <th>C3L-00094</th>\n",
       "      <td>889.0</td>\n",
       "      <td>881</td>\n",
       "      <td>Deceased</td>\n",
       "    </tr>\n",
       "    <tr>\n",
       "      <th>...</th>\n",
       "      <td>...</td>\n",
       "      <td>...</td>\n",
       "      <td>...</td>\n",
       "    </tr>\n",
       "    <tr>\n",
       "      <th>C3N-02424</th>\n",
       "      <td>NaN</td>\n",
       "      <td>355</td>\n",
       "      <td>Living</td>\n",
       "    </tr>\n",
       "    <tr>\n",
       "      <th>C3N-02582</th>\n",
       "      <td>NaN</td>\n",
       "      <td>367</td>\n",
       "      <td>Living</td>\n",
       "    </tr>\n",
       "    <tr>\n",
       "      <th>C3N-02587</th>\n",
       "      <td>NaN</td>\n",
       "      <td>355</td>\n",
       "      <td>Living</td>\n",
       "    </tr>\n",
       "    <tr>\n",
       "      <th>C3N-02588</th>\n",
       "      <td>NaN</td>\n",
       "      <td>354</td>\n",
       "      <td>Living</td>\n",
       "    </tr>\n",
       "    <tr>\n",
       "      <th>C3N-02729</th>\n",
       "      <td>NaN</td>\n",
       "      <td>355</td>\n",
       "      <td>Living</td>\n",
       "    </tr>\n",
       "  </tbody>\n",
       "</table>\n",
       "<p>158 rows × 3 columns</p>\n",
       "</div>"
      ],
      "text/plain": [
       "            days_to_death  days_to_last_contact vital_status\n",
       "Patient_ID                                                  \n",
       "C3L-00009           577.0                   545       Living\n",
       "C3L-00009           577.0                   545     Deceased\n",
       "C3L-00094           889.0                   881       Living\n",
       "C3L-00094           889.0                   881       Living\n",
       "C3L-00094           889.0                   881     Deceased\n",
       "...                   ...                   ...          ...\n",
       "C3N-02424             NaN                   355       Living\n",
       "C3N-02582             NaN                   367       Living\n",
       "C3N-02587             NaN                   355       Living\n",
       "C3N-02588             NaN                   354       Living\n",
       "C3N-02729             NaN                   355       Living\n",
       "\n",
       "[158 rows x 3 columns]"
      ]
     },
     "execution_count": 77,
     "metadata": {},
     "output_type": "execute_result"
    }
   ],
   "source": [
    "survival_df"
   ]
  },
  {
   "cell_type": "code",
   "execution_count": 43,
   "metadata": {},
   "outputs": [
    {
     "name": "stdout",
     "output_type": "stream",
     "text": [
      "105\n"
     ]
    },
    {
     "data": {
      "text/html": [
       "<div>\n",
       "<style scoped>\n",
       "    .dataframe tbody tr th:only-of-type {\n",
       "        vertical-align: middle;\n",
       "    }\n",
       "\n",
       "    .dataframe tbody tr th {\n",
       "        vertical-align: top;\n",
       "    }\n",
       "\n",
       "    .dataframe thead th {\n",
       "        text-align: right;\n",
       "    }\n",
       "</style>\n",
       "<table border=\"1\" class=\"dataframe\">\n",
       "  <thead>\n",
       "    <tr style=\"text-align: right;\">\n",
       "      <th>Name</th>\n",
       "      <th>vital_status</th>\n",
       "      <th>days_to_last_contact</th>\n",
       "      <th>days_to_death</th>\n",
       "      <th>PTEN</th>\n",
       "      <th>Mutation</th>\n",
       "    </tr>\n",
       "    <tr>\n",
       "      <th>Patient_ID</th>\n",
       "      <th></th>\n",
       "      <th></th>\n",
       "      <th></th>\n",
       "      <th></th>\n",
       "      <th></th>\n",
       "    </tr>\n",
       "  </thead>\n",
       "  <tbody>\n",
       "    <tr>\n",
       "      <th>C3L-00001</th>\n",
       "      <td>Living</td>\n",
       "      <td>519</td>\n",
       "      <td>NaN</td>\n",
       "      <td>0.0657</td>\n",
       "      <td>Deletion</td>\n",
       "    </tr>\n",
       "    <tr>\n",
       "      <th>C3L-00001</th>\n",
       "      <td>Living</td>\n",
       "      <td>714</td>\n",
       "      <td>NaN</td>\n",
       "      <td>0.0657</td>\n",
       "      <td>Deletion</td>\n",
       "    </tr>\n",
       "    <tr>\n",
       "      <th>C3L-00001</th>\n",
       "      <td>Living</td>\n",
       "      <td>1065</td>\n",
       "      <td>NaN</td>\n",
       "      <td>0.0657</td>\n",
       "      <td>Deletion</td>\n",
       "    </tr>\n",
       "    <tr>\n",
       "      <th>C3L-00009</th>\n",
       "      <td>Living</td>\n",
       "      <td>423</td>\n",
       "      <td>NaN</td>\n",
       "      <td>0.7145</td>\n",
       "      <td>Wildtype_Tumor</td>\n",
       "    </tr>\n",
       "    <tr>\n",
       "      <th>C3L-00009</th>\n",
       "      <td>Deceased</td>\n",
       "      <td>545</td>\n",
       "      <td>577.0</td>\n",
       "      <td>0.7145</td>\n",
       "      <td>Wildtype_Tumor</td>\n",
       "    </tr>\n",
       "    <tr>\n",
       "      <th>...</th>\n",
       "      <td>...</td>\n",
       "      <td>...</td>\n",
       "      <td>...</td>\n",
       "      <td>...</td>\n",
       "      <td>...</td>\n",
       "    </tr>\n",
       "    <tr>\n",
       "      <th>C3N-02582</th>\n",
       "      <td>Living</td>\n",
       "      <td>367</td>\n",
       "      <td>NaN</td>\n",
       "      <td>-0.5306</td>\n",
       "      <td>Deletion</td>\n",
       "    </tr>\n",
       "    <tr>\n",
       "      <th>C3N-02586</th>\n",
       "      <td>Deceased</td>\n",
       "      <td>30</td>\n",
       "      <td>30.0</td>\n",
       "      <td>-0.7970</td>\n",
       "      <td>Deletion</td>\n",
       "    </tr>\n",
       "    <tr>\n",
       "      <th>C3N-02587</th>\n",
       "      <td>Living</td>\n",
       "      <td>355</td>\n",
       "      <td>NaN</td>\n",
       "      <td>0.5321</td>\n",
       "      <td>Wildtype_Tumor</td>\n",
       "    </tr>\n",
       "    <tr>\n",
       "      <th>C3N-02588</th>\n",
       "      <td>Living</td>\n",
       "      <td>354</td>\n",
       "      <td>NaN</td>\n",
       "      <td>-1.8813</td>\n",
       "      <td>Wildtype_Tumor</td>\n",
       "    </tr>\n",
       "    <tr>\n",
       "      <th>C3N-02729</th>\n",
       "      <td>Living</td>\n",
       "      <td>355</td>\n",
       "      <td>NaN</td>\n",
       "      <td>0.5782</td>\n",
       "      <td>Deletion</td>\n",
       "    </tr>\n",
       "  </tbody>\n",
       "</table>\n",
       "<p>156 rows × 5 columns</p>\n",
       "</div>"
      ],
      "text/plain": [
       "Name       vital_status  days_to_last_contact  days_to_death    PTEN  \\\n",
       "Patient_ID                                                             \n",
       "C3L-00001        Living                   519            NaN  0.0657   \n",
       "C3L-00001        Living                   714            NaN  0.0657   \n",
       "C3L-00001        Living                  1065            NaN  0.0657   \n",
       "C3L-00009        Living                   423            NaN  0.7145   \n",
       "C3L-00009      Deceased                   545          577.0  0.7145   \n",
       "...                 ...                   ...            ...     ...   \n",
       "C3N-02582        Living                   367            NaN -0.5306   \n",
       "C3N-02586      Deceased                    30           30.0 -0.7970   \n",
       "C3N-02587        Living                   355            NaN  0.5321   \n",
       "C3N-02588        Living                   354            NaN -1.8813   \n",
       "C3N-02729        Living                   355            NaN  0.5782   \n",
       "\n",
       "Name              Mutation  \n",
       "Patient_ID                  \n",
       "C3L-00001         Deletion  \n",
       "C3L-00001         Deletion  \n",
       "C3L-00001         Deletion  \n",
       "C3L-00009   Wildtype_Tumor  \n",
       "C3L-00009   Wildtype_Tumor  \n",
       "...                    ...  \n",
       "C3N-02582         Deletion  \n",
       "C3N-02586         Deletion  \n",
       "C3N-02587   Wildtype_Tumor  \n",
       "C3N-02588   Wildtype_Tumor  \n",
       "C3N-02729         Deletion  \n",
       "\n",
       "[156 rows x 5 columns]"
      ]
     },
     "execution_count": 43,
     "metadata": {},
     "output_type": "execute_result"
    }
   ],
   "source": [
    "del_wt = all_prot_format_df(ca, ['PTEN']) # get Mutation col (PTEN del/wt)\n",
    "print(len(del_wt))\n",
    "mut_survival = df.join(del_wt, on = 'Patient_ID', how = 'left') # combine keeping only turmors\n",
    "mut_survival"
   ]
  },
  {
   "cell_type": "code",
   "execution_count": null,
   "metadata": {},
   "outputs": [],
   "source": []
  },
  {
   "cell_type": "code",
   "execution_count": 12,
   "metadata": {},
   "outputs": [
    {
     "data": {
      "text/plain": [
       "Tumor     111\n",
       "Normal     81\n",
       "Name: Sample_Tumor_Normal, dtype: int64"
      ]
     },
     "execution_count": 12,
     "metadata": {},
     "output_type": "execute_result"
    }
   ],
   "source": [
    "stat = ca.get_clinical()\n",
    "stat.columns\n",
    "stat.Sample_Tumor_Normal.value_counts()"
   ]
  },
  {
   "cell_type": "markdown",
   "metadata": {},
   "source": [
    "# Step 3: Kaplan Meier Plotting"
   ]
  },
  {
   "cell_type": "markdown",
   "metadata": {},
   "source": [
    "Kaplan Meier plots show the probability of some event occuring over a given length of time, based on some attribute(s). "
   ]
  },
  {
   "cell_type": "code",
   "execution_count": 13,
   "metadata": {},
   "outputs": [
    {
     "data": {
      "text/html": [
       "<div>\n",
       "<style scoped>\n",
       "    .dataframe tbody tr th:only-of-type {\n",
       "        vertical-align: middle;\n",
       "    }\n",
       "\n",
       "    .dataframe tbody tr th {\n",
       "        vertical-align: top;\n",
       "    }\n",
       "\n",
       "    .dataframe thead th {\n",
       "        text-align: right;\n",
       "    }\n",
       "</style>\n",
       "<table border=\"1\" class=\"dataframe\">\n",
       "  <thead>\n",
       "    <tr style=\"text-align: right;\">\n",
       "      <th>Name</th>\n",
       "      <th>days_to_last_contact_or_death</th>\n",
       "      <th>vital_status</th>\n",
       "      <th>PTEN</th>\n",
       "      <th>Mutation</th>\n",
       "    </tr>\n",
       "    <tr>\n",
       "      <th>Patient_ID</th>\n",
       "      <th></th>\n",
       "      <th></th>\n",
       "      <th></th>\n",
       "      <th></th>\n",
       "    </tr>\n",
       "  </thead>\n",
       "  <tbody>\n",
       "    <tr>\n",
       "      <th>C3L-00977</th>\n",
       "      <td>377.0</td>\n",
       "      <td>Living</td>\n",
       "      <td>23.604974</td>\n",
       "      <td>Wildtype_Tumor</td>\n",
       "    </tr>\n",
       "    <tr>\n",
       "      <th>C3L-00987</th>\n",
       "      <td>429.0</td>\n",
       "      <td>Living</td>\n",
       "      <td>23.370790</td>\n",
       "      <td>Deletion</td>\n",
       "    </tr>\n",
       "    <tr>\n",
       "      <th>C3L-00994</th>\n",
       "      <td>132.0</td>\n",
       "      <td>Deceased</td>\n",
       "      <td>23.924803</td>\n",
       "      <td>Wildtype_Tumor</td>\n",
       "    </tr>\n",
       "    <tr>\n",
       "      <th>C3L-00995</th>\n",
       "      <td>-10.0</td>\n",
       "      <td>Deceased</td>\n",
       "      <td>23.961489</td>\n",
       "      <td>Wildtype_Tumor</td>\n",
       "    </tr>\n",
       "    <tr>\n",
       "      <th>C3L-00997</th>\n",
       "      <td>442.0</td>\n",
       "      <td>Living</td>\n",
       "      <td>23.319454</td>\n",
       "      <td>Wildtype_Tumor</td>\n",
       "    </tr>\n",
       "    <tr>\n",
       "      <th>...</th>\n",
       "      <td>...</td>\n",
       "      <td>...</td>\n",
       "      <td>...</td>\n",
       "      <td>...</td>\n",
       "    </tr>\n",
       "    <tr>\n",
       "      <th>C3N-04276</th>\n",
       "      <td>283.0</td>\n",
       "      <td>Living</td>\n",
       "      <td>23.806539</td>\n",
       "      <td>Wildtype_Tumor</td>\n",
       "    </tr>\n",
       "    <tr>\n",
       "      <th>C3N-04277</th>\n",
       "      <td>436.0</td>\n",
       "      <td>Living</td>\n",
       "      <td>24.097503</td>\n",
       "      <td>Wildtype_Tumor</td>\n",
       "    </tr>\n",
       "    <tr>\n",
       "      <th>C3N-04278</th>\n",
       "      <td>351.0</td>\n",
       "      <td>Living</td>\n",
       "      <td>23.635862</td>\n",
       "      <td>Wildtype_Tumor</td>\n",
       "    </tr>\n",
       "    <tr>\n",
       "      <th>C3N-04279</th>\n",
       "      <td>310.0</td>\n",
       "      <td>Living</td>\n",
       "      <td>23.918302</td>\n",
       "      <td>Wildtype_Tumor</td>\n",
       "    </tr>\n",
       "    <tr>\n",
       "      <th>C3N-04280</th>\n",
       "      <td>232.0</td>\n",
       "      <td>Living</td>\n",
       "      <td>23.954410</td>\n",
       "      <td>Wildtype_Tumor</td>\n",
       "    </tr>\n",
       "  </tbody>\n",
       "</table>\n",
       "<p>101 rows × 4 columns</p>\n",
       "</div>"
      ],
      "text/plain": [
       "Name        days_to_last_contact_or_death vital_status       PTEN  \\\n",
       "Patient_ID                                                          \n",
       "C3L-00977                           377.0       Living  23.604974   \n",
       "C3L-00987                           429.0       Living  23.370790   \n",
       "C3L-00994                           132.0     Deceased  23.924803   \n",
       "C3L-00995                           -10.0     Deceased  23.961489   \n",
       "C3L-00997                           442.0       Living  23.319454   \n",
       "...                                   ...          ...        ...   \n",
       "C3N-04276                           283.0       Living  23.806539   \n",
       "C3N-04277                           436.0       Living  24.097503   \n",
       "C3N-04278                           351.0       Living  23.635862   \n",
       "C3N-04279                           310.0       Living  23.918302   \n",
       "C3N-04280                           232.0       Living  23.954410   \n",
       "\n",
       "Name              Mutation  \n",
       "Patient_ID                  \n",
       "C3L-00977   Wildtype_Tumor  \n",
       "C3L-00987         Deletion  \n",
       "C3L-00994   Wildtype_Tumor  \n",
       "C3L-00995   Wildtype_Tumor  \n",
       "C3L-00997   Wildtype_Tumor  \n",
       "...                    ...  \n",
       "C3N-04276   Wildtype_Tumor  \n",
       "C3N-04277   Wildtype_Tumor  \n",
       "C3N-04278   Wildtype_Tumor  \n",
       "C3N-04279   Wildtype_Tumor  \n",
       "C3N-04280   Wildtype_Tumor  \n",
       "\n",
       "[101 rows x 4 columns]"
      ]
     },
     "execution_count": 13,
     "metadata": {},
     "output_type": "execute_result"
    }
   ],
   "source": [
    "# Drop row with NaN in vital status : 9 dropped (101 rows)\n",
    "mut_survival = mut_survival[mut_survival['vital_status'].notna()]\n",
    "mut_survival"
   ]
  },
  {
   "cell_type": "code",
   "execution_count": 14,
   "metadata": {},
   "outputs": [
    {
     "data": {
      "text/plain": [
       "False    87\n",
       "True     14\n",
       "Name: vital_status, dtype: int64"
      ]
     },
     "execution_count": 14,
     "metadata": {},
     "output_type": "execute_result"
    }
   ],
   "source": [
    "#Make the vital_status column boolean\n",
    "mut_survival['vital_status'] = mut_survival['vital_status'].replace('Living', False) # deceased = True\n",
    "mut_survival['vital_status'] = mut_survival['vital_status'].astype('bool') # careful: nan vals will change to bool\n",
    "df_genes = mut_survival\n",
    "\n",
    "# Create one column with days between last contact or death\n",
    "#days = ['days_to_last_contact', 'days_to_death']\n",
    "#df_genes = mut_survival.assign(days_to_last_contact_or_death = mut_survival[days].sum(1)).drop(days, 1)\n",
    "mut_survival.vital_status.value_counts()"
   ]
  },
  {
   "cell_type": "code",
   "execution_count": 15,
   "metadata": {},
   "outputs": [
    {
     "data": {
      "text/plain": [
       "<matplotlib.axes._subplots.AxesSubplot at 0x1948b2144e0>"
      ]
     },
     "execution_count": 15,
     "metadata": {},
     "output_type": "execute_result"
    },
    {
     "data": {
      "image/png": "[encoded data removed]",
      "text/plain": [
       "<Figure size 432x288 with 1 Axes>"
      ]
     },
     "metadata": {
      "needs_background": "light"
     },
     "output_type": "display_data"
    }
   ],
   "source": [
    "# Plot\n",
    "time = df_genes['days_to_last_contact_or_death']\n",
    "status = df_genes['vital_status']\n",
    "\n",
    "kmf = KaplanMeierFitter()\n",
    "kmf.fit(time, event_observed = status)\n",
    "kmf.plot()"
   ]
  },
  {
   "cell_type": "markdown",
   "metadata": {},
   "source": [
    "# Step 4: Prepare Data for Multivariate Kaplan Meier Plots and Cox's Proportional Hazard Test"
   ]
  },
  {
   "cell_type": "code",
   "execution_count": 16,
   "metadata": {},
   "outputs": [],
   "source": [
    "# map numeric values to correspond with mutation status\n",
    "mutation_map = {\"Wildtype_Tumor\" : 0, \"Deletion\" : 1}\n",
    "\n",
    "df_genes['PTEN'] = df_genes['Mutation'].map(mutation_map)\n",
    "\n",
    "#Then we will drop missing values, as missing values \n",
    "#will throw an error in the functions we will use in lifelines.\n",
    "df_clean = df_genes.dropna(axis=0, how='any').copy()\n",
    "df_clean = df_clean.drop(columns= 'Mutation') # drop col with str values (info mapped to PTEN as int)"
   ]
  },
  {
   "cell_type": "code",
   "execution_count": 17,
   "metadata": {},
   "outputs": [
    {
     "name": "stdout",
     "output_type": "stream",
     "text": [
      "False    85\n",
      "True     14\n",
      "Name: vital_status, dtype: int64\n",
      "0.0    82\n",
      "1.0    17\n",
      "Name: PTEN, dtype: int64\n"
     ]
    }
   ],
   "source": [
    "print(df_clean.vital_status.value_counts())\n",
    "print(df_clean.PTEN.value_counts())"
   ]
  },
  {
   "cell_type": "code",
   "execution_count": 18,
   "metadata": {},
   "outputs": [
    {
     "data": {
      "text/html": [
       "<div>\n",
       "<style scoped>\n",
       "    .dataframe tbody tr th:only-of-type {\n",
       "        vertical-align: middle;\n",
       "    }\n",
       "\n",
       "    .dataframe tbody tr th {\n",
       "        vertical-align: top;\n",
       "    }\n",
       "\n",
       "    .dataframe thead th {\n",
       "        text-align: right;\n",
       "    }\n",
       "</style>\n",
       "<table border=\"1\" class=\"dataframe\">\n",
       "  <thead>\n",
       "    <tr style=\"text-align: right;\">\n",
       "      <th>Name</th>\n",
       "      <th>days_to_last_contact_or_death</th>\n",
       "      <th>vital_status</th>\n",
       "      <th>PTEN</th>\n",
       "    </tr>\n",
       "    <tr>\n",
       "      <th>Patient_ID</th>\n",
       "      <th></th>\n",
       "      <th></th>\n",
       "      <th></th>\n",
       "    </tr>\n",
       "  </thead>\n",
       "  <tbody>\n",
       "    <tr>\n",
       "      <th>C3N-00204</th>\n",
       "      <td>145.0</td>\n",
       "      <td>True</td>\n",
       "      <td>1.0</td>\n",
       "    </tr>\n",
       "    <tr>\n",
       "      <th>C3N-00829</th>\n",
       "      <td>952.0</td>\n",
       "      <td>True</td>\n",
       "      <td>1.0</td>\n",
       "    </tr>\n",
       "    <tr>\n",
       "      <th>C3N-01339</th>\n",
       "      <td>202.0</td>\n",
       "      <td>True</td>\n",
       "      <td>1.0</td>\n",
       "    </tr>\n",
       "    <tr>\n",
       "      <th>C3N-03009</th>\n",
       "      <td>655.0</td>\n",
       "      <td>True</td>\n",
       "      <td>1.0</td>\n",
       "    </tr>\n",
       "  </tbody>\n",
       "</table>\n",
       "</div>"
      ],
      "text/plain": [
       "Name        days_to_last_contact_or_death  vital_status  PTEN\n",
       "Patient_ID                                                   \n",
       "C3N-00204                           145.0          True   1.0\n",
       "C3N-00829                           952.0          True   1.0\n",
       "C3N-01339                           202.0          True   1.0\n",
       "C3N-03009                           655.0          True   1.0"
      ]
     },
     "execution_count": 18,
     "metadata": {},
     "output_type": "execute_result"
    }
   ],
   "source": [
    "d = df_clean.loc[df_clean['PTEN'] == 1]\n",
    "vs = d.loc[d['vital_status'] == True]\n",
    "vs"
   ]
  },
  {
   "cell_type": "markdown",
   "metadata": {},
   "source": [
    "Verify that your columns are the correct data types.  The event of interest, in this case Vital_Status needs to contain boolean values, and all other columns in the table must be of a numeric type (either int64 or float64)."
   ]
  },
  {
   "cell_type": "code",
   "execution_count": 19,
   "metadata": {},
   "outputs": [
    {
     "name": "stdout",
     "output_type": "stream",
     "text": [
      "days_to_last_contact_or_death : float64\n",
      "vital_status : bool\n",
      "PTEN : float64\n"
     ]
    }
   ],
   "source": [
    "for col in df_clean.columns:\n",
    "    print(col, \":\", df_clean[col].dtype)"
   ]
  },
  {
   "cell_type": "markdown",
   "metadata": {},
   "source": [
    "# Step 5: Plot Multivariate Survival Risk"
   ]
  },
  {
   "cell_type": "markdown",
   "metadata": {},
   "source": [
    "0 is wt. 1 is mutant."
   ]
  },
  {
   "cell_type": "code",
   "execution_count": 20,
   "metadata": {},
   "outputs": [
    {
     "data": {
      "text/plain": [
       "<matplotlib.axes._subplots.AxesSubplot at 0x1948e7a8208>"
      ]
     },
     "execution_count": 20,
     "metadata": {},
     "output_type": "execute_result"
    },
    {
     "data": {
      "image/png": "[encoded data removed]",
      "text/plain": [
       "<Figure size 432x288 with 1 Axes>"
      ]
     },
     "metadata": {
      "needs_background": "light"
     },
     "output_type": "display_data"
    }
   ],
   "source": [
    "plot_title = cancer+\" Survival Risk: PTEN loss\"\n",
    "\n",
    "cph = CoxPHFitter()\n",
    "cph.fit(df_clean, duration_col = \"days_to_last_contact_or_death\", \n",
    "        event_col = \"vital_status\")\n",
    "cph.plot_partial_effects_on_outcome('PTEN', [0,1], cmap='coolwarm', title=plot_title)    \n"
   ]
  },
  {
   "cell_type": "code",
   "execution_count": 21,
   "metadata": {},
   "outputs": [
    {
     "data": {
      "text/html": [
       "<div>\n",
       "<style scoped>\n",
       "    .dataframe tbody tr th:only-of-type {\n",
       "        vertical-align: middle;\n",
       "    }\n",
       "\n",
       "    .dataframe tbody tr th {\n",
       "        vertical-align: top;\n",
       "    }\n",
       "\n",
       "    .dataframe thead th {\n",
       "        text-align: right;\n",
       "    }\n",
       "</style>\n",
       "<table border=\"1\" class=\"dataframe\">\n",
       "  <tbody>\n",
       "    <tr>\n",
       "      <th>model</th>\n",
       "      <td>lifelines.CoxPHFitter</td>\n",
       "    </tr>\n",
       "    <tr>\n",
       "      <th>duration col</th>\n",
       "      <td>'days_to_last_contact_or_death'</td>\n",
       "    </tr>\n",
       "    <tr>\n",
       "      <th>event col</th>\n",
       "      <td>'vital_status'</td>\n",
       "    </tr>\n",
       "    <tr>\n",
       "      <th>baseline estimation</th>\n",
       "      <td>breslow</td>\n",
       "    </tr>\n",
       "    <tr>\n",
       "      <th>number of observations</th>\n",
       "      <td>99</td>\n",
       "    </tr>\n",
       "    <tr>\n",
       "      <th>number of events observed</th>\n",
       "      <td>14</td>\n",
       "    </tr>\n",
       "    <tr>\n",
       "      <th>partial log-likelihood</th>\n",
       "      <td>-52.187</td>\n",
       "    </tr>\n",
       "    <tr>\n",
       "      <th>time fit was run</th>\n",
       "      <td>2020-11-02 21:27:41 UTC</td>\n",
       "    </tr>\n",
       "    <tr>\n",
       "      <th>model</th>\n",
       "      <td>untransformed variables</td>\n",
       "    </tr>\n",
       "  </tbody>\n",
       "</table>\n",
       "</div><table border=\"1\" class=\"dataframe\">\n",
       "  <thead>\n",
       "    <tr style=\"text-align: right;\">\n",
       "      <th style=\"min-width: 12px;\"></th>\n",
       "      <th style=\"min-width: 12px;\">coef</th>\n",
       "      <th style=\"min-width: 12px;\">exp(coef)</th>\n",
       "      <th style=\"min-width: 12px;\">se(coef)</th>\n",
       "      <th style=\"min-width: 12px;\">coef lower 95%</th>\n",
       "      <th style=\"min-width: 12px;\">coef upper 95%</th>\n",
       "      <th style=\"min-width: 12px;\">exp(coef) lower 95%</th>\n",
       "      <th style=\"min-width: 12px;\">exp(coef) upper 95%</th>\n",
       "      <th style=\"min-width: 12px;\">z</th>\n",
       "      <th style=\"min-width: 12px;\">p</th>\n",
       "      <th style=\"min-width: 12px;\">-log2(p)</th>\n",
       "    </tr>\n",
       "  </thead>\n",
       "  <tbody>\n",
       "    <tr>\n",
       "      <th>PTEN</th>\n",
       "      <td>0.537</td>\n",
       "      <td>1.711</td>\n",
       "      <td>0.596</td>\n",
       "      <td>-0.631</td>\n",
       "      <td>1.705</td>\n",
       "      <td>0.532</td>\n",
       "      <td>5.502</td>\n",
       "      <td>0.901</td>\n",
       "      <td>0.367</td>\n",
       "      <td>1.445</td>\n",
       "    </tr>\n",
       "  </tbody>\n",
       "</table><br><div>\n",
       "<style scoped>\n",
       "    .dataframe tbody tr th:only-of-type {\n",
       "        vertical-align: middle;\n",
       "    }\n",
       "\n",
       "    .dataframe tbody tr th {\n",
       "        vertical-align: top;\n",
       "    }\n",
       "\n",
       "    .dataframe thead th {\n",
       "        text-align: right;\n",
       "    }\n",
       "</style>\n",
       "<table border=\"1\" class=\"dataframe\">\n",
       "  <tbody>\n",
       "    <tr>\n",
       "      <th>Concordance</th>\n",
       "      <td>0.529</td>\n",
       "    </tr>\n",
       "    <tr>\n",
       "      <th>Partial AIC</th>\n",
       "      <td>106.373</td>\n",
       "    </tr>\n",
       "    <tr>\n",
       "      <th>log-likelihood ratio test</th>\n",
       "      <td>0.748 on 1 df</td>\n",
       "    </tr>\n",
       "    <tr>\n",
       "      <th>-log2(p) of ll-ratio test</th>\n",
       "      <td>1.370</td>\n",
       "    </tr>\n",
       "  </tbody>\n",
       "</table>\n",
       "</div>"
      ],
      "text/latex": [
       "\\begin{tabular}{lrrrrrrrrrr}\n",
       "\\toprule\n",
       "{} &  coef &  exp(coef) &  se(coef) &  coef lower 95\\% &  coef upper 95\\% &  exp(coef) lower 95\\% &  exp(coef) upper 95\\% &     z &     p &  -log2(p) \\\\\n",
       "covariate &       &            &           &                 &                 &                      &                      &       &       &           \\\\\n",
       "\\midrule\n",
       "PTEN      & 0.537 &      1.711 &     0.596 &          -0.631 &           1.705 &                0.532 &                5.502 & 0.901 & 0.367 &     1.445 \\\\\n",
       "\\bottomrule\n",
       "\\end{tabular}\n"
      ],
      "text/plain": [
       "<lifelines.CoxPHFitter: fitted with 99 total observations, 85 right-censored observations>\n",
       "             duration col = 'days_to_last_contact_or_death'\n",
       "                event col = 'vital_status'\n",
       "      baseline estimation = breslow\n",
       "   number of observations = 99\n",
       "number of events observed = 14\n",
       "   partial log-likelihood = -52.187\n",
       "         time fit was run = 2020-11-02 21:27:41 UTC\n",
       "                    model = untransformed variables\n",
       "\n",
       "---\n",
       "            coef  exp(coef)   se(coef)   coef lower 95%   coef upper 95%  exp(coef) lower 95%  exp(coef) upper 95%\n",
       "covariate                                                                                                         \n",
       "PTEN       0.537      1.711      0.596           -0.631            1.705                0.532                5.502\n",
       "\n",
       "              z     p   -log2(p)\n",
       "covariate                       \n",
       "PTEN      0.901 0.367      1.445\n",
       "---\n",
       "Concordance = 0.529\n",
       "Partial AIC = 106.373\n",
       "log-likelihood ratio test = 0.748 on 1 df\n",
       "-log2(p) of ll-ratio test = 1.370"
      ]
     },
     "metadata": {},
     "output_type": "display_data"
    }
   ],
   "source": [
    "cph.print_summary(model=\"untransformed variables\", decimals=3)\n"
   ]
  },
  {
   "cell_type": "markdown",
   "metadata": {},
   "source": [
    "# Step 6: Cox's Proportional Hazard Test"
   ]
  },
  {
   "cell_type": "markdown",
   "metadata": {},
   "source": [
    "With the proportional_hazard_test function, we can now perform Cox's Proportional Hazard Test on the data to determine how each attribute contributes to our cohort's overall survival. This is shown by the hazard ratio in the column labeled -log2(p) below. In general, a hazard ratio of 1 suggests that an attribute has no effect on overall survival. A ratio less than 1 suggests that an attribute contributes to lower survival risk. A ratio greater than 1 suggests that an attribute contributes to higher survival risk."
   ]
  },
  {
   "cell_type": "code",
   "execution_count": 22,
   "metadata": {},
   "outputs": [
    {
     "data": {
      "text/html": [
       "<div>\n",
       "<style scoped>\n",
       "    .dataframe tbody tr th:only-of-type {\n",
       "        vertical-align: middle;\n",
       "    }\n",
       "\n",
       "    .dataframe tbody tr th {\n",
       "        vertical-align: top;\n",
       "    }\n",
       "\n",
       "    .dataframe thead th {\n",
       "        text-align: right;\n",
       "    }\n",
       "</style>\n",
       "<table border=\"1\" class=\"dataframe\">\n",
       "  <tbody>\n",
       "    <tr>\n",
       "      <th>time_transform</th>\n",
       "      <td>rank</td>\n",
       "    </tr>\n",
       "    <tr>\n",
       "      <th>null_distribution</th>\n",
       "      <td>chi squared</td>\n",
       "    </tr>\n",
       "    <tr>\n",
       "      <th>degrees_of_freedom</th>\n",
       "      <td>1</td>\n",
       "    </tr>\n",
       "    <tr>\n",
       "      <th>model</th>\n",
       "      <td>&lt;lifelines.CoxPHFitter: fitted with 99 total o...</td>\n",
       "    </tr>\n",
       "    <tr>\n",
       "      <th>test_name</th>\n",
       "      <td>proportional_hazard_test</td>\n",
       "    </tr>\n",
       "  </tbody>\n",
       "</table>\n",
       "</div><table border=\"1\" class=\"dataframe\">\n",
       "  <thead>\n",
       "    <tr style=\"text-align: right;\">\n",
       "      <th></th>\n",
       "      <th>test_statistic</th>\n",
       "      <th>p</th>\n",
       "      <th>-log2(p)</th>\n",
       "    </tr>\n",
       "  </thead>\n",
       "  <tbody>\n",
       "    <tr>\n",
       "      <th>PTEN</th>\n",
       "      <td>0.56</td>\n",
       "      <td>0.46</td>\n",
       "      <td>1.13</td>\n",
       "    </tr>\n",
       "  </tbody>\n",
       "</table>"
      ],
      "text/latex": [
       "\\begin{tabular}{lrrr}\n",
       "\\toprule\n",
       "{} &  test\\_statistic &         p &  -log2(p) \\\\\n",
       "\\midrule\n",
       "PTEN &        0.556891 &  0.455516 &  1.134428 \\\\\n",
       "\\bottomrule\n",
       "\\end{tabular}\n"
      ],
      "text/plain": [
       "<lifelines.StatisticalResult: proportional_hazard_test>\n",
       "    time_transform = rank\n",
       " null_distribution = chi squared\n",
       "degrees_of_freedom = 1\n",
       "             model = <lifelines.CoxPHFitter: fitted with 99 total observations, 85 right-censored observations>\n",
       "         test_name = proportional_hazard_test\n",
       "\n",
       "---\n",
       "      test_statistic    p  -log2(p)\n",
       "PTEN            0.56 0.46      1.13"
      ]
     },
     "metadata": {},
     "output_type": "display_data"
    }
   ],
   "source": [
    "results = proportional_hazard_test(cph, df_clean, time_transform='rank')\n",
    "results.print_summary(decimals=3, model=\"untransformed variables\")"
   ]
  },
  {
   "cell_type": "markdown",
   "metadata": {},
   "source": [
    "Below, we show the confidence interval for the hazard ratio. "
   ]
  },
  {
   "cell_type": "code",
   "execution_count": 23,
   "metadata": {},
   "outputs": [
    {
     "data": {
      "text/plain": [
       "<matplotlib.axes._subplots.AxesSubplot at 0x1948b956fd0>"
      ]
     },
     "execution_count": 23,
     "metadata": {},
     "output_type": "execute_result"
    },
    {
     "data": {
      "image/png": "[encoded data removed]",
      "text/plain": [
       "<Figure size 432x288 with 1 Axes>"
      ]
     },
     "metadata": {
      "needs_background": "light"
     },
     "output_type": "display_data"
    }
   ],
   "source": [
    "plt.title(cancer)\n",
    "cph.plot()"
   ]
  },
  {
   "cell_type": "code",
   "execution_count": 24,
   "metadata": {},
   "outputs": [],
   "source": [
    "# log(hazards ratio) = coef = -0.192"
   ]
  },
  {
   "cell_type": "markdown",
   "metadata": {},
   "source": [
    "Conclusions: Because the p-value was greater than 0.05, there is insufficient evidence to suggest the PTEN loss effects survival risk."
   ]
  },
  {
   "cell_type": "code",
   "execution_count": null,
   "metadata": {},
   "outputs": [],
   "source": []
  }
 ],
 "metadata": {
  "kernelspec": {
   "display_name": "Python 3",
   "language": "python",
   "name": "python3"
  },
  "language_info": {
   "codemirror_mode": {
    "name": "ipython",
    "version": 3
   },
   "file_extension": ".py",
   "mimetype": "text/x-python",
   "name": "python",
   "nbconvert_exporter": "python",
   "pygments_lexer": "ipython3",
   "version": "3.7.3"
  }
 },
 "nbformat": 4,
 "nbformat_minor": 4
}
