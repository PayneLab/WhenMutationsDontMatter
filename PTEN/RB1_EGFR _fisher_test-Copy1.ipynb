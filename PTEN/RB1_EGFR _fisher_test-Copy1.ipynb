{
 "cells": [
  {
   "cell_type": "markdown",
   "metadata": {},
   "source": [
    "# RB1 and EGFR Fisher test\n"
   ]
  },
  {
   "cell_type": "code",
   "execution_count": 1,
   "metadata": {},
   "outputs": [
    {
     "name": "stderr",
     "output_type": "stream",
     "text": [
      "Warning: Your version of cptac (0.6.3) is out-of-date. Latest is 0.6.4. Please run 'pip install --upgrade cptac' to update it. (C:\\Users\\brittany henderson\\Anaconda3\\envs\\Research\\lib\\site-packages\\ipykernel_launcher.py, line 11)\n"
     ]
    }
   ],
   "source": [
    "import pandas as pd\n",
    "import numpy as np\n",
    "import seaborn as sns\n",
    "import matplotlib.pyplot as plt\n",
    "import scipy.stats\n",
    "\n",
    "import cptac\n",
    "import cptac.utils as u"
   ]
  },
  {
   "cell_type": "code",
   "execution_count": 4,
   "metadata": {},
   "outputs": [
    {
     "name": "stdout",
     "output_type": "stream",
     "text": [
      "                                    \r"
     ]
    }
   ],
   "source": [
    "#cptac.download(dataset='ccrcc', version='0.0')\n",
    "brain = cptac.Gbm()"
   ]
  },
  {
   "cell_type": "code",
   "execution_count": 67,
   "metadata": {},
   "outputs": [
    {
     "name": "stderr",
     "output_type": "stream",
     "text": [
      "Warning: In joining the somatic_mutation table, no mutations were found for the following samples, so they were filled with Wildtype_Tumor or Wildtype_Normal: 84 samples for the EGFR gene (C:\\Users\\brittany henderson\\Anaconda3\\envs\\Research\\lib\\site-packages\\ipykernel_launcher.py, line 4)\n",
      "Warning: CNV data was not found for the following samples, so CNV data columns were filled with NaN for these samples: S020 (C:\\Users\\brittany henderson\\Anaconda3\\envs\\Research\\lib\\site-packages\\ipykernel_launcher.py, line 4)\n"
     ]
    }
   ],
   "source": [
    "gene = 'EGFR'\n",
    "\n",
    "EGFR_cnv = brain.join_omics_to_mutations(\n",
    "    mutations_genes = gene, omics_df_name = 'CNV', omics_genes = gene)\n",
    "\n",
    "EGFR_cnv['EGFR_binary_mutations'] = np.where(\n",
    "                EGFR_cnv[gene+'_Mutation_Status'] == 'Wildtype_Tumor', 'EGFR_Wildtype', 'EGFR_Mutated')\n",
    "EGFR_tumors = EGFR_cnv[EGFR_cnv.Sample_Status == 'Tumor'] #drop Normal samples\n",
    "columns_to_drop = [gene+'_CNV', gene+\"_Mutation\", gene+\"_Location\", gene+\"_Mutation_Status\", \"Sample_Status\"]\n",
    "EGFR_mut_status = EGFR_tumors.drop(columns_to_drop, axis = 1)"
   ]
  },
  {
   "cell_type": "code",
   "execution_count": 68,
   "metadata": {},
   "outputs": [
    {
     "name": "stderr",
     "output_type": "stream",
     "text": [
      "Warning: In joining the somatic_mutation table, no mutations were found for the following samples, so they were filled with Wildtype_Tumor or Wildtype_Normal: 99 samples for the RB1 gene (C:\\Users\\brittany henderson\\Anaconda3\\envs\\Research\\lib\\site-packages\\ipykernel_launcher.py, line 4)\n"
     ]
    }
   ],
   "source": [
    "gene = 'RB1' \n",
    "\n",
    "RB1_transrcpt_mutations = brain.join_omics_to_mutations(\n",
    "    mutations_genes = gene, omics_df_name = 'transcriptomics', omics_genes = gene)\n",
    "RB1_reduced_t_mutations = brain.reduce_multiindex(RB1_transrcpt_mutations, levels_to_drop=1) #single col labels\n",
    "\n",
    "RB1_reduced_t_mutations['RB1_binary_mutations'] = np.where(\n",
    "                RB1_reduced_t_mutations[gene+'_Mutation_Status'] == 'Wildtype_Tumor', 'RB1_Wildtype', 'RB1_Mutated')\n",
    "RB1_tumors = RB1_reduced_t_mutations[RB1_reduced_t_mutations.Sample_Status == 'Tumor'] #drop Normal samples\n",
    "columns_to_drop = [gene+'_transcriptomics', gene+\"_Mutation\", gene+\"_Location\", gene+\"_Mutation_Status\", \"Sample_Status\"]\n",
    "RB1_mut_status = RB1_tumors.drop(columns_to_drop, axis = 1)"
   ]
  },
  {
   "cell_type": "code",
   "execution_count": 69,
   "metadata": {},
   "outputs": [
    {
     "name": "stdout",
     "output_type": "stream",
     "text": [
      "RB1 wt/EGFR wt:  75\n",
      "RB1 wt/EGFR mut:  15\n"
     ]
    }
   ],
   "source": [
    "RB1_EGFR = RB1_mut_status.join(EGFR_mut_status)\n",
    "\n",
    "rb1_wt = RB1_EGFR.loc[RB1_EGFR['RB1_binary_mutations'] == 'RB1_Wildtype']\n",
    "rb1_wt_egfr_wt = rb1_wt.loc[rb1_wt['EGFR_binary_mutations'] == 'EGFR_Wildtype']\n",
    "both_wt_count = len(rb1_wt_egfr_wt)\n",
    "print(\"RB1 wt/EGFR wt: \", both_wt_count)\n",
    "\n",
    "rb1_wt_egfr_mut = rb1_wt.loc[rb1_wt['EGFR_binary_mutations'] == 'EGFR_Mutated']\n",
    "rb1_wt_egfr_mut_count = len(rb1_wt_egfr_mut)\n",
    "print(\"RB1 wt/EGFR mut: \", rb1_wt_egfr_mut_count)"
   ]
  },
  {
   "cell_type": "code",
   "execution_count": 70,
   "metadata": {},
   "outputs": [
    {
     "name": "stdout",
     "output_type": "stream",
     "text": [
      "RB1 mut/EGFR wt:  9\n",
      "RB1 mut/EGFR mut:  1\n"
     ]
    }
   ],
   "source": [
    "rb1_mut = RB1_EGFR.loc[RB1_EGFR['RB1_binary_mutations'] == 'RB1_Mutated']\n",
    "rb1_mut_egfr_wt = rb1_mut.loc[rb1_mut['EGFR_binary_mutations'] == 'EGFR_Wildtype']\n",
    "rb1_mut_egfr_wt_count = len(rb1_mut_egfr_wt)\n",
    "print(\"RB1 mut/EGFR wt: \", rb1_mut_egfr_wt_count)\n",
    "\n",
    "rb1_mut_egfr_mut = rb1_mut.loc[rb1_mut['EGFR_binary_mutations'] == 'EGFR_Mutated']\n",
    "both_mut_count = len(rb1_mut_egfr_mut)\n",
    "print(\"RB1 mut/EGFR mut: \", both_mut_count)"
   ]
  },
  {
   "cell_type": "code",
   "execution_count": 73,
   "metadata": {},
   "outputs": [
    {
     "data": {
      "text/plain": [
       "0.4997723737779574"
      ]
     },
     "execution_count": 73,
     "metadata": {},
     "output_type": "execute_result"
    }
   ],
   "source": [
    "# one sided -less\n",
    "oddsratio, pvalue = scipy.stats.fisher_exact([[both_wt_count,rb1_wt_egfr_mut_count],[rb1_mut_egfr_wt_count, both_mut_count]], alternative='less')\n",
    "pvalue"
   ]
  },
  {
   "cell_type": "code",
   "execution_count": null,
   "metadata": {},
   "outputs": [],
   "source": []
  }
 ],
 "metadata": {
  "kernelspec": {
   "display_name": "Python 3",
   "language": "python",
   "name": "python3"
  },
  "language_info": {
   "codemirror_mode": {
    "name": "ipython",
    "version": 3
   },
   "file_extension": ".py",
   "mimetype": "text/x-python",
   "name": "python",
   "nbconvert_exporter": "python",
   "pygments_lexer": "ipython3",
   "version": "3.7.3"
  }
 },
 "nbformat": 4,
 "nbformat_minor": 2
}
