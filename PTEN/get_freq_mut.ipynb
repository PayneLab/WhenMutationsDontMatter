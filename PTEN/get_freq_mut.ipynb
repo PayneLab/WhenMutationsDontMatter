{
 "cells": [
  {
   "cell_type": "code",
   "execution_count": 2,
   "id": "consecutive-semester",
   "metadata": {},
   "outputs": [],
   "source": [
    "import cptac\n",
    "import cptac.utils as ut\n",
    "import cptac.pancan as pc"
   ]
  },
  {
   "cell_type": "code",
   "execution_count": null,
   "id": "comparable-diving",
   "metadata": {},
   "outputs": [],
   "source": [
    "pc.download('umichcoad', version='1.1')"
   ]
  },
  {
   "cell_type": "code",
   "execution_count": 3,
   "id": "transsexual-learning",
   "metadata": {},
   "outputs": [
    {
     "name": "stdout",
     "output_type": "stream",
     "text": [
      "                                                 \r"
     ]
    }
   ],
   "source": [
    "b =pc.PancanBrca()"
   ]
  },
  {
   "cell_type": "code",
   "execution_count": 4,
   "id": "thrown-abuse",
   "metadata": {},
   "outputs": [
    {
     "data": {
      "text/html": [
       "<div>\n",
       "<style scoped>\n",
       "    .dataframe tbody tr th:only-of-type {\n",
       "        vertical-align: middle;\n",
       "    }\n",
       "\n",
       "    .dataframe tbody tr th {\n",
       "        vertical-align: top;\n",
       "    }\n",
       "\n",
       "    .dataframe thead th {\n",
       "        text-align: right;\n",
       "    }\n",
       "</style>\n",
       "<table border=\"1\" class=\"dataframe\">\n",
       "  <thead>\n",
       "    <tr style=\"text-align: right;\">\n",
       "      <th></th>\n",
       "      <th>StromalScore</th>\n",
       "      <th>ImmuneScore</th>\n",
       "      <th>ESTIMATEScore</th>\n",
       "      <th>TumorPurity</th>\n",
       "    </tr>\n",
       "    <tr>\n",
       "      <th>Patient_ID</th>\n",
       "      <th></th>\n",
       "      <th></th>\n",
       "      <th></th>\n",
       "      <th></th>\n",
       "    </tr>\n",
       "  </thead>\n",
       "  <tbody>\n",
       "    <tr>\n",
       "      <th>01BR001</th>\n",
       "      <td>-222.717052</td>\n",
       "      <td>292.696193</td>\n",
       "      <td>69.979141</td>\n",
       "      <td>0.816624</td>\n",
       "    </tr>\n",
       "    <tr>\n",
       "      <th>01BR015</th>\n",
       "      <td>735.859361</td>\n",
       "      <td>1030.818291</td>\n",
       "      <td>1766.677652</td>\n",
       "      <td>0.649161</td>\n",
       "    </tr>\n",
       "    <tr>\n",
       "      <th>01BR017</th>\n",
       "      <td>913.798461</td>\n",
       "      <td>1829.287231</td>\n",
       "      <td>2743.085692</td>\n",
       "      <td>0.533857</td>\n",
       "    </tr>\n",
       "    <tr>\n",
       "      <th>01BR018</th>\n",
       "      <td>884.561715</td>\n",
       "      <td>2118.912245</td>\n",
       "      <td>3003.473961</td>\n",
       "      <td>0.501156</td>\n",
       "    </tr>\n",
       "    <tr>\n",
       "      <th>01BR025</th>\n",
       "      <td>-204.453056</td>\n",
       "      <td>489.256112</td>\n",
       "      <td>284.803057</td>\n",
       "      <td>0.798021</td>\n",
       "    </tr>\n",
       "    <tr>\n",
       "      <th>...</th>\n",
       "      <td>...</td>\n",
       "      <td>...</td>\n",
       "      <td>...</td>\n",
       "      <td>...</td>\n",
       "    </tr>\n",
       "    <tr>\n",
       "      <th>21BR001</th>\n",
       "      <td>116.647326</td>\n",
       "      <td>2006.397913</td>\n",
       "      <td>2123.045239</td>\n",
       "      <td>0.608501</td>\n",
       "    </tr>\n",
       "    <tr>\n",
       "      <th>21BR002</th>\n",
       "      <td>953.089089</td>\n",
       "      <td>1924.183895</td>\n",
       "      <td>2877.272984</td>\n",
       "      <td>0.517100</td>\n",
       "    </tr>\n",
       "    <tr>\n",
       "      <th>21BR010</th>\n",
       "      <td>1159.477242</td>\n",
       "      <td>496.793579</td>\n",
       "      <td>1656.270821</td>\n",
       "      <td>0.661403</td>\n",
       "    </tr>\n",
       "    <tr>\n",
       "      <th>22BR005</th>\n",
       "      <td>402.272273</td>\n",
       "      <td>1321.366130</td>\n",
       "      <td>1723.638403</td>\n",
       "      <td>0.653954</td>\n",
       "    </tr>\n",
       "    <tr>\n",
       "      <th>22BR006</th>\n",
       "      <td>731.302699</td>\n",
       "      <td>943.364501</td>\n",
       "      <td>1674.667200</td>\n",
       "      <td>0.659375</td>\n",
       "    </tr>\n",
       "  </tbody>\n",
       "</table>\n",
       "<p>113 rows × 4 columns</p>\n",
       "</div>"
      ],
      "text/plain": [
       "            StromalScore  ImmuneScore  ESTIMATEScore  TumorPurity\n",
       "Patient_ID                                                       \n",
       "01BR001      -222.717052   292.696193      69.979141     0.816624\n",
       "01BR015       735.859361  1030.818291    1766.677652     0.649161\n",
       "01BR017       913.798461  1829.287231    2743.085692     0.533857\n",
       "01BR018       884.561715  2118.912245    3003.473961     0.501156\n",
       "01BR025      -204.453056   489.256112     284.803057     0.798021\n",
       "...                  ...          ...            ...          ...\n",
       "21BR001       116.647326  2006.397913    2123.045239     0.608501\n",
       "21BR002       953.089089  1924.183895    2877.272984     0.517100\n",
       "21BR010      1159.477242   496.793579    1656.270821     0.661403\n",
       "22BR005       402.272273  1321.366130    1723.638403     0.653954\n",
       "22BR006       731.302699   943.364501    1674.667200     0.659375\n",
       "\n",
       "[113 rows x 4 columns]"
      ]
     },
     "execution_count": 4,
     "metadata": {},
     "output_type": "execute_result"
    }
   ],
   "source": [
    "b.get_tumor_purity('washu')"
   ]
  },
  {
   "cell_type": "code",
   "execution_count": null,
   "id": "surprising-radar",
   "metadata": {},
   "outputs": [],
   "source": [
    "g=pc.PancanGbm()"
   ]
  },
  {
   "cell_type": "code",
   "execution_count": null,
   "id": "novel-stuff",
   "metadata": {},
   "outputs": [],
   "source": [
    "o=pc.PancanOv()"
   ]
  },
  {
   "cell_type": "code",
   "execution_count": null,
   "id": "ambient-equity",
   "metadata": {},
   "outputs": [],
   "source": [
    "o.get_clinical(tissue_type = 'both')"
   ]
  },
  {
   "cell_type": "code",
   "execution_count": null,
   "id": "associate-conflict",
   "metadata": {},
   "outputs": [],
   "source": [
    "g.join_omics_to_mutations(mutations_genes = ['PTEN'], omics_df_name = 'proteomics', omics_source = 'umich', \n",
    "                                            omics_genes = 'PTEN', tissue_type = 'both')"
   ]
  },
  {
   "cell_type": "code",
   "execution_count": null,
   "id": "adapted-washington",
   "metadata": {},
   "outputs": [],
   "source": [
    "co = pc.PancanCoad()"
   ]
  },
  {
   "cell_type": "code",
   "execution_count": null,
   "id": "compact-console",
   "metadata": {},
   "outputs": [],
   "source": [
    "p=co.get_proteomics()\n",
    "p_list = p.index.to_list()\n",
    "p"
   ]
  },
  {
   "cell_type": "code",
   "execution_count": null,
   "id": "authorized-force",
   "metadata": {},
   "outputs": [],
   "source": [
    "ph = co.get_phosphoproteomics()\n",
    "ph"
   ]
  },
  {
   "cell_type": "code",
   "execution_count": null,
   "id": "comparable-facing",
   "metadata": {},
   "outputs": [],
   "source": []
  },
  {
   "cell_type": "code",
   "execution_count": null,
   "id": "funded-premium",
   "metadata": {},
   "outputs": [],
   "source": []
  },
  {
   "cell_type": "code",
   "execution_count": null,
   "id": "executed-fever",
   "metadata": {},
   "outputs": [],
   "source": []
  },
  {
   "cell_type": "code",
   "execution_count": null,
   "id": "present-register",
   "metadata": {},
   "outputs": [],
   "source": [
    "pc.download('all')"
   ]
  },
  {
   "cell_type": "code",
   "execution_count": null,
   "id": "following-fluid",
   "metadata": {},
   "outputs": [],
   "source": [
    "ov=cptac.Ovarian()"
   ]
  },
  {
   "cell_type": "code",
   "execution_count": null,
   "id": "dirty-discretion",
   "metadata": {},
   "outputs": [],
   "source": [
    "o=pc.PancanOv(version = '1.0')"
   ]
  },
  {
   "cell_type": "code",
   "execution_count": null,
   "id": "established-equilibrium",
   "metadata": {},
   "outputs": [],
   "source": [
    "cnv = o.get_CNV('washu')\n",
    "sm = o.get_somatic_mutation('washu')\n",
    "rn = o.get_transcriptomics('bcm')\n"
   ]
  },
  {
   "cell_type": "code",
   "execution_count": null,
   "id": "supreme-sudan",
   "metadata": {},
   "outputs": [],
   "source": [
    "p=o.get_proteomics()\n",
    "p_list = p.index.to_list()\n",
    "p"
   ]
  },
  {
   "cell_type": "code",
   "execution_count": null,
   "id": "speaking-looking",
   "metadata": {},
   "outputs": [],
   "source": [
    "df = rn\n",
    "i = df.index.intersection(p.index)\n",
    "len(i)"
   ]
  },
  {
   "cell_type": "code",
   "execution_count": null,
   "id": "golden-guidance",
   "metadata": {},
   "outputs": [],
   "source": [
    "o.get_phosphoproteomics()"
   ]
  },
  {
   "cell_type": "code",
   "execution_count": null,
   "id": "unsigned-carol",
   "metadata": {},
   "outputs": [],
   "source": []
  }
 ],
 "metadata": {
  "kernelspec": {
   "display_name": "Python 3",
   "language": "python",
   "name": "python3"
  },
  "language_info": {
   "codemirror_mode": {
    "name": "ipython",
    "version": 3
   },
   "file_extension": ".py",
   "mimetype": "text/x-python",
   "name": "python",
   "nbconvert_exporter": "python",
   "pygments_lexer": "ipython3",
   "version": "3.8.8"
  }
 },
 "nbformat": 4,
 "nbformat_minor": 5
}
