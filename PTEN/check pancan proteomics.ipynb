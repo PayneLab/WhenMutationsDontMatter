{
 "cells": [
  {
   "cell_type": "code",
   "execution_count": 1,
   "id": "magnetic-tribute",
   "metadata": {},
   "outputs": [],
   "source": [
    "import pandas as pd\n",
    "import cptac.pancan as pc"
   ]
  },
  {
   "cell_type": "code",
   "execution_count": null,
   "id": "pleasant-continent",
   "metadata": {},
   "outputs": [],
   "source": [
    "# cancers with aliquot_to_patient mapping (5)\n",
    "g = pc.PancanGbm()\n",
    "l = pc.PancanLuad()\n",
    "ls = pc.PancanLscc()\n",
    "e = pc.PancanUcec()\n",
    "r = pc.PancanCcrcc()"
   ]
  },
  {
   "cell_type": "code",
   "execution_count": null,
   "id": "personal-garage",
   "metadata": {},
   "outputs": [],
   "source": [
    "# others (4)\n",
    "h = pc.PancanHnscc()\n",
    "b = pc.PancanBrca()\n",
    "o = pc.PancanOv()\n",
    "c = pc.PancanCoad()"
   ]
  },
  {
   "cell_type": "code",
   "execution_count": 19,
   "id": "permanent-empty",
   "metadata": {},
   "outputs": [
    {
     "name": "stdout",
     "output_type": "stream",
     "text": [
      "Loading washuhnscc v1.0..........                \r"
     ]
    },
    {
     "name": "stderr",
     "output_type": "stream",
     "text": [
      "INFO:root:Extracted GTF attributes: ['gene_id', 'gene_type', 'gene_status', 'gene_name', 'level', 'havana_gene', 'transcript_id', 'transcript_type', 'transcript_status', 'transcript_name', 'tag', 'transcript_support_level', 'havana_transcript', 'exon_number', 'exon_id', 'ont', 'protein_id', 'ccdsid']\n"
     ]
    },
    {
     "name": "stdout",
     "output_type": "stream",
     "text": [
      "                                 \r",
      "Formatting dataframes...\r",
      "                        \r"
     ]
    }
   ],
   "source": [
    "h = pc.PancanHnscc()"
   ]
  },
  {
   "cell_type": "code",
   "execution_count": 12,
   "id": "suspected-antarctica",
   "metadata": {},
   "outputs": [
    {
     "name": "stdout",
     "output_type": "stream",
     "text": [
      "bcm\n",
      "\tcircular_RNA\n",
      "\tgene_key\n",
      "\ttranscriptomics\n",
      "mssm\n",
      "\tcancer_diagnosis\n",
      "\tclinical\n",
      "\tdemographic\n",
      "\tfollowup\n",
      "\tmedical_conditions\n",
      "\tprevious_cancer\n",
      "pdc\n",
      "\tclinical\n",
      "\tphosphoproteomics\n",
      "\tproteomics\n",
      "umich\n",
      "\tphosphoproteomics\n",
      "\tproteomics\n",
      "washu\n",
      "\tCNV\n",
      "\tCNV_gene_ids\n",
      "\tcibersort\n",
      "\tmature_miRNA\n",
      "\tprecursor_miRNA\n",
      "\tsomatic_mutation\n",
      "\ttotal_miRNA\n",
      "\ttranscriptomics\n",
      "\ttranscriptomics_norm\n",
      "\txcell\n"
     ]
    }
   ],
   "source": [
    "h.list_sources_data()"
   ]
  },
  {
   "cell_type": "code",
   "execution_count": null,
   "id": "efficient-consultancy",
   "metadata": {},
   "outputs": [],
   "source": [
    "#'C3L-00994-C', 'C3L-02617-C', 'C3L-04350-C', 'C3L-05257-C', 'C3N-01757-C', 'C3N-03042-C'\n",
    "ch = ['C3L-00994-C', 'C3L-02617-C', 'C3L-04350-C', 'C3L-05257-C', 'C3N-01757-C', 'C3N-03042-C']"
   ]
  },
  {
   "cell_type": "code",
   "execution_count": 3,
   "id": "placed-gravity",
   "metadata": {},
   "outputs": [
    {
     "name": "stdout",
     "output_type": "stream",
     "text": [
      "Please login to Box on the webpage that was just opened and grant access for cptac to download files through your account. If you accidentally closed the browser window, press Ctrl+C and call the download function again.\n",
      "                                                 \r"
     ]
    },
    {
     "data": {
      "text/plain": [
       "True"
      ]
     },
     "execution_count": 3,
     "metadata": {},
     "output_type": "execute_result"
    }
   ],
   "source": [
    "pc.download('pancanhnscc')"
   ]
  },
  {
   "cell_type": "code",
   "execution_count": 20,
   "id": "reasonable-sterling",
   "metadata": {},
   "outputs": [
    {
     "data": {
      "text/plain": [
       "Index([], dtype='object', name='Patient_ID')"
      ]
     },
     "execution_count": 20,
     "metadata": {},
     "output_type": "execute_result"
    }
   ],
   "source": [
    "ca = h\n",
    "p = h.get_proteomics('umich')\n",
    "p.index[p.index.str.contains('C$')]\n"
   ]
  },
  {
   "cell_type": "code",
   "execution_count": 9,
   "id": "waiting-miami",
   "metadata": {},
   "outputs": [
    {
     "name": "stdout",
     "output_type": "stream",
     "text": [
      "tumor: 110\n",
      "normal: 66\n",
      "NO duplicates in index\n",
      "NO duplicates in columns\n",
      "['C3L-00977', 'C3L-00987', 'C3L-00994', 'C3L-00995', 'C3L-00997', 'C3L-00999', 'C3L-01138', 'C3L-01237', 'C3L-02617', 'C3L-02621', 'C3L-02651', 'C3L-03378', 'C3L-04025', 'C3L-04354', 'C3L-04791', 'C3L-04844', 'C3L-04849', 'C3N-00204', 'C3N-00295', 'C3N-00297', 'C3N-00299', 'C3N-00306', 'C3N-00307', 'C3N-00498', 'C3N-00519', 'C3N-00822', 'C3N-00825', 'C3N-00828', 'C3N-00829', 'C3N-00846', 'C3N-00857', 'C3N-00871', 'C3N-01337', 'C3N-01338', 'C3N-01339', 'C3N-01340', 'C3N-01620', 'C3N-01643', 'C3N-01645', 'C3N-01752', 'C3N-01754', 'C3N-01755', 'C3N-01756', 'C3N-01757', 'C3N-01758', 'C3N-01858', 'C3N-01859', 'C3N-01943', 'C3N-01944', 'C3N-01945', 'C3N-01946', 'C3N-01947', 'C3N-01948', 'C3N-02275', 'C3N-02279', 'C3N-02333', 'C3N-02693', 'C3N-02694', 'C3N-02695', 'C3N-02700', 'C3N-02713', 'C3N-02714', 'C3N-02716', 'C3N-02727', 'C3N-02730', 'C3N-02925', 'C3N-03008', 'C3N-03009', 'C3N-03011', 'C3N-03012', 'C3N-03013', 'C3N-03015', 'C3N-03027', 'C3N-03028', 'C3N-03042', 'C3N-03045', 'C3N-03226', 'C3N-03433', 'C3N-03456', 'C3N-03457', 'C3N-03458', 'C3N-03487', 'C3N-03488', 'C3N-03490', 'C3N-03612', 'C3N-03619', 'C3N-03620', 'C3N-03664', 'C3N-03781', 'C3N-03782', 'C3N-03783', 'C3N-03785', 'C3N-03837', 'C3N-03841', 'C3N-03849', 'C3N-03876', 'C3N-03878', 'C3N-03888', 'C3N-03889', 'C3N-03928', 'C3N-03933', 'C3N-04152', 'C3N-04273', 'C3N-04275', 'C3N-04276', 'C3N-04277', 'C3N-04278', 'C3N-04279', 'C3N-04280', 'C3N-04611', 'C3L-00994.N', 'C3L-00995.N', 'C3L-00997.N', 'C3L-00999.N', 'C3L-01138.N', 'C3L-01237.N', 'C3L-02617.N', 'C3L-02621.N', 'C3L-02651.N', 'C3L-03378.N', 'C3L-04354.N', 'C3L-04844.N', 'C3N-00204.N', 'C3N-00295.N', 'C3N-00306.N', 'C3N-00307.N', 'C3N-00498.N', 'C3N-00519.N', 'C3N-00829.N', 'C3N-00857.N', 'C3N-01337.N', 'C3N-01338.N', 'C3N-01340.N', 'C3N-01620.N', 'C3N-01645.N', 'C3N-01754.N', 'C3N-01756.N', 'C3N-01758.N', 'C3N-01858.N', 'C3N-01859.N', 'C3N-01943.N', 'C3N-01944.N', 'C3N-01946.N', 'C3N-01947.N', 'C3N-02275.N', 'C3N-02279.N', 'C3N-02693.N', 'C3N-02713.N', 'C3N-02714.N', 'C3N-03008.N', 'C3N-03011.N', 'C3N-03012.N', 'C3N-03013.N', 'C3N-03015.N', 'C3N-03027.N', 'C3N-03028.N', 'C3N-03045.N', 'C3N-03488.N', 'C3N-03490.N', 'C3N-03612.N', 'C3N-03619.N', 'C3N-03620.N', 'C3N-03781.N', 'C3N-03837.N', 'C3N-03841.N', 'C3N-03849.N', 'C3N-03876.N', 'C3N-03878.N', 'C3N-03888.N', 'C3N-03928.N', 'C3N-03933.N', 'C3N-04275.N', 'C3N-04276.N', 'C3N-04277.N', 'C3N-04278.N', 'C3N-04279.N']\n",
      "\n",
      "\n"
     ]
    }
   ],
   "source": [
    "# Check tumor/normal counts\n",
    "tumor = p.loc[~ p.index.str.contains('\\.[NC]$')]\n",
    "normal = p.loc[p.index.str.contains('\\.[NC]$')]\n",
    "print('tumor:', len(tumor))\n",
    "print('normal:', len(normal))\n",
    "\n",
    "    # Check if there are duplicates in index\n",
    "if True in set(p.index.duplicated()):\n",
    "    print('duplicates in index')\n",
    "    print(p.index[p.index.duplicated()])\n",
    "else:\n",
    "    print('NO duplicates in index')\n",
    "\n",
    "# Check if there are duplicates in columns\n",
    "if True in set(p.columns.duplicated()):\n",
    "    print('duplicates in columns')\n",
    "    print(set(p.columns.duplicated()))\n",
    "else:\n",
    "    print('NO duplicates in columns')\n",
    "\n",
    "print(p.index.to_list())\n",
    "print('\\n')"
   ]
  },
  {
   "cell_type": "code",
   "execution_count": null,
   "id": "embedded-proceeding",
   "metadata": {},
   "outputs": [],
   "source": [
    "cancers = {'GBM':g, 'LUAD':l, 'LSCC':ls, 'UCEC':e, 'CCRCC':r, 'HNSCC':h, 'BR':b, 'OV':o, 'CO':c}"
   ]
  },
  {
   "cell_type": "code",
   "execution_count": null,
   "id": "parliamentary-cotton",
   "metadata": {},
   "outputs": [],
   "source": [
    "for ca_name in cancers:\n",
    "    print(ca_name)\n",
    "    p = cancers[ca_name].get_proteomics(source = 'umich')\n",
    "    \n",
    "    # Check tumor/normal counts\n",
    "    tumor = p.loc[~ p.index.str.contains('\\.N$')]\n",
    "    normal = p.loc[p.index.str.contains('\\.N$')]\n",
    "    print('tumor:', len(tumor))\n",
    "    print('normal:', len(normal))\n",
    "    \n",
    "        # Check if there are duplicates in index\n",
    "    if True in set(p.index.duplicated()):\n",
    "        print('duplicates in index')\n",
    "        print(p.index[p.index.duplicated()])\n",
    "    else:\n",
    "        print('NO duplicates in index')\n",
    "        \n",
    "    # Check if there are duplicates in columns\n",
    "    if True in set(p.columns.duplicated()):\n",
    "        print('duplicates in columns')\n",
    "        print(set(p.columns.duplicated()))\n",
    "    else:\n",
    "        print('NO duplicates in columns')\n",
    "    \n",
    "    print(p.index.to_list())\n",
    "    print('\\n')"
   ]
  },
  {
   "cell_type": "code",
   "execution_count": null,
   "id": "empirical-australia",
   "metadata": {},
   "outputs": [],
   "source": []
  },
  {
   "cell_type": "code",
   "execution_count": null,
   "id": "endless-workplace",
   "metadata": {},
   "outputs": [],
   "source": [
    "p = e.get_proteomics('umich')\n",
    "p"
   ]
  },
  {
   "cell_type": "code",
   "execution_count": null,
   "id": "facial-owner",
   "metadata": {},
   "outputs": [],
   "source": [
    "# Check tumor/normal counts\n",
    "tumor = p.loc[~ p.index.str.contains('\\.N$')]\n",
    "normal = p.loc[p.index.str.contains('\\.N$')]\n",
    "print('tumor:', len(tumor))\n",
    "print('normal:', len(normal))\n"
   ]
  },
  {
   "cell_type": "code",
   "execution_count": null,
   "id": "concerned-breakdown",
   "metadata": {},
   "outputs": [],
   "source": [
    "# Check if there are duplicates in index\n",
    "if True in set(p.index.duplicated()):\n",
    "    print('duplicates')\n",
    "    print(p.index[p.index.duplicated()])\n",
    "else:\n",
    "    print('NO duplicates in index')\n",
    "    "
   ]
  },
  {
   "cell_type": "code",
   "execution_count": null,
   "id": "grateful-friend",
   "metadata": {},
   "outputs": [],
   "source": [
    "p.loc[p.index[p.index.duplicated()]]"
   ]
  },
  {
   "cell_type": "code",
   "execution_count": null,
   "id": "detailed-indicator",
   "metadata": {},
   "outputs": [],
   "source": [
    "# Check if there are duplicates in columns\n",
    "if True in set(p.columns.duplicated()):\n",
    "    print('duplicates')\n",
    "    print(set(p.columns.duplicated()))\n",
    "else:\n",
    "    print('NO duplicates in columns')\n",
    "    "
   ]
  },
  {
   "cell_type": "code",
   "execution_count": null,
   "id": "wicked-pakistan",
   "metadata": {},
   "outputs": [],
   "source": [
    "# check all ids mapped\n",
    "p.index.to_list()"
   ]
  },
  {
   "cell_type": "code",
   "execution_count": null,
   "id": "sought-dominican",
   "metadata": {},
   "outputs": [],
   "source": [
    " "
   ]
  }
 ],
 "metadata": {
  "kernelspec": {
   "display_name": "Python 3",
   "language": "python",
   "name": "python3"
  },
  "language_info": {
   "codemirror_mode": {
    "name": "ipython",
    "version": 3
   },
   "file_extension": ".py",
   "mimetype": "text/x-python",
   "name": "python",
   "nbconvert_exporter": "python",
   "pygments_lexer": "ipython3",
   "version": "3.8.8"
  }
 },
 "nbformat": 4,
 "nbformat_minor": 5
}
