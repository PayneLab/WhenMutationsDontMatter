{
 "cells": [
  {
   "cell_type": "markdown",
   "metadata": {},
   "source": [
    "# Pancancer Boxplot for PTEN and EGFR trans effects on MCM2"
   ]
  },
  {
   "cell_type": "markdown",
   "metadata": {},
   "source": [
    "This notebook creates a boxplot for the trans effect of PTEN cnv deletions in 8 cancers. These 8 cancers were chosen because they have enough samples with PTEN cnv deletions to do a t-test. Only Ccrcc does not have enough samples with deletions. "
   ]
  },
  {
   "cell_type": "markdown",
   "metadata": {},
   "source": [
    "Imports"
   ]
  },
  {
   "cell_type": "code",
   "execution_count": 1,
   "metadata": {},
   "outputs": [],
   "source": [
    "import pandas as pd\n",
    "import numpy as np\n",
    "import seaborn as sns\n",
    "import matplotlib.pyplot as plt\n",
    "import scipy.stats\n",
    "import gseapy as gp\n",
    "import re\n",
    "import sys \n",
    "\n",
    "import cptac\n",
    "import cptac.utils as u\n",
    "\n",
    "import sys\n",
    "import plot_utils as p"
   ]
  },
  {
   "cell_type": "markdown",
   "metadata": {},
   "source": [
    "Functions:\n",
    "\n",
    "format_df prepares a data frame with PTEN proteomics and PTEN mutation types from get_genotype_all_vars.\n",
    "\n",
    "format_pval_annotation is used to add marks to the boxplot. A star represents significant p-value and \"ns\" represents a nonsignificant p-value."
   ]
  },
  {
   "cell_type": "code",
   "execution_count": 2,
   "metadata": {},
   "outputs": [],
   "source": [
    "# Returns a dataframe with proteomics and mutation type\n",
    "\n",
    "# all_prot: list of trans genes\n",
    "\n",
    "def format_df(cancer_object, all_prot, gene_in = 'PTEN'):\n",
    "    mut_type = cancer_object.get_genotype_all_vars(gene_in)\n",
    "    \n",
    "    if cancer_object.get_cancer_type() not in ('luad'):\n",
    "        # Keep only tumor samples from proteomics\n",
    "        prot_and_mutations = cancer_object.join_omics_to_mutations(\n",
    "            mutations_genes = [gene_in], omics_df_name = 'proteomics', omics_genes = all_prot)\n",
    "        # Reduce a multiindex \n",
    "        if isinstance(prot_and_mutations.keys(), pd.core.indexes.multi.MultiIndex):\n",
    "            prot_and_mutations = cancer_object.reduce_multiindex(prot_and_mutations, levels_to_drop = 1)\n",
    "        prot_and_mutations = prot_and_mutations[prot_and_mutations.Sample_Status == \"Tumor\"] # drop Normal samples\n",
    "\n",
    "        # Merge Mutation column from get_genotype_all_vars (includes cnv) with proteomics\n",
    "        mut_type = mut_type[['Mutation']] \n",
    "        prot_df = prot_and_mutations.iloc[:,:-4] # Keep only proteomics\n",
    "        merged = prot_df.join(mut_type)\n",
    "        \n",
    "        # Keep only Wildtype and deletion\n",
    "        compare = ['Wildtype_Tumor','Deletion']\n",
    "        get = merged['Mutation'].isin(compare)\n",
    "        del_wt = merged[get]\n",
    "    \n",
    "    \n",
    "    # Luad has no somatic mutations for PTEN which changes some things\n",
    "    else: \n",
    "        # get_genotype_all_vars add cnv data under the column PTEN\n",
    "        mut_type = mut_type.drop(columns= gene_in)\n",
    "        # different code because no somatic mutation data for pten (can't join to somatic mutations)\n",
    "        omics = l.join_omics_to_omics(df1_name = 'CNV', df2_name='proteomics',genes1= gene_in, \n",
    "            genes2= all_prot)\n",
    "        omics = l.reduce_multiindex(omics, levels_to_drop = 1, flatten = True)\n",
    "        omics = omics.drop(columns='PTEN_CNV')\n",
    "        # Get only tumor samples\n",
    "        p = l.get_proteomics(tissue_type='tumor')\n",
    "        tumor_ids = list(p.index)\n",
    "        get = omics.index.isin(tumor_ids)\n",
    "        omics = omics[get]\n",
    "        # Merge Mutation column from get_genotype_all_vars (includes cnv) with proteomics\n",
    "        merged = omics.join(mut_type) \n",
    "        # Keep only No_Mutation (wildtype) and deletion\n",
    "        compare = ['No_Mutation','Deletion']\n",
    "        get = merged['Mutation'].isin(compare)\n",
    "        del_wt = merged[get]\n",
    "        del_wt['Mutation'] = np.where(\n",
    "            del_wt['Mutation'] == 'No_Mutation', 'Wildtype_Tumor', 'Deletion')\n",
    "\n",
    "    return del_wt\n"
   ]
  },
  {
   "cell_type": "code",
   "execution_count": 3,
   "metadata": {},
   "outputs": [],
   "source": [
    "def format_pval_annotation(pval_symbol, x1, x2, line_start = .05, line_height=.05):\n",
    "    # for manual adjustment to pval annotations\n",
    "    \n",
    "    y, h = line_start, line_height\n",
    "    plt.plot([x1, x1, x2, x2], #draw horizontal line\n",
    "             [y, y+h, y+h, y], #vertical line\n",
    "             lw=1.5, color= '.3')\n",
    "    plt.text((x1+x2)*.5, # half between x coord\n",
    "             y+h, pval_symbol, horizontalalignment='center', verticalalignment='bottom', color = \"black\")\n"
   ]
  },
  {
   "cell_type": "markdown",
   "metadata": {},
   "source": [
    "# Step 1: Create data frames with PTEN cnv deletion and Proteomics"
   ]
  },
  {
   "cell_type": "markdown",
   "metadata": {},
   "source": [
    "Each cancer needs a data frame containing only samples that have PTEN cnv deletions or PTEN wildtype tumors and PTEN proteomics."
   ]
  },
  {
   "cell_type": "markdown",
   "metadata": {},
   "source": [
    "First, load in cancer data sets from cptac. Note: Keep the variable names the same because they are used in format_df to reduce multiindexs found in certain cancer data sets. "
   ]
  },
  {
   "cell_type": "code",
   "execution_count": 4,
   "metadata": {},
   "outputs": [
    {
     "name": "stdout",
     "output_type": "stream",
     "text": [
      "Checking that lscc index is up-to-date...       \r"
     ]
    },
    {
     "name": "stderr",
     "output_type": "stream",
     "text": [
      "cptac warning: The LUAD dataset is under publication embargo until July 01, 2020. CPTAC is a community resource project and data are made available rapidly after generation for community research use. The embargo allows exploring and utilizing the data, but analysis may not be published until after the embargo date. Please see https://proteomics.cancer.gov/data-portal/about/data-use-agreement or enter cptac.embargo() to open the webpage for more details. (C:\\Users\\brittany henderson\\Anaconda3\\envs\\Research\\lib\\site-packages\\ipykernel_launcher.py, line 3)\n"
     ]
    },
    {
     "name": "stdout",
     "output_type": "stream",
     "text": [
      "Checking that brca index is up-to-date...   \r"
     ]
    },
    {
     "name": "stderr",
     "output_type": "stream",
     "text": [
      "cptac warning: The GBM dataset is under publication embargo until March 01, 2021. CPTAC is a community resource project and data are made available rapidly after generation for community research use. The embargo allows exploring and utilizing the data, but analysis may not be published until after the embargo date. Please see https://proteomics.cancer.gov/data-portal/about/data-use-agreement or enter cptac.embargo() to open the webpage for more details. (C:\\Users\\brittany henderson\\Anaconda3\\envs\\Research\\lib\\site-packages\\ipykernel_launcher.py, line 8)\n"
     ]
    },
    {
     "name": "stdout",
     "output_type": "stream",
     "text": [
      "                                         \r"
     ]
    }
   ],
   "source": [
    "en = cptac.Endometrial()\n",
    "h = cptac.Hnscc()\n",
    "l = cptac.Luad()\n",
    "ls = cptac.Lscc()\n",
    "o = cptac.Ovarian()\n",
    "c = cptac.Ccrcc()\n",
    "col = cptac.Colon()\n",
    "g = cptac.Gbm()\n",
    "b = cptac.Brca()"
   ]
  },
  {
   "cell_type": "markdown",
   "metadata": {},
   "source": [
    "Next, use format_df to create the specific data frame for each cancer. Use wrap_ttest to test PTEN deletion vs. wildtype. "
   ]
  },
  {
   "cell_type": "markdown",
   "metadata": {},
   "source": [
    "# Gbm"
   ]
  },
  {
   "cell_type": "code",
   "execution_count": 6,
   "metadata": {},
   "outputs": [],
   "source": [
    "def add_dual_mut_status(del_wt, prot_gene_col):    \n",
    "    g_df = del_wt.iloc[:,1:]\n",
    "    g_df['dual_mut_status'] = 'neither'\n",
    "\n",
    "    for index, row in g_df.iterrows():\n",
    "        if row[0] != 'Wildtype_Tumor' and row[1] != 'Wildtype_Tumor':\n",
    "            row['dual_mut_status'] = 'both'\n",
    "        elif row[0] == 'Wildtype_Tumor' and row[1] != 'Wildtype_Tumor':\n",
    "            row['dual_mut_status'] = 'EGFR'\n",
    "        elif row[0] != 'Wildtype_Tumor' and row[1] == 'Wildtype_Tumor':\n",
    "            row['dual_mut_status'] = 'PTEN'\n",
    "\n",
    "    del_wt = del_wt[[prot_gene_col]].join(g_df)\n",
    "    return del_wt\n",
    "    "
   ]
  },
  {
   "cell_type": "code",
   "execution_count": 8,
   "metadata": {},
   "outputs": [
    {
     "name": "stderr",
     "output_type": "stream",
     "text": [
      "cptac warning: In joining the somatic_mutation table, no mutations were found for the following samples, so they were filled with Wildtype_Tumor or Wildtype_Normal: 72 samples for the PTEN gene (C:\\Users\\brittany henderson\\Anaconda3\\envs\\Research\\lib\\site-packages\\cptac\\dataset.py, line 383)\n",
      "cptac warning: CNV data was not found for the following samples, so CNV data columns were filled with NaN for these samples: C3L-01834 (C:\\Users\\brittany henderson\\Anaconda3\\envs\\Research\\lib\\site-packages\\cptac\\dataset.py, line 383)\n",
      "cptac warning: In joining the somatic_mutation table, no mutations were found for the following samples, so they were filled with Wildtype_Tumor or Wildtype_Normal: 82 samples for the PTEN gene (C:\\Users\\brittany henderson\\Anaconda3\\envs\\Research\\lib\\site-packages\\ipykernel_launcher.py, line 11)\n",
      "cptac warning: In joining the somatic_mutation table, no mutations were found for the following samples, so they were filled with Wildtype_Tumor or Wildtype_Normal: 83 samples for the EGFR gene (C:\\Users\\brittany henderson\\Anaconda3\\envs\\Research\\lib\\site-packages\\cptac\\dataset.py, line 383)\n",
      "cptac warning: CNV data was not found for the following samples, so CNV data columns were filled with NaN for these samples: C3L-01834 (C:\\Users\\brittany henderson\\Anaconda3\\envs\\Research\\lib\\site-packages\\cptac\\dataset.py, line 383)\n"
     ]
    },
    {
     "name": "stdout",
     "output_type": "stream",
     "text": [
      "both       61\n",
      "neither    10\n",
      "PTEN        7\n",
      "EGFR        3\n",
      "Name: dual_mut_status, dtype: int64\n"
     ]
    },
    {
     "data": {
      "text/html": [
       "<div>\n",
       "<style scoped>\n",
       "    .dataframe tbody tr th:only-of-type {\n",
       "        vertical-align: middle;\n",
       "    }\n",
       "\n",
       "    .dataframe tbody tr th {\n",
       "        vertical-align: top;\n",
       "    }\n",
       "\n",
       "    .dataframe thead th {\n",
       "        text-align: right;\n",
       "    }\n",
       "</style>\n",
       "<table border=\"1\" class=\"dataframe\">\n",
       "  <thead>\n",
       "    <tr style=\"text-align: right;\">\n",
       "      <th>Name</th>\n",
       "      <th>MCM2_proteomics</th>\n",
       "      <th>Mutation_PTEN</th>\n",
       "      <th>Mutation_EGFR</th>\n",
       "      <th>dual_mut_status</th>\n",
       "    </tr>\n",
       "    <tr>\n",
       "      <th>Patient_ID</th>\n",
       "      <th></th>\n",
       "      <th></th>\n",
       "      <th></th>\n",
       "      <th></th>\n",
       "    </tr>\n",
       "  </thead>\n",
       "  <tbody>\n",
       "    <tr>\n",
       "      <th>C3L-00104</th>\n",
       "      <td>0.865204</td>\n",
       "      <td>Deletion</td>\n",
       "      <td>Amplification</td>\n",
       "      <td>both</td>\n",
       "    </tr>\n",
       "    <tr>\n",
       "      <th>C3L-00674</th>\n",
       "      <td>-0.236399</td>\n",
       "      <td>Deletion</td>\n",
       "      <td>Amplification</td>\n",
       "      <td>both</td>\n",
       "    </tr>\n",
       "    <tr>\n",
       "      <th>C3L-00677</th>\n",
       "      <td>-0.093372</td>\n",
       "      <td>Deletion</td>\n",
       "      <td>Amplification</td>\n",
       "      <td>both</td>\n",
       "    </tr>\n",
       "    <tr>\n",
       "      <th>C3L-01040</th>\n",
       "      <td>-0.957693</td>\n",
       "      <td>Deletion</td>\n",
       "      <td>Amplification</td>\n",
       "      <td>both</td>\n",
       "    </tr>\n",
       "    <tr>\n",
       "      <th>C3L-01043</th>\n",
       "      <td>0.152897</td>\n",
       "      <td>Deletion</td>\n",
       "      <td>Amplification</td>\n",
       "      <td>both</td>\n",
       "    </tr>\n",
       "  </tbody>\n",
       "</table>\n",
       "</div>"
      ],
      "text/plain": [
       "Name        MCM2_proteomics Mutation_PTEN  Mutation_EGFR dual_mut_status\n",
       "Patient_ID                                                              \n",
       "C3L-00104          0.865204      Deletion  Amplification            both\n",
       "C3L-00674         -0.236399      Deletion  Amplification            both\n",
       "C3L-00677         -0.093372      Deletion  Amplification            both\n",
       "C3L-01040         -0.957693      Deletion  Amplification            both\n",
       "C3L-01043          0.152897      Deletion  Amplification            both"
      ]
     },
     "execution_count": 8,
     "metadata": {},
     "output_type": "execute_result"
    }
   ],
   "source": [
    "gene = 'PTEN'\n",
    "t_gene = 'MCM2'\n",
    "g_del_wt = format_df(g, t_gene)\n",
    "\n",
    "# add EGFR\n",
    "mut_egfr = g.get_genotype_all_vars('EGFR')\n",
    "g_del_wt = g_del_wt.join(mut_egfr[['Mutation']], lsuffix='_PTEN', rsuffix='_EGFR')\n",
    "\n",
    "# Keep only Wildtype and amplification\n",
    "compare = ['Wildtype_Tumor','Amplification']\n",
    "get = g_del_wt['Mutation_EGFR'].isin(compare)\n",
    "cnv_wt = g_del_wt[get]\n",
    "\n",
    "g_df = add_dual_mut_status(cnv_wt, 'MCM2_proteomics')\n",
    "    \n",
    "print(g_df.dual_mut_status.value_counts())\n",
    "g_df.head()"
   ]
  },
  {
   "cell_type": "code",
   "execution_count": 9,
   "metadata": {},
   "outputs": [
    {
     "name": "stdout",
     "output_type": "stream",
     "text": [
      "Amplification     64\n",
      "Wildtype_Tumor    17\n",
      "Name: Mutation_EGFR, dtype: int64\n"
     ]
    },
    {
     "data": {
      "text/html": [
       "<div>\n",
       "<style scoped>\n",
       "    .dataframe tbody tr th:only-of-type {\n",
       "        vertical-align: middle;\n",
       "    }\n",
       "\n",
       "    .dataframe tbody tr th {\n",
       "        vertical-align: top;\n",
       "    }\n",
       "\n",
       "    .dataframe thead th {\n",
       "        text-align: right;\n",
       "    }\n",
       "</style>\n",
       "<table border=\"1\" class=\"dataframe\">\n",
       "  <thead>\n",
       "    <tr style=\"text-align: right;\">\n",
       "      <th></th>\n",
       "      <th>Comparison</th>\n",
       "      <th>P_Value</th>\n",
       "    </tr>\n",
       "  </thead>\n",
       "  <tbody>\n",
       "    <tr>\n",
       "      <th>0</th>\n",
       "      <td>MCM2_proteomics</td>\n",
       "      <td>0.079702</td>\n",
       "    </tr>\n",
       "  </tbody>\n",
       "</table>\n",
       "</div>"
      ],
      "text/plain": [
       "        Comparison   P_Value\n",
       "0  MCM2_proteomics  0.079702"
      ]
     },
     "execution_count": 9,
     "metadata": {},
     "output_type": "execute_result"
    }
   ],
   "source": [
    "# ttest for egfr amp and wt\n",
    "keep = ['Wildtype_Tumor', 'Amplification']\n",
    "bool_df = g_df['Mutation_EGFR'].isin(keep)\n",
    "g_egfr_wt = g_df[bool_df]\n",
    "print(g_egfr_wt.Mutation_EGFR.value_counts())\n",
    "\n",
    "# t-test\n",
    "cols = [t_gene+'_proteomics']\n",
    "g_pval = u.wrap_ttest(g_egfr_wt, 'Mutation_EGFR', cols, return_all = True)\n",
    "gp = g_pval['P_Value'][0]\n",
    "g_pval"
   ]
  },
  {
   "cell_type": "code",
   "execution_count": 10,
   "metadata": {},
   "outputs": [
    {
     "name": "stdout",
     "output_type": "stream",
     "text": [
      "both       61\n",
      "neither    10\n",
      "Name: dual_mut_status, dtype: int64\n"
     ]
    },
    {
     "data": {
      "text/html": [
       "<div>\n",
       "<style scoped>\n",
       "    .dataframe tbody tr th:only-of-type {\n",
       "        vertical-align: middle;\n",
       "    }\n",
       "\n",
       "    .dataframe tbody tr th {\n",
       "        vertical-align: top;\n",
       "    }\n",
       "\n",
       "    .dataframe thead th {\n",
       "        text-align: right;\n",
       "    }\n",
       "</style>\n",
       "<table border=\"1\" class=\"dataframe\">\n",
       "  <thead>\n",
       "    <tr style=\"text-align: right;\">\n",
       "      <th></th>\n",
       "      <th>Comparison</th>\n",
       "      <th>P_Value</th>\n",
       "    </tr>\n",
       "  </thead>\n",
       "  <tbody>\n",
       "    <tr>\n",
       "      <th>0</th>\n",
       "      <td>MCM2_proteomics</td>\n",
       "      <td>0.006134</td>\n",
       "    </tr>\n",
       "  </tbody>\n",
       "</table>\n",
       "</div>"
      ],
      "text/plain": [
       "        Comparison   P_Value\n",
       "0  MCM2_proteomics  0.006134"
      ]
     },
     "execution_count": 10,
     "metadata": {},
     "output_type": "execute_result"
    }
   ],
   "source": [
    "# t-test both vs wt\n",
    "keep = ['neither', 'both']\n",
    "bool_df = g_df['dual_mut_status'].isin(keep)\n",
    "dual_df = g_df[bool_df]\n",
    "print(dual_df.dual_mut_status.value_counts())\n",
    "\n",
    "cols = [t_gene+'_proteomics']\n",
    "dual_g_pval = u.wrap_ttest(dual_df, 'dual_mut_status', cols, return_all = True)\n",
    "dual_gp = dual_g_pval['P_Value'][0]\n",
    "dual_g_pval"
   ]
  },
  {
   "cell_type": "markdown",
   "metadata": {},
   "source": [
    "# Luad"
   ]
  },
  {
   "cell_type": "code",
   "execution_count": 11,
   "metadata": {},
   "outputs": [
    {
     "name": "stderr",
     "output_type": "stream",
     "text": [
      "cptac warning: CNV data was not found for the following samples, so CNV data columns were filled with NaN for these samples: C3L-00001.N, C3L-00009.N, C3L-00080.N, C3L-00083.N, C3L-00093.N, C3L-00094.N, C3L-00095.N, C3L-00140.N, C3L-00144.N, C3L-00263.N, C3L-00279.N, C3L-00368.N, C3L-00412.N, C3L-00422.N, C3L-00510.N, C3L-00604.N, C3L-00893.N, C3L-00913.N, C3L-00973.N, C3L-01330.N, C3L-01632.N, C3L-01682.N, C3L-01683.N, C3L-01889.N, C3L-01890, C3L-01890.N, C3L-01924.N, C3L-02219.N, C3L-02345.N, C3L-02348.N, C3L-02350.N, C3L-02365.N, C3L-02508.N, C3L-02549.N, C3N-00167.N, C3N-00169.N, C3N-00175.N, C3N-00180.N, C3N-00199.N, C3N-00203.N, C3N-00217.N, C3N-00223.N, C3N-00293.N, C3N-00433.N, C3N-00546.N, C3N-00547.N, C3N-00549.N, C3N-00550.N, C3N-00551.N, C3N-00552.N, C3N-00556.N, C3N-00559.N, C3N-00560.N, C3N-00572.N, C3N-00574.N, C3N-00578.N, C3N-00579.N, C3N-00580.N, C3N-00704.N, C3N-00737.N, C3N-00738.N, C3N-00959.N, C3N-01016.N, C3N-01021.N, C3N-01023.N, C3N-01024.N, C3N-01030.N, C3N-01071.N, C3N-01072.N, C3N-01405.N, C3N-01410.N, C3N-01413.N, C3N-01414.N, C3N-01415.N, C3N-01416.N, C3N-01488.N, C3N-01489.N, C3N-01799.N, C3N-01823.N, C3N-02000.N, C3N-02002.N, C3N-02003.N, C3N-02067.N, C3N-02087.N, C3N-02089.N, C3N-02145.N, C3N-02149.N, C3N-02155.N, C3N-02158.N, C3N-02379.N, C3N-02380.N, C3N-02421.N, C3N-02423.N, C3N-02424.N, C3N-02433.N, C3N-02529.N, C3N-02572.N, C3N-02582.N, C3N-02586.N, C3N-02587.N, C3N-02588.N, C3N-02729.N (C:\\Users\\brittany henderson\\Anaconda3\\envs\\Research\\lib\\site-packages\\ipykernel_launcher.py, line 34)\n",
      "cptac warning: You tried to flatten an index that didn't have multiple levels, so we didn't actually change anything. (C:\\Users\\brittany henderson\\Anaconda3\\envs\\Research\\lib\\site-packages\\ipykernel_launcher.py, line 35)\n",
      "C:\\Users\\brittany henderson\\Anaconda3\\envs\\Research\\lib\\site-packages\\ipykernel_launcher.py:49: SettingWithCopyWarning: \n",
      "A value is trying to be set on a copy of a slice from a DataFrame.\n",
      "Try using .loc[row_indexer,col_indexer] = value instead\n",
      "\n",
      "See the caveats in the documentation: https://pandas.pydata.org/pandas-docs/stable/user_guide/indexing.html#returning-a-view-versus-a-copy\n",
      "cptac warning: In joining the somatic_mutation table, no mutations were found for the following samples, so they were filled with Wildtype_Tumor or Wildtype_Normal: 69 samples for the EGFR gene (C:\\Users\\brittany henderson\\Anaconda3\\envs\\Research\\lib\\site-packages\\cptac\\dataset.py, line 383)\n"
     ]
    }
   ],
   "source": [
    "l_del_wt = format_df(l, t_gene)\n",
    "\n",
    "# add EGFR\n",
    "l_mut_egfr = l.get_genotype_all_vars('EGFR')\n",
    "l_del_wt = l_del_wt.join(l_mut_egfr[['Mutation']], lsuffix='_PTEN', rsuffix='_EGFR')\n",
    "\n",
    "# Keep only Wildtype and amplification\n",
    "compare = ['Wildtype_Tumor','Amplification']\n",
    "get = l_del_wt['Mutation_EGFR'].isin(compare)\n",
    "l_cnv_wt = l_del_wt[get]\n",
    "    \n",
    "l_df = add_dual_mut_status(l_cnv_wt, 'MCM2_proteomics')"
   ]
  },
  {
   "cell_type": "code",
   "execution_count": 12,
   "metadata": {},
   "outputs": [
    {
     "name": "stdout",
     "output_type": "stream",
     "text": [
      "Wildtype_Tumor    51\n",
      "Amplification     26\n",
      "Name: Mutation_EGFR, dtype: int64\n"
     ]
    },
    {
     "data": {
      "text/html": [
       "<div>\n",
       "<style scoped>\n",
       "    .dataframe tbody tr th:only-of-type {\n",
       "        vertical-align: middle;\n",
       "    }\n",
       "\n",
       "    .dataframe tbody tr th {\n",
       "        vertical-align: top;\n",
       "    }\n",
       "\n",
       "    .dataframe thead th {\n",
       "        text-align: right;\n",
       "    }\n",
       "</style>\n",
       "<table border=\"1\" class=\"dataframe\">\n",
       "  <thead>\n",
       "    <tr style=\"text-align: right;\">\n",
       "      <th></th>\n",
       "      <th>Comparison</th>\n",
       "      <th>P_Value</th>\n",
       "    </tr>\n",
       "  </thead>\n",
       "  <tbody>\n",
       "    <tr>\n",
       "      <th>0</th>\n",
       "      <td>MCM2_proteomics</td>\n",
       "      <td>0.879024</td>\n",
       "    </tr>\n",
       "  </tbody>\n",
       "</table>\n",
       "</div>"
      ],
      "text/plain": [
       "        Comparison   P_Value\n",
       "0  MCM2_proteomics  0.879024"
      ]
     },
     "execution_count": 12,
     "metadata": {},
     "output_type": "execute_result"
    }
   ],
   "source": [
    "# ttest for egfr amp and wt\n",
    "keep = ['Wildtype_Tumor', 'Amplification']\n",
    "bool_df = l_df['Mutation_EGFR'].isin(keep)\n",
    "l_egfr_wt = l_df[bool_df]\n",
    "print(l_egfr_wt.Mutation_EGFR.value_counts())\n",
    "\n",
    "# t-test\n",
    "cols = [t_gene+'_proteomics']\n",
    "l_pval = u.wrap_ttest(l_egfr_wt, 'Mutation_EGFR', cols, return_all = True)\n",
    "lp = l_pval['P_Value'][0]\n",
    "l_pval"
   ]
  },
  {
   "cell_type": "code",
   "execution_count": 13,
   "metadata": {},
   "outputs": [
    {
     "name": "stdout",
     "output_type": "stream",
     "text": [
      "neither    48\n",
      "both        7\n",
      "Name: dual_mut_status, dtype: int64\n"
     ]
    },
    {
     "data": {
      "text/html": [
       "<div>\n",
       "<style scoped>\n",
       "    .dataframe tbody tr th:only-of-type {\n",
       "        vertical-align: middle;\n",
       "    }\n",
       "\n",
       "    .dataframe tbody tr th {\n",
       "        vertical-align: top;\n",
       "    }\n",
       "\n",
       "    .dataframe thead th {\n",
       "        text-align: right;\n",
       "    }\n",
       "</style>\n",
       "<table border=\"1\" class=\"dataframe\">\n",
       "  <thead>\n",
       "    <tr style=\"text-align: right;\">\n",
       "      <th></th>\n",
       "      <th>Comparison</th>\n",
       "      <th>P_Value</th>\n",
       "    </tr>\n",
       "  </thead>\n",
       "  <tbody>\n",
       "    <tr>\n",
       "      <th>0</th>\n",
       "      <td>MCM2_proteomics</td>\n",
       "      <td>0.547054</td>\n",
       "    </tr>\n",
       "  </tbody>\n",
       "</table>\n",
       "</div>"
      ],
      "text/plain": [
       "        Comparison   P_Value\n",
       "0  MCM2_proteomics  0.547054"
      ]
     },
     "execution_count": 13,
     "metadata": {},
     "output_type": "execute_result"
    }
   ],
   "source": [
    "# t-test both vs neither\n",
    "keep = ['neither', 'both']\n",
    "bool_df = l_df['dual_mut_status'].isin(keep)\n",
    "dual_df = l_df[bool_df]\n",
    "print(dual_df.dual_mut_status.value_counts())\n",
    "\n",
    "cols = [t_gene+'_proteomics']\n",
    "dual_l_pval = u.wrap_ttest(dual_df, 'dual_mut_status', cols, return_all = True)\n",
    "dual_lp = dual_l_pval['P_Value'][0]\n",
    "dual_l_pval"
   ]
  },
  {
   "cell_type": "markdown",
   "metadata": {},
   "source": [
    "# Lscc"
   ]
  },
  {
   "cell_type": "code",
   "execution_count": 14,
   "metadata": {},
   "outputs": [
    {
     "name": "stderr",
     "output_type": "stream",
     "text": [
      "cptac warning: In joining the somatic_mutation table, no mutations were found for the following samples, so they were filled with Wildtype_Tumor or Wildtype_Normal: 99 samples for the PTEN gene (C:\\Users\\brittany henderson\\Anaconda3\\envs\\Research\\lib\\site-packages\\cptac\\dataset.py, line 383)\n",
      "cptac warning: In joining the somatic_mutation table, no mutations were found for the following samples, so they were filled with Wildtype_Tumor or Wildtype_Normal: 201 samples for the PTEN gene (C:\\Users\\brittany henderson\\Anaconda3\\envs\\Research\\lib\\site-packages\\ipykernel_launcher.py, line 11)\n",
      "cptac warning: In joining the somatic_mutation table, no mutations were found for the following samples, so they were filled with Wildtype_Tumor or Wildtype_Normal: 106 samples for the EGFR gene (C:\\Users\\brittany henderson\\Anaconda3\\envs\\Research\\lib\\site-packages\\cptac\\dataset.py, line 383)\n"
     ]
    }
   ],
   "source": [
    "ls_del_wt = format_df(ls, t_gene)\n",
    "\n",
    "# add EGFR\n",
    "ls_mut_egfr = ls.get_genotype_all_vars('EGFR')\n",
    "ls_del_wt = ls_del_wt.join(ls_mut_egfr[['Mutation']], lsuffix='_PTEN', rsuffix='_EGFR')\n",
    "\n",
    "# Keep only Wildtype and amplification\n",
    "compare = ['Wildtype_Tumor','Amplification']\n",
    "get = ls_del_wt['Mutation_EGFR'].isin(compare)\n",
    "ls_cnv_wt = ls_del_wt[get]\n",
    "    \n",
    "ls_df = add_dual_mut_status(ls_cnv_wt, 'MCM2_proteomics')"
   ]
  },
  {
   "cell_type": "code",
   "execution_count": 15,
   "metadata": {},
   "outputs": [
    {
     "name": "stdout",
     "output_type": "stream",
     "text": [
      "Wildtype_Tumor    71\n",
      "Amplification     20\n",
      "Name: Mutation_EGFR, dtype: int64\n"
     ]
    },
    {
     "data": {
      "text/html": [
       "<div>\n",
       "<style scoped>\n",
       "    .dataframe tbody tr th:only-of-type {\n",
       "        vertical-align: middle;\n",
       "    }\n",
       "\n",
       "    .dataframe tbody tr th {\n",
       "        vertical-align: top;\n",
       "    }\n",
       "\n",
       "    .dataframe thead th {\n",
       "        text-align: right;\n",
       "    }\n",
       "</style>\n",
       "<table border=\"1\" class=\"dataframe\">\n",
       "  <thead>\n",
       "    <tr style=\"text-align: right;\">\n",
       "      <th></th>\n",
       "      <th>Comparison</th>\n",
       "      <th>P_Value</th>\n",
       "    </tr>\n",
       "  </thead>\n",
       "  <tbody>\n",
       "    <tr>\n",
       "      <th>0</th>\n",
       "      <td>MCM2_proteomics</td>\n",
       "      <td>0.409642</td>\n",
       "    </tr>\n",
       "  </tbody>\n",
       "</table>\n",
       "</div>"
      ],
      "text/plain": [
       "        Comparison   P_Value\n",
       "0  MCM2_proteomics  0.409642"
      ]
     },
     "execution_count": 15,
     "metadata": {},
     "output_type": "execute_result"
    }
   ],
   "source": [
    "# ttest for egfr amp and wt\n",
    "keep = ['Wildtype_Tumor', 'Amplification']\n",
    "bool_df = ls_df['Mutation_EGFR'].isin(keep)\n",
    "ls_egfr_wt = ls_df[bool_df]\n",
    "print(ls_egfr_wt.Mutation_EGFR.value_counts())\n",
    "\n",
    "# t-test\n",
    "cols = [t_gene+'_proteomics']\n",
    "ls_pval = u.wrap_ttest(ls_egfr_wt, 'Mutation_EGFR', cols, return_all = True)\n",
    "lsp = ls_pval['P_Value'][0]\n",
    "ls_pval"
   ]
  },
  {
   "cell_type": "code",
   "execution_count": 16,
   "metadata": {},
   "outputs": [
    {
     "name": "stdout",
     "output_type": "stream",
     "text": [
      "neither    50\n",
      "both        9\n",
      "Name: dual_mut_status, dtype: int64\n"
     ]
    },
    {
     "data": {
      "text/html": [
       "<div>\n",
       "<style scoped>\n",
       "    .dataframe tbody tr th:only-of-type {\n",
       "        vertical-align: middle;\n",
       "    }\n",
       "\n",
       "    .dataframe tbody tr th {\n",
       "        vertical-align: top;\n",
       "    }\n",
       "\n",
       "    .dataframe thead th {\n",
       "        text-align: right;\n",
       "    }\n",
       "</style>\n",
       "<table border=\"1\" class=\"dataframe\">\n",
       "  <thead>\n",
       "    <tr style=\"text-align: right;\">\n",
       "      <th></th>\n",
       "      <th>Comparison</th>\n",
       "      <th>P_Value</th>\n",
       "    </tr>\n",
       "  </thead>\n",
       "  <tbody>\n",
       "    <tr>\n",
       "      <th>0</th>\n",
       "      <td>MCM2_proteomics</td>\n",
       "      <td>0.006704</td>\n",
       "    </tr>\n",
       "  </tbody>\n",
       "</table>\n",
       "</div>"
      ],
      "text/plain": [
       "        Comparison   P_Value\n",
       "0  MCM2_proteomics  0.006704"
      ]
     },
     "execution_count": 16,
     "metadata": {},
     "output_type": "execute_result"
    }
   ],
   "source": [
    "# t-test both vs neither\n",
    "keep = ['neither', 'both']\n",
    "bool_df = ls_df['dual_mut_status'].isin(keep)\n",
    "dual_df = ls_df[bool_df]\n",
    "print(dual_df.dual_mut_status.value_counts())\n",
    "\n",
    "cols = [t_gene+'_proteomics']\n",
    "dual_ls_pval = u.wrap_ttest(dual_df, 'dual_mut_status', cols, return_all = True)\n",
    "dual_lsp = dual_ls_pval['P_Value'][0]\n",
    "dual_ls_pval"
   ]
  },
  {
   "cell_type": "markdown",
   "metadata": {},
   "source": [
    "# Ovarian"
   ]
  },
  {
   "cell_type": "code",
   "execution_count": 17,
   "metadata": {},
   "outputs": [
    {
     "name": "stderr",
     "output_type": "stream",
     "text": [
      "cptac warning: In joining the somatic_mutation table, no mutations were found for the following samples, so they were filled with Wildtype_Tumor or Wildtype_Normal: 98 samples for the PTEN gene (C:\\Users\\brittany henderson\\Anaconda3\\envs\\Research\\lib\\site-packages\\cptac\\dataset.py, line 383)\n",
      "cptac warning: CNV data was not found for the following samples, so CNV data columns were filled with NaN for these samples: 01OV029, 02OV015 (C:\\Users\\brittany henderson\\Anaconda3\\envs\\Research\\lib\\site-packages\\cptac\\dataset.py, line 383)\n",
      "cptac warning: In joining the somatic_mutation table, no mutations were found for the following samples, so they were filled with Wildtype_Tumor or Wildtype_Normal: 99 samples for the PTEN gene (C:\\Users\\brittany henderson\\Anaconda3\\envs\\Research\\lib\\site-packages\\ipykernel_launcher.py, line 11)\n",
      "cptac warning: In joining the somatic_mutation table, no mutations were found for the following samples, so they were filled with Wildtype_Tumor or Wildtype_Normal: 101 samples for the EGFR gene (C:\\Users\\brittany henderson\\Anaconda3\\envs\\Research\\lib\\site-packages\\cptac\\dataset.py, line 383)\n",
      "cptac warning: CNV data was not found for the following samples, so CNV data columns were filled with NaN for these samples: 01OV029, 02OV015 (C:\\Users\\brittany henderson\\Anaconda3\\envs\\Research\\lib\\site-packages\\cptac\\dataset.py, line 383)\n"
     ]
    }
   ],
   "source": [
    "o_del_wt = format_df(o, t_gene)\n",
    "\n",
    "# add EGFR\n",
    "mut_egfr = o.get_genotype_all_vars('EGFR')\n",
    "o_del_wt = o_del_wt.join(mut_egfr[['Mutation']], lsuffix='_PTEN', rsuffix='_EGFR')\n",
    "\n",
    "# Keep only Wildtype and amplification\n",
    "compare = ['Wildtype_Tumor','Amplification']\n",
    "get = o_del_wt['Mutation_EGFR'].isin(compare)\n",
    "o_cnv_wt = o_del_wt[get]\n",
    "    \n",
    "o_df = add_dual_mut_status(o_cnv_wt, 'MCM2_proteomics')"
   ]
  },
  {
   "cell_type": "code",
   "execution_count": 18,
   "metadata": {},
   "outputs": [
    {
     "name": "stdout",
     "output_type": "stream",
     "text": [
      "Wildtype_Tumor    42\n",
      "Amplification     15\n",
      "Name: Mutation_EGFR, dtype: int64\n"
     ]
    },
    {
     "data": {
      "text/html": [
       "<div>\n",
       "<style scoped>\n",
       "    .dataframe tbody tr th:only-of-type {\n",
       "        vertical-align: middle;\n",
       "    }\n",
       "\n",
       "    .dataframe tbody tr th {\n",
       "        vertical-align: top;\n",
       "    }\n",
       "\n",
       "    .dataframe thead th {\n",
       "        text-align: right;\n",
       "    }\n",
       "</style>\n",
       "<table border=\"1\" class=\"dataframe\">\n",
       "  <thead>\n",
       "    <tr style=\"text-align: right;\">\n",
       "      <th></th>\n",
       "      <th>Comparison</th>\n",
       "      <th>P_Value</th>\n",
       "    </tr>\n",
       "  </thead>\n",
       "  <tbody>\n",
       "    <tr>\n",
       "      <th>0</th>\n",
       "      <td>MCM2_proteomics</td>\n",
       "      <td>0.300767</td>\n",
       "    </tr>\n",
       "  </tbody>\n",
       "</table>\n",
       "</div>"
      ],
      "text/plain": [
       "        Comparison   P_Value\n",
       "0  MCM2_proteomics  0.300767"
      ]
     },
     "execution_count": 18,
     "metadata": {},
     "output_type": "execute_result"
    }
   ],
   "source": [
    "# ttest for egfr amp and wt\n",
    "keep = ['Wildtype_Tumor', 'Amplification']\n",
    "bool_df = o_df['Mutation_EGFR'].isin(keep)\n",
    "o_egfr_wt = o_df[bool_df]\n",
    "print(o_egfr_wt.Mutation_EGFR.value_counts())\n",
    "\n",
    "# t-test\n",
    "cols = [t_gene+'_proteomics']\n",
    "o_pval = u.wrap_ttest(o_egfr_wt, 'Mutation_EGFR', cols, return_all = True)\n",
    "op = o_pval['P_Value'][0]\n",
    "o_pval"
   ]
  },
  {
   "cell_type": "code",
   "execution_count": 19,
   "metadata": {},
   "outputs": [
    {
     "name": "stdout",
     "output_type": "stream",
     "text": [
      "neither    29\n",
      "both        4\n",
      "Name: dual_mut_status, dtype: int64\n"
     ]
    },
    {
     "data": {
      "text/html": [
       "<div>\n",
       "<style scoped>\n",
       "    .dataframe tbody tr th:only-of-type {\n",
       "        vertical-align: middle;\n",
       "    }\n",
       "\n",
       "    .dataframe tbody tr th {\n",
       "        vertical-align: top;\n",
       "    }\n",
       "\n",
       "    .dataframe thead th {\n",
       "        text-align: right;\n",
       "    }\n",
       "</style>\n",
       "<table border=\"1\" class=\"dataframe\">\n",
       "  <thead>\n",
       "    <tr style=\"text-align: right;\">\n",
       "      <th></th>\n",
       "      <th>Comparison</th>\n",
       "      <th>P_Value</th>\n",
       "    </tr>\n",
       "  </thead>\n",
       "  <tbody>\n",
       "    <tr>\n",
       "      <th>0</th>\n",
       "      <td>MCM2_proteomics</td>\n",
       "      <td>0.845888</td>\n",
       "    </tr>\n",
       "  </tbody>\n",
       "</table>\n",
       "</div>"
      ],
      "text/plain": [
       "        Comparison   P_Value\n",
       "0  MCM2_proteomics  0.845888"
      ]
     },
     "execution_count": 19,
     "metadata": {},
     "output_type": "execute_result"
    }
   ],
   "source": [
    "# t-test both vs neither\n",
    "keep = ['neither', 'both']\n",
    "bool_df = o_df['dual_mut_status'].isin(keep)\n",
    "dual_df = o_df[bool_df]\n",
    "print(dual_df.dual_mut_status.value_counts())\n",
    "\n",
    "cols = [t_gene+'_proteomics']\n",
    "dual_o_pval = u.wrap_ttest(dual_df, 'dual_mut_status', cols, return_all = True)\n",
    "dual_op = dual_o_pval['P_Value'][0]\n",
    "dual_o_pval"
   ]
  },
  {
   "cell_type": "markdown",
   "metadata": {},
   "source": [
    "# Brca"
   ]
  },
  {
   "cell_type": "code",
   "execution_count": 20,
   "metadata": {},
   "outputs": [
    {
     "name": "stderr",
     "output_type": "stream",
     "text": [
      "cptac warning: In joining the somatic_mutation table, no mutations were found for the following samples, so they were filled with Wildtype_Tumor or Wildtype_Normal: 113 samples for the PTEN gene (C:\\Users\\brittany henderson\\Anaconda3\\envs\\Research\\lib\\site-packages\\cptac\\dataset.py, line 383)\n",
      "cptac warning: In joining the somatic_mutation table, no mutations were found for the following samples, so they were filled with Wildtype_Tumor or Wildtype_Normal: 113 samples for the PTEN gene (C:\\Users\\brittany henderson\\Anaconda3\\envs\\Research\\lib\\site-packages\\ipykernel_launcher.py, line 11)\n",
      "cptac warning: In joining the somatic_mutation table, no mutations were found for the following samples, so they were filled with Wildtype_Tumor or Wildtype_Normal: 118 samples for the EGFR gene (C:\\Users\\brittany henderson\\Anaconda3\\envs\\Research\\lib\\site-packages\\cptac\\dataset.py, line 383)\n"
     ]
    },
    {
     "data": {
      "text/html": [
       "<div>\n",
       "<style scoped>\n",
       "    .dataframe tbody tr th:only-of-type {\n",
       "        vertical-align: middle;\n",
       "    }\n",
       "\n",
       "    .dataframe tbody tr th {\n",
       "        vertical-align: top;\n",
       "    }\n",
       "\n",
       "    .dataframe thead th {\n",
       "        text-align: right;\n",
       "    }\n",
       "</style>\n",
       "<table border=\"1\" class=\"dataframe\">\n",
       "  <thead>\n",
       "    <tr style=\"text-align: right;\">\n",
       "      <th>Name</th>\n",
       "      <th>MCM2_proteomics</th>\n",
       "      <th>Mutation_PTEN</th>\n",
       "      <th>Mutation_EGFR</th>\n",
       "      <th>dual_mut_status</th>\n",
       "    </tr>\n",
       "    <tr>\n",
       "      <th>Patient_ID</th>\n",
       "      <th></th>\n",
       "      <th></th>\n",
       "      <th></th>\n",
       "      <th></th>\n",
       "    </tr>\n",
       "  </thead>\n",
       "  <tbody>\n",
       "    <tr>\n",
       "      <th>CPT001846</th>\n",
       "      <td>-0.3200</td>\n",
       "      <td>Wildtype_Tumor</td>\n",
       "      <td>Amplification</td>\n",
       "      <td>EGFR</td>\n",
       "    </tr>\n",
       "    <tr>\n",
       "      <th>X01BR001</th>\n",
       "      <td>-1.3151</td>\n",
       "      <td>Wildtype_Tumor</td>\n",
       "      <td>Amplification</td>\n",
       "      <td>EGFR</td>\n",
       "    </tr>\n",
       "    <tr>\n",
       "      <th>X01BR009</th>\n",
       "      <td>-0.2519</td>\n",
       "      <td>Wildtype_Tumor</td>\n",
       "      <td>Amplification</td>\n",
       "      <td>EGFR</td>\n",
       "    </tr>\n",
       "    <tr>\n",
       "      <th>X01BR010</th>\n",
       "      <td>-1.2733</td>\n",
       "      <td>Deletion</td>\n",
       "      <td>Amplification</td>\n",
       "      <td>both</td>\n",
       "    </tr>\n",
       "    <tr>\n",
       "      <th>X01BR015</th>\n",
       "      <td>-1.4984</td>\n",
       "      <td>Wildtype_Tumor</td>\n",
       "      <td>Wildtype_Tumor</td>\n",
       "      <td>neither</td>\n",
       "    </tr>\n",
       "    <tr>\n",
       "      <th>...</th>\n",
       "      <td>...</td>\n",
       "      <td>...</td>\n",
       "      <td>...</td>\n",
       "      <td>...</td>\n",
       "    </tr>\n",
       "    <tr>\n",
       "      <th>X20BR008</th>\n",
       "      <td>-0.6703</td>\n",
       "      <td>Deletion</td>\n",
       "      <td>Amplification</td>\n",
       "      <td>both</td>\n",
       "    </tr>\n",
       "    <tr>\n",
       "      <th>X21BR002</th>\n",
       "      <td>-2.3845</td>\n",
       "      <td>Wildtype_Tumor</td>\n",
       "      <td>Wildtype_Tumor</td>\n",
       "      <td>neither</td>\n",
       "    </tr>\n",
       "    <tr>\n",
       "      <th>X21BR010</th>\n",
       "      <td>-2.4800</td>\n",
       "      <td>Wildtype_Tumor</td>\n",
       "      <td>Amplification</td>\n",
       "      <td>EGFR</td>\n",
       "    </tr>\n",
       "    <tr>\n",
       "      <th>X22BR005</th>\n",
       "      <td>-0.8252</td>\n",
       "      <td>Wildtype_Tumor</td>\n",
       "      <td>Wildtype_Tumor</td>\n",
       "      <td>neither</td>\n",
       "    </tr>\n",
       "    <tr>\n",
       "      <th>X22BR006</th>\n",
       "      <td>-2.9129</td>\n",
       "      <td>Wildtype_Tumor</td>\n",
       "      <td>Amplification</td>\n",
       "      <td>EGFR</td>\n",
       "    </tr>\n",
       "  </tbody>\n",
       "</table>\n",
       "<p>95 rows × 4 columns</p>\n",
       "</div>"
      ],
      "text/plain": [
       "Name        MCM2_proteomics   Mutation_PTEN   Mutation_EGFR dual_mut_status\n",
       "Patient_ID                                                                 \n",
       "CPT001846           -0.3200  Wildtype_Tumor   Amplification            EGFR\n",
       "X01BR001            -1.3151  Wildtype_Tumor   Amplification            EGFR\n",
       "X01BR009            -0.2519  Wildtype_Tumor   Amplification            EGFR\n",
       "X01BR010            -1.2733        Deletion   Amplification            both\n",
       "X01BR015            -1.4984  Wildtype_Tumor  Wildtype_Tumor         neither\n",
       "...                     ...             ...             ...             ...\n",
       "X20BR008            -0.6703        Deletion   Amplification            both\n",
       "X21BR002            -2.3845  Wildtype_Tumor  Wildtype_Tumor         neither\n",
       "X21BR010            -2.4800  Wildtype_Tumor   Amplification            EGFR\n",
       "X22BR005            -0.8252  Wildtype_Tumor  Wildtype_Tumor         neither\n",
       "X22BR006            -2.9129  Wildtype_Tumor   Amplification            EGFR\n",
       "\n",
       "[95 rows x 4 columns]"
      ]
     },
     "execution_count": 20,
     "metadata": {},
     "output_type": "execute_result"
    }
   ],
   "source": [
    "b_del_wt = format_df(b, t_gene)\n",
    "\n",
    "# add EGFR\n",
    "mut_egfr = b.get_genotype_all_vars('EGFR')\n",
    "b_del_wt = b_del_wt.join(mut_egfr[['Mutation']], lsuffix='_PTEN', rsuffix='_EGFR')\n",
    "\n",
    "# Keep only Wildtype and amplification\n",
    "compare = ['Wildtype_Tumor','Amplification']\n",
    "get = b_del_wt['Mutation_EGFR'].isin(compare)\n",
    "b_cnv_wt = b_del_wt[get]\n",
    "    \n",
    "b_df = add_dual_mut_status(b_cnv_wt, 'MCM2_proteomics')\n",
    "b_df"
   ]
  },
  {
   "cell_type": "code",
   "execution_count": 21,
   "metadata": {},
   "outputs": [
    {
     "name": "stdout",
     "output_type": "stream",
     "text": [
      "Wildtype_Tumor    67\n",
      "Amplification     28\n",
      "Name: Mutation_EGFR, dtype: int64\n"
     ]
    },
    {
     "data": {
      "text/html": [
       "<div>\n",
       "<style scoped>\n",
       "    .dataframe tbody tr th:only-of-type {\n",
       "        vertical-align: middle;\n",
       "    }\n",
       "\n",
       "    .dataframe tbody tr th {\n",
       "        vertical-align: top;\n",
       "    }\n",
       "\n",
       "    .dataframe thead th {\n",
       "        text-align: right;\n",
       "    }\n",
       "</style>\n",
       "<table border=\"1\" class=\"dataframe\">\n",
       "  <thead>\n",
       "    <tr style=\"text-align: right;\">\n",
       "      <th></th>\n",
       "      <th>Comparison</th>\n",
       "      <th>P_Value</th>\n",
       "    </tr>\n",
       "  </thead>\n",
       "  <tbody>\n",
       "    <tr>\n",
       "      <th>0</th>\n",
       "      <td>MCM2_proteomics</td>\n",
       "      <td>0.636295</td>\n",
       "    </tr>\n",
       "  </tbody>\n",
       "</table>\n",
       "</div>"
      ],
      "text/plain": [
       "        Comparison   P_Value\n",
       "0  MCM2_proteomics  0.636295"
      ]
     },
     "execution_count": 21,
     "metadata": {},
     "output_type": "execute_result"
    }
   ],
   "source": [
    "# ttest for egfr amp and wt\n",
    "keep = ['Wildtype_Tumor', 'Amplification']\n",
    "bool_df = b_df['Mutation_EGFR'].isin(keep)\n",
    "b_egfr_wt = b_df[bool_df]\n",
    "print(b_egfr_wt.Mutation_EGFR.value_counts())\n",
    "\n",
    "# t-test\n",
    "cols = [t_gene+'_proteomics']\n",
    "b_pval = u.wrap_ttest(b_egfr_wt, 'Mutation_EGFR', cols, return_all = True)\n",
    "bp = b_pval['P_Value'][0]\n",
    "b_pval"
   ]
  },
  {
   "cell_type": "code",
   "execution_count": 22,
   "metadata": {},
   "outputs": [
    {
     "name": "stdout",
     "output_type": "stream",
     "text": [
      "neither    57\n",
      "both       13\n",
      "Name: dual_mut_status, dtype: int64\n"
     ]
    },
    {
     "data": {
      "text/html": [
       "<div>\n",
       "<style scoped>\n",
       "    .dataframe tbody tr th:only-of-type {\n",
       "        vertical-align: middle;\n",
       "    }\n",
       "\n",
       "    .dataframe tbody tr th {\n",
       "        vertical-align: top;\n",
       "    }\n",
       "\n",
       "    .dataframe thead th {\n",
       "        text-align: right;\n",
       "    }\n",
       "</style>\n",
       "<table border=\"1\" class=\"dataframe\">\n",
       "  <thead>\n",
       "    <tr style=\"text-align: right;\">\n",
       "      <th></th>\n",
       "      <th>Comparison</th>\n",
       "      <th>P_Value</th>\n",
       "    </tr>\n",
       "  </thead>\n",
       "  <tbody>\n",
       "    <tr>\n",
       "      <th>0</th>\n",
       "      <td>MCM2_proteomics</td>\n",
       "      <td>0.314084</td>\n",
       "    </tr>\n",
       "  </tbody>\n",
       "</table>\n",
       "</div>"
      ],
      "text/plain": [
       "        Comparison   P_Value\n",
       "0  MCM2_proteomics  0.314084"
      ]
     },
     "execution_count": 22,
     "metadata": {},
     "output_type": "execute_result"
    }
   ],
   "source": [
    "# t-test both vs neither\n",
    "keep = ['neither', 'both']\n",
    "bool_df = b_df['dual_mut_status'].isin(keep)\n",
    "dual_df = b_df[bool_df]\n",
    "print(dual_df.dual_mut_status.value_counts())\n",
    "\n",
    "cols = [t_gene+'_proteomics']\n",
    "dual_b_pval = u.wrap_ttest(dual_df, 'dual_mut_status', cols, return_all = True)\n",
    "dual_bp = dual_b_pval['P_Value'][0]\n",
    "dual_b_pval"
   ]
  },
  {
   "cell_type": "markdown",
   "metadata": {},
   "source": [
    "# Colon"
   ]
  },
  {
   "cell_type": "code",
   "execution_count": 23,
   "metadata": {},
   "outputs": [
    {
     "name": "stderr",
     "output_type": "stream",
     "text": [
      "cptac warning: In joining the somatic_mutation table, no mutations were found for the following samples, so they were filled with Wildtype_Tumor or Wildtype_Normal: 100 samples for the PTEN gene (C:\\Users\\brittany henderson\\Anaconda3\\envs\\Research\\lib\\site-packages\\cptac\\dataset.py, line 383)\n",
      "cptac warning: CNV data was not found for the following samples, so CNV data columns were filled with NaN for these samples: 05CO045 (C:\\Users\\brittany henderson\\Anaconda3\\envs\\Research\\lib\\site-packages\\cptac\\dataset.py, line 383)\n",
      "cptac warning: In joining the somatic_mutation table, no mutations were found for the following samples, so they were filled with Wildtype_Tumor or Wildtype_Normal: 201 samples for the PTEN gene (C:\\Users\\brittany henderson\\Anaconda3\\envs\\Research\\lib\\site-packages\\ipykernel_launcher.py, line 11)\n",
      "cptac warning: proteomics data was not found for the following samples, so proteomics data columns were filled with NaN for these samples: 01CO001, 05CO005, 05CO007, 05CO014, 05CO055, 11CO059, 11CO060, 14CO002, 16CO012, 24CO005 (C:\\Users\\brittany henderson\\Anaconda3\\envs\\Research\\lib\\site-packages\\ipykernel_launcher.py, line 11)\n",
      "cptac warning: In joining the somatic_mutation table, no mutations were found for the following samples, so they were filled with Wildtype_Tumor or Wildtype_Normal: 103 samples for the EGFR gene (C:\\Users\\brittany henderson\\Anaconda3\\envs\\Research\\lib\\site-packages\\cptac\\dataset.py, line 383)\n",
      "cptac warning: CNV data was not found for the following samples, so CNV data columns were filled with NaN for these samples: 05CO045 (C:\\Users\\brittany henderson\\Anaconda3\\envs\\Research\\lib\\site-packages\\cptac\\dataset.py, line 383)\n"
     ]
    }
   ],
   "source": [
    "c_del_wt = format_df(col, t_gene)\n",
    "\n",
    "# add EGFR\n",
    "mut_egfr = col.get_genotype_all_vars('EGFR')\n",
    "c_del_wt = c_del_wt.join(mut_egfr[['Mutation']], lsuffix='_PTEN', rsuffix='_EGFR')\n",
    "\n",
    "# Keep only Wildtype and amplification\n",
    "compare = ['Wildtype_Tumor','Amplification']\n",
    "get = c_del_wt['Mutation_EGFR'].isin(compare)\n",
    "c_cnv_wt = c_del_wt[get]\n",
    "    \n",
    "c_df = add_dual_mut_status(c_cnv_wt, 'MCM2_proteomics')"
   ]
  },
  {
   "cell_type": "code",
   "execution_count": 24,
   "metadata": {},
   "outputs": [
    {
     "name": "stdout",
     "output_type": "stream",
     "text": [
      "Amplification     64\n",
      "Wildtype_Tumor    34\n",
      "Name: Mutation_EGFR, dtype: int64\n"
     ]
    },
    {
     "data": {
      "text/html": [
       "<div>\n",
       "<style scoped>\n",
       "    .dataframe tbody tr th:only-of-type {\n",
       "        vertical-align: middle;\n",
       "    }\n",
       "\n",
       "    .dataframe tbody tr th {\n",
       "        vertical-align: top;\n",
       "    }\n",
       "\n",
       "    .dataframe thead th {\n",
       "        text-align: right;\n",
       "    }\n",
       "</style>\n",
       "<table border=\"1\" class=\"dataframe\">\n",
       "  <thead>\n",
       "    <tr style=\"text-align: right;\">\n",
       "      <th></th>\n",
       "      <th>Comparison</th>\n",
       "      <th>P_Value</th>\n",
       "    </tr>\n",
       "  </thead>\n",
       "  <tbody>\n",
       "    <tr>\n",
       "      <th>0</th>\n",
       "      <td>MCM2_proteomics</td>\n",
       "      <td>0.06363</td>\n",
       "    </tr>\n",
       "  </tbody>\n",
       "</table>\n",
       "</div>"
      ],
      "text/plain": [
       "        Comparison  P_Value\n",
       "0  MCM2_proteomics  0.06363"
      ]
     },
     "execution_count": 24,
     "metadata": {},
     "output_type": "execute_result"
    }
   ],
   "source": [
    "# ttest for egfr amp and wt\n",
    "keep = ['Wildtype_Tumor', 'Amplification']\n",
    "bool_df = c_df['Mutation_EGFR'].isin(keep)\n",
    "c_egfr_wt = c_df[bool_df]\n",
    "print(c_egfr_wt.Mutation_EGFR.value_counts())\n",
    "\n",
    "# t-test\n",
    "cols = [t_gene+'_proteomics']\n",
    "c_pval = u.wrap_ttest(c_egfr_wt, 'Mutation_EGFR', cols, return_all = True)\n",
    "cp = c_pval['P_Value'][0]\n",
    "c_pval"
   ]
  },
  {
   "cell_type": "code",
   "execution_count": 25,
   "metadata": {},
   "outputs": [
    {
     "name": "stdout",
     "output_type": "stream",
     "text": [
      "neither    27\n",
      "both       18\n",
      "Name: dual_mut_status, dtype: int64\n"
     ]
    },
    {
     "data": {
      "text/html": [
       "<div>\n",
       "<style scoped>\n",
       "    .dataframe tbody tr th:only-of-type {\n",
       "        vertical-align: middle;\n",
       "    }\n",
       "\n",
       "    .dataframe tbody tr th {\n",
       "        vertical-align: top;\n",
       "    }\n",
       "\n",
       "    .dataframe thead th {\n",
       "        text-align: right;\n",
       "    }\n",
       "</style>\n",
       "<table border=\"1\" class=\"dataframe\">\n",
       "  <thead>\n",
       "    <tr style=\"text-align: right;\">\n",
       "      <th></th>\n",
       "      <th>Comparison</th>\n",
       "      <th>P_Value</th>\n",
       "    </tr>\n",
       "  </thead>\n",
       "  <tbody>\n",
       "    <tr>\n",
       "      <th>0</th>\n",
       "      <td>MCM2_proteomics</td>\n",
       "      <td>0.406851</td>\n",
       "    </tr>\n",
       "  </tbody>\n",
       "</table>\n",
       "</div>"
      ],
      "text/plain": [
       "        Comparison   P_Value\n",
       "0  MCM2_proteomics  0.406851"
      ]
     },
     "execution_count": 25,
     "metadata": {},
     "output_type": "execute_result"
    }
   ],
   "source": [
    "# t-test both vs neither\n",
    "keep = ['neither', 'both']\n",
    "bool_df = c_df['dual_mut_status'].isin(keep)\n",
    "dual_df = c_df[bool_df]\n",
    "print(dual_df.dual_mut_status.value_counts())\n",
    "\n",
    "cols = [t_gene+'_proteomics']\n",
    "dual_c_pval = u.wrap_ttest(dual_df, 'dual_mut_status', cols, return_all = True)\n",
    "dual_cp = dual_c_pval['P_Value'][0]\n",
    "dual_c_pval"
   ]
  },
  {
   "cell_type": "markdown",
   "metadata": {},
   "source": [
    "#  Hnscc"
   ]
  },
  {
   "cell_type": "code",
   "execution_count": 26,
   "metadata": {},
   "outputs": [
    {
     "name": "stderr",
     "output_type": "stream",
     "text": [
      "cptac warning: In joining the somatic_mutation table, no mutations were found for the following samples, so they were filled with Wildtype_Tumor or Wildtype_Normal: 109 samples for the PTEN gene (C:\\Users\\brittany henderson\\Anaconda3\\envs\\Research\\lib\\site-packages\\cptac\\dataset.py, line 383)\n",
      "cptac warning: CNV data was not found for the following samples, so CNV data columns were filled with NaN for these samples: C3L-02617, C3N-02727 (C:\\Users\\brittany henderson\\Anaconda3\\envs\\Research\\lib\\site-packages\\cptac\\dataset.py, line 383)\n",
      "cptac warning: In joining the somatic_mutation table, no mutations were found for the following samples, so they were filled with Wildtype_Tumor or Wildtype_Normal: 176 samples for the PTEN gene (C:\\Users\\brittany henderson\\Anaconda3\\envs\\Research\\lib\\site-packages\\ipykernel_launcher.py, line 11)\n",
      "cptac warning: In joining the somatic_mutation table, no mutations were found for the following samples, so they were filled with Wildtype_Tumor or Wildtype_Normal: 107 samples for the EGFR gene (C:\\Users\\brittany henderson\\Anaconda3\\envs\\Research\\lib\\site-packages\\cptac\\dataset.py, line 383)\n",
      "cptac warning: CNV data was not found for the following samples, so CNV data columns were filled with NaN for these samples: C3L-02617, C3N-02727 (C:\\Users\\brittany henderson\\Anaconda3\\envs\\Research\\lib\\site-packages\\cptac\\dataset.py, line 383)\n"
     ]
    }
   ],
   "source": [
    "h_del_wt = format_df(h, t_gene)\n",
    "\n",
    "# add EGFR\n",
    "mut_egfr = h.get_genotype_all_vars('EGFR')\n",
    "h_del_wt = h_del_wt.join(mut_egfr[['Mutation']], lsuffix='_PTEN', rsuffix='_EGFR')\n",
    "\n",
    "# Keep only Wildtype and amplification\n",
    "compare = ['Wildtype_Tumor','Amplification']\n",
    "get = h_del_wt['Mutation_EGFR'].isin(compare)\n",
    "h_cnv_wt = h_del_wt[get]\n",
    "    \n",
    "h_df = add_dual_mut_status(h_cnv_wt, 'MCM2_proteomics')"
   ]
  },
  {
   "cell_type": "code",
   "execution_count": 27,
   "metadata": {},
   "outputs": [
    {
     "name": "stdout",
     "output_type": "stream",
     "text": [
      "Wildtype_Tumor    72\n",
      "Amplification     28\n",
      "Name: Mutation_EGFR, dtype: int64\n"
     ]
    },
    {
     "data": {
      "text/html": [
       "<div>\n",
       "<style scoped>\n",
       "    .dataframe tbody tr th:only-of-type {\n",
       "        vertical-align: middle;\n",
       "    }\n",
       "\n",
       "    .dataframe tbody tr th {\n",
       "        vertical-align: top;\n",
       "    }\n",
       "\n",
       "    .dataframe thead th {\n",
       "        text-align: right;\n",
       "    }\n",
       "</style>\n",
       "<table border=\"1\" class=\"dataframe\">\n",
       "  <thead>\n",
       "    <tr style=\"text-align: right;\">\n",
       "      <th></th>\n",
       "      <th>Comparison</th>\n",
       "      <th>P_Value</th>\n",
       "    </tr>\n",
       "  </thead>\n",
       "  <tbody>\n",
       "    <tr>\n",
       "      <th>0</th>\n",
       "      <td>MCM2_proteomics</td>\n",
       "      <td>0.003836</td>\n",
       "    </tr>\n",
       "  </tbody>\n",
       "</table>\n",
       "</div>"
      ],
      "text/plain": [
       "        Comparison   P_Value\n",
       "0  MCM2_proteomics  0.003836"
      ]
     },
     "execution_count": 27,
     "metadata": {},
     "output_type": "execute_result"
    }
   ],
   "source": [
    "# ttest for egfr amp and wt\n",
    "keep = ['Wildtype_Tumor', 'Amplification']\n",
    "bool_df = h_df['Mutation_EGFR'].isin(keep)\n",
    "h_egfr_wt = h_df[bool_df]\n",
    "print(h_egfr_wt.Mutation_EGFR.value_counts())\n",
    "\n",
    "# t-test\n",
    "cols = [t_gene+'_proteomics']\n",
    "h_pval = u.wrap_ttest(h_egfr_wt, 'Mutation_EGFR', cols, return_all = True)\n",
    "hp = h_pval['P_Value'][0]\n",
    "h_pval"
   ]
  },
  {
   "cell_type": "code",
   "execution_count": 28,
   "metadata": {},
   "outputs": [
    {
     "name": "stdout",
     "output_type": "stream",
     "text": [
      "neither    67\n",
      "both       12\n",
      "Name: dual_mut_status, dtype: int64\n"
     ]
    },
    {
     "data": {
      "text/html": [
       "<div>\n",
       "<style scoped>\n",
       "    .dataframe tbody tr th:only-of-type {\n",
       "        vertical-align: middle;\n",
       "    }\n",
       "\n",
       "    .dataframe tbody tr th {\n",
       "        vertical-align: top;\n",
       "    }\n",
       "\n",
       "    .dataframe thead th {\n",
       "        text-align: right;\n",
       "    }\n",
       "</style>\n",
       "<table border=\"1\" class=\"dataframe\">\n",
       "  <thead>\n",
       "    <tr style=\"text-align: right;\">\n",
       "      <th></th>\n",
       "      <th>Comparison</th>\n",
       "      <th>P_Value</th>\n",
       "    </tr>\n",
       "  </thead>\n",
       "  <tbody>\n",
       "    <tr>\n",
       "      <th>0</th>\n",
       "      <td>MCM2_proteomics</td>\n",
       "      <td>0.009777</td>\n",
       "    </tr>\n",
       "  </tbody>\n",
       "</table>\n",
       "</div>"
      ],
      "text/plain": [
       "        Comparison   P_Value\n",
       "0  MCM2_proteomics  0.009777"
      ]
     },
     "execution_count": 28,
     "metadata": {},
     "output_type": "execute_result"
    }
   ],
   "source": [
    "# t-test both vs neither\n",
    "keep = ['neither', 'both']\n",
    "bool_df = h_df['dual_mut_status'].isin(keep)\n",
    "dual_df = h_df[bool_df]\n",
    "print(dual_df.dual_mut_status.value_counts())\n",
    "\n",
    "cols = [t_gene+'_proteomics']\n",
    "dual_h_pval = u.wrap_ttest(dual_df, 'dual_mut_status', cols, return_all = True)\n",
    "dual_hp = dual_h_pval['P_Value'][0]\n",
    "dual_h_pval"
   ]
  },
  {
   "cell_type": "markdown",
   "metadata": {},
   "source": [
    "# Endometrial"
   ]
  },
  {
   "cell_type": "markdown",
   "metadata": {},
   "source": [
    "The Endometrial data set does not have enough cnv deletions to perform a t-test, however the data set does have enough truncation type mutations (nonsense and frame shifts). Different code is needed to create the data frame for Endometrial."
   ]
  },
  {
   "cell_type": "code",
   "execution_count": 29,
   "metadata": {},
   "outputs": [
    {
     "name": "stdout",
     "output_type": "stream",
     "text": [
      "Nonsense_Mutation    25\n",
      "Frame_Shift_Del      22\n",
      "Wildtype_Tumor       20\n",
      "Frame_Shift_Ins       6\n",
      "Name: PTEN_Mutation, dtype: int64\n"
     ]
    },
    {
     "name": "stderr",
     "output_type": "stream",
     "text": [
      "cptac warning: In joining the somatic_mutation table, no mutations were found for the following samples, so they were filled with Wildtype_Tumor or Wildtype_Normal: 69 samples for the PTEN gene (C:\\Users\\brittany henderson\\Anaconda3\\envs\\Research\\lib\\site-packages\\ipykernel_launcher.py, line 4)\n",
      "C:\\Users\\brittany henderson\\Anaconda3\\envs\\Research\\lib\\site-packages\\ipykernel_launcher.py:12: SettingWithCopyWarning: \n",
      "A value is trying to be set on a copy of a slice from a DataFrame.\n",
      "Try using .loc[row_indexer,col_indexer] = value instead\n",
      "\n",
      "See the caveats in the documentation: https://pandas.pydata.org/pandas-docs/stable/user_guide/indexing.html#returning-a-view-versus-a-copy\n",
      "  if sys.path[0] == '':\n"
     ]
    },
    {
     "data": {
      "text/html": [
       "<div>\n",
       "<style scoped>\n",
       "    .dataframe tbody tr th:only-of-type {\n",
       "        vertical-align: middle;\n",
       "    }\n",
       "\n",
       "    .dataframe tbody tr th {\n",
       "        vertical-align: top;\n",
       "    }\n",
       "\n",
       "    .dataframe thead th {\n",
       "        text-align: right;\n",
       "    }\n",
       "</style>\n",
       "<table border=\"1\" class=\"dataframe\">\n",
       "  <thead>\n",
       "    <tr style=\"text-align: right;\">\n",
       "      <th>Name</th>\n",
       "      <th>MCM2_proteomics</th>\n",
       "      <th>Mutation</th>\n",
       "    </tr>\n",
       "    <tr>\n",
       "      <th>Patient_ID</th>\n",
       "      <th></th>\n",
       "      <th></th>\n",
       "    </tr>\n",
       "  </thead>\n",
       "  <tbody>\n",
       "    <tr>\n",
       "      <th>C3L-00006</th>\n",
       "      <td>0.6150</td>\n",
       "      <td>Truncation</td>\n",
       "    </tr>\n",
       "    <tr>\n",
       "      <th>C3L-00032</th>\n",
       "      <td>-0.0715</td>\n",
       "      <td>Truncation</td>\n",
       "    </tr>\n",
       "    <tr>\n",
       "      <th>C3L-00098</th>\n",
       "      <td>1.4100</td>\n",
       "      <td>Wildtype_Tumor</td>\n",
       "    </tr>\n",
       "    <tr>\n",
       "      <th>C3L-00137</th>\n",
       "      <td>0.8550</td>\n",
       "      <td>Truncation</td>\n",
       "    </tr>\n",
       "    <tr>\n",
       "      <th>C3L-00139</th>\n",
       "      <td>1.5100</td>\n",
       "      <td>Wildtype_Tumor</td>\n",
       "    </tr>\n",
       "    <tr>\n",
       "      <th>...</th>\n",
       "      <td>...</td>\n",
       "      <td>...</td>\n",
       "    </tr>\n",
       "    <tr>\n",
       "      <th>C3N-01520</th>\n",
       "      <td>0.4810</td>\n",
       "      <td>Truncation</td>\n",
       "    </tr>\n",
       "    <tr>\n",
       "      <th>C3N-01521</th>\n",
       "      <td>0.2310</td>\n",
       "      <td>Wildtype_Tumor</td>\n",
       "    </tr>\n",
       "    <tr>\n",
       "      <th>C3N-01537</th>\n",
       "      <td>0.7840</td>\n",
       "      <td>Wildtype_Tumor</td>\n",
       "    </tr>\n",
       "    <tr>\n",
       "      <th>C3N-01802</th>\n",
       "      <td>0.1380</td>\n",
       "      <td>Wildtype_Tumor</td>\n",
       "    </tr>\n",
       "    <tr>\n",
       "      <th>C3N-01825</th>\n",
       "      <td>0.7970</td>\n",
       "      <td>Wildtype_Tumor</td>\n",
       "    </tr>\n",
       "  </tbody>\n",
       "</table>\n",
       "<p>73 rows × 2 columns</p>\n",
       "</div>"
      ],
      "text/plain": [
       "Name        MCM2_proteomics        Mutation\n",
       "Patient_ID                                 \n",
       "C3L-00006            0.6150      Truncation\n",
       "C3L-00032           -0.0715      Truncation\n",
       "C3L-00098            1.4100  Wildtype_Tumor\n",
       "C3L-00137            0.8550      Truncation\n",
       "C3L-00139            1.5100  Wildtype_Tumor\n",
       "...                     ...             ...\n",
       "C3N-01520            0.4810      Truncation\n",
       "C3N-01521            0.2310  Wildtype_Tumor\n",
       "C3N-01537            0.7840  Wildtype_Tumor\n",
       "C3N-01802            0.1380  Wildtype_Tumor\n",
       "C3N-01825            0.7970  Wildtype_Tumor\n",
       "\n",
       "[73 rows x 2 columns]"
      ]
     },
     "execution_count": 29,
     "metadata": {},
     "output_type": "execute_result"
    }
   ],
   "source": [
    "# Step 1 - Create proteomics and truncations dataframe\n",
    "prot_and_mutations = en.join_omics_to_mutations(\n",
    "    mutations_genes = 'PTEN', omics_df_name = 'proteomics', omics_genes = t_gene, \n",
    "    mutations_filter = ['Nonsense_Mutation','Frame_Shift_Del','Frame_Shift_Ins']) \n",
    "keep = ['Nonsense_Mutation','Frame_Shift_Del','Frame_Shift_Ins','Wildtype_Tumor']\n",
    "in_keep = prot_and_mutations['PTEN_Mutation'].isin(keep)\n",
    "trunc_mutations = prot_and_mutations[in_keep]\n",
    "print(trunc_mutations['PTEN_Mutation'].value_counts())\n",
    "\n",
    "# Step 2 - Create binary column \n",
    "trunc_mutations['Mutation'] = np.where(\n",
    "            trunc_mutations[gene+'_Mutation_Status'] == 'Wildtype_Tumor', 'Wildtype_Tumor', 'Truncation')\n",
    "\n",
    "# Step 3 - Format the dataframe correctly for the t-test(just omics and binary columns for tumors)\n",
    "tumors = trunc_mutations[trunc_mutations.Sample_Status == 'Tumor'] #drop Normal samples\n",
    "columns_to_drop = [gene+\"_Mutation\", gene+\"_Location\", gene+\"_Mutation_Status\", \"Sample_Status\"]\n",
    "e_trunc_wt = tumors.drop(columns_to_drop, axis = 1)\n",
    "e_trunc_wt = e_trunc_wt.dropna(axis=1,how='all')\n",
    "e_trunc_wt['Mutation'].value_counts()\n",
    "e_trunc_wt"
   ]
  },
  {
   "cell_type": "code",
   "execution_count": 32,
   "metadata": {},
   "outputs": [
    {
     "name": "stderr",
     "output_type": "stream",
     "text": [
      "cptac warning: In joining the somatic_mutation table, no mutations were found for the following samples, so they were filled with Wildtype_Tumor or Wildtype_Normal: 91 samples for the EGFR gene (C:\\Users\\brittany henderson\\Anaconda3\\envs\\Research\\lib\\site-packages\\cptac\\dataset.py, line 383)\n"
     ]
    },
    {
     "data": {
      "text/html": [
       "<div>\n",
       "<style scoped>\n",
       "    .dataframe tbody tr th:only-of-type {\n",
       "        vertical-align: middle;\n",
       "    }\n",
       "\n",
       "    .dataframe tbody tr th {\n",
       "        vertical-align: top;\n",
       "    }\n",
       "\n",
       "    .dataframe thead th {\n",
       "        text-align: right;\n",
       "    }\n",
       "</style>\n",
       "<table border=\"1\" class=\"dataframe\">\n",
       "  <thead>\n",
       "    <tr style=\"text-align: right;\">\n",
       "      <th>Name</th>\n",
       "      <th>MCM2_proteomics</th>\n",
       "      <th>Mutation_PTEN</th>\n",
       "      <th>Mutation_EGFR</th>\n",
       "      <th>dual_mut_status</th>\n",
       "    </tr>\n",
       "    <tr>\n",
       "      <th>Patient_ID</th>\n",
       "      <th></th>\n",
       "      <th></th>\n",
       "      <th></th>\n",
       "      <th></th>\n",
       "    </tr>\n",
       "  </thead>\n",
       "  <tbody>\n",
       "    <tr>\n",
       "      <th>C3L-00006</th>\n",
       "      <td>0.6150</td>\n",
       "      <td>Truncation</td>\n",
       "      <td>Wildtype_Tumor</td>\n",
       "      <td>PTEN</td>\n",
       "    </tr>\n",
       "    <tr>\n",
       "      <th>C3L-00032</th>\n",
       "      <td>-0.0715</td>\n",
       "      <td>Truncation</td>\n",
       "      <td>Wildtype_Tumor</td>\n",
       "      <td>PTEN</td>\n",
       "    </tr>\n",
       "    <tr>\n",
       "      <th>C3L-00098</th>\n",
       "      <td>1.4100</td>\n",
       "      <td>Wildtype_Tumor</td>\n",
       "      <td>Wildtype_Tumor</td>\n",
       "      <td>neither</td>\n",
       "    </tr>\n",
       "    <tr>\n",
       "      <th>C3L-00137</th>\n",
       "      <td>0.8550</td>\n",
       "      <td>Truncation</td>\n",
       "      <td>Wildtype_Tumor</td>\n",
       "      <td>PTEN</td>\n",
       "    </tr>\n",
       "    <tr>\n",
       "      <th>C3L-00139</th>\n",
       "      <td>1.5100</td>\n",
       "      <td>Wildtype_Tumor</td>\n",
       "      <td>Wildtype_Tumor</td>\n",
       "      <td>neither</td>\n",
       "    </tr>\n",
       "    <tr>\n",
       "      <th>...</th>\n",
       "      <td>...</td>\n",
       "      <td>...</td>\n",
       "      <td>...</td>\n",
       "      <td>...</td>\n",
       "    </tr>\n",
       "    <tr>\n",
       "      <th>C3N-01510</th>\n",
       "      <td>1.2300</td>\n",
       "      <td>Truncation</td>\n",
       "      <td>Wildtype_Tumor</td>\n",
       "      <td>PTEN</td>\n",
       "    </tr>\n",
       "    <tr>\n",
       "      <th>C3N-01521</th>\n",
       "      <td>0.2310</td>\n",
       "      <td>Wildtype_Tumor</td>\n",
       "      <td>Wildtype_Tumor</td>\n",
       "      <td>neither</td>\n",
       "    </tr>\n",
       "    <tr>\n",
       "      <th>C3N-01537</th>\n",
       "      <td>0.7840</td>\n",
       "      <td>Wildtype_Tumor</td>\n",
       "      <td>Wildtype_Tumor</td>\n",
       "      <td>neither</td>\n",
       "    </tr>\n",
       "    <tr>\n",
       "      <th>C3N-01802</th>\n",
       "      <td>0.1380</td>\n",
       "      <td>Wildtype_Tumor</td>\n",
       "      <td>Wildtype_Tumor</td>\n",
       "      <td>neither</td>\n",
       "    </tr>\n",
       "    <tr>\n",
       "      <th>C3N-01825</th>\n",
       "      <td>0.7970</td>\n",
       "      <td>Wildtype_Tumor</td>\n",
       "      <td>Wildtype_Tumor</td>\n",
       "      <td>neither</td>\n",
       "    </tr>\n",
       "  </tbody>\n",
       "</table>\n",
       "<p>65 rows × 4 columns</p>\n",
       "</div>"
      ],
      "text/plain": [
       "Name        MCM2_proteomics   Mutation_PTEN   Mutation_EGFR dual_mut_status\n",
       "Patient_ID                                                                 \n",
       "C3L-00006            0.6150      Truncation  Wildtype_Tumor            PTEN\n",
       "C3L-00032           -0.0715      Truncation  Wildtype_Tumor            PTEN\n",
       "C3L-00098            1.4100  Wildtype_Tumor  Wildtype_Tumor         neither\n",
       "C3L-00137            0.8550      Truncation  Wildtype_Tumor            PTEN\n",
       "C3L-00139            1.5100  Wildtype_Tumor  Wildtype_Tumor         neither\n",
       "...                     ...             ...             ...             ...\n",
       "C3N-01510            1.2300      Truncation  Wildtype_Tumor            PTEN\n",
       "C3N-01521            0.2310  Wildtype_Tumor  Wildtype_Tumor         neither\n",
       "C3N-01537            0.7840  Wildtype_Tumor  Wildtype_Tumor         neither\n",
       "C3N-01802            0.1380  Wildtype_Tumor  Wildtype_Tumor         neither\n",
       "C3N-01825            0.7970  Wildtype_Tumor  Wildtype_Tumor         neither\n",
       "\n",
       "[65 rows x 4 columns]"
      ]
     },
     "execution_count": 32,
     "metadata": {},
     "output_type": "execute_result"
    }
   ],
   "source": [
    "# add EGFR\n",
    "mut_egfr = en.get_genotype_all_vars('EGFR')\n",
    "e_del_wt = e_trunc_wt.join(mut_egfr[['Mutation']], lsuffix='_PTEN', rsuffix='_EGFR')\n",
    "\n",
    "# Keep only Wildtype and amplification\n",
    "compare = ['Wildtype_Tumor','Amplification']\n",
    "get = e_del_wt['Mutation_EGFR'].isin(compare)\n",
    "e_cnv_wt = e_del_wt[get]\n",
    "    \n",
    "e_df = add_dual_mut_status(e_cnv_wt, 'MCM2_proteomics')\n",
    "e_df"
   ]
  },
  {
   "cell_type": "code",
   "execution_count": 33,
   "metadata": {},
   "outputs": [
    {
     "name": "stdout",
     "output_type": "stream",
     "text": [
      "Wildtype_Tumor    58\n",
      "Amplification      7\n",
      "Name: Mutation_EGFR, dtype: int64\n"
     ]
    },
    {
     "data": {
      "text/html": [
       "<div>\n",
       "<style scoped>\n",
       "    .dataframe tbody tr th:only-of-type {\n",
       "        vertical-align: middle;\n",
       "    }\n",
       "\n",
       "    .dataframe tbody tr th {\n",
       "        vertical-align: top;\n",
       "    }\n",
       "\n",
       "    .dataframe thead th {\n",
       "        text-align: right;\n",
       "    }\n",
       "</style>\n",
       "<table border=\"1\" class=\"dataframe\">\n",
       "  <thead>\n",
       "    <tr style=\"text-align: right;\">\n",
       "      <th></th>\n",
       "      <th>Comparison</th>\n",
       "      <th>P_Value</th>\n",
       "    </tr>\n",
       "  </thead>\n",
       "  <tbody>\n",
       "    <tr>\n",
       "      <th>0</th>\n",
       "      <td>MCM2_proteomics</td>\n",
       "      <td>0.580037</td>\n",
       "    </tr>\n",
       "  </tbody>\n",
       "</table>\n",
       "</div>"
      ],
      "text/plain": [
       "        Comparison   P_Value\n",
       "0  MCM2_proteomics  0.580037"
      ]
     },
     "execution_count": 33,
     "metadata": {},
     "output_type": "execute_result"
    }
   ],
   "source": [
    "# ttest for egfr amp and wt\n",
    "keep = ['Wildtype_Tumor', 'Amplification']\n",
    "bool_df = e_df['Mutation_EGFR'].isin(keep)\n",
    "e_egfr_wt = e_df[bool_df]\n",
    "print(e_egfr_wt.Mutation_EGFR.value_counts())\n",
    "\n",
    "# t-test\n",
    "cols = [t_gene+'_proteomics']\n",
    "e_pval = u.wrap_ttest(e_egfr_wt, 'Mutation_EGFR', cols, return_all = True)\n",
    "ep = e_pval['P_Value'][0]\n",
    "e_pval"
   ]
  },
  {
   "cell_type": "code",
   "execution_count": 34,
   "metadata": {},
   "outputs": [
    {
     "name": "stdout",
     "output_type": "stream",
     "text": [
      "neither    14\n",
      "both        5\n",
      "Name: dual_mut_status, dtype: int64\n"
     ]
    },
    {
     "data": {
      "text/html": [
       "<div>\n",
       "<style scoped>\n",
       "    .dataframe tbody tr th:only-of-type {\n",
       "        vertical-align: middle;\n",
       "    }\n",
       "\n",
       "    .dataframe tbody tr th {\n",
       "        vertical-align: top;\n",
       "    }\n",
       "\n",
       "    .dataframe thead th {\n",
       "        text-align: right;\n",
       "    }\n",
       "</style>\n",
       "<table border=\"1\" class=\"dataframe\">\n",
       "  <thead>\n",
       "    <tr style=\"text-align: right;\">\n",
       "      <th></th>\n",
       "      <th>Comparison</th>\n",
       "      <th>P_Value</th>\n",
       "    </tr>\n",
       "  </thead>\n",
       "  <tbody>\n",
       "    <tr>\n",
       "      <th>0</th>\n",
       "      <td>MCM2_proteomics</td>\n",
       "      <td>0.039575</td>\n",
       "    </tr>\n",
       "  </tbody>\n",
       "</table>\n",
       "</div>"
      ],
      "text/plain": [
       "        Comparison   P_Value\n",
       "0  MCM2_proteomics  0.039575"
      ]
     },
     "execution_count": 34,
     "metadata": {},
     "output_type": "execute_result"
    }
   ],
   "source": [
    "# t-test both vs neither\n",
    "keep = ['neither', 'both']\n",
    "bool_df = e_df['dual_mut_status'].isin(keep)\n",
    "dual_df = e_df[bool_df]\n",
    "print(dual_df.dual_mut_status.value_counts())\n",
    "\n",
    "cols = [t_gene+'_proteomics']\n",
    "dual_e_pval = u.wrap_ttest(dual_df, 'dual_mut_status', cols, return_all = True)\n",
    "dual_ep = dual_e_pval['P_Value'][0]\n",
    "dual_e_pval"
   ]
  },
  {
   "cell_type": "markdown",
   "metadata": {},
   "source": [
    "# Step 2: Create a long dataframe for the boxplot"
   ]
  },
  {
   "cell_type": "markdown",
   "metadata": {},
   "source": [
    "The boxplot will take three columns: Proteomics, Mutation, and Cancer. We need to append all the individual cancer dfs into one long pancancer df. "
   ]
  },
  {
   "cell_type": "markdown",
   "metadata": {},
   "source": [
    "First create the Cancer column."
   ]
  },
  {
   "cell_type": "code",
   "execution_count": 35,
   "metadata": {},
   "outputs": [],
   "source": [
    "g_del_wt = g_df.assign(cancer = 'Gbm')\n",
    "l_del_wt = l_df.assign(cancer = 'Luad')\n",
    "ls_del_wt = ls_df.assign(cancer = 'Lscc')\n",
    "b_del_wt = b_df.assign(cancer = 'Brca')\n",
    "o_del_wt = o_df.assign(cancer = 'Ovarian')\n",
    "c_del_wt = c_df.assign(cancer = 'Colon')\n",
    "h_del_wt = h_df.assign(cancer = 'Hnscc') # higher scale\n",
    "e_trunc_wt = e_df.assign(cancer = 'Endometrial')"
   ]
  },
  {
   "cell_type": "markdown",
   "metadata": {},
   "source": [
    "Next append the dfs."
   ]
  },
  {
   "cell_type": "code",
   "execution_count": 36,
   "metadata": {},
   "outputs": [
    {
     "data": {
      "text/html": [
       "<div>\n",
       "<style scoped>\n",
       "    .dataframe tbody tr th:only-of-type {\n",
       "        vertical-align: middle;\n",
       "    }\n",
       "\n",
       "    .dataframe tbody tr th {\n",
       "        vertical-align: top;\n",
       "    }\n",
       "\n",
       "    .dataframe thead th {\n",
       "        text-align: right;\n",
       "    }\n",
       "</style>\n",
       "<table border=\"1\" class=\"dataframe\">\n",
       "  <thead>\n",
       "    <tr style=\"text-align: right;\">\n",
       "      <th>Name</th>\n",
       "      <th>MCM2_proteomics</th>\n",
       "      <th>Mutation_PTEN</th>\n",
       "      <th>Mutation_EGFR</th>\n",
       "      <th>dual_mut_status</th>\n",
       "      <th>cancer</th>\n",
       "    </tr>\n",
       "    <tr>\n",
       "      <th>Patient_ID</th>\n",
       "      <th></th>\n",
       "      <th></th>\n",
       "      <th></th>\n",
       "      <th></th>\n",
       "      <th></th>\n",
       "    </tr>\n",
       "  </thead>\n",
       "  <tbody>\n",
       "    <tr>\n",
       "      <th>C3L-00104</th>\n",
       "      <td>0.865204</td>\n",
       "      <td>Deletion</td>\n",
       "      <td>Amplification</td>\n",
       "      <td>both</td>\n",
       "      <td>Gbm</td>\n",
       "    </tr>\n",
       "    <tr>\n",
       "      <th>C3L-00674</th>\n",
       "      <td>-0.236399</td>\n",
       "      <td>Deletion</td>\n",
       "      <td>Amplification</td>\n",
       "      <td>both</td>\n",
       "      <td>Gbm</td>\n",
       "    </tr>\n",
       "    <tr>\n",
       "      <th>C3L-00677</th>\n",
       "      <td>-0.093372</td>\n",
       "      <td>Deletion</td>\n",
       "      <td>Amplification</td>\n",
       "      <td>both</td>\n",
       "      <td>Gbm</td>\n",
       "    </tr>\n",
       "    <tr>\n",
       "      <th>C3L-01040</th>\n",
       "      <td>-0.957693</td>\n",
       "      <td>Deletion</td>\n",
       "      <td>Amplification</td>\n",
       "      <td>both</td>\n",
       "      <td>Gbm</td>\n",
       "    </tr>\n",
       "    <tr>\n",
       "      <th>C3L-01043</th>\n",
       "      <td>0.152897</td>\n",
       "      <td>Deletion</td>\n",
       "      <td>Amplification</td>\n",
       "      <td>both</td>\n",
       "      <td>Gbm</td>\n",
       "    </tr>\n",
       "    <tr>\n",
       "      <th>...</th>\n",
       "      <td>...</td>\n",
       "      <td>...</td>\n",
       "      <td>...</td>\n",
       "      <td>...</td>\n",
       "      <td>...</td>\n",
       "    </tr>\n",
       "    <tr>\n",
       "      <th>C3N-01510</th>\n",
       "      <td>1.230000</td>\n",
       "      <td>Truncation</td>\n",
       "      <td>Wildtype_Tumor</td>\n",
       "      <td>PTEN</td>\n",
       "      <td>Endometrial</td>\n",
       "    </tr>\n",
       "    <tr>\n",
       "      <th>C3N-01521</th>\n",
       "      <td>0.231000</td>\n",
       "      <td>Wildtype_Tumor</td>\n",
       "      <td>Wildtype_Tumor</td>\n",
       "      <td>neither</td>\n",
       "      <td>Endometrial</td>\n",
       "    </tr>\n",
       "    <tr>\n",
       "      <th>C3N-01537</th>\n",
       "      <td>0.784000</td>\n",
       "      <td>Wildtype_Tumor</td>\n",
       "      <td>Wildtype_Tumor</td>\n",
       "      <td>neither</td>\n",
       "      <td>Endometrial</td>\n",
       "    </tr>\n",
       "    <tr>\n",
       "      <th>C3N-01802</th>\n",
       "      <td>0.138000</td>\n",
       "      <td>Wildtype_Tumor</td>\n",
       "      <td>Wildtype_Tumor</td>\n",
       "      <td>neither</td>\n",
       "      <td>Endometrial</td>\n",
       "    </tr>\n",
       "    <tr>\n",
       "      <th>C3N-01825</th>\n",
       "      <td>0.797000</td>\n",
       "      <td>Wildtype_Tumor</td>\n",
       "      <td>Wildtype_Tumor</td>\n",
       "      <td>neither</td>\n",
       "      <td>Endometrial</td>\n",
       "    </tr>\n",
       "  </tbody>\n",
       "</table>\n",
       "<p>564 rows × 5 columns</p>\n",
       "</div>"
      ],
      "text/plain": [
       "Name        MCM2_proteomics   Mutation_PTEN   Mutation_EGFR dual_mut_status  \\\n",
       "Patient_ID                                                                    \n",
       "C3L-00104          0.865204        Deletion   Amplification            both   \n",
       "C3L-00674         -0.236399        Deletion   Amplification            both   \n",
       "C3L-00677         -0.093372        Deletion   Amplification            both   \n",
       "C3L-01040         -0.957693        Deletion   Amplification            both   \n",
       "C3L-01043          0.152897        Deletion   Amplification            both   \n",
       "...                     ...             ...             ...             ...   \n",
       "C3N-01510          1.230000      Truncation  Wildtype_Tumor            PTEN   \n",
       "C3N-01521          0.231000  Wildtype_Tumor  Wildtype_Tumor         neither   \n",
       "C3N-01537          0.784000  Wildtype_Tumor  Wildtype_Tumor         neither   \n",
       "C3N-01802          0.138000  Wildtype_Tumor  Wildtype_Tumor         neither   \n",
       "C3N-01825          0.797000  Wildtype_Tumor  Wildtype_Tumor         neither   \n",
       "\n",
       "Name             cancer  \n",
       "Patient_ID               \n",
       "C3L-00104           Gbm  \n",
       "C3L-00674           Gbm  \n",
       "C3L-00677           Gbm  \n",
       "C3L-01040           Gbm  \n",
       "C3L-01043           Gbm  \n",
       "...                 ...  \n",
       "C3N-01510   Endometrial  \n",
       "C3N-01521   Endometrial  \n",
       "C3N-01537   Endometrial  \n",
       "C3N-01802   Endometrial  \n",
       "C3N-01825   Endometrial  \n",
       "\n",
       "[564 rows x 5 columns]"
      ]
     },
     "execution_count": 36,
     "metadata": {},
     "output_type": "execute_result"
    }
   ],
   "source": [
    "df = g_del_wt.append(l_del_wt)\n",
    "df2 = df.append(ls_del_wt)\n",
    "df3 = df2.append(b_del_wt)\n",
    "df4 = df3.append(o_del_wt)\n",
    "df5 = df4.append(c_del_wt)\n",
    "df6 = df5.append(e_trunc_wt)\n",
    "#df7 = df6.append(h_del_wt) # Leave out Hnscc because of high proteomics numbers\n",
    "\n",
    "df6"
   ]
  },
  {
   "cell_type": "markdown",
   "metadata": {},
   "source": [
    "# Step 3: Create the Pancancer Boxplot"
   ]
  },
  {
   "cell_type": "code",
   "execution_count": 40,
   "metadata": {},
   "outputs": [
    {
     "data": {
      "image/png": "[encoded data removed]",
      "text/plain": [
       "<Figure size 1080x720 with 1 Axes>"
      ]
     },
     "metadata": {},
     "output_type": "display_data"
    }
   ],
   "source": [
    "gene = 'PTEN'\n",
    "plt.rcParams['figure.figsize']=(15,10) #size of plot\n",
    "sns.set(font_scale = 1.2)\n",
    "\n",
    "boxplot = sns.boxplot(x='cancer', y=t_gene+\"_proteomics\", data = df6, hue = 'dual_mut_status',\n",
    "                      hue_order = [\"neither\", \"PTEN\", 'EGFR','both'], showfliers = False)    \n",
    "boxplot.set_title('Pancancer trans effect of PTEN CNV Deletions and EGFR Amplifications on '+t_gene)\n",
    "boxplot = sns.stripplot(x='cancer', y=t_gene+\"_proteomics\", data = df6, jitter = True, \n",
    "                           color = \".3\", hue = 'dual_mut_status', \n",
    "                        hue_order = [\"neither\", \"PTEN\", 'EGFR','both'],dodge = True)\n",
    "boxplot.set(xlabel = \"\\n\"+gene+\" Wildtype/CNV Deletion and EGFR Amplifications\", ylabel = t_gene+' Proteomics')\n",
    "\n",
    "# format legend\n",
    "handles, labels = boxplot.get_legend_handles_labels()\n",
    "plt.legend(handles[0:4], labels[0:4])\n",
    "\n",
    "\n",
    "# Create significance symbols:\n",
    "# * P ≤ 0.05   ** P ≤ 0.01   *** P ≤ 0.001 \n",
    "\n",
    "pvals = [gp, lp, lsp, bp, op, cp, ep] # same order as appended in long df\n",
    "symbols = {}\n",
    "\n",
    "for p in pvals:\n",
    "    if p <= 0.001:\n",
    "        symbols[p] = '***'\n",
    "    elif p <= 0.01:\n",
    "        symbols[p] = '**'\n",
    "    elif p <= .05:\n",
    "        symbols[p] = '*'\n",
    "    else:\n",
    "        symbols[p] = 'ns'\n",
    "#print(symbols)\n",
    "\n",
    "format_pval_annotation(symbols[gp], -.3, .1, 2) # Gbm\n",
    "format_pval_annotation(symbols[lp], .7, 1.1, 5.1) # Luad\n",
    "format_pval_annotation(symbols[lsp], 1.7, 2.1, 4.4) # Lscc\n",
    "format_pval_annotation(symbols[bp], 2.7, 3.1, 3.7) # Brca\n",
    "format_pval_annotation(symbols[op], 3.7, 4.1, 2.4) # Ovarian\n",
    "format_pval_annotation(symbols[cp], 4.7, 5.1, 2.4)  # Colon\n",
    "format_pval_annotation(symbols[ep], 5.7, 6.1, 2.4) # Endometrial\n",
    "\n",
    "# both vs neither\n",
    "dual_pvals = [dual_gp, dual_lp, dual_lsp, dual_bp, dual_op, dual_cp, dual_ep] # same order as appended in long df\n",
    "d_symbols = {}\n",
    "\n",
    "for p in dual_pvals:\n",
    "    if p <= 0.001:\n",
    "        d_symbols[p] = '***'\n",
    "    elif p <= 0.01:\n",
    "        d_symbols[p] = '**'\n",
    "    elif p <= .05:\n",
    "        d_symbols[p] = '*'\n",
    "    else:\n",
    "        d_symbols[p] = 'ns'\n",
    "#print(symbols)\n",
    "\n",
    "format_pval_annotation(d_symbols[dual_gp], -.3, .3, 2.4) # Gbm\n",
    "format_pval_annotation(d_symbols[dual_lp], .7, 1.3, 5.5) # Luad\n",
    "format_pval_annotation(d_symbols[dual_lsp], 1.7, 2.3, 4.8) # Lscc\n",
    "format_pval_annotation(d_symbols[dual_bp], 2.7, 3.3, 4.1) # Brca\n",
    "format_pval_annotation(d_symbols[dual_op], 3.7, 4.3, 2.8) # Ovarian\n",
    "format_pval_annotation(d_symbols[dual_cp], 4.7, 5.3, 2.8)  # Colon\n",
    "#format_pval_annotation(d_symbols[dual_ep], 5.7, 6.3, 2.8) # Endometrial # not enough samples\n",
    "\n",
    "plt.show()\n",
    "plt.clf()\n",
    "plt.close()"
   ]
  },
  {
   "cell_type": "code",
   "execution_count": 41,
   "metadata": {},
   "outputs": [
    {
     "data": {
      "image/png": "[encoded data removed]",
      "text/plain": [
       "<Figure size 842.4x612 with 1 Axes>"
      ]
     },
     "metadata": {},
     "output_type": "display_data"
    }
   ],
   "source": [
    "gene = 'PTEN'\n",
    "plt.rcParams['figure.figsize']=(11.7,8.5) #size of plot\n",
    "sns.set(font_scale = 1.2)\n",
    "\n",
    "boxplot = sns.boxplot(x='dual_mut_status', y=t_gene+\"_proteomics\", data = h_df, \n",
    "                      order = [\"neither\", \"PTEN\", 'EGFR','both'], showfliers = False)    \n",
    "boxplot.set_title('Hnscc trans effect of PTEN CNV Deletions and EGFR Amplifications on '+t_gene)\n",
    "boxplot = sns.stripplot(x='dual_mut_status', y=t_gene+\"_proteomics\", data = h_df, jitter = True, \n",
    "                           color = \".3\", order = [\"neither\", \"PTEN\", 'EGFR','both'],dodge = True)\n",
    "boxplot.set(xlabel = \"\\n\"+gene+\" PTEN CNV Deletions and EGFR Amplifications\", ylabel = t_gene+' Proteomics')\n",
    "\n",
    "# format legend\n",
    "handles, labels = boxplot.get_legend_handles_labels()\n",
    "plt.legend(handles[0:4], labels[0:4])\n",
    "\n",
    "\n",
    "# Create significance symbols:\n",
    "# * P ≤ 0.05   ** P ≤ 0.01   *** P ≤ 0.001 \n",
    "\n",
    "pvals = [hp, dual_hp] # same order as appended in long df\n",
    "symbols = {}\n",
    "\n",
    "for p in pvals:\n",
    "    if p <= 0.001:\n",
    "        symbols[p] = '***'\n",
    "    elif p <= 0.01:\n",
    "        symbols[p] = '**'\n",
    "    elif p <= .05:\n",
    "        symbols[p] = '*'\n",
    "    else:\n",
    "        symbols[p] = 'ns'\n",
    "#print(symbols)\n",
    "\n",
    "format_pval_annotation(symbols[hp], 0, 2.0, 27.8) \n",
    "format_pval_annotation(symbols[dual_hp], 0, 3.0, 28.3) \n",
    "\n",
    "\n",
    "plt.show()\n",
    "plt.clf()\n",
    "plt.close()"
   ]
  },
  {
   "cell_type": "code",
   "execution_count": 27,
   "metadata": {},
   "outputs": [],
   "source": [
    "# Save figure\n",
    "#fig = boxplot.get_figure()\n",
    "#fig.savefig(\".png\")"
   ]
  },
  {
   "cell_type": "code",
   "execution_count": null,
   "metadata": {},
   "outputs": [],
   "source": []
  }
 ],
 "metadata": {
  "kernelspec": {
   "display_name": "Python 3",
   "language": "python",
   "name": "python3"
  },
  "language_info": {
   "codemirror_mode": {
    "name": "ipython",
    "version": 3
   },
   "file_extension": ".py",
   "mimetype": "text/x-python",
   "name": "python",
   "nbconvert_exporter": "python",
   "pygments_lexer": "ipython3",
   "version": "3.7.3"
  }
 },
 "nbformat": 4,
 "nbformat_minor": 2
}
