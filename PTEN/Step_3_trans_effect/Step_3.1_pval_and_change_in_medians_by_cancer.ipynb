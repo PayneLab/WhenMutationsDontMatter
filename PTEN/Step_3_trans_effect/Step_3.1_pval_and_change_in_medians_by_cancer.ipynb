{
 "cells": [
  {
   "cell_type": "markdown",
   "metadata": {},
   "source": [
    "# Create tables with p-value and change in medians for multiple cancers "
   ]
  },
  {
   "cell_type": "markdown",
   "metadata": {},
   "source": [
    "Create a dataframe with p-value results from t-tests for all proteins (trans gene proteomics when PTEN has cnv deletions compared to PTEN wildtype). The dataframe also includes the change in medians between deletions and wildtype. Prepare these tables for further analysis by creating csv files."
   ]
  },
  {
   "cell_type": "code",
   "execution_count": 1,
   "metadata": {},
   "outputs": [],
   "source": [
    "import pandas as pd\n",
    "import numpy as np\n",
    "import seaborn as sns\n",
    "import matplotlib.pyplot as plt\n",
    "import scipy.stats\n",
    "import gseapy as gp\n",
    "import re\n",
    "import sys \n",
    "\n",
    "import cptac\n",
    "import cptac.utils as u\n",
    "\n",
    "import plot_utils as pu\n",
    "root = R'~\\Github\\WhenMutationsDontMatter\\PTEN\\Step_3_trans_effect\\csv'"
   ]
  },
  {
   "cell_type": "code",
   "execution_count": 2,
   "metadata": {},
   "outputs": [],
   "source": [
    "# Returns a dataframe with proteomics and mutation type\n",
    "\n",
    "# all_prot: list of trans genes\n",
    "\n",
    "def all_prot_format_df(cancer_object, all_prot, gene_in = 'PTEN', utils = u):\n",
    "    mut_type = cancer_object.get_genotype_all_vars(gene_in)\n",
    "    \n",
    "    if cancer_object.get_cancer_type() not in ('luad'):\n",
    "        # Keep only tumor samples from proteomics\n",
    "        prot_and_mutations = cancer_object.join_omics_to_mutations(\n",
    "            mutations_genes = [gene_in], omics_df_name = 'proteomics', omics_genes = all_prot)\n",
    "        # Reduce a multiindex \n",
    "        if isinstance(prot_and_mutations.keys(), pd.core.indexes.multi.MultiIndex):\n",
    "            prot_and_mutations = utils.reduce_multiindex(prot_and_mutations, levels_to_drop = 1)\n",
    "        prot_and_mutations = prot_and_mutations[prot_and_mutations.Sample_Status == \"Tumor\"] # drop Normal samples\n",
    "\n",
    "        # Merge Mutation column from get_genotype_all_vars (includes cnv) with proteomics\n",
    "        mut_type = mut_type[['Mutation']] \n",
    "        prot_df = prot_and_mutations.iloc[:,:-4] # Keep only proteomics\n",
    "        merged = prot_df.join(mut_type)\n",
    "        \n",
    "        # Keep only Wildtype and deletion\n",
    "        compare = ['Wildtype_Tumor','Deletion']\n",
    "        get = merged['Mutation'].isin(compare)\n",
    "        del_wt = merged[get]\n",
    "    \n",
    "    \n",
    "    # Luad has no somatic mutations for PTEN which changes some things\n",
    "    else: \n",
    "        # get_genotype_all_vars add cnv data under the column PTEN\n",
    "        mut_type = mut_type.drop(columns= gene_in)\n",
    "        # different code because no somatic mutation data for pten (can't join to somatic mutations)\n",
    "        omics = cancer_object.join_omics_to_omics(df1_name = 'CNV', df2_name='proteomics',genes1= gene_in, \n",
    "            genes2= all_prot)\n",
    "        omics = utils.reduce_multiindex(omics, levels_to_drop = 1, flatten = True)\n",
    "        omics = omics.drop(columns='PTEN_CNV')\n",
    "        # Get only tumor samples\n",
    "        p = cancer_object.get_proteomics(tissue_type='tumor')\n",
    "        tumor_ids = list(p.index)\n",
    "        get = omics.index.isin(tumor_ids)\n",
    "        omics = omics[get]\n",
    "        # Merge Mutation column from get_genotype_all_vars (includes cnv) with proteomics\n",
    "        merged = omics.join(mut_type) \n",
    "        # Keep only No_Mutation (wildtype) and deletion\n",
    "        compare = ['No_Mutation','Deletion']\n",
    "        get = merged['Mutation'].isin(compare)\n",
    "        del_wt = merged[get]\n",
    "        del_wt['Mutation'] = np.where(\n",
    "            del_wt['Mutation'] == 'No_Mutation', 'Wildtype_Tumor', 'Deletion')\n",
    "\n",
    "    return del_wt\n"
   ]
  },
  {
   "cell_type": "code",
   "execution_count": 3,
   "metadata": {},
   "outputs": [],
   "source": [
    "'''\n",
    "Params\n",
    "cancer_object: Object. Variable for the loaded cancer data set.\n",
    "cancer_name: Str. name to add to the created dataframe.\n",
    "del_wt_df: DataFrame. Only samples with deletions and wildtype for PTEN. \n",
    "all_prot_list: List. All proteins in proteomics data frame. \n",
    "\n",
    "Returns a dataframe with the difference in medians between proteomics with PTEN wt and del (wt - del). \n",
    "'''\n",
    "\n",
    "def get_change_in_medians_df(cancer_object, cancer_name, del_wt_df, all_prot_list):\n",
    "    d = del_wt_df[del_wt_df.Mutation == \"Deletion\"]\n",
    "    wt = del_wt_df[del_wt_df.Mutation == \"Wildtype_Tumor\"]\n",
    "    del_med = d.median()\n",
    "    wt_med = wt.median()\n",
    "\n",
    "    med_dict = {}\n",
    "    \n",
    "    # Correlation: + is mutant up compared to wt, - is mutant down\n",
    "    for prot in all_prot_list:\n",
    "        if prot+'_proteomics' in del_med.index and prot+'_proteomics' in wt_med.index:\n",
    "            dif = del_med[prot+'_proteomics'] - wt_med[prot+'_proteomics']\n",
    "            med_dict[prot+'_proteomics'] = dif\n",
    "        \n",
    "    df = pd.DataFrame.from_dict(med_dict, orient='index', columns=[cancer_name+'_Median'])\n",
    "    df = df.reset_index().rename(columns={'index':'Proteomics'})\n",
    "    \n",
    "    return df\n",
    "        "
   ]
  },
  {
   "cell_type": "markdown",
   "metadata": {},
   "source": [
    "#  Step 1: Create Data frames with p-values and differences in median"
   ]
  },
  {
   "cell_type": "markdown",
   "metadata": {},
   "source": [
    "Each cancer needs a data frame containing only samples that have PTEN cnv deletions and PTEN wildtype with trans proteomics. Use wrap_ttest to run many T-tests for all genes in the proteomics data frame. Use get_change_in_medians_df to create the data frame with change in median values. Merge both data frames. "
   ]
  },
  {
   "cell_type": "markdown",
   "metadata": {},
   "source": [
    "Load in cancer data sets from cptac. "
   ]
  },
  {
   "cell_type": "code",
   "execution_count": 4,
   "metadata": {},
   "outputs": [
    {
     "name": "stdout",
     "output_type": "stream",
     "text": [
      "Checking that endometrial index is up-to-date...\r"
     ]
    },
    {
     "name": "stderr",
     "output_type": "stream",
     "text": [
      "cptac warning: The GBM dataset is under publication embargo until March 01, 2021. CPTAC is a community resource project and data are made available rapidly after generation for community research use. The embargo allows exploring and utilizing the data, but analysis may not be published until after the embargo date. Please see https://proteomics.cancer.gov/data-portal/about/data-use-agreement or enter cptac.embargo() to open the webpage for more details. (C:\\Users\\brittany henderson\\Anaconda3\\envs\\Research\\lib\\site-packages\\ipykernel_launcher.py, line 1)\n"
     ]
    },
    {
     "name": "stdout",
     "output_type": "stream",
     "text": [
      "Checking that luad index is up-to-date...       \r"
     ]
    },
    {
     "name": "stderr",
     "output_type": "stream",
     "text": [
      "cptac warning: The HNSCC data is currently strictly reserved for CPTAC investigators. Otherwise, you are not authorized to access these data. Additionally, even after these data become publicly available, they will be subject to a publication embargo (see https://proteomics.cancer.gov/data-portal/about/data-use-agreement or enter cptac.embargo() to open the webpage for more details). (C:\\Users\\brittany henderson\\Anaconda3\\envs\\Research\\lib\\site-packages\\ipykernel_launcher.py, line 3)\n"
     ]
    },
    {
     "name": "stdout",
     "output_type": "stream",
     "text": [
      "Checking that lscc index is up-to-date...\r"
     ]
    },
    {
     "name": "stderr",
     "output_type": "stream",
     "text": [
      "cptac warning: The LUAD dataset is under publication embargo until July 01, 2020. CPTAC is a community resource project and data are made available rapidly after generation for community research use. The embargo allows exploring and utilizing the data, but analysis may not be published until after the embargo date. Please see https://proteomics.cancer.gov/data-portal/about/data-use-agreement or enter cptac.embargo() to open the webpage for more details. (C:\\Users\\brittany henderson\\Anaconda3\\envs\\Research\\lib\\site-packages\\ipykernel_launcher.py, line 4)\n"
     ]
    },
    {
     "name": "stdout",
     "output_type": "stream",
     "text": [
      "version 3scc v3.2.......                 \n",
      "Checking that ovarian index is up-to-date...\r"
     ]
    },
    {
     "name": "stderr",
     "output_type": "stream",
     "text": [
      "cptac warning: The LSCC data is currently strictly reserved for CPTAC investigators. Otherwise, you are not authorized to access these data. Additionally, even after these data become publicly available, they will be subject to a publication embargo (see https://proteomics.cancer.gov/data-portal/about/data-use-agreement or enter cptac.embargo() to open the webpage for more details). (C:\\Users\\brittany henderson\\Anaconda3\\envs\\Research\\lib\\site-packages\\ipykernel_launcher.py, line 5)\n"
     ]
    },
    {
     "name": "stdout",
     "output_type": "stream",
     "text": [
      "                                            \r"
     ]
    }
   ],
   "source": [
    "g = cptac.Gbm()\n",
    "en = cptac.Endometrial()\n",
    "h = cptac.Hnscc()\n",
    "l = cptac.Luad()\n",
    "ls = cptac.Lscc()\n",
    "o = cptac.Ovarian()\n",
    "col = cptac.Colon()\n",
    "b = cptac.Brca()"
   ]
  },
  {
   "cell_type": "markdown",
   "metadata": {},
   "source": [
    "# Gbm"
   ]
  },
  {
   "cell_type": "markdown",
   "metadata": {},
   "source": [
    "Part 1: Format data frame using all_prot_format_df. This returns a dataframe with proteomics and a Mutation column containing only PTEN cnv deletions and wildtype tumors. "
   ]
  },
  {
   "cell_type": "code",
   "execution_count": 5,
   "metadata": {},
   "outputs": [
    {
     "name": "stderr",
     "output_type": "stream",
     "text": [
      "cptac warning: In joining the somatic_mutation table, no mutations were found for the following samples, so they were filled with Wildtype_Tumor or Wildtype_Normal: 72 samples for the PTEN gene (C:\\Users\\brittany henderson\\Anaconda3\\envs\\Research\\lib\\site-packages\\cptac\\dataset.py, line 313)\n",
      "cptac warning: CNV data was not found for the following samples, so CNV data columns were filled with NaN for these samples: C3L-01834 (C:\\Users\\brittany henderson\\Anaconda3\\envs\\Research\\lib\\site-packages\\cptac\\dataset.py, line 313)\n",
      "cptac warning: In joining the somatic_mutation table, no mutations were found for the following samples, so they were filled with Wildtype_Tumor or Wildtype_Normal: 82 samples for the PTEN gene (C:\\Users\\brittany henderson\\Anaconda3\\envs\\Research\\lib\\site-packages\\ipykernel_launcher.py, line 11)\n"
     ]
    },
    {
     "data": {
      "text/html": [
       "<div>\n",
       "<style scoped>\n",
       "    .dataframe tbody tr th:only-of-type {\n",
       "        vertical-align: middle;\n",
       "    }\n",
       "\n",
       "    .dataframe tbody tr th {\n",
       "        vertical-align: top;\n",
       "    }\n",
       "\n",
       "    .dataframe thead th {\n",
       "        text-align: right;\n",
       "    }\n",
       "</style>\n",
       "<table border=\"1\" class=\"dataframe\">\n",
       "  <thead>\n",
       "    <tr style=\"text-align: right;\">\n",
       "      <th>Name</th>\n",
       "      <th>A1BG_proteomics</th>\n",
       "      <th>A2M_proteomics</th>\n",
       "      <th>AAAS_proteomics</th>\n",
       "      <th>AACS_proteomics</th>\n",
       "      <th>AADAT_proteomics</th>\n",
       "      <th>AAED1_proteomics</th>\n",
       "      <th>AAGAB_proteomics</th>\n",
       "      <th>AAK1_proteomics</th>\n",
       "      <th>AAMDC_proteomics</th>\n",
       "      <th>AAMP_proteomics</th>\n",
       "      <th>...</th>\n",
       "      <th>ZSWIM8_proteomics</th>\n",
       "      <th>ZW10_proteomics</th>\n",
       "      <th>ZWILCH_proteomics</th>\n",
       "      <th>ZWINT_proteomics</th>\n",
       "      <th>ZXDC_proteomics</th>\n",
       "      <th>ZYG11B_proteomics</th>\n",
       "      <th>ZYX_proteomics</th>\n",
       "      <th>ZZEF1_proteomics</th>\n",
       "      <th>ZZZ3_proteomics</th>\n",
       "      <th>Mutation</th>\n",
       "    </tr>\n",
       "    <tr>\n",
       "      <th>Patient_ID</th>\n",
       "      <th></th>\n",
       "      <th></th>\n",
       "      <th></th>\n",
       "      <th></th>\n",
       "      <th></th>\n",
       "      <th></th>\n",
       "      <th></th>\n",
       "      <th></th>\n",
       "      <th></th>\n",
       "      <th></th>\n",
       "      <th></th>\n",
       "      <th></th>\n",
       "      <th></th>\n",
       "      <th></th>\n",
       "      <th></th>\n",
       "      <th></th>\n",
       "      <th></th>\n",
       "      <th></th>\n",
       "      <th></th>\n",
       "      <th></th>\n",
       "      <th></th>\n",
       "    </tr>\n",
       "  </thead>\n",
       "  <tbody>\n",
       "    <tr>\n",
       "      <th>C3L-00104</th>\n",
       "      <td>0.077630</td>\n",
       "      <td>0.487228</td>\n",
       "      <td>-0.254208</td>\n",
       "      <td>-0.144373</td>\n",
       "      <td>0.551881</td>\n",
       "      <td>-0.025276</td>\n",
       "      <td>-0.467451</td>\n",
       "      <td>-0.089511</td>\n",
       "      <td>-0.078806</td>\n",
       "      <td>0.329603</td>\n",
       "      <td>...</td>\n",
       "      <td>-0.047437</td>\n",
       "      <td>-0.105908</td>\n",
       "      <td>-0.347076</td>\n",
       "      <td>NaN</td>\n",
       "      <td>0.459635</td>\n",
       "      <td>0.079452</td>\n",
       "      <td>-0.784983</td>\n",
       "      <td>-0.488441</td>\n",
       "      <td>0.167990</td>\n",
       "      <td>Deletion</td>\n",
       "    </tr>\n",
       "    <tr>\n",
       "      <th>C3L-00365</th>\n",
       "      <td>-0.145975</td>\n",
       "      <td>0.798796</td>\n",
       "      <td>0.184242</td>\n",
       "      <td>-0.470603</td>\n",
       "      <td>NaN</td>\n",
       "      <td>0.390211</td>\n",
       "      <td>0.245466</td>\n",
       "      <td>-0.609998</td>\n",
       "      <td>0.118625</td>\n",
       "      <td>-0.086927</td>\n",
       "      <td>...</td>\n",
       "      <td>0.161975</td>\n",
       "      <td>-0.213093</td>\n",
       "      <td>0.235571</td>\n",
       "      <td>NaN</td>\n",
       "      <td>0.107421</td>\n",
       "      <td>0.048724</td>\n",
       "      <td>0.138403</td>\n",
       "      <td>-0.290141</td>\n",
       "      <td>0.405037</td>\n",
       "      <td>Deletion</td>\n",
       "    </tr>\n",
       "    <tr>\n",
       "      <th>C3L-00674</th>\n",
       "      <td>0.821991</td>\n",
       "      <td>1.096470</td>\n",
       "      <td>-0.094421</td>\n",
       "      <td>-0.106304</td>\n",
       "      <td>0.084578</td>\n",
       "      <td>0.176402</td>\n",
       "      <td>-0.248151</td>\n",
       "      <td>0.014061</td>\n",
       "      <td>-0.699773</td>\n",
       "      <td>-0.638462</td>\n",
       "      <td>...</td>\n",
       "      <td>-0.065534</td>\n",
       "      <td>-0.306717</td>\n",
       "      <td>0.879991</td>\n",
       "      <td>NaN</td>\n",
       "      <td>0.883564</td>\n",
       "      <td>-0.172222</td>\n",
       "      <td>0.011876</td>\n",
       "      <td>-0.131889</td>\n",
       "      <td>-0.503581</td>\n",
       "      <td>Deletion</td>\n",
       "    </tr>\n",
       "    <tr>\n",
       "      <th>C3L-00677</th>\n",
       "      <td>-0.064567</td>\n",
       "      <td>0.129385</td>\n",
       "      <td>0.047751</td>\n",
       "      <td>-0.118187</td>\n",
       "      <td>0.237434</td>\n",
       "      <td>NaN</td>\n",
       "      <td>0.303847</td>\n",
       "      <td>0.322163</td>\n",
       "      <td>-0.555479</td>\n",
       "      <td>-0.363414</td>\n",
       "      <td>...</td>\n",
       "      <td>-0.254535</td>\n",
       "      <td>0.463653</td>\n",
       "      <td>0.580230</td>\n",
       "      <td>0.503044</td>\n",
       "      <td>-0.604986</td>\n",
       "      <td>0.178077</td>\n",
       "      <td>-0.720059</td>\n",
       "      <td>-0.150197</td>\n",
       "      <td>-0.268715</td>\n",
       "      <td>Deletion</td>\n",
       "    </tr>\n",
       "    <tr>\n",
       "      <th>C3L-01040</th>\n",
       "      <td>-0.763691</td>\n",
       "      <td>-1.031834</td>\n",
       "      <td>-0.217194</td>\n",
       "      <td>-0.695701</td>\n",
       "      <td>0.184173</td>\n",
       "      <td>-0.474816</td>\n",
       "      <td>-0.051789</td>\n",
       "      <td>0.344842</td>\n",
       "      <td>-0.642746</td>\n",
       "      <td>0.068863</td>\n",
       "      <td>...</td>\n",
       "      <td>-0.092502</td>\n",
       "      <td>0.010639</td>\n",
       "      <td>-0.465079</td>\n",
       "      <td>NaN</td>\n",
       "      <td>-0.500083</td>\n",
       "      <td>0.112651</td>\n",
       "      <td>1.004660</td>\n",
       "      <td>-0.230304</td>\n",
       "      <td>-0.102416</td>\n",
       "      <td>Deletion</td>\n",
       "    </tr>\n",
       "  </tbody>\n",
       "</table>\n",
       "<p>5 rows × 11010 columns</p>\n",
       "</div>"
      ],
      "text/plain": [
       "Name        A1BG_proteomics  A2M_proteomics  AAAS_proteomics  AACS_proteomics  \\\n",
       "Patient_ID                                                                      \n",
       "C3L-00104          0.077630        0.487228        -0.254208        -0.144373   \n",
       "C3L-00365         -0.145975        0.798796         0.184242        -0.470603   \n",
       "C3L-00674          0.821991        1.096470        -0.094421        -0.106304   \n",
       "C3L-00677         -0.064567        0.129385         0.047751        -0.118187   \n",
       "C3L-01040         -0.763691       -1.031834        -0.217194        -0.695701   \n",
       "\n",
       "Name        AADAT_proteomics  AAED1_proteomics  AAGAB_proteomics  \\\n",
       "Patient_ID                                                         \n",
       "C3L-00104           0.551881         -0.025276         -0.467451   \n",
       "C3L-00365                NaN          0.390211          0.245466   \n",
       "C3L-00674           0.084578          0.176402         -0.248151   \n",
       "C3L-00677           0.237434               NaN          0.303847   \n",
       "C3L-01040           0.184173         -0.474816         -0.051789   \n",
       "\n",
       "Name        AAK1_proteomics  AAMDC_proteomics  AAMP_proteomics  ...  \\\n",
       "Patient_ID                                                      ...   \n",
       "C3L-00104         -0.089511         -0.078806         0.329603  ...   \n",
       "C3L-00365         -0.609998          0.118625        -0.086927  ...   \n",
       "C3L-00674          0.014061         -0.699773        -0.638462  ...   \n",
       "C3L-00677          0.322163         -0.555479        -0.363414  ...   \n",
       "C3L-01040          0.344842         -0.642746         0.068863  ...   \n",
       "\n",
       "Name        ZSWIM8_proteomics  ZW10_proteomics  ZWILCH_proteomics  \\\n",
       "Patient_ID                                                          \n",
       "C3L-00104           -0.047437        -0.105908          -0.347076   \n",
       "C3L-00365            0.161975        -0.213093           0.235571   \n",
       "C3L-00674           -0.065534        -0.306717           0.879991   \n",
       "C3L-00677           -0.254535         0.463653           0.580230   \n",
       "C3L-01040           -0.092502         0.010639          -0.465079   \n",
       "\n",
       "Name        ZWINT_proteomics  ZXDC_proteomics  ZYG11B_proteomics  \\\n",
       "Patient_ID                                                         \n",
       "C3L-00104                NaN         0.459635           0.079452   \n",
       "C3L-00365                NaN         0.107421           0.048724   \n",
       "C3L-00674                NaN         0.883564          -0.172222   \n",
       "C3L-00677           0.503044        -0.604986           0.178077   \n",
       "C3L-01040                NaN        -0.500083           0.112651   \n",
       "\n",
       "Name        ZYX_proteomics  ZZEF1_proteomics  ZZZ3_proteomics  Mutation  \n",
       "Patient_ID                                                               \n",
       "C3L-00104        -0.784983         -0.488441         0.167990  Deletion  \n",
       "C3L-00365         0.138403         -0.290141         0.405037  Deletion  \n",
       "C3L-00674         0.011876         -0.131889        -0.503581  Deletion  \n",
       "C3L-00677        -0.720059         -0.150197        -0.268715  Deletion  \n",
       "C3L-01040         1.004660         -0.230304        -0.102416  Deletion  \n",
       "\n",
       "[5 rows x 11010 columns]"
      ]
     },
     "execution_count": 5,
     "metadata": {},
     "output_type": "execute_result"
    }
   ],
   "source": [
    "gene = 'PTEN'\n",
    "g_prot = g.get_proteomics()\n",
    "g_prot_list = list(g_prot.columns)\n",
    "\n",
    "g_del_wt = all_prot_format_df(g, g_prot_list)\n",
    "g_del_wt = g_del_wt.dropna(axis='columns', thresh = 10)\n",
    "g_del_wt.head()"
   ]
  },
  {
   "cell_type": "markdown",
   "metadata": {},
   "source": [
    "Part 2: Run T-tests. Create a data frame of just significant comparisons and another data frame for all comparisons. A moderately stringent correction is used (FDR_BH)."
   ]
  },
  {
   "cell_type": "code",
   "execution_count": 6,
   "metadata": {},
   "outputs": [
    {
     "name": "stderr",
     "output_type": "stream",
     "text": [
      "C:\\Users\\brittany henderson\\Anaconda3\\envs\\Research\\lib\\site-packages\\numpy\\core\\fromnumeric.py:3367: RuntimeWarning: Degrees of freedom <= 0 for slice\n",
      "  **kwargs)\n",
      "C:\\Users\\brittany henderson\\Anaconda3\\envs\\Research\\lib\\site-packages\\numpy\\core\\_methods.py:132: RuntimeWarning: invalid value encountered in double_scalars\n",
      "  ret = ret.dtype.type(ret / rcount)\n",
      "C:\\Users\\brittany henderson\\Anaconda3\\envs\\Research\\lib\\site-packages\\scipy\\stats\\_distn_infrastructure.py:877: RuntimeWarning: invalid value encountered in greater\n",
      "  return (self.a < x) & (x < self.b)\n",
      "C:\\Users\\brittany henderson\\Anaconda3\\envs\\Research\\lib\\site-packages\\scipy\\stats\\_distn_infrastructure.py:877: RuntimeWarning: invalid value encountered in less\n",
      "  return (self.a < x) & (x < self.b)\n",
      "C:\\Users\\brittany henderson\\Anaconda3\\envs\\Research\\lib\\site-packages\\scipy\\stats\\_distn_infrastructure.py:1831: RuntimeWarning: invalid value encountered in less_equal\n",
      "  cond2 = cond0 & (x <= self.a)\n",
      "C:\\Users\\brittany henderson\\Anaconda3\\envs\\Research\\lib\\site-packages\\statsmodels\\stats\\multitest.py:325: RuntimeWarning: invalid value encountered in less_equal\n",
      "  reject = pvals_sorted <= ecdffactor*alpha\n",
      "C:\\Users\\brittany henderson\\Anaconda3\\envs\\Research\\lib\\site-packages\\statsmodels\\stats\\multitest.py:333: RuntimeWarning: invalid value encountered in greater\n",
      "  pvals_corrected[pvals_corrected>1] = 1\n",
      "C:\\Users\\brittany henderson\\Anaconda3\\envs\\Research\\lib\\site-packages\\statsmodels\\stats\\multitest.py:256: RuntimeWarning: invalid value encountered in greater\n",
      "  pvals_corrected[pvals_corrected>1] = 1\n"
     ]
    },
    {
     "name": "stdout",
     "output_type": "stream",
     "text": [
      "significant pvals: \n",
      "                Comparison       P_Value\n",
      "0        ARMH3_proteomics  5.396032e-11\n",
      "1         CUTC_proteomics  1.593480e-10\n",
      "2      PIP4K2A_proteomics  1.009419e-09\n",
      "3         CUL2_proteomics  1.122076e-09\n",
      "4         GDI2_proteomics  1.302273e-09\n",
      "...                   ...           ...\n",
      "1895  KIAA1522_proteomics  8.588845e-03\n",
      "1896      NOB1_proteomics  8.592904e-03\n",
      "1897      MSH3_proteomics  8.603975e-03\n",
      "1898      FPR2_proteomics  8.615010e-03\n",
      "1899      FBP2_proteomics  8.625413e-03\n",
      "\n",
      "[1900 rows x 2 columns]\n"
     ]
    },
    {
     "name": "stderr",
     "output_type": "stream",
     "text": [
      "C:\\Users\\brittany henderson\\Anaconda3\\envs\\Research\\lib\\site-packages\\numpy\\core\\fromnumeric.py:3367: RuntimeWarning: Degrees of freedom <= 0 for slice\n",
      "  **kwargs)\n",
      "C:\\Users\\brittany henderson\\Anaconda3\\envs\\Research\\lib\\site-packages\\numpy\\core\\_methods.py:132: RuntimeWarning: invalid value encountered in double_scalars\n",
      "  ret = ret.dtype.type(ret / rcount)\n",
      "C:\\Users\\brittany henderson\\Anaconda3\\envs\\Research\\lib\\site-packages\\scipy\\stats\\_distn_infrastructure.py:877: RuntimeWarning: invalid value encountered in greater\n",
      "  return (self.a < x) & (x < self.b)\n",
      "C:\\Users\\brittany henderson\\Anaconda3\\envs\\Research\\lib\\site-packages\\scipy\\stats\\_distn_infrastructure.py:877: RuntimeWarning: invalid value encountered in less\n",
      "  return (self.a < x) & (x < self.b)\n",
      "C:\\Users\\brittany henderson\\Anaconda3\\envs\\Research\\lib\\site-packages\\scipy\\stats\\_distn_infrastructure.py:1831: RuntimeWarning: invalid value encountered in less_equal\n",
      "  cond2 = cond0 & (x <= self.a)\n",
      "C:\\Users\\brittany henderson\\Anaconda3\\envs\\Research\\lib\\site-packages\\statsmodels\\stats\\multitest.py:325: RuntimeWarning: invalid value encountered in less_equal\n",
      "  reject = pvals_sorted <= ecdffactor*alpha\n",
      "C:\\Users\\brittany henderson\\Anaconda3\\envs\\Research\\lib\\site-packages\\statsmodels\\stats\\multitest.py:333: RuntimeWarning: invalid value encountered in greater\n",
      "  pvals_corrected[pvals_corrected>1] = 1\n",
      "C:\\Users\\brittany henderson\\Anaconda3\\envs\\Research\\lib\\site-packages\\statsmodels\\stats\\multitest.py:256: RuntimeWarning: invalid value encountered in greater\n",
      "  pvals_corrected[pvals_corrected>1] = 1\n"
     ]
    }
   ],
   "source": [
    "g_cols = list(g_del_wt.columns[:-1])\n",
    "\n",
    "# Get only sig genes\n",
    "g_sig = u.wrap_ttest(g_del_wt, 'Mutation', g_cols, correction_method = 'fdr_bh')\n",
    "# Create list of sig genes\n",
    "if g_sig is not None:\n",
    "    g_sig_list = list(g_sig.Comparison)\n",
    "else: \n",
    "    g_sig_list = None\n",
    "print('significant pvals: \\n',g_sig)\n",
    "\n",
    "# Get all pvals\n",
    "g_pval = u.wrap_ttest(g_del_wt, 'Mutation', g_cols, return_all = True, correction_method = 'fdr_bh')\n",
    "g_pval = g_pval.rename(columns = {'Comparison': 'Proteomics','P_Value': 'Gbm_P_Value'})"
   ]
  },
  {
   "cell_type": "markdown",
   "metadata": {},
   "source": [
    "Part 3: Create the differences in median df. (median of wildtype tumors - median of cnv deletions)"
   ]
  },
  {
   "cell_type": "code",
   "execution_count": 7,
   "metadata": {},
   "outputs": [
    {
     "name": "stderr",
     "output_type": "stream",
     "text": [
      "C:\\Users\\brittany henderson\\Anaconda3\\envs\\Research\\lib\\site-packages\\numpy\\lib\\nanfunctions.py:1076: RuntimeWarning: Mean of empty slice\n",
      "  return np.nanmean(a, axis, out=out, keepdims=keepdims)\n"
     ]
    }
   ],
   "source": [
    "g_med = get_change_in_medians_df(g, \"Gbm\", g_del_wt, g_prot_list)"
   ]
  },
  {
   "cell_type": "markdown",
   "metadata": {},
   "source": [
    "Part 4: Merge the p-values and the differences in median dfs."
   ]
  },
  {
   "cell_type": "code",
   "execution_count": 8,
   "metadata": {},
   "outputs": [
    {
     "name": "stdout",
     "output_type": "stream",
     "text": [
      "total_proteins_tested = 11009\n"
     ]
    },
    {
     "data": {
      "text/html": [
       "<div>\n",
       "<style scoped>\n",
       "    .dataframe tbody tr th:only-of-type {\n",
       "        vertical-align: middle;\n",
       "    }\n",
       "\n",
       "    .dataframe tbody tr th {\n",
       "        vertical-align: top;\n",
       "    }\n",
       "\n",
       "    .dataframe thead th {\n",
       "        text-align: right;\n",
       "    }\n",
       "</style>\n",
       "<table border=\"1\" class=\"dataframe\">\n",
       "  <thead>\n",
       "    <tr style=\"text-align: right;\">\n",
       "      <th></th>\n",
       "      <th>Proteomics</th>\n",
       "      <th>Gbm_P_Value</th>\n",
       "      <th>Gbm_Median</th>\n",
       "    </tr>\n",
       "  </thead>\n",
       "  <tbody>\n",
       "    <tr>\n",
       "      <th>0</th>\n",
       "      <td>ARMH3_proteomics</td>\n",
       "      <td>5.396032e-11</td>\n",
       "      <td>-0.405134</td>\n",
       "    </tr>\n",
       "    <tr>\n",
       "      <th>1</th>\n",
       "      <td>CUTC_proteomics</td>\n",
       "      <td>1.593480e-10</td>\n",
       "      <td>-0.553255</td>\n",
       "    </tr>\n",
       "    <tr>\n",
       "      <th>2</th>\n",
       "      <td>PIP4K2A_proteomics</td>\n",
       "      <td>1.009419e-09</td>\n",
       "      <td>-0.838882</td>\n",
       "    </tr>\n",
       "    <tr>\n",
       "      <th>3</th>\n",
       "      <td>CUL2_proteomics</td>\n",
       "      <td>1.122076e-09</td>\n",
       "      <td>-0.586396</td>\n",
       "    </tr>\n",
       "    <tr>\n",
       "      <th>4</th>\n",
       "      <td>GDI2_proteomics</td>\n",
       "      <td>1.302273e-09</td>\n",
       "      <td>-0.610188</td>\n",
       "    </tr>\n",
       "    <tr>\n",
       "      <th>...</th>\n",
       "      <td>...</td>\n",
       "      <td>...</td>\n",
       "      <td>...</td>\n",
       "    </tr>\n",
       "    <tr>\n",
       "      <th>11004</th>\n",
       "      <td>YBX2_proteomics</td>\n",
       "      <td>NaN</td>\n",
       "      <td>NaN</td>\n",
       "    </tr>\n",
       "    <tr>\n",
       "      <th>11005</th>\n",
       "      <td>ZNF354C_proteomics</td>\n",
       "      <td>NaN</td>\n",
       "      <td>NaN</td>\n",
       "    </tr>\n",
       "    <tr>\n",
       "      <th>11006</th>\n",
       "      <td>ZNF432_proteomics</td>\n",
       "      <td>NaN</td>\n",
       "      <td>NaN</td>\n",
       "    </tr>\n",
       "    <tr>\n",
       "      <th>11007</th>\n",
       "      <td>ZNF805_proteomics</td>\n",
       "      <td>NaN</td>\n",
       "      <td>NaN</td>\n",
       "    </tr>\n",
       "    <tr>\n",
       "      <th>11008</th>\n",
       "      <td>ZNF814_proteomics</td>\n",
       "      <td>NaN</td>\n",
       "      <td>-0.265936</td>\n",
       "    </tr>\n",
       "  </tbody>\n",
       "</table>\n",
       "<p>11009 rows × 3 columns</p>\n",
       "</div>"
      ],
      "text/plain": [
       "               Proteomics   Gbm_P_Value  Gbm_Median\n",
       "0        ARMH3_proteomics  5.396032e-11   -0.405134\n",
       "1         CUTC_proteomics  1.593480e-10   -0.553255\n",
       "2      PIP4K2A_proteomics  1.009419e-09   -0.838882\n",
       "3         CUL2_proteomics  1.122076e-09   -0.586396\n",
       "4         GDI2_proteomics  1.302273e-09   -0.610188\n",
       "...                   ...           ...         ...\n",
       "11004     YBX2_proteomics           NaN         NaN\n",
       "11005  ZNF354C_proteomics           NaN         NaN\n",
       "11006   ZNF432_proteomics           NaN         NaN\n",
       "11007   ZNF805_proteomics           NaN         NaN\n",
       "11008   ZNF814_proteomics           NaN   -0.265936\n",
       "\n",
       "[11009 rows x 3 columns]"
      ]
     },
     "execution_count": 8,
     "metadata": {},
     "output_type": "execute_result"
    }
   ],
   "source": [
    "g_merged = g_pval.merge(g_med, on='Proteomics',how='outer')\n",
    "print('total_proteins_tested =', len(g_cols))\n",
    "\n",
    "# Create csv\n",
    "root = R'~\\Github\\WhenMutationsDontMatter\\PTEN\\Step_3_trans_effect\\csv'\n",
    "g_merged.to_csv(root+R'\\gbm_pval_medians.csv',index=False)\n",
    "g_merged"
   ]
  },
  {
   "cell_type": "markdown",
   "metadata": {},
   "source": [
    "# Repeat for other cancers."
   ]
  },
  {
   "cell_type": "markdown",
   "metadata": {},
   "source": [
    "# Ovarian"
   ]
  },
  {
   "cell_type": "code",
   "execution_count": 9,
   "metadata": {},
   "outputs": [
    {
     "name": "stderr",
     "output_type": "stream",
     "text": [
      "cptac warning: Due to dropping the specified levels, dataframe now has 1162 duplicated column headers. (C:\\Users\\brittany henderson\\Anaconda3\\envs\\Research\\lib\\site-packages\\ipykernel_launcher.py, line 3)\n",
      "cptac warning: In joining the somatic_mutation table, no mutations were found for the following samples, so they were filled with Wildtype_Tumor or Wildtype_Normal: 98 samples for the PTEN gene (C:\\Users\\brittany henderson\\Anaconda3\\envs\\Research\\lib\\site-packages\\cptac\\dataset.py, line 313)\n",
      "cptac warning: CNV data was not found for the following samples, so CNV data columns were filled with NaN for these samples: 01OV029, 02OV015 (C:\\Users\\brittany henderson\\Anaconda3\\envs\\Research\\lib\\site-packages\\cptac\\dataset.py, line 313)\n",
      "cptac warning: In joining the somatic_mutation table, no mutations were found for the following samples, so they were filled with Wildtype_Tumor or Wildtype_Normal: 99 samples for the PTEN gene (C:\\Users\\brittany henderson\\Anaconda3\\envs\\Research\\lib\\site-packages\\ipykernel_launcher.py, line 11)\n",
      "cptac warning: Due to dropping the specified levels, dataframe now has 1162 duplicated column headers. (C:\\Users\\brittany henderson\\Anaconda3\\envs\\Research\\lib\\site-packages\\ipykernel_launcher.py, line 14)\n"
     ]
    }
   ],
   "source": [
    "gene = 'PTEN'\n",
    "o_prot = o.get_proteomics()\n",
    "o_prot = u.reduce_multiindex(o_prot, levels_to_drop = 1)\n",
    "o_prot_list = list(o_prot.columns)\n",
    "\n",
    "o_del_wt = all_prot_format_df(o, o_prot_list)\n",
    "o_del_wt = o_del_wt.dropna(axis='columns', thresh = 10)"
   ]
  },
  {
   "cell_type": "markdown",
   "metadata": {},
   "source": [
    "There are isoforms in ovarian. Create unique columns names by adding a number to differentiate. "
   ]
  },
  {
   "cell_type": "code",
   "execution_count": 10,
   "metadata": {},
   "outputs": [],
   "source": [
    "cols = pd.Series(o_del_wt.columns[:])\n",
    "\n",
    "for dup in cols[cols.duplicated()].unique(): \n",
    "    cols[cols[cols == dup].index.values.tolist()] = [dup + '_' + str(i) if i != 0 else dup for i in range(sum(cols == dup))]\n",
    "\n",
    "# rename the columns with the cols list.\n",
    "o_del_wt.columns=cols"
   ]
  },
  {
   "cell_type": "code",
   "execution_count": 11,
   "metadata": {},
   "outputs": [
    {
     "name": "stdout",
     "output_type": "stream",
     "text": [
      "significant pvals: \n",
      "          Comparison       P_Value\n",
      "0  MMS19_proteomics  1.058914e-08\n"
     ]
    }
   ],
   "source": [
    "o_cols = list(o_del_wt.columns[:-1])\n",
    "\n",
    "# Get only sig sites\n",
    "o_sig = u.wrap_ttest(o_del_wt, 'Mutation', o_cols, correction_method = 'fdr_bh')\n",
    "if o_sig is not None:\n",
    "    o_sig_list = list(o_sig.Comparison)\n",
    "else: \n",
    "    o_sig_list = None\n",
    "print('significant pvals: \\n',o_sig)\n",
    "\n",
    "# Get all pvals\n",
    "o_pval = u.wrap_ttest(o_del_wt, 'Mutation', o_cols, return_all = True, correction_method = 'fdr_bh')\n",
    "o_pval = o_pval.rename(columns = {'Comparison': 'Proteomics','P_Value': 'Ov_P_Value'})"
   ]
  },
  {
   "cell_type": "code",
   "execution_count": 12,
   "metadata": {},
   "outputs": [],
   "source": [
    "o_med = get_change_in_medians_df(o, \"Ov\", o_del_wt, o_prot_list)"
   ]
  },
  {
   "cell_type": "code",
   "execution_count": 13,
   "metadata": {},
   "outputs": [
    {
     "name": "stdout",
     "output_type": "stream",
     "text": [
      "total_proteins_tested = 10601\n"
     ]
    },
    {
     "data": {
      "text/html": [
       "<div>\n",
       "<style scoped>\n",
       "    .dataframe tbody tr th:only-of-type {\n",
       "        vertical-align: middle;\n",
       "    }\n",
       "\n",
       "    .dataframe tbody tr th {\n",
       "        vertical-align: top;\n",
       "    }\n",
       "\n",
       "    .dataframe thead th {\n",
       "        text-align: right;\n",
       "    }\n",
       "</style>\n",
       "<table border=\"1\" class=\"dataframe\">\n",
       "  <thead>\n",
       "    <tr style=\"text-align: right;\">\n",
       "      <th></th>\n",
       "      <th>Proteomics</th>\n",
       "      <th>Ov_P_Value</th>\n",
       "      <th>Ov_Median</th>\n",
       "    </tr>\n",
       "  </thead>\n",
       "  <tbody>\n",
       "    <tr>\n",
       "      <th>0</th>\n",
       "      <td>MMS19_proteomics</td>\n",
       "      <td>1.058914e-08</td>\n",
       "      <td>-0.324897</td>\n",
       "    </tr>\n",
       "    <tr>\n",
       "      <th>1</th>\n",
       "      <td>RACK1_proteomics</td>\n",
       "      <td>8.573522e-05</td>\n",
       "      <td>-0.191250</td>\n",
       "    </tr>\n",
       "    <tr>\n",
       "      <th>2</th>\n",
       "      <td>PI4K2A_proteomics</td>\n",
       "      <td>9.310383e-05</td>\n",
       "      <td>-0.298399</td>\n",
       "    </tr>\n",
       "    <tr>\n",
       "      <th>3</th>\n",
       "      <td>WAPL_proteomics</td>\n",
       "      <td>1.724680e-04</td>\n",
       "      <td>-0.218775</td>\n",
       "    </tr>\n",
       "    <tr>\n",
       "      <th>4</th>\n",
       "      <td>IDE_proteomics</td>\n",
       "      <td>2.011475e-04</td>\n",
       "      <td>-0.208025</td>\n",
       "    </tr>\n",
       "    <tr>\n",
       "      <th>...</th>\n",
       "      <td>...</td>\n",
       "      <td>...</td>\n",
       "      <td>...</td>\n",
       "    </tr>\n",
       "    <tr>\n",
       "      <th>10596</th>\n",
       "      <td>LRP1_proteomics</td>\n",
       "      <td>9.993474e-01</td>\n",
       "      <td>0.126014</td>\n",
       "    </tr>\n",
       "    <tr>\n",
       "      <th>10597</th>\n",
       "      <td>DDT_proteomics</td>\n",
       "      <td>9.994146e-01</td>\n",
       "      <td>-0.222938</td>\n",
       "    </tr>\n",
       "    <tr>\n",
       "      <th>10598</th>\n",
       "      <td>S100A11_proteomics</td>\n",
       "      <td>9.994208e-01</td>\n",
       "      <td>-0.039314</td>\n",
       "    </tr>\n",
       "    <tr>\n",
       "      <th>10599</th>\n",
       "      <td>NKIRAS2_proteomics</td>\n",
       "      <td>9.994558e-01</td>\n",
       "      <td>-0.002824</td>\n",
       "    </tr>\n",
       "    <tr>\n",
       "      <th>10600</th>\n",
       "      <td>ITIH1_proteomics</td>\n",
       "      <td>9.999696e-01</td>\n",
       "      <td>0.161871</td>\n",
       "    </tr>\n",
       "  </tbody>\n",
       "</table>\n",
       "<p>10601 rows × 3 columns</p>\n",
       "</div>"
      ],
      "text/plain": [
       "               Proteomics    Ov_P_Value  Ov_Median\n",
       "0        MMS19_proteomics  1.058914e-08  -0.324897\n",
       "1        RACK1_proteomics  8.573522e-05  -0.191250\n",
       "2       PI4K2A_proteomics  9.310383e-05  -0.298399\n",
       "3         WAPL_proteomics  1.724680e-04  -0.218775\n",
       "4          IDE_proteomics  2.011475e-04  -0.208025\n",
       "...                   ...           ...        ...\n",
       "10596     LRP1_proteomics  9.993474e-01   0.126014\n",
       "10597      DDT_proteomics  9.994146e-01  -0.222938\n",
       "10598  S100A11_proteomics  9.994208e-01  -0.039314\n",
       "10599  NKIRAS2_proteomics  9.994558e-01  -0.002824\n",
       "10600    ITIH1_proteomics  9.999696e-01   0.161871\n",
       "\n",
       "[10601 rows x 3 columns]"
      ]
     },
     "execution_count": 13,
     "metadata": {},
     "output_type": "execute_result"
    }
   ],
   "source": [
    "o_merged = o_pval.merge(o_med, on='Proteomics',how='outer')\n",
    "print('total_proteins_tested =', len(o_cols))\n",
    "\n",
    "# Create csv\n",
    "o_merged.to_csv(root+R'\\ov_pval_medians.csv',index=False)\n",
    "o_merged"
   ]
  },
  {
   "cell_type": "markdown",
   "metadata": {},
   "source": [
    "# Breast"
   ]
  },
  {
   "cell_type": "code",
   "execution_count": 14,
   "metadata": {},
   "outputs": [
    {
     "name": "stderr",
     "output_type": "stream",
     "text": [
      "cptac warning: Due to dropping the specified levels, dataframe now has 655 duplicated column headers. (C:\\Users\\brittany henderson\\Anaconda3\\envs\\Research\\lib\\site-packages\\ipykernel_launcher.py, line 3)\n",
      "cptac warning: In joining the somatic_mutation table, no mutations were found for the following samples, so they were filled with Wildtype_Tumor or Wildtype_Normal: 113 samples for the PTEN gene (C:\\Users\\brittany henderson\\Anaconda3\\envs\\Research\\lib\\site-packages\\cptac\\dataset.py, line 313)\n",
      "cptac warning: In joining the somatic_mutation table, no mutations were found for the following samples, so they were filled with Wildtype_Tumor or Wildtype_Normal: 113 samples for the PTEN gene (C:\\Users\\brittany henderson\\Anaconda3\\envs\\Research\\lib\\site-packages\\ipykernel_launcher.py, line 11)\n",
      "cptac warning: Due to dropping the specified levels, dataframe now has 655 duplicated column headers. (C:\\Users\\brittany henderson\\Anaconda3\\envs\\Research\\lib\\site-packages\\ipykernel_launcher.py, line 14)\n"
     ]
    }
   ],
   "source": [
    "gene = 'PTEN'\n",
    "b_prot = b.get_proteomics()\n",
    "b_prot = u.reduce_multiindex(b_prot, levels_to_drop = 1)\n",
    "b_prot_list = list(b_prot.columns)\n",
    "\n",
    "b_del_wt = all_prot_format_df(b, b_prot_list)\n",
    "b_del_wt = b_del_wt.dropna(axis='columns', thresh = 10)"
   ]
  },
  {
   "cell_type": "code",
   "execution_count": 15,
   "metadata": {},
   "outputs": [],
   "source": [
    "# Differentiate duplicate column names\n",
    "cols = pd.Series(b_del_wt.columns[:])\n",
    "\n",
    "for dup in cols[cols.duplicated()].unique(): \n",
    "    cols[cols[cols == dup].index.values.tolist()] = [dup + '_' + str(i) if i != 0 else dup for i in range(sum(cols == dup))]\n",
    "\n",
    "# rename the columns with the cols list.\n",
    "b_del_wt.columns=cols"
   ]
  },
  {
   "cell_type": "code",
   "execution_count": 16,
   "metadata": {},
   "outputs": [
    {
     "name": "stdout",
     "output_type": "stream",
     "text": [
      "significant pvals: \n",
      "         Comparison   P_Value\n",
      "0  PTEN_proteomics  0.000004\n"
     ]
    }
   ],
   "source": [
    "b_cols = list(b_del_wt.columns[:-1])\n",
    "\n",
    "# Get only sig sites\n",
    "b_sig = u.wrap_ttest(b_del_wt, 'Mutation', b_cols, correction_method = 'fdr_bh')\n",
    "if b_sig is not None:\n",
    "    b_sig_list = list(b_sig.Comparison)\n",
    "else: \n",
    "    b_sig_list = None\n",
    "print('significant pvals: \\n',b_sig)\n",
    "\n",
    "# Get all pvals\n",
    "b_pval = u.wrap_ttest(b_del_wt, 'Mutation', b_cols, return_all = True)\n",
    "b_pval = b_pval.rename(columns = {'Comparison': 'Proteomics','P_Value': 'Brca_P_Value'})"
   ]
  },
  {
   "cell_type": "code",
   "execution_count": 17,
   "metadata": {},
   "outputs": [],
   "source": [
    "b_med = get_change_in_medians_df(b, \"Brca\", b_del_wt, b_prot_list)"
   ]
  },
  {
   "cell_type": "code",
   "execution_count": 18,
   "metadata": {},
   "outputs": [
    {
     "name": "stdout",
     "output_type": "stream",
     "text": [
      "total_proteins_tested = 10107\n"
     ]
    },
    {
     "data": {
      "text/html": [
       "<div>\n",
       "<style scoped>\n",
       "    .dataframe tbody tr th:only-of-type {\n",
       "        vertical-align: middle;\n",
       "    }\n",
       "\n",
       "    .dataframe tbody tr th {\n",
       "        vertical-align: top;\n",
       "    }\n",
       "\n",
       "    .dataframe thead th {\n",
       "        text-align: right;\n",
       "    }\n",
       "</style>\n",
       "<table border=\"1\" class=\"dataframe\">\n",
       "  <thead>\n",
       "    <tr style=\"text-align: right;\">\n",
       "      <th></th>\n",
       "      <th>Proteomics</th>\n",
       "      <th>Brca_P_Value</th>\n",
       "      <th>Brca_Median</th>\n",
       "    </tr>\n",
       "  </thead>\n",
       "  <tbody>\n",
       "    <tr>\n",
       "      <th>0</th>\n",
       "      <td>PTEN_proteomics</td>\n",
       "      <td>0.000004</td>\n",
       "      <td>-1.00800</td>\n",
       "    </tr>\n",
       "    <tr>\n",
       "      <th>1</th>\n",
       "      <td>EIF4H_proteomics</td>\n",
       "      <td>0.000025</td>\n",
       "      <td>0.41295</td>\n",
       "    </tr>\n",
       "    <tr>\n",
       "      <th>2</th>\n",
       "      <td>MIEF1_proteomics</td>\n",
       "      <td>0.000031</td>\n",
       "      <td>0.84135</td>\n",
       "    </tr>\n",
       "    <tr>\n",
       "      <th>3</th>\n",
       "      <td>TMSB10_proteomics</td>\n",
       "      <td>0.000043</td>\n",
       "      <td>0.87630</td>\n",
       "    </tr>\n",
       "    <tr>\n",
       "      <th>4</th>\n",
       "      <td>DRG1_proteomics</td>\n",
       "      <td>0.000065</td>\n",
       "      <td>0.75135</td>\n",
       "    </tr>\n",
       "  </tbody>\n",
       "</table>\n",
       "</div>"
      ],
      "text/plain": [
       "          Proteomics  Brca_P_Value  Brca_Median\n",
       "0    PTEN_proteomics      0.000004     -1.00800\n",
       "1   EIF4H_proteomics      0.000025      0.41295\n",
       "2   MIEF1_proteomics      0.000031      0.84135\n",
       "3  TMSB10_proteomics      0.000043      0.87630\n",
       "4    DRG1_proteomics      0.000065      0.75135"
      ]
     },
     "execution_count": 18,
     "metadata": {},
     "output_type": "execute_result"
    }
   ],
   "source": [
    "b_merged = b_pval.merge(b_med, on='Proteomics',how='outer')\n",
    "print('total_proteins_tested =', len(b_cols))\n",
    "\n",
    "# Create csv\n",
    "b_merged.to_csv(root+R'\\brca_pval_medians.csv',index=False)\n",
    "b_merged.head()"
   ]
  },
  {
   "cell_type": "markdown",
   "metadata": {},
   "source": [
    "# Colon"
   ]
  },
  {
   "cell_type": "code",
   "execution_count": 19,
   "metadata": {},
   "outputs": [
    {
     "name": "stderr",
     "output_type": "stream",
     "text": [
      "cptac warning: In joining the somatic_mutation table, no mutations were found for the following samples, so they were filled with Wildtype_Tumor or Wildtype_Normal: 100 samples for the PTEN gene (C:\\Users\\brittany henderson\\Anaconda3\\envs\\Research\\lib\\site-packages\\cptac\\dataset.py, line 313)\n",
      "cptac warning: CNV data was not found for the following samples, so CNV data columns were filled with NaN for these samples: 05CO045 (C:\\Users\\brittany henderson\\Anaconda3\\envs\\Research\\lib\\site-packages\\cptac\\dataset.py, line 313)\n",
      "cptac warning: In joining the somatic_mutation table, no mutations were found for the following samples, so they were filled with Wildtype_Tumor or Wildtype_Normal: 201 samples for the PTEN gene (C:\\Users\\brittany henderson\\Anaconda3\\envs\\Research\\lib\\site-packages\\ipykernel_launcher.py, line 11)\n",
      "cptac warning: proteomics data was not found for the following samples, so proteomics data columns were filled with NaN for these samples: 01CO001, 05CO005, 05CO007, 05CO014, 05CO055, 11CO059, 11CO060, 14CO002, 16CO012, 24CO005 (C:\\Users\\brittany henderson\\Anaconda3\\envs\\Research\\lib\\site-packages\\ipykernel_launcher.py, line 11)\n"
     ]
    }
   ],
   "source": [
    "gene = 'PTEN'\n",
    "c_prot = col.get_proteomics()\n",
    "c_prot_list = list(c_prot.columns)\n",
    "\n",
    "c_del_wt = all_prot_format_df(col, c_prot_list)\n",
    "c_del_wt = c_del_wt.dropna(axis='columns', thresh=10)"
   ]
  },
  {
   "cell_type": "code",
   "execution_count": 20,
   "metadata": {},
   "outputs": [],
   "source": [
    "# Differentiate duplicate column names\n",
    "cols = pd.Series(c_del_wt.columns[:])\n",
    "\n",
    "for dup in cols[cols.duplicated()].unique(): \n",
    "    cols[cols[cols == dup].index.values.tolist()] = [dup + '_' + str(i) if i != 0 else dup for i in range(sum(cols == dup))]\n",
    "\n",
    "# rename the columns with the cols list.\n",
    "c_del_wt.columns=cols"
   ]
  },
  {
   "cell_type": "code",
   "execution_count": 21,
   "metadata": {},
   "outputs": [
    {
     "name": "stderr",
     "output_type": "stream",
     "text": [
      "C:\\Users\\brittany henderson\\Anaconda3\\envs\\Research\\lib\\site-packages\\numpy\\core\\fromnumeric.py:3367: RuntimeWarning: Degrees of freedom <= 0 for slice\n",
      "  **kwargs)\n",
      "C:\\Users\\brittany henderson\\Anaconda3\\envs\\Research\\lib\\site-packages\\numpy\\core\\_methods.py:132: RuntimeWarning: invalid value encountered in double_scalars\n",
      "  ret = ret.dtype.type(ret / rcount)\n",
      "C:\\Users\\brittany henderson\\Anaconda3\\envs\\Research\\lib\\site-packages\\scipy\\stats\\_distn_infrastructure.py:877: RuntimeWarning: invalid value encountered in greater\n",
      "  return (self.a < x) & (x < self.b)\n",
      "C:\\Users\\brittany henderson\\Anaconda3\\envs\\Research\\lib\\site-packages\\scipy\\stats\\_distn_infrastructure.py:877: RuntimeWarning: invalid value encountered in less\n",
      "  return (self.a < x) & (x < self.b)\n",
      "C:\\Users\\brittany henderson\\Anaconda3\\envs\\Research\\lib\\site-packages\\scipy\\stats\\_distn_infrastructure.py:1831: RuntimeWarning: invalid value encountered in less_equal\n",
      "  cond2 = cond0 & (x <= self.a)\n",
      "C:\\Users\\brittany henderson\\Anaconda3\\envs\\Research\\lib\\site-packages\\statsmodels\\stats\\multitest.py:325: RuntimeWarning: invalid value encountered in less_equal\n",
      "  reject = pvals_sorted <= ecdffactor*alpha\n",
      "C:\\Users\\brittany henderson\\Anaconda3\\envs\\Research\\lib\\site-packages\\statsmodels\\stats\\multitest.py:333: RuntimeWarning: invalid value encountered in greater\n",
      "  pvals_corrected[pvals_corrected>1] = 1\n",
      "C:\\Users\\brittany henderson\\Anaconda3\\envs\\Research\\lib\\site-packages\\statsmodels\\stats\\multitest.py:256: RuntimeWarning: invalid value encountered in greater\n",
      "  pvals_corrected[pvals_corrected>1] = 1\n"
     ]
    },
    {
     "name": "stdout",
     "output_type": "stream",
     "text": [
      "significant pvals: \n",
      " None\n"
     ]
    }
   ],
   "source": [
    "c_cols = list(c_del_wt.columns[:-1])\n",
    "\n",
    "# Get only sig sites\n",
    "c_sig = u.wrap_ttest(c_del_wt, 'Mutation', c_cols, correction_method = 'fdr_bh')\n",
    "if c_sig is not None:\n",
    "    c_sig_list = list(c_sig.Comparison)\n",
    "else: \n",
    "    c_sig_list = None\n",
    "print('significant pvals: \\n',c_sig)\n",
    "\n",
    "# Get all pvals\n",
    "c_pval = u.wrap_ttest(c_del_wt, 'Mutation', c_cols, return_all = True, correction_method = 'fdr_bh')\n",
    "c_pval = c_pval.rename(columns = {'Comparison': 'Proteomics','P_Value': 'Colon_P_Value'})"
   ]
  },
  {
   "cell_type": "code",
   "execution_count": 22,
   "metadata": {},
   "outputs": [
    {
     "name": "stderr",
     "output_type": "stream",
     "text": [
      "C:\\Users\\brittany henderson\\Anaconda3\\envs\\Research\\lib\\site-packages\\numpy\\lib\\nanfunctions.py:1076: RuntimeWarning: Mean of empty slice\n",
      "  return np.nanmean(a, axis, out=out, keepdims=keepdims)\n"
     ]
    }
   ],
   "source": [
    "c_med = get_change_in_medians_df(col, \"Colon\", c_del_wt, c_prot_list)"
   ]
  },
  {
   "cell_type": "code",
   "execution_count": 23,
   "metadata": {},
   "outputs": [
    {
     "name": "stdout",
     "output_type": "stream",
     "text": [
      "total_proteins_tested = 7739\n"
     ]
    },
    {
     "data": {
      "text/html": [
       "<div>\n",
       "<style scoped>\n",
       "    .dataframe tbody tr th:only-of-type {\n",
       "        vertical-align: middle;\n",
       "    }\n",
       "\n",
       "    .dataframe tbody tr th {\n",
       "        vertical-align: top;\n",
       "    }\n",
       "\n",
       "    .dataframe thead th {\n",
       "        text-align: right;\n",
       "    }\n",
       "</style>\n",
       "<table border=\"1\" class=\"dataframe\">\n",
       "  <thead>\n",
       "    <tr style=\"text-align: right;\">\n",
       "      <th></th>\n",
       "      <th>Proteomics</th>\n",
       "      <th>Colon_P_Value</th>\n",
       "      <th>Colon_Median</th>\n",
       "    </tr>\n",
       "  </thead>\n",
       "  <tbody>\n",
       "    <tr>\n",
       "      <th>0</th>\n",
       "      <td>DFFA_proteomics</td>\n",
       "      <td>0.000037</td>\n",
       "      <td>-0.19930</td>\n",
       "    </tr>\n",
       "    <tr>\n",
       "      <th>1</th>\n",
       "      <td>WAPL_proteomics</td>\n",
       "      <td>0.000097</td>\n",
       "      <td>-0.19605</td>\n",
       "    </tr>\n",
       "    <tr>\n",
       "      <th>2</th>\n",
       "      <td>SEC14L2_proteomics</td>\n",
       "      <td>0.000136</td>\n",
       "      <td>-0.66800</td>\n",
       "    </tr>\n",
       "    <tr>\n",
       "      <th>3</th>\n",
       "      <td>GBF1_proteomics</td>\n",
       "      <td>0.000164</td>\n",
       "      <td>-0.12630</td>\n",
       "    </tr>\n",
       "    <tr>\n",
       "      <th>4</th>\n",
       "      <td>STK11IP_proteomics</td>\n",
       "      <td>0.000239</td>\n",
       "      <td>-0.31250</td>\n",
       "    </tr>\n",
       "    <tr>\n",
       "      <th>...</th>\n",
       "      <td>...</td>\n",
       "      <td>...</td>\n",
       "      <td>...</td>\n",
       "    </tr>\n",
       "    <tr>\n",
       "      <th>7734</th>\n",
       "      <td>WWP1_proteomics</td>\n",
       "      <td>NaN</td>\n",
       "      <td>-0.12030</td>\n",
       "    </tr>\n",
       "    <tr>\n",
       "      <th>7735</th>\n",
       "      <td>ZBTB20_proteomics</td>\n",
       "      <td>NaN</td>\n",
       "      <td>0.52450</td>\n",
       "    </tr>\n",
       "    <tr>\n",
       "      <th>7736</th>\n",
       "      <td>ZCCHC9_proteomics</td>\n",
       "      <td>NaN</td>\n",
       "      <td>0.40600</td>\n",
       "    </tr>\n",
       "    <tr>\n",
       "      <th>7737</th>\n",
       "      <td>ZIC4_proteomics</td>\n",
       "      <td>NaN</td>\n",
       "      <td>0.00200</td>\n",
       "    </tr>\n",
       "    <tr>\n",
       "      <th>7738</th>\n",
       "      <td>ZNF397_proteomics</td>\n",
       "      <td>NaN</td>\n",
       "      <td>-0.43840</td>\n",
       "    </tr>\n",
       "  </tbody>\n",
       "</table>\n",
       "<p>7739 rows × 3 columns</p>\n",
       "</div>"
      ],
      "text/plain": [
       "              Proteomics  Colon_P_Value  Colon_Median\n",
       "0        DFFA_proteomics       0.000037      -0.19930\n",
       "1        WAPL_proteomics       0.000097      -0.19605\n",
       "2     SEC14L2_proteomics       0.000136      -0.66800\n",
       "3        GBF1_proteomics       0.000164      -0.12630\n",
       "4     STK11IP_proteomics       0.000239      -0.31250\n",
       "...                  ...            ...           ...\n",
       "7734     WWP1_proteomics            NaN      -0.12030\n",
       "7735   ZBTB20_proteomics            NaN       0.52450\n",
       "7736   ZCCHC9_proteomics            NaN       0.40600\n",
       "7737     ZIC4_proteomics            NaN       0.00200\n",
       "7738   ZNF397_proteomics            NaN      -0.43840\n",
       "\n",
       "[7739 rows x 3 columns]"
      ]
     },
     "execution_count": 23,
     "metadata": {},
     "output_type": "execute_result"
    }
   ],
   "source": [
    "c_merged = c_pval.merge(c_med, on='Proteomics',how='outer')\n",
    "print('total_proteins_tested =', len(c_cols))\n",
    "\n",
    "# Create csv\n",
    "c_merged.to_csv(root+R'\\colon_pval_medians.csv',index=False)\n",
    "c_merged"
   ]
  },
  {
   "cell_type": "markdown",
   "metadata": {},
   "source": [
    "# Hnscc"
   ]
  },
  {
   "cell_type": "code",
   "execution_count": 24,
   "metadata": {},
   "outputs": [
    {
     "name": "stderr",
     "output_type": "stream",
     "text": [
      "cptac warning: In joining the somatic_mutation table, no mutations were found for the following samples, so they were filled with Wildtype_Tumor or Wildtype_Normal: 109 samples for the PTEN gene (C:\\Users\\brittany henderson\\Anaconda3\\envs\\Research\\lib\\site-packages\\cptac\\dataset.py, line 313)\n",
      "cptac warning: CNV data was not found for the following samples, so CNV data columns were filled with NaN for these samples: C3L-02617, C3N-02727 (C:\\Users\\brittany henderson\\Anaconda3\\envs\\Research\\lib\\site-packages\\cptac\\dataset.py, line 313)\n",
      "cptac warning: In joining the somatic_mutation table, no mutations were found for the following samples, so they were filled with Wildtype_Tumor or Wildtype_Normal: 176 samples for the PTEN gene (C:\\Users\\brittany henderson\\Anaconda3\\envs\\Research\\lib\\site-packages\\ipykernel_launcher.py, line 11)\n"
     ]
    }
   ],
   "source": [
    "gene = 'PTEN'\n",
    "h_prot = h.get_proteomics()\n",
    "h_prot_list = list(h_prot.columns)\n",
    "\n",
    "h_del_wt = all_prot_format_df(h, h_prot_list)\n",
    "h_del_wt = h_del_wt.dropna(axis='columns', how='all')\n",
    "h_del_wt = h_del_wt.dropna(axis = 'columns',thresh = 10)"
   ]
  },
  {
   "cell_type": "code",
   "execution_count": 25,
   "metadata": {},
   "outputs": [
    {
     "name": "stderr",
     "output_type": "stream",
     "text": [
      "C:\\Users\\brittany henderson\\Anaconda3\\envs\\Research\\lib\\site-packages\\numpy\\core\\fromnumeric.py:3367: RuntimeWarning: Degrees of freedom <= 0 for slice\n",
      "  **kwargs)\n",
      "C:\\Users\\brittany henderson\\Anaconda3\\envs\\Research\\lib\\site-packages\\numpy\\core\\_methods.py:132: RuntimeWarning: invalid value encountered in double_scalars\n",
      "  ret = ret.dtype.type(ret / rcount)\n",
      "C:\\Users\\brittany henderson\\Anaconda3\\envs\\Research\\lib\\site-packages\\scipy\\stats\\_distn_infrastructure.py:877: RuntimeWarning: invalid value encountered in greater\n",
      "  return (self.a < x) & (x < self.b)\n",
      "C:\\Users\\brittany henderson\\Anaconda3\\envs\\Research\\lib\\site-packages\\scipy\\stats\\_distn_infrastructure.py:877: RuntimeWarning: invalid value encountered in less\n",
      "  return (self.a < x) & (x < self.b)\n",
      "C:\\Users\\brittany henderson\\Anaconda3\\envs\\Research\\lib\\site-packages\\scipy\\stats\\_distn_infrastructure.py:1831: RuntimeWarning: invalid value encountered in less_equal\n",
      "  cond2 = cond0 & (x <= self.a)\n",
      "C:\\Users\\brittany henderson\\Anaconda3\\envs\\Research\\lib\\site-packages\\statsmodels\\stats\\multitest.py:325: RuntimeWarning: invalid value encountered in less_equal\n",
      "  reject = pvals_sorted <= ecdffactor*alpha\n",
      "C:\\Users\\brittany henderson\\Anaconda3\\envs\\Research\\lib\\site-packages\\statsmodels\\stats\\multitest.py:333: RuntimeWarning: invalid value encountered in greater\n",
      "  pvals_corrected[pvals_corrected>1] = 1\n",
      "C:\\Users\\brittany henderson\\Anaconda3\\envs\\Research\\lib\\site-packages\\statsmodels\\stats\\multitest.py:256: RuntimeWarning: invalid value encountered in greater\n",
      "  pvals_corrected[pvals_corrected>1] = 1\n"
     ]
    },
    {
     "name": "stdout",
     "output_type": "stream",
     "text": [
      "significant pvals: \n",
      "             Comparison       P_Value\n",
      "0       NLN_proteomics  1.113430e-09\n",
      "1    AKR1C3_proteomics  1.032977e-08\n",
      "2    AKR1C1_proteomics  6.931627e-08\n",
      "3      ADI1_proteomics  1.601880e-07\n",
      "4     EPHX1_proteomics  3.899394e-07\n",
      "..                 ...           ...\n",
      "528   HIP1R_proteomics  2.294252e-03\n",
      "529    GCSH_proteomics  2.294435e-03\n",
      "530   DHCR7_proteomics  2.307549e-03\n",
      "531    POGZ_proteomics  2.311247e-03\n",
      "532   TRAF1_proteomics  2.340517e-03\n",
      "\n",
      "[533 rows x 2 columns]\n"
     ]
    },
    {
     "name": "stderr",
     "output_type": "stream",
     "text": [
      "C:\\Users\\brittany henderson\\Anaconda3\\envs\\Research\\lib\\site-packages\\numpy\\core\\fromnumeric.py:3367: RuntimeWarning: Degrees of freedom <= 0 for slice\n",
      "  **kwargs)\n",
      "C:\\Users\\brittany henderson\\Anaconda3\\envs\\Research\\lib\\site-packages\\numpy\\core\\_methods.py:132: RuntimeWarning: invalid value encountered in double_scalars\n",
      "  ret = ret.dtype.type(ret / rcount)\n",
      "C:\\Users\\brittany henderson\\Anaconda3\\envs\\Research\\lib\\site-packages\\scipy\\stats\\_distn_infrastructure.py:877: RuntimeWarning: invalid value encountered in greater\n",
      "  return (self.a < x) & (x < self.b)\n",
      "C:\\Users\\brittany henderson\\Anaconda3\\envs\\Research\\lib\\site-packages\\scipy\\stats\\_distn_infrastructure.py:877: RuntimeWarning: invalid value encountered in less\n",
      "  return (self.a < x) & (x < self.b)\n",
      "C:\\Users\\brittany henderson\\Anaconda3\\envs\\Research\\lib\\site-packages\\scipy\\stats\\_distn_infrastructure.py:1831: RuntimeWarning: invalid value encountered in less_equal\n",
      "  cond2 = cond0 & (x <= self.a)\n",
      "C:\\Users\\brittany henderson\\Anaconda3\\envs\\Research\\lib\\site-packages\\statsmodels\\stats\\multitest.py:325: RuntimeWarning: invalid value encountered in less_equal\n",
      "  reject = pvals_sorted <= ecdffactor*alpha\n",
      "C:\\Users\\brittany henderson\\Anaconda3\\envs\\Research\\lib\\site-packages\\statsmodels\\stats\\multitest.py:333: RuntimeWarning: invalid value encountered in greater\n",
      "  pvals_corrected[pvals_corrected>1] = 1\n",
      "C:\\Users\\brittany henderson\\Anaconda3\\envs\\Research\\lib\\site-packages\\statsmodels\\stats\\multitest.py:256: RuntimeWarning: invalid value encountered in greater\n",
      "  pvals_corrected[pvals_corrected>1] = 1\n"
     ]
    }
   ],
   "source": [
    "h_cols = list(h_del_wt.columns[:-1])\n",
    "\n",
    "# Get only sig sites\n",
    "h_sig = u.wrap_ttest(h_del_wt, 'Mutation', h_cols, correction_method = 'fdr_bh')\n",
    "if h_sig is not None:\n",
    "    h_sig_list = list(h_sig.Comparison)\n",
    "else: \n",
    "    h_sig_list = None\n",
    "print('significant pvals: \\n',h_sig)\n",
    "\n",
    "# Get all pvals\n",
    "h_pval = u.wrap_ttest(h_del_wt, 'Mutation', h_cols, return_all = True, correction_method = 'fdr_bh')\n",
    "h_pval = h_pval.rename(columns = {'Comparison': 'Proteomics','P_Value': 'Hnscc_P_Value'})"
   ]
  },
  {
   "cell_type": "code",
   "execution_count": 26,
   "metadata": {},
   "outputs": [
    {
     "name": "stderr",
     "output_type": "stream",
     "text": [
      "C:\\Users\\brittany henderson\\Anaconda3\\envs\\Research\\lib\\site-packages\\numpy\\lib\\nanfunctions.py:1076: RuntimeWarning: Mean of empty slice\n",
      "  return np.nanmean(a, axis, out=out, keepdims=keepdims)\n"
     ]
    }
   ],
   "source": [
    "h_med = get_change_in_medians_df(h, \"Hnscc\", h_del_wt, h_prot_list)"
   ]
  },
  {
   "cell_type": "code",
   "execution_count": 27,
   "metadata": {},
   "outputs": [
    {
     "name": "stdout",
     "output_type": "stream",
     "text": [
      "total_proteins_tested = 11325\n"
     ]
    },
    {
     "data": {
      "text/html": [
       "<div>\n",
       "<style scoped>\n",
       "    .dataframe tbody tr th:only-of-type {\n",
       "        vertical-align: middle;\n",
       "    }\n",
       "\n",
       "    .dataframe tbody tr th {\n",
       "        vertical-align: top;\n",
       "    }\n",
       "\n",
       "    .dataframe thead th {\n",
       "        text-align: right;\n",
       "    }\n",
       "</style>\n",
       "<table border=\"1\" class=\"dataframe\">\n",
       "  <thead>\n",
       "    <tr style=\"text-align: right;\">\n",
       "      <th></th>\n",
       "      <th>Proteomics</th>\n",
       "      <th>Hnscc_P_Value</th>\n",
       "      <th>Hnscc_Median</th>\n",
       "    </tr>\n",
       "  </thead>\n",
       "  <tbody>\n",
       "    <tr>\n",
       "      <th>0</th>\n",
       "      <td>NLN_proteomics</td>\n",
       "      <td>1.113430e-09</td>\n",
       "      <td>0.431666</td>\n",
       "    </tr>\n",
       "    <tr>\n",
       "      <th>1</th>\n",
       "      <td>AKR1C3_proteomics</td>\n",
       "      <td>1.032977e-08</td>\n",
       "      <td>0.951905</td>\n",
       "    </tr>\n",
       "    <tr>\n",
       "      <th>2</th>\n",
       "      <td>AKR1C1_proteomics</td>\n",
       "      <td>6.931627e-08</td>\n",
       "      <td>1.961262</td>\n",
       "    </tr>\n",
       "    <tr>\n",
       "      <th>3</th>\n",
       "      <td>ADI1_proteomics</td>\n",
       "      <td>1.601880e-07</td>\n",
       "      <td>0.513198</td>\n",
       "    </tr>\n",
       "    <tr>\n",
       "      <th>4</th>\n",
       "      <td>EPHX1_proteomics</td>\n",
       "      <td>3.899394e-07</td>\n",
       "      <td>0.871688</td>\n",
       "    </tr>\n",
       "    <tr>\n",
       "      <th>...</th>\n",
       "      <td>...</td>\n",
       "      <td>...</td>\n",
       "      <td>...</td>\n",
       "    </tr>\n",
       "    <tr>\n",
       "      <th>11320</th>\n",
       "      <td>ZNF180_proteomics</td>\n",
       "      <td>NaN</td>\n",
       "      <td>-0.897906</td>\n",
       "    </tr>\n",
       "    <tr>\n",
       "      <th>11321</th>\n",
       "      <td>ZNF213_proteomics</td>\n",
       "      <td>NaN</td>\n",
       "      <td>0.420543</td>\n",
       "    </tr>\n",
       "    <tr>\n",
       "      <th>11322</th>\n",
       "      <td>ZNF507_proteomics</td>\n",
       "      <td>NaN</td>\n",
       "      <td>0.322312</td>\n",
       "    </tr>\n",
       "    <tr>\n",
       "      <th>11323</th>\n",
       "      <td>ZNF611_proteomics</td>\n",
       "      <td>NaN</td>\n",
       "      <td>0.291550</td>\n",
       "    </tr>\n",
       "    <tr>\n",
       "      <th>11324</th>\n",
       "      <td>ZNF862_proteomics</td>\n",
       "      <td>NaN</td>\n",
       "      <td>NaN</td>\n",
       "    </tr>\n",
       "  </tbody>\n",
       "</table>\n",
       "<p>11325 rows × 3 columns</p>\n",
       "</div>"
      ],
      "text/plain": [
       "              Proteomics  Hnscc_P_Value  Hnscc_Median\n",
       "0         NLN_proteomics   1.113430e-09      0.431666\n",
       "1      AKR1C3_proteomics   1.032977e-08      0.951905\n",
       "2      AKR1C1_proteomics   6.931627e-08      1.961262\n",
       "3        ADI1_proteomics   1.601880e-07      0.513198\n",
       "4       EPHX1_proteomics   3.899394e-07      0.871688\n",
       "...                  ...            ...           ...\n",
       "11320  ZNF180_proteomics            NaN     -0.897906\n",
       "11321  ZNF213_proteomics            NaN      0.420543\n",
       "11322  ZNF507_proteomics            NaN      0.322312\n",
       "11323  ZNF611_proteomics            NaN      0.291550\n",
       "11324  ZNF862_proteomics            NaN           NaN\n",
       "\n",
       "[11325 rows x 3 columns]"
      ]
     },
     "execution_count": 27,
     "metadata": {},
     "output_type": "execute_result"
    }
   ],
   "source": [
    "h_merged = h_pval.merge(h_med, on='Proteomics',how='outer')\n",
    "print('total_proteins_tested =', len(h_cols))\n",
    "\n",
    "# Create csv\n",
    "h_merged.to_csv(root+R'\\hnscc_pval_medians.csv',index=False)\n",
    "h_merged"
   ]
  },
  {
   "cell_type": "markdown",
   "metadata": {},
   "source": [
    "# Luad"
   ]
  },
  {
   "cell_type": "code",
   "execution_count": 28,
   "metadata": {},
   "outputs": [
    {
     "name": "stderr",
     "output_type": "stream",
     "text": [
      "cptac warning: Due to dropping the specified levels, dataframe now has 745 duplicated column headers. (C:\\Users\\brittany henderson\\Anaconda3\\envs\\Research\\lib\\site-packages\\ipykernel_launcher.py, line 3)\n",
      "cptac warning: CNV data was not found for the following samples, so CNV data columns were filled with NaN for these samples: C3L-00001.N, C3L-00009.N, C3L-00080.N, C3L-00083.N, C3L-00093.N, C3L-00094.N, C3L-00095.N, C3L-00140.N, C3L-00144.N, C3L-00263.N, C3L-00279.N, C3L-00368.N, C3L-00412.N, C3L-00422.N, C3L-00510.N, C3L-00604.N, C3L-00893.N, C3L-00913.N, C3L-00973.N, C3L-01330.N, C3L-01632.N, C3L-01682.N, C3L-01683.N, C3L-01889.N, C3L-01890, C3L-01890.N, C3L-01924.N, C3L-02219.N, C3L-02345.N, C3L-02348.N, C3L-02350.N, C3L-02365.N, C3L-02508.N, C3L-02549.N, C3N-00167.N, C3N-00169.N, C3N-00175.N, C3N-00180.N, C3N-00199.N, C3N-00203.N, C3N-00217.N, C3N-00223.N, C3N-00293.N, C3N-00433.N, C3N-00546.N, C3N-00547.N, C3N-00549.N, C3N-00550.N, C3N-00551.N, C3N-00552.N, C3N-00556.N, C3N-00559.N, C3N-00560.N, C3N-00572.N, C3N-00574.N, C3N-00578.N, C3N-00579.N, C3N-00580.N, C3N-00704.N, C3N-00737.N, C3N-00738.N, C3N-00959.N, C3N-01016.N, C3N-01021.N, C3N-01023.N, C3N-01024.N, C3N-01030.N, C3N-01071.N, C3N-01072.N, C3N-01405.N, C3N-01410.N, C3N-01413.N, C3N-01414.N, C3N-01415.N, C3N-01416.N, C3N-01488.N, C3N-01489.N, C3N-01799.N, C3N-01823.N, C3N-02000.N, C3N-02002.N, C3N-02003.N, C3N-02067.N, C3N-02087.N, C3N-02089.N, C3N-02145.N, C3N-02149.N, C3N-02155.N, C3N-02158.N, C3N-02379.N, C3N-02380.N, C3N-02421.N, C3N-02423.N, C3N-02424.N, C3N-02433.N, C3N-02529.N, C3N-02572.N, C3N-02582.N, C3N-02586.N, C3N-02587.N, C3N-02588.N, C3N-02729.N (C:\\Users\\brittany henderson\\Anaconda3\\envs\\Research\\lib\\site-packages\\ipykernel_launcher.py, line 34)\n",
      "cptac warning: Due to dropping the specified levels, dataframe now has 745 duplicated column headers. (C:\\Users\\brittany henderson\\Anaconda3\\envs\\Research\\lib\\site-packages\\ipykernel_launcher.py, line 35)\n",
      "cptac warning: You tried to flatten a column index that didn't have multiple levels, so we didn't actually change anything. (C:\\Users\\brittany henderson\\Anaconda3\\envs\\Research\\lib\\site-packages\\ipykernel_launcher.py, line 35)\n",
      "C:\\Users\\brittany henderson\\Anaconda3\\envs\\Research\\lib\\site-packages\\ipykernel_launcher.py:49: SettingWithCopyWarning: \n",
      "A value is trying to be set on a copy of a slice from a DataFrame.\n",
      "Try using .loc[row_indexer,col_indexer] = value instead\n",
      "\n",
      "See the caveats in the documentation: https://pandas.pydata.org/pandas-docs/stable/user_guide/indexing.html#returning-a-view-versus-a-copy\n"
     ]
    }
   ],
   "source": [
    "gene = 'PTEN'\n",
    "l_prot = l.get_proteomics()\n",
    "l_prot = u.reduce_multiindex(l_prot, levels_to_drop = 1)\n",
    "l_prot_list = list(l_prot.columns)\n",
    "\n",
    "l_del_wt = all_prot_format_df(l, l_prot_list)\n",
    "l_del_wt = l_del_wt.dropna(axis='columns', thresh=10)"
   ]
  },
  {
   "cell_type": "code",
   "execution_count": 29,
   "metadata": {},
   "outputs": [],
   "source": [
    "# Differentiate duplicate column names\n",
    "cols = pd.Series(l_del_wt.columns[:])\n",
    "\n",
    "for dup in cols[cols.duplicated()].unique(): \n",
    "    cols[cols[cols == dup].index.values.tolist()] = [dup + '_' + str(i) if i != 0 else dup for i in range(sum(cols == dup))]\n",
    "\n",
    "# rename the columns with the cols list.\n",
    "l_del_wt.columns=cols"
   ]
  },
  {
   "cell_type": "code",
   "execution_count": 30,
   "metadata": {},
   "outputs": [
    {
     "name": "stderr",
     "output_type": "stream",
     "text": [
      "C:\\Users\\brittany henderson\\Anaconda3\\envs\\Research\\lib\\site-packages\\numpy\\core\\fromnumeric.py:3367: RuntimeWarning: Degrees of freedom <= 0 for slice\n",
      "  **kwargs)\n",
      "C:\\Users\\brittany henderson\\Anaconda3\\envs\\Research\\lib\\site-packages\\numpy\\core\\_methods.py:132: RuntimeWarning: invalid value encountered in double_scalars\n",
      "  ret = ret.dtype.type(ret / rcount)\n",
      "C:\\Users\\brittany henderson\\Anaconda3\\envs\\Research\\lib\\site-packages\\scipy\\stats\\_distn_infrastructure.py:877: RuntimeWarning: invalid value encountered in greater\n",
      "  return (self.a < x) & (x < self.b)\n",
      "C:\\Users\\brittany henderson\\Anaconda3\\envs\\Research\\lib\\site-packages\\scipy\\stats\\_distn_infrastructure.py:877: RuntimeWarning: invalid value encountered in less\n",
      "  return (self.a < x) & (x < self.b)\n",
      "C:\\Users\\brittany henderson\\Anaconda3\\envs\\Research\\lib\\site-packages\\scipy\\stats\\_distn_infrastructure.py:1831: RuntimeWarning: invalid value encountered in less_equal\n",
      "  cond2 = cond0 & (x <= self.a)\n",
      "C:\\Users\\brittany henderson\\Anaconda3\\envs\\Research\\lib\\site-packages\\statsmodels\\stats\\multitest.py:325: RuntimeWarning: invalid value encountered in less_equal\n",
      "  reject = pvals_sorted <= ecdffactor*alpha\n",
      "C:\\Users\\brittany henderson\\Anaconda3\\envs\\Research\\lib\\site-packages\\statsmodels\\stats\\multitest.py:333: RuntimeWarning: invalid value encountered in greater\n",
      "  pvals_corrected[pvals_corrected>1] = 1\n",
      "C:\\Users\\brittany henderson\\Anaconda3\\envs\\Research\\lib\\site-packages\\statsmodels\\stats\\multitest.py:256: RuntimeWarning: invalid value encountered in greater\n",
      "  pvals_corrected[pvals_corrected>1] = 1\n"
     ]
    },
    {
     "name": "stdout",
     "output_type": "stream",
     "text": [
      "significant pvals: \n",
      "               Comparison       P_Value\n",
      "0        ATE1_proteomics  2.851800e-07\n",
      "1       SHOC2_proteomics  6.424816e-07\n",
      "2        EGFR_proteomics  9.121167e-07\n",
      "3      LANCL2_proteomics  1.742749e-06\n",
      "4        GGCT_proteomics  2.854181e-06\n",
      "..                   ...           ...\n",
      "106    FERMT3_proteomics  4.804371e-04\n",
      "107  ARHGAP15_proteomics  4.875693e-04\n",
      "108    CRYBG2_proteomics  5.063478e-04\n",
      "109     GNAI2_proteomics  5.076782e-04\n",
      "110     CIAO1_proteomics  5.181887e-04\n",
      "\n",
      "[111 rows x 2 columns]\n"
     ]
    },
    {
     "name": "stderr",
     "output_type": "stream",
     "text": [
      "C:\\Users\\brittany henderson\\Anaconda3\\envs\\Research\\lib\\site-packages\\numpy\\core\\fromnumeric.py:3367: RuntimeWarning: Degrees of freedom <= 0 for slice\n",
      "  **kwargs)\n",
      "C:\\Users\\brittany henderson\\Anaconda3\\envs\\Research\\lib\\site-packages\\numpy\\core\\_methods.py:132: RuntimeWarning: invalid value encountered in double_scalars\n",
      "  ret = ret.dtype.type(ret / rcount)\n",
      "C:\\Users\\brittany henderson\\Anaconda3\\envs\\Research\\lib\\site-packages\\scipy\\stats\\_distn_infrastructure.py:877: RuntimeWarning: invalid value encountered in greater\n",
      "  return (self.a < x) & (x < self.b)\n",
      "C:\\Users\\brittany henderson\\Anaconda3\\envs\\Research\\lib\\site-packages\\scipy\\stats\\_distn_infrastructure.py:877: RuntimeWarning: invalid value encountered in less\n",
      "  return (self.a < x) & (x < self.b)\n",
      "C:\\Users\\brittany henderson\\Anaconda3\\envs\\Research\\lib\\site-packages\\scipy\\stats\\_distn_infrastructure.py:1831: RuntimeWarning: invalid value encountered in less_equal\n",
      "  cond2 = cond0 & (x <= self.a)\n",
      "C:\\Users\\brittany henderson\\Anaconda3\\envs\\Research\\lib\\site-packages\\statsmodels\\stats\\multitest.py:325: RuntimeWarning: invalid value encountered in less_equal\n",
      "  reject = pvals_sorted <= ecdffactor*alpha\n",
      "C:\\Users\\brittany henderson\\Anaconda3\\envs\\Research\\lib\\site-packages\\statsmodels\\stats\\multitest.py:333: RuntimeWarning: invalid value encountered in greater\n",
      "  pvals_corrected[pvals_corrected>1] = 1\n",
      "C:\\Users\\brittany henderson\\Anaconda3\\envs\\Research\\lib\\site-packages\\statsmodels\\stats\\multitest.py:256: RuntimeWarning: invalid value encountered in greater\n",
      "  pvals_corrected[pvals_corrected>1] = 1\n"
     ]
    }
   ],
   "source": [
    "l_cols = list(l_del_wt.columns[:-2])\n",
    "\n",
    "# Get only sig sites\n",
    "l_sig = u.wrap_ttest(l_del_wt, 'Mutation', l_cols, correction_method = 'fdr_bh')\n",
    "if l_sig is not None:\n",
    "    l_sig_list = list(l_sig.Comparison)\n",
    "else: \n",
    "    l_sig_list = None\n",
    "print('significant pvals: \\n',l_sig)\n",
    "\n",
    "# Get all pvals\n",
    "l_pval = u.wrap_ttest(l_del_wt, 'Mutation', l_cols, return_all = True, correction_method = 'fdr_bh')\n",
    "l_pval = l_pval.rename(columns = {'Comparison': 'Proteomics','P_Value': 'Luad_P_Value'})"
   ]
  },
  {
   "cell_type": "code",
   "execution_count": 31,
   "metadata": {},
   "outputs": [],
   "source": [
    "l_med = get_change_in_medians_df(l, \"Luad\", l_del_wt, l_prot_list)"
   ]
  },
  {
   "cell_type": "code",
   "execution_count": 32,
   "metadata": {},
   "outputs": [
    {
     "name": "stdout",
     "output_type": "stream",
     "text": [
      "total_proteins_tested = 10698\n"
     ]
    },
    {
     "data": {
      "text/html": [
       "<div>\n",
       "<style scoped>\n",
       "    .dataframe tbody tr th:only-of-type {\n",
       "        vertical-align: middle;\n",
       "    }\n",
       "\n",
       "    .dataframe tbody tr th {\n",
       "        vertical-align: top;\n",
       "    }\n",
       "\n",
       "    .dataframe thead th {\n",
       "        text-align: right;\n",
       "    }\n",
       "</style>\n",
       "<table border=\"1\" class=\"dataframe\">\n",
       "  <thead>\n",
       "    <tr style=\"text-align: right;\">\n",
       "      <th></th>\n",
       "      <th>Proteomics</th>\n",
       "      <th>Luad_P_Value</th>\n",
       "      <th>Luad_Median</th>\n",
       "    </tr>\n",
       "  </thead>\n",
       "  <tbody>\n",
       "    <tr>\n",
       "      <th>0</th>\n",
       "      <td>ATE1_proteomics</td>\n",
       "      <td>2.851800e-07</td>\n",
       "      <td>-0.88365</td>\n",
       "    </tr>\n",
       "    <tr>\n",
       "      <th>1</th>\n",
       "      <td>SHOC2_proteomics</td>\n",
       "      <td>6.424816e-07</td>\n",
       "      <td>-0.60600</td>\n",
       "    </tr>\n",
       "    <tr>\n",
       "      <th>2</th>\n",
       "      <td>EGFR_proteomics</td>\n",
       "      <td>9.121167e-07</td>\n",
       "      <td>2.32970</td>\n",
       "    </tr>\n",
       "    <tr>\n",
       "      <th>3</th>\n",
       "      <td>LANCL2_proteomics</td>\n",
       "      <td>1.742749e-06</td>\n",
       "      <td>1.21475</td>\n",
       "    </tr>\n",
       "    <tr>\n",
       "      <th>4</th>\n",
       "      <td>GGCT_proteomics</td>\n",
       "      <td>2.854181e-06</td>\n",
       "      <td>2.12715</td>\n",
       "    </tr>\n",
       "  </tbody>\n",
       "</table>\n",
       "</div>"
      ],
      "text/plain": [
       "          Proteomics  Luad_P_Value  Luad_Median\n",
       "0    ATE1_proteomics  2.851800e-07     -0.88365\n",
       "1   SHOC2_proteomics  6.424816e-07     -0.60600\n",
       "2    EGFR_proteomics  9.121167e-07      2.32970\n",
       "3  LANCL2_proteomics  1.742749e-06      1.21475\n",
       "4    GGCT_proteomics  2.854181e-06      2.12715"
      ]
     },
     "execution_count": 32,
     "metadata": {},
     "output_type": "execute_result"
    }
   ],
   "source": [
    "l_merged = l_pval.merge(l_med, on='Proteomics',how='outer')\n",
    "print('total_proteins_tested =', len(l_cols))\n",
    "\n",
    "# Create csv\n",
    "l_merged.to_csv(root+R'\\luad_pval_medians.csv',index=False)\n",
    "l_merged.head()"
   ]
  },
  {
   "cell_type": "markdown",
   "metadata": {},
   "source": [
    "# Lscc"
   ]
  },
  {
   "cell_type": "code",
   "execution_count": 33,
   "metadata": {},
   "outputs": [
    {
     "name": "stderr",
     "output_type": "stream",
     "text": [
      "cptac warning: Due to dropping the specified levels, dataframe now has 858 duplicated column headers. (C:\\Users\\brittany henderson\\Anaconda3\\envs\\Research\\lib\\site-packages\\ipykernel_launcher.py, line 3)\n",
      "cptac warning: In joining the somatic_mutation table, no mutations were found for the following samples, so they were filled with Wildtype_Tumor or Wildtype_Normal: 96 samples for the PTEN gene (C:\\Users\\brittany henderson\\Anaconda3\\envs\\Research\\lib\\site-packages\\cptac\\dataset.py, line 313)\n",
      "cptac warning: In joining the somatic_mutation table, no mutations were found for the following samples, so they were filled with Wildtype_Tumor or Wildtype_Normal: 195 samples for the PTEN gene (C:\\Users\\brittany henderson\\Anaconda3\\envs\\Research\\lib\\site-packages\\ipykernel_launcher.py, line 11)\n",
      "cptac warning: Due to dropping the specified levels, dataframe now has 858 duplicated column headers. (C:\\Users\\brittany henderson\\Anaconda3\\envs\\Research\\lib\\site-packages\\ipykernel_launcher.py, line 14)\n"
     ]
    }
   ],
   "source": [
    "gene = 'PTEN'\n",
    "ls_prot = ls.get_proteomics()\n",
    "ls_prot = u.reduce_multiindex(ls_prot, levels_to_drop = 1)\n",
    "ls_prot_list = list(ls_prot.columns)\n",
    "\n",
    "ls_del_wt = all_prot_format_df(ls, ls_prot_list)\n",
    "ls_del_wt = ls_del_wt.dropna(axis='columns', thresh=10)"
   ]
  },
  {
   "cell_type": "code",
   "execution_count": 34,
   "metadata": {},
   "outputs": [],
   "source": [
    "# Differentiate duplicate column names\n",
    "cols = pd.Series(ls_del_wt.columns[:])\n",
    "\n",
    "for dup in cols[cols.duplicated()].unique(): \n",
    "    cols[cols[cols == dup].index.values.tolist()] = [dup + '_' + str(i) if i != 0 else dup for i in range(sum(cols == dup))]\n",
    "\n",
    "# rename the columns with the cols list.\n",
    "ls_del_wt.columns=cols"
   ]
  },
  {
   "cell_type": "code",
   "execution_count": 35,
   "metadata": {},
   "outputs": [
    {
     "name": "stdout",
     "output_type": "stream",
     "text": [
      "significant pvals: \n",
      "           Comparison       P_Value\n",
      "0   ATAD1_proteomics  5.610837e-10\n",
      "1   BTAF1_proteomics  1.962971e-07\n",
      "2  VPS26A_proteomics  1.220741e-05\n",
      "3    PTEN_proteomics  1.473964e-05\n"
     ]
    }
   ],
   "source": [
    "ls_cols = list(ls_del_wt.columns[:-2])\n",
    "\n",
    "# Get only sig sites\n",
    "ls_sig = u.wrap_ttest(ls_del_wt, 'Mutation', ls_cols, correction_method = 'fdr_bh')\n",
    "if ls_sig is not None:\n",
    "    ls_sig_list = list(ls_sig.Comparison)\n",
    "else: \n",
    "    ls_sig_list = None\n",
    "print('significant pvals: \\n', ls_sig)\n",
    "\n",
    "# Get all pvals\n",
    "ls_pval = u.wrap_ttest(ls_del_wt, 'Mutation', ls_cols, return_all = True, correction_method = 'fdr_bh')\n",
    "ls_pval = ls_pval.rename(columns = {'Comparison': 'Proteomics','P_Value': 'Lscc_P_Value'})"
   ]
  },
  {
   "cell_type": "code",
   "execution_count": 36,
   "metadata": {},
   "outputs": [],
   "source": [
    "ls_med = get_change_in_medians_df(ls, \"Lscc\", ls_del_wt, ls_prot_list)"
   ]
  },
  {
   "cell_type": "code",
   "execution_count": 37,
   "metadata": {},
   "outputs": [
    {
     "name": "stdout",
     "output_type": "stream",
     "text": [
      "total_proteins_tested = 11574\n"
     ]
    },
    {
     "data": {
      "text/html": [
       "<div>\n",
       "<style scoped>\n",
       "    .dataframe tbody tr th:only-of-type {\n",
       "        vertical-align: middle;\n",
       "    }\n",
       "\n",
       "    .dataframe tbody tr th {\n",
       "        vertical-align: top;\n",
       "    }\n",
       "\n",
       "    .dataframe thead th {\n",
       "        text-align: right;\n",
       "    }\n",
       "</style>\n",
       "<table border=\"1\" class=\"dataframe\">\n",
       "  <thead>\n",
       "    <tr style=\"text-align: right;\">\n",
       "      <th></th>\n",
       "      <th>Proteomics</th>\n",
       "      <th>Lscc_P_Value</th>\n",
       "      <th>Lscc_Median</th>\n",
       "    </tr>\n",
       "  </thead>\n",
       "  <tbody>\n",
       "    <tr>\n",
       "      <th>0</th>\n",
       "      <td>ATAD1_proteomics</td>\n",
       "      <td>5.610837e-10</td>\n",
       "      <td>-1.34185</td>\n",
       "    </tr>\n",
       "    <tr>\n",
       "      <th>1</th>\n",
       "      <td>BTAF1_proteomics</td>\n",
       "      <td>1.962971e-07</td>\n",
       "      <td>-0.59625</td>\n",
       "    </tr>\n",
       "    <tr>\n",
       "      <th>2</th>\n",
       "      <td>VPS26A_proteomics</td>\n",
       "      <td>1.220741e-05</td>\n",
       "      <td>-0.45300</td>\n",
       "    </tr>\n",
       "    <tr>\n",
       "      <th>3</th>\n",
       "      <td>PTEN_proteomics</td>\n",
       "      <td>1.473964e-05</td>\n",
       "      <td>-0.57975</td>\n",
       "    </tr>\n",
       "    <tr>\n",
       "      <th>4</th>\n",
       "      <td>KIF20B_proteomics</td>\n",
       "      <td>2.233989e-05</td>\n",
       "      <td>-1.13105</td>\n",
       "    </tr>\n",
       "  </tbody>\n",
       "</table>\n",
       "</div>"
      ],
      "text/plain": [
       "          Proteomics  Lscc_P_Value  Lscc_Median\n",
       "0   ATAD1_proteomics  5.610837e-10     -1.34185\n",
       "1   BTAF1_proteomics  1.962971e-07     -0.59625\n",
       "2  VPS26A_proteomics  1.220741e-05     -0.45300\n",
       "3    PTEN_proteomics  1.473964e-05     -0.57975\n",
       "4  KIF20B_proteomics  2.233989e-05     -1.13105"
      ]
     },
     "execution_count": 37,
     "metadata": {},
     "output_type": "execute_result"
    }
   ],
   "source": [
    "ls_merged = ls_pval.merge(ls_med, on='Proteomics',how='outer')\n",
    "print('total_proteins_tested =', len(ls_cols))\n",
    "\n",
    "# Create csv\n",
    "ls_merged.to_csv(root+R'\\lscc_pval_medians.csv',index=False)\n",
    "ls_merged.head()"
   ]
  },
  {
   "cell_type": "markdown",
   "metadata": {},
   "source": [
    "# Endometrial"
   ]
  },
  {
   "cell_type": "markdown",
   "metadata": {},
   "source": [
    "The Endometrial data set does not have enough cnv deletions to perform a t-test, however the data set does have enough truncation type mutations (nonsense and frame shifts). Different code is needed to create the data frame for Endometrial."
   ]
  },
  {
   "cell_type": "code",
   "execution_count": 38,
   "metadata": {},
   "outputs": [
    {
     "name": "stderr",
     "output_type": "stream",
     "text": [
      "cptac warning: In joining the somatic_mutation table, no mutations were found for the following samples, so they were filled with Wildtype_Tumor or Wildtype_Normal: 20 samples for the PTEN gene (C:\\Users\\brittany henderson\\Anaconda3\\envs\\Research\\lib\\site-packages\\cptac\\dataset.py, line 313)\n",
      "cptac warning: In joining the somatic_mutation table, no mutations were found for the following samples, so they were filled with Wildtype_Tumor or Wildtype_Normal: 69 samples for the PTEN gene (C:\\Users\\brittany henderson\\Anaconda3\\envs\\Research\\lib\\site-packages\\ipykernel_launcher.py, line 9)\n",
      "C:\\Users\\brittany henderson\\Anaconda3\\envs\\Research\\lib\\site-packages\\ipykernel_launcher.py:20: SettingWithCopyWarning: \n",
      "A value is trying to be set on a copy of a slice from a DataFrame.\n",
      "Try using .loc[row_indexer,col_indexer] = value instead\n",
      "\n",
      "See the caveats in the documentation: https://pandas.pydata.org/pandas-docs/stable/user_guide/indexing.html#returning-a-view-versus-a-copy\n"
     ]
    }
   ],
   "source": [
    "gene = 'PTEN'\n",
    "prot = en.get_proteomics()\n",
    "e_prot_list = list(prot.columns)\n",
    "\n",
    "mut_type = en.get_genotype_all_vars(gene)\n",
    "\n",
    "# merge cnv with genotype all mut type\n",
    "prot_and_mutations = en.join_omics_to_mutations(\n",
    "    mutations_genes = [gene], omics_df_name = 'proteomics', omics_genes = e_prot_list)\n",
    "prot_and_mutations = prot_and_mutations[prot_and_mutations.Sample_Status == \"Tumor\"] # drop Normal samples\n",
    "ip_df = prot_and_mutations.iloc[:,:-4] #drop mutation, location cols\n",
    "mut_type = mut_type[['Mutation']] \n",
    "merged = ip_df.join(mut_type) # merge mutation col from function (includes cnv)\n",
    "\n",
    "# Keep two values to compare\n",
    "compare = ['Wildtype_Tumor','Nonsense_Mutation','Frame_Shift_Ins','Frame_Shift_Del']\n",
    "get = merged['Mutation'].isin(compare)\n",
    "trunc_wt = merged[get]\n",
    "trunc_wt['Mutation'] = np.where(\n",
    "                trunc_wt['Mutation'] == 'Wildtype_Tumor', 'Wildtype_Tumor', 'Truncation')\n",
    "trunc_wt = trunc_wt.dropna(axis = 'columns',thresh = 10)"
   ]
  },
  {
   "cell_type": "code",
   "execution_count": 39,
   "metadata": {},
   "outputs": [
    {
     "name": "stderr",
     "output_type": "stream",
     "text": [
      "C:\\Users\\brittany henderson\\Anaconda3\\envs\\Research\\lib\\site-packages\\numpy\\core\\fromnumeric.py:3367: RuntimeWarning: Degrees of freedom <= 0 for slice\n",
      "  **kwargs)\n",
      "C:\\Users\\brittany henderson\\Anaconda3\\envs\\Research\\lib\\site-packages\\numpy\\core\\_methods.py:132: RuntimeWarning: invalid value encountered in double_scalars\n",
      "  ret = ret.dtype.type(ret / rcount)\n",
      "C:\\Users\\brittany henderson\\Anaconda3\\envs\\Research\\lib\\site-packages\\scipy\\stats\\_distn_infrastructure.py:877: RuntimeWarning: invalid value encountered in greater\n",
      "  return (self.a < x) & (x < self.b)\n",
      "C:\\Users\\brittany henderson\\Anaconda3\\envs\\Research\\lib\\site-packages\\scipy\\stats\\_distn_infrastructure.py:877: RuntimeWarning: invalid value encountered in less\n",
      "  return (self.a < x) & (x < self.b)\n",
      "C:\\Users\\brittany henderson\\Anaconda3\\envs\\Research\\lib\\site-packages\\scipy\\stats\\_distn_infrastructure.py:1831: RuntimeWarning: invalid value encountered in less_equal\n",
      "  cond2 = cond0 & (x <= self.a)\n",
      "C:\\Users\\brittany henderson\\Anaconda3\\envs\\Research\\lib\\site-packages\\statsmodels\\stats\\multitest.py:325: RuntimeWarning: invalid value encountered in less_equal\n",
      "  reject = pvals_sorted <= ecdffactor*alpha\n",
      "C:\\Users\\brittany henderson\\Anaconda3\\envs\\Research\\lib\\site-packages\\statsmodels\\stats\\multitest.py:333: RuntimeWarning: invalid value encountered in greater\n",
      "  pvals_corrected[pvals_corrected>1] = 1\n",
      "C:\\Users\\brittany henderson\\Anaconda3\\envs\\Research\\lib\\site-packages\\statsmodels\\stats\\multitest.py:256: RuntimeWarning: invalid value encountered in greater\n",
      "  pvals_corrected[pvals_corrected>1] = 1\n"
     ]
    },
    {
     "name": "stdout",
     "output_type": "stream",
     "text": [
      "significant pvals: \n",
      "              Comparison       P_Value\n",
      "0      NOL10_proteomics  8.999599e-08\n",
      "1       ABT1_proteomics  3.141336e-07\n",
      "2      UTP25_proteomics  4.308134e-07\n",
      "3     TOPBP1_proteomics  4.885533e-07\n",
      "4       RIF1_proteomics  9.004982e-07\n",
      "..                  ...           ...\n",
      "407     ORC5_proteomics  1.865479e-03\n",
      "408    ARNTL_proteomics  1.903651e-03\n",
      "409    RBM19_proteomics  1.916007e-03\n",
      "410  PPP2R2A_proteomics  1.917242e-03\n",
      "411     FBP1_proteomics  1.925357e-03\n",
      "\n",
      "[412 rows x 2 columns]\n"
     ]
    },
    {
     "name": "stderr",
     "output_type": "stream",
     "text": [
      "C:\\Users\\brittany henderson\\Anaconda3\\envs\\Research\\lib\\site-packages\\numpy\\core\\fromnumeric.py:3367: RuntimeWarning: Degrees of freedom <= 0 for slice\n",
      "  **kwargs)\n",
      "C:\\Users\\brittany henderson\\Anaconda3\\envs\\Research\\lib\\site-packages\\numpy\\core\\_methods.py:132: RuntimeWarning: invalid value encountered in double_scalars\n",
      "  ret = ret.dtype.type(ret / rcount)\n",
      "C:\\Users\\brittany henderson\\Anaconda3\\envs\\Research\\lib\\site-packages\\scipy\\stats\\_distn_infrastructure.py:877: RuntimeWarning: invalid value encountered in greater\n",
      "  return (self.a < x) & (x < self.b)\n",
      "C:\\Users\\brittany henderson\\Anaconda3\\envs\\Research\\lib\\site-packages\\scipy\\stats\\_distn_infrastructure.py:877: RuntimeWarning: invalid value encountered in less\n",
      "  return (self.a < x) & (x < self.b)\n",
      "C:\\Users\\brittany henderson\\Anaconda3\\envs\\Research\\lib\\site-packages\\scipy\\stats\\_distn_infrastructure.py:1831: RuntimeWarning: invalid value encountered in less_equal\n",
      "  cond2 = cond0 & (x <= self.a)\n",
      "C:\\Users\\brittany henderson\\Anaconda3\\envs\\Research\\lib\\site-packages\\statsmodels\\stats\\multitest.py:325: RuntimeWarning: invalid value encountered in less_equal\n",
      "  reject = pvals_sorted <= ecdffactor*alpha\n",
      "C:\\Users\\brittany henderson\\Anaconda3\\envs\\Research\\lib\\site-packages\\statsmodels\\stats\\multitest.py:333: RuntimeWarning: invalid value encountered in greater\n",
      "  pvals_corrected[pvals_corrected>1] = 1\n",
      "C:\\Users\\brittany henderson\\Anaconda3\\envs\\Research\\lib\\site-packages\\statsmodels\\stats\\multitest.py:256: RuntimeWarning: invalid value encountered in greater\n",
      "  pvals_corrected[pvals_corrected>1] = 1\n"
     ]
    }
   ],
   "source": [
    "e_cols = list(trunc_wt.columns[:-1])\n",
    "\n",
    "# Get only sig sites\n",
    "e_sig = u.wrap_ttest(trunc_wt, 'Mutation', e_cols, correction_method = 'fdr_bh')\n",
    "if e_sig is not None:\n",
    "    e_sig_list = list(e_sig.Comparison)\n",
    "else: \n",
    "    e_sig_list = None\n",
    "print('significant pvals: \\n',e_sig)\n",
    "\n",
    "# Get all pvals\n",
    "e_pval = u.wrap_ttest(trunc_wt, 'Mutation', e_cols, return_all = True, correction_method = 'fdr_bh')\n",
    "e_pval = e_pval.rename(columns = {'Comparison': 'Proteomics','P_Value': 'En_P_Value'})"
   ]
  },
  {
   "cell_type": "markdown",
   "metadata": {},
   "source": [
    "Differences in median with adaption to trunctation mutations."
   ]
  },
  {
   "cell_type": "code",
   "execution_count": 40,
   "metadata": {},
   "outputs": [
    {
     "name": "stderr",
     "output_type": "stream",
     "text": [
      "C:\\Users\\brittany henderson\\Anaconda3\\envs\\Research\\lib\\site-packages\\numpy\\lib\\nanfunctions.py:1076: RuntimeWarning: Mean of empty slice\n",
      "  return np.nanmean(a, axis, out=out, keepdims=keepdims)\n"
     ]
    }
   ],
   "source": [
    "t = trunc_wt[trunc_wt.Mutation == \"Truncation\"]\n",
    "wt = trunc_wt[trunc_wt.Mutation == \"Wildtype_Tumor\"]\n",
    "trunc_med = t.median()\n",
    "wt_med = wt.median()\n",
    "\n",
    "en_d = {}\n",
    "\n",
    "for prot in e_prot_list:\n",
    "    if prot+'_proteomics' in trunc_med.index and prot+'_proteomics' in wt_med.index:\n",
    "        dif = trunc_med[prot+'_proteomics'] - wt_med[prot+'_proteomics']\n",
    "        en_d[prot+'_proteomics'] = dif\n",
    "\n",
    "en_med = pd.DataFrame.from_dict(en_d, orient='index', columns=['En_Median'])\n",
    "en_med = en_med.reset_index().rename(columns={'index':'Proteomics'})"
   ]
  },
  {
   "cell_type": "code",
   "execution_count": 41,
   "metadata": {},
   "outputs": [
    {
     "name": "stdout",
     "output_type": "stream",
     "text": [
      "total_proteins_tested = 10693\n"
     ]
    },
    {
     "data": {
      "text/html": [
       "<div>\n",
       "<style scoped>\n",
       "    .dataframe tbody tr th:only-of-type {\n",
       "        vertical-align: middle;\n",
       "    }\n",
       "\n",
       "    .dataframe tbody tr th {\n",
       "        vertical-align: top;\n",
       "    }\n",
       "\n",
       "    .dataframe thead th {\n",
       "        text-align: right;\n",
       "    }\n",
       "</style>\n",
       "<table border=\"1\" class=\"dataframe\">\n",
       "  <thead>\n",
       "    <tr style=\"text-align: right;\">\n",
       "      <th></th>\n",
       "      <th>Proteomics</th>\n",
       "      <th>En_P_Value</th>\n",
       "      <th>En_Median</th>\n",
       "    </tr>\n",
       "  </thead>\n",
       "  <tbody>\n",
       "    <tr>\n",
       "      <th>0</th>\n",
       "      <td>NOL10_proteomics</td>\n",
       "      <td>8.999599e-08</td>\n",
       "      <td>-0.44200</td>\n",
       "    </tr>\n",
       "    <tr>\n",
       "      <th>1</th>\n",
       "      <td>ABT1_proteomics</td>\n",
       "      <td>3.141336e-07</td>\n",
       "      <td>-0.48510</td>\n",
       "    </tr>\n",
       "    <tr>\n",
       "      <th>2</th>\n",
       "      <td>UTP25_proteomics</td>\n",
       "      <td>4.308134e-07</td>\n",
       "      <td>-0.73450</td>\n",
       "    </tr>\n",
       "    <tr>\n",
       "      <th>3</th>\n",
       "      <td>TOPBP1_proteomics</td>\n",
       "      <td>4.885533e-07</td>\n",
       "      <td>-0.61795</td>\n",
       "    </tr>\n",
       "    <tr>\n",
       "      <th>4</th>\n",
       "      <td>RIF1_proteomics</td>\n",
       "      <td>9.004982e-07</td>\n",
       "      <td>-0.54640</td>\n",
       "    </tr>\n",
       "    <tr>\n",
       "      <th>...</th>\n",
       "      <td>...</td>\n",
       "      <td>...</td>\n",
       "      <td>...</td>\n",
       "    </tr>\n",
       "    <tr>\n",
       "      <th>10688</th>\n",
       "      <td>TMEM50A_proteomics</td>\n",
       "      <td>NaN</td>\n",
       "      <td>0.63100</td>\n",
       "    </tr>\n",
       "    <tr>\n",
       "      <th>10689</th>\n",
       "      <td>TSPAN4_proteomics</td>\n",
       "      <td>NaN</td>\n",
       "      <td>-0.39950</td>\n",
       "    </tr>\n",
       "    <tr>\n",
       "      <th>10690</th>\n",
       "      <td>USP27X_proteomics</td>\n",
       "      <td>NaN</td>\n",
       "      <td>-0.33050</td>\n",
       "    </tr>\n",
       "    <tr>\n",
       "      <th>10691</th>\n",
       "      <td>ZNF586_proteomics</td>\n",
       "      <td>NaN</td>\n",
       "      <td>NaN</td>\n",
       "    </tr>\n",
       "    <tr>\n",
       "      <th>10692</th>\n",
       "      <td>ZNF630_proteomics</td>\n",
       "      <td>NaN</td>\n",
       "      <td>0.99250</td>\n",
       "    </tr>\n",
       "  </tbody>\n",
       "</table>\n",
       "<p>10693 rows × 3 columns</p>\n",
       "</div>"
      ],
      "text/plain": [
       "               Proteomics    En_P_Value  En_Median\n",
       "0        NOL10_proteomics  8.999599e-08   -0.44200\n",
       "1         ABT1_proteomics  3.141336e-07   -0.48510\n",
       "2        UTP25_proteomics  4.308134e-07   -0.73450\n",
       "3       TOPBP1_proteomics  4.885533e-07   -0.61795\n",
       "4         RIF1_proteomics  9.004982e-07   -0.54640\n",
       "...                   ...           ...        ...\n",
       "10688  TMEM50A_proteomics           NaN    0.63100\n",
       "10689   TSPAN4_proteomics           NaN   -0.39950\n",
       "10690   USP27X_proteomics           NaN   -0.33050\n",
       "10691   ZNF586_proteomics           NaN        NaN\n",
       "10692   ZNF630_proteomics           NaN    0.99250\n",
       "\n",
       "[10693 rows x 3 columns]"
      ]
     },
     "execution_count": 41,
     "metadata": {},
     "output_type": "execute_result"
    }
   ],
   "source": [
    "e_merged = e_pval.merge(en_med, on='Proteomics',how='outer')\n",
    "print('total_proteins_tested =', len(e_cols))\n",
    "\n",
    "# Create csv\n",
    "e_merged.to_csv(root+R'\\endo_pval_medians.csv',index=False)\n",
    "e_merged"
   ]
  },
  {
   "cell_type": "markdown",
   "metadata": {},
   "source": [
    "# Get a list of significant genes in at least one cancer"
   ]
  },
  {
   "cell_type": "code",
   "execution_count": 42,
   "metadata": {},
   "outputs": [
    {
     "name": "stdout",
     "output_type": "stream",
     "text": [
      "Number of significant in >= 1 cancer: 2611\n"
     ]
    }
   ],
   "source": [
    "# Keep only genes significant in > 1 cancer\n",
    "all_sig = []\n",
    "\n",
    "sig_lists = [g_sig_list, e_sig_list, b_sig_list, o_sig_list, c_sig_list, h_sig_list, l_sig_list, ls_sig_list]\n",
    "\n",
    "for next_list in sig_lists:\n",
    "    if next_list is not None:\n",
    "        all_sig.append(next_list)\n",
    "        \n",
    "\n",
    "flat_list = [item for sublist in all_sig for item in sublist] #change list of lists, to just one list\n",
    "sig = list(set(flat_list)) # remove duplicates\n",
    "print('Number of significant in >= 1 cancer:', len(sig))"
   ]
  },
  {
   "cell_type": "code",
   "execution_count": 43,
   "metadata": {},
   "outputs": [],
   "source": [
    "s = pd.Series(sig)\n",
    "s = s.replace(to_replace = r'_proteomics$', value = '', regex = True)\n",
    "s.to_csv(root+R'\\list_sig_one_cancer.csv', index=False)"
   ]
  },
  {
   "cell_type": "markdown",
   "metadata": {},
   "source": [
    "# Get a list of significant genes in multiple cancers"
   ]
  },
  {
   "cell_type": "code",
   "execution_count": 44,
   "metadata": {},
   "outputs": [
    {
     "name": "stdout",
     "output_type": "stream",
     "text": [
      "Number of significant in mult cancers: 311\n"
     ]
    }
   ],
   "source": [
    "# sig in multiple (more than 1) cancers\n",
    "mult = list(set(i for i in flat_list if flat_list.count(i) > 1)) # Keep genes sig in more than 1 cancer\n",
    "print('Number of significant in mult cancers:', len(mult))\n"
   ]
  },
  {
   "cell_type": "code",
   "execution_count": 45,
   "metadata": {},
   "outputs": [],
   "source": [
    "m = pd.Series(mult)\n",
    "m = m.replace(to_replace = r'_proteomics$', value = '', regex = True)\n",
    "m.to_csv(root+R'\\list_sig_multiple_cancers.csv', index=False)"
   ]
  },
  {
   "cell_type": "markdown",
   "metadata": {},
   "source": [
    "# Number of significant comparisons for each cancer"
   ]
  },
  {
   "cell_type": "code",
   "execution_count": 46,
   "metadata": {},
   "outputs": [
    {
     "name": "stdout",
     "output_type": "stream",
     "text": [
      "Number of significant tests:\n",
      "\n",
      "Gbm :\n",
      "1900\n",
      "\n",
      "\n",
      "En :\n",
      "412\n",
      "\n",
      "\n",
      "Brca :\n",
      "1\n",
      "\n",
      "\n",
      "Ov :\n",
      "1\n",
      "\n",
      "\n",
      "Colon :\n",
      "\n",
      "\n",
      "Hnscc :\n",
      "533\n",
      "\n",
      "\n",
      "Luad :\n",
      "111\n",
      "\n",
      "\n",
      "Lscc :\n",
      "4\n",
      "\n",
      "\n"
     ]
    }
   ],
   "source": [
    "sig_dict = {'Gbm': g_sig_list, 'En': e_sig_list, 'Brca': b_sig_list, 'Ov': o_sig_list, 'Colon': c_sig_list,\n",
    "            'Hnscc': h_sig_list, 'Luad': l_sig_list, 'Lscc': ls_sig_list}\n",
    "print('Number of significant tests:\\n')\n",
    "i = 0\n",
    "for cancer in sig_dict:\n",
    "\n",
    "    print(cancer, ':')\n",
    "    if sig_dict[cancer] is not None: \n",
    "        print(len(sig_dict[cancer]))\n",
    "    print('\\n')\n",
    "    if (i < 6):\n",
    "        i += 1\n",
    "    "
   ]
  },
  {
   "cell_type": "code",
   "execution_count": 47,
   "metadata": {},
   "outputs": [
    {
     "name": "stdout",
     "output_type": "stream",
     "text": [
      "Information about total proteins tested (dropped if < 10 samples with nonNaN data)\n",
      "\n",
      "Gbm :\n",
      "total_proteins_tested: 11009\n",
      "\n",
      "\n",
      "En :\n",
      "total_proteins_tested: 10693\n",
      "\n",
      "\n",
      "Brca :\n",
      "total_proteins_tested: 10107\n",
      "\n",
      "\n",
      "Ov :\n",
      "total_proteins_tested: 10601\n",
      "\n",
      "\n",
      "Colon :\n",
      "total_proteins_tested: 7739\n",
      "\n",
      "\n",
      "Hnscc :\n",
      "total_proteins_tested: 11325\n",
      "\n",
      "\n",
      "Luad :\n",
      "total_proteins_tested: 10698\n",
      "\n",
      "\n",
      "Lscc :\n",
      "total_proteins_tested: 11574\n",
      "\n",
      "\n"
     ]
    }
   ],
   "source": [
    "protein_dict = {'Gbm': len(g_cols), 'En': len(e_cols), 'Brca': len(b_cols), 'Ov': len(o_cols), 'Colon': len(c_cols),\n",
    "            'Hnscc': len(h_cols), 'Luad': len(l_cols), 'Lscc': len(ls_cols)}\n",
    "\n",
    "print('Information about total proteins tested (dropped if < 10 samples with nonNaN data)\\n')\n",
    "i = 0\n",
    "for cancer in protein_dict:\n",
    "\n",
    "    print(cancer, ':')\n",
    "    if protein_dict[cancer] is not None: \n",
    "        print('total_proteins_tested:', protein_dict[cancer])\n",
    "    print('\\n')\n",
    "    if (i < 6):\n",
    "        i += 1"
   ]
  }
 ],
 "metadata": {
  "kernelspec": {
   "display_name": "Python 3",
   "language": "python",
   "name": "python3"
  },
  "language_info": {
   "codemirror_mode": {
    "name": "ipython",
    "version": 3
   },
   "file_extension": ".py",
   "mimetype": "text/x-python",
   "name": "python",
   "nbconvert_exporter": "python",
   "pygments_lexer": "ipython3",
   "version": "3.7.3"
  }
 },
 "nbformat": 4,
 "nbformat_minor": 2
}
