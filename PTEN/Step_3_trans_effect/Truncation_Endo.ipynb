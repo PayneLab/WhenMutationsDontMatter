{
 "cells": [
  {
   "cell_type": "code",
   "execution_count": 1,
   "metadata": {},
   "outputs": [],
   "source": [
    "import pandas as pd\n",
    "import numpy as np\n",
    "import seaborn as sns\n",
    "import matplotlib.pyplot as plt\n",
    "import scipy.stats\n",
    "import gseapy as gp\n",
    "import re\n",
    "import sys \n",
    "\n",
    "import cptac\n",
    "import cptac.utils as u\n",
    "\n",
    "import plot_utils as pu"
   ]
  },
  {
   "cell_type": "code",
   "execution_count": 4,
   "metadata": {},
   "outputs": [
    {
     "name": "stdout",
     "output_type": "stream",
     "text": [
      "                                                \r"
     ]
    }
   ],
   "source": [
    "e = cptac.Endometrial()"
   ]
  },
  {
   "cell_type": "code",
   "execution_count": 10,
   "metadata": {},
   "outputs": [
    {
     "name": "stderr",
     "output_type": "stream",
     "text": [
      "cptac warning: In joining the somatic_mutation table, no mutations were found for the following samples, so they were filled with Wildtype_Tumor or Wildtype_Normal: 69 samples for the PTEN gene (C:\\Users\\brittany henderson\\Anaconda3\\envs\\Research\\lib\\site-packages\\ipykernel_launcher.py, line 3)\n"
     ]
    }
   ],
   "source": [
    "prot_and_mutations = e.join_omics_to_mutations(\n",
    "            mutations_genes = 'PTEN', omics_df_name = 'proteomics', omics_genes = 'PTEN', \n",
    "    mutations_filter = ['Nonsense_Mutation','Frame_Shift_Ins','Frame_Shift_Del'])"
   ]
  },
  {
   "cell_type": "code",
   "execution_count": 21,
   "metadata": {},
   "outputs": [
    {
     "data": {
      "text/plain": [
       "p.R130*    4\n",
       "p.R233*    4\n",
       "p.E7*      3\n",
       "p.E99*     2\n",
       "p.G209*    1\n",
       "p.W111*    1\n",
       "p.Q245*    1\n",
       "p.Q171*    1\n",
       "p.S287*    1\n",
       "p.Q97*     1\n",
       "p.W274*    1\n",
       "p.C304*    1\n",
       "p.Y180*    1\n",
       "p.G293*    1\n",
       "p.Y27*     1\n",
       "p.Q214*    1\n",
       "Name: PTEN_Location, dtype: int64"
      ]
     },
     "execution_count": 21,
     "metadata": {},
     "output_type": "execute_result"
    }
   ],
   "source": [
    "# Nonsense_Mutation\n",
    "ns = prot_and_mutations.loc[prot_and_mutations['PTEN_Mutation'] == 'Nonsense_Mutation']\n",
    "ns.PTEN_Location.value_counts()"
   ]
  },
  {
   "cell_type": "code",
   "execution_count": 18,
   "metadata": {},
   "outputs": [
    {
     "data": {
      "text/plain": [
       "p.E242*         1\n",
       "p.M134Nfs*46    1\n",
       "p.P248Tfs*5     1\n",
       "p.N323Kfs*2     1\n",
       "p.I168Sfs*13    1\n",
       "p.V166Sfs*14    1\n",
       "p.D268Gfs*30    1\n",
       "Name: PTEN_Location, dtype: int64"
      ]
     },
     "execution_count": 18,
     "metadata": {},
     "output_type": "execute_result"
    }
   ],
   "source": [
    "# Frame_Shift_Ins\n",
    "fsi = prot_and_mutations.loc[prot_and_mutations['PTEN_Mutation'] == 'Frame_Shift_Ins']\n",
    "fsi.PTEN_Location.value_counts()"
   ]
  },
  {
   "cell_type": "code",
   "execution_count": 23,
   "metadata": {},
   "outputs": [
    {
     "data": {
      "text/plain": [
       "p.K267Rfs*9     3\n",
       "p.G293Efs*14    2\n",
       "p.G44Qfs*3      1\n",
       "p.D51*          1\n",
       "p.T321Kfs*22    1\n",
       "p.C296*         1\n",
       "p.Y88Sfs*3      1\n",
       "p.N262Qfs*35    1\n",
       "p.F258Sfs*8     1\n",
       "p.N329Kfs*14    1\n",
       "p.V290*         1\n",
       "p.L140Qfs*36    1\n",
       "p.P30Yfs*11     1\n",
       "p.K267Rfs*30    1\n",
       "p.I253Qfs*44    1\n",
       "p.T319*         1\n",
       "p.N12Tfs*12     1\n",
       "p.R47Efs*4      1\n",
       "Name: PTEN_Location, dtype: int64"
      ]
     },
     "execution_count": 23,
     "metadata": {},
     "output_type": "execute_result"
    }
   ],
   "source": [
    "# Frame_Shift_Del\n",
    "fsd = prot_and_mutations.loc[prot_and_mutations['PTEN_Mutation'] == 'Frame_Shift_Del']\n",
    "fsd.PTEN_Location.value_counts()"
   ]
  },
  {
   "cell_type": "code",
   "execution_count": null,
   "metadata": {},
   "outputs": [],
   "source": []
  }
 ],
 "metadata": {
  "kernelspec": {
   "display_name": "Python 3",
   "language": "python",
   "name": "python3"
  },
  "language_info": {
   "codemirror_mode": {
    "name": "ipython",
    "version": 3
   },
   "file_extension": ".py",
   "mimetype": "text/x-python",
   "name": "python",
   "nbconvert_exporter": "python",
   "pygments_lexer": "ipython3",
   "version": "3.7.3"
  }
 },
 "nbformat": 4,
 "nbformat_minor": 2
}
