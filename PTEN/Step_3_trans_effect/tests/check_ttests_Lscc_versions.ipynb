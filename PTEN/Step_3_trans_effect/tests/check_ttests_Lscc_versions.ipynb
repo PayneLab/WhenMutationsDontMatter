{
 "cells": [
  {
   "cell_type": "markdown",
   "metadata": {},
   "source": [
    "# Check differences in t-test results between Lscc versions"
   ]
  },
  {
   "cell_type": "code",
   "execution_count": 1,
   "metadata": {},
   "outputs": [],
   "source": [
    "import pandas as pd\n",
    "import numpy as np\n",
    "import seaborn as sns\n",
    "import matplotlib.pyplot as plt\n",
    "import scipy.stats\n",
    "import gseapy as gp\n",
    "import re\n",
    "import sys \n",
    "\n",
    "import cptac\n",
    "import cptac.utils as u\n",
    "\n",
    "import plot_utils as p"
   ]
  },
  {
   "cell_type": "code",
   "execution_count": 2,
   "metadata": {},
   "outputs": [],
   "source": [
    "# Returns a dataframe with proteomics and mutation type\n",
    "\n",
    "# all_prot: list of trans genes\n",
    "\n",
    "def all_prot_format_df(cancer_object, all_prot, gene_in = 'PTEN', utils = u):\n",
    "    mut_type = cancer_object.get_genotype_all_vars(gene_in)\n",
    "    \n",
    "    if cancer_object.get_cancer_type() not in ('luad'):\n",
    "        # Keep only tumor samples from proteomics\n",
    "        prot_and_mutations = cancer_object.join_omics_to_mutations(\n",
    "            mutations_genes = [gene_in], omics_df_name = 'proteomics', omics_genes = all_prot)\n",
    "        # Reduce a multiindex \n",
    "        if isinstance(prot_and_mutations.keys(), pd.core.indexes.multi.MultiIndex):\n",
    "            prot_and_mutations = utils.reduce_multiindex(prot_and_mutations, levels_to_drop = 1)\n",
    "        prot_and_mutations = prot_and_mutations[prot_and_mutations.Sample_Status == \"Tumor\"] # drop Normal samples\n",
    "\n",
    "        # Merge Mutation column from get_genotype_all_vars (includes cnv) with proteomics\n",
    "        mut_type = mut_type[['Mutation']] \n",
    "        prot_df = prot_and_mutations.iloc[:,:-4] # Keep only proteomics\n",
    "        merged = prot_df.join(mut_type)\n",
    "        \n",
    "        # Keep only Wildtype and deletion\n",
    "        compare = ['Wildtype_Tumor','Deletion']\n",
    "        get = merged['Mutation'].isin(compare)\n",
    "        del_wt = merged[get]\n",
    "\n",
    "    return del_wt\n"
   ]
  },
  {
   "cell_type": "markdown",
   "metadata": {},
   "source": [
    "# Check version 1.0"
   ]
  },
  {
   "cell_type": "code",
   "execution_count": 3,
   "metadata": {},
   "outputs": [
    {
     "name": "stdout",
     "output_type": "stream",
     "text": [
      "Loading lscc v1.0.                       \r"
     ]
    },
    {
     "name": "stderr",
     "output_type": "stream",
     "text": [
      "cptac warning: Old lscc data version. Latest is 3.2. This is 1.0. (C:\\Users\\brittany henderson\\Anaconda3\\envs\\Research\\lib\\site-packages\\ipykernel_launcher.py, line 1)\n"
     ]
    },
    {
     "name": "stdout",
     "output_type": "stream",
     "text": [
      "                         \r"
     ]
    },
    {
     "name": "stderr",
     "output_type": "stream",
     "text": [
      "cptac warning: The LSCC data is currently strictly reserved for CPTAC investigators. Otherwise, you are not authorized to access these data. Additionally, even after these data become publicly available, they will be subject to a publication embargo (see https://proteomics.cancer.gov/data-portal/about/data-use-agreement or enter cptac.embargo() to open the webpage for more details). (C:\\Users\\brittany henderson\\Anaconda3\\envs\\Research\\lib\\site-packages\\ipykernel_launcher.py, line 1)\n"
     ]
    }
   ],
   "source": [
    "ls_v1 = cptac.Lscc(version= '1.0')"
   ]
  },
  {
   "cell_type": "code",
   "execution_count": 4,
   "metadata": {},
   "outputs": [
    {
     "name": "stderr",
     "output_type": "stream",
     "text": [
      "cptac warning: Due to dropping the specified levels, dataframe now has 830 duplicated column headers. (C:\\Users\\brittany henderson\\Anaconda3\\envs\\Research\\lib\\site-packages\\ipykernel_launcher.py, line 3)\n",
      "cptac warning: In joining the somatic_mutation table, no mutations were found for the following samples, so they were filled with Wildtype_Tumor or Wildtype_Normal: 99 samples for the PTEN gene (C:\\Users\\brittany henderson\\Anaconda3\\envs\\Research\\lib\\site-packages\\cptac\\dataset.py, line 313)\n",
      "cptac warning: In joining the somatic_mutation table, no mutations were found for the following samples, so they were filled with Wildtype_Tumor or Wildtype_Normal: 201 samples for the PTEN gene (C:\\Users\\brittany henderson\\Anaconda3\\envs\\Research\\lib\\site-packages\\ipykernel_launcher.py, line 11)\n",
      "cptac warning: Due to dropping the specified levels, dataframe now has 830 duplicated column headers. (C:\\Users\\brittany henderson\\Anaconda3\\envs\\Research\\lib\\site-packages\\ipykernel_launcher.py, line 14)\n"
     ]
    }
   ],
   "source": [
    "gene = 'PTEN'\n",
    "ls_prot_v1 = ls_v1.get_proteomics()\n",
    "ls_prot_v1 = u.reduce_multiindex(ls_prot_v1, levels_to_drop = 1)\n",
    "ls_prot_list = list(ls_prot_v1.columns)\n",
    "\n",
    "ls_del_wt = all_prot_format_df(ls_v1, ls_prot_list)\n",
    "#ls_del_wt = ls_del_wt.dropna(axis='columns', how='all') # count all proteins"
   ]
  },
  {
   "cell_type": "code",
   "execution_count": 5,
   "metadata": {},
   "outputs": [],
   "source": [
    "# Differentiate duplicate column names\n",
    "cols = pd.Series(ls_del_wt.columns[:])\n",
    "\n",
    "for dup in cols[cols.duplicated()].unique(): \n",
    "    cols[cols[cols == dup].index.values.tolist()] = [dup + '_' + str(i) if i != 0 else dup for i in range(sum(cols == dup))]\n",
    "\n",
    "# rename the columns with the cols list.\n",
    "ls_del_wt.columns=cols"
   ]
  },
  {
   "cell_type": "code",
   "execution_count": 6,
   "metadata": {},
   "outputs": [
    {
     "name": "stdout",
     "output_type": "stream",
     "text": [
      "total_proteins_tested =  11295\n",
      "significant pvals: \n",
      "             Comparison       P_Value\n",
      "0      RFC3_proteomics  4.340033e-07\n",
      "1     CPSF2_proteomics  1.052148e-06\n",
      "2       SLK_proteomics  4.777268e-06\n",
      "3     CPSF1_proteomics  5.111559e-06\n",
      "4     WDR33_proteomics  6.166593e-06\n",
      "..                 ...           ...\n",
      "281   ABCC2_proteomics  1.206208e-03\n",
      "282   VPS35_proteomics  1.223632e-03\n",
      "283  BICDL2_proteomics  1.225388e-03\n",
      "284  WRAP53_proteomics  1.229143e-03\n",
      "285   MED22_proteomics  1.238478e-03\n",
      "\n",
      "[286 rows x 2 columns]\n"
     ]
    }
   ],
   "source": [
    "print('total_proteins_tested = ', len(ls_prot_list))\n",
    "cols = list(ls_del_wt.columns[:-2])\n",
    "\n",
    "# Get only sig sites\n",
    "ls_sig = u.wrap_ttest(ls_del_wt, 'Mutation', cols, correction_method = 'fdr_bh')\n",
    "if ls_sig is not None:\n",
    "    ls_sig_list = list(ls_sig.Comparison)\n",
    "else: \n",
    "    ls_sig_list = None\n",
    "print('significant pvals: \\n', ls_sig)\n",
    "\n",
    "# Get all pvals\n",
    "ls_pval = u.wrap_ttest(ls_del_wt, 'Mutation', cols, return_all = True, correction_method = 'fdr_bh')\n",
    "ls_pval = ls_pval.rename(columns = {'Comparison': 'Proteomics','P_Value': 'Lscc_P_Value'})"
   ]
  },
  {
   "cell_type": "code",
   "execution_count": 7,
   "metadata": {},
   "outputs": [
    {
     "data": {
      "text/html": [
       "<div>\n",
       "<style scoped>\n",
       "    .dataframe tbody tr th:only-of-type {\n",
       "        vertical-align: middle;\n",
       "    }\n",
       "\n",
       "    .dataframe tbody tr th {\n",
       "        vertical-align: top;\n",
       "    }\n",
       "\n",
       "    .dataframe thead th {\n",
       "        text-align: right;\n",
       "    }\n",
       "</style>\n",
       "<table border=\"1\" class=\"dataframe\">\n",
       "  <thead>\n",
       "    <tr style=\"text-align: right;\">\n",
       "      <th></th>\n",
       "      <th>Comparison</th>\n",
       "      <th>P_Value</th>\n",
       "    </tr>\n",
       "  </thead>\n",
       "  <tbody>\n",
       "    <tr>\n",
       "      <th>9</th>\n",
       "      <td>MSH2_proteomics</td>\n",
       "      <td>0.000022</td>\n",
       "    </tr>\n",
       "  </tbody>\n",
       "</table>\n",
       "</div>"
      ],
      "text/plain": [
       "        Comparison   P_Value\n",
       "9  MSH2_proteomics  0.000022"
      ]
     },
     "execution_count": 7,
     "metadata": {},
     "output_type": "execute_result"
    }
   ],
   "source": [
    "ls_sig.loc[ls_sig['Comparison'] == 'MSH2_proteomics']"
   ]
  },
  {
   "cell_type": "markdown",
   "metadata": {},
   "source": [
    "# Check version 3.2"
   ]
  },
  {
   "cell_type": "code",
   "execution_count": 8,
   "metadata": {},
   "outputs": [
    {
     "name": "stdout",
     "output_type": "stream",
     "text": [
      "version 3scc v3.2.......                 \n",
      "                            \r"
     ]
    },
    {
     "name": "stderr",
     "output_type": "stream",
     "text": [
      "cptac warning: The LSCC data is currently strictly reserved for CPTAC investigators. Otherwise, you are not authorized to access these data. Additionally, even after these data become publicly available, they will be subject to a publication embargo (see https://proteomics.cancer.gov/data-portal/about/data-use-agreement or enter cptac.embargo() to open the webpage for more details). (C:\\Users\\brittany henderson\\Anaconda3\\envs\\Research\\lib\\site-packages\\ipykernel_launcher.py, line 1)\n"
     ]
    }
   ],
   "source": [
    "ls = cptac.Lscc()"
   ]
  },
  {
   "cell_type": "code",
   "execution_count": 9,
   "metadata": {},
   "outputs": [
    {
     "name": "stderr",
     "output_type": "stream",
     "text": [
      "cptac warning: Due to dropping the specified levels, dataframe now has 858 duplicated column headers. (C:\\Users\\brittany henderson\\Anaconda3\\envs\\Research\\lib\\site-packages\\ipykernel_launcher.py, line 3)\n",
      "cptac warning: In joining the somatic_mutation table, no mutations were found for the following samples, so they were filled with Wildtype_Tumor or Wildtype_Normal: 96 samples for the PTEN gene (C:\\Users\\brittany henderson\\Anaconda3\\envs\\Research\\lib\\site-packages\\cptac\\dataset.py, line 313)\n",
      "cptac warning: In joining the somatic_mutation table, no mutations were found for the following samples, so they were filled with Wildtype_Tumor or Wildtype_Normal: 195 samples for the PTEN gene (C:\\Users\\brittany henderson\\Anaconda3\\envs\\Research\\lib\\site-packages\\ipykernel_launcher.py, line 11)\n",
      "cptac warning: Due to dropping the specified levels, dataframe now has 858 duplicated column headers. (C:\\Users\\brittany henderson\\Anaconda3\\envs\\Research\\lib\\site-packages\\ipykernel_launcher.py, line 14)\n"
     ]
    }
   ],
   "source": [
    "gene = 'PTEN'\n",
    "ls_prot = ls.get_proteomics()\n",
    "ls_prot = u.reduce_multiindex(ls_prot, levels_to_drop = 1)\n",
    "ls_prot_list = list(ls_prot.columns)\n",
    "\n",
    "ls_del_wt = all_prot_format_df(ls, ls_prot_list)\n",
    "#ls_del_wt = ls_del_wt.dropna(axis='columns', how='all') # count all proteins"
   ]
  },
  {
   "cell_type": "code",
   "execution_count": 10,
   "metadata": {},
   "outputs": [],
   "source": [
    "# Differentiate duplicate column names\n",
    "cols = pd.Series(ls_del_wt.columns[:])\n",
    "\n",
    "for dup in cols[cols.duplicated()].unique(): \n",
    "    cols[cols[cols == dup].index.values.tolist()] = [dup + '_' + str(i) if i != 0 else dup for i in range(sum(cols == dup))]\n",
    "\n",
    "# rename the columns with the cols list.\n",
    "ls_del_wt.columns=cols"
   ]
  },
  {
   "cell_type": "code",
   "execution_count": 11,
   "metadata": {},
   "outputs": [
    {
     "name": "stdout",
     "output_type": "stream",
     "text": [
      "total_proteins_tested =  11575\n",
      "significant pvals: \n",
      "           Comparison       P_Value\n",
      "0   ATAD1_proteomics  5.610837e-10\n",
      "1   BTAF1_proteomics  1.962971e-07\n",
      "2  VPS26A_proteomics  1.220741e-05\n",
      "3    PTEN_proteomics  1.473964e-05\n"
     ]
    }
   ],
   "source": [
    "print('total_proteins_tested = ', len(ls_prot_list))\n",
    "cols = list(ls_del_wt.columns[:-2])\n",
    "\n",
    "# Get only sig sites\n",
    "ls_sig = u.wrap_ttest(ls_del_wt, 'Mutation', cols, correction_method = 'fdr_bh')\n",
    "if ls_sig is not None:\n",
    "    ls_sig_list = list(ls_sig.Comparison)\n",
    "else: \n",
    "    ls_sig_list = None\n",
    "print('significant pvals: \\n', ls_sig)\n",
    "\n",
    "# Get all pvals\n",
    "ls_pval = u.wrap_ttest(ls_del_wt, 'Mutation', cols, return_all = True, correction_method = 'fdr_bh')\n",
    "ls_pval = ls_pval.rename(columns = {'Comparison': 'Proteomics','P_Value': 'Lscc_P_Value'})"
   ]
  },
  {
   "cell_type": "code",
   "execution_count": 12,
   "metadata": {},
   "outputs": [
    {
     "data": {
      "text/html": [
       "<div>\n",
       "<style scoped>\n",
       "    .dataframe tbody tr th:only-of-type {\n",
       "        vertical-align: middle;\n",
       "    }\n",
       "\n",
       "    .dataframe tbody tr th {\n",
       "        vertical-align: top;\n",
       "    }\n",
       "\n",
       "    .dataframe thead th {\n",
       "        text-align: right;\n",
       "    }\n",
       "</style>\n",
       "<table border=\"1\" class=\"dataframe\">\n",
       "  <thead>\n",
       "    <tr style=\"text-align: right;\">\n",
       "      <th></th>\n",
       "      <th>Proteomics</th>\n",
       "      <th>Lscc_P_Value</th>\n",
       "    </tr>\n",
       "  </thead>\n",
       "  <tbody>\n",
       "    <tr>\n",
       "      <th>1536</th>\n",
       "      <td>MSH2_proteomics</td>\n",
       "      <td>0.138684</td>\n",
       "    </tr>\n",
       "  </tbody>\n",
       "</table>\n",
       "</div>"
      ],
      "text/plain": [
       "           Proteomics  Lscc_P_Value\n",
       "1536  MSH2_proteomics      0.138684"
      ]
     },
     "execution_count": 12,
     "metadata": {},
     "output_type": "execute_result"
    }
   ],
   "source": [
    "ls_pval.loc[ls_pval['Proteomics'] == 'MSH2_proteomics']"
   ]
  },
  {
   "cell_type": "markdown",
   "metadata": {},
   "source": [
    "# Check protein count"
   ]
  },
  {
   "cell_type": "code",
   "execution_count": 13,
   "metadata": {},
   "outputs": [
    {
     "name": "stdout",
     "output_type": "stream",
     "text": [
      "Total Unique Proteins for version 1.0:   10863\n"
     ]
    },
    {
     "data": {
      "text/plain": [
       "POSTN       5\n",
       "PLEC        5\n",
       "PUF60       4\n",
       "HLA-DRB1    4\n",
       "PML         4\n",
       "           ..\n",
       "COPZ1       1\n",
       "AKAP17A     1\n",
       "CXCL1       1\n",
       "INTS7       1\n",
       "RGS10       1\n",
       "Name: Name, Length: 10863, dtype: int64"
      ]
     },
     "execution_count": 13,
     "metadata": {},
     "output_type": "execute_result"
    }
   ],
   "source": [
    "ls_prot_series_v1 = pd.Series(ls_prot_v1.columns).value_counts()\n",
    "total_unique_proteins_v1 = len(ls_prot_series_v1)\n",
    "print('Total Unique Proteins for version 1.0:  ', total_unique_proteins_v1)\n",
    "ls_prot_series_v1"
   ]
  },
  {
   "cell_type": "code",
   "execution_count": 14,
   "metadata": {},
   "outputs": [
    {
     "name": "stdout",
     "output_type": "stream",
     "text": [
      "Total Unique Proteins for version 3.2:   11128\n"
     ]
    },
    {
     "data": {
      "text/plain": [
       "PLEC        5\n",
       "POSTN       5\n",
       "HLA-DRB1    4\n",
       "PML         4\n",
       "PUF60       4\n",
       "           ..\n",
       "KLRG2       1\n",
       "FMNL2       1\n",
       "ZNF146      1\n",
       "KLHL25      1\n",
       "RGS10       1\n",
       "Name: Name, Length: 11128, dtype: int64"
      ]
     },
     "execution_count": 14,
     "metadata": {},
     "output_type": "execute_result"
    }
   ],
   "source": [
    "ls_prot_series = pd.Series(ls_prot.columns).value_counts()\n",
    "total_unique_proteins_v3 = len(ls_prot_series)\n",
    "print('Total Unique Proteins for version 3.2:  ', total_unique_proteins_v3)\n",
    "ls_prot_series"
   ]
  },
  {
   "cell_type": "code",
   "execution_count": 15,
   "metadata": {},
   "outputs": [
    {
     "name": "stdout",
     "output_type": "stream",
     "text": [
      "total_unique_proteins_v3 - total_unique_proteins_v1 =  265\n"
     ]
    }
   ],
   "source": [
    "change = total_unique_proteins_v3 - total_unique_proteins_v1\n",
    "print('total_unique_proteins_v3 - total_unique_proteins_v1 = ', change)"
   ]
  },
  {
   "cell_type": "code",
   "execution_count": 16,
   "metadata": {},
   "outputs": [
    {
     "name": "stdout",
     "output_type": "stream",
     "text": [
      "total_proteins_isoforms_v3 - total_proteins_isoforms_v1 =  280\n"
     ]
    }
   ],
   "source": [
    "change_prot_iso = len(ls_prot.columns) - len(ls_prot_v1.columns) \n",
    "print('total_proteins_isoforms_v3 - total_proteins_isoforms_v1 = ', change_prot_iso)"
   ]
  },
  {
   "cell_type": "markdown",
   "metadata": {},
   "source": [
    "# Get list of added proteins"
   ]
  },
  {
   "cell_type": "code",
   "execution_count": 31,
   "metadata": {},
   "outputs": [],
   "source": [
    "ls_prot_df = pd.DataFrame(ls_prot.columns)\n",
    "ls_prot_df_v1 = pd.DataFrame(ls_prot_v1.columns)"
   ]
  },
  {
   "cell_type": "code",
   "execution_count": 60,
   "metadata": {},
   "outputs": [
    {
     "data": {
      "text/html": [
       "<div>\n",
       "<style scoped>\n",
       "    .dataframe tbody tr th:only-of-type {\n",
       "        vertical-align: middle;\n",
       "    }\n",
       "\n",
       "    .dataframe tbody tr th {\n",
       "        vertical-align: top;\n",
       "    }\n",
       "\n",
       "    .dataframe thead th {\n",
       "        text-align: right;\n",
       "    }\n",
       "</style>\n",
       "<table border=\"1\" class=\"dataframe\">\n",
       "  <thead>\n",
       "    <tr style=\"text-align: right;\">\n",
       "      <th></th>\n",
       "      <th>Name</th>\n",
       "      <th>_merge</th>\n",
       "    </tr>\n",
       "  </thead>\n",
       "  <tbody>\n",
       "    <tr>\n",
       "      <th>90</th>\n",
       "      <td>ABRAXAS2</td>\n",
       "      <td>left_only</td>\n",
       "    </tr>\n",
       "    <tr>\n",
       "      <th>198</th>\n",
       "      <td>ACTR8</td>\n",
       "      <td>left_only</td>\n",
       "    </tr>\n",
       "  </tbody>\n",
       "</table>\n",
       "</div>"
      ],
      "text/plain": [
       "         Name     _merge\n",
       "90   ABRAXAS2  left_only\n",
       "198     ACTR8  left_only"
      ]
     },
     "execution_count": 60,
     "metadata": {},
     "output_type": "execute_result"
    }
   ],
   "source": [
    "# Use indicator to note which df the protein comes from \n",
    "# Keep only proteins found in one df\n",
    "added_prot = ls_prot_df.merge(ls_prot_df_v1,indicator = True, how='left').loc[lambda x : x['_merge']!='both']\n",
    "added_prot.head(2)"
   ]
  },
  {
   "cell_type": "code",
   "execution_count": 58,
   "metadata": {},
   "outputs": [
    {
     "data": {
      "text/plain": [
       "['ABRAXAS2',\n",
       " 'ACTR8',\n",
       " 'AFTPH',\n",
       " 'AKAP9',\n",
       " 'ANAPC1',\n",
       " 'ANAPC4',\n",
       " 'ANAPC5',\n",
       " 'ANKHD1-EIF4EBP3',\n",
       " 'AP1G1',\n",
       " 'AP3B1',\n",
       " 'AP3D1',\n",
       " 'AP4M1',\n",
       " 'ARF1',\n",
       " 'ARID1B',\n",
       " 'ARIH2',\n",
       " 'BABAM1',\n",
       " 'BABAM2',\n",
       " 'BAG6',\n",
       " 'BIRC6',\n",
       " 'BOD1L1',\n",
       " 'BRAP',\n",
       " 'BRK1',\n",
       " 'C2CD5',\n",
       " 'CABIN1',\n",
       " 'CAPZA1',\n",
       " 'CCZ1',\n",
       " 'CDC23',\n",
       " 'CDC37',\n",
       " 'CDKN2AIP',\n",
       " 'CEP192',\n",
       " 'CEP350',\n",
       " 'CHD2',\n",
       " 'CIAO1',\n",
       " 'CIC',\n",
       " 'CLTC',\n",
       " 'CNOT10',\n",
       " 'CNOT3',\n",
       " 'CNOT9',\n",
       " 'COG1',\n",
       " 'COG4',\n",
       " 'COG5',\n",
       " 'COG6',\n",
       " 'COG7',\n",
       " 'COG8',\n",
       " 'COPS2',\n",
       " 'COPS3',\n",
       " 'COPS4',\n",
       " 'CSNK2A2',\n",
       " 'CSTF2T',\n",
       " 'CYFIP1',\n",
       " 'DAZAP1',\n",
       " 'DCP1A',\n",
       " 'DDB1',\n",
       " 'DDX1',\n",
       " 'DDX19A',\n",
       " 'DDX39B',\n",
       " 'DHX15',\n",
       " 'DIS3L2',\n",
       " 'DYNC1H1',\n",
       " 'DYNC1LI1',\n",
       " 'EIF2B3',\n",
       " 'EIF2B4',\n",
       " 'EIF2B5',\n",
       " 'EIF3C',\n",
       " 'EIF3D',\n",
       " 'EIF3E',\n",
       " 'EIF3F',\n",
       " 'EIF3H',\n",
       " 'EIF4E2',\n",
       " 'EIF4G2',\n",
       " 'EIPR1',\n",
       " 'ELOB',\n",
       " 'EP400',\n",
       " 'FAF1',\n",
       " 'FAM120A',\n",
       " 'FAM208A',\n",
       " 'GCC1',\n",
       " 'GET4',\n",
       " 'GRIPAP1',\n",
       " 'GSK3A',\n",
       " 'GTPBP1',\n",
       " 'HCFC1',\n",
       " 'HDAC3',\n",
       " 'HEATR5B',\n",
       " 'HERC1',\n",
       " 'HGS',\n",
       " 'HNRNPA2B1',\n",
       " 'HNRNPH1',\n",
       " 'HNRNPH2',\n",
       " 'HPS3',\n",
       " 'ING3',\n",
       " 'INO80',\n",
       " 'INTS11',\n",
       " 'INTS4',\n",
       " 'IPO13',\n",
       " 'KDM5A',\n",
       " 'KIF5B',\n",
       " 'KMT2D',\n",
       " 'KPNA6',\n",
       " 'KPNB1',\n",
       " 'LENG8',\n",
       " 'LRRC47',\n",
       " 'MAD1L1',\n",
       " 'MAP2K2',\n",
       " 'MARF1',\n",
       " 'MAT2A',\n",
       " 'MAT2B',\n",
       " 'MCM3AP',\n",
       " 'METTL3',\n",
       " 'MIB1',\n",
       " 'MIOS',\n",
       " 'MKLN1',\n",
       " 'MTOR',\n",
       " 'MYD88',\n",
       " 'NAE1',\n",
       " 'NBAS',\n",
       " 'NCDN',\n",
       " 'NCOR1',\n",
       " 'NEDD8-MDP1',\n",
       " 'NFRKB',\n",
       " 'NUP107',\n",
       " 'NUP133',\n",
       " 'NUP58',\n",
       " 'OGT',\n",
       " 'OSBP',\n",
       " 'OSBPL9',\n",
       " 'OTUD4',\n",
       " 'PCBP1',\n",
       " 'PCIF1',\n",
       " 'PDS5B',\n",
       " 'PHRF1',\n",
       " 'PIK3C3',\n",
       " 'PIK3R4',\n",
       " 'PIKFYVE',\n",
       " 'POLR2A',\n",
       " 'POLR2B',\n",
       " 'POLR2C',\n",
       " 'POLR2D',\n",
       " 'POLR2G',\n",
       " 'PPIP5K2',\n",
       " 'PPM1B',\n",
       " 'PPP1CA',\n",
       " 'PPP1R8',\n",
       " 'PPP2CB',\n",
       " 'PPP2R1A',\n",
       " 'PPP2R5D',\n",
       " 'PPP2R5E',\n",
       " 'PPP5C',\n",
       " 'PPP6C',\n",
       " 'PPWD1',\n",
       " 'PRPF39',\n",
       " 'PSMA1',\n",
       " 'PSMA2',\n",
       " 'PSMA3',\n",
       " 'PSMA4',\n",
       " 'PSMA5',\n",
       " 'PSMA6',\n",
       " 'PSMA7',\n",
       " 'PSMB1',\n",
       " 'PSMB3',\n",
       " 'PSMB4',\n",
       " 'PSMC2',\n",
       " 'PSMC3',\n",
       " 'PSMC4',\n",
       " 'PSMC5',\n",
       " 'PSMC6',\n",
       " 'PSMD1',\n",
       " 'PSMD11',\n",
       " 'PSMD13',\n",
       " 'PSMD14',\n",
       " 'PSMD3',\n",
       " 'PTBP1',\n",
       " 'QARS',\n",
       " 'QRICH1',\n",
       " 'RAB3GAP1',\n",
       " 'RAB3GAP2',\n",
       " 'RAB5C',\n",
       " 'RABGEF1',\n",
       " 'RAD21',\n",
       " 'RAF1',\n",
       " 'RALBP1',\n",
       " 'RANBP9',\n",
       " 'RAVER1',\n",
       " 'RBM15B',\n",
       " 'RBM5',\n",
       " 'RC3H1',\n",
       " 'RELA',\n",
       " 'RFX1',\n",
       " 'RINT1',\n",
       " 'RIPK1',\n",
       " 'RMND5A',\n",
       " 'RNF40',\n",
       " 'RNPC3',\n",
       " 'RPTOR',\n",
       " 'RTCB',\n",
       " 'SAP130',\n",
       " 'SCAF8',\n",
       " 'SCFD2',\n",
       " 'SEC24B',\n",
       " 'SEC24C',\n",
       " 'SEH1L',\n",
       " 'SETD1A',\n",
       " 'SETD2',\n",
       " 'SHOC2',\n",
       " 'SIN3A',\n",
       " 'SKP1',\n",
       " 'SMG1',\n",
       " 'SMG9',\n",
       " 'SMU1',\n",
       " 'SNAPIN',\n",
       " 'SOS1',\n",
       " 'SPATA5',\n",
       " 'SPEN',\n",
       " 'SRSF1',\n",
       " 'SRSF10',\n",
       " 'STRIP1',\n",
       " 'STRN',\n",
       " 'STRN4',\n",
       " 'TAB1',\n",
       " 'TAF1',\n",
       " 'TAF4',\n",
       " 'TAF5',\n",
       " 'TAF6',\n",
       " 'TAF9B',\n",
       " 'TAOK1',\n",
       " 'TBC1D10B',\n",
       " 'TBC1D15',\n",
       " 'TBK1',\n",
       " 'TDRD3',\n",
       " 'TMEM189-UBE2V1',\n",
       " 'TRAPPC12',\n",
       " 'TRAPPC13',\n",
       " 'TRIM56',\n",
       " 'TRNAU1AP',\n",
       " 'TRRAP',\n",
       " 'TSG101',\n",
       " 'TUBB4B',\n",
       " 'TUBGCP2',\n",
       " 'UBA1',\n",
       " 'UBA3',\n",
       " 'UBE2N',\n",
       " 'UBL4A',\n",
       " 'UBR2',\n",
       " 'UBR4',\n",
       " 'UHRF1BP1L',\n",
       " 'USP16',\n",
       " 'USP19',\n",
       " 'USP24',\n",
       " 'USP8',\n",
       " 'USP9X',\n",
       " 'VCPIP1',\n",
       " 'VPS13B',\n",
       " 'VPS28',\n",
       " 'VPS51',\n",
       " 'VPS53',\n",
       " 'WAC',\n",
       " 'WAPL',\n",
       " 'WDR26',\n",
       " 'WDR59',\n",
       " 'WDR61',\n",
       " 'WDR82',\n",
       " 'XIAP',\n",
       " 'ZC3H7A',\n",
       " 'ZMIZ1',\n",
       " 'ZSWIM8']"
      ]
     },
     "execution_count": 58,
     "metadata": {},
     "output_type": "execute_result"
    }
   ],
   "source": [
    "added_prot_list = list(added_prot.Name)\n",
    "added_prot_list"
   ]
  },
  {
   "cell_type": "code",
   "execution_count": 55,
   "metadata": {},
   "outputs": [
    {
     "name": "stdout",
     "output_type": "stream",
     "text": [
      "test gene:  ABRAXAS2\n",
      "should show key error, none are in the columns for lscc v1.0\n"
     ]
    },
    {
     "name": "stderr",
     "output_type": "stream",
     "text": [
      "cptac warning: Due to dropping the specified levels, dataframe now has 830 duplicated column headers. (C:\\Users\\brittany henderson\\Anaconda3\\envs\\Research\\lib\\site-packages\\ipykernel_launcher.py, line 3)\n"
     ]
    },
    {
     "ename": "KeyError",
     "evalue": "\"None of [Index(['ABRAXAS2', 'ACTR8', 'AFTPH', 'AKAP9', 'ANAPC1', 'ANAPC4', 'ANAPC5',\\n       'ANKHD1-EIF4EBP3', 'AP1G1', 'AP3B1',\\n       ...\\n       'WAC', 'WAPL', 'WDR26', 'WDR59', 'WDR61', 'WDR82', 'XIAP', 'ZC3H7A',\\n       'ZMIZ1', 'ZSWIM8'],\\n      dtype='object', name='Name', length=265)] are in the [columns]\"",
     "output_type": "error",
     "traceback": [
      "\u001b[1;31m---------------------------------------------------------------------------\u001b[0m",
      "\u001b[1;31mKeyError\u001b[0m                                  Traceback (most recent call last)",
      "\u001b[1;32m<ipython-input-55-9cadb8398745>\u001b[0m in \u001b[0;36m<module>\u001b[1;34m\u001b[0m\n\u001b[0;32m      6\u001b[0m \u001b[1;33m\u001b[0m\u001b[0m\n\u001b[0;32m      7\u001b[0m \u001b[0mprint\u001b[0m\u001b[1;33m(\u001b[0m\u001b[1;34m'should show key error, none are in the columns for lscc v1.0'\u001b[0m\u001b[1;33m)\u001b[0m\u001b[1;33m\u001b[0m\u001b[1;33m\u001b[0m\u001b[0m\n\u001b[1;32m----> 8\u001b[1;33m \u001b[0mls_prot_v1\u001b[0m\u001b[1;33m.\u001b[0m\u001b[0mloc\u001b[0m\u001b[1;33m[\u001b[0m\u001b[1;33m:\u001b[0m\u001b[1;33m,\u001b[0m \u001b[0madded_prot_list\u001b[0m\u001b[1;33m]\u001b[0m\u001b[1;33m\u001b[0m\u001b[1;33m\u001b[0m\u001b[0m\n\u001b[0m",
      "\u001b[1;32m~\\Anaconda3\\envs\\Research\\lib\\site-packages\\pandas\\core\\indexing.py\u001b[0m in \u001b[0;36m__getitem__\u001b[1;34m(self, key)\u001b[0m\n\u001b[0;32m   1759\u001b[0m                 \u001b[1;32mexcept\u001b[0m \u001b[1;33m(\u001b[0m\u001b[0mKeyError\u001b[0m\u001b[1;33m,\u001b[0m \u001b[0mIndexError\u001b[0m\u001b[1;33m,\u001b[0m \u001b[0mAttributeError\u001b[0m\u001b[1;33m)\u001b[0m\u001b[1;33m:\u001b[0m\u001b[1;33m\u001b[0m\u001b[1;33m\u001b[0m\u001b[0m\n\u001b[0;32m   1760\u001b[0m                     \u001b[1;32mpass\u001b[0m\u001b[1;33m\u001b[0m\u001b[1;33m\u001b[0m\u001b[0m\n\u001b[1;32m-> 1761\u001b[1;33m             \u001b[1;32mreturn\u001b[0m \u001b[0mself\u001b[0m\u001b[1;33m.\u001b[0m\u001b[0m_getitem_tuple\u001b[0m\u001b[1;33m(\u001b[0m\u001b[0mkey\u001b[0m\u001b[1;33m)\u001b[0m\u001b[1;33m\u001b[0m\u001b[1;33m\u001b[0m\u001b[0m\n\u001b[0m\u001b[0;32m   1762\u001b[0m         \u001b[1;32melse\u001b[0m\u001b[1;33m:\u001b[0m\u001b[1;33m\u001b[0m\u001b[1;33m\u001b[0m\u001b[0m\n\u001b[0;32m   1763\u001b[0m             \u001b[1;31m# we by definition only have the 0th axis\u001b[0m\u001b[1;33m\u001b[0m\u001b[1;33m\u001b[0m\u001b[1;33m\u001b[0m\u001b[0m\n",
      "\u001b[1;32m~\\Anaconda3\\envs\\Research\\lib\\site-packages\\pandas\\core\\indexing.py\u001b[0m in \u001b[0;36m_getitem_tuple\u001b[1;34m(self, tup)\u001b[0m\n\u001b[0;32m   1286\u001b[0m                 \u001b[1;32mcontinue\u001b[0m\u001b[1;33m\u001b[0m\u001b[1;33m\u001b[0m\u001b[0m\n\u001b[0;32m   1287\u001b[0m \u001b[1;33m\u001b[0m\u001b[0m\n\u001b[1;32m-> 1288\u001b[1;33m             \u001b[0mretval\u001b[0m \u001b[1;33m=\u001b[0m \u001b[0mgetattr\u001b[0m\u001b[1;33m(\u001b[0m\u001b[0mretval\u001b[0m\u001b[1;33m,\u001b[0m \u001b[0mself\u001b[0m\u001b[1;33m.\u001b[0m\u001b[0mname\u001b[0m\u001b[1;33m)\u001b[0m\u001b[1;33m.\u001b[0m\u001b[0m_getitem_axis\u001b[0m\u001b[1;33m(\u001b[0m\u001b[0mkey\u001b[0m\u001b[1;33m,\u001b[0m \u001b[0maxis\u001b[0m\u001b[1;33m=\u001b[0m\u001b[0mi\u001b[0m\u001b[1;33m)\u001b[0m\u001b[1;33m\u001b[0m\u001b[1;33m\u001b[0m\u001b[0m\n\u001b[0m\u001b[0;32m   1289\u001b[0m \u001b[1;33m\u001b[0m\u001b[0m\n\u001b[0;32m   1290\u001b[0m         \u001b[1;32mreturn\u001b[0m \u001b[0mretval\u001b[0m\u001b[1;33m\u001b[0m\u001b[1;33m\u001b[0m\u001b[0m\n",
      "\u001b[1;32m~\\Anaconda3\\envs\\Research\\lib\\site-packages\\pandas\\core\\indexing.py\u001b[0m in \u001b[0;36m_getitem_axis\u001b[1;34m(self, key, axis)\u001b[0m\n\u001b[0;32m   1951\u001b[0m                     \u001b[1;32mraise\u001b[0m \u001b[0mValueError\u001b[0m\u001b[1;33m(\u001b[0m\u001b[1;34m\"Cannot index with multidimensional key\"\u001b[0m\u001b[1;33m)\u001b[0m\u001b[1;33m\u001b[0m\u001b[1;33m\u001b[0m\u001b[0m\n\u001b[0;32m   1952\u001b[0m \u001b[1;33m\u001b[0m\u001b[0m\n\u001b[1;32m-> 1953\u001b[1;33m                 \u001b[1;32mreturn\u001b[0m \u001b[0mself\u001b[0m\u001b[1;33m.\u001b[0m\u001b[0m_getitem_iterable\u001b[0m\u001b[1;33m(\u001b[0m\u001b[0mkey\u001b[0m\u001b[1;33m,\u001b[0m \u001b[0maxis\u001b[0m\u001b[1;33m=\u001b[0m\u001b[0maxis\u001b[0m\u001b[1;33m)\u001b[0m\u001b[1;33m\u001b[0m\u001b[1;33m\u001b[0m\u001b[0m\n\u001b[0m\u001b[0;32m   1954\u001b[0m \u001b[1;33m\u001b[0m\u001b[0m\n\u001b[0;32m   1955\u001b[0m             \u001b[1;31m# nested tuple slicing\u001b[0m\u001b[1;33m\u001b[0m\u001b[1;33m\u001b[0m\u001b[1;33m\u001b[0m\u001b[0m\n",
      "\u001b[1;32m~\\Anaconda3\\envs\\Research\\lib\\site-packages\\pandas\\core\\indexing.py\u001b[0m in \u001b[0;36m_getitem_iterable\u001b[1;34m(self, key, axis)\u001b[0m\n\u001b[0;32m   1592\u001b[0m         \u001b[1;32melse\u001b[0m\u001b[1;33m:\u001b[0m\u001b[1;33m\u001b[0m\u001b[1;33m\u001b[0m\u001b[0m\n\u001b[0;32m   1593\u001b[0m             \u001b[1;31m# A collection of keys\u001b[0m\u001b[1;33m\u001b[0m\u001b[1;33m\u001b[0m\u001b[1;33m\u001b[0m\u001b[0m\n\u001b[1;32m-> 1594\u001b[1;33m             \u001b[0mkeyarr\u001b[0m\u001b[1;33m,\u001b[0m \u001b[0mindexer\u001b[0m \u001b[1;33m=\u001b[0m \u001b[0mself\u001b[0m\u001b[1;33m.\u001b[0m\u001b[0m_get_listlike_indexer\u001b[0m\u001b[1;33m(\u001b[0m\u001b[0mkey\u001b[0m\u001b[1;33m,\u001b[0m \u001b[0maxis\u001b[0m\u001b[1;33m,\u001b[0m \u001b[0mraise_missing\u001b[0m\u001b[1;33m=\u001b[0m\u001b[1;32mFalse\u001b[0m\u001b[1;33m)\u001b[0m\u001b[1;33m\u001b[0m\u001b[1;33m\u001b[0m\u001b[0m\n\u001b[0m\u001b[0;32m   1595\u001b[0m             return self.obj._reindex_with_indexers(\n\u001b[0;32m   1596\u001b[0m                 \u001b[1;33m{\u001b[0m\u001b[0maxis\u001b[0m\u001b[1;33m:\u001b[0m \u001b[1;33m[\u001b[0m\u001b[0mkeyarr\u001b[0m\u001b[1;33m,\u001b[0m \u001b[0mindexer\u001b[0m\u001b[1;33m]\u001b[0m\u001b[1;33m}\u001b[0m\u001b[1;33m,\u001b[0m \u001b[0mcopy\u001b[0m\u001b[1;33m=\u001b[0m\u001b[1;32mTrue\u001b[0m\u001b[1;33m,\u001b[0m \u001b[0mallow_dups\u001b[0m\u001b[1;33m=\u001b[0m\u001b[1;32mTrue\u001b[0m\u001b[1;33m\u001b[0m\u001b[1;33m\u001b[0m\u001b[0m\n",
      "\u001b[1;32m~\\Anaconda3\\envs\\Research\\lib\\site-packages\\pandas\\core\\indexing.py\u001b[0m in \u001b[0;36m_get_listlike_indexer\u001b[1;34m(self, key, axis, raise_missing)\u001b[0m\n\u001b[0;32m   1550\u001b[0m \u001b[1;33m\u001b[0m\u001b[0m\n\u001b[0;32m   1551\u001b[0m         self._validate_read_indexer(\n\u001b[1;32m-> 1552\u001b[1;33m             \u001b[0mkeyarr\u001b[0m\u001b[1;33m,\u001b[0m \u001b[0mindexer\u001b[0m\u001b[1;33m,\u001b[0m \u001b[0mo\u001b[0m\u001b[1;33m.\u001b[0m\u001b[0m_get_axis_number\u001b[0m\u001b[1;33m(\u001b[0m\u001b[0maxis\u001b[0m\u001b[1;33m)\u001b[0m\u001b[1;33m,\u001b[0m \u001b[0mraise_missing\u001b[0m\u001b[1;33m=\u001b[0m\u001b[0mraise_missing\u001b[0m\u001b[1;33m\u001b[0m\u001b[1;33m\u001b[0m\u001b[0m\n\u001b[0m\u001b[0;32m   1553\u001b[0m         )\n\u001b[0;32m   1554\u001b[0m         \u001b[1;32mreturn\u001b[0m \u001b[0mkeyarr\u001b[0m\u001b[1;33m,\u001b[0m \u001b[0mindexer\u001b[0m\u001b[1;33m\u001b[0m\u001b[1;33m\u001b[0m\u001b[0m\n",
      "\u001b[1;32m~\\Anaconda3\\envs\\Research\\lib\\site-packages\\pandas\\core\\indexing.py\u001b[0m in \u001b[0;36m_validate_read_indexer\u001b[1;34m(self, key, indexer, axis, raise_missing)\u001b[0m\n\u001b[0;32m   1637\u001b[0m             \u001b[1;32mif\u001b[0m \u001b[0mmissing\u001b[0m \u001b[1;33m==\u001b[0m \u001b[0mlen\u001b[0m\u001b[1;33m(\u001b[0m\u001b[0mindexer\u001b[0m\u001b[1;33m)\u001b[0m\u001b[1;33m:\u001b[0m\u001b[1;33m\u001b[0m\u001b[1;33m\u001b[0m\u001b[0m\n\u001b[0;32m   1638\u001b[0m                 \u001b[0maxis_name\u001b[0m \u001b[1;33m=\u001b[0m \u001b[0mself\u001b[0m\u001b[1;33m.\u001b[0m\u001b[0mobj\u001b[0m\u001b[1;33m.\u001b[0m\u001b[0m_get_axis_name\u001b[0m\u001b[1;33m(\u001b[0m\u001b[0maxis\u001b[0m\u001b[1;33m)\u001b[0m\u001b[1;33m\u001b[0m\u001b[1;33m\u001b[0m\u001b[0m\n\u001b[1;32m-> 1639\u001b[1;33m                 \u001b[1;32mraise\u001b[0m \u001b[0mKeyError\u001b[0m\u001b[1;33m(\u001b[0m\u001b[1;34mf\"None of [{key}] are in the [{axis_name}]\"\u001b[0m\u001b[1;33m)\u001b[0m\u001b[1;33m\u001b[0m\u001b[1;33m\u001b[0m\u001b[0m\n\u001b[0m\u001b[0;32m   1640\u001b[0m \u001b[1;33m\u001b[0m\u001b[0m\n\u001b[0;32m   1641\u001b[0m             \u001b[1;31m# We (temporarily) allow for some missing keys with .loc, except in\u001b[0m\u001b[1;33m\u001b[0m\u001b[1;33m\u001b[0m\u001b[1;33m\u001b[0m\u001b[0m\n",
      "\u001b[1;31mKeyError\u001b[0m: \"None of [Index(['ABRAXAS2', 'ACTR8', 'AFTPH', 'AKAP9', 'ANAPC1', 'ANAPC4', 'ANAPC5',\\n       'ANKHD1-EIF4EBP3', 'AP1G1', 'AP3B1',\\n       ...\\n       'WAC', 'WAPL', 'WDR26', 'WDR59', 'WDR61', 'WDR82', 'XIAP', 'ZC3H7A',\\n       'ZMIZ1', 'ZSWIM8'],\\n      dtype='object', name='Name', length=265)] are in the [columns]\""
     ]
    }
   ],
   "source": [
    "# Check if protein in earlier version 1.0\n",
    "ls_prot_v1 = ls_v1.get_proteomics()\n",
    "ls_prot_v1 = u.reduce_multiindex(ls_prot_v1, levels_to_drop = 1)\n",
    "test_gene = added_prot_list[0]\n",
    "print('test gene: ', test_gene)\n",
    "\n",
    "print('should show key error, none are in the columns for lscc v1.0')\n",
    "ls_prot_v1.loc[:, added_prot_list] "
   ]
  },
  {
   "cell_type": "code",
   "execution_count": null,
   "metadata": {},
   "outputs": [],
   "source": []
  }
 ],
 "metadata": {
  "kernelspec": {
   "display_name": "Python 3",
   "language": "python",
   "name": "python3"
  },
  "language_info": {
   "codemirror_mode": {
    "name": "ipython",
    "version": 3
   },
   "file_extension": ".py",
   "mimetype": "text/x-python",
   "name": "python",
   "nbconvert_exporter": "python",
   "pygments_lexer": "ipython3",
   "version": "3.7.3"
  }
 },
 "nbformat": 4,
 "nbformat_minor": 2
}
