{
 "cells": [
  {
   "cell_type": "markdown",
   "metadata": {},
   "source": [
    "# T-tests and boxplots of truncations in domains of PTEN in Endometrial "
   ]
  },
  {
   "cell_type": "markdown",
   "metadata": {},
   "source": [
    "This notebook creates a boxplot for the cis effect of PTEN truncations in the phosphatase domain and the C2 domain in Endometrial."
   ]
  },
  {
   "cell_type": "markdown",
   "metadata": {},
   "source": [
    "Imports"
   ]
  },
  {
   "cell_type": "code",
   "execution_count": 1,
   "metadata": {},
   "outputs": [],
   "source": [
    "import pandas as pd\n",
    "import numpy as np\n",
    "import seaborn as sns\n",
    "import matplotlib.pyplot as plt\n",
    "import scipy.stats\n",
    "import gseapy as gp\n",
    "import re\n",
    "import sys \n",
    "\n",
    "import cptac\n",
    "import cptac.utils as u\n",
    "\n",
    "import plot_utils as p"
   ]
  },
  {
   "cell_type": "code",
   "execution_count": 24,
   "metadata": {},
   "outputs": [],
   "source": [
    "# Step 1 - Create proteomics and truncations dataframe\n",
    "\n",
    "def get_trunc_df(trunc_type, gene='PTEN'):\n",
    "    prot_and_mutations = en.join_omics_to_mutations(\n",
    "        mutations_genes = [gene], omics_df_name = 'proteomics', omics_genes = gene, \n",
    "        mutations_filter = [trunc_type]) \n",
    "    keep = [trunc_type,'Wildtype_Tumor']\n",
    "    in_keep = prot_and_mutations['PTEN_Mutation'].isin(keep)\n",
    "    trunc_mutations = prot_and_mutations[in_keep]\n",
    "    print(trunc_mutations['PTEN_Mutation'].value_counts())\n",
    "\n",
    "    # Step 2 - Create binary column \n",
    "    trunc_mutations['Mutation'] = np.where(\n",
    "                trunc_mutations[gene+'_Mutation_Status'] == 'Wildtype_Tumor', 'Wildtype_Tumor', trunc_type)\n",
    "\n",
    "    # Step 3 - Format the dataframe correctly for the t-test(just omics and binary columns for tumors)\n",
    "    tumors = trunc_mutations[trunc_mutations.Sample_Status == 'Tumor'] #drop Normal samples\n",
    "    columns_to_drop = [gene+\"_Mutation\", gene+\"_Mutation_Status\", \"Sample_Status\"]\n",
    "    e_trunc_wt = tumors.drop(columns_to_drop, axis = 1)\n",
    "    return e_trunc_wt"
   ]
  },
  {
   "cell_type": "code",
   "execution_count": 2,
   "metadata": {},
   "outputs": [],
   "source": [
    "def format_pval_annotation(pval_symbol, x1, x2, line_start = .05, line_height=.05):\n",
    "    # for manual adjustment to pval annotations\n",
    "    \n",
    "    y, h = line_start, line_height\n",
    "    plt.plot([x1, x1, x2, x2], #draw horizontal line\n",
    "             [y, y+h, y+h, y], #vertical line\n",
    "             lw=1.5, color= '.3')\n",
    "    plt.text((x1+x2)*.5, # half between x coord\n",
    "             y+h, pval_symbol, horizontalalignment='center', verticalalignment='bottom', color = \"black\")\n"
   ]
  },
  {
   "cell_type": "markdown",
   "metadata": {},
   "source": [
    "# Step 1: Create data frames with PTEN truncations mutation in a certain domain "
   ]
  },
  {
   "cell_type": "markdown",
   "metadata": {},
   "source": [
    "First, load in cancer data sets from cptac."
   ]
  },
  {
   "cell_type": "code",
   "execution_count": 3,
   "metadata": {},
   "outputs": [
    {
     "name": "stdout",
     "output_type": "stream",
     "text": [
      "                                                \r"
     ]
    }
   ],
   "source": [
    "en = cptac.Endometrial()"
   ]
  },
  {
   "cell_type": "markdown",
   "metadata": {},
   "source": [
    "# Create the df for Nonsense Mutations in the Phosphatase Domain"
   ]
  },
  {
   "cell_type": "code",
   "execution_count": 20,
   "metadata": {},
   "outputs": [
    {
     "name": "stdout",
     "output_type": "stream",
     "text": [
      "Nonsense_Mutation    25\n",
      "Wildtype_Tumor       20\n",
      "Name: PTEN_Mutation, dtype: int64\n"
     ]
    },
    {
     "name": "stderr",
     "output_type": "stream",
     "text": [
      "cptac warning: In joining the somatic_mutation table, no mutations were found for the following samples, so they were filled with Wildtype_Tumor or Wildtype_Normal: 69 samples for the PTEN gene (C:\\Users\\brittany henderson\\Anaconda3\\envs\\Research\\lib\\site-packages\\ipykernel_launcher.py, line 7)\n",
      "C:\\Users\\brittany henderson\\Anaconda3\\envs\\Research\\lib\\site-packages\\ipykernel_launcher.py:15: SettingWithCopyWarning: \n",
      "A value is trying to be set on a copy of a slice from a DataFrame.\n",
      "Try using .loc[row_indexer,col_indexer] = value instead\n",
      "\n",
      "See the caveats in the documentation: https://pandas.pydata.org/pandas-docs/stable/user_guide/indexing.html#returning-a-view-versus-a-copy\n",
      "  from ipykernel import kernelapp as app\n"
     ]
    }
   ],
   "source": [
    "ns = get_trunc_df('Nonsense_Mutation') # df with wt and nonsense mut"
   ]
  },
  {
   "cell_type": "markdown",
   "metadata": {},
   "source": [
    "Create a df with only PTEN Wildtype_Tumor."
   ]
  },
  {
   "cell_type": "markdown",
   "metadata": {},
   "source": [
    "Create a df with only mutations located in the phosphatase domain. (Both domains effected by the mutation)."
   ]
  },
  {
   "cell_type": "code",
   "execution_count": 21,
   "metadata": {},
   "outputs": [],
   "source": [
    "wt = ns.loc[ns['Mutation'] == 'Wildtype_Tumor']"
   ]
  },
  {
   "cell_type": "code",
   "execution_count": 23,
   "metadata": {},
   "outputs": [
    {
     "data": {
      "text/html": [
       "<div>\n",
       "<style scoped>\n",
       "    .dataframe tbody tr th:only-of-type {\n",
       "        vertical-align: middle;\n",
       "    }\n",
       "\n",
       "    .dataframe tbody tr th {\n",
       "        vertical-align: top;\n",
       "    }\n",
       "\n",
       "    .dataframe thead th {\n",
       "        text-align: right;\n",
       "    }\n",
       "</style>\n",
       "<table border=\"1\" class=\"dataframe\">\n",
       "  <thead>\n",
       "    <tr style=\"text-align: right;\">\n",
       "      <th></th>\n",
       "      <th>PTEN_proteomics</th>\n",
       "      <th>PTEN_Location</th>\n",
       "      <th>Mutation</th>\n",
       "      <th>aa</th>\n",
       "    </tr>\n",
       "    <tr>\n",
       "      <th>Patient_ID</th>\n",
       "      <th></th>\n",
       "      <th></th>\n",
       "      <th></th>\n",
       "      <th></th>\n",
       "    </tr>\n",
       "  </thead>\n",
       "  <tbody>\n",
       "    <tr>\n",
       "      <th>C3L-00032</th>\n",
       "      <td>-0.941</td>\n",
       "      <td>p.W111*</td>\n",
       "      <td>Nonsense_Mutation</td>\n",
       "      <td>111.0</td>\n",
       "    </tr>\n",
       "    <tr>\n",
       "      <th>C3L-00137</th>\n",
       "      <td>-1.010</td>\n",
       "      <td>p.Y180*</td>\n",
       "      <td>Nonsense_Mutation</td>\n",
       "      <td>180.0</td>\n",
       "    </tr>\n",
       "    <tr>\n",
       "      <th>C3L-00156</th>\n",
       "      <td>-1.590</td>\n",
       "      <td>p.E7*</td>\n",
       "      <td>Nonsense_Mutation</td>\n",
       "      <td>7.0</td>\n",
       "    </tr>\n",
       "    <tr>\n",
       "      <th>C3L-00586</th>\n",
       "      <td>-1.210</td>\n",
       "      <td>p.E7*</td>\n",
       "      <td>Nonsense_Mutation</td>\n",
       "      <td>7.0</td>\n",
       "    </tr>\n",
       "    <tr>\n",
       "      <th>C3L-00601</th>\n",
       "      <td>-1.180</td>\n",
       "      <td>p.E7*</td>\n",
       "      <td>Nonsense_Mutation</td>\n",
       "      <td>7.0</td>\n",
       "    </tr>\n",
       "  </tbody>\n",
       "</table>\n",
       "</div>"
      ],
      "text/plain": [
       "            PTEN_proteomics PTEN_Location           Mutation     aa\n",
       "Patient_ID                                                         \n",
       "C3L-00032            -0.941       p.W111*  Nonsense_Mutation  111.0\n",
       "C3L-00137            -1.010       p.Y180*  Nonsense_Mutation  180.0\n",
       "C3L-00156            -1.590         p.E7*  Nonsense_Mutation    7.0\n",
       "C3L-00586            -1.210         p.E7*  Nonsense_Mutation    7.0\n",
       "C3L-00601            -1.180         p.E7*  Nonsense_Mutation    7.0"
      ]
     },
     "execution_count": 23,
     "metadata": {},
     "output_type": "execute_result"
    }
   ],
   "source": [
    "# create new column with starting amino acid (aa) as an int\n",
    "ns['aa'] = ns.apply(lambda x: (x['PTEN_Location']), axis=1)\n",
    "df = ns.loc[ns['Mutation'] == 'Nonsense_Mutation']\n",
    "df1 = df.replace({'aa': r'^p.[A-Z]*'}, {'aa': ''}, regex=True)\n",
    "df2 = df1.replace({'aa': r'\\*$'}, {'aa': ''}, regex=True)\n",
    "df2['aa'] = pd.to_numeric(df2[\"aa\"])\n",
    "\n",
    "# Keep only mutations in the domain (cutoff aa = 185)\n",
    "df_p = df2.loc[df2['aa'] <= 185]\n",
    "\n",
    "# Merge wt and df with mutations in domain\n",
    "p_wt = df_p.append(wt)\n",
    "p_wt.head()"
   ]
  },
  {
   "cell_type": "markdown",
   "metadata": {},
   "source": [
    "# Step 2: T-test "
   ]
  },
  {
   "cell_type": "code",
   "execution_count": 12,
   "metadata": {},
   "outputs": [
    {
     "data": {
      "text/html": [
       "<div>\n",
       "<style scoped>\n",
       "    .dataframe tbody tr th:only-of-type {\n",
       "        vertical-align: middle;\n",
       "    }\n",
       "\n",
       "    .dataframe tbody tr th {\n",
       "        vertical-align: top;\n",
       "    }\n",
       "\n",
       "    .dataframe thead th {\n",
       "        text-align: right;\n",
       "    }\n",
       "</style>\n",
       "<table border=\"1\" class=\"dataframe\">\n",
       "  <thead>\n",
       "    <tr style=\"text-align: right;\">\n",
       "      <th></th>\n",
       "      <th>Comparison</th>\n",
       "      <th>P_Value</th>\n",
       "    </tr>\n",
       "  </thead>\n",
       "  <tbody>\n",
       "    <tr>\n",
       "      <th>0</th>\n",
       "      <td>PTEN_proteomics</td>\n",
       "      <td>0.000092</td>\n",
       "    </tr>\n",
       "  </tbody>\n",
       "</table>\n",
       "</div>"
      ],
      "text/plain": [
       "        Comparison   P_Value\n",
       "0  PTEN_proteomics  0.000092"
      ]
     },
     "execution_count": 12,
     "metadata": {},
     "output_type": "execute_result"
    }
   ],
   "source": [
    "# T-test\n",
    "cols = ['PTEN_proteomics']\n",
    "trunc_in_phos_pval = u.wrap_ttest(p_wt, 'Mutation', cols, return_all = True)\n",
    "trunc_in_phos_pval"
   ]
  },
  {
   "cell_type": "markdown",
   "metadata": {},
   "source": [
    "# Step 3: Plot"
   ]
  },
  {
   "cell_type": "code",
   "execution_count": 15,
   "metadata": {},
   "outputs": [
    {
     "data": {
      "image/png": "[encoded data removed]",
      "text/plain": [
       "<Figure size 576x360 with 1 Axes>"
      ]
     },
     "metadata": {},
     "output_type": "display_data"
    }
   ],
   "source": [
    "gene = 'PTEN'\n",
    "plt.rcParams['figure.figsize']=(8,5) #size of plot\n",
    "sns.set(font_scale = 1.2)\n",
    "\n",
    "boxplot = sns.boxplot(x='Mutation', y=gene+\"_proteomics\", data = p_wt, \n",
    "                      order=['Wildtype_Tumor','Nonsense_Mutation'], showfliers = False)    \n",
    "boxplot.set_title('Pancancer cis effect of PTEN Truncations in Phosphatase Domain')\n",
    "boxplot = sns.stripplot(x='Mutation', y=gene+\"_proteomics\", data = p_wt,\n",
    "                         order=['Wildtype_Tumor','Nonsense_Mutation'], jitter = True, \n",
    "                         color = \".3\", dodge = True)\n",
    "boxplot.set(xlabel = \"\\nPTEN Wildtype/Truncation in Phosphatase Domain\", ylabel = gene+' Proteomics')\n",
    "\n",
    "# format legend\n",
    "handles, labels = boxplot.get_legend_handles_labels()\n",
    "plt.legend(handles[0:3], labels[0:3])\n",
    "\n",
    "# Create significance symbols:\n",
    "# * P ≤ 0.05   ** P ≤ 0.01   *** P ≤ 0.001 \n",
    "format_pval_annotation('***   p-val = 0.00009', 0, 1, 1)\n",
    "\n",
    "\n",
    "plt.show()\n",
    "plt.clf()\n",
    "plt.close()"
   ]
  },
  {
   "cell_type": "markdown",
   "metadata": {},
   "source": [
    "# Frame_Shift_Del"
   ]
  },
  {
   "cell_type": "code",
   "execution_count": 30,
   "metadata": {},
   "outputs": [
    {
     "name": "stdout",
     "output_type": "stream",
     "text": [
      "Frame_Shift_Del    24\n",
      "Wildtype_Tumor     20\n",
      "Name: PTEN_Mutation, dtype: int64\n"
     ]
    },
    {
     "name": "stderr",
     "output_type": "stream",
     "text": [
      "cptac warning: In joining the somatic_mutation table, no mutations were found for the following samples, so they were filled with Wildtype_Tumor or Wildtype_Normal: 69 samples for the PTEN gene (C:\\Users\\brittany henderson\\Anaconda3\\envs\\Research\\lib\\site-packages\\ipykernel_launcher.py, line 6)\n",
      "C:\\Users\\brittany henderson\\Anaconda3\\envs\\Research\\lib\\site-packages\\ipykernel_launcher.py:14: SettingWithCopyWarning: \n",
      "A value is trying to be set on a copy of a slice from a DataFrame.\n",
      "Try using .loc[row_indexer,col_indexer] = value instead\n",
      "\n",
      "See the caveats in the documentation: https://pandas.pydata.org/pandas-docs/stable/user_guide/indexing.html#returning-a-view-versus-a-copy\n",
      "  \n"
     ]
    }
   ],
   "source": [
    "fsd = get_trunc_df('Frame_Shift_Del') # df with wt and nonsense mut"
   ]
  },
  {
   "cell_type": "code",
   "execution_count": 42,
   "metadata": {},
   "outputs": [
    {
     "data": {
      "text/html": [
       "<div>\n",
       "<style scoped>\n",
       "    .dataframe tbody tr th:only-of-type {\n",
       "        vertical-align: middle;\n",
       "    }\n",
       "\n",
       "    .dataframe tbody tr th {\n",
       "        vertical-align: top;\n",
       "    }\n",
       "\n",
       "    .dataframe thead th {\n",
       "        text-align: right;\n",
       "    }\n",
       "</style>\n",
       "<table border=\"1\" class=\"dataframe\">\n",
       "  <thead>\n",
       "    <tr style=\"text-align: right;\">\n",
       "      <th>Name</th>\n",
       "      <th>PTEN_proteomics</th>\n",
       "      <th>PTEN_Location</th>\n",
       "      <th>Mutation</th>\n",
       "      <th>aa</th>\n",
       "    </tr>\n",
       "    <tr>\n",
       "      <th>Patient_ID</th>\n",
       "      <th></th>\n",
       "      <th></th>\n",
       "      <th></th>\n",
       "      <th></th>\n",
       "    </tr>\n",
       "  </thead>\n",
       "  <tbody>\n",
       "    <tr>\n",
       "      <th>C3L-00161</th>\n",
       "      <td>-1.040</td>\n",
       "      <td>p.K267Rfs*9</td>\n",
       "      <td>Frame_Shift_Del</td>\n",
       "      <td>267</td>\n",
       "    </tr>\n",
       "    <tr>\n",
       "      <th>C3L-00413</th>\n",
       "      <td>-1.700</td>\n",
       "      <td>p.N262Qfs*35</td>\n",
       "      <td>Frame_Shift_Del</td>\n",
       "      <td>262</td>\n",
       "    </tr>\n",
       "    <tr>\n",
       "      <th>C3L-00767</th>\n",
       "      <td>-1.110</td>\n",
       "      <td>p.T321Kfs*22</td>\n",
       "      <td>Frame_Shift_Del</td>\n",
       "      <td>321</td>\n",
       "    </tr>\n",
       "    <tr>\n",
       "      <th>C3L-00769</th>\n",
       "      <td>-0.219</td>\n",
       "      <td>p.N12Tfs*12</td>\n",
       "      <td>Frame_Shift_Del</td>\n",
       "      <td>12</td>\n",
       "    </tr>\n",
       "    <tr>\n",
       "      <th>C3L-00780</th>\n",
       "      <td>0.291</td>\n",
       "      <td>p.G293Efs*14</td>\n",
       "      <td>Frame_Shift_Del</td>\n",
       "      <td>293</td>\n",
       "    </tr>\n",
       "  </tbody>\n",
       "</table>\n",
       "</div>"
      ],
      "text/plain": [
       "Name        PTEN_proteomics PTEN_Location         Mutation   aa\n",
       "Patient_ID                                                     \n",
       "C3L-00161            -1.040   p.K267Rfs*9  Frame_Shift_Del  267\n",
       "C3L-00413            -1.700  p.N262Qfs*35  Frame_Shift_Del  262\n",
       "C3L-00767            -1.110  p.T321Kfs*22  Frame_Shift_Del  321\n",
       "C3L-00769            -0.219   p.N12Tfs*12  Frame_Shift_Del   12\n",
       "C3L-00780             0.291  p.G293Efs*14  Frame_Shift_Del  293"
      ]
     },
     "execution_count": 42,
     "metadata": {},
     "output_type": "execute_result"
    }
   ],
   "source": [
    "# create new column with starting amino acid (aa) as an int\n",
    "fsd['aa'] = fsd.apply(lambda x: (x['PTEN_Location']), axis=1)\n",
    "df = fsd.loc[fsd['Mutation'] == 'Frame_Shift_Del']\n",
    "df1 = df.replace({'aa': r'^p.[A-Z]*'}, {'aa': ''}, regex=True)\n",
    "df2 = df1.replace({'aa': r'\\*$'}, {'aa': ''}, regex=True)\n",
    "df2 = df2.replace({'aa': r'[A-Z]fs\\*\\d*$'}, {'aa': ''}, regex=True)\n",
    "df2['aa'] = pd.to_numeric(df2[\"aa\"])\n",
    "df2.head()"
   ]
  },
  {
   "cell_type": "code",
   "execution_count": 43,
   "metadata": {},
   "outputs": [
    {
     "data": {
      "text/html": [
       "<div>\n",
       "<style scoped>\n",
       "    .dataframe tbody tr th:only-of-type {\n",
       "        vertical-align: middle;\n",
       "    }\n",
       "\n",
       "    .dataframe tbody tr th {\n",
       "        vertical-align: top;\n",
       "    }\n",
       "\n",
       "    .dataframe thead th {\n",
       "        text-align: right;\n",
       "    }\n",
       "</style>\n",
       "<table border=\"1\" class=\"dataframe\">\n",
       "  <thead>\n",
       "    <tr style=\"text-align: right;\">\n",
       "      <th></th>\n",
       "      <th>PTEN_proteomics</th>\n",
       "      <th>PTEN_Location</th>\n",
       "      <th>Mutation</th>\n",
       "      <th>aa</th>\n",
       "    </tr>\n",
       "    <tr>\n",
       "      <th>Patient_ID</th>\n",
       "      <th></th>\n",
       "      <th></th>\n",
       "      <th></th>\n",
       "      <th></th>\n",
       "    </tr>\n",
       "  </thead>\n",
       "  <tbody>\n",
       "    <tr>\n",
       "      <th>C3L-00161</th>\n",
       "      <td>-1.040</td>\n",
       "      <td>p.K267Rfs*9</td>\n",
       "      <td>Frame_Shift_Del</td>\n",
       "      <td>267.0</td>\n",
       "    </tr>\n",
       "    <tr>\n",
       "      <th>C3L-00413</th>\n",
       "      <td>-1.700</td>\n",
       "      <td>p.N262Qfs*35</td>\n",
       "      <td>Frame_Shift_Del</td>\n",
       "      <td>262.0</td>\n",
       "    </tr>\n",
       "    <tr>\n",
       "      <th>C3L-00767</th>\n",
       "      <td>-1.110</td>\n",
       "      <td>p.T321Kfs*22</td>\n",
       "      <td>Frame_Shift_Del</td>\n",
       "      <td>321.0</td>\n",
       "    </tr>\n",
       "    <tr>\n",
       "      <th>C3L-00780</th>\n",
       "      <td>0.291</td>\n",
       "      <td>p.G293Efs*14</td>\n",
       "      <td>Frame_Shift_Del</td>\n",
       "      <td>293.0</td>\n",
       "    </tr>\n",
       "    <tr>\n",
       "      <th>C3L-00781</th>\n",
       "      <td>-0.700</td>\n",
       "      <td>p.K267Rfs*9</td>\n",
       "      <td>Frame_Shift_Del</td>\n",
       "      <td>267.0</td>\n",
       "    </tr>\n",
       "  </tbody>\n",
       "</table>\n",
       "</div>"
      ],
      "text/plain": [
       "            PTEN_proteomics PTEN_Location         Mutation     aa\n",
       "Patient_ID                                                       \n",
       "C3L-00161            -1.040   p.K267Rfs*9  Frame_Shift_Del  267.0\n",
       "C3L-00413            -1.700  p.N262Qfs*35  Frame_Shift_Del  262.0\n",
       "C3L-00767            -1.110  p.T321Kfs*22  Frame_Shift_Del  321.0\n",
       "C3L-00780             0.291  p.G293Efs*14  Frame_Shift_Del  293.0\n",
       "C3L-00781            -0.700   p.K267Rfs*9  Frame_Shift_Del  267.0"
      ]
     },
     "execution_count": 43,
     "metadata": {},
     "output_type": "execute_result"
    }
   ],
   "source": [
    "# Keep only mutations in the domain (cutoff aa = 190)\n",
    "df_p = df2.loc[df2['aa'] >= 190]\n",
    "\n",
    "# Merge wt and df with mutations in domain\n",
    "p_wt = df_p.append(wt)\n",
    "p_wt.head()"
   ]
  },
  {
   "cell_type": "code",
   "execution_count": 44,
   "metadata": {},
   "outputs": [
    {
     "data": {
      "text/html": [
       "<div>\n",
       "<style scoped>\n",
       "    .dataframe tbody tr th:only-of-type {\n",
       "        vertical-align: middle;\n",
       "    }\n",
       "\n",
       "    .dataframe tbody tr th {\n",
       "        vertical-align: top;\n",
       "    }\n",
       "\n",
       "    .dataframe thead th {\n",
       "        text-align: right;\n",
       "    }\n",
       "</style>\n",
       "<table border=\"1\" class=\"dataframe\">\n",
       "  <thead>\n",
       "    <tr style=\"text-align: right;\">\n",
       "      <th></th>\n",
       "      <th>Comparison</th>\n",
       "      <th>P_Value</th>\n",
       "    </tr>\n",
       "  </thead>\n",
       "  <tbody>\n",
       "    <tr>\n",
       "      <th>0</th>\n",
       "      <td>PTEN_proteomics</td>\n",
       "      <td>0.005895</td>\n",
       "    </tr>\n",
       "  </tbody>\n",
       "</table>\n",
       "</div>"
      ],
      "text/plain": [
       "        Comparison   P_Value\n",
       "0  PTEN_proteomics  0.005895"
      ]
     },
     "execution_count": 44,
     "metadata": {},
     "output_type": "execute_result"
    }
   ],
   "source": [
    "# T-test\n",
    "cols = ['PTEN_proteomics']\n",
    "trunc_in_phos_pval = u.wrap_ttest(p_wt, 'Mutation', cols, return_all = True)\n",
    "trunc_in_phos_pval"
   ]
  },
  {
   "cell_type": "code",
   "execution_count": null,
   "metadata": {},
   "outputs": [],
   "source": [
    "plt.rcParams['figure.figsize']=(8,5) #size of plot\n",
    "sns.set(font_scale = 1.2)\n",
    "\n",
    "boxplot = sns.boxplot(x='Mutation', y=gene+\"_proteomics\", data = p_wt, \n",
    "                      order=['Wildtype_Tumor','Nonsense_Mutation'], showfliers = False)    \n",
    "boxplot.set_title('Pancancer cis effect of PTEN Truncations in Phosphatase Domain')\n",
    "boxplot = sns.stripplot(x='Mutation', y=gene+\"_proteomics\", data = p_wt,\n",
    "                         order=['Wildtype_Tumor','Nonsense_Mutation'], jitter = True, \n",
    "                         color = \".3\", dodge = True)\n",
    "boxplot.set(xlabel = \"\\nPTEN Wildtype/Truncation in Phosphatase Domain\", ylabel = gene+' Proteomics')\n",
    "\n",
    "# format legend\n",
    "handles, labels = boxplot.get_legend_handles_labels()\n",
    "plt.legend(handles[0:3], labels[0:3])\n",
    "\n",
    "# Create significance symbols:\n",
    "# * P ≤ 0.05   ** P ≤ 0.01   *** P ≤ 0.001 \n",
    "format_pval_annotation('***   p-val = 0.00009', 0, 1, 1)\n",
    "\n",
    "\n",
    "plt.show()\n",
    "plt.clf()\n",
    "plt.close()"
   ]
  },
  {
   "cell_type": "code",
   "execution_count": null,
   "metadata": {},
   "outputs": [],
   "source": []
  }
 ],
 "metadata": {
  "kernelspec": {
   "display_name": "Python 3",
   "language": "python",
   "name": "python3"
  },
  "language_info": {
   "codemirror_mode": {
    "name": "ipython",
    "version": 3
   },
   "file_extension": ".py",
   "mimetype": "text/x-python",
   "name": "python",
   "nbconvert_exporter": "python",
   "pygments_lexer": "ipython3",
   "version": "3.7.3"
  }
 },
 "nbformat": 4,
 "nbformat_minor": 2
}
