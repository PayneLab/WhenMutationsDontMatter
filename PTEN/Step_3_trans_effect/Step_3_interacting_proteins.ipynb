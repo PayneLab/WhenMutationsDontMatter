{
 "cells": [
  {
   "cell_type": "markdown",
   "metadata": {},
   "source": [
    "# Create p-value and correlation tables for multiple cancers (includes figures)"
   ]
  },
  {
   "cell_type": "markdown",
   "metadata": {},
   "source": [
    "Create a dataframe with p-value results from t-tests for all proteins (trans gene proteomics when PTEN has cnv deletions compared to PTEN wildtype). The dataframe also includes the change in medians (correlation) between deletions and wildtype. Create Heat Maps for interacting proteins."
   ]
  },
  {
   "cell_type": "code",
   "execution_count": 2,
   "metadata": {},
   "outputs": [],
   "source": [
    "import pandas as pd\n",
    "import numpy as np\n",
    "import seaborn as sns\n",
    "import matplotlib.pyplot as plt\n",
    "import scipy.stats\n",
    "import gseapy as gp\n",
    "import re\n",
    "import sys \n",
    "\n",
    "import cptac\n",
    "import cptac.utils as u\n",
    "\n",
    "import plot_utils as p"
   ]
  },
  {
   "cell_type": "code",
   "execution_count": 3,
   "metadata": {},
   "outputs": [],
   "source": [
    "# Returns a dataframe with proteomics and mutation type\n",
    "\n",
    "# all_prot: list of trans genes\n",
    "\n",
    "def all_prot_format_df(cancer_object, all_prot, gene_in = 'PTEN'):\n",
    "    mut_type = cancer_object.get_genotype_all_vars(gene_in)\n",
    "    \n",
    "    if cancer_object.get_cancer_type() not in ('luad'):\n",
    "        # Keep only tumor samples from proteomics\n",
    "        prot_and_mutations = cancer_object.join_omics_to_mutations(\n",
    "            mutations_genes = [gene_in], omics_df_name = 'proteomics', omics_genes = all_prot)\n",
    "        # Reduce a multiindex \n",
    "        if isinstance(prot_and_mutations.keys(), pd.core.indexes.multi.MultiIndex):\n",
    "            prot_and_mutations = cancer_object.reduce_multiindex(prot_and_mutations, levels_to_drop = 1)\n",
    "        prot_and_mutations = prot_and_mutations[prot_and_mutations.Sample_Status == \"Tumor\"] # drop Normal samples\n",
    "\n",
    "        # Merge Mutation column from get_genotype_all_vars (includes cnv) with proteomics\n",
    "        mut_type = mut_type[['Mutation']] \n",
    "        prot_df = prot_and_mutations.iloc[:,:-4] # Keep only proteomics\n",
    "        merged = prot_df.join(mut_type)\n",
    "        \n",
    "        # Keep only Wildtype and deletion\n",
    "        compare = ['Wildtype_Tumor','Deletion']\n",
    "        get = merged['Mutation'].isin(compare)\n",
    "        del_wt = merged[get]\n",
    "    \n",
    "    \n",
    "    # Luad has no somatic mutations for PTEN which changes some things\n",
    "    else: \n",
    "        # get_genotype_all_vars add cnv data under the column PTEN\n",
    "        mut_type = mut_type.drop(columns= gene_in)\n",
    "        # different code because no somatic mutation data for pten (can't join to somatic mutations)\n",
    "        omics = l.join_omics_to_omics(df1_name = 'CNV', df2_name='proteomics',genes1= gene_in, \n",
    "            genes2= all_prot)\n",
    "        omics = l.reduce_multiindex(omics, levels_to_drop = 1, flatten = True)\n",
    "        omics = omics.drop(columns='PTEN_CNV')\n",
    "        # Get only tumor samples\n",
    "        p = l.get_proteomics(tissue_type='tumor')\n",
    "        tumor_ids = list(p.index)\n",
    "        get = omics.index.isin(tumor_ids)\n",
    "        omics = omics[get]\n",
    "        # Merge Mutation column from get_genotype_all_vars (includes cnv) with proteomics\n",
    "        merged = omics.join(mut_type) \n",
    "        # Keep only No_Mutation (wildtype) and deletion\n",
    "        compare = ['No_Mutation','Deletion']\n",
    "        get = merged['Mutation'].isin(compare)\n",
    "        del_wt = merged[get]\n",
    "        del_wt['Mutation'] = np.where(\n",
    "            del_wt['Mutation'] == 'No_Mutation', 'Wildtype_Tumor', 'Deletion')\n",
    "\n",
    "    return del_wt\n"
   ]
  },
  {
   "cell_type": "code",
   "execution_count": 4,
   "metadata": {},
   "outputs": [],
   "source": [
    "'''\n",
    "Params\n",
    "cancer_object: Object. Variable for the loaded cancer data set.\n",
    "cancer_name: Str. name to add to the created dataframe.\n",
    "del_wt_df: DataFrame. Only samples with deletions and wildtype for PTEN. \n",
    "all_prot_list: List. All proteins in proteomics data frame. \n",
    "\n",
    "Returns a dataframe with the difference in medians between proteomics with PTEN wt and del (wt - del). \n",
    "'''\n",
    "\n",
    "def get_change_in_medians_df(cancer_object, cancer_name, del_wt_df, all_prot_list):\n",
    "    d = del_wt_df[del_wt_df.Mutation == \"Deletion\"]\n",
    "    wt = del_wt_df[del_wt_df.Mutation == \"Wildtype_Tumor\"]\n",
    "    del_med = d.median()\n",
    "    wt_med = wt.median()\n",
    "\n",
    "    med_dict = {}\n",
    "    \n",
    "\n",
    "    for prot in all_prot_list:\n",
    "        dif = del_med[prot] - wt_med[prot]\n",
    "        med_dict[prot] = dif\n",
    "        \n",
    "    df = pd.DataFrame.from_dict(med_dict, orient='index', columns=[cancer_name+'_Median'])\n",
    "    df = df.reset_index().rename(columns={'index':'Proteomics'})\n",
    "    \n",
    "    return df\n",
    "        "
   ]
  },
  {
   "cell_type": "markdown",
   "metadata": {},
   "source": [
    "#  Step 1: Create Data frames with p-values and differences in median"
   ]
  },
  {
   "cell_type": "markdown",
   "metadata": {},
   "source": [
    "Each cancer needs a data frame containing only samples that have PTEN cnv deletions and PTEN wildtype with trans proteomics. Use wrap_ttest to run many T-tests for all genes in the proteomics data frame. Use get_change_in_medians_df to create the data frame with change in median values. Merge both data frames. "
   ]
  },
  {
   "cell_type": "markdown",
   "metadata": {},
   "source": [
    "Load in cancer data sets from cptac. "
   ]
  },
  {
   "cell_type": "code",
   "execution_count": 5,
   "metadata": {},
   "outputs": [
    {
     "name": "stdout",
     "output_type": "stream",
     "text": [
      "Checking that endometrial index is up-to-date...\r"
     ]
    },
    {
     "name": "stderr",
     "output_type": "stream",
     "text": [
      "cptac warning: The GBM dataset is under publication embargo until March 01, 2021. CPTAC is a community resource project and data are made available rapidly after generation for community research use. The embargo allows exploring and utilizing the data, but analysis may not be published until after the embargo date. Please see https://proteomics.cancer.gov/data-portal/about/data-use-agreement or enter cptac.embargo() to open the webpage for more details. (C:\\Users\\brittany henderson\\Anaconda3\\envs\\Research\\lib\\site-packages\\ipykernel_launcher.py, line 1)\n"
     ]
    },
    {
     "name": "stdout",
     "output_type": "stream",
     "text": [
      "Checking that luad index is up-to-date...       \r"
     ]
    },
    {
     "name": "stderr",
     "output_type": "stream",
     "text": [
      "cptac warning: The HNSCC data is currently strictly reserved for CPTAC investigators. Otherwise, you are not authorized to access these data. Additionally, even after these data become publicly available, they will be subject to a publication embargo (see https://proteomics.cancer.gov/data-portal/about/data-use-agreement or enter cptac.embargo() to open the webpage for more details). (C:\\Users\\brittany henderson\\Anaconda3\\envs\\Research\\lib\\site-packages\\ipykernel_launcher.py, line 3)\n"
     ]
    },
    {
     "name": "stdout",
     "output_type": "stream",
     "text": [
      "Checking that lscc index is up-to-date...\r"
     ]
    },
    {
     "name": "stderr",
     "output_type": "stream",
     "text": [
      "cptac warning: The LUAD dataset is under publication embargo until July 01, 2020. CPTAC is a community resource project and data are made available rapidly after generation for community research use. The embargo allows exploring and utilizing the data, but analysis may not be published until after the embargo date. Please see https://proteomics.cancer.gov/data-portal/about/data-use-agreement or enter cptac.embargo() to open the webpage for more details. (C:\\Users\\brittany henderson\\Anaconda3\\envs\\Research\\lib\\site-packages\\ipykernel_launcher.py, line 4)\n"
     ]
    },
    {
     "name": "stdout",
     "output_type": "stream",
     "text": [
      "Checking that ovarian index is up-to-date...\r"
     ]
    },
    {
     "name": "stderr",
     "output_type": "stream",
     "text": [
      "cptac warning: The LSCC data is currently strictly reserved for CPTAC investigators. Otherwise, you are not authorized to access these data. Additionally, even after these data become publicly available, they will be subject to a publication embargo (see https://proteomics.cancer.gov/data-portal/about/data-use-agreement or enter cptac.embargo() to open the webpage for more details). (C:\\Users\\brittany henderson\\Anaconda3\\envs\\Research\\lib\\site-packages\\ipykernel_launcher.py, line 5)\n"
     ]
    },
    {
     "name": "stdout",
     "output_type": "stream",
     "text": [
      "                                            \r"
     ]
    }
   ],
   "source": [
    "g = cptac.Gbm()\n",
    "en = cptac.Endometrial()\n",
    "h = cptac.Hnscc()\n",
    "l = cptac.Luad()\n",
    "ls = cptac.Lscc()\n",
    "o = cptac.Ovarian()\n",
    "col = cptac.Colon()\n",
    "b = cptac.Brca()"
   ]
  },
  {
   "cell_type": "code",
   "execution_count": 5,
   "metadata": {},
   "outputs": [
    {
     "name": "stdout",
     "output_type": "stream",
     "text": [
      "46\n"
     ]
    }
   ],
   "source": [
    "ip = u.get_interacting_proteins('PTEN')\n",
    "\n",
    "# RAS-RAF-MEK-ERK MAPK Pathway\n",
    "ip.append('GRB2')\n",
    "ip.append('SHC1') # (SHC in paper)\n",
    "ip.append('SOS1') # (SOS in the paper) *GEF for RAS \"recruitment to the plasma membrane requires GRB2, PIP2, PA\" \n",
    "ip.append('KRAS') # (RAS in paper) possibly add \"RAS regulators such as PHLPP, SHP-2, and NF-2\"\n",
    "ip.append('RAF1') # (RAF-1 in paper)\n",
    "ip.append('MAP2K1') #(MEK1 protein name in paper)\n",
    "ip.append('MAP2K2 ') # (MEK2 in paper)\n",
    "ip.append('MAPK3') # (ERK1 in paper) https://www.uniprot.org/uniprot/P27361\n",
    "ip.append('MAPK1') # (ERK2 in paper)\n",
    "\n",
    "#mTOR Pathway\n",
    "ip.append('GAB1')\n",
    "#ip.append('PI3K')\n",
    "ip.append('AKT1') # (AKT in paper) *binds PIP3 (see info for isoform AKT1 at: https://www.uniprot.org/uniprot/P31749)\n",
    "ip.append('PDK1') #activate AKT\n",
    "ip.append('MTORC2') #activate AKT\n",
    "ip.append('GSK3B') # (GSK-3B in paper)inhibit cyclin D (akt inhibits GSK3B)\n",
    "ip.append('FOXO1') #(FOXO in paper)\n",
    "ip.append('TSC2') # repress mTOR, AKT inhibits\n",
    "ip.append('MTOR') # promote cyclin D\n",
    "ip.append('BAD')\n",
    "ip.append('CAS9')\n",
    "\n",
    "ip.append('CCND1') # Cyclin D1 -> G1/S \n",
    "\n",
    "\n",
    "singles = set(ip)\n",
    "ip = list(singles)\n",
    "print(len(ip))"
   ]
  },
  {
   "cell_type": "code",
   "execution_count": 22,
   "metadata": {},
   "outputs": [],
   "source": [
    "# readings\n",
    "ip = u.get_interacting_proteins('PTEN')\n",
    "\n",
    "#ip.append('BRCA1') BRCA\n",
    "#ip.append('RAD51') \n",
    "#ip.append('TGFBR1') # TGF-B\n",
    "\n",
    "ip.append('TBX3') #HNSCC\n",
    "ip.append('RB1') \n",
    "#ip.append('EF2')\n",
    "                 \n",
    "#ip.append('SOX2') #LSCC\n"
   ]
  },
  {
   "cell_type": "markdown",
   "metadata": {},
   "source": [
    "# Gbm"
   ]
  },
  {
   "cell_type": "markdown",
   "metadata": {},
   "source": [
    "Part 1: Format data frame using all_prot_format_df. This returns a dataframe with proteomics and a Mutation column containing only PTEN cnv deletions and wildtype tumors. "
   ]
  },
  {
   "cell_type": "code",
   "execution_count": 23,
   "metadata": {},
   "outputs": [
    {
     "name": "stderr",
     "output_type": "stream",
     "text": [
      "cptac warning: In joining the somatic_mutation table, no mutations were found for the following samples, so they were filled with Wildtype_Tumor or Wildtype_Normal: 72 samples for the PTEN gene (C:\\Users\\brittany henderson\\Anaconda3\\envs\\Research\\lib\\site-packages\\cptac\\dataset.py, line 394)\n",
      "cptac warning: CNV data was not found for the following samples, so CNV data columns were filled with NaN for these samples: C3L-01834 (C:\\Users\\brittany henderson\\Anaconda3\\envs\\Research\\lib\\site-packages\\cptac\\dataset.py, line 394)\n",
      "cptac warning: The following columns were not found in the proteomics dataframe, so they were inserted into joined table, but filled with NaN: PIK3R3, TBX3 (C:\\Users\\brittany henderson\\Anaconda3\\envs\\Research\\lib\\site-packages\\ipykernel_launcher.py, line 11)\n",
      "cptac warning: In joining the somatic_mutation table, no mutations were found for the following samples, so they were filled with Wildtype_Tumor or Wildtype_Normal: 82 samples for the PTEN gene (C:\\Users\\brittany henderson\\Anaconda3\\envs\\Research\\lib\\site-packages\\ipykernel_launcher.py, line 11)\n"
     ]
    },
    {
     "data": {
      "text/html": [
       "<div>\n",
       "<style scoped>\n",
       "    .dataframe tbody tr th:only-of-type {\n",
       "        vertical-align: middle;\n",
       "    }\n",
       "\n",
       "    .dataframe tbody tr th {\n",
       "        vertical-align: top;\n",
       "    }\n",
       "\n",
       "    .dataframe thead th {\n",
       "        text-align: right;\n",
       "    }\n",
       "</style>\n",
       "<table border=\"1\" class=\"dataframe\">\n",
       "  <thead>\n",
       "    <tr style=\"text-align: right;\">\n",
       "      <th>Name</th>\n",
       "      <th>MDM2_proteomics</th>\n",
       "      <th>CSNK2A1_proteomics</th>\n",
       "      <th>PDGFRB_proteomics</th>\n",
       "      <th>PIK3R2_proteomics</th>\n",
       "      <th>PIK3C3_proteomics</th>\n",
       "      <th>CSNK2A2_proteomics</th>\n",
       "      <th>SLC9A3R1_proteomics</th>\n",
       "      <th>USP13_proteomics</th>\n",
       "      <th>PIK3CA_proteomics</th>\n",
       "      <th>TP53_proteomics</th>\n",
       "      <th>...</th>\n",
       "      <th>ROCK1_proteomics</th>\n",
       "      <th>SHC1_proteomics</th>\n",
       "      <th>NEDD4_proteomics</th>\n",
       "      <th>INPP4B_proteomics</th>\n",
       "      <th>PIK3R1_proteomics</th>\n",
       "      <th>AKT1_proteomics</th>\n",
       "      <th>MVP_proteomics</th>\n",
       "      <th>MAGI3_proteomics</th>\n",
       "      <th>RB1_proteomics</th>\n",
       "      <th>Mutation</th>\n",
       "    </tr>\n",
       "    <tr>\n",
       "      <th>Patient_ID</th>\n",
       "      <th></th>\n",
       "      <th></th>\n",
       "      <th></th>\n",
       "      <th></th>\n",
       "      <th></th>\n",
       "      <th></th>\n",
       "      <th></th>\n",
       "      <th></th>\n",
       "      <th></th>\n",
       "      <th></th>\n",
       "      <th></th>\n",
       "      <th></th>\n",
       "      <th></th>\n",
       "      <th></th>\n",
       "      <th></th>\n",
       "      <th></th>\n",
       "      <th></th>\n",
       "      <th></th>\n",
       "      <th></th>\n",
       "      <th></th>\n",
       "      <th></th>\n",
       "    </tr>\n",
       "  </thead>\n",
       "  <tbody>\n",
       "    <tr>\n",
       "      <th>C3L-00104</th>\n",
       "      <td>-0.886531</td>\n",
       "      <td>0.221578</td>\n",
       "      <td>-0.108555</td>\n",
       "      <td>-0.068085</td>\n",
       "      <td>0.081642</td>\n",
       "      <td>-0.273672</td>\n",
       "      <td>0.616424</td>\n",
       "      <td>-0.423661</td>\n",
       "      <td>0.124542</td>\n",
       "      <td>0.044573</td>\n",
       "      <td>...</td>\n",
       "      <td>-0.319701</td>\n",
       "      <td>-0.095985</td>\n",
       "      <td>-0.437514</td>\n",
       "      <td>0.060124</td>\n",
       "      <td>-0.379646</td>\n",
       "      <td>-0.065930</td>\n",
       "      <td>0.147936</td>\n",
       "      <td>0.311427</td>\n",
       "      <td>-1.799180</td>\n",
       "      <td>Deletion</td>\n",
       "    </tr>\n",
       "    <tr>\n",
       "      <th>C3L-00365</th>\n",
       "      <td>NaN</td>\n",
       "      <td>0.169391</td>\n",
       "      <td>-0.109383</td>\n",
       "      <td>0.079710</td>\n",
       "      <td>-0.027524</td>\n",
       "      <td>-0.035616</td>\n",
       "      <td>0.450206</td>\n",
       "      <td>0.155746</td>\n",
       "      <td>-0.211025</td>\n",
       "      <td>0.117856</td>\n",
       "      <td>...</td>\n",
       "      <td>0.013908</td>\n",
       "      <td>0.003049</td>\n",
       "      <td>0.179955</td>\n",
       "      <td>-0.639545</td>\n",
       "      <td>-0.283144</td>\n",
       "      <td>-0.285929</td>\n",
       "      <td>0.371665</td>\n",
       "      <td>0.259059</td>\n",
       "      <td>-1.071307</td>\n",
       "      <td>Deletion</td>\n",
       "    </tr>\n",
       "    <tr>\n",
       "      <th>C3L-00674</th>\n",
       "      <td>NaN</td>\n",
       "      <td>-0.208625</td>\n",
       "      <td>0.414121</td>\n",
       "      <td>0.078025</td>\n",
       "      <td>0.062739</td>\n",
       "      <td>-0.105403</td>\n",
       "      <td>0.307356</td>\n",
       "      <td>-0.021276</td>\n",
       "      <td>-0.573919</td>\n",
       "      <td>-0.120887</td>\n",
       "      <td>...</td>\n",
       "      <td>-0.048311</td>\n",
       "      <td>0.051279</td>\n",
       "      <td>0.265735</td>\n",
       "      <td>0.669283</td>\n",
       "      <td>0.061201</td>\n",
       "      <td>-0.222607</td>\n",
       "      <td>0.329753</td>\n",
       "      <td>0.128442</td>\n",
       "      <td>0.154265</td>\n",
       "      <td>Deletion</td>\n",
       "    </tr>\n",
       "    <tr>\n",
       "      <th>C3L-00677</th>\n",
       "      <td>-0.564682</td>\n",
       "      <td>-0.292558</td>\n",
       "      <td>-0.141799</td>\n",
       "      <td>0.024117</td>\n",
       "      <td>0.087752</td>\n",
       "      <td>-0.189861</td>\n",
       "      <td>-0.040643</td>\n",
       "      <td>-0.322976</td>\n",
       "      <td>-0.360962</td>\n",
       "      <td>1.832557</td>\n",
       "      <td>...</td>\n",
       "      <td>-0.046639</td>\n",
       "      <td>0.288725</td>\n",
       "      <td>0.706601</td>\n",
       "      <td>0.451016</td>\n",
       "      <td>-0.496340</td>\n",
       "      <td>-0.370584</td>\n",
       "      <td>-0.518407</td>\n",
       "      <td>-0.099551</td>\n",
       "      <td>-0.884636</td>\n",
       "      <td>Deletion</td>\n",
       "    </tr>\n",
       "    <tr>\n",
       "      <th>C3L-01040</th>\n",
       "      <td>-0.243835</td>\n",
       "      <td>0.132716</td>\n",
       "      <td>0.812053</td>\n",
       "      <td>-0.029297</td>\n",
       "      <td>-0.057555</td>\n",
       "      <td>0.239919</td>\n",
       "      <td>-0.155468</td>\n",
       "      <td>-0.049040</td>\n",
       "      <td>0.137414</td>\n",
       "      <td>-0.288708</td>\n",
       "      <td>...</td>\n",
       "      <td>0.237764</td>\n",
       "      <td>-0.337079</td>\n",
       "      <td>0.133808</td>\n",
       "      <td>-0.024038</td>\n",
       "      <td>-0.146416</td>\n",
       "      <td>0.004573</td>\n",
       "      <td>-0.741119</td>\n",
       "      <td>-0.017146</td>\n",
       "      <td>0.041888</td>\n",
       "      <td>Deletion</td>\n",
       "    </tr>\n",
       "  </tbody>\n",
       "</table>\n",
       "<p>5 rows × 29 columns</p>\n",
       "</div>"
      ],
      "text/plain": [
       "Name        MDM2_proteomics  CSNK2A1_proteomics  PDGFRB_proteomics  \\\n",
       "Patient_ID                                                           \n",
       "C3L-00104         -0.886531            0.221578          -0.108555   \n",
       "C3L-00365               NaN            0.169391          -0.109383   \n",
       "C3L-00674               NaN           -0.208625           0.414121   \n",
       "C3L-00677         -0.564682           -0.292558          -0.141799   \n",
       "C3L-01040         -0.243835            0.132716           0.812053   \n",
       "\n",
       "Name        PIK3R2_proteomics  PIK3C3_proteomics  CSNK2A2_proteomics  \\\n",
       "Patient_ID                                                             \n",
       "C3L-00104           -0.068085           0.081642           -0.273672   \n",
       "C3L-00365            0.079710          -0.027524           -0.035616   \n",
       "C3L-00674            0.078025           0.062739           -0.105403   \n",
       "C3L-00677            0.024117           0.087752           -0.189861   \n",
       "C3L-01040           -0.029297          -0.057555            0.239919   \n",
       "\n",
       "Name        SLC9A3R1_proteomics  USP13_proteomics  PIK3CA_proteomics  \\\n",
       "Patient_ID                                                             \n",
       "C3L-00104              0.616424         -0.423661           0.124542   \n",
       "C3L-00365              0.450206          0.155746          -0.211025   \n",
       "C3L-00674              0.307356         -0.021276          -0.573919   \n",
       "C3L-00677             -0.040643         -0.322976          -0.360962   \n",
       "C3L-01040             -0.155468         -0.049040           0.137414   \n",
       "\n",
       "Name        TP53_proteomics  ...  ROCK1_proteomics  SHC1_proteomics  \\\n",
       "Patient_ID                   ...                                      \n",
       "C3L-00104          0.044573  ...         -0.319701        -0.095985   \n",
       "C3L-00365          0.117856  ...          0.013908         0.003049   \n",
       "C3L-00674         -0.120887  ...         -0.048311         0.051279   \n",
       "C3L-00677          1.832557  ...         -0.046639         0.288725   \n",
       "C3L-01040         -0.288708  ...          0.237764        -0.337079   \n",
       "\n",
       "Name        NEDD4_proteomics  INPP4B_proteomics  PIK3R1_proteomics  \\\n",
       "Patient_ID                                                           \n",
       "C3L-00104          -0.437514           0.060124          -0.379646   \n",
       "C3L-00365           0.179955          -0.639545          -0.283144   \n",
       "C3L-00674           0.265735           0.669283           0.061201   \n",
       "C3L-00677           0.706601           0.451016          -0.496340   \n",
       "C3L-01040           0.133808          -0.024038          -0.146416   \n",
       "\n",
       "Name        AKT1_proteomics  MVP_proteomics  MAGI3_proteomics  RB1_proteomics  \\\n",
       "Patient_ID                                                                      \n",
       "C3L-00104         -0.065930        0.147936          0.311427       -1.799180   \n",
       "C3L-00365         -0.285929        0.371665          0.259059       -1.071307   \n",
       "C3L-00674         -0.222607        0.329753          0.128442        0.154265   \n",
       "C3L-00677         -0.370584       -0.518407         -0.099551       -0.884636   \n",
       "C3L-01040          0.004573       -0.741119         -0.017146        0.041888   \n",
       "\n",
       "Name        Mutation  \n",
       "Patient_ID            \n",
       "C3L-00104   Deletion  \n",
       "C3L-00365   Deletion  \n",
       "C3L-00674   Deletion  \n",
       "C3L-00677   Deletion  \n",
       "C3L-01040   Deletion  \n",
       "\n",
       "[5 rows x 29 columns]"
      ]
     },
     "execution_count": 23,
     "metadata": {},
     "output_type": "execute_result"
    }
   ],
   "source": [
    "gene = 'PTEN'\n",
    "\n",
    "g_del_wt = all_prot_format_df(g, ip)\n",
    "g_del_wt = g_del_wt.dropna(axis='columns', how='all')\n",
    "g_del_wt.head()"
   ]
  },
  {
   "cell_type": "markdown",
   "metadata": {},
   "source": [
    "Part 2: Run T-tests. Create a data frame of just significant comparisons and another data frame for all comparisons. A moderately stringent correction is used (FDR_BH)."
   ]
  },
  {
   "cell_type": "code",
   "execution_count": 24,
   "metadata": {},
   "outputs": [
    {
     "name": "stdout",
     "output_type": "stream",
     "text": [
      "significant pvals: \n",
      "           Comparison       P_Value\n",
      "0    PTEN_proteomics  1.219523e-07\n",
      "1  PIK3CD_proteomics  1.030815e-03\n",
      "2  PIK3C3_proteomics  1.225949e-03\n",
      "3    USP7_proteomics  4.017792e-03\n",
      "4  PIK3R1_proteomics  4.282296e-03\n"
     ]
    }
   ],
   "source": [
    "cols = list(g_del_wt.columns[:-1])\n",
    "\n",
    "# Get only sig genes\n",
    "g_sig = u.wrap_ttest(g_del_wt, 'Mutation', cols, correction_method = 'fdr_bh')\n",
    "# Create list of sig genes\n",
    "if g_sig is not None:\n",
    "    g_sig_list = list(g_sig.Comparison)\n",
    "else: \n",
    "    g_sig_list = None\n",
    "print('significant pvals: \\n',g_sig)\n",
    "\n",
    "# Get all pvals\n",
    "g = u.wrap_ttest(g_del_wt, 'Mutation', cols, return_all = True, correction_method = 'fdr_bh')\n",
    "g_pval = g.rename(columns = {'Comparison': 'Proteomics','P_Value': 'Gbm_P_Value'})"
   ]
  },
  {
   "cell_type": "markdown",
   "metadata": {},
   "source": [
    "Part 3: Create the differences in median df. (median of wildtype tumors - median of cnv deletions)"
   ]
  },
  {
   "cell_type": "code",
   "execution_count": 25,
   "metadata": {},
   "outputs": [],
   "source": [
    "g_med = get_change_in_medians_df(g, \"Gbm\", g_del_wt, cols)"
   ]
  },
  {
   "cell_type": "markdown",
   "metadata": {},
   "source": [
    "Part 4: Merge the p-values and the differences in median dfs."
   ]
  },
  {
   "cell_type": "code",
   "execution_count": 26,
   "metadata": {},
   "outputs": [
    {
     "data": {
      "text/html": [
       "<div>\n",
       "<style scoped>\n",
       "    .dataframe tbody tr th:only-of-type {\n",
       "        vertical-align: middle;\n",
       "    }\n",
       "\n",
       "    .dataframe tbody tr th {\n",
       "        vertical-align: top;\n",
       "    }\n",
       "\n",
       "    .dataframe thead th {\n",
       "        text-align: right;\n",
       "    }\n",
       "</style>\n",
       "<table border=\"1\" class=\"dataframe\">\n",
       "  <thead>\n",
       "    <tr style=\"text-align: right;\">\n",
       "      <th></th>\n",
       "      <th>Proteomics</th>\n",
       "      <th>Gbm_P_Value</th>\n",
       "      <th>Gbm_Median</th>\n",
       "    </tr>\n",
       "  </thead>\n",
       "  <tbody>\n",
       "    <tr>\n",
       "      <th>0</th>\n",
       "      <td>PTEN_proteomics</td>\n",
       "      <td>1.219523e-07</td>\n",
       "      <td>-0.511726</td>\n",
       "    </tr>\n",
       "    <tr>\n",
       "      <th>1</th>\n",
       "      <td>PIK3CD_proteomics</td>\n",
       "      <td>1.030815e-03</td>\n",
       "      <td>-0.492099</td>\n",
       "    </tr>\n",
       "    <tr>\n",
       "      <th>2</th>\n",
       "      <td>PIK3C3_proteomics</td>\n",
       "      <td>1.225949e-03</td>\n",
       "      <td>-0.102518</td>\n",
       "    </tr>\n",
       "    <tr>\n",
       "      <th>3</th>\n",
       "      <td>USP7_proteomics</td>\n",
       "      <td>4.017792e-03</td>\n",
       "      <td>0.154035</td>\n",
       "    </tr>\n",
       "    <tr>\n",
       "      <th>4</th>\n",
       "      <td>PIK3R1_proteomics</td>\n",
       "      <td>4.282296e-03</td>\n",
       "      <td>-0.188390</td>\n",
       "    </tr>\n",
       "  </tbody>\n",
       "</table>\n",
       "</div>"
      ],
      "text/plain": [
       "          Proteomics   Gbm_P_Value  Gbm_Median\n",
       "0    PTEN_proteomics  1.219523e-07   -0.511726\n",
       "1  PIK3CD_proteomics  1.030815e-03   -0.492099\n",
       "2  PIK3C3_proteomics  1.225949e-03   -0.102518\n",
       "3    USP7_proteomics  4.017792e-03    0.154035\n",
       "4  PIK3R1_proteomics  4.282296e-03   -0.188390"
      ]
     },
     "execution_count": 26,
     "metadata": {},
     "output_type": "execute_result"
    }
   ],
   "source": [
    "g_merged = g_pval.merge(g_med, on='Proteomics',how='outer')\n",
    "\n",
    "g_merged.head()"
   ]
  },
  {
   "cell_type": "markdown",
   "metadata": {},
   "source": [
    "# Repeat for other cancers."
   ]
  },
  {
   "cell_type": "markdown",
   "metadata": {},
   "source": [
    "# Ovarian"
   ]
  },
  {
   "cell_type": "code",
   "execution_count": 27,
   "metadata": {},
   "outputs": [
    {
     "name": "stderr",
     "output_type": "stream",
     "text": [
      "cptac warning: In joining the somatic_mutation table, no mutations were found for the following samples, so they were filled with Wildtype_Tumor or Wildtype_Normal: 98 samples for the PTEN gene (C:\\Users\\brittany henderson\\Anaconda3\\envs\\Research\\lib\\site-packages\\cptac\\dataset.py, line 394)\n",
      "cptac warning: CNV data was not found for the following samples, so CNV data columns were filled with NaN for these samples: 01OV029, 02OV015 (C:\\Users\\brittany henderson\\Anaconda3\\envs\\Research\\lib\\site-packages\\cptac\\dataset.py, line 394)\n",
      "cptac warning: The following columns were not found in the proteomics dataframe, so they were inserted into joined table, but filled with NaN: MDM2, PIK3R3 (C:\\Users\\brittany henderson\\Anaconda3\\envs\\Research\\lib\\site-packages\\ipykernel_launcher.py, line 11)\n",
      "cptac warning: In joining the somatic_mutation table, no mutations were found for the following samples, so they were filled with Wildtype_Tumor or Wildtype_Normal: 99 samples for the PTEN gene (C:\\Users\\brittany henderson\\Anaconda3\\envs\\Research\\lib\\site-packages\\ipykernel_launcher.py, line 11)\n",
      "cptac warning: Due to dropping the specified levels, dataframe now has 2 duplicated column headers. (C:\\Users\\brittany henderson\\Anaconda3\\envs\\Research\\lib\\site-packages\\ipykernel_launcher.py, line 14)\n"
     ]
    }
   ],
   "source": [
    "gene = 'PTEN'\n",
    "\n",
    "o_del_wt = all_prot_format_df(o, ip)\n",
    "o_del_wt = o_del_wt.dropna(axis='columns', how='all')\n",
    "# Drop duplicate columns - FIX\n",
    "o_del_wt = o_del_wt.loc[:,~o_del_wt.columns.duplicated()]"
   ]
  },
  {
   "cell_type": "code",
   "execution_count": 29,
   "metadata": {},
   "outputs": [
    {
     "name": "stdout",
     "output_type": "stream",
     "text": [
      "significant pvals: \n",
      "         Comparison   P_Value\n",
      "0  PTEN_proteomics  0.000909\n"
     ]
    }
   ],
   "source": [
    "cols = list(o_del_wt.columns[:-1])\n",
    "\n",
    "# Get only sig sites\n",
    "o_sig = u.wrap_ttest(o_del_wt, 'Mutation', cols, correction_method = 'fdr_bh')\n",
    "if o_sig is not None:\n",
    "    o_sig_list = list(o_sig.Comparison)\n",
    "else: \n",
    "    o_sig_list = None\n",
    "print('significant pvals: \\n',o_sig)\n",
    "\n",
    "# Get all pvals\n",
    "o = u.wrap_ttest(o_del_wt, 'Mutation', cols, return_all = True, correction_method = 'fdr_bh')\n",
    "o_pval = o.rename(columns = {'Comparison': 'Proteomics','P_Value': 'Ov_P_Value'})"
   ]
  },
  {
   "cell_type": "code",
   "execution_count": 30,
   "metadata": {},
   "outputs": [],
   "source": [
    "o_med = get_change_in_medians_df(o, \"Ov\", o_del_wt, cols)"
   ]
  },
  {
   "cell_type": "code",
   "execution_count": 31,
   "metadata": {},
   "outputs": [],
   "source": [
    "o_merged = o_pval.merge(o_med, on='Proteomics',how='outer')"
   ]
  },
  {
   "cell_type": "markdown",
   "metadata": {},
   "source": [
    "# Breast"
   ]
  },
  {
   "cell_type": "code",
   "execution_count": 32,
   "metadata": {},
   "outputs": [
    {
     "name": "stderr",
     "output_type": "stream",
     "text": [
      "cptac warning: In joining the somatic_mutation table, no mutations were found for the following samples, so they were filled with Wildtype_Tumor or Wildtype_Normal: 113 samples for the PTEN gene (C:\\Users\\brittany henderson\\Anaconda3\\envs\\Research\\lib\\site-packages\\cptac\\dataset.py, line 394)\n",
      "cptac warning: The following columns were not found in the proteomics dataframe, so they were inserted into joined table, but filled with NaN: CSNK2A1, MDM2, PIK3R3 (C:\\Users\\brittany henderson\\Anaconda3\\envs\\Research\\lib\\site-packages\\ipykernel_launcher.py, line 11)\n",
      "cptac warning: In joining the somatic_mutation table, no mutations were found for the following samples, so they were filled with Wildtype_Tumor or Wildtype_Normal: 113 samples for the PTEN gene (C:\\Users\\brittany henderson\\Anaconda3\\envs\\Research\\lib\\site-packages\\ipykernel_launcher.py, line 11)\n",
      "cptac warning: Due to dropping the specified levels, dataframe now has 2 duplicated column headers. (C:\\Users\\brittany henderson\\Anaconda3\\envs\\Research\\lib\\site-packages\\ipykernel_launcher.py, line 14)\n"
     ]
    },
    {
     "data": {
      "text/html": [
       "<div>\n",
       "<style scoped>\n",
       "    .dataframe tbody tr th:only-of-type {\n",
       "        vertical-align: middle;\n",
       "    }\n",
       "\n",
       "    .dataframe tbody tr th {\n",
       "        vertical-align: top;\n",
       "    }\n",
       "\n",
       "    .dataframe thead th {\n",
       "        text-align: right;\n",
       "    }\n",
       "</style>\n",
       "<table border=\"1\" class=\"dataframe\">\n",
       "  <thead>\n",
       "    <tr style=\"text-align: right;\">\n",
       "      <th>Name</th>\n",
       "      <th>AKT1_proteomics</th>\n",
       "      <th>CSNK2A2_proteomics</th>\n",
       "      <th>EGFR_proteomics</th>\n",
       "      <th>INPP4B_proteomics</th>\n",
       "      <th>MAGI3_proteomics</th>\n",
       "      <th>MAST2_proteomics</th>\n",
       "      <th>MVP_proteomics</th>\n",
       "      <th>NEDD4_proteomics</th>\n",
       "      <th>PDGFRB_proteomics</th>\n",
       "      <th>PIK3C3_proteomics</th>\n",
       "      <th>...</th>\n",
       "      <th>RB1_proteomics</th>\n",
       "      <th>ROCK1_proteomics</th>\n",
       "      <th>SHC1_proteomics</th>\n",
       "      <th>SLC9A3R1_proteomics</th>\n",
       "      <th>TBX3_proteomics</th>\n",
       "      <th>TP53_proteomics</th>\n",
       "      <th>USP13_proteomics</th>\n",
       "      <th>USP7_proteomics</th>\n",
       "      <th>XIAP_proteomics</th>\n",
       "      <th>Mutation</th>\n",
       "    </tr>\n",
       "    <tr>\n",
       "      <th>Patient_ID</th>\n",
       "      <th></th>\n",
       "      <th></th>\n",
       "      <th></th>\n",
       "      <th></th>\n",
       "      <th></th>\n",
       "      <th></th>\n",
       "      <th></th>\n",
       "      <th></th>\n",
       "      <th></th>\n",
       "      <th></th>\n",
       "      <th></th>\n",
       "      <th></th>\n",
       "      <th></th>\n",
       "      <th></th>\n",
       "      <th></th>\n",
       "      <th></th>\n",
       "      <th></th>\n",
       "      <th></th>\n",
       "      <th></th>\n",
       "      <th></th>\n",
       "      <th></th>\n",
       "    </tr>\n",
       "  </thead>\n",
       "  <tbody>\n",
       "    <tr>\n",
       "      <th>CPT000814</th>\n",
       "      <td>-1.3052</td>\n",
       "      <td>0.2406</td>\n",
       "      <td>-0.4834</td>\n",
       "      <td>-3.0446</td>\n",
       "      <td>-2.0154</td>\n",
       "      <td>-0.1840</td>\n",
       "      <td>-0.3112</td>\n",
       "      <td>-2.1700</td>\n",
       "      <td>-1.2856</td>\n",
       "      <td>-0.4736</td>\n",
       "      <td>...</td>\n",
       "      <td>-1.0156</td>\n",
       "      <td>-1.1252</td>\n",
       "      <td>1.5515</td>\n",
       "      <td>-1.7943</td>\n",
       "      <td>-0.7064</td>\n",
       "      <td>2.0719</td>\n",
       "      <td>0.8608</td>\n",
       "      <td>0.1114</td>\n",
       "      <td>-0.2036</td>\n",
       "      <td>Wildtype_Tumor</td>\n",
       "    </tr>\n",
       "    <tr>\n",
       "      <th>CPT001846</th>\n",
       "      <td>-1.0153</td>\n",
       "      <td>0.3962</td>\n",
       "      <td>4.1062</td>\n",
       "      <td>-1.6078</td>\n",
       "      <td>-1.1617</td>\n",
       "      <td>-0.2137</td>\n",
       "      <td>1.0758</td>\n",
       "      <td>-0.0011</td>\n",
       "      <td>0.8824</td>\n",
       "      <td>0.6994</td>\n",
       "      <td>...</td>\n",
       "      <td>0.1888</td>\n",
       "      <td>-0.0308</td>\n",
       "      <td>1.1821</td>\n",
       "      <td>-2.6813</td>\n",
       "      <td>-1.6479</td>\n",
       "      <td>-1.0990</td>\n",
       "      <td>0.1383</td>\n",
       "      <td>-0.5048</td>\n",
       "      <td>0.6489</td>\n",
       "      <td>Wildtype_Tumor</td>\n",
       "    </tr>\n",
       "    <tr>\n",
       "      <th>X01BR001</th>\n",
       "      <td>-0.9244</td>\n",
       "      <td>-0.4782</td>\n",
       "      <td>1.2191</td>\n",
       "      <td>-1.8425</td>\n",
       "      <td>-0.9010</td>\n",
       "      <td>1.2063</td>\n",
       "      <td>0.2947</td>\n",
       "      <td>-0.8369</td>\n",
       "      <td>-0.8156</td>\n",
       "      <td>-1.0141</td>\n",
       "      <td>...</td>\n",
       "      <td>-0.5252</td>\n",
       "      <td>0.8348</td>\n",
       "      <td>1.3002</td>\n",
       "      <td>-1.4497</td>\n",
       "      <td>-1.1358</td>\n",
       "      <td>0.8946</td>\n",
       "      <td>-1.0077</td>\n",
       "      <td>-0.0277</td>\n",
       "      <td>0.3672</td>\n",
       "      <td>Wildtype_Tumor</td>\n",
       "    </tr>\n",
       "    <tr>\n",
       "      <th>X01BR009</th>\n",
       "      <td>-1.7569</td>\n",
       "      <td>0.4980</td>\n",
       "      <td>1.6974</td>\n",
       "      <td>-4.2738</td>\n",
       "      <td>-1.5232</td>\n",
       "      <td>0.0948</td>\n",
       "      <td>1.0938</td>\n",
       "      <td>-0.5781</td>\n",
       "      <td>-0.0439</td>\n",
       "      <td>0.0614</td>\n",
       "      <td>...</td>\n",
       "      <td>0.3670</td>\n",
       "      <td>0.4158</td>\n",
       "      <td>0.0152</td>\n",
       "      <td>-1.8520</td>\n",
       "      <td>-1.1457</td>\n",
       "      <td>2.4935</td>\n",
       "      <td>-0.3624</td>\n",
       "      <td>-0.4882</td>\n",
       "      <td>-0.9145</td>\n",
       "      <td>Wildtype_Tumor</td>\n",
       "    </tr>\n",
       "    <tr>\n",
       "      <th>X01BR010</th>\n",
       "      <td>0.3344</td>\n",
       "      <td>0.2158</td>\n",
       "      <td>2.4878</td>\n",
       "      <td>0.2529</td>\n",
       "      <td>-0.2707</td>\n",
       "      <td>0.8999</td>\n",
       "      <td>0.0923</td>\n",
       "      <td>2.3520</td>\n",
       "      <td>1.1049</td>\n",
       "      <td>-0.3275</td>\n",
       "      <td>...</td>\n",
       "      <td>0.5344</td>\n",
       "      <td>-0.2732</td>\n",
       "      <td>0.2677</td>\n",
       "      <td>-0.4880</td>\n",
       "      <td>-0.5275</td>\n",
       "      <td>-1.5450</td>\n",
       "      <td>-2.2463</td>\n",
       "      <td>-0.8683</td>\n",
       "      <td>0.0849</td>\n",
       "      <td>Deletion</td>\n",
       "    </tr>\n",
       "  </tbody>\n",
       "</table>\n",
       "<p>5 rows × 28 columns</p>\n",
       "</div>"
      ],
      "text/plain": [
       "Name        AKT1_proteomics  CSNK2A2_proteomics  EGFR_proteomics  \\\n",
       "Patient_ID                                                         \n",
       "CPT000814           -1.3052              0.2406          -0.4834   \n",
       "CPT001846           -1.0153              0.3962           4.1062   \n",
       "X01BR001            -0.9244             -0.4782           1.2191   \n",
       "X01BR009            -1.7569              0.4980           1.6974   \n",
       "X01BR010             0.3344              0.2158           2.4878   \n",
       "\n",
       "Name        INPP4B_proteomics  MAGI3_proteomics  MAST2_proteomics  \\\n",
       "Patient_ID                                                          \n",
       "CPT000814             -3.0446           -2.0154           -0.1840   \n",
       "CPT001846             -1.6078           -1.1617           -0.2137   \n",
       "X01BR001              -1.8425           -0.9010            1.2063   \n",
       "X01BR009              -4.2738           -1.5232            0.0948   \n",
       "X01BR010               0.2529           -0.2707            0.8999   \n",
       "\n",
       "Name        MVP_proteomics  NEDD4_proteomics  PDGFRB_proteomics  \\\n",
       "Patient_ID                                                        \n",
       "CPT000814          -0.3112           -2.1700            -1.2856   \n",
       "CPT001846           1.0758           -0.0011             0.8824   \n",
       "X01BR001            0.2947           -0.8369            -0.8156   \n",
       "X01BR009            1.0938           -0.5781            -0.0439   \n",
       "X01BR010            0.0923            2.3520             1.1049   \n",
       "\n",
       "Name        PIK3C3_proteomics  ...  RB1_proteomics  ROCK1_proteomics  \\\n",
       "Patient_ID                     ...                                     \n",
       "CPT000814             -0.4736  ...         -1.0156           -1.1252   \n",
       "CPT001846              0.6994  ...          0.1888           -0.0308   \n",
       "X01BR001              -1.0141  ...         -0.5252            0.8348   \n",
       "X01BR009               0.0614  ...          0.3670            0.4158   \n",
       "X01BR010              -0.3275  ...          0.5344           -0.2732   \n",
       "\n",
       "Name        SHC1_proteomics  SLC9A3R1_proteomics  TBX3_proteomics  \\\n",
       "Patient_ID                                                          \n",
       "CPT000814            1.5515              -1.7943          -0.7064   \n",
       "CPT001846            1.1821              -2.6813          -1.6479   \n",
       "X01BR001             1.3002              -1.4497          -1.1358   \n",
       "X01BR009             0.0152              -1.8520          -1.1457   \n",
       "X01BR010             0.2677              -0.4880          -0.5275   \n",
       "\n",
       "Name        TP53_proteomics  USP13_proteomics  USP7_proteomics  \\\n",
       "Patient_ID                                                       \n",
       "CPT000814            2.0719            0.8608           0.1114   \n",
       "CPT001846           -1.0990            0.1383          -0.5048   \n",
       "X01BR001             0.8946           -1.0077          -0.0277   \n",
       "X01BR009             2.4935           -0.3624          -0.4882   \n",
       "X01BR010            -1.5450           -2.2463          -0.8683   \n",
       "\n",
       "Name        XIAP_proteomics        Mutation  \n",
       "Patient_ID                                   \n",
       "CPT000814           -0.2036  Wildtype_Tumor  \n",
       "CPT001846            0.6489  Wildtype_Tumor  \n",
       "X01BR001             0.3672  Wildtype_Tumor  \n",
       "X01BR009            -0.9145  Wildtype_Tumor  \n",
       "X01BR010             0.0849        Deletion  \n",
       "\n",
       "[5 rows x 28 columns]"
      ]
     },
     "execution_count": 32,
     "metadata": {},
     "output_type": "execute_result"
    }
   ],
   "source": [
    "gene = 'PTEN'\n",
    "\n",
    "b_del_wt = all_prot_format_df(b, ip)\n",
    "b_del_wt = b_del_wt.dropna(axis='columns', how='all')\n",
    "b_del_wt = b_del_wt.loc[:,~b_del_wt.columns.duplicated()]\n",
    "b_del_wt.head()"
   ]
  },
  {
   "cell_type": "code",
   "execution_count": 33,
   "metadata": {},
   "outputs": [
    {
     "name": "stdout",
     "output_type": "stream",
     "text": [
      "significant pvals: \n",
      "         Comparison   P_Value\n",
      "0  PTEN_proteomics  0.000004\n"
     ]
    }
   ],
   "source": [
    "cols = list(b_del_wt.columns[:-1])\n",
    "\n",
    "# Get only sig sites\n",
    "b_sig = u.wrap_ttest(b_del_wt, 'Mutation', cols, correction_method = 'fdr_bh')\n",
    "if b_sig is not None:\n",
    "    b_sig_list = list(b_sig.Comparison)\n",
    "else: \n",
    "    b_sig_list = None\n",
    "print('significant pvals: \\n',b_sig)\n",
    "\n",
    "# Get all pvals\n",
    "b_pval = u.wrap_ttest(b_del_wt, 'Mutation', cols, return_all = True)\n",
    "b_pval = b_pval.rename(columns = {'Comparison': 'Proteomics','P_Value': 'Brca_P_Value'})"
   ]
  },
  {
   "cell_type": "code",
   "execution_count": 34,
   "metadata": {},
   "outputs": [],
   "source": [
    "b_med = get_change_in_medians_df(b, \"Brca\", b_del_wt, cols)"
   ]
  },
  {
   "cell_type": "code",
   "execution_count": 35,
   "metadata": {},
   "outputs": [],
   "source": [
    "b_merged = b_pval.merge(b_med, on='Proteomics',how='outer')"
   ]
  },
  {
   "cell_type": "markdown",
   "metadata": {},
   "source": [
    "# Colon"
   ]
  },
  {
   "cell_type": "code",
   "execution_count": 36,
   "metadata": {},
   "outputs": [
    {
     "name": "stderr",
     "output_type": "stream",
     "text": [
      "cptac warning: In joining the somatic_mutation table, no mutations were found for the following samples, so they were filled with Wildtype_Tumor or Wildtype_Normal: 100 samples for the PTEN gene (C:\\Users\\brittany henderson\\Anaconda3\\envs\\Research\\lib\\site-packages\\cptac\\dataset.py, line 394)\n",
      "cptac warning: CNV data was not found for the following samples, so CNV data columns were filled with NaN for these samples: 05CO045 (C:\\Users\\brittany henderson\\Anaconda3\\envs\\Research\\lib\\site-packages\\cptac\\dataset.py, line 394)\n",
      "cptac warning: The following columns were not found in the proteomics dataframe, so they were inserted into joined table, but filled with NaN: MAGI3, MAST2, MDM2, PIK3R3, PREX2, TBX3 (C:\\Users\\brittany henderson\\Anaconda3\\envs\\Research\\lib\\site-packages\\ipykernel_launcher.py, line 11)\n",
      "cptac warning: In joining the somatic_mutation table, no mutations were found for the following samples, so they were filled with Wildtype_Tumor or Wildtype_Normal: 201 samples for the PTEN gene (C:\\Users\\brittany henderson\\Anaconda3\\envs\\Research\\lib\\site-packages\\ipykernel_launcher.py, line 11)\n",
      "cptac warning: proteomics data was not found for the following samples, so proteomics data columns were filled with NaN for these samples: 01CO001, 05CO005, 05CO007, 05CO014, 05CO055, 11CO059, 11CO060, 14CO002, 16CO012, 24CO005 (C:\\Users\\brittany henderson\\Anaconda3\\envs\\Research\\lib\\site-packages\\ipykernel_launcher.py, line 11)\n"
     ]
    }
   ],
   "source": [
    "gene = 'PTEN'\n",
    "\n",
    "c_del_wt = all_prot_format_df(col, ip)\n",
    "c_del_wt = c_del_wt.dropna(axis='columns', how='all')\n",
    "c_del_wt = c_del_wt.loc[:,~c_del_wt.columns.duplicated()]"
   ]
  },
  {
   "cell_type": "code",
   "execution_count": 37,
   "metadata": {},
   "outputs": [
    {
     "name": "stdout",
     "output_type": "stream",
     "text": [
      "significant pvals: \n",
      " None\n"
     ]
    }
   ],
   "source": [
    "cols = list(c_del_wt.columns[:-1])\n",
    "\n",
    "# Get only sig sites\n",
    "c_sig = u.wrap_ttest(c_del_wt, 'Mutation', cols, correction_method = 'fdr_bh')\n",
    "if c_sig is not None:\n",
    "    c_sig_list = list(c_sig.Comparison)\n",
    "else: \n",
    "    c_sig_list = None\n",
    "print('significant pvals: \\n',c_sig)\n",
    "\n",
    "# Get all pvals\n",
    "c_pval = u.wrap_ttest(c_del_wt, 'Mutation', cols, return_all = True, correction_method = 'fdr_bh')\n",
    "c_pval = c_pval.rename(columns = {'Comparison': 'Proteomics','P_Value': 'Colon_P_Value'})"
   ]
  },
  {
   "cell_type": "code",
   "execution_count": 38,
   "metadata": {},
   "outputs": [],
   "source": [
    "c_med = get_change_in_medians_df(col, \"Colon\", c_del_wt, cols)"
   ]
  },
  {
   "cell_type": "code",
   "execution_count": 39,
   "metadata": {},
   "outputs": [],
   "source": [
    "c_merged = c_pval.merge(c_med, on='Proteomics',how='outer')"
   ]
  },
  {
   "cell_type": "markdown",
   "metadata": {},
   "source": [
    "# Hnscc"
   ]
  },
  {
   "cell_type": "code",
   "execution_count": 40,
   "metadata": {},
   "outputs": [
    {
     "name": "stderr",
     "output_type": "stream",
     "text": [
      "cptac warning: In joining the somatic_mutation table, no mutations were found for the following samples, so they were filled with Wildtype_Tumor or Wildtype_Normal: 109 samples for the PTEN gene (C:\\Users\\brittany henderson\\Anaconda3\\envs\\Research\\lib\\site-packages\\cptac\\dataset.py, line 394)\n",
      "cptac warning: CNV data was not found for the following samples, so CNV data columns were filled with NaN for these samples: C3L-02617, C3N-02727 (C:\\Users\\brittany henderson\\Anaconda3\\envs\\Research\\lib\\site-packages\\cptac\\dataset.py, line 394)\n",
      "cptac warning: The following columns were not found in the proteomics dataframe, so they were inserted into joined table, but filled with NaN: MDM2, PIK3R3 (C:\\Users\\brittany henderson\\Anaconda3\\envs\\Research\\lib\\site-packages\\ipykernel_launcher.py, line 11)\n",
      "cptac warning: In joining the somatic_mutation table, no mutations were found for the following samples, so they were filled with Wildtype_Tumor or Wildtype_Normal: 176 samples for the PTEN gene (C:\\Users\\brittany henderson\\Anaconda3\\envs\\Research\\lib\\site-packages\\ipykernel_launcher.py, line 11)\n"
     ]
    }
   ],
   "source": [
    "gene = 'PTEN'\n",
    "\n",
    "h_del_wt = all_prot_format_df(h, ip)\n",
    "h_del_wt = h_del_wt.dropna(axis='columns', how='all')\n"
   ]
  },
  {
   "cell_type": "code",
   "execution_count": 41,
   "metadata": {},
   "outputs": [
    {
     "name": "stdout",
     "output_type": "stream",
     "text": [
      "significant pvals: \n",
      "           Comparison   P_Value\n",
      "0    PTEN_proteomics  0.000023\n",
      "1  INPP4B_proteomics  0.000676\n",
      "2  PIK3CA_proteomics  0.001677\n",
      "3   USP13_proteomics  0.005645\n"
     ]
    },
    {
     "name": "stderr",
     "output_type": "stream",
     "text": [
      "C:\\Users\\brittany henderson\\Anaconda3\\envs\\Research\\lib\\site-packages\\numpy\\core\\fromnumeric.py:3367: RuntimeWarning: Degrees of freedom <= 0 for slice\n",
      "  **kwargs)\n",
      "C:\\Users\\brittany henderson\\Anaconda3\\envs\\Research\\lib\\site-packages\\numpy\\core\\_methods.py:132: RuntimeWarning: invalid value encountered in double_scalars\n",
      "  ret = ret.dtype.type(ret / rcount)\n",
      "C:\\Users\\brittany henderson\\Anaconda3\\envs\\Research\\lib\\site-packages\\scipy\\stats\\_distn_infrastructure.py:877: RuntimeWarning: invalid value encountered in greater\n",
      "  return (self.a < x) & (x < self.b)\n",
      "C:\\Users\\brittany henderson\\Anaconda3\\envs\\Research\\lib\\site-packages\\scipy\\stats\\_distn_infrastructure.py:877: RuntimeWarning: invalid value encountered in less\n",
      "  return (self.a < x) & (x < self.b)\n",
      "C:\\Users\\brittany henderson\\Anaconda3\\envs\\Research\\lib\\site-packages\\scipy\\stats\\_distn_infrastructure.py:1831: RuntimeWarning: invalid value encountered in less_equal\n",
      "  cond2 = cond0 & (x <= self.a)\n",
      "C:\\Users\\brittany henderson\\Anaconda3\\envs\\Research\\lib\\site-packages\\statsmodels\\stats\\multitest.py:320: RuntimeWarning: invalid value encountered in less_equal\n",
      "  reject = pvals_sorted <= ecdffactor*alpha\n",
      "C:\\Users\\brittany henderson\\Anaconda3\\envs\\Research\\lib\\site-packages\\statsmodels\\stats\\multitest.py:328: RuntimeWarning: invalid value encountered in greater\n",
      "  pvals_corrected[pvals_corrected>1] = 1\n",
      "C:\\Users\\brittany henderson\\Anaconda3\\envs\\Research\\lib\\site-packages\\statsmodels\\stats\\multitest.py:251: RuntimeWarning: invalid value encountered in greater\n",
      "  pvals_corrected[pvals_corrected>1] = 1\n",
      "C:\\Users\\brittany henderson\\Anaconda3\\envs\\Research\\lib\\site-packages\\numpy\\core\\fromnumeric.py:3367: RuntimeWarning: Degrees of freedom <= 0 for slice\n",
      "  **kwargs)\n",
      "C:\\Users\\brittany henderson\\Anaconda3\\envs\\Research\\lib\\site-packages\\numpy\\core\\_methods.py:132: RuntimeWarning: invalid value encountered in double_scalars\n",
      "  ret = ret.dtype.type(ret / rcount)\n",
      "C:\\Users\\brittany henderson\\Anaconda3\\envs\\Research\\lib\\site-packages\\scipy\\stats\\_distn_infrastructure.py:877: RuntimeWarning: invalid value encountered in greater\n",
      "  return (self.a < x) & (x < self.b)\n",
      "C:\\Users\\brittany henderson\\Anaconda3\\envs\\Research\\lib\\site-packages\\scipy\\stats\\_distn_infrastructure.py:877: RuntimeWarning: invalid value encountered in less\n",
      "  return (self.a < x) & (x < self.b)\n",
      "C:\\Users\\brittany henderson\\Anaconda3\\envs\\Research\\lib\\site-packages\\scipy\\stats\\_distn_infrastructure.py:1831: RuntimeWarning: invalid value encountered in less_equal\n",
      "  cond2 = cond0 & (x <= self.a)\n",
      "C:\\Users\\brittany henderson\\Anaconda3\\envs\\Research\\lib\\site-packages\\statsmodels\\stats\\multitest.py:320: RuntimeWarning: invalid value encountered in less_equal\n",
      "  reject = pvals_sorted <= ecdffactor*alpha\n",
      "C:\\Users\\brittany henderson\\Anaconda3\\envs\\Research\\lib\\site-packages\\statsmodels\\stats\\multitest.py:328: RuntimeWarning: invalid value encountered in greater\n",
      "  pvals_corrected[pvals_corrected>1] = 1\n",
      "C:\\Users\\brittany henderson\\Anaconda3\\envs\\Research\\lib\\site-packages\\statsmodels\\stats\\multitest.py:251: RuntimeWarning: invalid value encountered in greater\n",
      "  pvals_corrected[pvals_corrected>1] = 1\n"
     ]
    }
   ],
   "source": [
    "cols = list(h_del_wt.columns[:-1])\n",
    "\n",
    "# Get only sig sites\n",
    "h_sig = u.wrap_ttest(h_del_wt, 'Mutation', cols, correction_method = 'fdr_bh')\n",
    "if h_sig is not None:\n",
    "    h_sig_list = list(h_sig.Comparison)\n",
    "else: \n",
    "    h_sig_list = None\n",
    "print('significant pvals: \\n',h_sig)\n",
    "\n",
    "# Get all pvals\n",
    "h_pval = u.wrap_ttest(h_del_wt, 'Mutation', cols, return_all = True, correction_method = 'fdr_bh')\n",
    "h_pval = h_pval.rename(columns = {'Comparison': 'Proteomics','P_Value': 'Hnscc_P_Value'})"
   ]
  },
  {
   "cell_type": "code",
   "execution_count": 42,
   "metadata": {},
   "outputs": [],
   "source": [
    "h_med = get_change_in_medians_df(h, \"Hnscc\", h_del_wt, cols)"
   ]
  },
  {
   "cell_type": "code",
   "execution_count": 43,
   "metadata": {},
   "outputs": [],
   "source": [
    "h_merged = h_pval.merge(h_med, on='Proteomics',how='outer')\n",
    "#del_wt[['PREX2_proteomics','Mutation']].dropna() # in median, not in pval (only 1 value for deletion)"
   ]
  },
  {
   "cell_type": "markdown",
   "metadata": {},
   "source": [
    "# Luad"
   ]
  },
  {
   "cell_type": "code",
   "execution_count": 44,
   "metadata": {},
   "outputs": [
    {
     "name": "stderr",
     "output_type": "stream",
     "text": [
      "cptac warning: The following columns were not found in the proteomics dataframe, so they were inserted into joined table, but filled with NaN: CSNK2A1, CSNK2A2, MDM2, PIK3R3 (C:\\Users\\brittany henderson\\Anaconda3\\envs\\Research\\lib\\site-packages\\ipykernel_launcher.py, line 34)\n",
      "cptac warning: CNV data was not found for the following samples, so CNV data columns were filled with NaN for these samples: C3L-00001.N, C3L-00009.N, C3L-00080.N, C3L-00083.N, C3L-00093.N, C3L-00094.N, C3L-00095.N, C3L-00140.N, C3L-00144.N, C3L-00263.N, C3L-00279.N, C3L-00368.N, C3L-00412.N, C3L-00422.N, C3L-00510.N, C3L-00604.N, C3L-00893.N, C3L-00913.N, C3L-00973.N, C3L-01330.N, C3L-01632.N, C3L-01682.N, C3L-01683.N, C3L-01889.N, C3L-01890, C3L-01890.N, C3L-01924.N, C3L-02219.N, C3L-02345.N, C3L-02348.N, C3L-02350.N, C3L-02365.N, C3L-02508.N, C3L-02549.N, C3N-00167.N, C3N-00169.N, C3N-00175.N, C3N-00180.N, C3N-00199.N, C3N-00203.N, C3N-00217.N, C3N-00223.N, C3N-00293.N, C3N-00433.N, C3N-00546.N, C3N-00547.N, C3N-00549.N, C3N-00550.N, C3N-00551.N, C3N-00552.N, C3N-00556.N, C3N-00559.N, C3N-00560.N, C3N-00572.N, C3N-00574.N, C3N-00578.N, C3N-00579.N, C3N-00580.N, C3N-00704.N, C3N-00737.N, C3N-00738.N, C3N-00959.N, C3N-01016.N, C3N-01021.N, C3N-01023.N, C3N-01024.N, C3N-01030.N, C3N-01071.N, C3N-01072.N, C3N-01405.N, C3N-01410.N, C3N-01413.N, C3N-01414.N, C3N-01415.N, C3N-01416.N, C3N-01488.N, C3N-01489.N, C3N-01799.N, C3N-01823.N, C3N-02000.N, C3N-02002.N, C3N-02003.N, C3N-02067.N, C3N-02087.N, C3N-02089.N, C3N-02145.N, C3N-02149.N, C3N-02155.N, C3N-02158.N, C3N-02379.N, C3N-02380.N, C3N-02421.N, C3N-02423.N, C3N-02424.N, C3N-02433.N, C3N-02529.N, C3N-02572.N, C3N-02582.N, C3N-02586.N, C3N-02587.N, C3N-02588.N, C3N-02729.N (C:\\Users\\brittany henderson\\Anaconda3\\envs\\Research\\lib\\site-packages\\ipykernel_launcher.py, line 34)\n",
      "cptac warning: Due to dropping the specified levels, dataframe now has 4 duplicated column headers. (C:\\Users\\brittany henderson\\Anaconda3\\envs\\Research\\lib\\site-packages\\ipykernel_launcher.py, line 35)\n",
      "cptac warning: You tried to flatten a column index that didn't have multiple levels, so we didn't actually change anything. (C:\\Users\\brittany henderson\\Anaconda3\\envs\\Research\\lib\\site-packages\\ipykernel_launcher.py, line 35)\n",
      "C:\\Users\\brittany henderson\\Anaconda3\\envs\\Research\\lib\\site-packages\\ipykernel_launcher.py:49: SettingWithCopyWarning: \n",
      "A value is trying to be set on a copy of a slice from a DataFrame.\n",
      "Try using .loc[row_indexer,col_indexer] = value instead\n",
      "\n",
      "See the caveats in the documentation: https://pandas.pydata.org/pandas-docs/stable/user_guide/indexing.html#returning-a-view-versus-a-copy\n"
     ]
    }
   ],
   "source": [
    "gene = 'PTEN'\n",
    "\n",
    "l_del_wt = all_prot_format_df(l, ip)\n",
    "l_del_wt = l_del_wt.dropna(axis='columns', how='all')\n",
    "l_del_wt = l_del_wt.loc[:,~l_del_wt.columns.duplicated()]"
   ]
  },
  {
   "cell_type": "code",
   "execution_count": 45,
   "metadata": {},
   "outputs": [
    {
     "name": "stdout",
     "output_type": "stream",
     "text": [
      "significant pvals: \n",
      "           Comparison       P_Value\n",
      "0    EGFR_proteomics  9.121167e-07\n",
      "1  PIK3CD_proteomics  4.312883e-04\n"
     ]
    }
   ],
   "source": [
    "cols = list(l_del_wt.columns[:-2])\n",
    "\n",
    "# Get only sig sites\n",
    "l_sig = u.wrap_ttest(l_del_wt, 'Mutation', cols, correction_method = 'fdr_bh')\n",
    "if l_sig is not None:\n",
    "    l_sig_list = list(l_sig.Comparison)\n",
    "else: \n",
    "    l_sig_list = None\n",
    "print('significant pvals: \\n',l_sig)\n",
    "\n",
    "# Get all pvals\n",
    "l_pval = u.wrap_ttest(l_del_wt, 'Mutation', cols, return_all = True, correction_method = 'fdr_bh')\n",
    "l_pval = l_pval.rename(columns = {'Comparison': 'Proteomics','P_Value': 'Luad_P_Value'})\n",
    "# isoforms for some proteins"
   ]
  },
  {
   "cell_type": "code",
   "execution_count": 28,
   "metadata": {},
   "outputs": [],
   "source": [
    "#Isoform code - fix later\n",
    "#del_wt.replace(to_replace = r'_NP_.*$', value = '', regex = True)"
   ]
  },
  {
   "cell_type": "code",
   "execution_count": 46,
   "metadata": {},
   "outputs": [],
   "source": [
    "l_med = get_change_in_medians_df(l, \"Luad\", l_del_wt, cols)"
   ]
  },
  {
   "cell_type": "code",
   "execution_count": 47,
   "metadata": {},
   "outputs": [],
   "source": [
    "l_merged = l_pval.merge(l_med, on='Proteomics',how='outer')"
   ]
  },
  {
   "cell_type": "markdown",
   "metadata": {},
   "source": [
    "# Lscc"
   ]
  },
  {
   "cell_type": "code",
   "execution_count": 48,
   "metadata": {},
   "outputs": [
    {
     "name": "stderr",
     "output_type": "stream",
     "text": [
      "cptac warning: In joining the somatic_mutation table, no mutations were found for the following samples, so they were filled with Wildtype_Tumor or Wildtype_Normal: 99 samples for the PTEN gene (C:\\Users\\brittany henderson\\Anaconda3\\envs\\Research\\lib\\site-packages\\cptac\\dataset.py, line 394)\n",
      "cptac warning: The following columns were not found in the proteomics dataframe, so they were inserted into joined table, but filled with NaN: CSNK2A2, MDM2, PIK3C3, PIK3R3, XIAP (C:\\Users\\brittany henderson\\Anaconda3\\envs\\Research\\lib\\site-packages\\ipykernel_launcher.py, line 11)\n",
      "cptac warning: In joining the somatic_mutation table, no mutations were found for the following samples, so they were filled with Wildtype_Tumor or Wildtype_Normal: 201 samples for the PTEN gene (C:\\Users\\brittany henderson\\Anaconda3\\envs\\Research\\lib\\site-packages\\ipykernel_launcher.py, line 11)\n",
      "cptac warning: Due to dropping the specified levels, dataframe now has 2 duplicated column headers. (C:\\Users\\brittany henderson\\Anaconda3\\envs\\Research\\lib\\site-packages\\ipykernel_launcher.py, line 14)\n"
     ]
    }
   ],
   "source": [
    "gene = 'PTEN'\n",
    "\n",
    "ls_del_wt = all_prot_format_df(ls, ip)\n",
    "ls_del_wt = ls_del_wt.dropna(axis='columns', how='all')\n",
    "ls_del_wt = ls_del_wt.loc[:,~ls_del_wt.columns.duplicated()]"
   ]
  },
  {
   "cell_type": "code",
   "execution_count": 49,
   "metadata": {},
   "outputs": [
    {
     "name": "stdout",
     "output_type": "stream",
     "text": [
      "significant pvals: \n",
      "            Comparison   P_Value\n",
      "0     PTEN_proteomics  0.000056\n",
      "1   PIK3CD_proteomics  0.000292\n",
      "2  CSNK2A1_proteomics  0.000684\n",
      "3    USP13_proteomics  0.002580\n",
      "4      MVP_proteomics  0.003226\n"
     ]
    }
   ],
   "source": [
    "cols = list(ls_del_wt.columns[:-2])\n",
    "\n",
    "# Get only sig sites\n",
    "ls_sig = u.wrap_ttest(ls_del_wt, 'Mutation', cols, correction_method = 'fdr_bh')\n",
    "if ls_sig is not None:\n",
    "    ls_sig_list = list(ls_sig.Comparison)\n",
    "else: \n",
    "    ls_sig_list = None\n",
    "print('significant pvals: \\n',ls_sig)\n",
    "\n",
    "# Get all pvals\n",
    "ls_pval = u.wrap_ttest(ls_del_wt, 'Mutation', cols, return_all = True, correction_method = 'fdr_bh')\n",
    "ls_pval = ls_pval.rename(columns = {'Comparison': 'Proteomics','P_Value': 'Lscc_P_Value'})\n",
    "#ls_pval # isoforms for some proteins"
   ]
  },
  {
   "cell_type": "code",
   "execution_count": 50,
   "metadata": {},
   "outputs": [],
   "source": [
    "ls_med = get_change_in_medians_df(ls, \"Lscc\", ls_del_wt, cols)"
   ]
  },
  {
   "cell_type": "code",
   "execution_count": 51,
   "metadata": {},
   "outputs": [],
   "source": [
    "ls_merged = ls_pval.merge(ls_med, on='Proteomics',how='outer')"
   ]
  },
  {
   "cell_type": "markdown",
   "metadata": {},
   "source": [
    "# Endometrial"
   ]
  },
  {
   "cell_type": "markdown",
   "metadata": {},
   "source": [
    "The Endometrial data set does not have enough cnv deletions to perform a t-test, however the data set does have enough truncation type mutations (nonsense and frame shifts). Different code is needed to create the data frame for Endometrial."
   ]
  },
  {
   "cell_type": "code",
   "execution_count": 52,
   "metadata": {},
   "outputs": [
    {
     "name": "stderr",
     "output_type": "stream",
     "text": [
      "cptac warning: In joining the somatic_mutation table, no mutations were found for the following samples, so they were filled with Wildtype_Tumor or Wildtype_Normal: 20 samples for the PTEN gene (C:\\Users\\brittany henderson\\Anaconda3\\envs\\Research\\lib\\site-packages\\cptac\\dataset.py, line 394)\n",
      "cptac warning: The following columns were not found in the proteomics dataframe, so they were inserted into joined table, but filled with NaN: MDM2, PIK3R3 (C:\\Users\\brittany henderson\\Anaconda3\\envs\\Research\\lib\\site-packages\\ipykernel_launcher.py, line 5)\n",
      "cptac warning: In joining the somatic_mutation table, no mutations were found for the following samples, so they were filled with Wildtype_Tumor or Wildtype_Normal: 69 samples for the PTEN gene (C:\\Users\\brittany henderson\\Anaconda3\\envs\\Research\\lib\\site-packages\\ipykernel_launcher.py, line 5)\n",
      "C:\\Users\\brittany henderson\\Anaconda3\\envs\\Research\\lib\\site-packages\\ipykernel_launcher.py:16: SettingWithCopyWarning: \n",
      "A value is trying to be set on a copy of a slice from a DataFrame.\n",
      "Try using .loc[row_indexer,col_indexer] = value instead\n",
      "\n",
      "See the caveats in the documentation: https://pandas.pydata.org/pandas-docs/stable/user_guide/indexing.html#returning-a-view-versus-a-copy\n",
      "  app.launch_new_instance()\n"
     ]
    },
    {
     "data": {
      "text/plain": [
       "Truncation        53\n",
       "Wildtype_Tumor    15\n",
       "Name: Mutation, dtype: int64"
      ]
     },
     "execution_count": 52,
     "metadata": {},
     "output_type": "execute_result"
    }
   ],
   "source": [
    "en_mut_type = en.get_genotype_all_vars(gene)\n",
    "\n",
    "# merge cnv with genotype all mut type\n",
    "prot_and_mutations = en.join_omics_to_mutations(\n",
    "    mutations_genes = [gene], omics_df_name = 'proteomics', omics_genes = ip)\n",
    "prot_and_mutations = prot_and_mutations[prot_and_mutations.Sample_Status == \"Tumor\"] # drop Normal samples\n",
    "ip_df = prot_and_mutations.iloc[:,:-4] #drop mutation, location cols\n",
    "en_mut_type = en_mut_type[['Mutation']] \n",
    "merged = ip_df.join(en_mut_type) # merge mutation col from function (includes cnv)\n",
    "\n",
    "# Keep two values to compare\n",
    "compare = ['Wildtype_Tumor','Nonsense_Mutation','Frame_Shift_Ins','Frame_Shift_Del']\n",
    "get = merged['Mutation'].isin(compare)\n",
    "trunc_wt = merged[get]\n",
    "trunc_wt['Mutation'] = np.where(\n",
    "                trunc_wt['Mutation'] == 'Wildtype_Tumor', 'Wildtype_Tumor', 'Truncation')\n",
    "trunc_wt['Mutation'].value_counts()"
   ]
  },
  {
   "cell_type": "code",
   "execution_count": 53,
   "metadata": {},
   "outputs": [
    {
     "name": "stdout",
     "output_type": "stream",
     "text": [
      "significant pvals: \n",
      "            Comparison   P_Value\n",
      "0     PTEN_proteomics  0.000640\n",
      "1     TP53_proteomics  0.001246\n",
      "2   PIK3CA_proteomics  0.001761\n",
      "3  CSNK2A1_proteomics  0.002364\n",
      "4     EGFR_proteomics  0.006128\n"
     ]
    }
   ],
   "source": [
    "e_sig = u.wrap_ttest(trunc_wt, 'Mutation', cols, correction_method = 'fdr_bh')\n",
    "if e_sig is not None:\n",
    "    e_sig_list = list(e_sig.Comparison)\n",
    "else: \n",
    "    e_sig_list = None\n",
    "print('significant pvals: \\n',e_sig)\n",
    "\n",
    "# Get all pvals\n",
    "e_pval = u.wrap_ttest(trunc_wt, 'Mutation', cols, return_all = True, correction_method = 'fdr_bh')\n",
    "e_pval = e_pval.rename(columns = {'Comparison': 'Proteomics','P_Value': 'En_P_Value'})"
   ]
  },
  {
   "cell_type": "markdown",
   "metadata": {},
   "source": [
    "Differences in median with adaption to trunctation mutations."
   ]
  },
  {
   "cell_type": "code",
   "execution_count": 54,
   "metadata": {},
   "outputs": [
    {
     "name": "stderr",
     "output_type": "stream",
     "text": [
      "C:\\Users\\brittany henderson\\Anaconda3\\envs\\Research\\lib\\site-packages\\numpy\\lib\\nanfunctions.py:1076: RuntimeWarning: Mean of empty slice\n",
      "  return np.nanmean(a, axis, out=out, keepdims=keepdims)\n"
     ]
    }
   ],
   "source": [
    "t = trunc_wt[trunc_wt.Mutation == \"Truncation\"]\n",
    "wt = trunc_wt[trunc_wt.Mutation == \"Wildtype_Tumor\"]\n",
    "trunc_med = t.median()\n",
    "wt_med = wt.median()\n",
    "\n",
    "en_d = {}\n",
    "\n",
    "for prot in ip:\n",
    "    dif = trunc_med[prot+'_proteomics'] - wt_med[prot+'_proteomics']\n",
    "    en_d[prot+'_proteomics'] = dif\n",
    "    #print(trunc_med[prot+'_proteomics'], '-', wt_med[prot+'_proteomics'], ' = ', en_d[prot+'_proteomics'])\n",
    "    \n",
    "\n",
    "en_med = pd.DataFrame.from_dict(en_d, orient='index', columns=['En_Median'])\n",
    "en_med = en_med.reset_index().rename(columns={'index':'Proteomics'})"
   ]
  },
  {
   "cell_type": "code",
   "execution_count": 55,
   "metadata": {},
   "outputs": [],
   "source": [
    "e_merged = e_pval.merge(en_med, on='Proteomics',how='outer')"
   ]
  },
  {
   "cell_type": "markdown",
   "metadata": {},
   "source": [
    "# Get a list of significant genes in at least one cancer"
   ]
  },
  {
   "cell_type": "code",
   "execution_count": 56,
   "metadata": {},
   "outputs": [
    {
     "data": {
      "text/plain": [
       "12"
      ]
     },
     "execution_count": 56,
     "metadata": {},
     "output_type": "execute_result"
    }
   ],
   "source": [
    "# Keep only genes significant in > 1 cancer\n",
    "all_sig = []\n",
    "\n",
    "sig_lists = [g_sig_list, e_sig_list, b_sig_list, o_sig_list, c_sig_list, h_sig_list, l_sig_list, ls_sig_list]\n",
    "\n",
    "for next_list in sig_lists:\n",
    "    if next_list is not None:\n",
    "        all_sig.append(next_list)\n",
    "        \n",
    "\n",
    "flat_list = [item for sublist in all_sig for item in sublist] #change list of lists, to just one list\n",
    "sig = list(set(flat_list)) # remove duplicates\n",
    "len(sig)\n",
    "\n",
    "sig_genes = list(map(lambda x: str.replace(x, \"_proteomics\", \"\"), sig)) \n",
    "len(sig_genes)"
   ]
  },
  {
   "cell_type": "markdown",
   "metadata": {},
   "source": [
    "# Get a list of significant genes in multiple cancers"
   ]
  },
  {
   "cell_type": "code",
   "execution_count": 57,
   "metadata": {},
   "outputs": [
    {
     "data": {
      "text/plain": [
       "['PIK3CD_proteomics',\n",
       " 'CSNK2A1_proteomics',\n",
       " 'PTEN_proteomics',\n",
       " 'PIK3CA_proteomics',\n",
       " 'EGFR_proteomics',\n",
       " 'USP13_proteomics']"
      ]
     },
     "execution_count": 57,
     "metadata": {},
     "output_type": "execute_result"
    }
   ],
   "source": [
    "# sig in multiple (more than 1) cancers\n",
    "mult = list(set(i for i in flat_list if flat_list.count(i) > 1)) # Keep genes sig in more than 1 cancer\n",
    "len(mult)\n",
    "mult\n"
   ]
  },
  {
   "cell_type": "code",
   "execution_count": 58,
   "metadata": {},
   "outputs": [
    {
     "name": "stdout",
     "output_type": "stream",
     "text": [
      "Gbm :\n",
      "5 \n",
      "\n",
      "En :\n",
      "5 \n",
      "\n",
      "Brca :\n",
      "1 \n",
      "\n",
      "Ov :\n",
      "1 \n",
      "\n",
      "Colon :\n",
      "Hnscc :\n",
      "4 \n",
      "\n",
      "Luad :\n",
      "2 \n",
      "\n",
      "Luad :\n",
      "5 \n",
      "\n"
     ]
    }
   ],
   "source": [
    "# see sig in cancer\n",
    "cancer = ['Gbm','En','Brca','Ov','Colon','Hnscc','Luad']\n",
    "i = 0\n",
    "for next_list in sig_lists:\n",
    "\n",
    "    print(cancer[i], ':')\n",
    "    if next_list is not None: \n",
    "        print(len(next_list),'\\n')\n",
    "    #print(next_list, '\\n')\n",
    "    if (i < 6):\n",
    "        i += 1\n",
    "    "
   ]
  },
  {
   "cell_type": "markdown",
   "metadata": {},
   "source": [
    "# Heat Maps"
   ]
  },
  {
   "cell_type": "markdown",
   "metadata": {},
   "source": [
    "Interacting Genes - Signficant in > 1 Cancer"
   ]
  },
  {
   "cell_type": "code",
   "execution_count": 60,
   "metadata": {},
   "outputs": [],
   "source": [
    "root = R'~\\Github\\WhenMutationsDontMatter\\PTEN\\Step_3_trans_effect\\csv'\n",
    "sig_df = pd.read_csv(root+R'\\sig_pval_heatmap.csv')"
   ]
  },
  {
   "cell_type": "code",
   "execution_count": 61,
   "metadata": {},
   "outputs": [
    {
     "data": {
      "text/plain": [
       "array(['PTEN', 'PIK3CD', 'PIK3C3', 'USP7', 'PIK3R1', 'INPP4B', 'EGFR',\n",
       "       'CSNK2A1', 'PIK3CA', 'TP53'], dtype=object)"
      ]
     },
     "execution_count": 61,
     "metadata": {},
     "output_type": "execute_result"
    }
   ],
   "source": [
    "# sig > 1 cancer\n",
    "bool_df = sig_df.Proteomics.isin(sig_genes)\n",
    "plot_df = sig_df[bool_df]\n",
    "plot_df.Proteomics.unique()"
   ]
  },
  {
   "cell_type": "code",
   "execution_count": 62,
   "metadata": {},
   "outputs": [
    {
     "name": "stderr",
     "output_type": "stream",
     "text": [
      "C:\\Users\\brittany henderson\\Anaconda3\\envs\\Research\\lib\\site-packages\\ipykernel_launcher.py:2: SettingWithCopyWarning: \n",
      "A value is trying to be set on a copy of a slice from a DataFrame.\n",
      "Try using .loc[row_indexer,col_indexer] = value instead\n",
      "\n",
      "See the caveats in the documentation: https://pandas.pydata.org/pandas-docs/stable/user_guide/indexing.html#returning-a-view-versus-a-copy\n",
      "  \n"
     ]
    },
    {
     "data": {
      "text/html": [
       "<div>\n",
       "<style scoped>\n",
       "    .dataframe tbody tr th:only-of-type {\n",
       "        vertical-align: middle;\n",
       "    }\n",
       "\n",
       "    .dataframe tbody tr th {\n",
       "        vertical-align: top;\n",
       "    }\n",
       "\n",
       "    .dataframe thead th {\n",
       "        text-align: right;\n",
       "    }\n",
       "</style>\n",
       "<table border=\"1\" class=\"dataframe\">\n",
       "  <thead>\n",
       "    <tr style=\"text-align: right;\">\n",
       "      <th></th>\n",
       "      <th>Proteomics</th>\n",
       "      <th>P_Value</th>\n",
       "      <th>Medians</th>\n",
       "      <th>Cancer</th>\n",
       "      <th>size</th>\n",
       "    </tr>\n",
       "  </thead>\n",
       "  <tbody>\n",
       "    <tr>\n",
       "      <th>12</th>\n",
       "      <td>PTEN</td>\n",
       "      <td>1.219523e-07</td>\n",
       "      <td>-0.511726</td>\n",
       "      <td>Gbm</td>\n",
       "      <td>1.591964</td>\n",
       "    </tr>\n",
       "    <tr>\n",
       "      <th>840</th>\n",
       "      <td>PIK3CD</td>\n",
       "      <td>1.030815e-03</td>\n",
       "      <td>-0.492099</td>\n",
       "      <td>Gbm</td>\n",
       "      <td>0.687741</td>\n",
       "    </tr>\n",
       "    <tr>\n",
       "      <th>913</th>\n",
       "      <td>PIK3C3</td>\n",
       "      <td>1.225949e-03</td>\n",
       "      <td>-0.102518</td>\n",
       "      <td>Gbm</td>\n",
       "      <td>0.670404</td>\n",
       "    </tr>\n",
       "    <tr>\n",
       "      <th>1416</th>\n",
       "      <td>USP7</td>\n",
       "      <td>4.017792e-03</td>\n",
       "      <td>0.154035</td>\n",
       "      <td>Gbm</td>\n",
       "      <td>0.551702</td>\n",
       "    </tr>\n",
       "    <tr>\n",
       "      <th>1453</th>\n",
       "      <td>PIK3R1</td>\n",
       "      <td>4.282296e-03</td>\n",
       "      <td>-0.188390</td>\n",
       "      <td>Gbm</td>\n",
       "      <td>0.545327</td>\n",
       "    </tr>\n",
       "    <tr>\n",
       "      <th>...</th>\n",
       "      <td>...</td>\n",
       "      <td>...</td>\n",
       "      <td>...</td>\n",
       "      <td>...</td>\n",
       "      <td>...</td>\n",
       "    </tr>\n",
       "    <tr>\n",
       "      <th>17779</th>\n",
       "      <td>USP7</td>\n",
       "      <td>2.374409e-01</td>\n",
       "      <td>0.044500</td>\n",
       "      <td>Colon</td>\n",
       "      <td>0.143784</td>\n",
       "    </tr>\n",
       "    <tr>\n",
       "      <th>17995</th>\n",
       "      <td>PIK3CA</td>\n",
       "      <td>3.329024e-01</td>\n",
       "      <td>0.033850</td>\n",
       "      <td>Colon</td>\n",
       "      <td>0.109991</td>\n",
       "    </tr>\n",
       "    <tr>\n",
       "      <th>18076</th>\n",
       "      <td>EGFR</td>\n",
       "      <td>3.668857e-01</td>\n",
       "      <td>-0.023500</td>\n",
       "      <td>Colon</td>\n",
       "      <td>0.100270</td>\n",
       "    </tr>\n",
       "    <tr>\n",
       "      <th>19232</th>\n",
       "      <td>TP53</td>\n",
       "      <td>9.688700e-01</td>\n",
       "      <td>0.049050</td>\n",
       "      <td>Colon</td>\n",
       "      <td>0.003162</td>\n",
       "    </tr>\n",
       "    <tr>\n",
       "      <th>19239</th>\n",
       "      <td>PIK3R1</td>\n",
       "      <td>9.727770e-01</td>\n",
       "      <td>-0.012450</td>\n",
       "      <td>Colon</td>\n",
       "      <td>0.002760</td>\n",
       "    </tr>\n",
       "  </tbody>\n",
       "</table>\n",
       "<p>77 rows × 5 columns</p>\n",
       "</div>"
      ],
      "text/plain": [
       "      Proteomics       P_Value   Medians Cancer      size\n",
       "12          PTEN  1.219523e-07 -0.511726    Gbm  1.591964\n",
       "840       PIK3CD  1.030815e-03 -0.492099    Gbm  0.687741\n",
       "913       PIK3C3  1.225949e-03 -0.102518    Gbm  0.670404\n",
       "1416        USP7  4.017792e-03  0.154035    Gbm  0.551702\n",
       "1453      PIK3R1  4.282296e-03 -0.188390    Gbm  0.545327\n",
       "...          ...           ...       ...    ...       ...\n",
       "17779       USP7  2.374409e-01  0.044500  Colon  0.143784\n",
       "17995     PIK3CA  3.329024e-01  0.033850  Colon  0.109991\n",
       "18076       EGFR  3.668857e-01 -0.023500  Colon  0.100270\n",
       "19232       TP53  9.688700e-01  0.049050  Colon  0.003162\n",
       "19239     PIK3R1  9.727770e-01 -0.012450  Colon  0.002760\n",
       "\n",
       "[77 rows x 5 columns]"
      ]
     },
     "execution_count": 62,
     "metadata": {},
     "output_type": "execute_result"
    }
   ],
   "source": [
    "# log p-vals for right scale in plot (bigger circle, smaller pval)\n",
    "plot_df['size'] = plot_df['P_Value'].apply(lambda x: -1*(np.log(x)/10))\n",
    "plot_df"
   ]
  },
  {
   "cell_type": "code",
   "execution_count": 63,
   "metadata": {},
   "outputs": [
    {
     "name": "stderr",
     "output_type": "stream",
     "text": [
      "C:\\Users\\brittany henderson\\Anaconda3\\envs\\Research\\lib\\site-packages\\plot_utils\\__init__.py:40: SettingWithCopyWarning: \n",
      "A value is trying to be set on a copy of a slice from a DataFrame.\n",
      "Try using .loc[row_indexer,col_indexer] = value instead\n",
      "\n",
      "See the caveats in the documentation: https://pandas.pydata.org/pandas-docs/stable/user_guide/indexing.html#returning-a-view-versus-a-copy\n",
      "  df[\"size2\"] = df[circle_var].apply(lambda x: -1*(np.log(x)))\n",
      "C:\\Users\\brittany henderson\\Anaconda3\\envs\\Research\\lib\\site-packages\\plot_utils\\__init__.py:41: SettingWithCopyWarning: \n",
      "A value is trying to be set on a copy of a slice from a DataFrame.\n",
      "Try using .loc[row_indexer,col_indexer] = value instead\n",
      "\n",
      "See the caveats in the documentation: https://pandas.pydata.org/pandas-docs/stable/user_guide/indexing.html#returning-a-view-versus-a-copy\n",
      "  df['size'] = (df[\"size2\"])*3\n"
     ]
    },
    {
     "data": {
      "text/html": [
       "\n",
       "    <div class=\"bk-root\">\n",
       "        <a href=\"https://bokeh.org\" target=\"_blank\" class=\"bk-logo bk-logo-small bk-logo-notebook\"></a>\n",
       "        <span id=\"1027\">Loading BokehJS ...</span>\n",
       "    </div>"
      ]
     },
     "metadata": {},
     "output_type": "display_data"
    },
    {
     "data": {
      "application/javascript": [
       "\n",
       "(function(root) {\n",
       "  function now() {\n",
       "    return new Date();\n",
       "  }\n",
       "\n",
       "  var force = true;\n",
       "\n",
       "  if (typeof root._bokeh_onload_callbacks === \"undefined\" || force === true) {\n",
       "    root._bokeh_onload_callbacks = [];\n",
       "    root._bokeh_is_loading = undefined;\n",
       "  }\n",
       "\n",
       "  var JS_MIME_TYPE = 'application/javascript';\n",
       "  var HTML_MIME_TYPE = 'text/html';\n",
       "  var EXEC_MIME_TYPE = 'application/vnd.bokehjs_exec.v0+json';\n",
       "  var CLASS_NAME = 'output_bokeh rendered_html';\n",
       "\n",
       "  /**\n",
       "   * Render data to the DOM node\n",
       "   */\n",
       "  function render(props, node) {\n",
       "    var script = document.createElement(\"script\");\n",
       "    node.appendChild(script);\n",
       "  }\n",
       "\n",
       "  /**\n",
       "   * Handle when an output is cleared or removed\n",
       "   */\n",
       "  function handleClearOutput(event, handle) {\n",
       "    var cell = handle.cell;\n",
       "\n",
       "    var id = cell.output_area._bokeh_element_id;\n",
       "    var server_id = cell.output_area._bokeh_server_id;\n",
       "    // Clean up Bokeh references\n",
       "    if (id != null && id in Bokeh.index) {\n",
       "      Bokeh.index[id].model.document.clear();\n",
       "      delete Bokeh.index[id];\n",
       "    }\n",
       "\n",
       "    if (server_id !== undefined) {\n",
       "      // Clean up Bokeh references\n",
       "      var cmd = \"from bokeh.io.state import curstate; print(curstate().uuid_to_server['\" + server_id + \"'].get_sessions()[0].document.roots[0]._id)\";\n",
       "      cell.notebook.kernel.execute(cmd, {\n",
       "        iopub: {\n",
       "          output: function(msg) {\n",
       "            var id = msg.content.text.trim();\n",
       "            if (id in Bokeh.index) {\n",
       "              Bokeh.index[id].model.document.clear();\n",
       "              delete Bokeh.index[id];\n",
       "            }\n",
       "          }\n",
       "        }\n",
       "      });\n",
       "      // Destroy server and session\n",
       "      var cmd = \"import bokeh.io.notebook as ion; ion.destroy_server('\" + server_id + \"')\";\n",
       "      cell.notebook.kernel.execute(cmd);\n",
       "    }\n",
       "  }\n",
       "\n",
       "  /**\n",
       "   * Handle when a new output is added\n",
       "   */\n",
       "  function handleAddOutput(event, handle) {\n",
       "    var output_area = handle.output_area;\n",
       "    var output = handle.output;\n",
       "\n",
       "    // limit handleAddOutput to display_data with EXEC_MIME_TYPE content only\n",
       "    if ((output.output_type != \"display_data\") || (!output.data.hasOwnProperty(EXEC_MIME_TYPE))) {\n",
       "      return\n",
       "    }\n",
       "\n",
       "    var toinsert = output_area.element.find(\".\" + CLASS_NAME.split(' ')[0]);\n",
       "\n",
       "    if (output.metadata[EXEC_MIME_TYPE][\"id\"] !== undefined) {\n",
       "      toinsert[toinsert.length - 1].firstChild.textContent = output.data[JS_MIME_TYPE];\n",
       "      // store reference to embed id on output_area\n",
       "      output_area._bokeh_element_id = output.metadata[EXEC_MIME_TYPE][\"id\"];\n",
       "    }\n",
       "    if (output.metadata[EXEC_MIME_TYPE][\"server_id\"] !== undefined) {\n",
       "      var bk_div = document.createElement(\"div\");\n",
       "      bk_div.innerHTML = output.data[HTML_MIME_TYPE];\n",
       "      var script_attrs = bk_div.children[0].attributes;\n",
       "      for (var i = 0; i < script_attrs.length; i++) {\n",
       "        toinsert[toinsert.length - 1].firstChild.setAttribute(script_attrs[i].name, script_attrs[i].value);\n",
       "        toinsert[toinsert.length - 1].firstChild.textContent = bk_div.children[0].textContent\n",
       "      }\n",
       "      // store reference to server id on output_area\n",
       "      output_area._bokeh_server_id = output.metadata[EXEC_MIME_TYPE][\"server_id\"];\n",
       "    }\n",
       "  }\n",
       "\n",
       "  function register_renderer(events, OutputArea) {\n",
       "\n",
       "    function append_mime(data, metadata, element) {\n",
       "      // create a DOM node to render to\n",
       "      var toinsert = this.create_output_subarea(\n",
       "        metadata,\n",
       "        CLASS_NAME,\n",
       "        EXEC_MIME_TYPE\n",
       "      );\n",
       "      this.keyboard_manager.register_events(toinsert);\n",
       "      // Render to node\n",
       "      var props = {data: data, metadata: metadata[EXEC_MIME_TYPE]};\n",
       "      render(props, toinsert[toinsert.length - 1]);\n",
       "      element.append(toinsert);\n",
       "      return toinsert\n",
       "    }\n",
       "\n",
       "    /* Handle when an output is cleared or removed */\n",
       "    events.on('clear_output.CodeCell', handleClearOutput);\n",
       "    events.on('delete.Cell', handleClearOutput);\n",
       "\n",
       "    /* Handle when a new output is added */\n",
       "    events.on('output_added.OutputArea', handleAddOutput);\n",
       "\n",
       "    /**\n",
       "     * Register the mime type and append_mime function with output_area\n",
       "     */\n",
       "    OutputArea.prototype.register_mime_type(EXEC_MIME_TYPE, append_mime, {\n",
       "      /* Is output safe? */\n",
       "      safe: true,\n",
       "      /* Index of renderer in `output_area.display_order` */\n",
       "      index: 0\n",
       "    });\n",
       "  }\n",
       "\n",
       "  // register the mime type if in Jupyter Notebook environment and previously unregistered\n",
       "  if (root.Jupyter !== undefined) {\n",
       "    var events = require('base/js/events');\n",
       "    var OutputArea = require('notebook/js/outputarea').OutputArea;\n",
       "\n",
       "    if (OutputArea.prototype.mime_types().indexOf(EXEC_MIME_TYPE) == -1) {\n",
       "      register_renderer(events, OutputArea);\n",
       "    }\n",
       "  }\n",
       "\n",
       "  \n",
       "  if (typeof (root._bokeh_timeout) === \"undefined\" || force === true) {\n",
       "    root._bokeh_timeout = Date.now() + 5000;\n",
       "    root._bokeh_failed_load = false;\n",
       "  }\n",
       "\n",
       "  var NB_LOAD_WARNING = {'data': {'text/html':\n",
       "     \"<div style='background-color: #fdd'>\\n\"+\n",
       "     \"<p>\\n\"+\n",
       "     \"BokehJS does not appear to have successfully loaded. If loading BokehJS from CDN, this \\n\"+\n",
       "     \"may be due to a slow or bad network connection. Possible fixes:\\n\"+\n",
       "     \"</p>\\n\"+\n",
       "     \"<ul>\\n\"+\n",
       "     \"<li>re-rerun `output_notebook()` to attempt to load from CDN again, or</li>\\n\"+\n",
       "     \"<li>use INLINE resources instead, as so:</li>\\n\"+\n",
       "     \"</ul>\\n\"+\n",
       "     \"<code>\\n\"+\n",
       "     \"from bokeh.resources import INLINE\\n\"+\n",
       "     \"output_notebook(resources=INLINE)\\n\"+\n",
       "     \"</code>\\n\"+\n",
       "     \"</div>\"}};\n",
       "\n",
       "  function display_loaded() {\n",
       "    var el = document.getElementById(\"1027\");\n",
       "    if (el != null) {\n",
       "      el.textContent = \"BokehJS is loading...\";\n",
       "    }\n",
       "    if (root.Bokeh !== undefined) {\n",
       "      if (el != null) {\n",
       "        el.textContent = \"BokehJS \" + root.Bokeh.version + \" successfully loaded.\";\n",
       "      }\n",
       "    } else if (Date.now() < root._bokeh_timeout) {\n",
       "      setTimeout(display_loaded, 100)\n",
       "    }\n",
       "  }\n",
       "\n",
       "\n",
       "  function run_callbacks() {\n",
       "    try {\n",
       "      root._bokeh_onload_callbacks.forEach(function(callback) {\n",
       "        if (callback != null)\n",
       "          callback();\n",
       "      });\n",
       "    } finally {\n",
       "      delete root._bokeh_onload_callbacks\n",
       "    }\n",
       "    console.debug(\"Bokeh: all callbacks have finished\");\n",
       "  }\n",
       "\n",
       "  function load_libs(css_urls, js_urls, callback) {\n",
       "    if (css_urls == null) css_urls = [];\n",
       "    if (js_urls == null) js_urls = [];\n",
       "\n",
       "    root._bokeh_onload_callbacks.push(callback);\n",
       "    if (root._bokeh_is_loading > 0) {\n",
       "      console.debug(\"Bokeh: BokehJS is being loaded, scheduling callback at\", now());\n",
       "      return null;\n",
       "    }\n",
       "    if (js_urls == null || js_urls.length === 0) {\n",
       "      run_callbacks();\n",
       "      return null;\n",
       "    }\n",
       "    console.debug(\"Bokeh: BokehJS not loaded, scheduling load and callback at\", now());\n",
       "    root._bokeh_is_loading = css_urls.length + js_urls.length;\n",
       "\n",
       "    function on_load() {\n",
       "      root._bokeh_is_loading--;\n",
       "      if (root._bokeh_is_loading === 0) {\n",
       "        console.debug(\"Bokeh: all BokehJS libraries/stylesheets loaded\");\n",
       "        run_callbacks()\n",
       "      }\n",
       "    }\n",
       "\n",
       "    function on_error() {\n",
       "      console.error(\"failed to load \" + url);\n",
       "    }\n",
       "\n",
       "    for (var i = 0; i < css_urls.length; i++) {\n",
       "      var url = css_urls[i];\n",
       "      const element = document.createElement(\"link\");\n",
       "      element.onload = on_load;\n",
       "      element.onerror = on_error;\n",
       "      element.rel = \"stylesheet\";\n",
       "      element.type = \"text/css\";\n",
       "      element.href = url;\n",
       "      console.debug(\"Bokeh: injecting link tag for BokehJS stylesheet: \", url);\n",
       "      document.body.appendChild(element);\n",
       "    }\n",
       "\n",
       "    const hashes = {\"https://cdn.bokeh.org/bokeh/release/bokeh-2.0.1.min.js\": \"JpP8FXbgAZLkfur7LiK3j9AGBhHNIvF742meBJrjO2ShJDhCG2I1uVvW+0DUtrmc\", \"https://cdn.bokeh.org/bokeh/release/bokeh-widgets-2.0.1.min.js\": \"xZlADit0Q04ISQEdKg2k3L4W9AwQBAuDs9nJL9fM/WwzL1tEU9VPNezOFX0nLEAz\", \"https://cdn.bokeh.org/bokeh/release/bokeh-tables-2.0.1.min.js\": \"4BuPRZkdMKSnj3zoxiNrQ86XgNw0rYmBOxe7nshquXwwcauupgBF2DHLVG1WuZlV\", \"https://cdn.bokeh.org/bokeh/release/bokeh-gl-2.0.1.min.js\": \"Dv1SQ87hmDqK6S5OhBf0bCuwAEvL5QYL0PuR/F1SPVhCS/r/abjkbpKDYL2zeM19\"};\n",
       "\n",
       "    for (var i = 0; i < js_urls.length; i++) {\n",
       "      var url = js_urls[i];\n",
       "      var element = document.createElement('script');\n",
       "      element.onload = on_load;\n",
       "      element.onerror = on_error;\n",
       "      element.async = false;\n",
       "      element.src = url;\n",
       "      if (url in hashes) {\n",
       "        element.crossOrigin = \"anonymous\";\n",
       "        element.integrity = \"sha384-\" + hashes[url];\n",
       "      }\n",
       "      console.debug(\"Bokeh: injecting script tag for BokehJS library: \", url);\n",
       "      document.head.appendChild(element);\n",
       "    }\n",
       "  };var element = document.getElementById(\"1027\");\n",
       "  if (element == null) {\n",
       "    console.error(\"Bokeh: ERROR: autoload.js configured with elementid '1027' but no matching script tag was found. \")\n",
       "    return false;\n",
       "  }\n",
       "\n",
       "  function inject_raw_css(css) {\n",
       "    const element = document.createElement(\"style\");\n",
       "    element.appendChild(document.createTextNode(css));\n",
       "    document.body.appendChild(element);\n",
       "  }\n",
       "\n",
       "  \n",
       "  var js_urls = [\"https://cdn.bokeh.org/bokeh/release/bokeh-2.0.1.min.js\", \"https://cdn.bokeh.org/bokeh/release/bokeh-widgets-2.0.1.min.js\", \"https://cdn.bokeh.org/bokeh/release/bokeh-tables-2.0.1.min.js\", \"https://cdn.bokeh.org/bokeh/release/bokeh-gl-2.0.1.min.js\"];\n",
       "  var css_urls = [];\n",
       "  \n",
       "\n",
       "  var inline_js = [\n",
       "    function(Bokeh) {\n",
       "      Bokeh.set_log_level(\"info\");\n",
       "    },\n",
       "    function(Bokeh) {\n",
       "    \n",
       "    \n",
       "    }\n",
       "  ];\n",
       "\n",
       "  function run_inline_js() {\n",
       "    \n",
       "    if (root.Bokeh !== undefined || force === true) {\n",
       "      \n",
       "    for (var i = 0; i < inline_js.length; i++) {\n",
       "      inline_js[i].call(root, root.Bokeh);\n",
       "    }\n",
       "    if (force === true) {\n",
       "        display_loaded();\n",
       "      }} else if (Date.now() < root._bokeh_timeout) {\n",
       "      setTimeout(run_inline_js, 100);\n",
       "    } else if (!root._bokeh_failed_load) {\n",
       "      console.log(\"Bokeh: BokehJS failed to load within specified timeout.\");\n",
       "      root._bokeh_failed_load = true;\n",
       "    } else if (force !== true) {\n",
       "      var cell = $(document.getElementById(\"1027\")).parents('.cell').data().cell;\n",
       "      cell.output_area.append_execute_result(NB_LOAD_WARNING)\n",
       "    }\n",
       "\n",
       "  }\n",
       "\n",
       "  if (root._bokeh_is_loading === 0) {\n",
       "    console.debug(\"Bokeh: BokehJS loaded, going straight to plotting\");\n",
       "    run_inline_js();\n",
       "  } else {\n",
       "    load_libs(css_urls, js_urls, function() {\n",
       "      console.debug(\"Bokeh: BokehJS plotting callback run at\", now());\n",
       "      run_inline_js();\n",
       "    });\n",
       "  }\n",
       "}(window));"
      ],
      "application/vnd.bokehjs_load.v0+json": "\n(function(root) {\n  function now() {\n    return new Date();\n  }\n\n  var force = true;\n\n  if (typeof root._bokeh_onload_callbacks === \"undefined\" || force === true) {\n    root._bokeh_onload_callbacks = [];\n    root._bokeh_is_loading = undefined;\n  }\n\n  \n\n  \n  if (typeof (root._bokeh_timeout) === \"undefined\" || force === true) {\n    root._bokeh_timeout = Date.now() + 5000;\n    root._bokeh_failed_load = false;\n  }\n\n  var NB_LOAD_WARNING = {'data': {'text/html':\n     \"<div style='background-color: #fdd'>\\n\"+\n     \"<p>\\n\"+\n     \"BokehJS does not appear to have successfully loaded. If loading BokehJS from CDN, this \\n\"+\n     \"may be due to a slow or bad network connection. Possible fixes:\\n\"+\n     \"</p>\\n\"+\n     \"<ul>\\n\"+\n     \"<li>re-rerun `output_notebook()` to attempt to load from CDN again, or</li>\\n\"+\n     \"<li>use INLINE resources instead, as so:</li>\\n\"+\n     \"</ul>\\n\"+\n     \"<code>\\n\"+\n     \"from bokeh.resources import INLINE\\n\"+\n     \"output_notebook(resources=INLINE)\\n\"+\n     \"</code>\\n\"+\n     \"</div>\"}};\n\n  function display_loaded() {\n    var el = document.getElementById(\"1027\");\n    if (el != null) {\n      el.textContent = \"BokehJS is loading...\";\n    }\n    if (root.Bokeh !== undefined) {\n      if (el != null) {\n        el.textContent = \"BokehJS \" + root.Bokeh.version + \" successfully loaded.\";\n      }\n    } else if (Date.now() < root._bokeh_timeout) {\n      setTimeout(display_loaded, 100)\n    }\n  }\n\n\n  function run_callbacks() {\n    try {\n      root._bokeh_onload_callbacks.forEach(function(callback) {\n        if (callback != null)\n          callback();\n      });\n    } finally {\n      delete root._bokeh_onload_callbacks\n    }\n    console.debug(\"Bokeh: all callbacks have finished\");\n  }\n\n  function load_libs(css_urls, js_urls, callback) {\n    if (css_urls == null) css_urls = [];\n    if (js_urls == null) js_urls = [];\n\n    root._bokeh_onload_callbacks.push(callback);\n    if (root._bokeh_is_loading > 0) {\n      console.debug(\"Bokeh: BokehJS is being loaded, scheduling callback at\", now());\n      return null;\n    }\n    if (js_urls == null || js_urls.length === 0) {\n      run_callbacks();\n      return null;\n    }\n    console.debug(\"Bokeh: BokehJS not loaded, scheduling load and callback at\", now());\n    root._bokeh_is_loading = css_urls.length + js_urls.length;\n\n    function on_load() {\n      root._bokeh_is_loading--;\n      if (root._bokeh_is_loading === 0) {\n        console.debug(\"Bokeh: all BokehJS libraries/stylesheets loaded\");\n        run_callbacks()\n      }\n    }\n\n    function on_error() {\n      console.error(\"failed to load \" + url);\n    }\n\n    for (var i = 0; i < css_urls.length; i++) {\n      var url = css_urls[i];\n      const element = document.createElement(\"link\");\n      element.onload = on_load;\n      element.onerror = on_error;\n      element.rel = \"stylesheet\";\n      element.type = \"text/css\";\n      element.href = url;\n      console.debug(\"Bokeh: injecting link tag for BokehJS stylesheet: \", url);\n      document.body.appendChild(element);\n    }\n\n    const hashes = {\"https://cdn.bokeh.org/bokeh/release/bokeh-2.0.1.min.js\": \"JpP8FXbgAZLkfur7LiK3j9AGBhHNIvF742meBJrjO2ShJDhCG2I1uVvW+0DUtrmc\", \"https://cdn.bokeh.org/bokeh/release/bokeh-widgets-2.0.1.min.js\": \"xZlADit0Q04ISQEdKg2k3L4W9AwQBAuDs9nJL9fM/WwzL1tEU9VPNezOFX0nLEAz\", \"https://cdn.bokeh.org/bokeh/release/bokeh-tables-2.0.1.min.js\": \"4BuPRZkdMKSnj3zoxiNrQ86XgNw0rYmBOxe7nshquXwwcauupgBF2DHLVG1WuZlV\", \"https://cdn.bokeh.org/bokeh/release/bokeh-gl-2.0.1.min.js\": \"Dv1SQ87hmDqK6S5OhBf0bCuwAEvL5QYL0PuR/F1SPVhCS/r/abjkbpKDYL2zeM19\"};\n\n    for (var i = 0; i < js_urls.length; i++) {\n      var url = js_urls[i];\n      var element = document.createElement('script');\n      element.onload = on_load;\n      element.onerror = on_error;\n      element.async = false;\n      element.src = url;\n      if (url in hashes) {\n        element.crossOrigin = \"anonymous\";\n        element.integrity = \"sha384-\" + hashes[url];\n      }\n      console.debug(\"Bokeh: injecting script tag for BokehJS library: \", url);\n      document.head.appendChild(element);\n    }\n  };var element = document.getElementById(\"1027\");\n  if (element == null) {\n    console.error(\"Bokeh: ERROR: autoload.js configured with elementid '1027' but no matching script tag was found. \")\n    return false;\n  }\n\n  function inject_raw_css(css) {\n    const element = document.createElement(\"style\");\n    element.appendChild(document.createTextNode(css));\n    document.body.appendChild(element);\n  }\n\n  \n  var js_urls = [\"https://cdn.bokeh.org/bokeh/release/bokeh-2.0.1.min.js\", \"https://cdn.bokeh.org/bokeh/release/bokeh-widgets-2.0.1.min.js\", \"https://cdn.bokeh.org/bokeh/release/bokeh-tables-2.0.1.min.js\", \"https://cdn.bokeh.org/bokeh/release/bokeh-gl-2.0.1.min.js\"];\n  var css_urls = [];\n  \n\n  var inline_js = [\n    function(Bokeh) {\n      Bokeh.set_log_level(\"info\");\n    },\n    function(Bokeh) {\n    \n    \n    }\n  ];\n\n  function run_inline_js() {\n    \n    if (root.Bokeh !== undefined || force === true) {\n      \n    for (var i = 0; i < inline_js.length; i++) {\n      inline_js[i].call(root, root.Bokeh);\n    }\n    if (force === true) {\n        display_loaded();\n      }} else if (Date.now() < root._bokeh_timeout) {\n      setTimeout(run_inline_js, 100);\n    } else if (!root._bokeh_failed_load) {\n      console.log(\"Bokeh: BokehJS failed to load within specified timeout.\");\n      root._bokeh_failed_load = true;\n    } else if (force !== true) {\n      var cell = $(document.getElementById(\"1027\")).parents('.cell').data().cell;\n      cell.output_area.append_execute_result(NB_LOAD_WARNING)\n    }\n\n  }\n\n  if (root._bokeh_is_loading === 0) {\n    console.debug(\"Bokeh: BokehJS loaded, going straight to plotting\");\n    run_inline_js();\n  } else {\n    load_libs(css_urls, js_urls, function() {\n      console.debug(\"Bokeh: BokehJS plotting callback run at\", now());\n      run_inline_js();\n    });\n  }\n}(window));"
     },
     "metadata": {},
     "output_type": "display_data"
    },
    {
     "data": {
      "text/html": [
       "\n",
       "\n",
       "\n",
       "\n",
       "\n",
       "\n",
       "  <div class=\"bk-root\" id=\"e17bfb86-ea93-4b5e-af09-811c9ff88cea\" data-root-id=\"1004\"></div>\n"
      ]
     },
     "metadata": {},
     "output_type": "display_data"
    },
    {
     "data": {
      "application/javascript": [
       "(function(root) {\n",
       "  function embed_document(root) {\n",
       "    \n",
       "  var docs_json = {\"8e4a1823-396d-4438-b178-ce534a53169c\":{\"roots\":{\"references\":[{\"attributes\":{\"below\":[{\"id\":\"1011\"}],\"center\":[{\"id\":\"1013\"},{\"id\":\"1016\"}],\"left\":[{\"id\":\"1014\"}],\"plot_height\":650,\"plot_width\":700,\"renderers\":[{\"id\":\"1024\"}],\"right\":[{\"id\":\"1026\"}],\"title\":{\"id\":\"1028\"},\"toolbar\":{\"id\":\"1018\"},\"toolbar_location\":null,\"x_range\":{\"id\":\"1002\"},\"x_scale\":{\"id\":\"1007\"},\"y_range\":{\"id\":\"1003\"},\"y_scale\":{\"id\":\"1009\"}},\"id\":\"1004\",\"subtype\":\"Figure\",\"type\":\"Plot\"},{\"attributes\":{\"high\":2.7678,\"low\":-2.7678,\"palette\":[\"#2166ac\",\"#4393c3\",\"#92c5de\",\"#d1e5f0\",\"#f7f7f7\",\"#fddbc7\",\"#f4a582\",\"#d6604d\",\"#b2182b\"]},\"id\":\"1001\",\"type\":\"LinearColorMapper\"},{\"attributes\":{},\"id\":\"1030\",\"type\":\"CategoricalTickFormatter\"},{\"attributes\":{},\"id\":\"1032\",\"type\":\"BasicTickFormatter\"},{\"attributes\":{\"data\":{\"Cancer\":[\"Gbm\",\"Gbm\",\"Gbm\",\"Gbm\",\"Gbm\",\"Gbm\",\"Gbm\",\"Gbm\",\"Gbm\",\"Gbm\",\"Hnscc\",\"Hnscc\",\"Hnscc\",\"Hnscc\",\"Hnscc\",\"Hnscc\",\"Hnscc\",\"Hnscc\",\"Hnscc\",\"Hnscc\",\"Luad\",\"Luad\",\"Luad\",\"Luad\",\"Luad\",\"Luad\",\"Luad\",\"Luad\",\"Luad\",\"Lscc\",\"Lscc\",\"Lscc\",\"Lscc\",\"Lscc\",\"Lscc\",\"Lscc\",\"Lscc\",\"Lscc\",\"Brca\",\"Brca\",\"Brca\",\"Brca\",\"Brca\",\"Brca\",\"Brca\",\"Brca\",\"Brca\",\"Ov\",\"Ov\",\"Ov\",\"Ov\",\"Ov\",\"Ov\",\"Ov\",\"Ov\",\"Ov\",\"Ov\",\"En\",\"En\",\"En\",\"En\",\"En\",\"En\",\"En\",\"En\",\"En\",\"En\",\"Colon\",\"Colon\",\"Colon\",\"Colon\",\"Colon\",\"Colon\",\"Colon\",\"Colon\",\"Colon\",\"Colon\"],\"Medians\":{\"__ndarray__\":\"jGwIKw5g4L8pB1Lejn7fv2Sxar2dPrq/h4ylQ2u3wz/IXfSVLB3Iv13sGQeG4NW/IfwGUT0E8D8pj79tN7a/P9CfDk0kEru/mhqfaaBs0D+AbIqZa2fUvyBt31ha7uK/gKbWsuvyxD8AiYoYZnzOvwADoJsN590/oPWdXfOT5j8Arzz8Ome0P/86yLWvFbg/AFLuxIMjpb8A/YmtznKyP/rt68A5owJAGJXUCWgi67+Y3ZOHhVrXv0Do2az6XMG/TfOOU3QkBkBxrIvbaAD+P36MuWsJ+cA/QmDl0CLbub/NEMe6uI3eP4j029eBc+O/5q4l5IOe6r+U9gZfmEzfP0LPZtXnass/LUMc6+I21r+a3ZOHhVrmv7yWkA96Ns8/zH9Iv30d6j8CvAUSFD/aP1TjpZvEIPC/h6dXyjLE4j/fItv5fmq8P6MBvAUSlPC/coqO5PIf2L9gdk8eFmq9P8P1KFyPwtG/gEi/fR04wz+srdhfdk/Cv0pthnSowcW/NAA2G4mCyT9HE4rVaPfGPxcX0tevuNc/7UA9gLzMuj8AcHiDYDySv/97lGrPx48/rCmbAjE6sL++fnni6BOiv5pwRei7Kck/+THmriXk57+QoPgx5q7pv2Q730+Nl9a/gQncupunur+iRbbz/dTgPyqpE9BE2MC/fZbnwd1Zx7/+Q/rt68DVP4eFWtO848Q/Gt1B7Eyhoz/pJjEIrBzKv/OwUGuad7S/7C+7Jw8LtT/b+X5qvHSzv5B++zpwzqi/ZBBYObTIpj9pb/CFyVShP57x0k1iEJi/XNO84xQdqT9ffa62Yn+Jvw==\",\"dtype\":\"float64\",\"shape\":[77]},\"P_Value\":{\"__ndarray__\":\"oqcy7D9egD4kUae4jONQP3TKWJAAFlQ/6YOYwvV0cD+NLLUnUIpxP4SR9rxrz40/LSuaISGJpD+eMmgInbGsP9fRv104adI/TjRz0E1i5T8DSHkUgfb3PmP/1kH0IkY/d2E7cEV4Wz9a62fOgrSMPxwflgHaJJI/H2vv5SxIoD+njVBoqMekP5kbg6F+e7A/FDJ5oJ8G1D8jBKsg2tDbP8cthekFm64+7cQQOdFDPD8H8xsnmGSNP7aLrQQkjbM/KD0vqYSezj8a+FHc/LTRP/v4jz7jxtc/7sQL9byS4T/T7PAp9cHkP040SwnOUA0/icB2LLYcMz9UrRiT+G1GP+ivRZwqZpc/wxHx+MBWoD+UJdst9ni1P8Eh3XRztdU/EPw8djRn2j/lmpbaiPTfPykg947hItI+KH+yGDEDkT98Y9Xnc4SxP7opH56CDcU/aMcmdyrx0j/kQqi2MnzcP1VJRaO5dd0/lLbJiEHG6j9XRVacFL3tP6yDwe6Yy00/2q3gLNwRgT8fxFOMNijMPzhZFri0odY/0uziIQx03D8+yltJXc3gPxjN13nlluI/AajQZcPY6j+OEHQf9gPuP927mXFZXe8/SUM2Szv5RD+DV+RcOGlUPzF/0zhD3Fw/iJ0B68ZcYz++erQvzBl5P71DP9guvKI/foOSMFNKpz/pWd2Nl2bBP/iCj+fSTt8/tOVmcuxR4j9+AW4UjFyKP3Vu8cKbzb0/ht/zTRY+vj9dKIDsLMvAP+T2/DyGfMI/gUahRnZkzj9ZJ//QRU7VP17fc1cOe9c/PIjHmPsA7z8J27gm/SDvPw==\",\"dtype\":\"float64\",\"shape\":[77]},\"Proteomics\":[\"PTEN\",\"PIK3CD\",\"PIK3C3\",\"USP7\",\"PIK3R1\",\"INPP4B\",\"EGFR\",\"CSNK2A1\",\"PIK3CA\",\"TP53\",\"PTEN\",\"INPP4B\",\"PIK3CA\",\"PIK3CD\",\"EGFR\",\"TP53\",\"CSNK2A1\",\"USP7\",\"PIK3C3\",\"PIK3R1\",\"EGFR\",\"PIK3CD\",\"PTEN\",\"PIK3CA\",\"TP53\",\"INPP4B\",\"USP7\",\"PIK3C3\",\"PIK3R1\",\"PTEN\",\"PIK3CD\",\"CSNK2A1\",\"PIK3CA\",\"PIK3R1\",\"INPP4B\",\"USP7\",\"TP53\",\"EGFR\",\"PTEN\",\"EGFR\",\"TP53\",\"PIK3R1\",\"INPP4B\",\"PIK3C3\",\"PIK3CA\",\"PIK3CD\",\"USP7\",\"PTEN\",\"PIK3CA\",\"PIK3R1\",\"INPP4B\",\"PIK3C3\",\"USP7\",\"CSNK2A1\",\"EGFR\",\"PIK3CD\",\"TP53\",\"PTEN\",\"TP53\",\"PIK3CA\",\"CSNK2A1\",\"EGFR\",\"PIK3C3\",\"PIK3CD\",\"PIK3R1\",\"INPP4B\",\"USP7\",\"PTEN\",\"PIK3C3\",\"INPP4B\",\"PIK3CD\",\"CSNK2A1\",\"USP7\",\"PIK3CA\",\"EGFR\",\"TP53\",\"PIK3R1\"],\"index\":[12,840,913,1416,1453,1940,2053,2103,2361,2515,2688,2914,3081,3405,3461,3568,3626,3736,4321,4504,5204,5300,5495,5759,6209,6303,6475,6805,6990,7594,7667,7746,8312,8393,8720,9284,9406,9512,10024,10132,10357,10654,10958,11304,11343,12016,12189,12313,12341,12861,13221,13429,13649,13749,14336,14574,14665,14965,15045,15102,15126,15195,15455,15508,15821,16499,16622,17273,17531,17537,17566,17598,17779,17995,18076,19232,19239],\"size\":{\"__ndarray__\":\"Wk6K3iPhR0ANxfEG2aE0QO4oUe2zHDRAuBfF0xKNMEB2wquzG1wwQCNpDhrsYClA8q03OAZMI0AwW6NRNEohQJM9ko0E5w1AW1EpuDRZ8z8MCH50lwdAQNuLrxdi5jVAMFByaUQsM0BQZmpd8popQJp9EQnlMihAtSV7T4qwJEDUnuvk3DkjQORTIPgRdSBAphwdmXTiC0DpZiC/qP8DQLSgU6t63ERAEogBCwc/N0CYcytTk3YpQEhAyo2Y3R5AFQ4bZDIqEUD89aKsktYOQNKHDCiYwwdAeseqFvPE/D9aKbS5gcb0P0T5UKoBYD1AsgDlF4trOECf/+WMSNw1QEzZYLMyrCZAATOFai2rJEA1XwxLqL0dQBtc+Zqu8glAnG31wOU/BUBQBAcmTasAQJLWIKjohkJABq6WhMyVKEAQ8YWuhhcgQEEC+x70qBVAzbZ7oE84DUDl7FPDkW0DQFT7oknZngJAYVJJ+Jwd4T+UlWLJtyTMP7xX5LMxAjVAQ5FI9E65LECQZNH8tysSQLB9VjLk8ghA2BqGyHB0A0DqFOcdP+z+Pyhg894hEvo/nZVyNVjb4D9A712js5XIP87Vr7jGza4/GOtcbtQPNkBV8A2BXxA0QM4aJFhXBjNAtGSVkIokMkBouyNyt5EuQKHeWJb52CNARMCxA66KIkCrwntjOvIXQFcTAlQJKQFAtERU6IfF+j/qk9+/xB0qQMorl6CHzhlAinQ3XpKhGUBbEKtVUl8YQKOOYPJMOBdAoyNGzAhBEUAefa990mUKQOCLUkqeEAhAoIcVlrNJuD8Ttu4leDK1Pw==\",\"dtype\":\"float64\",\"shape\":[77]},\"size2\":{\"__ndarray__\":\"zr0NftrWL0C8Bu2zdoIbQD3hFufv0BpA9nSxb24RFkDyrY/vJNAVQMLwXhFI6xBAmJKf9bK6CUCVeYQXmw0HQGJ+YV5Y7/M/z8HhSkbM2T9mtVKbdF8lQM8P6nQtMx1AlhVDN1uQGUCLmfHo9hERQBGpCwbuIRBA8dxOvw2WC0DG0+Tbe6IJQDDF1Upt8QVAb2gTZviW8j/hMytUNqrqP5orGo+j0CtAbbWsDrT+HkBloseMt/kQQDCAMQm7kwRAcb3O2u3i9j+oThdzDI/0P8Jfu4p1r+8/UdpxZPct4z94jEWiV7PbP9hQi3FWlSNAdwDuD7JHIEApqjIRtiUdQLohgUTuOg5AV5mxOOeOC0DOlF2HxdMDQBLoUGd0TPE/JZKcVjJV7D/ABbQyvDnmP8LIK+DgsyhAWcm5rd1jEEBqQV2Ts3QFQAEDpH5F4fw/3nlSwN968z+H5m8EbefpP3CkLmLM0+g/LMNhoCbSxj+4Y+wwJcOyP6Yf2+/sAhxAggvbojQmE0AVhmymSjr4P8tT5HbtofA/dc6yYJbw6T+cuERpf53kP3CV9+lrYeE/0Rzu8cp5xj/V9JMXzWOwP4mOyiUviZQ/y44mk3BqHUBxQL1Wf8AaQGjO2srJXRlA8DDHwLgwGEDwfML2JGEUQIHTyx2idgpAWgDtBOi4CEA5rk8vo+3/P8kZWMVh4eY/I4ONRQXZ4T/xtz/VLWkRQIdyD2taNAFAXPgklGEWAUCStRw5jD8AQIQT1u279f4/2YRdEGEB9z8U/nT+NpnxP0BdjDEUC/A/a1oOZCIxoD8ZSD7dSkOcPw==\",\"dtype\":\"float64\",\"shape\":[77]}},\"selected\":{\"id\":\"1037\"},\"selection_policy\":{\"id\":\"1036\"}},\"id\":\"1020\",\"type\":\"ColumnDataSource\"},{\"attributes\":{\"axis\":{\"id\":\"1014\"},\"dimension\":1,\"ticker\":null},\"id\":\"1016\",\"type\":\"Grid\"},{\"attributes\":{\"callback\":null},\"id\":\"1017\",\"type\":\"HoverTool\"},{\"attributes\":{\"fill_color\":{\"field\":\"Medians\",\"transform\":{\"id\":\"1001\"}},\"line_color\":{\"value\":\"#1f77b4\"},\"line_width\":{\"value\":0},\"size\":{\"field\":\"size\",\"units\":\"screen\"},\"x\":{\"field\":\"Proteomics\"},\"y\":{\"field\":\"Cancer\"}},\"id\":\"1022\",\"type\":\"Scatter\"},{\"attributes\":{},\"id\":\"1009\",\"type\":\"CategoricalScale\"},{\"attributes\":{\"color_mapper\":{\"id\":\"1001\"},\"formatter\":{\"id\":\"1032\"},\"location\":[0,0],\"ticker\":{\"id\":\"1033\"}},\"id\":\"1026\",\"type\":\"ColorBar\"},{\"attributes\":{\"axis\":{\"id\":\"1011\"},\"ticker\":null},\"id\":\"1013\",\"type\":\"Grid\"},{\"attributes\":{\"factors\":[\"CSNK2A1\",\"EGFR\",\"INPP4B\",\"PIK3C3\",\"PIK3CA\",\"PIK3CD\",\"PIK3R1\",\"PTEN\",\"TP53\",\"USP7\"]},\"id\":\"1002\",\"type\":\"FactorRange\"},{\"attributes\":{\"data_source\":{\"id\":\"1020\"},\"glyph\":{\"id\":\"1022\"},\"hover_glyph\":null,\"muted_glyph\":null,\"nonselection_glyph\":{\"id\":\"1023\"},\"selection_glyph\":null,\"view\":{\"id\":\"1025\"}},\"id\":\"1024\",\"type\":\"GlyphRenderer\"},{\"attributes\":{\"active_drag\":\"auto\",\"active_inspect\":\"auto\",\"active_multi\":null,\"active_scroll\":\"auto\",\"active_tap\":\"auto\",\"tools\":[{\"id\":\"1017\"}]},\"id\":\"1018\",\"type\":\"Toolbar\"},{\"attributes\":{},\"id\":\"1036\",\"type\":\"UnionRenderers\"},{\"attributes\":{},\"id\":\"1034\",\"type\":\"CategoricalTickFormatter\"},{\"attributes\":{\"factors\":[\"Ov\",\"Luad\",\"Lscc\",\"Hnscc\",\"Gbm\",\"En\",\"Colon\",\"Brca\"]},\"id\":\"1003\",\"type\":\"FactorRange\"},{\"attributes\":{\"source\":{\"id\":\"1020\"}},\"id\":\"1025\",\"type\":\"CDSView\"},{\"attributes\":{\"text\":\"\"},\"id\":\"1028\",\"type\":\"Title\"},{\"attributes\":{},\"id\":\"1012\",\"type\":\"CategoricalTicker\"},{\"attributes\":{},\"id\":\"1007\",\"type\":\"CategoricalScale\"},{\"attributes\":{\"fill_alpha\":{\"value\":0.1},\"fill_color\":{\"field\":\"Medians\",\"transform\":{\"id\":\"1001\"}},\"line_alpha\":{\"value\":0.1},\"line_color\":{\"value\":\"#1f77b4\"},\"line_width\":{\"value\":0},\"size\":{\"field\":\"size\",\"units\":\"screen\"},\"x\":{\"field\":\"Proteomics\"},\"y\":{\"field\":\"Cancer\"}},\"id\":\"1023\",\"type\":\"Scatter\"},{\"attributes\":{},\"id\":\"1037\",\"type\":\"Selection\"},{\"attributes\":{\"formatter\":{\"id\":\"1030\"},\"major_label_orientation\":1.5707963267948966,\"ticker\":{\"id\":\"1012\"}},\"id\":\"1011\",\"type\":\"CategoricalAxis\"},{\"attributes\":{},\"id\":\"1015\",\"type\":\"CategoricalTicker\"},{\"attributes\":{},\"id\":\"1033\",\"type\":\"BasicTicker\"},{\"attributes\":{\"formatter\":{\"id\":\"1034\"},\"ticker\":{\"id\":\"1015\"}},\"id\":\"1014\",\"type\":\"CategoricalAxis\"}],\"root_ids\":[\"1004\"]},\"title\":\"Bokeh Application\",\"version\":\"2.0.1\"}};\n",
       "  var render_items = [{\"docid\":\"8e4a1823-396d-4438-b178-ce534a53169c\",\"root_ids\":[\"1004\"],\"roots\":{\"1004\":\"e17bfb86-ea93-4b5e-af09-811c9ff88cea\"}}];\n",
       "  root.Bokeh.embed.embed_items_notebook(docs_json, render_items);\n",
       "\n",
       "  }\n",
       "  if (root.Bokeh !== undefined) {\n",
       "    embed_document(root);\n",
       "  } else {\n",
       "    var attempts = 0;\n",
       "    var timer = setInterval(function(root) {\n",
       "      if (root.Bokeh !== undefined) {\n",
       "        clearInterval(timer);\n",
       "        embed_document(root);\n",
       "      } else {\n",
       "        attempts++;\n",
       "        if (attempts > 100) {\n",
       "          clearInterval(timer);\n",
       "          console.log(\"Bokeh: ERROR: Unable to run BokehJS code because BokehJS library is missing\");\n",
       "        }\n",
       "      }\n",
       "    }, 10, root)\n",
       "  }\n",
       "})(window);"
      ],
      "application/vnd.bokehjs_exec.v0+json": ""
     },
     "metadata": {
      "application/vnd.bokehjs_exec.v0+json": {
       "id": "1004"
      }
     },
     "output_type": "display_data"
    }
   ],
   "source": [
    "p.plotCircleHeatMap(plot_df, circle_var = 'P_Value', color_var='Medians', x_axis= 'Proteomics', y_axis = 'Cancer',\n",
    "                   plot_width=700)"
   ]
  },
  {
   "cell_type": "markdown",
   "metadata": {},
   "source": [
    "Pos/Neg Correlations"
   ]
  },
  {
   "cell_type": "code",
   "execution_count": 47,
   "metadata": {},
   "outputs": [],
   "source": [
    "pos_neg_df = pd.read_csv(root+R'\\pos_neg_df.csv')"
   ]
  },
  {
   "cell_type": "code",
   "execution_count": 48,
   "metadata": {},
   "outputs": [
    {
     "data": {
      "text/plain": [
       "array(['MAPK3', 'PIK3R1', 'INPP4B', 'TP53'], dtype=object)"
      ]
     },
     "execution_count": 48,
     "metadata": {},
     "output_type": "execute_result"
    }
   ],
   "source": [
    "get = pos_neg_df.Proteomics.isin(sig_genes) # bool df where True has both pos and neg\n",
    "genes_pn = pos_neg_df[get] # Keep only genes with pos and neg\n",
    "genes_pn.Proteomics.unique()"
   ]
  },
  {
   "cell_type": "code",
   "execution_count": 49,
   "metadata": {},
   "outputs": [
    {
     "name": "stderr",
     "output_type": "stream",
     "text": [
      "C:\\Users\\brittany henderson\\Anaconda3\\envs\\Research\\lib\\site-packages\\ipykernel_launcher.py:2: SettingWithCopyWarning: \n",
      "A value is trying to be set on a copy of a slice from a DataFrame.\n",
      "Try using .loc[row_indexer,col_indexer] = value instead\n",
      "\n",
      "See the caveats in the documentation: https://pandas.pydata.org/pandas-docs/stable/user_guide/indexing.html#returning-a-view-versus-a-copy\n",
      "  \n"
     ]
    }
   ],
   "source": [
    "# log p-vals for right scale in plot (bigger circle, smaller pval)\n",
    "genes_pn['size'] = genes_pn['P_Value'].apply(lambda x: -1*(np.log(x)/10))"
   ]
  },
  {
   "cell_type": "code",
   "execution_count": 51,
   "metadata": {},
   "outputs": [
    {
     "data": {
      "text/html": [
       "\n",
       "    <div class=\"bk-root\">\n",
       "        <a href=\"https://bokeh.org\" target=\"_blank\" class=\"bk-logo bk-logo-small bk-logo-notebook\"></a>\n",
       "        <span id=\"1231\">Loading BokehJS ...</span>\n",
       "    </div>"
      ]
     },
     "metadata": {},
     "output_type": "display_data"
    },
    {
     "data": {
      "application/javascript": [
       "\n",
       "(function(root) {\n",
       "  function now() {\n",
       "    return new Date();\n",
       "  }\n",
       "\n",
       "  var force = true;\n",
       "\n",
       "  if (typeof root._bokeh_onload_callbacks === \"undefined\" || force === true) {\n",
       "    root._bokeh_onload_callbacks = [];\n",
       "    root._bokeh_is_loading = undefined;\n",
       "  }\n",
       "\n",
       "  var JS_MIME_TYPE = 'application/javascript';\n",
       "  var HTML_MIME_TYPE = 'text/html';\n",
       "  var EXEC_MIME_TYPE = 'application/vnd.bokehjs_exec.v0+json';\n",
       "  var CLASS_NAME = 'output_bokeh rendered_html';\n",
       "\n",
       "  /**\n",
       "   * Render data to the DOM node\n",
       "   */\n",
       "  function render(props, node) {\n",
       "    var script = document.createElement(\"script\");\n",
       "    node.appendChild(script);\n",
       "  }\n",
       "\n",
       "  /**\n",
       "   * Handle when an output is cleared or removed\n",
       "   */\n",
       "  function handleClearOutput(event, handle) {\n",
       "    var cell = handle.cell;\n",
       "\n",
       "    var id = cell.output_area._bokeh_element_id;\n",
       "    var server_id = cell.output_area._bokeh_server_id;\n",
       "    // Clean up Bokeh references\n",
       "    if (id != null && id in Bokeh.index) {\n",
       "      Bokeh.index[id].model.document.clear();\n",
       "      delete Bokeh.index[id];\n",
       "    }\n",
       "\n",
       "    if (server_id !== undefined) {\n",
       "      // Clean up Bokeh references\n",
       "      var cmd = \"from bokeh.io.state import curstate; print(curstate().uuid_to_server['\" + server_id + \"'].get_sessions()[0].document.roots[0]._id)\";\n",
       "      cell.notebook.kernel.execute(cmd, {\n",
       "        iopub: {\n",
       "          output: function(msg) {\n",
       "            var id = msg.content.text.trim();\n",
       "            if (id in Bokeh.index) {\n",
       "              Bokeh.index[id].model.document.clear();\n",
       "              delete Bokeh.index[id];\n",
       "            }\n",
       "          }\n",
       "        }\n",
       "      });\n",
       "      // Destroy server and session\n",
       "      var cmd = \"import bokeh.io.notebook as ion; ion.destroy_server('\" + server_id + \"')\";\n",
       "      cell.notebook.kernel.execute(cmd);\n",
       "    }\n",
       "  }\n",
       "\n",
       "  /**\n",
       "   * Handle when a new output is added\n",
       "   */\n",
       "  function handleAddOutput(event, handle) {\n",
       "    var output_area = handle.output_area;\n",
       "    var output = handle.output;\n",
       "\n",
       "    // limit handleAddOutput to display_data with EXEC_MIME_TYPE content only\n",
       "    if ((output.output_type != \"display_data\") || (!output.data.hasOwnProperty(EXEC_MIME_TYPE))) {\n",
       "      return\n",
       "    }\n",
       "\n",
       "    var toinsert = output_area.element.find(\".\" + CLASS_NAME.split(' ')[0]);\n",
       "\n",
       "    if (output.metadata[EXEC_MIME_TYPE][\"id\"] !== undefined) {\n",
       "      toinsert[toinsert.length - 1].firstChild.textContent = output.data[JS_MIME_TYPE];\n",
       "      // store reference to embed id on output_area\n",
       "      output_area._bokeh_element_id = output.metadata[EXEC_MIME_TYPE][\"id\"];\n",
       "    }\n",
       "    if (output.metadata[EXEC_MIME_TYPE][\"server_id\"] !== undefined) {\n",
       "      var bk_div = document.createElement(\"div\");\n",
       "      bk_div.innerHTML = output.data[HTML_MIME_TYPE];\n",
       "      var script_attrs = bk_div.children[0].attributes;\n",
       "      for (var i = 0; i < script_attrs.length; i++) {\n",
       "        toinsert[toinsert.length - 1].firstChild.setAttribute(script_attrs[i].name, script_attrs[i].value);\n",
       "        toinsert[toinsert.length - 1].firstChild.textContent = bk_div.children[0].textContent\n",
       "      }\n",
       "      // store reference to server id on output_area\n",
       "      output_area._bokeh_server_id = output.metadata[EXEC_MIME_TYPE][\"server_id\"];\n",
       "    }\n",
       "  }\n",
       "\n",
       "  function register_renderer(events, OutputArea) {\n",
       "\n",
       "    function append_mime(data, metadata, element) {\n",
       "      // create a DOM node to render to\n",
       "      var toinsert = this.create_output_subarea(\n",
       "        metadata,\n",
       "        CLASS_NAME,\n",
       "        EXEC_MIME_TYPE\n",
       "      );\n",
       "      this.keyboard_manager.register_events(toinsert);\n",
       "      // Render to node\n",
       "      var props = {data: data, metadata: metadata[EXEC_MIME_TYPE]};\n",
       "      render(props, toinsert[toinsert.length - 1]);\n",
       "      element.append(toinsert);\n",
       "      return toinsert\n",
       "    }\n",
       "\n",
       "    /* Handle when an output is cleared or removed */\n",
       "    events.on('clear_output.CodeCell', handleClearOutput);\n",
       "    events.on('delete.Cell', handleClearOutput);\n",
       "\n",
       "    /* Handle when a new output is added */\n",
       "    events.on('output_added.OutputArea', handleAddOutput);\n",
       "\n",
       "    /**\n",
       "     * Register the mime type and append_mime function with output_area\n",
       "     */\n",
       "    OutputArea.prototype.register_mime_type(EXEC_MIME_TYPE, append_mime, {\n",
       "      /* Is output safe? */\n",
       "      safe: true,\n",
       "      /* Index of renderer in `output_area.display_order` */\n",
       "      index: 0\n",
       "    });\n",
       "  }\n",
       "\n",
       "  // register the mime type if in Jupyter Notebook environment and previously unregistered\n",
       "  if (root.Jupyter !== undefined) {\n",
       "    var events = require('base/js/events');\n",
       "    var OutputArea = require('notebook/js/outputarea').OutputArea;\n",
       "\n",
       "    if (OutputArea.prototype.mime_types().indexOf(EXEC_MIME_TYPE) == -1) {\n",
       "      register_renderer(events, OutputArea);\n",
       "    }\n",
       "  }\n",
       "\n",
       "  \n",
       "  if (typeof (root._bokeh_timeout) === \"undefined\" || force === true) {\n",
       "    root._bokeh_timeout = Date.now() + 5000;\n",
       "    root._bokeh_failed_load = false;\n",
       "  }\n",
       "\n",
       "  var NB_LOAD_WARNING = {'data': {'text/html':\n",
       "     \"<div style='background-color: #fdd'>\\n\"+\n",
       "     \"<p>\\n\"+\n",
       "     \"BokehJS does not appear to have successfully loaded. If loading BokehJS from CDN, this \\n\"+\n",
       "     \"may be due to a slow or bad network connection. Possible fixes:\\n\"+\n",
       "     \"</p>\\n\"+\n",
       "     \"<ul>\\n\"+\n",
       "     \"<li>re-rerun `output_notebook()` to attempt to load from CDN again, or</li>\\n\"+\n",
       "     \"<li>use INLINE resources instead, as so:</li>\\n\"+\n",
       "     \"</ul>\\n\"+\n",
       "     \"<code>\\n\"+\n",
       "     \"from bokeh.resources import INLINE\\n\"+\n",
       "     \"output_notebook(resources=INLINE)\\n\"+\n",
       "     \"</code>\\n\"+\n",
       "     \"</div>\"}};\n",
       "\n",
       "  function display_loaded() {\n",
       "    var el = document.getElementById(\"1231\");\n",
       "    if (el != null) {\n",
       "      el.textContent = \"BokehJS is loading...\";\n",
       "    }\n",
       "    if (root.Bokeh !== undefined) {\n",
       "      if (el != null) {\n",
       "        el.textContent = \"BokehJS \" + root.Bokeh.version + \" successfully loaded.\";\n",
       "      }\n",
       "    } else if (Date.now() < root._bokeh_timeout) {\n",
       "      setTimeout(display_loaded, 100)\n",
       "    }\n",
       "  }\n",
       "\n",
       "\n",
       "  function run_callbacks() {\n",
       "    try {\n",
       "      root._bokeh_onload_callbacks.forEach(function(callback) {\n",
       "        if (callback != null)\n",
       "          callback();\n",
       "      });\n",
       "    } finally {\n",
       "      delete root._bokeh_onload_callbacks\n",
       "    }\n",
       "    console.debug(\"Bokeh: all callbacks have finished\");\n",
       "  }\n",
       "\n",
       "  function load_libs(css_urls, js_urls, callback) {\n",
       "    if (css_urls == null) css_urls = [];\n",
       "    if (js_urls == null) js_urls = [];\n",
       "\n",
       "    root._bokeh_onload_callbacks.push(callback);\n",
       "    if (root._bokeh_is_loading > 0) {\n",
       "      console.debug(\"Bokeh: BokehJS is being loaded, scheduling callback at\", now());\n",
       "      return null;\n",
       "    }\n",
       "    if (js_urls == null || js_urls.length === 0) {\n",
       "      run_callbacks();\n",
       "      return null;\n",
       "    }\n",
       "    console.debug(\"Bokeh: BokehJS not loaded, scheduling load and callback at\", now());\n",
       "    root._bokeh_is_loading = css_urls.length + js_urls.length;\n",
       "\n",
       "    function on_load() {\n",
       "      root._bokeh_is_loading--;\n",
       "      if (root._bokeh_is_loading === 0) {\n",
       "        console.debug(\"Bokeh: all BokehJS libraries/stylesheets loaded\");\n",
       "        run_callbacks()\n",
       "      }\n",
       "    }\n",
       "\n",
       "    function on_error() {\n",
       "      console.error(\"failed to load \" + url);\n",
       "    }\n",
       "\n",
       "    for (var i = 0; i < css_urls.length; i++) {\n",
       "      var url = css_urls[i];\n",
       "      const element = document.createElement(\"link\");\n",
       "      element.onload = on_load;\n",
       "      element.onerror = on_error;\n",
       "      element.rel = \"stylesheet\";\n",
       "      element.type = \"text/css\";\n",
       "      element.href = url;\n",
       "      console.debug(\"Bokeh: injecting link tag for BokehJS stylesheet: \", url);\n",
       "      document.body.appendChild(element);\n",
       "    }\n",
       "\n",
       "    const hashes = {\"https://cdn.bokeh.org/bokeh/release/bokeh-2.0.1.min.js\": \"JpP8FXbgAZLkfur7LiK3j9AGBhHNIvF742meBJrjO2ShJDhCG2I1uVvW+0DUtrmc\", \"https://cdn.bokeh.org/bokeh/release/bokeh-widgets-2.0.1.min.js\": \"xZlADit0Q04ISQEdKg2k3L4W9AwQBAuDs9nJL9fM/WwzL1tEU9VPNezOFX0nLEAz\", \"https://cdn.bokeh.org/bokeh/release/bokeh-tables-2.0.1.min.js\": \"4BuPRZkdMKSnj3zoxiNrQ86XgNw0rYmBOxe7nshquXwwcauupgBF2DHLVG1WuZlV\", \"https://cdn.bokeh.org/bokeh/release/bokeh-gl-2.0.1.min.js\": \"Dv1SQ87hmDqK6S5OhBf0bCuwAEvL5QYL0PuR/F1SPVhCS/r/abjkbpKDYL2zeM19\"};\n",
       "\n",
       "    for (var i = 0; i < js_urls.length; i++) {\n",
       "      var url = js_urls[i];\n",
       "      var element = document.createElement('script');\n",
       "      element.onload = on_load;\n",
       "      element.onerror = on_error;\n",
       "      element.async = false;\n",
       "      element.src = url;\n",
       "      if (url in hashes) {\n",
       "        element.crossOrigin = \"anonymous\";\n",
       "        element.integrity = \"sha384-\" + hashes[url];\n",
       "      }\n",
       "      console.debug(\"Bokeh: injecting script tag for BokehJS library: \", url);\n",
       "      document.head.appendChild(element);\n",
       "    }\n",
       "  };var element = document.getElementById(\"1231\");\n",
       "  if (element == null) {\n",
       "    console.error(\"Bokeh: ERROR: autoload.js configured with elementid '1231' but no matching script tag was found. \")\n",
       "    return false;\n",
       "  }\n",
       "\n",
       "  function inject_raw_css(css) {\n",
       "    const element = document.createElement(\"style\");\n",
       "    element.appendChild(document.createTextNode(css));\n",
       "    document.body.appendChild(element);\n",
       "  }\n",
       "\n",
       "  \n",
       "  var js_urls = [\"https://cdn.bokeh.org/bokeh/release/bokeh-2.0.1.min.js\", \"https://cdn.bokeh.org/bokeh/release/bokeh-widgets-2.0.1.min.js\", \"https://cdn.bokeh.org/bokeh/release/bokeh-tables-2.0.1.min.js\", \"https://cdn.bokeh.org/bokeh/release/bokeh-gl-2.0.1.min.js\"];\n",
       "  var css_urls = [];\n",
       "  \n",
       "\n",
       "  var inline_js = [\n",
       "    function(Bokeh) {\n",
       "      Bokeh.set_log_level(\"info\");\n",
       "    },\n",
       "    function(Bokeh) {\n",
       "    \n",
       "    \n",
       "    }\n",
       "  ];\n",
       "\n",
       "  function run_inline_js() {\n",
       "    \n",
       "    if (root.Bokeh !== undefined || force === true) {\n",
       "      \n",
       "    for (var i = 0; i < inline_js.length; i++) {\n",
       "      inline_js[i].call(root, root.Bokeh);\n",
       "    }\n",
       "    if (force === true) {\n",
       "        display_loaded();\n",
       "      }} else if (Date.now() < root._bokeh_timeout) {\n",
       "      setTimeout(run_inline_js, 100);\n",
       "    } else if (!root._bokeh_failed_load) {\n",
       "      console.log(\"Bokeh: BokehJS failed to load within specified timeout.\");\n",
       "      root._bokeh_failed_load = true;\n",
       "    } else if (force !== true) {\n",
       "      var cell = $(document.getElementById(\"1231\")).parents('.cell').data().cell;\n",
       "      cell.output_area.append_execute_result(NB_LOAD_WARNING)\n",
       "    }\n",
       "\n",
       "  }\n",
       "\n",
       "  if (root._bokeh_is_loading === 0) {\n",
       "    console.debug(\"Bokeh: BokehJS loaded, going straight to plotting\");\n",
       "    run_inline_js();\n",
       "  } else {\n",
       "    load_libs(css_urls, js_urls, function() {\n",
       "      console.debug(\"Bokeh: BokehJS plotting callback run at\", now());\n",
       "      run_inline_js();\n",
       "    });\n",
       "  }\n",
       "}(window));"
      ],
      "application/vnd.bokehjs_load.v0+json": "\n(function(root) {\n  function now() {\n    return new Date();\n  }\n\n  var force = true;\n\n  if (typeof root._bokeh_onload_callbacks === \"undefined\" || force === true) {\n    root._bokeh_onload_callbacks = [];\n    root._bokeh_is_loading = undefined;\n  }\n\n  \n\n  \n  if (typeof (root._bokeh_timeout) === \"undefined\" || force === true) {\n    root._bokeh_timeout = Date.now() + 5000;\n    root._bokeh_failed_load = false;\n  }\n\n  var NB_LOAD_WARNING = {'data': {'text/html':\n     \"<div style='background-color: #fdd'>\\n\"+\n     \"<p>\\n\"+\n     \"BokehJS does not appear to have successfully loaded. If loading BokehJS from CDN, this \\n\"+\n     \"may be due to a slow or bad network connection. Possible fixes:\\n\"+\n     \"</p>\\n\"+\n     \"<ul>\\n\"+\n     \"<li>re-rerun `output_notebook()` to attempt to load from CDN again, or</li>\\n\"+\n     \"<li>use INLINE resources instead, as so:</li>\\n\"+\n     \"</ul>\\n\"+\n     \"<code>\\n\"+\n     \"from bokeh.resources import INLINE\\n\"+\n     \"output_notebook(resources=INLINE)\\n\"+\n     \"</code>\\n\"+\n     \"</div>\"}};\n\n  function display_loaded() {\n    var el = document.getElementById(\"1231\");\n    if (el != null) {\n      el.textContent = \"BokehJS is loading...\";\n    }\n    if (root.Bokeh !== undefined) {\n      if (el != null) {\n        el.textContent = \"BokehJS \" + root.Bokeh.version + \" successfully loaded.\";\n      }\n    } else if (Date.now() < root._bokeh_timeout) {\n      setTimeout(display_loaded, 100)\n    }\n  }\n\n\n  function run_callbacks() {\n    try {\n      root._bokeh_onload_callbacks.forEach(function(callback) {\n        if (callback != null)\n          callback();\n      });\n    } finally {\n      delete root._bokeh_onload_callbacks\n    }\n    console.debug(\"Bokeh: all callbacks have finished\");\n  }\n\n  function load_libs(css_urls, js_urls, callback) {\n    if (css_urls == null) css_urls = [];\n    if (js_urls == null) js_urls = [];\n\n    root._bokeh_onload_callbacks.push(callback);\n    if (root._bokeh_is_loading > 0) {\n      console.debug(\"Bokeh: BokehJS is being loaded, scheduling callback at\", now());\n      return null;\n    }\n    if (js_urls == null || js_urls.length === 0) {\n      run_callbacks();\n      return null;\n    }\n    console.debug(\"Bokeh: BokehJS not loaded, scheduling load and callback at\", now());\n    root._bokeh_is_loading = css_urls.length + js_urls.length;\n\n    function on_load() {\n      root._bokeh_is_loading--;\n      if (root._bokeh_is_loading === 0) {\n        console.debug(\"Bokeh: all BokehJS libraries/stylesheets loaded\");\n        run_callbacks()\n      }\n    }\n\n    function on_error() {\n      console.error(\"failed to load \" + url);\n    }\n\n    for (var i = 0; i < css_urls.length; i++) {\n      var url = css_urls[i];\n      const element = document.createElement(\"link\");\n      element.onload = on_load;\n      element.onerror = on_error;\n      element.rel = \"stylesheet\";\n      element.type = \"text/css\";\n      element.href = url;\n      console.debug(\"Bokeh: injecting link tag for BokehJS stylesheet: \", url);\n      document.body.appendChild(element);\n    }\n\n    const hashes = {\"https://cdn.bokeh.org/bokeh/release/bokeh-2.0.1.min.js\": \"JpP8FXbgAZLkfur7LiK3j9AGBhHNIvF742meBJrjO2ShJDhCG2I1uVvW+0DUtrmc\", \"https://cdn.bokeh.org/bokeh/release/bokeh-widgets-2.0.1.min.js\": \"xZlADit0Q04ISQEdKg2k3L4W9AwQBAuDs9nJL9fM/WwzL1tEU9VPNezOFX0nLEAz\", \"https://cdn.bokeh.org/bokeh/release/bokeh-tables-2.0.1.min.js\": \"4BuPRZkdMKSnj3zoxiNrQ86XgNw0rYmBOxe7nshquXwwcauupgBF2DHLVG1WuZlV\", \"https://cdn.bokeh.org/bokeh/release/bokeh-gl-2.0.1.min.js\": \"Dv1SQ87hmDqK6S5OhBf0bCuwAEvL5QYL0PuR/F1SPVhCS/r/abjkbpKDYL2zeM19\"};\n\n    for (var i = 0; i < js_urls.length; i++) {\n      var url = js_urls[i];\n      var element = document.createElement('script');\n      element.onload = on_load;\n      element.onerror = on_error;\n      element.async = false;\n      element.src = url;\n      if (url in hashes) {\n        element.crossOrigin = \"anonymous\";\n        element.integrity = \"sha384-\" + hashes[url];\n      }\n      console.debug(\"Bokeh: injecting script tag for BokehJS library: \", url);\n      document.head.appendChild(element);\n    }\n  };var element = document.getElementById(\"1231\");\n  if (element == null) {\n    console.error(\"Bokeh: ERROR: autoload.js configured with elementid '1231' but no matching script tag was found. \")\n    return false;\n  }\n\n  function inject_raw_css(css) {\n    const element = document.createElement(\"style\");\n    element.appendChild(document.createTextNode(css));\n    document.body.appendChild(element);\n  }\n\n  \n  var js_urls = [\"https://cdn.bokeh.org/bokeh/release/bokeh-2.0.1.min.js\", \"https://cdn.bokeh.org/bokeh/release/bokeh-widgets-2.0.1.min.js\", \"https://cdn.bokeh.org/bokeh/release/bokeh-tables-2.0.1.min.js\", \"https://cdn.bokeh.org/bokeh/release/bokeh-gl-2.0.1.min.js\"];\n  var css_urls = [];\n  \n\n  var inline_js = [\n    function(Bokeh) {\n      Bokeh.set_log_level(\"info\");\n    },\n    function(Bokeh) {\n    \n    \n    }\n  ];\n\n  function run_inline_js() {\n    \n    if (root.Bokeh !== undefined || force === true) {\n      \n    for (var i = 0; i < inline_js.length; i++) {\n      inline_js[i].call(root, root.Bokeh);\n    }\n    if (force === true) {\n        display_loaded();\n      }} else if (Date.now() < root._bokeh_timeout) {\n      setTimeout(run_inline_js, 100);\n    } else if (!root._bokeh_failed_load) {\n      console.log(\"Bokeh: BokehJS failed to load within specified timeout.\");\n      root._bokeh_failed_load = true;\n    } else if (force !== true) {\n      var cell = $(document.getElementById(\"1231\")).parents('.cell').data().cell;\n      cell.output_area.append_execute_result(NB_LOAD_WARNING)\n    }\n\n  }\n\n  if (root._bokeh_is_loading === 0) {\n    console.debug(\"Bokeh: BokehJS loaded, going straight to plotting\");\n    run_inline_js();\n  } else {\n    load_libs(css_urls, js_urls, function() {\n      console.debug(\"Bokeh: BokehJS plotting callback run at\", now());\n      run_inline_js();\n    });\n  }\n}(window));"
     },
     "metadata": {},
     "output_type": "display_data"
    },
    {
     "data": {
      "text/html": [
       "\n",
       "\n",
       "\n",
       "\n",
       "\n",
       "\n",
       "  <div class=\"bk-root\" id=\"f6672a6f-9ee8-4847-b343-cbaf147c9aa6\" data-root-id=\"1208\"></div>\n"
      ]
     },
     "metadata": {},
     "output_type": "display_data"
    },
    {
     "data": {
      "application/javascript": [
       "(function(root) {\n",
       "  function embed_document(root) {\n",
       "    \n",
       "  var docs_json = {\"40b4ffc9-66ba-4631-a129-c5d8390123ee\":{\"roots\":{\"references\":[{\"attributes\":{\"below\":[{\"id\":\"1215\"}],\"center\":[{\"id\":\"1217\"},{\"id\":\"1220\"}],\"left\":[{\"id\":\"1218\"}],\"plot_height\":500,\"plot_width\":500,\"renderers\":[{\"id\":\"1228\"}],\"right\":[{\"id\":\"1230\"}],\"title\":{\"id\":\"1252\"},\"toolbar\":{\"id\":\"1222\"},\"toolbar_location\":null,\"x_range\":{\"id\":\"1206\"},\"x_scale\":{\"id\":\"1211\"},\"y_range\":{\"id\":\"1207\"},\"y_scale\":{\"id\":\"1213\"}},\"id\":\"1208\",\"subtype\":\"Figure\",\"type\":\"Plot\"},{\"attributes\":{},\"id\":\"1213\",\"type\":\"CategoricalScale\"},{\"attributes\":{\"fill_alpha\":{\"value\":0.1},\"fill_color\":{\"field\":\"Medians\",\"transform\":{\"id\":\"1205\"}},\"line_alpha\":{\"value\":0.1},\"line_color\":{\"value\":\"#1f77b4\"},\"line_width\":{\"value\":0},\"size\":{\"field\":\"size\",\"units\":\"screen\"},\"x\":{\"field\":\"Proteomics\"},\"y\":{\"field\":\"Cancer\"}},\"id\":\"1227\",\"type\":\"Scatter\"},{\"attributes\":{\"color_mapper\":{\"id\":\"1205\"},\"formatter\":{\"id\":\"1259\"},\"location\":[0,0],\"ticker\":{\"id\":\"1258\"}},\"id\":\"1230\",\"type\":\"ColorBar\"},{\"attributes\":{\"factors\":[\"Ov\",\"Luad\",\"Lscc\",\"Hnscc\",\"Gbm\",\"En\",\"Colon\",\"Brca\"]},\"id\":\"1207\",\"type\":\"FactorRange\"},{\"attributes\":{\"callback\":null},\"id\":\"1221\",\"type\":\"HoverTool\"},{\"attributes\":{},\"id\":\"1260\",\"type\":\"Selection\"},{\"attributes\":{\"text\":\"\"},\"id\":\"1252\",\"type\":\"Title\"},{\"attributes\":{\"factors\":[\"INPP4B\",\"MAPK3\",\"PIK3R1\",\"TP53\"]},\"id\":\"1206\",\"type\":\"FactorRange\"},{\"attributes\":{\"formatter\":{\"id\":\"1257\"},\"ticker\":{\"id\":\"1219\"}},\"id\":\"1218\",\"type\":\"CategoricalAxis\"},{\"attributes\":{\"axis\":{\"id\":\"1218\"},\"dimension\":1,\"ticker\":null},\"id\":\"1220\",\"type\":\"Grid\"},{\"attributes\":{},\"id\":\"1255\",\"type\":\"CategoricalTickFormatter\"},{\"attributes\":{\"high\":2.7678,\"low\":-2.7678,\"palette\":[\"#2166ac\",\"#4393c3\",\"#92c5de\",\"#d1e5f0\",\"#f7f7f7\",\"#fddbc7\",\"#f4a582\",\"#d6604d\",\"#b2182b\"]},\"id\":\"1205\",\"type\":\"LinearColorMapper\"},{\"attributes\":{\"active_drag\":\"auto\",\"active_inspect\":\"auto\",\"active_multi\":null,\"active_scroll\":\"auto\",\"active_tap\":\"auto\",\"tools\":[{\"id\":\"1221\"}]},\"id\":\"1222\",\"type\":\"Toolbar\"},{\"attributes\":{\"source\":{\"id\":\"1224\"}},\"id\":\"1229\",\"type\":\"CDSView\"},{\"attributes\":{},\"id\":\"1219\",\"type\":\"CategoricalTicker\"},{\"attributes\":{},\"id\":\"1259\",\"type\":\"BasicTickFormatter\"},{\"attributes\":{},\"id\":\"1261\",\"type\":\"UnionRenderers\"},{\"attributes\":{\"data_source\":{\"id\":\"1224\"},\"glyph\":{\"id\":\"1226\"},\"hover_glyph\":null,\"muted_glyph\":null,\"nonselection_glyph\":{\"id\":\"1227\"},\"selection_glyph\":null,\"view\":{\"id\":\"1229\"}},\"id\":\"1228\",\"type\":\"GlyphRenderer\"},{\"attributes\":{},\"id\":\"1211\",\"type\":\"CategoricalScale\"},{\"attributes\":{},\"id\":\"1258\",\"type\":\"BasicTicker\"},{\"attributes\":{},\"id\":\"1257\",\"type\":\"CategoricalTickFormatter\"},{\"attributes\":{\"data\":{\"Cancer\":[\"Gbm\",\"Gbm\",\"Gbm\",\"Gbm\",\"Hnscc\",\"Hnscc\",\"Hnscc\",\"Hnscc\",\"Luad\",\"Luad\",\"Luad\",\"Luad\",\"Lscc\",\"Lscc\",\"Lscc\",\"Lscc\",\"Brca\",\"Brca\",\"Brca\",\"Brca\",\"Ov\",\"Ov\",\"Ov\",\"Ov\",\"En\",\"En\",\"En\",\"En\",\"Colon\",\"Colon\",\"Colon\",\"Colon\"],\"Medians\":{\"__ndarray__\":\"v5ZeNopI5b/IXfSVLB3Iv13sGQeG4NW/mhqfaaBs0D8gbd9YWu7iv6D1nV3zk+Y/AP6xrQJyr78A/YmtznKyP03zjlN0JAZAcayL22gA/j9iMlUwKqnVP80Qx7q4jd4/LUMc6+I21r+v2F92Tx7Gv5rdk4eFWua/zH9Iv30d6j/fItv5fmq8P6MBvAUSlPC/hOLHmLuWzL9yio7k8h/Yv0cTitVo98Y/FxfS16+41z+hUV87vXeuP5pwRei7Kck/kKD4Meau6b/+Q/rt68DVP8qhRbbz/bQ/h4Va07zjxD9txf6ye/LIP+wvuycPC7U/XNO84xQdqT9ffa62Yn+Jvw==\",\"dtype\":\"float64\",\"shape\":[32]},\"P_Value\":{\"__ndarray__\":\"6UTNnrMfsT6NLLUnUIpxP4SR9rxrz40/TjRz0E1i5T9j/9ZB9CJGPx9r7+UsSKA/uYgFG0OTwD8jBKsg2tDbPyg9L6mEns4/GvhR3Py00T9yLTA33tHgP9Ps8Cn1weQ/wxHx+MBWoD+cCJ7eQ4KpP5Ql2y32eLU/EPw8djRn2j98Y9Xnc4SxP7opH56CDcU/VqEYUy9E0j9oxyZ3KvHSPx/EU4w2KMw/OFkWuLSh1j9YqI8KLPXqP927mXFZXe8/g1fkXDhpVD/pWd2Nl2bBP5ZX1VxFatE/+IKP59JO3z8vdCmQdsRrP4bf800WPr4/PIjHmPsA7z8J27gm/SDvPw==\",\"dtype\":\"float64\",\"shape\":[32]},\"Proteomics\":[\"MAPK3\",\"PIK3R1\",\"INPP4B\",\"TP53\",\"INPP4B\",\"TP53\",\"MAPK3\",\"PIK3R1\",\"TP53\",\"INPP4B\",\"MAPK3\",\"PIK3R1\",\"PIK3R1\",\"MAPK3\",\"INPP4B\",\"TP53\",\"TP53\",\"PIK3R1\",\"MAPK3\",\"INPP4B\",\"PIK3R1\",\"INPP4B\",\"MAPK3\",\"TP53\",\"TP53\",\"PIK3R1\",\"MAPK3\",\"INPP4B\",\"MAPK3\",\"INPP4B\",\"TP53\",\"PIK3R1\"],\"index\":[5,390,631,2319,2834,3267,3746,4585,6928,7039,7692,8001,9230,9363,9552,10681,12313,12726,13107,13135,15212,15593,16819,17168,17392,18372,18781,19238,20188,20461,22143,22151],\"size\":{\"__ndarray__\":\"AAAAAAAA+P/m2508gLj8v3Hg3vlYwgbA0k6KB9guG8DoyOQpdxLGP6CPAXIi3wvA4g1X6+u6EsAyq8ruQhsYwGpQGzMJKhXASNDGDPfOFcDUWV6exUsZwApwAzcB6hrAMK7XQfrkC8CzGSmGjtMOwLd7RuiFLRHAonA+W1PPF8AKERevkHoQwDZfD3euohPAMaC4k27zFcDRGVY5nx4WwIzUEBy5zhTA9tnvter8FsAIcX/M3gMewBiwodvqjCHAXqgU1vML4r9iV3XOIukSwMaDs8ipuxXAOb59guPSGMBMO6Dw90b5v91PHUy2ZBLA3IMbf/IXIcChRzT61zshwA==\",\"dtype\":\"float64\",\"shape\":[32]},\"size2\":{\"__ndarray__\":\"AAAAAAAA+P/v5xPTqiXjv5eAfqJ2WO6/4YmxrzofAsCKtts39G2tP8BfVqHBlPK/Lr0ejzr5+L93xzGfLBIAwDhrJEQMOPy/thUJEfQT/b/jO5RpLt0AwFz1rCRW8QHAdcmP1qaY8r8iEcauCY30v59PszVd5/a/guv9zhm//7+4FnTpwPj1v/N+FPQ9Lvq/l9Wgb5NE/b9sIsihKX79vxDGayVMvvu/83fqR46m/r8F9lSIlAIEwMvqLHqOZgfAKIsbyO8PyL8tH0cT2Tb5v7KvRLY3+vy/JtRTrJeMAMAz0mqg+tngv3xqfGVIhvi/JgV6qZjKBsAsCptNdfoGwA==\",\"dtype\":\"float64\",\"shape\":[32]}},\"selected\":{\"id\":\"1260\"},\"selection_policy\":{\"id\":\"1261\"}},\"id\":\"1224\",\"type\":\"ColumnDataSource\"},{\"attributes\":{\"axis\":{\"id\":\"1215\"},\"ticker\":null},\"id\":\"1217\",\"type\":\"Grid\"},{\"attributes\":{\"fill_color\":{\"field\":\"Medians\",\"transform\":{\"id\":\"1205\"}},\"line_color\":{\"value\":\"#1f77b4\"},\"line_width\":{\"value\":0},\"size\":{\"field\":\"size\",\"units\":\"screen\"},\"x\":{\"field\":\"Proteomics\"},\"y\":{\"field\":\"Cancer\"}},\"id\":\"1226\",\"type\":\"Scatter\"},{\"attributes\":{\"formatter\":{\"id\":\"1255\"},\"major_label_orientation\":1.5707963267948966,\"ticker\":{\"id\":\"1216\"}},\"id\":\"1215\",\"type\":\"CategoricalAxis\"},{\"attributes\":{},\"id\":\"1216\",\"type\":\"CategoricalTicker\"}],\"root_ids\":[\"1208\"]},\"title\":\"Bokeh Application\",\"version\":\"2.0.1\"}};\n",
       "  var render_items = [{\"docid\":\"40b4ffc9-66ba-4631-a129-c5d8390123ee\",\"root_ids\":[\"1208\"],\"roots\":{\"1208\":\"f6672a6f-9ee8-4847-b343-cbaf147c9aa6\"}}];\n",
       "  root.Bokeh.embed.embed_items_notebook(docs_json, render_items);\n",
       "\n",
       "  }\n",
       "  if (root.Bokeh !== undefined) {\n",
       "    embed_document(root);\n",
       "  } else {\n",
       "    var attempts = 0;\n",
       "    var timer = setInterval(function(root) {\n",
       "      if (root.Bokeh !== undefined) {\n",
       "        clearInterval(timer);\n",
       "        embed_document(root);\n",
       "      } else {\n",
       "        attempts++;\n",
       "        if (attempts > 100) {\n",
       "          clearInterval(timer);\n",
       "          console.log(\"Bokeh: ERROR: Unable to run BokehJS code because BokehJS library is missing\");\n",
       "        }\n",
       "      }\n",
       "    }, 10, root)\n",
       "  }\n",
       "})(window);"
      ],
      "application/vnd.bokehjs_exec.v0+json": ""
     },
     "metadata": {
      "application/vnd.bokehjs_exec.v0+json": {
       "id": "1208"
      }
     },
     "output_type": "display_data"
    }
   ],
   "source": [
    "p.plotCircleHeatMap(genes_pn, circle_var = 'size', color_var='Medians', x_axis= 'Proteomics', y_axis = 'Cancer',\n",
    "                   plot_height=500, plot_width=500)"
   ]
  },
  {
   "cell_type": "code",
   "execution_count": null,
   "metadata": {},
   "outputs": [],
   "source": []
  }
 ],
 "metadata": {
  "kernelspec": {
   "display_name": "Python 3",
   "language": "python",
   "name": "python3"
  },
  "language_info": {
   "codemirror_mode": {
    "name": "ipython",
    "version": 3
   },
   "file_extension": ".py",
   "mimetype": "text/x-python",
   "name": "python",
   "nbconvert_exporter": "python",
   "pygments_lexer": "ipython3",
   "version": "3.7.3"
  }
 },
 "nbformat": 4,
 "nbformat_minor": 2
}
