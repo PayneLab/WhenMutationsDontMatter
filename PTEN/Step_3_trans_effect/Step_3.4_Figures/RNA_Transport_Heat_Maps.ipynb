{
 "cells": [
  {
   "cell_type": "markdown",
   "metadata": {},
   "source": [
    "# Create Heat Map for significant RNA Transport genes"
   ]
  },
  {
   "cell_type": "markdown",
   "metadata": {},
   "source": [
    "This notebook looks at the significant genes in at least one cancer in the RNA Transport pathway. Pancancer heat maps are created with circle size showing significance and color showing differences in median."
   ]
  },
  {
   "cell_type": "code",
   "execution_count": 1,
   "metadata": {},
   "outputs": [],
   "source": [
    "import pandas as pd\n",
    "import numpy as np\n",
    "import seaborn as sns\n",
    "import matplotlib.pyplot as plt\n",
    "import scipy.stats\n",
    "import gseapy as gp\n",
    "import re\n",
    "import sys \n",
    "\n",
    "import cptac\n",
    "import cptac.utils as u\n",
    "\n",
    "import plot_utils as pu"
   ]
  },
  {
   "cell_type": "markdown",
   "metadata": {},
   "source": [
    "# Step 1: Run GSEA for significant genes in at least 1 cancer"
   ]
  },
  {
   "cell_type": "markdown",
   "metadata": {},
   "source": [
    "First read in sig_pval_all_proteins.csv into a df. This csv file contains only genes with a significant p-value in at least one cancer. Then run GSEA using a list of genes from the df."
   ]
  },
  {
   "cell_type": "code",
   "execution_count": 2,
   "metadata": {},
   "outputs": [
    {
     "data": {
      "text/html": [
       "<div>\n",
       "<style scoped>\n",
       "    .dataframe tbody tr th:only-of-type {\n",
       "        vertical-align: middle;\n",
       "    }\n",
       "\n",
       "    .dataframe tbody tr th {\n",
       "        vertical-align: top;\n",
       "    }\n",
       "\n",
       "    .dataframe thead th {\n",
       "        text-align: right;\n",
       "    }\n",
       "</style>\n",
       "<table border=\"1\" class=\"dataframe\">\n",
       "  <thead>\n",
       "    <tr style=\"text-align: right;\">\n",
       "      <th></th>\n",
       "      <th>Term</th>\n",
       "      <th>Overlap</th>\n",
       "      <th>P-value</th>\n",
       "      <th>Adjusted P-value</th>\n",
       "      <th>Old P-value</th>\n",
       "      <th>Old Adjusted P-value</th>\n",
       "      <th>Odds Ratio</th>\n",
       "      <th>Combined Score</th>\n",
       "      <th>Genes</th>\n",
       "      <th>Gene_set</th>\n",
       "    </tr>\n",
       "  </thead>\n",
       "  <tbody>\n",
       "    <tr>\n",
       "      <th>0</th>\n",
       "      <td>Spliceosome Homo sapiens hsa03040</td>\n",
       "      <td>88/134</td>\n",
       "      <td>2.936551e-44</td>\n",
       "      <td>8.604095e-42</td>\n",
       "      <td>0</td>\n",
       "      <td>0</td>\n",
       "      <td>4.860965</td>\n",
       "      <td>487.246193</td>\n",
       "      <td>RBM25;EIF4A3;DDX42;HNRNPU;PRPF19;USP39;EFTUD2;...</td>\n",
       "      <td>KEGG_2016</td>\n",
       "    </tr>\n",
       "    <tr>\n",
       "      <th>1</th>\n",
       "      <td>RNA transport Homo sapiens hsa03013</td>\n",
       "      <td>77/172</td>\n",
       "      <td>1.113872e-23</td>\n",
       "      <td>1.631823e-21</td>\n",
       "      <td>0</td>\n",
       "      <td>0</td>\n",
       "      <td>3.313652</td>\n",
       "      <td>175.131871</td>\n",
       "      <td>CYFIP2;NUP107;NUP188;RPP30;EIF4A3;PHAX;PNN;XPO...</td>\n",
       "      <td>KEGG_2016</td>\n",
       "    </tr>\n",
       "    <tr>\n",
       "      <th>2</th>\n",
       "      <td>DNA replication Homo sapiens hsa03030</td>\n",
       "      <td>23/36</td>\n",
       "      <td>3.613010e-12</td>\n",
       "      <td>3.528707e-10</td>\n",
       "      <td>0</td>\n",
       "      <td>0</td>\n",
       "      <td>4.729007</td>\n",
       "      <td>124.592696</td>\n",
       "      <td>RFC5;FEN1;RFC3;PCNA;RFC4;MCM7;RFC1;RFC2;PRIM1;...</td>\n",
       "      <td>KEGG_2016</td>\n",
       "    </tr>\n",
       "    <tr>\n",
       "      <th>3</th>\n",
       "      <td>mRNA surveillance pathway Homo sapiens hsa03015</td>\n",
       "      <td>38/91</td>\n",
       "      <td>2.801846e-11</td>\n",
       "      <td>2.052353e-09</td>\n",
       "      <td>0</td>\n",
       "      <td>0</td>\n",
       "      <td>3.090914</td>\n",
       "      <td>75.103503</td>\n",
       "      <td>SMG1;RBM8A;RNMT;CSTF3;EIF4A3;MSI1;PPP2R2A;MSI2...</td>\n",
       "      <td>KEGG_2016</td>\n",
       "    </tr>\n",
       "    <tr>\n",
       "      <th>4</th>\n",
       "      <td>Mismatch repair Homo sapiens hsa03430</td>\n",
       "      <td>15/23</td>\n",
       "      <td>1.473843e-08</td>\n",
       "      <td>8.636717e-07</td>\n",
       "      <td>0</td>\n",
       "      <td>0</td>\n",
       "      <td>4.827342</td>\n",
       "      <td>87.050531</td>\n",
       "      <td>RFC5;RFC3;PCNA;RFC4;RFC1;RFC2;RPA1;MLH1;POLD3;...</td>\n",
       "      <td>KEGG_2016</td>\n",
       "    </tr>\n",
       "  </tbody>\n",
       "</table>\n",
       "</div>"
      ],
      "text/plain": [
       "                                              Term Overlap       P-value  \\\n",
       "0                Spliceosome Homo sapiens hsa03040  88/134  2.936551e-44   \n",
       "1              RNA transport Homo sapiens hsa03013  77/172  1.113872e-23   \n",
       "2            DNA replication Homo sapiens hsa03030   23/36  3.613010e-12   \n",
       "3  mRNA surveillance pathway Homo sapiens hsa03015   38/91  2.801846e-11   \n",
       "4            Mismatch repair Homo sapiens hsa03430   15/23  1.473843e-08   \n",
       "\n",
       "   Adjusted P-value  Old P-value  Old Adjusted P-value  Odds Ratio  \\\n",
       "0      8.604095e-42            0                     0    4.860965   \n",
       "1      1.631823e-21            0                     0    3.313652   \n",
       "2      3.528707e-10            0                     0    4.729007   \n",
       "3      2.052353e-09            0                     0    3.090914   \n",
       "4      8.636717e-07            0                     0    4.827342   \n",
       "\n",
       "   Combined Score                                              Genes  \\\n",
       "0      487.246193  RBM25;EIF4A3;DDX42;HNRNPU;PRPF19;USP39;EFTUD2;...   \n",
       "1      175.131871  CYFIP2;NUP107;NUP188;RPP30;EIF4A3;PHAX;PNN;XPO...   \n",
       "2      124.592696  RFC5;FEN1;RFC3;PCNA;RFC4;MCM7;RFC1;RFC2;PRIM1;...   \n",
       "3       75.103503  SMG1;RBM8A;RNMT;CSTF3;EIF4A3;MSI1;PPP2R2A;MSI2...   \n",
       "4       87.050531  RFC5;RFC3;PCNA;RFC4;RFC1;RFC2;RPA1;MLH1;POLD3;...   \n",
       "\n",
       "    Gene_set  \n",
       "0  KEGG_2016  \n",
       "1  KEGG_2016  \n",
       "2  KEGG_2016  \n",
       "3  KEGG_2016  \n",
       "4  KEGG_2016  "
      ]
     },
     "execution_count": 2,
     "metadata": {},
     "output_type": "execute_result"
    }
   ],
   "source": [
    "root = R'~\\Github\\WhenMutationsDontMatter\\PTEN\\Step_3_trans_effect\\csv'\n",
    "df = pd.read_csv(root+R'\\sig_pval_heatmap.csv')\n",
    "\n",
    "prot_list = list(df.Proteomics) # list of genes with a sig pval in >= 1 cancer\n",
    "prot_enr = gp.enrichr(gene_list = prot_list, description='Tumor_partition', gene_sets='KEGG_2016', \n",
    "                       outdir='/Enrichr')\n",
    "prot_enr.res2d.head()"
   ]
  },
  {
   "cell_type": "markdown",
   "metadata": {},
   "source": [
    "# Step 2: Get the list of significant genes in the DNA Replication pathway"
   ]
  },
  {
   "cell_type": "code",
   "execution_count": 3,
   "metadata": {},
   "outputs": [
    {
     "name": "stdout",
     "output_type": "stream",
     "text": [
      "total genes: 77\n"
     ]
    }
   ],
   "source": [
    "rna = prot_enr.res2d.Genes[1]\n",
    "genes = rna.split(';')\n",
    "print('total genes:',len(genes))"
   ]
  },
  {
   "cell_type": "markdown",
   "metadata": {},
   "source": [
    "# Step 3: Create HeatMap"
   ]
  },
  {
   "cell_type": "markdown",
   "metadata": {},
   "source": [
    "Create a long df formated for the plotCircleHeatMap function (read in heat_map_df.csv). Then slice out about 15 genes from the significant genes in the DNA Replication pathway. 15 genes show up well when the plotCircleHeatMap function is called. Change the variable representing a different list of genes to visualize all the genes in the pathway.  "
   ]
  },
  {
   "cell_type": "code",
   "execution_count": null,
   "metadata": {},
   "outputs": [],
   "source": [
    "genes_1 = genes[0:16]\n",
    "genes_2 = genes[16:32]\n",
    "genes_3 = genes[32:47]\n",
    "genes_4 = genes[47:62]\n",
    "genes_5 = genes[62:]\n"
   ]
  },
  {
   "cell_type": "code",
   "execution_count": null,
   "metadata": {},
   "outputs": [],
   "source": [
    "bool_df = df.Proteomics.isin(genes_1)\n",
    "plot_df = df[bool_df]\n",
    "plot_df.head()"
   ]
  },
  {
   "cell_type": "code",
   "execution_count": null,
   "metadata": {},
   "outputs": [],
   "source": [
    "pu.plotCircleHeatMap(plot_df, circle_var = 'size', color_var='Medians', x_axis= 'Proteomics', y_axis = 'Cancer')"
   ]
  },
  {
   "cell_type": "markdown",
   "metadata": {},
   "source": [
    "# Step 4: Create a HeatMap with both pos and neg differences in median"
   ]
  },
  {
   "cell_type": "markdown",
   "metadata": {},
   "source": [
    " Read in the pos_neg_df.csv to create a df with only genes that have a pos and neg difference in median in different cancers. Slice out the genes that have a pos and neg difference in median in the pathway using the list of genes with a significant p-value in the pathway. "
   ]
  },
  {
   "cell_type": "code",
   "execution_count": null,
   "metadata": {},
   "outputs": [],
   "source": [
    "pos_neg_df = pd.read_csv(root+R'\\pos_neg_df.csv')"
   ]
  },
  {
   "cell_type": "code",
   "execution_count": null,
   "metadata": {},
   "outputs": [],
   "source": [
    "pos_neg_df['Cancer'].unique()"
   ]
  },
  {
   "cell_type": "code",
   "execution_count": null,
   "metadata": {},
   "outputs": [],
   "source": [
    "get = pos_neg_df.Proteomics.isin(genes) # bool df where True has both pos and neg\n",
    "genes_pn = pos_neg_df[get] # Keep only genes with pos and neg\n",
    "len(genes_pn.Proteomics.unique())"
   ]
  },
  {
   "cell_type": "code",
   "execution_count": null,
   "metadata": {},
   "outputs": [],
   "source": [
    "pu.plotCircleHeatMap(genes_pn, circle_var = 'size', color_var='Medians', x_axis= 'Proteomics', y_axis = 'Cancer')"
   ]
  },
  {
   "cell_type": "code",
   "execution_count": null,
   "metadata": {},
   "outputs": [],
   "source": []
  }
 ],
 "metadata": {
  "kernelspec": {
   "display_name": "Python 3",
   "language": "python",
   "name": "python3"
  },
  "language_info": {
   "codemirror_mode": {
    "name": "ipython",
    "version": 3
   },
   "file_extension": ".py",
   "mimetype": "text/x-python",
   "name": "python",
   "nbconvert_exporter": "python",
   "pygments_lexer": "ipython3",
   "version": "3.7.3"
  }
 },
 "nbformat": 4,
 "nbformat_minor": 2
}
