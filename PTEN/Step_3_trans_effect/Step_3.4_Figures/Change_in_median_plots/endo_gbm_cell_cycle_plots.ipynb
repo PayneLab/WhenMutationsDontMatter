{
 "cells": [
  {
   "cell_type": "markdown",
   "metadata": {},
   "source": [
    "# Create Cell Cycle plot"
   ]
  },
  {
   "cell_type": "code",
   "execution_count": 1,
   "metadata": {},
   "outputs": [],
   "source": [
    "import pandas as pd\n",
    "import numpy as np\n",
    "import seaborn as sns\n",
    "import matplotlib.pyplot as plt\n",
    "import scipy.stats\n",
    "import gseapy as gp\n",
    "import re\n",
    "\n",
    "import cptac\n",
    "import cptac.utils as u\n",
    "\n",
    "import plot_utils as ut"
   ]
  },
  {
   "cell_type": "code",
   "execution_count": 2,
   "metadata": {},
   "outputs": [],
   "source": [
    "# Returns a dataframe with proteomics and mutation type\n",
    "\n",
    "# all_prot: list of trans genes\n",
    "\n",
    "def all_prot_format_df(cancer_object, all_prot, gene_in = 'PTEN'):\n",
    "    mut_type = cancer_object.get_genotype_all_vars(gene_in)\n",
    "    \n",
    "    if cancer_object.get_cancer_type() not in ('luad'):\n",
    "        # Keep only tumor samples from proteomics\n",
    "        prot_and_mutations = cancer_object.join_omics_to_mutations(\n",
    "            mutations_genes = [gene_in], omics_df_name = 'proteomics', omics_genes = all_prot)\n",
    "        # Reduce a multiindex \n",
    "        if isinstance(prot_and_mutations.keys(), pd.core.indexes.multi.MultiIndex):\n",
    "            prot_and_mutations = cancer_object.reduce_multiindex(prot_and_mutations, levels_to_drop = 1)\n",
    "        prot_and_mutations = prot_and_mutations[prot_and_mutations.Sample_Status == \"Tumor\"] # drop Normal samples\n",
    "\n",
    "        # Merge Mutation column from get_genotype_all_vars (includes cnv) with proteomics\n",
    "        mut_type = mut_type[['Mutation']] \n",
    "        prot_df = prot_and_mutations.iloc[:,:-4] # Keep only proteomics\n",
    "        merged = prot_df.join(mut_type)\n",
    "        \n",
    "        # Keep only Wildtype and deletion\n",
    "        compare = ['Wildtype_Tumor','Deletion']\n",
    "        get = merged['Mutation'].isin(compare)\n",
    "        del_wt = merged[get]\n",
    "    \n",
    "    \n",
    "    # Luad has no somatic mutations for PTEN which changes some things\n",
    "    else: \n",
    "        # get_genotype_all_vars add cnv data under the column PTEN\n",
    "        mut_type = mut_type.drop(columns= gene_in)\n",
    "        # different code because no somatic mutation data for pten (can't join to somatic mutations)\n",
    "        omics = cancer_object.join_omics_to_omics(df1_name = 'CNV', df2_name='proteomics',genes1= gene_in, \n",
    "            genes2= all_prot)\n",
    "        omics = cancer_object.reduce_multiindex(omics, levels_to_drop = 1, flatten = True)\n",
    "        omics = omics.drop(columns='PTEN_CNV')\n",
    "        # Get only tumor samples\n",
    "        p = cancer_object.get_proteomics(tissue_type='tumor')\n",
    "        tumor_ids = list(p.index)\n",
    "        get = omics.index.isin(tumor_ids)\n",
    "        omics = omics[get]\n",
    "        # Merge Mutation column from get_genotype_all_vars (includes cnv) with proteomics\n",
    "        merged = omics.join(mut_type) \n",
    "        # Keep only No_Mutation (wildtype) and deletion\n",
    "        compare = ['No_Mutation','Deletion']\n",
    "        get = merged['Mutation'].isin(compare)\n",
    "        del_wt = merged[get]\n",
    "        del_wt['Mutation'] = np.where(\n",
    "            del_wt['Mutation'] == 'No_Mutation', 'Wildtype_Tumor', 'Deletion')\n",
    "\n",
    "    return del_wt\n"
   ]
  },
  {
   "cell_type": "markdown",
   "metadata": {},
   "source": [
    "# Select two cancers for the plot"
   ]
  },
  {
   "cell_type": "code",
   "execution_count": 3,
   "metadata": {},
   "outputs": [
    {
     "name": "stdout",
     "output_type": "stream",
     "text": [
      "                                                \r"
     ]
    },
    {
     "name": "stderr",
     "output_type": "stream",
     "text": [
      "cptac warning: The GBM dataset is under publication embargo until March 01, 2021. CPTAC is a community resource project and data are made available rapidly after generation for community research use. The embargo allows exploring and utilizing the data, but analysis may not be published until after the embargo date. Please see https://proteomics.cancer.gov/data-portal/about/data-use-agreement or enter cptac.embargo() to open the webpage for more details. (C:\\Users\\brittany henderson\\Anaconda3\\envs\\Research\\lib\\site-packages\\ipykernel_launcher.py, line 2)\n"
     ]
    }
   ],
   "source": [
    "en = cptac.Endometrial()\n",
    "g = cptac.Gbm()"
   ]
  },
  {
   "cell_type": "code",
   "execution_count": 4,
   "metadata": {},
   "outputs": [],
   "source": [
    "root = R'~\\Github\\WhenMutationsDontMatter\\PTEN\\Step_3_trans_effect\\csv'\n",
    "en_df = pd.read_csv(root+R'\\endo_pval_medians.csv')\n",
    "g_df = pd.read_csv(root+R'\\gbm_pval_medians.csv')"
   ]
  },
  {
   "cell_type": "markdown",
   "metadata": {},
   "source": [
    "# Calculate FDR-bh (lowest sig p-value = cutoff)"
   ]
  },
  {
   "cell_type": "markdown",
   "metadata": {},
   "source": [
    "Gbm t-tests"
   ]
  },
  {
   "cell_type": "code",
   "execution_count": 5,
   "metadata": {},
   "outputs": [
    {
     "name": "stderr",
     "output_type": "stream",
     "text": [
      "cptac warning: In joining the somatic_mutation table, no mutations were found for the following samples, so they were filled with Wildtype_Tumor or Wildtype_Normal: 72 samples for the PTEN gene (C:\\Users\\brittany henderson\\Anaconda3\\envs\\Research\\lib\\site-packages\\cptac\\dataset.py, line 394)\n",
      "cptac warning: CNV data was not found for the following samples, so CNV data columns were filled with NaN for these samples: C3L-01834 (C:\\Users\\brittany henderson\\Anaconda3\\envs\\Research\\lib\\site-packages\\cptac\\dataset.py, line 394)\n",
      "cptac warning: In joining the somatic_mutation table, no mutations were found for the following samples, so they were filled with Wildtype_Tumor or Wildtype_Normal: 82 samples for the PTEN gene (C:\\Users\\brittany henderson\\Anaconda3\\envs\\Research\\lib\\site-packages\\ipykernel_launcher.py, line 11)\n"
     ]
    }
   ],
   "source": [
    "gene = 'PTEN'\n",
    "g_prot = g.get_proteomics()\n",
    "g_prot_list = list(g_prot.columns)\n",
    "\n",
    "g_del_wt = all_prot_format_df(g, g_prot_list, gene)\n",
    "g_del_wt = g_del_wt.dropna(axis='columns', how='all')"
   ]
  },
  {
   "cell_type": "code",
   "execution_count": 6,
   "metadata": {},
   "outputs": [
    {
     "name": "stdout",
     "output_type": "stream",
     "text": [
      "11141\n"
     ]
    },
    {
     "name": "stderr",
     "output_type": "stream",
     "text": [
      "C:\\Users\\brittany henderson\\Anaconda3\\envs\\Research\\lib\\site-packages\\numpy\\core\\fromnumeric.py:3367: RuntimeWarning: Degrees of freedom <= 0 for slice\n",
      "  **kwargs)\n",
      "C:\\Users\\brittany henderson\\Anaconda3\\envs\\Research\\lib\\site-packages\\numpy\\core\\_methods.py:132: RuntimeWarning: invalid value encountered in double_scalars\n",
      "  ret = ret.dtype.type(ret / rcount)\n",
      "C:\\Users\\brittany henderson\\Anaconda3\\envs\\Research\\lib\\site-packages\\scipy\\stats\\_distn_infrastructure.py:877: RuntimeWarning: invalid value encountered in greater\n",
      "  return (self.a < x) & (x < self.b)\n",
      "C:\\Users\\brittany henderson\\Anaconda3\\envs\\Research\\lib\\site-packages\\scipy\\stats\\_distn_infrastructure.py:877: RuntimeWarning: invalid value encountered in less\n",
      "  return (self.a < x) & (x < self.b)\n",
      "C:\\Users\\brittany henderson\\Anaconda3\\envs\\Research\\lib\\site-packages\\scipy\\stats\\_distn_infrastructure.py:1831: RuntimeWarning: invalid value encountered in less_equal\n",
      "  cond2 = cond0 & (x <= self.a)\n",
      "C:\\Users\\brittany henderson\\Anaconda3\\envs\\Research\\lib\\site-packages\\statsmodels\\stats\\multitest.py:320: RuntimeWarning: invalid value encountered in less_equal\n",
      "  reject = pvals_sorted <= ecdffactor*alpha\n",
      "C:\\Users\\brittany henderson\\Anaconda3\\envs\\Research\\lib\\site-packages\\statsmodels\\stats\\multitest.py:328: RuntimeWarning: invalid value encountered in greater\n",
      "  pvals_corrected[pvals_corrected>1] = 1\n",
      "C:\\Users\\brittany henderson\\Anaconda3\\envs\\Research\\lib\\site-packages\\statsmodels\\stats\\multitest.py:251: RuntimeWarning: invalid value encountered in greater\n",
      "  pvals_corrected[pvals_corrected>1] = 1\n"
     ]
    },
    {
     "data": {
      "text/plain": [
       "1886    0.008467\n",
       "Name: P_Value, dtype: float64"
      ]
     },
     "execution_count": 6,
     "metadata": {},
     "output_type": "execute_result"
    }
   ],
   "source": [
    "cols = list(g_del_wt.columns[:-1])\n",
    "print(len(cols))\n",
    "\n",
    "# Get only sig genes\n",
    "g_sig = u.wrap_ttest(g_del_wt, 'Mutation', cols, correction_method = 'fdr_bh')\n",
    "\n",
    "# get_smallest p-value\n",
    "cutoff_gbm = g_sig.P_Value[-1:]\n",
    "cutoff_gbm"
   ]
  },
  {
   "cell_type": "markdown",
   "metadata": {},
   "source": [
    "Endo t-tests"
   ]
  },
  {
   "cell_type": "code",
   "execution_count": 7,
   "metadata": {},
   "outputs": [
    {
     "name": "stderr",
     "output_type": "stream",
     "text": [
      "cptac warning: In joining the somatic_mutation table, no mutations were found for the following samples, so they were filled with Wildtype_Tumor or Wildtype_Normal: 20 samples for the PTEN gene (C:\\Users\\brittany henderson\\Anaconda3\\envs\\Research\\lib\\site-packages\\cptac\\dataset.py, line 394)\n",
      "cptac warning: In joining the somatic_mutation table, no mutations were found for the following samples, so they were filled with Wildtype_Tumor or Wildtype_Normal: 69 samples for the PTEN gene (C:\\Users\\brittany henderson\\Anaconda3\\envs\\Research\\lib\\site-packages\\ipykernel_launcher.py, line 9)\n",
      "C:\\Users\\brittany henderson\\Anaconda3\\envs\\Research\\lib\\site-packages\\ipykernel_launcher.py:20: SettingWithCopyWarning: \n",
      "A value is trying to be set on a copy of a slice from a DataFrame.\n",
      "Try using .loc[row_indexer,col_indexer] = value instead\n",
      "\n",
      "See the caveats in the documentation: https://pandas.pydata.org/pandas-docs/stable/user_guide/indexing.html#returning-a-view-versus-a-copy\n"
     ]
    }
   ],
   "source": [
    "gene = 'PTEN'\n",
    "prot = en.get_proteomics()\n",
    "p = list(prot.columns)\n",
    "\n",
    "mut_type = en.get_genotype_all_vars(gene)\n",
    "\n",
    "# merge cnv with genotype all mut type\n",
    "prot_and_mutations = en.join_omics_to_mutations(\n",
    "    mutations_genes = [gene], omics_df_name = 'proteomics', omics_genes = p)\n",
    "prot_and_mutations = prot_and_mutations[prot_and_mutations.Sample_Status == \"Tumor\"] # drop Normal samples\n",
    "df = prot_and_mutations.iloc[:,:-4] #drop mutation, location cols\n",
    "mut_type = mut_type[['Mutation']] \n",
    "merged = df.join(mut_type) # merge mutation col from function (includes cnv)\n",
    "\n",
    "# Keep two values to compare\n",
    "compare = ['Wildtype_Tumor','Nonsense_Mutation','Frame_Shift_Ins','Frame_Shift_Del']\n",
    "get = merged['Mutation'].isin(compare)\n",
    "trunc_wt = merged[get]\n",
    "trunc_wt['Mutation'] = np.where(\n",
    "                trunc_wt['Mutation'] == 'Wildtype_Tumor', 'Wildtype_Tumor', 'Truncation')\n",
    "trunc_wt = trunc_wt.dropna(axis='columns',how='all')"
   ]
  },
  {
   "cell_type": "code",
   "execution_count": 8,
   "metadata": {},
   "outputs": [
    {
     "name": "stdout",
     "output_type": "stream",
     "text": [
      "10993\n"
     ]
    },
    {
     "data": {
      "text/plain": [
       "401    0.001826\n",
       "Name: P_Value, dtype: float64"
      ]
     },
     "execution_count": 8,
     "metadata": {},
     "output_type": "execute_result"
    }
   ],
   "source": [
    "cols = list(trunc_wt.columns[:-1])\n",
    "print(len(cols))\n",
    "\n",
    "# Get only sig sites\n",
    "e_sig = u.wrap_ttest(trunc_wt, 'Mutation', cols, correction_method = 'fdr_bh')\n",
    "\n",
    "# get_smallest p-value\n",
    "cutoff_en = e_sig.P_Value[-1:]\n",
    "cutoff_en"
   ]
  },
  {
   "cell_type": "code",
   "execution_count": 9,
   "metadata": {},
   "outputs": [
    {
     "name": "stdout",
     "output_type": "stream",
     "text": [
      "10993\n"
     ]
    }
   ],
   "source": [
    "print(len(cols))"
   ]
  },
  {
   "cell_type": "markdown",
   "metadata": {},
   "source": [
    "# Create df with p-values for all genes in a pathway"
   ]
  },
  {
   "cell_type": "code",
   "execution_count": 10,
   "metadata": {},
   "outputs": [],
   "source": [
    "# get a list of genes in a complete Pathway \n",
    "#all_dna_rep = 'DNA2 FEN1 LIG1 MCM2 MCM3 MCM4 MCM5 MCM6 MCM7 PCNA POLA1 POLA2 POLD1 POLD2 POLD3 POLD4 POLE POLE2 POLE3 POLE4 PRIM1 PRIM2 RFC1 RFC2 RFC3 RFC4 RFC5 RNASEH1 RNASEH2A RNASEH2B RNASEH2C RPA1 RPA2 RPA3 RPA4 SSBP1'\n",
    "#all_dna_genes = all_dna_rep.split(' ')"
   ]
  },
  {
   "cell_type": "code",
   "execution_count": 11,
   "metadata": {},
   "outputs": [
    {
     "data": {
      "text/plain": [
       "\"\\n# kegg_2016  \\ncell_cycle = ('ANAPC1 ANAPC10 ANAPC11 ANAPC13 ANAPC2 ANAPC4 ANAPC5 ANAPC7 ATM ATR BUB1 BUB1B BUB3 CCNA1 CCNA2 CCNB1 '+\\n              'CCNB2 CCNB3 CCND1 CCND2 CCND3 CCNE1 CCNE2 CCNH CDC14A CDC14B CDC16 CDC20 CDC23 CDC25A CDC25B CDC25C '+\\n              'CDC26 CDC27 CDC45 CDC6 CDC7 CDK1 CDK2 CDK4 CDK6 CDK7 CDKN1A CDKN1B CDKN1C CDKN2A CDKN2B CDKN2C CDKN2D '+\\n              'CHEK1 CHEK2 CREBBP CUL1 DBF4 E2F1 E2F2 E2F3 E2F4 E2F5 EP300 ESPL1 FZR1 GADD45A GADD45B GADD45G GSK3B '+\\n              'HDAC1 HDAC2 MAD1L1 MAD2L1 MAD2L2 MCM2 MCM3 MCM4 MCM5 MCM6 MCM7 MDM2 MYC ORC1 ORC2 ORC3 ORC4 ORC5 ORC6 '+\\n              'PCNA PKMYT1 PLK1 PRKDC PTTG1 PTTG2 RAD21 RB1 RBL1 RBL2 RBX1 SFN SKP1 SKP2 SMAD2 SMAD3 SMAD4 SMC1A SMC1B '+\\n              'SMC3 STAG1 STAG2 TFDP1 TFDP2 TGFB1 TGFB2 TGFB3 TP53 TTK WEE1 WEE2 YWHAB YWHAE YWHAG YWHAH YWHAQ YWHAZ '+\\n              'ZBTB17')\\ncell_cycle = cell_cycle.split(' ')\""
      ]
     },
     "execution_count": 11,
     "metadata": {},
     "output_type": "execute_result"
    }
   ],
   "source": [
    "'''\n",
    "# kegg_2016  \n",
    "cell_cycle = ('ANAPC1 ANAPC10 ANAPC11 ANAPC13 ANAPC2 ANAPC4 ANAPC5 ANAPC7 ATM ATR BUB1 BUB1B BUB3 CCNA1 CCNA2 CCNB1 '+\n",
    "              'CCNB2 CCNB3 CCND1 CCND2 CCND3 CCNE1 CCNE2 CCNH CDC14A CDC14B CDC16 CDC20 CDC23 CDC25A CDC25B CDC25C '+\n",
    "              'CDC26 CDC27 CDC45 CDC6 CDC7 CDK1 CDK2 CDK4 CDK6 CDK7 CDKN1A CDKN1B CDKN1C CDKN2A CDKN2B CDKN2C CDKN2D '+\n",
    "              'CHEK1 CHEK2 CREBBP CUL1 DBF4 E2F1 E2F2 E2F3 E2F4 E2F5 EP300 ESPL1 FZR1 GADD45A GADD45B GADD45G GSK3B '+\n",
    "              'HDAC1 HDAC2 MAD1L1 MAD2L1 MAD2L2 MCM2 MCM3 MCM4 MCM5 MCM6 MCM7 MDM2 MYC ORC1 ORC2 ORC3 ORC4 ORC5 ORC6 '+\n",
    "              'PCNA PKMYT1 PLK1 PRKDC PTTG1 PTTG2 RAD21 RB1 RBL1 RBL2 RBX1 SFN SKP1 SKP2 SMAD2 SMAD3 SMAD4 SMC1A SMC1B '+\n",
    "              'SMC3 STAG1 STAG2 TFDP1 TFDP2 TGFB1 TGFB2 TGFB3 TP53 TTK WEE1 WEE2 YWHAB YWHAE YWHAG YWHAH YWHAQ YWHAZ '+\n",
    "              'ZBTB17')\n",
    "cell_cycle = cell_cycle.split(' ')'''"
   ]
  },
  {
   "cell_type": "code",
   "execution_count": 12,
   "metadata": {},
   "outputs": [],
   "source": [
    "rcc = pd.read_excel(root+R\"\\Reactome_cell_cycle.xlsx\", sheet_name='cell_cycle')\n",
    "rgs = pd.read_excel(root+R\"\\Reactome_cell_cycle.xlsx\", sheet_name='g1_to_s')"
   ]
  },
  {
   "cell_type": "code",
   "execution_count": 13,
   "metadata": {},
   "outputs": [],
   "source": [
    "reactome_cell_cycle = list(rcc.columns)\n",
    "cell_cycle_list = reactome_cell_cycle[2:]"
   ]
  },
  {
   "cell_type": "code",
   "execution_count": 14,
   "metadata": {},
   "outputs": [],
   "source": [
    "reactome_g1_to_s = list(rgs.columns)\n",
    "g1_to_s_list = reactome_g1_to_s[2:]"
   ]
  },
  {
   "cell_type": "code",
   "execution_count": 15,
   "metadata": {},
   "outputs": [
    {
     "data": {
      "text/plain": [
       "674"
      ]
     },
     "execution_count": 15,
     "metadata": {},
     "output_type": "execute_result"
    }
   ],
   "source": [
    "len(cell_cycle_list)"
   ]
  },
  {
   "cell_type": "code",
   "execution_count": 16,
   "metadata": {},
   "outputs": [
    {
     "data": {
      "text/plain": [
       "534"
      ]
     },
     "execution_count": 16,
     "metadata": {},
     "output_type": "execute_result"
    }
   ],
   "source": [
    "# Merge dfs of both cancers and keep only genes in a complete pathway\n",
    "merged = g_df.merge(en_df, on ='Proteomics', how='outer')\n",
    "merged = merged.replace(regex=True,to_replace='_proteomics', value='')\n",
    "dna_bool = merged.Proteomics.isin(cell_cycle_list)\n",
    "df = merged[dna_bool]\n",
    "df.head()\n",
    "len(df)"
   ]
  },
  {
   "cell_type": "code",
   "execution_count": 17,
   "metadata": {},
   "outputs": [
    {
     "data": {
      "text/html": [
       "<div>\n",
       "<style scoped>\n",
       "    .dataframe tbody tr th:only-of-type {\n",
       "        vertical-align: middle;\n",
       "    }\n",
       "\n",
       "    .dataframe tbody tr th {\n",
       "        vertical-align: top;\n",
       "    }\n",
       "\n",
       "    .dataframe thead th {\n",
       "        text-align: right;\n",
       "    }\n",
       "</style>\n",
       "<table border=\"1\" class=\"dataframe\">\n",
       "  <thead>\n",
       "    <tr style=\"text-align: right;\">\n",
       "      <th></th>\n",
       "      <th>Gbm_P_Value</th>\n",
       "      <th>En_P_Value</th>\n",
       "    </tr>\n",
       "    <tr>\n",
       "      <th>Proteomics</th>\n",
       "      <th></th>\n",
       "      <th></th>\n",
       "    </tr>\n",
       "  </thead>\n",
       "  <tbody>\n",
       "    <tr>\n",
       "      <th>DCTN1</th>\n",
       "      <td>1.016640e-08</td>\n",
       "      <td>0.000275</td>\n",
       "    </tr>\n",
       "    <tr>\n",
       "      <th>ACTR1A</th>\n",
       "      <td>3.600370e-08</td>\n",
       "      <td>0.020618</td>\n",
       "    </tr>\n",
       "    <tr>\n",
       "      <th>MAPK3</th>\n",
       "      <td>1.020660e-06</td>\n",
       "      <td>0.272111</td>\n",
       "    </tr>\n",
       "    <tr>\n",
       "      <th>DCTN3</th>\n",
       "      <td>2.683160e-06</td>\n",
       "      <td>0.008462</td>\n",
       "    </tr>\n",
       "    <tr>\n",
       "      <th>BRCC3</th>\n",
       "      <td>3.222041e-06</td>\n",
       "      <td>0.537955</td>\n",
       "    </tr>\n",
       "  </tbody>\n",
       "</table>\n",
       "</div>"
      ],
      "text/plain": [
       "             Gbm_P_Value  En_P_Value\n",
       "Proteomics                          \n",
       "DCTN1       1.016640e-08    0.000275\n",
       "ACTR1A      3.600370e-08    0.020618\n",
       "MAPK3       1.020660e-06    0.272111\n",
       "DCTN3       2.683160e-06    0.008462\n",
       "BRCC3       3.222041e-06    0.537955"
      ]
     },
     "execution_count": 17,
     "metadata": {},
     "output_type": "execute_result"
    }
   ],
   "source": [
    "# Create pval only df for Color mapping\n",
    "pval_df = df.drop(columns = ['Gbm_Median','En_Median'])\n",
    "pval_df = pval_df.set_index('Proteomics')\n",
    "pval_df.head()"
   ]
  },
  {
   "cell_type": "markdown",
   "metadata": {},
   "source": [
    "# Create the color column based on significance in both cancers "
   ]
  },
  {
   "cell_type": "code",
   "execution_count": 18,
   "metadata": {},
   "outputs": [],
   "source": [
    "def Color(row):\n",
    "    color = 'Not_sig'\n",
    "\n",
    "    c1_cutoff = .008667 # lowest p-value for cancer 1\n",
    "    c2_cutoff = 0.001826\n",
    "\n",
    "    for item in row:\n",
    "        if pd.isnull(item):\n",
    "            continue\n",
    "        if row['Gbm_P_Value'] <= c1_cutoff and row['En_P_Value'] <= c2_cutoff:\n",
    "            color = 'Both_sig'\n",
    "        elif row['Gbm_P_Value'] <= c1_cutoff:\n",
    "            color = 'Gbm_sig'\n",
    "        elif row['En_P_Value'] <= c2_cutoff:\n",
    "            color = 'En_sig'\n",
    "           \n",
    "    return color"
   ]
  },
  {
   "cell_type": "code",
   "execution_count": 19,
   "metadata": {},
   "outputs": [
    {
     "name": "stdout",
     "output_type": "stream",
     "text": [
      "lowest p-value for Gbm: 1886    0.008467\n",
      "Name: P_Value, dtype: float64 \n",
      "\n",
      "lowest p-value for Endo: 401    0.001826\n",
      "Name: P_Value, dtype: float64\n"
     ]
    }
   ],
   "source": [
    "print('lowest p-value for Gbm:',cutoff_gbm, '\\n')\n",
    "print('lowest p-value for Endo:',cutoff_en)"
   ]
  },
  {
   "cell_type": "code",
   "execution_count": 20,
   "metadata": {},
   "outputs": [
    {
     "data": {
      "text/html": [
       "<div>\n",
       "<style scoped>\n",
       "    .dataframe tbody tr th:only-of-type {\n",
       "        vertical-align: middle;\n",
       "    }\n",
       "\n",
       "    .dataframe tbody tr th {\n",
       "        vertical-align: top;\n",
       "    }\n",
       "\n",
       "    .dataframe thead th {\n",
       "        text-align: right;\n",
       "    }\n",
       "</style>\n",
       "<table border=\"1\" class=\"dataframe\">\n",
       "  <thead>\n",
       "    <tr style=\"text-align: right;\">\n",
       "      <th></th>\n",
       "      <th>Gbm_P_Value</th>\n",
       "      <th>En_P_Value</th>\n",
       "      <th>color</th>\n",
       "    </tr>\n",
       "    <tr>\n",
       "      <th>Proteomics</th>\n",
       "      <th></th>\n",
       "      <th></th>\n",
       "      <th></th>\n",
       "    </tr>\n",
       "  </thead>\n",
       "  <tbody>\n",
       "    <tr>\n",
       "      <th>DCTN1</th>\n",
       "      <td>1.016640e-08</td>\n",
       "      <td>2.745604e-04</td>\n",
       "      <td>Both_sig</td>\n",
       "    </tr>\n",
       "    <tr>\n",
       "      <th>PCM1</th>\n",
       "      <td>5.112435e-05</td>\n",
       "      <td>1.373028e-04</td>\n",
       "      <td>Both_sig</td>\n",
       "    </tr>\n",
       "    <tr>\n",
       "      <th>TPR</th>\n",
       "      <td>8.168249e-05</td>\n",
       "      <td>1.551381e-03</td>\n",
       "      <td>Both_sig</td>\n",
       "    </tr>\n",
       "    <tr>\n",
       "      <th>CDK11B</th>\n",
       "      <td>2.385733e-04</td>\n",
       "      <td>4.887783e-04</td>\n",
       "      <td>Both_sig</td>\n",
       "    </tr>\n",
       "    <tr>\n",
       "      <th>XPO1</th>\n",
       "      <td>2.562398e-04</td>\n",
       "      <td>3.986490e-04</td>\n",
       "      <td>Both_sig</td>\n",
       "    </tr>\n",
       "    <tr>\n",
       "      <th>CHTF8</th>\n",
       "      <td>4.442805e-04</td>\n",
       "      <td>3.814478e-04</td>\n",
       "      <td>Both_sig</td>\n",
       "    </tr>\n",
       "    <tr>\n",
       "      <th>CHTF18</th>\n",
       "      <td>5.312572e-04</td>\n",
       "      <td>1.196647e-03</td>\n",
       "      <td>Both_sig</td>\n",
       "    </tr>\n",
       "    <tr>\n",
       "      <th>RFC2</th>\n",
       "      <td>5.795218e-04</td>\n",
       "      <td>6.505986e-04</td>\n",
       "      <td>Both_sig</td>\n",
       "    </tr>\n",
       "    <tr>\n",
       "      <th>NUF2</th>\n",
       "      <td>5.966527e-04</td>\n",
       "      <td>1.108534e-03</td>\n",
       "      <td>Both_sig</td>\n",
       "    </tr>\n",
       "    <tr>\n",
       "      <th>TOPBP1</th>\n",
       "      <td>9.622278e-04</td>\n",
       "      <td>4.885533e-07</td>\n",
       "      <td>Both_sig</td>\n",
       "    </tr>\n",
       "    <tr>\n",
       "      <th>CENPF</th>\n",
       "      <td>1.565608e-03</td>\n",
       "      <td>1.225214e-03</td>\n",
       "      <td>Both_sig</td>\n",
       "    </tr>\n",
       "    <tr>\n",
       "      <th>NUP155</th>\n",
       "      <td>1.614292e-03</td>\n",
       "      <td>8.891559e-04</td>\n",
       "      <td>Both_sig</td>\n",
       "    </tr>\n",
       "    <tr>\n",
       "      <th>NDC80</th>\n",
       "      <td>1.759763e-03</td>\n",
       "      <td>2.323877e-04</td>\n",
       "      <td>Both_sig</td>\n",
       "    </tr>\n",
       "    <tr>\n",
       "      <th>TK1</th>\n",
       "      <td>2.452258e-03</td>\n",
       "      <td>4.585257e-04</td>\n",
       "      <td>Both_sig</td>\n",
       "    </tr>\n",
       "    <tr>\n",
       "      <th>TPX2</th>\n",
       "      <td>4.258858e-03</td>\n",
       "      <td>4.569958e-04</td>\n",
       "      <td>Both_sig</td>\n",
       "    </tr>\n",
       "    <tr>\n",
       "      <th>RAE1</th>\n",
       "      <td>5.752051e-03</td>\n",
       "      <td>2.713163e-04</td>\n",
       "      <td>Both_sig</td>\n",
       "    </tr>\n",
       "    <tr>\n",
       "      <th>BUB1B</th>\n",
       "      <td>6.255244e-03</td>\n",
       "      <td>7.007521e-04</td>\n",
       "      <td>Both_sig</td>\n",
       "    </tr>\n",
       "    <tr>\n",
       "      <th>TOP2A</th>\n",
       "      <td>6.494556e-03</td>\n",
       "      <td>3.728436e-04</td>\n",
       "      <td>Both_sig</td>\n",
       "    </tr>\n",
       "  </tbody>\n",
       "</table>\n",
       "</div>"
      ],
      "text/plain": [
       "             Gbm_P_Value    En_P_Value     color\n",
       "Proteomics                                      \n",
       "DCTN1       1.016640e-08  2.745604e-04  Both_sig\n",
       "PCM1        5.112435e-05  1.373028e-04  Both_sig\n",
       "TPR         8.168249e-05  1.551381e-03  Both_sig\n",
       "CDK11B      2.385733e-04  4.887783e-04  Both_sig\n",
       "XPO1        2.562398e-04  3.986490e-04  Both_sig\n",
       "CHTF8       4.442805e-04  3.814478e-04  Both_sig\n",
       "CHTF18      5.312572e-04  1.196647e-03  Both_sig\n",
       "RFC2        5.795218e-04  6.505986e-04  Both_sig\n",
       "NUF2        5.966527e-04  1.108534e-03  Both_sig\n",
       "TOPBP1      9.622278e-04  4.885533e-07  Both_sig\n",
       "CENPF       1.565608e-03  1.225214e-03  Both_sig\n",
       "NUP155      1.614292e-03  8.891559e-04  Both_sig\n",
       "NDC80       1.759763e-03  2.323877e-04  Both_sig\n",
       "TK1         2.452258e-03  4.585257e-04  Both_sig\n",
       "TPX2        4.258858e-03  4.569958e-04  Both_sig\n",
       "RAE1        5.752051e-03  2.713163e-04  Both_sig\n",
       "BUB1B       6.255244e-03  7.007521e-04  Both_sig\n",
       "TOP2A       6.494556e-03  3.728436e-04  Both_sig"
      ]
     },
     "execution_count": 20,
     "metadata": {},
     "output_type": "execute_result"
    }
   ],
   "source": [
    "pval_df['color'] = pval_df.apply(Color, axis=1)\n",
    "color = pval_df[['color']]\n",
    "pval_df.loc[pval_df['color'] == 'Both_sig']\n"
   ]
  },
  {
   "cell_type": "markdown",
   "metadata": {},
   "source": [
    "# Format df for plot. Add color column and keep correlations."
   ]
  },
  {
   "cell_type": "code",
   "execution_count": null,
   "metadata": {},
   "outputs": [],
   "source": [
    "color_df = color.reset_index()\n",
    "plot_df = df.merge(color_df, on='Proteomics')\n",
    "plot_df= plot_df.rename(columns={'Gbm_Median':'Gbm','En_Median': 'Endo'})\n",
    "plot_df.head()\n",
    "len(plot_df)"
   ]
  },
  {
   "cell_type": "code",
   "execution_count": 35,
   "metadata": {},
   "outputs": [
    {
     "data": {
      "text/html": [
       "<div>\n",
       "<style scoped>\n",
       "    .dataframe tbody tr th:only-of-type {\n",
       "        vertical-align: middle;\n",
       "    }\n",
       "\n",
       "    .dataframe tbody tr th {\n",
       "        vertical-align: top;\n",
       "    }\n",
       "\n",
       "    .dataframe thead th {\n",
       "        text-align: right;\n",
       "    }\n",
       "</style>\n",
       "<table border=\"1\" class=\"dataframe\">\n",
       "  <thead>\n",
       "    <tr style=\"text-align: right;\">\n",
       "      <th></th>\n",
       "      <th>Proteomics</th>\n",
       "      <th>Gbm_P_Value</th>\n",
       "      <th>Gbm_change_in_median</th>\n",
       "      <th>En_P_Value</th>\n",
       "      <th>Endo_change_in_median</th>\n",
       "      <th>color</th>\n",
       "    </tr>\n",
       "  </thead>\n",
       "  <tbody>\n",
       "    <tr>\n",
       "      <th>143</th>\n",
       "      <td>TUBA4A</td>\n",
       "      <td>0.009726</td>\n",
       "      <td>-0.957513</td>\n",
       "      <td>0.672613</td>\n",
       "      <td>0.0217</td>\n",
       "      <td>Not_sig</td>\n",
       "    </tr>\n",
       "  </tbody>\n",
       "</table>\n",
       "</div>"
      ],
      "text/plain": [
       "    Proteomics  Gbm_P_Value  Gbm_change_in_median  En_P_Value  \\\n",
       "143     TUBA4A     0.009726             -0.957513    0.672613   \n",
       "\n",
       "     Endo_change_in_median    color  \n",
       "143                 0.0217  Not_sig  "
      ]
     },
     "execution_count": 35,
     "metadata": {},
     "output_type": "execute_result"
    }
   ],
   "source": [
    "# spot check grey dot\n",
    "ch = plot_df.loc[plot_df['Gbm_change_in_median'] < -.9]\n",
    "ch.loc[ch['Endo_change_in_median'] > 0]"
   ]
  },
  {
   "cell_type": "markdown",
   "metadata": {},
   "source": [
    "# Plot"
   ]
  },
  {
   "cell_type": "code",
   "execution_count": 25,
   "metadata": {},
   "outputs": [],
   "source": [
    "dict_in = {'Both_sig':'green', 'En_sig':'yellow', 'Gbm_sig':'blue', 'Not_sig':'grey'}"
   ]
  },
  {
   "cell_type": "code",
   "execution_count": 30,
   "metadata": {},
   "outputs": [
    {
     "data": {
      "image/png": "[encoded data removed]",
      "text/plain": [
       "<Figure size 864x864 with 1 Axes>"
      ]
     },
     "metadata": {},
     "output_type": "display_data"
    },
    {
     "data": {
      "text/plain": [
       "0"
      ]
     },
     "execution_count": 30,
     "metadata": {},
     "output_type": "execute_result"
    }
   ],
   "source": [
    "ut.binary_val_plot(plot_df,'corr','Gbm', 'Endo','Difference in Medians for Cell Cycle Proteins',\n",
    "                hue_col = 'color', color_dict = dict_in)"
   ]
  },
  {
   "cell_type": "code",
   "execution_count": null,
   "metadata": {},
   "outputs": [],
   "source": []
  }
 ],
 "metadata": {
  "kernelspec": {
   "display_name": "Python 3",
   "language": "python",
   "name": "python3"
  },
  "language_info": {
   "codemirror_mode": {
    "name": "ipython",
    "version": 3
   },
   "file_extension": ".py",
   "mimetype": "text/x-python",
   "name": "python",
   "nbconvert_exporter": "python",
   "pygments_lexer": "ipython3",
   "version": "3.7.3"
  }
 },
 "nbformat": 4,
 "nbformat_minor": 2
}
