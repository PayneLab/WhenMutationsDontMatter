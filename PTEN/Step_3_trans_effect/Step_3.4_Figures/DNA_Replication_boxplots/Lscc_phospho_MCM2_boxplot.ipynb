{
 "cells": [
  {
   "cell_type": "markdown",
   "metadata": {},
   "source": [
    "# Gbm Boxplot for PTEN trans effect on MCM2 phosphoproteomics"
   ]
  },
  {
   "cell_type": "markdown",
   "metadata": {},
   "source": [
    "This notebook creates a boxplot for the trans effect of PTEN cnv deletions for MCM2 in Gbm."
   ]
  },
  {
   "cell_type": "markdown",
   "metadata": {},
   "source": [
    "Imports"
   ]
  },
  {
   "cell_type": "code",
   "execution_count": 1,
   "metadata": {},
   "outputs": [],
   "source": [
    "import pandas as pd\n",
    "import numpy as np\n",
    "import seaborn as sns\n",
    "import matplotlib.pyplot as plt\n",
    "import scipy.stats\n",
    "import gseapy as gp\n",
    "import re\n",
    "import sys \n",
    "\n",
    "import cptac\n",
    "import cptac.utils as u\n",
    "\n",
    "import sys\n",
    "import plot_utils as ut"
   ]
  },
  {
   "cell_type": "markdown",
   "metadata": {},
   "source": [
    "Functions:\n",
    "\n",
    "format_df prepares a data frame with PTEN proteomics and PTEN mutation types from get_genotype_all_vars.\n",
    "\n",
    "format_pval_annotation is used to add marks to the boxplot. A star represents significant p-value and \"ns\" represents a nonsignificant p-value."
   ]
  },
  {
   "cell_type": "code",
   "execution_count": 2,
   "metadata": {},
   "outputs": [],
   "source": [
    "# Returns a dataframe with proteomics and mutation type\n",
    "\n",
    "def format_df(cancer_object, trans_gene, gene_in = 'PTEN', drop_level = 3):\n",
    "    mut_type = cancer_object.get_genotype_all_vars(gene_in)\n",
    "    \n",
    "    if cancer_object.get_cancer_type() not in ('luad'):\n",
    "        # Keep only tumor samples from proteomics\n",
    "        prot_and_mutations = cancer_object.join_omics_to_mutations(\n",
    "            mutations_genes = [gene_in], omics_df_name = 'phosphoproteomics', omics_genes = trans_gene)\n",
    "        prot_and_mutations = prot_and_mutations[prot_and_mutations.Sample_Status == \"Tumor\"] # drop Normal samples\n",
    "        \n",
    "        # Reduce a multiindex \n",
    "        if isinstance(prot_and_mutations.keys(), pd.core.indexes.multi.MultiIndex):\n",
    "            prot_and_mutations = cancer_object.reduce_multiindex(prot_and_mutations,\n",
    "                                                                 levels_to_drop=[drop_level], flatten=True)\n",
    "\n",
    "        # Merge Mutation column from get_genotype_all_vars (includes cnv) with proteomics\n",
    "        mut_type = mut_type[['Mutation']] \n",
    "        prot_df = prot_and_mutations.iloc[:,:-4] # Keep only proteomics\n",
    "        merged = prot_df.join(mut_type)\n",
    "        \n",
    "        # Keep only Wildtype and deletion\n",
    "        compare = ['Wildtype_Tumor','Deletion']\n",
    "        get = merged['Mutation'].isin(compare)\n",
    "        del_wt = merged[get]\n",
    "    \n",
    "    \n",
    "    # Luad has no somatic mutations for PTEN which changes some things\n",
    "    else: \n",
    "        # get_genotype_all_vars add cnv data under the column PTEN\n",
    "        mut_type = mut_type.drop(columns= gene_in)\n",
    "        # different code because no somatic mutation data for pten (can't join to somatic mutations)\n",
    "        omics = cancer_object.join_omics_to_omics(df1_name = 'CNV', df2_name='phosphoproteomics',genes1= gene_in, \n",
    "            genes2=trans_gene)\n",
    "        omics = cancer_object.reduce_multiindex(omics, levels_to_drop = 1, flatten = True)\n",
    "        omics = omics.drop(columns='PTEN_CNV__')\n",
    "        # Get only tumor samples\n",
    "        p = l.get_proteomics(tissue_type='tumor')\n",
    "        tumor_ids = list(p.index)\n",
    "        get = omics.index.isin(tumor_ids)\n",
    "        omics = omics[get]\n",
    "        # Merge Mutation column from get_genotype_all_vars (includes cnv) with proteomics\n",
    "        merged = omics.join(mut_type) \n",
    "        # Keep only No_Mutation (wildtype) and deletion\n",
    "        compare = ['No_Mutation','Deletion']\n",
    "        get = merged['Mutation'].isin(compare)\n",
    "        del_wt = merged[get]\n",
    "        del_wt['Mutation'] = np.where(\n",
    "            del_wt['Mutation'] == 'No_Mutation', 'Wildtype_Tumor', 'Deletion')\n",
    "\n",
    "    return del_wt\n"
   ]
  },
  {
   "cell_type": "code",
   "execution_count": 3,
   "metadata": {},
   "outputs": [],
   "source": [
    "def format_pval_annotation(pval_symbol, x1, x2, line_start = .05, line_height=.05):\n",
    "    # for manual adjustment to pval annotations\n",
    "    \n",
    "    y, h = line_start, line_height\n",
    "    plt.plot([x1, x1, x2, x2], #draw horizontal line\n",
    "             [y, y+h, y+h, y], #vertical line\n",
    "             lw=1.5, color= '.3')\n",
    "    plt.text((x1+x2)*.5, # half between x coord\n",
    "             y+h, pval_symbol, horizontalalignment='center', verticalalignment='bottom', color = \"black\")\n"
   ]
  },
  {
   "cell_type": "markdown",
   "metadata": {},
   "source": [
    "# Step 1: Create data frames with PTEN cnv deletion and Proteomics"
   ]
  },
  {
   "cell_type": "markdown",
   "metadata": {},
   "source": [
    "Each cancer needs a data frame containing only samples that have PTEN cnv deletions or PTEN wildtype tumors and PTEN proteomics."
   ]
  },
  {
   "cell_type": "markdown",
   "metadata": {},
   "source": [
    "First, load in cancer data sets from cptac. Note: Keep the variable names the same because they are used in format_df to reduce multiindexs found in certain cancer data sets. "
   ]
  },
  {
   "cell_type": "code",
   "execution_count": 5,
   "metadata": {},
   "outputs": [
    {
     "name": "stdout",
     "output_type": "stream",
     "text": [
      "                                         \r"
     ]
    },
    {
     "name": "stderr",
     "output_type": "stream",
     "text": [
      "cptac warning: The LSCC data is currently strictly reserved for CPTAC investigators. Otherwise, you are not authorized to access these data. Additionally, even after these data become publicly available, they will be subject to a publication embargo (see https://proteomics.cancer.gov/data-portal/about/data-use-agreement or enter cptac.embargo() to open the webpage for more details). (C:\\Users\\brittany henderson\\Anaconda3\\envs\\Research\\lib\\site-packages\\ipykernel_launcher.py, line 1)\n"
     ]
    }
   ],
   "source": [
    "ls = cptac.Lscc()"
   ]
  },
  {
   "cell_type": "markdown",
   "metadata": {},
   "source": [
    "Next, use format_df to create the specific data frame for each cancer. Use wrap_ttest to test PTEN deletion vs. wildtype. "
   ]
  },
  {
   "cell_type": "markdown",
   "metadata": {},
   "source": [
    "# Lscc"
   ]
  },
  {
   "cell_type": "code",
   "execution_count": 6,
   "metadata": {},
   "outputs": [
    {
     "name": "stderr",
     "output_type": "stream",
     "text": [
      "cptac warning: In joining the somatic_mutation table, no mutations were found for the following samples, so they were filled with Wildtype_Tumor or Wildtype_Normal: 99 samples for the PTEN gene (C:\\Users\\brittany henderson\\Anaconda3\\envs\\Research\\lib\\site-packages\\cptac\\dataset.py, line 394)\n",
      "cptac warning: In joining the somatic_mutation table, no mutations were found for the following samples, so they were filled with Wildtype_Tumor or Wildtype_Normal: 201 samples for the PTEN gene (C:\\Users\\brittany henderson\\Anaconda3\\envs\\Research\\lib\\site-packages\\ipykernel_launcher.py, line 9)\n"
     ]
    },
    {
     "data": {
      "text/html": [
       "<div>\n",
       "<style scoped>\n",
       "    .dataframe tbody tr th:only-of-type {\n",
       "        vertical-align: middle;\n",
       "    }\n",
       "\n",
       "    .dataframe tbody tr th {\n",
       "        vertical-align: top;\n",
       "    }\n",
       "\n",
       "    .dataframe thead th {\n",
       "        text-align: right;\n",
       "    }\n",
       "</style>\n",
       "<table border=\"1\" class=\"dataframe\">\n",
       "  <thead>\n",
       "    <tr style=\"text-align: right;\">\n",
       "      <th>Name</th>\n",
       "      <th>MCM2_phosphoproteomics_S108_AIPELDAYEAEGLALDDEDVEELTAsQR</th>\n",
       "      <th>MCM2_phosphoproteomics_S139_GLLYDsDEEDEERPAR</th>\n",
       "      <th>MCM2_phosphoproteomics_S170_ATEDGEEDEEMIEsIENLEDLK</th>\n",
       "      <th>MCM2_phosphoproteomics_S26S27_RGNDPLTssPGR</th>\n",
       "      <th>MCM2_phosphoproteomics_S27_GNDPLTSsPGR</th>\n",
       "      <th>MCM2_phosphoproteomics_S381_IQEsPGK</th>\n",
       "      <th>MCM2_phosphoproteomics_S40S41_TDALTssPGR</th>\n",
       "      <th>MCM2_phosphoproteomics_S41M77_RTDALTSsPGRDLPPFEDESEGLLGTEGPLEEEEDGEELIGDGmER</th>\n",
       "      <th>MCM2_phosphoproteomics_T158_QVERAtEDGEEDEEMIESIENLEDLK</th>\n",
       "      <th>MCM2_phosphoproteomics_T25_RRGNDPLtSSPGR</th>\n",
       "      <th>Mutation</th>\n",
       "    </tr>\n",
       "    <tr>\n",
       "      <th>Patient_ID</th>\n",
       "      <th></th>\n",
       "      <th></th>\n",
       "      <th></th>\n",
       "      <th></th>\n",
       "      <th></th>\n",
       "      <th></th>\n",
       "      <th></th>\n",
       "      <th></th>\n",
       "      <th></th>\n",
       "      <th></th>\n",
       "      <th></th>\n",
       "    </tr>\n",
       "  </thead>\n",
       "  <tbody>\n",
       "    <tr>\n",
       "      <th>C3L-00081</th>\n",
       "      <td>NaN</td>\n",
       "      <td>1.0437</td>\n",
       "      <td>NaN</td>\n",
       "      <td>-0.0374</td>\n",
       "      <td>0.5615</td>\n",
       "      <td>NaN</td>\n",
       "      <td>0.3830</td>\n",
       "      <td>0.3563</td>\n",
       "      <td>NaN</td>\n",
       "      <td>1.9446</td>\n",
       "      <td>Deletion</td>\n",
       "    </tr>\n",
       "    <tr>\n",
       "      <th>C3L-00415</th>\n",
       "      <td>1.4818</td>\n",
       "      <td>0.7056</td>\n",
       "      <td>1.1065</td>\n",
       "      <td>NaN</td>\n",
       "      <td>NaN</td>\n",
       "      <td>-1.2280</td>\n",
       "      <td>0.9578</td>\n",
       "      <td>0.7101</td>\n",
       "      <td>-0.3497</td>\n",
       "      <td>0.3243</td>\n",
       "      <td>Wildtype_Tumor</td>\n",
       "    </tr>\n",
       "    <tr>\n",
       "      <th>C3L-00445</th>\n",
       "      <td>0.0843</td>\n",
       "      <td>0.5319</td>\n",
       "      <td>-0.0160</td>\n",
       "      <td>0.5257</td>\n",
       "      <td>1.3807</td>\n",
       "      <td>1.1300</td>\n",
       "      <td>0.6222</td>\n",
       "      <td>1.7907</td>\n",
       "      <td>NaN</td>\n",
       "      <td>0.3802</td>\n",
       "      <td>Deletion</td>\n",
       "    </tr>\n",
       "    <tr>\n",
       "      <th>C3L-00568</th>\n",
       "      <td>-0.1885</td>\n",
       "      <td>0.6663</td>\n",
       "      <td>0.4402</td>\n",
       "      <td>NaN</td>\n",
       "      <td>NaN</td>\n",
       "      <td>1.1167</td>\n",
       "      <td>-0.1636</td>\n",
       "      <td>1.4081</td>\n",
       "      <td>1.3506</td>\n",
       "      <td>0.8407</td>\n",
       "      <td>Wildtype_Tumor</td>\n",
       "    </tr>\n",
       "    <tr>\n",
       "      <th>C3L-00603</th>\n",
       "      <td>0.0742</td>\n",
       "      <td>1.4027</td>\n",
       "      <td>2.1734</td>\n",
       "      <td>2.3722</td>\n",
       "      <td>1.4256</td>\n",
       "      <td>1.1982</td>\n",
       "      <td>1.1453</td>\n",
       "      <td>0.7978</td>\n",
       "      <td>NaN</td>\n",
       "      <td>0.8536</td>\n",
       "      <td>Wildtype_Tumor</td>\n",
       "    </tr>\n",
       "  </tbody>\n",
       "</table>\n",
       "</div>"
      ],
      "text/plain": [
       "Name        MCM2_phosphoproteomics_S108_AIPELDAYEAEGLALDDEDVEELTAsQR  \\\n",
       "Patient_ID                                                             \n",
       "C3L-00081                                                 NaN          \n",
       "C3L-00415                                              1.4818          \n",
       "C3L-00445                                              0.0843          \n",
       "C3L-00568                                             -0.1885          \n",
       "C3L-00603                                              0.0742          \n",
       "\n",
       "Name        MCM2_phosphoproteomics_S139_GLLYDsDEEDEERPAR  \\\n",
       "Patient_ID                                                 \n",
       "C3L-00081                                         1.0437   \n",
       "C3L-00415                                         0.7056   \n",
       "C3L-00445                                         0.5319   \n",
       "C3L-00568                                         0.6663   \n",
       "C3L-00603                                         1.4027   \n",
       "\n",
       "Name        MCM2_phosphoproteomics_S170_ATEDGEEDEEMIEsIENLEDLK  \\\n",
       "Patient_ID                                                       \n",
       "C3L-00081                                                 NaN    \n",
       "C3L-00415                                              1.1065    \n",
       "C3L-00445                                             -0.0160    \n",
       "C3L-00568                                              0.4402    \n",
       "C3L-00603                                              2.1734    \n",
       "\n",
       "Name        MCM2_phosphoproteomics_S26S27_RGNDPLTssPGR  \\\n",
       "Patient_ID                                               \n",
       "C3L-00081                                      -0.0374   \n",
       "C3L-00415                                          NaN   \n",
       "C3L-00445                                       0.5257   \n",
       "C3L-00568                                          NaN   \n",
       "C3L-00603                                       2.3722   \n",
       "\n",
       "Name        MCM2_phosphoproteomics_S27_GNDPLTSsPGR  \\\n",
       "Patient_ID                                           \n",
       "C3L-00081                                   0.5615   \n",
       "C3L-00415                                      NaN   \n",
       "C3L-00445                                   1.3807   \n",
       "C3L-00568                                      NaN   \n",
       "C3L-00603                                   1.4256   \n",
       "\n",
       "Name        MCM2_phosphoproteomics_S381_IQEsPGK  \\\n",
       "Patient_ID                                        \n",
       "C3L-00081                                   NaN   \n",
       "C3L-00415                               -1.2280   \n",
       "C3L-00445                                1.1300   \n",
       "C3L-00568                                1.1167   \n",
       "C3L-00603                                1.1982   \n",
       "\n",
       "Name        MCM2_phosphoproteomics_S40S41_TDALTssPGR  \\\n",
       "Patient_ID                                             \n",
       "C3L-00081                                     0.3830   \n",
       "C3L-00415                                     0.9578   \n",
       "C3L-00445                                     0.6222   \n",
       "C3L-00568                                    -0.1636   \n",
       "C3L-00603                                     1.1453   \n",
       "\n",
       "Name        MCM2_phosphoproteomics_S41M77_RTDALTSsPGRDLPPFEDESEGLLGTEGPLEEEEDGEELIGDGmER  \\\n",
       "Patient_ID                                                                                 \n",
       "C3L-00081                                              0.3563                              \n",
       "C3L-00415                                              0.7101                              \n",
       "C3L-00445                                              1.7907                              \n",
       "C3L-00568                                              1.4081                              \n",
       "C3L-00603                                              0.7978                              \n",
       "\n",
       "Name        MCM2_phosphoproteomics_T158_QVERAtEDGEEDEEMIESIENLEDLK  \\\n",
       "Patient_ID                                                           \n",
       "C3L-00081                                                 NaN        \n",
       "C3L-00415                                             -0.3497        \n",
       "C3L-00445                                                 NaN        \n",
       "C3L-00568                                              1.3506        \n",
       "C3L-00603                                                 NaN        \n",
       "\n",
       "Name        MCM2_phosphoproteomics_T25_RRGNDPLtSSPGR        Mutation  \n",
       "Patient_ID                                                            \n",
       "C3L-00081                                     1.9446        Deletion  \n",
       "C3L-00415                                     0.3243  Wildtype_Tumor  \n",
       "C3L-00445                                     0.3802        Deletion  \n",
       "C3L-00568                                     0.8407  Wildtype_Tumor  \n",
       "C3L-00603                                     0.8536  Wildtype_Tumor  "
      ]
     },
     "execution_count": 6,
     "metadata": {},
     "output_type": "execute_result"
    }
   ],
   "source": [
    "gene = 'PTEN'\n",
    "t_gene = 'MCM2'\n",
    "ls_del_wt = format_df(ls, t_gene)\n",
    "ls_del_wt.head()"
   ]
  },
  {
   "cell_type": "code",
   "execution_count": 7,
   "metadata": {
    "scrolled": true
   },
   "outputs": [
    {
     "data": {
      "text/html": [
       "<div>\n",
       "<style scoped>\n",
       "    .dataframe tbody tr th:only-of-type {\n",
       "        vertical-align: middle;\n",
       "    }\n",
       "\n",
       "    .dataframe tbody tr th {\n",
       "        vertical-align: top;\n",
       "    }\n",
       "\n",
       "    .dataframe thead th {\n",
       "        text-align: right;\n",
       "    }\n",
       "</style>\n",
       "<table border=\"1\" class=\"dataframe\">\n",
       "  <thead>\n",
       "    <tr style=\"text-align: right;\">\n",
       "      <th></th>\n",
       "      <th>Comparison</th>\n",
       "      <th>P_Value</th>\n",
       "    </tr>\n",
       "  </thead>\n",
       "  <tbody>\n",
       "    <tr>\n",
       "      <th>0</th>\n",
       "      <td>MCM2_phosphoproteomics_T25_RRGNDPLtSSPGR</td>\n",
       "      <td>0.000268</td>\n",
       "    </tr>\n",
       "    <tr>\n",
       "      <th>1</th>\n",
       "      <td>MCM2_phosphoproteomics_S41M77_RTDALTSsPGRDLPPF...</td>\n",
       "      <td>0.000956</td>\n",
       "    </tr>\n",
       "    <tr>\n",
       "      <th>2</th>\n",
       "      <td>MCM2_phosphoproteomics_S139_GLLYDsDEEDEERPAR</td>\n",
       "      <td>0.001413</td>\n",
       "    </tr>\n",
       "  </tbody>\n",
       "</table>\n",
       "</div>"
      ],
      "text/plain": [
       "                                          Comparison   P_Value\n",
       "0           MCM2_phosphoproteomics_T25_RRGNDPLtSSPGR  0.000268\n",
       "1  MCM2_phosphoproteomics_S41M77_RTDALTSsPGRDLPPF...  0.000956\n",
       "2       MCM2_phosphoproteomics_S139_GLLYDsDEEDEERPAR  0.001413"
      ]
     },
     "execution_count": 7,
     "metadata": {},
     "output_type": "execute_result"
    }
   ],
   "source": [
    "cols = list(ls_del_wt.columns[:-1])\n",
    "\n",
    "ls_pval = u.wrap_ttest(ls_del_wt, 'Mutation', cols)#, return_all = True)\n",
    "lsp = ls_pval['P_Value']\n",
    "ls_pval"
   ]
  },
  {
   "cell_type": "code",
   "execution_count": 23,
   "metadata": {},
   "outputs": [
    {
     "data": {
      "text/html": [
       "<div>\n",
       "<style scoped>\n",
       "    .dataframe tbody tr th:only-of-type {\n",
       "        vertical-align: middle;\n",
       "    }\n",
       "\n",
       "    .dataframe tbody tr th {\n",
       "        vertical-align: top;\n",
       "    }\n",
       "\n",
       "    .dataframe thead th {\n",
       "        text-align: right;\n",
       "    }\n",
       "</style>\n",
       "<table border=\"1\" class=\"dataframe\">\n",
       "  <thead>\n",
       "    <tr style=\"text-align: right;\">\n",
       "      <th>Name</th>\n",
       "      <th>MCM2_S139</th>\n",
       "      <th>Mutation</th>\n",
       "      <th>Site</th>\n",
       "    </tr>\n",
       "    <tr>\n",
       "      <th>Patient_ID</th>\n",
       "      <th></th>\n",
       "      <th></th>\n",
       "      <th></th>\n",
       "    </tr>\n",
       "  </thead>\n",
       "  <tbody>\n",
       "    <tr>\n",
       "      <th>C3L-00081</th>\n",
       "      <td>1.0437</td>\n",
       "      <td>Deletion</td>\n",
       "      <td>MCM2_S139</td>\n",
       "    </tr>\n",
       "    <tr>\n",
       "      <th>C3L-00415</th>\n",
       "      <td>0.7056</td>\n",
       "      <td>Wildtype_Tumor</td>\n",
       "      <td>MCM2_S139</td>\n",
       "    </tr>\n",
       "    <tr>\n",
       "      <th>C3L-00445</th>\n",
       "      <td>0.5319</td>\n",
       "      <td>Deletion</td>\n",
       "      <td>MCM2_S139</td>\n",
       "    </tr>\n",
       "    <tr>\n",
       "      <th>C3L-00568</th>\n",
       "      <td>0.6663</td>\n",
       "      <td>Wildtype_Tumor</td>\n",
       "      <td>MCM2_S139</td>\n",
       "    </tr>\n",
       "    <tr>\n",
       "      <th>C3L-00603</th>\n",
       "      <td>1.4027</td>\n",
       "      <td>Wildtype_Tumor</td>\n",
       "      <td>MCM2_S139</td>\n",
       "    </tr>\n",
       "    <tr>\n",
       "      <th>...</th>\n",
       "      <td>...</td>\n",
       "      <td>...</td>\n",
       "      <td>...</td>\n",
       "    </tr>\n",
       "    <tr>\n",
       "      <th>C3N-03886</th>\n",
       "      <td>2.6035</td>\n",
       "      <td>Deletion</td>\n",
       "      <td>MCM2_S139</td>\n",
       "    </tr>\n",
       "    <tr>\n",
       "      <th>C3N-04124</th>\n",
       "      <td>-0.4429</td>\n",
       "      <td>Wildtype_Tumor</td>\n",
       "      <td>MCM2_S139</td>\n",
       "    </tr>\n",
       "    <tr>\n",
       "      <th>C3N-04127</th>\n",
       "      <td>-0.6074</td>\n",
       "      <td>Wildtype_Tumor</td>\n",
       "      <td>MCM2_S139</td>\n",
       "    </tr>\n",
       "    <tr>\n",
       "      <th>C3N-04155</th>\n",
       "      <td>1.8117</td>\n",
       "      <td>Deletion</td>\n",
       "      <td>MCM2_S139</td>\n",
       "    </tr>\n",
       "    <tr>\n",
       "      <th>C3N-04162</th>\n",
       "      <td>0.8798</td>\n",
       "      <td>Wildtype_Tumor</td>\n",
       "      <td>MCM2_S139</td>\n",
       "    </tr>\n",
       "  </tbody>\n",
       "</table>\n",
       "<p>101 rows × 3 columns</p>\n",
       "</div>"
      ],
      "text/plain": [
       "Name        MCM2_S139        Mutation       Site\n",
       "Patient_ID                                      \n",
       "C3L-00081      1.0437        Deletion  MCM2_S139\n",
       "C3L-00415      0.7056  Wildtype_Tumor  MCM2_S139\n",
       "C3L-00445      0.5319        Deletion  MCM2_S139\n",
       "C3L-00568      0.6663  Wildtype_Tumor  MCM2_S139\n",
       "C3L-00603      1.4027  Wildtype_Tumor  MCM2_S139\n",
       "...               ...             ...        ...\n",
       "C3N-03886      2.6035        Deletion  MCM2_S139\n",
       "C3N-04124     -0.4429  Wildtype_Tumor  MCM2_S139\n",
       "C3N-04127     -0.6074  Wildtype_Tumor  MCM2_S139\n",
       "C3N-04155      1.8117        Deletion  MCM2_S139\n",
       "C3N-04162      0.8798  Wildtype_Tumor  MCM2_S139\n",
       "\n",
       "[101 rows x 3 columns]"
      ]
     },
     "execution_count": 23,
     "metadata": {},
     "output_type": "execute_result"
    }
   ],
   "source": [
    "ls_sig = list(ls_pval.Comparison)\n",
    "ls_df = ls_del_wt.columns.isin(ls_sig)\n",
    "ls_sig_df = ls_del_wt[ls_del_wt.columns[ls_df]]\n",
    "\n",
    "ls_sig_df = ls_sig_df.rename(columns=lambda x: re.sub('_phosphoproteomics','', x))\n",
    "ls_sig_df = ls_sig_df.rename(columns=lambda x: re.sub('_[st]?[A-Z]+[st]+[A-Z]*[st]*[A-Z]*$', '', x))\n",
    "\n",
    "s139 = ls_sig_df[['MCM2_S139']]\n",
    "\n",
    "ls_mut = ls_del_wt[['Mutation']]\n",
    "sig_site_df = s139.join(ls_mut)\n",
    "sig_site_df['Site'] = 'MCM2_S139'\n",
    "sig_site_df"
   ]
  },
  {
   "cell_type": "markdown",
   "metadata": {},
   "source": [
    "# Create the Boxplot"
   ]
  },
  {
   "cell_type": "code",
   "execution_count": 31,
   "metadata": {},
   "outputs": [
    {
     "data": {
      "image/png": "[encoded data removed]",
      "text/plain": [
       "<Figure size 842.4x612 with 1 Axes>"
      ]
     },
     "metadata": {},
     "output_type": "display_data"
    }
   ],
   "source": [
    "gene = 'PTEN'\n",
    "plt.rcParams['figure.figsize']=(11.7,8.5) #size of plot\n",
    "sns.set(font_scale = 1.2)\n",
    "\n",
    "boxplot = sns.boxplot(x='Site', y='MCM2_S139', data = sig_site_df,hue = 'Mutation',\n",
    "                      hue_order = [\"Wildtype_Tumor\", \"Deletion\"],\n",
    "                      showfliers = False)    \n",
    "boxplot.set_title('Significant trans effect of PTEN CNV Deletions on '+t_gene+' in Lscc')\n",
    "boxplot = sns.stripplot(x='Site', y='MCM2_S139', data = sig_site_df, jitter = True, \n",
    "                           color = \".3\",dodge = True, hue = 'Mutation',\n",
    "                        hue_order = [\"Wildtype_Tumor\", \"Deletion\"])\n",
    "boxplot.set(xlabel = \"\\n\"+gene+\" Wildtype/CNV Deletion\", ylabel = t_gene+' S139 Phosphorylation')\n",
    "\n",
    "#boxplot.set_xticklabels(boxplot.get_xticklabels(), rotation=45)\n",
    "\n",
    "\n",
    "# format legend\n",
    "handles, labels = boxplot.get_legend_handles_labels()\n",
    "plt.legend(handles[0:2], labels[0:2])\n",
    "\n",
    "\n",
    "# Create significance symbols:\n",
    "# * P ≤ 0.05   ** P ≤ 0.01   *** P ≤ 0.001 \n",
    "\n",
    "format_pval_annotation(\"**\", -.2, .2, 4.3) \n",
    "\n",
    "\n",
    "\n",
    "plt.show()\n",
    "plt.clf()\n",
    "plt.close()"
   ]
  },
  {
   "cell_type": "code",
   "execution_count": 143,
   "metadata": {},
   "outputs": [
    {
     "data": {
      "text/html": [
       "<div>\n",
       "<style scoped>\n",
       "    .dataframe tbody tr th:only-of-type {\n",
       "        vertical-align: middle;\n",
       "    }\n",
       "\n",
       "    .dataframe tbody tr th {\n",
       "        vertical-align: top;\n",
       "    }\n",
       "\n",
       "    .dataframe thead th {\n",
       "        text-align: right;\n",
       "    }\n",
       "</style>\n",
       "<table border=\"1\" class=\"dataframe\">\n",
       "  <thead>\n",
       "    <tr style=\"text-align: right;\">\n",
       "      <th></th>\n",
       "      <th>Comparison</th>\n",
       "      <th>P_Value</th>\n",
       "    </tr>\n",
       "  </thead>\n",
       "  <tbody>\n",
       "    <tr>\n",
       "      <th>0</th>\n",
       "      <td>MCM2_phosphoproteomics_T25_RRGNDPLtSSPGR</td>\n",
       "      <td>0.000268</td>\n",
       "    </tr>\n",
       "    <tr>\n",
       "      <th>1</th>\n",
       "      <td>MCM2_phosphoproteomics_S41M77_RTDALTSsPGRDLPPF...</td>\n",
       "      <td>0.000956</td>\n",
       "    </tr>\n",
       "    <tr>\n",
       "      <th>2</th>\n",
       "      <td>MCM2_phosphoproteomics_S139_GLLYDsDEEDEERPAR</td>\n",
       "      <td>0.001413</td>\n",
       "    </tr>\n",
       "  </tbody>\n",
       "</table>\n",
       "</div>"
      ],
      "text/plain": [
       "                                          Comparison   P_Value\n",
       "0           MCM2_phosphoproteomics_T25_RRGNDPLtSSPGR  0.000268\n",
       "1  MCM2_phosphoproteomics_S41M77_RTDALTSsPGRDLPPF...  0.000956\n",
       "2       MCM2_phosphoproteomics_S139_GLLYDsDEEDEERPAR  0.001413"
      ]
     },
     "execution_count": 143,
     "metadata": {},
     "output_type": "execute_result"
    }
   ],
   "source": [
    "ls_pval"
   ]
  },
  {
   "cell_type": "code",
   "execution_count": 144,
   "metadata": {},
   "outputs": [
    {
     "data": {
      "text/html": [
       "<div>\n",
       "<style scoped>\n",
       "    .dataframe tbody tr th:only-of-type {\n",
       "        vertical-align: middle;\n",
       "    }\n",
       "\n",
       "    .dataframe tbody tr th {\n",
       "        vertical-align: top;\n",
       "    }\n",
       "\n",
       "    .dataframe thead th {\n",
       "        text-align: right;\n",
       "    }\n",
       "</style>\n",
       "<table border=\"1\" class=\"dataframe\">\n",
       "  <thead>\n",
       "    <tr style=\"text-align: right;\">\n",
       "      <th></th>\n",
       "      <th>Comparison</th>\n",
       "      <th>P_Value</th>\n",
       "    </tr>\n",
       "  </thead>\n",
       "  <tbody>\n",
       "    <tr>\n",
       "      <th>0</th>\n",
       "      <td>MCM2_phosphoproteomics_S139_GLLYDS*DEEDEERPARK</td>\n",
       "      <td>0.000192</td>\n",
       "    </tr>\n",
       "    <tr>\n",
       "      <th>1</th>\n",
       "      <td>MCM2_phosphoproteomics_S139_RGLLYDS*DEEDEERPAR</td>\n",
       "      <td>0.001449</td>\n",
       "    </tr>\n",
       "  </tbody>\n",
       "</table>\n",
       "</div>"
      ],
      "text/plain": [
       "                                       Comparison   P_Value\n",
       "0  MCM2_phosphoproteomics_S139_GLLYDS*DEEDEERPARK  0.000192\n",
       "1  MCM2_phosphoproteomics_S139_RGLLYDS*DEEDEERPAR  0.001449"
      ]
     },
     "execution_count": 144,
     "metadata": {},
     "output_type": "execute_result"
    }
   ],
   "source": [
    "g_pval"
   ]
  },
  {
   "cell_type": "code",
   "execution_count": null,
   "metadata": {},
   "outputs": [],
   "source": [
    "# Save figure\n",
    "#fig = boxplot.get_figure()\n",
    "#fig.savefig(\".png\")"
   ]
  },
  {
   "cell_type": "code",
   "execution_count": null,
   "metadata": {},
   "outputs": [],
   "source": []
  }
 ],
 "metadata": {
  "kernelspec": {
   "display_name": "Python 3",
   "language": "python",
   "name": "python3"
  },
  "language_info": {
   "codemirror_mode": {
    "name": "ipython",
    "version": 3
   },
   "file_extension": ".py",
   "mimetype": "text/x-python",
   "name": "python",
   "nbconvert_exporter": "python",
   "pygments_lexer": "ipython3",
   "version": "3.7.3"
  }
 },
 "nbformat": 4,
 "nbformat_minor": 2
}
