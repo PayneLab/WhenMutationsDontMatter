{
 "cells": [
  {
   "cell_type": "markdown",
   "metadata": {},
   "source": [
    "# Pancancer Boxplot for PTEN trans effect on CCND3 (cyclin D3)"
   ]
  },
  {
   "cell_type": "markdown",
   "metadata": {},
   "source": [
    "This notebook creates a boxplot for the trans effect of PTEN cnv deletions in 8 cancers. These 8 cancers were chosen because they have enough samples with PTEN cnv deletions to do a t-test. Only Ccrcc does not have enough samples with deletions. "
   ]
  },
  {
   "cell_type": "markdown",
   "metadata": {},
   "source": [
    "Imports"
   ]
  },
  {
   "cell_type": "code",
   "execution_count": 1,
   "metadata": {},
   "outputs": [],
   "source": [
    "import pandas as pd\n",
    "import numpy as np\n",
    "import seaborn as sns\n",
    "import matplotlib.pyplot as plt\n",
    "import scipy.stats\n",
    "import gseapy as gp\n",
    "import re\n",
    "import sys \n",
    "\n",
    "import cptac\n",
    "import cptac.utils as u\n",
    "\n",
    "import sys\n",
    "import plot_utils as p"
   ]
  },
  {
   "cell_type": "markdown",
   "metadata": {},
   "source": [
    "Functions:\n",
    "\n",
    "format_df prepares a data frame with PTEN proteomics and PTEN mutation types from get_genotype_all_vars.\n",
    "\n",
    "format_pval_annotation is used to add marks to the boxplot. A star represents significant p-value and \"ns\" represents a nonsignificant p-value."
   ]
  },
  {
   "cell_type": "code",
   "execution_count": 2,
   "metadata": {},
   "outputs": [],
   "source": [
    "# Returns a dataframe with proteomics and mutation type\n",
    "\n",
    "def format_df(cancer_object, trans_gene, gene_in = 'PTEN'):\n",
    "    mut_type = cancer_object.get_genotype_all_vars(gene_in)\n",
    "    \n",
    "    if cancer_object is not l:\n",
    "        # Keep only tumor samples from proteomics\n",
    "        prot_and_mutations = cancer_object.join_omics_to_mutations(\n",
    "            mutations_genes = [gene_in], omics_df_name = 'proteomics', omics_genes = trans_gene)\n",
    "        prot_and_mutations = prot_and_mutations[prot_and_mutations.Sample_Status == \"Tumor\"] # drop Normal samples\n",
    "        \n",
    "        # Reduce a multiindex \n",
    "        if isinstance(prot_and_mutations.keys(), pd.core.indexes.multi.MultiIndex):\n",
    "            prot_and_mutations = cancer_object.reduce_multiindex(prot_and_mutations, levels_to_drop = 1)\n",
    "\n",
    "        # Merge Mutation column from get_genotype_all_vars (includes cnv) with proteomics\n",
    "        mut_type = mut_type[['Mutation']] \n",
    "        prot_df = prot_and_mutations.iloc[:,:-4] # Keep only proteomics\n",
    "        merged = prot_df.join(mut_type)\n",
    "        \n",
    "        # Keep only Wildtype and deletion\n",
    "        compare = ['Wildtype_Tumor','Deletion']\n",
    "        get = merged['Mutation'].isin(compare)\n",
    "        del_wt = merged[get]\n",
    "    \n",
    "    \n",
    "    # Luad has no somatic mutations for PTEN which changes some things\n",
    "    else: \n",
    "        # get_genotype_all_vars add cnv data under the column PTEN\n",
    "        mut_type = mut_type.drop(columns= gene_in)\n",
    "        # different code because no somatic mutation data for pten (can't join to somatic mutations)\n",
    "        omics = l.join_omics_to_omics(df1_name = 'CNV', df2_name='proteomics',genes1= gene_in, \n",
    "            genes2=trans_gene)\n",
    "        omics = l.reduce_multiindex(omics, levels_to_drop = 1, flatten = True)\n",
    "        omics = omics.drop(columns='PTEN_CNV')\n",
    "        # Get only tumor samples\n",
    "        p = l.get_proteomics(tissue_type='tumor')\n",
    "        tumor_ids = list(p.index)\n",
    "        get = omics.index.isin(tumor_ids)\n",
    "        omics = omics[get]\n",
    "        # Merge Mutation column from get_genotype_all_vars (includes cnv) with proteomics\n",
    "        merged = omics.join(mut_type) \n",
    "        # Keep only No_Mutation (wildtype) and deletion\n",
    "        compare = ['No_Mutation','Deletion']\n",
    "        get = merged['Mutation'].isin(compare)\n",
    "        del_wt = merged[get]\n",
    "        del_wt['Mutation'] = np.where(\n",
    "            del_wt['Mutation'] == 'No_Mutation', 'Wildtype_Tumor', 'Deletion')\n",
    "\n",
    "    return del_wt\n"
   ]
  },
  {
   "cell_type": "code",
   "execution_count": 3,
   "metadata": {},
   "outputs": [],
   "source": [
    "def format_pval_annotation(pval_symbol, x1, x2, line_start = .05, line_height=.05):\n",
    "    # for manual adjustment to pval annotations\n",
    "    \n",
    "    y, h = line_start, line_height\n",
    "    plt.plot([x1, x1, x2, x2], #draw horizontal line\n",
    "             [y, y+h, y+h, y], #vertical line\n",
    "             lw=1.5, color= '.3')\n",
    "    plt.text((x1+x2)*.5, # half between x coord\n",
    "             y+h, pval_symbol, horizontalalignment='center', verticalalignment='bottom', color = \"black\")\n"
   ]
  },
  {
   "cell_type": "markdown",
   "metadata": {},
   "source": [
    "# Step 1: Create data frames with PTEN cnv deletion and Proteomics"
   ]
  },
  {
   "cell_type": "markdown",
   "metadata": {},
   "source": [
    "Each cancer needs a data frame containing only samples that have PTEN cnv deletions or PTEN wildtype tumors and PTEN proteomics."
   ]
  },
  {
   "cell_type": "markdown",
   "metadata": {},
   "source": [
    "First, load in cancer data sets from cptac. Note: Keep the variable names the same because they are used in format_df to reduce multiindexs found in certain cancer data sets. "
   ]
  },
  {
   "cell_type": "code",
   "execution_count": 4,
   "metadata": {},
   "outputs": [
    {
     "name": "stdout",
     "output_type": "stream",
     "text": [
      "Checking that luad index is up-to-date...       \r"
     ]
    },
    {
     "name": "stderr",
     "output_type": "stream",
     "text": [
      "cptac warning: The HNSCC data is currently strictly reserved for CPTAC investigators. Otherwise, you are not authorized to access these data. Additionally, even after these data become publicly available, they will be subject to a publication embargo (see https://proteomics.cancer.gov/data-portal/about/data-use-agreement or enter cptac.embargo() to open the webpage for more details). (C:\\Users\\brittany henderson\\Anaconda3\\envs\\Research\\lib\\site-packages\\ipykernel_launcher.py, line 2)\n"
     ]
    },
    {
     "name": "stdout",
     "output_type": "stream",
     "text": [
      "Checking that lscc index is up-to-date...\r"
     ]
    },
    {
     "name": "stderr",
     "output_type": "stream",
     "text": [
      "cptac warning: The LUAD dataset is under publication embargo until July 01, 2020. CPTAC is a community resource project and data are made available rapidly after generation for community research use. The embargo allows exploring and utilizing the data, but analysis may not be published until after the embargo date. Please see https://proteomics.cancer.gov/data-portal/about/data-use-agreement or enter cptac.embargo() to open the webpage for more details. (C:\\Users\\brittany henderson\\Anaconda3\\envs\\Research\\lib\\site-packages\\ipykernel_launcher.py, line 3)\n"
     ]
    },
    {
     "name": "stdout",
     "output_type": "stream",
     "text": [
      "Checking that ovarian index is up-to-date...\r"
     ]
    },
    {
     "name": "stderr",
     "output_type": "stream",
     "text": [
      "cptac warning: The LSCC data is currently strictly reserved for CPTAC investigators. Otherwise, you are not authorized to access these data. Additionally, even after these data become publicly available, they will be subject to a publication embargo (see https://proteomics.cancer.gov/data-portal/about/data-use-agreement or enter cptac.embargo() to open the webpage for more details). (C:\\Users\\brittany henderson\\Anaconda3\\envs\\Research\\lib\\site-packages\\ipykernel_launcher.py, line 4)\n"
     ]
    },
    {
     "name": "stdout",
     "output_type": "stream",
     "text": [
      "Checking that brca index is up-to-date...   \r"
     ]
    },
    {
     "name": "stderr",
     "output_type": "stream",
     "text": [
      "cptac warning: The GBM dataset is under publication embargo until March 01, 2021. CPTAC is a community resource project and data are made available rapidly after generation for community research use. The embargo allows exploring and utilizing the data, but analysis may not be published until after the embargo date. Please see https://proteomics.cancer.gov/data-portal/about/data-use-agreement or enter cptac.embargo() to open the webpage for more details. (C:\\Users\\brittany henderson\\Anaconda3\\envs\\Research\\lib\\site-packages\\ipykernel_launcher.py, line 8)\n"
     ]
    },
    {
     "name": "stdout",
     "output_type": "stream",
     "text": [
      "                                         \r"
     ]
    }
   ],
   "source": [
    "en = cptac.Endometrial()\n",
    "h = cptac.Hnscc()\n",
    "l = cptac.Luad()\n",
    "ls = cptac.Lscc()\n",
    "o = cptac.Ovarian()\n",
    "c = cptac.Ccrcc()\n",
    "col = cptac.Colon()\n",
    "g = cptac.Gbm()\n",
    "b = cptac.Brca()"
   ]
  },
  {
   "cell_type": "markdown",
   "metadata": {},
   "source": [
    "Next, use format_df to create the specific data frame for each cancer. Use wrap_ttest to test PTEN deletion vs. wildtype. "
   ]
  },
  {
   "cell_type": "markdown",
   "metadata": {},
   "source": [
    "# Gbm"
   ]
  },
  {
   "cell_type": "code",
   "execution_count": 42,
   "metadata": {},
   "outputs": [
    {
     "name": "stderr",
     "output_type": "stream",
     "text": [
      "cptac warning: In joining the somatic_mutation table, no mutations were found for the following samples, so they were filled with Wildtype_Tumor or Wildtype_Normal: 72 samples for the PTEN gene (C:\\Users\\brittany henderson\\Anaconda3\\envs\\Research\\lib\\site-packages\\cptac\\dataset.py, line 394)\n",
      "cptac warning: CNV data was not found for the following samples, so CNV data columns were filled with NaN for these samples: C3L-01834 (C:\\Users\\brittany henderson\\Anaconda3\\envs\\Research\\lib\\site-packages\\cptac\\dataset.py, line 394)\n",
      "cptac warning: The following columns were not found in the proteomics dataframe, so they were inserted into joined table, but filled with NaN: CCND3 (C:\\Users\\brittany henderson\\Anaconda3\\envs\\Research\\lib\\site-packages\\ipykernel_launcher.py, line 9)\n",
      "cptac warning: In joining the somatic_mutation table, no mutations were found for the following samples, so they were filled with Wildtype_Tumor or Wildtype_Normal: 82 samples for the PTEN gene (C:\\Users\\brittany henderson\\Anaconda3\\envs\\Research\\lib\\site-packages\\ipykernel_launcher.py, line 9)\n"
     ]
    },
    {
     "data": {
      "text/html": [
       "<div>\n",
       "<style scoped>\n",
       "    .dataframe tbody tr th:only-of-type {\n",
       "        vertical-align: middle;\n",
       "    }\n",
       "\n",
       "    .dataframe tbody tr th {\n",
       "        vertical-align: top;\n",
       "    }\n",
       "\n",
       "    .dataframe thead th {\n",
       "        text-align: right;\n",
       "    }\n",
       "</style>\n",
       "<table border=\"1\" class=\"dataframe\">\n",
       "  <thead>\n",
       "    <tr style=\"text-align: right;\">\n",
       "      <th>Name</th>\n",
       "      <th>CCND3_proteomics</th>\n",
       "      <th>Mutation</th>\n",
       "    </tr>\n",
       "    <tr>\n",
       "      <th>Patient_ID</th>\n",
       "      <th></th>\n",
       "      <th></th>\n",
       "    </tr>\n",
       "  </thead>\n",
       "  <tbody>\n",
       "    <tr>\n",
       "      <th>C3L-00104</th>\n",
       "      <td>NaN</td>\n",
       "      <td>Deletion</td>\n",
       "    </tr>\n",
       "    <tr>\n",
       "      <th>C3L-00365</th>\n",
       "      <td>NaN</td>\n",
       "      <td>Deletion</td>\n",
       "    </tr>\n",
       "    <tr>\n",
       "      <th>C3L-00674</th>\n",
       "      <td>NaN</td>\n",
       "      <td>Deletion</td>\n",
       "    </tr>\n",
       "    <tr>\n",
       "      <th>C3L-00677</th>\n",
       "      <td>NaN</td>\n",
       "      <td>Deletion</td>\n",
       "    </tr>\n",
       "    <tr>\n",
       "      <th>C3L-01040</th>\n",
       "      <td>NaN</td>\n",
       "      <td>Deletion</td>\n",
       "    </tr>\n",
       "  </tbody>\n",
       "</table>\n",
       "</div>"
      ],
      "text/plain": [
       "Name        CCND3_proteomics  Mutation\n",
       "Patient_ID                            \n",
       "C3L-00104                NaN  Deletion\n",
       "C3L-00365                NaN  Deletion\n",
       "C3L-00674                NaN  Deletion\n",
       "C3L-00677                NaN  Deletion\n",
       "C3L-01040                NaN  Deletion"
      ]
     },
     "execution_count": 42,
     "metadata": {},
     "output_type": "execute_result"
    }
   ],
   "source": [
    "gene = 'PTEN'\n",
    "t_gene = 'CCND3'\n",
    "g_del_wt = format_df(g, t_gene)\n",
    "g_del_wt.head()"
   ]
  },
  {
   "cell_type": "code",
   "execution_count": 43,
   "metadata": {},
   "outputs": [
    {
     "name": "stderr",
     "output_type": "stream",
     "text": [
      "C:\\Users\\brittany henderson\\Anaconda3\\envs\\Research\\lib\\site-packages\\statsmodels\\stats\\multitest.py:147: RuntimeWarning: invalid value encountered in less_equal\n",
      "  reject = pvals <= alphacBonf\n",
      "C:\\Users\\brittany henderson\\Anaconda3\\envs\\Research\\lib\\site-packages\\statsmodels\\stats\\multitest.py:251: RuntimeWarning: invalid value encountered in greater\n",
      "  pvals_corrected[pvals_corrected>1] = 1\n"
     ]
    },
    {
     "data": {
      "text/html": [
       "<div>\n",
       "<style scoped>\n",
       "    .dataframe tbody tr th:only-of-type {\n",
       "        vertical-align: middle;\n",
       "    }\n",
       "\n",
       "    .dataframe tbody tr th {\n",
       "        vertical-align: top;\n",
       "    }\n",
       "\n",
       "    .dataframe thead th {\n",
       "        text-align: right;\n",
       "    }\n",
       "</style>\n",
       "<table border=\"1\" class=\"dataframe\">\n",
       "  <thead>\n",
       "    <tr style=\"text-align: right;\">\n",
       "      <th></th>\n",
       "      <th>Comparison</th>\n",
       "      <th>P_Value</th>\n",
       "    </tr>\n",
       "  </thead>\n",
       "  <tbody>\n",
       "    <tr>\n",
       "      <th>0</th>\n",
       "      <td>CCND3_proteomics</td>\n",
       "      <td>NaN</td>\n",
       "    </tr>\n",
       "  </tbody>\n",
       "</table>\n",
       "</div>"
      ],
      "text/plain": [
       "         Comparison  P_Value\n",
       "0  CCND3_proteomics      NaN"
      ]
     },
     "execution_count": 43,
     "metadata": {},
     "output_type": "execute_result"
    }
   ],
   "source": [
    "cols = list(g_del_wt.columns[:-1])\n",
    "g_pval = u.wrap_ttest(g_del_wt, 'Mutation', cols, return_all = True)\n",
    "gp = g_pval['P_Value'][0]\n",
    "g_pval"
   ]
  },
  {
   "cell_type": "markdown",
   "metadata": {},
   "source": [
    "# Luad"
   ]
  },
  {
   "cell_type": "code",
   "execution_count": 44,
   "metadata": {},
   "outputs": [
    {
     "name": "stderr",
     "output_type": "stream",
     "text": [
      "cptac warning: CNV data was not found for the following samples, so CNV data columns were filled with NaN for these samples: C3L-00001.N, C3L-00009.N, C3L-00080.N, C3L-00083.N, C3L-00093.N, C3L-00094.N, C3L-00095.N, C3L-00140.N, C3L-00144.N, C3L-00263.N, C3L-00279.N, C3L-00368.N, C3L-00412.N, C3L-00422.N, C3L-00510.N, C3L-00604.N, C3L-00893.N, C3L-00913.N, C3L-00973.N, C3L-01330.N, C3L-01632.N, C3L-01682.N, C3L-01683.N, C3L-01889.N, C3L-01890, C3L-01890.N, C3L-01924.N, C3L-02219.N, C3L-02345.N, C3L-02348.N, C3L-02350.N, C3L-02365.N, C3L-02508.N, C3L-02549.N, C3N-00167.N, C3N-00169.N, C3N-00175.N, C3N-00180.N, C3N-00199.N, C3N-00203.N, C3N-00217.N, C3N-00223.N, C3N-00293.N, C3N-00433.N, C3N-00546.N, C3N-00547.N, C3N-00549.N, C3N-00550.N, C3N-00551.N, C3N-00552.N, C3N-00556.N, C3N-00559.N, C3N-00560.N, C3N-00572.N, C3N-00574.N, C3N-00578.N, C3N-00579.N, C3N-00580.N, C3N-00704.N, C3N-00737.N, C3N-00738.N, C3N-00959.N, C3N-01016.N, C3N-01021.N, C3N-01023.N, C3N-01024.N, C3N-01030.N, C3N-01071.N, C3N-01072.N, C3N-01405.N, C3N-01410.N, C3N-01413.N, C3N-01414.N, C3N-01415.N, C3N-01416.N, C3N-01488.N, C3N-01489.N, C3N-01799.N, C3N-01823.N, C3N-02000.N, C3N-02002.N, C3N-02003.N, C3N-02067.N, C3N-02087.N, C3N-02089.N, C3N-02145.N, C3N-02149.N, C3N-02155.N, C3N-02158.N, C3N-02379.N, C3N-02380.N, C3N-02421.N, C3N-02423.N, C3N-02424.N, C3N-02433.N, C3N-02529.N, C3N-02572.N, C3N-02582.N, C3N-02586.N, C3N-02587.N, C3N-02588.N, C3N-02729.N (C:\\Users\\brittany henderson\\Anaconda3\\envs\\Research\\lib\\site-packages\\ipykernel_launcher.py, line 33)\n",
      "cptac warning: You tried to flatten a column index that didn't have multiple levels, so we didn't actually change anything. (C:\\Users\\brittany henderson\\Anaconda3\\envs\\Research\\lib\\site-packages\\ipykernel_launcher.py, line 34)\n",
      "C:\\Users\\brittany henderson\\Anaconda3\\envs\\Research\\lib\\site-packages\\ipykernel_launcher.py:48: SettingWithCopyWarning: \n",
      "A value is trying to be set on a copy of a slice from a DataFrame.\n",
      "Try using .loc[row_indexer,col_indexer] = value instead\n",
      "\n",
      "See the caveats in the documentation: https://pandas.pydata.org/pandas-docs/stable/user_guide/indexing.html#returning-a-view-versus-a-copy\n"
     ]
    },
    {
     "data": {
      "text/html": [
       "<div>\n",
       "<style scoped>\n",
       "    .dataframe tbody tr th:only-of-type {\n",
       "        vertical-align: middle;\n",
       "    }\n",
       "\n",
       "    .dataframe tbody tr th {\n",
       "        vertical-align: top;\n",
       "    }\n",
       "\n",
       "    .dataframe thead th {\n",
       "        text-align: right;\n",
       "    }\n",
       "</style>\n",
       "<table border=\"1\" class=\"dataframe\">\n",
       "  <thead>\n",
       "    <tr style=\"text-align: right;\">\n",
       "      <th></th>\n",
       "      <th>Comparison</th>\n",
       "      <th>P_Value</th>\n",
       "    </tr>\n",
       "  </thead>\n",
       "  <tbody>\n",
       "    <tr>\n",
       "      <th>0</th>\n",
       "      <td>CCND3_proteomics</td>\n",
       "      <td>0.254022</td>\n",
       "    </tr>\n",
       "  </tbody>\n",
       "</table>\n",
       "</div>"
      ],
      "text/plain": [
       "         Comparison   P_Value\n",
       "0  CCND3_proteomics  0.254022"
      ]
     },
     "execution_count": 44,
     "metadata": {},
     "output_type": "execute_result"
    }
   ],
   "source": [
    "l_del_wt = format_df(l, t_gene)\n",
    "\n",
    "# t-test\n",
    "cols = list(l_del_wt.columns[:-1])\n",
    "l_pval = u.wrap_ttest(l_del_wt, 'Mutation', cols, return_all = True)\n",
    "lp = l_pval['P_Value'][0]\n",
    "l_pval"
   ]
  },
  {
   "cell_type": "markdown",
   "metadata": {},
   "source": [
    "# Lscc"
   ]
  },
  {
   "cell_type": "code",
   "execution_count": 45,
   "metadata": {},
   "outputs": [
    {
     "name": "stderr",
     "output_type": "stream",
     "text": [
      "cptac warning: In joining the somatic_mutation table, no mutations were found for the following samples, so they were filled with Wildtype_Tumor or Wildtype_Normal: 99 samples for the PTEN gene (C:\\Users\\brittany henderson\\Anaconda3\\envs\\Research\\lib\\site-packages\\cptac\\dataset.py, line 394)\n",
      "cptac warning: In joining the somatic_mutation table, no mutations were found for the following samples, so they were filled with Wildtype_Tumor or Wildtype_Normal: 201 samples for the PTEN gene (C:\\Users\\brittany henderson\\Anaconda3\\envs\\Research\\lib\\site-packages\\ipykernel_launcher.py, line 9)\n"
     ]
    },
    {
     "data": {
      "text/html": [
       "<div>\n",
       "<style scoped>\n",
       "    .dataframe tbody tr th:only-of-type {\n",
       "        vertical-align: middle;\n",
       "    }\n",
       "\n",
       "    .dataframe tbody tr th {\n",
       "        vertical-align: top;\n",
       "    }\n",
       "\n",
       "    .dataframe thead th {\n",
       "        text-align: right;\n",
       "    }\n",
       "</style>\n",
       "<table border=\"1\" class=\"dataframe\">\n",
       "  <thead>\n",
       "    <tr style=\"text-align: right;\">\n",
       "      <th></th>\n",
       "      <th>Comparison</th>\n",
       "      <th>P_Value</th>\n",
       "    </tr>\n",
       "  </thead>\n",
       "  <tbody>\n",
       "    <tr>\n",
       "      <th>0</th>\n",
       "      <td>CCND3_proteomics</td>\n",
       "      <td>0.623713</td>\n",
       "    </tr>\n",
       "  </tbody>\n",
       "</table>\n",
       "</div>"
      ],
      "text/plain": [
       "         Comparison   P_Value\n",
       "0  CCND3_proteomics  0.623713"
      ]
     },
     "execution_count": 45,
     "metadata": {},
     "output_type": "execute_result"
    }
   ],
   "source": [
    "ls_del_wt = format_df(ls, t_gene)\n",
    "\n",
    "# t-test\n",
    "cols = list(ls_del_wt.columns[:-1])\n",
    "ls_pval = u.wrap_ttest(ls_del_wt, 'Mutation', cols, return_all = True)\n",
    "lsp = ls_pval['P_Value'][0]\n",
    "ls_pval"
   ]
  },
  {
   "cell_type": "markdown",
   "metadata": {},
   "source": [
    "# Ovarian"
   ]
  },
  {
   "cell_type": "code",
   "execution_count": 46,
   "metadata": {},
   "outputs": [
    {
     "name": "stderr",
     "output_type": "stream",
     "text": [
      "cptac warning: In joining the somatic_mutation table, no mutations were found for the following samples, so they were filled with Wildtype_Tumor or Wildtype_Normal: 98 samples for the PTEN gene (C:\\Users\\brittany henderson\\Anaconda3\\envs\\Research\\lib\\site-packages\\cptac\\dataset.py, line 394)\n",
      "cptac warning: CNV data was not found for the following samples, so CNV data columns were filled with NaN for these samples: 01OV029, 02OV015 (C:\\Users\\brittany henderson\\Anaconda3\\envs\\Research\\lib\\site-packages\\cptac\\dataset.py, line 394)\n",
      "cptac warning: The following columns were not found in the proteomics dataframe, so they were inserted into joined table, but filled with NaN: CCND3 (C:\\Users\\brittany henderson\\Anaconda3\\envs\\Research\\lib\\site-packages\\ipykernel_launcher.py, line 9)\n",
      "cptac warning: In joining the somatic_mutation table, no mutations were found for the following samples, so they were filled with Wildtype_Tumor or Wildtype_Normal: 99 samples for the PTEN gene (C:\\Users\\brittany henderson\\Anaconda3\\envs\\Research\\lib\\site-packages\\ipykernel_launcher.py, line 9)\n",
      "C:\\Users\\brittany henderson\\Anaconda3\\envs\\Research\\lib\\site-packages\\statsmodels\\stats\\multitest.py:147: RuntimeWarning: invalid value encountered in less_equal\n",
      "  reject = pvals <= alphacBonf\n",
      "C:\\Users\\brittany henderson\\Anaconda3\\envs\\Research\\lib\\site-packages\\statsmodels\\stats\\multitest.py:251: RuntimeWarning: invalid value encountered in greater\n",
      "  pvals_corrected[pvals_corrected>1] = 1\n"
     ]
    },
    {
     "data": {
      "text/html": [
       "<div>\n",
       "<style scoped>\n",
       "    .dataframe tbody tr th:only-of-type {\n",
       "        vertical-align: middle;\n",
       "    }\n",
       "\n",
       "    .dataframe tbody tr th {\n",
       "        vertical-align: top;\n",
       "    }\n",
       "\n",
       "    .dataframe thead th {\n",
       "        text-align: right;\n",
       "    }\n",
       "</style>\n",
       "<table border=\"1\" class=\"dataframe\">\n",
       "  <thead>\n",
       "    <tr style=\"text-align: right;\">\n",
       "      <th></th>\n",
       "      <th>Comparison</th>\n",
       "      <th>P_Value</th>\n",
       "    </tr>\n",
       "  </thead>\n",
       "  <tbody>\n",
       "    <tr>\n",
       "      <th>0</th>\n",
       "      <td>CCND3_proteomics</td>\n",
       "      <td>NaN</td>\n",
       "    </tr>\n",
       "  </tbody>\n",
       "</table>\n",
       "</div>"
      ],
      "text/plain": [
       "         Comparison  P_Value\n",
       "0  CCND3_proteomics      NaN"
      ]
     },
     "execution_count": 46,
     "metadata": {},
     "output_type": "execute_result"
    }
   ],
   "source": [
    "o_del_wt = format_df(o, t_gene)\n",
    "\n",
    "# t-test\n",
    "cols = list(o_del_wt.columns[:-1])\n",
    "o_pval = u.wrap_ttest(o_del_wt, 'Mutation', cols, return_all = True)\n",
    "op = o_pval['P_Value'][0]\n",
    "o_pval"
   ]
  },
  {
   "cell_type": "markdown",
   "metadata": {},
   "source": [
    "# Brca"
   ]
  },
  {
   "cell_type": "code",
   "execution_count": 47,
   "metadata": {},
   "outputs": [
    {
     "name": "stderr",
     "output_type": "stream",
     "text": [
      "cptac warning: In joining the somatic_mutation table, no mutations were found for the following samples, so they were filled with Wildtype_Tumor or Wildtype_Normal: 113 samples for the PTEN gene (C:\\Users\\brittany henderson\\Anaconda3\\envs\\Research\\lib\\site-packages\\cptac\\dataset.py, line 394)\n",
      "cptac warning: The following columns were not found in the proteomics dataframe, so they were inserted into joined table, but filled with NaN: CCND3 (C:\\Users\\brittany henderson\\Anaconda3\\envs\\Research\\lib\\site-packages\\ipykernel_launcher.py, line 9)\n",
      "cptac warning: In joining the somatic_mutation table, no mutations were found for the following samples, so they were filled with Wildtype_Tumor or Wildtype_Normal: 113 samples for the PTEN gene (C:\\Users\\brittany henderson\\Anaconda3\\envs\\Research\\lib\\site-packages\\ipykernel_launcher.py, line 9)\n",
      "C:\\Users\\brittany henderson\\Anaconda3\\envs\\Research\\lib\\site-packages\\statsmodels\\stats\\multitest.py:147: RuntimeWarning: invalid value encountered in less_equal\n",
      "  reject = pvals <= alphacBonf\n",
      "C:\\Users\\brittany henderson\\Anaconda3\\envs\\Research\\lib\\site-packages\\statsmodels\\stats\\multitest.py:251: RuntimeWarning: invalid value encountered in greater\n",
      "  pvals_corrected[pvals_corrected>1] = 1\n"
     ]
    },
    {
     "data": {
      "text/html": [
       "<div>\n",
       "<style scoped>\n",
       "    .dataframe tbody tr th:only-of-type {\n",
       "        vertical-align: middle;\n",
       "    }\n",
       "\n",
       "    .dataframe tbody tr th {\n",
       "        vertical-align: top;\n",
       "    }\n",
       "\n",
       "    .dataframe thead th {\n",
       "        text-align: right;\n",
       "    }\n",
       "</style>\n",
       "<table border=\"1\" class=\"dataframe\">\n",
       "  <thead>\n",
       "    <tr style=\"text-align: right;\">\n",
       "      <th></th>\n",
       "      <th>Comparison</th>\n",
       "      <th>P_Value</th>\n",
       "    </tr>\n",
       "  </thead>\n",
       "  <tbody>\n",
       "    <tr>\n",
       "      <th>0</th>\n",
       "      <td>CCND3_proteomics</td>\n",
       "      <td>NaN</td>\n",
       "    </tr>\n",
       "  </tbody>\n",
       "</table>\n",
       "</div>"
      ],
      "text/plain": [
       "         Comparison  P_Value\n",
       "0  CCND3_proteomics      NaN"
      ]
     },
     "execution_count": 47,
     "metadata": {},
     "output_type": "execute_result"
    }
   ],
   "source": [
    "b_del_wt = format_df(b, t_gene)\n",
    "\n",
    "# t-test\n",
    "cols = list(b_del_wt.columns[:-1])\n",
    "b_pval = u.wrap_ttest(b_del_wt, 'Mutation', cols, return_all = True)\n",
    "bp = b_pval['P_Value'][0]\n",
    "b_pval"
   ]
  },
  {
   "cell_type": "markdown",
   "metadata": {},
   "source": [
    "# Colon"
   ]
  },
  {
   "cell_type": "code",
   "execution_count": 48,
   "metadata": {},
   "outputs": [
    {
     "name": "stderr",
     "output_type": "stream",
     "text": [
      "cptac warning: In joining the somatic_mutation table, no mutations were found for the following samples, so they were filled with Wildtype_Tumor or Wildtype_Normal: 100 samples for the PTEN gene (C:\\Users\\brittany henderson\\Anaconda3\\envs\\Research\\lib\\site-packages\\cptac\\dataset.py, line 394)\n",
      "cptac warning: CNV data was not found for the following samples, so CNV data columns were filled with NaN for these samples: 05CO045 (C:\\Users\\brittany henderson\\Anaconda3\\envs\\Research\\lib\\site-packages\\cptac\\dataset.py, line 394)\n",
      "cptac warning: The following columns were not found in the proteomics dataframe, so they were inserted into joined table, but filled with NaN: CCND3 (C:\\Users\\brittany henderson\\Anaconda3\\envs\\Research\\lib\\site-packages\\ipykernel_launcher.py, line 9)\n",
      "cptac warning: In joining the somatic_mutation table, no mutations were found for the following samples, so they were filled with Wildtype_Tumor or Wildtype_Normal: 201 samples for the PTEN gene (C:\\Users\\brittany henderson\\Anaconda3\\envs\\Research\\lib\\site-packages\\ipykernel_launcher.py, line 9)\n",
      "cptac warning: proteomics data was not found for the following samples, so proteomics data columns were filled with NaN for these samples: 01CO001, 05CO005, 05CO007, 05CO014, 05CO055, 11CO059, 11CO060, 14CO002, 16CO012, 24CO005 (C:\\Users\\brittany henderson\\Anaconda3\\envs\\Research\\lib\\site-packages\\ipykernel_launcher.py, line 9)\n",
      "C:\\Users\\brittany henderson\\Anaconda3\\envs\\Research\\lib\\site-packages\\statsmodels\\stats\\multitest.py:147: RuntimeWarning: invalid value encountered in less_equal\n",
      "  reject = pvals <= alphacBonf\n",
      "C:\\Users\\brittany henderson\\Anaconda3\\envs\\Research\\lib\\site-packages\\statsmodels\\stats\\multitest.py:251: RuntimeWarning: invalid value encountered in greater\n",
      "  pvals_corrected[pvals_corrected>1] = 1\n"
     ]
    },
    {
     "data": {
      "text/html": [
       "<div>\n",
       "<style scoped>\n",
       "    .dataframe tbody tr th:only-of-type {\n",
       "        vertical-align: middle;\n",
       "    }\n",
       "\n",
       "    .dataframe tbody tr th {\n",
       "        vertical-align: top;\n",
       "    }\n",
       "\n",
       "    .dataframe thead th {\n",
       "        text-align: right;\n",
       "    }\n",
       "</style>\n",
       "<table border=\"1\" class=\"dataframe\">\n",
       "  <thead>\n",
       "    <tr style=\"text-align: right;\">\n",
       "      <th></th>\n",
       "      <th>Comparison</th>\n",
       "      <th>P_Value</th>\n",
       "    </tr>\n",
       "  </thead>\n",
       "  <tbody>\n",
       "    <tr>\n",
       "      <th>0</th>\n",
       "      <td>CCND3_proteomics</td>\n",
       "      <td>NaN</td>\n",
       "    </tr>\n",
       "  </tbody>\n",
       "</table>\n",
       "</div>"
      ],
      "text/plain": [
       "         Comparison  P_Value\n",
       "0  CCND3_proteomics      NaN"
      ]
     },
     "execution_count": 48,
     "metadata": {},
     "output_type": "execute_result"
    }
   ],
   "source": [
    "c_del_wt = format_df(col, t_gene)\n",
    "\n",
    "# t-test\n",
    "cols = list(c_del_wt.columns[:-1])\n",
    "c_pval = u.wrap_ttest(c_del_wt, 'Mutation', cols, return_all = True)\n",
    "cp = c_pval['P_Value'][0]\n",
    "c_pval"
   ]
  },
  {
   "cell_type": "markdown",
   "metadata": {},
   "source": [
    "#  Hnscc"
   ]
  },
  {
   "cell_type": "code",
   "execution_count": 49,
   "metadata": {},
   "outputs": [
    {
     "name": "stderr",
     "output_type": "stream",
     "text": [
      "cptac warning: In joining the somatic_mutation table, no mutations were found for the following samples, so they were filled with Wildtype_Tumor or Wildtype_Normal: 109 samples for the PTEN gene (C:\\Users\\brittany henderson\\Anaconda3\\envs\\Research\\lib\\site-packages\\cptac\\dataset.py, line 394)\n",
      "cptac warning: CNV data was not found for the following samples, so CNV data columns were filled with NaN for these samples: C3L-02617, C3N-02727 (C:\\Users\\brittany henderson\\Anaconda3\\envs\\Research\\lib\\site-packages\\cptac\\dataset.py, line 394)\n",
      "cptac warning: In joining the somatic_mutation table, no mutations were found for the following samples, so they were filled with Wildtype_Tumor or Wildtype_Normal: 176 samples for the PTEN gene (C:\\Users\\brittany henderson\\Anaconda3\\envs\\Research\\lib\\site-packages\\ipykernel_launcher.py, line 9)\n",
      "C:\\Users\\brittany henderson\\Anaconda3\\envs\\Research\\lib\\site-packages\\numpy\\core\\fromnumeric.py:3367: RuntimeWarning: Degrees of freedom <= 0 for slice\n",
      "  **kwargs)\n",
      "C:\\Users\\brittany henderson\\Anaconda3\\envs\\Research\\lib\\site-packages\\numpy\\core\\_methods.py:132: RuntimeWarning: invalid value encountered in double_scalars\n",
      "  ret = ret.dtype.type(ret / rcount)\n",
      "C:\\Users\\brittany henderson\\Anaconda3\\envs\\Research\\lib\\site-packages\\scipy\\stats\\_distn_infrastructure.py:877: RuntimeWarning: invalid value encountered in greater\n",
      "  return (self.a < x) & (x < self.b)\n",
      "C:\\Users\\brittany henderson\\Anaconda3\\envs\\Research\\lib\\site-packages\\scipy\\stats\\_distn_infrastructure.py:877: RuntimeWarning: invalid value encountered in less\n",
      "  return (self.a < x) & (x < self.b)\n",
      "C:\\Users\\brittany henderson\\Anaconda3\\envs\\Research\\lib\\site-packages\\scipy\\stats\\_distn_infrastructure.py:1831: RuntimeWarning: invalid value encountered in less_equal\n",
      "  cond2 = cond0 & (x <= self.a)\n",
      "C:\\Users\\brittany henderson\\Anaconda3\\envs\\Research\\lib\\site-packages\\statsmodels\\stats\\multitest.py:147: RuntimeWarning: invalid value encountered in less_equal\n",
      "  reject = pvals <= alphacBonf\n",
      "C:\\Users\\brittany henderson\\Anaconda3\\envs\\Research\\lib\\site-packages\\statsmodels\\stats\\multitest.py:251: RuntimeWarning: invalid value encountered in greater\n",
      "  pvals_corrected[pvals_corrected>1] = 1\n"
     ]
    },
    {
     "data": {
      "text/html": [
       "<div>\n",
       "<style scoped>\n",
       "    .dataframe tbody tr th:only-of-type {\n",
       "        vertical-align: middle;\n",
       "    }\n",
       "\n",
       "    .dataframe tbody tr th {\n",
       "        vertical-align: top;\n",
       "    }\n",
       "\n",
       "    .dataframe thead th {\n",
       "        text-align: right;\n",
       "    }\n",
       "</style>\n",
       "<table border=\"1\" class=\"dataframe\">\n",
       "  <thead>\n",
       "    <tr style=\"text-align: right;\">\n",
       "      <th></th>\n",
       "      <th>Comparison</th>\n",
       "      <th>P_Value</th>\n",
       "    </tr>\n",
       "  </thead>\n",
       "  <tbody>\n",
       "    <tr>\n",
       "      <th>0</th>\n",
       "      <td>CCND3_proteomics</td>\n",
       "      <td>NaN</td>\n",
       "    </tr>\n",
       "  </tbody>\n",
       "</table>\n",
       "</div>"
      ],
      "text/plain": [
       "         Comparison  P_Value\n",
       "0  CCND3_proteomics      NaN"
      ]
     },
     "execution_count": 49,
     "metadata": {},
     "output_type": "execute_result"
    }
   ],
   "source": [
    "h_del_wt = format_df(h, t_gene)\n",
    "\n",
    "# t-test\n",
    "cols = list(h_del_wt.columns[:-1])\n",
    "h_pval = u.wrap_ttest(h_del_wt, 'Mutation', cols, return_all = True)\n",
    "hp = h_pval['P_Value'][0]\n",
    "h_pval"
   ]
  },
  {
   "cell_type": "markdown",
   "metadata": {},
   "source": [
    "# Endometrial"
   ]
  },
  {
   "cell_type": "markdown",
   "metadata": {},
   "source": [
    "The Endometrial data set does not have enough cnv deletions to perform a t-test, however the data set does have enough truncation type mutations (nonsense and frame shifts). Different code is needed to create the data frame for Endometrial."
   ]
  },
  {
   "cell_type": "code",
   "execution_count": 55,
   "metadata": {},
   "outputs": [
    {
     "name": "stdout",
     "output_type": "stream",
     "text": [
      "Nonsense_Mutation    25\n",
      "Frame_Shift_Del      22\n",
      "Wildtype_Tumor       20\n",
      "Frame_Shift_Ins       6\n",
      "Name: PTEN_Mutation, dtype: int64\n"
     ]
    },
    {
     "name": "stderr",
     "output_type": "stream",
     "text": [
      "cptac warning: The following columns were not found in the proteomics dataframe, so they were inserted into joined table, but filled with NaN: CCND3 (C:\\Users\\brittany henderson\\Anaconda3\\envs\\Research\\lib\\site-packages\\ipykernel_launcher.py, line 4)\n",
      "cptac warning: In joining the somatic_mutation table, no mutations were found for the following samples, so they were filled with Wildtype_Tumor or Wildtype_Normal: 69 samples for the PTEN gene (C:\\Users\\brittany henderson\\Anaconda3\\envs\\Research\\lib\\site-packages\\ipykernel_launcher.py, line 4)\n",
      "C:\\Users\\brittany henderson\\Anaconda3\\envs\\Research\\lib\\site-packages\\ipykernel_launcher.py:12: SettingWithCopyWarning: \n",
      "A value is trying to be set on a copy of a slice from a DataFrame.\n",
      "Try using .loc[row_indexer,col_indexer] = value instead\n",
      "\n",
      "See the caveats in the documentation: https://pandas.pydata.org/pandas-docs/stable/user_guide/indexing.html#returning-a-view-versus-a-copy\n",
      "  if sys.path[0] == '':\n"
     ]
    },
    {
     "data": {
      "text/plain": [
       "Truncation        53\n",
       "Wildtype_Tumor    20\n",
       "Name: Mutation, dtype: int64"
      ]
     },
     "execution_count": 55,
     "metadata": {},
     "output_type": "execute_result"
    }
   ],
   "source": [
    "# Step 1 - Create proteomics and truncations dataframe\n",
    "prot_and_mutations = en.join_omics_to_mutations(\n",
    "    mutations_genes = [gene], omics_df_name = 'proteomics', omics_genes = t_gene, \n",
    "    mutations_filter = ['Nonsense_Mutation','Frame_Shift_Del','Frame_Shift_Ins']) \n",
    "keep = ['Nonsense_Mutation','Frame_Shift_Del','Frame_Shift_Ins','Wildtype_Tumor']\n",
    "in_keep = prot_and_mutations['PTEN_Mutation'].isin(keep)\n",
    "trunc_mutations = prot_and_mutations[in_keep]\n",
    "print(trunc_mutations['PTEN_Mutation'].value_counts())\n",
    "\n",
    "# Step 2 - Create binary column \n",
    "trunc_mutations['Mutation'] = np.where(\n",
    "            trunc_mutations[gene+'_Mutation_Status'] == 'Wildtype_Tumor', 'Wildtype_Tumor', 'Truncation')\n",
    "\n",
    "# Step 3 - Format the dataframe correctly for the t-test(just omics and binary columns for tumors)\n",
    "tumors = trunc_mutations[trunc_mutations.Sample_Status == 'Tumor'] #drop Normal samples\n",
    "columns_to_drop = [gene+\"_Mutation\", gene+\"_Location\", gene+\"_Mutation_Status\", \"Sample_Status\"]\n",
    "e_trunc_wt = tumors.drop(columns_to_drop, axis = 1)\n",
    "#e_trunc_wt = e_trunc_wt.dropna(axis=1,how='all')\n",
    "e_trunc_wt['Mutation'].value_counts()"
   ]
  },
  {
   "cell_type": "code",
   "execution_count": 37,
   "metadata": {},
   "outputs": [
    {
     "data": {
      "text/html": [
       "<div>\n",
       "<style scoped>\n",
       "    .dataframe tbody tr th:only-of-type {\n",
       "        vertical-align: middle;\n",
       "    }\n",
       "\n",
       "    .dataframe tbody tr th {\n",
       "        vertical-align: top;\n",
       "    }\n",
       "\n",
       "    .dataframe thead th {\n",
       "        text-align: right;\n",
       "    }\n",
       "</style>\n",
       "<table border=\"1\" class=\"dataframe\">\n",
       "  <thead>\n",
       "    <tr style=\"text-align: right;\">\n",
       "      <th></th>\n",
       "      <th>Comparison</th>\n",
       "      <th>P_Value</th>\n",
       "    </tr>\n",
       "  </thead>\n",
       "  <tbody>\n",
       "    <tr>\n",
       "      <th>0</th>\n",
       "      <td>CCND1_proteomics</td>\n",
       "      <td>0.18324</td>\n",
       "    </tr>\n",
       "  </tbody>\n",
       "</table>\n",
       "</div>"
      ],
      "text/plain": [
       "         Comparison  P_Value\n",
       "0  CCND1_proteomics  0.18324"
      ]
     },
     "execution_count": 37,
     "metadata": {},
     "output_type": "execute_result"
    }
   ],
   "source": [
    "# t-test\n",
    "cols = list(e_trunc_wt.columns[:-1])\n",
    "e_pval = u.wrap_ttest(e_trunc_wt, 'Mutation', cols, return_all=True)\n",
    "ep = e_pval['P_Value'][0]\n",
    "e_pval"
   ]
  },
  {
   "cell_type": "markdown",
   "metadata": {},
   "source": [
    "# Step 2: Create a long dataframe for the boxplot"
   ]
  },
  {
   "cell_type": "markdown",
   "metadata": {},
   "source": [
    "The boxplot will take three columns: Proteomics, Mutation, and Cancer. We need to append all the individual cancer dfs into one long pancancer df. "
   ]
  },
  {
   "cell_type": "markdown",
   "metadata": {},
   "source": [
    "First create the Cancer column."
   ]
  },
  {
   "cell_type": "code",
   "execution_count": 52,
   "metadata": {},
   "outputs": [],
   "source": [
    "g_del_wt = g_del_wt.assign(cancer = 'Gbm')\n",
    "l_del_wt = l_del_wt.assign(cancer = 'Luad')\n",
    "ls_del_wt = ls_del_wt.assign(cancer = 'Lscc')\n",
    "b_del_wt = b_del_wt.assign(cancer = 'Brca')\n",
    "o_del_wt = o_del_wt.assign(cancer = 'Ovarian')\n",
    "c_del_wt = c_del_wt.assign(cancer = 'Colon')\n",
    "h_del_wt = h_del_wt.assign(cancer = 'Hnscc') # higher scale\n",
    "e_trunc_wt = e_trunc_wt.assign(cancer = 'Endometrial')"
   ]
  },
  {
   "cell_type": "markdown",
   "metadata": {},
   "source": [
    "Next append the dfs."
   ]
  },
  {
   "cell_type": "code",
   "execution_count": 53,
   "metadata": {},
   "outputs": [
    {
     "data": {
      "text/html": [
       "<div>\n",
       "<style scoped>\n",
       "    .dataframe tbody tr th:only-of-type {\n",
       "        vertical-align: middle;\n",
       "    }\n",
       "\n",
       "    .dataframe tbody tr th {\n",
       "        vertical-align: top;\n",
       "    }\n",
       "\n",
       "    .dataframe thead th {\n",
       "        text-align: right;\n",
       "    }\n",
       "</style>\n",
       "<table border=\"1\" class=\"dataframe\">\n",
       "  <thead>\n",
       "    <tr style=\"text-align: right;\">\n",
       "      <th>Name</th>\n",
       "      <th>CCND3_proteomics</th>\n",
       "      <th>Mutation</th>\n",
       "      <th>cancer</th>\n",
       "    </tr>\n",
       "    <tr>\n",
       "      <th>Patient_ID</th>\n",
       "      <th></th>\n",
       "      <th></th>\n",
       "      <th></th>\n",
       "    </tr>\n",
       "  </thead>\n",
       "  <tbody>\n",
       "    <tr>\n",
       "      <th>C3L-00104</th>\n",
       "      <td>NaN</td>\n",
       "      <td>Deletion</td>\n",
       "      <td>Gbm</td>\n",
       "    </tr>\n",
       "    <tr>\n",
       "      <th>C3L-00365</th>\n",
       "      <td>NaN</td>\n",
       "      <td>Deletion</td>\n",
       "      <td>Gbm</td>\n",
       "    </tr>\n",
       "    <tr>\n",
       "      <th>C3L-00674</th>\n",
       "      <td>NaN</td>\n",
       "      <td>Deletion</td>\n",
       "      <td>Gbm</td>\n",
       "    </tr>\n",
       "    <tr>\n",
       "      <th>C3L-00677</th>\n",
       "      <td>NaN</td>\n",
       "      <td>Deletion</td>\n",
       "      <td>Gbm</td>\n",
       "    </tr>\n",
       "    <tr>\n",
       "      <th>C3L-01040</th>\n",
       "      <td>NaN</td>\n",
       "      <td>Deletion</td>\n",
       "      <td>Gbm</td>\n",
       "    </tr>\n",
       "    <tr>\n",
       "      <th>...</th>\n",
       "      <td>...</td>\n",
       "      <td>...</td>\n",
       "      <td>...</td>\n",
       "    </tr>\n",
       "    <tr>\n",
       "      <th>C3N-01520</th>\n",
       "      <td>NaN</td>\n",
       "      <td>Truncation</td>\n",
       "      <td>Endometrial</td>\n",
       "    </tr>\n",
       "    <tr>\n",
       "      <th>C3N-01521</th>\n",
       "      <td>NaN</td>\n",
       "      <td>Wildtype_Tumor</td>\n",
       "      <td>Endometrial</td>\n",
       "    </tr>\n",
       "    <tr>\n",
       "      <th>C3N-01537</th>\n",
       "      <td>NaN</td>\n",
       "      <td>Wildtype_Tumor</td>\n",
       "      <td>Endometrial</td>\n",
       "    </tr>\n",
       "    <tr>\n",
       "      <th>C3N-01802</th>\n",
       "      <td>NaN</td>\n",
       "      <td>Wildtype_Tumor</td>\n",
       "      <td>Endometrial</td>\n",
       "    </tr>\n",
       "    <tr>\n",
       "      <th>C3N-01825</th>\n",
       "      <td>NaN</td>\n",
       "      <td>Wildtype_Tumor</td>\n",
       "      <td>Endometrial</td>\n",
       "    </tr>\n",
       "  </tbody>\n",
       "</table>\n",
       "<p>647 rows × 3 columns</p>\n",
       "</div>"
      ],
      "text/plain": [
       "Name        CCND3_proteomics        Mutation       cancer\n",
       "Patient_ID                                               \n",
       "C3L-00104                NaN        Deletion          Gbm\n",
       "C3L-00365                NaN        Deletion          Gbm\n",
       "C3L-00674                NaN        Deletion          Gbm\n",
       "C3L-00677                NaN        Deletion          Gbm\n",
       "C3L-01040                NaN        Deletion          Gbm\n",
       "...                      ...             ...          ...\n",
       "C3N-01520                NaN      Truncation  Endometrial\n",
       "C3N-01521                NaN  Wildtype_Tumor  Endometrial\n",
       "C3N-01537                NaN  Wildtype_Tumor  Endometrial\n",
       "C3N-01802                NaN  Wildtype_Tumor  Endometrial\n",
       "C3N-01825                NaN  Wildtype_Tumor  Endometrial\n",
       "\n",
       "[647 rows x 3 columns]"
      ]
     },
     "execution_count": 53,
     "metadata": {},
     "output_type": "execute_result"
    }
   ],
   "source": [
    "df = g_del_wt.append(l_del_wt)\n",
    "df2 = df.append(ls_del_wt)\n",
    "df3 = df2.append(b_del_wt)\n",
    "df4 = df3.append(o_del_wt)\n",
    "df5 = df4.append(c_del_wt)\n",
    "df6 = df5.append(e_trunc_wt)\n",
    "#df7 = df6.append(h_del_wt) # Leave out Hnscc because of high proteomics numbers\n",
    "\n",
    "df6"
   ]
  },
  {
   "cell_type": "markdown",
   "metadata": {},
   "source": [
    "# Step 3: Create the Pancancer Boxplot"
   ]
  },
  {
   "cell_type": "code",
   "execution_count": 54,
   "metadata": {},
   "outputs": [
    {
     "data": {
      "image/png": "[encoded data removed]",
      "text/plain": [
       "<Figure size 1080x720 with 1 Axes>"
      ]
     },
     "metadata": {},
     "output_type": "display_data"
    }
   ],
   "source": [
    "gene = 'PTEN'\n",
    "plt.rcParams['figure.figsize']=(15,10) #size of plot\n",
    "sns.set(font_scale = 1.2)\n",
    "\n",
    "boxplot = sns.boxplot(x='cancer', y=t_gene+\"_proteomics\", data = df6, hue = 'Mutation',\n",
    "                      hue_order = [\"Wildtype_Tumor\", \"Deletion\",'Truncation'], showfliers = False)    \n",
    "boxplot.set_title('Pancancer trans effect of PTEN CNV Deletions on '+t_gene)\n",
    "boxplot = sns.stripplot(x='cancer', y=t_gene+\"_proteomics\", data = df6, jitter = True, \n",
    "                           color = \".3\", hue = 'Mutation', hue_order = [\"Wildtype_Tumor\", \"Deletion\", 'Truncation'],dodge = True)\n",
    "boxplot.set(xlabel = \"\\n\"+gene+\" Wildtype/CNV Deletion\", ylabel = t_gene+' Proteomics')\n",
    "\n",
    "# format legend\n",
    "handles, labels = boxplot.get_legend_handles_labels()\n",
    "plt.legend(handles[0:3], labels[0:3])\n",
    "\n",
    "\n",
    "# Create significance symbols:\n",
    "# * P ≤ 0.05   ** P ≤ 0.01   *** P ≤ 0.001 \n",
    "pvals = [gp, lp, lsp, bp, op, cp, ep] # same order as appended in long df\n",
    "symbols = {}\n",
    "\n",
    "for p in pvals:\n",
    "    if p <= 0.001:\n",
    "        symbols[p] = '***'\n",
    "    elif p <= 0.01:\n",
    "        symbols[p] = '**'\n",
    "    elif p <= .05:\n",
    "        symbols[p] = '*'\n",
    "    else:\n",
    "        symbols[p] = 'ns'\n",
    "#print(symbols)\n",
    "\n",
    "format_pval_annotation(symbols[gp], -.3, 0, 4) # Gbm\n",
    "format_pval_annotation(symbols[lp], .7, 1, 6) # Luad\n",
    "format_pval_annotation(symbols[lsp], 1.7, 2, 5) # Lscc\n",
    "format_pval_annotation(symbols[bp], 2.7, 3, 4) # Brca\n",
    "format_pval_annotation(symbols[op], 3.7, 4, 2.6) # Ovarian\n",
    "format_pval_annotation(symbols[cp], 4.7, 5, 2.6)  # Colon\n",
    "format_pval_annotation(symbols[ep], 5.7, 6.2, 2.6) # Endometrial\n",
    "\n",
    "plt.show()\n",
    "plt.clf()\n",
    "plt.close()"
   ]
  },
  {
   "cell_type": "code",
   "execution_count": null,
   "metadata": {},
   "outputs": [],
   "source": [
    "# Save figure\n",
    "#fig = boxplot.get_figure()\n",
    "#fig.savefig(\".png\")"
   ]
  },
  {
   "cell_type": "code",
   "execution_count": null,
   "metadata": {},
   "outputs": [],
   "source": []
  }
 ],
 "metadata": {
  "kernelspec": {
   "display_name": "Python 3",
   "language": "python",
   "name": "python3"
  },
  "language_info": {
   "codemirror_mode": {
    "name": "ipython",
    "version": 3
   },
   "file_extension": ".py",
   "mimetype": "text/x-python",
   "name": "python",
   "nbconvert_exporter": "python",
   "pygments_lexer": "ipython3",
   "version": "3.7.3"
  }
 },
 "nbformat": 4,
 "nbformat_minor": 2
}
