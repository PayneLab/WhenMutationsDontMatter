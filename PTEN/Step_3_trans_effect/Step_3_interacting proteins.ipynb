{
 "cells": [
  {
   "cell_type": "markdown",
   "metadata": {},
   "source": [
    "# Create p-value and correlation tables for multiple cancers (includes figures)"
   ]
  },
  {
   "cell_type": "markdown",
   "metadata": {},
   "source": [
    "Create a dataframe with p-value results from t-tests for all proteins (trans gene proteomics when PTEN has cnv deletions compared to PTEN wildtype). The dataframe also includes the change in medians (correlation) between deletions and wildtype. Create Heat Maps for interacting proteins."
   ]
  },
  {
   "cell_type": "code",
   "execution_count": 1,
   "metadata": {},
   "outputs": [],
   "source": [
    "import pandas as pd\n",
    "import numpy as np\n",
    "import seaborn as sns\n",
    "import matplotlib.pyplot as plt\n",
    "import scipy.stats\n",
    "import gseapy as gp\n",
    "import re\n",
    "import sys \n",
    "\n",
    "import cptac\n",
    "import cptac.utils as u\n",
    "\n",
    "import plot_utils as p"
   ]
  },
  {
   "cell_type": "code",
   "execution_count": 2,
   "metadata": {},
   "outputs": [],
   "source": [
    "# Returns a dataframe with proteomics and mutation type\n",
    "\n",
    "# all_prot: list of trans genes\n",
    "\n",
    "def all_prot_format_df(cancer_object, all_prot, gene_in = 'PTEN'):\n",
    "    mut_type = cancer_object.get_genotype_all_vars(gene_in)\n",
    "    \n",
    "    if cancer_object.get_cancer_type() not in ('luad'):\n",
    "        # Keep only tumor samples from proteomics\n",
    "        prot_and_mutations = cancer_object.join_omics_to_mutations(\n",
    "            mutations_genes = [gene_in], omics_df_name = 'proteomics', omics_genes = all_prot)\n",
    "        # Reduce a multiindex \n",
    "        if isinstance(prot_and_mutations.keys(), pd.core.indexes.multi.MultiIndex):\n",
    "            prot_and_mutations = cancer_object.reduce_multiindex(prot_and_mutations, levels_to_drop = 1)\n",
    "        prot_and_mutations = prot_and_mutations[prot_and_mutations.Sample_Status == \"Tumor\"] # drop Normal samples\n",
    "\n",
    "        # Merge Mutation column from get_genotype_all_vars (includes cnv) with proteomics\n",
    "        mut_type = mut_type[['Mutation']] \n",
    "        prot_df = prot_and_mutations.iloc[:,:-4] # Keep only proteomics\n",
    "        merged = prot_df.join(mut_type)\n",
    "        \n",
    "        # Keep only Wildtype and deletion\n",
    "        compare = ['Wildtype_Tumor','Deletion']\n",
    "        get = merged['Mutation'].isin(compare)\n",
    "        del_wt = merged[get]\n",
    "    \n",
    "    \n",
    "    # Luad has no somatic mutations for PTEN which changes some things\n",
    "    else: \n",
    "        # get_genotype_all_vars add cnv data under the column PTEN\n",
    "        mut_type = mut_type.drop(columns= gene_in)\n",
    "        # different code because no somatic mutation data for pten (can't join to somatic mutations)\n",
    "        omics = l.join_omics_to_omics(df1_name = 'CNV', df2_name='proteomics',genes1= gene_in, \n",
    "            genes2= all_prot)\n",
    "        omics = l.reduce_multiindex(omics, levels_to_drop = 1, flatten = True)\n",
    "        omics = omics.drop(columns='PTEN_CNV')\n",
    "        # Get only tumor samples\n",
    "        p = l.get_proteomics(tissue_type='tumor')\n",
    "        tumor_ids = list(p.index)\n",
    "        get = omics.index.isin(tumor_ids)\n",
    "        omics = omics[get]\n",
    "        # Merge Mutation column from get_genotype_all_vars (includes cnv) with proteomics\n",
    "        merged = omics.join(mut_type) \n",
    "        # Keep only No_Mutation (wildtype) and deletion\n",
    "        compare = ['No_Mutation','Deletion']\n",
    "        get = merged['Mutation'].isin(compare)\n",
    "        del_wt = merged[get]\n",
    "        del_wt['Mutation'] = np.where(\n",
    "            del_wt['Mutation'] == 'No_Mutation', 'Wildtype_Tumor', 'Deletion')\n",
    "\n",
    "    return del_wt\n"
   ]
  },
  {
   "cell_type": "code",
   "execution_count": 3,
   "metadata": {},
   "outputs": [],
   "source": [
    "'''\n",
    "Params\n",
    "cancer_object: Object. Variable for the loaded cancer data set.\n",
    "cancer_name: Str. name to add to the created dataframe.\n",
    "del_wt_df: DataFrame. Only samples with deletions and wildtype for PTEN. \n",
    "all_prot_list: List. All proteins in proteomics data frame. \n",
    "\n",
    "Returns a dataframe with the difference in medians between proteomics with PTEN wt and del (wt - del). \n",
    "'''\n",
    "\n",
    "def get_change_in_medians_df(cancer_object, cancer_name, del_wt_df, all_prot_list):\n",
    "    d = del_wt_df[del_wt_df.Mutation == \"Deletion\"]\n",
    "    wt = del_wt_df[del_wt_df.Mutation == \"Wildtype_Tumor\"]\n",
    "    del_med = d.median()\n",
    "    wt_med = wt.median()\n",
    "\n",
    "    med_dict = {}\n",
    "    \n",
    "\n",
    "    for prot in all_prot_list:\n",
    "        dif = del_med[prot] - wt_med[prot]\n",
    "        med_dict[prot] = dif\n",
    "        \n",
    "    df = pd.DataFrame.from_dict(med_dict, orient='index', columns=[cancer_name+'_Median'])\n",
    "    df = df.reset_index().rename(columns={'index':'Proteomics'})\n",
    "    \n",
    "    return df\n",
    "        "
   ]
  },
  {
   "cell_type": "markdown",
   "metadata": {},
   "source": [
    "#  Step 1: Create Data frames with p-values and differences in median"
   ]
  },
  {
   "cell_type": "markdown",
   "metadata": {},
   "source": [
    "Each cancer needs a data frame containing only samples that have PTEN cnv deletions and PTEN wildtype with trans proteomics. Use wrap_ttest to run many T-tests for all genes in the proteomics data frame. Use get_change_in_medians_df to create the data frame with change in median values. Merge both data frames. "
   ]
  },
  {
   "cell_type": "markdown",
   "metadata": {},
   "source": [
    "Load in cancer data sets from cptac. "
   ]
  },
  {
   "cell_type": "code",
   "execution_count": 4,
   "metadata": {},
   "outputs": [
    {
     "name": "stdout",
     "output_type": "stream",
     "text": [
      "Checking that endometrial index is up-to-date...\r"
     ]
    },
    {
     "name": "stderr",
     "output_type": "stream",
     "text": [
      "cptac warning: The GBM dataset is under publication embargo until March 01, 2021. CPTAC is a community resource project and data are made available rapidly after generation for community research use. The embargo allows exploring and utilizing the data, but analysis may not be published until after the embargo date. Please see https://proteomics.cancer.gov/data-portal/about/data-use-agreement or enter cptac.embargo() to open the webpage for more details. (C:\\Users\\brittany henderson\\Anaconda3\\envs\\Research\\lib\\site-packages\\ipykernel_launcher.py, line 1)\n"
     ]
    },
    {
     "name": "stdout",
     "output_type": "stream",
     "text": [
      "Checking that lscc index is up-to-date...       \r"
     ]
    },
    {
     "name": "stderr",
     "output_type": "stream",
     "text": [
      "cptac warning: The LUAD dataset is under publication embargo until July 01, 2020. CPTAC is a community resource project and data are made available rapidly after generation for community research use. The embargo allows exploring and utilizing the data, but analysis may not be published until after the embargo date. Please see https://proteomics.cancer.gov/data-portal/about/data-use-agreement or enter cptac.embargo() to open the webpage for more details. (C:\\Users\\brittany henderson\\Anaconda3\\envs\\Research\\lib\\site-packages\\ipykernel_launcher.py, line 4)\n"
     ]
    },
    {
     "name": "stdout",
     "output_type": "stream",
     "text": [
      "                                            \r"
     ]
    }
   ],
   "source": [
    "g = cptac.Gbm()\n",
    "en = cptac.Endometrial()\n",
    "h = cptac.Hnscc()\n",
    "l = cptac.Luad()\n",
    "ls = cptac.Lscc()\n",
    "o = cptac.Ovarian()\n",
    "col = cptac.Colon()\n",
    "b = cptac.Brca()"
   ]
  },
  {
   "cell_type": "code",
   "execution_count": 5,
   "metadata": {},
   "outputs": [
    {
     "name": "stdout",
     "output_type": "stream",
     "text": [
      "46\n"
     ]
    }
   ],
   "source": [
    "ip = u.get_interacting_proteins('PTEN')\n",
    "\n",
    "# RAS-RAF-MEK-ERK MAPK Pathway\n",
    "ip.append('GRB2')\n",
    "ip.append('SHC1') # (SHC in paper)\n",
    "ip.append('SOS1') # (SOS in the paper) *GEF for RAS \"recruitment to the plasma membrane requires GRB2, PIP2, PA\" \n",
    "ip.append('KRAS') # (RAS in paper) possibly add \"RAS regulators such as PHLPP, SHP-2, and NF-2\"\n",
    "ip.append('RAF1') # (RAF-1 in paper)\n",
    "ip.append('MAP2K1') #(MEK1 protein name in paper)\n",
    "ip.append('MAP2K2 ') # (MEK2 in paper)\n",
    "ip.append('MAPK3') # (ERK1 in paper) https://www.uniprot.org/uniprot/P27361\n",
    "ip.append('MAPK1') # (ERK2 in paper)\n",
    "\n",
    "#mTOR Pathway\n",
    "ip.append('GAB1')\n",
    "#ip.append('PI3K')\n",
    "ip.append('AKT1') # (AKT in paper) *binds PIP3 (see info for isoform AKT1 at: https://www.uniprot.org/uniprot/P31749)\n",
    "ip.append('PDK1') #activate AKT\n",
    "ip.append('MTORC2') #activate AKT\n",
    "ip.append('GSK3B') # (GSK-3B in paper)inhibit cyclin D (akt inhibits GSK3B)\n",
    "ip.append('FOXO1') #(FOXO in paper)\n",
    "ip.append('TSC2') # repress mTOR, AKT inhibits\n",
    "ip.append('MTOR') # promote cyclin D\n",
    "ip.append('BAD')\n",
    "ip.append('CAS9')\n",
    "\n",
    "ip.append('CCND1') # Cyclin D1 -> G1/S \n",
    "\n",
    "\n",
    "singles = set(ip)\n",
    "ip = list(singles)\n",
    "print(len(ip))"
   ]
  },
  {
   "cell_type": "markdown",
   "metadata": {},
   "source": [
    "# Gbm"
   ]
  },
  {
   "cell_type": "markdown",
   "metadata": {},
   "source": [
    "Part 1: Format data frame using all_prot_format_df. This returns a dataframe with proteomics and a Mutation column containing only PTEN cnv deletions and wildtype tumors. "
   ]
  },
  {
   "cell_type": "code",
   "execution_count": 6,
   "metadata": {},
   "outputs": [
    {
     "name": "stderr",
     "output_type": "stream",
     "text": [
      "cptac warning: In joining the somatic_mutation table, no mutations were found for the following samples, so they were filled with Wildtype_Tumor or Wildtype_Normal: 72 samples for the PTEN gene (C:\\Users\\brittany henderson\\Anaconda3\\envs\\Research\\lib\\site-packages\\cptac\\dataset.py, line 383)\n",
      "cptac warning: CNV data was not found for the following samples, so CNV data columns were filled with NaN for these samples: C3L-01834 (C:\\Users\\brittany henderson\\Anaconda3\\envs\\Research\\lib\\site-packages\\cptac\\dataset.py, line 383)\n",
      "cptac warning: The following columns were not found in the proteomics dataframe, so they were inserted into joined table, but filled with NaN: CAS9, MAP2K2 , MTORC2, PIK3R3 (C:\\Users\\brittany henderson\\Anaconda3\\envs\\Research\\lib\\site-packages\\ipykernel_launcher.py, line 11)\n",
      "cptac warning: In joining the somatic_mutation table, no mutations were found for the following samples, so they were filled with Wildtype_Tumor or Wildtype_Normal: 82 samples for the PTEN gene (C:\\Users\\brittany henderson\\Anaconda3\\envs\\Research\\lib\\site-packages\\ipykernel_launcher.py, line 11)\n"
     ]
    },
    {
     "data": {
      "text/html": [
       "<div>\n",
       "<style scoped>\n",
       "    .dataframe tbody tr th:only-of-type {\n",
       "        vertical-align: middle;\n",
       "    }\n",
       "\n",
       "    .dataframe tbody tr th {\n",
       "        vertical-align: top;\n",
       "    }\n",
       "\n",
       "    .dataframe thead th {\n",
       "        text-align: right;\n",
       "    }\n",
       "</style>\n",
       "<table border=\"1\" class=\"dataframe\">\n",
       "  <thead>\n",
       "    <tr style=\"text-align: right;\">\n",
       "      <th>Name</th>\n",
       "      <th>PIK3R2_proteomics</th>\n",
       "      <th>PIK3C3_proteomics</th>\n",
       "      <th>SLC9A3R1_proteomics</th>\n",
       "      <th>GAB1_proteomics</th>\n",
       "      <th>MAGI3_proteomics</th>\n",
       "      <th>BAD_proteomics</th>\n",
       "      <th>XIAP_proteomics</th>\n",
       "      <th>RAF1_proteomics</th>\n",
       "      <th>SHC1_proteomics</th>\n",
       "      <th>CSNK2A1_proteomics</th>\n",
       "      <th>...</th>\n",
       "      <th>PTEN_proteomics</th>\n",
       "      <th>PREX2_proteomics</th>\n",
       "      <th>ROCK1_proteomics</th>\n",
       "      <th>KRAS_proteomics</th>\n",
       "      <th>GRB2_proteomics</th>\n",
       "      <th>GSK3B_proteomics</th>\n",
       "      <th>CCND1_proteomics</th>\n",
       "      <th>USP13_proteomics</th>\n",
       "      <th>MTOR_proteomics</th>\n",
       "      <th>Mutation</th>\n",
       "    </tr>\n",
       "    <tr>\n",
       "      <th>Patient_ID</th>\n",
       "      <th></th>\n",
       "      <th></th>\n",
       "      <th></th>\n",
       "      <th></th>\n",
       "      <th></th>\n",
       "      <th></th>\n",
       "      <th></th>\n",
       "      <th></th>\n",
       "      <th></th>\n",
       "      <th></th>\n",
       "      <th></th>\n",
       "      <th></th>\n",
       "      <th></th>\n",
       "      <th></th>\n",
       "      <th></th>\n",
       "      <th></th>\n",
       "      <th></th>\n",
       "      <th></th>\n",
       "      <th></th>\n",
       "      <th></th>\n",
       "      <th></th>\n",
       "    </tr>\n",
       "  </thead>\n",
       "  <tbody>\n",
       "    <tr>\n",
       "      <th>C3L-00104</th>\n",
       "      <td>-0.068085</td>\n",
       "      <td>0.081642</td>\n",
       "      <td>0.616424</td>\n",
       "      <td>-0.136896</td>\n",
       "      <td>0.311427</td>\n",
       "      <td>0.216721</td>\n",
       "      <td>-0.069611</td>\n",
       "      <td>-0.005546</td>\n",
       "      <td>-0.095985</td>\n",
       "      <td>0.221578</td>\n",
       "      <td>...</td>\n",
       "      <td>-0.431991</td>\n",
       "      <td>-0.285658</td>\n",
       "      <td>-0.319701</td>\n",
       "      <td>-0.023009</td>\n",
       "      <td>0.005740</td>\n",
       "      <td>0.015129</td>\n",
       "      <td>-0.135982</td>\n",
       "      <td>-0.423661</td>\n",
       "      <td>0.136882</td>\n",
       "      <td>Deletion</td>\n",
       "    </tr>\n",
       "    <tr>\n",
       "      <th>C3L-00365</th>\n",
       "      <td>0.079710</td>\n",
       "      <td>-0.027524</td>\n",
       "      <td>0.450206</td>\n",
       "      <td>0.696533</td>\n",
       "      <td>0.259059</td>\n",
       "      <td>0.086908</td>\n",
       "      <td>0.028903</td>\n",
       "      <td>-0.148462</td>\n",
       "      <td>0.003049</td>\n",
       "      <td>0.169391</td>\n",
       "      <td>...</td>\n",
       "      <td>-0.265044</td>\n",
       "      <td>-0.077928</td>\n",
       "      <td>0.013908</td>\n",
       "      <td>0.088499</td>\n",
       "      <td>-0.753223</td>\n",
       "      <td>-0.200441</td>\n",
       "      <td>NaN</td>\n",
       "      <td>0.155746</td>\n",
       "      <td>0.184699</td>\n",
       "      <td>Deletion</td>\n",
       "    </tr>\n",
       "    <tr>\n",
       "      <th>C3L-00674</th>\n",
       "      <td>0.078025</td>\n",
       "      <td>0.062739</td>\n",
       "      <td>0.307356</td>\n",
       "      <td>0.075197</td>\n",
       "      <td>0.128442</td>\n",
       "      <td>-0.400225</td>\n",
       "      <td>-0.479773</td>\n",
       "      <td>-0.283019</td>\n",
       "      <td>0.051279</td>\n",
       "      <td>-0.208625</td>\n",
       "      <td>...</td>\n",
       "      <td>0.390190</td>\n",
       "      <td>-0.189948</td>\n",
       "      <td>-0.048311</td>\n",
       "      <td>-0.071808</td>\n",
       "      <td>0.231245</td>\n",
       "      <td>0.011714</td>\n",
       "      <td>-0.092478</td>\n",
       "      <td>-0.021276</td>\n",
       "      <td>-0.285577</td>\n",
       "      <td>Deletion</td>\n",
       "    </tr>\n",
       "    <tr>\n",
       "      <th>C3L-00677</th>\n",
       "      <td>0.024117</td>\n",
       "      <td>0.087752</td>\n",
       "      <td>-0.040643</td>\n",
       "      <td>0.020883</td>\n",
       "      <td>-0.099551</td>\n",
       "      <td>0.618380</td>\n",
       "      <td>-0.205255</td>\n",
       "      <td>-0.258855</td>\n",
       "      <td>0.288725</td>\n",
       "      <td>-0.292558</td>\n",
       "      <td>...</td>\n",
       "      <td>-0.915526</td>\n",
       "      <td>-0.455972</td>\n",
       "      <td>-0.046639</td>\n",
       "      <td>-0.438601</td>\n",
       "      <td>-0.209354</td>\n",
       "      <td>-0.228395</td>\n",
       "      <td>-0.454459</td>\n",
       "      <td>-0.322976</td>\n",
       "      <td>0.093500</td>\n",
       "      <td>Deletion</td>\n",
       "    </tr>\n",
       "    <tr>\n",
       "      <th>C3L-01040</th>\n",
       "      <td>-0.029297</td>\n",
       "      <td>-0.057555</td>\n",
       "      <td>-0.155468</td>\n",
       "      <td>0.035455</td>\n",
       "      <td>-0.017146</td>\n",
       "      <td>0.557178</td>\n",
       "      <td>-0.123213</td>\n",
       "      <td>-0.263888</td>\n",
       "      <td>-0.337079</td>\n",
       "      <td>0.132716</td>\n",
       "      <td>...</td>\n",
       "      <td>0.680291</td>\n",
       "      <td>1.097753</td>\n",
       "      <td>0.237764</td>\n",
       "      <td>0.108811</td>\n",
       "      <td>-0.471144</td>\n",
       "      <td>0.302245</td>\n",
       "      <td>0.272387</td>\n",
       "      <td>-0.049040</td>\n",
       "      <td>0.023296</td>\n",
       "      <td>Deletion</td>\n",
       "    </tr>\n",
       "  </tbody>\n",
       "</table>\n",
       "<p>5 rows × 43 columns</p>\n",
       "</div>"
      ],
      "text/plain": [
       "Name        PIK3R2_proteomics  PIK3C3_proteomics  SLC9A3R1_proteomics  \\\n",
       "Patient_ID                                                              \n",
       "C3L-00104           -0.068085           0.081642             0.616424   \n",
       "C3L-00365            0.079710          -0.027524             0.450206   \n",
       "C3L-00674            0.078025           0.062739             0.307356   \n",
       "C3L-00677            0.024117           0.087752            -0.040643   \n",
       "C3L-01040           -0.029297          -0.057555            -0.155468   \n",
       "\n",
       "Name        GAB1_proteomics  MAGI3_proteomics  BAD_proteomics  \\\n",
       "Patient_ID                                                      \n",
       "C3L-00104         -0.136896          0.311427        0.216721   \n",
       "C3L-00365          0.696533          0.259059        0.086908   \n",
       "C3L-00674          0.075197          0.128442       -0.400225   \n",
       "C3L-00677          0.020883         -0.099551        0.618380   \n",
       "C3L-01040          0.035455         -0.017146        0.557178   \n",
       "\n",
       "Name        XIAP_proteomics  RAF1_proteomics  SHC1_proteomics  \\\n",
       "Patient_ID                                                      \n",
       "C3L-00104         -0.069611        -0.005546        -0.095985   \n",
       "C3L-00365          0.028903        -0.148462         0.003049   \n",
       "C3L-00674         -0.479773        -0.283019         0.051279   \n",
       "C3L-00677         -0.205255        -0.258855         0.288725   \n",
       "C3L-01040         -0.123213        -0.263888        -0.337079   \n",
       "\n",
       "Name        CSNK2A1_proteomics  ...  PTEN_proteomics  PREX2_proteomics  \\\n",
       "Patient_ID                      ...                                      \n",
       "C3L-00104             0.221578  ...        -0.431991         -0.285658   \n",
       "C3L-00365             0.169391  ...        -0.265044         -0.077928   \n",
       "C3L-00674            -0.208625  ...         0.390190         -0.189948   \n",
       "C3L-00677            -0.292558  ...        -0.915526         -0.455972   \n",
       "C3L-01040             0.132716  ...         0.680291          1.097753   \n",
       "\n",
       "Name        ROCK1_proteomics  KRAS_proteomics  GRB2_proteomics  \\\n",
       "Patient_ID                                                       \n",
       "C3L-00104          -0.319701        -0.023009         0.005740   \n",
       "C3L-00365           0.013908         0.088499        -0.753223   \n",
       "C3L-00674          -0.048311        -0.071808         0.231245   \n",
       "C3L-00677          -0.046639        -0.438601        -0.209354   \n",
       "C3L-01040           0.237764         0.108811        -0.471144   \n",
       "\n",
       "Name        GSK3B_proteomics  CCND1_proteomics  USP13_proteomics  \\\n",
       "Patient_ID                                                         \n",
       "C3L-00104           0.015129         -0.135982         -0.423661   \n",
       "C3L-00365          -0.200441               NaN          0.155746   \n",
       "C3L-00674           0.011714         -0.092478         -0.021276   \n",
       "C3L-00677          -0.228395         -0.454459         -0.322976   \n",
       "C3L-01040           0.302245          0.272387         -0.049040   \n",
       "\n",
       "Name        MTOR_proteomics  Mutation  \n",
       "Patient_ID                             \n",
       "C3L-00104          0.136882  Deletion  \n",
       "C3L-00365          0.184699  Deletion  \n",
       "C3L-00674         -0.285577  Deletion  \n",
       "C3L-00677          0.093500  Deletion  \n",
       "C3L-01040          0.023296  Deletion  \n",
       "\n",
       "[5 rows x 43 columns]"
      ]
     },
     "execution_count": 6,
     "metadata": {},
     "output_type": "execute_result"
    }
   ],
   "source": [
    "gene = 'PTEN'\n",
    "\n",
    "g_del_wt = all_prot_format_df(g, ip)\n",
    "g_del_wt = g_del_wt.dropna(axis='columns', how='all')\n",
    "g_del_wt.head()"
   ]
  },
  {
   "cell_type": "markdown",
   "metadata": {},
   "source": [
    "Part 2: Run T-tests. Create a data frame of just significant comparisons and another data frame for all comparisons. A moderately stringent correction is used (FDR_BH)."
   ]
  },
  {
   "cell_type": "code",
   "execution_count": 7,
   "metadata": {},
   "outputs": [
    {
     "name": "stdout",
     "output_type": "stream",
     "text": [
      "significant pvals: \n",
      "           Comparison       P_Value\n",
      "0    PTEN_proteomics  1.219523e-07\n",
      "1   MAPK3_proteomics  1.020660e-06\n",
      "2  PIK3CD_proteomics  1.030815e-03\n",
      "3    GRB2_proteomics  1.089951e-03\n",
      "4  PIK3C3_proteomics  1.225949e-03\n",
      "5    USP7_proteomics  4.017792e-03\n",
      "6  MAP2K1_proteomics  4.138456e-03\n",
      "7  PIK3R1_proteomics  4.282296e-03\n"
     ]
    }
   ],
   "source": [
    "cols = list(g_del_wt.columns[:-1])\n",
    "\n",
    "# Get only sig genes\n",
    "g_sig = u.wrap_ttest(g_del_wt, 'Mutation', cols, correction_method = 'fdr_bh')\n",
    "# Create list of sig genes\n",
    "if g_sig is not None:\n",
    "    g_sig_list = list(g_sig.Comparison)\n",
    "else: \n",
    "    g_sig_list = None\n",
    "print('significant pvals: \\n',g_sig)\n",
    "\n",
    "# Get all pvals\n",
    "g = u.wrap_ttest(g_del_wt, 'Mutation', cols, return_all = True, correction_method = 'fdr_bh')\n",
    "g_pval = g.rename(columns = {'Comparison': 'Proteomics','P_Value': 'Gbm_P_Value'})"
   ]
  },
  {
   "cell_type": "markdown",
   "metadata": {},
   "source": [
    "Part 3: Create the differences in median df. (median of wildtype tumors - median of cnv deletions)"
   ]
  },
  {
   "cell_type": "code",
   "execution_count": 8,
   "metadata": {},
   "outputs": [],
   "source": [
    "g_med = get_change_in_medians_df(g, \"Gbm\", g_del_wt, cols)"
   ]
  },
  {
   "cell_type": "markdown",
   "metadata": {},
   "source": [
    "Part 4: Merge the p-values and the differences in median dfs."
   ]
  },
  {
   "cell_type": "code",
   "execution_count": 9,
   "metadata": {},
   "outputs": [
    {
     "data": {
      "text/html": [
       "<div>\n",
       "<style scoped>\n",
       "    .dataframe tbody tr th:only-of-type {\n",
       "        vertical-align: middle;\n",
       "    }\n",
       "\n",
       "    .dataframe tbody tr th {\n",
       "        vertical-align: top;\n",
       "    }\n",
       "\n",
       "    .dataframe thead th {\n",
       "        text-align: right;\n",
       "    }\n",
       "</style>\n",
       "<table border=\"1\" class=\"dataframe\">\n",
       "  <thead>\n",
       "    <tr style=\"text-align: right;\">\n",
       "      <th></th>\n",
       "      <th>Proteomics</th>\n",
       "      <th>Gbm_P_Value</th>\n",
       "      <th>Gbm_Median</th>\n",
       "    </tr>\n",
       "  </thead>\n",
       "  <tbody>\n",
       "    <tr>\n",
       "      <th>0</th>\n",
       "      <td>PTEN_proteomics</td>\n",
       "      <td>1.219523e-07</td>\n",
       "      <td>-0.511726</td>\n",
       "    </tr>\n",
       "    <tr>\n",
       "      <th>1</th>\n",
       "      <td>MAPK3_proteomics</td>\n",
       "      <td>1.020660e-06</td>\n",
       "      <td>-0.665105</td>\n",
       "    </tr>\n",
       "    <tr>\n",
       "      <th>2</th>\n",
       "      <td>PIK3CD_proteomics</td>\n",
       "      <td>1.030815e-03</td>\n",
       "      <td>-0.492099</td>\n",
       "    </tr>\n",
       "    <tr>\n",
       "      <th>3</th>\n",
       "      <td>GRB2_proteomics</td>\n",
       "      <td>1.089951e-03</td>\n",
       "      <td>-0.312146</td>\n",
       "    </tr>\n",
       "    <tr>\n",
       "      <th>4</th>\n",
       "      <td>PIK3C3_proteomics</td>\n",
       "      <td>1.225949e-03</td>\n",
       "      <td>-0.102518</td>\n",
       "    </tr>\n",
       "  </tbody>\n",
       "</table>\n",
       "</div>"
      ],
      "text/plain": [
       "          Proteomics   Gbm_P_Value  Gbm_Median\n",
       "0    PTEN_proteomics  1.219523e-07   -0.511726\n",
       "1   MAPK3_proteomics  1.020660e-06   -0.665105\n",
       "2  PIK3CD_proteomics  1.030815e-03   -0.492099\n",
       "3    GRB2_proteomics  1.089951e-03   -0.312146\n",
       "4  PIK3C3_proteomics  1.225949e-03   -0.102518"
      ]
     },
     "execution_count": 9,
     "metadata": {},
     "output_type": "execute_result"
    }
   ],
   "source": [
    "g_merged = g_pval.merge(g_med, on='Proteomics',how='outer')\n",
    "\n",
    "g_merged.head()"
   ]
  },
  {
   "cell_type": "markdown",
   "metadata": {},
   "source": [
    "# Repeat for other cancers."
   ]
  },
  {
   "cell_type": "markdown",
   "metadata": {},
   "source": [
    "# Ovarian"
   ]
  },
  {
   "cell_type": "code",
   "execution_count": 10,
   "metadata": {},
   "outputs": [
    {
     "name": "stderr",
     "output_type": "stream",
     "text": [
      "cptac warning: In joining the somatic_mutation table, no mutations were found for the following samples, so they were filled with Wildtype_Tumor or Wildtype_Normal: 98 samples for the PTEN gene (C:\\Users\\brittany henderson\\Anaconda3\\envs\\Research\\lib\\site-packages\\cptac\\dataset.py, line 383)\n",
      "cptac warning: CNV data was not found for the following samples, so CNV data columns were filled with NaN for these samples: 01OV029, 02OV015 (C:\\Users\\brittany henderson\\Anaconda3\\envs\\Research\\lib\\site-packages\\cptac\\dataset.py, line 383)\n",
      "cptac warning: The following columns were not found in the proteomics dataframe, so they were inserted into joined table, but filled with NaN: CAS9, CCND1, MAP2K2 , MDM2, MTORC2, PIK3R3 (C:\\Users\\brittany henderson\\Anaconda3\\envs\\Research\\lib\\site-packages\\ipykernel_launcher.py, line 11)\n",
      "cptac warning: In joining the somatic_mutation table, no mutations were found for the following samples, so they were filled with Wildtype_Tumor or Wildtype_Normal: 99 samples for the PTEN gene (C:\\Users\\brittany henderson\\Anaconda3\\envs\\Research\\lib\\site-packages\\ipykernel_launcher.py, line 11)\n",
      "cptac warning: Due to dropping the specified levels, dataframe now has 4 duplicated column headers. (C:\\Users\\brittany henderson\\Anaconda3\\envs\\Research\\lib\\site-packages\\ipykernel_launcher.py, line 14)\n"
     ]
    }
   ],
   "source": [
    "gene = 'PTEN'\n",
    "\n",
    "o_del_wt = all_prot_format_df(o, ip)\n",
    "o_del_wt = o_del_wt.dropna(axis='columns', how='all')\n",
    "# Drop duplicate columns - FIX\n",
    "o_del_wt = o_del_wt.loc[:,~o_del_wt.columns.duplicated()]"
   ]
  },
  {
   "cell_type": "code",
   "execution_count": 11,
   "metadata": {},
   "outputs": [
    {
     "name": "stdout",
     "output_type": "stream",
     "text": [
      "significant pvals: \n",
      "         Comparison   P_Value\n",
      "0  PTEN_proteomics  0.000909\n"
     ]
    }
   ],
   "source": [
    "cols = list(o_del_wt.columns[:-1])\n",
    "\n",
    "# Get only sig sites\n",
    "o_sig = u.wrap_ttest(o_del_wt, 'Mutation', cols, correction_method = 'fdr_bh')\n",
    "if o_sig is not None:\n",
    "    o_sig_list = list(o_sig.Comparison)\n",
    "else: \n",
    "    o_sig_list = None\n",
    "print('significant pvals: \\n',o_sig)\n",
    "\n",
    "# Get all pvals\n",
    "o = u.wrap_ttest(o_del_wt, 'Mutation', cols, return_all = True, correction_method = 'fdr_bh')\n",
    "o_pval = o.rename(columns = {'Comparison': 'Proteomics','P_Value': 'Ov_P_Value'})"
   ]
  },
  {
   "cell_type": "code",
   "execution_count": 12,
   "metadata": {},
   "outputs": [],
   "source": [
    "o_med = get_change_in_medians_df(o, \"Ov\", o_del_wt, cols)"
   ]
  },
  {
   "cell_type": "code",
   "execution_count": 13,
   "metadata": {},
   "outputs": [],
   "source": [
    "o_merged = o_pval.merge(o_med, on='Proteomics',how='outer')"
   ]
  },
  {
   "cell_type": "markdown",
   "metadata": {},
   "source": [
    "# Breast"
   ]
  },
  {
   "cell_type": "code",
   "execution_count": 14,
   "metadata": {},
   "outputs": [
    {
     "name": "stderr",
     "output_type": "stream",
     "text": [
      "cptac warning: In joining the somatic_mutation table, no mutations were found for the following samples, so they were filled with Wildtype_Tumor or Wildtype_Normal: 113 samples for the PTEN gene (C:\\Users\\brittany henderson\\Anaconda3\\envs\\Research\\lib\\site-packages\\cptac\\dataset.py, line 383)\n",
      "cptac warning: The following columns were not found in the proteomics dataframe, so they were inserted into joined table, but filled with NaN: CAS9, CSNK2A1, MAP2K2 , MDM2, MTORC2, PIK3R3 (C:\\Users\\brittany henderson\\Anaconda3\\envs\\Research\\lib\\site-packages\\ipykernel_launcher.py, line 11)\n",
      "cptac warning: In joining the somatic_mutation table, no mutations were found for the following samples, so they were filled with Wildtype_Tumor or Wildtype_Normal: 113 samples for the PTEN gene (C:\\Users\\brittany henderson\\Anaconda3\\envs\\Research\\lib\\site-packages\\ipykernel_launcher.py, line 11)\n",
      "cptac warning: Due to dropping the specified levels, dataframe now has 2 duplicated column headers. (C:\\Users\\brittany henderson\\Anaconda3\\envs\\Research\\lib\\site-packages\\ipykernel_launcher.py, line 14)\n"
     ]
    },
    {
     "data": {
      "text/html": [
       "<div>\n",
       "<style scoped>\n",
       "    .dataframe tbody tr th:only-of-type {\n",
       "        vertical-align: middle;\n",
       "    }\n",
       "\n",
       "    .dataframe tbody tr th {\n",
       "        vertical-align: top;\n",
       "    }\n",
       "\n",
       "    .dataframe thead th {\n",
       "        text-align: right;\n",
       "    }\n",
       "</style>\n",
       "<table border=\"1\" class=\"dataframe\">\n",
       "  <thead>\n",
       "    <tr style=\"text-align: right;\">\n",
       "      <th>Name</th>\n",
       "      <th>AKT1_proteomics</th>\n",
       "      <th>BAD_proteomics</th>\n",
       "      <th>CCND1_proteomics</th>\n",
       "      <th>CSNK2A2_proteomics</th>\n",
       "      <th>EGFR_proteomics</th>\n",
       "      <th>FOXO1_proteomics</th>\n",
       "      <th>GAB1_proteomics</th>\n",
       "      <th>GRB2_proteomics</th>\n",
       "      <th>GSK3B_proteomics</th>\n",
       "      <th>INPP4B_proteomics</th>\n",
       "      <th>...</th>\n",
       "      <th>ROCK1_proteomics</th>\n",
       "      <th>SHC1_proteomics</th>\n",
       "      <th>SLC9A3R1_proteomics</th>\n",
       "      <th>SOS1_proteomics</th>\n",
       "      <th>TP53_proteomics</th>\n",
       "      <th>TSC2_proteomics</th>\n",
       "      <th>USP13_proteomics</th>\n",
       "      <th>USP7_proteomics</th>\n",
       "      <th>XIAP_proteomics</th>\n",
       "      <th>Mutation</th>\n",
       "    </tr>\n",
       "    <tr>\n",
       "      <th>Patient_ID</th>\n",
       "      <th></th>\n",
       "      <th></th>\n",
       "      <th></th>\n",
       "      <th></th>\n",
       "      <th></th>\n",
       "      <th></th>\n",
       "      <th></th>\n",
       "      <th></th>\n",
       "      <th></th>\n",
       "      <th></th>\n",
       "      <th></th>\n",
       "      <th></th>\n",
       "      <th></th>\n",
       "      <th></th>\n",
       "      <th></th>\n",
       "      <th></th>\n",
       "      <th></th>\n",
       "      <th></th>\n",
       "      <th></th>\n",
       "      <th></th>\n",
       "      <th></th>\n",
       "    </tr>\n",
       "  </thead>\n",
       "  <tbody>\n",
       "    <tr>\n",
       "      <th>CPT000814</th>\n",
       "      <td>-1.3052</td>\n",
       "      <td>-3.4476</td>\n",
       "      <td>-0.9314</td>\n",
       "      <td>0.2406</td>\n",
       "      <td>-0.4834</td>\n",
       "      <td>-3.7568</td>\n",
       "      <td>-1.1271</td>\n",
       "      <td>-0.2427</td>\n",
       "      <td>1.5534</td>\n",
       "      <td>-3.0446</td>\n",
       "      <td>...</td>\n",
       "      <td>-1.1252</td>\n",
       "      <td>1.5515</td>\n",
       "      <td>-1.7943</td>\n",
       "      <td>0.1740</td>\n",
       "      <td>2.0719</td>\n",
       "      <td>-0.3132</td>\n",
       "      <td>0.8608</td>\n",
       "      <td>0.1114</td>\n",
       "      <td>-0.2036</td>\n",
       "      <td>Wildtype_Tumor</td>\n",
       "    </tr>\n",
       "    <tr>\n",
       "      <th>CPT001846</th>\n",
       "      <td>-1.0153</td>\n",
       "      <td>-2.9549</td>\n",
       "      <td>-1.3726</td>\n",
       "      <td>0.3962</td>\n",
       "      <td>4.1062</td>\n",
       "      <td>1.4313</td>\n",
       "      <td>-0.7836</td>\n",
       "      <td>0.0424</td>\n",
       "      <td>-0.2608</td>\n",
       "      <td>-1.6078</td>\n",
       "      <td>...</td>\n",
       "      <td>-0.0308</td>\n",
       "      <td>1.1821</td>\n",
       "      <td>-2.6813</td>\n",
       "      <td>0.0843</td>\n",
       "      <td>-1.0990</td>\n",
       "      <td>0.1296</td>\n",
       "      <td>0.1383</td>\n",
       "      <td>-0.5048</td>\n",
       "      <td>0.6489</td>\n",
       "      <td>Wildtype_Tumor</td>\n",
       "    </tr>\n",
       "    <tr>\n",
       "      <th>X01BR001</th>\n",
       "      <td>-0.9244</td>\n",
       "      <td>-0.0662</td>\n",
       "      <td>-0.4825</td>\n",
       "      <td>-0.4782</td>\n",
       "      <td>1.2191</td>\n",
       "      <td>0.1388</td>\n",
       "      <td>0.2541</td>\n",
       "      <td>-0.5892</td>\n",
       "      <td>-0.5551</td>\n",
       "      <td>-1.8425</td>\n",
       "      <td>...</td>\n",
       "      <td>0.8348</td>\n",
       "      <td>1.3002</td>\n",
       "      <td>-1.4497</td>\n",
       "      <td>0.0299</td>\n",
       "      <td>0.8946</td>\n",
       "      <td>-0.8476</td>\n",
       "      <td>-1.0077</td>\n",
       "      <td>-0.0277</td>\n",
       "      <td>0.3672</td>\n",
       "      <td>Wildtype_Tumor</td>\n",
       "    </tr>\n",
       "    <tr>\n",
       "      <th>X01BR009</th>\n",
       "      <td>-1.7569</td>\n",
       "      <td>1.8181</td>\n",
       "      <td>-1.8982</td>\n",
       "      <td>0.4980</td>\n",
       "      <td>1.6974</td>\n",
       "      <td>0.3465</td>\n",
       "      <td>-0.1929</td>\n",
       "      <td>-0.3572</td>\n",
       "      <td>0.4441</td>\n",
       "      <td>-4.2738</td>\n",
       "      <td>...</td>\n",
       "      <td>0.4158</td>\n",
       "      <td>0.0152</td>\n",
       "      <td>-1.8520</td>\n",
       "      <td>-0.1543</td>\n",
       "      <td>2.4935</td>\n",
       "      <td>-1.0712</td>\n",
       "      <td>-0.3624</td>\n",
       "      <td>-0.4882</td>\n",
       "      <td>-0.9145</td>\n",
       "      <td>Wildtype_Tumor</td>\n",
       "    </tr>\n",
       "    <tr>\n",
       "      <th>X01BR010</th>\n",
       "      <td>0.3344</td>\n",
       "      <td>-0.5176</td>\n",
       "      <td>-0.6633</td>\n",
       "      <td>0.2158</td>\n",
       "      <td>2.4878</td>\n",
       "      <td>1.4308</td>\n",
       "      <td>-0.6238</td>\n",
       "      <td>-1.2560</td>\n",
       "      <td>0.1244</td>\n",
       "      <td>0.2529</td>\n",
       "      <td>...</td>\n",
       "      <td>-0.2732</td>\n",
       "      <td>0.2677</td>\n",
       "      <td>-0.4880</td>\n",
       "      <td>-0.1472</td>\n",
       "      <td>-1.5450</td>\n",
       "      <td>0.4307</td>\n",
       "      <td>-2.2463</td>\n",
       "      <td>-0.8683</td>\n",
       "      <td>0.0849</td>\n",
       "      <td>Deletion</td>\n",
       "    </tr>\n",
       "  </tbody>\n",
       "</table>\n",
       "<p>5 rows × 41 columns</p>\n",
       "</div>"
      ],
      "text/plain": [
       "Name        AKT1_proteomics  BAD_proteomics  CCND1_proteomics  \\\n",
       "Patient_ID                                                      \n",
       "CPT000814           -1.3052         -3.4476           -0.9314   \n",
       "CPT001846           -1.0153         -2.9549           -1.3726   \n",
       "X01BR001            -0.9244         -0.0662           -0.4825   \n",
       "X01BR009            -1.7569          1.8181           -1.8982   \n",
       "X01BR010             0.3344         -0.5176           -0.6633   \n",
       "\n",
       "Name        CSNK2A2_proteomics  EGFR_proteomics  FOXO1_proteomics  \\\n",
       "Patient_ID                                                          \n",
       "CPT000814               0.2406          -0.4834           -3.7568   \n",
       "CPT001846               0.3962           4.1062            1.4313   \n",
       "X01BR001               -0.4782           1.2191            0.1388   \n",
       "X01BR009                0.4980           1.6974            0.3465   \n",
       "X01BR010                0.2158           2.4878            1.4308   \n",
       "\n",
       "Name        GAB1_proteomics  GRB2_proteomics  GSK3B_proteomics  \\\n",
       "Patient_ID                                                       \n",
       "CPT000814           -1.1271          -0.2427            1.5534   \n",
       "CPT001846           -0.7836           0.0424           -0.2608   \n",
       "X01BR001             0.2541          -0.5892           -0.5551   \n",
       "X01BR009            -0.1929          -0.3572            0.4441   \n",
       "X01BR010            -0.6238          -1.2560            0.1244   \n",
       "\n",
       "Name        INPP4B_proteomics  ...  ROCK1_proteomics  SHC1_proteomics  \\\n",
       "Patient_ID                     ...                                      \n",
       "CPT000814             -3.0446  ...           -1.1252           1.5515   \n",
       "CPT001846             -1.6078  ...           -0.0308           1.1821   \n",
       "X01BR001              -1.8425  ...            0.8348           1.3002   \n",
       "X01BR009              -4.2738  ...            0.4158           0.0152   \n",
       "X01BR010               0.2529  ...           -0.2732           0.2677   \n",
       "\n",
       "Name        SLC9A3R1_proteomics  SOS1_proteomics  TP53_proteomics  \\\n",
       "Patient_ID                                                          \n",
       "CPT000814               -1.7943           0.1740           2.0719   \n",
       "CPT001846               -2.6813           0.0843          -1.0990   \n",
       "X01BR001                -1.4497           0.0299           0.8946   \n",
       "X01BR009                -1.8520          -0.1543           2.4935   \n",
       "X01BR010                -0.4880          -0.1472          -1.5450   \n",
       "\n",
       "Name        TSC2_proteomics  USP13_proteomics  USP7_proteomics  \\\n",
       "Patient_ID                                                       \n",
       "CPT000814           -0.3132            0.8608           0.1114   \n",
       "CPT001846            0.1296            0.1383          -0.5048   \n",
       "X01BR001            -0.8476           -1.0077          -0.0277   \n",
       "X01BR009            -1.0712           -0.3624          -0.4882   \n",
       "X01BR010             0.4307           -2.2463          -0.8683   \n",
       "\n",
       "Name        XIAP_proteomics        Mutation  \n",
       "Patient_ID                                   \n",
       "CPT000814           -0.2036  Wildtype_Tumor  \n",
       "CPT001846            0.6489  Wildtype_Tumor  \n",
       "X01BR001             0.3672  Wildtype_Tumor  \n",
       "X01BR009            -0.9145  Wildtype_Tumor  \n",
       "X01BR010             0.0849        Deletion  \n",
       "\n",
       "[5 rows x 41 columns]"
      ]
     },
     "execution_count": 14,
     "metadata": {},
     "output_type": "execute_result"
    }
   ],
   "source": [
    "gene = 'PTEN'\n",
    "\n",
    "b_del_wt = all_prot_format_df(b, ip)\n",
    "b_del_wt = b_del_wt.dropna(axis='columns', how='all')\n",
    "b_del_wt = b_del_wt.loc[:,~b_del_wt.columns.duplicated()]\n",
    "b_del_wt.head()"
   ]
  },
  {
   "cell_type": "code",
   "execution_count": 15,
   "metadata": {},
   "outputs": [
    {
     "name": "stdout",
     "output_type": "stream",
     "text": [
      "significant pvals: \n",
      "         Comparison   P_Value\n",
      "0  PTEN_proteomics  0.000004\n"
     ]
    }
   ],
   "source": [
    "cols = list(b_del_wt.columns[:-1])\n",
    "\n",
    "# Get only sig sites\n",
    "b_sig = u.wrap_ttest(b_del_wt, 'Mutation', cols, correction_method = 'fdr_bh')\n",
    "if b_sig is not None:\n",
    "    b_sig_list = list(b_sig.Comparison)\n",
    "else: \n",
    "    b_sig_list = None\n",
    "print('significant pvals: \\n',b_sig)\n",
    "\n",
    "# Get all pvals\n",
    "b_pval = u.wrap_ttest(b_del_wt, 'Mutation', cols, return_all = True)\n",
    "b_pval = b_pval.rename(columns = {'Comparison': 'Proteomics','P_Value': 'Brca_P_Value'})"
   ]
  },
  {
   "cell_type": "code",
   "execution_count": 16,
   "metadata": {},
   "outputs": [],
   "source": [
    "b_med = get_change_in_medians_df(b, \"Brca\", b_del_wt, cols)"
   ]
  },
  {
   "cell_type": "code",
   "execution_count": 17,
   "metadata": {},
   "outputs": [],
   "source": [
    "b_merged = b_pval.merge(b_med, on='Proteomics',how='outer')"
   ]
  },
  {
   "cell_type": "markdown",
   "metadata": {},
   "source": [
    "# Colon"
   ]
  },
  {
   "cell_type": "code",
   "execution_count": 18,
   "metadata": {},
   "outputs": [
    {
     "name": "stderr",
     "output_type": "stream",
     "text": [
      "cptac warning: In joining the somatic_mutation table, no mutations were found for the following samples, so they were filled with Wildtype_Tumor or Wildtype_Normal: 100 samples for the PTEN gene (C:\\Users\\brittany henderson\\Anaconda3\\envs\\Research\\lib\\site-packages\\cptac\\dataset.py, line 383)\n",
      "cptac warning: CNV data was not found for the following samples, so CNV data columns were filled with NaN for these samples: 05CO045 (C:\\Users\\brittany henderson\\Anaconda3\\envs\\Research\\lib\\site-packages\\cptac\\dataset.py, line 383)\n",
      "cptac warning: The following columns were not found in the proteomics dataframe, so they were inserted into joined table, but filled with NaN: CAS9, CCND1, FOXO1, MAGI3, MAP2K2 , MAST2, MDM2, MTORC2, PIK3R3, PREX2 (C:\\Users\\brittany henderson\\Anaconda3\\envs\\Research\\lib\\site-packages\\ipykernel_launcher.py, line 11)\n",
      "cptac warning: In joining the somatic_mutation table, no mutations were found for the following samples, so they were filled with Wildtype_Tumor or Wildtype_Normal: 201 samples for the PTEN gene (C:\\Users\\brittany henderson\\Anaconda3\\envs\\Research\\lib\\site-packages\\ipykernel_launcher.py, line 11)\n",
      "cptac warning: proteomics data was not found for the following samples, so proteomics data columns were filled with NaN for these samples: 01CO001, 05CO005, 05CO007, 05CO014, 05CO055, 11CO059, 11CO060, 14CO002, 16CO012, 24CO005 (C:\\Users\\brittany henderson\\Anaconda3\\envs\\Research\\lib\\site-packages\\ipykernel_launcher.py, line 11)\n"
     ]
    }
   ],
   "source": [
    "gene = 'PTEN'\n",
    "\n",
    "c_del_wt = all_prot_format_df(col, ip)\n",
    "c_del_wt = c_del_wt.dropna(axis='columns', how='all')\n",
    "c_del_wt = c_del_wt.loc[:,~c_del_wt.columns.duplicated()]"
   ]
  },
  {
   "cell_type": "code",
   "execution_count": 19,
   "metadata": {},
   "outputs": [
    {
     "name": "stdout",
     "output_type": "stream",
     "text": [
      "significant pvals: \n",
      " None\n"
     ]
    }
   ],
   "source": [
    "cols = list(c_del_wt.columns[:-1])\n",
    "\n",
    "# Get only sig sites\n",
    "c_sig = u.wrap_ttest(c_del_wt, 'Mutation', cols, correction_method = 'fdr_bh')\n",
    "if c_sig is not None:\n",
    "    c_sig_list = list(c_sig.Comparison)\n",
    "else: \n",
    "    c_sig_list = None\n",
    "print('significant pvals: \\n',c_sig)\n",
    "\n",
    "# Get all pvals\n",
    "c_pval = u.wrap_ttest(c_del_wt, 'Mutation', cols, return_all = True, correction_method = 'fdr_bh')\n",
    "c_pval = c_pval.rename(columns = {'Comparison': 'Proteomics','P_Value': 'Colon_P_Value'})"
   ]
  },
  {
   "cell_type": "code",
   "execution_count": 20,
   "metadata": {},
   "outputs": [],
   "source": [
    "c_med = get_change_in_medians_df(col, \"Colon\", c_del_wt, cols)"
   ]
  },
  {
   "cell_type": "code",
   "execution_count": 21,
   "metadata": {},
   "outputs": [],
   "source": [
    "c_merged = c_pval.merge(c_med, on='Proteomics',how='outer')"
   ]
  },
  {
   "cell_type": "markdown",
   "metadata": {},
   "source": [
    "# Hnscc"
   ]
  },
  {
   "cell_type": "code",
   "execution_count": 22,
   "metadata": {},
   "outputs": [
    {
     "name": "stderr",
     "output_type": "stream",
     "text": [
      "cptac warning: In joining the somatic_mutation table, no mutations were found for the following samples, so they were filled with Wildtype_Tumor or Wildtype_Normal: 109 samples for the PTEN gene (C:\\Users\\brittany henderson\\Anaconda3\\envs\\Research\\lib\\site-packages\\cptac\\dataset.py, line 383)\n",
      "cptac warning: CNV data was not found for the following samples, so CNV data columns were filled with NaN for these samples: C3L-02617, C3N-02727 (C:\\Users\\brittany henderson\\Anaconda3\\envs\\Research\\lib\\site-packages\\cptac\\dataset.py, line 383)\n",
      "cptac warning: The following columns were not found in the proteomics dataframe, so they were inserted into joined table, but filled with NaN: CAS9, MAP2K2 , MDM2, MTORC2, PIK3R3 (C:\\Users\\brittany henderson\\Anaconda3\\envs\\Research\\lib\\site-packages\\ipykernel_launcher.py, line 11)\n",
      "cptac warning: In joining the somatic_mutation table, no mutations were found for the following samples, so they were filled with Wildtype_Tumor or Wildtype_Normal: 176 samples for the PTEN gene (C:\\Users\\brittany henderson\\Anaconda3\\envs\\Research\\lib\\site-packages\\ipykernel_launcher.py, line 11)\n"
     ]
    }
   ],
   "source": [
    "gene = 'PTEN'\n",
    "\n",
    "h_del_wt = all_prot_format_df(h, ip)\n",
    "h_del_wt = h_del_wt.dropna(axis='columns', how='all')"
   ]
  },
  {
   "cell_type": "code",
   "execution_count": 23,
   "metadata": {},
   "outputs": [
    {
     "name": "stdout",
     "output_type": "stream",
     "text": [
      "significant pvals: \n",
      "           Comparison   P_Value\n",
      "0    PTEN_proteomics  0.000023\n",
      "1  INPP4B_proteomics  0.000676\n",
      "2  PIK3CA_proteomics  0.001677\n"
     ]
    },
    {
     "name": "stderr",
     "output_type": "stream",
     "text": [
      "C:\\Users\\brittany henderson\\Anaconda3\\envs\\Research\\lib\\site-packages\\numpy\\core\\fromnumeric.py:3367: RuntimeWarning: Degrees of freedom <= 0 for slice\n",
      "  **kwargs)\n",
      "C:\\Users\\brittany henderson\\Anaconda3\\envs\\Research\\lib\\site-packages\\numpy\\core\\_methods.py:132: RuntimeWarning: invalid value encountered in double_scalars\n",
      "  ret = ret.dtype.type(ret / rcount)\n",
      "C:\\Users\\brittany henderson\\Anaconda3\\envs\\Research\\lib\\site-packages\\scipy\\stats\\_distn_infrastructure.py:877: RuntimeWarning: invalid value encountered in greater\n",
      "  return (self.a < x) & (x < self.b)\n",
      "C:\\Users\\brittany henderson\\Anaconda3\\envs\\Research\\lib\\site-packages\\scipy\\stats\\_distn_infrastructure.py:877: RuntimeWarning: invalid value encountered in less\n",
      "  return (self.a < x) & (x < self.b)\n",
      "C:\\Users\\brittany henderson\\Anaconda3\\envs\\Research\\lib\\site-packages\\scipy\\stats\\_distn_infrastructure.py:1831: RuntimeWarning: invalid value encountered in less_equal\n",
      "  cond2 = cond0 & (x <= self.a)\n",
      "C:\\Users\\brittany henderson\\Anaconda3\\envs\\Research\\lib\\site-packages\\statsmodels\\stats\\multitest.py:320: RuntimeWarning: invalid value encountered in less_equal\n",
      "  reject = pvals_sorted <= ecdffactor*alpha\n",
      "C:\\Users\\brittany henderson\\Anaconda3\\envs\\Research\\lib\\site-packages\\statsmodels\\stats\\multitest.py:328: RuntimeWarning: invalid value encountered in greater\n",
      "  pvals_corrected[pvals_corrected>1] = 1\n",
      "C:\\Users\\brittany henderson\\Anaconda3\\envs\\Research\\lib\\site-packages\\statsmodels\\stats\\multitest.py:251: RuntimeWarning: invalid value encountered in greater\n",
      "  pvals_corrected[pvals_corrected>1] = 1\n",
      "C:\\Users\\brittany henderson\\Anaconda3\\envs\\Research\\lib\\site-packages\\numpy\\core\\fromnumeric.py:3367: RuntimeWarning: Degrees of freedom <= 0 for slice\n",
      "  **kwargs)\n",
      "C:\\Users\\brittany henderson\\Anaconda3\\envs\\Research\\lib\\site-packages\\numpy\\core\\_methods.py:132: RuntimeWarning: invalid value encountered in double_scalars\n",
      "  ret = ret.dtype.type(ret / rcount)\n",
      "C:\\Users\\brittany henderson\\Anaconda3\\envs\\Research\\lib\\site-packages\\scipy\\stats\\_distn_infrastructure.py:877: RuntimeWarning: invalid value encountered in greater\n",
      "  return (self.a < x) & (x < self.b)\n",
      "C:\\Users\\brittany henderson\\Anaconda3\\envs\\Research\\lib\\site-packages\\scipy\\stats\\_distn_infrastructure.py:877: RuntimeWarning: invalid value encountered in less\n",
      "  return (self.a < x) & (x < self.b)\n",
      "C:\\Users\\brittany henderson\\Anaconda3\\envs\\Research\\lib\\site-packages\\scipy\\stats\\_distn_infrastructure.py:1831: RuntimeWarning: invalid value encountered in less_equal\n",
      "  cond2 = cond0 & (x <= self.a)\n",
      "C:\\Users\\brittany henderson\\Anaconda3\\envs\\Research\\lib\\site-packages\\statsmodels\\stats\\multitest.py:320: RuntimeWarning: invalid value encountered in less_equal\n",
      "  reject = pvals_sorted <= ecdffactor*alpha\n",
      "C:\\Users\\brittany henderson\\Anaconda3\\envs\\Research\\lib\\site-packages\\statsmodels\\stats\\multitest.py:328: RuntimeWarning: invalid value encountered in greater\n",
      "  pvals_corrected[pvals_corrected>1] = 1\n",
      "C:\\Users\\brittany henderson\\Anaconda3\\envs\\Research\\lib\\site-packages\\statsmodels\\stats\\multitest.py:251: RuntimeWarning: invalid value encountered in greater\n",
      "  pvals_corrected[pvals_corrected>1] = 1\n"
     ]
    }
   ],
   "source": [
    "cols = list(h_del_wt.columns[:-1])\n",
    "\n",
    "# Get only sig sites\n",
    "h_sig = u.wrap_ttest(h_del_wt, 'Mutation', cols, correction_method = 'fdr_bh')\n",
    "if h_sig is not None:\n",
    "    h_sig_list = list(h_sig.Comparison)\n",
    "else: \n",
    "    h_sig_list = None\n",
    "print('significant pvals: \\n',h_sig)\n",
    "\n",
    "# Get all pvals\n",
    "h_pval = u.wrap_ttest(h_del_wt, 'Mutation', cols, return_all = True, correction_method = 'fdr_bh')\n",
    "h_pval = h_pval.rename(columns = {'Comparison': 'Proteomics','P_Value': 'Hnscc_P_Value'})"
   ]
  },
  {
   "cell_type": "code",
   "execution_count": 24,
   "metadata": {},
   "outputs": [],
   "source": [
    "h_med = get_change_in_medians_df(h, \"Hnscc\", h_del_wt, cols)"
   ]
  },
  {
   "cell_type": "code",
   "execution_count": 25,
   "metadata": {},
   "outputs": [],
   "source": [
    "h_merged = h_pval.merge(h_med, on='Proteomics',how='outer')\n",
    "#del_wt[['PREX2_proteomics','Mutation']].dropna() # in median, not in pval (only 1 value for deletion)"
   ]
  },
  {
   "cell_type": "markdown",
   "metadata": {},
   "source": [
    "# Luad"
   ]
  },
  {
   "cell_type": "code",
   "execution_count": 26,
   "metadata": {},
   "outputs": [
    {
     "name": "stderr",
     "output_type": "stream",
     "text": [
      "cptac warning: The following columns were not found in the proteomics dataframe, so they were inserted into joined table, but filled with NaN: CAS9, CSNK2A1, CSNK2A2, MAP2K2 , MDM2, MTOR, MTORC2, PIK3R3, RAF1, SOS1, TSC2 (C:\\Users\\brittany henderson\\Anaconda3\\envs\\Research\\lib\\site-packages\\ipykernel_launcher.py, line 34)\n",
      "cptac warning: CNV data was not found for the following samples, so CNV data columns were filled with NaN for these samples: C3L-00001.N, C3L-00009.N, C3L-00080.N, C3L-00083.N, C3L-00093.N, C3L-00094.N, C3L-00095.N, C3L-00140.N, C3L-00144.N, C3L-00263.N, C3L-00279.N, C3L-00368.N, C3L-00412.N, C3L-00422.N, C3L-00510.N, C3L-00604.N, C3L-00893.N, C3L-00913.N, C3L-00973.N, C3L-01330.N, C3L-01632.N, C3L-01682.N, C3L-01683.N, C3L-01889.N, C3L-01890, C3L-01890.N, C3L-01924.N, C3L-02219.N, C3L-02345.N, C3L-02348.N, C3L-02350.N, C3L-02365.N, C3L-02508.N, C3L-02549.N, C3N-00167.N, C3N-00169.N, C3N-00175.N, C3N-00180.N, C3N-00199.N, C3N-00203.N, C3N-00217.N, C3N-00223.N, C3N-00293.N, C3N-00433.N, C3N-00546.N, C3N-00547.N, C3N-00549.N, C3N-00550.N, C3N-00551.N, C3N-00552.N, C3N-00556.N, C3N-00559.N, C3N-00560.N, C3N-00572.N, C3N-00574.N, C3N-00578.N, C3N-00579.N, C3N-00580.N, C3N-00704.N, C3N-00737.N, C3N-00738.N, C3N-00959.N, C3N-01016.N, C3N-01021.N, C3N-01023.N, C3N-01024.N, C3N-01030.N, C3N-01071.N, C3N-01072.N, C3N-01405.N, C3N-01410.N, C3N-01413.N, C3N-01414.N, C3N-01415.N, C3N-01416.N, C3N-01488.N, C3N-01489.N, C3N-01799.N, C3N-01823.N, C3N-02000.N, C3N-02002.N, C3N-02003.N, C3N-02067.N, C3N-02087.N, C3N-02089.N, C3N-02145.N, C3N-02149.N, C3N-02155.N, C3N-02158.N, C3N-02379.N, C3N-02380.N, C3N-02421.N, C3N-02423.N, C3N-02424.N, C3N-02433.N, C3N-02529.N, C3N-02572.N, C3N-02582.N, C3N-02586.N, C3N-02587.N, C3N-02588.N, C3N-02729.N (C:\\Users\\brittany henderson\\Anaconda3\\envs\\Research\\lib\\site-packages\\ipykernel_launcher.py, line 34)\n",
      "cptac warning: Due to dropping the specified levels, dataframe now has 4 duplicated column headers. (C:\\Users\\brittany henderson\\Anaconda3\\envs\\Research\\lib\\site-packages\\ipykernel_launcher.py, line 35)\n",
      "cptac warning: You tried to flatten an index that didn't have multiple levels, so we didn't actually change anything. (C:\\Users\\brittany henderson\\Anaconda3\\envs\\Research\\lib\\site-packages\\ipykernel_launcher.py, line 35)\n",
      "C:\\Users\\brittany henderson\\Anaconda3\\envs\\Research\\lib\\site-packages\\ipykernel_launcher.py:49: SettingWithCopyWarning: \n",
      "A value is trying to be set on a copy of a slice from a DataFrame.\n",
      "Try using .loc[row_indexer,col_indexer] = value instead\n",
      "\n",
      "See the caveats in the documentation: https://pandas.pydata.org/pandas-docs/stable/user_guide/indexing.html#returning-a-view-versus-a-copy\n"
     ]
    }
   ],
   "source": [
    "gene = 'PTEN'\n",
    "\n",
    "l_del_wt = all_prot_format_df(l, ip)\n",
    "l_del_wt = l_del_wt.dropna(axis='columns', how='all')\n",
    "l_del_wt = l_del_wt.loc[:,~l_del_wt.columns.duplicated()]"
   ]
  },
  {
   "cell_type": "code",
   "execution_count": 27,
   "metadata": {},
   "outputs": [
    {
     "name": "stdout",
     "output_type": "stream",
     "text": [
      "significant pvals: \n",
      "           Comparison       P_Value\n",
      "0    EGFR_proteomics  9.121167e-07\n",
      "1  PIK3CD_proteomics  4.312883e-04\n"
     ]
    }
   ],
   "source": [
    "cols = list(l_del_wt.columns[:-2])\n",
    "\n",
    "# Get only sig sites\n",
    "l_sig = u.wrap_ttest(l_del_wt, 'Mutation', cols, correction_method = 'fdr_bh')\n",
    "if l_sig is not None:\n",
    "    l_sig_list = list(l_sig.Comparison)\n",
    "else: \n",
    "    l_sig_list = None\n",
    "print('significant pvals: \\n',l_sig)\n",
    "\n",
    "# Get all pvals\n",
    "l_pval = u.wrap_ttest(l_del_wt, 'Mutation', cols, return_all = True, correction_method = 'fdr_bh')\n",
    "l_pval = l_pval.rename(columns = {'Comparison': 'Proteomics','P_Value': 'Luad_P_Value'})\n",
    "# isoforms for some proteins"
   ]
  },
  {
   "cell_type": "code",
   "execution_count": 28,
   "metadata": {},
   "outputs": [],
   "source": [
    "#Isoform code - fix later\n",
    "#del_wt.replace(to_replace = r'_NP_.*$', value = '', regex = True)"
   ]
  },
  {
   "cell_type": "code",
   "execution_count": 29,
   "metadata": {},
   "outputs": [],
   "source": [
    "l_med = get_change_in_medians_df(l, \"Luad\", l_del_wt, cols)"
   ]
  },
  {
   "cell_type": "code",
   "execution_count": 30,
   "metadata": {},
   "outputs": [],
   "source": [
    "l_merged = l_pval.merge(l_med, on='Proteomics',how='outer')"
   ]
  },
  {
   "cell_type": "markdown",
   "metadata": {},
   "source": [
    "# Lscc"
   ]
  },
  {
   "cell_type": "code",
   "execution_count": 31,
   "metadata": {},
   "outputs": [
    {
     "name": "stderr",
     "output_type": "stream",
     "text": [
      "cptac warning: In joining the somatic_mutation table, no mutations were found for the following samples, so they were filled with Wildtype_Tumor or Wildtype_Normal: 99 samples for the PTEN gene (C:\\Users\\brittany henderson\\Anaconda3\\envs\\Research\\lib\\site-packages\\cptac\\dataset.py, line 383)\n",
      "cptac warning: The following columns were not found in the proteomics dataframe, so they were inserted into joined table, but filled with NaN: CAS9, CSNK2A2, MAP2K2 , MDM2, MTOR, MTORC2, PIK3C3, PIK3R3, RAF1, SOS1, XIAP (C:\\Users\\brittany henderson\\Anaconda3\\envs\\Research\\lib\\site-packages\\ipykernel_launcher.py, line 11)\n",
      "cptac warning: In joining the somatic_mutation table, no mutations were found for the following samples, so they were filled with Wildtype_Tumor or Wildtype_Normal: 201 samples for the PTEN gene (C:\\Users\\brittany henderson\\Anaconda3\\envs\\Research\\lib\\site-packages\\ipykernel_launcher.py, line 11)\n",
      "cptac warning: Due to dropping the specified levels, dataframe now has 2 duplicated column headers. (C:\\Users\\brittany henderson\\Anaconda3\\envs\\Research\\lib\\site-packages\\ipykernel_launcher.py, line 14)\n"
     ]
    }
   ],
   "source": [
    "gene = 'PTEN'\n",
    "\n",
    "ls_del_wt = all_prot_format_df(ls, ip)\n",
    "ls_del_wt = ls_del_wt.dropna(axis='columns', how='all')\n",
    "ls_del_wt = ls_del_wt.loc[:,~ls_del_wt.columns.duplicated()]"
   ]
  },
  {
   "cell_type": "code",
   "execution_count": 32,
   "metadata": {},
   "outputs": [
    {
     "name": "stdout",
     "output_type": "stream",
     "text": [
      "significant pvals: \n",
      "            Comparison   P_Value\n",
      "0     PTEN_proteomics  0.000056\n",
      "1   PIK3CD_proteomics  0.000292\n",
      "2  CSNK2A1_proteomics  0.000684\n",
      "3    GSK3B_proteomics  0.002182\n",
      "4    USP13_proteomics  0.002580\n",
      "5      MVP_proteomics  0.003226\n"
     ]
    }
   ],
   "source": [
    "cols = list(ls_del_wt.columns[:-2])\n",
    "\n",
    "# Get only sig sites\n",
    "ls_sig = u.wrap_ttest(ls_del_wt, 'Mutation', cols, correction_method = 'fdr_bh')\n",
    "if ls_sig is not None:\n",
    "    ls_sig_list = list(ls_sig.Comparison)\n",
    "else: \n",
    "    ls_sig_list = None\n",
    "print('significant pvals: \\n',ls_sig)\n",
    "\n",
    "# Get all pvals\n",
    "ls_pval = u.wrap_ttest(ls_del_wt, 'Mutation', cols, return_all = True, correction_method = 'fdr_bh')\n",
    "ls_pval = ls_pval.rename(columns = {'Comparison': 'Proteomics','P_Value': 'Lscc_P_Value'})\n",
    "#ls_pval # isoforms for some proteins"
   ]
  },
  {
   "cell_type": "code",
   "execution_count": 33,
   "metadata": {},
   "outputs": [],
   "source": [
    "ls_med = get_change_in_medians_df(ls, \"Lscc\", ls_del_wt, cols)"
   ]
  },
  {
   "cell_type": "code",
   "execution_count": 34,
   "metadata": {},
   "outputs": [],
   "source": [
    "ls_merged = ls_pval.merge(ls_med, on='Proteomics',how='outer')"
   ]
  },
  {
   "cell_type": "markdown",
   "metadata": {},
   "source": [
    "# Endometrial"
   ]
  },
  {
   "cell_type": "markdown",
   "metadata": {},
   "source": [
    "The Endometrial data set does not have enough cnv deletions to perform a t-test, however the data set does have enough truncation type mutations (nonsense and frame shifts). Different code is needed to create the data frame for Endometrial."
   ]
  },
  {
   "cell_type": "code",
   "execution_count": 2,
   "metadata": {},
   "outputs": [
    {
     "ename": "NameError",
     "evalue": "name 'en' is not defined",
     "output_type": "error",
     "traceback": [
      "\u001b[1;31m---------------------------------------------------------------------------\u001b[0m",
      "\u001b[1;31mNameError\u001b[0m                                 Traceback (most recent call last)",
      "\u001b[1;32m<ipython-input-2-8cc86a7a2902>\u001b[0m in \u001b[0;36m<module>\u001b[1;34m\u001b[0m\n\u001b[1;32m----> 1\u001b[1;33m \u001b[0men_mut_type\u001b[0m \u001b[1;33m=\u001b[0m \u001b[0men\u001b[0m\u001b[1;33m.\u001b[0m\u001b[0mget_genotype_all_vars\u001b[0m\u001b[1;33m(\u001b[0m\u001b[0mgene\u001b[0m\u001b[1;33m)\u001b[0m\u001b[1;33m\u001b[0m\u001b[1;33m\u001b[0m\u001b[0m\n\u001b[0m\u001b[0;32m      2\u001b[0m \u001b[1;33m\u001b[0m\u001b[0m\n\u001b[0;32m      3\u001b[0m \u001b[1;31m# merge cnv with genotype all mut type\u001b[0m\u001b[1;33m\u001b[0m\u001b[1;33m\u001b[0m\u001b[1;33m\u001b[0m\u001b[0m\n\u001b[0;32m      4\u001b[0m prot_and_mutations = endo.join_omics_to_mutations(\n\u001b[0;32m      5\u001b[0m     mutations_genes = [gene], omics_df_name = 'proteomics', omics_genes = ip)\n",
      "\u001b[1;31mNameError\u001b[0m: name 'en' is not defined"
     ]
    }
   ],
   "source": [
    "en_mut_type = en.get_genotype_all_vars(gene)\n",
    "\n",
    "# merge cnv with genotype all mut type\n",
    "prot_and_mutations = endo.join_omics_to_mutations(\n",
    "    mutations_genes = [gene], omics_df_name = 'proteomics', omics_genes = ip)\n",
    "prot_and_mutations = prot_and_mutations[prot_and_mutations.Sample_Status == \"Tumor\"] # drop Normal samples\n",
    "ip_df = prot_and_mutations.iloc[:,:-4] #drop mutation, location cols\n",
    "en_mut_type = en_mut_type[['Mutation']] \n",
    "merged = ip_df.join(en_mut_type) # merge mutation col from function (includes cnv)\n",
    "\n",
    "# Keep two values to compare\n",
    "compare = ['Wildtype_Tumor','Nonsense_Mutation','Frame_Shift_Ins','Frame_Shift_Del']\n",
    "get = merged['Mutation'].isin(compare)\n",
    "trunc_wt = merged[get]\n",
    "trunc_wt['Mutation'] = np.where(\n",
    "                trunc_wt['Mutation'] == 'Wildtype_Tumor', 'Wildtype_Tumor', 'Truncation')\n",
    "trunc_wt['Mutation'].value_counts()"
   ]
  },
  {
   "cell_type": "code",
   "execution_count": 36,
   "metadata": {},
   "outputs": [
    {
     "name": "stdout",
     "output_type": "stream",
     "text": [
      "Incorrectly Formatted Dataframe!\n",
      "significant pvals: \n",
      " None\n",
      "Incorrectly Formatted Dataframe!\n"
     ]
    },
    {
     "ename": "AttributeError",
     "evalue": "'NoneType' object has no attribute 'rename'",
     "output_type": "error",
     "traceback": [
      "\u001b[1;31m---------------------------------------------------------------------------\u001b[0m",
      "\u001b[1;31mAttributeError\u001b[0m                            Traceback (most recent call last)",
      "\u001b[1;32m<ipython-input-36-598660a52cc4>\u001b[0m in \u001b[0;36m<module>\u001b[1;34m\u001b[0m\n\u001b[0;32m     11\u001b[0m \u001b[1;31m# Get all pvals\u001b[0m\u001b[1;33m\u001b[0m\u001b[1;33m\u001b[0m\u001b[1;33m\u001b[0m\u001b[0m\n\u001b[0;32m     12\u001b[0m \u001b[0me_pval\u001b[0m \u001b[1;33m=\u001b[0m \u001b[0mu\u001b[0m\u001b[1;33m.\u001b[0m\u001b[0mwrap_ttest\u001b[0m\u001b[1;33m(\u001b[0m\u001b[0mtrunc_wt\u001b[0m\u001b[1;33m,\u001b[0m \u001b[1;34m'Mutation'\u001b[0m\u001b[1;33m,\u001b[0m \u001b[0mcols\u001b[0m\u001b[1;33m,\u001b[0m \u001b[0mreturn_all\u001b[0m \u001b[1;33m=\u001b[0m \u001b[1;32mTrue\u001b[0m\u001b[1;33m,\u001b[0m \u001b[0mcorrection_method\u001b[0m \u001b[1;33m=\u001b[0m \u001b[1;34m'fdr_bh'\u001b[0m\u001b[1;33m)\u001b[0m\u001b[1;33m\u001b[0m\u001b[1;33m\u001b[0m\u001b[0m\n\u001b[1;32m---> 13\u001b[1;33m \u001b[0me_pval\u001b[0m \u001b[1;33m=\u001b[0m \u001b[0me_pval\u001b[0m\u001b[1;33m.\u001b[0m\u001b[0mrename\u001b[0m\u001b[1;33m(\u001b[0m\u001b[0mcolumns\u001b[0m \u001b[1;33m=\u001b[0m \u001b[1;33m{\u001b[0m\u001b[1;34m'Comparison'\u001b[0m\u001b[1;33m:\u001b[0m \u001b[1;34m'Proteomics'\u001b[0m\u001b[1;33m,\u001b[0m\u001b[1;34m'P_Value'\u001b[0m\u001b[1;33m:\u001b[0m \u001b[1;34m'En_P_Value'\u001b[0m\u001b[1;33m}\u001b[0m\u001b[1;33m)\u001b[0m\u001b[1;33m\u001b[0m\u001b[1;33m\u001b[0m\u001b[0m\n\u001b[0m",
      "\u001b[1;31mAttributeError\u001b[0m: 'NoneType' object has no attribute 'rename'"
     ]
    }
   ],
   "source": [
    "# Get only sig sites\n",
    "e_sig = u.wrap_ttest(trunc_wt, 'Mutation', cols, correction_method = 'fdr_bh')\n",
    "if e_sig is not None:\n",
    "    e_sig_list = list(e_sig.Comparison)\n",
    "else: \n",
    "    e_sig_list = None\n",
    "print('significant pvals: \\n',e_sig)\n",
    "\n",
    "# Get all pvals\n",
    "e_pval = u.wrap_ttest(trunc_wt, 'Mutation', cols, return_all = True, correction_method = 'fdr_bh')\n",
    "e_pval = e_pval.rename(columns = {'Comparison': 'Proteomics','P_Value': 'En_P_Value'})"
   ]
  },
  {
   "cell_type": "markdown",
   "metadata": {},
   "source": [
    "Differences in median with adaption to trunctation mutations."
   ]
  },
  {
   "cell_type": "code",
   "execution_count": null,
   "metadata": {},
   "outputs": [],
   "source": [
    "t = trunc_wt[trunc_wt.Mutation == \"Truncation\"]\n",
    "wt = trunc_wt[trunc_wt.Mutation == \"Wildtype_Tumor\"]\n",
    "trunc_med = t.median()\n",
    "wt_med = wt.median()\n",
    "\n",
    "en_d = {}\n",
    "\n",
    "for prot in ip:\n",
    "    dif = trunc_med[prot+'_proteomics'] - wt_med[prot+'_proteomics']\n",
    "    en_d[prot+'_proteomics'] = dif\n",
    "\n",
    "en_med = pd.DataFrame.from_dict(en_d, orient='index', columns=['En_Median'])\n",
    "en_med = en_med.reset_index().rename(columns={'index':'Proteomics'})"
   ]
  },
  {
   "cell_type": "code",
   "execution_count": null,
   "metadata": {},
   "outputs": [],
   "source": [
    "e_merged = e_pval.merge(en_med, on='Proteomics',how='outer')"
   ]
  },
  {
   "cell_type": "markdown",
   "metadata": {},
   "source": [
    "# Get a list of significant genes in at least one cancer"
   ]
  },
  {
   "cell_type": "code",
   "execution_count": null,
   "metadata": {},
   "outputs": [],
   "source": [
    "# Keep only genes significant in > 1 cancer\n",
    "all_sig = []\n",
    "\n",
    "sig_lists = [g_sig_list, e_sig_list, b_sig_list, o_sig_list, c_sig_list, h_sig_list, l_sig_list, ls_sig_list]\n",
    "\n",
    "for next_list in sig_lists:\n",
    "    if next_list is not None:\n",
    "        all_sig.append(next_list)\n",
    "        \n",
    "\n",
    "flat_list = [item for sublist in all_sig for item in sublist] #change list of lists, to just one list\n",
    "sig = list(set(flat_list)) # remove duplicates\n",
    "len(sig)\n",
    "sig"
   ]
  },
  {
   "cell_type": "markdown",
   "metadata": {},
   "source": [
    "# Get a list of significant genes in multiple cancers"
   ]
  },
  {
   "cell_type": "code",
   "execution_count": null,
   "metadata": {},
   "outputs": [],
   "source": [
    "# sig in multiple (more than 1) cancers\n",
    "mult = list(set(i for i in flat_list if flat_list.count(i) > 1)) # Keep genes sig in more than 1 cancer\n",
    "len(mult)\n",
    "mult\n"
   ]
  },
  {
   "cell_type": "code",
   "execution_count": null,
   "metadata": {},
   "outputs": [],
   "source": [
    "# see sig in cancer\n",
    "cancer = ['Gbm','En','Brca','Ov','Colon','Hnscc','Luad']\n",
    "i = 0\n",
    "for next_list in sig_lists:\n",
    "\n",
    "    print(cancer[i], ':')\n",
    "    if next_list is not None: \n",
    "        print(len(next_list),'\\n')\n",
    "    #print(next_list, '\\n')\n",
    "    if (i < 6):\n",
    "        i += 1\n",
    "    "
   ]
  },
  {
   "cell_type": "markdown",
   "metadata": {},
   "source": [
    "# Heat Maps"
   ]
  },
  {
   "cell_type": "code",
   "execution_count": null,
   "metadata": {},
   "outputs": [],
   "source": [
    "# Create df for heat map\n",
    "\n",
    "cancer = ['Gbm','Hnscc','Luad','Lscc','Brca','Ov','En','Colon']\n",
    "merged_dfs = [g_merged,h_merged,l_merged,ls_merged,b_merged,o_merged,e_merged,c_merged]\n",
    "\n",
    "merged = pd.DataFrame()\n",
    "i = 0\n",
    "for c in cancer:\n",
    "    m = merged_dfs[i]\n",
    "    m2 = m.assign(Cancer = c)\n",
    "    m2 = m2.rename(columns={c+'_P_Value': 'P_Value'})\n",
    "    m2 = m2.rename(columns={c+'_Median': 'Medians'})\n",
    "    merged = merged.append(m2)\n",
    "    if i < 6:\n",
    "        i += 1\n",
    "        \n",
    "bool_df2 = merged['Proteomics'].isin(sig)\n",
    "plot_df = merged[bool_df2]\n",
    "plot_df = plot_df.replace(to_replace = r'_proteomics$', value = '', regex = True)\n",
    "\n",
    "# log p-vals for right scale in plot (bigger circle, smaller pval)\n",
    "plot_df['size'] = plot_df['P_Value'].apply(lambda x: -1*(np.log(x)/10))\n",
    "\n",
    "plot_df"
   ]
  },
  {
   "cell_type": "markdown",
   "metadata": {},
   "source": [
    "Interacting Genes - Signficant in > 1 Cancer"
   ]
  },
  {
   "cell_type": "code",
   "execution_count": null,
   "metadata": {},
   "outputs": [],
   "source": [
    "p.plotCircleHeatMap(plot_df, circle_var = 'size', color_var='Medians', x_axis= 'Proteomics', y_axis = 'Cancer')"
   ]
  },
  {
   "cell_type": "markdown",
   "metadata": {},
   "source": [
    "Pos/Neg Correlations"
   ]
  },
  {
   "cell_type": "code",
   "execution_count": null,
   "metadata": {},
   "outputs": [],
   "source": [
    "p.plotCircleHeatMap(plot_df2, circle_var = 'size', color_var='Medians', x_axis= 'Proteomics', y_axis = 'Cancer')"
   ]
  }
 ],
 "metadata": {
  "kernelspec": {
   "display_name": "Python 3",
   "language": "python",
   "name": "python3"
  },
  "language_info": {
   "codemirror_mode": {
    "name": "ipython",
    "version": 3
   },
   "file_extension": ".py",
   "mimetype": "text/x-python",
   "name": "python",
   "nbconvert_exporter": "python",
   "pygments_lexer": "ipython3",
   "version": "3.7.3"
  }
 },
 "nbformat": 4,
 "nbformat_minor": 2
}
