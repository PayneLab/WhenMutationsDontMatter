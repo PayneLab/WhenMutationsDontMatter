{
 "cells": [
  {
   "cell_type": "markdown",
   "metadata": {},
   "source": [
    "# Create p-value and correlation tables for multiple cancers (includes figures)"
   ]
  },
  {
   "cell_type": "markdown",
   "metadata": {},
   "source": [
    "Create a dataframe with p-value results from t-tests for all proteins (trans gene proteomics when PTEN has cnv deletions compared to PTEN wildtype). The dataframe also includes the change in medians (correlation) between deletions and wildtype. Create Heat Maps for interacting proteins."
   ]
  },
  {
   "cell_type": "code",
   "execution_count": 1,
   "metadata": {},
   "outputs": [],
   "source": [
    "import pandas as pd\n",
    "import numpy as np\n",
    "import seaborn as sns\n",
    "import matplotlib.pyplot as plt\n",
    "import scipy.stats\n",
    "import gseapy as gp\n",
    "import re\n",
    "import sys \n",
    "\n",
    "import cptac\n",
    "import cptac.utils as u\n",
    "\n",
    "import plot_utils as p"
   ]
  },
  {
   "cell_type": "code",
   "execution_count": 2,
   "metadata": {},
   "outputs": [],
   "source": [
    "# Returns a dataframe with proteomics and mutation type\n",
    "\n",
    "# all_prot: list of trans genes\n",
    "\n",
    "def all_prot_format_df(cancer_object, all_prot, gene_in = 'PTEN'):\n",
    "    mut_type = cancer_object.get_genotype_all_vars(gene_in)\n",
    "    \n",
    "    if cancer_object.get_cancer_type() not in ('luad'):\n",
    "        # Keep only tumor samples from proteomics\n",
    "        prot_and_mutations = cancer_object.join_omics_to_mutations(\n",
    "            mutations_genes = [gene_in], omics_df_name = 'proteomics', omics_genes = all_prot)\n",
    "        # Reduce a multiindex \n",
    "        if isinstance(prot_and_mutations.keys(), pd.core.indexes.multi.MultiIndex):\n",
    "            prot_and_mutations = cancer_object.reduce_multiindex(prot_and_mutations, levels_to_drop = 1)\n",
    "        prot_and_mutations = prot_and_mutations[prot_and_mutations.Sample_Status == \"Tumor\"] # drop Normal samples\n",
    "\n",
    "        # Merge Mutation column from get_genotype_all_vars (includes cnv) with proteomics\n",
    "        mut_type = mut_type[['Mutation']] \n",
    "        prot_df = prot_and_mutations.iloc[:,:-4] # Keep only proteomics\n",
    "        merged = prot_df.join(mut_type)\n",
    "        \n",
    "        # Keep only Wildtype and deletion\n",
    "        compare = ['Wildtype_Tumor','Deletion']\n",
    "        get = merged['Mutation'].isin(compare)\n",
    "        del_wt = merged[get]\n",
    "    \n",
    "    \n",
    "    # Luad has no somatic mutations for PTEN which changes some things\n",
    "    else: \n",
    "        # get_genotype_all_vars add cnv data under the column PTEN\n",
    "        mut_type = mut_type.drop(columns= gene_in)\n",
    "        # different code because no somatic mutation data for pten (can't join to somatic mutations)\n",
    "        omics = l.join_omics_to_omics(df1_name = 'CNV', df2_name='proteomics',genes1= gene_in, \n",
    "            genes2= all_prot)\n",
    "        omics = l.reduce_multiindex(omics, levels_to_drop = 1, flatten = True)\n",
    "        omics = omics.drop(columns='PTEN_CNV')\n",
    "        # Get only tumor samples\n",
    "        p = l.get_proteomics(tissue_type='tumor')\n",
    "        tumor_ids = list(p.index)\n",
    "        get = omics.index.isin(tumor_ids)\n",
    "        omics = omics[get]\n",
    "        # Merge Mutation column from get_genotype_all_vars (includes cnv) with proteomics\n",
    "        merged = omics.join(mut_type) \n",
    "        # Keep only No_Mutation (wildtype) and deletion\n",
    "        compare = ['No_Mutation','Deletion']\n",
    "        get = merged['Mutation'].isin(compare)\n",
    "        del_wt = merged[get]\n",
    "        del_wt['Mutation'] = np.where(\n",
    "            del_wt['Mutation'] == 'No_Mutation', 'Wildtype_Tumor', 'Deletion')\n",
    "\n",
    "    return del_wt\n"
   ]
  },
  {
   "cell_type": "code",
   "execution_count": 3,
   "metadata": {},
   "outputs": [],
   "source": [
    "'''\n",
    "Params\n",
    "cancer_object: Object. Variable for the loaded cancer data set.\n",
    "cancer_name: Str. name to add to the created dataframe.\n",
    "del_wt_df: DataFrame. Only samples with deletions and wildtype for PTEN. \n",
    "all_prot_list: List. All proteins in proteomics data frame. \n",
    "\n",
    "Returns a dataframe with the difference in medians between proteomics with PTEN wt and del (wt - del). \n",
    "'''\n",
    "\n",
    "def get_change_in_medians_df(cancer_object, cancer_name, del_wt_df, all_prot_list):\n",
    "    d = del_wt_df[del_wt_df.Mutation == \"Deletion\"]\n",
    "    wt = del_wt_df[del_wt_df.Mutation == \"Wildtype_Tumor\"]\n",
    "    del_med = d.median()\n",
    "    wt_med = wt.median()\n",
    "\n",
    "    med_dict = {}\n",
    "    \n",
    "\n",
    "    for prot in all_prot_list:\n",
    "        dif = del_med[prot] - wt_med[prot]\n",
    "        med_dict[prot] = dif\n",
    "        \n",
    "    df = pd.DataFrame.from_dict(med_dict, orient='index', columns=[cancer_name+'_Median'])\n",
    "    df = df.reset_index().rename(columns={'index':'Proteomics'})\n",
    "    \n",
    "    return df\n",
    "        "
   ]
  },
  {
   "cell_type": "markdown",
   "metadata": {},
   "source": [
    "#  Step 1: Create Data frames with p-values and differences in median"
   ]
  },
  {
   "cell_type": "markdown",
   "metadata": {},
   "source": [
    "Each cancer needs a data frame containing only samples that have PTEN cnv deletions and PTEN wildtype with trans proteomics. Use wrap_ttest to run many T-tests for all genes in the proteomics data frame. Use get_change_in_medians_df to create the data frame with change in median values. Merge both data frames. "
   ]
  },
  {
   "cell_type": "markdown",
   "metadata": {},
   "source": [
    "Load in cancer data sets from cptac. "
   ]
  },
  {
   "cell_type": "code",
   "execution_count": 4,
   "metadata": {},
   "outputs": [
    {
     "name": "stdout",
     "output_type": "stream",
     "text": [
      "Checking that endometrial index is up-to-date...\r"
     ]
    },
    {
     "name": "stderr",
     "output_type": "stream",
     "text": [
      "cptac warning: The GBM dataset is under publication embargo until March 01, 2021. CPTAC is a community resource project and data are made available rapidly after generation for community research use. The embargo allows exploring and utilizing the data, but analysis may not be published until after the embargo date. Please see https://proteomics.cancer.gov/data-portal/about/data-use-agreement or enter cptac.embargo() to open the webpage for more details. (C:\\Users\\brittany henderson\\Anaconda3\\envs\\Research\\lib\\site-packages\\ipykernel_launcher.py, line 1)\n"
     ]
    },
    {
     "name": "stdout",
     "output_type": "stream",
     "text": [
      "Checking that lscc index is up-to-date...       \r"
     ]
    },
    {
     "name": "stderr",
     "output_type": "stream",
     "text": [
      "cptac warning: The LUAD dataset is under publication embargo until July 01, 2020. CPTAC is a community resource project and data are made available rapidly after generation for community research use. The embargo allows exploring and utilizing the data, but analysis may not be published until after the embargo date. Please see https://proteomics.cancer.gov/data-portal/about/data-use-agreement or enter cptac.embargo() to open the webpage for more details. (C:\\Users\\brittany henderson\\Anaconda3\\envs\\Research\\lib\\site-packages\\ipykernel_launcher.py, line 4)\n"
     ]
    },
    {
     "name": "stdout",
     "output_type": "stream",
     "text": [
      "                                            \r"
     ]
    }
   ],
   "source": [
    "g = cptac.Gbm()\n",
    "en = cptac.Endometrial()\n",
    "h = cptac.Hnscc()\n",
    "l = cptac.Luad()\n",
    "ls = cptac.Lscc()\n",
    "o = cptac.Ovarian()\n",
    "col = cptac.Colon()\n",
    "b = cptac.Brca()"
   ]
  },
  {
   "cell_type": "code",
   "execution_count": 5,
   "metadata": {},
   "outputs": [
    {
     "name": "stdout",
     "output_type": "stream",
     "text": [
      "46\n"
     ]
    }
   ],
   "source": [
    "ip = u.get_interacting_proteins('PTEN')\n",
    "\n",
    "# RAS-RAF-MEK-ERK MAPK Pathway\n",
    "ip.append('GRB2')\n",
    "ip.append('SHC1') # (SHC in paper)\n",
    "ip.append('SOS1') # (SOS in the paper) *GEF for RAS \"recruitment to the plasma membrane requires GRB2, PIP2, PA\" \n",
    "ip.append('KRAS') # (RAS in paper) possibly add \"RAS regulators such as PHLPP, SHP-2, and NF-2\"\n",
    "ip.append('RAF1') # (RAF-1 in paper)\n",
    "ip.append('MAP2K1') #(MEK1 protein name in paper)\n",
    "ip.append('MAP2K2 ') # (MEK2 in paper)\n",
    "ip.append('MAPK3') # (ERK1 in paper) https://www.uniprot.org/uniprot/P27361\n",
    "ip.append('MAPK1') # (ERK2 in paper)\n",
    "\n",
    "#mTOR Pathway\n",
    "ip.append('GAB1')\n",
    "#ip.append('PI3K')\n",
    "ip.append('AKT1') # (AKT in paper) *binds PIP3 (see info for isoform AKT1 at: https://www.uniprot.org/uniprot/P31749)\n",
    "ip.append('PDK1') #activate AKT\n",
    "ip.append('MTORC2') #activate AKT\n",
    "ip.append('GSK3B') # (GSK-3B in paper)inhibit cyclin D (akt inhibits GSK3B)\n",
    "ip.append('FOXO1') #(FOXO in paper)\n",
    "ip.append('TSC2') # repress mTOR, AKT inhibits\n",
    "ip.append('MTOR') # promote cyclin D\n",
    "ip.append('BAD')\n",
    "ip.append('CAS9')\n",
    "\n",
    "ip.append('CCND1') # Cyclin D1 -> G1/S \n",
    "\n",
    "\n",
    "singles = set(ip)\n",
    "ip = list(singles)\n",
    "print(len(ip))"
   ]
  },
  {
   "cell_type": "markdown",
   "metadata": {},
   "source": [
    "# Gbm"
   ]
  },
  {
   "cell_type": "markdown",
   "metadata": {},
   "source": [
    "Part 1: Format data frame using all_prot_format_df. This returns a dataframe with proteomics and a Mutation column containing only PTEN cnv deletions and wildtype tumors. "
   ]
  },
  {
   "cell_type": "code",
   "execution_count": 6,
   "metadata": {},
   "outputs": [
    {
     "name": "stderr",
     "output_type": "stream",
     "text": [
      "cptac warning: In joining the somatic_mutation table, no mutations were found for the following samples, so they were filled with Wildtype_Tumor or Wildtype_Normal: 72 samples for the PTEN gene (C:\\Users\\brittany henderson\\Anaconda3\\envs\\Research\\lib\\site-packages\\cptac\\dataset.py, line 383)\n",
      "cptac warning: CNV data was not found for the following samples, so CNV data columns were filled with NaN for these samples: C3L-01834 (C:\\Users\\brittany henderson\\Anaconda3\\envs\\Research\\lib\\site-packages\\cptac\\dataset.py, line 383)\n",
      "cptac warning: The following columns were not found in the proteomics dataframe, so they were inserted into joined table, but filled with NaN: CAS9, MAP2K2 , MTORC2, PIK3R3 (C:\\Users\\brittany henderson\\Anaconda3\\envs\\Research\\lib\\site-packages\\ipykernel_launcher.py, line 11)\n",
      "cptac warning: In joining the somatic_mutation table, no mutations were found for the following samples, so they were filled with Wildtype_Tumor or Wildtype_Normal: 82 samples for the PTEN gene (C:\\Users\\brittany henderson\\Anaconda3\\envs\\Research\\lib\\site-packages\\ipykernel_launcher.py, line 11)\n"
     ]
    },
    {
     "data": {
      "text/html": [
       "<div>\n",
       "<style scoped>\n",
       "    .dataframe tbody tr th:only-of-type {\n",
       "        vertical-align: middle;\n",
       "    }\n",
       "\n",
       "    .dataframe tbody tr th {\n",
       "        vertical-align: top;\n",
       "    }\n",
       "\n",
       "    .dataframe thead th {\n",
       "        text-align: right;\n",
       "    }\n",
       "</style>\n",
       "<table border=\"1\" class=\"dataframe\">\n",
       "  <thead>\n",
       "    <tr style=\"text-align: right;\">\n",
       "      <th>Name</th>\n",
       "      <th>FOXO1_proteomics</th>\n",
       "      <th>SOS1_proteomics</th>\n",
       "      <th>PIK3CB_proteomics</th>\n",
       "      <th>CSNK2A2_proteomics</th>\n",
       "      <th>RAF1_proteomics</th>\n",
       "      <th>MAST2_proteomics</th>\n",
       "      <th>PIK3CA_proteomics</th>\n",
       "      <th>TP53_proteomics</th>\n",
       "      <th>MVP_proteomics</th>\n",
       "      <th>SHC1_proteomics</th>\n",
       "      <th>...</th>\n",
       "      <th>AKT1_proteomics</th>\n",
       "      <th>PIK3CD_proteomics</th>\n",
       "      <th>XIAP_proteomics</th>\n",
       "      <th>EGFR_proteomics</th>\n",
       "      <th>INPP4B_proteomics</th>\n",
       "      <th>TSC2_proteomics</th>\n",
       "      <th>SLC9A3R1_proteomics</th>\n",
       "      <th>CCND1_proteomics</th>\n",
       "      <th>MAPK1_proteomics</th>\n",
       "      <th>Mutation</th>\n",
       "    </tr>\n",
       "    <tr>\n",
       "      <th>Patient_ID</th>\n",
       "      <th></th>\n",
       "      <th></th>\n",
       "      <th></th>\n",
       "      <th></th>\n",
       "      <th></th>\n",
       "      <th></th>\n",
       "      <th></th>\n",
       "      <th></th>\n",
       "      <th></th>\n",
       "      <th></th>\n",
       "      <th></th>\n",
       "      <th></th>\n",
       "      <th></th>\n",
       "      <th></th>\n",
       "      <th></th>\n",
       "      <th></th>\n",
       "      <th></th>\n",
       "      <th></th>\n",
       "      <th></th>\n",
       "      <th></th>\n",
       "      <th></th>\n",
       "    </tr>\n",
       "  </thead>\n",
       "  <tbody>\n",
       "    <tr>\n",
       "      <th>C3L-00104</th>\n",
       "      <td>-0.085520</td>\n",
       "      <td>0.086085</td>\n",
       "      <td>-0.550558</td>\n",
       "      <td>-0.273672</td>\n",
       "      <td>-0.005546</td>\n",
       "      <td>NaN</td>\n",
       "      <td>0.124542</td>\n",
       "      <td>0.044573</td>\n",
       "      <td>0.147936</td>\n",
       "      <td>-0.095985</td>\n",
       "      <td>...</td>\n",
       "      <td>-0.065930</td>\n",
       "      <td>-0.315003</td>\n",
       "      <td>-0.069611</td>\n",
       "      <td>1.054962</td>\n",
       "      <td>0.060124</td>\n",
       "      <td>-0.049127</td>\n",
       "      <td>0.616424</td>\n",
       "      <td>-0.135982</td>\n",
       "      <td>0.364629</td>\n",
       "      <td>Deletion</td>\n",
       "    </tr>\n",
       "    <tr>\n",
       "      <th>C3L-00365</th>\n",
       "      <td>0.066860</td>\n",
       "      <td>0.198497</td>\n",
       "      <td>0.191167</td>\n",
       "      <td>-0.035616</td>\n",
       "      <td>-0.148462</td>\n",
       "      <td>0.213109</td>\n",
       "      <td>-0.211025</td>\n",
       "      <td>0.117856</td>\n",
       "      <td>0.371665</td>\n",
       "      <td>0.003049</td>\n",
       "      <td>...</td>\n",
       "      <td>-0.285929</td>\n",
       "      <td>-0.629943</td>\n",
       "      <td>0.028903</td>\n",
       "      <td>2.219562</td>\n",
       "      <td>-0.639545</td>\n",
       "      <td>-0.273339</td>\n",
       "      <td>0.450206</td>\n",
       "      <td>NaN</td>\n",
       "      <td>0.419605</td>\n",
       "      <td>Deletion</td>\n",
       "    </tr>\n",
       "    <tr>\n",
       "      <th>C3L-00674</th>\n",
       "      <td>0.185222</td>\n",
       "      <td>-0.166658</td>\n",
       "      <td>-0.548042</td>\n",
       "      <td>-0.105403</td>\n",
       "      <td>-0.283019</td>\n",
       "      <td>-0.706997</td>\n",
       "      <td>-0.573919</td>\n",
       "      <td>-0.120887</td>\n",
       "      <td>0.329753</td>\n",
       "      <td>0.051279</td>\n",
       "      <td>...</td>\n",
       "      <td>-0.222607</td>\n",
       "      <td>0.085276</td>\n",
       "      <td>-0.479773</td>\n",
       "      <td>0.137329</td>\n",
       "      <td>0.669283</td>\n",
       "      <td>-0.118501</td>\n",
       "      <td>0.307356</td>\n",
       "      <td>-0.092478</td>\n",
       "      <td>-0.369258</td>\n",
       "      <td>Deletion</td>\n",
       "    </tr>\n",
       "    <tr>\n",
       "      <th>C3L-00677</th>\n",
       "      <td>0.251746</td>\n",
       "      <td>-0.014030</td>\n",
       "      <td>-0.397225</td>\n",
       "      <td>-0.189861</td>\n",
       "      <td>-0.258855</td>\n",
       "      <td>0.123021</td>\n",
       "      <td>-0.360962</td>\n",
       "      <td>1.832557</td>\n",
       "      <td>-0.518407</td>\n",
       "      <td>0.288725</td>\n",
       "      <td>...</td>\n",
       "      <td>-0.370584</td>\n",
       "      <td>-0.382652</td>\n",
       "      <td>-0.205255</td>\n",
       "      <td>-0.768478</td>\n",
       "      <td>0.451016</td>\n",
       "      <td>-0.098653</td>\n",
       "      <td>-0.040643</td>\n",
       "      <td>-0.454459</td>\n",
       "      <td>-0.090202</td>\n",
       "      <td>Deletion</td>\n",
       "    </tr>\n",
       "    <tr>\n",
       "      <th>C3L-01040</th>\n",
       "      <td>-0.190030</td>\n",
       "      <td>-0.269299</td>\n",
       "      <td>-0.395284</td>\n",
       "      <td>0.239919</td>\n",
       "      <td>-0.263888</td>\n",
       "      <td>NaN</td>\n",
       "      <td>0.137414</td>\n",
       "      <td>-0.288708</td>\n",
       "      <td>-0.741119</td>\n",
       "      <td>-0.337079</td>\n",
       "      <td>...</td>\n",
       "      <td>0.004573</td>\n",
       "      <td>-0.537787</td>\n",
       "      <td>-0.123213</td>\n",
       "      <td>-1.249435</td>\n",
       "      <td>-0.024038</td>\n",
       "      <td>-0.137478</td>\n",
       "      <td>-0.155468</td>\n",
       "      <td>0.272387</td>\n",
       "      <td>-0.919902</td>\n",
       "      <td>Deletion</td>\n",
       "    </tr>\n",
       "  </tbody>\n",
       "</table>\n",
       "<p>5 rows × 43 columns</p>\n",
       "</div>"
      ],
      "text/plain": [
       "Name        FOXO1_proteomics  SOS1_proteomics  PIK3CB_proteomics  \\\n",
       "Patient_ID                                                         \n",
       "C3L-00104          -0.085520         0.086085          -0.550558   \n",
       "C3L-00365           0.066860         0.198497           0.191167   \n",
       "C3L-00674           0.185222        -0.166658          -0.548042   \n",
       "C3L-00677           0.251746        -0.014030          -0.397225   \n",
       "C3L-01040          -0.190030        -0.269299          -0.395284   \n",
       "\n",
       "Name        CSNK2A2_proteomics  RAF1_proteomics  MAST2_proteomics  \\\n",
       "Patient_ID                                                          \n",
       "C3L-00104            -0.273672        -0.005546               NaN   \n",
       "C3L-00365            -0.035616        -0.148462          0.213109   \n",
       "C3L-00674            -0.105403        -0.283019         -0.706997   \n",
       "C3L-00677            -0.189861        -0.258855          0.123021   \n",
       "C3L-01040             0.239919        -0.263888               NaN   \n",
       "\n",
       "Name        PIK3CA_proteomics  TP53_proteomics  MVP_proteomics  \\\n",
       "Patient_ID                                                       \n",
       "C3L-00104            0.124542         0.044573        0.147936   \n",
       "C3L-00365           -0.211025         0.117856        0.371665   \n",
       "C3L-00674           -0.573919        -0.120887        0.329753   \n",
       "C3L-00677           -0.360962         1.832557       -0.518407   \n",
       "C3L-01040            0.137414        -0.288708       -0.741119   \n",
       "\n",
       "Name        SHC1_proteomics  ...  AKT1_proteomics  PIK3CD_proteomics  \\\n",
       "Patient_ID                   ...                                       \n",
       "C3L-00104         -0.095985  ...        -0.065930          -0.315003   \n",
       "C3L-00365          0.003049  ...        -0.285929          -0.629943   \n",
       "C3L-00674          0.051279  ...        -0.222607           0.085276   \n",
       "C3L-00677          0.288725  ...        -0.370584          -0.382652   \n",
       "C3L-01040         -0.337079  ...         0.004573          -0.537787   \n",
       "\n",
       "Name        XIAP_proteomics  EGFR_proteomics  INPP4B_proteomics  \\\n",
       "Patient_ID                                                        \n",
       "C3L-00104         -0.069611         1.054962           0.060124   \n",
       "C3L-00365          0.028903         2.219562          -0.639545   \n",
       "C3L-00674         -0.479773         0.137329           0.669283   \n",
       "C3L-00677         -0.205255        -0.768478           0.451016   \n",
       "C3L-01040         -0.123213        -1.249435          -0.024038   \n",
       "\n",
       "Name        TSC2_proteomics  SLC9A3R1_proteomics  CCND1_proteomics  \\\n",
       "Patient_ID                                                           \n",
       "C3L-00104         -0.049127             0.616424         -0.135982   \n",
       "C3L-00365         -0.273339             0.450206               NaN   \n",
       "C3L-00674         -0.118501             0.307356         -0.092478   \n",
       "C3L-00677         -0.098653            -0.040643         -0.454459   \n",
       "C3L-01040         -0.137478            -0.155468          0.272387   \n",
       "\n",
       "Name        MAPK1_proteomics  Mutation  \n",
       "Patient_ID                              \n",
       "C3L-00104           0.364629  Deletion  \n",
       "C3L-00365           0.419605  Deletion  \n",
       "C3L-00674          -0.369258  Deletion  \n",
       "C3L-00677          -0.090202  Deletion  \n",
       "C3L-01040          -0.919902  Deletion  \n",
       "\n",
       "[5 rows x 43 columns]"
      ]
     },
     "execution_count": 6,
     "metadata": {},
     "output_type": "execute_result"
    }
   ],
   "source": [
    "gene = 'PTEN'\n",
    "\n",
    "g_del_wt = all_prot_format_df(g, ip)\n",
    "g_del_wt = g_del_wt.dropna(axis='columns', how='all')\n",
    "g_del_wt.head()"
   ]
  },
  {
   "cell_type": "markdown",
   "metadata": {},
   "source": [
    "Part 2: Run T-tests. Create a data frame of just significant comparisons and another data frame for all comparisons. A moderately stringent correction is used (FDR_BH)."
   ]
  },
  {
   "cell_type": "code",
   "execution_count": 7,
   "metadata": {},
   "outputs": [
    {
     "name": "stdout",
     "output_type": "stream",
     "text": [
      "significant pvals: \n",
      "           Comparison       P_Value\n",
      "0    PTEN_proteomics  1.219523e-07\n",
      "1   MAPK3_proteomics  1.020660e-06\n",
      "2  PIK3CD_proteomics  1.030815e-03\n",
      "3    GRB2_proteomics  1.089951e-03\n",
      "4  PIK3C3_proteomics  1.225949e-03\n",
      "5    USP7_proteomics  4.017792e-03\n",
      "6  MAP2K1_proteomics  4.138456e-03\n",
      "7  PIK3R1_proteomics  4.282296e-03\n"
     ]
    }
   ],
   "source": [
    "cols = list(g_del_wt.columns[:-1])\n",
    "\n",
    "# Get only sig genes\n",
    "g_sig = u.wrap_ttest(g_del_wt, 'Mutation', cols, correction_method = 'fdr_bh')\n",
    "# Create list of sig genes\n",
    "if g_sig is not None:\n",
    "    g_sig_list = list(g_sig.Comparison)\n",
    "else: \n",
    "    g_sig_list = None\n",
    "print('significant pvals: \\n',g_sig)\n",
    "\n",
    "# Get all pvals\n",
    "g = u.wrap_ttest(g_del_wt, 'Mutation', cols, return_all = True, correction_method = 'fdr_bh')\n",
    "g_pval = g.rename(columns = {'Comparison': 'Proteomics','P_Value': 'Gbm_P_Value'})"
   ]
  },
  {
   "cell_type": "markdown",
   "metadata": {},
   "source": [
    "Part 3: Create the differences in median df. (median of wildtype tumors - median of cnv deletions)"
   ]
  },
  {
   "cell_type": "code",
   "execution_count": 8,
   "metadata": {},
   "outputs": [],
   "source": [
    "g_med = get_change_in_medians_df(g, \"Gbm\", g_del_wt, cols)"
   ]
  },
  {
   "cell_type": "markdown",
   "metadata": {},
   "source": [
    "Part 4: Merge the p-values and the differences in median dfs."
   ]
  },
  {
   "cell_type": "code",
   "execution_count": 9,
   "metadata": {},
   "outputs": [
    {
     "data": {
      "text/html": [
       "<div>\n",
       "<style scoped>\n",
       "    .dataframe tbody tr th:only-of-type {\n",
       "        vertical-align: middle;\n",
       "    }\n",
       "\n",
       "    .dataframe tbody tr th {\n",
       "        vertical-align: top;\n",
       "    }\n",
       "\n",
       "    .dataframe thead th {\n",
       "        text-align: right;\n",
       "    }\n",
       "</style>\n",
       "<table border=\"1\" class=\"dataframe\">\n",
       "  <thead>\n",
       "    <tr style=\"text-align: right;\">\n",
       "      <th></th>\n",
       "      <th>Proteomics</th>\n",
       "      <th>Gbm_P_Value</th>\n",
       "      <th>Gbm_Median</th>\n",
       "    </tr>\n",
       "  </thead>\n",
       "  <tbody>\n",
       "    <tr>\n",
       "      <th>0</th>\n",
       "      <td>PTEN_proteomics</td>\n",
       "      <td>1.219523e-07</td>\n",
       "      <td>-0.511726</td>\n",
       "    </tr>\n",
       "    <tr>\n",
       "      <th>1</th>\n",
       "      <td>MAPK3_proteomics</td>\n",
       "      <td>1.020660e-06</td>\n",
       "      <td>-0.665105</td>\n",
       "    </tr>\n",
       "    <tr>\n",
       "      <th>2</th>\n",
       "      <td>PIK3CD_proteomics</td>\n",
       "      <td>1.030815e-03</td>\n",
       "      <td>-0.492099</td>\n",
       "    </tr>\n",
       "    <tr>\n",
       "      <th>3</th>\n",
       "      <td>GRB2_proteomics</td>\n",
       "      <td>1.089951e-03</td>\n",
       "      <td>-0.312146</td>\n",
       "    </tr>\n",
       "    <tr>\n",
       "      <th>4</th>\n",
       "      <td>PIK3C3_proteomics</td>\n",
       "      <td>1.225949e-03</td>\n",
       "      <td>-0.102518</td>\n",
       "    </tr>\n",
       "  </tbody>\n",
       "</table>\n",
       "</div>"
      ],
      "text/plain": [
       "          Proteomics   Gbm_P_Value  Gbm_Median\n",
       "0    PTEN_proteomics  1.219523e-07   -0.511726\n",
       "1   MAPK3_proteomics  1.020660e-06   -0.665105\n",
       "2  PIK3CD_proteomics  1.030815e-03   -0.492099\n",
       "3    GRB2_proteomics  1.089951e-03   -0.312146\n",
       "4  PIK3C3_proteomics  1.225949e-03   -0.102518"
      ]
     },
     "execution_count": 9,
     "metadata": {},
     "output_type": "execute_result"
    }
   ],
   "source": [
    "g_merged = g_pval.merge(g_med, on='Proteomics',how='outer')\n",
    "\n",
    "g_merged.head()"
   ]
  },
  {
   "cell_type": "markdown",
   "metadata": {},
   "source": [
    "# Repeat for other cancers."
   ]
  },
  {
   "cell_type": "markdown",
   "metadata": {},
   "source": [
    "# Ovarian"
   ]
  },
  {
   "cell_type": "code",
   "execution_count": 10,
   "metadata": {},
   "outputs": [
    {
     "name": "stderr",
     "output_type": "stream",
     "text": [
      "cptac warning: In joining the somatic_mutation table, no mutations were found for the following samples, so they were filled with Wildtype_Tumor or Wildtype_Normal: 98 samples for the PTEN gene (C:\\Users\\brittany henderson\\Anaconda3\\envs\\Research\\lib\\site-packages\\cptac\\dataset.py, line 383)\n",
      "cptac warning: CNV data was not found for the following samples, so CNV data columns were filled with NaN for these samples: 01OV029, 02OV015 (C:\\Users\\brittany henderson\\Anaconda3\\envs\\Research\\lib\\site-packages\\cptac\\dataset.py, line 383)\n",
      "cptac warning: The following columns were not found in the proteomics dataframe, so they were inserted into joined table, but filled with NaN: CAS9, CCND1, MAP2K2 , MDM2, MTORC2, PIK3R3 (C:\\Users\\brittany henderson\\Anaconda3\\envs\\Research\\lib\\site-packages\\ipykernel_launcher.py, line 11)\n",
      "cptac warning: In joining the somatic_mutation table, no mutations were found for the following samples, so they were filled with Wildtype_Tumor or Wildtype_Normal: 99 samples for the PTEN gene (C:\\Users\\brittany henderson\\Anaconda3\\envs\\Research\\lib\\site-packages\\ipykernel_launcher.py, line 11)\n",
      "cptac warning: Due to dropping the specified levels, dataframe now has 4 duplicated column headers. (C:\\Users\\brittany henderson\\Anaconda3\\envs\\Research\\lib\\site-packages\\ipykernel_launcher.py, line 14)\n"
     ]
    }
   ],
   "source": [
    "gene = 'PTEN'\n",
    "\n",
    "o_del_wt = all_prot_format_df(o, ip)\n",
    "o_del_wt = o_del_wt.dropna(axis='columns', how='all')\n",
    "# Drop duplicate columns - FIX\n",
    "o_del_wt = o_del_wt.loc[:,~o_del_wt.columns.duplicated()]"
   ]
  },
  {
   "cell_type": "code",
   "execution_count": 11,
   "metadata": {},
   "outputs": [
    {
     "name": "stdout",
     "output_type": "stream",
     "text": [
      "significant pvals: \n",
      "         Comparison   P_Value\n",
      "0  PTEN_proteomics  0.000909\n"
     ]
    }
   ],
   "source": [
    "cols = list(o_del_wt.columns[:-1])\n",
    "\n",
    "# Get only sig sites\n",
    "o_sig = u.wrap_ttest(o_del_wt, 'Mutation', cols, correction_method = 'fdr_bh')\n",
    "if o_sig is not None:\n",
    "    o_sig_list = list(o_sig.Comparison)\n",
    "else: \n",
    "    o_sig_list = None\n",
    "print('significant pvals: \\n',o_sig)\n",
    "\n",
    "# Get all pvals\n",
    "o = u.wrap_ttest(o_del_wt, 'Mutation', cols, return_all = True, correction_method = 'fdr_bh')\n",
    "o_pval = o.rename(columns = {'Comparison': 'Proteomics','P_Value': 'Ov_P_Value'})"
   ]
  },
  {
   "cell_type": "code",
   "execution_count": 12,
   "metadata": {},
   "outputs": [],
   "source": [
    "o_med = get_change_in_medians_df(o, \"Ov\", o_del_wt, cols)"
   ]
  },
  {
   "cell_type": "code",
   "execution_count": 13,
   "metadata": {},
   "outputs": [],
   "source": [
    "o_merged = o_pval.merge(o_med, on='Proteomics',how='outer')"
   ]
  },
  {
   "cell_type": "markdown",
   "metadata": {},
   "source": [
    "# Breast"
   ]
  },
  {
   "cell_type": "code",
   "execution_count": 14,
   "metadata": {},
   "outputs": [
    {
     "name": "stderr",
     "output_type": "stream",
     "text": [
      "cptac warning: In joining the somatic_mutation table, no mutations were found for the following samples, so they were filled with Wildtype_Tumor or Wildtype_Normal: 113 samples for the PTEN gene (C:\\Users\\brittany henderson\\Anaconda3\\envs\\Research\\lib\\site-packages\\cptac\\dataset.py, line 383)\n",
      "cptac warning: The following columns were not found in the proteomics dataframe, so they were inserted into joined table, but filled with NaN: CAS9, CSNK2A1, MAP2K2 , MDM2, MTORC2, PIK3R3 (C:\\Users\\brittany henderson\\Anaconda3\\envs\\Research\\lib\\site-packages\\ipykernel_launcher.py, line 11)\n",
      "cptac warning: In joining the somatic_mutation table, no mutations were found for the following samples, so they were filled with Wildtype_Tumor or Wildtype_Normal: 113 samples for the PTEN gene (C:\\Users\\brittany henderson\\Anaconda3\\envs\\Research\\lib\\site-packages\\ipykernel_launcher.py, line 11)\n",
      "cptac warning: Due to dropping the specified levels, dataframe now has 2 duplicated column headers. (C:\\Users\\brittany henderson\\Anaconda3\\envs\\Research\\lib\\site-packages\\ipykernel_launcher.py, line 14)\n"
     ]
    },
    {
     "data": {
      "text/html": [
       "<div>\n",
       "<style scoped>\n",
       "    .dataframe tbody tr th:only-of-type {\n",
       "        vertical-align: middle;\n",
       "    }\n",
       "\n",
       "    .dataframe tbody tr th {\n",
       "        vertical-align: top;\n",
       "    }\n",
       "\n",
       "    .dataframe thead th {\n",
       "        text-align: right;\n",
       "    }\n",
       "</style>\n",
       "<table border=\"1\" class=\"dataframe\">\n",
       "  <thead>\n",
       "    <tr style=\"text-align: right;\">\n",
       "      <th>Name</th>\n",
       "      <th>AKT1_proteomics</th>\n",
       "      <th>BAD_proteomics</th>\n",
       "      <th>CCND1_proteomics</th>\n",
       "      <th>CSNK2A2_proteomics</th>\n",
       "      <th>EGFR_proteomics</th>\n",
       "      <th>FOXO1_proteomics</th>\n",
       "      <th>GAB1_proteomics</th>\n",
       "      <th>GRB2_proteomics</th>\n",
       "      <th>GSK3B_proteomics</th>\n",
       "      <th>INPP4B_proteomics</th>\n",
       "      <th>...</th>\n",
       "      <th>ROCK1_proteomics</th>\n",
       "      <th>SHC1_proteomics</th>\n",
       "      <th>SLC9A3R1_proteomics</th>\n",
       "      <th>SOS1_proteomics</th>\n",
       "      <th>TP53_proteomics</th>\n",
       "      <th>TSC2_proteomics</th>\n",
       "      <th>USP13_proteomics</th>\n",
       "      <th>USP7_proteomics</th>\n",
       "      <th>XIAP_proteomics</th>\n",
       "      <th>Mutation</th>\n",
       "    </tr>\n",
       "    <tr>\n",
       "      <th>Patient_ID</th>\n",
       "      <th></th>\n",
       "      <th></th>\n",
       "      <th></th>\n",
       "      <th></th>\n",
       "      <th></th>\n",
       "      <th></th>\n",
       "      <th></th>\n",
       "      <th></th>\n",
       "      <th></th>\n",
       "      <th></th>\n",
       "      <th></th>\n",
       "      <th></th>\n",
       "      <th></th>\n",
       "      <th></th>\n",
       "      <th></th>\n",
       "      <th></th>\n",
       "      <th></th>\n",
       "      <th></th>\n",
       "      <th></th>\n",
       "      <th></th>\n",
       "      <th></th>\n",
       "    </tr>\n",
       "  </thead>\n",
       "  <tbody>\n",
       "    <tr>\n",
       "      <th>CPT000814</th>\n",
       "      <td>-1.3052</td>\n",
       "      <td>-3.4476</td>\n",
       "      <td>-0.9314</td>\n",
       "      <td>0.2406</td>\n",
       "      <td>-0.4834</td>\n",
       "      <td>-3.7568</td>\n",
       "      <td>-1.1271</td>\n",
       "      <td>-0.2427</td>\n",
       "      <td>1.5534</td>\n",
       "      <td>-3.0446</td>\n",
       "      <td>...</td>\n",
       "      <td>-1.1252</td>\n",
       "      <td>1.5515</td>\n",
       "      <td>-1.7943</td>\n",
       "      <td>0.1740</td>\n",
       "      <td>2.0719</td>\n",
       "      <td>-0.3132</td>\n",
       "      <td>0.8608</td>\n",
       "      <td>0.1114</td>\n",
       "      <td>-0.2036</td>\n",
       "      <td>Wildtype_Tumor</td>\n",
       "    </tr>\n",
       "    <tr>\n",
       "      <th>CPT001846</th>\n",
       "      <td>-1.0153</td>\n",
       "      <td>-2.9549</td>\n",
       "      <td>-1.3726</td>\n",
       "      <td>0.3962</td>\n",
       "      <td>4.1062</td>\n",
       "      <td>1.4313</td>\n",
       "      <td>-0.7836</td>\n",
       "      <td>0.0424</td>\n",
       "      <td>-0.2608</td>\n",
       "      <td>-1.6078</td>\n",
       "      <td>...</td>\n",
       "      <td>-0.0308</td>\n",
       "      <td>1.1821</td>\n",
       "      <td>-2.6813</td>\n",
       "      <td>0.0843</td>\n",
       "      <td>-1.0990</td>\n",
       "      <td>0.1296</td>\n",
       "      <td>0.1383</td>\n",
       "      <td>-0.5048</td>\n",
       "      <td>0.6489</td>\n",
       "      <td>Wildtype_Tumor</td>\n",
       "    </tr>\n",
       "    <tr>\n",
       "      <th>X01BR001</th>\n",
       "      <td>-0.9244</td>\n",
       "      <td>-0.0662</td>\n",
       "      <td>-0.4825</td>\n",
       "      <td>-0.4782</td>\n",
       "      <td>1.2191</td>\n",
       "      <td>0.1388</td>\n",
       "      <td>0.2541</td>\n",
       "      <td>-0.5892</td>\n",
       "      <td>-0.5551</td>\n",
       "      <td>-1.8425</td>\n",
       "      <td>...</td>\n",
       "      <td>0.8348</td>\n",
       "      <td>1.3002</td>\n",
       "      <td>-1.4497</td>\n",
       "      <td>0.0299</td>\n",
       "      <td>0.8946</td>\n",
       "      <td>-0.8476</td>\n",
       "      <td>-1.0077</td>\n",
       "      <td>-0.0277</td>\n",
       "      <td>0.3672</td>\n",
       "      <td>Wildtype_Tumor</td>\n",
       "    </tr>\n",
       "    <tr>\n",
       "      <th>X01BR009</th>\n",
       "      <td>-1.7569</td>\n",
       "      <td>1.8181</td>\n",
       "      <td>-1.8982</td>\n",
       "      <td>0.4980</td>\n",
       "      <td>1.6974</td>\n",
       "      <td>0.3465</td>\n",
       "      <td>-0.1929</td>\n",
       "      <td>-0.3572</td>\n",
       "      <td>0.4441</td>\n",
       "      <td>-4.2738</td>\n",
       "      <td>...</td>\n",
       "      <td>0.4158</td>\n",
       "      <td>0.0152</td>\n",
       "      <td>-1.8520</td>\n",
       "      <td>-0.1543</td>\n",
       "      <td>2.4935</td>\n",
       "      <td>-1.0712</td>\n",
       "      <td>-0.3624</td>\n",
       "      <td>-0.4882</td>\n",
       "      <td>-0.9145</td>\n",
       "      <td>Wildtype_Tumor</td>\n",
       "    </tr>\n",
       "    <tr>\n",
       "      <th>X01BR010</th>\n",
       "      <td>0.3344</td>\n",
       "      <td>-0.5176</td>\n",
       "      <td>-0.6633</td>\n",
       "      <td>0.2158</td>\n",
       "      <td>2.4878</td>\n",
       "      <td>1.4308</td>\n",
       "      <td>-0.6238</td>\n",
       "      <td>-1.2560</td>\n",
       "      <td>0.1244</td>\n",
       "      <td>0.2529</td>\n",
       "      <td>...</td>\n",
       "      <td>-0.2732</td>\n",
       "      <td>0.2677</td>\n",
       "      <td>-0.4880</td>\n",
       "      <td>-0.1472</td>\n",
       "      <td>-1.5450</td>\n",
       "      <td>0.4307</td>\n",
       "      <td>-2.2463</td>\n",
       "      <td>-0.8683</td>\n",
       "      <td>0.0849</td>\n",
       "      <td>Deletion</td>\n",
       "    </tr>\n",
       "  </tbody>\n",
       "</table>\n",
       "<p>5 rows × 41 columns</p>\n",
       "</div>"
      ],
      "text/plain": [
       "Name        AKT1_proteomics  BAD_proteomics  CCND1_proteomics  \\\n",
       "Patient_ID                                                      \n",
       "CPT000814           -1.3052         -3.4476           -0.9314   \n",
       "CPT001846           -1.0153         -2.9549           -1.3726   \n",
       "X01BR001            -0.9244         -0.0662           -0.4825   \n",
       "X01BR009            -1.7569          1.8181           -1.8982   \n",
       "X01BR010             0.3344         -0.5176           -0.6633   \n",
       "\n",
       "Name        CSNK2A2_proteomics  EGFR_proteomics  FOXO1_proteomics  \\\n",
       "Patient_ID                                                          \n",
       "CPT000814               0.2406          -0.4834           -3.7568   \n",
       "CPT001846               0.3962           4.1062            1.4313   \n",
       "X01BR001               -0.4782           1.2191            0.1388   \n",
       "X01BR009                0.4980           1.6974            0.3465   \n",
       "X01BR010                0.2158           2.4878            1.4308   \n",
       "\n",
       "Name        GAB1_proteomics  GRB2_proteomics  GSK3B_proteomics  \\\n",
       "Patient_ID                                                       \n",
       "CPT000814           -1.1271          -0.2427            1.5534   \n",
       "CPT001846           -0.7836           0.0424           -0.2608   \n",
       "X01BR001             0.2541          -0.5892           -0.5551   \n",
       "X01BR009            -0.1929          -0.3572            0.4441   \n",
       "X01BR010            -0.6238          -1.2560            0.1244   \n",
       "\n",
       "Name        INPP4B_proteomics  ...  ROCK1_proteomics  SHC1_proteomics  \\\n",
       "Patient_ID                     ...                                      \n",
       "CPT000814             -3.0446  ...           -1.1252           1.5515   \n",
       "CPT001846             -1.6078  ...           -0.0308           1.1821   \n",
       "X01BR001              -1.8425  ...            0.8348           1.3002   \n",
       "X01BR009              -4.2738  ...            0.4158           0.0152   \n",
       "X01BR010               0.2529  ...           -0.2732           0.2677   \n",
       "\n",
       "Name        SLC9A3R1_proteomics  SOS1_proteomics  TP53_proteomics  \\\n",
       "Patient_ID                                                          \n",
       "CPT000814               -1.7943           0.1740           2.0719   \n",
       "CPT001846               -2.6813           0.0843          -1.0990   \n",
       "X01BR001                -1.4497           0.0299           0.8946   \n",
       "X01BR009                -1.8520          -0.1543           2.4935   \n",
       "X01BR010                -0.4880          -0.1472          -1.5450   \n",
       "\n",
       "Name        TSC2_proteomics  USP13_proteomics  USP7_proteomics  \\\n",
       "Patient_ID                                                       \n",
       "CPT000814           -0.3132            0.8608           0.1114   \n",
       "CPT001846            0.1296            0.1383          -0.5048   \n",
       "X01BR001            -0.8476           -1.0077          -0.0277   \n",
       "X01BR009            -1.0712           -0.3624          -0.4882   \n",
       "X01BR010             0.4307           -2.2463          -0.8683   \n",
       "\n",
       "Name        XIAP_proteomics        Mutation  \n",
       "Patient_ID                                   \n",
       "CPT000814           -0.2036  Wildtype_Tumor  \n",
       "CPT001846            0.6489  Wildtype_Tumor  \n",
       "X01BR001             0.3672  Wildtype_Tumor  \n",
       "X01BR009            -0.9145  Wildtype_Tumor  \n",
       "X01BR010             0.0849        Deletion  \n",
       "\n",
       "[5 rows x 41 columns]"
      ]
     },
     "execution_count": 14,
     "metadata": {},
     "output_type": "execute_result"
    }
   ],
   "source": [
    "gene = 'PTEN'\n",
    "\n",
    "b_del_wt = all_prot_format_df(b, ip)\n",
    "b_del_wt = b_del_wt.dropna(axis='columns', how='all')\n",
    "b_del_wt = b_del_wt.loc[:,~b_del_wt.columns.duplicated()]\n",
    "b_del_wt.head()"
   ]
  },
  {
   "cell_type": "code",
   "execution_count": 15,
   "metadata": {},
   "outputs": [
    {
     "name": "stdout",
     "output_type": "stream",
     "text": [
      "significant pvals: \n",
      "         Comparison   P_Value\n",
      "0  PTEN_proteomics  0.000004\n"
     ]
    }
   ],
   "source": [
    "cols = list(b_del_wt.columns[:-1])\n",
    "\n",
    "# Get only sig sites\n",
    "b_sig = u.wrap_ttest(b_del_wt, 'Mutation', cols, correction_method = 'fdr_bh')\n",
    "if b_sig is not None:\n",
    "    b_sig_list = list(b_sig.Comparison)\n",
    "else: \n",
    "    b_sig_list = None\n",
    "print('significant pvals: \\n',b_sig)\n",
    "\n",
    "# Get all pvals\n",
    "b_pval = u.wrap_ttest(b_del_wt, 'Mutation', cols, return_all = True)\n",
    "b_pval = b_pval.rename(columns = {'Comparison': 'Proteomics','P_Value': 'Brca_P_Value'})"
   ]
  },
  {
   "cell_type": "code",
   "execution_count": 16,
   "metadata": {},
   "outputs": [],
   "source": [
    "b_med = get_change_in_medians_df(b, \"Brca\", b_del_wt, cols)"
   ]
  },
  {
   "cell_type": "code",
   "execution_count": 17,
   "metadata": {},
   "outputs": [],
   "source": [
    "b_merged = b_pval.merge(b_med, on='Proteomics',how='outer')"
   ]
  },
  {
   "cell_type": "markdown",
   "metadata": {},
   "source": [
    "# Colon"
   ]
  },
  {
   "cell_type": "code",
   "execution_count": 18,
   "metadata": {},
   "outputs": [
    {
     "name": "stderr",
     "output_type": "stream",
     "text": [
      "cptac warning: In joining the somatic_mutation table, no mutations were found for the following samples, so they were filled with Wildtype_Tumor or Wildtype_Normal: 100 samples for the PTEN gene (C:\\Users\\brittany henderson\\Anaconda3\\envs\\Research\\lib\\site-packages\\cptac\\dataset.py, line 383)\n",
      "cptac warning: CNV data was not found for the following samples, so CNV data columns were filled with NaN for these samples: 05CO045 (C:\\Users\\brittany henderson\\Anaconda3\\envs\\Research\\lib\\site-packages\\cptac\\dataset.py, line 383)\n",
      "cptac warning: The following columns were not found in the proteomics dataframe, so they were inserted into joined table, but filled with NaN: CAS9, CCND1, FOXO1, MAGI3, MAP2K2 , MAST2, MDM2, MTORC2, PIK3R3, PREX2 (C:\\Users\\brittany henderson\\Anaconda3\\envs\\Research\\lib\\site-packages\\ipykernel_launcher.py, line 11)\n",
      "cptac warning: In joining the somatic_mutation table, no mutations were found for the following samples, so they were filled with Wildtype_Tumor or Wildtype_Normal: 201 samples for the PTEN gene (C:\\Users\\brittany henderson\\Anaconda3\\envs\\Research\\lib\\site-packages\\ipykernel_launcher.py, line 11)\n",
      "cptac warning: proteomics data was not found for the following samples, so proteomics data columns were filled with NaN for these samples: 01CO001, 05CO005, 05CO007, 05CO014, 05CO055, 11CO059, 11CO060, 14CO002, 16CO012, 24CO005 (C:\\Users\\brittany henderson\\Anaconda3\\envs\\Research\\lib\\site-packages\\ipykernel_launcher.py, line 11)\n"
     ]
    }
   ],
   "source": [
    "gene = 'PTEN'\n",
    "\n",
    "c_del_wt = all_prot_format_df(col, ip)\n",
    "c_del_wt = c_del_wt.dropna(axis='columns', how='all')\n",
    "c_del_wt = c_del_wt.loc[:,~c_del_wt.columns.duplicated()]"
   ]
  },
  {
   "cell_type": "code",
   "execution_count": 19,
   "metadata": {},
   "outputs": [
    {
     "name": "stdout",
     "output_type": "stream",
     "text": [
      "significant pvals: \n",
      " None\n"
     ]
    }
   ],
   "source": [
    "cols = list(c_del_wt.columns[:-1])\n",
    "\n",
    "# Get only sig sites\n",
    "c_sig = u.wrap_ttest(c_del_wt, 'Mutation', cols, correction_method = 'fdr_bh')\n",
    "if c_sig is not None:\n",
    "    c_sig_list = list(c_sig.Comparison)\n",
    "else: \n",
    "    c_sig_list = None\n",
    "print('significant pvals: \\n',c_sig)\n",
    "\n",
    "# Get all pvals\n",
    "c_pval = u.wrap_ttest(c_del_wt, 'Mutation', cols, return_all = True, correction_method = 'fdr_bh')\n",
    "c_pval = c_pval.rename(columns = {'Comparison': 'Proteomics','P_Value': 'Colon_P_Value'})"
   ]
  },
  {
   "cell_type": "code",
   "execution_count": 20,
   "metadata": {},
   "outputs": [],
   "source": [
    "c_med = get_change_in_medians_df(col, \"Colon\", c_del_wt, cols)"
   ]
  },
  {
   "cell_type": "code",
   "execution_count": 21,
   "metadata": {},
   "outputs": [],
   "source": [
    "c_merged = c_pval.merge(c_med, on='Proteomics',how='outer')"
   ]
  },
  {
   "cell_type": "markdown",
   "metadata": {},
   "source": [
    "# Hnscc"
   ]
  },
  {
   "cell_type": "code",
   "execution_count": 22,
   "metadata": {},
   "outputs": [
    {
     "name": "stderr",
     "output_type": "stream",
     "text": [
      "cptac warning: In joining the somatic_mutation table, no mutations were found for the following samples, so they were filled with Wildtype_Tumor or Wildtype_Normal: 109 samples for the PTEN gene (C:\\Users\\brittany henderson\\Anaconda3\\envs\\Research\\lib\\site-packages\\cptac\\dataset.py, line 383)\n",
      "cptac warning: CNV data was not found for the following samples, so CNV data columns were filled with NaN for these samples: C3L-02617, C3N-02727 (C:\\Users\\brittany henderson\\Anaconda3\\envs\\Research\\lib\\site-packages\\cptac\\dataset.py, line 383)\n",
      "cptac warning: The following columns were not found in the proteomics dataframe, so they were inserted into joined table, but filled with NaN: CAS9, MAP2K2 , MDM2, MTORC2, PIK3R3 (C:\\Users\\brittany henderson\\Anaconda3\\envs\\Research\\lib\\site-packages\\ipykernel_launcher.py, line 11)\n",
      "cptac warning: In joining the somatic_mutation table, no mutations were found for the following samples, so they were filled with Wildtype_Tumor or Wildtype_Normal: 176 samples for the PTEN gene (C:\\Users\\brittany henderson\\Anaconda3\\envs\\Research\\lib\\site-packages\\ipykernel_launcher.py, line 11)\n"
     ]
    }
   ],
   "source": [
    "gene = 'PTEN'\n",
    "\n",
    "h_del_wt = all_prot_format_df(h, ip)\n",
    "h_del_wt = h_del_wt.dropna(axis='columns', how='all')"
   ]
  },
  {
   "cell_type": "code",
   "execution_count": 23,
   "metadata": {},
   "outputs": [
    {
     "name": "stderr",
     "output_type": "stream",
     "text": [
      "C:\\Users\\brittany henderson\\Anaconda3\\envs\\Research\\lib\\site-packages\\numpy\\core\\fromnumeric.py:3367: RuntimeWarning: Degrees of freedom <= 0 for slice\n",
      "  **kwargs)\n",
      "C:\\Users\\brittany henderson\\Anaconda3\\envs\\Research\\lib\\site-packages\\numpy\\core\\_methods.py:132: RuntimeWarning: invalid value encountered in double_scalars\n",
      "  ret = ret.dtype.type(ret / rcount)\n",
      "C:\\Users\\brittany henderson\\Anaconda3\\envs\\Research\\lib\\site-packages\\scipy\\stats\\_distn_infrastructure.py:877: RuntimeWarning: invalid value encountered in greater\n",
      "  return (self.a < x) & (x < self.b)\n",
      "C:\\Users\\brittany henderson\\Anaconda3\\envs\\Research\\lib\\site-packages\\scipy\\stats\\_distn_infrastructure.py:877: RuntimeWarning: invalid value encountered in less\n",
      "  return (self.a < x) & (x < self.b)\n",
      "C:\\Users\\brittany henderson\\Anaconda3\\envs\\Research\\lib\\site-packages\\scipy\\stats\\_distn_infrastructure.py:1831: RuntimeWarning: invalid value encountered in less_equal\n",
      "  cond2 = cond0 & (x <= self.a)\n",
      "C:\\Users\\brittany henderson\\Anaconda3\\envs\\Research\\lib\\site-packages\\statsmodels\\stats\\multitest.py:320: RuntimeWarning: invalid value encountered in less_equal\n",
      "  reject = pvals_sorted <= ecdffactor*alpha\n",
      "C:\\Users\\brittany henderson\\Anaconda3\\envs\\Research\\lib\\site-packages\\statsmodels\\stats\\multitest.py:328: RuntimeWarning: invalid value encountered in greater\n",
      "  pvals_corrected[pvals_corrected>1] = 1\n",
      "C:\\Users\\brittany henderson\\Anaconda3\\envs\\Research\\lib\\site-packages\\statsmodels\\stats\\multitest.py:251: RuntimeWarning: invalid value encountered in greater\n",
      "  pvals_corrected[pvals_corrected>1] = 1\n",
      "C:\\Users\\brittany henderson\\Anaconda3\\envs\\Research\\lib\\site-packages\\numpy\\core\\fromnumeric.py:3367: RuntimeWarning: Degrees of freedom <= 0 for slice\n",
      "  **kwargs)\n",
      "C:\\Users\\brittany henderson\\Anaconda3\\envs\\Research\\lib\\site-packages\\numpy\\core\\_methods.py:132: RuntimeWarning: invalid value encountered in double_scalars\n",
      "  ret = ret.dtype.type(ret / rcount)\n",
      "C:\\Users\\brittany henderson\\Anaconda3\\envs\\Research\\lib\\site-packages\\scipy\\stats\\_distn_infrastructure.py:877: RuntimeWarning: invalid value encountered in greater\n",
      "  return (self.a < x) & (x < self.b)\n",
      "C:\\Users\\brittany henderson\\Anaconda3\\envs\\Research\\lib\\site-packages\\scipy\\stats\\_distn_infrastructure.py:877: RuntimeWarning: invalid value encountered in less\n",
      "  return (self.a < x) & (x < self.b)\n",
      "C:\\Users\\brittany henderson\\Anaconda3\\envs\\Research\\lib\\site-packages\\scipy\\stats\\_distn_infrastructure.py:1831: RuntimeWarning: invalid value encountered in less_equal\n",
      "  cond2 = cond0 & (x <= self.a)\n",
      "C:\\Users\\brittany henderson\\Anaconda3\\envs\\Research\\lib\\site-packages\\statsmodels\\stats\\multitest.py:320: RuntimeWarning: invalid value encountered in less_equal\n",
      "  reject = pvals_sorted <= ecdffactor*alpha\n",
      "C:\\Users\\brittany henderson\\Anaconda3\\envs\\Research\\lib\\site-packages\\statsmodels\\stats\\multitest.py:328: RuntimeWarning: invalid value encountered in greater\n",
      "  pvals_corrected[pvals_corrected>1] = 1\n",
      "C:\\Users\\brittany henderson\\Anaconda3\\envs\\Research\\lib\\site-packages\\statsmodels\\stats\\multitest.py:251: RuntimeWarning: invalid value encountered in greater\n",
      "  pvals_corrected[pvals_corrected>1] = 1\n"
     ]
    },
    {
     "name": "stdout",
     "output_type": "stream",
     "text": [
      "significant pvals: \n",
      "           Comparison   P_Value\n",
      "0    PTEN_proteomics  0.000023\n",
      "1  INPP4B_proteomics  0.000676\n",
      "2  PIK3CA_proteomics  0.001677\n"
     ]
    }
   ],
   "source": [
    "cols = list(h_del_wt.columns[:-1])\n",
    "\n",
    "# Get only sig sites\n",
    "h_sig = u.wrap_ttest(h_del_wt, 'Mutation', cols, correction_method = 'fdr_bh')\n",
    "if h_sig is not None:\n",
    "    h_sig_list = list(h_sig.Comparison)\n",
    "else: \n",
    "    h_sig_list = None\n",
    "print('significant pvals: \\n',h_sig)\n",
    "\n",
    "# Get all pvals\n",
    "h_pval = u.wrap_ttest(h_del_wt, 'Mutation', cols, return_all = True, correction_method = 'fdr_bh')\n",
    "h_pval = h_pval.rename(columns = {'Comparison': 'Proteomics','P_Value': 'Hnscc_P_Value'})"
   ]
  },
  {
   "cell_type": "code",
   "execution_count": 24,
   "metadata": {},
   "outputs": [],
   "source": [
    "h_med = get_change_in_medians_df(h, \"Hnscc\", h_del_wt, cols)"
   ]
  },
  {
   "cell_type": "code",
   "execution_count": 25,
   "metadata": {},
   "outputs": [],
   "source": [
    "h_merged = h_pval.merge(h_med, on='Proteomics',how='outer')\n",
    "#del_wt[['PREX2_proteomics','Mutation']].dropna() # in median, not in pval (only 1 value for deletion)"
   ]
  },
  {
   "cell_type": "markdown",
   "metadata": {},
   "source": [
    "# Luad"
   ]
  },
  {
   "cell_type": "code",
   "execution_count": 26,
   "metadata": {},
   "outputs": [
    {
     "name": "stderr",
     "output_type": "stream",
     "text": [
      "cptac warning: The following columns were not found in the proteomics dataframe, so they were inserted into joined table, but filled with NaN: CAS9, CSNK2A1, CSNK2A2, MAP2K2 , MDM2, MTOR, MTORC2, PIK3R3, RAF1, SOS1, TSC2 (C:\\Users\\brittany henderson\\Anaconda3\\envs\\Research\\lib\\site-packages\\ipykernel_launcher.py, line 34)\n",
      "cptac warning: CNV data was not found for the following samples, so CNV data columns were filled with NaN for these samples: C3L-00001.N, C3L-00009.N, C3L-00080.N, C3L-00083.N, C3L-00093.N, C3L-00094.N, C3L-00095.N, C3L-00140.N, C3L-00144.N, C3L-00263.N, C3L-00279.N, C3L-00368.N, C3L-00412.N, C3L-00422.N, C3L-00510.N, C3L-00604.N, C3L-00893.N, C3L-00913.N, C3L-00973.N, C3L-01330.N, C3L-01632.N, C3L-01682.N, C3L-01683.N, C3L-01889.N, C3L-01890, C3L-01890.N, C3L-01924.N, C3L-02219.N, C3L-02345.N, C3L-02348.N, C3L-02350.N, C3L-02365.N, C3L-02508.N, C3L-02549.N, C3N-00167.N, C3N-00169.N, C3N-00175.N, C3N-00180.N, C3N-00199.N, C3N-00203.N, C3N-00217.N, C3N-00223.N, C3N-00293.N, C3N-00433.N, C3N-00546.N, C3N-00547.N, C3N-00549.N, C3N-00550.N, C3N-00551.N, C3N-00552.N, C3N-00556.N, C3N-00559.N, C3N-00560.N, C3N-00572.N, C3N-00574.N, C3N-00578.N, C3N-00579.N, C3N-00580.N, C3N-00704.N, C3N-00737.N, C3N-00738.N, C3N-00959.N, C3N-01016.N, C3N-01021.N, C3N-01023.N, C3N-01024.N, C3N-01030.N, C3N-01071.N, C3N-01072.N, C3N-01405.N, C3N-01410.N, C3N-01413.N, C3N-01414.N, C3N-01415.N, C3N-01416.N, C3N-01488.N, C3N-01489.N, C3N-01799.N, C3N-01823.N, C3N-02000.N, C3N-02002.N, C3N-02003.N, C3N-02067.N, C3N-02087.N, C3N-02089.N, C3N-02145.N, C3N-02149.N, C3N-02155.N, C3N-02158.N, C3N-02379.N, C3N-02380.N, C3N-02421.N, C3N-02423.N, C3N-02424.N, C3N-02433.N, C3N-02529.N, C3N-02572.N, C3N-02582.N, C3N-02586.N, C3N-02587.N, C3N-02588.N, C3N-02729.N (C:\\Users\\brittany henderson\\Anaconda3\\envs\\Research\\lib\\site-packages\\ipykernel_launcher.py, line 34)\n",
      "cptac warning: Due to dropping the specified levels, dataframe now has 4 duplicated column headers. (C:\\Users\\brittany henderson\\Anaconda3\\envs\\Research\\lib\\site-packages\\ipykernel_launcher.py, line 35)\n",
      "cptac warning: You tried to flatten an index that didn't have multiple levels, so we didn't actually change anything. (C:\\Users\\brittany henderson\\Anaconda3\\envs\\Research\\lib\\site-packages\\ipykernel_launcher.py, line 35)\n",
      "C:\\Users\\brittany henderson\\Anaconda3\\envs\\Research\\lib\\site-packages\\ipykernel_launcher.py:49: SettingWithCopyWarning: \n",
      "A value is trying to be set on a copy of a slice from a DataFrame.\n",
      "Try using .loc[row_indexer,col_indexer] = value instead\n",
      "\n",
      "See the caveats in the documentation: https://pandas.pydata.org/pandas-docs/stable/user_guide/indexing.html#returning-a-view-versus-a-copy\n"
     ]
    }
   ],
   "source": [
    "gene = 'PTEN'\n",
    "\n",
    "l_del_wt = all_prot_format_df(l, ip)\n",
    "l_del_wt = l_del_wt.dropna(axis='columns', how='all')\n",
    "l_del_wt = l_del_wt.loc[:,~l_del_wt.columns.duplicated()]"
   ]
  },
  {
   "cell_type": "code",
   "execution_count": 27,
   "metadata": {},
   "outputs": [
    {
     "name": "stdout",
     "output_type": "stream",
     "text": [
      "significant pvals: \n",
      "           Comparison       P_Value\n",
      "0    EGFR_proteomics  9.121167e-07\n",
      "1  PIK3CD_proteomics  4.312883e-04\n"
     ]
    }
   ],
   "source": [
    "cols = list(l_del_wt.columns[:-2])\n",
    "\n",
    "# Get only sig sites\n",
    "l_sig = u.wrap_ttest(l_del_wt, 'Mutation', cols, correction_method = 'fdr_bh')\n",
    "if l_sig is not None:\n",
    "    l_sig_list = list(l_sig.Comparison)\n",
    "else: \n",
    "    l_sig_list = None\n",
    "print('significant pvals: \\n',l_sig)\n",
    "\n",
    "# Get all pvals\n",
    "l_pval = u.wrap_ttest(l_del_wt, 'Mutation', cols, return_all = True, correction_method = 'fdr_bh')\n",
    "l_pval = l_pval.rename(columns = {'Comparison': 'Proteomics','P_Value': 'Luad_P_Value'})\n",
    "# isoforms for some proteins"
   ]
  },
  {
   "cell_type": "code",
   "execution_count": 28,
   "metadata": {},
   "outputs": [],
   "source": [
    "#Isoform code - fix later\n",
    "#del_wt.replace(to_replace = r'_NP_.*$', value = '', regex = True)"
   ]
  },
  {
   "cell_type": "code",
   "execution_count": 29,
   "metadata": {},
   "outputs": [],
   "source": [
    "l_med = get_change_in_medians_df(l, \"Luad\", l_del_wt, cols)"
   ]
  },
  {
   "cell_type": "code",
   "execution_count": 30,
   "metadata": {},
   "outputs": [],
   "source": [
    "l_merged = l_pval.merge(l_med, on='Proteomics',how='outer')"
   ]
  },
  {
   "cell_type": "markdown",
   "metadata": {},
   "source": [
    "# Lscc"
   ]
  },
  {
   "cell_type": "code",
   "execution_count": 31,
   "metadata": {},
   "outputs": [
    {
     "name": "stderr",
     "output_type": "stream",
     "text": [
      "cptac warning: In joining the somatic_mutation table, no mutations were found for the following samples, so they were filled with Wildtype_Tumor or Wildtype_Normal: 99 samples for the PTEN gene (C:\\Users\\brittany henderson\\Anaconda3\\envs\\Research\\lib\\site-packages\\cptac\\dataset.py, line 383)\n",
      "cptac warning: The following columns were not found in the proteomics dataframe, so they were inserted into joined table, but filled with NaN: CAS9, CSNK2A2, MAP2K2 , MDM2, MTOR, MTORC2, PIK3C3, PIK3R3, RAF1, SOS1, XIAP (C:\\Users\\brittany henderson\\Anaconda3\\envs\\Research\\lib\\site-packages\\ipykernel_launcher.py, line 11)\n",
      "cptac warning: In joining the somatic_mutation table, no mutations were found for the following samples, so they were filled with Wildtype_Tumor or Wildtype_Normal: 201 samples for the PTEN gene (C:\\Users\\brittany henderson\\Anaconda3\\envs\\Research\\lib\\site-packages\\ipykernel_launcher.py, line 11)\n",
      "cptac warning: Due to dropping the specified levels, dataframe now has 2 duplicated column headers. (C:\\Users\\brittany henderson\\Anaconda3\\envs\\Research\\lib\\site-packages\\ipykernel_launcher.py, line 14)\n"
     ]
    }
   ],
   "source": [
    "gene = 'PTEN'\n",
    "\n",
    "ls_del_wt = all_prot_format_df(ls, ip)\n",
    "ls_del_wt = ls_del_wt.dropna(axis='columns', how='all')\n",
    "ls_del_wt = ls_del_wt.loc[:,~ls_del_wt.columns.duplicated()]"
   ]
  },
  {
   "cell_type": "code",
   "execution_count": 32,
   "metadata": {},
   "outputs": [
    {
     "name": "stdout",
     "output_type": "stream",
     "text": [
      "significant pvals: \n",
      "            Comparison   P_Value\n",
      "0     PTEN_proteomics  0.000056\n",
      "1   PIK3CD_proteomics  0.000292\n",
      "2  CSNK2A1_proteomics  0.000684\n",
      "3    GSK3B_proteomics  0.002182\n",
      "4    USP13_proteomics  0.002580\n",
      "5      MVP_proteomics  0.003226\n"
     ]
    }
   ],
   "source": [
    "cols = list(ls_del_wt.columns[:-2])\n",
    "\n",
    "# Get only sig sites\n",
    "ls_sig = u.wrap_ttest(ls_del_wt, 'Mutation', cols, correction_method = 'fdr_bh')\n",
    "if ls_sig is not None:\n",
    "    ls_sig_list = list(ls_sig.Comparison)\n",
    "else: \n",
    "    ls_sig_list = None\n",
    "print('significant pvals: \\n',ls_sig)\n",
    "\n",
    "# Get all pvals\n",
    "ls_pval = u.wrap_ttest(ls_del_wt, 'Mutation', cols, return_all = True, correction_method = 'fdr_bh')\n",
    "ls_pval = ls_pval.rename(columns = {'Comparison': 'Proteomics','P_Value': 'Lscc_P_Value'})\n",
    "#ls_pval # isoforms for some proteins"
   ]
  },
  {
   "cell_type": "code",
   "execution_count": 33,
   "metadata": {},
   "outputs": [],
   "source": [
    "ls_med = get_change_in_medians_df(ls, \"Lscc\", ls_del_wt, cols)"
   ]
  },
  {
   "cell_type": "code",
   "execution_count": 34,
   "metadata": {},
   "outputs": [],
   "source": [
    "ls_merged = ls_pval.merge(ls_med, on='Proteomics',how='outer')"
   ]
  },
  {
   "cell_type": "markdown",
   "metadata": {},
   "source": [
    "# Endometrial"
   ]
  },
  {
   "cell_type": "markdown",
   "metadata": {},
   "source": [
    "The Endometrial data set does not have enough cnv deletions to perform a t-test, however the data set does have enough truncation type mutations (nonsense and frame shifts). Different code is needed to create the data frame for Endometrial."
   ]
  },
  {
   "cell_type": "code",
   "execution_count": 36,
   "metadata": {},
   "outputs": [
    {
     "name": "stderr",
     "output_type": "stream",
     "text": [
      "cptac warning: In joining the somatic_mutation table, no mutations were found for the following samples, so they were filled with Wildtype_Tumor or Wildtype_Normal: 20 samples for the PTEN gene (C:\\Users\\brittany henderson\\Anaconda3\\envs\\Research\\lib\\site-packages\\cptac\\dataset.py, line 383)\n",
      "cptac warning: The following columns were not found in the proteomics dataframe, so they were inserted into joined table, but filled with NaN: CAS9, MAP2K2 , MDM2, MTORC2, PIK3R3 (C:\\Users\\brittany henderson\\Anaconda3\\envs\\Research\\lib\\site-packages\\ipykernel_launcher.py, line 5)\n",
      "cptac warning: In joining the somatic_mutation table, no mutations were found for the following samples, so they were filled with Wildtype_Tumor or Wildtype_Normal: 69 samples for the PTEN gene (C:\\Users\\brittany henderson\\Anaconda3\\envs\\Research\\lib\\site-packages\\ipykernel_launcher.py, line 5)\n",
      "C:\\Users\\brittany henderson\\Anaconda3\\envs\\Research\\lib\\site-packages\\ipykernel_launcher.py:16: SettingWithCopyWarning: \n",
      "A value is trying to be set on a copy of a slice from a DataFrame.\n",
      "Try using .loc[row_indexer,col_indexer] = value instead\n",
      "\n",
      "See the caveats in the documentation: https://pandas.pydata.org/pandas-docs/stable/user_guide/indexing.html#returning-a-view-versus-a-copy\n",
      "  app.launch_new_instance()\n"
     ]
    },
    {
     "data": {
      "text/plain": [
       "Truncation        53\n",
       "Wildtype_Tumor    15\n",
       "Name: Mutation, dtype: int64"
      ]
     },
     "execution_count": 36,
     "metadata": {},
     "output_type": "execute_result"
    }
   ],
   "source": [
    "en_mut_type = en.get_genotype_all_vars(gene)\n",
    "\n",
    "# merge cnv with genotype all mut type\n",
    "prot_and_mutations = en.join_omics_to_mutations(\n",
    "    mutations_genes = [gene], omics_df_name = 'proteomics', omics_genes = ip)\n",
    "prot_and_mutations = prot_and_mutations[prot_and_mutations.Sample_Status == \"Tumor\"] # drop Normal samples\n",
    "ip_df = prot_and_mutations.iloc[:,:-4] #drop mutation, location cols\n",
    "en_mut_type = en_mut_type[['Mutation']] \n",
    "merged = ip_df.join(en_mut_type) # merge mutation col from function (includes cnv)\n",
    "\n",
    "# Keep two values to compare\n",
    "compare = ['Wildtype_Tumor','Nonsense_Mutation','Frame_Shift_Ins','Frame_Shift_Del']\n",
    "get = merged['Mutation'].isin(compare)\n",
    "trunc_wt = merged[get]\n",
    "trunc_wt['Mutation'] = np.where(\n",
    "                trunc_wt['Mutation'] == 'Wildtype_Tumor', 'Wildtype_Tumor', 'Truncation')\n",
    "trunc_wt['Mutation'].value_counts()"
   ]
  },
  {
   "cell_type": "code",
   "execution_count": 37,
   "metadata": {},
   "outputs": [
    {
     "name": "stdout",
     "output_type": "stream",
     "text": [
      "significant pvals: \n",
      "            Comparison   P_Value\n",
      "0     PTEN_proteomics  0.000640\n",
      "1     TP53_proteomics  0.001246\n",
      "2   PIK3CA_proteomics  0.001761\n",
      "3  CSNK2A1_proteomics  0.002364\n",
      "4     EGFR_proteomics  0.006128\n"
     ]
    }
   ],
   "source": [
    "e_sig = u.wrap_ttest(trunc_wt, 'Mutation', cols, correction_method = 'fdr_bh')\n",
    "if e_sig is not None:\n",
    "    e_sig_list = list(e_sig.Comparison)\n",
    "else: \n",
    "    e_sig_list = None\n",
    "print('significant pvals: \\n',e_sig)\n",
    "\n",
    "# Get all pvals\n",
    "e_pval = u.wrap_ttest(trunc_wt, 'Mutation', cols, return_all = True, correction_method = 'fdr_bh')\n",
    "e_pval = e_pval.rename(columns = {'Comparison': 'Proteomics','P_Value': 'En_P_Value'})"
   ]
  },
  {
   "cell_type": "markdown",
   "metadata": {},
   "source": [
    "Differences in median with adaption to trunctation mutations."
   ]
  },
  {
   "cell_type": "code",
   "execution_count": 77,
   "metadata": {},
   "outputs": [],
   "source": [
    "t = trunc_wt[trunc_wt.Mutation == \"Truncation\"]\n",
    "wt = trunc_wt[trunc_wt.Mutation == \"Wildtype_Tumor\"]\n",
    "trunc_med = t.median()\n",
    "wt_med = wt.median()\n",
    "\n",
    "en_d = {}\n",
    "\n",
    "for prot in ip:\n",
    "    dif = trunc_med[prot+'_proteomics'] - wt_med[prot+'_proteomics']\n",
    "    en_d[prot+'_proteomics'] = dif\n",
    "    #print(trunc_med[prot+'_proteomics'], '-', wt_med[prot+'_proteomics'], ' = ', en_d[prot+'_proteomics'])\n",
    "    \n",
    "\n",
    "en_med = pd.DataFrame.from_dict(en_d, orient='index', columns=['En_Median'])\n",
    "en_med = en_med.reset_index().rename(columns={'index':'Proteomics'})"
   ]
  },
  {
   "cell_type": "code",
   "execution_count": 39,
   "metadata": {},
   "outputs": [],
   "source": [
    "e_merged = e_pval.merge(en_med, on='Proteomics',how='outer')"
   ]
  },
  {
   "cell_type": "markdown",
   "metadata": {},
   "source": [
    "# Get a list of significant genes in at least one cancer"
   ]
  },
  {
   "cell_type": "code",
   "execution_count": 50,
   "metadata": {},
   "outputs": [
    {
     "data": {
      "text/plain": [
       "16"
      ]
     },
     "execution_count": 50,
     "metadata": {},
     "output_type": "execute_result"
    }
   ],
   "source": [
    "# Keep only genes significant in > 1 cancer\n",
    "all_sig = []\n",
    "\n",
    "sig_lists = [g_sig_list, e_sig_list, b_sig_list, o_sig_list, c_sig_list, h_sig_list, l_sig_list, ls_sig_list]\n",
    "\n",
    "for next_list in sig_lists:\n",
    "    if next_list is not None:\n",
    "        all_sig.append(next_list)\n",
    "        \n",
    "\n",
    "flat_list = [item for sublist in all_sig for item in sublist] #change list of lists, to just one list\n",
    "sig = list(set(flat_list)) # remove duplicates\n",
    "len(sig)\n",
    "\n",
    "sig_genes = list(map(lambda x: str.replace(x, \"_proteomics\", \"\"), sig)) \n",
    "len(sig_genes)"
   ]
  },
  {
   "cell_type": "markdown",
   "metadata": {},
   "source": [
    "# Get a list of significant genes in multiple cancers"
   ]
  },
  {
   "cell_type": "code",
   "execution_count": 41,
   "metadata": {},
   "outputs": [
    {
     "data": {
      "text/plain": [
       "['PIK3CA_proteomics',\n",
       " 'PTEN_proteomics',\n",
       " 'PIK3CD_proteomics',\n",
       " 'EGFR_proteomics',\n",
       " 'CSNK2A1_proteomics']"
      ]
     },
     "execution_count": 41,
     "metadata": {},
     "output_type": "execute_result"
    }
   ],
   "source": [
    "# sig in multiple (more than 1) cancers\n",
    "mult = list(set(i for i in flat_list if flat_list.count(i) > 1)) # Keep genes sig in more than 1 cancer\n",
    "len(mult)\n",
    "mult\n"
   ]
  },
  {
   "cell_type": "code",
   "execution_count": 42,
   "metadata": {},
   "outputs": [
    {
     "name": "stdout",
     "output_type": "stream",
     "text": [
      "Gbm :\n",
      "8 \n",
      "\n",
      "En :\n",
      "5 \n",
      "\n",
      "Brca :\n",
      "1 \n",
      "\n",
      "Ov :\n",
      "1 \n",
      "\n",
      "Colon :\n",
      "Hnscc :\n",
      "3 \n",
      "\n",
      "Luad :\n",
      "2 \n",
      "\n",
      "Luad :\n",
      "6 \n",
      "\n"
     ]
    }
   ],
   "source": [
    "# see sig in cancer\n",
    "cancer = ['Gbm','En','Brca','Ov','Colon','Hnscc','Luad']\n",
    "i = 0\n",
    "for next_list in sig_lists:\n",
    "\n",
    "    print(cancer[i], ':')\n",
    "    if next_list is not None: \n",
    "        print(len(next_list),'\\n')\n",
    "    #print(next_list, '\\n')\n",
    "    if (i < 6):\n",
    "        i += 1\n",
    "    "
   ]
  },
  {
   "cell_type": "markdown",
   "metadata": {},
   "source": [
    "# Heat Maps"
   ]
  },
  {
   "cell_type": "markdown",
   "metadata": {},
   "source": [
    "Interacting Genes - Signficant in > 1 Cancer"
   ]
  },
  {
   "cell_type": "code",
   "execution_count": 43,
   "metadata": {},
   "outputs": [],
   "source": [
    "root = R'~\\Github\\WhenMutationsDontMatter\\PTEN\\Step_3_trans_effect\\csv'\n",
    "sig_df = pd.read_csv(root+R'\\sig_pval_heatmap.csv')"
   ]
  },
  {
   "cell_type": "code",
   "execution_count": 57,
   "metadata": {},
   "outputs": [
    {
     "data": {
      "text/plain": [
       "array(['PTEN', 'MAPK3', 'PIK3CD', 'GRB2', 'PIK3C3', 'USP7', 'MAP2K1',\n",
       "       'PIK3R1', 'INPP4B', 'EGFR', 'CSNK2A1', 'PIK3CA', 'TP53'],\n",
       "      dtype=object)"
      ]
     },
     "execution_count": 57,
     "metadata": {},
     "output_type": "execute_result"
    }
   ],
   "source": [
    "# sig > 1 cancer\n",
    "bool_df = sig_df.Proteomics.isin(sig_genes)\n",
    "plot_df = sig_df[bool_df]\n",
    "plot_df.Proteomics.unique()"
   ]
  },
  {
   "cell_type": "code",
   "execution_count": 58,
   "metadata": {},
   "outputs": [
    {
     "name": "stderr",
     "output_type": "stream",
     "text": [
      "C:\\Users\\brittany henderson\\Anaconda3\\envs\\Research\\lib\\site-packages\\ipykernel_launcher.py:2: SettingWithCopyWarning: \n",
      "A value is trying to be set on a copy of a slice from a DataFrame.\n",
      "Try using .loc[row_indexer,col_indexer] = value instead\n",
      "\n",
      "See the caveats in the documentation: https://pandas.pydata.org/pandas-docs/stable/user_guide/indexing.html#returning-a-view-versus-a-copy\n",
      "  \n"
     ]
    },
    {
     "data": {
      "text/html": [
       "<div>\n",
       "<style scoped>\n",
       "    .dataframe tbody tr th:only-of-type {\n",
       "        vertical-align: middle;\n",
       "    }\n",
       "\n",
       "    .dataframe tbody tr th {\n",
       "        vertical-align: top;\n",
       "    }\n",
       "\n",
       "    .dataframe thead th {\n",
       "        text-align: right;\n",
       "    }\n",
       "</style>\n",
       "<table border=\"1\" class=\"dataframe\">\n",
       "  <thead>\n",
       "    <tr style=\"text-align: right;\">\n",
       "      <th></th>\n",
       "      <th>Proteomics</th>\n",
       "      <th>P_Value</th>\n",
       "      <th>Medians</th>\n",
       "      <th>Cancer</th>\n",
       "      <th>size</th>\n",
       "    </tr>\n",
       "  </thead>\n",
       "  <tbody>\n",
       "    <tr>\n",
       "      <th>12</th>\n",
       "      <td>PTEN</td>\n",
       "      <td>1.219523e-07</td>\n",
       "      <td>-0.511726</td>\n",
       "      <td>Gbm</td>\n",
       "      <td>1.591964</td>\n",
       "    </tr>\n",
       "    <tr>\n",
       "      <th>32</th>\n",
       "      <td>MAPK3</td>\n",
       "      <td>1.020660e-06</td>\n",
       "      <td>-0.665105</td>\n",
       "      <td>Gbm</td>\n",
       "      <td>1.379506</td>\n",
       "    </tr>\n",
       "    <tr>\n",
       "      <th>840</th>\n",
       "      <td>PIK3CD</td>\n",
       "      <td>1.030815e-03</td>\n",
       "      <td>-0.492099</td>\n",
       "      <td>Gbm</td>\n",
       "      <td>0.687741</td>\n",
       "    </tr>\n",
       "    <tr>\n",
       "      <th>865</th>\n",
       "      <td>GRB2</td>\n",
       "      <td>1.089951e-03</td>\n",
       "      <td>-0.312146</td>\n",
       "      <td>Gbm</td>\n",
       "      <td>0.682162</td>\n",
       "    </tr>\n",
       "    <tr>\n",
       "      <th>913</th>\n",
       "      <td>PIK3C3</td>\n",
       "      <td>1.225949e-03</td>\n",
       "      <td>-0.102518</td>\n",
       "      <td>Gbm</td>\n",
       "      <td>0.670404</td>\n",
       "    </tr>\n",
       "    <tr>\n",
       "      <th>...</th>\n",
       "      <td>...</td>\n",
       "      <td>...</td>\n",
       "      <td>...</td>\n",
       "      <td>...</td>\n",
       "      <td>...</td>\n",
       "    </tr>\n",
       "    <tr>\n",
       "      <th>18076</th>\n",
       "      <td>EGFR</td>\n",
       "      <td>3.668857e-01</td>\n",
       "      <td>-0.023500</td>\n",
       "      <td>Colon</td>\n",
       "      <td>0.100270</td>\n",
       "    </tr>\n",
       "    <tr>\n",
       "      <th>18728</th>\n",
       "      <td>MAP2K1</td>\n",
       "      <td>7.170253e-01</td>\n",
       "      <td>-0.026750</td>\n",
       "      <td>Colon</td>\n",
       "      <td>0.033264</td>\n",
       "    </tr>\n",
       "    <tr>\n",
       "      <th>18946</th>\n",
       "      <td>GRB2</td>\n",
       "      <td>8.274353e-01</td>\n",
       "      <td>0.016800</td>\n",
       "      <td>Colon</td>\n",
       "      <td>0.018942</td>\n",
       "    </tr>\n",
       "    <tr>\n",
       "      <th>19232</th>\n",
       "      <td>TP53</td>\n",
       "      <td>9.688700e-01</td>\n",
       "      <td>0.049050</td>\n",
       "      <td>Colon</td>\n",
       "      <td>0.003162</td>\n",
       "    </tr>\n",
       "    <tr>\n",
       "      <th>19239</th>\n",
       "      <td>PIK3R1</td>\n",
       "      <td>9.727770e-01</td>\n",
       "      <td>-0.012450</td>\n",
       "      <td>Colon</td>\n",
       "      <td>0.002760</td>\n",
       "    </tr>\n",
       "  </tbody>\n",
       "</table>\n",
       "<p>101 rows × 5 columns</p>\n",
       "</div>"
      ],
      "text/plain": [
       "      Proteomics       P_Value   Medians Cancer      size\n",
       "12          PTEN  1.219523e-07 -0.511726    Gbm  1.591964\n",
       "32         MAPK3  1.020660e-06 -0.665105    Gbm  1.379506\n",
       "840       PIK3CD  1.030815e-03 -0.492099    Gbm  0.687741\n",
       "865         GRB2  1.089951e-03 -0.312146    Gbm  0.682162\n",
       "913       PIK3C3  1.225949e-03 -0.102518    Gbm  0.670404\n",
       "...          ...           ...       ...    ...       ...\n",
       "18076       EGFR  3.668857e-01 -0.023500  Colon  0.100270\n",
       "18728     MAP2K1  7.170253e-01 -0.026750  Colon  0.033264\n",
       "18946       GRB2  8.274353e-01  0.016800  Colon  0.018942\n",
       "19232       TP53  9.688700e-01  0.049050  Colon  0.003162\n",
       "19239     PIK3R1  9.727770e-01 -0.012450  Colon  0.002760\n",
       "\n",
       "[101 rows x 5 columns]"
      ]
     },
     "execution_count": 58,
     "metadata": {},
     "output_type": "execute_result"
    }
   ],
   "source": [
    "# log p-vals for right scale in plot (bigger circle, smaller pval)\n",
    "plot_df['size'] = plot_df['P_Value'].apply(lambda x: -1*(np.log(x)/10))\n",
    "plot_df"
   ]
  },
  {
   "cell_type": "code",
   "execution_count": 56,
   "metadata": {},
   "outputs": [
    {
     "name": "stderr",
     "output_type": "stream",
     "text": [
      "C:\\Users\\brittany henderson\\Anaconda3\\envs\\Research\\lib\\site-packages\\plot_utils\\__init__.py:36: SettingWithCopyWarning: \n",
      "A value is trying to be set on a copy of a slice from a DataFrame.\n",
      "Try using .loc[row_indexer,col_indexer] = value instead\n",
      "\n",
      "See the caveats in the documentation: https://pandas.pydata.org/pandas-docs/stable/user_guide/indexing.html#returning-a-view-versus-a-copy\n",
      "  df['size'] = np.where(df[circle_var]<0, np.abs(df[circle_var]), df[circle_var])*50\n"
     ]
    },
    {
     "data": {
      "text/html": [
       "\n",
       "    <div class=\"bk-root\">\n",
       "        <a href=\"https://bokeh.org\" target=\"_blank\" class=\"bk-logo bk-logo-small bk-logo-notebook\"></a>\n",
       "        <span id=\"1231\">Loading BokehJS ...</span>\n",
       "    </div>"
      ]
     },
     "metadata": {},
     "output_type": "display_data"
    },
    {
     "data": {
      "application/javascript": [
       "\n",
       "(function(root) {\n",
       "  function now() {\n",
       "    return new Date();\n",
       "  }\n",
       "\n",
       "  var force = true;\n",
       "\n",
       "  if (typeof root._bokeh_onload_callbacks === \"undefined\" || force === true) {\n",
       "    root._bokeh_onload_callbacks = [];\n",
       "    root._bokeh_is_loading = undefined;\n",
       "  }\n",
       "\n",
       "  var JS_MIME_TYPE = 'application/javascript';\n",
       "  var HTML_MIME_TYPE = 'text/html';\n",
       "  var EXEC_MIME_TYPE = 'application/vnd.bokehjs_exec.v0+json';\n",
       "  var CLASS_NAME = 'output_bokeh rendered_html';\n",
       "\n",
       "  /**\n",
       "   * Render data to the DOM node\n",
       "   */\n",
       "  function render(props, node) {\n",
       "    var script = document.createElement(\"script\");\n",
       "    node.appendChild(script);\n",
       "  }\n",
       "\n",
       "  /**\n",
       "   * Handle when an output is cleared or removed\n",
       "   */\n",
       "  function handleClearOutput(event, handle) {\n",
       "    var cell = handle.cell;\n",
       "\n",
       "    var id = cell.output_area._bokeh_element_id;\n",
       "    var server_id = cell.output_area._bokeh_server_id;\n",
       "    // Clean up Bokeh references\n",
       "    if (id != null && id in Bokeh.index) {\n",
       "      Bokeh.index[id].model.document.clear();\n",
       "      delete Bokeh.index[id];\n",
       "    }\n",
       "\n",
       "    if (server_id !== undefined) {\n",
       "      // Clean up Bokeh references\n",
       "      var cmd = \"from bokeh.io.state import curstate; print(curstate().uuid_to_server['\" + server_id + \"'].get_sessions()[0].document.roots[0]._id)\";\n",
       "      cell.notebook.kernel.execute(cmd, {\n",
       "        iopub: {\n",
       "          output: function(msg) {\n",
       "            var id = msg.content.text.trim();\n",
       "            if (id in Bokeh.index) {\n",
       "              Bokeh.index[id].model.document.clear();\n",
       "              delete Bokeh.index[id];\n",
       "            }\n",
       "          }\n",
       "        }\n",
       "      });\n",
       "      // Destroy server and session\n",
       "      var cmd = \"import bokeh.io.notebook as ion; ion.destroy_server('\" + server_id + \"')\";\n",
       "      cell.notebook.kernel.execute(cmd);\n",
       "    }\n",
       "  }\n",
       "\n",
       "  /**\n",
       "   * Handle when a new output is added\n",
       "   */\n",
       "  function handleAddOutput(event, handle) {\n",
       "    var output_area = handle.output_area;\n",
       "    var output = handle.output;\n",
       "\n",
       "    // limit handleAddOutput to display_data with EXEC_MIME_TYPE content only\n",
       "    if ((output.output_type != \"display_data\") || (!output.data.hasOwnProperty(EXEC_MIME_TYPE))) {\n",
       "      return\n",
       "    }\n",
       "\n",
       "    var toinsert = output_area.element.find(\".\" + CLASS_NAME.split(' ')[0]);\n",
       "\n",
       "    if (output.metadata[EXEC_MIME_TYPE][\"id\"] !== undefined) {\n",
       "      toinsert[toinsert.length - 1].firstChild.textContent = output.data[JS_MIME_TYPE];\n",
       "      // store reference to embed id on output_area\n",
       "      output_area._bokeh_element_id = output.metadata[EXEC_MIME_TYPE][\"id\"];\n",
       "    }\n",
       "    if (output.metadata[EXEC_MIME_TYPE][\"server_id\"] !== undefined) {\n",
       "      var bk_div = document.createElement(\"div\");\n",
       "      bk_div.innerHTML = output.data[HTML_MIME_TYPE];\n",
       "      var script_attrs = bk_div.children[0].attributes;\n",
       "      for (var i = 0; i < script_attrs.length; i++) {\n",
       "        toinsert[toinsert.length - 1].firstChild.setAttribute(script_attrs[i].name, script_attrs[i].value);\n",
       "        toinsert[toinsert.length - 1].firstChild.textContent = bk_div.children[0].textContent\n",
       "      }\n",
       "      // store reference to server id on output_area\n",
       "      output_area._bokeh_server_id = output.metadata[EXEC_MIME_TYPE][\"server_id\"];\n",
       "    }\n",
       "  }\n",
       "\n",
       "  function register_renderer(events, OutputArea) {\n",
       "\n",
       "    function append_mime(data, metadata, element) {\n",
       "      // create a DOM node to render to\n",
       "      var toinsert = this.create_output_subarea(\n",
       "        metadata,\n",
       "        CLASS_NAME,\n",
       "        EXEC_MIME_TYPE\n",
       "      );\n",
       "      this.keyboard_manager.register_events(toinsert);\n",
       "      // Render to node\n",
       "      var props = {data: data, metadata: metadata[EXEC_MIME_TYPE]};\n",
       "      render(props, toinsert[toinsert.length - 1]);\n",
       "      element.append(toinsert);\n",
       "      return toinsert\n",
       "    }\n",
       "\n",
       "    /* Handle when an output is cleared or removed */\n",
       "    events.on('clear_output.CodeCell', handleClearOutput);\n",
       "    events.on('delete.Cell', handleClearOutput);\n",
       "\n",
       "    /* Handle when a new output is added */\n",
       "    events.on('output_added.OutputArea', handleAddOutput);\n",
       "\n",
       "    /**\n",
       "     * Register the mime type and append_mime function with output_area\n",
       "     */\n",
       "    OutputArea.prototype.register_mime_type(EXEC_MIME_TYPE, append_mime, {\n",
       "      /* Is output safe? */\n",
       "      safe: true,\n",
       "      /* Index of renderer in `output_area.display_order` */\n",
       "      index: 0\n",
       "    });\n",
       "  }\n",
       "\n",
       "  // register the mime type if in Jupyter Notebook environment and previously unregistered\n",
       "  if (root.Jupyter !== undefined) {\n",
       "    var events = require('base/js/events');\n",
       "    var OutputArea = require('notebook/js/outputarea').OutputArea;\n",
       "\n",
       "    if (OutputArea.prototype.mime_types().indexOf(EXEC_MIME_TYPE) == -1) {\n",
       "      register_renderer(events, OutputArea);\n",
       "    }\n",
       "  }\n",
       "\n",
       "  \n",
       "  if (typeof (root._bokeh_timeout) === \"undefined\" || force === true) {\n",
       "    root._bokeh_timeout = Date.now() + 5000;\n",
       "    root._bokeh_failed_load = false;\n",
       "  }\n",
       "\n",
       "  var NB_LOAD_WARNING = {'data': {'text/html':\n",
       "     \"<div style='background-color: #fdd'>\\n\"+\n",
       "     \"<p>\\n\"+\n",
       "     \"BokehJS does not appear to have successfully loaded. If loading BokehJS from CDN, this \\n\"+\n",
       "     \"may be due to a slow or bad network connection. Possible fixes:\\n\"+\n",
       "     \"</p>\\n\"+\n",
       "     \"<ul>\\n\"+\n",
       "     \"<li>re-rerun `output_notebook()` to attempt to load from CDN again, or</li>\\n\"+\n",
       "     \"<li>use INLINE resources instead, as so:</li>\\n\"+\n",
       "     \"</ul>\\n\"+\n",
       "     \"<code>\\n\"+\n",
       "     \"from bokeh.resources import INLINE\\n\"+\n",
       "     \"output_notebook(resources=INLINE)\\n\"+\n",
       "     \"</code>\\n\"+\n",
       "     \"</div>\"}};\n",
       "\n",
       "  function display_loaded() {\n",
       "    var el = document.getElementById(\"1231\");\n",
       "    if (el != null) {\n",
       "      el.textContent = \"BokehJS is loading...\";\n",
       "    }\n",
       "    if (root.Bokeh !== undefined) {\n",
       "      if (el != null) {\n",
       "        el.textContent = \"BokehJS \" + root.Bokeh.version + \" successfully loaded.\";\n",
       "      }\n",
       "    } else if (Date.now() < root._bokeh_timeout) {\n",
       "      setTimeout(display_loaded, 100)\n",
       "    }\n",
       "  }\n",
       "\n",
       "\n",
       "  function run_callbacks() {\n",
       "    try {\n",
       "      root._bokeh_onload_callbacks.forEach(function(callback) {\n",
       "        if (callback != null)\n",
       "          callback();\n",
       "      });\n",
       "    } finally {\n",
       "      delete root._bokeh_onload_callbacks\n",
       "    }\n",
       "    console.debug(\"Bokeh: all callbacks have finished\");\n",
       "  }\n",
       "\n",
       "  function load_libs(css_urls, js_urls, callback) {\n",
       "    if (css_urls == null) css_urls = [];\n",
       "    if (js_urls == null) js_urls = [];\n",
       "\n",
       "    root._bokeh_onload_callbacks.push(callback);\n",
       "    if (root._bokeh_is_loading > 0) {\n",
       "      console.debug(\"Bokeh: BokehJS is being loaded, scheduling callback at\", now());\n",
       "      return null;\n",
       "    }\n",
       "    if (js_urls == null || js_urls.length === 0) {\n",
       "      run_callbacks();\n",
       "      return null;\n",
       "    }\n",
       "    console.debug(\"Bokeh: BokehJS not loaded, scheduling load and callback at\", now());\n",
       "    root._bokeh_is_loading = css_urls.length + js_urls.length;\n",
       "\n",
       "    function on_load() {\n",
       "      root._bokeh_is_loading--;\n",
       "      if (root._bokeh_is_loading === 0) {\n",
       "        console.debug(\"Bokeh: all BokehJS libraries/stylesheets loaded\");\n",
       "        run_callbacks()\n",
       "      }\n",
       "    }\n",
       "\n",
       "    function on_error() {\n",
       "      console.error(\"failed to load \" + url);\n",
       "    }\n",
       "\n",
       "    for (var i = 0; i < css_urls.length; i++) {\n",
       "      var url = css_urls[i];\n",
       "      const element = document.createElement(\"link\");\n",
       "      element.onload = on_load;\n",
       "      element.onerror = on_error;\n",
       "      element.rel = \"stylesheet\";\n",
       "      element.type = \"text/css\";\n",
       "      element.href = url;\n",
       "      console.debug(\"Bokeh: injecting link tag for BokehJS stylesheet: \", url);\n",
       "      document.body.appendChild(element);\n",
       "    }\n",
       "\n",
       "    const hashes = {\"https://cdn.bokeh.org/bokeh/release/bokeh-2.0.1.min.js\": \"JpP8FXbgAZLkfur7LiK3j9AGBhHNIvF742meBJrjO2ShJDhCG2I1uVvW+0DUtrmc\", \"https://cdn.bokeh.org/bokeh/release/bokeh-widgets-2.0.1.min.js\": \"xZlADit0Q04ISQEdKg2k3L4W9AwQBAuDs9nJL9fM/WwzL1tEU9VPNezOFX0nLEAz\", \"https://cdn.bokeh.org/bokeh/release/bokeh-tables-2.0.1.min.js\": \"4BuPRZkdMKSnj3zoxiNrQ86XgNw0rYmBOxe7nshquXwwcauupgBF2DHLVG1WuZlV\", \"https://cdn.bokeh.org/bokeh/release/bokeh-gl-2.0.1.min.js\": \"Dv1SQ87hmDqK6S5OhBf0bCuwAEvL5QYL0PuR/F1SPVhCS/r/abjkbpKDYL2zeM19\"};\n",
       "\n",
       "    for (var i = 0; i < js_urls.length; i++) {\n",
       "      var url = js_urls[i];\n",
       "      var element = document.createElement('script');\n",
       "      element.onload = on_load;\n",
       "      element.onerror = on_error;\n",
       "      element.async = false;\n",
       "      element.src = url;\n",
       "      if (url in hashes) {\n",
       "        element.crossOrigin = \"anonymous\";\n",
       "        element.integrity = \"sha384-\" + hashes[url];\n",
       "      }\n",
       "      console.debug(\"Bokeh: injecting script tag for BokehJS library: \", url);\n",
       "      document.head.appendChild(element);\n",
       "    }\n",
       "  };var element = document.getElementById(\"1231\");\n",
       "  if (element == null) {\n",
       "    console.error(\"Bokeh: ERROR: autoload.js configured with elementid '1231' but no matching script tag was found. \")\n",
       "    return false;\n",
       "  }\n",
       "\n",
       "  function inject_raw_css(css) {\n",
       "    const element = document.createElement(\"style\");\n",
       "    element.appendChild(document.createTextNode(css));\n",
       "    document.body.appendChild(element);\n",
       "  }\n",
       "\n",
       "  \n",
       "  var js_urls = [\"https://cdn.bokeh.org/bokeh/release/bokeh-2.0.1.min.js\", \"https://cdn.bokeh.org/bokeh/release/bokeh-widgets-2.0.1.min.js\", \"https://cdn.bokeh.org/bokeh/release/bokeh-tables-2.0.1.min.js\", \"https://cdn.bokeh.org/bokeh/release/bokeh-gl-2.0.1.min.js\"];\n",
       "  var css_urls = [];\n",
       "  \n",
       "\n",
       "  var inline_js = [\n",
       "    function(Bokeh) {\n",
       "      Bokeh.set_log_level(\"info\");\n",
       "    },\n",
       "    function(Bokeh) {\n",
       "    \n",
       "    \n",
       "    }\n",
       "  ];\n",
       "\n",
       "  function run_inline_js() {\n",
       "    \n",
       "    if (root.Bokeh !== undefined || force === true) {\n",
       "      \n",
       "    for (var i = 0; i < inline_js.length; i++) {\n",
       "      inline_js[i].call(root, root.Bokeh);\n",
       "    }\n",
       "    if (force === true) {\n",
       "        display_loaded();\n",
       "      }} else if (Date.now() < root._bokeh_timeout) {\n",
       "      setTimeout(run_inline_js, 100);\n",
       "    } else if (!root._bokeh_failed_load) {\n",
       "      console.log(\"Bokeh: BokehJS failed to load within specified timeout.\");\n",
       "      root._bokeh_failed_load = true;\n",
       "    } else if (force !== true) {\n",
       "      var cell = $(document.getElementById(\"1231\")).parents('.cell').data().cell;\n",
       "      cell.output_area.append_execute_result(NB_LOAD_WARNING)\n",
       "    }\n",
       "\n",
       "  }\n",
       "\n",
       "  if (root._bokeh_is_loading === 0) {\n",
       "    console.debug(\"Bokeh: BokehJS loaded, going straight to plotting\");\n",
       "    run_inline_js();\n",
       "  } else {\n",
       "    load_libs(css_urls, js_urls, function() {\n",
       "      console.debug(\"Bokeh: BokehJS plotting callback run at\", now());\n",
       "      run_inline_js();\n",
       "    });\n",
       "  }\n",
       "}(window));"
      ],
      "application/vnd.bokehjs_load.v0+json": "\n(function(root) {\n  function now() {\n    return new Date();\n  }\n\n  var force = true;\n\n  if (typeof root._bokeh_onload_callbacks === \"undefined\" || force === true) {\n    root._bokeh_onload_callbacks = [];\n    root._bokeh_is_loading = undefined;\n  }\n\n  \n\n  \n  if (typeof (root._bokeh_timeout) === \"undefined\" || force === true) {\n    root._bokeh_timeout = Date.now() + 5000;\n    root._bokeh_failed_load = false;\n  }\n\n  var NB_LOAD_WARNING = {'data': {'text/html':\n     \"<div style='background-color: #fdd'>\\n\"+\n     \"<p>\\n\"+\n     \"BokehJS does not appear to have successfully loaded. If loading BokehJS from CDN, this \\n\"+\n     \"may be due to a slow or bad network connection. Possible fixes:\\n\"+\n     \"</p>\\n\"+\n     \"<ul>\\n\"+\n     \"<li>re-rerun `output_notebook()` to attempt to load from CDN again, or</li>\\n\"+\n     \"<li>use INLINE resources instead, as so:</li>\\n\"+\n     \"</ul>\\n\"+\n     \"<code>\\n\"+\n     \"from bokeh.resources import INLINE\\n\"+\n     \"output_notebook(resources=INLINE)\\n\"+\n     \"</code>\\n\"+\n     \"</div>\"}};\n\n  function display_loaded() {\n    var el = document.getElementById(\"1231\");\n    if (el != null) {\n      el.textContent = \"BokehJS is loading...\";\n    }\n    if (root.Bokeh !== undefined) {\n      if (el != null) {\n        el.textContent = \"BokehJS \" + root.Bokeh.version + \" successfully loaded.\";\n      }\n    } else if (Date.now() < root._bokeh_timeout) {\n      setTimeout(display_loaded, 100)\n    }\n  }\n\n\n  function run_callbacks() {\n    try {\n      root._bokeh_onload_callbacks.forEach(function(callback) {\n        if (callback != null)\n          callback();\n      });\n    } finally {\n      delete root._bokeh_onload_callbacks\n    }\n    console.debug(\"Bokeh: all callbacks have finished\");\n  }\n\n  function load_libs(css_urls, js_urls, callback) {\n    if (css_urls == null) css_urls = [];\n    if (js_urls == null) js_urls = [];\n\n    root._bokeh_onload_callbacks.push(callback);\n    if (root._bokeh_is_loading > 0) {\n      console.debug(\"Bokeh: BokehJS is being loaded, scheduling callback at\", now());\n      return null;\n    }\n    if (js_urls == null || js_urls.length === 0) {\n      run_callbacks();\n      return null;\n    }\n    console.debug(\"Bokeh: BokehJS not loaded, scheduling load and callback at\", now());\n    root._bokeh_is_loading = css_urls.length + js_urls.length;\n\n    function on_load() {\n      root._bokeh_is_loading--;\n      if (root._bokeh_is_loading === 0) {\n        console.debug(\"Bokeh: all BokehJS libraries/stylesheets loaded\");\n        run_callbacks()\n      }\n    }\n\n    function on_error() {\n      console.error(\"failed to load \" + url);\n    }\n\n    for (var i = 0; i < css_urls.length; i++) {\n      var url = css_urls[i];\n      const element = document.createElement(\"link\");\n      element.onload = on_load;\n      element.onerror = on_error;\n      element.rel = \"stylesheet\";\n      element.type = \"text/css\";\n      element.href = url;\n      console.debug(\"Bokeh: injecting link tag for BokehJS stylesheet: \", url);\n      document.body.appendChild(element);\n    }\n\n    const hashes = {\"https://cdn.bokeh.org/bokeh/release/bokeh-2.0.1.min.js\": \"JpP8FXbgAZLkfur7LiK3j9AGBhHNIvF742meBJrjO2ShJDhCG2I1uVvW+0DUtrmc\", \"https://cdn.bokeh.org/bokeh/release/bokeh-widgets-2.0.1.min.js\": \"xZlADit0Q04ISQEdKg2k3L4W9AwQBAuDs9nJL9fM/WwzL1tEU9VPNezOFX0nLEAz\", \"https://cdn.bokeh.org/bokeh/release/bokeh-tables-2.0.1.min.js\": \"4BuPRZkdMKSnj3zoxiNrQ86XgNw0rYmBOxe7nshquXwwcauupgBF2DHLVG1WuZlV\", \"https://cdn.bokeh.org/bokeh/release/bokeh-gl-2.0.1.min.js\": \"Dv1SQ87hmDqK6S5OhBf0bCuwAEvL5QYL0PuR/F1SPVhCS/r/abjkbpKDYL2zeM19\"};\n\n    for (var i = 0; i < js_urls.length; i++) {\n      var url = js_urls[i];\n      var element = document.createElement('script');\n      element.onload = on_load;\n      element.onerror = on_error;\n      element.async = false;\n      element.src = url;\n      if (url in hashes) {\n        element.crossOrigin = \"anonymous\";\n        element.integrity = \"sha384-\" + hashes[url];\n      }\n      console.debug(\"Bokeh: injecting script tag for BokehJS library: \", url);\n      document.head.appendChild(element);\n    }\n  };var element = document.getElementById(\"1231\");\n  if (element == null) {\n    console.error(\"Bokeh: ERROR: autoload.js configured with elementid '1231' but no matching script tag was found. \")\n    return false;\n  }\n\n  function inject_raw_css(css) {\n    const element = document.createElement(\"style\");\n    element.appendChild(document.createTextNode(css));\n    document.body.appendChild(element);\n  }\n\n  \n  var js_urls = [\"https://cdn.bokeh.org/bokeh/release/bokeh-2.0.1.min.js\", \"https://cdn.bokeh.org/bokeh/release/bokeh-widgets-2.0.1.min.js\", \"https://cdn.bokeh.org/bokeh/release/bokeh-tables-2.0.1.min.js\", \"https://cdn.bokeh.org/bokeh/release/bokeh-gl-2.0.1.min.js\"];\n  var css_urls = [];\n  \n\n  var inline_js = [\n    function(Bokeh) {\n      Bokeh.set_log_level(\"info\");\n    },\n    function(Bokeh) {\n    \n    \n    }\n  ];\n\n  function run_inline_js() {\n    \n    if (root.Bokeh !== undefined || force === true) {\n      \n    for (var i = 0; i < inline_js.length; i++) {\n      inline_js[i].call(root, root.Bokeh);\n    }\n    if (force === true) {\n        display_loaded();\n      }} else if (Date.now() < root._bokeh_timeout) {\n      setTimeout(run_inline_js, 100);\n    } else if (!root._bokeh_failed_load) {\n      console.log(\"Bokeh: BokehJS failed to load within specified timeout.\");\n      root._bokeh_failed_load = true;\n    } else if (force !== true) {\n      var cell = $(document.getElementById(\"1231\")).parents('.cell').data().cell;\n      cell.output_area.append_execute_result(NB_LOAD_WARNING)\n    }\n\n  }\n\n  if (root._bokeh_is_loading === 0) {\n    console.debug(\"Bokeh: BokehJS loaded, going straight to plotting\");\n    run_inline_js();\n  } else {\n    load_libs(css_urls, js_urls, function() {\n      console.debug(\"Bokeh: BokehJS plotting callback run at\", now());\n      run_inline_js();\n    });\n  }\n}(window));"
     },
     "metadata": {},
     "output_type": "display_data"
    },
    {
     "data": {
      "text/html": [
       "\n",
       "\n",
       "\n",
       "\n",
       "\n",
       "\n",
       "  <div class=\"bk-root\" id=\"f5a81c60-6527-41da-83a2-926ef11b2c81\" data-root-id=\"1208\"></div>\n"
      ]
     },
     "metadata": {},
     "output_type": "display_data"
    },
    {
     "data": {
      "application/javascript": [
       "(function(root) {\n",
       "  function embed_document(root) {\n",
       "    \n",
       "  var docs_json = {\"984c24dd-aea2-48eb-825d-1537b14e630a\":{\"roots\":{\"references\":[{\"attributes\":{\"below\":[{\"id\":\"1215\"}],\"center\":[{\"id\":\"1217\"},{\"id\":\"1220\"}],\"left\":[{\"id\":\"1218\"}],\"plot_height\":700,\"plot_width\":700,\"renderers\":[{\"id\":\"1228\"}],\"right\":[{\"id\":\"1230\"}],\"title\":{\"id\":\"1252\"},\"toolbar\":{\"id\":\"1222\"},\"toolbar_location\":null,\"x_range\":{\"id\":\"1206\"},\"x_scale\":{\"id\":\"1211\"},\"y_range\":{\"id\":\"1207\"},\"y_scale\":{\"id\":\"1213\"}},\"id\":\"1208\",\"subtype\":\"Figure\",\"type\":\"Plot\"},{\"attributes\":{},\"id\":\"1254\",\"type\":\"BasicTicker\"},{\"attributes\":{\"color_mapper\":{\"id\":\"1205\"},\"formatter\":{\"id\":\"1255\"},\"location\":[0,0],\"ticker\":{\"id\":\"1254\"}},\"id\":\"1230\",\"type\":\"ColorBar\"},{\"attributes\":{\"formatter\":{\"id\":\"1257\"},\"major_label_orientation\":1.5707963267948966,\"ticker\":{\"id\":\"1216\"}},\"id\":\"1215\",\"type\":\"CategoricalAxis\"},{\"attributes\":{},\"id\":\"1260\",\"type\":\"Selection\"},{\"attributes\":{\"data_source\":{\"id\":\"1224\"},\"glyph\":{\"id\":\"1226\"},\"hover_glyph\":null,\"muted_glyph\":null,\"nonselection_glyph\":{\"id\":\"1227\"},\"selection_glyph\":null,\"view\":{\"id\":\"1229\"}},\"id\":\"1228\",\"type\":\"GlyphRenderer\"},{\"attributes\":{\"factors\":[\"CSNK2A1\",\"EGFR\",\"GRB2\",\"INPP4B\",\"MAP2K1\",\"MAPK3\",\"PIK3C3\",\"PIK3CA\",\"PIK3CD\",\"PIK3R1\",\"PTEN\",\"TP53\",\"USP7\"]},\"id\":\"1206\",\"type\":\"FactorRange\"},{\"attributes\":{\"data\":{\"Cancer\":[\"Gbm\",\"Gbm\",\"Gbm\",\"Gbm\",\"Gbm\",\"Gbm\",\"Gbm\",\"Gbm\",\"Gbm\",\"Gbm\",\"Gbm\",\"Gbm\",\"Gbm\",\"Hnscc\",\"Hnscc\",\"Hnscc\",\"Hnscc\",\"Hnscc\",\"Hnscc\",\"Hnscc\",\"Hnscc\",\"Hnscc\",\"Hnscc\",\"Hnscc\",\"Hnscc\",\"Hnscc\",\"Luad\",\"Luad\",\"Luad\",\"Luad\",\"Luad\",\"Luad\",\"Luad\",\"Luad\",\"Luad\",\"Luad\",\"Luad\",\"Luad\",\"Lscc\",\"Lscc\",\"Lscc\",\"Lscc\",\"Lscc\",\"Lscc\",\"Lscc\",\"Lscc\",\"Lscc\",\"Lscc\",\"Lscc\",\"Lscc\",\"Brca\",\"Brca\",\"Brca\",\"Brca\",\"Brca\",\"Brca\",\"Brca\",\"Brca\",\"Brca\",\"Brca\",\"Brca\",\"Brca\",\"Ov\",\"Ov\",\"Ov\",\"Ov\",\"Ov\",\"Ov\",\"Ov\",\"Ov\",\"Ov\",\"Ov\",\"Ov\",\"Ov\",\"Ov\",\"En\",\"En\",\"En\",\"En\",\"En\",\"En\",\"En\",\"En\",\"En\",\"En\",\"En\",\"En\",\"En\",\"Colon\",\"Colon\",\"Colon\",\"Colon\",\"Colon\",\"Colon\",\"Colon\",\"Colon\",\"Colon\",\"Colon\",\"Colon\",\"Colon\",\"Colon\"],\"Medians\":{\"__ndarray__\":\"jGwIKw5g4L+/ll42ikjlvykHUt6Oft+/HckqfTH6079ksWq9nT66v4eMpUNrt8M/5kywOtr04r/IXfSVLB3Iv13sGQeG4NW/IfwGUT0E8D8pj79tN7a/P9CfDk0kEru/mhqfaaBs0D+AbIqZa2fUvyBt31ha7uK/gKbWsuvyxD8AiYoYZnzOvwADoJsN590/oPWdXfOT5j8Arzz8Ome0P/86yLWvFbg/gU50MXdTyL8A/rGtAnKvvwBS7sSDI6W/AP2Jrc5ysj8AmB3NkHKBP/rt68A5owJAGJXUCWgi67/E0ytlGeLhv5jdk4eFWte/QOjZrPpcwb9N845TdCQGQDeJQWDl0Lq/cayL22gA/j9+jLlrCfnAP2IyVTAqqdU/QmDl0CLbub/NEMe6uI3eP4j029eBc+O/5q4l5IOe6r+U9gZfmEzfP0LPZtXnass/LUMc6+I21r+v2F92Tx7Gv5rdk4eFWua/+THmriXkw7+8lpAPejbPP8x/SL99Heo/ArwFEhQ/2j/6fmq8dJOYv1TjpZvEIPC/h6dXyjLE4j/cRgN4CyTUv98i2/l+arw/owG8BRKU8L+E4seYu5bMv3KKjuTyH9i/YHZPHhZqvT/D9Shcj8LRv/Edp+hILp+/gEi/fR04wz+srdhfdk/Cv0pthnSowcW/NAA2G4mCyT8YeL4ERpXHP0cTitVo98Y/FxfS16+41z/tQD2AvMy6P5BX2u6NPZq/AHB4g2A8kr//e5Rqz8ePP6wpmwIxOrC/oVFfO713rj++fnni6BOiv5pwRei7Kck/+THmriXk57+QoPgx5q7pv2Q730+Nl9a/gQncupunur+iRbbz/dTgPyqpE9BE2MC/fZbnwd1Zx7/+Q/rt68DVP0w3iUFg5dC/yqFFtvP9tD+HhVrTvOPEPxrdQexMoaM/SZ2AJsKGt79txf6ye/LIP+kmMQisHMq/87BQa5p3tL/sL7snDwu1P9v5fmq8dLO/kH77OnDOqL9kEFg5tMimP2lv8IXJVKE/nvHSTWIQmL8xCKwcWmSbvxSMSuoENJE/XNO84xQdqT9ffa62Yn+Jvw==\",\"dtype\":\"float64\",\"shape\":[101]},\"P_Value\":{\"__ndarray__\":\"oqcy7D9egD7pRM2esx+xPiRRp7iM41A/mPRJMpbbUT90yliQABZUP+mDmML1dHA/iJMgUnzzcD+NLLUnUIpxP4SR9rxrz40/LSuaISGJpD+eMmgInbGsP9fRv104adI/TjRz0E1i5T8DSHkUgfb3PmP/1kH0IkY/d2E7cEV4Wz9a62fOgrSMPxwflgHaJJI/H2vv5SxIoD+njVBoqMekP5kbg6F+e7A/LoSgKB3Puj+5iAUbQ5PAPxQyeaCfBtQ/IwSrINrQ2z9Nu/rii5rhP8cthekFm64+7cQQOdFDPD8+dm27oVR9PwfzGyeYZI0/toutBCSNsz8oPS+phJ7OP4EEkzWaD88/GvhR3Py00T/7+I8+48bXP3ItMDfe0eA/7sQL9byS4T/T7PAp9cHkP040SwnOUA0/icB2LLYcMz9UrRiT+G1GP+ivRZwqZpc/wxHx+MBWoD+cCJ7eQ4KpP5Ql2y32eLU/5SlrEfMLyj/BId10c7XVPxD8PHY0Z9o/5ZqW2oj03z/eoePEAtLnPykg947hItI+KH+yGDEDkT+//qlHF3+vP3xj1edzhLE/uikfnoINxT9WoRhTL0TSP2jHJncq8dI/5EKotjJ83D9VSUWjuXXdP7rObnLvQOg/lLbJiEHG6j9XRVacFL3tP6yDwe6Yy00/2q3gLNwRgT9CAeLBJCC2Px/EU4w2KMw/OFkWuLSh1j/S7OIhDHTcP7XN4iBGN94/PspbSV3N4D8Yzdd55ZbiPwGo0GXD2Oo/WKiPCiz16j+OEHQf9gPuP927mXFZXe8/SUM2Szv5RD+DV+RcOGlUPzF/0zhD3Fw/iJ0B68ZcYz++erQvzBl5P71DP9guvKI/foOSMFNKpz/pWd2Nl2bBP7wGihavfsQ/llfVXEVq0T/4go/n0k7fP7TlZnLsUeI/Hl85CRig5T8vdCmQdsRrP34BbhSMXIo/dW7xwpvNvT+G3/NNFj6+P10ogOwsy8A/5Pb8PIZ8wj+BRqFGdmTOP1kn/9BFTtU/Xt9zVw571z9exZsZ3/HmP3yhJpVZeuo/PIjHmPsA7z8J27gm/SDvPw==\",\"dtype\":\"float64\",\"shape\":[101]},\"Proteomics\":[\"PTEN\",\"MAPK3\",\"PIK3CD\",\"GRB2\",\"PIK3C3\",\"USP7\",\"MAP2K1\",\"PIK3R1\",\"INPP4B\",\"EGFR\",\"CSNK2A1\",\"PIK3CA\",\"TP53\",\"PTEN\",\"INPP4B\",\"PIK3CA\",\"PIK3CD\",\"EGFR\",\"TP53\",\"CSNK2A1\",\"USP7\",\"GRB2\",\"MAPK3\",\"PIK3C3\",\"PIK3R1\",\"MAP2K1\",\"EGFR\",\"PIK3CD\",\"GRB2\",\"PTEN\",\"PIK3CA\",\"TP53\",\"MAP2K1\",\"INPP4B\",\"USP7\",\"MAPK3\",\"PIK3C3\",\"PIK3R1\",\"PTEN\",\"PIK3CD\",\"CSNK2A1\",\"PIK3CA\",\"PIK3R1\",\"MAPK3\",\"INPP4B\",\"GRB2\",\"USP7\",\"TP53\",\"EGFR\",\"MAP2K1\",\"PTEN\",\"EGFR\",\"GRB2\",\"TP53\",\"PIK3R1\",\"MAPK3\",\"INPP4B\",\"PIK3C3\",\"PIK3CA\",\"MAP2K1\",\"PIK3CD\",\"USP7\",\"PTEN\",\"PIK3CA\",\"GRB2\",\"PIK3R1\",\"INPP4B\",\"PIK3C3\",\"MAP2K1\",\"USP7\",\"CSNK2A1\",\"EGFR\",\"MAPK3\",\"PIK3CD\",\"TP53\",\"PTEN\",\"TP53\",\"PIK3CA\",\"CSNK2A1\",\"EGFR\",\"PIK3C3\",\"PIK3CD\",\"PIK3R1\",\"GRB2\",\"MAPK3\",\"INPP4B\",\"USP7\",\"MAP2K1\",\"MAPK3\",\"PTEN\",\"PIK3C3\",\"INPP4B\",\"PIK3CD\",\"CSNK2A1\",\"USP7\",\"PIK3CA\",\"EGFR\",\"MAP2K1\",\"GRB2\",\"TP53\",\"PIK3R1\"],\"index\":[12,32,840,865,913,1416,1430,1453,1940,2053,2103,2361,2515,2688,2914,3081,3405,3461,3568,3626,3736,3877,3954,4321,4504,4654,5204,5300,5429,5495,5759,6209,6221,6303,6475,6763,6805,6990,7594,7667,7746,8312,8393,8523,8720,9036,9284,9406,9512,9777,10024,10132,10337,10357,10654,10938,10958,11304,11343,11879,12016,12189,12313,12341,12527,12861,13221,13429,13496,13649,13749,14336,14348,14574,14665,14965,15045,15102,15126,15195,15455,15508,15821,15882,16161,16499,16622,16794,17238,17273,17531,17537,17566,17598,17779,17995,18076,18728,18946,19232,19239],\"size\":{\"__ndarray__\":\"7SUP4UOT2T6suyCoiMEKP8huheCLY6o/Lo6Trhrnqz9VvIrhYGKvPxxODgDAtsk/hOZSQHJ8yj+cFQs+HWjLP6+hoCsMSuc/u3FA4iELAECLZ5GuwmoGQOC3exJoxCxA3QDaysy0QEBCwP7XlLhSP4X3b9NOS6E/JWSuP/Z1tT/eL0ExBm3mP5yQeqKUWew/YBdGJ8Zw+T+q7n6R+zsAQB/bXNz1wAlARGe9x87xFEChpTjaGOYZQD9evWpZSi9AO5uFaSq7NUCoxKeSeoE7QMMLcJ4c6Qc/2RmVdPsUlj9ghG1aHurWP93Vjd6W9uY/TCpPR4iMDkDH5yyk1+snQIXb2nkwRChAqRNAGMuqK0CEeuCIYZMyQAJHOzbrRzpAtGPiPkd1O0AFOcSIhzdAQN3AQvcg52Y/1ox5pdzcjT9qR+sy6oWhP21xFkrRR/I/wav4hI2H+T+6dusFxe0DQFw101OAxhBAu7ib5VVZJEBfwkwzwvUwQOykX/ygoDRAA6nF6gr3OEB11tEpEpxCQEAiYm+AViw/ruaWtvyU6j8Fz/wvSpsIQHJrPRr1XgtAmViIC45yIEAWfNbxiYosQJKXLFrSmC1AQnSzngdBNkBKIY4H+QM3QIGRZhG78kJApJbdMuPqREAsZiMauDtHQN4uh3oPR6c/pQ8fBuir2j/8kHi3HEkRQDhxoZ1q/yVAtHXRL1WuMUAESXl6qTo2QLUwsckumzdAAWyfwuFAOkB2MGGOxgs9QEEDi6dY+URAhTtAaIoPRUDvrJJIGHNHQMUawODtgEhAkWTCUrZioD+9yCQRaOSvP147ZYQUjLY/JIYyz/ZAvj/k/0SFJ5zTP9fZ4jEJRv0/unby/RAyAkB83KnNTDAbQEPVm8n4AiBA2lgNYQw2K0BSHujElHU4QOnGwHIBoDxAT9I0xxLlQEDFYqCgfLHFPyrx9W9NmOQ/S55MsKFIF0ChhuZsgaAXQBE/iDF2PRpAxEFLv5HiHEAV/y1nfL4nQL5WR4smpTBAgYZSNCNYMkAxsgFM9uxBQCkuhvyVr0RAb+Jbj8Q4SEAfa0DGxVFIQA==\",\"dtype\":\"float64\",\"shape\":[101]}},\"selected\":{\"id\":\"1260\"},\"selection_policy\":{\"id\":\"1261\"}},\"id\":\"1224\",\"type\":\"ColumnDataSource\"},{\"attributes\":{},\"id\":\"1216\",\"type\":\"CategoricalTicker\"},{\"attributes\":{\"fill_alpha\":{\"value\":0.1},\"fill_color\":{\"field\":\"Medians\",\"transform\":{\"id\":\"1205\"}},\"line_alpha\":{\"value\":0.1},\"line_color\":{\"value\":\"#1f77b4\"},\"line_width\":{\"value\":0},\"size\":{\"field\":\"size\",\"units\":\"screen\"},\"x\":{\"field\":\"Proteomics\"},\"y\":{\"field\":\"Cancer\"}},\"id\":\"1227\",\"type\":\"Scatter\"},{\"attributes\":{},\"id\":\"1259\",\"type\":\"CategoricalTickFormatter\"},{\"attributes\":{\"active_drag\":\"auto\",\"active_inspect\":\"auto\",\"active_multi\":null,\"active_scroll\":\"auto\",\"active_tap\":\"auto\",\"tools\":[{\"id\":\"1221\"}]},\"id\":\"1222\",\"type\":\"Toolbar\"},{\"attributes\":{},\"id\":\"1211\",\"type\":\"CategoricalScale\"},{\"attributes\":{},\"id\":\"1257\",\"type\":\"CategoricalTickFormatter\"},{\"attributes\":{},\"id\":\"1213\",\"type\":\"CategoricalScale\"},{\"attributes\":{\"source\":{\"id\":\"1224\"}},\"id\":\"1229\",\"type\":\"CDSView\"},{\"attributes\":{\"axis\":{\"id\":\"1215\"},\"ticker\":null},\"id\":\"1217\",\"type\":\"Grid\"},{\"attributes\":{\"factors\":[\"Ov\",\"Luad\",\"Lscc\",\"Hnscc\",\"Gbm\",\"En\",\"Colon\",\"Brca\"]},\"id\":\"1207\",\"type\":\"FactorRange\"},{\"attributes\":{\"callback\":null},\"id\":\"1221\",\"type\":\"HoverTool\"},{\"attributes\":{\"formatter\":{\"id\":\"1259\"},\"ticker\":{\"id\":\"1219\"}},\"id\":\"1218\",\"type\":\"CategoricalAxis\"},{\"attributes\":{},\"id\":\"1219\",\"type\":\"CategoricalTicker\"},{\"attributes\":{\"high\":1,\"low\":-1,\"palette\":[\"#2166ac\",\"#4393c3\",\"#92c5de\",\"#d1e5f0\",\"#f7f7f7\",\"#fddbc7\",\"#f4a582\",\"#d6604d\",\"#b2182b\"]},\"id\":\"1205\",\"type\":\"LinearColorMapper\"},{\"attributes\":{\"text\":\"\"},\"id\":\"1252\",\"type\":\"Title\"},{\"attributes\":{},\"id\":\"1255\",\"type\":\"BasicTickFormatter\"},{\"attributes\":{\"axis\":{\"id\":\"1218\"},\"dimension\":1,\"ticker\":null},\"id\":\"1220\",\"type\":\"Grid\"},{\"attributes\":{\"fill_color\":{\"field\":\"Medians\",\"transform\":{\"id\":\"1205\"}},\"line_color\":{\"value\":\"#1f77b4\"},\"line_width\":{\"value\":0},\"size\":{\"field\":\"size\",\"units\":\"screen\"},\"x\":{\"field\":\"Proteomics\"},\"y\":{\"field\":\"Cancer\"}},\"id\":\"1226\",\"type\":\"Scatter\"},{\"attributes\":{},\"id\":\"1261\",\"type\":\"UnionRenderers\"}],\"root_ids\":[\"1208\"]},\"title\":\"Bokeh Application\",\"version\":\"2.0.1\"}};\n",
       "  var render_items = [{\"docid\":\"984c24dd-aea2-48eb-825d-1537b14e630a\",\"root_ids\":[\"1208\"],\"roots\":{\"1208\":\"f5a81c60-6527-41da-83a2-926ef11b2c81\"}}];\n",
       "  root.Bokeh.embed.embed_items_notebook(docs_json, render_items);\n",
       "\n",
       "  }\n",
       "  if (root.Bokeh !== undefined) {\n",
       "    embed_document(root);\n",
       "  } else {\n",
       "    var attempts = 0;\n",
       "    var timer = setInterval(function(root) {\n",
       "      if (root.Bokeh !== undefined) {\n",
       "        clearInterval(timer);\n",
       "        embed_document(root);\n",
       "      } else {\n",
       "        attempts++;\n",
       "        if (attempts > 100) {\n",
       "          clearInterval(timer);\n",
       "          console.log(\"Bokeh: ERROR: Unable to run BokehJS code because BokehJS library is missing\");\n",
       "        }\n",
       "      }\n",
       "    }, 10, root)\n",
       "  }\n",
       "})(window);"
      ],
      "application/vnd.bokehjs_exec.v0+json": ""
     },
     "metadata": {
      "application/vnd.bokehjs_exec.v0+json": {
       "id": "1208"
      }
     },
     "output_type": "display_data"
    }
   ],
   "source": [
    "p.plotCircleHeatMap(plot_df, circle_var = 'P_Value', color_var='Medians', x_axis= 'Proteomics', y_axis = 'Cancer',\n",
    "                   graph_width=700)"
   ]
  },
  {
   "cell_type": "markdown",
   "metadata": {},
   "source": [
    "Pos/Neg Correlations"
   ]
  },
  {
   "cell_type": "code",
   "execution_count": 59,
   "metadata": {},
   "outputs": [],
   "source": [
    "pos_neg_df = pd.read_csv(root+R'\\pos_neg_df.csv')"
   ]
  },
  {
   "cell_type": "code",
   "execution_count": 69,
   "metadata": {},
   "outputs": [
    {
     "data": {
      "text/plain": [
       "array(['MAPK3', 'PIK3R1', 'INPP4B', 'TP53'], dtype=object)"
      ]
     },
     "execution_count": 69,
     "metadata": {},
     "output_type": "execute_result"
    }
   ],
   "source": [
    "get = pos_neg_df.Proteomics.isin(sig_genes) # bool df where True has both pos and neg\n",
    "genes_pn = pos_neg_df[get] # Keep only genes with pos and neg\n",
    "genes_pn.Proteomics.unique()"
   ]
  },
  {
   "cell_type": "code",
   "execution_count": 72,
   "metadata": {},
   "outputs": [
    {
     "name": "stderr",
     "output_type": "stream",
     "text": [
      "C:\\Users\\brittany henderson\\Anaconda3\\envs\\Research\\lib\\site-packages\\ipykernel_launcher.py:2: SettingWithCopyWarning: \n",
      "A value is trying to be set on a copy of a slice from a DataFrame.\n",
      "Try using .loc[row_indexer,col_indexer] = value instead\n",
      "\n",
      "See the caveats in the documentation: https://pandas.pydata.org/pandas-docs/stable/user_guide/indexing.html#returning-a-view-versus-a-copy\n",
      "  \n"
     ]
    }
   ],
   "source": [
    "# log p-vals for right scale in plot (bigger circle, smaller pval)\n",
    "genes_pn['size'] = genes_pn['P_Value'].apply(lambda x: -1*(np.log(x)/10))"
   ]
  },
  {
   "cell_type": "code",
   "execution_count": 71,
   "metadata": {},
   "outputs": [
    {
     "name": "stderr",
     "output_type": "stream",
     "text": [
      "C:\\Users\\brittany henderson\\Anaconda3\\envs\\Research\\lib\\site-packages\\plot_utils\\__init__.py:36: SettingWithCopyWarning: \n",
      "A value is trying to be set on a copy of a slice from a DataFrame.\n",
      "Try using .loc[row_indexer,col_indexer] = value instead\n",
      "\n",
      "See the caveats in the documentation: https://pandas.pydata.org/pandas-docs/stable/user_guide/indexing.html#returning-a-view-versus-a-copy\n",
      "  df['size'] = np.where(df[circle_var]<0, np.abs(df[circle_var]), df[circle_var])*50\n"
     ]
    },
    {
     "data": {
      "text/html": [
       "\n",
       "    <div class=\"bk-root\">\n",
       "        <a href=\"https://bokeh.org\" target=\"_blank\" class=\"bk-logo bk-logo-small bk-logo-notebook\"></a>\n",
       "        <span id=\"1916\">Loading BokehJS ...</span>\n",
       "    </div>"
      ]
     },
     "metadata": {},
     "output_type": "display_data"
    },
    {
     "data": {
      "application/javascript": [
       "\n",
       "(function(root) {\n",
       "  function now() {\n",
       "    return new Date();\n",
       "  }\n",
       "\n",
       "  var force = true;\n",
       "\n",
       "  if (typeof root._bokeh_onload_callbacks === \"undefined\" || force === true) {\n",
       "    root._bokeh_onload_callbacks = [];\n",
       "    root._bokeh_is_loading = undefined;\n",
       "  }\n",
       "\n",
       "  var JS_MIME_TYPE = 'application/javascript';\n",
       "  var HTML_MIME_TYPE = 'text/html';\n",
       "  var EXEC_MIME_TYPE = 'application/vnd.bokehjs_exec.v0+json';\n",
       "  var CLASS_NAME = 'output_bokeh rendered_html';\n",
       "\n",
       "  /**\n",
       "   * Render data to the DOM node\n",
       "   */\n",
       "  function render(props, node) {\n",
       "    var script = document.createElement(\"script\");\n",
       "    node.appendChild(script);\n",
       "  }\n",
       "\n",
       "  /**\n",
       "   * Handle when an output is cleared or removed\n",
       "   */\n",
       "  function handleClearOutput(event, handle) {\n",
       "    var cell = handle.cell;\n",
       "\n",
       "    var id = cell.output_area._bokeh_element_id;\n",
       "    var server_id = cell.output_area._bokeh_server_id;\n",
       "    // Clean up Bokeh references\n",
       "    if (id != null && id in Bokeh.index) {\n",
       "      Bokeh.index[id].model.document.clear();\n",
       "      delete Bokeh.index[id];\n",
       "    }\n",
       "\n",
       "    if (server_id !== undefined) {\n",
       "      // Clean up Bokeh references\n",
       "      var cmd = \"from bokeh.io.state import curstate; print(curstate().uuid_to_server['\" + server_id + \"'].get_sessions()[0].document.roots[0]._id)\";\n",
       "      cell.notebook.kernel.execute(cmd, {\n",
       "        iopub: {\n",
       "          output: function(msg) {\n",
       "            var id = msg.content.text.trim();\n",
       "            if (id in Bokeh.index) {\n",
       "              Bokeh.index[id].model.document.clear();\n",
       "              delete Bokeh.index[id];\n",
       "            }\n",
       "          }\n",
       "        }\n",
       "      });\n",
       "      // Destroy server and session\n",
       "      var cmd = \"import bokeh.io.notebook as ion; ion.destroy_server('\" + server_id + \"')\";\n",
       "      cell.notebook.kernel.execute(cmd);\n",
       "    }\n",
       "  }\n",
       "\n",
       "  /**\n",
       "   * Handle when a new output is added\n",
       "   */\n",
       "  function handleAddOutput(event, handle) {\n",
       "    var output_area = handle.output_area;\n",
       "    var output = handle.output;\n",
       "\n",
       "    // limit handleAddOutput to display_data with EXEC_MIME_TYPE content only\n",
       "    if ((output.output_type != \"display_data\") || (!output.data.hasOwnProperty(EXEC_MIME_TYPE))) {\n",
       "      return\n",
       "    }\n",
       "\n",
       "    var toinsert = output_area.element.find(\".\" + CLASS_NAME.split(' ')[0]);\n",
       "\n",
       "    if (output.metadata[EXEC_MIME_TYPE][\"id\"] !== undefined) {\n",
       "      toinsert[toinsert.length - 1].firstChild.textContent = output.data[JS_MIME_TYPE];\n",
       "      // store reference to embed id on output_area\n",
       "      output_area._bokeh_element_id = output.metadata[EXEC_MIME_TYPE][\"id\"];\n",
       "    }\n",
       "    if (output.metadata[EXEC_MIME_TYPE][\"server_id\"] !== undefined) {\n",
       "      var bk_div = document.createElement(\"div\");\n",
       "      bk_div.innerHTML = output.data[HTML_MIME_TYPE];\n",
       "      var script_attrs = bk_div.children[0].attributes;\n",
       "      for (var i = 0; i < script_attrs.length; i++) {\n",
       "        toinsert[toinsert.length - 1].firstChild.setAttribute(script_attrs[i].name, script_attrs[i].value);\n",
       "        toinsert[toinsert.length - 1].firstChild.textContent = bk_div.children[0].textContent\n",
       "      }\n",
       "      // store reference to server id on output_area\n",
       "      output_area._bokeh_server_id = output.metadata[EXEC_MIME_TYPE][\"server_id\"];\n",
       "    }\n",
       "  }\n",
       "\n",
       "  function register_renderer(events, OutputArea) {\n",
       "\n",
       "    function append_mime(data, metadata, element) {\n",
       "      // create a DOM node to render to\n",
       "      var toinsert = this.create_output_subarea(\n",
       "        metadata,\n",
       "        CLASS_NAME,\n",
       "        EXEC_MIME_TYPE\n",
       "      );\n",
       "      this.keyboard_manager.register_events(toinsert);\n",
       "      // Render to node\n",
       "      var props = {data: data, metadata: metadata[EXEC_MIME_TYPE]};\n",
       "      render(props, toinsert[toinsert.length - 1]);\n",
       "      element.append(toinsert);\n",
       "      return toinsert\n",
       "    }\n",
       "\n",
       "    /* Handle when an output is cleared or removed */\n",
       "    events.on('clear_output.CodeCell', handleClearOutput);\n",
       "    events.on('delete.Cell', handleClearOutput);\n",
       "\n",
       "    /* Handle when a new output is added */\n",
       "    events.on('output_added.OutputArea', handleAddOutput);\n",
       "\n",
       "    /**\n",
       "     * Register the mime type and append_mime function with output_area\n",
       "     */\n",
       "    OutputArea.prototype.register_mime_type(EXEC_MIME_TYPE, append_mime, {\n",
       "      /* Is output safe? */\n",
       "      safe: true,\n",
       "      /* Index of renderer in `output_area.display_order` */\n",
       "      index: 0\n",
       "    });\n",
       "  }\n",
       "\n",
       "  // register the mime type if in Jupyter Notebook environment and previously unregistered\n",
       "  if (root.Jupyter !== undefined) {\n",
       "    var events = require('base/js/events');\n",
       "    var OutputArea = require('notebook/js/outputarea').OutputArea;\n",
       "\n",
       "    if (OutputArea.prototype.mime_types().indexOf(EXEC_MIME_TYPE) == -1) {\n",
       "      register_renderer(events, OutputArea);\n",
       "    }\n",
       "  }\n",
       "\n",
       "  \n",
       "  if (typeof (root._bokeh_timeout) === \"undefined\" || force === true) {\n",
       "    root._bokeh_timeout = Date.now() + 5000;\n",
       "    root._bokeh_failed_load = false;\n",
       "  }\n",
       "\n",
       "  var NB_LOAD_WARNING = {'data': {'text/html':\n",
       "     \"<div style='background-color: #fdd'>\\n\"+\n",
       "     \"<p>\\n\"+\n",
       "     \"BokehJS does not appear to have successfully loaded. If loading BokehJS from CDN, this \\n\"+\n",
       "     \"may be due to a slow or bad network connection. Possible fixes:\\n\"+\n",
       "     \"</p>\\n\"+\n",
       "     \"<ul>\\n\"+\n",
       "     \"<li>re-rerun `output_notebook()` to attempt to load from CDN again, or</li>\\n\"+\n",
       "     \"<li>use INLINE resources instead, as so:</li>\\n\"+\n",
       "     \"</ul>\\n\"+\n",
       "     \"<code>\\n\"+\n",
       "     \"from bokeh.resources import INLINE\\n\"+\n",
       "     \"output_notebook(resources=INLINE)\\n\"+\n",
       "     \"</code>\\n\"+\n",
       "     \"</div>\"}};\n",
       "\n",
       "  function display_loaded() {\n",
       "    var el = document.getElementById(\"1916\");\n",
       "    if (el != null) {\n",
       "      el.textContent = \"BokehJS is loading...\";\n",
       "    }\n",
       "    if (root.Bokeh !== undefined) {\n",
       "      if (el != null) {\n",
       "        el.textContent = \"BokehJS \" + root.Bokeh.version + \" successfully loaded.\";\n",
       "      }\n",
       "    } else if (Date.now() < root._bokeh_timeout) {\n",
       "      setTimeout(display_loaded, 100)\n",
       "    }\n",
       "  }\n",
       "\n",
       "\n",
       "  function run_callbacks() {\n",
       "    try {\n",
       "      root._bokeh_onload_callbacks.forEach(function(callback) {\n",
       "        if (callback != null)\n",
       "          callback();\n",
       "      });\n",
       "    } finally {\n",
       "      delete root._bokeh_onload_callbacks\n",
       "    }\n",
       "    console.debug(\"Bokeh: all callbacks have finished\");\n",
       "  }\n",
       "\n",
       "  function load_libs(css_urls, js_urls, callback) {\n",
       "    if (css_urls == null) css_urls = [];\n",
       "    if (js_urls == null) js_urls = [];\n",
       "\n",
       "    root._bokeh_onload_callbacks.push(callback);\n",
       "    if (root._bokeh_is_loading > 0) {\n",
       "      console.debug(\"Bokeh: BokehJS is being loaded, scheduling callback at\", now());\n",
       "      return null;\n",
       "    }\n",
       "    if (js_urls == null || js_urls.length === 0) {\n",
       "      run_callbacks();\n",
       "      return null;\n",
       "    }\n",
       "    console.debug(\"Bokeh: BokehJS not loaded, scheduling load and callback at\", now());\n",
       "    root._bokeh_is_loading = css_urls.length + js_urls.length;\n",
       "\n",
       "    function on_load() {\n",
       "      root._bokeh_is_loading--;\n",
       "      if (root._bokeh_is_loading === 0) {\n",
       "        console.debug(\"Bokeh: all BokehJS libraries/stylesheets loaded\");\n",
       "        run_callbacks()\n",
       "      }\n",
       "    }\n",
       "\n",
       "    function on_error() {\n",
       "      console.error(\"failed to load \" + url);\n",
       "    }\n",
       "\n",
       "    for (var i = 0; i < css_urls.length; i++) {\n",
       "      var url = css_urls[i];\n",
       "      const element = document.createElement(\"link\");\n",
       "      element.onload = on_load;\n",
       "      element.onerror = on_error;\n",
       "      element.rel = \"stylesheet\";\n",
       "      element.type = \"text/css\";\n",
       "      element.href = url;\n",
       "      console.debug(\"Bokeh: injecting link tag for BokehJS stylesheet: \", url);\n",
       "      document.body.appendChild(element);\n",
       "    }\n",
       "\n",
       "    const hashes = {\"https://cdn.bokeh.org/bokeh/release/bokeh-2.0.1.min.js\": \"JpP8FXbgAZLkfur7LiK3j9AGBhHNIvF742meBJrjO2ShJDhCG2I1uVvW+0DUtrmc\", \"https://cdn.bokeh.org/bokeh/release/bokeh-widgets-2.0.1.min.js\": \"xZlADit0Q04ISQEdKg2k3L4W9AwQBAuDs9nJL9fM/WwzL1tEU9VPNezOFX0nLEAz\", \"https://cdn.bokeh.org/bokeh/release/bokeh-tables-2.0.1.min.js\": \"4BuPRZkdMKSnj3zoxiNrQ86XgNw0rYmBOxe7nshquXwwcauupgBF2DHLVG1WuZlV\", \"https://cdn.bokeh.org/bokeh/release/bokeh-gl-2.0.1.min.js\": \"Dv1SQ87hmDqK6S5OhBf0bCuwAEvL5QYL0PuR/F1SPVhCS/r/abjkbpKDYL2zeM19\"};\n",
       "\n",
       "    for (var i = 0; i < js_urls.length; i++) {\n",
       "      var url = js_urls[i];\n",
       "      var element = document.createElement('script');\n",
       "      element.onload = on_load;\n",
       "      element.onerror = on_error;\n",
       "      element.async = false;\n",
       "      element.src = url;\n",
       "      if (url in hashes) {\n",
       "        element.crossOrigin = \"anonymous\";\n",
       "        element.integrity = \"sha384-\" + hashes[url];\n",
       "      }\n",
       "      console.debug(\"Bokeh: injecting script tag for BokehJS library: \", url);\n",
       "      document.head.appendChild(element);\n",
       "    }\n",
       "  };var element = document.getElementById(\"1916\");\n",
       "  if (element == null) {\n",
       "    console.error(\"Bokeh: ERROR: autoload.js configured with elementid '1916' but no matching script tag was found. \")\n",
       "    return false;\n",
       "  }\n",
       "\n",
       "  function inject_raw_css(css) {\n",
       "    const element = document.createElement(\"style\");\n",
       "    element.appendChild(document.createTextNode(css));\n",
       "    document.body.appendChild(element);\n",
       "  }\n",
       "\n",
       "  \n",
       "  var js_urls = [\"https://cdn.bokeh.org/bokeh/release/bokeh-2.0.1.min.js\", \"https://cdn.bokeh.org/bokeh/release/bokeh-widgets-2.0.1.min.js\", \"https://cdn.bokeh.org/bokeh/release/bokeh-tables-2.0.1.min.js\", \"https://cdn.bokeh.org/bokeh/release/bokeh-gl-2.0.1.min.js\"];\n",
       "  var css_urls = [];\n",
       "  \n",
       "\n",
       "  var inline_js = [\n",
       "    function(Bokeh) {\n",
       "      Bokeh.set_log_level(\"info\");\n",
       "    },\n",
       "    function(Bokeh) {\n",
       "    \n",
       "    \n",
       "    }\n",
       "  ];\n",
       "\n",
       "  function run_inline_js() {\n",
       "    \n",
       "    if (root.Bokeh !== undefined || force === true) {\n",
       "      \n",
       "    for (var i = 0; i < inline_js.length; i++) {\n",
       "      inline_js[i].call(root, root.Bokeh);\n",
       "    }\n",
       "    if (force === true) {\n",
       "        display_loaded();\n",
       "      }} else if (Date.now() < root._bokeh_timeout) {\n",
       "      setTimeout(run_inline_js, 100);\n",
       "    } else if (!root._bokeh_failed_load) {\n",
       "      console.log(\"Bokeh: BokehJS failed to load within specified timeout.\");\n",
       "      root._bokeh_failed_load = true;\n",
       "    } else if (force !== true) {\n",
       "      var cell = $(document.getElementById(\"1916\")).parents('.cell').data().cell;\n",
       "      cell.output_area.append_execute_result(NB_LOAD_WARNING)\n",
       "    }\n",
       "\n",
       "  }\n",
       "\n",
       "  if (root._bokeh_is_loading === 0) {\n",
       "    console.debug(\"Bokeh: BokehJS loaded, going straight to plotting\");\n",
       "    run_inline_js();\n",
       "  } else {\n",
       "    load_libs(css_urls, js_urls, function() {\n",
       "      console.debug(\"Bokeh: BokehJS plotting callback run at\", now());\n",
       "      run_inline_js();\n",
       "    });\n",
       "  }\n",
       "}(window));"
      ],
      "application/vnd.bokehjs_load.v0+json": "\n(function(root) {\n  function now() {\n    return new Date();\n  }\n\n  var force = true;\n\n  if (typeof root._bokeh_onload_callbacks === \"undefined\" || force === true) {\n    root._bokeh_onload_callbacks = [];\n    root._bokeh_is_loading = undefined;\n  }\n\n  \n\n  \n  if (typeof (root._bokeh_timeout) === \"undefined\" || force === true) {\n    root._bokeh_timeout = Date.now() + 5000;\n    root._bokeh_failed_load = false;\n  }\n\n  var NB_LOAD_WARNING = {'data': {'text/html':\n     \"<div style='background-color: #fdd'>\\n\"+\n     \"<p>\\n\"+\n     \"BokehJS does not appear to have successfully loaded. If loading BokehJS from CDN, this \\n\"+\n     \"may be due to a slow or bad network connection. Possible fixes:\\n\"+\n     \"</p>\\n\"+\n     \"<ul>\\n\"+\n     \"<li>re-rerun `output_notebook()` to attempt to load from CDN again, or</li>\\n\"+\n     \"<li>use INLINE resources instead, as so:</li>\\n\"+\n     \"</ul>\\n\"+\n     \"<code>\\n\"+\n     \"from bokeh.resources import INLINE\\n\"+\n     \"output_notebook(resources=INLINE)\\n\"+\n     \"</code>\\n\"+\n     \"</div>\"}};\n\n  function display_loaded() {\n    var el = document.getElementById(\"1916\");\n    if (el != null) {\n      el.textContent = \"BokehJS is loading...\";\n    }\n    if (root.Bokeh !== undefined) {\n      if (el != null) {\n        el.textContent = \"BokehJS \" + root.Bokeh.version + \" successfully loaded.\";\n      }\n    } else if (Date.now() < root._bokeh_timeout) {\n      setTimeout(display_loaded, 100)\n    }\n  }\n\n\n  function run_callbacks() {\n    try {\n      root._bokeh_onload_callbacks.forEach(function(callback) {\n        if (callback != null)\n          callback();\n      });\n    } finally {\n      delete root._bokeh_onload_callbacks\n    }\n    console.debug(\"Bokeh: all callbacks have finished\");\n  }\n\n  function load_libs(css_urls, js_urls, callback) {\n    if (css_urls == null) css_urls = [];\n    if (js_urls == null) js_urls = [];\n\n    root._bokeh_onload_callbacks.push(callback);\n    if (root._bokeh_is_loading > 0) {\n      console.debug(\"Bokeh: BokehJS is being loaded, scheduling callback at\", now());\n      return null;\n    }\n    if (js_urls == null || js_urls.length === 0) {\n      run_callbacks();\n      return null;\n    }\n    console.debug(\"Bokeh: BokehJS not loaded, scheduling load and callback at\", now());\n    root._bokeh_is_loading = css_urls.length + js_urls.length;\n\n    function on_load() {\n      root._bokeh_is_loading--;\n      if (root._bokeh_is_loading === 0) {\n        console.debug(\"Bokeh: all BokehJS libraries/stylesheets loaded\");\n        run_callbacks()\n      }\n    }\n\n    function on_error() {\n      console.error(\"failed to load \" + url);\n    }\n\n    for (var i = 0; i < css_urls.length; i++) {\n      var url = css_urls[i];\n      const element = document.createElement(\"link\");\n      element.onload = on_load;\n      element.onerror = on_error;\n      element.rel = \"stylesheet\";\n      element.type = \"text/css\";\n      element.href = url;\n      console.debug(\"Bokeh: injecting link tag for BokehJS stylesheet: \", url);\n      document.body.appendChild(element);\n    }\n\n    const hashes = {\"https://cdn.bokeh.org/bokeh/release/bokeh-2.0.1.min.js\": \"JpP8FXbgAZLkfur7LiK3j9AGBhHNIvF742meBJrjO2ShJDhCG2I1uVvW+0DUtrmc\", \"https://cdn.bokeh.org/bokeh/release/bokeh-widgets-2.0.1.min.js\": \"xZlADit0Q04ISQEdKg2k3L4W9AwQBAuDs9nJL9fM/WwzL1tEU9VPNezOFX0nLEAz\", \"https://cdn.bokeh.org/bokeh/release/bokeh-tables-2.0.1.min.js\": \"4BuPRZkdMKSnj3zoxiNrQ86XgNw0rYmBOxe7nshquXwwcauupgBF2DHLVG1WuZlV\", \"https://cdn.bokeh.org/bokeh/release/bokeh-gl-2.0.1.min.js\": \"Dv1SQ87hmDqK6S5OhBf0bCuwAEvL5QYL0PuR/F1SPVhCS/r/abjkbpKDYL2zeM19\"};\n\n    for (var i = 0; i < js_urls.length; i++) {\n      var url = js_urls[i];\n      var element = document.createElement('script');\n      element.onload = on_load;\n      element.onerror = on_error;\n      element.async = false;\n      element.src = url;\n      if (url in hashes) {\n        element.crossOrigin = \"anonymous\";\n        element.integrity = \"sha384-\" + hashes[url];\n      }\n      console.debug(\"Bokeh: injecting script tag for BokehJS library: \", url);\n      document.head.appendChild(element);\n    }\n  };var element = document.getElementById(\"1916\");\n  if (element == null) {\n    console.error(\"Bokeh: ERROR: autoload.js configured with elementid '1916' but no matching script tag was found. \")\n    return false;\n  }\n\n  function inject_raw_css(css) {\n    const element = document.createElement(\"style\");\n    element.appendChild(document.createTextNode(css));\n    document.body.appendChild(element);\n  }\n\n  \n  var js_urls = [\"https://cdn.bokeh.org/bokeh/release/bokeh-2.0.1.min.js\", \"https://cdn.bokeh.org/bokeh/release/bokeh-widgets-2.0.1.min.js\", \"https://cdn.bokeh.org/bokeh/release/bokeh-tables-2.0.1.min.js\", \"https://cdn.bokeh.org/bokeh/release/bokeh-gl-2.0.1.min.js\"];\n  var css_urls = [];\n  \n\n  var inline_js = [\n    function(Bokeh) {\n      Bokeh.set_log_level(\"info\");\n    },\n    function(Bokeh) {\n    \n    \n    }\n  ];\n\n  function run_inline_js() {\n    \n    if (root.Bokeh !== undefined || force === true) {\n      \n    for (var i = 0; i < inline_js.length; i++) {\n      inline_js[i].call(root, root.Bokeh);\n    }\n    if (force === true) {\n        display_loaded();\n      }} else if (Date.now() < root._bokeh_timeout) {\n      setTimeout(run_inline_js, 100);\n    } else if (!root._bokeh_failed_load) {\n      console.log(\"Bokeh: BokehJS failed to load within specified timeout.\");\n      root._bokeh_failed_load = true;\n    } else if (force !== true) {\n      var cell = $(document.getElementById(\"1916\")).parents('.cell').data().cell;\n      cell.output_area.append_execute_result(NB_LOAD_WARNING)\n    }\n\n  }\n\n  if (root._bokeh_is_loading === 0) {\n    console.debug(\"Bokeh: BokehJS loaded, going straight to plotting\");\n    run_inline_js();\n  } else {\n    load_libs(css_urls, js_urls, function() {\n      console.debug(\"Bokeh: BokehJS plotting callback run at\", now());\n      run_inline_js();\n    });\n  }\n}(window));"
     },
     "metadata": {},
     "output_type": "display_data"
    },
    {
     "data": {
      "text/html": [
       "\n",
       "\n",
       "\n",
       "\n",
       "\n",
       "\n",
       "  <div class=\"bk-root\" id=\"68c6614c-2bba-40cb-b041-51ada9a17766\" data-root-id=\"1893\"></div>\n"
      ]
     },
     "metadata": {},
     "output_type": "display_data"
    },
    {
     "data": {
      "application/javascript": [
       "(function(root) {\n",
       "  function embed_document(root) {\n",
       "    \n",
       "  var docs_json = {\"1cbccf55-54ba-4751-8a00-1d43db55c01e\":{\"roots\":{\"references\":[{\"attributes\":{\"below\":[{\"id\":\"1900\"}],\"center\":[{\"id\":\"1902\"},{\"id\":\"1905\"}],\"left\":[{\"id\":\"1903\"}],\"plot_height\":500,\"plot_width\":500,\"renderers\":[{\"id\":\"1913\"}],\"right\":[{\"id\":\"1915\"}],\"title\":{\"id\":\"1987\"},\"toolbar\":{\"id\":\"1907\"},\"toolbar_location\":null,\"x_range\":{\"id\":\"1891\"},\"x_scale\":{\"id\":\"1896\"},\"y_range\":{\"id\":\"1892\"},\"y_scale\":{\"id\":\"1898\"}},\"id\":\"1893\",\"subtype\":\"Figure\",\"type\":\"Plot\"},{\"attributes\":{},\"id\":\"1992\",\"type\":\"CategoricalTickFormatter\"},{\"attributes\":{\"axis\":{\"id\":\"1900\"},\"ticker\":null},\"id\":\"1902\",\"type\":\"Grid\"},{\"attributes\":{\"source\":{\"id\":\"1909\"}},\"id\":\"1914\",\"type\":\"CDSView\"},{\"attributes\":{\"active_drag\":\"auto\",\"active_inspect\":\"auto\",\"active_multi\":null,\"active_scroll\":\"auto\",\"active_tap\":\"auto\",\"tools\":[{\"id\":\"1906\"}]},\"id\":\"1907\",\"type\":\"Toolbar\"},{\"attributes\":{},\"id\":\"1989\",\"type\":\"BasicTicker\"},{\"attributes\":{\"callback\":null},\"id\":\"1906\",\"type\":\"HoverTool\"},{\"attributes\":{\"factors\":[\"Ov\",\"Luad\",\"Lscc\",\"Hnscc\",\"Gbm\",\"En\",\"Colon\",\"Brca\"]},\"id\":\"1892\",\"type\":\"FactorRange\"},{\"attributes\":{\"factors\":[\"INPP4B\",\"MAPK3\",\"PIK3R1\",\"TP53\"]},\"id\":\"1891\",\"type\":\"FactorRange\"},{\"attributes\":{\"high\":1,\"low\":-1,\"palette\":[\"#2166ac\",\"#4393c3\",\"#92c5de\",\"#d1e5f0\",\"#f7f7f7\",\"#fddbc7\",\"#f4a582\",\"#d6604d\",\"#b2182b\"]},\"id\":\"1890\",\"type\":\"LinearColorMapper\"},{\"attributes\":{\"fill_color\":{\"field\":\"Medians\",\"transform\":{\"id\":\"1890\"}},\"line_color\":{\"value\":\"#1f77b4\"},\"line_width\":{\"value\":0},\"size\":{\"field\":\"size\",\"units\":\"screen\"},\"x\":{\"field\":\"Proteomics\"},\"y\":{\"field\":\"Cancer\"}},\"id\":\"1911\",\"type\":\"Scatter\"},{\"attributes\":{\"data\":{\"Cancer\":[\"Gbm\",\"Gbm\",\"Gbm\",\"Gbm\",\"Hnscc\",\"Hnscc\",\"Hnscc\",\"Hnscc\",\"Luad\",\"Luad\",\"Luad\",\"Luad\",\"Lscc\",\"Lscc\",\"Lscc\",\"Lscc\",\"Brca\",\"Brca\",\"Brca\",\"Brca\",\"Ov\",\"Ov\",\"Ov\",\"Ov\",\"En\",\"En\",\"En\",\"En\",\"Colon\",\"Colon\",\"Colon\",\"Colon\"],\"Medians\":{\"__ndarray__\":\"v5ZeNopI5b/IXfSVLB3Iv13sGQeG4NW/mhqfaaBs0D8gbd9YWu7iv6D1nV3zk+Y/AP6xrQJyr78A/YmtznKyP03zjlN0JAZAcayL22gA/j9iMlUwKqnVP80Qx7q4jd4/LUMc6+I21r+v2F92Tx7Gv5rdk4eFWua/zH9Iv30d6j/fItv5fmq8P6MBvAUSlPC/hOLHmLuWzL9yio7k8h/Yv0cTitVo98Y/FxfS16+41z+hUV87vXeuP5pwRei7Kck/kKD4Meau6b/+Q/rt68DVP8qhRbbz/bQ/h4Va07zjxD9txf6ye/LIP+wvuycPC7U/XNO84xQdqT9ffa62Yn+Jvw==\",\"dtype\":\"float64\",\"shape\":[32]},\"P_Value\":{\"__ndarray__\":\"6UTNnrMfsT6NLLUnUIpxP4SR9rxrz40/TjRz0E1i5T9j/9ZB9CJGPx9r7+UsSKA/uYgFG0OTwD8jBKsg2tDbPyg9L6mEns4/GvhR3Py00T9yLTA33tHgP9Ps8Cn1weQ/wxHx+MBWoD+cCJ7eQ4KpP5Ql2y32eLU/EPw8djRn2j98Y9Xnc4SxP7opH56CDcU/VqEYUy9E0j9oxyZ3KvHSPx/EU4w2KMw/OFkWuLSh1j9YqI8KLPXqP927mXFZXe8/g1fkXDhpVD/pWd2Nl2bBP5ZX1VxFatE/+IKP59JO3z8vdCmQdsRrP4bf800WPr4/PIjHmPsA7z8J27gm/SDvPw==\",\"dtype\":\"float64\",\"shape\":[32]},\"Proteomics\":[\"MAPK3\",\"PIK3R1\",\"INPP4B\",\"TP53\",\"INPP4B\",\"TP53\",\"MAPK3\",\"PIK3R1\",\"TP53\",\"INPP4B\",\"MAPK3\",\"PIK3R1\",\"PIK3R1\",\"MAPK3\",\"INPP4B\",\"TP53\",\"TP53\",\"PIK3R1\",\"MAPK3\",\"INPP4B\",\"PIK3R1\",\"INPP4B\",\"MAPK3\",\"TP53\",\"TP53\",\"PIK3R1\",\"MAPK3\",\"INPP4B\",\"MAPK3\",\"INPP4B\",\"TP53\",\"PIK3R1\"],\"index\":[5,390,631,2319,2834,3267,3746,4585,6928,7039,7692,8001,9230,9363,9552,10681,12313,12726,13107,13135,15212,15593,16819,17168,17392,18372,18781,19238,20188,20461,22143,22151],\"size\":{\"__ndarray__\":\"K0HTZWs+UUBvmXMrLkQ7QPOsthUaJjVAIRnN7qsfAEDiSRJp/D9CQBdKkZfIPTFAUiQJivJwJEBsAJv0YaoQQM5sglGpmxxAUiLdj8+yGUD7FbH9J7oJQMt3a8UWUAFA1v9ug1A5MUAWjGXBNP4tQAH6NOm2yChAV9shdj+1EUDFkTR44NEqQOGBJm/LDCJAfNPVc5ITGUBWGGewl1kYQJqnB1DdSB5Avmid1GjKFECGZ3rTR2/rPywyPe96q7k/R0g2lk+4QEDjzJH9hfQjQNprPhDoBxpAOyCuNrqZDEA5KulcbG88QHM2Lvn5WyVABvER/Wo9xD8P7UbKDqrBPw==\",\"dtype\":\"float64\",\"shape\":[32]}},\"selected\":{\"id\":\"1995\"},\"selection_policy\":{\"id\":\"1996\"}},\"id\":\"1909\",\"type\":\"ColumnDataSource\"},{\"attributes\":{},\"id\":\"1904\",\"type\":\"CategoricalTicker\"},{\"attributes\":{},\"id\":\"1994\",\"type\":\"CategoricalTickFormatter\"},{\"attributes\":{\"formatter\":{\"id\":\"1994\"},\"ticker\":{\"id\":\"1904\"}},\"id\":\"1903\",\"type\":\"CategoricalAxis\"},{\"attributes\":{},\"id\":\"1901\",\"type\":\"CategoricalTicker\"},{\"attributes\":{},\"id\":\"1896\",\"type\":\"CategoricalScale\"},{\"attributes\":{\"data_source\":{\"id\":\"1909\"},\"glyph\":{\"id\":\"1911\"},\"hover_glyph\":null,\"muted_glyph\":null,\"nonselection_glyph\":{\"id\":\"1912\"},\"selection_glyph\":null,\"view\":{\"id\":\"1914\"}},\"id\":\"1913\",\"type\":\"GlyphRenderer\"},{\"attributes\":{\"color_mapper\":{\"id\":\"1890\"},\"formatter\":{\"id\":\"1990\"},\"location\":[0,0],\"ticker\":{\"id\":\"1989\"}},\"id\":\"1915\",\"type\":\"ColorBar\"},{\"attributes\":{},\"id\":\"1898\",\"type\":\"CategoricalScale\"},{\"attributes\":{\"axis\":{\"id\":\"1903\"},\"dimension\":1,\"ticker\":null},\"id\":\"1905\",\"type\":\"Grid\"},{\"attributes\":{\"formatter\":{\"id\":\"1992\"},\"major_label_orientation\":1.5707963267948966,\"ticker\":{\"id\":\"1901\"}},\"id\":\"1900\",\"type\":\"CategoricalAxis\"},{\"attributes\":{},\"id\":\"1995\",\"type\":\"Selection\"},{\"attributes\":{},\"id\":\"1996\",\"type\":\"UnionRenderers\"},{\"attributes\":{},\"id\":\"1990\",\"type\":\"BasicTickFormatter\"},{\"attributes\":{\"fill_alpha\":{\"value\":0.1},\"fill_color\":{\"field\":\"Medians\",\"transform\":{\"id\":\"1890\"}},\"line_alpha\":{\"value\":0.1},\"line_color\":{\"value\":\"#1f77b4\"},\"line_width\":{\"value\":0},\"size\":{\"field\":\"size\",\"units\":\"screen\"},\"x\":{\"field\":\"Proteomics\"},\"y\":{\"field\":\"Cancer\"}},\"id\":\"1912\",\"type\":\"Scatter\"},{\"attributes\":{\"text\":\"\"},\"id\":\"1987\",\"type\":\"Title\"}],\"root_ids\":[\"1893\"]},\"title\":\"Bokeh Application\",\"version\":\"2.0.1\"}};\n",
       "  var render_items = [{\"docid\":\"1cbccf55-54ba-4751-8a00-1d43db55c01e\",\"root_ids\":[\"1893\"],\"roots\":{\"1893\":\"68c6614c-2bba-40cb-b041-51ada9a17766\"}}];\n",
       "  root.Bokeh.embed.embed_items_notebook(docs_json, render_items);\n",
       "\n",
       "  }\n",
       "  if (root.Bokeh !== undefined) {\n",
       "    embed_document(root);\n",
       "  } else {\n",
       "    var attempts = 0;\n",
       "    var timer = setInterval(function(root) {\n",
       "      if (root.Bokeh !== undefined) {\n",
       "        clearInterval(timer);\n",
       "        embed_document(root);\n",
       "      } else {\n",
       "        attempts++;\n",
       "        if (attempts > 100) {\n",
       "          clearInterval(timer);\n",
       "          console.log(\"Bokeh: ERROR: Unable to run BokehJS code because BokehJS library is missing\");\n",
       "        }\n",
       "      }\n",
       "    }, 10, root)\n",
       "  }\n",
       "})(window);"
      ],
      "application/vnd.bokehjs_exec.v0+json": ""
     },
     "metadata": {
      "application/vnd.bokehjs_exec.v0+json": {
       "id": "1893"
      }
     },
     "output_type": "display_data"
    }
   ],
   "source": [
    "p.plotCircleHeatMap(genes_pn, circle_var = 'size', color_var='Medians', x_axis= 'Proteomics', y_axis = 'Cancer',\n",
    "                   graph_height=500, graph_width=500)"
   ]
  },
  {
   "cell_type": "code",
   "execution_count": null,
   "metadata": {},
   "outputs": [],
   "source": []
  }
 ],
 "metadata": {
  "kernelspec": {
   "display_name": "Python 3",
   "language": "python",
   "name": "python3"
  },
  "language_info": {
   "codemirror_mode": {
    "name": "ipython",
    "version": 3
   },
   "file_extension": ".py",
   "mimetype": "text/x-python",
   "name": "python",
   "nbconvert_exporter": "python",
   "pygments_lexer": "ipython3",
   "version": "3.7.3"
  }
 },
 "nbformat": 4,
 "nbformat_minor": 2
}
