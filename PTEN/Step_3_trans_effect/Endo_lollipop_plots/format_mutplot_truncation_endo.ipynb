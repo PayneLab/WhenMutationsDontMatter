{
 "cells": [
  {
   "cell_type": "code",
   "execution_count": 1,
   "metadata": {},
   "outputs": [],
   "source": [
    "import pandas as pd\n",
    "import numpy as np\n",
    "import seaborn as sns\n",
    "import matplotlib.pyplot as plt\n",
    "import scipy.stats\n",
    "import gseapy as gp\n",
    "import re\n",
    "import sys \n",
    "\n",
    "import cptac\n",
    "import cptac.utils as u\n",
    "\n",
    "import plot_utils as pu"
   ]
  },
  {
   "cell_type": "code",
   "execution_count": 2,
   "metadata": {},
   "outputs": [
    {
     "name": "stdout",
     "output_type": "stream",
     "text": [
      "                                                \r"
     ]
    }
   ],
   "source": [
    "e = cptac.Endometrial()"
   ]
  },
  {
   "cell_type": "code",
   "execution_count": 3,
   "metadata": {},
   "outputs": [
    {
     "name": "stderr",
     "output_type": "stream",
     "text": [
      "cptac warning: In joining the somatic_mutation table, no mutations were found for the following samples, so they were filled with Wildtype_Tumor or Wildtype_Normal: 69 samples for the PTEN gene (C:\\Users\\brittany henderson\\Anaconda3\\envs\\Research\\lib\\site-packages\\ipykernel_launcher.py, line 3)\n"
     ]
    }
   ],
   "source": [
    "prot_and_mutations = e.join_omics_to_mutations(\n",
    "            mutations_genes = 'PTEN', omics_df_name = 'proteomics', omics_genes = 'PTEN', \n",
    "    mutations_filter = ['Nonsense_Mutation','Frame_Shift_Ins','Frame_Shift_Del'])"
   ]
  },
  {
   "cell_type": "code",
   "execution_count": 4,
   "metadata": {},
   "outputs": [
    {
     "data": {
      "text/plain": [
       "p.R130*    4\n",
       "p.R233*    4\n",
       "p.E7*      3\n",
       "p.E99*     2\n",
       "p.Q97*     1\n",
       "p.Q214*    1\n",
       "p.Q171*    1\n",
       "p.C304*    1\n",
       "p.G293*    1\n",
       "p.Y180*    1\n",
       "p.W274*    1\n",
       "p.W111*    1\n",
       "p.G209*    1\n",
       "p.S287*    1\n",
       "p.Q245*    1\n",
       "p.Y27*     1\n",
       "Name: PTEN_Location, dtype: int64"
      ]
     },
     "execution_count": 4,
     "metadata": {},
     "output_type": "execute_result"
    }
   ],
   "source": [
    "# Nonsense_Mutation\n",
    "ns = prot_and_mutations.loc[prot_and_mutations['PTEN_Mutation'] == 'Nonsense_Mutation']\n",
    "ns.PTEN_Location.value_counts()"
   ]
  },
  {
   "cell_type": "code",
   "execution_count": 5,
   "metadata": {},
   "outputs": [
    {
     "data": {
      "text/plain": [
       "p.P248Tfs*5     1\n",
       "p.M134Nfs*46    1\n",
       "p.I168Sfs*13    1\n",
       "p.D268Gfs*30    1\n",
       "p.N323Kfs*2     1\n",
       "p.V166Sfs*14    1\n",
       "p.E242*         1\n",
       "Name: PTEN_Location, dtype: int64"
      ]
     },
     "execution_count": 5,
     "metadata": {},
     "output_type": "execute_result"
    }
   ],
   "source": [
    "# Frame_Shift_Ins\n",
    "fsi = prot_and_mutations.loc[prot_and_mutations['PTEN_Mutation'] == 'Frame_Shift_Ins']\n",
    "fsi.PTEN_Location.value_counts()"
   ]
  },
  {
   "cell_type": "code",
   "execution_count": 6,
   "metadata": {},
   "outputs": [
    {
     "data": {
      "text/plain": [
       "p.K267Rfs*9     3\n",
       "p.G293Efs*14    2\n",
       "p.T319*         1\n",
       "p.N329Kfs*14    1\n",
       "p.Y88Sfs*3      1\n",
       "p.T321Kfs*22    1\n",
       "p.N12Tfs*12     1\n",
       "p.C296*         1\n",
       "p.D51*          1\n",
       "p.R47Efs*4      1\n",
       "p.N262Qfs*35    1\n",
       "p.F258Sfs*8     1\n",
       "p.I253Qfs*44    1\n",
       "p.L140Qfs*36    1\n",
       "p.K267Rfs*30    1\n",
       "p.V290*         1\n",
       "p.G44Qfs*3      1\n",
       "p.P30Yfs*11     1\n",
       "Name: PTEN_Location, dtype: int64"
      ]
     },
     "execution_count": 6,
     "metadata": {},
     "output_type": "execute_result"
    }
   ],
   "source": [
    "# Frame_Shift_Del\n",
    "fsd = prot_and_mutations.loc[prot_and_mutations['PTEN_Mutation'] == 'Frame_Shift_Del']\n",
    "fsd.PTEN_Location.value_counts()"
   ]
  },
  {
   "cell_type": "code",
   "execution_count": 7,
   "metadata": {},
   "outputs": [
    {
     "data": {
      "text/html": [
       "<div>\n",
       "<style scoped>\n",
       "    .dataframe tbody tr th:only-of-type {\n",
       "        vertical-align: middle;\n",
       "    }\n",
       "\n",
       "    .dataframe tbody tr th {\n",
       "        vertical-align: top;\n",
       "    }\n",
       "\n",
       "    .dataframe thead th {\n",
       "        text-align: right;\n",
       "    }\n",
       "</style>\n",
       "<table border=\"1\" class=\"dataframe\">\n",
       "  <thead>\n",
       "    <tr style=\"text-align: right;\">\n",
       "      <th>Name</th>\n",
       "      <th>PTEN_proteomics</th>\n",
       "      <th>PTEN_Mutation</th>\n",
       "      <th>PTEN_Location</th>\n",
       "      <th>PTEN_Mutation_Status</th>\n",
       "      <th>Sample_Status</th>\n",
       "    </tr>\n",
       "    <tr>\n",
       "      <th>Patient_ID</th>\n",
       "      <th></th>\n",
       "      <th></th>\n",
       "      <th></th>\n",
       "      <th></th>\n",
       "      <th></th>\n",
       "    </tr>\n",
       "  </thead>\n",
       "  <tbody>\n",
       "    <tr>\n",
       "      <th>C3L-00006</th>\n",
       "      <td>-0.526</td>\n",
       "      <td>Nonsense_Mutation</td>\n",
       "      <td>p.R233*</td>\n",
       "      <td>Multiple_mutation</td>\n",
       "      <td>Tumor</td>\n",
       "    </tr>\n",
       "    <tr>\n",
       "      <th>C3L-00008</th>\n",
       "      <td>-0.830</td>\n",
       "      <td>Missense_Mutation</td>\n",
       "      <td>p.G127R</td>\n",
       "      <td>Single_mutation</td>\n",
       "      <td>Tumor</td>\n",
       "    </tr>\n",
       "    <tr>\n",
       "      <th>C3L-00032</th>\n",
       "      <td>-0.941</td>\n",
       "      <td>Nonsense_Mutation</td>\n",
       "      <td>p.W111*</td>\n",
       "      <td>Single_mutation</td>\n",
       "      <td>Tumor</td>\n",
       "    </tr>\n",
       "    <tr>\n",
       "      <th>C3L-00090</th>\n",
       "      <td>0.730</td>\n",
       "      <td>Missense_Mutation</td>\n",
       "      <td>p.R130G</td>\n",
       "      <td>Single_mutation</td>\n",
       "      <td>Tumor</td>\n",
       "    </tr>\n",
       "    <tr>\n",
       "      <th>C3L-00098</th>\n",
       "      <td>-0.379</td>\n",
       "      <td>Wildtype_Tumor</td>\n",
       "      <td>No_mutation</td>\n",
       "      <td>Wildtype_Tumor</td>\n",
       "      <td>Tumor</td>\n",
       "    </tr>\n",
       "    <tr>\n",
       "      <th>...</th>\n",
       "      <td>...</td>\n",
       "      <td>...</td>\n",
       "      <td>...</td>\n",
       "      <td>...</td>\n",
       "      <td>...</td>\n",
       "    </tr>\n",
       "    <tr>\n",
       "      <th>NX5.N</th>\n",
       "      <td>0.616</td>\n",
       "      <td>Wildtype_Normal</td>\n",
       "      <td>No_mutation</td>\n",
       "      <td>Wildtype_Normal</td>\n",
       "      <td>Normal</td>\n",
       "    </tr>\n",
       "    <tr>\n",
       "      <th>NX6.N</th>\n",
       "      <td>0.619</td>\n",
       "      <td>Wildtype_Normal</td>\n",
       "      <td>No_mutation</td>\n",
       "      <td>Wildtype_Normal</td>\n",
       "      <td>Normal</td>\n",
       "    </tr>\n",
       "    <tr>\n",
       "      <th>NX7.N</th>\n",
       "      <td>0.460</td>\n",
       "      <td>Wildtype_Normal</td>\n",
       "      <td>No_mutation</td>\n",
       "      <td>Wildtype_Normal</td>\n",
       "      <td>Normal</td>\n",
       "    </tr>\n",
       "    <tr>\n",
       "      <th>NX8.N</th>\n",
       "      <td>0.550</td>\n",
       "      <td>Wildtype_Normal</td>\n",
       "      <td>No_mutation</td>\n",
       "      <td>Wildtype_Normal</td>\n",
       "      <td>Normal</td>\n",
       "    </tr>\n",
       "    <tr>\n",
       "      <th>NX9.N</th>\n",
       "      <td>0.452</td>\n",
       "      <td>Wildtype_Normal</td>\n",
       "      <td>No_mutation</td>\n",
       "      <td>Wildtype_Normal</td>\n",
       "      <td>Normal</td>\n",
       "    </tr>\n",
       "  </tbody>\n",
       "</table>\n",
       "<p>144 rows × 5 columns</p>\n",
       "</div>"
      ],
      "text/plain": [
       "Name        PTEN_proteomics      PTEN_Mutation PTEN_Location  \\\n",
       "Patient_ID                                                     \n",
       "C3L-00006            -0.526  Nonsense_Mutation       p.R233*   \n",
       "C3L-00008            -0.830  Missense_Mutation       p.G127R   \n",
       "C3L-00032            -0.941  Nonsense_Mutation       p.W111*   \n",
       "C3L-00090             0.730  Missense_Mutation       p.R130G   \n",
       "C3L-00098            -0.379     Wildtype_Tumor   No_mutation   \n",
       "...                     ...                ...           ...   \n",
       "NX5.N                 0.616    Wildtype_Normal   No_mutation   \n",
       "NX6.N                 0.619    Wildtype_Normal   No_mutation   \n",
       "NX7.N                 0.460    Wildtype_Normal   No_mutation   \n",
       "NX8.N                 0.550    Wildtype_Normal   No_mutation   \n",
       "NX9.N                 0.452    Wildtype_Normal   No_mutation   \n",
       "\n",
       "Name       PTEN_Mutation_Status Sample_Status  \n",
       "Patient_ID                                     \n",
       "C3L-00006     Multiple_mutation         Tumor  \n",
       "C3L-00008       Single_mutation         Tumor  \n",
       "C3L-00032       Single_mutation         Tumor  \n",
       "C3L-00090       Single_mutation         Tumor  \n",
       "C3L-00098        Wildtype_Tumor         Tumor  \n",
       "...                         ...           ...  \n",
       "NX5.N           Wildtype_Normal        Normal  \n",
       "NX6.N           Wildtype_Normal        Normal  \n",
       "NX7.N           Wildtype_Normal        Normal  \n",
       "NX8.N           Wildtype_Normal        Normal  \n",
       "NX9.N           Wildtype_Normal        Normal  \n",
       "\n",
       "[144 rows x 5 columns]"
      ]
     },
     "execution_count": 7,
     "metadata": {},
     "output_type": "execute_result"
    }
   ],
   "source": [
    "prot_and_mutations"
   ]
  },
  {
   "cell_type": "code",
   "execution_count": 20,
   "metadata": {},
   "outputs": [
    {
     "data": {
      "text/plain": [
       "Nonsense_Mutation    27\n",
       "Frame_Shift_Del      26\n",
       "Frame_Shift_Ins      11\n",
       "Name: Mutation_Type, dtype: int64"
      ]
     },
     "execution_count": 20,
     "metadata": {},
     "output_type": "execute_result"
    }
   ],
   "source": [
    "mut = e.get_somatic_mutation()\n",
    "pten = mut.loc[mut['Gene'] == 'PTEN']\n",
    "df = pten.reset_index()\n",
    "df1 = df.rename(columns={'Patient_ID': 'Sample_ID','Gene':'Hugo_Symbol',\n",
    "                         'Mutation': 'Mutation_Type','Location':'Protein_Change'})\n",
    "df2 = df1.loc[df1['Mutation_Type'] != 'Missense_Mutation']\n",
    "df3 = df2.loc[df1['Mutation_Type'] != 'Splice_Site']\n",
    "df3.Mutation_Type.value_counts()"
   ]
  },
  {
   "cell_type": "code",
   "execution_count": 21,
   "metadata": {},
   "outputs": [],
   "source": [
    "df3.to_csv('lollipop_endo.csv')"
   ]
  },
  {
   "cell_type": "code",
   "execution_count": 23,
   "metadata": {},
   "outputs": [],
   "source": [
    "df = df3.loc[df1['Mutation_Type'] == 'Frame_Shift_Del']"
   ]
  },
  {
   "cell_type": "code",
   "execution_count": 25,
   "metadata": {},
   "outputs": [
    {
     "data": {
      "text/plain": [
       "p.K267Rfs*9     3\n",
       "p.T319*         3\n",
       "p.G293Efs*14    2\n",
       "p.R47Efs*4      1\n",
       "p.N329Kfs*14    1\n",
       "p.Y88Sfs*3      1\n",
       "p.T321Kfs*22    1\n",
       "p.N12Tfs*12     1\n",
       "p.C296*         1\n",
       "p.N323Mfs*21    1\n",
       "p.D51*          1\n",
       "p.N262Qfs*35    1\n",
       "p.F258Sfs*8     1\n",
       "p.I300Mfs*7     1\n",
       "p.N323Kfs*12    1\n",
       "p.I253Qfs*44    1\n",
       "p.V290*         1\n",
       "p.L140Qfs*36    1\n",
       "p.K267Rfs*30    1\n",
       "p.G44Qfs*3      1\n",
       "p.P30Yfs*11     1\n",
       "Name: Protein_Change, dtype: int64"
      ]
     },
     "execution_count": 25,
     "metadata": {},
     "output_type": "execute_result"
    }
   ],
   "source": [
    "df.Protein_Change.value_counts()"
   ]
  },
  {
   "cell_type": "code",
   "execution_count": null,
   "metadata": {},
   "outputs": [],
   "source": []
  }
 ],
 "metadata": {
  "kernelspec": {
   "display_name": "Python 3",
   "language": "python",
   "name": "python3"
  },
  "language_info": {
   "codemirror_mode": {
    "name": "ipython",
    "version": 3
   },
   "file_extension": ".py",
   "mimetype": "text/x-python",
   "name": "python",
   "nbconvert_exporter": "python",
   "pygments_lexer": "ipython3",
   "version": "3.7.3"
  }
 },
 "nbformat": 4,
 "nbformat_minor": 2
}
