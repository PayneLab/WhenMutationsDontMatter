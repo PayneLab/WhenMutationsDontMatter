{
 "cells": [
  {
   "cell_type": "markdown",
   "metadata": {},
   "source": [
    "# trans effect of truncations in domains of PTEN in Endometrial for MCM3"
   ]
  },
  {
   "cell_type": "markdown",
   "metadata": {},
   "source": [
    "This notebook creates a boxplot for the trans effect of PTEN truncations in the phosphatase domain and the C2 domain in Endometrial."
   ]
  },
  {
   "cell_type": "markdown",
   "metadata": {},
   "source": [
    "Imports"
   ]
  },
  {
   "cell_type": "code",
   "execution_count": 1,
   "metadata": {},
   "outputs": [],
   "source": [
    "import pandas as pd\n",
    "import numpy as np\n",
    "import seaborn as sns\n",
    "import matplotlib.pyplot as plt\n",
    "import scipy.stats\n",
    "import gseapy as gp\n",
    "import re\n",
    "import sys \n",
    "\n",
    "import cptac\n",
    "import cptac.utils as u\n",
    "\n",
    "import plot_utils as p"
   ]
  },
  {
   "cell_type": "code",
   "execution_count": 2,
   "metadata": {},
   "outputs": [],
   "source": [
    "# Step 1 - Create proteomics and truncations dataframe\n",
    "\n",
    "def get_trunc_df(trans_gene, include_wt = False, gene='PTEN'):\n",
    "    prot_and_mutations = en.join_omics_to_mutations(\n",
    "        mutations_genes = [gene], omics_df_name = 'proteomics', omics_genes = trans_gene, \n",
    "        mutations_filter = ['Nonsense_Mutation','Frame_Shift_Del','Frame_Shift_Ins']) \n",
    "    if include_wt == False:\n",
    "        keep = ['Nonsense_Mutation','Frame_Shift_Del','Frame_Shift_Ins']\n",
    "        in_keep = prot_and_mutations['PTEN_Mutation'].isin(keep)\n",
    "        trunc_mutations = prot_and_mutations[in_keep]\n",
    "    else:\n",
    "        keep = ['Nonsense_Mutation','Frame_Shift_Del','Frame_Shift_Ins','Wildtype_Tumor']\n",
    "        in_keep = prot_and_mutations['PTEN_Mutation'].isin(keep)\n",
    "        trunc_mutations = prot_and_mutations[in_keep]\n",
    "    print(trunc_mutations['PTEN_Mutation'].value_counts())\n",
    "\n",
    "    # Step 2 - Create binary column \n",
    "    trunc_mutations['Mutation'] = np.where(\n",
    "                trunc_mutations[gene+'_Mutation_Status'] == 'Wildtype_Tumor', 'Wildtype_Tumor', 'Truncation')\n",
    "\n",
    "    # Step 3 - Format the dataframe correctly for the t-test(just omics and binary columns for tumors)\n",
    "    tumors = trunc_mutations[trunc_mutations.Sample_Status == 'Tumor'] #drop Normal samples\n",
    "    columns_to_drop = [gene+\"_Mutation\", gene+\"_Mutation_Status\", \"Sample_Status\"]\n",
    "    e_trunc_wt = tumors.drop(columns_to_drop, axis = 1)\n",
    "    return e_trunc_wt"
   ]
  },
  {
   "cell_type": "code",
   "execution_count": 3,
   "metadata": {},
   "outputs": [],
   "source": [
    "def format_pval_annotation(pval_symbol, x1, x2, line_start = .05, line_height=.05):\n",
    "    # for manual adjustment to pval annotations\n",
    "    \n",
    "    y, h = line_start, line_height\n",
    "    plt.plot([x1, x1, x2, x2], #draw horizontal line\n",
    "             [y, y+h, y+h, y], #vertical line\n",
    "             lw=1.5, color= '.3')\n",
    "    plt.text((x1+x2)*.5, # half between x coord\n",
    "             y+h, pval_symbol, horizontalalignment='center', verticalalignment='bottom', color = \"black\")\n"
   ]
  },
  {
   "cell_type": "markdown",
   "metadata": {},
   "source": [
    "# Step 1: Create the dfs with PTEN truncations mutation in different domains "
   ]
  },
  {
   "cell_type": "markdown",
   "metadata": {},
   "source": [
    "First, load in cancer data sets from cptac."
   ]
  },
  {
   "cell_type": "code",
   "execution_count": 4,
   "metadata": {},
   "outputs": [
    {
     "name": "stdout",
     "output_type": "stream",
     "text": [
      "                                                \r"
     ]
    }
   ],
   "source": [
    "en = cptac.Endometrial()"
   ]
  },
  {
   "cell_type": "markdown",
   "metadata": {},
   "source": [
    "# Create the df for the Phosphatase Domain"
   ]
  },
  {
   "cell_type": "code",
   "execution_count": 5,
   "metadata": {},
   "outputs": [
    {
     "name": "stdout",
     "output_type": "stream",
     "text": [
      "Nonsense_Mutation    25\n",
      "Frame_Shift_Del      22\n",
      "Frame_Shift_Ins       6\n",
      "Name: PTEN_Mutation, dtype: int64\n"
     ]
    },
    {
     "name": "stderr",
     "output_type": "stream",
     "text": [
      "cptac warning: In joining the somatic_mutation table, no mutations were found for the following samples, so they were filled with Wildtype_Tumor or Wildtype_Normal: 69 samples for the PTEN gene (C:\\Users\\brittany henderson\\Anaconda3\\envs\\Research\\lib\\site-packages\\ipykernel_launcher.py, line 6)\n",
      "C:\\Users\\brittany henderson\\Anaconda3\\envs\\Research\\lib\\site-packages\\ipykernel_launcher.py:19: SettingWithCopyWarning: \n",
      "A value is trying to be set on a copy of a slice from a DataFrame.\n",
      "Try using .loc[row_indexer,col_indexer] = value instead\n",
      "\n",
      "See the caveats in the documentation: https://pandas.pydata.org/pandas-docs/stable/user_guide/indexing.html#returning-a-view-versus-a-copy\n"
     ]
    }
   ],
   "source": [
    "t_gene = 'MCM3'\n",
    "t = get_trunc_df(t_gene) "
   ]
  },
  {
   "cell_type": "markdown",
   "metadata": {},
   "source": [
    "Create a df with only mutations located in the phosphatase domain. (Both domains effected by the mutation)."
   ]
  },
  {
   "cell_type": "code",
   "execution_count": 6,
   "metadata": {},
   "outputs": [
    {
     "data": {
      "text/html": [
       "<div>\n",
       "<style scoped>\n",
       "    .dataframe tbody tr th:only-of-type {\n",
       "        vertical-align: middle;\n",
       "    }\n",
       "\n",
       "    .dataframe tbody tr th {\n",
       "        vertical-align: top;\n",
       "    }\n",
       "\n",
       "    .dataframe thead th {\n",
       "        text-align: right;\n",
       "    }\n",
       "</style>\n",
       "<table border=\"1\" class=\"dataframe\">\n",
       "  <thead>\n",
       "    <tr style=\"text-align: right;\">\n",
       "      <th>Name</th>\n",
       "      <th>MCM3_proteomics</th>\n",
       "      <th>PTEN_Location</th>\n",
       "      <th>Mutation</th>\n",
       "      <th>aa</th>\n",
       "    </tr>\n",
       "    <tr>\n",
       "      <th>Patient_ID</th>\n",
       "      <th></th>\n",
       "      <th></th>\n",
       "      <th></th>\n",
       "      <th></th>\n",
       "    </tr>\n",
       "  </thead>\n",
       "  <tbody>\n",
       "    <tr>\n",
       "      <th>C3L-00032</th>\n",
       "      <td>-0.301</td>\n",
       "      <td>p.W111*</td>\n",
       "      <td>Truncation</td>\n",
       "      <td>111</td>\n",
       "    </tr>\n",
       "    <tr>\n",
       "      <th>C3L-00137</th>\n",
       "      <td>1.140</td>\n",
       "      <td>p.Y180*</td>\n",
       "      <td>Truncation</td>\n",
       "      <td>180</td>\n",
       "    </tr>\n",
       "    <tr>\n",
       "      <th>C3L-00156</th>\n",
       "      <td>-0.130</td>\n",
       "      <td>p.E7*</td>\n",
       "      <td>Truncation</td>\n",
       "      <td>7</td>\n",
       "    </tr>\n",
       "    <tr>\n",
       "      <th>C3L-00586</th>\n",
       "      <td>0.805</td>\n",
       "      <td>p.E7*</td>\n",
       "      <td>Truncation</td>\n",
       "      <td>7</td>\n",
       "    </tr>\n",
       "    <tr>\n",
       "      <th>C3L-00601</th>\n",
       "      <td>1.700</td>\n",
       "      <td>p.E7*</td>\n",
       "      <td>Truncation</td>\n",
       "      <td>7</td>\n",
       "    </tr>\n",
       "  </tbody>\n",
       "</table>\n",
       "</div>"
      ],
      "text/plain": [
       "Name        MCM3_proteomics PTEN_Location    Mutation   aa\n",
       "Patient_ID                                                \n",
       "C3L-00032            -0.301       p.W111*  Truncation  111\n",
       "C3L-00137             1.140       p.Y180*  Truncation  180\n",
       "C3L-00156            -0.130         p.E7*  Truncation    7\n",
       "C3L-00586             0.805         p.E7*  Truncation    7\n",
       "C3L-00601             1.700         p.E7*  Truncation    7"
      ]
     },
     "execution_count": 6,
     "metadata": {},
     "output_type": "execute_result"
    }
   ],
   "source": [
    "# create new column with starting amino acid (aa) as an int\n",
    "t['aa'] = t.apply(lambda x: (x['PTEN_Location']), axis=1)\n",
    "df1 = t.replace({'aa': r'^p.[A-Z]*'}, {'aa': ''}, regex=True)\n",
    "df2 = df1.replace({'aa': r'\\*$'}, {'aa': ''}, regex=True)\n",
    "df2 = df2.replace({'aa': r'[A-Z]fs\\*\\d*$'}, {'aa': ''}, regex=True)\n",
    "df2['aa'] = pd.to_numeric(df2[\"aa\"])\n",
    "\n",
    "# Keep only mutations in the domain (cutoff aa = 185)\n",
    "phosphatase = df2.loc[df2['aa'] <= 185]\n",
    "phosphatase.head()"
   ]
  },
  {
   "cell_type": "markdown",
   "metadata": {},
   "source": [
    "# Create the df for the C2 domain (binds PIP3)"
   ]
  },
  {
   "cell_type": "code",
   "execution_count": 7,
   "metadata": {},
   "outputs": [
    {
     "name": "stdout",
     "output_type": "stream",
     "text": [
      "Nonsense_Mutation    25\n",
      "Frame_Shift_Del      22\n",
      "Frame_Shift_Ins       6\n",
      "Name: PTEN_Mutation, dtype: int64\n"
     ]
    },
    {
     "name": "stderr",
     "output_type": "stream",
     "text": [
      "cptac warning: In joining the somatic_mutation table, no mutations were found for the following samples, so they were filled with Wildtype_Tumor or Wildtype_Normal: 69 samples for the PTEN gene (C:\\Users\\brittany henderson\\Anaconda3\\envs\\Research\\lib\\site-packages\\ipykernel_launcher.py, line 6)\n",
      "C:\\Users\\brittany henderson\\Anaconda3\\envs\\Research\\lib\\site-packages\\ipykernel_launcher.py:19: SettingWithCopyWarning: \n",
      "A value is trying to be set on a copy of a slice from a DataFrame.\n",
      "Try using .loc[row_indexer,col_indexer] = value instead\n",
      "\n",
      "See the caveats in the documentation: https://pandas.pydata.org/pandas-docs/stable/user_guide/indexing.html#returning-a-view-versus-a-copy\n"
     ]
    }
   ],
   "source": [
    "t2 = get_trunc_df(t_gene) "
   ]
  },
  {
   "cell_type": "code",
   "execution_count": 8,
   "metadata": {},
   "outputs": [
    {
     "data": {
      "text/html": [
       "<div>\n",
       "<style scoped>\n",
       "    .dataframe tbody tr th:only-of-type {\n",
       "        vertical-align: middle;\n",
       "    }\n",
       "\n",
       "    .dataframe tbody tr th {\n",
       "        vertical-align: top;\n",
       "    }\n",
       "\n",
       "    .dataframe thead th {\n",
       "        text-align: right;\n",
       "    }\n",
       "</style>\n",
       "<table border=\"1\" class=\"dataframe\">\n",
       "  <thead>\n",
       "    <tr style=\"text-align: right;\">\n",
       "      <th>Name</th>\n",
       "      <th>MCM3_proteomics</th>\n",
       "      <th>PTEN_Location</th>\n",
       "      <th>Mutation</th>\n",
       "      <th>aa</th>\n",
       "    </tr>\n",
       "    <tr>\n",
       "      <th>Patient_ID</th>\n",
       "      <th></th>\n",
       "      <th></th>\n",
       "      <th></th>\n",
       "      <th></th>\n",
       "    </tr>\n",
       "  </thead>\n",
       "  <tbody>\n",
       "    <tr>\n",
       "      <th>C3L-00006</th>\n",
       "      <td>0.659</td>\n",
       "      <td>p.R233*</td>\n",
       "      <td>Truncation</td>\n",
       "      <td>233</td>\n",
       "    </tr>\n",
       "    <tr>\n",
       "      <th>C3L-00145</th>\n",
       "      <td>0.120</td>\n",
       "      <td>p.E242*</td>\n",
       "      <td>Truncation</td>\n",
       "      <td>242</td>\n",
       "    </tr>\n",
       "    <tr>\n",
       "      <th>C3L-00161</th>\n",
       "      <td>0.693</td>\n",
       "      <td>p.K267Rfs*9</td>\n",
       "      <td>Truncation</td>\n",
       "      <td>267</td>\n",
       "    </tr>\n",
       "    <tr>\n",
       "      <th>C3L-00413</th>\n",
       "      <td>0.201</td>\n",
       "      <td>p.N262Qfs*35</td>\n",
       "      <td>Truncation</td>\n",
       "      <td>262</td>\n",
       "    </tr>\n",
       "    <tr>\n",
       "      <th>C3L-00563</th>\n",
       "      <td>-0.320</td>\n",
       "      <td>p.Q214*</td>\n",
       "      <td>Truncation</td>\n",
       "      <td>214</td>\n",
       "    </tr>\n",
       "  </tbody>\n",
       "</table>\n",
       "</div>"
      ],
      "text/plain": [
       "Name        MCM3_proteomics PTEN_Location    Mutation   aa\n",
       "Patient_ID                                                \n",
       "C3L-00006             0.659       p.R233*  Truncation  233\n",
       "C3L-00145             0.120       p.E242*  Truncation  242\n",
       "C3L-00161             0.693   p.K267Rfs*9  Truncation  267\n",
       "C3L-00413             0.201  p.N262Qfs*35  Truncation  262\n",
       "C3L-00563            -0.320       p.Q214*  Truncation  214"
      ]
     },
     "execution_count": 8,
     "metadata": {},
     "output_type": "execute_result"
    }
   ],
   "source": [
    "# create new column with starting amino acid (aa) as an int\n",
    "t2['aa'] = t2.apply(lambda x: (x['PTEN_Location']), axis=1)\n",
    "df1 = t2.replace({'aa': r'^p.[A-Z]*'}, {'aa': ''}, regex=True)\n",
    "df2 = df1.replace({'aa': r'\\*$'}, {'aa': ''}, regex=True)\n",
    "df2 = df2.replace({'aa': r'[A-Z]fs\\*\\d*$'}, {'aa': ''}, regex=True)\n",
    "df2['aa'] = pd.to_numeric(df2[\"aa\"])\n",
    "\n",
    "# Keep only mutations in the domain (cutoff aa = 190)\n",
    "c2 = df2.loc[df2['aa'] >= 190]\n",
    "c2.head()"
   ]
  },
  {
   "cell_type": "markdown",
   "metadata": {},
   "source": [
    "# Get Wildtype_Tumor df"
   ]
  },
  {
   "cell_type": "code",
   "execution_count": 9,
   "metadata": {},
   "outputs": [
    {
     "name": "stdout",
     "output_type": "stream",
     "text": [
      "Nonsense_Mutation    25\n",
      "Frame_Shift_Del      22\n",
      "Wildtype_Tumor       20\n",
      "Frame_Shift_Ins       6\n",
      "Name: PTEN_Mutation, dtype: int64"
     ]
    },
    {
     "name": "stderr",
     "output_type": "stream",
     "text": [
      "cptac warning: In joining the somatic_mutation table, no mutations were found for the following samples, so they were filled with Wildtype_Tumor or Wildtype_Normal: 69 samples for the PTEN gene (C:\\Users\\brittany henderson\\Anaconda3\\envs\\Research\\lib\\site-packages\\ipykernel_launcher.py, line 6)\n"
     ]
    },
    {
     "name": "stdout",
     "output_type": "stream",
     "text": [
      "\n"
     ]
    },
    {
     "name": "stderr",
     "output_type": "stream",
     "text": [
      "C:\\Users\\brittany henderson\\Anaconda3\\envs\\Research\\lib\\site-packages\\ipykernel_launcher.py:19: SettingWithCopyWarning: \n",
      "A value is trying to be set on a copy of a slice from a DataFrame.\n",
      "Try using .loc[row_indexer,col_indexer] = value instead\n",
      "\n",
      "See the caveats in the documentation: https://pandas.pydata.org/pandas-docs/stable/user_guide/indexing.html#returning-a-view-versus-a-copy\n"
     ]
    }
   ],
   "source": [
    "t3 = get_trunc_df(t_gene, include_wt=True) "
   ]
  },
  {
   "cell_type": "code",
   "execution_count": 10,
   "metadata": {},
   "outputs": [],
   "source": [
    "wt = t3.loc[t3['Mutation'] == 'Wildtype_Tumor']"
   ]
  },
  {
   "cell_type": "markdown",
   "metadata": {},
   "source": [
    "# Append dfs"
   ]
  },
  {
   "cell_type": "code",
   "execution_count": 11,
   "metadata": {},
   "outputs": [
    {
     "data": {
      "text/html": [
       "<div>\n",
       "<style scoped>\n",
       "    .dataframe tbody tr th:only-of-type {\n",
       "        vertical-align: middle;\n",
       "    }\n",
       "\n",
       "    .dataframe tbody tr th {\n",
       "        vertical-align: top;\n",
       "    }\n",
       "\n",
       "    .dataframe thead th {\n",
       "        text-align: right;\n",
       "    }\n",
       "</style>\n",
       "<table border=\"1\" class=\"dataframe\">\n",
       "  <thead>\n",
       "    <tr style=\"text-align: right;\">\n",
       "      <th></th>\n",
       "      <th>MCM3_proteomics</th>\n",
       "      <th>PTEN_Location</th>\n",
       "      <th>Mutation</th>\n",
       "      <th>aa</th>\n",
       "      <th>Domain</th>\n",
       "    </tr>\n",
       "    <tr>\n",
       "      <th>Patient_ID</th>\n",
       "      <th></th>\n",
       "      <th></th>\n",
       "      <th></th>\n",
       "      <th></th>\n",
       "      <th></th>\n",
       "    </tr>\n",
       "  </thead>\n",
       "  <tbody>\n",
       "    <tr>\n",
       "      <th>C3L-00032</th>\n",
       "      <td>-0.301</td>\n",
       "      <td>p.W111*</td>\n",
       "      <td>Truncation</td>\n",
       "      <td>111.0</td>\n",
       "      <td>Phosphatase_Truncation</td>\n",
       "    </tr>\n",
       "    <tr>\n",
       "      <th>C3L-00137</th>\n",
       "      <td>1.140</td>\n",
       "      <td>p.Y180*</td>\n",
       "      <td>Truncation</td>\n",
       "      <td>180.0</td>\n",
       "      <td>Phosphatase_Truncation</td>\n",
       "    </tr>\n",
       "    <tr>\n",
       "      <th>C3L-00156</th>\n",
       "      <td>-0.130</td>\n",
       "      <td>p.E7*</td>\n",
       "      <td>Truncation</td>\n",
       "      <td>7.0</td>\n",
       "      <td>Phosphatase_Truncation</td>\n",
       "    </tr>\n",
       "    <tr>\n",
       "      <th>C3L-00586</th>\n",
       "      <td>0.805</td>\n",
       "      <td>p.E7*</td>\n",
       "      <td>Truncation</td>\n",
       "      <td>7.0</td>\n",
       "      <td>Phosphatase_Truncation</td>\n",
       "    </tr>\n",
       "    <tr>\n",
       "      <th>C3L-00601</th>\n",
       "      <td>1.700</td>\n",
       "      <td>p.E7*</td>\n",
       "      <td>Truncation</td>\n",
       "      <td>7.0</td>\n",
       "      <td>Phosphatase_Truncation</td>\n",
       "    </tr>\n",
       "  </tbody>\n",
       "</table>\n",
       "</div>"
      ],
      "text/plain": [
       "            MCM3_proteomics PTEN_Location    Mutation     aa  \\\n",
       "Patient_ID                                                     \n",
       "C3L-00032            -0.301       p.W111*  Truncation  111.0   \n",
       "C3L-00137             1.140       p.Y180*  Truncation  180.0   \n",
       "C3L-00156            -0.130         p.E7*  Truncation    7.0   \n",
       "C3L-00586             0.805         p.E7*  Truncation    7.0   \n",
       "C3L-00601             1.700         p.E7*  Truncation    7.0   \n",
       "\n",
       "                            Domain  \n",
       "Patient_ID                          \n",
       "C3L-00032   Phosphatase_Truncation  \n",
       "C3L-00137   Phosphatase_Truncation  \n",
       "C3L-00156   Phosphatase_Truncation  \n",
       "C3L-00586   Phosphatase_Truncation  \n",
       "C3L-00601   Phosphatase_Truncation  "
      ]
     },
     "execution_count": 11,
     "metadata": {},
     "output_type": "execute_result"
    }
   ],
   "source": [
    "# Create Domain column\n",
    "c2_df = c2.assign(Domain='C2_Truncation')\n",
    "ph_df = phosphatase.assign(Domain='Phosphatase_Truncation')\n",
    "wt_df = wt.assign(Domain='Wildtype_Tumor')\n",
    "\n",
    "all_df = ph_df.append(c2_df)\n",
    "all_df = all_df.append(wt_df)\n",
    "all_df.head()\n"
   ]
  },
  {
   "cell_type": "markdown",
   "metadata": {},
   "source": [
    "# Step 2: T-test "
   ]
  },
  {
   "cell_type": "code",
   "execution_count": 12,
   "metadata": {},
   "outputs": [
    {
     "name": "stdout",
     "output_type": "stream",
     "text": [
      "['Phosphatase_Truncation' 'Wildtype_Tumor']\n"
     ]
    },
    {
     "data": {
      "text/html": [
       "<div>\n",
       "<style scoped>\n",
       "    .dataframe tbody tr th:only-of-type {\n",
       "        vertical-align: middle;\n",
       "    }\n",
       "\n",
       "    .dataframe tbody tr th {\n",
       "        vertical-align: top;\n",
       "    }\n",
       "\n",
       "    .dataframe thead th {\n",
       "        text-align: right;\n",
       "    }\n",
       "</style>\n",
       "<table border=\"1\" class=\"dataframe\">\n",
       "  <thead>\n",
       "    <tr style=\"text-align: right;\">\n",
       "      <th></th>\n",
       "      <th>Comparison</th>\n",
       "      <th>P_Value</th>\n",
       "    </tr>\n",
       "  </thead>\n",
       "  <tbody>\n",
       "    <tr>\n",
       "      <th>0</th>\n",
       "      <td>MCM3_proteomics</td>\n",
       "      <td>0.112138</td>\n",
       "    </tr>\n",
       "  </tbody>\n",
       "</table>\n",
       "</div>"
      ],
      "text/plain": [
       "        Comparison   P_Value\n",
       "0  MCM3_proteomics  0.112138"
      ]
     },
     "execution_count": 12,
     "metadata": {},
     "output_type": "execute_result"
    }
   ],
   "source": [
    "# T-test for phosphatase vs wt\n",
    "phosphatase_wt = all_df.loc[all_df['Domain'] != 'C2_Truncation']\n",
    "print(phosphatase_wt.Domain.unique())\n",
    "\n",
    "cols = [t_gene+'_proteomics']\n",
    "trunc_in_phos_pval = u.wrap_ttest(phosphatase_wt, 'Mutation', cols, return_all = True)\n",
    "trunc_in_phos_pval"
   ]
  },
  {
   "cell_type": "code",
   "execution_count": 13,
   "metadata": {},
   "outputs": [
    {
     "name": "stdout",
     "output_type": "stream",
     "text": [
      "['C2_Truncation' 'Wildtype_Tumor']\n"
     ]
    },
    {
     "data": {
      "text/html": [
       "<div>\n",
       "<style scoped>\n",
       "    .dataframe tbody tr th:only-of-type {\n",
       "        vertical-align: middle;\n",
       "    }\n",
       "\n",
       "    .dataframe tbody tr th {\n",
       "        vertical-align: top;\n",
       "    }\n",
       "\n",
       "    .dataframe thead th {\n",
       "        text-align: right;\n",
       "    }\n",
       "</style>\n",
       "<table border=\"1\" class=\"dataframe\">\n",
       "  <thead>\n",
       "    <tr style=\"text-align: right;\">\n",
       "      <th></th>\n",
       "      <th>Comparison</th>\n",
       "      <th>P_Value</th>\n",
       "    </tr>\n",
       "  </thead>\n",
       "  <tbody>\n",
       "    <tr>\n",
       "      <th>0</th>\n",
       "      <td>MCM3_proteomics</td>\n",
       "      <td>0.000439</td>\n",
       "    </tr>\n",
       "  </tbody>\n",
       "</table>\n",
       "</div>"
      ],
      "text/plain": [
       "        Comparison   P_Value\n",
       "0  MCM3_proteomics  0.000439"
      ]
     },
     "execution_count": 13,
     "metadata": {},
     "output_type": "execute_result"
    }
   ],
   "source": [
    "# T-test for C2 vs wt\n",
    "c2_wt = all_df.loc[all_df['Domain'] != 'Phosphatase_Truncation']\n",
    "print(c2_wt.Domain.unique())\n",
    "\n",
    "cols = [t_gene+'_proteomics']\n",
    "trunc_in_phos_pval = u.wrap_ttest(c2_wt, 'Mutation', cols, return_all = True)\n",
    "trunc_in_phos_pval"
   ]
  },
  {
   "cell_type": "markdown",
   "metadata": {},
   "source": [
    "# Plot"
   ]
  },
  {
   "cell_type": "code",
   "execution_count": 14,
   "metadata": {},
   "outputs": [
    {
     "data": {
      "image/png": "[encoded data removed]",
      "text/plain": [
       "<Figure size 842.4x612 with 1 Axes>"
      ]
     },
     "metadata": {},
     "output_type": "display_data"
    }
   ],
   "source": [
    "plt.rcParams['figure.figsize']=(11.7,8.5) #size of plot\n",
    "sns.set(font_scale = 1.2)\n",
    "\n",
    "\n",
    "\n",
    "boxplot = sns.boxplot(x='Domain', y=t_gene+\"_proteomics\", data = all_df, \n",
    "                      order = ['Wildtype_Tumor','Phosphatase_Truncation','C2_Truncation'], \n",
    "                      showfliers = False)    \n",
    "boxplot.set_title('trans effect of PTEN Truncations in Both Domains on '+t_gene)\n",
    "boxplot = sns.stripplot(x='Domain', y=t_gene+\"_proteomics\", data = all_df, \n",
    "                        order = ['Wildtype_Tumor','Phosphatase_Truncation','C2_Truncation'],\n",
    "                        jitter = True, color = \".3\", dodge = True)\n",
    "boxplot.set(xlabel = \"\\nPTEN Wildtype/Truncations in Both Domains\", ylabel = t_gene+' Proteomics')\n",
    "\n",
    "# format legend\n",
    "handles, labels = boxplot.get_legend_handles_labels()\n",
    "plt.legend(handles[0:3], labels[0:3])\n",
    "\n",
    "# Create significance symbols:\n",
    "# * P ≤ 0.05   ** P ≤ 0.01   *** P ≤ 0.001 \n",
    "#format_pval_annotation('***', 0, 1, 1.6)\n",
    "\n",
    "\n",
    "plt.show()\n",
    "plt.clf()\n",
    "plt.close()"
   ]
  },
  {
   "cell_type": "code",
   "execution_count": null,
   "metadata": {},
   "outputs": [],
   "source": []
  }
 ],
 "metadata": {
  "kernelspec": {
   "display_name": "Python 3",
   "language": "python",
   "name": "python3"
  },
  "language_info": {
   "codemirror_mode": {
    "name": "ipython",
    "version": 3
   },
   "file_extension": ".py",
   "mimetype": "text/x-python",
   "name": "python",
   "nbconvert_exporter": "python",
   "pygments_lexer": "ipython3",
   "version": "3.7.3"
  }
 },
 "nbformat": 4,
 "nbformat_minor": 2
}
