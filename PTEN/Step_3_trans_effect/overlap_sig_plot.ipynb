{
 "cells": [
  {
   "cell_type": "code",
   "execution_count": 75,
   "metadata": {},
   "outputs": [],
   "source": [
    "import pandas as pd\n",
    "import numpy as np\n",
    "import seaborn as sns\n",
    "import matplotlib.pyplot as plt\n",
    "import scipy.stats\n",
    "import gseapy as gp\n",
    "import re\n",
    "import sys \n",
    "\n",
    "import cptac\n",
    "import cptac.utils as u\n",
    "\n",
    "import plot_utils as p\n",
    "root = R'~\\Github\\WhenMutationsDontMatter\\PTEN\\Step_3_trans_effect\\csv'"
   ]
  },
  {
   "cell_type": "code",
   "execution_count": 77,
   "metadata": {},
   "outputs": [],
   "source": [
    "all_df = pd.read_csv(root+R'\\all_heatmap.csv')\n",
    "#all_df = pd.read_csv(root+R'\\sig_pval_heatmap.csv')"
   ]
  },
  {
   "cell_type": "code",
   "execution_count": 78,
   "metadata": {},
   "outputs": [],
   "source": [
    "sig_only = all_df.loc[all_df['P_Value'] < 0.05]\n",
    "vc = sig_only.Cancer.value_counts()\n",
    "df = vc.to_frame()\n",
    "df = df.reset_index()\n",
    "df = df.rename(columns = {'index': 'Cancer','Cancer':'Sig_One'})"
   ]
  },
  {
   "cell_type": "markdown",
   "metadata": {},
   "source": [
    "# Get a list of significant genes in at least one cancer"
   ]
  },
  {
   "cell_type": "code",
   "execution_count": 82,
   "metadata": {},
   "outputs": [
    {
     "name": "stdout",
     "output_type": "stream",
     "text": [
      "Gbm 1900 \n",
      "\n",
      "Hnscc 570 \n",
      "\n",
      "En 415 \n",
      "\n",
      "Luad 111 \n",
      "\n",
      "Lscc 3 \n",
      "\n",
      "Ov 1 \n",
      "\n",
      "No sig for Brca and Colon\n"
     ]
    }
   ],
   "source": [
    "# Uses corrected pvals from wrap_ttest, each cancer's cutoff is 0.05\n",
    "sig_one_cancer = {}\n",
    "for cancer in df.Cancer:\n",
    "    c_df = sig_only.loc[sig_only['Cancer'] == cancer]\n",
    "    c_prot_list = list(c_df.Proteomics)\n",
    "    sig_one_cancer[cancer] = c_prot_list \n",
    "    print(cancer, len(c_prot_list), '\\n')\n",
    "print('No sig for Brca and Colon')  "
   ]
  },
  {
   "cell_type": "code",
   "execution_count": 118,
   "metadata": {},
   "outputs": [
    {
     "data": {
      "text/html": [
       "<div>\n",
       "<style scoped>\n",
       "    .dataframe tbody tr th:only-of-type {\n",
       "        vertical-align: middle;\n",
       "    }\n",
       "\n",
       "    .dataframe tbody tr th {\n",
       "        vertical-align: top;\n",
       "    }\n",
       "\n",
       "    .dataframe thead th {\n",
       "        text-align: right;\n",
       "    }\n",
       "</style>\n",
       "<table border=\"1\" class=\"dataframe\">\n",
       "  <thead>\n",
       "    <tr style=\"text-align: right;\">\n",
       "      <th></th>\n",
       "      <th>0</th>\n",
       "    </tr>\n",
       "  </thead>\n",
       "  <tbody>\n",
       "    <tr>\n",
       "      <th>Gbm_Hnscc</th>\n",
       "      <td>164</td>\n",
       "    </tr>\n",
       "    <tr>\n",
       "      <th>Gbm_Luad</th>\n",
       "      <td>38</td>\n",
       "    </tr>\n",
       "    <tr>\n",
       "      <th>Gbm_Lscc</th>\n",
       "      <td>2</td>\n",
       "    </tr>\n",
       "    <tr>\n",
       "      <th>Gbm_Ov</th>\n",
       "      <td>1</td>\n",
       "    </tr>\n",
       "    <tr>\n",
       "      <th>Gbm_En</th>\n",
       "      <td>111</td>\n",
       "    </tr>\n",
       "    <tr>\n",
       "      <th>Hnscc_Luad</th>\n",
       "      <td>38</td>\n",
       "    </tr>\n",
       "    <tr>\n",
       "      <th>Hnscc_Lscc</th>\n",
       "      <td>1</td>\n",
       "    </tr>\n",
       "    <tr>\n",
       "      <th>Hnscc_Ov</th>\n",
       "      <td>0</td>\n",
       "    </tr>\n",
       "    <tr>\n",
       "      <th>Hnscc_En</th>\n",
       "      <td>50</td>\n",
       "    </tr>\n",
       "    <tr>\n",
       "      <th>En_Luad</th>\n",
       "      <td>1</td>\n",
       "    </tr>\n",
       "    <tr>\n",
       "      <th>En_Lscc</th>\n",
       "      <td>0</td>\n",
       "    </tr>\n",
       "    <tr>\n",
       "      <th>En_Ov</th>\n",
       "      <td>0</td>\n",
       "    </tr>\n",
       "    <tr>\n",
       "      <th>Luad_Lscc</th>\n",
       "      <td>1</td>\n",
       "    </tr>\n",
       "    <tr>\n",
       "      <th>Luad_Ov</th>\n",
       "      <td>1</td>\n",
       "    </tr>\n",
       "    <tr>\n",
       "      <th>Lscc_Ov</th>\n",
       "      <td>0</td>\n",
       "    </tr>\n",
       "  </tbody>\n",
       "</table>\n",
       "</div>"
      ],
      "text/plain": [
       "              0\n",
       "Gbm_Hnscc   164\n",
       "Gbm_Luad     38\n",
       "Gbm_Lscc      2\n",
       "Gbm_Ov        1\n",
       "Gbm_En      111\n",
       "Hnscc_Luad   38\n",
       "Hnscc_Lscc    1\n",
       "Hnscc_Ov      0\n",
       "Hnscc_En     50\n",
       "En_Luad       1\n",
       "En_Lscc       0\n",
       "En_Ov         0\n",
       "Luad_Lscc     1\n",
       "Luad_Ov       1\n",
       "Lscc_Ov       0"
      ]
     },
     "execution_count": 118,
     "metadata": {},
     "output_type": "execute_result"
    }
   ],
   "source": [
    "# Get dictionary with lists of genes sig in two cancers\n",
    "two = {}\n",
    "two_len = {}\n",
    "cancer_list = ['Gbm', 'Hnscc', 'Luad', 'Lscc', 'Ov', 'En']\n",
    "for c1 in sig_one_cancer:\n",
    "    cancer_list.remove(c1)\n",
    "    for c2 in cancer_list:\n",
    "        #print(c1, c2, '\\n')\n",
    "        c1_genes = sig_one_cancer[c1]\n",
    "        c2_genes = sig_one_cancer[c2]\n",
    "        in_both = list(set(c1_genes) & set(c2_genes))\n",
    "        two[c1+'_'+c2] = in_both\n",
    "        two_len[c1+'_'+c2] = len(in_both)\n",
    "        #print(c1+'_'+c2, len(in_both))\n",
    "        \n",
    "two['Gbm_Ov']\n",
    "df_2 = pd.DataFrame.from_dict(two_len, orient = 'index')\n",
    "df_2"
   ]
  },
  {
   "cell_type": "code",
   "execution_count": 102,
   "metadata": {},
   "outputs": [
    {
     "data": {
      "text/html": [
       "<div>\n",
       "<style scoped>\n",
       "    .dataframe tbody tr th:only-of-type {\n",
       "        vertical-align: middle;\n",
       "    }\n",
       "\n",
       "    .dataframe tbody tr th {\n",
       "        vertical-align: top;\n",
       "    }\n",
       "\n",
       "    .dataframe thead th {\n",
       "        text-align: right;\n",
       "    }\n",
       "</style>\n",
       "<table border=\"1\" class=\"dataframe\">\n",
       "  <thead>\n",
       "    <tr style=\"text-align: right;\">\n",
       "      <th></th>\n",
       "      <th>Proteomics</th>\n",
       "      <th>P_Value</th>\n",
       "      <th>Medians</th>\n",
       "      <th>Cancer</th>\n",
       "    </tr>\n",
       "  </thead>\n",
       "  <tbody>\n",
       "    <tr>\n",
       "      <th>66</th>\n",
       "      <td>MMS19</td>\n",
       "      <td>0.000629</td>\n",
       "      <td>-0.324287</td>\n",
       "      <td>Gbm</td>\n",
       "    </tr>\n",
       "    <tr>\n",
       "      <th>12471</th>\n",
       "      <td>MMS19</td>\n",
       "      <td>0.145010</td>\n",
       "      <td>-0.123084</td>\n",
       "      <td>Hnscc</td>\n",
       "    </tr>\n",
       "    <tr>\n",
       "      <th>22365</th>\n",
       "      <td>MMS19</td>\n",
       "      <td>0.027361</td>\n",
       "      <td>-0.620000</td>\n",
       "      <td>Luad</td>\n",
       "    </tr>\n",
       "    <tr>\n",
       "      <th>33043</th>\n",
       "      <td>MMS19</td>\n",
       "      <td>0.366903</td>\n",
       "      <td>-0.356650</td>\n",
       "      <td>Lscc</td>\n",
       "    </tr>\n",
       "    <tr>\n",
       "      <th>45093</th>\n",
       "      <td>MMS19</td>\n",
       "      <td>0.403055</td>\n",
       "      <td>-0.653400</td>\n",
       "      <td>Brca</td>\n",
       "    </tr>\n",
       "    <tr>\n",
       "      <th>54708</th>\n",
       "      <td>MMS19</td>\n",
       "      <td>0.000110</td>\n",
       "      <td>-0.324897</td>\n",
       "      <td>Ov</td>\n",
       "    </tr>\n",
       "    <tr>\n",
       "      <th>69516</th>\n",
       "      <td>MMS19</td>\n",
       "      <td>0.519462</td>\n",
       "      <td>-0.084700</td>\n",
       "      <td>En</td>\n",
       "    </tr>\n",
       "    <tr>\n",
       "      <th>76038</th>\n",
       "      <td>MMS19</td>\n",
       "      <td>0.624087</td>\n",
       "      <td>-0.121800</td>\n",
       "      <td>Colon</td>\n",
       "    </tr>\n",
       "  </tbody>\n",
       "</table>\n",
       "</div>"
      ],
      "text/plain": [
       "      Proteomics   P_Value   Medians Cancer\n",
       "66         MMS19  0.000629 -0.324287    Gbm\n",
       "12471      MMS19  0.145010 -0.123084  Hnscc\n",
       "22365      MMS19  0.027361 -0.620000   Luad\n",
       "33043      MMS19  0.366903 -0.356650   Lscc\n",
       "45093      MMS19  0.403055 -0.653400   Brca\n",
       "54708      MMS19  0.000110 -0.324897     Ov\n",
       "69516      MMS19  0.519462 -0.084700     En\n",
       "76038      MMS19  0.624087 -0.121800  Colon"
      ]
     },
     "execution_count": 102,
     "metadata": {},
     "output_type": "execute_result"
    }
   ],
   "source": [
    "# Check\n",
    "all_df.loc[all_df['Proteomics'] == 'MMS19']"
   ]
  },
  {
   "cell_type": "code",
   "execution_count": 108,
   "metadata": {},
   "outputs": [
    {
     "name": "stdout",
     "output_type": "stream",
     "text": [
      "Gbm_Hnscc_Luad 14\n",
      "Gbm_Hnscc_Lscc 1\n",
      "Gbm_Hnscc_Ov 0\n",
      "Gbm_Hnscc_En 21\n",
      "Gbm_Luad_Lscc 0\n",
      "Gbm_Luad_Ov 1\n",
      "Gbm_Luad_En 1\n",
      "Gbm_Lscc_Ov 0\n",
      "Gbm_Lscc_En 0\n",
      "Gbm_Ov_En 0\n"
     ]
    },
    {
     "ename": "ValueError",
     "evalue": "list.remove(x): x not in list",
     "output_type": "error",
     "traceback": [
      "\u001b[1;31m---------------------------------------------------------------------------\u001b[0m",
      "\u001b[1;31mValueError\u001b[0m                                Traceback (most recent call last)",
      "\u001b[1;32m<ipython-input-108-0c6fa363bf03>\u001b[0m in \u001b[0;36m<module>\u001b[1;34m\u001b[0m\n\u001b[0;32m      6\u001b[0m     \u001b[0mc2_list\u001b[0m\u001b[1;33m.\u001b[0m\u001b[0mremove\u001b[0m\u001b[1;33m(\u001b[0m\u001b[0mc1\u001b[0m\u001b[1;33m)\u001b[0m\u001b[1;33m\u001b[0m\u001b[1;33m\u001b[0m\u001b[0m\n\u001b[0;32m      7\u001b[0m     \u001b[1;32mfor\u001b[0m \u001b[0mc2\u001b[0m \u001b[1;32min\u001b[0m \u001b[0mc2_list\u001b[0m\u001b[1;33m:\u001b[0m\u001b[1;33m\u001b[0m\u001b[1;33m\u001b[0m\u001b[0m\n\u001b[1;32m----> 8\u001b[1;33m         \u001b[0mc3_list\u001b[0m\u001b[1;33m.\u001b[0m\u001b[0mremove\u001b[0m\u001b[1;33m(\u001b[0m\u001b[0mc2\u001b[0m\u001b[1;33m)\u001b[0m\u001b[1;33m\u001b[0m\u001b[1;33m\u001b[0m\u001b[0m\n\u001b[0m\u001b[0;32m      9\u001b[0m         \u001b[1;32mfor\u001b[0m \u001b[0mc3\u001b[0m \u001b[1;32min\u001b[0m \u001b[0mc3_list\u001b[0m\u001b[1;33m:\u001b[0m\u001b[1;33m\u001b[0m\u001b[1;33m\u001b[0m\u001b[0m\n\u001b[0;32m     10\u001b[0m             \u001b[1;31m#print(c1, c2, '\\n')\u001b[0m\u001b[1;33m\u001b[0m\u001b[1;33m\u001b[0m\u001b[1;33m\u001b[0m\u001b[0m\n",
      "\u001b[1;31mValueError\u001b[0m: list.remove(x): x not in list"
     ]
    }
   ],
   "source": [
    "# Get dictionary with lists of genes sig in two cancers\n",
    "three = {}\n",
    "c2_list = ['Gbm', 'Hnscc', 'Luad', 'Lscc', 'Ov', 'En']\n",
    "c3_list = ['Hnscc', 'Luad', 'Lscc', 'Ov', 'En']\n",
    "for c1 in sig_one_cancer:\n",
    "    c2_list.remove(c1)\n",
    "    for c2 in c2_list:\n",
    "        c3_list.remove(c2)\n",
    "        for c3 in c3_list:\n",
    "            #print(c1, c2, '\\n')\n",
    "            c1_genes = sig_one_cancer[c1]\n",
    "            c2_genes = sig_one_cancer[c2]\n",
    "            c3_genes = sig_one_cancer[c3]\n",
    "            in_all = list(set(c1_genes) & set(c2_genes) & set(c3_genes))\n",
    "            three[c1+'_'+c2+'_'+c3] = in_all\n",
    "            print(c1+'_'+c2+'_'+c3, len(in_all))\n",
    "        \n",
    "three"
   ]
  },
  {
   "cell_type": "markdown",
   "metadata": {},
   "source": [
    "# Get a list of significant genes in multiple cancers"
   ]
  },
  {
   "cell_type": "code",
   "execution_count": 21,
   "metadata": {},
   "outputs": [
    {
     "name": "stdout",
     "output_type": "stream",
     "text": [
      "Number of significant in mult cancers: 333\n"
     ]
    }
   ],
   "source": [
    "# sig in multiple (more than 1) cancers\n",
    "mult = list(set(i for i in flat_list if flat_list.count(i) > 1)) # Keep genes sig in more than 1 cancer\n",
    "print('Number of significant in mult cancers:', len(mult))"
   ]
  },
  {
   "cell_type": "code",
   "execution_count": null,
   "metadata": {},
   "outputs": [],
   "source": []
  }
 ],
 "metadata": {
  "kernelspec": {
   "display_name": "Python 3",
   "language": "python",
   "name": "python3"
  },
  "language_info": {
   "codemirror_mode": {
    "name": "ipython",
    "version": 3
   },
   "file_extension": ".py",
   "mimetype": "text/x-python",
   "name": "python",
   "nbconvert_exporter": "python",
   "pygments_lexer": "ipython3",
   "version": "3.7.3"
  }
 },
 "nbformat": 4,
 "nbformat_minor": 2
}
