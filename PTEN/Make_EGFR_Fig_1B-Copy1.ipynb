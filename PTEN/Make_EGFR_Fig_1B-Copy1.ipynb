{
 "cells": [
  {
   "cell_type": "markdown",
   "metadata": {},
   "source": [
    "# Make EGFR Figure 1B Cis effect "
   ]
  },
  {
   "cell_type": "markdown",
   "metadata": {},
   "source": [
    "This notebook graphs the pearson correlation between EGFR copy number and EGFR proteomics. It shows how an EGFR copy number mutation effects protein levels of EGFR (cis effect)."
   ]
  },
  {
   "cell_type": "code",
   "execution_count": 1,
   "metadata": {},
   "outputs": [],
   "source": [
    "import pandas as pd\n",
    "import numpy as np\n",
    "import seaborn as sns\n",
    "import matplotlib.pyplot as plt\n",
    "import scipy.stats\n",
    "import re\n",
    "import sys \n",
    "\n",
    "import cptac\n",
    "import cptac.utils as u\n",
    "import plot_utils as p"
   ]
  },
  {
   "cell_type": "code",
   "execution_count": 2,
   "metadata": {},
   "outputs": [],
   "source": [
    "import warnings\n",
    "warnings.filterwarnings('ignore')"
   ]
  },
  {
   "cell_type": "code",
   "execution_count": 3,
   "metadata": {},
   "outputs": [],
   "source": [
    "'''\n",
    "@Param df1: Dataframe. Contains numeric values (such as proteomics) for pearson correlaton \n",
    "@Param x_axis: String. Used as the label for the x-axis as well as the column name for the x-axis values.\n",
    "@Param y_axis:String. Used as the label for the y-axis as well as the column name for the y-axis values.\n",
    "This fuction takes a dataframe with numeric values (such as proteomics) and performs a pearson correlation analysis\n",
    "between two user specified columns within the dataframe. \n",
    "The function then prints the uncorrected pvalue and coorelation value.\n",
    "\n",
    "'''\n",
    "def print_stats(df1, x_axis, y_axis):\n",
    "      \n",
    "    df1_subset = df1[[x_axis,y_axis]]\n",
    "    df1_subset = df1_subset.dropna(axis=0, how=\"any\")\n",
    "    count_row = df1_subset.shape[0]\n",
    "    if count_row > 30:\n",
    "        x1 = df1_subset[[x_axis]].values\n",
    "        y1 = df1_subset[[y_axis]].values\n",
    "        x1 = x1[:,0]\n",
    "        y1 = y1[:,0]\n",
    "        corr, pval = scipy.stats.pearsonr(x1,y1)\n",
    "        print(\"Correlation: \" + str(corr))\n",
    "        print(\"P_value:\" + str(pval))\n",
    "        \n",
    "    else: \n",
    "        return \"Not Enough Data\"\n",
    "   "
   ]
  },
  {
   "cell_type": "code",
   "execution_count": 4,
   "metadata": {},
   "outputs": [
    {
     "name": "stdout",
     "output_type": "stream",
     "text": [
      "                                            \r"
     ]
    }
   ],
   "source": [
    "#Load cptac data sets\n",
    "brain = cptac.Gbm()\n",
    "kidney = cptac.Ccrcc()\n",
    "ovar = cptac.Ovarian()\n",
    "colon = cptac.Colon()\n",
    "brca = cptac.Brca()\n",
    "luad = cptac.Luad()\n",
    "hnscc = cptac.Hnscc()\n",
    "lscc = cptac.Lscc()"
   ]
  },
  {
   "cell_type": "markdown",
   "metadata": {},
   "source": [
    "# Step 1 Create Data Frame"
   ]
  },
  {
   "cell_type": "markdown",
   "metadata": {},
   "source": [
    "Create a df that combines proteomics and CNV data and uses only tumor samples. "
   ]
  },
  {
   "cell_type": "markdown",
   "metadata": {},
   "source": [
    "# GBM"
   ]
  },
  {
   "cell_type": "markdown",
   "metadata": {},
   "source": []
  },
  {
   "cell_type": "code",
   "execution_count": 5,
   "metadata": {},
   "outputs": [
    {
     "data": {
      "text/html": [
       "<div>\n",
       "<style scoped>\n",
       "    .dataframe tbody tr th:only-of-type {\n",
       "        vertical-align: middle;\n",
       "    }\n",
       "\n",
       "    .dataframe tbody tr th {\n",
       "        vertical-align: top;\n",
       "    }\n",
       "\n",
       "    .dataframe thead th {\n",
       "        text-align: right;\n",
       "    }\n",
       "</style>\n",
       "<table border=\"1\" class=\"dataframe\">\n",
       "  <thead>\n",
       "    <tr style=\"text-align: right;\">\n",
       "      <th>Name</th>\n",
       "      <th>EGFR_proteomics</th>\n",
       "      <th>EGFR_CNV</th>\n",
       "    </tr>\n",
       "    <tr>\n",
       "      <th>Patient_ID</th>\n",
       "      <th></th>\n",
       "      <th></th>\n",
       "    </tr>\n",
       "  </thead>\n",
       "  <tbody>\n",
       "    <tr>\n",
       "      <th>C3L-00104</th>\n",
       "      <td>1.054962</td>\n",
       "      <td>1.059405</td>\n",
       "    </tr>\n",
       "    <tr>\n",
       "      <th>C3L-00365</th>\n",
       "      <td>2.219562</td>\n",
       "      <td>4.071536</td>\n",
       "    </tr>\n",
       "    <tr>\n",
       "      <th>C3L-00674</th>\n",
       "      <td>0.137329</td>\n",
       "      <td>3.483884</td>\n",
       "    </tr>\n",
       "    <tr>\n",
       "      <th>C3L-00677</th>\n",
       "      <td>-0.768478</td>\n",
       "      <td>0.458499</td>\n",
       "    </tr>\n",
       "    <tr>\n",
       "      <th>C3L-01040</th>\n",
       "      <td>-1.249435</td>\n",
       "      <td>0.360617</td>\n",
       "    </tr>\n",
       "  </tbody>\n",
       "</table>\n",
       "</div>"
      ],
      "text/plain": [
       "Name        EGFR_proteomics  EGFR_CNV\n",
       "Patient_ID                           \n",
       "C3L-00104          1.054962  1.059405\n",
       "C3L-00365          2.219562  4.071536\n",
       "C3L-00674          0.137329  3.483884\n",
       "C3L-00677         -0.768478  0.458499\n",
       "C3L-01040         -1.249435  0.360617"
      ]
     },
     "execution_count": 5,
     "metadata": {},
     "output_type": "execute_result"
    }
   ],
   "source": [
    "prot_CNV_Tumor = brain.join_omics_to_omics(df1_name=\"proteomics\", df2_name=\"CNV\",genes1=\"EGFR\", genes2= \"EGFR\", tissue_type= \"tumor\")\n",
    "#Example of df \n",
    "prot_CNV_Tumor.head()"
   ]
  },
  {
   "cell_type": "markdown",
   "metadata": {},
   "source": [
    "#  Step 2  Call Plotting Function"
   ]
  },
  {
   "cell_type": "markdown",
   "metadata": {},
   "source": [
    "Use plot_pearson function in plot_utils to graph pearson correlation."
   ]
  },
  {
   "cell_type": "code",
   "execution_count": 6,
   "metadata": {},
   "outputs": [
    {
     "ename": "AttributeError",
     "evalue": "module 'plot_utils' has no attribute 'plot_pearson'",
     "output_type": "error",
     "traceback": [
      "\u001b[1;31m---------------------------------------------------------------------------\u001b[0m",
      "\u001b[1;31mAttributeError\u001b[0m                            Traceback (most recent call last)",
      "\u001b[1;32m<ipython-input-6-979d4bace2ae>\u001b[0m in \u001b[0;36m<module>\u001b[1;34m\u001b[0m\n\u001b[1;32m----> 1\u001b[1;33m \u001b[0mp\u001b[0m\u001b[1;33m.\u001b[0m\u001b[0mplot_pearson\u001b[0m\u001b[1;33m(\u001b[0m\u001b[0mprot_CNV_Tumor\u001b[0m\u001b[1;33m,\u001b[0m\u001b[1;34m\"EGFR_CNV\"\u001b[0m\u001b[1;33m,\u001b[0m\u001b[1;34m\"EGFR_proteomics\"\u001b[0m\u001b[1;33m,\u001b[0m \u001b[0mhue\u001b[0m \u001b[1;33m=\u001b[0m \u001b[1;34m\"none\"\u001b[0m\u001b[1;33m,\u001b[0m \u001b[0mtitle\u001b[0m \u001b[1;33m=\u001b[0m \u001b[1;34m\"Glioblastoma\"\u001b[0m\u001b[1;33m,\u001b[0m \u001b[0mra_stats\u001b[0m \u001b[1;33m=\u001b[0m \u001b[1;32mFalse\u001b[0m \u001b[1;33m,\u001b[0m\u001b[0mshow_plot\u001b[0m \u001b[1;33m=\u001b[0m \u001b[1;32mTrue\u001b[0m\u001b[1;33m,\u001b[0m \u001b[0msave_file_name\u001b[0m \u001b[1;33m=\u001b[0m \u001b[1;34m\"png_files/Step2Cis_Gbm\"\u001b[0m\u001b[1;33m)\u001b[0m\u001b[1;33m\u001b[0m\u001b[1;33m\u001b[0m\u001b[0m\n\u001b[0m",
      "\u001b[1;31mAttributeError\u001b[0m: module 'plot_utils' has no attribute 'plot_pearson'"
     ]
    }
   ],
   "source": [
    "p.plot_pearson(prot_CNV_Tumor,\"EGFR_CNV\",\"EGFR_proteomics\", hue = \"none\", title = \"Glioblastoma\", ra_stats = False ,show_plot = True, save_file_name = \"png_files/Step2Cis_Gbm\")"
   ]
  },
  {
   "cell_type": "code",
   "execution_count": null,
   "metadata": {},
   "outputs": [],
   "source": [
    "print_stats(prot_CNV_Tumor,\"EGFR_CNV\",\"EGFR_proteomics\")\n"
   ]
  },
  {
   "cell_type": "markdown",
   "metadata": {},
   "source": [
    "# Repeat Steps 1 and 2 for the other 7 cancers"
   ]
  },
  {
   "cell_type": "markdown",
   "metadata": {},
   "source": [
    "# Kidney "
   ]
  },
  {
   "cell_type": "code",
   "execution_count": null,
   "metadata": {},
   "outputs": [],
   "source": [
    "prot_CNV_Tumor = kidney.join_omics_to_omics(df1_name=\"proteomics\", df2_name=\"CNV\", tissue_type= \"tumor\")\n",
    "prot_CNV_Tumor.columns = prot_CNV_Tumor.columns.droplevel(1) #drop multi-index level\n",
    "\n"
   ]
  },
  {
   "cell_type": "code",
   "execution_count": null,
   "metadata": {},
   "outputs": [],
   "source": [
    "p.plot_pearson(prot_CNV_Tumor,\"EGFR_CNV\",\"EGFR_proteomics\", hue =\"none\", ra_stats = False, show_plot = True, title = \"Renal\", save_file_name = \"png_files/Step2Cis_Kidney\")\n",
    "print_stats(prot_CNV_Tumor,\"EGFR_CNV\",\"EGFR_proteomics\")"
   ]
  },
  {
   "cell_type": "markdown",
   "metadata": {},
   "source": [
    "# Ovarian "
   ]
  },
  {
   "cell_type": "code",
   "execution_count": null,
   "metadata": {},
   "outputs": [],
   "source": [
    "prot_CNV_Tumor = ovar.join_omics_to_omics(df1_name=\"proteomics\", df2_name=\"CNV\", tissue_type= \"tumor\")\n",
    "prot_CNV_Tumor.columns = prot_CNV_Tumor.columns.droplevel(1) #drop multi-index level\n",
    "\n"
   ]
  },
  {
   "cell_type": "code",
   "execution_count": null,
   "metadata": {},
   "outputs": [],
   "source": [
    "p.plot_pearson(prot_CNV_Tumor,\"EGFR_CNV\",\"EGFR_proteomics\", hue = \"none\", ra_stats = False,title = \"Ovarian\", show_plot = True, save_file_name = \"png_files/Step2Cis_Ovarian\")\n",
    "print_stats(prot_CNV_Tumor,\"EGFR_CNV\",\"EGFR_proteomics\")"
   ]
  },
  {
   "cell_type": "markdown",
   "metadata": {},
   "source": [
    "# Colon"
   ]
  },
  {
   "cell_type": "code",
   "execution_count": null,
   "metadata": {},
   "outputs": [],
   "source": [
    "prot_CNV = colon.join_omics_to_omics(df1_name=\"proteomics\", df2_name=\"CNV\", tissue_type= \"tumor\")\n"
   ]
  },
  {
   "cell_type": "code",
   "execution_count": null,
   "metadata": {},
   "outputs": [],
   "source": [
    "p.plot_pearson(prot_CNV_Tumor,\"EGFR_CNV\",\"EGFR_proteomics\",hue = \"none\", ra_stats = False, title = \"Colon\", show_plot = True, save_file_name = \"png_files/Step2Cis_Colon\")\n",
    "print_stats(prot_CNV_Tumor,\"EGFR_CNV\",\"EGFR_proteomics\")\n"
   ]
  },
  {
   "cell_type": "markdown",
   "metadata": {},
   "source": [
    "# Brca "
   ]
  },
  {
   "cell_type": "code",
   "execution_count": null,
   "metadata": {},
   "outputs": [],
   "source": [
    "prot_CNV_Tumor = brca.join_omics_to_omics(df1_name=\"proteomics\", df2_name=\"CNV\", tissue_type= \"tumor\")\n",
    "prot_CNV_Tumor.columns = prot_CNV_Tumor.columns.droplevel(1) #drop multi-index level\n",
    "\n"
   ]
  },
  {
   "cell_type": "code",
   "execution_count": null,
   "metadata": {},
   "outputs": [],
   "source": [
    "p.plot_pearson(prot_CNV_Tumor,\"EGFR_CNV\",\"EGFR_proteomics\", hue = \"none\", ra_stats = False, title = \"Breast\", show_plot = True, save_file_name = \"png_files/Step2Cis_Brca\")\n",
    "print_stats(prot_CNV_Tumor,\"EGFR_CNV\",\"EGFR_proteomics\")\n"
   ]
  },
  {
   "cell_type": "markdown",
   "metadata": {},
   "source": [
    "# LUAD"
   ]
  },
  {
   "cell_type": "code",
   "execution_count": null,
   "metadata": {},
   "outputs": [],
   "source": [
    "prot_CNV_Tumor = luad.join_omics_to_omics(df1_name=\"proteomics\", df2_name=\"CNV\", tissue_type= \"tumor\")\n",
    "prot_CNV_Tumor.columns = prot_CNV_Tumor.columns.droplevel(1) #drop multi-index level\n",
    "\n"
   ]
  },
  {
   "cell_type": "code",
   "execution_count": null,
   "metadata": {},
   "outputs": [],
   "source": [
    "p.plot_pearson(prot_CNV_Tumor,\"EGFR_CNV\",\"EGFR_proteomics\", hue = 'none', title = \"Lung (LUAD)\", ra_stats = False, show_plot = True, save_file_name = \"png_files/Step2Cis_Luad\")\n",
    "print_stats(prot_CNV_Tumor,\"EGFR_CNV\",\"EGFR_proteomics\")\n"
   ]
  },
  {
   "cell_type": "markdown",
   "metadata": {},
   "source": [
    "# HNSCC"
   ]
  },
  {
   "cell_type": "code",
   "execution_count": null,
   "metadata": {},
   "outputs": [],
   "source": [
    "prot_CNV_Tumor = hnscc.join_omics_to_omics(df1_name=\"proteomics\", df2_name=\"CNV\", tissue_type= \"tumor\")\n",
    "\n"
   ]
  },
  {
   "cell_type": "code",
   "execution_count": null,
   "metadata": {},
   "outputs": [],
   "source": [
    "p.plot_pearson(prot_CNV_Tumor,\"EGFR_CNV\",\"EGFR_proteomics\", hue = \"none\", title = \"Head and Neck\", ra_stats = False, show_plot = True, save_file_name = \"png_files/Step2Cis_Hnscc\")\n",
    "print_stats(prot_CNV_Tumor,\"EGFR_CNV\",\"EGFR_proteomics\")\n"
   ]
  },
  {
   "cell_type": "markdown",
   "metadata": {},
   "source": [
    "# LSCC"
   ]
  },
  {
   "cell_type": "code",
   "execution_count": null,
   "metadata": {},
   "outputs": [],
   "source": [
    "prot_CNV_Tumor = lscc.join_omics_to_omics(df1_name=\"proteomics\", df2_name=\"CNV\", tissue_type= \"tumor\")\n",
    "prot_CNV_Tumor.columns = prot_CNV_Tumor.columns.droplevel(1) #drop multi-index level\n"
   ]
  },
  {
   "cell_type": "code",
   "execution_count": null,
   "metadata": {},
   "outputs": [],
   "source": [
    "p.plot_pearson(prot_CNV_Tumor,\"EGFR_CNV\",\"EGFR_proteomics\", hue = \"none\", title = \"Lung (LSCC)\" , ra_stats = False, show_plot = True, save_file_name = \"png_files/Step2Cis_Lscc\")\n",
    "print_stats(prot_CNV_Tumor,\"EGFR_CNV\",\"EGFR_proteomics\")\n"
   ]
  },
  {
   "cell_type": "code",
   "execution_count": null,
   "metadata": {},
   "outputs": [],
   "source": []
  }
 ],
 "metadata": {
  "kernelspec": {
   "display_name": "Python 3",
   "language": "python",
   "name": "python3"
  },
  "language_info": {
   "codemirror_mode": {
    "name": "ipython",
    "version": 3
   },
   "file_extension": ".py",
   "mimetype": "text/x-python",
   "name": "python",
   "nbconvert_exporter": "python",
   "pygments_lexer": "ipython3",
   "version": "3.7.3"
  }
 },
 "nbformat": 4,
 "nbformat_minor": 2
}
