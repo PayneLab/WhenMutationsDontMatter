{
 "cells": [
  {
   "cell_type": "code",
   "execution_count": 2,
   "metadata": {},
   "outputs": [],
   "source": [
    "import pandas as pd\n",
    "import numpy as np\n",
    "import seaborn as sns\n",
    "import matplotlib.pyplot as plt\n",
    "import scipy.stats\n",
    "import gseapy as gp\n",
    "import re\n",
    "import sys \n",
    "\n",
    "import cptac\n",
    "import cptac.utils as u\n",
    "\n",
    "import sys\n",
    "sys.path.append('C:\\\\Users\\\\brittany henderson\\\\GitHub\\\\WhenMutationsDontMatter\\\\')\n",
    "import plot_utils as pu"
   ]
  },
  {
   "cell_type": "code",
   "execution_count": 5,
   "metadata": {},
   "outputs": [],
   "source": [
    "df = pd.read_csv('sig_pval_all_proteins.csv')\n",
    "\n",
    "prot_list = list(df.Proteomics)\n",
    "\n",
    "sig_from_all_prot_enr = gp.enrichr(gene_list = prot_list, description='Tumor_partition', gene_sets='KEGG_2016', \n",
    "                       outdir='/Enrichr')"
   ]
  },
  {
   "cell_type": "code",
   "execution_count": 13,
   "metadata": {},
   "outputs": [
    {
     "data": {
      "text/plain": [
       "0      RBM25;EIF4A3;DDX42;HNRNPU;PRPF19;USP39;EFTUD2;...\n",
       "1      CYFIP2;NUP107;NUP188;RPP30;EIF4A3;PHAX;PNN;XPO...\n",
       "2      RFC5;FEN1;RFC3;PCNA;RFC4;MCM7;RFC1;RFC2;PRIM1;...\n",
       "3      SMG1;RNMT;EIF4A3;MSI1;PPP2R2A;MSI2;SMG7;SMG6;P...\n",
       "4      RFC5;RFC3;PCNA;RFC4;RFC1;RFC2;RPA1;MLH1;POLD3;...\n",
       "                             ...                        \n",
       "279                                          ITGA4;LAMB4\n",
       "280                                           SLC8A3;MME\n",
       "281           SLC8A3;PDE1B;PDE1A;GNG7;CAMK2A;ARRB1;ARRB2\n",
       "282    CCR1;IFNAR2;CSF1R;IFNGR1;TNFSF10;CD27;FAS;PLEK...\n",
       "283            P2RX7;P2RY13;CHRM1;GRID1;PARD3;C3AR1;CTSG\n",
       "Name: Genes, Length: 284, dtype: object"
      ]
     },
     "execution_count": 13,
     "metadata": {},
     "output_type": "execute_result"
    }
   ],
   "source": [
    "sig_from_all_prot_enr.res2d.Genes"
   ]
  },
  {
   "cell_type": "code",
   "execution_count": null,
   "metadata": {},
   "outputs": [],
   "source": []
  }
 ],
 "metadata": {
  "kernelspec": {
   "display_name": "Python 3",
   "language": "python",
   "name": "python3"
  },
  "language_info": {
   "codemirror_mode": {
    "name": "ipython",
    "version": 3
   },
   "file_extension": ".py",
   "mimetype": "text/x-python",
   "name": "python",
   "nbconvert_exporter": "python",
   "pygments_lexer": "ipython3",
   "version": "3.7.3"
  }
 },
 "nbformat": 4,
 "nbformat_minor": 2
}
