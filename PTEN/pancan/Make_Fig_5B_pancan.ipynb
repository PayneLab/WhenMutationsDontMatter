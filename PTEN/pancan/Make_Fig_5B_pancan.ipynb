{
 "cells": [
  {
   "cell_type": "markdown",
   "metadata": {},
   "source": [
    "# Make Figure 5B:  Uniqueness of trans effect"
   ]
  },
  {
   "cell_type": "markdown",
   "metadata": {},
   "source": [
    "Create a bar/dumbell plot to look at the number of genes that are significant in one or multiple cancers. "
   ]
  },
  {
   "cell_type": "code",
   "execution_count": 1,
   "metadata": {},
   "outputs": [
    {
     "name": "stderr",
     "output_type": "stream",
     "text": [
      "cptac warning: Your version of cptac (0.9.0) is out-of-date. Latest is 0.9.1. Please run 'pip install --upgrade cptac' to update it. (<ipython-input-1-47030fbe69b4>, line 7)\n"
     ]
    }
   ],
   "source": [
    "import pandas as pd\n",
    "import numpy as np\n",
    "import seaborn as sns\n",
    "import matplotlib.pyplot as plt\n",
    "import scipy.stats\n",
    "\n",
    "import cptac\n",
    "import cptac.utils as u\n",
    "import plot_utils as p"
   ]
  },
  {
   "cell_type": "code",
   "execution_count": 2,
   "metadata": {},
   "outputs": [
    {
     "name": "stdout",
     "output_type": "stream",
     "text": [
      "cptac version: 0.9.0\n"
     ]
    }
   ],
   "source": [
    "print('cptac version:', cptac.version())"
   ]
  },
  {
   "cell_type": "markdown",
   "metadata": {},
   "source": [
    "# Step 1: Create sig column"
   ]
  },
  {
   "cell_type": "markdown",
   "metadata": {},
   "source": [
    "The sig column names all cancers with a sig comparison for a protein. First, get a df with p-values and differential expressions for all proteins across all 8 cancers."
   ]
  },
  {
   "cell_type": "code",
   "execution_count": 5,
   "metadata": {},
   "outputs": [
    {
     "data": {
      "text/html": [
       "<div>\n",
       "<style scoped>\n",
       "    .dataframe tbody tr th:only-of-type {\n",
       "        vertical-align: middle;\n",
       "    }\n",
       "\n",
       "    .dataframe tbody tr th {\n",
       "        vertical-align: top;\n",
       "    }\n",
       "\n",
       "    .dataframe thead th {\n",
       "        text-align: right;\n",
       "    }\n",
       "</style>\n",
       "<table border=\"1\" class=\"dataframe\">\n",
       "  <thead>\n",
       "    <tr style=\"text-align: right;\">\n",
       "      <th></th>\n",
       "      <th>Umich_Proteomics</th>\n",
       "      <th>GBM_P_Value</th>\n",
       "      <th>GBM_Median</th>\n",
       "      <th>HNSCC_P_Value</th>\n",
       "      <th>HNSCC_Median</th>\n",
       "      <th>LUAD_P_Value</th>\n",
       "      <th>LUAD_Median</th>\n",
       "      <th>LSCC_P_Value</th>\n",
       "      <th>LSCC_Median</th>\n",
       "      <th>BR_P_Value</th>\n",
       "      <th>BR_Median</th>\n",
       "      <th>EC_P_Value</th>\n",
       "      <th>EC_Median</th>\n",
       "    </tr>\n",
       "  </thead>\n",
       "  <tbody>\n",
       "    <tr>\n",
       "      <th>0</th>\n",
       "      <td>CUL2</td>\n",
       "      <td>4.572167e-07</td>\n",
       "      <td>-0.458427</td>\n",
       "      <td>0.492948</td>\n",
       "      <td>-0.012483</td>\n",
       "      <td>0.754037</td>\n",
       "      <td>-0.041117</td>\n",
       "      <td>0.061876</td>\n",
       "      <td>-0.161777</td>\n",
       "      <td>0.999518</td>\n",
       "      <td>0.019744</td>\n",
       "      <td>0.968884</td>\n",
       "      <td>0.006991</td>\n",
       "    </tr>\n",
       "    <tr>\n",
       "      <th>1</th>\n",
       "      <td>DOCK1_1</td>\n",
       "      <td>4.572167e-07</td>\n",
       "      <td>-0.358361</td>\n",
       "      <td>0.941940</td>\n",
       "      <td>-0.050514</td>\n",
       "      <td>0.823513</td>\n",
       "      <td>-0.061154</td>\n",
       "      <td>0.637861</td>\n",
       "      <td>-0.033188</td>\n",
       "      <td>NaN</td>\n",
       "      <td>0.223971</td>\n",
       "      <td>0.858479</td>\n",
       "      <td>0.106446</td>\n",
       "    </tr>\n",
       "    <tr>\n",
       "      <th>2</th>\n",
       "      <td>ATE1_1</td>\n",
       "      <td>2.291619e-06</td>\n",
       "      <td>-0.481942</td>\n",
       "      <td>0.112081</td>\n",
       "      <td>-0.118994</td>\n",
       "      <td>0.011157</td>\n",
       "      <td>-0.315236</td>\n",
       "      <td>0.000959</td>\n",
       "      <td>-0.209974</td>\n",
       "      <td>0.999518</td>\n",
       "      <td>-0.094422</td>\n",
       "      <td>0.859507</td>\n",
       "      <td>0.028872</td>\n",
       "    </tr>\n",
       "    <tr>\n",
       "      <th>3</th>\n",
       "      <td>GDI2</td>\n",
       "      <td>2.291619e-06</td>\n",
       "      <td>-0.486754</td>\n",
       "      <td>0.961669</td>\n",
       "      <td>-0.101908</td>\n",
       "      <td>0.838721</td>\n",
       "      <td>-0.006090</td>\n",
       "      <td>0.302531</td>\n",
       "      <td>-0.181925</td>\n",
       "      <td>0.999518</td>\n",
       "      <td>-0.041954</td>\n",
       "      <td>0.693008</td>\n",
       "      <td>0.052571</td>\n",
       "    </tr>\n",
       "    <tr>\n",
       "      <th>4</th>\n",
       "      <td>CUTC</td>\n",
       "      <td>2.291619e-06</td>\n",
       "      <td>-0.490992</td>\n",
       "      <td>0.043479</td>\n",
       "      <td>-0.384810</td>\n",
       "      <td>0.409869</td>\n",
       "      <td>-0.280224</td>\n",
       "      <td>0.008548</td>\n",
       "      <td>-0.231417</td>\n",
       "      <td>0.999518</td>\n",
       "      <td>0.067701</td>\n",
       "      <td>0.788035</td>\n",
       "      <td>0.020382</td>\n",
       "    </tr>\n",
       "    <tr>\n",
       "      <th>...</th>\n",
       "      <td>...</td>\n",
       "      <td>...</td>\n",
       "      <td>...</td>\n",
       "      <td>...</td>\n",
       "      <td>...</td>\n",
       "      <td>...</td>\n",
       "      <td>...</td>\n",
       "      <td>...</td>\n",
       "      <td>...</td>\n",
       "      <td>...</td>\n",
       "      <td>...</td>\n",
       "      <td>...</td>\n",
       "      <td>...</td>\n",
       "    </tr>\n",
       "    <tr>\n",
       "      <th>16300</th>\n",
       "      <td>WDR38</td>\n",
       "      <td>NaN</td>\n",
       "      <td>NaN</td>\n",
       "      <td>NaN</td>\n",
       "      <td>NaN</td>\n",
       "      <td>NaN</td>\n",
       "      <td>NaN</td>\n",
       "      <td>NaN</td>\n",
       "      <td>NaN</td>\n",
       "      <td>NaN</td>\n",
       "      <td>NaN</td>\n",
       "      <td>NaN</td>\n",
       "      <td>1.946308</td>\n",
       "    </tr>\n",
       "    <tr>\n",
       "      <th>16301</th>\n",
       "      <td>CFAP99</td>\n",
       "      <td>NaN</td>\n",
       "      <td>NaN</td>\n",
       "      <td>NaN</td>\n",
       "      <td>NaN</td>\n",
       "      <td>NaN</td>\n",
       "      <td>NaN</td>\n",
       "      <td>NaN</td>\n",
       "      <td>NaN</td>\n",
       "      <td>NaN</td>\n",
       "      <td>NaN</td>\n",
       "      <td>NaN</td>\n",
       "      <td>0.273024</td>\n",
       "    </tr>\n",
       "    <tr>\n",
       "      <th>16302</th>\n",
       "      <td>MYO15A</td>\n",
       "      <td>NaN</td>\n",
       "      <td>NaN</td>\n",
       "      <td>NaN</td>\n",
       "      <td>NaN</td>\n",
       "      <td>NaN</td>\n",
       "      <td>NaN</td>\n",
       "      <td>NaN</td>\n",
       "      <td>NaN</td>\n",
       "      <td>NaN</td>\n",
       "      <td>NaN</td>\n",
       "      <td>NaN</td>\n",
       "      <td>1.395354</td>\n",
       "    </tr>\n",
       "    <tr>\n",
       "      <th>16303</th>\n",
       "      <td>ZC3H11B</td>\n",
       "      <td>NaN</td>\n",
       "      <td>NaN</td>\n",
       "      <td>NaN</td>\n",
       "      <td>NaN</td>\n",
       "      <td>NaN</td>\n",
       "      <td>NaN</td>\n",
       "      <td>NaN</td>\n",
       "      <td>NaN</td>\n",
       "      <td>NaN</td>\n",
       "      <td>NaN</td>\n",
       "      <td>NaN</td>\n",
       "      <td>-0.245715</td>\n",
       "    </tr>\n",
       "    <tr>\n",
       "      <th>16304</th>\n",
       "      <td>BPIFB4</td>\n",
       "      <td>NaN</td>\n",
       "      <td>NaN</td>\n",
       "      <td>NaN</td>\n",
       "      <td>NaN</td>\n",
       "      <td>NaN</td>\n",
       "      <td>NaN</td>\n",
       "      <td>NaN</td>\n",
       "      <td>NaN</td>\n",
       "      <td>NaN</td>\n",
       "      <td>NaN</td>\n",
       "      <td>NaN</td>\n",
       "      <td>0.396052</td>\n",
       "    </tr>\n",
       "  </tbody>\n",
       "</table>\n",
       "<p>16305 rows × 13 columns</p>\n",
       "</div>"
      ],
      "text/plain": [
       "      Umich_Proteomics   GBM_P_Value  GBM_Median  HNSCC_P_Value  HNSCC_Median  \\\n",
       "0                 CUL2  4.572167e-07   -0.458427       0.492948     -0.012483   \n",
       "1              DOCK1_1  4.572167e-07   -0.358361       0.941940     -0.050514   \n",
       "2               ATE1_1  2.291619e-06   -0.481942       0.112081     -0.118994   \n",
       "3                 GDI2  2.291619e-06   -0.486754       0.961669     -0.101908   \n",
       "4                 CUTC  2.291619e-06   -0.490992       0.043479     -0.384810   \n",
       "...                ...           ...         ...            ...           ...   \n",
       "16300            WDR38           NaN         NaN            NaN           NaN   \n",
       "16301           CFAP99           NaN         NaN            NaN           NaN   \n",
       "16302           MYO15A           NaN         NaN            NaN           NaN   \n",
       "16303          ZC3H11B           NaN         NaN            NaN           NaN   \n",
       "16304           BPIFB4           NaN         NaN            NaN           NaN   \n",
       "\n",
       "       LUAD_P_Value  LUAD_Median  LSCC_P_Value  LSCC_Median  BR_P_Value  \\\n",
       "0          0.754037    -0.041117      0.061876    -0.161777    0.999518   \n",
       "1          0.823513    -0.061154      0.637861    -0.033188         NaN   \n",
       "2          0.011157    -0.315236      0.000959    -0.209974    0.999518   \n",
       "3          0.838721    -0.006090      0.302531    -0.181925    0.999518   \n",
       "4          0.409869    -0.280224      0.008548    -0.231417    0.999518   \n",
       "...             ...          ...           ...          ...         ...   \n",
       "16300           NaN          NaN           NaN          NaN         NaN   \n",
       "16301           NaN          NaN           NaN          NaN         NaN   \n",
       "16302           NaN          NaN           NaN          NaN         NaN   \n",
       "16303           NaN          NaN           NaN          NaN         NaN   \n",
       "16304           NaN          NaN           NaN          NaN         NaN   \n",
       "\n",
       "       BR_Median  EC_P_Value  EC_Median  \n",
       "0       0.019744    0.968884   0.006991  \n",
       "1       0.223971    0.858479   0.106446  \n",
       "2      -0.094422    0.859507   0.028872  \n",
       "3      -0.041954    0.693008   0.052571  \n",
       "4       0.067701    0.788035   0.020382  \n",
       "...          ...         ...        ...  \n",
       "16300        NaN         NaN   1.946308  \n",
       "16301        NaN         NaN   0.273024  \n",
       "16302        NaN         NaN   1.395354  \n",
       "16303        NaN         NaN  -0.245715  \n",
       "16304        NaN         NaN   0.396052  \n",
       "\n",
       "[16305 rows x 13 columns]"
      ]
     },
     "execution_count": 5,
     "metadata": {},
     "output_type": "execute_result"
    }
   ],
   "source": [
    "all_df = pd.read_csv(\"csv/all_proteins_pancan.csv\")\n",
    "all_df"
   ]
  },
  {
   "cell_type": "code",
   "execution_count": 8,
   "metadata": {},
   "outputs": [
    {
     "data": {
      "text/html": [
       "<div>\n",
       "<style scoped>\n",
       "    .dataframe tbody tr th:only-of-type {\n",
       "        vertical-align: middle;\n",
       "    }\n",
       "\n",
       "    .dataframe tbody tr th {\n",
       "        vertical-align: top;\n",
       "    }\n",
       "\n",
       "    .dataframe thead th {\n",
       "        text-align: right;\n",
       "    }\n",
       "</style>\n",
       "<table border=\"1\" class=\"dataframe\">\n",
       "  <thead>\n",
       "    <tr style=\"text-align: right;\">\n",
       "      <th></th>\n",
       "      <th>Umich_Proteomics</th>\n",
       "      <th>sig</th>\n",
       "    </tr>\n",
       "  </thead>\n",
       "  <tbody>\n",
       "    <tr>\n",
       "      <th>0</th>\n",
       "      <td>CUL2</td>\n",
       "      <td>GBM</td>\n",
       "    </tr>\n",
       "    <tr>\n",
       "      <th>1</th>\n",
       "      <td>DOCK1_1</td>\n",
       "      <td>GBM</td>\n",
       "    </tr>\n",
       "    <tr>\n",
       "      <th>2</th>\n",
       "      <td>ATE1_1</td>\n",
       "      <td>GBM_LUAD_LSCC</td>\n",
       "    </tr>\n",
       "    <tr>\n",
       "      <th>3</th>\n",
       "      <td>GDI2</td>\n",
       "      <td>GBM</td>\n",
       "    </tr>\n",
       "    <tr>\n",
       "      <th>4</th>\n",
       "      <td>CUTC</td>\n",
       "      <td>GBM_HNSCC_LSCC</td>\n",
       "    </tr>\n",
       "  </tbody>\n",
       "</table>\n",
       "</div>"
      ],
      "text/plain": [
       "  Umich_Proteomics             sig\n",
       "0             CUL2             GBM\n",
       "1          DOCK1_1             GBM\n",
       "2           ATE1_1   GBM_LUAD_LSCC\n",
       "3             GDI2             GBM\n",
       "4             CUTC  GBM_HNSCC_LSCC"
      ]
     },
     "execution_count": 8,
     "metadata": {},
     "output_type": "execute_result"
    }
   ],
   "source": [
    "# create sig column values to show cancers with sig tests for each protein\n",
    "for index, row in all_df.iterrows():\n",
    "    cancer_names = ['GBM','HNSCC','LUAD','LSCC','BR','EC']\n",
    "    label = []\n",
    "    for cancer in cancer_names:\n",
    "        if row[cancer+'_P_Value'] < 0.05:\n",
    "            label.append(str(cancer))\n",
    "    labeled = '_'.join(label)\n",
    "    all_df.loc[index,'sig'] = str(labeled)\n",
    "all_df[['Umich_Proteomics', 'sig']].head()"
   ]
  },
  {
   "cell_type": "markdown",
   "metadata": {},
   "source": [
    "# Step 2: Keep genes significant in at least one cancer"
   ]
  },
  {
   "cell_type": "markdown",
   "metadata": {},
   "source": [
    "First create the numSig column that counts the number of cancers with a significant test for the specific gene. "
   ]
  },
  {
   "cell_type": "code",
   "execution_count": 9,
   "metadata": {},
   "outputs": [],
   "source": [
    "def Pvalue_sig(row):\n",
    "    numSig = 0\n",
    "\n",
    "    for item in row:\n",
    "        if pd.isnull(item):\n",
    "            continue\n",
    "        if item < 0.05: \n",
    "            numSig += 1\n",
    "            \n",
    "    return numSig"
   ]
  },
  {
   "cell_type": "code",
   "execution_count": 24,
   "metadata": {},
   "outputs": [
    {
     "data": {
      "text/plain": [
       "LSCC                 1154\n",
       "GBM                   493\n",
       "EC                    350\n",
       "LSCC_EC               112\n",
       "GBM_LSCC               75\n",
       "HNSCC                  18\n",
       "GBM_EC                 14\n",
       "LUAD                   12\n",
       "HNSCC_LSCC              7\n",
       "GBM_LSCC_EC             6\n",
       "GBM_HNSCC_LSCC          5\n",
       "GBM_HNSCC               5\n",
       "HNSCC_LSCC_EC           4\n",
       "HNSCC_EC                2\n",
       "GBM_HNSCC_LSCC_EC       2\n",
       "GBM_LUAD                2\n",
       "LUAD_LSCC               2\n",
       "GBM_LUAD_LSCC           1\n",
       "Name: sig, dtype: int64"
      ]
     },
     "execution_count": 24,
     "metadata": {},
     "output_type": "execute_result"
    }
   ],
   "source": [
    "# Create Num_sig column\n",
    "all_df[\"Num_sig\"] = all_df.loc[:,[\"GBM_P_Value\",\"HNSCC_P_Value\",\"LUAD_P_Value\",\"LSCC_P_Value\", \"BR_P_Value\",\"EC_P_Value\"]].apply(Pvalue_sig, axis = 1)\n",
    "all_df = all_df.sort_values(by=['Num_sig'],ascending=False)\n",
    "\n",
    "#Keep trans genes that are significant in atleast 1 cancer. \n",
    "all_df1 = all_df[all_df['Num_sig'].isin([1,2,3,4,5,6,7,8])]\n",
    "all_df1.head()\n",
    "all_df1.sig.value_counts()"
   ]
  },
  {
   "cell_type": "code",
   "execution_count": 32,
   "metadata": {},
   "outputs": [
    {
     "data": {
      "text/plain": [
       "BR_P_Value\n",
       "0.999518      8965\n",
       "0.999584        15\n",
       "0.759532         6\n",
       "0.999644         4\n",
       "0.999879         3\n",
       "0.875617         1\n",
       "0.902251         1\n",
       "0.999839         1\n",
       "dtype: int64"
      ]
     },
     "execution_count": 32,
     "metadata": {},
     "output_type": "execute_result"
    }
   ],
   "source": [
    "all_df[['BR_P_Value']].value_counts() #.loc[all_df['BR_P_Value'] <= 0.5]"
   ]
  },
  {
   "cell_type": "markdown",
   "metadata": {},
   "source": [
    "# Step 3: Get df with total counts of significant genes"
   ]
  },
  {
   "cell_type": "markdown",
   "metadata": {},
   "source": [
    "Get count of sig genes for each unique label of a single cancer or multiple cancers in the sig column. \n",
    "* NOTE: Lscc has 3 significant genes that are also significnat in other cancers. They are only counted in the overlapping columns and Lscc alone shows 0 unique genes. (See columns: Gbm_Hnscc_Lscc, Gbm_Lscc, Luad_Lscc) "
   ]
  },
  {
   "cell_type": "code",
   "execution_count": 37,
   "metadata": {},
   "outputs": [
    {
     "data": {
      "text/plain": [
       "Index(['LSCC', 'GBM', 'EC', 'LSCC_EC', 'GBM_LSCC', 'HNSCC', 'GBM_EC', 'LUAD',\n",
       "       'HNSCC_LSCC', 'GBM_LSCC_EC', 'GBM_HNSCC_LSCC', 'GBM_HNSCC',\n",
       "       'HNSCC_LSCC_EC', 'HNSCC_EC', 'GBM_HNSCC_LSCC_EC', 'GBM_LUAD',\n",
       "       'LUAD_LSCC', 'GBM_LUAD_LSCC'],\n",
       "      dtype='object')"
      ]
     },
     "execution_count": 37,
     "metadata": {},
     "output_type": "execute_result"
    }
   ],
   "source": [
    "# Count the number of unique values in sig\n",
    "vc = all_df1['sig'].value_counts()\n",
    "df = vc.to_frame()\n",
    "df.index"
   ]
  },
  {
   "cell_type": "code",
   "execution_count": 38,
   "metadata": {},
   "outputs": [
    {
     "data": {
      "text/html": [
       "<div>\n",
       "<style scoped>\n",
       "    .dataframe tbody tr th:only-of-type {\n",
       "        vertical-align: middle;\n",
       "    }\n",
       "\n",
       "    .dataframe tbody tr th {\n",
       "        vertical-align: top;\n",
       "    }\n",
       "\n",
       "    .dataframe thead th {\n",
       "        text-align: right;\n",
       "    }\n",
       "</style>\n",
       "<table border=\"1\" class=\"dataframe\">\n",
       "  <thead>\n",
       "    <tr style=\"text-align: right;\">\n",
       "      <th></th>\n",
       "      <th>cancer</th>\n",
       "      <th>sig</th>\n",
       "    </tr>\n",
       "  </thead>\n",
       "  <tbody>\n",
       "    <tr>\n",
       "      <th>0</th>\n",
       "      <td>GBM</td>\n",
       "      <td>493</td>\n",
       "    </tr>\n",
       "    <tr>\n",
       "      <th>1</th>\n",
       "      <td>HNSCC</td>\n",
       "      <td>18</td>\n",
       "    </tr>\n",
       "    <tr>\n",
       "      <th>2</th>\n",
       "      <td>EC</td>\n",
       "      <td>350</td>\n",
       "    </tr>\n",
       "    <tr>\n",
       "      <th>3</th>\n",
       "      <td>LUAD</td>\n",
       "      <td>12</td>\n",
       "    </tr>\n",
       "    <tr>\n",
       "      <th>4</th>\n",
       "      <td>LSCC</td>\n",
       "      <td>1154</td>\n",
       "    </tr>\n",
       "    <tr>\n",
       "      <th>5</th>\n",
       "      <td>OV</td>\n",
       "      <td>0</td>\n",
       "    </tr>\n",
       "    <tr>\n",
       "      <th>6</th>\n",
       "      <td>BR</td>\n",
       "      <td>0</td>\n",
       "    </tr>\n",
       "    <tr>\n",
       "      <th>7</th>\n",
       "      <td>CO</td>\n",
       "      <td>0</td>\n",
       "    </tr>\n",
       "    <tr>\n",
       "      <th>8</th>\n",
       "      <td>LSCC_EC</td>\n",
       "      <td>112</td>\n",
       "    </tr>\n",
       "    <tr>\n",
       "      <th>9</th>\n",
       "      <td>GBM_LSCC</td>\n",
       "      <td>75</td>\n",
       "    </tr>\n",
       "    <tr>\n",
       "      <th>10</th>\n",
       "      <td>GBM_EC</td>\n",
       "      <td>14</td>\n",
       "    </tr>\n",
       "    <tr>\n",
       "      <th>11</th>\n",
       "      <td>HNSCC_LSCC</td>\n",
       "      <td>7</td>\n",
       "    </tr>\n",
       "    <tr>\n",
       "      <th>12</th>\n",
       "      <td>GBM_LSCC_EC</td>\n",
       "      <td>6</td>\n",
       "    </tr>\n",
       "    <tr>\n",
       "      <th>13</th>\n",
       "      <td>GBM_HNSCC_LSCC</td>\n",
       "      <td>5</td>\n",
       "    </tr>\n",
       "    <tr>\n",
       "      <th>14</th>\n",
       "      <td>GBM_HNSCC</td>\n",
       "      <td>5</td>\n",
       "    </tr>\n",
       "    <tr>\n",
       "      <th>15</th>\n",
       "      <td>HNSCC_LSCC_EC</td>\n",
       "      <td>4</td>\n",
       "    </tr>\n",
       "    <tr>\n",
       "      <th>16</th>\n",
       "      <td>HNSCC_EC</td>\n",
       "      <td>2</td>\n",
       "    </tr>\n",
       "    <tr>\n",
       "      <th>17</th>\n",
       "      <td>GBM_HNSCC_LSCC_EC</td>\n",
       "      <td>2</td>\n",
       "    </tr>\n",
       "    <tr>\n",
       "      <th>18</th>\n",
       "      <td>GBM_LUAD</td>\n",
       "      <td>2</td>\n",
       "    </tr>\n",
       "    <tr>\n",
       "      <th>19</th>\n",
       "      <td>LUAD_LSCC</td>\n",
       "      <td>2</td>\n",
       "    </tr>\n",
       "    <tr>\n",
       "      <th>20</th>\n",
       "      <td>GBM_LUAD_LSCC</td>\n",
       "      <td>1</td>\n",
       "    </tr>\n",
       "  </tbody>\n",
       "</table>\n",
       "</div>"
      ],
      "text/plain": [
       "               cancer   sig\n",
       "0                 GBM   493\n",
       "1               HNSCC    18\n",
       "2                  EC   350\n",
       "3                LUAD    12\n",
       "4                LSCC  1154\n",
       "5                  OV     0\n",
       "6                  BR     0\n",
       "7                  CO     0\n",
       "8             LSCC_EC   112\n",
       "9            GBM_LSCC    75\n",
       "10             GBM_EC    14\n",
       "11         HNSCC_LSCC     7\n",
       "12        GBM_LSCC_EC     6\n",
       "13     GBM_HNSCC_LSCC     5\n",
       "14          GBM_HNSCC     5\n",
       "15      HNSCC_LSCC_EC     4\n",
       "16           HNSCC_EC     2\n",
       "17  GBM_HNSCC_LSCC_EC     2\n",
       "18           GBM_LUAD     2\n",
       "19          LUAD_LSCC     2\n",
       "20      GBM_LUAD_LSCC     1"
      ]
     },
     "execution_count": 38,
     "metadata": {},
     "output_type": "execute_result"
    }
   ],
   "source": [
    "# Add cancers with no significant genes.\n",
    "no_sig = {'CO': 0, 'BR': 0, 'OV': 0}\n",
    "ns_df = pd.DataFrame.from_dict(no_sig, orient = 'index', columns=['sig'])\n",
    "\n",
    "# Append not sig cancers\n",
    "both = df.append(ns_df)\n",
    "\n",
    "# Reindex to keep single cancers together\n",
    "ordered = ['GBM', 'HNSCC', 'EC', 'LUAD', 'LSCC', 'OV', 'BR', 'CO', \n",
    "           'LSCC_EC', 'GBM_LSCC', 'GBM_EC', 'HNSCC_LSCC', 'GBM_LSCC_EC', \n",
    "           'GBM_HNSCC_LSCC', 'GBM_HNSCC', 'HNSCC_LSCC_EC', 'HNSCC_EC',\n",
    "           'GBM_HNSCC_LSCC_EC', 'GBM_LUAD', 'LUAD_LSCC', 'GBM_LUAD_LSCC']\n",
    "           \n",
    "both = both.reindex(ordered)\n",
    "\n",
    "both = both.reset_index()\n",
    "both = both.rename(columns = {'index': 'cancer'})\n",
    "both"
   ]
  },
  {
   "cell_type": "markdown",
   "metadata": {},
   "source": [
    "# Step 4: Create bar and dumbell plot"
   ]
  },
  {
   "cell_type": "markdown",
   "metadata": {},
   "source": [
    "First, create a df with 4 y-axis points for the scatterplots. Values represent where the cancer label is on the y-axis. ('GBM': 7, 'HNSCC': 6, 'EC': 5, 'LUAD': 4, 'LSCC': 3, 'OV': 2, 'BR': 1, 'CO': 0) For a single cancer all 4 points are the same. For proteins that are significant in 4 cancers, each y-axis point represents a different cancer. NOTE: PTEN contains genes significant in up to 4 cancers.\n"
   ]
  },
  {
   "cell_type": "code",
   "execution_count": 39,
   "metadata": {},
   "outputs": [],
   "source": [
    "# Create df with location of cancer points\n",
    "y_points = {'GBM': 7, 'HNSCC': 6, 'EC': 5, 'LUAD': 4, 'LSCC': 3, 'OV': 2, 'BR': 1, 'CO': 0}\n",
    "y1 = {}\n",
    "y2 = {}\n",
    "y3 = {}\n",
    "y4 = {}\n",
    "\n",
    "for c in ordered:\n",
    "    c_list = c.split('_')\n",
    "    num_sig = len(c_list)\n",
    "    # Get first y point\n",
    "    cancer1 = c_list[0]\n",
    "    y1[c] = y_points[cancer1]\n",
    "    \n",
    "    # get other y points - combinations of y2, y3, y4 points are the same int when there are not 4 multiple cancers\n",
    "    if num_sig == 1:\n",
    "        y2[c] = y_points[cancer1]\n",
    "        y3[c] = y_points[cancer1]\n",
    "        y4[c] = y_points[cancer1]\n",
    "    \n",
    "    if num_sig == 2:\n",
    "        cancer2 = c_list[1]\n",
    "        y2[c] = y_points[cancer2]\n",
    "        y3[c] = y_points[cancer2]\n",
    "        y4[c] = y_points[cancer2]\n",
    "    \n",
    "    if num_sig == 3 :\n",
    "        cancer2 = c_list[1]\n",
    "        cancer3 = c_list[2]\n",
    "        y2[c] = y_points[cancer2]\n",
    "        y3[c] = y_points[cancer3]\n",
    "        y4[c] = y_points[cancer3]\n",
    "        \n",
    "    if num_sig == 4:\n",
    "        cancer2 = c_list[1]\n",
    "        cancer3 = c_list[2]\n",
    "        cancer4 = c_list[3]\n",
    "        y2[c] = y_points[cancer2]\n",
    "        y3[c] = y_points[cancer3]\n",
    "        y4[c] = y_points[cancer4]"
   ]
  },
  {
   "cell_type": "code",
   "execution_count": 40,
   "metadata": {},
   "outputs": [
    {
     "data": {
      "text/html": [
       "<div>\n",
       "<style scoped>\n",
       "    .dataframe tbody tr th:only-of-type {\n",
       "        vertical-align: middle;\n",
       "    }\n",
       "\n",
       "    .dataframe tbody tr th {\n",
       "        vertical-align: top;\n",
       "    }\n",
       "\n",
       "    .dataframe thead th {\n",
       "        text-align: right;\n",
       "    }\n",
       "</style>\n",
       "<table border=\"1\" class=\"dataframe\">\n",
       "  <thead>\n",
       "    <tr style=\"text-align: right;\">\n",
       "      <th></th>\n",
       "      <th>y1</th>\n",
       "      <th>y2</th>\n",
       "      <th>y3</th>\n",
       "      <th>y4</th>\n",
       "    </tr>\n",
       "  </thead>\n",
       "  <tbody>\n",
       "    <tr>\n",
       "      <th>GBM</th>\n",
       "      <td>7</td>\n",
       "      <td>7</td>\n",
       "      <td>7</td>\n",
       "      <td>7</td>\n",
       "    </tr>\n",
       "    <tr>\n",
       "      <th>HNSCC</th>\n",
       "      <td>6</td>\n",
       "      <td>6</td>\n",
       "      <td>6</td>\n",
       "      <td>6</td>\n",
       "    </tr>\n",
       "    <tr>\n",
       "      <th>EC</th>\n",
       "      <td>5</td>\n",
       "      <td>5</td>\n",
       "      <td>5</td>\n",
       "      <td>5</td>\n",
       "    </tr>\n",
       "    <tr>\n",
       "      <th>LUAD</th>\n",
       "      <td>4</td>\n",
       "      <td>4</td>\n",
       "      <td>4</td>\n",
       "      <td>4</td>\n",
       "    </tr>\n",
       "    <tr>\n",
       "      <th>LSCC</th>\n",
       "      <td>3</td>\n",
       "      <td>3</td>\n",
       "      <td>3</td>\n",
       "      <td>3</td>\n",
       "    </tr>\n",
       "    <tr>\n",
       "      <th>OV</th>\n",
       "      <td>2</td>\n",
       "      <td>2</td>\n",
       "      <td>2</td>\n",
       "      <td>2</td>\n",
       "    </tr>\n",
       "    <tr>\n",
       "      <th>BR</th>\n",
       "      <td>1</td>\n",
       "      <td>1</td>\n",
       "      <td>1</td>\n",
       "      <td>1</td>\n",
       "    </tr>\n",
       "    <tr>\n",
       "      <th>CO</th>\n",
       "      <td>0</td>\n",
       "      <td>0</td>\n",
       "      <td>0</td>\n",
       "      <td>0</td>\n",
       "    </tr>\n",
       "    <tr>\n",
       "      <th>LSCC_EC</th>\n",
       "      <td>3</td>\n",
       "      <td>5</td>\n",
       "      <td>5</td>\n",
       "      <td>5</td>\n",
       "    </tr>\n",
       "    <tr>\n",
       "      <th>GBM_LSCC</th>\n",
       "      <td>7</td>\n",
       "      <td>3</td>\n",
       "      <td>3</td>\n",
       "      <td>3</td>\n",
       "    </tr>\n",
       "    <tr>\n",
       "      <th>GBM_EC</th>\n",
       "      <td>7</td>\n",
       "      <td>5</td>\n",
       "      <td>5</td>\n",
       "      <td>5</td>\n",
       "    </tr>\n",
       "    <tr>\n",
       "      <th>HNSCC_LSCC</th>\n",
       "      <td>6</td>\n",
       "      <td>3</td>\n",
       "      <td>3</td>\n",
       "      <td>3</td>\n",
       "    </tr>\n",
       "    <tr>\n",
       "      <th>GBM_LSCC_EC</th>\n",
       "      <td>7</td>\n",
       "      <td>3</td>\n",
       "      <td>5</td>\n",
       "      <td>5</td>\n",
       "    </tr>\n",
       "    <tr>\n",
       "      <th>GBM_HNSCC_LSCC</th>\n",
       "      <td>7</td>\n",
       "      <td>6</td>\n",
       "      <td>3</td>\n",
       "      <td>3</td>\n",
       "    </tr>\n",
       "    <tr>\n",
       "      <th>GBM_HNSCC</th>\n",
       "      <td>7</td>\n",
       "      <td>6</td>\n",
       "      <td>6</td>\n",
       "      <td>6</td>\n",
       "    </tr>\n",
       "    <tr>\n",
       "      <th>HNSCC_LSCC_EC</th>\n",
       "      <td>6</td>\n",
       "      <td>3</td>\n",
       "      <td>5</td>\n",
       "      <td>5</td>\n",
       "    </tr>\n",
       "    <tr>\n",
       "      <th>HNSCC_EC</th>\n",
       "      <td>6</td>\n",
       "      <td>5</td>\n",
       "      <td>5</td>\n",
       "      <td>5</td>\n",
       "    </tr>\n",
       "    <tr>\n",
       "      <th>GBM_HNSCC_LSCC_EC</th>\n",
       "      <td>7</td>\n",
       "      <td>6</td>\n",
       "      <td>3</td>\n",
       "      <td>5</td>\n",
       "    </tr>\n",
       "    <tr>\n",
       "      <th>GBM_LUAD</th>\n",
       "      <td>7</td>\n",
       "      <td>4</td>\n",
       "      <td>4</td>\n",
       "      <td>4</td>\n",
       "    </tr>\n",
       "    <tr>\n",
       "      <th>LUAD_LSCC</th>\n",
       "      <td>4</td>\n",
       "      <td>3</td>\n",
       "      <td>3</td>\n",
       "      <td>3</td>\n",
       "    </tr>\n",
       "    <tr>\n",
       "      <th>GBM_LUAD_LSCC</th>\n",
       "      <td>7</td>\n",
       "      <td>4</td>\n",
       "      <td>3</td>\n",
       "      <td>3</td>\n",
       "    </tr>\n",
       "  </tbody>\n",
       "</table>\n",
       "</div>"
      ],
      "text/plain": [
       "                   y1  y2  y3  y4\n",
       "GBM                 7   7   7   7\n",
       "HNSCC               6   6   6   6\n",
       "EC                  5   5   5   5\n",
       "LUAD                4   4   4   4\n",
       "LSCC                3   3   3   3\n",
       "OV                  2   2   2   2\n",
       "BR                  1   1   1   1\n",
       "CO                  0   0   0   0\n",
       "LSCC_EC             3   5   5   5\n",
       "GBM_LSCC            7   3   3   3\n",
       "GBM_EC              7   5   5   5\n",
       "HNSCC_LSCC          6   3   3   3\n",
       "GBM_LSCC_EC         7   3   5   5\n",
       "GBM_HNSCC_LSCC      7   6   3   3\n",
       "GBM_HNSCC           7   6   6   6\n",
       "HNSCC_LSCC_EC       6   3   5   5\n",
       "HNSCC_EC            6   5   5   5\n",
       "GBM_HNSCC_LSCC_EC   7   6   3   5\n",
       "GBM_LUAD            7   4   4   4\n",
       "LUAD_LSCC           4   3   3   3\n",
       "GBM_LUAD_LSCC       7   4   3   3"
      ]
     },
     "execution_count": 40,
     "metadata": {},
     "output_type": "execute_result"
    }
   ],
   "source": [
    "# Create df with location of cancer points \n",
    "     \n",
    "# Create dfs for each y-axis point\n",
    "y1_df = pd.DataFrame.from_dict(y1, orient = 'index', columns=['y1'])\n",
    "y2_df = pd.DataFrame.from_dict(y2, orient = 'index', columns=['y2'])\n",
    "y3_df = pd.DataFrame.from_dict(y3, orient = 'index', columns=['y3'])\n",
    "y4_df = pd.DataFrame.from_dict(y4, orient = 'index', columns=['y4'])\n",
    "\n",
    "# Join dfs\n",
    "y_points_df = y1_df.join(y2_df)\n",
    "y_points_df = y_points_df.join(y3_df)\n",
    "y_points_df = y_points_df.join(y4_df)\n",
    "y_points_df\n",
    "\n",
    "# Reindex to keep single cancers together\n",
    "y_points_df = y_points_df.reindex(ordered)\n",
    "y_points_df"
   ]
  },
  {
   "cell_type": "markdown",
   "metadata": {},
   "source": [
    "Create bar plot and dumbell plot. x-axis of dumbell plot follows order of bar plot. "
   ]
  },
  {
   "cell_type": "code",
   "execution_count": 41,
   "metadata": {},
   "outputs": [
    {
     "data": {
      "image/png": "[encoded data removed]",
      "text/plain": [
       "<Figure size 1008x432 with 1 Axes>"
      ]
     },
     "metadata": {
      "needs_background": "light"
     },
     "output_type": "display_data"
    },
    {
     "data": {
      "image/png": "[encoded data removed]",
      "text/plain": [
       "<Figure size 1044x360 with 1 Axes>"
      ]
     },
     "metadata": {
      "needs_background": "light"
     },
     "output_type": "display_data"
    }
   ],
   "source": [
    "# Bar Plot\n",
    "plt.figure(figsize=(14,6))\n",
    "o = sns.barplot(x=both['cancer'], y=both['sig'], data=both, color='grey')\n",
    "plt.setp(o.get_xticklabels(),rotation=90)\n",
    "\n",
    "# Annotate count of sig genes above each bar\n",
    "for p in o.patches:\n",
    "    o.annotate('  {:.0f}'.format(p.get_height()), xy = (p.get_x()+0.3, p.get_height()),\n",
    "                    ha='center', va='bottom', color= 'black',size = 16)\n",
    "\n",
    "o.set(ylim=(0, 1800))\n",
    "o.set_xlabel('', size = 17)\n",
    "o.set_ylabel('Number of Significant Proteins', size = 20)\n",
    "o.get_xaxis().set_visible(False) # Hide x-axis\n",
    "o.yaxis.set_tick_params(labelsize=17)\n",
    "\n",
    "\n",
    "\n",
    "# Dumbell Plot\n",
    "# Create vertical dumbell plot using scatterplots\n",
    "plt.rcParams.update({'font.size': 17})\n",
    "d = plt.figure(figsize=(14.5,5))\n",
    "my_range=range(1,len(y_points_df.index)+1) #range count for x axis num\n",
    "d = plt.vlines(x=my_range, ymin=y_points_df['y1'], ymax=y_points_df['y2'], color='black', alpha=0.5) #vertical lines\n",
    "d = plt.vlines(x=my_range, ymin=y_points_df['y2'], ymax=y_points_df['y3'], color='black', alpha=0.5)\n",
    "d = plt.vlines(x=my_range, ymin=y_points_df['y3'], ymax=y_points_df['y4'], color='black', alpha=0.5)\n",
    "\n",
    "d = plt.scatter(my_range, y_points_df['y1'], color='black', alpha=1) #plots first point\n",
    "d = plt.scatter(my_range, y_points_df['y2'], color='black', alpha=1) # plots second point\n",
    "d = plt.scatter(my_range, y_points_df['y3'], color='black', alpha=1) # plots third point\n",
    "d = plt.scatter(my_range, y_points_df['y4'], color='black', alpha=1) # plots fourth point\n",
    "\n",
    "# Add title and axis names\n",
    "labels = list(y_points_df.index[:8]) # label 8 single cancer names y axis\n",
    "labels.reverse()\n",
    "plt.xticks(my_range, []) #none for x axis\n",
    "plt.yticks(range(0,8), labels) # single cancer names\n",
    "#plt.ylabel('Cancer')\n",
    "plt.xlabel('Cancer Overlaps')\n",
    "\n",
    "o.figure.savefig(\"Fig_5B_1.png\", dpi = 300)\n",
    "d.figure.savefig(\"Fig_5B_2.png\", dpi = 300)"
   ]
  },
  {
   "cell_type": "markdown",
   "metadata": {},
   "source": [
    "# Get total number of proteins significant in at least one cancer"
   ]
  },
  {
   "cell_type": "code",
   "execution_count": 17,
   "metadata": {},
   "outputs": [
    {
     "name": "stdout",
     "output_type": "stream",
     "text": [
      "Total significant proteins in at least one cancer: 2264\n"
     ]
    }
   ],
   "source": [
    "#Keep proteins that are significant in at least 1 cancer. \n",
    "total = all_df[all_df['Num_sig'].isin([1,2,3,4,5,6,7,8])]\n",
    "total_count = len(total.Umich_Proteomics.unique())\n",
    "print('Total significant proteins in at least one cancer:', total_count)"
   ]
  },
  {
   "cell_type": "markdown",
   "metadata": {},
   "source": [
    "# Calculate percentage of proteins significant in only one cancer"
   ]
  },
  {
   "cell_type": "code",
   "execution_count": 19,
   "metadata": {},
   "outputs": [
    {
     "name": "stdout",
     "output_type": "stream",
     "text": [
      "Significant proteins in only one cancer: 2027\n",
      "Percent: 89.53180212014135\n"
     ]
    }
   ],
   "source": [
    "#Keep proteins that are significant in 1 cancer. \n",
    "one = all_df[all_df['Num_sig'].isin([1])]\n",
    "one_count = len(one.Umich_Proteomics.unique())\n",
    "print('Significant proteins in only one cancer:', one_count)\n",
    "print('Percent:', one_count / total_count * 100)"
   ]
  },
  {
   "cell_type": "markdown",
   "metadata": {},
   "source": [
    "# Calculate percentage of proteins significant in multiple cancers"
   ]
  },
  {
   "cell_type": "code",
   "execution_count": 20,
   "metadata": {},
   "outputs": [
    {
     "name": "stdout",
     "output_type": "stream",
     "text": [
      "Significant proteins in multiple cancers: 235\n",
      "Percent: 10.379858657243817\n"
     ]
    }
   ],
   "source": [
    "#Keep proteins that are significant in multiple cancers. \n",
    "mult = all_df[all_df['Num_sig'].isin([2,3])]\n",
    "mult_count = len(mult.Umich_Proteomics.unique())\n",
    "print('Significant proteins in multiple cancers:', mult_count)\n",
    "print('Percent:', mult_count / total_count * 100)"
   ]
  },
  {
   "cell_type": "code",
   "execution_count": null,
   "metadata": {},
   "outputs": [],
   "source": []
  },
  {
   "cell_type": "code",
   "execution_count": 21,
   "metadata": {},
   "outputs": [
    {
     "name": "stdout",
     "output_type": "stream",
     "text": [
      "Significant proteins in 3 cancers: 16\n",
      "Percent: 0.7067137809187279\n"
     ]
    }
   ],
   "source": [
    "#Keep proteins that are significant in 3 cancers. \n",
    "three = all_df[all_df['Num_sig'].isin([3])]\n",
    "three_count = len(three.Umich_Proteomics.unique())\n",
    "print('Significant proteins in 3 cancers:', three_count)\n",
    "print('Percent:', three_count / total_count * 100)"
   ]
  },
  {
   "cell_type": "code",
   "execution_count": 22,
   "metadata": {},
   "outputs": [
    {
     "name": "stdout",
     "output_type": "stream",
     "text": [
      "Significant proteins in 4 cancers: 2\n",
      "Percent: 0.08833922261484099\n"
     ]
    }
   ],
   "source": [
    "#Keep proteins that are significant in 4 cancers. \n",
    "four = all_df[all_df['Num_sig'].isin([4])]\n",
    "four_count = len(four.Umich_Proteomics.unique())\n",
    "print('Significant proteins in 4 cancers:', four_count)\n",
    "print('Percent:', four_count / total_count * 100)"
   ]
  },
  {
   "cell_type": "code",
   "execution_count": null,
   "metadata": {},
   "outputs": [],
   "source": []
  }
 ],
 "metadata": {
  "kernelspec": {
   "display_name": "Python 3",
   "language": "python",
   "name": "python3"
  },
  "language_info": {
   "codemirror_mode": {
    "name": "ipython",
    "version": 3
   },
   "file_extension": ".py",
   "mimetype": "text/x-python",
   "name": "python",
   "nbconvert_exporter": "python",
   "pygments_lexer": "ipython3",
   "version": "3.8.8"
  }
 },
 "nbformat": 4,
 "nbformat_minor": 2
}
