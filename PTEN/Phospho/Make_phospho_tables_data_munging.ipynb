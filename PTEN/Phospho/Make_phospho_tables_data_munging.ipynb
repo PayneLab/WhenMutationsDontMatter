{
 "cells": [
  {
   "cell_type": "markdown",
   "metadata": {},
   "source": [
    "# Make tables: calculate p-values and differential expressions for each cancer "
   ]
  },
  {
   "cell_type": "markdown",
   "metadata": {},
   "source": [
    "Create a df with FDR p-value results for proteins in the MAPK signaling pathway (t-test of trans phosphoproteomics with KRAS hotspot compared to KRAS wildtype). The df also includes differential expressions. The three cancers with frequent hotspot mutations are included in the df (EC, CO, LUAD)."
   ]
  },
  {
   "cell_type": "code",
   "execution_count": 1,
   "metadata": {},
   "outputs": [],
   "source": [
    "import pandas as pd\n",
    "import numpy as np\n",
    "import scipy.stats\n",
    "import re\n",
    "\n",
    "import cptac\n",
    "import cptac.utils as u\n",
    "import plot_utils as p"
   ]
  },
  {
   "cell_type": "code",
   "execution_count": 2,
   "metadata": {},
   "outputs": [
    {
     "name": "stdout",
     "output_type": "stream",
     "text": [
      "cptac version: 0.8.6\n"
     ]
    }
   ],
   "source": [
    "print('cptac version:', cptac.version())"
   ]
  },
  {
   "cell_type": "code",
   "execution_count": 3,
   "metadata": {},
   "outputs": [],
   "source": [
    "import warnings\n",
    "warnings.filterwarnings('ignore')"
   ]
  },
  {
   "cell_type": "code",
   "execution_count": 48,
   "metadata": {},
   "outputs": [],
   "source": [
    "'''\n",
    "Params\n",
    "cancer_object: Object. The loaded cancer data set.\n",
    "all_prot: List. trans proteins used to get proteomics data. \n",
    "gene_in: String. Gene used to get mutation status for the Mutation col.\n",
    "utils: utils package from cptac.  \n",
    "\n",
    "Returns a dataframe with trans proteomics and mutation status of a specific gene.\n",
    "'''\n",
    "\n",
    "def phospho_format_df(cancer_object, all_prot, gene_in = 'PTEN', utils = u):\n",
    "    cancer_name = cancer_object.get_cancer_type()\n",
    "    \n",
    "    mut_type = cancer_object.get_genotype_all_vars(gene_in)\n",
    "    \n",
    "    if cancer_name not in ('luad', 'endometrial'):\n",
    "        # Keep only tumor samples from proteomics\n",
    "        prot_and_mutations = cancer_object.join_omics_to_mutations(\n",
    "            mutations_genes = [gene_in], omics_df_name = 'phosphoproteomics', omics_genes = all_prot, tissue_type = 'tumor')\n",
    "        # Reduce multiindex \n",
    "        if cancer_name not in ('colon'):\n",
    "            prot_and_mutations = utils.reduce_multiindex(prot_and_mutations, levels_to_drop = [2,3], flatten = True) # multi cols: gene, site, peptide, database_ID\n",
    "        else: \n",
    "            prot_and_mutations = utils.reduce_multiindex(prot_and_mutations, levels_to_drop = [2], flatten = True)\n",
    "        prot_and_mutations = rename_duplicate_cols(prot_and_mutations)\n",
    "        \n",
    "        # Merge Mutation column from get_genotype_all_vars (includes cnv) with proteomics\n",
    "        mut_type = mut_type[['Mutation']] \n",
    "        prot_df = prot_and_mutations.iloc[:,:-4] # Keep only proteomics\n",
    "        merged = prot_df.join(mut_type)\n",
    "        \n",
    "        # Keep only Wildtype and deletion\n",
    "        compare = ['Wildtype_Tumor','Deletion']\n",
    "        get = merged['Mutation'].isin(compare)\n",
    "        mut_wt = merged[get]\n",
    "    \n",
    "    \n",
    "    # Luad has no somatic mutations for PTEN which changes some things\n",
    "    elif cancer_object.get_cancer_type() in ('luad'): \n",
    "        # get_genotype_all_vars add cnv data under the column PTEN\n",
    "        mut_type = mut_type.drop(columns= gene_in)\n",
    "        # different code because no somatic mutation data for pten (can't join to somatic mutations)\n",
    "        omics = cancer_object.join_omics_to_omics(df1_name = 'CNV', df2_name='phosphoproteomics',genes1= gene_in, \n",
    "            genes2= all_prot, tissue_type = 'tumor')\n",
    "        omics = utils.reduce_multiindex(omics, levels_to_drop = [2,3], flatten = True) # luad multi: gene, site, number\n",
    "        omics = rename_duplicate_cols(omics)\n",
    "        omics = omics.drop(columns='PTEN_CNV')\n",
    "       \n",
    "        # Merge Mutation column from get_genotype_all_vars (includes cnv) with proteomics\n",
    "        merged = omics.join(mut_type) \n",
    "        # Keep only No_Mutation (wildtype) and deletion\n",
    "        compare = ['No_Mutation','Deletion']\n",
    "        get = merged['Mutation'].isin(compare)\n",
    "        mut_wt = merged[get]\n",
    "        mut_wt['Mutation'] = np.where(\n",
    "            mut_wt['Mutation'] == 'No_Mutation', 'Wildtype_Tumor', 'Deletion')\n",
    "        \n",
    "    elif cancer_object.get_cancer_type() in ('endometrial'):\n",
    "        # merge cnv with genotype all mut type\n",
    "        prot_and_mutations = cancer_object.join_omics_to_mutations(mutations_genes = [gene_in], \n",
    "                    omics_df_name = 'phosphoproteomics', omics_genes = all_prot, tissue_type = 'tumor') # drop Normal samples\n",
    "        prot_and_mutations = utils.reduce_multiindex(prot_and_mutations, flatten = True) # endo multi: gene, site\n",
    "        \n",
    "        prot_df = prot_and_mutations.iloc[:,:-4] #drop Mutation and Location cols\n",
    "        mut_type = mut_type[['Mutation']] # Get Mutation col that includes CNV\n",
    "        merged = prot_df.join(mut_type) # merge \n",
    "\n",
    "        # Create Truncation category and keep truncation and wt\n",
    "        compare = ['Wildtype_Tumor','Nonsense_Mutation','Frame_Shift_Ins','Frame_Shift_Del']\n",
    "        get = merged['Mutation'].isin(compare)\n",
    "        mut_wt = merged[get]\n",
    "        mut_wt['Mutation'] = np.where(\n",
    "                        mut_wt['Mutation'] == 'Wildtype_Tumor', 'Wildtype_Tumor', 'Truncation')\n",
    "    \n",
    "    mut_wt = mut_wt.rename(columns={col: re.sub(r'_phosphoproteomics', '', col) for col in mut_wt.columns.tolist()})\n",
    "    return mut_wt\n"
   ]
  },
  {
   "cell_type": "code",
   "execution_count": 51,
   "metadata": {},
   "outputs": [],
   "source": [
    "'''\n",
    "Params\n",
    "cancer_object: Object. Variable for the loaded cancer data set.\n",
    "cancer_name: Str. name to add to the created dataframe.\n",
    "del_wt_df: DataFrame. Formatted df with samples with PTEN los or wt.\n",
    "all_prot_list: List. All proteins in proteomics data frame. \n",
    "\n",
    "Returns a df with differential expression for phosphoproteomics (PTEN loss - wt). \n",
    "A pos value represents an increase in phosphorylation abundance with mutant PTEN. \n",
    "A neg value represents an decrease in phosphorylation abundance with mutant PTEN.\n",
    "'''\n",
    "\n",
    "def get_change_in_medians_df(cancer_object, cancer_name, del_wt_df, all_prot_list):\n",
    "    if  cancer_object.get_cancer_type() in ('endometrial'):\n",
    "        d = del_wt_df[del_wt_df.Mutation == \"Truncation\"]\n",
    "        wt = del_wt_df[del_wt_df.Mutation == \"Wildtype_Tumor\"]\n",
    "    else:\n",
    "        d = del_wt_df[del_wt_df.Mutation == \"Deletion\"]\n",
    "        wt = del_wt_df[del_wt_df.Mutation == \"Wildtype_Tumor\"]\n",
    "    del_med = d.median()\n",
    "    wt_med = wt.median()\n",
    "\n",
    "    med_dict = {}\n",
    "    \n",
    "    # + is mutant up compared to wt, - is mutant down\n",
    "    for site in all_prot_list:\n",
    "        if site in del_med.index and site in wt_med.index:\n",
    "            dif = del_med[site] - wt_med[site]\n",
    "            med_dict[site] = dif\n",
    "        \n",
    "    df = pd.DataFrame.from_dict(med_dict, orient='index', columns=[cancer_name+'_Median'])\n",
    "    df = df.reset_index().rename(columns={'index':'Phospho'})\n",
    "    \n",
    "    return df"
   ]
  },
  {
   "cell_type": "code",
   "execution_count": 32,
   "metadata": {},
   "outputs": [],
   "source": [
    "''' Adds '_i' to duplicate col names where the int i increases by one with each duplicate\n",
    "Returns a df with unique column names. '''\n",
    "\n",
    "def rename_duplicate_cols(df):\n",
    "    cols = pd.Series(df.columns[:])\n",
    "\n",
    "    for dup in cols[cols.duplicated()].unique(): \n",
    "        cols[cols[cols == dup].index.values.tolist()] = [dup + '_' + str(i) if i != 0 else dup for i in range(sum(cols == dup))]\n",
    "\n",
    "    # rename the columns with the cols list.\n",
    "    df.columns=cols\n",
    "    return df"
   ]
  },
  {
   "cell_type": "code",
   "execution_count": 7,
   "metadata": {},
   "outputs": [],
   "source": [
    "'''\n",
    "df: DataFrame containing omics data and a binary column.\n",
    "mincount: Int of the minimum num of actual values needed to pass cutoff and not be listed in not_enough_data list. \n",
    "omics_cols: Names of columns to check if there is enough data. \n",
    "\n",
    "Returns: List of genes with not enough data (num of non-NaN values are less than mincount).\n",
    "'''\n",
    "\n",
    "def find_few_data_genes(df, mincount, omics_cols = None, binary_labels = ('Missense','Wildtype_Tumor'), \n",
    "    binary_col = 'Mutation', gene = 'KRAS'):\n",
    "    \n",
    "    # Separate into binary groups\n",
    "    label_1 = binary_labels[0]\n",
    "    label_2 = binary_labels[1]\n",
    "    partition1 = df.loc[df[binary_col] == label_1]\n",
    "    partition2 = df.loc[df[binary_col] == label_2]\n",
    "    \n",
    "    # Get list of columns\n",
    "    if omics_cols is None:\n",
    "        omics_cols = list(df.columns)\n",
    "        omics_cols.remove(binary_col)\n",
    "    else:\n",
    "        set_omics_cols = set(omics_cols)\n",
    "        if binary_col in (set_omics_cols):\n",
    "            omics_cols.remove(binary_col)\n",
    "        \n",
    "    # Append genes with less data than mincount (for mut or wt) to list\n",
    "    not_enough_data = []\n",
    "    for c in omics_cols:\n",
    "        #print(len(partition1[c].dropna(axis='rows')))\n",
    "        #print(len(partition2[c].dropna(axis='rows')))\n",
    "        if len(partition1[c].dropna(axis='rows')) <= mincount: #non-nan vals less than min\n",
    "            not_enough_data.append(c)\n",
    "            continue\n",
    "        elif len(partition2[c].dropna(axis='rows')) <= mincount:\n",
    "            not_enough_data.append(c)\n",
    "            continue\n",
    "        \n",
    "    \n",
    "    print('Num genes with not enough data: ', len(not_enough_data), '/', len(omics_cols))        \n",
    "    return not_enough_data"
   ]
  },
  {
   "cell_type": "markdown",
   "metadata": {},
   "source": [
    "#  Step 1: Create data frames with p-values and differential expressions"
   ]
  },
  {
   "cell_type": "markdown",
   "metadata": {},
   "source": [
    "Each cancer needs a data frame containing only samples that have PTEN cnv deletions and PTEN wildtype with trans proteomics. Use wrap_ttest to run t-tests for all genes in the proteomic data frame. Use get_change_in_medians_df to create the data frame with differential expression values. Merge both data frames. "
   ]
  },
  {
   "cell_type": "markdown",
   "metadata": {},
   "source": [
    "Load in cancer data sets from cptac. "
   ]
  },
  {
   "cell_type": "code",
   "execution_count": 5,
   "metadata": {},
   "outputs": [
    {
     "name": "stdout",
     "output_type": "stream",
     "text": [
      "                                                \r"
     ]
    }
   ],
   "source": [
    "g = cptac.Gbm()\n",
    "en = cptac.Endometrial()\n",
    "h = cptac.Hnscc()\n",
    "l = cptac.Luad()\n",
    "ls = cptac.Lscc()\n",
    "o = cptac.Ovarian()\n",
    "col = cptac.Colon()\n",
    "b = cptac.Brca()"
   ]
  },
  {
   "cell_type": "code",
   "execution_count": 70,
   "metadata": {},
   "outputs": [
    {
     "name": "stdout",
     "output_type": "stream",
     "text": [
      "Num interacting proteins: 337\n"
     ]
    }
   ],
   "source": [
    "# Get PIK3CA/AKT pathway proteins\n",
    "prot = u.get_proteins_in_pathways('PI3K-Akt Signaling Pathway', 'wikipathways')\n",
    "prot_list = list(prot.member)\n",
    "prot_list.remove('PTEN')\n",
    "print('Num interacting proteins:', len(prot_list))"
   ]
  },
  {
   "cell_type": "markdown",
   "metadata": {},
   "source": [
    "# Calculate p-values and differential expressions"
   ]
  },
  {
   "cell_type": "code",
   "execution_count": 36,
   "metadata": {},
   "outputs": [],
   "source": [
    "cancer_objects = {'GBM': g, 'HNSCC':h, 'LUAD':l, 'OV':o, 'EC': en, 'LSCC':ls, 'BR':b, 'CO':col}"
   ]
  },
  {
   "cell_type": "code",
   "execution_count": 74,
   "metadata": {},
   "outputs": [
    {
     "name": "stdout",
     "output_type": "stream",
     "text": [
      "\n",
      " GBM\n",
      "cols tested:  2074\n",
      "Num sig results: 8\n",
      "                 Phospho  GBM_P_Value  GBM_Median\n",
      "0            SPP1_S276_1     0.008291   -1.622130\n",
      "1             BRCA1_S114     0.010892    1.109838\n",
      "2  BRCA1_S1187S1189S1191     0.010892    0.655312\n",
      "3            BRCA1_S1481     0.046117    0.498223\n",
      "4       ITGB4_S1454S1457     0.046117    0.373828 \n",
      "\n",
      "\n",
      " HNSCC\n",
      "cols tested:  1176\n",
      "Num sig results: 0\n",
      "          Phospho  HNSCC_P_Value  HNSCC_Median\n",
      "0     BRCA1_S1524       0.070982      0.879135\n",
      "1  MAPK3_T202Y204       0.161509     -0.582324\n",
      "2    COL6A3_S1783       0.161509     -0.942868\n",
      "3      EIF4B_S309       0.161509     -0.451019\n",
      "4      BRCA1_S632       0.161509      0.330176 \n",
      "\n",
      "\n",
      " LUAD\n",
      "cols tested:  676\n",
      "Num sig results: 8\n",
      "       Phospho  LUAD_P_Value  LUAD_Median\n",
      "0   EGFR_Y1197      0.025553      2.12725\n",
      "1   EGFR_S1064      0.025553      2.82820\n",
      "2  PIK3R5_S507      0.025553     -0.98655\n",
      "3    EGFR_T693      0.025553      1.65610\n",
      "4   EGFR_Y1172      0.029921      2.66920 \n",
      "\n",
      "\n",
      " OV\n",
      "cols tested:  2442\n",
      "Num sig results: 0\n",
      "        Phospho  OV_P_Value  OV_Median\n",
      "0  IKBKG_S455_2    0.730674     0.7080\n",
      "1     BAD_S99_1    0.730674     0.6655\n",
      "2   TSC1_S505_1    0.730674     0.6985\n",
      "3   TSC1_S505_2    0.730674     0.6985\n",
      "4   MAP2K2_T394    0.730674     0.6710 \n",
      "\n",
      "\n",
      " EC\n",
      "cols tested:  1235\n",
      "Num sig results: 2\n",
      "        Phospho  EC_P_Value  EC_Median\n",
      "0     FOXO3_S43    0.017044   -0.58475\n",
      "1      BAD_S134    0.017044    0.44600\n",
      "2       BAD_S25    0.129665    0.36250\n",
      "3  PIK3AP1_S642    0.129665   -1.24670\n",
      "4      AKT2_S34    0.129665    0.68850 \n",
      "\n",
      "\n",
      " LSCC\n",
      "cols tested:  731\n",
      "Num sig results: 0\n",
      "         Phospho  LSCC_P_Value  LSCC_Median\n",
      "0      IRS1_S629      0.155299     -0.55235\n",
      "1     IKBKG_S455      0.155299     -0.42540\n",
      "2  RBL2_S982T986      0.155299     -0.44900\n",
      "3    COL6A2_S434      0.155299     -0.60480\n",
      "4    CDKN1B_S112      0.155299     -1.12460 \n",
      "\n",
      "\n",
      " BR\n",
      "cols tested:  632\n",
      "Num sig results: 0\n",
      "        Phospho  BR_P_Value  BR_Median\n",
      "0    EIF4E2_S13    0.485319   -0.38975\n",
      "1    SOS2_S1299    0.485319   -0.45760\n",
      "2    SOS1_S1167    0.485319    0.22550\n",
      "3  CREB3L1_S244    0.485319    0.60815\n",
      "4    EGFR_S1064    0.485319    2.42760 \n",
      "\n",
      "\n",
      " CO\n",
      "cols tested:  614\n",
      "Num sig results: 0\n",
      "       Phospho  CO_P_Value  CO_Median\n",
      "0    AKT1_S124    0.971787     0.1870\n",
      "1    PKN1_T774    0.971787    -0.0760\n",
      "2    PKN1_S916    0.971787     0.2375\n",
      "3     PKN1_S69    0.971787     0.0795\n",
      "4  PIK3R2_S263    0.971787    -0.0890 \n",
      "\n"
     ]
    }
   ],
   "source": [
    "gene = 'PTEN'\n",
    "merged_dfs = {}\n",
    "    \n",
    "for cancer in cancer_objects:\n",
    "    print('\\n',cancer)\n",
    "    \n",
    "    # Format df for t-test\n",
    "    mut_wt = phospho_format_df(cancer_objects[cancer], prot_list)\n",
    "    mut_wt = mut_wt.dropna(axis = 'columns', how = 'all') #drop cols with only nan\n",
    "    \n",
    "    # T-test\n",
    "    cols_in = list(mut_wt.columns[:-2])\n",
    "    print('cols tested: ', len(cols_in))\n",
    "    \n",
    "    # Get all pvals\n",
    "    min_num = 5\n",
    "    all_pval = u.wrap_ttest(mut_wt, 'Mutation', cols_in, return_all = True, correction_method = 'fdr_bh', mincount = min_num)\n",
    "    all_pval = all_pval.rename(columns = {'Comparison': 'Phospho','P_Value': cancer+'_P_Value'})\n",
    "    sig = all_pval.loc[all_pval[cancer+'_P_Value'] < 0.05]\n",
    "    print('Num sig results:', len(sig))\n",
    "    \n",
    "    \n",
    "    # Get difference in medians\n",
    "    delta_median_df = get_change_in_medians_df(cancer_objects[cancer], cancer, mut_wt, cols_in)\n",
    "\n",
    "    # Merge pval_df and delta_median_df\n",
    "    pval_medians_df = all_pval.merge(delta_median_df, on='Phospho', how='outer')\n",
    "    pval_medians_df = pval_medians_df.replace(to_replace = r'_phosphoproteomics', value = '', regex = True)\n",
    "    merged_dfs[cancer] = pval_medians_df # testing purposes\n",
    "    \n",
    "    # Create csv\n",
    "    #pval_medians_df.to_csv('csv/Single_Cancer/'+cancer+'_phospho.csv', index=False)\n",
    "    print(pval_medians_df.head(), '\\n')"
   ]
  },
  {
   "cell_type": "markdown",
   "metadata": {},
   "source": [
    "# Get number of significant genes in each cancer"
   ]
  },
  {
   "cell_type": "code",
   "execution_count": 75,
   "metadata": {},
   "outputs": [
    {
     "name": "stdout",
     "output_type": "stream",
     "text": [
      "GBM sig comparisons: 8\n",
      "HNSCC sig comparisons: 0\n",
      "LUAD sig comparisons: 8\n",
      "OV sig comparisons: 0\n",
      "EC sig comparisons: 2\n",
      "LSCC sig comparisons: 0\n",
      "BR sig comparisons: 0\n",
      "CO sig comparisons: 0\n",
      "\n",
      "Number of significant comparisons in at least 1 cancer: 18\n"
     ]
    }
   ],
   "source": [
    "# Using corrected pvals from wrap_ttest, each cancer's cutoff is 0.05\n",
    "all_sig = []\n",
    "\n",
    "for cancer in merged_dfs:\n",
    "    df = merged_dfs[cancer]\n",
    "    sig_df = df.loc[df[cancer+'_P_Value'] < 0.05]\n",
    "    print(cancer, 'sig comparisons:', len(sig_df))\n",
    "    #print(sig_df)\n",
    "    sig_list = list(sig_df['Phospho'])\n",
    "    all_sig.append(sig_list)\n",
    "        \n",
    "\n",
    "flat_list = [item for sublist in all_sig for item in sublist] #change list of lists, to just one list\n",
    "sig = list(set(flat_list)) # keep only one if gene in multiple cancer sig lists\n",
    "print('\\nNumber of significant comparisons in at least 1 cancer:', len(sig))"
   ]
  },
  {
   "cell_type": "code",
   "execution_count": 76,
   "metadata": {
    "scrolled": true
   },
   "outputs": [
    {
     "name": "stdout",
     "output_type": "stream",
     "text": [
      "GBM sig comparisons: 25\n",
      "HNSCC sig comparisons: 1\n",
      "LUAD sig comparisons: 12\n",
      "OV sig comparisons: 0\n",
      "EC sig comparisons: 2\n",
      "LSCC sig comparisons: 0\n",
      "BR sig comparisons: 0\n",
      "CO sig comparisons: 0\n",
      "\n",
      "Number of significant comparisons in at least 1 cancer: 38\n"
     ]
    }
   ],
   "source": [
    "# Using corrected pvals from wrap_ttest, each cancer's cutoff is 0.1\n",
    "all_sig = []\n",
    "\n",
    "for cancer in merged_dfs:\n",
    "    df = merged_dfs[cancer]\n",
    "    sig_df = df.loc[df[cancer+'_P_Value'] < 0.1]\n",
    "    print(cancer, 'sig comparisons:', len(sig_df))\n",
    "    #print(sig_df)\n",
    "    sig_list = list(sig_df['Phospho'])\n",
    "    all_sig.append(sig_list)\n",
    "        \n",
    "\n",
    "flat_list = [item for sublist in all_sig for item in sublist] #change list of lists, to just one list\n",
    "sig = list(set(flat_list)) # keep only one if gene in multiple cancer sig lists\n",
    "print('\\nNumber of significant comparisons in at least 1 cancer:', len(sig))"
   ]
  },
  {
   "cell_type": "code",
   "execution_count": 91,
   "metadata": {},
   "outputs": [
    {
     "name": "stdout",
     "output_type": "stream",
     "text": [
      "Shared sites: 2\n"
     ]
    },
    {
     "data": {
      "text/plain": [
       "['EGFR_S1064', 'PIK3R1_S83']"
      ]
     },
     "execution_count": 91,
     "metadata": {},
     "output_type": "execute_result"
    }
   ],
   "source": [
    "# Find common sites\n",
    "\n",
    "cancer_1 = 'GBM'\n",
    "cancer_2 = 'LUAD'\n",
    "a = 0.1\n",
    "\n",
    "c1_df = merged_dfs[cancer_1]\n",
    "c1_sig = c1_df.loc[c1_df[cancer_1+'_P_Value'] < a]\n",
    "c1_list = list(c1_sig.Phospho)\n",
    "\n",
    "c2_df = merged_dfs[cancer_2]\n",
    "c2_sig = c2_df.loc[c2_df[cancer_2+'_P_Value'] < a]\n",
    "c2_list = list(c2_sig.Phospho)\n",
    "\n",
    "both = [value for value in c1_list if value in c2_list]\n",
    "print('Shared sites:', len(both))\n",
    "both"
   ]
  },
  {
   "cell_type": "markdown",
   "metadata": {},
   "source": [
    "# Get a list of significant genes in at least one cancer"
   ]
  },
  {
   "cell_type": "code",
   "execution_count": 14,
   "metadata": {},
   "outputs": [
    {
     "name": "stdout",
     "output_type": "stream",
     "text": [
      "Number of significant genes in at least one cancer: 62\n"
     ]
    }
   ],
   "source": [
    "s = pd.Series(sig)\n",
    "print('Number of significant genes in at least one cancer:', len(s))\n",
    "s.to_csv('csv/list_sig_one_cancer_phospho.csv', index=False)"
   ]
  },
  {
   "cell_type": "markdown",
   "metadata": {},
   "source": [
    "# Get a list of significant genes in multiple cancers"
   ]
  },
  {
   "cell_type": "code",
   "execution_count": 15,
   "metadata": {},
   "outputs": [
    {
     "name": "stdout",
     "output_type": "stream",
     "text": [
      "Number of significant genes in mult cancers: 4\n"
     ]
    }
   ],
   "source": [
    "# sig in multiple cancers\n",
    "mult = list(set(i for i in flat_list if flat_list.count(i) > 1)) # Keep genes sig in more than 1 cancer\n",
    "print('Number of significant genes in mult cancers:', len(mult))"
   ]
  },
  {
   "cell_type": "code",
   "execution_count": 16,
   "metadata": {},
   "outputs": [],
   "source": [
    "m = pd.Series(mult)\n",
    "m = m.replace(to_replace = r'_phosphoproteomics$', value = '', regex = True)\n",
    "m.to_csv('csv/list_sig_mult_cancers_phospho.csv', index=False)"
   ]
  },
  {
   "cell_type": "code",
   "execution_count": null,
   "metadata": {},
   "outputs": [],
   "source": []
  }
 ],
 "metadata": {
  "kernelspec": {
   "display_name": "Python 3",
   "language": "python",
   "name": "python3"
  },
  "language_info": {
   "codemirror_mode": {
    "name": "ipython",
    "version": 3
   },
   "file_extension": ".py",
   "mimetype": "text/x-python",
   "name": "python",
   "nbconvert_exporter": "python",
   "pygments_lexer": "ipython3",
   "version": "3.7.3"
  }
 },
 "nbformat": 4,
 "nbformat_minor": 2
}
