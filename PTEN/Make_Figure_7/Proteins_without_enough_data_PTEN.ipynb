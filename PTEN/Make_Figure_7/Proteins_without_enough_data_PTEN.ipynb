{
 "cells": [
  {
   "cell_type": "markdown",
   "metadata": {},
   "source": [
    "# Find immune proteins without enough data for a t-test"
   ]
  },
  {
   "cell_type": "code",
   "execution_count": 1,
   "metadata": {},
   "outputs": [],
   "source": [
    "import pandas as pd\n",
    "import numpy as np\n",
    "import re\n",
    "\n",
    "import cptac\n",
    "import cptac.utils as u\n",
    "import plot_utils as p"
   ]
  },
  {
   "cell_type": "code",
   "execution_count": 2,
   "metadata": {},
   "outputs": [
    {
     "name": "stdout",
     "output_type": "stream",
     "text": [
      "cptac version: 0.8.5\n"
     ]
    }
   ],
   "source": [
    "print('cptac version:', cptac.version())"
   ]
  },
  {
   "cell_type": "code",
   "execution_count": 3,
   "metadata": {},
   "outputs": [],
   "source": [
    "import warnings\n",
    "warnings.filterwarnings('ignore')"
   ]
  },
  {
   "cell_type": "code",
   "execution_count": 4,
   "metadata": {},
   "outputs": [],
   "source": [
    "'''\n",
    "Params\n",
    "cancer_object: Object of the loaded cancer data set.\n",
    "all_prot: List of trans proteins used to get proteomics data. \n",
    "gene_in: String. Gene used to get mutation status for the Mutation col.\n",
    "utils: utils package from cptac.  \n",
    "\n",
    "Returns a dataframe with trans proteomics and mutation status of a specific gene.\n",
    "'''\n",
    "\n",
    "def all_prot_format_df(cancer_object, all_prot, gene_in = 'PTEN', utils = u):\n",
    "    mut_type = cancer_object.get_genotype_all_vars(gene_in)\n",
    "    \n",
    "    if cancer_object.get_cancer_type() not in ('luad', 'endometrial'):\n",
    "        # Keep only tumor samples from proteomics\n",
    "        prot_and_mutations = cancer_object.join_omics_to_mutations(\n",
    "            mutations_genes = [gene_in], omics_df_name = 'proteomics', omics_genes = all_prot, tissue_type = 'tumor')\n",
    "        # Reduce a multiindex \n",
    "        if isinstance(prot_and_mutations.keys(), pd.core.indexes.multi.MultiIndex):\n",
    "            prot_and_mutations = utils.reduce_multiindex(prot_and_mutations, levels_to_drop = 1)\n",
    "            prot_and_mutations = rename_duplicate_cols(prot_and_mutations)\n",
    "        \n",
    "        # Merge Mutation column from get_genotype_all_vars (includes cnv) with proteomics\n",
    "        mut_type = mut_type[['Mutation']] \n",
    "        prot_df = prot_and_mutations.iloc[:,:-4] # Keep only proteomics\n",
    "        merged = prot_df.join(mut_type)\n",
    "        \n",
    "        # Keep only Wildtype and deletion\n",
    "        compare = ['Wildtype_Tumor','Deletion']\n",
    "        get = merged['Mutation'].isin(compare)\n",
    "        mut_wt = merged[get]\n",
    "    \n",
    "    \n",
    "    # Luad has no somatic mutations for PTEN which changes some things\n",
    "    elif cancer_object.get_cancer_type() in ('luad'): \n",
    "        # get_genotype_all_vars add cnv data under the column PTEN\n",
    "        mut_type = mut_type.drop(columns= gene_in)\n",
    "        # different code because no somatic mutation data for pten (can't join to somatic mutations)\n",
    "        omics = cancer_object.join_omics_to_omics(df1_name = 'CNV', df2_name='proteomics',genes1= gene_in, \n",
    "            genes2= all_prot, tissue_type = 'tumor')\n",
    "        omics = utils.reduce_multiindex(omics, levels_to_drop = 1, flatten = True)\n",
    "        omics = rename_duplicate_cols(omics)\n",
    "        omics = omics.drop(columns='PTEN_CNV')\n",
    "       \n",
    "        # Merge Mutation column from get_genotype_all_vars (includes cnv) with proteomics\n",
    "        merged = omics.join(mut_type) \n",
    "        # Keep only No_Mutation (wildtype) and deletion\n",
    "        compare = ['No_Mutation','Deletion']\n",
    "        get = merged['Mutation'].isin(compare)\n",
    "        mut_wt = merged[get]\n",
    "        mut_wt['Mutation'] = np.where(\n",
    "            mut_wt['Mutation'] == 'No_Mutation', 'Wildtype_Tumor', 'Deletion')\n",
    "        \n",
    "    elif cancer_object.get_cancer_type() in ('endometrial'):\n",
    "\n",
    "        # merge cnv with genotype all mut type\n",
    "        prot_and_mutations = cancer_object.join_omics_to_mutations(\n",
    "            mutations_genes = [gene], omics_df_name = 'proteomics', omics_genes = all_prot, tissue_type = 'tumor') # drop Normal samples\n",
    "\n",
    "        prot_df = prot_and_mutations.iloc[:,:-4] #drop Mutation and Location cols\n",
    "        mut_type = mut_type[['Mutation']] # Get Mutation col that includes CNV\n",
    "        merged = prot_df.join(mut_type) # merge \n",
    "\n",
    "        # Create Truncation category and keep truncation and wt\n",
    "        compare = ['Wildtype_Tumor','Nonsense_Mutation','Frame_Shift_Ins','Frame_Shift_Del']\n",
    "        get = merged['Mutation'].isin(compare)\n",
    "        mut_wt = merged[get]\n",
    "        mut_wt['Mutation'] = np.where(\n",
    "                        mut_wt['Mutation'] == 'Wildtype_Tumor', 'Wildtype_Tumor', 'Truncation')\n",
    "    \n",
    "    mut_wt = mut_wt.rename(columns={col: re.sub(r'_proteomics', '', col) for col in mut_wt.columns.tolist()})\n",
    "    return mut_wt\n"
   ]
  },
  {
   "cell_type": "code",
   "execution_count": 5,
   "metadata": {},
   "outputs": [],
   "source": [
    "''' Adds '_i' to duplicate col names where the int i increases by one with each duplicate\n",
    "Returns a df with unique column names. '''\n",
    "\n",
    "def rename_duplicate_cols(df):\n",
    "    cols = pd.Series(df.columns[:])\n",
    "\n",
    "    for dup in cols[cols.duplicated()].unique(): \n",
    "        cols[cols[cols == dup].index.values.tolist()] = [dup + '_' + str(i) if i != 0 else dup for i in range(sum(cols == dup))]\n",
    "\n",
    "    # rename the columns with the cols list.\n",
    "    df.columns=cols\n",
    "    return df"
   ]
  },
  {
   "cell_type": "code",
   "execution_count": 6,
   "metadata": {},
   "outputs": [],
   "source": [
    "'''\n",
    "df: DataFrame containing omics data and a binary column.\n",
    "mincount: Int of the minimum num of actual values needed to pass cutoff and not be listed in not_enough_data list. \n",
    "omics_cols: Names of columns to check if there is enough data. \n",
    "\n",
    "Returns: List of genes with not enough data (num of non-NaN values are less than mincount).\n",
    "'''\n",
    "\n",
    "def find_few_data_genes(df, mincount, omics_cols = None, binary_labels = ('Deletion','Wildtype_Tumor'), \n",
    "    binary_col = 'Mutation'):\n",
    "    \n",
    "    # Separate into binary groups\n",
    "    label_1 = binary_labels[0]\n",
    "    label_2 = binary_labels[1]\n",
    "    partition1 = df.loc[df[binary_col] == label_1]\n",
    "    partition2 = df.loc[df[binary_col] == label_2]\n",
    "    \n",
    "    # Get list of columns\n",
    "    if omics_cols is None:\n",
    "        omics_cols = list(df.columns)\n",
    "        omics_cols.remove(binary_col)\n",
    "    else:\n",
    "        omics_cols = set(omics_cols)\n",
    "        if binary_col in (omics_cols):\n",
    "            omics_cols.remove(binary_col)\n",
    "        \n",
    "    # Append genes with less data than mincount (for mut or wt) to list\n",
    "    not_enough_data = []\n",
    "    for c in omics_cols:\n",
    "        #print(len(partition1[c].dropna(axis='rows')))\n",
    "        #print(len(partition2[c].dropna(axis='rows')))\n",
    "        if len(partition1[c].dropna(axis='rows')) <= mincount: #non-nan vals less than min\n",
    "            not_enough_data.append(c)\n",
    "            continue\n",
    "        elif len(partition2[c].dropna(axis='rows')) <= mincount:\n",
    "            not_enough_data.append(c)\n",
    "            continue\n",
    "        \n",
    "    \n",
    "    print('genes with not enough data: ', len(not_enough_data), '/', len(omics_cols))        \n",
    "    return not_enough_data"
   ]
  },
  {
   "cell_type": "markdown",
   "metadata": {},
   "source": [
    "Load cancer data sets."
   ]
  },
  {
   "cell_type": "code",
   "execution_count": 7,
   "metadata": {},
   "outputs": [
    {
     "name": "stdout",
     "output_type": "stream",
     "text": [
      "                                                \r"
     ]
    }
   ],
   "source": [
    "g = cptac.Gbm()\n",
    "en = cptac.Endometrial()\n",
    "h = cptac.Hnscc()\n",
    "l = cptac.Luad()\n",
    "ls = cptac.Lscc()\n",
    "o = cptac.Ovarian()\n",
    "col = cptac.Colon()\n",
    "b = cptac.Brca()"
   ]
  },
  {
   "cell_type": "markdown",
   "metadata": {},
   "source": [
    "# Step 1: Find proteins without enough data to do a t-test"
   ]
  },
  {
   "cell_type": "markdown",
   "metadata": {},
   "source": [
    "Use the function find_few_data_genes to find genes with less than 5 nonNaN measurements in sample groups of PTEN deletion or PTEN wt."
   ]
  },
  {
   "cell_type": "code",
   "execution_count": 8,
   "metadata": {},
   "outputs": [],
   "source": [
    "cancer_obj = {'EC':en, 'CO':col, 'LUAD':l, 'LSCC': ls, 'GBM': g, 'OV': o, 'BR': b, 'HNSCC': h}"
   ]
  },
  {
   "cell_type": "code",
   "execution_count": 10,
   "metadata": {},
   "outputs": [
    {
     "data": {
      "text/plain": [
       "27"
      ]
     },
     "execution_count": 10,
     "metadata": {},
     "output_type": "execute_result"
    }
   ],
   "source": [
    "# ordered and grouped proteins\n",
    "immune_pten = ['BTK', 'BLNK', 'CD2', 'CD4', 'CD5', 'DOCK2', 'ELMO1', 'FYB1', 'GRB2', 'INPP5D', 'LCK', \n",
    "               'NFATC2', 'NFKB2', 'PIK3CD', 'PIK3CG', 'PLCG1', 'PLCG2', 'PRKCB', 'PRKCQ', 'PTPRC',\n",
    "               'RAC2', 'SYK', 'VAV1', 'WAS', 'ZAP70', 'PRKCB', 'CHUK']\n",
    "len(immune_pten)"
   ]
  },
  {
   "cell_type": "code",
   "execution_count": 11,
   "metadata": {},
   "outputs": [
    {
     "name": "stdout",
     "output_type": "stream",
     "text": [
      "EC\n",
      "genes with not enough data:  0 / 26\n",
      "CO\n",
      "genes with not enough data:  5 / 26\n",
      "LUAD\n",
      "genes with not enough data:  0 / 26\n",
      "LSCC\n",
      "genes with not enough data:  0 / 26\n",
      "GBM\n",
      "genes with not enough data:  2 / 26\n",
      "OV\n",
      "genes with not enough data:  2 / 26\n",
      "BR\n",
      "genes with not enough data:  1 / 26\n",
      "HNSCC\n",
      "genes with not enough data:  0 / 26\n"
     ]
    }
   ],
   "source": [
    "mincount = 5\n",
    "gene = 'PTEN'\n",
    "prot_list = immune_pten\n",
    "\n",
    "few_data_prot = {}\n",
    "for c in cancer_obj:\n",
    "    print(c)\n",
    "    mut_wt = all_prot_format_df(cancer_obj[c], prot_list)\n",
    "    if cancer_obj[c].get_cancer_type() in ('endometrial'):\n",
    "        labels = ('Truncation', 'Wildtype_Tumor')\n",
    "    else:\n",
    "        labels = ('Deletion', 'Wildtype_Tumor')\n",
    "    nd_list = find_few_data_genes(mut_wt, mincount, omics_cols = prot_list, binary_labels = labels)\n",
    "    few_data_prot[c] = nd_list"
   ]
  },
  {
   "cell_type": "code",
   "execution_count": 12,
   "metadata": {},
   "outputs": [
    {
     "data": {
      "text/plain": [
       "{'EC': [],\n",
       " 'CO': ['PRKCQ', 'FYB1', 'BLNK', 'PIK3CD', 'PIK3CG'],\n",
       " 'LUAD': [],\n",
       " 'LSCC': [],\n",
       " 'GBM': ['LCK', 'CD5'],\n",
       " 'OV': ['CD2', 'LCK'],\n",
       " 'BR': ['FYB1'],\n",
       " 'HNSCC': []}"
      ]
     },
     "execution_count": 12,
     "metadata": {},
     "output_type": "execute_result"
    }
   ],
   "source": [
    "# Print results\n",
    "few_data_prot"
   ]
  },
  {
   "cell_type": "code",
   "execution_count": null,
   "metadata": {},
   "outputs": [],
   "source": []
  },
  {
   "cell_type": "markdown",
   "metadata": {},
   "source": [
    "# Step 2: Find proteins with only NaN data"
   ]
  },
  {
   "cell_type": "code",
   "execution_count": 13,
   "metadata": {},
   "outputs": [
    {
     "data": {
      "text/plain": [
       "{'EC': Index([], dtype='object', name='Name'),\n",
       " 'CO': Index(['FYB1', 'PIK3CG'], dtype='object', name='Name'),\n",
       " 'LUAD': Index([], dtype='object', name='Name'),\n",
       " 'LSCC': Index([], dtype='object', name='Name'),\n",
       " 'GBM': Index(['CD5', 'LCK'], dtype='object', name='Name'),\n",
       " 'OV': Index(['CD2', 'LCK'], dtype='object', name='Name'),\n",
       " 'BR': Index(['FYB1'], dtype='object', name='Name'),\n",
       " 'HNSCC': Index([], dtype='object', name='Name')}"
      ]
     },
     "execution_count": 13,
     "metadata": {},
     "output_type": "execute_result"
    }
   ],
   "source": [
    "missing = {}\n",
    "for c in cancer_obj:\n",
    "    mut_wt = all_prot_format_df(cancer_obj[c], prot_list)\n",
    "    null_columns = mut_wt.columns[mut_wt.isnull().all()]\n",
    "    missing[c] = null_columns\n",
    "    \n",
    "# print results\n",
    "missing"
   ]
  },
  {
   "cell_type": "markdown",
   "metadata": {},
   "source": [
    "Check results for Colon."
   ]
  },
  {
   "cell_type": "code",
   "execution_count": 14,
   "metadata": {},
   "outputs": [
    {
     "data": {
      "text/plain": [
       "Index(['FYB1', 'PIK3CG'], dtype='object', name='Name')"
      ]
     },
     "execution_count": 14,
     "metadata": {},
     "output_type": "execute_result"
    }
   ],
   "source": [
    "# check missing genes in colon\n",
    "mut_wt = all_prot_format_df(col, prot_list)\n",
    "null_columns = mut_wt.columns[mut_wt.isnull().all()]\n",
    "mut_wt[mut_wt.isnull().any(axis=1)][null_columns].head()\n",
    "null_columns"
   ]
  },
  {
   "cell_type": "code",
   "execution_count": null,
   "metadata": {},
   "outputs": [],
   "source": [
    "# Checks"
   ]
  },
  {
   "cell_type": "code",
   "execution_count": 16,
   "metadata": {},
   "outputs": [],
   "source": [
    "df = pd.read_csv(\"../Make_Tables/csv/all_heatmap.csv\")"
   ]
  },
  {
   "cell_type": "code",
   "execution_count": 17,
   "metadata": {},
   "outputs": [
    {
     "data": {
      "text/html": [
       "<div>\n",
       "<style scoped>\n",
       "    .dataframe tbody tr th:only-of-type {\n",
       "        vertical-align: middle;\n",
       "    }\n",
       "\n",
       "    .dataframe tbody tr th {\n",
       "        vertical-align: top;\n",
       "    }\n",
       "\n",
       "    .dataframe thead th {\n",
       "        text-align: right;\n",
       "    }\n",
       "</style>\n",
       "<table border=\"1\" class=\"dataframe\">\n",
       "  <thead>\n",
       "    <tr style=\"text-align: right;\">\n",
       "      <th></th>\n",
       "      <th>Proteomics</th>\n",
       "      <th>P_Value</th>\n",
       "      <th>Medians</th>\n",
       "      <th>Cancer</th>\n",
       "    </tr>\n",
       "  </thead>\n",
       "  <tbody>\n",
       "    <tr>\n",
       "      <th>1459</th>\n",
       "      <td>FYB1</td>\n",
       "      <td>0.032718</td>\n",
       "      <td>-0.847324</td>\n",
       "      <td>GBM</td>\n",
       "    </tr>\n",
       "    <tr>\n",
       "      <th>11325</th>\n",
       "      <td>FYB1</td>\n",
       "      <td>0.018251</td>\n",
       "      <td>-0.644981</td>\n",
       "      <td>HNSCC</td>\n",
       "    </tr>\n",
       "    <tr>\n",
       "      <th>23159</th>\n",
       "      <td>FYB1</td>\n",
       "      <td>0.087517</td>\n",
       "      <td>-0.917350</td>\n",
       "      <td>LUAD</td>\n",
       "    </tr>\n",
       "    <tr>\n",
       "      <th>35577</th>\n",
       "      <td>FYB1</td>\n",
       "      <td>0.304008</td>\n",
       "      <td>-0.765850</td>\n",
       "      <td>LSCC</td>\n",
       "    </tr>\n",
       "    <tr>\n",
       "      <th>61881</th>\n",
       "      <td>FYB1</td>\n",
       "      <td>0.985704</td>\n",
       "      <td>0.131534</td>\n",
       "      <td>OV</td>\n",
       "    </tr>\n",
       "    <tr>\n",
       "      <th>66946</th>\n",
       "      <td>FYB1</td>\n",
       "      <td>0.113205</td>\n",
       "      <td>-0.530000</td>\n",
       "      <td>EC</td>\n",
       "    </tr>\n",
       "  </tbody>\n",
       "</table>\n",
       "</div>"
      ],
      "text/plain": [
       "      Proteomics   P_Value   Medians Cancer\n",
       "1459        FYB1  0.032718 -0.847324    GBM\n",
       "11325       FYB1  0.018251 -0.644981  HNSCC\n",
       "23159       FYB1  0.087517 -0.917350   LUAD\n",
       "35577       FYB1  0.304008 -0.765850   LSCC\n",
       "61881       FYB1  0.985704  0.131534     OV\n",
       "66946       FYB1  0.113205 -0.530000     EC"
      ]
     },
     "execution_count": 17,
     "metadata": {},
     "output_type": "execute_result"
    }
   ],
   "source": [
    "df.loc[df['Proteomics'] == 'FYB1']"
   ]
  },
  {
   "cell_type": "code",
   "execution_count": null,
   "metadata": {},
   "outputs": [],
   "source": []
  }
 ],
 "metadata": {
  "kernelspec": {
   "display_name": "Python 3",
   "language": "python",
   "name": "python3"
  },
  "language_info": {
   "codemirror_mode": {
    "name": "ipython",
    "version": 3
   },
   "file_extension": ".py",
   "mimetype": "text/x-python",
   "name": "python",
   "nbconvert_exporter": "python",
   "pygments_lexer": "ipython3",
   "version": "3.7.3"
  }
 },
 "nbformat": 4,
 "nbformat_minor": 2
}
