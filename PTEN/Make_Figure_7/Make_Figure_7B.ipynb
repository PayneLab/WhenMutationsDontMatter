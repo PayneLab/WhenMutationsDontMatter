{
 "cells": [
  {
   "cell_type": "markdown",
   "metadata": {},
   "source": [
    "# Make Figure 7B: PTEN Immune Heatmap "
   ]
  },
  {
   "cell_type": "markdown",
   "metadata": {},
   "source": [
    "This notebook looks at the significant genes in at least one cancer. Pancancer heatmaps are created with circle size showing significance and color showing differences in median."
   ]
  },
  {
   "cell_type": "code",
   "execution_count": 2,
   "metadata": {},
   "outputs": [],
   "source": [
    "import pandas as pd\n",
    "import numpy as np\n",
    "import gseapy as gp\n",
    "\n",
    "import cptac\n",
    "import cptac.utils as u\n",
    "import plot_utils as p"
   ]
  },
  {
   "cell_type": "code",
   "execution_count": 3,
   "metadata": {},
   "outputs": [
    {
     "name": "stdout",
     "output_type": "stream",
     "text": [
      "cptac version: 0.8.5\n"
     ]
    }
   ],
   "source": [
    "print('cptac version:', cptac.version())"
   ]
  },
  {
   "cell_type": "markdown",
   "metadata": {},
   "source": [
    "# Run GSEA"
   ]
  },
  {
   "cell_type": "code",
   "execution_count": 5,
   "metadata": {},
   "outputs": [],
   "source": [
    "mult_sig_df = pd.read_csv('../Make_Tables/csv/mult_sig_pval_heatmap.csv')\n",
    "\n",
    "mult_sig_list = list(mult_sig_df.Proteomics.unique()) # list of genes with a sig pval in >= 1 cancer\n",
    "prot_enr = gp.enrichr(gene_list = mult_sig_list, description='Tumor_partition', gene_sets='NCI-Nature_2016', \n",
    "                       outdir='/Enrichr')"
   ]
  },
  {
   "cell_type": "code",
   "execution_count": 6,
   "metadata": {},
   "outputs": [
    {
     "data": {
      "text/html": [
       "<div>\n",
       "<style scoped>\n",
       "    .dataframe tbody tr th:only-of-type {\n",
       "        vertical-align: middle;\n",
       "    }\n",
       "\n",
       "    .dataframe tbody tr th {\n",
       "        vertical-align: top;\n",
       "    }\n",
       "\n",
       "    .dataframe thead th {\n",
       "        text-align: right;\n",
       "    }\n",
       "</style>\n",
       "<table border=\"1\" class=\"dataframe\">\n",
       "  <thead>\n",
       "    <tr style=\"text-align: right;\">\n",
       "      <th></th>\n",
       "      <th>Term</th>\n",
       "      <th>Overlap</th>\n",
       "      <th>P-value</th>\n",
       "      <th>Adjusted P-value</th>\n",
       "      <th>Old P-value</th>\n",
       "      <th>Old Adjusted P-value</th>\n",
       "      <th>Odds Ratio</th>\n",
       "      <th>Combined Score</th>\n",
       "      <th>Genes</th>\n",
       "      <th>Gene_set</th>\n",
       "    </tr>\n",
       "  </thead>\n",
       "  <tbody>\n",
       "    <tr>\n",
       "      <th>0</th>\n",
       "      <td>BCR signaling pathway Homo sapiens acbf44e2-61...</td>\n",
       "      <td>9/64</td>\n",
       "      <td>0.000002</td>\n",
       "      <td>0.000327</td>\n",
       "      <td>0</td>\n",
       "      <td>0</td>\n",
       "      <td>8.081897</td>\n",
       "      <td>108.041859</td>\n",
       "      <td>MAP4K1;PPP3CB;PTPRC;SYK;CHUK;PIK3CA;BLNK;BTK;P...</td>\n",
       "      <td>NCI-Nature_2016</td>\n",
       "    </tr>\n",
       "    <tr>\n",
       "      <th>1</th>\n",
       "      <td>Class I PI3K signaling events Homo sapiens 12b...</td>\n",
       "      <td>8/48</td>\n",
       "      <td>0.000002</td>\n",
       "      <td>0.000167</td>\n",
       "      <td>0</td>\n",
       "      <td>0</td>\n",
       "      <td>9.578544</td>\n",
       "      <td>127.862042</td>\n",
       "      <td>ZAP70;SYK;PIK3CA;BLNK;PLCG2;BTK;PIK3CD;CYTH1</td>\n",
       "      <td>NCI-Nature_2016</td>\n",
       "    </tr>\n",
       "    <tr>\n",
       "      <th>2</th>\n",
       "      <td>IL8- and CXCR2-mediated signaling events Homo ...</td>\n",
       "      <td>6/34</td>\n",
       "      <td>0.000024</td>\n",
       "      <td>0.001650</td>\n",
       "      <td>0</td>\n",
       "      <td>0</td>\n",
       "      <td>10.141988</td>\n",
       "      <td>108.017599</td>\n",
       "      <td>GNG2;PRKCB;RAC2;ELMO1;DOCK2;GNAI2</td>\n",
       "      <td>NCI-Nature_2016</td>\n",
       "    </tr>\n",
       "    <tr>\n",
       "      <th>3</th>\n",
       "      <td>ATR signaling pathway Homo sapiens 8991cbac-61...</td>\n",
       "      <td>6/39</td>\n",
       "      <td>0.000053</td>\n",
       "      <td>0.002791</td>\n",
       "      <td>0</td>\n",
       "      <td>0</td>\n",
       "      <td>8.841733</td>\n",
       "      <td>86.980937</td>\n",
       "      <td>RFC3;RFC4;MCM7;RFC2;TOPBP1;MCM2</td>\n",
       "      <td>NCI-Nature_2016</td>\n",
       "    </tr>\n",
       "    <tr>\n",
       "      <th>4</th>\n",
       "      <td>CXCR3-mediated signaling events Homo sapiens 3...</td>\n",
       "      <td>6/43</td>\n",
       "      <td>0.000094</td>\n",
       "      <td>0.003935</td>\n",
       "      <td>0</td>\n",
       "      <td>0</td>\n",
       "      <td>8.019246</td>\n",
       "      <td>74.345340</td>\n",
       "      <td>GNG2;PIK3CA;ITGB2;PIK3CD;ITGAL;GNAI2</td>\n",
       "      <td>NCI-Nature_2016</td>\n",
       "    </tr>\n",
       "    <tr>\n",
       "      <th>5</th>\n",
       "      <td>TCR signaling in naive CD4+ T cells Homo sapie...</td>\n",
       "      <td>7/64</td>\n",
       "      <td>0.000121</td>\n",
       "      <td>0.004199</td>\n",
       "      <td>0</td>\n",
       "      <td>0</td>\n",
       "      <td>6.285920</td>\n",
       "      <td>56.721288</td>\n",
       "      <td>MAP4K1;ZAP70;CD4;PTPRC;CHUK;PRKCB;WAS</td>\n",
       "      <td>NCI-Nature_2016</td>\n",
       "    </tr>\n",
       "  </tbody>\n",
       "</table>\n",
       "</div>"
      ],
      "text/plain": [
       "                                                Term Overlap   P-value  \\\n",
       "0  BCR signaling pathway Homo sapiens acbf44e2-61...    9/64  0.000002   \n",
       "1  Class I PI3K signaling events Homo sapiens 12b...    8/48  0.000002   \n",
       "2  IL8- and CXCR2-mediated signaling events Homo ...    6/34  0.000024   \n",
       "3  ATR signaling pathway Homo sapiens 8991cbac-61...    6/39  0.000053   \n",
       "4  CXCR3-mediated signaling events Homo sapiens 3...    6/43  0.000094   \n",
       "5  TCR signaling in naive CD4+ T cells Homo sapie...    7/64  0.000121   \n",
       "\n",
       "   Adjusted P-value  Old P-value  Old Adjusted P-value  Odds Ratio  \\\n",
       "0          0.000327            0                     0    8.081897   \n",
       "1          0.000167            0                     0    9.578544   \n",
       "2          0.001650            0                     0   10.141988   \n",
       "3          0.002791            0                     0    8.841733   \n",
       "4          0.003935            0                     0    8.019246   \n",
       "5          0.004199            0                     0    6.285920   \n",
       "\n",
       "   Combined Score                                              Genes  \\\n",
       "0      108.041859  MAP4K1;PPP3CB;PTPRC;SYK;CHUK;PIK3CA;BLNK;BTK;P...   \n",
       "1      127.862042       ZAP70;SYK;PIK3CA;BLNK;PLCG2;BTK;PIK3CD;CYTH1   \n",
       "2      108.017599                  GNG2;PRKCB;RAC2;ELMO1;DOCK2;GNAI2   \n",
       "3       86.980937                    RFC3;RFC4;MCM7;RFC2;TOPBP1;MCM2   \n",
       "4       74.345340               GNG2;PIK3CA;ITGB2;PIK3CD;ITGAL;GNAI2   \n",
       "5       56.721288              MAP4K1;ZAP70;CD4;PTPRC;CHUK;PRKCB;WAS   \n",
       "\n",
       "          Gene_set  \n",
       "0  NCI-Nature_2016  \n",
       "1  NCI-Nature_2016  \n",
       "2  NCI-Nature_2016  \n",
       "3  NCI-Nature_2016  \n",
       "4  NCI-Nature_2016  \n",
       "5  NCI-Nature_2016  "
      ]
     },
     "execution_count": 6,
     "metadata": {},
     "output_type": "execute_result"
    }
   ],
   "source": [
    "prot_enr.res2d.head(6)"
   ]
  },
  {
   "cell_type": "code",
   "execution_count": 5,
   "metadata": {},
   "outputs": [
    {
     "name": "stdout",
     "output_type": "stream",
     "text": [
      "BCR signaling pathway Homo sapiens acbf44e2-618c-11e5-8ac5-06603eb7f303\n",
      "9 genes\n",
      "['MAP4K1', 'PPP3CB', 'PTPRC', 'SYK', 'CHUK', 'PIK3CA', 'BLNK', 'BTK', 'PLCG2'] \n",
      "\n",
      "IL8- and CXCR2-mediated signaling events Homo sapiens fe78e284-6193-11e5-8ac5-06603eb7f303\n",
      "6 genes\n",
      "['GNG2', 'PRKCB', 'RAC2', 'ELMO1', 'DOCK2', 'GNAI2'] \n",
      "\n",
      "TCR signaling in naive CD4+ T cells Homo sapiens 0c2862fa-6196-11e5-8ac5-06603eb7f303\n",
      "7 genes\n",
      "['MAP4K1', 'ZAP70', 'CD4', 'PTPRC', 'CHUK', 'PRKCB', 'WAS'] \n",
      "\n"
     ]
    }
   ],
   "source": [
    "immune_indexes = [0,2,5]\n",
    "i = 0\n",
    "for i in immune_indexes:\n",
    "    print(prot_enr.res2d.Term[i])\n",
    "    genes = prot_enr.res2d.Genes[i]\n",
    "    g_list = genes.split(';')\n",
    "    print(len(g_list), 'genes')\n",
    "    print(g_list, '\\n')"
   ]
  },
  {
   "cell_type": "markdown",
   "metadata": {},
   "source": [
    "# Create HeatMap"
   ]
  },
  {
   "cell_type": "code",
   "execution_count": 6,
   "metadata": {},
   "outputs": [],
   "source": [
    "all_df = pd.read_csv(\"../Make_Tables/csv/all_heatmap.csv\")"
   ]
  },
  {
   "cell_type": "code",
   "execution_count": 7,
   "metadata": {},
   "outputs": [
    {
     "name": "stdout",
     "output_type": "stream",
     "text": [
      "Number of genes: 37\n"
     ]
    }
   ],
   "source": [
    "# Proteins added were from the EGFR immune heatmap for comparison\n",
    "# ordered and grouped proteins \n",
    "t_only = ['CD3E', 'CD3G', 'CD4', 'CD8A', 'GRAP2', 'FYB1', 'PRKCQ'] \n",
    "b_only = ['PPP3CC', 'CD79A', 'SYK', 'BTK', 'LYN', 'BLNK', 'BLK', 'HLA-DMA', 'HLA-DMB']\n",
    "both = ['CD2', 'CD5', 'GRB2', 'LCK', 'ZAP70', 'VAV1', 'PTPN6', 'PTPRC', 'PIK3CD', 'PIK3CG', 'INPP5D',\n",
    "        'PLCG1', 'PLCG2', 'NFATC2', 'PRKCB', 'CHUK', 'NFKB2', 'DOCK2', 'RAC2', 'ELMO1', 'WAS']\n",
    "immune = t_only + b_only + both\n",
    "print('Number of genes:', len(immune))"
   ]
  },
  {
   "cell_type": "code",
   "execution_count": 8,
   "metadata": {},
   "outputs": [
    {
     "name": "stdout",
     "output_type": "stream",
     "text": [
      "immune proteins found in all_df: 37\n"
     ]
    },
    {
     "data": {
      "text/plain": [
       "array(['ELMO1', 'DOCK2', 'CHUK', 'SYK', 'PLCG1', 'PRKCB', 'BTK', 'PLCG2',\n",
       "       'PIK3CD', 'GRB2', 'INPP5D', 'PRKCQ', 'FYB1', 'VAV1', 'WAS', 'BLNK',\n",
       "       'PTPRC', 'NFKB2', 'PPP3CC', 'PIK3CG', 'CD4', 'PTPN6', 'NFATC2',\n",
       "       'HLA-DMA', 'CD2', 'RAC2', 'LYN', 'HLA-DMB', 'CD8A', 'GRAP2',\n",
       "       'ZAP70', 'CD3E', 'CD5', 'CD3G', 'LCK', 'CD79A', 'BLK'],\n",
       "      dtype=object)"
      ]
     },
     "execution_count": 8,
     "metadata": {},
     "output_type": "execute_result"
    }
   ],
   "source": [
    "# Get df with immune proteins\n",
    "bool_df = all_df.Proteomics.isin(immune)\n",
    "plot_df = all_df[bool_df]\n",
    "print('immune proteins found in all_df:', len(plot_df.Proteomics.unique()))\n",
    "plot_df.Proteomics.unique()"
   ]
  },
  {
   "cell_type": "code",
   "execution_count": 9,
   "metadata": {},
   "outputs": [
    {
     "name": "stderr",
     "output_type": "stream",
     "text": [
      "C:\\Users\\brittany henderson\\Anaconda3\\envs\\Research\\lib\\site-packages\\ipykernel_launcher.py:2: SettingWithCopyWarning: \n",
      "A value is trying to be set on a copy of a slice from a DataFrame.\n",
      "Try using .loc[row_indexer,col_indexer] = value instead\n",
      "\n",
      "See the caveats in the documentation: https://pandas.pydata.org/pandas-docs/stable/user_guide/indexing.html#returning-a-view-versus-a-copy\n",
      "  \n"
     ]
    }
   ],
   "source": [
    "# Reorder index to reorder protein order in heatmap\n",
    "plot_df[\"Index\"] = plot_df[\"Proteomics\"] + \"_\" + plot_df[\"Cancer\"]\n",
    "plot_df = plot_df.set_index(\"Index\")\n",
    "\n",
    "ordered_list = []\n",
    "cancer_list = ['BR', 'CO', 'EC', 'GBM', 'HNSCC', 'LSCC', 'LUAD', 'OV']\n",
    "for gene in immune:\n",
    "    for cancer in cancer_list:\n",
    "        ordered_list.append(gene+'_'+cancer)\n",
    "\n",
    "ordered_df = plot_df.reindex(ordered_list)\n",
    "sig_ordered_df = ordered_df.loc[ordered_df['P_Value'] < 0.05] # Keep sig "
   ]
  },
  {
   "cell_type": "code",
   "execution_count": 10,
   "metadata": {},
   "outputs": [
    {
     "name": "stdout",
     "output_type": "stream",
     "text": [
      "min p-value: 0.0006218184807157023\n"
     ]
    }
   ],
   "source": [
    "# Find lowest p-val for legend\n",
    "print('min p-value:', sig_ordered_df.P_Value.min())"
   ]
  },
  {
   "cell_type": "code",
   "execution_count": 11,
   "metadata": {},
   "outputs": [
    {
     "name": "stderr",
     "output_type": "stream",
     "text": [
      "C:\\Users\\brittany henderson\\Anaconda3\\envs\\Research\\lib\\site-packages\\plot_utils\\__init__.py:41: SettingWithCopyWarning: \n",
      "A value is trying to be set on a copy of a slice from a DataFrame.\n",
      "Try using .loc[row_indexer,col_indexer] = value instead\n",
      "\n",
      "See the caveats in the documentation: https://pandas.pydata.org/pandas-docs/stable/user_guide/indexing.html#returning-a-view-versus-a-copy\n",
      "  df[\"size2\"] = df[circle_var].apply(lambda x: -1*(np.log(x)))\n",
      "C:\\Users\\brittany henderson\\Anaconda3\\envs\\Research\\lib\\site-packages\\plot_utils\\__init__.py:42: SettingWithCopyWarning: \n",
      "A value is trying to be set on a copy of a slice from a DataFrame.\n",
      "Try using .loc[row_indexer,col_indexer] = value instead\n",
      "\n",
      "See the caveats in the documentation: https://pandas.pydata.org/pandas-docs/stable/user_guide/indexing.html#returning-a-view-versus-a-copy\n",
      "  df['size'] = (df[\"size2\"])*3\n"
     ]
    },
    {
     "data": {
      "text/html": [
       "\n",
       "    <div class=\"bk-root\">\n",
       "        <a href=\"https://bokeh.org\" target=\"_blank\" class=\"bk-logo bk-logo-small bk-logo-notebook\"></a>\n",
       "        <span id=\"1052\">Loading BokehJS ...</span>\n",
       "    </div>"
      ]
     },
     "metadata": {},
     "output_type": "display_data"
    },
    {
     "data": {
      "application/javascript": [
       "\n",
       "(function(root) {\n",
       "  function now() {\n",
       "    return new Date();\n",
       "  }\n",
       "\n",
       "  var force = true;\n",
       "\n",
       "  if (typeof root._bokeh_onload_callbacks === \"undefined\" || force === true) {\n",
       "    root._bokeh_onload_callbacks = [];\n",
       "    root._bokeh_is_loading = undefined;\n",
       "  }\n",
       "\n",
       "  var JS_MIME_TYPE = 'application/javascript';\n",
       "  var HTML_MIME_TYPE = 'text/html';\n",
       "  var EXEC_MIME_TYPE = 'application/vnd.bokehjs_exec.v0+json';\n",
       "  var CLASS_NAME = 'output_bokeh rendered_html';\n",
       "\n",
       "  /**\n",
       "   * Render data to the DOM node\n",
       "   */\n",
       "  function render(props, node) {\n",
       "    var script = document.createElement(\"script\");\n",
       "    node.appendChild(script);\n",
       "  }\n",
       "\n",
       "  /**\n",
       "   * Handle when an output is cleared or removed\n",
       "   */\n",
       "  function handleClearOutput(event, handle) {\n",
       "    var cell = handle.cell;\n",
       "\n",
       "    var id = cell.output_area._bokeh_element_id;\n",
       "    var server_id = cell.output_area._bokeh_server_id;\n",
       "    // Clean up Bokeh references\n",
       "    if (id != null && id in Bokeh.index) {\n",
       "      Bokeh.index[id].model.document.clear();\n",
       "      delete Bokeh.index[id];\n",
       "    }\n",
       "\n",
       "    if (server_id !== undefined) {\n",
       "      // Clean up Bokeh references\n",
       "      var cmd = \"from bokeh.io.state import curstate; print(curstate().uuid_to_server['\" + server_id + \"'].get_sessions()[0].document.roots[0]._id)\";\n",
       "      cell.notebook.kernel.execute(cmd, {\n",
       "        iopub: {\n",
       "          output: function(msg) {\n",
       "            var id = msg.content.text.trim();\n",
       "            if (id in Bokeh.index) {\n",
       "              Bokeh.index[id].model.document.clear();\n",
       "              delete Bokeh.index[id];\n",
       "            }\n",
       "          }\n",
       "        }\n",
       "      });\n",
       "      // Destroy server and session\n",
       "      var cmd = \"import bokeh.io.notebook as ion; ion.destroy_server('\" + server_id + \"')\";\n",
       "      cell.notebook.kernel.execute(cmd);\n",
       "    }\n",
       "  }\n",
       "\n",
       "  /**\n",
       "   * Handle when a new output is added\n",
       "   */\n",
       "  function handleAddOutput(event, handle) {\n",
       "    var output_area = handle.output_area;\n",
       "    var output = handle.output;\n",
       "\n",
       "    // limit handleAddOutput to display_data with EXEC_MIME_TYPE content only\n",
       "    if ((output.output_type != \"display_data\") || (!output.data.hasOwnProperty(EXEC_MIME_TYPE))) {\n",
       "      return\n",
       "    }\n",
       "\n",
       "    var toinsert = output_area.element.find(\".\" + CLASS_NAME.split(' ')[0]);\n",
       "\n",
       "    if (output.metadata[EXEC_MIME_TYPE][\"id\"] !== undefined) {\n",
       "      toinsert[toinsert.length - 1].firstChild.textContent = output.data[JS_MIME_TYPE];\n",
       "      // store reference to embed id on output_area\n",
       "      output_area._bokeh_element_id = output.metadata[EXEC_MIME_TYPE][\"id\"];\n",
       "    }\n",
       "    if (output.metadata[EXEC_MIME_TYPE][\"server_id\"] !== undefined) {\n",
       "      var bk_div = document.createElement(\"div\");\n",
       "      bk_div.innerHTML = output.data[HTML_MIME_TYPE];\n",
       "      var script_attrs = bk_div.children[0].attributes;\n",
       "      for (var i = 0; i < script_attrs.length; i++) {\n",
       "        toinsert[toinsert.length - 1].firstChild.setAttribute(script_attrs[i].name, script_attrs[i].value);\n",
       "        toinsert[toinsert.length - 1].firstChild.textContent = bk_div.children[0].textContent\n",
       "      }\n",
       "      // store reference to server id on output_area\n",
       "      output_area._bokeh_server_id = output.metadata[EXEC_MIME_TYPE][\"server_id\"];\n",
       "    }\n",
       "  }\n",
       "\n",
       "  function register_renderer(events, OutputArea) {\n",
       "\n",
       "    function append_mime(data, metadata, element) {\n",
       "      // create a DOM node to render to\n",
       "      var toinsert = this.create_output_subarea(\n",
       "        metadata,\n",
       "        CLASS_NAME,\n",
       "        EXEC_MIME_TYPE\n",
       "      );\n",
       "      this.keyboard_manager.register_events(toinsert);\n",
       "      // Render to node\n",
       "      var props = {data: data, metadata: metadata[EXEC_MIME_TYPE]};\n",
       "      render(props, toinsert[toinsert.length - 1]);\n",
       "      element.append(toinsert);\n",
       "      return toinsert\n",
       "    }\n",
       "\n",
       "    /* Handle when an output is cleared or removed */\n",
       "    events.on('clear_output.CodeCell', handleClearOutput);\n",
       "    events.on('delete.Cell', handleClearOutput);\n",
       "\n",
       "    /* Handle when a new output is added */\n",
       "    events.on('output_added.OutputArea', handleAddOutput);\n",
       "\n",
       "    /**\n",
       "     * Register the mime type and append_mime function with output_area\n",
       "     */\n",
       "    OutputArea.prototype.register_mime_type(EXEC_MIME_TYPE, append_mime, {\n",
       "      /* Is output safe? */\n",
       "      safe: true,\n",
       "      /* Index of renderer in `output_area.display_order` */\n",
       "      index: 0\n",
       "    });\n",
       "  }\n",
       "\n",
       "  // register the mime type if in Jupyter Notebook environment and previously unregistered\n",
       "  if (root.Jupyter !== undefined) {\n",
       "    var events = require('base/js/events');\n",
       "    var OutputArea = require('notebook/js/outputarea').OutputArea;\n",
       "\n",
       "    if (OutputArea.prototype.mime_types().indexOf(EXEC_MIME_TYPE) == -1) {\n",
       "      register_renderer(events, OutputArea);\n",
       "    }\n",
       "  }\n",
       "\n",
       "  \n",
       "  if (typeof (root._bokeh_timeout) === \"undefined\" || force === true) {\n",
       "    root._bokeh_timeout = Date.now() + 5000;\n",
       "    root._bokeh_failed_load = false;\n",
       "  }\n",
       "\n",
       "  var NB_LOAD_WARNING = {'data': {'text/html':\n",
       "     \"<div style='background-color: #fdd'>\\n\"+\n",
       "     \"<p>\\n\"+\n",
       "     \"BokehJS does not appear to have successfully loaded. If loading BokehJS from CDN, this \\n\"+\n",
       "     \"may be due to a slow or bad network connection. Possible fixes:\\n\"+\n",
       "     \"</p>\\n\"+\n",
       "     \"<ul>\\n\"+\n",
       "     \"<li>re-rerun `output_notebook()` to attempt to load from CDN again, or</li>\\n\"+\n",
       "     \"<li>use INLINE resources instead, as so:</li>\\n\"+\n",
       "     \"</ul>\\n\"+\n",
       "     \"<code>\\n\"+\n",
       "     \"from bokeh.resources import INLINE\\n\"+\n",
       "     \"output_notebook(resources=INLINE)\\n\"+\n",
       "     \"</code>\\n\"+\n",
       "     \"</div>\"}};\n",
       "\n",
       "  function display_loaded() {\n",
       "    var el = document.getElementById(\"1052\");\n",
       "    if (el != null) {\n",
       "      el.textContent = \"BokehJS is loading...\";\n",
       "    }\n",
       "    if (root.Bokeh !== undefined) {\n",
       "      if (el != null) {\n",
       "        el.textContent = \"BokehJS \" + root.Bokeh.version + \" successfully loaded.\";\n",
       "      }\n",
       "    } else if (Date.now() < root._bokeh_timeout) {\n",
       "      setTimeout(display_loaded, 100)\n",
       "    }\n",
       "  }\n",
       "\n",
       "\n",
       "  function run_callbacks() {\n",
       "    try {\n",
       "      root._bokeh_onload_callbacks.forEach(function(callback) {\n",
       "        if (callback != null)\n",
       "          callback();\n",
       "      });\n",
       "    } finally {\n",
       "      delete root._bokeh_onload_callbacks\n",
       "    }\n",
       "    console.debug(\"Bokeh: all callbacks have finished\");\n",
       "  }\n",
       "\n",
       "  function load_libs(css_urls, js_urls, callback) {\n",
       "    if (css_urls == null) css_urls = [];\n",
       "    if (js_urls == null) js_urls = [];\n",
       "\n",
       "    root._bokeh_onload_callbacks.push(callback);\n",
       "    if (root._bokeh_is_loading > 0) {\n",
       "      console.debug(\"Bokeh: BokehJS is being loaded, scheduling callback at\", now());\n",
       "      return null;\n",
       "    }\n",
       "    if (js_urls == null || js_urls.length === 0) {\n",
       "      run_callbacks();\n",
       "      return null;\n",
       "    }\n",
       "    console.debug(\"Bokeh: BokehJS not loaded, scheduling load and callback at\", now());\n",
       "    root._bokeh_is_loading = css_urls.length + js_urls.length;\n",
       "\n",
       "    function on_load() {\n",
       "      root._bokeh_is_loading--;\n",
       "      if (root._bokeh_is_loading === 0) {\n",
       "        console.debug(\"Bokeh: all BokehJS libraries/stylesheets loaded\");\n",
       "        run_callbacks()\n",
       "      }\n",
       "    }\n",
       "\n",
       "    function on_error() {\n",
       "      console.error(\"failed to load \" + url);\n",
       "    }\n",
       "\n",
       "    for (var i = 0; i < css_urls.length; i++) {\n",
       "      var url = css_urls[i];\n",
       "      const element = document.createElement(\"link\");\n",
       "      element.onload = on_load;\n",
       "      element.onerror = on_error;\n",
       "      element.rel = \"stylesheet\";\n",
       "      element.type = \"text/css\";\n",
       "      element.href = url;\n",
       "      console.debug(\"Bokeh: injecting link tag for BokehJS stylesheet: \", url);\n",
       "      document.body.appendChild(element);\n",
       "    }\n",
       "\n",
       "    const hashes = {\"https://cdn.bokeh.org/bokeh/release/bokeh-2.0.1.min.js\": \"JpP8FXbgAZLkfur7LiK3j9AGBhHNIvF742meBJrjO2ShJDhCG2I1uVvW+0DUtrmc\", \"https://cdn.bokeh.org/bokeh/release/bokeh-widgets-2.0.1.min.js\": \"xZlADit0Q04ISQEdKg2k3L4W9AwQBAuDs9nJL9fM/WwzL1tEU9VPNezOFX0nLEAz\", \"https://cdn.bokeh.org/bokeh/release/bokeh-tables-2.0.1.min.js\": \"4BuPRZkdMKSnj3zoxiNrQ86XgNw0rYmBOxe7nshquXwwcauupgBF2DHLVG1WuZlV\", \"https://cdn.bokeh.org/bokeh/release/bokeh-gl-2.0.1.min.js\": \"Dv1SQ87hmDqK6S5OhBf0bCuwAEvL5QYL0PuR/F1SPVhCS/r/abjkbpKDYL2zeM19\"};\n",
       "\n",
       "    for (var i = 0; i < js_urls.length; i++) {\n",
       "      var url = js_urls[i];\n",
       "      var element = document.createElement('script');\n",
       "      element.onload = on_load;\n",
       "      element.onerror = on_error;\n",
       "      element.async = false;\n",
       "      element.src = url;\n",
       "      if (url in hashes) {\n",
       "        element.crossOrigin = \"anonymous\";\n",
       "        element.integrity = \"sha384-\" + hashes[url];\n",
       "      }\n",
       "      console.debug(\"Bokeh: injecting script tag for BokehJS library: \", url);\n",
       "      document.head.appendChild(element);\n",
       "    }\n",
       "  };var element = document.getElementById(\"1052\");\n",
       "  if (element == null) {\n",
       "    console.error(\"Bokeh: ERROR: autoload.js configured with elementid '1052' but no matching script tag was found. \")\n",
       "    return false;\n",
       "  }\n",
       "\n",
       "  function inject_raw_css(css) {\n",
       "    const element = document.createElement(\"style\");\n",
       "    element.appendChild(document.createTextNode(css));\n",
       "    document.body.appendChild(element);\n",
       "  }\n",
       "\n",
       "  \n",
       "  var js_urls = [\"https://cdn.bokeh.org/bokeh/release/bokeh-2.0.1.min.js\", \"https://cdn.bokeh.org/bokeh/release/bokeh-widgets-2.0.1.min.js\", \"https://cdn.bokeh.org/bokeh/release/bokeh-tables-2.0.1.min.js\", \"https://cdn.bokeh.org/bokeh/release/bokeh-gl-2.0.1.min.js\"];\n",
       "  var css_urls = [];\n",
       "  \n",
       "\n",
       "  var inline_js = [\n",
       "    function(Bokeh) {\n",
       "      Bokeh.set_log_level(\"info\");\n",
       "    },\n",
       "    function(Bokeh) {\n",
       "    \n",
       "    \n",
       "    }\n",
       "  ];\n",
       "\n",
       "  function run_inline_js() {\n",
       "    \n",
       "    if (root.Bokeh !== undefined || force === true) {\n",
       "      \n",
       "    for (var i = 0; i < inline_js.length; i++) {\n",
       "      inline_js[i].call(root, root.Bokeh);\n",
       "    }\n",
       "    if (force === true) {\n",
       "        display_loaded();\n",
       "      }} else if (Date.now() < root._bokeh_timeout) {\n",
       "      setTimeout(run_inline_js, 100);\n",
       "    } else if (!root._bokeh_failed_load) {\n",
       "      console.log(\"Bokeh: BokehJS failed to load within specified timeout.\");\n",
       "      root._bokeh_failed_load = true;\n",
       "    } else if (force !== true) {\n",
       "      var cell = $(document.getElementById(\"1052\")).parents('.cell').data().cell;\n",
       "      cell.output_area.append_execute_result(NB_LOAD_WARNING)\n",
       "    }\n",
       "\n",
       "  }\n",
       "\n",
       "  if (root._bokeh_is_loading === 0) {\n",
       "    console.debug(\"Bokeh: BokehJS loaded, going straight to plotting\");\n",
       "    run_inline_js();\n",
       "  } else {\n",
       "    load_libs(css_urls, js_urls, function() {\n",
       "      console.debug(\"Bokeh: BokehJS plotting callback run at\", now());\n",
       "      run_inline_js();\n",
       "    });\n",
       "  }\n",
       "}(window));"
      ],
      "application/vnd.bokehjs_load.v0+json": "\n(function(root) {\n  function now() {\n    return new Date();\n  }\n\n  var force = true;\n\n  if (typeof root._bokeh_onload_callbacks === \"undefined\" || force === true) {\n    root._bokeh_onload_callbacks = [];\n    root._bokeh_is_loading = undefined;\n  }\n\n  \n\n  \n  if (typeof (root._bokeh_timeout) === \"undefined\" || force === true) {\n    root._bokeh_timeout = Date.now() + 5000;\n    root._bokeh_failed_load = false;\n  }\n\n  var NB_LOAD_WARNING = {'data': {'text/html':\n     \"<div style='background-color: #fdd'>\\n\"+\n     \"<p>\\n\"+\n     \"BokehJS does not appear to have successfully loaded. If loading BokehJS from CDN, this \\n\"+\n     \"may be due to a slow or bad network connection. Possible fixes:\\n\"+\n     \"</p>\\n\"+\n     \"<ul>\\n\"+\n     \"<li>re-rerun `output_notebook()` to attempt to load from CDN again, or</li>\\n\"+\n     \"<li>use INLINE resources instead, as so:</li>\\n\"+\n     \"</ul>\\n\"+\n     \"<code>\\n\"+\n     \"from bokeh.resources import INLINE\\n\"+\n     \"output_notebook(resources=INLINE)\\n\"+\n     \"</code>\\n\"+\n     \"</div>\"}};\n\n  function display_loaded() {\n    var el = document.getElementById(\"1052\");\n    if (el != null) {\n      el.textContent = \"BokehJS is loading...\";\n    }\n    if (root.Bokeh !== undefined) {\n      if (el != null) {\n        el.textContent = \"BokehJS \" + root.Bokeh.version + \" successfully loaded.\";\n      }\n    } else if (Date.now() < root._bokeh_timeout) {\n      setTimeout(display_loaded, 100)\n    }\n  }\n\n\n  function run_callbacks() {\n    try {\n      root._bokeh_onload_callbacks.forEach(function(callback) {\n        if (callback != null)\n          callback();\n      });\n    } finally {\n      delete root._bokeh_onload_callbacks\n    }\n    console.debug(\"Bokeh: all callbacks have finished\");\n  }\n\n  function load_libs(css_urls, js_urls, callback) {\n    if (css_urls == null) css_urls = [];\n    if (js_urls == null) js_urls = [];\n\n    root._bokeh_onload_callbacks.push(callback);\n    if (root._bokeh_is_loading > 0) {\n      console.debug(\"Bokeh: BokehJS is being loaded, scheduling callback at\", now());\n      return null;\n    }\n    if (js_urls == null || js_urls.length === 0) {\n      run_callbacks();\n      return null;\n    }\n    console.debug(\"Bokeh: BokehJS not loaded, scheduling load and callback at\", now());\n    root._bokeh_is_loading = css_urls.length + js_urls.length;\n\n    function on_load() {\n      root._bokeh_is_loading--;\n      if (root._bokeh_is_loading === 0) {\n        console.debug(\"Bokeh: all BokehJS libraries/stylesheets loaded\");\n        run_callbacks()\n      }\n    }\n\n    function on_error() {\n      console.error(\"failed to load \" + url);\n    }\n\n    for (var i = 0; i < css_urls.length; i++) {\n      var url = css_urls[i];\n      const element = document.createElement(\"link\");\n      element.onload = on_load;\n      element.onerror = on_error;\n      element.rel = \"stylesheet\";\n      element.type = \"text/css\";\n      element.href = url;\n      console.debug(\"Bokeh: injecting link tag for BokehJS stylesheet: \", url);\n      document.body.appendChild(element);\n    }\n\n    const hashes = {\"https://cdn.bokeh.org/bokeh/release/bokeh-2.0.1.min.js\": \"JpP8FXbgAZLkfur7LiK3j9AGBhHNIvF742meBJrjO2ShJDhCG2I1uVvW+0DUtrmc\", \"https://cdn.bokeh.org/bokeh/release/bokeh-widgets-2.0.1.min.js\": \"xZlADit0Q04ISQEdKg2k3L4W9AwQBAuDs9nJL9fM/WwzL1tEU9VPNezOFX0nLEAz\", \"https://cdn.bokeh.org/bokeh/release/bokeh-tables-2.0.1.min.js\": \"4BuPRZkdMKSnj3zoxiNrQ86XgNw0rYmBOxe7nshquXwwcauupgBF2DHLVG1WuZlV\", \"https://cdn.bokeh.org/bokeh/release/bokeh-gl-2.0.1.min.js\": \"Dv1SQ87hmDqK6S5OhBf0bCuwAEvL5QYL0PuR/F1SPVhCS/r/abjkbpKDYL2zeM19\"};\n\n    for (var i = 0; i < js_urls.length; i++) {\n      var url = js_urls[i];\n      var element = document.createElement('script');\n      element.onload = on_load;\n      element.onerror = on_error;\n      element.async = false;\n      element.src = url;\n      if (url in hashes) {\n        element.crossOrigin = \"anonymous\";\n        element.integrity = \"sha384-\" + hashes[url];\n      }\n      console.debug(\"Bokeh: injecting script tag for BokehJS library: \", url);\n      document.head.appendChild(element);\n    }\n  };var element = document.getElementById(\"1052\");\n  if (element == null) {\n    console.error(\"Bokeh: ERROR: autoload.js configured with elementid '1052' but no matching script tag was found. \")\n    return false;\n  }\n\n  function inject_raw_css(css) {\n    const element = document.createElement(\"style\");\n    element.appendChild(document.createTextNode(css));\n    document.body.appendChild(element);\n  }\n\n  \n  var js_urls = [\"https://cdn.bokeh.org/bokeh/release/bokeh-2.0.1.min.js\", \"https://cdn.bokeh.org/bokeh/release/bokeh-widgets-2.0.1.min.js\", \"https://cdn.bokeh.org/bokeh/release/bokeh-tables-2.0.1.min.js\", \"https://cdn.bokeh.org/bokeh/release/bokeh-gl-2.0.1.min.js\"];\n  var css_urls = [];\n  \n\n  var inline_js = [\n    function(Bokeh) {\n      Bokeh.set_log_level(\"info\");\n    },\n    function(Bokeh) {\n    \n    \n    }\n  ];\n\n  function run_inline_js() {\n    \n    if (root.Bokeh !== undefined || force === true) {\n      \n    for (var i = 0; i < inline_js.length; i++) {\n      inline_js[i].call(root, root.Bokeh);\n    }\n    if (force === true) {\n        display_loaded();\n      }} else if (Date.now() < root._bokeh_timeout) {\n      setTimeout(run_inline_js, 100);\n    } else if (!root._bokeh_failed_load) {\n      console.log(\"Bokeh: BokehJS failed to load within specified timeout.\");\n      root._bokeh_failed_load = true;\n    } else if (force !== true) {\n      var cell = $(document.getElementById(\"1052\")).parents('.cell').data().cell;\n      cell.output_area.append_execute_result(NB_LOAD_WARNING)\n    }\n\n  }\n\n  if (root._bokeh_is_loading === 0) {\n    console.debug(\"Bokeh: BokehJS loaded, going straight to plotting\");\n    run_inline_js();\n  } else {\n    load_libs(css_urls, js_urls, function() {\n      console.debug(\"Bokeh: BokehJS plotting callback run at\", now());\n      run_inline_js();\n    });\n  }\n}(window));"
     },
     "metadata": {},
     "output_type": "display_data"
    },
    {
     "data": {
      "text/html": [
       "\n",
       "\n",
       "\n",
       "\n",
       "\n",
       "\n",
       "  <div class=\"bk-root\" id=\"bee81bc2-ac96-4d6f-ad93-272f00578ad8\" data-root-id=\"1053\"></div>\n"
      ]
     },
     "metadata": {},
     "output_type": "display_data"
    },
    {
     "data": {
      "application/javascript": [
       "(function(root) {\n",
       "  function embed_document(root) {\n",
       "    \n",
       "  var docs_json = {\"b9661993-4f8d-4305-8f6f-246dd6b24606\":{\"roots\":{\"references\":[{\"attributes\":{\"children\":[{\"id\":\"1004\"},{\"id\":\"1030\"}]},\"id\":\"1053\",\"type\":\"Row\"},{\"attributes\":{\"below\":[{\"id\":\"1011\"}],\"center\":[{\"id\":\"1013\"},{\"id\":\"1016\"}],\"left\":[{\"id\":\"1014\"}],\"plot_height\":300,\"plot_width\":800,\"renderers\":[{\"id\":\"1024\"}],\"right\":[{\"id\":\"1026\"}],\"title\":{\"id\":\"1055\"},\"toolbar\":{\"id\":\"1018\"},\"toolbar_location\":null,\"x_range\":{\"id\":\"1002\"},\"x_scale\":{\"id\":\"1007\"},\"y_range\":{\"id\":\"1003\"},\"y_scale\":{\"id\":\"1009\"}},\"id\":\"1004\",\"subtype\":\"Figure\",\"type\":\"Plot\"},{\"attributes\":{\"data_source\":{\"id\":\"1046\"},\"glyph\":{\"id\":\"1048\"},\"hover_glyph\":null,\"muted_glyph\":null,\"nonselection_glyph\":{\"id\":\"1049\"},\"selection_glyph\":null,\"view\":{\"id\":\"1051\"}},\"id\":\"1050\",\"type\":\"GlyphRenderer\"},{\"attributes\":{\"axis\":{\"id\":\"1011\"},\"ticker\":null},\"id\":\"1013\",\"type\":\"Grid\"},{\"attributes\":{\"below\":[{\"id\":\"1037\"}],\"center\":[{\"id\":\"1039\"},{\"id\":\"1042\"}],\"left\":[{\"id\":\"1040\"}],\"plot_height\":200,\"plot_width\":140,\"renderers\":[{\"id\":\"1050\"}],\"title\":{\"id\":\"1057\"},\"toolbar\":{\"id\":\"1044\"},\"toolbar_location\":null,\"x_range\":{\"id\":\"1028\"},\"x_scale\":{\"id\":\"1033\"},\"y_range\":{\"id\":\"1029\"},\"y_scale\":{\"id\":\"1035\"}},\"id\":\"1030\",\"subtype\":\"Figure\",\"type\":\"Plot\"},{\"attributes\":{\"factors\":[\"CD4\",\"FYB1\",\"PRKCQ\",\"SYK\",\"BTK\",\"BLNK\",\"CD2\",\"CD5\",\"GRB2\",\"LCK\",\"ZAP70\",\"VAV1\",\"PTPRC\",\"PIK3CD\",\"PIK3CG\",\"INPP5D\",\"PLCG1\",\"PLCG2\",\"NFATC2\",\"PRKCB\",\"CHUK\",\"NFKB2\",\"DOCK2\",\"RAC2\",\"ELMO1\",\"WAS\"]},\"id\":\"1002\",\"type\":\"FactorRange\"},{\"attributes\":{\"fill_alpha\":{\"value\":0.1},\"fill_color\":{\"field\":\"Medians\",\"transform\":{\"id\":\"1027\"}},\"line_alpha\":{\"value\":0.1},\"line_color\":{\"value\":\"#1f77b4\"},\"line_width\":{\"value\":0},\"size\":{\"field\":\"size\",\"units\":\"screen\"},\"x\":{\"field\":\"x_axis\"},\"y\":{\"field\":\"y_axis\"}},\"id\":\"1049\",\"type\":\"Scatter\"},{\"attributes\":{\"formatter\":{\"id\":\"1059\"},\"major_label_text_font_size\":\"14pt\",\"ticker\":{\"id\":\"1015\"}},\"id\":\"1014\",\"type\":\"CategoricalAxis\"},{\"attributes\":{},\"id\":\"1059\",\"type\":\"CategoricalTickFormatter\"},{\"attributes\":{\"factors\":[\"5.0e-02\",\"1.0e-03\",\"1.0e-04\"]},\"id\":\"1029\",\"type\":\"FactorRange\"},{\"attributes\":{},\"id\":\"1015\",\"type\":\"CategoricalTicker\"},{\"attributes\":{},\"id\":\"1067\",\"type\":\"CategoricalTickFormatter\"},{\"attributes\":{},\"id\":\"1062\",\"type\":\"BasicTicker\"},{\"attributes\":{},\"id\":\"1065\",\"type\":\"CategoricalTickFormatter\"},{\"attributes\":{\"color_mapper\":{\"id\":\"1001\"},\"formatter\":{\"id\":\"1063\"},\"location\":[0,0],\"ticker\":{\"id\":\"1062\"}},\"id\":\"1026\",\"type\":\"ColorBar\"},{\"attributes\":{\"axis\":{\"id\":\"1014\"},\"dimension\":1,\"ticker\":null},\"id\":\"1016\",\"type\":\"Grid\"},{\"attributes\":{\"axis\":{\"id\":\"1037\"},\"ticker\":null},\"id\":\"1039\",\"type\":\"Grid\"},{\"attributes\":{\"data_source\":{\"id\":\"1020\"},\"glyph\":{\"id\":\"1022\"},\"hover_glyph\":null,\"muted_glyph\":null,\"nonselection_glyph\":{\"id\":\"1023\"},\"selection_glyph\":null,\"view\":{\"id\":\"1025\"}},\"id\":\"1024\",\"type\":\"GlyphRenderer\"},{\"attributes\":{},\"id\":\"1033\",\"type\":\"CategoricalScale\"},{\"attributes\":{\"callback\":null},\"id\":\"1017\",\"type\":\"HoverTool\"},{\"attributes\":{},\"id\":\"1071\",\"type\":\"UnionRenderers\"},{\"attributes\":{\"high\":1.5,\"low\":1.5,\"palette\":[\"#2166ac\",\"#4393c3\",\"#92c5de\",\"#d1e5f0\",\"#f7f7f7\",\"#fddbc7\",\"#f4a582\",\"#d6604d\",\"#b2182b\"]},\"id\":\"1027\",\"type\":\"LinearColorMapper\"},{\"attributes\":{\"active_drag\":\"auto\",\"active_inspect\":\"auto\",\"active_multi\":null,\"active_scroll\":\"auto\",\"active_tap\":\"auto\",\"tools\":[{\"id\":\"1017\"}]},\"id\":\"1018\",\"type\":\"Toolbar\"},{\"attributes\":{\"text\":\"\"},\"id\":\"1057\",\"type\":\"Title\"},{\"attributes\":{\"fill_color\":{\"field\":\"Medians\",\"transform\":{\"id\":\"1001\"}},\"line_color\":{\"value\":\"#1f77b4\"},\"line_width\":{\"value\":0},\"size\":{\"field\":\"size\",\"units\":\"screen\"},\"x\":{\"field\":\"Proteomics\"},\"y\":{\"field\":\"Cancer\"}},\"id\":\"1022\",\"type\":\"Scatter\"},{\"attributes\":{},\"id\":\"1069\",\"type\":\"UnionRenderers\"},{\"attributes\":{},\"id\":\"1035\",\"type\":\"CategoricalScale\"},{\"attributes\":{\"high\":1.7006,\"low\":-1.7006,\"palette\":[\"#2166ac\",\"#4393c3\",\"#92c5de\",\"#d1e5f0\",\"#f7f7f7\",\"#fddbc7\",\"#f4a582\",\"#d6604d\",\"#b2182b\"]},\"id\":\"1001\",\"type\":\"LinearColorMapper\"},{\"attributes\":{\"axis_label\":\"FDR p-value\",\"formatter\":{\"id\":\"1067\"},\"major_label_orientation\":1.5707963267948966,\"major_label_text_font_size\":\"13pt\",\"ticker\":{\"id\":\"1038\"}},\"id\":\"1037\",\"type\":\"CategoricalAxis\"},{\"attributes\":{\"text\":\"\"},\"id\":\"1055\",\"type\":\"Title\"},{\"attributes\":{},\"id\":\"1038\",\"type\":\"CategoricalTicker\"},{\"attributes\":{},\"id\":\"1068\",\"type\":\"Selection\"},{\"attributes\":{\"fill_color\":{\"field\":\"Medians\",\"transform\":{\"id\":\"1027\"}},\"line_color\":{\"value\":\"#1f77b4\"},\"line_width\":{\"value\":0},\"size\":{\"field\":\"size\",\"units\":\"screen\"},\"x\":{\"field\":\"x_axis\"},\"y\":{\"field\":\"y_axis\"}},\"id\":\"1048\",\"type\":\"Scatter\"},{\"attributes\":{\"formatter\":{\"id\":\"1065\"},\"major_label_text_font_size\":\"13pt\",\"ticker\":{\"id\":\"1041\"}},\"id\":\"1040\",\"type\":\"CategoricalAxis\"},{\"attributes\":{},\"id\":\"1041\",\"type\":\"CategoricalTicker\"},{\"attributes\":{\"axis\":{\"id\":\"1040\"},\"dimension\":1,\"ticker\":null},\"id\":\"1042\",\"type\":\"Grid\"},{\"attributes\":{},\"id\":\"1070\",\"type\":\"Selection\"},{\"attributes\":{\"fill_alpha\":{\"value\":0.1},\"fill_color\":{\"field\":\"Medians\",\"transform\":{\"id\":\"1001\"}},\"line_alpha\":{\"value\":0.1},\"line_color\":{\"value\":\"#1f77b4\"},\"line_width\":{\"value\":0},\"size\":{\"field\":\"size\",\"units\":\"screen\"},\"x\":{\"field\":\"Proteomics\"},\"y\":{\"field\":\"Cancer\"}},\"id\":\"1023\",\"type\":\"Scatter\"},{\"attributes\":{\"callback\":null},\"id\":\"1043\",\"type\":\"HoverTool\"},{\"attributes\":{\"data\":{\"Cancer\":[\"HNSCC\",\"LUAD\",\"GBM\",\"HNSCC\",\"GBM\",\"GBM\",\"HNSCC\",\"GBM\",\"HNSCC\",\"GBM\",\"HNSCC\",\"HNSCC\",\"LUAD\",\"HNSCC\",\"LUAD\",\"GBM\",\"LUAD\",\"HNSCC\",\"LUAD\",\"GBM\",\"GBM\",\"HNSCC\",\"LUAD\",\"GBM\",\"LUAD\",\"HNSCC\",\"GBM\",\"HNSCC\",\"GBM\",\"GBM\",\"HNSCC\",\"HNSCC\",\"GBM\",\"HNSCC\",\"LUAD\",\"GBM\",\"HNSCC\",\"LSCC\",\"LUAD\",\"HNSCC\",\"LUAD\",\"GBM\",\"HNSCC\",\"HNSCC\",\"LUAD\",\"GBM\",\"HNSCC\",\"LUAD\",\"GBM\",\"HNSCC\",\"LUAD\"],\"Index\":[\"CD4_HNSCC\",\"CD4_LUAD\",\"FYB1_GBM\",\"FYB1_HNSCC\",\"PRKCQ_GBM\",\"SYK_GBM\",\"SYK_HNSCC\",\"BTK_GBM\",\"BTK_HNSCC\",\"BLNK_GBM\",\"BLNK_HNSCC\",\"CD2_HNSCC\",\"CD2_LUAD\",\"CD5_HNSCC\",\"CD5_LUAD\",\"GRB2_GBM\",\"LCK_LUAD\",\"ZAP70_HNSCC\",\"ZAP70_LUAD\",\"VAV1_GBM\",\"PTPRC_GBM\",\"PTPRC_HNSCC\",\"PTPRC_LUAD\",\"PIK3CD_GBM\",\"PIK3CD_LUAD\",\"PIK3CG_HNSCC\",\"INPP5D_GBM\",\"INPP5D_HNSCC\",\"PLCG1_GBM\",\"PLCG2_GBM\",\"PLCG2_HNSCC\",\"NFATC2_HNSCC\",\"PRKCB_GBM\",\"PRKCB_HNSCC\",\"PRKCB_LUAD\",\"CHUK_GBM\",\"CHUK_HNSCC\",\"CHUK_LSCC\",\"CHUK_LUAD\",\"NFKB2_HNSCC\",\"NFKB2_LUAD\",\"DOCK2_GBM\",\"DOCK2_HNSCC\",\"RAC2_HNSCC\",\"RAC2_LUAD\",\"ELMO1_GBM\",\"ELMO1_HNSCC\",\"ELMO1_LUAD\",\"WAS_GBM\",\"WAS_HNSCC\",\"WAS_LUAD\"],\"Medians\":{\"__ndarray__\":\"YMSXW7CL4r8pyxDHurjwv8lCNN5GHeu/QC61wq6j5L+YCi3Z1v7bv2xczKlTUua/gXU+B2HXzL/uug3ZqAPhv4AH1TkcgOC/VT46PC7V2L+AjmqCOr/hv6C5r94HhOS/0m9fB86Z87/gjfAEygLjv3o2qz5XW/S/HckqfTH60787AU2EDc/xv6CbDIAvQ+G/Dk+vlGUI879pKFEzjtbmv7xjMZ625Oa/IFCipyJK6L/QRNjw9MrzvykHUt6Oft+/GJXUCWgi678/jAubWWrev6ji3Jf4q+W/ALT5oJLL4b9M5KQMiznUP4vp4gh6suO/v27i3XXl2L//zRxACQzYv+Kw78aJmfC/4Ck/grg34r/ZPXlYqDX7v+cKxnM0Ac+/AFRzLj6uzL8Mk6mCUUnjv/aX3ZOHheK/v5RkUEtg3L8N4C2QoPjrv/5oolgjoOm/wMv7hjAV3r9geB1CVZPgv1RSJ6CJMPS/WZmLXaOb5r/gzEW67Ebgv7prCfmgZ+6/KUyRCjCU5b+AswQ6NUvbv6LWNO84Rey/\",\"dtype\":\"float64\",\"shape\":[51]},\"P_Value\":{\"__ndarray__\":\"iM+fFBC+oz9xxUPMob+bP6YnuXxvwKA/eOnHp1Owkj+QiNuQQYSYP19A+GkKMnw/bZgwZ8TapD+iAcwWqFKGPzTbdJrBiJg/Ma5LIGa2oj8nd4bY99NzP/QwVuP7fqA/RsdbTzi2oj9Z8mAml7ihP7144vKQBJw/rXbnWYLFiz+9eOLykAScP6xbZgcZj6Q/LpX4sJhrnz+edfp0M7ihP0ju34Fcpag/2Rcps2EWiD9JxhMI9TqkP7vMo9cn/oo/rcLgc6UTpz+ntU87pp6cP5XKGjxHI4w/YOaTZUoLkD/xz0X/fSF+P0+X3V02Ioo/yEsBG2P9lj8TGfsA9V2lP7nj0f3WH38/HVFmWwFBlD+mn0rO0998PzCEkSO2aHc/WiPK37x0mD+ijS4F0nqmP2pVLLW+vaQ/KVTfy3saUD9pEkxnUHimPyb9LmQXMnY/AYe+Bmo7oD8hRrkDMnueP6afSs7T33w/mdr0BDFgRD+wWYOYPJafP+z87aH+5ZI/kDWOpqaboj9g5pNlSguQP7144vKQBJw/\",\"dtype\":\"float64\",\"shape\":[51]},\"Proteomics\":[\"CD4\",\"CD4\",\"FYB1\",\"FYB1\",\"PRKCQ\",\"SYK\",\"SYK\",\"BTK\",\"BTK\",\"BLNK\",\"BLNK\",\"CD2\",\"CD2\",\"CD5\",\"CD5\",\"GRB2\",\"LCK\",\"ZAP70\",\"ZAP70\",\"VAV1\",\"PTPRC\",\"PTPRC\",\"PTPRC\",\"PIK3CD\",\"PIK3CD\",\"PIK3CG\",\"INPP5D\",\"INPP5D\",\"PLCG1\",\"PLCG2\",\"PLCG2\",\"NFATC2\",\"PRKCB\",\"PRKCB\",\"PRKCB\",\"CHUK\",\"CHUK\",\"CHUK\",\"CHUK\",\"NFKB2\",\"NFKB2\",\"DOCK2\",\"DOCK2\",\"RAC2\",\"RAC2\",\"ELMO1\",\"ELMO1\",\"ELMO1\",\"WAS\",\"WAS\",\"WAS\"],\"size\":{\"__ndarray__\":\"i1B5D4iII0AuJ197VKYlQFD3IdXZhCRAXkHSYnMFKEDITE1tiWQmQB4SqQ8j3y1Av46W6Fo0I0CCU6PVMR0rQO4wcpZvYyZAoH2bFNTaI0DuaYkm6fsvQD3AbX95nCRAQL11xeLaI0AF/Pj1cS4kQOpvXhR/lyVAle492rvNKUDqb14Uf5clQA9qUQ9ISiNAhVHOfXPnJEC202K3ky4kQGtBSzrIMyJAmNb4vVaoKkD1NuInCWMjQHBN/VNr+SlAuPYOt9SYIkDtLIJa2XYlQLaWYoibuSlA2Ix99tDvKEAxOrFwKnktQKPtk4EaKypAWjonqE3HJkCsY4QyEQ8jQJqdzpJVRy1AvxySxuqJJ0CcIhrjl7otQNRMacvk/C5AADkP4FZoJkAaiAvGFsEiQNfMbFC6PCNA2UlfsGvGNEAcpw0QwsEiQJUsZ5ClTi9AoFNVBUC1JEAmGznXDhYlQJwiGuOXui1AVJeAzAkmNkAcFsSAVN8kQAlhDBFR9CdAltwi0W3jI0DYjH320O8oQOpvXhR/lyVA\",\"dtype\":\"float64\",\"shape\":[51]},\"size2\":{\"__ndarray__\":\"ucChFGALCkA+NNT5xd0MQMBJLRzNWwtA6YDhQaIDEEC1uxHnYdsNQBQMxl8X6hNAVL7I4CObCUBX4myOdhMSQJOW7R3q2Q1AgKckxhp5CkCfRgZvm1IVQPyq56lMewtAVvycXC55CkAHUKHyl+gKQOI/08X+yQxADp9+kdIzEUDiP9PF/skMQGmNbBRguAlAB8K9p0TfC0DyxIP0xOgKQDlXZPgKRQhAEI9QKY/FEUDx84KKYdkJQKAz/jfyUBFA9UhpScbLCEDnO1gjd54MQM+5QbBnJhFAO7NTpOCfEEB20SBLHKYTQMLzt6sRchFAI6OJNRJfDkCQL1tDbGkJQBFpNLfjhBNAVCYYXo5iD0C9wWaXutETQI2Im4eYqBRAVaFp1XPgDUDNCrqycwEJQB8RkcBNpglAIQ1/QDqzG0B7iWcVWAIJQA5z7woZ3xRA1sRxXFWcC0DezvYeaR0MQL3BZpe60RNAcHSrEA2IHUB7HbCrcNQLQAwsuxZs8A9Ac3subJKECkA7s1Ok4J8QQOI/08X+yQxA\",\"dtype\":\"float64\",\"shape\":[51]}},\"selected\":{\"id\":\"1068\"},\"selection_policy\":{\"id\":\"1069\"}},\"id\":\"1020\",\"type\":\"ColumnDataSource\"},{\"attributes\":{},\"id\":\"1007\",\"type\":\"CategoricalScale\"},{\"attributes\":{\"factors\":[\"\"]},\"id\":\"1028\",\"type\":\"FactorRange\"},{\"attributes\":{\"factors\":[\"LUAD\",\"LSCC\",\"HNSCC\",\"GBM\"]},\"id\":\"1003\",\"type\":\"FactorRange\"},{\"attributes\":{},\"id\":\"1063\",\"type\":\"BasicTickFormatter\"},{\"attributes\":{\"active_drag\":\"auto\",\"active_inspect\":\"auto\",\"active_multi\":null,\"active_scroll\":\"auto\",\"active_tap\":\"auto\",\"tools\":[{\"id\":\"1043\"}]},\"id\":\"1044\",\"type\":\"Toolbar\"},{\"attributes\":{},\"id\":\"1009\",\"type\":\"CategoricalScale\"},{\"attributes\":{},\"id\":\"1061\",\"type\":\"CategoricalTickFormatter\"},{\"attributes\":{\"source\":{\"id\":\"1020\"}},\"id\":\"1025\",\"type\":\"CDSView\"},{\"attributes\":{\"data\":{\"Medians\":{\"__ndarray__\":\"AAAAAAAA+D8AAAAAAAD4PwAAAAAAAPg/\",\"dtype\":\"float64\",\"shape\":[3]},\"P_Value\":{\"__ndarray__\":\"mpmZmZmZqT/8qfHSTWJQPy1DHOviNho/\",\"dtype\":\"float64\",\"shape\":[3]},\"index\":[0,1,2],\"size\":{\"__ndarray__\":\"reqW3HH5IUC4/yvzJ7k0QKD/j5mKoTtA\",\"dtype\":\"float64\",\"shape\":[3]},\"size2\":{\"__ndarray__\":\"keNze0L3B0Cg/4+ZiqEbQBVVtbuxayJA\",\"dtype\":\"float64\",\"shape\":[3]},\"x_axis\":[\"\",\"\",\"\"],\"y_axis\":[\"5.0e-02\",\"1.0e-03\",\"1.0e-04\"]},\"selected\":{\"id\":\"1070\"},\"selection_policy\":{\"id\":\"1071\"}},\"id\":\"1046\",\"type\":\"ColumnDataSource\"},{\"attributes\":{\"formatter\":{\"id\":\"1061\"},\"major_label_orientation\":1.5707963267948966,\"major_label_text_font_size\":\"14pt\",\"ticker\":{\"id\":\"1012\"}},\"id\":\"1011\",\"type\":\"CategoricalAxis\"},{\"attributes\":{\"source\":{\"id\":\"1046\"}},\"id\":\"1051\",\"type\":\"CDSView\"},{\"attributes\":{},\"id\":\"1012\",\"type\":\"CategoricalTicker\"}],\"root_ids\":[\"1053\"]},\"title\":\"Bokeh Application\",\"version\":\"2.0.1\"}};\n",
       "  var render_items = [{\"docid\":\"b9661993-4f8d-4305-8f6f-246dd6b24606\",\"root_ids\":[\"1053\"],\"roots\":{\"1053\":\"bee81bc2-ac96-4d6f-ad93-272f00578ad8\"}}];\n",
       "  root.Bokeh.embed.embed_items_notebook(docs_json, render_items);\n",
       "\n",
       "  }\n",
       "  if (root.Bokeh !== undefined) {\n",
       "    embed_document(root);\n",
       "  } else {\n",
       "    var attempts = 0;\n",
       "    var timer = setInterval(function(root) {\n",
       "      if (root.Bokeh !== undefined) {\n",
       "        clearInterval(timer);\n",
       "        embed_document(root);\n",
       "      } else {\n",
       "        attempts++;\n",
       "        if (attempts > 100) {\n",
       "          clearInterval(timer);\n",
       "          console.log(\"Bokeh: ERROR: Unable to run BokehJS code because BokehJS library is missing\");\n",
       "        }\n",
       "      }\n",
       "    }, 10, root)\n",
       "  }\n",
       "})(window);"
      ],
      "application/vnd.bokehjs_exec.v0+json": ""
     },
     "metadata": {
      "application/vnd.bokehjs_exec.v0+json": {
       "id": "1053"
      }
     },
     "output_type": "display_data"
    },
    {
     "data": {
      "text/html": [
       "<div style=\"display: table;\"><div style=\"display: table-row;\"><div style=\"display: table-cell;\"><b title=\"bokeh.plotting.figure.Figure\">Figure</b>(</div><div style=\"display: table-cell;\">id&nbsp;=&nbsp;'1004', <span id=\"1417\" style=\"cursor: pointer;\">&hellip;)</span></div></div><div class=\"1416\" style=\"display: none;\"><div style=\"display: table-cell;\"></div><div style=\"display: table-cell;\">above&nbsp;=&nbsp;[],</div></div><div class=\"1416\" style=\"display: none;\"><div style=\"display: table-cell;\"></div><div style=\"display: table-cell;\">align&nbsp;=&nbsp;'start',</div></div><div class=\"1416\" style=\"display: none;\"><div style=\"display: table-cell;\"></div><div style=\"display: table-cell;\">aspect_ratio&nbsp;=&nbsp;None,</div></div><div class=\"1416\" style=\"display: none;\"><div style=\"display: table-cell;\"></div><div style=\"display: table-cell;\">aspect_scale&nbsp;=&nbsp;1,</div></div><div class=\"1416\" style=\"display: none;\"><div style=\"display: table-cell;\"></div><div style=\"display: table-cell;\">background&nbsp;=&nbsp;None,</div></div><div class=\"1416\" style=\"display: none;\"><div style=\"display: table-cell;\"></div><div style=\"display: table-cell;\">background_fill_alpha&nbsp;=&nbsp;1.0,</div></div><div class=\"1416\" style=\"display: none;\"><div style=\"display: table-cell;\"></div><div style=\"display: table-cell;\">background_fill_color&nbsp;=&nbsp;'#ffffff',</div></div><div class=\"1416\" style=\"display: none;\"><div style=\"display: table-cell;\"></div><div style=\"display: table-cell;\">below&nbsp;=&nbsp;[CategoricalAxis(id='1011', ...)],</div></div><div class=\"1416\" style=\"display: none;\"><div style=\"display: table-cell;\"></div><div style=\"display: table-cell;\">border_fill_alpha&nbsp;=&nbsp;1.0,</div></div><div class=\"1416\" style=\"display: none;\"><div style=\"display: table-cell;\"></div><div style=\"display: table-cell;\">border_fill_color&nbsp;=&nbsp;'#ffffff',</div></div><div class=\"1416\" style=\"display: none;\"><div style=\"display: table-cell;\"></div><div style=\"display: table-cell;\">center&nbsp;=&nbsp;[Grid(id='1013', ...), Grid(id='1016', ...)],</div></div><div class=\"1416\" style=\"display: none;\"><div style=\"display: table-cell;\"></div><div style=\"display: table-cell;\">css_classes&nbsp;=&nbsp;[],</div></div><div class=\"1416\" style=\"display: none;\"><div style=\"display: table-cell;\"></div><div style=\"display: table-cell;\">disabled&nbsp;=&nbsp;False,</div></div><div class=\"1416\" style=\"display: none;\"><div style=\"display: table-cell;\"></div><div style=\"display: table-cell;\">extra_x_ranges&nbsp;=&nbsp;{},</div></div><div class=\"1416\" style=\"display: none;\"><div style=\"display: table-cell;\"></div><div style=\"display: table-cell;\">extra_y_ranges&nbsp;=&nbsp;{},</div></div><div class=\"1416\" style=\"display: none;\"><div style=\"display: table-cell;\"></div><div style=\"display: table-cell;\">frame_height&nbsp;=&nbsp;None,</div></div><div class=\"1416\" style=\"display: none;\"><div style=\"display: table-cell;\"></div><div style=\"display: table-cell;\">frame_width&nbsp;=&nbsp;None,</div></div><div class=\"1416\" style=\"display: none;\"><div style=\"display: table-cell;\"></div><div style=\"display: table-cell;\">height&nbsp;=&nbsp;None,</div></div><div class=\"1416\" style=\"display: none;\"><div style=\"display: table-cell;\"></div><div style=\"display: table-cell;\">height_policy&nbsp;=&nbsp;'auto',</div></div><div class=\"1416\" style=\"display: none;\"><div style=\"display: table-cell;\"></div><div style=\"display: table-cell;\">hidpi&nbsp;=&nbsp;True,</div></div><div class=\"1416\" style=\"display: none;\"><div style=\"display: table-cell;\"></div><div style=\"display: table-cell;\">js_event_callbacks&nbsp;=&nbsp;{},</div></div><div class=\"1416\" style=\"display: none;\"><div style=\"display: table-cell;\"></div><div style=\"display: table-cell;\">js_property_callbacks&nbsp;=&nbsp;{},</div></div><div class=\"1416\" style=\"display: none;\"><div style=\"display: table-cell;\"></div><div style=\"display: table-cell;\">left&nbsp;=&nbsp;[CategoricalAxis(id='1014', ...)],</div></div><div class=\"1416\" style=\"display: none;\"><div style=\"display: table-cell;\"></div><div style=\"display: table-cell;\">lod_factor&nbsp;=&nbsp;10,</div></div><div class=\"1416\" style=\"display: none;\"><div style=\"display: table-cell;\"></div><div style=\"display: table-cell;\">lod_interval&nbsp;=&nbsp;300,</div></div><div class=\"1416\" style=\"display: none;\"><div style=\"display: table-cell;\"></div><div style=\"display: table-cell;\">lod_threshold&nbsp;=&nbsp;2000,</div></div><div class=\"1416\" style=\"display: none;\"><div style=\"display: table-cell;\"></div><div style=\"display: table-cell;\">lod_timeout&nbsp;=&nbsp;500,</div></div><div class=\"1416\" style=\"display: none;\"><div style=\"display: table-cell;\"></div><div style=\"display: table-cell;\">margin&nbsp;=&nbsp;(0, 0, 0, 0),</div></div><div class=\"1416\" style=\"display: none;\"><div style=\"display: table-cell;\"></div><div style=\"display: table-cell;\">match_aspect&nbsp;=&nbsp;False,</div></div><div class=\"1416\" style=\"display: none;\"><div style=\"display: table-cell;\"></div><div style=\"display: table-cell;\">max_height&nbsp;=&nbsp;None,</div></div><div class=\"1416\" style=\"display: none;\"><div style=\"display: table-cell;\"></div><div style=\"display: table-cell;\">max_width&nbsp;=&nbsp;None,</div></div><div class=\"1416\" style=\"display: none;\"><div style=\"display: table-cell;\"></div><div style=\"display: table-cell;\">min_border&nbsp;=&nbsp;5,</div></div><div class=\"1416\" style=\"display: none;\"><div style=\"display: table-cell;\"></div><div style=\"display: table-cell;\">min_border_bottom&nbsp;=&nbsp;None,</div></div><div class=\"1416\" style=\"display: none;\"><div style=\"display: table-cell;\"></div><div style=\"display: table-cell;\">min_border_left&nbsp;=&nbsp;None,</div></div><div class=\"1416\" style=\"display: none;\"><div style=\"display: table-cell;\"></div><div style=\"display: table-cell;\">min_border_right&nbsp;=&nbsp;None,</div></div><div class=\"1416\" style=\"display: none;\"><div style=\"display: table-cell;\"></div><div style=\"display: table-cell;\">min_border_top&nbsp;=&nbsp;None,</div></div><div class=\"1416\" style=\"display: none;\"><div style=\"display: table-cell;\"></div><div style=\"display: table-cell;\">min_height&nbsp;=&nbsp;None,</div></div><div class=\"1416\" style=\"display: none;\"><div style=\"display: table-cell;\"></div><div style=\"display: table-cell;\">min_width&nbsp;=&nbsp;None,</div></div><div class=\"1416\" style=\"display: none;\"><div style=\"display: table-cell;\"></div><div style=\"display: table-cell;\">name&nbsp;=&nbsp;None,</div></div><div class=\"1416\" style=\"display: none;\"><div style=\"display: table-cell;\"></div><div style=\"display: table-cell;\">outline_line_alpha&nbsp;=&nbsp;1.0,</div></div><div class=\"1416\" style=\"display: none;\"><div style=\"display: table-cell;\"></div><div style=\"display: table-cell;\">outline_line_cap&nbsp;=&nbsp;'butt',</div></div><div class=\"1416\" style=\"display: none;\"><div style=\"display: table-cell;\"></div><div style=\"display: table-cell;\">outline_line_color&nbsp;=&nbsp;'#e5e5e5',</div></div><div class=\"1416\" style=\"display: none;\"><div style=\"display: table-cell;\"></div><div style=\"display: table-cell;\">outline_line_dash&nbsp;=&nbsp;[],</div></div><div class=\"1416\" style=\"display: none;\"><div style=\"display: table-cell;\"></div><div style=\"display: table-cell;\">outline_line_dash_offset&nbsp;=&nbsp;0,</div></div><div class=\"1416\" style=\"display: none;\"><div style=\"display: table-cell;\"></div><div style=\"display: table-cell;\">outline_line_join&nbsp;=&nbsp;'bevel',</div></div><div class=\"1416\" style=\"display: none;\"><div style=\"display: table-cell;\"></div><div style=\"display: table-cell;\">outline_line_width&nbsp;=&nbsp;1,</div></div><div class=\"1416\" style=\"display: none;\"><div style=\"display: table-cell;\"></div><div style=\"display: table-cell;\">output_backend&nbsp;=&nbsp;'canvas',</div></div><div class=\"1416\" style=\"display: none;\"><div style=\"display: table-cell;\"></div><div style=\"display: table-cell;\">plot_height&nbsp;=&nbsp;300,</div></div><div class=\"1416\" style=\"display: none;\"><div style=\"display: table-cell;\"></div><div style=\"display: table-cell;\">plot_width&nbsp;=&nbsp;800,</div></div><div class=\"1416\" style=\"display: none;\"><div style=\"display: table-cell;\"></div><div style=\"display: table-cell;\">renderers&nbsp;=&nbsp;[GlyphRenderer(id='1024', ...)],</div></div><div class=\"1416\" style=\"display: none;\"><div style=\"display: table-cell;\"></div><div style=\"display: table-cell;\">reset_policy&nbsp;=&nbsp;'standard',</div></div><div class=\"1416\" style=\"display: none;\"><div style=\"display: table-cell;\"></div><div style=\"display: table-cell;\">right&nbsp;=&nbsp;[ColorBar(id='1026', ...)],</div></div><div class=\"1416\" style=\"display: none;\"><div style=\"display: table-cell;\"></div><div style=\"display: table-cell;\">sizing_mode&nbsp;=&nbsp;None,</div></div><div class=\"1416\" style=\"display: none;\"><div style=\"display: table-cell;\"></div><div style=\"display: table-cell;\">subscribed_events&nbsp;=&nbsp;[],</div></div><div class=\"1416\" style=\"display: none;\"><div style=\"display: table-cell;\"></div><div style=\"display: table-cell;\">tags&nbsp;=&nbsp;[],</div></div><div class=\"1416\" style=\"display: none;\"><div style=\"display: table-cell;\"></div><div style=\"display: table-cell;\">title&nbsp;=&nbsp;Title(id='1055', ...),</div></div><div class=\"1416\" style=\"display: none;\"><div style=\"display: table-cell;\"></div><div style=\"display: table-cell;\">title_location&nbsp;=&nbsp;'above',</div></div><div class=\"1416\" style=\"display: none;\"><div style=\"display: table-cell;\"></div><div style=\"display: table-cell;\">toolbar&nbsp;=&nbsp;Toolbar(id='1018', ...),</div></div><div class=\"1416\" style=\"display: none;\"><div style=\"display: table-cell;\"></div><div style=\"display: table-cell;\">toolbar_location&nbsp;=&nbsp;None,</div></div><div class=\"1416\" style=\"display: none;\"><div style=\"display: table-cell;\"></div><div style=\"display: table-cell;\">toolbar_sticky&nbsp;=&nbsp;True,</div></div><div class=\"1416\" style=\"display: none;\"><div style=\"display: table-cell;\"></div><div style=\"display: table-cell;\">visible&nbsp;=&nbsp;True,</div></div><div class=\"1416\" style=\"display: none;\"><div style=\"display: table-cell;\"></div><div style=\"display: table-cell;\">width&nbsp;=&nbsp;None,</div></div><div class=\"1416\" style=\"display: none;\"><div style=\"display: table-cell;\"></div><div style=\"display: table-cell;\">width_policy&nbsp;=&nbsp;'auto',</div></div><div class=\"1416\" style=\"display: none;\"><div style=\"display: table-cell;\"></div><div style=\"display: table-cell;\">x_range&nbsp;=&nbsp;FactorRange(id='1002', ...),</div></div><div class=\"1416\" style=\"display: none;\"><div style=\"display: table-cell;\"></div><div style=\"display: table-cell;\">x_scale&nbsp;=&nbsp;CategoricalScale(id='1007', ...),</div></div><div class=\"1416\" style=\"display: none;\"><div style=\"display: table-cell;\"></div><div style=\"display: table-cell;\">y_range&nbsp;=&nbsp;FactorRange(id='1003', ...),</div></div><div class=\"1416\" style=\"display: none;\"><div style=\"display: table-cell;\"></div><div style=\"display: table-cell;\">y_scale&nbsp;=&nbsp;CategoricalScale(id='1009', ...))</div></div></div>\n",
       "<script>\n",
       "(function() {\n",
       "  var expanded = false;\n",
       "  var ellipsis = document.getElementById(\"1417\");\n",
       "  ellipsis.addEventListener(\"click\", function() {\n",
       "    var rows = document.getElementsByClassName(\"1416\");\n",
       "    for (var i = 0; i < rows.length; i++) {\n",
       "      var el = rows[i];\n",
       "      el.style.display = expanded ? \"none\" : \"table-row\";\n",
       "    }\n",
       "    ellipsis.innerHTML = expanded ? \"&hellip;)\" : \"&lsaquo;&lsaquo;&lsaquo;\";\n",
       "    expanded = !expanded;\n",
       "  });\n",
       "})();\n",
       "</script>\n"
      ],
      "text/plain": [
       "Figure(id='1004', ...)"
      ]
     },
     "execution_count": 11,
     "metadata": {},
     "output_type": "execute_result"
    }
   ],
   "source": [
    "p.plotCircleHeatMap(sig_ordered_df, circle_var = 'P_Value', color_var='Medians', x_axis= 'Proteomics', y_axis = 'Cancer',\n",
    "                    plot_height=300, plot_width= 800, font_size = 14, legend_min = 0.0001, \n",
    "                    legend_med = .001, legend_max = 0.05, save_png = \"Fig_7B.png\")"
   ]
  },
  {
   "cell_type": "markdown",
   "metadata": {},
   "source": [
    "# Calculate percentage of immune proteins"
   ]
  },
  {
   "cell_type": "markdown",
   "metadata": {},
   "source": [
    "The manuscript mentions the percentage of proteins sig in multiple cancers that are involved with the immune system. Here is where we calculate that percentage."
   ]
  },
  {
   "cell_type": "code",
   "execution_count": 20,
   "metadata": {},
   "outputs": [
    {
     "data": {
      "text/plain": [
       "2248"
      ]
     },
     "execution_count": 20,
     "metadata": {},
     "output_type": "execute_result"
    }
   ],
   "source": [
    "# get all immune proteins\n",
    "all_immune_prot = u.get_proteins_in_pathways('R-HSA-168256', 'reactome')\n",
    "all_immune_prot = list(all_immune_prot.member)\n",
    "len(all_immune_prot)"
   ]
  },
  {
   "cell_type": "code",
   "execution_count": 24,
   "metadata": {},
   "outputs": [
    {
     "name": "stdout",
     "output_type": "stream",
     "text": [
      "Immune proteins that are sig in mult cancers: 73\n"
     ]
    },
    {
     "data": {
      "text/plain": [
       "array(['DCTN1', 'ACTR1A', 'DCTN4', 'DCTN6', 'PRKDC', 'ELMO1', 'SELL',\n",
       "       'DCTN5', 'ACTR10', 'AMPD3', 'GSTO1', 'TPR', 'SHOC2', 'ACTR1B',\n",
       "       'NCKAP1L', 'CAB39', 'DOCK2', 'CHUK', 'ADA2', 'SYK', 'RAB4B',\n",
       "       'RASAL3', 'PRKCB', 'ADAR', 'IL16', 'CSF1R', 'RPS6KA1', 'BTK',\n",
       "       'APBB1IP', 'ITGAL', 'PLCG2', 'PIK3CD', 'INPP5D', 'RANBP2',\n",
       "       'NUP155', 'SEC24C', 'IFIT2', 'LILRB1', 'ITGB2', 'SH3KBP1',\n",
       "       'PIK3R4', 'PPP3CB', 'PECAM1', 'MYO10', 'FYB1', 'NUP85', 'KLC2',\n",
       "       'LCP1', 'ARHGAP45', 'PAK1', 'WAS', 'BLNK', 'KPNA2', 'RAE1',\n",
       "       'TALDO1', 'CCR1', 'KLC4', 'PTPRC', 'CYBB', 'WIPF1', 'DHX9',\n",
       "       'NFKB2', 'CD53', 'CD4', 'PSTPIP1', 'NUP133', 'DHX36', 'NUP210',\n",
       "       'TRIM2', 'RAC2', 'PIK3CA', 'ZAP70', 'ZBP1'], dtype=object)"
      ]
     },
     "execution_count": 24,
     "metadata": {},
     "output_type": "execute_result"
    }
   ],
   "source": [
    "# Get df with immune proteins from df with only proteins sig in mult cancers\n",
    "bool_df = mult_sig_df.Proteomics.isin(all_immune_prot)\n",
    "mult_sig_immune_df = mult_sig_df[bool_df]\n",
    "mult_immune = len(mult_sig_immune_df.Proteomics.unique())\n",
    "print('Immune proteins that are sig in mult cancers:', mult_immune)\n",
    "mult_sig_immune_df.Proteomics.unique()"
   ]
  },
  {
   "cell_type": "code",
   "execution_count": 29,
   "metadata": {},
   "outputs": [
    {
     "name": "stdout",
     "output_type": "stream",
     "text": [
      "Percentage of proteins sig in mult cancers that are immune proteins:\n",
      " 73 / 348 * 100 =  21\n"
     ]
    }
   ],
   "source": [
    "# Calculate percentage\n",
    "mult_sig_total = len(mult_sig_df.Proteomics.unique())\n",
    "print('Percentage of proteins sig in mult cancers that are immune proteins:\\n', \n",
    "      mult_immune, '/', mult_sig_total, '* 100 = ', round(mult_immune / mult_sig_total * 100))"
   ]
  },
  {
   "cell_type": "code",
   "execution_count": null,
   "metadata": {},
   "outputs": [],
   "source": []
  }
 ],
 "metadata": {
  "kernelspec": {
   "display_name": "Python 3",
   "language": "python",
   "name": "python3"
  },
  "language_info": {
   "codemirror_mode": {
    "name": "ipython",
    "version": 3
   },
   "file_extension": ".py",
   "mimetype": "text/x-python",
   "name": "python",
   "nbconvert_exporter": "python",
   "pygments_lexer": "ipython3",
   "version": "3.7.3"
  }
 },
 "nbformat": 4,
 "nbformat_minor": 2
}
