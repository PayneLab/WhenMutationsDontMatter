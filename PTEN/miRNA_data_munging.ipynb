{
 "cells": [
  {
   "cell_type": "markdown",
   "metadata": {},
   "source": [
    "# Create tables with p-value and change in medians for multiple cancers "
   ]
  },
  {
   "cell_type": "markdown",
   "metadata": {},
   "source": [
    "Create a dataframe with p-value results from t-tests for all proteins (trans gene proteomics when PTEN has cnv deletions compared to PTEN wildtype). The dataframe also includes the change in medians between deletions and wildtype. Prepare these tables for further analysis by creating csv files."
   ]
  },
  {
   "cell_type": "code",
   "execution_count": 1,
   "metadata": {},
   "outputs": [],
   "source": [
    "import pandas as pd\n",
    "import numpy as np\n",
    "import seaborn as sns\n",
    "import matplotlib.pyplot as plt\n",
    "import scipy.stats\n",
    "import gseapy as gp\n",
    "import re\n",
    "import sys \n",
    "\n",
    "import cptac\n",
    "import cptac.utils as u\n",
    "\n",
    "import plot_utils as p\n",
    "root = R'~\\Github\\WhenMutationsDontMatter\\PTEN\\Figure_2\\csv'"
   ]
  },
  {
   "cell_type": "code",
   "execution_count": 2,
   "metadata": {},
   "outputs": [],
   "source": [
    "import warnings\n",
    "warnings.filterwarnings('ignore')"
   ]
  },
  {
   "cell_type": "code",
   "execution_count": 3,
   "metadata": {},
   "outputs": [],
   "source": [
    "import pandas as pd\n",
    "import numpy as np\n",
    "import scipy.stats\n",
    "import statsmodels.stats.multitest\n",
    "import operator\n",
    "\n",
    "\n",
    "def wrap_ttest(df, label_column, comparison_columns=None, alpha=.05, return_all=False, \n",
    "               correction_method='bonferroni', mincount=3, pval_return_corrected=True):\n",
    "    try:\n",
    "        '''Verify precondition that label column exists and has exactly 2 unique values'''\n",
    "        label_values = df[label_column].unique()\n",
    "        if len(label_values) != 2:\n",
    "            print(\"Incorrectly Formatted Dataframe! Label column must have exactly 2 unique values.\")\n",
    "            return None\n",
    "       \n",
    "        '''Partition dataframe into two sets, one for each of the two unique values from the label column'''\n",
    "        partition1 = df.loc[df[label_column] == label_values[0]]\n",
    "        partition2 = df.loc[df[label_column] == label_values[1]]\n",
    "\n",
    "        '''If no comparison columns specified, use all columns except the specified labed column'''\n",
    "        if not comparison_columns:\n",
    "            comparison_columns = list(df.columns)\n",
    "            comparison_columns.remove(label_column)\n",
    "\n",
    "        '''Determine the number of real valued columns on which we will do t-tests'''\n",
    "        number_of_comparisons = len(comparison_columns)\n",
    "\n",
    "        '''Store comparisons and p-values in two arrays'''\n",
    "        comparisons = []\n",
    "        pvals = []\n",
    "       \n",
    "        '''Loop through each comparison column, perform the t-test, and record the p-val'''\n",
    "       \n",
    "        for column in comparison_columns:\n",
    "            if len(partition1[column].dropna(axis=0)) <= mincount:\n",
    "                continue\n",
    "            elif len(partition2[column].dropna(axis=0)) <= mincount:\n",
    "                continue\n",
    "            else:\n",
    "                stat, pval = scipy.stats.ttest_ind(partition1[column].dropna(axis=0), partition2[column].dropna(axis=0))\n",
    "                comparisons.append(column)\n",
    "                pvals.append(pval)\n",
    "               \n",
    "        '''Correct for multiple testing to determine if each comparison meets the new cutoff'''\n",
    "        results = statsmodels.stats.multitest.multipletests(pvals=pvals, alpha=alpha, method=correction_method)\n",
    "        reject = results[0]\n",
    "\n",
    "        '''Format results in a pandas dataframe'''\n",
    "        results_df = pd.DataFrame(columns=['Comparison','P_Value'])\n",
    "\n",
    "        '''If return all, add all comparisons and p-values to dataframe'''\n",
    "        if return_all:\n",
    "            if pval_return_corrected:\n",
    "                results_df['Comparison'] = comparisons\n",
    "                results_df['P_Value'] = results[1]\n",
    "\n",
    "            else:\n",
    "                results_df['Comparison'] = comparisons\n",
    "                results_df['P_Value'] = pvals\n",
    "\n",
    "            '''Else only add significant comparisons'''\n",
    "        else:\n",
    "            for i in range(0, len(reject)):\n",
    "                if reject[i]:\n",
    "                    if pval_return_corrected:\n",
    "                        results_df = results_df.append({'Comparison':comparisons[i],'P_Value':results[1][i]}, ignore_index=True)\n",
    "                    else:\n",
    "                        results_df = results_df.append({'Comparison':comparisons[i],'P_Value':pvals[i]}, ignore_index=True)\n",
    "\n",
    "\n",
    "        '''Sort dataframe by ascending p-value'''\n",
    "        results_df = results_df.sort_values(by='P_Value', ascending=True)\n",
    "        results_df = results_df.reset_index(drop=True)\n",
    "\n",
    "        '''If results df is not empty, return it, else return None'''\n",
    "        if len(results_df) > 0:\n",
    "            return results_df\n",
    "        else:\n",
    "            return None\n",
    "\n",
    "\n",
    "    except:\n",
    "        print(\"Incorrectly Formatted Dataframe!\")\n",
    "        return None\n",
    "\n"
   ]
  },
  {
   "cell_type": "code",
   "execution_count": 79,
   "metadata": {},
   "outputs": [],
   "source": [
    "# Returns a dataframe with proteomics and mutation type\n",
    "\n",
    "# all_prot: list of trans genes\n",
    "\n",
    "def all_prot_format_df(cancer_object, mir_list, gene_in = 'PTEN', utils = u):\n",
    "    mut_type = cancer_object.get_genotype_all_vars(gene_in)\n",
    "    \n",
    "    if cancer_object.get_cancer_type() not in ('luad'):\n",
    "        # Keep only tumor samples from proteomics\n",
    "        prot_and_mutations = cancer_object.join_omics_to_mutations(\n",
    "            mutations_genes = [gene_in], omics_df_name = 'proteomics', omics_genes = [gene_in])\n",
    "        # Reduce a multiindex \n",
    "        if isinstance(prot_and_mutations.keys(), pd.core.indexes.multi.MultiIndex):\n",
    "            prot_and_mutations = utils.reduce_multiindex(prot_and_mutations, levels_to_drop = 1)\n",
    "        prot_and_mutations = prot_and_mutations[prot_and_mutations.Sample_Status == \"Tumor\"] # drop Normal samples\n",
    "\n",
    "        # Merge Mutation column from get_genotype_all_vars (includes cnv) with proteomics\n",
    "        mut_type = mut_type[['Mutation']] \n",
    "        prot_df = prot_and_mutations.iloc[:,:-4] # Keep only proteomics\n",
    "        merged = prot_df.join(mut_type)\n",
    "        \n",
    "        # Keep only Wildtype and deletion\n",
    "        compare = ['Wildtype_Tumor','Deletion']\n",
    "        get = merged['Mutation'].isin(compare)\n",
    "        del_wt = merged[get]\n",
    "    \n",
    "    \n",
    "    # Luad has no somatic mutations for PTEN which changes some things\n",
    "    else: \n",
    "        # get_genotype_all_vars add cnv data under the column PTEN\n",
    "        mut_type = mut_type.drop(columns= gene_in)\n",
    "        # different code because no somatic mutation data for pten (can't join to somatic mutations)\n",
    "        omics = cancer_object.join_omics_to_omics(df1_name = 'CNV', df2_name='proteomics',genes1= gene_in, \n",
    "            genes2= gene_in)\n",
    "        omics = utils.reduce_multiindex(omics, levels_to_drop = 1, flatten = True)\n",
    "        omics = omics.drop(columns='PTEN_CNV')\n",
    "        # Get only tumor samples\n",
    "        p = cancer_object.get_proteomics(tissue_type='tumor')\n",
    "        tumor_ids = list(p.index)\n",
    "        get = omics.index.isin(tumor_ids)\n",
    "        omics = omics[get]\n",
    "        # Merge Mutation column from get_genotype_all_vars (includes cnv) with proteomics\n",
    "        merged = omics.join(mut_type) \n",
    "        # Keep only No_Mutation (wildtype) and deletion\n",
    "        compare = ['No_Mutation','Deletion']\n",
    "        get = merged['Mutation'].isin(compare)\n",
    "        del_wt = merged[get]\n",
    "        del_wt['Mutation'] = np.where(\n",
    "            del_wt['Mutation'] == 'No_Mutation', 'Wildtype_Tumor', 'Deletion')\n",
    "\n",
    "    return del_wt\n"
   ]
  },
  {
   "cell_type": "code",
   "execution_count": 5,
   "metadata": {},
   "outputs": [],
   "source": [
    "'''\n",
    "Params\n",
    "cancer_object: Object. Variable for the loaded cancer data set.\n",
    "cancer_name: Str. name to add to the created dataframe.\n",
    "del_wt_df: DataFrame. Only samples with deletions and wildtype for PTEN. \n",
    "all_prot_list: List. All proteins in proteomics data frame. \n",
    "\n",
    "Returns a dataframe with the difference in medians between proteomics with PTEN wt and del (wt - del). \n",
    "'''\n",
    "\n",
    "def get_change_in_medians_df(cancer_object, cancer_name, del_wt_df, all_prot_list):\n",
    "    d = del_wt_df[del_wt_df.Mutation == \"Deletion\"]\n",
    "    wt = del_wt_df[del_wt_df.Mutation == \"Wildtype_Tumor\"]\n",
    "    del_med = d.median()\n",
    "    wt_med = wt.median()\n",
    "\n",
    "    med_dict = {}\n",
    "    \n",
    "    # Correlation: + is mutant up compared to wt, - is mutant down\n",
    "    for prot in all_prot_list:\n",
    "        if prot in del_med.index and prot in wt_med.index:\n",
    "            dif = del_med[prot] - wt_med[prot]\n",
    "            med_dict[prot] = dif\n",
    "        \n",
    "    df = pd.DataFrame.from_dict(med_dict, orient='index', columns=[cancer_name+'_Median'])\n",
    "    df = df.reset_index().rename(columns={'index':'Proteomics'})\n",
    "    \n",
    "    return df\n",
    "        "
   ]
  },
  {
   "cell_type": "markdown",
   "metadata": {},
   "source": [
    "#  Step 1: Create Data frames with p-values and differences in median"
   ]
  },
  {
   "cell_type": "markdown",
   "metadata": {},
   "source": [
    "Each cancer needs a data frame containing only samples that have PTEN cnv deletions and PTEN wildtype with trans proteomics. Use wrap_ttest to run many T-tests for all genes in the proteomics data frame. Use get_change_in_medians_df to create the data frame with change in median values. Merge both data frames. "
   ]
  },
  {
   "cell_type": "markdown",
   "metadata": {},
   "source": [
    "Load in cancer data sets from cptac. "
   ]
  },
  {
   "cell_type": "code",
   "execution_count": 6,
   "metadata": {},
   "outputs": [
    {
     "name": "stdout",
     "output_type": "stream",
     "text": [
      "version 3scc v3.2.......                        \n",
      "                                            \r"
     ]
    }
   ],
   "source": [
    "g = cptac.Gbm()\n",
    "en = cptac.Endometrial()\n",
    "h = cptac.Hnscc()\n",
    "l = cptac.Luad()\n",
    "ls = cptac.Lscc()\n",
    "o = cptac.Ovarian()\n",
    "col = cptac.Colon()\n",
    "b = cptac.Brca()"
   ]
  },
  {
   "cell_type": "markdown",
   "metadata": {},
   "source": [
    "# Find the average of miRNA abundance"
   ]
  },
  {
   "cell_type": "code",
   "execution_count": 80,
   "metadata": {},
   "outputs": [
    {
     "name": "stdout",
     "output_type": "stream",
     "text": [
      "q1: 229.9597570425176 \tmedian: 317.4203759908164 \tq3: 432.57632476499464\n"
     ]
    }
   ],
   "source": [
    "gm = g.get_miRNA()\n",
    "gm = u.reduce_multiindex(gm, levels_to_drop = 1)\n",
    "m25 = gm[['hsa-miR-25-3p']]\n",
    "\n",
    "median = float(m25.median())\n",
    "q1 = np.percentile(m25, 25, interpolation = 'nearest') \n",
    "q3 = np.percentile(m25, 75, interpolation = 'nearest') \n",
    "\n",
    "print('q1:', q1, '\\tmedian:', median, '\\tq3:', q3)"
   ]
  },
  {
   "cell_type": "code",
   "execution_count": 76,
   "metadata": {},
   "outputs": [],
   "source": [
    "sd = float(m25.std()) # (median + sd) - (med - sd) = 68.2 ???"
   ]
  },
  {
   "cell_type": "code",
   "execution_count": 82,
   "metadata": {},
   "outputs": [
    {
     "data": {
      "text/html": [
       "<div>\n",
       "<style scoped>\n",
       "    .dataframe tbody tr th:only-of-type {\n",
       "        vertical-align: middle;\n",
       "    }\n",
       "\n",
       "    .dataframe tbody tr th {\n",
       "        vertical-align: top;\n",
       "    }\n",
       "\n",
       "    .dataframe thead th {\n",
       "        text-align: right;\n",
       "    }\n",
       "</style>\n",
       "<table border=\"1\" class=\"dataframe\">\n",
       "  <thead>\n",
       "    <tr style=\"text-align: right;\">\n",
       "      <th>Name</th>\n",
       "      <th>PTEN_proteomics</th>\n",
       "      <th>Mutation</th>\n",
       "    </tr>\n",
       "    <tr>\n",
       "      <th>Patient_ID</th>\n",
       "      <th></th>\n",
       "      <th></th>\n",
       "    </tr>\n",
       "  </thead>\n",
       "  <tbody>\n",
       "    <tr>\n",
       "      <th>C3L-00104</th>\n",
       "      <td>-0.431991</td>\n",
       "      <td>Deletion</td>\n",
       "    </tr>\n",
       "    <tr>\n",
       "      <th>C3L-00365</th>\n",
       "      <td>-0.265044</td>\n",
       "      <td>Deletion</td>\n",
       "    </tr>\n",
       "    <tr>\n",
       "      <th>C3L-00674</th>\n",
       "      <td>0.390190</td>\n",
       "      <td>Deletion</td>\n",
       "    </tr>\n",
       "    <tr>\n",
       "      <th>C3L-00677</th>\n",
       "      <td>-0.915526</td>\n",
       "      <td>Deletion</td>\n",
       "    </tr>\n",
       "    <tr>\n",
       "      <th>C3L-01040</th>\n",
       "      <td>0.680291</td>\n",
       "      <td>Deletion</td>\n",
       "    </tr>\n",
       "    <tr>\n",
       "      <th>...</th>\n",
       "      <td>...</td>\n",
       "      <td>...</td>\n",
       "    </tr>\n",
       "    <tr>\n",
       "      <th>C3N-03183</th>\n",
       "      <td>-0.725120</td>\n",
       "      <td>Deletion</td>\n",
       "    </tr>\n",
       "    <tr>\n",
       "      <th>C3N-03184</th>\n",
       "      <td>-0.242603</td>\n",
       "      <td>Deletion</td>\n",
       "    </tr>\n",
       "    <tr>\n",
       "      <th>C3N-03186</th>\n",
       "      <td>0.428594</td>\n",
       "      <td>Deletion</td>\n",
       "    </tr>\n",
       "    <tr>\n",
       "      <th>C3N-03188</th>\n",
       "      <td>0.928991</td>\n",
       "      <td>Wildtype_Tumor</td>\n",
       "    </tr>\n",
       "    <tr>\n",
       "      <th>C3N-03473</th>\n",
       "      <td>0.396673</td>\n",
       "      <td>Deletion</td>\n",
       "    </tr>\n",
       "  </tbody>\n",
       "</table>\n",
       "<p>97 rows × 2 columns</p>\n",
       "</div>"
      ],
      "text/plain": [
       "Name        PTEN_proteomics        Mutation\n",
       "Patient_ID                                 \n",
       "C3L-00104         -0.431991        Deletion\n",
       "C3L-00365         -0.265044        Deletion\n",
       "C3L-00674          0.390190        Deletion\n",
       "C3L-00677         -0.915526        Deletion\n",
       "C3L-01040          0.680291        Deletion\n",
       "...                     ...             ...\n",
       "C3N-03183         -0.725120        Deletion\n",
       "C3N-03184         -0.242603        Deletion\n",
       "C3N-03186          0.428594        Deletion\n",
       "C3N-03188          0.928991  Wildtype_Tumor\n",
       "C3N-03473          0.396673        Deletion\n",
       "\n",
       "[97 rows x 2 columns]"
      ]
     },
     "execution_count": 82,
     "metadata": {},
     "output_type": "execute_result"
    }
   ],
   "source": [
    "gene = 'PTEN'\n",
    "gm_list = list(m25.columns)\n",
    "gm = all_prot_format_df(g, gm_list)\n",
    "gm.Mutation.value_counts()\n",
    "gm"
   ]
  },
  {
   "cell_type": "code",
   "execution_count": 83,
   "metadata": {},
   "outputs": [
    {
     "data": {
      "text/html": [
       "<div>\n",
       "<style scoped>\n",
       "    .dataframe tbody tr th:only-of-type {\n",
       "        vertical-align: middle;\n",
       "    }\n",
       "\n",
       "    .dataframe tbody tr th {\n",
       "        vertical-align: top;\n",
       "    }\n",
       "\n",
       "    .dataframe thead th {\n",
       "        text-align: right;\n",
       "    }\n",
       "</style>\n",
       "<table border=\"1\" class=\"dataframe\">\n",
       "  <thead>\n",
       "    <tr style=\"text-align: right;\">\n",
       "      <th>Name</th>\n",
       "      <th>hsa-miR-25-3p</th>\n",
       "      <th>miRNA_status</th>\n",
       "    </tr>\n",
       "    <tr>\n",
       "      <th>Patient_ID</th>\n",
       "      <th></th>\n",
       "      <th></th>\n",
       "    </tr>\n",
       "  </thead>\n",
       "  <tbody>\n",
       "    <tr>\n",
       "      <th>C3L-00104</th>\n",
       "      <td>341.652573</td>\n",
       "      <td>high</td>\n",
       "    </tr>\n",
       "    <tr>\n",
       "      <th>C3L-00365</th>\n",
       "      <td>343.139007</td>\n",
       "      <td>high</td>\n",
       "    </tr>\n",
       "    <tr>\n",
       "      <th>C3L-00674</th>\n",
       "      <td>1428.981227</td>\n",
       "      <td>med</td>\n",
       "    </tr>\n",
       "    <tr>\n",
       "      <th>C3L-00677</th>\n",
       "      <td>890.645621</td>\n",
       "      <td>med</td>\n",
       "    </tr>\n",
       "    <tr>\n",
       "      <th>C3L-01040</th>\n",
       "      <td>164.881399</td>\n",
       "      <td>low</td>\n",
       "    </tr>\n",
       "    <tr>\n",
       "      <th>...</th>\n",
       "      <td>...</td>\n",
       "      <td>...</td>\n",
       "    </tr>\n",
       "    <tr>\n",
       "      <th>PT-RN5K.N</th>\n",
       "      <td>83.473228</td>\n",
       "      <td>low</td>\n",
       "    </tr>\n",
       "    <tr>\n",
       "      <th>PT-RU72.N</th>\n",
       "      <td>67.660219</td>\n",
       "      <td>low</td>\n",
       "    </tr>\n",
       "    <tr>\n",
       "      <th>PT-UTHO.N</th>\n",
       "      <td>150.314215</td>\n",
       "      <td>low</td>\n",
       "    </tr>\n",
       "    <tr>\n",
       "      <th>PT-WVLH.N</th>\n",
       "      <td>147.545216</td>\n",
       "      <td>low</td>\n",
       "    </tr>\n",
       "    <tr>\n",
       "      <th>PT-Y8DK.N</th>\n",
       "      <td>92.731092</td>\n",
       "      <td>low</td>\n",
       "    </tr>\n",
       "  </tbody>\n",
       "</table>\n",
       "<p>106 rows × 2 columns</p>\n",
       "</div>"
      ],
      "text/plain": [
       "Name        hsa-miR-25-3p miRNA_status\n",
       "Patient_ID                            \n",
       "C3L-00104      341.652573         high\n",
       "C3L-00365      343.139007         high\n",
       "C3L-00674     1428.981227          med\n",
       "C3L-00677      890.645621          med\n",
       "C3L-01040      164.881399          low\n",
       "...                   ...          ...\n",
       "PT-RN5K.N       83.473228          low\n",
       "PT-RU72.N       67.660219          low\n",
       "PT-UTHO.N      150.314215          low\n",
       "PT-WVLH.N      147.545216          low\n",
       "PT-Y8DK.N       92.731092          low\n",
       "\n",
       "[106 rows x 2 columns]"
      ]
     },
     "execution_count": 83,
     "metadata": {},
     "output_type": "execute_result"
    }
   ],
   "source": [
    "def status(row):\n",
    "    status = 'na'\n",
    "    for val in row: \n",
    "        if pd.isnull(val):\n",
    "            continue\n",
    "        val = float(val)\n",
    "        if val < q1:\n",
    "            status = 'low'\n",
    "        elif val < q3:\n",
    "            status = 'high'\n",
    "        else:\n",
    "            status = 'med'\n",
    "        return status\n",
    "\n",
    "\n",
    "m25['miRNA_status'] = m25.apply(status, axis = 1)\n",
    "m25"
   ]
  },
  {
   "cell_type": "code",
   "execution_count": 88,
   "metadata": {},
   "outputs": [],
   "source": [
    "both = gm[['PTEN_proteomics']].join(m25[['miRNA_status']])\n",
    "hilo = both.loc[both['miRNA_status'] != 'med']"
   ]
  },
  {
   "cell_type": "code",
   "execution_count": null,
   "metadata": {},
   "outputs": [],
   "source": []
  },
  {
   "cell_type": "code",
   "execution_count": null,
   "metadata": {},
   "outputs": [],
   "source": []
  },
  {
   "cell_type": "code",
   "execution_count": null,
   "metadata": {},
   "outputs": [],
   "source": []
  },
  {
   "cell_type": "markdown",
   "metadata": {},
   "source": [
    "Part 2: Run T-tests. Create a data frame of just significant comparisons and another data frame for all comparisons. A moderately stringent correction is used (FDR_BH)."
   ]
  },
  {
   "cell_type": "code",
   "execution_count": 96,
   "metadata": {},
   "outputs": [
    {
     "name": "stdout",
     "output_type": "stream",
     "text": [
      "Incorrectly Formatted Dataframe! Label column must have exactly 2 unique values.\n"
     ]
    },
    {
     "data": {
      "text/plain": [
       "high    51\n",
       "low     18\n",
       "Name: miRNA_status, dtype: int64"
      ]
     },
     "execution_count": 96,
     "metadata": {},
     "output_type": "execute_result"
    }
   ],
   "source": [
    "#g_cols = list(g_del_wt.columns[:-1])\n",
    "g_cols = ['PTEN_proteomics']\n",
    "#g_cols = ['hsa-miR-25-5p_miRNA']\n",
    "\n",
    "# Get all pvals\n",
    "g_pval = wrap_ttest(hilo, 'miRNA_status', g_cols, return_all = True, correction_method = 'fdr_bh', mincount = 3)\n",
    "#g_pval = g_pval.rename(columns = {'Comparison': 'Proteomics','P_Value': 'Gbm_P_Value'})\n",
    "g_cols\n",
    "hilo['miRNA_status'].value_counts()"
   ]
  },
  {
   "cell_type": "code",
   "execution_count": 97,
   "metadata": {},
   "outputs": [
    {
     "data": {
      "text/html": [
       "<div>\n",
       "<style scoped>\n",
       "    .dataframe tbody tr th:only-of-type {\n",
       "        vertical-align: middle;\n",
       "    }\n",
       "\n",
       "    .dataframe tbody tr th {\n",
       "        vertical-align: top;\n",
       "    }\n",
       "\n",
       "    .dataframe thead th {\n",
       "        text-align: right;\n",
       "    }\n",
       "</style>\n",
       "<table border=\"1\" class=\"dataframe\">\n",
       "  <thead>\n",
       "    <tr style=\"text-align: right;\">\n",
       "      <th>Name</th>\n",
       "      <th>PTEN_proteomics</th>\n",
       "      <th>miRNA_status</th>\n",
       "    </tr>\n",
       "    <tr>\n",
       "      <th>Patient_ID</th>\n",
       "      <th></th>\n",
       "      <th></th>\n",
       "    </tr>\n",
       "  </thead>\n",
       "  <tbody>\n",
       "    <tr>\n",
       "      <th>C3L-00104</th>\n",
       "      <td>-0.431991</td>\n",
       "      <td>high</td>\n",
       "    </tr>\n",
       "    <tr>\n",
       "      <th>C3L-00365</th>\n",
       "      <td>-0.265044</td>\n",
       "      <td>high</td>\n",
       "    </tr>\n",
       "    <tr>\n",
       "      <th>C3L-01040</th>\n",
       "      <td>0.680291</td>\n",
       "      <td>low</td>\n",
       "    </tr>\n",
       "    <tr>\n",
       "      <th>C3L-01043</th>\n",
       "      <td>-0.580510</td>\n",
       "      <td>high</td>\n",
       "    </tr>\n",
       "    <tr>\n",
       "      <th>C3L-01046</th>\n",
       "      <td>-0.341718</td>\n",
       "      <td>high</td>\n",
       "    </tr>\n",
       "    <tr>\n",
       "      <th>...</th>\n",
       "      <td>...</td>\n",
       "      <td>...</td>\n",
       "    </tr>\n",
       "    <tr>\n",
       "      <th>C3N-03088</th>\n",
       "      <td>0.955729</td>\n",
       "      <td>high</td>\n",
       "    </tr>\n",
       "    <tr>\n",
       "      <th>C3N-03180</th>\n",
       "      <td>0.273347</td>\n",
       "      <td>high</td>\n",
       "    </tr>\n",
       "    <tr>\n",
       "      <th>C3N-03184</th>\n",
       "      <td>-0.242603</td>\n",
       "      <td>high</td>\n",
       "    </tr>\n",
       "    <tr>\n",
       "      <th>C3N-03186</th>\n",
       "      <td>0.428594</td>\n",
       "      <td>low</td>\n",
       "    </tr>\n",
       "    <tr>\n",
       "      <th>C3N-03188</th>\n",
       "      <td>0.928991</td>\n",
       "      <td>low</td>\n",
       "    </tr>\n",
       "  </tbody>\n",
       "</table>\n",
       "<p>70 rows × 2 columns</p>\n",
       "</div>"
      ],
      "text/plain": [
       "Name        PTEN_proteomics miRNA_status\n",
       "Patient_ID                              \n",
       "C3L-00104         -0.431991         high\n",
       "C3L-00365         -0.265044         high\n",
       "C3L-01040          0.680291          low\n",
       "C3L-01043         -0.580510         high\n",
       "C3L-01046         -0.341718         high\n",
       "...                     ...          ...\n",
       "C3N-03088          0.955729         high\n",
       "C3N-03180          0.273347         high\n",
       "C3N-03184         -0.242603         high\n",
       "C3N-03186          0.428594          low\n",
       "C3N-03188          0.928991          low\n",
       "\n",
       "[70 rows x 2 columns]"
      ]
     },
     "execution_count": 97,
     "metadata": {},
     "output_type": "execute_result"
    }
   ],
   "source": [
    "hilo\n"
   ]
  },
  {
   "cell_type": "markdown",
   "metadata": {},
   "source": [
    "Part 3: Create the differences in median df. (median of wildtype tumors - median of cnv deletions)"
   ]
  },
  {
   "cell_type": "code",
   "execution_count": 9,
   "metadata": {},
   "outputs": [
    {
     "name": "stderr",
     "output_type": "stream",
     "text": [
      "C:\\Users\\brittany henderson\\Anaconda3\\envs\\Research\\lib\\site-packages\\numpy\\lib\\nanfunctions.py:1076: RuntimeWarning: Mean of empty slice\n",
      "  return np.nanmean(a, axis, out=out, keepdims=keepdims)\n"
     ]
    }
   ],
   "source": [
    "g_med = get_change_in_medians_df(g, \"Gbm\", g_del_wt, g_cols)"
   ]
  },
  {
   "cell_type": "markdown",
   "metadata": {},
   "source": [
    "Part 4: Merge the p-values and the differences in median dfs."
   ]
  },
  {
   "cell_type": "code",
   "execution_count": 10,
   "metadata": {},
   "outputs": [
    {
     "data": {
      "text/html": [
       "<div>\n",
       "<style scoped>\n",
       "    .dataframe tbody tr th:only-of-type {\n",
       "        vertical-align: middle;\n",
       "    }\n",
       "\n",
       "    .dataframe tbody tr th {\n",
       "        vertical-align: top;\n",
       "    }\n",
       "\n",
       "    .dataframe thead th {\n",
       "        text-align: right;\n",
       "    }\n",
       "</style>\n",
       "<table border=\"1\" class=\"dataframe\">\n",
       "  <thead>\n",
       "    <tr style=\"text-align: right;\">\n",
       "      <th></th>\n",
       "      <th>Proteomics</th>\n",
       "      <th>Gbm_P_Value</th>\n",
       "      <th>Gbm_Median</th>\n",
       "    </tr>\n",
       "  </thead>\n",
       "  <tbody>\n",
       "    <tr>\n",
       "      <th>0</th>\n",
       "      <td>ARMH3</td>\n",
       "      <td>5.766739e-07</td>\n",
       "      <td>-0.405134</td>\n",
       "    </tr>\n",
       "    <tr>\n",
       "      <th>1</th>\n",
       "      <td>CUTC</td>\n",
       "      <td>8.514758e-07</td>\n",
       "      <td>-0.553255</td>\n",
       "    </tr>\n",
       "    <tr>\n",
       "      <th>2</th>\n",
       "      <td>CUL2</td>\n",
       "      <td>2.783477e-06</td>\n",
       "      <td>-0.586396</td>\n",
       "    </tr>\n",
       "    <tr>\n",
       "      <th>3</th>\n",
       "      <td>PIP4K2A</td>\n",
       "      <td>2.783477e-06</td>\n",
       "      <td>-0.838882</td>\n",
       "    </tr>\n",
       "    <tr>\n",
       "      <th>4</th>\n",
       "      <td>GDI2</td>\n",
       "      <td>2.783477e-06</td>\n",
       "      <td>-0.610188</td>\n",
       "    </tr>\n",
       "  </tbody>\n",
       "</table>\n",
       "</div>"
      ],
      "text/plain": [
       "  Proteomics   Gbm_P_Value  Gbm_Median\n",
       "0      ARMH3  5.766739e-07   -0.405134\n",
       "1       CUTC  8.514758e-07   -0.553255\n",
       "2       CUL2  2.783477e-06   -0.586396\n",
       "3    PIP4K2A  2.783477e-06   -0.838882\n",
       "4       GDI2  2.783477e-06   -0.610188"
      ]
     },
     "execution_count": 10,
     "metadata": {},
     "output_type": "execute_result"
    }
   ],
   "source": [
    "g_merged = g_pval.merge(g_med, on='Proteomics', how='outer')\n",
    "g_merged = g_merged.replace(to_replace = r'_proteomics', value = '', regex = True)\n",
    "\n",
    "# Create csv\n",
    "g_merged.to_csv(root+R'\\Gbm_pval_medians.csv',index=False)\n",
    "g_merged.head()"
   ]
  },
  {
   "cell_type": "markdown",
   "metadata": {},
   "source": [
    "# Repeat for other cancers."
   ]
  },
  {
   "cell_type": "code",
   "execution_count": 11,
   "metadata": {},
   "outputs": [],
   "source": [
    "cancer_objects = {'Hnscc':h, 'Luad':l, 'Lscc':ls, 'Brca':b, 'Colon':col, 'Ov':o}"
   ]
  },
  {
   "cell_type": "code",
   "execution_count": 12,
   "metadata": {},
   "outputs": [
    {
     "name": "stderr",
     "output_type": "stream",
     "text": [
      "cptac warning: In joining the somatic_mutation table, no mutations were found for the following samples, so they were filled with Wildtype_Tumor or Wildtype_Normal: 109 samples for the PTEN gene (C:\\Users\\brittany henderson\\Anaconda3\\envs\\Research\\lib\\site-packages\\cptac\\dataset.py, line 313)\n",
      "cptac warning: CNV data was not found for the following samples, so CNV data columns were filled with NaN for these samples: C3L-02617, C3N-02727 (C:\\Users\\brittany henderson\\Anaconda3\\envs\\Research\\lib\\site-packages\\cptac\\dataset.py, line 313)\n",
      "cptac warning: In joining the somatic_mutation table, no mutations were found for the following samples, so they were filled with Wildtype_Tumor or Wildtype_Normal: 176 samples for the PTEN gene (C:\\Users\\brittany henderson\\Anaconda3\\envs\\Research\\lib\\site-packages\\ipykernel_launcher.py, line 11)\n",
      "C:\\Users\\brittany henderson\\Anaconda3\\envs\\Research\\lib\\site-packages\\numpy\\lib\\nanfunctions.py:1076: RuntimeWarning: Mean of empty slice\n",
      "  return np.nanmean(a, axis, out=out, keepdims=keepdims)\n"
     ]
    },
    {
     "name": "stdout",
     "output_type": "stream",
     "text": [
      "  Proteomics  Hnscc_P_Value  Hnscc_Median\n",
      "0        NLN       0.000012      0.431666\n",
      "1     AKR1C3       0.000054      0.951905\n",
      "2     AKR1C1       0.000240      1.961262\n",
      "3       ADI1       0.000416      0.513198\n",
      "4      EPHX1       0.000678      0.871688 \n",
      "\n"
     ]
    },
    {
     "name": "stderr",
     "output_type": "stream",
     "text": [
      "cptac warning: Due to dropping the specified levels, dataframe now has 745 duplicated column headers. (C:\\Users\\brittany henderson\\Anaconda3\\envs\\Research\\lib\\site-packages\\ipykernel_launcher.py, line 12)\n",
      "cptac warning: CNV data was not found for the following samples, so CNV data columns were filled with NaN for these samples: C3L-00001.N, C3L-00009.N, C3L-00080.N, C3L-00083.N, C3L-00093.N, C3L-00094.N, C3L-00095.N, C3L-00140.N, C3L-00144.N, C3L-00263.N, C3L-00279.N, C3L-00368.N, C3L-00412.N, C3L-00422.N, C3L-00510.N, C3L-00604.N, C3L-00893.N, C3L-00913.N, C3L-00973.N, C3L-01330.N, C3L-01632.N, C3L-01682.N, C3L-01683.N, C3L-01889.N, C3L-01890, C3L-01890.N, C3L-01924.N, C3L-02219.N, C3L-02345.N, C3L-02348.N, C3L-02350.N, C3L-02365.N, C3L-02508.N, C3L-02549.N, C3N-00167.N, C3N-00169.N, C3N-00175.N, C3N-00180.N, C3N-00199.N, C3N-00203.N, C3N-00217.N, C3N-00223.N, C3N-00293.N, C3N-00433.N, C3N-00546.N, C3N-00547.N, C3N-00549.N, C3N-00550.N, C3N-00551.N, C3N-00552.N, C3N-00556.N, C3N-00559.N, C3N-00560.N, C3N-00572.N, C3N-00574.N, C3N-00578.N, C3N-00579.N, C3N-00580.N, C3N-00704.N, C3N-00737.N, C3N-00738.N, C3N-00959.N, C3N-01016.N, C3N-01021.N, C3N-01023.N, C3N-01024.N, C3N-01030.N, C3N-01071.N, C3N-01072.N, C3N-01405.N, C3N-01410.N, C3N-01413.N, C3N-01414.N, C3N-01415.N, C3N-01416.N, C3N-01488.N, C3N-01489.N, C3N-01799.N, C3N-01823.N, C3N-02000.N, C3N-02002.N, C3N-02003.N, C3N-02067.N, C3N-02087.N, C3N-02089.N, C3N-02145.N, C3N-02149.N, C3N-02155.N, C3N-02158.N, C3N-02379.N, C3N-02380.N, C3N-02421.N, C3N-02423.N, C3N-02424.N, C3N-02433.N, C3N-02529.N, C3N-02572.N, C3N-02582.N, C3N-02586.N, C3N-02587.N, C3N-02588.N, C3N-02729.N (C:\\Users\\brittany henderson\\Anaconda3\\envs\\Research\\lib\\site-packages\\ipykernel_launcher.py, line 34)\n",
      "cptac warning: Due to dropping the specified levels, dataframe now has 745 duplicated column headers. (C:\\Users\\brittany henderson\\Anaconda3\\envs\\Research\\lib\\site-packages\\ipykernel_launcher.py, line 35)\n",
      "cptac warning: You tried to flatten a column index that didn't have multiple levels, so we didn't actually change anything. (C:\\Users\\brittany henderson\\Anaconda3\\envs\\Research\\lib\\site-packages\\ipykernel_launcher.py, line 35)\n",
      "C:\\Users\\brittany henderson\\Anaconda3\\envs\\Research\\lib\\site-packages\\ipykernel_launcher.py:49: SettingWithCopyWarning: \n",
      "A value is trying to be set on a copy of a slice from a DataFrame.\n",
      "Try using .loc[row_indexer,col_indexer] = value instead\n",
      "\n",
      "See the caveats in the documentation: https://pandas.pydata.org/pandas-docs/stable/user_guide/indexing.html#returning-a-view-versus-a-copy\n"
     ]
    },
    {
     "name": "stdout",
     "output_type": "stream",
     "text": [
      "  Proteomics  Luad_P_Value  Luad_Median\n",
      "0       ATE1      0.003010     -0.88365\n",
      "1      SHOC2      0.003209     -0.60600\n",
      "2       EGFR      0.003209      2.32970\n",
      "3     LANCL2      0.004599      1.21475\n",
      "4    CWF19L1      0.005583     -0.57265 \n",
      "\n"
     ]
    },
    {
     "name": "stderr",
     "output_type": "stream",
     "text": [
      "cptac warning: Due to dropping the specified levels, dataframe now has 858 duplicated column headers. (C:\\Users\\brittany henderson\\Anaconda3\\envs\\Research\\lib\\site-packages\\ipykernel_launcher.py, line 12)\n",
      "cptac warning: In joining the somatic_mutation table, no mutations were found for the following samples, so they were filled with Wildtype_Tumor or Wildtype_Normal: 96 samples for the PTEN gene (C:\\Users\\brittany henderson\\Anaconda3\\envs\\Research\\lib\\site-packages\\cptac\\dataset.py, line 313)\n",
      "cptac warning: In joining the somatic_mutation table, no mutations were found for the following samples, so they were filled with Wildtype_Tumor or Wildtype_Normal: 195 samples for the PTEN gene (C:\\Users\\brittany henderson\\Anaconda3\\envs\\Research\\lib\\site-packages\\ipykernel_launcher.py, line 11)\n",
      "cptac warning: Due to dropping the specified levels, dataframe now has 858 duplicated column headers. (C:\\Users\\brittany henderson\\Anaconda3\\envs\\Research\\lib\\site-packages\\ipykernel_launcher.py, line 14)\n"
     ]
    },
    {
     "name": "stdout",
     "output_type": "stream",
     "text": [
      "  Proteomics  Lscc_P_Value  Lscc_Median\n",
      "0      ATAD1      0.000006     -1.34185\n",
      "1      BTAF1      0.001136     -0.59625\n",
      "2     VPS26A      0.047096     -0.45300\n",
      "3     KIF20B      0.064640     -1.13105\n",
      "4        SLK      0.083806     -0.61615 \n",
      "\n"
     ]
    },
    {
     "name": "stderr",
     "output_type": "stream",
     "text": [
      "cptac warning: Due to dropping the specified levels, dataframe now has 655 duplicated column headers. (C:\\Users\\brittany henderson\\Anaconda3\\envs\\Research\\lib\\site-packages\\ipykernel_launcher.py, line 12)\n",
      "cptac warning: In joining the somatic_mutation table, no mutations were found for the following samples, so they were filled with Wildtype_Tumor or Wildtype_Normal: 113 samples for the PTEN gene (C:\\Users\\brittany henderson\\Anaconda3\\envs\\Research\\lib\\site-packages\\cptac\\dataset.py, line 313)\n",
      "cptac warning: In joining the somatic_mutation table, no mutations were found for the following samples, so they were filled with Wildtype_Tumor or Wildtype_Normal: 113 samples for the PTEN gene (C:\\Users\\brittany henderson\\Anaconda3\\envs\\Research\\lib\\site-packages\\ipykernel_launcher.py, line 11)\n",
      "cptac warning: Due to dropping the specified levels, dataframe now has 655 duplicated column headers. (C:\\Users\\brittany henderson\\Anaconda3\\envs\\Research\\lib\\site-packages\\ipykernel_launcher.py, line 14)\n"
     ]
    },
    {
     "name": "stdout",
     "output_type": "stream",
     "text": [
      "  Proteomics  Brca_P_Value  Brca_Median\n",
      "0     TMSB10      0.131051      0.87630\n",
      "1       DRG1      0.131051      0.75135\n",
      "2      EIF4H      0.131051      0.41295\n",
      "3      RIPK2      0.131051      0.82670\n",
      "4      MIEF1      0.131051      0.84135 \n",
      "\n"
     ]
    },
    {
     "name": "stderr",
     "output_type": "stream",
     "text": [
      "cptac warning: In joining the somatic_mutation table, no mutations were found for the following samples, so they were filled with Wildtype_Tumor or Wildtype_Normal: 100 samples for the PTEN gene (C:\\Users\\brittany henderson\\Anaconda3\\envs\\Research\\lib\\site-packages\\cptac\\dataset.py, line 313)\n",
      "cptac warning: CNV data was not found for the following samples, so CNV data columns were filled with NaN for these samples: 05CO045 (C:\\Users\\brittany henderson\\Anaconda3\\envs\\Research\\lib\\site-packages\\cptac\\dataset.py, line 313)\n",
      "cptac warning: In joining the somatic_mutation table, no mutations were found for the following samples, so they were filled with Wildtype_Tumor or Wildtype_Normal: 201 samples for the PTEN gene (C:\\Users\\brittany henderson\\Anaconda3\\envs\\Research\\lib\\site-packages\\ipykernel_launcher.py, line 11)\n",
      "cptac warning: proteomics data was not found for the following samples, so proteomics data columns were filled with NaN for these samples: 01CO001, 05CO005, 05CO007, 05CO014, 05CO055, 11CO059, 11CO060, 14CO002, 16CO012, 24CO005 (C:\\Users\\brittany henderson\\Anaconda3\\envs\\Research\\lib\\site-packages\\ipykernel_launcher.py, line 11)\n",
      "C:\\Users\\brittany henderson\\Anaconda3\\envs\\Research\\lib\\site-packages\\numpy\\lib\\nanfunctions.py:1076: RuntimeWarning: Mean of empty slice\n",
      "  return np.nanmean(a, axis, out=out, keepdims=keepdims)\n"
     ]
    },
    {
     "name": "stdout",
     "output_type": "stream",
     "text": [
      "  Proteomics  Colon_P_Value  Colon_Median\n",
      "0       DFFA       0.268924      -0.19930\n",
      "1       GBF1       0.295685      -0.12630\n",
      "2    SEC14L2       0.295685      -0.66800\n",
      "3       WAPL       0.295685      -0.19605\n",
      "4    STK11IP       0.345534      -0.31250 \n",
      "\n"
     ]
    },
    {
     "name": "stderr",
     "output_type": "stream",
     "text": [
      "cptac warning: Due to dropping the specified levels, dataframe now has 1162 duplicated column headers. (C:\\Users\\brittany henderson\\Anaconda3\\envs\\Research\\lib\\site-packages\\ipykernel_launcher.py, line 12)\n",
      "cptac warning: In joining the somatic_mutation table, no mutations were found for the following samples, so they were filled with Wildtype_Tumor or Wildtype_Normal: 98 samples for the PTEN gene (C:\\Users\\brittany henderson\\Anaconda3\\envs\\Research\\lib\\site-packages\\cptac\\dataset.py, line 313)\n",
      "cptac warning: CNV data was not found for the following samples, so CNV data columns were filled with NaN for these samples: 01OV029, 02OV015 (C:\\Users\\brittany henderson\\Anaconda3\\envs\\Research\\lib\\site-packages\\cptac\\dataset.py, line 313)\n",
      "cptac warning: In joining the somatic_mutation table, no mutations were found for the following samples, so they were filled with Wildtype_Tumor or Wildtype_Normal: 99 samples for the PTEN gene (C:\\Users\\brittany henderson\\Anaconda3\\envs\\Research\\lib\\site-packages\\ipykernel_launcher.py, line 11)\n",
      "cptac warning: Due to dropping the specified levels, dataframe now has 1162 duplicated column headers. (C:\\Users\\brittany henderson\\Anaconda3\\envs\\Research\\lib\\site-packages\\ipykernel_launcher.py, line 14)\n",
      "C:\\Users\\brittany henderson\\Anaconda3\\envs\\Research\\lib\\site-packages\\numpy\\lib\\nanfunctions.py:1076: RuntimeWarning: Mean of empty slice\n",
      "  return np.nanmean(a, axis, out=out, keepdims=keepdims)\n"
     ]
    },
    {
     "name": "stdout",
     "output_type": "stream",
     "text": [
      "  Proteomics  Ov_P_Value  Ov_Median\n",
      "0      MMS19    0.000110  -0.324897\n",
      "1     PI4K2A    0.322853  -0.298399\n",
      "2      RACK1    0.322853  -0.191250\n",
      "3      PGAM2    0.355275  -0.292221\n",
      "4      RRP12    0.355275  -0.305705 \n",
      "\n"
     ]
    }
   ],
   "source": [
    "import warnings\n",
    "warnings.filterwarnings('ignore')\n",
    "\n",
    "gene = 'PTEN'\n",
    "merged_dfs = {}\n",
    "for cancer in cancer_objects:\n",
    "\n",
    "    prot = cancer_objects[cancer].get_proteomics()\n",
    "    prot = prot.drop(columns = 'PTEN')\n",
    "    # Reduce a multiindex \n",
    "    if isinstance(prot.keys(), pd.core.indexes.multi.MultiIndex):\n",
    "        prot = u.reduce_multiindex(prot, levels_to_drop = 1)\n",
    "    prot_list = list(prot.columns)\n",
    "    \n",
    "    # Format df for t-test\n",
    "    del_wt = all_prot_format_df(cancer_objects[cancer], prot_list)\n",
    "    #del_wt = del_wt.dropna(axis='columns', thresh = 10)\n",
    "    \n",
    "    # Rename duplicate columns (isoforms)\n",
    "    col_names = pd.Series(del_wt.columns[:])\n",
    "    for dup in col_names[col_names.duplicated()].unique(): \n",
    "        col_names[col_names[col_names == dup].index.values.tolist()] = [dup + '_isoform_' + str(i) if i != 0 else dup for i in range(sum(col_names == dup))]\n",
    "    del_wt.columns = col_names # rename the columns with the cols list\n",
    "    \n",
    "    # T-test\n",
    "    cols_in = list(del_wt.columns[:-1])\n",
    "\n",
    "    # Get all pvals\n",
    "    min_num = 5\n",
    "    all_pval = wrap_ttest(del_wt, 'Mutation', cols_in, return_all = True, correction_method = 'fdr_bh', mincount = min_num)\n",
    "    all_pval = all_pval.rename(columns = {'Comparison': 'Proteomics','P_Value': cancer+'_P_Value'})\n",
    "    \n",
    "    # Get difference in medians\n",
    "    delta_median_df = get_change_in_medians_df(cancer_objects[cancer], cancer, del_wt, cols_in)\n",
    "\n",
    "    # Merge pval_df and delta_median_df\n",
    "    pval_medians_df = all_pval.merge(delta_median_df, on='Proteomics', how='outer')\n",
    "    pval_medians_df = pval_medians_df.replace(to_replace = r'_proteomics', value = '', regex = True)\n",
    "    merged_dfs[cancer] = pval_medians_df # testing purposes\n",
    "    \n",
    "    # Create csv\n",
    "    pval_medians_df.to_csv(root+'\\\\'+cancer+'_pval_medians.csv', index=False)\n",
    "    print(pval_medians_df.head(), '\\n')"
   ]
  },
  {
   "cell_type": "markdown",
   "metadata": {},
   "source": [
    "# Endometrial"
   ]
  },
  {
   "cell_type": "markdown",
   "metadata": {},
   "source": [
    "The Endometrial data set does not have enough cnv deletions to perform a t-test, however the data set does have enough truncation type mutations (nonsense and frameshift). Different code is needed to create the data frame for Endometrial."
   ]
  },
  {
   "cell_type": "code",
   "execution_count": 13,
   "metadata": {},
   "outputs": [
    {
     "name": "stderr",
     "output_type": "stream",
     "text": [
      "cptac warning: In joining the somatic_mutation table, no mutations were found for the following samples, so they were filled with Wildtype_Tumor or Wildtype_Normal: 20 samples for the PTEN gene (C:\\Users\\brittany henderson\\Anaconda3\\envs\\Research\\lib\\site-packages\\cptac\\dataset.py, line 313)\n",
      "cptac warning: In joining the somatic_mutation table, no mutations were found for the following samples, so they were filled with Wildtype_Tumor or Wildtype_Normal: 69 samples for the PTEN gene (C:\\Users\\brittany henderson\\Anaconda3\\envs\\Research\\lib\\site-packages\\ipykernel_launcher.py, line 10)\n",
      "C:\\Users\\brittany henderson\\Anaconda3\\envs\\Research\\lib\\site-packages\\ipykernel_launcher.py:21: SettingWithCopyWarning: \n",
      "A value is trying to be set on a copy of a slice from a DataFrame.\n",
      "Try using .loc[row_indexer,col_indexer] = value instead\n",
      "\n",
      "See the caveats in the documentation: https://pandas.pydata.org/pandas-docs/stable/user_guide/indexing.html#returning-a-view-versus-a-copy\n"
     ]
    }
   ],
   "source": [
    "gene = 'PTEN'\n",
    "prot = en.get_proteomics()\n",
    "prot = prot.drop(columns = 'PTEN')\n",
    "e_prot_list = list(prot.columns)\n",
    "\n",
    "mut_type = en.get_genotype_all_vars(gene)\n",
    "\n",
    "# merge cnv with genotype all mut type\n",
    "prot_and_mutations = en.join_omics_to_mutations(\n",
    "    mutations_genes = [gene], omics_df_name = 'proteomics', omics_genes = e_prot_list)\n",
    "prot_and_mutations = prot_and_mutations[prot_and_mutations.Sample_Status == \"Tumor\"] # drop Normal samples\n",
    "ip_df = prot_and_mutations.iloc[:,:-4] #drop mutation, location cols\n",
    "mut_type = mut_type[['Mutation']] \n",
    "merged = ip_df.join(mut_type) # merge mutation col from function (includes cnv)\n",
    "\n",
    "# Keep two values to compare\n",
    "compare = ['Wildtype_Tumor','Nonsense_Mutation','Frame_Shift_Ins','Frame_Shift_Del']\n",
    "get = merged['Mutation'].isin(compare)\n",
    "trunc_wt = merged[get]\n",
    "trunc_wt['Mutation'] = np.where(\n",
    "                trunc_wt['Mutation'] == 'Wildtype_Tumor', 'Wildtype_Tumor', 'Truncation')"
   ]
  },
  {
   "cell_type": "code",
   "execution_count": 14,
   "metadata": {},
   "outputs": [],
   "source": [
    "e_cols = list(trunc_wt.columns[:-1])\n",
    "\n",
    "# Get all pvals\n",
    "e_pval = wrap_ttest(trunc_wt, 'Mutation', e_cols, return_all = True, correction_method = 'fdr_bh', mincount = 5)\n",
    "e_pval = e_pval.rename(columns = {'Comparison': 'Proteomics','P_Value': 'En_P_Value'})"
   ]
  },
  {
   "cell_type": "markdown",
   "metadata": {},
   "source": [
    "Differences in median with adaption for trunctation mutations."
   ]
  },
  {
   "cell_type": "code",
   "execution_count": 15,
   "metadata": {},
   "outputs": [
    {
     "name": "stderr",
     "output_type": "stream",
     "text": [
      "C:\\Users\\brittany henderson\\Anaconda3\\envs\\Research\\lib\\site-packages\\numpy\\lib\\nanfunctions.py:1076: RuntimeWarning: Mean of empty slice\n",
      "  return np.nanmean(a, axis, out=out, keepdims=keepdims)\n"
     ]
    }
   ],
   "source": [
    "t = trunc_wt[trunc_wt.Mutation == \"Truncation\"]\n",
    "wt = trunc_wt[trunc_wt.Mutation == \"Wildtype_Tumor\"]\n",
    "trunc_med = t.median()\n",
    "wt_med = wt.median()\n",
    "\n",
    "en_d = {}\n",
    "\n",
    "for prot in e_cols:\n",
    "    if prot in trunc_med.index and prot in wt_med.index:\n",
    "        dif = trunc_med[prot] - wt_med[prot]\n",
    "        en_d[prot] = dif\n",
    "\n",
    "en_med = pd.DataFrame.from_dict(en_d, orient='index', columns=['En_Median'])\n",
    "en_med = en_med.reset_index().rename(columns={'index':'Proteomics'})"
   ]
  },
  {
   "cell_type": "code",
   "execution_count": 16,
   "metadata": {},
   "outputs": [
    {
     "data": {
      "text/html": [
       "<div>\n",
       "<style scoped>\n",
       "    .dataframe tbody tr th:only-of-type {\n",
       "        vertical-align: middle;\n",
       "    }\n",
       "\n",
       "    .dataframe tbody tr th {\n",
       "        vertical-align: top;\n",
       "    }\n",
       "\n",
       "    .dataframe thead th {\n",
       "        text-align: right;\n",
       "    }\n",
       "</style>\n",
       "<table border=\"1\" class=\"dataframe\">\n",
       "  <thead>\n",
       "    <tr style=\"text-align: right;\">\n",
       "      <th></th>\n",
       "      <th>Proteomics</th>\n",
       "      <th>En_P_Value</th>\n",
       "      <th>En_Median</th>\n",
       "    </tr>\n",
       "  </thead>\n",
       "  <tbody>\n",
       "    <tr>\n",
       "      <th>0</th>\n",
       "      <td>NOL10</td>\n",
       "      <td>0.000915</td>\n",
       "      <td>-0.44200</td>\n",
       "    </tr>\n",
       "    <tr>\n",
       "      <th>1</th>\n",
       "      <td>ABT1</td>\n",
       "      <td>0.001242</td>\n",
       "      <td>-0.48510</td>\n",
       "    </tr>\n",
       "    <tr>\n",
       "      <th>2</th>\n",
       "      <td>TOPBP1</td>\n",
       "      <td>0.001242</td>\n",
       "      <td>-0.61795</td>\n",
       "    </tr>\n",
       "    <tr>\n",
       "      <th>3</th>\n",
       "      <td>UTP25</td>\n",
       "      <td>0.001242</td>\n",
       "      <td>-0.73450</td>\n",
       "    </tr>\n",
       "    <tr>\n",
       "      <th>4</th>\n",
       "      <td>RIF1</td>\n",
       "      <td>0.001590</td>\n",
       "      <td>-0.54640</td>\n",
       "    </tr>\n",
       "  </tbody>\n",
       "</table>\n",
       "</div>"
      ],
      "text/plain": [
       "  Proteomics  En_P_Value  En_Median\n",
       "0      NOL10    0.000915   -0.44200\n",
       "1       ABT1    0.001242   -0.48510\n",
       "2     TOPBP1    0.001242   -0.61795\n",
       "3      UTP25    0.001242   -0.73450\n",
       "4       RIF1    0.001590   -0.54640"
      ]
     },
     "execution_count": 16,
     "metadata": {},
     "output_type": "execute_result"
    }
   ],
   "source": [
    "e_merged = e_pval.merge(en_med, on='Proteomics',how='outer')\n",
    "e_merged = e_merged.replace(to_replace = r'_proteomics', value = '', regex = True)\n",
    "\n",
    "# Create csv\n",
    "e_merged.to_csv(root+R'\\En_pval_medians.csv',index=False)\n",
    "e_merged.head()"
   ]
  },
  {
   "cell_type": "markdown",
   "metadata": {},
   "source": [
    "# Get number of significant genes in each cancer"
   ]
  },
  {
   "cell_type": "code",
   "execution_count": 17,
   "metadata": {},
   "outputs": [],
   "source": [
    "# Add Gbm and En to merged_dfs dictionary\n",
    "merged_dfs['Gbm'] = g_merged\n",
    "merged_dfs['En'] = e_merged"
   ]
  },
  {
   "cell_type": "code",
   "execution_count": 18,
   "metadata": {},
   "outputs": [
    {
     "name": "stdout",
     "output_type": "stream",
     "text": [
      "Hnscc sig comparisons: 570\n",
      "Luad sig comparisons: 111\n",
      "Lscc sig comparisons: 3\n",
      "Brca sig comparisons: 0\n",
      "Colon sig comparisons: 0\n",
      "Ov sig comparisons: 1\n",
      "Gbm sig comparisons: 1900\n",
      "En sig comparisons: 415\n",
      "\n",
      "Number of significant comparisons in at least 1 cancer: 2630\n"
     ]
    }
   ],
   "source": [
    "# Using corrected pvals from wrap_ttest, each cancer's cutoff is 0.05\n",
    "all_sig = []\n",
    "\n",
    "for cancer in merged_dfs:\n",
    "    df = merged_dfs[cancer]\n",
    "    sig_df = df.loc[df[cancer+'_P_Value'] < 0.05]\n",
    "    print(cancer, 'sig comparisons:', len(sig_df))\n",
    "    sig_list = list(sig_df['Proteomics'])\n",
    "    all_sig.append(sig_list)\n",
    "        \n",
    "\n",
    "flat_list = [item for sublist in all_sig for item in sublist] #change list of lists, to just one list\n",
    "sig = list(set(flat_list)) # remove duplicates\n",
    "print('\\nNumber of significant comparisons in at least 1 cancer:', len(sig))"
   ]
  },
  {
   "cell_type": "code",
   "execution_count": null,
   "metadata": {},
   "outputs": [],
   "source": [
    "# check"
   ]
  },
  {
   "cell_type": "code",
   "execution_count": 19,
   "metadata": {},
   "outputs": [
    {
     "data": {
      "text/html": [
       "<div>\n",
       "<style scoped>\n",
       "    .dataframe tbody tr th:only-of-type {\n",
       "        vertical-align: middle;\n",
       "    }\n",
       "\n",
       "    .dataframe tbody tr th {\n",
       "        vertical-align: top;\n",
       "    }\n",
       "\n",
       "    .dataframe thead th {\n",
       "        text-align: right;\n",
       "    }\n",
       "</style>\n",
       "<table border=\"1\" class=\"dataframe\">\n",
       "  <thead>\n",
       "    <tr style=\"text-align: right;\">\n",
       "      <th></th>\n",
       "      <th>Proteomics</th>\n",
       "      <th>Luad_P_Value</th>\n",
       "      <th>Luad_Median</th>\n",
       "    </tr>\n",
       "  </thead>\n",
       "  <tbody>\n",
       "    <tr>\n",
       "      <th>103</th>\n",
       "      <td>PIK3R1_isoform_1</td>\n",
       "      <td>0.046156</td>\n",
       "      <td>-0.5345</td>\n",
       "    </tr>\n",
       "  </tbody>\n",
       "</table>\n",
       "</div>"
      ],
      "text/plain": [
       "           Proteomics  Luad_P_Value  Luad_Median\n",
       "103  PIK3R1_isoform_1      0.046156      -0.5345"
      ]
     },
     "execution_count": 19,
     "metadata": {},
     "output_type": "execute_result"
    }
   ],
   "source": [
    "# check\n",
    "lu = merged_dfs['Luad']\n",
    "len(lu.Proteomics.unique())\n",
    "sl = lu.loc[lu['Luad_P_Value'] < 0.05]\n",
    "list(sl.Proteomics)\n",
    "lu.loc[lu['Proteomics'] == 'PIK3R1_isoform_1'] #ITGAL_isoform_1, PIK3R1_isoform_1, RABGAP1L_isoform_1"
   ]
  },
  {
   "cell_type": "code",
   "execution_count": 20,
   "metadata": {},
   "outputs": [
    {
     "name": "stdout",
     "output_type": "stream",
     "text": [
      "-0.3073 - 0.10500000000000001 = -0.4123\n"
     ]
    },
    {
     "name": "stderr",
     "output_type": "stream",
     "text": [
      "cptac warning: CNV data was not found for the following samples, so CNV data columns were filled with NaN for these samples: C3L-00001.N, C3L-00009.N, C3L-00080.N, C3L-00083.N, C3L-00093.N, C3L-00094.N, C3L-00095.N, C3L-00140.N, C3L-00144.N, C3L-00263.N, C3L-00279.N, C3L-00368.N, C3L-00412.N, C3L-00422.N, C3L-00510.N, C3L-00604.N, C3L-00893.N, C3L-00913.N, C3L-00973.N, C3L-01330.N, C3L-01632.N, C3L-01682.N, C3L-01683.N, C3L-01889.N, C3L-01890, C3L-01890.N, C3L-01924.N, C3L-02219.N, C3L-02345.N, C3L-02348.N, C3L-02350.N, C3L-02365.N, C3L-02508.N, C3L-02549.N, C3N-00167.N, C3N-00169.N, C3N-00175.N, C3N-00180.N, C3N-00199.N, C3N-00203.N, C3N-00217.N, C3N-00223.N, C3N-00293.N, C3N-00433.N, C3N-00546.N, C3N-00547.N, C3N-00549.N, C3N-00550.N, C3N-00551.N, C3N-00552.N, C3N-00556.N, C3N-00559.N, C3N-00560.N, C3N-00572.N, C3N-00574.N, C3N-00578.N, C3N-00579.N, C3N-00580.N, C3N-00704.N, C3N-00737.N, C3N-00738.N, C3N-00959.N, C3N-01016.N, C3N-01021.N, C3N-01023.N, C3N-01024.N, C3N-01030.N, C3N-01071.N, C3N-01072.N, C3N-01405.N, C3N-01410.N, C3N-01413.N, C3N-01414.N, C3N-01415.N, C3N-01416.N, C3N-01488.N, C3N-01489.N, C3N-01799.N, C3N-01823.N, C3N-02000.N, C3N-02002.N, C3N-02003.N, C3N-02067.N, C3N-02087.N, C3N-02089.N, C3N-02145.N, C3N-02149.N, C3N-02155.N, C3N-02158.N, C3N-02379.N, C3N-02380.N, C3N-02421.N, C3N-02423.N, C3N-02424.N, C3N-02433.N, C3N-02529.N, C3N-02572.N, C3N-02582.N, C3N-02586.N, C3N-02587.N, C3N-02588.N, C3N-02729.N (C:\\Users\\brittany henderson\\Anaconda3\\envs\\Research\\lib\\site-packages\\ipykernel_launcher.py, line 34)\n",
      "cptac warning: Due to dropping the specified levels, dataframe now has 2 duplicated column headers. (C:\\Users\\brittany henderson\\Anaconda3\\envs\\Research\\lib\\site-packages\\ipykernel_launcher.py, line 35)\n",
      "cptac warning: You tried to flatten a column index that didn't have multiple levels, so we didn't actually change anything. (C:\\Users\\brittany henderson\\Anaconda3\\envs\\Research\\lib\\site-packages\\ipykernel_launcher.py, line 35)\n",
      "C:\\Users\\brittany henderson\\Anaconda3\\envs\\Research\\lib\\site-packages\\ipykernel_launcher.py:49: SettingWithCopyWarning: \n",
      "A value is trying to be set on a copy of a slice from a DataFrame.\n",
      "Try using .loc[row_indexer,col_indexer] = value instead\n",
      "\n",
      "See the caveats in the documentation: https://pandas.pydata.org/pandas-docs/stable/user_guide/indexing.html#returning-a-view-versus-a-copy\n"
     ]
    }
   ],
   "source": [
    "# check\n",
    "pr = all_prot_format_df(l, all_prot = ['RABGAP1L'])\n",
    "\n",
    "col_names = pd.Series(pr.columns)\n",
    "\n",
    "for dup in col_names[col_names.duplicated()].unique(): \n",
    "    col_names[col_names[col_names == dup].index.values.tolist()] = [dup + '_isoform_' + str(i) if i != 0 else dup for i in range(sum(col_names == dup))]\n",
    "pr.columns = col_names # rename the columns with the cols list\n",
    "\n",
    "pr = pr[['RABGAP1L_proteomics_isoform_1', 'Mutation']]\n",
    "delt = pr.loc[pr['Mutation'] == 'Deletion']\n",
    "wt = pr.loc[pr['Mutation'] != 'Deletion']\n",
    "\n",
    "dm = float(delt.median())\n",
    "wtm = float(wt.median())\n",
    "\n",
    "\n",
    "print(dm, '-', wtm, '=', dm - wtm)\n",
    "\n"
   ]
  },
  {
   "cell_type": "code",
   "execution_count": null,
   "metadata": {},
   "outputs": [],
   "source": [
    "# check"
   ]
  },
  {
   "cell_type": "markdown",
   "metadata": {},
   "source": [
    "# Get a list of significant genes in at least one cancer"
   ]
  },
  {
   "cell_type": "code",
   "execution_count": 25,
   "metadata": {},
   "outputs": [
    {
     "name": "stdout",
     "output_type": "stream",
     "text": [
      "Number of significant genes in at least one cancer: 2630\n"
     ]
    }
   ],
   "source": [
    "s = pd.Series(sig)\n",
    "print('Number of significant genes in at least one cancer:', len(s))\n",
    "s.to_csv(root+R'\\list_sig_one_cancer.csv', index=False)"
   ]
  },
  {
   "cell_type": "markdown",
   "metadata": {},
   "source": [
    "# Get a list of significant genes in multiple cancers"
   ]
  },
  {
   "cell_type": "code",
   "execution_count": 26,
   "metadata": {},
   "outputs": [
    {
     "name": "stdout",
     "output_type": "stream",
     "text": [
      "Number of significant genes in mult cancers: 332\n"
     ]
    }
   ],
   "source": [
    "# sig in multiple (more than 1) cancers\n",
    "mult = list(set(i for i in flat_list if flat_list.count(i) > 1)) # Keep genes sig in more than 1 cancer\n",
    "print('Number of significant genes in mult cancers:', len(mult))"
   ]
  },
  {
   "cell_type": "code",
   "execution_count": 23,
   "metadata": {},
   "outputs": [],
   "source": [
    "m = pd.Series(mult)\n",
    "m = m.replace(to_replace = r'_proteomics$', value = '', regex = True)\n",
    "m.to_csv(root+R'\\list_sig_multiple_cancers.csv', index=False)"
   ]
  },
  {
   "cell_type": "code",
   "execution_count": null,
   "metadata": {},
   "outputs": [],
   "source": []
  }
 ],
 "metadata": {
  "kernelspec": {
   "display_name": "Python 3",
   "language": "python",
   "name": "python3"
  },
  "language_info": {
   "codemirror_mode": {
    "name": "ipython",
    "version": 3
   },
   "file_extension": ".py",
   "mimetype": "text/x-python",
   "name": "python",
   "nbconvert_exporter": "python",
   "pygments_lexer": "ipython3",
   "version": "3.7.3"
  }
 },
 "nbformat": 4,
 "nbformat_minor": 2
}
