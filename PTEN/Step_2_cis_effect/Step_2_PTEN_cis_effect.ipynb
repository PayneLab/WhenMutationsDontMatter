{
 "cells": [
  {
   "cell_type": "markdown",
   "metadata": {},
   "source": [
    "# Create Figure 2 for PTEN cis effect"
   ]
  },
  {
   "cell_type": "markdown",
   "metadata": {},
   "source": [
    "This notebook creates a boxplot for the cis effect of PTEN cnv deletions in 8 cancers. These 8 cancers were chosen because they have enough samples with PTEN cnv deletions to do a t-test. Only Ccrcc does not have enough samples with deletions. "
   ]
  },
  {
   "cell_type": "markdown",
   "metadata": {},
   "source": [
    "Imports"
   ]
  },
  {
   "cell_type": "code",
   "execution_count": 1,
   "metadata": {},
   "outputs": [],
   "source": [
    "import pandas as pd\n",
    "import numpy as np\n",
    "import seaborn as sns\n",
    "import matplotlib.pyplot as plt\n",
    "import scipy.stats\n",
    "import gseapy as gp\n",
    "import re\n",
    "import sys \n",
    "\n",
    "import cptac\n",
    "import cptac.utils as u\n",
    "\n",
    "import sys\n",
    "sys.path.append('C:\\\\Users\\\\brittany henderson\\\\GitHub\\\\WhenMutationsDontMatter\\\\')\n",
    "import plot_utils as p"
   ]
  },
  {
   "cell_type": "markdown",
   "metadata": {},
   "source": [
    "Functions:\n",
    "\n",
    "format_df prepares a data frame with PTEN proteomics and PTEN mutation type from get_genotype_all_vars.\n",
    "\n",
    "format_pval_annotation is used to add marks to the boxplot. A star represents significant p-value and \"ns\" represents a nonsignificant p-value."
   ]
  },
  {
   "cell_type": "code",
   "execution_count": 2,
   "metadata": {},
   "outputs": [],
   "source": [
    "# Returns a dataframe with proteomics and mutation type\n",
    "\n",
    "def format_df(cancer_object, gene_in):\n",
    "    mut_type = cancer_object.get_genotype_all_vars(gene_in)\n",
    "    \n",
    "    if cancer_object is not l:\n",
    "        # Keep only tumor samples from proteomics\n",
    "        prot_and_mutations = cancer_object.join_omics_to_mutations(\n",
    "            mutations_genes = [gene_in], omics_df_name = 'proteomics', omics_genes = gene_in)\n",
    "        prot_and_mutations = prot_and_mutations[prot_and_mutations.Sample_Status == \"Tumor\"] # drop Normal samples\n",
    "        \n",
    "        # Reduce a multiindex \n",
    "        if cancer_object == o or cancer_object == b or cancer_object == ls:\n",
    "            prot_and_mutations = cancer_object.reduce_multiindex(prot_and_mutations, levels_to_drop = 1)\n",
    "\n",
    "        # Merge Mutation column from get_genotype_all_vars (includes cnv) with proteomics\n",
    "        mut_type = mut_type[['Mutation']] \n",
    "        prot_df = prot_and_mutations.iloc[:,:-4] # Keep only proteomics\n",
    "        merged = prot_df.join(mut_type)\n",
    "        \n",
    "        # Keep only Wildtype and deletion\n",
    "        compare = ['Wildtype_Tumor','Deletion']\n",
    "        get = merged['Mutation'].isin(compare)\n",
    "        del_wt = merged[get]\n",
    "    \n",
    "    \n",
    "    # Luad has no somatic mutations for PTEN which changes some things\n",
    "    else: \n",
    "        # get_genotype_all_vars add cnv data under the column PTEN\n",
    "        mut_type = mut_type.drop(columns=gene_in)\n",
    "        # different code because no somatic mutation data for pten (can't join to somatic mutations)\n",
    "        omics = l.join_omics_to_omics(df1_name = 'CNV', df2_name='proteomics',genes1= gene_in, \n",
    "            genes2=gene_in)\n",
    "        omics = l.reduce_multiindex(omics, levels_to_drop = 1, flatten = True)\n",
    "        omics = omics.drop(columns='PTEN_CNV')\n",
    "        # Get only tumor samples\n",
    "        p = l.get_proteomics(tissue_type='tumor')\n",
    "        tumor_ids = list(p.index)\n",
    "        get = omics.index.isin(tumor_ids)\n",
    "        omics = omics[get]\n",
    "        # Merge Mutation column from get_genotype_all_vars (includes cnv) with proteomics\n",
    "        merged = omics.join(mut_type) \n",
    "        # Keep only No_Mutation (wildtype) and deletion\n",
    "        compare = ['No_Mutation','Deletion']\n",
    "        get = merged['Mutation'].isin(compare)\n",
    "        del_wt = merged[get]\n",
    "        del_wt['Mutation'] = np.where(\n",
    "            del_wt['Mutation'] == 'No_Mutation', 'Wildtype_Tumor', 'Deletion')\n",
    "\n",
    "    return del_wt\n"
   ]
  },
  {
   "cell_type": "code",
   "execution_count": 3,
   "metadata": {},
   "outputs": [],
   "source": [
    "def format_pval_annotation(pval_symbol, x1, x2, line_start = .05, line_height=.05):\n",
    "    # for manual adjustment to pval annotations\n",
    "    \n",
    "    y, h = line_start, line_height\n",
    "    plt.plot([x1, x1, x2, x2], #draw horizontal line\n",
    "             [y, y+h, y+h, y], #vertical line\n",
    "             lw=1.5, color= '.3')\n",
    "    plt.text((x1+x2)*.5, # half between x coord\n",
    "             y+h, pval_symbol, horizontalalignment='center', verticalalignment='bottom', color = \"black\")\n"
   ]
  },
  {
   "cell_type": "markdown",
   "metadata": {},
   "source": [
    "# Step 1: Create data frames with PTEN cnv deletion and Proteomics"
   ]
  },
  {
   "cell_type": "markdown",
   "metadata": {},
   "source": [
    "Each cancer needs a data frame containing only samples that have PTEN cnv deletions or PTEN wildtype tumors and PTEN proteomics."
   ]
  },
  {
   "cell_type": "markdown",
   "metadata": {},
   "source": [
    "First, load in cancer data sets from cptac."
   ]
  },
  {
   "cell_type": "code",
   "execution_count": null,
   "metadata": {},
   "outputs": [
    {
     "name": "stdout",
     "output_type": "stream",
     "text": [
      "Loading hnscc v2.0.....                         \r"
     ]
    }
   ],
   "source": [
    "en = cptac.Endometrial()\n",
    "h = cptac.Hnscc()\n",
    "l = cptac.Luad()\n",
    "ls = cptac.Lscc()\n",
    "o = cptac.Ovarian()\n",
    "c = cptac.Ccrcc()\n",
    "col = cptac.Colon()\n",
    "g = cptac.Gbm()\n",
    "b = cptac.Brca()"
   ]
  },
  {
   "cell_type": "markdown",
   "metadata": {},
   "source": [
    "Next, use format_df to create the specific data frame for each cancer. Use wrap_ttest to test PTEN deletion vs. wildtype. "
   ]
  },
  {
   "cell_type": "markdown",
   "metadata": {},
   "source": [
    "# Gbm"
   ]
  },
  {
   "cell_type": "code",
   "execution_count": null,
   "metadata": {},
   "outputs": [],
   "source": [
    "gene = 'PTEN'\n",
    "g_del_wt = format_df(g,gene)\n",
    "g_del_wt.head()"
   ]
  },
  {
   "cell_type": "code",
   "execution_count": null,
   "metadata": {},
   "outputs": [],
   "source": [
    "g_pval = u.wrap_ttest(g_del_wt, 'Mutation', ['PTEN_proteomics'])\n",
    "g_pval"
   ]
  },
  {
   "cell_type": "markdown",
   "metadata": {},
   "source": [
    "# Luad"
   ]
  },
  {
   "cell_type": "code",
   "execution_count": null,
   "metadata": {},
   "outputs": [],
   "source": [
    "l_del_wt = format_df(l, gene)\n",
    "l_pval = u.wrap_ttest(l_del_wt, 'Mutation', ['PTEN_proteomics'])\n",
    "l_pval"
   ]
  },
  {
   "cell_type": "markdown",
   "metadata": {},
   "source": [
    "# Lscc"
   ]
  },
  {
   "cell_type": "code",
   "execution_count": null,
   "metadata": {},
   "outputs": [],
   "source": [
    "ls_del_wt = format_df(ls, gene)\n",
    "ls_pval = u.wrap_ttest(ls_del_wt, 'Mutation', ['PTEN_proteomics'])\n",
    "ls_pval"
   ]
  },
  {
   "cell_type": "markdown",
   "metadata": {},
   "source": [
    "# Ovarian"
   ]
  },
  {
   "cell_type": "code",
   "execution_count": null,
   "metadata": {},
   "outputs": [],
   "source": [
    "o_del_wt = format_df(o, gene)\n",
    "o_pval = u.wrap_ttest(o_del_wt, 'Mutation', ['PTEN_proteomics'])\n",
    "o_pval"
   ]
  },
  {
   "cell_type": "markdown",
   "metadata": {},
   "source": [
    "# Brca"
   ]
  },
  {
   "cell_type": "code",
   "execution_count": null,
   "metadata": {},
   "outputs": [],
   "source": [
    "b_del_wt = format_df(b, gene)\n",
    "b_pval = u.wrap_ttest(b_del_wt, 'Mutation', ['PTEN_proteomics'])\n",
    "b_pval"
   ]
  },
  {
   "cell_type": "markdown",
   "metadata": {},
   "source": [
    "# Colon"
   ]
  },
  {
   "cell_type": "code",
   "execution_count": null,
   "metadata": {},
   "outputs": [],
   "source": [
    "c_del_wt = format_df(col, gene)\n",
    "c_pval = u.wrap_ttest(c_del_wt, 'Mutation', ['PTEN_proteomics'])\n",
    "c_pval"
   ]
  },
  {
   "cell_type": "markdown",
   "metadata": {},
   "source": [
    "#  Hnscc"
   ]
  },
  {
   "cell_type": "code",
   "execution_count": null,
   "metadata": {},
   "outputs": [],
   "source": [
    "h_del_wt = format_df(h, gene)\n",
    "h_pval = u.wrap_ttest(h_del_wt, 'Mutation', ['PTEN_proteomics'])\n",
    "h_pval"
   ]
  },
  {
   "cell_type": "markdown",
   "metadata": {},
   "source": [
    "# Endometrial"
   ]
  },
  {
   "cell_type": "markdown",
   "metadata": {},
   "source": [
    "The Endometrial data set does not have enough cnv deletions to perform a t-test, however the data set does have enough truncation type mutations (nonsense and frame shifts). Different code is needed to create the data frame for Endometrial."
   ]
  },
  {
   "cell_type": "code",
   "execution_count": null,
   "metadata": {},
   "outputs": [],
   "source": [
    "# Step 1 - Create proteomics and truncations dataframe\n",
    "prot_and_mutations = en.join_omics_to_mutations(\n",
    "    mutations_genes = [gene], omics_df_name = 'proteomics', omics_genes = gene, \n",
    "    mutations_filter = ['Nonsense_Mutation','Frame_Shift_Del','Frame_Shift_Ins']) \n",
    "keep = ['Nonsense_Mutation','Frame_Shift_Del','Frame_Shift_Ins','Wildtype_Tumor']\n",
    "in_keep = prot_and_mutations['PTEN_Mutation'].isin(keep)\n",
    "trunc_mutations = prot_and_mutations[in_keep]\n",
    "print(trunc_mutations['PTEN_Mutation'].value_counts())\n",
    "\n",
    "# Step 2 - Create binary column \n",
    "trunc_mutations['Mutation'] = np.where(\n",
    "            trunc_mutations[gene+'_Mutation_Status'] == 'Wildtype_Tumor', 'Wildtype_Tumor', 'Truncation')\n",
    "\n",
    "# Step 3 - Format the dataframe correctly for the t-test(just omics and binary columns for tumors)\n",
    "tumors = trunc_mutations[trunc_mutations.Sample_Status == 'Tumor'] #drop Normal samples\n",
    "columns_to_drop = [gene+\"_Mutation\", gene+\"_Location\", gene+\"_Mutation_Status\", \"Sample_Status\"]\n",
    "e_trunc_wt = tumors.drop(columns_to_drop, axis = 1)\n",
    "e_trunc_wt = e_trunc_wt.dropna(axis=1,how='all')\n",
    "e_trunc_wt['Mutation'].value_counts()\n",
    "\n",
    "e_pval = u.wrap_ttest(e_trunc_wt, 'Mutation', ['PTEN_proteomics'])\n",
    "e_pval"
   ]
  },
  {
   "cell_type": "markdown",
   "metadata": {},
   "source": [
    "# Step 2: Create a long dataframe for the boxplot"
   ]
  },
  {
   "cell_type": "markdown",
   "metadata": {},
   "source": [
    "The boxplot will take three columns: Proteomics, Mutation, and Cancer. We need to append all the individual cancer dfs into one long pancancer df. "
   ]
  },
  {
   "cell_type": "markdown",
   "metadata": {},
   "source": [
    "First create the Cancer column."
   ]
  },
  {
   "cell_type": "code",
   "execution_count": null,
   "metadata": {},
   "outputs": [],
   "source": [
    "g_del_wt = g_del_wt.assign(cancer = 'Gbm')\n",
    "l_del_wt = l_del_wt.assign(cancer = 'Luad')\n",
    "ls_del_wt = ls_del_wt.assign(cancer = 'Lscc')\n",
    "b_del_wt = b_del_wt.assign(cancer = 'Brca')\n",
    "o_del_wt = o_del_wt.assign(cancer = 'Ovarian')\n",
    "c_del_wt = c_del_wt.assign(cancer = 'Colon')\n",
    "h_del_wt = h_del_wt.assign(cancer = 'Hnscc') # higher scale\n",
    "e_trunc_wt = e_trunc_wt.assign(cancer = 'Endometrial')"
   ]
  },
  {
   "cell_type": "markdown",
   "metadata": {},
   "source": [
    "Next append the dfs."
   ]
  },
  {
   "cell_type": "code",
   "execution_count": null,
   "metadata": {},
   "outputs": [],
   "source": [
    "df = g_del_wt.append(l_del_wt)\n",
    "df2 = df.append(ls_del_wt)\n",
    "df3 = df2.append(b_del_wt)\n",
    "df4 = df3.append(o_del_wt)\n",
    "df5 = df4.append(c_del_wt)\n",
    "df6 = df5.append(e_trunc_wt)\n",
    "#df7 = df6.append(h_del_wt) # Leave out Hnscc because of high proteomics numbers\n",
    "\n",
    "df6"
   ]
  },
  {
   "cell_type": "markdown",
   "metadata": {},
   "source": [
    "# Step 3: Create the Pancancer Boxplot"
   ]
  },
  {
   "cell_type": "code",
   "execution_count": null,
   "metadata": {},
   "outputs": [],
   "source": [
    "# cis plot\n",
    "gene = 'PTEN'\n",
    "plt.rcParams['figure.figsize']=(11.7,8.5) #size of plot\n",
    "sns.set(font_scale = 1.2)\n",
    "\n",
    "boxplot = sns.boxplot(x='cancer', y=gene+\"_proteomics\", data = df6, hue = 'Mutation',\n",
    "                      hue_order = [\"Wildtype_Tumor\", \"Deletion\",'Truncation'], showfliers = False)    \n",
    "boxplot.set_title('Pancancer cis effect of PTEN CNV Deletions')\n",
    "boxplot = sns.stripplot(x='cancer', y=gene+\"_proteomics\", data = df6, jitter = True, \n",
    "                           color = \".3\", hue = 'Mutation', hue_order = [\"Wildtype_Tumor\", \"Deletion\", 'Truncation'], dodge = True)\n",
    "boxplot.set(xlabel = \"\\nPTEN Wildtype/CNV Deletion\", ylabel = gene+' Proteomics')\n",
    "\n",
    "# format legend\n",
    "handles, labels = boxplot.get_legend_handles_labels()\n",
    "plt.legend(handles[0:3], labels[0:3])\n",
    "\n",
    "# Create significance symbols:\n",
    "# * P ≤ 0.05   ** P ≤ 0.01   *** P ≤ 0.001 \n",
    "format_pval_annotation('***', -.3, 0, 1.3) # Gbm\n",
    "format_pval_annotation('*', .7, 1, 2.2) # Luad\n",
    "format_pval_annotation('***', 1.7, 2, 2.6) # Lscc\n",
    "format_pval_annotation('***', 2.7, 3, 2.6) # Brca\n",
    "format_pval_annotation('***', 3.7, 4, 1.6) # Ovarian\n",
    "format_pval_annotation('*', 4.7, 5, 1)  # Colon\n",
    "format_pval_annotation('***', 5.7, 6.2, 1) # Endometrial\n",
    "\n",
    "plt.show()\n",
    "plt.clf()\n",
    "plt.close()"
   ]
  },
  {
   "cell_type": "code",
   "execution_count": null,
   "metadata": {},
   "outputs": [],
   "source": [
    "# Save figure\n",
    "fig = boxplot.get_figure()\n",
    "fig.savefig(\"Step_2_PTEN.png\")"
   ]
  },
  {
   "cell_type": "code",
   "execution_count": null,
   "metadata": {},
   "outputs": [],
   "source": []
  }
 ],
 "metadata": {
  "kernelspec": {
   "display_name": "Python 3",
   "language": "python",
   "name": "python3"
  },
  "language_info": {
   "codemirror_mode": {
    "name": "ipython",
    "version": 3
   },
   "file_extension": ".py",
   "mimetype": "text/x-python",
   "name": "python",
   "nbconvert_exporter": "python",
   "pygments_lexer": "ipython3",
   "version": "3.7.3"
  }
 },
 "nbformat": 4,
 "nbformat_minor": 2
}
