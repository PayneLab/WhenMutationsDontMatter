{
 "cells": [
  {
   "cell_type": "markdown",
   "metadata": {},
   "source": [
    "# Summary Statistics"
   ]
  },
  {
   "cell_type": "markdown",
   "metadata": {},
   "source": [
    "This notebook plots the summary statistics for all proteins with data for six of eight cancers. Summary statistics include:\n",
    "* the average differential expression and standard deviation of the differential expressions\n",
    "* the average p-value and standard deviation of the p-values\n",
    "\n",
    "We also identify MMS19 as one of the more consistent genes. "
   ]
  },
  {
   "cell_type": "code",
   "execution_count": 1,
   "metadata": {},
   "outputs": [],
   "source": [
    "import pandas as pd\n",
    "import numpy as np\n",
    "import seaborn as sns\n",
    "import matplotlib.pyplot as plt\n",
    "\n",
    "import cptac\n",
    "import cptac.utils as u"
   ]
  },
  {
   "cell_type": "code",
   "execution_count": 2,
   "metadata": {},
   "outputs": [
    {
     "name": "stdout",
     "output_type": "stream",
     "text": [
      "cptac version: 0.8.5\n"
     ]
    }
   ],
   "source": [
    "print('cptac version:', cptac.version())"
   ]
  },
  {
   "cell_type": "code",
   "execution_count": 3,
   "metadata": {},
   "outputs": [],
   "source": [
    "import warnings\n",
    "warnings.filterwarnings('ignore')"
   ]
  },
  {
   "cell_type": "code",
   "execution_count": 4,
   "metadata": {},
   "outputs": [],
   "source": [
    "# Returns the number of significant tests (num of cancers with sig tests for a certain gene)\n",
    "def Pvalue_sig(row):\n",
    "    numSig = 0\n",
    "\n",
    "    for item in row:\n",
    "        if pd.isnull(item):\n",
    "            continue\n",
    "        if item < 0.05: # Using corrected p-values from FDR-bh\n",
    "            numSig += 1\n",
    "            \n",
    "    return numSig"
   ]
  },
  {
   "cell_type": "code",
   "execution_count": 5,
   "metadata": {},
   "outputs": [],
   "source": [
    "# Returns true if either consisitently pos or neg differential expressions are found for the protein in the row\n",
    "\n",
    "def Consistent(row):\n",
    "    hasPos = False\n",
    "    hasNeg= False\n",
    "    for item in row: \n",
    "        if pd.isnull(item):\n",
    "            continue\n",
    "        if item < 0:\n",
    "            hasNeg = True\n",
    "        if item > 0:\n",
    "            hasPos = True\n",
    "           \n",
    "    if hasPos & (hasNeg == False): # All pos\n",
    "        return True\n",
    "    elif (hasPos == False) & hasNeg: # All neg\n",
    "        return True\n",
    "    return False\n"
   ]
  },
  {
   "cell_type": "markdown",
   "metadata": {},
   "source": [
    "# Step 1: Calculate Std Dev and Mean"
   ]
  },
  {
   "cell_type": "markdown",
   "metadata": {},
   "source": [
    "Get df with the FDR-bh corrected p-values for all trans genes. Next, calculate the total number of p-values significant for each trans protein across the 8 cancers. Calculate the summary statistics: \n",
    "* mean of p-values and standard deviation\n",
    "* mean of differential expressions and standard deviation \n",
    "    * (differential expression = median of trans protein abundance in tumors with deleted PTEN - median of of trans protein abundance in tumors with wildtype PTEN)"
   ]
  },
  {
   "cell_type": "code",
   "execution_count": 6,
   "metadata": {},
   "outputs": [],
   "source": [
    "df_fdr_pvals = pd.read_csv(\"../Make_Tables/csv/all_proteins.csv\")\n",
    "df_fdr_pvals = df_fdr_pvals.loc[df_fdr_pvals['Proteomics'] != 'PTEN'] # Drop PTEN"
   ]
  },
  {
   "cell_type": "code",
   "execution_count": 7,
   "metadata": {},
   "outputs": [],
   "source": [
    "# Use Pvalue_sig to add a column with the count of sig tests for each gene across the cancers\n",
    "df_fdr_pvals[\"Num_sig\"] = df_fdr_pvals.loc[:,[\"GBM_P_Value\",\"HNSCC_P_Value\",\"LUAD_P_Value\",\"LSCC_P_Value\", \"BR_P_Value\",\"OV_P_Value\",\"EC_P_Value\",\"CO_P_Value\"]].apply(Pvalue_sig, axis = 1)\n",
    "df_fdr_pvals = df_fdr_pvals.sort_values(by=['Num_sig'],ascending=False)"
   ]
  },
  {
   "cell_type": "code",
   "execution_count": 8,
   "metadata": {},
   "outputs": [],
   "source": [
    "# Calculate mean and standard deviation for p-values \n",
    "df_fdr_pvals[\"Mean_P_Value\"] = df_fdr_pvals.loc[:,[\"GBM_P_Value\",\"HNSCC_P_Value\",\"LUAD_P_Value\",\"LSCC_P_Value\", \"BR_P_Value\",\"OV_P_Value\",\"EC_P_Value\",\"CO_P_Value\"]].mean(axis = 1)\n",
    "df_fdr_pvals[\"Std_Dev_P_Value\"] = df_fdr_pvals.loc[:,[\"GBM_P_Value\",\"HNSCC_P_Value\",\"LUAD_P_Value\",\"LSCC_P_Value\", \"BR_P_Value\",\"OV_P_Value\",\"EC_P_Value\",\"CO_P_Value\"]].std(axis = 1)\n",
    "\n",
    "# Calculate mean and standard deviation for differential expressions\n",
    "df_fdr_pvals[\"Mean_Dif_Expression\"] = (df_fdr_pvals.loc[:,[\"GBM_Median\",\"HNSCC_Median\",\"LUAD_Median\",\"LSCC_Median\", \"BR_Median\",\"OV_Median\",\"EC_Median\",\"CO_Median\"]].mean(axis = 1))\n",
    "df_fdr_pvals[\"Std_Dev_Dif_Expression\"] = (df_fdr_pvals.loc[:,[\"GBM_Median\",\"HNSCC_Median\",\"LUAD_Median\",\"LSCC_Median\", \"BR_Median\",\"OV_Median\",\"EC_Median\",\"CO_Median\"]].std(axis = 1))"
   ]
  },
  {
   "cell_type": "code",
   "execution_count": 9,
   "metadata": {},
   "outputs": [
    {
     "name": "stdout",
     "output_type": "stream",
     "text": [
      "Total genes sig in at least 1 cancer: 2658\n"
     ]
    }
   ],
   "source": [
    "# Keep trans genes that are significant in at least 1 cancer\n",
    "df_fdr_pvals_1 = df_fdr_pvals[df_fdr_pvals['Num_sig'].isin([1,2,3,4,5,6,7,8])]\n",
    "print('Total genes sig in at least 1 cancer:', len(df_fdr_pvals_1.Proteomics.unique()))"
   ]
  },
  {
   "cell_type": "code",
   "execution_count": 10,
   "metadata": {},
   "outputs": [
    {
     "name": "stdout",
     "output_type": "stream",
     "text": [
      "Genes sig in at least 1 cancer (data for 6/8 cancers): 2367\n"
     ]
    },
    {
     "data": {
      "text/html": [
       "<div>\n",
       "<style scoped>\n",
       "    .dataframe tbody tr th:only-of-type {\n",
       "        vertical-align: middle;\n",
       "    }\n",
       "\n",
       "    .dataframe tbody tr th {\n",
       "        vertical-align: top;\n",
       "    }\n",
       "\n",
       "    .dataframe thead th {\n",
       "        text-align: right;\n",
       "    }\n",
       "</style>\n",
       "<table border=\"1\" class=\"dataframe\">\n",
       "  <thead>\n",
       "    <tr style=\"text-align: right;\">\n",
       "      <th></th>\n",
       "      <th>Proteomics</th>\n",
       "      <th>GBM_P_Value</th>\n",
       "      <th>GBM_Median</th>\n",
       "      <th>HNSCC_P_Value</th>\n",
       "      <th>HNSCC_Median</th>\n",
       "      <th>LUAD_P_Value</th>\n",
       "      <th>LUAD_Median</th>\n",
       "      <th>LSCC_P_Value</th>\n",
       "      <th>LSCC_Median</th>\n",
       "      <th>BR_P_Value</th>\n",
       "      <th>...</th>\n",
       "      <th>OV_Median</th>\n",
       "      <th>EC_P_Value</th>\n",
       "      <th>EC_Median</th>\n",
       "      <th>CO_P_Value</th>\n",
       "      <th>CO_Median</th>\n",
       "      <th>Num_sig</th>\n",
       "      <th>Mean_P_Value</th>\n",
       "      <th>Std_Dev_P_Value</th>\n",
       "      <th>Mean_Dif_Expression</th>\n",
       "      <th>Std_Dev_Dif_Expression</th>\n",
       "    </tr>\n",
       "  </thead>\n",
       "  <tbody>\n",
       "    <tr>\n",
       "      <th>271</th>\n",
       "      <td>SLK</td>\n",
       "      <td>0.003506</td>\n",
       "      <td>-0.305757</td>\n",
       "      <td>0.005300</td>\n",
       "      <td>-0.443020</td>\n",
       "      <td>0.043043</td>\n",
       "      <td>-0.52600</td>\n",
       "      <td>0.031229</td>\n",
       "      <td>-0.47625</td>\n",
       "      <td>0.375369</td>\n",
       "      <td>...</td>\n",
       "      <td>-0.122267</td>\n",
       "      <td>0.074890</td>\n",
       "      <td>0.4053</td>\n",
       "      <td>0.624087</td>\n",
       "      <td>-0.18140</td>\n",
       "      <td>4</td>\n",
       "      <td>0.267891</td>\n",
       "      <td>0.365738</td>\n",
       "      <td>-0.270399</td>\n",
       "      <td>0.312692</td>\n",
       "    </tr>\n",
       "    <tr>\n",
       "      <th>17</th>\n",
       "      <td>ATE1</td>\n",
       "      <td>0.000225</td>\n",
       "      <td>-0.378204</td>\n",
       "      <td>0.039944</td>\n",
       "      <td>-0.128416</td>\n",
       "      <td>0.003010</td>\n",
       "      <td>-0.88365</td>\n",
       "      <td>0.006134</td>\n",
       "      <td>-0.63115</td>\n",
       "      <td>0.147739</td>\n",
       "      <td>...</td>\n",
       "      <td>-0.000390</td>\n",
       "      <td>0.431900</td>\n",
       "      <td>0.0330</td>\n",
       "      <td>0.902073</td>\n",
       "      <td>-0.06000</td>\n",
       "      <td>4</td>\n",
       "      <td>0.314646</td>\n",
       "      <td>0.414764</td>\n",
       "      <td>-0.338726</td>\n",
       "      <td>0.351007</td>\n",
       "    </tr>\n",
       "    <tr>\n",
       "      <th>417</th>\n",
       "      <td>CHUK</td>\n",
       "      <td>0.005715</td>\n",
       "      <td>-0.242224</td>\n",
       "      <td>0.023883</td>\n",
       "      <td>-0.224067</td>\n",
       "      <td>0.040510</td>\n",
       "      <td>-0.57880</td>\n",
       "      <td>0.043906</td>\n",
       "      <td>-0.60270</td>\n",
       "      <td>0.263329</td>\n",
       "      <td>...</td>\n",
       "      <td>-0.222607</td>\n",
       "      <td>0.708913</td>\n",
       "      <td>-0.1043</td>\n",
       "      <td>0.897009</td>\n",
       "      <td>-0.01335</td>\n",
       "      <td>4</td>\n",
       "      <td>0.371121</td>\n",
       "      <td>0.422655</td>\n",
       "      <td>-0.294269</td>\n",
       "      <td>0.210110</td>\n",
       "    </tr>\n",
       "    <tr>\n",
       "      <th>1299</th>\n",
       "      <td>PPP3CB</td>\n",
       "      <td>0.026590</td>\n",
       "      <td>-0.568576</td>\n",
       "      <td>0.127629</td>\n",
       "      <td>-0.254671</td>\n",
       "      <td>0.005592</td>\n",
       "      <td>-0.66985</td>\n",
       "      <td>0.037733</td>\n",
       "      <td>-0.66320</td>\n",
       "      <td>0.542176</td>\n",
       "      <td>...</td>\n",
       "      <td>-0.035448</td>\n",
       "      <td>0.897392</td>\n",
       "      <td>0.0750</td>\n",
       "      <td>0.956566</td>\n",
       "      <td>0.13300</td>\n",
       "      <td>3</td>\n",
       "      <td>0.448954</td>\n",
       "      <td>0.449788</td>\n",
       "      <td>-0.308937</td>\n",
       "      <td>0.332867</td>\n",
       "    </tr>\n",
       "    <tr>\n",
       "      <th>1591</th>\n",
       "      <td>MSH6</td>\n",
       "      <td>0.037125</td>\n",
       "      <td>0.461236</td>\n",
       "      <td>0.054613</td>\n",
       "      <td>0.514119</td>\n",
       "      <td>0.567581</td>\n",
       "      <td>0.16720</td>\n",
       "      <td>0.044259</td>\n",
       "      <td>1.42770</td>\n",
       "      <td>0.547482</td>\n",
       "      <td>...</td>\n",
       "      <td>0.281649</td>\n",
       "      <td>0.019773</td>\n",
       "      <td>-0.5370</td>\n",
       "      <td>0.983382</td>\n",
       "      <td>0.03200</td>\n",
       "      <td>3</td>\n",
       "      <td>0.404990</td>\n",
       "      <td>0.423441</td>\n",
       "      <td>0.337157</td>\n",
       "      <td>0.551026</td>\n",
       "    </tr>\n",
       "    <tr>\n",
       "      <th>...</th>\n",
       "      <td>...</td>\n",
       "      <td>...</td>\n",
       "      <td>...</td>\n",
       "      <td>...</td>\n",
       "      <td>...</td>\n",
       "      <td>...</td>\n",
       "      <td>...</td>\n",
       "      <td>...</td>\n",
       "      <td>...</td>\n",
       "      <td>...</td>\n",
       "      <td>...</td>\n",
       "      <td>...</td>\n",
       "      <td>...</td>\n",
       "      <td>...</td>\n",
       "      <td>...</td>\n",
       "      <td>...</td>\n",
       "      <td>...</td>\n",
       "      <td>...</td>\n",
       "      <td>...</td>\n",
       "      <td>...</td>\n",
       "      <td>...</td>\n",
       "    </tr>\n",
       "    <tr>\n",
       "      <th>1392</th>\n",
       "      <td>SLU7</td>\n",
       "      <td>0.029973</td>\n",
       "      <td>0.267889</td>\n",
       "      <td>0.560558</td>\n",
       "      <td>0.045777</td>\n",
       "      <td>0.973837</td>\n",
       "      <td>-0.13185</td>\n",
       "      <td>0.909554</td>\n",
       "      <td>-0.13255</td>\n",
       "      <td>0.892091</td>\n",
       "      <td>...</td>\n",
       "      <td>-0.074022</td>\n",
       "      <td>0.692499</td>\n",
       "      <td>-0.0265</td>\n",
       "      <td>0.854580</td>\n",
       "      <td>0.22020</td>\n",
       "      <td>1</td>\n",
       "      <td>0.737349</td>\n",
       "      <td>0.320401</td>\n",
       "      <td>-0.011401</td>\n",
       "      <td>0.181313</td>\n",
       "    </tr>\n",
       "    <tr>\n",
       "      <th>1090</th>\n",
       "      <td>PDCD6IP</td>\n",
       "      <td>0.020241</td>\n",
       "      <td>-0.239380</td>\n",
       "      <td>0.774183</td>\n",
       "      <td>-0.074377</td>\n",
       "      <td>0.593037</td>\n",
       "      <td>-0.28630</td>\n",
       "      <td>0.834207</td>\n",
       "      <td>-0.10240</td>\n",
       "      <td>0.653731</td>\n",
       "      <td>...</td>\n",
       "      <td>0.024242</td>\n",
       "      <td>0.385394</td>\n",
       "      <td>0.1845</td>\n",
       "      <td>0.894571</td>\n",
       "      <td>0.13900</td>\n",
       "      <td>1</td>\n",
       "      <td>0.644164</td>\n",
       "      <td>0.316191</td>\n",
       "      <td>-0.079271</td>\n",
       "      <td>0.184026</td>\n",
       "    </tr>\n",
       "    <tr>\n",
       "      <th>1389</th>\n",
       "      <td>EIF3G</td>\n",
       "      <td>0.029828</td>\n",
       "      <td>0.218471</td>\n",
       "      <td>0.312163</td>\n",
       "      <td>-0.116680</td>\n",
       "      <td>0.786672</td>\n",
       "      <td>-0.15005</td>\n",
       "      <td>0.878424</td>\n",
       "      <td>0.05215</td>\n",
       "      <td>NaN</td>\n",
       "      <td>...</td>\n",
       "      <td>-0.057966</td>\n",
       "      <td>0.969484</td>\n",
       "      <td>-0.0713</td>\n",
       "      <td>0.917530</td>\n",
       "      <td>-0.02100</td>\n",
       "      <td>1</td>\n",
       "      <td>0.697115</td>\n",
       "      <td>0.374256</td>\n",
       "      <td>-0.020911</td>\n",
       "      <td>0.124098</td>\n",
       "    </tr>\n",
       "    <tr>\n",
       "      <th>1077</th>\n",
       "      <td>GTF3C1</td>\n",
       "      <td>0.020013</td>\n",
       "      <td>0.258740</td>\n",
       "      <td>0.158898</td>\n",
       "      <td>0.117424</td>\n",
       "      <td>0.639000</td>\n",
       "      <td>0.26640</td>\n",
       "      <td>0.509106</td>\n",
       "      <td>0.13770</td>\n",
       "      <td>0.798194</td>\n",
       "      <td>...</td>\n",
       "      <td>-0.012605</td>\n",
       "      <td>0.265863</td>\n",
       "      <td>-0.1214</td>\n",
       "      <td>0.814244</td>\n",
       "      <td>0.09320</td>\n",
       "      <td>1</td>\n",
       "      <td>0.523878</td>\n",
       "      <td>0.346405</td>\n",
       "      <td>0.097489</td>\n",
       "      <td>0.130850</td>\n",
       "    </tr>\n",
       "    <tr>\n",
       "      <th>1419</th>\n",
       "      <td>MED1</td>\n",
       "      <td>0.031491</td>\n",
       "      <td>0.300032</td>\n",
       "      <td>0.461783</td>\n",
       "      <td>0.083887</td>\n",
       "      <td>0.951888</td>\n",
       "      <td>0.16150</td>\n",
       "      <td>0.408842</td>\n",
       "      <td>0.22790</td>\n",
       "      <td>0.926087</td>\n",
       "      <td>...</td>\n",
       "      <td>0.021361</td>\n",
       "      <td>0.053383</td>\n",
       "      <td>-0.0699</td>\n",
       "      <td>0.836923</td>\n",
       "      <td>-0.05230</td>\n",
       "      <td>1</td>\n",
       "      <td>0.582013</td>\n",
       "      <td>0.398230</td>\n",
       "      <td>0.081766</td>\n",
       "      <td>0.136280</td>\n",
       "    </tr>\n",
       "  </tbody>\n",
       "</table>\n",
       "<p>2367 rows × 22 columns</p>\n",
       "</div>"
      ],
      "text/plain": [
       "     Proteomics  GBM_P_Value  GBM_Median  HNSCC_P_Value  HNSCC_Median  \\\n",
       "271         SLK     0.003506   -0.305757       0.005300     -0.443020   \n",
       "17         ATE1     0.000225   -0.378204       0.039944     -0.128416   \n",
       "417        CHUK     0.005715   -0.242224       0.023883     -0.224067   \n",
       "1299     PPP3CB     0.026590   -0.568576       0.127629     -0.254671   \n",
       "1591       MSH6     0.037125    0.461236       0.054613      0.514119   \n",
       "...         ...          ...         ...            ...           ...   \n",
       "1392       SLU7     0.029973    0.267889       0.560558      0.045777   \n",
       "1090    PDCD6IP     0.020241   -0.239380       0.774183     -0.074377   \n",
       "1389      EIF3G     0.029828    0.218471       0.312163     -0.116680   \n",
       "1077     GTF3C1     0.020013    0.258740       0.158898      0.117424   \n",
       "1419       MED1     0.031491    0.300032       0.461783      0.083887   \n",
       "\n",
       "      LUAD_P_Value  LUAD_Median  LSCC_P_Value  LSCC_Median  BR_P_Value  ...  \\\n",
       "271       0.043043     -0.52600      0.031229     -0.47625    0.375369  ...   \n",
       "17        0.003010     -0.88365      0.006134     -0.63115    0.147739  ...   \n",
       "417       0.040510     -0.57880      0.043906     -0.60270    0.263329  ...   \n",
       "1299      0.005592     -0.66985      0.037733     -0.66320    0.542176  ...   \n",
       "1591      0.567581      0.16720      0.044259      1.42770    0.547482  ...   \n",
       "...            ...          ...           ...          ...         ...  ...   \n",
       "1392      0.973837     -0.13185      0.909554     -0.13255    0.892091  ...   \n",
       "1090      0.593037     -0.28630      0.834207     -0.10240    0.653731  ...   \n",
       "1389      0.786672     -0.15005      0.878424      0.05215         NaN  ...   \n",
       "1077      0.639000      0.26640      0.509106      0.13770    0.798194  ...   \n",
       "1419      0.951888      0.16150      0.408842      0.22790    0.926087  ...   \n",
       "\n",
       "      OV_Median  EC_P_Value  EC_Median  CO_P_Value  CO_Median  Num_sig  \\\n",
       "271   -0.122267    0.074890     0.4053    0.624087   -0.18140        4   \n",
       "17    -0.000390    0.431900     0.0330    0.902073   -0.06000        4   \n",
       "417   -0.222607    0.708913    -0.1043    0.897009   -0.01335        4   \n",
       "1299  -0.035448    0.897392     0.0750    0.956566    0.13300        3   \n",
       "1591   0.281649    0.019773    -0.5370    0.983382    0.03200        3   \n",
       "...         ...         ...        ...         ...        ...      ...   \n",
       "1392  -0.074022    0.692499    -0.0265    0.854580    0.22020        1   \n",
       "1090   0.024242    0.385394     0.1845    0.894571    0.13900        1   \n",
       "1389  -0.057966    0.969484    -0.0713    0.917530   -0.02100        1   \n",
       "1077  -0.012605    0.265863    -0.1214    0.814244    0.09320        1   \n",
       "1419   0.021361    0.053383    -0.0699    0.836923   -0.05230        1   \n",
       "\n",
       "      Mean_P_Value  Std_Dev_P_Value  Mean_Dif_Expression  \\\n",
       "271       0.267891         0.365738            -0.270399   \n",
       "17        0.314646         0.414764            -0.338726   \n",
       "417       0.371121         0.422655            -0.294269   \n",
       "1299      0.448954         0.449788            -0.308937   \n",
       "1591      0.404990         0.423441             0.337157   \n",
       "...            ...              ...                  ...   \n",
       "1392      0.737349         0.320401            -0.011401   \n",
       "1090      0.644164         0.316191            -0.079271   \n",
       "1389      0.697115         0.374256            -0.020911   \n",
       "1077      0.523878         0.346405             0.097489   \n",
       "1419      0.582013         0.398230             0.081766   \n",
       "\n",
       "      Std_Dev_Dif_Expression  \n",
       "271                 0.312692  \n",
       "17                  0.351007  \n",
       "417                 0.210110  \n",
       "1299                0.332867  \n",
       "1591                0.551026  \n",
       "...                      ...  \n",
       "1392                0.181313  \n",
       "1090                0.184026  \n",
       "1389                0.124098  \n",
       "1077                0.130850  \n",
       "1419                0.136280  \n",
       "\n",
       "[2367 rows x 22 columns]"
      ]
     },
     "execution_count": 10,
     "metadata": {},
     "output_type": "execute_result"
    }
   ],
   "source": [
    "# Only include genes that have data for at least 6/8 genes.\n",
    "df_fdr_pvals_1 = df_fdr_pvals_1.dropna(thresh=17, axis=0) # 12 + 5 (statistic columns) = 17\n",
    "total_genes_6_cancers = len(df_fdr_pvals_1.Proteomics.unique())\n",
    "print('Genes sig in at least 1 cancer (data for 6/8 cancers):', total_genes_6_cancers)\n",
    "df_fdr_pvals_1"
   ]
  },
  {
   "cell_type": "markdown",
   "metadata": {},
   "source": [
    "# Step 2: Make Figure"
   ]
  },
  {
   "cell_type": "code",
   "execution_count": 11,
   "metadata": {},
   "outputs": [
    {
     "data": {
      "image/png": "[encoded data removed]",
      "text/plain": [
       "<Figure size 432x432 with 3 Axes>"
      ]
     },
     "metadata": {},
     "output_type": "display_data"
    }
   ],
   "source": [
    "sns.set(rc={'xtick.labelsize':20,'ytick.labelsize':20}, style = \"white\")\n",
    "g = (sns.jointplot(\"Mean_P_Value\",\"Std_Dev_P_Value\",data = df_fdr_pvals_1, kind=\"hex\", bins = 10)\n",
    "        .set_axis_labels(\"Mean P Value\", \"Std Dev P Value\", fontsize=20))\n",
    "g.ax_marg_x.set_xlim(0, 1)\n",
    "plt.show()\n",
    "g.savefig(\"Sup_Fig_5A.png\", dpi = 300)"
   ]
  },
  {
   "cell_type": "code",
   "execution_count": 12,
   "metadata": {},
   "outputs": [
    {
     "data": {
      "image/png": "[encoded data removed]",
      "text/plain": [
       "<Figure size 432x432 with 3 Axes>"
      ]
     },
     "metadata": {},
     "output_type": "display_data"
    }
   ],
   "source": [
    "sns.set(rc={'xtick.labelsize':20, 'ytick.labelsize':20}, style = \"white\")\n",
    "g = (sns.jointplot(\"Mean_Dif_Expression\",\"Std_Dev_Dif_Expression\",data = df_fdr_pvals_1, kind=\"hex\", bins = 10)\n",
    "        .set_axis_labels(\"Mean Differential Expression\", \"Std Dev Differential Expression\", fontsize=20))\n",
    "\n",
    "g.ax_marg_x.set_xlim(-1, 1)\n",
    "g.ax_marg_y.set_ylim(0, 2)\n",
    "\n",
    "g.savefig(\"Sup_Fig_5B.png\", dpi = 300)\n",
    "plt.show()"
   ]
  },
  {
   "cell_type": "markdown",
   "metadata": {},
   "source": [
    "# Find range of 90% of the differential expression summary statistics"
   ]
  },
  {
   "cell_type": "markdown",
   "metadata": {},
   "source": [
    "A range of the mean differential expression and its standard deviation for most of the genes (90%). "
   ]
  },
  {
   "cell_type": "code",
   "execution_count": 13,
   "metadata": {},
   "outputs": [
    {
     "name": "stdout",
     "output_type": "stream",
     "text": [
      "Distribution of the Average Differential Expressions:\n",
      " \n",
      "min: -0.9309234963965194 \n",
      "5 percentile: -0.33176936778258986 \n",
      "95 percentile: 0.2707679124484959 \n",
      "max: 1.3753098877541523\n"
     ]
    }
   ],
   "source": [
    "mean_de = df_fdr_pvals_1['Mean_Dif_Expression']\n",
    "low_percentile = 5\n",
    "high_percentile = 95\n",
    "\n",
    "low = np.nanpercentile(mean_de, low_percentile, interpolation = 'nearest')\n",
    "high = np.nanpercentile(mean_de, high_percentile, interpolation = 'nearest')\n",
    "print('Distribution of the Average Differential Expressions:\\n', '\\nmin:', mean_de.min(),\n",
    "      '\\n'+str(low_percentile)+' percentile:', low, '\\n'+str(high_percentile)+' percentile:',\n",
    "      high,'\\nmax:', mean_de.max())  \n",
    "      "
   ]
  },
  {
   "cell_type": "code",
   "execution_count": 14,
   "metadata": {},
   "outputs": [
    {
     "name": "stdout",
     "output_type": "stream",
     "text": [
      "Distribution of the Std Dev of Differential Expressions:\n",
      " \n",
      "min: 0.0595899374572807 \n",
      "5 percentile: 0.12215329051063066 \n",
      "95 percentile: 0.5896111643420252 \n",
      "max: 2.00772141509846\n"
     ]
    }
   ],
   "source": [
    "std_de = df_fdr_pvals_1['Std_Dev_Dif_Expression']\n",
    "low_percentile = 5\n",
    "high_percentile = 95\n",
    "\n",
    "low_sd = np.nanpercentile(std_de, low_percentile, interpolation = 'nearest')\n",
    "high_sd = np.nanpercentile(std_de, high_percentile, interpolation = 'nearest')\n",
    "print('Distribution of the Std Dev of Differential Expressions:\\n', '\\nmin:', std_de.min(), \n",
    "      '\\n'+str(low_percentile)+' percentile:', low_sd, '\\n'+str(high_percentile)+' percentile:',\n",
    "      high_sd,'\\nmax:', std_de.max()) "
   ]
  },
  {
   "cell_type": "markdown",
   "metadata": {},
   "source": [
    "# Identify one of the most consistent genes"
   ]
  },
  {
   "cell_type": "markdown",
   "metadata": {},
   "source": [
    "First, we filter for genes with the most significant tests (3). Next we find genes with a consistent decrease or increase in their proteomic abundance when PTEN is deleted (consistent differential expression)."
   ]
  },
  {
   "cell_type": "code",
   "execution_count": 15,
   "metadata": {},
   "outputs": [
    {
     "name": "stdout",
     "output_type": "stream",
     "text": [
      "Number of genes with a consistent differential expression (sig in 3 cancers): 2 \n",
      "Percentage: 2 / 41 * 100 =  4.878048780487805\n"
     ]
    },
    {
     "data": {
      "text/html": [
       "<div>\n",
       "<style scoped>\n",
       "    .dataframe tbody tr th:only-of-type {\n",
       "        vertical-align: middle;\n",
       "    }\n",
       "\n",
       "    .dataframe tbody tr th {\n",
       "        vertical-align: top;\n",
       "    }\n",
       "\n",
       "    .dataframe thead th {\n",
       "        text-align: right;\n",
       "    }\n",
       "</style>\n",
       "<table border=\"1\" class=\"dataframe\">\n",
       "  <thead>\n",
       "    <tr style=\"text-align: right;\">\n",
       "      <th></th>\n",
       "      <th>Proteomics</th>\n",
       "      <th>GBM_Median</th>\n",
       "      <th>HNSCC_Median</th>\n",
       "      <th>LUAD_Median</th>\n",
       "      <th>LSCC_Median</th>\n",
       "      <th>BR_Median</th>\n",
       "      <th>OV_Median</th>\n",
       "      <th>EC_Median</th>\n",
       "      <th>CO_Median</th>\n",
       "    </tr>\n",
       "  </thead>\n",
       "  <tbody>\n",
       "    <tr>\n",
       "      <th>66</th>\n",
       "      <td>MMS19</td>\n",
       "      <td>-0.324287</td>\n",
       "      <td>-0.123084</td>\n",
       "      <td>-0.62000</td>\n",
       "      <td>-0.30475</td>\n",
       "      <td>-0.65340</td>\n",
       "      <td>-0.324897</td>\n",
       "      <td>-0.08470</td>\n",
       "      <td>-0.12180</td>\n",
       "    </tr>\n",
       "    <tr>\n",
       "      <th>420</th>\n",
       "      <td>ATAD1</td>\n",
       "      <td>-0.414812</td>\n",
       "      <td>-0.182747</td>\n",
       "      <td>-0.50905</td>\n",
       "      <td>-1.01335</td>\n",
       "      <td>-0.06935</td>\n",
       "      <td>-0.218273</td>\n",
       "      <td>-0.14574</td>\n",
       "      <td>-0.16475</td>\n",
       "    </tr>\n",
       "  </tbody>\n",
       "</table>\n",
       "</div>"
      ],
      "text/plain": [
       "    Proteomics  GBM_Median  HNSCC_Median  LUAD_Median  LSCC_Median  BR_Median  \\\n",
       "66       MMS19   -0.324287     -0.123084     -0.62000     -0.30475   -0.65340   \n",
       "420      ATAD1   -0.414812     -0.182747     -0.50905     -1.01335   -0.06935   \n",
       "\n",
       "     OV_Median  EC_Median  CO_Median  \n",
       "66   -0.324897   -0.08470   -0.12180  \n",
       "420  -0.218273   -0.14574   -0.16475  "
      ]
     },
     "execution_count": 15,
     "metadata": {},
     "output_type": "execute_result"
    }
   ],
   "source": [
    "df_fdr_pvals_3 = df_fdr_pvals_1[df_fdr_pvals_1['Num_sig'].isin([3])] # 3 is the highest number of sig tests for a gene\n",
    "\n",
    "# Create column with true if differential expression is either all pos or all neg\n",
    "df_fdr_pvals_3['consistent'] = (df_fdr_pvals_3.loc[:,[\"GBM_Median\",\"HNSCC_Median\",\"LUAD_Median\",\"LSCC_Median\", \"BR_Median\",\"OV_Median\",\"EC_Median\",\"CO_Median\"]]).apply(Consistent, axis = 1)\n",
    "consistent_sig_3 = df_fdr_pvals_3[df_fdr_pvals_3['consistent'] == True]\n",
    "\n",
    "total_num_sig_3 = len(df_fdr_pvals_3)\n",
    "num_sig_3_consistent = len(consistent_sig_3)\n",
    "print('Number of genes with a consistent differential expression (sig in 3 cancers):', num_sig_3_consistent, '\\nPercentage:',\n",
    "      num_sig_3_consistent, '/', total_num_sig_3, '* 100 = ', (num_sig_3_consistent/total_num_sig_3) * 100)\n",
    "\n",
    "consistent_sig_3.iloc[:,:18:2]"
   ]
  },
  {
   "cell_type": "markdown",
   "metadata": {},
   "source": [
    "We reference MMS19 in the manuscript as one of the most consistent genes because it has one of the consistently lowest differential expressions and one of the smallest standard deviations of the differential expression. It is also the only significant gene in Ovarian (also significant in Gbm and Luad)."
   ]
  },
  {
   "cell_type": "code",
   "execution_count": 16,
   "metadata": {},
   "outputs": [
    {
     "name": "stdout",
     "output_type": "stream",
     "text": [
      "   Proteomics  Mean_Dif_Expression  Std_Dev_Dif_Expression\n",
      "66      MMS19            -0.319615                0.218715\n"
     ]
    },
    {
     "data": {
      "text/html": [
       "<div>\n",
       "<style scoped>\n",
       "    .dataframe tbody tr th:only-of-type {\n",
       "        vertical-align: middle;\n",
       "    }\n",
       "\n",
       "    .dataframe tbody tr th {\n",
       "        vertical-align: top;\n",
       "    }\n",
       "\n",
       "    .dataframe thead th {\n",
       "        text-align: right;\n",
       "    }\n",
       "</style>\n",
       "<table border=\"1\" class=\"dataframe\">\n",
       "  <thead>\n",
       "    <tr style=\"text-align: right;\">\n",
       "      <th></th>\n",
       "      <th>Proteomics</th>\n",
       "      <th>GBM_Median</th>\n",
       "      <th>HNSCC_Median</th>\n",
       "      <th>LUAD_Median</th>\n",
       "      <th>LSCC_Median</th>\n",
       "      <th>BR_Median</th>\n",
       "      <th>OV_Median</th>\n",
       "      <th>EC_Median</th>\n",
       "      <th>CO_Median</th>\n",
       "      <th>Mean_P_Value</th>\n",
       "      <th>Mean_Dif_Expression</th>\n",
       "    </tr>\n",
       "  </thead>\n",
       "  <tbody>\n",
       "    <tr>\n",
       "      <th>66</th>\n",
       "      <td>MMS19</td>\n",
       "      <td>-0.324287</td>\n",
       "      <td>-0.123084</td>\n",
       "      <td>-0.62</td>\n",
       "      <td>-0.30475</td>\n",
       "      <td>-0.6534</td>\n",
       "      <td>-0.324897</td>\n",
       "      <td>-0.0847</td>\n",
       "      <td>-0.1218</td>\n",
       "      <td>0.227605</td>\n",
       "      <td>-0.319615</td>\n",
       "    </tr>\n",
       "  </tbody>\n",
       "</table>\n",
       "</div>"
      ],
      "text/plain": [
       "   Proteomics  GBM_Median  HNSCC_Median  LUAD_Median  LSCC_Median  BR_Median  \\\n",
       "66      MMS19   -0.324287     -0.123084        -0.62     -0.30475    -0.6534   \n",
       "\n",
       "    OV_Median  EC_Median  CO_Median  Mean_P_Value  Mean_Dif_Expression  \n",
       "66  -0.324897    -0.0847    -0.1218      0.227605            -0.319615  "
      ]
     },
     "execution_count": 16,
     "metadata": {},
     "output_type": "execute_result"
    }
   ],
   "source": [
    "gene = 'MMS19' \n",
    "gene_df = df_fdr_pvals.loc[df_fdr_pvals['Proteomics'] == gene]\n",
    "sd_stats = gene_df[['Proteomics','Mean_Dif_Expression', 'Std_Dev_Dif_Expression']]\n",
    "print(sd_stats)\n",
    "mms19 = gene_df.iloc[:,::2]\n",
    "mms19"
   ]
  },
  {
   "cell_type": "code",
   "execution_count": null,
   "metadata": {},
   "outputs": [],
   "source": []
  },
  {
   "cell_type": "code",
   "execution_count": 17,
   "metadata": {},
   "outputs": [
    {
     "ename": "KeyError",
     "evalue": "\"None of [Index([('GBM_Median', 'HNSCC_Median', 'LUAD_Median', 'LSCC_Median', 'BR_Median', 'OV_Median', 'EC_Median', 'CO_Median')], dtype='object')] are in the [columns]\"",
     "output_type": "error",
     "traceback": [
      "\u001b[1;31m---------------------------------------------------------------------------\u001b[0m",
      "\u001b[1;31mKeyError\u001b[0m                                  Traceback (most recent call last)",
      "\u001b[1;32m<ipython-input-17-3bc8e02af2bb>\u001b[0m in \u001b[0;36m<module>\u001b[1;34m\u001b[0m\n\u001b[0;32m      2\u001b[0m \u001b[0mdf_fdr_pvals_consistent\u001b[0m \u001b[1;33m=\u001b[0m \u001b[0mdf_fdr_pvals_1\u001b[0m\u001b[1;33m[\u001b[0m\u001b[0mdf_fdr_pvals_1\u001b[0m\u001b[1;33m[\u001b[0m\u001b[1;34m'Num_sig'\u001b[0m\u001b[1;33m]\u001b[0m\u001b[1;33m.\u001b[0m\u001b[0misin\u001b[0m\u001b[1;33m(\u001b[0m\u001b[1;33m[\u001b[0m\u001b[1;36m1\u001b[0m\u001b[1;33m,\u001b[0m\u001b[1;36m2\u001b[0m\u001b[1;33m,\u001b[0m\u001b[1;36m3\u001b[0m\u001b[1;33m,\u001b[0m\u001b[1;36m4\u001b[0m\u001b[1;33m]\u001b[0m\u001b[1;33m)\u001b[0m\u001b[1;33m]\u001b[0m\u001b[1;33m\u001b[0m\u001b[1;33m\u001b[0m\u001b[0m\n\u001b[0;32m      3\u001b[0m \u001b[1;33m\u001b[0m\u001b[0m\n\u001b[1;32m----> 4\u001b[1;33m \u001b[0mdf_fdr_pvals_consistent\u001b[0m\u001b[1;33m[\u001b[0m\u001b[1;34m'consistent'\u001b[0m\u001b[1;33m]\u001b[0m \u001b[1;33m=\u001b[0m \u001b[1;33m(\u001b[0m\u001b[0mdf_fdr_pvals_consistent\u001b[0m\u001b[1;33m.\u001b[0m\u001b[0mloc\u001b[0m\u001b[1;33m[\u001b[0m\u001b[1;33m:\u001b[0m\u001b[1;33m,\u001b[0m\u001b[1;33m[\u001b[0m\u001b[1;33m[\u001b[0m\u001b[1;34m\"GBM_Median\"\u001b[0m\u001b[1;33m,\u001b[0m\u001b[1;34m\"HNSCC_Median\"\u001b[0m\u001b[1;33m,\u001b[0m\u001b[1;34m\"LUAD_Median\"\u001b[0m\u001b[1;33m,\u001b[0m\u001b[1;34m\"LSCC_Median\"\u001b[0m\u001b[1;33m,\u001b[0m \u001b[1;34m\"BR_Median\"\u001b[0m\u001b[1;33m,\u001b[0m\u001b[1;34m\"OV_Median\"\u001b[0m\u001b[1;33m,\u001b[0m\u001b[1;34m\"EC_Median\"\u001b[0m\u001b[1;33m,\u001b[0m\u001b[1;34m\"CO_Median\"\u001b[0m\u001b[1;33m]\u001b[0m\u001b[1;33m]\u001b[0m\u001b[1;33m]\u001b[0m\u001b[1;33m)\u001b[0m\u001b[1;33m.\u001b[0m\u001b[0mapply\u001b[0m\u001b[1;33m(\u001b[0m\u001b[0mConsistent\u001b[0m\u001b[1;33m,\u001b[0m \u001b[0maxis\u001b[0m \u001b[1;33m=\u001b[0m \u001b[1;36m1\u001b[0m\u001b[1;33m)\u001b[0m\u001b[1;33m\u001b[0m\u001b[1;33m\u001b[0m\u001b[0m\n\u001b[0m\u001b[0;32m      5\u001b[0m \u001b[0mconsistent\u001b[0m \u001b[1;33m=\u001b[0m \u001b[0mdf_fdr_pvals_consistent\u001b[0m\u001b[1;33m[\u001b[0m\u001b[0mdf_fdr_pvals_consistent\u001b[0m\u001b[1;33m[\u001b[0m\u001b[1;34m'consistent'\u001b[0m\u001b[1;33m]\u001b[0m \u001b[1;33m==\u001b[0m \u001b[1;32mTrue\u001b[0m\u001b[1;33m]\u001b[0m\u001b[1;33m\u001b[0m\u001b[1;33m\u001b[0m\u001b[0m\n\u001b[0;32m      6\u001b[0m \u001b[1;33m\u001b[0m\u001b[0m\n",
      "\u001b[1;32m~\\Anaconda3\\envs\\Research\\lib\\site-packages\\pandas\\core\\indexing.py\u001b[0m in \u001b[0;36m__getitem__\u001b[1;34m(self, key)\u001b[0m\n\u001b[0;32m    871\u001b[0m                     \u001b[1;31m# AttributeError for IntervalTree get_value\u001b[0m\u001b[1;33m\u001b[0m\u001b[1;33m\u001b[0m\u001b[1;33m\u001b[0m\u001b[0m\n\u001b[0;32m    872\u001b[0m                     \u001b[1;32mpass\u001b[0m\u001b[1;33m\u001b[0m\u001b[1;33m\u001b[0m\u001b[0m\n\u001b[1;32m--> 873\u001b[1;33m             \u001b[1;32mreturn\u001b[0m \u001b[0mself\u001b[0m\u001b[1;33m.\u001b[0m\u001b[0m_getitem_tuple\u001b[0m\u001b[1;33m(\u001b[0m\u001b[0mkey\u001b[0m\u001b[1;33m)\u001b[0m\u001b[1;33m\u001b[0m\u001b[1;33m\u001b[0m\u001b[0m\n\u001b[0m\u001b[0;32m    874\u001b[0m         \u001b[1;32melse\u001b[0m\u001b[1;33m:\u001b[0m\u001b[1;33m\u001b[0m\u001b[1;33m\u001b[0m\u001b[0m\n\u001b[0;32m    875\u001b[0m             \u001b[1;31m# we by definition only have the 0th axis\u001b[0m\u001b[1;33m\u001b[0m\u001b[1;33m\u001b[0m\u001b[1;33m\u001b[0m\u001b[0m\n",
      "\u001b[1;32m~\\Anaconda3\\envs\\Research\\lib\\site-packages\\pandas\\core\\indexing.py\u001b[0m in \u001b[0;36m_getitem_tuple\u001b[1;34m(self, tup)\u001b[0m\n\u001b[0;32m   1053\u001b[0m             \u001b[1;32mreturn\u001b[0m \u001b[0mself\u001b[0m\u001b[1;33m.\u001b[0m\u001b[0m_multi_take\u001b[0m\u001b[1;33m(\u001b[0m\u001b[0mtup\u001b[0m\u001b[1;33m)\u001b[0m\u001b[1;33m\u001b[0m\u001b[1;33m\u001b[0m\u001b[0m\n\u001b[0;32m   1054\u001b[0m \u001b[1;33m\u001b[0m\u001b[0m\n\u001b[1;32m-> 1055\u001b[1;33m         \u001b[1;32mreturn\u001b[0m \u001b[0mself\u001b[0m\u001b[1;33m.\u001b[0m\u001b[0m_getitem_tuple_same_dim\u001b[0m\u001b[1;33m(\u001b[0m\u001b[0mtup\u001b[0m\u001b[1;33m)\u001b[0m\u001b[1;33m\u001b[0m\u001b[1;33m\u001b[0m\u001b[0m\n\u001b[0m\u001b[0;32m   1056\u001b[0m \u001b[1;33m\u001b[0m\u001b[0m\n\u001b[0;32m   1057\u001b[0m     \u001b[1;32mdef\u001b[0m \u001b[0m_get_label\u001b[0m\u001b[1;33m(\u001b[0m\u001b[0mself\u001b[0m\u001b[1;33m,\u001b[0m \u001b[0mlabel\u001b[0m\u001b[1;33m,\u001b[0m \u001b[0maxis\u001b[0m\u001b[1;33m:\u001b[0m \u001b[0mint\u001b[0m\u001b[1;33m)\u001b[0m\u001b[1;33m:\u001b[0m\u001b[1;33m\u001b[0m\u001b[1;33m\u001b[0m\u001b[0m\n",
      "\u001b[1;32m~\\Anaconda3\\envs\\Research\\lib\\site-packages\\pandas\\core\\indexing.py\u001b[0m in \u001b[0;36m_getitem_tuple_same_dim\u001b[1;34m(self, tup)\u001b[0m\n\u001b[0;32m    748\u001b[0m                 \u001b[1;32mcontinue\u001b[0m\u001b[1;33m\u001b[0m\u001b[1;33m\u001b[0m\u001b[0m\n\u001b[0;32m    749\u001b[0m \u001b[1;33m\u001b[0m\u001b[0m\n\u001b[1;32m--> 750\u001b[1;33m             \u001b[0mretval\u001b[0m \u001b[1;33m=\u001b[0m \u001b[0mgetattr\u001b[0m\u001b[1;33m(\u001b[0m\u001b[0mretval\u001b[0m\u001b[1;33m,\u001b[0m \u001b[0mself\u001b[0m\u001b[1;33m.\u001b[0m\u001b[0mname\u001b[0m\u001b[1;33m)\u001b[0m\u001b[1;33m.\u001b[0m\u001b[0m_getitem_axis\u001b[0m\u001b[1;33m(\u001b[0m\u001b[0mkey\u001b[0m\u001b[1;33m,\u001b[0m \u001b[0maxis\u001b[0m\u001b[1;33m=\u001b[0m\u001b[0mi\u001b[0m\u001b[1;33m)\u001b[0m\u001b[1;33m\u001b[0m\u001b[1;33m\u001b[0m\u001b[0m\n\u001b[0m\u001b[0;32m    751\u001b[0m             \u001b[1;31m# We should never have retval.ndim < self.ndim, as that should\u001b[0m\u001b[1;33m\u001b[0m\u001b[1;33m\u001b[0m\u001b[1;33m\u001b[0m\u001b[0m\n\u001b[0;32m    752\u001b[0m             \u001b[1;31m#  be handled by the _getitem_lowerdim call above.\u001b[0m\u001b[1;33m\u001b[0m\u001b[1;33m\u001b[0m\u001b[1;33m\u001b[0m\u001b[0m\n",
      "\u001b[1;32m~\\Anaconda3\\envs\\Research\\lib\\site-packages\\pandas\\core\\indexing.py\u001b[0m in \u001b[0;36m_getitem_axis\u001b[1;34m(self, key, axis)\u001b[0m\n\u001b[0;32m   1097\u001b[0m                     \u001b[1;32mraise\u001b[0m \u001b[0mValueError\u001b[0m\u001b[1;33m(\u001b[0m\u001b[1;34m\"Cannot index with multidimensional key\"\u001b[0m\u001b[1;33m)\u001b[0m\u001b[1;33m\u001b[0m\u001b[1;33m\u001b[0m\u001b[0m\n\u001b[0;32m   1098\u001b[0m \u001b[1;33m\u001b[0m\u001b[0m\n\u001b[1;32m-> 1099\u001b[1;33m                 \u001b[1;32mreturn\u001b[0m \u001b[0mself\u001b[0m\u001b[1;33m.\u001b[0m\u001b[0m_getitem_iterable\u001b[0m\u001b[1;33m(\u001b[0m\u001b[0mkey\u001b[0m\u001b[1;33m,\u001b[0m \u001b[0maxis\u001b[0m\u001b[1;33m=\u001b[0m\u001b[0maxis\u001b[0m\u001b[1;33m)\u001b[0m\u001b[1;33m\u001b[0m\u001b[1;33m\u001b[0m\u001b[0m\n\u001b[0m\u001b[0;32m   1100\u001b[0m \u001b[1;33m\u001b[0m\u001b[0m\n\u001b[0;32m   1101\u001b[0m             \u001b[1;31m# nested tuple slicing\u001b[0m\u001b[1;33m\u001b[0m\u001b[1;33m\u001b[0m\u001b[1;33m\u001b[0m\u001b[0m\n",
      "\u001b[1;32m~\\Anaconda3\\envs\\Research\\lib\\site-packages\\pandas\\core\\indexing.py\u001b[0m in \u001b[0;36m_getitem_iterable\u001b[1;34m(self, key, axis)\u001b[0m\n\u001b[0;32m   1035\u001b[0m \u001b[1;33m\u001b[0m\u001b[0m\n\u001b[0;32m   1036\u001b[0m         \u001b[1;31m# A collection of keys\u001b[0m\u001b[1;33m\u001b[0m\u001b[1;33m\u001b[0m\u001b[1;33m\u001b[0m\u001b[0m\n\u001b[1;32m-> 1037\u001b[1;33m         \u001b[0mkeyarr\u001b[0m\u001b[1;33m,\u001b[0m \u001b[0mindexer\u001b[0m \u001b[1;33m=\u001b[0m \u001b[0mself\u001b[0m\u001b[1;33m.\u001b[0m\u001b[0m_get_listlike_indexer\u001b[0m\u001b[1;33m(\u001b[0m\u001b[0mkey\u001b[0m\u001b[1;33m,\u001b[0m \u001b[0maxis\u001b[0m\u001b[1;33m,\u001b[0m \u001b[0mraise_missing\u001b[0m\u001b[1;33m=\u001b[0m\u001b[1;32mFalse\u001b[0m\u001b[1;33m)\u001b[0m\u001b[1;33m\u001b[0m\u001b[1;33m\u001b[0m\u001b[0m\n\u001b[0m\u001b[0;32m   1038\u001b[0m         return self.obj._reindex_with_indexers(\n\u001b[0;32m   1039\u001b[0m             \u001b[1;33m{\u001b[0m\u001b[0maxis\u001b[0m\u001b[1;33m:\u001b[0m \u001b[1;33m[\u001b[0m\u001b[0mkeyarr\u001b[0m\u001b[1;33m,\u001b[0m \u001b[0mindexer\u001b[0m\u001b[1;33m]\u001b[0m\u001b[1;33m}\u001b[0m\u001b[1;33m,\u001b[0m \u001b[0mcopy\u001b[0m\u001b[1;33m=\u001b[0m\u001b[1;32mTrue\u001b[0m\u001b[1;33m,\u001b[0m \u001b[0mallow_dups\u001b[0m\u001b[1;33m=\u001b[0m\u001b[1;32mTrue\u001b[0m\u001b[1;33m\u001b[0m\u001b[1;33m\u001b[0m\u001b[0m\n",
      "\u001b[1;32m~\\Anaconda3\\envs\\Research\\lib\\site-packages\\pandas\\core\\indexing.py\u001b[0m in \u001b[0;36m_get_listlike_indexer\u001b[1;34m(self, key, axis, raise_missing)\u001b[0m\n\u001b[0;32m   1252\u001b[0m             \u001b[0mkeyarr\u001b[0m\u001b[1;33m,\u001b[0m \u001b[0mindexer\u001b[0m\u001b[1;33m,\u001b[0m \u001b[0mnew_indexer\u001b[0m \u001b[1;33m=\u001b[0m \u001b[0max\u001b[0m\u001b[1;33m.\u001b[0m\u001b[0m_reindex_non_unique\u001b[0m\u001b[1;33m(\u001b[0m\u001b[0mkeyarr\u001b[0m\u001b[1;33m)\u001b[0m\u001b[1;33m\u001b[0m\u001b[1;33m\u001b[0m\u001b[0m\n\u001b[0;32m   1253\u001b[0m \u001b[1;33m\u001b[0m\u001b[0m\n\u001b[1;32m-> 1254\u001b[1;33m         \u001b[0mself\u001b[0m\u001b[1;33m.\u001b[0m\u001b[0m_validate_read_indexer\u001b[0m\u001b[1;33m(\u001b[0m\u001b[0mkeyarr\u001b[0m\u001b[1;33m,\u001b[0m \u001b[0mindexer\u001b[0m\u001b[1;33m,\u001b[0m \u001b[0maxis\u001b[0m\u001b[1;33m,\u001b[0m \u001b[0mraise_missing\u001b[0m\u001b[1;33m=\u001b[0m\u001b[0mraise_missing\u001b[0m\u001b[1;33m)\u001b[0m\u001b[1;33m\u001b[0m\u001b[1;33m\u001b[0m\u001b[0m\n\u001b[0m\u001b[0;32m   1255\u001b[0m         \u001b[1;32mreturn\u001b[0m \u001b[0mkeyarr\u001b[0m\u001b[1;33m,\u001b[0m \u001b[0mindexer\u001b[0m\u001b[1;33m\u001b[0m\u001b[1;33m\u001b[0m\u001b[0m\n\u001b[0;32m   1256\u001b[0m \u001b[1;33m\u001b[0m\u001b[0m\n",
      "\u001b[1;32m~\\Anaconda3\\envs\\Research\\lib\\site-packages\\pandas\\core\\indexing.py\u001b[0m in \u001b[0;36m_validate_read_indexer\u001b[1;34m(self, key, indexer, axis, raise_missing)\u001b[0m\n\u001b[0;32m   1296\u001b[0m             \u001b[1;32mif\u001b[0m \u001b[0mmissing\u001b[0m \u001b[1;33m==\u001b[0m \u001b[0mlen\u001b[0m\u001b[1;33m(\u001b[0m\u001b[0mindexer\u001b[0m\u001b[1;33m)\u001b[0m\u001b[1;33m:\u001b[0m\u001b[1;33m\u001b[0m\u001b[1;33m\u001b[0m\u001b[0m\n\u001b[0;32m   1297\u001b[0m                 \u001b[0maxis_name\u001b[0m \u001b[1;33m=\u001b[0m \u001b[0mself\u001b[0m\u001b[1;33m.\u001b[0m\u001b[0mobj\u001b[0m\u001b[1;33m.\u001b[0m\u001b[0m_get_axis_name\u001b[0m\u001b[1;33m(\u001b[0m\u001b[0maxis\u001b[0m\u001b[1;33m)\u001b[0m\u001b[1;33m\u001b[0m\u001b[1;33m\u001b[0m\u001b[0m\n\u001b[1;32m-> 1298\u001b[1;33m                 \u001b[1;32mraise\u001b[0m \u001b[0mKeyError\u001b[0m\u001b[1;33m(\u001b[0m\u001b[1;34mf\"None of [{key}] are in the [{axis_name}]\"\u001b[0m\u001b[1;33m)\u001b[0m\u001b[1;33m\u001b[0m\u001b[1;33m\u001b[0m\u001b[0m\n\u001b[0m\u001b[0;32m   1299\u001b[0m \u001b[1;33m\u001b[0m\u001b[0m\n\u001b[0;32m   1300\u001b[0m             \u001b[1;31m# We (temporarily) allow for some missing keys with .loc, except in\u001b[0m\u001b[1;33m\u001b[0m\u001b[1;33m\u001b[0m\u001b[1;33m\u001b[0m\u001b[0m\n",
      "\u001b[1;31mKeyError\u001b[0m: \"None of [Index([('GBM_Median', 'HNSCC_Median', 'LUAD_Median', 'LSCC_Median', 'BR_Median', 'OV_Median', 'EC_Median', 'CO_Median')], dtype='object')] are in the [columns]\""
     ]
    }
   ],
   "source": [
    "# Check consistent genes sig in at least 1 cancer\n",
    "df_fdr_pvals_consistent = df_fdr_pvals_1[df_fdr_pvals_1['Num_sig'].isin([1,2,3,4])]\n",
    "\n",
    "df_fdr_pvals_consistent['consistent'] = (df_fdr_pvals_consistent.loc[:,[[\"GBM_Median\",\"HNSCC_Median\",\"LUAD_Median\",\"LSCC_Median\", \"BR_Median\",\"OV_Median\",\"EC_Median\",\"CO_Median\"]]]).apply(Consistent, axis = 1)\n",
    "consistent = df_fdr_pvals_consistent[df_fdr_pvals_consistent['consistent'] == True]\n",
    "\n",
    "num_consistent_1 = len(consistent)\n",
    "print('Number of genes with a consistent differential expression (sig > 1 cancer):', num_consistent_1, '\\n\\nPercentage:', \n",
    "     num_consistent_1,'/',total_genes_6_cancers, '* 100 = ', str((num_consistent_1/total_genes_6_cancers)*100)[:4])\n",
    "\n",
    "consistent"
   ]
  },
  {
   "cell_type": "code",
   "execution_count": null,
   "metadata": {},
   "outputs": [],
   "source": [
    "df_fdr_pvals_consistent"
   ]
  },
  {
   "cell_type": "code",
   "execution_count": null,
   "metadata": {},
   "outputs": [],
   "source": []
  }
 ],
 "metadata": {
  "kernelspec": {
   "display_name": "Python 3",
   "language": "python",
   "name": "python3"
  },
  "language_info": {
   "codemirror_mode": {
    "name": "ipython",
    "version": 3
   },
   "file_extension": ".py",
   "mimetype": "text/x-python",
   "name": "python",
   "nbconvert_exporter": "python",
   "pygments_lexer": "ipython3",
   "version": "3.7.3"
  }
 },
 "nbformat": 4,
 "nbformat_minor": 2
}
