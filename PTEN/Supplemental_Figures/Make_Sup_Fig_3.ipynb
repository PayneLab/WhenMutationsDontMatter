{
 "cells": [
  {
   "cell_type": "markdown",
   "metadata": {},
   "source": [
    "# Make Supplemental Figure: Endometrial Mutations"
   ]
  },
  {
   "cell_type": "markdown",
   "metadata": {},
   "source": [
    "Create a csv file for MutPlot, a web based tool, found here: https://bioinformaticstools.shinyapps.io/lollipop/\n",
    "More information about MutPlot: https://journals.plos.org/plosone/article?id=10.1371/journal.pone.0215838"
   ]
  },
  {
   "cell_type": "code",
   "execution_count": 1,
   "metadata": {},
   "outputs": [],
   "source": [
    "import pandas as pd\n",
    "\n",
    "import cptac\n",
    "import cptac.utils as u\n",
    "import plot_utils as p"
   ]
  },
  {
   "cell_type": "code",
   "execution_count": 2,
   "metadata": {},
   "outputs": [
    {
     "name": "stdout",
     "output_type": "stream",
     "text": [
      "cptac version: 0.8.5\n"
     ]
    }
   ],
   "source": [
    "print('cptac version:', cptac.version())"
   ]
  },
  {
   "cell_type": "code",
   "execution_count": 3,
   "metadata": {},
   "outputs": [
    {
     "name": "stdout",
     "output_type": "stream",
     "text": [
      "                                                \r"
     ]
    }
   ],
   "source": [
    "e = cptac.Endometrial()"
   ]
  },
  {
   "cell_type": "code",
   "execution_count": 4,
   "metadata": {},
   "outputs": [
    {
     "name": "stderr",
     "output_type": "stream",
     "text": [
      "cptac warning: In joining the somatic_mutation table, no mutations were found for the following samples, so they were filled with Wildtype_Tumor or Wildtype_Normal: 20 samples for the PTEN gene (C:\\Users\\brittany henderson\\Anaconda3\\envs\\Research\\lib\\site-packages\\ipykernel_launcher.py, line 3)\n"
     ]
    },
    {
     "data": {
      "text/plain": [
       "Nonsense_Mutation    25\n",
       "Frame_Shift_Del      22\n",
       "Missense_Mutation    21\n",
       "Frame_Shift_Ins       6\n",
       "Splice_Site           1\n",
       "Name: PTEN_Mutation, dtype: int64"
      ]
     },
     "execution_count": 4,
     "metadata": {},
     "output_type": "execute_result"
    }
   ],
   "source": [
    "# Create df with truncations\n",
    "prot_and_mutations = e.join_omics_to_mutations(\n",
    "            mutations_genes = 'PTEN', omics_df_name = 'proteomics', omics_genes = 'PTEN', \n",
    "    mutations_filter = ['Nonsense_Mutation','Frame_Shift_Del','Frame_Shift_Ins'], tissue_type = 'tumor') \n",
    "prot_and_mutations = prot_and_mutations.loc[prot_and_mutations['PTEN_Mutation'] !='Wildtype_Tumor']\n",
    "prot_and_mutations.PTEN_Mutation.value_counts()"
   ]
  },
  {
   "cell_type": "markdown",
   "metadata": {},
   "source": [
    "Format df for MutPlot (lollipop plot creation)"
   ]
  },
  {
   "cell_type": "code",
   "execution_count": 5,
   "metadata": {},
   "outputs": [
    {
     "data": {
      "text/plain": [
       "Nonsense_Mutation    25\n",
       "Frame_Shift_Del      22\n",
       "Frame_Shift_Ins       6\n",
       "Name: Mutation_Type, dtype: int64"
      ]
     },
     "execution_count": 5,
     "metadata": {},
     "output_type": "execute_result"
    }
   ],
   "source": [
    "# drop unnecesary columns\n",
    "drop_cols = ['PTEN_proteomics','PTEN_Mutation_Status','Sample_Status']\n",
    "df = prot_and_mutations.drop(columns=drop_cols)\n",
    "# Create Hugo_Symbol column\n",
    "df['Hugo_Symbol'] = 'PTEN'\n",
    "# Rename columns\n",
    "df = df.reset_index()\n",
    "df1 = df.rename(columns={'Patient_ID': 'Sample_ID', 'PTEN_Mutation': 'Mutation_Type',\n",
    "                         'PTEN_Location':'Protein_Change'})\n",
    "# Keep only Truncation type mutations\n",
    "df2 = df1.loc[df1['Mutation_Type'] != 'Missense_Mutation']\n",
    "df3 = df2.loc[df1['Mutation_Type'] != 'Splice_Site']\n",
    "df3.Mutation_Type.value_counts()"
   ]
  },
  {
   "cell_type": "code",
   "execution_count": 6,
   "metadata": {},
   "outputs": [
    {
     "data": {
      "text/html": [
       "<div>\n",
       "<style scoped>\n",
       "    .dataframe tbody tr th:only-of-type {\n",
       "        vertical-align: middle;\n",
       "    }\n",
       "\n",
       "    .dataframe tbody tr th {\n",
       "        vertical-align: top;\n",
       "    }\n",
       "\n",
       "    .dataframe thead th {\n",
       "        text-align: right;\n",
       "    }\n",
       "</style>\n",
       "<table border=\"1\" class=\"dataframe\">\n",
       "  <thead>\n",
       "    <tr style=\"text-align: right;\">\n",
       "      <th>Name</th>\n",
       "      <th>Sample_ID</th>\n",
       "      <th>Mutation_Type</th>\n",
       "      <th>Protein_Change</th>\n",
       "      <th>Hugo_Symbol</th>\n",
       "    </tr>\n",
       "  </thead>\n",
       "  <tbody>\n",
       "    <tr>\n",
       "      <th>0</th>\n",
       "      <td>C3L-00006</td>\n",
       "      <td>Nonsense_Mutation</td>\n",
       "      <td>p.R233*</td>\n",
       "      <td>PTEN</td>\n",
       "    </tr>\n",
       "    <tr>\n",
       "      <th>2</th>\n",
       "      <td>C3L-00032</td>\n",
       "      <td>Nonsense_Mutation</td>\n",
       "      <td>p.W111*</td>\n",
       "      <td>PTEN</td>\n",
       "    </tr>\n",
       "    <tr>\n",
       "      <th>5</th>\n",
       "      <td>C3L-00137</td>\n",
       "      <td>Nonsense_Mutation</td>\n",
       "      <td>p.Y180*</td>\n",
       "      <td>PTEN</td>\n",
       "    </tr>\n",
       "    <tr>\n",
       "      <th>7</th>\n",
       "      <td>C3L-00145</td>\n",
       "      <td>Frame_Shift_Ins</td>\n",
       "      <td>p.E242*</td>\n",
       "      <td>PTEN</td>\n",
       "    </tr>\n",
       "    <tr>\n",
       "      <th>8</th>\n",
       "      <td>C3L-00156</td>\n",
       "      <td>Nonsense_Mutation</td>\n",
       "      <td>p.E7*</td>\n",
       "      <td>PTEN</td>\n",
       "    </tr>\n",
       "  </tbody>\n",
       "</table>\n",
       "</div>"
      ],
      "text/plain": [
       "Name  Sample_ID      Mutation_Type Protein_Change Hugo_Symbol\n",
       "0     C3L-00006  Nonsense_Mutation        p.R233*        PTEN\n",
       "2     C3L-00032  Nonsense_Mutation        p.W111*        PTEN\n",
       "5     C3L-00137  Nonsense_Mutation        p.Y180*        PTEN\n",
       "7     C3L-00145    Frame_Shift_Ins        p.E242*        PTEN\n",
       "8     C3L-00156  Nonsense_Mutation          p.E7*        PTEN"
      ]
     },
     "execution_count": 6,
     "metadata": {},
     "output_type": "execute_result"
    }
   ],
   "source": [
    "df3.head()"
   ]
  },
  {
   "cell_type": "code",
   "execution_count": 7,
   "metadata": {},
   "outputs": [],
   "source": [
    "df3.to_csv('Table_for_Sup_Fig_3.csv') # use this file with MutPlot"
   ]
  },
  {
   "cell_type": "markdown",
   "metadata": {},
   "source": [
    "Extra\n",
    "* Alternative df with all truncations counted when multiple truncation type mutations in the same sample."
   ]
  },
  {
   "cell_type": "code",
   "execution_count": 8,
   "metadata": {},
   "outputs": [
    {
     "data": {
      "text/plain": [
       "Nonsense_Mutation    27\n",
       "Frame_Shift_Del      26\n",
       "Frame_Shift_Ins      11\n",
       "Name: Mutation_Type, dtype: int64"
      ]
     },
     "execution_count": 8,
     "metadata": {},
     "output_type": "execute_result"
    }
   ],
   "source": [
    "# Create lollipop plot with somatic mutations (counts all mutations - including multiple mutations in same sample)\n",
    "mut = e.get_somatic_mutation()\n",
    "pten = mut.loc[mut['Gene'] == 'PTEN']\n",
    "df = pten.reset_index()\n",
    "df1 = df.rename(columns={'Patient_ID': 'Sample_ID','Gene':'Hugo_Symbol',\n",
    "                         'Mutation': 'Mutation_Type','Location':'Protein_Change'})\n",
    "df2 = df1.loc[df1['Mutation_Type'] != 'Missense_Mutation']\n",
    "df3 = df2.loc[df1['Mutation_Type'] != 'Splice_Site']\n",
    "df3.Mutation_Type.value_counts()"
   ]
  },
  {
   "cell_type": "code",
   "execution_count": 9,
   "metadata": {},
   "outputs": [],
   "source": [
    "#df3.to_csv('non_prioritized table.csv', '\\t')"
   ]
  },
  {
   "cell_type": "code",
   "execution_count": null,
   "metadata": {},
   "outputs": [],
   "source": []
  }
 ],
 "metadata": {
  "kernelspec": {
   "display_name": "Python 3",
   "language": "python",
   "name": "python3"
  },
  "language_info": {
   "codemirror_mode": {
    "name": "ipython",
    "version": 3
   },
   "file_extension": ".py",
   "mimetype": "text/x-python",
   "name": "python",
   "nbconvert_exporter": "python",
   "pygments_lexer": "ipython3",
   "version": "3.7.3"
  }
 },
 "nbformat": 4,
 "nbformat_minor": 2
}
