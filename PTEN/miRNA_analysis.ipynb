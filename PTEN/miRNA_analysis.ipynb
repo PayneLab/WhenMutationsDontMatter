{
 "cells": [
  {
   "cell_type": "markdown",
   "metadata": {},
   "source": [
    "# Check the effect of miRNA levels on PTEN protein abundance "
   ]
  },
  {
   "cell_type": "markdown",
   "metadata": {},
   "source": [
    " \"miR-25 and miR-93 (from MCM7) expression decrease PTEN protein levels, and result in activation of the Akt pathway.\" https://www.ncbi.nlm.nih.gov/pmc/articles/PMC3095470/\n",
    " Could this help explain the tissue dependant effects?"
   ]
  },
  {
   "cell_type": "code",
   "execution_count": 1,
   "metadata": {},
   "outputs": [],
   "source": [
    "import pandas as pd\n",
    "import numpy as np\n",
    "import seaborn as sns\n",
    "import matplotlib.pyplot as plt\n",
    "import scipy.stats\n",
    "import gseapy as gp\n",
    "import re\n",
    "import sys \n",
    "\n",
    "import cptac\n",
    "import cptac.utils as u\n",
    "import plot_utils as p"
   ]
  },
  {
   "cell_type": "code",
   "execution_count": 2,
   "metadata": {},
   "outputs": [],
   "source": [
    "import warnings\n",
    "warnings.filterwarnings('ignore')"
   ]
  },
  {
   "cell_type": "code",
   "execution_count": 3,
   "metadata": {},
   "outputs": [],
   "source": [
    "def format_pval_annotation(pval_symbol, x1, x2, line_start = .05, line_height=.05):\n",
    "    # for manual adjustment to pval annotations\n",
    "    \n",
    "    y, h = line_start, line_height\n",
    "    plt.plot([x1, x1, x2, x2], #draw horizontal line\n",
    "             [y, y+h, y+h, y], #vertical line\n",
    "             lw=1.5, color= '.3')\n",
    "    plt.text((x1+x2)*.5, # half between x coord\n",
    "             y+h, pval_symbol, horizontalalignment='center', verticalalignment='bottom', color = \"black\")\n"
   ]
  },
  {
   "cell_type": "markdown",
   "metadata": {},
   "source": [
    "#  Step 1: Create Data frames with p-values and differences in median"
   ]
  },
  {
   "cell_type": "markdown",
   "metadata": {},
   "source": [
    "Each cancer needs a data frame containing only samples that have PTEN cnv deletions and PTEN wildtype with trans proteomics. Use wrap_ttest to run many T-tests for all genes in the proteomics data frame. Use get_change_in_medians_df to create the data frame with change in median values. Merge both data frames. "
   ]
  },
  {
   "cell_type": "markdown",
   "metadata": {},
   "source": [
    "Load in cancer data sets from cptac. "
   ]
  },
  {
   "cell_type": "code",
   "execution_count": 4,
   "metadata": {},
   "outputs": [
    {
     "name": "stdout",
     "output_type": "stream",
     "text": [
      "                                                \r"
     ]
    }
   ],
   "source": [
    "g = cptac.Gbm()\n",
    "en = cptac.Endometrial()\n",
    "h = cptac.Hnscc()\n",
    "l = cptac.Luad()\n",
    "ls = cptac.Lscc()\n",
    "o = cptac.Ovarian()\n",
    "col = cptac.Colon()\n",
    "b = cptac.Brca()"
   ]
  },
  {
   "cell_type": "code",
   "execution_count": 17,
   "metadata": {},
   "outputs": [
    {
     "data": {
      "text/html": [
       "<div>\n",
       "<style scoped>\n",
       "    .dataframe tbody tr th:only-of-type {\n",
       "        vertical-align: middle;\n",
       "    }\n",
       "\n",
       "    .dataframe tbody tr th {\n",
       "        vertical-align: top;\n",
       "    }\n",
       "\n",
       "    .dataframe thead th {\n",
       "        text-align: right;\n",
       "    }\n",
       "</style>\n",
       "<table border=\"1\" class=\"dataframe\">\n",
       "  <thead>\n",
       "    <tr style=\"text-align: right;\">\n",
       "      <th>Name</th>\n",
       "      <th>hsa-miR-25-3p</th>\n",
       "      <th>hsa-miR-25-5p</th>\n",
       "    </tr>\n",
       "    <tr>\n",
       "      <th>Patient_ID</th>\n",
       "      <th></th>\n",
       "      <th></th>\n",
       "    </tr>\n",
       "  </thead>\n",
       "  <tbody>\n",
       "    <tr>\n",
       "      <th>C3L-00104</th>\n",
       "      <td>341.652573</td>\n",
       "      <td>NaN</td>\n",
       "    </tr>\n",
       "    <tr>\n",
       "      <th>C3L-00365</th>\n",
       "      <td>343.139007</td>\n",
       "      <td>NaN</td>\n",
       "    </tr>\n",
       "    <tr>\n",
       "      <th>C3L-00674</th>\n",
       "      <td>1428.981227</td>\n",
       "      <td>NaN</td>\n",
       "    </tr>\n",
       "    <tr>\n",
       "      <th>C3L-00677</th>\n",
       "      <td>890.645621</td>\n",
       "      <td>6.501063</td>\n",
       "    </tr>\n",
       "    <tr>\n",
       "      <th>C3L-01040</th>\n",
       "      <td>164.881399</td>\n",
       "      <td>11.371131</td>\n",
       "    </tr>\n",
       "    <tr>\n",
       "      <th>...</th>\n",
       "      <td>...</td>\n",
       "      <td>...</td>\n",
       "    </tr>\n",
       "    <tr>\n",
       "      <th>C3N-03183</th>\n",
       "      <td>1587.808927</td>\n",
       "      <td>10.310448</td>\n",
       "    </tr>\n",
       "    <tr>\n",
       "      <th>C3N-03184</th>\n",
       "      <td>287.471381</td>\n",
       "      <td>NaN</td>\n",
       "    </tr>\n",
       "    <tr>\n",
       "      <th>C3N-03186</th>\n",
       "      <td>212.059094</td>\n",
       "      <td>NaN</td>\n",
       "    </tr>\n",
       "    <tr>\n",
       "      <th>C3N-03188</th>\n",
       "      <td>145.826164</td>\n",
       "      <td>5.833047</td>\n",
       "    </tr>\n",
       "    <tr>\n",
       "      <th>C3N-03473</th>\n",
       "      <td>505.405026</td>\n",
       "      <td>9.359352</td>\n",
       "    </tr>\n",
       "  </tbody>\n",
       "</table>\n",
       "<p>98 rows × 2 columns</p>\n",
       "</div>"
      ],
      "text/plain": [
       "Name        hsa-miR-25-3p  hsa-miR-25-5p\n",
       "Patient_ID                              \n",
       "C3L-00104      341.652573            NaN\n",
       "C3L-00365      343.139007            NaN\n",
       "C3L-00674     1428.981227            NaN\n",
       "C3L-00677      890.645621       6.501063\n",
       "C3L-01040      164.881399      11.371131\n",
       "...                   ...            ...\n",
       "C3N-03183     1587.808927      10.310448\n",
       "C3N-03184      287.471381            NaN\n",
       "C3N-03186      212.059094            NaN\n",
       "C3N-03188      145.826164       5.833047\n",
       "C3N-03473      505.405026       9.359352\n",
       "\n",
       "[98 rows x 2 columns]"
      ]
     },
     "execution_count": 17,
     "metadata": {},
     "output_type": "execute_result"
    }
   ],
   "source": [
    "# Find miRNA\n",
    "m = g.get_miRNA(tissue_type='tumor')\n",
    "m = u.reduce_multiindex(m, levels_to_drop = 1)\n",
    "\n",
    "mb_25 = m.columns.str.contains(r'miR-25')\n",
    "mir25 = m[m.columns[mb_25]]\n",
    "mir25"
   ]
  },
  {
   "cell_type": "markdown",
   "metadata": {},
   "source": [
    "# Run t-tests for miR-25 and miR-93"
   ]
  },
  {
   "cell_type": "markdown",
   "metadata": {},
   "source": [
    " miR-25 and miR-93 (from MCM7) expression decrease pTEN protein levels, and result in activation of the Akt pathway\n",
    " Could this help explain the tissue dependant effects?"
   ]
  },
  {
   "cell_type": "code",
   "execution_count": 192,
   "metadata": {},
   "outputs": [],
   "source": [
    "def status(row, q1, q3):\n",
    "    #print(row,'\\tq1:',q1,'\\tq3:',q3)\n",
    "    status = 'na'\n",
    "    for val in row: \n",
    "        if pd.isnull(val):\n",
    "            continue\n",
    "        val = float(val)\n",
    "        if val <= q1:\n",
    "            status = 'low'\n",
    "        elif val >= q3:\n",
    "            status = 'high'\n",
    "        else:\n",
    "            status = 'med'\n",
    "        return status"
   ]
  },
  {
   "cell_type": "code",
   "execution_count": 204,
   "metadata": {},
   "outputs": [
    {
     "name": "stdout",
     "output_type": "stream",
     "text": [
      "Gbm_25-3p \n",
      "q1: 246.47907507294065 \tq3: 459.7723879490197 \n",
      "\n",
      "Hnscc_25-3p \n",
      "q1: 10.5034083691467 \tq3: 11.4754598603244 \n",
      "\n",
      "Lscc_25-3p \n",
      "q1: 8.31685 \tq3: 9.261 \n",
      "\n",
      "En_25-3p \n",
      "q1: 10.46 \tq3: 11.440000000000001 \n",
      "\n",
      "Colon_25-3p \n",
      "q1: 11.4106 \tq3: 12.1814 \n",
      "\n",
      "Gbm_25-5p \n",
      "q1: 4.969485242981278 \tq3: 11.965394494185968 \n",
      "\n",
      "Hnscc_25-5p \n",
      "q1: 3.8698714061777095 \tq3: 5.375734538583161 \n",
      "\n",
      "Lscc_25-5p \n",
      "q1: 3.0574 \tq3: 4.806 \n",
      "\n",
      "En_25-5p \n",
      "q1: 3.89 \tq3: 5.27 \n",
      "\n",
      "Colon_25-5p \n",
      "q1: 3.8924 \tq3: 5.1389 \n",
      "\n",
      "Gbm_93-3p \n",
      "q1: 6.026951986515526 \tq3: 15.752824962835156 \n",
      "\n",
      "Hnscc_93-3p \n",
      "q1: 4.96624587322494 \tq3: 5.97842446544086 \n",
      "\n",
      "Lscc_93-3p \n",
      "q1: 2.6989 \tq3: 4.1227 \n",
      "\n",
      "En_93-3p \n",
      "q1: 5.325 \tq3: 6.23 \n",
      "\n",
      "Colon_93-3p \n",
      "q1: 4.0696 \tq3: 4.9313 \n",
      "\n",
      "Gbm_93-5p \n",
      "q1: 3713.764878292884 \tq3: 6616.05961417926 \n",
      "\n",
      "Hnscc_93-5p \n",
      "q1: 11.4417874257584 \tq3: 12.319477377839402 \n",
      "\n",
      "Lscc_93-5p \n",
      "q1: 12.1553 \tq3: 13.1487 \n",
      "\n",
      "En_93-5p \n",
      "q1: 11.77 \tq3: 12.75 \n",
      "\n",
      "Colon_93-5p \n",
      "q1: 10.8829 \tq3: 11.7317 \n",
      "\n"
     ]
    }
   ],
   "source": [
    "cancer_objects = {'Gbm':g, 'Hnscc':h, 'Lscc':ls, 'En': en, 'Colon':col} # miRNA not in Brca and Ov # Luad different labels\n",
    "\n",
    "miRNA_list = ['hsa-miR-25-3p', 'hsa-miR-25-5p', 'hsa-miR-93-3p', 'hsa-miR-93-5p']\n",
    "\n",
    "mirna_dfs = {}\n",
    "quartiles = {}\n",
    "results = {}\n",
    "all_pval_df = pd.DataFrame()\n",
    "all_results = pd.DataFrame()\n",
    "\n",
    "for mirna in miRNA_list:\n",
    "    all_pval_df = pd.DataFrame()\n",
    "    for cancer in cancer_objects:\n",
    "        df = cancer_objects[cancer].get_miRNA(tissue_type = 'tumor')\n",
    "        if isinstance(df.keys(), pd.core.indexes.multi.MultiIndex):\n",
    "            df = u.reduce_multiindex(df, levels_to_drop = 1)\n",
    "        \n",
    "        # check if miRNA is in dataframe\n",
    "        if df[df.columns[df.columns.isin([mirna])]].empty == False: \n",
    "            mirna_df = df[[mirna]]\n",
    "        else:\n",
    "            continue\n",
    "\n",
    "        # Find the median, quartile 1 (median of lower half) and q3 (median of upper half)\n",
    "        median = float(mirna_df.median())\n",
    "        sd = float(mirna_df.std()) # (median + sd) - (med - sd) = 68.2 ???\n",
    "        #q1 = median - sd\n",
    "        #q3 = median + sd\n",
    "        #q1 = np.nanpercentile(mirna_df, 25, interpolation = 'nearest') \n",
    "        #q3 = np.nanpercentile(mirna_df, 75, interpolation = 'nearest') \n",
    "        lower = mirna_df.loc[mirna_df[mirna] <= median]\n",
    "        higher = mirna_df.loc[mirna_df[mirna] >= median]\n",
    "        q3 = float(higher.median())\n",
    "        q1 = float(lower.median())\n",
    "        quartiles[cancer+'_'+mirna[8:]] = (q1,q3)\n",
    "        print(cancer+'_'+mirna[8:], '\\nq1:', q1, '\\tq3:', q3, '\\n')\n",
    "\n",
    "        # add miRNA_status column\n",
    "        mirna_df['miRNA_status'] = mirna_df.apply(status, args=(q1,q3), axis = 1)\n",
    "        mirna_dfs[cancer+'_'+mirna[8:]] = mirna_df\n",
    "\n",
    "        # Get pten proteomics for tumors\n",
    "        prot = cancer_objects[cancer].get_proteomics(tissue_type='tumor')\n",
    "        if isinstance(prot.keys(), pd.core.indexes.multi.MultiIndex):\n",
    "            prot = u.reduce_multiindex(prot, levels_to_drop = 1)\n",
    "        pten = prot[['PTEN']]\n",
    "\n",
    "        # keep miRNA_status and PTEN_proteomics\n",
    "        both = pten.join(mirna_df[['miRNA_status']])\n",
    "        high_low = both.loc[both['miRNA_status'] != 'med'].dropna()\n",
    "        dfs[cancer+'_'+mirna] = high_low\n",
    "        \n",
    "        # Get all pvals\n",
    "        cols = ['PTEN_proteomics']\n",
    "        pval = u.wrap_ttest(high_low, 'miRNA_status', return_all = True, correction_method = 'fdr_bh', mincount = 3)\n",
    "        pval = pval.rename(columns = {'P_Value': cancer+'_P_Value'})\n",
    "        \n",
    "        # Get expression differential\n",
    "        high = high_low[high_low.miRNA_status == \"high\"]\n",
    "        low = high_low[high_low.miRNA_status == \"low\"]\n",
    "        high_med = high.median()\n",
    "        low_med = low.median()\n",
    "        dif = float(high_med) - float(low_med)\n",
    "        med_df = pd.DataFrame(data={cancer+'_Medians': [dif]})\n",
    "        \n",
    "        # join dfs\n",
    "        all_pval_df = all_pval_df.join(pval[[cancer+'_P_Value']], how ='right')\n",
    "        all_pval_df = all_pval_df.join(med_df, how ='inner')\n",
    "    all_pval_df['miRNA'] = mirna\n",
    "    all_results = all_results.append(all_pval_df)\n",
    "all_results = all_results.set_index('miRNA')"
   ]
  },
  {
   "cell_type": "code",
   "execution_count": 365,
   "metadata": {},
   "outputs": [],
   "source": [
    "# Keep only sig pvals\n",
    "sig = all_results[all_results.columns[::2]].where(all_results < 0.05, np.nan)\n",
    "sig = sig.replace(np.NaN, 'ns')"
   ]
  },
  {
   "cell_type": "code",
   "execution_count": 195,
   "metadata": {},
   "outputs": [],
   "source": [
    "# Checks"
   ]
  },
  {
   "cell_type": "code",
   "execution_count": 322,
   "metadata": {},
   "outputs": [],
   "source": [
    "name = 'Lscc_25-5p'"
   ]
  },
  {
   "cell_type": "code",
   "execution_count": 323,
   "metadata": {},
   "outputs": [
    {
     "data": {
      "text/plain": [
       "(3.0574, 4.806)"
      ]
     },
     "execution_count": 323,
     "metadata": {},
     "output_type": "execute_result"
    }
   ],
   "source": [
    "q = quartiles[name]\n",
    "q"
   ]
  },
  {
   "cell_type": "code",
   "execution_count": 324,
   "metadata": {},
   "outputs": [
    {
     "name": "stdout",
     "output_type": "stream",
     "text": [
      "total vals: 58\n"
     ]
    },
    {
     "data": {
      "text/plain": [
       "med     28\n",
       "high    15\n",
       "low     15\n",
       "Name: miRNA_status, dtype: int64"
      ]
     },
     "execution_count": 324,
     "metadata": {},
     "output_type": "execute_result"
    }
   ],
   "source": [
    "plot_df = mirna_dfs[name]\n",
    "plot_df = plot_df.dropna(how = 'any')\n",
    "#test = plot_df.loc[plot_df[plot_df.columns[0]] <= q[0]] #q1\n",
    "test = plot_df.loc[plot_df[plot_df.columns[0]] >= q[1]] #q3\n",
    "\n",
    "print('total vals:', len(plot_df))\n",
    "plot_df['miRNA_status'].value_counts()"
   ]
  },
  {
   "cell_type": "code",
   "execution_count": 325,
   "metadata": {},
   "outputs": [
    {
     "data": {
      "text/plain": [
       "array([[<matplotlib.axes._subplots.AxesSubplot object at 0x0000026448A59CC0>]],\n",
       "      dtype=object)"
      ]
     },
     "execution_count": 325,
     "metadata": {},
     "output_type": "execute_result"
    },
    {
     "data": {
      "image/png": "[encoded data removed]",
      "text/plain": [
       "<Figure size 216x576 with 1 Axes>"
      ]
     },
     "metadata": {},
     "output_type": "display_data"
    }
   ],
   "source": [
    "plot_df.hist(bins=20)"
   ]
  },
  {
   "cell_type": "markdown",
   "metadata": {},
   "source": [
    "# Create boxplot of sig results"
   ]
  },
  {
   "cell_type": "code",
   "execution_count": 329,
   "metadata": {},
   "outputs": [
    {
     "data": {
      "text/html": [
       "<div>\n",
       "<style scoped>\n",
       "    .dataframe tbody tr th:only-of-type {\n",
       "        vertical-align: middle;\n",
       "    }\n",
       "\n",
       "    .dataframe tbody tr th {\n",
       "        vertical-align: top;\n",
       "    }\n",
       "\n",
       "    .dataframe thead th {\n",
       "        text-align: right;\n",
       "    }\n",
       "</style>\n",
       "<table border=\"1\" class=\"dataframe\">\n",
       "  <thead>\n",
       "    <tr style=\"text-align: right;\">\n",
       "      <th></th>\n",
       "      <th>Gbm_P_Value</th>\n",
       "      <th>Hnscc_P_Value</th>\n",
       "      <th>Lscc_P_Value</th>\n",
       "      <th>En_P_Value</th>\n",
       "      <th>Colon_P_Value</th>\n",
       "    </tr>\n",
       "    <tr>\n",
       "      <th>miRNA</th>\n",
       "      <th></th>\n",
       "      <th></th>\n",
       "      <th></th>\n",
       "      <th></th>\n",
       "      <th></th>\n",
       "    </tr>\n",
       "  </thead>\n",
       "  <tbody>\n",
       "    <tr>\n",
       "      <th>hsa-miR-25-3p</th>\n",
       "      <td>0.058714</td>\n",
       "      <td>0.303573</td>\n",
       "      <td>0.046033</td>\n",
       "      <td>0.274937</td>\n",
       "      <td>0.448580</td>\n",
       "    </tr>\n",
       "    <tr>\n",
       "      <th>hsa-miR-25-5p</th>\n",
       "      <td>0.216430</td>\n",
       "      <td>0.114466</td>\n",
       "      <td>0.121993</td>\n",
       "      <td>0.150045</td>\n",
       "      <td>0.823558</td>\n",
       "    </tr>\n",
       "    <tr>\n",
       "      <th>hsa-miR-93-3p</th>\n",
       "      <td>0.063319</td>\n",
       "      <td>0.131183</td>\n",
       "      <td>0.235952</td>\n",
       "      <td>0.083157</td>\n",
       "      <td>0.974369</td>\n",
       "    </tr>\n",
       "    <tr>\n",
       "      <th>hsa-miR-93-5p</th>\n",
       "      <td>0.048377</td>\n",
       "      <td>0.043736</td>\n",
       "      <td>0.000011</td>\n",
       "      <td>0.003371</td>\n",
       "      <td>0.310414</td>\n",
       "    </tr>\n",
       "  </tbody>\n",
       "</table>\n",
       "</div>"
      ],
      "text/plain": [
       "               Gbm_P_Value  Hnscc_P_Value  Lscc_P_Value  En_P_Value  \\\n",
       "miRNA                                                                 \n",
       "hsa-miR-25-3p     0.058714       0.303573      0.046033    0.274937   \n",
       "hsa-miR-25-5p     0.216430       0.114466      0.121993    0.150045   \n",
       "hsa-miR-93-3p     0.063319       0.131183      0.235952    0.083157   \n",
       "hsa-miR-93-5p     0.048377       0.043736      0.000011    0.003371   \n",
       "\n",
       "               Colon_P_Value  \n",
       "miRNA                         \n",
       "hsa-miR-25-3p       0.448580  \n",
       "hsa-miR-25-5p       0.823558  \n",
       "hsa-miR-93-3p       0.974369  \n",
       "hsa-miR-93-5p       0.310414  "
      ]
     },
     "execution_count": 329,
     "metadata": {},
     "output_type": "execute_result"
    }
   ],
   "source": [
    "all_results.loc[:,::2]"
   ]
  },
  {
   "cell_type": "code",
   "execution_count": 364,
   "metadata": {},
   "outputs": [
    {
     "data": {
      "text/html": [
       "<div>\n",
       "<style scoped>\n",
       "    .dataframe tbody tr th:only-of-type {\n",
       "        vertical-align: middle;\n",
       "    }\n",
       "\n",
       "    .dataframe tbody tr th {\n",
       "        vertical-align: top;\n",
       "    }\n",
       "\n",
       "    .dataframe thead th {\n",
       "        text-align: right;\n",
       "    }\n",
       "</style>\n",
       "<table border=\"1\" class=\"dataframe\">\n",
       "  <thead>\n",
       "    <tr style=\"text-align: right;\">\n",
       "      <th></th>\n",
       "      <th>Gbm_P_Value</th>\n",
       "      <th>Hnscc_P_Value</th>\n",
       "      <th>Lscc_P_Value</th>\n",
       "      <th>En_P_Value</th>\n",
       "      <th>Colon_P_Value</th>\n",
       "    </tr>\n",
       "    <tr>\n",
       "      <th>miRNA</th>\n",
       "      <th></th>\n",
       "      <th></th>\n",
       "      <th></th>\n",
       "      <th></th>\n",
       "      <th></th>\n",
       "    </tr>\n",
       "  </thead>\n",
       "  <tbody>\n",
       "    <tr>\n",
       "      <th>hsa-miR-25-3p</th>\n",
       "      <td>ns</td>\n",
       "      <td>ns</td>\n",
       "      <td>0.046033</td>\n",
       "      <td>ns</td>\n",
       "      <td>ns</td>\n",
       "    </tr>\n",
       "    <tr>\n",
       "      <th>hsa-miR-25-5p</th>\n",
       "      <td>ns</td>\n",
       "      <td>ns</td>\n",
       "      <td>ns</td>\n",
       "      <td>ns</td>\n",
       "      <td>ns</td>\n",
       "    </tr>\n",
       "    <tr>\n",
       "      <th>hsa-miR-93-3p</th>\n",
       "      <td>ns</td>\n",
       "      <td>ns</td>\n",
       "      <td>ns</td>\n",
       "      <td>ns</td>\n",
       "      <td>ns</td>\n",
       "    </tr>\n",
       "    <tr>\n",
       "      <th>hsa-miR-93-5p</th>\n",
       "      <td>0.0483771</td>\n",
       "      <td>0.0437359</td>\n",
       "      <td>1.06045e-05</td>\n",
       "      <td>0.00337098</td>\n",
       "      <td>ns</td>\n",
       "    </tr>\n",
       "  </tbody>\n",
       "</table>\n",
       "</div>"
      ],
      "text/plain": [
       "              Gbm_P_Value Hnscc_P_Value Lscc_P_Value  En_P_Value Colon_P_Value\n",
       "miRNA                                                                         \n",
       "hsa-miR-25-3p          ns            ns     0.046033          ns            ns\n",
       "hsa-miR-25-5p          ns            ns           ns          ns            ns\n",
       "hsa-miR-93-3p          ns            ns           ns          ns            ns\n",
       "hsa-miR-93-5p   0.0483771     0.0437359  1.06045e-05  0.00337098            ns"
      ]
     },
     "execution_count": 364,
     "metadata": {},
     "output_type": "execute_result"
    }
   ],
   "source": [
    "sig"
   ]
  },
  {
   "cell_type": "code",
   "execution_count": 366,
   "metadata": {},
   "outputs": [
    {
     "data": {
      "text/html": [
       "<div>\n",
       "<style scoped>\n",
       "    .dataframe tbody tr th:only-of-type {\n",
       "        vertical-align: middle;\n",
       "    }\n",
       "\n",
       "    .dataframe tbody tr th {\n",
       "        vertical-align: top;\n",
       "    }\n",
       "\n",
       "    .dataframe thead th {\n",
       "        text-align: right;\n",
       "    }\n",
       "</style>\n",
       "<table border=\"1\" class=\"dataframe\">\n",
       "  <thead>\n",
       "    <tr style=\"text-align: right;\">\n",
       "      <th></th>\n",
       "      <th>Gbm_P_Value</th>\n",
       "      <th>Hnscc_P_Value</th>\n",
       "      <th>Lscc_P_Value</th>\n",
       "      <th>En_P_Value</th>\n",
       "      <th>Colon_P_Value</th>\n",
       "    </tr>\n",
       "    <tr>\n",
       "      <th>miRNA</th>\n",
       "      <th></th>\n",
       "      <th></th>\n",
       "      <th></th>\n",
       "      <th></th>\n",
       "      <th></th>\n",
       "    </tr>\n",
       "  </thead>\n",
       "  <tbody>\n",
       "    <tr>\n",
       "      <th>hsa-miR-93-5p</th>\n",
       "      <td>0.0483771</td>\n",
       "      <td>0.0437359</td>\n",
       "      <td>1.06045e-05</td>\n",
       "      <td>0.00337098</td>\n",
       "      <td>ns</td>\n",
       "    </tr>\n",
       "  </tbody>\n",
       "</table>\n",
       "</div>"
      ],
      "text/plain": [
       "              Gbm_P_Value Hnscc_P_Value Lscc_P_Value  En_P_Value Colon_P_Value\n",
       "miRNA                                                                         \n",
       "hsa-miR-93-5p   0.0483771     0.0437359  1.06045e-05  0.00337098            ns"
      ]
     },
     "execution_count": 366,
     "metadata": {},
     "output_type": "execute_result"
    }
   ],
   "source": [
    "# Choose an miRNA\n",
    "mirna_25_3p = 'hsa-miR-25-3p'\n",
    "mirna_25_5p = 'hsa-miR-25-5p'\n",
    "mirna_93_3p = 'hsa-miR-93-3p'\n",
    "mirna_93_5p = 'hsa-miR-93-5p'\n",
    "\n",
    "mirna = mirna_93_5p # replace with miRNA you want to look at\n",
    "mirna_sig = sig.loc[[mirna] ,:]\n",
    "mirna_sig"
   ]
  },
  {
   "cell_type": "code",
   "execution_count": 367,
   "metadata": {},
   "outputs": [
    {
     "data": {
      "text/html": [
       "<div>\n",
       "<style scoped>\n",
       "    .dataframe tbody tr th:only-of-type {\n",
       "        vertical-align: middle;\n",
       "    }\n",
       "\n",
       "    .dataframe tbody tr th {\n",
       "        vertical-align: top;\n",
       "    }\n",
       "\n",
       "    .dataframe thead th {\n",
       "        text-align: right;\n",
       "    }\n",
       "</style>\n",
       "<table border=\"1\" class=\"dataframe\">\n",
       "  <thead>\n",
       "    <tr style=\"text-align: right;\">\n",
       "      <th>Name</th>\n",
       "      <th>PTEN</th>\n",
       "      <th>miRNA_status</th>\n",
       "      <th>cancer</th>\n",
       "    </tr>\n",
       "    <tr>\n",
       "      <th>Patient_ID</th>\n",
       "      <th></th>\n",
       "      <th></th>\n",
       "      <th></th>\n",
       "    </tr>\n",
       "  </thead>\n",
       "  <tbody>\n",
       "    <tr>\n",
       "      <th>C3L-00365</th>\n",
       "      <td>-0.265044</td>\n",
       "      <td>low</td>\n",
       "      <td>Gbm_miR-93-5p</td>\n",
       "    </tr>\n",
       "    <tr>\n",
       "      <th>C3L-00677</th>\n",
       "      <td>-0.915526</td>\n",
       "      <td>high</td>\n",
       "      <td>Gbm_miR-93-5p</td>\n",
       "    </tr>\n",
       "    <tr>\n",
       "      <th>C3L-01046</th>\n",
       "      <td>-0.341718</td>\n",
       "      <td>low</td>\n",
       "      <td>Gbm_miR-93-5p</td>\n",
       "    </tr>\n",
       "    <tr>\n",
       "      <th>C3L-01146</th>\n",
       "      <td>-0.021690</td>\n",
       "      <td>low</td>\n",
       "      <td>Gbm_miR-93-5p</td>\n",
       "    </tr>\n",
       "    <tr>\n",
       "      <th>C3L-01149</th>\n",
       "      <td>-0.853227</td>\n",
       "      <td>high</td>\n",
       "      <td>Gbm_miR-93-5p</td>\n",
       "    </tr>\n",
       "    <tr>\n",
       "      <th>...</th>\n",
       "      <td>...</td>\n",
       "      <td>...</td>\n",
       "      <td>...</td>\n",
       "    </tr>\n",
       "    <tr>\n",
       "      <th>20CO001</th>\n",
       "      <td>-1.550000</td>\n",
       "      <td>low</td>\n",
       "      <td>Colon_miR-93-5p</td>\n",
       "    </tr>\n",
       "    <tr>\n",
       "      <th>20CO004</th>\n",
       "      <td>-0.085300</td>\n",
       "      <td>high</td>\n",
       "      <td>Colon_miR-93-5p</td>\n",
       "    </tr>\n",
       "    <tr>\n",
       "      <th>21CO006</th>\n",
       "      <td>-0.109000</td>\n",
       "      <td>low</td>\n",
       "      <td>Colon_miR-93-5p</td>\n",
       "    </tr>\n",
       "    <tr>\n",
       "      <th>21CO007</th>\n",
       "      <td>-0.324000</td>\n",
       "      <td>high</td>\n",
       "      <td>Colon_miR-93-5p</td>\n",
       "    </tr>\n",
       "    <tr>\n",
       "      <th>22CO004</th>\n",
       "      <td>0.200000</td>\n",
       "      <td>high</td>\n",
       "      <td>Colon_miR-93-5p</td>\n",
       "    </tr>\n",
       "  </tbody>\n",
       "</table>\n",
       "<p>185 rows × 3 columns</p>\n",
       "</div>"
      ],
      "text/plain": [
       "Name            PTEN miRNA_status           cancer\n",
       "Patient_ID                                        \n",
       "C3L-00365  -0.265044          low    Gbm_miR-93-5p\n",
       "C3L-00677  -0.915526         high    Gbm_miR-93-5p\n",
       "C3L-01046  -0.341718          low    Gbm_miR-93-5p\n",
       "C3L-01146  -0.021690          low    Gbm_miR-93-5p\n",
       "C3L-01149  -0.853227         high    Gbm_miR-93-5p\n",
       "...              ...          ...              ...\n",
       "20CO001    -1.550000          low  Colon_miR-93-5p\n",
       "20CO004    -0.085300         high  Colon_miR-93-5p\n",
       "21CO006    -0.109000          low  Colon_miR-93-5p\n",
       "21CO007    -0.324000         high  Colon_miR-93-5p\n",
       "22CO004     0.200000         high  Colon_miR-93-5p\n",
       "\n",
       "[185 rows x 3 columns]"
      ]
     },
     "execution_count": 367,
     "metadata": {},
     "output_type": "execute_result"
    }
   ],
   "source": [
    "# Format df for boxplot\n",
    "cancer_list = ['Gbm','Hnscc','Lscc','En','Colon']\n",
    "mirna_plot_df = pd.DataFrame()\n",
    "\n",
    "for cancer in cancer_list:\n",
    "    df = dfs[cancer+'_'+mirna].assign(cancer = cancer+'_'+mirna[4:])\n",
    "    mirna_plot_df = mirna_plot_df.append(df)\n",
    "\n",
    "most_cancers_df = mirna_plot_df.loc[mirna_plot_df['cancer'] != 'Hnscc_'+mirna[4:]]\n",
    "hnscc_df = mirna_plot_df.loc[mirna_plot_df['cancer'] == 'Hnscc_'+mirna[4:]]\n",
    "most_cancers_df"
   ]
  },
  {
   "cell_type": "code",
   "execution_count": 368,
   "metadata": {},
   "outputs": [
    {
     "name": "stdout",
     "output_type": "stream",
     "text": [
      "total vals: 50\n"
     ]
    },
    {
     "data": {
      "text/plain": [
       "high    25\n",
       "low     25\n",
       "Name: miRNA_status, dtype: int64"
      ]
     },
     "execution_count": 368,
     "metadata": {},
     "output_type": "execute_result"
    }
   ],
   "source": [
    "# check\n",
    "name = 'Gbm_'+mirna[4:]\n",
    "test = most_cancers_df.loc[most_cancers_df['cancer'] == name]\n",
    "print('total vals:', len(test))\n",
    "test['miRNA_status'].value_counts()"
   ]
  },
  {
   "cell_type": "code",
   "execution_count": 369,
   "metadata": {},
   "outputs": [
    {
     "data": {
      "image/png": "[encoded data removed]",
      "text/plain": [
       "<Figure size 792x576 with 1 Axes>"
      ]
     },
     "metadata": {},
     "output_type": "display_data"
    }
   ],
   "source": [
    "# Plot \n",
    "gene = 'PTEN'\n",
    "plt.rcParams['figure.figsize']=(11,8) #size of plot\n",
    "sns.set(font_scale = 1.7)\n",
    "\n",
    "boxplot = sns.boxplot(x='cancer', y=gene, data = most_cancers_df, \n",
    "                      hue='miRNA_status', hue_order = [\"low\", \"high\"], showfliers = False)    \n",
    "boxplot.set_title('Level of miRNA significant effects on PTEN protein abundance\\n')\n",
    "boxplot = sns.stripplot(x='cancer', y=gene, data = most_cancers_df, jitter = True, \n",
    "                           color = \".3\", hue='miRNA_status', hue_order = [\"low\", \"high\"],dodge = True)\n",
    "boxplot.set(xlabel = \"\\nmiRNA Abundance \", ylabel = 'PTEN Proteomics')\n",
    "\n",
    "boxplot = f.add_subplot(gs[0, 1])\n",
    "\n",
    "# format legend\n",
    "handles, labels = boxplot.get_legend_handles_labels()\n",
    "plt.legend(handles[0:2], labels[0:2])\n",
    "\n",
    "# Get pval annotation symbols\n",
    "symbols = {}\n",
    "for c in cancer_list:\n",
    "    if isinstance(mirna_sig[c+'_P_Value'][0], float):\n",
    "        symbols[c] = \"pval = {:.3f}\".format(float(mirna_sig[c+'_P_Value']))\n",
    "    else:\n",
    "        symbols[c] = 'ns'\n",
    "\n",
    "format_pval_annotation(symbols['Gbm'], -0.2, 0.2, 1.2)  \n",
    "format_pval_annotation(symbols['Lscc']+'01', .8, 1.2, 2.5) \n",
    "format_pval_annotation(symbols['En'], 1.8, 2.2, 1)\n",
    "format_pval_annotation(symbols['Colon'], 2.8, 3.2, 1)"
   ]
  },
  {
   "cell_type": "code",
   "execution_count": 370,
   "metadata": {},
   "outputs": [
    {
     "data": {
      "image/png": "[encoded data removed]",
      "text/plain": [
       "<Figure size 216x576 with 1 Axes>"
      ]
     },
     "metadata": {},
     "output_type": "display_data"
    }
   ],
   "source": [
    "# Hnscc\n",
    "plt.rcParams['figure.figsize']=(3,8) #size of plot\n",
    "sns.set(font_scale = 1.5)\n",
    "boxplot = sns.boxplot(x='cancer', y=gene, data = hnscc_df, \n",
    "                      hue='miRNA_status', hue_order = [\"low\", \"high\"], showfliers = False)    \n",
    "#boxplot.set_title('Level of miRNA significant effects on PTEN protein abundance\\n')\n",
    "boxplot = sns.stripplot(x='cancer', y=gene, data = hnscc_df, jitter = True, \n",
    "                           color = \".3\", hue='miRNA_status', hue_order = [\"low\", \"high\"],dodge = True)\n",
    "boxplot.set(xlabel = \"\\nmiRNA Abundance \", ylabel = 'PTEN Proteomics')\n",
    "\n",
    "boxplot = f.add_subplot(gs[0, 1])\n",
    "\n",
    "# format legend\n",
    "handles, labels = boxplot.get_legend_handles_labels()\n",
    "plt.legend(handles[0:2], labels[0:2])\n",
    "\n",
    "format_pval_annotation(symbols['Hnscc'], -0.2, 0.2, 24.6) \n",
    " \n",
    "#boxplot.figure.savefig(\".png\", dpi = 300)\n",
    "\n",
    "plt.show()\n",
    "plt.clf()\n",
    "plt.close()"
   ]
  },
  {
   "cell_type": "code",
   "execution_count": null,
   "metadata": {},
   "outputs": [],
   "source": []
  },
  {
   "cell_type": "code",
   "execution_count": null,
   "metadata": {},
   "outputs": [],
   "source": []
  }
 ],
 "metadata": {
  "kernelspec": {
   "display_name": "Python 3",
   "language": "python",
   "name": "python3"
  },
  "language_info": {
   "codemirror_mode": {
    "name": "ipython",
    "version": 3
   },
   "file_extension": ".py",
   "mimetype": "text/x-python",
   "name": "python",
   "nbconvert_exporter": "python",
   "pygments_lexer": "ipython3",
   "version": "3.7.3"
  }
 },
 "nbformat": 4,
 "nbformat_minor": 2
}
