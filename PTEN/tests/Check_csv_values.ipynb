{
 "cells": [
  {
   "cell_type": "code",
   "execution_count": 1,
   "metadata": {},
   "outputs": [],
   "source": [
    "import pandas as pd\n",
    "import numpy as np\n",
    "import seaborn as sns\n",
    "import matplotlib.pyplot as plt\n",
    "import scipy.stats\n",
    "import gseapy as gp\n",
    "import re\n",
    "import sys \n",
    "\n",
    "import cptac\n",
    "import cptac.utils as u\n",
    "\n",
    "import plot_utils as pu"
   ]
  },
  {
   "cell_type": "code",
   "execution_count": 4,
   "metadata": {},
   "outputs": [],
   "source": [
    "root = R'~\\Github\\WhenMutationsDontMatter\\PTEN\\Step_3_trans_effect\\csv'\n",
    "all_df = pd.read_csv(root+R'\\all_pval_all_proteins.csv')"
   ]
  },
  {
   "cell_type": "code",
   "execution_count": 8,
   "metadata": {},
   "outputs": [
    {
     "data": {
      "text/html": [
       "<div>\n",
       "<style scoped>\n",
       "    .dataframe tbody tr th:only-of-type {\n",
       "        vertical-align: middle;\n",
       "    }\n",
       "\n",
       "    .dataframe tbody tr th {\n",
       "        vertical-align: top;\n",
       "    }\n",
       "\n",
       "    .dataframe thead th {\n",
       "        text-align: right;\n",
       "    }\n",
       "</style>\n",
       "<table border=\"1\" class=\"dataframe\">\n",
       "  <thead>\n",
       "    <tr style=\"text-align: right;\">\n",
       "      <th></th>\n",
       "      <th>Proteomics</th>\n",
       "      <th>Gbm_P_Value</th>\n",
       "      <th>Gbm_Median</th>\n",
       "      <th>Hnscc_P_Value</th>\n",
       "      <th>Hnscc_Median</th>\n",
       "      <th>Luad_P_Value</th>\n",
       "      <th>Luad_Median</th>\n",
       "      <th>Lscc_P_Value</th>\n",
       "      <th>Lscc_Median</th>\n",
       "      <th>Brca_P_Value</th>\n",
       "      <th>Brca_Median</th>\n",
       "      <th>Ov_P_Value</th>\n",
       "      <th>Ov_Median</th>\n",
       "      <th>En_P_Value</th>\n",
       "      <th>En_Median</th>\n",
       "      <th>Colon_P_Value</th>\n",
       "      <th>Colon_Median</th>\n",
       "    </tr>\n",
       "  </thead>\n",
       "  <tbody>\n",
       "    <tr>\n",
       "      <th>200</th>\n",
       "      <td>MCM2</td>\n",
       "      <td>0.000041</td>\n",
       "      <td>0.939513</td>\n",
       "      <td>0.001052</td>\n",
       "      <td>0.470941</td>\n",
       "      <td>0.186316</td>\n",
       "      <td>1.26640</td>\n",
       "      <td>0.000093</td>\n",
       "      <td>0.95425</td>\n",
       "      <td>0.102364</td>\n",
       "      <td>0.43635</td>\n",
       "      <td>0.367905</td>\n",
       "      <td>-0.023866</td>\n",
       "      <td>0.007643</td>\n",
       "      <td>-0.611</td>\n",
       "      <td>0.856169</td>\n",
       "      <td>-0.08845</td>\n",
       "    </tr>\n",
       "    <tr>\n",
       "      <th>646</th>\n",
       "      <td>RFC2</td>\n",
       "      <td>0.000580</td>\n",
       "      <td>0.378254</td>\n",
       "      <td>0.000632</td>\n",
       "      <td>0.371434</td>\n",
       "      <td>0.317144</td>\n",
       "      <td>0.28945</td>\n",
       "      <td>0.000013</td>\n",
       "      <td>1.07950</td>\n",
       "      <td>0.548167</td>\n",
       "      <td>0.18555</td>\n",
       "      <td>0.381046</td>\n",
       "      <td>-0.126691</td>\n",
       "      <td>0.000651</td>\n",
       "      <td>-0.372</td>\n",
       "      <td>0.219967</td>\n",
       "      <td>-0.08025</td>\n",
       "    </tr>\n",
       "  </tbody>\n",
       "</table>\n",
       "</div>"
      ],
      "text/plain": [
       "    Proteomics  Gbm_P_Value  Gbm_Median  Hnscc_P_Value  Hnscc_Median  \\\n",
       "200       MCM2     0.000041    0.939513       0.001052      0.470941   \n",
       "646       RFC2     0.000580    0.378254       0.000632      0.371434   \n",
       "\n",
       "     Luad_P_Value  Luad_Median  Lscc_P_Value  Lscc_Median  Brca_P_Value  \\\n",
       "200      0.186316      1.26640      0.000093      0.95425      0.102364   \n",
       "646      0.317144      0.28945      0.000013      1.07950      0.548167   \n",
       "\n",
       "     Brca_Median  Ov_P_Value  Ov_Median  En_P_Value  En_Median  Colon_P_Value  \\\n",
       "200      0.43635    0.367905  -0.023866    0.007643     -0.611       0.856169   \n",
       "646      0.18555    0.381046  -0.126691    0.000651     -0.372       0.219967   \n",
       "\n",
       "     Colon_Median  \n",
       "200      -0.08845  \n",
       "646      -0.08025  "
      ]
     },
     "execution_count": 8,
     "metadata": {},
     "output_type": "execute_result"
    }
   ],
   "source": [
    "test_genes = ['MCM2','RFC2']\n",
    "b = all_df['Proteomics'].isin(test_genes)\n",
    "all_df[b]"
   ]
  },
  {
   "cell_type": "code",
   "execution_count": null,
   "metadata": {},
   "outputs": [],
   "source": []
  }
 ],
 "metadata": {
  "kernelspec": {
   "display_name": "Python 3",
   "language": "python",
   "name": "python3"
  },
  "language_info": {
   "codemirror_mode": {
    "name": "ipython",
    "version": 3
   },
   "file_extension": ".py",
   "mimetype": "text/x-python",
   "name": "python",
   "nbconvert_exporter": "python",
   "pygments_lexer": "ipython3",
   "version": "3.7.3"
  }
 },
 "nbformat": 4,
 "nbformat_minor": 2
}
