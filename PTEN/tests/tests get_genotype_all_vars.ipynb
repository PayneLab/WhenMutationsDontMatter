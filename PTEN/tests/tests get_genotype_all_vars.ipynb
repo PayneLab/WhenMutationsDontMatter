{
 "cells": [
  {
   "cell_type": "markdown",
   "metadata": {},
   "source": [
    "# Test get_genotype_all_vars"
   ]
  },
  {
   "cell_type": "code",
   "execution_count": 1,
   "metadata": {},
   "outputs": [],
   "source": [
    "import pandas as pd\n",
    "import numpy as np\n",
    "import cptac\n",
    "import cptac.utils as ut"
   ]
  },
  {
   "cell_type": "code",
   "execution_count": 2,
   "metadata": {},
   "outputs": [],
   "source": [
    "def get_genotype_all_vars(self, mutations_genes, mutations_filter=None, show_location=True, mutation_hotspot=None):\n",
    "        \"\"\"Return a dataframe that has the mutation type and wheather or not it is a multiple mutation\n",
    "        Parameters:\n",
    "        mutation_genes (str, or list or array-like of str): The gene(s) to get mutation data for.\n",
    "        mutations_filter (list, optional):  List of mutations to prioritize when filtering out multiple mutations, in order of priority.\n",
    "        show_location (bool, optional): Whether to include the Location column from the mutation dataframe. Defaults to True.\n",
    "        mutation_hotspot (optional): a list of hotspots\n",
    "        \"\"\"\n",
    "\n",
    "        #If they don't give us a filter, this is the default.\n",
    "        if mutations_filter == None:\n",
    "            if self.get_cancer_type() == \"colon\":\n",
    "                mutations_filter = [\"Deletion\", #deletion\n",
    "                                        'frameshift deletion', 'frameshift insertion', 'frameshift substitution', 'stopgain', 'stoploss', #truncation\n",
    "                                        'Missense_Mutation_hotspot',\n",
    "    \t                                'nonframeshift deletion', 'nonframeshift insertion', 'nonframeshift substitution', 'nonsynonymous SNV', #missense\n",
    "                                        'Amplification',\n",
    "                                         'Wildtype']\n",
    "\n",
    "\n",
    "            elif self.get_cancer_type() == \"hnscc\":\n",
    "                mutations_filter = [\"Deletion\", #deletion\n",
    "                                        'Frame_Shift_Del', 'Frame_Shift_Ins', 'Nonsense_Mutation', 'Nonstop_Mutation', #truncation\n",
    "                                        'Missense_Mutation_hotspot',\n",
    "    \t                                'Missense_Mutation',\n",
    "                                        'Amplification',\n",
    "                                        'In_Frame_Del', 'In_Frame_Ins', 'Splice_Site' #inframe changes\n",
    "                                        'Silent','Wildtype']\n",
    "\n",
    "            elif self.get_cancer_type() == \"gbm\":\n",
    "                mutations_filter = [\"Deletion\", #deletion\n",
    "                                        'Frame_Shift_Del', 'Frame_Shift_Ins', 'Nonsense_Mutation', 'Nonstop_Mutation', #truncation\n",
    "                                        'Missense_Mutation_hotspot',\n",
    "                                        'Missense_Mutation',\n",
    "                                        'Amplification',\n",
    "                                        'In_Frame_Del', 'In_Frame_Ins', 'Splice_Site' #inframe changes\n",
    "                                        'Silent','Wildtype']\n",
    "\n",
    "            else:\n",
    "                mutations_filter = [\"Deletion\",\n",
    "                                        'Frame_Shift_Del', 'Frame_Shift_Ins', 'Nonsense_Mutation', 'Nonstop_Mutation', #tuncation\n",
    "                                        'Missense_Mutation_hotspot',\n",
    "    \t                                'Missense_Mutation',\n",
    "                                        'Amplification',\n",
    "                                        'In_Frame_Del', 'In_Frame_Ins', 'Splice_Site'\n",
    "                                        'Silent',\n",
    "                                        'Wildtype']\n",
    "\n",
    "        if self.get_cancer_type() == 'colon':\n",
    "            truncations = ['frameshift deletion', 'frameshift insertion', 'frameshift substitution', 'stopgain', 'stoploss']\n",
    "            missenses = ['nonframeshift deletion', 'nonframeshift insertion', 'nonframeshift substitution', 'nonsynonymous SNV']\n",
    "        elif self.get_cancer_type() == 'hnscc' and self.version() == \"0.1\":\n",
    "            truncations =[\"stopgain\", \"stoploss\"]\n",
    "            missenses = [\"nonframeshift insertion\", \"nonframeshift deletion\"]\n",
    "        else:\n",
    "            truncations = ['Frame_Shift_Del', 'Frame_Shift_Ins', 'Nonsense_Mutation', 'Nonstop_Mutation', 'Splice_Site']\n",
    "            missenses = ['In_Frame_Del', 'In_Frame_Ins', 'Missense_Mutation']\n",
    "\n",
    "        if self.get_cancer_type() == \"gbm\":\n",
    "            noncodings = [\"Intron\", \"RNA\", \"3'Flank\", \"Splice_Region\", \"5'UTR\", \"5'Flank\", \"3'UTR\"]\n",
    "\n",
    "\n",
    "\n",
    "        #check that gene is in the somatic_mutation DataFrame\n",
    "        somatic_mutation = self.get_somatic_mutation()\n",
    "        if mutations_genes not in somatic_mutation[\"Gene\"].unique(): #if the gene isn't in the somacic mutations df it will still have CNV data that we want\n",
    "            def add_del_and_amp_no_somatic(row):\n",
    "                if row[mutations_genes] <= -.2:\n",
    "                    mutations = 'Deletion'\n",
    "                elif row[mutations_genes] >= .2:\n",
    "                    mutations = 'Amplification'\n",
    "                else:\n",
    "                    mutations = \"No_Mutation\" \n",
    "                    \n",
    "                return mutations\n",
    "\n",
    "\n",
    "            cnv = self.get_CNV()\n",
    "            \n",
    "            #drop the database index from ccrcc and brca\n",
    "            if isinstance(cnv.keys(), pd.core.indexes.multi.MultiIndex): ##\n",
    "                drop = ['Database_ID']\n",
    "                cnv = ut.reduce_multiindex(df=cnv, levels_to_drop=drop)\n",
    "                \n",
    "            gene_cnv = cnv[[mutations_genes]] ##\n",
    "            mutation_col = gene_cnv.apply(add_del_and_amp_no_somatic, axis=1)\n",
    "            df = gene_cnv.assign(Mutation = mutation_col)\n",
    "            return df\n",
    "\n",
    "\n",
    "        #combine the cnv and mutations dataframe\n",
    "        combined = self.join_omics_to_mutations(omics_df_name=\"CNV\", mutations_genes=mutations_genes, omics_genes=mutations_genes)\n",
    "\n",
    "\n",
    "        #drop the database index from ccrcc\n",
    "        if self.get_cancer_type() == \"ccrcc\" or self.get_cancer_type() == \"brca\":\n",
    "            cc = self.get_CNV()\n",
    "            drop = ['Database_ID']\n",
    "            combined = ut.reduce_multiindex(df=combined, levels_to_drop=drop)\n",
    "\n",
    "\n",
    "        #If there are hotspot mutations, append 'hotspot' to the mutation type so that it's prioritized correctly\n",
    "        def mark_hotspot_locations(row):\n",
    "            #iterate through each location in the current row\n",
    "            mutations = []\n",
    "            for location in row[mutations_genes+'_Location']:\n",
    "                if location in mutation_hotspot: #if it's a hotspot mutation\n",
    "                    #get the position of the location\n",
    "                    position = row[mutations_genes+'_Location'].index(location)\n",
    "                    #use that to change the correct mutation\n",
    "                    mutations.append(row[mutations_genes+\"_Mutation\"][position] + \"_hotspot\")\n",
    "                else:\n",
    "                    # get the position of the location\n",
    "                    position = row[mutations_genes+'_Location'].index(location)\n",
    "                    mutations.append(row[mutations_genes+\"_Mutation\"][position])\n",
    "            return mutations\n",
    "\n",
    "        if mutation_hotspot is not None:\n",
    "            combined['hotspot'] = combined.apply(mark_hotspot_locations, axis=1)\n",
    "            combined[mutations_genes+\"_Mutation\"] = combined['hotspot']\n",
    "            combined = combined.drop(columns='hotspot')\n",
    "\n",
    "        # Based on cnv make a new column with mutation type that includes deletions and amplifications\n",
    "        def add_del_and_amp(row):\n",
    "            if row[mutations_genes+\"_CNV\"] <= -.2:\n",
    "                mutations = row[mutations_genes+\"_Mutation\"] + ['Deletion']\n",
    "                locations = row[mutations_genes+'_Location']+['Deletion']\n",
    "\n",
    "            elif row[mutations_genes+\"_CNV\"] >= .2:\n",
    "                mutations = row[mutations_genes+\"_Mutation\"] + ['Amplification']\n",
    "                locations = row[mutations_genes+'_Location']+['Amplification']\n",
    "            else:\n",
    "                mutations = row[mutations_genes+\"_Mutation\"]\n",
    "                locations = row[mutations_genes+\"_Location\"]\n",
    "\n",
    "            return mutations, locations\n",
    "\n",
    "\n",
    "        combined['mutations'], combined['locations'] = zip(*combined.apply(add_del_and_amp, axis=1))\n",
    "\n",
    "\n",
    "        #now that we have the deletion and amplifications, we need to prioritize the correct mutations.\n",
    "        def sort(row):\n",
    "            sortedcol = []\n",
    "            location = []\n",
    "            chosen_indices = []\n",
    "            sample_mutations_list = row['mutations']\n",
    "            sample_locations_list = row['locations']\n",
    "            if len(sample_mutations_list) == 1: #if there's only one mutation in the list\n",
    "                sortedcol.append(sample_mutations_list[0])\n",
    "                location.append(sample_locations_list[0])\n",
    "\n",
    "            else:\n",
    "                for filter_val in mutations_filter: # This will start at the beginning of the filter list, thus filters earlier in the list are prioritized, like we want\n",
    "                    if filter_val in sample_mutations_list:\n",
    "                        chosen_indices = [index for index, value in enumerate(sample_mutations_list) if value == filter_val]\n",
    "                    if len(chosen_indices) > 0: # We found at least one mutation from the filter to prioritize, so we don't need to worry about later values in the filter priority list\n",
    "                        break\n",
    "\n",
    "                if len(chosen_indices) == 0: # None of the mutations for the sample were in the filter, so we're going to have to use our default hierarchy\n",
    "                    for mutation in sample_mutations_list:\n",
    "                        if mutation in truncations:\n",
    "                            chosen_indices += [index for index, value in enumerate(sample_mutations_list) if value == mutation]\n",
    "\n",
    "                if len(chosen_indices) == 0: # None of them were in the filter, nor were truncations, so we'll grab all the missenses\n",
    "                    for mutation in sample_mutations_list:\n",
    "                        if mutation in missenses:\n",
    "                            chosen_indices += [index for index, value in enumerate(sample_mutations_list) if value == mutation]\n",
    "\n",
    "                if self.get_cancer_type() == \"gbm\" and len(chosen_indices) == 0: # None of them were in the filter, nor were truncations, nor missenses, so we'll grab all the noncodings\n",
    "                    for mutation in sample_mutations_list:\n",
    "                        if mutation in noncodings:\n",
    "                            chosen_indices += [index for index, value in enumerate(sample_mutations_list) if value == mutation]\n",
    "\n",
    "                soonest_mutation = sample_mutations_list[chosen_indices[0]]\n",
    "                soonest_location = sample_locations_list[chosen_indices[0]]\n",
    "                chosen_indices.clear()\n",
    "                sortedcol.append(soonest_mutation)\n",
    "                location.append(soonest_location)\n",
    "\n",
    "            return pd.Series([sortedcol, location],index=['mutations', 'locations'])\n",
    "\n",
    "        df = combined.apply(sort, axis=1)\n",
    "        combined['Mutation'] = df['mutations']\n",
    "        combined['Location'] = df['locations']\n",
    "\n",
    "        #get a sample_status column that says if the gene has multiple mutations (including dletion and amplification)\n",
    "        def sample_status(row):\n",
    "            if len(row['mutations']) > 1: #if there's more than one mutation\n",
    "                if len(row['mutations']) == 2 and \"Wildtype_Tumor\" in row['mutations']: #one of the mutations might be a \"wildtype tumor\"\n",
    "                    status =\"Single_mutation\"\n",
    "\n",
    "                elif len(row['mutations']) == 2 and \"Wildtype_Normal\" in row['mutations']:\n",
    "                    status =\"Single_mutation\"\n",
    "\n",
    "                else:\n",
    "                    status = \"Multiple_mutation\"\n",
    "            else:\n",
    "                if row[\"mutations\"] == [\"Wildtype_Normal\"]:\n",
    "                    status = \"Wildtype_Normal\"\n",
    "                elif row['mutations'] == ['Wildtype_Tumor']:\n",
    "                    status = \"Wildtype_Tumor\"\n",
    "                else:\n",
    "                    status = \"Single_mutation\"\n",
    "\n",
    "            return status\n",
    "        combined['Mutation_Status'] = combined.apply(sample_status, axis=1)\n",
    "\n",
    "        #drop all the unnecessary Columns\n",
    "        df = combined.drop(columns=[mutations_genes+\"_CNV\", mutations_genes+\"_Mutation\", mutations_genes+\"_Location\", mutations_genes+\"_Mutation_Status\", 'Sample_Status', 'mutations','locations'])\n",
    "        df['Mutation'] = [','.join(map(str, l)) for l in df['Mutation']]\n",
    "        df['Location'] = [','.join(map(str, l)) for l in df['Location']]\n",
    "        if show_location == False: df = df.drop(columns=\"Location\") #if they don't want us to show the location, drop it\n",
    "        return df\n"
   ]
  },
  {
   "cell_type": "code",
   "execution_count": 2,
   "metadata": {},
   "outputs": [],
   "source": [
    "def print_test_result(PASS):\n",
    "    \"\"\"Prints the result of a test, based on a bool.\n",
    "    Parameters:\n",
    "    PASS (bool): Whether or not the test passed.\n",
    "    \"\"\"\n",
    "    if PASS:\n",
    "        print('\\tPASS')\n",
    "    else:\n",
    "        print('\\tFAIL\\n')\n",
    "\n",
    "def check_returned_is_df(returned):\n",
    "    \"\"\"Checks that an object is a dataframe. Prints a specific message if it's actually None, or a general message if it's something else.\n",
    "    Parameters:\n",
    "    returned: The object to test\n",
    "    Returns:\n",
    "    bool: Indicates whether the object was a dataframe.\n",
    "    \"\"\"\n",
    "    if returned is None:\n",
    "        print(\"Function under test returned None.\")\n",
    "        return False\n",
    "    \n",
    "    if not isinstance(returned, pd.core.frame.DataFrame):\n",
    "        print(\"Returned object was not a dataframe. Type of object: {}\".format(type(returned)))\n",
    "        return False\n",
    "    return True\n",
    "\n",
    "def check_df_shape(df, exp_shape):\n",
    "    \"\"\"Checks that a dataframe has the proper shape.\n",
    "    Parameters:\n",
    "    df (pandas.core.frame.DataFrame): The dataframe to test.\n",
    "    exp_shape (tuple): A tuple with two elements. First element is expected number of rows, second is expected number of columns.\n",
    "    Returns:\n",
    "    bool: Indicates whether the dataframe had the proper shape.\n",
    "    \"\"\"\n",
    "    act_shape = df.shape\n",
    "    if exp_shape != act_shape:\n",
    "        print(\"Dataframe dimensions did not match expected values.\\n\\tExpected: {}\\n\\tActual: {}\\n\".format(exp_shape, act_shape))\n",
    "        return False\n",
    "    return True\n",
    "\n",
    "def check_getter(df, exp_dim, exp_headers, coordinates, values): \n",
    "    \"\"\"Test a dataframe's dimensions and headers, and three test values, then print whether it passed the test.\n",
    "    Parameters\n",
    "    df: the dataframe gotten by the getter we are testing\n",
    "    exp_dim: a tuple containing the expected dimensions of the dataframe, in the format (rows, columns)\n",
    "    exp_headers: if the dataframe has up to 20 columns, all of the headers for the dataframe, in order. If it has more than 20 columns, then a list containing the first ten and last ten headers, in order.\n",
    "    coordinates: a tuple with three elements, each element being a tuple with two elements, the first element being the int index of the row of a test value, and the second element being the int index of the column of a test value\n",
    "    values: a tuple with three elements, each element being the expected value of the test value corresponding to the coordinates at the same index in the coordinates parameter \n",
    "    Returns\n",
    "    bool indicating if the dataframe had the correct data.\n",
    "    \"\"\"\n",
    "    PASS = True\n",
    "\n",
    "    # Check that df is a dataframe, not None or something else.\n",
    "    if not check_returned_is_df(df):\n",
    "        return False # End test, because other tests will be useless.\n",
    "\n",
    "    # Check dimensions\n",
    "    if not check_df_shape(df, exp_dim):\n",
    "        PASS = False\n",
    "\n",
    "    # Check headers\n",
    "    act_headers_all = list(df.columns.values)\n",
    "    if len(df.columns.values) <= 20:\n",
    "        act_headers = act_headers_all\n",
    "    else:\n",
    "        act_headers = act_headers_all[:10] + act_headers_all[-10:]\n",
    "\n",
    "    if len(exp_headers) != len(act_headers):\n",
    "        print(\"Unexpected number of test headers in dataframe. Expected number of headers: {}. You passed {} headers.\\n\".format(len(act_headers), len(exp_headers)))\n",
    "        PASS = False\n",
    "    else:\n",
    "        for i, header in enumerate(exp_headers):\n",
    "            if header != act_headers[i]:\n",
    "                print(\"Dataframe header did not match expected value.\\n\\tExpected: {}\\n\\tActual: {}\\n\".format(header, act_headers[i]))\n",
    "                PASS = False\n",
    "\n",
    "    # Check test values\n",
    "    act_values = [\n",
    "        df.iloc[coordinates[0][0], coordinates[0][1]],\n",
    "        df.iloc[coordinates[1][0], coordinates[1][1]],\n",
    "        df.iloc[coordinates[2][0], coordinates[2][1]]]\n",
    "\n",
    "    for i, value in enumerate(values):\n",
    "        if act_values[i] != value:\n",
    "            print(\"Dataframe value did not match expected value.\\n\\tColumn: {}\\n\\tIndex: {}\\n\\tExpected: {}\\n\\tActual: {}\\n\".format(df.columns.values[coordinates[i][1]], df.index.values[coordinates[i][0]], value, act_values[i]))\n",
    "            PASS = False\n",
    "\n",
    "    # Return whether the dataframe passed the test\n",
    "    return PASS"
   ]
  },
  {
   "cell_type": "markdown",
   "metadata": {},
   "source": [
    "# Check Vals"
   ]
  },
  {
   "cell_type": "code",
   "execution_count": 50,
   "metadata": {},
   "outputs": [
    {
     "name": "stderr",
     "output_type": "stream",
     "text": [
      "cptac warning: Due to dropping the specified levels, dataframe now has 36 duplicated column headers. (C:\\Users\\brittany henderson\\Anaconda3\\envs\\Research\\lib\\site-packages\\ipykernel_launcher.py, line 83)\n"
     ]
    },
    {
     "data": {
      "text/plain": [
       "No_Mutation      97\n",
       "Amplification    13\n",
       "Name: Mutation, dtype: int64"
      ]
     },
     "execution_count": 50,
     "metadata": {},
     "output_type": "execute_result"
    }
   ],
   "source": [
    "ca = k\n",
    "mut = get_genotype_all_vars(ca, 'KRAS')\n",
    "mut.Mutation.value_counts()"
   ]
  },
  {
   "cell_type": "code",
   "execution_count": 51,
   "metadata": {},
   "outputs": [
    {
     "data": {
      "text/html": [
       "<div>\n",
       "<style scoped>\n",
       "    .dataframe tbody tr th:only-of-type {\n",
       "        vertical-align: middle;\n",
       "    }\n",
       "\n",
       "    .dataframe tbody tr th {\n",
       "        vertical-align: top;\n",
       "    }\n",
       "\n",
       "    .dataframe thead th {\n",
       "        text-align: right;\n",
       "    }\n",
       "</style>\n",
       "<table border=\"1\" class=\"dataframe\">\n",
       "  <thead>\n",
       "    <tr style=\"text-align: right;\">\n",
       "      <th>Name</th>\n",
       "      <th>Gene</th>\n",
       "      <th>Mutation</th>\n",
       "      <th>Location</th>\n",
       "    </tr>\n",
       "    <tr>\n",
       "      <th>Patient_ID</th>\n",
       "      <th></th>\n",
       "      <th></th>\n",
       "      <th></th>\n",
       "    </tr>\n",
       "  </thead>\n",
       "  <tbody>\n",
       "  </tbody>\n",
       "</table>\n",
       "</div>"
      ],
      "text/plain": [
       "Empty DataFrame\n",
       "Columns: [Gene, Mutation, Location]\n",
       "Index: []"
      ]
     },
     "execution_count": 51,
     "metadata": {},
     "output_type": "execute_result"
    }
   ],
   "source": [
    "m = ca.get_somatic_mutation()\n",
    "mg = m.loc[m['Gene'] == 'KRAS']\n",
    "mg"
   ]
  },
  {
   "cell_type": "code",
   "execution_count": 55,
   "metadata": {},
   "outputs": [
    {
     "name": "stdout",
     "output_type": "stream",
     "text": [
      "total: 110\n",
      "DEL: 0\n",
      "AMP: 13\n"
     ]
    },
    {
     "name": "stderr",
     "output_type": "stream",
     "text": [
      "cptac warning: Due to dropping the specified levels, dataframe now has 36 duplicated column headers. (C:\\Users\\brittany henderson\\Anaconda3\\envs\\Research\\lib\\site-packages\\ipykernel_launcher.py, line 6)\n"
     ]
    },
    {
     "data": {
      "text/plain": [
       "array([], dtype='<U32')"
      ]
     },
     "execution_count": 55,
     "metadata": {},
     "output_type": "execute_result"
    }
   ],
   "source": [
    "cnv = ca.get_CNV()\n",
    "\n",
    "#drop the database index from ccrcc and brca\n",
    "if isinstance(cnv.keys(), pd.core.indexes.multi.MultiIndex): ##\n",
    "    drop = ['Database_ID']\n",
    "    cnv = ut.reduce_multiindex(df=cnv, levels_to_drop=drop)\n",
    "    \n",
    "gene = cnv[['KRAS']]\n",
    "print('total:', len(gene.index))\n",
    "\n",
    "dell = gene.loc[gene['KRAS'] < -0.2]\n",
    "amp = gene.loc[gene['KRAS'] > 0.2]\n",
    "print('DEL:', len(dell))\n",
    "print('AMP:', len(amp))\n",
    "\n",
    "np.intersect1d(list(dell.index), list(amp.index))"
   ]
  },
  {
   "cell_type": "code",
   "execution_count": 56,
   "metadata": {},
   "outputs": [
    {
     "data": {
      "text/plain": [
       "110"
      ]
     },
     "execution_count": 56,
     "metadata": {},
     "output_type": "execute_result"
    }
   ],
   "source": [
    "clin = ca.get_clinical(tissue_type = 'tumor')\n",
    "len(clin.index)"
   ]
  },
  {
   "cell_type": "markdown",
   "metadata": {},
   "source": [
    "# CCRCC"
   ]
  },
  {
   "cell_type": "code",
   "execution_count": 3,
   "metadata": {},
   "outputs": [],
   "source": [
    "def test_genotype_ccrcc_KRAS():\n",
    "    \n",
    "    # test when there is no data in the somatic mutations df\n",
    "    print('Running get_genotype_all_vars...')\n",
    "    df = k.get_genotype_all_vars('KRAS')\n",
    "    \n",
    "    dimensions = (110, 2)\n",
    "    headers = ['KRAS', 'Mutation']\n",
    "    \n",
    "    # get index (int) of patient_ID\n",
    "    index_1 = df.index.get_loc('C3L-00010') # Test No_Mutation\n",
    "    index_2 = df.index.get_loc('C3L-01560')\n",
    "    index_3 = df.index.get_loc('C3N-00646')\n",
    "    index_4 = df.index.get_loc('C3L-00800') # No del vals (test more No_Mutation) \n",
    "    index_5 = df.index.get_loc('C3L-01281')\n",
    "    index_6 = df.index.get_loc('C3N-00154') \n",
    "    index_7 = df.index.get_loc('C3N-00492') # Test Amp\n",
    "    index_8 = df.index.get_loc('C3L-01287')\n",
    "    index_9 = df.index.get_loc('C3N-00852')\n",
    "\n",
    "    # Test No_Mutation\n",
    "    test_coord_1 = ((index_1, 1), (index_2, 1), (index_3, 1)) # C3N-01515\n",
    "    test_vals_1 = ('No_Mutation', 'No_Mutation', 'No_Mutation') \n",
    "    test_coord_2 = ((index_4, 1),(index_5, 1),(index_6, 1))\n",
    "    test_vals_2 = ('No_Mutation', 'No_Mutation', 'No_Mutation')\n",
    "    # Test Amp \n",
    "    test_coord_3 = ((index_7, 1), (index_8, 1), (index_9, 1))\n",
    "    test_vals_3 = ('Amplification', 'Amplification', 'Amplification') \n",
    "\n",
    "    test_coord_vals = [(test_coord_1, test_vals_1), (test_coord_2, test_vals_2), \n",
    "                       (test_coord_3, test_vals_3)]\n",
    "\n",
    "    for coord, vals in test_coord_vals:\n",
    "        PASS = check_getter(df, dimensions, headers, coord, vals)\n",
    "    \n",
    "    print_test_result(PASS)"
   ]
  },
  {
   "cell_type": "markdown",
   "metadata": {},
   "source": [
    "# GBM"
   ]
  },
  {
   "cell_type": "code",
   "execution_count": 7,
   "metadata": {},
   "outputs": [],
   "source": [
    "def test_genotype_gbm_KRAS():\n",
    "    \n",
    "    # test when there is no data in the somatic mutations df\n",
    "    print('Running get_genotype_all_vars...')\n",
    "    df = g.get_genotype_all_vars('KRAS')\n",
    "    \n",
    "    dimensions = (98, 2)\n",
    "    headers = ['KRAS', 'Mutation']\n",
    "    \n",
    "    # get index (int) of patient_ID\n",
    "    index_1 = df.index.get_loc('C3N-03473') # Test No_Mutation\n",
    "    index_2 = df.index.get_loc('C3N-03183')\n",
    "    index_3 = df.index.get_loc('C3N-01515')\n",
    "    index_4 = df.index.get_loc('C3L-01049') # Test Del (only 2)\n",
    "    index_5 = df.index.get_loc('C3L-02708')\n",
    "    index_6 = df.index.get_loc('C3N-02256') \n",
    "    index_7 = df.index.get_loc('C3N-01816') # Test Amp\n",
    "    index_8 = df.index.get_loc('C3N-02769')\n",
    "    index_9 = df.index.get_loc('C3N-02784')\n",
    "\n",
    "    # Test No_Mutation\n",
    "    test_coord_1 = ((index_1, 1), (index_2, 1), (index_3, 1)) # C3N-01515\n",
    "    test_vals_1 = ('No_Mutation', 'No_Mutation', 'No_Mutation') \n",
    "    \n",
    "    # Test Del (only 2 del)\n",
    "    test_coord_2 = ((index_4, 1),(index_5, 1),(index_6, 1))\n",
    "    test_vals_2 = ('Deletion', 'Deletion', 'No_Mutation')\n",
    "    # Test Amp \n",
    "    test_coord_3 = ((index_7, 1), (index_8, 1), (index_9, 1))\n",
    "    test_vals_3 = ('Amplification', 'Amplification', 'Amplification') \n",
    "\n",
    "    test_coord_vals = [(test_coord_1, test_vals_1), (test_coord_2, test_vals_2), \n",
    "                       (test_coord_3, test_vals_3)]\n",
    "\n",
    "    for coord, vals in test_coord_vals:\n",
    "        PASS = check_getter(df, dimensions, headers, coord, vals)\n",
    "    \n",
    "    print_test_result(PASS)"
   ]
  },
  {
   "cell_type": "markdown",
   "metadata": {},
   "source": [
    "# HNSCC"
   ]
  },
  {
   "cell_type": "code",
   "execution_count": 8,
   "metadata": {},
   "outputs": [],
   "source": [
    "def test_genotype_hnscc_KRAS():\n",
    "    \n",
    "    # test when there is no data in the somatic mutations df\n",
    "    print('Running get_genotype_all_vars...')\n",
    "    df = h.get_genotype_all_vars('KRAS')\n",
    "    \n",
    "    dimensions = (109, 2)\n",
    "    headers = ['KRAS', 'Mutation']\n",
    "    \n",
    "    # get index (int) of patient_ID\n",
    "    index_1 = df.index.get_loc('C3L-00999') # Test No_Mutation\n",
    "    index_2 = df.index.get_loc('C3N-01946')\n",
    "    index_3 = df.index.get_loc('C3N-03487')\n",
    "    index_4 = df.index.get_loc('C3N-01337') # Test Del \n",
    "    index_5 = df.index.get_loc('C3N-03012')\n",
    "    index_6 = df.index.get_loc('C3N-03785') \n",
    "    index_7 = df.index.get_loc('C3L-04844') # Test Amp\n",
    "    index_8 = df.index.get_loc('C3L-00987')\n",
    "    index_9 = df.index.get_loc('C3N-03488')\n",
    "\n",
    "    # Test No_Mutation\n",
    "    test_coord_1 = ((index_1, 1), (index_2, 1), (index_3, 1)) # C3N-01515\n",
    "    test_vals_1 = ('No_Mutation', 'No_Mutation', 'No_Mutation') \n",
    "    \n",
    "    # Test Del \n",
    "    test_coord_2 = ((index_4, 1),(index_5, 1),(index_6, 1))\n",
    "    test_vals_2 = ('Deletion', 'Deletion', 'Deletion')\n",
    "    # Test Amp \n",
    "    test_coord_3 = ((index_7, 1), (index_8, 1), (index_9, 1))\n",
    "    test_vals_3 = ('Amplification', 'Amplification', 'Amplification') \n",
    "\n",
    "    test_coord_vals = [(test_coord_1, test_vals_1), (test_coord_2, test_vals_2), \n",
    "                       (test_coord_3, test_vals_3)]\n",
    "\n",
    "    for coord, vals in test_coord_vals:\n",
    "        PASS = check_getter(df, dimensions, headers, coord, vals)\n",
    "    \n",
    "    print_test_result(PASS)"
   ]
  },
  {
   "cell_type": "markdown",
   "metadata": {},
   "source": [
    "# All tests"
   ]
  },
  {
   "cell_type": "code",
   "execution_count": 5,
   "metadata": {},
   "outputs": [
    {
     "name": "stdout",
     "output_type": "stream",
     "text": [
      "Checking that hnscc index is up-to-date...\r"
     ]
    },
    {
     "name": "stderr",
     "output_type": "stream",
     "text": [
      "cptac warning: The GBM dataset is under publication embargo until March 01, 2021. CPTAC is a community resource project and data are made available rapidly after generation for community research use. The embargo allows exploring and utilizing the data, but analysis may not be published until after the embargo date. Please see https://proteomics.cancer.gov/data-portal/about/data-use-agreement or enter cptac.embargo() to open the webpage for more details. (C:\\Users\\brittany henderson\\Anaconda3\\envs\\Research\\lib\\site-packages\\ipykernel_launcher.py, line 1)\n"
     ]
    },
    {
     "name": "stdout",
     "output_type": "stream",
     "text": [
      "                                          \r"
     ]
    }
   ],
   "source": [
    "g = cptac.Gbm()\n",
    "h = cptac.Hnscc()\n",
    "k = cptac.Ccrcc()"
   ]
  },
  {
   "cell_type": "code",
   "execution_count": 9,
   "metadata": {},
   "outputs": [
    {
     "name": "stdout",
     "output_type": "stream",
     "text": [
      "\n",
      "Testing get_genotype_all_vars...\n",
      "Running get_genotype_all_vars...\n",
      "\tPASS\n",
      "Running get_genotype_all_vars...\n",
      "\tPASS\n",
      "Running get_genotype_all_vars...\n",
      "\tPASS\n"
     ]
    },
    {
     "name": "stderr",
     "output_type": "stream",
     "text": [
      "cptac warning: Due to dropping the specified levels, dataframe now has 36 duplicated column headers. (C:\\Users\\brittany henderson\\Anaconda3\\envs\\Research\\lib\\site-packages\\cptac\\dataset.py, line 308)\n"
     ]
    }
   ],
   "source": [
    "print(\"\\nTesting get_genotype_all_vars...\")\n",
    "test_genotype_ccrcc_KRAS()\n",
    "test_genotype_gbm_KRAS()\n",
    "test_genotype_hnscc_KRAS()"
   ]
  },
  {
   "cell_type": "code",
   "execution_count": null,
   "metadata": {},
   "outputs": [],
   "source": []
  }
 ],
 "metadata": {
  "kernelspec": {
   "display_name": "Python 3",
   "language": "python",
   "name": "python3"
  },
  "language_info": {
   "codemirror_mode": {
    "name": "ipython",
    "version": 3
   },
   "file_extension": ".py",
   "mimetype": "text/x-python",
   "name": "python",
   "nbconvert_exporter": "python",
   "pygments_lexer": "ipython3",
   "version": "3.7.3"
  }
 },
 "nbformat": 4,
 "nbformat_minor": 2
}
