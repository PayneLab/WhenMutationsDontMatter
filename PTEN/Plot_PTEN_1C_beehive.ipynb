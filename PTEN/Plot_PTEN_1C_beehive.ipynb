{
 "cells": [
  {
   "cell_type": "markdown",
   "metadata": {},
   "source": [
    "# 2 Dimensional Histograms"
   ]
  },
  {
   "cell_type": "code",
   "execution_count": 1,
   "metadata": {},
   "outputs": [],
   "source": [
    "import pandas as pd\n",
    "import numpy as np\n",
    "import seaborn as sns\n",
    "import matplotlib.pyplot as plt\n",
    "import scipy.stats\n",
    "import re\n",
    "import sys \n",
    "import statsmodels.stats.multitest\n",
    "\n",
    "import matplotlib.ticker as ticker\n",
    "\n",
    "import cptac\n",
    "import cptac.utils as u"
   ]
  },
  {
   "cell_type": "markdown",
   "metadata": {},
   "source": [
    "# Step 1: Get Data Frame and Calculate Std Dev and Mean"
   ]
  },
  {
   "cell_type": "markdown",
   "metadata": {},
   "source": [
    "Download data frame that has FDR corrected pvalues for all trans proteins. Next, calculate the total number of p values significant for each trans protein. Then calculate the mean and standard deviation of pvalues/ difference in medians across a trans gene. "
   ]
  },
  {
   "cell_type": "code",
   "execution_count": 2,
   "metadata": {},
   "outputs": [
    {
     "data": {
      "text/plain": [
       "15097"
      ]
     },
     "execution_count": 2,
     "metadata": {},
     "output_type": "execute_result"
    }
   ],
   "source": [
    "root = R'~\\Github\\WhenMutationsDontMatter\\PTEN\\Step_3_trans_effect\\csv'\n",
    "df_fdr_pvals = pd.read_csv(root+R\"\\all_pval_all_proteins.csv\")\n",
    "df_fdr_pvals = df_fdr_pvals.loc[df_fdr_pvals['Proteomics'] != 'PTEN'] # Drop PTEN\n",
    "\n",
    "# Drop Kidney\n",
    "cols = []\n",
    "df_fdr_pvals = df_fdr_pvals.drop(cols)\n",
    "df_fdr_pvals\n",
    "len(df_fdr_pvals)\n"
   ]
  },
  {
   "cell_type": "code",
   "execution_count": 3,
   "metadata": {},
   "outputs": [],
   "source": [
    "\n",
    "def Pvalue_sig(row):\n",
    "    numSig = 0\n",
    "\n",
    "    for item in row:\n",
    "        if pd.isnull(item):\n",
    "            continue\n",
    "        if item < 0.05: # changed from .1????\n",
    "            numSig += 1\n",
    "            \n",
    "    return numSig"
   ]
  },
  {
   "cell_type": "code",
   "execution_count": null,
   "metadata": {},
   "outputs": [],
   "source": []
  },
  {
   "cell_type": "code",
   "execution_count": 4,
   "metadata": {},
   "outputs": [],
   "source": [
    "#Only include genes that have data for at least 6/8 genes.\n",
    "df_fdr_pvals = df_fdr_pvals.dropna(thresh=12, axis=0)"
   ]
  },
  {
   "cell_type": "code",
   "execution_count": 5,
   "metadata": {},
   "outputs": [
    {
     "data": {
      "text/html": [
       "<div>\n",
       "<style scoped>\n",
       "    .dataframe tbody tr th:only-of-type {\n",
       "        vertical-align: middle;\n",
       "    }\n",
       "\n",
       "    .dataframe tbody tr th {\n",
       "        vertical-align: top;\n",
       "    }\n",
       "\n",
       "    .dataframe thead th {\n",
       "        text-align: right;\n",
       "    }\n",
       "</style>\n",
       "<table border=\"1\" class=\"dataframe\">\n",
       "  <thead>\n",
       "    <tr style=\"text-align: right;\">\n",
       "      <th></th>\n",
       "      <th>Proteomics</th>\n",
       "      <th>Gbm_P_Value</th>\n",
       "      <th>Gbm_Median</th>\n",
       "      <th>Hnscc_P_Value</th>\n",
       "      <th>Hnscc_Median</th>\n",
       "      <th>Luad_P_Value</th>\n",
       "      <th>Luad_Median</th>\n",
       "      <th>Lscc_P_Value</th>\n",
       "      <th>Lscc_Median</th>\n",
       "      <th>Brca_P_Value</th>\n",
       "      <th>Brca_Median</th>\n",
       "      <th>Ov_P_Value</th>\n",
       "      <th>Ov_Median</th>\n",
       "      <th>En_P_Value</th>\n",
       "      <th>En_Median</th>\n",
       "      <th>Colon_P_Value</th>\n",
       "      <th>Colon_Median</th>\n",
       "      <th>Num_sig</th>\n",
       "    </tr>\n",
       "  </thead>\n",
       "  <tbody>\n",
       "    <tr>\n",
       "      <th>1132</th>\n",
       "      <td>RIF1</td>\n",
       "      <td>0.021298</td>\n",
       "      <td>0.360544</td>\n",
       "      <td>0.038812</td>\n",
       "      <td>0.468772</td>\n",
       "      <td>0.999320</td>\n",
       "      <td>0.23970</td>\n",
       "      <td>0.999848</td>\n",
       "      <td>0.13570</td>\n",
       "      <td>0.723699</td>\n",
       "      <td>0.28535</td>\n",
       "      <td>0.985704</td>\n",
       "      <td>0.117336</td>\n",
       "      <td>0.001590</td>\n",
       "      <td>-0.54640</td>\n",
       "      <td>0.953484</td>\n",
       "      <td>-0.1135</td>\n",
       "      <td>3</td>\n",
       "    </tr>\n",
       "    <tr>\n",
       "      <th>271</th>\n",
       "      <td>SLK</td>\n",
       "      <td>0.003506</td>\n",
       "      <td>-0.305757</td>\n",
       "      <td>0.005300</td>\n",
       "      <td>-0.443020</td>\n",
       "      <td>0.043043</td>\n",
       "      <td>-0.52600</td>\n",
       "      <td>0.083806</td>\n",
       "      <td>-0.61615</td>\n",
       "      <td>0.375369</td>\n",
       "      <td>-0.51380</td>\n",
       "      <td>0.985704</td>\n",
       "      <td>-0.122267</td>\n",
       "      <td>0.074890</td>\n",
       "      <td>0.40530</td>\n",
       "      <td>0.624087</td>\n",
       "      <td>-0.1814</td>\n",
       "      <td>3</td>\n",
       "    </tr>\n",
       "    <tr>\n",
       "      <th>650</th>\n",
       "      <td>NUF2</td>\n",
       "      <td>0.009780</td>\n",
       "      <td>0.999942</td>\n",
       "      <td>0.023883</td>\n",
       "      <td>0.672025</td>\n",
       "      <td>0.569117</td>\n",
       "      <td>1.69920</td>\n",
       "      <td>0.999848</td>\n",
       "      <td>0.13015</td>\n",
       "      <td>0.487632</td>\n",
       "      <td>0.42865</td>\n",
       "      <td>0.997950</td>\n",
       "      <td>-0.079618</td>\n",
       "      <td>0.034789</td>\n",
       "      <td>-0.61250</td>\n",
       "      <td>NaN</td>\n",
       "      <td>NaN</td>\n",
       "      <td>3</td>\n",
       "    </tr>\n",
       "    <tr>\n",
       "      <th>1439</th>\n",
       "      <td>TPX2</td>\n",
       "      <td>0.031690</td>\n",
       "      <td>0.640139</td>\n",
       "      <td>0.039944</td>\n",
       "      <td>0.490643</td>\n",
       "      <td>0.778198</td>\n",
       "      <td>0.18745</td>\n",
       "      <td>0.999848</td>\n",
       "      <td>-0.10280</td>\n",
       "      <td>0.462570</td>\n",
       "      <td>-0.05995</td>\n",
       "      <td>0.985704</td>\n",
       "      <td>0.216007</td>\n",
       "      <td>0.021371</td>\n",
       "      <td>-0.80000</td>\n",
       "      <td>0.963829</td>\n",
       "      <td>-0.0305</td>\n",
       "      <td>3</td>\n",
       "    </tr>\n",
       "    <tr>\n",
       "      <th>1856</th>\n",
       "      <td>PTPRC</td>\n",
       "      <td>0.048137</td>\n",
       "      <td>-0.715419</td>\n",
       "      <td>0.011761</td>\n",
       "      <td>-0.759050</td>\n",
       "      <td>0.039512</td>\n",
       "      <td>-1.23705</td>\n",
       "      <td>0.999848</td>\n",
       "      <td>0.25000</td>\n",
       "      <td>0.925261</td>\n",
       "      <td>-0.17745</td>\n",
       "      <td>0.985704</td>\n",
       "      <td>0.127666</td>\n",
       "      <td>0.556641</td>\n",
       "      <td>-0.23800</td>\n",
       "      <td>0.926083</td>\n",
       "      <td>-0.0099</td>\n",
       "      <td>3</td>\n",
       "    </tr>\n",
       "    <tr>\n",
       "      <th>...</th>\n",
       "      <td>...</td>\n",
       "      <td>...</td>\n",
       "      <td>...</td>\n",
       "      <td>...</td>\n",
       "      <td>...</td>\n",
       "      <td>...</td>\n",
       "      <td>...</td>\n",
       "      <td>...</td>\n",
       "      <td>...</td>\n",
       "      <td>...</td>\n",
       "      <td>...</td>\n",
       "      <td>...</td>\n",
       "      <td>...</td>\n",
       "      <td>...</td>\n",
       "      <td>...</td>\n",
       "      <td>...</td>\n",
       "      <td>...</td>\n",
       "      <td>...</td>\n",
       "    </tr>\n",
       "    <tr>\n",
       "      <th>5128</th>\n",
       "      <td>SLC4A1</td>\n",
       "      <td>0.302024</td>\n",
       "      <td>-0.404558</td>\n",
       "      <td>0.585275</td>\n",
       "      <td>-0.302099</td>\n",
       "      <td>0.724646</td>\n",
       "      <td>-0.39875</td>\n",
       "      <td>0.999848</td>\n",
       "      <td>0.16660</td>\n",
       "      <td>0.443309</td>\n",
       "      <td>-1.10290</td>\n",
       "      <td>0.991374</td>\n",
       "      <td>-0.597169</td>\n",
       "      <td>0.842187</td>\n",
       "      <td>0.38100</td>\n",
       "      <td>0.868297</td>\n",
       "      <td>0.2830</td>\n",
       "      <td>0</td>\n",
       "    </tr>\n",
       "    <tr>\n",
       "      <th>5127</th>\n",
       "      <td>SERPIND1</td>\n",
       "      <td>0.301334</td>\n",
       "      <td>-0.464742</td>\n",
       "      <td>0.316514</td>\n",
       "      <td>-0.307279</td>\n",
       "      <td>0.318870</td>\n",
       "      <td>-0.49895</td>\n",
       "      <td>0.999848</td>\n",
       "      <td>-0.05520</td>\n",
       "      <td>0.493399</td>\n",
       "      <td>-0.48955</td>\n",
       "      <td>0.985704</td>\n",
       "      <td>0.205481</td>\n",
       "      <td>0.435570</td>\n",
       "      <td>0.17900</td>\n",
       "      <td>0.987216</td>\n",
       "      <td>0.0090</td>\n",
       "      <td>0</td>\n",
       "    </tr>\n",
       "    <tr>\n",
       "      <th>5126</th>\n",
       "      <td>EMC2</td>\n",
       "      <td>0.301334</td>\n",
       "      <td>0.121113</td>\n",
       "      <td>0.348623</td>\n",
       "      <td>0.060871</td>\n",
       "      <td>0.461915</td>\n",
       "      <td>0.29065</td>\n",
       "      <td>0.999848</td>\n",
       "      <td>0.11970</td>\n",
       "      <td>0.767521</td>\n",
       "      <td>0.28710</td>\n",
       "      <td>0.985704</td>\n",
       "      <td>0.066198</td>\n",
       "      <td>0.923632</td>\n",
       "      <td>-0.00180</td>\n",
       "      <td>0.854580</td>\n",
       "      <td>-0.0946</td>\n",
       "      <td>0</td>\n",
       "    </tr>\n",
       "    <tr>\n",
       "      <th>5123</th>\n",
       "      <td>PC</td>\n",
       "      <td>0.301295</td>\n",
       "      <td>-0.301898</td>\n",
       "      <td>0.467900</td>\n",
       "      <td>0.001199</td>\n",
       "      <td>0.301530</td>\n",
       "      <td>1.43660</td>\n",
       "      <td>0.999848</td>\n",
       "      <td>-0.92235</td>\n",
       "      <td>0.897763</td>\n",
       "      <td>-0.00830</td>\n",
       "      <td>0.985704</td>\n",
       "      <td>0.218755</td>\n",
       "      <td>0.907455</td>\n",
       "      <td>0.06344</td>\n",
       "      <td>0.917530</td>\n",
       "      <td>-0.0725</td>\n",
       "      <td>0</td>\n",
       "    </tr>\n",
       "    <tr>\n",
       "      <th>13050</th>\n",
       "      <td>SULT1C2</td>\n",
       "      <td>NaN</td>\n",
       "      <td>NaN</td>\n",
       "      <td>NaN</td>\n",
       "      <td>NaN</td>\n",
       "      <td>0.700769</td>\n",
       "      <td>-0.00660</td>\n",
       "      <td>0.999848</td>\n",
       "      <td>0.88905</td>\n",
       "      <td>0.985989</td>\n",
       "      <td>-1.07940</td>\n",
       "      <td>0.985704</td>\n",
       "      <td>-0.239347</td>\n",
       "      <td>0.937895</td>\n",
       "      <td>-0.08200</td>\n",
       "      <td>NaN</td>\n",
       "      <td>0.2285</td>\n",
       "      <td>0</td>\n",
       "    </tr>\n",
       "  </tbody>\n",
       "</table>\n",
       "<p>9127 rows × 18 columns</p>\n",
       "</div>"
      ],
      "text/plain": [
       "      Proteomics  Gbm_P_Value  Gbm_Median  Hnscc_P_Value  Hnscc_Median  \\\n",
       "1132        RIF1     0.021298    0.360544       0.038812      0.468772   \n",
       "271          SLK     0.003506   -0.305757       0.005300     -0.443020   \n",
       "650         NUF2     0.009780    0.999942       0.023883      0.672025   \n",
       "1439        TPX2     0.031690    0.640139       0.039944      0.490643   \n",
       "1856       PTPRC     0.048137   -0.715419       0.011761     -0.759050   \n",
       "...          ...          ...         ...            ...           ...   \n",
       "5128      SLC4A1     0.302024   -0.404558       0.585275     -0.302099   \n",
       "5127    SERPIND1     0.301334   -0.464742       0.316514     -0.307279   \n",
       "5126        EMC2     0.301334    0.121113       0.348623      0.060871   \n",
       "5123          PC     0.301295   -0.301898       0.467900      0.001199   \n",
       "13050    SULT1C2          NaN         NaN            NaN           NaN   \n",
       "\n",
       "       Luad_P_Value  Luad_Median  Lscc_P_Value  Lscc_Median  Brca_P_Value  \\\n",
       "1132       0.999320      0.23970      0.999848      0.13570      0.723699   \n",
       "271        0.043043     -0.52600      0.083806     -0.61615      0.375369   \n",
       "650        0.569117      1.69920      0.999848      0.13015      0.487632   \n",
       "1439       0.778198      0.18745      0.999848     -0.10280      0.462570   \n",
       "1856       0.039512     -1.23705      0.999848      0.25000      0.925261   \n",
       "...             ...          ...           ...          ...           ...   \n",
       "5128       0.724646     -0.39875      0.999848      0.16660      0.443309   \n",
       "5127       0.318870     -0.49895      0.999848     -0.05520      0.493399   \n",
       "5126       0.461915      0.29065      0.999848      0.11970      0.767521   \n",
       "5123       0.301530      1.43660      0.999848     -0.92235      0.897763   \n",
       "13050      0.700769     -0.00660      0.999848      0.88905      0.985989   \n",
       "\n",
       "       Brca_Median  Ov_P_Value  Ov_Median  En_P_Value  En_Median  \\\n",
       "1132       0.28535    0.985704   0.117336    0.001590   -0.54640   \n",
       "271       -0.51380    0.985704  -0.122267    0.074890    0.40530   \n",
       "650        0.42865    0.997950  -0.079618    0.034789   -0.61250   \n",
       "1439      -0.05995    0.985704   0.216007    0.021371   -0.80000   \n",
       "1856      -0.17745    0.985704   0.127666    0.556641   -0.23800   \n",
       "...            ...         ...        ...         ...        ...   \n",
       "5128      -1.10290    0.991374  -0.597169    0.842187    0.38100   \n",
       "5127      -0.48955    0.985704   0.205481    0.435570    0.17900   \n",
       "5126       0.28710    0.985704   0.066198    0.923632   -0.00180   \n",
       "5123      -0.00830    0.985704   0.218755    0.907455    0.06344   \n",
       "13050     -1.07940    0.985704  -0.239347    0.937895   -0.08200   \n",
       "\n",
       "       Colon_P_Value  Colon_Median  Num_sig  \n",
       "1132        0.953484       -0.1135        3  \n",
       "271         0.624087       -0.1814        3  \n",
       "650              NaN           NaN        3  \n",
       "1439        0.963829       -0.0305        3  \n",
       "1856        0.926083       -0.0099        3  \n",
       "...              ...           ...      ...  \n",
       "5128        0.868297        0.2830        0  \n",
       "5127        0.987216        0.0090        0  \n",
       "5126        0.854580       -0.0946        0  \n",
       "5123        0.917530       -0.0725        0  \n",
       "13050            NaN        0.2285        0  \n",
       "\n",
       "[9127 rows x 18 columns]"
      ]
     },
     "execution_count": 5,
     "metadata": {},
     "output_type": "execute_result"
    }
   ],
   "source": [
    "df_fdr_pvals[\"Num_sig\"] = df_fdr_pvals.loc[:,[\"Gbm_P_Value\",\"Hnscc_P_Value\",\"Luad_P_Value\",\"Lscc_P_Value\", \"Brca_P_Value\",\"Ov_P_Value\",\"En_P_Value\",\"Colon_P_Value\"]].apply(Pvalue_sig, axis = 1)\n",
    "df_fdr_pvals = df_fdr_pvals.sort_values(by=['Num_sig'],ascending=False)\n",
    "df_fdr_pvals"
   ]
  },
  {
   "cell_type": "code",
   "execution_count": null,
   "metadata": {},
   "outputs": [],
   "source": []
  },
  {
   "cell_type": "code",
   "execution_count": 6,
   "metadata": {},
   "outputs": [],
   "source": [
    "#Calculate mean and standard deviation for pvalues and Pearson Correlations\n",
    "df_fdr_pvals[\"Standard_Deviation_P_value\"] = df_fdr_pvals.loc[:,[\"Gbm_P_Value\",\"Hnscc_P_Value\",\"Luad_P_Value\",\"Lscc_P_Value\", \"Brca_P_Value\",\"Ov_P_Value\",\"En_P_Value\",\"Colon_P_Value\"]].std(axis = 1)\n",
    "df_fdr_pvals[\"Mean_P_value\"] = df_fdr_pvals.loc[:,[\"Gbm_P_Value\",\"Hnscc_P_Value\",\"Luad_P_Value\",\"Lscc_P_Value\", \"Brca_P_Value\",\"Ov_P_Value\",\"En_P_Value\",\"Colon_P_Value\"]].mean(axis = 1)\n",
    "df_fdr_pvals[\"Standard_Deviation_Change_In_Medians\"] = (df_fdr_pvals.loc[:,[\"Gbm_Median\",\"Hnscc_Median\",\"Luad_Median\",\"Lscc_Median\", \"Brca_Median\",\"Ov_Median\",\"En_Median\",\"Colon_Median\"]].std(axis = 1))\n",
    "df_fdr_pvals[\"Mean_Change_In_Medians\"] = (df_fdr_pvals.loc[:,[\"Gbm_Median\",\"Hnscc_Median\",\"Luad_Median\",\"Lscc_Median\", \"Brca_Median\",\"Ov_Median\",\"En_Median\",\"Colon_Median\"]].mean(axis = 1))\n",
    "\n"
   ]
  },
  {
   "cell_type": "code",
   "execution_count": 7,
   "metadata": {},
   "outputs": [
    {
     "data": {
      "text/html": [
       "<div>\n",
       "<style scoped>\n",
       "    .dataframe tbody tr th:only-of-type {\n",
       "        vertical-align: middle;\n",
       "    }\n",
       "\n",
       "    .dataframe tbody tr th {\n",
       "        vertical-align: top;\n",
       "    }\n",
       "\n",
       "    .dataframe thead th {\n",
       "        text-align: right;\n",
       "    }\n",
       "</style>\n",
       "<table border=\"1\" class=\"dataframe\">\n",
       "  <thead>\n",
       "    <tr style=\"text-align: right;\">\n",
       "      <th></th>\n",
       "      <th>Proteomics</th>\n",
       "      <th>Gbm_P_Value</th>\n",
       "      <th>Gbm_Median</th>\n",
       "      <th>Hnscc_P_Value</th>\n",
       "      <th>Hnscc_Median</th>\n",
       "      <th>Luad_P_Value</th>\n",
       "      <th>Luad_Median</th>\n",
       "      <th>Lscc_P_Value</th>\n",
       "      <th>Lscc_Median</th>\n",
       "      <th>Brca_P_Value</th>\n",
       "      <th>...</th>\n",
       "      <th>Ov_Median</th>\n",
       "      <th>En_P_Value</th>\n",
       "      <th>En_Median</th>\n",
       "      <th>Colon_P_Value</th>\n",
       "      <th>Colon_Median</th>\n",
       "      <th>Num_sig</th>\n",
       "      <th>Standard_Deviation_P_value</th>\n",
       "      <th>Mean_P_value</th>\n",
       "      <th>Standard_Deviation_Change_In_Medians</th>\n",
       "      <th>Mean_Change_In_Medians</th>\n",
       "    </tr>\n",
       "  </thead>\n",
       "  <tbody>\n",
       "    <tr>\n",
       "      <th>198</th>\n",
       "      <td>MCM2</td>\n",
       "      <td>0.002222</td>\n",
       "      <td>0.939513</td>\n",
       "      <td>0.031644</td>\n",
       "      <td>0.470941</td>\n",
       "      <td>0.589499</td>\n",
       "      <td>1.2664</td>\n",
       "      <td>0.999848</td>\n",
       "      <td>0.01375</td>\n",
       "      <td>0.571025</td>\n",
       "      <td>...</td>\n",
       "      <td>-0.023866</td>\n",
       "      <td>0.093409</td>\n",
       "      <td>-0.611</td>\n",
       "      <td>0.987641</td>\n",
       "      <td>-0.08845</td>\n",
       "      <td>2</td>\n",
       "      <td>0.440867</td>\n",
       "      <td>0.532624</td>\n",
       "      <td>0.604549</td>\n",
       "      <td>0.300455</td>\n",
       "    </tr>\n",
       "  </tbody>\n",
       "</table>\n",
       "<p>1 rows × 22 columns</p>\n",
       "</div>"
      ],
      "text/plain": [
       "    Proteomics  Gbm_P_Value  Gbm_Median  Hnscc_P_Value  Hnscc_Median  \\\n",
       "198       MCM2     0.002222    0.939513       0.031644      0.470941   \n",
       "\n",
       "     Luad_P_Value  Luad_Median  Lscc_P_Value  Lscc_Median  Brca_P_Value  ...  \\\n",
       "198      0.589499       1.2664      0.999848      0.01375      0.571025  ...   \n",
       "\n",
       "     Ov_Median  En_P_Value  En_Median  Colon_P_Value  Colon_Median  Num_sig  \\\n",
       "198  -0.023866    0.093409     -0.611       0.987641      -0.08845        2   \n",
       "\n",
       "     Standard_Deviation_P_value  Mean_P_value  \\\n",
       "198                    0.440867      0.532624   \n",
       "\n",
       "     Standard_Deviation_Change_In_Medians  Mean_Change_In_Medians  \n",
       "198                              0.604549                0.300455  \n",
       "\n",
       "[1 rows x 22 columns]"
      ]
     },
     "execution_count": 7,
     "metadata": {},
     "output_type": "execute_result"
    }
   ],
   "source": [
    "df_fdr_pvals.loc[df_fdr_pvals['Proteomics'] == 'MCM2']"
   ]
  },
  {
   "cell_type": "code",
   "execution_count": 8,
   "metadata": {},
   "outputs": [
    {
     "data": {
      "text/plain": [
       "2333"
      ]
     },
     "execution_count": 8,
     "metadata": {},
     "output_type": "execute_result"
    }
   ],
   "source": [
    "#Keep trans genes that are significant in atleast 1 cancer. \n",
    "\n",
    "df_fdr_pvals_1 = df_fdr_pvals[df_fdr_pvals['Num_sig'].isin([1,2,3,4,5,6,7,8])]\n",
    "len(df_fdr_pvals_1.Proteomics.unique())"
   ]
  },
  {
   "cell_type": "markdown",
   "metadata": {},
   "source": [
    "# Step 2: Plot 2D Histogram"
   ]
  },
  {
   "cell_type": "code",
   "execution_count": 9,
   "metadata": {},
   "outputs": [
    {
     "data": {
      "image/png": "[encoded data removed]",
      "text/plain": [
       "<Figure size 432x432 with 3 Axes>"
      ]
     },
     "metadata": {},
     "output_type": "display_data"
    }
   ],
   "source": [
    "\n",
    "sns.set(rc={'xtick.labelsize':20,\n",
    "            'ytick.labelsize':20}, style = \"white\")\n",
    "g = (sns.jointplot(\"Mean_P_value\",\"Standard_Deviation_P_value\",data = df_fdr_pvals_1, kind=\"hex\", bins = 10)\n",
    "        .set_axis_labels(\"Mean P Value\", \"Std Dev P Value\", fontsize=20))\n",
    "#g.ax_marg_x.set_xlim(-0.1, 1)\n",
    "plt.show()\n",
    "g.savefig(\"PTEN_Fig_1C_Pvalue_sig_atleast1_cancer.png\", dpi = 300)"
   ]
  },
  {
   "cell_type": "code",
   "execution_count": 10,
   "metadata": {},
   "outputs": [
    {
     "data": {
      "image/png": "[encoded data removed]",
      "text/plain": [
       "<Figure size 432x432 with 3 Axes>"
      ]
     },
     "metadata": {},
     "output_type": "display_data"
    }
   ],
   "source": [
    "sns.set(rc={'xtick.labelsize':20,\n",
    "            'ytick.labelsize':20}, style = \"white\")\n",
    "\n",
    "g = (sns.jointplot(\"Mean_Change_In_Medians\",\"Standard_Deviation_Change_In_Medians\",data = df_fdr_pvals_1, kind=\"hex\", bins = 10)\n",
    "        .set_axis_labels(\"Mean Change in Medians\", \"Std Dev of Change in Medians\", fontsize=20))\n",
    "\n",
    "g.ax_marg_x.set_xlim(-1, 1)\n",
    "#g.ax_marg_y.set_ylim(0, 1)\n",
    "\n",
    "g.savefig(\"PTEN_Fig_1C_medians_atleast1_cancer.png\", dpi = 300)\n",
    "plt.show()"
   ]
  },
  {
   "cell_type": "markdown",
   "metadata": {},
   "source": [
    "# Filter for genes significant in at least 2 Cancers "
   ]
  },
  {
   "cell_type": "code",
   "execution_count": 14,
   "metadata": {},
   "outputs": [
    {
     "data": {
      "text/plain": [
       "326"
      ]
     },
     "execution_count": 14,
     "metadata": {},
     "output_type": "execute_result"
    }
   ],
   "source": [
    "\n",
    "df_fdr_pvals_2 = df_fdr_pvals[df_fdr_pvals['Num_sig'].isin([2,3,4,5,6,7,8])]\n",
    "len(df_fdr_pvals_2)"
   ]
  },
  {
   "cell_type": "code",
   "execution_count": 12,
   "metadata": {},
   "outputs": [
    {
     "data": {
      "image/png": "[encoded data removed]",
      "text/plain": [
       "<Figure size 432x432 with 3 Axes>"
      ]
     },
     "metadata": {},
     "output_type": "display_data"
    }
   ],
   "source": [
    "\n",
    "sns.set(rc={'xtick.labelsize':20,\n",
    "            'ytick.labelsize':20}, style = \"white\")\n",
    "g = (sns.jointplot(\"Mean_P_value\",\"Standard_Deviation_P_value\",data = df_fdr_pvals_2, kind=\"hex\", bins = 10)\n",
    "        .set_axis_labels(\"Mean P Value\", \"Std Dev P Value\", fontsize=20))\n",
    "\n",
    "plt.show()\n",
    "g.savefig(\"EGFR_Fig_1C_Pvalue_atleast2_cancers.png\", dpi = 300)"
   ]
  },
  {
   "cell_type": "code",
   "execution_count": 13,
   "metadata": {},
   "outputs": [
    {
     "ename": "ValueError",
     "evalue": "Could not interpret input 'Mean_Correlation'",
     "output_type": "error",
     "traceback": [
      "\u001b[1;31m---------------------------------------------------------------------------\u001b[0m",
      "\u001b[1;31mValueError\u001b[0m                                Traceback (most recent call last)",
      "\u001b[1;32m<ipython-input-13-3965423e21f2>\u001b[0m in \u001b[0;36m<module>\u001b[1;34m\u001b[0m\n\u001b[0;32m      2\u001b[0m             'ytick.labelsize':20}, style = \"white\")\n\u001b[0;32m      3\u001b[0m \u001b[1;33m\u001b[0m\u001b[0m\n\u001b[1;32m----> 4\u001b[1;33m g = (sns.jointplot(\"Mean_Correlation\",\"Standard_Deviation_Correlation\",data = df_fdr_pvals_2, kind=\"hex\", bins = 10)\n\u001b[0m\u001b[0;32m      5\u001b[0m         .set_axis_labels(\"Mean Correlaiton\", \"Std Dev Correlation\", fontsize=20))\n\u001b[0;32m      6\u001b[0m \u001b[1;33m\u001b[0m\u001b[0m\n",
      "\u001b[1;32m~\\Anaconda3\\envs\\Research\\lib\\site-packages\\seaborn\\axisgrid.py\u001b[0m in \u001b[0;36mjointplot\u001b[1;34m(x, y, data, kind, stat_func, color, height, ratio, space, dropna, xlim, ylim, joint_kws, marginal_kws, annot_kws, **kwargs)\u001b[0m\n\u001b[0;32m   2282\u001b[0m     grid = JointGrid(x, y, data, dropna=dropna,\n\u001b[0;32m   2283\u001b[0m                      \u001b[0mheight\u001b[0m\u001b[1;33m=\u001b[0m\u001b[0mheight\u001b[0m\u001b[1;33m,\u001b[0m \u001b[0mratio\u001b[0m\u001b[1;33m=\u001b[0m\u001b[0mratio\u001b[0m\u001b[1;33m,\u001b[0m \u001b[0mspace\u001b[0m\u001b[1;33m=\u001b[0m\u001b[0mspace\u001b[0m\u001b[1;33m,\u001b[0m\u001b[1;33m\u001b[0m\u001b[1;33m\u001b[0m\u001b[0m\n\u001b[1;32m-> 2284\u001b[1;33m                      xlim=xlim, ylim=ylim)\n\u001b[0m\u001b[0;32m   2285\u001b[0m \u001b[1;33m\u001b[0m\u001b[0m\n\u001b[0;32m   2286\u001b[0m     \u001b[1;31m# Plot the data using the grid\u001b[0m\u001b[1;33m\u001b[0m\u001b[1;33m\u001b[0m\u001b[1;33m\u001b[0m\u001b[0m\n",
      "\u001b[1;32m~\\Anaconda3\\envs\\Research\\lib\\site-packages\\seaborn\\axisgrid.py\u001b[0m in \u001b[0;36m__init__\u001b[1;34m(self, x, y, data, height, ratio, space, dropna, xlim, ylim, size)\u001b[0m\n\u001b[0;32m   1707\u001b[0m             \u001b[1;32mif\u001b[0m \u001b[0misinstance\u001b[0m\u001b[1;33m(\u001b[0m\u001b[0mvar\u001b[0m\u001b[1;33m,\u001b[0m \u001b[0mstring_types\u001b[0m\u001b[1;33m)\u001b[0m\u001b[1;33m:\u001b[0m\u001b[1;33m\u001b[0m\u001b[1;33m\u001b[0m\u001b[0m\n\u001b[0;32m   1708\u001b[0m                 \u001b[0merr\u001b[0m \u001b[1;33m=\u001b[0m \u001b[1;34m\"Could not interpret input '{}'\"\u001b[0m\u001b[1;33m.\u001b[0m\u001b[0mformat\u001b[0m\u001b[1;33m(\u001b[0m\u001b[0mvar\u001b[0m\u001b[1;33m)\u001b[0m\u001b[1;33m\u001b[0m\u001b[1;33m\u001b[0m\u001b[0m\n\u001b[1;32m-> 1709\u001b[1;33m                 \u001b[1;32mraise\u001b[0m \u001b[0mValueError\u001b[0m\u001b[1;33m(\u001b[0m\u001b[0merr\u001b[0m\u001b[1;33m)\u001b[0m\u001b[1;33m\u001b[0m\u001b[1;33m\u001b[0m\u001b[0m\n\u001b[0m\u001b[0;32m   1710\u001b[0m \u001b[1;33m\u001b[0m\u001b[0m\n\u001b[0;32m   1711\u001b[0m         \u001b[1;31m# Find the names of the variables\u001b[0m\u001b[1;33m\u001b[0m\u001b[1;33m\u001b[0m\u001b[1;33m\u001b[0m\u001b[0m\n",
      "\u001b[1;31mValueError\u001b[0m: Could not interpret input 'Mean_Correlation'"
     ]
    },
    {
     "data": {
      "image/png": "[encoded data removed]",
      "text/plain": [
       "<Figure size 432x432 with 3 Axes>"
      ]
     },
     "metadata": {},
     "output_type": "display_data"
    }
   ],
   "source": [
    "sns.set(rc={'xtick.labelsize':20,\n",
    "            'ytick.labelsize':20}, style = \"white\")\n",
    "\n",
    "g = (sns.jointplot(\"Mean_Correlation\",\"Standard_Deviation_Correlation\",data = df_fdr_pvals_2, kind=\"hex\", bins = 10)\n",
    "        .set_axis_labels(\"Mean Correlaiton\", \"Std Dev Correlation\", fontsize=20))\n",
    "\n",
    "\n",
    "g.savefig(\"EGFR_Fig_1C_Corr_atleast2_cancers.png\", dpi = 300)\n",
    "plt.show()"
   ]
  },
  {
   "cell_type": "markdown",
   "metadata": {},
   "source": [
    "# At least 3 Cancers"
   ]
  },
  {
   "cell_type": "code",
   "execution_count": null,
   "metadata": {},
   "outputs": [],
   "source": [
    "\n",
    "df_fdr_pvals_3 = df_fdr_pvals[df_fdr_pvals['Num_sig'].isin([3,4,5,6,7,8])]"
   ]
  },
  {
   "cell_type": "code",
   "execution_count": null,
   "metadata": {},
   "outputs": [],
   "source": [
    "\n",
    "sns.set(rc={'xtick.labelsize':20,\n",
    "            'ytick.labelsize':20}, style = \"white\")\n",
    "g = (sns.jointplot(\"Mean_P_value\",\"Standard_Deviation_P_value\",data = df_fdr_pvals_3, kind=\"hex\", bins = 10)\n",
    "        .set_axis_labels(\"Mean P Value\", \"Std Dev P Value\", fontsize=20))\n",
    "\n",
    "plt.show()\n",
    "g.savefig(\"EGFR_Fig_1C_Pvalue_EGFR_atleast3_cancers.png\", dpi = 300)"
   ]
  },
  {
   "cell_type": "code",
   "execution_count": null,
   "metadata": {},
   "outputs": [],
   "source": [
    "sns.set(rc={'xtick.labelsize':20,\n",
    "            'ytick.labelsize':20}, style = \"white\")\n",
    "\n",
    "g = (sns.jointplot(\"Mean_Correlation\",\"Standard_Deviation_Correlation\",data = df_fdr_pvals_3, kind=\"hex\", bins = 10)\n",
    "        .set_axis_labels(\"Mean Correlaiton\", \"Std Dev Correlation\", fontsize=20))\n",
    "\n",
    "\n",
    "g.savefig(\"EGFR_Fig_1C_Corr_EGFR_atleast3_cancers.png\", dpi = 300)\n",
    "plt.show()"
   ]
  },
  {
   "cell_type": "markdown",
   "metadata": {},
   "source": [
    "# Atleast 4"
   ]
  },
  {
   "cell_type": "code",
   "execution_count": null,
   "metadata": {},
   "outputs": [],
   "source": [
    "\n",
    "df_fdr_pvals_4 = df_fdr_pvals[df_fdr_pvals['Num_sig'].isin([4,5,6,7,8])]"
   ]
  },
  {
   "cell_type": "code",
   "execution_count": null,
   "metadata": {},
   "outputs": [],
   "source": [
    "\n",
    "sns.set(rc={'xtick.labelsize':20,\n",
    "            'ytick.labelsize':20}, style = \"white\")\n",
    "g = (sns.jointplot(\"Mean_P_value\",\"Standard_Deviation_P_value\",data = df_fdr_pvals_4, kind=\"hex\", bins = 10)\n",
    "        .set_axis_labels(\"Mean P Value\", \"Std Dev P Value\", fontsize=20))\n",
    "\n",
    "plt.show()\n",
    "g.savefig(\"EGFR_Fig_1C_Pvalue_EGFR_atleast4_cancers.png\", dpi = 300)"
   ]
  },
  {
   "cell_type": "code",
   "execution_count": null,
   "metadata": {},
   "outputs": [],
   "source": [
    "sns.set(rc={'xtick.labelsize':20,\n",
    "            'ytick.labelsize':20}, style = \"white\")\n",
    "\n",
    "g = (sns.jointplot(\"Mean_Correlation\",\"Standard_Deviation_Correlation\",data = df_fdr_pvals_4, kind=\"hex\", bins = 10)\n",
    "        .set_axis_labels(\"Mean Correlaiton\", \"Std Dev Correlation\", fontsize=20))\n",
    "\n",
    "\n",
    "g.savefig(\"EGFR_Fig_1C_Corr_atleast4_cancers.png\", dpi = 300)\n",
    "plt.show()"
   ]
  },
  {
   "cell_type": "code",
   "execution_count": null,
   "metadata": {},
   "outputs": [],
   "source": [
    "df_fdr_pvals_1"
   ]
  },
  {
   "cell_type": "code",
   "execution_count": null,
   "metadata": {},
   "outputs": [],
   "source": [
    "prot_genes_list = df_fdr_pvals_1.index.to_list()"
   ]
  },
  {
   "cell_type": "code",
   "execution_count": null,
   "metadata": {},
   "outputs": [],
   "source": [
    "def anydup(thelist):\n",
    "    seen = set()\n",
    "    for x in thelist:\n",
    "        if x in seen: return True\n",
    "        seen.add(x)\n",
    "    return False"
   ]
  },
  {
   "cell_type": "code",
   "execution_count": null,
   "metadata": {},
   "outputs": [],
   "source": [
    "anydup(prot_genes_list)"
   ]
  },
  {
   "cell_type": "code",
   "execution_count": null,
   "metadata": {},
   "outputs": [],
   "source": [
    "df_fdr_pvals_1['Num_sig'].value_counts()"
   ]
  },
  {
   "cell_type": "code",
   "execution_count": null,
   "metadata": {},
   "outputs": [],
   "source": []
  }
 ],
 "metadata": {
  "kernelspec": {
   "display_name": "Python 3",
   "language": "python",
   "name": "python3"
  },
  "language_info": {
   "codemirror_mode": {
    "name": "ipython",
    "version": 3
   },
   "file_extension": ".py",
   "mimetype": "text/x-python",
   "name": "python",
   "nbconvert_exporter": "python",
   "pygments_lexer": "ipython3",
   "version": "3.7.3"
  }
 },
 "nbformat": 4,
 "nbformat_minor": 2
}
