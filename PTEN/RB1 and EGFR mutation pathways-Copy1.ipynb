{
 "cells": [
  {
   "cell_type": "markdown",
   "metadata": {},
   "source": [
    "# Fishers test for RB1 and EGFR mutation pathways"
   ]
  },
  {
   "cell_type": "code",
   "execution_count": 1,
   "metadata": {},
   "outputs": [],
   "source": [
    "import seaborn as sns\n",
    "import pandas as pd\n",
    "import numpy as np\n",
    "import matplotlib.pyplot as plt\n",
    "import scipy.stats\n",
    "import cptac"
   ]
  },
  {
   "cell_type": "code",
   "execution_count": 2,
   "metadata": {},
   "outputs": [
    {
     "name": "stdout",
     "output_type": "stream",
     "text": [
      "                                    \r"
     ]
    }
   ],
   "source": [
    "gb = cptac.Gbm()"
   ]
  },
  {
   "cell_type": "code",
   "execution_count": 4,
   "metadata": {},
   "outputs": [
    {
     "name": "stderr",
     "output_type": "stream",
     "text": [
      "Warning: In joining the somatic_mutation table, no mutations were found for the following samples, so they were filled with Wildtype_Tumor or Wildtype_Normal: 100 samples for the RB1 gene (C:\\Users\\brittany henderson\\Anaconda3\\envs\\Research\\lib\\site-packages\\ipykernel_launcher.py, line 2)\n",
      "Warning: In joining the somatic_mutation table, no mutations were found for the following samples, so they were filled with Wildtype_Tumor or Wildtype_Normal: 84 samples for the EGFR gene (C:\\Users\\brittany henderson\\Anaconda3\\envs\\Research\\lib\\site-packages\\ipykernel_launcher.py, line 8)\n",
      "Warning: CNV data was not found for the following samples, so CNV data columns were filled with NaN for these samples: S020 (C:\\Users\\brittany henderson\\Anaconda3\\envs\\Research\\lib\\site-packages\\ipykernel_launcher.py, line 8)\n"
     ]
    }
   ],
   "source": [
    "#get RB1 mutations and drop normal samples\n",
    "RB1_mutations = gb.join_omics_to_mutations(omics_genes=['RB1'], omics_df_name='proteomics', mutations_genes=['RB1'])[['RB1_Mutation_Status','RB1_Mutation']]\n",
    "RB1_mutations = RB1_mutations.loc[RB1_mutations['RB1_Mutation_Status'] != 'Wildtype_Normal']\n",
    "#Get EGFR Mutations and drop normal samples\n",
    "other_gene = 'EGFR' # uses CNV\n",
    "other_col1 = '%s_Mutation_Status'%other_gene\n",
    "other_col2 = '%s_Mutation'%other_gene\n",
    "other_mutations = gb.join_omics_to_mutations(omics_genes=[other_gene], omics_df_name='CNV', mutations_genes=[other_gene])[[other_col1,other_col2]]\n",
    "other_mutations = other_mutations.loc[other_mutations[other_col1] != 'Wildtype_Normal']"
   ]
  },
  {
   "cell_type": "code",
   "execution_count": 5,
   "metadata": {},
   "outputs": [
    {
     "data": {
      "text/html": [
       "<div>\n",
       "<style scoped>\n",
       "    .dataframe tbody tr th:only-of-type {\n",
       "        vertical-align: middle;\n",
       "    }\n",
       "\n",
       "    .dataframe tbody tr th {\n",
       "        vertical-align: top;\n",
       "    }\n",
       "\n",
       "    .dataframe thead th {\n",
       "        text-align: right;\n",
       "    }\n",
       "</style>\n",
       "<table border=\"1\" class=\"dataframe\">\n",
       "  <thead>\n",
       "    <tr style=\"text-align: right;\">\n",
       "      <th>Name</th>\n",
       "      <th>RB1_Mutation_Status</th>\n",
       "    </tr>\n",
       "    <tr>\n",
       "      <th>EGFR_Mutation_Status</th>\n",
       "      <th></th>\n",
       "    </tr>\n",
       "  </thead>\n",
       "  <tbody>\n",
       "    <tr>\n",
       "      <td>Mutation</td>\n",
       "      <td>16</td>\n",
       "    </tr>\n",
       "    <tr>\n",
       "      <td>Wildtype</td>\n",
       "      <td>84</td>\n",
       "    </tr>\n",
       "  </tbody>\n",
       "</table>\n",
       "</div>"
      ],
      "text/plain": [
       "Name                  RB1_Mutation_Status\n",
       "EGFR_Mutation_Status                     \n",
       "Mutation                               16\n",
       "Wildtype                               84"
      ]
     },
     "execution_count": 5,
     "metadata": {},
     "output_type": "execute_result"
    }
   ],
   "source": [
    "#Concatenate Dataframes\n",
    "RB1_and_other_Mutations = pd.concat([other_mutations, RB1_mutations], axis=1)[[other_col1,'RB1_Mutation_Status']]\n",
    "#Classify all mutations as 'mutation' and all wildtypes as 'wildtype'\n",
    "RB1_and_other_Mutations = RB1_and_other_Mutations.replace({'Wildtype_Tumor':'Wildtype','Single_mutation':'Mutation','Multiple_mutation':'Mutation'})\n",
    "RB1_and_other_Mutations.groupby(other_col1).count()"
   ]
  },
  {
   "cell_type": "code",
   "execution_count": 6,
   "metadata": {},
   "outputs": [],
   "source": [
    "other_exclusive = '%s_Only'%other_gene\n",
    "for ind, row in RB1_and_other_Mutations.iterrows():\n",
    "    if row['RB1_Mutation_Status'] == 'Mutation' and row[other_col1] == 'Mutation':\n",
    "        RB1_and_other_Mutations.loc[ind, 'Mutation_Exclusivity'] = 'Both'\n",
    "        \n",
    "    elif row['RB1_Mutation_Status'] == 'Mutation' and row[other_col1] != 'Mutation':\n",
    "        RB1_and_other_Mutations.loc[ind, 'Mutation_Exclusivity'] = 'RB1_Only'\n",
    "        \n",
    "    elif row['RB1_Mutation_Status'] != 'Mutation' and row[other_col1] == 'Mutation':\n",
    "        RB1_and_other_Mutations.loc[ind, 'Mutation_Exclusivity'] = other_exclusive\n",
    "        \n",
    "    else:\n",
    "        RB1_and_other_Mutations.loc[ind, 'Mutation_Exclusivity'] = 'Neither'\n"
   ]
  },
  {
   "cell_type": "code",
   "execution_count": 7,
   "metadata": {},
   "outputs": [
    {
     "data": {
      "text/html": [
       "<div>\n",
       "<style scoped>\n",
       "    .dataframe tbody tr th:only-of-type {\n",
       "        vertical-align: middle;\n",
       "    }\n",
       "\n",
       "    .dataframe tbody tr th {\n",
       "        vertical-align: top;\n",
       "    }\n",
       "\n",
       "    .dataframe thead th {\n",
       "        text-align: right;\n",
       "    }\n",
       "</style>\n",
       "<table border=\"1\" class=\"dataframe\">\n",
       "  <thead>\n",
       "    <tr style=\"text-align: right;\">\n",
       "      <th>Name</th>\n",
       "      <th>EGFR_Mutation_Status</th>\n",
       "      <th>RB1_Mutation_Status</th>\n",
       "      <th>Mutation_Exclusivity</th>\n",
       "    </tr>\n",
       "    <tr>\n",
       "      <th>Sample_ID</th>\n",
       "      <th></th>\n",
       "      <th></th>\n",
       "      <th></th>\n",
       "    </tr>\n",
       "  </thead>\n",
       "  <tbody>\n",
       "    <tr>\n",
       "      <td>S001</td>\n",
       "      <td>Wildtype</td>\n",
       "      <td>Mutation</td>\n",
       "      <td>RB1_Only</td>\n",
       "    </tr>\n",
       "    <tr>\n",
       "      <td>S002</td>\n",
       "      <td>Mutation</td>\n",
       "      <td>Mutation</td>\n",
       "      <td>Both</td>\n",
       "    </tr>\n",
       "    <tr>\n",
       "      <td>S003</td>\n",
       "      <td>Wildtype</td>\n",
       "      <td>Wildtype</td>\n",
       "      <td>Neither</td>\n",
       "    </tr>\n",
       "    <tr>\n",
       "      <td>S004</td>\n",
       "      <td>Wildtype</td>\n",
       "      <td>Mutation</td>\n",
       "      <td>RB1_Only</td>\n",
       "    </tr>\n",
       "    <tr>\n",
       "      <td>S005</td>\n",
       "      <td>Wildtype</td>\n",
       "      <td>Wildtype</td>\n",
       "      <td>Neither</td>\n",
       "    </tr>\n",
       "    <tr>\n",
       "      <td>...</td>\n",
       "      <td>...</td>\n",
       "      <td>...</td>\n",
       "      <td>...</td>\n",
       "    </tr>\n",
       "    <tr>\n",
       "      <td>S100</td>\n",
       "      <td>Mutation</td>\n",
       "      <td>Wildtype</td>\n",
       "      <td>EGFR_Only</td>\n",
       "    </tr>\n",
       "    <tr>\n",
       "      <td>S101</td>\n",
       "      <td>Wildtype</td>\n",
       "      <td>Wildtype</td>\n",
       "      <td>Neither</td>\n",
       "    </tr>\n",
       "    <tr>\n",
       "      <td>S102</td>\n",
       "      <td>Wildtype</td>\n",
       "      <td>Wildtype</td>\n",
       "      <td>Neither</td>\n",
       "    </tr>\n",
       "    <tr>\n",
       "      <td>S104</td>\n",
       "      <td>Wildtype</td>\n",
       "      <td>Wildtype</td>\n",
       "      <td>Neither</td>\n",
       "    </tr>\n",
       "    <tr>\n",
       "      <td>S105</td>\n",
       "      <td>Wildtype</td>\n",
       "      <td>Wildtype</td>\n",
       "      <td>Neither</td>\n",
       "    </tr>\n",
       "  </tbody>\n",
       "</table>\n",
       "<p>100 rows × 3 columns</p>\n",
       "</div>"
      ],
      "text/plain": [
       "Name      EGFR_Mutation_Status RB1_Mutation_Status Mutation_Exclusivity\n",
       "Sample_ID                                                              \n",
       "S001                  Wildtype            Mutation             RB1_Only\n",
       "S002                  Mutation            Mutation                 Both\n",
       "S003                  Wildtype            Wildtype              Neither\n",
       "S004                  Wildtype            Mutation             RB1_Only\n",
       "S005                  Wildtype            Wildtype              Neither\n",
       "...                        ...                 ...                  ...\n",
       "S100                  Mutation            Wildtype            EGFR_Only\n",
       "S101                  Wildtype            Wildtype              Neither\n",
       "S102                  Wildtype            Wildtype              Neither\n",
       "S104                  Wildtype            Wildtype              Neither\n",
       "S105                  Wildtype            Wildtype              Neither\n",
       "\n",
       "[100 rows x 3 columns]"
      ]
     },
     "execution_count": 7,
     "metadata": {},
     "output_type": "execute_result"
    }
   ],
   "source": [
    "RB1_and_other_Mutations"
   ]
  },
  {
   "cell_type": "code",
   "execution_count": 8,
   "metadata": {},
   "outputs": [
    {
     "data": {
      "text/plain": [
       "<matplotlib.axes._subplots.AxesSubplot at 0x1cec0b34c50>"
      ]
     },
     "execution_count": 8,
     "metadata": {},
     "output_type": "execute_result"
    },
    {
     "data": {
      "image/png": "[encoded data removed]",
      "text/plain": [
       "<Figure size 432x288 with 1 Axes>"
      ]
     },
     "metadata": {
      "needs_background": "light"
     },
     "output_type": "display_data"
    }
   ],
   "source": [
    "sns.countplot(data=RB1_and_other_Mutations, x='Mutation_Exclusivity')\n"
   ]
  },
  {
   "cell_type": "code",
   "execution_count": 9,
   "metadata": {},
   "outputs": [
    {
     "name": "stdout",
     "output_type": "stream",
     "text": [
      "RB1 Only:  9\n",
      "EGFR Only:  15\n",
      "Neither:  75\n",
      "Both:  1\n"
     ]
    },
    {
     "data": {
      "text/plain": [
       "0.49977237377795625"
      ]
     },
     "execution_count": 9,
     "metadata": {},
     "output_type": "execute_result"
    }
   ],
   "source": [
    "RB1_only = RB1_and_other_Mutations.loc[RB1_and_other_Mutations['Mutation_Exclusivity'] == 'RB1_Only']\n",
    "other_only = RB1_and_other_Mutations.loc[RB1_and_other_Mutations['Mutation_Exclusivity'] == other_exclusive]\n",
    "Neither = RB1_and_other_Mutations.loc[RB1_and_other_Mutations['Mutation_Exclusivity'] == 'Neither']\n",
    "Both = RB1_and_other_Mutations.loc[RB1_and_other_Mutations['Mutation_Exclusivity'] == 'Both']\n",
    "print(\"RB1 Only: \", len(RB1_only))\n",
    "print(\"%s Only: \"%other_gene, len(other_only))\n",
    "print(\"Neither: \", len(Neither))\n",
    "print(\"Both: \", len(Both))\n",
    "oddsratio, pval = scipy.stats.fisher_exact([[len(Both), len(other_only)],[len(RB1_only), len(Neither)]], alternative='less')\n",
    "pval"
   ]
  },
  {
   "cell_type": "markdown",
   "metadata": {},
   "source": [
    "Null H: no association for RB1 and EGFR mutation pathways\n",
    "        \n",
    "\n",
    "Alternate hypothesis: RB1 and EGFR muation pathways are associated\n",
    "\n",
    "Because the p-value is not significant, we don't reject the null hypothesis (that there is no association with RB1 and EGFR mutation pathways)."
   ]
  },
  {
   "cell_type": "markdown",
   "metadata": {},
   "source": [
    "A significant p-value means that there is an association.\n",
    "\"The sum of P-values less than or equal to P_(cutoff)=0.0238 is then 0.0476 which, because it is less than 0.05, is significant. Therefore, in this case, there would be a statistically significant association between the journal and type of article appearing\"\n",
    "http://mathworld.wolfram.com/FishersExactTest.html\n",
    "\n",
    "This value can be interpreted as the sum of evidence provided by the observed data—or any more extreme table—for the null hypothesis (that there is no difference in the proportions of studiers between men and women). The smaller the value of p, the greater the evidence for rejecting the null hypothesis; so here the evidence is strong that men and women are not equally likely to be studiers. \n",
    "https://en.wikipedia.org/wiki/Fisher%27s_exact_test"
   ]
  },
  {
   "cell_type": "code",
   "execution_count": null,
   "metadata": {},
   "outputs": [],
   "source": []
  }
 ],
 "metadata": {
  "kernelspec": {
   "display_name": "Python 3",
   "language": "python",
   "name": "python3"
  },
  "language_info": {
   "codemirror_mode": {
    "name": "ipython",
    "version": 3
   },
   "file_extension": ".py",
   "mimetype": "text/x-python",
   "name": "python",
   "nbconvert_exporter": "python",
   "pygments_lexer": "ipython3",
   "version": "3.7.3"
  }
 },
 "nbformat": 4,
 "nbformat_minor": 2
}
