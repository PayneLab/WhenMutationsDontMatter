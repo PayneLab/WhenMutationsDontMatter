{
 "cells": [
  {
   "cell_type": "code",
   "execution_count": 1,
   "metadata": {},
   "outputs": [],
   "source": [
    "import pandas as pd\n",
    "import numpy as np\n",
    "import seaborn as sns\n",
    "import matplotlib.pyplot as plt\n",
    "import scipy.stats\n",
    "import gseapy as gp\n",
    "import re\n",
    "import sys \n",
    "\n",
    "import cptac\n",
    "import cptac.utils as u\n",
    "\n",
    "import plot_utils as pu"
   ]
  },
  {
   "cell_type": "code",
   "execution_count": 2,
   "metadata": {},
   "outputs": [
    {
     "name": "stdout",
     "output_type": "stream",
     "text": [
      "                                                \r"
     ]
    }
   ],
   "source": [
    "e = cptac.Endometrial()"
   ]
  },
  {
   "cell_type": "code",
   "execution_count": 17,
   "metadata": {},
   "outputs": [
    {
     "name": "stderr",
     "output_type": "stream",
     "text": [
      "cptac warning: In joining the somatic_mutation table, no mutations were found for the following samples, so they were filled with Wildtype_Tumor or Wildtype_Normal: 69 samples for the PTEN gene (C:\\Users\\brittany henderson\\Anaconda3\\envs\\Research\\lib\\site-packages\\ipykernel_launcher.py, line 3)\n"
     ]
    },
    {
     "data": {
      "text/plain": [
       "Nonsense_Mutation    25\n",
       "Frame_Shift_Del      22\n",
       "Missense_Mutation    21\n",
       "Frame_Shift_Ins       6\n",
       "Splice_Site           1\n",
       "Name: PTEN_Mutation, dtype: int64"
      ]
     },
     "execution_count": 17,
     "metadata": {},
     "output_type": "execute_result"
    }
   ],
   "source": [
    "prot_and_mutations = e.join_omics_to_mutations(\n",
    "            mutations_genes = 'PTEN', omics_df_name = 'proteomics', omics_genes = 'PTEN', \n",
    "    mutations_filter = ['Nonsense_Mutation','Frame_Shift_Del','Frame_Shift_Ins'])\n",
    "prot_and_mutations = prot_and_mutations.loc[prot_and_mutations['PTEN_Mutation'] !='Wildtype_Tumor']\n",
    "prot_and_mutations = prot_and_mutations.loc[prot_and_mutations['PTEN_Mutation'] !='Wildtype_Normal']\n",
    "prot_and_mutations.PTEN_Mutation.value_counts()"
   ]
  },
  {
   "cell_type": "markdown",
   "metadata": {},
   "source": [
    "Format df for MutPlot (lollipop plot creation)"
   ]
  },
  {
   "cell_type": "code",
   "execution_count": 18,
   "metadata": {},
   "outputs": [
    {
     "data": {
      "text/plain": [
       "Nonsense_Mutation    25\n",
       "Frame_Shift_Del      22\n",
       "Frame_Shift_Ins       6\n",
       "Name: Mutation_Type, dtype: int64"
      ]
     },
     "execution_count": 18,
     "metadata": {},
     "output_type": "execute_result"
    }
   ],
   "source": [
    "# drop unnecesary columns\n",
    "d = ['PTEN_proteomics','PTEN_Mutation_Status','Sample_Status']\n",
    "df = prot_and_mutations.drop(columns=d)\n",
    "# Create Hugo_Symbol column\n",
    "df['Hugo_Symbol'] = 'PTEN'\n",
    "# Rename columns\n",
    "df = df.reset_index()\n",
    "df1 = df.rename(columns={'Patient_ID': 'Sample_ID', 'PTEN_Mutation': 'Mutation_Type',\n",
    "                         'PTEN_Location':'Protein_Change'})\n",
    "# Keep only Truncation type mutations\n",
    "df2 = df1.loc[df1['Mutation_Type'] != 'Missense_Mutation']\n",
    "df3 = df2.loc[df1['Mutation_Type'] != 'Splice_Site']\n",
    "df3.Mutation_Type.value_counts()"
   ]
  },
  {
   "cell_type": "code",
   "execution_count": 22,
   "metadata": {},
   "outputs": [
    {
     "data": {
      "text/plain": [
       "p.R233*    4\n",
       "p.R130*    4\n",
       "p.E7*      3\n",
       "p.E99*     2\n",
       "p.W111*    1\n",
       "p.Q245*    1\n",
       "p.Y180*    1\n",
       "p.Y27*     1\n",
       "p.Q214*    1\n",
       "p.Q171*    1\n",
       "p.Q97*     1\n",
       "p.C304*    1\n",
       "p.S287*    1\n",
       "p.G293*    1\n",
       "p.G209*    1\n",
       "p.W274*    1\n",
       "Name: Protein_Change, dtype: int64"
      ]
     },
     "execution_count": 22,
     "metadata": {},
     "output_type": "execute_result"
    }
   ],
   "source": [
    "fs = df3.loc[df1['Mutation_Type'] == 'Nonsense_Mutation']\n",
    "fs.Protein_Change.value_counts()"
   ]
  },
  {
   "cell_type": "code",
   "execution_count": 12,
   "metadata": {},
   "outputs": [],
   "source": [
    "df3.to_csv('lollipop_endo.csv')"
   ]
  },
  {
   "cell_type": "markdown",
   "metadata": {},
   "source": [
    "Extra"
   ]
  },
  {
   "cell_type": "code",
   "execution_count": 23,
   "metadata": {},
   "outputs": [
    {
     "data": {
      "text/plain": [
       "Nonsense_Mutation    27\n",
       "Frame_Shift_Del      26\n",
       "Frame_Shift_Ins      11\n",
       "Name: Mutation_Type, dtype: int64"
      ]
     },
     "execution_count": 23,
     "metadata": {},
     "output_type": "execute_result"
    }
   ],
   "source": [
    "# Create lollipop plot with somatic mutations (counts all mutations - including multiple mutations in same sample)\n",
    "mut = e.get_somatic_mutation()\n",
    "pten = mut.loc[mut['Gene'] == 'PTEN']\n",
    "df = pten.reset_index()\n",
    "df1 = df.rename(columns={'Patient_ID': 'Sample_ID','Gene':'Hugo_Symbol',\n",
    "                         'Mutation': 'Mutation_Type','Location':'Protein_Change'})\n",
    "df2 = df1.loc[df1['Mutation_Type'] != 'Missense_Mutation']\n",
    "df3 = df2.loc[df1['Mutation_Type'] != 'Splice_Site']\n",
    "df3.Mutation_Type.value_counts()"
   ]
  },
  {
   "cell_type": "code",
   "execution_count": 24,
   "metadata": {},
   "outputs": [
    {
     "data": {
      "text/plain": [
       "p.N323Kfs*2     2\n",
       "p.P248Tfs*5     2\n",
       "p.E242*         1\n",
       "p.D268Gfs*30    1\n",
       "p.M134Nfs*46    1\n",
       "p.V166Sfs*14    1\n",
       "p.H118Qfs*8     1\n",
       "p.L295Sfs*3     1\n",
       "p.I168Sfs*13    1\n",
       "Name: Protein_Change, dtype: int64"
      ]
     },
     "execution_count": 24,
     "metadata": {},
     "output_type": "execute_result"
    }
   ],
   "source": [
    "l = df3.loc[df1['Mutation_Type'] == 'Frame_Shift_Ins']\n",
    "l.Protein_Change.value_counts()"
   ]
  },
  {
   "cell_type": "code",
   "execution_count": 21,
   "metadata": {},
   "outputs": [],
   "source": [
    "df3.to_csv('lollipop_endo.csv')"
   ]
  },
  {
   "cell_type": "code",
   "execution_count": null,
   "metadata": {},
   "outputs": [],
   "source": []
  }
 ],
 "metadata": {
  "kernelspec": {
   "display_name": "Python 3",
   "language": "python",
   "name": "python3"
  },
  "language_info": {
   "codemirror_mode": {
    "name": "ipython",
    "version": 3
   },
   "file_extension": ".py",
   "mimetype": "text/x-python",
   "name": "python",
   "nbconvert_exporter": "python",
   "pygments_lexer": "ipython3",
   "version": "3.7.3"
  }
 },
 "nbformat": 4,
 "nbformat_minor": 2
}
