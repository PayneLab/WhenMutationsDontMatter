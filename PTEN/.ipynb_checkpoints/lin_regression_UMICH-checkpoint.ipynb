{
 "cells": [
  {
   "cell_type": "code",
   "execution_count": 1,
   "id": "digital-perth",
   "metadata": {},
   "outputs": [
    {
     "name": "stderr",
     "output_type": "stream",
     "text": [
      "cptac warning: Your version of cptac (0.9.3) is out-of-date. Latest is 0.9.5. Please run 'pip install --upgrade cptac' to update it. (<ipython-input-1-afdc2a284a10>, line 2)\n"
     ]
    }
   ],
   "source": [
    "import pandas as pd\n",
    "import cptac\n",
    "import cptac.pancan as pc\n",
    "import scipy.stats\n",
    "import seaborn as sns\n",
    "\n",
    "import plot_utils as p\n",
    "import cptac.utils as ut"
   ]
  },
  {
   "cell_type": "code",
   "execution_count": 2,
   "id": "selective-wedding",
   "metadata": {},
   "outputs": [],
   "source": [
    "def rename_duplicate_cols(df):\n",
    "    cols = pd.Series(df.columns[:])\n",
    "\n",
    "    for dup in cols[cols.duplicated()].unique(): \n",
    "        cols[cols[cols == dup].index.values.tolist()] = [dup + '_' + str(i) if i != 0 else dup for i in range(sum(cols == dup))]\n",
    "\n",
    "    # rename the columns with the cols list.\n",
    "    df.columns=cols\n",
    "    return df"
   ]
  },
  {
   "cell_type": "code",
   "execution_count": 3,
   "id": "733b3318",
   "metadata": {},
   "outputs": [],
   "source": [
    "def get_corr(df, dup_list):\n",
    "    \n",
    "    \n",
    "    new = pd.DataFrame()\n",
    "    \n",
    "    for i in dup_list:\n",
    "        ids = df.columns[df.columns.str.contains(i)].to_list()\n",
    "        ids.remove(i+'_flagship')\n",
    "        flag = i+'_flagship'\n",
    "        \n",
    "        for  ali in ids:\n",
    "            test_df = both[[flag, ali]].dropna() # only plots if value for both flagship and panan\n",
    "            # Create df with correlations\n",
    "            first = p.wrap_pearson_corr(test_df, flag)\n",
    "            new = new.append(first)\n",
    "    return new"
   ]
  },
  {
   "cell_type": "code",
   "execution_count": 4,
   "id": "349732d9",
   "metadata": {},
   "outputs": [],
   "source": [
    "# correlation analysis: compares flagship values to duplicates in pancan\n",
    "# df is df with both flagship and pancan values (flagship marked as '_flagship')\n",
    "# dup_list is list of Patient IDs (without aliquots attached)\n",
    "# y_lab is which source \n",
    "\n",
    "def wrap_lin_reg(df, dup_list, y_lab, wa = True):\n",
    "    for i in dup_list:\n",
    "        if wa == True:\n",
    "            if '.N' in i:\n",
    "                ids = df.columns[df.columns.str.contains(i)].to_list()\n",
    "            else:\n",
    "                ids = df.columns[df.columns.str.contains(i) & ~ df.columns.str.contains('[-\\.]N')].to_list()\n",
    "            ids.remove(i+'_flagship')\n",
    "            flag = i+'_flagship'\n",
    "        else:\n",
    "            flag = i+'_flagship'\n",
    "            ids = [i, i+'_1']\n",
    "            \n",
    "        print(ids)\n",
    "\n",
    "        for first in ids:\n",
    "            plot_df = both[[flag, first]].dropna(axis = 'index', how = 'any')\n",
    "            xd = plot_df[flag].min() + ((plot_df[flag].max() - plot_df[flag].min()) / 3) \n",
    "            yd = plot_df[first].max() +1\n",
    "\n",
    "\n",
    "            p.plot_pearson(plot_df, flag, first, x_coor = xd, y_coor = yd, y_label = first+'_'+y_lab,\n",
    "                   hue = \"none\", title = \"\", ra_stats = True,\n",
    "                   show_plot = True)"
   ]
  },
  {
   "cell_type": "code",
   "execution_count": 5,
   "id": "44b17937",
   "metadata": {},
   "outputs": [],
   "source": [
    "def get_flag_df(omics_name, ca, dup_list):\n",
    "    if omics_name == 'prot':\n",
    "        df = ca.get_proteomics()\n",
    "    \n",
    "    elif omics_name == 'phospho':\n",
    "        df = ca.get_phosphoproteomics()\n",
    "        \n",
    "    elif omics_name == 'acetyl':\n",
    "        df = ca.get_acetylproteomics()\n",
    "        \n",
    "    if ca.get_cancer_type() == 'brca':\n",
    "        df.index = [x[1:] if x[0] == 'X' else x for x in df.index]\n",
    "\n",
    "    df = df.loc[df.index.isin(dup_list)]\n",
    "    df.index = df.index+'_flagship'\n",
    "    if isinstance(df.keys(), pd.core.indexes.multi.MultiIndex):\n",
    "        if omics_name == 'prot':\n",
    "            df = ut.reduce_multiindex(df, levels_to_drop = ['Database_ID'])\n",
    "        else: # phospho and acetyl\n",
    "            if ca.get_cancer_type() == 'endometrial':\n",
    "                df = ut.reduce_multiindex(df, flatten = True)\n",
    "            else:\n",
    "                df = ut.reduce_multiindex(df, levels_to_drop = ['Peptide', 'Database_ID'], flatten = True)\n",
    "        df = df.loc[:,~df.columns.duplicated()] # drop all duplicate prot or sites (dup once database ID dropped)\n",
    "    fdf = df.T\n",
    "    \n",
    "    if ca.get_cancer_type() == 'luad' and omics_name == 'phospho':\n",
    "        # capitalize AA sites \n",
    "        fdf.index = fdf.index.str.upper()\n",
    "    \n",
    "    return fdf     "
   ]
  },
  {
   "cell_type": "code",
   "execution_count": 6,
   "id": "cc56a63c",
   "metadata": {},
   "outputs": [],
   "source": [
    "def get_pc_df(omics_name, ca_obj, source_name, dup_list = []):\n",
    "    if omics_name == 'prot':\n",
    "        df = ca_obj.get_proteomics(source_name)\n",
    "    \n",
    "    elif omics_name == 'phospho':\n",
    "        df = ca_obj.get_phosphoproteomics(source_name)\n",
    "        \n",
    "    all_df = pd.DataFrame()\n",
    "    for i in range(0,len(dup_list)):\n",
    "        pid = dup_list[i]\n",
    "        if '.N' in pid:\n",
    "            new = df.loc[df.index.str.contains(dup_list[i])]\n",
    "        else:\n",
    "            new = df.loc[df.index.str.contains(dup_list[i]) & ~ df.index.str.contains('\\.N')]\n",
    "        all_df = all_df.append(new)\n",
    "\n",
    "    if omics_name == 'prot':\n",
    "        df = ut.reduce_multiindex(all_df, levels_to_drop=[1], flatten = True)\n",
    "    else:\n",
    "        df = ut.reduce_multiindex(all_df, levels_to_drop = [2,3], flatten = True)\n",
    "    df = df.loc[:,~df.columns.duplicated()]\n",
    "    df = df.T\n",
    "        \n",
    "    #df.index = df.index.str.upper()   \n",
    "    df = rename_duplicate_cols(df)\n",
    "        \n",
    "    return df"
   ]
  },
  {
   "cell_type": "markdown",
   "id": "77ba69af",
   "metadata": {},
   "source": [
    "# Brca"
   ]
  },
  {
   "cell_type": "code",
   "execution_count": null,
   "id": "22e10f91",
   "metadata": {},
   "outputs": [],
   "source": [
    "def average_replicates(df, id_list = [], normal_identifier = '.N', common = '\\.', to_drop = '\\.\\d$'):\n",
    "    \"\"\"Returns a df with one row for each patient_ID (all replicates for a patient are averaged)\n",
    "    Parameters:\n",
    "    df (pandas.DataFrame): The df containing replicates (duplicate entries for the same tissue_type).\n",
    "    id_list: list of IDs with replicates (use the ID format that is common between replicates so the \n",
    "            list can be used to slice out all replicates for that ID). Make sure the IDs \n",
    "            in the list include the symbol that distinguishes normal samples ('.N' or '-N').\n",
    "    common: regex string that is common between replicates (identifies duplicate entries)\n",
    "    to_drop: regex string to drop to find each patient_ID that has replicates (used to slice out all replicates)\n",
    "    \n",
    "    Returns:\n",
    "    pandas.DataFrame: df with with replicate rows averaged and one row for each patient_ID.\n",
    "    \"\"\"\n",
    "    # If no list of replicate IDs is given, make list from common regex \n",
    "    if len(id_list) == 0:\n",
    "        replicate_df = df[df.index.str.contains(common)]\n",
    "        patient_ids = pd.Series(replicate_df.index) # create series of replicate IDs to prep removing appended \".i\"\n",
    "        ids = patient_ids.replace(to_drop, '', regex=True)\n",
    "        id_list = list(set(ids)) #id_list contains only patient_IDs of replicates (without #s)\n",
    "\n",
    "    new_df = df.copy()\n",
    "    for patient_ID in id_list:\n",
    "        # Can slice only normals with patient_ID because of '.N'\n",
    "        if normal_identifier in patient_ID:\n",
    "            id_df = df[df.index.str.contains(patient_ID, regex = True)] # slice out replicates for a single patient\n",
    "        # If tumor, need to slice out normals\n",
    "        else:\n",
    "            if normal_identifier == '.N':\n",
    "                norm_regex = '\\.N' # prep for regex use\n",
    "            else:\n",
    "                norm_regex = normal_identifier\n",
    "            id_df = df[df.index.str.contains(patient_ID, regex = True) & \\\n",
    "                       ~ df.index.str.contains(norm_regex, regex = True)] # don't include normals\n",
    "        print(id_df.index.to_list())\n",
    "        vals = list(id_df.mean(axis=0)) \n",
    "        new_df = new_df.drop(id_df.index.to_list(), axis = 'index') # drop unaveraged rows\n",
    "        new_df.loc[patient_ID] = vals # add averaged row   \n",
    "\n",
    "    return new_df"
   ]
  },
  {
   "cell_type": "code",
   "execution_count": null,
   "id": "c16f1610",
   "metadata": {},
   "outputs": [],
   "source": [
    "import pandas as pd\n",
    "import cptac\n",
    "import cptac.pancan as pc\n",
    "import scipy.stats\n",
    "import seaborn as sns\n",
    "\n",
    "import plot_utils as p\n",
    "import cptac.utils as ut"
   ]
  },
  {
   "cell_type": "code",
   "execution_count": null,
   "id": "7e46399f",
   "metadata": {},
   "outputs": [],
   "source": [
    "#l=pc.PancanLuad()\n",
    "#rep = ['C3L-02617','C3L-02617.N','C3L-00994.N']\n",
    "#h=pc.PancanHnscc()\n",
    "\n",
    "o= pc.PancanOv()"
   ]
  },
  {
   "cell_type": "code",
   "execution_count": null,
   "id": "fb3245ba",
   "metadata": {},
   "outputs": [],
   "source": [
    "drop_cols = ['RefInt_01Pool','RefInt_02Pool', 'RefInt_03Pool', 'RefInt_04Pool', \n",
    "                     'RefInt_05Pool','RefInt_06Pool', 'RefInt_07Pool', 'RefInt_08Pool',\n",
    "                     'RefInt_09Pool','RefInt_10Pool','RefInt_11Pool']"
   ]
  },
  {
   "cell_type": "code",
   "execution_count": null,
   "id": "4f70d7fd",
   "metadata": {},
   "outputs": [],
   "source": [
    "p = g.get_phosphoproteomics('umich')\n",
    "p.index.to_list()"
   ]
  },
  {
   "cell_type": "code",
   "execution_count": null,
   "id": "f9bc3885",
   "metadata": {},
   "outputs": [],
   "source": [
    "rep = ['11BR031', '11BR053', '11BR036', '11BR060', '14BR005', '11BR011', '21BR010']"
   ]
  },
  {
   "cell_type": "code",
   "execution_count": null,
   "id": "491936e1",
   "metadata": {},
   "outputs": [],
   "source": [
    "rep = ['11BR031', '11BR053', '11BR036', '11BR060', '14BR005', '11BR011', '21BR010']\n",
    "p.loc[p.index.isin(rep)]\n",
    "p.loc[p.index.str.contains(rep[0])].dropna(axis = 1, how = 'all')"
   ]
  },
  {
   "cell_type": "code",
   "execution_count": null,
   "id": "5ad5fcbd",
   "metadata": {},
   "outputs": [],
   "source": [
    "#pr = h.get_phosphoproteomics('pdc')\n",
    "pr = b.get_proteomics('pdc')\n",
    "#rep = ['C3L-02617-T','C3L-02617-N','C3L-00994-N']\n",
    "pr.loc[pr.index.str.contains(rep[0])].dropna(axis = 1, how = 'all')"
   ]
  },
  {
   "cell_type": "code",
   "execution_count": null,
   "id": "15a7d6a4",
   "metadata": {},
   "outputs": [],
   "source": [
    "pr.loc[pr.index.str.contains(rep[6])].dropna(axis = 1, how = 'all')"
   ]
  },
  {
   "cell_type": "code",
   "execution_count": null,
   "id": "7457b246",
   "metadata": {},
   "outputs": [],
   "source": [
    "pr.loc[pr.index.str.contains(rep[5])].dropna(axis = 1, how = 'all')"
   ]
  },
  {
   "cell_type": "code",
   "execution_count": null,
   "id": "9b5c9b3d",
   "metadata": {},
   "outputs": [],
   "source": [
    "apr = average_replicates(pr, rep)\n",
    "apr.loc[apr.index.isin(rep)].dropna(axis = 1, how = 'all')"
   ]
  },
  {
   "cell_type": "code",
   "execution_count": null,
   "id": "9a38abd1",
   "metadata": {},
   "outputs": [],
   "source": []
  },
  {
   "cell_type": "code",
   "execution_count": null,
   "id": "a8deea40",
   "metadata": {},
   "outputs": [],
   "source": [
    "pr = b.get_acetylproteomics('pdc')\n",
    "pr.loc[pr.index.str.contains(rep[0])].dropna(axis = 1, how = 'all')\n",
    "\n"
   ]
  },
  {
   "cell_type": "code",
   "execution_count": null,
   "id": "d97b82a7",
   "metadata": {},
   "outputs": [],
   "source": [
    "pr.loc[pr.index.str.contains(rep[4])].dropna(axis = 1, how = 'all')"
   ]
  },
  {
   "cell_type": "code",
   "execution_count": null,
   "id": "5ce83605",
   "metadata": {},
   "outputs": [],
   "source": [
    "pr.loc[pr.index.str.contains(rep[2])].dropna(axis = 1, how = 'all')"
   ]
  },
  {
   "cell_type": "code",
   "execution_count": null,
   "id": "431dd995",
   "metadata": {},
   "outputs": [],
   "source": [
    "apr = average_replicates(pr, rep)\n",
    "apr.loc[apr.index.isin(rep)].dropna(axis = 1, how = 'all').sort_index()"
   ]
  },
  {
   "cell_type": "code",
   "execution_count": null,
   "id": "edc8e794",
   "metadata": {},
   "outputs": [],
   "source": [
    "d = ['RefInt_pool01', 'RefInt_pool02', 'RefInt_pool03', 'RefInt_pool04',\n",
    "                   'RefInt_pool05', 'RefInt_pool06', 'RefInt_pool07', 'RefInt_pool08',\n",
    "                   'RefInt_pool09', 'RefInt_pool10', 'RefInt_pool11', 'RefInt_pool12',\n",
    "                   'RefInt_pool13', 'RefInt_pool14', 'RefInt_pool15', 'RefInt_pool16',\n",
    "                   'RefInt_pool17']\n",
    "dd=  ['RefInt_pool01', 'RefInt_pool02', 'RefInt_pool03', 'RefInt_pool04',\n",
    "                   'RefInt_pool05', 'RefInt_pool06', 'RefInt_pool07', 'RefInt_pool08',\n",
    "                   'RefInt_pool09', 'RefInt_pool10', 'RefInt_pool11', 'RefInt_pool12',\n",
    "                   'RefInt_pool13', 'RefInt_pool14', 'RefInt_pool15', 'RefInt_pool16',\n",
    "                   'RefInt_pool17']"
   ]
  },
  {
   "cell_type": "code",
   "execution_count": null,
   "id": "249311e3",
   "metadata": {},
   "outputs": [],
   "source": [
    "d.sort() == dd.sort()"
   ]
  },
  {
   "cell_type": "code",
   "execution_count": null,
   "id": "ee704048",
   "metadata": {},
   "outputs": [],
   "source": [
    "o=pc.PancanOv()"
   ]
  },
  {
   "cell_type": "code",
   "execution_count": null,
   "id": "60e2da04",
   "metadata": {},
   "outputs": [],
   "source": [
    "p = o.get_proteomics('umich')\n",
    "p.rename(index = md)"
   ]
  },
  {
   "cell_type": "code",
   "execution_count": null,
   "id": "e304fbb3",
   "metadata": {},
   "outputs": [],
   "source": [
    "a =pd.read_csv('../../../input/OV_sample_TMT_annotation_UMich_GENCODE34_0315.csv', sep =',',\n",
    "                usecols = ['specimen', 'sample'])\n",
    "#print(set(a.index.duplicated()))\n",
    "a = a.loc[~ a['sample'].str.contains('JHU')].set_index('specimen')\n",
    "md = a.to_dict()['sample']"
   ]
  },
  {
   "cell_type": "code",
   "execution_count": null,
   "id": "6d9fe62b",
   "metadata": {},
   "outputs": [],
   "source": [
    "df = a.loc[~ a['sample'].str.contains('JHU')]\n",
    "df['sample'].to_list()"
   ]
  },
  {
   "cell_type": "code",
   "execution_count": null,
   "id": "409bbf2b",
   "metadata": {},
   "outputs": [],
   "source": [
    "df =pd.read_excel('../../../input/CRC_Prospective sample info.xlsx', index_col = 'Label', usecols = ['Label', 'Sample Code'])\n",
    "print(set(df.index.duplicated()))\n",
    "df\n",
    "map_dict = df.to_dict()['Sample Code'] # Create dictionary with aliquot_ID as keys and patient_ID as values\n",
    "map_dict"
   ]
  },
  {
   "cell_type": "code",
   "execution_count": null,
   "id": "cbcb9a65",
   "metadata": {},
   "outputs": [],
   "source": []
  },
  {
   "cell_type": "code",
   "execution_count": null,
   "id": "548a00b7",
   "metadata": {},
   "outputs": [],
   "source": [
    "b = pc.PancanBrca()\n",
    "brca = cptac.Brca(version='3.1.1')"
   ]
  },
  {
   "cell_type": "code",
   "execution_count": null,
   "id": "32b47e96",
   "metadata": {},
   "outputs": [],
   "source": [
    "# show which omics has duplicates\n",
    "ca = b\n",
    "source_name = 'umich'\n",
    "prot = ca.get_proteomics(source_name)\n",
    "phos = ca.get_phosphoproteomics(source_name)\n",
    "prot = ut.reduce_multiindex(prot, levels_to_drop=[1], flatten = True)"
   ]
  },
  {
   "cell_type": "code",
   "execution_count": null,
   "id": "85eac89a",
   "metadata": {},
   "outputs": [],
   "source": [
    "# From prosp-brca-all-samples.txt\n",
    "rep = ['11BR031', '11BR053', '11BR036', '11BR060', '14BR005', '11BR011', '21BR010'] # 2 replicates for 11BR036\n",
    "\n",
    "norm = ['11BR074', '11BR073', '20BR007', '21BR010', '11BR017', '05BR029', '18BR003', '11BR030',\n",
    "        '01BR027','11BR025', '11BR047', '11BR028', '11BR020', '20BR008', '11BR024', '11BR023',\n",
    "        '11BR015', '11BR006']\n",
    "\n",
    "print('IDs with replicates (all tumor):', len(rep))\n",
    "print('IDs with a normal sample taken:', len(norm))"
   ]
  },
  {
   "cell_type": "code",
   "execution_count": null,
   "id": "7762f733",
   "metadata": {},
   "outputs": [],
   "source": [
    "omics = 'prot'\n",
    "#omics = 'phospho'\n",
    "\n",
    "# choose norm or rep\n",
    "nr_list = norm\n",
    "#nr_list = rep \n",
    "\n",
    "pcdf = get_pc_df(omics, b, 'umich', dup_list = nr_list)\n",
    "pcdf"
   ]
  },
  {
   "cell_type": "code",
   "execution_count": null,
   "id": "b213cd28",
   "metadata": {},
   "outputs": [],
   "source": [
    "fdf = get_flag_df(omics, brca, nr_list)\n",
    "fdf"
   ]
  },
  {
   "cell_type": "code",
   "execution_count": null,
   "id": "c030b01d",
   "metadata": {},
   "outputs": [],
   "source": [
    "both = fdf.join(pcdf, how = 'inner')\n",
    "both = both.dropna(axis = 1, how = 'all')\n",
    "both"
   ]
  },
  {
   "cell_type": "code",
   "execution_count": null,
   "id": "6583a65c",
   "metadata": {},
   "outputs": [],
   "source": [
    "# TypeError: arg must be a list, tuple, 1-d array, or Series\n",
    "# can occur if column contains on NaN (like with PDC phospho for brca)\n",
    "for col in both.columns:\n",
    "    both[col] = pd.to_numeric(both[col])  "
   ]
  },
  {
   "cell_type": "code",
   "execution_count": null,
   "id": "aafaca2e",
   "metadata": {},
   "outputs": [],
   "source": [
    "wrap_lin_reg(both, nr_list, y_lab = source_name)"
   ]
  },
  {
   "cell_type": "code",
   "execution_count": null,
   "id": "78164ffe",
   "metadata": {},
   "outputs": [],
   "source": [
    "print(omics)\n",
    "get_corr(both, nr_list)"
   ]
  },
  {
   "cell_type": "markdown",
   "id": "30c46d3c",
   "metadata": {},
   "source": [
    "# Hnscc"
   ]
  },
  {
   "cell_type": "markdown",
   "id": "c83b29ad",
   "metadata": {},
   "source": [
    "Check correlation of replicates with each other (confirmed same tissue type)."
   ]
  },
  {
   "cell_type": "code",
   "execution_count": null,
   "id": "7700e1a6",
   "metadata": {},
   "outputs": [],
   "source": [
    "h = pc.PancanHnscc()\n",
    "hnscc = cptac.Hnscc()"
   ]
  },
  {
   "cell_type": "code",
   "execution_count": null,
   "id": "eca89588",
   "metadata": {},
   "outputs": [],
   "source": [
    "# show which omics has duplicates\n",
    "ca = h\n",
    "source_name = 'umich'\n",
    "prot = ca.get_proteomics(source_name)\n",
    "phos = ca.get_phosphoproteomics(source_name)\n",
    "print('prot:', prot.loc[prot.index.str.contains('duplicate')].index.to_list())\n",
    "print('phospho:', phos.loc[phos.index.str.contains('duplicate')].index.to_list())"
   ]
  },
  {
   "cell_type": "code",
   "execution_count": null,
   "id": "deda4cd4",
   "metadata": {},
   "outputs": [],
   "source": [
    "#omics = 'prot'\n",
    "omics = 'phospho'\n",
    "\n",
    "if omics == 'prot':\n",
    "    df = prot\n",
    "    df = df.reset_index()\n",
    "    dup_list = df.loc[df.Patient_ID.str.contains('duplicate')].Patient_ID.to_list()\n",
    "    df = df.set_index('Patient_ID')\n",
    "    dup_list = dup_list + ['C3L-02617-T','C3L-02617-N','C3L-00994-N']\n",
    "    df = df.loc[df.index.isin(dup_list)]\n",
    "    df = ut.reduce_multiindex(df, levels_to_drop = [1], flatten=True)\n",
    "    df = df.loc[:,~df.columns.duplicated()] # drop all duplicate prot or sites (dup once database ID dropped)\n",
    "    df = df.T\n",
    "    pcdf = rename_duplicate_cols(df)\n",
    "\n",
    "elif omics == 'phospho': \n",
    "    df = phos\n",
    "    df.index.name = 'Patient_ID'\n",
    "    df = df.reset_index()\n",
    "    dup_list = df.loc[df['Patient_ID'].str.contains('duplicate')].Patient_ID.to_list()\n",
    "    df = df.set_index('Patient_ID')\n",
    "    dup_list\n",
    "    dup_list = dup_list + ['C3L-02617-T','C3L-02617-N','C3L-00994-N']\n",
    "    df = df.loc[df.index.isin(dup_list)]\n",
    "    df = ut.reduce_multiindex(df, levels_to_drop = [2,3], flatten=True)\n",
    "    df = df.loc[:,~df.columns.duplicated()] # drop all duplicate prot or sites (dup once database ID dropped)\n",
    "    df = df.T\n",
    "    pcdf = rename_duplicate_cols(df)\n",
    "\n",
    "print(omics)    \n",
    "pcdf"
   ]
  },
  {
   "cell_type": "code",
   "execution_count": null,
   "id": "7e94ec16",
   "metadata": {},
   "outputs": [],
   "source": [
    "# compare correlations between pancan duplicates\n",
    "\n",
    "df = pcdf\n",
    "for col in df.columns:\n",
    "    df[col] = pd.to_numeric(df[col])  \n",
    "\n",
    "hnscc_dup = ['C3L-02617', 'C3L-00994-N', 'C3L-02617-N'] \n",
    "\n",
    "for i in hnscc_dup:\n",
    "    if '-N' in i:\n",
    "        dups = df.columns[df.columns.str.contains(i)].to_list()\n",
    "    else:\n",
    "        dups = df.columns[df.columns.str.contains(i) & ~ df.columns.str.contains('N')].to_list()\n",
    "    \n",
    "    dups.sort() # sort for right order for tumor \n",
    "    print(dups)\n",
    "\n",
    "    first = dups[0]\n",
    "    second = dups[1]\n",
    "    \n",
    "    plot_df = df[[first, second]].dropna(axis = 'index', how = 'any')\n",
    "    xd = plot_df[first].min() + ((plot_df[first].max() - plot_df[first].min()) / 3) \n",
    "    yd = plot_df[second].max() + 2\n",
    "\n",
    "    p.plot_pearson(plot_df, first, second, x_coor = xd, y_coor = yd, \n",
    "           hue = \"none\", title = \"\", ra_stats = True,\n",
    "           show_plot = True)\n",
    "        \n",
    "    if len(dups) == 3:\n",
    "        third = dups[2]\n",
    "        plot_df2 = df[[second, third]].dropna(axis = 'index', how = 'any')\n",
    "        xd = plot_df2[second].min() + ((plot_df2[second].max() - plot_df2[second].min()) / 3)\n",
    "        yd = plot_df2[third].max() + 2                       \n",
    "        p.plot_pearson(plot_df2, second, third, x_coor = xd, y_coor = yd,\n",
    "               hue = \"none\", title = \"\", ra_stats = True,\n",
    "               show_plot = True)\n",
    "        \n",
    "        plot_df3 = df[[first, third]].dropna(axis = 'index', how = 'any')\n",
    "        xd = plot_df3[first].min() + ((plot_df3[first].max() - plot_df3[first].min()) / 3)\n",
    "        yd = plot_df3[third].max() + 2\n",
    "        p.plot_pearson(plot_df3, first, third, x_coor = xd, y_coor = yd,\n",
    "               hue = \"none\", title = \"\", ra_stats = True,\n",
    "               show_plot = True)"
   ]
  },
  {
   "cell_type": "code",
   "execution_count": null,
   "id": "ee818f42",
   "metadata": {},
   "outputs": [],
   "source": [
    "# Flagship\n",
    "print(omics)\n",
    "hnscc_dup = ['C3L-02617', 'C3L-00994.N', 'C3L-02617.N']\n",
    "fdf = get_flag_df(omics, hnscc, hnscc_dup)\n",
    "fdf"
   ]
  },
  {
   "cell_type": "code",
   "execution_count": null,
   "id": "e8f419a7",
   "metadata": {},
   "outputs": [],
   "source": [
    "both = fdf.join(pcdf, how = 'inner')\n",
    "both.head()\n",
    "both"
   ]
  },
  {
   "cell_type": "code",
   "execution_count": null,
   "id": "0fc21db6",
   "metadata": {},
   "outputs": [],
   "source": [
    "for col in both.columns:\n",
    "    both[col] = pd.to_numeric(both[col])  "
   ]
  },
  {
   "cell_type": "code",
   "execution_count": null,
   "id": "fde7a4c0",
   "metadata": {},
   "outputs": [],
   "source": [
    "# compare to flagship - doesn't correlate well\n",
    "print(omics)\n",
    "wrap_lin_reg(both, hnscc_dup, y_lab = source_name)"
   ]
  },
  {
   "cell_type": "markdown",
   "id": "1de2d922",
   "metadata": {},
   "source": [
    "# Luad"
   ]
  },
  {
   "cell_type": "code",
   "execution_count": null,
   "id": "6db9e3d8",
   "metadata": {},
   "outputs": [],
   "source": [
    "l = pc.PancanLuad()\n",
    "luad = cptac.Luad()"
   ]
  },
  {
   "cell_type": "code",
   "execution_count": null,
   "id": "960bf540",
   "metadata": {},
   "outputs": [],
   "source": [
    "# show which omics has duplicates\n",
    "ca = l\n",
    "source_name = 'umich'\n",
    "prot = ca.get_proteomics(source_name)\n",
    "phos = ca.get_phosphoproteomics(source_name)\n",
    "print('prot:', set(prot.index.duplicated()), list(prot.index[prot.index.duplicated()]))\n",
    "print('phospho:', set(phos.index.duplicated()), list(phos.index[phos.index.duplicated()]))\n",
    "df = phos\n",
    "df.loc[df.index.str.contains('CPT')]"
   ]
  },
  {
   "cell_type": "code",
   "execution_count": null,
   "id": "088c418d",
   "metadata": {},
   "outputs": [],
   "source": [
    "omics = 'prot'\n",
    "dup_list = ['C3N-02379', 'C3N-02587'] #, 'CPT0146580004.1', 'CPT0148080004.1']\n",
    "pcdf = get_pc_df(omics, l, 'umich', dup_list)\n",
    "#pcdf = pcdf.rename(columns = {'CPT0146580004.1':'C3N-02379.1', 'CPT0148080004.1':'C3N-02587.1'}) # mapped in aliquot_to_patient_ID.tsv\n",
    "pcdf"
   ]
  },
  {
   "cell_type": "code",
   "execution_count": null,
   "id": "cc22185c",
   "metadata": {},
   "outputs": [],
   "source": [
    "dup_list = ['C3N-02379', 'C3N-02587']\n",
    "fdf = get_flag_df(omics, luad, dup_list)\n",
    "fdf"
   ]
  },
  {
   "cell_type": "code",
   "execution_count": null,
   "id": "2459f155",
   "metadata": {},
   "outputs": [],
   "source": [
    "both = fdf.join(pcdf, how = 'inner')\n",
    "both.head()\n",
    "both"
   ]
  },
  {
   "cell_type": "code",
   "execution_count": null,
   "id": "1fa007bc",
   "metadata": {},
   "outputs": [],
   "source": [
    "print(omics)\n",
    "for col in both.columns:\n",
    "    both[col] = pd.to_numeric(both[col])  \n",
    "\n",
    "wrap_lin_reg(both, dup_list, y_lab = source_name)"
   ]
  },
  {
   "cell_type": "code",
   "execution_count": null,
   "id": "dominican-baseball",
   "metadata": {},
   "outputs": [],
   "source": [
    "print(omics)\n",
    "get_corr(both, dup_list)"
   ]
  },
  {
   "cell_type": "markdown",
   "id": "aaf50b0e",
   "metadata": {},
   "source": [
    "# Ucec"
   ]
  },
  {
   "cell_type": "code",
   "execution_count": 7,
   "id": "competent-adjustment",
   "metadata": {},
   "outputs": [
    {
     "name": "stdout",
     "output_type": "stream",
     "text": [
      "                                                \r"
     ]
    }
   ],
   "source": [
    "e = pc.PancanUcec()\n",
    "endo = cptac.Endometrial()"
   ]
  },
  {
   "cell_type": "code",
   "execution_count": 14,
   "id": "9913abb9",
   "metadata": {},
   "outputs": [
    {
     "name": "stderr",
     "output_type": "stream",
     "text": [
      "cptac warning: Due to dropping the specified levels, dataframe now has 11668 duplicated column headers. (<ipython-input-6-9416d0067ca7>, line 20)\n"
     ]
    },
    {
     "data": {
      "text/html": [
       "<div>\n",
       "<style scoped>\n",
       "    .dataframe tbody tr th:only-of-type {\n",
       "        vertical-align: middle;\n",
       "    }\n",
       "\n",
       "    .dataframe tbody tr th {\n",
       "        vertical-align: top;\n",
       "    }\n",
       "\n",
       "    .dataframe thead th {\n",
       "        text-align: right;\n",
       "    }\n",
       "</style>\n",
       "<table border=\"1\" class=\"dataframe\">\n",
       "  <thead>\n",
       "    <tr style=\"text-align: right;\">\n",
       "      <th>Patient_ID</th>\n",
       "      <th>C3N-01825</th>\n",
       "      <th>C3N-01825_1</th>\n",
       "    </tr>\n",
       "    <tr>\n",
       "      <th>Name</th>\n",
       "      <th></th>\n",
       "      <th></th>\n",
       "    </tr>\n",
       "  </thead>\n",
       "  <tbody>\n",
       "    <tr>\n",
       "      <th>AAAS_S495</th>\n",
       "      <td>-0.196873</td>\n",
       "      <td>-0.553206</td>\n",
       "    </tr>\n",
       "    <tr>\n",
       "      <th>AAAS_S541</th>\n",
       "      <td>NaN</td>\n",
       "      <td>NaN</td>\n",
       "    </tr>\n",
       "    <tr>\n",
       "      <th>AACS_S618</th>\n",
       "      <td>NaN</td>\n",
       "      <td>NaN</td>\n",
       "    </tr>\n",
       "    <tr>\n",
       "      <th>AAGAB_S310</th>\n",
       "      <td>NaN</td>\n",
       "      <td>NaN</td>\n",
       "    </tr>\n",
       "    <tr>\n",
       "      <th>AAGAB_S310S311</th>\n",
       "      <td>0.534129</td>\n",
       "      <td>0.252407</td>\n",
       "    </tr>\n",
       "    <tr>\n",
       "      <th>...</th>\n",
       "      <td>...</td>\n",
       "      <td>...</td>\n",
       "    </tr>\n",
       "    <tr>\n",
       "      <th>ZZEF1_S2526</th>\n",
       "      <td>NaN</td>\n",
       "      <td>0.822843</td>\n",
       "    </tr>\n",
       "    <tr>\n",
       "      <th>ZZEF1_T1512S1518T1521</th>\n",
       "      <td>NaN</td>\n",
       "      <td>NaN</td>\n",
       "    </tr>\n",
       "    <tr>\n",
       "      <th>ZZEF1_T1521</th>\n",
       "      <td>NaN</td>\n",
       "      <td>-0.312578</td>\n",
       "    </tr>\n",
       "    <tr>\n",
       "      <th>ZZEF1_T2074</th>\n",
       "      <td>0.328864</td>\n",
       "      <td>NaN</td>\n",
       "    </tr>\n",
       "    <tr>\n",
       "      <th>ZZEF1_T66</th>\n",
       "      <td>NaN</td>\n",
       "      <td>1.061560</td>\n",
       "    </tr>\n",
       "  </tbody>\n",
       "</table>\n",
       "<p>79612 rows × 2 columns</p>\n",
       "</div>"
      ],
      "text/plain": [
       "Patient_ID             C3N-01825  C3N-01825_1\n",
       "Name                                         \n",
       "AAAS_S495              -0.196873    -0.553206\n",
       "AAAS_S541                    NaN          NaN\n",
       "AACS_S618                    NaN          NaN\n",
       "AAGAB_S310                   NaN          NaN\n",
       "AAGAB_S310S311          0.534129     0.252407\n",
       "...                          ...          ...\n",
       "ZZEF1_S2526                  NaN     0.822843\n",
       "ZZEF1_T1512S1518T1521        NaN          NaN\n",
       "ZZEF1_T1521                  NaN    -0.312578\n",
       "ZZEF1_T2074             0.328864          NaN\n",
       "ZZEF1_T66                    NaN     1.061560\n",
       "\n",
       "[79612 rows x 2 columns]"
      ]
     },
     "execution_count": 14,
     "metadata": {},
     "output_type": "execute_result"
    }
   ],
   "source": [
    "omics = 'phospho'\n",
    "dup_list = ['C3N-01825'] \n",
    "pcdf = get_pc_df(omics, e, 'umich', dup_list)\n",
    "pcdf"
   ]
  },
  {
   "cell_type": "code",
   "execution_count": 17,
   "id": "1728ca64",
   "metadata": {},
   "outputs": [
    {
     "data": {
      "text/html": [
       "<div>\n",
       "<style scoped>\n",
       "    .dataframe tbody tr th:only-of-type {\n",
       "        vertical-align: middle;\n",
       "    }\n",
       "\n",
       "    .dataframe tbody tr th {\n",
       "        vertical-align: top;\n",
       "    }\n",
       "\n",
       "    .dataframe thead tr th {\n",
       "        text-align: left;\n",
       "    }\n",
       "\n",
       "    .dataframe thead tr:last-of-type th {\n",
       "        text-align: right;\n",
       "    }\n",
       "</style>\n",
       "<table border=\"1\" class=\"dataframe\">\n",
       "  <thead>\n",
       "    <tr>\n",
       "      <th>Name</th>\n",
       "      <th colspan=\"3\" halign=\"left\">AAAS</th>\n",
       "      <th>AACS</th>\n",
       "      <th>AAED1</th>\n",
       "      <th colspan=\"2\" halign=\"left\">AAGAB</th>\n",
       "      <th colspan=\"3\" halign=\"left\">AAK1</th>\n",
       "      <th>...</th>\n",
       "      <th colspan=\"10\" halign=\"left\">ZZZ3</th>\n",
       "    </tr>\n",
       "    <tr>\n",
       "      <th>Site</th>\n",
       "      <th>S495</th>\n",
       "      <th>S541</th>\n",
       "      <th>Y485</th>\n",
       "      <th>S618</th>\n",
       "      <th>S12</th>\n",
       "      <th>S310</th>\n",
       "      <th>S311</th>\n",
       "      <th>S14</th>\n",
       "      <th>S18</th>\n",
       "      <th>S20</th>\n",
       "      <th>...</th>\n",
       "      <th>S397</th>\n",
       "      <th>S411</th>\n",
       "      <th>S420</th>\n",
       "      <th>S424</th>\n",
       "      <th>S426</th>\n",
       "      <th>S468</th>\n",
       "      <th>S89</th>\n",
       "      <th>T415</th>\n",
       "      <th>T418</th>\n",
       "      <th>Y399</th>\n",
       "    </tr>\n",
       "    <tr>\n",
       "      <th>Patient_ID</th>\n",
       "      <th></th>\n",
       "      <th></th>\n",
       "      <th></th>\n",
       "      <th></th>\n",
       "      <th></th>\n",
       "      <th></th>\n",
       "      <th></th>\n",
       "      <th></th>\n",
       "      <th></th>\n",
       "      <th></th>\n",
       "      <th></th>\n",
       "      <th></th>\n",
       "      <th></th>\n",
       "      <th></th>\n",
       "      <th></th>\n",
       "      <th></th>\n",
       "      <th></th>\n",
       "      <th></th>\n",
       "      <th></th>\n",
       "      <th></th>\n",
       "      <th></th>\n",
       "    </tr>\n",
       "  </thead>\n",
       "  <tbody>\n",
       "    <tr>\n",
       "      <th>C3L-00006</th>\n",
       "      <td>NaN</td>\n",
       "      <td>NaN</td>\n",
       "      <td>NaN</td>\n",
       "      <td>-0.8810</td>\n",
       "      <td>-1.8100</td>\n",
       "      <td>NaN</td>\n",
       "      <td>NaN</td>\n",
       "      <td>NaN</td>\n",
       "      <td>-0.2420</td>\n",
       "      <td>-0.2420</td>\n",
       "      <td>...</td>\n",
       "      <td>0.18400</td>\n",
       "      <td>NaN</td>\n",
       "      <td>NaN</td>\n",
       "      <td>NaN</td>\n",
       "      <td>-0.20500</td>\n",
       "      <td>NaN</td>\n",
       "      <td>NaN</td>\n",
       "      <td>NaN</td>\n",
       "      <td>NaN</td>\n",
       "      <td>NaN</td>\n",
       "    </tr>\n",
       "    <tr>\n",
       "      <th>C3L-00008</th>\n",
       "      <td>NaN</td>\n",
       "      <td>NaN</td>\n",
       "      <td>NaN</td>\n",
       "      <td>NaN</td>\n",
       "      <td>0.0840</td>\n",
       "      <td>NaN</td>\n",
       "      <td>NaN</td>\n",
       "      <td>-1.110</td>\n",
       "      <td>-0.3830</td>\n",
       "      <td>-1.0900</td>\n",
       "      <td>...</td>\n",
       "      <td>-0.17100</td>\n",
       "      <td>NaN</td>\n",
       "      <td>NaN</td>\n",
       "      <td>-0.3930</td>\n",
       "      <td>-0.17100</td>\n",
       "      <td>NaN</td>\n",
       "      <td>0.2900</td>\n",
       "      <td>NaN</td>\n",
       "      <td>0.1605</td>\n",
       "      <td>-0.0635</td>\n",
       "    </tr>\n",
       "    <tr>\n",
       "      <th>C3L-00032</th>\n",
       "      <td>-0.2020</td>\n",
       "      <td>NaN</td>\n",
       "      <td>NaN</td>\n",
       "      <td>NaN</td>\n",
       "      <td>-1.8800</td>\n",
       "      <td>NaN</td>\n",
       "      <td>NaN</td>\n",
       "      <td>NaN</td>\n",
       "      <td>0.3820</td>\n",
       "      <td>-0.0416</td>\n",
       "      <td>...</td>\n",
       "      <td>NaN</td>\n",
       "      <td>NaN</td>\n",
       "      <td>NaN</td>\n",
       "      <td>NaN</td>\n",
       "      <td>NaN</td>\n",
       "      <td>NaN</td>\n",
       "      <td>NaN</td>\n",
       "      <td>NaN</td>\n",
       "      <td>NaN</td>\n",
       "      <td>NaN</td>\n",
       "    </tr>\n",
       "    <tr>\n",
       "      <th>C3L-00090</th>\n",
       "      <td>-0.0020</td>\n",
       "      <td>NaN</td>\n",
       "      <td>-0.407</td>\n",
       "      <td>NaN</td>\n",
       "      <td>NaN</td>\n",
       "      <td>NaN</td>\n",
       "      <td>NaN</td>\n",
       "      <td>NaN</td>\n",
       "      <td>NaN</td>\n",
       "      <td>-0.5550</td>\n",
       "      <td>...</td>\n",
       "      <td>0.13970</td>\n",
       "      <td>NaN</td>\n",
       "      <td>NaN</td>\n",
       "      <td>NaN</td>\n",
       "      <td>-0.55900</td>\n",
       "      <td>NaN</td>\n",
       "      <td>NaN</td>\n",
       "      <td>NaN</td>\n",
       "      <td>NaN</td>\n",
       "      <td>0.2980</td>\n",
       "    </tr>\n",
       "    <tr>\n",
       "      <th>C3L-00098</th>\n",
       "      <td>0.5560</td>\n",
       "      <td>-0.0461</td>\n",
       "      <td>NaN</td>\n",
       "      <td>NaN</td>\n",
       "      <td>0.9410</td>\n",
       "      <td>NaN</td>\n",
       "      <td>0.429</td>\n",
       "      <td>0.362</td>\n",
       "      <td>0.6970</td>\n",
       "      <td>-0.0529</td>\n",
       "      <td>...</td>\n",
       "      <td>-0.15875</td>\n",
       "      <td>NaN</td>\n",
       "      <td>NaN</td>\n",
       "      <td>0.1960</td>\n",
       "      <td>0.06175</td>\n",
       "      <td>NaN</td>\n",
       "      <td>NaN</td>\n",
       "      <td>NaN</td>\n",
       "      <td>NaN</td>\n",
       "      <td>-0.2900</td>\n",
       "    </tr>\n",
       "    <tr>\n",
       "      <th>...</th>\n",
       "      <td>...</td>\n",
       "      <td>...</td>\n",
       "      <td>...</td>\n",
       "      <td>...</td>\n",
       "      <td>...</td>\n",
       "      <td>...</td>\n",
       "      <td>...</td>\n",
       "      <td>...</td>\n",
       "      <td>...</td>\n",
       "      <td>...</td>\n",
       "      <td>...</td>\n",
       "      <td>...</td>\n",
       "      <td>...</td>\n",
       "      <td>...</td>\n",
       "      <td>...</td>\n",
       "      <td>...</td>\n",
       "      <td>...</td>\n",
       "      <td>...</td>\n",
       "      <td>...</td>\n",
       "      <td>...</td>\n",
       "      <td>...</td>\n",
       "    </tr>\n",
       "    <tr>\n",
       "      <th>NX5.N</th>\n",
       "      <td>-0.0686</td>\n",
       "      <td>NaN</td>\n",
       "      <td>NaN</td>\n",
       "      <td>0.0516</td>\n",
       "      <td>0.3260</td>\n",
       "      <td>NaN</td>\n",
       "      <td>-1.220</td>\n",
       "      <td>-0.269</td>\n",
       "      <td>0.1930</td>\n",
       "      <td>0.0143</td>\n",
       "      <td>...</td>\n",
       "      <td>-0.37400</td>\n",
       "      <td>NaN</td>\n",
       "      <td>NaN</td>\n",
       "      <td>NaN</td>\n",
       "      <td>-0.12700</td>\n",
       "      <td>NaN</td>\n",
       "      <td>NaN</td>\n",
       "      <td>0.092800</td>\n",
       "      <td>NaN</td>\n",
       "      <td>-0.3740</td>\n",
       "    </tr>\n",
       "    <tr>\n",
       "      <th>NX6.N</th>\n",
       "      <td>-0.7730</td>\n",
       "      <td>NaN</td>\n",
       "      <td>NaN</td>\n",
       "      <td>0.1650</td>\n",
       "      <td>-0.0185</td>\n",
       "      <td>NaN</td>\n",
       "      <td>-0.443</td>\n",
       "      <td>0.716</td>\n",
       "      <td>0.3180</td>\n",
       "      <td>0.7800</td>\n",
       "      <td>...</td>\n",
       "      <td>-0.29800</td>\n",
       "      <td>NaN</td>\n",
       "      <td>NaN</td>\n",
       "      <td>NaN</td>\n",
       "      <td>-0.29800</td>\n",
       "      <td>NaN</td>\n",
       "      <td>NaN</td>\n",
       "      <td>-0.063700</td>\n",
       "      <td>NaN</td>\n",
       "      <td>0.0000</td>\n",
       "    </tr>\n",
       "    <tr>\n",
       "      <th>NX7.N</th>\n",
       "      <td>-0.6760</td>\n",
       "      <td>NaN</td>\n",
       "      <td>NaN</td>\n",
       "      <td>-0.2760</td>\n",
       "      <td>-0.4930</td>\n",
       "      <td>NaN</td>\n",
       "      <td>-0.592</td>\n",
       "      <td>-0.119</td>\n",
       "      <td>-0.1410</td>\n",
       "      <td>0.0767</td>\n",
       "      <td>...</td>\n",
       "      <td>0.03260</td>\n",
       "      <td>NaN</td>\n",
       "      <td>NaN</td>\n",
       "      <td>NaN</td>\n",
       "      <td>-0.25000</td>\n",
       "      <td>NaN</td>\n",
       "      <td>NaN</td>\n",
       "      <td>-0.000028</td>\n",
       "      <td>NaN</td>\n",
       "      <td>0.0326</td>\n",
       "    </tr>\n",
       "    <tr>\n",
       "      <th>NX8.N</th>\n",
       "      <td>NaN</td>\n",
       "      <td>NaN</td>\n",
       "      <td>NaN</td>\n",
       "      <td>NaN</td>\n",
       "      <td>0.3950</td>\n",
       "      <td>NaN</td>\n",
       "      <td>NaN</td>\n",
       "      <td>0.253</td>\n",
       "      <td>0.6240</td>\n",
       "      <td>-0.0663</td>\n",
       "      <td>...</td>\n",
       "      <td>-0.00993</td>\n",
       "      <td>NaN</td>\n",
       "      <td>NaN</td>\n",
       "      <td>-0.2540</td>\n",
       "      <td>-0.23400</td>\n",
       "      <td>NaN</td>\n",
       "      <td>0.0149</td>\n",
       "      <td>NaN</td>\n",
       "      <td>-0.3685</td>\n",
       "      <td>-0.2635</td>\n",
       "    </tr>\n",
       "    <tr>\n",
       "      <th>NX9.N</th>\n",
       "      <td>NaN</td>\n",
       "      <td>NaN</td>\n",
       "      <td>NaN</td>\n",
       "      <td>NaN</td>\n",
       "      <td>0.5940</td>\n",
       "      <td>NaN</td>\n",
       "      <td>NaN</td>\n",
       "      <td>0.994</td>\n",
       "      <td>1.0385</td>\n",
       "      <td>0.8830</td>\n",
       "      <td>...</td>\n",
       "      <td>-0.25500</td>\n",
       "      <td>NaN</td>\n",
       "      <td>NaN</td>\n",
       "      <td>0.0158</td>\n",
       "      <td>-0.10700</td>\n",
       "      <td>NaN</td>\n",
       "      <td>0.1090</td>\n",
       "      <td>NaN</td>\n",
       "      <td>-0.4385</td>\n",
       "      <td>-0.2295</td>\n",
       "    </tr>\n",
       "  </tbody>\n",
       "</table>\n",
       "<p>144 rows × 73212 columns</p>\n",
       "</div>"
      ],
      "text/plain": [
       "Name          AAAS                   AACS   AAED1 AAGAB          AAK1          \\\n",
       "Site          S495    S541   Y485    S618     S12  S310   S311    S14     S18   \n",
       "Patient_ID                                                                      \n",
       "C3L-00006      NaN     NaN    NaN -0.8810 -1.8100   NaN    NaN    NaN -0.2420   \n",
       "C3L-00008      NaN     NaN    NaN     NaN  0.0840   NaN    NaN -1.110 -0.3830   \n",
       "C3L-00032  -0.2020     NaN    NaN     NaN -1.8800   NaN    NaN    NaN  0.3820   \n",
       "C3L-00090  -0.0020     NaN -0.407     NaN     NaN   NaN    NaN    NaN     NaN   \n",
       "C3L-00098   0.5560 -0.0461    NaN     NaN  0.9410   NaN  0.429  0.362  0.6970   \n",
       "...            ...     ...    ...     ...     ...   ...    ...    ...     ...   \n",
       "NX5.N      -0.0686     NaN    NaN  0.0516  0.3260   NaN -1.220 -0.269  0.1930   \n",
       "NX6.N      -0.7730     NaN    NaN  0.1650 -0.0185   NaN -0.443  0.716  0.3180   \n",
       "NX7.N      -0.6760     NaN    NaN -0.2760 -0.4930   NaN -0.592 -0.119 -0.1410   \n",
       "NX8.N          NaN     NaN    NaN     NaN  0.3950   NaN    NaN  0.253  0.6240   \n",
       "NX9.N          NaN     NaN    NaN     NaN  0.5940   NaN    NaN  0.994  1.0385   \n",
       "\n",
       "Name                ...     ZZZ3                                          \\\n",
       "Site           S20  ...     S397 S411 S420    S424     S426 S468     S89   \n",
       "Patient_ID          ...                                                    \n",
       "C3L-00006  -0.2420  ...  0.18400  NaN  NaN     NaN -0.20500  NaN     NaN   \n",
       "C3L-00008  -1.0900  ... -0.17100  NaN  NaN -0.3930 -0.17100  NaN  0.2900   \n",
       "C3L-00032  -0.0416  ...      NaN  NaN  NaN     NaN      NaN  NaN     NaN   \n",
       "C3L-00090  -0.5550  ...  0.13970  NaN  NaN     NaN -0.55900  NaN     NaN   \n",
       "C3L-00098  -0.0529  ... -0.15875  NaN  NaN  0.1960  0.06175  NaN     NaN   \n",
       "...            ...  ...      ...  ...  ...     ...      ...  ...     ...   \n",
       "NX5.N       0.0143  ... -0.37400  NaN  NaN     NaN -0.12700  NaN     NaN   \n",
       "NX6.N       0.7800  ... -0.29800  NaN  NaN     NaN -0.29800  NaN     NaN   \n",
       "NX7.N       0.0767  ...  0.03260  NaN  NaN     NaN -0.25000  NaN     NaN   \n",
       "NX8.N      -0.0663  ... -0.00993  NaN  NaN -0.2540 -0.23400  NaN  0.0149   \n",
       "NX9.N       0.8830  ... -0.25500  NaN  NaN  0.0158 -0.10700  NaN  0.1090   \n",
       "\n",
       "Name                                  \n",
       "Site            T415    T418    Y399  \n",
       "Patient_ID                            \n",
       "C3L-00006        NaN     NaN     NaN  \n",
       "C3L-00008        NaN  0.1605 -0.0635  \n",
       "C3L-00032        NaN     NaN     NaN  \n",
       "C3L-00090        NaN     NaN  0.2980  \n",
       "C3L-00098        NaN     NaN -0.2900  \n",
       "...              ...     ...     ...  \n",
       "NX5.N       0.092800     NaN -0.3740  \n",
       "NX6.N      -0.063700     NaN  0.0000  \n",
       "NX7.N      -0.000028     NaN  0.0326  \n",
       "NX8.N            NaN -0.3685 -0.2635  \n",
       "NX9.N            NaN -0.4385 -0.2295  \n",
       "\n",
       "[144 rows x 73212 columns]"
      ]
     },
     "execution_count": 17,
     "metadata": {},
     "output_type": "execute_result"
    }
   ],
   "source": [
    "ph=endo.get_phosphoproteomics()\n",
    "ph"
   ]
  },
  {
   "cell_type": "code",
   "execution_count": 15,
   "id": "ae8a3db7",
   "metadata": {},
   "outputs": [
    {
     "ename": "InvalidParameterError",
     "evalue": "You tried to drop too many levels from the dataframe column index. The most levels you can drop is one less than however many exist. 2 levels exist; you tried to drop 2.",
     "output_type": "error",
     "traceback": [
      "\u001b[0;31m---------------------------------------------------------------------------\u001b[0m",
      "\u001b[0;31mInvalidParameterError\u001b[0m                     Traceback (most recent call last)",
      "\u001b[0;32m<ipython-input-15-c35bd43afae0>\u001b[0m in \u001b[0;36m<module>\u001b[0;34m\u001b[0m\n\u001b[0;32m----> 1\u001b[0;31m \u001b[0mfdf\u001b[0m \u001b[0;34m=\u001b[0m \u001b[0mget_flag_df\u001b[0m\u001b[0;34m(\u001b[0m\u001b[0momics\u001b[0m\u001b[0;34m,\u001b[0m \u001b[0mendo\u001b[0m\u001b[0;34m,\u001b[0m \u001b[0mdup_list\u001b[0m\u001b[0;34m)\u001b[0m\u001b[0;34m\u001b[0m\u001b[0;34m\u001b[0m\u001b[0m\n\u001b[0m\u001b[1;32m      2\u001b[0m \u001b[0mfdf\u001b[0m\u001b[0;34m\u001b[0m\u001b[0;34m\u001b[0m\u001b[0m\n",
      "\u001b[0;32m<ipython-input-5-b2b0f2ee8e36>\u001b[0m in \u001b[0;36mget_flag_df\u001b[0;34m(omics_name, ca, dup_list)\u001b[0m\n\u001b[1;32m     18\u001b[0m             \u001b[0mdf\u001b[0m \u001b[0;34m=\u001b[0m \u001b[0mut\u001b[0m\u001b[0;34m.\u001b[0m\u001b[0mreduce_multiindex\u001b[0m\u001b[0;34m(\u001b[0m\u001b[0mdf\u001b[0m\u001b[0;34m,\u001b[0m \u001b[0mlevels_to_drop\u001b[0m \u001b[0;34m=\u001b[0m \u001b[0;34m[\u001b[0m\u001b[0;34m'Database_ID'\u001b[0m\u001b[0;34m]\u001b[0m\u001b[0;34m)\u001b[0m\u001b[0;34m\u001b[0m\u001b[0;34m\u001b[0m\u001b[0m\n\u001b[1;32m     19\u001b[0m         \u001b[0;32melse\u001b[0m\u001b[0;34m:\u001b[0m \u001b[0;31m# phospho and acetyl\u001b[0m\u001b[0;34m\u001b[0m\u001b[0;34m\u001b[0m\u001b[0m\n\u001b[0;32m---> 20\u001b[0;31m             \u001b[0mdf\u001b[0m \u001b[0;34m=\u001b[0m \u001b[0mut\u001b[0m\u001b[0;34m.\u001b[0m\u001b[0mreduce_multiindex\u001b[0m\u001b[0;34m(\u001b[0m\u001b[0mdf\u001b[0m\u001b[0;34m,\u001b[0m \u001b[0mlevels_to_drop\u001b[0m \u001b[0;34m=\u001b[0m \u001b[0;34m[\u001b[0m\u001b[0;34m'Peptide'\u001b[0m\u001b[0;34m,\u001b[0m \u001b[0;34m'Database_ID'\u001b[0m\u001b[0;34m]\u001b[0m\u001b[0;34m,\u001b[0m \u001b[0mflatten\u001b[0m \u001b[0;34m=\u001b[0m \u001b[0;32mTrue\u001b[0m\u001b[0;34m)\u001b[0m\u001b[0;34m\u001b[0m\u001b[0;34m\u001b[0m\u001b[0m\n\u001b[0m\u001b[1;32m     21\u001b[0m         \u001b[0mdf\u001b[0m \u001b[0;34m=\u001b[0m \u001b[0mdf\u001b[0m\u001b[0;34m.\u001b[0m\u001b[0mloc\u001b[0m\u001b[0;34m[\u001b[0m\u001b[0;34m:\u001b[0m\u001b[0;34m,\u001b[0m\u001b[0;34m~\u001b[0m\u001b[0mdf\u001b[0m\u001b[0;34m.\u001b[0m\u001b[0mcolumns\u001b[0m\u001b[0;34m.\u001b[0m\u001b[0mduplicated\u001b[0m\u001b[0;34m(\u001b[0m\u001b[0;34m)\u001b[0m\u001b[0;34m]\u001b[0m \u001b[0;31m# drop all duplicate prot or sites (dup once database ID dropped)\u001b[0m\u001b[0;34m\u001b[0m\u001b[0;34m\u001b[0m\u001b[0m\n\u001b[1;32m     22\u001b[0m     \u001b[0mfdf\u001b[0m \u001b[0;34m=\u001b[0m \u001b[0mdf\u001b[0m\u001b[0;34m.\u001b[0m\u001b[0mT\u001b[0m\u001b[0;34m\u001b[0m\u001b[0;34m\u001b[0m\u001b[0m\n",
      "\u001b[0;32m~/anaconda3/lib/python3.8/site-packages/cptac/utils/other_utils.py\u001b[0m in \u001b[0;36mreduce_multiindex\u001b[0;34m(df, levels_to_drop, flatten, sep, tuples, quiet)\u001b[0m\n\u001b[1;32m    170\u001b[0m         \u001b[0mto_drop_len\u001b[0m \u001b[0;34m=\u001b[0m \u001b[0mlen\u001b[0m\u001b[0;34m(\u001b[0m\u001b[0mlevels_to_drop\u001b[0m\u001b[0;34m)\u001b[0m\u001b[0;34m\u001b[0m\u001b[0;34m\u001b[0m\u001b[0m\n\u001b[1;32m    171\u001b[0m         \u001b[0;32mif\u001b[0m \u001b[0mto_drop_len\u001b[0m \u001b[0;34m>=\u001b[0m \u001b[0mexisting_len\u001b[0m\u001b[0;34m:\u001b[0m\u001b[0;34m\u001b[0m\u001b[0;34m\u001b[0m\u001b[0m\n\u001b[0;32m--> 172\u001b[0;31m             \u001b[0;32mraise\u001b[0m \u001b[0mInvalidParameterError\u001b[0m\u001b[0;34m(\u001b[0m\u001b[0;34mf\"You tried to drop too many levels from the dataframe column index. The most levels you can drop is one less than however many exist. {existing_len} levels exist; you tried to drop {to_drop_len}.\"\u001b[0m\u001b[0;34m)\u001b[0m\u001b[0;34m\u001b[0m\u001b[0;34m\u001b[0m\u001b[0m\n\u001b[0m\u001b[1;32m    173\u001b[0m \u001b[0;34m\u001b[0m\u001b[0m\n\u001b[1;32m    174\u001b[0m         \u001b[0;31m# Check that the levels they want to drop all exist\u001b[0m\u001b[0;34m\u001b[0m\u001b[0;34m\u001b[0m\u001b[0;34m\u001b[0m\u001b[0m\n",
      "\u001b[0;31mInvalidParameterError\u001b[0m: You tried to drop too many levels from the dataframe column index. The most levels you can drop is one less than however many exist. 2 levels exist; you tried to drop 2."
     ]
    }
   ],
   "source": [
    "fdf = get_flag_df(omics, endo, dup_list)\n",
    "fdf"
   ]
  },
  {
   "cell_type": "code",
   "execution_count": 10,
   "id": "f71dffd2",
   "metadata": {},
   "outputs": [
    {
     "data": {
      "text/html": [
       "<div>\n",
       "<style scoped>\n",
       "    .dataframe tbody tr th:only-of-type {\n",
       "        vertical-align: middle;\n",
       "    }\n",
       "\n",
       "    .dataframe tbody tr th {\n",
       "        vertical-align: top;\n",
       "    }\n",
       "\n",
       "    .dataframe thead th {\n",
       "        text-align: right;\n",
       "    }\n",
       "</style>\n",
       "<table border=\"1\" class=\"dataframe\">\n",
       "  <thead>\n",
       "    <tr style=\"text-align: right;\">\n",
       "      <th>Patient_ID</th>\n",
       "      <th>C3N-01825_flagship</th>\n",
       "      <th>C3N-01825</th>\n",
       "      <th>C3N-01825_1</th>\n",
       "    </tr>\n",
       "    <tr>\n",
       "      <th>Name</th>\n",
       "      <th></th>\n",
       "      <th></th>\n",
       "      <th></th>\n",
       "    </tr>\n",
       "  </thead>\n",
       "  <tbody>\n",
       "    <tr>\n",
       "      <th>A1BG</th>\n",
       "      <td>0.69200</td>\n",
       "      <td>0.252573</td>\n",
       "      <td>0.413379</td>\n",
       "    </tr>\n",
       "    <tr>\n",
       "      <th>A2M</th>\n",
       "      <td>0.58900</td>\n",
       "      <td>0.366876</td>\n",
       "      <td>0.505486</td>\n",
       "    </tr>\n",
       "    <tr>\n",
       "      <th>A2ML1</th>\n",
       "      <td>0.58700</td>\n",
       "      <td>0.027388</td>\n",
       "      <td>-1.110297</td>\n",
       "    </tr>\n",
       "    <tr>\n",
       "      <th>A4GALT</th>\n",
       "      <td>NaN</td>\n",
       "      <td>NaN</td>\n",
       "      <td>-0.215459</td>\n",
       "    </tr>\n",
       "    <tr>\n",
       "      <th>AAAS</th>\n",
       "      <td>-0.08350</td>\n",
       "      <td>-0.020584</td>\n",
       "      <td>-0.044309</td>\n",
       "    </tr>\n",
       "    <tr>\n",
       "      <th>...</th>\n",
       "      <td>...</td>\n",
       "      <td>...</td>\n",
       "      <td>...</td>\n",
       "    </tr>\n",
       "    <tr>\n",
       "      <th>ZWINT</th>\n",
       "      <td>0.14700</td>\n",
       "      <td>0.174644</td>\n",
       "      <td>1.169248</td>\n",
       "    </tr>\n",
       "    <tr>\n",
       "      <th>ZXDC</th>\n",
       "      <td>-0.11400</td>\n",
       "      <td>-0.085205</td>\n",
       "      <td>0.833672</td>\n",
       "    </tr>\n",
       "    <tr>\n",
       "      <th>ZYG11B</th>\n",
       "      <td>0.13700</td>\n",
       "      <td>0.173780</td>\n",
       "      <td>0.420749</td>\n",
       "    </tr>\n",
       "    <tr>\n",
       "      <th>ZYX</th>\n",
       "      <td>1.24000</td>\n",
       "      <td>0.608177</td>\n",
       "      <td>1.226607</td>\n",
       "    </tr>\n",
       "    <tr>\n",
       "      <th>ZZEF1</th>\n",
       "      <td>0.00682</td>\n",
       "      <td>-0.013234</td>\n",
       "      <td>0.087087</td>\n",
       "    </tr>\n",
       "  </tbody>\n",
       "</table>\n",
       "<p>10376 rows × 3 columns</p>\n",
       "</div>"
      ],
      "text/plain": [
       "Patient_ID  C3N-01825_flagship  C3N-01825  C3N-01825_1\n",
       "Name                                                  \n",
       "A1BG                   0.69200   0.252573     0.413379\n",
       "A2M                    0.58900   0.366876     0.505486\n",
       "A2ML1                  0.58700   0.027388    -1.110297\n",
       "A4GALT                     NaN        NaN    -0.215459\n",
       "AAAS                  -0.08350  -0.020584    -0.044309\n",
       "...                        ...        ...          ...\n",
       "ZWINT                  0.14700   0.174644     1.169248\n",
       "ZXDC                  -0.11400  -0.085205     0.833672\n",
       "ZYG11B                 0.13700   0.173780     0.420749\n",
       "ZYX                    1.24000   0.608177     1.226607\n",
       "ZZEF1                  0.00682  -0.013234     0.087087\n",
       "\n",
       "[10376 rows x 3 columns]"
      ]
     },
     "execution_count": 10,
     "metadata": {},
     "output_type": "execute_result"
    }
   ],
   "source": [
    "both = fdf.join(pcdf, how = 'inner')\n",
    "both.head()\n",
    "both"
   ]
  },
  {
   "cell_type": "code",
   "execution_count": 12,
   "id": "25f88e48",
   "metadata": {},
   "outputs": [
    {
     "name": "stdout",
     "output_type": "stream",
     "text": [
      "prot\n",
      "['C3N-01825', 'C3N-01825_1']\n"
     ]
    },
    {
     "data": {
      "image/png": "[encoded data removed]",
      "text/plain": [
       "<Figure size 360x360 with 1 Axes>"
      ]
     },
     "metadata": {},
     "output_type": "display_data"
    },
    {
     "data": {
      "image/png": "[encoded data removed]",
      "text/plain": [
       "<Figure size 360x360 with 1 Axes>"
      ]
     },
     "metadata": {},
     "output_type": "display_data"
    }
   ],
   "source": [
    "print(omics)\n",
    "for col in both.columns:\n",
    "    both[col] = pd.to_numeric(both[col])  \n",
    "\n",
    "wrap_lin_reg(both, dup_list, y_lab = 'umich')"
   ]
  },
  {
   "cell_type": "code",
   "execution_count": 13,
   "id": "dc130bbc",
   "metadata": {},
   "outputs": [
    {
     "name": "stdout",
     "output_type": "stream",
     "text": [
      "prot\n"
     ]
    },
    {
     "data": {
      "text/html": [
       "<div>\n",
       "<style scoped>\n",
       "    .dataframe tbody tr th:only-of-type {\n",
       "        vertical-align: middle;\n",
       "    }\n",
       "\n",
       "    .dataframe tbody tr th {\n",
       "        vertical-align: top;\n",
       "    }\n",
       "\n",
       "    .dataframe thead th {\n",
       "        text-align: right;\n",
       "    }\n",
       "</style>\n",
       "<table border=\"1\" class=\"dataframe\">\n",
       "  <thead>\n",
       "    <tr style=\"text-align: right;\">\n",
       "      <th></th>\n",
       "      <th>Comparison</th>\n",
       "      <th>Correlation</th>\n",
       "      <th>P_value</th>\n",
       "    </tr>\n",
       "  </thead>\n",
       "  <tbody>\n",
       "    <tr>\n",
       "      <th>0</th>\n",
       "      <td>C3N-01825</td>\n",
       "      <td>0.725436</td>\n",
       "      <td>0.0</td>\n",
       "    </tr>\n",
       "    <tr>\n",
       "      <th>0</th>\n",
       "      <td>C3N-01825_1</td>\n",
       "      <td>0.542412</td>\n",
       "      <td>0.0</td>\n",
       "    </tr>\n",
       "  </tbody>\n",
       "</table>\n",
       "</div>"
      ],
      "text/plain": [
       "    Comparison  Correlation  P_value\n",
       "0    C3N-01825     0.725436      0.0\n",
       "0  C3N-01825_1     0.542412      0.0"
      ]
     },
     "execution_count": 13,
     "metadata": {},
     "output_type": "execute_result"
    }
   ],
   "source": [
    "print(omics)\n",
    "get_corr(both, dup_list)"
   ]
  },
  {
   "cell_type": "code",
   "execution_count": null,
   "id": "6a2a4ed0",
   "metadata": {},
   "outputs": [],
   "source": []
  }
 ],
 "metadata": {
  "kernelspec": {
   "display_name": "Python 3",
   "language": "python",
   "name": "python3"
  },
  "language_info": {
   "codemirror_mode": {
    "name": "ipython",
    "version": 3
   },
   "file_extension": ".py",
   "mimetype": "text/x-python",
   "name": "python",
   "nbconvert_exporter": "python",
   "pygments_lexer": "ipython3",
   "version": "3.8.10"
  }
 },
 "nbformat": 4,
 "nbformat_minor": 5
}
