{
 "cells": [
  {
   "cell_type": "code",
   "execution_count": 1,
   "id": "digital-perth",
   "metadata": {},
   "outputs": [],
   "source": [
    "import pandas as pd\n",
    "import numpy as np\n",
    "import cptac\n",
    "import cptac.pancan as pc\n",
    "import scipy.stats\n",
    "import seaborn as sns\n",
    "\n",
    "import plot_utils as p\n",
    "import cptac.utils as ut"
   ]
  },
  {
   "cell_type": "code",
   "execution_count": null,
   "id": "selective-wedding",
   "metadata": {},
   "outputs": [],
   "source": [
    "def rename_duplicate_cols(df):\n",
    "    cols = pd.Series(df.columns[:])\n",
    "\n",
    "    for dup in cols[cols.duplicated()].unique(): \n",
    "        cols[cols[cols == dup].index.values.tolist()] = [dup + '_' + str(i) if i != 0 else dup for i in range(sum(cols == dup))]\n",
    "\n",
    "    # rename the columns with the cols list.\n",
    "    df.columns=cols\n",
    "    return df"
   ]
  },
  {
   "cell_type": "code",
   "execution_count": null,
   "id": "733b3318",
   "metadata": {},
   "outputs": [],
   "source": [
    "def get_corr(df, dup_list):\n",
    "    \n",
    "    \n",
    "    new = pd.DataFrame()\n",
    "    \n",
    "    for i in dup_list:\n",
    "        ids = df.columns[df.columns.str.contains(i)].to_list()\n",
    "        ids.remove(i+'_flagship')\n",
    "        flag = i+'_flagship'\n",
    "        \n",
    "        for  ali in ids:\n",
    "            test_df = both[[flag, ali]].dropna() # only plots if value for both flagship and panan\n",
    "            # Create df with correlations\n",
    "            first = p.wrap_pearson_corr(test_df, flag)\n",
    "            new = new.append(first)\n",
    "    return new"
   ]
  },
  {
   "cell_type": "code",
   "execution_count": null,
   "id": "349732d9",
   "metadata": {},
   "outputs": [],
   "source": [
    "# correlation analysis: compares flagship values to duplicates in pancan\n",
    "# df is df with both flagship and pancan values (flagship marked as '_flagship')\n",
    "# dup_list is list of Patient IDs (without aliquots attached)\n",
    "# y_lab is which source \n",
    "\n",
    "def wrap_lin_reg(df, dup_list, y_lab, wa = True):\n",
    "    for i in dup_list:\n",
    "        try:\n",
    "            if wa == True:\n",
    "                if '.N' in i:\n",
    "                    ids = df.columns[df.columns.str.contains(i)].to_list()\n",
    "                else:\n",
    "                    ids = df.columns[df.columns.str.contains(i) & ~ df.columns.str.contains('\\.N')].to_list()\n",
    "                ids.remove(i+'_flagship')\n",
    "                flag = i+'_flagship'\n",
    "            else:\n",
    "                flag = i+'_flagship'\n",
    "                ids = [i, i+'_1']           \n",
    "\n",
    "            for first in ids:\n",
    "                plot_df = both[[flag, first]].dropna(axis = 'index', how = 'any')\n",
    "                xd = plot_df[flag].min() + ((plot_df[flag].max() - plot_df[flag].min()) / 3) \n",
    "                yd = plot_df[first].max() +1\n",
    "\n",
    "\n",
    "                p.plot_pearson(plot_df, flag, first, x_coor = xd, y_coor = yd, y_label = first+'_pdc',\n",
    "                       hue = \"none\", title = \"\", ra_stats = True,\n",
    "                       show_plot = True)\n",
    "        except:\n",
    "            continue"
   ]
  },
  {
   "cell_type": "code",
   "execution_count": null,
   "id": "44b17937",
   "metadata": {},
   "outputs": [],
   "source": [
    "def get_flag_df(omics_name, ca, dup_list):\n",
    "    if omics_name == 'prot':\n",
    "        df = ca.get_proteomics()\n",
    "    \n",
    "    elif omics_name == 'phospho':\n",
    "        df = ca.get_phosphoproteomics()\n",
    "        \n",
    "    elif omics_name == 'acetyl':\n",
    "        df = ca.get_acetylproteomics()\n",
    "        \n",
    "    if ca.get_cancer_type() == 'brca':\n",
    "        df.index = [x[1:] if x[0] == 'X' else x for x in df.index]\n",
    "\n",
    "    df = df.loc[df.index.isin(dup_list)]\n",
    "    df.index = df.index+'_flagship'\n",
    "    if isinstance(df.keys(), pd.core.indexes.multi.MultiIndex):\n",
    "        if omics_name == 'prot':\n",
    "            df = ut.reduce_multiindex(df, levels_to_drop = ['Database_ID'])\n",
    "        else: # phospho and acetyl\n",
    "            df = ut.reduce_multiindex(df, levels_to_drop = ['Peptide', 'Database_ID'], flatten = True)\n",
    "        df = df.loc[:,~df.columns.duplicated()] # drop all duplicate prot or sites (dup once database ID dropped)\n",
    "    fdf = df.T\n",
    "    \n",
    "    if ca.get_cancer_type() == 'luad' and omics_name == 'phospho':\n",
    "        # capitalize AA sites \n",
    "        fdf.index = fdf.index.str.upper()\n",
    "    \n",
    "    return fdf     "
   ]
  },
  {
   "cell_type": "code",
   "execution_count": null,
   "id": "cc56a63c",
   "metadata": {},
   "outputs": [],
   "source": [
    "def get_pc_df(omics_name, ca_obj, source_name, dup_list = [], with_aliquots = True):\n",
    "    if omics_name == 'prot':\n",
    "        df = ca_obj.get_proteomics(source_name)\n",
    "    \n",
    "    elif omics_name == 'phospho':\n",
    "        df = ca_obj.get_phosphoproteomics(source_name)\n",
    "        \n",
    "    elif omics_name == 'acetyl':\n",
    "        df = ca_obj.get_acetylproteomics(source_name)\n",
    "        \n",
    "    \n",
    "    if with_aliquots == False:\n",
    "        df = df.loc[df.index.duplicated(keep = False)]\n",
    "        if omics_name != 'prot':\n",
    "            df = ut.reduce_multiindex(df, levels_to_drop=[2], flatten = True)\n",
    "            df = df.loc[:,~df.columns.duplicated()]\n",
    "        df = df.T\n",
    "        df = df.drop(['aliquot_submitter_id', 'case_submitter_id'])\n",
    "    \n",
    "    # When using aliquots, pass in a list of patient_IDs\n",
    "    else:\n",
    "        df = df.reset_index()\n",
    "        if omics_name != 'prot':\n",
    "            df = ut.reduce_multiindex(df, levels_to_drop=[2], flatten = True)\n",
    "            df = df.loc[:,~df.columns.duplicated()]\n",
    "        # brca wasn't mapped (no .N) so use case_submitter_id\n",
    "        if ca_obj.get_cancer_type() == 'pancanbrca': \n",
    "            df = df.loc[df.case_submitter_id.isin(dup_list)] # test with 21BR010 -> only 1 aliquot but part of 18 IDs with normal\n",
    "            to_drop = ['case_submitter_id', 'aliquot_submitter_id']\n",
    "            \n",
    "        # luad and hnscc were mapped so use Patient_ID\n",
    "        else: \n",
    "            df = df.loc[df.Patient_ID.isin(dup_list)]\n",
    "            to_drop = ['case_submitter_id', 'aliquot_submitter_id', 'Patient_ID']\n",
    "        df.index = df.case_submitter_id+'_'+df.aliquot_submitter_id\n",
    "        df = df.T\n",
    "        df = df.drop(to_drop)\n",
    "    \n",
    "    df.index = df.index.str.upper()   \n",
    "    df = rename_duplicate_cols(df)\n",
    "        \n",
    "    return df"
   ]
  },
  {
   "cell_type": "code",
   "execution_count": null,
   "id": "583eb56a",
   "metadata": {},
   "outputs": [],
   "source": [
    "pdc=pc.PancanPdac()\n"
   ]
  },
  {
   "cell_type": "code",
   "execution_count": 2,
   "id": "b9bfecb3",
   "metadata": {},
   "outputs": [
    {
     "name": "stdout",
     "output_type": "stream",
     "text": [
      "                                               \r"
     ]
    }
   ],
   "source": [
    "h=pc.PancanHnscc()"
   ]
  },
  {
   "cell_type": "code",
   "execution_count": 12,
   "id": "07f00115",
   "metadata": {},
   "outputs": [
    {
     "data": {
      "text/plain": [
       "['C3L-00977',\n",
       " 'C3L-00987',\n",
       " 'C3L-00994',\n",
       " 'C3L-00995',\n",
       " 'C3L-00997',\n",
       " 'C3L-00999',\n",
       " 'C3L-01138',\n",
       " 'C3L-01237',\n",
       " 'C3L-02617',\n",
       " 'C3L-02621',\n",
       " 'C3L-02651',\n",
       " 'C3L-03378',\n",
       " 'C3L-04025',\n",
       " 'C3L-04354',\n",
       " 'C3L-04791',\n",
       " 'C3L-04844',\n",
       " 'C3L-04849',\n",
       " 'C3N-00204',\n",
       " 'C3N-00295',\n",
       " 'C3N-00297',\n",
       " 'C3N-00299',\n",
       " 'C3N-00306',\n",
       " 'C3N-00307',\n",
       " 'C3N-00498',\n",
       " 'C3N-00519',\n",
       " 'C3N-00822',\n",
       " 'C3N-00825',\n",
       " 'C3N-00828',\n",
       " 'C3N-00829',\n",
       " 'C3N-00846',\n",
       " 'C3N-00857',\n",
       " 'C3N-00871',\n",
       " 'C3N-01337',\n",
       " 'C3N-01338',\n",
       " 'C3N-01339',\n",
       " 'C3N-01340',\n",
       " 'C3N-01620',\n",
       " 'C3N-01643',\n",
       " 'C3N-01645',\n",
       " 'C3N-01752',\n",
       " 'C3N-01754',\n",
       " 'C3N-01755',\n",
       " 'C3N-01756',\n",
       " 'C3N-01757',\n",
       " 'C3N-01758',\n",
       " 'C3N-01858',\n",
       " 'C3N-01859',\n",
       " 'C3N-01943',\n",
       " 'C3N-01944',\n",
       " 'C3N-01945',\n",
       " 'C3N-01946',\n",
       " 'C3N-01947',\n",
       " 'C3N-01948',\n",
       " 'C3N-02275',\n",
       " 'C3N-02279',\n",
       " 'C3N-02333',\n",
       " 'C3N-02693',\n",
       " 'C3N-02694',\n",
       " 'C3N-02695',\n",
       " 'C3N-02700',\n",
       " 'C3N-02713',\n",
       " 'C3N-02714',\n",
       " 'C3N-02716',\n",
       " 'C3N-02727',\n",
       " 'C3N-02730',\n",
       " 'C3N-02925',\n",
       " 'C3N-03008',\n",
       " 'C3N-03009',\n",
       " 'C3N-03011',\n",
       " 'C3N-03012',\n",
       " 'C3N-03013',\n",
       " 'C3N-03015',\n",
       " 'C3N-03027',\n",
       " 'C3N-03028',\n",
       " 'C3N-03042',\n",
       " 'C3N-03045',\n",
       " 'C3N-03226',\n",
       " 'C3N-03433',\n",
       " 'C3N-03456',\n",
       " 'C3N-03457',\n",
       " 'C3N-03458',\n",
       " 'C3N-03487',\n",
       " 'C3N-03488',\n",
       " 'C3N-03490',\n",
       " 'C3N-03612',\n",
       " 'C3N-03619',\n",
       " 'C3N-03620',\n",
       " 'C3N-03664',\n",
       " 'C3N-03781',\n",
       " 'C3N-03782',\n",
       " 'C3N-03783',\n",
       " 'C3N-03785',\n",
       " 'C3N-03837',\n",
       " 'C3N-03841',\n",
       " 'C3N-03849',\n",
       " 'C3N-03876',\n",
       " 'C3N-03878',\n",
       " 'C3N-03888',\n",
       " 'C3N-03889',\n",
       " 'C3N-03928',\n",
       " 'C3N-03933',\n",
       " 'C3N-04152',\n",
       " 'C3N-04273',\n",
       " 'C3N-04275',\n",
       " 'C3N-04276',\n",
       " 'C3N-04277',\n",
       " 'C3N-04278',\n",
       " 'C3N-04279',\n",
       " 'C3N-04280',\n",
       " 'C3N-04611',\n",
       " 'C3L-00994.N',\n",
       " 'C3L-00995.N',\n",
       " 'C3L-00997.N',\n",
       " 'C3L-00999.N',\n",
       " 'C3L-01138.N',\n",
       " 'C3L-01237.N',\n",
       " 'C3L-02617.N',\n",
       " 'C3L-02621.N',\n",
       " 'C3L-02651.N',\n",
       " 'C3L-03378.N',\n",
       " 'C3L-04350.N',\n",
       " 'C3L-04354.N',\n",
       " 'C3L-04844.N',\n",
       " 'C3L-05257.N',\n",
       " 'C3N-00204.N',\n",
       " 'C3N-00295.N',\n",
       " 'C3N-00306.N',\n",
       " 'C3N-00307.N',\n",
       " 'C3N-00498.N',\n",
       " 'C3N-00519.N',\n",
       " 'C3N-00829.N',\n",
       " 'C3N-00857.N',\n",
       " 'C3N-01337.N',\n",
       " 'C3N-01338.N',\n",
       " 'C3N-01340.N',\n",
       " 'C3N-01620.N',\n",
       " 'C3N-01645.N',\n",
       " 'C3N-01754.N',\n",
       " 'C3N-01756.N',\n",
       " 'C3N-01757.N',\n",
       " 'C3N-01758.N',\n",
       " 'C3N-01858.N',\n",
       " 'C3N-01859.N',\n",
       " 'C3N-01943.N',\n",
       " 'C3N-01944.N',\n",
       " 'C3N-01946.N',\n",
       " 'C3N-01947.N',\n",
       " 'C3N-02275.N',\n",
       " 'C3N-02279.N',\n",
       " 'C3N-02693.N',\n",
       " 'C3N-02713.N',\n",
       " 'C3N-02714.N',\n",
       " 'C3N-03008.N',\n",
       " 'C3N-03011.N',\n",
       " 'C3N-03012.N',\n",
       " 'C3N-03013.N',\n",
       " 'C3N-03015.N',\n",
       " 'C3N-03027.N',\n",
       " 'C3N-03028.N',\n",
       " 'C3N-03042.N',\n",
       " 'C3N-03045.N',\n",
       " 'C3N-03488.N',\n",
       " 'C3N-03490.N',\n",
       " 'C3N-03612.N',\n",
       " 'C3N-03619.N',\n",
       " 'C3N-03620.N',\n",
       " 'C3N-03781.N',\n",
       " 'C3N-03837.N',\n",
       " 'C3N-03841.N',\n",
       " 'C3N-03849.N',\n",
       " 'C3N-03876.N',\n",
       " 'C3N-03878.N',\n",
       " 'C3N-03888.N',\n",
       " 'C3N-03928.N',\n",
       " 'C3N-03933.N',\n",
       " 'C3N-04275.N',\n",
       " 'C3N-04276.N',\n",
       " 'C3N-04277.N',\n",
       " 'C3N-04278.N',\n",
       " 'C3N-04279.N']"
      ]
     },
     "execution_count": 12,
     "metadata": {},
     "output_type": "execute_result"
    }
   ],
   "source": [
    "p=h.get_phosphoproteomics('pdc')\n",
    "p.index.to_list()"
   ]
  },
  {
   "cell_type": "code",
   "execution_count": 7,
   "id": "f989a93f",
   "metadata": {},
   "outputs": [
    {
     "data": {
      "text/html": [
       "<div>\n",
       "<style scoped>\n",
       "    .dataframe tbody tr th:only-of-type {\n",
       "        vertical-align: middle;\n",
       "    }\n",
       "\n",
       "    .dataframe tbody tr th {\n",
       "        vertical-align: top;\n",
       "    }\n",
       "\n",
       "    .dataframe thead th {\n",
       "        text-align: right;\n",
       "    }\n",
       "</style>\n",
       "<table border=\"1\" class=\"dataframe\">\n",
       "  <thead>\n",
       "    <tr style=\"text-align: right;\">\n",
       "      <th></th>\n",
       "      <th>A1BG</th>\n",
       "      <th>A2M</th>\n",
       "      <th>A2ML1</th>\n",
       "      <th>A4GALT</th>\n",
       "      <th>AAAS</th>\n",
       "      <th>AACS</th>\n",
       "      <th>AADAC</th>\n",
       "      <th>AADAT</th>\n",
       "      <th>AAGAB</th>\n",
       "      <th>AAK1</th>\n",
       "      <th>...</th>\n",
       "      <th>ZSCAN25</th>\n",
       "      <th>ZSWIM8</th>\n",
       "      <th>ZW10</th>\n",
       "      <th>ZWILCH</th>\n",
       "      <th>ZWINT</th>\n",
       "      <th>ZXDC</th>\n",
       "      <th>ZYG11B</th>\n",
       "      <th>ZYX</th>\n",
       "      <th>ZZEF1</th>\n",
       "      <th>ZZZ3</th>\n",
       "    </tr>\n",
       "    <tr>\n",
       "      <th>Patient_ID</th>\n",
       "      <th></th>\n",
       "      <th></th>\n",
       "      <th></th>\n",
       "      <th></th>\n",
       "      <th></th>\n",
       "      <th></th>\n",
       "      <th></th>\n",
       "      <th></th>\n",
       "      <th></th>\n",
       "      <th></th>\n",
       "      <th></th>\n",
       "      <th></th>\n",
       "      <th></th>\n",
       "      <th></th>\n",
       "      <th></th>\n",
       "      <th></th>\n",
       "      <th></th>\n",
       "      <th></th>\n",
       "      <th></th>\n",
       "      <th></th>\n",
       "      <th></th>\n",
       "    </tr>\n",
       "  </thead>\n",
       "  <tbody>\n",
       "  </tbody>\n",
       "</table>\n",
       "<p>0 rows × 10250 columns</p>\n",
       "</div>"
      ],
      "text/plain": [
       "Empty DataFrame\n",
       "Columns: [A1BG, A2M, A2ML1, A4GALT, AAAS, AACS, AADAC, AADAT, AAGAB, AAK1, AAMDC, AAMP, AAR2, AARS, AARS2, AARSD1, AASDHPPT, AASS, AATF, ABAT, ABCA1, ABCA12, ABCA2, ABCA3, ABCA6, ABCA8, ABCB1, ABCB10, ABCB6, ABCB7, ABCB8, ABCC1, ABCC10, ABCC2, ABCC3, ABCC4, ABCC5, ABCD1, ABCD3, ABCD4, ABCE1, ABCF1, ABCF2, ABCF3, ABCG1, ABCG2, ABHD10, ABHD11, ABHD12, ABHD13, ABHD14B, ABHD16A, ABHD17A, ABHD17B, ABHD17C, ABHD2, ABHD3, ABHD4, ABHD5, ABHD6, ABI1, ABI2, ABI3, ABI3BP, ABL1, ABL2, ABLIM1, ABLIM2, ABLIM3, ABO, ABR, ABRACL, ABRAXAS1, ABRAXAS2, ABT1, ABTB1, ABTB2, ACAA1, ACAA2, ACACA, ACACB, ACAD10, ACAD11, ACAD8, ACAD9, ACADL, ACADM, ACADS, ACADSB, ACADVL, ACAN, ACAP1, ACAP2, ACAP3, ACAT1, ACAT2, ACBD3, ACBD5, ACBD6, ACBD7, ...]\n",
       "Index: []\n",
       "\n",
       "[0 rows x 10250 columns]"
      ]
     },
     "execution_count": 7,
     "metadata": {},
     "output_type": "execute_result"
    }
   ],
   "source": [
    "p2 = p.loc[p.index.str.contains('CPT')]\n",
    "#p2.rename(index = manually_mapped)\n",
    "p2"
   ]
  },
  {
   "cell_type": "code",
   "execution_count": null,
   "id": "38add34f",
   "metadata": {},
   "outputs": [],
   "source": [
    "pdac_manually_mapped = {'CPT0347760002': 'C3L-07032.N', 'CPT0347790002': 'C3L-07033.N',\n",
    "        'CPT0347820002': 'C3L-07034.N', 'CPT0347850002': 'C3L-07035.N', 'CPT0347880002': 'C3L-07036.N',\n",
    "        'CPT0355180003': 'C3L-03513.N', 'CPT0355190003': 'C3L-03515.N', 'CPT0355200003': 'C3L-03514.N'}"
   ]
  },
  {
   "cell_type": "code",
   "execution_count": null,
   "id": "8e93f815",
   "metadata": {},
   "outputs": [],
   "source": [
    "# hnscc\n",
    "manually_mapped = {'CPT0169740004': 'C3L-00994.N', 'CPT0229220002': 'C3L-02617.N',\n",
    "            'CPT0163250003': 'C3N-01757.N', 'CPT0235470002': 'C3N-03042.N',\n",
    "            'CPT0278700002': 'C3L-04350.N', 'CPT0281470002':'C3L-05257.N'}"
   ]
  },
  {
   "cell_type": "code",
   "execution_count": null,
   "id": "79596f42",
   "metadata": {},
   "outputs": [],
   "source": [
    "# 2 aliquots not in biospec file (don't know tissue type)\n",
    "#['CPT0278700002': 'C3L-04350', 'CPT0281470002':'C3L-05257'] "
   ]
  },
  {
   "cell_type": "markdown",
   "id": "77ba69af",
   "metadata": {},
   "source": [
    "# Brca"
   ]
  },
  {
   "cell_type": "code",
   "execution_count": null,
   "id": "548a00b7",
   "metadata": {},
   "outputs": [],
   "source": [
    "b = pc.PancanBrca()\n",
    "brca = cptac.Brca(version='3.1.1')"
   ]
  },
  {
   "cell_type": "code",
   "execution_count": null,
   "id": "32b47e96",
   "metadata": {},
   "outputs": [],
   "source": [
    "# show which omics has duplicates\n",
    "ca = b\n",
    "source_name = 'pdc'\n",
    "prot = ca.get_proteomics(source_name)\n",
    "phos = ca.get_phosphoproteomics(source_name)\n",
    "acetyl = ca.get_acetylproteomics(source_name)\n",
    "print('prot:', set(prot.index.duplicated()), len(prot.index[prot.index.duplicated()]), 'duplicates')\n",
    "print('phospho:', set(phos.index.duplicated()), len(phos.index[phos.index.duplicated()]), 'duplicates')\n",
    "print('acetyl:', set(acetyl.index.duplicated()), len(acetyl.index[acetyl.index.duplicated()]), 'duplicates')"
   ]
  },
  {
   "cell_type": "code",
   "execution_count": null,
   "id": "85eac89a",
   "metadata": {},
   "outputs": [],
   "source": [
    "# From prosp-brca-all-samples.txt\n",
    "rep = ['11BR031', '11BR053', '11BR036', '11BR060', '14BR005', '11BR011', '21BR010'] # 2 replicates for 11BR036\n",
    "\n",
    "norm = ['11BR074', '11BR073', '20BR007', '21BR010', '11BR017', '05BR029', '18BR003', '11BR030',\n",
    "        '01BR027','11BR025', '11BR047', '11BR028', '11BR020', '20BR008', '11BR024', '11BR023',\n",
    "        '11BR015', '11BR006']\n",
    "\n",
    "print('IDs with replicates (all tumor):', len(rep))\n",
    "print('IDs with a normal sample taken:', len(norm))"
   ]
  },
  {
   "cell_type": "markdown",
   "id": "8508ad81",
   "metadata": {},
   "source": [
    "Comment out everything except line with map_database_to_gene_pdc function in PdcBrca.py formatting section in order to use below code."
   ]
  },
  {
   "cell_type": "code",
   "execution_count": null,
   "id": "253bb863",
   "metadata": {},
   "outputs": [],
   "source": [
    "#example:\n",
    "'''\n",
    "phos = self._data[\"phosphoproteomics\"]\n",
    "#phos = phos.drop(drop_aliquots, level = 'aliquot_submitter_id') # drop normal aliquots (QC issues)\n",
    "#phos = phos.rename(index={'604':'CPT000814'}) # use the aliquot for 604\n",
    "#phos.index = phos.index.droplevel('aliquot_submitter_id')\n",
    "#phos = rename_duplicate_labels(phos, 'index') # give replicates unique names (checked that only replicates remain)\n",
    "#phos = average_replicates(phos, id_list = replicates) # average replicates\n",
    "phos = map_database_to_gene_pdc(phos, 'refseq') # Map refseq IDs to gene names\n",
    "self._data[\"phosphoproteomics\"] = phos'''"
   ]
  },
  {
   "cell_type": "code",
   "execution_count": null,
   "id": "7762f733",
   "metadata": {},
   "outputs": [],
   "source": [
    "#omics = 'prot'\n",
    "#omics = 'phospho'\n",
    "omics = 'acetyl' # needs work\n",
    "nr_list = norm # choose norm or rep\n",
    "pcdf = get_pc_df(omics, b, 'pdc', dup_list = nr_list, with_aliquots = True)\n",
    "pcdf"
   ]
  },
  {
   "cell_type": "code",
   "execution_count": null,
   "id": "b213cd28",
   "metadata": {},
   "outputs": [],
   "source": [
    "fdf = get_flag_df(omics, brca, nr_list)\n",
    "fdf"
   ]
  },
  {
   "cell_type": "code",
   "execution_count": null,
   "id": "c030b01d",
   "metadata": {},
   "outputs": [],
   "source": [
    "both = fdf.join(pcdf, how = 'inner')\n",
    "both = both.dropna(axis = 1, how = 'all')\n",
    "both"
   ]
  },
  {
   "cell_type": "code",
   "execution_count": null,
   "id": "6583a65c",
   "metadata": {},
   "outputs": [],
   "source": [
    "# TypeError: arg must be a list, tuple, 1-d array, or Series\n",
    "# can occur if column contains on NaN (like with PDC phospho for brca)\n",
    "for col in both.columns:\n",
    "    both[col] = pd.to_numeric(both[col])  "
   ]
  },
  {
   "cell_type": "code",
   "execution_count": null,
   "id": "aafaca2e",
   "metadata": {},
   "outputs": [],
   "source": [
    "wrap_lin_reg(both, nr_list, y_lab = source_name)"
   ]
  },
  {
   "cell_type": "code",
   "execution_count": null,
   "id": "080a6ac0",
   "metadata": {},
   "outputs": [],
   "source": [
    "print(omics)\n",
    "get_corr(both, nr_list)"
   ]
  },
  {
   "cell_type": "code",
   "execution_count": null,
   "id": "c02f0929",
   "metadata": {},
   "outputs": [],
   "source": [
    "# Check the aliquots we dropped were normal samples using the biospecimen manifest for Brca proteomics on the PDC website.\n",
    "pdc_prot = pd.read_csv('../../../../Downloads/PDC_biospecimen_manifest_proteomics.tsv', sep='\\t')\n",
    "df = pdc_prot[['Case Submitter ID', 'Aliquot Submitter ID', 'Sample Type', 'Project Name']]\n",
    "df = df.loc[df['Project Name'] == 'CPTAC2 Confirmatory']\n",
    "prot_norm = df.loc[df['Sample Type'] == 'Solid Tissue Normal']\n",
    "pdc_prot = prot_norm['Aliquot Submitter ID'].to_list()\n",
    "pdc_prot.sort()\n",
    "\n",
    "prot_dropped_aliquots = ['64ee175f-f3ce-446e-bbf4-9b6fa8_D1', '7ac27de9-0932-4ff5-aab8-29c527',\n",
    "            '3208e021-1dae-42fd-bd36-0f3c3d', '6c660b6b-bfda-47b0-9499-160d49','241ecd0e-89bd-4d3a-81b3-55a250',\n",
    "            '428de0d4-7f84-4075-bae1-352af6', '0a80d3c4-0758-447a-958c-ea868c', '53723086-8858-4395-93d7-0baa68',\n",
    "            '1740224c-32d1-4c9f-98c6-653363', '885fe794-a98e-4f81-a284-ac4bb8', '4749ba99-d3b8-4ae3-b6f6-458bc7',\n",
    "            '81116212-b7e6-454b-9579-105cf3', '1664b920-5e60-4e3b-9aab-fe121c', '3367406e-d39c-4641-a3e7-44e1f3',\n",
    "            'e3d45dc6-66ef-4e0b-9d96-1b5db5', '33adae13-5dbd-4530-a5d5-3763e4', 'acf022b3-7f01-43b3-ac14-86f97d',\n",
    "            '39f81c85-1832-45eb-829a-3040ad']\n",
    "\n",
    "prot_dropped_aliquots.sort()\n",
    "print('True = lists equal each other (have all aliquots)')\n",
    "prot_dropped_aliquots == pdc_prot"
   ]
  },
  {
   "cell_type": "code",
   "execution_count": null,
   "id": "88e8430d",
   "metadata": {},
   "outputs": [],
   "source": [
    "# Check the aliquots we dropped were normal samples using the biospecimen manifest for Brca acetylproteomics on the PDC website.\n",
    "pdc_acetyl = pd.read_csv('../../../../Downloads/PDC_biospecimen_manifest_acetylomics.tsv', sep='\\t')\n",
    "df = pdc_acetyl[['Case Submitter ID', 'Aliquot Submitter ID', 'Sample Type', 'Project Name']]\n",
    "df = df.loc[df['Project Name'] == 'CPTAC2 Confirmatory']\n",
    "pdc_acetyl = df.loc[df['Sample Type'] == 'Solid Tissue Normal']\n",
    "pdc_acetyl = pdc_acetyl['Aliquot Submitter ID'].to_list()\n",
    "pdc_acetyl.sort()\n",
    "\n",
    "ac_dropped_aliquots = ['3208e021-1dae-42fd-bd36-0f3c3d', '39f81c85-1832-45eb-829a-3040ad', '4749ba99-d3b8-4ae3-b6f6-458bc7',\n",
    "              '81116212-b7e6-454b-9579-105cf3', '0a80d3c4-0758-447a-958c-ea868c', '3367406e-d39c-4641-a3e7-44e1f3',\n",
    "              '241ecd0e-89bd-4d3a-81b3-55a250', '428de0d4-7f84-4075-bae1-352af6', '7ac27de9-0932-4ff5-aab8-29c527',\n",
    "              'acf022b3-7f01-43b3-ac14-86f97d', '1664b920-5e60-4e3b-9aab-fe121c', '6c660b6b-bfda-47b0-9499-160d49',\n",
    "              'e3d45dc6-66ef-4e0b-9d96-1b5db5', '64ee175f-f3ce-446e-bbf4-9b6fa8_D1', '33adae13-5dbd-4530-a5d5-3763e4',\n",
    "              '53723086-8858-4395-93d7-0baa68', '1740224c-32d1-4c9f-98c6-653363', '885fe794-a98e-4f81-a284-ac4bb8']\n",
    "ac_dropped_aliquots.sort()\n",
    "print('True = lists equal each other (have all aliquots)')\n",
    "ac_dropped_aliquots == pdc_acetyl"
   ]
  },
  {
   "cell_type": "code",
   "execution_count": null,
   "id": "2f9e8bf6",
   "metadata": {},
   "outputs": [],
   "source": [
    "# Are the normal aliquots the same between omics? Yes\n",
    "prot_dropped_aliquots == ac_dropped_aliquots"
   ]
  },
  {
   "cell_type": "markdown",
   "id": "30c46d3c",
   "metadata": {},
   "source": [
    "# Hnscc"
   ]
  },
  {
   "cell_type": "markdown",
   "id": "c83b29ad",
   "metadata": {},
   "source": [
    "Check correlation of replicates with each other (confirmed same tissue type)."
   ]
  },
  {
   "cell_type": "code",
   "execution_count": null,
   "id": "7700e1a6",
   "metadata": {},
   "outputs": [],
   "source": [
    "h = pc.PancanHnscc()\n",
    "hnscc = cptac.Hnscc()"
   ]
  },
  {
   "cell_type": "code",
   "execution_count": null,
   "id": "eca89588",
   "metadata": {},
   "outputs": [],
   "source": [
    "# show which omics has duplicates\n",
    "ca = h\n",
    "source_name = 'umich'\n",
    "prot = ca.get_proteomics(source_name)\n",
    "phos = ca.get_phosphoproteomics(source_name)\n",
    "#acetyl = ca.get_acetylproteomics(source_name) # not included in pdchnscc\n",
    "print('prot:', set(prot.index.duplicated()), list(prot.index[prot.index.duplicated()]))\n",
    "print('phospho:', set(phos.index.duplicated()), list(set(phos.index[phos.index.duplicated()])))\n",
    "#print('acetyl:', set(acetyl.index.duplicated()))"
   ]
  },
  {
   "cell_type": "code",
   "execution_count": null,
   "id": "a8c5c2b8",
   "metadata": {},
   "outputs": [],
   "source": [
    "# umich\n",
    "df = prot.reset_index()\n",
    "df = df.replace('-T-duplicate', '', regex = True)\n",
    "df = df.replace('-N-duplicate\\d?', '.N', regex = True)\n",
    "df.loc[df.Patient_ID.str.contains('duplicate')]"
   ]
  },
  {
   "cell_type": "code",
   "execution_count": null,
   "id": "074c5c8b",
   "metadata": {},
   "outputs": [],
   "source": [
    "# Keep aliquots\n",
    "df = h.get_phosphoproteomics('pdc')\n",
    "df = df.reset_index()\n",
    "df = df.loc[df.Patient_ID.duplicated(keep = False)]\n",
    "df = ut.reduce_multiindex(df, levels_to_drop = [1], flatten=True)\n",
    "df = df.loc[:,~df.columns.duplicated()] # drop all duplicate prot or sites (dup once database ID dropped)\n",
    "df.index = df.Patient_ID+'_'+df.aliquot_submitter_id # uncomment code that dropped aliquot in pancan to use\n",
    "df = df.T\n",
    "df = df.drop(['aliquot_submitter_id', 'Patient_ID','case_submitter_id'])\n",
    "pcdf = rename_duplicate_cols(df)\n",
    "pcdf.index = pcdf.index.str.upper()\n",
    "pcdf"
   ]
  },
  {
   "cell_type": "code",
   "execution_count": null,
   "id": "7e94ec16",
   "metadata": {},
   "outputs": [],
   "source": [
    "# compare correlations between pancan duplicates\n",
    "\n",
    "df = pcdf\n",
    "for col in df.columns:\n",
    "    df[col] = pd.to_numeric(df[col])  \n",
    "\n",
    "dup_list = ['C3L-02617', 'C3L-00994.N', 'C3L-02617.N'] \n",
    "\n",
    "for i in dup_list:\n",
    "    if '.N' in i:\n",
    "        dups = df.columns[df.columns.str.contains(i)].to_list()\n",
    "    else:\n",
    "        dups = df.columns[df.columns.str.contains(i) & ~ df.columns.str.contains('\\.N')].to_list()\n",
    "    \n",
    "    print(i)\n",
    "    first = dups[0]\n",
    "    second = dups[1]\n",
    "    \n",
    "    plot_df = df[[first, second]].dropna(axis = 'index', how = 'any')\n",
    "    xd = plot_df[first].min() + ((plot_df[first].max() - plot_df[first].min()) / 3) \n",
    "    yd = plot_df[second].max() + 2\n",
    "\n",
    "    p.plot_pearson(plot_df, first, second, x_coor = xd, y_coor = yd, \n",
    "           hue = \"none\", title = \"\", ra_stats = True,\n",
    "           show_plot = True)\n",
    "        \n",
    "    if len(dups) == 3:\n",
    "        third = dups[2]\n",
    "        plot_df2 = df[[second, third]].dropna(axis = 'index', how = 'any')\n",
    "        xd = plot_df2[second].min() + ((plot_df2[second].max() - plot_df2[second].min()) / 3)\n",
    "        yd = plot_df2[third].max() + 2                       \n",
    "        p.plot_pearson(plot_df2, second, third, x_coor = xd, y_coor = yd,\n",
    "               hue = \"none\", title = \"\", ra_stats = True,\n",
    "               show_plot = True)\n",
    "        \n",
    "        plot_df3 = df[[first, third]].dropna(axis = 'index', how = 'any')\n",
    "        xd = plot_df3[first].min() + ((plot_df3[first].max() - plot_df3[first].min()) / 3)\n",
    "        yd = plot_df3[third].max() + 2\n",
    "        p.plot_pearson(plot_df3, first, third, x_coor = xd, y_coor = yd,\n",
    "               hue = \"none\", title = \"\", ra_stats = True,\n",
    "               show_plot = True)"
   ]
  },
  {
   "cell_type": "code",
   "execution_count": null,
   "id": "ee818f42",
   "metadata": {},
   "outputs": [],
   "source": [
    "# Flagship\n",
    "hnscc_dup = ['C3L-02617', 'C3L-00994.N', 'C3L-02617.N']\n",
    "fdf = get_flag_df('phospho', hnscc, hnscc_dup)\n",
    "fdf"
   ]
  },
  {
   "cell_type": "code",
   "execution_count": null,
   "id": "e8f419a7",
   "metadata": {},
   "outputs": [],
   "source": [
    "both = fdf.join(pcdf, how = 'inner')\n",
    "both.head()\n",
    "both"
   ]
  },
  {
   "cell_type": "code",
   "execution_count": null,
   "id": "0fc21db6",
   "metadata": {},
   "outputs": [],
   "source": [
    "for col in both.columns:\n",
    "    both[col] = pd.to_numeric(both[col])  "
   ]
  },
  {
   "cell_type": "code",
   "execution_count": null,
   "id": "fde7a4c0",
   "metadata": {},
   "outputs": [],
   "source": [
    "# compare to flagship - doesn't correlate well\n",
    "wrap_lin_reg(both, hnscc_dup, y_lab = source_name)"
   ]
  },
  {
   "cell_type": "markdown",
   "id": "d646bd78",
   "metadata": {},
   "source": [
    "6 aliquots that didn't map"
   ]
  },
  {
   "cell_type": "code",
   "execution_count": null,
   "id": "d14b063f",
   "metadata": {},
   "outputs": [],
   "source": []
  },
  {
   "cell_type": "code",
   "execution_count": null,
   "id": "2dde8577",
   "metadata": {},
   "outputs": [],
   "source": [
    "omics = 'prot'\n",
    "#omics = 'phospho'\n",
    "#omics = 'acetyl' \n",
    "not_mapped = ['CPT0163250003', 'CPT0169740004', 'CPT0229220002', 'CPT0235470002', 'CPT0278700002', 'CPT0281470002']\n",
    "pcdf = get_pc_df(omics, h, 'pdc', dup_list = not_mapped, with_aliquots = True)\n",
    "case_ids = pcdf.columns.to_list()\n",
    "case_ids = [x[:-14] for x in case_ids]\n",
    "norm_case_ids = [x+'.N' for x in case_ids]\n",
    "cored_norm_ids = [x+'.C' for x in case_ids]"
   ]
  },
  {
   "cell_type": "code",
   "execution_count": null,
   "id": "841f588c",
   "metadata": {},
   "outputs": [],
   "source": [
    "test_ids = cored_norm_ids\n",
    "fdf = get_flag_df(omics, hnscc, test_ids)\n",
    "fdf"
   ]
  },
  {
   "cell_type": "code",
   "execution_count": null,
   "id": "9c090727",
   "metadata": {},
   "outputs": [],
   "source": [
    "both = fdf.join(pcdf, how = 'inner')\n",
    "both = both.dropna(axis = 1, how = 'all')\n",
    "\n",
    "for col in both.columns:\n",
    "    both[col] = pd.to_numeric(both[col])  \n",
    "both"
   ]
  },
  {
   "cell_type": "code",
   "execution_count": null,
   "id": "cd1f77c4",
   "metadata": {},
   "outputs": [],
   "source": [
    "# compare to flagship - doesn't correlate well\n",
    "wrap_lin_reg(both, test_ids, y_lab = 'pdc')\n"
   ]
  },
  {
   "cell_type": "code",
   "execution_count": null,
   "id": "f9ea65ff",
   "metadata": {},
   "outputs": [],
   "source": [
    "tt = '.N'\n",
    "df = both\n",
    "dup_list = test_ids\n",
    "for i in case_ids:\n",
    "    try:\n",
    "        ids = df.columns[df.columns.str.contains(i)].to_list()\n",
    "        print(ids)\n",
    "        ids.remove(i+tt+'_flagship')\n",
    "        flag = i+tt+'_flagship'\n",
    "        print(flag)\n",
    "\n",
    "        for first in ids:\n",
    "            plot_df = both[[flag, first]].dropna(axis = 'index', how = 'any')\n",
    "            xd = plot_df[flag].min() + ((plot_df[flag].max() - plot_df[flag].min()) / 3) \n",
    "            yd = plot_df[first].max() +1\n",
    "\n",
    "\n",
    "            p.plot_pearson(plot_df, flag, first, x_coor = xd, y_coor = yd, y_label = first+'_pdc',\n",
    "                   hue = \"none\", title = \"\", ra_stats = True,\n",
    "                   show_plot = True)\n",
    "    except:\n",
    "        continue\n",
    "   "
   ]
  },
  {
   "cell_type": "markdown",
   "id": "1de2d922",
   "metadata": {},
   "source": [
    "# Luad"
   ]
  },
  {
   "cell_type": "code",
   "execution_count": null,
   "id": "6db9e3d8",
   "metadata": {},
   "outputs": [],
   "source": [
    "l = pc.PancanLuad()\n",
    "luad = cptac.Luad()"
   ]
  },
  {
   "cell_type": "code",
   "execution_count": null,
   "id": "960bf540",
   "metadata": {},
   "outputs": [],
   "source": [
    "# show which omics has duplicates\n",
    "ca = l\n",
    "source_name = 'pdc'\n",
    "prot = ca.get_proteomics(source_name)\n",
    "phos = ca.get_phosphoproteomics(source_name)\n",
    "acetyl = ca.get_acetylproteomics(source_name)\n",
    "print('prot:', set(prot.index.duplicated()), list(prot.index[prot.index.duplicated()]))\n",
    "print('phospho:', set(phos.index.duplicated()), list(phos.index[phos.index.duplicated()]))\n",
    "print('acetyl:', set(acetyl.index.duplicated()), list(acetyl.index[acetyl.index.duplicated()]))"
   ]
  },
  {
   "cell_type": "code",
   "execution_count": null,
   "id": "b2bd4def",
   "metadata": {},
   "outputs": [],
   "source": [
    "a=luad.get_acetylproteomics()\n",
    "print(a.isnull().values.any())\n",
    "a"
   ]
  },
  {
   "cell_type": "code",
   "execution_count": null,
   "id": "4a4b2865",
   "metadata": {},
   "outputs": [],
   "source": [
    "a=l.get_acetylproteomics('pdc')\n",
    "print(a.isnull().values.any())\n",
    "a"
   ]
  },
  {
   "cell_type": "code",
   "execution_count": null,
   "id": "19ab460c",
   "metadata": {},
   "outputs": [],
   "source": [
    "def get_pc_df(omics_name, ca_obj, source_name, dup_list = [], with_aliquots = True):\n",
    "    if omics_name == 'prot':\n",
    "        df = ca_obj.get_proteomics(source_name)\n",
    "    \n",
    "    elif omics_name == 'phospho':\n",
    "        df = ca_obj.get_phosphoproteomics(source_name)\n",
    "        \n",
    "    elif omics_name == 'acetyl':\n",
    "        df = ca_obj.get_acetylproteomics(source_name)\n",
    "        \n",
    "    \n",
    "    if with_aliquots == False:\n",
    "        df = df.loc[df.index.duplicated(keep = False)]\n",
    "        if omics_name != 'prot':\n",
    "            df = ut.reduce_multiindex(df, levels_to_drop=[1], flatten = True)\n",
    "            df = df.loc[:,~df.columns.duplicated()]\n",
    "        df = df.T\n",
    "        df = df.drop(['aliquot_submitter_id', 'case_submitter_id'])\n",
    "    \n",
    "    # When using aliquots, pass in a list of patient_IDs\n",
    "    else:\n",
    "        df = df.reset_index()\n",
    "        if omics_name != 'prot':\n",
    "            df = ut.reduce_multiindex(df, levels_to_drop=[2], flatten = True)\n",
    "            df = df.loc[:,~df.columns.duplicated()]\n",
    "        # brca wasn't mapped (no .N) so use case_submitter_id\n",
    "        if ca_obj.get_cancer_type() == 'pancanbrca': \n",
    "            df = df.loc[df.case_submitter_id.isin(dup_list)] # test with 21BR010 -> only 1 aliquot but part of 18 IDs with normal\n",
    "            to_drop = ['case_submitter_id', 'aliquot_submitter_id']\n",
    "            \n",
    "        # luad and hnscc were mapped so use Patient_ID\n",
    "        else: #if ca_obj.get_cancer_type() == 'pancanhnscc': \n",
    "            df = df.loc[df.Patient_ID.isin(dup_list)]\n",
    "            to_drop = ['case_submitter_id', 'aliquot_submitter_id', 'Patient_ID']\n",
    "            df.index = df.case_submitter_id+'_'+df.aliquot_submitter_id\n",
    "        '''\n",
    "        elif ca_obj.get_cancer_type() == 'pancanluad': \n",
    "            df = df.loc[df.Patient_ID.isin(dup_list)]\n",
    "            to_drop = ['case_submitter_id_case_submitter_id', 'aliquot_submitter_id_aliquot_submitter_id', 'Patient_ID']\n",
    "            df.index = df.case_submitter_id_case_submitter_id+'_'+df.aliquot_submitter_id_aliquot_submitter_id'''\n",
    "            \n",
    "        \n",
    "        df = df.T\n",
    "        df = df.drop(to_drop)\n",
    "    \n",
    "    df.index = df.index.str.upper()   \n",
    "    df = rename_duplicate_cols(df)\n",
    "        \n",
    "    return df"
   ]
  },
  {
   "cell_type": "code",
   "execution_count": null,
   "id": "088c418d",
   "metadata": {},
   "outputs": [],
   "source": [
    "#omics = 'phospho'\n",
    "omics = 'acetyl'\n",
    "\n",
    "dup_list = ['C3N-02379', 'C3N-02587']\n",
    "pcdf = get_pc_df(omics, l, 'pdc', dup_list)\n",
    "pcdf = pcdf.replace(0, np.nan)\n",
    "pcdf"
   ]
  },
  {
   "cell_type": "code",
   "execution_count": null,
   "id": "cc22185c",
   "metadata": {},
   "outputs": [],
   "source": [
    "dup_list = ['C3N-02379', 'C3N-02587']\n",
    "fdf = get_flag_df(omics, luad, dup_list)\n",
    "fdf"
   ]
  },
  {
   "cell_type": "code",
   "execution_count": null,
   "id": "1fa007bc",
   "metadata": {},
   "outputs": [],
   "source": [
    "both = fdf.join(pcdf, how = 'inner')\n",
    "both.head()\n",
    "both\n",
    "\n",
    "for col in both.columns:\n",
    "    both[col] = pd.to_numeric(both[col])  \n",
    "\n",
    "wrap_lin_reg(both, dup_list, y_lab = 'pdc')"
   ]
  },
  {
   "cell_type": "code",
   "execution_count": null,
   "id": "dominican-baseball",
   "metadata": {},
   "outputs": [],
   "source": [
    "print(omics)\n",
    "get_corr(both, dup_list)"
   ]
  },
  {
   "cell_type": "markdown",
   "id": "6f60b285",
   "metadata": {},
   "source": [
    "# Pdac"
   ]
  },
  {
   "cell_type": "code",
   "execution_count": null,
   "id": "competent-adjustment",
   "metadata": {},
   "outputs": [],
   "source": [
    "pdc = pc.PancanPdac()\n",
    "pdac = cptac.Pdac()"
   ]
  },
  {
   "cell_type": "code",
   "execution_count": null,
   "id": "781a867a",
   "metadata": {},
   "outputs": [],
   "source": [
    "prot = pdc.get_proteomics('pdc')\n",
    "not_mapped = prot.loc[prot.index.str.contains('CPT')]\n",
    "aliquots = not_mapped.aliquot_submitter_id.to_list()\n",
    "case_ids = not_mapped.case_submitter_id.to_list()\n",
    "norm_case_ids = [x+'.N' for x in case_ids] # add normal "
   ]
  },
  {
   "cell_type": "code",
   "execution_count": null,
   "id": "b7326044",
   "metadata": {},
   "outputs": [],
   "source": [
    "#omics = 'phospho'\n",
    "omics = 'prot'\n",
    "\n",
    "pcdf = get_pc_df(omics, pdc, 'pdc', aliquots)\n",
    "pcdf"
   ]
  },
  {
   "cell_type": "code",
   "execution_count": null,
   "id": "b5237481",
   "metadata": {},
   "outputs": [],
   "source": [
    "fdf = get_flag_df(omics, pdac, norm_case_ids)\n",
    "fdf"
   ]
  },
  {
   "cell_type": "code",
   "execution_count": null,
   "id": "3275a167",
   "metadata": {},
   "outputs": [],
   "source": [
    "both = fdf.join(pcdf, how = 'inner')\n",
    "both.head()\n",
    "both\n",
    "\n",
    "for col in both.columns:\n",
    "    both[col] = pd.to_numeric(both[col])  \n",
    "    \n",
    "both"
   ]
  },
  {
   "cell_type": "code",
   "execution_count": null,
   "id": "1c9ee2d8",
   "metadata": {},
   "outputs": [],
   "source": [
    "df = both\n",
    "for i in case_ids:\n",
    "    ids = df.columns[df.columns.str.contains(i)].to_list()\n",
    "    ids.remove(i+'.N_flagship')\n",
    "    flag = i+'.N_flagship'         \n",
    "\n",
    "    try:\n",
    "        for first in ids:\n",
    "            plot_df = both[[flag, first]].dropna(axis = 'index', how = 'any')\n",
    "            xd = plot_df[flag].min() + ((plot_df[flag].max() - plot_df[flag].min()) / 3) \n",
    "            yd = plot_df[first].max() +1\n",
    "\n",
    "            p.plot_pearson(plot_df, flag, first, x_coor = xd, y_coor = yd, y_label = first+'_pdc',\n",
    "                   hue = \"none\", title = \"\", ra_stats = True,\n",
    "                   show_plot = True)\n",
    "    except:\n",
    "        continue"
   ]
  },
  {
   "cell_type": "code",
   "execution_count": null,
   "id": "22516694",
   "metadata": {},
   "outputs": [],
   "source": [
    "# umich compared to flagship"
   ]
  },
  {
   "cell_type": "code",
   "execution_count": null,
   "id": "c57c66df",
   "metadata": {},
   "outputs": [],
   "source": [
    "# get aliquot and case ID pair from pdc\n",
    "prot = pdc.get_proteomics('pdc')\n",
    "df = prot.loc[prot.index.str.contains('CPT')]\n",
    "ac = df[['aliquot_submitter_id','case_submitter_id']].set_index('aliquot_submitter_id')\n",
    "map_dict = ac.to_dict()['case_submitter_id']"
   ]
  },
  {
   "cell_type": "code",
   "execution_count": null,
   "id": "0f2a6f5c",
   "metadata": {},
   "outputs": [],
   "source": [
    "# umich\n",
    "omics = 'prot'\n",
    "#omics = 'phospho'\n",
    "\n",
    "if omics == 'phospho':\n",
    "    df = pdc.get_phosphoproteomics('umich')\n",
    "    df = ut.reduce_multiindex(df, levels_to_drop=[2,3], flatten = True)\n",
    "    df = df.loc[:,~df.columns.duplicated()]\n",
    "if omics == 'prot':\n",
    "    df = pdc.get_proteomics('umich')\n",
    "    df = ut.reduce_multiindex(df, levels_to_drop=[1], flatten = True)\n",
    "    df = df.loc[:,~df.columns.duplicated()]\n",
    "df = df.loc[df.index.isin(aliquots)]\n",
    "df = df.rename(index = map_dict) \n",
    "df.index = df.index+'_umich'\n",
    "umichdf = df.T\n",
    "umichdf"
   ]
  },
  {
   "cell_type": "code",
   "execution_count": null,
   "id": "4527b82c",
   "metadata": {},
   "outputs": [],
   "source": [
    "both = umichdf.join(pcdf, how = 'inner')\n",
    "both.head()\n",
    "both\n",
    "\n",
    "for col in both.columns:\n",
    "    both[col] = pd.to_numeric(both[col])  \n",
    "    \n",
    "both"
   ]
  },
  {
   "cell_type": "code",
   "execution_count": null,
   "id": "d6af0942",
   "metadata": {},
   "outputs": [],
   "source": [
    "df = both\n",
    "for i in case_ids:\n",
    "    ids = df.columns[df.columns.str.contains(i)].to_list()\n",
    "    ids.remove(i+'_umich')\n",
    "    flag = i+'_umich'         \n",
    "\n",
    "    try:\n",
    "        for first in ids:\n",
    "            plot_df = both[[flag, first]].dropna(axis = 'index', how = 'any')\n",
    "            xd = plot_df[flag].min() + ((plot_df[flag].max() - plot_df[flag].min()) / 3) \n",
    "            yd = plot_df[first].max() +1\n",
    "\n",
    "            p.plot_pearson(plot_df, flag, first, x_coor = xd, y_coor = yd, y_label = first+'_pdc',\n",
    "                   hue = \"none\", title = \"\", ra_stats = True,\n",
    "                   show_plot = True)\n",
    "    except:\n",
    "        continue"
   ]
  },
  {
   "cell_type": "code",
   "execution_count": null,
   "id": "bdfef334",
   "metadata": {},
   "outputs": [],
   "source": [
    "# umich correlated well with pdc, but aliquots in umich didn't map as well so we still \n",
    "# don't know the tissue type for these aliquots"
   ]
  }
 ],
 "metadata": {
  "kernelspec": {
   "display_name": "Python 3",
   "language": "python",
   "name": "python3"
  },
  "language_info": {
   "codemirror_mode": {
    "name": "ipython",
    "version": 3
   },
   "file_extension": ".py",
   "mimetype": "text/x-python",
   "name": "python",
   "nbconvert_exporter": "python",
   "pygments_lexer": "ipython3",
   "version": "3.8.10"
  }
 },
 "nbformat": 4,
 "nbformat_minor": 5
}
