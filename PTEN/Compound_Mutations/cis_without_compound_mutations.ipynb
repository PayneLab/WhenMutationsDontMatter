{
 "cells": [
  {
   "cell_type": "markdown",
   "metadata": {},
   "source": [
    "# PTEN cis effect"
   ]
  },
  {
   "cell_type": "markdown",
   "metadata": {},
   "source": [
    "This notebook creates a boxplot for the cis effect of PTEN cnv deletions in 8 cancers. These 8 cancers were chosen because they have enough samples with PTEN cnv deletions to do a t-test. Only Ccrcc does not have enough samples with deletions. "
   ]
  },
  {
   "cell_type": "markdown",
   "metadata": {},
   "source": [
    "Imports"
   ]
  },
  {
   "cell_type": "code",
   "execution_count": 1,
   "metadata": {},
   "outputs": [],
   "source": [
    "import pandas as pd\n",
    "import numpy as np\n",
    "import seaborn as sns\n",
    "import matplotlib.pyplot as plt\n",
    "import re\n",
    "\n",
    "import cptac\n",
    "import cptac.utils as u\n",
    "import plot_utils as p"
   ]
  },
  {
   "cell_type": "code",
   "execution_count": 2,
   "metadata": {},
   "outputs": [],
   "source": [
    "import warnings\n",
    "warnings.filterwarnings('ignore')"
   ]
  },
  {
   "cell_type": "code",
   "execution_count": 3,
   "metadata": {},
   "outputs": [
    {
     "name": "stdout",
     "output_type": "stream",
     "text": [
      "cptac version: 0.8.6\n"
     ]
    }
   ],
   "source": [
    "print('cptac version:', cptac.version())"
   ]
  },
  {
   "cell_type": "markdown",
   "metadata": {},
   "source": [
    "Functions:\n",
    "\n",
    "format_df prepares a data frame with PTEN proteomics and PTEN mutation type from get_genotype_all_vars.\n",
    "\n",
    "format_pval_annotation is used to add marks to the boxplot. A star represents significant p-value and \"ns\" represents a nonsignificant p-value."
   ]
  },
  {
   "cell_type": "code",
   "execution_count": 4,
   "metadata": {},
   "outputs": [],
   "source": [
    "def format_pval_annotation(pval_symbol, x1, x2, line_start = .05, line_height=.05):\n",
    "    # for manual adjustment to pval annotations\n",
    "    \n",
    "    y, h = line_start, line_height\n",
    "    plt.plot([x1, x1, x2, x2], #draw horizontal line\n",
    "             [y, y+h, y+h, y], #vertical line\n",
    "             lw=1.5, color= '.3')\n",
    "    plt.text((x1+x2)*.5, # half between x coord\n",
    "             y+h, pval_symbol, horizontalalignment='center', verticalalignment='bottom', color = \"black\")\n"
   ]
  },
  {
   "cell_type": "code",
   "execution_count": 5,
   "metadata": {},
   "outputs": [],
   "source": [
    "def find_multi_cis_mut(cancer_obj,cis_gene):\n",
    "    #Get all somatic mutations \n",
    "    mutations = cancer_obj.get_somatic_mutation()\n",
    "    #get just somatic mutations for cis_gene\n",
    "    cis_mut = mutations[mutations.Gene == cis_gene]\n",
    "    cis_mut = cis_mut[[\"Mutation\"]]\n",
    "    # Multiple somatic mutations are indicated using multiple rows with the same patient ids.\n",
    "    # We will group the rows by patient ids and then relabel the columns that have multiple mutations \n",
    "    \n",
    "    cis_mut = cis_mut.groupby(level=['Patient_ID'], sort=False).agg( ','.join)\n",
    "    cis_mut = cis_mut.replace(regex=[',' + cis_gene], value='')\n",
    "    cis_mut.Mutation = cis_mut.Mutation.apply(lambda x: 'Multiple_Missense' if 'Missense_Mutation,Missense_Mutation' in x else x)\n",
    "    cis_mut.Mutation = cis_mut.Mutation.apply(lambda x: 'Multiple_Frame_Shift_Del' if 'Frame_Shift_Del,Frame_Shift_Del' in x else x)\n",
    "    cis_mut.Mutation = cis_mut.Mutation.apply(lambda x: 'Multiple_Splice_Site' if 'Splice_Site,Splice_Site' in x else x)\n",
    "   \n",
    "   #get CNV mutations \n",
    "    mut_copy_num = cancer_obj.get_genotype_all_vars(cis_gene, mutations_filter = [\"Deletion\",\"Amplification\"])\n",
    "    mut_copy_num = mut_copy_num.rename(columns={'Mutation': 'CNV_Mutation'})\n",
    "    mut_copy_num = mut_copy_num[\"CNV_Mutation\"]\n",
    "    mutations = pd.merge(mut_copy_num, cis_mut, on=\"Patient_ID\", how = \"outer\")\n",
    "   \n",
    "     \n",
    "    # If mutation column is NaN replace with value in Mutation_Copy_Num\n",
    "    mutations['Mutation'] = mutations.apply(\n",
    "        lambda row: row['CNV_Mutation'] if pd.isnull(row['Mutation']) else row['Mutation'], axis=1)\n",
    "   \n",
    "    #Make column All_Mutation which is a list of all mutations \n",
    "    \n",
    "    mutations['All_Mutations'] = mutations.apply(\n",
    "        lambda row: [row[\"CNV_Mutation\"] , row[\"Mutation\"]] if (row[\"CNV_Mutation\"] != row[\"Mutation\"]) else [row['Mutation']], axis=1)\n",
    "    mutations = mutations.rename(columns={'All_Mutations': 'All_Mutations_' + cis_gene})\n",
    "    return mutations\n"
   ]
  },
  {
   "cell_type": "markdown",
   "metadata": {},
   "source": [
    "# Step 1: Create data frames with PTEN cnv deletion and Proteomics"
   ]
  },
  {
   "cell_type": "markdown",
   "metadata": {},
   "source": [
    "Each cancer needs a data frame containing only samples that have PTEN cnv deletions or PTEN wildtype tumors and PTEN proteomics."
   ]
  },
  {
   "cell_type": "markdown",
   "metadata": {},
   "source": [
    "First, load in cancer data sets from cptac."
   ]
  },
  {
   "cell_type": "code",
   "execution_count": 6,
   "metadata": {},
   "outputs": [
    {
     "name": "stdout",
     "output_type": "stream",
     "text": [
      "                                                \r"
     ]
    }
   ],
   "source": [
    "en = cptac.Endometrial()\n",
    "h = cptac.Hnscc()\n",
    "l = cptac.Luad()\n",
    "ls = cptac.Lscc()\n",
    "o = cptac.Ovarian()\n",
    "col = cptac.Colon()\n",
    "g = cptac.Gbm()\n",
    "b = cptac.Brca()"
   ]
  },
  {
   "cell_type": "markdown",
   "metadata": {},
   "source": [
    "Next, use format_df to create the specific data frame for each cancer. Use wrap_ttest to test PTEN deletion vs. wildtype. "
   ]
  },
  {
   "cell_type": "markdown",
   "metadata": {},
   "source": [
    "# Get PTEN deletion"
   ]
  },
  {
   "cell_type": "code",
   "execution_count": 7,
   "metadata": {},
   "outputs": [
    {
     "name": "stdout",
     "output_type": "stream",
     "text": [
      "GBM All_Mutations_PTEN\n",
      "Deletion              56\n",
      "Wildtype_Tumor        16\n",
      "dtype: int64 \n",
      "\n",
      "HNSCC All_Mutations_PTEN\n",
      "Wildtype_Tumor        89\n",
      "Deletion              17\n",
      "dtype: int64 \n",
      "\n",
      "LUAD All_Mutations_PTEN\n",
      "Deletion              17\n",
      "dtype: int64 \n",
      "\n",
      "LSCC All_Mutations_PTEN\n",
      "Wildtype_Tumor        58\n",
      "Deletion              35\n",
      "dtype: int64 \n",
      "\n",
      "BR All_Mutations_PTEN\n",
      "Wildtype_Tumor        80\n",
      "Deletion              21\n",
      "dtype: int64 \n",
      "\n",
      "CO All_Mutations_PTEN\n",
      "Wildtype_Tumor        76\n",
      "Deletion              23\n",
      "dtype: int64 \n",
      "\n",
      "OV All_Mutations_PTEN\n",
      "Wildtype_Tumor        57\n",
      "Deletion              24\n",
      "dtype: int64 \n",
      "\n"
     ]
    }
   ],
   "source": [
    "#Select the cancers that you would like to test and add cptac data into a dictionary\n",
    "cptac_cancers = {'GBM':g, 'HNSCC':h, 'LUAD':l, 'LSCC':ls, 'BR':b, 'CO':col, 'OV':o}\n",
    "cis_gene1 = \"PTEN\"\n",
    "gene1_mut = [\"Deletion\", \"Wildtype_Tumor\"]\n",
    "cis_gene2 = \"PIK3CA\"\n",
    "gene2_mut = [\"Wildtype_Tumor\"]\n",
    "\n",
    "mut_dfs = {}\n",
    "for cancer in cptac_cancers:\n",
    "\n",
    "    gene1_mutations = find_multi_cis_mut(cptac_cancers[cancer],cis_gene1)\n",
    "    gene1_mutations = gene1_mutations[[\"All_Mutations_\"+cis_gene1]]\n",
    "    \n",
    "    gene1_mutations['All_Mutations_' + cis_gene1] = [','.join(map(str, l)) for l in gene1_mutations['All_Mutations_' + cis_gene1]]\n",
    "    gene1_mutations[\"Cancer\"] = cancer\n",
    "    \n",
    "    #only gene1 with specified mutation\n",
    "    gene1_mutated = gene1_mutations.loc[gene1_mutations['All_Mutations_'+cis_gene1].isin(gene1_mut)]\n",
    "    \n",
    "    mut_dfs[cancer] = gene1_mutated\n",
    "    # Create csv\n",
    "    #gene1_mut_gene2_wt.to_csv('csv/'+cancer+'_pten_mut_pik3ca_wt.csv', index=False)\n",
    "    print(cancer, gene1_mutated[[\"All_Mutations_\"+cis_gene1]].value_counts(), '\\n')\n",
    "    "
   ]
  },
  {
   "cell_type": "code",
   "execution_count": 8,
   "metadata": {},
   "outputs": [
    {
     "name": "stdout",
     "output_type": "stream",
     "text": [
      "GBM All_Mutations_PTEN\n",
      "Deletion              56\n",
      "Wildtype_Tumor        16\n",
      "dtype: int64 \n",
      "\n",
      "  Comparison   P_Value\n",
      "0       PTEN  0.000003 \n",
      "\n",
      "HNSCC All_Mutations_PTEN\n",
      "Wildtype_Tumor        89\n",
      "Deletion              17\n",
      "dtype: int64 \n",
      "\n",
      "  Comparison   P_Value\n",
      "0       PTEN  0.000068 \n",
      "\n",
      "LUAD All_Mutations_PTEN\n",
      "Deletion              17\n",
      "dtype: int64 \n",
      "\n",
      "Incorrectly Formatted Dataframe! Label column must have exactly 2 unique values.\n",
      "None \n",
      "\n",
      "LSCC All_Mutations_PTEN\n",
      "Wildtype_Tumor        58\n",
      "Deletion              35\n",
      "dtype: int64 \n",
      "\n",
      "  Comparison       P_Value\n",
      "0       PTEN  2.367362e-07 \n",
      "\n",
      "BR All_Mutations_PTEN\n",
      "Wildtype_Tumor        80\n",
      "Deletion              21\n",
      "dtype: int64 \n",
      "\n",
      "  Comparison   P_Value\n",
      "0       PTEN  0.000021 \n",
      "\n",
      "CO All_Mutations_PTEN\n",
      "Wildtype_Tumor        76\n",
      "Deletion              23\n",
      "dtype: int64 \n",
      "\n",
      "  Comparison   P_Value\n",
      "0       PTEN  0.030647 \n",
      "\n",
      "OV All_Mutations_PTEN\n",
      "Wildtype_Tumor        57\n",
      "Deletion              24\n",
      "dtype: int64 \n",
      "\n",
      "  Comparison   P_Value\n",
      "0       PTEN  0.002894 \n",
      "\n"
     ]
    }
   ],
   "source": [
    "gene = 'PTEN'\n",
    "plot_dfs = {}\n",
    "\n",
    "for cancer in cptac_cancers:\n",
    "    ca = cptac_cancers[cancer]\n",
    "    \n",
    "    # get proteomics\n",
    "    prot = ca.get_proteomics(tissue_type = 'tumor') \n",
    "    if isinstance(prot.keys(), pd.core.indexes.multi.MultiIndex):\n",
    "        prot = u.reduce_multiindex(prot, levels_to_drop = 1)\n",
    "    prot = prot[['PTEN']]\n",
    "\n",
    "    # get proteomics and only pten deletion\n",
    "    mut_df = mut_dfs[cancer]\n",
    "    pten_mut = mut_df[['All_Mutations_'+gene]]\n",
    "    only_del = prot.join(pten_mut, how = 'outer')\n",
    "    pten_del = only_del.dropna(subset = ['All_Mutations_'+gene]) # keep only pten deletions (no pik3ca mut)\n",
    "    pten_del['cancer'] = cancer\n",
    "\n",
    "    plot_dfs[cancer] = pten_del\n",
    "    \n",
    "    print(cancer, pten_del[[\"All_Mutations_\"+gene]].value_counts(), '\\n')\n",
    "    \n",
    "    pval = u.wrap_ttest(pten_del, 'All_Mutations_'+gene, [gene], mincount = 3, return_all = True)\n",
    "    print(pval, '\\n')\n",
    "    "
   ]
  },
  {
   "cell_type": "markdown",
   "metadata": {},
   "source": [
    "# Endometrial"
   ]
  },
  {
   "cell_type": "markdown",
   "metadata": {},
   "source": [
    "The Endometrial data set does not have enough cnv deletions to perform a t-test, however the data set does have enough truncation type mutations (nonsense and frame shifts). Different code is needed to create the data frame for Endometrial."
   ]
  },
  {
   "cell_type": "code",
   "execution_count": 9,
   "metadata": {},
   "outputs": [
    {
     "name": "stdout",
     "output_type": "stream",
     "text": [
      "EC All_Mutations_PTEN\n",
      "Wildtype_Tumor        15\n",
      "Frame_Shift_Del        8\n",
      "Nonsense_Mutation      6\n",
      "Frame_Shift_Ins        3\n",
      "dtype: int64 \n",
      "\n"
     ]
    }
   ],
   "source": [
    "#Select the cancers that you would like to test and add cptac data into a dictionary\n",
    "endo = {'EC':en}\n",
    "cis_gene1 = \"PTEN\"\n",
    "gene1_mut = [\"Nonsense_Mutation\", 'Frame_Shift_Ins', 'Frame_Shift_Del', \"Wildtype_Tumor\"]\n",
    "cis_gene2 = \"PIK3CA\"\n",
    "gene2_mut = [\"Wildtype_Tumor\"]\n",
    "\n",
    "endo_df = {}\n",
    "for cancer in endo:\n",
    "\n",
    "    gene1_mutations = find_multi_cis_mut(endo[cancer],cis_gene1)\n",
    "    gene1_mutations = gene1_mutations[[\"All_Mutations_\"+cis_gene1]]\n",
    "\n",
    "    gene1_mutations['All_Mutations_' + cis_gene1] = [','.join(map(str, l)) for l in gene1_mutations['All_Mutations_' + cis_gene1]]\n",
    "    gene1_mutations[\"Cancer\"] = cancer\n",
    "    \n",
    "    #only gene1 with specified mutation\n",
    "    gene1_mutated = gene1_mutations.loc[gene1_mutations['All_Mutations_'+cis_gene1].isin(gene1_mut)]\n",
    "\n",
    "    endo_df[cancer] = gene1_mutated\n",
    "    # Create csv\n",
    "    #gene1_mut_gene2_wt.to_csv('csv/'+cancer+'_pten_mut_pik3ca_wt.csv', index=False)\n",
    "    print(cancer, gene1_mutated[[\"All_Mutations_\"+cis_gene1]].value_counts(), '\\n')\n",
    "    "
   ]
  },
  {
   "cell_type": "code",
   "execution_count": 10,
   "metadata": {},
   "outputs": [
    {
     "name": "stdout",
     "output_type": "stream",
     "text": [
      "EC All_Mutations_PTEN\n",
      "Truncation            17\n",
      "Wildtype_Tumor        15\n",
      "dtype: int64 \n",
      "\n",
      "  Comparison   P_Value\n",
      "0       PTEN  0.000224 \n",
      "\n"
     ]
    }
   ],
   "source": [
    "gene = 'PTEN'\n",
    "\n",
    "for cancer in endo:\n",
    "    ca = endo[cancer]\n",
    "    \n",
    "    # get proteomics\n",
    "    prot = ca.get_proteomics(tissue_type = 'tumor') \n",
    "    prot = prot[['PTEN']]\n",
    "\n",
    "    # get proteomics and only pten deletion\n",
    "    mut_df = endo_df[cancer]\n",
    "    pten_mut = mut_df[['All_Mutations_'+gene]]\n",
    "    only_del = prot.join(pten_mut, how = 'outer')\n",
    "    pten_del = only_del.dropna(subset = ['All_Mutations_'+gene]) # keep only pten deletions (no pik3ca mut)\n",
    "    pten_del['cancer'] = cancer\n",
    "    \n",
    "    pten_del['All_Mutations_'+gene] = np.where(\n",
    "                        pten_del['All_Mutations_'+gene] == 'Wildtype_Tumor', 'Wildtype_Tumor', 'Truncation')\n",
    "\n",
    "    plot_dfs[cancer] = pten_del\n",
    "    \n",
    "    print(cancer, pten_del[[\"All_Mutations_\"+gene]].value_counts(), '\\n')\n",
    "    \n",
    "    pval = u.wrap_ttest(pten_del, 'All_Mutations_'+gene, ['PTEN'], mincount = 3, return_all = True)\n",
    "    print(pval, '\\n')\n",
    "    "
   ]
  },
  {
   "cell_type": "markdown",
   "metadata": {},
   "source": [
    "# Step 2: Create a long dataframe for the boxplot"
   ]
  },
  {
   "cell_type": "markdown",
   "metadata": {},
   "source": [
    "The boxplot will take three columns: Proteomics, Mutation, and Cancer. We need to append all the individual cancer dfs into one long pancancer df. "
   ]
  },
  {
   "cell_type": "markdown",
   "metadata": {},
   "source": [
    "Next append the dfs."
   ]
  },
  {
   "cell_type": "code",
   "execution_count": 11,
   "metadata": {},
   "outputs": [
    {
     "name": "stdout",
     "output_type": "stream",
     "text": [
      "GBM 72\n",
      "HNSCC 106\n",
      "LUAD 17\n",
      "LSCC 93\n",
      "BR 101\n",
      "CO 99\n",
      "OV 81\n",
      "EC 32\n"
     ]
    }
   ],
   "source": [
    "all_df = pd.DataFrame()\n",
    "for cancer in plot_dfs:\n",
    "    df = plot_dfs[cancer]\n",
    "    print(cancer, len(df))\n",
    "    all_df = all_df.append(df) "
   ]
  },
  {
   "cell_type": "code",
   "execution_count": 12,
   "metadata": {},
   "outputs": [],
   "source": [
    "all_df = all_df.loc[all_df['cancer'] != 'HNSCC'] #take out hnscc (different scale)"
   ]
  },
  {
   "cell_type": "code",
   "execution_count": 13,
   "metadata": {},
   "outputs": [
    {
     "data": {
      "text/html": [
       "<div>\n",
       "<style scoped>\n",
       "    .dataframe tbody tr th:only-of-type {\n",
       "        vertical-align: middle;\n",
       "    }\n",
       "\n",
       "    .dataframe tbody tr th {\n",
       "        vertical-align: top;\n",
       "    }\n",
       "\n",
       "    .dataframe thead th {\n",
       "        text-align: right;\n",
       "    }\n",
       "</style>\n",
       "<table border=\"1\" class=\"dataframe\">\n",
       "  <thead>\n",
       "    <tr style=\"text-align: right;\">\n",
       "      <th></th>\n",
       "      <th>PTEN</th>\n",
       "      <th>All_Mutations_PTEN</th>\n",
       "      <th>cancer</th>\n",
       "    </tr>\n",
       "    <tr>\n",
       "      <th>Patient_ID</th>\n",
       "      <th></th>\n",
       "      <th></th>\n",
       "      <th></th>\n",
       "    </tr>\n",
       "  </thead>\n",
       "  <tbody>\n",
       "    <tr>\n",
       "      <th>C3L-00365</th>\n",
       "      <td>-0.265044</td>\n",
       "      <td>Deletion</td>\n",
       "      <td>GBM</td>\n",
       "    </tr>\n",
       "    <tr>\n",
       "      <th>C3L-01040</th>\n",
       "      <td>0.680291</td>\n",
       "      <td>Deletion</td>\n",
       "      <td>GBM</td>\n",
       "    </tr>\n",
       "    <tr>\n",
       "      <th>C3L-01045</th>\n",
       "      <td>0.093666</td>\n",
       "      <td>Deletion</td>\n",
       "      <td>GBM</td>\n",
       "    </tr>\n",
       "    <tr>\n",
       "      <th>C3L-01048</th>\n",
       "      <td>-0.068617</td>\n",
       "      <td>Deletion</td>\n",
       "      <td>GBM</td>\n",
       "    </tr>\n",
       "    <tr>\n",
       "      <th>C3L-01142</th>\n",
       "      <td>0.145156</td>\n",
       "      <td>Wildtype_Tumor</td>\n",
       "      <td>GBM</td>\n",
       "    </tr>\n",
       "    <tr>\n",
       "      <th>...</th>\n",
       "      <td>...</td>\n",
       "      <td>...</td>\n",
       "      <td>...</td>\n",
       "    </tr>\n",
       "    <tr>\n",
       "      <th>C3N-01349</th>\n",
       "      <td>-0.424000</td>\n",
       "      <td>Truncation</td>\n",
       "      <td>EC</td>\n",
       "    </tr>\n",
       "    <tr>\n",
       "      <th>C3N-01521</th>\n",
       "      <td>-0.616000</td>\n",
       "      <td>Wildtype_Tumor</td>\n",
       "      <td>EC</td>\n",
       "    </tr>\n",
       "    <tr>\n",
       "      <th>C3N-01537</th>\n",
       "      <td>-0.164000</td>\n",
       "      <td>Wildtype_Tumor</td>\n",
       "      <td>EC</td>\n",
       "    </tr>\n",
       "    <tr>\n",
       "      <th>C3N-01802</th>\n",
       "      <td>-0.572000</td>\n",
       "      <td>Wildtype_Tumor</td>\n",
       "      <td>EC</td>\n",
       "    </tr>\n",
       "    <tr>\n",
       "      <th>C3N-01825</th>\n",
       "      <td>0.234000</td>\n",
       "      <td>Wildtype_Tumor</td>\n",
       "      <td>EC</td>\n",
       "    </tr>\n",
       "  </tbody>\n",
       "</table>\n",
       "<p>495 rows × 3 columns</p>\n",
       "</div>"
      ],
      "text/plain": [
       "                PTEN All_Mutations_PTEN cancer\n",
       "Patient_ID                                    \n",
       "C3L-00365  -0.265044           Deletion    GBM\n",
       "C3L-01040   0.680291           Deletion    GBM\n",
       "C3L-01045   0.093666           Deletion    GBM\n",
       "C3L-01048  -0.068617           Deletion    GBM\n",
       "C3L-01142   0.145156     Wildtype_Tumor    GBM\n",
       "...              ...                ...    ...\n",
       "C3N-01349  -0.424000         Truncation     EC\n",
       "C3N-01521  -0.616000     Wildtype_Tumor     EC\n",
       "C3N-01537  -0.164000     Wildtype_Tumor     EC\n",
       "C3N-01802  -0.572000     Wildtype_Tumor     EC\n",
       "C3N-01825   0.234000     Wildtype_Tumor     EC\n",
       "\n",
       "[495 rows x 3 columns]"
      ]
     },
     "execution_count": 13,
     "metadata": {},
     "output_type": "execute_result"
    }
   ],
   "source": [
    "all_df"
   ]
  },
  {
   "cell_type": "markdown",
   "metadata": {},
   "source": [
    "# Step 3: Create the Pancancer Boxplot"
   ]
  },
  {
   "cell_type": "code",
   "execution_count": 14,
   "metadata": {},
   "outputs": [
    {
     "data": {
      "text/plain": [
       "<matplotlib.legend.Legend at 0x2d10eb9a7f0>"
      ]
     },
     "execution_count": 14,
     "metadata": {},
     "output_type": "execute_result"
    },
    {
     "data": {
      "image/png": "[encoded data removed]",
      "text/plain": [
       "<Figure size 842.4x612 with 1 Axes>"
      ]
     },
     "metadata": {},
     "output_type": "display_data"
    }
   ],
   "source": [
    "# cis plot\n",
    "gene = 'PTEN'\n",
    "plt.rcParams['figure.figsize']=(11.7, 8.5) #size of plot\n",
    "sns.set(font_scale = 1.4, style = 'white')\n",
    "\n",
    "boxplot = sns.boxplot(data = all_df, x='cancer', y=gene, hue = 'All_Mutations_'+gene,\n",
    "                      hue_order = [\"Wildtype_Tumor\", \"Deletion\", 'Truncation'], showfliers = False)    \n",
    "#boxplot.set_title('Pancancer cis effect of PTEN CNV Deletions')\n",
    "boxplot = sns.stripplot(data = all_df, x='cancer', y=gene, jitter = True, \n",
    "                           color = \".3\", hue = 'All_Mutations_'+gene, hue_order = [\"Wildtype_Tumor\", \"Deletion\", 'Truncation'], dodge = True)\n",
    "boxplot.set(xlabel = \"\\nPTEN Mutation Status\", ylabel = gene+' Proteomics')\n",
    "\n",
    "# format legend\n",
    "handles, labels = boxplot.get_legend_handles_labels()\n",
    "plt.legend(handles[0:3], labels[0:3])"
   ]
  },
  {
   "cell_type": "code",
   "execution_count": 15,
   "metadata": {},
   "outputs": [],
   "source": [
    "# Save figure\n",
    "fig = boxplot.get_figure()\n",
    "#fig.savefig(\"Sup_Fig_4A.png\", dpi = 300)"
   ]
  },
  {
   "cell_type": "code",
   "execution_count": 16,
   "metadata": {},
   "outputs": [
    {
     "data": {
      "image/png": "[encoded data removed]",
      "text/plain": [
       "<Figure size 122.4x612 with 1 Axes>"
      ]
     },
     "metadata": {},
     "output_type": "display_data"
    }
   ],
   "source": [
    "# Figure for Hnscc (higher scale)\n",
    "gene = 'PTEN'\n",
    "df = plot_dfs['HNSCC']\n",
    "plt.rcParams['figure.figsize']=(1.7,8.5) #size of plot\n",
    "sns.set(font_scale = 1.4, style = 'white')\n",
    "\n",
    "boxplot = sns.boxplot(x='cancer', y=gene, data = df, hue = 'All_Mutations_'+gene,\n",
    "                      hue_order = [\"Wildtype_Tumor\", \"Deletion\"], showfliers = False)    \n",
    "boxplot = sns.stripplot(x='cancer', y=gene, data = df, jitter = True, \n",
    "                           color = \".3\", dodge = True, hue = 'All_Mutations_'+gene, hue_order = [\"Wildtype_Tumor\", \"Deletion\"],)\n",
    "boxplot.set(xlabel = \"\", ylabel = gene+' Proteomics')\n",
    "\n",
    "# format legend\n",
    "handles, labels = boxplot.get_legend_handles_labels()\n",
    "plt.legend(handles[0:0], labels[0:0])\n",
    "\n",
    "#format_pval_annotation(symbols['HNSCC'], -.2, .2, 24.8) '''\n",
    "\n",
    "plt.show()\n",
    "plt.clf()\n",
    "plt.close()"
   ]
  },
  {
   "cell_type": "code",
   "execution_count": 17,
   "metadata": {},
   "outputs": [],
   "source": [
    "# Save figure\n",
    "fig = boxplot.get_figure()\n",
    "#fig.savefig(\"Sup_Fig_4B.png\", bbox_inches=\"tight\", dpi = 300)"
   ]
  },
  {
   "cell_type": "code",
   "execution_count": null,
   "metadata": {},
   "outputs": [],
   "source": []
  }
 ],
 "metadata": {
  "kernelspec": {
   "display_name": "Python 3",
   "language": "python",
   "name": "python3"
  },
  "language_info": {
   "codemirror_mode": {
    "name": "ipython",
    "version": 3
   },
   "file_extension": ".py",
   "mimetype": "text/x-python",
   "name": "python",
   "nbconvert_exporter": "python",
   "pygments_lexer": "ipython3",
   "version": "3.7.3"
  }
 },
 "nbformat": 4,
 "nbformat_minor": 2
}
