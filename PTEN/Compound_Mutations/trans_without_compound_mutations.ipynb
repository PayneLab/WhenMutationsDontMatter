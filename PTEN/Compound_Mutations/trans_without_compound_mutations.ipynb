{
 "cells": [
  {
   "cell_type": "markdown",
   "metadata": {},
   "source": [
    "# PTEN trans effect"
   ]
  },
  {
   "cell_type": "markdown",
   "metadata": {},
   "source": [
    "This notebook creates a boxplot for the trans effect of PTEN cnv deletions in 8 cancers. These 8 cancers were chosen because they have enough samples with PTEN cnv deletions to do a t-test. Only Ccrcc does not have enough samples with deletions. "
   ]
  },
  {
   "cell_type": "markdown",
   "metadata": {},
   "source": [
    "Imports"
   ]
  },
  {
   "cell_type": "code",
   "execution_count": 1,
   "metadata": {},
   "outputs": [],
   "source": [
    "import pandas as pd\n",
    "import numpy as np\n",
    "import seaborn as sns\n",
    "import matplotlib.pyplot as plt\n",
    "import re\n",
    "\n",
    "import cptac\n",
    "import cptac.utils as u\n",
    "import plot_utils as p"
   ]
  },
  {
   "cell_type": "code",
   "execution_count": 2,
   "metadata": {},
   "outputs": [],
   "source": [
    "import warnings\n",
    "warnings.filterwarnings('ignore')"
   ]
  },
  {
   "cell_type": "code",
   "execution_count": 3,
   "metadata": {},
   "outputs": [
    {
     "name": "stdout",
     "output_type": "stream",
     "text": [
      "cptac version: 0.8.6\n"
     ]
    }
   ],
   "source": [
    "print('cptac version:', cptac.version())"
   ]
  },
  {
   "cell_type": "markdown",
   "metadata": {},
   "source": [
    "Functions:\n",
    "\n",
    "format_df prepares a data frame with PTEN proteomics and PTEN mutation type from get_genotype_all_vars.\n",
    "\n",
    "format_pval_annotation is used to add marks to the boxplot. A star represents significant p-value and \"ns\" represents a nonsignificant p-value."
   ]
  },
  {
   "cell_type": "code",
   "execution_count": 2,
   "metadata": {},
   "outputs": [],
   "source": [
    "def format_pval_annotation(pval_symbol, x1, x2, line_start = .05, line_height=.05):\n",
    "    # for manual adjustment to pval annotations\n",
    "    \n",
    "    y, h = line_start, line_height\n",
    "    plt.plot([x1, x1, x2, x2], #draw horizontal line\n",
    "             [y, y+h, y+h, y], #vertical line\n",
    "             lw=1.5, color= '.3')\n",
    "    plt.text((x1+x2)*.5, # half between x coord\n",
    "             y+h, pval_symbol, horizontalalignment='center', verticalalignment='bottom', color = \"black\")\n"
   ]
  },
  {
   "cell_type": "code",
   "execution_count": 34,
   "metadata": {},
   "outputs": [],
   "source": [
    "def mult_mutations(mut, list_in):\n",
    "    if list_in.count(mut) > 1:\n",
    "        name = 'Multiple_'+mut\n",
    "    while mut in list_in: list_in.remove(mut)\n",
    "    for e in list_in:\n",
    "        name = e+', '+name\n",
    "        \n",
    "    name_list = name.split(', ') # return to list in case there are more multiple mutations\n",
    "    \n",
    "    return name\n",
    "    "
   ]
  },
  {
   "cell_type": "code",
   "execution_count": 35,
   "metadata": {},
   "outputs": [],
   "source": [
    "# NOTE: modified for cis graph. Makes mutation and compound mutation groups: (Truncation vs Truncation, other Mutation) \n",
    "#(Deletion vs Deletion, Somatic Mutations(s))\n",
    "\n",
    "def find_multi_cis_mut(cancer_obj,cis_gene):\n",
    "    #Get all somatic mutations \n",
    "    mutations = cancer_obj.get_somatic_mutation()\n",
    "    #get just somatic mutations for cis_gene\n",
    "    cis_mut = mutations[mutations.Gene == cis_gene]\n",
    "    cis_mut = cis_mut[[\"Mutation\"]]\n",
    "    \n",
    "    #simplfy names \n",
    "    cis_mut[\"Mutation\"].where(cis_mut[\"Mutation\"] != 'Missense_Mutation', 'Missense', inplace = True) # replaces when false\n",
    "    cis_mut[\"Mutation\"].where(cis_mut[\"Mutation\"] != 'In_Frame_Del', 'Indel', inplace = True)\n",
    "    cis_mut[\"Mutation\"].where(cis_mut[\"Mutation\"] != 'In_Frame_Ins', 'Indel', inplace = True)\n",
    "    \n",
    "    cis_mut[\"Mutation\"].where(cis_mut[\"Mutation\"] != 'nonframeshift insertion', 'Indel', inplace = True)\n",
    "    cis_mut[\"Mutation\"].where(cis_mut[\"Mutation\"] != 'frameshift deletion', 'Truncation', inplace = True)\n",
    "    cis_mut[\"Mutation\"].where(cis_mut[\"Mutation\"] != 'nonsynonymous SNV', 'Missense', inplace = True)\n",
    "    \n",
    "    #group Truncation\n",
    "    cis_mut[\"Mutation\"].where(cis_mut[\"Mutation\"] != 'Nonsense_Mutation', 'Truncation', inplace = True)\n",
    "    cis_mut[\"Mutation\"].where(cis_mut['Mutation'] != 'Frame_Shift_Del', 'Truncation', inplace = True)\n",
    "    cis_mut[\"Mutation\"].where(cis_mut['Mutation'] != 'Frame_Shift_Ins', 'Truncation', inplace = True)\n",
    "    \n",
    "    \n",
    "    # Multiple somatic mutations are indicated using multiple rows with the same patient ids.\n",
    "    # We will group the rows by patient ids and then relabel the columns that have multiple mutations \n",
    "    \n",
    "    cis_mut = cis_mut.groupby(level=['Patient_ID'], sort=False).agg( ','.join)\n",
    "    cis_mut = cis_mut[['Mutation']].apply(lambda x: x.str.split(',')) # put in list to use mult_mutations function\n",
    "    cis_mut.Mutation = cis_mut.Mutation.apply(lambda x: 'Truncation, Other_Mutation' if 'Truncation' in x and len(x) > 1 else x)\n",
    "    # change list to string\n",
    "    delim = ', '\n",
    "    cis_mut.Mutation = cis_mut.Mutation.apply(lambda x: delim.join(x) if type(x) is list else x)\n",
    "\n",
    "    #get CNV mutations \n",
    "    mut_copy_num = cancer_obj.get_genotype_all_vars(cis_gene, mutations_filter = [\"Deletion\",\"Amplification\",\"Wildtype_Tumor\"])\n",
    "    mut_copy_num[\"Mutation\"].where(mut_copy_num['Mutation'] != 'No_Mutation', 'Wildtype_Tumor', inplace = True) # change No_Mutation to Wildtype_Tumor\n",
    "    mut_copy_num = mut_copy_num[mut_copy_num['Mutation'].isin([\"Deletion\",\"Amplification\",\"Wildtype_Tumor\"])]\n",
    "    mut_copy_num = mut_copy_num.rename(columns={'Mutation': 'CNV_Mutation'})\n",
    "    mut_copy_num = mut_copy_num[\"CNV_Mutation\"]\n",
    "    mutations = pd.merge(mut_copy_num, cis_mut, on=\"Patient_ID\", how = \"outer\")\n",
    "    \n",
    "    # If mutation column is NaN replace with value in Mutation_Copy_Num\n",
    "    mutations['Mutation'] = mutations.apply(\n",
    "        lambda row: row['CNV_Mutation'] if pd.isnull(row['Mutation']) else row['Mutation'], axis=1)\n",
    "    #mutations = mutations.CNV_Mutation.fillna('', inplace=True)\n",
    "    #Make column All_Mutation which is a list of all mutations \n",
    "    mutations = mutations.replace(np.nan, '', regex=True)\n",
    "    mutations['All_Mutations'] = mutations.apply(\n",
    "        lambda row: row[\"CNV_Mutation\"] + \", Other_Mutation\" if (row[\"CNV_Mutation\"] != row[\"Mutation\"] and row[\"CNV_Mutation\"] != \"\") else row['Mutation'], axis=1)\n",
    "    mutations = mutations.rename(columns={'All_Mutations': 'All_Mutations_' + cis_gene})\n",
    "    return mutations"
   ]
  },
  {
   "cell_type": "code",
   "execution_count": 37,
   "metadata": {},
   "outputs": [
    {
     "name": "stderr",
     "output_type": "stream",
     "text": [
      "cptac warning: In joining the somatic_mutation table, no mutations were found for the following samples, so they were filled with Wildtype_Tumor or Wildtype_Normal: 72 samples for the PTEN gene (C:\\Users\\brittany henderson\\Anaconda3\\envs\\Research\\lib\\site-packages\\cptac\\dataset.py, line 313)\n",
      "cptac warning: CNV data was not found for the following samples, so CNV data columns were filled with NaN for these samples: C3L-01834 (C:\\Users\\brittany henderson\\Anaconda3\\envs\\Research\\lib\\site-packages\\cptac\\dataset.py, line 313)\n",
      "C:\\Users\\brittany henderson\\Anaconda3\\envs\\Research\\lib\\site-packages\\numpy\\core\\_asarray.py:83: VisibleDeprecationWarning: Creating an ndarray from ragged nested sequences (which is a list-or-tuple of lists-or-tuples-or ndarrays with different lengths or shapes) is deprecated. If you meant to do this, you must specify 'dtype=object' when creating the ndarray\n",
      "  return array(a, dtype, copy=False, order=order)\n"
     ]
    },
    {
     "data": {
      "text/html": [
       "<div>\n",
       "<style scoped>\n",
       "    .dataframe tbody tr th:only-of-type {\n",
       "        vertical-align: middle;\n",
       "    }\n",
       "\n",
       "    .dataframe tbody tr th {\n",
       "        vertical-align: top;\n",
       "    }\n",
       "\n",
       "    .dataframe thead th {\n",
       "        text-align: right;\n",
       "    }\n",
       "</style>\n",
       "<table border=\"1\" class=\"dataframe\">\n",
       "  <thead>\n",
       "    <tr style=\"text-align: right;\">\n",
       "      <th></th>\n",
       "      <th>CNV_Mutation</th>\n",
       "      <th>Mutation</th>\n",
       "      <th>All_Mutations_PTEN</th>\n",
       "    </tr>\n",
       "    <tr>\n",
       "      <th>Patient_ID</th>\n",
       "      <th></th>\n",
       "      <th></th>\n",
       "      <th></th>\n",
       "    </tr>\n",
       "  </thead>\n",
       "  <tbody>\n",
       "    <tr>\n",
       "      <th>C3L-00104</th>\n",
       "      <td>Deletion</td>\n",
       "      <td>Missense</td>\n",
       "      <td>Deletion, Other_Mutation</td>\n",
       "    </tr>\n",
       "    <tr>\n",
       "      <th>C3L-00365</th>\n",
       "      <td>Deletion</td>\n",
       "      <td>Deletion</td>\n",
       "      <td>Deletion</td>\n",
       "    </tr>\n",
       "    <tr>\n",
       "      <th>C3L-00674</th>\n",
       "      <td>Deletion</td>\n",
       "      <td>Missense</td>\n",
       "      <td>Deletion, Other_Mutation</td>\n",
       "    </tr>\n",
       "    <tr>\n",
       "      <th>C3L-00677</th>\n",
       "      <td>Deletion</td>\n",
       "      <td>Missense</td>\n",
       "      <td>Deletion, Other_Mutation</td>\n",
       "    </tr>\n",
       "    <tr>\n",
       "      <th>C3L-01040</th>\n",
       "      <td>Deletion</td>\n",
       "      <td>Deletion</td>\n",
       "      <td>Deletion</td>\n",
       "    </tr>\n",
       "    <tr>\n",
       "      <th>...</th>\n",
       "      <td>...</td>\n",
       "      <td>...</td>\n",
       "      <td>...</td>\n",
       "    </tr>\n",
       "    <tr>\n",
       "      <th>C3N-03186</th>\n",
       "      <td>Deletion</td>\n",
       "      <td>Deletion</td>\n",
       "      <td>Deletion</td>\n",
       "    </tr>\n",
       "    <tr>\n",
       "      <th>C3N-03188</th>\n",
       "      <td>Wildtype_Tumor</td>\n",
       "      <td>Wildtype_Tumor</td>\n",
       "      <td>Wildtype_Tumor</td>\n",
       "    </tr>\n",
       "    <tr>\n",
       "      <th>C3N-03473</th>\n",
       "      <td>Deletion</td>\n",
       "      <td>Deletion</td>\n",
       "      <td>Deletion</td>\n",
       "    </tr>\n",
       "    <tr>\n",
       "      <th>C3L-03260</th>\n",
       "      <td></td>\n",
       "      <td>Splice_Site</td>\n",
       "      <td>Splice_Site</td>\n",
       "    </tr>\n",
       "    <tr>\n",
       "      <th>C3N-02784</th>\n",
       "      <td></td>\n",
       "      <td>Missense</td>\n",
       "      <td>Missense</td>\n",
       "    </tr>\n",
       "  </tbody>\n",
       "</table>\n",
       "<p>99 rows × 3 columns</p>\n",
       "</div>"
      ],
      "text/plain": [
       "              CNV_Mutation        Mutation        All_Mutations_PTEN\n",
       "Patient_ID                                                          \n",
       "C3L-00104         Deletion        Missense  Deletion, Other_Mutation\n",
       "C3L-00365         Deletion        Deletion                  Deletion\n",
       "C3L-00674         Deletion        Missense  Deletion, Other_Mutation\n",
       "C3L-00677         Deletion        Missense  Deletion, Other_Mutation\n",
       "C3L-01040         Deletion        Deletion                  Deletion\n",
       "...                    ...             ...                       ...\n",
       "C3N-03186         Deletion        Deletion                  Deletion\n",
       "C3N-03188   Wildtype_Tumor  Wildtype_Tumor            Wildtype_Tumor\n",
       "C3N-03473         Deletion        Deletion                  Deletion\n",
       "C3L-03260                      Splice_Site               Splice_Site\n",
       "C3N-02784                         Missense                  Missense\n",
       "\n",
       "[99 rows x 3 columns]"
      ]
     },
     "execution_count": 37,
     "metadata": {},
     "output_type": "execute_result"
    }
   ],
   "source": [
    "find_multi_cis_mut(g, 'PTEN')"
   ]
  },
  {
   "cell_type": "markdown",
   "metadata": {},
   "source": [
    "# Step 1: Create data frames with PTEN cnv deletion and Proteomics"
   ]
  },
  {
   "cell_type": "markdown",
   "metadata": {},
   "source": [
    "Each cancer needs a data frame containing only samples that have PTEN cnv deletions or PTEN wildtype tumors and PTEN proteomics."
   ]
  },
  {
   "cell_type": "markdown",
   "metadata": {},
   "source": [
    "First, load in cancer data sets from cptac."
   ]
  },
  {
   "cell_type": "code",
   "execution_count": 5,
   "metadata": {},
   "outputs": [
    {
     "name": "stdout",
     "output_type": "stream",
     "text": [
      "Checking that luad index is up-to-date...       \r"
     ]
    },
    {
     "name": "stderr",
     "output_type": "stream",
     "text": [
      "cptac warning: The HNSCC data is currently strictly reserved for CPTAC investigators. Otherwise, you are not authorized to access these data. Additionally, even after these data become publicly available, they will be subject to a publication embargo (see https://proteomics.cancer.gov/data-portal/about/data-use-agreement or enter cptac.embargo() to open the webpage for more details). (C:\\Users\\brittany henderson\\Anaconda3\\envs\\Research\\lib\\site-packages\\ipykernel_launcher.py, line 2)\n"
     ]
    },
    {
     "name": "stdout",
     "output_type": "stream",
     "text": [
      "Checking that ovarian index is up-to-date...\r"
     ]
    },
    {
     "name": "stderr",
     "output_type": "stream",
     "text": [
      "cptac warning: The LSCC data is currently strictly reserved for CPTAC investigators. Otherwise, you are not authorized to access these data. Additionally, even after these data become publicly available, they will be subject to a publication embargo (see https://proteomics.cancer.gov/data-portal/about/data-use-agreement or enter cptac.embargo() to open the webpage for more details). (C:\\Users\\brittany henderson\\Anaconda3\\envs\\Research\\lib\\site-packages\\ipykernel_launcher.py, line 4)\n"
     ]
    },
    {
     "name": "stdout",
     "output_type": "stream",
     "text": [
      "Checking that brca index is up-to-date...   \r"
     ]
    },
    {
     "name": "stderr",
     "output_type": "stream",
     "text": [
      "cptac warning: The GBM dataset is under publication embargo until March 01, 2021. CPTAC is a community resource project and data are made available rapidly after generation for community research use. The embargo allows exploring and utilizing the data, but analysis may not be published until after the embargo date. Please see https://proteomics.cancer.gov/data-portal/about/data-use-agreement or enter cptac.embargo() to open the webpage for more details. (C:\\Users\\brittany henderson\\Anaconda3\\envs\\Research\\lib\\site-packages\\ipykernel_launcher.py, line 7)\n"
     ]
    },
    {
     "name": "stdout",
     "output_type": "stream",
     "text": [
      "                                         \r"
     ]
    }
   ],
   "source": [
    "en = cptac.Endometrial()\n",
    "h = cptac.Hnscc()\n",
    "l = cptac.Luad()\n",
    "ls = cptac.Lscc()\n",
    "o = cptac.Ovarian()\n",
    "col = cptac.Colon()\n",
    "g = cptac.Gbm()\n",
    "b = cptac.Brca()"
   ]
  },
  {
   "cell_type": "markdown",
   "metadata": {},
   "source": [
    "Next, use format_df to create the specific data frame for each cancer. Use wrap_ttest to test PTEN deletion vs. wildtype. "
   ]
  },
  {
   "cell_type": "markdown",
   "metadata": {},
   "source": [
    "# Get PTEN deletion"
   ]
  },
  {
   "cell_type": "code",
   "execution_count": 55,
   "metadata": {},
   "outputs": [
    {
     "name": "stderr",
     "output_type": "stream",
     "text": [
      "cptac warning: In joining the somatic_mutation table, no mutations were found for the following samples, so they were filled with Wildtype_Tumor or Wildtype_Normal: 72 samples for the PTEN gene (C:\\Users\\brittany henderson\\Anaconda3\\envs\\Research\\lib\\site-packages\\cptac\\dataset.py, line 313)\n",
      "cptac warning: CNV data was not found for the following samples, so CNV data columns were filled with NaN for these samples: C3L-01834 (C:\\Users\\brittany henderson\\Anaconda3\\envs\\Research\\lib\\site-packages\\cptac\\dataset.py, line 313)\n",
      "C:\\Users\\brittany henderson\\Anaconda3\\envs\\Research\\lib\\site-packages\\numpy\\core\\_asarray.py:83: VisibleDeprecationWarning: Creating an ndarray from ragged nested sequences (which is a list-or-tuple of lists-or-tuples-or ndarrays with different lengths or shapes) is deprecated. If you meant to do this, you must specify 'dtype=object' when creating the ndarray\n",
      "  return array(a, dtype, copy=False, order=order)\n",
      "cptac warning: In joining the somatic_mutation table, no mutations were found for the following samples, so they were filled with Wildtype_Tumor or Wildtype_Normal: 109 samples for the PTEN gene (C:\\Users\\brittany henderson\\Anaconda3\\envs\\Research\\lib\\site-packages\\cptac\\dataset.py, line 313)\n",
      "cptac warning: CNV data was not found for the following samples, so CNV data columns were filled with NaN for these samples: C3L-02617, C3N-02727 (C:\\Users\\brittany henderson\\Anaconda3\\envs\\Research\\lib\\site-packages\\cptac\\dataset.py, line 313)\n"
     ]
    },
    {
     "name": "stdout",
     "output_type": "stream",
     "text": [
      "GBM All_Mutations_PTEN      \n",
      "Deletion                    56\n",
      "Deletion, Other_Mutation    25\n",
      "Wildtype_Tumor              16\n",
      "dtype: int64 \n",
      "\n",
      "HNSCC All_Mutations_PTEN      \n",
      "Wildtype_Tumor              89\n",
      "Deletion                    17\n",
      "Deletion, Other_Mutation     1\n",
      "dtype: int64 \n",
      "\n",
      "LUAD All_Mutations_PTEN\n",
      "Wildtype_Tumor        88\n",
      "Deletion              17\n",
      "dtype: int64 \n",
      "\n",
      "LSCC All_Mutations_PTEN      \n",
      "Wildtype_Tumor              58\n",
      "Deletion                    35\n",
      "Deletion, Other_Mutation     4\n",
      "dtype: int64 \n",
      "\n"
     ]
    },
    {
     "name": "stderr",
     "output_type": "stream",
     "text": [
      "cptac warning: In joining the somatic_mutation table, no mutations were found for the following samples, so they were filled with Wildtype_Tumor or Wildtype_Normal: 96 samples for the PTEN gene (C:\\Users\\brittany henderson\\Anaconda3\\envs\\Research\\lib\\site-packages\\cptac\\dataset.py, line 313)\n",
      "cptac warning: In joining the somatic_mutation table, no mutations were found for the following samples, so they were filled with Wildtype_Tumor or Wildtype_Normal: 113 samples for the PTEN gene (C:\\Users\\brittany henderson\\Anaconda3\\envs\\Research\\lib\\site-packages\\cptac\\dataset.py, line 313)\n"
     ]
    },
    {
     "name": "stdout",
     "output_type": "stream",
     "text": [
      "BR All_Mutations_PTEN      \n",
      "Wildtype_Tumor              80\n",
      "Deletion                    21\n",
      "Deletion, Other_Mutation     3\n",
      "dtype: int64 \n",
      "\n",
      "CO All_Mutations_PTEN      \n",
      "Wildtype_Tumor              76\n",
      "Deletion                    23\n",
      "Deletion, Other_Mutation     2\n",
      "dtype: int64 \n",
      "\n",
      "OV All_Mutations_PTEN      \n",
      "Wildtype_Tumor              57\n",
      "Deletion                    24\n",
      "Deletion, Other_Mutation     2\n",
      "dtype: int64 \n",
      "\n"
     ]
    },
    {
     "name": "stderr",
     "output_type": "stream",
     "text": [
      "cptac warning: In joining the somatic_mutation table, no mutations were found for the following samples, so they were filled with Wildtype_Tumor or Wildtype_Normal: 100 samples for the PTEN gene (C:\\Users\\brittany henderson\\Anaconda3\\envs\\Research\\lib\\site-packages\\cptac\\dataset.py, line 313)\n",
      "cptac warning: CNV data was not found for the following samples, so CNV data columns were filled with NaN for these samples: 05CO045 (C:\\Users\\brittany henderson\\Anaconda3\\envs\\Research\\lib\\site-packages\\cptac\\dataset.py, line 313)\n",
      "cptac warning: In joining the somatic_mutation table, no mutations were found for the following samples, so they were filled with Wildtype_Tumor or Wildtype_Normal: 98 samples for the PTEN gene (C:\\Users\\brittany henderson\\Anaconda3\\envs\\Research\\lib\\site-packages\\cptac\\dataset.py, line 313)\n",
      "cptac warning: CNV data was not found for the following samples, so CNV data columns were filled with NaN for these samples: 01OV029, 02OV015 (C:\\Users\\brittany henderson\\Anaconda3\\envs\\Research\\lib\\site-packages\\cptac\\dataset.py, line 313)\n"
     ]
    }
   ],
   "source": [
    "#Select the cancers that you would like to test and add cptac data into a dictionary\n",
    "cptac_cancers = {'GBM':g, 'HNSCC':h, 'LUAD':l, 'LSCC':ls, 'BR':b, 'CO':col, 'OV':o}\n",
    "cis_gene1 = \"PTEN\"\n",
    "gene1_mut = [\"Deletion\", \"Deletion, Other_Mutation\", \"Wildtype_Tumor\"]\n",
    "trans_gene = 'MSH2' # 'MSH6' #'CHUK'\n",
    "#trans_gene = 'PRKDC'\n",
    "\n",
    "mut_dfs = {}\n",
    "for cancer in cptac_cancers:\n",
    "\n",
    "    gene1_mutations = find_multi_cis_mut(cptac_cancers[cancer],cis_gene1)\n",
    "    gene1_mutations = gene1_mutations[[\"All_Mutations_\"+cis_gene1]]\n",
    "    \n",
    "    #gene1_mutations['All_Mutations_' + cis_gene1] = [','.join(map(str, l)) for l in gene1_mutations['All_Mutations_' + cis_gene1]]\n",
    "    gene1_mutations[\"Cancer\"] = cancer\n",
    "    \n",
    "    #only gene1 with specified mutation\n",
    "    gene1_mutated = gene1_mutations.loc[gene1_mutations['All_Mutations_'+cis_gene1].isin(gene1_mut)]\n",
    "    \n",
    "    mut_dfs[cancer] = gene1_mutated\n",
    "    # Create csv\n",
    "    #gene1_mut_gene2_wt.to_csv('csv/'+cancer+'_pten_mut_pik3ca_wt.csv', index=False)\n",
    "    print(cancer, gene1_mutated[[\"All_Mutations_\"+cis_gene1]].value_counts(), '\\n')\n",
    "    "
   ]
  },
  {
   "cell_type": "code",
   "execution_count": 56,
   "metadata": {},
   "outputs": [
    {
     "name": "stdout",
     "output_type": "stream",
     "text": [
      "GBM All_Mutations_PTEN      \n",
      "Deletion                    56\n",
      "Deletion, Other_Mutation    25\n",
      "Wildtype_Tumor              16\n",
      "dtype: int64 \n",
      "\n",
      "['Deletion' 'Wildtype_Tumor']\n",
      "  Comparison   P_Value\n",
      "0       MSH2  0.002346 \n",
      "\n",
      "HNSCC All_Mutations_PTEN      \n",
      "Wildtype_Tumor              89\n",
      "Deletion                    17\n",
      "Deletion, Other_Mutation     1\n",
      "dtype: int64 \n",
      "\n",
      "['Wildtype_Tumor' 'Deletion']\n",
      "  Comparison   P_Value\n",
      "0       MSH2  0.001178 \n",
      "\n",
      "LUAD All_Mutations_PTEN\n",
      "Wildtype_Tumor        88\n",
      "Deletion              17\n",
      "dtype: int64 \n",
      "\n",
      "['Deletion' 'Wildtype_Tumor']\n",
      "  Comparison   P_Value\n",
      "0       MSH2  0.098071 \n",
      "\n",
      "LSCC All_Mutations_PTEN      \n",
      "Wildtype_Tumor              58\n",
      "Deletion                    35\n",
      "Deletion, Other_Mutation     4\n",
      "dtype: int64 \n",
      "\n",
      "['Deletion' 'Wildtype_Tumor']\n",
      "  Comparison   P_Value\n",
      "0       MSH2  0.000129 \n",
      "\n",
      "BR All_Mutations_PTEN      \n",
      "Wildtype_Tumor              80\n",
      "Deletion                    21\n",
      "Deletion, Other_Mutation     3\n",
      "dtype: int64 \n",
      "\n",
      "['Wildtype_Tumor' 'Deletion']\n",
      "  Comparison   P_Value\n",
      "0       MSH2  0.336214"
     ]
    },
    {
     "name": "stderr",
     "output_type": "stream",
     "text": [
      "C:\\Users\\brittany henderson\\Anaconda3\\envs\\Research\\lib\\site-packages\\ipykernel_launcher.py:18: SettingWithCopyWarning: \n",
      "A value is trying to be set on a copy of a slice from a DataFrame.\n",
      "Try using .loc[row_indexer,col_indexer] = value instead\n",
      "\n",
      "See the caveats in the documentation: https://pandas.pydata.org/pandas-docs/stable/user_guide/indexing.html#returning-a-view-versus-a-copy\n",
      "C:\\Users\\brittany henderson\\Anaconda3\\envs\\Research\\lib\\site-packages\\ipykernel_launcher.py:18: SettingWithCopyWarning: \n",
      "A value is trying to be set on a copy of a slice from a DataFrame.\n",
      "Try using .loc[row_indexer,col_indexer] = value instead\n",
      "\n",
      "See the caveats in the documentation: https://pandas.pydata.org/pandas-docs/stable/user_guide/indexing.html#returning-a-view-versus-a-copy\n",
      "cptac warning: Due to dropping the specified levels, dataframe now has 745 duplicated column headers. (C:\\Users\\brittany henderson\\Anaconda3\\envs\\Research\\lib\\site-packages\\ipykernel_launcher.py, line 10)\n",
      "C:\\Users\\brittany henderson\\Anaconda3\\envs\\Research\\lib\\site-packages\\ipykernel_launcher.py:18: SettingWithCopyWarning: \n",
      "A value is trying to be set on a copy of a slice from a DataFrame.\n",
      "Try using .loc[row_indexer,col_indexer] = value instead\n",
      "\n",
      "See the caveats in the documentation: https://pandas.pydata.org/pandas-docs/stable/user_guide/indexing.html#returning-a-view-versus-a-copy\n",
      "cptac warning: Due to dropping the specified levels, dataframe now has 858 duplicated column headers. (C:\\Users\\brittany henderson\\Anaconda3\\envs\\Research\\lib\\site-packages\\ipykernel_launcher.py, line 10)\n",
      "C:\\Users\\brittany henderson\\Anaconda3\\envs\\Research\\lib\\site-packages\\ipykernel_launcher.py:18: SettingWithCopyWarning: \n",
      "A value is trying to be set on a copy of a slice from a DataFrame.\n",
      "Try using .loc[row_indexer,col_indexer] = value instead\n",
      "\n",
      "See the caveats in the documentation: https://pandas.pydata.org/pandas-docs/stable/user_guide/indexing.html#returning-a-view-versus-a-copy\n",
      "cptac warning: Due to dropping the specified levels, dataframe now has 655 duplicated column headers. (C:\\Users\\brittany henderson\\Anaconda3\\envs\\Research\\lib\\site-packages\\ipykernel_launcher.py, line 10)\n",
      "C:\\Users\\brittany henderson\\Anaconda3\\envs\\Research\\lib\\site-packages\\ipykernel_launcher.py:18: SettingWithCopyWarning: \n",
      "A value is trying to be set on a copy of a slice from a DataFrame.\n",
      "Try using .loc[row_indexer,col_indexer] = value instead\n",
      "\n",
      "See the caveats in the documentation: https://pandas.pydata.org/pandas-docs/stable/user_guide/indexing.html#returning-a-view-versus-a-copy\n",
      "C:\\Users\\brittany henderson\\Anaconda3\\envs\\Research\\lib\\site-packages\\ipykernel_launcher.py:18: SettingWithCopyWarning: \n",
      "A value is trying to be set on a copy of a slice from a DataFrame.\n",
      "Try using .loc[row_indexer,col_indexer] = value instead\n",
      "\n",
      "See the caveats in the documentation: https://pandas.pydata.org/pandas-docs/stable/user_guide/indexing.html#returning-a-view-versus-a-copy\n",
      "cptac warning: Due to dropping the specified levels, dataframe now has 1162 duplicated column headers. (C:\\Users\\brittany henderson\\Anaconda3\\envs\\Research\\lib\\site-packages\\ipykernel_launcher.py, line 10)"
     ]
    },
    {
     "name": "stdout",
     "output_type": "stream",
     "text": [
      " \n",
      "\n",
      "CO All_Mutations_PTEN      \n",
      "Wildtype_Tumor              76\n",
      "Deletion                    23\n",
      "Deletion, Other_Mutation     2\n",
      "dtype: int64 \n",
      "\n",
      "['Wildtype_Tumor' 'Deletion']\n",
      "  Comparison   P_Value\n",
      "0       MSH2  0.829297 \n",
      "\n",
      "OV All_Mutations_PTEN      \n",
      "Wildtype_Tumor              57\n",
      "Deletion                    24\n",
      "Deletion, Other_Mutation     2\n",
      "dtype: int64 \n",
      "\n",
      "['Deletion' 'Wildtype_Tumor']\n",
      "  Comparison   P_Value\n",
      "0       MSH2  0.540656 \n",
      "\n"
     ]
    },
    {
     "name": "stderr",
     "output_type": "stream",
     "text": [
      "\n",
      "C:\\Users\\brittany henderson\\Anaconda3\\envs\\Research\\lib\\site-packages\\ipykernel_launcher.py:18: SettingWithCopyWarning: \n",
      "A value is trying to be set on a copy of a slice from a DataFrame.\n",
      "Try using .loc[row_indexer,col_indexer] = value instead\n",
      "\n",
      "See the caveats in the documentation: https://pandas.pydata.org/pandas-docs/stable/user_guide/indexing.html#returning-a-view-versus-a-copy\n"
     ]
    }
   ],
   "source": [
    "gene = 'PTEN'\n",
    "plot_dfs = {}\n",
    "\n",
    "for cancer in cptac_cancers:\n",
    "    ca = cptac_cancers[cancer]\n",
    "    \n",
    "    # get proteomics\n",
    "    prot = ca.get_proteomics(tissue_type = 'tumor') \n",
    "    if isinstance(prot.keys(), pd.core.indexes.multi.MultiIndex):\n",
    "        prot = u.reduce_multiindex(prot, levels_to_drop = 1)\n",
    "    prot = prot[[trans_gene]]\n",
    "\n",
    "    # get proteomics and only pten deletion\n",
    "    mut_df = mut_dfs[cancer]\n",
    "    pten_mut = mut_df[['All_Mutations_'+gene]]\n",
    "    only_del = prot.join(pten_mut, how = 'outer')\n",
    "    pten_del = only_del.dropna(subset = ['All_Mutations_'+gene]) # keep only pten deletions (no pik3ca mut)\n",
    "    pten_del['cancer'] = cancer\n",
    "\n",
    "    plot_dfs[cancer] = pten_del\n",
    "    \n",
    "    print(cancer, pten_del[[\"All_Mutations_\"+gene]].value_counts(), '\\n')\n",
    "    \n",
    "    binary_df = pten_del.loc[pten_del['All_Mutations_'+gene] != 'Deletion, Other_Mutation']\n",
    "    print(binary_df['All_Mutations_'+gene].unique())\n",
    "    pval = u.wrap_ttest(binary_df, 'All_Mutations_'+gene, [trans_gene], mincount = 3, return_all = True)\n",
    "    print(pval, '\\n')\n",
    "    "
   ]
  },
  {
   "cell_type": "markdown",
   "metadata": {},
   "source": [
    "# Endometrial"
   ]
  },
  {
   "cell_type": "markdown",
   "metadata": {},
   "source": [
    "The Endometrial data set does not have enough cnv deletions to perform a t-test, however the data set does have enough truncation type mutations (nonsense and frame shifts). Different code is needed to create the data frame for Endometrial."
   ]
  },
  {
   "cell_type": "code",
   "execution_count": 57,
   "metadata": {},
   "outputs": [
    {
     "name": "stdout",
     "output_type": "stream",
     "text": [
      "EC All_Mutations_PTEN        \n",
      "Truncation, Other_Mutation    25\n",
      "Truncation                    17\n",
      "Wildtype_Tumor                15\n",
      "dtype: int64 \n",
      "\n"
     ]
    },
    {
     "name": "stderr",
     "output_type": "stream",
     "text": [
      "cptac warning: In joining the somatic_mutation table, no mutations were found for the following samples, so they were filled with Wildtype_Tumor or Wildtype_Normal: 20 samples for the PTEN gene (C:\\Users\\brittany henderson\\Anaconda3\\envs\\Research\\lib\\site-packages\\cptac\\dataset.py, line 313)\n",
      "C:\\Users\\brittany henderson\\Anaconda3\\envs\\Research\\lib\\site-packages\\numpy\\core\\_asarray.py:83: VisibleDeprecationWarning: Creating an ndarray from ragged nested sequences (which is a list-or-tuple of lists-or-tuples-or ndarrays with different lengths or shapes) is deprecated. If you meant to do this, you must specify 'dtype=object' when creating the ndarray\n",
      "  return array(a, dtype, copy=False, order=order)\n"
     ]
    }
   ],
   "source": [
    "#Select the cancers that you would like to test and add cptac data into a dictionary\n",
    "endo = {'EC':en}\n",
    "cis_gene1 = \"PTEN\"\n",
    "gene1_mut = [\"Truncation\", 'Truncation, Other_Mutation', \"Wildtype_Tumor\"]\n",
    "\n",
    "endo_df = {}\n",
    "for cancer in endo:\n",
    "\n",
    "    gene1_mutations = find_multi_cis_mut(endo[cancer],cis_gene1)\n",
    "    gene1_mutations = gene1_mutations[[\"All_Mutations_\"+cis_gene1]]\n",
    "\n",
    "    #gene1_mutations['All_Mutations_' + cis_gene1] = [','.join(map(str, l)) for l in gene1_mutations['All_Mutations_' + cis_gene1]]\n",
    "    gene1_mutations[\"Cancer\"] = cancer\n",
    "    \n",
    "    #only gene1 with specified mutation\n",
    "    gene1_mutated = gene1_mutations.loc[gene1_mutations['All_Mutations_'+cis_gene1].isin(gene1_mut)]\n",
    "\n",
    "    endo_df[cancer] = gene1_mutated\n",
    "    # Create csv\n",
    "    #gene1_mut_gene2_wt.to_csv('csv/'+cancer+'_pten_mut_pik3ca_wt.csv', index=False)\n",
    "    print(cancer, gene1_mutated[[\"All_Mutations_\"+cis_gene1]].value_counts(), '\\n')\n",
    "    "
   ]
  },
  {
   "cell_type": "code",
   "execution_count": 58,
   "metadata": {},
   "outputs": [
    {
     "name": "stdout",
     "output_type": "stream",
     "text": [
      "EC All_Mutations_PTEN        \n",
      "Truncation, Other_Mutation    25\n",
      "Truncation                    17\n",
      "Wildtype_Tumor                15\n",
      "dtype: int64 \n",
      "\n",
      "['Truncation' 'Wildtype_Tumor']\n",
      "  Comparison   P_Value\n",
      "0       MSH2  0.002041 \n",
      "\n"
     ]
    },
    {
     "name": "stderr",
     "output_type": "stream",
     "text": [
      "C:\\Users\\brittany henderson\\Anaconda3\\envs\\Research\\lib\\site-packages\\ipykernel_launcher.py:19: SettingWithCopyWarning: \n",
      "A value is trying to be set on a copy of a slice from a DataFrame.\n",
      "Try using .loc[row_indexer,col_indexer] = value instead\n",
      "\n",
      "See the caveats in the documentation: https://pandas.pydata.org/pandas-docs/stable/user_guide/indexing.html#returning-a-view-versus-a-copy\n"
     ]
    }
   ],
   "source": [
    "gene = 'PTEN'\n",
    "\n",
    "for cancer in endo:\n",
    "    ca = endo[cancer]\n",
    "    \n",
    "    # get proteomics\n",
    "    prot = ca.get_proteomics(tissue_type = 'tumor') \n",
    "    prot = prot[[trans_gene]]\n",
    "\n",
    "    # get proteomics and only pten deletion\n",
    "    mut_df = endo_df[cancer]\n",
    "    pten_mut = mut_df[['All_Mutations_'+gene]]\n",
    "\n",
    "    # join\n",
    "    only_del = prot.join(pten_mut, how = 'outer')\n",
    "    pten_del = only_del.dropna(subset = ['All_Mutations_'+gene]) # keep only pten deletions (no pik3ca mut)\n",
    "    \n",
    "    # add to pancancer dictionary\n",
    "    pten_del['cancer'] = cancer\n",
    "    plot_dfs[cancer] = pten_del    \n",
    "    print(cancer, pten_del[[\"All_Mutations_\"+gene]].value_counts(), '\\n')\n",
    "    \n",
    "    binary_df = pten_del.loc[pten_del['All_Mutations_'+gene] != 'Truncation, Other_Mutation']\n",
    "    print(binary_df['All_Mutations_'+gene].unique())\n",
    "    pval = u.wrap_ttest(binary_df, 'All_Mutations_'+gene, [trans_gene], mincount = 3, return_all = True)\n",
    "    print(pval, '\\n')\n",
    "    "
   ]
  },
  {
   "cell_type": "markdown",
   "metadata": {},
   "source": [
    "# Step 2: Create a long dataframe for the boxplot"
   ]
  },
  {
   "cell_type": "markdown",
   "metadata": {},
   "source": [
    "The boxplot will take three columns: Proteomics, Mutation, and Cancer. We need to append all the individual cancer dfs into one long pancancer df. "
   ]
  },
  {
   "cell_type": "markdown",
   "metadata": {},
   "source": [
    "Next append the dfs."
   ]
  },
  {
   "cell_type": "code",
   "execution_count": 59,
   "metadata": {},
   "outputs": [
    {
     "name": "stdout",
     "output_type": "stream",
     "text": [
      "GBM 97\n",
      "HNSCC 107\n",
      "LUAD 105\n",
      "LSCC 97\n",
      "BR 104\n",
      "CO 101\n",
      "OV 83\n",
      "EC 57\n"
     ]
    }
   ],
   "source": [
    "all_df = pd.DataFrame()\n",
    "for cancer in plot_dfs:\n",
    "    df = plot_dfs[cancer]\n",
    "    print(cancer, len(df))\n",
    "    all_df = all_df.append(df) "
   ]
  },
  {
   "cell_type": "code",
   "execution_count": 60,
   "metadata": {},
   "outputs": [],
   "source": [
    "all_df = all_df.loc[all_df['cancer'] != 'HNSCC'] #take out hnscc (different scale)"
   ]
  },
  {
   "cell_type": "markdown",
   "metadata": {},
   "source": [
    "# Step 3: Create the Pancancer Boxplot"
   ]
  },
  {
   "cell_type": "code",
   "execution_count": 66,
   "metadata": {},
   "outputs": [
    {
     "data": {
      "text/plain": [
       "<matplotlib.legend.Legend at 0x1dc194e7a58>"
      ]
     },
     "execution_count": 66,
     "metadata": {},
     "output_type": "execute_result"
    },
    {
     "data": {
      "image/png": "[encoded data removed]",
      "text/plain": [
       "<Figure size 842.4x612 with 1 Axes>"
      ]
     },
     "metadata": {},
     "output_type": "display_data"
    }
   ],
   "source": [
    "# cis plot\n",
    "gene = 'PTEN'\n",
    "plt.rcParams['figure.figsize']=(11.7, 8.5) #size of plot\n",
    "sns.set(font_scale = 1.4, style = 'white')\n",
    "\n",
    "boxplot = sns.boxplot(data = all_df, x='cancer', y=trans_gene, hue = 'All_Mutations_'+gene,\n",
    "                      hue_order = [\"Wildtype_Tumor\", \"Deletion\", 'Deletion, Other_Mutation', 'Truncation',\n",
    "                                  'Truncation, Other_Mutation'], showfliers = False)    \n",
    "#boxplot.set_title('Pancancer cis effect of PTEN CNV Deletions')\n",
    "boxplot = sns.stripplot(data = all_df, x='cancer', y=trans_gene, jitter = True, \n",
    "                           color = \".3\", hue = 'All_Mutations_'+gene, hue_order = [\"Wildtype_Tumor\", \"Deletion\", \n",
    "                            'Deletion, Other_Mutation', 'Truncation', 'Truncation, Other_Mutation'], dodge = True)\n",
    "boxplot.set(xlabel = \"\\nPTEN Mutation Status\", ylabel = trans_gene+' Proteomics')\n",
    "\n",
    "# format legend\n",
    "handles, labels = boxplot.get_legend_handles_labels()\n",
    "plt.legend(handles[0:5], labels[0:5])"
   ]
  },
  {
   "cell_type": "code",
   "execution_count": 67,
   "metadata": {},
   "outputs": [],
   "source": [
    "# Save figure\n",
    "fig = boxplot.get_figure()\n",
    "fig.savefig(\"MSH2_trans_boxplot.png\", dpi = 300)"
   ]
  },
  {
   "cell_type": "code",
   "execution_count": 71,
   "metadata": {},
   "outputs": [
    {
     "data": {
      "image/png": "[encoded data removed]",
      "text/plain": [
       "<Figure size 122.4x612 with 1 Axes>"
      ]
     },
     "metadata": {},
     "output_type": "display_data"
    }
   ],
   "source": [
    "# Figure for Hnscc (higher scale)\n",
    "gene = 'PTEN'\n",
    "df = plot_dfs['HNSCC']\n",
    "plt.rcParams['figure.figsize']=(1.7,8.5) #size of plot\n",
    "sns.set(font_scale = 1.4, style = 'white')\n",
    "\n",
    "boxplot = sns.boxplot(x='cancer', y=trans_gene, data = df, hue = 'All_Mutations_'+gene,\n",
    "                      hue_order = [\"Wildtype_Tumor\", \"Deletion\", 'Deletion, Other_Mutation'], showfliers = False)    \n",
    "boxplot = sns.stripplot(x='cancer', y=trans_gene, data = df, jitter = True, \n",
    "                           color = \".3\", dodge = True, hue = 'All_Mutations_'+gene, hue_order = [\"Wildtype_Tumor\",\n",
    "                        \"Deletion\", 'Deletion, Other_Mutation'],)\n",
    "boxplot.set(xlabel = \"\", ylabel = trans_gene+' Proteomics')\n",
    "\n",
    "# format legend\n",
    "handles, labels = boxplot.get_legend_handles_labels()\n",
    "plt.legend(handles[0:0], labels[0:0])\n",
    "\n",
    "#format_pval_annotation(symbols['HNSCC'], -.2, .2, 24.8) '''\n",
    "\n",
    "plt.show()\n",
    "plt.clf()\n",
    "plt.close()"
   ]
  },
  {
   "cell_type": "code",
   "execution_count": 72,
   "metadata": {},
   "outputs": [],
   "source": [
    "# Save figure\n",
    "fig = boxplot.get_figure()\n",
    "fig.savefig(\"MSH2_HNSCC.png\", bbox_inches=\"tight\", dpi = 300)"
   ]
  },
  {
   "cell_type": "code",
   "execution_count": null,
   "metadata": {},
   "outputs": [],
   "source": []
  }
 ],
 "metadata": {
  "kernelspec": {
   "display_name": "Python 3",
   "language": "python",
   "name": "python3"
  },
  "language_info": {
   "codemirror_mode": {
    "name": "ipython",
    "version": 3
   },
   "file_extension": ".py",
   "mimetype": "text/x-python",
   "name": "python",
   "nbconvert_exporter": "python",
   "pygments_lexer": "ipython3",
   "version": "3.7.3"
  }
 },
 "nbformat": 4,
 "nbformat_minor": 2
}
