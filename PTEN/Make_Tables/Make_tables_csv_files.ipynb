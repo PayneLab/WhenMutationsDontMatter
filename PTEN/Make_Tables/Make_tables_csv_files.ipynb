{
 "cells": [
  {
   "cell_type": "markdown",
   "metadata": {},
   "source": [
    "# Make tables: Merge all cancer dfs and create csv files"
   ]
  },
  {
   "cell_type": "markdown",
   "metadata": {},
   "source": [
    "This notebook combines dfs with p-values and differential expressions for 8 cancers. \n",
    "Description of created csv files: \n",
    "* all_proteins - contains all data in normal format, \n",
    "* all_heatmap - all data appended to make a long table for easy use with heatmap function, \n",
    "* sig_pval_heatmap - contains only significant genes (long format),\n",
    "* mult_sig_pval_heatmap - contains only proteins significant in multiple cancers (long format), \n",
    "* pos_neg_df - contains only proteins showing a significant opposite effect in different cancers. "
   ]
  },
  {
   "cell_type": "markdown",
   "metadata": {},
   "source": [
    "Imports"
   ]
  },
  {
   "cell_type": "code",
   "execution_count": 1,
   "metadata": {},
   "outputs": [],
   "source": [
    "import pandas as pd\n",
    "import numpy as np"
   ]
  },
  {
   "cell_type": "markdown",
   "metadata": {},
   "source": [
    "Read in the signle cancer dfs with p-values and differential expressions. Merge all dfs into one pancancer data frame."
   ]
  },
  {
   "cell_type": "code",
   "execution_count": 2,
   "metadata": {},
   "outputs": [],
   "source": [
    "g_merged = pd.read_csv('csv/Single_Cancer/GBM_pval_medians.csv')\n",
    "h_merged = pd.read_csv('csv/Single_Cancer/HNSCC_pval_medians.csv')\n",
    "b_merged = pd.read_csv('csv/Single_Cancer/BR_pval_medians.csv')\n",
    "l_merged = pd.read_csv('csv/Single_Cancer/LUAD_pval_medians.csv')\n",
    "ls_merged = pd.read_csv('csv/Single_Cancer/LSCC_pval_medians.csv')\n",
    "e_merged = pd.read_csv('csv/Single_Cancer/EC_pval_medians.csv')\n",
    "o_merged = pd.read_csv('csv/Single_Cancer/OV_pval_medians.csv')\n",
    "c_merged = pd.read_csv('csv/Single_Cancer/CO_pval_medians.csv')"
   ]
  },
  {
   "cell_type": "markdown",
   "metadata": {},
   "source": [
    "# Make csv of all data"
   ]
  },
  {
   "cell_type": "code",
   "execution_count": 3,
   "metadata": {},
   "outputs": [
    {
     "name": "stdout",
     "output_type": "stream",
     "text": [
      "Total proteins: 15411\n"
     ]
    },
    {
     "data": {
      "text/html": [
       "<div>\n",
       "<style scoped>\n",
       "    .dataframe tbody tr th:only-of-type {\n",
       "        vertical-align: middle;\n",
       "    }\n",
       "\n",
       "    .dataframe tbody tr th {\n",
       "        vertical-align: top;\n",
       "    }\n",
       "\n",
       "    .dataframe thead th {\n",
       "        text-align: right;\n",
       "    }\n",
       "</style>\n",
       "<table border=\"1\" class=\"dataframe\">\n",
       "  <thead>\n",
       "    <tr style=\"text-align: right;\">\n",
       "      <th></th>\n",
       "      <th>Proteomics</th>\n",
       "      <th>GBM_P_Value</th>\n",
       "      <th>GBM_Median</th>\n",
       "      <th>HNSCC_P_Value</th>\n",
       "      <th>HNSCC_Median</th>\n",
       "      <th>LUAD_P_Value</th>\n",
       "      <th>LUAD_Median</th>\n",
       "      <th>LSCC_P_Value</th>\n",
       "      <th>LSCC_Median</th>\n",
       "      <th>BR_P_Value</th>\n",
       "      <th>BR_Median</th>\n",
       "      <th>OV_P_Value</th>\n",
       "      <th>OV_Median</th>\n",
       "      <th>EC_P_Value</th>\n",
       "      <th>EC_Median</th>\n",
       "      <th>CO_P_Value</th>\n",
       "      <th>CO_Median</th>\n",
       "    </tr>\n",
       "  </thead>\n",
       "  <tbody>\n",
       "    <tr>\n",
       "      <th>0</th>\n",
       "      <td>ARMH3</td>\n",
       "      <td>5.766739e-07</td>\n",
       "      <td>-0.405134</td>\n",
       "      <td>0.024047</td>\n",
       "      <td>-0.135941</td>\n",
       "      <td>0.222235</td>\n",
       "      <td>-0.37845</td>\n",
       "      <td>0.080777</td>\n",
       "      <td>-0.44280</td>\n",
       "      <td>NaN</td>\n",
       "      <td>NaN</td>\n",
       "      <td>NaN</td>\n",
       "      <td>NaN</td>\n",
       "      <td>0.034811</td>\n",
       "      <td>0.1503</td>\n",
       "      <td>NaN</td>\n",
       "      <td>NaN</td>\n",
       "    </tr>\n",
       "    <tr>\n",
       "      <th>1</th>\n",
       "      <td>CUTC</td>\n",
       "      <td>8.514758e-07</td>\n",
       "      <td>-0.553255</td>\n",
       "      <td>0.014672</td>\n",
       "      <td>-0.314307</td>\n",
       "      <td>0.056523</td>\n",
       "      <td>-1.01995</td>\n",
       "      <td>0.074059</td>\n",
       "      <td>-0.44410</td>\n",
       "      <td>0.536683</td>\n",
       "      <td>-0.5576</td>\n",
       "      <td>0.985704</td>\n",
       "      <td>-0.159424</td>\n",
       "      <td>0.330823</td>\n",
       "      <td>-0.2533</td>\n",
       "      <td>0.917530</td>\n",
       "      <td>-0.08210</td>\n",
       "    </tr>\n",
       "    <tr>\n",
       "      <th>2</th>\n",
       "      <td>CUL2</td>\n",
       "      <td>2.783477e-06</td>\n",
       "      <td>-0.586396</td>\n",
       "      <td>0.677585</td>\n",
       "      <td>0.017886</td>\n",
       "      <td>0.868772</td>\n",
       "      <td>0.05695</td>\n",
       "      <td>0.517703</td>\n",
       "      <td>-0.25475</td>\n",
       "      <td>0.957786</td>\n",
       "      <td>0.0246</td>\n",
       "      <td>0.991659</td>\n",
       "      <td>0.033091</td>\n",
       "      <td>0.957970</td>\n",
       "      <td>0.0232</td>\n",
       "      <td>0.902073</td>\n",
       "      <td>-0.07690</td>\n",
       "    </tr>\n",
       "    <tr>\n",
       "      <th>3</th>\n",
       "      <td>PIP4K2A</td>\n",
       "      <td>2.783477e-06</td>\n",
       "      <td>-0.838882</td>\n",
       "      <td>0.038186</td>\n",
       "      <td>-0.224713</td>\n",
       "      <td>0.847730</td>\n",
       "      <td>0.04535</td>\n",
       "      <td>0.328457</td>\n",
       "      <td>0.11725</td>\n",
       "      <td>0.789808</td>\n",
       "      <td>-0.1075</td>\n",
       "      <td>0.985704</td>\n",
       "      <td>0.052955</td>\n",
       "      <td>0.502967</td>\n",
       "      <td>0.1690</td>\n",
       "      <td>0.883481</td>\n",
       "      <td>0.10135</td>\n",
       "    </tr>\n",
       "    <tr>\n",
       "      <th>4</th>\n",
       "      <td>GDI2</td>\n",
       "      <td>2.783477e-06</td>\n",
       "      <td>-0.610188</td>\n",
       "      <td>0.827100</td>\n",
       "      <td>0.001559</td>\n",
       "      <td>NaN</td>\n",
       "      <td>NaN</td>\n",
       "      <td>0.799442</td>\n",
       "      <td>-0.06375</td>\n",
       "      <td>0.992087</td>\n",
       "      <td>0.1211</td>\n",
       "      <td>0.985704</td>\n",
       "      <td>-0.067389</td>\n",
       "      <td>0.283190</td>\n",
       "      <td>0.1286</td>\n",
       "      <td>0.999502</td>\n",
       "      <td>-0.04450</td>\n",
       "    </tr>\n",
       "  </tbody>\n",
       "</table>\n",
       "</div>"
      ],
      "text/plain": [
       "  Proteomics   GBM_P_Value  GBM_Median  HNSCC_P_Value  HNSCC_Median  \\\n",
       "0      ARMH3  5.766739e-07   -0.405134       0.024047     -0.135941   \n",
       "1       CUTC  8.514758e-07   -0.553255       0.014672     -0.314307   \n",
       "2       CUL2  2.783477e-06   -0.586396       0.677585      0.017886   \n",
       "3    PIP4K2A  2.783477e-06   -0.838882       0.038186     -0.224713   \n",
       "4       GDI2  2.783477e-06   -0.610188       0.827100      0.001559   \n",
       "\n",
       "   LUAD_P_Value  LUAD_Median  LSCC_P_Value  LSCC_Median  BR_P_Value  \\\n",
       "0      0.222235     -0.37845      0.080777     -0.44280         NaN   \n",
       "1      0.056523     -1.01995      0.074059     -0.44410    0.536683   \n",
       "2      0.868772      0.05695      0.517703     -0.25475    0.957786   \n",
       "3      0.847730      0.04535      0.328457      0.11725    0.789808   \n",
       "4           NaN          NaN      0.799442     -0.06375    0.992087   \n",
       "\n",
       "   BR_Median  OV_P_Value  OV_Median  EC_P_Value  EC_Median  CO_P_Value  \\\n",
       "0        NaN         NaN        NaN    0.034811     0.1503         NaN   \n",
       "1    -0.5576    0.985704  -0.159424    0.330823    -0.2533    0.917530   \n",
       "2     0.0246    0.991659   0.033091    0.957970     0.0232    0.902073   \n",
       "3    -0.1075    0.985704   0.052955    0.502967     0.1690    0.883481   \n",
       "4     0.1211    0.985704  -0.067389    0.283190     0.1286    0.999502   \n",
       "\n",
       "   CO_Median  \n",
       "0        NaN  \n",
       "1   -0.08210  \n",
       "2   -0.07690  \n",
       "3    0.10135  \n",
       "4   -0.04450  "
      ]
     },
     "execution_count": 3,
     "metadata": {},
     "output_type": "execute_result"
    }
   ],
   "source": [
    "df1 = g_merged.merge(h_merged, on='Proteomics',how='outer')\n",
    "df2 = df1.merge(l_merged, on='Proteomics',how='outer')\n",
    "df3 = df2.merge(ls_merged, on='Proteomics',how='outer')\n",
    "df4 = df3.merge(b_merged, on='Proteomics',how='outer')\n",
    "df5 = df4.merge(o_merged, on='Proteomics',how='outer')\n",
    "df6 = df5.merge(e_merged, on='Proteomics',how='outer')\n",
    "all_df = df6.merge(c_merged, on='Proteomics',how='outer')\n",
    "print('Total proteins:', len(all_df.Proteomics.unique()))\n",
    "all_df.head()"
   ]
  },
  {
   "cell_type": "code",
   "execution_count": 4,
   "metadata": {},
   "outputs": [],
   "source": [
    "all_df.to_csv('csv/all_proteins.csv', index=False)"
   ]
  },
  {
   "cell_type": "markdown",
   "metadata": {},
   "source": [
    "# Make csv of data formatted to use with the HeatMap function "
   ]
  },
  {
   "cell_type": "code",
   "execution_count": 5,
   "metadata": {},
   "outputs": [
    {
     "name": "stdout",
     "output_type": "stream",
     "text": [
      "Check total proteins: 15411\n"
     ]
    },
    {
     "name": "stderr",
     "output_type": "stream",
     "text": [
      "C:\\Users\\mtstu\\AppData\\Local\\Temp/ipykernel_9972/2499017910.py:13: FutureWarning: The frame.append method is deprecated and will be removed from pandas in a future version. Use pandas.concat instead.\n",
      "  all_long_df = all_long_df.append(m2)\n",
      "C:\\Users\\mtstu\\AppData\\Local\\Temp/ipykernel_9972/2499017910.py:13: FutureWarning: The frame.append method is deprecated and will be removed from pandas in a future version. Use pandas.concat instead.\n",
      "  all_long_df = all_long_df.append(m2)\n",
      "C:\\Users\\mtstu\\AppData\\Local\\Temp/ipykernel_9972/2499017910.py:13: FutureWarning: The frame.append method is deprecated and will be removed from pandas in a future version. Use pandas.concat instead.\n",
      "  all_long_df = all_long_df.append(m2)\n",
      "C:\\Users\\mtstu\\AppData\\Local\\Temp/ipykernel_9972/2499017910.py:13: FutureWarning: The frame.append method is deprecated and will be removed from pandas in a future version. Use pandas.concat instead.\n",
      "  all_long_df = all_long_df.append(m2)\n",
      "C:\\Users\\mtstu\\AppData\\Local\\Temp/ipykernel_9972/2499017910.py:13: FutureWarning: The frame.append method is deprecated and will be removed from pandas in a future version. Use pandas.concat instead.\n",
      "  all_long_df = all_long_df.append(m2)\n",
      "C:\\Users\\mtstu\\AppData\\Local\\Temp/ipykernel_9972/2499017910.py:13: FutureWarning: The frame.append method is deprecated and will be removed from pandas in a future version. Use pandas.concat instead.\n",
      "  all_long_df = all_long_df.append(m2)\n",
      "C:\\Users\\mtstu\\AppData\\Local\\Temp/ipykernel_9972/2499017910.py:13: FutureWarning: The frame.append method is deprecated and will be removed from pandas in a future version. Use pandas.concat instead.\n",
      "  all_long_df = all_long_df.append(m2)\n",
      "C:\\Users\\mtstu\\AppData\\Local\\Temp/ipykernel_9972/2499017910.py:13: FutureWarning: The frame.append method is deprecated and will be removed from pandas in a future version. Use pandas.concat instead.\n",
      "  all_long_df = all_long_df.append(m2)\n"
     ]
    }
   ],
   "source": [
    "# Create long df for heatmap\n",
    "\n",
    "cancer = ['GBM','HNSCC','LUAD','LSCC','BR','OV','EC','CO']\n",
    "merged_dfs = [g_merged,h_merged,l_merged,ls_merged,b_merged,o_merged,e_merged,c_merged]\n",
    "\n",
    "all_long_df = pd.DataFrame()\n",
    "i = 0\n",
    "for c in cancer:\n",
    "    m = merged_dfs[i]\n",
    "    m2 = m.assign(Cancer = c)\n",
    "    m2 = m2.rename(columns={c+'_P_Value': 'P_Value'})\n",
    "    m2 = m2.rename(columns={c+'_Median': 'Medians'})\n",
    "    all_long_df = all_long_df.append(m2) \n",
    "    if i < 7:\n",
    "        i += 1\n",
    "\n",
    "print('Check total proteins:', len(all_long_df.Proteomics.unique()))"
   ]
  },
  {
   "cell_type": "code",
   "execution_count": 6,
   "metadata": {},
   "outputs": [],
   "source": [
    "all_long_df.to_csv('csv/all_heatmap.csv', index=False)"
   ]
  },
  {
   "cell_type": "markdown",
   "metadata": {},
   "source": [
    "# Make csv of only significant proteins (formatted for heatmap)"
   ]
  },
  {
   "cell_type": "markdown",
   "metadata": {},
   "source": [
    "Read in list_sig_in_at_least_one_cancer.csv. Convert to a list of genes significant in at least 1 cancer. Slice out genes in the list from the df with all data."
   ]
  },
  {
   "cell_type": "code",
   "execution_count": 7,
   "metadata": {},
   "outputs": [],
   "source": [
    "sig = pd.read_csv('csv/list_sig_one_cancer.csv')\n",
    "list_sig = list(sig['0'])"
   ]
  },
  {
   "cell_type": "code",
   "execution_count": 8,
   "metadata": {},
   "outputs": [
    {
     "name": "stdout",
     "output_type": "stream",
     "text": [
      "Check total sig genes = 2630: 2658\n"
     ]
    }
   ],
   "source": [
    "# Keep genes with at least one sig ttest\n",
    "bool_df = all_long_df['Proteomics'].isin(list_sig)\n",
    "sig_df = all_long_df[bool_df]\n",
    "print('Check total sig genes = 2630:', len(sig_df.Proteomics.unique()))\n",
    "t = list(sig_df.Proteomics)"
   ]
  },
  {
   "cell_type": "code",
   "execution_count": 9,
   "metadata": {},
   "outputs": [],
   "source": [
    "sig_df.to_csv('csv/sig_pval_heatmap.csv', index=False)"
   ]
  },
  {
   "cell_type": "markdown",
   "metadata": {},
   "source": [
    "#  Make csv of proteins significant in multiple cancers (formatted for heatmap)"
   ]
  },
  {
   "cell_type": "code",
   "execution_count": 10,
   "metadata": {},
   "outputs": [],
   "source": [
    "mult = pd.read_csv('csv/list_sig_multiple_cancers.csv')\n",
    "list_mult = list(mult['0'])"
   ]
  },
  {
   "cell_type": "code",
   "execution_count": 11,
   "metadata": {},
   "outputs": [
    {
     "name": "stdout",
     "output_type": "stream",
     "text": [
      "Check total sig in multiple cancers = 332: 348\n"
     ]
    }
   ],
   "source": [
    "# Keep genes with > one sig ttest\n",
    "bool_df2 = all_long_df['Proteomics'].isin(list_mult)\n",
    "mult_df = all_long_df[bool_df2]\n",
    "print('Check total sig in multiple cancers = 332:', len(mult_df.Proteomics.unique()))"
   ]
  },
  {
   "cell_type": "code",
   "execution_count": 12,
   "metadata": {},
   "outputs": [],
   "source": [
    "mult_df.to_csv('csv/mult_sig_pval_heatmap.csv', index=False)"
   ]
  },
  {
   "cell_type": "markdown",
   "metadata": {},
   "source": [
    "#  Make csv of proteins with sig opposite effects "
   ]
  },
  {
   "cell_type": "markdown",
   "metadata": {},
   "source": [
    "This csv will contain proteins that have both a significant positive differential expression and a significant negative differential expression in different cancers. (See Make_tables_data_munging for calculation of differential expression of proteomics)"
   ]
  },
  {
   "cell_type": "code",
   "execution_count": 13,
   "metadata": {},
   "outputs": [],
   "source": [
    "# Returns true if both a pos and neg differential expression if found for the protein in the row\n",
    "\n",
    "def HasPosNeg(row):\n",
    "    hasPos = False\n",
    "    hasNeg= False\n",
    "    for item in row: \n",
    "        if pd.isnull(item):\n",
    "            continue\n",
    "        if item < 0:\n",
    "            hasNeg = True\n",
    "        if item > 0:\n",
    "            hasPos = True\n",
    "           \n",
    "    if hasPos & hasNeg:\n",
    "        return True\n",
    "    return False\n"
   ]
  },
  {
   "cell_type": "code",
   "execution_count": 14,
   "metadata": {},
   "outputs": [
    {
     "data": {
      "text/html": [
       "<div>\n",
       "<style scoped>\n",
       "    .dataframe tbody tr th:only-of-type {\n",
       "        vertical-align: middle;\n",
       "    }\n",
       "\n",
       "    .dataframe tbody tr th {\n",
       "        vertical-align: top;\n",
       "    }\n",
       "\n",
       "    .dataframe thead th {\n",
       "        text-align: right;\n",
       "    }\n",
       "</style>\n",
       "<table border=\"1\" class=\"dataframe\">\n",
       "  <thead>\n",
       "    <tr style=\"text-align: right;\">\n",
       "      <th></th>\n",
       "      <th>GBM_P_Value</th>\n",
       "      <th>HNSCC_P_Value</th>\n",
       "      <th>LUAD_P_Value</th>\n",
       "      <th>LSCC_P_Value</th>\n",
       "      <th>OV_P_Value</th>\n",
       "      <th>EC_P_Value</th>\n",
       "    </tr>\n",
       "    <tr>\n",
       "      <th>Proteomics</th>\n",
       "      <th></th>\n",
       "      <th></th>\n",
       "      <th></th>\n",
       "      <th></th>\n",
       "      <th></th>\n",
       "      <th></th>\n",
       "    </tr>\n",
       "  </thead>\n",
       "  <tbody>\n",
       "    <tr>\n",
       "      <th>ARMH3</th>\n",
       "      <td>5.766739e-07</td>\n",
       "      <td>0.024047</td>\n",
       "      <td>NaN</td>\n",
       "      <td>NaN</td>\n",
       "      <td>NaN</td>\n",
       "      <td>0.034811</td>\n",
       "    </tr>\n",
       "    <tr>\n",
       "      <th>CUTC</th>\n",
       "      <td>8.514758e-07</td>\n",
       "      <td>0.014672</td>\n",
       "      <td>NaN</td>\n",
       "      <td>NaN</td>\n",
       "      <td>NaN</td>\n",
       "      <td>NaN</td>\n",
       "    </tr>\n",
       "    <tr>\n",
       "      <th>CUL2</th>\n",
       "      <td>2.783477e-06</td>\n",
       "      <td>NaN</td>\n",
       "      <td>NaN</td>\n",
       "      <td>NaN</td>\n",
       "      <td>NaN</td>\n",
       "      <td>NaN</td>\n",
       "    </tr>\n",
       "    <tr>\n",
       "      <th>PIP4K2A</th>\n",
       "      <td>2.783477e-06</td>\n",
       "      <td>0.038186</td>\n",
       "      <td>NaN</td>\n",
       "      <td>NaN</td>\n",
       "      <td>NaN</td>\n",
       "      <td>NaN</td>\n",
       "    </tr>\n",
       "    <tr>\n",
       "      <th>GDI2</th>\n",
       "      <td>2.783477e-06</td>\n",
       "      <td>NaN</td>\n",
       "      <td>NaN</td>\n",
       "      <td>NaN</td>\n",
       "      <td>NaN</td>\n",
       "      <td>NaN</td>\n",
       "    </tr>\n",
       "    <tr>\n",
       "      <th>...</th>\n",
       "      <td>...</td>\n",
       "      <td>...</td>\n",
       "      <td>...</td>\n",
       "      <td>...</td>\n",
       "      <td>...</td>\n",
       "      <td>...</td>\n",
       "    </tr>\n",
       "    <tr>\n",
       "      <th>RSPH3</th>\n",
       "      <td>NaN</td>\n",
       "      <td>NaN</td>\n",
       "      <td>NaN</td>\n",
       "      <td>NaN</td>\n",
       "      <td>NaN</td>\n",
       "      <td>0.046155</td>\n",
       "    </tr>\n",
       "    <tr>\n",
       "      <th>ARMC3</th>\n",
       "      <td>NaN</td>\n",
       "      <td>NaN</td>\n",
       "      <td>NaN</td>\n",
       "      <td>NaN</td>\n",
       "      <td>NaN</td>\n",
       "      <td>0.030930</td>\n",
       "    </tr>\n",
       "    <tr>\n",
       "      <th>CCDC57</th>\n",
       "      <td>NaN</td>\n",
       "      <td>NaN</td>\n",
       "      <td>NaN</td>\n",
       "      <td>NaN</td>\n",
       "      <td>NaN</td>\n",
       "      <td>0.041460</td>\n",
       "    </tr>\n",
       "    <tr>\n",
       "      <th>EFHC2</th>\n",
       "      <td>NaN</td>\n",
       "      <td>NaN</td>\n",
       "      <td>NaN</td>\n",
       "      <td>0.047811</td>\n",
       "      <td>NaN</td>\n",
       "      <td>NaN</td>\n",
       "    </tr>\n",
       "    <tr>\n",
       "      <th>ARMC4</th>\n",
       "      <td>NaN</td>\n",
       "      <td>NaN</td>\n",
       "      <td>NaN</td>\n",
       "      <td>NaN</td>\n",
       "      <td>NaN</td>\n",
       "      <td>0.030103</td>\n",
       "    </tr>\n",
       "  </tbody>\n",
       "</table>\n",
       "<p>2658 rows × 6 columns</p>\n",
       "</div>"
      ],
      "text/plain": [
       "             GBM_P_Value  HNSCC_P_Value  LUAD_P_Value  LSCC_P_Value  \\\n",
       "Proteomics                                                            \n",
       "ARMH3       5.766739e-07       0.024047           NaN           NaN   \n",
       "CUTC        8.514758e-07       0.014672           NaN           NaN   \n",
       "CUL2        2.783477e-06            NaN           NaN           NaN   \n",
       "PIP4K2A     2.783477e-06       0.038186           NaN           NaN   \n",
       "GDI2        2.783477e-06            NaN           NaN           NaN   \n",
       "...                  ...            ...           ...           ...   \n",
       "RSPH3                NaN            NaN           NaN           NaN   \n",
       "ARMC3                NaN            NaN           NaN           NaN   \n",
       "CCDC57               NaN            NaN           NaN           NaN   \n",
       "EFHC2                NaN            NaN           NaN      0.047811   \n",
       "ARMC4                NaN            NaN           NaN           NaN   \n",
       "\n",
       "            OV_P_Value  EC_P_Value  \n",
       "Proteomics                          \n",
       "ARMH3              NaN    0.034811  \n",
       "CUTC               NaN         NaN  \n",
       "CUL2               NaN         NaN  \n",
       "PIP4K2A            NaN         NaN  \n",
       "GDI2               NaN         NaN  \n",
       "...                ...         ...  \n",
       "RSPH3              NaN    0.046155  \n",
       "ARMC3              NaN    0.030930  \n",
       "CCDC57             NaN    0.041460  \n",
       "EFHC2              NaN         NaN  \n",
       "ARMC4              NaN    0.030103  \n",
       "\n",
       "[2658 rows x 6 columns]"
      ]
     },
     "execution_count": 14,
     "metadata": {},
     "output_type": "execute_result"
    }
   ],
   "source": [
    "# Get df with only pval columns - Keep only sig values\n",
    "new_df = all_df.set_index('Proteomics')\n",
    "sig = new_df[new_df.columns[::2]].where(new_df < 0.05, np.nan) # replaces when false\n",
    "only_sig = sig.dropna(how = 'all', axis = 'columns') \n",
    "only_sig = only_sig.dropna(how = 'all', axis = 'rows')\n",
    "only_sig"
   ]
  },
  {
   "cell_type": "code",
   "execution_count": 15,
   "metadata": {},
   "outputs": [
    {
     "data": {
      "text/plain": [
       "Index(['GBM_Median', 'HNSCC_Median', 'LUAD_Median', 'LSCC_Median', 'BR_Median',\n",
       "       'OV_Median', 'EC_Median', 'CO_Median'],\n",
       "      dtype='object')"
      ]
     },
     "execution_count": 15,
     "metadata": {},
     "output_type": "execute_result"
    }
   ],
   "source": [
    "# Keep only differential expression (median) columns\n",
    "only_med = new_df[new_df.columns[1::2]]\n",
    "only_med.columns"
   ]
  },
  {
   "cell_type": "code",
   "execution_count": 16,
   "metadata": {},
   "outputs": [
    {
     "name": "stdout",
     "output_type": "stream",
     "text": [
      "Total number of sig genes: 2658\n"
     ]
    }
   ],
   "source": [
    "sig_cancer = ['GBM', 'HNSCC', 'LUAD', 'LSCC', 'OV', 'EC'] # none sig in CO or BR\n",
    "sig_dfs = {}\n",
    "\n",
    "# Create df with pval and med of sig genes of one cancer - Add to dictionary\n",
    "for c in sig_cancer:\n",
    "    med = only_med[[c+'_Median']]\n",
    "    pval = only_sig[[c+'_P_Value']]\n",
    "    merged = pval.merge(med, on = 'Proteomics', how='left') # keep all pvals\n",
    "    sig_med_df = merged.dropna()\n",
    "    sig_dfs[c] = sig_med_df\n",
    "\n",
    "# Combine all dfs with only real values for sig pval median pairs\n",
    "all_sig = pd.DataFrame()\n",
    "for c in sig_dfs:\n",
    "    all_sig = all_sig.join(sig_dfs[c], how = 'outer') # join including all values\n",
    "\n",
    "print('Total number of sig genes:', len(all_sig.index))"
   ]
  },
  {
   "cell_type": "code",
   "execution_count": 17,
   "metadata": {},
   "outputs": [],
   "source": [
    "# Checks"
   ]
  },
  {
   "cell_type": "code",
   "execution_count": 18,
   "metadata": {},
   "outputs": [
    {
     "data": {
      "text/plain": [
       "111"
      ]
     },
     "execution_count": 18,
     "metadata": {},
     "output_type": "execute_result"
    }
   ],
   "source": [
    "# check # see make_fig_2_data_munging\n",
    "c = 'LUAD'\n",
    "l2 = all_sig[[c+'_P_Value', c+'_Median']].dropna(axis = 0, how= 'all')\n",
    "luad2 = list(l2.index)\n",
    "len(luad2)"
   ]
  },
  {
   "cell_type": "code",
   "execution_count": 19,
   "metadata": {},
   "outputs": [
    {
     "data": {
      "text/html": [
       "<div>\n",
       "<style scoped>\n",
       "    .dataframe tbody tr th:only-of-type {\n",
       "        vertical-align: middle;\n",
       "    }\n",
       "\n",
       "    .dataframe tbody tr th {\n",
       "        vertical-align: top;\n",
       "    }\n",
       "\n",
       "    .dataframe thead th {\n",
       "        text-align: right;\n",
       "    }\n",
       "</style>\n",
       "<table border=\"1\" class=\"dataframe\">\n",
       "  <thead>\n",
       "    <tr style=\"text-align: right;\">\n",
       "      <th></th>\n",
       "      <th>GBM_Median</th>\n",
       "      <th>HNSCC_Median</th>\n",
       "      <th>LUAD_Median</th>\n",
       "      <th>LSCC_Median</th>\n",
       "      <th>OV_Median</th>\n",
       "      <th>EC_Median</th>\n",
       "    </tr>\n",
       "    <tr>\n",
       "      <th>Proteomics</th>\n",
       "      <th></th>\n",
       "      <th></th>\n",
       "      <th></th>\n",
       "      <th></th>\n",
       "      <th></th>\n",
       "      <th></th>\n",
       "    </tr>\n",
       "  </thead>\n",
       "  <tbody>\n",
       "    <tr>\n",
       "      <th>ITGAL</th>\n",
       "      <td>-0.591693</td>\n",
       "      <td>-0.477094</td>\n",
       "      <td>NaN</td>\n",
       "      <td>NaN</td>\n",
       "      <td>NaN</td>\n",
       "      <td>NaN</td>\n",
       "    </tr>\n",
       "  </tbody>\n",
       "</table>\n",
       "</div>"
      ],
      "text/plain": [
       "            GBM_Median  HNSCC_Median  LUAD_Median  LSCC_Median  OV_Median  \\\n",
       "Proteomics                                                                  \n",
       "ITGAL        -0.591693     -0.477094          NaN          NaN        NaN   \n",
       "\n",
       "            EC_Median  \n",
       "Proteomics             \n",
       "ITGAL             NaN  "
      ]
     },
     "execution_count": 19,
     "metadata": {},
     "output_type": "execute_result"
    }
   ],
   "source": [
    "# check \n",
    "only_med_of_sig = all_sig[['GBM_Median','HNSCC_Median','LUAD_Median','LSCC_Median','OV_Median','EC_Median']]\n",
    "test = only_med_of_sig.index.isin(['ITGAL']) # sig luad -> ITGAL_isoform_1 (most consistent?)\n",
    "only_med_of_sig[test]"
   ]
  },
  {
   "cell_type": "code",
   "execution_count": 20,
   "metadata": {},
   "outputs": [],
   "source": [
    "# checks"
   ]
  },
  {
   "cell_type": "markdown",
   "metadata": {},
   "source": [
    "Map the proteins with a pos and neg differential expression with the HasPosNeg function. Slice out proteins meeting this criteria from the df formatted for the heatmap function."
   ]
  },
  {
   "cell_type": "code",
   "execution_count": 21,
   "metadata": {},
   "outputs": [
    {
     "name": "stderr",
     "output_type": "stream",
     "text": [
      "C:\\Users\\mtstu\\AppData\\Local\\Temp/ipykernel_9972/3429634396.py:2: SettingWithCopyWarning: \n",
      "A value is trying to be set on a copy of a slice from a DataFrame.\n",
      "Try using .loc[row_indexer,col_indexer] = value instead\n",
      "\n",
      "See the caveats in the documentation: https://pandas.pydata.org/pandas-docs/stable/user_guide/indexing.html#returning-a-view-versus-a-copy\n",
      "  only_med_of_sig[\"Pos_Neg\"] = only_med_of_sig.apply(HasPosNeg, axis = 1)\n"
     ]
    },
    {
     "data": {
      "text/plain": [
       "128"
      ]
     },
     "execution_count": 21,
     "metadata": {},
     "output_type": "execute_result"
    }
   ],
   "source": [
    "only_med_of_sig = all_sig[['GBM_Median','HNSCC_Median','LUAD_Median','LSCC_Median','OV_Median','EC_Median']]\n",
    "only_med_of_sig[\"Pos_Neg\"] = only_med_of_sig.apply(HasPosNeg, axis = 1)\n",
    "pn = only_med_of_sig.loc[only_med_of_sig['Pos_Neg'] == True]\n",
    "pn_genes = list(pn.index) # list of genes that have pos and neg\n",
    "\n",
    "# Slice\n",
    "get = sig_df.Proteomics.isin(pn_genes)\n",
    "pos_neg_df = sig_df[get] # Keep genes with pos and neg\n",
    "len(pos_neg_df.Proteomics.unique())"
   ]
  },
  {
   "cell_type": "code",
   "execution_count": 22,
   "metadata": {},
   "outputs": [],
   "source": [
    "pos_neg_df.to_csv('csv/pos_neg_df.csv', index=False)"
   ]
  },
  {
   "cell_type": "markdown",
   "metadata": {},
   "source": [
    "# Get number of proteins with significant opposite effects"
   ]
  },
  {
   "cell_type": "markdown",
   "metadata": {},
   "source": [
    "Count proteins with an opposite effect. An opposite effect occurs when there is a significant increase in the protein abundance in one cancer and there is a significant decrease in the protein abundance in a different cancer."
   ]
  },
  {
   "cell_type": "code",
   "execution_count": 23,
   "metadata": {},
   "outputs": [
    {
     "name": "stdout",
     "output_type": "stream",
     "text": [
      "Proteins with significant opposite effects: 128\n"
     ]
    }
   ],
   "source": [
    "get = mult_df.Proteomics.isin(pn_genes)\n",
    "mult_sig_pn = mult_df[get] # Keep genes with pos and neg\n",
    "proteins_opposite_effect = mult_sig_pn.Proteomics.unique()\n",
    "print('Proteins with significant opposite effects:', len(proteins_opposite_effect))"
   ]
  },
  {
   "cell_type": "markdown",
   "metadata": {},
   "source": [
    "# Calculate percentage of proteins with significant opposite effects"
   ]
  },
  {
   "cell_type": "code",
   "execution_count": 24,
   "metadata": {},
   "outputs": [
    {
     "name": "stdout",
     "output_type": "stream",
     "text": [
      "Percent of proteins with significant opposite effects:  128 / 348 * 100 =  36.7816091954023\n"
     ]
    }
   ],
   "source": [
    "mult_sig_total = len(list_mult)\n",
    "opposite = len(proteins_opposite_effect)\n",
    "print('Percent of proteins with significant opposite effects: ', opposite, '/', mult_sig_total, '* 100 = ',\n",
    "      opposite / mult_sig_total *100)"
   ]
  }
 ],
 "metadata": {
  "kernelspec": {
   "display_name": "Python 3 (ipykernel)",
   "language": "python",
   "name": "python3"
  },
  "language_info": {
   "codemirror_mode": {
    "name": "ipython",
    "version": 3
   },
   "file_extension": ".py",
   "mimetype": "text/x-python",
   "name": "python",
   "nbconvert_exporter": "python",
   "pygments_lexer": "ipython3",
   "version": "3.9.7"
  }
 },
 "nbformat": 4,
 "nbformat_minor": 2
}
