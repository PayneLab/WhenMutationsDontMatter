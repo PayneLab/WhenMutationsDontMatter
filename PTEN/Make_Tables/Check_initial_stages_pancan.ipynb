{
 "cells": [
  {
   "cell_type": "markdown",
   "metadata": {},
   "source": [
    "# Make tables: calculate p-values and differential expressions for each cancer "
   ]
  },
  {
   "cell_type": "markdown",
   "metadata": {},
   "source": [
    "Create a dataframe with p-value results from t-tests for all proteins (trans proteomics when PTEN has cnv deletions compared to PTEN wildtype). The dataframe also includes the change in medians between deletions and wildtype. Prepare these tables for further analysis by creating csv files."
   ]
  },
  {
   "cell_type": "code",
   "execution_count": 15,
   "metadata": {},
   "outputs": [],
   "source": [
    "import pandas as pd\n",
    "import numpy as np\n",
    "import scipy.stats\n",
    "import re\n",
    "\n",
    "import cptac\n",
    "import cptac.utils as u\n",
    "import plot_utils as p"
   ]
  },
  {
   "cell_type": "code",
   "execution_count": 2,
   "metadata": {},
   "outputs": [],
   "source": [
    "import warnings\n",
    "warnings.filterwarnings('ignore')"
   ]
  },
  {
   "cell_type": "code",
   "execution_count": 3,
   "metadata": {},
   "outputs": [],
   "source": [
    "# Returns a dataframe with proteomics and mutation type\n",
    "\n",
    "# all_prot: list of trans genes\n",
    "\n",
    "def all_prot_format_df(cancer_object, all_prot, gene_in = 'PTEN', utils = u):\n",
    "    mut_type = cancer_object.get_genotype_all_vars(gene_in)\n",
    "    \n",
    "    if cancer_object.get_cancer_type() not in ('luad'):\n",
    "        # Keep only tumor samples from proteomics\n",
    "        prot_and_mutations = cancer_object.join_omics_to_mutations(\n",
    "            mutations_genes = [gene_in], omics_df_name = 'proteomics', omics_genes = all_prot, tissue_type = 'tumor')\n",
    "        # Reduce a multiindex \n",
    "        if isinstance(prot_and_mutations.keys(), pd.core.indexes.multi.MultiIndex):\n",
    "            prot_and_mutations = utils.reduce_multiindex(prot_and_mutations, levels_to_drop = 1)\n",
    "            prot_and_mutations = rename_duplicate_cols(prot_and_mutations)\n",
    "        \n",
    "        # Merge Mutation column from get_genotype_all_vars (includes cnv) with proteomics\n",
    "        mut_type = mut_type[['Mutation']] \n",
    "        prot_df = prot_and_mutations.iloc[:,:-4] # Keep only proteomics\n",
    "        merged = prot_df.join(mut_type)\n",
    "        \n",
    "        # Keep only Wildtype and deletion\n",
    "        compare = ['Wildtype_Tumor','Deletion']\n",
    "        get = merged['Mutation'].isin(compare)\n",
    "        mut_wt = merged[get]\n",
    "    \n",
    "    \n",
    "    # Luad has no somatic mutations for PTEN which changes some things\n",
    "    elif cancer_object.get_cancer_type() in ('luad'): \n",
    "        # get_genotype_all_vars add cnv data under the column PTEN\n",
    "        mut_type = mut_type.drop(columns= gene_in)\n",
    "        # different code because no somatic mutation data for pten (can't join to somatic mutations)\n",
    "        omics = cancer_object.join_omics_to_omics(df1_name = 'CNV', df2_name='proteomics',genes1= gene_in, \n",
    "            genes2= all_prot, tissue_type = 'tumor')\n",
    "        omics = utils.reduce_multiindex(omics, levels_to_drop = 1, flatten = True)\n",
    "        omics = rename_duplicate_cols(omics)\n",
    "        omics = omics.drop(columns='PTEN_CNV')\n",
    "       \n",
    "        # Merge Mutation column from get_genotype_all_vars (includes cnv) with proteomics\n",
    "        merged = omics.join(mut_type) \n",
    "        # Keep only No_Mutation (wildtype) and deletion\n",
    "        compare = ['No_Mutation','Deletion']\n",
    "        get = merged['Mutation'].isin(compare)\n",
    "        mut_wt = merged[get]\n",
    "        mut_wt['Mutation'] = np.where(\n",
    "            mut_wt['Mutation'] == 'No_Mutation', 'Wildtype_Tumor', 'Deletion')\n",
    "    \n",
    "    mut_wt = mut_wt.rename(columns={col: re.sub(r'_proteomics', '', col) for col in mut_wt.columns.tolist()})\n",
    "    return mut_wt\n"
   ]
  },
  {
   "cell_type": "code",
   "execution_count": 4,
   "metadata": {},
   "outputs": [],
   "source": [
    "'''\n",
    "Params\n",
    "cancer_object: Object. Variable for the loaded cancer data set.\n",
    "cancer_name: Str. name to add to the created dataframe.\n",
    "del_wt_df: DataFrame. Only samples with deletions and wildtype for PTEN. \n",
    "all_prot_list: List. All proteins in proteomics data frame. \n",
    "\n",
    "Returns a dataframe with the difference in medians between proteomics with PTEN wt and del (wt - del). \n",
    "'''\n",
    "\n",
    "def get_change_in_medians_df(cancer_object, cancer_name, del_wt_df, all_prot_list):\n",
    "    if  cancer_object.get_cancer_type() in ('endometrial'):\n",
    "        d = del_wt_df[del_wt_df.Mutation == \"Truncation\"]\n",
    "        wt = del_wt_df[del_wt_df.Mutation == \"Wildtype_Tumor\"]\n",
    "    else:\n",
    "        d = del_wt_df[del_wt_df.Mutation == \"Deletion\"]\n",
    "        wt = del_wt_df[del_wt_df.Mutation == \"Wildtype_Tumor\"]\n",
    "    del_med = d.median()\n",
    "    wt_med = wt.median()\n",
    "\n",
    "    med_dict = {}\n",
    "    \n",
    "    # Correlation: + is mutant up compared to wt, - is mutant down\n",
    "    for prot in all_prot_list:\n",
    "        if prot in del_med.index and prot in wt_med.index:\n",
    "            dif = del_med[prot] - wt_med[prot]\n",
    "            med_dict[prot] = dif\n",
    "        \n",
    "    df = pd.DataFrame.from_dict(med_dict, orient='index', columns=[cancer_name+'_Median'])\n",
    "    df = df.reset_index().rename(columns={'index':'Proteomics'})\n",
    "    \n",
    "    return df\n",
    "        "
   ]
  },
  {
   "cell_type": "code",
   "execution_count": 5,
   "metadata": {},
   "outputs": [],
   "source": [
    "# Adds '_i' to duplicate col names where i is a number (increases with each duplicate)\n",
    "\n",
    "def rename_duplicate_cols(df):\n",
    "    cols = pd.Series(df.columns[:])\n",
    "\n",
    "    for dup in cols[cols.duplicated()].unique(): \n",
    "        cols[cols[cols == dup].index.values.tolist()] = [dup + '_' + str(i) if i != 0 else dup for i in range(sum(cols == dup))]\n",
    "\n",
    "    # rename the columns with the cols list.\n",
    "    df.columns=cols\n",
    "    return df"
   ]
  },
  {
   "cell_type": "markdown",
   "metadata": {},
   "source": [
    "#  Step 1: Create data frames with p-values and differential expressions"
   ]
  },
  {
   "cell_type": "markdown",
   "metadata": {},
   "source": [
    "Each cancer needs a data frame containing only samples that have PTEN cnv deletions and PTEN wildtype with trans proteomics. Use wrap_ttest to run t-tests for all genes in the proteomic data frame. Use get_change_in_medians_df to create the data frame with differential expression values. Merge both data frames. "
   ]
  },
  {
   "cell_type": "markdown",
   "metadata": {},
   "source": [
    "Load in cancer data sets from cptac. "
   ]
  },
  {
   "cell_type": "code",
   "execution_count": 6,
   "metadata": {},
   "outputs": [
    {
     "name": "stdout",
     "output_type": "stream",
     "text": [
      "                                                \r"
     ]
    }
   ],
   "source": [
    "g = cptac.Gbm()\n",
    "en = cptac.Endometrial()\n",
    "h = cptac.Hnscc()\n",
    "l = cptac.Luad()\n",
    "ls = cptac.Lscc()\n",
    "o = cptac.Ovarian()\n",
    "col = cptac.Colon()\n",
    "b = cptac.Brca()"
   ]
  },
  {
   "cell_type": "code",
   "execution_count": 147,
   "metadata": {},
   "outputs": [
    {
     "data": {
      "text/plain": [
       "1328"
      ]
     },
     "execution_count": 147,
     "metadata": {},
     "output_type": "execute_result"
    }
   ],
   "source": [
    "pten_int = u.get_interacting_proteins_wikipathways('PTEN')\n",
    "len(pten_int)"
   ]
  },
  {
   "cell_type": "code",
   "execution_count": null,
   "metadata": {},
   "outputs": [],
   "source": []
  },
  {
   "cell_type": "code",
   "execution_count": 183,
   "metadata": {},
   "outputs": [
    {
     "name": "stdout",
     "output_type": "stream",
     "text": [
      "Colon\n",
      "Wildtype_Tumor    36\n",
      "Deletion          16\n",
      "Name: Mutation, dtype: int64\n",
      "     Comparison   P_Value\n",
      "0          NAXE  0.095506\n",
      "1        FAM45A  0.175503\n",
      "2          FHL2  0.338536\n",
      "3       NDUFAF3  0.338536\n",
      "4      EPB41L4B  0.381870\n",
      "...         ...       ...\n",
      "7144      RPS19  0.999189\n",
      "7145      RPS4X  0.999189\n",
      "7146     KIF13A  0.999189\n",
      "7147    PGLYRP2  0.999371\n",
      "7148      TEX10  0.999901\n",
      "\n",
      "[7149 rows x 2 columns] \n",
      "\n",
      "LSCC\n",
      "Deletion          17\n",
      "Wildtype_Tumor    16\n",
      "Name: Mutation, dtype: int64\n",
      "      Comparison   P_Value\n",
      "0          PARVA  0.080529\n",
      "1         CAVIN3  0.080529\n",
      "2         ZSWIM8  0.080529\n",
      "3          FBXO2  0.080529\n",
      "4         MYOF_1  0.080529\n",
      "...          ...       ...\n",
      "11549       UFC1  0.998698\n",
      "11550       ESPN  0.998698\n",
      "11551     CORO1A  0.998774\n",
      "11552     ZNF581  0.999530\n",
      "11553     TUBB4B  0.999743\n",
      "\n",
      "[11554 rows x 2 columns] \n",
      "\n",
      "BR\n",
      "Wildtype_Tumor    42\n",
      "Deletion          18\n",
      "Name: Mutation, dtype: int64\n",
      "      Comparison   P_Value\n",
      "0           TIA1  0.144369\n",
      "1         ANP32A  0.144369\n",
      "2         NHLRC2  0.174384\n",
      "3           BAG2  0.174384\n",
      "4           EDC4  0.174384\n",
      "...          ...       ...\n",
      "10086       GPN3  0.999931\n",
      "10087       GATB  0.999995\n",
      "10088      EVI2B  0.999995\n",
      "10089       IFI6  0.999995\n",
      "10090      RAB14  0.999995\n",
      "\n",
      "[10091 rows x 2 columns] \n",
      "\n",
      "OV\n",
      "Wildtype_Tumor    8\n",
      "Deletion          5\n",
      "Name: Mutation, dtype: int64\n",
      "     Comparison   P_Value\n",
      "0          A1BG  0.998800\n",
      "1        PPP6R3  0.998800\n",
      "2        PPP6R2  0.998800\n",
      "3        PPP6R1  0.998800\n",
      "4         PPP6C  0.998800\n",
      "...         ...       ...\n",
      "9239      SOGA1  0.999551\n",
      "9240      RPS29  0.999551\n",
      "9241    SERINC1  0.999709\n",
      "9242    PSMB2_1  0.999885\n",
      "9243     SNAP23  0.999885\n",
      "\n",
      "[9244 rows x 2 columns] \n",
      "\n"
     ]
    }
   ],
   "source": [
    "gene = 'PTEN'\n",
    "cancer_obj = {'Colon': col, 'LSCC': ls, 'BR': b, 'OV': o} \n",
    "\n",
    "for name in cancer_obj:\n",
    "    cancer = cancer_obj[name]\n",
    "    print(name)\n",
    "    prot = cancer.get_proteomics()\n",
    "    if isinstance(prot.keys(), pd.core.indexes.multi.MultiIndex):\n",
    "        prot= u.reduce_multiindex(prot, levels_to_drop = 1)\n",
    "    prot = prot.drop(columns = 'PTEN') # cis effect\n",
    "    prot_cols = list(prot.columns)\n",
    "    \n",
    "    # Choose how many proteins to test\n",
    "    #prot_list = pten_int # interacting\n",
    "    prot_list = prot_cols # all proteins\n",
    "    \n",
    "    del_wt = all_prot_format_df(cancer, prot_list)\n",
    "\n",
    "    # check how many samples are in stage 1 and have PTEN loss\n",
    "    clinical = cancer.get_clinical(tissue_type = 'tumor')\n",
    "\n",
    "\n",
    "    # get a list of all samples with initial stages\n",
    "    id_list = []\n",
    "\n",
    "    if cancer.get_cancer_type() in ('colon'):\n",
    "        stage_list = ['Stage I', 'Stage II'] # colon\n",
    "    if cancer.get_cancer_type() in ('lscc'):\n",
    "        stage_list = ['I',  'IA', 'IB'] # LSCC\n",
    "    if cancer.get_cancer_type() in ('brca'):\n",
    "        stage_list = ['Stage IIA', 'Stage IIB'] #brca\n",
    "    if cancer.get_cancer_type() in ('ovarian'):\n",
    "        stage_list = ['IV'] #ov\n",
    "\n",
    "    for stage in stage_list:\n",
    "        if cancer.get_cancer_type() in ('ovarian'):\n",
    "            stage_df = clinical.loc[clinical['Tumor_Stage_Ovary_FIGO'] == stage]\n",
    "        else:\n",
    "            stage_df = clinical.loc[clinical['Stage'] == stage]\n",
    "\n",
    "        s1 = list(stage_df.index)\n",
    "        id_list += s1\n",
    "    #print('Num total samples of initial stages:', len(id_list))\n",
    "\n",
    "    # Keep samples of initial stages\n",
    "    initial = del_wt[del_wt.index.isin(id_list)]\n",
    "    print(initial.Mutation.value_counts())\n",
    "\n",
    "    prot_cols = list(initial.columns[:-1])\n",
    "\n",
    "    # Get all pvals\n",
    "    pval = u.wrap_ttest(initial, 'Mutation', prot_cols, return_all = True, correction_method = 'fdr_bh', mincount = 3)\n",
    "    print(pval, '\\n')"
   ]
  },
  {
   "cell_type": "code",
   "execution_count": null,
   "metadata": {},
   "outputs": [],
   "source": []
  }
 ],
 "metadata": {
  "kernelspec": {
   "display_name": "Python 3",
   "language": "python",
   "name": "python3"
  },
  "language_info": {
   "codemirror_mode": {
    "name": "ipython",
    "version": 3
   },
   "file_extension": ".py",
   "mimetype": "text/x-python",
   "name": "python",
   "nbconvert_exporter": "python",
   "pygments_lexer": "ipython3",
   "version": "3.7.3"
  }
 },
 "nbformat": 4,
 "nbformat_minor": 2
}
