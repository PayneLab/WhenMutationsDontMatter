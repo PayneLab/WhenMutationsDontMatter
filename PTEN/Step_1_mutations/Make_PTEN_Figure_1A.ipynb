{
 "cells": [
  {
   "cell_type": "markdown",
   "metadata": {},
   "source": [
    "# Create Figure 1 for PTEN"
   ]
  },
  {
   "cell_type": "markdown",
   "metadata": {},
   "source": [
    "This notebook creates a histogram that shows the different PTEN mutations found in 9 cancers."
   ]
  },
  {
   "cell_type": "code",
   "execution_count": 1,
   "metadata": {},
   "outputs": [],
   "source": [
    "import pandas as pd\n",
    "import numpy as np\n",
    "import seaborn as sns\n",
    "import matplotlib.pyplot as plt\n",
    "import scipy.stats\n",
    "import gseapy as gp\n",
    "import re\n",
    "import sys \n",
    "\n",
    "import cptac\n",
    "import cptac.utils as u\n",
    "\n",
    "import plot_utils as ut"
   ]
  },
  {
   "cell_type": "code",
   "execution_count": 2,
   "metadata": {},
   "outputs": [],
   "source": [
    "import warnings\n",
    "warnings.filterwarnings('ignore')"
   ]
  },
  {
   "cell_type": "markdown",
   "metadata": {},
   "source": [
    "# Step 1: Create data frames with Mutation Types"
   ]
  },
  {
   "cell_type": "markdown",
   "metadata": {},
   "source": [
    "For each cancer type, create a data frame that has the mutation type for each sample."
   ]
  },
  {
   "cell_type": "markdown",
   "metadata": {},
   "source": [
    "First, load in the cancer data sets from cptac."
   ]
  },
  {
   "cell_type": "code",
   "execution_count": 3,
   "metadata": {},
   "outputs": [
    {
     "name": "stdout",
     "output_type": "stream",
     "text": [
      "version 3scc v3.2.......                        \n",
      "                                            \r"
     ]
    }
   ],
   "source": [
    "en = cptac.Endometrial()\n",
    "hn = cptac.Hnscc()\n",
    "l = cptac.Luad()\n",
    "ls = cptac.Lscc()\n",
    "o = cptac.Ovarian()\n",
    "c = cptac.Ccrcc()\n",
    "col = cptac.Colon()\n",
    "g = cptac.Gbm()\n",
    "b = cptac.Brca()"
   ]
  },
  {
   "cell_type": "code",
   "execution_count": 4,
   "metadata": {},
   "outputs": [],
   "source": [
    "def plot_mutations(dflist = None, names_of_df=None):\n",
    "    number_of_df = len(dflist)\n",
    "    \n",
    "    allLabels = []\n",
    "    for df in dflist:\n",
    "        #get the labels for each and make a combined label that they'll all use\n",
    "        mutation = df[\"Mutation\"]\n",
    "        labels = set(mutation)\n",
    "        allLabels.append(labels)\n",
    "\n",
    "    \n",
    "    flat_list = [item for sublist in allLabels for item in sublist]\n",
    "    all_labels = list(set(flat_list))\n",
    "    all_labels.sort()\n",
    "    allLabels = all_labels\n",
    "    \n",
    "#     For each df, add na to their labels if it doesn't exist in all_labels\n",
    "    labels_for_each_df = []\n",
    "    frequencies_for_each_df = []\n",
    "    for df in dflist:\n",
    "        mutation = df[\"Mutation\"].tolist()\n",
    "        mutationlist = list(set(mutation))\n",
    "        mutationlist.sort()\n",
    "        ordered_mut_list = []\n",
    "        match = True\n",
    "        mutPosition = 0\n",
    "        \n",
    "        for position in range(len(all_labels)):\n",
    "            try:\n",
    "                \n",
    "                if mutationlist[mutPosition] == all_labels[position]:\n",
    "                    ordered_mut_list.append(mutationlist[mutPosition])\n",
    "                    mutPosition += 1\n",
    "\n",
    "                else:\n",
    "                    ordered_mut_list.append(\"na\")\n",
    "\n",
    "            except IndexError:  \n",
    "                ordered_mut_list.append(\"na\")\n",
    "       \n",
    "        \n",
    "        labels_for_each_df.append(ordered_mut_list)\n",
    "\n",
    "        #get the freq of each mutation type\n",
    "        freq = []\n",
    "        for mutation_type in ordered_mut_list:\n",
    "            freq.append(mutation.count(mutation_type))\n",
    "\n",
    "        PercentFreq = [x*100 / sum(freq) for x in freq]\n",
    "        frequencies_for_each_df.append(PercentFreq)\n",
    "        \n",
    "        \n",
    "    #Now plot it using arrays\n",
    "    width = 0.1\n",
    "    x = np.arange(len(allLabels))\n",
    "    a4_dims = (11, 6) #dimensions for bigger plot\n",
    "    fig, ax = plt.subplots(figsize=a4_dims)\n",
    "    for position in range(0, number_of_df):\n",
    "        r = ax.bar(x+(width*position), frequencies_for_each_df[position], width,label=names_of_df[position], alpha=.5, linewidth=0)\n",
    "        \n",
    "    \n",
    "    ax.set_xticks(x)\n",
    "    ax.set_xticklabels(allLabels, size = 15)\n",
    "    ax.set_ylabel('Percent Sample', size = 20)\n",
    "    ax.yaxis.set_tick_params(labelsize=17)\n",
    "    plt.ylim(0, 100)\n",
    "    ax.legend(prop={'size': 15})\n",
    "    \n",
    "\n",
    "    fig.tight_layout()\n",
    "    plt.setp(ax.get_xticklabels(),rotation=45)\n",
    "    plt.show()\n",
    "    \n",
    "    #save fig\n",
    "    fig.savefig(\"Step_1_PTEN.png\", bbox_inches=\"tight\", dpi = 300)\n",
    "    "
   ]
  },
  {
   "cell_type": "markdown",
   "metadata": {},
   "source": [
    "Second, call get_geneotype_all_vars for PTEN for each cancer type. This returns a df with columns for Mutation (type of mutation), Location (location of the mutation), and Mutation_Status (wildtype or mutation count)."
   ]
  },
  {
   "cell_type": "code",
   "execution_count": 5,
   "metadata": {},
   "outputs": [],
   "source": [
    "gene = \"PTEN\""
   ]
  },
  {
   "cell_type": "code",
   "execution_count": 6,
   "metadata": {},
   "outputs": [],
   "source": [
    "endo = en.get_genotype_all_vars(gene)\n",
    "gbm = g.get_genotype_all_vars(gene)\n",
    "hnscc = hn.get_genotype_all_vars(gene)\n",
    "ovar = o.get_genotype_all_vars(gene)\n",
    "cc = c.get_genotype_all_vars(gene)\n",
    "colon = col.get_genotype_all_vars(gene)\n",
    "ld = l.get_genotype_all_vars(gene)\n",
    "lscc = ls.get_genotype_all_vars(gene)\n",
    "brca = b.get_genotype_all_vars(gene)"
   ]
  },
  {
   "cell_type": "code",
   "execution_count": 7,
   "metadata": {},
   "outputs": [
    {
     "data": {
      "text/html": [
       "<div>\n",
       "<style scoped>\n",
       "    .dataframe tbody tr th:only-of-type {\n",
       "        vertical-align: middle;\n",
       "    }\n",
       "\n",
       "    .dataframe tbody tr th {\n",
       "        vertical-align: top;\n",
       "    }\n",
       "\n",
       "    .dataframe thead th {\n",
       "        text-align: right;\n",
       "    }\n",
       "</style>\n",
       "<table border=\"1\" class=\"dataframe\">\n",
       "  <thead>\n",
       "    <tr style=\"text-align: right;\">\n",
       "      <th>Name</th>\n",
       "      <th>Mutation</th>\n",
       "      <th>Location</th>\n",
       "      <th>Mutation_Status</th>\n",
       "    </tr>\n",
       "    <tr>\n",
       "      <th>Patient_ID</th>\n",
       "      <th></th>\n",
       "      <th></th>\n",
       "      <th></th>\n",
       "    </tr>\n",
       "  </thead>\n",
       "  <tbody>\n",
       "    <tr>\n",
       "      <th>C3L-00006</th>\n",
       "      <td>Nonsense_Mutation</td>\n",
       "      <td>p.R233*</td>\n",
       "      <td>Multiple_mutation</td>\n",
       "    </tr>\n",
       "    <tr>\n",
       "      <th>C3L-00008</th>\n",
       "      <td>Missense_Mutation</td>\n",
       "      <td>p.G127R</td>\n",
       "      <td>Single_mutation</td>\n",
       "    </tr>\n",
       "    <tr>\n",
       "      <th>C3L-00032</th>\n",
       "      <td>Nonsense_Mutation</td>\n",
       "      <td>p.W111*</td>\n",
       "      <td>Single_mutation</td>\n",
       "    </tr>\n",
       "    <tr>\n",
       "      <th>C3L-00090</th>\n",
       "      <td>Missense_Mutation</td>\n",
       "      <td>p.R130G</td>\n",
       "      <td>Multiple_mutation</td>\n",
       "    </tr>\n",
       "    <tr>\n",
       "      <th>C3L-00098</th>\n",
       "      <td>Wildtype_Tumor</td>\n",
       "      <td>No_mutation</td>\n",
       "      <td>Wildtype_Tumor</td>\n",
       "    </tr>\n",
       "  </tbody>\n",
       "</table>\n",
       "</div>"
      ],
      "text/plain": [
       "Name                 Mutation     Location    Mutation_Status\n",
       "Patient_ID                                                   \n",
       "C3L-00006   Nonsense_Mutation      p.R233*  Multiple_mutation\n",
       "C3L-00008   Missense_Mutation      p.G127R    Single_mutation\n",
       "C3L-00032   Nonsense_Mutation      p.W111*    Single_mutation\n",
       "C3L-00090   Missense_Mutation      p.R130G  Multiple_mutation\n",
       "C3L-00098      Wildtype_Tumor  No_mutation     Wildtype_Tumor"
      ]
     },
     "execution_count": 7,
     "metadata": {},
     "output_type": "execute_result"
    }
   ],
   "source": [
    "#test\n",
    "endo.head()"
   ]
  },
  {
   "cell_type": "code",
   "execution_count": 8,
   "metadata": {},
   "outputs": [
    {
     "data": {
      "text/html": [
       "<div>\n",
       "<style scoped>\n",
       "    .dataframe tbody tr th:only-of-type {\n",
       "        vertical-align: middle;\n",
       "    }\n",
       "\n",
       "    .dataframe tbody tr th {\n",
       "        vertical-align: top;\n",
       "    }\n",
       "\n",
       "    .dataframe thead th {\n",
       "        text-align: right;\n",
       "    }\n",
       "</style>\n",
       "<table border=\"1\" class=\"dataframe\">\n",
       "  <thead>\n",
       "    <tr style=\"text-align: right;\">\n",
       "      <th>Name</th>\n",
       "      <th>Mutation</th>\n",
       "      <th>Location</th>\n",
       "      <th>Mutation_Status</th>\n",
       "    </tr>\n",
       "    <tr>\n",
       "      <th>Patient_ID</th>\n",
       "      <th></th>\n",
       "      <th></th>\n",
       "      <th></th>\n",
       "    </tr>\n",
       "  </thead>\n",
       "  <tbody>\n",
       "    <tr>\n",
       "      <th>C3L-00006</th>\n",
       "      <td>Nonsense_Mutation</td>\n",
       "      <td>p.R233*</td>\n",
       "      <td>Multiple_mutation</td>\n",
       "    </tr>\n",
       "    <tr>\n",
       "      <th>C3L-00008</th>\n",
       "      <td>Missense</td>\n",
       "      <td>p.G127R</td>\n",
       "      <td>Single_mutation</td>\n",
       "    </tr>\n",
       "    <tr>\n",
       "      <th>C3L-00032</th>\n",
       "      <td>Nonsense_Mutation</td>\n",
       "      <td>p.W111*</td>\n",
       "      <td>Single_mutation</td>\n",
       "    </tr>\n",
       "    <tr>\n",
       "      <th>C3L-00090</th>\n",
       "      <td>Missense</td>\n",
       "      <td>p.R130G</td>\n",
       "      <td>Multiple_mutation</td>\n",
       "    </tr>\n",
       "    <tr>\n",
       "      <th>C3L-00098</th>\n",
       "      <td>Wildtype</td>\n",
       "      <td>No_mutation</td>\n",
       "      <td>Wildtype_Tumor</td>\n",
       "    </tr>\n",
       "  </tbody>\n",
       "</table>\n",
       "</div>"
      ],
      "text/plain": [
       "Name                 Mutation     Location    Mutation_Status\n",
       "Patient_ID                                                   \n",
       "C3L-00006   Nonsense_Mutation      p.R233*  Multiple_mutation\n",
       "C3L-00008            Missense      p.G127R    Single_mutation\n",
       "C3L-00032   Nonsense_Mutation      p.W111*    Single_mutation\n",
       "C3L-00090            Missense      p.R130G  Multiple_mutation\n",
       "C3L-00098            Wildtype  No_mutation     Wildtype_Tumor"
      ]
     },
     "execution_count": 8,
     "metadata": {},
     "output_type": "execute_result"
    }
   ],
   "source": [
    "# Simplify mutation names\n",
    "dfs = [endo, gbm, hnscc, ovar, cc, colon, ld, brca, lscc, cc]\n",
    "for df in dfs:\n",
    "    df['Mutation'].where(df['Mutation'] != 'Missense_Mutation', 'Missense', inplace = True) # replaces when false\n",
    "    df['Mutation'].where(df['Mutation'] != 'Wildtype_Tumor', 'Wildtype', inplace = True)\n",
    "endo.head()"
   ]
  },
  {
   "cell_type": "code",
   "execution_count": 9,
   "metadata": {},
   "outputs": [
    {
     "data": {
      "text/plain": [
       "Wildtype               76\n",
       "Deletion               25\n",
       "nonsynonymous SNV       3\n",
       "frameshift deletion     1\n",
       "Amplification           1\n",
       "Name: Mutation, dtype: int64"
      ]
     },
     "execution_count": 9,
     "metadata": {},
     "output_type": "execute_result"
    }
   ],
   "source": [
    "colon.Mutation.value_counts()"
   ]
  },
  {
   "cell_type": "markdown",
   "metadata": {},
   "source": [
    "# Step 2: Match Mutation Labels"
   ]
  },
  {
   "cell_type": "markdown",
   "metadata": {},
   "source": [
    "The Colon dataset labeled their mutations slightly differently. Nonsynonymous snv in this case is a missense mutation. Nonframeshift insertion was changed to match In_Frame_Ins. Frameshift deletion was canged to match Frame_Shift_Del."
   ]
  },
  {
   "cell_type": "code",
   "execution_count": 10,
   "metadata": {},
   "outputs": [],
   "source": [
    "colon[\"Mutation\"] = colon['Mutation'].replace(['nonsynonymous SNV'], 'Missense')\n",
    "\n",
    "colon[\"Mutation\"] = colon['Mutation'].replace(['nonframeshift insertion'], 'In_Frame_Ins')\n",
    "\n",
    "colon[\"Mutation\"] = colon['Mutation'].replace(['frameshift deletion'], 'Frame_Shift_Del')"
   ]
  },
  {
   "cell_type": "code",
   "execution_count": 11,
   "metadata": {},
   "outputs": [
    {
     "data": {
      "text/plain": [
       "Wildtype           76\n",
       "Deletion           25\n",
       "Missense            3\n",
       "Frame_Shift_Del     1\n",
       "Amplification       1\n",
       "Name: Mutation, dtype: int64"
      ]
     },
     "execution_count": 11,
     "metadata": {},
     "output_type": "execute_result"
    }
   ],
   "source": [
    "colon.Mutation.value_counts()"
   ]
  },
  {
   "cell_type": "code",
   "execution_count": 12,
   "metadata": {},
   "outputs": [],
   "source": [
    "#combine to make indel mutation type \n",
    "lscc[\"Mutation\"] = lscc['Mutation'].replace(['In_Frame_Del'], 'In_Frame_Indel')\n",
    "\n",
    "#combine to make truncation muatation type\n",
    "nonsense = [endo, ovar, cc, brca, lscc]\n",
    "for df in nonsense:\n",
    "    df[\"Mutation\"] = df['Mutation'].replace(['Nonsense_Mutation'], 'Truncating') \n",
    "    \n",
    "frame_shift_del = [endo, ovar, colon, brca, lscc]\n",
    "for df in frame_shift_del:\n",
    "    df[\"Mutation\"] = df['Mutation'].replace(['Frame_Shift_Del'], 'Truncating')\n",
    "    \n",
    "frame_shift_ins = [endo]\n",
    "for df in frame_shift_ins:\n",
    "    df[\"Mutation\"] = df['Mutation'].replace(['Frame_Shift_Ins'], 'Truncating')"
   ]
  },
  {
   "cell_type": "markdown",
   "metadata": {},
   "source": [
    "The get_genotype_all_var function created the No_Mutation label when no somatic mutations were found for PTEN in the Luad dataset. This is the same as Wildtype_Tumor. "
   ]
  },
  {
   "cell_type": "code",
   "execution_count": 13,
   "metadata": {},
   "outputs": [],
   "source": [
    "ld[\"Mutation\"] = ld['Mutation'].replace(['No_Mutation'], 'Wildtype')"
   ]
  },
  {
   "cell_type": "markdown",
   "metadata": {},
   "source": [
    "# Step 3: Create Figure"
   ]
  },
  {
   "cell_type": "markdown",
   "metadata": {},
   "source": [
    "Create a list of the mutation data frames. Create a list of cancer names for the figure legend. Call the plot_mutations function."
   ]
  },
  {
   "cell_type": "code",
   "execution_count": 14,
   "metadata": {},
   "outputs": [
    {
     "data": {
      "image/png": "[encoded data removed]",
      "text/plain": [
       "<Figure size 792x432 with 1 Axes>"
      ]
     },
     "metadata": {
      "needs_background": "light"
     },
     "output_type": "display_data"
    }
   ],
   "source": [
    "dfs = [endo, gbm, hnscc, ovar, cc, colon, ld, brca, lscc]\n",
    "names = ['Endometrial', 'Glioblastoma', 'Head and Neck', 'Ovarian', 'Kidney', 'Colon', 'Lung Adenocarcinoma', 'Breast', \n",
    "         'Lung Squamous']\n",
    "plot_mutations(dfs, names)"
   ]
  },
  {
   "cell_type": "code",
   "execution_count": 15,
   "metadata": {},
   "outputs": [
    {
     "name": "stdout",
     "output_type": "stream",
     "text": [
      "Endo\n",
      "total_samples: 95 \n",
      "\n",
      "3 / 95 = 0.031578947368421054 \n",
      "\n",
      "Gbm\n",
      "total_samples: 99 \n",
      "\n",
      "81 / 99 = 0.8181818181818182 \n",
      "\n",
      "Hnscc\n",
      "total_samples: 111 \n",
      "\n",
      "18 / 111 = 0.16216216216216217 \n",
      "\n",
      "Ov\n",
      "total_samples: 102 \n",
      "\n",
      "26 / 102 = 0.2549019607843137 \n",
      "\n",
      "K\n",
      "total_samples: 110 \n",
      "\n",
      "11 / 110 = 0.1 \n",
      "\n",
      "Colon\n",
      "total_samples: 106 \n",
      "\n",
      "25 / 106 = 0.2358490566037736 \n",
      "\n",
      "Luad\n",
      "total_samples: 109 \n",
      "\n",
      "17 / 109 = 0.1559633027522936 \n",
      "\n",
      "Brca\n",
      "total_samples: 122 \n",
      "\n",
      "24 / 122 = 0.19672131147540983 \n",
      "\n",
      "Lscc\n",
      "total_samples: 108 \n",
      "\n",
      "52 / 108 = 0.48148148148148145 \n",
      "\n"
     ]
    }
   ],
   "source": [
    "cancer_dfs = {'Endo':endo, 'Gbm':gbm, 'Hnscc':hnscc, 'Ov':ovar, 'K':cc, 'Colon':colon, \n",
    "              'Luad':ld, 'Brca':brca, 'Lscc':lscc}\n",
    "for cancer in cancer_dfs:\n",
    "    df = cancer_dfs[cancer]\n",
    "    vc = df.Mutation.value_counts()\n",
    "    total = len(df)\n",
    "    cnv_del = vc.Deletion\n",
    "    print(cancer)\n",
    "    print('total_samples:',total,'\\n')\n",
    "    #print(vc, '\\n')\n",
    "    print(cnv_del,'/',total,'=', cnv_del/total,'\\n')"
   ]
  },
  {
   "cell_type": "code",
   "execution_count": null,
   "metadata": {},
   "outputs": [],
   "source": []
  }
 ],
 "metadata": {
  "kernelspec": {
   "display_name": "Python 3",
   "language": "python",
   "name": "python3"
  },
  "language_info": {
   "codemirror_mode": {
    "name": "ipython",
    "version": 3
   },
   "file_extension": ".py",
   "mimetype": "text/x-python",
   "name": "python",
   "nbconvert_exporter": "python",
   "pygments_lexer": "ipython3",
   "version": "3.7.3"
  }
 },
 "nbformat": 4,
 "nbformat_minor": 2
}
