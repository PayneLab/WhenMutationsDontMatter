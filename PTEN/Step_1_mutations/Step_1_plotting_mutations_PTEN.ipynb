{
 "cells": [
  {
   "cell_type": "markdown",
   "metadata": {},
   "source": [
    "# Create Figure 1 for PTEN"
   ]
  },
  {
   "cell_type": "markdown",
   "metadata": {},
   "source": [
    "This notebook creates a histogram that shows the different PTEN mutations found in 9 cancers."
   ]
  },
  {
   "cell_type": "code",
   "execution_count": 1,
   "metadata": {},
   "outputs": [],
   "source": [
    "import pandas as pd\n",
    "import numpy as np\n",
    "import seaborn as sns\n",
    "import matplotlib.pyplot as plt\n",
    "import scipy.stats\n",
    "import gseapy as gp\n",
    "import re\n",
    "import sys \n",
    "\n",
    "import cptac\n",
    "import cptac.utils as u\n",
    "\n",
    "import plot_utils as ut"
   ]
  },
  {
   "cell_type": "markdown",
   "metadata": {},
   "source": [
    "# Step 1: Create data frames with Mutation Types"
   ]
  },
  {
   "cell_type": "markdown",
   "metadata": {},
   "source": [
    "For each cancer type, create a data frame that has the mutation type for each sample."
   ]
  },
  {
   "cell_type": "markdown",
   "metadata": {},
   "source": [
    "First, load in the cancer data sets from cptac."
   ]
  },
  {
   "cell_type": "code",
   "execution_count": 2,
   "metadata": {},
   "outputs": [
    {
     "name": "stdout",
     "output_type": "stream",
     "text": [
      "Checking that luad index is up-to-date...       \r"
     ]
    },
    {
     "name": "stderr",
     "output_type": "stream",
     "text": [
      "cptac warning: The HNSCC data is currently strictly reserved for CPTAC investigators. Otherwise, you are not authorized to access these data. Additionally, even after these data become publicly available, they will be subject to a publication embargo (see https://proteomics.cancer.gov/data-portal/about/data-use-agreement or enter cptac.embargo() to open the webpage for more details). (C:\\Users\\brittany henderson\\Anaconda3\\envs\\Research\\lib\\site-packages\\ipykernel_launcher.py, line 2)\n"
     ]
    },
    {
     "name": "stdout",
     "output_type": "stream",
     "text": [
      "Checking that lscc index is up-to-date...\r"
     ]
    },
    {
     "name": "stderr",
     "output_type": "stream",
     "text": [
      "cptac warning: The LUAD dataset is under publication embargo until July 01, 2020. CPTAC is a community resource project and data are made available rapidly after generation for community research use. The embargo allows exploring and utilizing the data, but analysis may not be published until after the embargo date. Please see https://proteomics.cancer.gov/data-portal/about/data-use-agreement or enter cptac.embargo() to open the webpage for more details. (C:\\Users\\brittany henderson\\Anaconda3\\envs\\Research\\lib\\site-packages\\ipykernel_launcher.py, line 3)\n"
     ]
    },
    {
     "name": "stdout",
     "output_type": "stream",
     "text": [
      "version 3scc v3.2.......                 \n",
      "Checking that ovarian index is up-to-date...\r"
     ]
    },
    {
     "name": "stderr",
     "output_type": "stream",
     "text": [
      "cptac warning: The LSCC data is currently strictly reserved for CPTAC investigators. Otherwise, you are not authorized to access these data. Additionally, even after these data become publicly available, they will be subject to a publication embargo (see https://proteomics.cancer.gov/data-portal/about/data-use-agreement or enter cptac.embargo() to open the webpage for more details). (C:\\Users\\brittany henderson\\Anaconda3\\envs\\Research\\lib\\site-packages\\ipykernel_launcher.py, line 4)\n"
     ]
    },
    {
     "name": "stdout",
     "output_type": "stream",
     "text": [
      "Checking that brca index is up-to-date...   \r"
     ]
    },
    {
     "name": "stderr",
     "output_type": "stream",
     "text": [
      "cptac warning: The GBM dataset is under publication embargo until March 01, 2021. CPTAC is a community resource project and data are made available rapidly after generation for community research use. The embargo allows exploring and utilizing the data, but analysis may not be published until after the embargo date. Please see https://proteomics.cancer.gov/data-portal/about/data-use-agreement or enter cptac.embargo() to open the webpage for more details. (C:\\Users\\brittany henderson\\Anaconda3\\envs\\Research\\lib\\site-packages\\ipykernel_launcher.py, line 8)\n"
     ]
    },
    {
     "name": "stdout",
     "output_type": "stream",
     "text": [
      "                                         \r"
     ]
    }
   ],
   "source": [
    "en = cptac.Endometrial()\n",
    "hn = cptac.Hnscc()\n",
    "l = cptac.Luad()\n",
    "ls = cptac.Lscc()\n",
    "o = cptac.Ovarian()\n",
    "c = cptac.Ccrcc()\n",
    "col = cptac.Colon()\n",
    "g = cptac.Gbm()\n",
    "b = cptac.Brca()"
   ]
  },
  {
   "cell_type": "code",
   "execution_count": 3,
   "metadata": {},
   "outputs": [],
   "source": [
    "def plot_mutations(dflist = None, names_of_df=None):\n",
    "    number_of_df = len(dflist)\n",
    "    \n",
    "    allLabels = []\n",
    "    for df in dflist:\n",
    "        #get the labels for each and make a combined label that they'll all use\n",
    "        mutation = df[\"Mutation\"]\n",
    "        labels = set(mutation)\n",
    "        allLabels.append(labels)\n",
    "\n",
    "    \n",
    "    flat_list = [item for sublist in allLabels for item in sublist]\n",
    "    all_labels = list(set(flat_list))\n",
    "    all_labels.sort()\n",
    "    allLabels = all_labels\n",
    "    \n",
    "#     For each df, add na to their labels if it doesn't exist in all_labels\n",
    "    labels_for_each_df = []\n",
    "    frequencies_for_each_df = []\n",
    "    for df in dflist:\n",
    "        mutation = df[\"Mutation\"].tolist()\n",
    "        mutationlist = list(set(mutation))\n",
    "        mutationlist.sort()\n",
    "        ordered_mut_list = []\n",
    "        match = True\n",
    "        mutPosition = 0\n",
    "        \n",
    "        for position in range(len(all_labels)):\n",
    "            try:\n",
    "                \n",
    "                if mutationlist[mutPosition] == all_labels[position]:\n",
    "                    ordered_mut_list.append(mutationlist[mutPosition])\n",
    "                    mutPosition += 1\n",
    "\n",
    "                else:\n",
    "                    ordered_mut_list.append(\"na\")\n",
    "\n",
    "            except IndexError:  \n",
    "                ordered_mut_list.append(\"na\")\n",
    "       \n",
    "        \n",
    "        labels_for_each_df.append(ordered_mut_list)\n",
    "\n",
    "        #get the freq of each mutation type\n",
    "        freq = []\n",
    "        for mutation_type in ordered_mut_list:\n",
    "            freq.append(mutation.count(mutation_type))\n",
    "\n",
    "        PercentFreq = [x*100 / sum(freq) for x in freq]\n",
    "        frequencies_for_each_df.append(PercentFreq)\n",
    "        \n",
    "        \n",
    "    #Now plot it using arrays\n",
    "    width = 0.1\n",
    "    x = np.arange(len(allLabels))\n",
    "    a4_dims = (13, 10) #dimensions for bigger plot\n",
    "    fig, ax = plt.subplots(figsize=a4_dims)\n",
    "    for position in range(0, number_of_df):\n",
    "        r = ax.bar(x+(width*position), frequencies_for_each_df[position], width,label=names_of_df[position], alpha=.5, linewidth=0)\n",
    "        \n",
    "    \n",
    "    ax.set_xticks(x)\n",
    "    ax.set_xticklabels(allLabels, size = 15)\n",
    "    ax.set_ylabel('Percent Sample', size = 20)\n",
    "    ax.yaxis.set_tick_params(labelsize=17)\n",
    "    plt.ylim(0, 100)\n",
    "    ax.legend(prop={'size': 15})\n",
    "    \n",
    "\n",
    "    fig.tight_layout()\n",
    "    plt.setp(ax.get_xticklabels(),rotation=45)\n",
    "    plt.show()\n",
    "    \n",
    "    #save fig\n",
    "    fig.savefig(\"Step_1_PTEN.png\", bbox_inches=\"tight\", dpi = 300)\n",
    "    "
   ]
  },
  {
   "cell_type": "markdown",
   "metadata": {},
   "source": [
    "Second, call get_geneotype_all_vars for PTEN for each cancer type. This returns a df with columns for Mutation (type of mutation), Location (location of the mutation), and Mutation_Status (wildtype or mutation count)."
   ]
  },
  {
   "cell_type": "code",
   "execution_count": 4,
   "metadata": {},
   "outputs": [],
   "source": [
    "gene = \"PTEN\""
   ]
  },
  {
   "cell_type": "code",
   "execution_count": 5,
   "metadata": {},
   "outputs": [
    {
     "name": "stderr",
     "output_type": "stream",
     "text": [
      "cptac warning: In joining the somatic_mutation table, no mutations were found for the following samples, so they were filled with Wildtype_Tumor or Wildtype_Normal: 20 samples for the PTEN gene (C:\\Users\\brittany henderson\\Anaconda3\\envs\\Research\\lib\\site-packages\\cptac\\dataset.py, line 313)\n",
      "cptac warning: In joining the somatic_mutation table, no mutations were found for the following samples, so they were filled with Wildtype_Tumor or Wildtype_Normal: 72 samples for the PTEN gene (C:\\Users\\brittany henderson\\Anaconda3\\envs\\Research\\lib\\site-packages\\cptac\\dataset.py, line 313)\n",
      "cptac warning: CNV data was not found for the following samples, so CNV data columns were filled with NaN for these samples: C3L-01834 (C:\\Users\\brittany henderson\\Anaconda3\\envs\\Research\\lib\\site-packages\\cptac\\dataset.py, line 313)\n",
      "cptac warning: In joining the somatic_mutation table, no mutations were found for the following samples, so they were filled with Wildtype_Tumor or Wildtype_Normal: 109 samples for the PTEN gene (C:\\Users\\brittany henderson\\Anaconda3\\envs\\Research\\lib\\site-packages\\cptac\\dataset.py, line 313)\n",
      "cptac warning: CNV data was not found for the following samples, so CNV data columns were filled with NaN for these samples: C3L-02617, C3N-02727 (C:\\Users\\brittany henderson\\Anaconda3\\envs\\Research\\lib\\site-packages\\cptac\\dataset.py, line 313)\n",
      "cptac warning: In joining the somatic_mutation table, no mutations were found for the following samples, so they were filled with Wildtype_Tumor or Wildtype_Normal: 98 samples for the PTEN gene (C:\\Users\\brittany henderson\\Anaconda3\\envs\\Research\\lib\\site-packages\\cptac\\dataset.py, line 313)\n",
      "cptac warning: CNV data was not found for the following samples, so CNV data columns were filled with NaN for these samples: 01OV029, 02OV015 (C:\\Users\\brittany henderson\\Anaconda3\\envs\\Research\\lib\\site-packages\\cptac\\dataset.py, line 313)\n",
      "cptac warning: In joining the somatic_mutation table, no mutations were found for the following samples, so they were filled with Wildtype_Tumor or Wildtype_Normal: 105 samples for the PTEN gene (C:\\Users\\brittany henderson\\Anaconda3\\envs\\Research\\lib\\site-packages\\cptac\\dataset.py, line 313)\n",
      "cptac warning: In joining the somatic_mutation table, no mutations were found for the following samples, so they were filled with Wildtype_Tumor or Wildtype_Normal: 100 samples for the PTEN gene (C:\\Users\\brittany henderson\\Anaconda3\\envs\\Research\\lib\\site-packages\\cptac\\dataset.py, line 313)\n",
      "cptac warning: CNV data was not found for the following samples, so CNV data columns were filled with NaN for these samples: 05CO045 (C:\\Users\\brittany henderson\\Anaconda3\\envs\\Research\\lib\\site-packages\\cptac\\dataset.py, line 313)\n",
      "cptac warning: In joining the somatic_mutation table, no mutations were found for the following samples, so they were filled with Wildtype_Tumor or Wildtype_Normal: 96 samples for the PTEN gene (C:\\Users\\brittany henderson\\Anaconda3\\envs\\Research\\lib\\site-packages\\cptac\\dataset.py, line 313)\n",
      "cptac warning: In joining the somatic_mutation table, no mutations were found for the following samples, so they were filled with Wildtype_Tumor or Wildtype_Normal: 113 samples for the PTEN gene (C:\\Users\\brittany henderson\\Anaconda3\\envs\\Research\\lib\\site-packages\\cptac\\dataset.py, line 313)\n"
     ]
    }
   ],
   "source": [
    "endo = en.get_genotype_all_vars(gene)\n",
    "gbm = g.get_genotype_all_vars(gene)\n",
    "hnscc = hn.get_genotype_all_vars(gene)\n",
    "ovar = o.get_genotype_all_vars(gene)\n",
    "cc = c.get_genotype_all_vars(gene)\n",
    "colon = col.get_genotype_all_vars(gene)\n",
    "ld = l.get_genotype_all_vars(gene)\n",
    "lscc = ls.get_genotype_all_vars(gene)\n",
    "brca = b.get_genotype_all_vars(gene)"
   ]
  },
  {
   "cell_type": "markdown",
   "metadata": {},
   "source": [
    "# Step 2: Match Mutation Labels"
   ]
  },
  {
   "cell_type": "markdown",
   "metadata": {},
   "source": [
    "The Colon dataset labeled their mutations slightly differently. Nonsynonymous snv in this case is a missense mutation. Nonframeshift insertion was changed to match In_Frame_Ins. Frameshift deletion was canged to match Frame_Shift_Del."
   ]
  },
  {
   "cell_type": "code",
   "execution_count": 6,
   "metadata": {},
   "outputs": [],
   "source": [
    "colon[\"Mutation\"] = colon['Mutation'].replace(['nonsynonymous SNV'], 'Missense_Mutation')\n",
    "\n",
    "colon[\"Mutation\"] = colon['Mutation'].replace(['nonframeshift insertion'], 'In_Frame_Ins')\n",
    "\n",
    "colon[\"Mutation\"] = colon['Mutation'].replace(['frameshift deletion'], 'Frame_Shift_Del')"
   ]
  },
  {
   "cell_type": "code",
   "execution_count": 7,
   "metadata": {},
   "outputs": [],
   "source": [
    "#combine to make indel mutation type \n",
    "lscc[\"Mutation\"] = lscc['Mutation'].replace(['In_Frame_Del'], 'In_Frame_Indel')\n",
    "\n",
    "#combine to make truncation muatation type\n",
    "nonsense = [endo, ovar, cc, brca, lscc]\n",
    "for df in nonsense:\n",
    "    df[\"Mutation\"] = df['Mutation'].replace(['Nonsense_Mutation'], 'Truncating') \n",
    "    \n",
    "frame_shift_del = [endo, ovar, colon, brca, lscc]\n",
    "for df in frame_shift_del:\n",
    "    df[\"Mutation\"] = df['Mutation'].replace(['Frame_Shift_Del'], 'Truncating')\n",
    "    \n",
    "frame_shift_ins = [endo]\n",
    "for df in frame_shift_ins:\n",
    "    df[\"Mutation\"] = df['Mutation'].replace(['Frame_Shift_Ins'], 'Truncating')"
   ]
  },
  {
   "cell_type": "markdown",
   "metadata": {},
   "source": [
    "The get_genotype_all_var function created the No_Mutation label when no somatic mutations were found for PTEN in the Luad dataset. This is the same as Wildtype_Tumor. "
   ]
  },
  {
   "cell_type": "code",
   "execution_count": 8,
   "metadata": {},
   "outputs": [],
   "source": [
    "ld[\"Mutation\"] = ld['Mutation'].replace(['No_Mutation'], 'Wildtype_Tumor')"
   ]
  },
  {
   "cell_type": "markdown",
   "metadata": {},
   "source": [
    "Get % of Deletions"
   ]
  },
  {
   "cell_type": "code",
   "execution_count": 29,
   "metadata": {},
   "outputs": [
    {
     "name": "stdout",
     "output_type": "stream",
     "text": [
      "Endo\n",
      "total_samples: 95 \n",
      "\n",
      "3 / 95 = 0.031578947368421054 \n",
      "\n",
      "Gbm\n",
      "total_samples: 99 \n",
      "\n",
      "81 / 99 = 0.8181818181818182 \n",
      "\n",
      "Hnscc\n",
      "total_samples: 111 \n",
      "\n",
      "18 / 111 = 0.16216216216216217 \n",
      "\n",
      "Ov\n",
      "total_samples: 102 \n",
      "\n",
      "26 / 102 = 0.2549019607843137 \n",
      "\n",
      "K\n",
      "total_samples: 110 \n",
      "\n",
      "11 / 110 = 0.1 \n",
      "\n",
      "Colon\n",
      "total_samples: 106 \n",
      "\n",
      "25 / 106 = 0.2358490566037736 \n",
      "\n",
      "Luad\n",
      "total_samples: 109 \n",
      "\n",
      "17 / 109 = 0.1559633027522936 \n",
      "\n",
      "Brca\n",
      "total_samples: 122 \n",
      "\n",
      "24 / 122 = 0.19672131147540983 \n",
      "\n",
      "Lscc\n",
      "total_samples: 108 \n",
      "\n",
      "52 / 108 = 0.48148148148148145 \n",
      "\n"
     ]
    }
   ],
   "source": [
    "cancer_dfs = {'Endo':endo, 'Gbm':gbm, 'Hnscc':hnscc, 'Ov':ovar, 'K':cc, 'Colon':colon, \n",
    "              'Luad':ld, 'Brca':brca, 'Lscc':lscc}\n",
    "for cancer in cancer_dfs:\n",
    "    df = cancer_dfs[cancer]\n",
    "    vc = df.Mutation.value_counts()\n",
    "    total = len(df)\n",
    "    cnv_del = vc.Deletion\n",
    "    print(cancer)\n",
    "    print('total_samples:',total,'\\n')\n",
    "    #print(vc, '\\n')\n",
    "    print(cnv_del,'/',total,'=', cnv_del/total,'\\n')"
   ]
  },
  {
   "cell_type": "markdown",
   "metadata": {},
   "source": [
    "# Step 3: Create Figure"
   ]
  },
  {
   "cell_type": "markdown",
   "metadata": {},
   "source": [
    "Create a list of the mutation data frames. Create a list of cancer names for the figure legend. Call the plot_mutations function."
   ]
  },
  {
   "cell_type": "code",
   "execution_count": 9,
   "metadata": {},
   "outputs": [
    {
     "data": {
      "image/png": "[encoded data removed]",
      "text/plain": [
       "<Figure size 936x720 with 1 Axes>"
      ]
     },
     "metadata": {
      "needs_background": "light"
     },
     "output_type": "display_data"
    }
   ],
   "source": [
    "dfs = [endo, gbm, hnscc, ovar, cc, colon, ld, brca, lscc]\n",
    "names = ['Endometrial', 'Glioblastoma', 'Head and Neck', 'Ovarian', 'Kidney', 'Colon', 'Lung Adenocarcinoma', 'Breast', \n",
    "         'Lung Squamous']\n",
    "plot_mutations(dfs, names)"
   ]
  },
  {
   "cell_type": "code",
   "execution_count": null,
   "metadata": {},
   "outputs": [],
   "source": []
  }
 ],
 "metadata": {
  "kernelspec": {
   "display_name": "Python 3",
   "language": "python",
   "name": "python3"
  },
  "language_info": {
   "codemirror_mode": {
    "name": "ipython",
    "version": 3
   },
   "file_extension": ".py",
   "mimetype": "text/x-python",
   "name": "python",
   "nbconvert_exporter": "python",
   "pygments_lexer": "ipython3",
   "version": "3.7.3"
  }
 },
 "nbformat": 4,
 "nbformat_minor": 2
}
