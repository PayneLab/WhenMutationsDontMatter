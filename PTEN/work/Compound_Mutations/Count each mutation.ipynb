{
 "cells": [
  {
   "cell_type": "markdown",
   "metadata": {},
   "source": [
    "# Count samples with Deletion and another mutation"
   ]
  },
  {
   "cell_type": "code",
   "execution_count": 1,
   "metadata": {},
   "outputs": [],
   "source": [
    "import pandas as pd\n",
    "import numpy as np\n",
    "import seaborn as sns\n",
    "import matplotlib.pyplot as plt\n",
    "\n",
    "import cptac\n",
    "import cptac.utils as u\n",
    "import plot_utils as p"
   ]
  },
  {
   "cell_type": "code",
   "execution_count": 2,
   "metadata": {},
   "outputs": [
    {
     "name": "stdout",
     "output_type": "stream",
     "text": [
      "cptac version: 0.8.6\n"
     ]
    }
   ],
   "source": [
    "print('cptac version:', cptac.version())"
   ]
  },
  {
   "cell_type": "code",
   "execution_count": 3,
   "metadata": {},
   "outputs": [],
   "source": [
    "import warnings\n",
    "warnings.filterwarnings('ignore')"
   ]
  },
  {
   "cell_type": "markdown",
   "metadata": {},
   "source": [
    "# Step 1: Create df with Mutation Types"
   ]
  },
  {
   "cell_type": "markdown",
   "metadata": {},
   "source": [
    "For each cancer type, create a df that has the mutation type for each sample."
   ]
  },
  {
   "cell_type": "markdown",
   "metadata": {},
   "source": [
    "First, load in the cancer data sets from cptac."
   ]
  },
  {
   "cell_type": "code",
   "execution_count": 4,
   "metadata": {},
   "outputs": [
    {
     "name": "stdout",
     "output_type": "stream",
     "text": [
      "                                                \r"
     ]
    }
   ],
   "source": [
    "en = cptac.Endometrial()\n",
    "hn = cptac.Hnscc()\n",
    "l = cptac.Luad()\n",
    "ls = cptac.Lscc()\n",
    "o = cptac.Ovarian()\n",
    "#c = cptac.Ccrcc()\n",
    "col = cptac.Colon()\n",
    "g = cptac.Gbm()\n",
    "b = cptac.Brca()"
   ]
  },
  {
   "cell_type": "code",
   "execution_count": 5,
   "metadata": {},
   "outputs": [],
   "source": [
    "def get_samples_mult_mutations(gen_vars_df, somatic_mut_df, cnv_mut, cancer):\n",
    "    cnv_list = list(gen_vars_df.loc[gen_vars_df['Mutation'] == cnv_mut].index)\n",
    "    mut_list = list(somatic_mut_df.loc[somatic_mut_df['PTEN_Mutation'] != 'Wildtype_Tumor'].index)\n",
    "\n",
    "    # check samples with deletion and mutation\n",
    "    common_elements = np.intersect1d(mut_list, cnv_list)\n",
    "    dm = len(common_elements)\n",
    "    print(cancer+' samples with a '+ cnv_mut+ ' and a mutation:', dm)\n",
    "    total_cnv_samples = len(cnv_list)\n",
    "    print(dm, '/', total_cnv_samples, '=', dm/total_cnv_samples, '\\n')\n",
    "    return common_elements"
   ]
  },
  {
   "cell_type": "code",
   "execution_count": 6,
   "metadata": {},
   "outputs": [],
   "source": [
    "cancer_obj = {'GBM':g, 'HNSCC':hn, 'LSCC':ls, 'BR':b, 'CO':col, 'OV':o}"
   ]
  },
  {
   "cell_type": "code",
   "execution_count": 7,
   "metadata": {},
   "outputs": [],
   "source": [
    "ca_filter = ['Nonsense_Mutation', 'Frame_Shift_Ins', 'Frame_Shift_Del', 'Splice_Site', 'Missense_Mutation']\n",
    "colon_filter = ['stopgain', 'stoploss', 'frameshift deletion', 'frameshift insertion', 'frameshift substitution', \n",
    "'nonframeshift deletion', 'nonframeshift insertion', 'nonframeshift substitution', 'nonsynonymous SNV']"
   ]
  },
  {
   "cell_type": "code",
   "execution_count": 8,
   "metadata": {},
   "outputs": [
    {
     "name": "stdout",
     "output_type": "stream",
     "text": [
      "GBM samples with a Deletion and a mutation: 25\n",
      "25 / 81 = 0.30864197530864196 \n",
      "\n",
      "HNSCC samples with a Deletion and a mutation: 1\n",
      "1 / 18 = 0.05555555555555555 \n",
      "\n",
      "LSCC samples with a Deletion and a mutation: 4\n",
      "4 / 39 = 0.10256410256410256 \n",
      "\n",
      "BR samples with a Deletion and a mutation: 3\n",
      "3 / 24 = 0.125 \n",
      "\n",
      "CO samples with a Deletion and a mutation: 2\n",
      "2 / 25 = 0.08 \n",
      "\n",
      "OV samples with a Deletion and a mutation: 2\n",
      "2 / 26 = 0.07692307692307693 \n",
      "\n"
     ]
    }
   ],
   "source": [
    "mult_mut_samples = {}\n",
    "gene = 'PTEN'\n",
    "for cancer in cancer_obj:\n",
    "    ca = cancer_obj[cancer]\n",
    "    \n",
    "    cnv_df = ca.get_genotype_all_vars('PTEN')\n",
    "    \n",
    "    if ca.get_cancer_type() in ('colon'):\n",
    "        mut = ca.join_omics_to_mutations(\n",
    "                    mutations_genes = [gene], omics_df_name = 'proteomics', omics_genes = gene, \n",
    "                    tissue_type = 'tumor', mutations_filter = colon_filter)\n",
    "    else:\n",
    "        mut = ca.join_omics_to_mutations(\n",
    "                    mutations_genes = [gene], omics_df_name = 'proteomics', omics_genes = gene, \n",
    "                    tissue_type = 'tumor', mutations_filter = ca_filter)\n",
    "    # Reduce a multiindex \n",
    "    if isinstance(mut.keys(), pd.core.indexes.multi.MultiIndex):\n",
    "        mut = u.reduce_multiindex(mut, levels_to_drop = 1)\n",
    "    \n",
    "    mult_samples = get_samples_mult_mutations(cnv_df, mut, 'Deletion', cancer)"
   ]
  },
  {
   "cell_type": "code",
   "execution_count": 9,
   "metadata": {},
   "outputs": [],
   "source": [
    "# Endo"
   ]
  },
  {
   "cell_type": "code",
   "execution_count": 10,
   "metadata": {},
   "outputs": [],
   "source": [
    "ca = en\n",
    "mut = ca.join_omics_to_mutations(\n",
    "                mutations_genes = [gene], omics_df_name = 'proteomics', omics_genes = gene, \n",
    "                tissue_type = 'tumor', mutations_filter = ca_filter)\n",
    "# Reduce a multiindex \n",
    "if isinstance(mut.keys(), pd.core.indexes.multi.MultiIndex):\n",
    "    mut = u.reduce_multiindex(mut, levels_to_drop = 1)"
   ]
  },
  {
   "cell_type": "code",
   "execution_count": 11,
   "metadata": {},
   "outputs": [],
   "source": [
    "compare = ['Nonsense_Mutation','Frame_Shift_Ins','Frame_Shift_Del']\n",
    "get = mut[gene+'_Mutation'].isin(compare)\n",
    "trunc_df = mut[get]\n",
    "\n",
    "total_trunc = len(trunc_df)\n",
    "total_trunc\n",
    "vc = trunc_df.PTEN_Mutation_Status.value_counts()\n",
    "mult_mut = int(vc[['Multiple_mutation']])"
   ]
  },
  {
   "cell_type": "code",
   "execution_count": 12,
   "metadata": {},
   "outputs": [
    {
     "name": "stdout",
     "output_type": "stream",
     "text": [
      "EC samples with a Truncation type mutation and another mutation: 32\n",
      "32 / 53 = 0.6037735849056604 \n",
      "\n"
     ]
    }
   ],
   "source": [
    "print('EC samples with a Truncation type mutation and another mutation:', mult_mut)\n",
    "print(mult_mut, '/', total_trunc, '=', mult_mut/total_trunc, '\\n')"
   ]
  }
 ],
 "metadata": {
  "kernelspec": {
   "display_name": "Python 3",
   "language": "python",
   "name": "python3"
  },
  "language_info": {
   "codemirror_mode": {
    "name": "ipython",
    "version": 3
   },
   "file_extension": ".py",
   "mimetype": "text/x-python",
   "name": "python",
   "nbconvert_exporter": "python",
   "pygments_lexer": "ipython3",
   "version": "3.8.8"
  }
 },
 "nbformat": 4,
 "nbformat_minor": 2
}
