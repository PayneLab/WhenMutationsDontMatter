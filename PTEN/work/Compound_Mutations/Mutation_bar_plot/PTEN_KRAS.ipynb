{
 "cells": [
  {
   "cell_type": "code",
   "execution_count": 1,
   "metadata": {},
   "outputs": [],
   "source": [
    "import cptac\n",
    "import numpy as np\n",
    "import pandas as pd\n",
    "import matplotlib.pyplot as plt\n",
    "import plot_utils as p\n",
    "import warnings\n",
    "#warnings.filterwarnings('ignore')"
   ]
  },
  {
   "cell_type": "code",
   "execution_count": 2,
   "metadata": {},
   "outputs": [
    {
     "name": "stdout",
     "output_type": "stream",
     "text": [
      "Checking that brca index is up-to-date...       \r"
     ]
    },
    {
     "name": "stderr",
     "output_type": "stream",
     "text": [
      "cptac warning: The GBM dataset is under publication embargo until March 01, 2021. CPTAC is a community resource project and data are made available rapidly after generation for community research use. The embargo allows exploring and utilizing the data, but analysis may not be published until after the embargo date. Please see https://proteomics.cancer.gov/data-portal/about/data-use-agreement or enter cptac.embargo() to open the webpage for more details. (C:\\Users\\brittany henderson\\Anaconda3\\envs\\Research\\lib\\site-packages\\ipykernel_launcher.py, line 7)\n"
     ]
    },
    {
     "name": "stdout",
     "output_type": "stream",
     "text": [
      "Checking that ccrcc index is up-to-date...\r"
     ]
    },
    {
     "name": "stderr",
     "output_type": "stream",
     "text": [
      "cptac warning: The LSCC data is currently strictly reserved for CPTAC investigators. Otherwise, you are not authorized to access these data. Additionally, even after these data become publicly available, they will be subject to a publication embargo (see https://proteomics.cancer.gov/data-portal/about/data-use-agreement or enter cptac.embargo() to open the webpage for more details). (C:\\Users\\brittany henderson\\Anaconda3\\envs\\Research\\lib\\site-packages\\ipykernel_launcher.py, line 9)\n"
     ]
    },
    {
     "name": "stdout",
     "output_type": "stream",
     "text": [
      "                                          \r"
     ]
    }
   ],
   "source": [
    "#import CPTAC data\n",
    "en = cptac.Endometrial()\n",
    "hn = cptac.Hnscc()\n",
    "l = cptac.Luad()\n",
    "o = cptac.Ovarian()\n",
    "col = cptac.Colon()\n",
    "g = cptac.Gbm()\n",
    "b = cptac.Brca()\n",
    "ls = cptac.Lscc()\n",
    "rc = cptac.Ccrcc()"
   ]
  },
  {
   "cell_type": "code",
   "execution_count": 3,
   "metadata": {},
   "outputs": [],
   "source": [
    "def figure1_plot_mutations(col_name, dflist = None, names_of_df=None, title=None, save_to_path=None):\n",
    "    number_of_df = len(dflist)\n",
    "\n",
    "    allLabels = []\n",
    "    for df in dflist:\n",
    "        #get the labels for each and make a combined label that they'll all use\n",
    "        mutation = df[col_name]\n",
    "        labels = list(set(mutation))\n",
    "\n",
    "        allLabels.append(labels)\n",
    "\n",
    "    flat_list = [item for sublist in allLabels for item in sublist]\n",
    "    all_labels = list(set(flat_list))\n",
    "    all_labels.sort()\n",
    "    allLabels = all_labels\n",
    "\n",
    "#     For each df, add na to their labels if it doesn't exist in all_labels\n",
    "    labels_for_each_df = []\n",
    "    frequencies_for_each_df = []\n",
    "    for df in dflist:\n",
    "        mutation = df[col_name].tolist()\n",
    "        mutationlist = list(set(mutation))\n",
    "        mutationlist.sort()\n",
    "        ordered_mut_list = []\n",
    "        match = True\n",
    "        mutPosition = 0\n",
    "\n",
    "        for position in range(len(all_labels)):\n",
    "            try:\n",
    "\n",
    "                if mutationlist[mutPosition] == all_labels[position]:\n",
    "                    ordered_mut_list.append(mutationlist[mutPosition])\n",
    "                    mutPosition += 1\n",
    "\n",
    "                else:\n",
    "                    ordered_mut_list.append(\"na\")\n",
    "\n",
    "            except IndexError:\n",
    "                ordered_mut_list.append(\"na\")\n",
    "\n",
    "\n",
    "        labels_for_each_df.append(ordered_mut_list)\n",
    "\n",
    "        #get the freq of each mutation type\n",
    "        freq = []\n",
    "        for mutation_type in ordered_mut_list:\n",
    "            freq.append(mutation.count(mutation_type))\n",
    "\n",
    "        PercentFreq = [x*100 / sum(freq) for x in freq]\n",
    "        frequencies_for_each_df.append(PercentFreq)\n",
    "\n",
    "\n",
    "    #Now plot it using arrays\n",
    "    width = 0.1\n",
    "    x = np.arange(len(allLabels))\n",
    "    a4_dims = (14, 12) #dimensions for bigger plot\n",
    "    fig, ax = plt.subplots(figsize=a4_dims)\n",
    "    for position in range(0, number_of_df):\n",
    "        r = ax.bar(x+(width*position), frequencies_for_each_df[position], width,label=names_of_df[position], alpha=.5, linewidth=0)\n",
    "\n",
    "    font_size = 16\n",
    "\n",
    "    ax.set_ylabel('Percent Sample', size = font_size)\n",
    "    ax.set_title(title)\n",
    "    ax.set_xticks(x)\n",
    "    ax.set_xticklabels(allLabels)\n",
    "    ax.legend()\n",
    "    ax.set_xticklabels(allLabels, size = 18)\n",
    "    ax.set_ylim(0,100)\n",
    "    ax.legend(prop={'size': font_size})\n",
    "    ax.yaxis.set_tick_params(labelsize=font_size)\n",
    "\n",
    "\n",
    "    plt.setp(ax.get_xticklabels(),rotation= 45)\n",
    "    plt.tight_layout()\n",
    "    if save_to_path == None:\n",
    "        plt.savefig(\"step_1.png\",dpi = 300)\n",
    "    else:\n",
    "        plt.savefig(save_to_path)\n",
    "\n",
    "    plt.show()"
   ]
  },
  {
   "cell_type": "code",
   "execution_count": 4,
   "metadata": {},
   "outputs": [],
   "source": [
    "def mult_mutations(mut, list_in):\n",
    "    if list_in.count(mut) > 1:\n",
    "        name = mut\n",
    "    while mut in list_in: list_in.remove(mut)\n",
    "    \n",
    "    for e in list_in:\n",
    "        name = e+', '+name\n",
    "        \n",
    "    name_list = name.split(', ') # return to list in case there are more multiple mutations\n",
    "    return name_list\n",
    "    "
   ]
  },
  {
   "cell_type": "code",
   "execution_count": 5,
   "metadata": {},
   "outputs": [],
   "source": [
    "def find_multi_cis_mut(cancer_obj, cis_gene):\n",
    "    #Get all somatic mutations \n",
    "    mutations = cancer_obj.get_somatic_mutation()\n",
    "    #get just somatic mutations for cis_gene\n",
    "    cis_mut = mutations[mutations.Gene == cis_gene]\n",
    "    cis_mut = cis_mut[[\"Mutation\"]]\n",
    "    \n",
    "    #simplfy names \n",
    "    cis_mut[\"Mutation\"].where(cis_mut[\"Mutation\"] != 'Missense_Mutation', 'Missense', inplace = True) # replaces when false\n",
    "    cis_mut[\"Mutation\"].where(cis_mut[\"Mutation\"] != 'In_Frame_Del', 'Missense', inplace = True)\n",
    "    cis_mut[\"Mutation\"].where(cis_mut[\"Mutation\"] != 'In_Frame_Ins', 'Missense', inplace = True)\n",
    "\n",
    "    # replace colon different mutation names\n",
    "    colon_mut_names = {'frameshift deletion': 'Truncation', 'frameshift insertion': 'Truncation', \n",
    "                   'frameshift substitution': 'Truncation', 'stopgain': 'Truncation', 'stoploss': 'Truncation',\n",
    "                  'nonframeshift deletion': 'Missense', 'nonframeshift insertion': 'Missense', \n",
    "                   'nonframeshift substitution': 'Missense', 'nonsynonymous SNV': 'Missense'}\n",
    "    cis_mut = cis_mut.replace(colon_mut_names)\n",
    "    \n",
    "    #group Truncation\n",
    "    cis_mut[\"Mutation\"].where(cis_mut[\"Mutation\"] != 'Nonsense_Mutation', 'Truncation', inplace = True)\n",
    "    cis_mut[\"Mutation\"].where(cis_mut['Mutation'] != 'Frame_Shift_Del', 'Truncation', inplace = True)\n",
    "    cis_mut[\"Mutation\"].where(cis_mut['Mutation'] != 'Frame_Shift_Ins', 'Truncation', inplace = True)\n",
    "    \n",
    "    \n",
    "    # Multiple somatic mutations are indicated using multiple rows with the same patient ids.\n",
    "    # We will group the rows by patient ids and then relabel the columns that have multiple mutations \n",
    "    cis_mut = cis_mut.groupby(level=['Patient_ID'], sort=False).agg( ','.join)\n",
    "    \n",
    "    # Create multiple mutation label for each multiple mutation in a sample\n",
    "    cis_mut = cis_mut[['Mutation']].apply(lambda x: x.str.split(',')) # put in list to use mult_mutations function\n",
    "    possible_mutations = ['Truncation', 'Missense', 'Indel', 'Splice_Site']\n",
    "    for mut in possible_mutations:\n",
    "        cis_mut.Mutation = cis_mut.Mutation.apply(lambda x: mult_mutations(mut, x) if x.count(mut) > 1 else x)\n",
    "    # change list to string\n",
    "    delim = ', '\n",
    "    cis_mut.Mutation = cis_mut.Mutation.apply(lambda x: delim.join(x) if type(x) is list else x)\n",
    "\n",
    "    #get CNV mutations \n",
    "    mut_copy_num = cancer_obj.get_genotype_all_vars(cis_gene, mutations_filter = [\"Deletion\",\"Amplification\",\"Wildtype_Tumor\"])\n",
    "    mut_copy_num[\"Mutation\"].where(mut_copy_num['Mutation'] != 'No_Mutation', 'Wildtype_Tumor', inplace = True) # change No_Mutation to Wildtype_Tumor\n",
    "    mut_copy_num = mut_copy_num[mut_copy_num['Mutation'].isin([\"Deletion\",\"Amplification\",\"Wildtype_Tumor\"])]\n",
    "    mut_copy_num = mut_copy_num.rename(columns={'Mutation': 'CNV_Mutation'})\n",
    "    mut_copy_num = mut_copy_num[\"CNV_Mutation\"]\n",
    "    mutations = pd.merge(mut_copy_num, cis_mut, on=\"Patient_ID\", how = \"outer\")\n",
    "    \n",
    "    # If mutation column is NaN replace with value in Mutation_Copy_Num\n",
    "    mutations['Mutation'] = mutations.apply(\n",
    "        lambda row: row['CNV_Mutation'] if pd.isnull(row['Mutation']) else row['Mutation'], axis=1)\n",
    "   # mutations = mutations.CNV_Mutation.fillna('', inplace=True)\n",
    "    #Make column All_Mutation which is a list of all mutations \n",
    "    mutations = mutations.replace(np.nan, '', regex=True)\n",
    "    mutations['All_Mutations'] = mutations.apply(\n",
    "        lambda row: row[\"CNV_Mutation\"] + \", Other_Mutation\" if (row[\"CNV_Mutation\"] != row[\"Mutation\"] and row[\"CNV_Mutation\"] != \"\") else row['Mutation'], axis=1)\n",
    "    mutations = mutations.rename(columns={'All_Mutations': 'All_Mutations_' + cis_gene})\n",
    "    \n",
    "       \n",
    "    return mutations"
   ]
  },
  {
   "cell_type": "code",
   "execution_count": 6,
   "metadata": {},
   "outputs": [],
   "source": [
    "# follow this order (for plot) #gbm, hnscc, rcc\n",
    "#['Endometrial', 'Glioblastoma', 'Head and Neck', 'Ovarian', 'Renal', \"Colon\" ,'Lung Adenocarcinoma', 'Breast',\"Lung Squamous\"\n",
    "caob = {'Endometrial':en, 'Glioblastoma':g, 'Head and Neck':hn, 'Ovarian':o, 'Renal':rc, 'Colon':col, 'Lung Adenocarcinoma':l,'Breast':b, 'Lung Squamous':ls}"
   ]
  },
  {
   "cell_type": "code",
   "execution_count": 7,
   "metadata": {},
   "outputs": [
    {
     "name": "stderr",
     "output_type": "stream",
     "text": [
      "cptac warning: In joining the somatic_mutation table, no mutations were found for the following samples, so they were filled with Wildtype_Tumor or Wildtype_Normal: 20 samples for the PTEN gene (C:\\Users\\brittany henderson\\Anaconda3\\envs\\Research\\lib\\site-packages\\cptac\\dataset.py, line 316)\n",
      "C:\\Users\\brittany henderson\\Anaconda3\\envs\\Research\\lib\\site-packages\\numpy\\core\\_asarray.py:83: VisibleDeprecationWarning: Creating an ndarray from ragged nested sequences (which is a list-or-tuple of lists-or-tuples-or ndarrays with different lengths or shapes) is deprecated. If you meant to do this, you must specify 'dtype=object' when creating the ndarray\n",
      "  return array(a, dtype, copy=False, order=order)\n",
      "cptac warning: In joining the somatic_mutation table, no mutations were found for the following samples, so they were filled with Wildtype_Tumor or Wildtype_Normal: 64 samples for the KRAS gene (C:\\Users\\brittany henderson\\Anaconda3\\envs\\Research\\lib\\site-packages\\cptac\\dataset.py, line 316)\n"
     ]
    },
    {
     "name": "stdout",
     "output_type": "stream",
     "text": [
      "Endometrial 95\n",
      "PTEN_Other_Mutation             77\n",
      "PTEN_Wildtype                   15\n",
      "PTEN_Deletion, KRAS_Wildtype     2\n",
      "PTEN_Deletion, KRAS_Mutated      1\n",
      "Name: all, dtype: int64 \n",
      "\n"
     ]
    },
    {
     "name": "stderr",
     "output_type": "stream",
     "text": [
      "cptac warning: In joining the somatic_mutation table, no mutations were found for the following samples, so they were filled with Wildtype_Tumor or Wildtype_Normal: 72 samples for the PTEN gene (C:\\Users\\brittany henderson\\Anaconda3\\envs\\Research\\lib\\site-packages\\cptac\\dataset.py, line 316)\n",
      "cptac warning: CNV data was not found for the following samples, so CNV data columns were filled with NaN for these samples: C3L-01834 (C:\\Users\\brittany henderson\\Anaconda3\\envs\\Research\\lib\\site-packages\\cptac\\dataset.py, line 316)\n",
      "C:\\Users\\brittany henderson\\Anaconda3\\envs\\Research\\lib\\site-packages\\numpy\\core\\_asarray.py:83: VisibleDeprecationWarning: Creating an ndarray from ragged nested sequences (which is a list-or-tuple of lists-or-tuples-or ndarrays with different lengths or shapes) is deprecated. If you meant to do this, you must specify 'dtype=object' when creating the ndarray\n",
      "  return array(a, dtype, copy=False, order=order)\n"
     ]
    },
    {
     "name": "stdout",
     "output_type": "stream",
     "text": [
      "Glioblastoma 99\n",
      "PTEN_Deletion, KRAS_Wildtype    78\n",
      "PTEN_Wildtype                   15\n",
      "PTEN_Deletion, KRAS_Mutated      3\n",
      "PTEN_Other_Mutation              2\n",
      "Name: all, dtype: int64 \n",
      "\n"
     ]
    },
    {
     "name": "stderr",
     "output_type": "stream",
     "text": [
      "cptac warning: In joining the somatic_mutation table, no mutations were found for the following samples, so they were filled with Wildtype_Tumor or Wildtype_Normal: 109 samples for the PTEN gene (C:\\Users\\brittany henderson\\Anaconda3\\envs\\Research\\lib\\site-packages\\cptac\\dataset.py, line 316)\n",
      "cptac warning: CNV data was not found for the following samples, so CNV data columns were filled with NaN for these samples: C3L-02617, C3N-02727 (C:\\Users\\brittany henderson\\Anaconda3\\envs\\Research\\lib\\site-packages\\cptac\\dataset.py, line 316)\n",
      "C:\\Users\\brittany henderson\\Anaconda3\\envs\\Research\\lib\\site-packages\\numpy\\core\\_asarray.py:83: VisibleDeprecationWarning: Creating an ndarray from ragged nested sequences (which is a list-or-tuple of lists-or-tuples-or ndarrays with different lengths or shapes) is deprecated. If you meant to do this, you must specify 'dtype=object' when creating the ndarray\n",
      "  return array(a, dtype, copy=False, order=order)\n",
      "cptac warning: In joining the somatic_mutation table, no mutations were found for the following samples, so they were filled with Wildtype_Tumor or Wildtype_Normal: 98 samples for the PTEN gene (C:\\Users\\brittany henderson\\Anaconda3\\envs\\Research\\lib\\site-packages\\cptac\\dataset.py, line 316)\n"
     ]
    },
    {
     "name": "stdout",
     "output_type": "stream",
     "text": [
      "Head and Neck 111\n",
      "PTEN_Wildtype                   87\n",
      "PTEN_Deletion, KRAS_Wildtype    10\n",
      "PTEN_Deletion, KRAS_Mutated      8\n",
      "PTEN_Other_Mutation              4\n",
      "Name: all, dtype: int64 \n",
      "\n"
     ]
    },
    {
     "name": "stderr",
     "output_type": "stream",
     "text": [
      "cptac warning: CNV data was not found for the following samples, so CNV data columns were filled with NaN for these samples: 01OV029, 02OV015 (C:\\Users\\brittany henderson\\Anaconda3\\envs\\Research\\lib\\site-packages\\cptac\\dataset.py, line 316)\n",
      "C:\\Users\\brittany henderson\\Anaconda3\\envs\\Research\\lib\\site-packages\\numpy\\core\\_asarray.py:83: VisibleDeprecationWarning: Creating an ndarray from ragged nested sequences (which is a list-or-tuple of lists-or-tuples-or ndarrays with different lengths or shapes) is deprecated. If you meant to do this, you must specify 'dtype=object' when creating the ndarray\n",
      "  return array(a, dtype, copy=False, order=order)\n",
      "cptac warning: In joining the somatic_mutation table, no mutations were found for the following samples, so they were filled with Wildtype_Tumor or Wildtype_Normal: 100 samples for the KRAS gene (C:\\Users\\brittany henderson\\Anaconda3\\envs\\Research\\lib\\site-packages\\cptac\\dataset.py, line 316)\n",
      "cptac warning: CNV data was not found for the following samples, so CNV data columns were filled with NaN for these samples: 01OV029, 02OV015 (C:\\Users\\brittany henderson\\Anaconda3\\envs\\Research\\lib\\site-packages\\cptac\\dataset.py, line 316)\n"
     ]
    },
    {
     "name": "stdout",
     "output_type": "stream",
     "text": [
      "Ovarian 102\n",
      "PTEN_Wildtype                   57\n",
      "PTEN_Other_Mutation             19\n",
      "PTEN_Deletion, KRAS_Mutated     14\n",
      "PTEN_Deletion, KRAS_Wildtype    12\n",
      "Name: all, dtype: int64 \n",
      "\n",
      "Renal 110\n",
      "PTEN_Wildtype                   95\n",
      "PTEN_Deletion, KRAS_Wildtype     9\n",
      "PTEN_Other_Mutation              4\n",
      "PTEN_Deletion, KRAS_Mutated      2\n",
      "Name: all, dtype: int64 \n",
      "\n"
     ]
    },
    {
     "name": "stderr",
     "output_type": "stream",
     "text": [
      "cptac warning: In joining the somatic_mutation table, no mutations were found for the following samples, so they were filled with Wildtype_Tumor or Wildtype_Normal: 105 samples for the PTEN gene (C:\\Users\\brittany henderson\\Anaconda3\\envs\\Research\\lib\\site-packages\\cptac\\dataset.py, line 316)\n",
      "C:\\Users\\brittany henderson\\Anaconda3\\envs\\Research\\lib\\site-packages\\numpy\\core\\_asarray.py:83: VisibleDeprecationWarning: Creating an ndarray from ragged nested sequences (which is a list-or-tuple of lists-or-tuples-or ndarrays with different lengths or shapes) is deprecated. If you meant to do this, you must specify 'dtype=object' when creating the ndarray\n",
      "  return array(a, dtype, copy=False, order=order)\n",
      "cptac warning: Due to dropping the specified levels, dataframe now has 36 duplicated column headers. (C:\\Users\\brittany henderson\\Anaconda3\\envs\\Research\\lib\\site-packages\\cptac\\dataset.py, line 308)\n",
      "cptac warning: In joining the somatic_mutation table, no mutations were found for the following samples, so they were filled with Wildtype_Tumor or Wildtype_Normal: 100 samples for the PTEN gene (C:\\Users\\brittany henderson\\Anaconda3\\envs\\Research\\lib\\site-packages\\cptac\\dataset.py, line 316)\n",
      "cptac warning: CNV data was not found for the following samples, so CNV data columns were filled with NaN for these samples: 05CO045 (C:\\Users\\brittany henderson\\Anaconda3\\envs\\Research\\lib\\site-packages\\cptac\\dataset.py, line 316)\n",
      "C:\\Users\\brittany henderson\\Anaconda3\\envs\\Research\\lib\\site-packages\\numpy\\core\\_asarray.py:83: VisibleDeprecationWarning: Creating an ndarray from ragged nested sequences (which is a list-or-tuple of lists-or-tuples-or ndarrays with different lengths or shapes) is deprecated. If you meant to do this, you must specify 'dtype=object' when creating the ndarray\n",
      "  return array(a, dtype, copy=False, order=order)\n",
      "cptac warning: In joining the somatic_mutation table, no mutations were found for the following samples, so they were filled with Wildtype_Tumor or Wildtype_Normal: 71 samples for the KRAS gene (C:\\Users\\brittany henderson\\Anaconda3\\envs\\Research\\lib\\site-packages\\cptac\\dataset.py, line 316)\n",
      "cptac warning: CNV data was not found for the following samples, so CNV data columns were filled with NaN for these samples: 05CO045 (C:\\Users\\brittany henderson\\Anaconda3\\envs\\Research\\lib\\site-packages\\cptac\\dataset.py, line 316)\n"
     ]
    },
    {
     "name": "stdout",
     "output_type": "stream",
     "text": [
      "Colon 106\n",
      "PTEN_Wildtype                   76\n",
      "PTEN_Deletion, KRAS_Mutated     17\n",
      "PTEN_Deletion, KRAS_Wildtype     8\n",
      "PTEN_Other_Mutation              5\n",
      "Name: all, dtype: int64 \n",
      "\n",
      "Lung Adenocarcinoma 109\n",
      "PTEN_Wildtype                   88\n",
      "PTEN_Deletion, KRAS_Mutated      9\n",
      "PTEN_Deletion, KRAS_Wildtype     8\n",
      "PTEN_Other_Mutation              4\n",
      "Name: all, dtype: int64 \n",
      "\n"
     ]
    },
    {
     "name": "stderr",
     "output_type": "stream",
     "text": [
      "cptac warning: In joining the somatic_mutation table, no mutations were found for the following samples, so they were filled with Wildtype_Tumor or Wildtype_Normal: 76 samples for the KRAS gene (C:\\Users\\brittany henderson\\Anaconda3\\envs\\Research\\lib\\site-packages\\cptac\\dataset.py, line 316)\n",
      "C:\\Users\\brittany henderson\\Anaconda3\\envs\\Research\\lib\\site-packages\\numpy\\core\\_asarray.py:83: VisibleDeprecationWarning: Creating an ndarray from ragged nested sequences (which is a list-or-tuple of lists-or-tuples-or ndarrays with different lengths or shapes) is deprecated. If you meant to do this, you must specify 'dtype=object' when creating the ndarray\n",
      "  return array(a, dtype, copy=False, order=order)\n",
      "cptac warning: In joining the somatic_mutation table, no mutations were found for the following samples, so they were filled with Wildtype_Tumor or Wildtype_Normal: 113 samples for the PTEN gene (C:\\Users\\brittany henderson\\Anaconda3\\envs\\Research\\lib\\site-packages\\cptac\\dataset.py, line 316)\n",
      "C:\\Users\\brittany henderson\\Anaconda3\\envs\\Research\\lib\\site-packages\\numpy\\core\\_asarray.py:83: VisibleDeprecationWarning: Creating an ndarray from ragged nested sequences (which is a list-or-tuple of lists-or-tuples-or ndarrays with different lengths or shapes) is deprecated. If you meant to do this, you must specify 'dtype=object' when creating the ndarray\n",
      "  return array(a, dtype, copy=False, order=order)\n",
      "cptac warning: In joining the somatic_mutation table, no mutations were found for the following samples, so they were filled with Wildtype_Tumor or Wildtype_Normal: 121 samples for the KRAS gene (C:\\Users\\brittany henderson\\Anaconda3\\envs\\Research\\lib\\site-packages\\cptac\\dataset.py, line 316)\n",
      "cptac warning: In joining the somatic_mutation table, no mutations were found for the following samples, so they were filled with Wildtype_Tumor or Wildtype_Normal: 96 samples for the PTEN gene (C:\\Users\\brittany henderson\\Anaconda3\\envs\\Research\\lib\\site-packages\\cptac\\dataset.py, line 316)\n",
      "C:\\Users\\brittany henderson\\Anaconda3\\envs\\Research\\lib\\site-packages\\numpy\\core\\_asarray.py:83: VisibleDeprecationWarning: Creating an ndarray from ragged nested sequences (which is a list-or-tuple of lists-or-tuples-or ndarrays with different lengths or shapes) is deprecated. If you meant to do this, you must specify 'dtype=object' when creating the ndarray\n",
      "  return array(a, dtype, copy=False, order=order)\n"
     ]
    },
    {
     "name": "stdout",
     "output_type": "stream",
     "text": [
      "Breast 122\n",
      "PTEN_Wildtype                   80\n",
      "PTEN_Other_Mutation             18\n",
      "PTEN_Deletion, KRAS_Wildtype    15\n",
      "PTEN_Deletion, KRAS_Mutated      9\n",
      "Name: all, dtype: int64 \n",
      "\n",
      "Lung Squamous 108\n",
      "PTEN_Wildtype                   58\n",
      "PTEN_Deletion, KRAS_Mutated     23\n",
      "PTEN_Deletion, KRAS_Wildtype    16\n",
      "PTEN_Other_Mutation             11\n",
      "Name: all, dtype: int64 \n",
      "\n"
     ]
    },
    {
     "name": "stderr",
     "output_type": "stream",
     "text": [
      "cptac warning: In joining the somatic_mutation table, no mutations were found for the following samples, so they were filled with Wildtype_Tumor or Wildtype_Normal: 103 samples for the KRAS gene (C:\\Users\\brittany henderson\\Anaconda3\\envs\\Research\\lib\\site-packages\\cptac\\dataset.py, line 316)\n"
     ]
    }
   ],
   "source": [
    "cis_gene = 'PTEN'\n",
    "other_gene = 'KRAS'\n",
    "\n",
    "dfs = {}\n",
    "df_names = []\n",
    "df_list = []\n",
    "\n",
    "for cancer in caob:\n",
    "    ca = caob[cancer]\n",
    "    \n",
    "    cis_df = find_multi_cis_mut(ca, 'PTEN')\n",
    "   \n",
    "    cis_df = cis_df[['All_Mutations_'+cis_gene]]\n",
    "    \n",
    "    del_df = cis_df.loc[cis_df['All_Mutations_'+cis_gene].str.contains('Deletion')]\n",
    "    del_list = list(del_df['All_Mutations_'+cis_gene].unique())\n",
    "    del_df = del_df.where(del_df == 'Deletion', cis_gene+'_Deletion') # when not del only, replace\n",
    "    del_df = del_df.where(del_df != 'Deletion', cis_gene+'_Deletion')\n",
    "    \n",
    "    other_wt = cis_df.loc[~ cis_df['All_Mutations_'+cis_gene].isin(del_list)]\n",
    "    #print(other_wt['All_Mutations_'+cis_gene].unique())\n",
    "    other_wt = other_wt.where(other_wt == 'Wildtype_Tumor', cis_gene+'_Other_Mutation')\n",
    "    other_wt = other_wt.where(other_wt != 'Wildtype_Tumor', cis_gene+'_Wildtype')\n",
    "    \n",
    "    cis_mut = other_wt.append(del_df)\n",
    "    #print(cis_mut['All_Mutations_'+cis_gene].value_counts())\n",
    "    \n",
    "    # Other gene col\n",
    "    other_df = find_multi_cis_mut(ca, other_gene)\n",
    "    other_mut = other_df[['All_Mutations_'+other_gene]]\n",
    "    other_mut = other_mut.where(other_mut == 'Wildtype_Tumor', other_gene+'_Mutated')\n",
    "    other_mut = other_mut.where(other_mut != 'Wildtype_Tumor', other_gene+'_Wildtype')\n",
    "    \n",
    "    # Join cols\n",
    "    all_df = cis_mut.join(other_mut, how = 'outer')\n",
    "    all_df['all'] = all_df['All_Mutations_'+cis_gene] + ', '+ all_df['All_Mutations_'+other_gene]\n",
    "    \n",
    "    other_gene_list = ['_Wildtype', '_Mutated']\n",
    "    for status in other_gene_list:\n",
    "        all_df = all_df.where(all_df != 'PTEN_Other_Mutation, '+other_gene+status, cis_gene+'_Other_Mutation')\n",
    "        all_df = all_df.where(all_df != 'PTEN_Wildtype, '+other_gene+status, cis_gene+'_Wildtype')\n",
    "    \n",
    "    print(cancer, len(all_df))\n",
    "    print(all_df['all'].value_counts(), '\\n')\n",
    "    \n",
    "    dfs[cancer] = all_df\n",
    "    df_names.append(cancer)\n",
    "    df_list.append(all_df[['all']].dropna())"
   ]
  },
  {
   "cell_type": "code",
   "execution_count": null,
   "metadata": {},
   "outputs": [],
   "source": []
  },
  {
   "cell_type": "code",
   "execution_count": 10,
   "metadata": {},
   "outputs": [
    {
     "data": {
      "image/png": "[encoded data removed]",
      "text/plain": [
       "<Figure size 1008x864 with 1 Axes>"
      ]
     },
     "metadata": {
      "needs_background": "light"
     },
     "output_type": "display_data"
    }
   ],
   "source": [
    "figure1_plot_mutations(\"all\",df_list, df_names, save_to_path = cis_gene+'_'+other_gene+\".png\")"
   ]
  },
  {
   "cell_type": "markdown",
   "metadata": {},
   "source": [
    "When a sample has multiple truncations, we catagorized them under truncation."
   ]
  },
  {
   "cell_type": "code",
   "execution_count": null,
   "metadata": {},
   "outputs": [],
   "source": []
  }
 ],
 "metadata": {
  "kernelspec": {
   "display_name": "Python 3",
   "language": "python",
   "name": "python3"
  },
  "language_info": {
   "codemirror_mode": {
    "name": "ipython",
    "version": 3
   },
   "file_extension": ".py",
   "mimetype": "text/x-python",
   "name": "python",
   "nbconvert_exporter": "python",
   "pygments_lexer": "ipython3",
   "version": "3.7.3"
  }
 },
 "nbformat": 4,
 "nbformat_minor": 2
}
