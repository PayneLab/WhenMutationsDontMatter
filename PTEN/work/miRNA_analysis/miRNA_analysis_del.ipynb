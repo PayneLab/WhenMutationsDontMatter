{
 "cells": [
  {
   "cell_type": "markdown",
   "metadata": {},
   "source": [
    "# Check the effect of miRNA levels on PTEN protein abundance "
   ]
  },
  {
   "cell_type": "markdown",
   "metadata": {},
   "source": [
    " \"miR-25 and miR-93 (from MCM7) expression decrease PTEN protein levels, and result in activation of the Akt pathway.\" https://www.ncbi.nlm.nih.gov/pmc/articles/PMC3095470/\n",
    " Could this help explain the tissue dependant effects?"
   ]
  },
  {
   "cell_type": "code",
   "execution_count": 1,
   "metadata": {},
   "outputs": [],
   "source": [
    "import pandas as pd\n",
    "import numpy as np\n",
    "import seaborn as sns\n",
    "import matplotlib.pyplot as plt\n",
    "import scipy.stats\n",
    "import gseapy as gp\n",
    "import re\n",
    "import sys \n",
    "\n",
    "import cptac\n",
    "import cptac.utils as u\n",
    "import plot_utils as p"
   ]
  },
  {
   "cell_type": "code",
   "execution_count": 2,
   "metadata": {},
   "outputs": [],
   "source": [
    "#import warnings\n",
    "#warnings.filterwarnings('ignore')"
   ]
  },
  {
   "cell_type": "code",
   "execution_count": 3,
   "metadata": {},
   "outputs": [],
   "source": [
    "def format_pval_annotation(pval_symbol, x1, x2, line_start = .05, line_height=.05):\n",
    "    # for manual adjustment to pval annotations\n",
    "    \n",
    "    y, h = line_start, line_height\n",
    "    plt.plot([x1, x1, x2, x2], #draw horizontal line\n",
    "             [y, y+h, y+h, y], #vertical line\n",
    "             lw=1.5, color= '.3')\n",
    "    plt.text((x1+x2)*.5, # half between x coord\n",
    "             y+h, pval_symbol, horizontalalignment='center', verticalalignment='bottom', color = \"black\")\n"
   ]
  },
  {
   "cell_type": "code",
   "execution_count": 4,
   "metadata": {},
   "outputs": [],
   "source": [
    "'''\n",
    "Params\n",
    "all_prot: list of trans genes\n",
    "utils: from cptac\n",
    "\n",
    "Returns a dataframe with trans proteomics and mutation status (PTEN deletion or wt)\n",
    "'''\n",
    "\n",
    "def all_prot_format_df(cancer_object, all_prot = ['PTEN'], gene_in = 'PTEN', utils = u):\n",
    "    mut_type = cancer_object.get_genotype_all_vars(gene_in)\n",
    "    \n",
    "    if cancer_object.get_cancer_type() not in ('luad', 'endometrial'):\n",
    "        # Keep only tumor samples from proteomics\n",
    "        prot_and_mutations = cancer_object.join_omics_to_mutations(\n",
    "            mutations_genes = [gene_in], omics_df_name = 'proteomics', omics_genes = all_prot,\n",
    "            tissue_type = 'tumor') # drop Normal samples\n",
    "        \n",
    "        # Reduce a multiindex \n",
    "        if isinstance(prot_and_mutations.keys(), pd.core.indexes.multi.MultiIndex):\n",
    "            prot_and_mutations = utils.reduce_multiindex(prot_and_mutations, levels_to_drop = 1) \n",
    "\n",
    "        # Merge Mutation column from get_genotype_all_vars (includes cnv) with proteomics\n",
    "        mut_type = mut_type[['Mutation']] \n",
    "        prot_df = prot_and_mutations.iloc[:,:-4] # Keep only proteomics\n",
    "        merged = prot_df.join(mut_type)\n",
    "        \n",
    "        # Keep only Wildtype and deletion\n",
    "        compare = ['Wildtype_Tumor','Deletion']\n",
    "        get = merged['Mutation'].isin(compare)\n",
    "        mut_wt = merged[get]\n",
    "    \n",
    "    \n",
    "    # Luad has no somatic mutations for PTEN which changes some things\n",
    "    elif cancer_object.get_cancer_type() in ('luad'): \n",
    "        # get_genotype_all_vars add cnv data under the column PTEN\n",
    "        mut_type = mut_type.drop(columns= gene_in)\n",
    "        # different code because no somatic mutation data for pten (can't join to somatic mutations)\n",
    "        omics = cancer_object.join_omics_to_omics(df1_name = 'CNV', df2_name = 'proteomics', genes1 = gene_in, \n",
    "            genes2 = all_prot, tissue_type = 'tumor') # Get only tumor samples\n",
    "        omics = utils.reduce_multiindex(omics, levels_to_drop = 1, flatten = True)\n",
    "        omics = omics.drop(columns = 'PTEN_CNV')\n",
    "        \n",
    "        # Merge Mutation column from get_genotype_all_vars (includes cnv) with proteomics\n",
    "        merged = omics.join(mut_type) \n",
    "        \n",
    "        # Keep only No_Mutation (wildtype) and deletion\n",
    "        compare = ['No_Mutation','Deletion']\n",
    "        get = merged['Mutation'].isin(compare)\n",
    "        mut_wt = merged[get]\n",
    "        mut_wt['Mutation'] = np.where(\n",
    "            mut_wt['Mutation'] == 'No_Mutation', 'Wildtype_Tumor', 'Deletion')\n",
    "        \n",
    "    elif cancer_object.get_cancer_type() in ('endometrial'):\n",
    "        # Keep only tumor samples from proteomics\n",
    "        prot_and_mutations = cancer_object.join_omics_to_mutations(\n",
    "            mutations_genes = [gene_in], omics_df_name = 'proteomics', omics_genes = all_prot,\n",
    "            tissue_type = 'tumor') # drop Normal samples\n",
    "        \n",
    "        # Reduce a multiindex \n",
    "        if isinstance(prot_and_mutations.keys(), pd.core.indexes.multi.MultiIndex):\n",
    "            prot_and_mutations = utils.reduce_multiindex(prot_and_mutations, levels_to_drop = 1) \n",
    "\n",
    "        # Merge Mutation column from get_genotype_all_vars (includes cnv) with proteomics\n",
    "        mut_type = mut_type[['Mutation']] \n",
    "        prot_df = prot_and_mutations.iloc[:,:-4] # Keep only proteomics\n",
    "        merged = prot_df.join(mut_type)\n",
    "        \n",
    "        # Keep two values to compare\n",
    "        compare = ['Wildtype_Tumor','Nonsense_Mutation','Frame_Shift_Ins','Frame_Shift_Del']\n",
    "        get = merged['Mutation'].isin(compare)\n",
    "        mut_wt = merged[get]\n",
    "        mut_wt['Mutation'] = np.where(\n",
    "                        mut_wt['Mutation'] == 'Wildtype_Tumor', 'Wildtype_Tumor', 'Truncation')\n",
    "\n",
    "    return mut_wt\n"
   ]
  },
  {
   "cell_type": "markdown",
   "metadata": {},
   "source": [
    "#  Step 1: Create Data frames with p-values and differences in median"
   ]
  },
  {
   "cell_type": "markdown",
   "metadata": {},
   "source": [
    "Each cancer needs a data frame containing only samples that have PTEN cnv deletions and PTEN wildtype with trans proteomics. Use wrap_ttest to run many T-tests for all genes in the proteomics data frame. Use get_change_in_medians_df to create the data frame with change in median values. Merge both data frames. "
   ]
  },
  {
   "cell_type": "markdown",
   "metadata": {},
   "source": [
    "Load in cancer data sets from cptac. "
   ]
  },
  {
   "cell_type": "code",
   "execution_count": 5,
   "metadata": {},
   "outputs": [
    {
     "name": "stdout",
     "output_type": "stream",
     "text": [
      "Checking that endometrial index is up-to-date...\r"
     ]
    },
    {
     "name": "stderr",
     "output_type": "stream",
     "text": [
      "cptac warning: The GBM dataset is under publication embargo until March 01, 2021. CPTAC is a community resource project and data are made available rapidly after generation for community research use. The embargo allows exploring and utilizing the data, but analysis may not be published until after the embargo date. Please see https://proteomics.cancer.gov/data-portal/about/data-use-agreement or enter cptac.embargo() to open the webpage for more details. (C:\\Users\\brittany henderson\\Anaconda3\\envs\\Research\\lib\\site-packages\\ipykernel_launcher.py, line 1)\n"
     ]
    },
    {
     "name": "stdout",
     "output_type": "stream",
     "text": [
      "Checking that luad index is up-to-date...       \r"
     ]
    },
    {
     "name": "stderr",
     "output_type": "stream",
     "text": [
      "cptac warning: The HNSCC data is currently strictly reserved for CPTAC investigators. Otherwise, you are not authorized to access these data. Additionally, even after these data become publicly available, they will be subject to a publication embargo (see https://proteomics.cancer.gov/data-portal/about/data-use-agreement or enter cptac.embargo() to open the webpage for more details). (C:\\Users\\brittany henderson\\Anaconda3\\envs\\Research\\lib\\site-packages\\ipykernel_launcher.py, line 3)\n"
     ]
    },
    {
     "name": "stdout",
     "output_type": "stream",
     "text": [
      "Checking that ovarian index is up-to-date...\r"
     ]
    },
    {
     "name": "stderr",
     "output_type": "stream",
     "text": [
      "cptac warning: The LSCC data is currently strictly reserved for CPTAC investigators. Otherwise, you are not authorized to access these data. Additionally, even after these data become publicly available, they will be subject to a publication embargo (see https://proteomics.cancer.gov/data-portal/about/data-use-agreement or enter cptac.embargo() to open the webpage for more details). (C:\\Users\\brittany henderson\\Anaconda3\\envs\\Research\\lib\\site-packages\\ipykernel_launcher.py, line 5)\n"
     ]
    },
    {
     "name": "stdout",
     "output_type": "stream",
     "text": [
      "                                            \r"
     ]
    }
   ],
   "source": [
    "g = cptac.Gbm()\n",
    "en = cptac.Endometrial()\n",
    "h = cptac.Hnscc()\n",
    "l = cptac.Luad()\n",
    "ls = cptac.Lscc()\n",
    "o = cptac.Ovarian()\n",
    "col = cptac.Colon()\n",
    "b = cptac.Brca()"
   ]
  },
  {
   "cell_type": "code",
   "execution_count": 6,
   "metadata": {},
   "outputs": [
    {
     "name": "stderr",
     "output_type": "stream",
     "text": [
      "cptac warning: Due to dropping the specified levels, dataframe now has 400 duplicated column headers. (C:\\Users\\brittany henderson\\Anaconda3\\envs\\Research\\lib\\site-packages\\ipykernel_launcher.py, line 3)\n"
     ]
    },
    {
     "data": {
      "text/html": [
       "<div>\n",
       "<style scoped>\n",
       "    .dataframe tbody tr th:only-of-type {\n",
       "        vertical-align: middle;\n",
       "    }\n",
       "\n",
       "    .dataframe tbody tr th {\n",
       "        vertical-align: top;\n",
       "    }\n",
       "\n",
       "    .dataframe thead th {\n",
       "        text-align: right;\n",
       "    }\n",
       "</style>\n",
       "<table border=\"1\" class=\"dataframe\">\n",
       "  <thead>\n",
       "    <tr style=\"text-align: right;\">\n",
       "      <th>Name</th>\n",
       "      <th>hsa-miR-25-3p</th>\n",
       "      <th>hsa-miR-25-5p</th>\n",
       "    </tr>\n",
       "    <tr>\n",
       "      <th>Patient_ID</th>\n",
       "      <th></th>\n",
       "      <th></th>\n",
       "    </tr>\n",
       "  </thead>\n",
       "  <tbody>\n",
       "    <tr>\n",
       "      <th>C3L-00104</th>\n",
       "      <td>341.652573</td>\n",
       "      <td>NaN</td>\n",
       "    </tr>\n",
       "    <tr>\n",
       "      <th>C3L-00365</th>\n",
       "      <td>343.139007</td>\n",
       "      <td>NaN</td>\n",
       "    </tr>\n",
       "    <tr>\n",
       "      <th>C3L-00674</th>\n",
       "      <td>1428.981227</td>\n",
       "      <td>NaN</td>\n",
       "    </tr>\n",
       "    <tr>\n",
       "      <th>C3L-00677</th>\n",
       "      <td>890.645621</td>\n",
       "      <td>6.501063</td>\n",
       "    </tr>\n",
       "    <tr>\n",
       "      <th>C3L-01040</th>\n",
       "      <td>164.881399</td>\n",
       "      <td>11.371131</td>\n",
       "    </tr>\n",
       "    <tr>\n",
       "      <th>...</th>\n",
       "      <td>...</td>\n",
       "      <td>...</td>\n",
       "    </tr>\n",
       "    <tr>\n",
       "      <th>C3N-03183</th>\n",
       "      <td>1587.808927</td>\n",
       "      <td>10.310448</td>\n",
       "    </tr>\n",
       "    <tr>\n",
       "      <th>C3N-03184</th>\n",
       "      <td>287.471381</td>\n",
       "      <td>NaN</td>\n",
       "    </tr>\n",
       "    <tr>\n",
       "      <th>C3N-03186</th>\n",
       "      <td>212.059094</td>\n",
       "      <td>NaN</td>\n",
       "    </tr>\n",
       "    <tr>\n",
       "      <th>C3N-03188</th>\n",
       "      <td>145.826164</td>\n",
       "      <td>5.833047</td>\n",
       "    </tr>\n",
       "    <tr>\n",
       "      <th>C3N-03473</th>\n",
       "      <td>505.405026</td>\n",
       "      <td>9.359352</td>\n",
       "    </tr>\n",
       "  </tbody>\n",
       "</table>\n",
       "<p>98 rows × 2 columns</p>\n",
       "</div>"
      ],
      "text/plain": [
       "Name        hsa-miR-25-3p  hsa-miR-25-5p\n",
       "Patient_ID                              \n",
       "C3L-00104      341.652573            NaN\n",
       "C3L-00365      343.139007            NaN\n",
       "C3L-00674     1428.981227            NaN\n",
       "C3L-00677      890.645621       6.501063\n",
       "C3L-01040      164.881399      11.371131\n",
       "...                   ...            ...\n",
       "C3N-03183     1587.808927      10.310448\n",
       "C3N-03184      287.471381            NaN\n",
       "C3N-03186      212.059094            NaN\n",
       "C3N-03188      145.826164       5.833047\n",
       "C3N-03473      505.405026       9.359352\n",
       "\n",
       "[98 rows x 2 columns]"
      ]
     },
     "execution_count": 6,
     "metadata": {},
     "output_type": "execute_result"
    }
   ],
   "source": [
    "# Find miRNA\n",
    "m = g.get_miRNA(tissue_type='tumor')\n",
    "m = u.reduce_multiindex(m, levels_to_drop = 1)\n",
    "\n",
    "mb_25 = m.columns.str.contains(r'miR-25')\n",
    "mir25 = m[m.columns[mb_25]]\n",
    "mir25"
   ]
  },
  {
   "cell_type": "markdown",
   "metadata": {},
   "source": [
    "# Run t-tests for miR-25 and miR-93"
   ]
  },
  {
   "cell_type": "markdown",
   "metadata": {},
   "source": [
    " miR-25 and miR-93 (from MCM7) expression decrease pTEN protein levels, and result in activation of the Akt pathway\n",
    " Could this help explain the tissue dependant effects?"
   ]
  },
  {
   "cell_type": "code",
   "execution_count": 7,
   "metadata": {},
   "outputs": [],
   "source": [
    "def status(row, q1, q3):\n",
    "    #print(row,'\\tq1:',q1,'\\tq3:',q3)\n",
    "    status = 'na'\n",
    "    for val in row: \n",
    "        if pd.isnull(val):\n",
    "            continue\n",
    "        val = float(val)\n",
    "        if val <= q1:\n",
    "            status = 'low'\n",
    "        elif val >= q3:\n",
    "            status = 'high'\n",
    "        else:\n",
    "            status = 'med'\n",
    "        return status"
   ]
  },
  {
   "cell_type": "code",
   "execution_count": 8,
   "metadata": {},
   "outputs": [
    {
     "data": {
      "text/plain": [
       "Index(['MIMAT0000062', 'MIMAT0000062_1', 'MIMAT0000062_2', 'MIMAT0000063',\n",
       "       'MIMAT0000064', 'MIMAT0000065', 'MIMAT0000066', 'MIMAT0000067',\n",
       "       'MIMAT0000067_1', 'MIMAT0000068',\n",
       "       ...\n",
       "       'MIMAT0049014', 'MIMAT0049015', 'MIMAT0049019', 'MIMAT0049021',\n",
       "       'MIMAT0049023', 'MIMAT0049024', 'MIMAT0049026', 'MIMAT0049027',\n",
       "       'MIMAT0049031', 'MIMAT0049032'],\n",
       "      dtype='object', name='Name', length=2585)"
      ]
     },
     "execution_count": 8,
     "metadata": {},
     "output_type": "execute_result"
    }
   ],
   "source": [
    "luad_df = l.get_miRNA()\n",
    "luad_df.columns"
   ]
  },
  {
   "cell_type": "code",
   "execution_count": 9,
   "metadata": {},
   "outputs": [
    {
     "name": "stdout",
     "output_type": "stream",
     "text": [
      "GBM_25-3p \n",
      "q1: 246.47907507294065 \tq3: 459.7723879490197 \n",
      "\n"
     ]
    },
    {
     "name": "stderr",
     "output_type": "stream",
     "text": [
      "cptac warning: Due to dropping the specified levels, dataframe now has 400 duplicated column headers. (C:\\Users\\brittany henderson\\Anaconda3\\envs\\Research\\lib\\site-packages\\ipykernel_launcher.py, line 18)\n",
      "C:\\Users\\brittany henderson\\Anaconda3\\envs\\Research\\lib\\site-packages\\ipykernel_launcher.py:36: SettingWithCopyWarning: \n",
      "A value is trying to be set on a copy of a slice from a DataFrame.\n",
      "Try using .loc[row_indexer,col_indexer] = value instead\n",
      "\n",
      "See the caveats in the documentation: https://pandas.pydata.org/pandas-docs/stable/user_guide/indexing.html#returning-a-view-versus-a-copy\n",
      "cptac warning: In joining the somatic_mutation table, no mutations were found for the following samples, so they were filled with Wildtype_Tumor or Wildtype_Normal: 72 samples for the PTEN gene (C:\\Users\\brittany henderson\\Anaconda3\\envs\\Research\\lib\\site-packages\\cptac\\dataset.py, line 313)\n",
      "cptac warning: CNV data was not found for the following samples, so CNV data columns were filled with NaN for these samples: C3L-01834 (C:\\Users\\brittany henderson\\Anaconda3\\envs\\Research\\lib\\site-packages\\cptac\\dataset.py, line 313)\n",
      "C:\\Users\\brittany henderson\\Anaconda3\\envs\\Research\\lib\\site-packages\\numpy\\core\\_asarray.py:83: VisibleDeprecationWarning: Creating an ndarray from ragged nested sequences (which is a list-or-tuple of lists-or-tuples-or ndarrays with different lengths or shapes) is deprecated. If you meant to do this, you must specify 'dtype=object' when creating the ndarray\n",
      "  return array(a, dtype, copy=False, order=order)\n",
      "cptac warning: In joining the somatic_mutation table, no mutations were found for the following samples, so they were filled with Wildtype_Tumor or Wildtype_Normal: 72 samples for the PTEN gene (C:\\Users\\brittany henderson\\Anaconda3\\envs\\Research\\lib\\site-packages\\ipykernel_launcher.py, line 16)\n",
      "C:\\Users\\brittany henderson\\Anaconda3\\envs\\Research\\lib\\site-packages\\ipykernel_launcher.py:36: SettingWithCopyWarning: \n",
      "A value is trying to be set on a copy of a slice from a DataFrame.\n",
      "Try using .loc[row_indexer,col_indexer] = value instead\n",
      "\n",
      "See the caveats in the documentation: https://pandas.pydata.org/pandas-docs/stable/user_guide/indexing.html#returning-a-view-versus-a-copy\n",
      "cptac warning: In joining the somatic_mutation table, no mutations were found for the following samples, so they were filled with Wildtype_Tumor or Wildtype_Normal: 109 samples for the PTEN gene (C:\\Users\\brittany henderson\\Anaconda3\\envs\\Research\\lib\\site-packages\\cptac\\dataset.py, line 313)\n",
      "cptac warning: CNV data was not found for the following samples, so CNV data columns were filled with NaN for these samples: C3L-02617, C3N-02727 (C:\\Users\\brittany henderson\\Anaconda3\\envs\\Research\\lib\\site-packages\\cptac\\dataset.py, line 313)\n",
      "C:\\Users\\brittany henderson\\Anaconda3\\envs\\Research\\lib\\site-packages\\numpy\\core\\_asarray.py:83: VisibleDeprecationWarning: Creating an ndarray from ragged nested sequences (which is a list-or-tuple of lists-or-tuples-or ndarrays with different lengths or shapes) is deprecated. If you meant to do this, you must specify 'dtype=object' when creating the ndarray\n",
      "  return array(a, dtype, copy=False, order=order)\n"
     ]
    },
    {
     "name": "stdout",
     "output_type": "stream",
     "text": [
      "Incorrectly Formatted Dataframe!\n",
      "\tNOT enough data! \n",
      "\n",
      "\n",
      "HNSCC_25-3p \n",
      "q1: 10.5034083691467 \tq3: 11.4754598603244 \n",
      "\n"
     ]
    },
    {
     "name": "stderr",
     "output_type": "stream",
     "text": [
      "cptac warning: In joining the somatic_mutation table, no mutations were found for the following samples, so they were filled with Wildtype_Tumor or Wildtype_Normal: 107 samples for the PTEN gene (C:\\Users\\brittany henderson\\Anaconda3\\envs\\Research\\lib\\site-packages\\ipykernel_launcher.py, line 16)\n",
      "cptac warning: Due to dropping the specified levels, dataframe now has 297 duplicated column headers. (C:\\Users\\brittany henderson\\Anaconda3\\envs\\Research\\lib\\site-packages\\ipykernel_launcher.py, line 18)\n",
      "C:\\Users\\brittany henderson\\Anaconda3\\envs\\Research\\lib\\site-packages\\ipykernel_launcher.py:36: SettingWithCopyWarning: \n",
      "A value is trying to be set on a copy of a slice from a DataFrame.\n",
      "Try using .loc[row_indexer,col_indexer] = value instead\n",
      "\n",
      "See the caveats in the documentation: https://pandas.pydata.org/pandas-docs/stable/user_guide/indexing.html#returning-a-view-versus-a-copy\n",
      "cptac warning: In joining the somatic_mutation table, no mutations were found for the following samples, so they were filled with Wildtype_Tumor or Wildtype_Normal: 96 samples for the PTEN gene (C:\\Users\\brittany henderson\\Anaconda3\\envs\\Research\\lib\\site-packages\\cptac\\dataset.py, line 313)\n",
      "C:\\Users\\brittany henderson\\Anaconda3\\envs\\Research\\lib\\site-packages\\numpy\\core\\_asarray.py:83: VisibleDeprecationWarning: Creating an ndarray from ragged nested sequences (which is a list-or-tuple of lists-or-tuples-or ndarrays with different lengths or shapes) is deprecated. If you meant to do this, you must specify 'dtype=object' when creating the ndarray\n",
      "  return array(a, dtype, copy=False, order=order)\n",
      "cptac warning: In joining the somatic_mutation table, no mutations were found for the following samples, so they were filled with Wildtype_Tumor or Wildtype_Normal: 96 samples for the PTEN gene (C:\\Users\\brittany henderson\\Anaconda3\\envs\\Research\\lib\\site-packages\\ipykernel_launcher.py, line 16)"
     ]
    },
    {
     "name": "stdout",
     "output_type": "stream",
     "text": [
      "LSCC_25-3p \n",
      "q1: 8.31685 \tq3: 9.261 \n",
      "\n"
     ]
    },
    {
     "name": "stderr",
     "output_type": "stream",
     "text": [
      "\n",
      "C:\\Users\\brittany henderson\\Anaconda3\\envs\\Research\\lib\\site-packages\\ipykernel_launcher.py:36: SettingWithCopyWarning: \n",
      "A value is trying to be set on a copy of a slice from a DataFrame.\n",
      "Try using .loc[row_indexer,col_indexer] = value instead\n",
      "\n",
      "See the caveats in the documentation: https://pandas.pydata.org/pandas-docs/stable/user_guide/indexing.html#returning-a-view-versus-a-copy\n",
      "cptac warning: In joining the somatic_mutation table, no mutations were found for the following samples, so they were filled with Wildtype_Tumor or Wildtype_Normal: 20 samples for the PTEN gene (C:\\Users\\brittany henderson\\Anaconda3\\envs\\Research\\lib\\site-packages\\cptac\\dataset.py, line 313)\n",
      "C:\\Users\\brittany henderson\\Anaconda3\\envs\\Research\\lib\\site-packages\\numpy\\core\\_asarray.py:83: VisibleDeprecationWarning: Creating an ndarray from ragged nested sequences (which is a list-or-tuple of lists-or-tuples-or ndarrays with different lengths or shapes) is deprecated. If you meant to do this, you must specify 'dtype=object' when creating the ndarray\n",
      "  return array(a, dtype, copy=False, order=order)\n"
     ]
    },
    {
     "name": "stdout",
     "output_type": "stream",
     "text": [
      "EC_25-3p \n",
      "q1: 10.46 \tq3: 11.440000000000001 \n",
      "\n"
     ]
    },
    {
     "name": "stderr",
     "output_type": "stream",
     "text": [
      "cptac warning: In joining the somatic_mutation table, no mutations were found for the following samples, so they were filled with Wildtype_Tumor or Wildtype_Normal: 20 samples for the PTEN gene (C:\\Users\\brittany henderson\\Anaconda3\\envs\\Research\\lib\\site-packages\\ipykernel_launcher.py, line 57)\n",
      "C:\\Users\\brittany henderson\\Anaconda3\\envs\\Research\\lib\\site-packages\\ipykernel_launcher.py:73: SettingWithCopyWarning: \n",
      "A value is trying to be set on a copy of a slice from a DataFrame.\n",
      "Try using .loc[row_indexer,col_indexer] = value instead\n",
      "\n",
      "See the caveats in the documentation: https://pandas.pydata.org/pandas-docs/stable/user_guide/indexing.html#returning-a-view-versus-a-copy\n",
      "C:\\Users\\brittany henderson\\Anaconda3\\envs\\Research\\lib\\site-packages\\ipykernel_launcher.py:36: SettingWithCopyWarning: \n",
      "A value is trying to be set on a copy of a slice from a DataFrame.\n",
      "Try using .loc[row_indexer,col_indexer] = value instead\n",
      "\n",
      "See the caveats in the documentation: https://pandas.pydata.org/pandas-docs/stable/user_guide/indexing.html#returning-a-view-versus-a-copy\n",
      "cptac warning: In joining the somatic_mutation table, no mutations were found for the following samples, so they were filled with Wildtype_Tumor or Wildtype_Normal: 100 samples for the PTEN gene (C:\\Users\\brittany henderson\\Anaconda3\\envs\\Research\\lib\\site-packages\\cptac\\dataset.py, line 313)\n",
      "cptac warning: CNV data was not found for the following samples, so CNV data columns were filled with NaN for these samples: 05CO045 (C:\\Users\\brittany henderson\\Anaconda3\\envs\\Research\\lib\\site-packages\\cptac\\dataset.py, line 313)\n",
      "C:\\Users\\brittany henderson\\Anaconda3\\envs\\Research\\lib\\site-packages\\numpy\\core\\_asarray.py:83: VisibleDeprecationWarning: Creating an ndarray from ragged nested sequences (which is a list-or-tuple of lists-or-tuples-or ndarrays with different lengths or shapes) is deprecated. If you meant to do this, you must specify 'dtype=object' when creating the ndarray\n",
      "  return array(a, dtype, copy=False, order=order)\n",
      "cptac warning: In joining the somatic_mutation table, no mutations were found for the following samples, so they were filled with Wildtype_Tumor or Wildtype_Normal: 101 samples for the PTEN gene (C:\\Users\\brittany henderson\\Anaconda3\\envs\\Research\\lib\\site-packages\\ipykernel_launcher.py, line 16)"
     ]
    },
    {
     "name": "stdout",
     "output_type": "stream",
     "text": [
      "CO_25-3p \n",
      "q1: 11.4106 \tq3: 12.1814 \n",
      "\n"
     ]
    },
    {
     "name": "stderr",
     "output_type": "stream",
     "text": [
      "\n",
      "cptac warning: proteomics data was not found for the following samples, so proteomics data columns were filled with NaN for these samples: 01CO001, 05CO005, 05CO007, 05CO014, 05CO055, 11CO059, 11CO060, 14CO002, 16CO012, 24CO005 (C:\\Users\\brittany henderson\\Anaconda3\\envs\\Research\\lib\\site-packages\\ipykernel_launcher.py, line 16)\n",
      "cptac warning: Due to dropping the specified levels, dataframe now has 400 duplicated column headers. (C:\\Users\\brittany henderson\\Anaconda3\\envs\\Research\\lib\\site-packages\\ipykernel_launcher.py, line 18)\n",
      "C:\\Users\\brittany henderson\\Anaconda3\\envs\\Research\\lib\\site-packages\\ipykernel_launcher.py:36: SettingWithCopyWarning: \n",
      "A value is trying to be set on a copy of a slice from a DataFrame.\n",
      "Try using .loc[row_indexer,col_indexer] = value instead\n",
      "\n",
      "See the caveats in the documentation: https://pandas.pydata.org/pandas-docs/stable/user_guide/indexing.html#returning-a-view-versus-a-copy\n",
      "cptac warning: In joining the somatic_mutation table, no mutations were found for the following samples, so they were filled with Wildtype_Tumor or Wildtype_Normal: 72 samples for the PTEN gene (C:\\Users\\brittany henderson\\Anaconda3\\envs\\Research\\lib\\site-packages\\cptac\\dataset.py, line 313)\n",
      "cptac warning: CNV data was not found for the following samples, so CNV data columns were filled with NaN for these samples: C3L-01834 (C:\\Users\\brittany henderson\\Anaconda3\\envs\\Research\\lib\\site-packages\\cptac\\dataset.py, line 313)\n",
      "C:\\Users\\brittany henderson\\Anaconda3\\envs\\Research\\lib\\site-packages\\numpy\\core\\_asarray.py:83: VisibleDeprecationWarning: Creating an ndarray from ragged nested sequences (which is a list-or-tuple of lists-or-tuples-or ndarrays with different lengths or shapes) is deprecated. If you meant to do this, you must specify 'dtype=object' when creating the ndarray\n",
      "  return array(a, dtype, copy=False, order=order)\n",
      "cptac warning: In joining the somatic_mutation table, no mutations were found for the following samples, so they were filled with Wildtype_Tumor or Wildtype_Normal: 72 samples for the PTEN gene (C:\\Users\\brittany henderson\\Anaconda3\\envs\\Research\\lib\\site-packages\\ipykernel_launcher.py, line 16)\n",
      "C:\\Users\\brittany henderson\\Anaconda3\\envs\\Research\\lib\\site-packages\\ipykernel_launcher.py:36: SettingWithCopyWarning: \n",
      "A value is trying to be set on a copy of a slice from a DataFrame.\n",
      "Try using .loc[row_indexer,col_indexer] = value instead\n",
      "\n",
      "See the caveats in the documentation: https://pandas.pydata.org/pandas-docs/stable/user_guide/indexing.html#returning-a-view-versus-a-copy\n"
     ]
    },
    {
     "name": "stdout",
     "output_type": "stream",
     "text": [
      "GBM_25-5p \n",
      "q1: 4.969485242981278 \tq3: 11.965394494185968 \n",
      "\n",
      "Incorrectly Formatted Dataframe!\n",
      "\tNOT enough data! \n",
      "\n",
      "\n",
      "HNSCC_25-5p \n",
      "q1: 3.8698714061777095 \tq3: 5.375734538583161 \n",
      "\n"
     ]
    },
    {
     "name": "stderr",
     "output_type": "stream",
     "text": [
      "cptac warning: In joining the somatic_mutation table, no mutations were found for the following samples, so they were filled with Wildtype_Tumor or Wildtype_Normal: 109 samples for the PTEN gene (C:\\Users\\brittany henderson\\Anaconda3\\envs\\Research\\lib\\site-packages\\cptac\\dataset.py, line 313)\n",
      "cptac warning: CNV data was not found for the following samples, so CNV data columns were filled with NaN for these samples: C3L-02617, C3N-02727 (C:\\Users\\brittany henderson\\Anaconda3\\envs\\Research\\lib\\site-packages\\cptac\\dataset.py, line 313)\n",
      "C:\\Users\\brittany henderson\\Anaconda3\\envs\\Research\\lib\\site-packages\\numpy\\core\\_asarray.py:83: VisibleDeprecationWarning: Creating an ndarray from ragged nested sequences (which is a list-or-tuple of lists-or-tuples-or ndarrays with different lengths or shapes) is deprecated. If you meant to do this, you must specify 'dtype=object' when creating the ndarray\n",
      "  return array(a, dtype, copy=False, order=order)\n",
      "cptac warning: In joining the somatic_mutation table, no mutations were found for the following samples, so they were filled with Wildtype_Tumor or Wildtype_Normal: 107 samples for the PTEN gene (C:\\Users\\brittany henderson\\Anaconda3\\envs\\Research\\lib\\site-packages\\ipykernel_launcher.py, line 16)\n",
      "cptac warning: Due to dropping the specified levels, dataframe now has 297 duplicated column headers. (C:\\Users\\brittany henderson\\Anaconda3\\envs\\Research\\lib\\site-packages\\ipykernel_launcher.py, line 18)\n",
      "C:\\Users\\brittany henderson\\Anaconda3\\envs\\Research\\lib\\site-packages\\ipykernel_launcher.py:36: SettingWithCopyWarning: \n",
      "A value is trying to be set on a copy of a slice from a DataFrame.\n",
      "Try using .loc[row_indexer,col_indexer] = value instead\n",
      "\n",
      "See the caveats in the documentation: https://pandas.pydata.org/pandas-docs/stable/user_guide/indexing.html#returning-a-view-versus-a-copy\n",
      "cptac warning: In joining the somatic_mutation table, no mutations were found for the following samples, so they were filled with Wildtype_Tumor or Wildtype_Normal: 96 samples for the PTEN gene (C:\\Users\\brittany henderson\\Anaconda3\\envs\\Research\\lib\\site-packages\\cptac\\dataset.py, line 313)\n",
      "C:\\Users\\brittany henderson\\Anaconda3\\envs\\Research\\lib\\site-packages\\numpy\\core\\_asarray.py:83: VisibleDeprecationWarning: Creating an ndarray from ragged nested sequences (which is a list-or-tuple of lists-or-tuples-or ndarrays with different lengths or shapes) is deprecated. If you meant to do this, you must specify 'dtype=object' when creating the ndarray\n",
      "  return array(a, dtype, copy=False, order=order)\n"
     ]
    },
    {
     "name": "stdout",
     "output_type": "stream",
     "text": [
      "LSCC_25-5p \n",
      "q1: 3.0574 \tq3: 4.806 \n",
      "\n"
     ]
    },
    {
     "name": "stderr",
     "output_type": "stream",
     "text": [
      "cptac warning: In joining the somatic_mutation table, no mutations were found for the following samples, so they were filled with Wildtype_Tumor or Wildtype_Normal: 96 samples for the PTEN gene (C:\\Users\\brittany henderson\\Anaconda3\\envs\\Research\\lib\\site-packages\\ipykernel_launcher.py, line 16)\n",
      "C:\\Users\\brittany henderson\\Anaconda3\\envs\\Research\\lib\\site-packages\\ipykernel_launcher.py:36: SettingWithCopyWarning: \n",
      "A value is trying to be set on a copy of a slice from a DataFrame.\n",
      "Try using .loc[row_indexer,col_indexer] = value instead\n",
      "\n",
      "See the caveats in the documentation: https://pandas.pydata.org/pandas-docs/stable/user_guide/indexing.html#returning-a-view-versus-a-copy\n",
      "cptac warning: In joining the somatic_mutation table, no mutations were found for the following samples, so they were filled with Wildtype_Tumor or Wildtype_Normal: 20 samples for the PTEN gene (C:\\Users\\brittany henderson\\Anaconda3\\envs\\Research\\lib\\site-packages\\cptac\\dataset.py, line 313)\n",
      "C:\\Users\\brittany henderson\\Anaconda3\\envs\\Research\\lib\\site-packages\\numpy\\core\\_asarray.py:83: VisibleDeprecationWarning: Creating an ndarray from ragged nested sequences (which is a list-or-tuple of lists-or-tuples-or ndarrays with different lengths or shapes) is deprecated. If you meant to do this, you must specify 'dtype=object' when creating the ndarray\n",
      "  return array(a, dtype, copy=False, order=order)\n"
     ]
    },
    {
     "name": "stdout",
     "output_type": "stream",
     "text": [
      "EC_25-5p \n",
      "q1: 3.89 \tq3: 5.27 \n",
      "\n"
     ]
    },
    {
     "name": "stderr",
     "output_type": "stream",
     "text": [
      "cptac warning: In joining the somatic_mutation table, no mutations were found for the following samples, so they were filled with Wildtype_Tumor or Wildtype_Normal: 20 samples for the PTEN gene (C:\\Users\\brittany henderson\\Anaconda3\\envs\\Research\\lib\\site-packages\\ipykernel_launcher.py, line 57)\n",
      "C:\\Users\\brittany henderson\\Anaconda3\\envs\\Research\\lib\\site-packages\\ipykernel_launcher.py:73: SettingWithCopyWarning: \n",
      "A value is trying to be set on a copy of a slice from a DataFrame.\n",
      "Try using .loc[row_indexer,col_indexer] = value instead\n",
      "\n",
      "See the caveats in the documentation: https://pandas.pydata.org/pandas-docs/stable/user_guide/indexing.html#returning-a-view-versus-a-copy\n",
      "C:\\Users\\brittany henderson\\Anaconda3\\envs\\Research\\lib\\site-packages\\ipykernel_launcher.py:36: SettingWithCopyWarning: \n",
      "A value is trying to be set on a copy of a slice from a DataFrame.\n",
      "Try using .loc[row_indexer,col_indexer] = value instead\n",
      "\n",
      "See the caveats in the documentation: https://pandas.pydata.org/pandas-docs/stable/user_guide/indexing.html#returning-a-view-versus-a-copy\n",
      "cptac warning: In joining the somatic_mutation table, no mutations were found for the following samples, so they were filled with Wildtype_Tumor or Wildtype_Normal: 100 samples for the PTEN gene (C:\\Users\\brittany henderson\\Anaconda3\\envs\\Research\\lib\\site-packages\\cptac\\dataset.py, line 313)\n",
      "cptac warning: CNV data was not found for the following samples, so CNV data columns were filled with NaN for these samples: 05CO045 (C:\\Users\\brittany henderson\\Anaconda3\\envs\\Research\\lib\\site-packages\\cptac\\dataset.py, line 313)\n",
      "C:\\Users\\brittany henderson\\Anaconda3\\envs\\Research\\lib\\site-packages\\numpy\\core\\_asarray.py:83: VisibleDeprecationWarning: Creating an ndarray from ragged nested sequences (which is a list-or-tuple of lists-or-tuples-or ndarrays with different lengths or shapes) is deprecated. If you meant to do this, you must specify 'dtype=object' when creating the ndarray\n",
      "  return array(a, dtype, copy=False, order=order)\n",
      "cptac warning: In joining the somatic_mutation table, no mutations were found for the following samples, so they were filled with Wildtype_Tumor or Wildtype_Normal: 101 samples for the PTEN gene (C:\\Users\\brittany henderson\\Anaconda3\\envs\\Research\\lib\\site-packages\\ipykernel_launcher.py, line 16)\n",
      "cptac warning: proteomics data was not found for the following samples, so proteomics data columns were filled with NaN for these samples: 01CO001, 05CO005, 05CO007, 05CO014, 05CO055, 11CO059, 11CO060, 14CO002, 16CO012, 24CO005 (C:\\Users\\brittany henderson\\Anaconda3\\envs\\Research\\lib\\site-packages\\ipykernel_launcher.py, line 16)\n"
     ]
    },
    {
     "name": "stdout",
     "output_type": "stream",
     "text": [
      "Incorrectly Formatted Dataframe!\n",
      "\tNOT enough data! \n",
      "\n",
      "\n",
      "CO_25-5p \n",
      "q1: 3.8924 \tq3: 5.1389 \n",
      "\n",
      "Incorrectly Formatted Dataframe!\n"
     ]
    },
    {
     "name": "stderr",
     "output_type": "stream",
     "text": [
      "cptac warning: Due to dropping the specified levels, dataframe now has 400 duplicated column headers. (C:\\Users\\brittany henderson\\Anaconda3\\envs\\Research\\lib\\site-packages\\ipykernel_launcher.py, line 18)\n",
      "C:\\Users\\brittany henderson\\Anaconda3\\envs\\Research\\lib\\site-packages\\ipykernel_launcher.py:36: SettingWithCopyWarning: \n",
      "A value is trying to be set on a copy of a slice from a DataFrame.\n",
      "Try using .loc[row_indexer,col_indexer] = value instead\n",
      "\n",
      "See the caveats in the documentation: https://pandas.pydata.org/pandas-docs/stable/user_guide/indexing.html#returning-a-view-versus-a-copy\n",
      "cptac warning: In joining the somatic_mutation table, no mutations were found for the following samples, so they were filled with Wildtype_Tumor or Wildtype_Normal: 72 samples for the PTEN gene (C:\\Users\\brittany henderson\\Anaconda3\\envs\\Research\\lib\\site-packages\\cptac\\dataset.py, line 313)\n",
      "cptac warning: CNV data was not found for the following samples, so CNV data columns were filled with NaN for these samples: C3L-01834 (C:\\Users\\brittany henderson\\Anaconda3\\envs\\Research\\lib\\site-packages\\cptac\\dataset.py, line 313)\n",
      "C:\\Users\\brittany henderson\\Anaconda3\\envs\\Research\\lib\\site-packages\\numpy\\core\\_asarray.py:83: VisibleDeprecationWarning: Creating an ndarray from ragged nested sequences (which is a list-or-tuple of lists-or-tuples-or ndarrays with different lengths or shapes) is deprecated. If you meant to do this, you must specify 'dtype=object' when creating the ndarray\n",
      "  return array(a, dtype, copy=False, order=order)\n",
      "cptac warning: In joining the somatic_mutation table, no mutations were found for the following samples, so they were filled with Wildtype_Tumor or Wildtype_Normal: 72 samples for the PTEN gene (C:\\Users\\brittany henderson\\Anaconda3\\envs\\Research\\lib\\site-packages\\ipykernel_launcher.py, line 16)\n",
      "C:\\Users\\brittany henderson\\Anaconda3\\envs\\Research\\lib\\site-packages\\ipykernel_launcher.py:36: SettingWithCopyWarning: \n",
      "A value is trying to be set on a copy of a slice from a DataFrame.\n",
      "Try using .loc[row_indexer,col_indexer] = value instead\n",
      "\n",
      "See the caveats in the documentation: https://pandas.pydata.org/pandas-docs/stable/user_guide/indexing.html#returning-a-view-versus-a-copy\n"
     ]
    },
    {
     "name": "stdout",
     "output_type": "stream",
     "text": [
      "GBM_93-3p \n",
      "q1: 6.026951986515526 \tq3: 15.752824962835156 \n",
      "\n",
      "Incorrectly Formatted Dataframe!\n",
      "\tNOT enough data! \n",
      "\n",
      "\n",
      "HNSCC_93-3p \n",
      "q1: 4.96624587322494 \tq3: 5.97842446544086 \n",
      "\n"
     ]
    },
    {
     "name": "stderr",
     "output_type": "stream",
     "text": [
      "cptac warning: In joining the somatic_mutation table, no mutations were found for the following samples, so they were filled with Wildtype_Tumor or Wildtype_Normal: 109 samples for the PTEN gene (C:\\Users\\brittany henderson\\Anaconda3\\envs\\Research\\lib\\site-packages\\cptac\\dataset.py, line 313)\n",
      "cptac warning: CNV data was not found for the following samples, so CNV data columns were filled with NaN for these samples: C3L-02617, C3N-02727 (C:\\Users\\brittany henderson\\Anaconda3\\envs\\Research\\lib\\site-packages\\cptac\\dataset.py, line 313)\n",
      "C:\\Users\\brittany henderson\\Anaconda3\\envs\\Research\\lib\\site-packages\\numpy\\core\\_asarray.py:83: VisibleDeprecationWarning: Creating an ndarray from ragged nested sequences (which is a list-or-tuple of lists-or-tuples-or ndarrays with different lengths or shapes) is deprecated. If you meant to do this, you must specify 'dtype=object' when creating the ndarray\n",
      "  return array(a, dtype, copy=False, order=order)\n",
      "cptac warning: In joining the somatic_mutation table, no mutations were found for the following samples, so they were filled with Wildtype_Tumor or Wildtype_Normal: 107 samples for the PTEN gene (C:\\Users\\brittany henderson\\Anaconda3\\envs\\Research\\lib\\site-packages\\ipykernel_launcher.py, line 16)\n",
      "cptac warning: Due to dropping the specified levels, dataframe now has 297 duplicated column headers. (C:\\Users\\brittany henderson\\Anaconda3\\envs\\Research\\lib\\site-packages\\ipykernel_launcher.py, line 18)\n",
      "C:\\Users\\brittany henderson\\Anaconda3\\envs\\Research\\lib\\site-packages\\ipykernel_launcher.py:36: SettingWithCopyWarning: \n",
      "A value is trying to be set on a copy of a slice from a DataFrame.\n",
      "Try using .loc[row_indexer,col_indexer] = value instead\n",
      "\n",
      "See the caveats in the documentation: https://pandas.pydata.org/pandas-docs/stable/user_guide/indexing.html#returning-a-view-versus-a-copy\n",
      "cptac warning: In joining the somatic_mutation table, no mutations were found for the following samples, so they were filled with Wildtype_Tumor or Wildtype_Normal: 96 samples for the PTEN gene (C:\\Users\\brittany henderson\\Anaconda3\\envs\\Research\\lib\\site-packages\\cptac\\dataset.py, line 313)\n",
      "C:\\Users\\brittany henderson\\Anaconda3\\envs\\Research\\lib\\site-packages\\numpy\\core\\_asarray.py:83: VisibleDeprecationWarning: Creating an ndarray from ragged nested sequences (which is a list-or-tuple of lists-or-tuples-or ndarrays with different lengths or shapes) is deprecated. If you meant to do this, you must specify 'dtype=object' when creating the ndarray\n",
      "  return array(a, dtype, copy=False, order=order)\n"
     ]
    },
    {
     "name": "stdout",
     "output_type": "stream",
     "text": [
      "Incorrectly Formatted Dataframe!\n",
      "LSCC_93-3p \n",
      "q1: 2.6989 \tq3: 4.1227 \n",
      "\n"
     ]
    },
    {
     "name": "stderr",
     "output_type": "stream",
     "text": [
      "cptac warning: In joining the somatic_mutation table, no mutations were found for the following samples, so they were filled with Wildtype_Tumor or Wildtype_Normal: 96 samples for the PTEN gene (C:\\Users\\brittany henderson\\Anaconda3\\envs\\Research\\lib\\site-packages\\ipykernel_launcher.py, line 16)\n",
      "C:\\Users\\brittany henderson\\Anaconda3\\envs\\Research\\lib\\site-packages\\ipykernel_launcher.py:36: SettingWithCopyWarning: \n",
      "A value is trying to be set on a copy of a slice from a DataFrame.\n",
      "Try using .loc[row_indexer,col_indexer] = value instead\n",
      "\n",
      "See the caveats in the documentation: https://pandas.pydata.org/pandas-docs/stable/user_guide/indexing.html#returning-a-view-versus-a-copy\n",
      "cptac warning: In joining the somatic_mutation table, no mutations were found for the following samples, so they were filled with Wildtype_Tumor or Wildtype_Normal: 20 samples for the PTEN gene (C:\\Users\\brittany henderson\\Anaconda3\\envs\\Research\\lib\\site-packages\\cptac\\dataset.py, line 313)\n",
      "C:\\Users\\brittany henderson\\Anaconda3\\envs\\Research\\lib\\site-packages\\numpy\\core\\_asarray.py:83: VisibleDeprecationWarning: Creating an ndarray from ragged nested sequences (which is a list-or-tuple of lists-or-tuples-or ndarrays with different lengths or shapes) is deprecated. If you meant to do this, you must specify 'dtype=object' when creating the ndarray\n",
      "  return array(a, dtype, copy=False, order=order)\n"
     ]
    },
    {
     "name": "stdout",
     "output_type": "stream",
     "text": [
      "EC_93-3p \n",
      "q1: 5.325 \tq3: 6.23 \n",
      "\n"
     ]
    },
    {
     "name": "stderr",
     "output_type": "stream",
     "text": [
      "cptac warning: In joining the somatic_mutation table, no mutations were found for the following samples, so they were filled with Wildtype_Tumor or Wildtype_Normal: 20 samples for the PTEN gene (C:\\Users\\brittany henderson\\Anaconda3\\envs\\Research\\lib\\site-packages\\ipykernel_launcher.py, line 57)\n",
      "C:\\Users\\brittany henderson\\Anaconda3\\envs\\Research\\lib\\site-packages\\ipykernel_launcher.py:73: SettingWithCopyWarning: \n",
      "A value is trying to be set on a copy of a slice from a DataFrame.\n",
      "Try using .loc[row_indexer,col_indexer] = value instead\n",
      "\n",
      "See the caveats in the documentation: https://pandas.pydata.org/pandas-docs/stable/user_guide/indexing.html#returning-a-view-versus-a-copy\n",
      "C:\\Users\\brittany henderson\\Anaconda3\\envs\\Research\\lib\\site-packages\\ipykernel_launcher.py:36: SettingWithCopyWarning: \n",
      "A value is trying to be set on a copy of a slice from a DataFrame.\n",
      "Try using .loc[row_indexer,col_indexer] = value instead\n",
      "\n",
      "See the caveats in the documentation: https://pandas.pydata.org/pandas-docs/stable/user_guide/indexing.html#returning-a-view-versus-a-copy\n",
      "cptac warning: In joining the somatic_mutation table, no mutations were found for the following samples, so they were filled with Wildtype_Tumor or Wildtype_Normal: 100 samples for the PTEN gene (C:\\Users\\brittany henderson\\Anaconda3\\envs\\Research\\lib\\site-packages\\cptac\\dataset.py, line 313)\n",
      "cptac warning: CNV data was not found for the following samples, so CNV data columns were filled with NaN for these samples: 05CO045 (C:\\Users\\brittany henderson\\Anaconda3\\envs\\Research\\lib\\site-packages\\cptac\\dataset.py, line 313)\n",
      "C:\\Users\\brittany henderson\\Anaconda3\\envs\\Research\\lib\\site-packages\\numpy\\core\\_asarray.py:83: VisibleDeprecationWarning: Creating an ndarray from ragged nested sequences (which is a list-or-tuple of lists-or-tuples-or ndarrays with different lengths or shapes) is deprecated. If you meant to do this, you must specify 'dtype=object' when creating the ndarray\n",
      "  return array(a, dtype, copy=False, order=order)\n",
      "cptac warning: In joining the somatic_mutation table, no mutations were found for the following samples, so they were filled with Wildtype_Tumor or Wildtype_Normal: 101 samples for the PTEN gene (C:\\Users\\brittany henderson\\Anaconda3\\envs\\Research\\lib\\site-packages\\ipykernel_launcher.py, line 16)\n",
      "cptac warning: proteomics data was not found for the following samples, so proteomics data columns were filled with NaN for these samples: 01CO001, 05CO005, 05CO007, 05CO014, 05CO055, 11CO059, 11CO060, 14CO002, 16CO012, 24CO005 (C:\\Users\\brittany henderson\\Anaconda3\\envs\\Research\\lib\\site-packages\\ipykernel_launcher.py, line 16)\n"
     ]
    },
    {
     "name": "stdout",
     "output_type": "stream",
     "text": [
      "CO_93-3p \n",
      "q1: 4.0696 \tq3: 4.9313 \n",
      "\n",
      "Incorrectly Formatted Dataframe!\n"
     ]
    },
    {
     "name": "stderr",
     "output_type": "stream",
     "text": [
      "cptac warning: Due to dropping the specified levels, dataframe now has 400 duplicated column headers. (C:\\Users\\brittany henderson\\Anaconda3\\envs\\Research\\lib\\site-packages\\ipykernel_launcher.py, line 18)\n",
      "C:\\Users\\brittany henderson\\Anaconda3\\envs\\Research\\lib\\site-packages\\ipykernel_launcher.py:36: SettingWithCopyWarning: \n",
      "A value is trying to be set on a copy of a slice from a DataFrame.\n",
      "Try using .loc[row_indexer,col_indexer] = value instead\n",
      "\n",
      "See the caveats in the documentation: https://pandas.pydata.org/pandas-docs/stable/user_guide/indexing.html#returning-a-view-versus-a-copy\n",
      "cptac warning: In joining the somatic_mutation table, no mutations were found for the following samples, so they were filled with Wildtype_Tumor or Wildtype_Normal: 72 samples for the PTEN gene (C:\\Users\\brittany henderson\\Anaconda3\\envs\\Research\\lib\\site-packages\\cptac\\dataset.py, line 313)\n",
      "cptac warning: CNV data was not found for the following samples, so CNV data columns were filled with NaN for these samples: C3L-01834 (C:\\Users\\brittany henderson\\Anaconda3\\envs\\Research\\lib\\site-packages\\cptac\\dataset.py, line 313)\n",
      "C:\\Users\\brittany henderson\\Anaconda3\\envs\\Research\\lib\\site-packages\\numpy\\core\\_asarray.py:83: VisibleDeprecationWarning: Creating an ndarray from ragged nested sequences (which is a list-or-tuple of lists-or-tuples-or ndarrays with different lengths or shapes) is deprecated. If you meant to do this, you must specify 'dtype=object' when creating the ndarray\n",
      "  return array(a, dtype, copy=False, order=order)\n",
      "cptac warning: In joining the somatic_mutation table, no mutations were found for the following samples, so they were filled with Wildtype_Tumor or Wildtype_Normal: 72 samples for the PTEN gene (C:\\Users\\brittany henderson\\Anaconda3\\envs\\Research\\lib\\site-packages\\ipykernel_launcher.py, line 16)\n",
      "C:\\Users\\brittany henderson\\Anaconda3\\envs\\Research\\lib\\site-packages\\ipykernel_launcher.py:36: SettingWithCopyWarning: \n",
      "A value is trying to be set on a copy of a slice from a DataFrame.\n",
      "Try using .loc[row_indexer,col_indexer] = value instead\n",
      "\n",
      "See the caveats in the documentation: https://pandas.pydata.org/pandas-docs/stable/user_guide/indexing.html#returning-a-view-versus-a-copy\n",
      "cptac warning: In joining the somatic_mutation table, no mutations were found for the following samples, so they were filled with Wildtype_Tumor or Wildtype_Normal: 109 samples for the PTEN gene (C:\\Users\\brittany henderson\\Anaconda3\\envs\\Research\\lib\\site-packages\\cptac\\dataset.py, line 313)"
     ]
    },
    {
     "name": "stdout",
     "output_type": "stream",
     "text": [
      "GBM_93-5p \n",
      "q1: 3713.764878292884 \tq3: 6616.05961417926 \n",
      "\n",
      "Incorrectly Formatted Dataframe!\n",
      "\tNOT enough data! \n",
      "\n",
      "\n",
      "HNSCC_93-5p \n",
      "q1: 11.4417874257584 \tq3: 12.319477377839402 \n",
      "\n"
     ]
    },
    {
     "name": "stderr",
     "output_type": "stream",
     "text": [
      "\n",
      "cptac warning: CNV data was not found for the following samples, so CNV data columns were filled with NaN for these samples: C3L-02617, C3N-02727 (C:\\Users\\brittany henderson\\Anaconda3\\envs\\Research\\lib\\site-packages\\cptac\\dataset.py, line 313)\n",
      "C:\\Users\\brittany henderson\\Anaconda3\\envs\\Research\\lib\\site-packages\\numpy\\core\\_asarray.py:83: VisibleDeprecationWarning: Creating an ndarray from ragged nested sequences (which is a list-or-tuple of lists-or-tuples-or ndarrays with different lengths or shapes) is deprecated. If you meant to do this, you must specify 'dtype=object' when creating the ndarray\n",
      "  return array(a, dtype, copy=False, order=order)\n",
      "cptac warning: In joining the somatic_mutation table, no mutations were found for the following samples, so they were filled with Wildtype_Tumor or Wildtype_Normal: 107 samples for the PTEN gene (C:\\Users\\brittany henderson\\Anaconda3\\envs\\Research\\lib\\site-packages\\ipykernel_launcher.py, line 16)\n",
      "cptac warning: Due to dropping the specified levels, dataframe now has 297 duplicated column headers. (C:\\Users\\brittany henderson\\Anaconda3\\envs\\Research\\lib\\site-packages\\ipykernel_launcher.py, line 18)\n",
      "C:\\Users\\brittany henderson\\Anaconda3\\envs\\Research\\lib\\site-packages\\ipykernel_launcher.py:36: SettingWithCopyWarning: \n",
      "A value is trying to be set on a copy of a slice from a DataFrame.\n",
      "Try using .loc[row_indexer,col_indexer] = value instead\n",
      "\n",
      "See the caveats in the documentation: https://pandas.pydata.org/pandas-docs/stable/user_guide/indexing.html#returning-a-view-versus-a-copy\n",
      "cptac warning: In joining the somatic_mutation table, no mutations were found for the following samples, so they were filled with Wildtype_Tumor or Wildtype_Normal: 96 samples for the PTEN gene (C:\\Users\\brittany henderson\\Anaconda3\\envs\\Research\\lib\\site-packages\\cptac\\dataset.py, line 313)\n"
     ]
    },
    {
     "name": "stdout",
     "output_type": "stream",
     "text": [
      "Incorrectly Formatted Dataframe!\n",
      "LSCC_93-5p \n",
      "q1: 12.1553 \tq3: 13.1487 \n",
      "\n"
     ]
    },
    {
     "name": "stderr",
     "output_type": "stream",
     "text": [
      "C:\\Users\\brittany henderson\\Anaconda3\\envs\\Research\\lib\\site-packages\\numpy\\core\\_asarray.py:83: VisibleDeprecationWarning: Creating an ndarray from ragged nested sequences (which is a list-or-tuple of lists-or-tuples-or ndarrays with different lengths or shapes) is deprecated. If you meant to do this, you must specify 'dtype=object' when creating the ndarray\n",
      "  return array(a, dtype, copy=False, order=order)\n",
      "cptac warning: In joining the somatic_mutation table, no mutations were found for the following samples, so they were filled with Wildtype_Tumor or Wildtype_Normal: 96 samples for the PTEN gene (C:\\Users\\brittany henderson\\Anaconda3\\envs\\Research\\lib\\site-packages\\ipykernel_launcher.py, line 16)\n",
      "C:\\Users\\brittany henderson\\Anaconda3\\envs\\Research\\lib\\site-packages\\ipykernel_launcher.py:36: SettingWithCopyWarning: \n",
      "A value is trying to be set on a copy of a slice from a DataFrame.\n",
      "Try using .loc[row_indexer,col_indexer] = value instead\n",
      "\n",
      "See the caveats in the documentation: https://pandas.pydata.org/pandas-docs/stable/user_guide/indexing.html#returning-a-view-versus-a-copy\n"
     ]
    },
    {
     "name": "stdout",
     "output_type": "stream",
     "text": [
      "EC_93-5p \n",
      "q1: 11.77 \tq3: 12.75 \n",
      "\n"
     ]
    },
    {
     "name": "stderr",
     "output_type": "stream",
     "text": [
      "cptac warning: In joining the somatic_mutation table, no mutations were found for the following samples, so they were filled with Wildtype_Tumor or Wildtype_Normal: 20 samples for the PTEN gene (C:\\Users\\brittany henderson\\Anaconda3\\envs\\Research\\lib\\site-packages\\cptac\\dataset.py, line 313)\n",
      "C:\\Users\\brittany henderson\\Anaconda3\\envs\\Research\\lib\\site-packages\\numpy\\core\\_asarray.py:83: VisibleDeprecationWarning: Creating an ndarray from ragged nested sequences (which is a list-or-tuple of lists-or-tuples-or ndarrays with different lengths or shapes) is deprecated. If you meant to do this, you must specify 'dtype=object' when creating the ndarray\n",
      "  return array(a, dtype, copy=False, order=order)\n",
      "cptac warning: In joining the somatic_mutation table, no mutations were found for the following samples, so they were filled with Wildtype_Tumor or Wildtype_Normal: 20 samples for the PTEN gene (C:\\Users\\brittany henderson\\Anaconda3\\envs\\Research\\lib\\site-packages\\ipykernel_launcher.py, line 57)\n",
      "C:\\Users\\brittany henderson\\Anaconda3\\envs\\Research\\lib\\site-packages\\ipykernel_launcher.py:73: SettingWithCopyWarning: \n",
      "A value is trying to be set on a copy of a slice from a DataFrame.\n",
      "Try using .loc[row_indexer,col_indexer] = value instead\n",
      "\n",
      "See the caveats in the documentation: https://pandas.pydata.org/pandas-docs/stable/user_guide/indexing.html#returning-a-view-versus-a-copy\n",
      "C:\\Users\\brittany henderson\\Anaconda3\\envs\\Research\\lib\\site-packages\\ipykernel_launcher.py:36: SettingWithCopyWarning: \n",
      "A value is trying to be set on a copy of a slice from a DataFrame.\n",
      "Try using .loc[row_indexer,col_indexer] = value instead\n",
      "\n",
      "See the caveats in the documentation: https://pandas.pydata.org/pandas-docs/stable/user_guide/indexing.html#returning-a-view-versus-a-copy\n",
      "cptac warning: In joining the somatic_mutation table, no mutations were found for the following samples, so they were filled with Wildtype_Tumor or Wildtype_Normal: 100 samples for the PTEN gene (C:\\Users\\brittany henderson\\Anaconda3\\envs\\Research\\lib\\site-packages\\cptac\\dataset.py, line 313)\n"
     ]
    },
    {
     "name": "stdout",
     "output_type": "stream",
     "text": [
      "CO_93-5p \n",
      "q1: 10.8829 \tq3: 11.7317 \n",
      "\n"
     ]
    },
    {
     "name": "stderr",
     "output_type": "stream",
     "text": [
      "cptac warning: CNV data was not found for the following samples, so CNV data columns were filled with NaN for these samples: 05CO045 (C:\\Users\\brittany henderson\\Anaconda3\\envs\\Research\\lib\\site-packages\\cptac\\dataset.py, line 313)\n",
      "C:\\Users\\brittany henderson\\Anaconda3\\envs\\Research\\lib\\site-packages\\numpy\\core\\_asarray.py:83: VisibleDeprecationWarning: Creating an ndarray from ragged nested sequences (which is a list-or-tuple of lists-or-tuples-or ndarrays with different lengths or shapes) is deprecated. If you meant to do this, you must specify 'dtype=object' when creating the ndarray\n",
      "  return array(a, dtype, copy=False, order=order)\n",
      "cptac warning: In joining the somatic_mutation table, no mutations were found for the following samples, so they were filled with Wildtype_Tumor or Wildtype_Normal: 101 samples for the PTEN gene (C:\\Users\\brittany henderson\\Anaconda3\\envs\\Research\\lib\\site-packages\\ipykernel_launcher.py, line 16)\n",
      "cptac warning: proteomics data was not found for the following samples, so proteomics data columns were filled with NaN for these samples: 01CO001, 05CO005, 05CO007, 05CO014, 05CO055, 11CO059, 11CO060, 14CO002, 16CO012, 24CO005 (C:\\Users\\brittany henderson\\Anaconda3\\envs\\Research\\lib\\site-packages\\ipykernel_launcher.py, line 16)\n"
     ]
    }
   ],
   "source": [
    "cancer_objects = {'GBM':g, 'HNSCC':h, 'LSCC':ls, 'EC': en, 'CO':col} # miRNA not in Brca and Ov # Luad different labels\n",
    "\n",
    "miRNA_list = ['hsa-miR-25-3p', 'hsa-miR-25-5p', 'hsa-miR-93-3p', 'hsa-miR-93-5p']\n",
    "\n",
    "#mirna_dfs = {}\n",
    "dfs = {}\n",
    "quartiles = {}\n",
    "all_mut_pval_df = pd.DataFrame()\n",
    "all_wt_pval_df = pd.DataFrame()\n",
    "all_results = pd.DataFrame()\n",
    "\n",
    "for mirna in miRNA_list:\n",
    "    mut_pval_df = pd.DataFrame()\n",
    "    wt_pval_df = pd.DataFrame()\n",
    "    for cancer in cancer_objects:\n",
    "        df = cancer_objects[cancer].get_miRNA(tissue_type = 'tumor')\n",
    "        if isinstance(df.keys(), pd.core.indexes.multi.MultiIndex):\n",
    "            df = u.reduce_multiindex(df, levels_to_drop = 1)\n",
    "        \n",
    "        # check if miRNA is in dataframe\n",
    "        if df[df.columns[df.columns.isin([mirna])]].empty == False: \n",
    "            mirna_df = df[[mirna]]\n",
    "        else:\n",
    "            continue\n",
    "\n",
    "        # Find the median, quartile 1 (median of lower half) and q3 (median of upper half)\n",
    "        median = float(mirna_df.median())\n",
    "        lower_half = mirna_df.loc[mirna_df[mirna] <= median]\n",
    "        upper_half = mirna_df.loc[mirna_df[mirna] >= median]\n",
    "        q3 = float(upper_half.median())\n",
    "        q1 = float(lower_half.median())\n",
    "        quartiles[cancer+'_'+mirna[8:]] = (q1,q3)\n",
    "        print(cancer+'_'+mirna[8:], '\\nq1:', q1, '\\tq3:', q3, '\\n')\n",
    "\n",
    "        # add miRNA_status column\n",
    "        mirna_df['miRNA_status'] = mirna_df.apply(status, args=(q1,q3), axis = 1)\n",
    "        #mirna_dfs[cancer+'_'+mirna[8:]] = mirna_df\n",
    "\n",
    "        # Get pten proteomics for tumors with mutation\n",
    "        wt_del = all_prot_format_df(cancer_objects[cancer], all_prot = ['PTEN'], gene_in = 'PTEN')\n",
    "        pten = wt_del[['PTEN_proteomics','Mutation']]\n",
    "\n",
    "        # keep miRNA_status and PTEN_proteomics\n",
    "        both = pten.join(mirna_df[['miRNA_status']], how = 'outer')\n",
    "        both = both.loc[both['miRNA_status'] != 'med'].dropna()\n",
    "        # Combine miRNA status and PTEN mutation status\n",
    "        both['miRNA_pten'] = both['miRNA_status'] + '_miRNA_PTEN_' + both['Mutation']\n",
    "        both = both.replace(r'Deletion', 'del', regex=True)\n",
    "        both = both.replace(r'Wildtype_Tumor', 'wt', regex=True)\n",
    "        both = both.replace(r'Truncation', 'trunc', regex=True)\n",
    "        \n",
    "        # Put df into dfs dictionary for reference later\n",
    "        dfs[cancer+'_'+mirna[8:]] = both\n",
    "        \n",
    "        # Get dfs with binary miRNA_pten for ttest\n",
    "        pten_mut = ['high_miRNA_PTEN_del', 'low_miRNA_PTEN_del', 'high_miRNA_PTEN_trunc', 'low_miRNA_PTEN_trunc']\n",
    "        pten_wt = ['high_miRNA_PTEN_wt', 'low_miRNA_PTEN_wt']\n",
    "        pten_mut_df = both[both['miRNA_pten'].isin(pten_mut)]\n",
    "        pten_wt_df = both[both['miRNA_pten'].isin(pten_wt)]\n",
    "        \n",
    "        \n",
    "        # Run T-tests \n",
    "        cols = ['PTEN_proteomics']\n",
    "        pval_pten_mut = u.wrap_ttest(pten_mut_df, 'miRNA_pten', cols, return_all = True, correction_method = 'fdr_bh', mincount = 3)\n",
    "        pval_pten_wt = u.wrap_ttest(pten_wt_df, 'miRNA_pten', cols, return_all = True, correction_method = 'fdr_bh', mincount = 3)\n",
    "        pvals = [pval_pten_mut, pval_pten_wt]\n",
    "        \n",
    "        # Show pancancer results \n",
    "        #print(cancer, mirna, '\\n', pten_mut_df.miRNA_pten.value_counts(), '\\n')\n",
    "        if pval_pten_mut is not None:\n",
    "            pval = pval_pten_mut.rename(columns = {'P_Value': cancer+'_P_Value'})\n",
    "            mut_pval_df = mut_pval_df.join(pval[[cancer+'_P_Value']], how ='right')\n",
    "            #print('\\tmut_enough_data', '\\n')\n",
    "            #print(pten_wt_df.miRNA_pten.value_counts())\n",
    "        if pval_pten_wt is not None:\n",
    "            pval2 = pval_pten_wt.rename(columns = {'P_Value': cancer+'_P_Value'})\n",
    "            wt_pval_df = wt_pval_df.join(pval2[[cancer+'_P_Value']], how ='right')\n",
    "            #print('\\twt_enough_data\\n\\n')\n",
    "        else:\n",
    "            print('\\tNOT enough data!', '\\n\\n')\n",
    "            continue\n",
    "        # Add mirna col\n",
    "        mut_pval_df = mut_pval_df.assign(mirna = mirna)\n",
    "        wt_pval_df = wt_pval_df.assign(mirna = mirna)\n",
    "    \n",
    "    # append dfs in one long df\n",
    "    all_mut_pval_df = all_mut_pval_df.append(mut_pval_df)\n",
    "    all_wt_pval_df = all_wt_pval_df.append(wt_pval_df)\n",
    "    \n",
    "all_mut_pval_df = all_mut_pval_df.set_index('mirna')\n",
    "all_wt_pval_df = all_wt_pval_df.set_index('mirna')"
   ]
  },
  {
   "cell_type": "markdown",
   "metadata": {},
   "source": [
    "# PTEN Deletion "
   ]
  },
  {
   "cell_type": "markdown",
   "metadata": {},
   "source": [
    "See results for pten deletions/truncations: high miRNA vs. low miRNA"
   ]
  },
  {
   "cell_type": "code",
   "execution_count": 22,
   "metadata": {},
   "outputs": [
    {
     "data": {
      "text/html": [
       "<div>\n",
       "<style scoped>\n",
       "    .dataframe tbody tr th:only-of-type {\n",
       "        vertical-align: middle;\n",
       "    }\n",
       "\n",
       "    .dataframe tbody tr th {\n",
       "        vertical-align: top;\n",
       "    }\n",
       "\n",
       "    .dataframe thead th {\n",
       "        text-align: right;\n",
       "    }\n",
       "</style>\n",
       "<table border=\"1\" class=\"dataframe\">\n",
       "  <thead>\n",
       "    <tr style=\"text-align: right;\">\n",
       "      <th></th>\n",
       "      <th>GBM_P_Value</th>\n",
       "      <th>HNSCC_P_Value</th>\n",
       "      <th>LSCC_P_Value</th>\n",
       "      <th>EC_P_Value</th>\n",
       "      <th>CO_P_Value</th>\n",
       "    </tr>\n",
       "    <tr>\n",
       "      <th>mirna</th>\n",
       "      <th></th>\n",
       "      <th></th>\n",
       "      <th></th>\n",
       "      <th></th>\n",
       "      <th></th>\n",
       "    </tr>\n",
       "  </thead>\n",
       "  <tbody>\n",
       "    <tr>\n",
       "      <th>hsa-miR-25-3p</th>\n",
       "      <td>0.253952</td>\n",
       "      <td>0.346111</td>\n",
       "      <td>0.274014</td>\n",
       "      <td>0.005414</td>\n",
       "      <td>0.245110</td>\n",
       "    </tr>\n",
       "    <tr>\n",
       "      <th>hsa-miR-25-5p</th>\n",
       "      <td>0.519733</td>\n",
       "      <td>0.529402</td>\n",
       "      <td>0.370078</td>\n",
       "      <td>0.076778</td>\n",
       "      <td>NaN</td>\n",
       "    </tr>\n",
       "    <tr>\n",
       "      <th>hsa-miR-93-3p</th>\n",
       "      <td>0.112817</td>\n",
       "      <td>NaN</td>\n",
       "      <td>0.274080</td>\n",
       "      <td>0.001486</td>\n",
       "      <td>NaN</td>\n",
       "    </tr>\n",
       "    <tr>\n",
       "      <th>hsa-miR-93-5p</th>\n",
       "      <td>0.355066</td>\n",
       "      <td>NaN</td>\n",
       "      <td>0.143176</td>\n",
       "      <td>0.000132</td>\n",
       "      <td>0.255875</td>\n",
       "    </tr>\n",
       "  </tbody>\n",
       "</table>\n",
       "</div>"
      ],
      "text/plain": [
       "               GBM_P_Value  HNSCC_P_Value  LSCC_P_Value  EC_P_Value  \\\n",
       "mirna                                                                 \n",
       "hsa-miR-25-3p     0.253952       0.346111      0.274014    0.005414   \n",
       "hsa-miR-25-5p     0.519733       0.529402      0.370078    0.076778   \n",
       "hsa-miR-93-3p     0.112817            NaN      0.274080    0.001486   \n",
       "hsa-miR-93-5p     0.355066            NaN      0.143176    0.000132   \n",
       "\n",
       "               CO_P_Value  \n",
       "mirna                      \n",
       "hsa-miR-25-3p    0.245110  \n",
       "hsa-miR-25-5p         NaN  \n",
       "hsa-miR-93-3p         NaN  \n",
       "hsa-miR-93-5p    0.255875  "
      ]
     },
     "execution_count": 22,
     "metadata": {},
     "output_type": "execute_result"
    }
   ],
   "source": [
    "all_mut_pval_df"
   ]
  },
  {
   "cell_type": "code",
   "execution_count": 23,
   "metadata": {},
   "outputs": [
    {
     "data": {
      "text/html": [
       "<div>\n",
       "<style scoped>\n",
       "    .dataframe tbody tr th:only-of-type {\n",
       "        vertical-align: middle;\n",
       "    }\n",
       "\n",
       "    .dataframe tbody tr th {\n",
       "        vertical-align: top;\n",
       "    }\n",
       "\n",
       "    .dataframe thead th {\n",
       "        text-align: right;\n",
       "    }\n",
       "</style>\n",
       "<table border=\"1\" class=\"dataframe\">\n",
       "  <thead>\n",
       "    <tr style=\"text-align: right;\">\n",
       "      <th></th>\n",
       "      <th>GBM_P_Value</th>\n",
       "      <th>HNSCC_P_Value</th>\n",
       "      <th>LSCC_P_Value</th>\n",
       "      <th>EC_P_Value</th>\n",
       "      <th>CO_P_Value</th>\n",
       "    </tr>\n",
       "    <tr>\n",
       "      <th>mirna</th>\n",
       "      <th></th>\n",
       "      <th></th>\n",
       "      <th></th>\n",
       "      <th></th>\n",
       "      <th></th>\n",
       "    </tr>\n",
       "  </thead>\n",
       "  <tbody>\n",
       "    <tr>\n",
       "      <th>hsa-miR-25-3p</th>\n",
       "      <td>ns</td>\n",
       "      <td>ns</td>\n",
       "      <td>ns</td>\n",
       "      <td>0.00541367</td>\n",
       "      <td>ns</td>\n",
       "    </tr>\n",
       "    <tr>\n",
       "      <th>hsa-miR-25-5p</th>\n",
       "      <td>ns</td>\n",
       "      <td>ns</td>\n",
       "      <td>ns</td>\n",
       "      <td>ns</td>\n",
       "      <td>NaN</td>\n",
       "    </tr>\n",
       "    <tr>\n",
       "      <th>hsa-miR-93-3p</th>\n",
       "      <td>ns</td>\n",
       "      <td>NaN</td>\n",
       "      <td>ns</td>\n",
       "      <td>0.00148615</td>\n",
       "      <td>NaN</td>\n",
       "    </tr>\n",
       "    <tr>\n",
       "      <th>hsa-miR-93-5p</th>\n",
       "      <td>ns</td>\n",
       "      <td>NaN</td>\n",
       "      <td>ns</td>\n",
       "      <td>0.000132311</td>\n",
       "      <td>ns</td>\n",
       "    </tr>\n",
       "  </tbody>\n",
       "</table>\n",
       "</div>"
      ],
      "text/plain": [
       "              GBM_P_Value HNSCC_P_Value LSCC_P_Value   EC_P_Value CO_P_Value\n",
       "mirna                                                                       \n",
       "hsa-miR-25-3p          ns            ns           ns   0.00541367         ns\n",
       "hsa-miR-25-5p          ns            ns           ns           ns        NaN\n",
       "hsa-miR-93-3p          ns           NaN           ns   0.00148615        NaN\n",
       "hsa-miR-93-5p          ns           NaN           ns  0.000132311         ns"
      ]
     },
     "execution_count": 23,
     "metadata": {},
     "output_type": "execute_result"
    }
   ],
   "source": [
    "# Keep only sig pvals\n",
    "mut_results = all_mut_pval_df.replace(np.NaN, -1) # -1 = not enough data to do test\n",
    "mut_sig = mut_results.where(mut_results < 0.05, 'ns') # replace when false\n",
    "mut_sig = mut_sig.replace(-1, 'NaN') \n",
    "mut_sig"
   ]
  },
  {
   "cell_type": "markdown",
   "metadata": {},
   "source": [
    "# PTEN Wildtype"
   ]
  },
  {
   "cell_type": "markdown",
   "metadata": {},
   "source": [
    "See results for pten wt: high miRNA vs. low miRNA"
   ]
  },
  {
   "cell_type": "code",
   "execution_count": 24,
   "metadata": {},
   "outputs": [
    {
     "data": {
      "text/html": [
       "<div>\n",
       "<style scoped>\n",
       "    .dataframe tbody tr th:only-of-type {\n",
       "        vertical-align: middle;\n",
       "    }\n",
       "\n",
       "    .dataframe tbody tr th {\n",
       "        vertical-align: top;\n",
       "    }\n",
       "\n",
       "    .dataframe thead th {\n",
       "        text-align: right;\n",
       "    }\n",
       "</style>\n",
       "<table border=\"1\" class=\"dataframe\">\n",
       "  <thead>\n",
       "    <tr style=\"text-align: right;\">\n",
       "      <th></th>\n",
       "      <th>HNSCC_P_Value</th>\n",
       "      <th>LSCC_P_Value</th>\n",
       "      <th>EC_P_Value</th>\n",
       "      <th>CO_P_Value</th>\n",
       "    </tr>\n",
       "    <tr>\n",
       "      <th>mirna</th>\n",
       "      <th></th>\n",
       "      <th></th>\n",
       "      <th></th>\n",
       "      <th></th>\n",
       "    </tr>\n",
       "  </thead>\n",
       "  <tbody>\n",
       "    <tr>\n",
       "      <th>hsa-miR-25-3p</th>\n",
       "      <td>0.432684</td>\n",
       "      <td>0.021908</td>\n",
       "      <td>0.999274</td>\n",
       "      <td>0.895724</td>\n",
       "    </tr>\n",
       "    <tr>\n",
       "      <th>hsa-miR-25-5p</th>\n",
       "      <td>0.125408</td>\n",
       "      <td>0.372408</td>\n",
       "      <td>NaN</td>\n",
       "      <td>0.978535</td>\n",
       "    </tr>\n",
       "    <tr>\n",
       "      <th>hsa-miR-93-3p</th>\n",
       "      <td>0.146312</td>\n",
       "      <td>0.000833</td>\n",
       "      <td>0.808077</td>\n",
       "      <td>0.303167</td>\n",
       "    </tr>\n",
       "    <tr>\n",
       "      <th>hsa-miR-93-5p</th>\n",
       "      <td>0.118629</td>\n",
       "      <td>0.000045</td>\n",
       "      <td>0.795755</td>\n",
       "      <td>0.770092</td>\n",
       "    </tr>\n",
       "  </tbody>\n",
       "</table>\n",
       "</div>"
      ],
      "text/plain": [
       "               HNSCC_P_Value  LSCC_P_Value  EC_P_Value  CO_P_Value\n",
       "mirna                                                             \n",
       "hsa-miR-25-3p       0.432684      0.021908    0.999274    0.895724\n",
       "hsa-miR-25-5p       0.125408      0.372408         NaN    0.978535\n",
       "hsa-miR-93-3p       0.146312      0.000833    0.808077    0.303167\n",
       "hsa-miR-93-5p       0.118629      0.000045    0.795755    0.770092"
      ]
     },
     "execution_count": 24,
     "metadata": {},
     "output_type": "execute_result"
    }
   ],
   "source": [
    "all_wt_pval_df"
   ]
  },
  {
   "cell_type": "code",
   "execution_count": 25,
   "metadata": {},
   "outputs": [
    {
     "data": {
      "text/html": [
       "<div>\n",
       "<style scoped>\n",
       "    .dataframe tbody tr th:only-of-type {\n",
       "        vertical-align: middle;\n",
       "    }\n",
       "\n",
       "    .dataframe tbody tr th {\n",
       "        vertical-align: top;\n",
       "    }\n",
       "\n",
       "    .dataframe thead th {\n",
       "        text-align: right;\n",
       "    }\n",
       "</style>\n",
       "<table border=\"1\" class=\"dataframe\">\n",
       "  <thead>\n",
       "    <tr style=\"text-align: right;\">\n",
       "      <th></th>\n",
       "      <th>HNSCC_P_Value</th>\n",
       "      <th>LSCC_P_Value</th>\n",
       "      <th>EC_P_Value</th>\n",
       "      <th>CO_P_Value</th>\n",
       "      <th>GBM_P_Value</th>\n",
       "    </tr>\n",
       "    <tr>\n",
       "      <th>mirna</th>\n",
       "      <th></th>\n",
       "      <th></th>\n",
       "      <th></th>\n",
       "      <th></th>\n",
       "      <th></th>\n",
       "    </tr>\n",
       "  </thead>\n",
       "  <tbody>\n",
       "    <tr>\n",
       "      <th>hsa-miR-25-3p</th>\n",
       "      <td>ns</td>\n",
       "      <td>0.0219083</td>\n",
       "      <td>ns</td>\n",
       "      <td>ns</td>\n",
       "      <td>NaN</td>\n",
       "    </tr>\n",
       "    <tr>\n",
       "      <th>hsa-miR-25-5p</th>\n",
       "      <td>ns</td>\n",
       "      <td>ns</td>\n",
       "      <td>NaN</td>\n",
       "      <td>ns</td>\n",
       "      <td>NaN</td>\n",
       "    </tr>\n",
       "    <tr>\n",
       "      <th>hsa-miR-93-3p</th>\n",
       "      <td>ns</td>\n",
       "      <td>0.000833141</td>\n",
       "      <td>ns</td>\n",
       "      <td>ns</td>\n",
       "      <td>NaN</td>\n",
       "    </tr>\n",
       "    <tr>\n",
       "      <th>hsa-miR-93-5p</th>\n",
       "      <td>ns</td>\n",
       "      <td>4.47259e-05</td>\n",
       "      <td>ns</td>\n",
       "      <td>ns</td>\n",
       "      <td>NaN</td>\n",
       "    </tr>\n",
       "  </tbody>\n",
       "</table>\n",
       "</div>"
      ],
      "text/plain": [
       "              HNSCC_P_Value LSCC_P_Value EC_P_Value CO_P_Value GBM_P_Value\n",
       "mirna                                                                     \n",
       "hsa-miR-25-3p            ns    0.0219083         ns         ns         NaN\n",
       "hsa-miR-25-5p            ns           ns        NaN         ns         NaN\n",
       "hsa-miR-93-3p            ns  0.000833141         ns         ns         NaN\n",
       "hsa-miR-93-5p            ns  4.47259e-05         ns         ns         NaN"
      ]
     },
     "execution_count": 25,
     "metadata": {},
     "output_type": "execute_result"
    }
   ],
   "source": [
    "# Keep only sig pvals\n",
    "wt_results = all_wt_pval_df.replace(np.NaN, -1) # replace if not enough data to do test\n",
    "wt_sig = wt_results.where(wt_results < 0.05, 'ns')\n",
    "wt_sig = wt_sig.replace(-1, 'NaN') \n",
    "wt_sig['GBM_P_Value'] = 'NaN' # Add GBM (never enough data to do test, never added to df)\n",
    "wt_sig"
   ]
  },
  {
   "cell_type": "code",
   "execution_count": 14,
   "metadata": {},
   "outputs": [],
   "source": [
    "# Check same amount of samples with high and low miRNA"
   ]
  },
  {
   "cell_type": "code",
   "execution_count": 15,
   "metadata": {},
   "outputs": [
    {
     "name": "stdout",
     "output_type": "stream",
     "text": [
      "total vals: 49\n",
      "high    25\n",
      "low     24\n",
      "Name: miRNA_status, dtype: int64\n"
     ]
    },
    {
     "data": {
      "text/plain": [
       "high_miRNA_PTEN_del    22\n",
       "low_miRNA_PTEN_del     19\n",
       "low_miRNA_PTEN_wt       5\n",
       "high_miRNA_PTEN_wt      3\n",
       "Name: miRNA_pten, dtype: int64"
      ]
     },
     "execution_count": 15,
     "metadata": {},
     "output_type": "execute_result"
    }
   ],
   "source": [
    "name = 'GBM_93-5p'\n",
    "\n",
    "#q = quartiles[name]\n",
    "#print('qartiles:', q)\n",
    "\n",
    "plot_df = dfs[name]\n",
    "plot_df = plot_df.dropna(how = 'any')\n",
    "\n",
    "print('total vals:', len(plot_df))\n",
    "print(plot_df['miRNA_status'].value_counts())\n",
    "plot_df['miRNA_pten'].value_counts()\n"
   ]
  },
  {
   "cell_type": "markdown",
   "metadata": {},
   "source": [
    "# Create boxplot of sig results"
   ]
  },
  {
   "cell_type": "code",
   "execution_count": 16,
   "metadata": {},
   "outputs": [],
   "source": [
    "# Choose an miRNA\n",
    "mirna_25_3p = 'hsa-miR-25-3p'\n",
    "mirna_25_5p = 'hsa-miR-25-5p'\n",
    "mirna_93_3p = 'hsa-miR-93-3p'\n",
    "mirna_93_5p = 'hsa-miR-93-5p'\n",
    "\n",
    "mirna = mirna_93_3p # replace with miRNA you want to look at\n",
    "mut_mirna_pval = mut_sig.loc[[mirna] ,:]\n",
    "wt_mirna_pval = wt_sig.loc[[mirna] ,:]"
   ]
  },
  {
   "cell_type": "code",
   "execution_count": 17,
   "metadata": {},
   "outputs": [],
   "source": [
    "# Format df for boxplot\n",
    "cancer_list = ['GBM','HNSCC','LSCC','EC','CO']\n",
    "mirna_plot_df = pd.DataFrame()\n",
    "\n",
    "for cancer in cancer_list:\n",
    "    df = dfs[cancer+'_'+mirna[8:]].assign(cancer = cancer+'_'+mirna[4:])\n",
    "    mirna_plot_df = mirna_plot_df.append(df)\n",
    "\n",
    "most_cancers_df = mirna_plot_df.loc[mirna_plot_df['cancer'] != 'HNSCC_'+mirna[4:]]\n",
    "hnscc_df = mirna_plot_df.loc[mirna_plot_df['cancer'] == 'HNSCC_'+mirna[4:]]"
   ]
  },
  {
   "cell_type": "code",
   "execution_count": 18,
   "metadata": {},
   "outputs": [
    {
     "name": "stdout",
     "output_type": "stream",
     "text": [
      "PTEN del/trunc:\n",
      "               GBM_P_Value HNSCC_P_Value LSCC_P_Value  EC_P_Value CO_P_Value\n",
      "mirna                                                                      \n",
      "hsa-miR-93-3p          ns           NaN           ns  0.00148615        NaN\n",
      "\n",
      "PTEN wt:\n",
      "               HNSCC_P_Value LSCC_P_Value EC_P_Value CO_P_Value GBM_P_Value\n",
      "mirna                                                                     \n",
      "hsa-miR-93-3p            ns  0.000833141         ns         ns         NaN\n"
     ]
    }
   ],
   "source": [
    "print('PTEN del/trunc:\\n', mut_mirna_pval)\n",
    "print('\\nPTEN wt:\\n', wt_mirna_pval)"
   ]
  },
  {
   "cell_type": "code",
   "execution_count": 19,
   "metadata": {},
   "outputs": [
    {
     "data": {
      "text/plain": [
       "{'GBM': 'ns', 'HNSCC': 'ns', 'LSCC': 'pval = 0.00083', 'EC': 'ns', 'CO': 'ns'}"
      ]
     },
     "execution_count": 19,
     "metadata": {},
     "output_type": "execute_result"
    }
   ],
   "source": [
    "# Get pval annotation symbols\n",
    "mut_symbols = {}\n",
    "wt_symbols = {}\n",
    "for c in cancer_list:\n",
    "    # Get symbols for mut tests\n",
    "    if isinstance(mut_mirna_pval[c+'_P_Value'][0], float):\n",
    "        if mut_mirna_pval[c+'_P_Value'][0] < 0.05:\n",
    "            mut_symbols[c] = \"pval = {:.5f}\".format(float(mut_mirna_pval[c+'_P_Value']))\n",
    "    elif mut_mirna_pval[c+'_P_Value'][0] == 'NA':\n",
    "        mut_symbols[c] = 'NA'\n",
    "    else:\n",
    "        mut_symbols[c] = 'ns'\n",
    "    # Get symbols for wt tests\n",
    "    if isinstance(wt_mirna_pval[c+'_P_Value'][0], float):\n",
    "        if wt_mirna_pval[c+'_P_Value'][0] < 0.05:\n",
    "            wt_symbols[c] = \"pval = {:.5f}\".format(float(wt_mirna_pval[c+'_P_Value']))\n",
    "    elif wt_mirna_pval[c+'_P_Value'][0] == 'NA':\n",
    "        wt_symbols[c] = 'NA'\n",
    "    else:\n",
    "        wt_symbols[c] = 'ns'\n",
    "        \n",
    "wt_symbols"
   ]
  },
  {
   "cell_type": "code",
   "execution_count": 20,
   "metadata": {},
   "outputs": [
    {
     "data": {
      "image/png": "[encoded data removed]",
      "text/plain": [
       "<Figure size 1080x792 with 1 Axes>"
      ]
     },
     "metadata": {},
     "output_type": "display_data"
    }
   ],
   "source": [
    "# Combined Plot \n",
    "gene = 'PTEN'\n",
    "plt.rcParams['figure.figsize']=(15,11) #size of plot\n",
    "sns.set(font_scale = 1.5)\n",
    "\n",
    "boxplot = sns.boxplot(x='cancer', y=gene+'_proteomics', data = most_cancers_df, \n",
    "                      hue='miRNA_pten', hue_order = [\"low_miRNA_PTEN_wt\", \"high_miRNA_PTEN_wt\",\n",
    "                      \"low_miRNA_PTEN_del\", \"high_miRNA_PTEN_del\", \"low_miRNA_PTEN_trunc\", \n",
    "                      \"high_miRNA_PTEN_trunc\"], showfliers = False)    \n",
    "boxplot.set_title(mirna+' effect on PTEN protein abundance\\n')\n",
    "boxplot = sns.stripplot(x='cancer', y=gene+'_proteomics', data = most_cancers_df, jitter = True, \n",
    "                           color = \".3\", hue='miRNA_pten', hue_order = [\"low_miRNA_PTEN_wt\", \"high_miRNA_PTEN_wt\",\n",
    "                            \"low_miRNA_PTEN_del\", \"high_miRNA_PTEN_del\", \"low_miRNA_PTEN_trunc\", \"high_miRNA_PTEN_trunc\"], \n",
    "                            dodge = True)\n",
    "boxplot.set(xlabel = \"\\nmiRNA Abundance \", ylabel = 'PTEN Proteomics')\n",
    "\n",
    "# format legend\n",
    "handles, labels = boxplot.get_legend_handles_labels()\n",
    "plt.legend(handles[0:4], labels[0:4])\n",
    "\n",
    "format_pval_annotation(wt_symbols['GBM'], -0.35, -0.2, 1.2) \n",
    "format_pval_annotation(mut_symbols['GBM'], -0.05, 0.1, 0.7)  \n",
    "\n",
    "format_pval_annotation(wt_symbols['LSCC'], .65, .8, 2.5)\n",
    "format_pval_annotation(mut_symbols['LSCC'], .95, 1.1, 1.6) \n",
    "\n",
    "format_pval_annotation(wt_symbols['EC'], 1.65, 1.8, 1)\n",
    "format_pval_annotation(mut_symbols['EC'], 2.2, 2.35, 1)\n",
    "\n",
    "format_pval_annotation(wt_symbols['CO'], 2.65, 2.8, 0.8)\n",
    "format_pval_annotation(mut_symbols['CO'], 2.95, 3.1, 0.8)\n"
   ]
  },
  {
   "cell_type": "code",
   "execution_count": 21,
   "metadata": {},
   "outputs": [
    {
     "data": {
      "image/png": "[encoded data removed]",
      "text/plain": [
       "<Figure size 216x792 with 1 Axes>"
      ]
     },
     "metadata": {},
     "output_type": "display_data"
    }
   ],
   "source": [
    "# Hnscc\n",
    "plt.rcParams['figure.figsize']=(3,11) #size of plot\n",
    "sns.set(font_scale = 1.5)\n",
    "boxplot = sns.boxplot(x='cancer', y=gene+'_proteomics', data = hnscc_df, \n",
    "                      hue='miRNA_pten', hue_order = [\"low_miRNA_PTEN_wt\", \"high_miRNA_PTEN_wt\",\n",
    "                      \"low_miRNA_PTEN_del\", \"high_miRNA_PTEN_del\"], showfliers = False)    \n",
    "#boxplot.set_title('Level of miRNA significant effects on PTEN protein abundance\\n')\n",
    "boxplot = sns.stripplot(x='cancer', y=gene+'_proteomics', data = hnscc_df, jitter = True, \n",
    "                           color = \".3\", hue='miRNA_pten', hue_order = [\"low_miRNA_PTEN_wt\", \n",
    "                        \"high_miRNA_PTEN_wt\", \"low_miRNA_PTEN_del\", \"high_miRNA_PTEN_del\"], dodge = True)\n",
    "boxplot.set(xlabel = \"\\nmiRNA Abundance \", ylabel = 'PTEN Proteomics')\n",
    "\n",
    "# format legend\n",
    "boxplot.get_legend().set_visible(False)\n",
    "#handles, labels = boxplot.get_legend_handles_labels()\n",
    "#plt.legend(handles[0:4], labels[0:4])\n",
    "\n",
    "format_pval_annotation(wt_symbols['HNSCC'], -0.3, -.1, 24.6) \n",
    "format_pval_annotation(mut_symbols['HNSCC'], .1, .3, 24.1)\n",
    " \n",
    "#boxplot.figure.savefig(\".png\", dpi = 300)\n",
    "\n",
    "plt.show()\n",
    "plt.clf()\n",
    "plt.close()"
   ]
  }
 ],
 "metadata": {
  "kernelspec": {
   "display_name": "Python 3",
   "language": "python",
   "name": "python3"
  },
  "language_info": {
   "codemirror_mode": {
    "name": "ipython",
    "version": 3
   },
   "file_extension": ".py",
   "mimetype": "text/x-python",
   "name": "python",
   "nbconvert_exporter": "python",
   "pygments_lexer": "ipython3",
   "version": "3.7.3"
  }
 },
 "nbformat": 4,
 "nbformat_minor": 2
}
