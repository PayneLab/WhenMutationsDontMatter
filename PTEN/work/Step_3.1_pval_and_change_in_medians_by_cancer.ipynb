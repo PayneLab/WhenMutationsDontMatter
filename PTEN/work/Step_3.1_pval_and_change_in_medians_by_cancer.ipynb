{
 "cells": [
  {
   "cell_type": "markdown",
   "metadata": {},
   "source": [
    "# Create tables with p-value and change in medians for multiple cancers "
   ]
  },
  {
   "cell_type": "markdown",
   "metadata": {},
   "source": [
    "Create a dataframe with p-value results from t-tests for all proteins (trans gene proteomics when PTEN has cnv deletions compared to PTEN wildtype). The dataframe also includes the change in medians between deletions and wildtype. Prepare these tables for further analysis by creating csv files."
   ]
  },
  {
   "cell_type": "code",
   "execution_count": 1,
   "metadata": {},
   "outputs": [],
   "source": [
    "import pandas as pd\n",
    "import numpy as np\n",
    "import seaborn as sns\n",
    "import matplotlib.pyplot as plt\n",
    "import scipy.stats\n",
    "import gseapy as gp\n",
    "import re\n",
    "import sys \n",
    "\n",
    "import cptac\n",
    "import cptac.utils as u\n",
    "\n",
    "import plot_utils as pu\n",
    "root = R'~\\Github\\WhenMutationsDontMatter\\PTEN\\Figure_2\\csv'"
   ]
  },
  {
   "cell_type": "code",
   "execution_count": 2,
   "metadata": {},
   "outputs": [],
   "source": [
    "import pandas as pd\n",
    "import numpy as np\n",
    "import scipy.stats\n",
    "import statsmodels.stats.multitest\n",
    "import operator\n",
    "\n",
    "\n",
    "def wrap_ttest(df, label_column, comparison_columns=None, alpha=.05, return_all=False, \n",
    "               correction_method='bonferroni', mincount=3, pval_return_corrected=True):\n",
    "    try:\n",
    "        '''Verify precondition that label column exists and has exactly 2 unique values'''\n",
    "        label_values = df[label_column].unique()\n",
    "        if len(label_values) != 2:\n",
    "            print(\"Incorrectly Formatted Dataframe! Label column must have exactly 2 unique values.\")\n",
    "            return None\n",
    "       \n",
    "        '''Partition dataframe into two sets, one for each of the two unique values from the label column'''\n",
    "        partition1 = df.loc[df[label_column] == label_values[0]]\n",
    "        partition2 = df.loc[df[label_column] == label_values[1]]\n",
    "\n",
    "        '''If no comparison columns specified, use all columns except the specified labed column'''\n",
    "        if not comparison_columns:\n",
    "            comparison_columns = list(df.columns)\n",
    "            comparison_columns.remove(label_column)\n",
    "\n",
    "        '''Determine the number of real valued columns on which we will do t-tests'''\n",
    "        number_of_comparisons = len(comparison_columns)\n",
    "\n",
    "        '''Store comparisons and p-values in two arrays'''\n",
    "        comparisons = []\n",
    "        pvals = []\n",
    "       \n",
    "        '''Loop through each comparison column, perform the t-test, and record the p-val'''\n",
    "       \n",
    "        for column in comparison_columns:\n",
    "            if len(partition1[column].dropna(axis=0)) <= mincount:\n",
    "                continue\n",
    "            elif len(partition2[column].dropna(axis=0)) <= mincount:\n",
    "                continue\n",
    "            else:\n",
    "                stat, pval = scipy.stats.ttest_ind(partition1[column].dropna(axis=0), partition2[column].dropna(axis=0))\n",
    "                comparisons.append(column)\n",
    "                pvals.append(pval)\n",
    "               \n",
    "        '''Correct for multiple testing to determine if each comparison meets the new cutoff'''\n",
    "        results = statsmodels.stats.multitest.multipletests(pvals=pvals, alpha=alpha, method=correction_method)\n",
    "        reject = results[0]\n",
    "\n",
    "        '''Format results in a pandas dataframe'''\n",
    "        results_df = pd.DataFrame(columns=['Comparison','P_Value'])\n",
    "\n",
    "        '''If return all, add all comparisons and p-values to dataframe'''\n",
    "        if return_all:\n",
    "            if pval_return_corrected:\n",
    "                results_df['Comparison'] = comparisons\n",
    "                results_df['P_Value'] = results[1]\n",
    "\n",
    "            else:\n",
    "                results_df['Comparison'] = comparisons\n",
    "                results_df['P_Value'] = pvals\n",
    "\n",
    "            '''Else only add significant comparisons'''\n",
    "        else:\n",
    "            for i in range(0, len(reject)):\n",
    "                if reject[i]:\n",
    "                    if pval_return_corrected:\n",
    "                        results_df = results_df.append({'Comparison':comparisons[i],'P_Value':results[1][i]}, ignore_index=True)\n",
    "                    else:\n",
    "                        results_df = results_df.append({'Comparison':comparisons[i],'P_Value':pvals[i]}, ignore_index=True)\n",
    "\n",
    "\n",
    "        '''Sort dataframe by ascending p-value'''\n",
    "        results_df = results_df.sort_values(by='P_Value', ascending=True)\n",
    "        results_df = results_df.reset_index(drop=True)\n",
    "\n",
    "        '''If results df is not empty, return it, else return None'''\n",
    "        if len(results_df) > 0:\n",
    "            return results_df\n",
    "        else:\n",
    "            return None\n",
    "\n",
    "\n",
    "    except:\n",
    "        print(\"Incorrectly Formatted Dataframe!\")\n",
    "        return None\n",
    "\n"
   ]
  },
  {
   "cell_type": "code",
   "execution_count": 3,
   "metadata": {},
   "outputs": [],
   "source": [
    "# Returns a dataframe with proteomics and mutation type\n",
    "\n",
    "# all_prot: list of trans genes\n",
    "\n",
    "def all_prot_format_df(cancer_object, all_prot, gene_in = 'PTEN', utils = u):\n",
    "    mut_type = cancer_object.get_genotype_all_vars(gene_in)\n",
    "    \n",
    "    if cancer_object.get_cancer_type() not in ('luad'):\n",
    "        # Keep only tumor samples from proteomics\n",
    "        prot_and_mutations = cancer_object.join_omics_to_mutations(\n",
    "            mutations_genes = [gene_in], omics_df_name = 'proteomics', omics_genes = all_prot)\n",
    "        # Reduce a multiindex \n",
    "        if isinstance(prot_and_mutations.keys(), pd.core.indexes.multi.MultiIndex):\n",
    "            prot_and_mutations = utils.reduce_multiindex(prot_and_mutations, levels_to_drop = 1)\n",
    "        prot_and_mutations = prot_and_mutations[prot_and_mutations.Sample_Status == \"Tumor\"] # drop Normal samples\n",
    "\n",
    "        # Merge Mutation column from get_genotype_all_vars (includes cnv) with proteomics\n",
    "        mut_type = mut_type[['Mutation']] \n",
    "        prot_df = prot_and_mutations.iloc[:,:-4] # Keep only proteomics\n",
    "        merged = prot_df.join(mut_type)\n",
    "        \n",
    "        # Keep only Wildtype and deletion\n",
    "        compare = ['Wildtype_Tumor','Deletion']\n",
    "        get = merged['Mutation'].isin(compare)\n",
    "        del_wt = merged[get]\n",
    "    \n",
    "    \n",
    "    # Luad has no somatic mutations for PTEN which changes some things\n",
    "    else: \n",
    "        # get_genotype_all_vars add cnv data under the column PTEN\n",
    "        mut_type = mut_type.drop(columns= gene_in)\n",
    "        # different code because no somatic mutation data for pten (can't join to somatic mutations)\n",
    "        omics = cancer_object.join_omics_to_omics(df1_name = 'CNV', df2_name='proteomics',genes1= gene_in, \n",
    "            genes2= all_prot)\n",
    "        omics = utils.reduce_multiindex(omics, levels_to_drop = 1, flatten = True)\n",
    "        omics = omics.drop(columns='PTEN_CNV')\n",
    "        # Get only tumor samples\n",
    "        p = cancer_object.get_proteomics(tissue_type='tumor')\n",
    "        tumor_ids = list(p.index)\n",
    "        get = omics.index.isin(tumor_ids)\n",
    "        omics = omics[get]\n",
    "        # Merge Mutation column from get_genotype_all_vars (includes cnv) with proteomics\n",
    "        merged = omics.join(mut_type) \n",
    "        # Keep only No_Mutation (wildtype) and deletion\n",
    "        compare = ['No_Mutation','Deletion']\n",
    "        get = merged['Mutation'].isin(compare)\n",
    "        del_wt = merged[get]\n",
    "        del_wt['Mutation'] = np.where(\n",
    "            del_wt['Mutation'] == 'No_Mutation', 'Wildtype_Tumor', 'Deletion')\n",
    "\n",
    "    return del_wt\n"
   ]
  },
  {
   "cell_type": "code",
   "execution_count": 4,
   "metadata": {},
   "outputs": [],
   "source": [
    "'''\n",
    "Params\n",
    "cancer_object: Object. Variable for the loaded cancer data set.\n",
    "cancer_name: Str. name to add to the created dataframe.\n",
    "del_wt_df: DataFrame. Only samples with deletions and wildtype for PTEN. \n",
    "all_prot_list: List. All proteins in proteomics data frame. \n",
    "\n",
    "Returns a dataframe with the difference in medians between proteomics with PTEN wt and del (wt - del). \n",
    "'''\n",
    "\n",
    "def get_change_in_medians_df(cancer_object, cancer_name, del_wt_df, all_prot_list):\n",
    "    d = del_wt_df[del_wt_df.Mutation == \"Deletion\"]\n",
    "    wt = del_wt_df[del_wt_df.Mutation == \"Wildtype_Tumor\"]\n",
    "    del_med = d.median()\n",
    "    wt_med = wt.median()\n",
    "\n",
    "    med_dict = {}\n",
    "    \n",
    "    # Correlation: + is mutant up compared to wt, - is mutant down\n",
    "    for prot in all_prot_list:\n",
    "        if prot+'_proteomics' in del_med.index and prot+'_proteomics' in wt_med.index:\n",
    "            dif = del_med[prot+'_proteomics'] - wt_med[prot+'_proteomics']\n",
    "            med_dict[prot+'_proteomics'] = dif\n",
    "        \n",
    "    df = pd.DataFrame.from_dict(med_dict, orient='index', columns=[cancer_name+'_Median'])\n",
    "    df = df.reset_index().rename(columns={'index':'Proteomics'})\n",
    "    \n",
    "    return df\n",
    "        "
   ]
  },
  {
   "cell_type": "markdown",
   "metadata": {},
   "source": [
    "#  Step 1: Create Data frames with p-values and differences in median"
   ]
  },
  {
   "cell_type": "markdown",
   "metadata": {},
   "source": [
    "Each cancer needs a data frame containing only samples that have PTEN cnv deletions and PTEN wildtype with trans proteomics. Use wrap_ttest to run many T-tests for all genes in the proteomics data frame. Use get_change_in_medians_df to create the data frame with change in median values. Merge both data frames. "
   ]
  },
  {
   "cell_type": "markdown",
   "metadata": {},
   "source": [
    "Load in cancer data sets from cptac. "
   ]
  },
  {
   "cell_type": "code",
   "execution_count": 5,
   "metadata": {},
   "outputs": [
    {
     "name": "stdout",
     "output_type": "stream",
     "text": [
      "Checking that endometrial index is up-to-date...\r"
     ]
    },
    {
     "name": "stderr",
     "output_type": "stream",
     "text": [
      "cptac warning: The GBM dataset is under publication embargo until March 01, 2021. CPTAC is a community resource project and data are made available rapidly after generation for community research use. The embargo allows exploring and utilizing the data, but analysis may not be published until after the embargo date. Please see https://proteomics.cancer.gov/data-portal/about/data-use-agreement or enter cptac.embargo() to open the webpage for more details. (C:\\Users\\brittany henderson\\Anaconda3\\envs\\Research\\lib\\site-packages\\ipykernel_launcher.py, line 1)\n"
     ]
    },
    {
     "name": "stdout",
     "output_type": "stream",
     "text": [
      "Checking that luad index is up-to-date...       \r"
     ]
    },
    {
     "name": "stderr",
     "output_type": "stream",
     "text": [
      "cptac warning: The HNSCC data is currently strictly reserved for CPTAC investigators. Otherwise, you are not authorized to access these data. Additionally, even after these data become publicly available, they will be subject to a publication embargo (see https://proteomics.cancer.gov/data-portal/about/data-use-agreement or enter cptac.embargo() to open the webpage for more details). (C:\\Users\\brittany henderson\\Anaconda3\\envs\\Research\\lib\\site-packages\\ipykernel_launcher.py, line 3)\n"
     ]
    },
    {
     "name": "stdout",
     "output_type": "stream",
     "text": [
      "version 3scc v3.2.......                 \n",
      "Checking that ovarian index is up-to-date...\r"
     ]
    },
    {
     "name": "stderr",
     "output_type": "stream",
     "text": [
      "cptac warning: The LSCC data is currently strictly reserved for CPTAC investigators. Otherwise, you are not authorized to access these data. Additionally, even after these data become publicly available, they will be subject to a publication embargo (see https://proteomics.cancer.gov/data-portal/about/data-use-agreement or enter cptac.embargo() to open the webpage for more details). (C:\\Users\\brittany henderson\\Anaconda3\\envs\\Research\\lib\\site-packages\\ipykernel_launcher.py, line 5)\n"
     ]
    },
    {
     "name": "stdout",
     "output_type": "stream",
     "text": [
      "                                            \r"
     ]
    }
   ],
   "source": [
    "g = cptac.Gbm()\n",
    "en = cptac.Endometrial()\n",
    "h = cptac.Hnscc()\n",
    "l = cptac.Luad()\n",
    "ls = cptac.Lscc()\n",
    "o = cptac.Ovarian()\n",
    "col = cptac.Colon()\n",
    "b = cptac.Brca()"
   ]
  },
  {
   "cell_type": "code",
   "execution_count": 5,
   "metadata": {},
   "outputs": [
    {
     "name": "stdout",
     "output_type": "stream",
     "text": [
      "version 3scc v3.2.......                 \n",
      "                            \r"
     ]
    },
    {
     "name": "stderr",
     "output_type": "stream",
     "text": [
      "cptac warning: The LSCC data is currently strictly reserved for CPTAC investigators. Otherwise, you are not authorized to access these data. Additionally, even after these data become publicly available, they will be subject to a publication embargo (see https://proteomics.cancer.gov/data-portal/about/data-use-agreement or enter cptac.embargo() to open the webpage for more details). (C:\\Users\\brittany henderson\\Anaconda3\\envs\\Research\\lib\\site-packages\\ipykernel_launcher.py, line 1)\n"
     ]
    }
   ],
   "source": [
    "ls = cptac.Lscc()"
   ]
  },
  {
   "cell_type": "markdown",
   "metadata": {},
   "source": [
    "# Gbm"
   ]
  },
  {
   "cell_type": "markdown",
   "metadata": {},
   "source": [
    "Part 1: Format data frame using all_prot_format_df. This returns a dataframe with proteomics and a Mutation column containing only PTEN cnv deletions and wildtype tumors. "
   ]
  },
  {
   "cell_type": "code",
   "execution_count": 6,
   "metadata": {},
   "outputs": [
    {
     "name": "stderr",
     "output_type": "stream",
     "text": [
      "cptac warning: In joining the somatic_mutation table, no mutations were found for the following samples, so they were filled with Wildtype_Tumor or Wildtype_Normal: 72 samples for the PTEN gene (C:\\Users\\brittany henderson\\Anaconda3\\envs\\Research\\lib\\site-packages\\cptac\\dataset.py, line 313)\n",
      "cptac warning: CNV data was not found for the following samples, so CNV data columns were filled with NaN for these samples: C3L-01834 (C:\\Users\\brittany henderson\\Anaconda3\\envs\\Research\\lib\\site-packages\\cptac\\dataset.py, line 313)\n",
      "cptac warning: In joining the somatic_mutation table, no mutations were found for the following samples, so they were filled with Wildtype_Tumor or Wildtype_Normal: 82 samples for the PTEN gene (C:\\Users\\brittany henderson\\Anaconda3\\envs\\Research\\lib\\site-packages\\ipykernel_launcher.py, line 11)\n"
     ]
    },
    {
     "data": {
      "text/html": [
       "<div>\n",
       "<style scoped>\n",
       "    .dataframe tbody tr th:only-of-type {\n",
       "        vertical-align: middle;\n",
       "    }\n",
       "\n",
       "    .dataframe tbody tr th {\n",
       "        vertical-align: top;\n",
       "    }\n",
       "\n",
       "    .dataframe thead th {\n",
       "        text-align: right;\n",
       "    }\n",
       "</style>\n",
       "<table border=\"1\" class=\"dataframe\">\n",
       "  <thead>\n",
       "    <tr style=\"text-align: right;\">\n",
       "      <th>Name</th>\n",
       "      <th>A1BG_proteomics</th>\n",
       "      <th>A2M_proteomics</th>\n",
       "      <th>AAAS_proteomics</th>\n",
       "      <th>AACS_proteomics</th>\n",
       "      <th>AADAT_proteomics</th>\n",
       "      <th>AAED1_proteomics</th>\n",
       "      <th>AAGAB_proteomics</th>\n",
       "      <th>AAK1_proteomics</th>\n",
       "      <th>AAMDC_proteomics</th>\n",
       "      <th>AAMP_proteomics</th>\n",
       "      <th>...</th>\n",
       "      <th>ZSWIM8_proteomics</th>\n",
       "      <th>ZW10_proteomics</th>\n",
       "      <th>ZWILCH_proteomics</th>\n",
       "      <th>ZWINT_proteomics</th>\n",
       "      <th>ZXDC_proteomics</th>\n",
       "      <th>ZYG11B_proteomics</th>\n",
       "      <th>ZYX_proteomics</th>\n",
       "      <th>ZZEF1_proteomics</th>\n",
       "      <th>ZZZ3_proteomics</th>\n",
       "      <th>Mutation</th>\n",
       "    </tr>\n",
       "    <tr>\n",
       "      <th>Patient_ID</th>\n",
       "      <th></th>\n",
       "      <th></th>\n",
       "      <th></th>\n",
       "      <th></th>\n",
       "      <th></th>\n",
       "      <th></th>\n",
       "      <th></th>\n",
       "      <th></th>\n",
       "      <th></th>\n",
       "      <th></th>\n",
       "      <th></th>\n",
       "      <th></th>\n",
       "      <th></th>\n",
       "      <th></th>\n",
       "      <th></th>\n",
       "      <th></th>\n",
       "      <th></th>\n",
       "      <th></th>\n",
       "      <th></th>\n",
       "      <th></th>\n",
       "      <th></th>\n",
       "    </tr>\n",
       "  </thead>\n",
       "  <tbody>\n",
       "    <tr>\n",
       "      <th>C3L-00104</th>\n",
       "      <td>0.077630</td>\n",
       "      <td>0.487228</td>\n",
       "      <td>-0.254208</td>\n",
       "      <td>-0.144373</td>\n",
       "      <td>0.551881</td>\n",
       "      <td>-0.025276</td>\n",
       "      <td>-0.467451</td>\n",
       "      <td>-0.089511</td>\n",
       "      <td>-0.078806</td>\n",
       "      <td>0.329603</td>\n",
       "      <td>...</td>\n",
       "      <td>-0.047437</td>\n",
       "      <td>-0.105908</td>\n",
       "      <td>-0.347076</td>\n",
       "      <td>NaN</td>\n",
       "      <td>0.459635</td>\n",
       "      <td>0.079452</td>\n",
       "      <td>-0.784983</td>\n",
       "      <td>-0.488441</td>\n",
       "      <td>0.167990</td>\n",
       "      <td>Deletion</td>\n",
       "    </tr>\n",
       "    <tr>\n",
       "      <th>C3L-00365</th>\n",
       "      <td>-0.145975</td>\n",
       "      <td>0.798796</td>\n",
       "      <td>0.184242</td>\n",
       "      <td>-0.470603</td>\n",
       "      <td>NaN</td>\n",
       "      <td>0.390211</td>\n",
       "      <td>0.245466</td>\n",
       "      <td>-0.609998</td>\n",
       "      <td>0.118625</td>\n",
       "      <td>-0.086927</td>\n",
       "      <td>...</td>\n",
       "      <td>0.161975</td>\n",
       "      <td>-0.213093</td>\n",
       "      <td>0.235571</td>\n",
       "      <td>NaN</td>\n",
       "      <td>0.107421</td>\n",
       "      <td>0.048724</td>\n",
       "      <td>0.138403</td>\n",
       "      <td>-0.290141</td>\n",
       "      <td>0.405037</td>\n",
       "      <td>Deletion</td>\n",
       "    </tr>\n",
       "    <tr>\n",
       "      <th>C3L-00674</th>\n",
       "      <td>0.821991</td>\n",
       "      <td>1.096470</td>\n",
       "      <td>-0.094421</td>\n",
       "      <td>-0.106304</td>\n",
       "      <td>0.084578</td>\n",
       "      <td>0.176402</td>\n",
       "      <td>-0.248151</td>\n",
       "      <td>0.014061</td>\n",
       "      <td>-0.699773</td>\n",
       "      <td>-0.638462</td>\n",
       "      <td>...</td>\n",
       "      <td>-0.065534</td>\n",
       "      <td>-0.306717</td>\n",
       "      <td>0.879991</td>\n",
       "      <td>NaN</td>\n",
       "      <td>0.883564</td>\n",
       "      <td>-0.172222</td>\n",
       "      <td>0.011876</td>\n",
       "      <td>-0.131889</td>\n",
       "      <td>-0.503581</td>\n",
       "      <td>Deletion</td>\n",
       "    </tr>\n",
       "    <tr>\n",
       "      <th>C3L-00677</th>\n",
       "      <td>-0.064567</td>\n",
       "      <td>0.129385</td>\n",
       "      <td>0.047751</td>\n",
       "      <td>-0.118187</td>\n",
       "      <td>0.237434</td>\n",
       "      <td>NaN</td>\n",
       "      <td>0.303847</td>\n",
       "      <td>0.322163</td>\n",
       "      <td>-0.555479</td>\n",
       "      <td>-0.363414</td>\n",
       "      <td>...</td>\n",
       "      <td>-0.254535</td>\n",
       "      <td>0.463653</td>\n",
       "      <td>0.580230</td>\n",
       "      <td>0.503044</td>\n",
       "      <td>-0.604986</td>\n",
       "      <td>0.178077</td>\n",
       "      <td>-0.720059</td>\n",
       "      <td>-0.150197</td>\n",
       "      <td>-0.268715</td>\n",
       "      <td>Deletion</td>\n",
       "    </tr>\n",
       "    <tr>\n",
       "      <th>C3L-01040</th>\n",
       "      <td>-0.763691</td>\n",
       "      <td>-1.031834</td>\n",
       "      <td>-0.217194</td>\n",
       "      <td>-0.695701</td>\n",
       "      <td>0.184173</td>\n",
       "      <td>-0.474816</td>\n",
       "      <td>-0.051789</td>\n",
       "      <td>0.344842</td>\n",
       "      <td>-0.642746</td>\n",
       "      <td>0.068863</td>\n",
       "      <td>...</td>\n",
       "      <td>-0.092502</td>\n",
       "      <td>0.010639</td>\n",
       "      <td>-0.465079</td>\n",
       "      <td>NaN</td>\n",
       "      <td>-0.500083</td>\n",
       "      <td>0.112651</td>\n",
       "      <td>1.004660</td>\n",
       "      <td>-0.230304</td>\n",
       "      <td>-0.102416</td>\n",
       "      <td>Deletion</td>\n",
       "    </tr>\n",
       "  </tbody>\n",
       "</table>\n",
       "<p>5 rows × 11010 columns</p>\n",
       "</div>"
      ],
      "text/plain": [
       "Name        A1BG_proteomics  A2M_proteomics  AAAS_proteomics  AACS_proteomics  \\\n",
       "Patient_ID                                                                      \n",
       "C3L-00104          0.077630        0.487228        -0.254208        -0.144373   \n",
       "C3L-00365         -0.145975        0.798796         0.184242        -0.470603   \n",
       "C3L-00674          0.821991        1.096470        -0.094421        -0.106304   \n",
       "C3L-00677         -0.064567        0.129385         0.047751        -0.118187   \n",
       "C3L-01040         -0.763691       -1.031834        -0.217194        -0.695701   \n",
       "\n",
       "Name        AADAT_proteomics  AAED1_proteomics  AAGAB_proteomics  \\\n",
       "Patient_ID                                                         \n",
       "C3L-00104           0.551881         -0.025276         -0.467451   \n",
       "C3L-00365                NaN          0.390211          0.245466   \n",
       "C3L-00674           0.084578          0.176402         -0.248151   \n",
       "C3L-00677           0.237434               NaN          0.303847   \n",
       "C3L-01040           0.184173         -0.474816         -0.051789   \n",
       "\n",
       "Name        AAK1_proteomics  AAMDC_proteomics  AAMP_proteomics  ...  \\\n",
       "Patient_ID                                                      ...   \n",
       "C3L-00104         -0.089511         -0.078806         0.329603  ...   \n",
       "C3L-00365         -0.609998          0.118625        -0.086927  ...   \n",
       "C3L-00674          0.014061         -0.699773        -0.638462  ...   \n",
       "C3L-00677          0.322163         -0.555479        -0.363414  ...   \n",
       "C3L-01040          0.344842         -0.642746         0.068863  ...   \n",
       "\n",
       "Name        ZSWIM8_proteomics  ZW10_proteomics  ZWILCH_proteomics  \\\n",
       "Patient_ID                                                          \n",
       "C3L-00104           -0.047437        -0.105908          -0.347076   \n",
       "C3L-00365            0.161975        -0.213093           0.235571   \n",
       "C3L-00674           -0.065534        -0.306717           0.879991   \n",
       "C3L-00677           -0.254535         0.463653           0.580230   \n",
       "C3L-01040           -0.092502         0.010639          -0.465079   \n",
       "\n",
       "Name        ZWINT_proteomics  ZXDC_proteomics  ZYG11B_proteomics  \\\n",
       "Patient_ID                                                         \n",
       "C3L-00104                NaN         0.459635           0.079452   \n",
       "C3L-00365                NaN         0.107421           0.048724   \n",
       "C3L-00674                NaN         0.883564          -0.172222   \n",
       "C3L-00677           0.503044        -0.604986           0.178077   \n",
       "C3L-01040                NaN        -0.500083           0.112651   \n",
       "\n",
       "Name        ZYX_proteomics  ZZEF1_proteomics  ZZZ3_proteomics  Mutation  \n",
       "Patient_ID                                                               \n",
       "C3L-00104        -0.784983         -0.488441         0.167990  Deletion  \n",
       "C3L-00365         0.138403         -0.290141         0.405037  Deletion  \n",
       "C3L-00674         0.011876         -0.131889        -0.503581  Deletion  \n",
       "C3L-00677        -0.720059         -0.150197        -0.268715  Deletion  \n",
       "C3L-01040         1.004660         -0.230304        -0.102416  Deletion  \n",
       "\n",
       "[5 rows x 11010 columns]"
      ]
     },
     "execution_count": 6,
     "metadata": {},
     "output_type": "execute_result"
    }
   ],
   "source": [
    "gene = 'PTEN'\n",
    "g_prot = g.get_proteomics()\n",
    "g_prot_list = list(g_prot.columns)\n",
    "\n",
    "g_del_wt = all_prot_format_df(g, g_prot_list)\n",
    "g_del_wt = g_del_wt.dropna(axis='columns', thresh = 10)\n",
    "g_del_wt.head()"
   ]
  },
  {
   "cell_type": "markdown",
   "metadata": {},
   "source": [
    "Part 2: Run T-tests. Create a data frame of just significant comparisons and another data frame for all comparisons. A moderately stringent correction is used (FDR_BH)."
   ]
  },
  {
   "cell_type": "code",
   "execution_count": 7,
   "metadata": {},
   "outputs": [
    {
     "name": "stderr",
     "output_type": "stream",
     "text": [
      "C:\\Users\\brittany henderson\\Anaconda3\\envs\\Research\\lib\\site-packages\\numpy\\core\\fromnumeric.py:3367: RuntimeWarning: Degrees of freedom <= 0 for slice\n",
      "  **kwargs)\n",
      "C:\\Users\\brittany henderson\\Anaconda3\\envs\\Research\\lib\\site-packages\\numpy\\core\\_methods.py:132: RuntimeWarning: invalid value encountered in double_scalars\n",
      "  ret = ret.dtype.type(ret / rcount)\n",
      "C:\\Users\\brittany henderson\\Anaconda3\\envs\\Research\\lib\\site-packages\\scipy\\stats\\_distn_infrastructure.py:877: RuntimeWarning: invalid value encountered in greater\n",
      "  return (self.a < x) & (x < self.b)\n",
      "C:\\Users\\brittany henderson\\Anaconda3\\envs\\Research\\lib\\site-packages\\scipy\\stats\\_distn_infrastructure.py:877: RuntimeWarning: invalid value encountered in less\n",
      "  return (self.a < x) & (x < self.b)\n",
      "C:\\Users\\brittany henderson\\Anaconda3\\envs\\Research\\lib\\site-packages\\scipy\\stats\\_distn_infrastructure.py:1831: RuntimeWarning: invalid value encountered in less_equal\n",
      "  cond2 = cond0 & (x <= self.a)\n",
      "C:\\Users\\brittany henderson\\Anaconda3\\envs\\Research\\lib\\site-packages\\statsmodels\\stats\\multitest.py:325: RuntimeWarning: invalid value encountered in less_equal\n",
      "  reject = pvals_sorted <= ecdffactor*alpha\n",
      "C:\\Users\\brittany henderson\\Anaconda3\\envs\\Research\\lib\\site-packages\\statsmodels\\stats\\multitest.py:333: RuntimeWarning: invalid value encountered in greater\n",
      "  pvals_corrected[pvals_corrected>1] = 1\n",
      "C:\\Users\\brittany henderson\\Anaconda3\\envs\\Research\\lib\\site-packages\\statsmodels\\stats\\multitest.py:256: RuntimeWarning: invalid value encountered in greater\n",
      "  pvals_corrected[pvals_corrected>1] = 1\n"
     ]
    },
    {
     "name": "stdout",
     "output_type": "stream",
     "text": [
      "significant pvals: \n",
      "                Comparison       P_Value\n",
      "0        ARMH3_proteomics  5.396032e-11\n",
      "1         CUTC_proteomics  1.593480e-10\n",
      "2      PIP4K2A_proteomics  1.009419e-09\n",
      "3         CUL2_proteomics  1.122076e-09\n",
      "4         GDI2_proteomics  1.302273e-09\n",
      "...                   ...           ...\n",
      "1895  KIAA1522_proteomics  8.588845e-03\n",
      "1896      NOB1_proteomics  8.592904e-03\n",
      "1897      MSH3_proteomics  8.603975e-03\n",
      "1898      FPR2_proteomics  8.615010e-03\n",
      "1899      FBP2_proteomics  8.625413e-03\n",
      "\n",
      "[1900 rows x 2 columns]\n"
     ]
    },
    {
     "ename": "TypeError",
     "evalue": "wrap_ttest() got an unexpected keyword argument 'min_count'",
     "output_type": "error",
     "traceback": [
      "\u001b[1;31m---------------------------------------------------------------------------\u001b[0m",
      "\u001b[1;31mTypeError\u001b[0m                                 Traceback (most recent call last)",
      "\u001b[1;32m<ipython-input-7-ba3d567743a1>\u001b[0m in \u001b[0;36m<module>\u001b[1;34m\u001b[0m\n\u001b[0;32m     12\u001b[0m \u001b[1;31m# Get all pvals\u001b[0m\u001b[1;33m\u001b[0m\u001b[1;33m\u001b[0m\u001b[1;33m\u001b[0m\u001b[0m\n\u001b[0;32m     13\u001b[0m \u001b[1;31m#g_pval = u.wrap_ttest(g_del_wt, 'Mutation', g_cols, return_all = True, correction_method = 'fdr_bh')\u001b[0m\u001b[1;33m\u001b[0m\u001b[1;33m\u001b[0m\u001b[1;33m\u001b[0m\u001b[0m\n\u001b[1;32m---> 14\u001b[1;33m \u001b[0mg_pval\u001b[0m \u001b[1;33m=\u001b[0m \u001b[0mwrap_ttest\u001b[0m\u001b[1;33m(\u001b[0m\u001b[0mg_del_wt\u001b[0m\u001b[1;33m,\u001b[0m \u001b[1;34m'Mutation'\u001b[0m\u001b[1;33m,\u001b[0m \u001b[0mg_cols\u001b[0m\u001b[1;33m,\u001b[0m \u001b[0mreturn_all\u001b[0m \u001b[1;33m=\u001b[0m \u001b[1;32mTrue\u001b[0m\u001b[1;33m,\u001b[0m \u001b[0mcorrection_method\u001b[0m \u001b[1;33m=\u001b[0m \u001b[1;34m'fdr_bh'\u001b[0m\u001b[1;33m,\u001b[0m \u001b[0mmin_count\u001b[0m \u001b[1;33m=\u001b[0m \u001b[1;36m5\u001b[0m\u001b[1;33m)\u001b[0m\u001b[1;33m\u001b[0m\u001b[1;33m\u001b[0m\u001b[0m\n\u001b[0m\u001b[0;32m     15\u001b[0m \u001b[0mg_pval\u001b[0m \u001b[1;33m=\u001b[0m \u001b[0mg_pval\u001b[0m\u001b[1;33m.\u001b[0m\u001b[0mrename\u001b[0m\u001b[1;33m(\u001b[0m\u001b[0mcolumns\u001b[0m \u001b[1;33m=\u001b[0m \u001b[1;33m{\u001b[0m\u001b[1;34m'Comparison'\u001b[0m\u001b[1;33m:\u001b[0m \u001b[1;34m'Proteomics'\u001b[0m\u001b[1;33m,\u001b[0m\u001b[1;34m'P_Value'\u001b[0m\u001b[1;33m:\u001b[0m \u001b[1;34m'Gbm_P_Value'\u001b[0m\u001b[1;33m}\u001b[0m\u001b[1;33m)\u001b[0m\u001b[1;33m\u001b[0m\u001b[1;33m\u001b[0m\u001b[0m\n",
      "\u001b[1;31mTypeError\u001b[0m: wrap_ttest() got an unexpected keyword argument 'min_count'"
     ]
    }
   ],
   "source": [
    "g_cols = list(g_del_wt.columns[:-1])\n",
    "\n",
    "# Get only sig genes\n",
    "g_sig = u.wrap_ttest(g_del_wt, 'Mutation', g_cols, correction_method = 'fdr_bh')\n",
    "# Create list of sig genes\n",
    "if g_sig is not None:\n",
    "    g_sig_list = list(g_sig.Comparison)\n",
    "else: \n",
    "    g_sig_list = None\n",
    "print('significant pvals: \\n',g_sig)\n",
    "\n",
    "# Get all pvals\n",
    "#g_pval = u.wrap_ttest(g_del_wt, 'Mutation', g_cols, return_all = True, correction_method = 'fdr_bh')\n",
    "g_pval = wrap_ttest(g_del_wt, 'Mutation', g_cols, return_all = True, correction_method = 'fdr_bh', min_count = 5)\n",
    "g_pval = g_pval.rename(columns = {'Comparison': 'Proteomics','P_Value': 'Gbm_P_Value'})"
   ]
  },
  {
   "cell_type": "markdown",
   "metadata": {},
   "source": [
    "Part 3: Create the differences in median df. (median of wildtype tumors - median of cnv deletions)"
   ]
  },
  {
   "cell_type": "code",
   "execution_count": null,
   "metadata": {},
   "outputs": [],
   "source": [
    "g_med = get_change_in_medians_df(g, \"Gbm\", g_del_wt, g_prot_list)"
   ]
  },
  {
   "cell_type": "markdown",
   "metadata": {},
   "source": [
    "Part 4: Merge the p-values and the differences in median dfs."
   ]
  },
  {
   "cell_type": "code",
   "execution_count": null,
   "metadata": {},
   "outputs": [],
   "source": [
    "g_merged = g_pval.merge(g_med, on='Proteomics',how='outer')\n",
    "print('total_proteins_tested =', len(g_cols))\n",
    "\n",
    "# Create csv\n",
    "root = R'~\\Github\\WhenMutationsDontMatter\\PTEN\\Step_3_trans_effect\\csv'\n",
    "g_merged.to_csv(root+R'\\gbm_pval_medians.csv',index=False)\n",
    "g_merged"
   ]
  },
  {
   "cell_type": "markdown",
   "metadata": {},
   "source": [
    "# Repeat for other cancers."
   ]
  },
  {
   "cell_type": "markdown",
   "metadata": {},
   "source": [
    "# Ovarian"
   ]
  },
  {
   "cell_type": "code",
   "execution_count": null,
   "metadata": {},
   "outputs": [],
   "source": [
    "gene = 'PTEN'\n",
    "o_prot = o.get_proteomics()\n",
    "o_prot = u.reduce_multiindex(o_prot, levels_to_drop = 1)\n",
    "o_prot_list = list(o_prot.columns)\n",
    "\n",
    "o_del_wt = all_prot_format_df(o, o_prot_list)\n",
    "o_del_wt = o_del_wt.dropna(axis='columns', thresh = 10)"
   ]
  },
  {
   "cell_type": "markdown",
   "metadata": {},
   "source": [
    "There are isoforms in ovarian. Create unique columns names by adding a number to differentiate. "
   ]
  },
  {
   "cell_type": "code",
   "execution_count": null,
   "metadata": {},
   "outputs": [],
   "source": [
    "cols = pd.Series(o_del_wt.columns[:])\n",
    "\n",
    "for dup in cols[cols.duplicated()].unique(): \n",
    "    cols[cols[cols == dup].index.values.tolist()] = [dup + '_' + str(i) if i != 0 else dup for i in range(sum(cols == dup))]\n",
    "\n",
    "# rename the columns with the cols list.\n",
    "o_del_wt.columns=cols"
   ]
  },
  {
   "cell_type": "code",
   "execution_count": null,
   "metadata": {},
   "outputs": [],
   "source": [
    "o_cols = list(o_del_wt.columns[:-1])\n",
    "\n",
    "# Get only sig sites\n",
    "o_sig = wrap_ttest(o_del_wt, 'Mutation', o_cols, correction_method = 'fdr_bh', min_count = min_num)\n",
    "if o_sig is not None:\n",
    "    o_sig_list = list(o_sig.Comparison)\n",
    "else: \n",
    "    o_sig_list = None\n",
    "print('significant pvals: \\n',o_sig)\n",
    "\n",
    "# Get all pvals\n",
    "o_pval = wrap_ttest(o_del_wt, 'Mutation', o_cols, return_all = True, correction_method = 'fdr_bh', min_count = min_num)\n",
    "o_pval = o_pval.rename(columns = {'Comparison': 'Proteomics','P_Value': 'Ov_P_Value'})"
   ]
  },
  {
   "cell_type": "code",
   "execution_count": null,
   "metadata": {},
   "outputs": [],
   "source": [
    "o_med = get_change_in_medians_df(o, \"Ov\", o_del_wt, o_prot_list)"
   ]
  },
  {
   "cell_type": "code",
   "execution_count": null,
   "metadata": {},
   "outputs": [],
   "source": [
    "o_merged = o_pval.merge(o_med, on='Proteomics',how='outer')\n",
    "print('total_proteins_tested =', len(o_cols))\n",
    "\n",
    "# Create csv\n",
    "o_merged.to_csv(root+R'\\ov_pval_medians.csv',index=False)\n",
    "o_merged"
   ]
  },
  {
   "cell_type": "markdown",
   "metadata": {},
   "source": [
    "# Breast"
   ]
  },
  {
   "cell_type": "code",
   "execution_count": null,
   "metadata": {},
   "outputs": [],
   "source": [
    "gene = 'PTEN'\n",
    "b_prot = b.get_proteomics()\n",
    "b_prot = u.reduce_multiindex(b_prot, levels_to_drop = 1)\n",
    "b_prot_list = list(b_prot.columns)\n",
    "\n",
    "b_del_wt = all_prot_format_df(b, b_prot_list)\n",
    "b_del_wt = b_del_wt.dropna(axis='columns', thresh = 10)"
   ]
  },
  {
   "cell_type": "code",
   "execution_count": null,
   "metadata": {},
   "outputs": [],
   "source": [
    "# Differentiate duplicate column names\n",
    "cols = pd.Series(b_del_wt.columns[:])\n",
    "\n",
    "for dup in cols[cols.duplicated()].unique(): \n",
    "    cols[cols[cols == dup].index.values.tolist()] = [dup + '_' + str(i) if i != 0 else dup for i in range(sum(cols == dup))]\n",
    "\n",
    "# rename the columns with the cols list.\n",
    "b_del_wt.columns=cols"
   ]
  },
  {
   "cell_type": "code",
   "execution_count": null,
   "metadata": {},
   "outputs": [],
   "source": [
    "b_cols = list(b_del_wt.columns[:-1])\n",
    "\n",
    "# Get only sig sites\n",
    "b_sig = wrap_ttest(b_del_wt, 'Mutation', b_cols, correction_method = 'fdr_bh', min_count = min_num)\n",
    "if b_sig is not None:\n",
    "    b_sig_list = list(b_sig.Comparison)\n",
    "else: \n",
    "    b_sig_list = None\n",
    "print('significant pvals: \\n',b_sig)\n",
    "\n",
    "# Get all pvals\n",
    "b_pval = wrap_ttest(b_del_wt, 'Mutation', b_cols, correction_method = 'fdr_bh',\n",
    "                      return_all = True, min_count = min_num)\n",
    "b_pval = b_pval.rename(columns = {'Comparison': 'Proteomics','P_Value': 'Brca_P_Value'})"
   ]
  },
  {
   "cell_type": "code",
   "execution_count": null,
   "metadata": {},
   "outputs": [],
   "source": [
    "b_med = get_change_in_medians_df(b, \"Brca\", b_del_wt, b_prot_list)"
   ]
  },
  {
   "cell_type": "code",
   "execution_count": null,
   "metadata": {},
   "outputs": [],
   "source": [
    "b_merged = b_pval.merge(b_med, on='Proteomics',how='outer')\n",
    "print('total_proteins_tested =', len(b_cols))\n",
    "\n",
    "# Create csv\n",
    "b_merged.to_csv(root+R'\\brca_pval_medians.csv',index=False)\n",
    "b_merged.head()"
   ]
  },
  {
   "cell_type": "markdown",
   "metadata": {},
   "source": [
    "# Colon"
   ]
  },
  {
   "cell_type": "code",
   "execution_count": null,
   "metadata": {},
   "outputs": [],
   "source": [
    "gene = 'PTEN'\n",
    "c_prot = col.get_proteomics()\n",
    "c_prot_list = list(c_prot.columns)\n",
    "\n",
    "c_del_wt = all_prot_format_df(col, c_prot_list)\n",
    "c_del_wt = c_del_wt.dropna(axis='columns', thresh=10)"
   ]
  },
  {
   "cell_type": "code",
   "execution_count": null,
   "metadata": {},
   "outputs": [],
   "source": [
    "# Differentiate duplicate column names\n",
    "cols = pd.Series(c_del_wt.columns[:])\n",
    "\n",
    "for dup in cols[cols.duplicated()].unique(): \n",
    "    cols[cols[cols == dup].index.values.tolist()] = [dup + '_' + str(i) if i != 0 else dup for i in range(sum(cols == dup))]\n",
    "\n",
    "# rename the columns with the cols list.\n",
    "c_del_wt.columns=cols"
   ]
  },
  {
   "cell_type": "code",
   "execution_count": null,
   "metadata": {},
   "outputs": [],
   "source": [
    "c_cols = list(c_del_wt.columns[:-1])\n",
    "\n",
    "# Get only sig sites\n",
    "c_sig = u.wrap_ttest(c_del_wt, 'Mutation', c_cols, correction_method = 'fdr_bh')\n",
    "if c_sig is not None:\n",
    "    c_sig_list = list(c_sig.Comparison)\n",
    "else: \n",
    "    c_sig_list = None\n",
    "print('significant pvals: \\n',c_sig)\n",
    "\n",
    "# Get all pvals\n",
    "c_pval = u.wrap_ttest(c_del_wt, 'Mutation', c_cols, return_all = True, correction_method = 'fdr_bh')\n",
    "c_pval = c_pval.rename(columns = {'Comparison': 'Proteomics','P_Value': 'Colon_P_Value'})"
   ]
  },
  {
   "cell_type": "code",
   "execution_count": null,
   "metadata": {},
   "outputs": [],
   "source": [
    "c_med = get_change_in_medians_df(col, \"Colon\", c_del_wt, c_prot_list)"
   ]
  },
  {
   "cell_type": "code",
   "execution_count": null,
   "metadata": {},
   "outputs": [],
   "source": [
    "c_merged = c_pval.merge(c_med, on='Proteomics',how='outer')\n",
    "print('total_proteins_tested =', len(c_cols))\n",
    "\n",
    "# Create csv\n",
    "c_merged.to_csv(root+R'\\colon_pval_medians.csv',index=False)\n",
    "c_merged"
   ]
  },
  {
   "cell_type": "markdown",
   "metadata": {},
   "source": [
    "# Hnscc"
   ]
  },
  {
   "cell_type": "code",
   "execution_count": null,
   "metadata": {},
   "outputs": [],
   "source": [
    "gene = 'PTEN'\n",
    "h_prot = h.get_proteomics()\n",
    "h_prot_list = list(h_prot.columns)\n",
    "\n",
    "h_del_wt = all_prot_format_df(h, h_prot_list)\n",
    "h_del_wt = h_del_wt.dropna(axis='columns', how='all')\n",
    "h_del_wt = h_del_wt.dropna(axis = 'columns',thresh = 10)"
   ]
  },
  {
   "cell_type": "code",
   "execution_count": null,
   "metadata": {},
   "outputs": [],
   "source": [
    "h_cols = list(h_del_wt.columns[:-1])\n",
    "\n",
    "# Get only sig sites\n",
    "h_sig = wrap_ttest(h_del_wt, 'Mutation', h_cols, correction_method = 'fdr_bh', min_count = min_num)\n",
    "if h_sig is not None:\n",
    "    h_sig_list = list(h_sig.Comparison)\n",
    "else: \n",
    "    h_sig_list = None\n",
    "print('significant pvals: \\n',h_sig)\n",
    "\n",
    "# Get all pvals\n",
    "h_pval = wrap_ttest(h_del_wt, 'Mutation', h_cols, return_all = True, correction_method = 'fdr_bh', min_count = min_num)\n",
    "h_pval = h_pval.rename(columns = {'Comparison': 'Proteomics','P_Value': 'Hnscc_P_Value'})"
   ]
  },
  {
   "cell_type": "code",
   "execution_count": null,
   "metadata": {},
   "outputs": [],
   "source": [
    "h_med = get_change_in_medians_df(h, \"Hnscc\", h_del_wt, h_prot_list)"
   ]
  },
  {
   "cell_type": "code",
   "execution_count": null,
   "metadata": {},
   "outputs": [],
   "source": [
    "h_merged = h_pval.merge(h_med, on='Proteomics',how='outer')\n",
    "print('total_proteins_tested =', len(h_cols))\n",
    "\n",
    "# Create csv\n",
    "h_merged.to_csv(root+R'\\hnscc_pval_medians.csv',index=False)\n",
    "h_merged"
   ]
  },
  {
   "cell_type": "markdown",
   "metadata": {},
   "source": [
    "# Luad"
   ]
  },
  {
   "cell_type": "code",
   "execution_count": null,
   "metadata": {},
   "outputs": [],
   "source": [
    "gene = 'PTEN'\n",
    "l_prot = l.get_proteomics()\n",
    "l_prot = u.reduce_multiindex(l_prot, levels_to_drop = 1)\n",
    "l_prot_list = list(l_prot.columns)\n",
    "\n",
    "l_del_wt = all_prot_format_df(l, l_prot_list)\n",
    "l_del_wt = l_del_wt.dropna(axis='columns', thresh=10)"
   ]
  },
  {
   "cell_type": "code",
   "execution_count": null,
   "metadata": {},
   "outputs": [],
   "source": [
    "# Differentiate duplicate column names\n",
    "cols = pd.Series(l_del_wt.columns[:])\n",
    "\n",
    "for dup in cols[cols.duplicated()].unique(): \n",
    "    cols[cols[cols == dup].index.values.tolist()] = [dup + '_' + str(i) if i != 0 else dup for i in range(sum(cols == dup))]\n",
    "\n",
    "# rename the columns with the cols list.\n",
    "l_del_wt.columns=cols"
   ]
  },
  {
   "cell_type": "code",
   "execution_count": null,
   "metadata": {},
   "outputs": [],
   "source": [
    "l_cols = list(l_del_wt.columns[:-2])\n",
    "\n",
    "# Get only sig sites\n",
    "l_sig = wrap_ttest(l_del_wt, 'Mutation', l_cols, correction_method = 'fdr_bh', min_count = min_num)\n",
    "if l_sig is not None:\n",
    "    l_sig_list = list(l_sig.Comparison)\n",
    "else: \n",
    "    l_sig_list = None\n",
    "print('significant pvals: \\n',l_sig)\n",
    "\n",
    "# Get all pvals\n",
    "l_pval = wrap_ttest(l_del_wt, 'Mutation', l_cols, return_all = True, correction_method = 'fdr_bh', min_count = min_num)\n",
    "l_pval = l_pval.rename(columns = {'Comparison': 'Proteomics','P_Value': 'Luad_P_Value'})"
   ]
  },
  {
   "cell_type": "code",
   "execution_count": null,
   "metadata": {},
   "outputs": [],
   "source": [
    "l_med = get_change_in_medians_df(l, \"Luad\", l_del_wt, l_prot_list)"
   ]
  },
  {
   "cell_type": "code",
   "execution_count": null,
   "metadata": {},
   "outputs": [],
   "source": [
    "l_merged = l_pval.merge(l_med, on='Proteomics',how='outer')\n",
    "print('total_proteins_tested =', len(l_cols))\n",
    "\n",
    "# Create csv\n",
    "l_merged.to_csv(root+R'\\luad_pval_medians.csv',index=False)\n",
    "l_merged.head()"
   ]
  },
  {
   "cell_type": "markdown",
   "metadata": {},
   "source": [
    "# Lscc"
   ]
  },
  {
   "cell_type": "code",
   "execution_count": 6,
   "metadata": {},
   "outputs": [
    {
     "name": "stderr",
     "output_type": "stream",
     "text": [
      "cptac warning: Due to dropping the specified levels, dataframe now has 858 duplicated column headers. (C:\\Users\\brittany henderson\\Anaconda3\\envs\\Research\\lib\\site-packages\\ipykernel_launcher.py, line 3)\n",
      "cptac warning: In joining the somatic_mutation table, no mutations were found for the following samples, so they were filled with Wildtype_Tumor or Wildtype_Normal: 96 samples for the PTEN gene (C:\\Users\\brittany henderson\\Anaconda3\\envs\\Research\\lib\\site-packages\\cptac\\dataset.py, line 313)\n",
      "cptac warning: In joining the somatic_mutation table, no mutations were found for the following samples, so they were filled with Wildtype_Tumor or Wildtype_Normal: 195 samples for the PTEN gene (C:\\Users\\brittany henderson\\Anaconda3\\envs\\Research\\lib\\site-packages\\ipykernel_launcher.py, line 11)\n",
      "cptac warning: Due to dropping the specified levels, dataframe now has 858 duplicated column headers. (C:\\Users\\brittany henderson\\Anaconda3\\envs\\Research\\lib\\site-packages\\ipykernel_launcher.py, line 14)\n"
     ]
    }
   ],
   "source": [
    "gene = 'PTEN'\n",
    "ls_prot = ls.get_proteomics()\n",
    "ls_prot = u.reduce_multiindex(ls_prot, levels_to_drop = 1)\n",
    "ls_prot_list = list(ls_prot.columns)\n",
    "\n",
    "ls_del_wt = all_prot_format_df(ls, ls_prot_list)\n",
    "ls_del_wt = ls_del_wt.dropna(axis='columns', thresh=10)"
   ]
  },
  {
   "cell_type": "code",
   "execution_count": 7,
   "metadata": {},
   "outputs": [],
   "source": [
    "# Differentiate duplicate column names\n",
    "cols = pd.Series(ls_del_wt.columns[:])\n",
    "\n",
    "for dup in cols[cols.duplicated()].unique(): \n",
    "    cols[cols[cols == dup].index.values.tolist()] = [dup + '_' + str(i) if i != 0 else dup for i in range(sum(cols == dup))]\n",
    "\n",
    "# rename the columns with the cols list.\n",
    "ls_del_wt.columns=cols"
   ]
  },
  {
   "cell_type": "code",
   "execution_count": 11,
   "metadata": {},
   "outputs": [],
   "source": [
    "min_num = 5"
   ]
  },
  {
   "cell_type": "code",
   "execution_count": 13,
   "metadata": {},
   "outputs": [
    {
     "name": "stdout",
     "output_type": "stream",
     "text": [
      "significant pvals: \n",
      "           Comparison   P_Value\n",
      "0   ATAD1_proteomics  0.000006\n",
      "1   BTAF1_proteomics  0.001136\n",
      "2    PTEN_proteomics  0.042649\n",
      "3  VPS26A_proteomics  0.042649\n"
     ]
    }
   ],
   "source": [
    "ls_cols = list(ls_del_wt.columns[:-2])\n",
    "\n",
    "# Get only sig sites\n",
    "ls_sig = wrap_ttest(ls_del_wt, 'Mutation', ls_cols, correction_method = 'fdr_bh', mincount = min_num)\n",
    "if ls_sig is not None:\n",
    "    ls_sig_list = list(ls_sig.Comparison)\n",
    "else: \n",
    "    ls_sig_list = None\n",
    "print('significant pvals: \\n', ls_sig)\n",
    "\n",
    "# Get all pvals\n",
    "\n",
    "ls_pval = wrap_ttest(ls_del_wt, 'Mutation', ls_cols, return_all = True, correction_method = 'fdr_bh', mincount = min_num)\n",
    "ls_pval = ls_pval.rename(columns = {'Comparison': 'Proteomics','P_Value': 'Lscc_P_Value'})"
   ]
  },
  {
   "cell_type": "code",
   "execution_count": null,
   "metadata": {},
   "outputs": [],
   "source": []
  },
  {
   "cell_type": "code",
   "execution_count": null,
   "metadata": {},
   "outputs": [],
   "source": [
    "ls_med = get_change_in_medians_df(ls, \"Lscc\", ls_del_wt, ls_prot_list)"
   ]
  },
  {
   "cell_type": "code",
   "execution_count": null,
   "metadata": {},
   "outputs": [],
   "source": [
    "ls_merged = ls_pval.merge(ls_med, on='Proteomics',how='outer')\n",
    "print('total_proteins_tested =', len(ls_cols))\n",
    "\n",
    "# Create csv\n",
    "ls_merged.to_csv(root+R'\\lscc_pval_medians.csv',index=False)\n",
    "ls_merged.head()"
   ]
  },
  {
   "cell_type": "markdown",
   "metadata": {},
   "source": [
    "# Endometrial"
   ]
  },
  {
   "cell_type": "markdown",
   "metadata": {},
   "source": [
    "The Endometrial data set does not have enough cnv deletions to perform a t-test, however the data set does have enough truncation type mutations (nonsense and frame shifts). Different code is needed to create the data frame for Endometrial."
   ]
  },
  {
   "cell_type": "code",
   "execution_count": 14,
   "metadata": {},
   "outputs": [
    {
     "name": "stdout",
     "output_type": "stream",
     "text": [
      "                                                \r"
     ]
    }
   ],
   "source": [
    "en = cptac.Endometrial()"
   ]
  },
  {
   "cell_type": "code",
   "execution_count": 24,
   "metadata": {},
   "outputs": [
    {
     "name": "stderr",
     "output_type": "stream",
     "text": [
      "cptac warning: In joining the somatic_mutation table, no mutations were found for the following samples, so they were filled with Wildtype_Tumor or Wildtype_Normal: 20 samples for the PTEN gene (C:\\Users\\brittany henderson\\Anaconda3\\envs\\Research\\lib\\site-packages\\cptac\\dataset.py, line 313)\n",
      "cptac warning: In joining the somatic_mutation table, no mutations were found for the following samples, so they were filled with Wildtype_Tumor or Wildtype_Normal: 69 samples for the PTEN gene (C:\\Users\\brittany henderson\\Anaconda3\\envs\\Research\\lib\\site-packages\\ipykernel_launcher.py, line 9)\n",
      "C:\\Users\\brittany henderson\\Anaconda3\\envs\\Research\\lib\\site-packages\\ipykernel_launcher.py:20: SettingWithCopyWarning: \n",
      "A value is trying to be set on a copy of a slice from a DataFrame.\n",
      "Try using .loc[row_indexer,col_indexer] = value instead\n",
      "\n",
      "See the caveats in the documentation: https://pandas.pydata.org/pandas-docs/stable/user_guide/indexing.html#returning-a-view-versus-a-copy\n"
     ]
    }
   ],
   "source": [
    "gene = 'PTEN'\n",
    "prot = en.get_proteomics()\n",
    "e_prot_list = list(prot.columns)\n",
    "\n",
    "mut_type = en.get_genotype_all_vars(gene)\n",
    "\n",
    "# merge cnv with genotype all mut type\n",
    "prot_and_mutations = en.join_omics_to_mutations(\n",
    "    mutations_genes = [gene], omics_df_name = 'proteomics', omics_genes = e_prot_list)\n",
    "prot_and_mutations = prot_and_mutations[prot_and_mutations.Sample_Status == \"Tumor\"] # drop Normal samples\n",
    "ip_df = prot_and_mutations.iloc[:,:-4] #drop mutation, location cols\n",
    "mut_type = mut_type[['Mutation']] \n",
    "merged = ip_df.join(mut_type) # merge mutation col from function (includes cnv)\n",
    "\n",
    "# Keep two values to compare\n",
    "compare = ['Wildtype_Tumor','Nonsense_Mutation','Frame_Shift_Ins','Frame_Shift_Del']\n",
    "get = merged['Mutation'].isin(compare)\n",
    "trunc_wt = merged[get]\n",
    "trunc_wt['Mutation'] = np.where(\n",
    "                trunc_wt['Mutation'] == 'Wildtype_Tumor', 'Wildtype_Tumor', 'Truncation')\n",
    "#trunc_wt = trunc_wt.dropna(axis = 'columns',thresh = 10)"
   ]
  },
  {
   "cell_type": "code",
   "execution_count": 25,
   "metadata": {},
   "outputs": [],
   "source": [
    "trunc_wt = trunc_wt.drop(columns='PTEN_proteomics')"
   ]
  },
  {
   "cell_type": "code",
   "execution_count": 27,
   "metadata": {},
   "outputs": [
    {
     "name": "stdout",
     "output_type": "stream",
     "text": [
      "significant pvals: \n",
      "             Comparison   P_Value\n",
      "0     NOL10_proteomics  0.000915\n",
      "1    TOPBP1_proteomics  0.001242\n",
      "2     UTP25_proteomics  0.001242\n",
      "3      ABT1_proteomics  0.001242\n",
      "4     L1CAM_proteomics  0.001590\n",
      "..                 ...       ...\n",
      "410  TFIP11_proteomics  0.048745\n",
      "411    TAF2_proteomics  0.048780\n",
      "412   YWHAE_proteomics  0.048805\n",
      "413    KLC4_proteomics  0.048898\n",
      "414  SEC24C_proteomics  0.048898\n",
      "\n",
      "[415 rows x 2 columns]\n"
     ]
    },
    {
     "ename": "TypeError",
     "evalue": "wrap_ttest() got an unexpected keyword argument 'mincount'",
     "output_type": "error",
     "traceback": [
      "\u001b[1;31m---------------------------------------------------------------------------\u001b[0m",
      "\u001b[1;31mTypeError\u001b[0m                                 Traceback (most recent call last)",
      "\u001b[1;32m<ipython-input-27-c1c28b64192b>\u001b[0m in \u001b[0;36m<module>\u001b[1;34m\u001b[0m\n\u001b[0;32m     10\u001b[0m \u001b[1;33m\u001b[0m\u001b[0m\n\u001b[0;32m     11\u001b[0m \u001b[1;31m# Get all pvals\u001b[0m\u001b[1;33m\u001b[0m\u001b[1;33m\u001b[0m\u001b[1;33m\u001b[0m\u001b[0m\n\u001b[1;32m---> 12\u001b[1;33m \u001b[0me_pval\u001b[0m \u001b[1;33m=\u001b[0m \u001b[0mu\u001b[0m\u001b[1;33m.\u001b[0m\u001b[0mwrap_ttest\u001b[0m\u001b[1;33m(\u001b[0m\u001b[0mtrunc_wt\u001b[0m\u001b[1;33m,\u001b[0m \u001b[1;34m'Mutation'\u001b[0m\u001b[1;33m,\u001b[0m \u001b[0me_cols\u001b[0m\u001b[1;33m,\u001b[0m \u001b[0mreturn_all\u001b[0m \u001b[1;33m=\u001b[0m \u001b[1;32mTrue\u001b[0m\u001b[1;33m,\u001b[0m \u001b[0mcorrection_method\u001b[0m \u001b[1;33m=\u001b[0m \u001b[1;34m'fdr_bh'\u001b[0m\u001b[1;33m,\u001b[0m \u001b[0mmincount\u001b[0m \u001b[1;33m=\u001b[0m \u001b[1;36m5\u001b[0m\u001b[1;33m)\u001b[0m\u001b[1;33m\u001b[0m\u001b[1;33m\u001b[0m\u001b[0m\n\u001b[0m\u001b[0;32m     13\u001b[0m \u001b[0me_pval\u001b[0m \u001b[1;33m=\u001b[0m \u001b[0me_pval\u001b[0m\u001b[1;33m.\u001b[0m\u001b[0mrename\u001b[0m\u001b[1;33m(\u001b[0m\u001b[0mcolumns\u001b[0m \u001b[1;33m=\u001b[0m \u001b[1;33m{\u001b[0m\u001b[1;34m'Comparison'\u001b[0m\u001b[1;33m:\u001b[0m \u001b[1;34m'Proteomics'\u001b[0m\u001b[1;33m,\u001b[0m\u001b[1;34m'P_Value'\u001b[0m\u001b[1;33m:\u001b[0m \u001b[1;34m'En_P_Value'\u001b[0m\u001b[1;33m}\u001b[0m\u001b[1;33m)\u001b[0m\u001b[1;33m\u001b[0m\u001b[1;33m\u001b[0m\u001b[0m\n",
      "\u001b[1;31mTypeError\u001b[0m: wrap_ttest() got an unexpected keyword argument 'mincount'"
     ]
    }
   ],
   "source": [
    "e_cols = list(trunc_wt.columns[:-1])\n",
    "\n",
    "# Get only sig sites\n",
    "e_sig = wrap_ttest(trunc_wt, 'Mutation', e_cols, correction_method = 'fdr_bh', mincount=5)\n",
    "if e_sig is not None:\n",
    "    e_sig_list = list(e_sig.Comparison)\n",
    "else: \n",
    "    e_sig_list = None\n",
    "print('significant pvals: \\n',e_sig)\n",
    "\n",
    "# Get all pvals\n",
    "e_pval = u.wrap_ttest(trunc_wt, 'Mutation', e_cols, return_all = True, correction_method = 'fdr_bh', mincount = 5)\n",
    "e_pval = e_pval.rename(columns = {'Comparison': 'Proteomics','P_Value': 'En_P_Value'})"
   ]
  },
  {
   "cell_type": "markdown",
   "metadata": {},
   "source": [
    "Differences in median with adaption to trunctation mutations."
   ]
  },
  {
   "cell_type": "code",
   "execution_count": null,
   "metadata": {},
   "outputs": [],
   "source": [
    "t = trunc_wt[trunc_wt.Mutation == \"Truncation\"]\n",
    "wt = trunc_wt[trunc_wt.Mutation == \"Wildtype_Tumor\"]\n",
    "trunc_med = t.median()\n",
    "wt_med = wt.median()\n",
    "\n",
    "en_d = {}\n",
    "\n",
    "for prot in e_prot_list:\n",
    "    if prot+'_proteomics' in trunc_med.index and prot+'_proteomics' in wt_med.index:\n",
    "        dif = trunc_med[prot+'_proteomics'] - wt_med[prot+'_proteomics']\n",
    "        en_d[prot+'_proteomics'] = dif\n",
    "\n",
    "en_med = pd.DataFrame.from_dict(en_d, orient='index', columns=['En_Median'])\n",
    "en_med = en_med.reset_index().rename(columns={'index':'Proteomics'})"
   ]
  },
  {
   "cell_type": "code",
   "execution_count": null,
   "metadata": {},
   "outputs": [],
   "source": [
    "e_merged = e_pval.merge(en_med, on='Proteomics',how='outer')\n",
    "print('total_proteins_tested =', len(e_cols))\n",
    "\n",
    "# Create csv\n",
    "e_merged.to_csv(root+R'\\endo_pval_medians.csv',index=False)\n",
    "e_merged"
   ]
  },
  {
   "cell_type": "markdown",
   "metadata": {},
   "source": [
    "# Get a list of significant genes in at least one cancer"
   ]
  },
  {
   "cell_type": "code",
   "execution_count": null,
   "metadata": {},
   "outputs": [],
   "source": [
    "# Keep only genes significant in > 1 cancer\n",
    "all_sig = []\n",
    "\n",
    "sig_lists = [g_sig_list, e_sig_list, b_sig_list, o_sig_list, c_sig_list, h_sig_list, l_sig_list, ls_sig_list]\n",
    "\n",
    "for next_list in sig_lists:\n",
    "    if next_list is not None:\n",
    "        all_sig.append(next_list)\n",
    "        \n",
    "\n",
    "flat_list = [item for sublist in all_sig for item in sublist] #change list of lists, to just one list\n",
    "sig = list(set(flat_list)) # remove duplicates\n",
    "print('Number of significant in >= 1 cancer:', len(sig))"
   ]
  },
  {
   "cell_type": "code",
   "execution_count": null,
   "metadata": {},
   "outputs": [],
   "source": [
    "s = pd.Series(sig)\n",
    "s = s.replace(to_replace = r'_proteomics$', value = '', regex = True)\n",
    "s.to_csv(root+R'\\list_sig_one_cancer.csv', index=False)"
   ]
  },
  {
   "cell_type": "markdown",
   "metadata": {},
   "source": [
    "# Get a list of significant genes in multiple cancers"
   ]
  },
  {
   "cell_type": "code",
   "execution_count": null,
   "metadata": {},
   "outputs": [],
   "source": [
    "# sig in multiple (more than 1) cancers\n",
    "mult = list(set(i for i in flat_list if flat_list.count(i) > 1)) # Keep genes sig in more than 1 cancer\n",
    "print('Number of significant in mult cancers:', len(mult))\n"
   ]
  },
  {
   "cell_type": "code",
   "execution_count": null,
   "metadata": {},
   "outputs": [],
   "source": [
    "m = pd.Series(mult)\n",
    "m = m.replace(to_replace = r'_proteomics$', value = '', regex = True)\n",
    "m.to_csv(root+R'\\list_sig_multiple_cancers.csv', index=False)"
   ]
  },
  {
   "cell_type": "markdown",
   "metadata": {},
   "source": [
    "# Number of significant comparisons for each cancer"
   ]
  },
  {
   "cell_type": "code",
   "execution_count": null,
   "metadata": {},
   "outputs": [],
   "source": [
    "sig_dict = {'Gbm': g_sig_list, 'En': e_sig_list, 'Brca': b_sig_list, 'Ov': o_sig_list, 'Colon': c_sig_list,\n",
    "            'Hnscc': h_sig_list, 'Luad': l_sig_list, 'Lscc': ls_sig_list}\n",
    "print('Number of significant tests:\\n')\n",
    "\n",
    "for cancer in sig_dict:\n",
    "    if sig_dict[cancer] is not None: \n",
    "        print(cancer+':', len(sig_dict[cancer]), '\\n')\n",
    "    "
   ]
  },
  {
   "cell_type": "markdown",
   "metadata": {},
   "source": [
    "# Total proteins tested"
   ]
  },
  {
   "cell_type": "code",
   "execution_count": null,
   "metadata": {},
   "outputs": [],
   "source": [
    "protein_dict = {'Gbm': len(g_cols), 'En': len(e_cols), 'Brca': len(b_cols), 'Ov': len(o_cols), 'Colon': len(c_cols),\n",
    "            'Hnscc': len(h_cols), 'Luad': len(l_cols), 'Lscc': len(ls_cols)}\n",
    "\n",
    "print('Total proteins tested (protein dropped if < 10 samples with nonNaN data)\\n')\n",
    "\n",
    "for cancer in protein_dict:\n",
    "    if protein_dict[cancer] is not None: \n",
    "        print(cancer+':', protein_dict[cancer], '\\n')"
   ]
  },
  {
   "cell_type": "markdown",
   "metadata": {},
   "source": [
    "# Lowest p-value accepted "
   ]
  },
  {
   "cell_type": "code",
   "execution_count": null,
   "metadata": {},
   "outputs": [],
   "source": [
    "low_pval_dict = {'Gbm': g_sig['P_Value'].iloc[-1], 'En': e_sig['P_Value'].iloc[-1], 'Brca': b_sig['P_Value'].iloc[-1], \n",
    "                 'Ov': o_sig['P_Value'].iloc[-1], 'Hnscc': h_sig['P_Value'].iloc[-1], \n",
    "                 'Luad': l_sig['P_Value'].iloc[-1], 'Lscc': ls_sig['P_Value'].iloc[-1]}\n",
    "\n",
    "print('Lowest p-value accepted using FDR_BH correction method: \\n')\n",
    "\n",
    "for cancer in low_pval_dict:\n",
    "    print(cancer, ':', low_pval_dict[cancer], '\\n')\n"
   ]
  },
  {
   "cell_type": "code",
   "execution_count": null,
   "metadata": {},
   "outputs": [],
   "source": []
  }
 ],
 "metadata": {
  "kernelspec": {
   "display_name": "Python 3",
   "language": "python",
   "name": "python3"
  },
  "language_info": {
   "codemirror_mode": {
    "name": "ipython",
    "version": 3
   },
   "file_extension": ".py",
   "mimetype": "text/x-python",
   "name": "python",
   "nbconvert_exporter": "python",
   "pygments_lexer": "ipython3",
   "version": "3.7.3"
  }
 },
 "nbformat": 4,
 "nbformat_minor": 2
}
