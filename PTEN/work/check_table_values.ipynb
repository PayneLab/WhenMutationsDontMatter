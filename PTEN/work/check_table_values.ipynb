{
 "cells": [
  {
   "cell_type": "markdown",
   "metadata": {},
   "source": [
    "# Check num sig genes, pvals, and change in medians in csv files"
   ]
  },
  {
   "cell_type": "markdown",
   "metadata": {},
   "source": [
    "Check values in all_proteins.csv and all_heatmap.csv (sig_pval_heatmap.csv and mult_sig_pval_heatmap.csv are derived from all_heatmap.csv)."
   ]
  },
  {
   "cell_type": "code",
   "execution_count": 206,
   "metadata": {},
   "outputs": [],
   "source": [
    "import pandas as pd\n",
    "import numpy as np\n",
    "import seaborn as sns\n",
    "import matplotlib.pyplot as plt\n",
    "import scipy.stats\n",
    "import gseapy as gp\n",
    "import re\n",
    "import sys \n",
    "import math\n",
    "\n",
    "import cptac\n",
    "import cptac.utils as u"
   ]
  },
  {
   "cell_type": "code",
   "execution_count": 420,
   "metadata": {},
   "outputs": [],
   "source": [
    "# Returns a dataframe with proteomics and mutation type\n",
    "\n",
    "# all_prot: list of trans genes\n",
    "\n",
    "def all_prot_format_df(cancer_object, all_prot, gene_in = 'PTEN', utils = u):\n",
    "    mut_type = cancer_object.get_genotype_all_vars(gene_in)\n",
    "    \n",
    "    if cancer_object.get_cancer_type() not in ('luad', 'endometrial'):\n",
    "        # Keep only tumor samples from proteomics\n",
    "        prot_and_mutations = cancer_object.join_omics_to_mutations(\n",
    "            mutations_genes = [gene_in], omics_df_name = 'proteomics', omics_genes = all_prot, tissue_type = 'tumor')\n",
    "        # Reduce a multiindex \n",
    "        if isinstance(prot_and_mutations.keys(), pd.core.indexes.multi.MultiIndex):\n",
    "            prot_and_mutations = utils.reduce_multiindex(prot_and_mutations, levels_to_drop = 1)\n",
    "            prot_and_mutations = rename_duplicate_cols(prot_and_mutations)\n",
    "        \n",
    "        # Merge Mutation column from get_genotype_all_vars (includes cnv) with proteomics\n",
    "        mut_type = mut_type[['Mutation']] \n",
    "        prot_df = prot_and_mutations.iloc[:,:-4] # Keep only proteomics\n",
    "        merged = prot_df.join(mut_type)\n",
    "        \n",
    "        # Keep only Wildtype and deletion\n",
    "        compare = ['Wildtype_Tumor','Deletion']\n",
    "        get = merged['Mutation'].isin(compare)\n",
    "        mut_wt = merged[get]\n",
    "    \n",
    "    \n",
    "    # Luad has no somatic mutations for PTEN which changes some things\n",
    "    elif cancer_object.get_cancer_type() in ('luad'): \n",
    "        # get_genotype_all_vars add cnv data under the column PTEN\n",
    "        mut_type = mut_type.drop(columns= gene_in)\n",
    "        # different code because no somatic mutation data for pten (can't join to somatic mutations)\n",
    "        omics = cancer_object.join_omics_to_omics(df1_name = 'CNV', df2_name='proteomics',genes1= gene_in, \n",
    "            genes2= all_prot, tissue_type = 'tumor')\n",
    "        omics = utils.reduce_multiindex(omics, levels_to_drop = 1, flatten = True)\n",
    "        omics = rename_duplicate_cols(omics)\n",
    "        omics = omics.drop(columns='PTEN_CNV')\n",
    "        # Get only tumor samples\n",
    "        p = cancer_object.get_proteomics(tissue_type='tumor')\n",
    "        tumor_ids = list(p.index)\n",
    "        get = omics.index.isin(tumor_ids)\n",
    "        omics = omics[get]\n",
    "        # Merge Mutation column from get_genotype_all_vars (includes cnv) with proteomics\n",
    "        merged = omics.join(mut_type) \n",
    "        # Keep only No_Mutation (wildtype) and deletion\n",
    "        compare = ['No_Mutation','Deletion']\n",
    "        get = merged['Mutation'].isin(compare)\n",
    "        mut_wt = merged[get]\n",
    "        mut_wt['Mutation'] = np.where(\n",
    "            mut_wt['Mutation'] == 'No_Mutation', 'Wildtype_Tumor', 'Deletion')\n",
    "    \n",
    "    elif cancer_object.get_cancer_type() in ('endometrial'):\n",
    "        # Keep only tumor samples from proteomics\n",
    "        prot_and_mutations = cancer_object.join_omics_to_mutations(\n",
    "            mutations_genes = [gene_in], omics_df_name = 'proteomics', omics_genes = all_prot,\n",
    "            tissue_type = 'tumor') # drop Normal samples\n",
    "        \n",
    "        # Reduce a multiindex \n",
    "        if isinstance(prot_and_mutations.keys(), pd.core.indexes.multi.MultiIndex):\n",
    "            prot_and_mutations = utils.reduce_multiindex(prot_and_mutations, levels_to_drop = 1)\n",
    "            prot_and_mutations = rename_duplicate_cols(prot_and_mutations)\n",
    "\n",
    "        # Merge Mutation column from get_genotype_all_vars (includes cnv) with proteomics\n",
    "        mut_type = mut_type[['Mutation']] \n",
    "        prot_df = prot_and_mutations.iloc[:,:-4] # Keep only proteomics\n",
    "        merged = prot_df.join(mut_type)\n",
    "        \n",
    "        # Keep two values to compare\n",
    "        compare = ['Wildtype_Tumor','Nonsense_Mutation','Frame_Shift_Ins','Frame_Shift_Del']\n",
    "        get = merged['Mutation'].isin(compare)\n",
    "        mut_wt = merged[get]\n",
    "        mut_wt['Mutation'] = np.where(\n",
    "                        mut_wt['Mutation'] == 'Wildtype_Tumor', 'Wildtype_Tumor', 'Truncation')\n",
    "    \n",
    "    mut_wt = mut_wt.rename(columns={col: re.sub(r'_proteomics', '', col) for col in mut_wt.columns.tolist()})\n",
    "    return mut_wt\n"
   ]
  },
  {
   "cell_type": "code",
   "execution_count": 432,
   "metadata": {},
   "outputs": [],
   "source": [
    "'''\n",
    "Params\n",
    "cancer_object: Object. Variable for the loaded cancer data set.\n",
    "cancer_name: Str. name to add to the created dataframe.\n",
    "del_wt_df: DataFrame. Only samples with deletions and wildtype for PTEN. \n",
    "all_prot_list: List. All proteins in proteomics data frame. \n",
    "\n",
    "Returns a dataframe with the difference in medians between proteomics with PTEN wt and del (wt - del). \n",
    "'''\n",
    "\n",
    "def get_change_in_medians_df(cancer_object, cancer_name, del_wt_df, all_prot_list):\n",
    "    if  cancer_object.get_cancer_type() in ('endometrial'):\n",
    "        d = del_wt_df[del_wt_df.Mutation == \"Truncation\"]\n",
    "        wt = del_wt_df[del_wt_df.Mutation == \"Wildtype_Tumor\"]\n",
    "    else:\n",
    "        d = del_wt_df[del_wt_df.Mutation == \"Deletion\"]\n",
    "        wt = del_wt_df[del_wt_df.Mutation == \"Wildtype_Tumor\"]\n",
    "    del_med = d.median()\n",
    "    wt_med = wt.median()\n",
    "\n",
    "    med_dict = {}\n",
    "    \n",
    "    # Correlation: + is mutant up compared to wt, - is mutant down\n",
    "    for prot in all_prot_list:\n",
    "        if prot in del_med.index and prot in wt_med.index:\n",
    "            dif = del_med[prot] - wt_med[prot]\n",
    "            med_dict[prot] = dif\n",
    "        \n",
    "    df = pd.DataFrame.from_dict(med_dict, orient='index', columns=[cancer_name+'_Median'])\n",
    "    df = df.reset_index().rename(columns={'index':'Proteomics'})\n",
    "    \n",
    "    return df\n",
    "        "
   ]
  },
  {
   "cell_type": "code",
   "execution_count": 354,
   "metadata": {},
   "outputs": [],
   "source": [
    "# Adds '_i' to duplicate col names where i is a number (increases with each duplicate)\n",
    "\n",
    "def rename_duplicate_cols(df):\n",
    "    cols = pd.Series(df.columns[:])\n",
    "\n",
    "    for dup in cols[cols.duplicated()].unique(): \n",
    "        cols[cols[cols == dup].index.values.tolist()] = [dup + '_' + str(i) if i != 0 else dup for i in range(sum(cols == dup))]\n",
    "\n",
    "    # rename the columns with the cols list.\n",
    "    df.columns=cols\n",
    "    return df"
   ]
  },
  {
   "cell_type": "markdown",
   "metadata": {},
   "source": [
    "#  Step 1: Create Data frames with p-values and differences in median"
   ]
  },
  {
   "cell_type": "markdown",
   "metadata": {},
   "source": [
    "Each cancer needs a data frame containing only samples that have PTEN cnv deletions and PTEN wildtype with trans proteomics. Use wrap_ttest to run many T-tests for all genes in the proteomics data frame. Use get_change_in_medians_df to create the data frame with change in median values. Merge both data frames. "
   ]
  },
  {
   "cell_type": "markdown",
   "metadata": {},
   "source": [
    "Load in cancer data sets from cptac. "
   ]
  },
  {
   "cell_type": "code",
   "execution_count": 4,
   "metadata": {},
   "outputs": [
    {
     "name": "stdout",
     "output_type": "stream",
     "text": [
      "Checking that endometrial index is up-to-date...\r"
     ]
    },
    {
     "name": "stderr",
     "output_type": "stream",
     "text": [
      "cptac warning: The GBM dataset is under publication embargo until March 01, 2021. CPTAC is a community resource project and data are made available rapidly after generation for community research use. The embargo allows exploring and utilizing the data, but analysis may not be published until after the embargo date. Please see https://proteomics.cancer.gov/data-portal/about/data-use-agreement or enter cptac.embargo() to open the webpage for more details. (C:\\Users\\brittany henderson\\Anaconda3\\envs\\Research\\lib\\site-packages\\ipykernel_launcher.py, line 1)\n"
     ]
    },
    {
     "name": "stdout",
     "output_type": "stream",
     "text": [
      "Checking that luad index is up-to-date...       \r"
     ]
    },
    {
     "name": "stderr",
     "output_type": "stream",
     "text": [
      "cptac warning: The HNSCC data is currently strictly reserved for CPTAC investigators. Otherwise, you are not authorized to access these data. Additionally, even after these data become publicly available, they will be subject to a publication embargo (see https://proteomics.cancer.gov/data-portal/about/data-use-agreement or enter cptac.embargo() to open the webpage for more details). (C:\\Users\\brittany henderson\\Anaconda3\\envs\\Research\\lib\\site-packages\\ipykernel_launcher.py, line 3)\n"
     ]
    },
    {
     "name": "stdout",
     "output_type": "stream",
     "text": [
      "Checking that ovarian index is up-to-date...\r"
     ]
    },
    {
     "name": "stderr",
     "output_type": "stream",
     "text": [
      "cptac warning: The LSCC data is currently strictly reserved for CPTAC investigators. Otherwise, you are not authorized to access these data. Additionally, even after these data become publicly available, they will be subject to a publication embargo (see https://proteomics.cancer.gov/data-portal/about/data-use-agreement or enter cptac.embargo() to open the webpage for more details). (C:\\Users\\brittany henderson\\Anaconda3\\envs\\Research\\lib\\site-packages\\ipykernel_launcher.py, line 5)\n"
     ]
    },
    {
     "name": "stdout",
     "output_type": "stream",
     "text": [
      "                                            \r"
     ]
    }
   ],
   "source": [
    "g = cptac.Gbm()\n",
    "en = cptac.Endometrial()\n",
    "h = cptac.Hnscc()\n",
    "l = cptac.Luad()\n",
    "ls = cptac.Lscc()\n",
    "o = cptac.Ovarian()\n",
    "col = cptac.Colon()\n",
    "b = cptac.Brca()"
   ]
  },
  {
   "cell_type": "code",
   "execution_count": 73,
   "metadata": {},
   "outputs": [],
   "source": [
    "# Tables to check\n",
    "all_proteins = pd.read_csv(r'../Make_Tables/csv/all_proteins.csv')\n",
    "all_heatmap = pd.read_csv(r'../Make_Tables/csv/all_heatmap.csv') \n",
    "# sig_pval_heatmap and mult_sig_pval_heatmap derived from all_heatmap"
   ]
  },
  {
   "cell_type": "markdown",
   "metadata": {},
   "source": [
    "# Test cancers"
   ]
  },
  {
   "cell_type": "markdown",
   "metadata": {},
   "source": [
    "Part 1: Format data frame using all_prot_format_df. This returns a dataframe with proteomics and a Mutation column containing only PTEN cnv deletions and wildtype tumors. "
   ]
  },
  {
   "cell_type": "code",
   "execution_count": 418,
   "metadata": {},
   "outputs": [
    {
     "name": "stderr",
     "output_type": "stream",
     "text": [
      "cptac warning: Due to dropping the specified levels, dataframe now has 858 duplicated column headers. (C:\\Users\\brittany henderson\\Anaconda3\\envs\\Research\\lib\\site-packages\\ipykernel_launcher.py, line 9)\n",
      "cptac warning: In joining the somatic_mutation table, no mutations were found for the following samples, so they were filled with Wildtype_Tumor or Wildtype_Normal: 96 samples for the PTEN gene (C:\\Users\\brittany henderson\\Anaconda3\\envs\\Research\\lib\\site-packages\\cptac\\dataset.py, line 313)\n",
      "cptac warning: In joining the somatic_mutation table, no mutations were found for the following samples, so they were filled with Wildtype_Tumor or Wildtype_Normal: 96 samples for the PTEN gene (C:\\Users\\brittany henderson\\Anaconda3\\envs\\Research\\lib\\site-packages\\ipykernel_launcher.py, line 11)\n",
      "cptac warning: Due to dropping the specified levels, dataframe now has 858 duplicated column headers. (C:\\Users\\brittany henderson\\Anaconda3\\envs\\Research\\lib\\site-packages\\ipykernel_launcher.py, line 14)\n"
     ]
    },
    {
     "data": {
      "text/html": [
       "<div>\n",
       "<style scoped>\n",
       "    .dataframe tbody tr th:only-of-type {\n",
       "        vertical-align: middle;\n",
       "    }\n",
       "\n",
       "    .dataframe tbody tr th {\n",
       "        vertical-align: top;\n",
       "    }\n",
       "\n",
       "    .dataframe thead th {\n",
       "        text-align: right;\n",
       "    }\n",
       "</style>\n",
       "<table border=\"1\" class=\"dataframe\">\n",
       "  <thead>\n",
       "    <tr style=\"text-align: right;\">\n",
       "      <th>Name</th>\n",
       "      <th>A1BG</th>\n",
       "      <th>A2M</th>\n",
       "      <th>A2ML1</th>\n",
       "      <th>A4GALT</th>\n",
       "      <th>AAAS</th>\n",
       "      <th>AACS</th>\n",
       "      <th>AADAC</th>\n",
       "      <th>AAED1</th>\n",
       "      <th>AAGAB</th>\n",
       "      <th>AAK1</th>\n",
       "      <th>...</th>\n",
       "      <th>ZSWIM9</th>\n",
       "      <th>ZW10</th>\n",
       "      <th>ZWILCH</th>\n",
       "      <th>ZWINT</th>\n",
       "      <th>ZXDC</th>\n",
       "      <th>ZYG11B</th>\n",
       "      <th>ZYX</th>\n",
       "      <th>ZZEF1</th>\n",
       "      <th>ZZZ3</th>\n",
       "      <th>Mutation</th>\n",
       "    </tr>\n",
       "    <tr>\n",
       "      <th>Patient_ID</th>\n",
       "      <th></th>\n",
       "      <th></th>\n",
       "      <th></th>\n",
       "      <th></th>\n",
       "      <th></th>\n",
       "      <th></th>\n",
       "      <th></th>\n",
       "      <th></th>\n",
       "      <th></th>\n",
       "      <th></th>\n",
       "      <th></th>\n",
       "      <th></th>\n",
       "      <th></th>\n",
       "      <th></th>\n",
       "      <th></th>\n",
       "      <th></th>\n",
       "      <th></th>\n",
       "      <th></th>\n",
       "      <th></th>\n",
       "      <th></th>\n",
       "      <th></th>\n",
       "    </tr>\n",
       "  </thead>\n",
       "  <tbody>\n",
       "    <tr>\n",
       "      <th>C3L-00081</th>\n",
       "      <td>-3.1102</td>\n",
       "      <td>-6.4487</td>\n",
       "      <td>-1.1714</td>\n",
       "      <td>0.2660</td>\n",
       "      <td>0.7587</td>\n",
       "      <td>-0.5222</td>\n",
       "      <td>-6.2401</td>\n",
       "      <td>0.7268</td>\n",
       "      <td>0.9413</td>\n",
       "      <td>0.0487</td>\n",
       "      <td>...</td>\n",
       "      <td>NaN</td>\n",
       "      <td>0.5240</td>\n",
       "      <td>0.8369</td>\n",
       "      <td>NaN</td>\n",
       "      <td>1.8136</td>\n",
       "      <td>-0.1484</td>\n",
       "      <td>-0.7831</td>\n",
       "      <td>-0.5483</td>\n",
       "      <td>-0.5135</td>\n",
       "      <td>Deletion</td>\n",
       "    </tr>\n",
       "    <tr>\n",
       "      <th>C3L-00415</th>\n",
       "      <td>-2.6522</td>\n",
       "      <td>-4.5841</td>\n",
       "      <td>6.3064</td>\n",
       "      <td>NaN</td>\n",
       "      <td>0.2618</td>\n",
       "      <td>2.7781</td>\n",
       "      <td>6.6933</td>\n",
       "      <td>-0.2847</td>\n",
       "      <td>-0.0385</td>\n",
       "      <td>-0.2198</td>\n",
       "      <td>...</td>\n",
       "      <td>0.6812</td>\n",
       "      <td>0.2781</td>\n",
       "      <td>-0.5418</td>\n",
       "      <td>NaN</td>\n",
       "      <td>0.7894</td>\n",
       "      <td>-0.6121</td>\n",
       "      <td>-1.5266</td>\n",
       "      <td>0.1942</td>\n",
       "      <td>-0.0953</td>\n",
       "      <td>Deletion</td>\n",
       "    </tr>\n",
       "    <tr>\n",
       "      <th>C3L-00445</th>\n",
       "      <td>-0.6754</td>\n",
       "      <td>-3.6368</td>\n",
       "      <td>-5.2459</td>\n",
       "      <td>2.5505</td>\n",
       "      <td>0.2253</td>\n",
       "      <td>1.7921</td>\n",
       "      <td>-0.9698</td>\n",
       "      <td>-1.8080</td>\n",
       "      <td>1.7646</td>\n",
       "      <td>-0.1414</td>\n",
       "      <td>...</td>\n",
       "      <td>NaN</td>\n",
       "      <td>0.5222</td>\n",
       "      <td>1.4278</td>\n",
       "      <td>2.7775</td>\n",
       "      <td>1.4203</td>\n",
       "      <td>0.7517</td>\n",
       "      <td>-0.8849</td>\n",
       "      <td>-0.7053</td>\n",
       "      <td>0.7442</td>\n",
       "      <td>Wildtype_Tumor</td>\n",
       "    </tr>\n",
       "    <tr>\n",
       "      <th>C3L-00568</th>\n",
       "      <td>-1.9178</td>\n",
       "      <td>-3.4358</td>\n",
       "      <td>-6.3256</td>\n",
       "      <td>-0.9436</td>\n",
       "      <td>0.6271</td>\n",
       "      <td>2.2628</td>\n",
       "      <td>-5.1120</td>\n",
       "      <td>-0.0101</td>\n",
       "      <td>1.5890</td>\n",
       "      <td>0.6312</td>\n",
       "      <td>...</td>\n",
       "      <td>0.0548</td>\n",
       "      <td>1.4713</td>\n",
       "      <td>2.5429</td>\n",
       "      <td>0.6555</td>\n",
       "      <td>-0.3754</td>\n",
       "      <td>-0.5175</td>\n",
       "      <td>-0.8949</td>\n",
       "      <td>0.3471</td>\n",
       "      <td>0.4404</td>\n",
       "      <td>Deletion</td>\n",
       "    </tr>\n",
       "    <tr>\n",
       "      <th>C3L-00603</th>\n",
       "      <td>-1.7088</td>\n",
       "      <td>-1.6799</td>\n",
       "      <td>-4.8142</td>\n",
       "      <td>NaN</td>\n",
       "      <td>0.8370</td>\n",
       "      <td>1.4581</td>\n",
       "      <td>-2.0167</td>\n",
       "      <td>-1.5169</td>\n",
       "      <td>0.1562</td>\n",
       "      <td>0.2286</td>\n",
       "      <td>...</td>\n",
       "      <td>-0.1679</td>\n",
       "      <td>1.3386</td>\n",
       "      <td>3.0732</td>\n",
       "      <td>0.4694</td>\n",
       "      <td>1.3476</td>\n",
       "      <td>-0.0376</td>\n",
       "      <td>-1.2996</td>\n",
       "      <td>0.1218</td>\n",
       "      <td>0.5527</td>\n",
       "      <td>Wildtype_Tumor</td>\n",
       "    </tr>\n",
       "  </tbody>\n",
       "</table>\n",
       "<p>5 rows × 11575 columns</p>\n",
       "</div>"
      ],
      "text/plain": [
       "Name          A1BG     A2M   A2ML1  A4GALT    AAAS    AACS   AADAC   AAED1  \\\n",
       "Patient_ID                                                                   \n",
       "C3L-00081  -3.1102 -6.4487 -1.1714  0.2660  0.7587 -0.5222 -6.2401  0.7268   \n",
       "C3L-00415  -2.6522 -4.5841  6.3064     NaN  0.2618  2.7781  6.6933 -0.2847   \n",
       "C3L-00445  -0.6754 -3.6368 -5.2459  2.5505  0.2253  1.7921 -0.9698 -1.8080   \n",
       "C3L-00568  -1.9178 -3.4358 -6.3256 -0.9436  0.6271  2.2628 -5.1120 -0.0101   \n",
       "C3L-00603  -1.7088 -1.6799 -4.8142     NaN  0.8370  1.4581 -2.0167 -1.5169   \n",
       "\n",
       "Name         AAGAB    AAK1  ...  ZSWIM9    ZW10  ZWILCH   ZWINT    ZXDC  \\\n",
       "Patient_ID                  ...                                           \n",
       "C3L-00081   0.9413  0.0487  ...     NaN  0.5240  0.8369     NaN  1.8136   \n",
       "C3L-00415  -0.0385 -0.2198  ...  0.6812  0.2781 -0.5418     NaN  0.7894   \n",
       "C3L-00445   1.7646 -0.1414  ...     NaN  0.5222  1.4278  2.7775  1.4203   \n",
       "C3L-00568   1.5890  0.6312  ...  0.0548  1.4713  2.5429  0.6555 -0.3754   \n",
       "C3L-00603   0.1562  0.2286  ... -0.1679  1.3386  3.0732  0.4694  1.3476   \n",
       "\n",
       "Name        ZYG11B     ZYX   ZZEF1    ZZZ3        Mutation  \n",
       "Patient_ID                                                  \n",
       "C3L-00081  -0.1484 -0.7831 -0.5483 -0.5135        Deletion  \n",
       "C3L-00415  -0.6121 -1.5266  0.1942 -0.0953        Deletion  \n",
       "C3L-00445   0.7517 -0.8849 -0.7053  0.7442  Wildtype_Tumor  \n",
       "C3L-00568  -0.5175 -0.8949  0.3471  0.4404        Deletion  \n",
       "C3L-00603  -0.0376 -1.2996  0.1218  0.5527  Wildtype_Tumor  \n",
       "\n",
       "[5 rows x 11575 columns]"
      ]
     },
     "execution_count": 418,
     "metadata": {},
     "output_type": "execute_result"
    }
   ],
   "source": [
    "# Replace with cancer of choice\n",
    "# Names in csv to use for cancer variable: 'Gbm', 'Hnscc', 'Lscc', 'Luad', 'Brca', 'Ov', 'En', 'Colon'\n",
    "cancer = 'Lscc'\n",
    "cancer_obj = ls\n",
    "\n",
    "gene = 'PTEN'\n",
    "prot = cancer_obj.get_proteomics()\n",
    "if isinstance(prot.keys(), pd.core.indexes.multi.MultiIndex):\n",
    "    prot = u.reduce_multiindex(prot, levels_to_drop = 1)\n",
    "\n",
    "prot = prot.drop(columns = 'PTEN') # cis effect\n",
    "prot_list = list(prot.columns)\n",
    "\n",
    "del_wt = all_prot_format_df(cancer_obj, prot_list)\n",
    "del_wt.head()"
   ]
  },
  {
   "cell_type": "markdown",
   "metadata": {},
   "source": [
    "Part 2: Run T-tests. Create a data frame of just significant comparisons and another data frame for all comparisons. A moderately stringent correction is used (FDR_BH)."
   ]
  },
  {
   "cell_type": "code",
   "execution_count": 419,
   "metadata": {},
   "outputs": [],
   "source": [
    "prot_and_isoforms = list(del_wt[:-1])\n",
    "\n",
    "# Get all pvals\n",
    "pval = u.wrap_ttest(del_wt, 'Mutation', prot_and_isoforms, return_all = True, \n",
    "                    correction_method = 'fdr_bh', pval_return_corrected = True, mincount = 5)"
   ]
  },
  {
   "cell_type": "code",
   "execution_count": 431,
   "metadata": {},
   "outputs": [
    {
     "name": "stdout",
     "output_type": "stream",
     "text": [
      "Num sig genes for Lscc: 3\n",
      "Sig counts match\n"
     ]
    }
   ],
   "source": [
    "# Check num sig genes \n",
    "sig = pval.loc[pval['P_Value'] < 0.05]\n",
    "print('Num sig genes for '+cancer+':', len(sig))\n",
    "\n",
    "check_count = {'Gbm': 1900, 'Hnscc': 570, 'En':415, 'Luad': 111, 'Lscc': 3, 'Ov': 1, 'Brca': 0, 'Colon': 0}\n",
    "if check_count[cancer] == len(sig):\n",
    "    print('Sig counts match')\n",
    "else:\n",
    "    print('Different counts')"
   ]
  },
  {
   "cell_type": "markdown",
   "metadata": {},
   "source": [
    "Part 3: Create the differences in median df. (median of wildtype tumors - median of cnv deletions)"
   ]
  },
  {
   "cell_type": "code",
   "execution_count": 448,
   "metadata": {},
   "outputs": [],
   "source": [
    "prot_and_isoforms = list(del_wt[:-1])\n",
    "med = get_change_in_medians_df(cancer_obj, cancer, del_wt, prot_and_isoforms)"
   ]
  },
  {
   "cell_type": "code",
   "execution_count": null,
   "metadata": {},
   "outputs": [],
   "source": [
    "\n",
    "\n"
   ]
  },
  {
   "cell_type": "code",
   "execution_count": 435,
   "metadata": {},
   "outputs": [],
   "source": [
    "# test get_change_in_medians_df\n",
    "# tested genes: RFC1, MMS19, HERC4, MAD2L1, TOP2A, TP53, DNM1L_1\n",
    "trans_gene = 'DNM1L_1' # change to test different genes"
   ]
  },
  {
   "cell_type": "code",
   "execution_count": 449,
   "metadata": {},
   "outputs": [
    {
     "name": "stdout",
     "output_type": "stream",
     "text": [
      "Mutation with actual measurements for DNM1L_1:\n",
      " Deletion          52\n",
      "Wildtype_Tumor    47\n",
      "Name: Mutation, dtype: int64\n",
      "\n",
      " 0.37395 - 0.4234  =  -0.049449999999999994\n"
     ]
    }
   ],
   "source": [
    "del_wt_df = del_wt[[trans_gene, 'Mutation']].dropna(axis = 'index', how = 'any')\n",
    "print('Mutation with actual measurements for', trans_gene+':\\n', del_wt_df.Mutation.value_counts())\n",
    "\n",
    "if cancer_obj.get_cancer_type() in ('endometrial'):\n",
    "    d = del_wt_df[del_wt_df.Mutation == \"Truncation\"]\n",
    "    wt = del_wt_df[del_wt_df.Mutation == \"Wildtype_Tumor\"]\n",
    "else:\n",
    "    d = del_wt_df[del_wt_df.Mutation == \"Deletion\"]\n",
    "    wt = del_wt_df[del_wt_df.Mutation == \"Wildtype_Tumor\"]\n",
    "del_med = d.median()\n",
    "wt_med = wt.median()\n",
    "\n",
    "# Correlation: + is mutant up compared to wt, - is mutant down\n",
    "test_med = del_med[trans_gene] - wt_med[trans_gene]\n",
    "print('\\n', del_med[trans_gene], '-', wt_med[trans_gene], ' = ', \n",
    "      float(del_med[trans_gene]) - float(wt_med[trans_gene]))"
   ]
  },
  {
   "cell_type": "code",
   "execution_count": 450,
   "metadata": {},
   "outputs": [
    {
     "name": "stdout",
     "output_type": "stream",
     "text": [
      "test get_change_in_medians_df passed\n"
     ]
    }
   ],
   "source": [
    "# From function\n",
    "func_med = med.loc[med['Proteomics'] == trans_gene]\n",
    "from_func_med = float(func_med[cancer+'_Median']) \n",
    "\n",
    "# Check if get_change_in_medians_df gets same change in median as when calculated above\n",
    "if from_func_med == test_med:\n",
    "    print('test get_change_in_medians_df passed')\n",
    "else:\n",
    "    print('FAILED: check function')\n",
    "\n",
    "# From wrap_ttest\n",
    "gene_pval = pval.loc[pval['Comparison'] == trans_gene]\n",
    "from_wrap_ttest_pval = float(gene_pval.P_Value)"
   ]
  },
  {
   "cell_type": "code",
   "execution_count": 455,
   "metadata": {},
   "outputs": [
    {
     "name": "stdout",
     "output_type": "stream",
     "text": [
      "Test all_proteins.csv\n"
     ]
    },
    {
     "ename": "TypeError",
     "evalue": "cannot convert the series to <class 'float'>",
     "output_type": "error",
     "traceback": [
      "\u001b[1;31m---------------------------------------------------------------------------\u001b[0m",
      "\u001b[1;31mTypeError\u001b[0m                                 Traceback (most recent call last)",
      "\u001b[1;32m<ipython-input-455-99060155b1d1>\u001b[0m in \u001b[0;36m<module>\u001b[1;34m\u001b[0m\n\u001b[0;32m      5\u001b[0m \u001b[1;33m\u001b[0m\u001b[0m\n\u001b[0;32m      6\u001b[0m \u001b[0mprint\u001b[0m\u001b[1;33m(\u001b[0m\u001b[1;34m'Test all_proteins.csv'\u001b[0m\u001b[1;33m)\u001b[0m\u001b[1;33m\u001b[0m\u001b[1;33m\u001b[0m\u001b[0m\n\u001b[1;32m----> 7\u001b[1;33m \u001b[0mfrom_proteins_pval\u001b[0m \u001b[1;33m=\u001b[0m \u001b[0mfloat\u001b[0m\u001b[1;33m(\u001b[0m\u001b[0mgene_proteins\u001b[0m\u001b[1;33m[\u001b[0m\u001b[0mcancer\u001b[0m\u001b[1;33m+\u001b[0m\u001b[1;34m'_P_Value'\u001b[0m\u001b[1;33m]\u001b[0m\u001b[1;33m)\u001b[0m\u001b[1;33m\u001b[0m\u001b[1;33m\u001b[0m\u001b[0m\n\u001b[0m\u001b[0;32m      8\u001b[0m \u001b[0mfrom_proteins_med\u001b[0m \u001b[1;33m=\u001b[0m \u001b[0mfloat\u001b[0m\u001b[1;33m(\u001b[0m\u001b[0mgene_proteins\u001b[0m\u001b[1;33m[\u001b[0m\u001b[0mcancer\u001b[0m\u001b[1;33m+\u001b[0m\u001b[1;34m'_Median'\u001b[0m\u001b[1;33m]\u001b[0m\u001b[1;33m)\u001b[0m\u001b[1;33m\u001b[0m\u001b[1;33m\u001b[0m\u001b[0m\n\u001b[0;32m      9\u001b[0m \u001b[1;31m# Check t-test\u001b[0m\u001b[1;33m\u001b[0m\u001b[1;33m\u001b[0m\u001b[1;33m\u001b[0m\u001b[0m\n",
      "\u001b[1;32m~\\Anaconda3\\envs\\Research\\lib\\site-packages\\pandas\\core\\series.py\u001b[0m in \u001b[0;36mwrapper\u001b[1;34m(self)\u001b[0m\n\u001b[0;32m    110\u001b[0m         \u001b[1;32mif\u001b[0m \u001b[0mlen\u001b[0m\u001b[1;33m(\u001b[0m\u001b[0mself\u001b[0m\u001b[1;33m)\u001b[0m \u001b[1;33m==\u001b[0m \u001b[1;36m1\u001b[0m\u001b[1;33m:\u001b[0m\u001b[1;33m\u001b[0m\u001b[1;33m\u001b[0m\u001b[0m\n\u001b[0;32m    111\u001b[0m             \u001b[1;32mreturn\u001b[0m \u001b[0mconverter\u001b[0m\u001b[1;33m(\u001b[0m\u001b[0mself\u001b[0m\u001b[1;33m.\u001b[0m\u001b[0miloc\u001b[0m\u001b[1;33m[\u001b[0m\u001b[1;36m0\u001b[0m\u001b[1;33m]\u001b[0m\u001b[1;33m)\u001b[0m\u001b[1;33m\u001b[0m\u001b[1;33m\u001b[0m\u001b[0m\n\u001b[1;32m--> 112\u001b[1;33m         \u001b[1;32mraise\u001b[0m \u001b[0mTypeError\u001b[0m\u001b[1;33m(\u001b[0m\u001b[1;34mf\"cannot convert the series to {converter}\"\u001b[0m\u001b[1;33m)\u001b[0m\u001b[1;33m\u001b[0m\u001b[1;33m\u001b[0m\u001b[0m\n\u001b[0m\u001b[0;32m    113\u001b[0m \u001b[1;33m\u001b[0m\u001b[0m\n\u001b[0;32m    114\u001b[0m     \u001b[0mwrapper\u001b[0m\u001b[1;33m.\u001b[0m\u001b[0m__name__\u001b[0m \u001b[1;33m=\u001b[0m \u001b[1;34mf\"__{converter.__name__}__\"\u001b[0m\u001b[1;33m\u001b[0m\u001b[1;33m\u001b[0m\u001b[0m\n",
      "\u001b[1;31mTypeError\u001b[0m: cannot convert the series to <class 'float'>"
     ]
    }
   ],
   "source": [
    "# check same pval and change in medians as in csv files\n",
    "# test all_proteins.csv\n",
    "cancer_df = all_proteins[['Proteomics', cancer+'_P_Value', cancer+'_Median']]\n",
    "gene_proteins = cancer_df.loc[cancer_df['Proteomics'] == trans_gene]\n",
    "\n",
    "print('Test all_proteins.csv')\n",
    "from_proteins_pval = float(gene_proteins[cancer+'_P_Value'])\n",
    "from_proteins_med = float(gene_proteins[cancer+'_Median'])\n",
    "# Check t-test\n",
    "if math.isclose(from_wrap_ttest_pval, from_proteins_pval, rel_tol=0.01): # true if floats within 0.01\n",
    "    print(True, 'pvals match')\n",
    "else:\n",
    "    print(False)\n",
    "# Check change in medians\n",
    "if math.isclose(test_med, from_proteins_med, rel_tol=0.01):\n",
    "    print(True, 'change in medians match\\n')\n",
    "else:\n",
    "    print(False)\n",
    "print(gene_proteins, '\\n')\n",
    "\n",
    "\n",
    "\n",
    "# test all_heatmap.csv\n",
    "gene_heatmap = all_heatmap.loc[all_heatmap['Proteomics'] == trans_gene]\n",
    "gene_heatmap = gene_heatmap.loc[gene_heatmap['Cancer'] == cancer]\n",
    "\n",
    "print('Test all_heatmap.csv')\n",
    "from_heatmap_pval = float(gene_heatmap.P_Value)\n",
    "from_heatmap_med = float(gene_proteins[cancer+'_Median'])\n",
    "# Check t-test\n",
    "if math.isclose(from_wrap_ttest_pval, from_heatmap_pval, rel_tol=0.01):\n",
    "    print(True, 'pvals match')\n",
    "else:\n",
    "    print(False)\n",
    "# Check change in medians\n",
    "if math.isclose(test_med, from_heatmap_med, rel_tol=0.01): \n",
    "    print(True, 'change in medians match\\n')\n",
    "else:\n",
    "    print(False)\n",
    "print(gene_heatmap, '\\n')"
   ]
  },
  {
   "cell_type": "code",
   "execution_count": 456,
   "metadata": {},
   "outputs": [
    {
     "data": {
      "text/html": [
       "<div>\n",
       "<style scoped>\n",
       "    .dataframe tbody tr th:only-of-type {\n",
       "        vertical-align: middle;\n",
       "    }\n",
       "\n",
       "    .dataframe tbody tr th {\n",
       "        vertical-align: top;\n",
       "    }\n",
       "\n",
       "    .dataframe thead th {\n",
       "        text-align: right;\n",
       "    }\n",
       "</style>\n",
       "<table border=\"1\" class=\"dataframe\">\n",
       "  <thead>\n",
       "    <tr style=\"text-align: right;\">\n",
       "      <th></th>\n",
       "      <th>Proteomics</th>\n",
       "      <th>Lscc_P_Value</th>\n",
       "      <th>Lscc_Median</th>\n",
       "    </tr>\n",
       "  </thead>\n",
       "  <tbody>\n",
       "  </tbody>\n",
       "</table>\n",
       "</div>"
      ],
      "text/plain": [
       "Empty DataFrame\n",
       "Columns: [Proteomics, Lscc_P_Value, Lscc_Median]\n",
       "Index: []"
      ]
     },
     "execution_count": 456,
     "metadata": {},
     "output_type": "execute_result"
    }
   ],
   "source": [
    "gene_proteins"
   ]
  },
  {
   "cell_type": "code",
   "execution_count": null,
   "metadata": {},
   "outputs": [],
   "source": []
  }
 ],
 "metadata": {
  "kernelspec": {
   "display_name": "Python 3",
   "language": "python",
   "name": "python3"
  },
  "language_info": {
   "codemirror_mode": {
    "name": "ipython",
    "version": 3
   },
   "file_extension": ".py",
   "mimetype": "text/x-python",
   "name": "python",
   "nbconvert_exporter": "python",
   "pygments_lexer": "ipython3",
   "version": "3.7.3"
  }
 },
 "nbformat": 4,
 "nbformat_minor": 2
}
