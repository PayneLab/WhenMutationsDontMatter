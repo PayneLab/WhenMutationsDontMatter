{
 "cells": [
  {
   "cell_type": "markdown",
   "metadata": {},
   "source": [
    "Pten wt - mutated "
   ]
  },
  {
   "cell_type": "code",
   "execution_count": 11,
   "metadata": {},
   "outputs": [],
   "source": [
    "import pandas as pd\n",
    "import numpy as np\n",
    "import seaborn as sns\n",
    "import matplotlib.pyplot as plt\n",
    "import scipy.stats\n",
    "import gseapy as gp\n",
    "import re\n",
    "import sys \n",
    "\n",
    "import cptac\n",
    "import cptac.utils as u\n",
    "\n",
    "import sys\n",
    "sys.path.append('C:\\\\Users\\\\brittany henderson\\\\GitHub\\\\WhenMutationsDontMatter\\\\')\n",
    "import plot_utils as p"
   ]
  },
  {
   "cell_type": "code",
   "execution_count": 2,
   "metadata": {},
   "outputs": [
    {
     "name": "stdout",
     "output_type": "stream",
     "text": [
      "                                    \r"
     ]
    }
   ],
   "source": [
    "gbm = cptac.Gbm()\n",
    "endo = cptac.Endometrial()"
   ]
  },
  {
   "cell_type": "code",
   "execution_count": 3,
   "metadata": {},
   "outputs": [],
   "source": [
    "cancer1 = \"GBM\"\n",
    "cancer2 = \"Endometrial\"\n",
    "gene = 'PTEN'"
   ]
  },
  {
   "cell_type": "code",
   "execution_count": 4,
   "metadata": {},
   "outputs": [
    {
     "name": "stderr",
     "output_type": "stream",
     "text": [
      "cptac warning: In joining the somatic_mutation table, no mutations were found for the following samples, so they were filled with Wildtype_Tumor or Wildtype_Normal: 82 samples for the PTEN gene (C:\\Users\\brittany henderson\\Anaconda3\\envs\\Research\\lib\\site-packages\\ipykernel_launcher.py, line 6)\n"
     ]
    },
    {
     "data": {
      "text/html": [
       "<div>\n",
       "<style scoped>\n",
       "    .dataframe tbody tr th:only-of-type {\n",
       "        vertical-align: middle;\n",
       "    }\n",
       "\n",
       "    .dataframe tbody tr th {\n",
       "        vertical-align: top;\n",
       "    }\n",
       "\n",
       "    .dataframe thead th {\n",
       "        text-align: right;\n",
       "    }\n",
       "</style>\n",
       "<table border=\"1\" class=\"dataframe\">\n",
       "  <thead>\n",
       "    <tr style=\"text-align: right;\">\n",
       "      <th>Name</th>\n",
       "      <th>PTEN_proteomics</th>\n",
       "      <th>binary_mutations</th>\n",
       "    </tr>\n",
       "    <tr>\n",
       "      <th>Sample_ID</th>\n",
       "      <th></th>\n",
       "      <th></th>\n",
       "    </tr>\n",
       "  </thead>\n",
       "  <tbody>\n",
       "    <tr>\n",
       "      <td>S001</td>\n",
       "      <td>-0.431991</td>\n",
       "      <td>Mutated</td>\n",
       "    </tr>\n",
       "    <tr>\n",
       "      <td>S002</td>\n",
       "      <td>-0.265044</td>\n",
       "      <td>Wildtype</td>\n",
       "    </tr>\n",
       "    <tr>\n",
       "      <td>S003</td>\n",
       "      <td>0.390190</td>\n",
       "      <td>Mutated</td>\n",
       "    </tr>\n",
       "    <tr>\n",
       "      <td>S004</td>\n",
       "      <td>-0.915526</td>\n",
       "      <td>Mutated</td>\n",
       "    </tr>\n",
       "    <tr>\n",
       "      <td>S005</td>\n",
       "      <td>0.680291</td>\n",
       "      <td>Wildtype</td>\n",
       "    </tr>\n",
       "    <tr>\n",
       "      <td>...</td>\n",
       "      <td>...</td>\n",
       "      <td>...</td>\n",
       "    </tr>\n",
       "    <tr>\n",
       "      <td>S100</td>\n",
       "      <td>-0.725120</td>\n",
       "      <td>Mutated</td>\n",
       "    </tr>\n",
       "    <tr>\n",
       "      <td>S101</td>\n",
       "      <td>-0.242603</td>\n",
       "      <td>Wildtype</td>\n",
       "    </tr>\n",
       "    <tr>\n",
       "      <td>S102</td>\n",
       "      <td>0.428594</td>\n",
       "      <td>Wildtype</td>\n",
       "    </tr>\n",
       "    <tr>\n",
       "      <td>S104</td>\n",
       "      <td>0.928991</td>\n",
       "      <td>Wildtype</td>\n",
       "    </tr>\n",
       "    <tr>\n",
       "      <td>S105</td>\n",
       "      <td>0.396673</td>\n",
       "      <td>Wildtype</td>\n",
       "    </tr>\n",
       "  </tbody>\n",
       "</table>\n",
       "<p>99 rows × 2 columns</p>\n",
       "</div>"
      ],
      "text/plain": [
       "Name       PTEN_proteomics binary_mutations\n",
       "Sample_ID                                  \n",
       "S001             -0.431991          Mutated\n",
       "S002             -0.265044         Wildtype\n",
       "S003              0.390190          Mutated\n",
       "S004             -0.915526          Mutated\n",
       "S005              0.680291         Wildtype\n",
       "...                    ...              ...\n",
       "S100             -0.725120          Mutated\n",
       "S101             -0.242603         Wildtype\n",
       "S102              0.428594         Wildtype\n",
       "S104              0.928991         Wildtype\n",
       "S105              0.396673         Wildtype\n",
       "\n",
       "[99 rows x 2 columns]"
      ]
     },
     "execution_count": 4,
     "metadata": {},
     "output_type": "execute_result"
    }
   ],
   "source": [
    "#GBM ttest\n",
    "# Step 1 - Create dataframe in order to do comparisons with wrap_ttest\n",
    "prot = gbm.get_proteomics()\n",
    "prot_list = list(prot.columns)\n",
    "prot_and_mutations = gbm.join_omics_to_mutations(\n",
    "    mutations_genes = [gene], omics_df_name = 'proteomics', omics_genes = 'PTEN')  \n",
    "\n",
    "# Step 2 - Create binary column \n",
    "prot_and_mutations['binary_mutations'] = np.where(\n",
    "            prot_and_mutations[gene+'_Mutation_Status'] == 'Wildtype_Tumor', 'Wildtype', 'Mutated')\n",
    "\n",
    "# Step 3 - Format the dataframe correctly for the T-test(just omics and binary columns for tumors)\n",
    "tumors = prot_and_mutations[prot_and_mutations.Sample_Status == 'Tumor'] #drop Normal samples\n",
    "columns_to_drop = [gene+\"_Mutation\", gene+\"_Location\", gene+\"_Mutation_Status\", \"Sample_Status\"]\n",
    "mut_status = tumors.drop(columns_to_drop, axis = 1)\n",
    "mut_status = mut_status.dropna(axis=1,how='all')\n",
    "mut_status"
   ]
  },
  {
   "cell_type": "code",
   "execution_count": 5,
   "metadata": {},
   "outputs": [
    {
     "name": "stdout",
     "output_type": "stream",
     "text": [
      "-0.326037999352815  - ( 0.07083553689473104 ) =  -0.39687353624754607\n"
     ]
    }
   ],
   "source": [
    "mut_df = mut_status.loc[mut_status['binary_mutations'] == 'Mutated']\n",
    "wt_df = mut_status.loc[mut_status['binary_mutations'] == 'Wildtype']\n",
    "\n",
    "mut_med = mut_df.median()\n",
    "wt_med = wt_df.median()\n",
    "\n",
    "dif_gbm = mut_med[gene+'_proteomics'] - wt_med[gene+'_proteomics']\n",
    "print(mut_med[gene+'_proteomics'],' - (',wt_med[gene+'_proteomics'], ') = ',dif_gbm)"
   ]
  },
  {
   "cell_type": "markdown",
   "metadata": {},
   "source": [
    "Endo"
   ]
  },
  {
   "cell_type": "code",
   "execution_count": 6,
   "metadata": {},
   "outputs": [
    {
     "name": "stderr",
     "output_type": "stream",
     "text": [
      "cptac warning: In joining the somatic_mutation table, no mutations were found for the following samples, so they were filled with Wildtype_Tumor or Wildtype_Normal: 69 samples for the PTEN gene (C:\\Users\\brittany henderson\\Anaconda3\\envs\\Research\\lib\\site-packages\\ipykernel_launcher.py, line 6)\n"
     ]
    },
    {
     "data": {
      "text/html": [
       "<div>\n",
       "<style scoped>\n",
       "    .dataframe tbody tr th:only-of-type {\n",
       "        vertical-align: middle;\n",
       "    }\n",
       "\n",
       "    .dataframe tbody tr th {\n",
       "        vertical-align: top;\n",
       "    }\n",
       "\n",
       "    .dataframe thead th {\n",
       "        text-align: right;\n",
       "    }\n",
       "</style>\n",
       "<table border=\"1\" class=\"dataframe\">\n",
       "  <thead>\n",
       "    <tr style=\"text-align: right;\">\n",
       "      <th>Name</th>\n",
       "      <th>PTEN_proteomics</th>\n",
       "      <th>binary_mutations</th>\n",
       "    </tr>\n",
       "    <tr>\n",
       "      <th>Sample_ID</th>\n",
       "      <th></th>\n",
       "      <th></th>\n",
       "    </tr>\n",
       "  </thead>\n",
       "  <tbody>\n",
       "    <tr>\n",
       "      <td>S001</td>\n",
       "      <td>-0.526</td>\n",
       "      <td>Mutated</td>\n",
       "    </tr>\n",
       "    <tr>\n",
       "      <td>S002</td>\n",
       "      <td>-0.830</td>\n",
       "      <td>Mutated</td>\n",
       "    </tr>\n",
       "    <tr>\n",
       "      <td>S003</td>\n",
       "      <td>-0.941</td>\n",
       "      <td>Mutated</td>\n",
       "    </tr>\n",
       "    <tr>\n",
       "      <td>S005</td>\n",
       "      <td>0.730</td>\n",
       "      <td>Mutated</td>\n",
       "    </tr>\n",
       "    <tr>\n",
       "      <td>S006</td>\n",
       "      <td>-0.379</td>\n",
       "      <td>Wildtype</td>\n",
       "    </tr>\n",
       "    <tr>\n",
       "      <td>...</td>\n",
       "      <td>...</td>\n",
       "      <td>...</td>\n",
       "    </tr>\n",
       "    <tr>\n",
       "      <td>S099</td>\n",
       "      <td>-1.910</td>\n",
       "      <td>Mutated</td>\n",
       "    </tr>\n",
       "    <tr>\n",
       "      <td>S100</td>\n",
       "      <td>-0.616</td>\n",
       "      <td>Wildtype</td>\n",
       "    </tr>\n",
       "    <tr>\n",
       "      <td>S101</td>\n",
       "      <td>-0.164</td>\n",
       "      <td>Wildtype</td>\n",
       "    </tr>\n",
       "    <tr>\n",
       "      <td>S102</td>\n",
       "      <td>-0.572</td>\n",
       "      <td>Wildtype</td>\n",
       "    </tr>\n",
       "    <tr>\n",
       "      <td>S103</td>\n",
       "      <td>0.234</td>\n",
       "      <td>Wildtype</td>\n",
       "    </tr>\n",
       "  </tbody>\n",
       "</table>\n",
       "<p>95 rows × 2 columns</p>\n",
       "</div>"
      ],
      "text/plain": [
       "Name       PTEN_proteomics binary_mutations\n",
       "Sample_ID                                  \n",
       "S001                -0.526          Mutated\n",
       "S002                -0.830          Mutated\n",
       "S003                -0.941          Mutated\n",
       "S005                 0.730          Mutated\n",
       "S006                -0.379         Wildtype\n",
       "...                    ...              ...\n",
       "S099                -1.910          Mutated\n",
       "S100                -0.616         Wildtype\n",
       "S101                -0.164         Wildtype\n",
       "S102                -0.572         Wildtype\n",
       "S103                 0.234         Wildtype\n",
       "\n",
       "[95 rows x 2 columns]"
      ]
     },
     "execution_count": 6,
     "metadata": {},
     "output_type": "execute_result"
    }
   ],
   "source": [
    "#Endo ttest\n",
    "# Step 1 - Create dataframe in order to do comparisons with wrap_ttest\n",
    "prot = endo.get_proteomics()\n",
    "prot_list = list(prot.columns)\n",
    "prot_and_mutations = endo.join_omics_to_mutations(\n",
    "    mutations_genes = [gene], omics_df_name = 'proteomics', omics_genes = 'PTEN')  \n",
    "\n",
    "# Step 2 - Create binary column \n",
    "prot_and_mutations['binary_mutations'] = np.where(\n",
    "            prot_and_mutations[gene+'_Mutation_Status'] == 'Wildtype_Tumor', 'Wildtype', 'Mutated')\n",
    "\n",
    "# Step 3 - Format the dataframe correctly for the T-test(just omics and binary columns for tumors)\n",
    "tumors = prot_and_mutations[prot_and_mutations.Sample_Status == 'Tumor'] #drop Normal samples\n",
    "columns_to_drop = [gene+\"_Mutation\", gene+\"_Location\", gene+\"_Mutation_Status\", \"Sample_Status\"]\n",
    "mut_status = tumors.drop(columns_to_drop, axis = 1)\n",
    "mut_status = mut_status.dropna(axis=1,how='all')\n",
    "mut_status"
   ]
  },
  {
   "cell_type": "code",
   "execution_count": 7,
   "metadata": {},
   "outputs": [
    {
     "name": "stdout",
     "output_type": "stream",
     "text": [
      "-0.589  - ( -0.043899999999999995 ) =  -0.5450999999999999\n"
     ]
    }
   ],
   "source": [
    "mut_df = mut_status.loc[mut_status['binary_mutations'] == 'Mutated']\n",
    "wt_df = mut_status.loc[mut_status['binary_mutations'] == 'Wildtype']\n",
    "\n",
    "mut_med = mut_df.median()\n",
    "wt_med = wt_df.median()\n",
    "\n",
    "dif_en = mut_med[gene+'_proteomics'] - wt_med[gene+'_proteomics']\n",
    "print(mut_med[gene+'_proteomics'],' - (',wt_med[gene+'_proteomics'], ') = ',dif_en)"
   ]
  },
  {
   "cell_type": "markdown",
   "metadata": {},
   "source": [
    "Ovarian"
   ]
  },
  {
   "cell_type": "code",
   "execution_count": 13,
   "metadata": {},
   "outputs": [
    {
     "name": "stdout",
     "output_type": "stream",
     "text": [
      "                                    \r"
     ]
    }
   ],
   "source": [
    "c = cptac.Ovarian()"
   ]
  },
  {
   "cell_type": "code",
   "execution_count": 14,
   "metadata": {},
   "outputs": [
    {
     "name": "stderr",
     "output_type": "stream",
     "text": [
      "cptac warning: In joining the somatic_mutation table, no mutations were found for the following samples, so they were filled with Wildtype_Tumor or Wildtype_Normal: 99 samples for the PTEN gene (C:\\Users\\brittany henderson\\Anaconda3\\envs\\Research\\lib\\site-packages\\ipykernel_launcher.py, line 5)\n"
     ]
    }
   ],
   "source": [
    "# Step 1 - Create dataframe in order to do comparisons with wrap_ttest\n",
    "prot = c.get_proteomics()\n",
    "prot_list = list(prot.columns)\n",
    "prot_and_mutations = c.join_omics_to_mutations(\n",
    "    mutations_genes = [gene], omics_df_name = 'proteomics', omics_genes = 'PTEN') \n",
    "prot_and_mutations = c.reduce_multiindex(prot_and_mutations, levels_to_drop = 1)\n",
    "\n",
    "# Step 2 - Create binary column \n",
    "prot_and_mutations['binary_mutations'] = np.where(\n",
    "            prot_and_mutations[gene+'_Mutation_Status'] == 'Wildtype_Tumor', 'Wildtype', 'Mutated')\n",
    "\n",
    "# Step 3 - Format the dataframe correctly for the T-test(just omics and binary columns for tumors)\n",
    "tumors = prot_and_mutations[prot_and_mutations.Sample_Status == 'Tumor'] #drop Normal samples\n",
    "columns_to_drop = [gene+\"_Mutation\", gene+\"_Location\", gene+\"_Mutation_Status\", \"Sample_Status\"]\n",
    "mut_status = tumors.drop(columns_to_drop, axis = 1)\n",
    "mut_status = mut_status.dropna(axis=1,how='all')"
   ]
  },
  {
   "cell_type": "code",
   "execution_count": 15,
   "metadata": {},
   "outputs": [
    {
     "name": "stdout",
     "output_type": "stream",
     "text": [
      "0.051417856  - ( 0.172419419 ) =  -0.12100156299999999\n"
     ]
    }
   ],
   "source": [
    "mut_df = mut_status.loc[mut_status['binary_mutations'] == 'Mutated']\n",
    "wt_df = mut_status.loc[mut_status['binary_mutations'] == 'Wildtype']\n",
    "\n",
    "mut_med = mut_df.median()\n",
    "wt_med = wt_df.median()\n",
    "\n",
    "dif_ov = mut_med[gene+'_proteomics'] - wt_med[gene+'_proteomics']\n",
    "print(mut_med[gene+'_proteomics'],' - (',wt_med[gene+'_proteomics'], ') = ',dif_ov)"
   ]
  },
  {
   "cell_type": "markdown",
   "metadata": {},
   "source": [
    "Breast"
   ]
  },
  {
   "cell_type": "code",
   "execution_count": null,
   "metadata": {},
   "outputs": [
    {
     "name": "stdout",
     "output_type": "stream",
     "text": [
      "                                    \r"
     ]
    }
   ],
   "source": [
    "cptac.download(dataset='brca', version='3.1')\n",
    "b = cptac.Brca()"
   ]
  },
  {
   "cell_type": "code",
   "execution_count": null,
   "metadata": {},
   "outputs": [],
   "source": [
    "# Step 1 - Create dataframe in order to do comparisons with wrap_ttest\n",
    "prot = b.get_proteomics()\n",
    "prot_list = list(prot.columns)\n",
    "prot_and_mutations = b.join_omics_to_mutations(\n",
    "    mutations_genes = [gene], omics_df_name = 'proteomics', omics_genes = 'PTEN') \n",
    "prot_and_mutations = b.reduce_multiindex(prot_and_mutations, levels_to_drop = 1)\n",
    "\n",
    "# Step 2 - Create binary column \n",
    "prot_and_mutations['binary_mutations'] = np.where(\n",
    "            prot_and_mutations[gene+'_Mutation_Status'] == 'Wildtype_Tumor', 'Wildtype', 'Mutated')\n",
    "\n",
    "# Step 3 - Format the dataframe correctly for the T-test(just omics and binary columns for tumors)\n",
    "tumors = prot_and_mutations[prot_and_mutations.Sample_Status == 'Tumor'] #drop Normal samples\n",
    "columns_to_drop = [gene+\"_Mutation\", gene+\"_Location\", gene+\"_Mutation_Status\", \"Sample_Status\"]\n",
    "mut_status = tumors.drop(columns_to_drop, axis = 1)\n",
    "mut_status = mut_status.dropna(axis=1,how='all')"
   ]
  },
  {
   "cell_type": "code",
   "execution_count": null,
   "metadata": {},
   "outputs": [],
   "source": [
    "mut_df = mut_status.loc[mut_status['binary_mutations'] == 'Mutated']\n",
    "wt_df = mut_status.loc[mut_status['binary_mutations'] == 'Wildtype']\n",
    "\n",
    "mut_med = mut_df.median()\n",
    "wt_med = wt_df.median()\n",
    "\n",
    "dif_b = mut_med[gene+'_proteomics'] - wt_med[gene+'_proteomics']\n",
    "print(mut_med[gene+'_proteomics'],' - (',wt_med[gene+'_proteomics'], ') = ',dif_b)"
   ]
  },
  {
   "cell_type": "markdown",
   "metadata": {},
   "source": [
    "Colon"
   ]
  },
  {
   "cell_type": "code",
   "execution_count": 17,
   "metadata": {},
   "outputs": [
    {
     "name": "stdout",
     "output_type": "stream",
     "text": [
      "                                    \r"
     ]
    }
   ],
   "source": [
    "col = cptac.Colon()"
   ]
  },
  {
   "cell_type": "code",
   "execution_count": 18,
   "metadata": {},
   "outputs": [
    {
     "name": "stderr",
     "output_type": "stream",
     "text": [
      "cptac warning: In joining the somatic_mutation table, no mutations were found for the following samples, so they were filled with Wildtype_Tumor or Wildtype_Normal: 201 samples for the PTEN gene (C:\\Users\\brittany henderson\\Anaconda3\\envs\\Research\\lib\\site-packages\\ipykernel_launcher.py, line 5)\n",
      "cptac warning: proteomics data was not found for the following samples, so proteomics data columns were filled with NaN for these samples: S001, S013, S015, S017, S038, S080, S081, S090, S099, S109 (C:\\Users\\brittany henderson\\Anaconda3\\envs\\Research\\lib\\site-packages\\ipykernel_launcher.py, line 5)\n"
     ]
    }
   ],
   "source": [
    "# Step 1 - Create dataframe in order to do comparisons with wrap_ttest\n",
    "prot = col.get_proteomics()\n",
    "prot_list = list(prot.columns)\n",
    "prot_and_mutations = col.join_omics_to_mutations(\n",
    "    mutations_genes = [gene], omics_df_name = 'proteomics', omics_genes = 'PTEN') \n",
    "#prot_and_mutations = col.reduce_multiindex(prot_and_mutations, levels_to_drop = 1)\n",
    "\n",
    "# Step 2 - Create binary column \n",
    "prot_and_mutations['binary_mutations'] = np.where(\n",
    "            prot_and_mutations[gene+'_Mutation_Status'] == 'Wildtype_Tumor', 'Wildtype', 'Mutated')\n",
    "\n",
    "# Step 3 - Format the dataframe correctly for the T-test(just omics and binary columns for tumors)\n",
    "tumors = prot_and_mutations[prot_and_mutations.Sample_Status == 'Tumor'] #drop Normal samples\n",
    "columns_to_drop = [gene+\"_Mutation\", gene+\"_Location\", gene+\"_Mutation_Status\", \"Sample_Status\"]\n",
    "mut_status = tumors.drop(columns_to_drop, axis = 1)\n",
    "mut_status = mut_status.dropna(axis=1,how='all')"
   ]
  },
  {
   "cell_type": "code",
   "execution_count": 19,
   "metadata": {},
   "outputs": [
    {
     "name": "stdout",
     "output_type": "stream",
     "text": [
      "-0.47  - ( -0.109 ) =  -0.361\n"
     ]
    }
   ],
   "source": [
    "mut_df = mut_status.loc[mut_status['binary_mutations'] == 'Mutated']\n",
    "wt_df = mut_status.loc[mut_status['binary_mutations'] == 'Wildtype']\n",
    "\n",
    "mut_med = mut_df.median()\n",
    "wt_med = wt_df.median()\n",
    "\n",
    "dif_colon = mut_med[gene+'_proteomics'] - wt_med[gene+'_proteomics']\n",
    "print(mut_med[gene+'_proteomics'],' - (',wt_med[gene+'_proteomics'], ') = ',dif_colon)"
   ]
  },
  {
   "cell_type": "markdown",
   "metadata": {},
   "source": [
    "Kidney"
   ]
  },
  {
   "cell_type": "code",
   "execution_count": 22,
   "metadata": {},
   "outputs": [
    {
     "name": "stdout",
     "output_type": "stream",
     "text": [
      "                                    \r"
     ]
    }
   ],
   "source": [
    "#cptac.download(dataset='ccrcc')\n",
    "r = cptac.Ccrcc()"
   ]
  },
  {
   "cell_type": "code",
   "execution_count": 40,
   "metadata": {},
   "outputs": [
    {
     "name": "stderr",
     "output_type": "stream",
     "text": [
      "cptac warning: In joining the somatic_mutation table, no mutations were found for the following samples, so they were filled with Wildtype_Tumor or Wildtype_Normal: 189 samples for the PTEN gene (C:\\Users\\brittany henderson\\Anaconda3\\envs\\Research\\lib\\site-packages\\ipykernel_launcher.py, line 5)\n"
     ]
    },
    {
     "data": {
      "text/html": [
       "<div>\n",
       "<style scoped>\n",
       "    .dataframe tbody tr th:only-of-type {\n",
       "        vertical-align: middle;\n",
       "    }\n",
       "\n",
       "    .dataframe tbody tr th {\n",
       "        vertical-align: top;\n",
       "    }\n",
       "\n",
       "    .dataframe thead th {\n",
       "        text-align: right;\n",
       "    }\n",
       "</style>\n",
       "<table border=\"1\" class=\"dataframe\">\n",
       "  <thead>\n",
       "    <tr style=\"text-align: right;\">\n",
       "      <th>Name</th>\n",
       "      <th>PTEN_proteomics</th>\n",
       "      <th>binary_mutations</th>\n",
       "    </tr>\n",
       "    <tr>\n",
       "      <th>Sample_ID</th>\n",
       "      <th></th>\n",
       "      <th></th>\n",
       "    </tr>\n",
       "  </thead>\n",
       "  <tbody>\n",
       "    <tr>\n",
       "      <td>S001</td>\n",
       "      <td>0.097356</td>\n",
       "      <td>Wildtype</td>\n",
       "    </tr>\n",
       "    <tr>\n",
       "      <td>S002</td>\n",
       "      <td>-0.025882</td>\n",
       "      <td>Wildtype</td>\n",
       "    </tr>\n",
       "    <tr>\n",
       "      <td>S003</td>\n",
       "      <td>0.365576</td>\n",
       "      <td>Wildtype</td>\n",
       "    </tr>\n",
       "    <tr>\n",
       "      <td>S004</td>\n",
       "      <td>-0.259137</td>\n",
       "      <td>Wildtype</td>\n",
       "    </tr>\n",
       "    <tr>\n",
       "      <td>S005</td>\n",
       "      <td>-0.254395</td>\n",
       "      <td>Mutated</td>\n",
       "    </tr>\n",
       "    <tr>\n",
       "      <td>...</td>\n",
       "      <td>...</td>\n",
       "      <td>...</td>\n",
       "    </tr>\n",
       "    <tr>\n",
       "      <td>S106</td>\n",
       "      <td>0.185096</td>\n",
       "      <td>Wildtype</td>\n",
       "    </tr>\n",
       "    <tr>\n",
       "      <td>S107</td>\n",
       "      <td>-0.071292</td>\n",
       "      <td>Wildtype</td>\n",
       "    </tr>\n",
       "    <tr>\n",
       "      <td>S108</td>\n",
       "      <td>0.141210</td>\n",
       "      <td>Wildtype</td>\n",
       "    </tr>\n",
       "    <tr>\n",
       "      <td>S109</td>\n",
       "      <td>-0.538740</td>\n",
       "      <td>Mutated</td>\n",
       "    </tr>\n",
       "    <tr>\n",
       "      <td>S110</td>\n",
       "      <td>-0.355319</td>\n",
       "      <td>Wildtype</td>\n",
       "    </tr>\n",
       "  </tbody>\n",
       "</table>\n",
       "<p>110 rows × 2 columns</p>\n",
       "</div>"
      ],
      "text/plain": [
       "Name       PTEN_proteomics binary_mutations\n",
       "Sample_ID                                  \n",
       "S001              0.097356         Wildtype\n",
       "S002             -0.025882         Wildtype\n",
       "S003              0.365576         Wildtype\n",
       "S004             -0.259137         Wildtype\n",
       "S005             -0.254395          Mutated\n",
       "...                    ...              ...\n",
       "S106              0.185096         Wildtype\n",
       "S107             -0.071292         Wildtype\n",
       "S108              0.141210         Wildtype\n",
       "S109             -0.538740          Mutated\n",
       "S110             -0.355319         Wildtype\n",
       "\n",
       "[110 rows x 2 columns]"
      ]
     },
     "execution_count": 40,
     "metadata": {},
     "output_type": "execute_result"
    }
   ],
   "source": [
    "# Step 1 - Create dataframe in order to do comparisons with wrap_ttest\n",
    "prot = r.get_proteomics()\n",
    "prot_list = list(prot.columns)\n",
    "prot_and_mutations = r.join_omics_to_mutations(\n",
    "    mutations_genes = [gene], omics_df_name = 'proteomics', omics_genes = 'PTEN') \n",
    "prot_and_mutations = r.reduce_multiindex(prot_and_mutations, levels_to_drop = 1)\n",
    "\n",
    "# Step 2 - Create binary column \n",
    "prot_and_mutations['binary_mutations'] = np.where(\n",
    "            prot_and_mutations[gene+'_Mutation_Status'] == 'Wildtype_Tumor', 'Wildtype', 'Mutated')\n",
    "\n",
    "# Step 3 - Format the dataframe correctly for the T-test(just omics and binary columns for tumors)\n",
    "tumors = prot_and_mutations[prot_and_mutations.Sample_Status == 'Tumor'] #drop Normal samples\n",
    "columns_to_drop = [gene+\"_Mutation\", gene+\"_Location\", gene+\"_Mutation_Status\", \"Sample_Status\"]\n",
    "mut_status = tumors.drop(columns_to_drop, axis = 1)\n",
    "mut_status = mut_status.dropna(axis=1,how='all')\n",
    "mut_status"
   ]
  },
  {
   "cell_type": "code",
   "execution_count": 41,
   "metadata": {},
   "outputs": [
    {
     "name": "stdout",
     "output_type": "stream",
     "text": [
      "-0.4251903982030001  - ( -0.11769275674280166 ) =  -0.3074976414601984\n"
     ]
    }
   ],
   "source": [
    "mut_df = mut_status.loc[mut_status['binary_mutations'] == 'Mutated']\n",
    "wt_df = mut_status.loc[mut_status['binary_mutations'] == 'Wildtype']\n",
    "\n",
    "mut_med = mut_df.median()\n",
    "wt_med = wt_df.median()\n",
    "\n",
    "dif_k = mut_med[gene+'_proteomics'] - wt_med[gene+'_proteomics']\n",
    "print(mut_med[gene+'_proteomics'],' - (',wt_med[gene+'_proteomics'], ') = ',dif_k)"
   ]
  },
  {
   "cell_type": "markdown",
   "metadata": {},
   "source": [
    "Lung"
   ]
  },
  {
   "cell_type": "code",
   "execution_count": 45,
   "metadata": {},
   "outputs": [
    {
     "name": "stdout",
     "output_type": "stream",
     "text": [
      "                                    \r"
     ]
    }
   ],
   "source": [
    "#cptac.download(dataset='luad')\n",
    "l = cptac.Luad()"
   ]
  },
  {
   "cell_type": "code",
   "execution_count": 49,
   "metadata": {},
   "outputs": [
    {
     "name": "stdout",
     "output_type": "stream",
     "text": [
      "Below are the dataframes contained in this dataset:\n",
      "\tcircular_RNA\n",
      "\t\tDimensions: (213, 371843)\n",
      "\tclinical\n",
      "\t\tDimensions: (215, 17)\n",
      "\tCNV\n",
      "\t\tDimensions: (110, 19267)\n",
      "\tderived_molecular\n",
      "\t\tDimensions: (215, 28)\n",
      "\texperimental_design\n",
      "\t\tDimensions: (215, 3)\n",
      "\tphosphoproteomics\n",
      "\t\tDimensions: (213, 40868)\n",
      "\tproteomics\n",
      "\t\tDimensions: (213, 10544)\n",
      "\ttranscriptomics\n",
      "\t\tDimensions: (213, 18099)\n"
     ]
    }
   ],
   "source": [
    "l.list_data()"
   ]
  },
  {
   "cell_type": "code",
   "execution_count": 48,
   "metadata": {},
   "outputs": [
    {
     "ename": "DataframeNotIncludedError",
     "evalue": "somatic_mutation dataframe not included in this dataset.",
     "output_type": "error",
     "traceback": [
      "\u001b[1;31m---------------------------------------------------------------------------\u001b[0m",
      "\u001b[1;31mDataframeNotIncludedError\u001b[0m                 Traceback (most recent call last)",
      "\u001b[1;32m<ipython-input-48-4680246d0fe5>\u001b[0m in \u001b[0;36m<module>\u001b[1;34m\u001b[0m\n\u001b[0;32m      3\u001b[0m \u001b[0mprot_list\u001b[0m \u001b[1;33m=\u001b[0m \u001b[0mlist\u001b[0m\u001b[1;33m(\u001b[0m\u001b[0mprot\u001b[0m\u001b[1;33m.\u001b[0m\u001b[0mcolumns\u001b[0m\u001b[1;33m)\u001b[0m\u001b[1;33m\u001b[0m\u001b[1;33m\u001b[0m\u001b[0m\n\u001b[0;32m      4\u001b[0m prot_and_mutations = l.join_omics_to_mutations(\n\u001b[1;32m----> 5\u001b[1;33m     mutations_genes = [gene], omics_df_name = 'proteomics', omics_genes = 'PTEN') \n\u001b[0m\u001b[0;32m      6\u001b[0m \u001b[0mprot_and_mutations\u001b[0m \u001b[1;33m=\u001b[0m \u001b[0ml\u001b[0m\u001b[1;33m.\u001b[0m\u001b[0mreduce_multiindex\u001b[0m\u001b[1;33m(\u001b[0m\u001b[0mprot_and_mutations\u001b[0m\u001b[1;33m,\u001b[0m \u001b[0mlevels_to_drop\u001b[0m \u001b[1;33m=\u001b[0m \u001b[1;36m1\u001b[0m\u001b[1;33m)\u001b[0m\u001b[1;33m\u001b[0m\u001b[1;33m\u001b[0m\u001b[0m\n\u001b[0;32m      7\u001b[0m \u001b[1;33m\u001b[0m\u001b[0m\n",
      "\u001b[1;32m~\\Anaconda3\\envs\\Research\\lib\\site-packages\\cptac\\dataset.py\u001b[0m in \u001b[0;36mjoin_omics_to_mutations\u001b[1;34m(self, omics_df_name, mutations_genes, omics_genes, mutations_filter, show_location)\u001b[0m\n\u001b[0;32m    327\u001b[0m         \u001b[1;31m# Select the data from each dataframe\u001b[0m\u001b[1;33m\u001b[0m\u001b[1;33m\u001b[0m\u001b[1;33m\u001b[0m\u001b[0m\n\u001b[0;32m    328\u001b[0m         \u001b[0momics\u001b[0m \u001b[1;33m=\u001b[0m \u001b[0mself\u001b[0m\u001b[1;33m.\u001b[0m\u001b[0m_get_omics_cols\u001b[0m\u001b[1;33m(\u001b[0m\u001b[0momics_df_name\u001b[0m\u001b[1;33m,\u001b[0m \u001b[0momics_genes\u001b[0m\u001b[1;33m)\u001b[0m\u001b[1;33m\u001b[0m\u001b[1;33m\u001b[0m\u001b[0m\n\u001b[1;32m--> 329\u001b[1;33m         \u001b[0mmutations\u001b[0m \u001b[1;33m=\u001b[0m \u001b[0mself\u001b[0m\u001b[1;33m.\u001b[0m\u001b[0m_get_genes_mutations\u001b[0m\u001b[1;33m(\u001b[0m\u001b[0mmutations_genes\u001b[0m\u001b[1;33m,\u001b[0m \u001b[0mmutations_filter\u001b[0m\u001b[1;33m)\u001b[0m\u001b[1;33m\u001b[0m\u001b[1;33m\u001b[0m\u001b[0m\n\u001b[0m\u001b[0;32m    330\u001b[0m \u001b[1;33m\u001b[0m\u001b[0m\n\u001b[0;32m    331\u001b[0m         \u001b[0mmutations_were_filtered\u001b[0m \u001b[1;33m=\u001b[0m \u001b[0mmutations_filter\u001b[0m \u001b[1;32mis\u001b[0m \u001b[1;32mnot\u001b[0m \u001b[1;32mNone\u001b[0m\u001b[1;33m\u001b[0m\u001b[1;33m\u001b[0m\u001b[0m\n",
      "\u001b[1;32m~\\Anaconda3\\envs\\Research\\lib\\site-packages\\cptac\\dataset.py\u001b[0m in \u001b[0;36m_get_genes_mutations\u001b[1;34m(self, genes, mutations_filter)\u001b[0m\n\u001b[0;32m    630\u001b[0m         \u001b[0mpandas\u001b[0m \u001b[0mDataFrame\u001b[0m\u001b[1;33m:\u001b[0m \u001b[0mThe\u001b[0m \u001b[0mmutations\u001b[0m \u001b[1;32min\u001b[0m \u001b[0meach\u001b[0m \u001b[0mpatient\u001b[0m \u001b[1;32mfor\u001b[0m \u001b[0mthe\u001b[0m \u001b[0mspecified\u001b[0m \u001b[0mgene\u001b[0m\u001b[1;33m(\u001b[0m\u001b[0ms\u001b[0m\u001b[1;33m)\u001b[0m\u001b[1;33m.\u001b[0m\u001b[1;33m\u001b[0m\u001b[1;33m\u001b[0m\u001b[0m\n\u001b[0;32m    631\u001b[0m         \"\"\"\n\u001b[1;32m--> 632\u001b[1;33m         \u001b[0msomatic_mutation\u001b[0m \u001b[1;33m=\u001b[0m \u001b[0mself\u001b[0m\u001b[1;33m.\u001b[0m\u001b[0mget_somatic_mutation\u001b[0m\u001b[1;33m(\u001b[0m\u001b[1;33m)\u001b[0m\u001b[1;33m\u001b[0m\u001b[1;33m\u001b[0m\u001b[0m\n\u001b[0m\u001b[0;32m    633\u001b[0m \u001b[1;33m\u001b[0m\u001b[0m\n\u001b[0;32m    634\u001b[0m         \u001b[1;31m# Process genes parameter\u001b[0m\u001b[1;33m\u001b[0m\u001b[1;33m\u001b[0m\u001b[1;33m\u001b[0m\u001b[0m\n",
      "\u001b[1;32m~\\Anaconda3\\envs\\Research\\lib\\site-packages\\cptac\\dataset.py\u001b[0m in \u001b[0;36mget_somatic_mutation\u001b[1;34m(self)\u001b[0m\n\u001b[0;32m    159\u001b[0m     \u001b[1;32mdef\u001b[0m \u001b[0mget_somatic_mutation\u001b[0m\u001b[1;33m(\u001b[0m\u001b[0mself\u001b[0m\u001b[1;33m)\u001b[0m\u001b[1;33m:\u001b[0m\u001b[1;33m\u001b[0m\u001b[1;33m\u001b[0m\u001b[0m\n\u001b[0;32m    160\u001b[0m         \u001b[1;34m\"\"\"Get the somatic_mutation dataframe.\"\"\"\u001b[0m\u001b[1;33m\u001b[0m\u001b[1;33m\u001b[0m\u001b[0m\n\u001b[1;32m--> 161\u001b[1;33m         \u001b[1;32mreturn\u001b[0m \u001b[0mself\u001b[0m\u001b[1;33m.\u001b[0m\u001b[0m_get_dataframe\u001b[0m\u001b[1;33m(\u001b[0m\u001b[1;34m\"somatic_mutation\"\u001b[0m\u001b[1;33m)\u001b[0m\u001b[1;33m\u001b[0m\u001b[1;33m\u001b[0m\u001b[0m\n\u001b[0m\u001b[0;32m    162\u001b[0m \u001b[1;33m\u001b[0m\u001b[0m\n\u001b[0;32m    163\u001b[0m     \u001b[1;32mdef\u001b[0m \u001b[0mget_somatic_mutation_binary\u001b[0m\u001b[1;33m(\u001b[0m\u001b[0mself\u001b[0m\u001b[1;33m)\u001b[0m\u001b[1;33m:\u001b[0m\u001b[1;33m\u001b[0m\u001b[1;33m\u001b[0m\u001b[0m\n",
      "\u001b[1;32m~\\Anaconda3\\envs\\Research\\lib\\site-packages\\cptac\\dataset.py\u001b[0m in \u001b[0;36m_get_dataframe\u001b[1;34m(self, name)\u001b[0m\n\u001b[0;32m    429\u001b[0m             \u001b[1;32mreturn\u001b[0m \u001b[0mreturn_df\u001b[0m\u001b[1;33m\u001b[0m\u001b[1;33m\u001b[0m\u001b[0m\n\u001b[0;32m    430\u001b[0m         \u001b[1;32melse\u001b[0m\u001b[1;33m:\u001b[0m\u001b[1;33m\u001b[0m\u001b[1;33m\u001b[0m\u001b[0m\n\u001b[1;32m--> 431\u001b[1;33m             \u001b[1;32mraise\u001b[0m \u001b[0mDataframeNotIncludedError\u001b[0m\u001b[1;33m(\u001b[0m\u001b[1;34m\"{} dataframe not included in this dataset.\"\u001b[0m\u001b[1;33m.\u001b[0m\u001b[0mformat\u001b[0m\u001b[1;33m(\u001b[0m\u001b[0mname\u001b[0m\u001b[1;33m)\u001b[0m\u001b[1;33m)\u001b[0m\u001b[1;33m\u001b[0m\u001b[1;33m\u001b[0m\u001b[0m\n\u001b[0m\u001b[0;32m    432\u001b[0m \u001b[1;33m\u001b[0m\u001b[0m\n\u001b[0;32m    433\u001b[0m     \u001b[1;32mdef\u001b[0m \u001b[0m_get_sample_status_map\u001b[0m\u001b[1;33m(\u001b[0m\u001b[0mself\u001b[0m\u001b[1;33m)\u001b[0m\u001b[1;33m:\u001b[0m\u001b[1;33m\u001b[0m\u001b[1;33m\u001b[0m\u001b[0m\n",
      "\u001b[1;31mDataframeNotIncludedError\u001b[0m: somatic_mutation dataframe not included in this dataset."
     ]
    }
   ],
   "source": [
    "# Step 1 - Create dataframe in order to do comparisons with wrap_ttest\n",
    "prot = l.get_proteomics()\n",
    "prot_list = list(prot.columns)\n",
    "prot_and_mutations = l.join_omics_to_mutations(\n",
    "    mutations_genes = [gene], omics_df_name = 'proteomics', omics_genes = 'PTEN') \n",
    "prot_and_mutations = l.reduce_multiindex(prot_and_mutations, levels_to_drop = 1)\n",
    "\n",
    "# Step 2 - Create binary column \n",
    "prot_and_mutations['binary_mutations'] = np.where(\n",
    "            prot_and_mutations[gene+'_Mutation_Status'] == 'Wildtype_Tumor', 'Wildtype', 'Mutated')\n",
    "\n",
    "# Step 3 - Format the dataframe correctly for the T-test(just omics and binary columns for tumors)\n",
    "tumors = prot_and_mutations[prot_and_mutations.Sample_Status == 'Tumor'] #drop Normal samples\n",
    "columns_to_drop = [gene+\"_Mutation\", gene+\"_Location\", gene+\"_Mutation_Status\", \"Sample_Status\"]\n",
    "mut_status = tumors.drop(columns_to_drop, axis = 1)\n",
    "mut_status = mut_status.dropna(axis=1,how='all')"
   ]
  },
  {
   "cell_type": "code",
   "execution_count": null,
   "metadata": {},
   "outputs": [],
   "source": [
    "mut_df = mut_status.loc[mut_status['binary_mutations'] == 'Mutated']\n",
    "wt_df = mut_status.loc[mut_status['binary_mutations'] == 'Wildtype']\n",
    "\n",
    "mut_med = mut_df.median()\n",
    "wt_med = wt_df.median()\n",
    "\n",
    "dif_lung = mut_med[gene+'_proteomics'] - wt_med[gene+'_proteomics']\n",
    "print(mut_med[gene+'_proteomics'],' - (',wt_med[gene+'_proteomics'], ') = ',dif_lung)"
   ]
  },
  {
   "cell_type": "markdown",
   "metadata": {},
   "source": [
    "Head and Neck"
   ]
  },
  {
   "cell_type": "code",
   "execution_count": null,
   "metadata": {},
   "outputs": [
    {
     "name": "stdout",
     "output_type": "stream",
     "text": [
      "                                    \r"
     ]
    }
   ],
   "source": [
    "#h = cptac.Hnscc()\n",
    "cptac.download(dataset='hnscc', version='0.1')"
   ]
  },
  {
   "cell_type": "code",
   "execution_count": null,
   "metadata": {},
   "outputs": [],
   "source": [
    "# Step 1 - Create dataframe in order to do comparisons with wrap_ttest\n",
    "prot = h.get_proteomics()\n",
    "prot_list = list(prot.columns)\n",
    "prot_and_mutations = h.join_omics_to_mutations(\n",
    "    mutations_genes = [gene], omics_df_name = 'proteomics', omics_genes = 'PTEN') \n",
    "#prot_and_mutations = r.reduce_multiindex(prot_and_mutations, levels_to_drop = 1)\n",
    "\n",
    "# Step 2 - Create binary column \n",
    "prot_and_mutations['binary_mutations'] = np.where(\n",
    "            prot_and_mutations[gene+'_Mutation_Status'] == 'Wildtype_Tumor', 'Wildtype', 'Mutated')\n",
    "\n",
    "# Step 3 - Format the dataframe correctly for the T-test(just omics and binary columns for tumors)\n",
    "tumors = prot_and_mutations[prot_and_mutations.Sample_Status == 'Tumor'] #drop Normal samples\n",
    "columns_to_drop = [gene+\"_Mutation\", gene+\"_Location\", gene+\"_Mutation_Status\", \"Sample_Status\"]\n",
    "mut_status = tumors.drop(columns_to_drop, axis = 1)\n",
    "mut_status = mut_status.dropna(axis=1,how='all')"
   ]
  },
  {
   "cell_type": "code",
   "execution_count": null,
   "metadata": {},
   "outputs": [],
   "source": [
    "mut_df = mut_status.loc[mut_status['binary_mutations'] == 'Mutated']\n",
    "wt_df = mut_status.loc[mut_status['binary_mutations'] == 'Wildtype']\n",
    "\n",
    "mut_med = mut_df.median()\n",
    "wt_med = wt_df.median()\n",
    "\n",
    "dif_h = mut_med[gene+'_proteomics'] - wt_med[gene+'_proteomics']\n",
    "print(mut_med[gene+'_proteomics'],' - (',wt_med[gene+'_proteomics'], ') = ',dif_h)"
   ]
  },
  {
   "cell_type": "code",
   "execution_count": 89,
   "metadata": {},
   "outputs": [
    {
     "data": {
      "text/html": [
       "<div>\n",
       "<style scoped>\n",
       "    .dataframe tbody tr th:only-of-type {\n",
       "        vertical-align: middle;\n",
       "    }\n",
       "\n",
       "    .dataframe tbody tr th {\n",
       "        vertical-align: top;\n",
       "    }\n",
       "\n",
       "    .dataframe thead th {\n",
       "        text-align: right;\n",
       "    }\n",
       "</style>\n",
       "<table border=\"1\" class=\"dataframe\">\n",
       "  <thead>\n",
       "    <tr style=\"text-align: right;\">\n",
       "      <th></th>\n",
       "      <th>Directionality</th>\n",
       "    </tr>\n",
       "  </thead>\n",
       "  <tbody>\n",
       "    <tr>\n",
       "      <td>Gbm</td>\n",
       "      <td>-0.545100</td>\n",
       "    </tr>\n",
       "    <tr>\n",
       "      <td>Endo</td>\n",
       "      <td>-0.545100</td>\n",
       "    </tr>\n",
       "    <tr>\n",
       "      <td>Ovarian</td>\n",
       "      <td>-0.121002</td>\n",
       "    </tr>\n",
       "  </tbody>\n",
       "</table>\n",
       "</div>"
      ],
      "text/plain": [
       "         Directionality\n",
       "Gbm           -0.545100\n",
       "Endo          -0.545100\n",
       "Ovarian       -0.121002"
      ]
     },
     "execution_count": 89,
     "metadata": {},
     "output_type": "execute_result"
    }
   ],
   "source": [
    "dd = {'Gbm': [dif_gbm],'Hscc':[dif_h],'Lung':['add'],'Endo': [dif_en],\n",
    "      'Ovarian': [dif_ov], 'Breast':['add'],''} #list, avoid from_dict error passing in scalars -index\n",
    "\n",
    "pan_cancer_df = pd.DataFrame.from_dict(dd, orient='index', columns=['Directionality']) #orient makes keys index\n",
    "pan_cancer_df"
   ]
  },
  {
   "cell_type": "code",
   "execution_count": null,
   "metadata": {},
   "outputs": [],
   "source": []
  }
 ],
 "metadata": {
  "kernelspec": {
   "display_name": "Python 3",
   "language": "python",
   "name": "python3"
  },
  "language_info": {
   "codemirror_mode": {
    "name": "ipython",
    "version": 3
   },
   "file_extension": ".py",
   "mimetype": "text/x-python",
   "name": "python",
   "nbconvert_exporter": "python",
   "pygments_lexer": "ipython3",
   "version": "3.7.3"
  }
 },
 "nbformat": 4,
 "nbformat_minor": 2
}
