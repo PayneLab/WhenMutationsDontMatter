{
 "cells": [
  {
   "cell_type": "markdown",
   "metadata": {},
   "source": [
    "Phospho for Interacting Proteins"
   ]
  },
  {
   "cell_type": "code",
   "execution_count": 1,
   "metadata": {},
   "outputs": [],
   "source": [
    "import pandas as pd\n",
    "import numpy as np\n",
    "import seaborn as sns\n",
    "import matplotlib.pyplot as plt\n",
    "import scipy.stats\n",
    "import gseapy as gp\n",
    "import re\n",
    "import sys \n",
    "\n",
    "import cptac\n",
    "import cptac.utils as u"
   ]
  },
  {
   "cell_type": "code",
   "execution_count": 2,
   "metadata": {},
   "outputs": [
    {
     "name": "stdout",
     "output_type": "stream",
     "text": [
      "Checking that endometrial index is up-to-date...\r"
     ]
    },
    {
     "name": "stderr",
     "output_type": "stream",
     "text": [
      "cptac warning: The GBM dataset is under publication embargo until March 01, 2021. CPTAC is a community resource project and data are made available rapidly after generation for community research use. The embargo allows exploring and utilizing the data, but analysis may not be published until after the embargo date. Please see https://proteomics.cancer.gov/data-portal/about/data-use-agreement or enter cptac.embargo() to open the webpage for more details. (C:\\Users\\brittany henderson\\Anaconda3\\envs\\Research\\lib\\site-packages\\ipykernel_launcher.py, line 1)\n"
     ]
    },
    {
     "name": "stdout",
     "output_type": "stream",
     "text": [
      "Checking that luad index is up-to-date...       \r"
     ]
    },
    {
     "name": "stderr",
     "output_type": "stream",
     "text": [
      "cptac warning: The HNSCC data is currently strictly reserved for CPTAC investigators. Otherwise, you are not authorized to access these data. Additionally, even after these data become publicly available, they will be subject to a publication embargo (see https://proteomics.cancer.gov/data-portal/about/data-use-agreement or enter cptac.embargo() to open the webpage for more details). (C:\\Users\\brittany henderson\\Anaconda3\\envs\\Research\\lib\\site-packages\\ipykernel_launcher.py, line 3)\n"
     ]
    },
    {
     "name": "stdout",
     "output_type": "stream",
     "text": [
      "Checking that ovarian index is up-to-date...\r"
     ]
    },
    {
     "name": "stderr",
     "output_type": "stream",
     "text": [
      "cptac warning: The LUAD dataset is under publication embargo until July 01, 2020. CPTAC is a community resource project and data are made available rapidly after generation for community research use. The embargo allows exploring and utilizing the data, but analysis may not be published until after the embargo date. Please see https://proteomics.cancer.gov/data-portal/about/data-use-agreement or enter cptac.embargo() to open the webpage for more details. (C:\\Users\\brittany henderson\\Anaconda3\\envs\\Research\\lib\\site-packages\\ipykernel_launcher.py, line 4)\n"
     ]
    },
    {
     "name": "stdout",
     "output_type": "stream",
     "text": [
      "                                            \r"
     ]
    }
   ],
   "source": [
    "gbm = cptac.Gbm()\n",
    "endo = cptac.Endometrial()\n",
    "h = cptac.Hnscc()\n",
    "l = cptac.Luad()\n",
    "o = cptac.Ovarian()\n",
    "col = cptac.Colon()\n",
    "b = cptac.Brca()"
   ]
  },
  {
   "cell_type": "code",
   "execution_count": 3,
   "metadata": {},
   "outputs": [],
   "source": [
    "# colon, endo no peptide"
   ]
  },
  {
   "cell_type": "code",
   "execution_count": 4,
   "metadata": {},
   "outputs": [
    {
     "data": {
      "text/plain": [
       "4"
      ]
     },
     "execution_count": 4,
     "metadata": {},
     "output_type": "execute_result"
    }
   ],
   "source": [
    "#ip = u.get_interacting_proteins('PTEN')\n",
    "ip = 'MCM2'\n",
    "len(ip)"
   ]
  },
  {
   "cell_type": "code",
   "execution_count": 5,
   "metadata": {},
   "outputs": [],
   "source": [
    "gene = 'PTEN'"
   ]
  },
  {
   "cell_type": "markdown",
   "metadata": {},
   "source": [
    "# Gbm"
   ]
  },
  {
   "cell_type": "code",
   "execution_count": 6,
   "metadata": {},
   "outputs": [
    {
     "name": "stderr",
     "output_type": "stream",
     "text": [
      "cptac warning: In joining the somatic_mutation table, no mutations were found for the following samples, so they were filled with Wildtype_Tumor or Wildtype_Normal: 72 samples for the PTEN gene (C:\\Users\\brittany henderson\\Anaconda3\\envs\\Research\\lib\\site-packages\\cptac\\dataset.py, line 313)\n",
      "cptac warning: CNV data was not found for the following samples, so CNV data columns were filled with NaN for these samples: C3L-01834 (C:\\Users\\brittany henderson\\Anaconda3\\envs\\Research\\lib\\site-packages\\cptac\\dataset.py, line 313)\n",
      "cptac warning: In joining the somatic_mutation table, no mutations were found for the following samples, so they were filled with Wildtype_Tumor or Wildtype_Normal: 82 samples for the PTEN gene (C:\\Users\\brittany henderson\\Anaconda3\\envs\\Research\\lib\\site-packages\\ipykernel_launcher.py, line 5)\n"
     ]
    },
    {
     "ename": "AttributeError",
     "evalue": "'Gbm' object has no attribute 'reduce_multiindex'",
     "output_type": "error",
     "traceback": [
      "\u001b[1;31m---------------------------------------------------------------------------\u001b[0m",
      "\u001b[1;31mAttributeError\u001b[0m                            Traceback (most recent call last)",
      "\u001b[1;32m<ipython-input-6-b060f14e97c1>\u001b[0m in \u001b[0;36m<module>\u001b[1;34m\u001b[0m\n\u001b[0;32m      5\u001b[0m     mutations_genes = [gene], omics_df_name = 'phosphoproteomics', omics_genes = ip)\n\u001b[0;32m      6\u001b[0m \u001b[0mprot_and_mutations\u001b[0m \u001b[1;33m=\u001b[0m \u001b[0mprot_and_mutations\u001b[0m\u001b[1;33m[\u001b[0m\u001b[0mprot_and_mutations\u001b[0m\u001b[1;33m.\u001b[0m\u001b[0mSample_Status\u001b[0m \u001b[1;33m==\u001b[0m \u001b[1;34m\"Tumor\"\u001b[0m\u001b[1;33m]\u001b[0m \u001b[1;31m# drop Normal samples\u001b[0m\u001b[1;33m\u001b[0m\u001b[1;33m\u001b[0m\u001b[0m\n\u001b[1;32m----> 7\u001b[1;33m \u001b[0mprot_and_mutations\u001b[0m \u001b[1;33m=\u001b[0m \u001b[0mgbm\u001b[0m\u001b[1;33m.\u001b[0m\u001b[0mreduce_multiindex\u001b[0m\u001b[1;33m(\u001b[0m\u001b[0mprot_and_mutations\u001b[0m\u001b[1;33m,\u001b[0m \u001b[0mlevels_to_drop\u001b[0m \u001b[1;33m=\u001b[0m \u001b[1;36m3\u001b[0m\u001b[1;33m,\u001b[0m \u001b[0mflatten\u001b[0m \u001b[1;33m=\u001b[0m \u001b[1;32mTrue\u001b[0m\u001b[1;33m)\u001b[0m\u001b[1;33m\u001b[0m\u001b[1;33m\u001b[0m\u001b[0m\n\u001b[0m\u001b[0;32m      8\u001b[0m \u001b[1;33m\u001b[0m\u001b[0m\n\u001b[0;32m      9\u001b[0m \u001b[0mip_df\u001b[0m \u001b[1;33m=\u001b[0m \u001b[0mprot_and_mutations\u001b[0m\u001b[1;33m.\u001b[0m\u001b[0miloc\u001b[0m\u001b[1;33m[\u001b[0m\u001b[1;33m:\u001b[0m\u001b[1;33m,\u001b[0m\u001b[1;33m:\u001b[0m\u001b[1;33m-\u001b[0m\u001b[1;36m4\u001b[0m\u001b[1;33m]\u001b[0m \u001b[1;31m#drop mutation, location cols\u001b[0m\u001b[1;33m\u001b[0m\u001b[1;33m\u001b[0m\u001b[0m\n",
      "\u001b[1;31mAttributeError\u001b[0m: 'Gbm' object has no attribute 'reduce_multiindex'"
     ]
    }
   ],
   "source": [
    "mut_type_gbm = gbm.get_genotype_all_vars(gene)\n",
    "\n",
    "# merge cnv with genotype all mut type\n",
    "prot_and_mutations = gbm.join_omics_to_mutations(\n",
    "    mutations_genes = [gene], omics_df_name = 'phosphoproteomics', omics_genes = ip)\n",
    "prot_and_mutations = prot_and_mutations[prot_and_mutations.Sample_Status == \"Tumor\"] # drop Normal samples\n",
    "prot_and_mutations = gbm.reduce_multiindex(prot_and_mutations, levels_to_drop = 3, flatten = True)\n",
    "\n",
    "ip_df = prot_and_mutations.iloc[:,:-4] #drop mutation, location cols\n",
    "mut_type_gbm = mut_type_gbm[['Mutation']] \n",
    "merged = ip_df.join(mut_type_gbm) # merge mutation col from function (includes cnv)\n",
    "\n",
    "# Keep two values to compare\n",
    "compare = ['Wildtype_Tumor','Deletion']\n",
    "get = merged['Mutation'].isin(compare)\n",
    "del_wt = merged[get]\n",
    "del_wt['Mutation'].value_counts()\n",
    "del_wt"
   ]
  },
  {
   "cell_type": "code",
   "execution_count": null,
   "metadata": {},
   "outputs": [],
   "source": [
    "cols = list(del_wt.columns[:-1])\n",
    "\n",
    "# Get only sig sites\n",
    "g_sig = u.wrap_ttest(del_wt, 'Mutation', cols, correction_method = 'fdr_bh')\n",
    "if g_sig is not None:\n",
    "    g_sig_list = list(g_sig.Comparison)\n",
    "else: \n",
    "    g_sig_list = None\n",
    "\n",
    "print('significant pvals: \\n', g_sig)\n",
    "# Get all pvals\n",
    "g = u.wrap_ttest(del_wt, 'Mutation', cols,return_all = True, correction_method = 'fdr_bh')\n",
    "g_pval = g.rename(columns = {'Comparison': 'Phosphoproteomics','P_Value': 'Gbm_P_Value'})\n",
    "g_pval"
   ]
  },
  {
   "cell_type": "code",
   "execution_count": null,
   "metadata": {},
   "outputs": [],
   "source": [
    "d = del_wt[del_wt.Mutation == \"Deletion\"]\n",
    "wt = del_wt[del_wt.Mutation == \"Wildtype_Tumor\"]\n",
    "del_med = d.median()\n",
    "wt_med = wt.median()\n",
    "\n",
    "gbm_d = {}\n",
    "\n",
    "for phos in cols:\n",
    "    dif_gbm = wt_med[phos] - del_med[phos]\n",
    "    gbm_d[phos] = dif_gbm\n",
    "\n",
    "gbm_df = pd.DataFrame.from_dict(gbm_d, orient='index', columns=['Gbm_Median'])\n",
    "gbm_df = gbm_df.reset_index().rename(columns={'index':'Phosphoproteomics'})\n",
    "gbm_df"
   ]
  },
  {
   "cell_type": "code",
   "execution_count": null,
   "metadata": {},
   "outputs": [],
   "source": [
    "g_merged = g_pval.merge(gbm_df, on='Phosphoproteomics',how='outer')\n",
    "#g_merged = g_merged.replace(to_replace = r'_phosphoproteomics', value = '', regex = True)\n",
    "#g_merged = g_merged.replace(to_replace = r'_[A-Z*]*$', value = '', regex = True)\n",
    "g_merged"
   ]
  },
  {
   "cell_type": "markdown",
   "metadata": {},
   "source": [
    "# Endo"
   ]
  },
  {
   "cell_type": "code",
   "execution_count": null,
   "metadata": {},
   "outputs": [],
   "source": [
    "#no peptide in phospho\n",
    "mut_type = endo.get_genotype_all_vars(gene)\n",
    "\n",
    "# merge cnv with genotype all mut type\n",
    "prot_and_mutations = endo.join_omics_to_mutations(\n",
    "    mutations_genes = [gene], omics_df_name = 'phosphoproteomics', omics_genes = ip)\n",
    "prot_and_mutations = prot_and_mutations[prot_and_mutations.Sample_Status == \"Tumor\"] # drop Normal samples\n",
    "prot_and_mutations = endo.reduce_multiindex(prot_and_mutations, flatten = True)\n",
    "\n",
    "ip_df = prot_and_mutations.iloc[:,:-4] #drop mutation, location cols\n",
    "mut_type = mut_type[['Mutation']] \n",
    "merged = ip_df.join(mut_type) # merge mutation col from function (includes cnv)\n",
    "\n",
    "# Keep two values to compare\n",
    "compare = ['Wildtype_Tumor','Nonsense_Mutation','Frame_Shift_Ins','Frame_Shift_Del']\n",
    "get = merged['Mutation'].isin(compare)\n",
    "trunc_wt = merged[get]\n",
    "trunc_wt['Mutation'] = np.where(\n",
    "                trunc_wt['Mutation'] == 'Wildtype_Tumor', 'Wildtype_Tumor', 'Truncation')\n",
    "trunc_wt['Mutation'].value_counts()\n",
    "trunc_wt"
   ]
  },
  {
   "cell_type": "code",
   "execution_count": null,
   "metadata": {},
   "outputs": [],
   "source": [
    "cols = list(trunc_wt.columns[:-1])\n",
    "\n",
    "# Get only sig sites\n",
    "e_sig = u.wrap_ttest(trunc_wt, 'Mutation', cols, correction_method = 'fdr_bh')\n",
    "if e_sig is not None:\n",
    "    e_sig_list = list(e_sig.Comparison)\n",
    "else: \n",
    "    e_sig_list = None\n",
    "\n",
    "print('significant pvals: \\n', e_sig)\n",
    "# Get all pvals\n",
    "e_pval = u.wrap_ttest(trunc_wt, 'Mutation', cols, return_all = True,correction_method = 'fdr_bh')\n",
    "e_pval = e_pval.rename(columns = {'Comparison': 'Phosphoproteomics','P_Value': 'En_P_Value'})\n",
    "e_pval"
   ]
  },
  {
   "cell_type": "code",
   "execution_count": null,
   "metadata": {},
   "outputs": [],
   "source": [
    "t = trunc_wt[trunc_wt.Mutation == \"Truncation\"]\n",
    "wt = trunc_wt[trunc_wt.Mutation == \"Wildtype_Tumor\"]\n",
    "trunc_med = t.median()\n",
    "wt_med = wt.median()\n",
    "\n",
    "en_d = {}\n",
    "\n",
    "for phos in cols:\n",
    "    dif = wt_med[phos] - trunc_med[phos]\n",
    "    en_d[phos] = dif\n",
    "\n",
    "en_df = pd.DataFrame.from_dict(en_d, orient='index', columns=['En_Median'])\n",
    "en_df = en_df.reset_index().rename(columns={'index':'Phosphoproteomics'})\n",
    "en_df"
   ]
  },
  {
   "cell_type": "code",
   "execution_count": null,
   "metadata": {},
   "outputs": [],
   "source": [
    "e_merged = e_pval.merge(en_df, on='Phosphoproteomics',how='outer')\n",
    "e_merged"
   ]
  },
  {
   "cell_type": "markdown",
   "metadata": {},
   "source": [
    "# Ovarian"
   ]
  },
  {
   "cell_type": "code",
   "execution_count": null,
   "metadata": {},
   "outputs": [],
   "source": [
    "gene = 'PTEN'\n",
    "\n",
    "mut_type = o.get_genotype_all_vars(gene)\n",
    "\n",
    "# merge cnv with genotype all mut type\n",
    "prot_and_mutations = o.join_omics_to_mutations(\n",
    "    mutations_genes = [gene], omics_df_name = 'phosphoproteomics', omics_genes = ip)\n",
    "prot_and_mutations = prot_and_mutations[prot_and_mutations.Sample_Status == \"Tumor\"] # drop Normal samples\n",
    "\n",
    "# accounting for duplicates (keep peptide)\n",
    "prot_and_mutations = o.reduce_multiindex(prot_and_mutations, levels_to_drop = 3, flatten=True)\n",
    "\n",
    "prot_and_mutations = prot_and_mutations.loc[:,~prot_and_mutations.columns.duplicated()] # drop perfect duplicate columns \n",
    "# dropped 244 perfect duplicate cols  \n",
    "ip_df = prot_and_mutations.iloc[:,:-4] #drop mutation, location cols\n",
    "mut_type = mut_type[['Mutation']] \n",
    "merged = ip_df.join(mut_type) # merge mutation col from function (includes cnv)\n",
    "\n",
    "# Keep two values to compare\n",
    "compare = ['Wildtype_Tumor','Deletion']\n",
    "get = merged['Mutation'].isin(compare)\n",
    "del_wt = merged[get]\n",
    "del_wt['Mutation'].value_counts()\n",
    "print(len(del_wt.columns))\n",
    "del_wt = del_wt.dropna(axis = 'columns', how='all')"
   ]
  },
  {
   "cell_type": "code",
   "execution_count": null,
   "metadata": {},
   "outputs": [],
   "source": [
    "# check same peptide, dif database id\n",
    "del_wt.columns.value_counts()\n",
    "t = del_wt['NEDD4_phosphoproteomics_S739_R.LTIFGNSAVSQPASSS*NHSSR.R']\n",
    "t"
   ]
  },
  {
   "cell_type": "code",
   "execution_count": null,
   "metadata": {},
   "outputs": [],
   "source": [
    "cols = list(del_wt.columns[:-1])\n",
    "\n",
    "# Get only sig sites\n",
    "o_sig = u.wrap_ttest(del_wt, 'Mutation', cols, correction_method = 'fdr_bh')\n",
    "if o_sig is not None:\n",
    "    o_sig_list = list(o_sig.Comparison)\n",
    "else: \n",
    "    o_sig_list = None\n",
    "print('significant pvals: \\n',o_sig)\n",
    "\n",
    "# Get all pvals\n",
    "o_pval = u.wrap_ttest(del_wt, 'Mutation', cols, return_all = True, correction_method = 'fdr_bh')\n",
    "o_pval = o_pval.rename(columns = {'Comparison': 'Phosphoproteomics','P_Value': 'Ov_P_Value'})\n",
    "o_pval"
   ]
  },
  {
   "cell_type": "code",
   "execution_count": null,
   "metadata": {},
   "outputs": [],
   "source": [
    "d = del_wt[del_wt.Mutation == \"Deletion\"]\n",
    "wt = del_wt[del_wt.Mutation == \"Wildtype_Tumor\"]\n",
    "del_med = d.median()\n",
    "wt_med = wt.median()\n",
    "\n",
    "ov_d = {}\n",
    "\n",
    "for phos in cols:\n",
    "    dif = wt_med[phos] - del_med[phos]\n",
    "    ov_d[phos] = dif\n",
    "\n",
    "o_df = pd.DataFrame.from_dict(ov_d, orient='index', columns=['Ov_Median'])\n",
    "o_df = o_df.reset_index().rename(columns={'index':'Phosphoproteomics'})\n",
    "o_df"
   ]
  },
  {
   "cell_type": "code",
   "execution_count": null,
   "metadata": {},
   "outputs": [],
   "source": [
    "o_merged = o_pval.merge(o_df, on='Phosphoproteomics',how='outer')\n",
    "#o_merged = o_merged.replace(to_replace = r'_phosphoproteomics', value = '', regex = True)\n",
    "#o_merged = o_merged.replace(to_replace = r'_[A-Z.*]*$', value = '', regex = True)\n",
    "o_merged"
   ]
  },
  {
   "cell_type": "markdown",
   "metadata": {},
   "source": [
    "# Breast"
   ]
  },
  {
   "cell_type": "code",
   "execution_count": null,
   "metadata": {},
   "outputs": [],
   "source": [
    "mut_type = b.get_genotype_all_vars(gene)\n",
    "\n",
    "# merge cnv with genotype all mut type\n",
    "prot_and_mutations = b.join_omics_to_mutations(\n",
    "    mutations_genes = [gene], omics_df_name = 'phosphoproteomics', omics_genes = ip)\n",
    "#prot_and_mutations = prot_and_mutations.loc[:,~prot_and_mutations.columns.duplicated()] # drop duplicated columns\n",
    "prot_and_mutations = prot_and_mutations[prot_and_mutations.Sample_Status == \"Tumor\"] # drop Normal samples\n",
    "#prot_and_mutations = b.reduce_multiindex(prot_and_mutations, levels_to_drop = 3)\n",
    "prot_and_mutations = b.reduce_multiindex(prot_and_mutations, levels_to_drop = 3, flatten = True)\n",
    "\n",
    "ip_df = prot_and_mutations.iloc[:,:-4] #drop mutation, location cols\n",
    "mut_type = mut_type[['Mutation']] \n",
    "merged = ip_df.join(mut_type) # merge mutation col from function (includes cnv)\n",
    "\n",
    "# Keep two values to compare\n",
    "compare = ['Wildtype_Tumor','Deletion']\n",
    "get = merged['Mutation'].isin(compare)\n",
    "del_wt = merged[get]\n",
    "del_wt['Mutation'].value_counts()\n",
    "prot_and_mutations"
   ]
  },
  {
   "cell_type": "code",
   "execution_count": null,
   "metadata": {},
   "outputs": [],
   "source": [
    "cols = list(del_wt.columns[:-1])\n",
    "\n",
    "# Get only sig sites\n",
    "b_sig = u.wrap_ttest(del_wt, 'Mutation', cols, correction_method = 'fdr_bh')\n",
    "if b_sig is not None:\n",
    "    b_sig_list = list(b_sig.Comparison)\n",
    "else: \n",
    "    b_sig_list = None\n",
    "print('significant pvals: \\n',b_sig)\n",
    "\n",
    "# Get all pvals\n",
    "b_pval = u.wrap_ttest(del_wt, 'Mutation', cols, return_all = True, correction_method = 'fdr_bh')\n",
    "b_pval = b_pval.rename(columns = {'Comparison': 'Phosphoproteomics','P_Value': 'Brca_P_Value'})\n",
    "b_pval"
   ]
  },
  {
   "cell_type": "code",
   "execution_count": null,
   "metadata": {},
   "outputs": [],
   "source": [
    "d = del_wt[del_wt.Mutation == \"Deletion\"]\n",
    "wt = del_wt[del_wt.Mutation == \"Wildtype_Tumor\"]\n",
    "del_med = d.median()\n",
    "wt_med = wt.median()\n",
    "\n",
    "b_d = {}\n",
    "\n",
    "for phos in cols:\n",
    "    dif = wt_med[phos] - del_med[phos]\n",
    "    b_d[phos] = dif\n",
    "\n",
    "b_df = pd.DataFrame.from_dict(b_d, orient='index', columns=['Brca_Median'])\n",
    "b_df = b_df.reset_index().rename(columns={'index':'Phosphoproteomics'})\n",
    "b_df"
   ]
  },
  {
   "cell_type": "code",
   "execution_count": null,
   "metadata": {},
   "outputs": [],
   "source": [
    "b_merged = b_pval.merge(b_df, on='Phosphoproteomics',how='outer')\n",
    "#b_merged = b_merged.replace(to_replace = r'_phosphoproteomics', value = '', regex = True)\n",
    "b_merged"
   ]
  },
  {
   "cell_type": "markdown",
   "metadata": {},
   "source": [
    "# Colon"
   ]
  },
  {
   "cell_type": "code",
   "execution_count": null,
   "metadata": {},
   "outputs": [],
   "source": [
    "#no peptide phospho\n",
    "mut_type = col.get_genotype_all_vars(gene)\n",
    "\n",
    "# merge cnv with genotype all mut type\n",
    "prot_and_mutations = col.join_omics_to_mutations(\n",
    "    mutations_genes = [gene], omics_df_name = 'phosphoproteomics', omics_genes = ip)\n",
    "prot_and_mutations = prot_and_mutations[prot_and_mutations.Sample_Status == \"Tumor\"] # drop Normal samples\n",
    "prot_and_mutations = col.reduce_multiindex(prot_and_mutations, levels_to_drop = 2, flatten = True)\n",
    "ip_df = prot_and_mutations.iloc[:,:-4] #drop mutation, location cols\n",
    "mut_type = mut_type[['Mutation']] \n",
    "merged = ip_df.join(mut_type) # merge mutation col from function (includes cnv)\n",
    "\n",
    "# Keep two values to compare\n",
    "compare = ['Wildtype_Tumor','Deletion']\n",
    "get = merged['Mutation'].isin(compare)\n",
    "del_wt = merged[get]\n",
    "del_wt['Mutation'].value_counts()\n",
    "prot_and_mutations"
   ]
  },
  {
   "cell_type": "code",
   "execution_count": null,
   "metadata": {},
   "outputs": [],
   "source": [
    "cols = list(del_wt.columns[:-1])\n",
    "\n",
    "# Get only sig sites\n",
    "c_sig = u.wrap_ttest(del_wt, 'Mutation', cols, correction_method = 'fdr_bh')\n",
    "if c_sig is not None:\n",
    "    c_sig_list = list(c_sig.Comparison)\n",
    "else: \n",
    "    c_sig_list = None\n",
    "print('significant pvals: \\n',c_sig)\n",
    "\n",
    "# Get all pvals\n",
    "c_pval = u.wrap_ttest(del_wt, 'Mutation', cols, return_all = True, correction_method = 'fdr_bh')\n",
    "c_pval = c_pval.rename(columns = {'Comparison': 'Phosphoproteomics','P_Value': 'Colon_P_Value'})\n",
    "c_pval"
   ]
  },
  {
   "cell_type": "code",
   "execution_count": null,
   "metadata": {},
   "outputs": [],
   "source": [
    "d = del_wt[del_wt.Mutation == \"Deletion\"]\n",
    "wt = del_wt[del_wt.Mutation == \"Wildtype_Tumor\"]\n",
    "del_med = d.median()\n",
    "wt_med = wt.median()\n",
    "\n",
    "d = {}\n",
    "\n",
    "for phos in cols:\n",
    "    dif = wt_med[phos] - del_med[phos]\n",
    "    d[phos] = dif\n",
    "\n",
    "c_df = pd.DataFrame.from_dict(d, orient='index', columns=['Colon_Median'])\n",
    "c_df = c_df.reset_index().rename(columns={'index':'Phosphoproteomics'})\n",
    "c_df"
   ]
  },
  {
   "cell_type": "code",
   "execution_count": null,
   "metadata": {},
   "outputs": [],
   "source": [
    "c_merged = c_pval.merge(c_df, on='Phosphoproteomics',how='outer')\n",
    "#c_merged = c_merged.replace(to_replace = r'_phosphoproteomics', value = '', regex = True)\n",
    "c_merged"
   ]
  },
  {
   "cell_type": "markdown",
   "metadata": {},
   "source": [
    "# Head and Neck"
   ]
  },
  {
   "cell_type": "code",
   "execution_count": null,
   "metadata": {},
   "outputs": [],
   "source": [
    "mut_type = h.get_genotype_all_vars(gene)\n",
    "\n",
    "# merge cnv with genotype all mut type\n",
    "prot_and_mutations = h.join_omics_to_mutations(\n",
    "    mutations_genes = [gene], omics_df_name = 'phosphoproteomics', omics_genes = ip)\n",
    "prot_and_mutations = prot_and_mutations[prot_and_mutations.Sample_Status == \"Tumor\"] # drop Normal samples\n",
    "\n",
    "# CODE accounting for duplicates (keep peptide)\n",
    "#prot_and_mutations = h.reduce_multiindex(prot_and_mutations, levels_to_drop = 3)\n",
    "prot_and_mutations = h.reduce_multiindex(prot_and_mutations, levels_to_drop = 3, flatten=True)\n",
    "#prot_and_mutations = prot_and_mutations.loc[:,~prot_and_mutations.columns.duplicated()] # drop duplicated columns\n",
    "\n",
    "\n",
    "ip_df = prot_and_mutations.iloc[:,:-4] #drop mutation, location cols\n",
    "mut_type = mut_type[['Mutation']] \n",
    "merged = ip_df.join(mut_type) # merge mutation col from function (includes cnv)\n",
    "\n",
    "# Keep two values to compare\n",
    "compare = ['Wildtype_Tumor','Deletion']\n",
    "get = merged['Mutation'].isin(compare)\n",
    "del_wt = merged[get]\n",
    "del_wt['Mutation'].value_counts()\n",
    "del_wt.head()"
   ]
  },
  {
   "cell_type": "code",
   "execution_count": null,
   "metadata": {},
   "outputs": [],
   "source": [
    "cols = list(del_wt.columns[:-1])\n",
    "\n",
    "# Get only sig sites\n",
    "h_sig = u.wrap_ttest(del_wt, 'Mutation', cols, correction_method = 'fdr_bh')\n",
    "if h_sig is not None:\n",
    "    h_sig_list = list(h_sig.Comparison)\n",
    "else: \n",
    "    h_sig_list = None\n",
    "print('significant pvals: \\n',h_sig)\n",
    "\n",
    "# Get all pvals\n",
    "h_pval = u.wrap_ttest(del_wt, 'Mutation', cols, return_all = True, correction_method = 'fdr_bh')\n",
    "h_pval = h_pval.rename(columns = {'Comparison': 'Phosphoproteomics','P_Value': 'Hnscc_P_Value'})\n",
    "h_pval"
   ]
  },
  {
   "cell_type": "code",
   "execution_count": null,
   "metadata": {},
   "outputs": [],
   "source": [
    "d = del_wt[del_wt.Mutation == \"Deletion\"]\n",
    "wt = del_wt[del_wt.Mutation == \"Wildtype_Tumor\"]\n",
    "del_med = d.median()\n",
    "wt_med = wt.median()\n",
    "\n",
    "h_d = {}\n",
    "\n",
    "for phos in cols:\n",
    "    dif = wt_med[phos] - del_med[phos]\n",
    "    h_d[phos] = dif\n",
    "\n",
    "h_df = pd.DataFrame.from_dict(h_d, orient='index', columns=['Hnscc_Median'])\n",
    "h_df = h_df.reset_index().rename(columns={'index':'Phosphoproteomics'})\n",
    "h_df"
   ]
  },
  {
   "cell_type": "code",
   "execution_count": null,
   "metadata": {},
   "outputs": [],
   "source": [
    "h_merged = h_pval.merge(h_df, on='Phosphoproteomics',how='outer')\n",
    "#h_merged = h_merged.replace(to_replace = r'_phosphoproteomics', value = '', regex = True)\n",
    "#h_merged = h_merged.replace(to_replace = r'_[A-Za-z]*$', value = '', regex = True)\n",
    "h_merged"
   ]
  },
  {
   "cell_type": "markdown",
   "metadata": {},
   "source": [
    "# Lung"
   ]
  },
  {
   "cell_type": "code",
   "execution_count": null,
   "metadata": {},
   "outputs": [],
   "source": [
    "mut_type = l.get_genotype_all_vars(gene)\n",
    "mut_type = mut_type.rename(columns={'PTEN':'cnv'})\n",
    "\n",
    "# different code because no somatic mutation data for pten (can't join to somatic mutations)\n",
    "omics = l.join_omics_to_omics(df1_name = 'CNV', df2_name='phosphoproteomics',genes1=\"PTEN\", \n",
    "    genes2=ip)\n",
    "#omics = l.reduce_multiindex(omics, levels_to_drop =3)\n",
    "omics = l.reduce_multiindex(omics, levels_to_drop = 3, flatten = True)\n",
    "omics = omics.drop(columns='PTEN_CNV__')\n",
    "\n",
    "# Get only tumor samples\n",
    "phos = l.get_phosphoproteomics(tissue_type='tumor')\n",
    "tumor_ids = list(phos.index)\n",
    "get = omics.index.isin(tumor_ids)\n",
    "omics = omics[get]\n",
    "\n",
    "merged = omics.join(mut_type) # checked and there is 110 tumor samples for lung\n",
    "\n",
    "compare = ['No_Mutation','Deletion']\n",
    "get = merged['Mutation'].isin(compare)\n",
    "del_wt = merged[get]\n",
    "print(del_wt['Mutation'].value_counts())\n",
    "del_wt.columns[:-2]"
   ]
  },
  {
   "cell_type": "code",
   "execution_count": null,
   "metadata": {},
   "outputs": [],
   "source": [
    "cols = list(del_wt.columns[:-2])\n",
    "\n",
    "# Get only sig sites\n",
    "l_sig = u.wrap_ttest(del_wt, 'Mutation', cols, correction_method = 'fdr_bh')\n",
    "if l_sig is not None:\n",
    "    l_sig_list = list(l_sig.Comparison)\n",
    "else: \n",
    "    l_sig_list = None\n",
    "print('significant pvals: \\n',l_sig)\n",
    "\n",
    "# Get all pvals\n",
    "l_pval = u.wrap_ttest(del_wt, 'Mutation', cols, return_all = True, correction_method = 'fdr_bh')\n",
    "l_pval = l_pval.rename(columns = {'Comparison': 'Phosphoproteomics','P_Value': 'Luad_P_Value'})\n",
    "l_pval"
   ]
  },
  {
   "cell_type": "code",
   "execution_count": null,
   "metadata": {},
   "outputs": [],
   "source": [
    "d = del_wt[del_wt.Mutation == \"Deletion\"]\n",
    "wt = del_wt[del_wt.Mutation == \"No_Mutation\"]\n",
    "del_med = d.median()\n",
    "wt_med = wt.median()\n",
    "\n",
    "l_d = {}\n",
    "\n",
    "for phos in cols:\n",
    "    dif = wt_med[phos] - del_med[phos]\n",
    "    l_d[phos] = dif\n",
    "\n",
    "l_df = pd.DataFrame.from_dict(l_d, orient='index', columns=['Luad_Median'])\n",
    "l_df = l_df.reset_index().rename(columns={'index':'Phosphoproteomics'})\n",
    "l_df"
   ]
  },
  {
   "cell_type": "code",
   "execution_count": null,
   "metadata": {},
   "outputs": [],
   "source": [
    "l_merged = l_pval.merge(l_df, on='Phosphoproteomics',how='outer')\n",
    "#l_merged = l_merged.replace(to_replace = r'_phosphoproteomics', value = '', regex = True)\n",
    "l_merged"
   ]
  },
  {
   "cell_type": "markdown",
   "metadata": {},
   "source": [
    "# Merge"
   ]
  },
  {
   "cell_type": "code",
   "execution_count": null,
   "metadata": {},
   "outputs": [],
   "source": [
    "n = g_merged.merge(h_merged, on='Phosphoproteomics',how='outer')\n",
    "n = n.merge(l_merged, on='Phosphoproteomics',how='outer')\n",
    "n= n.merge(b_merged, on='Phosphoproteomics',how='outer')\n",
    "n = n.merge(o_merged, on='Phosphoproteomics',how='outer')\n",
    "n = n.merge(e_merged, on='Phosphoproteomics',how='outer')\n",
    "all_df = n.merge(c_merged, on='Phosphoproteomics',how='outer')\n",
    "#all_df = all_df.dropna(axis='index', thresh = 1)\n",
    "all_df\n"
   ]
  },
  {
   "cell_type": "code",
   "execution_count": null,
   "metadata": {},
   "outputs": [],
   "source": [
    "# Keep only genes significant in > 1 cancer\n",
    "all_sig = []\n",
    "\n",
    "sig_lists = [g_sig_list, e_sig_list, b_sig_list, o_sig_list, c_sig_list, h_sig_list, h_sig_list, l_sig_list]\n",
    "\n",
    "for next_list in sig_lists:\n",
    "    if next_list is not None:\n",
    "        all_sig.append(next_list)\n",
    "        \n",
    "flat_list = [item for sublist in all_sig for item in sublist]\n",
    "sig = set(flat_list) # remove duplicates\n",
    "\n",
    "#sig = [re.sub(r'_phosphoproteomics', '', i) for i in sig] \n",
    "\n",
    "bool_df = all_df['Phosphoproteomics'].isin(sig)\n",
    "sig_df = all_df[bool_df]\n",
    "print(len(sig_df))\n",
    "sig_df"
   ]
  },
  {
   "cell_type": "code",
   "execution_count": null,
   "metadata": {},
   "outputs": [],
   "source": [
    "g_merged\n",
    "#g_merged = g_merged.replace(to_replace = r'_phosphoproteomics_S1064_[A-Z*]*$', value = '', regex = True)\n",
    "\n",
    "s = g_merged['Phosphoproteomics']\n",
    "b = s.str.contains('EGFR_phosphoproteomics_S1064_', case=True, regex=True)\n",
    "n = g_merged[b]\n",
    "n"
   ]
  },
  {
   "cell_type": "code",
   "execution_count": null,
   "metadata": {},
   "outputs": [],
   "source": [
    "s = o_merged['Phosphoproteomics']\n",
    "b = s.str.contains('EGFR_phosphoproteomics_S1064', case=True, regex=True)\n",
    "o_merged[b]"
   ]
  },
  {
   "cell_type": "code",
   "execution_count": null,
   "metadata": {},
   "outputs": [],
   "source": [
    "# ALTERNATE one cutoff - not specific to cancer\n",
    "# Keep only genes significant in > 1 cancer\n",
    "cols = ['Gbm_P_Value','Hnscc_P_Value','Luad_P_Value','Brca_P_Value','Ov_P_Value','En_P_Value','Colon_P_Value']\n",
    "\n",
    "# change cutoff for each cancer -FIX\n",
    "bc = .05/28\n",
    "\n",
    "t = []\n",
    "\n",
    "for c in cols:\n",
    "    df = all_df[all_df[c] <= bc]\n",
    "    t.append(list(df.Phosphoproteomics))\n",
    "    \n",
    "flat_list = [item for sublist in t for item in sublist]\n",
    "sig = set(flat_list) # remove duplicates\n",
    "\n",
    "\n",
    "\n",
    "bool_df = all_df['Phosphoproteomics'].isin(sig)\n",
    "sig_df = all_df[bool_df]\n",
    "print(len(sig_df))\n",
    "sig_df"
   ]
  },
  {
   "cell_type": "markdown",
   "metadata": {},
   "source": [
    "Combine"
   ]
  },
  {
   "cell_type": "code",
   "execution_count": null,
   "metadata": {},
   "outputs": [],
   "source": [
    "sig_df.to_csv('at_least_one_significant_interacting.csv')"
   ]
  },
  {
   "cell_type": "code",
   "execution_count": null,
   "metadata": {},
   "outputs": [],
   "source": [
    "stdev = ip_df.std()"
   ]
  },
  {
   "cell_type": "code",
   "execution_count": null,
   "metadata": {},
   "outputs": [],
   "source": [
    "stdev = stdev.to_frame()"
   ]
  },
  {
   "cell_type": "code",
   "execution_count": null,
   "metadata": {},
   "outputs": [],
   "source": [
    "stdev.loc[stdev[0] > .2]"
   ]
  },
  {
   "cell_type": "code",
   "execution_count": null,
   "metadata": {},
   "outputs": [],
   "source": [
    "d_stdev = stdev.std()\n",
    "d_stdev"
   ]
  },
  {
   "cell_type": "code",
   "execution_count": null,
   "metadata": {},
   "outputs": [],
   "source": [
    "a = stdev.hist(bins = 20)\n",
    "plt.title(\"Standard Deviations of Pancancer CNV deletions and amplifications of PTEN on Interacting Proteins\\n\")\n",
    "plt.xlabel('StDeV')\n",
    "plt.ylabel('Count')"
   ]
  },
  {
   "cell_type": "code",
   "execution_count": null,
   "metadata": {},
   "outputs": [],
   "source": [
    "plt.rcParams['figure.figsize']=(10,8)\n",
    "sns.set(font_scale = 1.3)\n",
    "a = sns.distplot(stdev, bins = 20)\n",
    "\n",
    "a.set_title(\"Standard Deviation Distribution for Pancancer PTEN Mutation Effect on Proteomics\\n\\n (Median of proteomics with Wildtype PTEN - Median of proteomics with Mutated PTEN)\")\n",
    "a.set(xlabel = 'StDeV', ylabel = 'Frequency')"
   ]
  },
  {
   "cell_type": "markdown",
   "metadata": {},
   "source": [
    "Mean"
   ]
  },
  {
   "cell_type": "code",
   "execution_count": null,
   "metadata": {},
   "outputs": [],
   "source": [
    "mean_df = stdev.mean()"
   ]
  },
  {
   "cell_type": "code",
   "execution_count": null,
   "metadata": {},
   "outputs": [],
   "source": [
    "a = mean_df.hist(bins = 20)\n",
    "plt.title(\"Distribution of the Mean between Cancers for PTEN Mutation Effect on all Proteins\\n\\n (Median of proteomics with Wildtype PTEN - Median of proteomics with Mutated PTEN)\")\n",
    "plt.xlabel('Mean')\n",
    "plt.ylabel('Count')"
   ]
  },
  {
   "cell_type": "code",
   "execution_count": null,
   "metadata": {},
   "outputs": [],
   "source": [
    "m_df = stdev.median()"
   ]
  },
  {
   "cell_type": "code",
   "execution_count": null,
   "metadata": {},
   "outputs": [],
   "source": [
    "a = m_df.hist(bins = 20)\n",
    "plt.title(\"Distribution of the Medians between Cancers for PTEN Mutation Effect on all Proteins\\n\\n (Median of proteomics with Wildtype PTEN - Median of proteomics with Mutated PTEN)\")\n",
    "plt.xlabel('Median')\n",
    "plt.ylabel('Count')"
   ]
  },
  {
   "cell_type": "code",
   "execution_count": null,
   "metadata": {},
   "outputs": [],
   "source": []
  }
 ],
 "metadata": {
  "kernelspec": {
   "display_name": "Python 3",
   "language": "python",
   "name": "python3"
  },
  "language_info": {
   "codemirror_mode": {
    "name": "ipython",
    "version": 3
   },
   "file_extension": ".py",
   "mimetype": "text/x-python",
   "name": "python",
   "nbconvert_exporter": "python",
   "pygments_lexer": "ipython3",
   "version": "3.7.3"
  }
 },
 "nbformat": 4,
 "nbformat_minor": 2
}
