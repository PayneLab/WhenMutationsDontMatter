{
 "cells": [
  {
   "cell_type": "markdown",
   "metadata": {},
   "source": [
    "# Run a Gene Set Enrichment Analysis using NCI_Nature"
   ]
  },
  {
   "cell_type": "markdown",
   "metadata": {},
   "source": [
    "This notebook looks at the significant genes in at least one cancer. GSEA is used to recognize pathways with multiple significant genes. "
   ]
  },
  {
   "cell_type": "code",
   "execution_count": 1,
   "metadata": {},
   "outputs": [],
   "source": [
    "import pandas as pd\n",
    "import numpy as np\n",
    "import seaborn as sns\n",
    "import matplotlib.pyplot as plt\n",
    "import scipy.stats\n",
    "import gseapy as gp\n",
    "import re\n",
    "import sys \n",
    "\n",
    "import cptac\n",
    "import cptac.utils as u\n",
    "\n",
    "import plot_utils as p"
   ]
  },
  {
   "cell_type": "markdown",
   "metadata": {},
   "source": [
    "# Step 1: Run GSEA for significant genes in at least 1 cancer"
   ]
  },
  {
   "cell_type": "markdown",
   "metadata": {},
   "source": [
    "First read in sig_pval_all_proteins.csv into a df. This csv file contains only genes with a significant p-value in at least one cancer. Then run GSEA using a list of genes from the df."
   ]
  },
  {
   "cell_type": "code",
   "execution_count": 2,
   "metadata": {},
   "outputs": [
    {
     "name": "stdout",
     "output_type": "stream",
     "text": [
      "2630\n"
     ]
    }
   ],
   "source": [
    "df = pd.read_csv('../../Make_Tables/csv/sig_pval_heatmap.csv')\n",
    "\n",
    "prot_list = list(df.Proteomics.unique()) # list of genes with a sig pval in >= 1 cancer\n",
    "print(len(prot_list))\n",
    "prot_enr = gp.enrichr(gene_list = prot_list, description='Tumor_partition', gene_sets='NCI-Nature_2016', \n",
    "                       outdir='/Enrichr')\n",
    "#gp.get_library_name() #Cancer_Cell_Line_Encyclopedia #NCI-60_Cancer_Cell_Lines"
   ]
  },
  {
   "cell_type": "code",
   "execution_count": 3,
   "metadata": {},
   "outputs": [
    {
     "data": {
      "text/html": [
       "<div>\n",
       "<style scoped>\n",
       "    .dataframe tbody tr th:only-of-type {\n",
       "        vertical-align: middle;\n",
       "    }\n",
       "\n",
       "    .dataframe tbody tr th {\n",
       "        vertical-align: top;\n",
       "    }\n",
       "\n",
       "    .dataframe thead th {\n",
       "        text-align: right;\n",
       "    }\n",
       "</style>\n",
       "<table border=\"1\" class=\"dataframe\">\n",
       "  <thead>\n",
       "    <tr style=\"text-align: right;\">\n",
       "      <th></th>\n",
       "      <th>Term</th>\n",
       "      <th>Overlap</th>\n",
       "      <th>P-value</th>\n",
       "      <th>Adjusted P-value</th>\n",
       "      <th>Old P-value</th>\n",
       "      <th>Old Adjusted P-value</th>\n",
       "      <th>Odds Ratio</th>\n",
       "      <th>Combined Score</th>\n",
       "      <th>Genes</th>\n",
       "      <th>Gene_set</th>\n",
       "    </tr>\n",
       "  </thead>\n",
       "  <tbody>\n",
       "    <tr>\n",
       "      <th>0</th>\n",
       "      <td>Regulation of RAC1 activity Homo sapiens 351aa...</td>\n",
       "      <td>17/38</td>\n",
       "      <td>0.000002</td>\n",
       "      <td>0.000384</td>\n",
       "      <td>0</td>\n",
       "      <td>0</td>\n",
       "      <td>3.402041</td>\n",
       "      <td>44.928225</td>\n",
       "      <td>DOCK6;ARHGAP9;RASGRF2;RAP1GDS1;VAV1;DEF6;EPS8;...</td>\n",
       "      <td>NCI-Nature_2016</td>\n",
       "    </tr>\n",
       "    <tr>\n",
       "      <th>1</th>\n",
       "      <td>Class I PI3K signaling events Homo sapiens 12b...</td>\n",
       "      <td>18/48</td>\n",
       "      <td>0.000019</td>\n",
       "      <td>0.001949</td>\n",
       "      <td>0</td>\n",
       "      <td>0</td>\n",
       "      <td>2.851711</td>\n",
       "      <td>31.053913</td>\n",
       "      <td>HSP90AA1;SYK;PLEKHA1;PDPK1;PIK3CD;PIK3R1;ADAP1...</td>\n",
       "      <td>NCI-Nature_2016</td>\n",
       "    </tr>\n",
       "    <tr>\n",
       "      <th>2</th>\n",
       "      <td>Fanconi anemia pathway Homo sapiens 6befb873-6...</td>\n",
       "      <td>17/47</td>\n",
       "      <td>0.000054</td>\n",
       "      <td>0.003782</td>\n",
       "      <td>0</td>\n",
       "      <td>0</td>\n",
       "      <td>2.750587</td>\n",
       "      <td>27.014064</td>\n",
       "      <td>FANCI;RFC5;RFC3;WDR48;RFC4;RFC2;RMI1;TOP3A;RPA...</td>\n",
       "      <td>NCI-Nature_2016</td>\n",
       "    </tr>\n",
       "    <tr>\n",
       "      <th>3</th>\n",
       "      <td>Signaling events mediated by TCPTP Homo sapien...</td>\n",
       "      <td>15/42</td>\n",
       "      <td>0.000174</td>\n",
       "      <td>0.009094</td>\n",
       "      <td>0</td>\n",
       "      <td>0</td>\n",
       "      <td>2.715915</td>\n",
       "      <td>23.509534</td>\n",
       "      <td>CSF1R;STAT1;PIK3CD;EIF2AK2;PIK3R1;EGFR;VEGFA;P...</td>\n",
       "      <td>NCI-Nature_2016</td>\n",
       "    </tr>\n",
       "    <tr>\n",
       "      <th>4</th>\n",
       "      <td>FAS (CD95) signaling pathway Homo sapiens 79cc...</td>\n",
       "      <td>14/38</td>\n",
       "      <td>0.000195</td>\n",
       "      <td>0.008151</td>\n",
       "      <td>0</td>\n",
       "      <td>0</td>\n",
       "      <td>2.801681</td>\n",
       "      <td>23.933300</td>\n",
       "      <td>SYK;CHUK;RFC1;PDPK1;CLTC;PIK3CD;PIK3R1;MAPK10;...</td>\n",
       "      <td>NCI-Nature_2016</td>\n",
       "    </tr>\n",
       "  </tbody>\n",
       "</table>\n",
       "</div>"
      ],
      "text/plain": [
       "                                                Term Overlap   P-value  \\\n",
       "0  Regulation of RAC1 activity Homo sapiens 351aa...   17/38  0.000002   \n",
       "1  Class I PI3K signaling events Homo sapiens 12b...   18/48  0.000019   \n",
       "2  Fanconi anemia pathway Homo sapiens 6befb873-6...   17/47  0.000054   \n",
       "3  Signaling events mediated by TCPTP Homo sapien...   15/42  0.000174   \n",
       "4  FAS (CD95) signaling pathway Homo sapiens 79cc...   14/38  0.000195   \n",
       "\n",
       "   Adjusted P-value  Old P-value  Old Adjusted P-value  Odds Ratio  \\\n",
       "0          0.000384            0                     0    3.402041   \n",
       "1          0.001949            0                     0    2.851711   \n",
       "2          0.003782            0                     0    2.750587   \n",
       "3          0.009094            0                     0    2.715915   \n",
       "4          0.008151            0                     0    2.801681   \n",
       "\n",
       "   Combined Score                                              Genes  \\\n",
       "0       44.928225  DOCK6;ARHGAP9;RASGRF2;RAP1GDS1;VAV1;DEF6;EPS8;...   \n",
       "1       31.053913  HSP90AA1;SYK;PLEKHA1;PDPK1;PIK3CD;PIK3R1;ADAP1...   \n",
       "2       27.014064  FANCI;RFC5;RFC3;WDR48;RFC4;RFC2;RMI1;TOP3A;RPA...   \n",
       "3       23.509534  CSF1R;STAT1;PIK3CD;EIF2AK2;PIK3R1;EGFR;VEGFA;P...   \n",
       "4       23.933300  SYK;CHUK;RFC1;PDPK1;CLTC;PIK3CD;PIK3R1;MAPK10;...   \n",
       "\n",
       "          Gene_set  \n",
       "0  NCI-Nature_2016  \n",
       "1  NCI-Nature_2016  \n",
       "2  NCI-Nature_2016  \n",
       "3  NCI-Nature_2016  \n",
       "4  NCI-Nature_2016  "
      ]
     },
     "execution_count": 3,
     "metadata": {},
     "output_type": "execute_result"
    }
   ],
   "source": [
    "prot_enr.res2d.head()"
   ]
  },
  {
   "cell_type": "markdown",
   "metadata": {},
   "source": [
    "# Run GSEA for significant genes in multiple cancers"
   ]
  },
  {
   "cell_type": "code",
   "execution_count": 4,
   "metadata": {},
   "outputs": [],
   "source": [
    "df = pd.read_csv('../../Make_Tables/csv/mult_sig_pval_heatmap.csv')\n",
    "\n",
    "mult_sig_list = list(df.Proteomics.unique()) # list of genes with a sig pval in >= 1 cancer\n",
    "prot_enr = gp.enrichr(gene_list = mult_sig_list, description='Tumor_partition', gene_sets='NCI-Nature_2016', \n",
    "                       outdir='/Enrichr')"
   ]
  },
  {
   "cell_type": "code",
   "execution_count": 5,
   "metadata": {},
   "outputs": [
    {
     "data": {
      "text/html": [
       "<div>\n",
       "<style scoped>\n",
       "    .dataframe tbody tr th:only-of-type {\n",
       "        vertical-align: middle;\n",
       "    }\n",
       "\n",
       "    .dataframe tbody tr th {\n",
       "        vertical-align: top;\n",
       "    }\n",
       "\n",
       "    .dataframe thead th {\n",
       "        text-align: right;\n",
       "    }\n",
       "</style>\n",
       "<table border=\"1\" class=\"dataframe\">\n",
       "  <thead>\n",
       "    <tr style=\"text-align: right;\">\n",
       "      <th></th>\n",
       "      <th>Term</th>\n",
       "      <th>Overlap</th>\n",
       "      <th>P-value</th>\n",
       "      <th>Adjusted P-value</th>\n",
       "      <th>Old P-value</th>\n",
       "      <th>Old Adjusted P-value</th>\n",
       "      <th>Odds Ratio</th>\n",
       "      <th>Combined Score</th>\n",
       "      <th>Genes</th>\n",
       "      <th>Gene_set</th>\n",
       "    </tr>\n",
       "  </thead>\n",
       "  <tbody>\n",
       "    <tr>\n",
       "      <th>0</th>\n",
       "      <td>BCR signaling pathway Homo sapiens acbf44e2-61...</td>\n",
       "      <td>9/64</td>\n",
       "      <td>0.000001</td>\n",
       "      <td>0.000222</td>\n",
       "      <td>0</td>\n",
       "      <td>0</td>\n",
       "      <td>8.471386</td>\n",
       "      <td>116.542158</td>\n",
       "      <td>MAP4K1;PPP3CB;PTPRC;SYK;CHUK;PIK3CA;BLNK;BTK;P...</td>\n",
       "      <td>NCI-Nature_2016</td>\n",
       "    </tr>\n",
       "    <tr>\n",
       "      <th>1</th>\n",
       "      <td>Class I PI3K signaling events Homo sapiens 12b...</td>\n",
       "      <td>8/48</td>\n",
       "      <td>0.000001</td>\n",
       "      <td>0.000117</td>\n",
       "      <td>0</td>\n",
       "      <td>0</td>\n",
       "      <td>10.040161</td>\n",
       "      <td>137.556168</td>\n",
       "      <td>ZAP70;SYK;PIK3CA;BLNK;PLCG2;BTK;PIK3CD;CYTH1</td>\n",
       "      <td>NCI-Nature_2016</td>\n",
       "    </tr>\n",
       "    <tr>\n",
       "      <th>2</th>\n",
       "      <td>IL8- and CXCR2-mediated signaling events Homo ...</td>\n",
       "      <td>6/34</td>\n",
       "      <td>0.000018</td>\n",
       "      <td>0.001266</td>\n",
       "      <td>0</td>\n",
       "      <td>0</td>\n",
       "      <td>10.630758</td>\n",
       "      <td>116.042320</td>\n",
       "      <td>GNG2;PRKCB;RAC2;ELMO1;DOCK2;GNAI2</td>\n",
       "      <td>NCI-Nature_2016</td>\n",
       "    </tr>\n",
       "    <tr>\n",
       "      <th>3</th>\n",
       "      <td>ATR signaling pathway Homo sapiens 8991cbac-61...</td>\n",
       "      <td>6/39</td>\n",
       "      <td>0.000041</td>\n",
       "      <td>0.002148</td>\n",
       "      <td>0</td>\n",
       "      <td>0</td>\n",
       "      <td>9.267841</td>\n",
       "      <td>93.598766</td>\n",
       "      <td>RFC3;RFC4;MCM7;RFC2;TOPBP1;MCM2</td>\n",
       "      <td>NCI-Nature_2016</td>\n",
       "    </tr>\n",
       "    <tr>\n",
       "      <th>4</th>\n",
       "      <td>CXCR3-mediated signaling events Homo sapiens 3...</td>\n",
       "      <td>6/43</td>\n",
       "      <td>0.000073</td>\n",
       "      <td>0.003037</td>\n",
       "      <td>0</td>\n",
       "      <td>0</td>\n",
       "      <td>8.405716</td>\n",
       "      <td>80.105650</td>\n",
       "      <td>GNG2;PIK3CA;ITGB2;PIK3CD;ITGAL;GNAI2</td>\n",
       "      <td>NCI-Nature_2016</td>\n",
       "    </tr>\n",
       "    <tr>\n",
       "      <th>5</th>\n",
       "      <td>TCR signaling in naive CD4+ T cells Homo sapie...</td>\n",
       "      <td>7/64</td>\n",
       "      <td>0.000090</td>\n",
       "      <td>0.003134</td>\n",
       "      <td>0</td>\n",
       "      <td>0</td>\n",
       "      <td>6.588855</td>\n",
       "      <td>61.381742</td>\n",
       "      <td>MAP4K1;ZAP70;CD4;PTPRC;CHUK;PRKCB;WAS</td>\n",
       "      <td>NCI-Nature_2016</td>\n",
       "    </tr>\n",
       "  </tbody>\n",
       "</table>\n",
       "</div>"
      ],
      "text/plain": [
       "                                                Term Overlap   P-value  \\\n",
       "0  BCR signaling pathway Homo sapiens acbf44e2-61...    9/64  0.000001   \n",
       "1  Class I PI3K signaling events Homo sapiens 12b...    8/48  0.000001   \n",
       "2  IL8- and CXCR2-mediated signaling events Homo ...    6/34  0.000018   \n",
       "3  ATR signaling pathway Homo sapiens 8991cbac-61...    6/39  0.000041   \n",
       "4  CXCR3-mediated signaling events Homo sapiens 3...    6/43  0.000073   \n",
       "5  TCR signaling in naive CD4+ T cells Homo sapie...    7/64  0.000090   \n",
       "\n",
       "   Adjusted P-value  Old P-value  Old Adjusted P-value  Odds Ratio  \\\n",
       "0          0.000222            0                     0    8.471386   \n",
       "1          0.000117            0                     0   10.040161   \n",
       "2          0.001266            0                     0   10.630758   \n",
       "3          0.002148            0                     0    9.267841   \n",
       "4          0.003037            0                     0    8.405716   \n",
       "5          0.003134            0                     0    6.588855   \n",
       "\n",
       "   Combined Score                                              Genes  \\\n",
       "0      116.542158  MAP4K1;PPP3CB;PTPRC;SYK;CHUK;PIK3CA;BLNK;BTK;P...   \n",
       "1      137.556168       ZAP70;SYK;PIK3CA;BLNK;PLCG2;BTK;PIK3CD;CYTH1   \n",
       "2      116.042320                  GNG2;PRKCB;RAC2;ELMO1;DOCK2;GNAI2   \n",
       "3       93.598766                    RFC3;RFC4;MCM7;RFC2;TOPBP1;MCM2   \n",
       "4       80.105650               GNG2;PIK3CA;ITGB2;PIK3CD;ITGAL;GNAI2   \n",
       "5       61.381742              MAP4K1;ZAP70;CD4;PTPRC;CHUK;PRKCB;WAS   \n",
       "\n",
       "          Gene_set  \n",
       "0  NCI-Nature_2016  \n",
       "1  NCI-Nature_2016  \n",
       "2  NCI-Nature_2016  \n",
       "3  NCI-Nature_2016  \n",
       "4  NCI-Nature_2016  \n",
       "5  NCI-Nature_2016  "
      ]
     },
     "execution_count": 5,
     "metadata": {},
     "output_type": "execute_result"
    }
   ],
   "source": [
    "prot_enr.res2d.head(6)"
   ]
  },
  {
   "cell_type": "code",
   "execution_count": 23,
   "metadata": {},
   "outputs": [
    {
     "name": "stdout",
     "output_type": "stream",
     "text": [
      "IL8- and CXCR2-mediated signaling events Homo sapiens fe78e284-6193-11e5-8ac5-06603eb7f303\n",
      "6 genes\n"
     ]
    },
    {
     "data": {
      "text/plain": [
       "['GNG2', 'PRKCB', 'RAC2', 'ELMO1', 'DOCK2', 'GNAI2']"
      ]
     },
     "execution_count": 23,
     "metadata": {},
     "output_type": "execute_result"
    }
   ],
   "source": [
    "i = 2\n",
    "print(prot_enr.res2d.Term[i])\n",
    "test = prot_enr.res2d.Genes[i]\n",
    "\n",
    "t_list = test.split(';')\n",
    "print(len(t_list), 'genes')\n",
    "t_list"
   ]
  },
  {
   "cell_type": "code",
   "execution_count": null,
   "metadata": {},
   "outputs": [],
   "source": []
  },
  {
   "cell_type": "code",
   "execution_count": null,
   "metadata": {},
   "outputs": [],
   "source": []
  },
  {
   "cell_type": "code",
   "execution_count": null,
   "metadata": {},
   "outputs": [],
   "source": []
  },
  {
   "cell_type": "code",
   "execution_count": null,
   "metadata": {},
   "outputs": [],
   "source": []
  },
  {
   "cell_type": "code",
   "execution_count": 6,
   "metadata": {},
   "outputs": [],
   "source": [
    "all_genes = \"CD3E,CD3G,CD4,CD8A,LCK,ZAP70,GRAP2,VAV1,GRB2,FYB1,PLCG1,NFATC2,PPP3CC,RAC2,CD79A,SYK,BTK,CD5,PTPN6,LYN,PTPRC,PIK3CG,INPP5D,PRKCQ,BLNK,BLK,HLA-DMA,HLA-DMB,NFKB2,PRKCB,PLCG2,ELMO1,DOCK2,WAS\""
   ]
  },
  {
   "cell_type": "code",
   "execution_count": 7,
   "metadata": {},
   "outputs": [],
   "source": [
    "prot_list = all_genes.split(',')"
   ]
  },
  {
   "cell_type": "code",
   "execution_count": 8,
   "metadata": {},
   "outputs": [],
   "source": [
    "prot_enr = gp.enrichr(gene_list = prot_list, description='Tumor_partition', gene_sets='Reactome_2016', #'NCI-Nature_2016', \n",
    "                       outdir='/Enrichr')"
   ]
  },
  {
   "cell_type": "code",
   "execution_count": 9,
   "metadata": {},
   "outputs": [
    {
     "data": {
      "text/html": [
       "<div>\n",
       "<style scoped>\n",
       "    .dataframe tbody tr th:only-of-type {\n",
       "        vertical-align: middle;\n",
       "    }\n",
       "\n",
       "    .dataframe tbody tr th {\n",
       "        vertical-align: top;\n",
       "    }\n",
       "\n",
       "    .dataframe thead th {\n",
       "        text-align: right;\n",
       "    }\n",
       "</style>\n",
       "<table border=\"1\" class=\"dataframe\">\n",
       "  <thead>\n",
       "    <tr style=\"text-align: right;\">\n",
       "      <th></th>\n",
       "      <th>Term</th>\n",
       "      <th>Overlap</th>\n",
       "      <th>P-value</th>\n",
       "      <th>Adjusted P-value</th>\n",
       "      <th>Old P-value</th>\n",
       "      <th>Old Adjusted P-value</th>\n",
       "      <th>Odds Ratio</th>\n",
       "      <th>Combined Score</th>\n",
       "      <th>Genes</th>\n",
       "      <th>Gene_set</th>\n",
       "    </tr>\n",
       "  </thead>\n",
       "  <tbody>\n",
       "    <tr>\n",
       "      <th>0</th>\n",
       "      <td>Adaptive Immune System Homo sapiens R-HSA-1280218</td>\n",
       "      <td>25/762</td>\n",
       "      <td>8.600090e-29</td>\n",
       "      <td>1.315814e-25</td>\n",
       "      <td>0</td>\n",
       "      <td>0</td>\n",
       "      <td>19.299058</td>\n",
       "      <td>1247.166803</td>\n",
       "      <td>BLK;WAS;CD3G;CD3E;CD79A;HLA-DMA;HLA-DMB;INPP5D...</td>\n",
       "      <td>Reactome_2016</td>\n",
       "    </tr>\n",
       "    <tr>\n",
       "      <th>1</th>\n",
       "      <td>Immune System Homo sapiens R-HSA-168256</td>\n",
       "      <td>28/1547</td>\n",
       "      <td>5.100570e-26</td>\n",
       "      <td>3.901936e-23</td>\n",
       "      <td>0</td>\n",
       "      <td>0</td>\n",
       "      <td>10.646793</td>\n",
       "      <td>620.046422</td>\n",
       "      <td>BLK;WAS;CD3G;CD3E;CD79A;HLA-DMA;HLA-DMB;INPP5D...</td>\n",
       "      <td>Reactome_2016</td>\n",
       "    </tr>\n",
       "    <tr>\n",
       "      <th>2</th>\n",
       "      <td>Antigen activates B Cell Receptor (BCR) leadin...</td>\n",
       "      <td>11/47</td>\n",
       "      <td>9.365155e-22</td>\n",
       "      <td>4.776229e-19</td>\n",
       "      <td>0</td>\n",
       "      <td>0</td>\n",
       "      <td>137.672090</td>\n",
       "      <td>6666.065553</td>\n",
       "      <td>LYN;BLK;CD79A;SYK;BTK;BLNK;PLCG2;GRB2;PTPN6;PL...</td>\n",
       "      <td>Reactome_2016</td>\n",
       "    </tr>\n",
       "    <tr>\n",
       "      <th>3</th>\n",
       "      <td>Signaling by the B Cell Receptor (BCR) Homo sa...</td>\n",
       "      <td>13/233</td>\n",
       "      <td>3.885316e-17</td>\n",
       "      <td>1.486134e-14</td>\n",
       "      <td>0</td>\n",
       "      <td>0</td>\n",
       "      <td>32.819995</td>\n",
       "      <td>1240.160687</td>\n",
       "      <td>LYN;BLK;SYK;PRKCB;VAV1;CD79A;LCK;BTK;BLNK;PLCG...</td>\n",
       "      <td>Reactome_2016</td>\n",
       "    </tr>\n",
       "    <tr>\n",
       "      <th>4</th>\n",
       "      <td>TCR signaling Homo sapiens R-HSA-202403</td>\n",
       "      <td>11/118</td>\n",
       "      <td>4.774590e-17</td>\n",
       "      <td>1.461025e-14</td>\n",
       "      <td>0</td>\n",
       "      <td>0</td>\n",
       "      <td>54.835494</td>\n",
       "      <td>2060.752855</td>\n",
       "      <td>ZAP70;CD4;PTPRC;LCK;INPP5D;GRAP2;WAS;PRKCQ;CD3...</td>\n",
       "      <td>Reactome_2016</td>\n",
       "    </tr>\n",
       "    <tr>\n",
       "      <th>5</th>\n",
       "      <td>GPVI-mediated activation cascade Homo sapiens ...</td>\n",
       "      <td>9/53</td>\n",
       "      <td>1.569577e-16</td>\n",
       "      <td>4.002423e-14</td>\n",
       "      <td>0</td>\n",
       "      <td>0</td>\n",
       "      <td>99.889012</td>\n",
       "      <td>3635.016596</td>\n",
       "      <td>LYN;SYK;LCK;RAC2;PLCG2;GRB2;PTPN6;VAV1;PIK3CG</td>\n",
       "      <td>Reactome_2016</td>\n",
       "    </tr>\n",
       "  </tbody>\n",
       "</table>\n",
       "</div>"
      ],
      "text/plain": [
       "                                                Term  Overlap       P-value  \\\n",
       "0  Adaptive Immune System Homo sapiens R-HSA-1280218   25/762  8.600090e-29   \n",
       "1            Immune System Homo sapiens R-HSA-168256  28/1547  5.100570e-26   \n",
       "2  Antigen activates B Cell Receptor (BCR) leadin...    11/47  9.365155e-22   \n",
       "3  Signaling by the B Cell Receptor (BCR) Homo sa...   13/233  3.885316e-17   \n",
       "4            TCR signaling Homo sapiens R-HSA-202403   11/118  4.774590e-17   \n",
       "5  GPVI-mediated activation cascade Homo sapiens ...     9/53  1.569577e-16   \n",
       "\n",
       "   Adjusted P-value  Old P-value  Old Adjusted P-value  Odds Ratio  \\\n",
       "0      1.315814e-25            0                     0   19.299058   \n",
       "1      3.901936e-23            0                     0   10.646793   \n",
       "2      4.776229e-19            0                     0  137.672090   \n",
       "3      1.486134e-14            0                     0   32.819995   \n",
       "4      1.461025e-14            0                     0   54.835494   \n",
       "5      4.002423e-14            0                     0   99.889012   \n",
       "\n",
       "   Combined Score                                              Genes  \\\n",
       "0     1247.166803  BLK;WAS;CD3G;CD3E;CD79A;HLA-DMA;HLA-DMB;INPP5D...   \n",
       "1      620.046422  BLK;WAS;CD3G;CD3E;CD79A;HLA-DMA;HLA-DMB;INPP5D...   \n",
       "2     6666.065553  LYN;BLK;CD79A;SYK;BTK;BLNK;PLCG2;GRB2;PTPN6;PL...   \n",
       "3     1240.160687  LYN;BLK;SYK;PRKCB;VAV1;CD79A;LCK;BTK;BLNK;PLCG...   \n",
       "4     2060.752855  ZAP70;CD4;PTPRC;LCK;INPP5D;GRAP2;WAS;PRKCQ;CD3...   \n",
       "5     3635.016596      LYN;SYK;LCK;RAC2;PLCG2;GRB2;PTPN6;VAV1;PIK3CG   \n",
       "\n",
       "        Gene_set  \n",
       "0  Reactome_2016  \n",
       "1  Reactome_2016  \n",
       "2  Reactome_2016  \n",
       "3  Reactome_2016  \n",
       "4  Reactome_2016  \n",
       "5  Reactome_2016  "
      ]
     },
     "execution_count": 9,
     "metadata": {},
     "output_type": "execute_result"
    }
   ],
   "source": [
    "prot_enr.res2d.head(6)"
   ]
  },
  {
   "cell_type": "code",
   "execution_count": 11,
   "metadata": {},
   "outputs": [
    {
     "name": "stdout",
     "output_type": "stream",
     "text": [
      "TCR signaling Homo sapiens R-HSA-202403\n",
      "11 genes\n"
     ]
    },
    {
     "data": {
      "text/plain": [
       "['ZAP70',\n",
       " 'CD4',\n",
       " 'PTPRC',\n",
       " 'LCK',\n",
       " 'INPP5D',\n",
       " 'GRAP2',\n",
       " 'WAS',\n",
       " 'PRKCQ',\n",
       " 'CD3G',\n",
       " 'PLCG1',\n",
       " 'CD3E']"
      ]
     },
     "execution_count": 11,
     "metadata": {},
     "output_type": "execute_result"
    }
   ],
   "source": [
    "i = 4\n",
    "print(prot_enr.res2d.Term[i])\n",
    "t_cell = prot_enr.res2d.Genes[i]\n",
    "\n",
    "t_cell_list = t_cell.split(';')\n",
    "print(len(t_cell_list), 'genes')\n",
    "t_cell_list"
   ]
  },
  {
   "cell_type": "code",
   "execution_count": 12,
   "metadata": {},
   "outputs": [
    {
     "name": "stdout",
     "output_type": "stream",
     "text": [
      "Signaling by the B Cell Receptor (BCR) Homo sapiens R-HSA-983705\n",
      "13 genes\n"
     ]
    },
    {
     "data": {
      "text/plain": [
       "['LYN',\n",
       " 'BLK',\n",
       " 'SYK',\n",
       " 'PRKCB',\n",
       " 'VAV1',\n",
       " 'CD79A',\n",
       " 'LCK',\n",
       " 'BTK',\n",
       " 'BLNK',\n",
       " 'PLCG2',\n",
       " 'GRB2',\n",
       " 'PTPN6',\n",
       " 'PLCG1']"
      ]
     },
     "execution_count": 12,
     "metadata": {},
     "output_type": "execute_result"
    }
   ],
   "source": [
    "i = 3\n",
    "print(prot_enr.res2d.Term[i])\n",
    "b_cell = prot_enr.res2d.Genes[i]\n",
    "\n",
    "b_cell_list = b_cell.split(';')\n",
    "print(len(b_cell_list), 'genes')\n",
    "b_cell_list"
   ]
  },
  {
   "cell_type": "code",
   "execution_count": 13,
   "metadata": {},
   "outputs": [],
   "source": [
    "both = [value for value in t_cell_list if value in b_cell_list] "
   ]
  },
  {
   "cell_type": "code",
   "execution_count": 14,
   "metadata": {},
   "outputs": [
    {
     "data": {
      "text/plain": [
       "['LCK', 'PLCG1']"
      ]
     },
     "execution_count": 14,
     "metadata": {},
     "output_type": "execute_result"
    }
   ],
   "source": [
    "both"
   ]
  },
  {
   "cell_type": "markdown",
   "metadata": {},
   "source": [
    "# "
   ]
  }
 ],
 "metadata": {
  "kernelspec": {
   "display_name": "Python 3",
   "language": "python",
   "name": "python3"
  },
  "language_info": {
   "codemirror_mode": {
    "name": "ipython",
    "version": 3
   },
   "file_extension": ".py",
   "mimetype": "text/x-python",
   "name": "python",
   "nbconvert_exporter": "python",
   "pygments_lexer": "ipython3",
   "version": "3.7.3"
  }
 },
 "nbformat": 4,
 "nbformat_minor": 2
}
