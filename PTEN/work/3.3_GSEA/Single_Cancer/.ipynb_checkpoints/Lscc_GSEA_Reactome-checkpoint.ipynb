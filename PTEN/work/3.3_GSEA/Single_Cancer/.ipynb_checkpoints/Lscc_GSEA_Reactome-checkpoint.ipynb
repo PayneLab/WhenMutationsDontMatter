{
 "cells": [
  {
   "cell_type": "markdown",
   "metadata": {},
   "source": [
    "# Run a Gene Set Enrichment Analysis using Reactome_2016"
   ]
  },
  {
   "cell_type": "markdown",
   "metadata": {},
   "source": [
    "This notebook looks at the significant genes in at least one cancer. GSEA is used to recognize pathways with multiple significant genes. "
   ]
  },
  {
   "cell_type": "code",
   "execution_count": 1,
   "metadata": {},
   "outputs": [],
   "source": [
    "import pandas as pd\n",
    "import numpy as np\n",
    "import seaborn as sns\n",
    "import matplotlib.pyplot as plt\n",
    "import scipy.stats\n",
    "import gseapy as gp\n",
    "import re\n",
    "import sys \n",
    "\n",
    "import cptac\n",
    "import cptac.utils as u\n",
    "\n",
    "import plot_utils as p"
   ]
  },
  {
   "cell_type": "markdown",
   "metadata": {},
   "source": [
    "# Step 1: Run GSEA for significant genes in at least 1 cancer"
   ]
  },
  {
   "cell_type": "markdown",
   "metadata": {},
   "source": [
    "First read in sig_pval_all_proteins.csv into a df. This csv file contains only genes with a significant p-value in at least one cancer. Then run GSEA using a list of genes from the df."
   ]
  },
  {
   "cell_type": "code",
   "execution_count": 6,
   "metadata": {},
   "outputs": [
    {
     "name": "stdout",
     "output_type": "stream",
     "text": [
      "108\n"
     ]
    },
    {
     "name": "stderr",
     "output_type": "stream",
     "text": [
      "2020-06-09 11:21:38,891 Warning: No enrich terms using library Reactome_2016 when cutoff = 0.05\n"
     ]
    }
   ],
   "source": [
    "root = R'~\\Github\\WhenMutationsDontMatter\\PTEN\\Step_3_trans_effect\\csv'\n",
    "df = pd.read_csv(root+R'\\luad_pval_medians.csv')\n",
    "\n",
    "df = df.loc[df['Luad_P_Value'] <= 0.0005181887]\n",
    "\n",
    "prot_list = list(df.Proteomics.unique())\n",
    "print(len(prot_list))\n",
    "prot_enr = gp.enrichr(gene_list = prot_list, description='Tumor_partition', gene_sets='Reactome_2016', \n",
    "                       outdir='/Enrichr')"
   ]
  },
  {
   "cell_type": "code",
   "execution_count": 5,
   "metadata": {},
   "outputs": [
    {
     "data": {
      "text/html": [
       "<div>\n",
       "<style scoped>\n",
       "    .dataframe tbody tr th:only-of-type {\n",
       "        vertical-align: middle;\n",
       "    }\n",
       "\n",
       "    .dataframe tbody tr th {\n",
       "        vertical-align: top;\n",
       "    }\n",
       "\n",
       "    .dataframe thead th {\n",
       "        text-align: right;\n",
       "    }\n",
       "</style>\n",
       "<table border=\"1\" class=\"dataframe\">\n",
       "  <thead>\n",
       "    <tr style=\"text-align: right;\">\n",
       "      <th></th>\n",
       "      <th>Term</th>\n",
       "      <th>Overlap</th>\n",
       "      <th>P-value</th>\n",
       "      <th>Adjusted P-value</th>\n",
       "      <th>Old P-value</th>\n",
       "      <th>Old Adjusted P-value</th>\n",
       "      <th>Odds Ratio</th>\n",
       "      <th>Combined Score</th>\n",
       "      <th>Genes</th>\n",
       "      <th>Gene_set</th>\n",
       "    </tr>\n",
       "  </thead>\n",
       "  <tbody>\n",
       "  </tbody>\n",
       "</table>\n",
       "</div>"
      ],
      "text/plain": [
       "Empty DataFrame\n",
       "Columns: [Term, Overlap, P-value, Adjusted P-value, Old P-value, Old Adjusted P-value, Odds Ratio, Combined Score, Genes, Gene_set]\n",
       "Index: []"
      ]
     },
     "execution_count": 5,
     "metadata": {},
     "output_type": "execute_result"
    }
   ],
   "source": [
    "prot_enr.res2d.head(30)"
   ]
  },
  {
   "cell_type": "code",
   "execution_count": 4,
   "metadata": {},
   "outputs": [],
   "source": [
    "pathway = prot_enr.res2d.Term.to_frame()\n",
    "genes = prot_enr.res2d.Genes.to_frame()"
   ]
  },
  {
   "cell_type": "code",
   "execution_count": 5,
   "metadata": {},
   "outputs": [
    {
     "data": {
      "text/html": [
       "<div>\n",
       "<style scoped>\n",
       "    .dataframe tbody tr th:only-of-type {\n",
       "        vertical-align: middle;\n",
       "    }\n",
       "\n",
       "    .dataframe tbody tr th {\n",
       "        vertical-align: top;\n",
       "    }\n",
       "\n",
       "    .dataframe thead th {\n",
       "        text-align: right;\n",
       "    }\n",
       "</style>\n",
       "<table border=\"1\" class=\"dataframe\">\n",
       "  <thead>\n",
       "    <tr style=\"text-align: right;\">\n",
       "      <th></th>\n",
       "      <th>Term</th>\n",
       "      <th>Genes</th>\n",
       "    </tr>\n",
       "  </thead>\n",
       "  <tbody>\n",
       "    <tr>\n",
       "      <th>0</th>\n",
       "      <td>Processing of Capped Intron-Containing Pre-mRN...</td>\n",
       "      <td>NUP107;NUP188;EIF4A3;HNRNPU;EFTUD2;SNRPD2;SNRP...</td>\n",
       "    </tr>\n",
       "    <tr>\n",
       "      <th>1</th>\n",
       "      <td>Gene Expression Homo sapiens R-HSA-74160</td>\n",
       "      <td>TDRKH;RPL4;ATF2;MDC1;NUP107;HNRNPU;EHMT1;PHAX;...</td>\n",
       "    </tr>\n",
       "    <tr>\n",
       "      <th>2</th>\n",
       "      <td>mRNA Splicing - Major Pathway Homo sapiens R-H...</td>\n",
       "      <td>EIF4A3;HNRNPU;YBX1;PRPF19;USP39;ELAVL1;EFTUD2;...</td>\n",
       "    </tr>\n",
       "    <tr>\n",
       "      <th>3</th>\n",
       "      <td>mRNA Splicing Homo sapiens R-HSA-72172</td>\n",
       "      <td>EIF4A3;HNRNPU;YBX1;PRPF19;USP39;ELAVL1;EFTUD2;...</td>\n",
       "    </tr>\n",
       "    <tr>\n",
       "      <th>4</th>\n",
       "      <td>Infectious disease Homo sapiens R-HSA-5663205</td>\n",
       "      <td>RPL4;NUP107;NUP188;RPL10A;RPL9;PSMD8;RPS15;PSM...</td>\n",
       "    </tr>\n",
       "    <tr>\n",
       "      <th>...</th>\n",
       "      <td>...</td>\n",
       "      <td>...</td>\n",
       "    </tr>\n",
       "    <tr>\n",
       "      <th>1311</th>\n",
       "      <td>Signaling by GPCR Homo sapiens R-HSA-372790</td>\n",
       "      <td>CHRM1;RASGRF2;PIK3CD;PEBP1;ARRB1;WDR83;ARRB2;P...</td>\n",
       "    </tr>\n",
       "    <tr>\n",
       "      <th>1312</th>\n",
       "      <td>GPCR downstream signaling Homo sapiens R-HSA-3...</td>\n",
       "      <td>CHRM1;RASGRF2;PIK3CD;ARRB1;ARRB2;PIK3CG;ARHGAP...</td>\n",
       "    </tr>\n",
       "    <tr>\n",
       "      <th>1313</th>\n",
       "      <td>GPCR ligand binding Homo sapiens R-HSA-500792</td>\n",
       "      <td>P2RY12;CCR1;P2RY13;CHRM1;C3;HEBP1;XK;GNG2;GNG7...</td>\n",
       "    </tr>\n",
       "    <tr>\n",
       "      <th>1314</th>\n",
       "      <td>Class A/1 (Rhodopsin-like receptors) Homo sapi...</td>\n",
       "      <td>C3;CCR1;P2RY12;HEBP1;P2RY13;XK;CHRM1;CCRL2;C3AR1</td>\n",
       "    </tr>\n",
       "    <tr>\n",
       "      <th>1315</th>\n",
       "      <td>Peptide ligand-binding receptors Homo sapiens ...</td>\n",
       "      <td>C3;CCR1;HEBP1;XK;CCRL2;C3AR1</td>\n",
       "    </tr>\n",
       "  </tbody>\n",
       "</table>\n",
       "<p>1316 rows × 2 columns</p>\n",
       "</div>"
      ],
      "text/plain": [
       "                                                   Term  \\\n",
       "0     Processing of Capped Intron-Containing Pre-mRN...   \n",
       "1              Gene Expression Homo sapiens R-HSA-74160   \n",
       "2     mRNA Splicing - Major Pathway Homo sapiens R-H...   \n",
       "3                mRNA Splicing Homo sapiens R-HSA-72172   \n",
       "4         Infectious disease Homo sapiens R-HSA-5663205   \n",
       "...                                                 ...   \n",
       "1311        Signaling by GPCR Homo sapiens R-HSA-372790   \n",
       "1312  GPCR downstream signaling Homo sapiens R-HSA-3...   \n",
       "1313      GPCR ligand binding Homo sapiens R-HSA-500792   \n",
       "1314  Class A/1 (Rhodopsin-like receptors) Homo sapi...   \n",
       "1315  Peptide ligand-binding receptors Homo sapiens ...   \n",
       "\n",
       "                                                  Genes  \n",
       "0     NUP107;NUP188;EIF4A3;HNRNPU;EFTUD2;SNRPD2;SNRP...  \n",
       "1     TDRKH;RPL4;ATF2;MDC1;NUP107;HNRNPU;EHMT1;PHAX;...  \n",
       "2     EIF4A3;HNRNPU;YBX1;PRPF19;USP39;ELAVL1;EFTUD2;...  \n",
       "3     EIF4A3;HNRNPU;YBX1;PRPF19;USP39;ELAVL1;EFTUD2;...  \n",
       "4     RPL4;NUP107;NUP188;RPL10A;RPL9;PSMD8;RPS15;PSM...  \n",
       "...                                                 ...  \n",
       "1311  CHRM1;RASGRF2;PIK3CD;PEBP1;ARRB1;WDR83;ARRB2;P...  \n",
       "1312  CHRM1;RASGRF2;PIK3CD;ARRB1;ARRB2;PIK3CG;ARHGAP...  \n",
       "1313  P2RY12;CCR1;P2RY13;CHRM1;C3;HEBP1;XK;GNG2;GNG7...  \n",
       "1314   C3;CCR1;P2RY12;HEBP1;P2RY13;XK;CHRM1;CCRL2;C3AR1  \n",
       "1315                       C3;CCR1;HEBP1;XK;CCRL2;C3AR1  \n",
       "\n",
       "[1316 rows x 2 columns]"
      ]
     },
     "execution_count": 5,
     "metadata": {},
     "output_type": "execute_result"
    }
   ],
   "source": [
    "sig = pathway.join(genes)\n",
    "sig"
   ]
  },
  {
   "cell_type": "markdown",
   "metadata": {},
   "source": [
    "# Run GSEA for significant genes in multiple cancers"
   ]
  },
  {
   "cell_type": "code",
   "execution_count": 6,
   "metadata": {},
   "outputs": [],
   "source": [
    "df = pd.read_csv(root+R'\\mult_sig_pval_heatmap.csv')\n",
    "\n",
    "mult_sig_list = list(df.Proteomics.unique()) # list of genes with a sig pval in >= 1 cancer\n",
    "prot_enr = gp.enrichr(gene_list = mult_sig_list, description='Tumor_partition', gene_sets='Reactome_2016', \n",
    "                       outdir='/Enrichr')"
   ]
  },
  {
   "cell_type": "code",
   "execution_count": 7,
   "metadata": {},
   "outputs": [
    {
     "data": {
      "text/html": [
       "<div>\n",
       "<style scoped>\n",
       "    .dataframe tbody tr th:only-of-type {\n",
       "        vertical-align: middle;\n",
       "    }\n",
       "\n",
       "    .dataframe tbody tr th {\n",
       "        vertical-align: top;\n",
       "    }\n",
       "\n",
       "    .dataframe thead th {\n",
       "        text-align: right;\n",
       "    }\n",
       "</style>\n",
       "<table border=\"1\" class=\"dataframe\">\n",
       "  <thead>\n",
       "    <tr style=\"text-align: right;\">\n",
       "      <th></th>\n",
       "      <th>Term</th>\n",
       "      <th>Overlap</th>\n",
       "      <th>P-value</th>\n",
       "      <th>Adjusted P-value</th>\n",
       "      <th>Old P-value</th>\n",
       "      <th>Old Adjusted P-value</th>\n",
       "      <th>Odds Ratio</th>\n",
       "      <th>Combined Score</th>\n",
       "      <th>Genes</th>\n",
       "      <th>Gene_set</th>\n",
       "    </tr>\n",
       "  </thead>\n",
       "  <tbody>\n",
       "    <tr>\n",
       "      <th>0</th>\n",
       "      <td>Gene Expression Homo sapiens R-HSA-74160</td>\n",
       "      <td>101/1631</td>\n",
       "      <td>1.775164e-24</td>\n",
       "      <td>2.716001e-21</td>\n",
       "      <td>0</td>\n",
       "      <td>0</td>\n",
       "      <td>3.013392</td>\n",
       "      <td>164.796815</td>\n",
       "      <td>EHMT1;EPRS;PWP2;EFTUD2;PSMD9;SNRPD2;KHSRP;TXNL...</td>\n",
       "      <td>Reactome_2016</td>\n",
       "    </tr>\n",
       "    <tr>\n",
       "      <th>1</th>\n",
       "      <td>Processing of Capped Intron-Containing Pre-mRN...</td>\n",
       "      <td>36/193</td>\n",
       "      <td>3.337592e-24</td>\n",
       "      <td>2.553258e-21</td>\n",
       "      <td>0</td>\n",
       "      <td>0</td>\n",
       "      <td>9.076813</td>\n",
       "      <td>490.663374</td>\n",
       "      <td>DDX5;DHX9;DDX23;USP39;PRPF8;ELAVL1;NUP160;EFTU...</td>\n",
       "      <td>Reactome_2016</td>\n",
       "    </tr>\n",
       "    <tr>\n",
       "      <th>2</th>\n",
       "      <td>Cell Cycle, Mitotic Homo sapiens R-HSA-69278</td>\n",
       "      <td>47/462</td>\n",
       "      <td>1.082883e-19</td>\n",
       "      <td>5.522702e-17</td>\n",
       "      <td>0</td>\n",
       "      <td>0</td>\n",
       "      <td>4.950443</td>\n",
       "      <td>216.183318</td>\n",
       "      <td>TOP2A;AHCTF1;PCNA;MCM7;DCTN1;NCAPG;BUB1B;SMC4;...</td>\n",
       "      <td>Reactome_2016</td>\n",
       "    </tr>\n",
       "    <tr>\n",
       "      <th>3</th>\n",
       "      <td>Cell Cycle Homo sapiens R-HSA-1640170</td>\n",
       "      <td>48/566</td>\n",
       "      <td>7.248901e-17</td>\n",
       "      <td>2.772705e-14</td>\n",
       "      <td>0</td>\n",
       "      <td>0</td>\n",
       "      <td>4.126796</td>\n",
       "      <td>153.364511</td>\n",
       "      <td>TOP2A;AHCTF1;PCNA;MCM7;DCTN1;NCAPG;BUB1B;SMC4;...</td>\n",
       "      <td>Reactome_2016</td>\n",
       "    </tr>\n",
       "    <tr>\n",
       "      <th>4</th>\n",
       "      <td>mRNA Splicing - Major Pathway Homo sapiens R-H...</td>\n",
       "      <td>24/134</td>\n",
       "      <td>4.208022e-16</td>\n",
       "      <td>1.287655e-13</td>\n",
       "      <td>0</td>\n",
       "      <td>0</td>\n",
       "      <td>8.715546</td>\n",
       "      <td>308.568418</td>\n",
       "      <td>DDX5;CPSF1;NCBP1;DHX9;NCBP2;CPSF3;CPSF2;DDX23;...</td>\n",
       "      <td>Reactome_2016</td>\n",
       "    </tr>\n",
       "  </tbody>\n",
       "</table>\n",
       "</div>"
      ],
      "text/plain": [
       "                                                Term   Overlap       P-value  \\\n",
       "0           Gene Expression Homo sapiens R-HSA-74160  101/1631  1.775164e-24   \n",
       "1  Processing of Capped Intron-Containing Pre-mRN...    36/193  3.337592e-24   \n",
       "2       Cell Cycle, Mitotic Homo sapiens R-HSA-69278    47/462  1.082883e-19   \n",
       "3              Cell Cycle Homo sapiens R-HSA-1640170    48/566  7.248901e-17   \n",
       "4  mRNA Splicing - Major Pathway Homo sapiens R-H...    24/134  4.208022e-16   \n",
       "\n",
       "   Adjusted P-value  Old P-value  Old Adjusted P-value  Odds Ratio  \\\n",
       "0      2.716001e-21            0                     0    3.013392   \n",
       "1      2.553258e-21            0                     0    9.076813   \n",
       "2      5.522702e-17            0                     0    4.950443   \n",
       "3      2.772705e-14            0                     0    4.126796   \n",
       "4      1.287655e-13            0                     0    8.715546   \n",
       "\n",
       "   Combined Score                                              Genes  \\\n",
       "0      164.796815  EHMT1;EPRS;PWP2;EFTUD2;PSMD9;SNRPD2;KHSRP;TXNL...   \n",
       "1      490.663374  DDX5;DHX9;DDX23;USP39;PRPF8;ELAVL1;NUP160;EFTU...   \n",
       "2      216.183318  TOP2A;AHCTF1;PCNA;MCM7;DCTN1;NCAPG;BUB1B;SMC4;...   \n",
       "3      153.364511  TOP2A;AHCTF1;PCNA;MCM7;DCTN1;NCAPG;BUB1B;SMC4;...   \n",
       "4      308.568418  DDX5;CPSF1;NCBP1;DHX9;NCBP2;CPSF3;CPSF2;DDX23;...   \n",
       "\n",
       "        Gene_set  \n",
       "0  Reactome_2016  \n",
       "1  Reactome_2016  \n",
       "2  Reactome_2016  \n",
       "3  Reactome_2016  \n",
       "4  Reactome_2016  "
      ]
     },
     "execution_count": 7,
     "metadata": {},
     "output_type": "execute_result"
    }
   ],
   "source": [
    "prot_enr.res2d.head()"
   ]
  },
  {
   "cell_type": "code",
   "execution_count": null,
   "metadata": {},
   "outputs": [],
   "source": []
  }
 ],
 "metadata": {
  "kernelspec": {
   "display_name": "Python 3",
   "language": "python",
   "name": "python3"
  },
  "language_info": {
   "codemirror_mode": {
    "name": "ipython",
    "version": 3
   },
   "file_extension": ".py",
   "mimetype": "text/x-python",
   "name": "python",
   "nbconvert_exporter": "python",
   "pygments_lexer": "ipython3",
   "version": "3.7.3"
  }
 },
 "nbformat": 4,
 "nbformat_minor": 2
}
