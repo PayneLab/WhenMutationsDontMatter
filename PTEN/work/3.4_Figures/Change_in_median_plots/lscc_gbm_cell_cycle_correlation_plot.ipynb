{
 "cells": [
  {
   "cell_type": "markdown",
   "metadata": {},
   "source": [
    "# Create Cell Cycle Binary_correlation_plot"
   ]
  },
  {
   "cell_type": "code",
   "execution_count": 1,
   "metadata": {},
   "outputs": [],
   "source": [
    "import pandas as pd\n",
    "import numpy as np\n",
    "import seaborn as sns\n",
    "import matplotlib.pyplot as plt\n",
    "import scipy.stats\n",
    "import gseapy as gp\n",
    "import re\n",
    "\n",
    "import cptac\n",
    "import cptac.utils as u\n",
    "\n",
    "import plot_utils as ut"
   ]
  },
  {
   "cell_type": "code",
   "execution_count": 2,
   "metadata": {},
   "outputs": [],
   "source": [
    "# Returns a dataframe with proteomics and mutation type\n",
    "\n",
    "# all_prot: list of trans genes\n",
    "\n",
    "def all_prot_format_df(cancer_object, all_prot, gene_in = 'PTEN'):\n",
    "    mut_type = cancer_object.get_genotype_all_vars(gene_in)\n",
    "    \n",
    "    if cancer_object.get_cancer_type() not in ('luad'):\n",
    "        # Keep only tumor samples from proteomics\n",
    "        prot_and_mutations = cancer_object.join_omics_to_mutations(\n",
    "            mutations_genes = [gene_in], omics_df_name = 'proteomics', omics_genes = all_prot)\n",
    "        # Reduce a multiindex \n",
    "        if isinstance(prot_and_mutations.keys(), pd.core.indexes.multi.MultiIndex):\n",
    "            prot_and_mutations = cancer_object.reduce_multiindex(prot_and_mutations, levels_to_drop = 1)\n",
    "        prot_and_mutations = prot_and_mutations[prot_and_mutations.Sample_Status == \"Tumor\"] # drop Normal samples\n",
    "\n",
    "        # Merge Mutation column from get_genotype_all_vars (includes cnv) with proteomics\n",
    "        mut_type = mut_type[['Mutation']] \n",
    "        prot_df = prot_and_mutations.iloc[:,:-4] # Keep only proteomics\n",
    "        merged = prot_df.join(mut_type)\n",
    "        \n",
    "        # Keep only Wildtype and deletion\n",
    "        compare = ['Wildtype_Tumor','Deletion']\n",
    "        get = merged['Mutation'].isin(compare)\n",
    "        del_wt = merged[get]\n",
    "    \n",
    "    \n",
    "    # Luad has no somatic mutations for PTEN which changes some things\n",
    "    else: \n",
    "        # get_genotype_all_vars add cnv data under the column PTEN\n",
    "        mut_type = mut_type.drop(columns= gene_in)\n",
    "        # different code because no somatic mutation data for pten (can't join to somatic mutations)\n",
    "        omics = cancer_object.join_omics_to_omics(df1_name = 'CNV', df2_name='proteomics',genes1= gene_in, \n",
    "            genes2= all_prot)\n",
    "        omics = cancer_object.reduce_multiindex(omics, levels_to_drop = 1, flatten = True)\n",
    "        omics = omics.drop(columns='PTEN_CNV')\n",
    "        # Get only tumor samples\n",
    "        p = cancer_object.get_proteomics(tissue_type='tumor')\n",
    "        tumor_ids = list(p.index)\n",
    "        get = omics.index.isin(tumor_ids)\n",
    "        omics = omics[get]\n",
    "        # Merge Mutation column from get_genotype_all_vars (includes cnv) with proteomics\n",
    "        merged = omics.join(mut_type) \n",
    "        # Keep only No_Mutation (wildtype) and deletion\n",
    "        compare = ['No_Mutation','Deletion']\n",
    "        get = merged['Mutation'].isin(compare)\n",
    "        del_wt = merged[get]\n",
    "        del_wt['Mutation'] = np.where(\n",
    "            del_wt['Mutation'] == 'No_Mutation', 'Wildtype_Tumor', 'Deletion')\n",
    "\n",
    "    return del_wt\n"
   ]
  },
  {
   "cell_type": "markdown",
   "metadata": {},
   "source": [
    "# Select two cancers for the plot"
   ]
  },
  {
   "cell_type": "code",
   "execution_count": 3,
   "metadata": {},
   "outputs": [
    {
     "name": "stdout",
     "output_type": "stream",
     "text": [
      "Checking that gbm index is up-to-date... \r"
     ]
    },
    {
     "name": "stderr",
     "output_type": "stream",
     "text": [
      "cptac warning: The LSCC data is currently strictly reserved for CPTAC investigators. Otherwise, you are not authorized to access these data. Additionally, even after these data become publicly available, they will be subject to a publication embargo (see https://proteomics.cancer.gov/data-portal/about/data-use-agreement or enter cptac.embargo() to open the webpage for more details). (C:\\Users\\brittany henderson\\Anaconda3\\envs\\Research\\lib\\site-packages\\ipykernel_launcher.py, line 1)\n"
     ]
    },
    {
     "name": "stdout",
     "output_type": "stream",
     "text": [
      "                                        \r"
     ]
    },
    {
     "name": "stderr",
     "output_type": "stream",
     "text": [
      "cptac warning: The GBM dataset is under publication embargo until March 01, 2021. CPTAC is a community resource project and data are made available rapidly after generation for community research use. The embargo allows exploring and utilizing the data, but analysis may not be published until after the embargo date. Please see https://proteomics.cancer.gov/data-portal/about/data-use-agreement or enter cptac.embargo() to open the webpage for more details. (C:\\Users\\brittany henderson\\Anaconda3\\envs\\Research\\lib\\site-packages\\ipykernel_launcher.py, line 2)\n"
     ]
    }
   ],
   "source": [
    "ls = cptac.Lscc()\n",
    "g = cptac.Gbm()"
   ]
  },
  {
   "cell_type": "code",
   "execution_count": 4,
   "metadata": {},
   "outputs": [],
   "source": [
    "root = R'~\\Github\\WhenMutationsDontMatter\\PTEN\\Step_3_trans_effect\\csv'\n",
    "ls_df = pd.read_csv(root+R'\\lscc_pval_medians.csv')\n",
    "g_df = pd.read_csv(root+R'\\gbm_pval_medians.csv')"
   ]
  },
  {
   "cell_type": "markdown",
   "metadata": {},
   "source": [
    "# Calculate FDR-bh (lowest sig p-value = cutoff)"
   ]
  },
  {
   "cell_type": "markdown",
   "metadata": {},
   "source": [
    "Gbm t-tests"
   ]
  },
  {
   "cell_type": "code",
   "execution_count": 5,
   "metadata": {},
   "outputs": [
    {
     "name": "stderr",
     "output_type": "stream",
     "text": [
      "cptac warning: In joining the somatic_mutation table, no mutations were found for the following samples, so they were filled with Wildtype_Tumor or Wildtype_Normal: 72 samples for the PTEN gene (C:\\Users\\brittany henderson\\Anaconda3\\envs\\Research\\lib\\site-packages\\cptac\\dataset.py, line 394)\n",
      "cptac warning: CNV data was not found for the following samples, so CNV data columns were filled with NaN for these samples: C3L-01834 (C:\\Users\\brittany henderson\\Anaconda3\\envs\\Research\\lib\\site-packages\\cptac\\dataset.py, line 394)\n",
      "cptac warning: In joining the somatic_mutation table, no mutations were found for the following samples, so they were filled with Wildtype_Tumor or Wildtype_Normal: 82 samples for the PTEN gene (C:\\Users\\brittany henderson\\Anaconda3\\envs\\Research\\lib\\site-packages\\ipykernel_launcher.py, line 11)\n"
     ]
    }
   ],
   "source": [
    "gene = 'PTEN'\n",
    "g_prot = g.get_proteomics()\n",
    "g_prot_list = list(g_prot.columns)\n",
    "\n",
    "g_del_wt = all_prot_format_df(g, g_prot_list, gene)\n",
    "g_del_wt = g_del_wt.dropna(axis='columns', how='all')"
   ]
  },
  {
   "cell_type": "code",
   "execution_count": 6,
   "metadata": {},
   "outputs": [
    {
     "name": "stdout",
     "output_type": "stream",
     "text": [
      "11141 genes\n"
     ]
    },
    {
     "name": "stderr",
     "output_type": "stream",
     "text": [
      "C:\\Users\\brittany henderson\\Anaconda3\\envs\\Research\\lib\\site-packages\\numpy\\core\\fromnumeric.py:3367: RuntimeWarning: Degrees of freedom <= 0 for slice\n",
      "  **kwargs)\n",
      "C:\\Users\\brittany henderson\\Anaconda3\\envs\\Research\\lib\\site-packages\\numpy\\core\\_methods.py:132: RuntimeWarning: invalid value encountered in double_scalars\n",
      "  ret = ret.dtype.type(ret / rcount)\n",
      "C:\\Users\\brittany henderson\\Anaconda3\\envs\\Research\\lib\\site-packages\\scipy\\stats\\_distn_infrastructure.py:877: RuntimeWarning: invalid value encountered in greater\n",
      "  return (self.a < x) & (x < self.b)\n",
      "C:\\Users\\brittany henderson\\Anaconda3\\envs\\Research\\lib\\site-packages\\scipy\\stats\\_distn_infrastructure.py:877: RuntimeWarning: invalid value encountered in less\n",
      "  return (self.a < x) & (x < self.b)\n",
      "C:\\Users\\brittany henderson\\Anaconda3\\envs\\Research\\lib\\site-packages\\scipy\\stats\\_distn_infrastructure.py:1831: RuntimeWarning: invalid value encountered in less_equal\n",
      "  cond2 = cond0 & (x <= self.a)\n",
      "C:\\Users\\brittany henderson\\Anaconda3\\envs\\Research\\lib\\site-packages\\statsmodels\\stats\\multitest.py:320: RuntimeWarning: invalid value encountered in less_equal\n",
      "  reject = pvals_sorted <= ecdffactor*alpha\n",
      "C:\\Users\\brittany henderson\\Anaconda3\\envs\\Research\\lib\\site-packages\\statsmodels\\stats\\multitest.py:328: RuntimeWarning: invalid value encountered in greater\n",
      "  pvals_corrected[pvals_corrected>1] = 1\n",
      "C:\\Users\\brittany henderson\\Anaconda3\\envs\\Research\\lib\\site-packages\\statsmodels\\stats\\multitest.py:251: RuntimeWarning: invalid value encountered in greater\n",
      "  pvals_corrected[pvals_corrected>1] = 1\n"
     ]
    },
    {
     "data": {
      "text/plain": [
       "1886    0.008467\n",
       "Name: P_Value, dtype: float64"
      ]
     },
     "execution_count": 6,
     "metadata": {},
     "output_type": "execute_result"
    }
   ],
   "source": [
    "cols = list(g_del_wt.columns[:-1])\n",
    "print(len(cols), 'genes')\n",
    "\n",
    "# Get only sig genes\n",
    "g_sig = u.wrap_ttest(g_del_wt, 'Mutation', cols, correction_method = 'fdr_bh')\n",
    "\n",
    "# get_smallest p-value\n",
    "cutoff_gbm = g_sig.P_Value[-1:]\n",
    "cutoff_gbm"
   ]
  },
  {
   "cell_type": "markdown",
   "metadata": {},
   "source": [
    "Lscc t-tests"
   ]
  },
  {
   "cell_type": "code",
   "execution_count": 7,
   "metadata": {},
   "outputs": [
    {
     "name": "stderr",
     "output_type": "stream",
     "text": [
      "cptac warning: Due to dropping the specified levels, dataframe now has 830 duplicated column headers. (C:\\Users\\brittany henderson\\Anaconda3\\envs\\Research\\lib\\site-packages\\ipykernel_launcher.py, line 3)\n",
      "cptac warning: In joining the somatic_mutation table, no mutations were found for the following samples, so they were filled with Wildtype_Tumor or Wildtype_Normal: 99 samples for the PTEN gene (C:\\Users\\brittany henderson\\Anaconda3\\envs\\Research\\lib\\site-packages\\cptac\\dataset.py, line 394)\n",
      "cptac warning: In joining the somatic_mutation table, no mutations were found for the following samples, so they were filled with Wildtype_Tumor or Wildtype_Normal: 201 samples for the PTEN gene (C:\\Users\\brittany henderson\\Anaconda3\\envs\\Research\\lib\\site-packages\\ipykernel_launcher.py, line 11)\n",
      "cptac warning: Due to dropping the specified levels, dataframe now has 830 duplicated column headers. (C:\\Users\\brittany henderson\\Anaconda3\\envs\\Research\\lib\\site-packages\\ipykernel_launcher.py, line 14)\n"
     ]
    }
   ],
   "source": [
    "gene = 'PTEN'\n",
    "ls_prot = ls.get_proteomics()\n",
    "ls_prot = ls.reduce_multiindex(ls_prot, levels_to_drop = 1)\n",
    "ls_prot_list = list(ls_prot.columns)\n",
    "\n",
    "ls_del_wt = all_prot_format_df(ls, ls_prot_list, gene)\n",
    "ls_del_wt = ls_del_wt.dropna(axis='columns', how='all')\n",
    "ls_del_wt = ls_del_wt.loc[:,~ls_del_wt.columns.duplicated()]"
   ]
  },
  {
   "cell_type": "code",
   "execution_count": 8,
   "metadata": {},
   "outputs": [
    {
     "name": "stdout",
     "output_type": "stream",
     "text": [
      "10863 genes\n"
     ]
    },
    {
     "data": {
      "text/plain": [
       "286    0.001318\n",
       "Name: P_Value, dtype: float64"
      ]
     },
     "execution_count": 8,
     "metadata": {},
     "output_type": "execute_result"
    }
   ],
   "source": [
    "ls_cols = list(ls_del_wt.columns[:-1])\n",
    "print(len(ls_cols), 'genes')\n",
    "\n",
    "# Get only sig sites\n",
    "ls_sig = u.wrap_ttest(ls_del_wt, 'Mutation', ls_cols, correction_method = 'fdr_bh')\n",
    "\n",
    "# get_smallest p-value\n",
    "cutoff_ls = ls_sig.P_Value[-1:]\n",
    "cutoff_ls"
   ]
  },
  {
   "cell_type": "markdown",
   "metadata": {},
   "source": [
    "# Create df with p-values for all genes in a pathway"
   ]
  },
  {
   "cell_type": "code",
   "execution_count": 9,
   "metadata": {},
   "outputs": [],
   "source": [
    "rcc = pd.read_excel(root+R\"\\Reactome_cell_cycle.xlsx\", sheet_name='cell_cycle')\n",
    "rgs = pd.read_excel(root+R\"\\Reactome_cell_cycle.xlsx\", sheet_name='g1_to_s')"
   ]
  },
  {
   "cell_type": "code",
   "execution_count": 10,
   "metadata": {},
   "outputs": [],
   "source": [
    "reactome_cell_cycle = list(rcc.columns)\n",
    "cell_cycle_list = reactome_cell_cycle[2:]"
   ]
  },
  {
   "cell_type": "code",
   "execution_count": 11,
   "metadata": {},
   "outputs": [],
   "source": [
    "reactome_g1_to_s = list(rgs.columns)\n",
    "g1_to_s_list = reactome_g1_to_s[2:]"
   ]
  },
  {
   "cell_type": "code",
   "execution_count": 12,
   "metadata": {},
   "outputs": [
    {
     "data": {
      "text/plain": [
       "674"
      ]
     },
     "execution_count": 12,
     "metadata": {},
     "output_type": "execute_result"
    }
   ],
   "source": [
    "len(cell_cycle_list)"
   ]
  },
  {
   "cell_type": "code",
   "execution_count": 13,
   "metadata": {},
   "outputs": [
    {
     "data": {
      "text/plain": [
       "553"
      ]
     },
     "execution_count": 13,
     "metadata": {},
     "output_type": "execute_result"
    }
   ],
   "source": [
    "# Merge dfs of both cancers and keep only genes in a complete pathway\n",
    "merged = g_df.merge(ls_df, on ='Proteomics', how='outer')\n",
    "merged = merged.replace(regex=True,to_replace='_proteomics', value='')\n",
    "dna_bool = merged.Proteomics.isin(cell_cycle_list)\n",
    "df = merged[dna_bool]\n",
    "df.head()\n",
    "len(df)"
   ]
  },
  {
   "cell_type": "code",
   "execution_count": 14,
   "metadata": {},
   "outputs": [
    {
     "data": {
      "text/html": [
       "<div>\n",
       "<style scoped>\n",
       "    .dataframe tbody tr th:only-of-type {\n",
       "        vertical-align: middle;\n",
       "    }\n",
       "\n",
       "    .dataframe tbody tr th {\n",
       "        vertical-align: top;\n",
       "    }\n",
       "\n",
       "    .dataframe thead th {\n",
       "        text-align: right;\n",
       "    }\n",
       "</style>\n",
       "<table border=\"1\" class=\"dataframe\">\n",
       "  <thead>\n",
       "    <tr style=\"text-align: right;\">\n",
       "      <th></th>\n",
       "      <th>Gbm_P_Value</th>\n",
       "      <th>Lscc_P_Value</th>\n",
       "    </tr>\n",
       "    <tr>\n",
       "      <th>Proteomics</th>\n",
       "      <th></th>\n",
       "      <th></th>\n",
       "    </tr>\n",
       "  </thead>\n",
       "  <tbody>\n",
       "    <tr>\n",
       "      <th>DCTN1</th>\n",
       "      <td>1.016640e-08</td>\n",
       "      <td>0.048612</td>\n",
       "    </tr>\n",
       "    <tr>\n",
       "      <th>ACTR1A</th>\n",
       "      <td>3.600370e-08</td>\n",
       "      <td>0.021945</td>\n",
       "    </tr>\n",
       "    <tr>\n",
       "      <th>MAPK3</th>\n",
       "      <td>1.020660e-06</td>\n",
       "      <td>0.049822</td>\n",
       "    </tr>\n",
       "    <tr>\n",
       "      <th>DCTN3</th>\n",
       "      <td>2.683160e-06</td>\n",
       "      <td>0.021230</td>\n",
       "    </tr>\n",
       "    <tr>\n",
       "      <th>BRCC3</th>\n",
       "      <td>3.222041e-06</td>\n",
       "      <td>0.010810</td>\n",
       "    </tr>\n",
       "  </tbody>\n",
       "</table>\n",
       "</div>"
      ],
      "text/plain": [
       "             Gbm_P_Value  Lscc_P_Value\n",
       "Proteomics                            \n",
       "DCTN1       1.016640e-08      0.048612\n",
       "ACTR1A      3.600370e-08      0.021945\n",
       "MAPK3       1.020660e-06      0.049822\n",
       "DCTN3       2.683160e-06      0.021230\n",
       "BRCC3       3.222041e-06      0.010810"
      ]
     },
     "execution_count": 14,
     "metadata": {},
     "output_type": "execute_result"
    }
   ],
   "source": [
    "# Create pval only df for Color mapping\n",
    "pval_df = df.drop(columns = ['Gbm_Median','Lscc_Median'])\n",
    "pval_df = pval_df.set_index('Proteomics')\n",
    "pval_df.head()"
   ]
  },
  {
   "cell_type": "markdown",
   "metadata": {},
   "source": [
    "# Create the color column based on significance in both cancers "
   ]
  },
  {
   "cell_type": "code",
   "execution_count": 15,
   "metadata": {},
   "outputs": [],
   "source": [
    "def Color(row):\n",
    "    color = 'Not_sig'\n",
    "\n",
    "    c1_cutoff = .008667 # lowest p-value for cancer 1\n",
    "    c2_cutoff = 0.001826\n",
    "\n",
    "    for item in row:\n",
    "        if pd.isnull(item):\n",
    "            continue\n",
    "        if row['Gbm_P_Value'] <= c1_cutoff and row['Lscc_P_Value'] <= c2_cutoff:\n",
    "            color = 'Both_sig'\n",
    "        elif row['Gbm_P_Value'] <= c1_cutoff:\n",
    "            color = 'Gbm_sig'\n",
    "        elif row['Lscc_P_Value'] <= c2_cutoff:\n",
    "            color = 'Lscc_sig'\n",
    "           \n",
    "    return color"
   ]
  },
  {
   "cell_type": "code",
   "execution_count": 16,
   "metadata": {},
   "outputs": [
    {
     "name": "stdout",
     "output_type": "stream",
     "text": [
      "lowest p-value for Gbm: 1886    0.008467\n",
      "Name: P_Value, dtype: float64 \n",
      "\n",
      "lowest p-value for Lscc: 286    0.001318\n",
      "Name: P_Value, dtype: float64\n"
     ]
    }
   ],
   "source": [
    "print('lowest p-value for Gbm:',cutoff_gbm, '\\n')\n",
    "print('lowest p-value for Lscc:',cutoff_ls)"
   ]
  },
  {
   "cell_type": "code",
   "execution_count": 17,
   "metadata": {},
   "outputs": [
    {
     "data": {
      "text/html": [
       "<div>\n",
       "<style scoped>\n",
       "    .dataframe tbody tr th:only-of-type {\n",
       "        vertical-align: middle;\n",
       "    }\n",
       "\n",
       "    .dataframe tbody tr th {\n",
       "        vertical-align: top;\n",
       "    }\n",
       "\n",
       "    .dataframe thead th {\n",
       "        text-align: right;\n",
       "    }\n",
       "</style>\n",
       "<table border=\"1\" class=\"dataframe\">\n",
       "  <thead>\n",
       "    <tr style=\"text-align: right;\">\n",
       "      <th></th>\n",
       "      <th>Gbm_P_Value</th>\n",
       "      <th>Lscc_P_Value</th>\n",
       "      <th>color</th>\n",
       "    </tr>\n",
       "    <tr>\n",
       "      <th>Proteomics</th>\n",
       "      <th></th>\n",
       "      <th></th>\n",
       "      <th></th>\n",
       "    </tr>\n",
       "  </thead>\n",
       "  <tbody>\n",
       "    <tr>\n",
       "      <th>MCM6</th>\n",
       "      <td>0.000014</td>\n",
       "      <td>1.515152e-04</td>\n",
       "      <td>Both_sig</td>\n",
       "    </tr>\n",
       "    <tr>\n",
       "      <th>MCM4</th>\n",
       "      <td>0.000014</td>\n",
       "      <td>1.196954e-04</td>\n",
       "      <td>Both_sig</td>\n",
       "    </tr>\n",
       "    <tr>\n",
       "      <th>PCNA</th>\n",
       "      <td>0.000019</td>\n",
       "      <td>1.105674e-03</td>\n",
       "      <td>Both_sig</td>\n",
       "    </tr>\n",
       "    <tr>\n",
       "      <th>POLD2</th>\n",
       "      <td>0.000020</td>\n",
       "      <td>1.557768e-03</td>\n",
       "      <td>Both_sig</td>\n",
       "    </tr>\n",
       "    <tr>\n",
       "      <th>RANGAP1</th>\n",
       "      <td>0.000025</td>\n",
       "      <td>8.577076e-04</td>\n",
       "      <td>Both_sig</td>\n",
       "    </tr>\n",
       "    <tr>\n",
       "      <th>RFC5</th>\n",
       "      <td>0.000037</td>\n",
       "      <td>2.656977e-05</td>\n",
       "      <td>Both_sig</td>\n",
       "    </tr>\n",
       "    <tr>\n",
       "      <th>MCM5</th>\n",
       "      <td>0.000041</td>\n",
       "      <td>5.842932e-05</td>\n",
       "      <td>Both_sig</td>\n",
       "    </tr>\n",
       "    <tr>\n",
       "      <th>MCM2</th>\n",
       "      <td>0.000041</td>\n",
       "      <td>9.288715e-05</td>\n",
       "      <td>Both_sig</td>\n",
       "    </tr>\n",
       "    <tr>\n",
       "      <th>MCM7</th>\n",
       "      <td>0.000053</td>\n",
       "      <td>6.125604e-05</td>\n",
       "      <td>Both_sig</td>\n",
       "    </tr>\n",
       "    <tr>\n",
       "      <th>MCM3</th>\n",
       "      <td>0.000083</td>\n",
       "      <td>5.107882e-05</td>\n",
       "      <td>Both_sig</td>\n",
       "    </tr>\n",
       "    <tr>\n",
       "      <th>RFC3</th>\n",
       "      <td>0.000151</td>\n",
       "      <td>4.340033e-07</td>\n",
       "      <td>Both_sig</td>\n",
       "    </tr>\n",
       "    <tr>\n",
       "      <th>SPC24</th>\n",
       "      <td>0.000193</td>\n",
       "      <td>1.501780e-03</td>\n",
       "      <td>Both_sig</td>\n",
       "    </tr>\n",
       "    <tr>\n",
       "      <th>SMC4</th>\n",
       "      <td>0.000202</td>\n",
       "      <td>6.140534e-04</td>\n",
       "      <td>Both_sig</td>\n",
       "    </tr>\n",
       "    <tr>\n",
       "      <th>SMC2</th>\n",
       "      <td>0.000243</td>\n",
       "      <td>1.223773e-04</td>\n",
       "      <td>Both_sig</td>\n",
       "    </tr>\n",
       "    <tr>\n",
       "      <th>XPO1</th>\n",
       "      <td>0.000256</td>\n",
       "      <td>1.392595e-04</td>\n",
       "      <td>Both_sig</td>\n",
       "    </tr>\n",
       "    <tr>\n",
       "      <th>NUP160</th>\n",
       "      <td>0.000307</td>\n",
       "      <td>1.509724e-04</td>\n",
       "      <td>Both_sig</td>\n",
       "    </tr>\n",
       "    <tr>\n",
       "      <th>NCAPD2</th>\n",
       "      <td>0.000484</td>\n",
       "      <td>5.326009e-04</td>\n",
       "      <td>Both_sig</td>\n",
       "    </tr>\n",
       "    <tr>\n",
       "      <th>RFC2</th>\n",
       "      <td>0.000580</td>\n",
       "      <td>1.318792e-05</td>\n",
       "      <td>Both_sig</td>\n",
       "    </tr>\n",
       "    <tr>\n",
       "      <th>POLD1</th>\n",
       "      <td>0.000733</td>\n",
       "      <td>1.356472e-03</td>\n",
       "      <td>Both_sig</td>\n",
       "    </tr>\n",
       "    <tr>\n",
       "      <th>RFC4</th>\n",
       "      <td>0.000873</td>\n",
       "      <td>2.772904e-05</td>\n",
       "      <td>Both_sig</td>\n",
       "    </tr>\n",
       "    <tr>\n",
       "      <th>NCAPG</th>\n",
       "      <td>0.001031</td>\n",
       "      <td>4.939629e-05</td>\n",
       "      <td>Both_sig</td>\n",
       "    </tr>\n",
       "    <tr>\n",
       "      <th>CENPF</th>\n",
       "      <td>0.001566</td>\n",
       "      <td>8.274941e-04</td>\n",
       "      <td>Both_sig</td>\n",
       "    </tr>\n",
       "    <tr>\n",
       "      <th>RFC1</th>\n",
       "      <td>0.001979</td>\n",
       "      <td>3.615401e-05</td>\n",
       "      <td>Both_sig</td>\n",
       "    </tr>\n",
       "    <tr>\n",
       "      <th>TK1</th>\n",
       "      <td>0.002452</td>\n",
       "      <td>7.635721e-04</td>\n",
       "      <td>Both_sig</td>\n",
       "    </tr>\n",
       "    <tr>\n",
       "      <th>NCAPH</th>\n",
       "      <td>0.002865</td>\n",
       "      <td>1.696187e-04</td>\n",
       "      <td>Both_sig</td>\n",
       "    </tr>\n",
       "    <tr>\n",
       "      <th>DSCC1</th>\n",
       "      <td>0.003270</td>\n",
       "      <td>8.154867e-04</td>\n",
       "      <td>Both_sig</td>\n",
       "    </tr>\n",
       "    <tr>\n",
       "      <th>RAE1</th>\n",
       "      <td>0.005752</td>\n",
       "      <td>6.758666e-05</td>\n",
       "      <td>Both_sig</td>\n",
       "    </tr>\n",
       "    <tr>\n",
       "      <th>HAUS7</th>\n",
       "      <td>0.005989</td>\n",
       "      <td>1.298369e-03</td>\n",
       "      <td>Both_sig</td>\n",
       "    </tr>\n",
       "  </tbody>\n",
       "</table>\n",
       "</div>"
      ],
      "text/plain": [
       "            Gbm_P_Value  Lscc_P_Value     color\n",
       "Proteomics                                     \n",
       "MCM6           0.000014  1.515152e-04  Both_sig\n",
       "MCM4           0.000014  1.196954e-04  Both_sig\n",
       "PCNA           0.000019  1.105674e-03  Both_sig\n",
       "POLD2          0.000020  1.557768e-03  Both_sig\n",
       "RANGAP1        0.000025  8.577076e-04  Both_sig\n",
       "RFC5           0.000037  2.656977e-05  Both_sig\n",
       "MCM5           0.000041  5.842932e-05  Both_sig\n",
       "MCM2           0.000041  9.288715e-05  Both_sig\n",
       "MCM7           0.000053  6.125604e-05  Both_sig\n",
       "MCM3           0.000083  5.107882e-05  Both_sig\n",
       "RFC3           0.000151  4.340033e-07  Both_sig\n",
       "SPC24          0.000193  1.501780e-03  Both_sig\n",
       "SMC4           0.000202  6.140534e-04  Both_sig\n",
       "SMC2           0.000243  1.223773e-04  Both_sig\n",
       "XPO1           0.000256  1.392595e-04  Both_sig\n",
       "NUP160         0.000307  1.509724e-04  Both_sig\n",
       "NCAPD2         0.000484  5.326009e-04  Both_sig\n",
       "RFC2           0.000580  1.318792e-05  Both_sig\n",
       "POLD1          0.000733  1.356472e-03  Both_sig\n",
       "RFC4           0.000873  2.772904e-05  Both_sig\n",
       "NCAPG          0.001031  4.939629e-05  Both_sig\n",
       "CENPF          0.001566  8.274941e-04  Both_sig\n",
       "RFC1           0.001979  3.615401e-05  Both_sig\n",
       "TK1            0.002452  7.635721e-04  Both_sig\n",
       "NCAPH          0.002865  1.696187e-04  Both_sig\n",
       "DSCC1          0.003270  8.154867e-04  Both_sig\n",
       "RAE1           0.005752  6.758666e-05  Both_sig\n",
       "HAUS7          0.005989  1.298369e-03  Both_sig"
      ]
     },
     "execution_count": 17,
     "metadata": {},
     "output_type": "execute_result"
    }
   ],
   "source": [
    "pval_df['color'] = pval_df.apply(Color, axis=1)\n",
    "color = pval_df[['color']]\n",
    "pval_df.loc[pval_df['color'] == 'Both_sig']"
   ]
  },
  {
   "cell_type": "markdown",
   "metadata": {},
   "source": [
    "# Format df for plot. Add color column and keep correlations."
   ]
  },
  {
   "cell_type": "code",
   "execution_count": 18,
   "metadata": {},
   "outputs": [
    {
     "data": {
      "text/html": [
       "<div>\n",
       "<style scoped>\n",
       "    .dataframe tbody tr th:only-of-type {\n",
       "        vertical-align: middle;\n",
       "    }\n",
       "\n",
       "    .dataframe tbody tr th {\n",
       "        vertical-align: top;\n",
       "    }\n",
       "\n",
       "    .dataframe thead th {\n",
       "        text-align: right;\n",
       "    }\n",
       "</style>\n",
       "<table border=\"1\" class=\"dataframe\">\n",
       "  <thead>\n",
       "    <tr style=\"text-align: right;\">\n",
       "      <th></th>\n",
       "      <th>Proteomics</th>\n",
       "      <th>Gbm_P_Value</th>\n",
       "      <th>Gbm</th>\n",
       "      <th>Lscc_P_Value</th>\n",
       "      <th>Lscc</th>\n",
       "      <th>color</th>\n",
       "    </tr>\n",
       "  </thead>\n",
       "  <tbody>\n",
       "    <tr>\n",
       "      <th>0</th>\n",
       "      <td>DCTN1</td>\n",
       "      <td>1.016640e-08</td>\n",
       "      <td>-0.382988</td>\n",
       "      <td>0.048612</td>\n",
       "      <td>-0.13275</td>\n",
       "      <td>Gbm_sig</td>\n",
       "    </tr>\n",
       "    <tr>\n",
       "      <th>1</th>\n",
       "      <td>ACTR1A</td>\n",
       "      <td>3.600370e-08</td>\n",
       "      <td>-0.491126</td>\n",
       "      <td>0.021945</td>\n",
       "      <td>-0.36310</td>\n",
       "      <td>Gbm_sig</td>\n",
       "    </tr>\n",
       "    <tr>\n",
       "      <th>2</th>\n",
       "      <td>MAPK3</td>\n",
       "      <td>1.020660e-06</td>\n",
       "      <td>-0.665105</td>\n",
       "      <td>0.049822</td>\n",
       "      <td>-0.17280</td>\n",
       "      <td>Gbm_sig</td>\n",
       "    </tr>\n",
       "    <tr>\n",
       "      <th>3</th>\n",
       "      <td>DCTN3</td>\n",
       "      <td>2.683160e-06</td>\n",
       "      <td>-0.353503</td>\n",
       "      <td>0.021230</td>\n",
       "      <td>-0.17275</td>\n",
       "      <td>Gbm_sig</td>\n",
       "    </tr>\n",
       "    <tr>\n",
       "      <th>4</th>\n",
       "      <td>BRCC3</td>\n",
       "      <td>3.222041e-06</td>\n",
       "      <td>-0.224498</td>\n",
       "      <td>0.010810</td>\n",
       "      <td>-0.64495</td>\n",
       "      <td>Gbm_sig</td>\n",
       "    </tr>\n",
       "  </tbody>\n",
       "</table>\n",
       "</div>"
      ],
      "text/plain": [
       "  Proteomics   Gbm_P_Value       Gbm  Lscc_P_Value     Lscc    color\n",
       "0      DCTN1  1.016640e-08 -0.382988      0.048612 -0.13275  Gbm_sig\n",
       "1     ACTR1A  3.600370e-08 -0.491126      0.021945 -0.36310  Gbm_sig\n",
       "2      MAPK3  1.020660e-06 -0.665105      0.049822 -0.17280  Gbm_sig\n",
       "3      DCTN3  2.683160e-06 -0.353503      0.021230 -0.17275  Gbm_sig\n",
       "4      BRCC3  3.222041e-06 -0.224498      0.010810 -0.64495  Gbm_sig"
      ]
     },
     "execution_count": 18,
     "metadata": {},
     "output_type": "execute_result"
    }
   ],
   "source": [
    "color_df = color.reset_index()\n",
    "plot_df = df.merge(color_df, on='Proteomics')\n",
    "plot_df= plot_df.rename(columns={'Gbm_Median': 'Gbm','Lscc_Median': 'Lscc'})\n",
    "\n",
    "plot_df.head()"
   ]
  },
  {
   "cell_type": "markdown",
   "metadata": {},
   "source": [
    "# Plot"
   ]
  },
  {
   "cell_type": "code",
   "execution_count": 19,
   "metadata": {},
   "outputs": [],
   "source": [
    "dict_in = {'Both_sig':'green', 'Lscc_sig':'yellow', 'Gbm_sig':'blue', 'Not_sig':'grey'}"
   ]
  },
  {
   "cell_type": "code",
   "execution_count": 20,
   "metadata": {},
   "outputs": [
    {
     "data": {
      "image/png": "[encoded data removed]",
      "text/plain": [
       "<Figure size 864x864 with 1 Axes>"
      ]
     },
     "metadata": {
      "needs_background": "light"
     },
     "output_type": "display_data"
    },
    {
     "data": {
      "text/plain": [
       "0"
      ]
     },
     "execution_count": 20,
     "metadata": {},
     "output_type": "execute_result"
    }
   ],
   "source": [
    "ut.binary_val_plot(plot_df,'corr','Gbm', 'Lscc','Difference in Medians for Cell Cycle Proteins',\n",
    "                hue_col = 'color', color_dict = dict_in)"
   ]
  },
  {
   "cell_type": "code",
   "execution_count": null,
   "metadata": {},
   "outputs": [],
   "source": []
  }
 ],
 "metadata": {
  "kernelspec": {
   "display_name": "Python 3",
   "language": "python",
   "name": "python3"
  },
  "language_info": {
   "codemirror_mode": {
    "name": "ipython",
    "version": 3
   },
   "file_extension": ".py",
   "mimetype": "text/x-python",
   "name": "python",
   "nbconvert_exporter": "python",
   "pygments_lexer": "ipython3",
   "version": "3.7.3"
  }
 },
 "nbformat": 4,
 "nbformat_minor": 2
}
