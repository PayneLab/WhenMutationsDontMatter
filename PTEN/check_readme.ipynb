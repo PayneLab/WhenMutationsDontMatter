{
 "cells": [
  {
   "cell_type": "code",
   "execution_count": 5,
   "metadata": {},
   "outputs": [],
   "source": [
    "import pandas as pd\n",
    "import numpy as np\n",
    "import warnings\n",
    "from functools import reduce\n",
    "import re\n",
    "import cptac\n",
    "import cptac.pancan as pc\n",
    "from boxnotes2html import BoxNote"
   ]
  },
  {
   "cell_type": "code",
   "execution_count": null,
   "metadata": {},
   "outputs": [
    {
     "name": "stdout",
     "output_type": "stream",
     "text": [
      "Formatting pdccoad dataframes...                 \r"
     ]
    }
   ],
   "source": [
    "l = pc.PancanLuad()\n",
    "ls = pc.PancanLscc()\n",
    "e = pc.PancanUcec()\n",
    "r = pc.PancanCcrcc()\n",
    "h = pc.PancanHnscc()\n",
    "b = pc.PancanBrca()\n",
    "o = pc.PancanOv()\n",
    "c = pc.PancanCoad()\n",
    "pdc = pc.PancanPdac()\n",
    "g = pc.PancanGbm()"
   ]
  },
  {
   "cell_type": "code",
   "execution_count": null,
   "metadata": {},
   "outputs": [],
   "source": [
    "cas = {'GBM':g, 'HNSCC':h, 'LSCC':ls, 'LUAD':l, 'BRCA':b, 'OV':o, 'UCEC':e, 'COAD':c, 'CCRCC':r, 'PDAC':pdc}"
   ]
  },
  {
   "cell_type": "code",
   "execution_count": 3,
   "metadata": {},
   "outputs": [
    {
     "name": "stdout",
     "output_type": "stream",
     "text": [
      "Please login to Box on the webpage that was just opened and grant access for cptac to download files through your account. If you accidentally closed the browser window, press Ctrl+C and call the download function again.\n",
      "Please login to Box on the webpage that was just opened and grant access for cptac to download files through your account. If you accidentally closed the browser window, press Ctrl+C and call the download function again.\n",
      "Please login to Box on the webpage that was just opened and grant access for cptac to download files through your account. If you accidentally closed the browser window, press Ctrl+C and call the download function again.\n",
      "Please login to Box on the webpage that was just opened and grant access for cptac to download files through your account. If you accidentally closed the browser window, press Ctrl+C and call the download function again.\n",
      "Please login to Box on the webpage that was just opened and grant access for cptac to download files through your account. If you accidentally closed the browser window, press Ctrl+C and call the download function again.\n",
      "Please login to Box on the webpage that was just opened and grant access for cptac to download files through your account. If you accidentally closed the browser window, press Ctrl+C and call the download function again.\n",
      "Please login to Box on the webpage that was just opened and grant access for cptac to download files through your account. If you accidentally closed the browser window, press Ctrl+C and call the download function again.\n",
      "Please login to Box on the webpage that was just opened and grant access for cptac to download files through your account. If you accidentally closed the browser window, press Ctrl+C and call the download function again.\n",
      "Please login to Box on the webpage that was just opened and grant access for cptac to download files through your account. If you accidentally closed the browser window, press Ctrl+C and call the download function again.\n",
      "                                              \r"
     ]
    }
   ],
   "source": [
    "cancers = ['gbm','hnscc','lscc','luad','brca','ov','ucec','coad','ccrcc','pdac']\n",
    "for c in cancers:\n",
    "    pc.download('umich'+c)"
   ]
  },
  {
   "cell_type": "code",
   "execution_count": null,
   "metadata": {},
   "outputs": [],
   "source": [
    "cas = {'BRCA':b}"
   ]
  },
  {
   "cell_type": "code",
   "execution_count": null,
   "metadata": {},
   "outputs": [],
   "source": [
    "pc.download('pancanbrca')\n",
    "b = pc.PancanBrca()"
   ]
  },
  {
   "cell_type": "code",
   "execution_count": null,
   "metadata": {},
   "outputs": [],
   "source": [
    "dta = ['proteomics', 'phosphoproteomics']\n",
    "dt = dta #[:2]\n",
    "dt"
   ]
  },
  {
   "cell_type": "code",
   "execution_count": null,
   "metadata": {},
   "outputs": [],
   "source": [
    "source = 'umich'\n",
    "for cancer in cas:\n",
    "    print('\\n\\n')\n",
    "    print(cancer)\n",
    "    ca = cas[cancer]\n",
    "    for d in dt:\n",
    "        ca.get_docs(d, source)"
   ]
  },
  {
   "cell_type": "code",
   "execution_count": null,
   "metadata": {},
   "outputs": [],
   "source": [
    "dta = ['miRNA', 'cibersort', 'xcell', 'somatic_mutation', 'transcriptomics', 'cnv', 'tumor_purity']\n",
    "dt = dta #[:2]\n",
    "dt"
   ]
  },
  {
   "cell_type": "code",
   "execution_count": null,
   "metadata": {},
   "outputs": [],
   "source": [
    "source = 'washu'\n",
    "for cancer in cas:\n",
    "    print('\\n\\n')\n",
    "    print(cancer)\n",
    "    ca = cas[cancer]\n",
    "    for d in dt:\n",
    "        ca.get_docs(d, source)"
   ]
  },
  {
   "cell_type": "code",
   "execution_count": null,
   "metadata": {},
   "outputs": [],
   "source": [
    "source = 'umich'\n",
    "for cancer in cas:\n",
    "    print(cancer)\n",
    "    ca = cas[cancer]\n",
    "    p = ca.get_proteomics(source)\n",
    "    ph = ca.get_phosphoproteomics(source)\n",
    "    "
   ]
  },
  {
   "cell_type": "code",
   "execution_count": null,
   "metadata": {},
   "outputs": [],
   "source": []
  },
  {
   "cell_type": "code",
   "execution_count": null,
   "metadata": {},
   "outputs": [],
   "source": [
    "ca = pdac"
   ]
  },
  {
   "cell_type": "code",
   "execution_count": null,
   "metadata": {},
   "outputs": [],
   "source": [
    "# check cpt has tumor only in cptac\n",
    "p = ca.get_proteomics('pdc')\n",
    "pl = p.loc[p.index.str.contains('CPT')].index.to_list()\n",
    "pc_list = p.loc[p.index.str.contains('CPT')].case_submitter_id.to_list()\n",
    "pc_list = [x+'.N' for x in pc_list]\n",
    "len(pc_list)"
   ]
  },
  {
   "cell_type": "code",
   "execution_count": null,
   "metadata": {},
   "outputs": [],
   "source": [
    "ph = ca.get_phosphoproteomics('pdc')\n",
    "\n",
    "phl = ph.loc[ph.index.str.contains('CPT')].index.to_list()\n",
    "pl == phl"
   ]
  },
  {
   "cell_type": "code",
   "execution_count": null,
   "metadata": {},
   "outputs": [],
   "source": [
    "p = ca.get_proteomics('pdc')\n",
    "print(set(p.index.duplicated()))\n",
    "p.loc[~p.aliquot_submitter_id.str.contains('CPT')]\n",
    "#dd.case_submitter_id.to_list()\n",
    "p"
   ]
  },
  {
   "cell_type": "code",
   "execution_count": null,
   "metadata": {},
   "outputs": [],
   "source": [
    "prot['Patient_ID'] = prot['aliquot_submitter_id'].replace(mapping_dict) # aliquots to patient IDs\n",
    "prot = prot.set_index('Patient_ID')\n",
    "prot = prot.drop(['aliquot_submitter_id', 'case_submitter_id'], axis = 'columns')\n",
    "prot = prot.drop(drop_rows, axis = 'index') # drop quality control and references"
   ]
  },
  {
   "cell_type": "code",
   "execution_count": null,
   "metadata": {},
   "outputs": [],
   "source": [
    "drop_rows = ['KoreanReference1', 'KoreanReference2', 'KoreanReference3',\n",
    "             'QC1', 'QC2', 'QC3', 'QC4', 'QC5', 'QC6', 'WU-PDA1']"
   ]
  },
  {
   "cell_type": "code",
   "execution_count": null,
   "metadata": {},
   "outputs": [],
   "source": [
    "drop_rows + ['WU-pooled sample', 'pooled sample']"
   ]
  },
  {
   "cell_type": "code",
   "execution_count": null,
   "metadata": {},
   "outputs": [],
   "source": [
    "drop_rows"
   ]
  },
  {
   "cell_type": "code",
   "execution_count": null,
   "metadata": {},
   "outputs": [],
   "source": [
    "p.index.to_list()"
   ]
  },
  {
   "cell_type": "code",
   "execution_count": null,
   "metadata": {},
   "outputs": [],
   "source": [
    "p = ca.get_phosphoproteomics('pdc')\n",
    "print(set(p.index.duplicated()))\n",
    "p = p.reset_index()\n",
    "dd = p.loc[~p.aliquot_submitter_id.str.contains('CPT')]\n",
    "dd.case_submitter_id.to_list()\n",
    "p"
   ]
  },
  {
   "cell_type": "code",
   "execution_count": null,
   "metadata": {},
   "outputs": [],
   "source": [
    "ph.index.to_list()"
   ]
  },
  {
   "cell_type": "code",
   "execution_count": null,
   "metadata": {},
   "outputs": [],
   "source": [
    "for cancer in cas:\n",
    "    print(cancer)\n",
    "    ca = cas[cancer]\n",
    "    p = ca.get_proteomics('umich')\n",
    "    ph = ca.get_phosphoproteomics('umich')\n",
    "    "
   ]
  },
  {
   "cell_type": "code",
   "execution_count": null,
   "metadata": {},
   "outputs": [],
   "source": [
    "for cancer in cas:\n",
    "    print(cancer)\n",
    "    ca = cas[cancer]\n",
    "    cl = ca.get_clinical()\n",
    "    \n",
    "    print(cl.Sample_Tumor_Normal.value_counts())\n",
    "    print(len(cl.index))\n",
    "    print(cl.index.to_list(),'\\n')"
   ]
  },
  {
   "cell_type": "code",
   "execution_count": null,
   "metadata": {},
   "outputs": [],
   "source": [
    "ca = ls\n",
    "cl = ca.get_clinical('pdc')\n",
    "cl.index"
   ]
  },
  {
   "cell_type": "code",
   "execution_count": null,
   "metadata": {},
   "outputs": [],
   "source": [
    "p = ca.get_proteomics('pdc')\n",
    "print('prot:', len(p.index))\n",
    "p.index.to_list()"
   ]
  },
  {
   "cell_type": "code",
   "execution_count": null,
   "metadata": {},
   "outputs": [],
   "source": [
    "ph = ca.get_phosphoproteomics('pdc')\n",
    "print('prot:', len(ph.index))\n",
    "ph.index.to_list()"
   ]
  },
  {
   "cell_type": "code",
   "execution_count": null,
   "metadata": {},
   "outputs": [],
   "source": [
    "a = ca.get_acetylproteomics('pdc')\n",
    "print('acetyl:', len(a.index))\n",
    "a.index.to_list()"
   ]
  },
  {
   "cell_type": "code",
   "execution_count": null,
   "metadata": {},
   "outputs": [],
   "source": [
    "ub = ca.get_ubiquitylomics('pdc')\n",
    "print('ubiq:', len(ub.index))\n",
    "ub.index.to_list()"
   ]
  },
  {
   "cell_type": "code",
   "execution_count": null,
   "metadata": {},
   "outputs": [],
   "source": [
    "ca.list_sources_data()"
   ]
  },
  {
   "cell_type": "code",
   "execution_count": null,
   "metadata": {},
   "outputs": [],
   "source": [
    "# check master index has no weird ids\n",
    "# check bcm and broad dfs\n",
    "# find num tumor / normal in clinical mssm"
   ]
  }
 ],
 "metadata": {
  "kernelspec": {
   "display_name": "Python 3",
   "language": "python",
   "name": "python3"
  },
  "language_info": {
   "codemirror_mode": {
    "name": "ipython",
    "version": 3
   },
   "file_extension": ".py",
   "mimetype": "text/x-python",
   "name": "python",
   "nbconvert_exporter": "python",
   "pygments_lexer": "ipython3",
   "version": "3.8.10"
  }
 },
 "nbformat": 4,
 "nbformat_minor": 4
}
