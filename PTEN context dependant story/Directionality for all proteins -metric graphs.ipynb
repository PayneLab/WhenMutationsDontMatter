{
 "cells": [
  {
   "cell_type": "markdown",
   "metadata": {},
   "source": [
    "All Proteins (Pten wt median - mutated median) "
   ]
  },
  {
   "cell_type": "code",
   "execution_count": 1,
   "metadata": {},
   "outputs": [],
   "source": [
    "import pandas as pd\n",
    "import numpy as np\n",
    "import seaborn as sns\n",
    "import matplotlib.pyplot as plt\n",
    "import scipy.stats\n",
    "import gseapy as gp\n",
    "import re\n",
    "import sys \n",
    "\n",
    "import cptac\n",
    "import cptac.utils as u\n",
    "\n",
    "import sys\n",
    "sys.path.append('C:\\\\Users\\\\brittany henderson\\\\GitHub\\\\WhenMutationsDontMatter\\\\')\n",
    "import plot_utils as p"
   ]
  },
  {
   "cell_type": "code",
   "execution_count": 2,
   "metadata": {},
   "outputs": [
    {
     "name": "stdout",
     "output_type": "stream",
     "text": [
      "                                    \r"
     ]
    }
   ],
   "source": [
    "gbm = cptac.Gbm()\n",
    "endo = cptac.Endometrial()"
   ]
  },
  {
   "cell_type": "code",
   "execution_count": 3,
   "metadata": {},
   "outputs": [],
   "source": [
    "cancer1 = \"GBM\"\n",
    "cancer2 = \"Endometrial\"\n",
    "gene = 'PTEN'"
   ]
  },
  {
   "cell_type": "code",
   "execution_count": 4,
   "metadata": {},
   "outputs": [
    {
     "name": "stderr",
     "output_type": "stream",
     "text": [
      "cptac warning: In joining the somatic_mutation table, no mutations were found for the following samples, so they were filled with Wildtype_Tumor or Wildtype_Normal: 82 samples for the PTEN gene (C:\\Users\\brittany henderson\\Anaconda3\\envs\\Research\\lib\\site-packages\\ipykernel_launcher.py, line 6)\n"
     ]
    }
   ],
   "source": [
    "#GBM ttest\n",
    "# Step 1 - Create dataframe in order to do comparisons with wrap_ttest\n",
    "prot = gbm.get_proteomics()\n",
    "gbm_prot_list = list(prot.columns)\n",
    "prot_and_mutations = gbm.join_omics_to_mutations(\n",
    "    mutations_genes = [gene], omics_df_name = 'proteomics', omics_genes = gbm_prot_list)  \n",
    "\n",
    "# Step 2 - Create binary column \n",
    "prot_and_mutations['binary_mutations'] = np.where(\n",
    "            prot_and_mutations[gene+'_Mutation_Status'] == 'Wildtype_Tumor', 'Wildtype', 'Mutated')\n",
    "\n",
    "# Step 3 - Format the dataframe correctly for the T-test(just omics and binary columns for tumors)\n",
    "tumors = prot_and_mutations[prot_and_mutations.Sample_Status == 'Tumor'] #drop Normal samples\n",
    "columns_to_drop = [gene+\"_Mutation\", gene+\"_Location\", gene+\"_Mutation_Status\", \"Sample_Status\"]\n",
    "mut_status = tumors.drop(columns_to_drop, axis = 1)\n",
    "mut_status = mut_status.dropna(axis=1,how='all')\n",
    "gbm_prot = list(mut_status.columns[:-1]) # new prot list without na in all tumor (sometimes values in normal)"
   ]
  },
  {
   "cell_type": "code",
   "execution_count": 5,
   "metadata": {},
   "outputs": [
    {
     "name": "stderr",
     "output_type": "stream",
     "text": [
      "C:\\Users\\brittany henderson\\Anaconda3\\envs\\Research\\lib\\site-packages\\numpy\\lib\\nanfunctions.py:1076: RuntimeWarning: Mean of empty slice\n",
      "  return np.nanmean(a, axis, out=out, keepdims=keepdims)\n"
     ]
    },
    {
     "data": {
      "text/html": [
       "<div>\n",
       "<style scoped>\n",
       "    .dataframe tbody tr th:only-of-type {\n",
       "        vertical-align: middle;\n",
       "    }\n",
       "\n",
       "    .dataframe tbody tr th {\n",
       "        vertical-align: top;\n",
       "    }\n",
       "\n",
       "    .dataframe thead th {\n",
       "        text-align: right;\n",
       "    }\n",
       "</style>\n",
       "<table border=\"1\" class=\"dataframe\">\n",
       "  <thead>\n",
       "    <tr style=\"text-align: right;\">\n",
       "      <th></th>\n",
       "      <th>Gbm</th>\n",
       "    </tr>\n",
       "  </thead>\n",
       "  <tbody>\n",
       "    <tr>\n",
       "      <td>A1BG_proteomics</td>\n",
       "      <td>0.040188</td>\n",
       "    </tr>\n",
       "    <tr>\n",
       "      <td>A2M_proteomics</td>\n",
       "      <td>0.108524</td>\n",
       "    </tr>\n",
       "    <tr>\n",
       "      <td>AAAS_proteomics</td>\n",
       "      <td>0.058545</td>\n",
       "    </tr>\n",
       "    <tr>\n",
       "      <td>AACS_proteomics</td>\n",
       "      <td>-0.057941</td>\n",
       "    </tr>\n",
       "    <tr>\n",
       "      <td>AADAT_proteomics</td>\n",
       "      <td>0.175684</td>\n",
       "    </tr>\n",
       "    <tr>\n",
       "      <td>...</td>\n",
       "      <td>...</td>\n",
       "    </tr>\n",
       "    <tr>\n",
       "      <td>ZXDC_proteomics</td>\n",
       "      <td>0.061036</td>\n",
       "    </tr>\n",
       "    <tr>\n",
       "      <td>ZYG11B_proteomics</td>\n",
       "      <td>0.064513</td>\n",
       "    </tr>\n",
       "    <tr>\n",
       "      <td>ZYX_proteomics</td>\n",
       "      <td>0.116899</td>\n",
       "    </tr>\n",
       "    <tr>\n",
       "      <td>ZZEF1_proteomics</td>\n",
       "      <td>0.031760</td>\n",
       "    </tr>\n",
       "    <tr>\n",
       "      <td>ZZZ3_proteomics</td>\n",
       "      <td>-0.004215</td>\n",
       "    </tr>\n",
       "  </tbody>\n",
       "</table>\n",
       "<p>11141 rows × 1 columns</p>\n",
       "</div>"
      ],
      "text/plain": [
       "                        Gbm\n",
       "A1BG_proteomics    0.040188\n",
       "A2M_proteomics     0.108524\n",
       "AAAS_proteomics    0.058545\n",
       "AACS_proteomics   -0.057941\n",
       "AADAT_proteomics   0.175684\n",
       "...                     ...\n",
       "ZXDC_proteomics    0.061036\n",
       "ZYG11B_proteomics  0.064513\n",
       "ZYX_proteomics     0.116899\n",
       "ZZEF1_proteomics   0.031760\n",
       "ZZZ3_proteomics   -0.004215\n",
       "\n",
       "[11141 rows x 1 columns]"
      ]
     },
     "execution_count": 5,
     "metadata": {},
     "output_type": "execute_result"
    }
   ],
   "source": [
    "mut_df = mut_status.loc[mut_status['binary_mutations'] == 'Mutated']\n",
    "wt_df = mut_status.loc[mut_status['binary_mutations'] == 'Wildtype']\n",
    "\n",
    "mut_med = mut_df.median()\n",
    "wt_med = wt_df.median()\n",
    "\n",
    "gbm_d = {}\n",
    "\n",
    "for prot in gbm_prot:\n",
    "    dif_gbm = mut_med[prot] - wt_med[prot]\n",
    "    gbm_d[prot] = dif_gbm\n",
    "\n",
    "gbm_df = pd.DataFrame.from_dict(gbm_d, orient='index', columns=['Gbm'])\n",
    "gbm_df"
   ]
  },
  {
   "cell_type": "markdown",
   "metadata": {},
   "source": [
    "Endo"
   ]
  },
  {
   "cell_type": "code",
   "execution_count": 6,
   "metadata": {},
   "outputs": [
    {
     "name": "stderr",
     "output_type": "stream",
     "text": [
      "cptac warning: In joining the somatic_mutation table, no mutations were found for the following samples, so they were filled with Wildtype_Tumor or Wildtype_Normal: 69 samples for the PTEN gene (C:\\Users\\brittany henderson\\Anaconda3\\envs\\Research\\lib\\site-packages\\ipykernel_launcher.py, line 6)\n"
     ]
    },
    {
     "data": {
      "text/html": [
       "<div>\n",
       "<style scoped>\n",
       "    .dataframe tbody tr th:only-of-type {\n",
       "        vertical-align: middle;\n",
       "    }\n",
       "\n",
       "    .dataframe tbody tr th {\n",
       "        vertical-align: top;\n",
       "    }\n",
       "\n",
       "    .dataframe thead th {\n",
       "        text-align: right;\n",
       "    }\n",
       "</style>\n",
       "<table border=\"1\" class=\"dataframe\">\n",
       "  <thead>\n",
       "    <tr style=\"text-align: right;\">\n",
       "      <th>Name</th>\n",
       "      <th>A1BG_proteomics</th>\n",
       "      <th>A2M_proteomics</th>\n",
       "      <th>A2ML1_proteomics</th>\n",
       "      <th>A4GALT_proteomics</th>\n",
       "      <th>AAAS_proteomics</th>\n",
       "      <th>AACS_proteomics</th>\n",
       "      <th>AADAT_proteomics</th>\n",
       "      <th>AAED1_proteomics</th>\n",
       "      <th>AAGAB_proteomics</th>\n",
       "      <th>AAK1_proteomics</th>\n",
       "      <th>...</th>\n",
       "      <th>ZSWIM9_proteomics</th>\n",
       "      <th>ZW10_proteomics</th>\n",
       "      <th>ZWILCH_proteomics</th>\n",
       "      <th>ZWINT_proteomics</th>\n",
       "      <th>ZXDC_proteomics</th>\n",
       "      <th>ZYG11B_proteomics</th>\n",
       "      <th>ZYX_proteomics</th>\n",
       "      <th>ZZEF1_proteomics</th>\n",
       "      <th>ZZZ3_proteomics</th>\n",
       "      <th>binary_mutations</th>\n",
       "    </tr>\n",
       "    <tr>\n",
       "      <th>Sample_ID</th>\n",
       "      <th></th>\n",
       "      <th></th>\n",
       "      <th></th>\n",
       "      <th></th>\n",
       "      <th></th>\n",
       "      <th></th>\n",
       "      <th></th>\n",
       "      <th></th>\n",
       "      <th></th>\n",
       "      <th></th>\n",
       "      <th></th>\n",
       "      <th></th>\n",
       "      <th></th>\n",
       "      <th></th>\n",
       "      <th></th>\n",
       "      <th></th>\n",
       "      <th></th>\n",
       "      <th></th>\n",
       "      <th></th>\n",
       "      <th></th>\n",
       "      <th></th>\n",
       "    </tr>\n",
       "  </thead>\n",
       "  <tbody>\n",
       "    <tr>\n",
       "      <td>S001</td>\n",
       "      <td>-1.180</td>\n",
       "      <td>-0.8630</td>\n",
       "      <td>-0.8020</td>\n",
       "      <td>0.2220</td>\n",
       "      <td>0.2560</td>\n",
       "      <td>0.6650</td>\n",
       "      <td>1.2800</td>\n",
       "      <td>-0.3390</td>\n",
       "      <td>0.4120</td>\n",
       "      <td>-0.664</td>\n",
       "      <td>...</td>\n",
       "      <td>NaN</td>\n",
       "      <td>0.02290</td>\n",
       "      <td>0.1090</td>\n",
       "      <td>NaN</td>\n",
       "      <td>-0.332</td>\n",
       "      <td>-0.43300</td>\n",
       "      <td>-1.020</td>\n",
       "      <td>-0.12300</td>\n",
       "      <td>-0.0859</td>\n",
       "      <td>Mutated</td>\n",
       "    </tr>\n",
       "    <tr>\n",
       "      <td>S002</td>\n",
       "      <td>-0.685</td>\n",
       "      <td>-1.0700</td>\n",
       "      <td>-0.6840</td>\n",
       "      <td>0.9840</td>\n",
       "      <td>0.1350</td>\n",
       "      <td>0.3340</td>\n",
       "      <td>1.3000</td>\n",
       "      <td>0.1390</td>\n",
       "      <td>1.3300</td>\n",
       "      <td>-0.367</td>\n",
       "      <td>...</td>\n",
       "      <td>NaN</td>\n",
       "      <td>0.36300</td>\n",
       "      <td>1.0700</td>\n",
       "      <td>0.7370</td>\n",
       "      <td>-0.564</td>\n",
       "      <td>-0.00461</td>\n",
       "      <td>-1.130</td>\n",
       "      <td>-0.07570</td>\n",
       "      <td>-0.4730</td>\n",
       "      <td>Mutated</td>\n",
       "    </tr>\n",
       "    <tr>\n",
       "      <td>S003</td>\n",
       "      <td>-0.528</td>\n",
       "      <td>-1.3200</td>\n",
       "      <td>0.4350</td>\n",
       "      <td>NaN</td>\n",
       "      <td>-0.2400</td>\n",
       "      <td>1.0400</td>\n",
       "      <td>-0.0213</td>\n",
       "      <td>-0.0479</td>\n",
       "      <td>0.4190</td>\n",
       "      <td>-0.500</td>\n",
       "      <td>...</td>\n",
       "      <td>-0.1450</td>\n",
       "      <td>0.01050</td>\n",
       "      <td>-0.1160</td>\n",
       "      <td>NaN</td>\n",
       "      <td>0.151</td>\n",
       "      <td>-0.07400</td>\n",
       "      <td>-0.540</td>\n",
       "      <td>0.32000</td>\n",
       "      <td>-0.4190</td>\n",
       "      <td>Mutated</td>\n",
       "    </tr>\n",
       "    <tr>\n",
       "      <td>S005</td>\n",
       "      <td>-1.670</td>\n",
       "      <td>-1.1900</td>\n",
       "      <td>-0.4430</td>\n",
       "      <td>0.2430</td>\n",
       "      <td>-0.0993</td>\n",
       "      <td>0.7570</td>\n",
       "      <td>0.7400</td>\n",
       "      <td>-0.9290</td>\n",
       "      <td>0.2290</td>\n",
       "      <td>-0.223</td>\n",
       "      <td>...</td>\n",
       "      <td>-0.0552</td>\n",
       "      <td>-0.07140</td>\n",
       "      <td>0.0933</td>\n",
       "      <td>0.1560</td>\n",
       "      <td>-0.398</td>\n",
       "      <td>-0.07520</td>\n",
       "      <td>-0.797</td>\n",
       "      <td>-0.03010</td>\n",
       "      <td>-0.4670</td>\n",
       "      <td>Mutated</td>\n",
       "    </tr>\n",
       "    <tr>\n",
       "      <td>S006</td>\n",
       "      <td>-0.374</td>\n",
       "      <td>-0.0206</td>\n",
       "      <td>-0.5370</td>\n",
       "      <td>0.3110</td>\n",
       "      <td>0.3750</td>\n",
       "      <td>0.0131</td>\n",
       "      <td>-1.1000</td>\n",
       "      <td>NaN</td>\n",
       "      <td>0.5650</td>\n",
       "      <td>-0.101</td>\n",
       "      <td>...</td>\n",
       "      <td>NaN</td>\n",
       "      <td>-1.22000</td>\n",
       "      <td>-0.5620</td>\n",
       "      <td>0.9370</td>\n",
       "      <td>-0.646</td>\n",
       "      <td>0.20700</td>\n",
       "      <td>-1.850</td>\n",
       "      <td>-0.17600</td>\n",
       "      <td>0.0513</td>\n",
       "      <td>Wildtype</td>\n",
       "    </tr>\n",
       "    <tr>\n",
       "      <td>...</td>\n",
       "      <td>...</td>\n",
       "      <td>...</td>\n",
       "      <td>...</td>\n",
       "      <td>...</td>\n",
       "      <td>...</td>\n",
       "      <td>...</td>\n",
       "      <td>...</td>\n",
       "      <td>...</td>\n",
       "      <td>...</td>\n",
       "      <td>...</td>\n",
       "      <td>...</td>\n",
       "      <td>...</td>\n",
       "      <td>...</td>\n",
       "      <td>...</td>\n",
       "      <td>...</td>\n",
       "      <td>...</td>\n",
       "      <td>...</td>\n",
       "      <td>...</td>\n",
       "      <td>...</td>\n",
       "      <td>...</td>\n",
       "      <td>...</td>\n",
       "    </tr>\n",
       "    <tr>\n",
       "      <td>S099</td>\n",
       "      <td>-1.070</td>\n",
       "      <td>-0.7120</td>\n",
       "      <td>0.0462</td>\n",
       "      <td>-0.0471</td>\n",
       "      <td>0.2270</td>\n",
       "      <td>1.3500</td>\n",
       "      <td>1.2100</td>\n",
       "      <td>0.0048</td>\n",
       "      <td>0.6820</td>\n",
       "      <td>-0.224</td>\n",
       "      <td>...</td>\n",
       "      <td>-0.4010</td>\n",
       "      <td>0.55700</td>\n",
       "      <td>0.8270</td>\n",
       "      <td>0.3480</td>\n",
       "      <td>-0.187</td>\n",
       "      <td>-0.10700</td>\n",
       "      <td>-0.830</td>\n",
       "      <td>0.06200</td>\n",
       "      <td>-0.5280</td>\n",
       "      <td>Mutated</td>\n",
       "    </tr>\n",
       "    <tr>\n",
       "      <td>S100</td>\n",
       "      <td>-1.280</td>\n",
       "      <td>-0.7360</td>\n",
       "      <td>-0.5520</td>\n",
       "      <td>0.1140</td>\n",
       "      <td>0.2730</td>\n",
       "      <td>1.0700</td>\n",
       "      <td>0.8500</td>\n",
       "      <td>NaN</td>\n",
       "      <td>-0.5360</td>\n",
       "      <td>-0.266</td>\n",
       "      <td>...</td>\n",
       "      <td>NaN</td>\n",
       "      <td>-0.00364</td>\n",
       "      <td>0.7630</td>\n",
       "      <td>0.0784</td>\n",
       "      <td>-0.203</td>\n",
       "      <td>0.01320</td>\n",
       "      <td>-1.200</td>\n",
       "      <td>-0.35700</td>\n",
       "      <td>0.0299</td>\n",
       "      <td>Wildtype</td>\n",
       "    </tr>\n",
       "    <tr>\n",
       "      <td>S101</td>\n",
       "      <td>-0.290</td>\n",
       "      <td>-0.3200</td>\n",
       "      <td>3.1700</td>\n",
       "      <td>-0.9070</td>\n",
       "      <td>0.0317</td>\n",
       "      <td>-0.0425</td>\n",
       "      <td>NaN</td>\n",
       "      <td>-0.2730</td>\n",
       "      <td>-0.0747</td>\n",
       "      <td>0.124</td>\n",
       "      <td>...</td>\n",
       "      <td>-0.5210</td>\n",
       "      <td>0.05230</td>\n",
       "      <td>0.5150</td>\n",
       "      <td>0.5850</td>\n",
       "      <td>0.138</td>\n",
       "      <td>-0.19000</td>\n",
       "      <td>-0.966</td>\n",
       "      <td>-0.00627</td>\n",
       "      <td>-0.2490</td>\n",
       "      <td>Wildtype</td>\n",
       "    </tr>\n",
       "    <tr>\n",
       "      <td>S102</td>\n",
       "      <td>0.266</td>\n",
       "      <td>1.3900</td>\n",
       "      <td>-0.0655</td>\n",
       "      <td>0.4700</td>\n",
       "      <td>0.3980</td>\n",
       "      <td>-0.1340</td>\n",
       "      <td>0.4610</td>\n",
       "      <td>1.0400</td>\n",
       "      <td>0.3630</td>\n",
       "      <td>0.094</td>\n",
       "      <td>...</td>\n",
       "      <td>NaN</td>\n",
       "      <td>-0.01220</td>\n",
       "      <td>0.2500</td>\n",
       "      <td>0.5530</td>\n",
       "      <td>0.387</td>\n",
       "      <td>0.06420</td>\n",
       "      <td>-0.437</td>\n",
       "      <td>0.10400</td>\n",
       "      <td>-0.4980</td>\n",
       "      <td>Wildtype</td>\n",
       "    </tr>\n",
       "    <tr>\n",
       "      <td>S103</td>\n",
       "      <td>0.692</td>\n",
       "      <td>0.5890</td>\n",
       "      <td>0.5870</td>\n",
       "      <td>NaN</td>\n",
       "      <td>-0.0835</td>\n",
       "      <td>0.1720</td>\n",
       "      <td>-0.2150</td>\n",
       "      <td>0.0140</td>\n",
       "      <td>-0.1460</td>\n",
       "      <td>0.857</td>\n",
       "      <td>...</td>\n",
       "      <td>0.2980</td>\n",
       "      <td>-0.12400</td>\n",
       "      <td>0.1780</td>\n",
       "      <td>0.1470</td>\n",
       "      <td>-0.114</td>\n",
       "      <td>0.13700</td>\n",
       "      <td>1.240</td>\n",
       "      <td>0.00682</td>\n",
       "      <td>-0.0233</td>\n",
       "      <td>Wildtype</td>\n",
       "    </tr>\n",
       "  </tbody>\n",
       "</table>\n",
       "<p>95 rows × 10994 columns</p>\n",
       "</div>"
      ],
      "text/plain": [
       "Name       A1BG_proteomics  A2M_proteomics  A2ML1_proteomics  \\\n",
       "Sample_ID                                                      \n",
       "S001                -1.180         -0.8630           -0.8020   \n",
       "S002                -0.685         -1.0700           -0.6840   \n",
       "S003                -0.528         -1.3200            0.4350   \n",
       "S005                -1.670         -1.1900           -0.4430   \n",
       "S006                -0.374         -0.0206           -0.5370   \n",
       "...                    ...             ...               ...   \n",
       "S099                -1.070         -0.7120            0.0462   \n",
       "S100                -1.280         -0.7360           -0.5520   \n",
       "S101                -0.290         -0.3200            3.1700   \n",
       "S102                 0.266          1.3900           -0.0655   \n",
       "S103                 0.692          0.5890            0.5870   \n",
       "\n",
       "Name       A4GALT_proteomics  AAAS_proteomics  AACS_proteomics  \\\n",
       "Sample_ID                                                        \n",
       "S001                  0.2220           0.2560           0.6650   \n",
       "S002                  0.9840           0.1350           0.3340   \n",
       "S003                     NaN          -0.2400           1.0400   \n",
       "S005                  0.2430          -0.0993           0.7570   \n",
       "S006                  0.3110           0.3750           0.0131   \n",
       "...                      ...              ...              ...   \n",
       "S099                 -0.0471           0.2270           1.3500   \n",
       "S100                  0.1140           0.2730           1.0700   \n",
       "S101                 -0.9070           0.0317          -0.0425   \n",
       "S102                  0.4700           0.3980          -0.1340   \n",
       "S103                     NaN          -0.0835           0.1720   \n",
       "\n",
       "Name       AADAT_proteomics  AAED1_proteomics  AAGAB_proteomics  \\\n",
       "Sample_ID                                                         \n",
       "S001                 1.2800           -0.3390            0.4120   \n",
       "S002                 1.3000            0.1390            1.3300   \n",
       "S003                -0.0213           -0.0479            0.4190   \n",
       "S005                 0.7400           -0.9290            0.2290   \n",
       "S006                -1.1000               NaN            0.5650   \n",
       "...                     ...               ...               ...   \n",
       "S099                 1.2100            0.0048            0.6820   \n",
       "S100                 0.8500               NaN           -0.5360   \n",
       "S101                    NaN           -0.2730           -0.0747   \n",
       "S102                 0.4610            1.0400            0.3630   \n",
       "S103                -0.2150            0.0140           -0.1460   \n",
       "\n",
       "Name       AAK1_proteomics  ...  ZSWIM9_proteomics  ZW10_proteomics  \\\n",
       "Sample_ID                   ...                                       \n",
       "S001                -0.664  ...                NaN          0.02290   \n",
       "S002                -0.367  ...                NaN          0.36300   \n",
       "S003                -0.500  ...            -0.1450          0.01050   \n",
       "S005                -0.223  ...            -0.0552         -0.07140   \n",
       "S006                -0.101  ...                NaN         -1.22000   \n",
       "...                    ...  ...                ...              ...   \n",
       "S099                -0.224  ...            -0.4010          0.55700   \n",
       "S100                -0.266  ...                NaN         -0.00364   \n",
       "S101                 0.124  ...            -0.5210          0.05230   \n",
       "S102                 0.094  ...                NaN         -0.01220   \n",
       "S103                 0.857  ...             0.2980         -0.12400   \n",
       "\n",
       "Name       ZWILCH_proteomics  ZWINT_proteomics  ZXDC_proteomics  \\\n",
       "Sample_ID                                                         \n",
       "S001                  0.1090               NaN           -0.332   \n",
       "S002                  1.0700            0.7370           -0.564   \n",
       "S003                 -0.1160               NaN            0.151   \n",
       "S005                  0.0933            0.1560           -0.398   \n",
       "S006                 -0.5620            0.9370           -0.646   \n",
       "...                      ...               ...              ...   \n",
       "S099                  0.8270            0.3480           -0.187   \n",
       "S100                  0.7630            0.0784           -0.203   \n",
       "S101                  0.5150            0.5850            0.138   \n",
       "S102                  0.2500            0.5530            0.387   \n",
       "S103                  0.1780            0.1470           -0.114   \n",
       "\n",
       "Name       ZYG11B_proteomics  ZYX_proteomics  ZZEF1_proteomics  \\\n",
       "Sample_ID                                                        \n",
       "S001                -0.43300          -1.020          -0.12300   \n",
       "S002                -0.00461          -1.130          -0.07570   \n",
       "S003                -0.07400          -0.540           0.32000   \n",
       "S005                -0.07520          -0.797          -0.03010   \n",
       "S006                 0.20700          -1.850          -0.17600   \n",
       "...                      ...             ...               ...   \n",
       "S099                -0.10700          -0.830           0.06200   \n",
       "S100                 0.01320          -1.200          -0.35700   \n",
       "S101                -0.19000          -0.966          -0.00627   \n",
       "S102                 0.06420          -0.437           0.10400   \n",
       "S103                 0.13700           1.240           0.00682   \n",
       "\n",
       "Name       ZZZ3_proteomics  binary_mutations  \n",
       "Sample_ID                                     \n",
       "S001               -0.0859           Mutated  \n",
       "S002               -0.4730           Mutated  \n",
       "S003               -0.4190           Mutated  \n",
       "S005               -0.4670           Mutated  \n",
       "S006                0.0513          Wildtype  \n",
       "...                    ...               ...  \n",
       "S099               -0.5280           Mutated  \n",
       "S100                0.0299          Wildtype  \n",
       "S101               -0.2490          Wildtype  \n",
       "S102               -0.4980          Wildtype  \n",
       "S103               -0.0233          Wildtype  \n",
       "\n",
       "[95 rows x 10994 columns]"
      ]
     },
     "execution_count": 6,
     "metadata": {},
     "output_type": "execute_result"
    }
   ],
   "source": [
    "#Endo ttest\n",
    "# Step 1 - Create dataframe in order to do comparisons with wrap_ttest\n",
    "prot = endo.get_proteomics()\n",
    "en_prot_list = list(prot.columns)\n",
    "prot_and_mutations = endo.join_omics_to_mutations(\n",
    "    mutations_genes = [gene], omics_df_name = 'proteomics', omics_genes = en_prot_list)  \n",
    "\n",
    "# Step 2 - Create binary column \n",
    "prot_and_mutations['binary_mutations'] = np.where(\n",
    "            prot_and_mutations[gene+'_Mutation_Status'] == 'Wildtype_Tumor', 'Wildtype', 'Mutated')\n",
    "\n",
    "# Step 3 - Format the dataframe correctly for the T-test(just omics and binary columns for tumors)\n",
    "tumors = prot_and_mutations[prot_and_mutations.Sample_Status == 'Tumor'] #drop Normal samples\n",
    "columns_to_drop = [gene+\"_Mutation\", gene+\"_Location\", gene+\"_Mutation_Status\", \"Sample_Status\"]\n",
    "mut_status = tumors.drop(columns_to_drop, axis = 1)\n",
    "mut_status = mut_status.dropna(axis=1,how='all')\n",
    "en_prot = list(mut_status.columns[:-1])\n",
    "\n",
    "mut_status"
   ]
  },
  {
   "cell_type": "code",
   "execution_count": 7,
   "metadata": {},
   "outputs": [],
   "source": [
    "mut_df = mut_status.loc[mut_status['binary_mutations'] == 'Mutated']\n",
    "wt_df = mut_status.loc[mut_status['binary_mutations'] == 'Wildtype']\n",
    "\n",
    "mut_med = mut_df.median()\n",
    "wt_med = wt_df.median()\n",
    "\n",
    "en_d = {}\n",
    "\n",
    "for prot in en_prot:\n",
    "    dif_en = mut_med[prot] - wt_med[prot]\n",
    "    en_d[prot] = dif_en"
   ]
  },
  {
   "cell_type": "code",
   "execution_count": 8,
   "metadata": {},
   "outputs": [
    {
     "data": {
      "text/html": [
       "<div>\n",
       "<style scoped>\n",
       "    .dataframe tbody tr th:only-of-type {\n",
       "        vertical-align: middle;\n",
       "    }\n",
       "\n",
       "    .dataframe tbody tr th {\n",
       "        vertical-align: top;\n",
       "    }\n",
       "\n",
       "    .dataframe thead th {\n",
       "        text-align: right;\n",
       "    }\n",
       "</style>\n",
       "<table border=\"1\" class=\"dataframe\">\n",
       "  <thead>\n",
       "    <tr style=\"text-align: right;\">\n",
       "      <th></th>\n",
       "      <th>Endo</th>\n",
       "    </tr>\n",
       "  </thead>\n",
       "  <tbody>\n",
       "    <tr>\n",
       "      <td>A1BG_proteomics</td>\n",
       "      <td>-0.08550</td>\n",
       "    </tr>\n",
       "    <tr>\n",
       "      <td>A2M_proteomics</td>\n",
       "      <td>0.01150</td>\n",
       "    </tr>\n",
       "    <tr>\n",
       "      <td>A2ML1_proteomics</td>\n",
       "      <td>0.53575</td>\n",
       "    </tr>\n",
       "    <tr>\n",
       "      <td>A4GALT_proteomics</td>\n",
       "      <td>0.40300</td>\n",
       "    </tr>\n",
       "    <tr>\n",
       "      <td>AAAS_proteomics</td>\n",
       "      <td>-0.24410</td>\n",
       "    </tr>\n",
       "    <tr>\n",
       "      <td>...</td>\n",
       "      <td>...</td>\n",
       "    </tr>\n",
       "    <tr>\n",
       "      <td>ZXDC_proteomics</td>\n",
       "      <td>-0.48150</td>\n",
       "    </tr>\n",
       "    <tr>\n",
       "      <td>ZYG11B_proteomics</td>\n",
       "      <td>-0.20160</td>\n",
       "    </tr>\n",
       "    <tr>\n",
       "      <td>ZYX_proteomics</td>\n",
       "      <td>0.08750</td>\n",
       "    </tr>\n",
       "    <tr>\n",
       "      <td>ZZEF1_proteomics</td>\n",
       "      <td>0.09025</td>\n",
       "    </tr>\n",
       "    <tr>\n",
       "      <td>ZZZ3_proteomics</td>\n",
       "      <td>-0.06400</td>\n",
       "    </tr>\n",
       "  </tbody>\n",
       "</table>\n",
       "<p>10993 rows × 1 columns</p>\n",
       "</div>"
      ],
      "text/plain": [
       "                      Endo\n",
       "A1BG_proteomics   -0.08550\n",
       "A2M_proteomics     0.01150\n",
       "A2ML1_proteomics   0.53575\n",
       "A4GALT_proteomics  0.40300\n",
       "AAAS_proteomics   -0.24410\n",
       "...                    ...\n",
       "ZXDC_proteomics   -0.48150\n",
       "ZYG11B_proteomics -0.20160\n",
       "ZYX_proteomics     0.08750\n",
       "ZZEF1_proteomics   0.09025\n",
       "ZZZ3_proteomics   -0.06400\n",
       "\n",
       "[10993 rows x 1 columns]"
      ]
     },
     "execution_count": 8,
     "metadata": {},
     "output_type": "execute_result"
    }
   ],
   "source": [
    "en_df = pd.DataFrame.from_dict(en_d, orient='index', columns=['Endo'])\n",
    "en_df"
   ]
  },
  {
   "cell_type": "markdown",
   "metadata": {},
   "source": [
    "Ovarian"
   ]
  },
  {
   "cell_type": "code",
   "execution_count": 9,
   "metadata": {},
   "outputs": [
    {
     "name": "stdout",
     "output_type": "stream",
     "text": [
      "                                    \r"
     ]
    }
   ],
   "source": [
    "ov = cptac.Ovarian()"
   ]
  },
  {
   "cell_type": "code",
   "execution_count": 10,
   "metadata": {},
   "outputs": [
    {
     "name": "stderr",
     "output_type": "stream",
     "text": [
      "cptac warning: Due to dropping the specified levels, dataframe now has 1162 duplicated column headers. (C:\\Users\\brittany henderson\\Anaconda3\\envs\\Research\\lib\\site-packages\\ipykernel_launcher.py, line 3)\n",
      "cptac warning: In joining the somatic_mutation table, no mutations were found for the following samples, so they were filled with Wildtype_Tumor or Wildtype_Normal: 99 samples for the PTEN gene (C:\\Users\\brittany henderson\\Anaconda3\\envs\\Research\\lib\\site-packages\\ipykernel_launcher.py, line 7)\n",
      "cptac warning: Due to dropping the specified levels, dataframe now has 1162 duplicated column headers. (C:\\Users\\brittany henderson\\Anaconda3\\envs\\Research\\lib\\site-packages\\ipykernel_launcher.py, line 8)\n"
     ]
    }
   ],
   "source": [
    "# Step 1 - Create dataframe in order to do comparisons with wrap_ttest\n",
    "prot = ov.get_proteomics()\n",
    "prot = ov.reduce_multiindex(prot, levels_to_drop = 1)\n",
    "\n",
    "ov_prot_list = list(prot.columns)\n",
    "prot_and_mutations = ov.join_omics_to_mutations(\n",
    "    mutations_genes = [gene], omics_df_name = 'proteomics', omics_genes = ov_prot_list) \n",
    "prot_and_mutations = ov.reduce_multiindex(prot_and_mutations, levels_to_drop = 1)\n",
    "prot_and_mutations\n",
    "\n",
    "# Step 2 - Create binary column \n",
    "prot_and_mutations['binary_mutations'] = np.where(\n",
    "            prot_and_mutations[gene+'_Mutation_Status'] == 'Wildtype_Tumor', 'Wildtype', 'Mutated')\n",
    "\n",
    "# Step 3 - Format the dataframe correctly for the T-test(just omics and binary columns for tumors)\n",
    "tumors = prot_and_mutations[prot_and_mutations.Sample_Status == 'Tumor'] #drop Normal samples\n",
    "columns_to_drop = [gene+\"_Mutation\", gene+\"_Location\", gene+\"_Mutation_Status\", \"Sample_Status\"]\n",
    "mut_status = tumors.drop(columns_to_drop, axis = 1)\n",
    "mut_status = mut_status.dropna(axis=1,how='all')\n",
    "ov_prot = list(mut_status.columns[:-1])"
   ]
  },
  {
   "cell_type": "code",
   "execution_count": 11,
   "metadata": {},
   "outputs": [
    {
     "data": {
      "text/html": [
       "<div>\n",
       "<style scoped>\n",
       "    .dataframe tbody tr th:only-of-type {\n",
       "        vertical-align: middle;\n",
       "    }\n",
       "\n",
       "    .dataframe tbody tr th {\n",
       "        vertical-align: top;\n",
       "    }\n",
       "\n",
       "    .dataframe thead th {\n",
       "        text-align: right;\n",
       "    }\n",
       "</style>\n",
       "<table border=\"1\" class=\"dataframe\">\n",
       "  <thead>\n",
       "    <tr style=\"text-align: right;\">\n",
       "      <th></th>\n",
       "      <th>Ovarian</th>\n",
       "    </tr>\n",
       "  </thead>\n",
       "  <tbody>\n",
       "    <tr>\n",
       "      <td>A1BG_proteomics</td>\n",
       "      <td>0.253846</td>\n",
       "    </tr>\n",
       "    <tr>\n",
       "      <td>A2M_proteomics</td>\n",
       "      <td>-0.316928</td>\n",
       "    </tr>\n",
       "    <tr>\n",
       "      <td>A2ML1_proteomics</td>\n",
       "      <td>-0.438039</td>\n",
       "    </tr>\n",
       "    <tr>\n",
       "      <td>AAAS_proteomics</td>\n",
       "      <td>0.160948</td>\n",
       "    </tr>\n",
       "    <tr>\n",
       "      <td>AACS_proteomics</td>\n",
       "      <td>0.384572</td>\n",
       "    </tr>\n",
       "    <tr>\n",
       "      <td>...</td>\n",
       "      <td>...</td>\n",
       "    </tr>\n",
       "    <tr>\n",
       "      <td>ZWINT_proteomics</td>\n",
       "      <td>0.468774</td>\n",
       "    </tr>\n",
       "    <tr>\n",
       "      <td>ZYG11B_proteomics</td>\n",
       "      <td>-0.191364</td>\n",
       "    </tr>\n",
       "    <tr>\n",
       "      <td>ZYX_proteomics</td>\n",
       "      <td>-0.183404</td>\n",
       "    </tr>\n",
       "    <tr>\n",
       "      <td>ZZEF1_proteomics</td>\n",
       "      <td>0.188278</td>\n",
       "    </tr>\n",
       "    <tr>\n",
       "      <td>ZZZ3_proteomics</td>\n",
       "      <td>-0.460994</td>\n",
       "    </tr>\n",
       "  </tbody>\n",
       "</table>\n",
       "<p>10077 rows × 1 columns</p>\n",
       "</div>"
      ],
      "text/plain": [
       "                    Ovarian\n",
       "A1BG_proteomics    0.253846\n",
       "A2M_proteomics    -0.316928\n",
       "A2ML1_proteomics  -0.438039\n",
       "AAAS_proteomics    0.160948\n",
       "AACS_proteomics    0.384572\n",
       "...                     ...\n",
       "ZWINT_proteomics   0.468774\n",
       "ZYG11B_proteomics -0.191364\n",
       "ZYX_proteomics    -0.183404\n",
       "ZZEF1_proteomics   0.188278\n",
       "ZZZ3_proteomics   -0.460994\n",
       "\n",
       "[10077 rows x 1 columns]"
      ]
     },
     "execution_count": 11,
     "metadata": {},
     "output_type": "execute_result"
    }
   ],
   "source": [
    "mut_df = mut_status.loc[mut_status['binary_mutations'] == 'Mutated']\n",
    "wt_df = mut_status.loc[mut_status['binary_mutations'] == 'Wildtype']\n",
    "\n",
    "mut_med = mut_df.median()\n",
    "wt_med = wt_df.median()\n",
    "\n",
    "ov_dict = {}\n",
    "\n",
    "for prot in ov_prot:\n",
    "    delta_ov = mut_med[prot] - wt_med[prot]\n",
    "    ov_dict[prot] = delta_ov\n",
    "\n",
    "ov_df = pd.DataFrame.from_dict(ov_dict, orient='index', columns=['Ovarian'])\n",
    "ov_df"
   ]
  },
  {
   "cell_type": "markdown",
   "metadata": {},
   "source": [
    "Breast"
   ]
  },
  {
   "cell_type": "code",
   "execution_count": 12,
   "metadata": {},
   "outputs": [],
   "source": [
    "#b = cptac.Brca()"
   ]
  },
  {
   "cell_type": "markdown",
   "metadata": {},
   "source": [
    "No Somatic Mut in brca"
   ]
  },
  {
   "cell_type": "code",
   "execution_count": 13,
   "metadata": {},
   "outputs": [
    {
     "data": {
      "text/plain": [
       "'\\n# Step 1 - Create dataframe in order to do comparisons with wrap_ttest\\nprot = b.get_proteomics()\\n#prot = b.reduce_multiindex(prot, levels_to_drop = 1)\\nprot_list = list(prot.columns)\\nprot_and_mutations = b.join_omics_to_mutations(\\n    mutations_genes = [gene], omics_df_name = \\'proteomics\\', omics_genes = prot_list) \\nprot_and_mutations = b.reduce_multiindex(prot_and_mutations, levels_to_drop = 1)\\n\\n# Step 2 - Create binary column \\nprot_and_mutations[\\'binary_mutations\\'] = np.where(\\n            prot_and_mutations[gene+\\'_Mutation_Status\\'] == \\'Wildtype_Tumor\\', \\'Wildtype\\', \\'Mutated\\')\\n\\n# Step 3 - Format the dataframe correctly for the T-test(just omics and binary columns for tumors)\\ntumors = prot_and_mutations[prot_and_mutations.Sample_Status == \\'Tumor\\'] #drop Normal samples\\ncolumns_to_drop = [gene+\"_Mutation\", gene+\"_Location\", gene+\"_Mutation_Status\", \"Sample_Status\"]\\nmut_status = tumors.drop(columns_to_drop, axis = 1)\\nmut_status = mut_status.dropna(axis=1,how=\\'all\\')\\nb_prot = list(mut_status.columns[:-1])'"
      ]
     },
     "execution_count": 13,
     "metadata": {},
     "output_type": "execute_result"
    }
   ],
   "source": [
    "'''\n",
    "# Step 1 - Create dataframe in order to do comparisons with wrap_ttest\n",
    "prot = b.get_proteomics()\n",
    "#prot = b.reduce_multiindex(prot, levels_to_drop = 1)\n",
    "prot_list = list(prot.columns)\n",
    "prot_and_mutations = b.join_omics_to_mutations(\n",
    "    mutations_genes = [gene], omics_df_name = 'proteomics', omics_genes = prot_list) \n",
    "prot_and_mutations = b.reduce_multiindex(prot_and_mutations, levels_to_drop = 1)\n",
    "\n",
    "# Step 2 - Create binary column \n",
    "prot_and_mutations['binary_mutations'] = np.where(\n",
    "            prot_and_mutations[gene+'_Mutation_Status'] == 'Wildtype_Tumor', 'Wildtype', 'Mutated')\n",
    "\n",
    "# Step 3 - Format the dataframe correctly for the T-test(just omics and binary columns for tumors)\n",
    "tumors = prot_and_mutations[prot_and_mutations.Sample_Status == 'Tumor'] #drop Normal samples\n",
    "columns_to_drop = [gene+\"_Mutation\", gene+\"_Location\", gene+\"_Mutation_Status\", \"Sample_Status\"]\n",
    "mut_status = tumors.drop(columns_to_drop, axis = 1)\n",
    "mut_status = mut_status.dropna(axis=1,how='all')\n",
    "b_prot = list(mut_status.columns[:-1])'''"
   ]
  },
  {
   "cell_type": "code",
   "execution_count": 14,
   "metadata": {},
   "outputs": [
    {
     "data": {
      "text/plain": [
       "\"\\nmut_df = mut_status.loc[mut_status['binary_mutations'] == 'Mutated']\\nwt_df = mut_status.loc[mut_status['binary_mutations'] == 'Wildtype']\\n\\nmut_med = mut_df.median()\\nwt_med = wt_df.median()\\n\\nb_dict = {}\\n\\nfor prot in b_prot:\\n    delta_b = mut_med[prot] - wt_med[prot]\\n    b_d[prot] = delta_b\\n\\nb_df = pd.DataFrame.from_dict(gbm_d, orient='index', columns=['Breast'])\\nb_df\""
      ]
     },
     "execution_count": 14,
     "metadata": {},
     "output_type": "execute_result"
    }
   ],
   "source": [
    "'''\n",
    "mut_df = mut_status.loc[mut_status['binary_mutations'] == 'Mutated']\n",
    "wt_df = mut_status.loc[mut_status['binary_mutations'] == 'Wildtype']\n",
    "\n",
    "mut_med = mut_df.median()\n",
    "wt_med = wt_df.median()\n",
    "\n",
    "b_dict = {}\n",
    "\n",
    "for prot in b_prot:\n",
    "    delta_b = mut_med[prot] - wt_med[prot]\n",
    "    b_d[prot] = delta_b\n",
    "\n",
    "b_df = pd.DataFrame.from_dict(gbm_d, orient='index', columns=['Breast'])\n",
    "b_df'''"
   ]
  },
  {
   "cell_type": "markdown",
   "metadata": {},
   "source": [
    "Colon"
   ]
  },
  {
   "cell_type": "code",
   "execution_count": 15,
   "metadata": {},
   "outputs": [
    {
     "name": "stdout",
     "output_type": "stream",
     "text": [
      "                                    \r"
     ]
    }
   ],
   "source": [
    "col = cptac.Colon()"
   ]
  },
  {
   "cell_type": "code",
   "execution_count": 16,
   "metadata": {},
   "outputs": [
    {
     "name": "stderr",
     "output_type": "stream",
     "text": [
      "cptac warning: In joining the somatic_mutation table, no mutations were found for the following samples, so they were filled with Wildtype_Tumor or Wildtype_Normal: 201 samples for the PTEN gene (C:\\Users\\brittany henderson\\Anaconda3\\envs\\Research\\lib\\site-packages\\ipykernel_launcher.py, line 5)\n",
      "cptac warning: proteomics data was not found for the following samples, so proteomics data columns were filled with NaN for these samples: S001, S013, S015, S017, S038, S080, S081, S090, S099, S109 (C:\\Users\\brittany henderson\\Anaconda3\\envs\\Research\\lib\\site-packages\\ipykernel_launcher.py, line 5)\n"
     ]
    }
   ],
   "source": [
    "# Step 1 - Create dataframe in order to do comparisons with wrap_ttest\n",
    "prot = col.get_proteomics()\n",
    "col_prot_list = list(prot.columns)\n",
    "prot_and_mutations = col.join_omics_to_mutations(\n",
    "    mutations_genes = [gene], omics_df_name = 'proteomics', omics_genes = col_prot_list) \n",
    "#prot_and_mutations = col.reduce_multiindex(prot_and_mutations, levels_to_drop = 1)\n",
    "\n",
    "# Step 2 - Create binary column \n",
    "prot_and_mutations['binary_mutations'] = np.where(\n",
    "            prot_and_mutations[gene+'_Mutation_Status'] == 'Wildtype_Tumor', 'Wildtype', 'Mutated')\n",
    "\n",
    "# Step 3 - Format the dataframe correctly for the T-test(just omics and binary columns for tumors)\n",
    "tumors = prot_and_mutations[prot_and_mutations.Sample_Status == 'Tumor'] #drop Normal samples\n",
    "columns_to_drop = [gene+\"_Mutation\", gene+\"_Location\", gene+\"_Mutation_Status\", \"Sample_Status\"]\n",
    "mut_status = tumors.drop(columns_to_drop, axis = 1)\n",
    "mut_status = mut_status.dropna(axis=1,how='all')\n",
    "col_prot = list(mut_status.columns[:-1])"
   ]
  },
  {
   "cell_type": "code",
   "execution_count": 17,
   "metadata": {},
   "outputs": [
    {
     "data": {
      "text/html": [
       "<div>\n",
       "<style scoped>\n",
       "    .dataframe tbody tr th:only-of-type {\n",
       "        vertical-align: middle;\n",
       "    }\n",
       "\n",
       "    .dataframe tbody tr th {\n",
       "        vertical-align: top;\n",
       "    }\n",
       "\n",
       "    .dataframe thead th {\n",
       "        text-align: right;\n",
       "    }\n",
       "</style>\n",
       "<table border=\"1\" class=\"dataframe\">\n",
       "  <thead>\n",
       "    <tr style=\"text-align: right;\">\n",
       "      <th></th>\n",
       "      <th>Colon</th>\n",
       "    </tr>\n",
       "  </thead>\n",
       "  <tbody>\n",
       "    <tr>\n",
       "      <td>A1BG_proteomics</td>\n",
       "      <td>-0.10650</td>\n",
       "    </tr>\n",
       "    <tr>\n",
       "      <td>A1CF_proteomics</td>\n",
       "      <td>-0.32690</td>\n",
       "    </tr>\n",
       "    <tr>\n",
       "      <td>A2M_proteomics</td>\n",
       "      <td>-0.12400</td>\n",
       "    </tr>\n",
       "    <tr>\n",
       "      <td>AAAS_proteomics</td>\n",
       "      <td>0.10800</td>\n",
       "    </tr>\n",
       "    <tr>\n",
       "      <td>AACS_proteomics</td>\n",
       "      <td>0.02100</td>\n",
       "    </tr>\n",
       "    <tr>\n",
       "      <td>...</td>\n",
       "      <td>...</td>\n",
       "    </tr>\n",
       "    <tr>\n",
       "      <td>ZW10_proteomics</td>\n",
       "      <td>0.06040</td>\n",
       "    </tr>\n",
       "    <tr>\n",
       "      <td>ZWILCH_proteomics</td>\n",
       "      <td>0.34465</td>\n",
       "    </tr>\n",
       "    <tr>\n",
       "      <td>ZWINT_proteomics</td>\n",
       "      <td>0.28480</td>\n",
       "    </tr>\n",
       "    <tr>\n",
       "      <td>ZYX_proteomics</td>\n",
       "      <td>-0.08650</td>\n",
       "    </tr>\n",
       "    <tr>\n",
       "      <td>ZZEF1_proteomics</td>\n",
       "      <td>-0.01700</td>\n",
       "    </tr>\n",
       "  </tbody>\n",
       "</table>\n",
       "<p>8067 rows × 1 columns</p>\n",
       "</div>"
      ],
      "text/plain": [
       "                     Colon\n",
       "A1BG_proteomics   -0.10650\n",
       "A1CF_proteomics   -0.32690\n",
       "A2M_proteomics    -0.12400\n",
       "AAAS_proteomics    0.10800\n",
       "AACS_proteomics    0.02100\n",
       "...                    ...\n",
       "ZW10_proteomics    0.06040\n",
       "ZWILCH_proteomics  0.34465\n",
       "ZWINT_proteomics   0.28480\n",
       "ZYX_proteomics    -0.08650\n",
       "ZZEF1_proteomics  -0.01700\n",
       "\n",
       "[8067 rows x 1 columns]"
      ]
     },
     "execution_count": 17,
     "metadata": {},
     "output_type": "execute_result"
    }
   ],
   "source": [
    "mut_df = mut_status.loc[mut_status['binary_mutations'] == 'Mutated']\n",
    "wt_df = mut_status.loc[mut_status['binary_mutations'] == 'Wildtype']\n",
    "\n",
    "mut_med = mut_df.median()\n",
    "wt_med = wt_df.median()\n",
    "\n",
    "col_dict = {}\n",
    "\n",
    "for prot in col_prot:\n",
    "    delta_col = mut_med[prot] - wt_med[prot]\n",
    "    col_dict[prot] = delta_col\n",
    "\n",
    "col_df = pd.DataFrame.from_dict(col_dict, orient='index', columns=['Colon'])\n",
    "col_df"
   ]
  },
  {
   "cell_type": "markdown",
   "metadata": {},
   "source": [
    "Kidney"
   ]
  },
  {
   "cell_type": "code",
   "execution_count": 18,
   "metadata": {},
   "outputs": [
    {
     "name": "stdout",
     "output_type": "stream",
     "text": [
      "                                    \r"
     ]
    }
   ],
   "source": [
    "r = cptac.Ccrcc()"
   ]
  },
  {
   "cell_type": "code",
   "execution_count": 19,
   "metadata": {},
   "outputs": [
    {
     "name": "stderr",
     "output_type": "stream",
     "text": [
      "cptac warning: Due to dropping the specified levels, dataframe now has 907 duplicated column headers. (C:\\Users\\brittany henderson\\Anaconda3\\envs\\Research\\lib\\site-packages\\ipykernel_launcher.py, line 4)\n",
      "cptac warning: In joining the somatic_mutation table, no mutations were found for the following samples, so they were filled with Wildtype_Tumor or Wildtype_Normal: 189 samples for the PTEN gene (C:\\Users\\brittany henderson\\Anaconda3\\envs\\Research\\lib\\site-packages\\ipykernel_launcher.py, line 9)\n",
      "cptac warning: Due to dropping the specified levels, dataframe now has 907 duplicated column headers. (C:\\Users\\brittany henderson\\Anaconda3\\envs\\Research\\lib\\site-packages\\ipykernel_launcher.py, line 10)\n"
     ]
    }
   ],
   "source": [
    "gene = 'PTEN'\n",
    "# Step 1 - Create dataframe in order to do comparisons with wrap_ttest\n",
    "p = r.get_proteomics()\n",
    "prot = r.reduce_multiindex(p, levels_to_drop = 1)\n",
    "k_prot_list = list(prot.columns)\n",
    "k_prot_list\n",
    "\n",
    "prot_and_mutations = r.join_omics_to_mutations(\n",
    "    mutations_genes = gene, omics_df_name = 'proteomics', omics_genes = k_prot_list) \n",
    "prot_and_mutations = r.reduce_multiindex(prot_and_mutations, levels_to_drop = 1)\n",
    "\n",
    "# Step 2 - Create binary column \n",
    "prot_and_mutations['binary_mutations'] = np.where(\n",
    "            prot_and_mutations[gene+'_Mutation_Status'] == 'Wildtype_Tumor', 'Wildtype', 'Mutated')\n",
    "\n",
    "# Step 3 - Format the dataframe correctly for the T-test(just omics and binary columns for tumors)\n",
    "tumors = prot_and_mutations[prot_and_mutations.Sample_Status == 'Tumor'] #drop Normal samples\n",
    "columns_to_drop = [gene+\"_Mutation\", gene+\"_Location\", gene+\"_Mutation_Status\", \"Sample_Status\"]\n",
    "mut_status = tumors.drop(columns_to_drop, axis = 1)\n",
    "mut_status = mut_status.dropna(axis=1,how='all')\n",
    "k_prot = list(mut_status.columns[:-1])"
   ]
  },
  {
   "cell_type": "code",
   "execution_count": 20,
   "metadata": {},
   "outputs": [
    {
     "data": {
      "text/html": [
       "<div>\n",
       "<style scoped>\n",
       "    .dataframe tbody tr th:only-of-type {\n",
       "        vertical-align: middle;\n",
       "    }\n",
       "\n",
       "    .dataframe tbody tr th {\n",
       "        vertical-align: top;\n",
       "    }\n",
       "\n",
       "    .dataframe thead th {\n",
       "        text-align: right;\n",
       "    }\n",
       "</style>\n",
       "<table border=\"1\" class=\"dataframe\">\n",
       "  <thead>\n",
       "    <tr style=\"text-align: right;\">\n",
       "      <th></th>\n",
       "      <th>Kidney</th>\n",
       "    </tr>\n",
       "  </thead>\n",
       "  <tbody>\n",
       "    <tr>\n",
       "      <td>A1BG_proteomics</td>\n",
       "      <td>-0.293776</td>\n",
       "    </tr>\n",
       "    <tr>\n",
       "      <td>A1CF_proteomics</td>\n",
       "      <td>-0.197902</td>\n",
       "    </tr>\n",
       "    <tr>\n",
       "      <td>A2M_proteomics</td>\n",
       "      <td>-0.438024</td>\n",
       "    </tr>\n",
       "    <tr>\n",
       "      <td>A4GALT_proteomics</td>\n",
       "      <td>NaN</td>\n",
       "    </tr>\n",
       "    <tr>\n",
       "      <td>AAAS_proteomics</td>\n",
       "      <td>0.0257413</td>\n",
       "    </tr>\n",
       "    <tr>\n",
       "      <td>...</td>\n",
       "      <td>...</td>\n",
       "    </tr>\n",
       "    <tr>\n",
       "      <td>ZXDC_proteomics</td>\n",
       "      <td>-0.38038</td>\n",
       "    </tr>\n",
       "    <tr>\n",
       "      <td>ZYG11B_proteomics</td>\n",
       "      <td>0.0187209</td>\n",
       "    </tr>\n",
       "    <tr>\n",
       "      <td>ZYX_proteomics</td>\n",
       "      <td>0.325311</td>\n",
       "    </tr>\n",
       "    <tr>\n",
       "      <td>ZZEF1_proteomics</td>\n",
       "      <td>-0.0195168</td>\n",
       "    </tr>\n",
       "    <tr>\n",
       "      <td>ZZZ3_proteomics</td>\n",
       "      <td>-0.127422</td>\n",
       "    </tr>\n",
       "  </tbody>\n",
       "</table>\n",
       "<p>11236 rows × 1 columns</p>\n",
       "</div>"
      ],
      "text/plain": [
       "                      Kidney\n",
       "A1BG_proteomics    -0.293776\n",
       "A1CF_proteomics    -0.197902\n",
       "A2M_proteomics     -0.438024\n",
       "A4GALT_proteomics        NaN\n",
       "AAAS_proteomics    0.0257413\n",
       "...                      ...\n",
       "ZXDC_proteomics     -0.38038\n",
       "ZYG11B_proteomics  0.0187209\n",
       "ZYX_proteomics      0.325311\n",
       "ZZEF1_proteomics  -0.0195168\n",
       "ZZZ3_proteomics    -0.127422\n",
       "\n",
       "[11236 rows x 1 columns]"
      ]
     },
     "execution_count": 20,
     "metadata": {},
     "output_type": "execute_result"
    }
   ],
   "source": [
    "mut_df = mut_status.loc[mut_status['binary_mutations'] == 'Mutated']\n",
    "wt_df = mut_status.loc[mut_status['binary_mutations'] == 'Wildtype']\n",
    "\n",
    "mut_med = mut_df.median()\n",
    "wt_med = wt_df.median()\n",
    "\n",
    "k_dict = {}\n",
    "\n",
    "for prot in k_prot:\n",
    "    delta_k = mut_med[prot] - wt_med[prot]\n",
    "    k_dict[prot] = delta_k\n",
    "\n",
    "k_df = pd.DataFrame.from_dict(k_dict, orient='index', columns=['Kidney'])\n",
    "k_df"
   ]
  },
  {
   "cell_type": "markdown",
   "metadata": {},
   "source": [
    "Lung - no mutations data"
   ]
  },
  {
   "cell_type": "code",
   "execution_count": 21,
   "metadata": {},
   "outputs": [],
   "source": [
    "#l = cptac.Luad()"
   ]
  },
  {
   "cell_type": "code",
   "execution_count": 22,
   "metadata": {},
   "outputs": [
    {
     "data": {
      "text/plain": [
       "'\\n# Step 1 - Create dataframe in order to do comparisons with wrap_ttest\\nprot = l.get_proteomics()\\nprot_list = list(prot.columns)\\nprot_and_mutations = l.join_omics_to_mutations(\\n    mutations_genes = [gene], omics_df_name = \\'proteomics\\', omics_genes = prot_list) \\nprot_and_mutations = l.reduce_multiindex(prot_and_mutations, levels_to_drop = 1)\\n\\n# Step 2 - Create binary column \\nprot_and_mutations[\\'binary_mutations\\'] = np.where(\\n            prot_and_mutations[gene+\\'_Mutation_Status\\'] == \\'Wildtype_Tumor\\', \\'Wildtype\\', \\'Mutated\\')\\n\\n# Step 3 - Format the dataframe correctly for the T-test(just omics and binary columns for tumors)\\ntumors = prot_and_mutations[prot_and_mutations.Sample_Status == \\'Tumor\\'] #drop Normal samples\\ncolumns_to_drop = [gene+\"_Mutation\", gene+\"_Location\", gene+\"_Mutation_Status\", \"Sample_Status\"]\\nmut_status = tumors.drop(columns_to_drop, axis = 1)\\nmut_status = mut_status.dropna(axis=1,how=\\'all\\')\\nk_prot = list(mut_status.columns[:-1])'"
      ]
     },
     "execution_count": 22,
     "metadata": {},
     "output_type": "execute_result"
    }
   ],
   "source": [
    "'''\n",
    "# Step 1 - Create dataframe in order to do comparisons with wrap_ttest\n",
    "prot = l.get_proteomics()\n",
    "prot_list = list(prot.columns)\n",
    "prot_and_mutations = l.join_omics_to_mutations(\n",
    "    mutations_genes = [gene], omics_df_name = 'proteomics', omics_genes = prot_list) \n",
    "prot_and_mutations = l.reduce_multiindex(prot_and_mutations, levels_to_drop = 1)\n",
    "\n",
    "# Step 2 - Create binary column \n",
    "prot_and_mutations['binary_mutations'] = np.where(\n",
    "            prot_and_mutations[gene+'_Mutation_Status'] == 'Wildtype_Tumor', 'Wildtype', 'Mutated')\n",
    "\n",
    "# Step 3 - Format the dataframe correctly for the T-test(just omics and binary columns for tumors)\n",
    "tumors = prot_and_mutations[prot_and_mutations.Sample_Status == 'Tumor'] #drop Normal samples\n",
    "columns_to_drop = [gene+\"_Mutation\", gene+\"_Location\", gene+\"_Mutation_Status\", \"Sample_Status\"]\n",
    "mut_status = tumors.drop(columns_to_drop, axis = 1)\n",
    "mut_status = mut_status.dropna(axis=1,how='all')\n",
    "k_prot = list(mut_status.columns[:-1])'''"
   ]
  },
  {
   "cell_type": "code",
   "execution_count": 23,
   "metadata": {},
   "outputs": [
    {
     "data": {
      "text/plain": [
       "\"mut_df = mut_status.loc[mut_status['binary_mutations'] == 'Mutated']\\nwt_df = mut_status.loc[mut_status['binary_mutations'] == 'Wildtype']\\n\\nmut_med = mut_df.median()\\nwt_med = wt_df.median()\\n\\ngbm_d = {}\\n\\nfor prot in gbm_prot:\\n    dif_gbm = mut_med[prot] - wt_med[prot]\\n    gbm_d[prot] = dif_gbm\\n\\ngbm_df = pd.DataFrame.from_dict(gbm_d, orient='index', columns=['Gbm'])\\ngbm_df\""
      ]
     },
     "execution_count": 23,
     "metadata": {},
     "output_type": "execute_result"
    }
   ],
   "source": [
    "'''mut_df = mut_status.loc[mut_status['binary_mutations'] == 'Mutated']\n",
    "wt_df = mut_status.loc[mut_status['binary_mutations'] == 'Wildtype']\n",
    "\n",
    "mut_med = mut_df.median()\n",
    "wt_med = wt_df.median()\n",
    "\n",
    "gbm_d = {}\n",
    "\n",
    "for prot in gbm_prot:\n",
    "    dif_gbm = mut_med[prot] - wt_med[prot]\n",
    "    gbm_d[prot] = dif_gbm\n",
    "\n",
    "gbm_df = pd.DataFrame.from_dict(gbm_d, orient='index', columns=['Gbm'])\n",
    "gbm_df'''"
   ]
  },
  {
   "cell_type": "markdown",
   "metadata": {},
   "source": [
    "Head and Neck -PTEN not found in somatic mutation data"
   ]
  },
  {
   "cell_type": "code",
   "execution_count": 24,
   "metadata": {},
   "outputs": [],
   "source": [
    "#h = cptac.Hnscc()"
   ]
  },
  {
   "cell_type": "code",
   "execution_count": 25,
   "metadata": {},
   "outputs": [
    {
     "data": {
      "text/plain": [
       "'# Step 1 - Create dataframe in order to do comparisons with wrap_ttest\\nprot = h.get_proteomics()\\nh_prot_list = list(prot.columns)\\nprot_and_mutations = h.join_omics_to_mutations(\\n    mutations_genes = [gene], omics_df_name = \\'proteomics\\', omics_genes = h_prot_list) \\n#prot_and_mutations = r.reduce_multiindex(prot_and_mutations, levels_to_drop = 1)\\n\\n# Step 2 - Create binary column \\nprot_and_mutations[\\'binary_mutations\\'] = np.where(\\n            prot_and_mutations[gene+\\'_Mutation_Status\\'] == \\'Wildtype_Tumor\\', \\'Wildtype\\', \\'Mutated\\')\\n\\n# Step 3 - Format the dataframe correctly for the T-test(just omics and binary columns for tumors)\\ntumors = prot_and_mutations[prot_and_mutations.Sample_Status == \\'Tumor\\'] #drop Normal samples\\ncolumns_to_drop = [gene+\"_Mutation\", gene+\"_Location\", gene+\"_Mutation_Status\", \"Sample_Status\"]\\nmut_status = tumors.drop(columns_to_drop, axis = 1)\\nmut_status = mut_status.dropna(axis=1,how=\\'all\\')\\nh_prot = list(mut_status.columns[:-1])\\nprot'"
      ]
     },
     "execution_count": 25,
     "metadata": {},
     "output_type": "execute_result"
    }
   ],
   "source": [
    "'''# Step 1 - Create dataframe in order to do comparisons with wrap_ttest\n",
    "prot = h.get_proteomics()\n",
    "h_prot_list = list(prot.columns)\n",
    "prot_and_mutations = h.join_omics_to_mutations(\n",
    "    mutations_genes = [gene], omics_df_name = 'proteomics', omics_genes = h_prot_list) \n",
    "#prot_and_mutations = r.reduce_multiindex(prot_and_mutations, levels_to_drop = 1)\n",
    "\n",
    "# Step 2 - Create binary column \n",
    "prot_and_mutations['binary_mutations'] = np.where(\n",
    "            prot_and_mutations[gene+'_Mutation_Status'] == 'Wildtype_Tumor', 'Wildtype', 'Mutated')\n",
    "\n",
    "# Step 3 - Format the dataframe correctly for the T-test(just omics and binary columns for tumors)\n",
    "tumors = prot_and_mutations[prot_and_mutations.Sample_Status == 'Tumor'] #drop Normal samples\n",
    "columns_to_drop = [gene+\"_Mutation\", gene+\"_Location\", gene+\"_Mutation_Status\", \"Sample_Status\"]\n",
    "mut_status = tumors.drop(columns_to_drop, axis = 1)\n",
    "mut_status = mut_status.dropna(axis=1,how='all')\n",
    "h_prot = list(mut_status.columns[:-1])\n",
    "prot'''"
   ]
  },
  {
   "cell_type": "code",
   "execution_count": 26,
   "metadata": {},
   "outputs": [
    {
     "data": {
      "text/plain": [
       "\"mut_df = mut_status.loc[mut_status['binary_mutations'] == 'Mutated']\\nwt_df = mut_status.loc[mut_status['binary_mutations'] == 'Wildtype']\\n\\nmut_med = mut_df.median()\\nwt_med = wt_df.median()\\n\\nh_dict = {}\\n\\nfor prot in h_prot:\\n    dif_h = mut_med[prot] - wt_med[prot]\\n    h_dict[prot] = dif_h\\n\\nh_df = pd.DataFrame.from_dict(h_dict, orient='index', columns=['Hnscc'])\\nh_df\""
      ]
     },
     "execution_count": 26,
     "metadata": {},
     "output_type": "execute_result"
    }
   ],
   "source": [
    "'''mut_df = mut_status.loc[mut_status['binary_mutations'] == 'Mutated']\n",
    "wt_df = mut_status.loc[mut_status['binary_mutations'] == 'Wildtype']\n",
    "\n",
    "mut_med = mut_df.median()\n",
    "wt_med = wt_df.median()\n",
    "\n",
    "h_dict = {}\n",
    "\n",
    "for prot in h_prot:\n",
    "    dif_h = mut_med[prot] - wt_med[prot]\n",
    "    h_dict[prot] = dif_h\n",
    "\n",
    "h_df = pd.DataFrame.from_dict(h_dict, orient='index', columns=['Hnscc'])\n",
    "h_df'''"
   ]
  },
  {
   "cell_type": "markdown",
   "metadata": {},
   "source": [
    "Combine"
   ]
  },
  {
   "cell_type": "code",
   "execution_count": 27,
   "metadata": {},
   "outputs": [
    {
     "data": {
      "text/html": [
       "<div>\n",
       "<style scoped>\n",
       "    .dataframe tbody tr th:only-of-type {\n",
       "        vertical-align: middle;\n",
       "    }\n",
       "\n",
       "    .dataframe tbody tr th {\n",
       "        vertical-align: top;\n",
       "    }\n",
       "\n",
       "    .dataframe thead th {\n",
       "        text-align: right;\n",
       "    }\n",
       "</style>\n",
       "<table border=\"1\" class=\"dataframe\">\n",
       "  <thead>\n",
       "    <tr style=\"text-align: right;\">\n",
       "      <th></th>\n",
       "      <th>A1BG_proteomics</th>\n",
       "      <th>A2M_proteomics</th>\n",
       "      <th>AAAS_proteomics</th>\n",
       "      <th>AACS_proteomics</th>\n",
       "      <th>AADAT_proteomics</th>\n",
       "      <th>AAED1_proteomics</th>\n",
       "      <th>AAGAB_proteomics</th>\n",
       "      <th>AAK1_proteomics</th>\n",
       "      <th>AAMDC_proteomics</th>\n",
       "      <th>AAMP_proteomics</th>\n",
       "      <th>...</th>\n",
       "      <th>ZSCAN31_proteomics</th>\n",
       "      <th>ZSWIM8_proteomics</th>\n",
       "      <th>ZW10_proteomics</th>\n",
       "      <th>ZWILCH_proteomics</th>\n",
       "      <th>ZWINT_proteomics</th>\n",
       "      <th>ZXDC_proteomics</th>\n",
       "      <th>ZYG11B_proteomics</th>\n",
       "      <th>ZYX_proteomics</th>\n",
       "      <th>ZZEF1_proteomics</th>\n",
       "      <th>ZZZ3_proteomics</th>\n",
       "    </tr>\n",
       "    <tr>\n",
       "      <th>Cancer</th>\n",
       "      <th></th>\n",
       "      <th></th>\n",
       "      <th></th>\n",
       "      <th></th>\n",
       "      <th></th>\n",
       "      <th></th>\n",
       "      <th></th>\n",
       "      <th></th>\n",
       "      <th></th>\n",
       "      <th></th>\n",
       "      <th></th>\n",
       "      <th></th>\n",
       "      <th></th>\n",
       "      <th></th>\n",
       "      <th></th>\n",
       "      <th></th>\n",
       "      <th></th>\n",
       "      <th></th>\n",
       "      <th></th>\n",
       "      <th></th>\n",
       "      <th></th>\n",
       "    </tr>\n",
       "  </thead>\n",
       "  <tbody>\n",
       "    <tr>\n",
       "      <td>Gbm</td>\n",
       "      <td>0.0401876</td>\n",
       "      <td>0.108524</td>\n",
       "      <td>0.0585452</td>\n",
       "      <td>-0.0579414</td>\n",
       "      <td>0.175684</td>\n",
       "      <td>0.0637853</td>\n",
       "      <td>-0.0369724</td>\n",
       "      <td>-0.0694868</td>\n",
       "      <td>-0.144826</td>\n",
       "      <td>-0.0714202</td>\n",
       "      <td>...</td>\n",
       "      <td>-0.096138</td>\n",
       "      <td>-0.0494993</td>\n",
       "      <td>0.102503</td>\n",
       "      <td>0.158887</td>\n",
       "      <td>-0.246501</td>\n",
       "      <td>0.0610355</td>\n",
       "      <td>0.0645135</td>\n",
       "      <td>0.116899</td>\n",
       "      <td>0.0317602</td>\n",
       "      <td>-0.00421517</td>\n",
       "    </tr>\n",
       "    <tr>\n",
       "      <td>Endo</td>\n",
       "      <td>-0.0855</td>\n",
       "      <td>0.0115</td>\n",
       "      <td>-0.2441</td>\n",
       "      <td>0.3468</td>\n",
       "      <td>-0.029</td>\n",
       "      <td>0.0892</td>\n",
       "      <td>0.17835</td>\n",
       "      <td>-0.0739</td>\n",
       "      <td>0.186</td>\n",
       "      <td>-0.3525</td>\n",
       "      <td>...</td>\n",
       "      <td>0.21295</td>\n",
       "      <td>0.10555</td>\n",
       "      <td>0.05685</td>\n",
       "      <td>0.0135</td>\n",
       "      <td>-0.154</td>\n",
       "      <td>-0.4815</td>\n",
       "      <td>-0.2016</td>\n",
       "      <td>0.0875</td>\n",
       "      <td>0.09025</td>\n",
       "      <td>-0.064</td>\n",
       "    </tr>\n",
       "    <tr>\n",
       "      <td>Ovarian</td>\n",
       "      <td>0.253846</td>\n",
       "      <td>-0.316928</td>\n",
       "      <td>0.160948</td>\n",
       "      <td>0.384572</td>\n",
       "      <td>NaN</td>\n",
       "      <td>NaN</td>\n",
       "      <td>0.318356</td>\n",
       "      <td>-0.267502</td>\n",
       "      <td>0.0424007</td>\n",
       "      <td>-0.0189167</td>\n",
       "      <td>...</td>\n",
       "      <td>-0.272318</td>\n",
       "      <td>-0.186696</td>\n",
       "      <td>0.228391</td>\n",
       "      <td>0.0704372</td>\n",
       "      <td>0.468774</td>\n",
       "      <td>NaN</td>\n",
       "      <td>-0.191364</td>\n",
       "      <td>-0.183404</td>\n",
       "      <td>0.188278</td>\n",
       "      <td>-0.460994</td>\n",
       "    </tr>\n",
       "    <tr>\n",
       "      <td>Colon</td>\n",
       "      <td>-0.1065</td>\n",
       "      <td>-0.124</td>\n",
       "      <td>0.108</td>\n",
       "      <td>0.021</td>\n",
       "      <td>NaN</td>\n",
       "      <td>NaN</td>\n",
       "      <td>0.4505</td>\n",
       "      <td>0.1058</td>\n",
       "      <td>-0.101</td>\n",
       "      <td>0.01775</td>\n",
       "      <td>...</td>\n",
       "      <td>NaN</td>\n",
       "      <td>NaN</td>\n",
       "      <td>0.0604</td>\n",
       "      <td>0.34465</td>\n",
       "      <td>0.2848</td>\n",
       "      <td>NaN</td>\n",
       "      <td>NaN</td>\n",
       "      <td>-0.0865</td>\n",
       "      <td>-0.017</td>\n",
       "      <td>NaN</td>\n",
       "    </tr>\n",
       "    <tr>\n",
       "      <td>Kidney</td>\n",
       "      <td>-0.293776</td>\n",
       "      <td>-0.438024</td>\n",
       "      <td>0.0257413</td>\n",
       "      <td>0.211884</td>\n",
       "      <td>-0.0962619</td>\n",
       "      <td>-0.234982</td>\n",
       "      <td>0.233296</td>\n",
       "      <td>0.141014</td>\n",
       "      <td>NaN</td>\n",
       "      <td>-0.0769015</td>\n",
       "      <td>...</td>\n",
       "      <td>-0.196793</td>\n",
       "      <td>0.00901235</td>\n",
       "      <td>0.176969</td>\n",
       "      <td>0.0974577</td>\n",
       "      <td>-0.384036</td>\n",
       "      <td>-0.38038</td>\n",
       "      <td>0.0187209</td>\n",
       "      <td>0.325311</td>\n",
       "      <td>-0.0195168</td>\n",
       "      <td>-0.127422</td>\n",
       "    </tr>\n",
       "  </tbody>\n",
       "</table>\n",
       "<p>5 rows × 11141 columns</p>\n",
       "</div>"
      ],
      "text/plain": [
       "        A1BG_proteomics A2M_proteomics AAAS_proteomics AACS_proteomics  \\\n",
       "Cancer                                                                   \n",
       "Gbm           0.0401876       0.108524       0.0585452      -0.0579414   \n",
       "Endo            -0.0855         0.0115         -0.2441          0.3468   \n",
       "Ovarian        0.253846      -0.316928        0.160948        0.384572   \n",
       "Colon           -0.1065         -0.124           0.108           0.021   \n",
       "Kidney        -0.293776      -0.438024       0.0257413        0.211884   \n",
       "\n",
       "        AADAT_proteomics AAED1_proteomics AAGAB_proteomics AAK1_proteomics  \\\n",
       "Cancer                                                                       \n",
       "Gbm             0.175684        0.0637853       -0.0369724      -0.0694868   \n",
       "Endo              -0.029           0.0892          0.17835         -0.0739   \n",
       "Ovarian              NaN              NaN         0.318356       -0.267502   \n",
       "Colon                NaN              NaN           0.4505          0.1058   \n",
       "Kidney        -0.0962619        -0.234982         0.233296        0.141014   \n",
       "\n",
       "        AAMDC_proteomics AAMP_proteomics  ... ZSCAN31_proteomics  \\\n",
       "Cancer                                    ...                      \n",
       "Gbm            -0.144826      -0.0714202  ...          -0.096138   \n",
       "Endo               0.186         -0.3525  ...            0.21295   \n",
       "Ovarian        0.0424007      -0.0189167  ...          -0.272318   \n",
       "Colon             -0.101         0.01775  ...                NaN   \n",
       "Kidney               NaN      -0.0769015  ...          -0.196793   \n",
       "\n",
       "        ZSWIM8_proteomics ZW10_proteomics ZWILCH_proteomics ZWINT_proteomics  \\\n",
       "Cancer                                                                         \n",
       "Gbm            -0.0494993        0.102503          0.158887        -0.246501   \n",
       "Endo              0.10555         0.05685            0.0135           -0.154   \n",
       "Ovarian         -0.186696        0.228391         0.0704372         0.468774   \n",
       "Colon                 NaN          0.0604           0.34465           0.2848   \n",
       "Kidney         0.00901235        0.176969         0.0974577        -0.384036   \n",
       "\n",
       "        ZXDC_proteomics ZYG11B_proteomics ZYX_proteomics ZZEF1_proteomics  \\\n",
       "Cancer                                                                      \n",
       "Gbm           0.0610355         0.0645135       0.116899        0.0317602   \n",
       "Endo            -0.4815           -0.2016         0.0875          0.09025   \n",
       "Ovarian             NaN         -0.191364      -0.183404         0.188278   \n",
       "Colon               NaN               NaN        -0.0865           -0.017   \n",
       "Kidney         -0.38038         0.0187209       0.325311       -0.0195168   \n",
       "\n",
       "        ZZZ3_proteomics  \n",
       "Cancer                   \n",
       "Gbm         -0.00421517  \n",
       "Endo             -0.064  \n",
       "Ovarian       -0.460994  \n",
       "Colon               NaN  \n",
       "Kidney        -0.127422  \n",
       "\n",
       "[5 rows x 11141 columns]"
      ]
     },
     "execution_count": 27,
     "metadata": {},
     "output_type": "execute_result"
    }
   ],
   "source": [
    "# Kidney 'A2M not found in mutations'\n",
    "# Breast and Lung no mutations dataframe\n",
    "\n",
    "l = gbm_df.join(en_df)\n",
    "m = l.join(ov_df)\n",
    "n = m.join(col_df)\n",
    "o = n.join(k_df)\n",
    "\n",
    "p = o.transpose()\n",
    "p.index.name = 'Cancer'\n",
    "p"
   ]
  },
  {
   "cell_type": "code",
   "execution_count": 28,
   "metadata": {},
   "outputs": [],
   "source": [
    "p.to_csv('all_proteins_directionality.csv')"
   ]
  },
  {
   "cell_type": "code",
   "execution_count": 39,
   "metadata": {},
   "outputs": [],
   "source": [
    "t = p.dropna(axis=1, thresh=4) # drop all na in above df \n",
    "s = t.std()"
   ]
  },
  {
   "cell_type": "code",
   "execution_count": 40,
   "metadata": {},
   "outputs": [],
   "source": [
    "s = s.to_frame()\n"
   ]
  },
  {
   "cell_type": "code",
   "execution_count": 41,
   "metadata": {},
   "outputs": [
    {
     "data": {
      "text/html": [
       "<div>\n",
       "<style scoped>\n",
       "    .dataframe tbody tr th:only-of-type {\n",
       "        vertical-align: middle;\n",
       "    }\n",
       "\n",
       "    .dataframe tbody tr th {\n",
       "        vertical-align: top;\n",
       "    }\n",
       "\n",
       "    .dataframe thead th {\n",
       "        text-align: right;\n",
       "    }\n",
       "</style>\n",
       "<table border=\"1\" class=\"dataframe\">\n",
       "  <thead>\n",
       "    <tr style=\"text-align: right;\">\n",
       "      <th></th>\n",
       "      <th>0</th>\n",
       "    </tr>\n",
       "  </thead>\n",
       "  <tbody>\n",
       "    <tr>\n",
       "      <td>A1BG_proteomics</td>\n",
       "      <td>0.202273</td>\n",
       "    </tr>\n",
       "    <tr>\n",
       "      <td>A2M_proteomics</td>\n",
       "      <td>0.226053</td>\n",
       "    </tr>\n",
       "    <tr>\n",
       "      <td>AAAS_proteomics</td>\n",
       "      <td>0.157211</td>\n",
       "    </tr>\n",
       "    <tr>\n",
       "      <td>AACS_proteomics</td>\n",
       "      <td>0.195306</td>\n",
       "    </tr>\n",
       "    <tr>\n",
       "      <td>AAGAB_proteomics</td>\n",
       "      <td>0.180535</td>\n",
       "    </tr>\n",
       "    <tr>\n",
       "      <td>...</td>\n",
       "      <td>...</td>\n",
       "    </tr>\n",
       "    <tr>\n",
       "      <td>ZWINT_proteomics</td>\n",
       "      <td>0.364908</td>\n",
       "    </tr>\n",
       "    <tr>\n",
       "      <td>ZYG11B_proteomics</td>\n",
       "      <td>0.138795</td>\n",
       "    </tr>\n",
       "    <tr>\n",
       "      <td>ZYX_proteomics</td>\n",
       "      <td>0.196703</td>\n",
       "    </tr>\n",
       "    <tr>\n",
       "      <td>ZZEF1_proteomics</td>\n",
       "      <td>0.087009</td>\n",
       "    </tr>\n",
       "    <tr>\n",
       "      <td>ZZZ3_proteomics</td>\n",
       "      <td>0.204185</td>\n",
       "    </tr>\n",
       "  </tbody>\n",
       "</table>\n",
       "<p>7938 rows × 1 columns</p>\n",
       "</div>"
      ],
      "text/plain": [
       "                          0\n",
       "A1BG_proteomics    0.202273\n",
       "A2M_proteomics     0.226053\n",
       "AAAS_proteomics    0.157211\n",
       "AACS_proteomics    0.195306\n",
       "AAGAB_proteomics   0.180535\n",
       "...                     ...\n",
       "ZWINT_proteomics   0.364908\n",
       "ZYG11B_proteomics  0.138795\n",
       "ZYX_proteomics     0.196703\n",
       "ZZEF1_proteomics   0.087009\n",
       "ZZZ3_proteomics    0.204185\n",
       "\n",
       "[7938 rows x 1 columns]"
      ]
     },
     "execution_count": 41,
     "metadata": {},
     "output_type": "execute_result"
    }
   ],
   "source": [
    "s"
   ]
  },
  {
   "cell_type": "code",
   "execution_count": 42,
   "metadata": {},
   "outputs": [
    {
     "data": {
      "text/plain": [
       "0    0.142713\n",
       "dtype: float64"
      ]
     },
     "execution_count": 42,
     "metadata": {},
     "output_type": "execute_result"
    }
   ],
   "source": [
    "s.std()"
   ]
  },
  {
   "cell_type": "code",
   "execution_count": 43,
   "metadata": {},
   "outputs": [
    {
     "data": {
      "text/plain": [
       "Text(0, 0.5, 'Count')"
      ]
     },
     "execution_count": 43,
     "metadata": {},
     "output_type": "execute_result"
    },
    {
     "data": {
      "image/png": "[encoded data removed]",
      "text/plain": [
       "<Figure size 720x576 with 1 Axes>"
      ]
     },
     "metadata": {},
     "output_type": "display_data"
    }
   ],
   "source": [
    "a = s.hist(bins = 100)\n",
    "plt.title(\"Standard Deviation Distribution for Pancancer PTEN Mutation Effect on Proteomics\\n\\n (Median of proteomics with Wildtype PTEN - Median of proteomics with Mutated PTEN)\")\n",
    "plt.xlabel('StDeV')\n",
    "plt.ylabel('Count')"
   ]
  },
  {
   "cell_type": "code",
   "execution_count": 44,
   "metadata": {},
   "outputs": [
    {
     "data": {
      "text/plain": [
       "[Text(0, 0.5, 'Frequency'), Text(0.5, 0, 'StDeV')]"
      ]
     },
     "execution_count": 44,
     "metadata": {},
     "output_type": "execute_result"
    },
    {
     "data": {
      "image/png": "[encoded data removed]",
      "text/plain": [
       "<Figure size 720x576 with 1 Axes>"
      ]
     },
     "metadata": {},
     "output_type": "display_data"
    }
   ],
   "source": [
    "plt.rcParams['figure.figsize']=(10,8)\n",
    "sns.set(font_scale = 1.3)\n",
    "a = sns.distplot(s, bins = 100)\n",
    "\n",
    "a.set_title(\"Standard Deviation Distribution for Pancancer PTEN Mutation Effect on Proteomics\\n\\n (Median of proteomics with Wildtype PTEN - Median of proteomics with Mutated PTEN)\")\n",
    "a.set(xlabel = 'StDeV', ylabel = 'Frequency')"
   ]
  },
  {
   "cell_type": "markdown",
   "metadata": {},
   "source": [
    "Mean"
   ]
  },
  {
   "cell_type": "code",
   "execution_count": 45,
   "metadata": {},
   "outputs": [],
   "source": [
    "mean_df = t.mean()"
   ]
  },
  {
   "cell_type": "code",
   "execution_count": 46,
   "metadata": {},
   "outputs": [
    {
     "data": {
      "text/plain": [
       "Text(0, 0.5, 'Count')"
      ]
     },
     "execution_count": 46,
     "metadata": {},
     "output_type": "execute_result"
    },
    {
     "data": {
      "image/png": "[encoded data removed]",
      "text/plain": [
       "<Figure size 720x576 with 1 Axes>"
      ]
     },
     "metadata": {},
     "output_type": "display_data"
    }
   ],
   "source": [
    "a = mean_df.hist(bins = 100)\n",
    "plt.title(\"Distribution of the Mean between Cancers for PTEN Mutation Effect on all Proteins\\n\\n (Median of proteomics with Wildtype PTEN - Median of proteomics with Mutated PTEN)\")\n",
    "plt.xlabel('Mean')\n",
    "plt.ylabel('Count')"
   ]
  },
  {
   "cell_type": "code",
   "execution_count": 47,
   "metadata": {},
   "outputs": [],
   "source": [
    "m_df = t.median()"
   ]
  },
  {
   "cell_type": "code",
   "execution_count": 48,
   "metadata": {},
   "outputs": [
    {
     "data": {
      "text/plain": [
       "Text(0, 0.5, 'Count')"
      ]
     },
     "execution_count": 48,
     "metadata": {},
     "output_type": "execute_result"
    },
    {
     "data": {
      "image/png": "[encoded data removed]",
      "text/plain": [
       "<Figure size 720x576 with 1 Axes>"
      ]
     },
     "metadata": {},
     "output_type": "display_data"
    }
   ],
   "source": [
    "a = m_df.hist(bins = 100)\n",
    "plt.title(\"Distribution of the Medians between Cancers for PTEN Mutation Effect on all Proteins\\n\\n (Median of proteomics with Wildtype PTEN - Median of proteomics with Mutated PTEN)\")\n",
    "plt.xlabel('Median')\n",
    "plt.ylabel('Count')"
   ]
  },
  {
   "cell_type": "code",
   "execution_count": null,
   "metadata": {},
   "outputs": [],
   "source": []
  }
 ],
 "metadata": {
  "kernelspec": {
   "display_name": "Python 3",
   "language": "python",
   "name": "python3"
  },
  "language_info": {
   "codemirror_mode": {
    "name": "ipython",
    "version": 3
   },
   "file_extension": ".py",
   "mimetype": "text/x-python",
   "name": "python",
   "nbconvert_exporter": "python",
   "pygments_lexer": "ipython3",
   "version": "3.7.3"
  }
 },
 "nbformat": 4,
 "nbformat_minor": 2
}
