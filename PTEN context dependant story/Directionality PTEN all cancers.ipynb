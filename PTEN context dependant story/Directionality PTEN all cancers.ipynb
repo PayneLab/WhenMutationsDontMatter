{
 "cells": [
  {
   "cell_type": "markdown",
   "metadata": {},
   "source": [
    "Pten wt - mutated "
   ]
  },
  {
   "cell_type": "code",
   "execution_count": 1,
   "metadata": {},
   "outputs": [],
   "source": [
    "import pandas as pd\n",
    "import numpy as np\n",
    "import seaborn as sns\n",
    "import matplotlib.pyplot as plt\n",
    "import scipy.stats\n",
    "import gseapy as gp\n",
    "import re\n",
    "import sys \n",
    "\n",
    "import cptac\n",
    "import cptac.utils as u\n",
    "\n",
    "import sys\n",
    "sys.path.append('C:\\\\Users\\\\brittany henderson\\\\GitHub\\\\WhenMutationsDontMatter\\\\')\n",
    "import plot_utils as p"
   ]
  },
  {
   "cell_type": "code",
   "execution_count": 2,
   "metadata": {},
   "outputs": [
    {
     "name": "stdout",
     "output_type": "stream",
     "text": [
      "                                    \r"
     ]
    }
   ],
   "source": [
    "gbm = cptac.Gbm()\n",
    "endo = cptac.Endometrial()"
   ]
  },
  {
   "cell_type": "code",
   "execution_count": 4,
   "metadata": {},
   "outputs": [],
   "source": [
    "cancer1 = \"GBM\"\n",
    "cancer2 = \"Endometrial\"\n",
    "gene = 'PTEN'"
   ]
  },
  {
   "cell_type": "code",
   "execution_count": 9,
   "metadata": {},
   "outputs": [
    {
     "name": "stderr",
     "output_type": "stream",
     "text": [
      "cptac warning: In joining the somatic_mutation table, no mutations were found for the following samples, so they were filled with Wildtype_Tumor or Wildtype_Normal: 82 samples for the PTEN gene (C:\\Users\\brittany henderson\\Anaconda3\\envs\\Research\\lib\\site-packages\\ipykernel_launcher.py, line 6)\n"
     ]
    },
    {
     "data": {
      "text/html": [
       "<div>\n",
       "<style scoped>\n",
       "    .dataframe tbody tr th:only-of-type {\n",
       "        vertical-align: middle;\n",
       "    }\n",
       "\n",
       "    .dataframe tbody tr th {\n",
       "        vertical-align: top;\n",
       "    }\n",
       "\n",
       "    .dataframe thead th {\n",
       "        text-align: right;\n",
       "    }\n",
       "</style>\n",
       "<table border=\"1\" class=\"dataframe\">\n",
       "  <thead>\n",
       "    <tr style=\"text-align: right;\">\n",
       "      <th>Name</th>\n",
       "      <th>PTEN_proteomics</th>\n",
       "      <th>binary_mutations</th>\n",
       "    </tr>\n",
       "    <tr>\n",
       "      <th>Sample_ID</th>\n",
       "      <th></th>\n",
       "      <th></th>\n",
       "    </tr>\n",
       "  </thead>\n",
       "  <tbody>\n",
       "    <tr>\n",
       "      <td>S001</td>\n",
       "      <td>-0.431991</td>\n",
       "      <td>Mutated</td>\n",
       "    </tr>\n",
       "    <tr>\n",
       "      <td>S002</td>\n",
       "      <td>-0.265044</td>\n",
       "      <td>Wildtype</td>\n",
       "    </tr>\n",
       "    <tr>\n",
       "      <td>S003</td>\n",
       "      <td>0.390190</td>\n",
       "      <td>Mutated</td>\n",
       "    </tr>\n",
       "    <tr>\n",
       "      <td>S004</td>\n",
       "      <td>-0.915526</td>\n",
       "      <td>Mutated</td>\n",
       "    </tr>\n",
       "    <tr>\n",
       "      <td>S005</td>\n",
       "      <td>0.680291</td>\n",
       "      <td>Wildtype</td>\n",
       "    </tr>\n",
       "    <tr>\n",
       "      <td>...</td>\n",
       "      <td>...</td>\n",
       "      <td>...</td>\n",
       "    </tr>\n",
       "    <tr>\n",
       "      <td>S100</td>\n",
       "      <td>-0.725120</td>\n",
       "      <td>Mutated</td>\n",
       "    </tr>\n",
       "    <tr>\n",
       "      <td>S101</td>\n",
       "      <td>-0.242603</td>\n",
       "      <td>Wildtype</td>\n",
       "    </tr>\n",
       "    <tr>\n",
       "      <td>S102</td>\n",
       "      <td>0.428594</td>\n",
       "      <td>Wildtype</td>\n",
       "    </tr>\n",
       "    <tr>\n",
       "      <td>S104</td>\n",
       "      <td>0.928991</td>\n",
       "      <td>Wildtype</td>\n",
       "    </tr>\n",
       "    <tr>\n",
       "      <td>S105</td>\n",
       "      <td>0.396673</td>\n",
       "      <td>Wildtype</td>\n",
       "    </tr>\n",
       "  </tbody>\n",
       "</table>\n",
       "<p>99 rows × 2 columns</p>\n",
       "</div>"
      ],
      "text/plain": [
       "Name       PTEN_proteomics binary_mutations\n",
       "Sample_ID                                  \n",
       "S001             -0.431991          Mutated\n",
       "S002             -0.265044         Wildtype\n",
       "S003              0.390190          Mutated\n",
       "S004             -0.915526          Mutated\n",
       "S005              0.680291         Wildtype\n",
       "...                    ...              ...\n",
       "S100             -0.725120          Mutated\n",
       "S101             -0.242603         Wildtype\n",
       "S102              0.428594         Wildtype\n",
       "S104              0.928991         Wildtype\n",
       "S105              0.396673         Wildtype\n",
       "\n",
       "[99 rows x 2 columns]"
      ]
     },
     "execution_count": 9,
     "metadata": {},
     "output_type": "execute_result"
    }
   ],
   "source": [
    "#GBM ttest\n",
    "# Step 1 - Create dataframe in order to do comparisons with wrap_ttest\n",
    "prot = gbm.get_proteomics()\n",
    "prot_list = list(prot.columns)\n",
    "prot_and_mutations = gbm.join_omics_to_mutations(\n",
    "    mutations_genes = [gene], omics_df_name = 'proteomics', omics_genes = 'PTEN')  \n",
    "\n",
    "# Step 2 - Create binary column \n",
    "prot_and_mutations['binary_mutations'] = np.where(\n",
    "            prot_and_mutations[gene+'_Mutation_Status'] == 'Wildtype_Tumor', 'Wildtype', 'Mutated')\n",
    "\n",
    "# Step 3 - Format the dataframe correctly for the T-test(just omics and binary columns for tumors)\n",
    "tumors = prot_and_mutations[prot_and_mutations.Sample_Status == 'Tumor'] #drop Normal samples\n",
    "columns_to_drop = [gene+\"_Mutation\", gene+\"_Location\", gene+\"_Mutation_Status\", \"Sample_Status\"]\n",
    "mut_status = tumors.drop(columns_to_drop, axis = 1)\n",
    "mut_status = mut_status.dropna(axis=1,how='all')\n",
    "mut_status"
   ]
  },
  {
   "cell_type": "code",
   "execution_count": 55,
   "metadata": {},
   "outputs": [
    {
     "name": "stdout",
     "output_type": "stream",
     "text": [
      "-0.589  - ( -0.043899999999999995 ) =  -0.5450999999999999\n"
     ]
    }
   ],
   "source": [
    "mut_df = mut_status.loc[mut_status['binary_mutations'] == 'Mutated']\n",
    "wt_df = mut_status.loc[mut_status['binary_mutations'] == 'Wildtype']\n",
    "\n",
    "mut_med = mut_df.median()\n",
    "wt_med = wt_df.median()\n",
    "\n",
    "dif_gbm = mut_med[gene+'_proteomics'] - wt_med[gene+'_proteomics']\n",
    "print(mut_med[gene+'_proteomics'],' - (',wt_med[gene+'_proteomics'], ') = ',dif_gbm)"
   ]
  },
  {
   "cell_type": "markdown",
   "metadata": {},
   "source": [
    "Endo"
   ]
  },
  {
   "cell_type": "code",
   "execution_count": 47,
   "metadata": {},
   "outputs": [
    {
     "name": "stderr",
     "output_type": "stream",
     "text": [
      "cptac warning: In joining the somatic_mutation table, no mutations were found for the following samples, so they were filled with Wildtype_Tumor or Wildtype_Normal: 69 samples for the PTEN gene (C:\\Users\\brittany henderson\\Anaconda3\\envs\\Research\\lib\\site-packages\\ipykernel_launcher.py, line 6)\n"
     ]
    },
    {
     "data": {
      "text/html": [
       "<div>\n",
       "<style scoped>\n",
       "    .dataframe tbody tr th:only-of-type {\n",
       "        vertical-align: middle;\n",
       "    }\n",
       "\n",
       "    .dataframe tbody tr th {\n",
       "        vertical-align: top;\n",
       "    }\n",
       "\n",
       "    .dataframe thead th {\n",
       "        text-align: right;\n",
       "    }\n",
       "</style>\n",
       "<table border=\"1\" class=\"dataframe\">\n",
       "  <thead>\n",
       "    <tr style=\"text-align: right;\">\n",
       "      <th>Name</th>\n",
       "      <th>PTEN_proteomics</th>\n",
       "      <th>binary_mutations</th>\n",
       "    </tr>\n",
       "    <tr>\n",
       "      <th>Sample_ID</th>\n",
       "      <th></th>\n",
       "      <th></th>\n",
       "    </tr>\n",
       "  </thead>\n",
       "  <tbody>\n",
       "    <tr>\n",
       "      <td>S001</td>\n",
       "      <td>-0.526</td>\n",
       "      <td>Mutated</td>\n",
       "    </tr>\n",
       "    <tr>\n",
       "      <td>S002</td>\n",
       "      <td>-0.830</td>\n",
       "      <td>Mutated</td>\n",
       "    </tr>\n",
       "    <tr>\n",
       "      <td>S003</td>\n",
       "      <td>-0.941</td>\n",
       "      <td>Mutated</td>\n",
       "    </tr>\n",
       "    <tr>\n",
       "      <td>S005</td>\n",
       "      <td>0.730</td>\n",
       "      <td>Mutated</td>\n",
       "    </tr>\n",
       "    <tr>\n",
       "      <td>S006</td>\n",
       "      <td>-0.379</td>\n",
       "      <td>Wildtype</td>\n",
       "    </tr>\n",
       "    <tr>\n",
       "      <td>...</td>\n",
       "      <td>...</td>\n",
       "      <td>...</td>\n",
       "    </tr>\n",
       "    <tr>\n",
       "      <td>S099</td>\n",
       "      <td>-1.910</td>\n",
       "      <td>Mutated</td>\n",
       "    </tr>\n",
       "    <tr>\n",
       "      <td>S100</td>\n",
       "      <td>-0.616</td>\n",
       "      <td>Wildtype</td>\n",
       "    </tr>\n",
       "    <tr>\n",
       "      <td>S101</td>\n",
       "      <td>-0.164</td>\n",
       "      <td>Wildtype</td>\n",
       "    </tr>\n",
       "    <tr>\n",
       "      <td>S102</td>\n",
       "      <td>-0.572</td>\n",
       "      <td>Wildtype</td>\n",
       "    </tr>\n",
       "    <tr>\n",
       "      <td>S103</td>\n",
       "      <td>0.234</td>\n",
       "      <td>Wildtype</td>\n",
       "    </tr>\n",
       "  </tbody>\n",
       "</table>\n",
       "<p>95 rows × 2 columns</p>\n",
       "</div>"
      ],
      "text/plain": [
       "Name       PTEN_proteomics binary_mutations\n",
       "Sample_ID                                  \n",
       "S001                -0.526          Mutated\n",
       "S002                -0.830          Mutated\n",
       "S003                -0.941          Mutated\n",
       "S005                 0.730          Mutated\n",
       "S006                -0.379         Wildtype\n",
       "...                    ...              ...\n",
       "S099                -1.910          Mutated\n",
       "S100                -0.616         Wildtype\n",
       "S101                -0.164         Wildtype\n",
       "S102                -0.572         Wildtype\n",
       "S103                 0.234         Wildtype\n",
       "\n",
       "[95 rows x 2 columns]"
      ]
     },
     "execution_count": 47,
     "metadata": {},
     "output_type": "execute_result"
    }
   ],
   "source": [
    "#Endo ttest\n",
    "# Step 1 - Create dataframe in order to do comparisons with wrap_ttest\n",
    "prot = endo.get_proteomics()\n",
    "prot_list = list(prot.columns)\n",
    "prot_and_mutations = endo.join_omics_to_mutations(\n",
    "    mutations_genes = [gene], omics_df_name = 'proteomics', omics_genes = 'PTEN')  \n",
    "\n",
    "# Step 2 - Create binary column \n",
    "prot_and_mutations['binary_mutations'] = np.where(\n",
    "            prot_and_mutations[gene+'_Mutation_Status'] == 'Wildtype_Tumor', 'Wildtype', 'Mutated')\n",
    "\n",
    "# Step 3 - Format the dataframe correctly for the T-test(just omics and binary columns for tumors)\n",
    "tumors = prot_and_mutations[prot_and_mutations.Sample_Status == 'Tumor'] #drop Normal samples\n",
    "columns_to_drop = [gene+\"_Mutation\", gene+\"_Location\", gene+\"_Mutation_Status\", \"Sample_Status\"]\n",
    "mut_status = tumors.drop(columns_to_drop, axis = 1)\n",
    "mut_status = mut_status.dropna(axis=1,how='all')\n",
    "mut_status"
   ]
  },
  {
   "cell_type": "code",
   "execution_count": 54,
   "metadata": {},
   "outputs": [
    {
     "name": "stdout",
     "output_type": "stream",
     "text": [
      "-0.589  - ( -0.043899999999999995 ) =  -0.5450999999999999\n"
     ]
    }
   ],
   "source": [
    "mut_df = mut_status.loc[mut_status['binary_mutations'] == 'Mutated']\n",
    "wt_df = mut_status.loc[mut_status['binary_mutations'] == 'Wildtype']\n",
    "\n",
    "mut_med = mut_df.median()\n",
    "wt_med = wt_df.median()\n",
    "\n",
    "dif_en = mut_med[gene+'_proteomics'] - wt_med[gene+'_proteomics']\n",
    "print(mut_med[gene+'_proteomics'],' - (',wt_med[gene+'_proteomics'], ') = ',dif_en)"
   ]
  },
  {
   "cell_type": "markdown",
   "metadata": {},
   "source": [
    "Ovarian"
   ]
  },
  {
   "cell_type": "code",
   "execution_count": 58,
   "metadata": {},
   "outputs": [
    {
     "name": "stdout",
     "output_type": "stream",
     "text": [
      "                                    \r"
     ]
    }
   ],
   "source": [
    "c = cptac.Ovarian()"
   ]
  },
  {
   "cell_type": "code",
   "execution_count": 70,
   "metadata": {},
   "outputs": [
    {
     "name": "stderr",
     "output_type": "stream",
     "text": [
      "cptac warning: In joining the somatic_mutation table, no mutations were found for the following samples, so they were filled with Wildtype_Tumor or Wildtype_Normal: 99 samples for the PTEN gene (C:\\Users\\brittany henderson\\Anaconda3\\envs\\Research\\lib\\site-packages\\ipykernel_launcher.py, line 5)\n"
     ]
    }
   ],
   "source": [
    "# Step 1 - Create dataframe in order to do comparisons with wrap_ttest\n",
    "prot = c.get_proteomics()\n",
    "prot_list = list(prot.columns)\n",
    "prot_and_mutations = c.join_omics_to_mutations(\n",
    "    mutations_genes = [gene], omics_df_name = 'proteomics', omics_genes = 'PTEN') \n",
    "prot_and_mutations = c.reduce_multiindex(prot_and_mutations, levels_to_drop = 1)\n",
    "\n",
    "# Step 2 - Create binary column \n",
    "prot_and_mutations['binary_mutations'] = np.where(\n",
    "            prot_and_mutations[gene+'_Mutation_Status'] == 'Wildtype_Tumor', 'Wildtype', 'Mutated')\n",
    "\n",
    "# Step 3 - Format the dataframe correctly for the T-test(just omics and binary columns for tumors)\n",
    "tumors = prot_and_mutations[prot_and_mutations.Sample_Status == 'Tumor'] #drop Normal samples\n",
    "columns_to_drop = [gene+\"_Mutation\", gene+\"_Location\", gene+\"_Mutation_Status\", \"Sample_Status\"]\n",
    "mut_status = tumors.drop(columns_to_drop, axis = 1)\n",
    "mut_status = mut_status.dropna(axis=1,how='all')"
   ]
  },
  {
   "cell_type": "code",
   "execution_count": 71,
   "metadata": {},
   "outputs": [
    {
     "name": "stdout",
     "output_type": "stream",
     "text": [
      "0.051417856  - ( 0.172419419 ) =  -0.12100156299999999\n"
     ]
    }
   ],
   "source": [
    "mut_df = mut_status.loc[mut_status['binary_mutations'] == 'Mutated']\n",
    "wt_df = mut_status.loc[mut_status['binary_mutations'] == 'Wildtype']\n",
    "\n",
    "mut_med = mut_df.median()\n",
    "wt_med = wt_df.median()\n",
    "\n",
    "dif_ov = mut_med[gene+'_proteomics'] - wt_med[gene+'_proteomics']\n",
    "print(mut_med[gene+'_proteomics'],' - (',wt_med[gene+'_proteomics'], ') = ',dif_ov)"
   ]
  },
  {
   "cell_type": "markdown",
   "metadata": {},
   "source": [
    "Breast"
   ]
  },
  {
   "cell_type": "code",
   "execution_count": null,
   "metadata": {},
   "outputs": [
    {
     "name": "stdout",
     "output_type": "stream",
     "text": [
      "                                    \r"
     ]
    }
   ],
   "source": [
    "cptac.download(dataset='brca', version='3.1')\n",
    "b = cptac.Brca()"
   ]
  },
  {
   "cell_type": "code",
   "execution_count": null,
   "metadata": {},
   "outputs": [],
   "source": [
    "# Step 1 - Create dataframe in order to do comparisons with wrap_ttest\n",
    "prot = b.get_proteomics()\n",
    "prot_list = list(prot.columns)\n",
    "prot_and_mutations = b.join_omics_to_mutations(\n",
    "    mutations_genes = [gene], omics_df_name = 'proteomics', omics_genes = 'PTEN') \n",
    "prot_and_mutations = b.reduce_multiindex(prot_and_mutations, levels_to_drop = 1)\n",
    "\n",
    "# Step 2 - Create binary column \n",
    "prot_and_mutations['binary_mutations'] = np.where(\n",
    "            prot_and_mutations[gene+'_Mutation_Status'] == 'Wildtype_Tumor', 'Wildtype', 'Mutated')\n",
    "\n",
    "# Step 3 - Format the dataframe correctly for the T-test(just omics and binary columns for tumors)\n",
    "tumors = prot_and_mutations[prot_and_mutations.Sample_Status == 'Tumor'] #drop Normal samples\n",
    "columns_to_drop = [gene+\"_Mutation\", gene+\"_Location\", gene+\"_Mutation_Status\", \"Sample_Status\"]\n",
    "mut_status = tumors.drop(columns_to_drop, axis = 1)\n",
    "mut_status = mut_status.dropna(axis=1,how='all')"
   ]
  },
  {
   "cell_type": "code",
   "execution_count": null,
   "metadata": {},
   "outputs": [],
   "source": [
    "mut_df = mut_status.loc[mut_status['binary_mutations'] == 'Mutated']\n",
    "wt_df = mut_status.loc[mut_status['binary_mutations'] == 'Wildtype']\n",
    "\n",
    "mut_med = mut_df.median()\n",
    "wt_med = wt_df.median()\n",
    "\n",
    "dif_b = mut_med[gene+'_proteomics'] - wt_med[gene+'_proteomics']\n",
    "print(mut_med[gene+'_proteomics'],' - (',wt_med[gene+'_proteomics'], ') = ',dif_b)"
   ]
  },
  {
   "cell_type": "markdown",
   "metadata": {},
   "source": [
    "Colon"
   ]
  },
  {
   "cell_type": "code",
   "execution_count": null,
   "metadata": {},
   "outputs": [],
   "source": [
    "col = cptac.colon()"
   ]
  },
  {
   "cell_type": "code",
   "execution_count": null,
   "metadata": {},
   "outputs": [],
   "source": [
    "# Step 1 - Create dataframe in order to do comparisons with wrap_ttest\n",
    "prot = col.get_proteomics()\n",
    "prot_list = list(prot.columns)\n",
    "prot_and_mutations = col.join_omics_to_mutations(\n",
    "    mutations_genes = [gene], omics_df_name = 'proteomics', omics_genes = 'PTEN') \n",
    "#prot_and_mutations = col.reduce_multiindex(prot_and_mutations, levels_to_drop = 1)\n",
    "\n",
    "# Step 2 - Create binary column \n",
    "prot_and_mutations['binary_mutations'] = np.where(\n",
    "            prot_and_mutations[gene+'_Mutation_Status'] == 'Wildtype_Tumor', 'Wildtype', 'Mutated')\n",
    "\n",
    "# Step 3 - Format the dataframe correctly for the T-test(just omics and binary columns for tumors)\n",
    "tumors = prot_and_mutations[prot_and_mutations.Sample_Status == 'Tumor'] #drop Normal samples\n",
    "columns_to_drop = [gene+\"_Mutation\", gene+\"_Location\", gene+\"_Mutation_Status\", \"Sample_Status\"]\n",
    "mut_status = tumors.drop(columns_to_drop, axis = 1)\n",
    "mut_status = mut_status.dropna(axis=1,how='all')"
   ]
  },
  {
   "cell_type": "code",
   "execution_count": null,
   "metadata": {},
   "outputs": [],
   "source": [
    "mut_df = mut_status.loc[mut_status['binary_mutations'] == 'Mutated']\n",
    "wt_df = mut_status.loc[mut_status['binary_mutations'] == 'Wildtype']\n",
    "\n",
    "mut_med = mut_df.median()\n",
    "wt_med = wt_df.median()\n",
    "\n",
    "dif_colon = mut_med[gene+'_proteomics'] - wt_med[gene+'_proteomics']\n",
    "print(mut_med[gene+'_proteomics'],' - (',wt_med[gene+'_proteomics'], ') = ',dif_colon)"
   ]
  },
  {
   "cell_type": "markdown",
   "metadata": {},
   "source": [
    "Kidney"
   ]
  },
  {
   "cell_type": "code",
   "execution_count": null,
   "metadata": {},
   "outputs": [],
   "source": [
    "r = cptac.ccrcc()"
   ]
  },
  {
   "cell_type": "code",
   "execution_count": null,
   "metadata": {},
   "outputs": [],
   "source": [
    "# Step 1 - Create dataframe in order to do comparisons with wrap_ttest\n",
    "prot = r.get_proteomics()\n",
    "prot_list = list(prot.columns)\n",
    "prot_and_mutations = r.join_omics_to_mutations(\n",
    "    mutations_genes = [gene], omics_df_name = 'proteomics', omics_genes = 'PTEN') \n",
    "#prot_and_mutations = r.reduce_multiindex(prot_and_mutations, levels_to_drop = 1)\n",
    "\n",
    "# Step 2 - Create binary column \n",
    "prot_and_mutations['binary_mutations'] = np.where(\n",
    "            prot_and_mutations[gene+'_Mutation_Status'] == 'Wildtype_Tumor', 'Wildtype', 'Mutated')\n",
    "\n",
    "# Step 3 - Format the dataframe correctly for the T-test(just omics and binary columns for tumors)\n",
    "tumors = prot_and_mutations[prot_and_mutations.Sample_Status == 'Tumor'] #drop Normal samples\n",
    "columns_to_drop = [gene+\"_Mutation\", gene+\"_Location\", gene+\"_Mutation_Status\", \"Sample_Status\"]\n",
    "mut_status = tumors.drop(columns_to_drop, axis = 1)\n",
    "mut_status = mut_status.dropna(axis=1,how='all')"
   ]
  },
  {
   "cell_type": "code",
   "execution_count": null,
   "metadata": {},
   "outputs": [],
   "source": [
    "mut_df = mut_status.loc[mut_status['binary_mutations'] == 'Mutated']\n",
    "wt_df = mut_status.loc[mut_status['binary_mutations'] == 'Wildtype']\n",
    "\n",
    "mut_med = mut_df.median()\n",
    "wt_med = wt_df.median()\n",
    "\n",
    "dif_k = mut_med[gene+'_proteomics'] - wt_med[gene+'_proteomics']\n",
    "print(mut_med[gene+'_proteomics'],' - (',wt_med[gene+'_proteomics'], ') = ',dif_k)"
   ]
  },
  {
   "cell_type": "code",
   "execution_count": 89,
   "metadata": {},
   "outputs": [
    {
     "data": {
      "text/html": [
       "<div>\n",
       "<style scoped>\n",
       "    .dataframe tbody tr th:only-of-type {\n",
       "        vertical-align: middle;\n",
       "    }\n",
       "\n",
       "    .dataframe tbody tr th {\n",
       "        vertical-align: top;\n",
       "    }\n",
       "\n",
       "    .dataframe thead th {\n",
       "        text-align: right;\n",
       "    }\n",
       "</style>\n",
       "<table border=\"1\" class=\"dataframe\">\n",
       "  <thead>\n",
       "    <tr style=\"text-align: right;\">\n",
       "      <th></th>\n",
       "      <th>Directionality</th>\n",
       "    </tr>\n",
       "  </thead>\n",
       "  <tbody>\n",
       "    <tr>\n",
       "      <td>Gbm</td>\n",
       "      <td>-0.545100</td>\n",
       "    </tr>\n",
       "    <tr>\n",
       "      <td>Endo</td>\n",
       "      <td>-0.545100</td>\n",
       "    </tr>\n",
       "    <tr>\n",
       "      <td>Ovarian</td>\n",
       "      <td>-0.121002</td>\n",
       "    </tr>\n",
       "  </tbody>\n",
       "</table>\n",
       "</div>"
      ],
      "text/plain": [
       "         Directionality\n",
       "Gbm           -0.545100\n",
       "Endo          -0.545100\n",
       "Ovarian       -0.121002"
      ]
     },
     "execution_count": 89,
     "metadata": {},
     "output_type": "execute_result"
    }
   ],
   "source": [
    "dd = {'Gbm': [dif_gbm],'Endo': [dif_en],'Ovarian': [dif_ov]} #list, avoid from_dict error passing in scalars -index\n",
    "\n",
    "pan_cancer_df = pd.DataFrame.from_dict(dd, orient='index', columns=['Directionality']) #orient makes keys index\n",
    "pan_cancer_df"
   ]
  },
  {
   "cell_type": "code",
   "execution_count": null,
   "metadata": {},
   "outputs": [],
   "source": []
  }
 ],
 "metadata": {
  "kernelspec": {
   "display_name": "Python 3",
   "language": "python",
   "name": "python3"
  },
  "language_info": {
   "codemirror_mode": {
    "name": "ipython",
    "version": 3
   },
   "file_extension": ".py",
   "mimetype": "text/x-python",
   "name": "python",
   "nbconvert_exporter": "python",
   "pygments_lexer": "ipython3",
   "version": "3.7.3"
  }
 },
 "nbformat": 4,
 "nbformat_minor": 2
}
