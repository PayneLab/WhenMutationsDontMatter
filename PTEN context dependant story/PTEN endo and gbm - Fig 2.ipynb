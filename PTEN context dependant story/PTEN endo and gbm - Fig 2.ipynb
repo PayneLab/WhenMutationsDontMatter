{
 "cells": [
  {
   "cell_type": "markdown",
   "metadata": {},
   "source": [
    "# PTEN in Endo and GBM"
   ]
  },
  {
   "cell_type": "code",
   "execution_count": 1,
   "metadata": {},
   "outputs": [],
   "source": [
    "import pandas as pd\n",
    "import numpy as np\n",
    "import seaborn as sns\n",
    "import matplotlib.pyplot as plt\n",
    "import scipy.stats\n",
    "import gseapy as gp\n",
    "import re\n",
    "import sys \n",
    "\n",
    "import cptac\n",
    "import cptac.utils as u\n",
    "\n",
    "import sys\n",
    "sys.path.append('C:\\\\Users\\\\brittany henderson\\\\GitHub\\\\WhenMutationsDontMatter\\\\')\n",
    "#import cis_functions as f\n",
    "import plot_utils as p\n"
   ]
  },
  {
   "cell_type": "code",
   "execution_count": 2,
   "metadata": {},
   "outputs": [
    {
     "name": "stdout",
     "output_type": "stream",
     "text": [
      "                                    \r"
     ]
    }
   ],
   "source": [
    "gbm = cptac.Gbm()\n",
    "endo = cptac.Endometrial()"
   ]
  },
  {
   "cell_type": "code",
   "execution_count": 3,
   "metadata": {},
   "outputs": [],
   "source": [
    "cancer1 = \"GBM\"\n",
    "cancer2 = \"Endometrial\"\n",
    "gene = 'PTEN'"
   ]
  },
  {
   "cell_type": "code",
   "execution_count": 4,
   "metadata": {},
   "outputs": [
    {
     "name": "stderr",
     "output_type": "stream",
     "text": [
      "cptac warning: In joining the somatic_mutation table, no mutations were found for the following samples, so they were filled with Wildtype_Tumor or Wildtype_Normal: 82 samples for the PTEN gene (C:\\Users\\brittany henderson\\Anaconda3\\envs\\Research\\lib\\site-packages\\ipykernel_launcher.py, line 6)\n"
     ]
    }
   ],
   "source": [
    "#GBM ttest\n",
    "# Step 1 - Create dataframe in order to do comparisons with wrap_ttest\n",
    "prot = gbm.get_proteomics()\n",
    "prot_list = list(prot.columns)\n",
    "prot_and_mutations = gbm.join_omics_to_mutations(\n",
    "    mutations_genes = [gene], omics_df_name = 'proteomics', omics_genes = prot_list)  \n",
    "\n",
    "# Step 2 - Create binary column \n",
    "prot_and_mutations['binary_mutations'] = np.where(\n",
    "            prot_and_mutations[gene+'_Mutation_Status'] == 'Wildtype_Tumor', 'Wildtype', 'Mutated')\n",
    "\n",
    "# Step 3 - Format the dataframe correctly for the T-test(just omics and binary columns for tumors)\n",
    "tumors = prot_and_mutations[prot_and_mutations.Sample_Status == 'Tumor'] #drop Normal samples\n",
    "columns_to_drop = [gene+\"_Mutation\", gene+\"_Location\", gene+\"_Mutation_Status\", \"Sample_Status\"]\n",
    "mut_status = tumors.drop(columns_to_drop, axis = 1)\n",
    "mut_status = mut_status.dropna(axis=1,how='all')"
   ]
  },
  {
   "cell_type": "code",
   "execution_count": 5,
   "metadata": {},
   "outputs": [
    {
     "name": "stdout",
     "output_type": "stream",
     "text": [
      "Doing t-test comparisons for GBM\n",
      "\n"
     ]
    },
    {
     "name": "stderr",
     "output_type": "stream",
     "text": [
      "C:\\Users\\brittany henderson\\Anaconda3\\envs\\Research\\lib\\site-packages\\numpy\\core\\fromnumeric.py:3367: RuntimeWarning: Degrees of freedom <= 0 for slice\n",
      "  **kwargs)\n",
      "C:\\Users\\brittany henderson\\Anaconda3\\envs\\Research\\lib\\site-packages\\numpy\\core\\_methods.py:132: RuntimeWarning: invalid value encountered in double_scalars\n",
      "  ret = ret.dtype.type(ret / rcount)\n",
      "C:\\Users\\brittany henderson\\Anaconda3\\envs\\Research\\lib\\site-packages\\scipy\\stats\\_distn_infrastructure.py:877: RuntimeWarning: invalid value encountered in greater\n",
      "  return (self.a < x) & (x < self.b)\n",
      "C:\\Users\\brittany henderson\\Anaconda3\\envs\\Research\\lib\\site-packages\\scipy\\stats\\_distn_infrastructure.py:877: RuntimeWarning: invalid value encountered in less\n",
      "  return (self.a < x) & (x < self.b)\n",
      "C:\\Users\\brittany henderson\\Anaconda3\\envs\\Research\\lib\\site-packages\\scipy\\stats\\_distn_infrastructure.py:1831: RuntimeWarning: invalid value encountered in less_equal\n",
      "  cond2 = cond0 & (x <= self.a)\n"
     ]
    },
    {
     "name": "stdout",
     "output_type": "stream",
     "text": [
      "No significant comparisons.\n"
     ]
    }
   ],
   "source": [
    "col_list = list(mut_status.columns)\n",
    "col_list.remove('binary_mutations')\n",
    "\n",
    "print(\"Doing t-test comparisons for GBM\\n\")\n",
    "\n",
    "# Call wrap_ttest, pass in formatted dataframe\n",
    "wrap_results = u.wrap_ttest(mut_status, 'binary_mutations', col_list, return_all=True)"
   ]
  },
  {
   "cell_type": "code",
   "execution_count": 6,
   "metadata": {},
   "outputs": [
    {
     "data": {
      "text/html": [
       "<div>\n",
       "<style scoped>\n",
       "    .dataframe tbody tr th:only-of-type {\n",
       "        vertical-align: middle;\n",
       "    }\n",
       "\n",
       "    .dataframe tbody tr th {\n",
       "        vertical-align: top;\n",
       "    }\n",
       "\n",
       "    .dataframe thead th {\n",
       "        text-align: right;\n",
       "    }\n",
       "</style>\n",
       "<table border=\"1\" class=\"dataframe\">\n",
       "  <thead>\n",
       "    <tr style=\"text-align: right;\">\n",
       "      <th></th>\n",
       "      <th>Comparison</th>\n",
       "      <th>P_Value</th>\n",
       "    </tr>\n",
       "  </thead>\n",
       "  <tbody>\n",
       "    <tr>\n",
       "      <td>0</td>\n",
       "      <td>PTEN_proteomics</td>\n",
       "      <td>0.000032</td>\n",
       "    </tr>\n",
       "  </tbody>\n",
       "</table>\n",
       "</div>"
      ],
      "text/plain": [
       "        Comparison   P_Value\n",
       "0  PTEN_proteomics  0.000032"
      ]
     },
     "execution_count": 6,
     "metadata": {},
     "output_type": "execute_result"
    }
   ],
   "source": [
    "wrap_results.loc[wrap_results['Comparison'] == gene+\"_proteomics\"]"
   ]
  },
  {
   "cell_type": "code",
   "execution_count": 7,
   "metadata": {},
   "outputs": [
    {
     "name": "stderr",
     "output_type": "stream",
     "text": [
      "cptac warning: In joining the somatic_mutation table, no mutations were found for the following samples, so they were filled with Wildtype_Tumor or Wildtype_Normal: 69 samples for the PTEN gene (C:\\Users\\brittany henderson\\Anaconda3\\envs\\Research\\lib\\site-packages\\ipykernel_launcher.py, line 6)\n"
     ]
    }
   ],
   "source": [
    "# endo ttest\n",
    "# Step 1 - Create dataframe in order to do comparisons with wrap_ttest\n",
    "prot2 = endo.get_proteomics()\n",
    "prot_list2 = list(prot2.columns)\n",
    "prot_and_mutations = endo.join_omics_to_mutations(\n",
    "    mutations_genes = [gene], omics_df_name = 'proteomics', omics_genes = prot_list2)  \n",
    "\n",
    "# Step 2 - Create binary column \n",
    "prot_and_mutations['binary_mutations'] = np.where(\n",
    "            prot_and_mutations[gene+'_Mutation_Status'] == 'Wildtype_Tumor', 'Wildtype', 'Mutated')\n",
    "\n",
    "# Step 3 - Format the dataframe correctly for the T-test(just omics and binary columns for tumors)\n",
    "tumors = prot_and_mutations[prot_and_mutations.Sample_Status == 'Tumor'] #drop Normal samples\n",
    "columns_to_drop = [gene+\"_Mutation\", gene+\"_Location\", gene+\"_Mutation_Status\", \"Sample_Status\"]\n",
    "mut_status = tumors.drop(columns_to_drop, axis = 1)\n",
    "mut_status2 = mut_status.dropna(axis=1,how='all')"
   ]
  },
  {
   "cell_type": "code",
   "execution_count": 8,
   "metadata": {},
   "outputs": [
    {
     "name": "stdout",
     "output_type": "stream",
     "text": [
      "Doing t-test comparisons for Endometrial\n",
      "78 significant comparisons!\n"
     ]
    }
   ],
   "source": [
    "col_list2 = list(mut_status2.columns)\n",
    "col_list2.remove('binary_mutations')\n",
    "\n",
    "print(\"Doing t-test comparisons for Endometrial\")\n",
    "\n",
    "# Call wrap_ttest, pass in formatted dataframe\n",
    "wrap_results2 = u.wrap_ttest(mut_status2, 'binary_mutations', col_list2, return_all=True)"
   ]
  },
  {
   "cell_type": "code",
   "execution_count": 9,
   "metadata": {},
   "outputs": [
    {
     "data": {
      "text/html": [
       "<div>\n",
       "<style scoped>\n",
       "    .dataframe tbody tr th:only-of-type {\n",
       "        vertical-align: middle;\n",
       "    }\n",
       "\n",
       "    .dataframe tbody tr th {\n",
       "        vertical-align: top;\n",
       "    }\n",
       "\n",
       "    .dataframe thead th {\n",
       "        text-align: right;\n",
       "    }\n",
       "</style>\n",
       "<table border=\"1\" class=\"dataframe\">\n",
       "  <thead>\n",
       "    <tr style=\"text-align: right;\">\n",
       "      <th></th>\n",
       "      <th>Comparison</th>\n",
       "      <th>P_Value</th>\n",
       "    </tr>\n",
       "  </thead>\n",
       "  <tbody>\n",
       "    <tr>\n",
       "      <td>7303</td>\n",
       "      <td>PTEN_proteomics</td>\n",
       "      <td>0.018255</td>\n",
       "    </tr>\n",
       "  </tbody>\n",
       "</table>\n",
       "</div>"
      ],
      "text/plain": [
       "           Comparison   P_Value\n",
       "7303  PTEN_proteomics  0.018255"
      ]
     },
     "execution_count": 9,
     "metadata": {},
     "output_type": "execute_result"
    }
   ],
   "source": [
    "wrap_results2.loc[wrap_results2['Comparison'] == gene+\"_proteomics\"]"
   ]
  },
  {
   "cell_type": "code",
   "execution_count": 10,
   "metadata": {},
   "outputs": [],
   "source": [
    "#combine pval results\n",
    "combined = wrap_results.merge(wrap_results2, on='Comparison')\n",
    "combined = combined.replace(regex=True,to_replace='_proteomics', value='')"
   ]
  },
  {
   "cell_type": "code",
   "execution_count": 11,
   "metadata": {},
   "outputs": [
    {
     "name": "stdout",
     "output_type": "stream",
     "text": [
      "['MDM2', 'CSNK2A1', 'PDGFRB', 'PIK3R2', 'PIK3C3', 'CSNK2A2', 'SLC9A3R1', 'PIK3R3', 'USP13', 'PIK3CA', 'TP53', 'EGFR', 'PIK3CB', 'PTK2', 'USP7', 'XIAP', 'PTEN', 'PREX2', 'MAST2', 'PIK3CD', 'ROCK1', 'SHC1', 'NEDD4', 'INPP4B', 'PIK3R1', 'AKT1', 'MVP', 'MAGI3']\n"
     ]
    },
    {
     "data": {
      "text/html": [
       "<div>\n",
       "<style scoped>\n",
       "    .dataframe tbody tr th:only-of-type {\n",
       "        vertical-align: middle;\n",
       "    }\n",
       "\n",
       "    .dataframe tbody tr th {\n",
       "        vertical-align: top;\n",
       "    }\n",
       "\n",
       "    .dataframe thead th {\n",
       "        text-align: right;\n",
       "    }\n",
       "</style>\n",
       "<table border=\"1\" class=\"dataframe\">\n",
       "  <thead>\n",
       "    <tr style=\"text-align: right;\">\n",
       "      <th></th>\n",
       "      <th>Comparison</th>\n",
       "      <th>P_Value_x</th>\n",
       "      <th>P_Value_y</th>\n",
       "      <th>color</th>\n",
       "    </tr>\n",
       "  </thead>\n",
       "  <tbody>\n",
       "    <tr>\n",
       "      <td>0</td>\n",
       "      <td>PTEN</td>\n",
       "      <td>0.000032</td>\n",
       "      <td>0.018255</td>\n",
       "      <td>red</td>\n",
       "    </tr>\n",
       "    <tr>\n",
       "      <td>1</td>\n",
       "      <td>CALD1</td>\n",
       "      <td>0.000227</td>\n",
       "      <td>0.831139</td>\n",
       "      <td>lightblue</td>\n",
       "    </tr>\n",
       "    <tr>\n",
       "      <td>2</td>\n",
       "      <td>FLNC</td>\n",
       "      <td>0.000240</td>\n",
       "      <td>0.987449</td>\n",
       "      <td>lightblue</td>\n",
       "    </tr>\n",
       "    <tr>\n",
       "      <td>3</td>\n",
       "      <td>ERBB2</td>\n",
       "      <td>0.000491</td>\n",
       "      <td>0.000164</td>\n",
       "      <td>lightblue</td>\n",
       "    </tr>\n",
       "    <tr>\n",
       "      <td>4</td>\n",
       "      <td>MAPK8IP3</td>\n",
       "      <td>0.000499</td>\n",
       "      <td>0.000446</td>\n",
       "      <td>lightblue</td>\n",
       "    </tr>\n",
       "    <tr>\n",
       "      <td>...</td>\n",
       "      <td>...</td>\n",
       "      <td>...</td>\n",
       "      <td>...</td>\n",
       "      <td>...</td>\n",
       "    </tr>\n",
       "    <tr>\n",
       "      <td>9792</td>\n",
       "      <td>METTL26</td>\n",
       "      <td>0.997759</td>\n",
       "      <td>0.049312</td>\n",
       "      <td>lightblue</td>\n",
       "    </tr>\n",
       "    <tr>\n",
       "      <td>9793</td>\n",
       "      <td>ZNF207</td>\n",
       "      <td>0.998493</td>\n",
       "      <td>0.406304</td>\n",
       "      <td>lightblue</td>\n",
       "    </tr>\n",
       "    <tr>\n",
       "      <td>9794</td>\n",
       "      <td>POLB</td>\n",
       "      <td>0.999058</td>\n",
       "      <td>0.050598</td>\n",
       "      <td>lightblue</td>\n",
       "    </tr>\n",
       "    <tr>\n",
       "      <td>9795</td>\n",
       "      <td>TIMM21</td>\n",
       "      <td>0.999198</td>\n",
       "      <td>0.182861</td>\n",
       "      <td>lightblue</td>\n",
       "    </tr>\n",
       "    <tr>\n",
       "      <td>9796</td>\n",
       "      <td>WDR24</td>\n",
       "      <td>0.999279</td>\n",
       "      <td>0.004503</td>\n",
       "      <td>lightblue</td>\n",
       "    </tr>\n",
       "  </tbody>\n",
       "</table>\n",
       "<p>9728 rows × 4 columns</p>\n",
       "</div>"
      ],
      "text/plain": [
       "     Comparison  P_Value_x  P_Value_y      color\n",
       "0          PTEN   0.000032   0.018255        red\n",
       "1         CALD1   0.000227   0.831139  lightblue\n",
       "2          FLNC   0.000240   0.987449  lightblue\n",
       "3         ERBB2   0.000491   0.000164  lightblue\n",
       "4      MAPK8IP3   0.000499   0.000446  lightblue\n",
       "...         ...        ...        ...        ...\n",
       "9792    METTL26   0.997759   0.049312  lightblue\n",
       "9793     ZNF207   0.998493   0.406304  lightblue\n",
       "9794       POLB   0.999058   0.050598  lightblue\n",
       "9795     TIMM21   0.999198   0.182861  lightblue\n",
       "9796      WDR24   0.999279   0.004503  lightblue\n",
       "\n",
       "[9728 rows x 4 columns]"
      ]
     },
     "execution_count": 11,
     "metadata": {},
     "output_type": "execute_result"
    }
   ],
   "source": [
    "# Green = interacting protein\n",
    "interacting_list = u.get_interacting_proteins(gene)\n",
    "combined[\"color\"] = np.where(combined[\"Comparison\"].isin(interacting_list), \"red\", \"lightblue\")\n",
    "print(interacting_list)\n",
    "#combined.loc[combined['color'] == 'red']\n",
    "both_values_df = combined.dropna(axis=0, how='any') # only keep rows with both data points\n",
    "both_values_df"
   ]
  },
  {
   "cell_type": "markdown",
   "metadata": {},
   "source": [
    "Visualize all P-values"
   ]
  },
  {
   "cell_type": "code",
   "execution_count": 11,
   "metadata": {},
   "outputs": [],
   "source": [
    "pathways = pd.read_excel(R\"E:\\Users\\brittany henderson\\Documents\\Junior BYU\\WikiPathwaysData.xlsx\")\n"
   ]
  },
  {
   "cell_type": "code",
   "execution_count": null,
   "metadata": {},
   "outputs": [],
   "source": [
    "#combine pval results\n",
    "combined_2 = wrap_results.merge(wrap_results2, on='Comparison')\n",
    "combined_df = combined_2.replace(regex=True,to_replace='_proteomics', value='')\n",
    "combined_df"
   ]
  },
  {
   "cell_type": "code",
   "execution_count": null,
   "metadata": {},
   "outputs": [],
   "source": [
    "c_path = combined_df.merge(pathways, left_on='Comparison', right_on='Gene')\n",
    "#c_path = c_path.rename(columns={'P_Value_x':'Gbm P-Values', 'P_Value_y': 'En P-Values',\n",
    "#               'Focal Adhesion-PI3K-Akt-mTOR-signaling pathway' : 'Focal Adhesion'})\n",
    "c_path\n"
   ]
  },
  {
   "cell_type": "code",
   "execution_count": null,
   "metadata": {},
   "outputs": [],
   "source": [
    "g = sns.FacetGrid(c_path, hue='Focal Adhesion')# col and row of the multiple grids , hue = pathway\n",
    "g.map(sns.scatterplot, \"P_Value_x\", \"P_Value_y\").set(\n",
    "    xscale = 'log').set(yscale = 'log')\n",
    "g.map(sns.scatterplot, \"P_Value_x\", \"P_Value_y\").set(\n",
    "    xscale = 'log').set(yscale = 'log')\n",
    "plt.xlim(1e-5, 1e0) # 0.00005 to 1\n",
    "plt.ylim(1e-5, 1e0)\n",
    "g.add_legend()\n"
   ]
  },
  {
   "cell_type": "code",
   "execution_count": 26,
   "metadata": {},
   "outputs": [
    {
     "data": {
      "text/html": [
       "<div>\n",
       "<style scoped>\n",
       "    .dataframe tbody tr th:only-of-type {\n",
       "        vertical-align: middle;\n",
       "    }\n",
       "\n",
       "    .dataframe tbody tr th {\n",
       "        vertical-align: top;\n",
       "    }\n",
       "\n",
       "    .dataframe thead th {\n",
       "        text-align: right;\n",
       "    }\n",
       "</style>\n",
       "<table border=\"1\" class=\"dataframe\">\n",
       "  <thead>\n",
       "    <tr style=\"text-align: right;\">\n",
       "      <th></th>\n",
       "      <th>Gene</th>\n",
       "      <th>Focal Adhesion-PI3K-Akt-mTOR-signaling pathway</th>\n",
       "    </tr>\n",
       "  </thead>\n",
       "  <tbody>\n",
       "    <tr>\n",
       "      <td>0</td>\n",
       "      <td>BAIAP2</td>\n",
       "      <td>False</td>\n",
       "    </tr>\n",
       "    <tr>\n",
       "      <td>1</td>\n",
       "      <td>CD4</td>\n",
       "      <td>False</td>\n",
       "    </tr>\n",
       "    <tr>\n",
       "      <td>2</td>\n",
       "      <td>GADS</td>\n",
       "      <td>False</td>\n",
       "    </tr>\n",
       "    <tr>\n",
       "      <td>3</td>\n",
       "      <td>FMR1</td>\n",
       "      <td>False</td>\n",
       "    </tr>\n",
       "    <tr>\n",
       "      <td>4</td>\n",
       "      <td>CCDC36</td>\n",
       "      <td>False</td>\n",
       "    </tr>\n",
       "    <tr>\n",
       "      <td>...</td>\n",
       "      <td>...</td>\n",
       "      <td>...</td>\n",
       "    </tr>\n",
       "    <tr>\n",
       "      <td>6157</td>\n",
       "      <td>ARR3</td>\n",
       "      <td>False</td>\n",
       "    </tr>\n",
       "    <tr>\n",
       "      <td>6158</td>\n",
       "      <td>GUCY1B2</td>\n",
       "      <td>False</td>\n",
       "    </tr>\n",
       "    <tr>\n",
       "      <td>6159</td>\n",
       "      <td>MAPK6</td>\n",
       "      <td>False</td>\n",
       "    </tr>\n",
       "    <tr>\n",
       "      <td>6160</td>\n",
       "      <td>CHST5</td>\n",
       "      <td>False</td>\n",
       "    </tr>\n",
       "    <tr>\n",
       "      <td>6161</td>\n",
       "      <td>GPR133</td>\n",
       "      <td>False</td>\n",
       "    </tr>\n",
       "  </tbody>\n",
       "</table>\n",
       "<p>6162 rows × 2 columns</p>\n",
       "</div>"
      ],
      "text/plain": [
       "         Gene  Focal Adhesion-PI3K-Akt-mTOR-signaling pathway\n",
       "0      BAIAP2                                           False\n",
       "1         CD4                                           False\n",
       "2        GADS                                           False\n",
       "3        FMR1                                           False\n",
       "4      CCDC36                                           False\n",
       "...       ...                                             ...\n",
       "6157     ARR3                                           False\n",
       "6158  GUCY1B2                                           False\n",
       "6159    MAPK6                                           False\n",
       "6160    CHST5                                           False\n",
       "6161   GPR133                                           False\n",
       "\n",
       "[6162 rows x 2 columns]"
      ]
     },
     "execution_count": 26,
     "metadata": {},
     "output_type": "execute_result"
    }
   ],
   "source": [
    "f = pathways[['Gene','Focal Adhesion-PI3K-Akt-mTOR-signaling pathway']]#'PDGF Pathway','NRF2-ARE regulation','Vitamin D Receptor Pathway', 'Serotonin Transporter Activity']]\n",
    "f"
   ]
  },
  {
   "cell_type": "code",
   "execution_count": 86,
   "metadata": {},
   "outputs": [],
   "source": [
    "'''\n",
    "@Param df1:\n",
    "     Dataframe of p-values for the first cancer (x-axis). \n",
    "     The first column must include the trans gene name. \n",
    "@Param df1_name:\n",
    "    String. Name of the x-axis. Include the first cancer name. \n",
    "\n",
    "@Param df2:\n",
    "    Dataframe of p-values for the second cancer (y-axis).\n",
    "    The first column must include the trans gene name. \n",
    "    \n",
    "@Param df2_name:\n",
    "    String. Name of the y-axis. Include the second cancer name.\n",
    "\n",
    "@Param cat_df:\n",
    "    Dataframe of Booleans. First column must be gene names. \n",
    "    Can include up to 5 additional columns. Each column represents \n",
    "    a certain pathway or group of genes specified with boolean \n",
    "    variables (True is in the group). Each group will become another \n",
    "    plot graphing the p-values of the genes in that group.\n",
    "    \n",
    "@Param save_file_name:\n",
    "    String. Optional to save the figure. The name of the file to \n",
    "    save the figure to.\n",
    "\n",
    "This function plots the p-values for two cancers where \n",
    "x = cancer1_pvals and y = cancer2_pvals.  \n",
    "\n",
    "The wrap_ttest function will help with creating df1 and df2. \n",
    "Both dataframes must have the gene included in the first column \n",
    "(omics can be included) and the p-value. Wrap_ttest creates this \n",
    "needed dataframe when its parameter return_all = True. \n",
    "\n",
    "The cat_df dataframe alows for multiple plots of specific gene groups\n",
    "to be included. The first plot will always be all genes followed by one \n",
    "plot for each column included in cat_df. It is optional to include cat_df.\n",
    "The arrangement of the subplots follows in rows and columns: (1,2) for\n",
    "two plots, (2,2) for four plots(2,3) for six plots. The first plot will\n",
    "allways be the comprehensive p-values for all genes done in the t-test\n",
    "comparisons for the two cancers.\n",
    "'''\n",
    "\n",
    "def binary_pval_plot(df1, df1_name, df2, df2_name, cat_df=None, save_file_name=None):\n",
    "    # Step 1: Combine Dataframes\n",
    "    combined = df1.merge(df2, on=df1.columns[0]) # merge 2 pval df\n",
    "    combined = combined.replace(regex=True,to_replace='_proteomics', value='') # only gene names\n",
    "    combined_df = combined.rename(columns={combined.columns[1]: df1_name+\" p-values\", \n",
    "                                              combined.columns[2]: df2_name+\" p-values\"}) # Rename for use with x and y-axis\n",
    "    if cat_df is not None:\n",
    "        combined_df = combined_df.merge(cat_df, left_on= combined_df.columns[0], right_on= cat_df.columns[0]) # merge pathways\n",
    "    # Plots one plot if no cat_df provided\n",
    "    else:\n",
    "        plt.figure(figsize=(6, 6)) #size of plot\n",
    "        all_pvals = sns.scatterplot(x=combined_df.columns[1], y=combined_df.columns[2], data=combined_df)\n",
    "        all_pvals.set_title(\"Comprehensive \"+df1_name+\" and \"+df2_name+ \" P-Values\")\n",
    "        all_pvals.set_xscale('log')\n",
    "        all_pvals.set_yscale('log')\n",
    "        plt.xlim(1e-5, 1e0) # 0.00005 to 1\n",
    "        plt.ylim(1e-5, 1e0)\n",
    "        \n",
    "        if save_file_name is not None:\n",
    "            plt.savefig(save_file_name+'.png')\n",
    "        plt.show()\n",
    "        plt.clf()        \n",
    "        plt.close()\n",
    "        return 0\n",
    "\n",
    "    # Step 2: Find number of plots needed (dimensions of array for subplots)\n",
    "    paths = list(cat_df.columns[1:])\n",
    "    total = len(paths) + 1\n",
    "    two_plots = False\n",
    "    if total == 2:\n",
    "        m_row = 1\n",
    "        m_col = 2\n",
    "        two_plots = True\n",
    "    elif total <= 4:\n",
    "        m_row = 2\n",
    "        m_col = 2 \n",
    "    elif total <= 6:\n",
    "        m_row = 2\n",
    "        m_col = 3\n",
    "    else:\n",
    "        print(\"Two many columns in cat_df. Can only plot 5 pathways/groups. (6 total plots)\")\n",
    "        return 1\n",
    "        \n",
    "    \n",
    "    fig, axes = plt.subplots(m_row, m_col, sharex=True, sharey=True) # share x -axis title\n",
    "    plt.rcParams['figure.figsize']=(15, 10)\n",
    "    \n",
    "    #Step 3: Create Multiple Plots\n",
    "    if two_plots == True:  ### needed because subplots dimensions are a 1D array, not 2D\n",
    "        # First plot with all p-values\n",
    "        #plt.rcParams['figure.figsize']=(15, 8) #size of plot\n",
    "        ax = sns.scatterplot(x=combined_df.columns[1], y=combined_df.columns[2], data=combined_df,  \n",
    "            ax=axes[0])\n",
    "        ax.set_title(\"Comprehensive \"+df1_name+\" and \"+df2_name+ \" P-Values\")\n",
    "        ax.set_xscale('log')\n",
    "        ax.set_yscale('log')\n",
    "        plt.xlim(1e-5, 1e0) # 0.00005 to 1\n",
    "        plt.ylim(1e-5, 1e0)\n",
    "        # 1 Catagory plot\n",
    "        group_name = str(combined_df.columns[4])\n",
    "        only_p = combined_df.loc[combined_df[group_name] == True]\n",
    "        ax = sns.scatterplot(x=combined_df.columns[1], y=combined_df.columns[2], data=only_p, color='orange',\n",
    "            ax=axes[1]).set_title(group_name) #axes only has one number (1D array)\n",
    "\n",
    "    else:\n",
    "        # First plot with all p-values\n",
    "        ax = sns.scatterplot(x=combined_df.columns[1], y=combined_df.columns[2], data=combined_df,  \n",
    "            ax=axes[0,0])\n",
    "        ax.set_title(\"Comprehensive \"+df1_name+\" and \"+df2_name+ \" P-Values\")\n",
    "        ax.set_xscale('log')\n",
    "        ax.set_yscale('log')\n",
    "        plt.xlim(1e-5, 1e0) # 0.00005 to 1\n",
    "        plt.ylim(1e-5, 1e0)\n",
    "        \n",
    "        # Catagory plots\n",
    "        i = 0\n",
    "        j = 1\n",
    "        for e in paths:\n",
    "            only_p = combined_df.loc[combined_df[e] == True]\n",
    "            ax = sns.scatterplot(x=combined_df.columns[1], y=combined_df.columns[2], data=only_p, color='orange',\n",
    "                ax=axes[i, j]).set_title(e)\n",
    "            # i and j used to set next plot in axes\n",
    "            if i <= (m_row - 1) and j < (m_col - 1):\n",
    "                j += 1\n",
    "            elif j == (m_col - 1):\n",
    "                i+=1\n",
    "                j=0\n",
    "    \n",
    "    if save_file_name is not None:\n",
    "        fig.savefig(save_file_name+'.png')\n",
    "    plt.show()\n",
    "    plt.clf()        \n",
    "    plt.close()\n",
    "    return 0\n"
   ]
  },
  {
   "cell_type": "code",
   "execution_count": 89,
   "metadata": {},
   "outputs": [
    {
     "data": {
      "image/png": "[encoded data removed]",
      "text/plain": [
       "<Figure size 360x360 with 2 Axes>"
      ]
     },
     "metadata": {
      "needs_background": "light"
     },
     "output_type": "display_data"
    }
   ],
   "source": [
    "n = p.binary_pval_plot(wrap_results, \"Gbm\", wrap_results2, \"En\",f)\n",
    "                     #,save_file_name= 'new')\n"
   ]
  },
  {
   "cell_type": "code",
   "execution_count": 33,
   "metadata": {},
   "outputs": [
    {
     "ename": "NameError",
     "evalue": "name 'both_values_df' is not defined",
     "output_type": "error",
     "traceback": [
      "\u001b[1;31m---------------------------------------------------------------------------\u001b[0m",
      "\u001b[1;31mNameError\u001b[0m                                 Traceback (most recent call last)",
      "\u001b[1;32m<ipython-input-33-b50ff4948eb5>\u001b[0m in \u001b[0;36m<module>\u001b[1;34m\u001b[0m\n\u001b[0;32m      4\u001b[0m \u001b[1;33m\u001b[0m\u001b[0m\n\u001b[0;32m      5\u001b[0m \u001b[1;31m# Format title and axis\u001b[0m\u001b[1;33m\u001b[0m\u001b[1;33m\u001b[0m\u001b[1;33m\u001b[0m\u001b[0m\n\u001b[1;32m----> 6\u001b[1;33m plot = sns.regplot(x=\"P_Value_x\", y=\"P_Value_y\", data=both_values_df,\n\u001b[0m\u001b[0;32m      7\u001b[0m                    scatter_kws={'facecolors':both_values_df['color']})\n\u001b[0;32m      8\u001b[0m \u001b[0mplot\u001b[0m\u001b[1;33m.\u001b[0m\u001b[0mset_title\u001b[0m\u001b[1;33m(\u001b[0m\u001b[1;34m\"P_Value Distribution for \"\u001b[0m\u001b[1;33m+\u001b[0m\u001b[0mgene\u001b[0m\u001b[1;33m+\u001b[0m\u001b[1;34m\" trans Proteomics\"\u001b[0m\u001b[1;33m)\u001b[0m\u001b[1;33m\u001b[0m\u001b[1;33m\u001b[0m\u001b[0m\n",
      "\u001b[1;31mNameError\u001b[0m: name 'both_values_df' is not defined"
     ]
    }
   ],
   "source": [
    "# Format figure size and font\n",
    "plt.rcParams['figure.figsize']=(15,10)\n",
    "sns.set(font_scale = 1.3)\n",
    "\n",
    "# Format title and axis\n",
    "plot = sns.regplot(x=\"P_Value_x\", y=\"P_Value_y\", data=both_values_df,\n",
    "                   scatter_kws={'facecolors':both_values_df['color']})\n",
    "plot.set_title(\"P_Value Distribution for \"+gene+\" trans Proteomics\")\n",
    "plot.set(xlabel = 'P-Value for '+cancer1)\n",
    "plot.set(ylabel = 'P-Value for '+cancer2)\n",
    "\n",
    "plt.show()\n",
    "plt.clf()\n",
    "plt.close()"
   ]
  },
  {
   "cell_type": "markdown",
   "metadata": {},
   "source": [
    "Zoom x-axis (low endometrial p-values)"
   ]
  },
  {
   "cell_type": "code",
   "execution_count": null,
   "metadata": {},
   "outputs": [],
   "source": [
    "low_endo_pvals = both_values_df.loc[both_values_df['P_Value_y'] <= 0.05] #graph\n",
    "low_endo_pvals = low_endo_pvals.loc[low_endo_pvals['P_Value_x'] >= 0.5]\n",
    "\n",
    "# Format figure size and font\n",
    "plt.rcParams['figure.figsize']=(15,10)\n",
    "sns.set(font_scale = 1.3)\n",
    "\n",
    "# Format title and axis\n",
    "plot = sns.regplot(x=\"P_Value_x\", y=\"P_Value_y\", data=low_endo_pvals, \n",
    "                   scatter_kws={'facecolors':low_endo_pvals['color']})\n",
    "plot.set_title(\"Low P_Value Distribution in Endometrial Only\")\n",
    "plot.set(xlabel = 'P-Value for '+cancer1)\n",
    "plot.set(ylabel = 'P-Value for '+cancer2)\n",
    "\n",
    "plt.show()\n",
    "plt.clf()\n",
    "plt.close()"
   ]
  },
  {
   "cell_type": "markdown",
   "metadata": {},
   "source": [
    "Zoom y-axis (low gbm p-values)"
   ]
  },
  {
   "cell_type": "code",
   "execution_count": null,
   "metadata": {},
   "outputs": [],
   "source": [
    "low_gbm_pvals = both_values_df.loc[both_values_df['P_Value_x'] <= 0.05]\n",
    "low_gbm_pvals = low_gbm_pvals.loc[low_gbm_pvals['P_Value_y'] >= 0.5] #comment out to see all y\n",
    "\n",
    "# Format figure size and font\n",
    "plt.rcParams['figure.figsize']=(15,10)\n",
    "sns.set(font_scale = 1.3)\n",
    "\n",
    "# Format title and axis\n",
    "plot = sns.regplot(x=\"P_Value_x\", y=\"P_Value_y\", data=low_gbm_pvals, scatter_kws={'facecolors':low_gbm_pvals['color']})\n",
    "plot.set_title(\"Low P_Value Distribution for Gbm Only\")\n",
    "plot.set(xlabel = 'P-Value for '+cancer1)\n",
    "plot.set(ylabel = 'P-Value for '+cancer2)\n",
    "\n",
    "plt.show()\n",
    "plt.clf()\n",
    "plt.close()"
   ]
  },
  {
   "cell_type": "markdown",
   "metadata": {},
   "source": [
    "# GSEA "
   ]
  },
  {
   "cell_type": "code",
   "execution_count": null,
   "metadata": {},
   "outputs": [],
   "source": [
    "# corners for gsea test for zoomed x-axis (0-1 range gbm pvals)\n",
    "low = combined.loc[combined['P_Value_y'] <= 0.05]\n",
    "low_left_corner = low.loc[low['P_Value_x'] <= 0.05] \n",
    "low_right_corner = low.loc[low['P_Value_x'] >= 0.5] \n",
    "\n",
    "print(\"Number of both low:\", len(low_left_corner))\n",
    "print(\"Number of low endo, high gbm:\", len(low_right_corner))\n",
    "\n",
    "# corners for gsea test for zoomed y-axis (0-1 range endo pvals)\n",
    "high = combined.loc[combined['P_Value_y'] >= 0.5] \n",
    "high_left_corner = high.loc[high['P_Value_x'] <= 0.05] \n",
    "high_right_corner = high.loc[high['P_Value_x'] >= 0.5]  \n",
    "print(\"Number of high endo, low gbm:\", len(high_left_corner))\n",
    "print(\"Number of both high:\", len(high_right_corner))"
   ]
  },
  {
   "cell_type": "code",
   "execution_count": null,
   "metadata": {},
   "outputs": [],
   "source": [
    "# gsea for lower left corner (both low pvals)\n",
    "both_low_pvals = list(low_left_corner['Comparison'])\n",
    "print(\"Number of genes for both low pvals:\", len(both_low_pvals))\n",
    "\n",
    "both_low_gsea = gp.enrichr(\n",
    "    gene_list = both_low_pvals, description='Tumor_partition', gene_sets='KEGG_2016')"
   ]
  },
  {
   "cell_type": "code",
   "execution_count": null,
   "metadata": {},
   "outputs": [],
   "source": [
    "both_low_gsea.res2d.head() # pip2 signaling? check phosphatidylinositol proteins!"
   ]
  },
  {
   "cell_type": "code",
   "execution_count": null,
   "metadata": {},
   "outputs": [],
   "source": [
    "# gsea for low right corner (low endo, high gbm)\n",
    "low_endo_high_gbm = list(low_right_corner['Comparison'])\n",
    "print(\"Number of genes for low_endo_high_gbm:\", len(low_endo_high_gbm))\n",
    "\n",
    "low_endo_high_gbm_gsea = gp.enrichr(\n",
    "    gene_list = low_endo_high_gbm, description='Tumor_partition', gene_sets='KEGG_2016')"
   ]
  },
  {
   "cell_type": "code",
   "execution_count": null,
   "metadata": {},
   "outputs": [],
   "source": [
    "g = low_endo_high_gbm_gsea.res2d.head()\n",
    "#list(g['Genes'])\n",
    "g"
   ]
  },
  {
   "cell_type": "markdown",
   "metadata": {},
   "source": [
    "Range 0-1 endo (upper corners)"
   ]
  },
  {
   "cell_type": "code",
   "execution_count": null,
   "metadata": {},
   "outputs": [],
   "source": [
    "# gsea for high left corner (high endo, low gbm)\n",
    "high_endo_low_gbm = list(high_left_corner['Comparison'])\n",
    "print(\"Number of genes for high_endo_low_gbm:\", len(high_endo_low_gbm))\n",
    "\n",
    "high_endo_low_gbm_gsea = gp.enrichr(\n",
    "    gene_list = high_endo_low_gbm, gene_sets='KEGG_2016')\n"
   ]
  },
  {
   "cell_type": "code",
   "execution_count": null,
   "metadata": {},
   "outputs": [],
   "source": [
    "gbm = high_endo_low_gbm_gsea.res2d.head() # check focal adhesions, endocytosis pathways\n",
    "gbm"
   ]
  },
  {
   "cell_type": "code",
   "execution_count": null,
   "metadata": {},
   "outputs": [],
   "source": [
    "# gsea for high right corner (high endo, high gbm)\n",
    "both_high = list(high_right_corner['Comparison'])\n",
    "print(\"Number of genes for both_high:\", len(both_high))\n",
    "\n",
    "both_high_gsea = gp.enrichr(\n",
    "    gene_list = both_high, description='Tumor_partition', gene_sets='KEGG_2016')"
   ]
  },
  {
   "cell_type": "code",
   "execution_count": null,
   "metadata": {},
   "outputs": [],
   "source": [
    "both_high_gsea.res2d.head()"
   ]
  },
  {
   "cell_type": "markdown",
   "metadata": {},
   "source": [
    "Pathways"
   ]
  },
  {
   "cell_type": "code",
   "execution_count": null,
   "metadata": {},
   "outputs": [],
   "source": [
    "focal_adhesions_str = \"ACTN1;BCL2;RAPGEF1;FLNA;FLNC;MYL9;IGF1R\"\n",
    "focal_adhesions = focal_adhesions_str.split(';')\n",
    "\n",
    "combined[\"color\"] = np.where(combined[\"Comparison\"].isin(focal_adhesions), \"purple\", \"lightblue\")\n",
    "print(focal_adhesions)\n",
    "pathway_df = combined.dropna(axis=0, how='any') # only keep rows with both data points\n",
    "pathway_df"
   ]
  },
  {
   "cell_type": "code",
   "execution_count": null,
   "metadata": {},
   "outputs": [],
   "source": [
    "# Format figure size and font\n",
    "plt.rcParams['figure.figsize']=(15,10)\n",
    "sns.set(font_scale = 1.3)\n",
    "\n",
    "# Format title and axis\n",
    "plot = sns.regplot(x=\"P_Value_x\", y=\"P_Value_y\", data=pathway_df, \n",
    "                   scatter_kws={'facecolors':pathway_df['color']})\n",
    "plot.set_title(\"P_Value Distribution showing Pathway\")\n",
    "plot.set(xlabel = 'P-Value for '+cancer1)\n",
    "plot.set(ylabel = 'P-Value for '+cancer2)\n",
    "\n",
    "plt.show()\n",
    "plt.clf()\n",
    "plt.close()"
   ]
  },
  {
   "cell_type": "code",
   "execution_count": null,
   "metadata": {},
   "outputs": [],
   "source": []
  }
 ],
 "metadata": {
  "kernelspec": {
   "display_name": "Python 3",
   "language": "python",
   "name": "python3"
  },
  "language_info": {
   "codemirror_mode": {
    "name": "ipython",
    "version": 3
   },
   "file_extension": ".py",
   "mimetype": "text/x-python",
   "name": "python",
   "nbconvert_exporter": "python",
   "pygments_lexer": "ipython3",
   "version": "3.7.3"
  }
 },
 "nbformat": 4,
 "nbformat_minor": 2
}
