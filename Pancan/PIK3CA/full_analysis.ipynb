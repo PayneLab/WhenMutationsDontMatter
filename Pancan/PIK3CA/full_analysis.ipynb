{
 "cells": [
  {
   "cell_type": "markdown",
   "id": "8a220f11",
   "metadata": {},
   "source": [
    "# Part 1: Create database set\n",
    "By inputting a target gene, a nested dictionary will be created, with each key being the name of a cancer and each value being a dictionary containing the genomic, proteomic, transcriptomic, and phosphoproteomic data. In other words, the dictionary will be:\n",
    "\n",
    "{\n",
    "    cancer : {   \n",
    "    \n",
    "            \"gen\" : <cancer's genomic data>,\n",
    "            \"prot\" : <cancer's proteomic data>,\n",
    "            \"trans\": <cancer's transcriptomic data>,\n",
    "            \"phos\": <cancer's phosphoproteomic data>\n",
    "        }\n",
    "    ... for each cancer\n",
    "}"
   ]
  },
  {
   "cell_type": "code",
   "execution_count": 1,
   "id": "dede19fa",
   "metadata": {},
   "outputs": [],
   "source": [
    "import cptac\n",
    "import cptac.pancan as pc\n",
    "import numpy as np\n",
    "import cptac.utils as ut\n",
    "import plot_utils as plt\n",
    "import pandas as pd\n",
    "import seaborn as sns"
   ]
  },
  {
   "cell_type": "code",
   "execution_count": 2,
   "id": "930371b8",
   "metadata": {},
   "outputs": [],
   "source": [
    "import warnings\n",
    "warnings.filterwarnings(\"ignore\")"
   ]
  },
  {
   "cell_type": "code",
   "execution_count": 3,
   "id": "4159d5ed",
   "metadata": {},
   "outputs": [
    {
     "data": {
      "text/plain": [
       "['PancanBrca',\n",
       " 'PancanCcrcc',\n",
       " 'PancanCoad',\n",
       " 'PancanGbm',\n",
       " 'PancanHnscc',\n",
       " 'PancanLscc',\n",
       " 'PancanLuad',\n",
       " 'PancanOv',\n",
       " 'PancanUcec',\n",
       " 'PancanPdac']"
      ]
     },
     "execution_count": 3,
     "metadata": {},
     "output_type": "execute_result"
    }
   ],
   "source": [
    "dataset_names = pc.list_datasets(False)\n",
    "dataset_names  = dataset_names.split('\\n')\n",
    "dataset_names"
   ]
  },
  {
   "cell_type": "code",
   "execution_count": 4,
   "id": "c45e7a87",
   "metadata": {},
   "outputs": [],
   "source": [
    "target_gene = \"PIK3CA\""
   ]
  },
  {
   "cell_type": "code",
   "execution_count": 5,
   "id": "36f26ae4",
   "metadata": {},
   "outputs": [
    {
     "name": "stdout",
     "output_type": "stream",
     "text": [
      "Lodaded PancanBrca...               \n",
      "Lodaded PancanCcrcc...                   \n",
      "Lodaded PancanCoad...               \n",
      "Lodaded PancanGbm...                  \n",
      "Lodaded PancanHnscc...                   \n",
      "Lodaded PancanLscc...                   \n",
      "Lodaded PancanLuad...                   \n",
      "Lodaded PancanOv...                \n",
      "Lodaded PancanUcec...                   \n",
      "Lodaded PancanPdac...                   \n"
     ]
    }
   ],
   "source": [
    "datasets = {}\n",
    "for name in dataset_names:\n",
    "    exec(f\"cancer = pc.{name}(no_internet = True)\")  \n",
    "    genotype_data = cancer.get_genotype_all_vars(mutations_gene = target_gene, omics_source = \"washu\")\n",
    "    \n",
    "    proteomic_data = cancer.get_proteomics(source = 'umich')\n",
    "    proteomic_data = proteomic_data.droplevel(\"Database_ID\", axis = 1)\n",
    "    \n",
    "    phospho_data = cancer.get_phosphoproteomics(source = 'umich')\n",
    "    phospho_data = phospho_data.droplevel(\"Database_ID\", axis = 1).droplevel(\"Peptide\", axis = 1)\n",
    "    \n",
    "    transcript_data = cancer.get_transcriptomics(source = \"washu\")\n",
    "    transcript_data = transcript_data.droplevel(\"Database_ID\", axis = 1)\n",
    "    \n",
    "    datasets[name[6:]] = {\n",
    "                        \"gen\" : genotype_data,\n",
    "                        \"prot\": proteomic_data,\n",
    "                        \"trans\": transcript_data,\n",
    "                        \"phos\" : phospho_data\n",
    "                         }    \n",
    "    print(f\"Lodaded {name}...\")"
   ]
  },
  {
   "cell_type": "code",
   "execution_count": 6,
   "id": "7fd85c29",
   "metadata": {},
   "outputs": [],
   "source": [
    "#DELETE THIS CELL\n",
    "#I use this to let me know when the data has finished loading haha\n",
    "# import webbrowser\n",
    "# webbrowser.open(\"https://www.youtube.com/watch?v=dQw4w9WgXcQ\")"
   ]
  },
  {
   "cell_type": "markdown",
   "id": "a54fff79",
   "metadata": {},
   "source": [
    "# Part 2: Select mutations\n",
    "Determine which cancers have mutation types with rates above 20%.\n",
    "\n",
    "To facilitate that, the mutation types from the get_genotype_all_vars must be grouped into functional types.\n"
   ]
  },
  {
   "cell_type": "code",
   "execution_count": 7,
   "id": "b6178983",
   "metadata": {},
   "outputs": [],
   "source": [
    "mutation_types = [\"Deletion\", \"Amplification\", \"Truncation\", \"Indel\", \"Missense\"]"
   ]
  },
  {
   "cell_type": "code",
   "execution_count": 8,
   "id": "9bfa5779",
   "metadata": {},
   "outputs": [],
   "source": [
    "# Grouping the mutation types for each cancer\n",
    "for name, dataset in datasets.items():\n",
    "    genotypes = dataset[\"gen\"]\n",
    "    genotypes.replace([\"Nonsense_Mutation\", \"Frame_Shift_Ins\", \"Frame_Shift_Del\"], \"Truncation\", inplace = True)\n",
    "    genotypes.replace([\"In_Frame_Del\", \"In_Frame_Ins\"], \"Indel\", inplace = True)\n",
    "    genotypes.replace([\"Missense_Mutation\", \"Wildtype_Tumor\"], [\"Missense\", \"Wildtype\"], inplace = True)\n",
    "    genotypes = genotypes.loc[~genotypes[\"Mutation\"].isin([\"Intron\",\"Silent\"])]\n",
    "    datasets[name][\"gen\"] = genotypes\n"
   ]
  },
  {
   "cell_type": "code",
   "execution_count": 9,
   "id": "9ddba048",
   "metadata": {},
   "outputs": [],
   "source": [
    "# Create a bargraph displaying the mutation types"
   ]
  },
  {
   "cell_type": "code",
   "execution_count": 10,
   "id": "3e8e0509",
   "metadata": {},
   "outputs": [
    {
     "name": "stdout",
     "output_type": "stream",
     "text": [
      "{'Brca': {'Missense'}, 'Ccrcc': set(), 'Coad': set(), 'Gbm': set(), 'Hnscc': {'Amplification'}, 'Lscc': {'Amplification'}, 'Luad': set(), 'Ov': {'Amplification'}, 'Ucec': {'Missense'}, 'Pdac': set()}\n"
     ]
    }
   ],
   "source": [
    "# Determine which cancers have mutation rates over 20%\n",
    "variants_to_analyze = {}\n",
    "for name, dataset in datasets.items():\n",
    "    mut_type_freq = dataset[\"gen\"][\"Mutation\"].value_counts() / len(dataset[\"prot\"])\n",
    "    mut_type_freq = mut_type_freq.loc[mut_type_freq >= 0.2]\n",
    "    variants_to_analyze[name] = set(mut_type_freq.index.tolist())\n",
    "    variants_to_analyze[name].discard(\"Wildtype\")\n",
    "print(str(variants_to_analyze))"
   ]
  },
  {
   "cell_type": "markdown",
   "id": "368f9dd3",
   "metadata": {},
   "source": [
    "# Part 3: Cis effects\n",
    "Determines which genes that, given a mutation, will change the expression in their own proteomics, transcriptomics, or phosphoproteomics.This analysis is repeated for every cancer, and every mutation type.\n",
    "\n",
    "Writes out a file containing the infomation for each mutation and cancer, and creates boxplot summarizing the data"
   ]
  },
  {
   "cell_type": "code",
   "execution_count": 11,
   "id": "588253ab",
   "metadata": {},
   "outputs": [],
   "source": [
    "from scipy.stats import ttest_ind\n",
    "omics_key = {\"prot\":\"proteomics\", \"trans\":\"transcriptomics\",\"phos\":\"phosphoproteomics\"}"
   ]
  },
  {
   "cell_type": "code",
   "execution_count": 12,
   "id": "0aa454a3",
   "metadata": {},
   "outputs": [],
   "source": [
    "# Create a function that will analyze the protein cis effects for a given mutation type\n",
    "def analyze_cis_mutation(omics_type, write_out = True, output_boxplot = True):\n",
    "    \"\"\"Analyzes the cis effects for a given mutation type across all cancers.\n",
    "    \n",
    "    Parameters:\n",
    "    omics_type (str): The omics to analyze. Possible values are in list [\"prot\", \"trans\", \"phos\"]\n",
    "    write_out (bool, optional): Whether to write out the data to a separate file.\n",
    "    \n",
    "    Returns the output of scipy.ttest_ind() between \"Wildtype\" and mutation_type tumors. If analyzing phosphoproteomics, returns a list of such outputs\n",
    "    \"\"\"\n",
    "    if write_out:\n",
    "        # Clears the target file\n",
    "        file_name = f\"Cis_Effect_output/{omics_key[omics_type].capitalize()}_Analysis_cis.txt\"\n",
    "        with open(file_name, 'w') as out_file: pass\n",
    "                \n",
    "    result = []\n",
    "    boxplot_data = []\n",
    "    for cancer_type, dataset in datasets.items():\n",
    "        if write_out:\n",
    "            with open(file_name, 'a') as out_file:\n",
    "                out_file.write(cancer_type.upper()+'\\n')\n",
    "            \n",
    "        for mutation_type in mutation_types:\n",
    "            ## PREPARE DATA ##\n",
    "            if mutation_type not in variants_to_analyze[cancer_type]: \n",
    "                continue\n",
    "            print(f\"{cancer_type} {mutation_type}s\") #debug temp\n",
    "            genotype_and_omic = pd.merge(dataset[\"gen\"][\"Mutation\"], dataset[omics_type][target_gene], left_index = True, right_index = True)\n",
    "            genotype_and_omic = genotype_and_omic.loc[genotype_and_omic[\"Mutation\"].isin([\"Wildtype\", mutation_type])]\n",
    "                            \n",
    "            for site in genotype_and_omic.drop(\"Mutation\", axis = 1).columns:\n",
    "                ## ANALYZE P-VALUES ##\n",
    "                try:\n",
    "                    pval = ut.wrap_ttest(genotype_and_omic, label_column=\"Mutation\", comparison_columns=[site], return_all=True).iloc[0,1]\n",
    "                except:\n",
    "                    continue\n",
    "                result.append ({\n",
    "                    \"omics_type\":omics_type,\n",
    "                    \"site\":site,\n",
    "                    \"mutation_type\":mutation_type,\n",
    "                    \"cancer_type\":cancer_type,\n",
    "                    \"pval\":pval\n",
    "                })\n",
    "                    \n",
    "                ## GATHER DATA FOR BOXPLOT ##\n",
    "                if output_boxplot:\n",
    "                    new_data = genotype_and_omic[genotype_and_omic[\"Mutation\"] == mutation_type]\n",
    "                    new_data[\"site\"], new_data[\"cancer_type\"] = site, cancer_type\n",
    "                    boxplot_data.append(pd.DataFrame(new_data))\n",
    "                \n",
    "                ## WRITE OUT RESULT ##\n",
    "                if write_out:\n",
    "                    with open(file_name, 'a') as out_file: \n",
    "                        out_file.write(f\"   {mutation_type} p-val: {pval}\\n\")\n",
    "    \n",
    "    ## CREATE BOXPLOT ##\n",
    "    if output_boxplot:\n",
    "        boxplot_data = pd.concat(boxplot_data)\n",
    "        generate_cis_plot(boxplot_data, omics_type)\n",
    "                \n",
    "    result = pd.DataFrame(result)\n",
    "    return result\n",
    "\n",
    "def generate_cis_plot(boxplot_data, omics_type):\n",
    "    sns.set_theme(style=\"whitegrid\")\n",
    "    for site in boxplot_data[\"site\"]:\n",
    "        plot = sns.boxplot(x = \"Mutation\", y = site, hue = \"cancer_type\", data = boxplot_data[boxplot_data[\"site\"] == site])\n",
    "        gene_site = site if site == target_gene else target_gene+'.'+site\n",
    "        plot.set(ylabel=f\"{gene_site} Mutations\")\n",
    "        plot.get_figure().savefig(f\"Cis_Effect_output/{gene_site}_{omics_key[omics_type]}.png\")\n",
    "        plot.get_figure().clf()\n",
    "#     plt = sns.stripplot(x = \"Mutation\", y = target_gene, hue = \"cancer_type\", data = boxplot_data, color = \"0\")"
   ]
  },
  {
   "cell_type": "code",
   "execution_count": 14,
   "id": "e3e49263",
   "metadata": {},
   "outputs": [
    {
     "name": "stdout",
     "output_type": "stream",
     "text": [
      "Brca Missenses\n",
      "Hnscc Amplifications\n",
      "Lscc Amplifications\n",
      "Ov Amplifications\n",
      "Ucec Missenses\n",
      "Brca Missenses\n",
      "Hnscc Amplifications\n",
      "Lscc Amplifications\n",
      "Ov Amplifications\n",
      "Ucec Missenses\n",
      "Brca Missenses\n",
      "Hnscc Amplifications\n",
      "Lscc Amplifications\n",
      "Ov Amplifications\n",
      "Ucec Missenses\n"
     ]
    },
    {
     "data": {
      "text/html": [
       "<div>\n",
       "<style scoped>\n",
       "    .dataframe tbody tr th:only-of-type {\n",
       "        vertical-align: middle;\n",
       "    }\n",
       "\n",
       "    .dataframe tbody tr th {\n",
       "        vertical-align: top;\n",
       "    }\n",
       "\n",
       "    .dataframe thead th {\n",
       "        text-align: right;\n",
       "    }\n",
       "</style>\n",
       "<table border=\"1\" class=\"dataframe\">\n",
       "  <thead>\n",
       "    <tr style=\"text-align: right;\">\n",
       "      <th></th>\n",
       "      <th>omics_type</th>\n",
       "      <th>site</th>\n",
       "      <th>mutation_type</th>\n",
       "      <th>cancer_type</th>\n",
       "      <th>pval</th>\n",
       "    </tr>\n",
       "  </thead>\n",
       "  <tbody>\n",
       "    <tr>\n",
       "      <th>0</th>\n",
       "      <td>prot</td>\n",
       "      <td>PIK3CA</td>\n",
       "      <td>Missense</td>\n",
       "      <td>Brca</td>\n",
       "      <td>4.136071e-01</td>\n",
       "    </tr>\n",
       "    <tr>\n",
       "      <th>1</th>\n",
       "      <td>prot</td>\n",
       "      <td>PIK3CA</td>\n",
       "      <td>Amplification</td>\n",
       "      <td>Hnscc</td>\n",
       "      <td>8.779609e-08</td>\n",
       "    </tr>\n",
       "    <tr>\n",
       "      <th>2</th>\n",
       "      <td>prot</td>\n",
       "      <td>PIK3CA</td>\n",
       "      <td>Amplification</td>\n",
       "      <td>Lscc</td>\n",
       "      <td>6.777353e-06</td>\n",
       "    </tr>\n",
       "    <tr>\n",
       "      <th>3</th>\n",
       "      <td>prot</td>\n",
       "      <td>PIK3CA</td>\n",
       "      <td>Amplification</td>\n",
       "      <td>Ov</td>\n",
       "      <td>5.106221e-02</td>\n",
       "    </tr>\n",
       "    <tr>\n",
       "      <th>4</th>\n",
       "      <td>prot</td>\n",
       "      <td>PIK3CA</td>\n",
       "      <td>Missense</td>\n",
       "      <td>Ucec</td>\n",
       "      <td>1.394571e-01</td>\n",
       "    </tr>\n",
       "    <tr>\n",
       "      <th>0</th>\n",
       "      <td>trans</td>\n",
       "      <td>PIK3CA</td>\n",
       "      <td>Missense</td>\n",
       "      <td>Brca</td>\n",
       "      <td>5.197343e-02</td>\n",
       "    </tr>\n",
       "    <tr>\n",
       "      <th>1</th>\n",
       "      <td>trans</td>\n",
       "      <td>PIK3CA</td>\n",
       "      <td>Amplification</td>\n",
       "      <td>Hnscc</td>\n",
       "      <td>2.132309e-08</td>\n",
       "    </tr>\n",
       "    <tr>\n",
       "      <th>2</th>\n",
       "      <td>trans</td>\n",
       "      <td>PIK3CA</td>\n",
       "      <td>Amplification</td>\n",
       "      <td>Lscc</td>\n",
       "      <td>6.449415e-06</td>\n",
       "    </tr>\n",
       "    <tr>\n",
       "      <th>3</th>\n",
       "      <td>trans</td>\n",
       "      <td>PIK3CA</td>\n",
       "      <td>Amplification</td>\n",
       "      <td>Ov</td>\n",
       "      <td>8.550794e-06</td>\n",
       "    </tr>\n",
       "    <tr>\n",
       "      <th>4</th>\n",
       "      <td>trans</td>\n",
       "      <td>PIK3CA</td>\n",
       "      <td>Missense</td>\n",
       "      <td>Ucec</td>\n",
       "      <td>3.243405e-01</td>\n",
       "    </tr>\n",
       "    <tr>\n",
       "      <th>0</th>\n",
       "      <td>phos</td>\n",
       "      <td>S312</td>\n",
       "      <td>Missense</td>\n",
       "      <td>Brca</td>\n",
       "      <td>6.713072e-01</td>\n",
       "    </tr>\n",
       "    <tr>\n",
       "      <th>1</th>\n",
       "      <td>phos</td>\n",
       "      <td>S312</td>\n",
       "      <td>Amplification</td>\n",
       "      <td>Hnscc</td>\n",
       "      <td>9.919615e-01</td>\n",
       "    </tr>\n",
       "    <tr>\n",
       "      <th>2</th>\n",
       "      <td>phos</td>\n",
       "      <td>S312</td>\n",
       "      <td>Amplification</td>\n",
       "      <td>Lscc</td>\n",
       "      <td>3.956570e-01</td>\n",
       "    </tr>\n",
       "    <tr>\n",
       "      <th>3</th>\n",
       "      <td>phos</td>\n",
       "      <td>S158</td>\n",
       "      <td>Amplification</td>\n",
       "      <td>Ov</td>\n",
       "      <td>2.439741e-01</td>\n",
       "    </tr>\n",
       "    <tr>\n",
       "      <th>4</th>\n",
       "      <td>phos</td>\n",
       "      <td>S312</td>\n",
       "      <td>Amplification</td>\n",
       "      <td>Ov</td>\n",
       "      <td>8.477445e-01</td>\n",
       "    </tr>\n",
       "    <tr>\n",
       "      <th>5</th>\n",
       "      <td>phos</td>\n",
       "      <td>S312</td>\n",
       "      <td>Missense</td>\n",
       "      <td>Ucec</td>\n",
       "      <td>3.689139e-01</td>\n",
       "    </tr>\n",
       "  </tbody>\n",
       "</table>\n",
       "</div>"
      ],
      "text/plain": [
       "  omics_type    site  mutation_type cancer_type          pval\n",
       "0       prot  PIK3CA       Missense        Brca  4.136071e-01\n",
       "1       prot  PIK3CA  Amplification       Hnscc  8.779609e-08\n",
       "2       prot  PIK3CA  Amplification        Lscc  6.777353e-06\n",
       "3       prot  PIK3CA  Amplification          Ov  5.106221e-02\n",
       "4       prot  PIK3CA       Missense        Ucec  1.394571e-01\n",
       "0      trans  PIK3CA       Missense        Brca  5.197343e-02\n",
       "1      trans  PIK3CA  Amplification       Hnscc  2.132309e-08\n",
       "2      trans  PIK3CA  Amplification        Lscc  6.449415e-06\n",
       "3      trans  PIK3CA  Amplification          Ov  8.550794e-06\n",
       "4      trans  PIK3CA       Missense        Ucec  3.243405e-01\n",
       "0       phos    S312       Missense        Brca  6.713072e-01\n",
       "1       phos    S312  Amplification       Hnscc  9.919615e-01\n",
       "2       phos    S312  Amplification        Lscc  3.956570e-01\n",
       "3       phos    S158  Amplification          Ov  2.439741e-01\n",
       "4       phos    S312  Amplification          Ov  8.477445e-01\n",
       "5       phos    S312       Missense        Ucec  3.689139e-01"
      ]
     },
     "execution_count": 14,
     "metadata": {},
     "output_type": "execute_result"
    },
    {
     "data": {
      "text/plain": [
       "<Figure size 432x288 with 0 Axes>"
      ]
     },
     "metadata": {},
     "output_type": "display_data"
    }
   ],
   "source": [
    "results = pd.concat([analyze_cis_mutation(omics_type, True) for omics_type in [\"prot\", \"trans\", \"phos\"]])\n",
    "results"
   ]
  },
  {
   "cell_type": "markdown",
   "id": "73617b45",
   "metadata": {},
   "source": [
    "# Part 4: Trans Effects\n",
    "Determines which genes that, given a mutation, will change the expression in another protein's proteomics, transcriptomics, or phosphoproteomics.This analysis is repeated for every cancer, and every mutation type.\n",
    "\n",
    "To reduce the computational intensity and the corrections needed, the scope will be restricted to all genes whose corresponding proteins have a known interaction with the proteins corresponding to the target_gene. *(For example, Given the target_gene 'TP53', the set of genes will be all those whose proteins share a pathway with TP53.)*\n",
    "\n",
    "Writes out a file containing the infomation for each mutation and cancer, and creates boxplot summarizing the data"
   ]
  },
  {
   "cell_type": "code",
   "execution_count": null,
   "id": "6aac2474",
   "metadata": {},
   "outputs": [],
   "source": [
    "paths = ut.get_pathways_with_proteins(proteins = target_gene, database = 'reactome')\n",
    "paths"
   ]
  },
  {
   "cell_type": "code",
   "execution_count": null,
   "id": "b1daf485",
   "metadata": {},
   "outputs": [],
   "source": [
    "interacting_proteins = ut.get_proteins_in_pathways(paths[\"pathway_id\"], database = 'reactome')\n",
    "interacting_proteins = list(interacting_proteins[\"member\"])\n",
    "\n",
    "genes_measured = list(datasets[\"Brca\"][\"prot\"].columns)\n",
    "new_genes = sorted(list(set([protein for protein in interacting_proteins if protein in genes_measured])))"
   ]
  },
  {
   "cell_type": "code",
   "execution_count": null,
   "id": "58036cab",
   "metadata": {},
   "outputs": [],
   "source": [
    "interacting_proteins = set(interacting_proteins)\n",
    "print(len(interacting_proteins))\n",
    "genes_measured = set(genes_measured)\n",
    "if target_gene in new_genes: new_genes.remove(target_gene)\n",
    "print(len(genes_measured))\n",
    "print(len(new_genes))\n",
    "new_genes"
   ]
  },
  {
   "cell_type": "code",
   "execution_count": null,
   "id": "58fed41b",
   "metadata": {},
   "outputs": [],
   "source": [
    "def analyze_trans_mut"
   ]
  },
  {
   "cell_type": "code",
   "execution_count": null,
   "id": "595d3ea4",
   "metadata": {},
   "outputs": [],
   "source": [
    "# # Create a function that will analyze the protein cis effects for a given mutation type\n",
    "# def analyze_trans_mutation(omics_type, mutation_type, gene_list, write_out = True, pval_only = True):\n",
    "#     \"\"\"Analyzes the trans effects for a given mutation type across all cancers.\n",
    "    \n",
    "#     Parameters:\n",
    "#     mutation_type (str): The mutation type to analyze, as a string. Possible values given in mutation_types.\n",
    "#     omics_type (str): The omics to analyze. Possible values are in list [\"prot\", \"trans\", \"phos\"]\n",
    "#     gene_list (list[str]): A list of genes with proteins in the same pathway as those from target_gene\n",
    "#     write_out (bool, optional): Whether to write out the data to a separate file.\n",
    "#     pval_only (bool, optional): If write_out, only writes out the p_value for each analysis. If not write_out, has no effect.\n",
    "    \n",
    "#     Returns a list of the outputs of scipy.ttest_ind() between \"Wildtype\" and mutation_type tumors, for each of the genes. If analyzing phosphoproteomics, returns a list of lists, in the form [[(site_name, pval) for each site] for each entry]\n",
    "#     \"\"\"\n",
    "#     if write_out:\n",
    "#         # Clears the target file\n",
    "#         file_name = omics_key[omics_type].capitalize() + '_' + mutation_type.capitalize() + 's.txt'\n",
    "#         with open(\"Trans_Effect_output/\" + file_name, 'w') as out_file: pass\n",
    "#     for name, dataset in datasets.items():\n",
    "#         if mutation_type not in variants_to_analyze[name]: continue\n",
    "        \n",
    "#         # Separate the wildtype and mutated samples\n",
    "#         genotype_and_omic = pd.merge(dataset[\"gen\"], dataset[omics_type], left_index = True, right_index = True)\n",
    "#         mutation = genotype_and_omic.loc[genotype_and_omic[\"Mutation\"] == mutation_type].dropna()\n",
    "#         wildtype = genotype_and_omic.loc[genotype_and_omic[\"Mutation\"] == \"Wildtype\"].dropna()\n",
    "        \n",
    "#         # Phosphoproteomics must be analyzed at each site in the gene\n",
    "#         if omics_type != \"phos\":\n",
    "#             result = [ttest_ind(mutation[trans_gene].dropna(), wildtype[trans_gene].dropna())[1] for trans_gene in gene_list]\n",
    "#         else:\n",
    "#             result = [(site, ttest_ind(mutation[trans_gene][site].dropna(), wildtype[trans_gene][site])[1]) for site in trans_gene for trans_gene in mutation.columns if site in wildtype[trans_gene].columns]\n",
    "                \n",
    "#         if write_out:\n",
    "#             output_string = \"\"\n",
    "#             if not pval_only:\n",
    "#                 output_string += f\"{name}\\n\"\n",
    "#                 output_string += f\"Number of {mutation_type}s = {len(mutation)}\\n\"\n",
    "#                 output_string += f\"Number of Wildtypes = {len(wildtype)}\\n\"\n",
    "#             if omics_type != \"phos\":\n",
    "#                 output_string += f\"{name} {mutation_type} P-value = {result}\\n\\n\"\n",
    "#             else:\n",
    "#                 output_string += f\"{name} {mutation_type} P-values:\\n\"\n",
    "#                 for site in result:\n",
    "#                     output_string += f\"   {site[0]}: {site[1]}\\n\"\n",
    "#                 ouput_string += '\\n'\n",
    "#             with open(\"Trans_Effect_output/\" + file_name, \"a\") as out_file:\n",
    "#                 print(output_string)\n",
    "#                 out_file.write(\"output_string\") \n",
    "                \n",
    "#     try:\n",
    "#         return result\n",
    "#     except UnboundLocalError:\n",
    "#         return\n",
    "\n",
    "    "
   ]
  },
  {
   "cell_type": "markdown",
   "id": "f11e69ba",
   "metadata": {},
   "source": []
  },
  {
   "cell_type": "code",
   "execution_count": null,
   "id": "a5ab28c9",
   "metadata": {},
   "outputs": [],
   "source": [
    "#Now, run the analysis for every mutation_type, for every omics_type\n",
    "for omics_type in [\"prot\", \"trans\", \"phos\"]:\n",
    "    for mutation_type in mutation_types:\n",
    "        analyze_trans_mutation(omics_type, mutation_type, new_genes, write_out = True, pval_only = False)"
   ]
  },
  {
   "cell_type": "code",
   "execution_count": null,
   "id": "44c4801b",
   "metadata": {},
   "outputs": [],
   "source": [
    "with open(\"deletion_trans_data.txt\", 'w') as outFile:\n",
    "    all_significant = {}\n",
    "    for name, dataset in datasets.items():\n",
    "        if name not in deletion_sets: continue\n",
    "        print(name + '\\n')\n",
    "        outFile.write(name + '\\n')\n",
    "        significant_changes = {}\n",
    "        for trans_gene in interacting_proteins:\n",
    "            genotype_and_prot = dataset[0].merge(dataset[1], left_index = True, right_index = True)\n",
    "            if trans_gene not in genotype_and_prot: continue\n",
    "            deletions = genotype_and_prot.loc[genotype_and_prot[\"Mutation\"] == \"Deletion\"][trans_gene].dropna()\n",
    "            wildtypes = genotype_and_prot.loc[genotype_and_prot[\"Mutation\"] == \"Wildtype_Tumor\"][trans_gene].dropna()\n",
    "            result = ttest_ind(deletions, wildtypes)\n",
    "            print(trans_gene + \" P-value with \" + name + \" deletion: \" + str(result[1]))\n",
    "            outFile.write(name + \" deletion P-value: \" + str(result[1]))\n",
    "        print('\\n')\n",
    "        outFile.write('\\n')\n"
   ]
  },
  {
   "cell_type": "code",
   "execution_count": null,
   "id": "b9fd7f56",
   "metadata": {},
   "outputs": [],
   "source": []
  },
  {
   "cell_type": "code",
   "execution_count": null,
   "id": "8d075381",
   "metadata": {},
   "outputs": [],
   "source": []
  },
  {
   "cell_type": "code",
   "execution_count": null,
   "id": "e06198f6",
   "metadata": {},
   "outputs": [],
   "source": []
  }
 ],
 "metadata": {
  "kernelspec": {
   "display_name": "Python 3 (ipykernel)",
   "language": "python",
   "name": "python3"
  },
  "language_info": {
   "codemirror_mode": {
    "name": "ipython",
    "version": 3
   },
   "file_extension": ".py",
   "mimetype": "text/x-python",
   "name": "python",
   "nbconvert_exporter": "python",
   "pygments_lexer": "ipython3",
   "version": "3.9.7"
  }
 },
 "nbformat": 4,
 "nbformat_minor": 5
}
