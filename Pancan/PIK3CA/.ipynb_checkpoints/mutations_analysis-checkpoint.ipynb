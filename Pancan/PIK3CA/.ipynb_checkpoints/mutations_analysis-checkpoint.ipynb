{
 "cells": [
  {
   "cell_type": "code",
   "execution_count": 1,
   "id": "dede19fa",
   "metadata": {},
   "outputs": [],
   "source": [
    "import cptac\n",
    "import cptac.pancan as pc\n",
    "import numpy as np\n",
    "import cptac.utils as ut\n",
    "import plot_utils as plt\n",
    "import pandas as pd\n",
    "from scipy.stats import ttest_ind"
   ]
  },
  {
   "cell_type": "code",
   "execution_count": 2,
   "id": "4159d5ed",
   "metadata": {},
   "outputs": [
    {
     "data": {
      "text/plain": [
       "['PancanBrca',\n",
       " 'PancanCcrcc',\n",
       " 'PancanCoad',\n",
       " 'PancanGbm',\n",
       " 'PancanHnscc',\n",
       " 'PancanLscc',\n",
       " 'PancanLuad',\n",
       " 'PancanOv',\n",
       " 'PancanUcec',\n",
       " 'PancanPdac']"
      ]
     },
     "execution_count": 2,
     "metadata": {},
     "output_type": "execute_result"
    }
   ],
   "source": [
    "dataset_names = pc.list_datasets(False)\n",
    "dataset_names  = dataset_names.split('\\n')\n",
    "dataset_names"
   ]
  },
  {
   "cell_type": "code",
   "execution_count": 3,
   "id": "c45e7a87",
   "metadata": {},
   "outputs": [],
   "source": [
    "target_gene = \"TP53\""
   ]
  },
  {
   "cell_type": "code",
   "execution_count": 4,
   "id": "36f26ae4",
   "metadata": {},
   "outputs": [
    {
     "name": "stdout",
     "output_type": "stream",
     "text": [
      "                                    \r"
     ]
    },
    {
     "name": "stderr",
     "output_type": "stream",
     "text": [
      "cptac warning: In joining the somatic_mutation table, no mutations were found for the following samples, so they were filled with Wildtype_Tumor or Wildtype_Normal: 68 samples for the TP53 gene (/home/sdsquires/anaconda3/lib/python3.8/site-packages/cptac/pancan/pancandataset.py, line 174)\n",
      "cptac warning: washu_CNV data was not found for the following samples, so washu_CNV data columns were filled with NaN for these samples: 01BR044, 604 (/home/sdsquires/anaconda3/lib/python3.8/site-packages/cptac/pancan/pancandataset.py, line 174)\n",
      "/home/sdsquires/anaconda3/lib/python3.8/site-packages/numpy/core/_asarray.py:102: VisibleDeprecationWarning: Creating an ndarray from ragged nested sequences (which is a list-or-tuple of lists-or-tuples-or ndarrays with different lengths or shapes) is deprecated. If you meant to do this, you must specify 'dtype=object' when creating the ndarray.\n",
      "  return array(a, dtype, copy=False, order=order)\n"
     ]
    },
    {
     "name": "stdout",
     "output_type": "stream",
     "text": [
      "                                         \r"
     ]
    },
    {
     "name": "stderr",
     "output_type": "stream",
     "text": [
      "cptac warning: In joining the somatic_mutation table, no mutations were found for the following samples, so they were filled with Wildtype_Tumor or Wildtype_Normal: 104 samples for the TP53 gene (/home/sdsquires/anaconda3/lib/python3.8/site-packages/cptac/pancan/pancandataset.py, line 174)\n",
      "/home/sdsquires/anaconda3/lib/python3.8/site-packages/numpy/core/_asarray.py:102: VisibleDeprecationWarning: Creating an ndarray from ragged nested sequences (which is a list-or-tuple of lists-or-tuples-or ndarrays with different lengths or shapes) is deprecated. If you meant to do this, you must specify 'dtype=object' when creating the ndarray.\n",
      "  return array(a, dtype, copy=False, order=order)\n"
     ]
    },
    {
     "name": "stdout",
     "output_type": "stream",
     "text": [
      "                                    \r"
     ]
    },
    {
     "name": "stderr",
     "output_type": "stream",
     "text": [
      "cptac warning: In joining the somatic_mutation table, no mutations were found for the following samples, so they were filled with Wildtype_Tumor or Wildtype_Normal: 44 samples for the TP53 gene (/home/sdsquires/anaconda3/lib/python3.8/site-packages/cptac/pancan/pancandataset.py, line 174)\n",
      "/home/sdsquires/anaconda3/lib/python3.8/site-packages/numpy/core/_asarray.py:102: VisibleDeprecationWarning: Creating an ndarray from ragged nested sequences (which is a list-or-tuple of lists-or-tuples-or ndarrays with different lengths or shapes) is deprecated. If you meant to do this, you must specify 'dtype=object' when creating the ndarray.\n",
      "  return array(a, dtype, copy=False, order=order)\n"
     ]
    },
    {
     "name": "stdout",
     "output_type": "stream",
     "text": [
      "                                      \r"
     ]
    },
    {
     "name": "stderr",
     "output_type": "stream",
     "text": [
      "cptac warning: In joining the somatic_mutation table, no mutations were found for the following samples, so they were filled with Wildtype_Tumor or Wildtype_Normal: 67 samples for the TP53 gene (/home/sdsquires/anaconda3/lib/python3.8/site-packages/cptac/pancan/pancandataset.py, line 174)\n",
      "/home/sdsquires/anaconda3/lib/python3.8/site-packages/numpy/core/_asarray.py:102: VisibleDeprecationWarning: Creating an ndarray from ragged nested sequences (which is a list-or-tuple of lists-or-tuples-or ndarrays with different lengths or shapes) is deprecated. If you meant to do this, you must specify 'dtype=object' when creating the ndarray.\n",
      "  return array(a, dtype, copy=False, order=order)\n"
     ]
    },
    {
     "name": "stdout",
     "output_type": "stream",
     "text": [
      "                                         \r"
     ]
    },
    {
     "name": "stderr",
     "output_type": "stream",
     "text": [
      "cptac warning: In joining the somatic_mutation table, no mutations were found for the following samples, so they were filled with Wildtype_Tumor or Wildtype_Normal: 14 samples for the TP53 gene (/home/sdsquires/anaconda3/lib/python3.8/site-packages/cptac/pancan/pancandataset.py, line 174)\n",
      "/home/sdsquires/anaconda3/lib/python3.8/site-packages/numpy/core/_asarray.py:102: VisibleDeprecationWarning: Creating an ndarray from ragged nested sequences (which is a list-or-tuple of lists-or-tuples-or ndarrays with different lengths or shapes) is deprecated. If you meant to do this, you must specify 'dtype=object' when creating the ndarray.\n",
      "  return array(a, dtype, copy=False, order=order)\n"
     ]
    },
    {
     "name": "stdout",
     "output_type": "stream",
     "text": [
      "                                        \r"
     ]
    },
    {
     "name": "stderr",
     "output_type": "stream",
     "text": [
      "cptac warning: In joining the somatic_mutation table, no mutations were found for the following samples, so they were filled with Wildtype_Tumor or Wildtype_Normal: 9 samples for the TP53 gene (/home/sdsquires/anaconda3/lib/python3.8/site-packages/cptac/pancan/pancandataset.py, line 174)\n",
      "/home/sdsquires/anaconda3/lib/python3.8/site-packages/numpy/core/_asarray.py:102: VisibleDeprecationWarning: Creating an ndarray from ragged nested sequences (which is a list-or-tuple of lists-or-tuples-or ndarrays with different lengths or shapes) is deprecated. If you meant to do this, you must specify 'dtype=object' when creating the ndarray.\n",
      "  return array(a, dtype, copy=False, order=order)\n"
     ]
    },
    {
     "name": "stdout",
     "output_type": "stream",
     "text": [
      "                                        \r"
     ]
    },
    {
     "name": "stderr",
     "output_type": "stream",
     "text": [
      "cptac warning: In joining the somatic_mutation table, no mutations were found for the following samples, so they were filled with Wildtype_Tumor or Wildtype_Normal: 50 samples for the TP53 gene (/home/sdsquires/anaconda3/lib/python3.8/site-packages/cptac/pancan/pancandataset.py, line 174)\n",
      "/home/sdsquires/anaconda3/lib/python3.8/site-packages/numpy/core/_asarray.py:102: VisibleDeprecationWarning: Creating an ndarray from ragged nested sequences (which is a list-or-tuple of lists-or-tuples-or ndarrays with different lengths or shapes) is deprecated. If you meant to do this, you must specify 'dtype=object' when creating the ndarray.\n",
      "  return array(a, dtype, copy=False, order=order)\n"
     ]
    },
    {
     "name": "stdout",
     "output_type": "stream",
     "text": [
      "Formatting harmonized dataframes...\r"
     ]
    },
    {
     "name": "stderr",
     "output_type": "stream",
     "text": [
      "cptac warning: In joining the somatic_mutation table, no mutations were found for the following samples, so they were filled with Wildtype_Tumor or Wildtype_Normal: 5 samples for the TP53 gene (/home/sdsquires/anaconda3/lib/python3.8/site-packages/cptac/pancan/pancandataset.py, line 174)\n",
      "/home/sdsquires/anaconda3/lib/python3.8/site-packages/numpy/core/_asarray.py:102: VisibleDeprecationWarning: Creating an ndarray from ragged nested sequences (which is a list-or-tuple of lists-or-tuples-or ndarrays with different lengths or shapes) is deprecated. If you meant to do this, you must specify 'dtype=object' when creating the ndarray.\n",
      "  return array(a, dtype, copy=False, order=order)\n"
     ]
    },
    {
     "name": "stdout",
     "output_type": "stream",
     "text": [
      "                                        \r"
     ]
    },
    {
     "name": "stderr",
     "output_type": "stream",
     "text": [
      "cptac warning: In joining the somatic_mutation table, no mutations were found for the following samples, so they were filled with Wildtype_Tumor or Wildtype_Normal: 73 samples for the TP53 gene (/home/sdsquires/anaconda3/lib/python3.8/site-packages/cptac/pancan/pancandataset.py, line 174)\n",
      "/home/sdsquires/anaconda3/lib/python3.8/site-packages/numpy/core/_asarray.py:102: VisibleDeprecationWarning: Creating an ndarray from ragged nested sequences (which is a list-or-tuple of lists-or-tuples-or ndarrays with different lengths or shapes) is deprecated. If you meant to do this, you must specify 'dtype=object' when creating the ndarray.\n",
      "  return array(a, dtype, copy=False, order=order)\n"
     ]
    },
    {
     "name": "stdout",
     "output_type": "stream",
     "text": [
      "                                        \r"
     ]
    },
    {
     "name": "stderr",
     "output_type": "stream",
     "text": [
      "cptac warning: In joining the somatic_mutation table, no mutations were found for the following samples, so they were filled with Wildtype_Tumor or Wildtype_Normal: 41 samples for the TP53 gene (/home/sdsquires/anaconda3/lib/python3.8/site-packages/cptac/pancan/pancandataset.py, line 174)\n",
      "/home/sdsquires/anaconda3/lib/python3.8/site-packages/numpy/core/_asarray.py:102: VisibleDeprecationWarning: Creating an ndarray from ragged nested sequences (which is a list-or-tuple of lists-or-tuples-or ndarrays with different lengths or shapes) is deprecated. If you meant to do this, you must specify 'dtype=object' when creating the ndarray.\n",
      "  return array(a, dtype, copy=False, order=order)\n"
     ]
    }
   ],
   "source": [
    "datasets = {}\n",
    "for name in dataset_names:\n",
    "    exec(f\"cancer = pc.{name}(no_internet = True)\")  \n",
    "    genotype_data = cancer.get_genotype_all_vars(mutations_genes = target_gene, omics_source = \"washu\")\n",
    "#     genotype_data = genotype_data.droplevel(\"Database_ID\", axis = 1)\n",
    "    \n",
    "    mutation_data = cancer.get_proteomics(source = 'umich')\n",
    "    mutation_data = mutation_data.droplevel(\"Database_ID\", axis = 1)\n",
    "    mutation_data = mutation_data.loc[:, [\"TP53\"]]\n",
    "    \n",
    "#     phospho_data = cancer.get_phosphoproteomics(omics_source = \"umich\", mutations_genes = target_gene, omics_genes = target_gene)\n",
    "#     phospho_data.loc[:, phospho_data.columns.get_level_values(0) == \"TP53\"].droplevel([\"Database_ID\", \"Peptide\"], axis = 1)\n",
    "    \n",
    "    transcript_data = cancer.get_transcriptomics(source = \"washu\")\n",
    "    transcript_data = transcript_data.droplevel(\"Database_ID\", axis = 1)\n",
    "    \n",
    "    datasets[name[6:]] = [genotype_data, mutation_data, transcript_data]    "
   ]
  },
  {
   "cell_type": "code",
   "execution_count": 13,
   "id": "9bfa5779",
   "metadata": {},
   "outputs": [],
   "source": [
    "#Cancers with more than 20% having deletions\n",
    "deletion_sets = [\"Brca\",\"Ccrcc\",\"Coad\",\"Luad\",\"Ov\",\"Pdac\"]"
   ]
  },
  {
   "cell_type": "code",
   "execution_count": 14,
   "id": "8292543a",
   "metadata": {},
   "outputs": [
    {
     "data": {
      "text/html": [
       "<div>\n",
       "<style scoped>\n",
       "    .dataframe tbody tr th:only-of-type {\n",
       "        vertical-align: middle;\n",
       "    }\n",
       "\n",
       "    .dataframe tbody tr th {\n",
       "        vertical-align: top;\n",
       "    }\n",
       "\n",
       "    .dataframe thead th {\n",
       "        text-align: right;\n",
       "    }\n",
       "</style>\n",
       "<table border=\"1\" class=\"dataframe\">\n",
       "  <thead>\n",
       "    <tr style=\"text-align: right;\">\n",
       "      <th>Name</th>\n",
       "      <th>TP53</th>\n",
       "    </tr>\n",
       "    <tr>\n",
       "      <th>Patient_ID</th>\n",
       "      <th></th>\n",
       "    </tr>\n",
       "  </thead>\n",
       "  <tbody>\n",
       "    <tr>\n",
       "      <th>C3L-00004</th>\n",
       "      <td>NaN</td>\n",
       "    </tr>\n",
       "    <tr>\n",
       "      <th>C3L-00010</th>\n",
       "      <td>NaN</td>\n",
       "    </tr>\n",
       "    <tr>\n",
       "      <th>C3L-00011</th>\n",
       "      <td>0.752436</td>\n",
       "    </tr>\n",
       "    <tr>\n",
       "      <th>C3L-00026</th>\n",
       "      <td>0.200561</td>\n",
       "    </tr>\n",
       "    <tr>\n",
       "      <th>C3L-00079</th>\n",
       "      <td>NaN</td>\n",
       "    </tr>\n",
       "    <tr>\n",
       "      <th>...</th>\n",
       "      <td>...</td>\n",
       "    </tr>\n",
       "    <tr>\n",
       "      <th>C3N-01646.N</th>\n",
       "      <td>NaN</td>\n",
       "    </tr>\n",
       "    <tr>\n",
       "      <th>C3N-01648.N</th>\n",
       "      <td>NaN</td>\n",
       "    </tr>\n",
       "    <tr>\n",
       "      <th>C3N-01649.N</th>\n",
       "      <td>-0.071430</td>\n",
       "    </tr>\n",
       "    <tr>\n",
       "      <th>C3N-01651.N</th>\n",
       "      <td>-0.194742</td>\n",
       "    </tr>\n",
       "    <tr>\n",
       "      <th>C3N-01808.N</th>\n",
       "      <td>-0.004054</td>\n",
       "    </tr>\n",
       "  </tbody>\n",
       "</table>\n",
       "<p>194 rows × 1 columns</p>\n",
       "</div>"
      ],
      "text/plain": [
       "Name             TP53\n",
       "Patient_ID           \n",
       "C3L-00004         NaN\n",
       "C3L-00010         NaN\n",
       "C3L-00011    0.752436\n",
       "C3L-00026    0.200561\n",
       "C3L-00079         NaN\n",
       "...               ...\n",
       "C3N-01646.N       NaN\n",
       "C3N-01648.N       NaN\n",
       "C3N-01649.N -0.071430\n",
       "C3N-01651.N -0.194742\n",
       "C3N-01808.N -0.004054\n",
       "\n",
       "[194 rows x 1 columns]"
      ]
     },
     "execution_count": 14,
     "metadata": {},
     "output_type": "execute_result"
    }
   ],
   "source": [
    "target_dataset = datasets[\"Ccrcc\"]\n",
    "target_dataset[2]\n",
    "# target_dataset[2].loc[target_dataset[\"Mutation\"] == \"Deletion\"]"
   ]
  },
  {
   "cell_type": "code",
   "execution_count": 7,
   "id": "8b6fec66",
   "metadata": {},
   "outputs": [
    {
     "data": {
      "text/html": [
       "<div>\n",
       "<style scoped>\n",
       "    .dataframe tbody tr th:only-of-type {\n",
       "        vertical-align: middle;\n",
       "    }\n",
       "\n",
       "    .dataframe tbody tr th {\n",
       "        vertical-align: top;\n",
       "    }\n",
       "\n",
       "    .dataframe thead th {\n",
       "        text-align: right;\n",
       "    }\n",
       "</style>\n",
       "<table border=\"1\" class=\"dataframe\">\n",
       "  <thead>\n",
       "    <tr style=\"text-align: right;\">\n",
       "      <th>Name</th>\n",
       "      <th>Mutation</th>\n",
       "      <th>Location</th>\n",
       "      <th>Mutation_Status</th>\n",
       "      <th>TP53</th>\n",
       "    </tr>\n",
       "    <tr>\n",
       "      <th>Patient_ID</th>\n",
       "      <th></th>\n",
       "      <th></th>\n",
       "      <th></th>\n",
       "      <th></th>\n",
       "    </tr>\n",
       "  </thead>\n",
       "  <tbody>\n",
       "    <tr>\n",
       "      <th>C3L-00011</th>\n",
       "      <td>Deletion</td>\n",
       "      <td>Deletion</td>\n",
       "      <td>Multiple_mutation</td>\n",
       "      <td>0.752436</td>\n",
       "    </tr>\n",
       "    <tr>\n",
       "      <th>C3L-00096</th>\n",
       "      <td>Deletion</td>\n",
       "      <td>Deletion</td>\n",
       "      <td>Single_mutation</td>\n",
       "      <td>NaN</td>\n",
       "    </tr>\n",
       "    <tr>\n",
       "      <th>C3L-01557</th>\n",
       "      <td>Deletion</td>\n",
       "      <td>Deletion</td>\n",
       "      <td>Multiple_mutation</td>\n",
       "      <td>NaN</td>\n",
       "    </tr>\n",
       "    <tr>\n",
       "      <th>C3N-00492</th>\n",
       "      <td>Deletion</td>\n",
       "      <td>Deletion</td>\n",
       "      <td>Multiple_mutation</td>\n",
       "      <td>1.423219</td>\n",
       "    </tr>\n",
       "    <tr>\n",
       "      <th>C3N-01175</th>\n",
       "      <td>Deletion</td>\n",
       "      <td>Deletion</td>\n",
       "      <td>Multiple_mutation</td>\n",
       "      <td>-0.231664</td>\n",
       "    </tr>\n",
       "  </tbody>\n",
       "</table>\n",
       "</div>"
      ],
      "text/plain": [
       "Name        Mutation  Location    Mutation_Status      TP53\n",
       "Patient_ID                                                 \n",
       "C3L-00011   Deletion  Deletion  Multiple_mutation  0.752436\n",
       "C3L-00096   Deletion  Deletion    Single_mutation       NaN\n",
       "C3L-01557   Deletion  Deletion  Multiple_mutation       NaN\n",
       "C3N-00492   Deletion  Deletion  Multiple_mutation  1.423219\n",
       "C3N-01175   Deletion  Deletion  Multiple_mutation -0.231664"
      ]
     },
     "execution_count": 7,
     "metadata": {},
     "output_type": "execute_result"
    }
   ],
   "source": [
    "genotype_and_prot = target_dataset[1].merge(target_dataset[2], left_index = True, right_index = True)\n",
    "genotype_and_prot.loc[genotype_and_prot[\"Mutation\"] == \"Deletion\"]"
   ]
  },
  {
   "cell_type": "code",
   "execution_count": 15,
   "id": "51e689a6",
   "metadata": {},
   "outputs": [],
   "source": [
    "with open(\"deletion_protein_data.txt\", 'w') as outFile:\n",
    "    for name, dataset in datasets.items():\n",
    "        if name not in deletion_sets: continue\n",
    "        outFile.write(name + '\\n')\n",
    "        genotype_and_prot = dataset[1].merge(dataset[2], left_index = True, right_index = True)\n",
    "        deletions = genotype_and_prot.loc[genotype_and_prot[\"Mutation\"] == \"Deletion\"][target_gene].dropna()\n",
    "        wildtypes = genotype_and_prot.loc[genotype_and_prot[\"Mutation\"] == \"Wildtype_Tumor\"][target_gene].dropna()\n",
    "        outFile.write(\"len(deletions) = \" + str(len(deletions)) + '\\n')\n",
    "        outFile.write(\"len(wildtypes) = \" + str(len(wildtypes)) + '\\n')\n",
    "        result = ttest_ind(deletions, wildtypes)\n",
    "        outFile.write(name + \" deletion P-value: \" + str(result[1]) + '\\n')\n",
    "        outFile.write(\"\\n\")\n",
    "        "
   ]
  },
  {
   "cell_type": "code",
   "execution_count": 11,
   "id": "6d8ca422",
   "metadata": {},
   "outputs": [
    {
     "name": "stdout",
     "output_type": "stream",
     "text": [
      "Luad\n",
      "len(missenses) = 21\n",
      "len(wildtypes) = 29\n",
      "Luad missense P-value: 0.000165611279181047\n",
      "\n",
      "\n",
      "Pdac\n",
      "len(missenses) = 28\n",
      "len(wildtypes) = 21\n",
      "Pdac missense P-value: 0.008603505603947332\n",
      "\n",
      "\n"
     ]
    }
   ],
   "source": [
    "#Cancers with more than 20% having Missense and Wildtype\n",
    "missense_sets = [\"Luad\", \"Pdac\"]\n",
    "for name, dataset in datasets.items():\n",
    "    if name not in missense_sets: continue\n",
    "    print(name)\n",
    "    genotype_and_prot = dataset[1].merge(dataset[2], left_index = True, right_index = True)\n",
    "    missenses = genotype_and_prot.loc[genotype_and_prot[\"Mutation\"] == \"Missense_Mutation\"][target_gene].dropna()\n",
    "    wildtypes = genotype_and_prot.loc[genotype_and_prot[\"Mutation\"] == \"Wildtype_Tumor\"][target_gene].dropna()\n",
    "    print(\"len(missenses) = \" + str(len(missenses)))\n",
    "    print(\"len(wildtypes) = \" + str(len(wildtypes)))\n",
    "    result = ttest_ind(deletions, wildtypes)\n",
    "    print(name + \" missense P-value: \" + str(result[1]))\n",
    "    print(\"\\n\")\n",
    "    \n",
    "# genotype_and_prot = datasets[\"Luad\"][1].merge(datasets[\"Luad\"][2], left_index = True, right_index = True)\n",
    "# genotype_and_prot[\"Mutation\"]\n",
    "# genotype_and_prot.loc[genotype_and_prot[\"Mutation\"] == \"Missense_Mutation\"]"
   ]
  },
  {
   "cell_type": "code",
   "execution_count": 12,
   "id": "14045a6d",
   "metadata": {},
   "outputs": [
    {
     "name": "stdout",
     "output_type": "stream",
     "text": [
      "Name                      A1BG               A1CF                A2M  \\\n",
      "Database_ID ENSG00000121410.10 ENSG00000148584.13 ENSG00000175899.13   \n",
      "Patient_ID                                                             \n",
      "01BR001               -0.07265           -0.00966           -0.11622   \n",
      "01BR008               -0.06644            0.11550            0.31413   \n",
      "01BR009                0.28468           -0.14743           -0.26372   \n",
      "01BR010                0.00370           -0.14666           -0.00332   \n",
      "01BR015                0.09610            0.13746            0.03751   \n",
      "...                        ...                ...                ...   \n",
      "21BR010                0.09361            0.01611           -0.28076   \n",
      "22BR005               -0.08688            0.14103            0.07224   \n",
      "22BR006               -0.12214           -0.01817           -0.08264   \n",
      "CPT000814             -0.28279            0.19699            0.78773   \n",
      "CPT001846             -0.33676            0.00001           -0.19285   \n",
      "\n",
      "Name                     A2ML1           A3GALT2             A4GALT  \\\n",
      "Database_ID ENSG00000166535.18 ENSG00000184389.9 ENSG00000128274.14   \n",
      "Patient_ID                                                            \n",
      "01BR001               -0.11622           0.81754           -0.01887   \n",
      "01BR008                0.31413           0.08417           -0.07571   \n",
      "01BR009               -0.26372          -0.13078            0.04398   \n",
      "01BR010               -0.00332           0.03008           -0.00940   \n",
      "01BR015                0.03751          -0.17893           -0.24742   \n",
      "...                        ...               ...                ...   \n",
      "21BR010               -0.28076           0.20480           -0.09252   \n",
      "22BR005                0.07224           0.19114            0.10595   \n",
      "22BR006               -0.08264           0.00284           -0.13574   \n",
      "CPT000814              0.78773           0.28838           -0.27609   \n",
      "CPT001846             -0.19285           0.22849            0.35858   \n",
      "\n",
      "Name                    A4GNT               AAAS               AACS  \\\n",
      "Database_ID ENSG00000118017.3 ENSG00000094914.11 ENSG00000081760.15   \n",
      "Patient_ID                                                            \n",
      "01BR001              -0.06602           -0.00563           -0.16064   \n",
      "01BR008              -0.09075           -0.02567           -0.02567   \n",
      "01BR009               0.26289           -0.22827           -0.17576   \n",
      "01BR010              -0.00744           -0.00332           -0.00332   \n",
      "01BR015               0.09962            0.12874           -0.21528   \n",
      "...                       ...                ...                ...   \n",
      "21BR010               0.14542           -0.07210           -0.27232   \n",
      "22BR005               0.04622            0.07224            0.07224   \n",
      "22BR006               0.16954           -0.08264           -0.08264   \n",
      "CPT000814             0.49232           -0.21862            0.26911   \n",
      "CPT001846            -0.23250           -0.19285           -0.19285   \n",
      "\n",
      "Name                     AADAC  ...              ZW10             ZWILCH  \\\n",
      "Database_ID ENSG00000114771.12  ... ENSG00000086827.7 ENSG00000174442.10   \n",
      "Patient_ID                      ...                                        \n",
      "01BR001               -0.06602  ...           0.01914           -0.26696   \n",
      "01BR008               -0.09075  ...          -0.04312            0.00988   \n",
      "01BR009                0.26289  ...          -0.15614           -0.15576   \n",
      "01BR010               -0.00744  ...           0.03900           -0.18501   \n",
      "01BR015                0.09962  ...          -0.20074           -0.23970   \n",
      "...                        ...  ...               ...                ...   \n",
      "21BR010                0.14542  ...          -0.21169           -0.05243   \n",
      "22BR005                0.04622  ...          -0.15844           -0.02987   \n",
      "22BR006                0.16954  ...          -0.00762            0.15528   \n",
      "CPT000814              0.49232  ...          -0.20654           -0.26420   \n",
      "CPT001846             -0.23250  ...           0.17642           -0.16877   \n",
      "\n",
      "Name                     ZWINT               ZXDC            ZYG11A  \\\n",
      "Database_ID ENSG00000122952.15 ENSG00000070476.13 ENSG00000203995.8   \n",
      "Patient_ID                                                            \n",
      "01BR001               -0.00966           -0.06602           0.13021   \n",
      "01BR008                0.11550           -0.09075           0.08417   \n",
      "01BR009               -0.14743            0.26289          -0.15498   \n",
      "01BR010               -0.14666           -0.00744           0.03008   \n",
      "01BR015                0.13746            0.09962           0.40474   \n",
      "...                        ...                ...               ...   \n",
      "21BR010                0.01611            0.14542           0.20480   \n",
      "22BR005                0.14103            0.11510          -0.10190   \n",
      "22BR006               -0.01817            0.16954           0.00284   \n",
      "CPT000814              0.19699            0.49232           0.23411   \n",
      "CPT001846              0.00001           -0.07372           0.22849   \n",
      "\n",
      "Name                    ZYG11B                ZYX              ZZEF1  \\\n",
      "Database_ID ENSG00000162378.11 ENSG00000159840.14 ENSG00000074755.13   \n",
      "Patient_ID                                                             \n",
      "01BR001                0.13021            0.05187            0.22080   \n",
      "01BR008                0.08417           -0.00576           -0.02004   \n",
      "01BR009               -0.15498            0.06942            0.34555   \n",
      "01BR010                0.03008           -0.03744           -0.14187   \n",
      "01BR015                0.40474           -0.27216           -0.18660   \n",
      "...                        ...                ...                ...   \n",
      "21BR010                0.20480            0.09074           -0.23205   \n",
      "22BR005               -0.10190           -0.14466           -0.10652   \n",
      "22BR006                0.00284            0.08096           -0.03947   \n",
      "CPT000814              0.23411           -0.36827           -0.13659   \n",
      "CPT001846              0.22849            0.58829           -0.10437   \n",
      "\n",
      "Name                      ZZZ3                 pk  \n",
      "Database_ID ENSG00000036549.11 ENSG00000091436.15  \n",
      "Patient_ID                                         \n",
      "01BR001               -0.09706            0.09183  \n",
      "01BR008                0.08417           -0.05192  \n",
      "01BR009               -0.15498            0.21653  \n",
      "01BR010                0.03008            0.14108  \n",
      "01BR015                0.40474           -0.23689  \n",
      "...                        ...                ...  \n",
      "21BR010                0.20480           -0.04792  \n",
      "22BR005                0.29626            0.12110  \n",
      "22BR006                0.00284           -0.05902  \n",
      "CPT000814              0.23411            0.12777  \n",
      "CPT001846              0.22849           -0.13963  \n",
      "\n",
      "[122 rows x 18926 columns]\n",
      "Name                 Mutation     Location    Mutation_Status\n",
      "Patient_ID                                                   \n",
      "01BR001     Missense_Mutation      p.R249N  Multiple_mutation\n",
      "01BR008     Missense_Mutation      p.Y220C    Single_mutation\n",
      "01BR009     Missense_Mutation      p.F270L  Multiple_mutation\n",
      "01BR010        Wildtype_Tumor  No_mutation     Wildtype_Tumor\n",
      "01BR015     Missense_Mutation      p.P278T    Single_mutation\n",
      "...                       ...          ...                ...\n",
      "22BR005     Nonsense_Mutation       p.W91*    Single_mutation\n",
      "22BR006        Wildtype_Tumor  No_mutation     Wildtype_Tumor\n",
      "604           Frame_Shift_Del     p.E204fs    Single_mutation\n",
      "CPT000814      Wildtype_Tumor  No_mutation     Wildtype_Tumor\n",
      "CPT001846      Wildtype_Tumor  No_mutation     Wildtype_Tumor\n",
      "\n",
      "[124 rows x 3 columns]\n",
      "Name            TP53\n",
      "Patient_ID          \n",
      "01BR001     0.699109\n",
      "01BR008     0.635106\n",
      "01BR009     0.817050\n",
      "01BR010    -1.168920\n",
      "01BR015    -1.101540\n",
      "...              ...\n",
      "21BR010    -1.613442\n",
      "22BR005    -1.102900\n",
      "22BR006    -1.935436\n",
      "CPT000814   1.123524\n",
      "CPT001846  -0.191796\n",
      "\n",
      "[125 rows x 1 columns]\n",
      "Name        5S_rRNA  5S_rRNA  5S_rRNA   5S_rRNA  5S_rRNA  5S_rRNA  5S_rRNA  \\\n",
      "Patient_ID                                                                   \n",
      "01BR001         0.0      0.0      0.0  1.756644      0.0      0.0      0.0   \n",
      "01BR008         0.0      0.0      0.0  1.783371      0.0      0.0      0.0   \n",
      "01BR009         0.0      0.0      0.0  0.000000      0.0      0.0      0.0   \n",
      "01BR010         0.0      0.0      0.0  2.023434      0.0      0.0      0.0   \n",
      "01BR015         0.0      0.0      0.0  0.000000      0.0      0.0      0.0   \n",
      "...             ...      ...      ...       ...      ...      ...      ...   \n",
      "21BR010         0.0      0.0      0.0  1.988271      0.0      0.0      0.0   \n",
      "22BR005         0.0      0.0      0.0  1.122470      0.0      0.0      0.0   \n",
      "22BR006         0.0      0.0      0.0  1.939708      0.0      0.0      0.0   \n",
      "CPT000814       0.0      0.0      0.0  1.159214      0.0      0.0      0.0   \n",
      "CPT001846       0.0      0.0      0.0  0.843032      0.0      0.0      0.0   \n",
      "\n",
      "Name        5S_rRNA  5S_rRNA   5S_rRNA  ...  uc_338  uc_338  uc_338    uc_338  \\\n",
      "Patient_ID                              ...                                     \n",
      "01BR001         0.0      0.0  0.000000  ...     0.0     0.0     0.0  0.238985   \n",
      "01BR008         0.0      0.0  0.000000  ...     0.0     0.0     0.0  0.000000   \n",
      "01BR009         0.0      0.0  0.732229  ...     0.0     0.0     0.0  0.263943   \n",
      "01BR010         0.0      0.0  0.000000  ...     0.0     0.0     0.0  0.229401   \n",
      "01BR015         0.0      0.0  0.000000  ...     0.0     0.0     0.0  0.248619   \n",
      "...             ...      ...       ...  ...     ...     ...     ...       ...   \n",
      "21BR010         0.0      0.0  0.000000  ...     0.0     0.0     0.0  0.270497   \n",
      "22BR005         0.0      0.0  0.000000  ...     0.0     0.0     0.0  0.509027   \n",
      "22BR006         0.0      0.0  0.000000  ...     0.0     0.0     0.0  2.111125   \n",
      "CPT000814       0.0      0.0  0.000000  ...     0.0     0.0     0.0  0.000000   \n",
      "CPT001846       0.0      0.0  0.000000  ...     0.0     0.0     0.0  0.000000   \n",
      "\n",
      "Name        uc_338  uc_338    uc_338  uc_338  uc_338  yR211F11.2  \n",
      "Patient_ID                                                        \n",
      "01BR001        0.0     0.0  0.000000     0.0     0.0    0.000000  \n",
      "01BR008        0.0     0.0  0.000000     0.0     0.0    0.000000  \n",
      "01BR009        0.0     0.0  0.000000     0.0     0.0    0.156545  \n",
      "01BR010        0.0     0.0  0.242067     0.0     0.0    0.068029  \n",
      "01BR015        0.0     0.0  0.000000     0.0     0.0    0.000000  \n",
      "...            ...     ...       ...     ...     ...         ...  \n",
      "21BR010        0.0     0.0  0.000000     0.0     0.0    0.000000  \n",
      "22BR005        0.0     0.0  0.000000     0.0     0.0    0.075476  \n",
      "22BR006        0.0     0.0  0.000000     0.0     0.0    0.000000  \n",
      "CPT000814      0.0     0.0  0.000000     0.0     0.0    0.000000  \n",
      "CPT001846      0.0     0.0  0.000000     0.0     0.0    0.226747  \n",
      "\n",
      "[121 rows x 60483 columns]\n"
     ]
    }
   ],
   "source": [
    "for thing in datasets[\"Brca\"]:\n",
    "    print(thing)"
   ]
  },
  {
   "cell_type": "code",
   "execution_count": null,
   "id": "6aac2474",
   "metadata": {},
   "outputs": [],
   "source": []
  },
  {
   "cell_type": "code",
   "execution_count": null,
   "id": "b1daf485",
   "metadata": {},
   "outputs": [],
   "source": []
  },
  {
   "cell_type": "code",
   "execution_count": null,
   "id": "44c4801b",
   "metadata": {},
   "outputs": [],
   "source": []
  },
  {
   "cell_type": "code",
   "execution_count": null,
   "id": "b9fd7f56",
   "metadata": {},
   "outputs": [],
   "source": []
  }
 ],
 "metadata": {
  "kernelspec": {
   "display_name": "Python 3",
   "language": "python",
   "name": "python3"
  },
  "language_info": {
   "codemirror_mode": {
    "name": "ipython",
    "version": 3
   },
   "file_extension": ".py",
   "mimetype": "text/x-python",
   "name": "python",
   "nbconvert_exporter": "python",
   "pygments_lexer": "ipython3",
   "version": "3.8.8"
  }
 },
 "nbformat": 4,
 "nbformat_minor": 5
}
