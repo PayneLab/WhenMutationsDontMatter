{
 "cells": [
  {
   "cell_type": "code",
   "execution_count": 5,
   "id": "270a1670",
   "metadata": {},
   "outputs": [],
   "source": [
    "import cptac\n",
    "import cptac.pancan as pc\n",
    "import numpy as np\n"
   ]
  },
  {
   "cell_type": "code",
   "execution_count": 6,
   "id": "77257c34",
   "metadata": {},
   "outputs": [
    {
     "name": "stdout",
     "output_type": "stream",
     "text": [
      "PancanBrca\n",
      "PancanCcrcc\n",
      "PancanCoad\n",
      "PancanGbm\n",
      "PancanHnscc\n",
      "PancanLscc\n",
      "PancanLuad\n",
      "PancanOv\n",
      "PancanUcec\n",
      "PancanPdac\n"
     ]
    }
   ],
   "source": [
    "pc.list_datasets()"
   ]
  },
  {
   "cell_type": "code",
   "execution_count": 9,
   "id": "d4c92f97",
   "metadata": {},
   "outputs": [
    {
     "name": "stdout",
     "output_type": "stream",
     "text": [
      "                                    \r"
     ]
    }
   ],
   "source": [
    "pbr = pc.PancanBrca(no_internet=True)"
   ]
  },
  {
   "cell_type": "code",
   "execution_count": 11,
   "id": "fc2afea8",
   "metadata": {},
   "outputs": [
    {
     "name": "stdout",
     "output_type": "stream",
     "text": [
      "                                         \r"
     ]
    }
   ],
   "source": [
    "pcr = pc.PancanCcrcc(no_internet=True)"
   ]
  },
  {
   "cell_type": "code",
   "execution_count": 12,
   "id": "5e5a9171",
   "metadata": {},
   "outputs": [
    {
     "name": "stdout",
     "output_type": "stream",
     "text": [
      "                                    \r"
     ]
    }
   ],
   "source": [
    "pco = pc.PancanCoad(no_internet=True)"
   ]
  },
  {
   "cell_type": "code",
   "execution_count": 13,
   "id": "d49e5018",
   "metadata": {},
   "outputs": [
    {
     "name": "stdout",
     "output_type": "stream",
     "text": [
      "                                      \r"
     ]
    }
   ],
   "source": [
    "pgb = pc.PancanGbm(no_internet=True)"
   ]
  },
  {
   "cell_type": "code",
   "execution_count": 14,
   "id": "a58251d8",
   "metadata": {},
   "outputs": [
    {
     "name": "stdout",
     "output_type": "stream",
     "text": [
      "                                         \r"
     ]
    }
   ],
   "source": [
    "phn = pc.PancanHnscc(no_internet=True)"
   ]
  },
  {
   "cell_type": "code",
   "execution_count": 17,
   "id": "ab939c93",
   "metadata": {},
   "outputs": [
    {
     "name": "stdout",
     "output_type": "stream",
     "text": [
      "                                        \r"
     ]
    }
   ],
   "source": [
    "pls = pc.PancanLscc(no_internet=True)"
   ]
  },
  {
   "cell_type": "code",
   "execution_count": null,
   "id": "eb338f95",
   "metadata": {},
   "outputs": [
    {
     "name": "stdout",
     "output_type": "stream",
     "text": [
      "Loading washuluad v1.0..........  \r"
     ]
    }
   ],
   "source": [
    "plu = pc.PancanLuad(no_internet=True)"
   ]
  },
  {
   "cell_type": "code",
   "execution_count": null,
   "id": "21ece64d",
   "metadata": {},
   "outputs": [],
   "source": [
    "pov = pc.PancanOv(no_internet=True)"
   ]
  },
  {
   "cell_type": "code",
   "execution_count": null,
   "id": "4e0885ff",
   "metadata": {},
   "outputs": [],
   "source": [
    "puc = pc.PancanUcec(no_internet=True) #Uterine Corpus Endometrial Carcinoma"
   ]
  },
  {
   "cell_type": "code",
   "execution_count": null,
   "id": "d326a6b4",
   "metadata": {},
   "outputs": [],
   "source": [
    "ppd = pc.PancanPdac(no_internet=True) #Pancreatic ductal adenocarcinoma"
   ]
  },
  {
   "cell_type": "code",
   "execution_count": null,
   "id": "af762c6f",
   "metadata": {},
   "outputs": [],
   "source": [
    "datasets = {\n",
    "    \"pbr\": pbr,\n",
    "    \"pcr\": pcr,\n",
    "    \"pco\": pco,\n",
    "    \"pgb\": pgb,\n",
    "    \"phn\": phn,\n",
    "    \"pls\": pls,\n",
    "    \"plu\", plu,\n",
    "    \"pov\", pov,\n",
    "    \"puc\", puc,\n",
    "    \"ppd\", ppd\n",
    "}"
   ]
  },
  {
   "cell_type": "code",
   "execution_count": null,
   "id": "afe0848d",
   "metadata": {},
   "outputs": [],
   "source": [
    "target_gene = \"TP53\""
   ]
  },
  {
   "cell_type": "code",
   "execution_count": null,
   "id": "a3d6deda",
   "metadata": {},
   "outputs": [],
   "source": [
    "mutations_list = [variant.get_genotype_all_vars(mutations_gene = target_gene, omics_source = \"washu\") for variant in datasets]"
   ]
  },
  {
   "cell_type": "code",
   "execution_count": null,
   "id": "394f082b",
   "metadata": {},
   "outputs": [],
   "source": []
  }
 ],
 "metadata": {
  "kernelspec": {
   "display_name": "Python 3",
   "language": "python",
   "name": "python3"
  },
  "language_info": {
   "codemirror_mode": {
    "name": "ipython",
    "version": 3
   },
   "file_extension": ".py",
   "mimetype": "text/x-python",
   "name": "python",
   "nbconvert_exporter": "python",
   "pygments_lexer": "ipython3",
   "version": "3.8.8"
  }
 },
 "nbformat": 4,
 "nbformat_minor": 5
}
