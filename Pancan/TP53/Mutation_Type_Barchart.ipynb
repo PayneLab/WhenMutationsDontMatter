{
 "cells": [
  {
   "cell_type": "code",
   "execution_count": 2,
   "id": "270a1670",
   "metadata": {},
   "outputs": [],
   "source": [
    "import cptac\n",
    "import cptac.pancan as pc\n",
    "import numpy as np\n",
    "import cptac.utils as ut\n",
    "import plot_utils as plt"
   ]
  },
  {
   "cell_type": "code",
   "execution_count": 2,
   "id": "77257c34",
   "metadata": {},
   "outputs": [
    {
     "name": "stdout",
     "output_type": "stream",
     "text": [
      "PancanBrca\n",
      "PancanCcrcc\n",
      "PancanCoad\n",
      "PancanGbm\n",
      "PancanHnscc\n",
      "PancanLscc\n",
      "PancanLuad\n",
      "PancanOv\n",
      "PancanUcec\n",
      "PancanPdac\n"
     ]
    }
   ],
   "source": [
    "pc.list_datasets()"
   ]
  },
  {
   "cell_type": "code",
   "execution_count": 3,
   "id": "3d05b4ed",
   "metadata": {},
   "outputs": [],
   "source": [
    "target_gene = \"TP53\""
   ]
  },
  {
   "cell_type": "code",
   "execution_count": 4,
   "id": "d4c92f97",
   "metadata": {},
   "outputs": [
    {
     "name": "stdout",
     "output_type": "stream",
     "text": [
      "                                    \r"
     ]
    },
    {
     "name": "stderr",
     "output_type": "stream",
     "text": [
      "cptac warning: In joining the somatic_mutation table, no mutations were found for the following samples, so they were filled with Wildtype_Tumor or Wildtype_Normal: 68 samples for the TP53 gene (/home/sdsquires/anaconda3/lib/python3.8/site-packages/cptac/pancan/pancandataset.py, line 174)\n",
      "cptac warning: washu_CNV data was not found for the following samples, so washu_CNV data columns were filled with NaN for these samples: 01BR044, 604 (/home/sdsquires/anaconda3/lib/python3.8/site-packages/cptac/pancan/pancandataset.py, line 174)\n",
      "/home/sdsquires/anaconda3/lib/python3.8/site-packages/numpy/core/_asarray.py:102: VisibleDeprecationWarning: Creating an ndarray from ragged nested sequences (which is a list-or-tuple of lists-or-tuples-or ndarrays with different lengths or shapes) is deprecated. If you meant to do this, you must specify 'dtype=object' when creating the ndarray.\n",
      "  return array(a, dtype, copy=False, order=order)\n"
     ]
    },
    {
     "data": {
      "text/html": [
       "<div>\n",
       "<style scoped>\n",
       "    .dataframe tbody tr th:only-of-type {\n",
       "        vertical-align: middle;\n",
       "    }\n",
       "\n",
       "    .dataframe tbody tr th {\n",
       "        vertical-align: top;\n",
       "    }\n",
       "\n",
       "    .dataframe thead th {\n",
       "        text-align: right;\n",
       "    }\n",
       "</style>\n",
       "<table border=\"1\" class=\"dataframe\">\n",
       "  <thead>\n",
       "    <tr style=\"text-align: right;\">\n",
       "      <th>Name</th>\n",
       "      <th>Mutation</th>\n",
       "      <th>Location</th>\n",
       "      <th>Mutation_Status</th>\n",
       "    </tr>\n",
       "    <tr>\n",
       "      <th>Patient_ID</th>\n",
       "      <th></th>\n",
       "      <th></th>\n",
       "      <th></th>\n",
       "    </tr>\n",
       "  </thead>\n",
       "  <tbody>\n",
       "    <tr>\n",
       "      <th>01BR001</th>\n",
       "      <td>Missense_Mutation</td>\n",
       "      <td>p.R249N</td>\n",
       "      <td>Multiple_mutation</td>\n",
       "    </tr>\n",
       "    <tr>\n",
       "      <th>01BR008</th>\n",
       "      <td>Missense_Mutation</td>\n",
       "      <td>p.Y220C</td>\n",
       "      <td>Single_mutation</td>\n",
       "    </tr>\n",
       "    <tr>\n",
       "      <th>01BR009</th>\n",
       "      <td>Missense_Mutation</td>\n",
       "      <td>p.F270L</td>\n",
       "      <td>Multiple_mutation</td>\n",
       "    </tr>\n",
       "    <tr>\n",
       "      <th>01BR010</th>\n",
       "      <td>Wildtype_Tumor</td>\n",
       "      <td>No_mutation</td>\n",
       "      <td>Wildtype_Tumor</td>\n",
       "    </tr>\n",
       "    <tr>\n",
       "      <th>01BR015</th>\n",
       "      <td>Missense_Mutation</td>\n",
       "      <td>p.P278T</td>\n",
       "      <td>Single_mutation</td>\n",
       "    </tr>\n",
       "    <tr>\n",
       "      <th>...</th>\n",
       "      <td>...</td>\n",
       "      <td>...</td>\n",
       "      <td>...</td>\n",
       "    </tr>\n",
       "    <tr>\n",
       "      <th>22BR005</th>\n",
       "      <td>Nonsense_Mutation</td>\n",
       "      <td>p.W91*</td>\n",
       "      <td>Single_mutation</td>\n",
       "    </tr>\n",
       "    <tr>\n",
       "      <th>22BR006</th>\n",
       "      <td>Wildtype_Tumor</td>\n",
       "      <td>No_mutation</td>\n",
       "      <td>Wildtype_Tumor</td>\n",
       "    </tr>\n",
       "    <tr>\n",
       "      <th>604</th>\n",
       "      <td>Frame_Shift_Del</td>\n",
       "      <td>p.E204fs</td>\n",
       "      <td>Single_mutation</td>\n",
       "    </tr>\n",
       "    <tr>\n",
       "      <th>CPT000814</th>\n",
       "      <td>Wildtype_Tumor</td>\n",
       "      <td>No_mutation</td>\n",
       "      <td>Wildtype_Tumor</td>\n",
       "    </tr>\n",
       "    <tr>\n",
       "      <th>CPT001846</th>\n",
       "      <td>Wildtype_Tumor</td>\n",
       "      <td>No_mutation</td>\n",
       "      <td>Wildtype_Tumor</td>\n",
       "    </tr>\n",
       "  </tbody>\n",
       "</table>\n",
       "<p>124 rows × 3 columns</p>\n",
       "</div>"
      ],
      "text/plain": [
       "Name                 Mutation     Location    Mutation_Status\n",
       "Patient_ID                                                   \n",
       "01BR001     Missense_Mutation      p.R249N  Multiple_mutation\n",
       "01BR008     Missense_Mutation      p.Y220C    Single_mutation\n",
       "01BR009     Missense_Mutation      p.F270L  Multiple_mutation\n",
       "01BR010        Wildtype_Tumor  No_mutation     Wildtype_Tumor\n",
       "01BR015     Missense_Mutation      p.P278T    Single_mutation\n",
       "...                       ...          ...                ...\n",
       "22BR005     Nonsense_Mutation       p.W91*    Single_mutation\n",
       "22BR006        Wildtype_Tumor  No_mutation     Wildtype_Tumor\n",
       "604           Frame_Shift_Del     p.E204fs    Single_mutation\n",
       "CPT000814      Wildtype_Tumor  No_mutation     Wildtype_Tumor\n",
       "CPT001846      Wildtype_Tumor  No_mutation     Wildtype_Tumor\n",
       "\n",
       "[124 rows x 3 columns]"
      ]
     },
     "execution_count": 4,
     "metadata": {},
     "output_type": "execute_result"
    }
   ],
   "source": [
    "pbr = pc.PancanBrca(no_internet=True).get_genotype_all_vars(mutations_genes = target_gene, omics_source = \"washu\")\n",
    "pbr"
   ]
  },
  {
   "cell_type": "code",
   "execution_count": 5,
   "id": "fc2afea8",
   "metadata": {},
   "outputs": [
    {
     "name": "stdout",
     "output_type": "stream",
     "text": [
      "                                         \r"
     ]
    },
    {
     "name": "stderr",
     "output_type": "stream",
     "text": [
      "cptac warning: In joining the somatic_mutation table, no mutations were found for the following samples, so they were filled with Wildtype_Tumor or Wildtype_Normal: 104 samples for the TP53 gene (/home/sdsquires/anaconda3/lib/python3.8/site-packages/cptac/pancan/pancandataset.py, line 174)\n",
      "/home/sdsquires/anaconda3/lib/python3.8/site-packages/numpy/core/_asarray.py:102: VisibleDeprecationWarning: Creating an ndarray from ragged nested sequences (which is a list-or-tuple of lists-or-tuples-or ndarrays with different lengths or shapes) is deprecated. If you meant to do this, you must specify 'dtype=object' when creating the ndarray.\n",
      "  return array(a, dtype, copy=False, order=order)\n"
     ]
    },
    {
     "data": {
      "text/html": [
       "<div>\n",
       "<style scoped>\n",
       "    .dataframe tbody tr th:only-of-type {\n",
       "        vertical-align: middle;\n",
       "    }\n",
       "\n",
       "    .dataframe tbody tr th {\n",
       "        vertical-align: top;\n",
       "    }\n",
       "\n",
       "    .dataframe thead th {\n",
       "        text-align: right;\n",
       "    }\n",
       "</style>\n",
       "<table border=\"1\" class=\"dataframe\">\n",
       "  <thead>\n",
       "    <tr style=\"text-align: right;\">\n",
       "      <th>Name</th>\n",
       "      <th>Mutation</th>\n",
       "      <th>Location</th>\n",
       "      <th>Mutation_Status</th>\n",
       "    </tr>\n",
       "    <tr>\n",
       "      <th>Patient_ID</th>\n",
       "      <th></th>\n",
       "      <th></th>\n",
       "      <th></th>\n",
       "    </tr>\n",
       "  </thead>\n",
       "  <tbody>\n",
       "    <tr>\n",
       "      <th>C3L-00004</th>\n",
       "      <td>Wildtype_Tumor</td>\n",
       "      <td>No_mutation</td>\n",
       "      <td>Wildtype_Tumor</td>\n",
       "    </tr>\n",
       "    <tr>\n",
       "      <th>C3L-00010</th>\n",
       "      <td>Wildtype_Tumor</td>\n",
       "      <td>No_mutation</td>\n",
       "      <td>Wildtype_Tumor</td>\n",
       "    </tr>\n",
       "    <tr>\n",
       "      <th>C3L-00011</th>\n",
       "      <td>Deletion</td>\n",
       "      <td>Deletion</td>\n",
       "      <td>Multiple_mutation</td>\n",
       "    </tr>\n",
       "    <tr>\n",
       "      <th>C3L-00026</th>\n",
       "      <td>Wildtype_Tumor</td>\n",
       "      <td>No_mutation</td>\n",
       "      <td>Wildtype_Tumor</td>\n",
       "    </tr>\n",
       "    <tr>\n",
       "      <th>C3L-00079</th>\n",
       "      <td>Wildtype_Tumor</td>\n",
       "      <td>No_mutation</td>\n",
       "      <td>Wildtype_Tumor</td>\n",
       "    </tr>\n",
       "    <tr>\n",
       "      <th>...</th>\n",
       "      <td>...</td>\n",
       "      <td>...</td>\n",
       "      <td>...</td>\n",
       "    </tr>\n",
       "    <tr>\n",
       "      <th>C3N-01646</th>\n",
       "      <td>Wildtype_Tumor</td>\n",
       "      <td>No_mutation</td>\n",
       "      <td>Wildtype_Tumor</td>\n",
       "    </tr>\n",
       "    <tr>\n",
       "      <th>C3N-01648</th>\n",
       "      <td>Wildtype_Tumor</td>\n",
       "      <td>No_mutation</td>\n",
       "      <td>Wildtype_Tumor</td>\n",
       "    </tr>\n",
       "    <tr>\n",
       "      <th>C3N-01649</th>\n",
       "      <td>Wildtype_Tumor</td>\n",
       "      <td>No_mutation</td>\n",
       "      <td>Wildtype_Tumor</td>\n",
       "    </tr>\n",
       "    <tr>\n",
       "      <th>C3N-01651</th>\n",
       "      <td>Wildtype_Tumor</td>\n",
       "      <td>No_mutation</td>\n",
       "      <td>Wildtype_Tumor</td>\n",
       "    </tr>\n",
       "    <tr>\n",
       "      <th>C3N-01808</th>\n",
       "      <td>Wildtype_Tumor</td>\n",
       "      <td>No_mutation</td>\n",
       "      <td>Wildtype_Tumor</td>\n",
       "    </tr>\n",
       "  </tbody>\n",
       "</table>\n",
       "<p>110 rows × 3 columns</p>\n",
       "</div>"
      ],
      "text/plain": [
       "Name              Mutation     Location    Mutation_Status\n",
       "Patient_ID                                                \n",
       "C3L-00004   Wildtype_Tumor  No_mutation     Wildtype_Tumor\n",
       "C3L-00010   Wildtype_Tumor  No_mutation     Wildtype_Tumor\n",
       "C3L-00011         Deletion     Deletion  Multiple_mutation\n",
       "C3L-00026   Wildtype_Tumor  No_mutation     Wildtype_Tumor\n",
       "C3L-00079   Wildtype_Tumor  No_mutation     Wildtype_Tumor\n",
       "...                    ...          ...                ...\n",
       "C3N-01646   Wildtype_Tumor  No_mutation     Wildtype_Tumor\n",
       "C3N-01648   Wildtype_Tumor  No_mutation     Wildtype_Tumor\n",
       "C3N-01649   Wildtype_Tumor  No_mutation     Wildtype_Tumor\n",
       "C3N-01651   Wildtype_Tumor  No_mutation     Wildtype_Tumor\n",
       "C3N-01808   Wildtype_Tumor  No_mutation     Wildtype_Tumor\n",
       "\n",
       "[110 rows x 3 columns]"
      ]
     },
     "execution_count": 5,
     "metadata": {},
     "output_type": "execute_result"
    }
   ],
   "source": [
    "pcr = pc.PancanCcrcc(no_internet=True).get_genotype_all_vars(mutations_genes = target_gene, omics_source = \"washu\")\n",
    "pcr"
   ]
  },
  {
   "cell_type": "code",
   "execution_count": 6,
   "id": "5e5a9171",
   "metadata": {},
   "outputs": [
    {
     "name": "stdout",
     "output_type": "stream",
     "text": [
      "                                    \r"
     ]
    },
    {
     "name": "stderr",
     "output_type": "stream",
     "text": [
      "cptac warning: In joining the somatic_mutation table, no mutations were found for the following samples, so they were filled with Wildtype_Tumor or Wildtype_Normal: 44 samples for the TP53 gene (/home/sdsquires/anaconda3/lib/python3.8/site-packages/cptac/pancan/pancandataset.py, line 174)\n",
      "/home/sdsquires/anaconda3/lib/python3.8/site-packages/numpy/core/_asarray.py:102: VisibleDeprecationWarning: Creating an ndarray from ragged nested sequences (which is a list-or-tuple of lists-or-tuples-or ndarrays with different lengths or shapes) is deprecated. If you meant to do this, you must specify 'dtype=object' when creating the ndarray.\n",
      "  return array(a, dtype, copy=False, order=order)\n"
     ]
    },
    {
     "data": {
      "text/html": [
       "<div>\n",
       "<style scoped>\n",
       "    .dataframe tbody tr th:only-of-type {\n",
       "        vertical-align: middle;\n",
       "    }\n",
       "\n",
       "    .dataframe tbody tr th {\n",
       "        vertical-align: top;\n",
       "    }\n",
       "\n",
       "    .dataframe thead th {\n",
       "        text-align: right;\n",
       "    }\n",
       "</style>\n",
       "<table border=\"1\" class=\"dataframe\">\n",
       "  <thead>\n",
       "    <tr style=\"text-align: right;\">\n",
       "      <th>Name</th>\n",
       "      <th>Mutation</th>\n",
       "      <th>Location</th>\n",
       "      <th>Mutation_Status</th>\n",
       "    </tr>\n",
       "    <tr>\n",
       "      <th>Patient_ID</th>\n",
       "      <th></th>\n",
       "      <th></th>\n",
       "      <th></th>\n",
       "    </tr>\n",
       "  </thead>\n",
       "  <tbody>\n",
       "    <tr>\n",
       "      <th>01CO001</th>\n",
       "      <td>Wildtype_Tumor</td>\n",
       "      <td>No_mutation</td>\n",
       "      <td>Wildtype_Tumor</td>\n",
       "    </tr>\n",
       "    <tr>\n",
       "      <th>01CO005</th>\n",
       "      <td>Frame_Shift_Ins</td>\n",
       "      <td>p.E326fs</td>\n",
       "      <td>Single_mutation</td>\n",
       "    </tr>\n",
       "    <tr>\n",
       "      <th>01CO006</th>\n",
       "      <td>Wildtype_Tumor</td>\n",
       "      <td>No_mutation</td>\n",
       "      <td>Wildtype_Tumor</td>\n",
       "    </tr>\n",
       "    <tr>\n",
       "      <th>01CO008</th>\n",
       "      <td>Wildtype_Tumor</td>\n",
       "      <td>No_mutation</td>\n",
       "      <td>Wildtype_Tumor</td>\n",
       "    </tr>\n",
       "    <tr>\n",
       "      <th>01CO013</th>\n",
       "      <td>Deletion</td>\n",
       "      <td>Deletion</td>\n",
       "      <td>Multiple_mutation</td>\n",
       "    </tr>\n",
       "    <tr>\n",
       "      <th>...</th>\n",
       "      <td>...</td>\n",
       "      <td>...</td>\n",
       "      <td>...</td>\n",
       "    </tr>\n",
       "    <tr>\n",
       "      <th>21CO007</th>\n",
       "      <td>Missense_Mutation</td>\n",
       "      <td>p.R282W</td>\n",
       "      <td>Multiple_mutation</td>\n",
       "    </tr>\n",
       "    <tr>\n",
       "      <th>22CO004</th>\n",
       "      <td>Deletion</td>\n",
       "      <td>Deletion</td>\n",
       "      <td>Multiple_mutation</td>\n",
       "    </tr>\n",
       "    <tr>\n",
       "      <th>22CO006</th>\n",
       "      <td>Wildtype_Tumor</td>\n",
       "      <td>No_mutation</td>\n",
       "      <td>Wildtype_Tumor</td>\n",
       "    </tr>\n",
       "    <tr>\n",
       "      <th>24CO005</th>\n",
       "      <td>Deletion</td>\n",
       "      <td>Deletion</td>\n",
       "      <td>Single_mutation</td>\n",
       "    </tr>\n",
       "    <tr>\n",
       "      <th>27CO004</th>\n",
       "      <td>Deletion</td>\n",
       "      <td>Deletion</td>\n",
       "      <td>Multiple_mutation</td>\n",
       "    </tr>\n",
       "  </tbody>\n",
       "</table>\n",
       "<p>106 rows × 3 columns</p>\n",
       "</div>"
      ],
      "text/plain": [
       "Name                 Mutation     Location    Mutation_Status\n",
       "Patient_ID                                                   \n",
       "01CO001        Wildtype_Tumor  No_mutation     Wildtype_Tumor\n",
       "01CO005       Frame_Shift_Ins     p.E326fs    Single_mutation\n",
       "01CO006        Wildtype_Tumor  No_mutation     Wildtype_Tumor\n",
       "01CO008        Wildtype_Tumor  No_mutation     Wildtype_Tumor\n",
       "01CO013              Deletion     Deletion  Multiple_mutation\n",
       "...                       ...          ...                ...\n",
       "21CO007     Missense_Mutation      p.R282W  Multiple_mutation\n",
       "22CO004              Deletion     Deletion  Multiple_mutation\n",
       "22CO006        Wildtype_Tumor  No_mutation     Wildtype_Tumor\n",
       "24CO005              Deletion     Deletion    Single_mutation\n",
       "27CO004              Deletion     Deletion  Multiple_mutation\n",
       "\n",
       "[106 rows x 3 columns]"
      ]
     },
     "execution_count": 6,
     "metadata": {},
     "output_type": "execute_result"
    }
   ],
   "source": [
    "pco = pc.PancanCoad(no_internet=True).get_genotype_all_vars(mutations_genes = target_gene, omics_source = \"washu\")\n",
    "pco"
   ]
  },
  {
   "cell_type": "code",
   "execution_count": 7,
   "id": "d49e5018",
   "metadata": {},
   "outputs": [
    {
     "name": "stdout",
     "output_type": "stream",
     "text": [
      "                                      \r"
     ]
    },
    {
     "name": "stderr",
     "output_type": "stream",
     "text": [
      "cptac warning: In joining the somatic_mutation table, no mutations were found for the following samples, so they were filled with Wildtype_Tumor or Wildtype_Normal: 67 samples for the TP53 gene (/home/sdsquires/anaconda3/lib/python3.8/site-packages/cptac/pancan/pancandataset.py, line 174)\n",
      "/home/sdsquires/anaconda3/lib/python3.8/site-packages/numpy/core/_asarray.py:102: VisibleDeprecationWarning: Creating an ndarray from ragged nested sequences (which is a list-or-tuple of lists-or-tuples-or ndarrays with different lengths or shapes) is deprecated. If you meant to do this, you must specify 'dtype=object' when creating the ndarray.\n",
      "  return array(a, dtype, copy=False, order=order)\n"
     ]
    },
    {
     "data": {
      "text/html": [
       "<div>\n",
       "<style scoped>\n",
       "    .dataframe tbody tr th:only-of-type {\n",
       "        vertical-align: middle;\n",
       "    }\n",
       "\n",
       "    .dataframe tbody tr th {\n",
       "        vertical-align: top;\n",
       "    }\n",
       "\n",
       "    .dataframe thead th {\n",
       "        text-align: right;\n",
       "    }\n",
       "</style>\n",
       "<table border=\"1\" class=\"dataframe\">\n",
       "  <thead>\n",
       "    <tr style=\"text-align: right;\">\n",
       "      <th>Name</th>\n",
       "      <th>Mutation</th>\n",
       "      <th>Location</th>\n",
       "      <th>Mutation_Status</th>\n",
       "    </tr>\n",
       "    <tr>\n",
       "      <th>Patient_ID</th>\n",
       "      <th></th>\n",
       "      <th></th>\n",
       "      <th></th>\n",
       "    </tr>\n",
       "  </thead>\n",
       "  <tbody>\n",
       "    <tr>\n",
       "      <th>C3L-00104</th>\n",
       "      <td>Deletion</td>\n",
       "      <td>Deletion</td>\n",
       "      <td>Multiple_mutation</td>\n",
       "    </tr>\n",
       "    <tr>\n",
       "      <th>C3L-00365</th>\n",
       "      <td>Deletion</td>\n",
       "      <td>Deletion</td>\n",
       "      <td>Multiple_mutation</td>\n",
       "    </tr>\n",
       "    <tr>\n",
       "      <th>C3L-00674</th>\n",
       "      <td>Wildtype_Tumor</td>\n",
       "      <td>No_mutation</td>\n",
       "      <td>Wildtype_Tumor</td>\n",
       "    </tr>\n",
       "    <tr>\n",
       "      <th>C3L-00677</th>\n",
       "      <td>Missense_Mutation</td>\n",
       "      <td>p.R158H</td>\n",
       "      <td>Multiple_mutation</td>\n",
       "    </tr>\n",
       "    <tr>\n",
       "      <th>C3L-01040</th>\n",
       "      <td>Wildtype_Tumor</td>\n",
       "      <td>No_mutation</td>\n",
       "      <td>Wildtype_Tumor</td>\n",
       "    </tr>\n",
       "    <tr>\n",
       "      <th>...</th>\n",
       "      <td>...</td>\n",
       "      <td>...</td>\n",
       "      <td>...</td>\n",
       "    </tr>\n",
       "    <tr>\n",
       "      <th>C3N-03183</th>\n",
       "      <td>Wildtype_Tumor</td>\n",
       "      <td>No_mutation</td>\n",
       "      <td>Wildtype_Tumor</td>\n",
       "    </tr>\n",
       "    <tr>\n",
       "      <th>C3N-03184</th>\n",
       "      <td>Wildtype_Tumor</td>\n",
       "      <td>No_mutation</td>\n",
       "      <td>Wildtype_Tumor</td>\n",
       "    </tr>\n",
       "    <tr>\n",
       "      <th>C3N-03186</th>\n",
       "      <td>Wildtype_Tumor</td>\n",
       "      <td>No_mutation</td>\n",
       "      <td>Wildtype_Tumor</td>\n",
       "    </tr>\n",
       "    <tr>\n",
       "      <th>C3N-03188</th>\n",
       "      <td>Deletion</td>\n",
       "      <td>Deletion</td>\n",
       "      <td>Single_mutation</td>\n",
       "    </tr>\n",
       "    <tr>\n",
       "      <th>C3N-03473</th>\n",
       "      <td>Missense_Mutation</td>\n",
       "      <td>p.R156G</td>\n",
       "      <td>Multiple_mutation</td>\n",
       "    </tr>\n",
       "  </tbody>\n",
       "</table>\n",
       "<p>99 rows × 3 columns</p>\n",
       "</div>"
      ],
      "text/plain": [
       "Name                 Mutation     Location    Mutation_Status\n",
       "Patient_ID                                                   \n",
       "C3L-00104            Deletion     Deletion  Multiple_mutation\n",
       "C3L-00365            Deletion     Deletion  Multiple_mutation\n",
       "C3L-00674      Wildtype_Tumor  No_mutation     Wildtype_Tumor\n",
       "C3L-00677   Missense_Mutation      p.R158H  Multiple_mutation\n",
       "C3L-01040      Wildtype_Tumor  No_mutation     Wildtype_Tumor\n",
       "...                       ...          ...                ...\n",
       "C3N-03183      Wildtype_Tumor  No_mutation     Wildtype_Tumor\n",
       "C3N-03184      Wildtype_Tumor  No_mutation     Wildtype_Tumor\n",
       "C3N-03186      Wildtype_Tumor  No_mutation     Wildtype_Tumor\n",
       "C3N-03188            Deletion     Deletion    Single_mutation\n",
       "C3N-03473   Missense_Mutation      p.R156G  Multiple_mutation\n",
       "\n",
       "[99 rows x 3 columns]"
      ]
     },
     "execution_count": 7,
     "metadata": {},
     "output_type": "execute_result"
    }
   ],
   "source": [
    "pgb = pc.PancanGbm(no_internet=True).get_genotype_all_vars(mutations_genes = target_gene, omics_source = \"washu\")\n",
    "pgb"
   ]
  },
  {
   "cell_type": "code",
   "execution_count": 8,
   "id": "a58251d8",
   "metadata": {},
   "outputs": [
    {
     "name": "stdout",
     "output_type": "stream",
     "text": [
      "                                         \r"
     ]
    },
    {
     "name": "stderr",
     "output_type": "stream",
     "text": [
      "cptac warning: In joining the somatic_mutation table, no mutations were found for the following samples, so they were filled with Wildtype_Tumor or Wildtype_Normal: 14 samples for the TP53 gene (/home/sdsquires/anaconda3/lib/python3.8/site-packages/cptac/pancan/pancandataset.py, line 174)\n",
      "/home/sdsquires/anaconda3/lib/python3.8/site-packages/numpy/core/_asarray.py:102: VisibleDeprecationWarning: Creating an ndarray from ragged nested sequences (which is a list-or-tuple of lists-or-tuples-or ndarrays with different lengths or shapes) is deprecated. If you meant to do this, you must specify 'dtype=object' when creating the ndarray.\n",
      "  return array(a, dtype, copy=False, order=order)\n"
     ]
    }
   ],
   "source": [
    "phn = pc.PancanHnscc(no_internet=True).get_genotype_all_vars(mutations_genes = target_gene, omics_source = \"washu\")"
   ]
  },
  {
   "cell_type": "code",
   "execution_count": 9,
   "id": "ab939c93",
   "metadata": {},
   "outputs": [
    {
     "name": "stdout",
     "output_type": "stream",
     "text": [
      "                                        \r"
     ]
    },
    {
     "name": "stderr",
     "output_type": "stream",
     "text": [
      "cptac warning: In joining the somatic_mutation table, no mutations were found for the following samples, so they were filled with Wildtype_Tumor or Wildtype_Normal: 9 samples for the TP53 gene (/home/sdsquires/anaconda3/lib/python3.8/site-packages/cptac/pancan/pancandataset.py, line 174)\n",
      "/home/sdsquires/anaconda3/lib/python3.8/site-packages/numpy/core/_asarray.py:102: VisibleDeprecationWarning: Creating an ndarray from ragged nested sequences (which is a list-or-tuple of lists-or-tuples-or ndarrays with different lengths or shapes) is deprecated. If you meant to do this, you must specify 'dtype=object' when creating the ndarray.\n",
      "  return array(a, dtype, copy=False, order=order)\n"
     ]
    }
   ],
   "source": [
    "pls = pc.PancanLscc(no_internet=True).get_genotype_all_vars(mutations_genes = target_gene, omics_source = \"washu\")"
   ]
  },
  {
   "cell_type": "code",
   "execution_count": 10,
   "id": "eb338f95",
   "metadata": {},
   "outputs": [
    {
     "name": "stdout",
     "output_type": "stream",
     "text": [
      "                                        \r"
     ]
    },
    {
     "name": "stderr",
     "output_type": "stream",
     "text": [
      "cptac warning: In joining the somatic_mutation table, no mutations were found for the following samples, so they were filled with Wildtype_Tumor or Wildtype_Normal: 50 samples for the TP53 gene (/home/sdsquires/anaconda3/lib/python3.8/site-packages/cptac/pancan/pancandataset.py, line 174)\n",
      "/home/sdsquires/anaconda3/lib/python3.8/site-packages/numpy/core/_asarray.py:102: VisibleDeprecationWarning: Creating an ndarray from ragged nested sequences (which is a list-or-tuple of lists-or-tuples-or ndarrays with different lengths or shapes) is deprecated. If you meant to do this, you must specify 'dtype=object' when creating the ndarray.\n",
      "  return array(a, dtype, copy=False, order=order)\n"
     ]
    }
   ],
   "source": [
    "plu = pc.PancanLuad(no_internet=True).get_genotype_all_vars(mutations_genes = target_gene, omics_source = \"washu\")"
   ]
  },
  {
   "cell_type": "code",
   "execution_count": 11,
   "id": "21ece64d",
   "metadata": {},
   "outputs": [
    {
     "name": "stdout",
     "output_type": "stream",
     "text": [
      "                                   \r"
     ]
    },
    {
     "name": "stderr",
     "output_type": "stream",
     "text": [
      "cptac warning: In joining the somatic_mutation table, no mutations were found for the following samples, so they were filled with Wildtype_Tumor or Wildtype_Normal: 5 samples for the TP53 gene (/home/sdsquires/anaconda3/lib/python3.8/site-packages/cptac/pancan/pancandataset.py, line 174)\n",
      "/home/sdsquires/anaconda3/lib/python3.8/site-packages/numpy/core/_asarray.py:102: VisibleDeprecationWarning: Creating an ndarray from ragged nested sequences (which is a list-or-tuple of lists-or-tuples-or ndarrays with different lengths or shapes) is deprecated. If you meant to do this, you must specify 'dtype=object' when creating the ndarray.\n",
      "  return array(a, dtype, copy=False, order=order)\n"
     ]
    }
   ],
   "source": [
    "pov = pc.PancanOv(no_internet=True).get_genotype_all_vars(mutations_genes = target_gene, omics_source = \"washu\")"
   ]
  },
  {
   "cell_type": "code",
   "execution_count": 12,
   "id": "4e0885ff",
   "metadata": {},
   "outputs": [
    {
     "name": "stdout",
     "output_type": "stream",
     "text": [
      "                                        \r"
     ]
    },
    {
     "name": "stderr",
     "output_type": "stream",
     "text": [
      "cptac warning: In joining the somatic_mutation table, no mutations were found for the following samples, so they were filled with Wildtype_Tumor or Wildtype_Normal: 73 samples for the TP53 gene (/home/sdsquires/anaconda3/lib/python3.8/site-packages/cptac/pancan/pancandataset.py, line 174)\n",
      "/home/sdsquires/anaconda3/lib/python3.8/site-packages/numpy/core/_asarray.py:102: VisibleDeprecationWarning: Creating an ndarray from ragged nested sequences (which is a list-or-tuple of lists-or-tuples-or ndarrays with different lengths or shapes) is deprecated. If you meant to do this, you must specify 'dtype=object' when creating the ndarray.\n",
      "  return array(a, dtype, copy=False, order=order)\n"
     ]
    }
   ],
   "source": [
    "puc = pc.PancanUcec(no_internet=True).get_genotype_all_vars(mutations_genes = target_gene, omics_source = \"washu\") #Uterine Corpus Endometrial Carcinoma"
   ]
  },
  {
   "cell_type": "code",
   "execution_count": 13,
   "id": "d326a6b4",
   "metadata": {},
   "outputs": [
    {
     "name": "stdout",
     "output_type": "stream",
     "text": [
      "                                        \r"
     ]
    },
    {
     "name": "stderr",
     "output_type": "stream",
     "text": [
      "cptac warning: In joining the somatic_mutation table, no mutations were found for the following samples, so they were filled with Wildtype_Tumor or Wildtype_Normal: 41 samples for the TP53 gene (/home/sdsquires/anaconda3/lib/python3.8/site-packages/cptac/pancan/pancandataset.py, line 174)\n",
      "/home/sdsquires/anaconda3/lib/python3.8/site-packages/numpy/core/_asarray.py:102: VisibleDeprecationWarning: Creating an ndarray from ragged nested sequences (which is a list-or-tuple of lists-or-tuples-or ndarrays with different lengths or shapes) is deprecated. If you meant to do this, you must specify 'dtype=object' when creating the ndarray.\n",
      "  return array(a, dtype, copy=False, order=order)\n"
     ]
    }
   ],
   "source": [
    "ppd = pc.PancanPdac(no_internet=True).get_genotype_all_vars(mutations_genes = target_gene, omics_source = \"washu\") #Pancreatic ductal adenocarcinoma"
   ]
  },
  {
   "cell_type": "code",
   "execution_count": 14,
   "id": "af762c6f",
   "metadata": {},
   "outputs": [],
   "source": [
    "datasets = {\n",
    "    \"Breast\": pbr,\n",
    "    \"Renal\": pcr,\n",
    "    \"Colon\": pco,\n",
    "    \"Glioblastoma\": pgb,\n",
    "    \"Head and Neck\": phn,\n",
    "    \"Renal\": pls,\n",
    "    \"Lung Adenocarcinoma\": plu,\n",
    "    \"Ovarian\": pov,\n",
    "    \"Endometrial\": puc,\n",
    "    \"Pancreatic\": ppd\n",
    "}"
   ]
  },
  {
   "cell_type": "code",
   "execution_count": 15,
   "id": "afe0848d",
   "metadata": {},
   "outputs": [],
   "source": [
    "target_gene = \"TP53\""
   ]
  },
  {
   "cell_type": "code",
   "execution_count": 16,
   "id": "a3d6deda",
   "metadata": {},
   "outputs": [
    {
     "ename": "AttributeError",
     "evalue": "'str' object has no attribute 'get_genotype_all_vars'",
     "output_type": "error",
     "traceback": [
      "\u001b[0;31m---------------------------------------------------------------------------\u001b[0m",
      "\u001b[0;31mAttributeError\u001b[0m                            Traceback (most recent call last)",
      "\u001b[0;32m<ipython-input-16-2686fde05969>\u001b[0m in \u001b[0;36m<module>\u001b[0;34m\u001b[0m\n\u001b[0;32m----> 1\u001b[0;31m \u001b[0mmutations_list\u001b[0m \u001b[0;34m=\u001b[0m \u001b[0;34m[\u001b[0m\u001b[0mvariant\u001b[0m\u001b[0;34m.\u001b[0m\u001b[0mget_genotype_all_vars\u001b[0m\u001b[0;34m(\u001b[0m\u001b[0mmutations_gene\u001b[0m \u001b[0;34m=\u001b[0m \u001b[0mtarget_gene\u001b[0m\u001b[0;34m,\u001b[0m \u001b[0momics_source\u001b[0m \u001b[0;34m=\u001b[0m \u001b[0;34m\"washu\"\u001b[0m\u001b[0;34m)\u001b[0m \u001b[0;32mfor\u001b[0m \u001b[0mvariant\u001b[0m \u001b[0;32min\u001b[0m \u001b[0mdatasets\u001b[0m\u001b[0;34m]\u001b[0m\u001b[0;34m\u001b[0m\u001b[0;34m\u001b[0m\u001b[0m\n\u001b[0m",
      "\u001b[0;32m<ipython-input-16-2686fde05969>\u001b[0m in \u001b[0;36m<listcomp>\u001b[0;34m(.0)\u001b[0m\n\u001b[0;32m----> 1\u001b[0;31m \u001b[0mmutations_list\u001b[0m \u001b[0;34m=\u001b[0m \u001b[0;34m[\u001b[0m\u001b[0mvariant\u001b[0m\u001b[0;34m.\u001b[0m\u001b[0mget_genotype_all_vars\u001b[0m\u001b[0;34m(\u001b[0m\u001b[0mmutations_gene\u001b[0m \u001b[0;34m=\u001b[0m \u001b[0mtarget_gene\u001b[0m\u001b[0;34m,\u001b[0m \u001b[0momics_source\u001b[0m \u001b[0;34m=\u001b[0m \u001b[0;34m\"washu\"\u001b[0m\u001b[0;34m)\u001b[0m \u001b[0;32mfor\u001b[0m \u001b[0mvariant\u001b[0m \u001b[0;32min\u001b[0m \u001b[0mdatasets\u001b[0m\u001b[0;34m]\u001b[0m\u001b[0;34m\u001b[0m\u001b[0;34m\u001b[0m\u001b[0m\n\u001b[0m",
      "\u001b[0;31mAttributeError\u001b[0m: 'str' object has no attribute 'get_genotype_all_vars'"
     ]
    }
   ],
   "source": [
    "mutations_list = [variant.get_genotype_all_vars(mutations_gene = target_gene, omics_source = \"washu\") for variant in datasets.values()]"
   ]
  },
  {
   "cell_type": "code",
   "execution_count": null,
   "id": "394f082b",
   "metadata": {},
   "outputs": [],
   "source": [
    "for cancerType in datasets:\n",
    "    print(datasets[cancerType])"
   ]
  },
  {
   "cell_type": "code",
   "execution_count": null,
   "id": "49d18d84",
   "metadata": {},
   "outputs": [],
   "source": [
    "replace_key = {\"Nonsense_Mutation\":\"Truncation\",\n",
    "                \"Frame_Shift_Ins\":\"Truncation\",\n",
    "                \"Frame_Shift_Del\":\"Truncation\"}\n",
    "\n",
    "for cancerName, cancerType in datasets.items():\n",
    "    cancerType = cancerType.replace([\"Nonsense_Mutation\", \"Frame_Shift_Ins\", \"Frame_Shift_Del\"], \"Truncation\")\n",
    "    cancerType = cancerType.replace([\"In_Frame_Del\", \"In_Frame_Ins\"], \"Indel\")\n",
    "    cancerType = cancerType.replace([\"Missense_Mutation\", \"Wildtype_Tumor\"], [\"Missense\", \"Wildtype\"])\n",
    "    cancerType = cancerType.loc[cancerType[\"Mutation\"] != \"Silent\"]\n",
    "    datasets[cancerName] = cancerType\n",
    "\n",
    "print(str(datasets.values()))"
   ]
  },
  {
   "cell_type": "code",
   "execution_count": 3,
   "id": "d2ee2e50",
   "metadata": {},
   "outputs": [
    {
     "ename": "AttributeError",
     "evalue": "module 'plot_utils' has no attribute 'figure1_plot_mutations'",
     "output_type": "error",
     "traceback": [
      "\u001b[0;31m---------------------------------------------------------------------------\u001b[0m",
      "\u001b[0;31mAttributeError\u001b[0m                            Traceback (most recent call last)",
      "\u001b[0;32m/tmp/ipykernel_16172/3298844270.py\u001b[0m in \u001b[0;36m<module>\u001b[0;34m\u001b[0m\n\u001b[0;32m----> 1\u001b[0;31m \u001b[0mplt\u001b[0m\u001b[0;34m.\u001b[0m\u001b[0mfigure1_plot_mutations\u001b[0m\u001b[0;34m(\u001b[0m\u001b[0mdatasets\u001b[0m\u001b[0;34m.\u001b[0m\u001b[0mvalues\u001b[0m\u001b[0;34m(\u001b[0m\u001b[0;34m)\u001b[0m\u001b[0;34m,\u001b[0m \u001b[0mlist\u001b[0m\u001b[0;34m(\u001b[0m\u001b[0mdatasets\u001b[0m\u001b[0;34m.\u001b[0m\u001b[0mkeys\u001b[0m\u001b[0;34m(\u001b[0m\u001b[0;34m)\u001b[0m\u001b[0;34m)\u001b[0m\u001b[0;34m,\u001b[0m \u001b[0msave_to_path\u001b[0m \u001b[0;34m=\u001b[0m \u001b[0;34m\"Test_Figure.png\"\u001b[0m\u001b[0;34m)\u001b[0m\u001b[0;34m\u001b[0m\u001b[0;34m\u001b[0m\u001b[0m\n\u001b[0m",
      "\u001b[0;31mAttributeError\u001b[0m: module 'plot_utils' has no attribute 'figure1_plot_mutations'"
     ]
    }
   ],
   "source": [
    "plt.figure1_plot_mutations(datasets.values(), list(datasets.keys()), save_to_path = \"Test_Figure.png\")"
   ]
  },
  {
   "cell_type": "code",
   "execution_count": null,
   "id": "3007388c",
   "metadata": {},
   "outputs": [],
   "source": [
    "for cancerName, cancerType in datasets.items():\n",
    "    mutations = cancerType.value_counts(\"Mutation\")\n",
    "    print('---' + cancerName + '---')\n",
    "    print(mutations)\n",
    "    print(mutations / len(cancerType))\n",
    "    print('--------------------------------\\n')"
   ]
  },
  {
   "cell_type": "code",
   "execution_count": null,
   "id": "fb74358c",
   "metadata": {},
   "outputs": [],
   "source": [
    "with open(\"mutation_types_greater_than_20.txt\", 'w') as outFile:\n",
    "    for cancerName, cancerType in datasets.items():\n",
    "        mutations = cancerType.value_counts(\"Mutation\") / len(cancerType)\n",
    "        outFile.write('---' + cancerName + '---\\n')\n",
    "        outFile.write(str(mutations.loc[mutations >= .2]))\n",
    "        outFile.write('\\n--------------------------------\\n\\n')\n",
    "        "
   ]
  },
  {
   "cell_type": "code",
   "execution_count": null,
   "id": "6ee78cf0",
   "metadata": {},
   "outputs": [],
   "source": []
  }
 ],
 "metadata": {
  "kernelspec": {
   "display_name": "Python 3 (ipykernel)",
   "language": "python",
   "name": "python3"
  },
  "language_info": {
   "codemirror_mode": {
    "name": "ipython",
    "version": 3
   },
   "file_extension": ".py",
   "mimetype": "text/x-python",
   "name": "python",
   "nbconvert_exporter": "python",
   "pygments_lexer": "ipython3",
   "version": "3.9.7"
  }
 },
 "nbformat": 4,
 "nbformat_minor": 5
}
