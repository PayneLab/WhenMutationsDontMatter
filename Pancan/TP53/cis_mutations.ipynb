{
 "cells": [
  {
   "cell_type": "code",
   "execution_count": 1,
   "id": "dede19fa",
   "metadata": {},
   "outputs": [],
   "source": [
    "import cptac\n",
    "import cptac.pancan as pc\n",
    "import numpy as np\n",
    "import cptac.utils as ut\n",
    "import plot_utils as plt\n",
    "import pandas as pd"
   ]
  },
  {
   "cell_type": "code",
   "execution_count": 2,
   "id": "4159d5ed",
   "metadata": {},
   "outputs": [
    {
     "data": {
      "text/plain": [
       "['PancanBrca',\n",
       " 'PancanCcrcc',\n",
       " 'PancanCoad',\n",
       " 'PancanGbm',\n",
       " 'PancanHnscc',\n",
       " 'PancanLscc',\n",
       " 'PancanLuad',\n",
       " 'PancanOv',\n",
       " 'PancanUcec',\n",
       " 'PancanPdac']"
      ]
     },
     "execution_count": 2,
     "metadata": {},
     "output_type": "execute_result"
    }
   ],
   "source": [
    "dataset_names = pc.list_datasets(False)\n",
    "dataset_names  = dataset_names.split('\\n')\n",
    "dataset_names"
   ]
  },
  {
   "cell_type": "code",
   "execution_count": 3,
   "id": "c45e7a87",
   "metadata": {},
   "outputs": [],
   "source": [
    "target_gene = \"TP53\""
   ]
  },
  {
   "cell_type": "code",
   "execution_count": 4,
   "id": "480590ae",
   "metadata": {},
   "outputs": [],
   "source": [
    "# pdc = pc.PancanBrca()"
   ]
  },
  {
   "cell_type": "code",
   "execution_count": 5,
   "id": "8c420bc6",
   "metadata": {},
   "outputs": [],
   "source": [
    "# temp = pdc.join_omics_to_mutations(omics_df_name = 'proteomics', omics_source = 'umich', mutations_genes = target_gene, omics_genes = target_gene)\n",
    "# # ut.reduce_multiindex(temp, 'Database_ID')\n",
    "# temp.droplevel('Database_ID', axis = 1)"
   ]
  },
  {
   "cell_type": "code",
   "execution_count": 6,
   "id": "36f26ae4",
   "metadata": {},
   "outputs": [
    {
     "name": "stdout",
     "output_type": "stream",
     "text": [
      "                                    \r"
     ]
    },
    {
     "name": "stderr",
     "output_type": "stream",
     "text": [
      "cptac warning: In joining the somatic_mutation table, no mutations were found for the following samples, so they were filled with Wildtype_Tumor or Wildtype_Normal: 68 samples for the TP53 gene (/home/sdsquires/anaconda3/lib/python3.8/site-packages/cptac/pancan/pancandataset.py, line 174)\n",
      "cptac warning: washu_CNV data was not found for the following samples, so washu_CNV data columns were filled with NaN for these samples: 01BR044, 604 (/home/sdsquires/anaconda3/lib/python3.8/site-packages/cptac/pancan/pancandataset.py, line 174)\n",
      "/home/sdsquires/anaconda3/lib/python3.8/site-packages/numpy/core/_asarray.py:102: VisibleDeprecationWarning: Creating an ndarray from ragged nested sequences (which is a list-or-tuple of lists-or-tuples-or ndarrays with different lengths or shapes) is deprecated. If you meant to do this, you must specify 'dtype=object' when creating the ndarray.\n",
      "  return array(a, dtype, copy=False, order=order)\n",
      "cptac warning: In joining the somatic_mutation table, no mutations were found for the following samples, so they were filled with Wildtype_Tumor or Wildtype_Normal: 71 samples for the TP53 gene (/home/sdsquires/anaconda3/lib/python3.8/site-packages/cptac/pancan/pancandataset.py, line 174)\n",
      "cptac warning: umich_proteomics data was not found for the following samples, so umich_proteomics data columns were filled with NaN for these samples: 01BR044, 604 (/home/sdsquires/anaconda3/lib/python3.8/site-packages/cptac/pancan/pancandataset.py, line 174)\n"
     ]
    },
    {
     "name": "stdout",
     "output_type": "stream",
     "text": [
      "                                         \r"
     ]
    },
    {
     "name": "stderr",
     "output_type": "stream",
     "text": [
      "cptac warning: In joining the somatic_mutation table, no mutations were found for the following samples, so they were filled with Wildtype_Tumor or Wildtype_Normal: 104 samples for the TP53 gene (/home/sdsquires/anaconda3/lib/python3.8/site-packages/cptac/pancan/pancandataset.py, line 174)\n",
      "/home/sdsquires/anaconda3/lib/python3.8/site-packages/numpy/core/_asarray.py:102: VisibleDeprecationWarning: Creating an ndarray from ragged nested sequences (which is a list-or-tuple of lists-or-tuples-or ndarrays with different lengths or shapes) is deprecated. If you meant to do this, you must specify 'dtype=object' when creating the ndarray.\n",
      "  return array(a, dtype, copy=False, order=order)\n",
      "cptac warning: In joining the somatic_mutation table, no mutations were found for the following samples, so they were filled with Wildtype_Tumor or Wildtype_Normal: 188 samples for the TP53 gene (/home/sdsquires/anaconda3/lib/python3.8/site-packages/cptac/pancan/pancandataset.py, line 174)\n"
     ]
    },
    {
     "name": "stdout",
     "output_type": "stream",
     "text": [
      "                                    \r"
     ]
    },
    {
     "name": "stderr",
     "output_type": "stream",
     "text": [
      "cptac warning: In joining the somatic_mutation table, no mutations were found for the following samples, so they were filled with Wildtype_Tumor or Wildtype_Normal: 44 samples for the TP53 gene (/home/sdsquires/anaconda3/lib/python3.8/site-packages/cptac/pancan/pancandataset.py, line 174)\n",
      "/home/sdsquires/anaconda3/lib/python3.8/site-packages/numpy/core/_asarray.py:102: VisibleDeprecationWarning: Creating an ndarray from ragged nested sequences (which is a list-or-tuple of lists-or-tuples-or ndarrays with different lengths or shapes) is deprecated. If you meant to do this, you must specify 'dtype=object' when creating the ndarray.\n",
      "  return array(a, dtype, copy=False, order=order)\n",
      "cptac warning: In joining the somatic_mutation table, no mutations were found for the following samples, so they were filled with Wildtype_Tumor or Wildtype_Normal: 135 samples for the TP53 gene (/home/sdsquires/anaconda3/lib/python3.8/site-packages/cptac/pancan/pancandataset.py, line 174)\n"
     ]
    },
    {
     "name": "stdout",
     "output_type": "stream",
     "text": [
      "                                      \r"
     ]
    },
    {
     "name": "stderr",
     "output_type": "stream",
     "text": [
      "cptac warning: In joining the somatic_mutation table, no mutations were found for the following samples, so they were filled with Wildtype_Tumor or Wildtype_Normal: 67 samples for the TP53 gene (/home/sdsquires/anaconda3/lib/python3.8/site-packages/cptac/pancan/pancandataset.py, line 174)\n",
      "/home/sdsquires/anaconda3/lib/python3.8/site-packages/numpy/core/_asarray.py:102: VisibleDeprecationWarning: Creating an ndarray from ragged nested sequences (which is a list-or-tuple of lists-or-tuples-or ndarrays with different lengths or shapes) is deprecated. If you meant to do this, you must specify 'dtype=object' when creating the ndarray.\n",
      "  return array(a, dtype, copy=False, order=order)\n",
      "cptac warning: In joining the somatic_mutation table, no mutations were found for the following samples, so they were filled with Wildtype_Tumor or Wildtype_Normal: 78 samples for the TP53 gene (/home/sdsquires/anaconda3/lib/python3.8/site-packages/cptac/pancan/pancandataset.py, line 174)\n"
     ]
    },
    {
     "name": "stdout",
     "output_type": "stream",
     "text": [
      "                                         \r"
     ]
    },
    {
     "name": "stderr",
     "output_type": "stream",
     "text": [
      "cptac warning: In joining the somatic_mutation table, no mutations were found for the following samples, so they were filled with Wildtype_Tumor or Wildtype_Normal: 14 samples for the TP53 gene (/home/sdsquires/anaconda3/lib/python3.8/site-packages/cptac/pancan/pancandataset.py, line 174)\n",
      "/home/sdsquires/anaconda3/lib/python3.8/site-packages/numpy/core/_asarray.py:102: VisibleDeprecationWarning: Creating an ndarray from ragged nested sequences (which is a list-or-tuple of lists-or-tuples-or ndarrays with different lengths or shapes) is deprecated. If you meant to do this, you must specify 'dtype=object' when creating the ndarray.\n",
      "  return array(a, dtype, copy=False, order=order)\n",
      "cptac warning: In joining the somatic_mutation table, no mutations were found for the following samples, so they were filled with Wildtype_Tumor or Wildtype_Normal: 86 samples for the TP53 gene (/home/sdsquires/anaconda3/lib/python3.8/site-packages/cptac/pancan/pancandataset.py, line 174)\n"
     ]
    },
    {
     "name": "stdout",
     "output_type": "stream",
     "text": [
      "                                        \r"
     ]
    },
    {
     "name": "stderr",
     "output_type": "stream",
     "text": [
      "cptac warning: In joining the somatic_mutation table, no mutations were found for the following samples, so they were filled with Wildtype_Tumor or Wildtype_Normal: 9 samples for the TP53 gene (/home/sdsquires/anaconda3/lib/python3.8/site-packages/cptac/pancan/pancandataset.py, line 174)\n",
      "/home/sdsquires/anaconda3/lib/python3.8/site-packages/numpy/core/_asarray.py:102: VisibleDeprecationWarning: Creating an ndarray from ragged nested sequences (which is a list-or-tuple of lists-or-tuples-or ndarrays with different lengths or shapes) is deprecated. If you meant to do this, you must specify 'dtype=object' when creating the ndarray.\n",
      "  return array(a, dtype, copy=False, order=order)\n",
      "cptac warning: In joining the somatic_mutation table, no mutations were found for the following samples, so they were filled with Wildtype_Tumor or Wildtype_Normal: 111 samples for the TP53 gene (/home/sdsquires/anaconda3/lib/python3.8/site-packages/cptac/pancan/pancandataset.py, line 174)\n"
     ]
    },
    {
     "name": "stdout",
     "output_type": "stream",
     "text": [
      "                                        \r"
     ]
    },
    {
     "name": "stderr",
     "output_type": "stream",
     "text": [
      "cptac warning: In joining the somatic_mutation table, no mutations were found for the following samples, so they were filled with Wildtype_Tumor or Wildtype_Normal: 50 samples for the TP53 gene (/home/sdsquires/anaconda3/lib/python3.8/site-packages/cptac/pancan/pancandataset.py, line 174)\n",
      "/home/sdsquires/anaconda3/lib/python3.8/site-packages/numpy/core/_asarray.py:102: VisibleDeprecationWarning: Creating an ndarray from ragged nested sequences (which is a list-or-tuple of lists-or-tuples-or ndarrays with different lengths or shapes) is deprecated. If you meant to do this, you must specify 'dtype=object' when creating the ndarray.\n",
      "  return array(a, dtype, copy=False, order=order)\n",
      "cptac warning: In joining the somatic_mutation table, no mutations were found for the following samples, so they were filled with Wildtype_Tumor or Wildtype_Normal: 153 samples for the TP53 gene (/home/sdsquires/anaconda3/lib/python3.8/site-packages/cptac/pancan/pancandataset.py, line 174)\n"
     ]
    },
    {
     "name": "stdout",
     "output_type": "stream",
     "text": [
      "                                   \r"
     ]
    },
    {
     "name": "stderr",
     "output_type": "stream",
     "text": [
      "cptac warning: In joining the somatic_mutation table, no mutations were found for the following samples, so they were filled with Wildtype_Tumor or Wildtype_Normal: 5 samples for the TP53 gene (/home/sdsquires/anaconda3/lib/python3.8/site-packages/cptac/pancan/pancandataset.py, line 174)\n",
      "/home/sdsquires/anaconda3/lib/python3.8/site-packages/numpy/core/_asarray.py:102: VisibleDeprecationWarning: Creating an ndarray from ragged nested sequences (which is a list-or-tuple of lists-or-tuples-or ndarrays with different lengths or shapes) is deprecated. If you meant to do this, you must specify 'dtype=object' when creating the ndarray.\n",
      "  return array(a, dtype, copy=False, order=order)\n",
      "cptac warning: In joining the somatic_mutation table, no mutations were found for the following samples, so they were filled with Wildtype_Tumor or Wildtype_Normal: 26 samples for the TP53 gene (/home/sdsquires/anaconda3/lib/python3.8/site-packages/cptac/pancan/pancandataset.py, line 174)\n"
     ]
    },
    {
     "name": "stdout",
     "output_type": "stream",
     "text": [
      "                                        \r"
     ]
    },
    {
     "name": "stderr",
     "output_type": "stream",
     "text": [
      "cptac warning: In joining the somatic_mutation table, no mutations were found for the following samples, so they were filled with Wildtype_Tumor or Wildtype_Normal: 73 samples for the TP53 gene (/home/sdsquires/anaconda3/lib/python3.8/site-packages/cptac/pancan/pancandataset.py, line 174)\n",
      "/home/sdsquires/anaconda3/lib/python3.8/site-packages/numpy/core/_asarray.py:102: VisibleDeprecationWarning: Creating an ndarray from ragged nested sequences (which is a list-or-tuple of lists-or-tuples-or ndarrays with different lengths or shapes) is deprecated. If you meant to do this, you must specify 'dtype=object' when creating the ndarray.\n",
      "  return array(a, dtype, copy=False, order=order)\n",
      "cptac warning: In joining the somatic_mutation table, no mutations were found for the following samples, so they were filled with Wildtype_Tumor or Wildtype_Normal: 130 samples for the TP53 gene (/home/sdsquires/anaconda3/lib/python3.8/site-packages/cptac/pancan/pancandataset.py, line 174)\n"
     ]
    },
    {
     "name": "stdout",
     "output_type": "stream",
     "text": [
      "                                        \r"
     ]
    },
    {
     "name": "stderr",
     "output_type": "stream",
     "text": [
      "cptac warning: In joining the somatic_mutation table, no mutations were found for the following samples, so they were filled with Wildtype_Tumor or Wildtype_Normal: 41 samples for the TP53 gene (/home/sdsquires/anaconda3/lib/python3.8/site-packages/cptac/pancan/pancandataset.py, line 174)\n",
      "/home/sdsquires/anaconda3/lib/python3.8/site-packages/numpy/core/_asarray.py:102: VisibleDeprecationWarning: Creating an ndarray from ragged nested sequences (which is a list-or-tuple of lists-or-tuples-or ndarrays with different lengths or shapes) is deprecated. If you meant to do this, you must specify 'dtype=object' when creating the ndarray.\n",
      "  return array(a, dtype, copy=False, order=order)\n",
      "cptac warning: In joining the somatic_mutation table, no mutations were found for the following samples, so they were filled with Wildtype_Tumor or Wildtype_Normal: 139 samples for the TP53 gene (/home/sdsquires/anaconda3/lib/python3.8/site-packages/cptac/pancan/pancandataset.py, line 174)\n"
     ]
    }
   ],
   "source": [
    "datasets = {}\n",
    "for name in dataset_names:\n",
    "    exec(f\"cancer = pc.{name}(no_internet = True)\")\n",
    "    CNV_data = cancer.get_CNV()\n",
    "    \n",
    "    genotype_data = cancer.get_genotype_all_vars(mutations_genes = target_gene, omics_source = \"washu\")\n",
    "    genotype_data = genotype_data.droplevel(\"Database_ID\", axis = 1)\n",
    "    \n",
    "    mutation_data = cancer.join_omics_to_mutations(omics_df_name = 'proteomics', omics_source = 'umich', mutations_genes = target_gene, omics_genes = target_gene)\n",
    "    mutation_data = mutation_data.droplevel(\"Database_ID\", axis = 1)\n",
    "    \n",
    "    datasets[name[6:]] = [CNV_data, genotype_data, mutation_data]\n",
    "    del cancer\n",
    "    del CNV_data\n",
    "    del genotype_data\n",
    "    del mutation_data\n",
    "    "
   ]
  },
  {
   "cell_type": "code",
   "execution_count": 62,
   "id": "168fb066",
   "metadata": {},
   "outputs": [],
   "source": [
    "#Cancers with more than 20% having deletions\n",
    "deletion_sets = [\"Brca\",\"Coad\",\"Luad\",\"Pdac\"]"
   ]
  },
  {
   "cell_type": "code",
   "execution_count": 57,
   "id": "8292543a",
   "metadata": {},
   "outputs": [
    {
     "data": {
      "text/html": [
       "<div>\n",
       "<style scoped>\n",
       "    .dataframe tbody tr th:only-of-type {\n",
       "        vertical-align: middle;\n",
       "    }\n",
       "\n",
       "    .dataframe tbody tr th {\n",
       "        vertical-align: top;\n",
       "    }\n",
       "\n",
       "    .dataframe thead th {\n",
       "        text-align: right;\n",
       "    }\n",
       "</style>\n",
       "<table border=\"1\" class=\"dataframe\">\n",
       "  <thead>\n",
       "    <tr style=\"text-align: right;\">\n",
       "      <th>Name</th>\n",
       "      <th>TP53_umich_proteomics</th>\n",
       "      <th>TP53_Mutation</th>\n",
       "      <th>TP53_Location</th>\n",
       "      <th>TP53_Mutation_Status</th>\n",
       "      <th>Sample_Status</th>\n",
       "    </tr>\n",
       "    <tr>\n",
       "      <th>Patient_ID</th>\n",
       "      <th></th>\n",
       "      <th></th>\n",
       "      <th></th>\n",
       "      <th></th>\n",
       "      <th></th>\n",
       "    </tr>\n",
       "  </thead>\n",
       "  <tbody>\n",
       "    <tr>\n",
       "      <th>C3L-00004</th>\n",
       "      <td>NaN</td>\n",
       "      <td>[Wildtype_Tumor]</td>\n",
       "      <td>[No_mutation]</td>\n",
       "      <td>Wildtype_Tumor</td>\n",
       "      <td>Tumor</td>\n",
       "    </tr>\n",
       "    <tr>\n",
       "      <th>C3L-00010</th>\n",
       "      <td>NaN</td>\n",
       "      <td>[Wildtype_Tumor]</td>\n",
       "      <td>[No_mutation]</td>\n",
       "      <td>Wildtype_Tumor</td>\n",
       "      <td>Tumor</td>\n",
       "    </tr>\n",
       "    <tr>\n",
       "      <th>C3L-00011</th>\n",
       "      <td>0.752436</td>\n",
       "      <td>[Missense_Mutation]</td>\n",
       "      <td>[p.R280I]</td>\n",
       "      <td>Single_mutation</td>\n",
       "      <td>Tumor</td>\n",
       "    </tr>\n",
       "    <tr>\n",
       "      <th>C3L-00026</th>\n",
       "      <td>0.200561</td>\n",
       "      <td>[Wildtype_Tumor]</td>\n",
       "      <td>[No_mutation]</td>\n",
       "      <td>Wildtype_Tumor</td>\n",
       "      <td>Tumor</td>\n",
       "    </tr>\n",
       "    <tr>\n",
       "      <th>C3L-00079</th>\n",
       "      <td>NaN</td>\n",
       "      <td>[Wildtype_Tumor]</td>\n",
       "      <td>[No_mutation]</td>\n",
       "      <td>Wildtype_Tumor</td>\n",
       "      <td>Tumor</td>\n",
       "    </tr>\n",
       "    <tr>\n",
       "      <th>...</th>\n",
       "      <td>...</td>\n",
       "      <td>...</td>\n",
       "      <td>...</td>\n",
       "      <td>...</td>\n",
       "      <td>...</td>\n",
       "    </tr>\n",
       "    <tr>\n",
       "      <th>C3N-01646.N</th>\n",
       "      <td>NaN</td>\n",
       "      <td>[Wildtype_Normal]</td>\n",
       "      <td>[No_mutation]</td>\n",
       "      <td>Wildtype_Normal</td>\n",
       "      <td>Normal</td>\n",
       "    </tr>\n",
       "    <tr>\n",
       "      <th>C3N-01648.N</th>\n",
       "      <td>NaN</td>\n",
       "      <td>[Wildtype_Normal]</td>\n",
       "      <td>[No_mutation]</td>\n",
       "      <td>Wildtype_Normal</td>\n",
       "      <td>Normal</td>\n",
       "    </tr>\n",
       "    <tr>\n",
       "      <th>C3N-01649.N</th>\n",
       "      <td>-0.071430</td>\n",
       "      <td>[Wildtype_Normal]</td>\n",
       "      <td>[No_mutation]</td>\n",
       "      <td>Wildtype_Normal</td>\n",
       "      <td>Normal</td>\n",
       "    </tr>\n",
       "    <tr>\n",
       "      <th>C3N-01651.N</th>\n",
       "      <td>-0.194742</td>\n",
       "      <td>[Wildtype_Normal]</td>\n",
       "      <td>[No_mutation]</td>\n",
       "      <td>Wildtype_Normal</td>\n",
       "      <td>Normal</td>\n",
       "    </tr>\n",
       "    <tr>\n",
       "      <th>C3N-01808.N</th>\n",
       "      <td>-0.004054</td>\n",
       "      <td>[Wildtype_Normal]</td>\n",
       "      <td>[No_mutation]</td>\n",
       "      <td>Wildtype_Normal</td>\n",
       "      <td>Normal</td>\n",
       "    </tr>\n",
       "  </tbody>\n",
       "</table>\n",
       "<p>194 rows × 5 columns</p>\n",
       "</div>"
      ],
      "text/plain": [
       "Name         TP53_umich_proteomics        TP53_Mutation  TP53_Location  \\\n",
       "Patient_ID                                                               \n",
       "C3L-00004                      NaN     [Wildtype_Tumor]  [No_mutation]   \n",
       "C3L-00010                      NaN     [Wildtype_Tumor]  [No_mutation]   \n",
       "C3L-00011                 0.752436  [Missense_Mutation]      [p.R280I]   \n",
       "C3L-00026                 0.200561     [Wildtype_Tumor]  [No_mutation]   \n",
       "C3L-00079                      NaN     [Wildtype_Tumor]  [No_mutation]   \n",
       "...                            ...                  ...            ...   \n",
       "C3N-01646.N                    NaN    [Wildtype_Normal]  [No_mutation]   \n",
       "C3N-01648.N                    NaN    [Wildtype_Normal]  [No_mutation]   \n",
       "C3N-01649.N              -0.071430    [Wildtype_Normal]  [No_mutation]   \n",
       "C3N-01651.N              -0.194742    [Wildtype_Normal]  [No_mutation]   \n",
       "C3N-01808.N              -0.004054    [Wildtype_Normal]  [No_mutation]   \n",
       "\n",
       "Name        TP53_Mutation_Status Sample_Status  \n",
       "Patient_ID                                      \n",
       "C3L-00004         Wildtype_Tumor         Tumor  \n",
       "C3L-00010         Wildtype_Tumor         Tumor  \n",
       "C3L-00011        Single_mutation         Tumor  \n",
       "C3L-00026         Wildtype_Tumor         Tumor  \n",
       "C3L-00079         Wildtype_Tumor         Tumor  \n",
       "...                          ...           ...  \n",
       "C3N-01646.N      Wildtype_Normal        Normal  \n",
       "C3N-01648.N      Wildtype_Normal        Normal  \n",
       "C3N-01649.N      Wildtype_Normal        Normal  \n",
       "C3N-01651.N      Wildtype_Normal        Normal  \n",
       "C3N-01808.N      Wildtype_Normal        Normal  \n",
       "\n",
       "[194 rows x 5 columns]"
      ]
     },
     "execution_count": 57,
     "metadata": {},
     "output_type": "execute_result"
    }
   ],
   "source": [
    "target_dataset = datasets[\"Ccrcc\"]\n",
    "target_dataset[2]\n",
    "# target_dataset[2].loc[target_dataset[\"Mutation\"] == \"Deletion\"]"
   ]
  },
  {
   "cell_type": "code",
   "execution_count": 58,
   "id": "dc9a6284",
   "metadata": {},
   "outputs": [
    {
     "data": {
      "text/html": [
       "<div>\n",
       "<style scoped>\n",
       "    .dataframe tbody tr th:only-of-type {\n",
       "        vertical-align: middle;\n",
       "    }\n",
       "\n",
       "    .dataframe tbody tr th {\n",
       "        vertical-align: top;\n",
       "    }\n",
       "\n",
       "    .dataframe thead th {\n",
       "        text-align: right;\n",
       "    }\n",
       "</style>\n",
       "<table border=\"1\" class=\"dataframe\">\n",
       "  <thead>\n",
       "    <tr style=\"text-align: right;\">\n",
       "      <th>Name</th>\n",
       "      <th>Mutation</th>\n",
       "      <th>Location</th>\n",
       "      <th>Mutation_Status</th>\n",
       "      <th>TP53_umich_proteomics</th>\n",
       "      <th>TP53_Mutation</th>\n",
       "      <th>TP53_Location</th>\n",
       "      <th>TP53_Mutation_Status</th>\n",
       "      <th>Sample_Status</th>\n",
       "    </tr>\n",
       "    <tr>\n",
       "      <th>Patient_ID</th>\n",
       "      <th></th>\n",
       "      <th></th>\n",
       "      <th></th>\n",
       "      <th></th>\n",
       "      <th></th>\n",
       "      <th></th>\n",
       "      <th></th>\n",
       "      <th></th>\n",
       "    </tr>\n",
       "  </thead>\n",
       "  <tbody>\n",
       "    <tr>\n",
       "      <th>C3L-00011</th>\n",
       "      <td>Deletion</td>\n",
       "      <td>Deletion</td>\n",
       "      <td>Multiple_mutation</td>\n",
       "      <td>0.752436</td>\n",
       "      <td>[Missense_Mutation]</td>\n",
       "      <td>[p.R280I]</td>\n",
       "      <td>Single_mutation</td>\n",
       "      <td>Tumor</td>\n",
       "    </tr>\n",
       "    <tr>\n",
       "      <th>C3L-00096</th>\n",
       "      <td>Deletion</td>\n",
       "      <td>Deletion</td>\n",
       "      <td>Single_mutation</td>\n",
       "      <td>NaN</td>\n",
       "      <td>[Wildtype_Tumor]</td>\n",
       "      <td>[No_mutation]</td>\n",
       "      <td>Wildtype_Tumor</td>\n",
       "      <td>Tumor</td>\n",
       "    </tr>\n",
       "    <tr>\n",
       "      <th>C3L-01557</th>\n",
       "      <td>Deletion</td>\n",
       "      <td>Deletion</td>\n",
       "      <td>Multiple_mutation</td>\n",
       "      <td>NaN</td>\n",
       "      <td>[Missense_Mutation]</td>\n",
       "      <td>[p.S127Y]</td>\n",
       "      <td>Single_mutation</td>\n",
       "      <td>Tumor</td>\n",
       "    </tr>\n",
       "    <tr>\n",
       "      <th>C3N-00492</th>\n",
       "      <td>Deletion</td>\n",
       "      <td>Deletion</td>\n",
       "      <td>Multiple_mutation</td>\n",
       "      <td>1.423219</td>\n",
       "      <td>[Missense_Mutation]</td>\n",
       "      <td>[p.R267W]</td>\n",
       "      <td>Single_mutation</td>\n",
       "      <td>Tumor</td>\n",
       "    </tr>\n",
       "    <tr>\n",
       "      <th>C3N-01175</th>\n",
       "      <td>Deletion</td>\n",
       "      <td>Deletion</td>\n",
       "      <td>Multiple_mutation</td>\n",
       "      <td>-0.231664</td>\n",
       "      <td>[Nonsense_Mutation]</td>\n",
       "      <td>[p.R306*]</td>\n",
       "      <td>Single_mutation</td>\n",
       "      <td>Tumor</td>\n",
       "    </tr>\n",
       "  </tbody>\n",
       "</table>\n",
       "</div>"
      ],
      "text/plain": [
       "Name        Mutation  Location    Mutation_Status  TP53_umich_proteomics  \\\n",
       "Patient_ID                                                                 \n",
       "C3L-00011   Deletion  Deletion  Multiple_mutation               0.752436   \n",
       "C3L-00096   Deletion  Deletion    Single_mutation                    NaN   \n",
       "C3L-01557   Deletion  Deletion  Multiple_mutation                    NaN   \n",
       "C3N-00492   Deletion  Deletion  Multiple_mutation               1.423219   \n",
       "C3N-01175   Deletion  Deletion  Multiple_mutation              -0.231664   \n",
       "\n",
       "Name              TP53_Mutation  TP53_Location TP53_Mutation_Status  \\\n",
       "Patient_ID                                                            \n",
       "C3L-00011   [Missense_Mutation]      [p.R280I]      Single_mutation   \n",
       "C3L-00096      [Wildtype_Tumor]  [No_mutation]       Wildtype_Tumor   \n",
       "C3L-01557   [Missense_Mutation]      [p.S127Y]      Single_mutation   \n",
       "C3N-00492   [Missense_Mutation]      [p.R267W]      Single_mutation   \n",
       "C3N-01175   [Nonsense_Mutation]      [p.R306*]      Single_mutation   \n",
       "\n",
       "Name       Sample_Status  \n",
       "Patient_ID                \n",
       "C3L-00011          Tumor  \n",
       "C3L-00096          Tumor  \n",
       "C3L-01557          Tumor  \n",
       "C3N-00492          Tumor  \n",
       "C3N-01175          Tumor  "
      ]
     },
     "execution_count": 58,
     "metadata": {},
     "output_type": "execute_result"
    }
   ],
   "source": [
    "genotype_and_prot = target_dataset[1].merge(target_dataset[2], left_index = True, right_index = True)\n",
    "genotype_and_prot.loc[genotype_and_prot[\"Mutation\"] == \"Deletion\"]"
   ]
  },
  {
   "cell_type": "code",
   "execution_count": 66,
   "id": "dcd021c4",
   "metadata": {},
   "outputs": [
    {
     "name": "stdout",
     "output_type": "stream",
     "text": [
      "Brca\n",
      "len(deletions) = 32\n",
      "len(wildtypes) = 46\n",
      "Brca deletion P-value: 0.2621251374049456\n",
      "\n",
      "\n",
      "Coad\n",
      "len(deletions) = 34\n",
      "len(wildtypes) = 16\n",
      "Coad deletion P-value: 0.01191040809308662\n",
      "\n",
      "\n",
      "Luad\n",
      "len(deletions) = 34\n",
      "len(wildtypes) = 29\n",
      "Luad deletion P-value: 0.02707681368408237\n",
      "\n",
      "\n",
      "Pdac\n",
      "len(deletions) = 16\n",
      "len(wildtypes) = 21\n",
      "Pdac deletion P-value: 0.008603505603947332\n",
      "\n",
      "\n"
     ]
    }
   ],
   "source": [
    "from scipy.stats import ttest_ind\n",
    "for name, dataset in datasets.items():\n",
    "    if name not in deletion_sets: continue\n",
    "    print(name)\n",
    "    genotype_and_prot = dataset[1].merge(dataset[2], left_index = True, right_index = True)\n",
    "    deletions = genotype_and_prot.loc[genotype_and_prot[\"Mutation\"] == \"Deletion\"][target_gene + \"_umich_proteomics\"].dropna()\n",
    "    wildtypes = genotype_and_prot.loc[genotype_and_prot[\"Mutation\"] == \"Wildtype_Tumor\"][target_gene + \"_umich_proteomics\"].dropna()\n",
    "    print(\"len(deletions) = \" + str(len(deletions)))\n",
    "    print(\"len(wildtypes) = \" + str(len(wildtypes)))\n",
    "    result = ttest_ind(deletions, wildtypes)\n",
    "    print(name + \" deletion P-value: \" + str(result[1]))\n",
    "    print(\"\\n\")"
   ]
  },
  {
   "cell_type": "code",
   "execution_count": 82,
   "id": "99359125",
   "metadata": {},
   "outputs": [
    {
     "name": "stdout",
     "output_type": "stream",
     "text": [
      "Luad\n",
      "len(missenses) = 21\n",
      "len(wildtypes) = 29\n",
      "Luad missense P-value: 0.000165611279181047\n",
      "\n",
      "\n",
      "Pdac\n",
      "len(missenses) = 28\n",
      "len(wildtypes) = 21\n",
      "Pdac missense P-value: 0.008603505603947332\n",
      "\n",
      "\n"
     ]
    }
   ],
   "source": [
    "#Cancers with more than 20% having Missense and Wildtype\n",
    "missense_sets = [\"Luad\", \"Pdac\"]\n",
    "for name, dataset in datasets.items():\n",
    "    if name not in missense_sets: continue\n",
    "    print(name)\n",
    "    genotype_and_prot = dataset[1].merge(dataset[2], left_index = True, right_index = True)\n",
    "    missenses = genotype_and_prot.loc[genotype_and_prot[\"Mutation\"] == \"Missense_Mutation\"][target_gene + \"_umich_proteomics\"].dropna()\n",
    "    wildtypes = genotype_and_prot.loc[genotype_and_prot[\"Mutation\"] == \"Wildtype_Tumor\"][target_gene + \"_umich_proteomics\"].dropna()\n",
    "    print(\"len(missenses) = \" + str(len(missenses)))\n",
    "    print(\"len(wildtypes) = \" + str(len(wildtypes)))\n",
    "    result = ttest_ind(deletions, wildtypes)\n",
    "    print(name + \" missense P-value: \" + str(result[1]))\n",
    "    print(\"\\n\")\n",
    "    \n",
    "# genotype_and_prot = datasets[\"Luad\"][1].merge(datasets[\"Luad\"][2], left_index = True, right_index = True)\n",
    "# genotype_and_prot[\"Mutation\"]\n",
    "# genotype_and_prot.loc[genotype_and_prot[\"Mutation\"] == \"Missense_Mutation\"]"
   ]
  }
 ],
 "metadata": {
  "kernelspec": {
   "display_name": "Python 3",
   "language": "python",
   "name": "python3"
  },
  "language_info": {
   "codemirror_mode": {
    "name": "ipython",
    "version": 3
   },
   "file_extension": ".py",
   "mimetype": "text/x-python",
   "name": "python",
   "nbconvert_exporter": "python",
   "pygments_lexer": "ipython3",
   "version": "3.8.8"
  }
 },
 "nbformat": 4,
 "nbformat_minor": 5
}
