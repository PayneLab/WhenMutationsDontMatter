{
 "cells": [
  {
   "cell_type": "markdown",
   "id": "8a220f11",
   "metadata": {},
   "source": [
    "# Part 1: Create database set\n",
    "By inputting a target gene, a nested dictionary will be created, with each key being the name of a cancer and each value being a dictionary containing the genomic, proteomic, transcriptomic, and phosphoproteomic data. In other words, the dictionary will be:\n",
    "\n",
    "{\n",
    "    cancer : {   \n",
    "    \n",
    "            \"gen\" : <cancer's genomic data>,\n",
    "            \"prot\" : <cancer's proteomic data>,\n",
    "            \"trans\": <cancer's transcriptomic data>,\n",
    "            \"phos\": <cancer's phosphoproteomic data>\n",
    "        }\n",
    "    ... for each cancer\n",
    "}"
   ]
  },
  {
   "cell_type": "code",
   "execution_count": 1,
   "id": "dede19fa",
   "metadata": {},
   "outputs": [
    {
     "name": "stderr",
     "output_type": "stream",
     "text": [
      "cptac warning: Your version of cptac (1.1.1) is out-of-date. Latest is 1.1.2. Please run 'pip install --upgrade cptac' to update it. (/home/sdsquires/anaconda3/lib/python3.9/threading.py, line 910)\n"
     ]
    }
   ],
   "source": [
    "import cptac\n",
    "import cptac.pancan as pc\n",
    "import numpy as np\n",
    "import cptac.utils as ut\n",
    "# from cptac.utils import plot_utils as plt_ut\n",
    "import pandas as pd\n",
    "import seaborn as sns\n",
    "import matplotlib as mpl\n",
    "import matplotlib.pyplot as plt\n",
    "import os"
   ]
  },
  {
   "cell_type": "code",
   "execution_count": 2,
   "id": "930371b8",
   "metadata": {},
   "outputs": [],
   "source": [
    "import warnings\n",
    "warnings.filterwarnings(\"ignore\")"
   ]
  },
  {
   "cell_type": "code",
   "execution_count": 3,
   "id": "4159d5ed",
   "metadata": {},
   "outputs": [
    {
     "data": {
      "text/plain": [
       "['PancanBrca',\n",
       " 'PancanCcrcc',\n",
       " 'PancanCoad',\n",
       " 'PancanGbm',\n",
       " 'PancanHnscc',\n",
       " 'PancanLscc',\n",
       " 'PancanLuad',\n",
       " 'PancanOv',\n",
       " 'PancanUcec',\n",
       " 'PancanPdac']"
      ]
     },
     "execution_count": 3,
     "metadata": {},
     "output_type": "execute_result"
    }
   ],
   "source": [
    "dataset_names = pc.list_datasets(False)\n",
    "dataset_names  = dataset_names.split('\\n')\n",
    "dataset_names"
   ]
  },
  {
   "cell_type": "code",
   "execution_count": 4,
   "id": "c45e7a87",
   "metadata": {},
   "outputs": [],
   "source": [
    "target_gene = \"KRAS\""
   ]
  },
  {
   "cell_type": "code",
   "execution_count": 5,
   "id": "0d72985d",
   "metadata": {},
   "outputs": [],
   "source": [
    "# Indicate the NUMERICAL INDICES of the pathways of interest\n",
    "path_indices=[0]"
   ]
  },
  {
   "cell_type": "code",
   "execution_count": 6,
   "id": "6aac2474",
   "metadata": {},
   "outputs": [
    {
     "name": "stdout",
     "output_type": "stream",
     "text": [
      "Indices [0] selected!\n"
     ]
    }
   ],
   "source": [
    "# List of pathways to select for the trans analysis\n",
    "paths = ut.get_pathways_with_proteins(proteins = target_gene, database = 'wikipathways')\n",
    "if path_indices==[]:\n",
    "    paths\n",
    "else:\n",
    "    print(f\"Indices [{', '.join([str(i) for i in path_indices])}] selected!\")"
   ]
  },
  {
   "cell_type": "code",
   "execution_count": null,
   "id": "36f26ae4",
   "metadata": {},
   "outputs": [
    {
     "name": "stdout",
     "output_type": "stream",
     "text": [
      "Loading washubrca v1.0......      \r"
     ]
    }
   ],
   "source": [
    "datasets = {}\n",
    "for name in dataset_names:\n",
    "    exec(f\"cancer = pc.{name}(no_internet = True)\")  \n",
    "    genotype_data = cancer.get_genotype_all_vars(target_gene, omics_source = \"washu\")\n",
    "    \n",
    "    proteomic_data = cancer.get_proteomics(source = 'umich')\n",
    "    proteomic_data = proteomic_data.droplevel(\"Database_ID\", axis = 1)\n",
    "    \n",
    "    phospho_data = cancer.get_phosphoproteomics(source = 'umich')\n",
    "    phospho_data = phospho_data.droplevel(\"Database_ID\", axis = 1).droplevel(\"Peptide\", axis = 1)\n",
    "    \n",
    "    transcript_data = cancer.get_transcriptomics(source = \"washu\")\n",
    "    transcript_data = transcript_data.droplevel(\"Database_ID\", axis = 1)\n",
    "    \n",
    "    datasets[name[6:]] = {\n",
    "                        \"gen\" : genotype_data,\n",
    "                        \"prot\": proteomic_data,\n",
    "                        \"trans\": transcript_data,\n",
    "                        \"phos\" : phospho_data\n",
    "                         }    \n",
    "    print(f\"Loaded {name}...\")"
   ]
  },
  {
   "cell_type": "markdown",
   "id": "a54fff79",
   "metadata": {},
   "source": [
    "# Part 2: Select mutations\n",
    "Determine which cancers have mutation types with rates above 20%.\n",
    "\n",
    "To facilitate that, the mutation types from the get_genotype_all_vars must be grouped into functional types.\n"
   ]
  },
  {
   "cell_type": "code",
   "execution_count": null,
   "id": "b6178983",
   "metadata": {},
   "outputs": [],
   "source": [
    "mutation_types = [\"Deletion\", \"Amplification\", \"Truncation\", \"Indel\", \"Missense\"]"
   ]
  },
  {
   "cell_type": "code",
   "execution_count": null,
   "id": "9bfa5779",
   "metadata": {},
   "outputs": [],
   "source": [
    "# Grouping the mutation types for each cancer\n",
    "for name, dataset in datasets.items():\n",
    "    genotypes = dataset[\"gen\"]\n",
    "    genotypes.replace([\"Nonsense_Mutation\", \"Frame_Shift_Ins\", \"Frame_Shift_Del\"], \"Truncation\", inplace = True)\n",
    "    genotypes.replace([\"In_Frame_Del\", \"In_Frame_Ins\"], \"Indel\", inplace = True)\n",
    "    genotypes.replace([\"Missense_Mutation\", \"Wildtype_Tumor\"], [\"Missense\", \"Wildtype\"], inplace = True)\n",
    "    genotypes = genotypes.loc[~genotypes[\"Mutation\"].isin([\"Intron\",\"Silent\"])]\n",
    "    datasets[name][\"gen\"] = genotypes"
   ]
  },
  {
   "cell_type": "code",
   "execution_count": null,
   "id": "9ddba048",
   "metadata": {},
   "outputs": [],
   "source": [
    "# Create a bargraph displaying the mutation types\n",
    "mutation_data = pd.DataFrame()\n",
    "for cancer, dataset in datasets.items():\n",
    "    mutation_data[cancer]= datasets[cancer][\"gen\"].groupby(\"Mutation\").count()[\"Location\"]\n",
    "mutation_data = mutation_data.fillna(0)\n",
    "mutation_data = mutation_data.transpose()#.drop(columns=\"Wildtype\")\n",
    "mutation_data.drop(columns=\"Wildtype\").plot.bar(rot=0, width=0.8)\n",
    "\n",
    "plt.xlabel(\"Cancer Type\", fontsize=16)\n",
    "plt.ylabel(\"Count of Mutation\", fontsize=16)\n",
    "plt.title(\"Count of Mutation Type by Cancer\", fontsize=20)\n",
    "mutation_data\n"
   ]
  },
  {
   "cell_type": "code",
   "execution_count": null,
   "id": "3e8e0509",
   "metadata": {},
   "outputs": [],
   "source": [
    "# Determine which cancers have mutation rates over 20%\n",
    "variants_to_analyze = {}\n",
    "for name, dataset in datasets.items():\n",
    "    mut_type_freq = dataset[\"gen\"][\"Mutation\"].value_counts() / len(dataset[\"gen\"])\n",
    "    \n",
    "    mut_type_freq = mut_type_freq.loc[mut_type_freq >= 0.2]\n",
    "    variants_to_analyze[name] = set(mut_type_freq.index.tolist())\n",
    "    variants_to_analyze[name].discard(\"Wildtype\")\n",
    "print(str(variants_to_analyze))"
   ]
  },
  {
   "cell_type": "code",
   "execution_count": null,
   "id": "f1fa71c3",
   "metadata": {},
   "outputs": [],
   "source": [
    "mutation_data = mutation_data.apply(lambda row: row / row.sum(), axis=1)\n",
    "ax = mutation_data.drop(columns=\"Wildtype\").plot.bar(rot=0, width=0.8)\n",
    "plt.axhline(y=0.2, xmin=0, xmax=1, linestyle=\"dotted\", color=\"grey\")\n",
    "\n",
    "plt.xlabel(\"Cancer Type\", fontsize=16)\n",
    "plt.ylabel(\"Percent of Samples Containing Mutation Type\", fontsize=16)\n",
    "plt.title(\"Percent of Samples Contaning Mutation Type by Cancer\", fontsize=20)\n",
    "ax.set_yticklabels([\"{:,.0%}\".format(val) for val in ax.get_yticks()])\n",
    "ax.get_yticklabels()[2].set_weight(\"bold\")\n",
    "plt.show()"
   ]
  },
  {
   "cell_type": "code",
   "execution_count": null,
   "id": "c0a75f2d",
   "metadata": {},
   "outputs": [],
   "source": [
    "# plt.figure1_plot_mutations(datasets.values(), list(datasets.keys()), save_to_path = \"Test_Figure.png\")"
   ]
  },
  {
   "cell_type": "markdown",
   "id": "368f9dd3",
   "metadata": {},
   "source": [
    "# Part 3: Cis effects\n",
    "Determines which genes that, given a mutation, will change the expression in their own proteomics, transcriptomics, or phosphoproteomics.This analysis is repeated for every cancer, and every mutation type.\n",
    "\n",
    "Writes out a file containing the infomation for each mutation and cancer, and creates boxplot summarizing the data"
   ]
  },
  {
   "cell_type": "code",
   "execution_count": null,
   "id": "588253ab",
   "metadata": {},
   "outputs": [],
   "source": [
    "from scipy.stats import ttest_ind\n",
    "omics_key = {\"prot\":\"proteomics\", \"trans\":\"transcriptomics\",\"phos\":\"phosphoproteomics\"}"
   ]
  },
  {
   "cell_type": "code",
   "execution_count": null,
   "id": "5b4a3f8d",
   "metadata": {},
   "outputs": [],
   "source": [
    "'''\n",
    "Parameters\n",
    "pval_symbol: String. The symbol associated with the significance of the pvalue (NS, *, **, or ***)\n",
    "x1, x2: Float. x coordinates for the start and end of the annotation line.\n",
    "line_start: Float. y coordinate for the horizontal line (Default = .05).\n",
    "line_height: Float. The height of the vertical lines at the start and end of the horizontal line (Default = .05).\n",
    "\n",
    "Returns a formated annotation line showing the significance symbol of each pvalue.\n",
    "'''\n",
    "def format_pval_annotation(pval_symbol, x1, x2, line_start = .05, line_height=.05):\n",
    "    # for manual adjustment to pval annotations\n",
    "    \n",
    "    y, h = line_start, line_height\n",
    "    plt.plot([x1, x1, x2, x2], #draw horizontal line\n",
    "             [y, y+h, y+h, y], #vertical line\n",
    "             lw=1.5, color= '.3')\n",
    "    plt.text((x1+x2)*.5, # half between x coord\n",
    "             y+h, pval_symbol, horizontalalignment='center', verticalalignment='bottom', color = \"black\")"
   ]
  },
  {
   "cell_type": "code",
   "execution_count": null,
   "id": "bf4312c1",
   "metadata": {},
   "outputs": [],
   "source": [
    "def generate_cis_plot(boxplot_data, omics_type, pval_df):\n",
    "    plt.rcParams['figure.figsize'] = (15,10) # size of plot\n",
    "#     if len(gene_list) > 15:\n",
    "#         plt.rcParams['figure.figsize']=(20,10)\n",
    "    sns.set(font_scale = 1.2, style = \"white\")\n",
    "\n",
    "    for site in boxplot_data[\"Site\"].unique():\n",
    "        mutations = sorted(boxplot_data[\"Mutation\"].unique(), reverse = True)\n",
    "        boxplot = sns.boxplot(x = \"cancer_type\", y = \"P_Value\", hue = \"Mutation\", showfliers = False, \n",
    "                              data = boxplot_data[boxplot_data[\"Site\"] == site], hue_order = mutations)\n",
    "        boxplot = sns.stripplot(x = \"cancer_type\", y = \"P_Value\", hue = \"Mutation\", jitter = True, hue_order = mutations,\n",
    "                               color = \".3\", dodge = True, data = boxplot_data[boxplot_data[\"Site\"] == site])\n",
    "#         gene_site = site if site == target_gene else target_gene+'.'+site\n",
    "        gene_site = site\n",
    "        boxplot.set(xlabel = \"\", ylabel = f\"{gene_site}_{omics_key[omics_type]}\")\n",
    "        boxplot.set(title = f\"Pancan Analysis of {gene_site} {omics_key[omics_type].capitalize()} Mutations\")\n",
    "#         if len(gene_list) > 15:\n",
    "#             boxplot.set_xticklabels(boxplot.get_xticklabels(),rotation=50)\n",
    "        \n",
    "        num = len(boxplot_data[\"Mutation\"].unique())\n",
    "        handles, labels = boxplot.get_legend_handles_labels()\n",
    "        legend = plt.legend(handles[0:num], labels[0:num], loc = \"lower right\")\n",
    "        \n",
    "        ## CREATE PVAL ANNOTATIONS\n",
    "        symbols = {}\n",
    "        start = -0.3\n",
    "        cancer_list = boxplot.get_xticklabels() # get a list of cancer types actually plotted \n",
    "        first_mutation = mutations[1]\n",
    "        bottom,top = plt.ylim()\n",
    "        annot_size = top + 0.5\n",
    "        annot_scale = (top - bottom) * 0.05 # sets annotation height between mutations based on y-axis scale\n",
    "        for cancer in cancer_list:\n",
    "            cancer = cancer.get_text()\n",
    "            mutation_list = sorted(boxplot_data.loc[boxplot_data[\"cancer_type\"] == cancer][\"Mutation\"].unique().tolist(),\n",
    "                                   reverse = True)\n",
    "            mutation_list.remove(\"Wildtype\")\n",
    "            offset = 0.4\n",
    "            annot_offset = annot_scale\n",
    "            for mutation in mutation_list:\n",
    "                pval = pval_df.loc[(pval_df[\"Cancer\"] == cancer)&(pval_df[\"Mutation\"] == mutation)&\n",
    "                                   (pval_df[\"Site\"] == site)]['P_Value']\n",
    "                if pval.tolist():\n",
    "                    pval = pval.tolist()[0]\n",
    "                    if pval  <= 0.001:\n",
    "                         symbols[cancer] = '***'\n",
    "                    elif pval  <= 0.01:\n",
    "                        symbols[cancer] = '**'  \n",
    "                    elif pval <= 0.05:\n",
    "                        symbols[cancer] = '*'\n",
    "                    else:\n",
    "                        symbols[cancer] = 'ns'\n",
    "                    if mutation == first_mutation:\n",
    "                        format_pval_annotation(symbols[cancer], start, start + 0.2, annot_size)\n",
    "                    else:\n",
    "                        format_pval_annotation(symbols[cancer], start, start + offset, annot_size + annot_offset)\n",
    "                        offset += 0.2\n",
    "                        annot_offset += annot_scale\n",
    "            start += 1\n",
    "        plt.show()\n",
    "        plt.clf()\n",
    "        plt.close()\n",
    "            \n",
    "#         fig = boxplot.get_figure()\n",
    "#         fig.savefig(f\"Cis_Effect_output/Test_{gene_site}_{omics_key[omics_type]}.png\")\n",
    "#         fig.clf()"
   ]
  },
  {
   "cell_type": "code",
   "execution_count": null,
   "id": "f8e97355",
   "metadata": {},
   "outputs": [],
   "source": [
    "# Create a function that will analyze the protein cis effects for a given mutation type\n",
    "def analyze_cis_mutation(omics_type, genes_to_analyze = [target_gene], write_out = True, file_name = None, output_boxplot = True, write_insignificant=False):\n",
    "    \"\"\"Analyzes the cis effects for a given mutation type across all cancers.\n",
    "    \n",
    "    Parameters:\n",
    "    omics_type (str): The omics to analyze. Possible values are in list [\"prot\", \"trans\", \"phos\"]\n",
    "    genes_to_analyze (list): A list of strings representing genes to analyze. For cis effects, this is always [target_gene]\n",
    "    write_out (bool, default=True): Whether to write out the data to a separate file.\n",
    "    output_boxplot (bool, default=True): Outputs the data as a boxplot given by the generate_cis_plot function\n",
    "    write_insignificant (bool, default=True): Returns data only when the p-value <= 0.05. If write_out, it only writes out the data under that condition.\n",
    "    \n",
    "    Returns a dataframe containing output of scipy.ttest_ind() between \"Wildtype\" and mutation_type tumors.\n",
    "    \"\"\"\n",
    "    if write_out:# Sets file name and clears target files\n",
    "        import os\n",
    "        if file_name is None:\n",
    "            effect_type = \"Cis\" if genes_to_analyze == [target_gene] else \"Trans\"\n",
    "            file_name = f\"{effect_type}_Effect_output/{omics_key[omics_type].capitalize()}_Analysis.txt\" \n",
    "            if '/' in file_name:\n",
    "                directory = file_name[:file_name.rfind('/')]\n",
    "                if not os.path.exists(directory):\n",
    "                    os.makedirs(directory)\n",
    "        with open(file_name, 'w') as out_file: pass\n",
    "                \n",
    "                \n",
    "    for cancer_type, dataset in datasets.items():\n",
    "        ## PREPARE DATA ##\n",
    "        genotype_and_omic = dataset[omics_type].copy()\n",
    "        if isinstance(genotype_and_omic.columns, pd.MultiIndex):\n",
    "            genotype_and_omic.columns = ['_'.join(col) for col in genotype_and_omic.columns.values]\n",
    "        if genes_to_analyze is not None:\n",
    "            genotype_and_omic = genotype_and_omic.filter(regex='(' + '|'.join(genes_to_analyze) + ')(_.*)?$', axis=1)\n",
    "        else:\n",
    "            genotype_and_omic.drop(target_gene, axis = 1, inplace=True)\n",
    "        genotype_and_omic[\"Mutation\"] = dataset[\"gen\"][\"Mutation\"].copy()\n",
    "        genotype_and_omic = genotype_and_omic.loc[:,~genotype_and_omic.columns.duplicated()]\n",
    "        \n",
    "        for mutation_type in mutation_types:\n",
    "            if mutation_type not in variants_to_analyze[cancer_type]: \n",
    "                continue\n",
    "                    \n",
    "            print(f\"   {cancer_type} {mutation_type}s\") #debug temp\n",
    "            target_mut_data = genotype_and_omic.loc[genotype_and_omic[\"Mutation\"].isin([\"Wildtype\", mutation_type])]\n",
    "            ## ANALYZE P-VALUES ##\n",
    "            # DIFF b/w trans effects: loops through each column to avoid correction\n",
    "            for site in target_mut_data.drop(\"Mutation\", axis=1).columns:\n",
    "                mutation_analysis = ut.wrap_ttest(target_mut_data, label_column=\"Mutation\",\n",
    "                                    correction_method = \"fdr_bh\", return_all=True)\n",
    "                mutation_analysis.rename({'Comparison':'Site'}, axis = 1, inplace = True)\n",
    "                mutation_analysis['Cancer'], mutation_analysis['Mutation'] = cancer_type, mutation_type\n",
    "            \n",
    "                try:\n",
    "                    result = pd.concat([result, mutation_analysis])\n",
    "                except NameError:\n",
    "                    result = mutation_analysis\n",
    "            #END DIFF\n",
    "            \n",
    "                ## GATHER DATA FOR BOXPLOT ##\n",
    "                if output_boxplot:\n",
    "                    new_data = genotype_and_omic[(genotype_and_omic[\"Mutation\"] == mutation_type)|\n",
    "                                                (genotype_and_omic[\"Mutation\"] == \"Wildtype\")]\n",
    "                    new_data[\"Site\"], new_data[\"cancer_type\"] = site, cancer_type\n",
    "                    new_data.rename({site:\"P_Value\"}, axis=1, inplace=True)\n",
    "                    try:\n",
    "                        boxplot_data = pd.concat([boxplot_data, new_data], axis=0)\n",
    "                    except NameError:\n",
    "                        boxplot_data = new_data\n",
    "                        \n",
    "    result.drop_duplicates(inplace=True)\n",
    "\n",
    "            ## WRITE OUT RESULT ##\n",
    "    if write_out:\n",
    "        with open(file_name, 'a') as out_file:\n",
    "            output = result.copy()\n",
    "            if not write_insignificant:\n",
    "                output = output.loc[output['P_Value'] <= 0.05]\n",
    "            \n",
    "            for cancer in output[\"Cancer\"].unique():\n",
    "                for mutation in output[\"Mutation\"].unique():\n",
    "                    mut_data = output.loc[(output[\"Cancer\"] == cancer)&(output[\"Mutation\"] == mutation)]\n",
    "                    out_file.write(f\"{cancer.upper()} {mutation.upper()}: \")\n",
    "                    out_file.write(f\"{len(mut_data.loc[mut_data['P_Value'] <= 0.05])} significant entries\\n\")\n",
    "                    for row in mut_data.iterrows():\n",
    "                        data = row[1]\n",
    "                        out_file.write(f\"   {data['Site']}:\".ljust(15) + f\"{data['P_Value']}\\n\")\n",
    "                    out_file.write('\\n')\n",
    "\n",
    "    ## CREATE BOXPLOT ##\n",
    "    if output_boxplot:\n",
    "        generate_cis_plot(boxplot_data, omics_type, result) \n",
    "\n",
    "    result.reset_index(drop=True, inplace=True)\n",
    "    result[\"Omics\"] = omics_type\n",
    "    return result"
   ]
  },
  {
   "cell_type": "code",
   "execution_count": null,
   "id": "7a28f9e0",
   "metadata": {
    "scrolled": false
   },
   "outputs": [],
   "source": [
    "cis_effects = pd.concat([analyze_cis_mutation(omics_type, genes_to_analyze=[target_gene]) for omics_type in [\"prot\", \"trans\", \"phos\"]])\n",
    "cis_effects.reset_index(drop=True, inplace=True)\n",
    "cis_effects\n"
   ]
  },
  {
   "cell_type": "markdown",
   "id": "73617b45",
   "metadata": {},
   "source": [
    "# Part 4: Trans Effects\n",
    "Determines which genes that, given a mutation, will change the expression in another protein's proteomics, transcriptomics, or phosphoproteomics.This analysis is repeated for every cancer, and every mutation type.\n",
    "\n",
    "To reduce the computational intensity and the corrections needed, the scope will be restricted to genes that share specific pathways with the target gene. These pathways are hypothesized to be significant in the gene's function, and **must be specificed beforehand**, either at the beginning of this notebook or in the following cells.\n",
    "\n",
    "The analysis will then be repeated for all genes in the dataset. As the number of comparisons is greater, the correction applied will be more substantial.\n",
    "\n",
    "Writes out a file containing the infomation for each mutation and cancer, and creates boxplot summarizing the data"
   ]
  },
  {
   "cell_type": "code",
   "execution_count": null,
   "id": "402cf454",
   "metadata": {},
   "outputs": [],
   "source": [
    "# if path_indices == []:\n",
    "#     print()"
   ]
  },
  {
   "cell_type": "code",
   "execution_count": null,
   "id": "b1daf485",
   "metadata": {},
   "outputs": [],
   "source": [
    "interacting_proteins = ut.get_proteins_in_pathways(paths[\"pathway\"].loc[path_indices], database = 'wikipathways')\n",
    "interacting_proteins = set(interacting_proteins[\"member\"])\n",
    "\n",
    "# genes_measured = [gene for dataset in datasets.values() for gene in dataset[\"prot\"].columns]\n",
    "genes_measured = set([gene for gene in dataset[\"prot\"].columns for dataset in datasets.values()])\n",
    "genes_to_analyze = sorted([protein for protein in interacting_proteins if protein in genes_measured])\n",
    "no_analysis = sorted([protein for protein in interacting_proteins if protein not in genes_measured])# debug temp\n",
    "\n",
    "if target_gene in genes_to_analyze:\n",
    "    genes_to_analyze.remove(target_gene)\n",
    "print(f\"Interacting genes: {len(interacting_proteins)}\")\n",
    "print(f\"Not measured in cptac: {len(no_analysis)}\") #debug temp\n",
    "print(f\"Genes to analyze: {len(genes_to_analyze)}\")"
   ]
  },
  {
   "cell_type": "code",
   "execution_count": null,
   "id": "c8dd51f6",
   "metadata": {},
   "outputs": [],
   "source": [
    "# Create a function that will analyze the protein cis effects for a given mutation type\n",
    "def analyze_trans_mutation(omics_type, genes_to_analyze = None, write_out = True, file_name = None, output_boxplot = True, write_insignificant=False):\n",
    "    \"\"\"Analyzes the cis effects for a given mutation type across all cancers.\n",
    "    \n",
    "    Parameters:\n",
    "    omics_type (str): The omics to analyze. Possible values are in list [\"prot\", \"trans\", \"phos\"]\n",
    "    genes_to_analyze (list, default=None): The list of genes to consider for trans effects. Defaults to all genes in dataset, excluding target_gene\n",
    "    write_out (bool, default=True): Whether to write out the data to a separate file.\n",
    "    output_boxplot (bool, default=True): Outputs the data as a boxplot given by the generate_trans_plot function\n",
    "    write_insignificant (bool, default=True): Returns data only when the p-value <= 0.05. If write_out, it only writes out the data under that condition.\n",
    "    \n",
    "    Returns the output of scipy.ttest_ind() between \"Wildtype\" and mutation_type tumors. If analyzing phosphoproteomics, returns a list of such outputs\n",
    "    \"\"\"\n",
    "    if write_out:# Sets file name and clears target files\n",
    "        import os\n",
    "        if file_name is None:\n",
    "            effect_type = \"Cis\" if genes_to_analyze == [target_gene] else \"Trans\"\n",
    "            file_name = f\"{effect_type}_Effect_output/{omics_key[omics_type].capitalize()}_Analysis_trans.txt\"\n",
    "        if '/' in file_name:\n",
    "            directory = file_name[:file_name.rfind('/')]\n",
    "            if not os.path.exists(directory):\n",
    "                os.makedirs(directory)\n",
    "        with open(file_name, 'w') as out_file: pass\n",
    "                \n",
    "                \n",
    "    for cancer_type, dataset in datasets.items():\n",
    "        ## PREPARE DATA ##\n",
    "        genotype_and_omic = dataset[omics_type].copy()\n",
    "        if isinstance(genotype_and_omic.columns, pd.MultiIndex):\n",
    "            genotype_and_omic.columns = ['_'.join(col) for col in genotype_and_omic.columns.values]\n",
    "        if genes_to_analyze is not None:\n",
    "            genotype_and_omic = genotype_and_omic.filter(regex='(' + '|'.join(genes_to_analyze) + ')(_.*)?$', axis=1)\n",
    "        else:\n",
    "            genotype_and_omic.drop(genotype_and_omic.filter(regex = 'Test').columns, axis = 1, inplace = True)\n",
    "        genotype_and_omic[\"Mutation\"] = dataset[\"gen\"][\"Mutation\"].copy()\n",
    "        genotype_and_omic = genotype_and_omic.loc[:,~genotype_and_omic.columns.duplicated()]\n",
    "        \n",
    "        for mutation_type in mutation_types:\n",
    "            if mutation_type not in variants_to_analyze[cancer_type]: \n",
    "                continue\n",
    "            print(f\"   {cancer_type} {mutation_type}s\") #debug temp\n",
    "\n",
    "            target_mut_data = genotype_and_omic.loc[genotype_and_omic[\"Mutation\"].isin([\"Wildtype\", mutation_type])]\n",
    "   \n",
    "            ## ANALYZE P-VALUES ##\n",
    "            mutation_analysis = ut.wrap_ttest(target_mut_data, label_column=\"Mutation\",\n",
    "                                correction_method = \"fdr_bh\", return_all=True)\n",
    "            mutation_analysis.rename({'Comparison':'Site'}, axis = 1, inplace = True)\n",
    "            mutation_analysis['Cancer'], mutation_analysis['Mutation'] = cancer_type, mutation_type\n",
    "            \n",
    "            try:\n",
    "                result = pd.concat([result, mutation_analysis])\n",
    "            except NameError:\n",
    "                result = mutation_analysis\n",
    "\n",
    "            ## GATHER DATA FOR BOXPLOT ##\n",
    "            if output_boxplot:\n",
    "                new_data = genotype_and_omic[(genotype_and_omic[\"Mutation\"] == mutation_type)|\n",
    "                                            (genotype_and_omic[\"Mutation\"] == \"Wildtype\")]\n",
    "                new_data[\"cancer_type\"] = cancer_type\n",
    "                try:\n",
    "                    boxplot_data = pd.concat([boxplot_data, new_data], axis=0)\n",
    "                except NameError:\n",
    "                    boxplot_data = new_data\n",
    "    \n",
    "    result.drop_duplicates(inplace=True)\n",
    "\n",
    "    ## WRITE OUT RESULT ##\n",
    "    if write_out:\n",
    "        with open(file_name, 'a') as out_file:\n",
    "            output = result.copy()\n",
    "            for cancer in output[\"Cancer\"].unique():\n",
    "                for mutation in output[\"Mutation\"].unique():\n",
    "                    mut_data = output.loc[(output[\"Cancer\"] == cancer)&(output[\"Mutation\"] == mutation)]\n",
    "                    if len(mut_data) == 0: \n",
    "                        continue\n",
    "                    if not write_insignificant:\n",
    "                        mut_data = mut_data.loc[mut_data['P_Value'] <= 0.05]\n",
    "                    out_file.write(f\"{cancer.upper()} {mutation.upper()}: \")\n",
    "                    out_file.write(f\"{len(mut_data.loc[mut_data['P_Value'] <= 0.05])} significant entries\\n\")\n",
    "                    for row in mut_data.iterrows():\n",
    "                        data = row[1]\n",
    "                        out_file.write(f\"   {data['Site']}:\".ljust(15) + f\"{data['P_Value']}\\n\")\n",
    "                    out_file.write('\\n')\n",
    "\n",
    "    ## CREATE BOXPLOT ##\n",
    "#     if output_boxplot:\n",
    "#         pval_df = pd.DataFrame(pval_dict)\n",
    "#         generate_cis_plot(boxplot_data, omics_type, pval_df) \n",
    "        \n",
    "    return result"
   ]
  },
  {
   "cell_type": "code",
   "execution_count": null,
   "id": "ac8bb1eb",
   "metadata": {},
   "outputs": [],
   "source": [
    "trans_effects = None\n",
    "for omics_type in [\"prot\", \"trans\", \"phos\"]:\n",
    "    print(omics_type.upper() + ':')\n",
    "    data = analyze_trans_mutation(omics_type, genes_to_analyze=genes_to_analyze, write_insignificant=False)\n",
    "    data[\"Omics\"] = omics_type\n",
    "    if trans_effects is not None:\n",
    "        trans_effects = pd.concat([trans_effects, data])\n",
    "    else:\n",
    "        trans_effects = data\n",
    "    print()\n",
    "trans_effects.reset_index(drop=True, inplace=True)\n",
    "trans_effects"
   ]
  },
  {
   "cell_type": "code",
   "execution_count": null,
   "id": "78608115",
   "metadata": {},
   "outputs": [],
   "source": [
    "trans_effects_all = None\n",
    "for omics_type in [\"prot\", \"trans\", \"phos\"]:\n",
    "    print(omics_type.upper() + ':')\n",
    "    data = analyze_trans_mutation(omics_type, genes_to_analyze=None, write_insignificant=False, file_name=f\"Trans_Effect_output/{omics_key[omics_type].capitalize()}_Analysis_trans_ALL\")\n",
    "    data[\"Omics\"] = omics_type\n",
    "    if trans_effects_all is not None:\n",
    "        trans_effects_all = pd.concat([trans_effects_all, data])\n",
    "    else:\n",
    "        trans_effects_all = data\n",
    "    print()\n",
    "trans_effects_all.reset_index(drop=True, inplace=True)\n",
    "trans_effects_all"
   ]
  },
  {
   "cell_type": "markdown",
   "id": "4767df0c",
   "metadata": {},
   "source": [
    "# Part 5: Discussion\n",
    "Looks for ptaterns in the analysis that will indicate meaningful conclusions"
   ]
  },
  {
   "cell_type": "markdown",
   "id": "123becd0",
   "metadata": {},
   "source": [
    "## 5.1: Overlapping Genes\n",
    "A pan-cancer effect is, by definition, one that is present across many types of cancers. We will look at the most significant effects in each cancer for each mutation, and find the overlap with all other cancers and mutations."
   ]
  },
  {
   "cell_type": "code",
   "execution_count": null,
   "id": "311e6451",
   "metadata": {},
   "outputs": [],
   "source": [
    "# SIG_ENTRIES = 75\n",
    "PERCENT_MOST_SIGNIFICANT = 25\n",
    "# It is possible to get a specific number, but different target_genes have different amounts of genes,\n",
    "#    so doing it this way yields more consistent results"
   ]
  },
  {
   "cell_type": "code",
   "execution_count": null,
   "id": "fb2196e6",
   "metadata": {},
   "outputs": [],
   "source": [
    "# def find_common_effects(effects, omics_type, file_name = None):\n",
    "\n",
    "#     most_significant = []\n",
    "#     num_entries = 0\n",
    "#     for cancer in effects[\"Cancer\"].unique():\n",
    "#         for mutation in effects[\"Mutation\"].unique():\n",
    "#             data = effects.loc[(effects[\"Cancer\"] == cancer) & (effects[\"Mutation\"] == mutation) & (effects[\"Omics\"] == omics_type)]\n",
    "# #             most_significant.append(data.head(SIG_ENTRIES))\n",
    "#             most_significant.append(data.head(int(len(data) * PERCENT_MOST_SIGNIFICANT / 100)))\n",
    "\n",
    "#             if len(data) > 0:\n",
    "#                 num_entries += 1\n",
    "            \n",
    "#     most_significant = pd.concat(most_significant)\n",
    "#     most_significant = most_significant[\"Site\"].value_counts()\n",
    "#     most_significant = most_significant[most_significant > 1]\n",
    "    \n",
    "#     #Everything below is just for outputting data\n",
    "#     import os\n",
    "#     if file_name is None:\n",
    "#         effect_type = \"Cis\" if genes_to_analyze == [target_gene] else \"Trans\"\n",
    "#         file_name = f\"{effect_type}_Effect_output/{omics_key[omics_type].capitalize()}_Common_Effects.txt\"\n",
    "#     if '/' in file_name:\n",
    "#         directory = file_name[:file_name.rfind('/')]\n",
    "#         if not os.path.exists(directory):\n",
    "#             os.makedirs(directory)\n",
    "    \n",
    "#     with open(file_name, 'w') as out_file:\n",
    "#         out_file.write(f\"{target_gene} {omics_key[omics_type].capitalize()}\\n\")\n",
    "#         out_file.write(f\"Total number of cancer+mutation types measured: {num_entries}\\n\")\n",
    "#         out_file.write(f\"Taking the top {PERCENT_MOST_SIGNIFICANT} percent most significant genes from each\\n\")\n",
    "#         out_file.write(most_significant.to_string())\n",
    "    \n",
    "#     return most_significant"
   ]
  },
  {
   "cell_type": "code",
   "execution_count": null,
   "id": "abe2763d",
   "metadata": {},
   "outputs": [],
   "source": [
    "def find_common_effects(effects, omics_type, slice_by=\"percentile\", slice_val=25, file_name = None):\n",
    "\n",
    "    most_significant = []\n",
    "    num_entries = 0\n",
    "    for cancer in effects[\"Cancer\"].unique():\n",
    "        for mutation in effects[\"Mutation\"].unique():\n",
    "            data = effects.loc[(effects[\"Cancer\"] == cancer) & (effects[\"Mutation\"] == mutation) & (effects[\"Omics\"] == omics_type)]\n",
    "            # This slices the data based on what input parameter was put in\n",
    "            if slice_by == \"p_value\":\n",
    "                most_significant.append(data[data[\"P_Value\"] < slice_val])\n",
    "            elif slice_by == \"rank\":\n",
    "                most_significant.append(data.head(slice_val))\n",
    "            elif slice_by==\"percentile\":\n",
    "                most_significant.append(data.head(int(len(data) * slice_val / 100)))\n",
    "\n",
    "            #Not all combinations of cancer+mutation exist in dataframe; only counting those that do\n",
    "            if len(data) > 0:\n",
    "                num_entries += 1\n",
    "    \n",
    "    #Transforming into dataframe\n",
    "    most_significant = pd.concat(most_significant)\n",
    "    most_significant = most_significant[\"Site\"].value_counts()\n",
    "    most_significant = most_significant[most_significant > 1]\n",
    "    \n",
    "    #Everything below is just for outputting data\n",
    "    import os\n",
    "    if file_name is None:\n",
    "        effect_type = \"Cis\" if genes_to_analyze == [target_gene] else \"Trans\"\n",
    "        file_name = f\"{effect_type}_Effect_output/{omics_key[omics_type].capitalize()}_Common_Effects_by_{slice_by}.txt\"\n",
    "    if '/' in file_name:\n",
    "        directory = file_name[:file_name.rfind('/')]\n",
    "        if not os.path.exists(directory):\n",
    "            os.makedirs(directory)\n",
    "    \n",
    "    with open(file_name, 'w') as out_file:\n",
    "        out_file.write(f\"{target_gene} {omics_key[omics_type].capitalize()}\\n\")\n",
    "        out_file.write(f\"Total number of cancer+mutation types measured: {num_entries}\\n\")\n",
    "        if slice_by==\"p_value\":\n",
    "            out_file.write(f\"Taking the genes where p < {slice_val}\\n\")\n",
    "        elif slice_by==\"rank\":\n",
    "            out_file.write(f\"Taking the {slice_val} most significant genes from each\\n\")\n",
    "        elif slice_by==\"percentile\":\n",
    "            out_file.write(f\"Taking the top {slice_val} percent most significant genes from each\\n\")\n",
    "        out_file.write(most_significant.to_string())\n",
    "    \n",
    "    return most_significant"
   ]
  },
  {
   "cell_type": "code",
   "execution_count": null,
   "id": "ea69004a",
   "metadata": {},
   "outputs": [],
   "source": [
    "for omics in [\"prot\", \"trans\", \"phos\"]:\n",
    "    find_common_effects(trans_effects, omics, slice_by=\"p_value\", slice_val=0.05)\n",
    "    find_common_effects(trans_effects, omics, slice_by=\"percentile\", slice_val=25)\n",
    "    find_common_effects(trans_effects_all, omics, file_name=f\"Trans_Effect_output/{omics_key[omics].capitalize()}_Common_Effects_All_by_p_value.txt\", slice_by=\"p_value\", slice_val=0.05)\n",
    "    find_common_effects(trans_effects_all, omics, file_name=f\"Trans_Effect_output/{omics_key[omics].capitalize()}_Common_Effects_All_by_percentile.txt\", slice_by=\"percentile\", slice_val=25)"
   ]
  },
  {
   "cell_type": "markdown",
   "id": "c64d79a2",
   "metadata": {},
   "source": [
    "## 5.2: Pathway Enrichment"
   ]
  },
  {
   "cell_type": "code",
   "execution_count": null,
   "id": "1ccd0a51",
   "metadata": {},
   "outputs": [],
   "source": [
    "# from gprofiler import GProfiler\n",
    "# cancer = \"Brca\"\n",
    "# mutation = \"Deletion\"\n",
    "\n",
    "# up_in_mutation = trans_effects.loc[(trans_effects[\"Cancer\"]==cancer)&\n",
    "#                                    (trans_effects[\"Mutation\"]==mutation)&\n",
    "#                                    (trans_effects[\"Omics\"] == \"prot\")][\"Site\"]\n",
    "# up_in_mutation = list(up_in_mutation)\n",
    "# up_in_mutation"
   ]
  },
  {
   "cell_type": "code",
   "execution_count": null,
   "id": "fd066950",
   "metadata": {},
   "outputs": [],
   "source": [
    "# GProfiler(return_dataframe=True).profile(organism='hsapiens', query=up_in_mutation)"
   ]
  },
  {
   "cell_type": "code",
   "execution_count": null,
   "id": "57a7d587",
   "metadata": {},
   "outputs": [],
   "source": [
    "# enrichments = {cancer + '_' + mutation : set(GProfiler(return_dataframe=True).profile(organism='hsapiens', query=up_in_mutation)[\"name\"])\n",
    "#                 for cancer in trans_effects[\"Cancer\"]\n",
    "#                 for mutation in trans_effects[\"Mutation\"]}\n",
    "# enrichments\n",
    "#Taking a long time"
   ]
  },
  {
   "cell_type": "code",
   "execution_count": null,
   "id": "f4436372",
   "metadata": {},
   "outputs": [],
   "source": [
    "# enrichments = {}\n",
    "# omics_effects = trans_effects.loc[trans_effects[\"Omics\"] == \"prot\"]\n",
    "# for cancer in omics_effects[\"Cancer\"].unique():\n",
    "#     cancer_effects = omics_effects.loc[omics_effects[\"Cancer\"] == cancer]\n",
    "#     for mutation in cancer_effects[\"Mutation\"].unique():\n",
    "#         print(cancer+'_'+mutation)\n",
    "#         query = list(trans_effects.loc[(trans_effects[\"Mutation\"]==mutation)][\"Site\"])\n",
    "#         enrichments[cancer+'_'+mutation] = GProfiler(return_dataframe=True).profile(organism='hsapiens', query=query)\n",
    "#         enrichments[cancer+'_'+mutation]\n",
    "#         break\n",
    "#     break\n",
    "# enrichments"
   ]
  },
  {
   "cell_type": "code",
   "execution_count": null,
   "id": "5ad58218",
   "metadata": {},
   "outputs": [],
   "source": [
    "# enrichments[\"Brca_Deletion\"]"
   ]
  },
  {
   "cell_type": "markdown",
   "id": "380829a1",
   "metadata": {},
   "source": [
    "### TEMP\n",
    "This is junk that will be deleted soon"
   ]
  },
  {
   "cell_type": "code",
   "execution_count": null,
   "id": "bed7aed3",
   "metadata": {},
   "outputs": [],
   "source": []
  },
  {
   "cell_type": "code",
   "execution_count": null,
   "id": "7fd85c29",
   "metadata": {},
   "outputs": [],
   "source": [
    "#DELETE THIS CELL\n",
    "#I use this to let me know when the data has finished loading\n",
    "import webbrowser\n",
    "webbrowser.open(\"https://www.youtube.com/watch?v=dQw4w9WgXcQ\")"
   ]
  },
  {
   "cell_type": "code",
   "execution_count": null,
   "id": "1f013609",
   "metadata": {},
   "outputs": [],
   "source": []
  },
  {
   "cell_type": "code",
   "execution_count": null,
   "id": "fe8dd6b0",
   "metadata": {},
   "outputs": [],
   "source": []
  },
  {
   "cell_type": "code",
   "execution_count": null,
   "id": "4656f4f4",
   "metadata": {},
   "outputs": [],
   "source": []
  },
  {
   "cell_type": "code",
   "execution_count": null,
   "id": "04b87b82",
   "metadata": {},
   "outputs": [],
   "source": []
  },
  {
   "cell_type": "markdown",
   "id": "65dd39af",
   "metadata": {},
   "source": [
    "## TEMP NOTE\n",
    "* Get the plots working\n",
    "* Do a pathway enrichment for both restricted and unrestricted\n",
    "* Find other analyses\n",
    "\n",
    "### Problems\n",
    "* When wrap ttest is passed the phospho data, it performs a correction on the phospho data. Should the data in general get a correction?"
   ]
  },
  {
   "cell_type": "code",
   "execution_count": null,
   "id": "fe4d9b61",
   "metadata": {},
   "outputs": [],
   "source": []
  },
  {
   "cell_type": "code",
   "execution_count": null,
   "id": "b0b28a37",
   "metadata": {},
   "outputs": [],
   "source": []
  },
  {
   "cell_type": "code",
   "execution_count": null,
   "id": "29d6a4b4",
   "metadata": {},
   "outputs": [],
   "source": []
  },
  {
   "cell_type": "code",
   "execution_count": null,
   "id": "eb8840c4",
   "metadata": {},
   "outputs": [],
   "source": []
  }
 ],
 "metadata": {
  "kernelspec": {
   "display_name": "Python 3 (ipykernel)",
   "language": "python",
   "name": "python3"
  },
  "language_info": {
   "codemirror_mode": {
    "name": "ipython",
    "version": 3
   },
   "file_extension": ".py",
   "mimetype": "text/x-python",
   "name": "python",
   "nbconvert_exporter": "python",
   "pygments_lexer": "ipython3",
   "version": "3.9.12"
  }
 },
 "nbformat": 4,
 "nbformat_minor": 5
}
