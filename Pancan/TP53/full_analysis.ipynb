{
 "cells": [
  {
   "cell_type": "markdown",
   "id": "8a220f11",
   "metadata": {},
   "source": [
    "# Part 1: Create database set\n",
    "By inputting a target gene, a nested dictionary will be created, with each key being the name of a cancer and each value being a dictionary containing the genomic, proteomic, transcriptomic, and phosphoproteomic data. In other words, the dictionary will be:\n",
    "\n",
    "{\n",
    "    cancer : {   \n",
    "    \n",
    "            \"gen\" : <cancer's genomic data>,\n",
    "            \"prot\" : <cancer's proteomic data>,\n",
    "            \"trans\": <cancer's transcriptomic data>,\n",
    "            \"phos\": <cancer's phosphoproteomic data>\n",
    "        }\n",
    "    ... for each cancer\n",
    "}"
   ]
  },
  {
   "cell_type": "code",
   "execution_count": 1,
   "id": "dede19fa",
   "metadata": {},
   "outputs": [],
   "source": [
    "import cptac\n",
    "import cptac.pancan as pc\n",
    "import numpy as np\n",
    "import cptac.utils as ut\n",
    "import plot_utils as plt\n",
    "import pandas as pd"
   ]
  },
  {
   "cell_type": "code",
   "execution_count": null,
   "id": "930371b8",
   "metadata": {},
   "outputs": [],
   "source": [
    "import warnings\n",
    "warnings.filterwarnings(\"ignore\")"
   ]
  },
  {
   "cell_type": "code",
   "execution_count": 2,
   "id": "4159d5ed",
   "metadata": {},
   "outputs": [
    {
     "data": {
      "text/plain": [
       "['PancanBrca',\n",
       " 'PancanCcrcc',\n",
       " 'PancanCoad',\n",
       " 'PancanGbm',\n",
       " 'PancanHnscc',\n",
       " 'PancanLscc',\n",
       " 'PancanLuad',\n",
       " 'PancanOv',\n",
       " 'PancanUcec',\n",
       " 'PancanPdac']"
      ]
     },
     "execution_count": 2,
     "metadata": {},
     "output_type": "execute_result"
    }
   ],
   "source": [
    "dataset_names = pc.list_datasets(False)\n",
    "dataset_names  = dataset_names.split('\\n')\n",
    "dataset_names"
   ]
  },
  {
   "cell_type": "code",
   "execution_count": 3,
   "id": "c45e7a87",
   "metadata": {},
   "outputs": [],
   "source": [
    "target_gene = \"TP53\""
   ]
  },
  {
   "cell_type": "code",
   "execution_count": 4,
   "id": "36f26ae4",
   "metadata": {},
   "outputs": [
    {
     "name": "stdout",
     "output_type": "stream",
     "text": [
      "Loading broadbrca v1.0...       \r"
     ]
    },
    {
     "name": "stderr",
     "output_type": "stream",
     "text": [
      "/home/sdsquires/anaconda3/lib/python3.9/site-packages/gtfparse/read_gtf.py:151: FutureWarning: The error_bad_lines argument has been deprecated and will be removed in a future version.\n",
      "\n",
      "\n",
      "  result = parse_gtf(\n",
      "/home/sdsquires/anaconda3/lib/python3.9/site-packages/gtfparse/read_gtf.py:151: FutureWarning: The warn_bad_lines argument has been deprecated and will be removed in a future version.\n",
      "\n",
      "\n",
      "  result = parse_gtf(\n"
     ]
    },
    {
     "name": "stdout",
     "output_type": "stream",
     "text": [
      "                                    \r"
     ]
    },
    {
     "name": "stderr",
     "output_type": "stream",
     "text": [
      "cptac warning: In joining the somatic_mutation table, no mutations were found for the following samples, so they were filled with Wildtype_Tumor or Wildtype_Normal: 68 samples for the TP53 gene (/home/sdsquires/anaconda3/lib/python3.9/site-packages/cptac/pancan/pancandataset.py, line 174)\n",
      "cptac warning: washu_CNV data was not found for the following samples, so washu_CNV data columns were filled with NaN for these samples: 01BR044, 604 (/home/sdsquires/anaconda3/lib/python3.9/site-packages/cptac/pancan/pancandataset.py, line 174)\n"
     ]
    },
    {
     "name": "stdout",
     "output_type": "stream",
     "text": [
      "                                         \r"
     ]
    },
    {
     "name": "stderr",
     "output_type": "stream",
     "text": [
      "cptac warning: In joining the somatic_mutation table, no mutations were found for the following samples, so they were filled with Wildtype_Tumor or Wildtype_Normal: 104 samples for the TP53 gene (/home/sdsquires/anaconda3/lib/python3.9/site-packages/cptac/pancan/pancandataset.py, line 174)\n"
     ]
    },
    {
     "name": "stdout",
     "output_type": "stream",
     "text": [
      "                                    \r"
     ]
    },
    {
     "name": "stderr",
     "output_type": "stream",
     "text": [
      "cptac warning: In joining the somatic_mutation table, no mutations were found for the following samples, so they were filled with Wildtype_Tumor or Wildtype_Normal: 44 samples for the TP53 gene (/home/sdsquires/anaconda3/lib/python3.9/site-packages/cptac/pancan/pancandataset.py, line 174)\n"
     ]
    },
    {
     "name": "stdout",
     "output_type": "stream",
     "text": [
      "                                      \r"
     ]
    },
    {
     "name": "stderr",
     "output_type": "stream",
     "text": [
      "cptac warning: In joining the somatic_mutation table, no mutations were found for the following samples, so they were filled with Wildtype_Tumor or Wildtype_Normal: 67 samples for the TP53 gene (/home/sdsquires/anaconda3/lib/python3.9/site-packages/cptac/pancan/pancandataset.py, line 174)\n"
     ]
    },
    {
     "name": "stdout",
     "output_type": "stream",
     "text": [
      "                                         \r"
     ]
    },
    {
     "name": "stderr",
     "output_type": "stream",
     "text": [
      "cptac warning: In joining the somatic_mutation table, no mutations were found for the following samples, so they were filled with Wildtype_Tumor or Wildtype_Normal: 14 samples for the TP53 gene (/home/sdsquires/anaconda3/lib/python3.9/site-packages/cptac/pancan/pancandataset.py, line 174)\n"
     ]
    },
    {
     "name": "stdout",
     "output_type": "stream",
     "text": [
      "                                        \r"
     ]
    },
    {
     "name": "stderr",
     "output_type": "stream",
     "text": [
      "cptac warning: In joining the somatic_mutation table, no mutations were found for the following samples, so they were filled with Wildtype_Tumor or Wildtype_Normal: 9 samples for the TP53 gene (/home/sdsquires/anaconda3/lib/python3.9/site-packages/cptac/pancan/pancandataset.py, line 174)\n"
     ]
    },
    {
     "name": "stdout",
     "output_type": "stream",
     "text": [
      "                                        \r"
     ]
    },
    {
     "name": "stderr",
     "output_type": "stream",
     "text": [
      "cptac warning: In joining the somatic_mutation table, no mutations were found for the following samples, so they were filled with Wildtype_Tumor or Wildtype_Normal: 50 samples for the TP53 gene (/home/sdsquires/anaconda3/lib/python3.9/site-packages/cptac/pancan/pancandataset.py, line 174)\n"
     ]
    },
    {
     "name": "stdout",
     "output_type": "stream",
     "text": [
      "                                   \r"
     ]
    },
    {
     "name": "stderr",
     "output_type": "stream",
     "text": [
      "cptac warning: In joining the somatic_mutation table, no mutations were found for the following samples, so they were filled with Wildtype_Tumor or Wildtype_Normal: 5 samples for the TP53 gene (/home/sdsquires/anaconda3/lib/python3.9/site-packages/cptac/pancan/pancandataset.py, line 174)\n"
     ]
    },
    {
     "name": "stdout",
     "output_type": "stream",
     "text": [
      "                                        \r"
     ]
    },
    {
     "name": "stderr",
     "output_type": "stream",
     "text": [
      "cptac warning: In joining the somatic_mutation table, no mutations were found for the following samples, so they were filled with Wildtype_Tumor or Wildtype_Normal: 73 samples for the TP53 gene (/home/sdsquires/anaconda3/lib/python3.9/site-packages/cptac/pancan/pancandataset.py, line 174)\n"
     ]
    },
    {
     "name": "stdout",
     "output_type": "stream",
     "text": [
      "                                        \r"
     ]
    },
    {
     "name": "stderr",
     "output_type": "stream",
     "text": [
      "cptac warning: In joining the somatic_mutation table, no mutations were found for the following samples, so they were filled with Wildtype_Tumor or Wildtype_Normal: 41 samples for the TP53 gene (/home/sdsquires/anaconda3/lib/python3.9/site-packages/cptac/pancan/pancandataset.py, line 174)\n"
     ]
    }
   ],
   "source": [
    "datasets = {}\n",
    "for name in dataset_names:\n",
    "    exec(f\"cancer = pc.{name}(no_internet = True)\")  \n",
    "    genotype_data = cancer.get_genotype_all_vars(mutations_genes = target_gene, omics_source = \"washu\")\n",
    "    \n",
    "    proteomic_data = cancer.get_proteomics(source = 'umich')\n",
    "    proteomic_data = proteomic_data.droplevel(\"Database_ID\", axis = 1)\n",
    "    \n",
    "    phospho_data = cancer.get_phosphoproteomics(source = 'umich')\n",
    "    phospho_data.loc[:, phospho_data.columns.get_level_values(0) == target_gene].droplevel([\"Database_ID\", \"Peptide\"], axis = 1)\n",
    "    \n",
    "    transcript_data = cancer.get_transcriptomics(source = \"washu\")\n",
    "    transcript_data = transcript_data.droplevel(\"Database_ID\", axis = 1)\n",
    "    \n",
    "    datasets[name[6:]] = {\n",
    "                        \"gen\" : genotype_data,\n",
    "                        \"prot\": proteomic_data,\n",
    "                        \"trans\": transcript_data,\n",
    "                        \"phos\" : phospho_data\n",
    "                         }    "
   ]
  },
  {
   "cell_type": "markdown",
   "id": "a54fff79",
   "metadata": {},
   "source": [
    "# Part 2: Select mutations\n",
    "Determine which cancers have mutation types with rates above 20%.\n",
    "\n",
    "To facilitate that, the mutation types from the get_genotype_all_vars must be grouped into functional types.\n"
   ]
  },
  {
   "cell_type": "code",
   "execution_count": 16,
   "id": "b6178983",
   "metadata": {},
   "outputs": [],
   "source": [
    "mutation_types = [\"Deletion\", \"Amplification\", \"Truncation\", \"Indel\", \"Missense\"]"
   ]
  },
  {
   "cell_type": "code",
   "execution_count": 6,
   "id": "9bfa5779",
   "metadata": {},
   "outputs": [],
   "source": [
    "# Grouping the mutation types for each cancer\n",
    "for name, dataset in datasets.items():\n",
    "    genotypes = dataset[\"gen\"]\n",
    "    genotypes.replace([\"Nonsense_Mutation\", \"Frame_Shift_Ins\", \"Frame_Shift_Del\"], \"Truncation\", inplace = True)\n",
    "    genotypes.replace([\"In_Frame_Del\", \"In_Frame_Ins\"], \"Indel\", inplace = True)\n",
    "    genotypes.replace([\"Missense_Mutation\", \"Wildtype_Tumor\"], [\"Missense\", \"Wildtype\"], inplace = True)\n",
    "    genotypes = genotypes.loc[genotypes[\"Mutation\"] != \"Silent\"]\n",
    "    datasets[name][\"gen\"] = genotypes\n"
   ]
  },
  {
   "cell_type": "code",
   "execution_count": 7,
   "id": "9ddba048",
   "metadata": {},
   "outputs": [],
   "source": [
    "# Create a bargraph displaying the mutation types"
   ]
  },
  {
   "cell_type": "code",
   "execution_count": 17,
   "id": "3e8e0509",
   "metadata": {},
   "outputs": [
    {
     "name": "stdout",
     "output_type": "stream",
     "text": [
      "{'Brca': {'Deletion'}, 'Ccrcc': set(), 'Coad': {'Deletion'}, 'Gbm': set(), 'Hnscc': {'Missense'}, 'Lscc': set(), 'Luad': set(), 'Ov': {'Missense', 'Deletion'}, 'Ucec': set(), 'Pdac': set()}\n"
     ]
    }
   ],
   "source": [
    "# Determine which cancers have mutation rates over 20%\n",
    "variants_to_analyze = {}\n",
    "for name, dataset in datasets.items():\n",
    "    mut_type_freq = dataset[\"gen\"][\"Mutation\"].value_counts() / len(dataset[\"prot\"])\n",
    "    mut_type_freq = mut_type_freq.loc[mut_type_freq >= 0.2]\n",
    "    variants_to_analyze[name] = set(mut_type_freq.index.tolist())\n",
    "    variants_to_analyze[name].discard(\"Wildtype\")\n",
    "print(str(variants_to_analyze))"
   ]
  },
  {
   "cell_type": "markdown",
   "id": "368f9dd3",
   "metadata": {},
   "source": [
    "# Part 3: Cis effects\n",
    "Determines which genes that, given a mutation, will change the expression in their own proteomics, transcriptomics, or phosphoproteomics.This analysis is repeated for every cancer, and every mutation type.\n",
    "\n",
    "Writes out a file containing the infomation for each mutation and cancer, and creates boxplot summarizing the data"
   ]
  },
  {
   "cell_type": "code",
   "execution_count": 64,
   "id": "588253ab",
   "metadata": {},
   "outputs": [],
   "source": [
    "from scipy.stats import ttest_ind\n",
    "omics_key = {\"prot\":\"proteomics\", \"trans\":\"transcriptomics\",\"phos\":\"phosphoproteomics\"}"
   ]
  },
  {
   "cell_type": "code",
   "execution_count": 68,
   "id": "0aa454a3",
   "metadata": {},
   "outputs": [],
   "source": [
    "# Create a function that will analyze the protein cis effects for a given mutation type\n",
    "def analyze_cis_mutation(cancer_type, omics_type, write_out = True, pval_only = True):\n",
    "    \"\"\"Analyzes the cis effects for a given mutation type across all cancers.\n",
    "    \n",
    "    Parameters:\n",
    "    mutation_type (str): The mutation type to analyze, as a string. Possible values given in mutation_types.\n",
    "    omics_type (str): The omics to analyze. Possible values are in list [\"prot\", \"trans\", \"phos\"]\n",
    "    write_out (bool, optional): Whether to write out the data to a separate file.\n",
    "    pval    result = {'Mutation':[], 'P_value':[]}_only (bool, optional): If write_out, only writes out the p_value for each analysis. If not write_out, has no effect.\n",
    "    \n",
    "    Returns the output of scipy.ttest_ind() between \"Wildtype\" and mutation_type tumors. If analyzing phosphoproteomics, returns a list of such outputs\n",
    "    \"\"\"\n",
    "    if write_out:\n",
    "        # Clears the target file\n",
    "        file_name = cancer_type.capitalize() + '_' + omics_key[omics_type].capitalize() + 's.txt'\n",
    "        with open(\"Cis_Effect_output/\" + file_name, 'w') as out_file: pass\n",
    "        \n",
    "    for mutation_type in mutation_types:\n",
    "        if mutation_type not in variants_to_analyze[cancer_type]: continue\n",
    "        print(mutation_type)\n",
    "            \n",
    "        if omics_type != \"phos\":\n",
    "            genotype_and_omic = pd.merge(dataset[\"gen\"], dataset[omics_type], left_index = True, right_index = True)\n",
    "        \n",
    "        genotype_and_omic = genotype_and_omic.loc[genotype_and_omic[\"Mutation\"].isin([\"Wildtype\", mutation_type])]\n",
    "        \n",
    "        print(f\"{omics_type} {mutation_type}s for {name}:\")\n",
    "        print(ut.wrap_ttest(df=genotype_and_omic, label_column=\"Mutation\", cancer_type.capitalize() + '_' + omics_key[omics_type].capitalize()\n",
    "                            comparison_columns=[target_gene], correction_method = \"fdr_bh\", return_all=True))\n",
    "        print()\n",
    "        \n",
    "\n",
    "            \n",
    "            \n",
    "            \n",
    "            \n",
    "            \n",
    "            \n",
    "            \n",
    "            \n",
    "            \n",
    "        \n",
    "#         # Separate the wildtype and mutated samples\n",
    "#         genotype_and_omic = pd.merge(dataset[\"gen\"], dataset[omics_type], left_index = True, right_index = True)\n",
    "#         mutation = genotype_and_omic.loc[genotype_and_omic[\"Mutation\"] == mutation_type][target_gene].dropna()\n",
    "#         wildtype = genotype_and_omic.loc[genotype_and_omic[\"Mutation\"] == \"Wildtype\"][target_gene].dropna()\n",
    "#         print(len(mutation))\n",
    "#         print(len(wildtype))\n",
    "        \n",
    "#         # Phosphoproteomics must be analyzed at each site in the gene\n",
    "#         if omics_type != \"phos\":\n",
    "#             result = ttest_ind(mutation, wildtype)[1]\n",
    "#         else:\n",
    "#             result = [(site, ttest_ind(mutation[site], wildtype[site])[1]) for site in mutation.columns if site in wildtype.columns]\n",
    "                \n",
    "                \n",
    "        ### Write out the data (not part of computation)###\n",
    "#         if write_out:\n",
    "#             output_string = \"\"\n",
    "#             if not pval_only:\n",
    "#                 output_string += f\"{name}\\n\"\n",
    "#                 output_string += f\"Number of {mutation_type}s = {len(mutation)}\\n\"\n",
    "#                 output_string += f\"Number of Wildtypes = {len(wildtype)}\\n\"\n",
    "#             if omics_type != \"phos\":\n",
    "#                 output_string += f\"{name} {mutation_type} P-value = {result}\\n\\n\"\n",
    "#             else:\n",
    "#                 output_string += f\"{name} {mutation_type} P-values:\\n\"\n",
    "#                 for site in result:\n",
    "#                     output_string += f\"   {site[0]}: {site[1]}\\n\"\n",
    "#                 ouput_string += '\\n'\n",
    "#             with open(\"Cis_Effect_output/\" + file_name, \"a\") as out_file:\n",
    "#                 print(output_string)\n",
    "#                 out_file.write(output_string) \n",
    "                \n",
    "#     try:\n",
    "#         return result\n",
    "#     except UnboundLocalError:\n",
    "#         return\n",
    "\n"
   ]
  },
  {
   "cell_type": "code",
   "execution_count": 91,
   "id": "3f29db36",
   "metadata": {},
   "outputs": [],
   "source": [
    "# Create a function that will analyze the protein cis effects for a given mutation type\n",
    "def analyze_cis_mutation(omics_type, write_out = True, pval_only = True):\n",
    "    \"\"\"Analyzes the cis effects for a given mutation type across all cancers.\n",
    "    \n",
    "    Parameters:\n",
    "    omics_type (str): The omics to analyze. Possible values are in list [\"prot\", \"trans\", \"phos\"]\n",
    "    write_out (bool, optional): Whether to write out the data to a separate file.\n",
    "    pval_only (bool, optional): If write_out, only writes out the p_value for each analysis. If not write_out, has no effect.\n",
    "    \n",
    "    Returns the output of scipy.ttest_ind() between \"Wildtype\" and mutation_type tumors. If analyzing phosphoproteomics, returns a list of such outputs\n",
    "    \"\"\"\n",
    "    if write_out:\n",
    "        # Clears the target file\n",
    "        file_name =  omics_key[omics_type].capitalize() + '_Mutations.txt'\n",
    "        with open(\"Cis_Effect_output/\" + file_name, 'w') as out_file: pass\n",
    "        \n",
    "    result = {'Cancer':[], 'Mutation':[], 'P_Value':[]}\n",
    "    if omics_type == \"phos\":\n",
    "        result['Site']=[]\n",
    "    for cancer_type, dataset in datasets.items():\n",
    "        for mutation_type in mutation_types:\n",
    "            if mutation_type not in variants_to_analyze[cancer_type]: continue\n",
    "            print(mutation_type)\n",
    "\n",
    "            if omics_type != \"phos\":\n",
    "                genotype_and_omic = pd.merge(dataset[\"gen\"], dataset[omics_type], left_index = True, right_index = True)\n",
    "                genotype_and_omic = genotype_and_omic.loc[genotype_and_omic[\"Mutation\"].isin([\"Wildtype\", mutation_type])]\n",
    "\n",
    "                result['Cancer'].append(cancer_type)\n",
    "                result['Mutation'].append(mutation_type)\n",
    "                result['P_Value'].append(ut.wrap_ttest(df=genotype_and_omic, label_column=\"Mutation\", \n",
    "                                                   comparison_columns=[target_gene], correction_method = \"fdr_bh\", \n",
    "                                                   return_all=True)[\"P_Value\"][0])\n",
    "    return pd.DataFrame(result)"
   ]
  },
  {
   "cell_type": "code",
   "execution_count": 92,
   "id": "8292543a",
   "metadata": {},
   "outputs": [
    {
     "name": "stdout",
     "output_type": "stream",
     "text": [
      "Deletion\n",
      "Deletion\n",
      "Missense\n",
      "Deletion\n",
      "Missense\n"
     ]
    },
    {
     "data": {
      "text/html": [
       "<div>\n",
       "<style scoped>\n",
       "    .dataframe tbody tr th:only-of-type {\n",
       "        vertical-align: middle;\n",
       "    }\n",
       "\n",
       "    .dataframe tbody tr th {\n",
       "        vertical-align: top;\n",
       "    }\n",
       "\n",
       "    .dataframe thead th {\n",
       "        text-align: right;\n",
       "    }\n",
       "</style>\n",
       "<table border=\"1\" class=\"dataframe\">\n",
       "  <thead>\n",
       "    <tr style=\"text-align: right;\">\n",
       "      <th></th>\n",
       "      <th>Cancer</th>\n",
       "      <th>Mutation</th>\n",
       "      <th>P_Value</th>\n",
       "    </tr>\n",
       "  </thead>\n",
       "  <tbody>\n",
       "    <tr>\n",
       "      <th>0</th>\n",
       "      <td>Brca</td>\n",
       "      <td>Deletion</td>\n",
       "      <td>0.262125</td>\n",
       "    </tr>\n",
       "    <tr>\n",
       "      <th>1</th>\n",
       "      <td>Coad</td>\n",
       "      <td>Deletion</td>\n",
       "      <td>0.011910</td>\n",
       "    </tr>\n",
       "    <tr>\n",
       "      <th>2</th>\n",
       "      <td>Hnscc</td>\n",
       "      <td>Missense</td>\n",
       "      <td>0.000002</td>\n",
       "    </tr>\n",
       "    <tr>\n",
       "      <th>3</th>\n",
       "      <td>Ov</td>\n",
       "      <td>Deletion</td>\n",
       "      <td>0.360784</td>\n",
       "    </tr>\n",
       "    <tr>\n",
       "      <th>4</th>\n",
       "      <td>Ov</td>\n",
       "      <td>Missense</td>\n",
       "      <td>0.001135</td>\n",
       "    </tr>\n",
       "  </tbody>\n",
       "</table>\n",
       "</div>"
      ],
      "text/plain": [
       "  Cancer  Mutation   P_Value\n",
       "0   Brca  Deletion  0.262125\n",
       "1   Coad  Deletion  0.011910\n",
       "2  Hnscc  Missense  0.000002\n",
       "3     Ov  Deletion  0.360784\n",
       "4     Ov  Missense  0.001135"
      ]
     },
     "execution_count": 92,
     "metadata": {},
     "output_type": "execute_result"
    }
   ],
   "source": [
    "analyze_cis_mutation(\"prot\",True, False)"
   ]
  },
  {
   "cell_type": "code",
   "execution_count": 58,
   "id": "d7643c46",
   "metadata": {},
   "outputs": [],
   "source": [
    "#Now, run the analysis for every mutation_type, for every omics_type\n",
    "for omics_type in [\"prot\", \"trans\", \"phos\"]:\n",
    "    for mutation_type in mutation_types:\n",
    "        analyze_cis_mutation(omics_type, mutation_type, write_out = True, pval_only = True)"
   ]
  },
  {
   "cell_type": "code",
   "execution_count": null,
   "id": "51e689a6",
   "metadata": {},
   "outputs": [],
   "source": [
    "# Create a boxplot for each type, either in the function or outside of it\n",
    "# Corrections must be performed to reduce the FDR"
   ]
  },
  {
   "cell_type": "markdown",
   "id": "73617b45",
   "metadata": {},
   "source": [
    "# Part 4: Trans Effects\n",
    "Determines which genes that, given a mutation, will change the expression in another protein's proteomics, transcriptomics, or phosphoproteomics.This analysis is repeated for every cancer, and every mutation type.\n",
    "\n",
    "To reduce the computational intensity and the corrections needed, the scope will be restricted to all genes whose corresponding proteins have a known interaction with the proteins corresponding to the target_gene. *(For example, Given the target_gene 'TP53', the set of genes will be all those whose proteins share a pathway with TP53.)*\n",
    "\n",
    "Writes out a file containing the infomation for each mutation and cancer, and creates boxplot summarizing the data"
   ]
  },
  {
   "cell_type": "code",
   "execution_count": null,
   "id": "6aac2474",
   "metadata": {},
   "outputs": [],
   "source": [
    "paths = ut.get_pathways_with_proteins(proteins = target_gene, database = 'wikipathways')\n",
    "paths"
   ]
  },
  {
   "cell_type": "code",
   "execution_count": null,
   "id": "b1daf485",
   "metadata": {},
   "outputs": [],
   "source": [
    "interacting_proteins = ut.get_proteins_in_pathways(paths[\"pathway_id\"], database = 'wikipathways')\n",
    "interacting_proteins = list(interacting_proteins[\"member\"])\n",
    "\n",
    "genes_measured = list(datasets[\"Brca\"][\"prot\"].columns)\n",
    "new_genes = sorted(list(set([protein for protein in interacting_proteins if protein in genes_measured])))"
   ]
  },
  {
   "cell_type": "code",
   "execution_count": null,
   "id": "58036cab",
   "metadata": {},
   "outputs": [],
   "source": [
    "interacting_proteins = set(interacting_proteins)\n",
    "print(len(interacting_proteins))\n",
    "genes_measured = set(genes_measured)\n",
    "if target_gene in new_genes: new_genes.remove(target_gene)\n",
    "print(len(genes_measured))\n",
    "print(len(new_genes))\n",
    "new_genes"
   ]
  },
  {
   "cell_type": "code",
   "execution_count": null,
   "id": "595d3ea4",
   "metadata": {},
   "outputs": [],
   "source": [
    "# Create a function that will analyze the protein cis effects for a given mutation type\n",
    "def analyze_trans_mutation(omics_type, mutation_type, gene_list, write_out = True, pval_only = True):\n",
    "    \"\"\"Analyzes the trans effects for a given mutation type across all cancers.\n",
    "    \n",
    "    Parameters:\n",
    "    mutation_type (str): The mutation type to analyze, as a string. Possible values given in mutation_types.\n",
    "    omics_type (str): The omics to analyze. Possible values are in list [\"prot\", \"trans\", \"phos\"]\n",
    "    gene_list (list[str]): A list of genes with proteins in the same pathway as those from target_gene\n",
    "    write_out (bool, optional): Whether to write out the data to a separate file.\n",
    "    pval_only (bool, optional): If write_out, only writes out the p_value for each analysis. If not write_out, has no effect.\n",
    "    \n",
    "    Returns a list of the outputs of scipy.ttest_ind() between \"Wildtype\" and mutation_type tumors, for each of the genes. If analyzing phosphoproteomics, returns a list of lists, in the form [[(site_name, pval) for each site] for each entry]\n",
    "    \"\"\"\n",
    "    if write_out:\n",
    "        # Clears the target file\n",
    "        file_name = omics_key[omics_type].capitalize() + '_' + mutation_type.capitalize() + 's.txt'\n",
    "        with open(\"Trans_Effect_output/\" + file_name, 'w') as out_file: pass\n",
    "    for name, dataset in datasets.items():\n",
    "        if mutation_type not in variants_to_analyze[name]: continue\n",
    "        \n",
    "        # Separate the wildtype and mutated samples\n",
    "        genotype_and_omic = pd.merge(dataset[\"gen\"], dataset[omics_type], left_index = True, right_index = True)\n",
    "        mutation = genotype_and_omic.loc[genotype_and_omic[\"Mutation\"] == mutation_type].dropna()\n",
    "        wildtype = genotype_and_omic.loc[genotype_and_omic[\"Mutation\"] == \"Wildtype\"].dropna()\n",
    "        \n",
    "        # Phosphoproteomics must be analyzed at each site in the gene\n",
    "        if omics_type != \"phos\":\n",
    "            result = [ttest_ind(mutation[trans_gene].dropna(), wildtype[trans_gene].dropna())[1] for trans_gene in gene_list]\n",
    "        else:\n",
    "            result = [(site, ttest_ind(mutation[trans_gene][site].dropna(), wildtype[trans_gene][site])[1]) for site in trans_gene for trans_gene in mutation.columns if site in wildtype[trans_gene].columns]\n",
    "                \n",
    "        if write_out:\n",
    "            output_string = \"\"\n",
    "            if not pval_only:\n",
    "                output_string += f\"{name}\\n\"\n",
    "                output_string += f\"Number of {mutation_type}s = {len(mutation)}\\n\"\n",
    "                output_string += f\"Number of Wildtypes = {len(wildtype)}\\n\"\n",
    "            if omics_type != \"phos\":\n",
    "                output_string += f\"{name} {mutation_type} P-value = {result}\\n\\n\"\n",
    "            else:\n",
    "                output_string += f\"{name} {mutation_type} P-values:\\n\"\n",
    "                for site in result:\n",
    "                    output_string += f\"   {site[0]}: {site[1]}\\n\"\n",
    "                ouput_string += '\\n'\n",
    "            with open(\"Trans_Effect_output/\" + file_name, \"a\") as out_file:\n",
    "                print(output_string)\n",
    "                out_file.write(\"output_string\") \n",
    "                \n",
    "    try:\n",
    "        return result\n",
    "    except UnboundLocalError:\n",
    "        return\n",
    "\n",
    "    "
   ]
  },
  {
   "cell_type": "markdown",
   "id": "f11e69ba",
   "metadata": {},
   "source": []
  },
  {
   "cell_type": "code",
   "execution_count": null,
   "id": "a5ab28c9",
   "metadata": {},
   "outputs": [],
   "source": [
    "#Now, run the analysis for every mutation_type, for every omics_type\n",
    "for omics_type in [\"prot\", \"trans\", \"phos\"]:\n",
    "    for mutation_type in mutation_types:\n",
    "        analyze_trans_mutation(omics_type, mutation_type, new_genes, write_out = True, pval_only = False)"
   ]
  },
  {
   "cell_type": "code",
   "execution_count": null,
   "id": "44c4801b",
   "metadata": {},
   "outputs": [],
   "source": [
    "with open(\"deletion_trans_data.txt\", 'w') as outFile:\n",
    "    all_significant = {}\n",
    "    for name, dataset in datasets.items():\n",
    "        if name not in deletion_sets: continue\n",
    "        print(name + '\\n')\n",
    "        outFile.write(name + '\\n')\n",
    "        significant_changes = {}\n",
    "        for trans_gene in interacting_proteins:\n",
    "            genotype_and_prot = dataset[0].merge(dataset[1], left_index = True, right_index = True)\n",
    "            if trans_gene not in genotype_and_prot: continue\n",
    "            deletions = genotype_and_prot.loc[genotype_and_prot[\"Mutation\"] == \"Deletion\"][trans_gene].dropna()\n",
    "            wildtypes = genotype_and_prot.loc[genotype_and_prot[\"Mutation\"] == \"Wildtype_Tumor\"][trans_gene].dropna()\n",
    "            result = ttest_ind(deletions, wildtypes)\n",
    "            print(trans_gene + \" P-value with \" + name + \" deletion: \" + str(result[1]))\n",
    "            outFile.write(name + \" deletion P-value: \" + str(result[1]))\n",
    "        print('\\n')\n",
    "        outFile.write('\\n')\n"
   ]
  },
  {
   "cell_type": "code",
   "execution_count": null,
   "id": "b9fd7f56",
   "metadata": {},
   "outputs": [],
   "source": []
  }
 ],
 "metadata": {
  "kernelspec": {
   "display_name": "Python 3 (ipykernel)",
   "language": "python",
   "name": "python3"
  },
  "language_info": {
   "codemirror_mode": {
    "name": "ipython",
    "version": 3
   },
   "file_extension": ".py",
   "mimetype": "text/x-python",
   "name": "python",
   "nbconvert_exporter": "python",
   "pygments_lexer": "ipython3",
   "version": "3.9.7"
  }
 },
 "nbformat": 4,
 "nbformat_minor": 5
}
