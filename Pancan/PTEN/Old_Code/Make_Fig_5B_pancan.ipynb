{
 "cells": [
  {
   "cell_type": "markdown",
   "metadata": {},
   "source": [
    "# Make Figure 5B:  Uniqueness of trans effect"
   ]
  },
  {
   "cell_type": "markdown",
   "metadata": {},
   "source": [
    "Create a bar/dumbell plot to look at the number of genes that are significant in one or multiple cancers. "
   ]
  },
  {
   "cell_type": "code",
   "execution_count": 1,
   "metadata": {},
   "outputs": [
    {
     "ename": "ModuleNotFoundError",
     "evalue": "No module named 'plot_utils'",
     "output_type": "error",
     "traceback": [
      "\u001b[0;31m---------------------------------------------------------------------------\u001b[0m",
      "\u001b[0;31mModuleNotFoundError\u001b[0m                       Traceback (most recent call last)",
      "\u001b[0;32m/tmp/ipykernel_6308/197984304.py\u001b[0m in \u001b[0;36m<module>\u001b[0;34m\u001b[0m\n\u001b[1;32m      7\u001b[0m \u001b[0;32mimport\u001b[0m \u001b[0mcptac\u001b[0m\u001b[0;34m\u001b[0m\u001b[0;34m\u001b[0m\u001b[0m\n\u001b[1;32m      8\u001b[0m \u001b[0;32mimport\u001b[0m \u001b[0mcptac\u001b[0m\u001b[0;34m.\u001b[0m\u001b[0mutils\u001b[0m \u001b[0;32mas\u001b[0m \u001b[0mu\u001b[0m\u001b[0;34m\u001b[0m\u001b[0;34m\u001b[0m\u001b[0m\n\u001b[0;32m----> 9\u001b[0;31m \u001b[0;32mimport\u001b[0m \u001b[0mplot_utils\u001b[0m \u001b[0;32mas\u001b[0m \u001b[0mp\u001b[0m\u001b[0;34m\u001b[0m\u001b[0;34m\u001b[0m\u001b[0m\n\u001b[0m",
      "\u001b[0;31mModuleNotFoundError\u001b[0m: No module named 'plot_utils'"
     ]
    }
   ],
   "source": [
    "import pandas as pd\n",
    "import numpy as np\n",
    "import seaborn as sns\n",
    "import matplotlib.pyplot as plt\n",
    "import scipy.stats\n",
    "\n",
    "import cptac\n",
    "import cptac.utils as u\n",
    "import plot_utils as p"
   ]
  },
  {
   "cell_type": "code",
   "execution_count": null,
   "metadata": {},
   "outputs": [],
   "source": [
    "print('cptac version:', cptac.version())"
   ]
  },
  {
   "cell_type": "markdown",
   "metadata": {},
   "source": [
    "# Step 1: Create sig column"
   ]
  },
  {
   "cell_type": "markdown",
   "metadata": {},
   "source": [
    "The sig column names all cancers with a sig comparison for a protein. First, get a df with p-values and differential expressions for all proteins across all 8 cancers."
   ]
  },
  {
   "cell_type": "code",
   "execution_count": null,
   "metadata": {},
   "outputs": [],
   "source": [
    "all_df = pd.read_csv(\"csv/all_proteins_pancan.csv\")\n",
    "all_df"
   ]
  },
  {
   "cell_type": "code",
   "execution_count": null,
   "metadata": {},
   "outputs": [],
   "source": [
    "# create sig column values to show cancers with sig tests for each protein\n",
    "for index, row in all_df.iterrows():\n",
    "    cancer_names = ['GBM','HNSCC','LUAD','LSCC','BR','EC']\n",
    "    label = []\n",
    "    for cancer in cancer_names:\n",
    "        if row[cancer+'_P_Value'] < 0.05:\n",
    "            label.append(str(cancer))\n",
    "    labeled = '_'.join(label)\n",
    "    all_df.loc[index,'sig'] = str(labeled)\n",
    "all_df[['Umich_Proteomics', 'sig']].head()"
   ]
  },
  {
   "cell_type": "markdown",
   "metadata": {},
   "source": [
    "# Step 2: Keep genes significant in at least one cancer"
   ]
  },
  {
   "cell_type": "markdown",
   "metadata": {},
   "source": [
    "First create the numSig column that counts the number of cancers with a significant test for the specific gene. "
   ]
  },
  {
   "cell_type": "code",
   "execution_count": null,
   "metadata": {},
   "outputs": [],
   "source": [
    "def Pvalue_sig(row):\n",
    "    numSig = 0\n",
    "\n",
    "    for item in row:\n",
    "        if pd.isnull(item):\n",
    "            continue\n",
    "        if item < 0.05: \n",
    "            numSig += 1\n",
    "            \n",
    "    return numSig"
   ]
  },
  {
   "cell_type": "code",
   "execution_count": null,
   "metadata": {},
   "outputs": [],
   "source": [
    "# Create Num_sig column\n",
    "all_df[\"Num_sig\"] = all_df.loc[:,[\"GBM_P_Value\",\"HNSCC_P_Value\",\"LUAD_P_Value\",\"LSCC_P_Value\", \"BR_P_Value\",\"EC_P_Value\"]].apply(Pvalue_sig, axis = 1)\n",
    "all_df = all_df.sort_values(by=['Num_sig'],ascending=False)\n",
    "\n",
    "#Keep trans genes that are significant in atleast 1 cancer. \n",
    "all_df1 = all_df[all_df['Num_sig'].isin([1,2,3,4,5,6,7,8])]\n",
    "all_df1.head()\n",
    "all_df1.sig.value_counts()"
   ]
  },
  {
   "cell_type": "code",
   "execution_count": null,
   "metadata": {},
   "outputs": [],
   "source": [
    "all_df[['BR_P_Value']].value_counts() #.loc[all_df['BR_P_Value'] <= 0.5]"
   ]
  },
  {
   "cell_type": "markdown",
   "metadata": {},
   "source": [
    "# Step 3: Get df with total counts of significant genes"
   ]
  },
  {
   "cell_type": "markdown",
   "metadata": {},
   "source": [
    "Get count of sig genes for each unique label of a single cancer or multiple cancers in the sig column. \n",
    "* NOTE: Lscc has 3 significant genes that are also significnat in other cancers. They are only counted in the overlapping columns and Lscc alone shows 0 unique genes. (See columns: Gbm_Hnscc_Lscc, Gbm_Lscc, Luad_Lscc) "
   ]
  },
  {
   "cell_type": "code",
   "execution_count": null,
   "metadata": {},
   "outputs": [],
   "source": [
    "# Count the number of unique values in sig\n",
    "vc = all_df1['sig'].value_counts()\n",
    "df = vc.to_frame()\n",
    "df.index"
   ]
  },
  {
   "cell_type": "code",
   "execution_count": null,
   "metadata": {},
   "outputs": [],
   "source": [
    "# Add cancers with no significant genes.\n",
    "no_sig = {'CO': 0, 'BR': 0, 'OV': 0}\n",
    "ns_df = pd.DataFrame.from_dict(no_sig, orient = 'index', columns=['sig'])\n",
    "\n",
    "# Append not sig cancers\n",
    "both = df.append(ns_df)\n",
    "\n",
    "# Reindex to keep single cancers together\n",
    "ordered = ['GBM', 'HNSCC', 'EC', 'LUAD', 'LSCC', 'OV', 'BR', 'CO', \n",
    "           'LSCC_EC', 'GBM_LSCC', 'GBM_EC', 'HNSCC_LSCC', 'GBM_LSCC_EC', \n",
    "           'GBM_HNSCC_LSCC', 'GBM_HNSCC', 'HNSCC_LSCC_EC', 'HNSCC_EC',\n",
    "           'GBM_HNSCC_LSCC_EC', 'GBM_LUAD', 'LUAD_LSCC', 'GBM_LUAD_LSCC']\n",
    "           \n",
    "both = both.reindex(ordered)\n",
    "\n",
    "both = both.reset_index()\n",
    "both = both.rename(columns = {'index': 'cancer'})\n",
    "both"
   ]
  },
  {
   "cell_type": "markdown",
   "metadata": {},
   "source": [
    "# Step 4: Create bar and dumbell plot"
   ]
  },
  {
   "cell_type": "markdown",
   "metadata": {},
   "source": [
    "First, create a df with 4 y-axis points for the scatterplots. Values represent where the cancer label is on the y-axis. ('GBM': 7, 'HNSCC': 6, 'EC': 5, 'LUAD': 4, 'LSCC': 3, 'OV': 2, 'BR': 1, 'CO': 0) For a single cancer all 4 points are the same. For proteins that are significant in 4 cancers, each y-axis point represents a different cancer. NOTE: PTEN contains genes significant in up to 4 cancers.\n"
   ]
  },
  {
   "cell_type": "code",
   "execution_count": null,
   "metadata": {},
   "outputs": [],
   "source": [
    "# Create df with location of cancer points\n",
    "y_points = {'GBM': 7, 'HNSCC': 6, 'EC': 5, 'LUAD': 4, 'LSCC': 3, 'OV': 2, 'BR': 1, 'CO': 0}\n",
    "y1 = {}\n",
    "y2 = {}\n",
    "y3 = {}\n",
    "y4 = {}\n",
    "\n",
    "for c in ordered:\n",
    "    c_list = c.split('_')\n",
    "    num_sig = len(c_list)\n",
    "    # Get first y point\n",
    "    cancer1 = c_list[0]\n",
    "    y1[c] = y_points[cancer1]\n",
    "    \n",
    "    # get other y points - combinations of y2, y3, y4 points are the same int when there are not 4 multiple cancers\n",
    "    if num_sig == 1:\n",
    "        y2[c] = y_points[cancer1]\n",
    "        y3[c] = y_points[cancer1]\n",
    "        y4[c] = y_points[cancer1]\n",
    "    \n",
    "    if num_sig == 2:\n",
    "        cancer2 = c_list[1]\n",
    "        y2[c] = y_points[cancer2]\n",
    "        y3[c] = y_points[cancer2]\n",
    "        y4[c] = y_points[cancer2]\n",
    "    \n",
    "    if num_sig == 3 :\n",
    "        cancer2 = c_list[1]\n",
    "        cancer3 = c_list[2]\n",
    "        y2[c] = y_points[cancer2]\n",
    "        y3[c] = y_points[cancer3]\n",
    "        y4[c] = y_points[cancer3]\n",
    "        \n",
    "    if num_sig == 4:\n",
    "        cancer2 = c_list[1]\n",
    "        cancer3 = c_list[2]\n",
    "        cancer4 = c_list[3]\n",
    "        y2[c] = y_points[cancer2]\n",
    "        y3[c] = y_points[cancer3]\n",
    "        y4[c] = y_points[cancer4]"
   ]
  },
  {
   "cell_type": "code",
   "execution_count": null,
   "metadata": {},
   "outputs": [],
   "source": [
    "# Create df with location of cancer points \n",
    "     \n",
    "# Create dfs for each y-axis point\n",
    "y1_df = pd.DataFrame.from_dict(y1, orient = 'index', columns=['y1'])\n",
    "y2_df = pd.DataFrame.from_dict(y2, orient = 'index', columns=['y2'])\n",
    "y3_df = pd.DataFrame.from_dict(y3, orient = 'index', columns=['y3'])\n",
    "y4_df = pd.DataFrame.from_dict(y4, orient = 'index', columns=['y4'])\n",
    "\n",
    "# Join dfs\n",
    "y_points_df = y1_df.join(y2_df)\n",
    "y_points_df = y_points_df.join(y3_df)\n",
    "y_points_df = y_points_df.join(y4_df)\n",
    "y_points_df\n",
    "\n",
    "# Reindex to keep single cancers together\n",
    "y_points_df = y_points_df.reindex(ordered)\n",
    "y_points_df"
   ]
  },
  {
   "cell_type": "markdown",
   "metadata": {},
   "source": [
    "Create bar plot and dumbell plot. x-axis of dumbell plot follows order of bar plot. "
   ]
  },
  {
   "cell_type": "code",
   "execution_count": null,
   "metadata": {},
   "outputs": [],
   "source": [
    "# Bar Plot\n",
    "plt.figure(figsize=(14,6))\n",
    "o = sns.barplot(x=both['cancer'], y=both['sig'], data=both, color='grey')\n",
    "plt.setp(o.get_xticklabels(),rotation=90)\n",
    "\n",
    "# Annotate count of sig genes above each bar\n",
    "for p in o.patches:\n",
    "    o.annotate('  {:.0f}'.format(p.get_height()), xy = (p.get_x()+0.3, p.get_height()),\n",
    "                    ha='center', va='bottom', color= 'black',size = 16)\n",
    "\n",
    "o.set(ylim=(0, 1800))\n",
    "o.set_xlabel('', size = 17)\n",
    "o.set_ylabel('Number of Significant Proteins', size = 20)\n",
    "o.get_xaxis().set_visible(False) # Hide x-axis\n",
    "o.yaxis.set_tick_params(labelsize=17)\n",
    "\n",
    "\n",
    "\n",
    "# Dumbell Plot\n",
    "# Create vertical dumbell plot using scatterplots\n",
    "plt.rcParams.update({'font.size': 17})\n",
    "d = plt.figure(figsize=(14.5,5))\n",
    "my_range=range(1,len(y_points_df.index)+1) #range count for x axis num\n",
    "d = plt.vlines(x=my_range, ymin=y_points_df['y1'], ymax=y_points_df['y2'], color='black', alpha=0.5) #vertical lines\n",
    "d = plt.vlines(x=my_range, ymin=y_points_df['y2'], ymax=y_points_df['y3'], color='black', alpha=0.5)\n",
    "d = plt.vlines(x=my_range, ymin=y_points_df['y3'], ymax=y_points_df['y4'], color='black', alpha=0.5)\n",
    "\n",
    "d = plt.scatter(my_range, y_points_df['y1'], color='black', alpha=1) #plots first point\n",
    "d = plt.scatter(my_range, y_points_df['y2'], color='black', alpha=1) # plots second point\n",
    "d = plt.scatter(my_range, y_points_df['y3'], color='black', alpha=1) # plots third point\n",
    "d = plt.scatter(my_range, y_points_df['y4'], color='black', alpha=1) # plots fourth point\n",
    "\n",
    "# Add title and axis names\n",
    "labels = list(y_points_df.index[:8]) # label 8 single cancer names y axis\n",
    "labels.reverse()\n",
    "plt.xticks(my_range, []) #none for x axis\n",
    "plt.yticks(range(0,8), labels) # single cancer names\n",
    "#plt.ylabel('Cancer')\n",
    "plt.xlabel('Cancer Overlaps')\n",
    "\n",
    "o.figure.savefig(\"Fig_5B_1.png\", dpi = 300)\n",
    "d.figure.savefig(\"Fig_5B_2.png\", dpi = 300)"
   ]
  },
  {
   "cell_type": "markdown",
   "metadata": {},
   "source": [
    "# Get total number of proteins significant in at least one cancer"
   ]
  },
  {
   "cell_type": "code",
   "execution_count": null,
   "metadata": {},
   "outputs": [],
   "source": [
    "#Keep proteins that are significant in at least 1 cancer. \n",
    "total = all_df[all_df['Num_sig'].isin([1,2,3,4,5,6,7,8])]\n",
    "total_count = len(total.Umich_Proteomics.unique())\n",
    "print('Total significant proteins in at least one cancer:', total_count)"
   ]
  },
  {
   "cell_type": "markdown",
   "metadata": {},
   "source": [
    "# Calculate percentage of proteins significant in only one cancer"
   ]
  },
  {
   "cell_type": "code",
   "execution_count": null,
   "metadata": {},
   "outputs": [],
   "source": [
    "#Keep proteins that are significant in 1 cancer. \n",
    "one = all_df[all_df['Num_sig'].isin([1])]\n",
    "one_count = len(one.Umich_Proteomics.unique())\n",
    "print('Significant proteins in only one cancer:', one_count)\n",
    "print('Percent:', one_count / total_count * 100)"
   ]
  },
  {
   "cell_type": "markdown",
   "metadata": {},
   "source": [
    "# Calculate percentage of proteins significant in multiple cancers"
   ]
  },
  {
   "cell_type": "code",
   "execution_count": null,
   "metadata": {},
   "outputs": [],
   "source": [
    "#Keep proteins that are significant in multiple cancers. \n",
    "mult = all_df[all_df['Num_sig'].isin([2,3])]\n",
    "mult_count = len(mult.Umich_Proteomics.unique())\n",
    "print('Significant proteins in multiple cancers:', mult_count)\n",
    "print('Percent:', mult_count / total_count * 100)"
   ]
  },
  {
   "cell_type": "code",
   "execution_count": null,
   "metadata": {},
   "outputs": [],
   "source": [
    "#Keep proteins that are significant in 3 cancers. \n",
    "three = all_df[all_df['Num_sig'].isin([3])]\n",
    "three_count = len(three.Umich_Proteomics.unique())\n",
    "print('Significant proteins in 3 cancers:', three_count)\n",
    "print('Percent:', three_count / total_count * 100)"
   ]
  },
  {
   "cell_type": "code",
   "execution_count": null,
   "metadata": {},
   "outputs": [],
   "source": [
    "#Keep proteins that are significant in 4 cancers. \n",
    "four = all_df[all_df['Num_sig'].isin([4])]\n",
    "four_count = len(four.Umich_Proteomics.unique())\n",
    "print('Significant proteins in 4 cancers:', four_count)\n",
    "print('Percent:', four_count / total_count * 100)"
   ]
  }
 ],
 "metadata": {
  "kernelspec": {
   "display_name": "Python 3 (ipykernel)",
   "language": "python",
   "name": "python3"
  },
  "language_info": {
   "codemirror_mode": {
    "name": "ipython",
    "version": 3
   },
   "file_extension": ".py",
   "mimetype": "text/x-python",
   "name": "python",
   "nbconvert_exporter": "python",
   "pygments_lexer": "ipython3",
   "version": "3.9.7"
  }
 },
 "nbformat": 4,
 "nbformat_minor": 2
}
