{
 "cells": [
  {
   "cell_type": "markdown",
   "metadata": {},
   "source": [
    "# PTEN cis effect"
   ]
  },
  {
   "cell_type": "markdown",
   "metadata": {},
   "source": [
    "This notebook creates a boxplot for the cis effect of PTEN cnv deletions in 8 cancers. These 8 cancers were chosen because they have enough samples with PTEN cnv deletions to do a t-test. Only Ccrcc does not have enough samples with deletions. "
   ]
  },
  {
   "cell_type": "markdown",
   "metadata": {},
   "source": [
    "Imports"
   ]
  },
  {
   "cell_type": "code",
   "execution_count": 1,
   "metadata": {},
   "outputs": [],
   "source": [
    "import pandas as pd\n",
    "import numpy as np\n",
    "import seaborn as sns\n",
    "import matplotlib.pyplot as plt\n",
    "import re\n",
    "\n",
    "import cptac\n",
    "import cptac.pancan as pc\n",
    "import cptac.utils as u\n",
    "import plot_utils as p"
   ]
  },
  {
   "cell_type": "code",
   "execution_count": 2,
   "metadata": {},
   "outputs": [
    {
     "name": "stdout",
     "output_type": "stream",
     "text": [
      "cptac version: 0.9.1\n"
     ]
    }
   ],
   "source": [
    "print('cptac version:', cptac.version())"
   ]
  },
  {
   "cell_type": "markdown",
   "metadata": {},
   "source": [
    "Functions:\n",
    "\n",
    "format_df prepares a data frame with PTEN proteomics and PTEN mutation type from get_genotype_all_vars.\n",
    "\n",
    "format_pval_annotation is used to add marks to the boxplot. A star represents significant p-value and \"ns\" represents a nonsignificant p-value."
   ]
  },
  {
   "cell_type": "code",
   "execution_count": 3,
   "metadata": {},
   "outputs": [],
   "source": [
    "'''\n",
    "Params\n",
    "cancer_object: Object. The loaded cancer data set.\n",
    "all_prot: List. trans proteins used to get proteomics data. \n",
    "gene_in: String. Gene used to get mutation status for the Mutation col.\n",
    "utils: utils package from cptac.  \n",
    "\n",
    "Returns a dataframe with trans proteomics and mutation status of a specific gene.\n",
    "'''\n",
    "\n",
    "def format_df(cancer_object, all_prot = 'PTEN', gene_in = 'PTEN', utils = u):\n",
    "    mut_type = cancer_object.get_genotype_all_vars(gene_in, omics_source = 'washu') # washu has cnv\n",
    "    if cancer_object.get_cancer_type() not in ('pancanluad'):\n",
    "        # Keep only tumor samples from proteomics\n",
    "        prot_and_mutations = cancer_object.join_omics_to_mutations(mutations_genes = [gene_in], \n",
    "                                            omics_df_name = 'proteomics', omics_source = 'umich', \n",
    "                                            omics_genes = all_prot, tissue_type = 'tumor')\n",
    "        # Reduce a multiindex \n",
    "        if isinstance(prot_and_mutations.keys(), pd.core.indexes.multi.MultiIndex):\n",
    "            prot_and_mutations = utils.reduce_multiindex(prot_and_mutations, levels_to_drop = 1)\n",
    "            prot_and_mutations = rename_duplicate_cols(prot_and_mutations) # add '_i' to distinguish\n",
    "            \n",
    "        # Merge Mutation column from get_genotype_all_vars (includes cnv) with proteomics\n",
    "        mut_type = mut_type[['Mutation']] # get mutation column (created in get_genotype_all_vars)\n",
    "        prot_df = prot_and_mutations.iloc[:,:-4] # Keep only proteomics\n",
    "        merged = prot_df.join(mut_type)\n",
    "        \n",
    "        # Keep only Wildtype and deletion\n",
    "        compare = ['Wildtype_Tumor','Deletion']\n",
    "        get = merged['Mutation'].isin(compare)\n",
    "        mut_wt = merged[get]\n",
    "    \n",
    "    \n",
    "    # Luad has no somatic mutations for PTEN which changes some things\n",
    "    elif cancer_object.get_cancer_type() in ('pancanluad'): \n",
    "        # get_genotype_all_vars add cnv data under the column PTEN\n",
    "        mut_type = mut_type.drop(columns= gene_in)\n",
    "        # different code because no somatic mutation data for pten (can't join to somatic mutations)\n",
    "        omics = cancer_object.join_omics_to_omics(df1_name = 'CNV', df2_name='proteomics', df1_source = 'washu', \n",
    "                                                  df2_source = 'umich', genes1= gene_in, genes2= all_prot, \n",
    "                                                  tissue_type = 'tumor')\n",
    "        omics = utils.reduce_multiindex(omics, levels_to_drop = 1, flatten = True)\n",
    "        omics = rename_duplicate_cols(omics)\n",
    "        omics = omics.drop(columns='PTEN_washu_CNV')\n",
    "       \n",
    "        # Merge Mutation column from get_genotype_all_vars (includes cnv) with proteomics\n",
    "        merged = omics.join(mut_type) \n",
    "        # Keep only No_Mutation (wildtype) and deletion\n",
    "        compare = ['No_Mutation','Deletion']\n",
    "        get = merged['Mutation'].isin(compare)\n",
    "        mut_wt = merged[get]\n",
    "        mut_wt['Mutation'] = np.where(\n",
    "            mut_wt['Mutation'] == 'No_Mutation', 'Wildtype_Tumor', 'Deletion')\n",
    "    \n",
    "    mut_wt = mut_wt.rename(columns={col: re.sub(r'_umich_proteomics', '', col) for col in mut_wt.columns.tolist()})\n",
    "    return mut_wt\n",
    "\n"
   ]
  },
  {
   "cell_type": "code",
   "execution_count": 4,
   "metadata": {},
   "outputs": [],
   "source": [
    "''' Adds '_i' to duplicate col names where the int i increases by one with each duplicate \n",
    "Returns a df with unique column names. '''\n",
    "\n",
    "def rename_duplicate_cols(df):\n",
    "    cols = pd.Series(df.columns[:])\n",
    "\n",
    "    for dup in cols[cols.duplicated()].unique(): \n",
    "        cols[cols[cols == dup].index.values.tolist()] = [dup + '_' + str(i) if i != 0 else dup for i in range(sum(cols == dup))]\n",
    "\n",
    "    # rename the columns with the cols list.\n",
    "    df.columns=cols\n",
    "    return df"
   ]
  },
  {
   "cell_type": "code",
   "execution_count": 5,
   "metadata": {},
   "outputs": [],
   "source": [
    "def format_pval_annotation(pval_symbol, x1, x2, line_start = .05, line_height=.05):\n",
    "    # for manual adjustment to pval annotations\n",
    "    \n",
    "    y, h = line_start, line_height\n",
    "    plt.plot([x1, x1, x2, x2], #draw horizontal line\n",
    "             [y, y+h, y+h, y], #vertical line\n",
    "             lw=1.5, color= '.3')\n",
    "    plt.text((x1+x2)*.5, # half between x coord\n",
    "             y+h, pval_symbol, horizontalalignment='center', verticalalignment='bottom', color = \"black\")\n"
   ]
  },
  {
   "cell_type": "markdown",
   "metadata": {},
   "source": [
    "# Step 1: Create data frames with PTEN cnv deletion and Proteomics"
   ]
  },
  {
   "cell_type": "markdown",
   "metadata": {},
   "source": [
    "Each cancer needs a data frame containing only samples that have PTEN cnv deletions or PTEN wildtype tumors and PTEN proteomics."
   ]
  },
  {
   "cell_type": "markdown",
   "metadata": {},
   "source": [
    "First, load in cancer data sets from cptac."
   ]
  },
  {
   "cell_type": "code",
   "execution_count": 6,
   "metadata": {},
   "outputs": [
    {
     "name": "stdout",
     "output_type": "stream",
     "text": [
      "                                                 \r"
     ]
    }
   ],
   "source": [
    "en = pc.PancanUcec()\n",
    "h = pc.PancanHnscc()\n",
    "l = pc.PancanLuad()\n",
    "ls = pc.PancanLscc()\n",
    "o = pc.PancanOv()\n",
    "r = pc.PancanCcrcc()\n",
    "co = pc.PancanCoad()\n",
    "g = pc.PancanGbm()\n",
    "b = pc.PancanBrca()"
   ]
  },
  {
   "cell_type": "markdown",
   "metadata": {},
   "source": [
    "Next, use format_df to create the specific data frame for each cancer. Use wrap_ttest to test PTEN deletion vs. wildtype. "
   ]
  },
  {
   "cell_type": "markdown",
   "metadata": {},
   "source": [
    "# Gbm"
   ]
  },
  {
   "cell_type": "code",
   "execution_count": 7,
   "metadata": {},
   "outputs": [
    {
     "name": "stderr",
     "output_type": "stream",
     "text": [
      "cptac warning: In joining the somatic_mutation table, no mutations were found for the following samples, so they were filled with Wildtype_Tumor or Wildtype_Normal: 68 samples for the PTEN gene (/Users/brittanyhenderson/anaconda3/lib/python3.8/site-packages/cptac/pancan/pancandataset.py, line 170)\n",
      "/Users/brittanyhenderson/anaconda3/lib/python3.8/site-packages/numpy/core/_asarray.py:83: VisibleDeprecationWarning: Creating an ndarray from ragged nested sequences (which is a list-or-tuple of lists-or-tuples-or ndarrays with different lengths or shapes) is deprecated. If you meant to do this, you must specify 'dtype=object' when creating the ndarray\n",
      "  return array(a, dtype, copy=False, order=order)\n",
      "cptac warning: In joining the somatic_mutation table, no mutations were found for the following samples, so they were filled with Wildtype_Tumor or Wildtype_Normal: 69 samples for the PTEN gene (/Users/brittanyhenderson/anaconda3/lib/python3.8/site-packages/cptac/pancan/pancandataset.py, line 170)\n"
     ]
    },
    {
     "data": {
      "text/html": [
       "<div>\n",
       "<style scoped>\n",
       "    .dataframe tbody tr th:only-of-type {\n",
       "        vertical-align: middle;\n",
       "    }\n",
       "\n",
       "    .dataframe tbody tr th {\n",
       "        vertical-align: top;\n",
       "    }\n",
       "\n",
       "    .dataframe thead th {\n",
       "        text-align: right;\n",
       "    }\n",
       "</style>\n",
       "<table border=\"1\" class=\"dataframe\">\n",
       "  <thead>\n",
       "    <tr style=\"text-align: right;\">\n",
       "      <th>Name</th>\n",
       "      <th>PTEN</th>\n",
       "      <th>Mutation</th>\n",
       "    </tr>\n",
       "    <tr>\n",
       "      <th>Patient_ID</th>\n",
       "      <th></th>\n",
       "      <th></th>\n",
       "    </tr>\n",
       "  </thead>\n",
       "  <tbody>\n",
       "    <tr>\n",
       "      <th>C3L-00104</th>\n",
       "      <td>-0.663853</td>\n",
       "      <td>Deletion</td>\n",
       "    </tr>\n",
       "    <tr>\n",
       "      <th>C3L-00365</th>\n",
       "      <td>0.068567</td>\n",
       "      <td>Deletion</td>\n",
       "    </tr>\n",
       "    <tr>\n",
       "      <th>C3L-00674</th>\n",
       "      <td>0.206847</td>\n",
       "      <td>Deletion</td>\n",
       "    </tr>\n",
       "    <tr>\n",
       "      <th>C3L-00677</th>\n",
       "      <td>-0.804521</td>\n",
       "      <td>Deletion</td>\n",
       "    </tr>\n",
       "    <tr>\n",
       "      <th>C3L-01040</th>\n",
       "      <td>0.368882</td>\n",
       "      <td>Deletion</td>\n",
       "    </tr>\n",
       "    <tr>\n",
       "      <th>...</th>\n",
       "      <td>...</td>\n",
       "      <td>...</td>\n",
       "    </tr>\n",
       "    <tr>\n",
       "      <th>C3N-03183</th>\n",
       "      <td>-0.727954</td>\n",
       "      <td>Deletion</td>\n",
       "    </tr>\n",
       "    <tr>\n",
       "      <th>C3N-03184</th>\n",
       "      <td>-0.252810</td>\n",
       "      <td>Deletion</td>\n",
       "    </tr>\n",
       "    <tr>\n",
       "      <th>C3N-03186</th>\n",
       "      <td>0.247315</td>\n",
       "      <td>Deletion</td>\n",
       "    </tr>\n",
       "    <tr>\n",
       "      <th>C3N-03188</th>\n",
       "      <td>0.501166</td>\n",
       "      <td>Wildtype_Tumor</td>\n",
       "    </tr>\n",
       "    <tr>\n",
       "      <th>C3N-03473</th>\n",
       "      <td>0.370727</td>\n",
       "      <td>Wildtype_Tumor</td>\n",
       "    </tr>\n",
       "  </tbody>\n",
       "</table>\n",
       "<p>96 rows × 2 columns</p>\n",
       "</div>"
      ],
      "text/plain": [
       "Name            PTEN        Mutation\n",
       "Patient_ID                          \n",
       "C3L-00104  -0.663853        Deletion\n",
       "C3L-00365   0.068567        Deletion\n",
       "C3L-00674   0.206847        Deletion\n",
       "C3L-00677  -0.804521        Deletion\n",
       "C3L-01040   0.368882        Deletion\n",
       "...              ...             ...\n",
       "C3N-03183  -0.727954        Deletion\n",
       "C3N-03184  -0.252810        Deletion\n",
       "C3N-03186   0.247315        Deletion\n",
       "C3N-03188   0.501166  Wildtype_Tumor\n",
       "C3N-03473   0.370727  Wildtype_Tumor\n",
       "\n",
       "[96 rows x 2 columns]"
      ]
     },
     "execution_count": 7,
     "metadata": {},
     "output_type": "execute_result"
    }
   ],
   "source": [
    "gene = 'PTEN'\n",
    "g_del_wt = format_df(g,gene)\n",
    "g_del_wt.Mutation.value_counts()\n",
    "g_del_wt"
   ]
  },
  {
   "cell_type": "code",
   "execution_count": 8,
   "metadata": {},
   "outputs": [
    {
     "data": {
      "text/html": [
       "<div>\n",
       "<style scoped>\n",
       "    .dataframe tbody tr th:only-of-type {\n",
       "        vertical-align: middle;\n",
       "    }\n",
       "\n",
       "    .dataframe tbody tr th {\n",
       "        vertical-align: top;\n",
       "    }\n",
       "\n",
       "    .dataframe thead th {\n",
       "        text-align: right;\n",
       "    }\n",
       "</style>\n",
       "<table border=\"1\" class=\"dataframe\">\n",
       "  <thead>\n",
       "    <tr style=\"text-align: right;\">\n",
       "      <th></th>\n",
       "      <th>Comparison</th>\n",
       "      <th>P_Value</th>\n",
       "    </tr>\n",
       "  </thead>\n",
       "  <tbody>\n",
       "    <tr>\n",
       "      <th>0</th>\n",
       "      <td>PTEN</td>\n",
       "      <td>0.000039</td>\n",
       "    </tr>\n",
       "  </tbody>\n",
       "</table>\n",
       "</div>"
      ],
      "text/plain": [
       "  Comparison   P_Value\n",
       "0       PTEN  0.000039"
      ]
     },
     "execution_count": 8,
     "metadata": {},
     "output_type": "execute_result"
    }
   ],
   "source": [
    "g_pval = u.wrap_ttest(g_del_wt, 'Mutation', ['PTEN'], return_all = True)\n",
    "gp = g_pval.P_Value[0]\n",
    "g_pval"
   ]
  },
  {
   "cell_type": "markdown",
   "metadata": {},
   "source": [
    "# Luad"
   ]
  },
  {
   "cell_type": "code",
   "execution_count": 9,
   "metadata": {},
   "outputs": [
    {
     "name": "stderr",
     "output_type": "stream",
     "text": [
      "cptac warning: Due to dropping the specified levels, dataframe now has 224 duplicated column headers. (/Users/brittanyhenderson/anaconda3/lib/python3.8/site-packages/cptac/pancan/pancandataset.py, line 302)\n",
      "cptac warning: washu_CNV data was not found for the following samples, so washu_CNV data columns were filled with NaN for these samples: C3L-01890 (/Users/brittanyhenderson/anaconda3/lib/python3.8/site-packages/cptac/pancan/pancandataset.py, line 144)\n",
      "cptac warning: You tried to flatten a column index that didn't have multiple levels, so we didn't actually change anything. (<ipython-input-3-1e06404c9b1a>, line 42)\n",
      "<ipython-input-3-1e06404c9b1a>:52: SettingWithCopyWarning: \n",
      "A value is trying to be set on a copy of a slice from a DataFrame.\n",
      "Try using .loc[row_indexer,col_indexer] = value instead\n",
      "\n",
      "See the caveats in the documentation: https://pandas.pydata.org/pandas-docs/stable/user_guide/indexing.html#returning-a-view-versus-a-copy\n",
      "  mut_wt['Mutation'] = np.where(\n"
     ]
    },
    {
     "data": {
      "text/html": [
       "<div>\n",
       "<style scoped>\n",
       "    .dataframe tbody tr th:only-of-type {\n",
       "        vertical-align: middle;\n",
       "    }\n",
       "\n",
       "    .dataframe tbody tr th {\n",
       "        vertical-align: top;\n",
       "    }\n",
       "\n",
       "    .dataframe thead th {\n",
       "        text-align: right;\n",
       "    }\n",
       "</style>\n",
       "<table border=\"1\" class=\"dataframe\">\n",
       "  <thead>\n",
       "    <tr style=\"text-align: right;\">\n",
       "      <th></th>\n",
       "      <th>Comparison</th>\n",
       "      <th>P_Value</th>\n",
       "    </tr>\n",
       "  </thead>\n",
       "  <tbody>\n",
       "    <tr>\n",
       "      <th>0</th>\n",
       "      <td>PTEN</td>\n",
       "      <td>0.0455</td>\n",
       "    </tr>\n",
       "  </tbody>\n",
       "</table>\n",
       "</div>"
      ],
      "text/plain": [
       "  Comparison  P_Value\n",
       "0       PTEN   0.0455"
      ]
     },
     "execution_count": 9,
     "metadata": {},
     "output_type": "execute_result"
    }
   ],
   "source": [
    "l_del_wt = format_df(l, gene)\n",
    "l_pval = u.wrap_ttest(l_del_wt, 'Mutation', ['PTEN'])\n",
    "lp = l_pval.P_Value[0]\n",
    "l_pval"
   ]
  },
  {
   "cell_type": "markdown",
   "metadata": {},
   "source": [
    "# Lscc"
   ]
  },
  {
   "cell_type": "code",
   "execution_count": 10,
   "metadata": {},
   "outputs": [
    {
     "name": "stderr",
     "output_type": "stream",
     "text": [
      "cptac warning: In joining the somatic_mutation table, no mutations were found for the following samples, so they were filled with Wildtype_Tumor or Wildtype_Normal: 100 samples for the PTEN gene (/Users/brittanyhenderson/anaconda3/lib/python3.8/site-packages/cptac/pancan/pancandataset.py, line 170)\n",
      "/Users/brittanyhenderson/anaconda3/lib/python3.8/site-packages/numpy/core/_asarray.py:83: VisibleDeprecationWarning: Creating an ndarray from ragged nested sequences (which is a list-or-tuple of lists-or-tuples-or ndarrays with different lengths or shapes) is deprecated. If you meant to do this, you must specify 'dtype=object' when creating the ndarray\n",
      "  return array(a, dtype, copy=False, order=order)\n",
      "cptac warning: In joining the somatic_mutation table, no mutations were found for the following samples, so they were filled with Wildtype_Tumor or Wildtype_Normal: 100 samples for the PTEN gene (/Users/brittanyhenderson/anaconda3/lib/python3.8/site-packages/cptac/pancan/pancandataset.py, line 170)\n"
     ]
    },
    {
     "data": {
      "text/html": [
       "<div>\n",
       "<style scoped>\n",
       "    .dataframe tbody tr th:only-of-type {\n",
       "        vertical-align: middle;\n",
       "    }\n",
       "\n",
       "    .dataframe tbody tr th {\n",
       "        vertical-align: top;\n",
       "    }\n",
       "\n",
       "    .dataframe thead th {\n",
       "        text-align: right;\n",
       "    }\n",
       "</style>\n",
       "<table border=\"1\" class=\"dataframe\">\n",
       "  <thead>\n",
       "    <tr style=\"text-align: right;\">\n",
       "      <th></th>\n",
       "      <th>Comparison</th>\n",
       "      <th>P_Value</th>\n",
       "    </tr>\n",
       "  </thead>\n",
       "  <tbody>\n",
       "    <tr>\n",
       "      <th>0</th>\n",
       "      <td>PTEN</td>\n",
       "      <td>0.00014</td>\n",
       "    </tr>\n",
       "  </tbody>\n",
       "</table>\n",
       "</div>"
      ],
      "text/plain": [
       "  Comparison  P_Value\n",
       "0       PTEN  0.00014"
      ]
     },
     "execution_count": 10,
     "metadata": {},
     "output_type": "execute_result"
    }
   ],
   "source": [
    "ls_del_wt = format_df(ls, gene)\n",
    "ls_pval = u.wrap_ttest(ls_del_wt, 'Mutation', ['PTEN'])\n",
    "lsp = ls_pval.P_Value[0]\n",
    "ls_pval"
   ]
  },
  {
   "cell_type": "markdown",
   "metadata": {},
   "source": [
    "# Ovarian"
   ]
  },
  {
   "cell_type": "code",
   "execution_count": 11,
   "metadata": {},
   "outputs": [
    {
     "name": "stderr",
     "output_type": "stream",
     "text": [
      "cptac warning: In joining the somatic_mutation table, no mutations were found for the following samples, so they were filled with Wildtype_Tumor or Wildtype_Normal: 77 samples for the PTEN gene (/Users/brittanyhenderson/anaconda3/lib/python3.8/site-packages/cptac/pancan/pancandataset.py, line 170)\n",
      "/Users/brittanyhenderson/anaconda3/lib/python3.8/site-packages/numpy/core/_asarray.py:83: VisibleDeprecationWarning: Creating an ndarray from ragged nested sequences (which is a list-or-tuple of lists-or-tuples-or ndarrays with different lengths or shapes) is deprecated. If you meant to do this, you must specify 'dtype=object' when creating the ndarray\n",
      "  return array(a, dtype, copy=False, order=order)\n",
      "cptac warning: In joining the somatic_mutation table, no mutations were found for the following samples, so they were filled with Wildtype_Tumor or Wildtype_Normal: 79 samples for the PTEN gene (/Users/brittanyhenderson/anaconda3/lib/python3.8/site-packages/cptac/pancan/pancandataset.py, line 170)\n"
     ]
    },
    {
     "data": {
      "text/html": [
       "<div>\n",
       "<style scoped>\n",
       "    .dataframe tbody tr th:only-of-type {\n",
       "        vertical-align: middle;\n",
       "    }\n",
       "\n",
       "    .dataframe tbody tr th {\n",
       "        vertical-align: top;\n",
       "    }\n",
       "\n",
       "    .dataframe thead th {\n",
       "        text-align: right;\n",
       "    }\n",
       "</style>\n",
       "<table border=\"1\" class=\"dataframe\">\n",
       "  <thead>\n",
       "    <tr style=\"text-align: right;\">\n",
       "      <th></th>\n",
       "      <th>Comparison</th>\n",
       "      <th>P_Value</th>\n",
       "    </tr>\n",
       "  </thead>\n",
       "  <tbody>\n",
       "    <tr>\n",
       "      <th>0</th>\n",
       "      <td>PTEN</td>\n",
       "      <td>0.00025</td>\n",
       "    </tr>\n",
       "  </tbody>\n",
       "</table>\n",
       "</div>"
      ],
      "text/plain": [
       "  Comparison  P_Value\n",
       "0       PTEN  0.00025"
      ]
     },
     "execution_count": 11,
     "metadata": {},
     "output_type": "execute_result"
    }
   ],
   "source": [
    "o_del_wt = format_df(o, gene)\n",
    "o_pval = u.wrap_ttest(o_del_wt, 'Mutation', ['PTEN'])\n",
    "op = o_pval.P_Value[0]\n",
    "o_pval"
   ]
  },
  {
   "cell_type": "markdown",
   "metadata": {},
   "source": [
    "# Brca"
   ]
  },
  {
   "cell_type": "code",
   "execution_count": 12,
   "metadata": {},
   "outputs": [
    {
     "name": "stderr",
     "output_type": "stream",
     "text": [
      "cptac warning: In joining the somatic_mutation table, no mutations were found for the following samples, so they were filled with Wildtype_Tumor or Wildtype_Normal: 114 samples for the PTEN gene (/Users/brittanyhenderson/anaconda3/lib/python3.8/site-packages/cptac/pancan/pancandataset.py, line 170)\n",
      "cptac warning: washu_CNV data was not found for the following samples, so washu_CNV data columns were filled with NaN for these samples: 01BR044, 604 (/Users/brittanyhenderson/anaconda3/lib/python3.8/site-packages/cptac/pancan/pancandataset.py, line 170)\n",
      "/Users/brittanyhenderson/anaconda3/lib/python3.8/site-packages/numpy/core/_asarray.py:83: VisibleDeprecationWarning: Creating an ndarray from ragged nested sequences (which is a list-or-tuple of lists-or-tuples-or ndarrays with different lengths or shapes) is deprecated. If you meant to do this, you must specify 'dtype=object' when creating the ndarray\n",
      "  return array(a, dtype, copy=False, order=order)\n",
      "cptac warning: In joining the somatic_mutation table, no mutations were found for the following samples, so they were filled with Wildtype_Tumor or Wildtype_Normal: 115 samples for the PTEN gene (/Users/brittanyhenderson/anaconda3/lib/python3.8/site-packages/cptac/pancan/pancandataset.py, line 170)\n",
      "cptac warning: umich_proteomics data was not found for the following samples, so umich_proteomics data columns were filled with NaN for these samples: 01BR044, 604 (/Users/brittanyhenderson/anaconda3/lib/python3.8/site-packages/cptac/pancan/pancandataset.py, line 170)\n"
     ]
    },
    {
     "data": {
      "text/html": [
       "<div>\n",
       "<style scoped>\n",
       "    .dataframe tbody tr th:only-of-type {\n",
       "        vertical-align: middle;\n",
       "    }\n",
       "\n",
       "    .dataframe tbody tr th {\n",
       "        vertical-align: top;\n",
       "    }\n",
       "\n",
       "    .dataframe thead th {\n",
       "        text-align: right;\n",
       "    }\n",
       "</style>\n",
       "<table border=\"1\" class=\"dataframe\">\n",
       "  <thead>\n",
       "    <tr style=\"text-align: right;\">\n",
       "      <th></th>\n",
       "      <th>Comparison</th>\n",
       "      <th>P_Value</th>\n",
       "    </tr>\n",
       "  </thead>\n",
       "  <tbody>\n",
       "    <tr>\n",
       "      <th>0</th>\n",
       "      <td>PTEN</td>\n",
       "      <td>0.212432</td>\n",
       "    </tr>\n",
       "  </tbody>\n",
       "</table>\n",
       "</div>"
      ],
      "text/plain": [
       "  Comparison   P_Value\n",
       "0       PTEN  0.212432"
      ]
     },
     "execution_count": 12,
     "metadata": {},
     "output_type": "execute_result"
    }
   ],
   "source": [
    "b_del_wt = format_df(b, gene)\n",
    "b_pval = u.wrap_ttest(b_del_wt, 'Mutation', ['PTEN'], return_all = True)\n",
    "bp = b_pval.P_Value[0]\n",
    "b_pval"
   ]
  },
  {
   "cell_type": "markdown",
   "metadata": {},
   "source": [
    "# Colon"
   ]
  },
  {
   "cell_type": "code",
   "execution_count": 14,
   "metadata": {},
   "outputs": [
    {
     "name": "stderr",
     "output_type": "stream",
     "text": [
      "cptac warning: In joining the somatic_mutation table, no mutations were found for the following samples, so they were filled with Wildtype_Tumor or Wildtype_Normal: 97 samples for the PTEN gene (/Users/brittanyhenderson/anaconda3/lib/python3.8/site-packages/cptac/pancan/pancandataset.py, line 170)\n",
      "/Users/brittanyhenderson/anaconda3/lib/python3.8/site-packages/numpy/core/_asarray.py:83: VisibleDeprecationWarning: Creating an ndarray from ragged nested sequences (which is a list-or-tuple of lists-or-tuples-or ndarrays with different lengths or shapes) is deprecated. If you meant to do this, you must specify 'dtype=object' when creating the ndarray\n",
      "  return array(a, dtype, copy=False, order=order)\n",
      "cptac warning: In joining the somatic_mutation table, no mutations were found for the following samples, so they were filled with Wildtype_Tumor or Wildtype_Normal: 88 samples for the PTEN gene (/Users/brittanyhenderson/anaconda3/lib/python3.8/site-packages/cptac/pancan/pancandataset.py, line 170)\n"
     ]
    },
    {
     "data": {
      "text/html": [
       "<div>\n",
       "<style scoped>\n",
       "    .dataframe tbody tr th:only-of-type {\n",
       "        vertical-align: middle;\n",
       "    }\n",
       "\n",
       "    .dataframe tbody tr th {\n",
       "        vertical-align: top;\n",
       "    }\n",
       "\n",
       "    .dataframe thead th {\n",
       "        text-align: right;\n",
       "    }\n",
       "</style>\n",
       "<table border=\"1\" class=\"dataframe\">\n",
       "  <thead>\n",
       "    <tr style=\"text-align: right;\">\n",
       "      <th></th>\n",
       "      <th>Comparison</th>\n",
       "      <th>P_Value</th>\n",
       "    </tr>\n",
       "  </thead>\n",
       "  <tbody>\n",
       "    <tr>\n",
       "      <th>0</th>\n",
       "      <td>PTEN</td>\n",
       "      <td>0.037712</td>\n",
       "    </tr>\n",
       "  </tbody>\n",
       "</table>\n",
       "</div>"
      ],
      "text/plain": [
       "  Comparison   P_Value\n",
       "0       PTEN  0.037712"
      ]
     },
     "execution_count": 14,
     "metadata": {},
     "output_type": "execute_result"
    }
   ],
   "source": [
    "c_del_wt = format_df(co, gene)\n",
    "c_pval = u.wrap_ttest(c_del_wt, 'Mutation', ['PTEN'])\n",
    "cp = c_pval.P_Value[0]\n",
    "c_pval"
   ]
  },
  {
   "cell_type": "markdown",
   "metadata": {},
   "source": [
    "#  Hnscc"
   ]
  },
  {
   "cell_type": "code",
   "execution_count": 15,
   "metadata": {},
   "outputs": [
    {
     "name": "stderr",
     "output_type": "stream",
     "text": [
      "cptac warning: In joining the somatic_mutation table, no mutations were found for the following samples, so they were filled with Wildtype_Tumor or Wildtype_Normal: 107 samples for the PTEN gene (/Users/brittanyhenderson/anaconda3/lib/python3.8/site-packages/cptac/pancan/pancandataset.py, line 170)\n",
      "/Users/brittanyhenderson/anaconda3/lib/python3.8/site-packages/numpy/core/_asarray.py:83: VisibleDeprecationWarning: Creating an ndarray from ragged nested sequences (which is a list-or-tuple of lists-or-tuples-or ndarrays with different lengths or shapes) is deprecated. If you meant to do this, you must specify 'dtype=object' when creating the ndarray\n",
      "  return array(a, dtype, copy=False, order=order)\n",
      "cptac warning: In joining the somatic_mutation table, no mutations were found for the following samples, so they were filled with Wildtype_Tumor or Wildtype_Normal: 113 samples for the PTEN gene (/Users/brittanyhenderson/anaconda3/lib/python3.8/site-packages/cptac/pancan/pancandataset.py, line 170)\n"
     ]
    },
    {
     "data": {
      "text/html": [
       "<div>\n",
       "<style scoped>\n",
       "    .dataframe tbody tr th:only-of-type {\n",
       "        vertical-align: middle;\n",
       "    }\n",
       "\n",
       "    .dataframe tbody tr th {\n",
       "        vertical-align: top;\n",
       "    }\n",
       "\n",
       "    .dataframe thead th {\n",
       "        text-align: right;\n",
       "    }\n",
       "</style>\n",
       "<table border=\"1\" class=\"dataframe\">\n",
       "  <thead>\n",
       "    <tr style=\"text-align: right;\">\n",
       "      <th></th>\n",
       "      <th>Comparison</th>\n",
       "      <th>P_Value</th>\n",
       "    </tr>\n",
       "  </thead>\n",
       "  <tbody>\n",
       "    <tr>\n",
       "      <th>0</th>\n",
       "      <td>PTEN</td>\n",
       "      <td>7.715471e-09</td>\n",
       "    </tr>\n",
       "  </tbody>\n",
       "</table>\n",
       "</div>"
      ],
      "text/plain": [
       "  Comparison       P_Value\n",
       "0       PTEN  7.715471e-09"
      ]
     },
     "execution_count": 15,
     "metadata": {},
     "output_type": "execute_result"
    }
   ],
   "source": [
    "h_del_wt = format_df(h, gene)\n",
    "h_pval = u.wrap_ttest(h_del_wt, 'Mutation', ['PTEN'])\n",
    "hp = h_pval.P_Value[0]\n",
    "h_pval"
   ]
  },
  {
   "cell_type": "markdown",
   "metadata": {},
   "source": [
    "# Endometrial"
   ]
  },
  {
   "cell_type": "markdown",
   "metadata": {},
   "source": [
    "The Endometrial data set does not have enough cnv deletions to perform a t-test, however the data set does have enough truncation type mutations (nonsense and frame shifts). Different code is needed to create the data frame for Endometrial."
   ]
  },
  {
   "cell_type": "code",
   "execution_count": 16,
   "metadata": {},
   "outputs": [
    {
     "name": "stdout",
     "output_type": "stream",
     "text": [
      "Wildtype_Tumor       28\n",
      "Nonsense_Mutation    24\n",
      "Frame_Shift_Del      21\n",
      "Frame_Shift_Ins       6\n",
      "Name: PTEN_Mutation, dtype: int64\n"
     ]
    },
    {
     "name": "stderr",
     "output_type": "stream",
     "text": [
      "cptac warning: In joining the somatic_mutation table, no mutations were found for the following samples, so they were filled with Wildtype_Tumor or Wildtype_Normal: 59 samples for the PTEN gene (/Users/brittanyhenderson/anaconda3/lib/python3.8/site-packages/cptac/pancan/pancandataset.py, line 170)\n",
      "<ipython-input-16-77f8beb74020>:14: SettingWithCopyWarning: \n",
      "A value is trying to be set on a copy of a slice from a DataFrame.\n",
      "Try using .loc[row_indexer,col_indexer] = value instead\n",
      "\n",
      "See the caveats in the documentation: https://pandas.pydata.org/pandas-docs/stable/user_guide/indexing.html#returning-a-view-versus-a-copy\n",
      "  trunc_mutations['Mutation'] = np.where(\n"
     ]
    },
    {
     "data": {
      "text/html": [
       "<div>\n",
       "<style scoped>\n",
       "    .dataframe tbody tr th:only-of-type {\n",
       "        vertical-align: middle;\n",
       "    }\n",
       "\n",
       "    .dataframe tbody tr th {\n",
       "        vertical-align: top;\n",
       "    }\n",
       "\n",
       "    .dataframe thead th {\n",
       "        text-align: right;\n",
       "    }\n",
       "</style>\n",
       "<table border=\"1\" class=\"dataframe\">\n",
       "  <thead>\n",
       "    <tr style=\"text-align: right;\">\n",
       "      <th></th>\n",
       "      <th>Comparison</th>\n",
       "      <th>P_Value</th>\n",
       "    </tr>\n",
       "  </thead>\n",
       "  <tbody>\n",
       "    <tr>\n",
       "      <th>0</th>\n",
       "      <td>PTEN</td>\n",
       "      <td>0.000005</td>\n",
       "    </tr>\n",
       "  </tbody>\n",
       "</table>\n",
       "</div>"
      ],
      "text/plain": [
       "  Comparison   P_Value\n",
       "0       PTEN  0.000005"
      ]
     },
     "execution_count": 16,
     "metadata": {},
     "output_type": "execute_result"
    }
   ],
   "source": [
    "# Step 1 - Create proteomics and truncations dataframe\n",
    "prot_and_mutations = en.join_omics_to_mutations(\n",
    "    mutations_genes = [gene], omics_df_name = 'proteomics', omics_source='umich',omics_genes = gene, \n",
    "    mutations_filter = ['Nonsense_Mutation','Frame_Shift_Del','Frame_Shift_Ins']) \n",
    "prot_and_mutations = u.reduce_multiindex(prot_and_mutations, levels_to_drop = 1)\n",
    "prot_and_mutations = rename_duplicate_cols(prot_and_mutations) # add '_i' to distinguish\n",
    "    \n",
    "keep = ['Nonsense_Mutation','Frame_Shift_Del','Frame_Shift_Ins','Wildtype_Tumor']\n",
    "in_keep = prot_and_mutations['PTEN_Mutation'].isin(keep)\n",
    "trunc_mutations = prot_and_mutations[in_keep]\n",
    "print(trunc_mutations['PTEN_Mutation'].value_counts())\n",
    "\n",
    "# Step 2 - Create binary column \n",
    "trunc_mutations['Mutation'] = np.where(\n",
    "            trunc_mutations[gene+'_Mutation_Status'] == 'Wildtype_Tumor', 'Wildtype_Tumor', 'Truncation')\n",
    "\n",
    "# Step 3 - Format the dataframe correctly for the t-test(just omics and binary columns for tumors)\n",
    "tumors = trunc_mutations[trunc_mutations.Sample_Status == 'Tumor'] #drop Normal samples\n",
    "columns_to_drop = [gene+\"_Mutation\", gene+\"_Location\", gene+\"_Mutation_Status\", \"Sample_Status\"]\n",
    "e_trunc_wt = tumors.drop(columns_to_drop, axis = 1)\n",
    "e_trunc_wt = e_trunc_wt.dropna(axis=1,how='all')\n",
    "e_trunc_wt['Mutation'].value_counts()\n",
    "\n",
    "e_trunc_wt = e_trunc_wt.rename(columns={col: re.sub(r'_umich_proteomics', '', col) for col in e_trunc_wt.columns.tolist()})\n",
    "\n",
    "e_pval = u.wrap_ttest(e_trunc_wt, 'Mutation', ['PTEN'], return_all = True)\n",
    "ep = e_pval.P_Value[0]\n",
    "e_pval"
   ]
  },
  {
   "cell_type": "markdown",
   "metadata": {},
   "source": [
    "# Step 2: Create a long dataframe for the boxplot"
   ]
  },
  {
   "cell_type": "markdown",
   "metadata": {},
   "source": [
    "The boxplot will take three columns: Proteomics, Mutation, and Cancer. We need to append all the individual cancer dfs into one long pancancer df. "
   ]
  },
  {
   "cell_type": "markdown",
   "metadata": {},
   "source": [
    "First create the Cancer column."
   ]
  },
  {
   "cell_type": "code",
   "execution_count": 17,
   "metadata": {},
   "outputs": [],
   "source": [
    "g_del_wt = g_del_wt.assign(cancer = 'GBM')\n",
    "l_del_wt = l_del_wt.assign(cancer = 'LUAD')\n",
    "ls_del_wt = ls_del_wt.assign(cancer = 'LSCC')\n",
    "b_del_wt = b_del_wt.assign(cancer = 'BR')\n",
    "o_del_wt = o_del_wt.assign(cancer = 'OV')\n",
    "c_del_wt = c_del_wt.assign(cancer = 'CO')\n",
    "h_del_wt = h_del_wt.assign(cancer = 'HNSCC') # higher scale\n",
    "e_trunc_wt = e_trunc_wt.assign(cancer = 'EC')"
   ]
  },
  {
   "cell_type": "markdown",
   "metadata": {},
   "source": [
    "Next append the dfs."
   ]
  },
  {
   "cell_type": "code",
   "execution_count": 21,
   "metadata": {},
   "outputs": [
    {
     "data": {
      "text/plain": [
       "array(['GBM', 'LUAD', 'LSCC', 'BR', 'OV', 'CO', 'HNSCC', 'EC'],\n",
       "      dtype=object)"
      ]
     },
     "execution_count": 21,
     "metadata": {},
     "output_type": "execute_result"
    }
   ],
   "source": [
    "df = g_del_wt.append(l_del_wt)\n",
    "df2 = df.append(ls_del_wt)\n",
    "df3 = df2.append(b_del_wt)\n",
    "df4 = df3.append(o_del_wt)\n",
    "df5 = df4.append(c_del_wt)\n",
    "df6 = df5.append(h_del_wt)\n",
    "df7 = df6.append(e_trunc_wt) \n",
    "\n",
    "df7 = df7.rename(columns={'PTEN':'PTEN Proteomics (Umich)'})\n",
    "df7.cancer.unique()"
   ]
  },
  {
   "cell_type": "markdown",
   "metadata": {},
   "source": [
    "# Step 3: Create the Pancancer Boxplot"
   ]
  },
  {
   "cell_type": "code",
   "execution_count": 24,
   "metadata": {},
   "outputs": [
    {
     "name": "stdout",
     "output_type": "stream",
     "text": [
      "p-values: \n",
      "\n",
      "GBM 3.926002547232086e-05 \n",
      "\n",
      "HNSCC 7.715471423929107e-09 \n",
      "\n",
      "BR 0.21243174305911555 \n",
      "\n",
      "LSCC 0.0001402228820994241 \n",
      "\n",
      "LUAD 0.04550016242971832 \n",
      "\n",
      "EC 4.796434471177064e-06 \n",
      "\n",
      "OV 0.0002498297018376079 \n",
      "\n",
      "CO 0.037712011348617555 \n",
      "\n"
     ]
    },
    {
     "data": {
      "image/png": "[encoded data removed]",
      "text/plain": [
       "<Figure size 842.4x612 with 1 Axes>"
      ]
     },
     "metadata": {},
     "output_type": "display_data"
    }
   ],
   "source": [
    "# cis plot\n",
    "gene = 'PTEN'\n",
    "plt.rcParams['figure.figsize']=(11.7, 8.5) #size of plot\n",
    "sns.set(font_scale = 1.4, style = 'white')\n",
    "\n",
    "boxplot = sns.boxplot(x='cancer', y='PTEN Proteomics (Umich)', data = df7, hue = 'Mutation',\n",
    "                      hue_order = [\"Wildtype_Tumor\", \"Deletion\",'Truncation'], showfliers = False)    \n",
    "#boxplot.set_title('Pancancer cis effect of PTEN CNV Deletions')\n",
    "boxplot = sns.stripplot(x='cancer', y='PTEN Proteomics (Umich)', data = df7, jitter = True, \n",
    "                           color = \".3\", hue = 'Mutation', hue_order = [\"Wildtype_Tumor\", \"Deletion\", 'Truncation'], dodge = True)\n",
    "boxplot.set(xlabel = \"\\nPTEN Mutation Status\", ylabel = gene+' Proteomics')\n",
    "\n",
    "# format legend\n",
    "handles, labels = boxplot.get_legend_handles_labels()\n",
    "plt.legend(handles[0:3], labels[0:3])\n",
    "\n",
    "# Create significance symbols:\n",
    "# * P < 0.015   ** P < 0.001   *** P < 0.0001 \n",
    "cancer_pvals = {'GBM':gp, 'HNSCC':hp, 'BR':bp, 'LSCC':lsp, 'LUAD':lp, 'EC':ep, 'OV':op, 'CO': cp} # order doesn't matter\n",
    "\n",
    "# create pval annotations\n",
    "symbols = {}\n",
    "print('p-values: \\n')\n",
    "for cancer in cancer_pvals:\n",
    "    val = str(cancer_pvals[cancer])\n",
    "    if cancer_pvals[cancer]  < 0.001:\n",
    "        symbols[cancer] = '***'\n",
    "    elif cancer_pvals[cancer]  < 0.01:\n",
    "        symbols[cancer] = '**'  \n",
    "    elif cancer_pvals[cancer]  < 0.05:\n",
    "        symbols[cancer] = '*'\n",
    "    else:\n",
    "        symbols[cancer] = 'ns'\n",
    "    print(cancer, val, '\\n')\n",
    "        \n",
    "\n",
    "format_pval_annotation(symbols['GBM'], -.3, 0, 1.1) \n",
    "format_pval_annotation(symbols['LUAD'], .7, 1, 1.1) \n",
    "format_pval_annotation(symbols['LSCC'], 1.7, 2, 1.1) # Lscc\n",
    "format_pval_annotation(symbols['BR'], 2.7, 3, 1.1) # Brca\n",
    "format_pval_annotation(symbols['OV'], 3.7, 4, 1.1) # Ovarian\n",
    "format_pval_annotation(symbols['CO'], 4.7, 5, 1.1)  # Colon\n",
    "format_pval_annotation(symbols['HNSCC'], 5.7, 6, 1.1) # HNSCC\n",
    "format_pval_annotation(symbols['EC'], 6.7, 7.2, 1.1) # Endometrial\n",
    "\n",
    "plt.show()\n",
    "plt.clf()\n",
    "plt.close()"
   ]
  },
  {
   "cell_type": "code",
   "execution_count": 25,
   "metadata": {},
   "outputs": [],
   "source": [
    "# Save figure\n",
    "fig = boxplot.get_figure()\n",
    "fig.savefig(\"Sup_Fig_4A_pancan.png\", dpi = 300)"
   ]
  },
  {
   "cell_type": "code",
   "execution_count": null,
   "metadata": {},
   "outputs": [],
   "source": []
  }
 ],
 "metadata": {
  "kernelspec": {
   "display_name": "Python 3",
   "language": "python",
   "name": "python3"
  },
  "language_info": {
   "codemirror_mode": {
    "name": "ipython",
    "version": 3
   },
   "file_extension": ".py",
   "mimetype": "text/x-python",
   "name": "python",
   "nbconvert_exporter": "python",
   "pygments_lexer": "ipython3",
   "version": "3.8.8"
  }
 },
 "nbformat": 4,
 "nbformat_minor": 2
}
