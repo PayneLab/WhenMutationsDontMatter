{
 "cells": [
  {
   "cell_type": "markdown",
   "metadata": {},
   "source": [
    "# Make tables: Merge all cancer dfs and create csv files"
   ]
  },
  {
   "cell_type": "markdown",
   "metadata": {},
   "source": [
    "This notebook combines dfs with p-values and differential expressions for 8 cancers. \n",
    "Description of created csv files: \n",
    "* all_proteins - contains all data in normal format, \n",
    "* all_heatmap - all data appended to make a long table for easy use with heatmap function, \n",
    "* sig_pval_heatmap - contains only significant genes (long format),\n",
    "* mult_sig_pval_heatmap - contains only proteins significant in multiple cancers (long format), \n",
    "* pos_neg_df - contains only proteins showing a significant opposite effect in different cancers. "
   ]
  },
  {
   "cell_type": "markdown",
   "metadata": {},
   "source": [
    "Imports"
   ]
  },
  {
   "cell_type": "code",
   "execution_count": 1,
   "metadata": {},
   "outputs": [],
   "source": [
    "import pandas as pd\n",
    "import numpy as np"
   ]
  },
  {
   "cell_type": "markdown",
   "metadata": {},
   "source": [
    "Read in the signle cancer dfs with p-values and differential expressions. Merge all dfs into one pancancer data frame."
   ]
  },
  {
   "cell_type": "code",
   "execution_count": 31,
   "metadata": {},
   "outputs": [],
   "source": [
    "g_merged = pd.read_csv('csv/Single_Cancer/GBM_pval_medians_pancan.csv')\n",
    "h_merged = pd.read_csv('csv/Single_Cancer/HNSCC_pval_medians_pancan.csv')\n",
    "b_merged = pd.read_csv('csv/Single_Cancer/BR_pval_medians_pancan.csv')\n",
    "l_merged = pd.read_csv('csv/Single_Cancer/LUAD_pval_medians_pancan.csv')\n",
    "ls_merged = pd.read_csv('csv/Single_Cancer/LSCC_pval_medians_pancan.csv')\n",
    "e_merged = pd.read_csv('csv/Single_Cancer/EC_pval_medians_pancan.csv')\n",
    "o_merged = pd.read_csv('csv/Single_Cancer/OV_pval_medians_pancan.csv')\n",
    "c_merged = pd.read_csv('csv/Single_Cancer/CO_pval_medians_pancan.csv')"
   ]
  },
  {
   "cell_type": "markdown",
   "metadata": {},
   "source": [
    "# Make csv of all data"
   ]
  },
  {
   "cell_type": "code",
   "execution_count": 32,
   "metadata": {},
   "outputs": [
    {
     "name": "stdout",
     "output_type": "stream",
     "text": [
      "Total proteins: 16556\n"
     ]
    },
    {
     "data": {
      "text/html": [
       "<div>\n",
       "<style scoped>\n",
       "    .dataframe tbody tr th:only-of-type {\n",
       "        vertical-align: middle;\n",
       "    }\n",
       "\n",
       "    .dataframe tbody tr th {\n",
       "        vertical-align: top;\n",
       "    }\n",
       "\n",
       "    .dataframe thead th {\n",
       "        text-align: right;\n",
       "    }\n",
       "</style>\n",
       "<table border=\"1\" class=\"dataframe\">\n",
       "  <thead>\n",
       "    <tr style=\"text-align: right;\">\n",
       "      <th></th>\n",
       "      <th>Umich_Proteomics</th>\n",
       "      <th>GBM_P_Value</th>\n",
       "      <th>GBM_Median</th>\n",
       "      <th>HNSCC_P_Value</th>\n",
       "      <th>HNSCC_Median</th>\n",
       "      <th>LUAD_P_Value</th>\n",
       "      <th>LUAD_Median</th>\n",
       "      <th>LSCC_P_Value</th>\n",
       "      <th>LSCC_Median</th>\n",
       "      <th>BR_P_Value</th>\n",
       "      <th>BR_Median</th>\n",
       "      <th>EC_P_Value</th>\n",
       "      <th>EC_Median</th>\n",
       "      <th>OV_P_Value</th>\n",
       "      <th>OV_Median</th>\n",
       "      <th>CO_P_Value</th>\n",
       "      <th>CO_Median</th>\n",
       "    </tr>\n",
       "  </thead>\n",
       "  <tbody>\n",
       "    <tr>\n",
       "      <th>0</th>\n",
       "      <td>CUL2</td>\n",
       "      <td>4.572167e-07</td>\n",
       "      <td>-0.458427</td>\n",
       "      <td>0.492948</td>\n",
       "      <td>-0.012483</td>\n",
       "      <td>0.754037</td>\n",
       "      <td>-0.041117</td>\n",
       "      <td>0.061876</td>\n",
       "      <td>-0.161777</td>\n",
       "      <td>0.999518</td>\n",
       "      <td>0.019744</td>\n",
       "      <td>0.968884</td>\n",
       "      <td>0.006991</td>\n",
       "      <td>0.993388</td>\n",
       "      <td>0.042732</td>\n",
       "      <td>0.947155</td>\n",
       "      <td>0.076786</td>\n",
       "    </tr>\n",
       "    <tr>\n",
       "      <th>1</th>\n",
       "      <td>DOCK1_1</td>\n",
       "      <td>4.572167e-07</td>\n",
       "      <td>-0.358361</td>\n",
       "      <td>0.941940</td>\n",
       "      <td>-0.050514</td>\n",
       "      <td>0.823513</td>\n",
       "      <td>-0.061154</td>\n",
       "      <td>0.637861</td>\n",
       "      <td>-0.033188</td>\n",
       "      <td>NaN</td>\n",
       "      <td>0.223971</td>\n",
       "      <td>0.858479</td>\n",
       "      <td>0.106446</td>\n",
       "      <td>NaN</td>\n",
       "      <td>-0.112346</td>\n",
       "      <td>NaN</td>\n",
       "      <td>NaN</td>\n",
       "    </tr>\n",
       "    <tr>\n",
       "      <th>2</th>\n",
       "      <td>ATE1_1</td>\n",
       "      <td>2.291619e-06</td>\n",
       "      <td>-0.481942</td>\n",
       "      <td>0.112081</td>\n",
       "      <td>-0.118994</td>\n",
       "      <td>0.011157</td>\n",
       "      <td>-0.315236</td>\n",
       "      <td>0.000959</td>\n",
       "      <td>-0.209974</td>\n",
       "      <td>0.999518</td>\n",
       "      <td>-0.094422</td>\n",
       "      <td>0.859507</td>\n",
       "      <td>0.028872</td>\n",
       "      <td>NaN</td>\n",
       "      <td>NaN</td>\n",
       "      <td>NaN</td>\n",
       "      <td>NaN</td>\n",
       "    </tr>\n",
       "    <tr>\n",
       "      <th>3</th>\n",
       "      <td>GDI2</td>\n",
       "      <td>2.291619e-06</td>\n",
       "      <td>-0.486754</td>\n",
       "      <td>0.961669</td>\n",
       "      <td>-0.101908</td>\n",
       "      <td>0.838721</td>\n",
       "      <td>-0.006090</td>\n",
       "      <td>0.302531</td>\n",
       "      <td>-0.181925</td>\n",
       "      <td>0.999518</td>\n",
       "      <td>-0.041954</td>\n",
       "      <td>0.693008</td>\n",
       "      <td>0.052571</td>\n",
       "      <td>0.994951</td>\n",
       "      <td>-0.109110</td>\n",
       "      <td>0.883240</td>\n",
       "      <td>-0.021554</td>\n",
       "    </tr>\n",
       "    <tr>\n",
       "      <th>4</th>\n",
       "      <td>CUTC</td>\n",
       "      <td>2.291619e-06</td>\n",
       "      <td>-0.490992</td>\n",
       "      <td>0.043479</td>\n",
       "      <td>-0.384810</td>\n",
       "      <td>0.409869</td>\n",
       "      <td>-0.280224</td>\n",
       "      <td>0.008548</td>\n",
       "      <td>-0.231417</td>\n",
       "      <td>0.999518</td>\n",
       "      <td>0.067701</td>\n",
       "      <td>0.788035</td>\n",
       "      <td>0.020382</td>\n",
       "      <td>0.993388</td>\n",
       "      <td>-0.186534</td>\n",
       "      <td>0.190516</td>\n",
       "      <td>-0.170226</td>\n",
       "    </tr>\n",
       "  </tbody>\n",
       "</table>\n",
       "</div>"
      ],
      "text/plain": [
       "  Umich_Proteomics   GBM_P_Value  GBM_Median  HNSCC_P_Value  HNSCC_Median  \\\n",
       "0             CUL2  4.572167e-07   -0.458427       0.492948     -0.012483   \n",
       "1          DOCK1_1  4.572167e-07   -0.358361       0.941940     -0.050514   \n",
       "2           ATE1_1  2.291619e-06   -0.481942       0.112081     -0.118994   \n",
       "3             GDI2  2.291619e-06   -0.486754       0.961669     -0.101908   \n",
       "4             CUTC  2.291619e-06   -0.490992       0.043479     -0.384810   \n",
       "\n",
       "   LUAD_P_Value  LUAD_Median  LSCC_P_Value  LSCC_Median  BR_P_Value  \\\n",
       "0      0.754037    -0.041117      0.061876    -0.161777    0.999518   \n",
       "1      0.823513    -0.061154      0.637861    -0.033188         NaN   \n",
       "2      0.011157    -0.315236      0.000959    -0.209974    0.999518   \n",
       "3      0.838721    -0.006090      0.302531    -0.181925    0.999518   \n",
       "4      0.409869    -0.280224      0.008548    -0.231417    0.999518   \n",
       "\n",
       "   BR_Median  EC_P_Value  EC_Median  OV_P_Value  OV_Median  CO_P_Value  \\\n",
       "0   0.019744    0.968884   0.006991    0.993388   0.042732    0.947155   \n",
       "1   0.223971    0.858479   0.106446         NaN  -0.112346         NaN   \n",
       "2  -0.094422    0.859507   0.028872         NaN        NaN         NaN   \n",
       "3  -0.041954    0.693008   0.052571    0.994951  -0.109110    0.883240   \n",
       "4   0.067701    0.788035   0.020382    0.993388  -0.186534    0.190516   \n",
       "\n",
       "   CO_Median  \n",
       "0   0.076786  \n",
       "1        NaN  \n",
       "2        NaN  \n",
       "3  -0.021554  \n",
       "4  -0.170226  "
      ]
     },
     "execution_count": 32,
     "metadata": {},
     "output_type": "execute_result"
    }
   ],
   "source": [
    "df1 = g_merged.merge(h_merged, on='Umich_Proteomics',how='outer')\n",
    "df2 = df1.merge(l_merged, on='Umich_Proteomics',how='outer')\n",
    "df3 = df2.merge(ls_merged, on='Umich_Proteomics',how='outer')\n",
    "df4 = df3.merge(b_merged, on='Umich_Proteomics',how='outer')\n",
    "df5 = df4.merge(e_merged, on='Umich_Proteomics',how='outer')\n",
    "df6 = df5.merge(o_merged, on='Umich_Proteomics',how='outer')\n",
    "all_df = df6.merge(c_merged, on='Umich_Proteomics',how='outer')\n",
    "\n",
    "print('Total proteins:', len(all_df.Umich_Proteomics.unique()))\n",
    "all_df.head()"
   ]
  },
  {
   "cell_type": "code",
   "execution_count": 33,
   "metadata": {},
   "outputs": [],
   "source": [
    "all_df.to_csv('csv/all_proteins_pancan.tsv', sep='\\t', index=False)"
   ]
  },
  {
   "cell_type": "markdown",
   "metadata": {},
   "source": [
    "# Make csv of data formatted to use with the HeatMap function "
   ]
  },
  {
   "cell_type": "code",
   "execution_count": 5,
   "metadata": {},
   "outputs": [
    {
     "name": "stdout",
     "output_type": "stream",
     "text": [
      "Check total proteins: 16305\n"
     ]
    }
   ],
   "source": [
    "# Create long df for heatmap\n",
    "\n",
    "cancer = ['GBM','HNSCC','LUAD','LSCC','BR','EC','OV','CO']\n",
    "merged_dfs = [g_merged,h_merged,l_merged,ls_merged,b_merged,e_merged,o_merged,c_merged]\n",
    "\n",
    "all_long_df = pd.DataFrame()\n",
    "i = 0\n",
    "for c in cancer:\n",
    "    m = merged_dfs[i]\n",
    "    m2 = m.assign(Cancer = c)\n",
    "    m2 = m2.rename(columns={c+'_P_Value': 'P_Value'})\n",
    "    m2 = m2.rename(columns={c+'_Median': 'Medians'})\n",
    "    all_long_df = all_long_df.append(m2) \n",
    "    if i < 5:\n",
    "        i += 1\n",
    "\n",
    "print('Check total proteins:', len(all_long_df.Umich_Proteomics.unique()))"
   ]
  },
  {
   "cell_type": "code",
   "execution_count": 6,
   "metadata": {},
   "outputs": [],
   "source": [
    "all_long_df.to_csv('csv/all_heatmap_pancan.csv', index=False)"
   ]
  },
  {
   "cell_type": "markdown",
   "metadata": {},
   "source": [
    "# Make csv of only significant proteins (formatted for heatmap)"
   ]
  },
  {
   "cell_type": "markdown",
   "metadata": {},
   "source": [
    "Read in list_sig_in_at_least_one_cancer.csv. Convert to a list of genes significant in at least 1 cancer. Slice out genes in the list from the df with all data."
   ]
  },
  {
   "cell_type": "code",
   "execution_count": 7,
   "metadata": {},
   "outputs": [],
   "source": [
    "sig = pd.read_csv('csv/list_sig_one_cancer_pancan.csv')\n",
    "list_sig = list(sig['0'])"
   ]
  },
  {
   "cell_type": "code",
   "execution_count": 8,
   "metadata": {},
   "outputs": [
    {
     "name": "stdout",
     "output_type": "stream",
     "text": [
      "Check total sig genes = 2630: 2268\n"
     ]
    }
   ],
   "source": [
    "# Keep genes with at least one sig ttest\n",
    "bool_df = all_long_df['Umich_Proteomics'].isin(list_sig)\n",
    "sig_df = all_long_df[bool_df]\n",
    "print('Check total sig genes = 2630:', len(sig_df.Umich_Proteomics.unique()))\n",
    "t = list(sig_df.Umich_Proteomics)"
   ]
  },
  {
   "cell_type": "code",
   "execution_count": 9,
   "metadata": {},
   "outputs": [],
   "source": [
    "sig_df.to_csv('csv/sig_pval_heatmap_pancan.csv', index=False)"
   ]
  },
  {
   "cell_type": "markdown",
   "metadata": {},
   "source": [
    "#  Make csv of proteins significant in multiple cancers (formatted for heatmap)"
   ]
  },
  {
   "cell_type": "code",
   "execution_count": 10,
   "metadata": {},
   "outputs": [],
   "source": [
    "mult = pd.read_csv('csv/list_sig_multiple_cancers_pancan.csv')\n",
    "list_mult = list(mult['0'])"
   ]
  },
  {
   "cell_type": "code",
   "execution_count": 11,
   "metadata": {},
   "outputs": [
    {
     "name": "stdout",
     "output_type": "stream",
     "text": [
      "Check total sig in multiple cancers = 332: 241\n"
     ]
    }
   ],
   "source": [
    "# Keep genes with > one sig ttest\n",
    "bool_df2 = all_long_df['Umich_Proteomics'].isin(list_mult)\n",
    "mult_df = all_long_df[bool_df2]\n",
    "print('Check total sig in multiple cancers = 332:', len(mult_df.Umich_Proteomics.unique()))"
   ]
  },
  {
   "cell_type": "code",
   "execution_count": 12,
   "metadata": {},
   "outputs": [],
   "source": [
    "mult_df.to_csv('csv/mult_sig_pval_heatmap_pancan.csv', index=False)"
   ]
  },
  {
   "cell_type": "markdown",
   "metadata": {},
   "source": [
    "#  Make csv of proteins with sig opposite effects "
   ]
  },
  {
   "cell_type": "markdown",
   "metadata": {},
   "source": [
    "This csv will contain proteins that have both a significant positive differential expression and a significant negative differential expression in different cancers. (See Make_tables_data_munging for calculation of differential expression of proteomics)"
   ]
  },
  {
   "cell_type": "code",
   "execution_count": 13,
   "metadata": {},
   "outputs": [],
   "source": [
    "# Returns true if both a pos and neg differential expression if found for the protein in the row\n",
    "\n",
    "def HasPosNeg(row):\n",
    "    hasPos = False\n",
    "    hasNeg= False\n",
    "    for item in row: \n",
    "        if pd.isnull(item):\n",
    "            continue\n",
    "        if item < 0:\n",
    "            hasNeg = True\n",
    "        if item > 0:\n",
    "            hasPos = True\n",
    "           \n",
    "    if hasPos & hasNeg:\n",
    "        return True\n",
    "    return False\n"
   ]
  },
  {
   "cell_type": "code",
   "execution_count": 14,
   "metadata": {},
   "outputs": [
    {
     "data": {
      "text/html": [
       "<div>\n",
       "<style scoped>\n",
       "    .dataframe tbody tr th:only-of-type {\n",
       "        vertical-align: middle;\n",
       "    }\n",
       "\n",
       "    .dataframe tbody tr th {\n",
       "        vertical-align: top;\n",
       "    }\n",
       "\n",
       "    .dataframe thead th {\n",
       "        text-align: right;\n",
       "    }\n",
       "</style>\n",
       "<table border=\"1\" class=\"dataframe\">\n",
       "  <thead>\n",
       "    <tr style=\"text-align: right;\">\n",
       "      <th></th>\n",
       "      <th>GBM_P_Value</th>\n",
       "      <th>HNSCC_P_Value</th>\n",
       "      <th>LUAD_P_Value</th>\n",
       "      <th>LSCC_P_Value</th>\n",
       "      <th>EC_P_Value</th>\n",
       "      <th>CO_P_Value</th>\n",
       "    </tr>\n",
       "    <tr>\n",
       "      <th>Umich_Proteomics</th>\n",
       "      <th></th>\n",
       "      <th></th>\n",
       "      <th></th>\n",
       "      <th></th>\n",
       "      <th></th>\n",
       "      <th></th>\n",
       "    </tr>\n",
       "  </thead>\n",
       "  <tbody>\n",
       "    <tr>\n",
       "      <th>CUL2</th>\n",
       "      <td>4.572167e-07</td>\n",
       "      <td>NaN</td>\n",
       "      <td>NaN</td>\n",
       "      <td>NaN</td>\n",
       "      <td>NaN</td>\n",
       "      <td>NaN</td>\n",
       "    </tr>\n",
       "    <tr>\n",
       "      <th>DOCK1_1</th>\n",
       "      <td>4.572167e-07</td>\n",
       "      <td>NaN</td>\n",
       "      <td>NaN</td>\n",
       "      <td>NaN</td>\n",
       "      <td>NaN</td>\n",
       "      <td>NaN</td>\n",
       "    </tr>\n",
       "    <tr>\n",
       "      <th>ATE1_1</th>\n",
       "      <td>2.291619e-06</td>\n",
       "      <td>NaN</td>\n",
       "      <td>0.011157</td>\n",
       "      <td>0.000959</td>\n",
       "      <td>NaN</td>\n",
       "      <td>NaN</td>\n",
       "    </tr>\n",
       "    <tr>\n",
       "      <th>GDI2</th>\n",
       "      <td>2.291619e-06</td>\n",
       "      <td>NaN</td>\n",
       "      <td>NaN</td>\n",
       "      <td>NaN</td>\n",
       "      <td>NaN</td>\n",
       "      <td>NaN</td>\n",
       "    </tr>\n",
       "    <tr>\n",
       "      <th>CUTC</th>\n",
       "      <td>2.291619e-06</td>\n",
       "      <td>0.043479</td>\n",
       "      <td>NaN</td>\n",
       "      <td>0.008548</td>\n",
       "      <td>NaN</td>\n",
       "      <td>NaN</td>\n",
       "    </tr>\n",
       "    <tr>\n",
       "      <th>...</th>\n",
       "      <td>...</td>\n",
       "      <td>...</td>\n",
       "      <td>...</td>\n",
       "      <td>...</td>\n",
       "      <td>...</td>\n",
       "      <td>...</td>\n",
       "    </tr>\n",
       "    <tr>\n",
       "      <th>CNBP_3</th>\n",
       "      <td>NaN</td>\n",
       "      <td>NaN</td>\n",
       "      <td>NaN</td>\n",
       "      <td>0.044214</td>\n",
       "      <td>NaN</td>\n",
       "      <td>NaN</td>\n",
       "    </tr>\n",
       "    <tr>\n",
       "      <th>RAD51D</th>\n",
       "      <td>NaN</td>\n",
       "      <td>NaN</td>\n",
       "      <td>NaN</td>\n",
       "      <td>0.047914</td>\n",
       "      <td>NaN</td>\n",
       "      <td>NaN</td>\n",
       "    </tr>\n",
       "    <tr>\n",
       "      <th>BCL11A_1</th>\n",
       "      <td>NaN</td>\n",
       "      <td>NaN</td>\n",
       "      <td>NaN</td>\n",
       "      <td>0.048775</td>\n",
       "      <td>NaN</td>\n",
       "      <td>NaN</td>\n",
       "    </tr>\n",
       "    <tr>\n",
       "      <th>ZC3H14_4</th>\n",
       "      <td>NaN</td>\n",
       "      <td>NaN</td>\n",
       "      <td>NaN</td>\n",
       "      <td>0.049479</td>\n",
       "      <td>NaN</td>\n",
       "      <td>NaN</td>\n",
       "    </tr>\n",
       "    <tr>\n",
       "      <th>PLEKHA7_1</th>\n",
       "      <td>NaN</td>\n",
       "      <td>NaN</td>\n",
       "      <td>NaN</td>\n",
       "      <td>NaN</td>\n",
       "      <td>0.004251</td>\n",
       "      <td>NaN</td>\n",
       "    </tr>\n",
       "  </tbody>\n",
       "</table>\n",
       "<p>2268 rows × 6 columns</p>\n",
       "</div>"
      ],
      "text/plain": [
       "                   GBM_P_Value  HNSCC_P_Value  LUAD_P_Value  LSCC_P_Value  \\\n",
       "Umich_Proteomics                                                            \n",
       "CUL2              4.572167e-07            NaN           NaN           NaN   \n",
       "DOCK1_1           4.572167e-07            NaN           NaN           NaN   \n",
       "ATE1_1            2.291619e-06            NaN      0.011157      0.000959   \n",
       "GDI2              2.291619e-06            NaN           NaN           NaN   \n",
       "CUTC              2.291619e-06       0.043479           NaN      0.008548   \n",
       "...                        ...            ...           ...           ...   \n",
       "CNBP_3                     NaN            NaN           NaN      0.044214   \n",
       "RAD51D                     NaN            NaN           NaN      0.047914   \n",
       "BCL11A_1                   NaN            NaN           NaN      0.048775   \n",
       "ZC3H14_4                   NaN            NaN           NaN      0.049479   \n",
       "PLEKHA7_1                  NaN            NaN           NaN           NaN   \n",
       "\n",
       "                  EC_P_Value  CO_P_Value  \n",
       "Umich_Proteomics                          \n",
       "CUL2                     NaN         NaN  \n",
       "DOCK1_1                  NaN         NaN  \n",
       "ATE1_1                   NaN         NaN  \n",
       "GDI2                     NaN         NaN  \n",
       "CUTC                     NaN         NaN  \n",
       "...                      ...         ...  \n",
       "CNBP_3                   NaN         NaN  \n",
       "RAD51D                   NaN         NaN  \n",
       "BCL11A_1                 NaN         NaN  \n",
       "ZC3H14_4                 NaN         NaN  \n",
       "PLEKHA7_1           0.004251         NaN  \n",
       "\n",
       "[2268 rows x 6 columns]"
      ]
     },
     "execution_count": 14,
     "metadata": {},
     "output_type": "execute_result"
    }
   ],
   "source": [
    "# Get df with only pval columns - Keep only sig values\n",
    "new_df = all_df.set_index('Umich_Proteomics')\n",
    "sig = new_df[new_df.columns[::2]].where(new_df < 0.05, np.nan) # replaces when false\n",
    "only_sig = sig.dropna(how = 'all', axis = 'columns') \n",
    "only_sig = only_sig.dropna(how = 'all', axis = 'rows')\n",
    "only_sig"
   ]
  },
  {
   "cell_type": "code",
   "execution_count": 15,
   "metadata": {},
   "outputs": [
    {
     "data": {
      "text/plain": [
       "Index(['GBM_Median', 'HNSCC_Median', 'LUAD_Median', 'LSCC_Median', 'BR_Median',\n",
       "       'EC_Median', 'OV_Median', 'CO_Median'],\n",
       "      dtype='object')"
      ]
     },
     "execution_count": 15,
     "metadata": {},
     "output_type": "execute_result"
    }
   ],
   "source": [
    "# Keep only differential expression (median) columns\n",
    "only_med = new_df[new_df.columns[1::2]]\n",
    "only_med.columns"
   ]
  },
  {
   "cell_type": "code",
   "execution_count": 17,
   "metadata": {},
   "outputs": [
    {
     "name": "stdout",
     "output_type": "stream",
     "text": [
      "Total number of sig genes: 2268\n"
     ]
    }
   ],
   "source": [
    "sig_cancer = ['GBM', 'HNSCC', 'LUAD', 'LSCC', 'EC', 'CO'] # none sig in BR or OV\n",
    "sig_dfs = {}\n",
    "\n",
    "# Create df with pval and med of sig genes of one cancer - Add to dictionary\n",
    "for c in sig_cancer:\n",
    "    med = only_med[[c+'_Median']]\n",
    "    pval = only_sig[[c+'_P_Value']]\n",
    "    merged = pval.merge(med, on = 'Umich_Proteomics', how='left') # keep all pvals\n",
    "    sig_med_df = merged.dropna()\n",
    "    sig_dfs[c] = sig_med_df\n",
    "\n",
    "# Combine all dfs with only real values for sig pval median pairs\n",
    "all_sig = pd.DataFrame()\n",
    "for c in sig_dfs:\n",
    "    all_sig = all_sig.join(sig_dfs[c], how = 'outer') # join including all values\n",
    "\n",
    "print('Total number of sig genes:', len(all_sig.index))"
   ]
  },
  {
   "cell_type": "code",
   "execution_count": null,
   "metadata": {},
   "outputs": [],
   "source": [
    "# Checks"
   ]
  },
  {
   "cell_type": "code",
   "execution_count": 18,
   "metadata": {},
   "outputs": [
    {
     "data": {
      "text/plain": [
       "17"
      ]
     },
     "execution_count": 18,
     "metadata": {},
     "output_type": "execute_result"
    }
   ],
   "source": [
    "# check # see make_fig_2_data_munging\n",
    "c = 'LUAD'\n",
    "l2 = all_sig[[c+'_P_Value', c+'_Median']].dropna(axis = 0, how= 'all')\n",
    "luad2 = list(l2.index)\n",
    "len(luad2)"
   ]
  },
  {
   "cell_type": "code",
   "execution_count": 20,
   "metadata": {},
   "outputs": [
    {
     "data": {
      "text/html": [
       "<div>\n",
       "<style scoped>\n",
       "    .dataframe tbody tr th:only-of-type {\n",
       "        vertical-align: middle;\n",
       "    }\n",
       "\n",
       "    .dataframe tbody tr th {\n",
       "        vertical-align: top;\n",
       "    }\n",
       "\n",
       "    .dataframe thead th {\n",
       "        text-align: right;\n",
       "    }\n",
       "</style>\n",
       "<table border=\"1\" class=\"dataframe\">\n",
       "  <thead>\n",
       "    <tr style=\"text-align: right;\">\n",
       "      <th></th>\n",
       "      <th>GBM_Median</th>\n",
       "      <th>HNSCC_Median</th>\n",
       "      <th>LUAD_Median</th>\n",
       "      <th>LSCC_Median</th>\n",
       "      <th>EC_Median</th>\n",
       "    </tr>\n",
       "    <tr>\n",
       "      <th>Umich_Proteomics</th>\n",
       "      <th></th>\n",
       "      <th></th>\n",
       "      <th></th>\n",
       "      <th></th>\n",
       "      <th></th>\n",
       "    </tr>\n",
       "  </thead>\n",
       "  <tbody>\n",
       "    <tr>\n",
       "      <th>ITGAL</th>\n",
       "      <td>-0.42913</td>\n",
       "      <td>NaN</td>\n",
       "      <td>NaN</td>\n",
       "      <td>-0.360454</td>\n",
       "      <td>NaN</td>\n",
       "    </tr>\n",
       "  </tbody>\n",
       "</table>\n",
       "</div>"
      ],
      "text/plain": [
       "                  GBM_Median  HNSCC_Median  LUAD_Median  LSCC_Median  \\\n",
       "Umich_Proteomics                                                       \n",
       "ITGAL               -0.42913           NaN          NaN    -0.360454   \n",
       "\n",
       "                  EC_Median  \n",
       "Umich_Proteomics             \n",
       "ITGAL                   NaN  "
      ]
     },
     "execution_count": 20,
     "metadata": {},
     "output_type": "execute_result"
    }
   ],
   "source": [
    "# check \n",
    "only_med_of_sig = all_sig[['GBM_Median','HNSCC_Median','LUAD_Median','LSCC_Median','EC_Median']]\n",
    "test = only_med_of_sig.index.isin(['ITGAL']) # sig luad -> ITGAL_isoform_1 (most consistent?)\n",
    "only_med_of_sig[test]"
   ]
  },
  {
   "cell_type": "code",
   "execution_count": 21,
   "metadata": {},
   "outputs": [],
   "source": [
    "# checks"
   ]
  },
  {
   "cell_type": "markdown",
   "metadata": {},
   "source": [
    "Map the proteins with a pos and neg differential expression with the HasPosNeg function. Slice out proteins meeting this criteria from the df formatted for the heatmap function."
   ]
  },
  {
   "cell_type": "code",
   "execution_count": 25,
   "metadata": {},
   "outputs": [
    {
     "name": "stderr",
     "output_type": "stream",
     "text": [
      "<ipython-input-25-d817e917d346>:2: SettingWithCopyWarning: \n",
      "A value is trying to be set on a copy of a slice from a DataFrame.\n",
      "Try using .loc[row_indexer,col_indexer] = value instead\n",
      "\n",
      "See the caveats in the documentation: https://pandas.pydata.org/pandas-docs/stable/user_guide/indexing.html#returning-a-view-versus-a-copy\n",
      "  only_med_of_sig[\"Pos_Neg\"] = only_med_of_sig.apply(HasPosNeg, axis = 1)\n"
     ]
    },
    {
     "data": {
      "text/plain": [
       "138"
      ]
     },
     "execution_count": 25,
     "metadata": {},
     "output_type": "execute_result"
    }
   ],
   "source": [
    "only_med_of_sig = all_sig[['GBM_Median','HNSCC_Median','LUAD_Median','LSCC_Median','EC_Median']]\n",
    "only_med_of_sig[\"Pos_Neg\"] = only_med_of_sig.apply(HasPosNeg, axis = 1)\n",
    "pn = only_med_of_sig.loc[only_med_of_sig['Pos_Neg'] == True]\n",
    "pn_genes = list(pn.index) # list of genes that have pos and neg\n",
    "\n",
    "# Slice\n",
    "get = sig_df.Umich_Proteomics.isin(pn_genes)\n",
    "pos_neg_df = sig_df[get] # Keep genes with pos and neg\n",
    "len(pos_neg_df.Umich_Proteomics.unique())"
   ]
  },
  {
   "cell_type": "code",
   "execution_count": 27,
   "metadata": {},
   "outputs": [],
   "source": [
    "pos_neg_df.to_csv('csv/pos_neg_df.csv', index=False)"
   ]
  },
  {
   "cell_type": "markdown",
   "metadata": {},
   "source": [
    "# Get number of proteins with significant opposite effects"
   ]
  },
  {
   "cell_type": "markdown",
   "metadata": {},
   "source": [
    "Count proteins with an opposite effect. An opposite effect occurs when there is a significant increase in the protein abundance in one cancer and there is a significant decrease in the protein abundance in a different cancer."
   ]
  },
  {
   "cell_type": "code",
   "execution_count": 28,
   "metadata": {},
   "outputs": [
    {
     "name": "stdout",
     "output_type": "stream",
     "text": [
      "Proteins with significant opposite effects: 138\n"
     ]
    }
   ],
   "source": [
    "get = mult_df.Umich_Proteomics.isin(pn_genes)\n",
    "mult_sig_pn = mult_df[get] # Keep genes with pos and neg\n",
    "proteins_opposite_effect = mult_sig_pn.Umich_Proteomics.unique()\n",
    "print('Proteins with significant opposite effects:', len(proteins_opposite_effect))"
   ]
  },
  {
   "cell_type": "markdown",
   "metadata": {},
   "source": [
    "# Calculate percentage of proteins with significant opposite effects"
   ]
  },
  {
   "cell_type": "code",
   "execution_count": 29,
   "metadata": {},
   "outputs": [
    {
     "name": "stdout",
     "output_type": "stream",
     "text": [
      "Percent of proteins with significant opposite effects:  138 / 241 * 100 =  57.26141078838174\n"
     ]
    }
   ],
   "source": [
    "mult_sig_total = len(list_mult)\n",
    "opposite = len(proteins_opposite_effect)\n",
    "print('Percent of proteins with significant opposite effects: ', opposite, '/', mult_sig_total, '* 100 = ',\n",
    "      opposite / mult_sig_total *100)"
   ]
  },
  {
   "cell_type": "code",
   "execution_count": null,
   "metadata": {},
   "outputs": [],
   "source": []
  }
 ],
 "metadata": {
  "kernelspec": {
   "display_name": "Python 3",
   "language": "python",
   "name": "python3"
  },
  "language_info": {
   "codemirror_mode": {
    "name": "ipython",
    "version": 3
   },
   "file_extension": ".py",
   "mimetype": "text/x-python",
   "name": "python",
   "nbconvert_exporter": "python",
   "pygments_lexer": "ipython3",
   "version": "3.8.8"
  }
 },
 "nbformat": 4,
 "nbformat_minor": 2
}
