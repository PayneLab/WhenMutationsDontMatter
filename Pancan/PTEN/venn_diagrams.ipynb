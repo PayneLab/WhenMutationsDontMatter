{
 "cells": [
  {
   "cell_type": "markdown",
   "metadata": {},
   "source": [
    "# Compare sig proteins in flagship and pancan "
   ]
  },
  {
   "cell_type": "code",
   "execution_count": 1,
   "metadata": {},
   "outputs": [],
   "source": [
    "import pandas as pd\n",
    "import numpy as np\n",
    "import seaborn as sns\n",
    "import matplotlib.pyplot as plt\n",
    "\n",
    "import cptac\n",
    "import cptac.pancan as pc\n",
    "import cptac.utils as u\n",
    "import plot_utils as p"
   ]
  },
  {
   "cell_type": "code",
   "execution_count": 4,
   "metadata": {},
   "outputs": [],
   "source": [
    "#Import libraries\n",
    "from matplotlib_venn import venn2, venn2_circles, venn2_unweighted\n",
    "from matplotlib_venn import venn3, venn3_circles\n",
    "from matplotlib import pyplot as plt\n",
    "%matplotlib inline"
   ]
  },
  {
   "cell_type": "code",
   "execution_count": 2,
   "metadata": {},
   "outputs": [
    {
     "name": "stdout",
     "output_type": "stream",
     "text": [
      "cptac version: 0.9.1\n"
     ]
    }
   ],
   "source": [
    "print('cptac version:', cptac.version())"
   ]
  },
  {
   "cell_type": "code",
   "execution_count": 26,
   "metadata": {},
   "outputs": [
    {
     "name": "stdout",
     "output_type": "stream",
     "text": [
      "flag: 15411\n",
      "pancan: 16305\n"
     ]
    },
    {
     "data": {
      "text/html": [
       "<div>\n",
       "<style scoped>\n",
       "    .dataframe tbody tr th:only-of-type {\n",
       "        vertical-align: middle;\n",
       "    }\n",
       "\n",
       "    .dataframe tbody tr th {\n",
       "        vertical-align: top;\n",
       "    }\n",
       "\n",
       "    .dataframe thead th {\n",
       "        text-align: right;\n",
       "    }\n",
       "</style>\n",
       "<table border=\"1\" class=\"dataframe\">\n",
       "  <thead>\n",
       "    <tr style=\"text-align: right;\">\n",
       "      <th></th>\n",
       "      <th>GBM_P_Value_flag</th>\n",
       "      <th>GBM_Median_flag</th>\n",
       "      <th>HNSCC_P_Value_flag</th>\n",
       "      <th>HNSCC_Median_flag</th>\n",
       "      <th>LUAD_P_Value_flag</th>\n",
       "      <th>LUAD_Median_flag</th>\n",
       "      <th>LSCC_P_Value_flag</th>\n",
       "      <th>LSCC_Median_flag</th>\n",
       "      <th>BR_P_Value_flag</th>\n",
       "      <th>BR_Median_flag</th>\n",
       "      <th>...</th>\n",
       "      <th>HNSCC_P_Value_pc</th>\n",
       "      <th>HNSCC_Median_pc</th>\n",
       "      <th>LUAD_P_Value_pc</th>\n",
       "      <th>LUAD_Median_pc</th>\n",
       "      <th>LSCC_P_Value_pc</th>\n",
       "      <th>LSCC_Median_pc</th>\n",
       "      <th>BR_P_Value_pc</th>\n",
       "      <th>BR_Median_pc</th>\n",
       "      <th>EC_P_Value_pc</th>\n",
       "      <th>EC_Median_pc</th>\n",
       "    </tr>\n",
       "  </thead>\n",
       "  <tbody>\n",
       "    <tr>\n",
       "      <th>A1BG</th>\n",
       "      <td>0.174513</td>\n",
       "      <td>-0.245016</td>\n",
       "      <td>0.299507</td>\n",
       "      <td>-0.207986</td>\n",
       "      <td>0.822938</td>\n",
       "      <td>-0.11030</td>\n",
       "      <td>0.668049</td>\n",
       "      <td>0.04120</td>\n",
       "      <td>0.543073</td>\n",
       "      <td>-1.00440</td>\n",
       "      <td>...</td>\n",
       "      <td>0.497389</td>\n",
       "      <td>-0.154293</td>\n",
       "      <td>0.763489</td>\n",
       "      <td>-0.021201</td>\n",
       "      <td>0.450720</td>\n",
       "      <td>-0.090679</td>\n",
       "      <td>0.999518</td>\n",
       "      <td>0.247278</td>\n",
       "      <td>0.569121</td>\n",
       "      <td>-0.060606</td>\n",
       "    </tr>\n",
       "    <tr>\n",
       "      <th>A1CF</th>\n",
       "      <td>NaN</td>\n",
       "      <td>NaN</td>\n",
       "      <td>NaN</td>\n",
       "      <td>4.355211</td>\n",
       "      <td>NaN</td>\n",
       "      <td>NaN</td>\n",
       "      <td>NaN</td>\n",
       "      <td>NaN</td>\n",
       "      <td>NaN</td>\n",
       "      <td>NaN</td>\n",
       "      <td>...</td>\n",
       "      <td>NaN</td>\n",
       "      <td>2.828011</td>\n",
       "      <td>NaN</td>\n",
       "      <td>0.062420</td>\n",
       "      <td>NaN</td>\n",
       "      <td>-0.329759</td>\n",
       "      <td>NaN</td>\n",
       "      <td>NaN</td>\n",
       "      <td>NaN</td>\n",
       "      <td>NaN</td>\n",
       "    </tr>\n",
       "    <tr>\n",
       "      <th>A2M</th>\n",
       "      <td>0.027923</td>\n",
       "      <td>-0.680437</td>\n",
       "      <td>0.215483</td>\n",
       "      <td>-0.371991</td>\n",
       "      <td>0.533492</td>\n",
       "      <td>-0.39840</td>\n",
       "      <td>0.235607</td>\n",
       "      <td>-0.63835</td>\n",
       "      <td>0.543073</td>\n",
       "      <td>-0.80760</td>\n",
       "      <td>...</td>\n",
       "      <td>0.361559</td>\n",
       "      <td>-0.441610</td>\n",
       "      <td>0.751492</td>\n",
       "      <td>-0.154217</td>\n",
       "      <td>0.135843</td>\n",
       "      <td>-0.227663</td>\n",
       "      <td>0.999518</td>\n",
       "      <td>0.337511</td>\n",
       "      <td>0.946911</td>\n",
       "      <td>0.006420</td>\n",
       "    </tr>\n",
       "    <tr>\n",
       "      <th>A2ML1</th>\n",
       "      <td>NaN</td>\n",
       "      <td>NaN</td>\n",
       "      <td>0.540405</td>\n",
       "      <td>0.257246</td>\n",
       "      <td>NaN</td>\n",
       "      <td>NaN</td>\n",
       "      <td>0.193942</td>\n",
       "      <td>3.55185</td>\n",
       "      <td>0.482632</td>\n",
       "      <td>1.31745</td>\n",
       "      <td>...</td>\n",
       "      <td>0.537254</td>\n",
       "      <td>0.419263</td>\n",
       "      <td>NaN</td>\n",
       "      <td>-0.578419</td>\n",
       "      <td>0.982567</td>\n",
       "      <td>0.076572</td>\n",
       "      <td>0.999518</td>\n",
       "      <td>0.699762</td>\n",
       "      <td>0.624001</td>\n",
       "      <td>0.354727</td>\n",
       "    </tr>\n",
       "    <tr>\n",
       "      <th>A4GALT</th>\n",
       "      <td>NaN</td>\n",
       "      <td>NaN</td>\n",
       "      <td>NaN</td>\n",
       "      <td>-0.006772</td>\n",
       "      <td>NaN</td>\n",
       "      <td>NaN</td>\n",
       "      <td>0.888343</td>\n",
       "      <td>-0.05590</td>\n",
       "      <td>NaN</td>\n",
       "      <td>NaN</td>\n",
       "      <td>...</td>\n",
       "      <td>NaN</td>\n",
       "      <td>1.378368</td>\n",
       "      <td>NaN</td>\n",
       "      <td>-0.473176</td>\n",
       "      <td>0.624854</td>\n",
       "      <td>0.003190</td>\n",
       "      <td>NaN</td>\n",
       "      <td>-0.236941</td>\n",
       "      <td>0.103221</td>\n",
       "      <td>0.478863</td>\n",
       "    </tr>\n",
       "    <tr>\n",
       "      <th>...</th>\n",
       "      <td>...</td>\n",
       "      <td>...</td>\n",
       "      <td>...</td>\n",
       "      <td>...</td>\n",
       "      <td>...</td>\n",
       "      <td>...</td>\n",
       "      <td>...</td>\n",
       "      <td>...</td>\n",
       "      <td>...</td>\n",
       "      <td>...</td>\n",
       "      <td>...</td>\n",
       "      <td>...</td>\n",
       "      <td>...</td>\n",
       "      <td>...</td>\n",
       "      <td>...</td>\n",
       "      <td>...</td>\n",
       "      <td>...</td>\n",
       "      <td>...</td>\n",
       "      <td>...</td>\n",
       "      <td>...</td>\n",
       "      <td>...</td>\n",
       "    </tr>\n",
       "    <tr>\n",
       "      <th>ZXDC</th>\n",
       "      <td>0.805957</td>\n",
       "      <td>-0.010868</td>\n",
       "      <td>0.739467</td>\n",
       "      <td>0.234623</td>\n",
       "      <td>0.781226</td>\n",
       "      <td>0.20540</td>\n",
       "      <td>0.178098</td>\n",
       "      <td>0.88215</td>\n",
       "      <td>0.785649</td>\n",
       "      <td>-0.24385</td>\n",
       "      <td>...</td>\n",
       "      <td>0.738420</td>\n",
       "      <td>0.227160</td>\n",
       "      <td>0.989667</td>\n",
       "      <td>-0.012766</td>\n",
       "      <td>0.004181</td>\n",
       "      <td>0.351467</td>\n",
       "      <td>0.999518</td>\n",
       "      <td>-0.174000</td>\n",
       "      <td>0.022363</td>\n",
       "      <td>-0.413973</td>\n",
       "    </tr>\n",
       "    <tr>\n",
       "      <th>ZYG11B</th>\n",
       "      <td>0.239067</td>\n",
       "      <td>0.185994</td>\n",
       "      <td>0.814884</td>\n",
       "      <td>0.040935</td>\n",
       "      <td>0.135433</td>\n",
       "      <td>0.45530</td>\n",
       "      <td>0.529726</td>\n",
       "      <td>0.02470</td>\n",
       "      <td>0.859665</td>\n",
       "      <td>0.11285</td>\n",
       "      <td>...</td>\n",
       "      <td>0.941940</td>\n",
       "      <td>0.099488</td>\n",
       "      <td>0.115446</td>\n",
       "      <td>0.158866</td>\n",
       "      <td>0.740034</td>\n",
       "      <td>0.036967</td>\n",
       "      <td>0.999518</td>\n",
       "      <td>0.039123</td>\n",
       "      <td>0.410962</td>\n",
       "      <td>-0.112257</td>\n",
       "    </tr>\n",
       "    <tr>\n",
       "      <th>ZYX</th>\n",
       "      <td>0.299976</td>\n",
       "      <td>0.314468</td>\n",
       "      <td>0.598612</td>\n",
       "      <td>-0.096020</td>\n",
       "      <td>0.707051</td>\n",
       "      <td>-0.00720</td>\n",
       "      <td>0.172040</td>\n",
       "      <td>-0.30890</td>\n",
       "      <td>0.683528</td>\n",
       "      <td>0.28070</td>\n",
       "      <td>...</td>\n",
       "      <td>0.602630</td>\n",
       "      <td>-0.050990</td>\n",
       "      <td>0.848394</td>\n",
       "      <td>-0.020392</td>\n",
       "      <td>0.128659</td>\n",
       "      <td>-0.219780</td>\n",
       "      <td>0.999518</td>\n",
       "      <td>0.055705</td>\n",
       "      <td>0.670725</td>\n",
       "      <td>-0.014351</td>\n",
       "    </tr>\n",
       "    <tr>\n",
       "      <th>ZZEF1</th>\n",
       "      <td>0.259028</td>\n",
       "      <td>-0.131491</td>\n",
       "      <td>0.399018</td>\n",
       "      <td>-0.071424</td>\n",
       "      <td>0.484782</td>\n",
       "      <td>-0.13655</td>\n",
       "      <td>0.526385</td>\n",
       "      <td>-0.10210</td>\n",
       "      <td>0.883865</td>\n",
       "      <td>-0.18565</td>\n",
       "      <td>...</td>\n",
       "      <td>0.644037</td>\n",
       "      <td>-0.059344</td>\n",
       "      <td>0.689384</td>\n",
       "      <td>-0.062898</td>\n",
       "      <td>0.143234</td>\n",
       "      <td>-0.122346</td>\n",
       "      <td>0.999518</td>\n",
       "      <td>0.083720</td>\n",
       "      <td>0.407331</td>\n",
       "      <td>0.047886</td>\n",
       "    </tr>\n",
       "    <tr>\n",
       "      <th>ZZZ3</th>\n",
       "      <td>0.658731</td>\n",
       "      <td>-0.153449</td>\n",
       "      <td>0.781560</td>\n",
       "      <td>0.046360</td>\n",
       "      <td>0.845326</td>\n",
       "      <td>-0.24710</td>\n",
       "      <td>0.711294</td>\n",
       "      <td>-0.03280</td>\n",
       "      <td>0.604060</td>\n",
       "      <td>0.03645</td>\n",
       "      <td>...</td>\n",
       "      <td>NaN</td>\n",
       "      <td>NaN</td>\n",
       "      <td>NaN</td>\n",
       "      <td>NaN</td>\n",
       "      <td>NaN</td>\n",
       "      <td>NaN</td>\n",
       "      <td>NaN</td>\n",
       "      <td>NaN</td>\n",
       "      <td>NaN</td>\n",
       "      <td>NaN</td>\n",
       "    </tr>\n",
       "  </tbody>\n",
       "</table>\n",
       "<p>17877 rows × 28 columns</p>\n",
       "</div>"
      ],
      "text/plain": [
       "        GBM_P_Value_flag  GBM_Median_flag  HNSCC_P_Value_flag  \\\n",
       "A1BG            0.174513        -0.245016            0.299507   \n",
       "A1CF                 NaN              NaN                 NaN   \n",
       "A2M             0.027923        -0.680437            0.215483   \n",
       "A2ML1                NaN              NaN            0.540405   \n",
       "A4GALT               NaN              NaN                 NaN   \n",
       "...                  ...              ...                 ...   \n",
       "ZXDC            0.805957        -0.010868            0.739467   \n",
       "ZYG11B          0.239067         0.185994            0.814884   \n",
       "ZYX             0.299976         0.314468            0.598612   \n",
       "ZZEF1           0.259028        -0.131491            0.399018   \n",
       "ZZZ3            0.658731        -0.153449            0.781560   \n",
       "\n",
       "        HNSCC_Median_flag  LUAD_P_Value_flag  LUAD_Median_flag  \\\n",
       "A1BG            -0.207986           0.822938          -0.11030   \n",
       "A1CF             4.355211                NaN               NaN   \n",
       "A2M             -0.371991           0.533492          -0.39840   \n",
       "A2ML1            0.257246                NaN               NaN   \n",
       "A4GALT          -0.006772                NaN               NaN   \n",
       "...                   ...                ...               ...   \n",
       "ZXDC             0.234623           0.781226           0.20540   \n",
       "ZYG11B           0.040935           0.135433           0.45530   \n",
       "ZYX             -0.096020           0.707051          -0.00720   \n",
       "ZZEF1           -0.071424           0.484782          -0.13655   \n",
       "ZZZ3             0.046360           0.845326          -0.24710   \n",
       "\n",
       "        LSCC_P_Value_flag  LSCC_Median_flag  BR_P_Value_flag  BR_Median_flag  \\\n",
       "A1BG             0.668049           0.04120         0.543073        -1.00440   \n",
       "A1CF                  NaN               NaN              NaN             NaN   \n",
       "A2M              0.235607          -0.63835         0.543073        -0.80760   \n",
       "A2ML1            0.193942           3.55185         0.482632         1.31745   \n",
       "A4GALT           0.888343          -0.05590              NaN             NaN   \n",
       "...                   ...               ...              ...             ...   \n",
       "ZXDC             0.178098           0.88215         0.785649        -0.24385   \n",
       "ZYG11B           0.529726           0.02470         0.859665         0.11285   \n",
       "ZYX              0.172040          -0.30890         0.683528         0.28070   \n",
       "ZZEF1            0.526385          -0.10210         0.883865        -0.18565   \n",
       "ZZZ3             0.711294          -0.03280         0.604060         0.03645   \n",
       "\n",
       "        ...  HNSCC_P_Value_pc  HNSCC_Median_pc  LUAD_P_Value_pc  \\\n",
       "A1BG    ...          0.497389        -0.154293         0.763489   \n",
       "A1CF    ...               NaN         2.828011              NaN   \n",
       "A2M     ...          0.361559        -0.441610         0.751492   \n",
       "A2ML1   ...          0.537254         0.419263              NaN   \n",
       "A4GALT  ...               NaN         1.378368              NaN   \n",
       "...     ...               ...              ...              ...   \n",
       "ZXDC    ...          0.738420         0.227160         0.989667   \n",
       "ZYG11B  ...          0.941940         0.099488         0.115446   \n",
       "ZYX     ...          0.602630        -0.050990         0.848394   \n",
       "ZZEF1   ...          0.644037        -0.059344         0.689384   \n",
       "ZZZ3    ...               NaN              NaN              NaN   \n",
       "\n",
       "        LUAD_Median_pc  LSCC_P_Value_pc  LSCC_Median_pc  BR_P_Value_pc  \\\n",
       "A1BG         -0.021201         0.450720       -0.090679       0.999518   \n",
       "A1CF          0.062420              NaN       -0.329759            NaN   \n",
       "A2M          -0.154217         0.135843       -0.227663       0.999518   \n",
       "A2ML1        -0.578419         0.982567        0.076572       0.999518   \n",
       "A4GALT       -0.473176         0.624854        0.003190            NaN   \n",
       "...                ...              ...             ...            ...   \n",
       "ZXDC         -0.012766         0.004181        0.351467       0.999518   \n",
       "ZYG11B        0.158866         0.740034        0.036967       0.999518   \n",
       "ZYX          -0.020392         0.128659       -0.219780       0.999518   \n",
       "ZZEF1        -0.062898         0.143234       -0.122346       0.999518   \n",
       "ZZZ3               NaN              NaN             NaN            NaN   \n",
       "\n",
       "        BR_Median_pc  EC_P_Value_pc  EC_Median_pc  \n",
       "A1BG        0.247278       0.569121     -0.060606  \n",
       "A1CF             NaN            NaN           NaN  \n",
       "A2M         0.337511       0.946911      0.006420  \n",
       "A2ML1       0.699762       0.624001      0.354727  \n",
       "A4GALT     -0.236941       0.103221      0.478863  \n",
       "...              ...            ...           ...  \n",
       "ZXDC       -0.174000       0.022363     -0.413973  \n",
       "ZYG11B      0.039123       0.410962     -0.112257  \n",
       "ZYX         0.055705       0.670725     -0.014351  \n",
       "ZZEF1       0.083720       0.407331      0.047886  \n",
       "ZZZ3             NaN            NaN           NaN  \n",
       "\n",
       "[17877 rows x 28 columns]"
      ]
     },
     "execution_count": 26,
     "metadata": {},
     "output_type": "execute_result"
    }
   ],
   "source": [
    "flag = pd.read_csv('../Make_Tables/csv/all_proteins.csv').set_index('Proteomics')\n",
    "print('flag:', len(flag))\n",
    "pancan = pd.read_csv('csv/all_proteins_pancan.csv').set_index('Umich_Proteomics')\n",
    "print('pancan:', len(pancan))\n",
    "both = flag.join(pancan, lsuffix = '_flag', rsuffix = '_pc', how = 'outer')\n",
    "both\n"
   ]
  },
  {
   "cell_type": "markdown",
   "metadata": {},
   "source": [
    "# GBM"
   ]
  },
  {
   "cell_type": "code",
   "execution_count": 89,
   "metadata": {},
   "outputs": [],
   "source": [
    "def sig(row):\n",
    "    flag = False\n",
    "    pancan = False\n",
    "    if row['GBM_P_Value_flag'] <= 0.55:\n",
    "        flag = True\n",
    "    if row['GBM_P_Value_pc'] <= 0.2:\n",
    "        print(row['GBM_P_Value_pc'])\n",
    "        pancan = True\n",
    "\n",
    "    if flag & pancan:\n",
    "        print('both true')\n",
    "        return 'both_sig'\n",
    "    elif flag == True & pancan == False:\n",
    "        print('flag sig')\n",
    "        return 'flag_sig'\n",
    "    elif pancan == True & flag == False:\n",
    "        print('pancan sig')\n",
    "        return 'pancan_sig'\n",
    "    else:\n",
    "        print('both false')\n",
    "        return 'ns'"
   ]
  },
  {
   "cell_type": "code",
   "execution_count": 90,
   "metadata": {},
   "outputs": [
    {
     "name": "stdout",
     "output_type": "stream",
     "text": [
      "both false\n"
     ]
    },
    {
     "name": "stderr",
     "output_type": "stream",
     "text": [
      "<ipython-input-90-7ed50352a316>:3: SettingWithCopyWarning: \n",
      "A value is trying to be set on a copy of a slice from a DataFrame.\n",
      "Try using .loc[row_indexer,col_indexer] = value instead\n",
      "\n",
      "See the caveats in the documentation: https://pandas.pydata.org/pandas-docs/stable/user_guide/indexing.html#returning-a-view-versus-a-copy\n",
      "  t['n'] = t.apply(sig, axis = 1)\n"
     ]
    },
    {
     "data": {
      "text/html": [
       "<div>\n",
       "<style scoped>\n",
       "    .dataframe tbody tr th:only-of-type {\n",
       "        vertical-align: middle;\n",
       "    }\n",
       "\n",
       "    .dataframe tbody tr th {\n",
       "        vertical-align: top;\n",
       "    }\n",
       "\n",
       "    .dataframe thead th {\n",
       "        text-align: right;\n",
       "    }\n",
       "</style>\n",
       "<table border=\"1\" class=\"dataframe\">\n",
       "  <thead>\n",
       "    <tr style=\"text-align: right;\">\n",
       "      <th></th>\n",
       "      <th>GBM_P_Value_flag</th>\n",
       "      <th>GBM_P_Value_pc</th>\n",
       "      <th>n</th>\n",
       "    </tr>\n",
       "  </thead>\n",
       "  <tbody>\n",
       "    <tr>\n",
       "      <th>A1BG</th>\n",
       "      <td>0.174513</td>\n",
       "      <td>0.227955</td>\n",
       "      <td>ns</td>\n",
       "    </tr>\n",
       "  </tbody>\n",
       "</table>\n",
       "</div>"
      ],
      "text/plain": [
       "      GBM_P_Value_flag  GBM_P_Value_pc   n\n",
       "A1BG          0.174513        0.227955  ns"
      ]
     },
     "execution_count": 90,
     "metadata": {},
     "output_type": "execute_result"
    }
   ],
   "source": [
    "gbm = both[['GBM_P_Value_flag', 'GBM_P_Value_pc']]\n",
    "t = gbm.head(1)\n",
    "t['n'] = t.apply(sig, axis = 1)\n",
    "t"
   ]
  },
  {
   "cell_type": "code",
   "execution_count": 5,
   "metadata": {},
   "outputs": [
    {
     "data": {
      "text/plain": [
       "<matplotlib_venn._common.VennDiagram at 0x7fa46271e0a0>"
      ]
     },
     "execution_count": 5,
     "metadata": {},
     "output_type": "execute_result"
    },
    {
     "data": {
      "image/png": "[encoded data removed]",
      "text/plain": [
       "<Figure size 432x288 with 1 Axes>"
      ]
     },
     "metadata": {},
     "output_type": "display_data"
    }
   ],
   "source": [
    "venn2(subsets = (30, 10, 5), set_labels = ('Group A', 'Group B'))"
   ]
  },
  {
   "cell_type": "code",
   "execution_count": null,
   "metadata": {},
   "outputs": [],
   "source": [
    "og_genes = set(og_gbm_genes)\n",
    "pancan_genes = set(pancan_gbm_genes)\n",
    "venn2([og_genes,pancan_genes],(\"Flagship_genes\", \"Pancan_genes\"))"
   ]
  },
  {
   "cell_type": "markdown",
   "metadata": {},
   "source": [
    "# Step 1: Create df with Mutation Types"
   ]
  },
  {
   "cell_type": "markdown",
   "metadata": {},
   "source": [
    "For each cancer type, create a df that has the mutation type for each sample."
   ]
  },
  {
   "cell_type": "markdown",
   "metadata": {},
   "source": [
    "First, load in the cancer data sets from cptac."
   ]
  },
  {
   "cell_type": "code",
   "execution_count": null,
   "metadata": {},
   "outputs": [],
   "source": [
    "en = pc.PancanUcec()\n",
    "h = pc.PancanHnscc()\n",
    "l = pc.PancanLuad()\n",
    "ls = pc.PancanLscc()\n",
    "r = pc.PancanCcrcc()\n",
    "g = pc.PancanGbm()\n",
    "b = pc.PancanBrca()\n",
    "#co = pc.PancanCoad()\n",
    "#o = pc.PancanOv()"
   ]
  },
  {
   "cell_type": "markdown",
   "metadata": {},
   "source": [
    "Next, call get_geneotype_all_vars for each cancer type. This returns a df with columns for Mutation (type of mutation), Location (location of the mutation), and Mutation_Status (wildtype, single, or multiple mutations).  For samples with multiple mutations, a single mutation was reported based on the following priority: deletion, truncation, missense, inframe, amplification, and wildtype. "
   ]
  },
  {
   "cell_type": "code",
   "execution_count": null,
   "metadata": {},
   "outputs": [],
   "source": [
    "gene = \"PTEN\""
   ]
  },
  {
   "cell_type": "code",
   "execution_count": null,
   "metadata": {},
   "outputs": [],
   "source": [
    "endo = en.get_genotype_all_vars(gene, 'washu')\n",
    "gbm = g.get_genotype_all_vars(gene, 'washu')\n",
    "hnscc = h.get_genotype_all_vars(gene, 'washu')\n",
    "#ovar = o.get_genotype_all_vars(gene, 'washu')\n",
    "cc = r.get_genotype_all_vars(gene, 'washu')\n",
    "#colon = col.get_genotype_all_vars(gene, 'washu')\n",
    "ld = l.get_genotype_all_vars(gene, 'washu')\n",
    "lscc = ls.get_genotype_all_vars(gene, 'washu')\n",
    "brca = b.get_genotype_all_vars(gene, 'washu')"
   ]
  },
  {
   "cell_type": "code",
   "execution_count": null,
   "metadata": {},
   "outputs": [],
   "source": [
    "# example\n",
    "endo.head()"
   ]
  },
  {
   "cell_type": "markdown",
   "metadata": {},
   "source": [
    "# Step 2: Match Mutation Labels"
   ]
  },
  {
   "cell_type": "markdown",
   "metadata": {},
   "source": [
    "Mutations in the Colon dataset were named differently. We changed these names to match the other cancers. Nonframeshift insertion was changed to match In_Frame_Ins. Frameshift deletion was changed to match Frame_Shift_Del. Nonsynonymous snv represents a missense mutation in this case. "
   ]
  },
  {
   "cell_type": "code",
   "execution_count": null,
   "metadata": {},
   "outputs": [],
   "source": [
    "colon[\"Mutation\"] = colon['Mutation'].replace(['nonsynonymous SNV'], 'Missense')\n",
    "colon[\"Mutation\"] = colon['Mutation'].replace(['nonframeshift insertion'], 'In_Frame_Ins')\n",
    "colon[\"Mutation\"] = colon['Mutation'].replace(['frameshift deletion'], 'Frame_Shift_Del')\n",
    "\n",
    "colon.Mutation.value_counts()"
   ]
  },
  {
   "cell_type": "markdown",
   "metadata": {},
   "source": [
    "We simplified labels for the final figure. We grouped mutations together to create the Indel and Truncation categories. Indel includes: In_Frame_Ins and In_Frame_Del. Truncation includes: Nonsense_Mutation, Frame_Shift_Del, and Frame_Shift_Ins."
   ]
  },
  {
   "cell_type": "code",
   "execution_count": null,
   "metadata": {},
   "outputs": [],
   "source": [
    "# Simplify mutation names, create truncation and indel groups\n",
    "dfs = [endo, gbm, hnscc, cc, ld, brca, lscc, cc]\n",
    "for df in dfs:\n",
    "    df['Mutation'].where(df['Mutation'] != 'Missense_Mutation', 'Missense', inplace = True) # replace when false\n",
    "    df['Mutation'].where(df['Mutation'] != 'Wildtype_Tumor', 'Wildtype', inplace = True)\n",
    "    df[\"Mutation\"].where(df['Mutation'] != 'In_Frame_Del', 'Indel', inplace = True)\n",
    "    df[\"Mutation\"].where(df['Mutation'] != 'In_Frame_Ins', 'Indel', inplace = True)\n",
    "    df[\"Mutation\"].where(df['Mutation'] != 'Nonsense_Mutation', 'Truncation', inplace = True)\n",
    "    df[\"Mutation\"].where(df['Mutation'] != 'Frame_Shift_Del', 'Truncation', inplace = True)\n",
    "    df[\"Mutation\"].where(df['Mutation'] != 'Frame_Shift_Ins', 'Truncation', inplace = True)"
   ]
  },
  {
   "cell_type": "markdown",
   "metadata": {},
   "source": [
    "The get_genotype_all_var function created the No_Mutation label when no somatic mutations were found for PTEN in the Luad dataset. This is the same as Wildtype_Tumor. "
   ]
  },
  {
   "cell_type": "code",
   "execution_count": null,
   "metadata": {},
   "outputs": [],
   "source": [
    "ld[\"Mutation\"] = ld['Mutation'].replace(['No_Mutation'], 'Wildtype')"
   ]
  },
  {
   "cell_type": "markdown",
   "metadata": {},
   "source": [
    "# Step 3: Create Figure"
   ]
  },
  {
   "cell_type": "markdown",
   "metadata": {},
   "source": [
    "Create a list of the mutation dataframes. Create a list of cancer names for the figure legend. Call the plot_mutations function."
   ]
  },
  {
   "cell_type": "code",
   "execution_count": null,
   "metadata": {},
   "outputs": [],
   "source": [
    "dfs = [endo, gbm, hnscc, cc, ld, brca, lscc]\n",
    "names = ['Endometrial', 'Glioblastoma', 'Head and Neck', 'Renal', 'Lung Adenocarcinoma', 'Breast', \n",
    "         'Lung Squamous']\n",
    "p.figure1_plot_mutations(dfs, names, save_to_path = \"Fig_5A.png\")"
   ]
  },
  {
   "cell_type": "markdown",
   "metadata": {},
   "source": [
    "# Calculate percentage of PTEN deletion in cancers"
   ]
  },
  {
   "cell_type": "markdown",
   "metadata": {},
   "source": [
    "The manuscript mentions the rounded percentages of PTEN deletions for the 7 cancers with frequent deletions."
   ]
  },
  {
   "cell_type": "code",
   "execution_count": null,
   "metadata": {},
   "outputs": [],
   "source": [
    "cancer_dfs = {'GBM':gbm, 'LSCC':lscc, 'BR':brca, \n",
    "              'HNSCC':hnscc, 'LUAD':ld, 'ccRCC':cc, 'EC':endo} # 'OV':ovar, 'CO':colon\n",
    "\n",
    "for cancer in cancer_dfs:\n",
    "    df = cancer_dfs[cancer]\n",
    "    vc = df.Mutation.value_counts()\n",
    "    total = len(df)\n",
    "    cnv_del = vc.Deletion\n",
    "    print(cancer)\n",
    "    print('total_tumor_samples:',total)\n",
    "    print(cnv_del,'/',total,'* 100 =', round(cnv_del/total * 100),'\\n')"
   ]
  },
  {
   "cell_type": "markdown",
   "metadata": {},
   "source": [
    "# Calculate percentage of PTEN truncation in tumors"
   ]
  },
  {
   "cell_type": "markdown",
   "metadata": {},
   "source": [
    "The manuscript mentions the rounded percentage of PTEN truncation mutations for Endometrial. "
   ]
  },
  {
   "cell_type": "code",
   "execution_count": null,
   "metadata": {},
   "outputs": [],
   "source": [
    "cancer_dfs = {'EC':endo}\n",
    "for cancer in cancer_dfs:\n",
    "    df = cancer_dfs[cancer]\n",
    "    vc = df.Mutation.value_counts()\n",
    "    total = len(df)\n",
    "    trunc = vc.Truncation\n",
    "    print(cancer)\n",
    "    print('total_tumor_samples:',total)\n",
    "    print(trunc,'/',total,'=', round(trunc/total * 100),'\\n')"
   ]
  },
  {
   "cell_type": "code",
   "execution_count": null,
   "metadata": {},
   "outputs": [],
   "source": []
  }
 ],
 "metadata": {
  "kernelspec": {
   "display_name": "Python 3",
   "language": "python",
   "name": "python3"
  },
  "language_info": {
   "codemirror_mode": {
    "name": "ipython",
    "version": 3
   },
   "file_extension": ".py",
   "mimetype": "text/x-python",
   "name": "python",
   "nbconvert_exporter": "python",
   "pygments_lexer": "ipython3",
   "version": "3.8.8"
  }
 },
 "nbformat": 4,
 "nbformat_minor": 2
}
