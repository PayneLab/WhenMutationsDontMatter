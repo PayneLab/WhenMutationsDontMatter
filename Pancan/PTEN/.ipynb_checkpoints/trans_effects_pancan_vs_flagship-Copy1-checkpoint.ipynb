{
 "cells": [
  {
   "cell_type": "code",
   "execution_count": 2,
   "metadata": {},
   "outputs": [],
   "source": [
    "import pandas as pd\n",
    "import numpy as np\n",
    "import gseapy as gp\n",
    "from gseapy.plot import barplot, dotplot\n",
    "\n",
    "import matplotlib.pyplot as plt\n",
    "from matplotlib_venn import venn2"
   ]
  },
  {
   "cell_type": "code",
   "execution_count": 2,
   "metadata": {},
   "outputs": [],
   "source": [
    "#Import libraries\n",
    "from matplotlib_venn import venn2, venn2_circles, venn2_unweighted\n",
    "from matplotlib_venn import venn3, venn3_circles\n",
    "from matplotlib import pyplot as plt\n",
    "%matplotlib inline"
   ]
  },
  {
   "cell_type": "markdown",
   "metadata": {},
   "source": [
    "# GBM"
   ]
  },
  {
   "cell_type": "code",
   "execution_count": 3,
   "metadata": {},
   "outputs": [
    {
     "data": {
      "text/plain": [
       "1590"
      ]
     },
     "execution_count": 3,
     "metadata": {},
     "output_type": "execute_result"
    }
   ],
   "source": [
    "gbm_og_trans = pd.read_csv(\"../../EGFR/Make_Tables/csv_files/trans_effects_all_prot_fdr_corrected_GBM\")\n",
    "gbm_og_trans =gbm_og_trans.loc[(gbm_og_trans[\"P_value_GBM\"] <= 0.05)]\n",
    "og_gbm_genes = gbm_og_trans.Comparison.to_list()\n",
    "len(og_gbm_genes)"
   ]
  },
  {
   "cell_type": "code",
   "execution_count": 4,
   "metadata": {},
   "outputs": [
    {
     "data": {
      "text/plain": [
       "[]"
      ]
     },
     "execution_count": 4,
     "metadata": {},
     "output_type": "execute_result"
    }
   ],
   "source": [
    "\n",
    "matching = [s for s in og_gbm_genes if \"_\" in s]\n",
    "matching"
   ]
  },
  {
   "cell_type": "code",
   "execution_count": 5,
   "metadata": {},
   "outputs": [
    {
     "data": {
      "text/plain": [
       "1342"
      ]
     },
     "execution_count": 5,
     "metadata": {},
     "output_type": "execute_result"
    }
   ],
   "source": [
    "gbm_pancan_trans = pd.read_csv(\"csv_files/trans_effects_all_prot_fdr_corrected_GBM\")\n",
    "gbm_pancan_trans =gbm_pancan_trans.loc[(gbm_pancan_trans[\"P_value_GBM\"] <= 0.05)]\n",
    "#duplicates due to different database id were labeled with and _#. \n",
    "#Remove so it won't be counted as a different gene in VennDiagram \n",
    "gbm_pancan_trans[\"Comparison\"] = gbm_pancan_trans['Comparison'].str.replace(r\"_\\d\",\"\")\n",
    "pancan_gbm_genes = gbm_pancan_trans.Comparison.to_list()\n",
    "len(set(pancan_gbm_genes))"
   ]
  },
  {
   "cell_type": "code",
   "execution_count": 6,
   "metadata": {},
   "outputs": [
    {
     "data": {
      "text/plain": [
       "0"
      ]
     },
     "execution_count": 6,
     "metadata": {},
     "output_type": "execute_result"
    }
   ],
   "source": [
    "matching = [s for s in pancan_gbm_genes if \"_\" in s]\n",
    "len(matching)"
   ]
  },
  {
   "cell_type": "code",
   "execution_count": null,
   "metadata": {},
   "outputs": [],
   "source": []
  },
  {
   "cell_type": "code",
   "execution_count": 7,
   "metadata": {},
   "outputs": [
    {
     "data": {
      "text/plain": [
       "Text(0.5, 1.0, 'GBM')"
      ]
     },
     "execution_count": 7,
     "metadata": {},
     "output_type": "execute_result"
    },
    {
     "data": {
      "image/png": "[encoded data removed]",
      "text/plain": [
       "<Figure size 432x288 with 1 Axes>"
      ]
     },
     "metadata": {},
     "output_type": "display_data"
    }
   ],
   "source": [
    "og_genes = set(og_gbm_genes)\n",
    "pancan_genes = set(pancan_gbm_genes)\n",
    "venn2([og_genes,pancan_genes],(\"Flagship_genes\", \"Pancan_genes\"))\n",
    "plt.title('GBM')"
   ]
  },
  {
   "cell_type": "code",
   "execution_count": 8,
   "metadata": {},
   "outputs": [
    {
     "name": "stdout",
     "output_type": "stream",
     "text": [
      "969\n",
      "621\n",
      "373\n"
     ]
    }
   ],
   "source": [
    "sig_both_gene = og_genes.intersection(pancan_genes)\n",
    "print(len(sig_both_gene))\n",
    "flagship_only = og_genes - sig_both_gene\n",
    "print(len(flagship_only))\n",
    "pancan_only = pancan_genes - sig_both_gene\n",
    "print(len(pancan_only))"
   ]
  },
  {
   "cell_type": "markdown",
   "metadata": {},
   "source": [
    "Histogram of pancan p-values for trans genes that are no longer significant"
   ]
  },
  {
   "cell_type": "code",
   "execution_count": 17,
   "metadata": {},
   "outputs": [
    {
     "data": {
      "text/plain": [
       "<matplotlib.axes._subplots.AxesSubplot at 0x7fbedd273860>"
      ]
     },
     "execution_count": 17,
     "metadata": {},
     "output_type": "execute_result"
    },
    {
     "data": {
      "image/png": "[encoded data removed]",
      "text/plain": [
       "<Figure size 1008x720 with 1 Axes>"
      ]
     },
     "metadata": {
      "needs_background": "light"
     },
     "output_type": "display_data"
    }
   ],
   "source": [
    "import seaborn as sns\n",
    "gbm_pancan_trans = pd.read_csv(\"csv_files/trans_effects_all_prot_fdr_corrected_GBM\")\n",
    "gbm_pancan_trans[\"Comparison\"] = gbm_pancan_trans['Comparison'].str.replace(r\"_\\d\",\"\")\n",
    "gbm_pancan_no_longer_sig  = gbm_pancan_trans[gbm_pancan_trans.Comparison.isin(flagship_only)]\n",
    "\n",
    "\n",
    "#gbm_pancan_no_longer_sig.P_value_GBM.hist(bins = 30)\n",
    "plt.figure(figsize=(14, 10))\n",
    "plt.xlabel(\"P_value_GBM\", fontsize=20)\n",
    "plt.ylabel( \"Count\", fontsize=20)\n",
    "plt.xticks(fontsize = 17)\n",
    "plt.yticks(fontsize = 17)\n",
    "sns.histplot(data=gbm_pancan_no_longer_sig, x=\"P_value_GBM\", bins = 30)"
   ]
  },
  {
   "cell_type": "code",
   "execution_count": null,
   "metadata": {},
   "outputs": [],
   "source": [
    "gbm_og_trans = pd.read_csv(\"../../EGFR/Make_Tables/csv_files/trans_effects_all_prot_fdr_corrected_GBM\")\n",
    "gbm_og_trans =gbm_og_trans.loc[(gbm_og_trans[\"P_value_GBM\"] <= 0.05)]\n",
    "gbm_pancan_trans = pd.read_csv(\"csv_files/trans_effects_all_prot_fdr_corrected_GBM\")\n",
    "\n",
    "gbm_pancan_trans = gbm_pancan_trans.rename(columns={\"Correlation_GBM\": \"Correlation_GBM_pancan\",\"P_value_GBM\":\"P_value_GBM_pancan\" })\n",
    "gbm_og_trans = gbm_og_trans.rename(columns={\"Correlation_GBM\": \"Correlation_GBM_og\",\"P_value_GBM\":\"P_value_GBM_og\" })\n",
    "gbm_pancan_trans = gbm_pancan_trans.set_index(\"Comparison\")\n",
    "gbm_og_trans = gbm_og_trans.set_index(\"Comparison\")\n",
    "\n",
    "#significant in flagship and all in pancan\n",
    "both_gbm = gbm_pancan_trans.join(gbm_og_trans, how = \"right\")\n",
    "both_gbm = both_gbm.dropna()\n",
    "both_gbm\n"
   ]
  },
  {
   "cell_type": "code",
   "execution_count": null,
   "metadata": {},
   "outputs": [],
   "source": [
    "both_gbm[\"Diff_pval\"] = both_gbm[\"P_value_GBM_pancan\"] - both_gbm[\"P_value_GBM_og\"]\n",
    "both_gbm.sort_values(by=['Diff_pval'], inplace=True, ascending=False)"
   ]
  },
  {
   "cell_type": "code",
   "execution_count": null,
   "metadata": {},
   "outputs": [],
   "source": [
    "both_gbm"
   ]
  },
  {
   "cell_type": "code",
   "execution_count": null,
   "metadata": {},
   "outputs": [],
   "source": []
  },
  {
   "cell_type": "code",
   "execution_count": null,
   "metadata": {},
   "outputs": [],
   "source": [
    "sig_both_gene = list(sig_both_gene)"
   ]
  },
  {
   "cell_type": "code",
   "execution_count": null,
   "metadata": {},
   "outputs": [],
   "source": [
    "same_sign_enr = gp.enrichr(gene_list = sig_both_gene, description='Tumor_partition', gene_sets='NCI-Nature_2016', \n",
    "                       outdir='test/enrichr_NCI-Nature')\n",
    "same_sign_enr.res2d.head(10)"
   ]
  },
  {
   "cell_type": "markdown",
   "metadata": {},
   "source": [
    "# HNSCC "
   ]
  },
  {
   "cell_type": "code",
   "execution_count": 21,
   "metadata": {},
   "outputs": [
    {
     "data": {
      "text/plain": [
       "1704"
      ]
     },
     "execution_count": 21,
     "metadata": {},
     "output_type": "execute_result"
    }
   ],
   "source": [
    "hnscc_og_trans = pd.read_csv(\"../../EGFR/Make_Tables/csv_files/trans_effects_all_prot_fdr_corrected_HNSCC\")\n",
    "#hnscc_og_trans[\"Comparison\"] = hnscc_og_trans['Comparison'].str.replace(r\"_\\d\",\"\")\n",
    "hnscc_og_trans = hnscc_og_trans.loc[(hnscc_og_trans[\"P_value_HNSCC\"] <= 0.05)]\n",
    "og_hnscc_genes = hnscc_og_trans.Comparison.to_list()\n",
    "len(set(og_hnscc_genes))"
   ]
  },
  {
   "cell_type": "code",
   "execution_count": 29,
   "metadata": {},
   "outputs": [
    {
     "data": {
      "text/plain": [
       "0"
      ]
     },
     "execution_count": 29,
     "metadata": {},
     "output_type": "execute_result"
    }
   ],
   "source": [
    "matching = [s for s in pancan_hnscc_genes if \"_\" in s]\n",
    "len(matching)"
   ]
  },
  {
   "cell_type": "code",
   "execution_count": 22,
   "metadata": {},
   "outputs": [
    {
     "data": {
      "text/plain": [
       "1680"
      ]
     },
     "execution_count": 22,
     "metadata": {},
     "output_type": "execute_result"
    }
   ],
   "source": [
    "hnscc_pancan_trans = pd.read_csv(\"csv_files/trans_effects_all_prot_fdr_corrected_HNSCC\")\n",
    "hnscc_pancan_trans =hnscc_pancan_trans.loc[(hnscc_pancan_trans[\"P_value_HNSCC\"] <= 0.05)]\n",
    "#duplicates due to different database id were labeled with and _#. \n",
    "#Remove so it won't be counted as a different gene in VennDiagram \n",
    "hnscc_pancan_trans[\"Comparison\"] = hnscc_pancan_trans['Comparison'].str.replace(r\"_\\d\",\"\")\n",
    "pancan_hnscc_genes = hnscc_pancan_trans.Comparison.to_list()\n",
    "len(set(pancan_hnscc_genes))"
   ]
  },
  {
   "cell_type": "code",
   "execution_count": 23,
   "metadata": {},
   "outputs": [
    {
     "data": {
      "text/plain": [
       "Text(0.5, 1.0, 'HNSCC')"
      ]
     },
     "execution_count": 23,
     "metadata": {},
     "output_type": "execute_result"
    },
    {
     "data": {
      "image/png": "[encoded data removed]",
      "text/plain": [
       "<Figure size 432x288 with 1 Axes>"
      ]
     },
     "metadata": {},
     "output_type": "display_data"
    }
   ],
   "source": [
    "og_genes = set(og_hnscc_genes)\n",
    "pancan_genes = set(pancan_hnscc_genes)\n",
    "venn2([og_genes,pancan_genes],(\"Flagship_genes\", \"Pancan_genes\"))\n",
    "plt.title('HNSCC')"
   ]
  },
  {
   "cell_type": "markdown",
   "metadata": {},
   "source": [
    "# LUAD"
   ]
  },
  {
   "cell_type": "code",
   "execution_count": 41,
   "metadata": {},
   "outputs": [
    {
     "data": {
      "text/plain": [
       "1229"
      ]
     },
     "execution_count": 41,
     "metadata": {},
     "output_type": "execute_result"
    }
   ],
   "source": [
    "luad_og_trans = pd.read_csv(\"../../EGFR/Make_Tables/csv_files/trans_effects_all_prot_fdr_corrected_LUAD\")\n",
    "luad_og_trans = luad_og_trans.loc[(luad_og_trans[\"P_value_LUAD\"] <= 0.05)]\n",
    "#duplicates due to different database id were labeled with and _#. \n",
    "#Remove so it won't be counted as a different gene in VennDiagram \n",
    "luad_og_trans[\"Comparison\"] = luad_og_trans['Comparison'].str.replace(r\"_\\d\",\"\")\n",
    "og_luad_genes = luad_og_trans.Comparison.to_list()\n",
    "len(set(og_luad_genes))"
   ]
  },
  {
   "cell_type": "code",
   "execution_count": 42,
   "metadata": {},
   "outputs": [
    {
     "data": {
      "text/plain": [
       "968"
      ]
     },
     "execution_count": 42,
     "metadata": {},
     "output_type": "execute_result"
    }
   ],
   "source": [
    "luad_pancan_trans = pd.read_csv(\"csv_files/trans_effects_all_prot_fdr_corrected_LUAD\")\n",
    "luad_pancan_trans = luad_pancan_trans.loc[(luad_pancan_trans[\"P_value_LUAD\"] <= 0.05)]\n",
    "#duplicates due to different database id were labeled with and _#. \n",
    "#Remove so it won't be counted as a different gene in VennDiagram \n",
    "luad_pancan_trans[\"Comparison\"] = luad_pancan_trans['Comparison'].str.replace(r\"_\\d\",\"\")\n",
    "pancan_luad_genes = luad_pancan_trans.Comparison.to_list()\n",
    "len(set(pancan_luad_genes))"
   ]
  },
  {
   "cell_type": "code",
   "execution_count": 44,
   "metadata": {},
   "outputs": [
    {
     "data": {
      "text/plain": [
       "0"
      ]
     },
     "execution_count": 44,
     "metadata": {},
     "output_type": "execute_result"
    }
   ],
   "source": [
    "matching = [s for s in og_luad_genes if \"_\" in s]\n",
    "len(matching)"
   ]
  },
  {
   "cell_type": "code",
   "execution_count": 45,
   "metadata": {},
   "outputs": [
    {
     "data": {
      "text/plain": [
       "Text(0.5, 1.0, 'LUAD')"
      ]
     },
     "execution_count": 45,
     "metadata": {},
     "output_type": "execute_result"
    },
    {
     "data": {
      "image/png": "[encoded data removed]",
      "text/plain": [
       "<Figure size 432x288 with 1 Axes>"
      ]
     },
     "metadata": {},
     "output_type": "display_data"
    }
   ],
   "source": [
    "og_genes = set(og_luad_genes)\n",
    "pancan_genes = set(pancan_luad_genes)\n",
    "venn2([og_genes,pancan_genes],(\"Flagship_genes\", \"Pancan_genes\"))\n",
    "plt.title('LUAD')"
   ]
  },
  {
   "cell_type": "markdown",
   "metadata": {},
   "source": [
    "# ccRCC"
   ]
  },
  {
   "cell_type": "code",
   "execution_count": 52,
   "metadata": {},
   "outputs": [
    {
     "data": {
      "text/plain": [
       "1087"
      ]
     },
     "execution_count": 52,
     "metadata": {},
     "output_type": "execute_result"
    }
   ],
   "source": [
    "ccrcc_og_trans = pd.read_csv(\"../../EGFR/Make_Tables/csv_files/trans_effects_all_prot_fdr_corrected_ccRCC\")\n",
    "ccrcc_og_trans = ccrcc_og_trans.loc[(ccrcc_og_trans[\"P_value_ccRCC\"] <= 0.05)]\n",
    "#duplicates due to different database id were labeled with and _#. \n",
    "#Remove so it won't be counted as a different gene in VennDiagram \n",
    "ccrcc_og_trans[\"Comparison\"] = ccrcc_og_trans['Comparison'].str.replace(r\"_\\d\",\"\")\n",
    "og_ccrcc_genes = ccrcc_og_trans.Comparison.to_list()\n",
    "len(set(og_ccrcc_genes))"
   ]
  },
  {
   "cell_type": "code",
   "execution_count": 53,
   "metadata": {},
   "outputs": [
    {
     "data": {
      "text/plain": [
       "848"
      ]
     },
     "execution_count": 53,
     "metadata": {},
     "output_type": "execute_result"
    }
   ],
   "source": [
    "ccrcc_pancan_trans = pd.read_csv(\"csv_files/trans_effects_all_prot_fdr_corrected_ccRCC\")\n",
    "ccrcc_pancan_trans = ccrcc_pancan_trans.loc[(ccrcc_pancan_trans[\"P_value_ccRCC\"] <= 0.05)]\n",
    "#duplicates due to different database id were labeled with and _#. \n",
    "#Remove so it won't be counted as a different gene in VennDiagram \n",
    "ccrcc_pancan_trans[\"Comparison\"] = ccrcc_pancan_trans['Comparison'].str.replace(r\"_\\d\",\"\")\n",
    "pancan_ccrcc_genes = ccrcc_pancan_trans.Comparison.to_list()\n",
    "len(set(pancan_ccrcc_genes))\n"
   ]
  },
  {
   "cell_type": "code",
   "execution_count": 54,
   "metadata": {},
   "outputs": [
    {
     "data": {
      "text/plain": [
       "0"
      ]
     },
     "execution_count": 54,
     "metadata": {},
     "output_type": "execute_result"
    }
   ],
   "source": [
    "matching = [s for s in og_ccrcc_genes if \"_\" in s]\n",
    "len(matching)"
   ]
  },
  {
   "cell_type": "code",
   "execution_count": 55,
   "metadata": {},
   "outputs": [
    {
     "data": {
      "text/plain": [
       "Text(0.5, 1.0, 'ccRCC')"
      ]
     },
     "execution_count": 55,
     "metadata": {},
     "output_type": "execute_result"
    },
    {
     "data": {
      "image/png": "[encoded data removed]",
      "text/plain": [
       "<Figure size 432x288 with 1 Axes>"
      ]
     },
     "metadata": {},
     "output_type": "display_data"
    }
   ],
   "source": [
    "og_genes = set(og_ccrcc_genes)\n",
    "pancan_genes = set(pancan_ccrcc_genes)\n",
    "venn2([og_genes,pancan_genes],(\"Flagship_genes\", \"Pancan_genes\"))\n",
    "plt.title('ccRCC')"
   ]
  },
  {
   "cell_type": "markdown",
   "metadata": {},
   "source": [
    "# LSCC"
   ]
  },
  {
   "cell_type": "code",
   "execution_count": 67,
   "metadata": {},
   "outputs": [
    {
     "data": {
      "text/plain": [
       "500"
      ]
     },
     "execution_count": 67,
     "metadata": {},
     "output_type": "execute_result"
    }
   ],
   "source": [
    "lscc_og_trans = pd.read_csv(\"../../EGFR/Make_Tables/csv_files/trans_effects_all_prot_fdr_corrected_LSCC\")\n",
    "lscc_og_trans = lscc_og_trans.loc[(lscc_og_trans[\"P_value_LSCC\"] <= 0.05)]\n",
    "#duplicates due to different database id were labeled with and _#. \n",
    "#Remove so it won't be counted as a different gene in VennDiagram \n",
    "lscc_og_trans[\"Comparison\"] = lscc_og_trans['Comparison'].str.replace(r\"_\\d\",\"\")\n",
    "og_lscc_genes = lscc_og_trans.Comparison.to_list()\n",
    "len(set(og_lscc_genes))"
   ]
  },
  {
   "cell_type": "code",
   "execution_count": 68,
   "metadata": {},
   "outputs": [
    {
     "data": {
      "text/plain": [
       "[]"
      ]
     },
     "execution_count": 68,
     "metadata": {},
     "output_type": "execute_result"
    }
   ],
   "source": [
    "matching = [s for s in og_lscc_genes if \"_\" in s]\n",
    "matching"
   ]
  },
  {
   "cell_type": "code",
   "execution_count": 61,
   "metadata": {},
   "outputs": [
    {
     "data": {
      "text/plain": [
       "968"
      ]
     },
     "execution_count": 61,
     "metadata": {},
     "output_type": "execute_result"
    }
   ],
   "source": [
    "lscc_pancan_trans = pd.read_csv(\"csv_files/trans_effects_all_prot_fdr_corrected_LSCC\")\n",
    "lscc_pancan_trans = lscc_pancan_trans.loc[(lscc_pancan_trans[\"P_value_LSCC\"] <= 0.05)]\n",
    "pancan_lscc_genes = lscc_pancan_trans.Comparison.to_list()\n",
    "len(set(pancan_luad_genes))\n"
   ]
  },
  {
   "cell_type": "code",
   "execution_count": 69,
   "metadata": {},
   "outputs": [
    {
     "data": {
      "text/plain": [
       "Text(0.5, 1.0, 'LSCC')"
      ]
     },
     "execution_count": 69,
     "metadata": {},
     "output_type": "execute_result"
    },
    {
     "data": {
      "image/png": "[encoded data removed]",
      "text/plain": [
       "<Figure size 432x288 with 1 Axes>"
      ]
     },
     "metadata": {},
     "output_type": "display_data"
    }
   ],
   "source": [
    "og_genes = set(og_lscc_genes)\n",
    "pancan_genes = set(pancan_lscc_genes)\n",
    "venn2([og_genes,pancan_genes],(\"Flagship_genes\", \"Pancan_genes\"))\n",
    "plt.title('LSCC')"
   ]
  },
  {
   "cell_type": "markdown",
   "metadata": {},
   "source": []
  }
 ],
 "metadata": {
  "kernelspec": {
   "display_name": "Python 3",
   "language": "python",
   "name": "python3"
  },
  "language_info": {
   "codemirror_mode": {
    "name": "ipython",
    "version": 3
   },
   "file_extension": ".py",
   "mimetype": "text/x-python",
   "name": "python",
   "nbconvert_exporter": "python",
   "pygments_lexer": "ipython3",
   "version": "3.8.8"
  }
 },
 "nbformat": 4,
 "nbformat_minor": 2
}
