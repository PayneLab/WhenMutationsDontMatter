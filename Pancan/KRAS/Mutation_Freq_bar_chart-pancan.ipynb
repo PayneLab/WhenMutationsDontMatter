{
 "cells": [
  {
   "cell_type": "markdown",
   "metadata": {},
   "source": [
    "# KRAS Mutation Frequency"
   ]
  },
  {
   "cell_type": "markdown",
   "metadata": {},
   "source": [
    "This notebook creates a bar chart that shows the frequency of different KRAS mutations found across the 6 cancers with data for KRAS."
   ]
  },
  {
   "cell_type": "code",
   "execution_count": 1,
   "metadata": {},
   "outputs": [],
   "source": [
    "import pandas as pd\n",
    "import numpy as np\n",
    "import seaborn as sns\n",
    "import matplotlib.pyplot as plt\n",
    "\n",
    "import cptac\n",
    "import cptac.utils as u\n",
    "import plot_utils as p\n",
    "import cptac.pancan as pc"
   ]
  },
  {
   "cell_type": "code",
   "execution_count": 2,
   "metadata": {},
   "outputs": [
    {
     "name": "stdout",
     "output_type": "stream",
     "text": [
      "cptac version: 1.1.0\n"
     ]
    }
   ],
   "source": [
    "print('cptac version:', cptac.version())"
   ]
  },
  {
   "cell_type": "code",
   "execution_count": 3,
   "metadata": {},
   "outputs": [],
   "source": [
    "import warnings\n",
    "warnings.filterwarnings('ignore')"
   ]
  },
  {
   "cell_type": "markdown",
   "metadata": {},
   "source": [
    "# Step 1: Create dataframe with Mutation Types"
   ]
  },
  {
   "cell_type": "markdown",
   "metadata": {},
   "source": [
    "For each cancer type, create a data frame that has the mutation type for each sample."
   ]
  },
  {
   "cell_type": "markdown",
   "metadata": {},
   "source": [
    "First, load in the cancer data sets from cptac."
   ]
  },
  {
   "cell_type": "code",
   "execution_count": null,
   "metadata": {},
   "outputs": [
    {
     "name": "stdout",
     "output_type": "stream",
     "text": [
      "Loading washuccrcc v1.0..........                \r"
     ]
    }
   ],
   "source": [
    "g = pc.PancanGbm()\n",
    "hn = pc.PancanHnscc()\n",
    "l = pc.PancanLuad()\n",
    "o = pc.PancanOv()\n",
    "c = pc.PancanCcrcc()\n",
    "col = pc.PancanCoad()\n",
    "b = pc.PancanBrca()\n",
    "ls = pc.PancanLscc()\n",
    "en = pc.PancanUcec()"
   ]
  },
  {
   "cell_type": "markdown",
   "metadata": {},
   "source": [
    "Next, call get_geneotype_all_vars for PTEN for each cancer type. This returns a df with columns for Mutation (type of mutation), Location (location of the mutation), and Mutation_Status (wildtype, single, or multiple mutations).  For samples with multiple mutations, a single mutation was reported based on the following priority: deletion, truncation, missense, amplification, inframe, silent, and wildtype. "
   ]
  },
  {
   "cell_type": "code",
   "execution_count": null,
   "metadata": {},
   "outputs": [],
   "source": [
    "gene = \"KRAS\" "
   ]
  },
  {
   "cell_type": "code",
   "execution_count": null,
   "metadata": {},
   "outputs": [],
   "source": [
    "endo = en.get_genotype_all_vars(gene, omics_source = \"washu\") \n",
    "\n",
    "\n",
    "#ovar = o.get_genotype_all_vars(gene, omics_source = \"washu\")\n",
    "\n",
    "#colon = col.get_genotype_all_vars(gene, omics_source = \"washu\")\n",
    "ld = l.get_genotype_all_vars(gene, omics_source = \"washu\")\n",
    "lscc = ls.get_genotype_all_vars(gene, omics_source = \"washu\")\n",
    "brca = b.get_genotype_all_vars(gene, omics_source = \"washu\")"
   ]
  },
  {
   "cell_type": "code",
   "execution_count": null,
   "metadata": {},
   "outputs": [],
   "source": [
    "# example\n"
   ]
  },
  {
   "cell_type": "markdown",
   "metadata": {},
   "source": [
    "# Step 2: Match Mutation Labels"
   ]
  },
  {
   "cell_type": "markdown",
   "metadata": {},
   "source": [
    "The mutation types in the Colon dataset were named differently. We changed these names to match the other cancers. Nonframeshift insertion was changed to match In_Frame_Ins. Frameshift deletion was canged to match Frame_Shift_Del. Nonsynonymous snv represents a missense mutation in this case. "
   ]
  },
  {
   "cell_type": "code",
   "execution_count": null,
   "metadata": {},
   "outputs": [],
   "source": [
    "colon[\"Mutation\"] = colon['Mutation'].replace(['nonsynonymous SNV'], 'Missense')\n",
    "colon[\"Mutation\"] = colon['Mutation'].replace(['nonframeshift insertion'], 'In_Frame_Ins')\n",
    "colon[\"Mutation\"] = colon['Mutation'].replace(['frameshift deletion'], 'Frame_Shift_Del')\n",
    "colon[\"Mutation\"] = colon['Mutation'].replace(['frameshift insertion'], 'Frame_Shift_Ins')\n",
    "\n",
    "\n",
    "colon.Mutation.value_counts()"
   ]
  },
  {
   "cell_type": "markdown",
   "metadata": {},
   "source": [
    "We simplified labels for the final figure. We grouped mutations together to create the Indel and Truncation categories. In_Frame_Indel includes: In_Frame_Ins and In_Frame_Del. Truncation includes: Nonsense_Mutation, Frame_Shift_Del, and Frame_Shift_Ins."
   ]
  },
  {
   "cell_type": "code",
   "execution_count": null,
   "metadata": {},
   "outputs": [],
   "source": [
    "# Simplify mutation names, create truncation and indel groups\n",
    "dfs = [endo, ovar, colon, lscc, ld, brca]\n",
    "for df in dfs:\n",
    "    df['Mutation'].where(df['Mutation'] != 'Missense_Mutation', 'Missense', inplace = True) # replace when false\n",
    "    df['Mutation'].where(df['Mutation'] != 'Wildtype_Tumor', 'Wildtype', inplace = True)\n",
    "    df[\"Mutation\"].where(df['Mutation'] != 'In_Frame_Del', 'Indel', inplace = True)\n",
    "    df[\"Mutation\"].where(df['Mutation'] != 'In_Frame_Ins', 'Indel', inplace = True)\n",
    "    df[\"Mutation\"].where(df['Mutation'] != 'Nonsense_Mutation', 'Truncation', inplace = True)\n",
    "    df[\"Mutation\"].where(df['Mutation'] != 'Frame_Shift_Del', 'Truncation', inplace = True)\n",
    "    df[\"Mutation\"].where(df['Mutation'] != 'Frame_Shift_Ins', 'Truncation', inplace = True)\n",
    "    df = df.loc[df['Mutation'] != 'Silent'] # Drop silent"
   ]
  },
  {
   "cell_type": "markdown",
   "metadata": {},
   "source": [
    "The get_genotype_all_var function created the No_Mutation label when no somatic mutations were found for PTEN in the Luad dataset. This is the same as Wildtype_Tumor. "
   ]
  },
  {
   "cell_type": "code",
   "execution_count": null,
   "metadata": {},
   "outputs": [],
   "source": [
    "ld[\"Mutation\"] = ld['Mutation'].replace(['No_Mutation'], 'Wildtype')"
   ]
  },
  {
   "cell_type": "markdown",
   "metadata": {},
   "source": [
    "# Step 3: Create Figure"
   ]
  },
  {
   "cell_type": "markdown",
   "metadata": {},
   "source": [
    "Create a list of the mutation dataframes. Create a list of cancer names for the figure legend. Call the plot_mutations function."
   ]
  },
  {
   "cell_type": "code",
   "execution_count": null,
   "metadata": {},
   "outputs": [],
   "source": [
    "dfs = [endo, ld, brca, lscc]\n",
    "for df in dfs:\n",
    "    df = df.loc[df['Mutation'] != 'Silent']\n",
    "names = ['Endometrial','Lung Adenocarcinoma', 'Breast', 'Lung Squamous']\n",
    "\n",
    "p.figure1_plot_mutations(dfs, names)"
   ]
  },
  {
   "cell_type": "markdown",
   "metadata": {},
   "source": [
    "# Calculate percentage of missense mutations in tumors"
   ]
  },
  {
   "cell_type": "code",
   "execution_count": null,
   "metadata": {},
   "outputs": [],
   "source": [
    "cancer_dfs = {'Endo':endo,'Ov':ovar,'Colon':colon, \n",
    "              'Luad':ld, 'Brca':brca, 'Lscc':lscc}\n",
    "for cancer in cancer_dfs:\n",
    "    df = cancer_dfs[cancer]\n",
    "    vc = df.Mutation.value_counts()\n",
    "    total = len(df)\n",
    "    mut = vc.Missense\n",
    "    print(cancer)\n",
    "    print('total_tumor_samples:',total)\n",
    "    print(mut,'/',total,'=', mut/total,'\\n')"
   ]
  },
  {
   "cell_type": "code",
   "execution_count": null,
   "metadata": {},
   "outputs": [],
   "source": []
  }
 ],
 "metadata": {
  "kernelspec": {
   "display_name": "Python 3",
   "language": "python",
   "name": "python3"
  },
  "language_info": {
   "codemirror_mode": {
    "name": "ipython",
    "version": 3
   },
   "file_extension": ".py",
   "mimetype": "text/x-python",
   "name": "python",
   "nbconvert_exporter": "python",
   "pygments_lexer": "ipython3",
   "version": "3.8.8"
  }
 },
 "nbformat": 4,
 "nbformat_minor": 2
}
