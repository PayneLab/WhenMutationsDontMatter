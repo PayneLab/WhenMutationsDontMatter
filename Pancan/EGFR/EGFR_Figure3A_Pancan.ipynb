{
 "cells": [
  {
   "cell_type": "markdown",
   "metadata": {},
   "source": [
    "# Make Figure 3A: EGFR mutation status"
   ]
  },
  {
   "cell_type": "markdown",
   "metadata": {},
   "source": [
    "This notebooks makes Figure 3A. It shows the mutation type abundance for EGFR across the different cancers. It uses the harmonzied mutation data from the cptac pancan package. "
   ]
  },
  {
   "cell_type": "code",
   "execution_count": 1,
   "metadata": {},
   "outputs": [],
   "source": [
    "import cptac\n",
    "import numpy as np\n",
    "import pandas as pd\n",
    "import numpy as np\n",
    "import seaborn as sns\n",
    "import matplotlib.pyplot as plt\n",
    "import plot_utils as p\n",
    "import cptac.pancan as pc"
   ]
  },
  {
   "cell_type": "code",
   "execution_count": 2,
   "metadata": {},
   "outputs": [
    {
     "data": {
      "text/plain": [
       "'1.0.0'"
      ]
     },
     "execution_count": 2,
     "metadata": {},
     "output_type": "execute_result"
    }
   ],
   "source": [
    "import warnings\n",
    "warnings.filterwarnings('ignore')\n",
    "#cptac version\n",
    "cptac.version()   "
   ]
  },
  {
   "cell_type": "code",
   "execution_count": 3,
   "metadata": {},
   "outputs": [],
   "source": [
    "#pc.download(\"pancancoad\", redownload = True)"
   ]
  },
  {
   "cell_type": "markdown",
   "metadata": {},
   "source": [
    "# Step 1 Create data frames with Mutation Types \n",
    "\n",
    "For each cancer type we need to create a df that has the mutation type for each sample. \n"
   ]
  },
  {
   "cell_type": "markdown",
   "metadata": {},
   "source": [
    "First, load in cptac pancan datasets"
   ]
  },
  {
   "cell_type": "code",
   "execution_count": 4,
   "metadata": {},
   "outputs": [
    {
     "name": "stdout",
     "output_type": "stream",
     "text": [
      "                                                 \r"
     ]
    },
    {
     "ename": "DataVersionNotInstalledError",
     "evalue": "umichov data version 1.1 is not installed. To install, call the download function (either 'cptac.download' or 'cptac.pancan.download', depending on which module you're using), passing 'umichov' to the 'dataset' parameter and '1.1' to the 'version' parameter.",
     "output_type": "error",
     "traceback": [
      "\u001b[0;31m---------------------------------------------------------------------------\u001b[0m",
      "\u001b[0;31mDataVersionNotInstalledError\u001b[0m              Traceback (most recent call last)",
      "\u001b[0;32m<ipython-input-4-690f7695364f>\u001b[0m in \u001b[0;36m<module>\u001b[0;34m\u001b[0m\n\u001b[1;32m      2\u001b[0m \u001b[0mhn\u001b[0m \u001b[0;34m=\u001b[0m \u001b[0mpc\u001b[0m\u001b[0;34m.\u001b[0m\u001b[0mPancanHnscc\u001b[0m\u001b[0;34m(\u001b[0m\u001b[0;34m)\u001b[0m\u001b[0;34m\u001b[0m\u001b[0;34m\u001b[0m\u001b[0m\n\u001b[1;32m      3\u001b[0m \u001b[0ml\u001b[0m \u001b[0;34m=\u001b[0m \u001b[0mpc\u001b[0m\u001b[0;34m.\u001b[0m\u001b[0mPancanLuad\u001b[0m\u001b[0;34m(\u001b[0m\u001b[0;34m)\u001b[0m\u001b[0;34m\u001b[0m\u001b[0;34m\u001b[0m\u001b[0m\n\u001b[0;32m----> 4\u001b[0;31m \u001b[0mo\u001b[0m \u001b[0;34m=\u001b[0m \u001b[0mpc\u001b[0m\u001b[0;34m.\u001b[0m\u001b[0mPancanOv\u001b[0m\u001b[0;34m(\u001b[0m\u001b[0;34m)\u001b[0m\u001b[0;34m\u001b[0m\u001b[0;34m\u001b[0m\u001b[0m\n\u001b[0m\u001b[1;32m      5\u001b[0m \u001b[0mc\u001b[0m \u001b[0;34m=\u001b[0m \u001b[0mpc\u001b[0m\u001b[0;34m.\u001b[0m\u001b[0mPancanCcrcc\u001b[0m\u001b[0;34m(\u001b[0m\u001b[0;34m)\u001b[0m\u001b[0;34m\u001b[0m\u001b[0;34m\u001b[0m\u001b[0m\n\u001b[1;32m      6\u001b[0m \u001b[0mcol\u001b[0m \u001b[0;34m=\u001b[0m \u001b[0mpc\u001b[0m\u001b[0;34m.\u001b[0m\u001b[0mPancanCoad\u001b[0m\u001b[0;34m(\u001b[0m\u001b[0;34m)\u001b[0m\u001b[0;34m\u001b[0m\u001b[0;34m\u001b[0m\u001b[0m\n",
      "\u001b[0;32m~/anaconda3/lib/python3.8/site-packages/cptac/pancan/pancanov.py\u001b[0m in \u001b[0;36m__init__\u001b[0;34m(self, version, no_internet)\u001b[0m\n\u001b[1;32m     42\u001b[0m         \u001b[0mself\u001b[0m\u001b[0;34m.\u001b[0m\u001b[0m_datasets\u001b[0m\u001b[0;34m[\u001b[0m\u001b[0;34m\"mssm\"\u001b[0m\u001b[0;34m]\u001b[0m \u001b[0;34m=\u001b[0m \u001b[0mMssmClinical\u001b[0m\u001b[0;34m(\u001b[0m\u001b[0mno_internet\u001b[0m\u001b[0;34m=\u001b[0m\u001b[0mno_internet\u001b[0m\u001b[0;34m,\u001b[0m \u001b[0mversion\u001b[0m\u001b[0;34m=\u001b[0m\u001b[0mself\u001b[0m\u001b[0;34m.\u001b[0m\u001b[0m_get_version\u001b[0m\u001b[0;34m(\u001b[0m\u001b[0;34m\"mssm\"\u001b[0m\u001b[0;34m)\u001b[0m\u001b[0;34m,\u001b[0m \u001b[0mfilter_type\u001b[0m\u001b[0;34m=\u001b[0m\u001b[0;34m'pancanov'\u001b[0m\u001b[0;34m)\u001b[0m\u001b[0;34m\u001b[0m\u001b[0;34m\u001b[0m\u001b[0m\n\u001b[1;32m     43\u001b[0m \u001b[0;31m#         self._datasets[\"pdc\"] = PdcOv(no_internet=no_internet, version=self._get_version(\"pdc\"))\u001b[0m\u001b[0;34m\u001b[0m\u001b[0;34m\u001b[0m\u001b[0;34m\u001b[0m\u001b[0m\n\u001b[0;32m---> 44\u001b[0;31m         \u001b[0mself\u001b[0m\u001b[0;34m.\u001b[0m\u001b[0m_datasets\u001b[0m\u001b[0;34m[\u001b[0m\u001b[0;34m\"umich\"\u001b[0m\u001b[0;34m]\u001b[0m \u001b[0;34m=\u001b[0m \u001b[0mUmichOv\u001b[0m\u001b[0;34m(\u001b[0m\u001b[0mno_internet\u001b[0m\u001b[0;34m=\u001b[0m\u001b[0mno_internet\u001b[0m\u001b[0;34m,\u001b[0m \u001b[0mversion\u001b[0m\u001b[0;34m=\u001b[0m\u001b[0mself\u001b[0m\u001b[0;34m.\u001b[0m\u001b[0m_get_version\u001b[0m\u001b[0;34m(\u001b[0m\u001b[0;34m\"umich\"\u001b[0m\u001b[0;34m)\u001b[0m\u001b[0;34m)\u001b[0m\u001b[0;34m\u001b[0m\u001b[0;34m\u001b[0m\u001b[0m\n\u001b[0m\u001b[1;32m     45\u001b[0m         \u001b[0mself\u001b[0m\u001b[0;34m.\u001b[0m\u001b[0m_datasets\u001b[0m\u001b[0;34m[\u001b[0m\u001b[0;34m\"washu\"\u001b[0m\u001b[0;34m]\u001b[0m \u001b[0;34m=\u001b[0m \u001b[0mWashuOv\u001b[0m\u001b[0;34m(\u001b[0m\u001b[0mno_internet\u001b[0m\u001b[0;34m=\u001b[0m\u001b[0mno_internet\u001b[0m\u001b[0;34m,\u001b[0m \u001b[0mversion\u001b[0m\u001b[0;34m=\u001b[0m\u001b[0mself\u001b[0m\u001b[0;34m.\u001b[0m\u001b[0m_get_version\u001b[0m\u001b[0;34m(\u001b[0m\u001b[0;34m\"washu\"\u001b[0m\u001b[0;34m)\u001b[0m\u001b[0;34m)\u001b[0m\u001b[0;34m\u001b[0m\u001b[0;34m\u001b[0m\u001b[0m\n\u001b[1;32m     46\u001b[0m         \u001b[0mself\u001b[0m\u001b[0;34m.\u001b[0m\u001b[0m_datasets\u001b[0m\u001b[0;34m[\u001b[0m\u001b[0;34m\"harmonized\"\u001b[0m\u001b[0;34m]\u001b[0m \u001b[0;34m=\u001b[0m \u001b[0mHarmonized\u001b[0m\u001b[0;34m(\u001b[0m\u001b[0mno_internet\u001b[0m\u001b[0;34m=\u001b[0m\u001b[0mno_internet\u001b[0m\u001b[0;34m,\u001b[0m \u001b[0mversion\u001b[0m\u001b[0;34m=\u001b[0m\u001b[0mself\u001b[0m\u001b[0;34m.\u001b[0m\u001b[0m_get_version\u001b[0m\u001b[0;34m(\u001b[0m\u001b[0;34m\"harmonized\"\u001b[0m\u001b[0;34m)\u001b[0m\u001b[0;34m,\u001b[0m \u001b[0mfilter_type\u001b[0m\u001b[0;34m=\u001b[0m\u001b[0;34m'pancanov'\u001b[0m\u001b[0;34m)\u001b[0m\u001b[0;34m\u001b[0m\u001b[0;34m\u001b[0m\u001b[0m\n",
      "\u001b[0;32m~/anaconda3/lib/python3.8/site-packages/cptac/pancan/umichov.py\u001b[0m in \u001b[0;36m__init__\u001b[0;34m(self, no_internet, version)\u001b[0m\n\u001b[1;32m     56\u001b[0m \u001b[0;34m\u001b[0m\u001b[0m\n\u001b[1;32m     57\u001b[0m         \u001b[0;31m# Call the parent class __init__ function\u001b[0m\u001b[0;34m\u001b[0m\u001b[0;34m\u001b[0m\u001b[0;34m\u001b[0m\u001b[0m\n\u001b[0;32m---> 58\u001b[0;31m         \u001b[0msuper\u001b[0m\u001b[0;34m(\u001b[0m\u001b[0;34m)\u001b[0m\u001b[0;34m.\u001b[0m\u001b[0m__init__\u001b[0m\u001b[0;34m(\u001b[0m\u001b[0mcancer_type\u001b[0m\u001b[0;34m=\u001b[0m\u001b[0;34m\"umichov\"\u001b[0m\u001b[0;34m,\u001b[0m \u001b[0mversion\u001b[0m\u001b[0;34m=\u001b[0m\u001b[0mversion\u001b[0m\u001b[0;34m,\u001b[0m \u001b[0mvalid_versions\u001b[0m\u001b[0;34m=\u001b[0m\u001b[0mvalid_versions\u001b[0m\u001b[0;34m,\u001b[0m \u001b[0mdata_files\u001b[0m\u001b[0;34m=\u001b[0m\u001b[0mdata_files\u001b[0m\u001b[0;34m,\u001b[0m \u001b[0mno_internet\u001b[0m\u001b[0;34m=\u001b[0m\u001b[0mno_internet\u001b[0m\u001b[0;34m)\u001b[0m\u001b[0;34m\u001b[0m\u001b[0;34m\u001b[0m\u001b[0m\n\u001b[0m\u001b[1;32m     59\u001b[0m \u001b[0;34m\u001b[0m\u001b[0m\n\u001b[1;32m     60\u001b[0m         \u001b[0;31m# Load the data into dataframes in the self._data dict\u001b[0m\u001b[0;34m\u001b[0m\u001b[0;34m\u001b[0m\u001b[0;34m\u001b[0m\u001b[0m\n",
      "\u001b[0;32m~/anaconda3/lib/python3.8/site-packages/cptac/dataset.py\u001b[0m in \u001b[0;36m__init__\u001b[0;34m(self, cancer_type, version, valid_versions, data_files, no_internet, attempt_update_index, skip_init)\u001b[0m\n\u001b[1;32m     90\u001b[0m             \u001b[0;31m# Get the paths to the data files\u001b[0m\u001b[0;34m\u001b[0m\u001b[0;34m\u001b[0m\u001b[0;34m\u001b[0m\u001b[0m\n\u001b[1;32m     91\u001b[0m             \u001b[0mversion_data_files\u001b[0m \u001b[0;34m=\u001b[0m \u001b[0mdata_files\u001b[0m\u001b[0;34m[\u001b[0m\u001b[0mself\u001b[0m\u001b[0;34m.\u001b[0m\u001b[0m_version\u001b[0m\u001b[0;34m]\u001b[0m \u001b[0;31m# Get the data files for this version from the data files dictionary\u001b[0m\u001b[0;34m\u001b[0m\u001b[0;34m\u001b[0m\u001b[0m\n\u001b[0;32m---> 92\u001b[0;31m             \u001b[0mself\u001b[0m\u001b[0;34m.\u001b[0m\u001b[0m_data_files_paths\u001b[0m \u001b[0;34m=\u001b[0m \u001b[0mget_version_files_paths\u001b[0m\u001b[0;34m(\u001b[0m\u001b[0mself\u001b[0m\u001b[0;34m.\u001b[0m\u001b[0m_cancer_type\u001b[0m\u001b[0;34m,\u001b[0m \u001b[0mself\u001b[0m\u001b[0;34m.\u001b[0m\u001b[0m_version\u001b[0m\u001b[0;34m,\u001b[0m \u001b[0mversion_data_files\u001b[0m\u001b[0;34m)\u001b[0m\u001b[0;34m\u001b[0m\u001b[0;34m\u001b[0m\u001b[0m\n\u001b[0m\u001b[1;32m     93\u001b[0m \u001b[0;34m\u001b[0m\u001b[0m\n\u001b[1;32m     94\u001b[0m \u001b[0;34m\u001b[0m\u001b[0m\n",
      "\u001b[0;32m~/anaconda3/lib/python3.8/site-packages/cptac/file_tools.py\u001b[0m in \u001b[0;36mget_version_files_paths\u001b[0;34m(dataset, version, data_files)\u001b[0m\n\u001b[1;32m    102\u001b[0m     \u001b[0mversion_path\u001b[0m \u001b[0;34m=\u001b[0m \u001b[0mos\u001b[0m\u001b[0;34m.\u001b[0m\u001b[0mpath\u001b[0m\u001b[0;34m.\u001b[0m\u001b[0mjoin\u001b[0m\u001b[0;34m(\u001b[0m\u001b[0mdataset_path\u001b[0m\u001b[0;34m,\u001b[0m \u001b[0;34mf\"{dataset}_v{version}\"\u001b[0m\u001b[0;34m)\u001b[0m\u001b[0;34m\u001b[0m\u001b[0;34m\u001b[0m\u001b[0m\n\u001b[1;32m    103\u001b[0m     \u001b[0;32mif\u001b[0m \u001b[0;32mnot\u001b[0m \u001b[0mos\u001b[0m\u001b[0;34m.\u001b[0m\u001b[0mpath\u001b[0m\u001b[0;34m.\u001b[0m\u001b[0misdir\u001b[0m\u001b[0;34m(\u001b[0m\u001b[0mversion_path\u001b[0m\u001b[0;34m)\u001b[0m\u001b[0;34m:\u001b[0m\u001b[0;34m\u001b[0m\u001b[0;34m\u001b[0m\u001b[0m\n\u001b[0;32m--> 104\u001b[0;31m         \u001b[0;32mraise\u001b[0m \u001b[0mDataVersionNotInstalledError\u001b[0m\u001b[0;34m(\u001b[0m\u001b[0;34mf\"{dataset} data version {version} is not installed. To install, call the download function (either 'cptac.download' or 'cptac.pancan.download', depending on which module you're using), passing '{dataset}' to the 'dataset' parameter and '{version}' to the 'version' parameter.\"\u001b[0m\u001b[0;34m)\u001b[0m\u001b[0;34m\u001b[0m\u001b[0;34m\u001b[0m\u001b[0m\n\u001b[0m\u001b[1;32m    105\u001b[0m \u001b[0;34m\u001b[0m\u001b[0m\n\u001b[1;32m    106\u001b[0m     \u001b[0mdata_files_paths\u001b[0m \u001b[0;34m=\u001b[0m \u001b[0;34m[\u001b[0m\u001b[0;34m]\u001b[0m\u001b[0;34m\u001b[0m\u001b[0;34m\u001b[0m\u001b[0m\n",
      "\u001b[0;31mDataVersionNotInstalledError\u001b[0m: umichov data version 1.1 is not installed. To install, call the download function (either 'cptac.download' or 'cptac.pancan.download', depending on which module you're using), passing 'umichov' to the 'dataset' parameter and '1.1' to the 'version' parameter."
     ]
    }
   ],
   "source": [
    "g = pc.PancanGbm()\n",
    "hn = pc.PancanHnscc()\n",
    "l = pc.PancanLuad()\n",
    "o = pc.PancanOv()\n",
    "c = pc.PancanCcrcc()\n",
    "col = pc.PancanCoad()\n",
    "b = pc.PancanBrca()\n",
    "ls = pc.PancanLscc()\n",
    "en = pc.PancanUcec()"
   ]
  },
  {
   "cell_type": "code",
   "execution_count": null,
   "metadata": {},
   "outputs": [],
   "source": [
    "colon = col.get_genotype_all_vars(\"EGFR\", omics_source = \"washu\")\n"
   ]
  },
  {
   "cell_type": "markdown",
   "metadata": {},
   "source": [
    "Second, call get_geneotype_all_vars for EGFR for each cancer type. This returns a df with mutation, location, and mutation_status. For individuals with multiple mutations, we report a single mutation type based on the following priority: deletion, truncation, missense, amplification, inframe, silent, and wildtype."
   ]
  },
  {
   "cell_type": "code",
   "execution_count": null,
   "metadata": {
    "scrolled": true
   },
   "outputs": [],
   "source": [
    "endo = en.get_genotype_all_vars(\"EGFR\", omics_source = \"washu\")\n",
    "gbm = g.get_genotype_all_vars(\"EGFR\", omics_source = \"washu\")\n",
    "hnscc = hn.get_genotype_all_vars(\"EGFR\", omics_source = \"washu\")\n",
    "ovar = o.get_genotype_all_vars(\"EGFR\", omics_source = \"washu\")\n",
    "cc = c.get_genotype_all_vars(\"EGFR\", omics_source = \"washu\")\n",
    "colon = col.get_genotype_all_vars(\"EGFR\", omics_source = \"washu\")\n",
    "ld = l.get_genotype_all_vars(\"EGFR\", omics_source = \"washu\")\n",
    "brca = b.get_genotype_all_vars(\"EGFR\", omics_source = \"washu\")\n",
    "lscc = ls.get_genotype_all_vars(\"EGFR\", omics_source = \"washu\")"
   ]
  },
  {
   "cell_type": "code",
   "execution_count": null,
   "metadata": {},
   "outputs": [],
   "source": [
    "#example \n",
    "colon"
   ]
  },
  {
   "cell_type": "markdown",
   "metadata": {},
   "source": [
    "# Step 2: Match Mutation Labels"
   ]
  },
  {
   "cell_type": "markdown",
   "metadata": {},
   "source": [
    "Change labels to to match desired final figure. "
   ]
  },
  {
   "cell_type": "code",
   "execution_count": null,
   "metadata": {},
   "outputs": [],
   "source": [
    "# Simplify mutation names\n",
    "dfs = [endo, gbm, hnscc, cc, ld, brca, lscc, colon,ovar]\n",
    "for df in dfs:\n",
    "    df['Mutation'].where(df['Mutation'] != 'Missense_Mutation', 'Missense', inplace = True) # replaces when false\n",
    "    df['Mutation'].where(df['Mutation'] != 'Wildtype_Tumor', 'Wildtype', inplace = True)\n",
    "    df['Mutation'].where(df['Mutation'] != 'In_Frame_Del', 'Indel', inplace = True)\n",
    "    df['Mutation'].where(df['Mutation'] != 'Nonsense_Mutation', 'Truncation', inplace = True)\n",
    "    \n"
   ]
  },
  {
   "cell_type": "code",
   "execution_count": null,
   "metadata": {},
   "outputs": [],
   "source": [
    "\n",
    "#Drop Silent mutation type\n",
    "indexNames = hnscc[ hnscc['Mutation'] == \"Silent\" ].index\n",
    "hnscc.drop(indexNames , inplace=True)\n",
    "indexNames = ld[ ld['Mutation'] == \"Silent\" ].index\n",
    "ld.drop(indexNames , inplace=True)\n",
    "indexNames = brca[ brca['Mutation'] == \"Silent\" ].index\n",
    "brca.drop(indexNames , inplace=True)\n",
    "\n",
    "#Drop Intron\n",
    "indexNames = hnscc[ hnscc['Mutation'] == \"Intron\" ].index\n",
    "hnscc.drop(indexNames , inplace=True)                  "
   ]
  },
  {
   "cell_type": "code",
   "execution_count": null,
   "metadata": {},
   "outputs": [],
   "source": []
  },
  {
   "cell_type": "markdown",
   "metadata": {},
   "source": [
    "# Step 3: Create figure "
   ]
  },
  {
   "cell_type": "markdown",
   "metadata": {},
   "source": [
    "Put dfs into a list. Create list of names for figure legend. \n",
    "Call plot_mutations function."
   ]
  },
  {
   "cell_type": "code",
   "execution_count": null,
   "metadata": {},
   "outputs": [],
   "source": [
    "dfs = [endo, gbm, hnscc, cc, ld,colon, brca, lscc,ovar]\n",
    "names = ['Endometrial', 'Glioblastoma', 'Head and Neck', 'Renal', 'Lung Adenocarcinoma', \"Colon\", 'Breast',\"Lung Squamous\",\"Ovarian\"]\n",
    "p.figure1_plot_mutations(dfs, names, save_to_path = \"png_files/Figure3A.png\")"
   ]
  },
  {
   "cell_type": "markdown",
   "metadata": {},
   "source": [
    "# Calculate Percent of samples with Amplification mutations"
   ]
  },
  {
   "cell_type": "markdown",
   "metadata": {},
   "source": [
    "The manuscript mentions the exact percentage of EGFR amplification mutations. Here is where we derive those percentages. "
   ]
  },
  {
   "cell_type": "code",
   "execution_count": null,
   "metadata": {},
   "outputs": [],
   "source": [
    "#Calculate exact percent\n",
    "i = 0\n",
    "for cancer in dfs:\n",
    "\n",
    "    vc = cancer.Mutation.value_counts()\n",
    "    total = len(cancer)\n",
    "    cnv_amp = vc.Amplification\n",
    "    print(names[i])\n",
    "    print('total_samples:',total,'\\n')\n",
    "    print(cnv_amp,'/',total,'=', cnv_amp/total,'\\n')\n",
    "    i += 1\n",
    "   "
   ]
  },
  {
   "cell_type": "code",
   "execution_count": null,
   "metadata": {},
   "outputs": [],
   "source": [
    "brca_CNV = b.get_CNV()\n",
    "combined = brca_CNV[[\"EGFR\"]]\n",
    "combined"
   ]
  },
  {
   "cell_type": "code",
   "execution_count": null,
   "metadata": {},
   "outputs": [],
   "source": [
    "mutations_genes = \"EGFR\"\n",
    "def add_del_and_amp(row):\n",
    "            if row[mutations_genes] <= -.2:\n",
    "                mutations = row[mutations_genes+\"_Mutation\"] + ['Deletion']\n",
    "                locations = row[mutations_genes+'_Location']+['Deletion']\n",
    "\n",
    "            elif row[mutations_genes] >= .2:\n",
    "                mutations = row[mutations_genes+\"_Mutation\"] + ['Amplification']\n",
    "                locations = row[mutations_genes+'_Location']+['Amplification']\n",
    "            else:\n",
    "                mutations = row[mutations_genes+\"_Mutation\"]\n",
    "                locations = row[mutations_genes+\"_Location\"]\n",
    "\n",
    "            return mutations, locations\n",
    "\n",
    "\n",
    "#combined['mutations'], combined['locations'] = zip(*combined.apply(add_del_and_amp, axis=1))\n",
    "       "
   ]
  },
  {
   "cell_type": "markdown",
   "metadata": {},
   "source": [
    "# Check CNV numbers vs Flagship papers "
   ]
  },
  {
   "cell_type": "code",
   "execution_count": null,
   "metadata": {},
   "outputs": [],
   "source": [
    "og_b = cptac.Brca()"
   ]
  },
  {
   "cell_type": "code",
   "execution_count": null,
   "metadata": {},
   "outputs": [],
   "source": [
    "brca_cnv = b.get_CNV(source = \"washu\")\n",
    "brca_cnv = brca_cnv[[\"EGFR\"]]\n",
    "brca_cnv = brca_cnv.rename(columns = {\"EGFR\":\"EGFR_Pancan\"})\n",
    "brca_cnv"
   ]
  },
  {
   "cell_type": "code",
   "execution_count": null,
   "metadata": {},
   "outputs": [],
   "source": [
    "og_b_CNV = og_b.get_CNV()\n",
    "og_b_CNV = og_b_CNV[[\"EGFR\"]]\n",
    "og_b_CNV = og_b_CNV.rename(columns = {\"EGFR\":\"EGFR_Flagship\"})\n",
    "og_b_CNV"
   ]
  },
  {
   "cell_type": "code",
   "execution_count": null,
   "metadata": {},
   "outputs": [],
   "source": [
    "og_b_CNV.index = og_b_CNV.index.str.replace(r'X', '')\n",
    "og_b_CNV"
   ]
  },
  {
   "cell_type": "code",
   "execution_count": null,
   "metadata": {},
   "outputs": [],
   "source": [
    "import cptac.utils as ut\n",
    "both = brca_cnv.join(og_b_CNV, how = \"left\")\n",
    "drop = ['Database_ID']\n",
    "both = ut.reduce_multiindex(df=both, levels_to_drop=drop)    \n",
    "both"
   ]
  },
  {
   "cell_type": "code",
   "execution_count": null,
   "metadata": {},
   "outputs": [],
   "source": [
    "plot_pearson(both,\"EGFR_Flagship\",\"EGFR_Pancan\",title = \"BRCA\", hue = \"none\", ra_stats = False ,show_plot = True)"
   ]
  },
  {
   "cell_type": "code",
   "execution_count": null,
   "metadata": {},
   "outputs": [],
   "source": [
    "\n",
    "def add_del_and_amp(row):\n",
    "            if row[col_name] <= -.2:\n",
    "                mutations = 'Deletion'\n",
    "               \n",
    "            elif row[col_name] >= .2:\n",
    "                mutations = 'Amplification'\n",
    "               \n",
    "            else:\n",
    "                mutations = \"No_CNV_mut\"\n",
    "\n",
    "            return mutations  "
   ]
  },
  {
   "cell_type": "code",
   "execution_count": null,
   "metadata": {},
   "outputs": [],
   "source": [
    "col_name = \"EGFR_Pancan\"\n",
    "both['Pancan_CNV_status'] = (both.apply(add_del_and_amp, axis=1))\n",
    "col_name = \"EGFR_Flagship\"\n",
    "both['Flagship_CNV_status'] = (both.apply(add_del_and_amp, axis=1))\n",
    "both\n",
    "\n"
   ]
  },
  {
   "cell_type": "code",
   "execution_count": null,
   "metadata": {},
   "outputs": [],
   "source": [
    "def find_match(row):\n",
    "    if row[\"Pancan_CNV_status\"] == row[\"Flagship_CNV_status\"]:\n",
    "        match = True\n",
    "    else:\n",
    "        match = False\n",
    "            \n",
    "    return match"
   ]
  },
  {
   "cell_type": "code",
   "execution_count": null,
   "metadata": {},
   "outputs": [],
   "source": [
    "both['Match'] = (both.apply(find_match, axis=1))\n",
    "both"
   ]
  },
  {
   "cell_type": "code",
   "execution_count": null,
   "metadata": {},
   "outputs": [],
   "source": [
    "pd.set_option('display.max_rows', None)\n",
    "both['Difference'] =both[\"EGFR_Flagship\"] - both[\"EGFR_Pancan\"]\n",
    "both"
   ]
  },
  {
   "cell_type": "code",
   "execution_count": null,
   "metadata": {
    "scrolled": true
   },
   "outputs": [],
   "source": [
    "pd.set_option('display.max_rows', None)\n",
    "both_no_match = both.loc[both[\"Match\"] == False]\n",
    "\n",
    "#Cancer Type Breast: 5 no CNV flagship now Deletion. 22 were amplification and now are not \n",
    "both_no_match"
   ]
  },
  {
   "cell_type": "code",
   "execution_count": null,
   "metadata": {},
   "outputs": [],
   "source": [
    "both.Difference.mean()"
   ]
  },
  {
   "cell_type": "code",
   "execution_count": null,
   "metadata": {},
   "outputs": [],
   "source": [
    "both_no_match.Difference.mean()"
   ]
  },
  {
   "cell_type": "markdown",
   "metadata": {},
   "source": [
    "LSCC"
   ]
  },
  {
   "cell_type": "code",
   "execution_count": null,
   "metadata": {},
   "outputs": [],
   "source": [
    "og_lscc = cptac.Lscc()\n",
    "og_lscc"
   ]
  },
  {
   "cell_type": "code",
   "execution_count": null,
   "metadata": {},
   "outputs": [],
   "source": [
    "og_lscc_cnv = og_lscc.get_CNV()\n",
    "og_lscc_cnv = og_lscc_cnv[[\"EGFR\"]]\n",
    "og_lscc_cnv = og_lscc_cnv.rename(columns = {\"EGFR\":\"EGFR_Flagship\"})\n",
    "\n",
    "lscc_CNV = ls.get_CNV(source = \"washu\")\n",
    "lscc_CNV = lscc_CNV[[\"EGFR\"]]\n",
    "lscc_CNV = lscc_CNV.rename(columns = {\"EGFR\":\"EGFR_Pancan\"})\n",
    "drop = ['Database_ID']\n",
    "lscc_CNV = ut.reduce_multiindex(df=lscc_CNV, levels_to_drop=drop)    \n"
   ]
  },
  {
   "cell_type": "code",
   "execution_count": null,
   "metadata": {},
   "outputs": [],
   "source": [
    "import cptac.utils as ut\n",
    "both_lscc = lscc_CNV.join(og_lscc_cnv, how = \"left\")\n",
    "drop = ['Database_ID']\n",
    "#both_lscc = ut.reduce_multiindex(df=both_lscc, levels_to_drop=drop)    \n",
    "both_lscc"
   ]
  },
  {
   "cell_type": "code",
   "execution_count": null,
   "metadata": {},
   "outputs": [],
   "source": [
    "import pandas as pd\n",
    "import seaborn as sns\n",
    "import numpy as np\n",
    "import matplotlib.pyplot as plt\n",
    "import math as math\n",
    "import scipy.stats\n",
    "import re\n",
    "import sys\n",
    "import statsmodels.stats.multitest\n",
    "\n",
    "\n",
    "def plot_pearson(df1,x_axis, y_axis, hue = \"none\", title = \"\", ra_stats = False, x_coor= 1.0 , y_coor = 1.0, show_plot = True, pval_trunc = 5 , x_label = \"x_label\", y_label = \"y_label\", save_file_name = \"file_name\"):\n",
    "    #add option to insert own axis labels or by default \n",
    "    if x_label == \"x_label\":\n",
    "        x_label = x_axis\n",
    "    if y_label == \"y_label\":\n",
    "        y_label = y_axis\n",
    "        \n",
    "    if hue != \"none\":   \n",
    "      \n",
    "        df1_subset = df1[[x_axis,y_axis,hue]]\n",
    "        df1_subset = df1_subset.dropna(axis=0, how=\"any\")\n",
    "        count_row = df1_subset.shape[0]\n",
    "        if count_row > 30:\n",
    "            x1 = df1_subset[[x_axis]].values\n",
    "            y1 = df1_subset[[y_axis]].values\n",
    "            x1 = x1[:,0]\n",
    "            y1 = y1[:,0]\n",
    "            corr, pval = scipy.stats.pearsonr(x1,y1)\n",
    "\n",
    "            sns.set(style=\"darkgrid\")\n",
    "            plt.rcParams[\"figure.figsize\"] = (30,22)\n",
    "            graph = sns.lmplot(x= x_axis, y= y_axis, data=df1_subset, hue= hue, fit_reg=False)\n",
    "            sns.regplot(x=x1, y=y1, data=df1_subset,scatter = False)\n",
    "            plt.xlabel(x_label, fontsize=20)\n",
    "            plt.ylabel( y_label, fontsize=20)\n",
    "            graph.set(title = title)\n",
    "        else:\n",
    "            return 0\n",
    "\n",
    "    if hue == \"none\":\n",
    "        \n",
    "        df1_subset = df1[[x_axis,y_axis]]\n",
    "        df1_subset = df1_subset.dropna(axis=0, how=\"any\")\n",
    "        count_row = df1_subset.shape[0]\n",
    "        if count_row > 30:\n",
    "            x1 = df1_subset[[x_axis]].values\n",
    "            y1 = df1_subset[[y_axis]].values\n",
    "            x1 = x1[:,0]\n",
    "            y1 = y1[:,0]\n",
    "            corr, pval = scipy.stats.pearsonr(x1,y1)\n",
    "\n",
    "            sns.set(style=\"darkgrid\")\n",
    "            graph = sns.lmplot(x= x_axis, y= y_axis, data=df1_subset, fit_reg=False)\n",
    "            sns.regplot(x=x1, y=y1, data=df1_subset,scatter = False)\n",
    "            plt.title(label = title, fontsize = 30)\n",
    "            plt.xlabel(x_label, fontsize=20)\n",
    "            plt.ylabel( y_label, fontsize=20)\n",
    "            plt.xlim(right=1)  \n",
    "            plt.ylim(top = 1) \n",
    "            plt.xticks(fontsize = 17)\n",
    "            plt.yticks(fontsize = 17)\n",
    "        else:\n",
    "            return 0\n",
    "\n",
    "    if ra_stats:\n",
    "        pval = myTrunc(pval,pval_trunc)\n",
    "        corr = myTrunc(corr,3)\n",
    "        plt.text(x_coor,y_coor, \"Correlation: %s\\nPvalue: %s\"%(corr,pval), fontsize = 17)\n",
    "        \n",
    "    if save_file_name != \"file_name\":\n",
    "        plt.tight_layout()\n",
    "        plt.subplots_adjust(top=0.88)\n",
    "        plt.savefig(save_file_name+'.png', dpi = 300)\n",
    "    if show_plot:\n",
    "        \n",
    "        plt.show()\n",
    "        plt.clf()\n",
    "        plt.close()\n"
   ]
  },
  {
   "cell_type": "code",
   "execution_count": null,
   "metadata": {},
   "outputs": [],
   "source": [
    "plot_pearson(both_lscc,\"EGFR_Flagship\",\"EGFR_Pancan\",title =\"LSCC\", hue = \"none\", ra_stats = False ,show_plot = True)"
   ]
  },
  {
   "cell_type": "code",
   "execution_count": null,
   "metadata": {},
   "outputs": [],
   "source": [
    "col_name = \"EGFR_Pancan\"\n",
    "both_lscc['Pancan_CNV_status'] = (both_lscc.apply(add_del_and_amp, axis=1))\n",
    "col_name = \"EGFR_Flagship\"\n",
    "both_lscc['Flagship_CNV_status'] = (both_lscc.apply(add_del_and_amp, axis=1))\n",
    "both_lscc"
   ]
  },
  {
   "cell_type": "code",
   "execution_count": null,
   "metadata": {},
   "outputs": [],
   "source": [
    "both_lscc['Difference'] =both_lscc[\"EGFR_Flagship\"] - both_lscc[\"EGFR_Pancan\"]\n",
    "both_lscc['Match'] = (both_lscc.apply(find_match, axis=1))\n",
    "both_lscc"
   ]
  },
  {
   "cell_type": "code",
   "execution_count": null,
   "metadata": {},
   "outputs": [],
   "source": [
    "both_no_match = both_lscc.loc[both_lscc[\"Match\"] == False]\n",
    "both_no_match\n",
    "#Cancer type LSCC 16 fewer Amp from "
   ]
  },
  {
   "cell_type": "code",
   "execution_count": null,
   "metadata": {},
   "outputs": [],
   "source": [
    "print(both.Difference.mean())\n",
    "both_lscc.Difference.mean()"
   ]
  },
  {
   "cell_type": "code",
   "execution_count": null,
   "metadata": {},
   "outputs": [],
   "source": [
    "both_no_match.Difference.mean()"
   ]
  },
  {
   "cell_type": "code",
   "execution_count": null,
   "metadata": {},
   "outputs": [],
   "source": [
    "both_lscc_no"
   ]
  },
  {
   "cell_type": "markdown",
   "metadata": {},
   "source": []
  }
 ],
 "metadata": {
  "kernelspec": {
   "display_name": "Python 3",
   "language": "python",
   "name": "python3"
  },
  "language_info": {
   "codemirror_mode": {
    "name": "ipython",
    "version": 3
   },
   "file_extension": ".py",
   "mimetype": "text/x-python",
   "name": "python",
   "nbconvert_exporter": "python",
   "pygments_lexer": "ipython3",
   "version": "3.8.8"
  }
 },
 "nbformat": 4,
 "nbformat_minor": 2
}
