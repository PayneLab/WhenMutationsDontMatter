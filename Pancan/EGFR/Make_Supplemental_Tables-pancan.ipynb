{
 "cells": [
  {
   "cell_type": "markdown",
   "metadata": {},
   "source": [
    "# Make Supplemental Tables and variations"
   ]
  },
  {
   "cell_type": "markdown",
   "metadata": {},
   "source": [
    "This notebook combines dfs with p-values and correlations for 8 cancers. It makes the supplmental data table as well as the dataframes used in downstream anaylisis.  \n",
    "Description of created csv files: \n",
    "* Supplemental_Table_2  - This is the supplemental table provided with the manuscript. It has the FDR corrected p-values and correlations for all proteins, \n",
    "* Supplemental_Table_EGFR_sig_only - This is the filtered version of suppl table 1 which only has FDR significant p-values\n",
    "* all_heatmap - all data appended to make a long table for easy use with heatmap function, \n",
    "* sig_pval_heatmap - contains only significant genes in long format for heatmap, "
   ]
  },
  {
   "cell_type": "code",
   "execution_count": 1,
   "metadata": {},
   "outputs": [
    {
     "name": "stderr",
     "output_type": "stream",
     "text": [
      "/Users/Lindsey/anaconda3/lib/python3.7/site-packages/statsmodels/tools/_testing.py:19: FutureWarning: pandas.util.testing is deprecated. Use the functions in the public API at pandas.testing instead.\n",
      "  import pandas.util.testing as tm\n"
     ]
    }
   ],
   "source": [
    "import pandas as pd\n",
    "import numpy as np\n",
    "import seaborn as sns\n",
    "import matplotlib.pyplot as plt\n",
    "import scipy.stats\n",
    "import gseapy as gp\n",
    "import re\n",
    "import sys \n"
   ]
  },
  {
   "cell_type": "markdown",
   "metadata": {},
   "source": [
    "Read in the single cancer dfs with FDR corrected p-values and correlation values. Merge all dfs into one pancancer data frame."
   ]
  },
  {
   "cell_type": "code",
   "execution_count": 3,
   "metadata": {},
   "outputs": [],
   "source": [
    "Gbm_df = pd.read_csv('csv_files/trans_effects_all_prot_fdr_corrected_GBM')\n",
    "Hnscc_df = pd.read_csv('csv_files/trans_effects_all_prot_fdr_corrected_HNSCC')\n",
    "Luad_df = pd.read_csv('csv_files/trans_effects_all_prot_fdr_corrected_LUAD')\n",
    "Lscc_df = pd.read_csv('csv_files/trans_effects_all_prot_fdr_corrected_LSCC')\n",
    "Brca_df = pd.read_csv('csv_files/trans_effects_all_prot_fdr_corrected_BR')\n",
    "#Ovarian_df = pd.read_csv('csv_files/trans_effects_all_prot_fdr_corrected_OV')\n",
    "#Colon_df = pd.read_csv('csv_files/trans_effects_all_prot_fdr_corrected_CO')\n",
    "Kidney_df = pd.read_csv('csv_files/trans_effects_all_prot_fdr_corrected_ccRCC')\n"
   ]
  },
  {
   "cell_type": "markdown",
   "metadata": {},
   "source": [
    "# Make Supplemental Table 2"
   ]
  },
  {
   "cell_type": "markdown",
   "metadata": {},
   "source": [
    "Merge all cancer data frames into one wide data frame"
   ]
  },
  {
   "cell_type": "code",
   "execution_count": 4,
   "metadata": {},
   "outputs": [
    {
     "data": {
      "text/html": [
       "<div>\n",
       "<style scoped>\n",
       "    .dataframe tbody tr th:only-of-type {\n",
       "        vertical-align: middle;\n",
       "    }\n",
       "\n",
       "    .dataframe tbody tr th {\n",
       "        vertical-align: top;\n",
       "    }\n",
       "\n",
       "    .dataframe thead th {\n",
       "        text-align: right;\n",
       "    }\n",
       "</style>\n",
       "<table border=\"1\" class=\"dataframe\">\n",
       "  <thead>\n",
       "    <tr style=\"text-align: right;\">\n",
       "      <th></th>\n",
       "      <th>Comparison</th>\n",
       "      <th>Correlation_GBM</th>\n",
       "      <th>P_value_GBM</th>\n",
       "      <th>Correlation_ccRCC</th>\n",
       "      <th>P_value_ccRCC</th>\n",
       "      <th>Correlation_LUAD</th>\n",
       "      <th>P_value_LUAD</th>\n",
       "      <th>Correlation_LSCC</th>\n",
       "      <th>P_value_LSCC</th>\n",
       "      <th>Correlation_BR</th>\n",
       "      <th>P_value_BR</th>\n",
       "      <th>Correlation_HNSCC</th>\n",
       "      <th>P_value_HNSCC</th>\n",
       "    </tr>\n",
       "  </thead>\n",
       "  <tbody>\n",
       "    <tr>\n",
       "      <th>1</th>\n",
       "      <td>PHLDA1</td>\n",
       "      <td>0.789551</td>\n",
       "      <td>9.649849e-19</td>\n",
       "      <td>0.180866</td>\n",
       "      <td>0.249285</td>\n",
       "      <td>0.261161</td>\n",
       "      <td>0.058276</td>\n",
       "      <td>0.682116</td>\n",
       "      <td>1.398013e-12</td>\n",
       "      <td>0.212226</td>\n",
       "      <td>0.066258</td>\n",
       "      <td>0.583064</td>\n",
       "      <td>1.395609e-08</td>\n",
       "    </tr>\n",
       "    <tr>\n",
       "      <th>2</th>\n",
       "      <td>CDH4</td>\n",
       "      <td>0.656331</td>\n",
       "      <td>4.744022e-10</td>\n",
       "      <td>0.015524</td>\n",
       "      <td>0.965357</td>\n",
       "      <td>NaN</td>\n",
       "      <td>NaN</td>\n",
       "      <td>NaN</td>\n",
       "      <td>NaN</td>\n",
       "      <td>NaN</td>\n",
       "      <td>NaN</td>\n",
       "      <td>NaN</td>\n",
       "      <td>NaN</td>\n",
       "    </tr>\n",
       "    <tr>\n",
       "      <th>3</th>\n",
       "      <td>GRB2</td>\n",
       "      <td>-0.589008</td>\n",
       "      <td>3.310325e-07</td>\n",
       "      <td>-0.245694</td>\n",
       "      <td>0.081461</td>\n",
       "      <td>-0.265172</td>\n",
       "      <td>0.054181</td>\n",
       "      <td>-0.098621</td>\n",
       "      <td>5.999783e-01</td>\n",
       "      <td>-0.168101</td>\n",
       "      <td>0.160235</td>\n",
       "      <td>-0.481605</td>\n",
       "      <td>2.053150e-05</td>\n",
       "    </tr>\n",
       "    <tr>\n",
       "      <th>4</th>\n",
       "      <td>PHLDA3</td>\n",
       "      <td>0.561528</td>\n",
       "      <td>2.006861e-06</td>\n",
       "      <td>0.364164</td>\n",
       "      <td>0.005159</td>\n",
       "      <td>0.216646</td>\n",
       "      <td>0.131629</td>\n",
       "      <td>0.651618</td>\n",
       "      <td>5.103796e-11</td>\n",
       "      <td>0.152625</td>\n",
       "      <td>0.207694</td>\n",
       "      <td>0.693125</td>\n",
       "      <td>2.351012e-14</td>\n",
       "    </tr>\n",
       "    <tr>\n",
       "      <th>5</th>\n",
       "      <td>GLA</td>\n",
       "      <td>-0.562315</td>\n",
       "      <td>2.006861e-06</td>\n",
       "      <td>-0.273040</td>\n",
       "      <td>0.047412</td>\n",
       "      <td>0.213431</td>\n",
       "      <td>0.138822</td>\n",
       "      <td>0.006542</td>\n",
       "      <td>9.809384e-01</td>\n",
       "      <td>-0.000452</td>\n",
       "      <td>0.997917</td>\n",
       "      <td>0.019987</td>\n",
       "      <td>9.161161e-01</td>\n",
       "    </tr>\n",
       "  </tbody>\n",
       "</table>\n",
       "</div>"
      ],
      "text/plain": [
       "  Comparison  Correlation_GBM   P_value_GBM  Correlation_ccRCC  P_value_ccRCC  \\\n",
       "1     PHLDA1         0.789551  9.649849e-19           0.180866       0.249285   \n",
       "2       CDH4         0.656331  4.744022e-10           0.015524       0.965357   \n",
       "3       GRB2        -0.589008  3.310325e-07          -0.245694       0.081461   \n",
       "4     PHLDA3         0.561528  2.006861e-06           0.364164       0.005159   \n",
       "5        GLA        -0.562315  2.006861e-06          -0.273040       0.047412   \n",
       "\n",
       "   Correlation_LUAD  P_value_LUAD  Correlation_LSCC  P_value_LSCC  \\\n",
       "1          0.261161      0.058276          0.682116  1.398013e-12   \n",
       "2               NaN           NaN               NaN           NaN   \n",
       "3         -0.265172      0.054181         -0.098621  5.999783e-01   \n",
       "4          0.216646      0.131629          0.651618  5.103796e-11   \n",
       "5          0.213431      0.138822          0.006542  9.809384e-01   \n",
       "\n",
       "   Correlation_BR  P_value_BR  Correlation_HNSCC  P_value_HNSCC  \n",
       "1        0.212226    0.066258           0.583064   1.395609e-08  \n",
       "2             NaN         NaN                NaN            NaN  \n",
       "3       -0.168101    0.160235          -0.481605   2.053150e-05  \n",
       "4        0.152625    0.207694           0.693125   2.351012e-14  \n",
       "5       -0.000452    0.997917           0.019987   9.161161e-01  "
      ]
     },
     "execution_count": 4,
     "metadata": {},
     "output_type": "execute_result"
    }
   ],
   "source": [
    "pancan = pd.merge(Gbm_df, Kidney_df, on=\"Comparison\", how = \"outer\")\n",
    "#pancan = pd.merge(pancan, Ovarian_df, on=\"Comparison\", how = \"outer\")\n",
    "pancan = pd.merge(pancan, Luad_df, on=\"Comparison\", how = \"outer\")\n",
    "pancan = pd.merge(pancan, Lscc_df, on=\"Comparison\", how = \"outer\")\n",
    "pancan = pd.merge(pancan, Brca_df, on=\"Comparison\", how = \"outer\")\n",
    "#pancan = pd.merge(pancan, Colon_df, on=\"Comparison\", how = \"outer\")\n",
    "pancan = pd.merge(pancan, Hnscc_df, on=\"Comparison\", how = \"outer\")\n",
    "pancan = pancan[1:]\n",
    "pancan.to_csv('csv_files/Supplemental_Table_2.csv', index=False)\n",
    "pancan.head()"
   ]
  },
  {
   "cell_type": "markdown",
   "metadata": {},
   "source": [
    "# Make Supplemental_Table_EGFR_sig_only"
   ]
  },
  {
   "cell_type": "code",
   "execution_count": 6,
   "metadata": {},
   "outputs": [],
   "source": [
    "Gbm_df_sig =Gbm_df.loc[(Gbm_df[\"P_value_GBM\"] <= 0.05)]\n",
    "Kidney_df_sig =Kidney_df.loc[(Kidney_df[\"P_value_ccRCC\"] <= 0.05)]\n",
    "#Colon_df_sig =Colon_df.loc[(Colon_df[\"P_value_CO\"] <= 0.05)]\n",
    "#Ovarian_df_sig =Ovarian_df.loc[(Ovarian_df[\"P_value_OV\"] <= 0.05)]\n",
    "Luad_df_sig =Luad_df.loc[(Luad_df[\"P_value_LUAD\"] <= 0.05)]\n",
    "Lscc_df_sig =Lscc_df.loc[(Lscc_df[\"P_value_LSCC\"] <= 0.05)]\n",
    "Brca_df_sig =Brca_df.loc[(Brca_df[\"P_value_BR\"] <= 0.05)]\n",
    "Hnscc_df_sig =Hnscc_df.loc[(Hnscc_df[\"P_value_HNSCC\"] <= 0.05)]"
   ]
  },
  {
   "cell_type": "code",
   "execution_count": 8,
   "metadata": {},
   "outputs": [],
   "source": [
    "pancan = pd.merge(Gbm_df_sig, Kidney_df_sig, on=\"Comparison\", how = \"outer\")\n",
    "#pancan = pd.merge(pancan, Ovarian_df_sig, on=\"Comparison\", how = \"outer\")\n",
    "pancan = pd.merge(pancan, Luad_df_sig, on=\"Comparison\", how = \"outer\")\n",
    "pancan = pd.merge(pancan, Lscc_df_sig, on=\"Comparison\", how = \"outer\")\n",
    "pancan = pd.merge(pancan, Brca_df_sig, on=\"Comparison\", how = \"outer\")\n",
    "#pancan = pd.merge(pancan, Colon_df_sig, on=\"Comparison\", how = \"outer\")\n",
    "pancan = pd.merge(pancan, Hnscc_df_sig, on=\"Comparison\", how = \"outer\")\n",
    "pancan = pancan[1:]\n",
    "pancan.to_csv('csv_files/Supplemental_Table_EGFR_sig_only.csv', index=False)\n"
   ]
  },
  {
   "cell_type": "markdown",
   "metadata": {},
   "source": [
    "# Make All Heatmap"
   ]
  },
  {
   "cell_type": "code",
   "execution_count": 9,
   "metadata": {},
   "outputs": [],
   "source": [
    "# Create long df for heatmap\n",
    "\n",
    "cancer = ['GBM','HNSCC','LSCC','LUAD','BR','ccRCC']\n",
    "merged_dfs = [Gbm_df,Hnscc_df,Lscc_df,Luad_df,Brca_df,Kidney_df]\n",
    "\n",
    "all_long_df = pd.DataFrame()\n",
    "i = 0\n",
    "for c in cancer:\n",
    "    m = merged_dfs[i]\n",
    "    m2 = m.assign(Cancer = c)\n",
    "    m2 = m2.rename(columns={'P_value_' + c: 'P_Value'})\n",
    "    m2 = m2.rename(columns={'Correlation_' + c: 'Correlation'})\n",
    "    all_long_df = all_long_df.append(m2) \n",
    "    if i < 7:\n",
    "        i += 1\n",
    "        \n"
   ]
  },
  {
   "cell_type": "code",
   "execution_count": 10,
   "metadata": {},
   "outputs": [
    {
     "data": {
      "text/html": [
       "<div>\n",
       "<style scoped>\n",
       "    .dataframe tbody tr th:only-of-type {\n",
       "        vertical-align: middle;\n",
       "    }\n",
       "\n",
       "    .dataframe tbody tr th {\n",
       "        vertical-align: top;\n",
       "    }\n",
       "\n",
       "    .dataframe thead th {\n",
       "        text-align: right;\n",
       "    }\n",
       "</style>\n",
       "<table border=\"1\" class=\"dataframe\">\n",
       "  <thead>\n",
       "    <tr style=\"text-align: right;\">\n",
       "      <th></th>\n",
       "      <th>Comparison</th>\n",
       "      <th>Correlation</th>\n",
       "      <th>P_Value</th>\n",
       "      <th>Cancer</th>\n",
       "    </tr>\n",
       "  </thead>\n",
       "  <tbody>\n",
       "    <tr>\n",
       "      <th>0</th>\n",
       "      <td>EGFR</td>\n",
       "      <td>1.000000</td>\n",
       "      <td>0.000000e+00</td>\n",
       "      <td>GBM</td>\n",
       "    </tr>\n",
       "    <tr>\n",
       "      <th>1</th>\n",
       "      <td>PHLDA1</td>\n",
       "      <td>0.789551</td>\n",
       "      <td>9.649849e-19</td>\n",
       "      <td>GBM</td>\n",
       "    </tr>\n",
       "    <tr>\n",
       "      <th>2</th>\n",
       "      <td>CDH4</td>\n",
       "      <td>0.656331</td>\n",
       "      <td>4.744022e-10</td>\n",
       "      <td>GBM</td>\n",
       "    </tr>\n",
       "    <tr>\n",
       "      <th>3</th>\n",
       "      <td>GRB2</td>\n",
       "      <td>-0.589008</td>\n",
       "      <td>3.310325e-07</td>\n",
       "      <td>GBM</td>\n",
       "    </tr>\n",
       "    <tr>\n",
       "      <th>4</th>\n",
       "      <td>PHLDA3</td>\n",
       "      <td>0.561528</td>\n",
       "      <td>2.006861e-06</td>\n",
       "      <td>GBM</td>\n",
       "    </tr>\n",
       "    <tr>\n",
       "      <th>...</th>\n",
       "      <td>...</td>\n",
       "      <td>...</td>\n",
       "      <td>...</td>\n",
       "      <td>...</td>\n",
       "    </tr>\n",
       "    <tr>\n",
       "      <th>10081</th>\n",
       "      <td>YBX1</td>\n",
       "      <td>0.000072</td>\n",
       "      <td>9.997098e-01</td>\n",
       "      <td>ccRCC</td>\n",
       "    </tr>\n",
       "    <tr>\n",
       "      <th>10082</th>\n",
       "      <td>RPS29</td>\n",
       "      <td>0.000111</td>\n",
       "      <td>9.997098e-01</td>\n",
       "      <td>ccRCC</td>\n",
       "    </tr>\n",
       "    <tr>\n",
       "      <th>10083</th>\n",
       "      <td>KLF13</td>\n",
       "      <td>-0.000102</td>\n",
       "      <td>9.997098e-01</td>\n",
       "      <td>ccRCC</td>\n",
       "    </tr>\n",
       "    <tr>\n",
       "      <th>10084</th>\n",
       "      <td>HEATR3</td>\n",
       "      <td>0.000043</td>\n",
       "      <td>9.997470e-01</td>\n",
       "      <td>ccRCC</td>\n",
       "    </tr>\n",
       "    <tr>\n",
       "      <th>10085</th>\n",
       "      <td>PTRHD1</td>\n",
       "      <td>-0.000027</td>\n",
       "      <td>9.997795e-01</td>\n",
       "      <td>ccRCC</td>\n",
       "    </tr>\n",
       "  </tbody>\n",
       "</table>\n",
       "<p>67318 rows × 4 columns</p>\n",
       "</div>"
      ],
      "text/plain": [
       "      Comparison  Correlation       P_Value Cancer\n",
       "0           EGFR     1.000000  0.000000e+00    GBM\n",
       "1         PHLDA1     0.789551  9.649849e-19    GBM\n",
       "2           CDH4     0.656331  4.744022e-10    GBM\n",
       "3           GRB2    -0.589008  3.310325e-07    GBM\n",
       "4         PHLDA3     0.561528  2.006861e-06    GBM\n",
       "...          ...          ...           ...    ...\n",
       "10081       YBX1     0.000072  9.997098e-01  ccRCC\n",
       "10082      RPS29     0.000111  9.997098e-01  ccRCC\n",
       "10083      KLF13    -0.000102  9.997098e-01  ccRCC\n",
       "10084     HEATR3     0.000043  9.997470e-01  ccRCC\n",
       "10085     PTRHD1    -0.000027  9.997795e-01  ccRCC\n",
       "\n",
       "[67318 rows x 4 columns]"
      ]
     },
     "execution_count": 10,
     "metadata": {},
     "output_type": "execute_result"
    }
   ],
   "source": [
    "all_long_df.to_csv('csv_files/all_prot_heatmap_EGFR.csv', index=False)\n",
    "all_long_df"
   ]
  },
  {
   "cell_type": "markdown",
   "metadata": {},
   "source": [
    "# Significant P values of Heatmap df "
   ]
  },
  {
   "cell_type": "code",
   "execution_count": 11,
   "metadata": {},
   "outputs": [],
   "source": [
    "only_sig_pvals = all_long_df.loc[(all_long_df[\"P_Value\"] <= 0.05)]\n",
    "only_sig_pvals.to_csv('csv_files/sig_prot_heatmap_EGFR.csv', index=False)"
   ]
  },
  {
   "cell_type": "markdown",
   "metadata": {},
   "source": []
  },
  {
   "cell_type": "code",
   "execution_count": null,
   "metadata": {},
   "outputs": [],
   "source": []
  },
  {
   "cell_type": "code",
   "execution_count": null,
   "metadata": {},
   "outputs": [],
   "source": []
  },
  {
   "cell_type": "code",
   "execution_count": null,
   "metadata": {},
   "outputs": [],
   "source": []
  }
 ],
 "metadata": {
  "kernelspec": {
   "display_name": "Python 3",
   "language": "python",
   "name": "python3"
  },
  "language_info": {
   "codemirror_mode": {
    "name": "ipython",
    "version": 3
   },
   "file_extension": ".py",
   "mimetype": "text/x-python",
   "name": "python",
   "nbconvert_exporter": "python",
   "pygments_lexer": "ipython3",
   "version": "3.7.3"
  }
 },
 "nbformat": 4,
 "nbformat_minor": 2
}
