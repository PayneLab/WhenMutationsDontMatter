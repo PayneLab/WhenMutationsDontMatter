{
 "cells": [
  {
   "cell_type": "markdown",
   "metadata": {},
   "source": [
    "# Make aliquot_to_patient_ID mapping file (Proteomics)"
   ]
  },
  {
   "cell_type": "code",
   "execution_count": 3,
   "metadata": {},
   "outputs": [],
   "source": [
    "import pandas as pd\n",
    "import numpy as np"
   ]
  },
  {
   "cell_type": "markdown",
   "metadata": {},
   "source": [
    "# Get mapper for ids"
   ]
  },
  {
   "cell_type": "markdown",
   "metadata": {},
   "source": [
    "Create a df that maps aliquot Ids (Ex: CPT0001580009) to sample IDs (Ex: C3L-00001-02) which are known to be tumor or normal samples. Then sample IDs are mapped to case IDs (Ex: C3L-00001) which we call Patient_ID."
   ]
  },
  {
   "cell_type": "code",
   "execution_count": 7,
   "metadata": {},
   "outputs": [],
   "source": [
    "mapper_1 = \"pdc_aliquot_2021-03-02_15_58.tsv.xlsx\" \n",
    "m_path = \"../../../input/\"+mapper_1"
   ]
  },
  {
   "cell_type": "code",
   "execution_count": 8,
   "metadata": {},
   "outputs": [
    {
     "data": {
      "text/html": [
       "<div>\n",
       "<style scoped>\n",
       "    .dataframe tbody tr th:only-of-type {\n",
       "        vertical-align: middle;\n",
       "    }\n",
       "\n",
       "    .dataframe tbody tr th {\n",
       "        vertical-align: top;\n",
       "    }\n",
       "\n",
       "    .dataframe thead th {\n",
       "        text-align: right;\n",
       "    }\n",
       "</style>\n",
       "<table border=\"1\" class=\"dataframe\">\n",
       "  <thead>\n",
       "    <tr style=\"text-align: right;\">\n",
       "      <th></th>\n",
       "      <th>type</th>\n",
       "      <th>project_id</th>\n",
       "      <th>submitter_id</th>\n",
       "      <th>samples.submitter_id#1</th>\n",
       "      <th>samples.submitter_id#2</th>\n",
       "      <th>samples.submitter_id#3</th>\n",
       "      <th>samples.submitter_id#4</th>\n",
       "      <th>samples.submitter_id#5</th>\n",
       "      <th>analyte_type</th>\n",
       "    </tr>\n",
       "  </thead>\n",
       "  <tbody>\n",
       "    <tr>\n",
       "      <th>0</th>\n",
       "      <td>aliquot</td>\n",
       "      <td>CPTAC-3</td>\n",
       "      <td>CPT0053040004</td>\n",
       "      <td>9f905736-f662-41d6-b3ac-16758d</td>\n",
       "      <td></td>\n",
       "      <td></td>\n",
       "      <td></td>\n",
       "      <td></td>\n",
       "      <td>protein</td>\n",
       "    </tr>\n",
       "    <tr>\n",
       "      <th>1</th>\n",
       "      <td>aliquot</td>\n",
       "      <td>CPTAC-3</td>\n",
       "      <td>CPT0052940004</td>\n",
       "      <td>93e30fd5-e57e-4503-a175-863c7d</td>\n",
       "      <td></td>\n",
       "      <td></td>\n",
       "      <td></td>\n",
       "      <td></td>\n",
       "      <td>protein</td>\n",
       "    </tr>\n",
       "    <tr>\n",
       "      <th>2</th>\n",
       "      <td>aliquot</td>\n",
       "      <td>CPTAC-3</td>\n",
       "      <td>CPT0052170004</td>\n",
       "      <td>5a84eae1-197e-4463-ad65-59becc</td>\n",
       "      <td></td>\n",
       "      <td></td>\n",
       "      <td></td>\n",
       "      <td></td>\n",
       "      <td>protein</td>\n",
       "    </tr>\n",
       "    <tr>\n",
       "      <th>3</th>\n",
       "      <td>aliquot</td>\n",
       "      <td>CPTAC-3</td>\n",
       "      <td>CPT0051690004</td>\n",
       "      <td>2f2e5477-42a4-4906-a943-bf7f80</td>\n",
       "      <td></td>\n",
       "      <td></td>\n",
       "      <td></td>\n",
       "      <td></td>\n",
       "      <td>protein</td>\n",
       "    </tr>\n",
       "    <tr>\n",
       "      <th>4</th>\n",
       "      <td>aliquot</td>\n",
       "      <td>CPTAC-3</td>\n",
       "      <td>CPT0001580009</td>\n",
       "      <td>C3L-00001-02</td>\n",
       "      <td></td>\n",
       "      <td></td>\n",
       "      <td></td>\n",
       "      <td></td>\n",
       "      <td>protein</td>\n",
       "    </tr>\n",
       "    <tr>\n",
       "      <th>...</th>\n",
       "      <td>...</td>\n",
       "      <td>...</td>\n",
       "      <td>...</td>\n",
       "      <td>...</td>\n",
       "      <td>...</td>\n",
       "      <td>...</td>\n",
       "      <td>...</td>\n",
       "      <td>...</td>\n",
       "      <td>...</td>\n",
       "    </tr>\n",
       "    <tr>\n",
       "      <th>3070</th>\n",
       "      <td>aliquot</td>\n",
       "      <td>CPTAC-3</td>\n",
       "      <td>CPT032238 0003</td>\n",
       "      <td>C3N-05923-01</td>\n",
       "      <td></td>\n",
       "      <td></td>\n",
       "      <td></td>\n",
       "      <td></td>\n",
       "      <td>protein</td>\n",
       "    </tr>\n",
       "    <tr>\n",
       "      <th>3071</th>\n",
       "      <td>aliquot</td>\n",
       "      <td>CPTAC-3</td>\n",
       "      <td>CPT032239 0003</td>\n",
       "      <td>C3N-05923-09</td>\n",
       "      <td></td>\n",
       "      <td></td>\n",
       "      <td></td>\n",
       "      <td></td>\n",
       "      <td>protein</td>\n",
       "    </tr>\n",
       "    <tr>\n",
       "      <th>3072</th>\n",
       "      <td>aliquot</td>\n",
       "      <td>CPTAC-3</td>\n",
       "      <td>CPT032253 0003</td>\n",
       "      <td>C3N-05929-03</td>\n",
       "      <td></td>\n",
       "      <td></td>\n",
       "      <td></td>\n",
       "      <td></td>\n",
       "      <td>protein</td>\n",
       "    </tr>\n",
       "    <tr>\n",
       "      <th>3073</th>\n",
       "      <td>aliquot</td>\n",
       "      <td>CPTAC-3</td>\n",
       "      <td>CPT032254 0003</td>\n",
       "      <td>C3N-05929-05</td>\n",
       "      <td></td>\n",
       "      <td></td>\n",
       "      <td></td>\n",
       "      <td></td>\n",
       "      <td>protein</td>\n",
       "    </tr>\n",
       "    <tr>\n",
       "      <th>3074</th>\n",
       "      <td>aliquot</td>\n",
       "      <td>CPTAC-3</td>\n",
       "      <td>CPT037855 0003</td>\n",
       "      <td>C3N-05991-01</td>\n",
       "      <td></td>\n",
       "      <td></td>\n",
       "      <td></td>\n",
       "      <td></td>\n",
       "      <td>protein</td>\n",
       "    </tr>\n",
       "  </tbody>\n",
       "</table>\n",
       "<p>3075 rows × 9 columns</p>\n",
       "</div>"
      ],
      "text/plain": [
       "         type project_id    submitter_id          samples.submitter_id#1  \\\n",
       "0     aliquot    CPTAC-3   CPT0053040004  9f905736-f662-41d6-b3ac-16758d   \n",
       "1     aliquot    CPTAC-3   CPT0052940004  93e30fd5-e57e-4503-a175-863c7d   \n",
       "2     aliquot    CPTAC-3   CPT0052170004  5a84eae1-197e-4463-ad65-59becc   \n",
       "3     aliquot    CPTAC-3   CPT0051690004  2f2e5477-42a4-4906-a943-bf7f80   \n",
       "4     aliquot    CPTAC-3   CPT0001580009                    C3L-00001-02   \n",
       "...       ...        ...             ...                             ...   \n",
       "3070  aliquot    CPTAC-3  CPT032238 0003                    C3N-05923-01   \n",
       "3071  aliquot    CPTAC-3  CPT032239 0003                    C3N-05923-09   \n",
       "3072  aliquot    CPTAC-3  CPT032253 0003                    C3N-05929-03   \n",
       "3073  aliquot    CPTAC-3  CPT032254 0003                    C3N-05929-05   \n",
       "3074  aliquot    CPTAC-3  CPT037855 0003                    C3N-05991-01   \n",
       "\n",
       "     samples.submitter_id#2 samples.submitter_id#3 samples.submitter_id#4  \\\n",
       "0                                                                           \n",
       "1                                                                           \n",
       "2                                                                           \n",
       "3                                                                           \n",
       "4                                                                           \n",
       "...                     ...                    ...                    ...   \n",
       "3070                                                                        \n",
       "3071                                                                        \n",
       "3072                                                                        \n",
       "3073                                                                        \n",
       "3074                                                                        \n",
       "\n",
       "     samples.submitter_id#5 analyte_type  \n",
       "0                                protein  \n",
       "1                                protein  \n",
       "2                                protein  \n",
       "3                                protein  \n",
       "4                                protein  \n",
       "...                     ...          ...  \n",
       "3070                             protein  \n",
       "3071                             protein  \n",
       "3072                             protein  \n",
       "3073                             protein  \n",
       "3074                             protein  \n",
       "\n",
       "[3075 rows x 9 columns]"
      ]
     },
     "execution_count": 8,
     "metadata": {},
     "output_type": "execute_result"
    }
   ],
   "source": [
    "map_df = pd.read_excel(m_path, na_values = 'NA')\n",
    "map_df"
   ]
  },
  {
   "cell_type": "code",
   "execution_count": 9,
   "metadata": {},
   "outputs": [],
   "source": [
    "# remove spaces (aliquot IDs with a space or without a space are the same -Mathangi email)\n",
    "map_df['submitter_id'] = map_df['submitter_id'].replace(\" \", \"\", regex = True)"
   ]
  },
  {
   "cell_type": "code",
   "execution_count": 10,
   "metadata": {},
   "outputs": [],
   "source": [
    "# Use samples.submitter_id#1 because it always has a value and represents the type of sample for any run in the aliquot \n",
    "# (each row is either tumor or normal in pdc_aliquot_2021-03-02_15_58.tsv) \n",
    "\n",
    "map_df = map_df.rename(columns = {'submitter_id':'aliquot_ID', 'samples.submitter_id#1':'sample_ID',\n",
    "                                      'samples.submitter_id#2':'2', 'samples.submitter_id#3':'3',\n",
    "                                       'samples.submitter_id#4':'4', 'samples.submitter_id#5':'5'})"
   ]
  },
  {
   "cell_type": "code",
   "execution_count": 11,
   "metadata": {},
   "outputs": [
    {
     "name": "stderr",
     "output_type": "stream",
     "text": [
      "<ipython-input-11-8b173d374f8c>:3: FutureWarning: This dataframe has a column name that matches the 'value_name' column name of the resulting Dataframe. In the future this will raise an error, please set the 'value_name' parameter of DataFrame.melt to a unique name.\n",
      "  melted = map_df.melt(id_vars = 'aliquot_ID', value_name = 'sample_ID')\n"
     ]
    },
    {
     "data": {
      "text/html": [
       "<div>\n",
       "<style scoped>\n",
       "    .dataframe tbody tr th:only-of-type {\n",
       "        vertical-align: middle;\n",
       "    }\n",
       "\n",
       "    .dataframe tbody tr th {\n",
       "        vertical-align: top;\n",
       "    }\n",
       "\n",
       "    .dataframe thead th {\n",
       "        text-align: right;\n",
       "    }\n",
       "</style>\n",
       "<table border=\"1\" class=\"dataframe\">\n",
       "  <thead>\n",
       "    <tr style=\"text-align: right;\">\n",
       "      <th></th>\n",
       "      <th>aliquot_ID</th>\n",
       "      <th>sample_ID</th>\n",
       "    </tr>\n",
       "  </thead>\n",
       "  <tbody>\n",
       "    <tr>\n",
       "      <th>0</th>\n",
       "      <td>CPT0053040004</td>\n",
       "      <td>9f905736-f662-41d6-b3ac-16758d</td>\n",
       "    </tr>\n",
       "    <tr>\n",
       "      <th>1</th>\n",
       "      <td>CPT0052940004</td>\n",
       "      <td>93e30fd5-e57e-4503-a175-863c7d</td>\n",
       "    </tr>\n",
       "    <tr>\n",
       "      <th>2</th>\n",
       "      <td>CPT0052170004</td>\n",
       "      <td>5a84eae1-197e-4463-ad65-59becc</td>\n",
       "    </tr>\n",
       "    <tr>\n",
       "      <th>3</th>\n",
       "      <td>CPT0051690004</td>\n",
       "      <td>2f2e5477-42a4-4906-a943-bf7f80</td>\n",
       "    </tr>\n",
       "    <tr>\n",
       "      <th>4</th>\n",
       "      <td>CPT0001580009</td>\n",
       "      <td>C3L-00001-02</td>\n",
       "    </tr>\n",
       "    <tr>\n",
       "      <th>...</th>\n",
       "      <td>...</td>\n",
       "      <td>...</td>\n",
       "    </tr>\n",
       "    <tr>\n",
       "      <th>10498</th>\n",
       "      <td>CPT0265630004</td>\n",
       "      <td>C3L-04090-04</td>\n",
       "    </tr>\n",
       "    <tr>\n",
       "      <th>11352</th>\n",
       "      <td>CPT0117010004</td>\n",
       "      <td>C3N-01871-04</td>\n",
       "    </tr>\n",
       "    <tr>\n",
       "      <th>13296</th>\n",
       "      <td>CPT0192540004</td>\n",
       "      <td>C3L-02665-05</td>\n",
       "    </tr>\n",
       "    <tr>\n",
       "      <th>13429</th>\n",
       "      <td>CPT0190360004</td>\n",
       "      <td>C3L-03407-05</td>\n",
       "    </tr>\n",
       "    <tr>\n",
       "      <th>13430</th>\n",
       "      <td>CPT0190360012</td>\n",
       "      <td>C3L-03407-05</td>\n",
       "    </tr>\n",
       "  </tbody>\n",
       "</table>\n",
       "<p>3418 rows × 2 columns</p>\n",
       "</div>"
      ],
      "text/plain": [
       "          aliquot_ID                       sample_ID\n",
       "0      CPT0053040004  9f905736-f662-41d6-b3ac-16758d\n",
       "1      CPT0052940004  93e30fd5-e57e-4503-a175-863c7d\n",
       "2      CPT0052170004  5a84eae1-197e-4463-ad65-59becc\n",
       "3      CPT0051690004  2f2e5477-42a4-4906-a943-bf7f80\n",
       "4      CPT0001580009                    C3L-00001-02\n",
       "...              ...                             ...\n",
       "10498  CPT0265630004                    C3L-04090-04\n",
       "11352  CPT0117010004                    C3N-01871-04\n",
       "13296  CPT0192540004                    C3L-02665-05\n",
       "13429  CPT0190360004                    C3L-03407-05\n",
       "13430  CPT0190360012                    C3L-03407-05\n",
       "\n",
       "[3418 rows x 2 columns]"
      ]
     },
     "execution_count": 11,
     "metadata": {},
     "output_type": "execute_result"
    }
   ],
   "source": [
    "# append all sample.submitters (sample_ID col) \n",
    "map_df = map_df.drop(columns = ['type','project_id','analyte_type']) # only for protein, need to get files for phospho\n",
    "melted = map_df.melt(id_vars = 'aliquot_ID', value_name = 'sample_ID')\n",
    "all_vals = melted.loc[melted.sample_ID != ' '] # drop empty vals for samples\n",
    "map_df_1 = all_vals[['aliquot_ID','sample_ID']]\n",
    "map_df_1"
   ]
  },
  {
   "cell_type": "code",
   "execution_count": 12,
   "metadata": {},
   "outputs": [
    {
     "data": {
      "text/plain": [
       "False    2870\n",
       "True      548\n",
       "Name: sample_ID, dtype: int64"
      ]
     },
     "execution_count": 12,
     "metadata": {},
     "output_type": "execute_result"
    }
   ],
   "source": [
    "map_df_1.sample_ID.duplicated().value_counts() #unique values for sample_IDs equals the number of sample_IDs in the pdc_sample file"
   ]
  },
  {
   "cell_type": "code",
   "execution_count": 17,
   "metadata": {},
   "outputs": [
    {
     "data": {
      "text/plain": [
       "False    3075\n",
       "True      343\n",
       "Name: aliquot_ID, dtype: int64"
      ]
     },
     "execution_count": 17,
     "metadata": {},
     "output_type": "execute_result"
    }
   ],
   "source": [
    "map_df_1.aliquot_ID.duplicated().value_counts() #some duplicate sample_IDs have different aliquots"
   ]
  },
  {
   "cell_type": "markdown",
   "metadata": {},
   "source": [
    "Get df using sample IDs as the index to merge with."
   ]
  },
  {
   "cell_type": "code",
   "execution_count": 13,
   "metadata": {},
   "outputs": [],
   "source": [
    "mapper_2 = 'pdc_sample_2021-03-05_16_43.tsv.txt'\n",
    "m_path_2 = \"../../../input/\"+mapper_2"
   ]
  },
  {
   "cell_type": "code",
   "execution_count": 15,
   "metadata": {},
   "outputs": [
    {
     "data": {
      "text/html": [
       "<div>\n",
       "<style scoped>\n",
       "    .dataframe tbody tr th:only-of-type {\n",
       "        vertical-align: middle;\n",
       "    }\n",
       "\n",
       "    .dataframe tbody tr th {\n",
       "        vertical-align: top;\n",
       "    }\n",
       "\n",
       "    .dataframe thead th {\n",
       "        text-align: right;\n",
       "    }\n",
       "</style>\n",
       "<table border=\"1\" class=\"dataframe\">\n",
       "  <thead>\n",
       "    <tr style=\"text-align: right;\">\n",
       "      <th></th>\n",
       "      <th>sample_ID</th>\n",
       "      <th>patient_ID</th>\n",
       "    </tr>\n",
       "  </thead>\n",
       "  <tbody>\n",
       "    <tr>\n",
       "      <th>0</th>\n",
       "      <td>9f905736-f662-41d6-b3ac-16758d</td>\n",
       "      <td>11LU013</td>\n",
       "    </tr>\n",
       "    <tr>\n",
       "      <th>1</th>\n",
       "      <td>93e30fd5-e57e-4503-a175-863c7d</td>\n",
       "      <td>11LU016</td>\n",
       "    </tr>\n",
       "    <tr>\n",
       "      <th>2</th>\n",
       "      <td>5a84eae1-197e-4463-ad65-59becc</td>\n",
       "      <td>11LU022</td>\n",
       "    </tr>\n",
       "    <tr>\n",
       "      <th>3</th>\n",
       "      <td>2f2e5477-42a4-4906-a943-bf7f80</td>\n",
       "      <td>11LU035</td>\n",
       "    </tr>\n",
       "    <tr>\n",
       "      <th>4</th>\n",
       "      <td>C3L-00001-02</td>\n",
       "      <td>C3L-00001</td>\n",
       "    </tr>\n",
       "    <tr>\n",
       "      <th>...</th>\n",
       "      <td>...</td>\n",
       "      <td>...</td>\n",
       "    </tr>\n",
       "    <tr>\n",
       "      <th>2865</th>\n",
       "      <td>C3N-05923-01</td>\n",
       "      <td>C3N-05923</td>\n",
       "    </tr>\n",
       "    <tr>\n",
       "      <th>2866</th>\n",
       "      <td>C3N-05923-09</td>\n",
       "      <td>C3N-05923.N</td>\n",
       "    </tr>\n",
       "    <tr>\n",
       "      <th>2867</th>\n",
       "      <td>C3N-05929-03</td>\n",
       "      <td>C3N-05929</td>\n",
       "    </tr>\n",
       "    <tr>\n",
       "      <th>2868</th>\n",
       "      <td>C3N-05929-05</td>\n",
       "      <td>C3N-05929.N</td>\n",
       "    </tr>\n",
       "    <tr>\n",
       "      <th>2869</th>\n",
       "      <td>C3N-05991-01</td>\n",
       "      <td>C3N-05991</td>\n",
       "    </tr>\n",
       "  </tbody>\n",
       "</table>\n",
       "<p>2870 rows × 2 columns</p>\n",
       "</div>"
      ],
      "text/plain": [
       "                           sample_ID   patient_ID\n",
       "0     9f905736-f662-41d6-b3ac-16758d      11LU013\n",
       "1     93e30fd5-e57e-4503-a175-863c7d      11LU016\n",
       "2     5a84eae1-197e-4463-ad65-59becc      11LU022\n",
       "3     2f2e5477-42a4-4906-a943-bf7f80      11LU035\n",
       "4                       C3L-00001-02    C3L-00001\n",
       "...                              ...          ...\n",
       "2865                    C3N-05923-01    C3N-05923\n",
       "2866                    C3N-05923-09  C3N-05923.N\n",
       "2867                    C3N-05929-03    C3N-05929\n",
       "2868                    C3N-05929-05  C3N-05929.N\n",
       "2869                    C3N-05991-01    C3N-05991\n",
       "\n",
       "[2870 rows x 2 columns]"
      ]
     },
     "execution_count": 15,
     "metadata": {},
     "output_type": "execute_result"
    }
   ],
   "source": [
    "map_df_2 = pd.read_csv(m_path_2, sep = \"\\t\", na_values = 'NA') # type, project_id, and analyte_type have all same vals\n",
    "\n",
    "# Make patient_ID vals (case_id + .N if normal sample) \n",
    "map_df_2['patient_ID'] = map_df_2['cases.submitter_id'] +'_'+ map_df_2['tissue_type']\n",
    "map_df_2['patient_ID'] = map_df_2['patient_ID'].str.replace('_Tumor$','', regex=True)\n",
    "map_df_2['patient_ID'] = map_df_2['patient_ID'].str.replace('_Normal$','.N', regex=True)\n",
    "map_df_2 = map_df_2.rename(columns = {'submitter_id': 'sample_ID'})\n",
    "map_df_2 = map_df_2[['sample_ID', 'patient_ID']]\n",
    "map_df_2"
   ]
  },
  {
   "cell_type": "code",
   "execution_count": 16,
   "metadata": {},
   "outputs": [
    {
     "name": "stdout",
     "output_type": "stream",
     "text": [
      "unique vals: 0 \n",
      "\n",
      "num in s1: 0\n",
      "num in s2: 0\n"
     ]
    }
   ],
   "source": [
    "# Check if any sample_IDs are only in one file\n",
    "test = 'sample_ID'\n",
    "s1 = list(map_df_1[test])\n",
    "s2 = list(map_df_2[test])\n",
    "\n",
    "n = set(s1) ^ set(s2) \n",
    "print('unique vals:', len(n), '\\n')\n",
    "\n",
    "in_s1 = []\n",
    "in_s2 = []\n",
    "\n",
    "for e in n: \n",
    "    if e in s1:\n",
    "        #print('in s1')\n",
    "        in_s1.append(e)\n",
    "    if e in s2:\n",
    "        #print('in s2')\n",
    "        in_s2.append(e)\n",
    "print('num in s1:', len(in_s1))\n",
    "print('num in s2:', len(in_s2))"
   ]
  },
  {
   "cell_type": "code",
   "execution_count": 17,
   "metadata": {},
   "outputs": [
    {
     "name": "stdout",
     "output_type": "stream",
     "text": [
      "total length of aliquot to sample file: 3418\n",
      "total length of sample to patient file: 2870\n",
      "difference: 548\n"
     ]
    }
   ],
   "source": [
    "print('total length of aliquot to sample file:', len(map_df_1))\n",
    "print('total length of sample to patient file:', len(map_df_2))\n",
    "print('difference:', len(map_df_1) - len(map_df_2))"
   ]
  },
  {
   "cell_type": "code",
   "execution_count": 18,
   "metadata": {},
   "outputs": [],
   "source": [
    "# Merge dfs\n",
    "# set index to sample_id\n",
    "map_df_1 = map_df_1.set_index('sample_ID')\n",
    "map_df_2 = map_df_2.set_index('sample_ID')\n",
    "all_df = map_df_1.join(map_df_2, how = 'outer') "
   ]
  },
  {
   "cell_type": "code",
   "execution_count": 19,
   "metadata": {},
   "outputs": [
    {
     "name": "stdout",
     "output_type": "stream",
     "text": [
      "length: 3075\n"
     ]
    }
   ],
   "source": [
    "# drop duplicate aliquot_IDs (keeps first aliquot of duplicated)\n",
    "all_df = all_df.loc[~ all_df.aliquot_ID.duplicated()]\n",
    "print('length:', len(all_df))"
   ]
  },
  {
   "cell_type": "markdown",
   "metadata": {},
   "source": [
    "Add GBM normal samples to matched_ids dictionary."
   ]
  },
  {
   "cell_type": "code",
   "execution_count": 20,
   "metadata": {},
   "outputs": [],
   "source": [
    "# GBM normal samples\n",
    "gbm_file = 'GBM_normal_sample_mapping.xlsx'\n",
    "g_path = \"../../../input/\"+gbm_file"
   ]
  },
  {
   "cell_type": "code",
   "execution_count": 22,
   "metadata": {},
   "outputs": [
    {
     "name": "stdout",
     "output_type": "stream",
     "text": [
      "17\n"
     ]
    }
   ],
   "source": [
    "gbm_df = pd.read_excel(g_path, na_values = 'NA') \n",
    "gbm_df = gbm_df[['BSIID', 'Subject ID']].rename(columns = {'BSIID':'aliquot_ID', 'Subject ID':'patient_ID'})\n",
    "all_df = all_df.append(gbm_df)\n",
    "print(len(gbm_df))"
   ]
  },
  {
   "cell_type": "code",
   "execution_count": 23,
   "metadata": {},
   "outputs": [
    {
     "name": "stdout",
     "output_type": "stream",
     "text": [
      "total length of combined mapping file: 3092\n"
     ]
    }
   ],
   "source": [
    "print('total length of combined mapping file:', len(all_df)) # 3075 + 17 (gbm normal) = 3092"
   ]
  },
  {
   "cell_type": "markdown",
   "metadata": {},
   "source": [
    "# Create file"
   ]
  },
  {
   "cell_type": "code",
   "execution_count": 24,
   "metadata": {},
   "outputs": [],
   "source": [
    "all_df.to_csv('../../../input/aliquot_to_patient_ID.tsv', sep = '\\t')"
   ]
  },
  {
   "cell_type": "code",
   "execution_count": 25,
   "metadata": {
    "scrolled": true
   },
   "outputs": [],
   "source": [
    "mapping_df = pd.read_csv('../../../input/aliquot_to_patient_ID.tsv', delimiter = '\\t', index_col = 0)"
   ]
  },
  {
   "cell_type": "code",
   "execution_count": 26,
   "metadata": {},
   "outputs": [
    {
     "data": {
      "text/html": [
       "<div>\n",
       "<style scoped>\n",
       "    .dataframe tbody tr th:only-of-type {\n",
       "        vertical-align: middle;\n",
       "    }\n",
       "\n",
       "    .dataframe tbody tr th {\n",
       "        vertical-align: top;\n",
       "    }\n",
       "\n",
       "    .dataframe thead th {\n",
       "        text-align: right;\n",
       "    }\n",
       "</style>\n",
       "<table border=\"1\" class=\"dataframe\">\n",
       "  <thead>\n",
       "    <tr style=\"text-align: right;\">\n",
       "      <th></th>\n",
       "      <th>aliquot_ID</th>\n",
       "      <th>patient_ID</th>\n",
       "    </tr>\n",
       "  </thead>\n",
       "  <tbody>\n",
       "    <tr>\n",
       "      <th>C3L-03407-01</th>\n",
       "      <td>CPT0190360004</td>\n",
       "      <td>C3L-03407</td>\n",
       "    </tr>\n",
       "    <tr>\n",
       "      <th>C3L-03407-01</th>\n",
       "      <td>CPT0190360012</td>\n",
       "      <td>C3L-03407</td>\n",
       "    </tr>\n",
       "  </tbody>\n",
       "</table>\n",
       "</div>"
      ],
      "text/plain": [
       "                 aliquot_ID patient_ID\n",
       "C3L-03407-01  CPT0190360004  C3L-03407\n",
       "C3L-03407-01  CPT0190360012  C3L-03407"
      ]
     },
     "execution_count": 26,
     "metadata": {},
     "output_type": "execute_result"
    }
   ],
   "source": [
    "mapping_df[mapping_df.patient_ID.str.contains('C3L-03407')]"
   ]
  },
  {
   "cell_type": "code",
   "execution_count": 27,
   "metadata": {},
   "outputs": [],
   "source": [
    "# Check if key values will be unique\n",
    "if True in set(mapping_df.aliquot_ID.duplicated()):\n",
    "    print('There are duplicates. Key vals will not be unique.')"
   ]
  },
  {
   "cell_type": "code",
   "execution_count": 28,
   "metadata": {},
   "outputs": [
    {
     "name": "stdout",
     "output_type": "stream",
     "text": [
      "total rows 3092\n"
     ]
    },
    {
     "data": {
      "text/plain": [
       "3092"
      ]
     },
     "execution_count": 28,
     "metadata": {},
     "output_type": "execute_result"
    }
   ],
   "source": [
    "a=mapping_df['aliquot_ID']\n",
    "print('total rows',len(a))\n",
    "len(a.dropna())"
   ]
  },
  {
   "cell_type": "code",
   "execution_count": null,
   "metadata": {},
   "outputs": [],
   "source": []
  }
 ],
 "metadata": {
  "kernelspec": {
   "display_name": "Python 3",
   "language": "python",
   "name": "python3"
  },
  "language_info": {
   "codemirror_mode": {
    "name": "ipython",
    "version": 3
   },
   "file_extension": ".py",
   "mimetype": "text/x-python",
   "name": "python",
   "nbconvert_exporter": "python",
   "pygments_lexer": "ipython3",
   "version": "3.8.8"
  }
 },
 "nbformat": 4,
 "nbformat_minor": 4
}
