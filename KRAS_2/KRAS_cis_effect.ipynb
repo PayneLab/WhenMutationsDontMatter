{
 "cells": [
  {
   "cell_type": "markdown",
   "metadata": {},
   "source": [
    "# Create Figure 2 for KRAS cis effect"
   ]
  },
  {
   "cell_type": "markdown",
   "metadata": {},
   "source": [
    "This notebook creates a boxplot for the cis effect of KRAS missense mutationsin 3 cancers. These 3 cancers were chosen because they have enough samples with KRAS missense mutations to do a t-test."
   ]
  },
  {
   "cell_type": "markdown",
   "metadata": {},
   "source": [
    "Imports"
   ]
  },
  {
   "cell_type": "code",
   "execution_count": 1,
   "metadata": {},
   "outputs": [
    {
     "name": "stderr",
     "output_type": "stream",
     "text": [
      "/Users/Lindsey/anaconda3/lib/python3.7/site-packages/statsmodels/tools/_testing.py:19: FutureWarning: pandas.util.testing is deprecated. Use the functions in the public API at pandas.testing instead.\n",
      "  import pandas.util.testing as tm\n"
     ]
    }
   ],
   "source": [
    "import pandas as pd\n",
    "import numpy as np\n",
    "import seaborn as sns\n",
    "import matplotlib.pyplot as plt\n",
    "import scipy.stats\n",
    "import gseapy as gp\n",
    "import re\n",
    "import sys \n",
    "\n",
    "import cptac\n",
    "import cptac.utils as u\n",
    "\n",
    "import plot_utils as p"
   ]
  },
  {
   "cell_type": "markdown",
   "metadata": {},
   "source": [
    "Functions:\n",
    "\n",
    "format_df prepares a data frame with KRAS proteomics and KRAS mutation type from get_genotype_all_vars.\n",
    "\n",
    "format_pval_annotation is used to add marks to the boxplot. A star represents significant p-value and \"ns\" represents a nonsignificant p-value."
   ]
  },
  {
   "cell_type": "code",
   "execution_count": 2,
   "metadata": {},
   "outputs": [],
   "source": [
    "'''\n",
    "Params\n",
    "all_prot: list of trans genes\n",
    "utils: from cptac\n",
    "\n",
    "Returns a dataframe with trans proteomics and mutation status (KRAS missense or wt)\n",
    "'''\n",
    "\n",
    "def format_df(cancer_object, all_prot, gene_in = 'KRAS', utils = u):\n",
    "    mut_type = cancer_object.get_genotype_all_vars(gene_in)\n",
    "    \n",
    "    # Keep only tumor samples from proteomics\n",
    "    prot_and_mutations = cancer_object.join_omics_to_mutations(\n",
    "        mutations_genes = [gene_in], omics_df_name = 'proteomics', omics_genes = all_prot,\n",
    "        tissue_type = 'tumor') # drop Normal samples\n",
    "        \n",
    "    # Reduce a multiindex \n",
    "    if isinstance(prot_and_mutations.keys(), pd.core.indexes.multi.MultiIndex):\n",
    "        prot_and_mutations = utils.reduce_multiindex(prot_and_mutations, levels_to_drop = 1) \n",
    "\n",
    "    # Merge Mutation column from get_genotype_all_vars (includes cnv) with proteomics\n",
    "    mut_type = mut_type[['Mutation']] \n",
    "    mut_type[\"Mutation\"] = mut_type['Mutation'].replace(['nonsynonymous SNV'], 'Missense_Mutation')#for colon\n",
    "    prot_df = prot_and_mutations.iloc[:,:-4] # Keep only proteomics\n",
    "    merged = prot_df.join(mut_type)\n",
    "        \n",
    "    # Keep only Wildtype and Missense\n",
    "    compare = ['Wildtype_Tumor','Missense_Mutation']\n",
    "    get = merged['Mutation'].isin(compare)\n",
    "    missense_wt = merged[get]\n",
    "    return missense_wt\n",
    " \n"
   ]
  },
  {
   "cell_type": "code",
   "execution_count": 3,
   "metadata": {},
   "outputs": [],
   "source": [
    "def format_pval_annotation(pval_symbol, x1, x2, line_start = .05, line_height=.05):\n",
    "    # for manual adjustment to pval annotations\n",
    "    \n",
    "    y, h = line_start, line_height\n",
    "    plt.plot([x1, x1, x2, x2], #draw horizontal line\n",
    "             [y, y+h, y+h, y], #vertical line\n",
    "             lw=1.5, color= '.3')\n",
    "    plt.text((x1+x2)*.5, # half between x coord\n",
    "             y+h, pval_symbol, horizontalalignment='center', verticalalignment='bottom', color = \"black\")\n"
   ]
  },
  {
   "cell_type": "markdown",
   "metadata": {},
   "source": [
    "# Step 1: Create data frames with KRAS missense and Proteomics"
   ]
  },
  {
   "cell_type": "markdown",
   "metadata": {},
   "source": [
    "Each cancer needs a data frame containing only samples that have KRAS missense or KRAS wildtype tumors and KRAS proteomics."
   ]
  },
  {
   "cell_type": "markdown",
   "metadata": {},
   "source": [
    "First, load in cancer data sets from cptac."
   ]
  },
  {
   "cell_type": "code",
   "execution_count": 4,
   "metadata": {},
   "outputs": [
    {
     "name": "stdout",
     "output_type": "stream",
     "text": [
      "                                                \r"
     ]
    }
   ],
   "source": [
    "en = cptac.Endometrial()\n",
    "l = cptac.Luad()\n",
    "col = cptac.Colon()\n"
   ]
  },
  {
   "cell_type": "code",
   "execution_count": 5,
   "metadata": {},
   "outputs": [],
   "source": [
    "gene = \"KRAS\""
   ]
  },
  {
   "cell_type": "markdown",
   "metadata": {},
   "source": [
    "Next, use format_df to create the specific data frame for each cancer. Use wrap_ttest to test KRAS missense vs. wildtype. "
   ]
  },
  {
   "cell_type": "markdown",
   "metadata": {},
   "source": [
    "# Luad"
   ]
  },
  {
   "cell_type": "code",
   "execution_count": 6,
   "metadata": {},
   "outputs": [
    {
     "name": "stderr",
     "output_type": "stream",
     "text": [
      "cptac warning: In joining the somatic_mutation table, no mutations were found for the following samples, so they were filled with Wildtype_Tumor or Wildtype_Normal: 76 samples for the KRAS gene (/Users/Lindsey/anaconda3/lib/python3.7/site-packages/cptac/dataset.py, line 313)\n",
      "cptac warning: In joining the somatic_mutation table, no mutations were found for the following samples, so they were filled with Wildtype_Tumor or Wildtype_Normal: 77 samples for the KRAS gene (/Users/Lindsey/anaconda3/lib/python3.7/site-packages/ipykernel_launcher.py, line 15)\n"
     ]
    },
    {
     "data": {
      "text/html": [
       "<div>\n",
       "<style scoped>\n",
       "    .dataframe tbody tr th:only-of-type {\n",
       "        vertical-align: middle;\n",
       "    }\n",
       "\n",
       "    .dataframe tbody tr th {\n",
       "        vertical-align: top;\n",
       "    }\n",
       "\n",
       "    .dataframe thead th {\n",
       "        text-align: right;\n",
       "    }\n",
       "</style>\n",
       "<table border=\"1\" class=\"dataframe\">\n",
       "  <thead>\n",
       "    <tr style=\"text-align: right;\">\n",
       "      <th></th>\n",
       "      <th>Comparison</th>\n",
       "      <th>P_Value</th>\n",
       "    </tr>\n",
       "  </thead>\n",
       "  <tbody>\n",
       "    <tr>\n",
       "      <th>0</th>\n",
       "      <td>KRAS_proteomics</td>\n",
       "      <td>0.114481</td>\n",
       "    </tr>\n",
       "  </tbody>\n",
       "</table>\n",
       "</div>"
      ],
      "text/plain": [
       "        Comparison   P_Value\n",
       "0  KRAS_proteomics  0.114481"
      ]
     },
     "execution_count": 6,
     "metadata": {},
     "output_type": "execute_result"
    }
   ],
   "source": [
    "l_miss_wt = format_df(l, gene)\n",
    "l_miss_wt\n",
    "l_pval = u.wrap_ttest(l_miss_wt, 'Mutation', ['KRAS_proteomics'],return_all=True)\n",
    "lp = l_pval.P_Value[0]\n",
    "l_pval"
   ]
  },
  {
   "cell_type": "markdown",
   "metadata": {},
   "source": [
    "# Colon"
   ]
  },
  {
   "cell_type": "code",
   "execution_count": 7,
   "metadata": {},
   "outputs": [
    {
     "name": "stderr",
     "output_type": "stream",
     "text": [
      "cptac warning: In joining the somatic_mutation table, no mutations were found for the following samples, so they were filled with Wildtype_Tumor or Wildtype_Normal: 71 samples for the KRAS gene (/Users/Lindsey/anaconda3/lib/python3.7/site-packages/cptac/dataset.py, line 313)\n",
      "cptac warning: CNV data was not found for the following samples, so CNV data columns were filled with NaN for these samples: 05CO045 (/Users/Lindsey/anaconda3/lib/python3.7/site-packages/cptac/dataset.py, line 313)\n",
      "cptac warning: In joining the somatic_mutation table, no mutations were found for the following samples, so they were filled with Wildtype_Tumor or Wildtype_Normal: 72 samples for the KRAS gene (/Users/Lindsey/anaconda3/lib/python3.7/site-packages/ipykernel_launcher.py, line 15)\n",
      "cptac warning: proteomics data was not found for the following samples, so proteomics data columns were filled with NaN for these samples: 01CO001, 05CO005, 05CO007, 05CO014, 05CO055, 11CO059, 11CO060, 14CO002, 16CO012, 24CO005 (/Users/Lindsey/anaconda3/lib/python3.7/site-packages/ipykernel_launcher.py, line 15)\n"
     ]
    },
    {
     "data": {
      "text/html": [
       "<div>\n",
       "<style scoped>\n",
       "    .dataframe tbody tr th:only-of-type {\n",
       "        vertical-align: middle;\n",
       "    }\n",
       "\n",
       "    .dataframe tbody tr th {\n",
       "        vertical-align: top;\n",
       "    }\n",
       "\n",
       "    .dataframe thead th {\n",
       "        text-align: right;\n",
       "    }\n",
       "</style>\n",
       "<table border=\"1\" class=\"dataframe\">\n",
       "  <thead>\n",
       "    <tr style=\"text-align: right;\">\n",
       "      <th></th>\n",
       "      <th>Comparison</th>\n",
       "      <th>P_Value</th>\n",
       "    </tr>\n",
       "  </thead>\n",
       "  <tbody>\n",
       "    <tr>\n",
       "      <th>0</th>\n",
       "      <td>KRAS_proteomics</td>\n",
       "      <td>0.01079</td>\n",
       "    </tr>\n",
       "  </tbody>\n",
       "</table>\n",
       "</div>"
      ],
      "text/plain": [
       "        Comparison  P_Value\n",
       "0  KRAS_proteomics  0.01079"
      ]
     },
     "execution_count": 7,
     "metadata": {},
     "output_type": "execute_result"
    }
   ],
   "source": [
    "c_miss_wt = format_df(col, gene)\n",
    "c_pval = u.wrap_ttest(c_miss_wt, 'Mutation', ['KRAS_proteomics'], return_all=True)\n",
    "cp = c_pval.P_Value[0]\n",
    "c_pval"
   ]
  },
  {
   "cell_type": "markdown",
   "metadata": {},
   "source": [
    "# Endometrial"
   ]
  },
  {
   "cell_type": "markdown",
   "metadata": {},
   "source": [
    "The Endometrial data set does not have enough cnv deletions to perform a t-test, however the data set does have enough truncation type mutations (nonsense and frame shifts). Different code is needed to create the data frame for Endometrial."
   ]
  },
  {
   "cell_type": "code",
   "execution_count": 8,
   "metadata": {},
   "outputs": [
    {
     "name": "stderr",
     "output_type": "stream",
     "text": [
      "cptac warning: In joining the somatic_mutation table, no mutations were found for the following samples, so they were filled with Wildtype_Tumor or Wildtype_Normal: 64 samples for the KRAS gene (/Users/Lindsey/anaconda3/lib/python3.7/site-packages/cptac/dataset.py, line 313)\n",
      "cptac warning: In joining the somatic_mutation table, no mutations were found for the following samples, so they were filled with Wildtype_Tumor or Wildtype_Normal: 64 samples for the KRAS gene (/Users/Lindsey/anaconda3/lib/python3.7/site-packages/ipykernel_launcher.py, line 15)\n"
     ]
    },
    {
     "data": {
      "text/html": [
       "<div>\n",
       "<style scoped>\n",
       "    .dataframe tbody tr th:only-of-type {\n",
       "        vertical-align: middle;\n",
       "    }\n",
       "\n",
       "    .dataframe tbody tr th {\n",
       "        vertical-align: top;\n",
       "    }\n",
       "\n",
       "    .dataframe thead th {\n",
       "        text-align: right;\n",
       "    }\n",
       "</style>\n",
       "<table border=\"1\" class=\"dataframe\">\n",
       "  <thead>\n",
       "    <tr style=\"text-align: right;\">\n",
       "      <th></th>\n",
       "      <th>Comparison</th>\n",
       "      <th>P_Value</th>\n",
       "    </tr>\n",
       "  </thead>\n",
       "  <tbody>\n",
       "    <tr>\n",
       "      <th>0</th>\n",
       "      <td>KRAS_proteomics</td>\n",
       "      <td>0.005531</td>\n",
       "    </tr>\n",
       "  </tbody>\n",
       "</table>\n",
       "</div>"
      ],
      "text/plain": [
       "        Comparison   P_Value\n",
       "0  KRAS_proteomics  0.005531"
      ]
     },
     "execution_count": 8,
     "metadata": {},
     "output_type": "execute_result"
    }
   ],
   "source": [
    "en_miss_wt = format_df(en, gene)\n",
    "en_pval = u.wrap_ttest(en_miss_wt, 'Mutation', ['KRAS_proteomics'],return_all=True)\n",
    "ep = en_pval.P_Value[0]\n",
    "en_pval"
   ]
  },
  {
   "cell_type": "markdown",
   "metadata": {},
   "source": [
    "# Step 2: Create a long dataframe for the boxplot"
   ]
  },
  {
   "cell_type": "markdown",
   "metadata": {},
   "source": [
    "The boxplot will take three columns: Proteomics, Mutation, and Cancer. We need to append all the individual cancer dfs into one long pancancer df. "
   ]
  },
  {
   "cell_type": "markdown",
   "metadata": {},
   "source": [
    "First create the Cancer column."
   ]
  },
  {
   "cell_type": "code",
   "execution_count": 9,
   "metadata": {},
   "outputs": [],
   "source": [
    "\n",
    "l_miss_wt = l_miss_wt.assign(cancer = 'Luad')\n",
    "c_miss_wt = c_miss_wt.assign(cancer = 'Colon')\n",
    "en_miss_wt = en_miss_wt.assign(cancer = 'Endometrial')\n"
   ]
  },
  {
   "cell_type": "markdown",
   "metadata": {},
   "source": [
    "Next append the dfs."
   ]
  },
  {
   "cell_type": "code",
   "execution_count": 10,
   "metadata": {},
   "outputs": [
    {
     "data": {
      "text/html": [
       "<div>\n",
       "<style scoped>\n",
       "    .dataframe tbody tr th:only-of-type {\n",
       "        vertical-align: middle;\n",
       "    }\n",
       "\n",
       "    .dataframe tbody tr th {\n",
       "        vertical-align: top;\n",
       "    }\n",
       "\n",
       "    .dataframe thead th {\n",
       "        text-align: right;\n",
       "    }\n",
       "</style>\n",
       "<table border=\"1\" class=\"dataframe\">\n",
       "  <thead>\n",
       "    <tr style=\"text-align: right;\">\n",
       "      <th>Name</th>\n",
       "      <th>KRAS_proteomics</th>\n",
       "      <th>Mutation</th>\n",
       "      <th>cancer</th>\n",
       "    </tr>\n",
       "    <tr>\n",
       "      <th>Patient_ID</th>\n",
       "      <th></th>\n",
       "      <th></th>\n",
       "      <th></th>\n",
       "    </tr>\n",
       "  </thead>\n",
       "  <tbody>\n",
       "    <tr>\n",
       "      <th>C3L-00009</th>\n",
       "      <td>NaN</td>\n",
       "      <td>Wildtype_Tumor</td>\n",
       "      <td>Luad</td>\n",
       "    </tr>\n",
       "    <tr>\n",
       "      <th>C3L-00083</th>\n",
       "      <td>-0.3416</td>\n",
       "      <td>Wildtype_Tumor</td>\n",
       "      <td>Luad</td>\n",
       "    </tr>\n",
       "    <tr>\n",
       "      <th>C3L-00094</th>\n",
       "      <td>0.5142</td>\n",
       "      <td>Missense_Mutation</td>\n",
       "      <td>Luad</td>\n",
       "    </tr>\n",
       "    <tr>\n",
       "      <th>C3L-00095</th>\n",
       "      <td>-0.9424</td>\n",
       "      <td>Wildtype_Tumor</td>\n",
       "      <td>Luad</td>\n",
       "    </tr>\n",
       "    <tr>\n",
       "      <th>C3L-00140</th>\n",
       "      <td>-0.7216</td>\n",
       "      <td>Wildtype_Tumor</td>\n",
       "      <td>Luad</td>\n",
       "    </tr>\n",
       "    <tr>\n",
       "      <th>...</th>\n",
       "      <td>...</td>\n",
       "      <td>...</td>\n",
       "      <td>...</td>\n",
       "    </tr>\n",
       "    <tr>\n",
       "      <th>C3N-01520</th>\n",
       "      <td>0.6620</td>\n",
       "      <td>Missense_Mutation</td>\n",
       "      <td>Endometrial</td>\n",
       "    </tr>\n",
       "    <tr>\n",
       "      <th>C3N-01521</th>\n",
       "      <td>-0.4350</td>\n",
       "      <td>Missense_Mutation</td>\n",
       "      <td>Endometrial</td>\n",
       "    </tr>\n",
       "    <tr>\n",
       "      <th>C3N-01537</th>\n",
       "      <td>-0.1370</td>\n",
       "      <td>Wildtype_Tumor</td>\n",
       "      <td>Endometrial</td>\n",
       "    </tr>\n",
       "    <tr>\n",
       "      <th>C3N-01802</th>\n",
       "      <td>0.0691</td>\n",
       "      <td>Wildtype_Tumor</td>\n",
       "      <td>Endometrial</td>\n",
       "    </tr>\n",
       "    <tr>\n",
       "      <th>C3N-01825</th>\n",
       "      <td>-0.0912</td>\n",
       "      <td>Wildtype_Tumor</td>\n",
       "      <td>Endometrial</td>\n",
       "    </tr>\n",
       "  </tbody>\n",
       "</table>\n",
       "<p>265 rows × 3 columns</p>\n",
       "</div>"
      ],
      "text/plain": [
       "Name        KRAS_proteomics           Mutation       cancer\n",
       "Patient_ID                                                 \n",
       "C3L-00009               NaN     Wildtype_Tumor         Luad\n",
       "C3L-00083           -0.3416     Wildtype_Tumor         Luad\n",
       "C3L-00094            0.5142  Missense_Mutation         Luad\n",
       "C3L-00095           -0.9424     Wildtype_Tumor         Luad\n",
       "C3L-00140           -0.7216     Wildtype_Tumor         Luad\n",
       "...                     ...                ...          ...\n",
       "C3N-01520            0.6620  Missense_Mutation  Endometrial\n",
       "C3N-01521           -0.4350  Missense_Mutation  Endometrial\n",
       "C3N-01537           -0.1370     Wildtype_Tumor  Endometrial\n",
       "C3N-01802            0.0691     Wildtype_Tumor  Endometrial\n",
       "C3N-01825           -0.0912     Wildtype_Tumor  Endometrial\n",
       "\n",
       "[265 rows x 3 columns]"
      ]
     },
     "execution_count": 10,
     "metadata": {},
     "output_type": "execute_result"
    }
   ],
   "source": [
    "df = l_miss_wt.append(c_miss_wt)\n",
    "df2 = df.append(en_miss_wt)\n",
    "df2"
   ]
  },
  {
   "cell_type": "markdown",
   "metadata": {},
   "source": [
    "# Step 3: Create the Pancancer Boxplot"
   ]
  },
  {
   "cell_type": "code",
   "execution_count": 11,
   "metadata": {},
   "outputs": [
    {
     "name": "stdout",
     "output_type": "stream",
     "text": [
      "p-values: \n",
      "\n",
      "Luad 0.11448064454827266 \n",
      "\n",
      "Colon 0.010790315848871903 \n",
      "\n",
      "Endo 0.005530656769015996 \n",
      "\n"
     ]
    },
    {
     "data": {
      "image/png": "[encoded data removed]",
      "text/plain": [
       "<Figure size 842.4x612 with 1 Axes>"
      ]
     },
     "metadata": {},
     "output_type": "display_data"
    }
   ],
   "source": [
    "# cis plot\n",
    "gene = 'KRAS'\n",
    "plt.rcParams['figure.figsize']=(11.7, 8.5) #size of plot\n",
    "sns.set(font_scale = 1.4)\n",
    "\n",
    "boxplot = sns.boxplot(x='cancer', y=gene+\"_proteomics\", data = df2, hue = 'Mutation',\n",
    "                      hue_order = [\"Wildtype_Tumor\", \"Missense_Mutation\"], showfliers = False)    \n",
    "#boxplot.set_title('Pancancer cis effect of KRAS Missense')\n",
    "boxplot = sns.stripplot(x='cancer', y=gene+\"_proteomics\", data = df2, jitter = True, \n",
    "                           color = \".3\", hue = 'Mutation', hue_order = [\"Wildtype_Tumor\", \"Missense_Mutation\"], dodge = True)\n",
    "boxplot.set(xlabel = \"\\nKRAS Mutation Status\", ylabel = gene+' Proteomics')\n",
    "\n",
    "# format legend\n",
    "handles, labels = boxplot.get_legend_handles_labels()\n",
    "plt.legend(handles[0:3], labels[0:3])\n",
    "\n",
    "# Create significance symbols:\n",
    "# * P < 0.015   ** P < 0.001   *** P < 0.0001 \n",
    "cancer_pvals = {'Luad':lp, 'Colon':cp, 'Endo':ep}\n",
    "\n",
    "# create pval annotations\n",
    "symbols = {}\n",
    "print('p-values: \\n')\n",
    "for cancer in cancer_pvals:\n",
    "    val = str(cancer_pvals[cancer])\n",
    "    if cancer_pvals[cancer]  < 0.0001:\n",
    "        symbols[cancer] = '***'\n",
    "    elif cancer_pvals[cancer]  < 0.001:\n",
    "        symbols[cancer] = '**'  \n",
    "    elif cancer_pvals[cancer]  < 0.015:\n",
    "        symbols[cancer] = '*'\n",
    "    elif cancer_pvals[cancer]  > 0.05:\n",
    "        symbols[cancer] = 'ns'\n",
    "    print(cancer, val, '\\n')\n",
    "\n",
    " \n",
    "    #format_pval_annotation(symbols['Luad'], .7, 1, 2.2) \n",
    "    \n",
    "format_pval_annotation(symbols['Luad'], -0.5, 0.5, 2.5)  # Luad\n",
    "format_pval_annotation(symbols['Colon'], 0.6, 1.4, 1.5)  # Colon\n",
    "format_pval_annotation(symbols['Endo'], 1.7, 2.4, 1) # Endometrial\n",
    "plt.show()\n",
    "plt.clf()\n",
    "plt.close()"
   ]
  },
  {
   "cell_type": "code",
   "execution_count": 12,
   "metadata": {},
   "outputs": [],
   "source": [
    "# Save figure\n",
    "fig = boxplot.get_figure()\n",
    "fig.savefig(\"KRAS_missense_cis_effect.png\", dpi = 300)"
   ]
  },
  {
   "cell_type": "markdown",
   "metadata": {},
   "source": [
    "# Hot Spot G12"
   ]
  },
  {
   "cell_type": "code",
   "execution_count": 13,
   "metadata": {},
   "outputs": [
    {
     "data": {
      "text/html": [
       "<div>\n",
       "<style scoped>\n",
       "    .dataframe tbody tr th:only-of-type {\n",
       "        vertical-align: middle;\n",
       "    }\n",
       "\n",
       "    .dataframe tbody tr th {\n",
       "        vertical-align: top;\n",
       "    }\n",
       "\n",
       "    .dataframe thead th {\n",
       "        text-align: right;\n",
       "    }\n",
       "</style>\n",
       "<table border=\"1\" class=\"dataframe\">\n",
       "  <thead>\n",
       "    <tr style=\"text-align: right;\">\n",
       "      <th>Name</th>\n",
       "      <th>Number of Mutations Luad</th>\n",
       "    </tr>\n",
       "    <tr>\n",
       "      <th>Location</th>\n",
       "      <th></th>\n",
       "    </tr>\n",
       "  </thead>\n",
       "  <tbody>\n",
       "    <tr>\n",
       "      <th>p.G12A</th>\n",
       "      <td>1</td>\n",
       "    </tr>\n",
       "    <tr>\n",
       "      <th>p.G12C</th>\n",
       "      <td>16</td>\n",
       "    </tr>\n",
       "    <tr>\n",
       "      <th>p.G12D</th>\n",
       "      <td>6</td>\n",
       "    </tr>\n",
       "    <tr>\n",
       "      <th>p.G12S</th>\n",
       "      <td>2</td>\n",
       "    </tr>\n",
       "    <tr>\n",
       "      <th>p.G12V</th>\n",
       "      <td>5</td>\n",
       "    </tr>\n",
       "    <tr>\n",
       "      <th>p.G13C</th>\n",
       "      <td>2</td>\n",
       "    </tr>\n",
       "    <tr>\n",
       "      <th>p.Q61H</th>\n",
       "      <td>1</td>\n",
       "    </tr>\n",
       "  </tbody>\n",
       "</table>\n",
       "</div>"
      ],
      "text/plain": [
       "Name      Number of Mutations Luad\n",
       "Location                          \n",
       "p.G12A                           1\n",
       "p.G12C                          16\n",
       "p.G12D                           6\n",
       "p.G12S                           2\n",
       "p.G12V                           5\n",
       "p.G13C                           2\n",
       "p.Q61H                           1"
      ]
     },
     "execution_count": 13,
     "metadata": {},
     "output_type": "execute_result"
    }
   ],
   "source": [
    "#use get_somatic mutation not get genotype due to priority order for gen_genotype_all_vars\n",
    "luad_mut_type = l.get_somatic_mutation()\n",
    "luad_miss = luad_mut_type.loc[luad_mut_type['Mutation'] == \"Missense_Mutation\"]\n",
    "luad_miss = luad_miss.loc[luad_miss['Gene'] == \"KRAS\"]\n",
    "hotspots = luad_miss.groupby('Location').count()\n",
    "l_hotspot_G12 = hotspots[(hotspots.index.str.contains('G12') | hotspots.index.str.contains('G13') |hotspots.index.str.contains('Q61'))]\n",
    "l_hotspot_G12 = l_hotspot_G12.rename(columns={\"Mutation\": \"Number of Mutations Luad\"})\n",
    "l_hotspot_G12 = l_hotspot_G12[[\"Number of Mutations Luad\"]]\n",
    "l_hotspot_G12"
   ]
  },
  {
   "cell_type": "code",
   "execution_count": 14,
   "metadata": {},
   "outputs": [
    {
     "data": {
      "text/html": [
       "<div>\n",
       "<style scoped>\n",
       "    .dataframe tbody tr th:only-of-type {\n",
       "        vertical-align: middle;\n",
       "    }\n",
       "\n",
       "    .dataframe tbody tr th {\n",
       "        vertical-align: top;\n",
       "    }\n",
       "\n",
       "    .dataframe thead th {\n",
       "        text-align: right;\n",
       "    }\n",
       "</style>\n",
       "<table border=\"1\" class=\"dataframe\">\n",
       "  <thead>\n",
       "    <tr style=\"text-align: right;\">\n",
       "      <th>Name</th>\n",
       "      <th>Number of Mutations Endometrial</th>\n",
       "    </tr>\n",
       "    <tr>\n",
       "      <th>Location</th>\n",
       "      <th></th>\n",
       "    </tr>\n",
       "  </thead>\n",
       "  <tbody>\n",
       "    <tr>\n",
       "      <th>p.G12A</th>\n",
       "      <td>1</td>\n",
       "    </tr>\n",
       "    <tr>\n",
       "      <th>p.G12C</th>\n",
       "      <td>4</td>\n",
       "    </tr>\n",
       "    <tr>\n",
       "      <th>p.G12D</th>\n",
       "      <td>6</td>\n",
       "    </tr>\n",
       "    <tr>\n",
       "      <th>p.G12S</th>\n",
       "      <td>1</td>\n",
       "    </tr>\n",
       "    <tr>\n",
       "      <th>p.G12V</th>\n",
       "      <td>10</td>\n",
       "    </tr>\n",
       "    <tr>\n",
       "      <th>p.G13D</th>\n",
       "      <td>7</td>\n",
       "    </tr>\n",
       "    <tr>\n",
       "      <th>p.Q61H</th>\n",
       "      <td>1</td>\n",
       "    </tr>\n",
       "  </tbody>\n",
       "</table>\n",
       "</div>"
      ],
      "text/plain": [
       "Name      Number of Mutations Endometrial\n",
       "Location                                 \n",
       "p.G12A                                  1\n",
       "p.G12C                                  4\n",
       "p.G12D                                  6\n",
       "p.G12S                                  1\n",
       "p.G12V                                 10\n",
       "p.G13D                                  7\n",
       "p.Q61H                                  1"
      ]
     },
     "execution_count": 14,
     "metadata": {},
     "output_type": "execute_result"
    }
   ],
   "source": [
    "en_mut_type = en.get_somatic_mutation()\n",
    "en_miss =en_mut_type.loc[en_mut_type['Mutation'] == \"Missense_Mutation\"]\n",
    "en_miss = en_miss.loc[en_miss['Gene'] == \"KRAS\"]\n",
    "hotspots = en_miss.groupby('Location').count()\n",
    "e_hotspot_G12 = hotspots[(hotspots.index.str.contains('G12')| hotspots.index.str.contains('G13') |hotspots.index.str.contains('Q61'))]\n",
    "e_hotspot_G12 = e_hotspot_G12.rename(columns={\"Mutation\": \"Number of Mutations Endometrial\"})\n",
    "e_hotspot_G12 = e_hotspot_G12[[\"Number of Mutations Endometrial\"]]\n",
    "\n",
    "e_hotspot_G12"
   ]
  },
  {
   "cell_type": "code",
   "execution_count": 15,
   "metadata": {},
   "outputs": [],
   "source": [
    "col_mut_type = col.get_somatic_mutation()\n",
    "col_miss =col_mut_type.loc[col_mut_type['Mutation'] == \"nonsynonymous SNV\"]\n",
    "col_miss = col_miss.loc[col_miss['Gene'] == \"KRAS\"]\n",
    "hotspots = col_miss.groupby('Location').count()\n",
    "c_hotspot_G12 = hotspots[(hotspots.index.str.contains('G12') | hotspots.index.str.contains('G13') |hotspots.index.str.contains('Q61'))]\n",
    "c_hotspot_G12 = c_hotspot_G12.rename(columns={\"Mutation\": \"Number of Mutations Colon\"})\n",
    "c_hotspot_G12 = c_hotspot_G12[[\"Number of Mutations Colon\"]]\n"
   ]
  },
  {
   "cell_type": "code",
   "execution_count": 16,
   "metadata": {},
   "outputs": [
    {
     "data": {
      "text/html": [
       "<div>\n",
       "<style scoped>\n",
       "    .dataframe tbody tr th:only-of-type {\n",
       "        vertical-align: middle;\n",
       "    }\n",
       "\n",
       "    .dataframe tbody tr th {\n",
       "        vertical-align: top;\n",
       "    }\n",
       "\n",
       "    .dataframe thead th {\n",
       "        text-align: right;\n",
       "    }\n",
       "</style>\n",
       "<table border=\"1\" class=\"dataframe\">\n",
       "  <thead>\n",
       "    <tr style=\"text-align: right;\">\n",
       "      <th>Name</th>\n",
       "      <th>Number of Mutations Luad</th>\n",
       "      <th>Number of Mutations Endometrial</th>\n",
       "      <th>Number of Mutations Colon</th>\n",
       "    </tr>\n",
       "    <tr>\n",
       "      <th>Location</th>\n",
       "      <th></th>\n",
       "      <th></th>\n",
       "      <th></th>\n",
       "    </tr>\n",
       "  </thead>\n",
       "  <tbody>\n",
       "    <tr>\n",
       "      <th>G12A</th>\n",
       "      <td>1.0</td>\n",
       "      <td>1.0</td>\n",
       "      <td>0.0</td>\n",
       "    </tr>\n",
       "    <tr>\n",
       "      <th>G12C</th>\n",
       "      <td>16.0</td>\n",
       "      <td>4.0</td>\n",
       "      <td>2.0</td>\n",
       "    </tr>\n",
       "    <tr>\n",
       "      <th>G12D</th>\n",
       "      <td>6.0</td>\n",
       "      <td>6.0</td>\n",
       "      <td>11.0</td>\n",
       "    </tr>\n",
       "    <tr>\n",
       "      <th>G12S</th>\n",
       "      <td>2.0</td>\n",
       "      <td>1.0</td>\n",
       "      <td>0.0</td>\n",
       "    </tr>\n",
       "    <tr>\n",
       "      <th>G12V</th>\n",
       "      <td>5.0</td>\n",
       "      <td>10.0</td>\n",
       "      <td>7.0</td>\n",
       "    </tr>\n",
       "    <tr>\n",
       "      <th>G13C</th>\n",
       "      <td>2.0</td>\n",
       "      <td>0.0</td>\n",
       "      <td>0.0</td>\n",
       "    </tr>\n",
       "    <tr>\n",
       "      <th>Q61H</th>\n",
       "      <td>1.0</td>\n",
       "      <td>1.0</td>\n",
       "      <td>2.0</td>\n",
       "    </tr>\n",
       "    <tr>\n",
       "      <th>G13D</th>\n",
       "      <td>0.0</td>\n",
       "      <td>7.0</td>\n",
       "      <td>4.0</td>\n",
       "    </tr>\n",
       "    <tr>\n",
       "      <th>Q61L</th>\n",
       "      <td>0.0</td>\n",
       "      <td>0.0</td>\n",
       "      <td>1.0</td>\n",
       "    </tr>\n",
       "  </tbody>\n",
       "</table>\n",
       "</div>"
      ],
      "text/plain": [
       "Name      Number of Mutations Luad  Number of Mutations Endometrial  \\\n",
       "Location                                                              \n",
       "G12A                           1.0                              1.0   \n",
       "G12C                          16.0                              4.0   \n",
       "G12D                           6.0                              6.0   \n",
       "G12S                           2.0                              1.0   \n",
       "G12V                           5.0                             10.0   \n",
       "G13C                           2.0                              0.0   \n",
       "Q61H                           1.0                              1.0   \n",
       "G13D                           0.0                              7.0   \n",
       "Q61L                           0.0                              0.0   \n",
       "\n",
       "Name      Number of Mutations Colon  \n",
       "Location                             \n",
       "G12A                            0.0  \n",
       "G12C                            2.0  \n",
       "G12D                           11.0  \n",
       "G12S                            0.0  \n",
       "G12V                            7.0  \n",
       "G13C                            0.0  \n",
       "Q61H                            2.0  \n",
       "G13D                            4.0  \n",
       "Q61L                            1.0  "
      ]
     },
     "execution_count": 16,
     "metadata": {},
     "output_type": "execute_result"
    }
   ],
   "source": [
    "hotspot_table = l_hotspot_G12.merge(e_hotspot_G12, on = \"Location\", how = \"outer\")\n",
    "\n",
    "hotspot_table.index = hotspot_table.index.str.replace(r'p.', \"\", regex = True)\n",
    "hotspot_table = hotspot_table.merge(c_hotspot_G12, on = \"Location\", how = \"outer\")\n",
    "hotspot_table = hotspot_table.fillna(0)\n",
    "\n",
    "hotspot_table.to_csv('G12_missense_mutations_table.csv')\n",
    "hotspot_table"
   ]
  },
  {
   "cell_type": "markdown",
   "metadata": {},
   "source": [
    "# Cis effect for only C12,C13, Q61 missense mutations"
   ]
  },
  {
   "cell_type": "code",
   "execution_count": 17,
   "metadata": {},
   "outputs": [],
   "source": [
    "'''\n",
    "Params\n",
    "all_prot: list of trans genes\n",
    "utils: from cptac\n",
    "\n",
    "Returns a dataframe with trans proteomics and mutation status (KRAS missense or wt)\n",
    "'''\n",
    "\n",
    "def hotspot_format_df(cancer_object, all_prot, gene_in = 'KRAS', utils = u):\n",
    "    \n",
    "    \n",
    "    # Keep only tumor samples from proteomics\n",
    "    prot_and_mutations = cancer_object.join_omics_to_mutations(\n",
    "        mutations_genes = [gene_in], omics_df_name = 'proteomics', omics_genes = all_prot,\n",
    "        tissue_type = 'tumor') # drop Normal samples\n",
    "    #Change columns to strings\n",
    "    \n",
    "    prot_and_mutations['KRAS_Mutation'] = [','.join(map(str, l)) for l in prot_and_mutations['KRAS_Mutation']]\n",
    "    prot_and_mutations['KRAS_Location'] = [','.join(map(str, l)) for l in prot_and_mutations['KRAS_Location']]\n",
    "    \n",
    "    # Reduce a multiindex \n",
    "    if isinstance(prot_and_mutations.keys(), pd.core.indexes.multi.MultiIndex):\n",
    "        prot_and_mutations = u.reduce_multiindex(prot_and_mutations, levels_to_drop = 1) \n",
    "    mut_type = prot_and_mutations\n",
    "    #mut_type[\"Mutation\"] = mut_type['Mutation'].replace(['nonsynonymous SNV'], 'Missense_Mutation')#for colon\n",
    "    hotspot = mut_type[(mut_type.KRAS_Location.str.contains('G12'))| \n",
    "                    mut_type.KRAS_Location.str.contains('G13')| \n",
    "                    mut_type.KRAS_Location.str.contains('Q61')]\n",
    "    wt = mut_type[(mut_type.KRAS_Mutation.str.contains('Wildtype'))]\n",
    "    hotspot_wt = pd.concat([hotspot, wt]) \n",
    "    #prot_df = hotspot_wt.iloc[:,:-3] # Keep only proteomics\n",
    " \n",
    "    \n",
    "    return hotspot_wt"
   ]
  },
  {
   "cell_type": "code",
   "execution_count": 18,
   "metadata": {},
   "outputs": [
    {
     "name": "stderr",
     "output_type": "stream",
     "text": [
      "cptac warning: In joining the somatic_mutation table, no mutations were found for the following samples, so they were filled with Wildtype_Tumor or Wildtype_Normal: 77 samples for the KRAS gene (/Users/Lindsey/anaconda3/lib/python3.7/site-packages/ipykernel_launcher.py, line 15)\n"
     ]
    },
    {
     "data": {
      "text/html": [
       "<div>\n",
       "<style scoped>\n",
       "    .dataframe tbody tr th:only-of-type {\n",
       "        vertical-align: middle;\n",
       "    }\n",
       "\n",
       "    .dataframe tbody tr th {\n",
       "        vertical-align: top;\n",
       "    }\n",
       "\n",
       "    .dataframe thead th {\n",
       "        text-align: right;\n",
       "    }\n",
       "</style>\n",
       "<table border=\"1\" class=\"dataframe\">\n",
       "  <thead>\n",
       "    <tr style=\"text-align: right;\">\n",
       "      <th>Name</th>\n",
       "      <th>KRAS_proteomics</th>\n",
       "      <th>KRAS_Mutation</th>\n",
       "      <th>KRAS_Location</th>\n",
       "      <th>KRAS_Mutation_Status</th>\n",
       "      <th>Sample_Status</th>\n",
       "    </tr>\n",
       "    <tr>\n",
       "      <th>Patient_ID</th>\n",
       "      <th></th>\n",
       "      <th></th>\n",
       "      <th></th>\n",
       "      <th></th>\n",
       "      <th></th>\n",
       "    </tr>\n",
       "  </thead>\n",
       "  <tbody>\n",
       "    <tr>\n",
       "      <th>C3L-00094</th>\n",
       "      <td>0.5142</td>\n",
       "      <td>Missense_Mutation</td>\n",
       "      <td>p.G12D</td>\n",
       "      <td>Single_mutation</td>\n",
       "      <td>Tumor</td>\n",
       "    </tr>\n",
       "    <tr>\n",
       "      <th>C3L-00263</th>\n",
       "      <td>-3.3885</td>\n",
       "      <td>Missense_Mutation</td>\n",
       "      <td>p.G12C</td>\n",
       "      <td>Single_mutation</td>\n",
       "      <td>Tumor</td>\n",
       "    </tr>\n",
       "    <tr>\n",
       "      <th>C3L-00279</th>\n",
       "      <td>0.4615</td>\n",
       "      <td>Missense_Mutation</td>\n",
       "      <td>p.G12D</td>\n",
       "      <td>Single_mutation</td>\n",
       "      <td>Tumor</td>\n",
       "    </tr>\n",
       "    <tr>\n",
       "      <th>C3L-00412</th>\n",
       "      <td>-2.8517</td>\n",
       "      <td>Missense_Mutation</td>\n",
       "      <td>p.G12C</td>\n",
       "      <td>Single_mutation</td>\n",
       "      <td>Tumor</td>\n",
       "    </tr>\n",
       "    <tr>\n",
       "      <th>C3L-00913</th>\n",
       "      <td>-0.8486</td>\n",
       "      <td>Missense_Mutation</td>\n",
       "      <td>p.G13C</td>\n",
       "      <td>Single_mutation</td>\n",
       "      <td>Tumor</td>\n",
       "    </tr>\n",
       "    <tr>\n",
       "      <th>...</th>\n",
       "      <td>...</td>\n",
       "      <td>...</td>\n",
       "      <td>...</td>\n",
       "      <td>...</td>\n",
       "      <td>...</td>\n",
       "    </tr>\n",
       "    <tr>\n",
       "      <th>C3N-02588</th>\n",
       "      <td>-0.7875</td>\n",
       "      <td>Wildtype_Tumor</td>\n",
       "      <td>No_mutation</td>\n",
       "      <td>Wildtype_Tumor</td>\n",
       "      <td>Tumor</td>\n",
       "    </tr>\n",
       "    <tr>\n",
       "      <th>C3N-02729</th>\n",
       "      <td>-0.2732</td>\n",
       "      <td>Wildtype_Tumor</td>\n",
       "      <td>No_mutation</td>\n",
       "      <td>Wildtype_Tumor</td>\n",
       "      <td>Tumor</td>\n",
       "    </tr>\n",
       "    <tr>\n",
       "      <th>X11LU013</th>\n",
       "      <td>0.8489</td>\n",
       "      <td>Wildtype_Tumor</td>\n",
       "      <td>No_mutation</td>\n",
       "      <td>Wildtype_Tumor</td>\n",
       "      <td>Tumor</td>\n",
       "    </tr>\n",
       "    <tr>\n",
       "      <th>X11LU016</th>\n",
       "      <td>-1.0046</td>\n",
       "      <td>Wildtype_Tumor</td>\n",
       "      <td>No_mutation</td>\n",
       "      <td>Wildtype_Tumor</td>\n",
       "      <td>Tumor</td>\n",
       "    </tr>\n",
       "    <tr>\n",
       "      <th>X11LU035</th>\n",
       "      <td>-0.8108</td>\n",
       "      <td>Wildtype_Tumor</td>\n",
       "      <td>No_mutation</td>\n",
       "      <td>Wildtype_Tumor</td>\n",
       "      <td>Tumor</td>\n",
       "    </tr>\n",
       "  </tbody>\n",
       "</table>\n",
       "<p>110 rows × 5 columns</p>\n",
       "</div>"
      ],
      "text/plain": [
       "Name        KRAS_proteomics      KRAS_Mutation KRAS_Location  \\\n",
       "Patient_ID                                                     \n",
       "C3L-00094            0.5142  Missense_Mutation        p.G12D   \n",
       "C3L-00263           -3.3885  Missense_Mutation        p.G12C   \n",
       "C3L-00279            0.4615  Missense_Mutation        p.G12D   \n",
       "C3L-00412           -2.8517  Missense_Mutation        p.G12C   \n",
       "C3L-00913           -0.8486  Missense_Mutation        p.G13C   \n",
       "...                     ...                ...           ...   \n",
       "C3N-02588           -0.7875     Wildtype_Tumor   No_mutation   \n",
       "C3N-02729           -0.2732     Wildtype_Tumor   No_mutation   \n",
       "X11LU013             0.8489     Wildtype_Tumor   No_mutation   \n",
       "X11LU016            -1.0046     Wildtype_Tumor   No_mutation   \n",
       "X11LU035            -0.8108     Wildtype_Tumor   No_mutation   \n",
       "\n",
       "Name       KRAS_Mutation_Status Sample_Status  \n",
       "Patient_ID                                     \n",
       "C3L-00094       Single_mutation         Tumor  \n",
       "C3L-00263       Single_mutation         Tumor  \n",
       "C3L-00279       Single_mutation         Tumor  \n",
       "C3L-00412       Single_mutation         Tumor  \n",
       "C3L-00913       Single_mutation         Tumor  \n",
       "...                         ...           ...  \n",
       "C3N-02588        Wildtype_Tumor         Tumor  \n",
       "C3N-02729        Wildtype_Tumor         Tumor  \n",
       "X11LU013         Wildtype_Tumor         Tumor  \n",
       "X11LU016         Wildtype_Tumor         Tumor  \n",
       "X11LU035         Wildtype_Tumor         Tumor  \n",
       "\n",
       "[110 rows x 5 columns]"
      ]
     },
     "execution_count": 18,
     "metadata": {},
     "output_type": "execute_result"
    }
   ],
   "source": [
    "l_hot_wt = hotspot_format_df(l, gene)\n",
    "l_hot_wt\n"
   ]
  },
  {
   "cell_type": "code",
   "execution_count": 19,
   "metadata": {},
   "outputs": [
    {
     "name": "stderr",
     "output_type": "stream",
     "text": [
      "cptac warning: In joining the somatic_mutation table, no mutations were found for the following samples, so they were filled with Wildtype_Tumor or Wildtype_Normal: 77 samples for the KRAS gene (/Users/Lindsey/anaconda3/lib/python3.7/site-packages/ipykernel_launcher.py, line 15)\n"
     ]
    },
    {
     "data": {
      "text/html": [
       "<div>\n",
       "<style scoped>\n",
       "    .dataframe tbody tr th:only-of-type {\n",
       "        vertical-align: middle;\n",
       "    }\n",
       "\n",
       "    .dataframe tbody tr th {\n",
       "        vertical-align: top;\n",
       "    }\n",
       "\n",
       "    .dataframe thead th {\n",
       "        text-align: right;\n",
       "    }\n",
       "</style>\n",
       "<table border=\"1\" class=\"dataframe\">\n",
       "  <thead>\n",
       "    <tr style=\"text-align: right;\">\n",
       "      <th></th>\n",
       "      <th>Comparison</th>\n",
       "      <th>P_Value</th>\n",
       "    </tr>\n",
       "  </thead>\n",
       "  <tbody>\n",
       "    <tr>\n",
       "      <th>0</th>\n",
       "      <td>KRAS_proteomics</td>\n",
       "      <td>0.02922</td>\n",
       "    </tr>\n",
       "  </tbody>\n",
       "</table>\n",
       "</div>"
      ],
      "text/plain": [
       "        Comparison  P_Value\n",
       "0  KRAS_proteomics  0.02922"
      ]
     },
     "execution_count": 19,
     "metadata": {},
     "output_type": "execute_result"
    }
   ],
   "source": [
    "l_hot_wt = hotspot_format_df(l, gene)\n",
    "purity = l.get_derived_molecular()\n",
    "purity = purity[[\"Tumor.Purity.byESTIMATE.RNAseq\"]]\n",
    "merged = l_hot_wt.merge(purity, on = \"Patient_ID\", how = \"left\")\n",
    "merged = merged.dropna()\n",
    "merged = merged.sort_values(by = \"Tumor.Purity.byESTIMATE.RNAseq\")\n",
    "luad_t_pure = merged.loc[merged['Tumor.Purity.byESTIMATE.RNAseq'] > 0.45]\n",
    "\n",
    "luad_hot_pval = u.wrap_ttest(luad_t_pure, 'KRAS_Mutation', ['KRAS_proteomics'],return_all=True)\n",
    "lp_hotspot = luad_hot_pval.P_Value[0]\n",
    "\n",
    "luad_hot_pval"
   ]
  },
  {
   "cell_type": "code",
   "execution_count": 20,
   "metadata": {},
   "outputs": [
    {
     "data": {
      "text/html": [
       "<div>\n",
       "<style scoped>\n",
       "    .dataframe tbody tr th:only-of-type {\n",
       "        vertical-align: middle;\n",
       "    }\n",
       "\n",
       "    .dataframe tbody tr th {\n",
       "        vertical-align: top;\n",
       "    }\n",
       "\n",
       "    .dataframe thead th {\n",
       "        text-align: right;\n",
       "    }\n",
       "</style>\n",
       "<table border=\"1\" class=\"dataframe\">\n",
       "  <thead>\n",
       "    <tr style=\"text-align: right;\">\n",
       "      <th></th>\n",
       "      <th>Comparison</th>\n",
       "      <th>P_Value</th>\n",
       "    </tr>\n",
       "  </thead>\n",
       "  <tbody>\n",
       "    <tr>\n",
       "      <th>0</th>\n",
       "      <td>KRAS_proteomics</td>\n",
       "      <td>0.253346</td>\n",
       "    </tr>\n",
       "  </tbody>\n",
       "</table>\n",
       "</div>"
      ],
      "text/plain": [
       "        Comparison   P_Value\n",
       "0  KRAS_proteomics  0.253346"
      ]
     },
     "execution_count": 20,
     "metadata": {},
     "output_type": "execute_result"
    }
   ],
   "source": [
    "\n",
    "luad_hot_pval2 = u.wrap_ttest(l_hot_wt, 'KRAS_Mutation', ['KRAS_proteomics'],return_all=True)\n",
    "lp_hotspot2 = luad_hot_pval2.P_Value[0]\n",
    "luad_hot_pval2"
   ]
  },
  {
   "cell_type": "code",
   "execution_count": 21,
   "metadata": {},
   "outputs": [
    {
     "name": "stderr",
     "output_type": "stream",
     "text": [
      "cptac warning: In joining the somatic_mutation table, no mutations were found for the following samples, so they were filled with Wildtype_Tumor or Wildtype_Normal: 72 samples for the KRAS gene (/Users/Lindsey/anaconda3/lib/python3.7/site-packages/ipykernel_launcher.py, line 15)\n",
      "cptac warning: proteomics data was not found for the following samples, so proteomics data columns were filled with NaN for these samples: 01CO001, 05CO005, 05CO007, 05CO014, 05CO055, 11CO059, 11CO060, 14CO002, 16CO012, 24CO005 (/Users/Lindsey/anaconda3/lib/python3.7/site-packages/ipykernel_launcher.py, line 15)\n"
     ]
    },
    {
     "data": {
      "text/html": [
       "<div>\n",
       "<style scoped>\n",
       "    .dataframe tbody tr th:only-of-type {\n",
       "        vertical-align: middle;\n",
       "    }\n",
       "\n",
       "    .dataframe tbody tr th {\n",
       "        vertical-align: top;\n",
       "    }\n",
       "\n",
       "    .dataframe thead th {\n",
       "        text-align: right;\n",
       "    }\n",
       "</style>\n",
       "<table border=\"1\" class=\"dataframe\">\n",
       "  <thead>\n",
       "    <tr style=\"text-align: right;\">\n",
       "      <th></th>\n",
       "      <th>Comparison</th>\n",
       "      <th>P_Value</th>\n",
       "    </tr>\n",
       "  </thead>\n",
       "  <tbody>\n",
       "    <tr>\n",
       "      <th>0</th>\n",
       "      <td>KRAS_proteomics</td>\n",
       "      <td>0.061823</td>\n",
       "    </tr>\n",
       "  </tbody>\n",
       "</table>\n",
       "</div>"
      ],
      "text/plain": [
       "        Comparison   P_Value\n",
       "0  KRAS_proteomics  0.061823"
      ]
     },
     "execution_count": 21,
     "metadata": {},
     "output_type": "execute_result"
    }
   ],
   "source": [
    "c_hot_wt = hotspot_format_df(col, gene)\n",
    "\n",
    "purity = col.get_derived_molecular()\n",
    "purity = purity[[\"TumorPurity\"]]\n",
    "merged = c_hot_wt.merge(purity, on = \"Patient_ID\", how = \"left\")\n",
    "merged = merged.dropna()\n",
    "merged = merged.sort_values(by = \"TumorPurity\")\n",
    "\n",
    "col_t_pure = merged.loc[merged['TumorPurity'] > 0.45]\n",
    "col_hot_pval = u.wrap_ttest(col_t_pure, 'KRAS_Mutation', ['KRAS_proteomics'],return_all=True)\n",
    "col_hotspot = col_hot_pval.P_Value[0]\n",
    "col_hot_pval"
   ]
  },
  {
   "cell_type": "code",
   "execution_count": 22,
   "metadata": {},
   "outputs": [
    {
     "data": {
      "text/html": [
       "<div>\n",
       "<style scoped>\n",
       "    .dataframe tbody tr th:only-of-type {\n",
       "        vertical-align: middle;\n",
       "    }\n",
       "\n",
       "    .dataframe tbody tr th {\n",
       "        vertical-align: top;\n",
       "    }\n",
       "\n",
       "    .dataframe thead th {\n",
       "        text-align: right;\n",
       "    }\n",
       "</style>\n",
       "<table border=\"1\" class=\"dataframe\">\n",
       "  <thead>\n",
       "    <tr style=\"text-align: right;\">\n",
       "      <th></th>\n",
       "      <th>Comparison</th>\n",
       "      <th>P_Value</th>\n",
       "    </tr>\n",
       "  </thead>\n",
       "  <tbody>\n",
       "    <tr>\n",
       "      <th>0</th>\n",
       "      <td>KRAS_proteomics</td>\n",
       "      <td>0.065578</td>\n",
       "    </tr>\n",
       "  </tbody>\n",
       "</table>\n",
       "</div>"
      ],
      "text/plain": [
       "        Comparison   P_Value\n",
       "0  KRAS_proteomics  0.065578"
      ]
     },
     "execution_count": 22,
     "metadata": {},
     "output_type": "execute_result"
    }
   ],
   "source": [
    "\n",
    "col_hot_pval2 = u.wrap_ttest(c_hot_wt, 'KRAS_Mutation', ['KRAS_proteomics'],return_all=True)\n",
    "col_hotspot2 = col_hot_pval2.P_Value[0]\n",
    "col_hot_pval2"
   ]
  },
  {
   "cell_type": "code",
   "execution_count": 23,
   "metadata": {
    "scrolled": true
   },
   "outputs": [
    {
     "name": "stderr",
     "output_type": "stream",
     "text": [
      "cptac warning: In joining the somatic_mutation table, no mutations were found for the following samples, so they were filled with Wildtype_Tumor or Wildtype_Normal: 64 samples for the KRAS gene (/Users/Lindsey/anaconda3/lib/python3.7/site-packages/ipykernel_launcher.py, line 15)\n"
     ]
    },
    {
     "data": {
      "text/html": [
       "<div>\n",
       "<style scoped>\n",
       "    .dataframe tbody tr th:only-of-type {\n",
       "        vertical-align: middle;\n",
       "    }\n",
       "\n",
       "    .dataframe tbody tr th {\n",
       "        vertical-align: top;\n",
       "    }\n",
       "\n",
       "    .dataframe thead th {\n",
       "        text-align: right;\n",
       "    }\n",
       "</style>\n",
       "<table border=\"1\" class=\"dataframe\">\n",
       "  <thead>\n",
       "    <tr style=\"text-align: right;\">\n",
       "      <th></th>\n",
       "      <th>Comparison</th>\n",
       "      <th>P_Value</th>\n",
       "    </tr>\n",
       "  </thead>\n",
       "  <tbody>\n",
       "    <tr>\n",
       "      <th>0</th>\n",
       "      <td>KRAS_proteomics</td>\n",
       "      <td>0.045386</td>\n",
       "    </tr>\n",
       "  </tbody>\n",
       "</table>\n",
       "</div>"
      ],
      "text/plain": [
       "        Comparison   P_Value\n",
       "0  KRAS_proteomics  0.045386"
      ]
     },
     "execution_count": 23,
     "metadata": {},
     "output_type": "execute_result"
    }
   ],
   "source": [
    "en_hot_wt = hotspot_format_df(en, gene)\n",
    "purity = en.get_derived_molecular()\n",
    "purity = purity[[\"Purity_Cancer\"]]\n",
    "merged = en_hot_wt.merge(purity, on = \"Patient_ID\", how = \"left\")\n",
    "merged = merged.dropna()\n",
    "merged = merged.sort_values(by = \"Purity_Cancer\")\n",
    "en_t_pure = merged.loc[merged['Purity_Cancer'] > 0.45]\n",
    "en_t_pure.at['C3L-00008', 'KRAS_Mutation']  = \"Missense_Mutation\" #corrected double missense mutation\n",
    "\n",
    "en_hot_pval = u.wrap_ttest(en_t_pure, 'KRAS_Mutation', ['KRAS_proteomics'],return_all=True)\n",
    "en_hotspot = en_hot_pval.P_Value[0]\n",
    "en_hot_pval\n"
   ]
  },
  {
   "cell_type": "code",
   "execution_count": 24,
   "metadata": {},
   "outputs": [
    {
     "name": "stderr",
     "output_type": "stream",
     "text": [
      "cptac warning: In joining the somatic_mutation table, no mutations were found for the following samples, so they were filled with Wildtype_Tumor or Wildtype_Normal: 64 samples for the KRAS gene (/Users/Lindsey/anaconda3/lib/python3.7/site-packages/ipykernel_launcher.py, line 15)\n"
     ]
    },
    {
     "data": {
      "text/html": [
       "<div>\n",
       "<style scoped>\n",
       "    .dataframe tbody tr th:only-of-type {\n",
       "        vertical-align: middle;\n",
       "    }\n",
       "\n",
       "    .dataframe tbody tr th {\n",
       "        vertical-align: top;\n",
       "    }\n",
       "\n",
       "    .dataframe thead th {\n",
       "        text-align: right;\n",
       "    }\n",
       "</style>\n",
       "<table border=\"1\" class=\"dataframe\">\n",
       "  <thead>\n",
       "    <tr style=\"text-align: right;\">\n",
       "      <th></th>\n",
       "      <th>Comparison</th>\n",
       "      <th>P_Value</th>\n",
       "    </tr>\n",
       "  </thead>\n",
       "  <tbody>\n",
       "    <tr>\n",
       "      <th>0</th>\n",
       "      <td>KRAS_proteomics</td>\n",
       "      <td>0.016973</td>\n",
       "    </tr>\n",
       "  </tbody>\n",
       "</table>\n",
       "</div>"
      ],
      "text/plain": [
       "        Comparison   P_Value\n",
       "0  KRAS_proteomics  0.016973"
      ]
     },
     "execution_count": 24,
     "metadata": {},
     "output_type": "execute_result"
    }
   ],
   "source": [
    "en_hot_wt = hotspot_format_df(en, gene)\n",
    "\n",
    "en_hot_wt.at['C3L-00008', 'KRAS_Mutation']  = \"Missense_Mutation\"\n",
    "en_hot_pval2 = u.wrap_ttest(en_hot_wt, 'KRAS_Mutation', ['KRAS_proteomics'],return_all=True)\n",
    "en_hotspot2 = en_hot_pval2.P_Value[0]\n",
    "en_hot_pval2"
   ]
  },
  {
   "cell_type": "code",
   "execution_count": 25,
   "metadata": {},
   "outputs": [],
   "source": [
    "col_t_pure =  col_t_pure.replace(to_replace = r'nonsynonymous SNV', value = 'Hotspot_Mutation', regex = True)\n",
    "l_hot_wt = luad_t_pure.assign(cancer = 'Luad')\n",
    "c_hot_wt = col_t_pure.assign(cancer = 'Colon')\n",
    "en_hot_wt = en_t_pure.assign(cancer = 'Endometrial')"
   ]
  },
  {
   "cell_type": "code",
   "execution_count": 26,
   "metadata": {},
   "outputs": [
    {
     "data": {
      "text/html": [
       "<div>\n",
       "<style scoped>\n",
       "    .dataframe tbody tr th:only-of-type {\n",
       "        vertical-align: middle;\n",
       "    }\n",
       "\n",
       "    .dataframe tbody tr th {\n",
       "        vertical-align: top;\n",
       "    }\n",
       "\n",
       "    .dataframe thead th {\n",
       "        text-align: right;\n",
       "    }\n",
       "</style>\n",
       "<table border=\"1\" class=\"dataframe\">\n",
       "  <thead>\n",
       "    <tr style=\"text-align: right;\">\n",
       "      <th></th>\n",
       "      <th>KRAS_proteomics</th>\n",
       "      <th>KRAS_Mutation</th>\n",
       "      <th>KRAS_Location</th>\n",
       "      <th>KRAS_Mutation_Status</th>\n",
       "      <th>Sample_Status</th>\n",
       "      <th>Tumor.Purity.byESTIMATE.RNAseq</th>\n",
       "      <th>cancer</th>\n",
       "      <th>TumorPurity</th>\n",
       "      <th>Purity_Cancer</th>\n",
       "    </tr>\n",
       "    <tr>\n",
       "      <th>Patient_ID</th>\n",
       "      <th></th>\n",
       "      <th></th>\n",
       "      <th></th>\n",
       "      <th></th>\n",
       "      <th></th>\n",
       "      <th></th>\n",
       "      <th></th>\n",
       "      <th></th>\n",
       "      <th></th>\n",
       "    </tr>\n",
       "  </thead>\n",
       "  <tbody>\n",
       "    <tr>\n",
       "      <th>C3N-02423</th>\n",
       "      <td>0.2598</td>\n",
       "      <td>Hotspot_Mutation</td>\n",
       "      <td>p.G12C</td>\n",
       "      <td>Single_mutation</td>\n",
       "      <td>Tumor</td>\n",
       "      <td>0.451350</td>\n",
       "      <td>Luad</td>\n",
       "      <td>NaN</td>\n",
       "      <td>NaN</td>\n",
       "    </tr>\n",
       "    <tr>\n",
       "      <th>C3N-00556</th>\n",
       "      <td>1.5687</td>\n",
       "      <td>Hotspot_Mutation</td>\n",
       "      <td>p.G12C</td>\n",
       "      <td>Single_mutation</td>\n",
       "      <td>Tumor</td>\n",
       "      <td>0.460828</td>\n",
       "      <td>Luad</td>\n",
       "      <td>NaN</td>\n",
       "      <td>NaN</td>\n",
       "    </tr>\n",
       "    <tr>\n",
       "      <th>C3N-02003</th>\n",
       "      <td>0.0921</td>\n",
       "      <td>Wildtype_Tumor</td>\n",
       "      <td>No_mutation</td>\n",
       "      <td>Wildtype_Tumor</td>\n",
       "      <td>Tumor</td>\n",
       "      <td>0.469318</td>\n",
       "      <td>Luad</td>\n",
       "      <td>NaN</td>\n",
       "      <td>NaN</td>\n",
       "    </tr>\n",
       "    <tr>\n",
       "      <th>C3N-01489</th>\n",
       "      <td>0.3391</td>\n",
       "      <td>Hotspot_Mutation</td>\n",
       "      <td>p.G12V</td>\n",
       "      <td>Single_mutation</td>\n",
       "      <td>Tumor</td>\n",
       "      <td>0.472088</td>\n",
       "      <td>Luad</td>\n",
       "      <td>NaN</td>\n",
       "      <td>NaN</td>\n",
       "    </tr>\n",
       "    <tr>\n",
       "      <th>C3N-01488</th>\n",
       "      <td>-0.1074</td>\n",
       "      <td>Hotspot_Mutation</td>\n",
       "      <td>p.G12D</td>\n",
       "      <td>Single_mutation</td>\n",
       "      <td>Tumor</td>\n",
       "      <td>0.472440</td>\n",
       "      <td>Luad</td>\n",
       "      <td>NaN</td>\n",
       "      <td>NaN</td>\n",
       "    </tr>\n",
       "    <tr>\n",
       "      <th>...</th>\n",
       "      <td>...</td>\n",
       "      <td>...</td>\n",
       "      <td>...</td>\n",
       "      <td>...</td>\n",
       "      <td>...</td>\n",
       "      <td>...</td>\n",
       "      <td>...</td>\n",
       "      <td>...</td>\n",
       "      <td>...</td>\n",
       "    </tr>\n",
       "    <tr>\n",
       "      <th>C3N-01510</th>\n",
       "      <td>0.2050</td>\n",
       "      <td>Wildtype_Tumor</td>\n",
       "      <td>No_mutation</td>\n",
       "      <td>Wildtype_Tumor</td>\n",
       "      <td>Tumor</td>\n",
       "      <td>NaN</td>\n",
       "      <td>Endometrial</td>\n",
       "      <td>NaN</td>\n",
       "      <td>0.753031</td>\n",
       "    </tr>\n",
       "    <tr>\n",
       "      <th>C3N-00377</th>\n",
       "      <td>0.5730</td>\n",
       "      <td>Wildtype_Tumor</td>\n",
       "      <td>No_mutation</td>\n",
       "      <td>Wildtype_Tumor</td>\n",
       "      <td>Tumor</td>\n",
       "      <td>NaN</td>\n",
       "      <td>Endometrial</td>\n",
       "      <td>NaN</td>\n",
       "      <td>0.763209</td>\n",
       "    </tr>\n",
       "    <tr>\n",
       "      <th>C3N-00858</th>\n",
       "      <td>0.0413</td>\n",
       "      <td>Wildtype_Tumor</td>\n",
       "      <td>No_mutation</td>\n",
       "      <td>Wildtype_Tumor</td>\n",
       "      <td>Tumor</td>\n",
       "      <td>NaN</td>\n",
       "      <td>Endometrial</td>\n",
       "      <td>NaN</td>\n",
       "      <td>0.763673</td>\n",
       "    </tr>\n",
       "    <tr>\n",
       "      <th>C3L-01744</th>\n",
       "      <td>-0.0533</td>\n",
       "      <td>Wildtype_Tumor</td>\n",
       "      <td>No_mutation</td>\n",
       "      <td>Wildtype_Tumor</td>\n",
       "      <td>Tumor</td>\n",
       "      <td>NaN</td>\n",
       "      <td>Endometrial</td>\n",
       "      <td>NaN</td>\n",
       "      <td>0.772353</td>\n",
       "    </tr>\n",
       "    <tr>\n",
       "      <th>C3L-00361</th>\n",
       "      <td>0.5200</td>\n",
       "      <td>Wildtype_Tumor</td>\n",
       "      <td>No_mutation</td>\n",
       "      <td>Wildtype_Tumor</td>\n",
       "      <td>Tumor</td>\n",
       "      <td>NaN</td>\n",
       "      <td>Endometrial</td>\n",
       "      <td>NaN</td>\n",
       "      <td>0.848209</td>\n",
       "    </tr>\n",
       "  </tbody>\n",
       "</table>\n",
       "<p>229 rows × 9 columns</p>\n",
       "</div>"
      ],
      "text/plain": [
       "            KRAS_proteomics     KRAS_Mutation KRAS_Location  \\\n",
       "Patient_ID                                                    \n",
       "C3N-02423            0.2598  Hotspot_Mutation        p.G12C   \n",
       "C3N-00556            1.5687  Hotspot_Mutation        p.G12C   \n",
       "C3N-02003            0.0921    Wildtype_Tumor   No_mutation   \n",
       "C3N-01489            0.3391  Hotspot_Mutation        p.G12V   \n",
       "C3N-01488           -0.1074  Hotspot_Mutation        p.G12D   \n",
       "...                     ...               ...           ...   \n",
       "C3N-01510            0.2050    Wildtype_Tumor   No_mutation   \n",
       "C3N-00377            0.5730    Wildtype_Tumor   No_mutation   \n",
       "C3N-00858            0.0413    Wildtype_Tumor   No_mutation   \n",
       "C3L-01744           -0.0533    Wildtype_Tumor   No_mutation   \n",
       "C3L-00361            0.5200    Wildtype_Tumor   No_mutation   \n",
       "\n",
       "           KRAS_Mutation_Status Sample_Status  Tumor.Purity.byESTIMATE.RNAseq  \\\n",
       "Patient_ID                                                                      \n",
       "C3N-02423       Single_mutation         Tumor                        0.451350   \n",
       "C3N-00556       Single_mutation         Tumor                        0.460828   \n",
       "C3N-02003        Wildtype_Tumor         Tumor                        0.469318   \n",
       "C3N-01489       Single_mutation         Tumor                        0.472088   \n",
       "C3N-01488       Single_mutation         Tumor                        0.472440   \n",
       "...                         ...           ...                             ...   \n",
       "C3N-01510        Wildtype_Tumor         Tumor                             NaN   \n",
       "C3N-00377        Wildtype_Tumor         Tumor                             NaN   \n",
       "C3N-00858        Wildtype_Tumor         Tumor                             NaN   \n",
       "C3L-01744        Wildtype_Tumor         Tumor                             NaN   \n",
       "C3L-00361        Wildtype_Tumor         Tumor                             NaN   \n",
       "\n",
       "                 cancer  TumorPurity  Purity_Cancer  \n",
       "Patient_ID                                           \n",
       "C3N-02423          Luad          NaN            NaN  \n",
       "C3N-00556          Luad          NaN            NaN  \n",
       "C3N-02003          Luad          NaN            NaN  \n",
       "C3N-01489          Luad          NaN            NaN  \n",
       "C3N-01488          Luad          NaN            NaN  \n",
       "...                 ...          ...            ...  \n",
       "C3N-01510   Endometrial          NaN       0.753031  \n",
       "C3N-00377   Endometrial          NaN       0.763209  \n",
       "C3N-00858   Endometrial          NaN       0.763673  \n",
       "C3L-01744   Endometrial          NaN       0.772353  \n",
       "C3L-00361   Endometrial          NaN       0.848209  \n",
       "\n",
       "[229 rows x 9 columns]"
      ]
     },
     "execution_count": 26,
     "metadata": {},
     "output_type": "execute_result"
    }
   ],
   "source": [
    "df = l_hot_wt.append(c_hot_wt)\n",
    "df2_hotspot = df.append(en_hot_wt)\n",
    "df2_hotspot =  df2_hotspot.replace(to_replace = r'Missense_Mutation', value = 'Hotspot_Mutation', regex = True)\n",
    "df2_hotspot"
   ]
  },
  {
   "cell_type": "code",
   "execution_count": 31,
   "metadata": {},
   "outputs": [
    {
     "name": "stdout",
     "output_type": "stream",
     "text": [
      "p-values: \n",
      "\n",
      "Luad 0.029219955033721722 \n",
      "\n",
      "Colon 0.06182336991722686 \n",
      "\n",
      "Endo 0.04538577182710845 \n",
      "\n"
     ]
    },
    {
     "data": {
      "image/png": "[encoded data removed]",
      "text/plain": [
       "<Figure size 842.4x612 with 1 Axes>"
      ]
     },
     "metadata": {},
     "output_type": "display_data"
    }
   ],
   "source": [
    "# cis plot\n",
    "gene = 'KRAS'\n",
    "plt.rcParams['figure.figsize']=(11.7, 8.5) #size of plot\n",
    "\n",
    "sns.set(font_scale = 1.2, style = \"white\")\n",
    "\n",
    "boxplot = sns.boxplot(x='cancer', y=gene+\"_proteomics\", data = df2_hotspot, hue = 'KRAS_Mutation'\n",
    "                      ,hue_order = [\"Wildtype_Tumor\", \"Hotspot_Mutation\"], showfliers = False)   \n",
    "#boxplot.set_title('Pancancer cis effect of KRAS Missense')\n",
    "boxplot = sns.stripplot(x='cancer', y=gene+\"_proteomics\", data = df2_hotspot, jitter = True, \n",
    "                           color = \".3\", hue = 'KRAS_Mutation', hue_order = [\"Wildtype_Tumor\", \"Hotspot_Mutation\"], dodge = True)\n",
    "boxplot.set(xlabel = \"\\nKRAS Mutation Status\", ylabel = gene+' Proteomics')\n",
    "\n",
    "# format legend\n",
    "handles, labels = boxplot.get_legend_handles_labels()\n",
    "plt.legend(handles[0:3], labels[0:3])\n",
    "\n",
    "# Create significance symbols:\n",
    "# * P < 0.015   ** P < 0.001   *** P < 0.0001 \n",
    "cancer_pvals = {'Luad':lp_hotspot, 'Colon':col_hotspot, 'Endo':en_hotspot}\n",
    "\n",
    "# create pval annotations\n",
    "symbols = {}\n",
    "print('p-values: \\n')\n",
    "for cancer in cancer_pvals:\n",
    "    val = str(cancer_pvals[cancer])\n",
    "    if cancer_pvals[cancer]  < 0.0001:\n",
    "        symbols[cancer] = '***'\n",
    "    elif cancer_pvals[cancer]  < 0.001:\n",
    "        symbols[cancer] = '**'  \n",
    "    elif cancer_pvals[cancer]  < 0.05:\n",
    "        symbols[cancer] = '*'\n",
    "    elif cancer_pvals[cancer]  > 0.05:\n",
    "        symbols[cancer] = 'ns'\n",
    "    print(cancer, val, '\\n')\n",
    "\n",
    "\n",
    "format_pval_annotation(symbols['Luad'], -0.5, 0.5, 2.5)  # Luad\n",
    "format_pval_annotation(symbols['Colon'], 0.6, 1.4, 1.5)  # Colon\n",
    "format_pval_annotation(symbols['Endo'], 1.7, 2.4, 1) # Endometrial\n",
    "plt.show()\n",
    "plt.clf()\n",
    "plt.close()"
   ]
  },
  {
   "cell_type": "code",
   "execution_count": 28,
   "metadata": {},
   "outputs": [],
   "source": [
    "# Save figure\n",
    "fig = boxplot.get_figure()\n",
    "fig.savefig(\"KRAS_hotspot_cis_effect.png\", dpi = 300)"
   ]
  },
  {
   "cell_type": "code",
   "execution_count": null,
   "metadata": {},
   "outputs": [],
   "source": []
  },
  {
   "cell_type": "code",
   "execution_count": null,
   "metadata": {},
   "outputs": [],
   "source": []
  },
  {
   "cell_type": "code",
   "execution_count": null,
   "metadata": {},
   "outputs": [],
   "source": []
  },
  {
   "cell_type": "code",
   "execution_count": null,
   "metadata": {},
   "outputs": [],
   "source": []
  },
  {
   "cell_type": "code",
   "execution_count": null,
   "metadata": {},
   "outputs": [],
   "source": []
  }
 ],
 "metadata": {
  "kernelspec": {
   "display_name": "Python 3",
   "language": "python",
   "name": "python3"
  },
  "language_info": {
   "codemirror_mode": {
    "name": "ipython",
    "version": 3
   },
   "file_extension": ".py",
   "mimetype": "text/x-python",
   "name": "python",
   "nbconvert_exporter": "python",
   "pygments_lexer": "ipython3",
   "version": "3.7.3"
  }
 },
 "nbformat": 4,
 "nbformat_minor": 2
}
